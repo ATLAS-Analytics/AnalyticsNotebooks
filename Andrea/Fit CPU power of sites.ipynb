{
 "cells": [
  {
   "cell_type": "code",
   "execution_count": 16,
   "metadata": {
    "collapsed": true
   },
   "outputs": [],
   "source": [
    "import sys\n",
    "from collections import defaultdict, OrderedDict\n",
    "import pprint as pp\n",
    "import numpy as np\n",
    "import pandas as pd\n",
    "import scipy.optimize as optimize"
   ]
  },
  {
   "cell_type": "code",
   "execution_count": 17,
   "metadata": {
    "collapsed": false
   },
   "outputs": [],
   "source": [
    "df = pd.read_csv('task_cpu_90d_1.csv', names=['jeditaskid', 'processingtype', 'transformation', 'atlrel', 'site',\n",
    "                                                               'cputype', 'njobs', 'cpuevt_avg', 'cpuevt_rms', 'wallevt_avg',\n",
    "                                                               'wallevt_rms', 'cpu', 'wc', 'cores', 'jevts', 'eff'])"
   ]
  },
  {
   "cell_type": "code",
   "execution_count": 18,
   "metadata": {
    "collapsed": false
   },
   "outputs": [
    {
     "name": "stdout",
     "output_type": "stream",
     "text": [
      "   jeditaskid processingtype transformation        atlrel            site  \\\n",
      "0     7965039           pile     Reco_tf.py  Atlas-20.7.5  BNL_PROD_MCORE   \n",
      "1     7981879           pile     Reco_tf.py  Atlas-20.7.5  BNL_PROD_MCORE   \n",
      "2     7915139           pile     Reco_tf.py  Atlas-20.7.5  BNL_PROD_MCORE   \n",
      "3     7915930           pile     Reco_tf.py  Atlas-20.7.5  BNL_PROD_MCORE   \n",
      "4     7982179           pile     Reco_tf.py  Atlas-20.7.5  BNL_PROD_MCORE   \n",
      "5     8536082           pile     Reco_tf.py  Atlas-20.7.5  BNL_PROD_MCORE   \n",
      "6     8428223           pile     Reco_tf.py  Atlas-20.7.5  BNL_PROD_MCORE   \n",
      "7     8278972           pile     Reco_tf.py  Atlas-20.7.5  BNL_PROD_MCORE   \n",
      "8     7982154           pile     Reco_tf.py  Atlas-20.7.5  BNL_PROD_MCORE   \n",
      "9     8274093           pile     Reco_tf.py  Atlas-20.7.5  BNL_PROD_MCORE   \n",
      "\n",
      "                                             cputype  njobs  cpuevt_avg  \\\n",
      "0  s+Intel(R) Xeon(R) CPU E5-2660 v3 @ 2.60GHz 25...   2590   46.224859   \n",
      "1  s+Intel(R) Xeon(R) CPU E5-2660 v3 @ 2.60GHz 25...   1381   31.600885   \n",
      "2  s+Intel(R) Xeon(R) CPU E5-2660 v3 @ 2.60GHz 25...    863   36.034934   \n",
      "3  s+Intel(R) Xeon(R) CPU E5-2660 v3 @ 2.60GHz 25...    812   43.681844   \n",
      "4  s+Intel(R) Xeon(R) CPU E5-2660 v3 @ 2.60GHz 25...    713   37.418258   \n",
      "5  s+Intel(R) Xeon(R) CPU E5-2660 v3 @ 2.60GHz 25...    659   43.519570   \n",
      "6  s+Intel(R) Xeon(R) CPU E5-2660 v3 @ 2.60GHz 25...    620   36.172428   \n",
      "7  s+Intel(R) Xeon(R) CPU E5-2660 v3 @ 2.60GHz 25...    565   35.555441   \n",
      "8  s+Intel(R) Xeon(R) CPU E5-2660 v3 @ 2.60GHz 25...    546   37.401799   \n",
      "9  s+Intel(R) Xeon(R) CPU E5-2660 v3 @ 2.60GHz 25...    542   36.473705   \n",
      "\n",
      "   cpuevt_rms  wallevt_avg  wallevt_rms        cpu         wc  cores    jevts  \\\n",
      "0    3.644487    67.176550     9.305056  239444770  347974528      8  5180000   \n",
      "1    3.069398    50.564087     7.647629   87281645  139658008      8  2762000   \n",
      "2    1.972760    51.762109     3.637525   62161758   89284696      8  1725000   \n",
      "3    2.663877    64.953300    11.333624   70939314  105484160      8  1624000   \n",
      "4    3.739964    60.096561    10.697716   53358436   85697696      8  1426000   \n",
      "5    5.110412   127.004085    22.288418   57358793  167391384      8  1318000   \n",
      "6    1.743342    49.657955     2.849895   44853811   61575864      8  1240000   \n",
      "7    1.831632    49.020842     2.681308   40140549   55335864      8  1129000   \n",
      "8    3.160591    61.530403    11.318743   40842765   67191200      8  1092000   \n",
      "9    2.857887    52.947151     5.077421   39537496   57394712      8  1084000   \n",
      "\n",
      "        eff  \n",
      "0  0.697396  \n",
      "1  0.633121  \n",
      "2  0.697976  \n",
      "3  0.684909  \n",
      "4  0.639449  \n",
      "5  0.350855  \n",
      "6  0.729161  \n",
      "7  0.725667  \n",
      "8  0.624514  \n",
      "9  0.690494  \n"
     ]
    }
   ],
   "source": [
    "print df[0:10]"
   ]
  },
  {
   "cell_type": "code",
   "execution_count": 19,
   "metadata": {
    "collapsed": false
   },
   "outputs": [
    {
     "name": "stdout",
     "output_type": "stream",
     "text": [
      "['MWT2_SL6', 'FZK-LCG2', 'CERN-PROD-preprod', 'DESY-HH', 'INFN-T1', 'UKI-SCOTGRID-GLASGOW_SL6', 'UKI-LT2-Brunel_SL6', 'SLACXRD', 'praguelcg2', 'CA-VICTORIA-WESTGRID-T2', 'CERN-PROD', 'UKI-LT2-QMUL_SL6', 'TOKYO', 'OU_OCHEP_SWT2', 'UKI-NORTHGRID-LANCS-HEP_SL6', 'BNL_PROD', 'SWT2_CPB', 'Lucille_CE', 'IFIC', 'LPC', 'pic', 'RAL-LCG2_SL6', 'AGLT2_SL6', 'GRIF-IRFU', 'UNIBE-LHEP', 'DESY-HH_Condor', 'IHEP_PROD', 'UKI-LT2-RHUL_SL6', 'UNI-FREIBURG', 'JINR_PROD', 'RRC-KI-T1', 'CPPM', 'INFN-LECCE', 'CYFRONET-LCG2', 'INFN-NAPOLI-ATLAS', 'BU_ATLAS_Tier2_SL6', 'INFN-FRASCATI', 'GRIF-LPNHE', 'LRZ-LMU', 'Taiwan-LCG2_VL', 'NIKHEF-ELPROD', 'LRZ-LMU_C2PAP', 'wuppertalprod', 'Australia-ATLAS', 'UKI-SOUTHGRID-RALPP_SL6', 'Taiwan-LCG2', 'FMPhI-UNIBA', 'INFN-T1-BA', 'GRIF-LAL_HTCondor', 'IFAE', 'UNI-DORTMUND', 'CA-MCGILL-CLUMEQ-T2', 'UKI-SOUTHGRID-OX-HEP_SL6', 'DESY-ZN', 'TRIUMF', 'UKI-SCOTGRID-ECDF_SL6', 'UKI-NORTHGRID-LIV-HEP_SL6', 'INFN-ROMA1', 'ROMANIA07', 'IN2P3-LPSC', 'GoeGrid', 'UTA_SWT2', 'UKI-NORTHGRID-MAN-HEP_SL6', 'ATLAS_OPP_OSG', 'CA-SCINET-T2', 'BEIJING', 'TECHNION-HEP', 'IAAS', 'UKI-SOUTHGRID-BHAM-HEP_SL6', 'SLACXRD_MP8', 'UKI-NORTHGRID-SHEF-HEP_SL6', 'ROMANIA02', 'ROMANIA07_ARC', 'TW-FTT_SL6', 'IN2P3-CC-T3_VM01', 'BNL_LOCAL', 'FZK-LCG2_MCORE_LO', 'CERN-P1_MCORE', 'UAM-LCG2', 'SFU-LCG2', 'GR-12-TEIKAV', 'LAPP', 'SiGNET_MCORE', 'RRC-KI-HPC2', 'BNL_ATLAS_2', 'INFN-MILANO-ATLASC', 'ROMANIA16', 'IN2P3-CC_MCORE_HIMEM', 'DESY-HH_MCORE', 'IN2P3-CC', 'HPC2N', 'CERN-PROD_MCORE', 'EELA-UTFSM', 'SiGNET', 'SARA-MATRIX', 'INFN-GENOVA', 'UKI-SCOTGRID-DURHAM_SL6', 'IL-TAU-HEP', 'IN2P3-CC_VVL', 'INFN-COSENZA-RECAS', 'IL-TAU-HEP_MCORE', 'UKI-LT2-QMUL_HIMEM_SL6', 'CONNECT', 'NCG-INGRID-PT_SL6', 'UKI-SCOTGRID-GLASGOW_MCORE', 'ITEP_MCORE', 'UNIBE-LHEP_MCORE', 'TOKYO_MCORE', 'NIKHEF-ELPROD_MCORE', 'TRIUMF_HIMEM', 'SWT2_CPB_MCORE', 'UKI-LT2-IC-HEP_MCORE', 'INFN-MILANO-ATLASC_MCORE', 'CSCS-LCG2', 'GRIF-LAL_HTCondor_MCORE', 'DESY-HH_MCORE_Condor', 'wuppertalprod_MCORE', 'DCSC', 'Taiwan-LCG2_HIMEM']\n"
     ]
    }
   ],
   "source": [
    "grouped = df[df.processingtype == 'evgen'].groupby(['site'], as_index=False)\n",
    "tot_wc = grouped['wc'].sum()\n",
    "a = tot_wc.sort_values('wc', ascending=False)\n",
    "bigtotal_wc = a.wc.sum()\n",
    "big_sites = a[a.wc > bigtotal_wc * 0.001].site.tolist()\n",
    "print big_sites"
   ]
  },
  {
   "cell_type": "code",
   "execution_count": 28,
   "metadata": {
    "collapsed": false
   },
   "outputs": [
    {
     "name": "stdout",
     "output_type": "stream",
     "text": [
      "2362\n"
     ]
    }
   ],
   "source": [
    "grouped = df.groupby(['processingtype', 'jeditaskid', 'site'], as_index=False, sort=False)\n",
    "\n",
    "data = defaultdict(OrderedDict)\n",
    "for (p, j, s), g in grouped:\n",
    "    if s not in big_sites: continue\n",
    "    if p != 'evgen': continue\n",
    "    x = np.average(g.cpuevt_avg, weights=g.wc)\n",
    "    data[j][s] = x"
   ]
  },
  {
   "cell_type": "code",
   "execution_count": 30,
   "metadata": {
    "collapsed": false
   },
   "outputs": [],
   "source": [
    "# Remove from data tasks with only one site\n",
    "for (k, v) in data.items():\n",
    "    if len(v) == 1:\n",
    "        del data[k]"
   ]
  },
  {
   "cell_type": "code",
   "execution_count": 31,
   "metadata": {
    "collapsed": false
   },
   "outputs": [
    {
     "name": "stdout",
     "output_type": "stream",
     "text": [
      "119\n",
      "There are 119 sites in the fit\n"
     ]
    }
   ],
   "source": [
    "# Replace site names with numbers\n",
    "i = -1\n",
    "sites = set()\n",
    "smap = dict()\n",
    "for (k, v) in data.items():\n",
    "    for s in v.keys():\n",
    "        if s not in sites:\n",
    "            i += 1\n",
    "            smap[s] = i\n",
    "            sites.add(s)\n",
    "        data[k][smap[s]]= data[k][s]\n",
    "        del data[k][s]\n",
    "\n",
    "nsites = len(smap)\n",
    "print len(sites)\n",
    "print 'There are %s sites in the fit' % nsites\n"
   ]
  },
  {
   "cell_type": "code",
   "execution_count": 32,
   "metadata": {
    "collapsed": false
   },
   "outputs": [],
   "source": [
    "def func2(k):\n",
    "    total = 0.\n",
    "    for _, task in data.items():\n",
    "        kf = np.array([k[i] for i in task.keys()])\n",
    "        v = np.array(task.values())\n",
    "        kf2 = np.roll(kf, -1)\n",
    "        v2 = np.roll(v, -1)\n",
    "        ratio = (v2 / v - kf / kf2)**2\n",
    "        ratio[np.isnan(ratio)] = 0.\n",
    "        ratio[np.isinf(ratio)] = 0.\n",
    "        delta = np.sum(ratio[:-1])\n",
    "        total += delta\n",
    "    return total"
   ]
  },
  {
   "cell_type": "code",
   "execution_count": 33,
   "metadata": {
    "collapsed": true
   },
   "outputs": [],
   "source": [
    "def grad(k):\n",
    "    grad = np.zeros(len(k))\n",
    "    for _, task in data.items():\n",
    "        ns = np.array(task.keys())\n",
    "        kf = np.array([k[i] for i in task.keys()])\n",
    "        v = np.array(task.values())\n",
    "        for i in range(len(task)):\n",
    "            if i == len(task) - 1:\n",
    "                x1 = 0.\n",
    "            else:\n",
    "                x1 = -2 * (v[i+1] / v[i] - kf[i] / kf[i+1]) / kf[i+1]\n",
    "            if np.isnan(x1) or np.isinf(x1): x1 = 0.\n",
    "            if i == 0:\n",
    "                x2 = 0.\n",
    "            else:\n",
    "                x2 = 2 * (v[i] / v[i-1] - kf[i-1] / kf[i]) * kf[i-1] / kf[i]**2\n",
    "            if np.isnan(x2) or np.isinf(x2): x2 = 0.\n",
    "            grad[ns[i]] += (x1 + x2)\n",
    "    return grad"
   ]
  },
  {
   "cell_type": "code",
   "execution_count": 40,
   "metadata": {
    "collapsed": false
   },
   "outputs": [
    {
     "name": "stdout",
     "output_type": "stream",
     "text": [
      "Initial function value:  1358.22164136\n"
     ]
    }
   ],
   "source": [
    "k_ini = np.ones(nsites)   # Initialises CPU factors for all sites to one\n",
    "\n",
    "print 'Initial function value: ', func2(k_ini)"
   ]
  },
  {
   "cell_type": "code",
   "execution_count": 41,
   "metadata": {
    "collapsed": false
   },
   "outputs": [
    {
     "name": "stdout",
     "output_type": "stream",
     "text": [
      "0.000445465315136\n"
     ]
    }
   ],
   "source": [
    "check = optimize.check_grad(func2, grad, k_ini)\n",
    "print check"
   ]
  },
  {
   "cell_type": "code",
   "execution_count": 42,
   "metadata": {
    "collapsed": false
   },
   "outputs": [],
   "source": [
    "ref = smap['CERN-PROD']\n",
    "cons = ({'type': 'eq', 'fun': lambda x: x[ref] - 1})"
   ]
  },
  {
   "cell_type": "code",
   "execution_count": 43,
   "metadata": {
    "collapsed": false
   },
   "outputs": [
    {
     "name": "stdout",
     "output_type": "stream",
     "text": [
      "Optimization terminated successfully.    (Exit mode 0)\n",
      "            Current function value: 535.711820464\n",
      "            Iterations: 124\n",
      "            Function evaluations: 407\n",
      "            Gradient evaluations: 124\n"
     ]
    }
   ],
   "source": [
    "result = optimize.minimize(func2, k_ini, method='SLSQP', jac=grad, constraints=cons, options={'disp': True, 'maxiter': 2000})"
   ]
  },
  {
   "cell_type": "code",
   "execution_count": 46,
   "metadata": {
    "collapsed": false
   },
   "outputs": [],
   "source": [
    "k = result.x"
   ]
  },
  {
   "cell_type": "code",
   "execution_count": 48,
   "metadata": {
    "collapsed": false
   },
   "outputs": [
    {
     "name": "stdout",
     "output_type": "stream",
     "text": [
      "AGLT2_SL6\t1.097346\n",
      "ATLAS_OPP_OSG\t1.107943\n",
      "Australia-ATLAS\t1.281199\n",
      "BEIJING\t1.859081\n",
      "BNL_ATLAS_2\t1.281055\n",
      "BNL_LOCAL\t1.428314\n",
      "BNL_PROD\t1.029025\n",
      "BU_ATLAS_Tier2_SL6\t1.186484\n",
      "CA-MCGILL-CLUMEQ-T2\t1.502764\n",
      "CA-SCINET-T2\t1.312953\n",
      "CA-VICTORIA-WESTGRID-T2\t1.486345\n",
      "CERN-P1_MCORE\t0.864210\n",
      "CERN-PROD\t1.000000\n",
      "CERN-PROD-preprod\t1.104665\n",
      "CERN-PROD_MCORE\t1.512667\n",
      "CONNECT\t1.303786\n",
      "CPPM\t1.111987\n",
      "CSCS-LCG2\t1.650777\n",
      "CYFRONET-LCG2\t0.951783\n",
      "DCSC\t0.790374\n",
      "DESY-HH\t0.834236\n",
      "DESY-HH_Condor\t1.278505\n",
      "DESY-HH_MCORE\t0.865022\n",
      "DESY-HH_MCORE_Condor\t1.136211\n",
      "DESY-ZN\t1.669718\n",
      "EELA-UTFSM\t1.020179\n",
      "FMPhI-UNIBA\t1.148152\n",
      "FZK-LCG2\t1.235239\n",
      "FZK-LCG2_MCORE_LO\t0.928685\n",
      "GR-12-TEIKAV\t0.985807\n",
      "GRIF-IRFU\t1.105371\n",
      "GRIF-LAL_HTCondor\t1.108777\n",
      "GRIF-LAL_HTCondor_MCORE\t1.148587\n",
      "GRIF-LPNHE\t1.038232\n",
      "GoeGrid\t1.614050\n",
      "HPC2N\t0.845837\n",
      "IAAS\t1.352306\n",
      "IFAE\t1.263098\n",
      "IFIC\t1.177629\n",
      "IHEP_PROD\t0.951215\n",
      "IL-TAU-HEP\t1.295819\n",
      "IL-TAU-HEP_MCORE\t1.252557\n",
      "IN2P3-CC\t1.127687\n",
      "IN2P3-CC-T3_VM01\t1.125218\n",
      "IN2P3-CC_MCORE_HIMEM\t1.163077\n",
      "IN2P3-CC_VVL\t1.053145\n",
      "IN2P3-LPSC\t1.104071\n",
      "INFN-COSENZA-RECAS\t1.002432\n",
      "INFN-FRASCATI\t1.004127\n",
      "INFN-GENOVA\t1.002012\n",
      "INFN-LECCE\t1.110862\n",
      "INFN-MILANO-ATLASC\t1.052154\n",
      "INFN-MILANO-ATLASC_MCORE\t0.864552\n",
      "INFN-NAPOLI-ATLAS\t0.974216\n",
      "INFN-ROMA1\t1.050857\n",
      "INFN-T1\t1.004939\n",
      "INFN-T1-BA\t0.840792\n",
      "ITEP_MCORE\t1.006221\n",
      "JINR_PROD\t1.342116\n",
      "LAPP\t1.221347\n",
      "LPC\t0.970737\n",
      "LRZ-LMU\t1.098602\n",
      "LRZ-LMU_C2PAP\t1.112212\n",
      "Lucille_CE\t0.934173\n",
      "MWT2_SL6\t1.118730\n",
      "NCG-INGRID-PT_SL6\t1.149314\n",
      "NIKHEF-ELPROD\t1.393790\n",
      "NIKHEF-ELPROD_MCORE\t1.378394\n",
      "OU_OCHEP_SWT2\t0.929959\n",
      "RAL-LCG2_SL6\t0.965397\n",
      "ROMANIA02\t0.771251\n",
      "ROMANIA07\t0.929073\n",
      "ROMANIA07_ARC\t1.643822\n",
      "ROMANIA16\t1.097187\n",
      "RRC-KI-HPC2\t1.312061\n",
      "RRC-KI-T1\t0.886168\n",
      "SARA-MATRIX\t1.461366\n",
      "SFU-LCG2\t1.263941\n",
      "SLACXRD\t1.173379\n",
      "SLACXRD_MP8\t1.148467\n",
      "SWT2_CPB\t1.042274\n",
      "SWT2_CPB_MCORE\t1.074499\n",
      "SiGNET\t0.884018\n",
      "SiGNET_MCORE\t0.857894\n",
      "TECHNION-HEP\t1.671240\n",
      "TOKYO\t1.935060\n",
      "TOKYO_MCORE\t1.827511\n",
      "TRIUMF\t1.298634\n",
      "TRIUMF_HIMEM\t1.308531\n",
      "TW-FTT_SL6\t1.038884\n",
      "Taiwan-LCG2\t1.197288\n",
      "Taiwan-LCG2_HIMEM\t1.134208\n",
      "Taiwan-LCG2_VL\t1.218378\n",
      "UAM-LCG2\t1.125915\n",
      "UKI-LT2-Brunel_SL6\t1.072488\n",
      "UKI-LT2-IC-HEP_MCORE\t1.050591\n",
      "UKI-LT2-QMUL_HIMEM_SL6\t1.173213\n",
      "UKI-LT2-QMUL_SL6\t1.308678\n",
      "UKI-LT2-RHUL_SL6\t1.010075\n",
      "UKI-NORTHGRID-LANCS-HEP_SL6\t1.601261\n",
      "UKI-NORTHGRID-LIV-HEP_SL6\t1.182228\n",
      "UKI-NORTHGRID-MAN-HEP_SL6\t1.058691\n",
      "UKI-NORTHGRID-SHEF-HEP_SL6\t1.350306\n",
      "UKI-SCOTGRID-DURHAM_SL6\t1.159630\n",
      "UKI-SCOTGRID-ECDF_SL6\t1.365290\n",
      "UKI-SCOTGRID-GLASGOW_MCORE\t1.193862\n",
      "UKI-SCOTGRID-GLASGOW_SL6\t1.168711\n",
      "UKI-SOUTHGRID-BHAM-HEP_SL6\t1.025192\n",
      "UKI-SOUTHGRID-OX-HEP_SL6\t0.944064\n",
      "UKI-SOUTHGRID-RALPP_SL6\t1.125780\n",
      "UNI-DORTMUND\t1.178926\n",
      "UNI-FREIBURG\t1.052442\n",
      "UNIBE-LHEP\t1.010523\n",
      "UNIBE-LHEP_MCORE\t0.933437\n",
      "UTA_SWT2\t0.764723\n",
      "pic\t1.277342\n",
      "praguelcg2\t0.980429\n",
      "wuppertalprod\t1.463853\n",
      "wuppertalprod_MCORE\t1.405453\n"
     ]
    }
   ],
   "source": [
    "for s in sorted(smap.keys()):\n",
    "    print '%s\\t%f' % (s, k[smap[s]])"
   ]
  },
  {
   "cell_type": "code",
   "execution_count": null,
   "metadata": {
    "collapsed": true
   },
   "outputs": [],
   "source": []
  }
 ],
 "metadata": {
  "kernelspec": {
   "display_name": "Python (ipykernel_py2)",
   "language": "python",
   "name": "ipykernel_py2"
  },
  "language_info": {
   "codemirror_mode": {
    "name": "ipython",
    "version": 2
   },
   "file_extension": ".py",
   "mimetype": "text/x-python",
   "name": "python",
   "nbconvert_exporter": "python",
   "pygments_lexer": "ipython2",
   "version": "2.7.11"
  }
 },
 "nbformat": 4,
 "nbformat_minor": 0
}
