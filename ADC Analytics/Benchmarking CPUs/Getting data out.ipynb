{
 "cells": [
  {
   "cell_type": "markdown",
   "metadata": {},
   "source": [
    "# Joins columns from benchmarks and jobsarchive tables and outputs them for ML analysis"
   ]
  },
  {
   "cell_type": "code",
   "execution_count": 1,
   "metadata": {
    "collapsed": false
   },
   "outputs": [],
   "source": [
    "import pickle\n",
    "import re\n",
    "import datetime\n",
    "from elasticsearch import Elasticsearch, helpers\n",
    "from elasticsearch.helpers import scan\n",
    "\n",
    "import numpy as np\n",
    "import pandas as pd\n",
    "\n",
    "es = Elasticsearch([{'host':'atlas-kibana.mwt2.org', 'port':9200}],timeout=60)\n",
    "\n",
    "benchmark_indices = ['benchmarks-2017.04','benchmarks-2017.05']\n",
    "daysOfData=25"
   ]
  },
  {
   "cell_type": "code",
   "execution_count": 2,
   "metadata": {
    "collapsed": false
   },
   "outputs": [
    {
     "name": "stdout",
     "output_type": "stream",
     "text": [
      "jobs_archive_2017-04-07,jobs_archive_2017-04-08,jobs_archive_2017-04-09,jobs_archive_2017-04-10,jobs_archive_2017-04-11,jobs_archive_2017-04-12,jobs_archive_2017-04-13,jobs_archive_2017-04-14,jobs_archive_2017-04-15,jobs_archive_2017-04-16,jobs_archive_2017-04-17,jobs_archive_2017-04-18,jobs_archive_2017-04-19,jobs_archive_2017-04-20,jobs_archive_2017-04-21,jobs_archive_2017-04-22,jobs_archive_2017-04-23,jobs_archive_2017-04-24,jobs_archive_2017-04-25,jobs_archive_2017-04-26,jobs_archive_2017-04-27,jobs_archive_2017-04-28,jobs_archive_2017-04-29,jobs_archive_2017-04-30,jobs_archive_2017-05-01\n"
     ]
    }
   ],
   "source": [
    "# get job archive indices\n",
    "indices = es.cat.indices(index=\"jobs_archive_20*\", h=\"index\", request_timeout=600).split('\\n')\n",
    "indices = sorted(indices)\n",
    "indices = [x for x in indices if x != '']\n",
    "#for i in indices:\n",
    "#    print(i)\n",
    "\n",
    "def time_filter(indices, days=1, until=0):\n",
    "    if days == 0:\n",
    "        return [\"jobs_archive_*\"]\n",
    "    today = datetime.date.today()\n",
    "    filtered = []\n",
    "    datefmt = '%Y-%m-%d'\n",
    "    for i in indices:\n",
    "        day = re.sub(r'jobs_archive_', '', i).rstrip()\n",
    "        day = datetime.datetime.strptime(day, datefmt).date()\n",
    "        diff = today - day\n",
    "        if until <= diff.days < days + until:\n",
    "            filtered.append(i.rstrip())\n",
    "    return filtered\n",
    "\n",
    "selIndices = time_filter(indices,daysOfData)\n",
    "job_indices = ','.join(selIndices)\n",
    "print(job_indices)"
   ]
  },
  {
   "cell_type": "code",
   "execution_count": 3,
   "metadata": {
    "collapsed": false
   },
   "outputs": [
    {
     "name": "stdout",
     "output_type": "stream",
     "text": [
      "0\n",
      "10000\n",
      "20000\n",
      "30000\n",
      "40000\n",
      "50000\n",
      "60000\n",
      "70000\n",
      "80000\n",
      "90000\n",
      "100000\n",
      "110000\n",
      "120000\n",
      "130000\n",
      "140000\n",
      "148765\n"
     ]
    }
   ],
   "source": [
    "benchmarks_query={\n",
    "    \"size\": 0,\n",
    "    \"query\":{\n",
    "       \"match_all\": {}\n",
    "    }\n",
    "}\n",
    "\n",
    "res = scan(es, query=benchmarks_query, index=benchmark_indices, scroll='5m', timeout=\"5m\", size=1000)\n",
    "\n",
    "data=[]\n",
    "benchmarksPerSite={}\n",
    "count = 0\n",
    "for r in res:\n",
    "    pr=r['_source']['profiles']\n",
    "    mt=r['_source']['metadata']\n",
    "    site=mt['ATLASSite']\n",
    "    if site not in benchmarksPerSite:\n",
    "        benchmarksPerSite[site]=0\n",
    "    benchmarksPerSite[site]+=1\n",
    "    if 'fastBmk' not in pr: \n",
    "        fastBmk = 0\n",
    "    else:\n",
    "        fastBmk = pr['fastBmk']['value']\n",
    "    if 'whetstone' not in pr:\n",
    "        ws = 0\n",
    "    else:\n",
    "        ws = pr['whetstone']['score']\n",
    "    doc=[mt['PanDAID'],mt['bogomips'],mt['ip'],site,mt['mp_num'],mt['cpuname'],mt['meminfo'],fastBmk,ws]\n",
    "    data.append(doc)\n",
    "    if not count%10000:\n",
    "        print(count)\n",
    "#     if count>100: break\n",
    "    count+=1\n",
    "\n",
    "print(len(data))\n",
    "    \n",
    "benchmark=pd.DataFrame(data,columns=['pandaid','bogomips','ip','site','mpnum','cpuname','meminfo','fastBmk','whetstone'])\n",
    "del data"
   ]
  },
  {
   "cell_type": "code",
   "execution_count": 4,
   "metadata": {
    "collapsed": false
   },
   "outputs": [
    {
     "name": "stdout",
     "output_type": "stream",
     "text": [
      "total benchmarks: 148755\n"
     ]
    }
   ],
   "source": [
    "#print(benchmark.dtypes)\n",
    "benchmark.head()\n",
    "pids=set(benchmark['pandaid'].tolist())\n",
    "print('total benchmarks:', len(pids))\n"
   ]
  },
  {
   "cell_type": "code",
   "execution_count": 5,
   "metadata": {
    "collapsed": true
   },
   "outputs": [],
   "source": [
    "benchmark.to_csv('benchmark.csv',index=False)\n"
   ]
  },
  {
   "cell_type": "code",
   "execution_count": 19,
   "metadata": {
    "collapsed": false
   },
   "outputs": [
    {
     "name": "stdout",
     "output_type": "stream",
     "text": [
      "100000  selected: {'managed': 715, 'install': 0, 'rc_test': 0, 'prod_test': 0}\n",
      "200000  selected: {'managed': 1386, 'install': 0, 'rc_test': 0, 'prod_test': 0}\n",
      "300000  selected: {'managed': 2077, 'install': 0, 'rc_test': 0, 'prod_test': 0}\n",
      "400000  selected: {'managed': 2737, 'install': 0, 'rc_test': 0, 'prod_test': 0}\n",
      "500000  selected: {'managed': 3403, 'install': 0, 'rc_test': 0, 'prod_test': 0}\n",
      "600000  selected: {'managed': 4040, 'install': 0, 'rc_test': 0, 'prod_test': 0}\n",
      "700000  selected: {'managed': 4734, 'install': 0, 'rc_test': 0, 'prod_test': 0}\n",
      "800000  selected: {'managed': 5388, 'install': 0, 'rc_test': 0, 'prod_test': 0}\n",
      "900000  selected: {'managed': 6064, 'install': 0, 'rc_test': 0, 'prod_test': 0}\n",
      "1000000  selected: {'managed': 6744, 'install': 0, 'rc_test': 0, 'prod_test': 0}\n",
      "1100000  selected: {'managed': 7442, 'install': 0, 'rc_test': 0, 'prod_test': 0}\n",
      "1200000  selected: {'managed': 8128, 'install': 0, 'rc_test': 0, 'prod_test': 0}\n",
      "1300000  selected: {'managed': 8800, 'install': 0, 'rc_test': 0, 'prod_test': 0}\n",
      "1400000  selected: {'managed': 9482, 'install': 0, 'rc_test': 0, 'prod_test': 0}\n",
      "1500000  selected: {'managed': 10172, 'install': 0, 'rc_test': 0, 'prod_test': 0}\n",
      "1600000  selected: {'managed': 10820, 'install': 0, 'rc_test': 0, 'prod_test': 0}\n",
      "1700000  selected: {'managed': 11456, 'install': 0, 'rc_test': 0, 'prod_test': 0}\n",
      "1800000  selected: {'managed': 12158, 'install': 0, 'rc_test': 0, 'prod_test': 0}\n",
      "1900000  selected: {'managed': 12856, 'install': 0, 'rc_test': 0, 'prod_test': 0}\n",
      "2000000  selected: {'managed': 13510, 'install': 0, 'rc_test': 0, 'prod_test': 0}\n",
      "2100000  selected: {'managed': 14166, 'install': 0, 'rc_test': 0, 'prod_test': 0}\n",
      "2200000  selected: {'managed': 14864, 'install': 0, 'rc_test': 0, 'prod_test': 0}\n",
      "2300000  selected: {'managed': 15538, 'install': 0, 'rc_test': 0, 'prod_test': 0}\n",
      "2400000  selected: {'managed': 16215, 'install': 0, 'rc_test': 0, 'prod_test': 0}\n",
      "2500000  selected: {'managed': 16862, 'install': 0, 'rc_test': 0, 'prod_test': 0}\n",
      "2600000  selected: {'managed': 17569, 'install': 0, 'rc_test': 0, 'prod_test': 0}\n",
      "2700000  selected: {'managed': 18261, 'install': 0, 'rc_test': 0, 'prod_test': 0}\n",
      "2800000  selected: {'managed': 18920, 'install': 0, 'rc_test': 0, 'prod_test': 0}\n",
      "2900000  selected: {'managed': 19611, 'install': 0, 'rc_test': 0, 'prod_test': 0}\n",
      "3000000  selected: {'managed': 20258, 'install': 0, 'rc_test': 0, 'prod_test': 0}\n",
      "3100000  selected: {'managed': 20904, 'install': 0, 'rc_test': 0, 'prod_test': 0}\n",
      "3200000  selected: {'managed': 21538, 'install': 0, 'rc_test': 0, 'prod_test': 0}\n",
      "3300000  selected: {'managed': 22226, 'install': 0, 'rc_test': 0, 'prod_test': 0}\n",
      "3400000  selected: {'managed': 22867, 'install': 0, 'rc_test': 0, 'prod_test': 0}\n",
      "3500000  selected: {'managed': 23509, 'install': 0, 'rc_test': 0, 'prod_test': 0}\n",
      "3600000  selected: {'managed': 24179, 'install': 0, 'rc_test': 0, 'prod_test': 0}\n",
      "3700000  selected: {'managed': 24861, 'install': 0, 'rc_test': 0, 'prod_test': 0}\n",
      "3800000  selected: {'managed': 25550, 'install': 0, 'rc_test': 0, 'prod_test': 0}\n",
      "3900000  selected: {'managed': 26229, 'install': 0, 'rc_test': 0, 'prod_test': 0}\n",
      "4000000  selected: {'managed': 26940, 'install': 0, 'rc_test': 0, 'prod_test': 0}\n",
      "4100000  selected: {'managed': 27625, 'install': 0, 'rc_test': 0, 'prod_test': 0}\n",
      "4200000  selected: {'managed': 28330, 'install': 0, 'rc_test': 0, 'prod_test': 0}\n",
      "4300000  selected: {'managed': 29036, 'install': 0, 'rc_test': 0, 'prod_test': 0}\n",
      "4400000  selected: {'managed': 29703, 'install': 0, 'rc_test': 0, 'prod_test': 0}\n",
      "4500000  selected: {'managed': 30378, 'install': 0, 'rc_test': 0, 'prod_test': 0}\n",
      "4600000  selected: {'managed': 31070, 'install': 0, 'rc_test': 0, 'prod_test': 0}\n",
      "4700000  selected: {'managed': 31799, 'install': 0, 'rc_test': 0, 'prod_test': 0}\n",
      "4800000  selected: {'managed': 32475, 'install': 0, 'rc_test': 0, 'prod_test': 0}\n",
      "4900000  selected: {'managed': 33186, 'install': 0, 'rc_test': 0, 'prod_test': 0}\n",
      "5000000  selected: {'managed': 33866, 'install': 0, 'rc_test': 0, 'prod_test': 0}\n",
      "5100000  selected: {'managed': 34567, 'install': 0, 'rc_test': 0, 'prod_test': 0}\n",
      "5200000  selected: {'managed': 35283, 'install': 0, 'rc_test': 0, 'prod_test': 0}\n",
      "5300000  selected: {'managed': 35957, 'install': 0, 'rc_test': 0, 'prod_test': 0}\n",
      "5400000  selected: {'managed': 36621, 'install': 0, 'rc_test': 0, 'prod_test': 0}\n",
      "5500000  selected: {'managed': 37314, 'install': 0, 'rc_test': 0, 'prod_test': 0}\n",
      "5600000  selected: {'managed': 37955, 'install': 0, 'rc_test': 0, 'prod_test': 0}\n",
      "5700000  selected: {'managed': 38629, 'install': 0, 'rc_test': 0, 'prod_test': 0}\n",
      "5800000  selected: {'managed': 39303, 'install': 0, 'rc_test': 0, 'prod_test': 0}\n",
      "5900000  selected: {'managed': 39940, 'install': 0, 'rc_test': 0, 'prod_test': 0}\n",
      "6000000  selected: {'managed': 40636, 'install': 0, 'rc_test': 0, 'prod_test': 0}\n",
      "6100000  selected: {'managed': 41325, 'install': 0, 'rc_test': 0, 'prod_test': 0}\n",
      "6200000  selected: {'managed': 41960, 'install': 0, 'rc_test': 0, 'prod_test': 0}\n",
      "6300000  selected: {'managed': 42602, 'install': 0, 'rc_test': 0, 'prod_test': 0}\n",
      "6400000  selected: {'managed': 43286, 'install': 0, 'rc_test': 0, 'prod_test': 0}\n",
      "6500000  selected: {'managed': 44052, 'install': 0, 'rc_test': 0, 'prod_test': 0}\n",
      "6600000  selected: {'managed': 44752, 'install': 0, 'rc_test': 0, 'prod_test': 0}\n",
      "6700000  selected: {'managed': 45414, 'install': 0, 'rc_test': 0, 'prod_test': 0}\n",
      "6800000  selected: {'managed': 46126, 'install': 0, 'rc_test': 0, 'prod_test': 0}\n",
      "6900000  selected: {'managed': 46917, 'install': 0, 'rc_test': 0, 'prod_test': 0}\n",
      "7000000  selected: {'managed': 47663, 'install': 0, 'rc_test': 0, 'prod_test': 0}\n",
      "7100000  selected: {'managed': 48406, 'install': 0, 'rc_test': 0, 'prod_test': 0}\n",
      "7200000  selected: {'managed': 49153, 'install': 0, 'rc_test': 0, 'prod_test': 0}\n",
      "7300000  selected: {'managed': 49912, 'install': 0, 'rc_test': 0, 'prod_test': 0}\n",
      "7400000  selected: {'managed': 50621, 'install': 0, 'rc_test': 0, 'prod_test': 0}\n",
      "7500000  selected: {'managed': 51344, 'install': 0, 'rc_test': 0, 'prod_test': 0}\n",
      "7600000  selected: {'managed': 52065, 'install': 0, 'rc_test': 0, 'prod_test': 0}\n",
      "7700000  selected: {'managed': 52840, 'install': 0, 'rc_test': 0, 'prod_test': 0}\n",
      "7800000  selected: {'managed': 53591, 'install': 0, 'rc_test': 0, 'prod_test': 0}\n",
      "7900000  selected: {'managed': 54394, 'install': 0, 'rc_test': 0, 'prod_test': 0}\n",
      "8000000  selected: {'managed': 55197, 'install': 0, 'rc_test': 0, 'prod_test': 0}\n",
      "8100000  selected: {'managed': 55925, 'install': 0, 'rc_test': 0, 'prod_test': 0}\n",
      "8200000  selected: {'managed': 56580, 'install': 0, 'rc_test': 0, 'prod_test': 0}\n",
      "8300000  selected: {'managed': 57302, 'install': 0, 'rc_test': 0, 'prod_test': 0}\n",
      "8400000  selected: {'managed': 58071, 'install': 0, 'rc_test': 0, 'prod_test': 0}\n",
      "8500000  selected: {'managed': 58914, 'install': 0, 'rc_test': 0, 'prod_test': 0}\n",
      "8600000  selected: {'managed': 59752, 'install': 0, 'rc_test': 0, 'prod_test': 0}\n",
      "8700000  selected: {'managed': 60533, 'install': 0, 'rc_test': 0, 'prod_test': 0}\n",
      "8800000  selected: {'managed': 61363, 'install': 0, 'rc_test': 0, 'prod_test': 0}\n",
      "8900000  selected: {'managed': 62186, 'install': 0, 'rc_test': 0, 'prod_test': 0}\n",
      "9000000  selected: {'managed': 62996, 'install': 0, 'rc_test': 0, 'prod_test': 0}\n",
      "9100000  selected: {'managed': 63851, 'install': 0, 'rc_test': 0, 'prod_test': 0}\n",
      "9200000  selected: {'managed': 64672, 'install': 0, 'rc_test': 0, 'prod_test': 0}\n",
      "9300000  selected: {'managed': 65507, 'install': 0, 'rc_test': 0, 'prod_test': 0}\n"
     ]
    }
   ],
   "source": [
    "# select only production jobs as only these can potentially have benchmark done. \n",
    "# prodsourcelabel = prod_test, rc_test, managed, install\n",
    "job_query = {\n",
    "    \"size\": 0,\n",
    "    \"_source\": [\"cpuconsumptiontime\", \"wall_time\", \"hs06\",\"nevents\",\"inputfilebytes\",\"prodsourcelabel\",\"processingtype\",\"computingsite\"],\n",
    "    'query':{\n",
    "            'bool':{\n",
    "                   'must':[\n",
    "                        { \"term\": {\"jobstatus\": \"finished\" } },\n",
    "                        { \"term\": {\"prodsourcelabel\": \"managed\" } }\n",
    "                    ],\n",
    "                   'should':[\n",
    "                      # { \"term\": {\"prodsourcelabel\": \"rc_test\" } },\n",
    "                      # { \"term\": {\"prodsourcelabel\": \"prod_test\" } },\n",
    "                       { \"term\": {\"prodsourcelabel\": \"managed\" } }\n",
    "                   ]\n",
    "            }\n",
    "    }\n",
    "                \n",
    "}\n",
    "\n",
    "data=[]\n",
    "scroll = scan(client=es, index=job_indices, query=job_query, scroll='5m', timeout=\"5m\", size=10000)\n",
    "count = 0\n",
    "counttype={'managed':0,'rc_test':0,'prod_test':0,'install':0}\n",
    "jobsPerSite={}\n",
    "for res in scroll:\n",
    "    count += 1\n",
    "    #print(res)\n",
    "    #if count>3: break\n",
    "    \n",
    "    r=res['_source']\n",
    "    \n",
    "    site=r['computingsite']\n",
    "    if site not in jobsPerSite:\n",
    "        jobsPerSite[site]=0\n",
    "    jobsPerSite[site]+=1\n",
    "    \n",
    "    if not count%100000: \n",
    "        print(count, ' selected:', counttype)\n",
    "        #print(data)\n",
    "    \n",
    "    pid=int(res['_id'])\n",
    "    if pid not in pids: continue\n",
    "    \n",
    "    counttype[r['prodsourcelabel']]+=1\n",
    "    cpu=r['cpuconsumptiontime']\n",
    "    ifb=r['inputfilebytes']\n",
    "    wall=r['wall_time']\n",
    "    nevents=r['nevents']\n",
    "    if wall>0: cpueff = cpu/wall\n",
    "    if nevents>0:\n",
    "        wallPerEvent = wall/nevents\n",
    "        cpuPerEvent = cpu/nevents\n",
    "    else:\n",
    "        wallPerEvent = 0\n",
    "        cpuPerEvent =0\n",
    "    doc=[pid,cpu,wall,r['hs06'],r['processingtype'],nevents, cpueff, wallPerEvent, cpuPerEvent,ifb]\n",
    "    data.append(doc)\n",
    "\n",
    "job=pd.DataFrame(data,columns=['pandaid','cputime','walltime','hs06','processingtype','nevents','cpueff', 'wallPerEvent', 'cpuPerEvent','inputsize'])\n",
    "del data"
   ]
  },
  {
   "cell_type": "code",
   "execution_count": 20,
   "metadata": {
    "collapsed": false
   },
   "outputs": [
    {
     "data": {
      "text/html": [
       "<div>\n",
       "<table border=\"1\" class=\"dataframe\">\n",
       "  <thead>\n",
       "    <tr style=\"text-align: right;\">\n",
       "      <th></th>\n",
       "      <th>pandaid</th>\n",
       "      <th>cputime</th>\n",
       "      <th>walltime</th>\n",
       "      <th>hs06</th>\n",
       "      <th>processingtype</th>\n",
       "      <th>nevents</th>\n",
       "      <th>cpueff</th>\n",
       "      <th>wallPerEvent</th>\n",
       "      <th>cpuPerEvent</th>\n",
       "      <th>inputsize</th>\n",
       "    </tr>\n",
       "  </thead>\n",
       "  <tbody>\n",
       "    <tr>\n",
       "      <th>0</th>\n",
       "      <td>3352703758</td>\n",
       "      <td>1331</td>\n",
       "      <td>2170</td>\n",
       "      <td>107</td>\n",
       "      <td>recon</td>\n",
       "      <td>300</td>\n",
       "      <td>0.613364</td>\n",
       "      <td>7.233333</td>\n",
       "      <td>4.436667</td>\n",
       "      <td>12659125</td>\n",
       "    </tr>\n",
       "    <tr>\n",
       "      <th>1</th>\n",
       "      <td>3354732793</td>\n",
       "      <td>55</td>\n",
       "      <td>282</td>\n",
       "      <td>10</td>\n",
       "      <td>evgen</td>\n",
       "      <td>50</td>\n",
       "      <td>0.195035</td>\n",
       "      <td>5.640000</td>\n",
       "      <td>1.100000</td>\n",
       "      <td>88453</td>\n",
       "    </tr>\n",
       "    <tr>\n",
       "      <th>2</th>\n",
       "      <td>3326375042</td>\n",
       "      <td>29513</td>\n",
       "      <td>11863</td>\n",
       "      <td>96</td>\n",
       "      <td>reprocessing</td>\n",
       "      <td>2338</td>\n",
       "      <td>2.487819</td>\n",
       "      <td>5.073995</td>\n",
       "      <td>12.623182</td>\n",
       "      <td>2620990676</td>\n",
       "    </tr>\n",
       "    <tr>\n",
       "      <th>3</th>\n",
       "      <td>3327803396</td>\n",
       "      <td>22947</td>\n",
       "      <td>3502</td>\n",
       "      <td>77</td>\n",
       "      <td>merge</td>\n",
       "      <td>64062</td>\n",
       "      <td>6.552541</td>\n",
       "      <td>0.054666</td>\n",
       "      <td>0.358200</td>\n",
       "      <td>22832203370</td>\n",
       "    </tr>\n",
       "    <tr>\n",
       "      <th>4</th>\n",
       "      <td>3330689156</td>\n",
       "      <td>7696</td>\n",
       "      <td>2433</td>\n",
       "      <td>90</td>\n",
       "      <td>merge</td>\n",
       "      <td>22779</td>\n",
       "      <td>3.163173</td>\n",
       "      <td>0.106809</td>\n",
       "      <td>0.337855</td>\n",
       "      <td>7124546461</td>\n",
       "    </tr>\n",
       "  </tbody>\n",
       "</table>\n",
       "</div>"
      ],
      "text/plain": [
       "      pandaid  cputime  walltime  hs06 processingtype  nevents    cpueff  \\\n",
       "0  3352703758     1331      2170   107          recon      300  0.613364   \n",
       "1  3354732793       55       282    10          evgen       50  0.195035   \n",
       "2  3326375042    29513     11863    96   reprocessing     2338  2.487819   \n",
       "3  3327803396    22947      3502    77          merge    64062  6.552541   \n",
       "4  3330689156     7696      2433    90          merge    22779  3.163173   \n",
       "\n",
       "   wallPerEvent  cpuPerEvent    inputsize  \n",
       "0      7.233333     4.436667     12659125  \n",
       "1      5.640000     1.100000        88453  \n",
       "2      5.073995    12.623182   2620990676  \n",
       "3      0.054666     0.358200  22832203370  \n",
       "4      0.106809     0.337855   7124546461  "
      ]
     },
     "execution_count": 20,
     "metadata": {},
     "output_type": "execute_result"
    }
   ],
   "source": [
    "job.head()"
   ]
  },
  {
   "cell_type": "markdown",
   "metadata": {},
   "source": [
    "#### store all the jobs together"
   ]
  },
  {
   "cell_type": "code",
   "execution_count": 21,
   "metadata": {
    "collapsed": false
   },
   "outputs": [],
   "source": [
    "job.to_csv('job.csv',index=False)"
   ]
  },
  {
   "cell_type": "markdown",
   "metadata": {},
   "source": [
    "#### store jobs split per processingtype"
   ]
  },
  {
   "cell_type": "code",
   "execution_count": 12,
   "metadata": {
    "collapsed": false
   },
   "outputs": [
    {
     "name": "stdout",
     "output_type": "stream",
     "text": [
      "['recon' 'evgen' 'reprocessing' 'merge' 'simul' 'pile' 'pmerge'\n",
      " 'eventIndex' 'deriv' 'overlay']\n"
     ]
    }
   ],
   "source": [
    "UniqueProcessingTypes = job.processingtype.unique()\n",
    "print(UniqueProcessingTypes)\n",
    "\n",
    "#create a dict for all the dataframes to be filled later\n",
    "ProcessingType = {elem : pd.DataFrame for elem in UniqueProcessingTypes}\n",
    "\n",
    "#filling up data frames\n",
    "for key in ProcessingType.keys():\n",
    "    job[:][job.processingtype == key].to_csv(key+'.csv',index=False)"
   ]
  },
  {
   "cell_type": "code",
   "execution_count": null,
   "metadata": {
    "collapsed": false
   },
   "outputs": [],
   "source": [
    "#full = pd.merge(benchmark, job, on='pandaid')\n",
    "#full.head()\n",
    "#full.to_csv('benchmark_job.csv',index=False)"
   ]
  },
  {
   "cell_type": "code",
   "execution_count": null,
   "metadata": {
    "collapsed": false
   },
   "outputs": [],
   "source": [
    "#for ps in benchmarksPerSite:\n",
    "#    print(ps, benchmarksPerSite[ps])\n",
    "\n",
    "for ps in jobsPerSite:\n",
    "    if ps not in benchmarksPerSite and jobsPerSite[ps]>1000: \n",
    "        print(ps, jobsPerSite[ps])#,'       <<<<<<<<<<<<<')\n",
    "    #else:\n",
    "        #print(ps, jobsPerSite[ps],benchmarksPerSite[ps])"
   ]
  },
  {
   "cell_type": "code",
   "execution_count": null,
   "metadata": {
    "collapsed": false
   },
   "outputs": [],
   "source": [
    "print (jobsPerSite)\n",
    "#print (benchmarksPerSite)"
   ]
  },
  {
   "cell_type": "code",
   "execution_count": null,
   "metadata": {
    "collapsed": true
   },
   "outputs": [],
   "source": []
  }
 ],
 "metadata": {
  "kernelspec": {
   "display_name": "Python 3",
   "language": "python",
   "name": "python3"
  },
  "language_info": {
   "codemirror_mode": {
    "name": "ipython",
    "version": 3
   },
   "file_extension": ".py",
   "mimetype": "text/x-python",
   "name": "python",
   "nbconvert_exporter": "python",
   "pygments_lexer": "ipython3",
   "version": "3.5.1"
  }
 },
 "nbformat": 4,
 "nbformat_minor": 0
}
