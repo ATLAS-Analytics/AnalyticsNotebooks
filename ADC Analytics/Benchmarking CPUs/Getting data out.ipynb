{
 "cells": [
  {
   "cell_type": "markdown",
   "metadata": {},
   "source": [
    "# Joins columns from benchmarks and jobsarchive tables and outputs them for ML analysis"
   ]
  },
  {
   "cell_type": "code",
   "execution_count": 20,
   "metadata": {
    "collapsed": false
   },
   "outputs": [],
   "source": [
    "import pickle\n",
    "import re\n",
    "import datetime\n",
    "from elasticsearch import Elasticsearch, helpers\n",
    "from elasticsearch.helpers import scan\n",
    "\n",
    "import numpy as np\n",
    "import pandas as pd\n",
    "\n",
    "es = Elasticsearch([{'host':'atlas-kibana.mwt2.org', 'port':9200}],timeout=60)\n",
    "\n",
    "benchmark_indices = ['benchmarks-2017.04']\n",
    "daysOfData=18"
   ]
  },
  {
   "cell_type": "code",
   "execution_count": 21,
   "metadata": {
    "collapsed": false
   },
   "outputs": [
    {
     "name": "stdout",
     "output_type": "stream",
     "text": [
      "jobs_archive_2017-04-07,jobs_archive_2017-04-08,jobs_archive_2017-04-09,jobs_archive_2017-04-10,jobs_archive_2017-04-11,jobs_archive_2017-04-12,jobs_archive_2017-04-13,jobs_archive_2017-04-14,jobs_archive_2017-04-15,jobs_archive_2017-04-16,jobs_archive_2017-04-17,jobs_archive_2017-04-18,jobs_archive_2017-04-19,jobs_archive_2017-04-20,jobs_archive_2017-04-21,jobs_archive_2017-04-22,jobs_archive_2017-04-23,jobs_archive_2017-04-24\n"
     ]
    }
   ],
   "source": [
    "# get job archive indices\n",
    "indices = es.cat.indices(index=\"jobs_archive_20*\", h=\"index\", request_timeout=600).split('\\n')\n",
    "indices = sorted(indices)\n",
    "indices = [x for x in indices if x != '']\n",
    "#for i in indices:\n",
    "#    print(i)\n",
    "\n",
    "def time_filter(indices, days=1, until=0):\n",
    "    if days == 0:\n",
    "        return [\"jobs_archive_*\"]\n",
    "    today = datetime.date.today()\n",
    "    filtered = []\n",
    "    datefmt = '%Y-%m-%d'\n",
    "    for i in indices:\n",
    "        day = re.sub(r'jobs_archive_', '', i).rstrip()\n",
    "        day = datetime.datetime.strptime(day, datefmt).date()\n",
    "        diff = today - day\n",
    "        if until <= diff.days < days + until:\n",
    "            filtered.append(i.rstrip())\n",
    "    return filtered\n",
    "\n",
    "selIndices = time_filter(indices,daysOfData)\n",
    "job_indices = ','.join(selIndices)\n",
    "print(job_indices)"
   ]
  },
  {
   "cell_type": "code",
   "execution_count": 22,
   "metadata": {
    "collapsed": false
   },
   "outputs": [
    {
     "name": "stdout",
     "output_type": "stream",
     "text": [
      "0\n",
      "10000\n",
      "20000\n",
      "30000\n",
      "40000\n",
      "50000\n",
      "60000\n",
      "70000\n",
      "80000\n",
      "90000\n",
      "100000\n",
      "110000\n",
      "120000\n",
      "122612\n"
     ]
    }
   ],
   "source": [
    "benchmarks_query={\n",
    "    \"size\": 0,\n",
    "    \"query\":{\n",
    "       \"match_all\": {}\n",
    "    }\n",
    "}\n",
    "\n",
    "res = scan(es, query=benchmarks_query, index=benchmark_indices, scroll='5m', timeout=\"5m\", size=1000)\n",
    "\n",
    "data=[]\n",
    "benchmarksPerSite={}\n",
    "count = 0\n",
    "for r in res:\n",
    "    pr=r['_source']['profiles']\n",
    "    mt=r['_source']['metadata']\n",
    "    site=mt['ATLASSite']\n",
    "    if site not in benchmarksPerSite:\n",
    "        benchmarksPerSite[site]=0\n",
    "    benchmarksPerSite[site]+=1\n",
    "    if 'fastBmk' not in pr: \n",
    "        fastBmk = 0\n",
    "    else:\n",
    "        fastBmk = pr['fastBmk']['value']\n",
    "    if 'whetstone' not in pr:\n",
    "        ws = 0\n",
    "    else:\n",
    "        ws = pr['whetstone']['score']\n",
    "    doc=[mt['PanDAID'],mt['bogomips'],mt['ip'],site,mt['mp_num'],mt['cpuname'],mt['meminfo'],fastBmk,ws]\n",
    "    data.append(doc)\n",
    "    if not count%10000:\n",
    "        print(count)\n",
    "#     if count>100: break\n",
    "    count+=1\n",
    "\n",
    "print(len(data))\n",
    "    \n",
    "benchmark=pd.DataFrame(data,columns=['pandaid','bogomips','ip','site','mpnum','cpuname','meminfo','fastBmk','whetstone'])\n",
    "del data"
   ]
  },
  {
   "cell_type": "code",
   "execution_count": 23,
   "metadata": {
    "collapsed": false
   },
   "outputs": [
    {
     "name": "stdout",
     "output_type": "stream",
     "text": [
      "total benchmarks: 122602\n"
     ]
    }
   ],
   "source": [
    "#print(benchmark.dtypes)\n",
    "benchmark.head()\n",
    "pids=set(benchmark['pandaid'].tolist())\n",
    "print('total benchmarks:', len(pids))\n"
   ]
  },
  {
   "cell_type": "code",
   "execution_count": 24,
   "metadata": {
    "collapsed": true
   },
   "outputs": [],
   "source": [
    "benchmark.to_csv('benchmark.csv',index=False)\n"
   ]
  },
  {
   "cell_type": "code",
   "execution_count": 25,
   "metadata": {
    "collapsed": false
   },
   "outputs": [
    {
     "name": "stdout",
     "output_type": "stream",
     "text": [
      "100000  selected: {'rc_test': 0, 'managed': 514, 'prod_test': 0}\n",
      "200000  selected: {'rc_test': 0, 'managed': 1029, 'prod_test': 0}\n",
      "300000  selected: {'rc_test': 0, 'managed': 1536, 'prod_test': 0}\n",
      "400000  selected: {'rc_test': 0, 'managed': 2043, 'prod_test': 0}\n",
      "500000  selected: {'rc_test': 0, 'managed': 2494, 'prod_test': 0}\n",
      "600000  selected: {'rc_test': 0, 'managed': 2898, 'prod_test': 0}\n",
      "700000  selected: {'rc_test': 0, 'managed': 3390, 'prod_test': 0}\n",
      "800000  selected: {'rc_test': 0, 'managed': 3861, 'prod_test': 0}\n",
      "900000  selected: {'rc_test': 0, 'managed': 4314, 'prod_test': 0}\n",
      "1000000  selected: {'rc_test': 0, 'managed': 4756, 'prod_test': 0}\n",
      "1100000  selected: {'rc_test': 0, 'managed': 5189, 'prod_test': 0}\n",
      "1200000  selected: {'rc_test': 0, 'managed': 5694, 'prod_test': 0}\n",
      "1300000  selected: {'rc_test': 0, 'managed': 6146, 'prod_test': 0}\n",
      "1400000  selected: {'rc_test': 0, 'managed': 6581, 'prod_test': 0}\n",
      "1500000  selected: {'rc_test': 0, 'managed': 7061, 'prod_test': 0}\n",
      "1600000  selected: {'rc_test': 0, 'managed': 7507, 'prod_test': 0}\n",
      "1700000  selected: {'rc_test': 0, 'managed': 7979, 'prod_test': 0}\n",
      "1800000  selected: {'rc_test': 0, 'managed': 8397, 'prod_test': 0}\n",
      "1900000  selected: {'rc_test': 0, 'managed': 8841, 'prod_test': 0}\n",
      "2000000  selected: {'rc_test': 0, 'managed': 9276, 'prod_test': 0}\n",
      "2100000  selected: {'rc_test': 0, 'managed': 9735, 'prod_test': 0}\n",
      "2200000  selected: {'rc_test': 0, 'managed': 10221, 'prod_test': 0}\n",
      "2300000  selected: {'rc_test': 0, 'managed': 10653, 'prod_test': 0}\n",
      "2400000  selected: {'rc_test': 0, 'managed': 11071, 'prod_test': 0}\n",
      "2500000  selected: {'rc_test': 0, 'managed': 11515, 'prod_test': 0}\n",
      "2600000  selected: {'rc_test': 0, 'managed': 11967, 'prod_test': 0}\n",
      "2700000  selected: {'rc_test': 0, 'managed': 12431, 'prod_test': 0}\n",
      "2800000  selected: {'rc_test': 0, 'managed': 12891, 'prod_test': 0}\n",
      "2900000  selected: {'rc_test': 0, 'managed': 13368, 'prod_test': 0}\n",
      "3000000  selected: {'rc_test': 0, 'managed': 13843, 'prod_test': 0}\n",
      "3100000  selected: {'rc_test': 0, 'managed': 14337, 'prod_test': 0}\n",
      "3200000  selected: {'rc_test': 0, 'managed': 14825, 'prod_test': 0}\n",
      "3300000  selected: {'rc_test': 0, 'managed': 15280, 'prod_test': 0}\n",
      "3400000  selected: {'rc_test': 0, 'managed': 15759, 'prod_test': 0}\n",
      "3500000  selected: {'rc_test': 0, 'managed': 16205, 'prod_test': 0}\n",
      "3600000  selected: {'rc_test': 0, 'managed': 16664, 'prod_test': 0}\n",
      "3700000  selected: {'rc_test': 0, 'managed': 17094, 'prod_test': 0}\n",
      "3800000  selected: {'rc_test': 0, 'managed': 17551, 'prod_test': 0}\n",
      "3900000  selected: {'rc_test': 0, 'managed': 18029, 'prod_test': 0}\n",
      "4000000  selected: {'rc_test': 0, 'managed': 18464, 'prod_test': 0}\n",
      "4100000  selected: {'rc_test': 0, 'managed': 18913, 'prod_test': 0}\n",
      "4200000  selected: {'rc_test': 0, 'managed': 19385, 'prod_test': 0}\n",
      "4300000  selected: {'rc_test': 0, 'managed': 19831, 'prod_test': 0}\n",
      "4400000  selected: {'rc_test': 0, 'managed': 20309, 'prod_test': 0}\n",
      "4500000  selected: {'rc_test': 0, 'managed': 20784, 'prod_test': 0}\n",
      "4600000  selected: {'rc_test': 0, 'managed': 21272, 'prod_test': 0}\n",
      "4700000  selected: {'rc_test': 0, 'managed': 21761, 'prod_test': 0}\n",
      "4800000  selected: {'rc_test': 0, 'managed': 22250, 'prod_test': 0}\n",
      "4900000  selected: {'rc_test': 0, 'managed': 22744, 'prod_test': 0}\n",
      "5000000  selected: {'rc_test': 0, 'managed': 23232, 'prod_test': 0}\n",
      "5100000  selected: {'rc_test': 0, 'managed': 23715, 'prod_test': 0}\n",
      "5200000  selected: {'rc_test': 0, 'managed': 24146, 'prod_test': 0}\n",
      "5300000  selected: {'rc_test': 0, 'managed': 24557, 'prod_test': 0}\n",
      "5400000  selected: {'rc_test': 0, 'managed': 25008, 'prod_test': 0}\n",
      "5500000  selected: {'rc_test': 0, 'managed': 25479, 'prod_test': 0}\n",
      "5600000  selected: {'rc_test': 0, 'managed': 25937, 'prod_test': 0}\n",
      "5700000  selected: {'rc_test': 0, 'managed': 26353, 'prod_test': 0}\n",
      "5800000  selected: {'rc_test': 0, 'managed': 26783, 'prod_test': 0}\n",
      "5900000  selected: {'rc_test': 0, 'managed': 27207, 'prod_test': 0}\n",
      "6000000  selected: {'rc_test': 0, 'managed': 27647, 'prod_test': 0}\n",
      "6100000  selected: {'rc_test': 0, 'managed': 28083, 'prod_test': 0}\n",
      "6200000  selected: {'rc_test': 0, 'managed': 28521, 'prod_test': 0}\n",
      "6300000  selected: {'rc_test': 0, 'managed': 28931, 'prod_test': 0}\n",
      "6400000  selected: {'rc_test': 0, 'managed': 29343, 'prod_test': 0}\n",
      "6500000  selected: {'rc_test': 0, 'managed': 29761, 'prod_test': 0}\n",
      "6600000  selected: {'rc_test': 0, 'managed': 30211, 'prod_test': 0}\n",
      "6700000  selected: {'rc_test': 0, 'managed': 30666, 'prod_test': 0}\n",
      "6800000  selected: {'rc_test': 0, 'managed': 31149, 'prod_test': 0}\n",
      "6900000  selected: {'rc_test': 0, 'managed': 31587, 'prod_test': 0}\n",
      "7000000  selected: {'rc_test': 0, 'managed': 32067, 'prod_test': 0}\n",
      "7100000  selected: {'rc_test': 0, 'managed': 32541, 'prod_test': 0}\n",
      "7200000  selected: {'rc_test': 0, 'managed': 32981, 'prod_test': 0}\n",
      "7300000  selected: {'rc_test': 0, 'managed': 33413, 'prod_test': 0}\n",
      "7400000  selected: {'rc_test': 0, 'managed': 33839, 'prod_test': 0}\n",
      "7500000  selected: {'rc_test': 0, 'managed': 34316, 'prod_test': 0}\n",
      "7600000  selected: {'rc_test': 0, 'managed': 34792, 'prod_test': 0}\n",
      "7700000  selected: {'rc_test': 0, 'managed': 35272, 'prod_test': 0}\n",
      "7800000  selected: {'rc_test': 0, 'managed': 35763, 'prod_test': 0}\n",
      "7900000  selected: {'rc_test': 0, 'managed': 36255, 'prod_test': 0}\n",
      "8000000  selected: {'rc_test': 0, 'managed': 36821, 'prod_test': 0}\n",
      "8100000  selected: {'rc_test': 0, 'managed': 37338, 'prod_test': 0}\n",
      "8200000  selected: {'rc_test': 0, 'managed': 37845, 'prod_test': 0}\n",
      "8300000  selected: {'rc_test': 0, 'managed': 38355, 'prod_test': 0}\n",
      "8400000  selected: {'rc_test': 0, 'managed': 38927, 'prod_test': 0}\n",
      "8500000  selected: {'rc_test': 0, 'managed': 39467, 'prod_test': 0}\n",
      "8600000  selected: {'rc_test': 0, 'managed': 39982, 'prod_test': 0}\n",
      "8700000  selected: {'rc_test': 0, 'managed': 40558, 'prod_test': 0}\n",
      "8800000  selected: {'rc_test': 0, 'managed': 41082, 'prod_test': 0}\n",
      "8900000  selected: {'rc_test': 0, 'managed': 41592, 'prod_test': 0}\n",
      "9000000  selected: {'rc_test': 0, 'managed': 42139, 'prod_test': 0}\n",
      "9100000  selected: {'rc_test': 0, 'managed': 42653, 'prod_test': 0}\n",
      "9200000  selected: {'rc_test': 0, 'managed': 43202, 'prod_test': 0}\n",
      "9300000  selected: {'rc_test': 0, 'managed': 43626, 'prod_test': 0}\n",
      "9400000  selected: {'rc_test': 0, 'managed': 44080, 'prod_test': 0}\n",
      "9500000  selected: {'rc_test': 0, 'managed': 44541, 'prod_test': 0}\n",
      "9600000  selected: {'rc_test': 0, 'managed': 45052, 'prod_test': 0}\n",
      "9700000  selected: {'rc_test': 0, 'managed': 45688, 'prod_test': 0}\n",
      "9800000  selected: {'rc_test': 0, 'managed': 46262, 'prod_test': 0}\n",
      "9900000  selected: {'rc_test': 0, 'managed': 46797, 'prod_test': 0}\n",
      "10000000  selected: {'rc_test': 0, 'managed': 47344, 'prod_test': 0}\n",
      "10100000  selected: {'rc_test': 0, 'managed': 47937, 'prod_test': 0}\n",
      "10200000  selected: {'rc_test': 0, 'managed': 48534, 'prod_test': 0}\n",
      "10300000  selected: {'rc_test': 0, 'managed': 49143, 'prod_test': 0}\n"
     ]
    }
   ],
   "source": [
    "# select only production jobs as only these can potentially have benchmark done. \n",
    "# prodsourcelabel = prod_test, rc_test, managed\n",
    "job_query = {\n",
    "    \"size\": 0,\n",
    "    \"_source\": [\"cpuconsumptiontime\", \"wall_time\", \"hs06\",\"nevents\",\"prodsourcelabel\",\"processingtype\",\"computingsite\"],\n",
    "    'query':{\n",
    "            'bool':{\n",
    "                   'should':[\n",
    "                      # { \"term\": {\"prodsourcelabel\": \"rc_test\" } },\n",
    "                      # { \"term\": {\"prodsourcelabel\": \"prod_test\" } },\n",
    "                       { \"term\": {\"prodsourcelabel\": \"managed\" } }\n",
    "                   ]\n",
    "            }\n",
    "    }\n",
    "                \n",
    "}\n",
    "\n",
    "data=[]\n",
    "scroll = scan(client=es, index=job_indices, query=job_query, scroll='5m', timeout=\"5m\", size=10000)\n",
    "count = 0\n",
    "counttype={'managed':0,'rc_test':0,'prod_test':0}\n",
    "jobsPerSite={}\n",
    "for res in scroll:\n",
    "    count += 1\n",
    "    #print(res)\n",
    "    #if count>3: break\n",
    "    \n",
    "    r=res['_source']\n",
    "    \n",
    "    site=r['computingsite']\n",
    "    if site not in jobsPerSite:\n",
    "        jobsPerSite[site]=0\n",
    "    jobsPerSite[site]+=1\n",
    "    \n",
    "    if not count%100000: \n",
    "        print(count, ' selected:', counttype)\n",
    "        #print(data)\n",
    "    \n",
    "    pid=int(res['_id'])\n",
    "    if pid not in pids: continue\n",
    "    \n",
    "    counttype[r['prodsourcelabel']]+=1\n",
    "    cpu=r['cpuconsumptiontime']\n",
    "    wall=r['wall_time']\n",
    "    nevents=r['nevents']\n",
    "    if wall>0: cpueff = cpu/wall\n",
    "    if nevents>0:\n",
    "        wallPerEvent = wall/nevents\n",
    "        cpuPerEvent = cpu/nevents\n",
    "    else:\n",
    "        wallPerEvent = 0\n",
    "        cpuPerEvent =0\n",
    "    doc=[pid,cpu,wall,r['hs06'],r['processingtype'],nevents, cpueff, wallPerEvent, cpuPerEvent]\n",
    "    data.append(doc)\n",
    "\n",
    "job=pd.DataFrame(data,columns=['pandaid','cputime','walltime','hs06','processingtype','nevents','cpueff', 'wallPerEvent', 'cpuPerEvent'])\n",
    "del data"
   ]
  },
  {
   "cell_type": "code",
   "execution_count": 7,
   "metadata": {
    "collapsed": false
   },
   "outputs": [
    {
     "data": {
      "text/html": [
       "<div>\n",
       "<table border=\"1\" class=\"dataframe\">\n",
       "  <thead>\n",
       "    <tr style=\"text-align: right;\">\n",
       "      <th></th>\n",
       "      <th>pandaid</th>\n",
       "      <th>cputime</th>\n",
       "      <th>walltime</th>\n",
       "      <th>hs06</th>\n",
       "      <th>processingtype</th>\n",
       "      <th>nevents</th>\n",
       "      <th>cpueff</th>\n",
       "      <th>wallPerEvent</th>\n",
       "      <th>cpuPerEvent</th>\n",
       "    </tr>\n",
       "  </thead>\n",
       "  <tbody>\n",
       "    <tr>\n",
       "      <th>0</th>\n",
       "      <td>3326375042</td>\n",
       "      <td>29513</td>\n",
       "      <td>11863</td>\n",
       "      <td>96</td>\n",
       "      <td>reprocessing</td>\n",
       "      <td>2338</td>\n",
       "      <td>2.487819</td>\n",
       "      <td>5.073995</td>\n",
       "      <td>12.623182</td>\n",
       "    </tr>\n",
       "    <tr>\n",
       "      <th>1</th>\n",
       "      <td>3327803396</td>\n",
       "      <td>22947</td>\n",
       "      <td>3502</td>\n",
       "      <td>77</td>\n",
       "      <td>merge</td>\n",
       "      <td>64062</td>\n",
       "      <td>6.552541</td>\n",
       "      <td>0.054666</td>\n",
       "      <td>0.358200</td>\n",
       "    </tr>\n",
       "    <tr>\n",
       "      <th>2</th>\n",
       "      <td>3330689156</td>\n",
       "      <td>7696</td>\n",
       "      <td>2433</td>\n",
       "      <td>90</td>\n",
       "      <td>merge</td>\n",
       "      <td>22779</td>\n",
       "      <td>3.163173</td>\n",
       "      <td>0.106809</td>\n",
       "      <td>0.337855</td>\n",
       "    </tr>\n",
       "    <tr>\n",
       "      <th>3</th>\n",
       "      <td>3335362910</td>\n",
       "      <td>3260</td>\n",
       "      <td>4759</td>\n",
       "      <td>10</td>\n",
       "      <td>reprocessing</td>\n",
       "      <td>12652</td>\n",
       "      <td>0.685018</td>\n",
       "      <td>0.376146</td>\n",
       "      <td>0.257667</td>\n",
       "    </tr>\n",
       "    <tr>\n",
       "      <th>4</th>\n",
       "      <td>3334380752</td>\n",
       "      <td>650</td>\n",
       "      <td>2313</td>\n",
       "      <td>10</td>\n",
       "      <td>reprocessing</td>\n",
       "      <td>2152</td>\n",
       "      <td>0.281020</td>\n",
       "      <td>1.074814</td>\n",
       "      <td>0.302045</td>\n",
       "    </tr>\n",
       "  </tbody>\n",
       "</table>\n",
       "</div>"
      ],
      "text/plain": [
       "      pandaid  cputime  walltime  hs06 processingtype  nevents    cpueff  \\\n",
       "0  3326375042    29513     11863    96   reprocessing     2338  2.487819   \n",
       "1  3327803396    22947      3502    77          merge    64062  6.552541   \n",
       "2  3330689156     7696      2433    90          merge    22779  3.163173   \n",
       "3  3335362910     3260      4759    10   reprocessing    12652  0.685018   \n",
       "4  3334380752      650      2313    10   reprocessing     2152  0.281020   \n",
       "\n",
       "   wallPerEvent  cpuPerEvent  \n",
       "0      5.073995    12.623182  \n",
       "1      0.054666     0.358200  \n",
       "2      0.106809     0.337855  \n",
       "3      0.376146     0.257667  \n",
       "4      1.074814     0.302045  "
      ]
     },
     "execution_count": 7,
     "metadata": {},
     "output_type": "execute_result"
    }
   ],
   "source": [
    "job.head()"
   ]
  },
  {
   "cell_type": "markdown",
   "metadata": {},
   "source": [
    "#### store all the jobs together"
   ]
  },
  {
   "cell_type": "code",
   "execution_count": 8,
   "metadata": {
    "collapsed": false
   },
   "outputs": [],
   "source": [
    "job.to_csv('job.csv',index=False)"
   ]
  },
  {
   "cell_type": "markdown",
   "metadata": {},
   "source": [
    "#### store jobs split per processingtype"
   ]
  },
  {
   "cell_type": "code",
   "execution_count": 9,
   "metadata": {
    "collapsed": false
   },
   "outputs": [
    {
     "name": "stdout",
     "output_type": "stream",
     "text": [
      "['reprocessing' 'merge' 'simul' 'evgen' 'pmerge' 'recon' 'eventIndex'\n",
      " 'pile' 'overlay']\n"
     ]
    }
   ],
   "source": [
    "UniqueProcessingTypes = job.processingtype.unique()\n",
    "print(UniqueProcessingTypes)\n",
    "\n",
    "#create a dict for all the dataframes to be filled later\n",
    "ProcessingType = {elem : pd.DataFrame for elem in UniqueProcessingTypes}\n",
    "\n",
    "#filling up data frames\n",
    "for key in ProcessingType.keys():\n",
    "    job[:][job.processingtype == key].to_csv(key+'.csv',index=False)"
   ]
  },
  {
   "cell_type": "code",
   "execution_count": 10,
   "metadata": {
    "collapsed": false
   },
   "outputs": [],
   "source": [
    "#full = pd.merge(benchmark, job, on='pandaid')\n",
    "#full.head()\n",
    "#full.to_csv('benchmark_job.csv',index=False)"
   ]
  },
  {
   "cell_type": "code",
   "execution_count": 11,
   "metadata": {
    "collapsed": false
   },
   "outputs": [
    {
     "name": "stdout",
     "output_type": "stream",
     "text": [
      "CONNECT_JETSTREAM 11731\n",
      "BNL_PROD 209667\n",
      "CONNECT_ICCHEPT3 11246\n",
      "CONNECT_UIUC 1823\n",
      "LRZ-LMU_MUC1_MCORE 10573\n",
      "ALCF_Theta 1078\n",
      "CONNECT_FRESNOSTATE 2120\n",
      "LRZ-LMU_MUC_MCORE1 2137\n",
      "CONNECT_KARST 5727\n",
      "OU_OSCER_ATLAS_MCORE 1349\n",
      "CONNECT_JETSTREAM_MCORE 6564\n",
      "praguelcg2_fzu_MCORE 3320\n",
      "CA-VICTORIA-WESTGRID-T2_MCORE 9601\n",
      "CPPM_MCORE 9589\n",
      "ORNL_Titan_MCORE 28284\n",
      "UKI-NORTHGRID-MAN-HEP_MCOREVAC 4254\n",
      "SiGNET 37535\n",
      "RRC-KI-HPC2 5769\n",
      "LRZ-LMU_C2PAP_MCORE 28587\n",
      "OU_OSCER_ATLAS_OPP 12977\n",
      "HPC2N 9141\n",
      "SiGNET-NSC_MCORE 4554\n",
      "CA-VICTORIA-WESTGRID-T2 25719\n",
      "BNL_LOCAL 7876\n",
      "BNL_PROD_MCORE 142802\n",
      "HPC2N_MCORE 13338\n",
      "CONNECT_ICCHEPT3_MCORE 2020\n",
      "CONNECT_KARST_MCORE 1509\n",
      "SiGNET_MCORE 30719\n",
      "OU_OSCER_ATLAS 7786\n",
      "NERSC_Edison_2 14932\n",
      "Anselm_MCORE 99885\n"
     ]
    }
   ],
   "source": [
    "#for ps in benchmarksPerSite:\n",
    "#    print(ps, benchmarksPerSite[ps])\n",
    "\n",
    "for ps in jobsPerSite:\n",
    "    if ps not in benchmarksPerSite and jobsPerSite[ps]>1000: \n",
    "        print(ps, jobsPerSite[ps])#,'       <<<<<<<<<<<<<')\n",
    "    #else:\n",
    "        #print(ps, jobsPerSite[ps],benchmarksPerSite[ps])"
   ]
  },
  {
   "cell_type": "code",
   "execution_count": 12,
   "metadata": {
    "collapsed": false
   },
   "outputs": [
    {
     "name": "stdout",
     "output_type": "stream",
     "text": [
      "{'LPSC_MCORE': 10441, 'RAL-LCG2_HIMEM_SL6': 235, 'SWT2_CPB': 42233, 'CERN-PROD_T0_8MCORE': 27219, 'pic_MCORE': 17526, 'UIO_MCORE_LOPRI': 3292, 'IN2P3-CC_MCORE_HIMEM': 11429, 'IFAE_MCORE': 8431, 'GRIF-LAL_HTCondor': 22806, 'BEIJING-TIANJIN-TH-1A_MCORE': 685, 'UNIBE-LHEP_CLOUD_MCORE': 485, 'RRC-KI_PROD': 1222, 'ATLAS_OPP_OSG-CLEMSON_PALMETTO': 6023, 'TOKYO': 50821, 'UKI-SCOTGRID-GLASGOW_SL6': 78996, 'UKI-NORTHGRID-MAN-HEP_SL6': 27722, 'UKI-SOUTHGRID-OX-HEP_MCORE': 9590, 'GRIF-LAL_HTCondor_MCORE': 12427, 'CA-MCGILL-CLUMEQ-T2': 10335, 'INFN-FRASCATI_MCORE': 10134, 'INFN-T1-BA': 32391, 'IAAS_MCORE': 12241, 'SLACXRD_LMEM': 9028, 'FZK-LCG2': 32117, 'NCG-INGRID-PT_SL6': 2290, 'CONNECT_JETSTREAM': 11731, 'BNL_PROD': 209667, 'IL-TAU-HEP': 2511, 'INFN-NAPOLI-SCOPE': 9121, 'praguelcg2_fzu_SCORE': 6652, 'LUNARC': 13128, 'UKI-SOUTHGRID-SUSX_SL6': 715, 'SFU-LCG2_MCORE': 4212, 'BU_ATLAS_Tier2_SL6': 43700, 'UKI-NORTHGRID-LIV-HEP_VAC': 2064, 'RAL-LCG2-ECHO_MCORE': 53985, 'CONNECT_ICCHEPT3': 11246, 'CONNECT_UIUC': 1823, 'TW-FTT_SL6': 18036, 'Australia-ATLAS': 24322, 'LRZ-LMU_MUC1_MCORE': 10573, 'Taiwan-LCG2_VL': 12276, 'UNIBE-LHEP_MCORE': 16044, 'EELA-UTFSM': 4227, 'UNIBE-LHEP': 17865, 'UNIBE-LHEP_CLOUD': 230, 'IFIC': 24453, 'MPPMU-DRACO_MCORE': 1786, 'UNI-FREIBURG': 12611, 'CERN-PROD-preprod_MCORE': 25937, 'UKI-LT2-RHUL_MCORE': 6983, 'INFN-FRASCATI': 8291, 'UKI-SOUTHGRID-CAM-HEP_SL6': 1997, 'UNI-FREIBURG_MCORE': 27183, 'DCSC': 4138, 'ARNES': 33712, 'TRIUMF': 61428, 'ATLAS_OPP_OSG-GLOW': 28930, 'INFN-NAPOLI-RECAS_MCORE': 12434, 'ROMANIA14': 679, 'MWT2_HIMEM_MCORE': 2019, 'UKI-SOUTHGRID-SUSX_MCORE': 2990, 'BEIJING': 7293, 'CSCS-LCG2': 5388, 'wuppertalprod': 17525, 'ALCF_Theta': 1078, 'UKI-SOUTHGRID-OX-HEP_SL6': 8621, 'CA-SCINET-T2': 5265, 'ROMANIA07_MCORE': 8687, 'CONNECT_FRESNOSTATE': 2120, 'NIKHEF-ELPROD_MCORE': 15577, 'IEPSAS-Kosice_MCORE': 7352, 'TR-10-ULAKBIM': 4, 'LRZ-LMU_MUC_MCORE1': 2137, 'UKI-SOUTHGRID-BHAM-HEP_VAC': 2454, 'IEPSAS-Kosice': 3763, 'CONNECT_KARST': 5727, 'INFN-ROMA3_MCORE': 219, 'MPPMU-HYDRA_MCORE': 1452, 'HU_ATLAS_Tier2': 23373, 'Lucille_CE': 19586, 'ITEP_MCORE': 1025, 'CERN-P1_DYNAMIC_MCORE_LOWMEM': 76432, 'MWT2_MCORE': 64149, 'INFN-NAPOLI-ATLAS_MCORE': 12598, 'RAL-LCG2_VHIMEM': 11, 'UAM-LCG2_MCORE': 4792, 'INFN-COSENZA-RECAS_MCORE': 13716, 'Lucille_MCORE': 2080, 'Taiwan-LCG2': 29191, 'TW-FTT_MCORE': 5391, 'UKI-NORTHGRID-LIV-HEP_MCORE': 12354, 'IN2P3-CC': 129287, 'BEIJING_MCORE': 8201, 'OU_OSCER_ATLAS_MCORE': 1349, 'LAPP_MCORE': 31962, 'INFN-LECCE': 5247, 'INFN-ROMA3': 82, 'LPC': 3079, 'JINR_PROD': 205877, 'DCSC_MCORE': 1984, 'DESY-HH_MCORE': 33555, 'UKI-SCOTGRID-GLASGOW_VAC': 1749, 'BNL_CLOUD_MCORE': 1693, 'TRIUMF_HIMEM': 214, 'INFN-NAPOLI-RECAS': 10143, 'CSCS-LCG2-HPC': 5, 'ROMANIA02': 599, 'LRZ-LMU_MCORE': 19361, 'UKI-SCOTGRID-ECDF_SL7': 11565, 'ATLAS_OPP_OSG-CIT_CMS_T2': 20561, 'CERN-PROD_T0_4MCORE': 97471, 'INFN-T1_HIMEM': 17826, 'UKI-LT2-IC-HEP_MCORE': 8532, 'CONNECT_JETSTREAM_MCORE': 6564, 'ROMANIA07': 10998, 'UNIBE-LHEP-UBELIX': 6101, 'praguelcg2_fzu_MCORE': 3320, 'TOKYO_MCORE_ARC': 22908, 'pic': 27539, 'CERN-PROD-preprod': 66923, 'BNL_ATLAS_2': 175, 'UNI-SIEGEN-HEP': 11419, 'UKI-LT2-IC-HEP_SL6': 18671, 'INFN-ROMA1': 5234, 'INFN-T1_MCORE': 14671, 'CA-VICTORIA-WESTGRID-T2_MCORE': 9601, 'SARA-MATRIX_MCORE': 48151, 'DESY-HH': 10871, 'SARA-MATRIX': 87398, 'ARNES_MCORE': 14551, 'CPPM_MCORE': 9589, 'CPPM': 12389, 'RAL-LCG2_MCORE': 21719, 'GRIF-IRFU_MCORE': 21286, 'UKI-SOUTHGRID-OX-HEP_VAC': 825, 'UKI-SCOTGRID-DURHAM_MCORE': 12330, 'UKI-NORTHGRID-LANCS-HEP_MCORE': 4113, 'UKI-LT2-QMUL_HIMEM_SL6': 17409, 'AGLT2_LMEM': 28200, 'ORNL_Titan_MCORE': 28284, 'ATLAS_OPP_OSG-HYAK': 226, 'UKI-SOUTHGRID-RALPP_SL6': 12362, 'INFN-COSENZA-RECAS': 4214, 'CSCS-LCG2_MCORE': 18853, 'TOKYO_ARC': 24211, 'CA-MCGILL-CLUMEQ-T2_MCORE': 7749, 'ROMANIA16': 2716, 'RRC-KI-T1': 41398, 'praguelcg2_MCORE': 14956, 'UKI-NORTHGRID-MAN-HEP_MCOREVAC': 4254, 'LPC_MCORE': 6214, 'ATLAS_OPP_OSG-USCMS-FNAL-WC1-CE3': 4303, 'MWT2_HIMEM': 56753, 'UKI-NORTHGRID-LANCS-HEP_SL6': 43913, 'INFN-BOLOGNA-T3': 20867, 'CONNECT_UIUC_MCORE': 738, 'SiGNET': 37535, 'RRC-KI-T1_MCORE': 36654, 'IN2P3-CC_MCORE': 41189, 'RRC-KI-HPC2': 5769, 'UAM-LCG2': 11724, 'SWT2_CPB_MCORE': 44027, 'HU_ATLAS_Tier2_MCORE': 18445, 'DESY-ZN_MCORE': 20930, 'CERN-P1_DYNAMIC_MCORE': 32358, 'IFIC_MCORE': 17660, 'BU_ATLAS_Tier2_MCORE': 47944, 'BOINC_MCORE': 28574, 'Australia-ATLAS_MCORE': 18999, 'CERN-PROD_CLOUD': 10201, 'ROMANIA07_ARC': 3932, 'CERN-P1_DYNAMIC_SCORE': 75891, 'LUNARC_MCORE': 10266, 'ROMANIA16_MCORE': 1379, 'PSNC': 16813, 'NCG-INGRID-PT_MCORE': 8378, 'UTA_SWT2': 4288, 'LRZ-LMU_C2PAP_MCORE': 28587, 'IL-TAU-HEP_MCORE': 11637, 'INFN-MILANO-ATLASC': 9464, 'wuppertalprod_MCORE': 13116, 'UKI-LT2-RHUL_SL6': 38293, 'OU_OCHEP_SWT2': 28047, 'LRZ-LMU': 14648, 'UKI-LT2-Brunel_SL6': 5484, 'LAPP': 44600, 'CA-SCINET-T2_MCORE': 4058, 'OU_OSCER_ATLAS_OPP': 12977, 'Taiwan-LCG2_MCORE': 16099, 'UKI-SOUTHGRID-RALPP_MCORE': 8539, 'CERN-PROD_CLOUD_MCORE': 1566, 'JINR_MCORE': 4059, 'wuppertalprod_HI': 9874, 'CERN-PROD_PUB_SCORE_SHORT': 96309, 'ATLAS_OPP_OSG_MCORE-UCSDT2': 1366, 'HPC2N': 9141, 'NIKHEF-ELPROD': 51935, 'AGLT2_SL6': 61183, 'IFAE': 3999, 'CERN-PROD_HI': 69585, 'ATLAS_OPP_OSG-FNAL_GPCE02': 1709, 'GoeGrid_MCORE': 16540, 'UKI-LT2-UCL-HEP_VAC': 1855, 'IHEP_MCORE': 12893, 'Taiwan-LCG2-HPC_MCORE': 1096, 'UKI-LT2-QMUL_MCORE': 15933, 'SiGNET-NSC_MCORE': 4554, 'UKI-SOUTHGRID-BHAM-HEP_SL6': 5868, 'NIKHEF-ELPROD-HighMem': 1665, 'UKI-LT2-Brunel_MCORE': 4280, 'TOKYO_MCORE': 37396, 'ITEP_PROD': 1, 'NERSC_Edison': 451, 'CONNECT_RODEO': 248, 'CA-VICTORIA-WESTGRID-T2': 25719, 'CYFRONET-LCG2': 5983, 'AGLT2_MCORE': 44409, 'UKI-NORTHGRID-MAN-HEP_MCORE': 13562, 'UKI-SCOTGRID-GLASGOW_MCORE': 17262, 'CERN-PROD': 134758, 'INFN-MILANO-ATLASC_MCORE': 19733, 'NIKHEF-ELPROD_LONG': 1284, 'MPPMU': 9108, 'ATLAS_OPP_OSG_ES-PURDUE': 2483, 'GRIF-LPNHE': 10904, 'UKI-SOUTHGRID-CAM-HEP_MCORE': 3657, 'MWT2_SL6': 138632, 'TRIUMF_MCORE': 140, 'TR-10-ULAKBIM_MCORE': 30, 'praguelcg2': 22328, 'BNL_LOCAL': 7876, 'UKI-NORTHGRID-LIV-HEP_SL6': 2371, 'pic_HIMEM': 4707, 'GoeGrid': 5500, 'TECHNION-HEP': 5438, 'SFU-LCG2': 2094, 'UNIGE-DPNC_MCORE': 513, 'UIO_MCORE': 5745, 'NSC_MCORE': 907, 'RAL-LCG2_SL6': 19265, 'FZK-LCG2_MCORE_HI': 237, 'UKI-NORTHGRID-SHEF-HEP_SL6': 2406, 'ROMANIA02_MCORE': 5575, 'FZK-LCG2_MCORE_LO': 20629, 'TRIUMF_MCORE_LOMEM': 39964, 'UKI-NORTHGRID-MAN-HEP_VAC': 14166, 'MPPMU_MCORE': 15834, 'BNL_PROD_MCORE': 142802, 'INFN-T1': 32267, 'IN2P3-CC_HIMEM': 2126, 'FMPhI-UNIBA': 15251, 'IAAS': 31172, 'HPC2N_MCORE': 13338, 'IN2P3-LPSC': 6446, 'INFN-NAPOLI-ATLAS': 14121, 'ROMANIA14_MCORE': 317, 'UIO': 8027, 'GRIF-LPNHE_MCORE': 24546, 'Taiwan-LCG2-HPC': 2282, 'FZK-LCG2_HIMEM': 15612, 'SLACXRD_MP8': 44517, 'Taiwan-LCG2_HIMEM': 43, 'IHEP_PROD': 7725, 'ZA-WITS-CORE': 763, 'ATLAS_OPP_OSG-FNAL_GPCE01': 2152, 'RAL-LCG2_VAC': 971, 'CONNECT_ICCHEPT3_MCORE': 2020, 'CONNECT_KARST_MCORE': 1509, 'TECHNION-HEP_MCORE': 2394, 'UNIBE-LHEP-UBELIX_MCORE': 11738, 'UKI-SCOTGRID-DURHAM_SL6': 4447, 'SLACXRD': 40456, 'SFU-LCG2_MCORE_HIMEM': 6908, 'ATLAS_OPP_OSG_ES-UCONN': 10413, 'BEIJING-ERAII_MCORE': 777, 'UNIGE-DPNC': 2561, 'PNPI_PROD': 474, 'UKI-SCOTGRID-ECDF_MCORE_SL7': 6088, 'ATLAS_OPP_OSG-MIT_CMS': 6281, 'CYFRONET-LCG2_MCORE': 10258, 'UTA_SWT2_MCORE': 4389, 'UKI-SCOTGRID-DURHAM-ARC': 307, 'SiGNET_MCORE': 30719, 'OU_OSCER_ATLAS': 7786, 'GRIF-IRFU': 31049, 'NSC': 2835, 'INFN-ROMA1_MCORE': 18845, 'WISC_ATLAS_ES': 100, 'INFN-GENOVA': 3081, 'DESY-ZN': 14243, 'UKI-NORTHGRID-SHEF-HEP_MCORE': 12079, 'UKI-LT2-QMUL_SL6': 25473, 'NERSC_Edison_2': 14932, 'Anselm_MCORE': 99885, 'FZK-LCG2_MCORE': 28168}\n"
     ]
    }
   ],
   "source": [
    "print (jobsPerSite)\n",
    "#print (benchmarksPerSite)"
   ]
  },
  {
   "cell_type": "code",
   "execution_count": null,
   "metadata": {
    "collapsed": true
   },
   "outputs": [],
   "source": []
  }
 ],
 "metadata": {
  "kernelspec": {
   "display_name": "Python 3",
   "language": "python",
   "name": "python3"
  },
  "language_info": {
   "codemirror_mode": {
    "name": "ipython",
    "version": 3
   },
   "file_extension": ".py",
   "mimetype": "text/x-python",
   "name": "python",
   "nbconvert_exporter": "python",
   "pygments_lexer": "ipython3",
   "version": "3.5.1"
  }
 },
 "nbformat": 4,
 "nbformat_minor": 0
}
