{
 "cells": [
  {
   "cell_type": "markdown",
   "metadata": {},
   "source": [
    "# Joins columns from benchmarks and jobsarchive tables and outputs them for ML analysis"
   ]
  },
  {
   "cell_type": "code",
   "execution_count": 1,
   "metadata": {
    "collapsed": false
   },
   "outputs": [],
   "source": [
    "import pickle\n",
    "import re\n",
    "import datetime\n",
    "from elasticsearch import Elasticsearch, helpers\n",
    "from elasticsearch.helpers import scan\n",
    "\n",
    "import numpy as np\n",
    "import pandas as pd\n",
    "\n",
    "es = Elasticsearch([{'host':'atlas-kibana.mwt2.org', 'port':9200}],timeout=60)\n",
    "\n",
    "#start_date = datetime.datetime(2017, 4, 7)\n",
    "start_date = datetime.datetime(2017, 5, 1)\n",
    "#curre_date = datetime.datetime(2017, 4, 30, 23, 59, 59)\n",
    "curre_date = datetime.datetime.utcnow()\n",
    "days_of_data = (curre_date - start_date).days\n",
    "\n",
    "benchmark_indices = ['benchmarks-2017.05'] #'benchmarks-2017.04',"
   ]
  },
  {
   "cell_type": "code",
   "execution_count": 2,
   "metadata": {
    "collapsed": false
   },
   "outputs": [
    {
     "name": "stdout",
     "output_type": "stream",
     "text": [
      "jobs_archive_2017-05-01,jobs_archive_2017-05-02,jobs_archive_2017-05-03,jobs_archive_2017-05-04,jobs_archive_2017-05-05,jobs_archive_2017-05-06,jobs_archive_2017-05-07,jobs_archive_2017-05-08,jobs_archive_2017-05-09,jobs_archive_2017-05-10,jobs_archive_2017-05-11,jobs_archive_2017-05-12,jobs_archive_2017-05-13,jobs_archive_2017-05-14,jobs_archive_2017-05-15,jobs_archive_2017-05-16,jobs_archive_2017-05-17,jobs_archive_2017-05-18,jobs_archive_2017-05-19,jobs_archive_2017-05-20,jobs_archive_2017-05-21,jobs_archive_2017-05-22,jobs_archive_2017-05-23,jobs_archive_2017-05-24,jobs_archive_2017-05-25,jobs_archive_2017-05-26,jobs_archive_2017-05-27,jobs_archive_2017-05-28,jobs_archive_2017-05-29,jobs_archive_2017-05-30,jobs_archive_2017-05-31,jobs_archive_2017-06-01,jobs_archive_2017-06-02,jobs_archive_2017-06-03,jobs_archive_2017-06-04,jobs_archive_2017-06-05,jobs_archive_2017-06-06,jobs_archive_2017-06-07,jobs_archive_2017-06-08,jobs_archive_2017-06-09,jobs_archive_2017-06-10,jobs_archive_2017-06-11,jobs_archive_2017-06-12,jobs_archive_2017-06-13,jobs_archive_2017-06-14\n"
     ]
    }
   ],
   "source": [
    "# get job archive indices\n",
    "indices = es.cat.indices(index=\"jobs_archive_20*\", h=\"index\", request_timeout=600).split('\\n')\n",
    "indices = sorted(indices)\n",
    "indices = [x for x in indices if x != '']\n",
    "#for i in indices:\n",
    "#    print(i)\n",
    "\n",
    "selected_indices=[] \n",
    "for d in range(days_of_data+1):\n",
    "    td = start_date + datetime.timedelta(d)\n",
    "    ind = 'jobs_archive_'+td.strftime('%Y-%m-%d')\n",
    "    if ind in indices:\n",
    "        selected_indices.append(ind)\n",
    "\n",
    "job_indices = ','.join(selected_indices)\n",
    "print(job_indices)"
   ]
  },
  {
   "cell_type": "code",
   "execution_count": 3,
   "metadata": {
    "collapsed": false
   },
   "outputs": [
    {
     "name": "stdout",
     "output_type": "stream",
     "text": [
      "0\n",
      "10000\n",
      "20000\n",
      "30000\n",
      "40000\n",
      "50000\n",
      "60000\n",
      "70000\n",
      "80000\n",
      "90000\n",
      "94600\n"
     ]
    }
   ],
   "source": [
    "benchmarks_query={\n",
    "    \"size\": 0,\n",
    "    \"query\":{\n",
    "       \"match_all\": {}\n",
    "    }\n",
    "}\n",
    "\n",
    "res = scan(es, query=benchmarks_query, index=benchmark_indices, scroll='5m', timeout=\"5m\", size=1000)\n",
    "\n",
    "data=[]\n",
    "benchmarksPerSite={}\n",
    "count = 0\n",
    "for r in res:\n",
    "    pr=r['_source']['profiles']\n",
    "    mt=r['_source']['metadata']\n",
    "    site=mt['ATLASSite']\n",
    "    if site not in benchmarksPerSite:\n",
    "        benchmarksPerSite[site]=0\n",
    "    benchmarksPerSite[site]+=1\n",
    "    if 'fastBmk' not in pr: \n",
    "        fastBmk = 0\n",
    "    else:\n",
    "        fastBmk = pr['fastBmk']['value']\n",
    "    if 'whetstone' not in pr:\n",
    "        ws = 0\n",
    "    else:\n",
    "        ws = pr['whetstone']['score']\n",
    "    doc=[mt['PanDAID'],mt['bogomips'],mt['ip'],site,mt['mp_num'],mt['cpuname'],mt['meminfo'],fastBmk,ws]\n",
    "    data.append(doc)\n",
    "    if not count%10000:\n",
    "        print(count)\n",
    "#     if count>100: break\n",
    "    count+=1\n",
    "\n",
    "print(len(data))\n",
    "    \n",
    "benchmark=pd.DataFrame(data,columns=['pandaid','bogomips','ip','site','mpnum','cpuname','meminfo','fastBmk','whetstone'])\n",
    "del data"
   ]
  },
  {
   "cell_type": "code",
   "execution_count": 4,
   "metadata": {
    "collapsed": false
   },
   "outputs": [
    {
     "name": "stdout",
     "output_type": "stream",
     "text": [
      "total benchmarks: 94597\n"
     ]
    }
   ],
   "source": [
    "#print(benchmark.dtypes)\n",
    "benchmark.head()\n",
    "pids=set(benchmark['pandaid'].tolist())\n",
    "print('total benchmarks:', len(pids))\n"
   ]
  },
  {
   "cell_type": "code",
   "execution_count": 5,
   "metadata": {
    "collapsed": true
   },
   "outputs": [],
   "source": [
    "benchmark.to_csv('benchmark.csv',index=False)\n"
   ]
  },
  {
   "cell_type": "code",
   "execution_count": 6,
   "metadata": {
    "collapsed": false
   },
   "outputs": [
    {
     "name": "stdout",
     "output_type": "stream",
     "text": [
      "100000  selected: {'install': 0, 'managed': 563, 'rc_test': 0, 'prod_test': 0}\n",
      "200000  selected: {'install': 0, 'managed': 1107, 'rc_test': 0, 'prod_test': 0}\n",
      "300000  selected: {'install': 0, 'managed': 1650, 'rc_test': 0, 'prod_test': 0}\n",
      "400000  selected: {'install': 0, 'managed': 2163, 'rc_test': 0, 'prod_test': 0}\n",
      "500000  selected: {'install': 0, 'managed': 2676, 'rc_test': 0, 'prod_test': 0}\n",
      "600000  selected: {'install': 0, 'managed': 3217, 'rc_test': 0, 'prod_test': 0}\n",
      "700000  selected: {'install': 0, 'managed': 3809, 'rc_test': 0, 'prod_test': 0}\n",
      "800000  selected: {'install': 0, 'managed': 4355, 'rc_test': 0, 'prod_test': 0}\n",
      "900000  selected: {'install': 0, 'managed': 4861, 'rc_test': 0, 'prod_test': 0}\n",
      "1000000  selected: {'install': 0, 'managed': 5425, 'rc_test': 0, 'prod_test': 0}\n",
      "1100000  selected: {'install': 0, 'managed': 6001, 'rc_test': 0, 'prod_test': 0}\n",
      "1200000  selected: {'install': 0, 'managed': 6545, 'rc_test': 0, 'prod_test': 0}\n",
      "1300000  selected: {'install': 0, 'managed': 7143, 'rc_test': 0, 'prod_test': 0}\n",
      "1400000  selected: {'install': 0, 'managed': 7690, 'rc_test': 0, 'prod_test': 0}\n",
      "1500000  selected: {'install': 0, 'managed': 8257, 'rc_test': 0, 'prod_test': 0}\n",
      "1600000  selected: {'install': 0, 'managed': 8846, 'rc_test': 0, 'prod_test': 0}\n",
      "1700000  selected: {'install': 0, 'managed': 9438, 'rc_test': 0, 'prod_test': 0}\n",
      "1800000  selected: {'install': 0, 'managed': 9981, 'rc_test': 0, 'prod_test': 0}\n",
      "1900000  selected: {'install': 0, 'managed': 10525, 'rc_test': 0, 'prod_test': 0}\n",
      "2000000  selected: {'install': 0, 'managed': 11080, 'rc_test': 0, 'prod_test': 0}\n",
      "2100000  selected: {'install': 0, 'managed': 11614, 'rc_test': 0, 'prod_test': 0}\n",
      "2200000  selected: {'install': 0, 'managed': 12193, 'rc_test': 0, 'prod_test': 0}\n",
      "2300000  selected: {'install': 0, 'managed': 12709, 'rc_test': 0, 'prod_test': 0}\n",
      "2400000  selected: {'install': 0, 'managed': 13275, 'rc_test': 0, 'prod_test': 0}\n",
      "2500000  selected: {'install': 0, 'managed': 13860, 'rc_test': 0, 'prod_test': 0}\n",
      "2600000  selected: {'install': 0, 'managed': 14421, 'rc_test': 0, 'prod_test': 0}\n",
      "2700000  selected: {'install': 0, 'managed': 14970, 'rc_test': 0, 'prod_test': 0}\n",
      "2800000  selected: {'install': 0, 'managed': 15532, 'rc_test': 0, 'prod_test': 0}\n",
      "2900000  selected: {'install': 0, 'managed': 16066, 'rc_test': 0, 'prod_test': 0}\n",
      "3000000  selected: {'install': 0, 'managed': 16642, 'rc_test': 0, 'prod_test': 0}\n",
      "3100000  selected: {'install': 0, 'managed': 17212, 'rc_test': 0, 'prod_test': 0}\n",
      "3200000  selected: {'install': 0, 'managed': 17759, 'rc_test': 0, 'prod_test': 0}\n",
      "3300000  selected: {'install': 0, 'managed': 18326, 'rc_test': 0, 'prod_test': 0}\n",
      "3400000  selected: {'install': 0, 'managed': 18903, 'rc_test': 0, 'prod_test': 0}\n",
      "3500000  selected: {'install': 0, 'managed': 19444, 'rc_test': 0, 'prod_test': 0}\n",
      "3600000  selected: {'install': 0, 'managed': 20017, 'rc_test': 0, 'prod_test': 0}\n",
      "3700000  selected: {'install': 0, 'managed': 20627, 'rc_test': 0, 'prod_test': 0}\n",
      "3800000  selected: {'install': 0, 'managed': 21179, 'rc_test': 0, 'prod_test': 0}\n",
      "3900000  selected: {'install': 0, 'managed': 21754, 'rc_test': 0, 'prod_test': 0}\n",
      "4000000  selected: {'install': 0, 'managed': 22295, 'rc_test': 0, 'prod_test': 0}\n",
      "4100000  selected: {'install': 0, 'managed': 22873, 'rc_test': 0, 'prod_test': 0}\n",
      "4200000  selected: {'install': 0, 'managed': 23438, 'rc_test': 0, 'prod_test': 0}\n",
      "4300000  selected: {'install': 0, 'managed': 24020, 'rc_test': 0, 'prod_test': 0}\n",
      "4400000  selected: {'install': 0, 'managed': 24581, 'rc_test': 0, 'prod_test': 0}\n",
      "4500000  selected: {'install': 0, 'managed': 25129, 'rc_test': 0, 'prod_test': 0}\n",
      "4600000  selected: {'install': 0, 'managed': 25654, 'rc_test': 0, 'prod_test': 0}\n",
      "4700000  selected: {'install': 0, 'managed': 26230, 'rc_test': 0, 'prod_test': 0}\n",
      "4800000  selected: {'install': 0, 'managed': 26772, 'rc_test': 0, 'prod_test': 0}\n",
      "4900000  selected: {'install': 0, 'managed': 27314, 'rc_test': 0, 'prod_test': 0}\n",
      "5000000  selected: {'install': 0, 'managed': 27867, 'rc_test': 0, 'prod_test': 0}\n",
      "5100000  selected: {'install': 0, 'managed': 28414, 'rc_test': 0, 'prod_test': 0}\n",
      "5200000  selected: {'install': 0, 'managed': 29018, 'rc_test': 0, 'prod_test': 0}\n",
      "5300000  selected: {'install': 0, 'managed': 29570, 'rc_test': 0, 'prod_test': 0}\n",
      "5400000  selected: {'install': 0, 'managed': 30167, 'rc_test': 0, 'prod_test': 0}\n",
      "5500000  selected: {'install': 0, 'managed': 30746, 'rc_test': 0, 'prod_test': 0}\n",
      "5600000  selected: {'install': 0, 'managed': 31327, 'rc_test': 0, 'prod_test': 0}\n",
      "5700000  selected: {'install': 0, 'managed': 31910, 'rc_test': 0, 'prod_test': 0}\n",
      "5800000  selected: {'install': 0, 'managed': 32468, 'rc_test': 0, 'prod_test': 0}\n",
      "5900000  selected: {'install': 0, 'managed': 33007, 'rc_test': 0, 'prod_test': 0}\n",
      "6000000  selected: {'install': 0, 'managed': 33580, 'rc_test': 0, 'prod_test': 0}\n",
      "6100000  selected: {'install': 0, 'managed': 34138, 'rc_test': 0, 'prod_test': 0}\n",
      "6200000  selected: {'install': 0, 'managed': 34733, 'rc_test': 0, 'prod_test': 0}\n",
      "6300000  selected: {'install': 0, 'managed': 35313, 'rc_test': 0, 'prod_test': 0}\n",
      "6400000  selected: {'install': 0, 'managed': 35900, 'rc_test': 0, 'prod_test': 0}\n",
      "6500000  selected: {'install': 0, 'managed': 36438, 'rc_test': 0, 'prod_test': 0}\n",
      "6600000  selected: {'install': 0, 'managed': 37003, 'rc_test': 0, 'prod_test': 0}\n",
      "6700000  selected: {'install': 0, 'managed': 37580, 'rc_test': 0, 'prod_test': 0}\n",
      "6800000  selected: {'install': 0, 'managed': 38115, 'rc_test': 0, 'prod_test': 0}\n",
      "6900000  selected: {'install': 0, 'managed': 38707, 'rc_test': 0, 'prod_test': 0}\n",
      "7000000  selected: {'install': 0, 'managed': 39258, 'rc_test': 0, 'prod_test': 0}\n",
      "7100000  selected: {'install': 0, 'managed': 39845, 'rc_test': 0, 'prod_test': 0}\n",
      "7200000  selected: {'install': 0, 'managed': 40472, 'rc_test': 0, 'prod_test': 0}\n",
      "7300000  selected: {'install': 0, 'managed': 41033, 'rc_test': 0, 'prod_test': 0}\n",
      "7400000  selected: {'install': 0, 'managed': 41596, 'rc_test': 0, 'prod_test': 0}\n",
      "7500000  selected: {'install': 0, 'managed': 42159, 'rc_test': 0, 'prod_test': 0}\n",
      "7600000  selected: {'install': 0, 'managed': 42703, 'rc_test': 0, 'prod_test': 0}\n",
      "7700000  selected: {'install': 0, 'managed': 43292, 'rc_test': 0, 'prod_test': 0}\n",
      "7800000  selected: {'install': 0, 'managed': 43875, 'rc_test': 0, 'prod_test': 0}\n",
      "7900000  selected: {'install': 0, 'managed': 44464, 'rc_test': 0, 'prod_test': 0}\n",
      "8000000  selected: {'install': 0, 'managed': 45021, 'rc_test': 0, 'prod_test': 0}\n",
      "8100000  selected: {'install': 0, 'managed': 45592, 'rc_test': 0, 'prod_test': 0}\n",
      "8200000  selected: {'install': 0, 'managed': 46178, 'rc_test': 0, 'prod_test': 0}\n",
      "8300000  selected: {'install': 0, 'managed': 46721, 'rc_test': 0, 'prod_test': 0}\n",
      "8400000  selected: {'install': 0, 'managed': 47314, 'rc_test': 0, 'prod_test': 0}\n",
      "8500000  selected: {'install': 0, 'managed': 47924, 'rc_test': 0, 'prod_test': 0}\n",
      "8600000  selected: {'install': 0, 'managed': 48464, 'rc_test': 0, 'prod_test': 0}\n",
      "8700000  selected: {'install': 0, 'managed': 49072, 'rc_test': 0, 'prod_test': 0}\n",
      "8800000  selected: {'install': 0, 'managed': 49659, 'rc_test': 0, 'prod_test': 0}\n",
      "8900000  selected: {'install': 0, 'managed': 50225, 'rc_test': 0, 'prod_test': 0}\n",
      "9000000  selected: {'install': 0, 'managed': 50808, 'rc_test': 0, 'prod_test': 0}\n",
      "9100000  selected: {'install': 0, 'managed': 51435, 'rc_test': 0, 'prod_test': 0}\n",
      "9200000  selected: {'install': 0, 'managed': 51978, 'rc_test': 0, 'prod_test': 0}\n",
      "9300000  selected: {'install': 0, 'managed': 52514, 'rc_test': 0, 'prod_test': 0}\n",
      "9400000  selected: {'install': 0, 'managed': 53040, 'rc_test': 0, 'prod_test': 0}\n",
      "9500000  selected: {'install': 0, 'managed': 53602, 'rc_test': 0, 'prod_test': 0}\n",
      "9600000  selected: {'install': 0, 'managed': 54190, 'rc_test': 0, 'prod_test': 0}\n",
      "9700000  selected: {'install': 0, 'managed': 54798, 'rc_test': 0, 'prod_test': 0}\n",
      "9800000  selected: {'install': 0, 'managed': 55323, 'rc_test': 0, 'prod_test': 0}\n",
      "9900000  selected: {'install': 0, 'managed': 55836, 'rc_test': 0, 'prod_test': 0}\n",
      "10000000  selected: {'install': 0, 'managed': 56454, 'rc_test': 0, 'prod_test': 0}\n",
      "10100000  selected: {'install': 0, 'managed': 57010, 'rc_test': 0, 'prod_test': 0}\n",
      "10200000  selected: {'install': 0, 'managed': 57621, 'rc_test': 0, 'prod_test': 0}\n",
      "10300000  selected: {'install': 0, 'managed': 58213, 'rc_test': 0, 'prod_test': 0}\n",
      "10400000  selected: {'install': 0, 'managed': 58828, 'rc_test': 0, 'prod_test': 0}\n",
      "10500000  selected: {'install': 0, 'managed': 59350, 'rc_test': 0, 'prod_test': 0}\n",
      "10600000  selected: {'install': 0, 'managed': 59905, 'rc_test': 0, 'prod_test': 0}\n",
      "10700000  selected: {'install': 0, 'managed': 60430, 'rc_test': 0, 'prod_test': 0}\n",
      "10800000  selected: {'install': 0, 'managed': 60955, 'rc_test': 0, 'prod_test': 0}\n",
      "10900000  selected: {'install': 0, 'managed': 61474, 'rc_test': 0, 'prod_test': 0}\n",
      "11000000  selected: {'install': 0, 'managed': 62057, 'rc_test': 0, 'prod_test': 0}\n",
      "11100000  selected: {'install': 0, 'managed': 62586, 'rc_test': 0, 'prod_test': 0}\n",
      "11200000  selected: {'install': 0, 'managed': 63113, 'rc_test': 0, 'prod_test': 0}\n",
      "11300000  selected: {'install': 0, 'managed': 63654, 'rc_test': 0, 'prod_test': 0}\n",
      "11400000  selected: {'install': 0, 'managed': 64143, 'rc_test': 0, 'prod_test': 0}\n",
      "11500000  selected: {'install': 0, 'managed': 64701, 'rc_test': 0, 'prod_test': 0}\n",
      "11600000  selected: {'install': 0, 'managed': 65227, 'rc_test': 0, 'prod_test': 0}\n",
      "11700000  selected: {'install': 0, 'managed': 65720, 'rc_test': 0, 'prod_test': 0}\n",
      "11800000  selected: {'install': 0, 'managed': 66233, 'rc_test': 0, 'prod_test': 0}\n",
      "11900000  selected: {'install': 0, 'managed': 66729, 'rc_test': 0, 'prod_test': 0}\n",
      "12000000  selected: {'install': 0, 'managed': 67230, 'rc_test': 0, 'prod_test': 0}\n",
      "12100000  selected: {'install': 0, 'managed': 67767, 'rc_test': 0, 'prod_test': 0}\n",
      "12200000  selected: {'install': 0, 'managed': 68278, 'rc_test': 0, 'prod_test': 0}\n",
      "12300000  selected: {'install': 0, 'managed': 68733, 'rc_test': 0, 'prod_test': 0}\n",
      "12400000  selected: {'install': 0, 'managed': 69182, 'rc_test': 0, 'prod_test': 0}\n",
      "12500000  selected: {'install': 0, 'managed': 69756, 'rc_test': 0, 'prod_test': 0}\n",
      "12600000  selected: {'install': 0, 'managed': 70354, 'rc_test': 0, 'prod_test': 0}\n",
      "12700000  selected: {'install': 0, 'managed': 70828, 'rc_test': 0, 'prod_test': 0}\n",
      "12800000  selected: {'install': 0, 'managed': 71292, 'rc_test': 0, 'prod_test': 0}\n",
      "12900000  selected: {'install': 0, 'managed': 71831, 'rc_test': 0, 'prod_test': 0}\n",
      "13000000  selected: {'install': 0, 'managed': 72392, 'rc_test': 0, 'prod_test': 0}\n",
      "13100000  selected: {'install': 0, 'managed': 72886, 'rc_test': 0, 'prod_test': 0}\n",
      "13200000  selected: {'install': 0, 'managed': 73406, 'rc_test': 0, 'prod_test': 0}\n",
      "13300000  selected: {'install': 0, 'managed': 73745, 'rc_test': 0, 'prod_test': 0}\n",
      "13400000  selected: {'install': 0, 'managed': 74029, 'rc_test': 0, 'prod_test': 0}\n",
      "13500000  selected: {'install': 0, 'managed': 74275, 'rc_test': 0, 'prod_test': 0}\n"
     ]
    }
   ],
   "source": [
    "# select only production jobs as only these can potentially have benchmark done. \n",
    "# prodsourcelabel = prod_test, rc_test, managed, install\n",
    "job_query = {\n",
    "    \"size\": 0,\n",
    "    \"_source\": [\"cpuconsumptiontime\", \"wall_time\", \"hs06\",\"nevents\",\"inputfilebytes\",\"prodsourcelabel\",\"processingtype\",\"computingsite\"],\n",
    "    'query':{\n",
    "            'bool':{\n",
    "                   'must':[\n",
    "                        { \"term\": {\"jobstatus\": \"finished\" } },\n",
    "                        { \"term\": {\"prodsourcelabel\": \"managed\" } }\n",
    "                    ],\n",
    "                   'should':[\n",
    "                      # { \"term\": {\"prodsourcelabel\": \"rc_test\" } },\n",
    "                      # { \"term\": {\"prodsourcelabel\": \"prod_test\" } },\n",
    "                       { \"term\": {\"prodsourcelabel\": \"managed\" } }\n",
    "                   ]\n",
    "            }\n",
    "    }\n",
    "                \n",
    "}\n",
    "\n",
    "data=[]\n",
    "scroll = scan(client=es, index=job_indices, query=job_query, scroll='5m', timeout=\"5m\", size=10000)\n",
    "count = 0\n",
    "counttype={'managed':0,'rc_test':0,'prod_test':0,'install':0}\n",
    "jobsPerSite={}\n",
    "for res in scroll:\n",
    "    count += 1\n",
    "    #print(res)\n",
    "    #if count>3: break\n",
    "    \n",
    "    r=res['_source']\n",
    "    \n",
    "    site=r['computingsite']\n",
    "    if site not in jobsPerSite:\n",
    "        jobsPerSite[site]=0\n",
    "    jobsPerSite[site]+=1\n",
    "    \n",
    "    if not count%100000: \n",
    "        print(count, ' selected:', counttype)\n",
    "        #print(data)\n",
    "    \n",
    "    pid=int(res['_id'])\n",
    "    if pid not in pids: continue\n",
    "    \n",
    "    counttype[r['prodsourcelabel']]+=1\n",
    "    cpu=r['cpuconsumptiontime']\n",
    "    ifb=r['inputfilebytes']\n",
    "    wall=r['wall_time']\n",
    "    nevents=r['nevents']\n",
    "    if wall>0: cpueff = cpu/wall\n",
    "    if nevents>0:\n",
    "        wallPerEvent = wall/nevents\n",
    "        cpuPerEvent = cpu/nevents\n",
    "    else:\n",
    "        wallPerEvent = 0\n",
    "        cpuPerEvent =0\n",
    "    doc=[pid,cpu,wall,r['hs06'],r['processingtype'],nevents, cpueff, wallPerEvent, cpuPerEvent,ifb]\n",
    "    data.append(doc)\n",
    "\n",
    "job=pd.DataFrame(data,columns=['pandaid','cputime','walltime','hs06','processingtype','nevents','cpueff', 'wallPerEvent', 'cpuPerEvent','inputsize'])\n",
    "del data"
   ]
  },
  {
   "cell_type": "code",
   "execution_count": 7,
   "metadata": {
    "collapsed": false
   },
   "outputs": [
    {
     "data": {
      "text/html": [
       "<div>\n",
       "<style>\n",
       "    .dataframe thead tr:only-child th {\n",
       "        text-align: right;\n",
       "    }\n",
       "\n",
       "    .dataframe thead th {\n",
       "        text-align: left;\n",
       "    }\n",
       "\n",
       "    .dataframe tbody tr th {\n",
       "        vertical-align: top;\n",
       "    }\n",
       "</style>\n",
       "<table border=\"1\" class=\"dataframe\">\n",
       "  <thead>\n",
       "    <tr style=\"text-align: right;\">\n",
       "      <th></th>\n",
       "      <th>pandaid</th>\n",
       "      <th>cputime</th>\n",
       "      <th>walltime</th>\n",
       "      <th>hs06</th>\n",
       "      <th>processingtype</th>\n",
       "      <th>nevents</th>\n",
       "      <th>cpueff</th>\n",
       "      <th>wallPerEvent</th>\n",
       "      <th>cpuPerEvent</th>\n",
       "      <th>inputsize</th>\n",
       "    </tr>\n",
       "  </thead>\n",
       "  <tbody>\n",
       "    <tr>\n",
       "      <th>0</th>\n",
       "      <td>3362958467</td>\n",
       "      <td>29847</td>\n",
       "      <td>30068</td>\n",
       "      <td>9</td>\n",
       "      <td>evgen</td>\n",
       "      <td>200</td>\n",
       "      <td>0.992650</td>\n",
       "      <td>150.340000</td>\n",
       "      <td>149.235000</td>\n",
       "      <td>21500648</td>\n",
       "    </tr>\n",
       "    <tr>\n",
       "      <th>1</th>\n",
       "      <td>3389673630</td>\n",
       "      <td>298653</td>\n",
       "      <td>41337</td>\n",
       "      <td>77</td>\n",
       "      <td>simul</td>\n",
       "      <td>1000</td>\n",
       "      <td>7.224835</td>\n",
       "      <td>41.337000</td>\n",
       "      <td>298.653000</td>\n",
       "      <td>21524372</td>\n",
       "    </tr>\n",
       "    <tr>\n",
       "      <th>2</th>\n",
       "      <td>3361062104</td>\n",
       "      <td>12586</td>\n",
       "      <td>3052</td>\n",
       "      <td>122</td>\n",
       "      <td>reprocessing</td>\n",
       "      <td>1071</td>\n",
       "      <td>4.123853</td>\n",
       "      <td>2.849673</td>\n",
       "      <td>11.751634</td>\n",
       "      <td>1133004708</td>\n",
       "    </tr>\n",
       "    <tr>\n",
       "      <th>3</th>\n",
       "      <td>3395197447</td>\n",
       "      <td>1278</td>\n",
       "      <td>1685</td>\n",
       "      <td>10</td>\n",
       "      <td>recon</td>\n",
       "      <td>223</td>\n",
       "      <td>0.758457</td>\n",
       "      <td>7.556054</td>\n",
       "      <td>5.730942</td>\n",
       "      <td>1464209160</td>\n",
       "    </tr>\n",
       "    <tr>\n",
       "      <th>4</th>\n",
       "      <td>3395213853</td>\n",
       "      <td>1137</td>\n",
       "      <td>1499</td>\n",
       "      <td>10</td>\n",
       "      <td>recon</td>\n",
       "      <td>241</td>\n",
       "      <td>0.758506</td>\n",
       "      <td>6.219917</td>\n",
       "      <td>4.717842</td>\n",
       "      <td>2323509696</td>\n",
       "    </tr>\n",
       "  </tbody>\n",
       "</table>\n",
       "</div>"
      ],
      "text/plain": [
       "      pandaid  cputime  walltime  hs06 processingtype  nevents    cpueff  \\\n",
       "0  3362958467    29847     30068     9          evgen      200  0.992650   \n",
       "1  3389673630   298653     41337    77          simul     1000  7.224835   \n",
       "2  3361062104    12586      3052   122   reprocessing     1071  4.123853   \n",
       "3  3395197447     1278      1685    10          recon      223  0.758457   \n",
       "4  3395213853     1137      1499    10          recon      241  0.758506   \n",
       "\n",
       "   wallPerEvent  cpuPerEvent   inputsize  \n",
       "0    150.340000   149.235000    21500648  \n",
       "1     41.337000   298.653000    21524372  \n",
       "2      2.849673    11.751634  1133004708  \n",
       "3      7.556054     5.730942  1464209160  \n",
       "4      6.219917     4.717842  2323509696  "
      ]
     },
     "execution_count": 7,
     "metadata": {},
     "output_type": "execute_result"
    }
   ],
   "source": [
    "job.head()"
   ]
  },
  {
   "cell_type": "markdown",
   "metadata": {},
   "source": [
    "#### store all the jobs together"
   ]
  },
  {
   "cell_type": "code",
   "execution_count": 8,
   "metadata": {
    "collapsed": false
   },
   "outputs": [],
   "source": [
    "job.to_csv('job.csv',index=False)"
   ]
  },
  {
   "cell_type": "markdown",
   "metadata": {},
   "source": [
    "#### store jobs split per processingtype"
   ]
  },
  {
   "cell_type": "code",
   "execution_count": 9,
   "metadata": {
    "collapsed": false
   },
   "outputs": [
    {
     "name": "stdout",
     "output_type": "stream",
     "text": [
      "['evgen' 'simul' 'reprocessing' 'recon' 'pile' 'deriv' 'skim' 'merge'\n",
      " 'pmerge' 'eventIndex' 'overlay']\n"
     ]
    }
   ],
   "source": [
    "UniqueProcessingTypes = job.processingtype.unique()\n",
    "print(UniqueProcessingTypes)\n",
    "\n",
    "#create a dict for all the dataframes to be filled later\n",
    "ProcessingType = {elem : pd.DataFrame for elem in UniqueProcessingTypes}\n",
    "\n",
    "#filling up data frames\n",
    "for key in ProcessingType.keys():\n",
    "    job[:][job.processingtype == key].to_csv(key+'.csv',index=False)"
   ]
  },
  {
   "cell_type": "code",
   "execution_count": 10,
   "metadata": {
    "collapsed": false
   },
   "outputs": [],
   "source": [
    "#full = pd.merge(benchmark, job, on='pandaid')\n",
    "#full.head()\n",
    "#full.to_csv('benchmark_job.csv',index=False)"
   ]
  },
  {
   "cell_type": "code",
   "execution_count": 11,
   "metadata": {
    "collapsed": false
   },
   "outputs": [
    {
     "name": "stdout",
     "output_type": "stream",
     "text": [
      "CSCS-LCG2-HPC 6994\n",
      "HPC2N_MCORE 25352\n",
      "RAL-LCG2_VAC 22047\n",
      "CONNECT_ODYSSEY 2413\n",
      "MWT2_VHIMEM_MCORE 2102\n",
      "NERSC_Edison_2 30057\n",
      "CONNECT_FRESNOSTATE 1106\n",
      "HPC2N 24897\n",
      "CA-VICTORIA-WESTGRID-T2_MCORE 65282\n",
      "LRZ-LMU_MUC1_MCORE 114632\n",
      "SiGNET-NSC_MCORE 38041\n",
      "RAL-AZURE_VAC 10932\n",
      "BNL_PROD_CONTR 69930\n",
      "UKI-LT2-IC-HEP_MCORE_SL7 1183\n",
      "RRC-KI-HPC2 11801\n",
      "CONNECT_ICCHEPT3 1844\n",
      "CA-VICTORIA-WESTGRID-T2 6698\n",
      "BNL_LOCAL 1356\n",
      "LRZ-LMU_MUC_MCORE1 6535\n",
      "SiGNET 15017\n",
      "CPPM_MCORE 20723\n",
      "CONNECT_KARST 4033\n",
      "CONNECT_ES_JETSTREAM 1756\n",
      "OU_OSCER_ATLAS 7737\n",
      "CONNECT_ES_KARST 1265\n",
      "OU_OSCER_ATLAS_OPP 8493\n",
      "BNL_PROD_MCORE 492633\n",
      "ORNL_Titan_MCORE 1166596\n",
      "CONNECT_UIUC 3070\n",
      "OU_OSCER_ATLAS_MCORE 5140\n",
      "CONNECT_ES_ICC 2364\n",
      "Anselm_MCORE 18944\n",
      "CSCS-LCG2-HPC_MCORE 4827\n",
      "CONNECT_JETSTREAM 11311\n",
      "BNL_PROD 268939\n",
      "CONNECT_ES_ODYSSEY_MCORE 5547\n",
      "SiGNET_MCORE 64071\n",
      "BNL_ATLAS_2 1273\n",
      "CONNECT_ES_ODYSSEY 21925\n"
     ]
    }
   ],
   "source": [
    "#for ps in benchmarksPerSite:\n",
    "#    print(ps, benchmarksPerSite[ps])\n",
    "\n",
    "for ps in jobsPerSite:\n",
    "    if ps not in benchmarksPerSite and jobsPerSite[ps]>1000: \n",
    "        print(ps, jobsPerSite[ps])#,'       <<<<<<<<<<<<<')\n",
    "    #else:\n",
    "        #print(ps, jobsPerSite[ps],benchmarksPerSite[ps])"
   ]
  },
  {
   "cell_type": "code",
   "execution_count": 12,
   "metadata": {
    "collapsed": false
   },
   "outputs": [
    {
     "name": "stdout",
     "output_type": "stream",
     "text": [
      "{'SARA-MATRIX': 56655, 'RAL-LCG2_VHIMEM': 404, 'UNIBE-LHEP_CLOUD_MCORE': 20, 'UIO_MCORE_LOPRI': 3398, 'ALCF_Cooley': 40, 'MWT2_VHIMEM': 2109, 'Taiwan-LCG2': 54118, 'UKI-NORTHGRID-MAN-HEP_MCORE': 41367, 'INFN-BOLOGNA-T3': 10630, 'CSCS-LCG2-HPC': 6994, 'PSNC': 36087, 'HPC2N_MCORE': 25352, 'LRZ-LMU': 22933, 'GRIF-LPNHE_MCORE': 35411, 'LPC': 36782, 'IN2P3-CC': 66211, 'Taiwan-LCG2-HPC_MCORE': 13554, 'Lucille_MCORE': 1577, 'CONNECT_ES_UIUC': 657, 'pic_HTCondor-mcore': 3464, 'UKI-LT2-IC-HEP_MCORE': 26425, 'RAL-LCG2_VAC': 22047, 'MWT2_SL6': 286946, 'SWT2_CPB_MCORE': 169121, 'CERN-PROD_HI': 143811, 'ARNES': 22808, 'TRIUMF_HIMEM': 1263, 'UKI-SOUTHGRID-RALPP_MCORE': 14472, 'ITEP_PROD': 2409, 'LAPP_MCORE': 43028, 'CYFRONET-LCG2': 1335, 'RAL-LCG2-ECHO': 32873, 'CONNECT_ODYSSEY': 2413, 'TRIUMF_MCORE_LOMEM': 159806, 'INFN-COSENZA-RECAS': 26452, 'BEIJING': 10395, 'MPPMU-DRACO_MCORE': 5767, 'MWT2_VHIMEM_MCORE': 2102, 'UNIBE-LHEP_MCORE': 11844, 'ROMANIA07': 25095, 'NERSC_Edison_2': 30057, 'CONNECT_FRESNOSTATE': 1106, 'INFN-T1-BA': 63417, 'SFU-LCG2_MCORE_HIMEM': 559, 'ATLAS_OPP_OSG_ES-PURDUE': 4854, 'IFAE_MCORE': 20149, 'FMPhI-UNIBA': 5942, 'UKI-LT2-QMUL_SL6': 86299, 'ROMANIA07_ARC': 27094, 'UKI-NORTHGRID-SHEF-HEP_MCORE': 8408, 'praguelcg2_fzu_SCORE': 5224, 'NIKHEF-ELPROD-HighMem': 752, 'MWT2_HIMEM_MCORE': 7646, 'UKI-LT2-QMUL_MCORE': 12531, 'UKI-LT2-IC-HEP_SL6': 131502, 'SLACXRD': 19728, 'UKI-SOUTHGRID-CAM-HEP_SL6': 5266, 'IL-TAU-HEP_MCORE': 13921, 'UNIGE-DPNC_MCORE': 464, 'GRIF-IRFU_MCORE': 60517, 'CONNECT_KARST_MCORE': 220, 'ROMANIA02': 12327, 'ITEP_MCORE': 2887, 'Taiwan-LCG2_MCORE': 26858, 'HPC2N': 24897, 'HU_ATLAS_Tier2': 13023, 'DESY-HH': 17126, 'SLACXRD_LMEM': 10000, 'UKI-SCOTGRID-GLASGOW_MCOREVAC': 5980, 'UKI-NORTHGRID-SHEF-HEP_SL6': 19897, 'CA-VICTORIA-WESTGRID-T2_MCORE': 65282, 'MPPMU': 55387, 'UKI-NORTHGRID-LIV-HEP_SL6': 10308, 'INFN-ROMA1': 48382, 'IFAE': 14321, 'CONNECT_JETSTREAM_MCORE': 961, 'UNI-FREIBURG': 24043, 'TOKYO_ARC': 90183, 'praguelcg2': 14108, 'FZK-LCG2_MCORE_HI': 6226, 'UKI-SCOTGRID-DURHAM_MCORE': 47472, 'NERSC_Cori_2': 109, 'INFN-MILANO-ATLASC': 54829, 'MWT2_HIMEM': 26225, 'UKI-NORTHGRID-LANCS-HEP_MCORE': 17294, 'UKI-SOUTHGRID-RALPP_SL6': 39117, 'UKI-SOUTHGRID-OX-HEP_SL6': 66659, 'MPPMU-HYDRA_MCORE': 2079, 'CERN-PROD_CLOUD_MCORE': 11042, 'SARA-MATRIX_MCORE': 188389, 'pic_HIMEM': 5863, 'INFN-NAPOLI-RECAS_MCORE': 33956, 'LRZ-LMU_MUC1_MCORE': 114632, 'IN2P3-CC_VVL': 86064, 'GRIF-LAL_HTCondor_MCORE': 13437, 'LAPP': 56229, 'IEPSAS-Kosice': 2606, 'wuppertalprod_MCORE': 29296, 'Australia-ATLAS_MCORE': 25346, 'UKI-NORTHGRID-LIV-HEP_MCORE': 26336, 'INFN-ROMA3': 6769, 'ATLAS_OPP_OSG_MCORE-UCSDT2': 1, 'SiGNET-NSC_MCORE': 38041, 'CA-MCGILL-CLUMEQ-T2_MCORE': 6698, 'RAL-AZURE_VAC': 10932, 'ATLAS_OPP_OSG-FNAL_GPCE01': 59, 'GoeGrid_MCORE': 14769, 'DESY-ZN': 37505, 'ROMANIA14': 16307, 'UKI-LT2-UCL-HEP_VAC': 869, 'GRIF-LPNHE': 28863, 'UKI-NORTHGRID-MAN-HEP_VAC': 6921, 'BNL_PROD_CONTR': 69930, 'UKI-NORTHGRID-MAN-HEP_SL6': 102470, 'Taiwan-LCG2-HPC': 14853, 'LRZ-LMU_MCORE': 46294, 'CERN-P1_DYNAMIC_MCORE': 107671, 'IAAS': 17363, 'TR-10-ULAKBIM_MCORE': 1797, 'INFN-NAPOLI-RECAS': 24761, 'AGLT2_MCORE': 148402, 'CONNECT_ES_KARST_MCORE': 198, 'TECHNION-HEP': 43865, 'pic': 50004, 'CONNECT_RODEO': 7, 'ATLAS_OPP_OSG-MIT_CMS': 19008, 'UKI-LT2-RHUL_SL6': 3532, 'UKI-SOUTHGRID-BHAM-HEP_SL6': 11205, 'CSCS-LCG2_MCORE': 20057, 'UKI-LT2-RHUL_MCORE': 64669, 'CERN-P1_DYNAMIC_SCORE': 83544, 'INFN-ROMA1_MCORE': 53932, 'RAL-LCG2-ECHO_MCORE': 148171, 'UIO_MCORE': 21320, 'BU_ATLAS_Tier2_SL6': 38103, 'AGLT2_LMEM': 32123, 'UTA_SWT2': 7451, 'TW-FTT_SL6': 23189, 'GRIF-IRFU': 55393, 'FZK-LCG2_MCORE': 101504, 'SFU-LCG2_ES': 2, 'TRIUMF_MCORE': 14064, 'UKI-SCOTGRID-DURHAM_SL6': 28072, 'NIKHEF-ELPROD': 83778, 'INFN-NAPOLI-ATLAS_MCORE': 29983, 'Australia-ATLAS': 32949, 'LPC_MCORE': 2487, 'ARNES_MCORE': 24136, 'RAL-LCG2_MCORE': 2300, 'IN2P3-CC_HIMEM': 21107, 'RRC-KI_PROD': 2070, 'CONNECT_ICCHEPT3_MCORE': 336, 'PNPI_PROD': 1585, 'UKI-SOUTHGRID-SUSX_SL6': 6582, 'CERN-PROD_CLOUD': 40007, 'LRZ-LMU_MCORE_LO': 11566, 'JINR_PROD': 58530, 'INFN-NAPOLI-SCOPE': 28920, 'UAM-LCG2_MCORE': 17114, 'BOINC_MCORE': 182401, 'IL-TAU-HEP': 13291, 'UKI-LT2-IC-HEP_MCORE_SL7': 1183, 'RRC-KI-HPC2': 11801, 'SFU-LCG2': 11310, 'INFN-T1_HIMEM': 15419, 'CERN-PROD_T0_4MCORE': 475577, 'UNIBE-LHEP': 52513, 'INFN-T1': 62172, 'TR-10-ULAKBIM': 5276, 'pic_MCORE': 76246, 'UTA_SWT2_MCORE': 20586, 'CA-MCGILL-CLUMEQ-T2': 12260, 'SWT2_CPB': 102479, 'INFN-T1_MCORE': 56878, 'CONNECT_ES_UIUC_MCORE': 151, 'CONNECT_ICCHEPT3': 1844, 'UKI-SOUTHGRID-BHAM-HEP_VAC': 2199, 'IFIC_MCORE': 76626, 'CA-SCINET-T2_MCORE': 15677, 'RAL-LCG2_HIMEM_SL6': 1388, 'TECHNION-HEP_MCORE': 4694, 'ZA-WITS-CORE': 6777, 'CA-VICTORIA-WESTGRID-T2': 6698, 'IHEP_MCORE': 18952, 'Lucille_CE': 7612, 'HU_ATLAS_Tier2_MCORE': 28702, 'BNL_LOCAL': 1356, 'UKI-SCOTGRID-GLASGOW_SL6': 20109, 'INFN-GENOVA': 12936, 'BNL_CLOUD_MCORE': 6752, 'TRIUMF': 73063, 'DESY-ZN_MCORE': 138534, 'MPPMU_MCORE': 34785, 'UNIBE-LHEP-UBELIX_MCORE': 5628, 'RRC-KI_MCORE': 2, 'UKI-LT2-Brunel_MCORE': 3914, 'LUNARC': 9372, 'IN2P3-CC_MCORE': 255503, 'TOKYO_MCORE': 93902, 'EELA-UTFSM_MCORE': 2622, 'UKI-NORTHGRID-LANCS-HEP_SL6': 90832, 'FZK-LCG2_HIMEM': 39142, 'ATLAS_OPP_OSG-HYAK': 1196, 'CERN-P1_DYNAMIC_MCORE_LOWMEM': 235622, 'WEIZMANN-LCG2': 23803, 'UNIBE-LHEP_CLOUD': 32, 'UKI-SCOTGRID-GLASGOW_VAC': 21598, 'LRZ-LMU_MUC_MCORE1': 6535, 'CONNECT_ES_JETSTREAM_MCORE': 318, 'NIKHEF-ELPROD_MCORE': 117374, 'AGLT2_SL6': 184291, 'CPPM': 8058, 'UKI-NORTHGRID-LIV-HEP_VAC': 11386, 'INFN-NAPOLI-ATLAS': 42421, 'praguelcg2_MCORE': 40737, 'DCSC_MCORE': 4870, 'CERN-PROD_T0_8MCORE': 65706, 'INFN-ROMA3_MCORE': 908, 'UIO': 25772, 'ROMANIA07_MCORE': 18547, 'CSCS-LCG2': 57071, 'ATLAS_OPP_OSG_ES-UCONN': 1061, 'SiGNET': 15017, 'GoeGrid': 175688, 'UNIBE-LHEP-UBELIX': 15221, 'ROMANIA16_MCORE': 4385, 'UKI-SOUTHGRID-CAM-HEP_MCORE': 11435, 'wuppertalprod': 9349, 'ATLAS_OPP_OSG-CIT_CMS_T2': 68743, 'UKI-SCOTGRID-GLASGOW_MCORE': 80732, 'OU_OCHEP_SWT2': 19337, 'TOKYO': 133573, 'CPPM_MCORE': 20723, 'CONNECT_KARST': 4033, 'DESY-HH_MCORE': 85073, 'CONNECT_ES_JETSTREAM': 1756, 'UNI-SIEGEN-HEP': 11862, 'SLACXRD_MP8': 88210, 'IN2P3-CC_MCORE_HIMEM': 27281, 'OU_OSCER_ATLAS': 7737, 'UKI-LT2-QMUL_HIMEM_SL6': 24541, 'UAM-LCG2': 23800, 'CONNECT_ES_KARST': 1265, 'CA-SCINET-T2': 23320, 'TW-FTT_MCORE': 3784, 'ROMANIA02_MCORE': 18147, 'NSC': 17993, 'INFN-COSENZA-RECAS_MCORE': 42377, 'FMPhI-UNIBA_MCORE': 8373, 'OU_OSCER_ATLAS_OPP': 8493, 'UNIGE-DPNC': 9241, 'Taiwan-LCG2_HIMEM': 485, 'CERN-PROD-preprod_MCORE': 120590, 'ATLAS_OPP_OSG-FNAL_GPCE02': 47, 'UNI-FREIBURG_MCORE': 64882, 'wuppertalprod_HI': 2086, 'ROMANIA14_MCORE': 457, 'UKI-SOUTHGRID-BHAM-HEP_MCOREVAC': 285, 'RAL-LCG2_ES': 16925, 'CERN-PROD_PUB_SCORE_SHORT': 88670, 'BNL_PROD_MCORE': 492633, 'CERN-PROD_T0_SCORE_SHORT': 416631, 'ORNL_Titan_MCORE': 1166596, 'CERN-PROD-preprod': 145890, 'IN2P3-LPSC': 11456, 'INFN-FRASCATI_MCORE': 53052, 'WEIZMANN-LCG2_MCORE': 12798, 'CONNECT_UIUC': 3070, 'UKI-SCOTGRID-ECDF_SL7': 11034, 'Taiwan-LCG2_VL': 33375, 'OU_OSCER_ATLAS_MCORE': 5140, 'CONNECT_ES_ICC': 2364, 'CONNECT_ES_ICC_MCORE': 848, 'IEPSAS-Kosice_MCORE': 17614, 'LRZ-LMU_C2PAP_MCORE': 16362, 'Anselm_MCORE': 18944, 'CSCS-LCG2-HPC_MCORE': 4827, 'RRC-KI-T1_MCORE': 68654, 'RAL-LCG2_SL6': 13162, 'IN2P3-CC_HPC_IDRIS_MCORE': 401, 'RRC-KI-T1': 40572, 'pic_HTCondor-score': 35068, 'NSC_MCORE': 7836, 'CONNECT_JETSTREAM': 11311, 'UKI-SOUTHGRID-SUSX_MCORE': 11596, 'LUNARC_MCORE': 3356, 'BNL_PROD': 268939, 'CONNECT_ES_ODYSSEY_MCORE': 5547, 'GRIF-LAL_HTCondor': 35520, 'IAAS_MCORE': 81548, 'BOINC-ES': 2, 'SiGNET_MCORE': 64071, 'CONNECT_UIUC_MCORE': 945, 'INFN-MILANO-ATLASC_MCORE': 41693, 'ATLAS_OPP_OSG-GLOW': 69965, 'NIKHEF-ELPROD_LONG': 11554, 'ROMANIA16': 22347, 'IHEP_PROD': 49401, 'UKI-SOUTHGRID-OX-HEP_VAC': 473, 'EELA-UTFSM': 1396, 'LPSC_MCORE': 34068, 'SFU-LCG2_MCORE': 9405, 'INFN-LECCE': 6218, 'JINR_MCORE': 23943, 'UKI-SCOTGRID-ECDF_MCORE_SL7': 4586, 'CYFRONET-LCG2_MCORE': 31217, 'BNL_ATLAS_2': 1273, 'ATLAS_OPP_OSG-USCMS-FNAL-WC1-CE3': 2064, 'NCG-INGRID-PT_MCORE': 6950, 'ATLAS_OPP_OSG-CLEMSON_PALMETTO': 11452, 'CONNECT_ES_ODYSSEY': 21925, 'BU_ATLAS_Tier2_MCORE': 112662, 'IFIC': 85030, 'IN2P3-CC_HPC_IDRIS_MCORE1': 1, 'UKI-SOUTHGRID-OX-HEP_MCORE': 22863, 'INFN-FRASCATI': 6691, 'praguelcg2_fzu_MCORE': 609, 'UKI-LT2-Brunel_SL6': 8445, 'TOKYO_MCORE_ARC': 167776, 'NCG-INGRID-PT_SL6': 36187, 'FZK-LCG2': 40122, 'CERN-PROD': 86716, 'DCSC': 12148, 'SLAC_ES': 121, 'BEIJING_MCORE': 10542, 'MWT2_MCORE': 242227, 'UKI-LT2-IC-HEP_SL7': 414}\n"
     ]
    }
   ],
   "source": [
    "print (jobsPerSite)\n",
    "#print (benchmarksPerSite)"
   ]
  },
  {
   "cell_type": "code",
   "execution_count": null,
   "metadata": {
    "collapsed": true
   },
   "outputs": [],
   "source": []
  }
 ],
 "metadata": {
  "kernelspec": {
   "display_name": "Python 3",
   "language": "python",
   "name": "python3"
  },
  "language_info": {
   "codemirror_mode": {
    "name": "ipython",
    "version": 3
   },
   "file_extension": ".py",
   "mimetype": "text/x-python",
   "name": "python",
   "nbconvert_exporter": "python",
   "pygments_lexer": "ipython3",
   "version": "3.5.1"
  }
 },
 "nbformat": 4,
 "nbformat_minor": 0
}
