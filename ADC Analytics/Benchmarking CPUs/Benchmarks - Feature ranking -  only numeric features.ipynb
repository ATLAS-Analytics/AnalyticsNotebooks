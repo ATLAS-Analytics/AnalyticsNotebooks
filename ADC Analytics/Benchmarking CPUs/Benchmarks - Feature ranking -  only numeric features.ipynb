{
 "cells": [
  {
   "cell_type": "markdown",
   "metadata": {},
   "source": [
    "# To determine what features will best predict cpu/event\n",
    "\n",
    "## only taking numerical features used\n",
    "\n",
    "good reference to learn about different algorithms:<br>\n",
    "http://blog.datadive.net/selecting-good-features-part-i-univariate-selection/ <br>\n",
    "http://blog.datadive.net/selecting-good-features-part-ii-linear-models-and-regularization/\n"
   ]
  },
  {
   "cell_type": "code",
   "execution_count": 1,
   "metadata": {
    "collapsed": false
   },
   "outputs": [],
   "source": [
    "import pandas as pd\n",
    "import numpy as np\n",
    "import matplotlib.pyplot as plt\n",
    "\n",
    "from sklearn import preprocessing\n",
    "\n",
    "from sklearn.feature_selection import SelectKBest\n",
    "from sklearn.feature_selection import f_regression, mutual_info_regression\n",
    "\n",
    "from sklearn.ensemble import ExtraTreesRegressor\n",
    "from sklearn.ensemble import RandomForestRegressor\n",
    "\n",
    "from sklearn.model_selection import cross_val_score"
   ]
  },
  {
   "cell_type": "markdown",
   "metadata": {},
   "source": [
    "### Get datasets"
   ]
  },
  {
   "cell_type": "code",
   "execution_count": 2,
   "metadata": {
    "collapsed": false
   },
   "outputs": [
    {
     "data": {
      "text/html": [
       "<div>\n",
       "<table border=\"1\" class=\"dataframe\">\n",
       "  <thead>\n",
       "    <tr style=\"text-align: right;\">\n",
       "      <th></th>\n",
       "      <th>hs06</th>\n",
       "      <th>processingtype</th>\n",
       "      <th>cpuPerEvent</th>\n",
       "    </tr>\n",
       "    <tr>\n",
       "      <th>pandaid</th>\n",
       "      <th></th>\n",
       "      <th></th>\n",
       "      <th></th>\n",
       "    </tr>\n",
       "  </thead>\n",
       "  <tbody>\n",
       "    <tr>\n",
       "      <th>3326375042</th>\n",
       "      <td>96</td>\n",
       "      <td>reprocessing</td>\n",
       "      <td>12.623182</td>\n",
       "    </tr>\n",
       "    <tr>\n",
       "      <th>3327803396</th>\n",
       "      <td>77</td>\n",
       "      <td>merge</td>\n",
       "      <td>0.358200</td>\n",
       "    </tr>\n",
       "    <tr>\n",
       "      <th>3330689156</th>\n",
       "      <td>90</td>\n",
       "      <td>merge</td>\n",
       "      <td>0.337855</td>\n",
       "    </tr>\n",
       "    <tr>\n",
       "      <th>3335362910</th>\n",
       "      <td>10</td>\n",
       "      <td>reprocessing</td>\n",
       "      <td>0.257667</td>\n",
       "    </tr>\n",
       "    <tr>\n",
       "      <th>3334380752</th>\n",
       "      <td>10</td>\n",
       "      <td>reprocessing</td>\n",
       "      <td>0.302045</td>\n",
       "    </tr>\n",
       "  </tbody>\n",
       "</table>\n",
       "</div>"
      ],
      "text/plain": [
       "            hs06 processingtype  cpuPerEvent\n",
       "pandaid                                     \n",
       "3326375042    96   reprocessing    12.623182\n",
       "3327803396    77          merge     0.358200\n",
       "3330689156    90          merge     0.337855\n",
       "3335362910    10   reprocessing     0.257667\n",
       "3334380752    10   reprocessing     0.302045"
      ]
     },
     "execution_count": 2,
     "metadata": {},
     "output_type": "execute_result"
    }
   ],
   "source": [
    "jobs = pd.read_csv('job.csv').set_index('pandaid')\n",
    "del jobs['cputime']\n",
    "del jobs['walltime']\n",
    "del jobs['nevents']\n",
    "del jobs['cpueff']\n",
    "del jobs['wallPerEvent']\n",
    "jobs.head()"
   ]
  },
  {
   "cell_type": "code",
   "execution_count": 3,
   "metadata": {
    "collapsed": false
   },
   "outputs": [
    {
     "data": {
      "text/html": [
       "<div>\n",
       "<table border=\"1\" class=\"dataframe\">\n",
       "  <thead>\n",
       "    <tr style=\"text-align: right;\">\n",
       "      <th></th>\n",
       "      <th>bogomips</th>\n",
       "      <th>mpnum</th>\n",
       "      <th>meminfo</th>\n",
       "      <th>fastBmk</th>\n",
       "      <th>whetstone</th>\n",
       "    </tr>\n",
       "    <tr>\n",
       "      <th>pandaid</th>\n",
       "      <th></th>\n",
       "      <th></th>\n",
       "      <th></th>\n",
       "      <th></th>\n",
       "      <th></th>\n",
       "    </tr>\n",
       "  </thead>\n",
       "  <tbody>\n",
       "    <tr>\n",
       "      <th>3322806223</th>\n",
       "      <td>5333.52</td>\n",
       "      <td>1</td>\n",
       "      <td>2044632.0</td>\n",
       "      <td>9.223674</td>\n",
       "      <td>3195.99</td>\n",
       "    </tr>\n",
       "    <tr>\n",
       "      <th>3322633663</th>\n",
       "      <td>5000.00</td>\n",
       "      <td>1</td>\n",
       "      <td>16330708.0</td>\n",
       "      <td>12.129380</td>\n",
       "      <td>2749.34</td>\n",
       "    </tr>\n",
       "    <tr>\n",
       "      <th>3322488785</th>\n",
       "      <td>4988.06</td>\n",
       "      <td>1</td>\n",
       "      <td>65840380.0</td>\n",
       "      <td>23.731048</td>\n",
       "      <td>3599.70</td>\n",
       "    </tr>\n",
       "    <tr>\n",
       "      <th>3322806277</th>\n",
       "      <td>5333.16</td>\n",
       "      <td>1</td>\n",
       "      <td>37140112.0</td>\n",
       "      <td>12.240734</td>\n",
       "      <td>3426.18</td>\n",
       "    </tr>\n",
       "    <tr>\n",
       "      <th>3322875248</th>\n",
       "      <td>5332.58</td>\n",
       "      <td>1</td>\n",
       "      <td>32878000.0</td>\n",
       "      <td>12.349914</td>\n",
       "      <td>2911.33</td>\n",
       "    </tr>\n",
       "  </tbody>\n",
       "</table>\n",
       "</div>"
      ],
      "text/plain": [
       "            bogomips  mpnum     meminfo    fastBmk  whetstone\n",
       "pandaid                                                      \n",
       "3322806223   5333.52      1   2044632.0   9.223674    3195.99\n",
       "3322633663   5000.00      1  16330708.0  12.129380    2749.34\n",
       "3322488785   4988.06      1  65840380.0  23.731048    3599.70\n",
       "3322806277   5333.16      1  37140112.0  12.240734    3426.18\n",
       "3322875248   5332.58      1  32878000.0  12.349914    2911.33"
      ]
     },
     "execution_count": 3,
     "metadata": {},
     "output_type": "execute_result"
    }
   ],
   "source": [
    "benchmarks = pd.read_csv('benchmark.csv').set_index('pandaid')\n",
    "del benchmarks['ip']\n",
    "del benchmarks['site']\n",
    "del benchmarks['cpuname']\n",
    "benchmarks.head()"
   ]
  },
  {
   "cell_type": "markdown",
   "metadata": {},
   "source": [
    "### join dataframes and filter out bad rows\n",
    "We have to remove rows with mpnum > 1 as I don't know how hs06 is calculated for these."
   ]
  },
  {
   "cell_type": "code",
   "execution_count": 4,
   "metadata": {
    "collapsed": false
   },
   "outputs": [
    {
     "data": {
      "text/html": [
       "<div>\n",
       "<table border=\"1\" class=\"dataframe\">\n",
       "  <thead>\n",
       "    <tr style=\"text-align: right;\">\n",
       "      <th></th>\n",
       "      <th>bogomips</th>\n",
       "      <th>mpnum</th>\n",
       "      <th>meminfo</th>\n",
       "      <th>fastBmk</th>\n",
       "      <th>whetstone</th>\n",
       "      <th>hs06</th>\n",
       "      <th>processingtype</th>\n",
       "      <th>cpuPerEvent</th>\n",
       "    </tr>\n",
       "    <tr>\n",
       "      <th>pandaid</th>\n",
       "      <th></th>\n",
       "      <th></th>\n",
       "      <th></th>\n",
       "      <th></th>\n",
       "      <th></th>\n",
       "      <th></th>\n",
       "      <th></th>\n",
       "      <th></th>\n",
       "    </tr>\n",
       "  </thead>\n",
       "  <tbody>\n",
       "    <tr>\n",
       "      <th>3323688554</th>\n",
       "      <td>5199.30</td>\n",
       "      <td>1</td>\n",
       "      <td>65931600.0</td>\n",
       "      <td>15.404365</td>\n",
       "      <td>3616.23</td>\n",
       "      <td>12</td>\n",
       "      <td>evgen</td>\n",
       "      <td>112.090</td>\n",
       "    </tr>\n",
       "    <tr>\n",
       "      <th>3323737831</th>\n",
       "      <td>5199.28</td>\n",
       "      <td>1</td>\n",
       "      <td>65936052.0</td>\n",
       "      <td>14.863749</td>\n",
       "      <td>3612.79</td>\n",
       "      <td>10</td>\n",
       "      <td>simul</td>\n",
       "      <td>73.644</td>\n",
       "    </tr>\n",
       "    <tr>\n",
       "      <th>3323782011</th>\n",
       "      <td>5199.25</td>\n",
       "      <td>1</td>\n",
       "      <td>65936052.0</td>\n",
       "      <td>14.869888</td>\n",
       "      <td>3628.96</td>\n",
       "      <td>10</td>\n",
       "      <td>evgen</td>\n",
       "      <td>154.110</td>\n",
       "    </tr>\n",
       "    <tr>\n",
       "      <th>3323782017</th>\n",
       "      <td>4189.98</td>\n",
       "      <td>1</td>\n",
       "      <td>65853344.0</td>\n",
       "      <td>18.136020</td>\n",
       "      <td>3306.22</td>\n",
       "      <td>10</td>\n",
       "      <td>evgen</td>\n",
       "      <td>159.280</td>\n",
       "    </tr>\n",
       "    <tr>\n",
       "      <th>3323788151</th>\n",
       "      <td>5199.24</td>\n",
       "      <td>1</td>\n",
       "      <td>65855220.0</td>\n",
       "      <td>20.642202</td>\n",
       "      <td>3495.29</td>\n",
       "      <td>10</td>\n",
       "      <td>evgen</td>\n",
       "      <td>167.210</td>\n",
       "    </tr>\n",
       "  </tbody>\n",
       "</table>\n",
       "</div>"
      ],
      "text/plain": [
       "            bogomips  mpnum     meminfo    fastBmk  whetstone  hs06  \\\n",
       "pandaid                                                               \n",
       "3323688554   5199.30      1  65931600.0  15.404365    3616.23    12   \n",
       "3323737831   5199.28      1  65936052.0  14.863749    3612.79    10   \n",
       "3323782011   5199.25      1  65936052.0  14.869888    3628.96    10   \n",
       "3323782017   4189.98      1  65853344.0  18.136020    3306.22    10   \n",
       "3323788151   5199.24      1  65855220.0  20.642202    3495.29    10   \n",
       "\n",
       "           processingtype  cpuPerEvent  \n",
       "pandaid                                 \n",
       "3323688554          evgen      112.090  \n",
       "3323737831          simul       73.644  \n",
       "3323782011          evgen      154.110  \n",
       "3323782017          evgen      159.280  \n",
       "3323788151          evgen      167.210  "
      ]
     },
     "execution_count": 4,
     "metadata": {},
     "output_type": "execute_result"
    }
   ],
   "source": [
    "benchmarks = benchmarks.join(jobs,how='inner')\n",
    "benchmarks = benchmarks[benchmarks.hs06 > 0]\n",
    "benchmarks = benchmarks[benchmarks.cpuPerEvent > 0]\n",
    "benchmarks = benchmarks[benchmarks.mpnum == 1]\n",
    "benchmarks.head()"
   ]
  },
  {
   "cell_type": "markdown",
   "metadata": {},
   "source": [
    "### Split over different processing types "
   ]
  },
  {
   "cell_type": "code",
   "execution_count": 5,
   "metadata": {
    "collapsed": false
   },
   "outputs": [
    {
     "name": "stdout",
     "output_type": "stream",
     "text": [
      "['evgen' 'simul' 'reprocessing' 'merge' 'recon' 'pmerge' 'pile']\n"
     ]
    }
   ],
   "source": [
    "UniqueProcessingTypes = benchmarks.processingtype.unique()\n",
    "print(UniqueProcessingTypes)\n",
    "\n",
    "#create a dict for all the dataframes to be filled later\n",
    "ProcessingType = {elem : pd.DataFrame for elem in UniqueProcessingTypes}\n",
    "\n",
    "#filling up data frames\n",
    "for key in ProcessingType.keys():\n",
    "    ProcessingType[key] = benchmarks[:][benchmarks.processingtype == key]"
   ]
  },
  {
   "cell_type": "markdown",
   "metadata": {},
   "source": [
    "### split on features and target"
   ]
  },
  {
   "cell_type": "code",
   "execution_count": 6,
   "metadata": {
    "collapsed": false,
    "scrolled": true
   },
   "outputs": [],
   "source": [
    "data = ProcessingType['recon']\n",
    "del data['mpnum'] # so it does not create problem as it has 0 variance\n",
    "\n",
    "#target\n",
    "Y = data['cpuPerEvent'].values\n",
    "\n",
    "features=data.copy()\n",
    "del features['cpuPerEvent']\n",
    "del features['processingtype']\n",
    "fn=list(features.columns.values)\n",
    "features.head()"
   ]
  },
  {
   "cell_type": "markdown",
   "metadata": {},
   "source": [
    "### take one processing type and feature ranking"
   ]
  },
  {
   "cell_type": "code",
   "execution_count": 7,
   "metadata": {
    "collapsed": false
   },
   "outputs": [
    {
     "data": {
      "text/plain": [
       "[(2.8110535833284858, 'hs06'),\n",
       " (5.4599827201603244, 'meminfo'),\n",
       " (30.786980998364918, 'bogomips'),\n",
       " (66.476865646252548, 'fastBmk'),\n",
       " (102.75179169909188, 'whetstone')]"
      ]
     },
     "execution_count": 7,
     "metadata": {},
     "output_type": "execute_result"
    }
   ],
   "source": [
    "# F-test captures only linear dependency\n",
    "f_test, _ = f_regression(features, Y)\n",
    "f_test /= np.max(f_test)\n",
    "\n",
    "scs=[]\n",
    "for i in range(len(fn)):\n",
    "    scs.append((f_test[i],fn[i]))\n",
    "sorted(scs, reverse=True)"
   ]
  },
  {
   "cell_type": "code",
   "execution_count": 8,
   "metadata": {
    "collapsed": false
   },
   "outputs": [
    {
     "data": {
      "text/plain": [
       "[(0.0, 'hs06'),\n",
       " (0.32649761063774396, 'meminfo'),\n",
       " (0.78518174009027031, 'whetstone'),\n",
       " (0.79097083159779791, 'bogomips'),\n",
       " (1.0, 'fastBmk')]"
      ]
     },
     "execution_count": 8,
     "metadata": {},
     "output_type": "execute_result"
    }
   ],
   "source": [
    "mi = mutual_info_regression(features, Y)\n",
    "mi /= np.max(mi)\n",
    "\n",
    "scs=[]\n",
    "for i in range(len(fn)):\n",
    "    scs.append((mi[i],fn[i]))\n",
    "sorted(scs, reverse=True)"
   ]
  },
  {
   "cell_type": "markdown",
   "metadata": {},
   "source": [
    "### RandomForestRegressor"
   ]
  },
  {
   "cell_type": "code",
   "execution_count": 9,
   "metadata": {
    "collapsed": false
   },
   "outputs": [
    {
     "name": "stdout",
     "output_type": "stream",
     "text": [
      "[ 0.78942212  0.79517551  0.42300441  0.51696794  0.59249003  0.72747613\n",
      "  0.60887989 -0.06827818  0.61683765] mean: 0.555775054452\n"
     ]
    },
    {
     "data": {
      "text/plain": [
       "[(0.0058864526191476666, 'hs06'),\n",
       " (0.011268017543765628, 'meminfo'),\n",
       " (0.12978414420355888, 'bogomips'),\n",
       " (0.26620549921222103, 'whetstone'),\n",
       " (0.58685588642130693, 'fastBmk')]"
      ]
     },
     "execution_count": 9,
     "metadata": {},
     "output_type": "execute_result"
    }
   ],
   "source": [
    "rf = RandomForestRegressor(n_estimators=100, max_depth=4)\n",
    "scores = cross_val_score(rf, features, Y, n_jobs=-1, cv=9, scoring=\"r2\")\n",
    "print(scores, '\\nmean:', scores.mean())\n",
    "\n",
    "rf.fit(features, Y)\n",
    "scs=[]\n",
    "for i in range(len(fn)):\n",
    "    scs.append((rf.feature_importances_[i],fn[i]))\n",
    "\n",
    "sorted(scs, reverse=True)"
   ]
  },
  {
   "cell_type": "markdown",
   "metadata": {},
   "source": [
    "### ExtraTreesRegressor"
   ]
  },
  {
   "cell_type": "code",
   "execution_count": 10,
   "metadata": {
    "collapsed": false
   },
   "outputs": [
    {
     "name": "stdout",
     "output_type": "stream",
     "text": [
      "[ 0.72329187  0.80760367  0.44145423  0.57187582  0.49230026  0.7049618\n",
      "  0.63399341 -0.27923388  0.67044084] mean: 0.529632001491\n"
     ]
    },
    {
     "data": {
      "text/plain": [
       "[(0.0031377298414133003, 'hs06'),\n",
       " (0.0092685071658521814, 'meminfo'),\n",
       " (0.14346829332947897, 'bogomips'),\n",
       " (0.32748186562298515, 'whetstone'),\n",
       " (0.5166436040402701, 'fastBmk')]"
      ]
     },
     "execution_count": 10,
     "metadata": {},
     "output_type": "execute_result"
    }
   ],
   "source": [
    "et = ExtraTreesRegressor(n_estimators=100, max_depth=4)\n",
    "scores = cross_val_score(et, features, Y, n_jobs=-1, cv=9, scoring=\"r2\")\n",
    "print(scores, '\\nmean:', scores.mean())\n",
    "\n",
    "rf.fit(features, Y)\n",
    "scs=[]\n",
    "for i in range(len(fn)):\n",
    "    scs.append((rf.feature_importances_[i],fn[i]))\n",
    "\n",
    "sorted(scs, reverse=True)\n"
   ]
  },
  {
   "cell_type": "markdown",
   "metadata": {},
   "source": [
    "#### to notice: linear models won't work as variables are strongly correlated. The only linear that could work is L2 regularization / Ridge regression"
   ]
  },
  {
   "cell_type": "code",
   "execution_count": 15,
   "metadata": {
    "collapsed": true
   },
   "outputs": [],
   "source": [
    "from sklearn.linear_model import LinearRegression, Ridge\n",
    "from sklearn.metrics import r2_score"
   ]
  },
  {
   "cell_type": "code",
   "execution_count": 21,
   "metadata": {
    "collapsed": false
   },
   "outputs": [
    {
     "name": "stdout",
     "output_type": "stream",
     "text": [
      "Linear model:\n"
     ]
    },
    {
     "data": {
      "text/plain": [
       "[(-2.688077981199226e-08, 'meminfo'),\n",
       " (-0.0019606517912314643, 'whetstone'),\n",
       " (-0.0055934046896382594, 'bogomips'),\n",
       " (-0.71246612548817079, 'hs06'),\n",
       " (-0.86139057837546318, 'fastBmk')]"
      ]
     },
     "execution_count": 21,
     "metadata": {},
     "output_type": "execute_result"
    }
   ],
   "source": [
    "# no good as our features are strongly correlated\n",
    "lr = LinearRegression()\n",
    "lr.fit(features, Y)\n",
    "print (\"Linear model:\")\n",
    "\n",
    "scs=[]\n",
    "for i in range(len(fn)):\n",
    "    scs.append((lr.coef_[i],fn[i]))\n",
    "sorted(scs, reverse=True) "
   ]
  },
  {
   "cell_type": "code",
   "execution_count": 23,
   "metadata": {
    "collapsed": false
   },
   "outputs": [
    {
     "name": "stdout",
     "output_type": "stream",
     "text": [
      "Ridge model:\n"
     ]
    },
    {
     "data": {
      "text/plain": [
       "[(-2.6324216448886319e-08, 'meminfo'),\n",
       " (-0.002336868566149999, 'whetstone'),\n",
       " (-0.0053811367593338405, 'bogomips'),\n",
       " (-0.54561071581442433, 'hs06'),\n",
       " (-0.79549305607797993, 'fastBmk')]"
      ]
     },
     "execution_count": 23,
     "metadata": {},
     "output_type": "execute_result"
    }
   ],
   "source": [
    "# everything is anti-correlated ?! hard to believe\n",
    "ridge = Ridge(alpha=50)\n",
    "ridge.fit(features, Y)\n",
    "print (\"Ridge model:\")\n",
    "scs=[]\n",
    "for i in range(len(fn)):\n",
    "    scs.append((ridge.coef_[i],fn[i]))\n",
    "sorted(scs, reverse=True) "
   ]
  },
  {
   "cell_type": "code",
   "execution_count": 11,
   "metadata": {
    "collapsed": false
   },
   "outputs": [],
   "source": [
    "# too slow\n",
    "# estimator = SVR(kernel=\"linear\")\n",
    "# #selector = RFE(estimator, 5, step=1)\n",
    "# selector = RFECV(estimator, cv=5, step=1)\n",
    "# selector = selector.fit(features, Y)\n",
    "#print( selector.support_ , selector.ranking_)"
   ]
  }
 ],
 "metadata": {
  "kernelspec": {
   "display_name": "Python 3",
   "language": "python",
   "name": "python3"
  },
  "language_info": {
   "codemirror_mode": {
    "name": "ipython",
    "version": 3
   },
   "file_extension": ".py",
   "mimetype": "text/x-python",
   "name": "python",
   "nbconvert_exporter": "python",
   "pygments_lexer": "ipython3",
   "version": "3.5.1"
  }
 },
 "nbformat": 4,
 "nbformat_minor": 0
}
