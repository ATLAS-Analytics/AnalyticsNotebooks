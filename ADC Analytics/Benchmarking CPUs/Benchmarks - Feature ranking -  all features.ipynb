{
 "cells": [
  {
   "cell_type": "markdown",
   "metadata": {},
   "source": [
    "# To determine what features will best predict cpu/event\n",
    "## all features used\n",
    "\n",
    "\n",
    "good reference to learn about different algorithms:<br>\n",
    "http://blog.datadive.net/selecting-good-features-part-i-univariate-selection/ <br>\n",
    "http://blog.datadive.net/selecting-good-features-part-ii-linear-models-and-regularization/\n"
   ]
  },
  {
   "cell_type": "code",
   "execution_count": 11,
   "metadata": {},
   "outputs": [],
   "source": [
    "import pandas as pd\n",
    "import numpy as np\n",
    "import matplotlib.pyplot as plt\n",
    "\n",
    "from sklearn import preprocessing\n",
    "\n",
    "from sklearn.feature_selection import SelectKBest\n",
    "from sklearn.feature_selection import f_regression, mutual_info_regression\n",
    "\n",
    "from sklearn.ensemble import ExtraTreesRegressor\n",
    "from sklearn.ensemble import RandomForestRegressor\n",
    "\n",
    "from sklearn.feature_selection import RFE, RFECV\n",
    "from sklearn.svm import SVR\n",
    "from sklearn.linear_model import RandomizedLasso\n",
    "\n",
    "from sklearn.model_selection import cross_val_score"
   ]
  },
  {
   "cell_type": "markdown",
   "metadata": {},
   "source": [
    "### Get datasets"
   ]
  },
  {
   "cell_type": "code",
   "execution_count": 2,
   "metadata": {},
   "outputs": [
    {
     "data": {
      "text/html": [
       "<div>\n",
       "<table border=\"1\" class=\"dataframe\">\n",
       "  <thead>\n",
       "    <tr style=\"text-align: right;\">\n",
       "      <th></th>\n",
       "      <th>hs06</th>\n",
       "      <th>processingtype</th>\n",
       "      <th>cpuPerEvent</th>\n",
       "    </tr>\n",
       "    <tr>\n",
       "      <th>pandaid</th>\n",
       "      <th></th>\n",
       "      <th></th>\n",
       "      <th></th>\n",
       "    </tr>\n",
       "  </thead>\n",
       "  <tbody>\n",
       "    <tr>\n",
       "      <th>3326375042</th>\n",
       "      <td>96</td>\n",
       "      <td>reprocessing</td>\n",
       "      <td>12.623182</td>\n",
       "    </tr>\n",
       "    <tr>\n",
       "      <th>3327803396</th>\n",
       "      <td>77</td>\n",
       "      <td>merge</td>\n",
       "      <td>0.358200</td>\n",
       "    </tr>\n",
       "    <tr>\n",
       "      <th>3330689156</th>\n",
       "      <td>90</td>\n",
       "      <td>merge</td>\n",
       "      <td>0.337855</td>\n",
       "    </tr>\n",
       "    <tr>\n",
       "      <th>3335362910</th>\n",
       "      <td>10</td>\n",
       "      <td>reprocessing</td>\n",
       "      <td>0.257667</td>\n",
       "    </tr>\n",
       "    <tr>\n",
       "      <th>3334380752</th>\n",
       "      <td>10</td>\n",
       "      <td>reprocessing</td>\n",
       "      <td>0.302045</td>\n",
       "    </tr>\n",
       "  </tbody>\n",
       "</table>\n",
       "</div>"
      ],
      "text/plain": [
       "            hs06 processingtype  cpuPerEvent\n",
       "pandaid                                     \n",
       "3326375042    96   reprocessing    12.623182\n",
       "3327803396    77          merge     0.358200\n",
       "3330689156    90          merge     0.337855\n",
       "3335362910    10   reprocessing     0.257667\n",
       "3334380752    10   reprocessing     0.302045"
      ]
     },
     "execution_count": 2,
     "metadata": {},
     "output_type": "execute_result"
    }
   ],
   "source": [
    "jobs = pd.read_csv('job.csv').set_index('pandaid')\n",
    "\n",
    "del jobs['cputime']\n",
    "del jobs['walltime']\n",
    "del jobs['nevents']\n",
    "del jobs['cpueff']\n",
    "del jobs['wallPerEvent']\n",
    "\n",
    "jobs.head()"
   ]
  },
  {
   "cell_type": "code",
   "execution_count": 9,
   "metadata": {},
   "outputs": [
    {
     "data": {
      "text/html": [
       "<div>\n",
       "<table border=\"1\" class=\"dataframe\">\n",
       "  <thead>\n",
       "    <tr style=\"text-align: right;\">\n",
       "      <th></th>\n",
       "      <th>bogomips</th>\n",
       "      <th>site</th>\n",
       "      <th>mpnum</th>\n",
       "      <th>cpuname</th>\n",
       "      <th>meminfo</th>\n",
       "      <th>fastBmk</th>\n",
       "      <th>whetstone</th>\n",
       "    </tr>\n",
       "    <tr>\n",
       "      <th>pandaid</th>\n",
       "      <th></th>\n",
       "      <th></th>\n",
       "      <th></th>\n",
       "      <th></th>\n",
       "      <th></th>\n",
       "      <th></th>\n",
       "      <th></th>\n",
       "    </tr>\n",
       "  </thead>\n",
       "  <tbody>\n",
       "    <tr>\n",
       "      <th>3322806223</th>\n",
       "      <td>5333.52</td>\n",
       "      <td>245</td>\n",
       "      <td>1</td>\n",
       "      <td>138</td>\n",
       "      <td>2044632.0</td>\n",
       "      <td>9.223674</td>\n",
       "      <td>3195.99</td>\n",
       "    </tr>\n",
       "    <tr>\n",
       "      <th>3322633663</th>\n",
       "      <td>5000.00</td>\n",
       "      <td>252</td>\n",
       "      <td>1</td>\n",
       "      <td>49</td>\n",
       "      <td>16330708.0</td>\n",
       "      <td>12.129380</td>\n",
       "      <td>2749.34</td>\n",
       "    </tr>\n",
       "    <tr>\n",
       "      <th>3322488785</th>\n",
       "      <td>4988.06</td>\n",
       "      <td>190</td>\n",
       "      <td>1</td>\n",
       "      <td>121</td>\n",
       "      <td>65840380.0</td>\n",
       "      <td>23.731048</td>\n",
       "      <td>3599.70</td>\n",
       "    </tr>\n",
       "    <tr>\n",
       "      <th>3322806277</th>\n",
       "      <td>5333.16</td>\n",
       "      <td>65</td>\n",
       "      <td>1</td>\n",
       "      <td>76</td>\n",
       "      <td>37140112.0</td>\n",
       "      <td>12.240734</td>\n",
       "      <td>3426.18</td>\n",
       "    </tr>\n",
       "    <tr>\n",
       "      <th>3322875248</th>\n",
       "      <td>5332.58</td>\n",
       "      <td>207</td>\n",
       "      <td>1</td>\n",
       "      <td>50</td>\n",
       "      <td>32878000.0</td>\n",
       "      <td>12.349914</td>\n",
       "      <td>2911.33</td>\n",
       "    </tr>\n",
       "  </tbody>\n",
       "</table>\n",
       "</div>"
      ],
      "text/plain": [
       "            bogomips  site  mpnum  cpuname     meminfo    fastBmk  whetstone\n",
       "pandaid                                                                     \n",
       "3322806223   5333.52   245      1      138   2044632.0   9.223674    3195.99\n",
       "3322633663   5000.00   252      1       49  16330708.0  12.129380    2749.34\n",
       "3322488785   4988.06   190      1      121  65840380.0  23.731048    3599.70\n",
       "3322806277   5333.16    65      1       76  37140112.0  12.240734    3426.18\n",
       "3322875248   5332.58   207      1       50  32878000.0  12.349914    2911.33"
      ]
     },
     "execution_count": 9,
     "metadata": {},
     "output_type": "execute_result"
    }
   ],
   "source": [
    "benchmarks = pd.read_csv('benchmark.csv').set_index('pandaid')\n",
    "\n",
    "del benchmarks['ip']\n",
    "\n",
    "le = {}\n",
    "le['cpuname'] = preprocessing.LabelEncoder()\n",
    "#le['ip'] = preprocessing.LabelEncoder()\n",
    "le['site'] = preprocessing.LabelEncoder()\n",
    "\n",
    "benchmarks['cpuname'] = le['cpuname'].fit_transform(benchmarks['cpuname'])\n",
    "#benchmarks['ip'] = le['ip'].fit_transform(benchmarks['ip'])\n",
    "benchmarks['site'] = le['site'].fit_transform(benchmarks['site'])\n",
    "benchmarks.head()"
   ]
  },
  {
   "cell_type": "markdown",
   "metadata": {},
   "source": [
    "### join dataframes and filter out bad rows"
   ]
  },
  {
   "cell_type": "code",
   "execution_count": 4,
   "metadata": {},
   "outputs": [
    {
     "data": {
      "text/html": [
       "<div>\n",
       "<table border=\"1\" class=\"dataframe\">\n",
       "  <thead>\n",
       "    <tr style=\"text-align: right;\">\n",
       "      <th></th>\n",
       "      <th>bogomips</th>\n",
       "      <th>ip</th>\n",
       "      <th>site</th>\n",
       "      <th>mpnum</th>\n",
       "      <th>cpuname</th>\n",
       "      <th>meminfo</th>\n",
       "      <th>fastBmk</th>\n",
       "      <th>whetstone</th>\n",
       "      <th>hs06</th>\n",
       "      <th>processingtype</th>\n",
       "      <th>cpuPerEvent</th>\n",
       "    </tr>\n",
       "    <tr>\n",
       "      <th>pandaid</th>\n",
       "      <th></th>\n",
       "      <th></th>\n",
       "      <th></th>\n",
       "      <th></th>\n",
       "      <th></th>\n",
       "      <th></th>\n",
       "      <th></th>\n",
       "      <th></th>\n",
       "      <th></th>\n",
       "      <th></th>\n",
       "      <th></th>\n",
       "    </tr>\n",
       "  </thead>\n",
       "  <tbody>\n",
       "    <tr>\n",
       "      <th>3323688554</th>\n",
       "      <td>5199.30</td>\n",
       "      <td>14668</td>\n",
       "      <td>269</td>\n",
       "      <td>1</td>\n",
       "      <td>108</td>\n",
       "      <td>65931600.0</td>\n",
       "      <td>15.404365</td>\n",
       "      <td>3616.23</td>\n",
       "      <td>12</td>\n",
       "      <td>evgen</td>\n",
       "      <td>112.090</td>\n",
       "    </tr>\n",
       "    <tr>\n",
       "      <th>3323737831</th>\n",
       "      <td>5199.28</td>\n",
       "      <td>17141</td>\n",
       "      <td>232</td>\n",
       "      <td>1</td>\n",
       "      <td>108</td>\n",
       "      <td>65936052.0</td>\n",
       "      <td>14.863749</td>\n",
       "      <td>3612.79</td>\n",
       "      <td>10</td>\n",
       "      <td>simul</td>\n",
       "      <td>73.644</td>\n",
       "    </tr>\n",
       "    <tr>\n",
       "      <th>3323782011</th>\n",
       "      <td>5199.25</td>\n",
       "      <td>17123</td>\n",
       "      <td>232</td>\n",
       "      <td>1</td>\n",
       "      <td>108</td>\n",
       "      <td>65936052.0</td>\n",
       "      <td>14.869888</td>\n",
       "      <td>3628.96</td>\n",
       "      <td>10</td>\n",
       "      <td>evgen</td>\n",
       "      <td>154.110</td>\n",
       "    </tr>\n",
       "    <tr>\n",
       "      <th>3323782017</th>\n",
       "      <td>4189.98</td>\n",
       "      <td>17071</td>\n",
       "      <td>232</td>\n",
       "      <td>1</td>\n",
       "      <td>95</td>\n",
       "      <td>65853344.0</td>\n",
       "      <td>18.136020</td>\n",
       "      <td>3306.22</td>\n",
       "      <td>10</td>\n",
       "      <td>evgen</td>\n",
       "      <td>159.280</td>\n",
       "    </tr>\n",
       "    <tr>\n",
       "      <th>3323788151</th>\n",
       "      <td>5199.24</td>\n",
       "      <td>17021</td>\n",
       "      <td>232</td>\n",
       "      <td>1</td>\n",
       "      <td>105</td>\n",
       "      <td>65855220.0</td>\n",
       "      <td>20.642202</td>\n",
       "      <td>3495.29</td>\n",
       "      <td>10</td>\n",
       "      <td>evgen</td>\n",
       "      <td>167.210</td>\n",
       "    </tr>\n",
       "  </tbody>\n",
       "</table>\n",
       "</div>"
      ],
      "text/plain": [
       "            bogomips     ip  site  mpnum  cpuname     meminfo    fastBmk  \\\n",
       "pandaid                                                                    \n",
       "3323688554   5199.30  14668   269      1      108  65931600.0  15.404365   \n",
       "3323737831   5199.28  17141   232      1      108  65936052.0  14.863749   \n",
       "3323782011   5199.25  17123   232      1      108  65936052.0  14.869888   \n",
       "3323782017   4189.98  17071   232      1       95  65853344.0  18.136020   \n",
       "3323788151   5199.24  17021   232      1      105  65855220.0  20.642202   \n",
       "\n",
       "            whetstone  hs06 processingtype  cpuPerEvent  \n",
       "pandaid                                                  \n",
       "3323688554    3616.23    12          evgen      112.090  \n",
       "3323737831    3612.79    10          simul       73.644  \n",
       "3323782011    3628.96    10          evgen      154.110  \n",
       "3323782017    3306.22    10          evgen      159.280  \n",
       "3323788151    3495.29    10          evgen      167.210  "
      ]
     },
     "execution_count": 4,
     "metadata": {},
     "output_type": "execute_result"
    }
   ],
   "source": [
    "benchmarks = benchmarks.join(jobs,how='inner')\n",
    "benchmarks = benchmarks[benchmarks.hs06 > 0]\n",
    "benchmarks = benchmarks[benchmarks.cpuPerEvent > 0]\n",
    "benchmarks = benchmarks[benchmarks.mpnum == 1]\n",
    "benchmarks.head()"
   ]
  },
  {
   "cell_type": "markdown",
   "metadata": {},
   "source": [
    "### split over different processing types "
   ]
  },
  {
   "cell_type": "code",
   "execution_count": 5,
   "metadata": {},
   "outputs": [
    {
     "name": "stdout",
     "output_type": "stream",
     "text": [
      "['evgen' 'simul' 'reprocessing' 'merge' 'recon' 'pmerge' 'pile']\n"
     ]
    }
   ],
   "source": [
    "UniqueProcessingTypes = benchmarks.processingtype.unique()\n",
    "print(UniqueProcessingTypes)\n",
    "\n",
    "#create a dict for all the dataframes to be filled later\n",
    "ProcessingType = {elem : pd.DataFrame for elem in UniqueProcessingTypes}\n",
    "\n",
    "#filling up data frames\n",
    "for key in ProcessingType.keys():\n",
    "    ProcessingType[key] = benchmarks[:][benchmarks.processingtype == key]\n",
    "    "
   ]
  },
  {
   "cell_type": "markdown",
   "metadata": {},
   "source": [
    "### split on features and target"
   ]
  },
  {
   "cell_type": "code",
   "execution_count": 6,
   "metadata": {},
   "outputs": [
    {
     "data": {
      "text/html": [
       "<div>\n",
       "<table border=\"1\" class=\"dataframe\">\n",
       "  <thead>\n",
       "    <tr style=\"text-align: right;\">\n",
       "      <th></th>\n",
       "      <th>bogomips</th>\n",
       "      <th>ip</th>\n",
       "      <th>site</th>\n",
       "      <th>cpuname</th>\n",
       "      <th>meminfo</th>\n",
       "      <th>fastBmk</th>\n",
       "      <th>whetstone</th>\n",
       "      <th>hs06</th>\n",
       "    </tr>\n",
       "    <tr>\n",
       "      <th>pandaid</th>\n",
       "      <th></th>\n",
       "      <th></th>\n",
       "      <th></th>\n",
       "      <th></th>\n",
       "      <th></th>\n",
       "      <th></th>\n",
       "      <th></th>\n",
       "      <th></th>\n",
       "    </tr>\n",
       "  </thead>\n",
       "  <tbody>\n",
       "    <tr>\n",
       "      <th>3326206400</th>\n",
       "      <td>5599.17</td>\n",
       "      <td>7925</td>\n",
       "      <td>86</td>\n",
       "      <td>120</td>\n",
       "      <td>132096860.0</td>\n",
       "      <td>10.827068</td>\n",
       "      <td>3284.36</td>\n",
       "      <td>10</td>\n",
       "    </tr>\n",
       "    <tr>\n",
       "      <th>3326206645</th>\n",
       "      <td>5599.19</td>\n",
       "      <td>8034</td>\n",
       "      <td>86</td>\n",
       "      <td>120</td>\n",
       "      <td>132064092.0</td>\n",
       "      <td>12.456747</td>\n",
       "      <td>3261.11</td>\n",
       "      <td>10</td>\n",
       "    </tr>\n",
       "    <tr>\n",
       "      <th>3326207224</th>\n",
       "      <td>5599.18</td>\n",
       "      <td>7893</td>\n",
       "      <td>86</td>\n",
       "      <td>120</td>\n",
       "      <td>132096860.0</td>\n",
       "      <td>9.123163</td>\n",
       "      <td>3230.11</td>\n",
       "      <td>10</td>\n",
       "    </tr>\n",
       "    <tr>\n",
       "      <th>3326207237</th>\n",
       "      <td>5599.18</td>\n",
       "      <td>7886</td>\n",
       "      <td>86</td>\n",
       "      <td>120</td>\n",
       "      <td>132096860.0</td>\n",
       "      <td>13.677812</td>\n",
       "      <td>3519.79</td>\n",
       "      <td>10</td>\n",
       "    </tr>\n",
       "    <tr>\n",
       "      <th>3326207628</th>\n",
       "      <td>5599.18</td>\n",
       "      <td>7909</td>\n",
       "      <td>86</td>\n",
       "      <td>120</td>\n",
       "      <td>132096860.0</td>\n",
       "      <td>10.183876</td>\n",
       "      <td>3260.96</td>\n",
       "      <td>10</td>\n",
       "    </tr>\n",
       "  </tbody>\n",
       "</table>\n",
       "</div>"
      ],
      "text/plain": [
       "            bogomips    ip  site  cpuname      meminfo    fastBmk  whetstone  \\\n",
       "pandaid                                                                        \n",
       "3326206400   5599.17  7925    86      120  132096860.0  10.827068    3284.36   \n",
       "3326206645   5599.19  8034    86      120  132064092.0  12.456747    3261.11   \n",
       "3326207224   5599.18  7893    86      120  132096860.0   9.123163    3230.11   \n",
       "3326207237   5599.18  7886    86      120  132096860.0  13.677812    3519.79   \n",
       "3326207628   5599.18  7909    86      120  132096860.0  10.183876    3260.96   \n",
       "\n",
       "            hs06  \n",
       "pandaid           \n",
       "3326206400    10  \n",
       "3326206645    10  \n",
       "3326207224    10  \n",
       "3326207237    10  \n",
       "3326207628    10  "
      ]
     },
     "execution_count": 6,
     "metadata": {},
     "output_type": "execute_result"
    }
   ],
   "source": [
    "data = ProcessingType['recon']\n",
    "del data['mpnum']\n",
    "\n",
    "#target\n",
    "Y = data['cpuPerEvent'].values\n",
    "\n",
    "#cpuPerEvent.head()\n",
    "features=data.copy()\n",
    "del features['cpuPerEvent']\n",
    "del features['processingtype']\n",
    "fn=list(features.columns.values)\n",
    "features.head()\n"
   ]
  },
  {
   "cell_type": "markdown",
   "metadata": {},
   "source": [
    "### RandomForestRegressor"
   ]
  },
  {
   "cell_type": "code",
   "execution_count": 7,
   "metadata": {},
   "outputs": [
    {
     "name": "stdout",
     "output_type": "stream",
     "text": [
      "[ 0.5988292   0.86726677  0.36458478  0.43124893  0.69970144  0.73192526\n",
      "  0.66231406  0.07413274  0.50517098] mean: 0.548352684127\n"
     ]
    },
    {
     "data": {
      "text/plain": [
       "[(0.003044710948738824, 'hs06'),\n",
       " (0.013842856515421236, 'meminfo'),\n",
       " (0.021625406530735861, 'site'),\n",
       " (0.043619363210513476, 'ip'),\n",
       " (0.08603498909019533, 'bogomips'),\n",
       " (0.11143471349217662, 'cpuname'),\n",
       " (0.25463755354821499, 'whetstone'),\n",
       " (0.46576040666400353, 'fastBmk')]"
      ]
     },
     "execution_count": 7,
     "metadata": {},
     "output_type": "execute_result"
    }
   ],
   "source": [
    "rf = RandomForestRegressor(n_estimators=100, max_features=6, n_jobs=-1) # max_depth=4,\n",
    "scores = cross_val_score(rf, features, Y, n_jobs=-1, cv=9, scoring=\"r2\")\n",
    "print(scores, 'mean:', scores.mean())\n",
    "\n",
    "rf.fit(features, Y)\n",
    "scs=[]\n",
    "for i in range(len(fn)):\n",
    "    scs.append((rf.feature_importances_[i],fn[i]))\n",
    "\n",
    "sorted(scs)"
   ]
  },
  {
   "cell_type": "markdown",
   "metadata": {},
   "source": [
    "### ExtraTreesRegressor"
   ]
  },
  {
   "cell_type": "code",
   "execution_count": 8,
   "metadata": {},
   "outputs": [
    {
     "name": "stdout",
     "output_type": "stream",
     "text": [
      "[ 0.56591116  0.85045268  0.41338584  0.34578846  0.37310933  0.7281929\n",
      "  0.54801666 -0.58922442  0.59709743] mean: 0.425858892946\n"
     ]
    },
    {
     "data": {
      "text/plain": [
       "[(0.0044705256728213164, 'hs06'),\n",
       " (0.015729017444658721, 'meminfo'),\n",
       " (0.021550663288864316, 'site'),\n",
       " (0.047385066444223467, 'ip'),\n",
       " (0.10616786596575604, 'bogomips'),\n",
       " (0.11475006749333659, 'cpuname'),\n",
       " (0.26334747861017899, 'whetstone'),\n",
       " (0.42659931508016041, 'fastBmk')]"
      ]
     },
     "execution_count": 8,
     "metadata": {},
     "output_type": "execute_result"
    }
   ],
   "source": [
    "et = ExtraTreesRegressor(n_estimators=100, max_depth=4)\n",
    "scores = cross_val_score(et, features, Y, n_jobs=-1, cv=9, scoring=\"r2\")\n",
    "print(scores, 'mean:', scores.mean())\n",
    "\n",
    "rf.fit(features, Y)\n",
    "scs=[]\n",
    "for i in range(len(fn)):\n",
    "    scs.append((rf.feature_importances_[i],fn[i]))\n",
    "\n",
    "sorted(scs)\n"
   ]
  },
  {
   "cell_type": "code",
   "execution_count": 12,
   "metadata": {},
   "outputs": [
    {
     "data": {
      "text/plain": [
       "[(0.23000000000000001, 'ip'),\n",
       " (0.5, 'meminfo'),\n",
       " (0.51000000000000001, 'cpuname'),\n",
       " (0.66500000000000004, 'whetstone'),\n",
       " (0.92500000000000004, 'site'),\n",
       " (0.98499999999999999, 'hs06'),\n",
       " (1.0, 'bogomips'),\n",
       " (1.0, 'fastBmk')]"
      ]
     },
     "execution_count": 12,
     "metadata": {},
     "output_type": "execute_result"
    }
   ],
   "source": [
    "rlasso = RandomizedLasso(alpha=0.025)\n",
    "rlasso.fit(features, Y)\n",
    " \n",
    "scs=[]\n",
    "for i in range(len(fn)):\n",
    "    scs.append((rlasso.scores_[i],fn[i]))\n",
    "\n",
    "sorted(scs)    "
   ]
  },
  {
   "cell_type": "code",
   "execution_count": null,
   "metadata": {
    "collapsed": true
   },
   "outputs": [],
   "source": []
  }
 ],
 "metadata": {
  "kernelspec": {
   "display_name": "Python 3",
   "language": "python",
   "name": "python3"
  },
  "language_info": {
   "codemirror_mode": {
    "name": "ipython",
    "version": 3
   },
   "file_extension": ".py",
   "mimetype": "text/x-python",
   "name": "python",
   "nbconvert_exporter": "python",
   "pygments_lexer": "ipython3",
   "version": "3.4.5"
  }
 },
 "nbformat": 4,
 "nbformat_minor": 1
}
