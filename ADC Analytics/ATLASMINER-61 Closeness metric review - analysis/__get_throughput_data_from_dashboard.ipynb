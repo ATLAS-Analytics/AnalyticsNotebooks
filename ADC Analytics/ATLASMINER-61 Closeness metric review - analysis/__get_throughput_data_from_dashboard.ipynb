{
 "cells": [
  {
   "cell_type": "markdown",
   "metadata": {},
   "source": [
    "Get throughput data from dashboards, for all the sites, binned by hour."
   ]
  },
  {
   "cell_type": "code",
   "execution_count": 1,
   "metadata": {
    "collapsed": false
   },
   "outputs": [
    {
     "name": "stdout",
     "output_type": "stream",
     "text": [
      "Done in 2.92\n"
     ]
    }
   ],
   "source": [
    "import requests\n",
    "import urllib\n",
    "import json\n",
    "from datetime import datetime, date, timedelta\n",
    "import sys\n",
    "import time\n",
    "from multiprocessing import Pool\n",
    "\n",
    "start_date = '2016-03-01'\n",
    "end_date = '2016-06-01'\n",
    "\n",
    "def main_thread(s):\n",
    "\n",
    "#    year1, month1, day1 = [int(item) for item in start.split('-')]\n",
    "#    year2, month2, day2 = [int(item) for item in end.split('-')]\n",
    "\n",
    "#    start_date = date(year1, month1, day1)\n",
    "#    end_date = date(year2, month2, day2)\n",
    "    #print s\n",
    "    e = s+timedelta(hours=1)\n",
    "    url = 'http://dashb-atlas-ddm.cern.ch/dashboard/request.py/matrix.json?from_date=%s-%s-%sT%s:00:00&to_date=%s-%s-%sT%s:00:00&tool=rucio&activity=Data+Brokering&activity=Data+Consolidation&activity=Data+Export+Test&activity=Debug&activity=Deletion&activity=Express&activity=Functional+Test&activity=Group+Subscriptions&activity=Production&activity=Production+Input&activity=Production+Output&activity=Recovery&activity=Staging&activity=T0+Export&activity=T0+Tape&activity=User+Subscriptions&activity=default&activity=on&activity=on&activity=rucio-integration&activity=test&activity=test:T0_T1+export&activity=test:T1_T2+export&activity=testactivity10&activity=testactivity20&activity=testactivity70&activity_default_exclude=Upload/Download+(Job)&activity_default_exclude=Upload/Download+(User)&activity_default_exclude=Analysis+Download&activity_default_exclude=Analysis+Upload&activity_default_exclude=Production+Download&activity_default_exclude=Production+Upload&activity_default_exclude=CLI+Download&activity_default_exclude=CLI+Upload&src_grouping=site&dst_grouping=site' % (s.year, s.month, s.day, s.hour, e.year, e.month, e.day, e.hour)\n",
    "    resp = requests.get(url=url)\n",
    "    data = json.loads(resp.content)\n",
    "    json.dump(data, open('thrdata/%s-%02d-%02d-%02d.json'%(s.year, s.month, s.day, s.hour), 'w'))\n",
    "\n",
    "\n",
    "if __name__ == '__main__':\n",
    "    year1, month1, day1 = [int(item) for item in start_date.split('-')]\n",
    "    year2, month2, day2 = [int(item) for item in end_date.split('-')]\n",
    "    start = datetime(year1, month1, day1)\n",
    "    end = datetime(year2, month2, day2)\n",
    "    datelist = [start+timedelta(hours=x) for x in range(int((end - start).total_seconds()/3600))]\n",
    "    s = time.time()\n",
    "    p = Pool(10)\n",
    "    p.map(main_thread, datelist)\n",
    "    print 'Done in %.02f' % ((time.time() - s)/60.)"
   ]
  },
  {
   "cell_type": "code",
   "execution_count": null,
   "metadata": {
    "collapsed": true
   },
   "outputs": [],
   "source": []
  }
 ],
 "metadata": {
  "kernelspec": {
   "display_name": "Python (ipykernel_py2)",
   "language": "python",
   "name": "ipykernel_py2"
  },
  "language_info": {
   "codemirror_mode": {
    "name": "ipython",
    "version": 2
   },
   "file_extension": ".py",
   "mimetype": "text/x-python",
   "name": "python",
   "nbconvert_exporter": "python",
   "pygments_lexer": "ipython2",
   "version": "2.7.11"
  }
 },
 "nbformat": 4,
 "nbformat_minor": 0
}
