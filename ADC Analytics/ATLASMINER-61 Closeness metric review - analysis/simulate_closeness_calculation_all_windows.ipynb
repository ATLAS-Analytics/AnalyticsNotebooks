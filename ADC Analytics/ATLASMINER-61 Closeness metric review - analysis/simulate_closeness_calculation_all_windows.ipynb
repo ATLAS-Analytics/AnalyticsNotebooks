{
 "cells": [
  {
   "cell_type": "code",
   "execution_count": null,
   "metadata": {
    "collapsed": false
   },
   "outputs": [],
   "source": [
    "import pandas as pd\n",
    "import numpy as np\n",
    "from multiprocessing import Pool, Value\n",
    "import time\n",
    "import datetime\n",
    "from math import log10\n",
    "\n",
    "df = pd.read_json('allthroughputs.json')\n",
    "\n",
    "def calculate_windows(link):\n",
    "    start=datetime.datetime(2016,03,01,0)\n",
    "    # 1464 hours = all the hours between 03/01 00:00 and 04/31 23:00\n",
    "    #print link\n",
    "    maxthr = {}\n",
    "    maxthr[link] = {}\n",
    "    #print 'Processing link %s' % link\n",
    "    s = time.time()\n",
    "    # 840 hours = 35 days\n",
    "    # only pair window sizes\n",
    "    for win in range(4,841,2):\n",
    "        for delta in pd.bdate_range(start=start, periods=1464, freq='H'):\n",
    "            try:\n",
    "                m = np.max(df[link][delta:delta+win].values)\n",
    "            except ValueError:\n",
    "                print delta, delta+win\n",
    "            src,dst = link.split(':')\n",
    "            try:\n",
    "                c = 6 - int(log10(m))\n",
    "            except ValueError:\n",
    "                c = 10\n",
    "            if src == dst:\n",
    "                c = 0\n",
    "            try:\n",
    "                maxthr[link][delta][str(win)] = (m, min(max(0,c),10))\n",
    "            except KeyError:\n",
    "                maxthr[link][delta] = {}\n",
    "                maxthr[link][delta][str(win)] = (m, min(max(0,c),10))\n",
    "    #print 'Link %s done in %.02f min. Writing file' % (link, (time.time() - s)/60.)\n",
    "    s1 = time.time()\n",
    "    targetdf = pd.DataFrame(maxthr)\n",
    "    targetdf.to_json('windata/closeness--%s__%s--.json'%(src, dst))\n",
    "    print 'Writen in %.02f. Link %s done in %.02f min.' % ((time.time() - s1)/60., link, (time.time() - s)/60.)\n",
    "\n",
    "if __name__ == '__main__':\n",
    "    p = Pool(24)\n",
    "    s = time.time()\n",
    "    l = p.map(calculate_windows, list(df.keys()))\n",
    "    print 'Done in %.02f min. Writing file.' % ((time.time() - s)/60.)"
   ]
  },
  {
   "cell_type": "code",
   "execution_count": null,
   "metadata": {
    "collapsed": true
   },
   "outputs": [],
   "source": []
  }
 ],
 "metadata": {
  "kernelspec": {
   "display_name": "Python (ipykernel_py2)",
   "language": "python",
   "name": "ipykernel_py2"
  },
  "language_info": {
   "codemirror_mode": {
    "name": "ipython",
    "version": 2
   },
   "file_extension": ".py",
   "mimetype": "text/x-python",
   "name": "python",
   "nbconvert_exporter": "python",
   "pygments_lexer": "ipython2",
   "version": "2.7.11"
  }
 },
 "nbformat": 4,
 "nbformat_minor": 0
}
