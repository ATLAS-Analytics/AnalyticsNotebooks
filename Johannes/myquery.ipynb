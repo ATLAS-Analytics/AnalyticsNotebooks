{
 "cells": [
  {
   "cell_type": "code",
   "execution_count": 22,
   "metadata": {
    "collapsed": true
   },
   "outputs": [],
   "source": [
    "%matplotlib inline\n",
    "import numpy as np\n",
    "import matplotlib.pyplot as plt\n",
    "import datetime\n",
    "import re\n",
    "from elasticsearch import Elasticsearch, exceptions as es_exceptions\n",
    "from elasticsearch.helpers import scan\n",
    "es = Elasticsearch(hosts=[{'host':'atlas-kibana.mwt2.org', 'port':9200}],timeout=60)"
   ]
  },
  {
   "cell_type": "code",
   "execution_count": 23,
   "metadata": {
    "collapsed": false,
    "scrolled": true
   },
   "outputs": [],
   "source": [
    "indices = es.cat.indices(index=\"jobs_archive_*\", h=\"index\", request_timeout=600).split('\\n')\n",
    "indices = sorted(indices)\n",
    "indices = [x for x in indices if x != '']\n",
    "print(indices)"
   ]
  },
  {
   "cell_type": "code",
   "execution_count": 24,
   "metadata": {
    "collapsed": false
   },
   "outputs": [],
   "source": [
    "def time_filter(indices, last_days=1, pattern=''):\n",
    "    if last_days == 0:\n",
    "        return [\"jobs_archive_*\"]\n",
    "    filtered = []\n",
    "    if pattern:\n",
    "        for i in indices:\n",
    "            if pattern in i:\n",
    "                filtered.append(i.rstrip())\n",
    "        return filtered\n",
    "    today = datetime.date.today()\n",
    "    filtered = []\n",
    "    datefmt = '%Y-%m-%d'\n",
    "    for i in indices:\n",
    "        day = re.sub(r'jobs_archive_', '', i).rstrip()\n",
    "        day = datetime.datetime.strptime(day, datefmt).date()\n",
    "        diff = today - day\n",
    "        if diff.days < last_days:\n",
    "            filtered.append(i.rstrip())\n",
    "    return filtered"
   ]
  },
  {
   "cell_type": "code",
   "execution_count": 5,
   "metadata": {
    "collapsed": true
   },
   "outputs": [],
   "source": [
    "q = \"NOT produsername:gangarbt AND jobstatus:finished AND processingtype:reprocessing AND proddblock:*.00283429.*\"\n",
    "#q = \"NOT produsername:gangarbt AND jobstatus:finished AND processingtype:recon\""
   ]
  },
  {
   "cell_type": "code",
   "execution_count": 42,
   "metadata": {
    "collapsed": false
   },
   "outputs": [
    {
     "name": "stdout",
     "output_type": "stream",
     "text": [
      "jobs_archive_2016-05-19,jobs_archive_2016-05-20,jobs_archive_2016-05-21,jobs_archive_2016-05-22,jobs_archive_2016-05-23,jobs_archive_2016-05-24,jobs_archive_2016-05-25,jobs_archive_2016-05-26,jobs_archive_2016-05-27,jobs_archive_2016-05-28,jobs_archive_2016-05-29,jobs_archive_2016-05-30,jobs_archive_2016-05-31,jobs_archive_2016-06-01,jobs_archive_2016-06-02,jobs_archive_2016-06-03,jobs_archive_2016-06-04,jobs_archive_2016-06-05,jobs_archive_2016-06-06,jobs_archive_2016-06-07,jobs_archive_2016-06-08,jobs_archive_2016-06-09,jobs_archive_2016-06-10,jobs_archive_2016-06-11,jobs_archive_2016-06-12,jobs_archive_2016-06-13,jobs_archive_2016-06-14,jobs_archive_2016-06-15\n"
     ]
    }
   ],
   "source": [
    "# use e.g. last_days=7 or pattern='2016-02' (no wildcard !)\n",
    "ind = time_filter(indices, last_days=28, pattern='')\n",
    "ind = ','.join(ind)\n",
    "print(ind)"
   ]
  },
  {
   "cell_type": "code",
   "execution_count": 43,
   "metadata": {
    "collapsed": true
   },
   "outputs": [],
   "source": [
    "myquery = {\n",
    "  \"query\": {\n",
    "    \"filtered\": {\n",
    "      \"query\": {\n",
    "        \"query_string\": {\n",
    "          \"query\": \"NOT produsername:gangarbt AND jobname:*\",\n",
    "          \"analyze_wildcard\": True,\n",
    "          \"lowercase_expanded_terms\": False\n",
    "        }\n",
    "      },\n",
    "      \"filter\": {\n",
    "        \"bool\": {\n",
    "          \"must\": [\n",
    "            {\n",
    "              \"query\": {\n",
    "                \"match\": {\n",
    "                  \"processingtype\": {\n",
    "                    \"query\": \"recon\",\n",
    "                    \"type\": \"phrase\"\n",
    "                  }\n",
    "                }\n",
    "              }\n",
    "            },\n",
    "            {\n",
    "              \"query\": {\n",
    "                \"match\": {\n",
    "                  \"jobstatus\": {\n",
    "                    \"query\": \"finished\",\n",
    "                    \"type\": \"phrase\"\n",
    "                  }\n",
    "                }\n",
    "              }\n",
    "            },\n",
    "            {\n",
    "              \"query\": {\n",
    "                \"query_string\": {\n",
    "                  \"query\": \"jobname:*\",\n",
    "                  \"analyze_wildcard\": True,\n",
    "                  \"lowercase_expanded_terms\": False\n",
    "                }\n",
    "              }\n",
    "            },\n",
    "          ]\n",
    "        }\n",
    "      }\n",
    "    }\n",
    "  },\n",
    "  \"size\": 0,\n",
    "  \"aggs\": {\n",
    "    \"2\": {\n",
    "      \"histogram\": {\n",
    "        \"script\": \"(doc['nevents'].value) ? doc['wall_time'].value*10/doc['nevents'].value : 0\",\n",
    "        \"lang\": \"expression\",\n",
    "        \"interval\": 5\n",
    "      },\n",
    "      \"aggs\": {\n",
    "        \"3\": {\n",
    "          \"significant_terms\": {\n",
    "            \"field\": \"atlasrelease\",\n",
    "            \"size\": 10\n",
    "          }\n",
    "        }\n",
    "      }\n",
    "    }\n",
    "  }\n",
    "}"
   ]
  },
  {
   "cell_type": "code",
   "execution_count": 44,
   "metadata": {
    "collapsed": false
   },
   "outputs": [],
   "source": [
    "res = es.search(index=ind, body=myquery, request_timeout=600)"
   ]
  },
  {
   "cell_type": "code",
   "execution_count": 45,
   "metadata": {
    "collapsed": false,
    "scrolled": true
   },
   "outputs": [],
   "source": [
    "#print(res)"
   ]
  },
  {
   "cell_type": "code",
   "execution_count": 47,
   "metadata": {
    "collapsed": false
   },
   "outputs": [
    {
     "name": "stdout",
     "output_type": "stream",
     "text": [
      "7 7\n"
     ]
    },
    {
     "data": {
      "image/png": "[encoded data removed]",
      "text/plain": [
       "<matplotlib.figure.Figure at 0x7fad33880438>"
      ]
     },
     "metadata": {},
     "output_type": "display_data"
    },
    {
     "data": {
      "text/plain": [
       "<matplotlib.figure.Figure at 0x7fad33880898>"
      ]
     },
     "metadata": {},
     "output_type": "display_data"
    }
   ],
   "source": [
    "hists = []\n",
    "xbins = []\n",
    "rels = []\n",
    "\n",
    "# First loop: determine AtlasRelease numbers and initialize histograms\n",
    "for r in res['aggregations']['2']['buckets']:\n",
    "    for e in r['3']['buckets']:\n",
    "        if not e['key'] in rels:\n",
    "            rels.append(e['key'])\n",
    "            hists.append([])\n",
    "\n",
    "# Now loop again and fill the histogram bins            \n",
    "xbin = 0 # counter for x-axis bins\n",
    "xcut = 80 # This is the x-axis cut !!!\n",
    "for r in res['aggregations']['2']['buckets']:\n",
    "    x = r['key']/10\n",
    "    if x>xcut: # This is the x-axis cut !\n",
    "        continue\n",
    "    xbins.append(x)\n",
    "    for hist in hists:\n",
    "        hist.append(0)\n",
    "    for e in r['3']['buckets']:\n",
    "        #print(e)\n",
    "        for rel, hist in zip(rels,hists):\n",
    "            if e['key'] == rel:\n",
    "                hist[xbin] = e['doc_count']\n",
    "    xbin = xbin + 1\n",
    "\n",
    "#print(hists)\n",
    "#print(len(xbins),len(hists[0]))\n",
    "\n",
    "# Initialisation for histogram stacking\n",
    "y_offset = np.array([0.0] * len(xbins))\n",
    "#colors = plt.cm.BuPu(np.linspace(0, 0.5, len(hists)))\n",
    "allcolors = ('#ff3333', '#33ff33', '#3333ff', '#33ffff', '#ffffff', '#000000', '#ff0000', '#00ff00', '#0000ff')\n",
    "colors = allcolors[:len(hists)]\n",
    "\n",
    "print(len(hists),len(colors))\n",
    "\n",
    "for hist, rel, icolor in zip(hists,rels,colors):\n",
    "    #print(hist,xbins)\n",
    "    #plt.plot(xbins,hist)\n",
    "    plt.bar(xbins, hist, bottom=y_offset, log=True, label=rel, color=icolor)\n",
    "    y_offset = y_offset + hist\n",
    "    #plt.hist(hist,bins=xbins, log=True, label=rels[i])\n",
    "    plt.xlabel('Walltime per Event [s]')\n",
    "    plt.ylabel('Jobs')\n",
    "\n",
    "plt.legend(loc='upper right')\n",
    "plt.figure(figsize=(20, 20))\n",
    "plt.savefig(\"WallTimePerEvent.png\")\n",
    "plt.show()"
   ]
  },
  {
   "cell_type": "code",
   "execution_count": null,
   "metadata": {
    "collapsed": true
   },
   "outputs": [],
   "source": []
  }
 ],
 "metadata": {
  "kernelspec": {
   "display_name": "Python 3",
   "language": "python",
   "name": "python3"
  },
  "language_info": {
   "codemirror_mode": {
    "name": "ipython",
    "version": 3
   },
   "file_extension": ".py",
   "mimetype": "text/x-python",
   "name": "python",
   "nbconvert_exporter": "python",
   "pygments_lexer": "ipython3",
   "version": "3.5.1"
  }
 },
 "nbformat": 4,
 "nbformat_minor": 0
}
