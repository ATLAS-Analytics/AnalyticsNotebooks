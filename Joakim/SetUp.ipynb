{
 "cells": [
  {
   "cell_type": "markdown",
   "metadata": {},
   "source": [
    "# Tutorial Installation\n",
    "\n",
    "This notebook checks out the packages necessary for the tutorial. You will only need to run this notebook once."
   ]
  },
  {
   "cell_type": "code",
   "execution_count": 1,
   "metadata": {
    "collapsed": false
   },
   "outputs": [
    {
     "name": "stdout",
     "output_type": "stream",
     "text": [
      "/share/home/ivukotic/workspace/AnalyticsNotebooks/Joakim/Tutorial\n",
      "Cloning into 'DLKit'...\n",
      "remote: Counting objects: 664, done.\u001b[K\n",
      "remote: Compressing objects: 100% (650/650), done.\u001b[K\n",
      "remote: Total 664 (delta 384), reused 0 (delta 0)\u001b[K\n",
      "Receiving objects: 100% (664/664), 27.42 MiB | 3.36 MiB/s, done.\n",
      "Resolving deltas: 100% (384/384), done.\n",
      "/share/home/ivukotic/workspace/AnalyticsNotebooks/Joakim/Tutorial/DLKit\n",
      "Cloning into 'CaloDNN'...\n",
      "remote: Counting objects: 419, done.\u001b[K\n",
      "remote: Compressing objects: 100% (89/89), done.\u001b[K\n",
      "remote: Total 419 (delta 41), reused 0 (delta 0), pack-reused 330\u001b[K\n",
      "Receiving objects: 100% (419/419), 4.50 MiB, done.\n",
      "Resolving deltas: 100% (245/245), done.\n",
      "Cloning into 'NEXTDNN'...\n",
      "remote: Counting objects: 45, done.\u001b[K\n",
      "remote: Compressing objects: 100% (34/34), done.\u001b[K\n",
      "remote: Total 45 (delta 17), reused 38 (delta 10), pack-reused 0\u001b[K\n",
      "Unpacking objects: 100% (45/45), done.\n",
      "Cloning into 'LArTPCDNN'...\n",
      "remote: Counting objects: 162, done.\u001b[K\n",
      "remote: Compressing objects: 100% (50/50), done.\u001b[K\n",
      "remote: Total 162 (delta 29), reused 0 (delta 0), pack-reused 111\u001b[K\n",
      "Receiving objects: 100% (162/162), 200.87 KiB, done.\n",
      "Resolving deltas: 100% (86/86), done.\n",
      "Cloning into 'DSatHEP-Tutorial'...\n",
      "remote: Counting objects: 97, done.\u001b[K\n",
      "remote: Compressing objects: 100% (61/61), done.\u001b[K\n",
      "remote: Total 97 (delta 53), reused 78 (delta 34), pack-reused 0\u001b[K\n",
      "Unpacking objects: 100% (97/97), done.\n"
     ]
    }
   ],
   "source": [
    "!mkdir Tutorial\n",
    "%cd Tutorial\n",
    "!git clone https://bitbucket.org/anomalousai/DLKit\n",
    "%cd DLKit\n",
    "!git clone https://github.com/UTA-HEP-Computing/CaloDNN\n",
    "!git clone https://github.com/UTA-HEP-Computing/NEXTDNN\n",
    "!git clone https://github.com/UTA-HEP-Computing/LArTPCDNN\n",
    "!git clone https://github.com/UTA-HEP-Computing/DSatHEP-Tutorial\n",
    "!cp DSatHEP-Tutorial/* ."
   ]
  },
  {
   "cell_type": "code",
   "execution_count": null,
   "metadata": {
    "collapsed": true
   },
   "outputs": [],
   "source": []
  }
 ],
 "metadata": {
  "kernelspec": {
   "display_name": "Python LCG_85",
   "language": "python",
   "name": "lcg_85"
  },
  "language_info": {
   "codemirror_mode": {
    "name": "ipython",
    "version": 2
   },
   "file_extension": ".py",
   "mimetype": "text/x-python",
   "name": "python",
   "nbconvert_exporter": "python",
   "pygments_lexer": "ipython2",
   "version": "2.7.12"
  }
 },
 "nbformat": 4,
 "nbformat_minor": 0
}
