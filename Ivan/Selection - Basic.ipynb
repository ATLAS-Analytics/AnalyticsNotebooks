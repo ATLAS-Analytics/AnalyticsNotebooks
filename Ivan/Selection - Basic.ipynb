{
 "cells": [
  {
   "cell_type": "code",
   "execution_count": 1,
   "metadata": {
    "collapsed": true
   },
   "outputs": [],
   "source": [
    "# Get Elastic Search tools\n",
    "import numpy as np\n",
    "import matplotlib.pyplot as plt\n",
    "import datetime\n",
    "import re\n",
    "import json\n",
    "import sys\n",
    "from elasticsearch import Elasticsearch, exceptions as es_exceptions\n",
    "from elasticsearch.helpers import scan\n",
    "es = Elasticsearch(hosts=[{'host':'atlas-kibana.mwt2.org', 'port':9200}],timeout=60)"
   ]
  },
  {
   "cell_type": "code",
   "execution_count": null,
   "metadata": {
    "collapsed": true
   },
   "outputs": [],
   "source": []
  },
  {
   "cell_type": "code",
   "execution_count": 2,
   "metadata": {
    "collapsed": false
   },
   "outputs": [
    {
     "name": "stdout",
     "output_type": "stream",
     "text": [
      "2016-11-10T18:00:00.000Z\n",
      "2016-11-12T18:00:00.000Z\n"
     ]
    }
   ],
   "source": [
    "# Defining the time period\n",
    "endtime_start_unix=1478822400\n",
    "endtime_final_unix=1478995200\n",
    "# Format for the elastic search\n",
    "endtime_start = datetime.datetime.fromtimestamp(int(endtime_start_unix)).strftime('%Y-%m-%dT%H:%M:%S.000Z')\n",
    "endtime_final = datetime.datetime.fromtimestamp(int(endtime_final_unix)).strftime('%Y-%m-%dT%H:%M:%S.000Z')\n",
    "\n",
    "print (endtime_start)\n",
    "print (endtime_final)"
   ]
  },
  {
   "cell_type": "code",
   "execution_count": 3,
   "metadata": {
    "collapsed": false
   },
   "outputs": [],
   "source": [
    "myquery = {\n",
    " \"size\": 50,\n",
    " \"query\": {\n",
    "   \"filtered\": {\n",
    "     \"query\": {\n",
    "       \"query_string\": {\n",
    "         \"query\": \"endtime:[endtime_start TO endtime_final] AND (computingsite:CERN-PROD_T0_8MCORE OR computingsite:CERN-PROD_T0_4MCORE)\",\n",
    "         \"analyze_wildcard\": True,\n",
    "         \"lowercase_expanded_terms\": False,\n",
    "       }\n",
    "     }\n",
    "   }\n",
    " },\n",
    " \"fields\": [\n",
    "   \"modificationtime\",\"pandaid\",\"computingsite\",\"endtime\"\n",
    " ]\n",
    "}"
   ]
  },
  {
   "cell_type": "code",
   "execution_count": 3,
   "metadata": {
    "collapsed": false,
    "scrolled": true
   },
   "outputs": [
    {
     "name": "stdout",
     "output_type": "stream",
     "text": [
      "[{'_score': 1.8925618, '_index': 'jobs_archive_2016-11-16', 'fields': {'modificationtime': ['2016-11-16T18:19:28'], 'endtime': ['2016-11-16T17:41:08'], 'pandaid': [3081052254], 'computingsite': ['CERN-PROD_T0_4MCORE']}, '_type': 'jobs_data', '_id': '3081052254'}, {'_score': 1.8925618, '_index': 'jobs_archive_2016-11-16', 'fields': {'modificationtime': ['2016-11-16T18:17:14'], 'endtime': ['2016-11-16T17:43:01'], 'pandaid': [3081052246], 'computingsite': ['CERN-PROD_T0_4MCORE']}, '_type': 'jobs_data', '_id': '3081052246'}, {'_score': 1.8925618, '_index': 'jobs_archive_2016-11-16', 'fields': {'modificationtime': ['2016-11-16T18:16:48'], 'endtime': ['2016-11-16T17:41:09'], 'pandaid': [3081052263], 'computingsite': ['CERN-PROD_T0_4MCORE']}, '_type': 'jobs_data', '_id': '3081052263'}, {'_score': 1.8925618, '_index': 'jobs_archive_2016-11-16', 'fields': {'modificationtime': ['2016-11-16T20:06:26'], 'endtime': ['2016-11-16T17:49:58'], 'pandaid': [3080938930], 'computingsite': ['CERN-PROD_T0_4MCORE']}, '_type': 'jobs_data', '_id': '3080938930'}, {'_score': 1.8925618, '_index': 'jobs_archive_2016-11-16', 'fields': {'modificationtime': ['2016-11-16T20:08:46'], 'endtime': ['2016-11-16T17:49:26'], 'pandaid': [3080939110], 'computingsite': ['CERN-PROD_T0_4MCORE']}, '_type': 'jobs_data', '_id': '3080939110'}, {'_score': 1.8925618, '_index': 'jobs_archive_2016-11-16', 'fields': {'modificationtime': ['2016-11-16T20:16:57'], 'endtime': ['2016-11-16T17:48:01'], 'pandaid': [3080869217], 'computingsite': ['CERN-PROD_T0_4MCORE']}, '_type': 'jobs_data', '_id': '3080869217'}, {'_score': 1.8925618, '_index': 'jobs_archive_2016-11-16', 'fields': {'modificationtime': ['2016-11-16T20:16:35'], 'endtime': ['2016-11-16T17:48:06'], 'pandaid': [3080869210], 'computingsite': ['CERN-PROD_T0_4MCORE']}, '_type': 'jobs_data', '_id': '3080869210'}, {'_score': 1.8925618, '_index': 'jobs_archive_2016-11-16', 'fields': {'modificationtime': ['2016-11-16T20:19:00'], 'endtime': ['2016-11-16T17:47:13'], 'pandaid': [3081002462], 'computingsite': ['CERN-PROD_T0_4MCORE']}, '_type': 'jobs_data', '_id': '3081002462'}, {'_score': 1.8925618, '_index': 'jobs_archive_2016-11-16', 'fields': {'modificationtime': ['2016-11-16T20:11:42'], 'endtime': ['2016-11-16T17:41:08'], 'pandaid': [3080939059], 'computingsite': ['CERN-PROD_T0_4MCORE']}, '_type': 'jobs_data', '_id': '3080939059'}, {'_score': 1.8925618, '_index': 'jobs_archive_2016-11-16', 'fields': {'modificationtime': ['2016-11-16T20:13:36'], 'endtime': ['2016-11-16T17:41:24'], 'pandaid': [3080939061], 'computingsite': ['CERN-PROD_T0_4MCORE']}, '_type': 'jobs_data', '_id': '3080939061'}, {'_score': 1.8925618, '_index': 'jobs_archive_2016-11-16', 'fields': {'modificationtime': ['2016-11-16T20:13:08'], 'endtime': ['2016-11-16T17:47:42'], 'pandaid': [3080869220], 'computingsite': ['CERN-PROD_T0_4MCORE']}, '_type': 'jobs_data', '_id': '3080869220'}, {'_score': 1.8925618, '_index': 'jobs_archive_2016-11-16', 'fields': {'modificationtime': ['2016-11-16T23:01:44'], 'endtime': ['2016-11-16T17:44:11'], 'pandaid': [3080923408], 'computingsite': ['CERN-PROD_T0_4MCORE']}, '_type': 'jobs_data', '_id': '3080923408'}, {'_score': 1.8873523, '_index': 'jobs_archive_2016-11-16', 'fields': {'modificationtime': ['2016-11-16T17:48:50'], 'endtime': ['2016-11-16T17:43:24'], 'pandaid': [3079933044], 'computingsite': ['CERN-PROD_T0_4MCORE']}, '_type': 'jobs_data', '_id': '3079933044'}, {'_score': 1.8873523, '_index': 'jobs_archive_2016-11-16', 'fields': {'modificationtime': ['2016-11-16T17:45:06'], 'endtime': ['2016-11-16T17:41:46'], 'pandaid': [3079933036], 'computingsite': ['CERN-PROD_T0_4MCORE']}, '_type': 'jobs_data', '_id': '3079933036'}, {'_score': 1.8873523, '_index': 'jobs_archive_2016-11-16', 'fields': {'modificationtime': ['2016-11-16T17:47:22'], 'endtime': ['2016-11-16T17:40:38'], 'pandaid': [3080869803], 'computingsite': ['CERN-PROD_T0_4MCORE']}, '_type': 'jobs_data', '_id': '3080869803'}, {'_score': 1.8873523, '_index': 'jobs_archive_2016-11-16', 'fields': {'modificationtime': ['2016-11-16T17:53:16'], 'endtime': ['2016-11-16T17:47:38'], 'pandaid': [3080869816], 'computingsite': ['CERN-PROD_T0_4MCORE']}, '_type': 'jobs_data', '_id': '3080869816'}, {'_score': 1.8873523, '_index': 'jobs_archive_2016-11-16', 'fields': {'modificationtime': ['2016-11-16T18:23:34'], 'endtime': ['2016-11-16T17:40:10'], 'pandaid': [3081052256], 'computingsite': ['CERN-PROD_T0_4MCORE']}, '_type': 'jobs_data', '_id': '3081052256'}, {'_score': 1.8873523, '_index': 'jobs_archive_2016-11-16', 'fields': {'modificationtime': ['2016-11-16T19:33:17'], 'endtime': ['2016-11-16T17:46:18'], 'pandaid': [3080947409], 'computingsite': ['CERN-PROD_T0_4MCORE']}, '_type': 'jobs_data', '_id': '3080947409'}, {'_score': 1.8873523, '_index': 'jobs_archive_2016-11-16', 'fields': {'modificationtime': ['2016-11-16T19:32:35'], 'endtime': ['2016-11-16T17:49:38'], 'pandaid': [3080947443], 'computingsite': ['CERN-PROD_T0_4MCORE']}, '_type': 'jobs_data', '_id': '3080947443'}, {'_score': 1.8873523, '_index': 'jobs_archive_2016-11-16', 'fields': {'modificationtime': ['2016-11-16T19:30:43'], 'endtime': ['2016-11-16T17:49:39'], 'pandaid': [3080947450], 'computingsite': ['CERN-PROD_T0_4MCORE']}, '_type': 'jobs_data', '_id': '3080947450'}, {'_score': 1.8873523, '_index': 'jobs_archive_2016-11-16', 'fields': {'modificationtime': ['2016-11-16T20:06:18'], 'endtime': ['2016-11-16T17:43:24'], 'pandaid': [3080939089], 'computingsite': ['CERN-PROD_T0_4MCORE']}, '_type': 'jobs_data', '_id': '3080939089'}, {'_score': 1.8873523, '_index': 'jobs_archive_2016-11-16', 'fields': {'modificationtime': ['2016-11-16T20:07:35'], 'endtime': ['2016-11-16T17:48:13'], 'pandaid': [3080978594], 'computingsite': ['CERN-PROD_T0_4MCORE']}, '_type': 'jobs_data', '_id': '3080978594'}, {'_score': 1.8873523, '_index': 'jobs_archive_2016-11-16', 'fields': {'modificationtime': ['2016-11-16T20:07:30'], 'endtime': ['2016-11-16T17:48:05'], 'pandaid': [3080978592], 'computingsite': ['CERN-PROD_T0_4MCORE']}, '_type': 'jobs_data', '_id': '3080978592'}, {'_score': 1.8873523, '_index': 'jobs_archive_2016-11-16', 'fields': {'modificationtime': ['2016-11-16T20:10:45'], 'endtime': ['2016-11-16T17:42:19'], 'pandaid': [3080939092], 'computingsite': ['CERN-PROD_T0_4MCORE']}, '_type': 'jobs_data', '_id': '3080939092'}, {'_score': 1.8873523, '_index': 'jobs_archive_2016-11-16', 'fields': {'modificationtime': ['2016-11-16T20:10:13'], 'endtime': ['2016-11-16T17:45:22'], 'pandaid': [3080939065], 'computingsite': ['CERN-PROD_T0_4MCORE']}, '_type': 'jobs_data', '_id': '3080939065'}, {'_score': 1.8799572, '_index': 'jobs_archive_2016-11-16', 'fields': {'modificationtime': ['2016-11-16T19:32:26'], 'endtime': ['2016-11-16T17:44:29'], 'pandaid': [3080947446], 'computingsite': ['CERN-PROD_T0_4MCORE']}, '_type': 'jobs_data', '_id': '3080947446'}, {'_score': 1.8799572, '_index': 'jobs_archive_2016-11-16', 'fields': {'modificationtime': ['2016-11-16T20:10:39'], 'endtime': ['2016-11-16T17:47:29'], 'pandaid': [3080978520], 'computingsite': ['CERN-PROD_T0_4MCORE']}, '_type': 'jobs_data', '_id': '3080978520'}, {'_score': 1.8799572, '_index': 'jobs_archive_2016-11-16', 'fields': {'modificationtime': ['2016-11-16T20:32:49'], 'endtime': ['2016-11-16T17:47:08'], 'pandaid': [3080402682], 'computingsite': ['CERN-PROD_T0_4MCORE']}, '_type': 'jobs_data', '_id': '3080402682'}, {'_score': 1.8799572, '_index': 'jobs_archive_2016-11-16', 'fields': {'modificationtime': ['2016-11-16T18:16:24'], 'endtime': ['2016-11-16T17:42:07'], 'pandaid': [3081052252], 'computingsite': ['CERN-PROD_T0_4MCORE']}, '_type': 'jobs_data', '_id': '3081052252'}, {'_score': 1.875411, '_index': 'jobs_archive_2016-11-16', 'fields': {'modificationtime': ['2016-11-16T17:53:32'], 'endtime': ['2016-11-16T17:48:25'], 'pandaid': [3080869813], 'computingsite': ['CERN-PROD_T0_4MCORE']}, '_type': 'jobs_data', '_id': '3080869813'}, {'_score': 1.875411, '_index': 'jobs_archive_2016-11-16', 'fields': {'modificationtime': ['2016-11-16T17:44:58'], 'endtime': ['2016-11-16T17:40:38'], 'pandaid': [3079933030], 'computingsite': ['CERN-PROD_T0_4MCORE']}, '_type': 'jobs_data', '_id': '3079933030'}, {'_score': 1.875411, '_index': 'jobs_archive_2016-11-16', 'fields': {'modificationtime': ['2016-11-16T19:33:11'], 'endtime': ['2016-11-16T17:49:28'], 'pandaid': [3080947438], 'computingsite': ['CERN-PROD_T0_4MCORE']}, '_type': 'jobs_data', '_id': '3080947438'}, {'_score': 1.875411, '_index': 'jobs_archive_2016-11-16', 'fields': {'modificationtime': ['2016-11-16T18:13:59'], 'endtime': ['2016-11-16T17:42:02'], 'pandaid': [3081052248], 'computingsite': ['CERN-PROD_T0_4MCORE']}, '_type': 'jobs_data', '_id': '3081052248'}, {'_score': 1.875411, '_index': 'jobs_archive_2016-11-16', 'fields': {'modificationtime': ['2016-11-16T18:33:36'], 'endtime': ['2016-11-16T17:42:57'], 'pandaid': [3081028124], 'computingsite': ['CERN-PROD_T0_4MCORE']}, '_type': 'jobs_data', '_id': '3081028124'}, {'_score': 1.875411, '_index': 'jobs_archive_2016-11-16', 'fields': {'modificationtime': ['2016-11-16T18:14:54'], 'endtime': ['2016-11-16T17:41:59'], 'pandaid': [3081052230], 'computingsite': ['CERN-PROD_T0_4MCORE']}, '_type': 'jobs_data', '_id': '3081052230'}, {'_score': 1.875411, '_index': 'jobs_archive_2016-11-16', 'fields': {'modificationtime': ['2016-11-16T18:15:04'], 'endtime': ['2016-11-16T17:40:09'], 'pandaid': [3081052264], 'computingsite': ['CERN-PROD_T0_4MCORE']}, '_type': 'jobs_data', '_id': '3081052264'}, {'_score': 1.875411, '_index': 'jobs_archive_2016-11-16', 'fields': {'modificationtime': ['2016-11-16T20:13:18'], 'endtime': ['2016-11-16T17:48:49'], 'pandaid': [3080978531], 'computingsite': ['CERN-PROD_T0_4MCORE']}, '_type': 'jobs_data', '_id': '3080978531'}, {'_score': 1.875411, '_index': 'jobs_archive_2016-11-16', 'fields': {'modificationtime': ['2016-11-16T20:13:57'], 'endtime': ['2016-11-16T17:46:26'], 'pandaid': [3080869228], 'computingsite': ['CERN-PROD_T0_4MCORE']}, '_type': 'jobs_data', '_id': '3080869228'}, {'_score': 1.875411, '_index': 'jobs_archive_2016-11-16', 'fields': {'modificationtime': ['2016-11-16T20:12:06'], 'endtime': ['2016-11-16T17:48:21'], 'pandaid': [3080939057], 'computingsite': ['CERN-PROD_T0_4MCORE']}, '_type': 'jobs_data', '_id': '3080939057'}, {'_score': 1.875411, '_index': 'jobs_archive_2016-11-16', 'fields': {'modificationtime': ['2016-11-16T20:12:37'], 'endtime': ['2016-11-16T17:49:40'], 'pandaid': [3080978528], 'computingsite': ['CERN-PROD_T0_4MCORE']}, '_type': 'jobs_data', '_id': '3080978528'}, {'_score': 1.875411, '_index': 'jobs_archive_2016-11-16', 'fields': {'modificationtime': ['2016-11-16T20:02:00'], 'endtime': ['2016-11-16T17:48:22'], 'pandaid': [3080939124], 'computingsite': ['CERN-PROD_T0_4MCORE']}, '_type': 'jobs_data', '_id': '3080939124'}, {'_score': 1.875411, '_index': 'jobs_archive_2016-11-16', 'fields': {'modificationtime': ['2016-11-16T20:33:49'], 'endtime': ['2016-11-16T17:47:20'], 'pandaid': [3080402698], 'computingsite': ['CERN-PROD_T0_4MCORE']}, '_type': 'jobs_data', '_id': '3080402698'}, {'_score': 1.875411, '_index': 'jobs_archive_2016-11-16', 'fields': {'modificationtime': ['2016-11-16T20:34:01'], 'endtime': ['2016-11-16T17:49:23'], 'pandaid': [3080402703], 'computingsite': ['CERN-PROD_T0_4MCORE']}, '_type': 'jobs_data', '_id': '3080402703'}, {'_score': 1.875411, '_index': 'jobs_archive_2016-11-16', 'fields': {'modificationtime': ['2016-11-16T23:39:41'], 'endtime': ['2016-11-16T17:45:30'], 'pandaid': [3080923414], 'computingsite': ['CERN-PROD_T0_4MCORE']}, '_type': 'jobs_data', '_id': '3080923414'}, {'_score': 1.8742532, '_index': 'jobs_archive_2016-11-16', 'fields': {'modificationtime': ['2016-11-16T20:30:02'], 'endtime': ['2016-11-16T17:49:38'], 'pandaid': [3080402718], 'computingsite': ['CERN-PROD_T0_4MCORE']}, '_type': 'jobs_data', '_id': '3080402718'}, {'_score': 1.8742532, '_index': 'jobs_archive_2016-11-16', 'fields': {'modificationtime': ['2016-11-16T20:32:00'], 'endtime': ['2016-11-16T17:48:20'], 'pandaid': [3080402700], 'computingsite': ['CERN-PROD_T0_4MCORE']}, '_type': 'jobs_data', '_id': '3080402700'}, {'_score': 1.8742532, '_index': 'jobs_archive_2016-11-16', 'fields': {'modificationtime': ['2016-11-16T20:33:17'], 'endtime': ['2016-11-16T17:46:51'], 'pandaid': [3080402723], 'computingsite': ['CERN-PROD_T0_4MCORE']}, '_type': 'jobs_data', '_id': '3080402723'}, {'_score': 1.8742532, '_index': 'jobs_archive_2016-11-16', 'fields': {'modificationtime': ['2016-11-16T23:00:56'], 'endtime': ['2016-11-16T17:45:10'], 'pandaid': [3080923407], 'computingsite': ['CERN-PROD_T0_4MCORE']}, '_type': 'jobs_data', '_id': '3080923407'}, {'_score': 1.8742532, '_index': 'jobs_archive_2016-11-16', 'fields': {'modificationtime': ['2016-11-16T18:16:24'], 'endtime': ['2016-11-16T17:41:02'], 'pandaid': [3081052249], 'computingsite': ['CERN-PROD_T0_4MCORE']}, '_type': 'jobs_data', '_id': '3081052249'}, {'_score': 1.8742532, '_index': 'jobs_archive_2016-11-16', 'fields': {'modificationtime': ['2016-11-16T17:50:12'], 'endtime': ['2016-11-16T17:42:38'], 'pandaid': [3080869825], 'computingsite': ['CERN-PROD_T0_4MCORE']}, '_type': 'jobs_data', '_id': '3080869825'}]\n"
     ]
    }
   ],
   "source": [
    "res = es.search(index='jobs_archive_2016*', body=myquery, request_timeout=600)\n",
    "print(res['hits']['hits'])"
   ]
  },
  {
   "cell_type": "code",
   "execution_count": 4,
   "metadata": {
    "collapsed": false
   },
   "outputs": [],
   "source": [
    "f=open(\"output.json\", \"w\")\n",
    "f.write(json.dumps(res['hits']['hits'], sort_keys=True, indent=2))\n",
    "f.close()"
   ]
  },
  {
   "cell_type": "code",
   "execution_count": null,
   "metadata": {
    "collapsed": true
   },
   "outputs": [],
   "source": []
  }
 ],
 "metadata": {
  "kernelspec": {
   "display_name": "Python 3",
   "language": "python",
   "name": "python3"
  },
  "language_info": {
   "codemirror_mode": {
    "name": "ipython",
    "version": 3
   },
   "file_extension": ".py",
   "mimetype": "text/x-python",
   "name": "python",
   "nbconvert_exporter": "python",
   "pygments_lexer": "ipython3",
   "version": "3.5.1"
  }
 },
 "nbformat": 4,
 "nbformat_minor": 0
}
