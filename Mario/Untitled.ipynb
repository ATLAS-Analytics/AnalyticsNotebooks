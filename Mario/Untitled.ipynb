{
 "cells": [
  {
   "cell_type": "code",
   "execution_count": 7,
   "metadata": {
    "collapsed": true
   },
   "outputs": [],
   "source": [
    "import os\n",
    "from pprint import pprint"
   ]
  },
  {
   "cell_type": "code",
   "execution_count": 16,
   "metadata": {
    "collapsed": false
   },
   "outputs": [
    {
     "name": "stdout",
     "output_type": "stream",
     "text": [
      "('total 248\\n'\n",
      " 'drwxr-xr-x  3 ivukotic mwt2  4096 Aug 26 04:50 .\\n'\n",
      " 'drwxr-xr-x 23 ivukotic mwt2  4096 Aug 22 09:05 ..\\n'\n",
      " '-rw-r--r--  1 ivukotic mwt2 66188 Aug  4 08:56 AGIS Closeness Summed '\n",
      " 'Variance over Intervals.ipynb\\n'\n",
      " '-rw-r--r--  1 ivukotic mwt2 76199 Aug 14 11:44 Filesize Clustering.ipynb\\n'\n",
      " 'drwxr-xr-x  2 ivukotic mwt2  4096 Aug 26 04:46 .ipynb_checkpoints\\n'\n",
      " '-rw-r--r--  1 ivukotic mwt2 86224 Jun 20 10:27 totals_per_winsize.json\\n'\n",
      " '-rw-r--r--  1 ivukotic mwt2  3112 Aug 26 04:50 Untitled.ipynb\\n')\n"
     ]
    }
   ],
   "source": [
    "tmp = os.popen('ls -la').read()\n",
    "pprint(tmp)"
   ]
  },
  {
   "cell_type": "code",
   "execution_count": null,
   "metadata": {
    "collapsed": true
   },
   "outputs": [],
   "source": []
  }
 ],
 "metadata": {
  "kernelspec": {
   "display_name": "Python 3",
   "language": "python",
   "name": "python3"
  },
  "language_info": {
   "codemirror_mode": {
    "name": "ipython",
    "version": 3
   },
   "file_extension": ".py",
   "mimetype": "text/x-python",
   "name": "python",
   "nbconvert_exporter": "python",
   "pygments_lexer": "ipython3",
   "version": "3.5.1"
  }
 },
 "nbformat": 4,
 "nbformat_minor": 0
}
