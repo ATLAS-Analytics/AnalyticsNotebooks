{
 "cells": [
  {
   "cell_type": "code",
   "execution_count": 6,
   "metadata": {},
   "outputs": [],
   "source": [
    "from queue import Queue\n",
    "from threading import Thread\n",
    "#from collections import Counter\n",
    "import time\n",
    "#import random\n",
    "#import itertools\n",
    "\n",
    "#import curses\n",
    "#stdscr = curses.initscr()\n",
    "#stdscr.clear()\n",
    "\n",
    "queue = Queue() # Job queue. Use a queue enclosure like this\n",
    "threads = []\n",
    "\n",
    "##################### THREAD ############################\n",
    "# One thread over-all which produces jobs\n",
    "def threadProdJob(threadnr, q):\n",
    "    while True:\n",
    "        if q.qsize() < 10:\n",
    "            #print \"q.put of\", threadnr\n",
    "            q.put(threadnr)\n",
    "        time.sleep(1)\n",
    "        q.task_done( )\n",
    "\n",
    "threads.append( Thread(target=threadProdJob,args=(0, queue,)) )\n",
    "#thread.setDaemon(True);\n",
    "#thread.start();\n",
    "threads.append( Thread(target=threadProdJob,args=(1, queue,)) )\n",
    "#thread.setDaemon(True);\n",
    "#thread.start();\n",
    "\n"
   ]
  },
  {
   "cell_type": "code",
   "execution_count": null,
   "metadata": {},
   "outputs": [],
   "source": [
    "'''\n",
    "################          ( 1 )          ################\n",
    "# Wait in main thread until the queue is empty\n",
    "print \"*** Main thread stalled until queue is empty ***\"\n",
    "queue.join()    # wait for all other threads to complete\n",
    "'''\n",
    "\n",
    "'''\n",
    "################          ( 2 )          ################\n",
    "# Everything in a sub thread, wait in main thread until threads done\n",
    "for t in threads:\n",
    "    t.start()\n",
    "print \"*** Main thread stalled until threads finish ***\"\n",
    "for t in threads:\n",
    "    t.join()\n",
    "'''\n",
    "\n",
    "################          ( 3 )          ################\n",
    "# q.put() in sub threads. queue.get() into main thread\n",
    "for t in threads:\n",
    "    t.start()\n",
    "print(\"*** Main thread stalled until threads finish ***\")\n",
    "while True:\n",
    "    jobid = queue.get()                # get job\n",
    "    print (\"queue.get threadnr = jobid = \", str(jobid))\n",
    "    time.sleep(0.5)\n",
    "    #queue.task_done( )"
   ]
  },
  {
   "cell_type": "code",
   "execution_count": null,
   "metadata": {
    "collapsed": true
   },
   "outputs": [],
   "source": []
  }
 ],
 "metadata": {
  "kernelspec": {
   "display_name": "Python3.4 GPU ML",
   "language": "python",
   "name": "sys_kernel_py3.4_gpu"
  },
  "language_info": {
   "codemirror_mode": {
    "name": "ipython",
    "version": 3
   },
   "file_extension": ".py",
   "mimetype": "text/x-python",
   "name": "python",
   "nbconvert_exporter": "python",
   "pygments_lexer": "ipython3",
   "version": "3.4.5"
  }
 },
 "nbformat": 4,
 "nbformat_minor": 2
}
