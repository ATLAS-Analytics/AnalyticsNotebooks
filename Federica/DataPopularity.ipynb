{
 "cells": [
  {
   "cell_type": "code",
   "execution_count": 321,
   "metadata": {
    "collapsed": true
   },
   "outputs": [],
   "source": [
    "import numpy as np\n",
    "import matplotlib.pyplot as plt\n",
    "import datetime\n",
    "import re\n",
    "import json\n",
    "from elasticsearch import Elasticsearch, exceptions as es_exceptions\n",
    "from elasticsearch.helpers import scan\n",
    "from pandas.io.json import json_normalize\n",
    "from IPython.display import display\n",
    "from pandas import HDFStore,DataFrame\n",
    "import pandas as pd\n",
    "\n",
    "%matplotlib inline \n",
    "es = Elasticsearch(hosts=[{'host':'atlas-kibana.mwt2.org', 'port':9200}],timeout=60)"
   ]
  },
  {
   "cell_type": "markdown",
   "metadata": {},
   "source": [
    "<h2>Following cells to retrieve job indexes from ES</h2>"
   ]
  },
  {
   "cell_type": "code",
   "execution_count": 322,
   "metadata": {
    "collapsed": false
   },
   "outputs": [],
   "source": [
    "#define function to filter on time\n",
    "def time_filter(indices, last_days=1, pattern=''):\n",
    "    if last_days == 0:\n",
    "        return [\"jobs_archive_*\"]\n",
    "    filtered = []\n",
    "    if pattern:\n",
    "        for i in indices:\n",
    "            if pattern in i:\n",
    "                filtered.append(i.rstrip())\n",
    "        return filtered\n",
    "    today = datetime.date.today()\n",
    "    filtered = []\n",
    "    datefmt = '%Y-%m-%d'\n",
    "    for i in indices:\n",
    "        day = re.sub(r'jobs_archive_', '', i).rstrip()\n",
    "        #print(day)\n",
    "        day = datetime.datetime.strptime(day, datefmt).date()\n",
    "        diff = today - day\n",
    "        if diff.days < last_days:\n",
    "            filtered.append(i.rstrip())\n",
    "    return filtered"
   ]
  },
  {
   "cell_type": "code",
   "execution_count": 323,
   "metadata": {
    "collapsed": false
   },
   "outputs": [],
   "source": [
    "#get job archive indices from ES\n",
    "indices = es.cat.indices(index=\"jobs_archive_*\", h=\"index\", request_timeout=600).split('\\n')\n",
    "indices = sorted(indices)\n",
    "indices = [x for x in indices if x != '']\n",
    "if 'jobs_archive_2016_status' in indices:\n",
    "    indices.remove('jobs_archive_2016_status')\n",
    "#remove data due to central problem\n",
    "if 'jobs_archive_2016-12-29' in indices:\n",
    "    indices.remove('jobs_archive_2016-12-29')\n",
    "#print(indices)"
   ]
  },
  {
   "cell_type": "markdown",
   "metadata": {},
   "source": [
    "<h2>Following cells to retrieve job info from ES</h2>"
   ]
  },
  {
   "cell_type": "code",
   "execution_count": 336,
   "metadata": {
    "collapsed": false
   },
   "outputs": [],
   "source": [
    "#define function to create jobs object from scroll\n",
    "def jobs_list(scroll, max=-1):\n",
    "  \n",
    "    i = 0   \n",
    "    jobs = []\n",
    "    \n",
    "    for result in scroll:\n",
    "        #print(result['_source']['pandaid'])\n",
    "        #print_info(result)\n",
    "        if (max<0):\n",
    "            jobs.append(result)\n",
    "        else:\n",
    "            if (i<max):\n",
    "                jobs.append(result)\n",
    "        #if i<1: print_info(result)\n",
    "        i = i+1\n",
    "        if not i%10000:  \n",
    "            print('processing hit '+str(i)+'...')\n",
    "\n",
    "    return jobs"
   ]
  },
  {
   "cell_type": "code",
   "execution_count": 337,
   "metadata": {
    "collapsed": false
   },
   "outputs": [
    {
     "name": "stdout",
     "output_type": "stream",
     "text": [
      "jobs_archive_2017-04-13\n"
     ]
    }
   ],
   "source": [
    "# use e.g. last_days=7 or pattern='2016-02' (no wildcard !)\n",
    "NDAYS=1  #NDAYS=150 #NDAYS=''\n",
    "PATTERN='' #PATTERN = '2016-03' #PATTERN=''\n",
    "ind = time_filter(indices, last_days=NDAYS, pattern=PATTERN)\n",
    "ind = ','.join(ind)\n",
    "print(ind)"
   ]
  },
  {
   "cell_type": "code",
   "execution_count": 351,
   "metadata": {
    "collapsed": false
   },
   "outputs": [
    {
     "name": "stdout",
     "output_type": "stream",
     "text": [
      "processing hit 10000...\n",
      "processing hit 20000...\n",
      "processing hit 30000...\n",
      "processing hit 40000...\n",
      "processing hit 50000...\n",
      "processing hit 60000...\n",
      "processing hit 70000...\n",
      "processing hit 80000...\n",
      "processing hit 90000...\n",
      "processing hit 100000...\n",
      "processing hit 110000...\n",
      "processing hit 120000...\n",
      "processing hit 130000...\n",
      "processing hit 140000...\n",
      "processing hit 150000...\n",
      "processing hit 160000...\n",
      "Saving into Panda Dataframe\n",
      "Index(['date', 'scope', 'type', 'taskid', 'pandaid', 'name', 'site', 'user'], dtype='object')\n"
     ]
    }
   ],
   "source": [
    "#select finished analysis jobs with inputfile DAOD\n",
    "query = \"(prodsourcelabel:user) AND (NOT produsername:gangarbt) AND (NOT processingtype:pmerge) AND (jobstatus:finished) AND inputfiletype:DAOD*\"\n",
    "\n",
    "#count hits\n",
    "#count =(es.count(index=ind, q=query, request_timeout=600))\n",
    "#print('hits: '+str(count['count']))\n",
    "\n",
    "#test query with search -> gets only a limited number of records (size=x). Cannot be used for big searches x>10000\n",
    "#res = es.search(index=ind, q=query, size = 2, request_timeout=600, _source=[\"computingsite\", \"pandaid\", \"jeditaskid\", \"inputfileproject\",\"inputfiletype\",\"produsername\", \"proddblock\"])\n",
    "#jobs = res['hits']['hits']\n",
    "    \n",
    "#use scroll to get all hits (allows unlimited result queries)\n",
    "scroll = scan(es, index=ind, q=query, scroll='5m', timeout=\"5m\", size=100, _source=[\"computingsite\", \"pandaid\", \"jeditaskid\", \"inputfileproject\",\"inputfiletype\",\"produsername\", \"proddblock\"])\n",
    "\n",
    "#jobs = jobs_list(scroll, 10000)\n",
    "jobs = jobs_list(scroll)\n",
    "\n",
    "#save into Panda Dataframe\n",
    "print('Saving into Panda Dataframe')\n",
    "df_orig = json_normalize(jobs)\n",
    "print(df.columns)"
   ]
  },
  {
   "cell_type": "markdown",
   "metadata": {},
   "source": [
    "<h2>Re-arrange jobs info on original DF</h2>"
   ]
  },
  {
   "cell_type": "code",
   "execution_count": 354,
   "metadata": {
    "collapsed": false
   },
   "outputs": [
    {
     "name": "stdout",
     "output_type": "stream",
     "text": [
      "Original DF\n"
     ]
    },
    {
     "data": {
      "text/plain": [
       "Index(['date', 'scope', 'type', 'taskid', 'pandaid', 'name', 'site', 'user'], dtype='object')"
      ]
     },
     "metadata": {},
     "output_type": "display_data"
    },
    {
     "data": {
      "text/plain": [
       "(164517, 8)"
      ]
     },
     "metadata": {},
     "output_type": "display_data"
    }
   ],
   "source": [
    "#save only interesting columns\n",
    "df = df_orig[['_index', '_source.inputfileproject', '_source.inputfiletype', '_source.jeditaskid', '_source.pandaid', \n",
    "         '_source.proddblock', '_source.computingsite', '_source.produsername']] #'_source.computingsite',\n",
    "\n",
    "#change name and manipulate strings\n",
    "df = df.rename(index=str, columns={\"_index\": \"date\", \"_source.inputfileproject\": \"scope\",\n",
    "         \"_source.inputfiletype\":\"type\", \"_source.jeditaskid\":\"taskid\", \"_source.pandaid\":\"pandaid\", \n",
    "         \"_source.proddblock\":\"name\", \"_source.computingsite\":\"site\", \"_source.produsername\":\"user\"})\n",
    "\n",
    "df['date'] = df['date'].str.replace('jobs_archive_', '')\n",
    "df['name'] = df['name'].str.split(':').str.get(1)\n",
    "\n",
    "#display(df.head(10))\n",
    "#display(df['date'][0])\n",
    "\n",
    "#save the date\n",
    "DATE=df['date'][0]\n",
    "\n",
    "#DEBUG: number of accesses per dataset per different users\n",
    "#df_accesses = df.groupby('name')['user'].nunique().reset_index()\n",
    "#df_accesses.plot('name')\n",
    "#display(df_accesses.loc[df_accesses['user'] >1])\n",
    "\n",
    "#type(df)\n",
    "print(\"Original DF\")\n",
    "display(df.columns)\n",
    "display(df.shape)"
   ]
  },
  {
   "cell_type": "markdown",
   "metadata": {},
   "source": [
    "<h2>Re-arrange datasets as a function of user accesses</h2>"
   ]
  },
  {
   "cell_type": "code",
   "execution_count": 355,
   "metadata": {
    "collapsed": false
   },
   "outputs": [
    {
     "name": "stdout",
     "output_type": "stream",
     "text": [
      "Accesses per unique name and user, summed over pandaid\n"
     ]
    },
    {
     "data": {
      "text/plain": [
       "(3161, 6)"
      ]
     },
     "metadata": {},
     "output_type": "display_data"
    },
    {
     "name": "stdout",
     "output_type": "stream",
     "text": [
      "Sum over pandaid must match original DF\n"
     ]
    },
    {
     "data": {
      "text/plain": [
       "164517"
      ]
     },
     "metadata": {},
     "output_type": "display_data"
    },
    {
     "data": {
      "text/html": [
       "<div>\n",
       "<table border=\"1\" class=\"dataframe\">\n",
       "  <thead>\n",
       "    <tr style=\"text-align: right;\">\n",
       "      <th></th>\n",
       "      <th>name</th>\n",
       "      <th>date</th>\n",
       "      <th>type</th>\n",
       "      <th>scope</th>\n",
       "      <th>user</th>\n",
       "      <th>pandaid</th>\n",
       "    </tr>\n",
       "  </thead>\n",
       "  <tbody>\n",
       "    <tr>\n",
       "      <th>2723</th>\n",
       "      <td>mc15_13TeV.410000.PowhegPythiaEvtGen_P2012_ttb...</td>\n",
       "      <td>2017-04-13</td>\n",
       "      <td>DAOD_TOPQ1</td>\n",
       "      <td>mc15_13TeV</td>\n",
       "      <td>3</td>\n",
       "      <td>28</td>\n",
       "    </tr>\n",
       "    <tr>\n",
       "      <th>586</th>\n",
       "      <td>data16_13TeV.00304128.physics_Main.merge.DAOD_...</td>\n",
       "      <td>2017-04-13</td>\n",
       "      <td>DAOD_MUON1</td>\n",
       "      <td>data16_13TeV</td>\n",
       "      <td>3</td>\n",
       "      <td>30</td>\n",
       "    </tr>\n",
       "    <tr>\n",
       "      <th>407</th>\n",
       "      <td>data16_13TeV.00302380.physics_Main.merge.DAOD_...</td>\n",
       "      <td>2017-04-13</td>\n",
       "      <td>DAOD_SUSY11</td>\n",
       "      <td>data16_13TeV</td>\n",
       "      <td>2</td>\n",
       "      <td>255</td>\n",
       "    </tr>\n",
       "    <tr>\n",
       "      <th>443</th>\n",
       "      <td>data16_13TeV.00302919.physics_Main.merge.DAOD_...</td>\n",
       "      <td>2017-04-13</td>\n",
       "      <td>DAOD_SUSY11</td>\n",
       "      <td>data16_13TeV</td>\n",
       "      <td>2</td>\n",
       "      <td>153</td>\n",
       "    </tr>\n",
       "    <tr>\n",
       "      <th>441</th>\n",
       "      <td>data16_13TeV.00302872.physics_Main.merge.DAOD_...</td>\n",
       "      <td>2017-04-13</td>\n",
       "      <td>DAOD_SUSY11</td>\n",
       "      <td>data16_13TeV</td>\n",
       "      <td>2</td>\n",
       "      <td>965</td>\n",
       "    </tr>\n",
       "    <tr>\n",
       "      <th>439</th>\n",
       "      <td>data16_13TeV.00302872.physics_Main.merge.DAOD_...</td>\n",
       "      <td>2017-04-13</td>\n",
       "      <td>DAOD_JETM6</td>\n",
       "      <td>data16_13TeV</td>\n",
       "      <td>2</td>\n",
       "      <td>375</td>\n",
       "    </tr>\n",
       "    <tr>\n",
       "      <th>433</th>\n",
       "      <td>data16_13TeV.00302831.physics_Main.merge.DAOD_...</td>\n",
       "      <td>2017-04-13</td>\n",
       "      <td>DAOD_SUSY11</td>\n",
       "      <td>data16_13TeV</td>\n",
       "      <td>2</td>\n",
       "      <td>47</td>\n",
       "    </tr>\n",
       "    <tr>\n",
       "      <th>1229</th>\n",
       "      <td>mc15_13TeV.307480.Sherpa_221_NNPDF30NNLO_ttbar...</td>\n",
       "      <td>2017-04-13</td>\n",
       "      <td>DAOD_HIGG4D2</td>\n",
       "      <td>mc15_13TeV</td>\n",
       "      <td>2</td>\n",
       "      <td>4</td>\n",
       "    </tr>\n",
       "    <tr>\n",
       "      <th>425</th>\n",
       "      <td>data16_13TeV.00302737.physics_Main.merge.DAOD_...</td>\n",
       "      <td>2017-04-13</td>\n",
       "      <td>DAOD_SUSY11</td>\n",
       "      <td>data16_13TeV</td>\n",
       "      <td>2</td>\n",
       "      <td>181</td>\n",
       "    </tr>\n",
       "    <tr>\n",
       "      <th>418</th>\n",
       "      <td>data16_13TeV.00302393.physics_Main.merge.DAOD_...</td>\n",
       "      <td>2017-04-13</td>\n",
       "      <td>DAOD_SUSY11</td>\n",
       "      <td>data16_13TeV</td>\n",
       "      <td>2</td>\n",
       "      <td>370</td>\n",
       "    </tr>\n",
       "  </tbody>\n",
       "</table>\n",
       "</div>"
      ],
      "text/plain": [
       "                                                   name        date  \\\n",
       "2723  mc15_13TeV.410000.PowhegPythiaEvtGen_P2012_ttb...  2017-04-13   \n",
       "586   data16_13TeV.00304128.physics_Main.merge.DAOD_...  2017-04-13   \n",
       "407   data16_13TeV.00302380.physics_Main.merge.DAOD_...  2017-04-13   \n",
       "443   data16_13TeV.00302919.physics_Main.merge.DAOD_...  2017-04-13   \n",
       "441   data16_13TeV.00302872.physics_Main.merge.DAOD_...  2017-04-13   \n",
       "439   data16_13TeV.00302872.physics_Main.merge.DAOD_...  2017-04-13   \n",
       "433   data16_13TeV.00302831.physics_Main.merge.DAOD_...  2017-04-13   \n",
       "1229  mc15_13TeV.307480.Sherpa_221_NNPDF30NNLO_ttbar...  2017-04-13   \n",
       "425   data16_13TeV.00302737.physics_Main.merge.DAOD_...  2017-04-13   \n",
       "418   data16_13TeV.00302393.physics_Main.merge.DAOD_...  2017-04-13   \n",
       "\n",
       "              type         scope  user  pandaid  \n",
       "2723    DAOD_TOPQ1    mc15_13TeV     3       28  \n",
       "586     DAOD_MUON1  data16_13TeV     3       30  \n",
       "407    DAOD_SUSY11  data16_13TeV     2      255  \n",
       "443    DAOD_SUSY11  data16_13TeV     2      153  \n",
       "441    DAOD_SUSY11  data16_13TeV     2      965  \n",
       "439     DAOD_JETM6  data16_13TeV     2      375  \n",
       "433    DAOD_SUSY11  data16_13TeV     2       47  \n",
       "1229  DAOD_HIGG4D2    mc15_13TeV     2        4  \n",
       "425    DAOD_SUSY11  data16_13TeV     2      181  \n",
       "418    DAOD_SUSY11  data16_13TeV     2      370  "
      ]
     },
     "metadata": {},
     "output_type": "display_data"
    },
    {
     "data": {
      "image/png": "[encoded data removed]",
      "text/plain": [
       "<matplotlib.figure.Figure at 0x7fe3e8f90898>"
      ]
     },
     "metadata": {},
     "output_type": "display_data"
    },
    {
     "name": "stdout",
     "output_type": "stream",
     "text": [
      "Accesses per unique name (summed over pandaid and users)\n"
     ]
    },
    {
     "data": {
      "text/plain": [
       "(2951, 6)"
      ]
     },
     "metadata": {},
     "output_type": "display_data"
    },
    {
     "name": "stdout",
     "output_type": "stream",
     "text": [
      "Sum over pandaid must match original DF\n"
     ]
    },
    {
     "data": {
      "text/plain": [
       "164517"
      ]
     },
     "execution_count": 355,
     "metadata": {},
     "output_type": "execute_result"
    }
   ],
   "source": [
    "#create number of accesses per pandaid -> get rid of site\n",
    "df_pandaid = df.groupby(['name', 'date', 'type', 'scope', 'user'])['pandaid'].nunique().reset_index()\n",
    "\n",
    "print(\"Accesses per unique name and user, summed over pandaid\")\n",
    "display(df_pandaid.shape)\n",
    "print(\"Sum over pandaid must match original DF\")\n",
    "display(df_pandaid['pandaid'].sum())\n",
    "#display(df_pandaid.head(10))\n",
    "\n",
    "#df_pandaid.plot('user')\n",
    "#df_pandaid.plot('name')\n",
    "\n",
    "#create number of accesses per unique user, sum over pandaid\n",
    "df_user = df_pandaid.groupby(['name','date', 'type','scope']).agg({\"pandaid\": np.sum, \"user\": pd.Series.nunique}).reset_index()\n",
    "display(df_user.sort_values('user',ascending=False).head(10))\n",
    "\n",
    "df_user.sort_values('type').plot('type')\n",
    "plt.xticks(rotation=90)\n",
    "plt.show()\n",
    "\n",
    "print(\"Accesses per unique name (summed over pandaid and users)\")\n",
    "display(df_user.shape)\n",
    "print(\"Sum over pandaid must match original DF\")\n",
    "df_user.pandaid.sum()\n",
    "\n",
    "#debug\n",
    "#df_more=df_user.loc[df_user['user'] >1]\n",
    "#display(df_more)\n",
    "#df_more['name'][181]\n",
    "#df_debug=df.loc[df['name']==df_more['name'][181]]\n",
    "#display(df_debug)\n"
   ]
  },
  {
   "cell_type": "markdown",
   "metadata": {},
   "source": [
    "<h2>Re-arrange datasets as a function of accessed replicas</h2>"
   ]
  },
  {
   "cell_type": "code",
   "execution_count": 356,
   "metadata": {
    "collapsed": false
   },
   "outputs": [
    {
     "name": "stdout",
     "output_type": "stream",
     "text": [
      "Accesses per unique name and site, summed over pandaid\n"
     ]
    },
    {
     "data": {
      "text/plain": [
       "(4572, 6)"
      ]
     },
     "metadata": {},
     "output_type": "display_data"
    },
    {
     "name": "stdout",
     "output_type": "stream",
     "text": [
      "Sum over pandaid must match original DF\n"
     ]
    },
    {
     "data": {
      "text/plain": [
       "164517"
      ]
     },
     "metadata": {},
     "output_type": "display_data"
    },
    {
     "data": {
      "text/html": [
       "<div>\n",
       "<table border=\"1\" class=\"dataframe\">\n",
       "  <thead>\n",
       "    <tr style=\"text-align: right;\">\n",
       "      <th></th>\n",
       "      <th>name</th>\n",
       "      <th>date</th>\n",
       "      <th>type</th>\n",
       "      <th>scope</th>\n",
       "      <th>pandaid</th>\n",
       "      <th>site</th>\n",
       "    </tr>\n",
       "  </thead>\n",
       "  <tbody>\n",
       "    <tr>\n",
       "      <th>407</th>\n",
       "      <td>data16_13TeV.00302380.physics_Main.merge.DAOD_...</td>\n",
       "      <td>2017-04-13</td>\n",
       "      <td>DAOD_SUSY11</td>\n",
       "      <td>data16_13TeV</td>\n",
       "      <td>255</td>\n",
       "      <td>6</td>\n",
       "    </tr>\n",
       "    <tr>\n",
       "      <th>1107</th>\n",
       "      <td>data16_13TeV.00311402.physics_Main.merge.DAOD_...</td>\n",
       "      <td>2017-04-13</td>\n",
       "      <td>DAOD_SUSY11</td>\n",
       "      <td>data16_13TeV</td>\n",
       "      <td>351</td>\n",
       "      <td>6</td>\n",
       "    </tr>\n",
       "    <tr>\n",
       "      <th>305</th>\n",
       "      <td>data16_13TeV.00300487.physics_Main.merge.DAOD_...</td>\n",
       "      <td>2017-04-13</td>\n",
       "      <td>DAOD_SUSY11</td>\n",
       "      <td>data16_13TeV</td>\n",
       "      <td>226</td>\n",
       "      <td>6</td>\n",
       "    </tr>\n",
       "    <tr>\n",
       "      <th>708</th>\n",
       "      <td>data16_13TeV.00305920.physics_Main.merge.DAOD_...</td>\n",
       "      <td>2017-04-13</td>\n",
       "      <td>DAOD_SUSY11</td>\n",
       "      <td>data16_13TeV</td>\n",
       "      <td>305</td>\n",
       "      <td>6</td>\n",
       "    </tr>\n",
       "    <tr>\n",
       "      <th>1660</th>\n",
       "      <td>mc15_13TeV.361106.PowhegPythia8EvtGen_AZNLOCTE...</td>\n",
       "      <td>2017-04-13</td>\n",
       "      <td>DAOD_STDM3</td>\n",
       "      <td>mc15_13TeV</td>\n",
       "      <td>1843</td>\n",
       "      <td>6</td>\n",
       "    </tr>\n",
       "    <tr>\n",
       "      <th>445</th>\n",
       "      <td>data16_13TeV.00302925.physics_Main.merge.DAOD_...</td>\n",
       "      <td>2017-04-13</td>\n",
       "      <td>DAOD_HIGG2D4</td>\n",
       "      <td>data16_13TeV</td>\n",
       "      <td>198</td>\n",
       "      <td>6</td>\n",
       "    </tr>\n",
       "    <tr>\n",
       "      <th>512</th>\n",
       "      <td>data16_13TeV.00303499.physics_Main.merge.DAOD_...</td>\n",
       "      <td>2017-04-13</td>\n",
       "      <td>DAOD_JETM3</td>\n",
       "      <td>data16_13TeV</td>\n",
       "      <td>53</td>\n",
       "      <td>5</td>\n",
       "    </tr>\n",
       "    <tr>\n",
       "      <th>2931</th>\n",
       "      <td>mc15_13TeV.410501.PowhegPythia8EvtGen_A14_ttba...</td>\n",
       "      <td>2017-04-13</td>\n",
       "      <td>DAOD_TOPQ1</td>\n",
       "      <td>mc15_13TeV</td>\n",
       "      <td>274</td>\n",
       "      <td>5</td>\n",
       "    </tr>\n",
       "    <tr>\n",
       "      <th>441</th>\n",
       "      <td>data16_13TeV.00302872.physics_Main.merge.DAOD_...</td>\n",
       "      <td>2017-04-13</td>\n",
       "      <td>DAOD_SUSY11</td>\n",
       "      <td>data16_13TeV</td>\n",
       "      <td>965</td>\n",
       "      <td>5</td>\n",
       "    </tr>\n",
       "    <tr>\n",
       "      <th>479</th>\n",
       "      <td>data16_13TeV.00303208.physics_Main.merge.DAOD_...</td>\n",
       "      <td>2017-04-13</td>\n",
       "      <td>DAOD_SUSY11</td>\n",
       "      <td>data16_13TeV</td>\n",
       "      <td>531</td>\n",
       "      <td>5</td>\n",
       "    </tr>\n",
       "  </tbody>\n",
       "</table>\n",
       "</div>"
      ],
      "text/plain": [
       "                                                   name        date  \\\n",
       "407   data16_13TeV.00302380.physics_Main.merge.DAOD_...  2017-04-13   \n",
       "1107  data16_13TeV.00311402.physics_Main.merge.DAOD_...  2017-04-13   \n",
       "305   data16_13TeV.00300487.physics_Main.merge.DAOD_...  2017-04-13   \n",
       "708   data16_13TeV.00305920.physics_Main.merge.DAOD_...  2017-04-13   \n",
       "1660  mc15_13TeV.361106.PowhegPythia8EvtGen_AZNLOCTE...  2017-04-13   \n",
       "445   data16_13TeV.00302925.physics_Main.merge.DAOD_...  2017-04-13   \n",
       "512   data16_13TeV.00303499.physics_Main.merge.DAOD_...  2017-04-13   \n",
       "2931  mc15_13TeV.410501.PowhegPythia8EvtGen_A14_ttba...  2017-04-13   \n",
       "441   data16_13TeV.00302872.physics_Main.merge.DAOD_...  2017-04-13   \n",
       "479   data16_13TeV.00303208.physics_Main.merge.DAOD_...  2017-04-13   \n",
       "\n",
       "              type         scope  pandaid  site  \n",
       "407    DAOD_SUSY11  data16_13TeV      255     6  \n",
       "1107   DAOD_SUSY11  data16_13TeV      351     6  \n",
       "305    DAOD_SUSY11  data16_13TeV      226     6  \n",
       "708    DAOD_SUSY11  data16_13TeV      305     6  \n",
       "1660    DAOD_STDM3    mc15_13TeV     1843     6  \n",
       "445   DAOD_HIGG2D4  data16_13TeV      198     6  \n",
       "512     DAOD_JETM3  data16_13TeV       53     5  \n",
       "2931    DAOD_TOPQ1    mc15_13TeV      274     5  \n",
       "441    DAOD_SUSY11  data16_13TeV      965     5  \n",
       "479    DAOD_SUSY11  data16_13TeV      531     5  "
      ]
     },
     "metadata": {},
     "output_type": "display_data"
    },
    {
     "data": {
      "image/png": "[encoded data removed]",
      "text/plain": [
       "<matplotlib.figure.Figure at 0x7fe3f736d5c0>"
      ]
     },
     "metadata": {},
     "output_type": "display_data"
    },
    {
     "name": "stdout",
     "output_type": "stream",
     "text": [
      "Accesses per unique name (summed over pandaid and sites)\n"
     ]
    },
    {
     "data": {
      "text/plain": [
       "(2951, 6)"
      ]
     },
     "metadata": {},
     "output_type": "display_data"
    },
    {
     "name": "stdout",
     "output_type": "stream",
     "text": [
      "Sum over pandaid must match original DF\n"
     ]
    },
    {
     "data": {
      "text/plain": [
       "164517"
      ]
     },
     "execution_count": 356,
     "metadata": {},
     "output_type": "execute_result"
    }
   ],
   "source": [
    "#create number of accesses per pandaid -> get rid of user\n",
    "df_pandaid = df.groupby(['name', 'date', 'type', 'scope', 'site'])['pandaid'].nunique().reset_index()\n",
    "\n",
    "print(\"Accesses per unique name and site, summed over pandaid\")\n",
    "display(df_pandaid.shape)\n",
    "print(\"Sum over pandaid must match original DF\")\n",
    "display(df_pandaid['pandaid'].sum())\n",
    "#display(df_pandaid.head(10))\n",
    "\n",
    "#df_pandaid.plot('site')\n",
    "#df_pandaid.plot('name')\n",
    "\n",
    "#create number of accesses per unique site, sum over pandaid\n",
    "df_site = df_pandaid.groupby(['name','date', 'type','scope']).agg({\"pandaid\": np.sum, \"site\": pd.Series.nunique}).reset_index()\n",
    "display(df_site.sort_values('site',ascending=False).head(10))\n",
    "\n",
    "df_site.sort_values('type').plot('type')\n",
    "plt.xticks(rotation=90)\n",
    "plt.show()\n",
    "\n",
    "print(\"Accesses per unique name (summed over pandaid and sites)\")\n",
    "display(df_site.shape)\n",
    "print(\"Sum over pandaid must match original DF\")\n",
    "df_site.pandaid.sum()\n"
   ]
  },
  {
   "cell_type": "code",
   "execution_count": 357,
   "metadata": {
    "collapsed": false
   },
   "outputs": [],
   "source": [
    "store = HDFStore('store_'+DATE+'.h5')\n",
    "store['df_site'] = df_site\n",
    "store['df_user'] = df_user"
   ]
  },
  {
   "cell_type": "code",
   "execution_count": null,
   "metadata": {
    "collapsed": true
   },
   "outputs": [],
   "source": []
  }
 ],
 "metadata": {
  "kernelspec": {
   "display_name": "Python 3",
   "language": "python",
   "name": "python3"
  },
  "language_info": {
   "codemirror_mode": {
    "name": "ipython",
    "version": 3
   },
   "file_extension": ".py",
   "mimetype": "text/x-python",
   "name": "python",
   "nbconvert_exporter": "python",
   "pygments_lexer": "ipython3",
   "version": "3.5.1"
  }
 },
 "nbformat": 4,
 "nbformat_minor": 0
}
