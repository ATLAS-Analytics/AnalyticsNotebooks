{
 "cells": [
  {
   "cell_type": "code",
   "execution_count": 4,
   "metadata": {
    "collapsed": true
   },
   "outputs": [],
   "source": [
    "import numpy as np\n",
    "import matplotlib.pyplot as plt\n",
    "import datetime\n",
    "import re\n",
    "import json\n",
    "from pandas.io.json import json_normalize\n",
    "from IPython.display import display\n",
    "from pandas import HDFStore,DataFrame\n",
    "import pandas as pd\n",
    "\n",
    "%matplotlib inline "
   ]
  },
  {
   "cell_type": "markdown",
   "metadata": {},
   "source": [
    "<h2>Prepare inputs for ML</h2>\n",
    "<h4>CMS model </h4>\n",
    "- Inputs: X = name (DSID, scope, ...), panda jobs, replica used , users up to week X-1 (6 months)<br> \n",
    "- Output: Y = signal (used in week X)/background (not used in week X)<br>\n",
    "- Predictions are made for week X+1\n",
    "<br><br>\n",
    "\n",
    "- add all data for popularity measurement: sum up over panda ids, replicas, users\n",
    "- add data for prediction: use datasets not used in that week (add randomly to have 10x background than signal)\n",
    "\n",
    "[arXiv:1602.07226]"
   ]
  },
  {
   "cell_type": "markdown",
   "metadata": {},
   "source": [
    "<h3>First, open files</h3>\n"
   ]
  },
  {
   "cell_type": "code",
   "execution_count": 5,
   "metadata": {
    "collapsed": false
   },
   "outputs": [],
   "source": [
    "#Open weekly summaries and returns a dictionary of dataframes, key is date\n",
    "def openFiles(start, end):\n",
    "    \n",
    "    dt = start\n",
    "    dataFrames = {}\n",
    "    step = datetime.timedelta(days=7)\n",
    "    \n",
    "    #loop over all results\n",
    "    while dt < end:\n",
    "    \n",
    "        filename = 'DataPopularity_data/weekly_'+str(dt)+'.h5'\n",
    "        df = pd.read_hdf(filename, 'result')       \n",
    "        dataFrames[dt]=df\n",
    "        dt += step     \n",
    "        #print('Opening '+filename)\n",
    "    #print(dataFrames)\n",
    "    return dataFrames"
   ]
  },
  {
   "cell_type": "code",
   "execution_count": 6,
   "metadata": {
    "collapsed": false
   },
   "outputs": [
    {
     "name": "stdout",
     "output_type": "stream",
     "text": [
      "75\n"
     ]
    }
   ],
   "source": [
    "#open files and create dictionary of DataFrames, key is date\n",
    "start = datetime.date(2016, 1, 1)                # measurement: starting date\n",
    "ndays = 520                                       # Total range of input data\n",
    "end = start + datetime.timedelta(days=ndays)      # end measurement\n",
    "\n",
    "dataFrames = openFiles(start, start+ datetime.timedelta(days=int(ndays)) )\n",
    "print(len(dataFrames))"
   ]
  },
  {
   "cell_type": "markdown",
   "metadata": {},
   "source": [
    "<h3>Create dataframe with weekly summaries</h3>"
   ]
  },
  {
   "cell_type": "code",
   "execution_count": 7,
   "metadata": {
    "collapsed": true
   },
   "outputs": [],
   "source": [
    "# function to merge datasets with same name and different tids (datasets -> container)\n",
    "def mergeTID(df):\n",
    "\n",
    "    df['name'], df['tid'] = df['name'].str.split('_tid', 1).str\n",
    "    #display(df.shape)\n",
    "    df = df.groupby(['name','type','scope']).agg({\"pandaid\": np.sum, \"user\": np.sum,  \"site\": np.sum}).reset_index()\n",
    "    #display(df.shape)\n",
    "    \n",
    "    return df"
   ]
  },
  {
   "cell_type": "code",
   "execution_count": 8,
   "metadata": {
    "collapsed": false
   },
   "outputs": [
    {
     "name": "stdout",
     "output_type": "stream",
     "text": [
      "2016-01-08 "
     ]
    },
    {
     "data": {
      "text/html": [
       "<div>\n",
       "<style>\n",
       "    .dataframe thead tr:only-child th {\n",
       "        text-align: right;\n",
       "    }\n",
       "\n",
       "    .dataframe thead th {\n",
       "        text-align: left;\n",
       "    }\n",
       "\n",
       "    .dataframe tbody tr th {\n",
       "        vertical-align: top;\n",
       "    }\n",
       "</style>\n",
       "<table border=\"1\" class=\"dataframe\">\n",
       "  <thead>\n",
       "    <tr style=\"text-align: right;\">\n",
       "      <th></th>\n",
       "      <th>name</th>\n",
       "      <th>scope</th>\n",
       "      <th>pandaid</th>\n",
       "    </tr>\n",
       "  </thead>\n",
       "  <tbody>\n",
       "    <tr>\n",
       "      <th>0</th>\n",
       "      <td>data11_7TeV.00178044.physics_Muons.merge.DAOD_...</td>\n",
       "      <td>data11_7TeV</td>\n",
       "      <td>2</td>\n",
       "    </tr>\n",
       "    <tr>\n",
       "      <th>1</th>\n",
       "      <td>data11_7TeV.00178047.physics_Muons.merge.DAOD_...</td>\n",
       "      <td>data11_7TeV</td>\n",
       "      <td>1</td>\n",
       "    </tr>\n",
       "    <tr>\n",
       "      <th>2</th>\n",
       "      <td>data11_7TeV.00178109.physics_Muons.merge.DAOD_...</td>\n",
       "      <td>data11_7TeV</td>\n",
       "      <td>4</td>\n",
       "    </tr>\n",
       "    <tr>\n",
       "      <th>3</th>\n",
       "      <td>data11_7TeV.00179710.physics_Muons.merge.DAOD_...</td>\n",
       "      <td>data11_7TeV</td>\n",
       "      <td>3</td>\n",
       "    </tr>\n",
       "    <tr>\n",
       "      <th>4</th>\n",
       "      <td>data11_7TeV.00179725.physics_Muons.merge.DAOD_...</td>\n",
       "      <td>data11_7TeV</td>\n",
       "      <td>1</td>\n",
       "    </tr>\n",
       "  </tbody>\n",
       "</table>\n",
       "</div>"
      ],
      "text/plain": [
       "                                                name        scope  pandaid\n",
       "0  data11_7TeV.00178044.physics_Muons.merge.DAOD_...  data11_7TeV        2\n",
       "1  data11_7TeV.00178047.physics_Muons.merge.DAOD_...  data11_7TeV        1\n",
       "2  data11_7TeV.00178109.physics_Muons.merge.DAOD_...  data11_7TeV        4\n",
       "3  data11_7TeV.00179710.physics_Muons.merge.DAOD_...  data11_7TeV        3\n",
       "4  data11_7TeV.00179725.physics_Muons.merge.DAOD_...  data11_7TeV        1"
      ]
     },
     "metadata": {},
     "output_type": "display_data"
    },
    {
     "data": {
      "text/html": [
       "<div>\n",
       "<style>\n",
       "    .dataframe thead tr:only-child th {\n",
       "        text-align: right;\n",
       "    }\n",
       "\n",
       "    .dataframe thead th {\n",
       "        text-align: left;\n",
       "    }\n",
       "\n",
       "    .dataframe tbody tr th {\n",
       "        vertical-align: top;\n",
       "    }\n",
       "</style>\n",
       "<table border=\"1\" class=\"dataframe\">\n",
       "  <thead>\n",
       "    <tr style=\"text-align: right;\">\n",
       "      <th></th>\n",
       "      <th>name</th>\n",
       "      <th>scope</th>\n",
       "      <th>pandaid_x</th>\n",
       "      <th>pandaid_y</th>\n",
       "    </tr>\n",
       "  </thead>\n",
       "  <tbody>\n",
       "    <tr>\n",
       "      <th>0</th>\n",
       "      <td>data12_8TeV.00202712.physics_Bphysics.merge.DA...</td>\n",
       "      <td>data12_8TeV</td>\n",
       "      <td>11.0</td>\n",
       "      <td>NaN</td>\n",
       "    </tr>\n",
       "    <tr>\n",
       "      <th>1</th>\n",
       "      <td>data12_8TeV.00202740.physics_Bphysics.merge.DA...</td>\n",
       "      <td>data12_8TeV</td>\n",
       "      <td>1.0</td>\n",
       "      <td>NaN</td>\n",
       "    </tr>\n",
       "    <tr>\n",
       "      <th>2</th>\n",
       "      <td>data12_8TeV.00202798.physics_Bphysics.merge.DA...</td>\n",
       "      <td>data12_8TeV</td>\n",
       "      <td>2.0</td>\n",
       "      <td>NaN</td>\n",
       "    </tr>\n",
       "    <tr>\n",
       "      <th>3</th>\n",
       "      <td>data12_8TeV.00202965.physics_Bphysics.merge.DA...</td>\n",
       "      <td>data12_8TeV</td>\n",
       "      <td>1.0</td>\n",
       "      <td>NaN</td>\n",
       "    </tr>\n",
       "    <tr>\n",
       "      <th>4</th>\n",
       "      <td>data12_8TeV.00202987.physics_Bphysics.merge.DA...</td>\n",
       "      <td>data12_8TeV</td>\n",
       "      <td>1.0</td>\n",
       "      <td>NaN</td>\n",
       "    </tr>\n",
       "    <tr>\n",
       "      <th>5</th>\n",
       "      <td>data12_8TeV.00202991.physics_Bphysics.merge.DA...</td>\n",
       "      <td>data12_8TeV</td>\n",
       "      <td>2.0</td>\n",
       "      <td>NaN</td>\n",
       "    </tr>\n",
       "    <tr>\n",
       "      <th>6</th>\n",
       "      <td>data12_8TeV.00203027.physics_Bphysics.merge.DA...</td>\n",
       "      <td>data12_8TeV</td>\n",
       "      <td>3.0</td>\n",
       "      <td>NaN</td>\n",
       "    </tr>\n",
       "    <tr>\n",
       "      <th>7</th>\n",
       "      <td>data12_8TeV.00203169.physics_Bphysics.merge.DA...</td>\n",
       "      <td>data12_8TeV</td>\n",
       "      <td>1.0</td>\n",
       "      <td>NaN</td>\n",
       "    </tr>\n",
       "    <tr>\n",
       "      <th>8</th>\n",
       "      <td>data12_8TeV.00203191.physics_Bphysics.merge.DA...</td>\n",
       "      <td>data12_8TeV</td>\n",
       "      <td>1.0</td>\n",
       "      <td>NaN</td>\n",
       "    </tr>\n",
       "    <tr>\n",
       "      <th>9</th>\n",
       "      <td>data12_8TeV.00203195.physics_Bphysics.merge.DA...</td>\n",
       "      <td>data12_8TeV</td>\n",
       "      <td>2.0</td>\n",
       "      <td>NaN</td>\n",
       "    </tr>\n",
       "  </tbody>\n",
       "</table>\n",
       "</div>"
      ],
      "text/plain": [
       "                                                name        scope  pandaid_x  \\\n",
       "0  data12_8TeV.00202712.physics_Bphysics.merge.DA...  data12_8TeV       11.0   \n",
       "1  data12_8TeV.00202740.physics_Bphysics.merge.DA...  data12_8TeV        1.0   \n",
       "2  data12_8TeV.00202798.physics_Bphysics.merge.DA...  data12_8TeV        2.0   \n",
       "3  data12_8TeV.00202965.physics_Bphysics.merge.DA...  data12_8TeV        1.0   \n",
       "4  data12_8TeV.00202987.physics_Bphysics.merge.DA...  data12_8TeV        1.0   \n",
       "5  data12_8TeV.00202991.physics_Bphysics.merge.DA...  data12_8TeV        2.0   \n",
       "6  data12_8TeV.00203027.physics_Bphysics.merge.DA...  data12_8TeV        3.0   \n",
       "7  data12_8TeV.00203169.physics_Bphysics.merge.DA...  data12_8TeV        1.0   \n",
       "8  data12_8TeV.00203191.physics_Bphysics.merge.DA...  data12_8TeV        1.0   \n",
       "9  data12_8TeV.00203195.physics_Bphysics.merge.DA...  data12_8TeV        2.0   \n",
       "\n",
       "   pandaid_y  \n",
       "0        NaN  \n",
       "1        NaN  \n",
       "2        NaN  \n",
       "3        NaN  \n",
       "4        NaN  \n",
       "5        NaN  \n",
       "6        NaN  \n",
       "7        NaN  \n",
       "8        NaN  \n",
       "9        NaN  "
      ]
     },
     "metadata": {},
     "output_type": "display_data"
    },
    {
     "data": {
      "text/plain": [
       "['name', 'scope', 'pandaid_x', 'pandaid_y']"
      ]
     },
     "execution_count": 8,
     "metadata": {},
     "output_type": "execute_result"
    }
   ],
   "source": [
    "#loop over weekly dataframes and aggregate them\n",
    "\n",
    "start = datetime.date(2016, 1, 1)              # measurement: starting date\n",
    "end = start + datetime.timedelta(weeks=2)      # end measurement\n",
    "\n",
    "#loop over all results, and create a list of dataframes with weekly summaries\n",
    "nWeek = 0\n",
    "dfs_weekly = []\n",
    "\n",
    "dt = start\n",
    "merged = dataFrames[dt]\n",
    "merged = merged.drop(['user','site','taskid','cputime', 'walltime', 'size', 'nevents', 'nfiles'], 1)\n",
    "dt += datetime.timedelta(days=7)\n",
    "\n",
    "while dt < end:\n",
    "    print(str(dt), end=\" \")\n",
    "    dt += datetime.timedelta(days=7)\n",
    "    df = dataFrames[dt]     \n",
    "#    df = df.drop(['date'], axis=1)\n",
    "\n",
    "    #week starts\n",
    "#   if ((dt.weekday() == start.weekday())): #start with first dataframe \n",
    "         \n",
    "#        df_week = df\n",
    "#        nWeek += 1\n",
    "#        print('Adding week '+str(nWeek))\n",
    "#        weekEnd = dt + datetime.timedelta(days=7)\n",
    "        \n",
    "#        #loop over the week, add dataframes\n",
    "#        while dt < weekEnd:\n",
    "#            #print(str(dt))\n",
    "\n",
    "#            df = dataFrames[dt]     \n",
    "#            df = df.drop(['date'], axis=1)\n",
    "            \n",
    "#            df_week = pd.concat([df, df_week]).groupby(['name','type','scope']).agg({\"pandaid\": np.sum, \"user\": np.sum,  \"site\": np.sum}).reset_index()\n",
    "            \n",
    "#            #week ends\n",
    "#            if dt == weekEnd:\n",
    "#                #print('Saving df')                \n",
    "#                #merge tids datasets\n",
    "#                df_week = mergeTID(df_week)                \n",
    "#                df_week = df_week.rename(index=str, columns={\"pandaid\":\"pandaid_week\"+str(nWeek), \n",
    "#                                                             \"user\":\"user_week\"+str(nWeek),\n",
    "#                                                             \"site\":\"site_week\"+str(nWeek),})\n",
    "#                dfs_weekly.append(df_week)   \n",
    "    df = df.drop(['user','site','taskid','cputime', 'walltime', 'size', 'nevents', 'nfiles'], 1)\n",
    "    merged = merged.merge(df, how='outer', on=['name', 'scope'])\n",
    "\n",
    "display(df.head(5))\n",
    "display(merged.head(10))\n",
    "#merge weekly dataframes                                 \n",
    "#merged = dfs_weekly[0]\n",
    "list(merged)\n",
    "#for df in dfs_weekly[1:]:\n",
    "#    merged = merged.merge(df, how='outer', on=['name', 'type', 'scope'])"
   ]
  },
  {
   "cell_type": "markdown",
   "metadata": {},
   "source": [
    "<h3>Manipulate dataframe</h3>"
   ]
  },
  {
   "cell_type": "code",
   "execution_count": 9,
   "metadata": {
    "collapsed": true
   },
   "outputs": [],
   "source": [
    "# get ptag from dataset name\n",
    "def getPtag(name):\n",
    "\n",
    "    sub = name.split('.')\n",
    "    #print(sub)\n",
    "    last = len(sub)\n",
    "    tags = sub[last-1]\n",
    "    #print(tags)\n",
    "    ptag=''\n",
    "    subtags = tags.split('_')\n",
    "    #print(subtags)\n",
    "    for i in subtags:\n",
    "        if (i.startswith('p')): # takes always the last one\n",
    "            ptag = i\n",
    "    return(ptag)      "
   ]
  },
  {
   "cell_type": "code",
   "execution_count": 10,
   "metadata": {
    "collapsed": false
   },
   "outputs": [],
   "source": [
    "# get DSID from dataset name\n",
    "def getDSID(name):\n",
    "\n",
    "    sub = name.split('.')\n",
    "    #print(sub)\n",
    "\n",
    "    dsid = sub[1]\n",
    "    \n",
    "    #remove 00 for data\n",
    "    if (dsid.startswith('00')):\n",
    "        dsid  = dsid[2:]\n",
    "    #print(dsid)\n",
    "    return(dsid)  "
   ]
  },
  {
   "cell_type": "markdown",
   "metadata": {},
   "source": [
    "<h3>We end up with a dataframe with dataset name, type, scope, dsid, ptag, accesses in total and for unique user or replica per day binned on a weekly basis</h3>"
   ]
  },
  {
   "cell_type": "code",
   "execution_count": 11,
   "metadata": {
    "collapsed": false
   },
   "outputs": [
    {
     "data": {
      "text/html": [
       "<div>\n",
       "<style>\n",
       "    .dataframe thead tr:only-child th {\n",
       "        text-align: right;\n",
       "    }\n",
       "\n",
       "    .dataframe thead th {\n",
       "        text-align: left;\n",
       "    }\n",
       "\n",
       "    .dataframe tbody tr th {\n",
       "        vertical-align: top;\n",
       "    }\n",
       "</style>\n",
       "<table border=\"1\" class=\"dataframe\">\n",
       "  <thead>\n",
       "    <tr style=\"text-align: right;\">\n",
       "      <th></th>\n",
       "      <th>name</th>\n",
       "      <th>scope</th>\n",
       "      <th>pandaid_x</th>\n",
       "      <th>pandaid_y</th>\n",
       "      <th>dsid</th>\n",
       "      <th>ptag</th>\n",
       "    </tr>\n",
       "  </thead>\n",
       "  <tbody>\n",
       "    <tr>\n",
       "      <th>0</th>\n",
       "      <td>data12_8TeV.00202712.physics_Bphysics.merge.DA...</td>\n",
       "      <td>data12_8TeV</td>\n",
       "      <td>11.0</td>\n",
       "      <td>0.0</td>\n",
       "      <td>202712</td>\n",
       "      <td>p1425</td>\n",
       "    </tr>\n",
       "    <tr>\n",
       "      <th>1</th>\n",
       "      <td>data12_8TeV.00202740.physics_Bphysics.merge.DA...</td>\n",
       "      <td>data12_8TeV</td>\n",
       "      <td>1.0</td>\n",
       "      <td>0.0</td>\n",
       "      <td>202740</td>\n",
       "      <td>p1425</td>\n",
       "    </tr>\n",
       "    <tr>\n",
       "      <th>2</th>\n",
       "      <td>data12_8TeV.00202798.physics_Bphysics.merge.DA...</td>\n",
       "      <td>data12_8TeV</td>\n",
       "      <td>2.0</td>\n",
       "      <td>0.0</td>\n",
       "      <td>202798</td>\n",
       "      <td>p1425</td>\n",
       "    </tr>\n",
       "    <tr>\n",
       "      <th>3</th>\n",
       "      <td>data12_8TeV.00202965.physics_Bphysics.merge.DA...</td>\n",
       "      <td>data12_8TeV</td>\n",
       "      <td>1.0</td>\n",
       "      <td>0.0</td>\n",
       "      <td>202965</td>\n",
       "      <td>p1425</td>\n",
       "    </tr>\n",
       "    <tr>\n",
       "      <th>4</th>\n",
       "      <td>data12_8TeV.00202987.physics_Bphysics.merge.DA...</td>\n",
       "      <td>data12_8TeV</td>\n",
       "      <td>1.0</td>\n",
       "      <td>0.0</td>\n",
       "      <td>202987</td>\n",
       "      <td>p1425</td>\n",
       "    </tr>\n",
       "  </tbody>\n",
       "</table>\n",
       "</div>"
      ],
      "text/plain": [
       "                                                name        scope  pandaid_x  \\\n",
       "0  data12_8TeV.00202712.physics_Bphysics.merge.DA...  data12_8TeV       11.0   \n",
       "1  data12_8TeV.00202740.physics_Bphysics.merge.DA...  data12_8TeV        1.0   \n",
       "2  data12_8TeV.00202798.physics_Bphysics.merge.DA...  data12_8TeV        2.0   \n",
       "3  data12_8TeV.00202965.physics_Bphysics.merge.DA...  data12_8TeV        1.0   \n",
       "4  data12_8TeV.00202987.physics_Bphysics.merge.DA...  data12_8TeV        1.0   \n",
       "\n",
       "   pandaid_y    dsid   ptag  \n",
       "0        0.0  202712  p1425  \n",
       "1        0.0  202740  p1425  \n",
       "2        0.0  202798  p1425  \n",
       "3        0.0  202965  p1425  \n",
       "4        0.0  202987  p1425  "
      ]
     },
     "metadata": {},
     "output_type": "display_data"
    },
    {
     "data": {
      "text/plain": [
       "(21763, 6)"
      ]
     },
     "metadata": {},
     "output_type": "display_data"
    }
   ],
   "source": [
    "merged = merged.fillna(0)\n",
    "\n",
    "merged['dsid'] = merged['name'].apply(getDSID)\n",
    "merged['ptag'] = merged['name'].apply(getPtag)\n",
    "    \n",
    "#display(merged.memory_usage())    \n",
    "display(merged.head(5))  \n",
    "display(merged.shape)"
   ]
  },
  {
   "cell_type": "markdown",
   "metadata": {},
   "source": [
    "<h3>Check Memory consumption</h3>"
   ]
  },
  {
   "cell_type": "code",
   "execution_count": 12,
   "metadata": {
    "collapsed": true
   },
   "outputs": [],
   "source": [
    "def GetHumanReadable(size,precision=2):\n",
    "    suffixes=['B','KB','MB','GB','TB']\n",
    "    suffixIndex = 0\n",
    "    while size > 1024 and suffixIndex < 4:\n",
    "        suffixIndex += 1 #increment the index of the suffix\n",
    "        size = size/1024.0 #apply the division\n",
    "    return \"%.*f%s\"%(precision,size,suffixes[suffixIndex])"
   ]
  },
  {
   "cell_type": "code",
   "execution_count": 13,
   "metadata": {
    "collapsed": false
   },
   "outputs": [
    {
     "data": {
      "text/plain": [
       "'8.07MB'"
      ]
     },
     "execution_count": 13,
     "metadata": {},
     "output_type": "execute_result"
    }
   ],
   "source": [
    "GetHumanReadable(merged.memory_usage(index=True, deep=True).sum())"
   ]
  },
  {
   "cell_type": "markdown",
   "metadata": {},
   "source": [
    "<h3>Create dataframes for 6 months (26 weeks, 26th week is X-1)</h3>\n",
    "<h3>Signal/background is number of accesses in week X</h3>"
   ]
  },
  {
   "cell_type": "code",
   "execution_count": 75,
   "metadata": {
    "collapsed": true
   },
   "outputs": [],
   "source": [
    "# get positive numbers\n",
    "def isPositive(number):\n",
    "    if (number>0):\n",
    "        return 1\n",
    "    else:\n",
    "        return 0"
   ]
  },
  {
   "cell_type": "code",
   "execution_count": 93,
   "metadata": {
    "collapsed": false
   },
   "outputs": [],
   "source": [
    "#sum up all weeks up to X-1, get signal/background (Y) for week X\n",
    "def sumUp(df, X):\n",
    "\n",
    "    metrics = ['user', 'pandaid', 'site']    \n",
    "    df_new =  df.filter(items=['type', 'scope', 'dsid', 'ptag'])\n",
    "    \n",
    "    #get Y\n",
    "    df_new['Y'] = df[metrics[0]+'_week'+str(X)].apply(isPositive)    \n",
    "    \n",
    "    #get X\n",
    "    for metric in metrics:\n",
    "        \n",
    "        #sum up until week X-1\n",
    "        for i in range(X-26, X): # use 6 months for training\n",
    "\n",
    "            if i == (X-26): #first week             \n",
    "                df_new[metric] = df[metric+'_week'+str(i)]\n",
    "            else:      \n",
    "                df_new[metric] += df[metric+'_week'+str(i)]                  \n",
    "            \n",
    "    return df_new "
   ]
  },
  {
   "cell_type": "code",
   "execution_count": 95,
   "metadata": {
    "collapsed": false
   },
   "outputs": [
    {
     "data": {
      "text/html": [
       "<div>\n",
       "<style>\n",
       "    .dataframe thead tr:only-child th {\n",
       "        text-align: right;\n",
       "    }\n",
       "\n",
       "    .dataframe thead th {\n",
       "        text-align: left;\n",
       "    }\n",
       "\n",
       "    .dataframe tbody tr th {\n",
       "        vertical-align: top;\n",
       "    }\n",
       "</style>\n",
       "<table border=\"1\" class=\"dataframe\">\n",
       "  <thead>\n",
       "    <tr style=\"text-align: right;\">\n",
       "      <th></th>\n",
       "      <th>type</th>\n",
       "      <th>scope</th>\n",
       "      <th>dsid</th>\n",
       "      <th>ptag</th>\n",
       "      <th>Y</th>\n",
       "      <th>user</th>\n",
       "      <th>pandaid</th>\n",
       "      <th>site</th>\n",
       "    </tr>\n",
       "  </thead>\n",
       "  <tbody>\n",
       "    <tr>\n",
       "      <th>0</th>\n",
       "      <td>DAOD_JPSIMUMU</td>\n",
       "      <td>data12_8TeV</td>\n",
       "      <td>202712</td>\n",
       "      <td>p1425</td>\n",
       "      <td>1</td>\n",
       "      <td>17.0</td>\n",
       "      <td>569.0</td>\n",
       "      <td>17.0</td>\n",
       "    </tr>\n",
       "    <tr>\n",
       "      <th>1</th>\n",
       "      <td>DAOD_UPSIMUMU</td>\n",
       "      <td>data12_8TeV</td>\n",
       "      <td>202712</td>\n",
       "      <td>p1425</td>\n",
       "      <td>0</td>\n",
       "      <td>5.0</td>\n",
       "      <td>30.0</td>\n",
       "      <td>5.0</td>\n",
       "    </tr>\n",
       "    <tr>\n",
       "      <th>2</th>\n",
       "      <td>DAOD_JPSIMUMU</td>\n",
       "      <td>data12_8TeV</td>\n",
       "      <td>202740</td>\n",
       "      <td>p1425</td>\n",
       "      <td>0</td>\n",
       "      <td>19.0</td>\n",
       "      <td>138.0</td>\n",
       "      <td>19.0</td>\n",
       "    </tr>\n",
       "    <tr>\n",
       "      <th>3</th>\n",
       "      <td>DAOD_UPSIMUMU</td>\n",
       "      <td>data12_8TeV</td>\n",
       "      <td>202740</td>\n",
       "      <td>p1425</td>\n",
       "      <td>0</td>\n",
       "      <td>5.0</td>\n",
       "      <td>10.0</td>\n",
       "      <td>5.0</td>\n",
       "    </tr>\n",
       "    <tr>\n",
       "      <th>4</th>\n",
       "      <td>DAOD_JPSIMUMU</td>\n",
       "      <td>data12_8TeV</td>\n",
       "      <td>202798</td>\n",
       "      <td>p1425</td>\n",
       "      <td>0</td>\n",
       "      <td>21.0</td>\n",
       "      <td>988.0</td>\n",
       "      <td>19.0</td>\n",
       "    </tr>\n",
       "  </tbody>\n",
       "</table>\n",
       "</div>"
      ],
      "text/plain": [
       "            type        scope    dsid   ptag  Y  user  pandaid  site\n",
       "0  DAOD_JPSIMUMU  data12_8TeV  202712  p1425  1  17.0    569.0  17.0\n",
       "1  DAOD_UPSIMUMU  data12_8TeV  202712  p1425  0   5.0     30.0   5.0\n",
       "2  DAOD_JPSIMUMU  data12_8TeV  202740  p1425  0  19.0    138.0  19.0\n",
       "3  DAOD_UPSIMUMU  data12_8TeV  202740  p1425  0   5.0     10.0   5.0\n",
       "4  DAOD_JPSIMUMU  data12_8TeV  202798  p1425  0  21.0    988.0  19.0"
      ]
     },
     "execution_count": 95,
     "metadata": {},
     "output_type": "execute_result"
    }
   ],
   "source": [
    "#merged = merged.drop('user', 1)\n",
    "#merged = merged.drop('Y', 1)\n",
    "df = sumUp(merged, 27)\n",
    "merged.head()\n",
    "df.head()"
   ]
  },
  {
   "cell_type": "code",
   "execution_count": 101,
   "metadata": {
    "collapsed": true
   },
   "outputs": [],
   "source": [
    "def toML(df, X):    \n",
    "\n",
    "    #get summed up dataframe\n",
    "    df_new = sumUp(df, X) \n",
    "    #display(df.head(5))  \n",
    "    #display(df.shape)\n",
    "    \n",
    "    #rescale numerical inputs\n",
    "    from sklearn.preprocessing import StandardScaler\n",
    "    scaler = StandardScaler() \n",
    "\n",
    "    df_new['pandaid'] = scaler.fit_transform(df_new['pandaid'].astype(float).values.reshape(-1, 1)) \n",
    "    df_new['site'] = scaler.fit_transform(df_new['site'].astype(float).values.reshape(-1, 1)) \n",
    "    df_new['user'] = scaler.fit_transform(df_new['user'].astype(float).values.reshape(-1, 1)) \n",
    "\n",
    "    #convert categorical to numerical\n",
    "    df_with_dummies = pd.get_dummies(df_new, columns = ['type', 'scope', 'ptag'], sparse = True )\n",
    "    #df_with_dummies = pd.get_dummies(df_with_dummies, columns = ['dsid'] , sparse = True)\n",
    "\n",
    "    df_X = df_with_dummies.drop(['dsid', 'Y'], axis=1)\n",
    "    df_Y = df_with_dummies['Y']\n",
    "\n",
    "    #display(df_X.head(5))  \n",
    "    #display(df_X.shape)\n",
    "    #display(GetHumanReadable(df_X.memory_usage(index=True, deep=True).sum()))    \n",
    "    \n",
    "    #finally, store to file\n",
    "    store = HDFStore('DataPopularity_ML/CMSModel_week'+str(X)+'.h5')\n",
    "    store['X'] = df_X\n",
    "    store['Y'] = df_Y\n",
    "    store.close()\n",
    "    \n",
    "    return"
   ]
  },
  {
   "cell_type": "code",
   "execution_count": 122,
   "metadata": {
    "collapsed": true
   },
   "outputs": [],
   "source": [
    "def toMLBinned(df, X):    \n",
    "\n",
    "    metrics = ['user', 'pandaid', 'site']\n",
    "    df_new =  df.filter(items=['type', 'scope', 'dsid', 'ptag'])\n",
    "    \n",
    "    #get Y\n",
    "    df_new['Y'] = df[metrics[0]+'_week'+str(X)].apply(isPositive)  \n",
    "    \n",
    "    from sklearn.preprocessing import StandardScaler\n",
    "    scaler = StandardScaler()   \n",
    "    \n",
    "    #get X\n",
    "    for metric in metrics:\n",
    "        \n",
    "        # use for inputs until week X-1\n",
    "        for i in range(X-26, X): # use 6 months for training\n",
    "            \n",
    "            #offset to have always same week numbers\n",
    "            offset = i+1 - (X - 26)\n",
    "            \n",
    "            #rescale numerical inputs  \n",
    "            df_new[metric+'_week'+str(offset)] = scaler.fit_transform(df[metric+'_week'+str(i)].astype(float).values.reshape(-1, 1))     \n",
    "            \n",
    "    #display(df_new.head(5))  \n",
    "    #display(df_new.shape)    \n",
    "\n",
    "    #convert categorical to numerical\n",
    "    df_with_dummies = pd.get_dummies(df_new, columns = ['type', 'scope', 'ptag'], sparse = True )\n",
    "    #df_with_dummies = pd.get_dummies(df_with_dummies, columns = ['dsid'] , sparse = True)\n",
    "\n",
    "    df_X = df_with_dummies.drop(['dsid', 'Y'], axis=1)\n",
    "    df_Y = df_with_dummies['Y']\n",
    "\n",
    "    #display(df_X.head(5))  \n",
    "    #display(df_X.shape)\n",
    "    #display(GetHumanReadable(df_X.memory_usage(index=True, deep=True).sum()))    \n",
    "    \n",
    "    #finally, store to file\n",
    "    store = HDFStore('DataPopularity_ML/BinnedModel_week'+str(X)+'.h5')\n",
    "    store['X'] = df_X\n",
    "    store['Y'] = df_Y\n",
    "    store.close()\n",
    "    \n",
    "    return"
   ]
  },
  {
   "cell_type": "markdown",
   "metadata": {},
   "source": [
    "## Automatization\n",
    "\n",
    "create ML-ready inputs starting from date and defining time for measurement of popularity and test"
   ]
  },
  {
   "cell_type": "code",
   "execution_count": 117,
   "metadata": {
    "collapsed": false
   },
   "outputs": [
    {
     "name": "stdout",
     "output_type": "stream",
     "text": [
      "Processing week 27\n"
     ]
    }
   ],
   "source": [
    "#use at least 6 months for training for CMS model\n",
    "for X in range(27, 52): \n",
    "    print('Processing week '+str(X))\n",
    "    toML(merged, X) # X week used for signal/background (Y), weeks up to X-1 are used to get Xs   "
   ]
  },
  {
   "cell_type": "code",
   "execution_count": 123,
   "metadata": {
    "collapsed": false
   },
   "outputs": [
    {
     "name": "stdout",
     "output_type": "stream",
     "text": [
      "Processing week 27\n",
      "Processing week 28\n",
      "Processing week 29\n",
      "Processing week 30\n",
      "Processing week 31\n",
      "Processing week 32\n",
      "Processing week 33\n",
      "Processing week 34\n",
      "Processing week 35\n",
      "Processing week 36\n",
      "Processing week 37\n",
      "Processing week 38\n",
      "Processing week 39\n",
      "Processing week 40\n",
      "Processing week 41\n",
      "Processing week 42\n",
      "Processing week 43\n",
      "Processing week 44\n",
      "Processing week 45\n",
      "Processing week 46\n",
      "Processing week 47\n",
      "Processing week 48\n",
      "Processing week 49\n",
      "Processing week 50\n",
      "Processing week 51\n"
     ]
    }
   ],
   "source": [
    "#Binned model\n",
    "for X in range(27, 52): \n",
    "    print('Processing week '+str(X))\n",
    "    toMLBinned(merged, X) # X week used for signal/background (Y), weeks up to X-1 are used to get Xs   "
   ]
  },
  {
   "cell_type": "code",
   "execution_count": 19,
   "metadata": {
    "collapsed": false
   },
   "outputs": [
    {
     "data": {
      "text/plain": [
       "99980     110101\n",
       "91016     110910\n",
       "94903     110916\n",
       "34972     117050\n",
       "34975     119995\n",
       "194383    147806\n",
       "194384    147807\n",
       "150860    147808\n",
       "71622     159000\n",
       "21889     167749\n",
       "21890     167750\n",
       "21891     167751\n",
       "99982     167752\n",
       "21893     167753\n",
       "21894     167755\n",
       "21895     167756\n",
       "96429     167761\n",
       "75556     167762\n",
       "75557     167763\n",
       "96430     167764\n",
       "75559     167765\n",
       "192741    167766\n",
       "92511     167767\n",
       "75562     167768\n",
       "75563     167769\n",
       "75564     167770\n",
       "75565     167771\n",
       "75566     167772\n",
       "92513     167773\n",
       "150863    167774\n",
       "           ...  \n",
       "116998    426134\n",
       "89252     426135\n",
       "99959     426136\n",
       "99960     426137\n",
       "77999     426138\n",
       "197648    426139\n",
       "117010    426140\n",
       "160296    426141\n",
       "47261     426142\n",
       "81487     427000\n",
       "47263     427030\n",
       "78009     427031\n",
       "39196     427032\n",
       "39197     427033\n",
       "78015     427034\n",
       "103515    427080\n",
       "34992     428000\n",
       "35005     428001\n",
       "35012     428002\n",
       "59289     429007\n",
       "19035     429400\n",
       "19036     429401\n",
       "19037     429402\n",
       "19038     429404\n",
       "19039     429405\n",
       "19040     429406\n",
       "19041     429407\n",
       "19042     429408\n",
       "19043     429409\n",
       "191775    429696\n",
       "Name: dsid, Length: 18881, dtype: object"
      ]
     },
     "metadata": {},
     "output_type": "display_data"
    }
   ],
   "source": [
    "#make categories of dsids?\n",
    "\n",
    "ts = merged.sort_values(by='dsid')\n",
    "ts = ts['dsid'].drop_duplicates()\n",
    "display(ts)"
   ]
  },
  {
   "cell_type": "markdown",
   "metadata": {},
   "source": [
    "<h3>Look at the data: make a few histograms</h3>\n",
    "number of accesses per type/scope/ptag"
   ]
  },
  {
   "cell_type": "code",
   "execution_count": 221,
   "metadata": {
    "collapsed": false
   },
   "outputs": [],
   "source": [
    "def createHistos(df, groupby, metric, nmax):\n",
    "    \n",
    "    #reduce by scope/type/ptag, for one metric (user, pandaid, site)\n",
    "    \n",
    "    #create aggregation on different columns (use ordered dictionary to preserve columns order)\n",
    "    from collections import OrderedDict\n",
    "    agg_d = OrderedDict() #= {}   \n",
    "    \n",
    "    nweeks = df.filter(like=metric,axis=1).shape[1]\n",
    "    \n",
    "    for i in range(1, nweeks+1):     \n",
    "        agg_d[metric+\"_week\"+str(i)] = np.sum\n",
    "\n",
    "    df = df.groupby(groupby).agg(agg_d).reset_index()\n",
    "\n",
    "    #display(df.head(5))\n",
    "    #display(df.shape)\n",
    "   \n",
    "    array = df.select_dtypes(exclude=['object']).apply(lambda x: x.tolist(), axis=1).as_matrix()\n",
    "    \n",
    "    #select the rows with largest sum\n",
    "    sums = np.sum(array, 1)    \n",
    "    idx = (-sums).argsort()[:nmax]\n",
    "    \n",
    "    plt.figure(figsize=(20,10))\n",
    "    for i in idx: \n",
    "        s = array[i]\n",
    "        hist = plt.bar(np.arange(len(s)),s, label = df[groupby][i] )\n",
    "        \n",
    "    plt.legend(bbox_to_anchor=(1.05, 1), loc=2, borderaxespad=0.)    \n",
    "    plt.show()\n",
    "        \n",
    "    return"
   ]
  },
  {
   "cell_type": "code",
   "execution_count": 226,
   "metadata": {
    "collapsed": false
   },
   "outputs": [
    {
     "data": {
      "image/png": "[encoded data removed]",
      "text/plain": [
       "<matplotlib.figure.Figure at 0x7f90ee69b080>"
      ]
     },
     "metadata": {},
     "output_type": "display_data"
    },
    {
     "data": {
      "image/png": "[encoded data removed]",
      "text/plain": [
       "<matplotlib.figure.Figure at 0x7f90f21fb390>"
      ]
     },
     "metadata": {},
     "output_type": "display_data"
    },
    {
     "data": {
      "image/png": "[encoded data removed]",
      "text/plain": [
       "<matplotlib.figure.Figure at 0x7f90d7d5d438>"
      ]
     },
     "metadata": {},
     "output_type": "display_data"
    }
   ],
   "source": [
    "createHistos(merged, 'scope', 'pandaid', 20)\n",
    "createHistos(merged, 'type', 'pandaid', 20)\n",
    "createHistos(merged, 'ptag', 'pandaid', 20)"
   ]
  },
  {
   "cell_type": "markdown",
   "metadata": {},
   "source": [
    "<h3>Correlations between inputs</h3>\n",
    "To reduce number of columns, make monthly summaries, and use LabelEncoder instead of Bag of Words for text columns"
   ]
  },
  {
   "cell_type": "code",
   "execution_count": 274,
   "metadata": {
    "collapsed": false
   },
   "outputs": [
    {
     "data": {
      "text/html": [
       "<div>\n",
       "<style>\n",
       "    .dataframe thead tr:only-child th {\n",
       "        text-align: right;\n",
       "    }\n",
       "\n",
       "    .dataframe thead th {\n",
       "        text-align: left;\n",
       "    }\n",
       "\n",
       "    .dataframe tbody tr th {\n",
       "        vertical-align: top;\n",
       "    }\n",
       "</style>\n",
       "<table border=\"1\" class=\"dataframe\">\n",
       "  <thead>\n",
       "    <tr style=\"text-align: right;\">\n",
       "      <th></th>\n",
       "      <th>pandaid_week1</th>\n",
       "      <th>site_week1</th>\n",
       "      <th>user_week1</th>\n",
       "      <th>pandaid_week2</th>\n",
       "      <th>site_week2</th>\n",
       "      <th>user_week2</th>\n",
       "      <th>pandaid_week3</th>\n",
       "      <th>site_week3</th>\n",
       "      <th>user_week3</th>\n",
       "      <th>pandaid_week4</th>\n",
       "      <th>...</th>\n",
       "      <th>pandaid_week51</th>\n",
       "      <th>site_week51</th>\n",
       "      <th>user_week51</th>\n",
       "      <th>pandaid_week52</th>\n",
       "      <th>site_week52</th>\n",
       "      <th>user_week52</th>\n",
       "      <th>type_enc</th>\n",
       "      <th>scope_enc</th>\n",
       "      <th>dsid_enc</th>\n",
       "      <th>ptag_enc</th>\n",
       "    </tr>\n",
       "  </thead>\n",
       "  <tbody>\n",
       "    <tr>\n",
       "      <th>0</th>\n",
       "      <td>3.0</td>\n",
       "      <td>1.0</td>\n",
       "      <td>1.0</td>\n",
       "      <td>0.0</td>\n",
       "      <td>0.0</td>\n",
       "      <td>0.0</td>\n",
       "      <td>0.0</td>\n",
       "      <td>0.0</td>\n",
       "      <td>0.0</td>\n",
       "      <td>0.0</td>\n",
       "      <td>...</td>\n",
       "      <td>0.0</td>\n",
       "      <td>0.0</td>\n",
       "      <td>0.0</td>\n",
       "      <td>0.0</td>\n",
       "      <td>0.0</td>\n",
       "      <td>0.0</td>\n",
       "      <td>80</td>\n",
       "      <td>2</td>\n",
       "      <td>344</td>\n",
       "      <td>2</td>\n",
       "    </tr>\n",
       "    <tr>\n",
       "      <th>1</th>\n",
       "      <td>12.0</td>\n",
       "      <td>2.0</td>\n",
       "      <td>2.0</td>\n",
       "      <td>6.0</td>\n",
       "      <td>1.0</td>\n",
       "      <td>1.0</td>\n",
       "      <td>0.0</td>\n",
       "      <td>0.0</td>\n",
       "      <td>0.0</td>\n",
       "      <td>0.0</td>\n",
       "      <td>...</td>\n",
       "      <td>0.0</td>\n",
       "      <td>0.0</td>\n",
       "      <td>0.0</td>\n",
       "      <td>0.0</td>\n",
       "      <td>0.0</td>\n",
       "      <td>0.0</td>\n",
       "      <td>127</td>\n",
       "      <td>2</td>\n",
       "      <td>344</td>\n",
       "      <td>2</td>\n",
       "    </tr>\n",
       "    <tr>\n",
       "      <th>2</th>\n",
       "      <td>3.0</td>\n",
       "      <td>1.0</td>\n",
       "      <td>1.0</td>\n",
       "      <td>0.0</td>\n",
       "      <td>0.0</td>\n",
       "      <td>0.0</td>\n",
       "      <td>0.0</td>\n",
       "      <td>0.0</td>\n",
       "      <td>0.0</td>\n",
       "      <td>0.0</td>\n",
       "      <td>...</td>\n",
       "      <td>0.0</td>\n",
       "      <td>0.0</td>\n",
       "      <td>0.0</td>\n",
       "      <td>0.0</td>\n",
       "      <td>0.0</td>\n",
       "      <td>0.0</td>\n",
       "      <td>80</td>\n",
       "      <td>2</td>\n",
       "      <td>345</td>\n",
       "      <td>2</td>\n",
       "    </tr>\n",
       "    <tr>\n",
       "      <th>3</th>\n",
       "      <td>4.0</td>\n",
       "      <td>2.0</td>\n",
       "      <td>2.0</td>\n",
       "      <td>2.0</td>\n",
       "      <td>1.0</td>\n",
       "      <td>1.0</td>\n",
       "      <td>0.0</td>\n",
       "      <td>0.0</td>\n",
       "      <td>0.0</td>\n",
       "      <td>0.0</td>\n",
       "      <td>...</td>\n",
       "      <td>0.0</td>\n",
       "      <td>0.0</td>\n",
       "      <td>0.0</td>\n",
       "      <td>0.0</td>\n",
       "      <td>0.0</td>\n",
       "      <td>0.0</td>\n",
       "      <td>127</td>\n",
       "      <td>2</td>\n",
       "      <td>345</td>\n",
       "      <td>2</td>\n",
       "    </tr>\n",
       "    <tr>\n",
       "      <th>4</th>\n",
       "      <td>2.0</td>\n",
       "      <td>1.0</td>\n",
       "      <td>1.0</td>\n",
       "      <td>0.0</td>\n",
       "      <td>0.0</td>\n",
       "      <td>0.0</td>\n",
       "      <td>0.0</td>\n",
       "      <td>0.0</td>\n",
       "      <td>0.0</td>\n",
       "      <td>0.0</td>\n",
       "      <td>...</td>\n",
       "      <td>0.0</td>\n",
       "      <td>0.0</td>\n",
       "      <td>0.0</td>\n",
       "      <td>0.0</td>\n",
       "      <td>0.0</td>\n",
       "      <td>0.0</td>\n",
       "      <td>80</td>\n",
       "      <td>2</td>\n",
       "      <td>346</td>\n",
       "      <td>2</td>\n",
       "    </tr>\n",
       "  </tbody>\n",
       "</table>\n",
       "<p>5 rows × 160 columns</p>\n",
       "</div>"
      ],
      "text/plain": [
       "   pandaid_week1  site_week1  user_week1  pandaid_week2  site_week2  \\\n",
       "0            3.0         1.0         1.0            0.0         0.0   \n",
       "1           12.0         2.0         2.0            6.0         1.0   \n",
       "2            3.0         1.0         1.0            0.0         0.0   \n",
       "3            4.0         2.0         2.0            2.0         1.0   \n",
       "4            2.0         1.0         1.0            0.0         0.0   \n",
       "\n",
       "   user_week2  pandaid_week3  site_week3  user_week3  pandaid_week4    ...     \\\n",
       "0         0.0            0.0         0.0         0.0            0.0    ...      \n",
       "1         1.0            0.0         0.0         0.0            0.0    ...      \n",
       "2         0.0            0.0         0.0         0.0            0.0    ...      \n",
       "3         1.0            0.0         0.0         0.0            0.0    ...      \n",
       "4         0.0            0.0         0.0         0.0            0.0    ...      \n",
       "\n",
       "   pandaid_week51  site_week51  user_week51  pandaid_week52  site_week52  \\\n",
       "0             0.0          0.0          0.0             0.0          0.0   \n",
       "1             0.0          0.0          0.0             0.0          0.0   \n",
       "2             0.0          0.0          0.0             0.0          0.0   \n",
       "3             0.0          0.0          0.0             0.0          0.0   \n",
       "4             0.0          0.0          0.0             0.0          0.0   \n",
       "\n",
       "   user_week52  type_enc  scope_enc  dsid_enc  ptag_enc  \n",
       "0          0.0        80          2       344         2  \n",
       "1          0.0       127          2       344         2  \n",
       "2          0.0        80          2       345         2  \n",
       "3          0.0       127          2       345         2  \n",
       "4          0.0        80          2       346         2  \n",
       "\n",
       "[5 rows x 160 columns]"
      ]
     },
     "metadata": {},
     "output_type": "display_data"
    },
    {
     "data": {
      "text/plain": [
       "(204760, 160)"
      ]
     },
     "execution_count": 274,
     "metadata": {},
     "output_type": "execute_result"
    }
   ],
   "source": [
    "#using labelEncoder for text -> not very useful since order matters in ML but can be used to get correlations plots\n",
    "\n",
    "from sklearn import preprocessing\n",
    "label_encoder = preprocessing.LabelEncoder()\n",
    "df_enc = merged.copy()\n",
    "df_enc['type_enc'] = label_encoder.fit_transform(df_enc['type'])\n",
    "df_enc['scope_enc'] = label_encoder.fit_transform(df_enc['scope'])\n",
    "df_enc['dsid_enc'] = label_encoder.fit_transform(df_enc['dsid'])\n",
    "df_enc['ptag_enc'] = label_encoder.fit_transform(df_enc['ptag'])\n",
    "\n",
    "df_enc = df_enc.drop(['name', 'type', 'scope', 'dsid', 'ptag'], axis=1)\n",
    "\n",
    "display(df_enc.head(5))\n",
    "df_enc.shape"
   ]
  },
  {
   "cell_type": "code",
   "execution_count": 275,
   "metadata": {
    "collapsed": false
   },
   "outputs": [],
   "source": [
    "#create dataframes with monthly summaries for weekly metrics\n",
    "def getMonthly(df, metrics):\n",
    "\n",
    "    for metric in metrics:\n",
    "        nweeks = df.filter(like=metric+'_week',axis=1).shape[1]    \n",
    "        month = 0\n",
    "        weekinMonth = 4\n",
    "        #print(str(nweeks))\n",
    "        for i in range(1, nweeks+1):\n",
    "\n",
    "            if weekinMonth < 4:             \n",
    "                weekinMonth += 1\n",
    "                #print('Adding week '+str(i))\n",
    "                df[metric+'_month'+str(month)] += df[metric+'_week'+str(i)]\n",
    "\n",
    "            elif weekinMonth == 4:\n",
    "                month += 1\n",
    "                weekinMonth = 1\n",
    "                #print('Starting new month '+str(month)+' with week '+str(i))        \n",
    "                df[metric+'_month'+str(month)] = df[metric+'_week'+str(i)]      \n",
    "            \n",
    "            df = df.drop(metric+'_week'+str(i), axis=1) #drop after adding\n",
    "              \n",
    "    return df "
   ]
  },
  {
   "cell_type": "code",
   "execution_count": 286,
   "metadata": {
    "collapsed": false
   },
   "outputs": [
    {
     "data": {
      "text/html": [
       "<div>\n",
       "<style>\n",
       "    .dataframe thead tr:only-child th {\n",
       "        text-align: right;\n",
       "    }\n",
       "\n",
       "    .dataframe thead th {\n",
       "        text-align: left;\n",
       "    }\n",
       "\n",
       "    .dataframe tbody tr th {\n",
       "        vertical-align: top;\n",
       "    }\n",
       "</style>\n",
       "<table border=\"1\" class=\"dataframe\">\n",
       "  <thead>\n",
       "    <tr style=\"text-align: right;\">\n",
       "      <th></th>\n",
       "      <th>type_enc</th>\n",
       "      <th>scope_enc</th>\n",
       "      <th>dsid_enc</th>\n",
       "      <th>ptag_enc</th>\n",
       "      <th>user_month1</th>\n",
       "      <th>user_month2</th>\n",
       "      <th>user_month3</th>\n",
       "      <th>user_month4</th>\n",
       "      <th>user_month5</th>\n",
       "      <th>user_month6</th>\n",
       "      <th>...</th>\n",
       "      <th>site_month4</th>\n",
       "      <th>site_month5</th>\n",
       "      <th>site_month6</th>\n",
       "      <th>site_month7</th>\n",
       "      <th>site_month8</th>\n",
       "      <th>site_month9</th>\n",
       "      <th>site_month10</th>\n",
       "      <th>site_month11</th>\n",
       "      <th>site_month12</th>\n",
       "      <th>site_month13</th>\n",
       "    </tr>\n",
       "  </thead>\n",
       "  <tbody>\n",
       "    <tr>\n",
       "      <th>0</th>\n",
       "      <td>80</td>\n",
       "      <td>2</td>\n",
       "      <td>344</td>\n",
       "      <td>2</td>\n",
       "      <td>1.0</td>\n",
       "      <td>2.0</td>\n",
       "      <td>2.0</td>\n",
       "      <td>5.0</td>\n",
       "      <td>0.0</td>\n",
       "      <td>4.0</td>\n",
       "      <td>...</td>\n",
       "      <td>5.0</td>\n",
       "      <td>0.0</td>\n",
       "      <td>4.0</td>\n",
       "      <td>7.0</td>\n",
       "      <td>1.0</td>\n",
       "      <td>1.0</td>\n",
       "      <td>0.0</td>\n",
       "      <td>0.0</td>\n",
       "      <td>7.0</td>\n",
       "      <td>0.0</td>\n",
       "    </tr>\n",
       "    <tr>\n",
       "      <th>1</th>\n",
       "      <td>127</td>\n",
       "      <td>2</td>\n",
       "      <td>344</td>\n",
       "      <td>2</td>\n",
       "      <td>3.0</td>\n",
       "      <td>0.0</td>\n",
       "      <td>0.0</td>\n",
       "      <td>2.0</td>\n",
       "      <td>0.0</td>\n",
       "      <td>0.0</td>\n",
       "      <td>...</td>\n",
       "      <td>2.0</td>\n",
       "      <td>0.0</td>\n",
       "      <td>0.0</td>\n",
       "      <td>0.0</td>\n",
       "      <td>0.0</td>\n",
       "      <td>0.0</td>\n",
       "      <td>0.0</td>\n",
       "      <td>0.0</td>\n",
       "      <td>0.0</td>\n",
       "      <td>0.0</td>\n",
       "    </tr>\n",
       "    <tr>\n",
       "      <th>2</th>\n",
       "      <td>80</td>\n",
       "      <td>2</td>\n",
       "      <td>345</td>\n",
       "      <td>2</td>\n",
       "      <td>1.0</td>\n",
       "      <td>2.0</td>\n",
       "      <td>2.0</td>\n",
       "      <td>5.0</td>\n",
       "      <td>0.0</td>\n",
       "      <td>5.0</td>\n",
       "      <td>...</td>\n",
       "      <td>5.0</td>\n",
       "      <td>0.0</td>\n",
       "      <td>5.0</td>\n",
       "      <td>4.0</td>\n",
       "      <td>1.0</td>\n",
       "      <td>1.0</td>\n",
       "      <td>0.0</td>\n",
       "      <td>0.0</td>\n",
       "      <td>6.0</td>\n",
       "      <td>0.0</td>\n",
       "    </tr>\n",
       "    <tr>\n",
       "      <th>3</th>\n",
       "      <td>127</td>\n",
       "      <td>2</td>\n",
       "      <td>345</td>\n",
       "      <td>2</td>\n",
       "      <td>3.0</td>\n",
       "      <td>0.0</td>\n",
       "      <td>0.0</td>\n",
       "      <td>2.0</td>\n",
       "      <td>0.0</td>\n",
       "      <td>0.0</td>\n",
       "      <td>...</td>\n",
       "      <td>2.0</td>\n",
       "      <td>0.0</td>\n",
       "      <td>0.0</td>\n",
       "      <td>0.0</td>\n",
       "      <td>0.0</td>\n",
       "      <td>0.0</td>\n",
       "      <td>0.0</td>\n",
       "      <td>0.0</td>\n",
       "      <td>0.0</td>\n",
       "      <td>0.0</td>\n",
       "    </tr>\n",
       "    <tr>\n",
       "      <th>4</th>\n",
       "      <td>80</td>\n",
       "      <td>2</td>\n",
       "      <td>346</td>\n",
       "      <td>2</td>\n",
       "      <td>1.0</td>\n",
       "      <td>2.0</td>\n",
       "      <td>2.0</td>\n",
       "      <td>5.0</td>\n",
       "      <td>0.0</td>\n",
       "      <td>6.0</td>\n",
       "      <td>...</td>\n",
       "      <td>5.0</td>\n",
       "      <td>0.0</td>\n",
       "      <td>4.0</td>\n",
       "      <td>5.0</td>\n",
       "      <td>1.0</td>\n",
       "      <td>1.0</td>\n",
       "      <td>0.0</td>\n",
       "      <td>0.0</td>\n",
       "      <td>8.0</td>\n",
       "      <td>0.0</td>\n",
       "    </tr>\n",
       "  </tbody>\n",
       "</table>\n",
       "<p>5 rows × 43 columns</p>\n",
       "</div>"
      ],
      "text/plain": [
       "   type_enc  scope_enc  dsid_enc  ptag_enc  user_month1  user_month2  \\\n",
       "0        80          2       344         2          1.0          2.0   \n",
       "1       127          2       344         2          3.0          0.0   \n",
       "2        80          2       345         2          1.0          2.0   \n",
       "3       127          2       345         2          3.0          0.0   \n",
       "4        80          2       346         2          1.0          2.0   \n",
       "\n",
       "   user_month3  user_month4  user_month5  user_month6      ...       \\\n",
       "0          2.0          5.0          0.0          4.0      ...        \n",
       "1          0.0          2.0          0.0          0.0      ...        \n",
       "2          2.0          5.0          0.0          5.0      ...        \n",
       "3          0.0          2.0          0.0          0.0      ...        \n",
       "4          2.0          5.0          0.0          6.0      ...        \n",
       "\n",
       "   site_month4  site_month5  site_month6  site_month7  site_month8  \\\n",
       "0          5.0          0.0          4.0          7.0          1.0   \n",
       "1          2.0          0.0          0.0          0.0          0.0   \n",
       "2          5.0          0.0          5.0          4.0          1.0   \n",
       "3          2.0          0.0          0.0          0.0          0.0   \n",
       "4          5.0          0.0          4.0          5.0          1.0   \n",
       "\n",
       "   site_month9  site_month10  site_month11  site_month12  site_month13  \n",
       "0          1.0           0.0           0.0           7.0           0.0  \n",
       "1          0.0           0.0           0.0           0.0           0.0  \n",
       "2          1.0           0.0           0.0           6.0           0.0  \n",
       "3          0.0           0.0           0.0           0.0           0.0  \n",
       "4          1.0           0.0           0.0           8.0           0.0  \n",
       "\n",
       "[5 rows x 43 columns]"
      ]
     },
     "metadata": {},
     "output_type": "display_data"
    },
    {
     "data": {
      "text/plain": [
       "(204760, 43)"
      ]
     },
     "execution_count": 286,
     "metadata": {},
     "output_type": "execute_result"
    }
   ],
   "source": [
    "metrics = ['user', 'pandaid', 'site']\n",
    "XY = getMonthly(df_enc, metrics)\n",
    "display(XY.head(5))\n",
    "XY.shape"
   ]
  },
  {
   "cell_type": "code",
   "execution_count": 301,
   "metadata": {
    "collapsed": true
   },
   "outputs": [],
   "source": [
    "def correlations(data, title = '', **kwds):\n",
    "    \"\"\"Calculate pairwise correlation between features.    \n",
    "    Extra arguments are passed on to DataFrame.corr()\n",
    "    \"\"\"\n",
    "    # simply call df.corr() to get a table of correlation values if you do not need the fancy plotting\n",
    "    corrmat = data.corr(**kwds)\n",
    "\n",
    "    fig, ax1 = plt.subplots(ncols=1, figsize=(7,6))\n",
    "    \n",
    "    opts = {'cmap': plt.get_cmap(\"RdBu\"),\n",
    "            'vmin': -1, 'vmax': +1}\n",
    "    heatmap1 = ax1.pcolor(corrmat, **opts)\n",
    "    plt.colorbar(heatmap1, ax=ax1)\n",
    "\n",
    "    ax1.set_title(\"Correlations \"+title)\n",
    "\n",
    "    labels = corrmat.columns.values\n",
    "    for ax in (ax1,):\n",
    "        # shift location of ticks to center of the bins\n",
    "        ax.set_xticks(np.arange(len(labels))+0.5, minor=False)\n",
    "        ax.set_yticks(np.arange(len(labels))+0.5, minor=False)\n",
    "        ax.set_xticklabels(labels, minor=False, ha='right', rotation=70)\n",
    "        ax.set_yticklabels(labels, minor=False)\n",
    "        \n",
    "    plt.tight_layout()"
   ]
  },
  {
   "cell_type": "code",
   "execution_count": 302,
   "metadata": {
    "collapsed": false
   },
   "outputs": [
    {
     "data": {
      "text/plain": [
       "(171182, 19)"
      ]
     },
     "metadata": {},
     "output_type": "display_data"
    },
    {
     "data": {
      "text/plain": [
       "(33578, 19)"
      ]
     },
     "metadata": {},
     "output_type": "display_data"
    },
    {
     "data": {
      "image/png": "[encoded data removed]",
      "text/plain": [
       "<matplotlib.figure.Figure at 0x7f90dc757550>"
      ]
     },
     "metadata": {},
     "output_type": "display_data"
    },
    {
     "data": {
      "image/png": "[encoded data removed]",
      "text/plain": [
       "<matplotlib.figure.Figure at 0x7f910638b080>"
      ]
     },
     "metadata": {},
     "output_type": "display_data"
    }
   ],
   "source": [
    "bg = XY.user_month13 < 0.5\n",
    "sig = XY.user_month13 > 0.5\n",
    "\n",
    "#for i in range(1, 13):\n",
    "#    XY = XY.drop('user_month'+str(i), axis=1) #drop after adding\n",
    "#    XY = XY.drop('site_month'+str(i), axis=1) #drop after adding\n",
    "\n",
    "display(XY[bg].shape)\n",
    "display(XY[sig].shape)\n",
    "\n",
    "# remove the y column from the correlation matrix after using it to select background and signal\n",
    "correlations(XY[bg].drop(['user_month13', 'pandaid_month13', 'site_month13'], 1), 'Background')\n",
    "correlations(XY[sig].drop(['user_month13', 'pandaid_month13', 'site_month13'], 1), 'Signal')\n",
    "\n",
    "#correlations(XY)"
   ]
  },
  {
   "cell_type": "code",
   "execution_count": 2,
   "metadata": {
    "collapsed": false
   },
   "outputs": [
    {
     "name": "stdout",
     "output_type": "stream",
     "text": [
      "Hello\n"
     ]
    }
   ],
   "source": [
    "print('Hello')"
   ]
  },
  {
   "cell_type": "code",
   "execution_count": 3,
   "metadata": {
    "collapsed": false
   },
   "outputs": [
    {
     "name": "stdout",
     "output_type": "stream",
     "text": [
      "0\n",
      "1\n",
      "2\n",
      "3\n",
      "4\n",
      "5\n",
      "6\n",
      "7\n",
      "8\n",
      "9\n"
     ]
    }
   ],
   "source": [
    "for i in range(0, 10):\n",
    "    print(str(i))"
   ]
  },
  {
   "cell_type": "code",
   "execution_count": null,
   "metadata": {
    "collapsed": true
   },
   "outputs": [],
   "source": []
  }
 ],
 "metadata": {
  "kernelspec": {
   "display_name": "Python 3",
   "language": "python",
   "name": "python3"
  },
  "language_info": {
   "codemirror_mode": {
    "name": "ipython",
    "version": 3
   },
   "file_extension": ".py",
   "mimetype": "text/x-python",
   "name": "python",
   "nbconvert_exporter": "python",
   "pygments_lexer": "ipython3",
   "version": "3.5.1"
  }
 },
 "nbformat": 4,
 "nbformat_minor": 0
}
