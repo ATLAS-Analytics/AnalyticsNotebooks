{
 "cells": [
  {
   "cell_type": "code",
   "execution_count": 1,
   "metadata": {},
   "outputs": [],
   "source": [
    "import numpy as np\n",
    "import matplotlib.pyplot as plt\n",
    "import datetime\n",
    "import re\n",
    "import json\n",
    "from pandas.io.json import json_normalize\n",
    "from IPython.display import display\n",
    "from pandas import HDFStore,DataFrame\n",
    "import pandas as pd\n",
    "import pickle\n",
    "\n",
    "%matplotlib inline "
   ]
  },
  {
   "cell_type": "markdown",
   "metadata": {},
   "source": [
    "## Open files and read in inputs for dataset popularity\n",
    "\n",
    "## These files contain all datasets that have been accessed in a given week \n",
    "\n",
    "- point 1. of google doc\n",
    "\n",
    "https://docs.google.com/document/d/1G-Z2jDxHHz7b9xaOSx50cgiv72zZEBVA_QsqeU-c5Rg/edit\n",
    "\n",
    "- Open weekly file with accessed datasets\n",
    "- df_1w is a panda dataframe\n",
    "\n",
    "https://pandas.pydata.org/pandas-docs/stable/10min.html\n",
    "https://pandas.pydata.org/pandas-docs/stable/generated/pandas.DataFrame.html"
   ]
  },
  {
   "cell_type": "code",
   "execution_count": 2,
   "metadata": {},
   "outputs": [
    {
     "data": {
      "text/plain": [
       "(30321, 14)"
      ]
     },
     "metadata": {},
     "output_type": "display_data"
    }
   ],
   "source": [
    "filename = 'DataPopularity_ML/simpleModel_start_2017-02-17_meas_7_pred_7'\n",
    "\n",
    "df_1w = pd.read_hdf(filename+'.h5', 'X')\n",
    "\n",
    "display(df_1w.shape)"
   ]
  },
  {
   "cell_type": "code",
   "execution_count": 3,
   "metadata": {},
   "outputs": [
    {
     "data": {
      "text/html": [
       "<div>\n",
       "<style>\n",
       "    .dataframe thead tr:only-child th {\n",
       "        text-align: right;\n",
       "    }\n",
       "\n",
       "    .dataframe thead th {\n",
       "        text-align: left;\n",
       "    }\n",
       "\n",
       "    .dataframe tbody tr th {\n",
       "        vertical-align: top;\n",
       "    }\n",
       "</style>\n",
       "<table border=\"1\" class=\"dataframe\">\n",
       "  <thead>\n",
       "    <tr style=\"text-align: right;\">\n",
       "      <th></th>\n",
       "      <th>name</th>\n",
       "      <th>scope</th>\n",
       "      <th>user</th>\n",
       "      <th>taskid</th>\n",
       "      <th>cputime</th>\n",
       "      <th>pandaid</th>\n",
       "      <th>size</th>\n",
       "      <th>nfiles</th>\n",
       "      <th>site</th>\n",
       "      <th>walltime</th>\n",
       "      <th>nevents</th>\n",
       "      <th>dsid</th>\n",
       "      <th>ptag</th>\n",
       "      <th>type</th>\n",
       "    </tr>\n",
       "  </thead>\n",
       "  <tbody>\n",
       "    <tr>\n",
       "      <th>0</th>\n",
       "      <td>data15_13TeV.00266904.physics_Main.merge.DAOD_...</td>\n",
       "      <td>data15_13TeV</td>\n",
       "      <td>2</td>\n",
       "      <td>2</td>\n",
       "      <td>521</td>\n",
       "      <td>22</td>\n",
       "      <td>140932680</td>\n",
       "      <td>364</td>\n",
       "      <td>4</td>\n",
       "      <td>6201</td>\n",
       "      <td>772</td>\n",
       "      <td>266904</td>\n",
       "      <td>2950</td>\n",
       "      <td>DAOD_EGAM1</td>\n",
       "    </tr>\n",
       "    <tr>\n",
       "      <th>1</th>\n",
       "      <td>data15_13TeV.00266904.physics_Main.merge.DAOD_...</td>\n",
       "      <td>data15_13TeV</td>\n",
       "      <td>4</td>\n",
       "      <td>5</td>\n",
       "      <td>4125</td>\n",
       "      <td>226</td>\n",
       "      <td>157285182</td>\n",
       "      <td>226</td>\n",
       "      <td>7</td>\n",
       "      <td>45990</td>\n",
       "      <td>5822</td>\n",
       "      <td>266904</td>\n",
       "      <td>2950</td>\n",
       "      <td>DAOD_EXOT17</td>\n",
       "    </tr>\n",
       "    <tr>\n",
       "      <th>2</th>\n",
       "      <td>data15_13TeV.00266904.physics_Main.merge.DAOD_...</td>\n",
       "      <td>data15_13TeV</td>\n",
       "      <td>1</td>\n",
       "      <td>1</td>\n",
       "      <td>424</td>\n",
       "      <td>15</td>\n",
       "      <td>446525578</td>\n",
       "      <td>71</td>\n",
       "      <td>1</td>\n",
       "      <td>3188</td>\n",
       "      <td>0</td>\n",
       "      <td>266904</td>\n",
       "      <td>2880</td>\n",
       "      <td>DAOD_HIGG2D1</td>\n",
       "    </tr>\n",
       "    <tr>\n",
       "      <th>3</th>\n",
       "      <td>data15_13TeV.00266904.physics_Main.merge.DAOD_...</td>\n",
       "      <td>data15_13TeV</td>\n",
       "      <td>1</td>\n",
       "      <td>1</td>\n",
       "      <td>475</td>\n",
       "      <td>11</td>\n",
       "      <td>593515038</td>\n",
       "      <td>74</td>\n",
       "      <td>1</td>\n",
       "      <td>8940</td>\n",
       "      <td>20192</td>\n",
       "      <td>266904</td>\n",
       "      <td>2950</td>\n",
       "      <td>DAOD_HIGG4D3</td>\n",
       "    </tr>\n",
       "    <tr>\n",
       "      <th>4</th>\n",
       "      <td>data15_13TeV.00266904.physics_Main.merge.DAOD_...</td>\n",
       "      <td>data15_13TeV</td>\n",
       "      <td>2</td>\n",
       "      <td>2</td>\n",
       "      <td>265</td>\n",
       "      <td>11</td>\n",
       "      <td>63051094</td>\n",
       "      <td>113</td>\n",
       "      <td>2</td>\n",
       "      <td>2992</td>\n",
       "      <td>2720</td>\n",
       "      <td>266904</td>\n",
       "      <td>2950</td>\n",
       "      <td>DAOD_HIGG4D5</td>\n",
       "    </tr>\n",
       "  </tbody>\n",
       "</table>\n",
       "</div>"
      ],
      "text/plain": [
       "                                                name         scope  user  \\\n",
       "0  data15_13TeV.00266904.physics_Main.merge.DAOD_...  data15_13TeV     2   \n",
       "1  data15_13TeV.00266904.physics_Main.merge.DAOD_...  data15_13TeV     4   \n",
       "2  data15_13TeV.00266904.physics_Main.merge.DAOD_...  data15_13TeV     1   \n",
       "3  data15_13TeV.00266904.physics_Main.merge.DAOD_...  data15_13TeV     1   \n",
       "4  data15_13TeV.00266904.physics_Main.merge.DAOD_...  data15_13TeV     2   \n",
       "\n",
       "   taskid  cputime  pandaid       size  nfiles  site  walltime  nevents  \\\n",
       "0       2      521       22  140932680     364     4      6201      772   \n",
       "1       5     4125      226  157285182     226     7     45990     5822   \n",
       "2       1      424       15  446525578      71     1      3188        0   \n",
       "3       1      475       11  593515038      74     1      8940    20192   \n",
       "4       2      265       11   63051094     113     2      2992     2720   \n",
       "\n",
       "     dsid  ptag          type  \n",
       "0  266904  2950    DAOD_EGAM1  \n",
       "1  266904  2950   DAOD_EXOT17  \n",
       "2  266904  2880  DAOD_HIGG2D1  \n",
       "3  266904  2950  DAOD_HIGG4D3  \n",
       "4  266904  2950  DAOD_HIGG4D5  "
      ]
     },
     "metadata": {},
     "output_type": "display_data"
    }
   ],
   "source": [
    "#check what it looks like\n",
    "display(df_1w.head(5)) "
   ]
  },
  {
   "cell_type": "code",
   "execution_count": 4,
   "metadata": {},
   "outputs": [
    {
     "data": {
      "text/plain": [
       "Index(['name', 'scope', 'user', 'taskid', 'cputime', 'pandaid', 'size',\n",
       "       'nfiles', 'site', 'walltime', 'nevents', 'dsid', 'ptag', 'type'],\n",
       "      dtype='object')"
      ]
     },
     "metadata": {},
     "output_type": "display_data"
    },
    {
     "data": {
      "text/plain": [
       "name        object\n",
       "scope       object\n",
       "user         int64\n",
       "taskid       int64\n",
       "cputime      int64\n",
       "pandaid      int64\n",
       "size         int64\n",
       "nfiles       int64\n",
       "site         int64\n",
       "walltime     int64\n",
       "nevents      int64\n",
       "dsid         int64\n",
       "ptag         int64\n",
       "type        object\n",
       "dtype: object"
      ]
     },
     "metadata": {},
     "output_type": "display_data"
    },
    {
     "data": {
      "text/plain": [
       "array([[ 'data15_13TeV.00266904.physics_Main.merge.DAOD_EGAM1.r7600_p2521_p2950_tid10322338_00',\n",
       "        'data15_13TeV', 2, ..., 266904, 2950, 'DAOD_EGAM1'],\n",
       "       [ 'data15_13TeV.00266904.physics_Main.merge.DAOD_EXOT17.r7600_p2521_p2950_tid10324876_00',\n",
       "        'data15_13TeV', 4, ..., 266904, 2950, 'DAOD_EXOT17'],\n",
       "       [ 'data15_13TeV.00266904.physics_Main.merge.DAOD_HIGG2D1.r7600_p2521_p2880_tid09980951_00',\n",
       "        'data15_13TeV', 1, ..., 266904, 2880, 'DAOD_HIGG2D1'],\n",
       "       ..., \n",
       "       [ 'mc15_14TeV.167766.Sherpa_CT10_WmunuMassiveCBPt70_140_CJetVetoBVeto.merge.DAOD_TRUTH3.e2357_p2768_tid10165442_00',\n",
       "        'mc15_14TeV', 1, ..., 167766, 2768, 'DAOD_TRUTH3'],\n",
       "       [ 'mc16_13TeV.361106.PowhegPythia8EvtGen_AZNLOCTEQ6L1_Zee.merge.DAOD_JETM3.e3601_s2997_r8903_r8906_p2996_tid10778681_00',\n",
       "        'mc16_13TeV', 1, ..., 361106, 2996, 'DAOD_JETM3'],\n",
       "       [ 'mc16_13TeV.410000.PowhegPythiaEvtGen_P2012_ttbar_hdamp172p5_nonallhad.merge.DAOD_JETM3.e3698_s2997_r8903_r8906_p2996_tid10778677_00',\n",
       "        'mc16_13TeV', 1, ..., 410000, 2996, 'DAOD_JETM3']], dtype=object)"
      ]
     },
     "metadata": {},
     "output_type": "display_data"
    }
   ],
   "source": [
    "#Explore the data\n",
    "display(df_1w.columns)\n",
    "display(df_1w.dtypes)\n",
    "display(df_1w.values)"
   ]
  },
  {
   "cell_type": "code",
   "execution_count": 5,
   "metadata": {},
   "outputs": [
    {
     "data": {
      "text/plain": [
       "array([[<matplotlib.axes._subplots.AxesSubplot object at 0x7fe056fc1860>,\n",
       "        <matplotlib.axes._subplots.AxesSubplot object at 0x7fe056f69ef0>,\n",
       "        <matplotlib.axes._subplots.AxesSubplot object at 0x7fe0570b7f98>],\n",
       "       [<matplotlib.axes._subplots.AxesSubplot object at 0x7fe0571cad30>,\n",
       "        <matplotlib.axes._subplots.AxesSubplot object at 0x7fe057197e80>,\n",
       "        <matplotlib.axes._subplots.AxesSubplot object at 0x7fe05715ab70>],\n",
       "       [<matplotlib.axes._subplots.AxesSubplot object at 0x7fe057128f98>,\n",
       "        <matplotlib.axes._subplots.AxesSubplot object at 0x7fe0570e79b0>,\n",
       "        <matplotlib.axes._subplots.AxesSubplot object at 0x7fe05707aeb8>]], dtype=object)"
      ]
     },
     "execution_count": 5,
     "metadata": {},
     "output_type": "execute_result"
    },
    {
     "data": {
      "image/png": "[encoded data removed]",
      "text/plain": [
       "<matplotlib.figure.Figure at 0x7fe0565df748>"
      ]
     },
     "metadata": {},
     "output_type": "display_data"
    },
    {
     "data": {
      "text/plain": [
       "<matplotlib.figure.Figure at 0x7fe0565dfcf8>"
      ]
     },
     "metadata": {},
     "output_type": "display_data"
    },
    {
     "data": {
      "image/png": "[encoded data removed]",
      "text/plain": [
       "<matplotlib.figure.Figure at 0x7fe057210390>"
      ]
     },
     "metadata": {},
     "output_type": "display_data"
    }
   ],
   "source": [
    "#make some plots\n",
    "plt.figure();\n",
    "df_1w.pandaid.plot.hist()\n",
    "\n",
    "plt.figure()\n",
    "df_1w[['user', 'taskid', 'cputime', 'pandaid', 'size', \n",
    "    'nfiles', 'site', 'walltime', 'nevents']].hist(alpha=0.5, bins=50, figsize=(10, 10))"
   ]
  },
  {
   "cell_type": "markdown",
   "metadata": {},
   "source": [
    "## Example: open another week of data and merge with first one"
   ]
  },
  {
   "cell_type": "code",
   "execution_count": 107,
   "metadata": {
    "collapsed": true
   },
   "outputs": [],
   "source": [
    "#merge dataframes used for popularity measurement (used for inputs) -> gets the integral of distributions\n",
    "\n",
    "def mergeDF(df, df_new):\n",
    "    #print('Before')\n",
    "    #display(df.shape)\n",
    "    concatenated = pd.concat([df, df_new]) \n",
    "    #print('After')\n",
    "    \n",
    "    #drop date, sum over pandaids, sites, users, ...\n",
    "    result = concatenated.groupby(['name','scope','dsid','ptag','type']).agg({\"pandaid\": np.sum, \"user\": np.sum,  \"site\": np.sum,\n",
    "        \"taskid\": pd.Series.sum, \"cputime\": pd.Series.sum, \"walltime\": pd.Series.sum, \"nevents\": pd.Series.sum, \n",
    "        \"nfiles\": pd.Series.sum, \"size\": pd.Series.sum   # sum over unique pandaids, taskids, sites, users. Get the total/day for all the rest  \n",
    "    }).reset_index()\n",
    "  \n",
    "    #display(df_new.shape)\n",
    "    #display(result.shape)\n",
    "    \n",
    "    return result"
   ]
  },
  {
   "cell_type": "code",
   "execution_count": 108,
   "metadata": {},
   "outputs": [
    {
     "data": {
      "text/plain": [
       "(31266, 14)"
      ]
     },
     "metadata": {},
     "output_type": "display_data"
    },
    {
     "data": {
      "text/plain": [
       "(43958, 14)"
      ]
     },
     "metadata": {},
     "output_type": "display_data"
    },
    {
     "data": {
      "text/html": [
       "<div>\n",
       "<style>\n",
       "    .dataframe thead tr:only-child th {\n",
       "        text-align: right;\n",
       "    }\n",
       "\n",
       "    .dataframe thead th {\n",
       "        text-align: left;\n",
       "    }\n",
       "\n",
       "    .dataframe tbody tr th {\n",
       "        vertical-align: top;\n",
       "    }\n",
       "</style>\n",
       "<table border=\"1\" class=\"dataframe\">\n",
       "  <thead>\n",
       "    <tr style=\"text-align: right;\">\n",
       "      <th></th>\n",
       "      <th>name</th>\n",
       "      <th>scope</th>\n",
       "      <th>dsid</th>\n",
       "      <th>ptag</th>\n",
       "      <th>type</th>\n",
       "      <th>site</th>\n",
       "      <th>taskid</th>\n",
       "      <th>nevents</th>\n",
       "      <th>user</th>\n",
       "      <th>cputime</th>\n",
       "      <th>nfiles</th>\n",
       "      <th>pandaid</th>\n",
       "      <th>walltime</th>\n",
       "      <th>size</th>\n",
       "    </tr>\n",
       "  </thead>\n",
       "  <tbody>\n",
       "    <tr>\n",
       "      <th>0</th>\n",
       "      <td>data15_13TeV.00266904.physics_Main.merge.DAOD_...</td>\n",
       "      <td>data15_13TeV</td>\n",
       "      <td>266904</td>\n",
       "      <td>2950</td>\n",
       "      <td>DAOD_EGAM1</td>\n",
       "      <td>4</td>\n",
       "      <td>2</td>\n",
       "      <td>772</td>\n",
       "      <td>2</td>\n",
       "      <td>521</td>\n",
       "      <td>364</td>\n",
       "      <td>22</td>\n",
       "      <td>6201</td>\n",
       "      <td>140932680</td>\n",
       "    </tr>\n",
       "    <tr>\n",
       "      <th>1</th>\n",
       "      <td>data15_13TeV.00266904.physics_Main.merge.DAOD_...</td>\n",
       "      <td>data15_13TeV</td>\n",
       "      <td>266904</td>\n",
       "      <td>2950</td>\n",
       "      <td>DAOD_EXOT17</td>\n",
       "      <td>9</td>\n",
       "      <td>9</td>\n",
       "      <td>11644</td>\n",
       "      <td>6</td>\n",
       "      <td>7601</td>\n",
       "      <td>452</td>\n",
       "      <td>452</td>\n",
       "      <td>94111</td>\n",
       "      <td>314570364</td>\n",
       "    </tr>\n",
       "    <tr>\n",
       "      <th>2</th>\n",
       "      <td>data15_13TeV.00266904.physics_Main.merge.DAOD_...</td>\n",
       "      <td>data15_13TeV</td>\n",
       "      <td>266904</td>\n",
       "      <td>2880</td>\n",
       "      <td>DAOD_HIGG2D1</td>\n",
       "      <td>2</td>\n",
       "      <td>2</td>\n",
       "      <td>0</td>\n",
       "      <td>2</td>\n",
       "      <td>863</td>\n",
       "      <td>142</td>\n",
       "      <td>30</td>\n",
       "      <td>6574</td>\n",
       "      <td>893051156</td>\n",
       "    </tr>\n",
       "    <tr>\n",
       "      <th>3</th>\n",
       "      <td>data15_13TeV.00266904.physics_Main.merge.DAOD_...</td>\n",
       "      <td>data15_13TeV</td>\n",
       "      <td>266904</td>\n",
       "      <td>2950</td>\n",
       "      <td>DAOD_HIGG4D2</td>\n",
       "      <td>2</td>\n",
       "      <td>2</td>\n",
       "      <td>16504</td>\n",
       "      <td>2</td>\n",
       "      <td>277</td>\n",
       "      <td>102</td>\n",
       "      <td>2</td>\n",
       "      <td>985</td>\n",
       "      <td>420557136</td>\n",
       "    </tr>\n",
       "    <tr>\n",
       "      <th>4</th>\n",
       "      <td>data15_13TeV.00266904.physics_Main.merge.DAOD_...</td>\n",
       "      <td>data15_13TeV</td>\n",
       "      <td>266904</td>\n",
       "      <td>2950</td>\n",
       "      <td>DAOD_HIGG4D3</td>\n",
       "      <td>2</td>\n",
       "      <td>2</td>\n",
       "      <td>40384</td>\n",
       "      <td>2</td>\n",
       "      <td>795</td>\n",
       "      <td>148</td>\n",
       "      <td>12</td>\n",
       "      <td>9643</td>\n",
       "      <td>1187030076</td>\n",
       "    </tr>\n",
       "  </tbody>\n",
       "</table>\n",
       "</div>"
      ],
      "text/plain": [
       "                                                name         scope    dsid  \\\n",
       "0  data15_13TeV.00266904.physics_Main.merge.DAOD_...  data15_13TeV  266904   \n",
       "1  data15_13TeV.00266904.physics_Main.merge.DAOD_...  data15_13TeV  266904   \n",
       "2  data15_13TeV.00266904.physics_Main.merge.DAOD_...  data15_13TeV  266904   \n",
       "3  data15_13TeV.00266904.physics_Main.merge.DAOD_...  data15_13TeV  266904   \n",
       "4  data15_13TeV.00266904.physics_Main.merge.DAOD_...  data15_13TeV  266904   \n",
       "\n",
       "   ptag          type  site  taskid  nevents  user  cputime  nfiles  pandaid  \\\n",
       "0  2950    DAOD_EGAM1     4       2      772     2      521     364       22   \n",
       "1  2950   DAOD_EXOT17     9       9    11644     6     7601     452      452   \n",
       "2  2880  DAOD_HIGG2D1     2       2        0     2      863     142       30   \n",
       "3  2950  DAOD_HIGG4D2     2       2    16504     2      277     102        2   \n",
       "4  2950  DAOD_HIGG4D3     2       2    40384     2      795     148       12   \n",
       "\n",
       "   walltime        size  \n",
       "0      6201   140932680  \n",
       "1     94111   314570364  \n",
       "2      6574   893051156  \n",
       "3       985   420557136  \n",
       "4      9643  1187030076  "
      ]
     },
     "metadata": {},
     "output_type": "display_data"
    }
   ],
   "source": [
    "filename = 'DataPopularity_ML/simpleModel_start_2017-02-24_meas_7_pred_7'\n",
    "\n",
    "df_2w = pd.read_hdf(filename+'.h5', 'X')\n",
    "display(df_2w.shape)\n",
    "\n",
    "df_merged = mergeDF(df_1w, df_2w)\n",
    "display(df_merged.shape)\n",
    "display(df_merged.head(5)) "
   ]
  },
  {
   "cell_type": "markdown",
   "metadata": {},
   "source": [
    "## These files contain all datasets that have been created from 1.1.2016 to 25.7.2017\n",
    "\n",
    "\n",
    "## Unzip files --> do only once!"
   ]
  },
  {
   "cell_type": "code",
   "execution_count": 109,
   "metadata": {},
   "outputs": [],
   "source": [
    "import os\n",
    "import tarfile\n",
    "import zipfile\n",
    "\n",
    "path = 'daod_datasets_2016_2017.tar.gz'\n",
    "path = 'deleted_daod_datasets_2016_2017.tar.gz'\n",
    "\n",
    "opener, mode = tarfile.open, 'r:gz'\n",
    "\n",
    "cwd = os.getcwd()\n",
    "os.chdir('DataPopularity_ML/')\n",
    "\n",
    "try:\n",
    "    file = opener(path, mode)\n",
    "    try: file.extractall()\n",
    "    finally: file.close()\n",
    "finally:\n",
    "    os.chdir(cwd)"
   ]
  },
  {
   "cell_type": "markdown",
   "metadata": {},
   "source": [
    "## Define useful functions to manipulate dataset names"
   ]
  },
  {
   "cell_type": "code",
   "execution_count": 110,
   "metadata": {
    "collapsed": true
   },
   "outputs": [],
   "source": [
    "# get DSID from dataset name (as a int)\n",
    "def getDSID(name):\n",
    "\n",
    "    sub = name.split('.')\n",
    "    #print(sub)\n",
    "\n",
    "    dsid = sub[1]\n",
    "    \n",
    "    #remove 00 for data\n",
    "    if (dsid.startswith('00')):\n",
    "        dsid  = dsid[2:]\n",
    "    #print(dsid)\n",
    "    return(int(dsid))  "
   ]
  },
  {
   "cell_type": "code",
   "execution_count": 111,
   "metadata": {
    "collapsed": true
   },
   "outputs": [],
   "source": [
    "# get scope from dataset name\n",
    "def getScope(name):\n",
    "\n",
    "    sub = name.split('.')\n",
    "    #print(sub)\n",
    "    scope = sub[0]\n",
    "    return(scope)  "
   ]
  },
  {
   "cell_type": "code",
   "execution_count": 112,
   "metadata": {
    "collapsed": true
   },
   "outputs": [],
   "source": [
    "# get ptag from dataset name (as a int)\n",
    "def getPtag(name):\n",
    "\n",
    "    sub = name.split('.')\n",
    "    #print(sub)\n",
    "    last = len(sub)\n",
    "    tags = sub[last-1]\n",
    "    #print(tags)\n",
    "    ptag=0\n",
    "    subtags = tags.split('_')\n",
    "    #print(subtags)\n",
    "    for i in subtags:\n",
    "        if (i.startswith('p')): # takes always the last one\n",
    "            ptag = int(i[1:])\n",
    "            #print(i)\n",
    "    return(ptag)      "
   ]
  },
  {
   "cell_type": "code",
   "execution_count": 113,
   "metadata": {
    "collapsed": true
   },
   "outputs": [],
   "source": [
    "# get Type from dataset name (DOAD_*)\n",
    "def getType(name):\n",
    "\n",
    "    sub = name.split('.')\n",
    "    #print(sub)\n",
    "\n",
    "    dstype = name\n",
    "    for i in sub:\n",
    "        if (i.startswith('DAOD_')): # takes always the last one\n",
    "            dstype = i\n",
    "    #print(dstype)\n",
    "    return(dstype) "
   ]
  },
  {
   "cell_type": "markdown",
   "metadata": {},
   "source": [
    "## Datasets created from 1.1.2016 and not deleted (on 25/7/2017)\n",
    "\n",
    "- point 2. of google doc\n",
    "- format is scope, name, creation date and last access date (it’s 0 if never accessed). Date is in epoch second"
   ]
  },
  {
   "cell_type": "code",
   "execution_count": 160,
   "metadata": {},
   "outputs": [
    {
     "data": {
      "text/html": [
       "<div>\n",
       "<style>\n",
       "    .dataframe thead tr:only-child th {\n",
       "        text-align: right;\n",
       "    }\n",
       "\n",
       "    .dataframe thead th {\n",
       "        text-align: left;\n",
       "    }\n",
       "\n",
       "    .dataframe tbody tr th {\n",
       "        vertical-align: top;\n",
       "    }\n",
       "</style>\n",
       "<table border=\"1\" class=\"dataframe\">\n",
       "  <thead>\n",
       "    <tr style=\"text-align: right;\">\n",
       "      <th></th>\n",
       "      <th>scope</th>\n",
       "      <th>name</th>\n",
       "      <th>creation</th>\n",
       "      <th>lastaccess</th>\n",
       "    </tr>\n",
       "  </thead>\n",
       "  <tbody>\n",
       "    <tr>\n",
       "      <th>0</th>\n",
       "      <td>archive</td>\n",
       "      <td>data15_13TeV.00266904.physics_Main.merge.DAOD_...</td>\n",
       "      <td>1492789760</td>\n",
       "      <td>0</td>\n",
       "    </tr>\n",
       "    <tr>\n",
       "      <th>1</th>\n",
       "      <td>archive</td>\n",
       "      <td>data15_13TeV.00266919.physics_Main.merge.DAOD_...</td>\n",
       "      <td>1492789743</td>\n",
       "      <td>0</td>\n",
       "    </tr>\n",
       "    <tr>\n",
       "      <th>2</th>\n",
       "      <td>archive</td>\n",
       "      <td>data15_13TeV.00267073.physics_Main.merge.DAOD_...</td>\n",
       "      <td>1492789791</td>\n",
       "      <td>0</td>\n",
       "    </tr>\n",
       "    <tr>\n",
       "      <th>3</th>\n",
       "      <td>archive</td>\n",
       "      <td>data15_13TeV.00267152.physics_Main.merge.DAOD_...</td>\n",
       "      <td>1492789562</td>\n",
       "      <td>0</td>\n",
       "    </tr>\n",
       "    <tr>\n",
       "      <th>4</th>\n",
       "      <td>archive</td>\n",
       "      <td>data15_13TeV.00267162.physics_Main.merge.DAOD_...</td>\n",
       "      <td>1492789576</td>\n",
       "      <td>0</td>\n",
       "    </tr>\n",
       "  </tbody>\n",
       "</table>\n",
       "</div>"
      ],
      "text/plain": [
       "     scope                                               name    creation  \\\n",
       "0  archive  data15_13TeV.00266904.physics_Main.merge.DAOD_...  1492789760   \n",
       "1  archive  data15_13TeV.00266919.physics_Main.merge.DAOD_...  1492789743   \n",
       "2  archive  data15_13TeV.00267073.physics_Main.merge.DAOD_...  1492789791   \n",
       "3  archive  data15_13TeV.00267152.physics_Main.merge.DAOD_...  1492789562   \n",
       "4  archive  data15_13TeV.00267162.physics_Main.merge.DAOD_...  1492789576   \n",
       "\n",
       "   lastaccess  \n",
       "0           0  \n",
       "1           0  \n",
       "2           0  \n",
       "3           0  \n",
       "4           0  "
      ]
     },
     "metadata": {},
     "output_type": "display_data"
    },
    {
     "data": {
      "text/html": [
       "<div>\n",
       "<style>\n",
       "    .dataframe thead tr:only-child th {\n",
       "        text-align: right;\n",
       "    }\n",
       "\n",
       "    .dataframe thead th {\n",
       "        text-align: left;\n",
       "    }\n",
       "\n",
       "    .dataframe tbody tr th {\n",
       "        vertical-align: top;\n",
       "    }\n",
       "</style>\n",
       "<table border=\"1\" class=\"dataframe\">\n",
       "  <thead>\n",
       "    <tr style=\"text-align: right;\">\n",
       "      <th></th>\n",
       "      <th>scope</th>\n",
       "      <th>name</th>\n",
       "      <th>creation</th>\n",
       "      <th>type</th>\n",
       "      <th>dsid</th>\n",
       "      <th>ptag</th>\n",
       "    </tr>\n",
       "  </thead>\n",
       "  <tbody>\n",
       "    <tr>\n",
       "      <th>0</th>\n",
       "      <td>data15_13TeV</td>\n",
       "      <td>data15_13TeV.00266904.physics_Main.merge.DAOD_...</td>\n",
       "      <td>2017-04-21</td>\n",
       "      <td>DAOD_EXOT15</td>\n",
       "      <td>266904</td>\n",
       "      <td>2614</td>\n",
       "    </tr>\n",
       "    <tr>\n",
       "      <th>1</th>\n",
       "      <td>data15_13TeV</td>\n",
       "      <td>data15_13TeV.00266919.physics_Main.merge.DAOD_...</td>\n",
       "      <td>2017-04-21</td>\n",
       "      <td>DAOD_EXOT15</td>\n",
       "      <td>266919</td>\n",
       "      <td>2614</td>\n",
       "    </tr>\n",
       "    <tr>\n",
       "      <th>2</th>\n",
       "      <td>data15_13TeV</td>\n",
       "      <td>data15_13TeV.00267073.physics_Main.merge.DAOD_...</td>\n",
       "      <td>2017-04-21</td>\n",
       "      <td>DAOD_EXOT15</td>\n",
       "      <td>267073</td>\n",
       "      <td>2614</td>\n",
       "    </tr>\n",
       "    <tr>\n",
       "      <th>3</th>\n",
       "      <td>data15_13TeV</td>\n",
       "      <td>data15_13TeV.00267152.physics_Main.merge.DAOD_...</td>\n",
       "      <td>2017-04-21</td>\n",
       "      <td>DAOD_EXOT15</td>\n",
       "      <td>267152</td>\n",
       "      <td>2614</td>\n",
       "    </tr>\n",
       "    <tr>\n",
       "      <th>4</th>\n",
       "      <td>data15_13TeV</td>\n",
       "      <td>data15_13TeV.00267162.physics_Main.merge.DAOD_...</td>\n",
       "      <td>2017-04-21</td>\n",
       "      <td>DAOD_EXOT15</td>\n",
       "      <td>267162</td>\n",
       "      <td>2614</td>\n",
       "    </tr>\n",
       "  </tbody>\n",
       "</table>\n",
       "</div>"
      ],
      "text/plain": [
       "          scope                                               name  \\\n",
       "0  data15_13TeV  data15_13TeV.00266904.physics_Main.merge.DAOD_...   \n",
       "1  data15_13TeV  data15_13TeV.00266919.physics_Main.merge.DAOD_...   \n",
       "2  data15_13TeV  data15_13TeV.00267073.physics_Main.merge.DAOD_...   \n",
       "3  data15_13TeV  data15_13TeV.00267152.physics_Main.merge.DAOD_...   \n",
       "4  data15_13TeV  data15_13TeV.00267162.physics_Main.merge.DAOD_...   \n",
       "\n",
       "     creation         type    dsid  ptag  \n",
       "0  2017-04-21  DAOD_EXOT15  266904  2614  \n",
       "1  2017-04-21  DAOD_EXOT15  266919  2614  \n",
       "2  2017-04-21  DAOD_EXOT15  267073  2614  \n",
       "3  2017-04-21  DAOD_EXOT15  267152  2614  \n",
       "4  2017-04-21  DAOD_EXOT15  267162  2614  "
      ]
     },
     "metadata": {},
     "output_type": "display_data"
    }
   ],
   "source": [
    "df_not = pd.read_csv('DataPopularity_ML/daod_datasets_2016_2017.csv', header = None, sep = '\\t',\n",
    "                     names = ['scope', 'name', 'creation', 'lastaccess'])\n",
    "display(df_not.head(5))\n",
    "\n",
    "#drop useless columns\n",
    "df_not = df_not.drop('lastaccess', axis =1)\n",
    "\n",
    "#dataset manipulation: convert date in epoch to readable datedate (remove time in hours, leave only dates)\n",
    "df_not['creation'] = df_not['creation'].apply(lambda x: datetime.datetime.fromtimestamp(int(x)).date())\n",
    "\n",
    "#scope==archive are datasets on LOCALGROUPDSIK but not on DATADISK. Does not matter, let's replace with \"real\" scope \n",
    "df_not['scope'] = df_not['name'].apply(getScope)\n",
    "\n",
    "# get a few others attributes\n",
    "df_not['type'] = df_not['name'].apply(getType)\n",
    "df_not['dsid'] = df_not['name'].apply(getDSID)\n",
    "df_not['ptag'] = df_not['name'].apply(getPtag)\n",
    "\n",
    "display(df_not.head(5))"
   ]
  },
  {
   "cell_type": "markdown",
   "metadata": {},
   "source": [
    "## Datasets created from 1.1.2016 and already deleted (on 25/7/2017)\n",
    "\n",
    "- point 3 of googledoc\n",
    "- scope, name, creation date, deletion date, last access date (in ISO format)"
   ]
  },
  {
   "cell_type": "code",
   "execution_count": 162,
   "metadata": {},
   "outputs": [
    {
     "data": {
      "text/html": [
       "<div>\n",
       "<style>\n",
       "    .dataframe thead tr:only-child th {\n",
       "        text-align: right;\n",
       "    }\n",
       "\n",
       "    .dataframe thead th {\n",
       "        text-align: left;\n",
       "    }\n",
       "\n",
       "    .dataframe tbody tr th {\n",
       "        vertical-align: top;\n",
       "    }\n",
       "</style>\n",
       "<table border=\"1\" class=\"dataframe\">\n",
       "  <thead>\n",
       "    <tr style=\"text-align: right;\">\n",
       "      <th></th>\n",
       "      <th>scope</th>\n",
       "      <th>name</th>\n",
       "      <th>creation</th>\n",
       "      <th>deletion</th>\n",
       "      <th>lastaccess</th>\n",
       "    </tr>\n",
       "  </thead>\n",
       "  <tbody>\n",
       "    <tr>\n",
       "      <th>0</th>\n",
       "      <td>mc12_14TeV</td>\n",
       "      <td>mc12_14TeV.167792.Sherpa_CT10_WmunuMassiveCBPt...</td>\n",
       "      <td>2016-06-02T16:02:59Z</td>\n",
       "      <td>2016-06-07T08:12:26Z</td>\n",
       "      <td>NaN</td>\n",
       "    </tr>\n",
       "    <tr>\n",
       "      <th>1</th>\n",
       "      <td>mc12_14TeV</td>\n",
       "      <td>mc12_14TeV.167790.Sherpa_CT10_WenuMassiveCBPt5...</td>\n",
       "      <td>2016-06-02T15:58:59Z</td>\n",
       "      <td>2016-06-07T08:12:54Z</td>\n",
       "      <td>NaN</td>\n",
       "    </tr>\n",
       "    <tr>\n",
       "      <th>2</th>\n",
       "      <td>mc12_14TeV</td>\n",
       "      <td>mc12_14TeV.161963.Sherpa_CT10_llnunu_ZZ.merge....</td>\n",
       "      <td>2016-05-15T22:37:50Z</td>\n",
       "      <td>2016-05-23T13:48:02Z</td>\n",
       "      <td>NaN</td>\n",
       "    </tr>\n",
       "    <tr>\n",
       "      <th>3</th>\n",
       "      <td>mc12_14TeV</td>\n",
       "      <td>mc12_14TeV.167771.Sherpa_CT10_WenuMassiveCBPt1...</td>\n",
       "      <td>2016-06-02T15:45:18Z</td>\n",
       "      <td>2016-06-06T08:31:23Z</td>\n",
       "      <td>NaN</td>\n",
       "    </tr>\n",
       "    <tr>\n",
       "      <th>4</th>\n",
       "      <td>mc12_14TeV</td>\n",
       "      <td>mc12_14TeV.167779.Sherpa_CT10_WenuMassiveCBPt2...</td>\n",
       "      <td>2016-06-02T15:51:35Z</td>\n",
       "      <td>2016-06-06T08:31:23Z</td>\n",
       "      <td>NaN</td>\n",
       "    </tr>\n",
       "  </tbody>\n",
       "</table>\n",
       "</div>"
      ],
      "text/plain": [
       "        scope                                               name  \\\n",
       "0  mc12_14TeV  mc12_14TeV.167792.Sherpa_CT10_WmunuMassiveCBPt...   \n",
       "1  mc12_14TeV  mc12_14TeV.167790.Sherpa_CT10_WenuMassiveCBPt5...   \n",
       "2  mc12_14TeV  mc12_14TeV.161963.Sherpa_CT10_llnunu_ZZ.merge....   \n",
       "3  mc12_14TeV  mc12_14TeV.167771.Sherpa_CT10_WenuMassiveCBPt1...   \n",
       "4  mc12_14TeV  mc12_14TeV.167779.Sherpa_CT10_WenuMassiveCBPt2...   \n",
       "\n",
       "               creation              deletion lastaccess  \n",
       "0  2016-06-02T16:02:59Z  2016-06-07T08:12:26Z        NaN  \n",
       "1  2016-06-02T15:58:59Z  2016-06-07T08:12:54Z        NaN  \n",
       "2  2016-05-15T22:37:50Z  2016-05-23T13:48:02Z        NaN  \n",
       "3  2016-06-02T15:45:18Z  2016-06-06T08:31:23Z        NaN  \n",
       "4  2016-06-02T15:51:35Z  2016-06-06T08:31:23Z        NaN  "
      ]
     },
     "metadata": {},
     "output_type": "display_data"
    },
    {
     "data": {
      "text/html": [
       "<div>\n",
       "<style>\n",
       "    .dataframe thead tr:only-child th {\n",
       "        text-align: right;\n",
       "    }\n",
       "\n",
       "    .dataframe thead th {\n",
       "        text-align: left;\n",
       "    }\n",
       "\n",
       "    .dataframe tbody tr th {\n",
       "        vertical-align: top;\n",
       "    }\n",
       "</style>\n",
       "<table border=\"1\" class=\"dataframe\">\n",
       "  <thead>\n",
       "    <tr style=\"text-align: right;\">\n",
       "      <th></th>\n",
       "      <th>scope</th>\n",
       "      <th>name</th>\n",
       "      <th>creation</th>\n",
       "      <th>type</th>\n",
       "      <th>dsid</th>\n",
       "      <th>ptag</th>\n",
       "    </tr>\n",
       "  </thead>\n",
       "  <tbody>\n",
       "    <tr>\n",
       "      <th>0</th>\n",
       "      <td>mc12_14TeV</td>\n",
       "      <td>mc12_14TeV.167792.Sherpa_CT10_WmunuMassiveCBPt...</td>\n",
       "      <td>2016-06-02</td>\n",
       "      <td>DAOD_TRUTH1</td>\n",
       "      <td>167792</td>\n",
       "      <td>2613</td>\n",
       "    </tr>\n",
       "    <tr>\n",
       "      <th>1</th>\n",
       "      <td>mc12_14TeV</td>\n",
       "      <td>mc12_14TeV.167790.Sherpa_CT10_WenuMassiveCBPt5...</td>\n",
       "      <td>2016-06-02</td>\n",
       "      <td>DAOD_TRUTH1</td>\n",
       "      <td>167790</td>\n",
       "      <td>2613</td>\n",
       "    </tr>\n",
       "    <tr>\n",
       "      <th>2</th>\n",
       "      <td>mc12_14TeV</td>\n",
       "      <td>mc12_14TeV.161963.Sherpa_CT10_llnunu_ZZ.merge....</td>\n",
       "      <td>2016-05-15</td>\n",
       "      <td>DAOD_TRUTH1</td>\n",
       "      <td>161963</td>\n",
       "      <td>2613</td>\n",
       "    </tr>\n",
       "    <tr>\n",
       "      <th>3</th>\n",
       "      <td>mc12_14TeV</td>\n",
       "      <td>mc12_14TeV.167771.Sherpa_CT10_WenuMassiveCBPt1...</td>\n",
       "      <td>2016-06-02</td>\n",
       "      <td>DAOD_TRUTH1</td>\n",
       "      <td>167771</td>\n",
       "      <td>2613</td>\n",
       "    </tr>\n",
       "    <tr>\n",
       "      <th>4</th>\n",
       "      <td>mc12_14TeV</td>\n",
       "      <td>mc12_14TeV.167779.Sherpa_CT10_WenuMassiveCBPt2...</td>\n",
       "      <td>2016-06-02</td>\n",
       "      <td>DAOD_TRUTH1</td>\n",
       "      <td>167779</td>\n",
       "      <td>2613</td>\n",
       "    </tr>\n",
       "  </tbody>\n",
       "</table>\n",
       "</div>"
      ],
      "text/plain": [
       "        scope                                               name    creation  \\\n",
       "0  mc12_14TeV  mc12_14TeV.167792.Sherpa_CT10_WmunuMassiveCBPt...  2016-06-02   \n",
       "1  mc12_14TeV  mc12_14TeV.167790.Sherpa_CT10_WenuMassiveCBPt5...  2016-06-02   \n",
       "2  mc12_14TeV  mc12_14TeV.161963.Sherpa_CT10_llnunu_ZZ.merge....  2016-05-15   \n",
       "3  mc12_14TeV  mc12_14TeV.167771.Sherpa_CT10_WenuMassiveCBPt1...  2016-06-02   \n",
       "4  mc12_14TeV  mc12_14TeV.167779.Sherpa_CT10_WenuMassiveCBPt2...  2016-06-02   \n",
       "\n",
       "          type    dsid  ptag  \n",
       "0  DAOD_TRUTH1  167792  2613  \n",
       "1  DAOD_TRUTH1  167790  2613  \n",
       "2  DAOD_TRUTH1  161963  2613  \n",
       "3  DAOD_TRUTH1  167771  2613  \n",
       "4  DAOD_TRUTH1  167779  2613  "
      ]
     },
     "metadata": {},
     "output_type": "display_data"
    }
   ],
   "source": [
    "df_del = pd.read_csv('DataPopularity_ML/deleted_daod_datasets_2016_2017.csv', header = None, sep = '\\t',\n",
    "                     names = ['scope', 'name', 'creation', 'deletion', 'lastaccess'])\n",
    "display(df_del.head(5))\n",
    "\n",
    "#drop useless columns\n",
    "df_del = df_del.drop('lastaccess', axis =1)\n",
    "df_del = df_del.drop('deletion', axis =1)\n",
    "\n",
    "#dataset manipulation: remove time in hours, leave only dates\n",
    "df_del['creation'] = df_del['creation'].apply(lambda x: datetime.datetime.strptime(x, \"%Y-%m-%dT%H:%M:%SZ\").date())\n",
    "\n",
    "#scope==archive are datasets on LOCALGROUPDSIK but not on DATADISK. Does not matter, let's replace with \"real\" scope \n",
    "df_del['scope'] = df_del['name'].apply(getScope)\n",
    "\n",
    "# get a few others attributes\n",
    "df_del['type'] = df_del['name'].apply(getType)\n",
    "df_del['dsid'] = df_del['name'].apply(getDSID)\n",
    "df_del['ptag'] = df_del['name'].apply(getPtag)\n",
    "\n",
    "display(df_del.head(5))"
   ]
  },
  {
   "cell_type": "code",
   "execution_count": 161,
   "metadata": {},
   "outputs": [
    {
     "data": {
      "text/plain": [
       "(229038, 6)"
      ]
     },
     "metadata": {},
     "output_type": "display_data"
    },
    {
     "data": {
      "text/plain": [
       "(271123, 6)"
      ]
     },
     "metadata": {},
     "output_type": "display_data"
    },
    {
     "data": {
      "text/plain": [
       "(500161, 6)"
      ]
     },
     "metadata": {},
     "output_type": "display_data"
    },
    {
     "data": {
      "text/plain": [
       "(499938, 6)"
      ]
     },
     "metadata": {},
     "output_type": "display_data"
    }
   ],
   "source": [
    "# now merge them\n",
    "display(df_del.shape)\n",
    "display(df_not.shape)\n",
    "\n",
    "concatenated = pd.concat([df_del, df_not])\n",
    "display(concatenated.shape)\n",
    "df_all = concatenated.drop_duplicates()\n",
    "display(df_all.shape)\n",
    "\n",
    "# There can still be duplicates based on name only in case one dataset was archived. \n",
    "# In this case the dataset name is the same, but creation date is different"
   ]
  },
  {
   "cell_type": "markdown",
   "metadata": {},
   "source": [
    "## now df_all contains all datasets created from 1/1/2016 to 25/7/2017\n",
    "\n",
    "- format is scope, name, creation date, type, dsid, ptag"
   ]
  },
  {
   "cell_type": "code",
   "execution_count": null,
   "metadata": {
    "collapsed": true
   },
   "outputs": [],
   "source": []
  }
 ],
 "metadata": {
  "kernelspec": {
   "display_name": "Python 3",
   "language": "python",
   "name": "python3"
  },
  "language_info": {
   "codemirror_mode": {
    "name": "ipython",
    "version": 3
   },
   "file_extension": ".py",
   "mimetype": "text/x-python",
   "name": "python",
   "nbconvert_exporter": "python",
   "pygments_lexer": "ipython3",
   "version": "3.4.5"
  }
 },
 "nbformat": 4,
 "nbformat_minor": 1
}
