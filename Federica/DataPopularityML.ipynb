{
 "cells": [
  {
   "cell_type": "code",
   "execution_count": 110,
   "metadata": {
    "collapsed": false
   },
   "outputs": [],
   "source": [
    "import numpy as np\n",
    "import matplotlib.pyplot as plt\n",
    "import datetime\n",
    "import re\n",
    "import json\n",
    "from pandas.io.json import json_normalize\n",
    "from IPython.display import display\n",
    "from pandas import HDFStore,DataFrame\n",
    "import pandas as pd\n",
    "import pickle\n",
    "\n",
    "%matplotlib inline "
   ]
  },
  {
   "cell_type": "markdown",
   "metadata": {},
   "source": [
    "<h2>Open files and read in dataframes</h2>"
   ]
  },
  {
   "cell_type": "code",
   "execution_count": 111,
   "metadata": {
    "collapsed": false
   },
   "outputs": [],
   "source": [
    "#Simple Model -> use 1-2 weeks to train\n",
    "#filename = 'DataPopularity_ML/simpleModel_start_2017-04-15_step_14'\n",
    "filename = 'DataPopularity_ML/simpleModel_start_2017-02-17_meas_7_pred_7'\n",
    "#filename = 'DataPopularity_ML/simpleModel_start_2017-02-15_meas_4_pred_3'\n",
    "\n",
    "#CMS model -> use 6 months to train\n",
    "#filename = 'DataPopularity_ML/CMSModel_week27'\n",
    "#filename = 'DataPopularity_ML/simpleModel_start_2016-05-15_meas_182_pred_7'\n",
    "\n",
    "#Binned model -> use 6 months to train\n",
    "#filename = 'DataPopularity_ML/BinnedModel_week27'\n",
    "\n",
    "df_X = pd.read_hdf(filename+'.h5', 'X')\n",
    "df_Y = pd.read_hdf(filename+'.h5', 'Y')"
   ]
  },
  {
   "cell_type": "code",
   "execution_count": 112,
   "metadata": {
    "collapsed": false
   },
   "outputs": [
    {
     "data": {
      "text/plain": [
       "(30321, 14)"
      ]
     },
     "metadata": {},
     "output_type": "display_data"
    },
    {
     "data": {
      "text/plain": [
       "(30321,)"
      ]
     },
     "metadata": {},
     "output_type": "display_data"
    }
   ],
   "source": [
    "#Facultative! try to improve modelling by dropping a few columns (dsid, ptag)\n",
    "\n",
    "display(df_X.shape)\n",
    "#df_X = df_X.drop([col for col in df_X.columns if 'dsid' in col], axis=1)\n",
    "#df_X = df_X.drop([col for col in df_X.columns if 'ptag' in col], axis=1)\n",
    "#df_X =  df_X.drop([col for col in df_X.columns if 'type' in col], axis=1)\n",
    "#df_X =  df_X.drop([col for col in df_X.columns if 'scope' in col], axis=1)\n",
    "display(df_Y.shape)"
   ]
  },
  {
   "cell_type": "code",
   "execution_count": 113,
   "metadata": {
    "collapsed": false
   },
   "outputs": [
    {
     "data": {
      "text/html": [
       "<div>\n",
       "<style>\n",
       "    .dataframe thead tr:only-child th {\n",
       "        text-align: right;\n",
       "    }\n",
       "\n",
       "    .dataframe thead th {\n",
       "        text-align: left;\n",
       "    }\n",
       "\n",
       "    .dataframe tbody tr th {\n",
       "        vertical-align: top;\n",
       "    }\n",
       "</style>\n",
       "<table border=\"1\" class=\"dataframe\">\n",
       "  <thead>\n",
       "    <tr style=\"text-align: right;\">\n",
       "      <th></th>\n",
       "      <th>name</th>\n",
       "      <th>scope</th>\n",
       "      <th>user</th>\n",
       "      <th>taskid</th>\n",
       "      <th>cputime</th>\n",
       "      <th>pandaid</th>\n",
       "      <th>size</th>\n",
       "      <th>nfiles</th>\n",
       "      <th>site</th>\n",
       "      <th>walltime</th>\n",
       "      <th>nevents</th>\n",
       "      <th>dsid</th>\n",
       "      <th>ptag</th>\n",
       "      <th>type</th>\n",
       "    </tr>\n",
       "  </thead>\n",
       "  <tbody>\n",
       "    <tr>\n",
       "      <th>0</th>\n",
       "      <td>data15_13TeV.00266904.physics_Main.merge.DAOD_...</td>\n",
       "      <td>data15_13TeV</td>\n",
       "      <td>2</td>\n",
       "      <td>2</td>\n",
       "      <td>521</td>\n",
       "      <td>22</td>\n",
       "      <td>140932680</td>\n",
       "      <td>364</td>\n",
       "      <td>4</td>\n",
       "      <td>6201</td>\n",
       "      <td>772</td>\n",
       "      <td>266904</td>\n",
       "      <td>2950</td>\n",
       "      <td>DAOD_EGAM1</td>\n",
       "    </tr>\n",
       "    <tr>\n",
       "      <th>1</th>\n",
       "      <td>data15_13TeV.00266904.physics_Main.merge.DAOD_...</td>\n",
       "      <td>data15_13TeV</td>\n",
       "      <td>4</td>\n",
       "      <td>5</td>\n",
       "      <td>4125</td>\n",
       "      <td>226</td>\n",
       "      <td>157285182</td>\n",
       "      <td>226</td>\n",
       "      <td>7</td>\n",
       "      <td>45990</td>\n",
       "      <td>5822</td>\n",
       "      <td>266904</td>\n",
       "      <td>2950</td>\n",
       "      <td>DAOD_EXOT17</td>\n",
       "    </tr>\n",
       "    <tr>\n",
       "      <th>2</th>\n",
       "      <td>data15_13TeV.00266904.physics_Main.merge.DAOD_...</td>\n",
       "      <td>data15_13TeV</td>\n",
       "      <td>1</td>\n",
       "      <td>1</td>\n",
       "      <td>424</td>\n",
       "      <td>15</td>\n",
       "      <td>446525578</td>\n",
       "      <td>71</td>\n",
       "      <td>1</td>\n",
       "      <td>3188</td>\n",
       "      <td>0</td>\n",
       "      <td>266904</td>\n",
       "      <td>2880</td>\n",
       "      <td>DAOD_HIGG2D1</td>\n",
       "    </tr>\n",
       "    <tr>\n",
       "      <th>3</th>\n",
       "      <td>data15_13TeV.00266904.physics_Main.merge.DAOD_...</td>\n",
       "      <td>data15_13TeV</td>\n",
       "      <td>1</td>\n",
       "      <td>1</td>\n",
       "      <td>475</td>\n",
       "      <td>11</td>\n",
       "      <td>593515038</td>\n",
       "      <td>74</td>\n",
       "      <td>1</td>\n",
       "      <td>8940</td>\n",
       "      <td>20192</td>\n",
       "      <td>266904</td>\n",
       "      <td>2950</td>\n",
       "      <td>DAOD_HIGG4D3</td>\n",
       "    </tr>\n",
       "    <tr>\n",
       "      <th>4</th>\n",
       "      <td>data15_13TeV.00266904.physics_Main.merge.DAOD_...</td>\n",
       "      <td>data15_13TeV</td>\n",
       "      <td>2</td>\n",
       "      <td>2</td>\n",
       "      <td>265</td>\n",
       "      <td>11</td>\n",
       "      <td>63051094</td>\n",
       "      <td>113</td>\n",
       "      <td>2</td>\n",
       "      <td>2992</td>\n",
       "      <td>2720</td>\n",
       "      <td>266904</td>\n",
       "      <td>2950</td>\n",
       "      <td>DAOD_HIGG4D5</td>\n",
       "    </tr>\n",
       "  </tbody>\n",
       "</table>\n",
       "</div>"
      ],
      "text/plain": [
       "                                                name         scope  user  \\\n",
       "0  data15_13TeV.00266904.physics_Main.merge.DAOD_...  data15_13TeV     2   \n",
       "1  data15_13TeV.00266904.physics_Main.merge.DAOD_...  data15_13TeV     4   \n",
       "2  data15_13TeV.00266904.physics_Main.merge.DAOD_...  data15_13TeV     1   \n",
       "3  data15_13TeV.00266904.physics_Main.merge.DAOD_...  data15_13TeV     1   \n",
       "4  data15_13TeV.00266904.physics_Main.merge.DAOD_...  data15_13TeV     2   \n",
       "\n",
       "   taskid  cputime  pandaid       size  nfiles  site  walltime  nevents  \\\n",
       "0       2      521       22  140932680     364     4      6201      772   \n",
       "1       5     4125      226  157285182     226     7     45990     5822   \n",
       "2       1      424       15  446525578      71     1      3188        0   \n",
       "3       1      475       11  593515038      74     1      8940    20192   \n",
       "4       2      265       11   63051094     113     2      2992     2720   \n",
       "\n",
       "     dsid  ptag          type  \n",
       "0  266904  2950    DAOD_EGAM1  \n",
       "1  266904  2950   DAOD_EXOT17  \n",
       "2  266904  2880  DAOD_HIGG2D1  \n",
       "3  266904  2950  DAOD_HIGG4D3  \n",
       "4  266904  2950  DAOD_HIGG4D5  "
      ]
     },
     "metadata": {},
     "output_type": "display_data"
    },
    {
     "name": "stdout",
     "output_type": "stream",
     "text": [
      "Total df\n"
     ]
    },
    {
     "data": {
      "text/plain": [
       "(30321, 14)"
      ]
     },
     "metadata": {},
     "output_type": "display_data"
    },
    {
     "data": {
      "text/plain": [
       "(30321,)"
      ]
     },
     "metadata": {},
     "output_type": "display_data"
    },
    {
     "data": {
      "text/plain": [
       "(30048, 14)"
      ]
     },
     "metadata": {},
     "output_type": "display_data"
    },
    {
     "data": {
      "text/plain": [
       "(273, 14)"
      ]
     },
     "metadata": {},
     "output_type": "display_data"
    }
   ],
   "source": [
    "#check what they look like\n",
    "\n",
    "display(df_X.head(5))\n",
    "#display(df_Y.head(5))\n",
    "\n",
    "print('Total df')\n",
    "display(df_X.shape)\n",
    "display(df_Y.shape)\n",
    "\n",
    "display(df_X[df_Y<0.5].shape)\n",
    "display(df_X[df_Y>0.5].shape)   "
   ]
  },
  {
   "cell_type": "markdown",
   "metadata": {},
   "source": [
    "<h2>Transform to np.array</h2>"
   ]
  },
  {
   "cell_type": "code",
   "execution_count": 116,
   "metadata": {
    "collapsed": false
   },
   "outputs": [],
   "source": [
    "#drop strings...\n",
    "df_X = df_X.drop([col for col in df_X.columns if 'dsid' in col], axis=1)\n",
    "df_X = df_X.drop([col for col in df_X.columns if 'ptag' in col], axis=1)\n",
    "df_X =  df_X.drop([col for col in df_X.columns if 'type' in col], axis=1)\n",
    "df_X =  df_X.drop([col for col in df_X.columns if 'scope' in col], axis=1)\n",
    "df_X =  df_X.drop([col for col in df_X.columns if 'name' in col], axis=1)\n",
    "\n",
    "X = df_X.as_matrix().astype(np.float)\n",
    "Y = df_Y.as_matrix().astype(np.float)"
   ]
  },
  {
   "cell_type": "markdown",
   "metadata": {},
   "source": [
    "## The Training and Testing Split\n",
    "\n",
    "This will split data into train-test sets: 67%-33%. It will also shuffle entries so you will not get the first 67% of `X` for training and the last 33% for testing. The first will be used for training the classifier and the second to evaluate its performance."
   ]
  },
  {
   "cell_type": "code",
   "execution_count": 117,
   "metadata": {
    "collapsed": false
   },
   "outputs": [
    {
     "name": "stdout",
     "output_type": "stream",
     "text": [
      "Used for development (hyperparameters optimization): 15160\n",
      "Used for training+testing: 15161\n",
      "Used for training: 10157\n",
      "Used for testing:  5004\n"
     ]
    }
   ],
   "source": [
    "from sklearn.model_selection import train_test_split\n",
    "\n",
    "#first split into development (to optimise hyperparameters) and evaluation (to train+test final model) samples\n",
    "X_dev,X_eval, y_dev,y_eval = train_test_split(X, Y, test_size=0.50, random_state=42)\n",
    "X = X_eval\n",
    "Y = y_eval\n",
    "\n",
    "print('Used for development (hyperparameters optimization): '+str(len(y_dev)))\n",
    "print('Used for training+testing: '+str(len(y_eval)))\n",
    "\n",
    "X_train, X_test, y_train,y_test = train_test_split(X, Y, test_size=0.33, random_state=492)\n",
    "\n",
    "print('Used for training: '+str(len(y_train)))\n",
    "print('Used for testing:  '+str(len(y_test)))"
   ]
  },
  {
   "cell_type": "markdown",
   "metadata": {},
   "source": [
    "## Assessing a Classifier's Performance\n",
    "\n",
    "All the fucntions below will be used once the model is trained\n",
    "\n",
    "Documentation:\n",
    "http://scikit-learn.org/stable/modules/generated/sklearn.metrics.precision_recall_fscore_support.html"
   ]
  },
  {
   "cell_type": "code",
   "execution_count": 105,
   "metadata": {
    "collapsed": true
   },
   "outputs": [],
   "source": [
    "def checkPrediction(X, Y, bdt):\n",
    "    from sklearn.metrics import mean_squared_error\n",
    "    \n",
    "    y_predicted = bdt.predict(X)\n",
    "    print(classification_report(Y, y_predicted, target_names=[\"background\", \"signal\"]))\n",
    "    print(\"Area under ROC curve: %.4f\"%(roc_auc_score(Y, bdt.decision_function(X)))) \n",
    "    print(\"MSE (Mean Square Error): %.4f\" % (mean_squared_error(Y, y_predicted)))\n",
    "    return"
   ]
  },
  {
   "cell_type": "code",
   "execution_count": 106,
   "metadata": {
    "collapsed": true
   },
   "outputs": [],
   "source": [
    "#confusion matrix\n",
    "\n",
    "def cmReport(CM):\n",
    "  \n",
    "    TN = CM[0][0]\n",
    "    FN = CM[1][0]\n",
    "    TP = CM[1][1]\n",
    "    FP = CM[0][1]\n",
    "\n",
    "\n",
    "    # Sensitivity, hit rate, recall, or true positive rate\n",
    "    TPR = TP/(TP+FN) # signal corrected identified/ (true signal+signal misidentified as background==total true signal)\n",
    "    # Specificity or true negative rate\n",
    "    TNR = TN/(TN+FP) # background correctly identified / (true background+background misidentified as signal==total true background)    \n",
    "    # Precision or positive predictive value\n",
    "    PPV = TP/(TP+FP) # signal corrected identified/ (true signal+background as signal ==total recognized signal)   \n",
    "    # Negative predictive value\n",
    "    NPV = TN/(TN+FN) # background corrected identified/ (true background+ signal as background ==total recognized background)\n",
    "    # Fall out or false positive rate\n",
    "    FPR = FP/(FP+TN) # misidentified background/total background\n",
    "\n",
    "    # False negative rate\n",
    "    FNR = FN/(TP+FN) # misidentified signal/total signal\n",
    "    # False discovery rate\n",
    "    FDR = FP/(TP+FP) # misidentified background/total recognized signal\n",
    "    # Overall accuracy\n",
    "    ACC = (TP+TN)/(TP+FP+FN+TN)\n",
    "\n",
    "    print('TP ' + str(TP) + ' FP '+ str(FP) +' TN ' + str(TN) + ' FN ' + str(FN))\n",
    "    print('Sensitivity, hit rate, recall, or true positive rate '+str(round(TPR, 2)))\n",
    "    print('Specificity or true negative rate '+str(round(TNR, 2)))\n",
    "    print('Precision or positive predictive value '+str(round(PPV, 2)))\n",
    "    print('Negative predictive value '+str(round(NPV, 2)))\n",
    "    print('Fall out or false positive rate '+str(round(FPR, 2)))    \n",
    "    print('False negative rate '+str(round(FNR, 2)))    \n",
    "    print('False discovery rate '+str(round(FDR, 2)))\n",
    "    print('overall accuracy '+str(round(ACC, 2)))\n",
    "    \n",
    "    return"
   ]
  },
  {
   "cell_type": "code",
   "execution_count": 107,
   "metadata": {
    "collapsed": false
   },
   "outputs": [],
   "source": [
    "def plotROC(bdt, X):\n",
    "    \n",
    "    from sklearn.metrics import roc_curve, auc\n",
    "\n",
    "    decisions = bdt.decision_function(X_test)\n",
    "    \n",
    "    # Compute ROC curve and area under the curve\n",
    "    fpr, tpr, thresholds = roc_curve(y_test, decisions)\n",
    "    roc_auc = auc(fpr, tpr)\n",
    "\n",
    "    plt.plot(fpr, tpr, lw=1, label='ROC (area = %0.2f)'%(roc_auc))\n",
    "\n",
    "    plt.plot([0, 1], [0, 1], '--', color=(0.6, 0.6, 0.6), label='Luck')\n",
    "    plt.xlim([-0.05, 1.05])\n",
    "    plt.ylim([-0.05, 1.05])\n",
    "    plt.xlabel('False Positive Rate (Background rejection)')\n",
    "    plt.ylabel('True Positive Rate (Signal efficiency)')\n",
    "    plt.title('Receiver operating characteristic')\n",
    "    plt.legend(loc=\"lower right\")\n",
    "    plt.grid()\n",
    "    plt.show()\n",
    "    \n",
    "    return"
   ]
  },
  {
   "cell_type": "code",
   "execution_count": 108,
   "metadata": {
    "collapsed": false
   },
   "outputs": [],
   "source": [
    "#Overtraining\n",
    "\n",
    "def compare_train_test(clf, X_train, y_train, X_test, y_test, bins=30):\n",
    "    decisions = []\n",
    "    for X,y in ((X_train, y_train), (X_test, y_test)):\n",
    "        d1 = clf.decision_function(X[y>0.5]).ravel()\n",
    "        d2 = clf.decision_function(X[y<0.5]).ravel()\n",
    "        decisions += [d1, d2]\n",
    "        \n",
    "    low = min(np.min(d) for d in decisions)\n",
    "    high = max(np.max(d) for d in decisions)\n",
    "    low_high = (low,high)\n",
    "    \n",
    "    plt.hist(decisions[0],\n",
    "             color='r', alpha=0.5, range=low_high, bins=bins,\n",
    "             histtype='stepfilled', normed=True,\n",
    "             label='S (train)')\n",
    "    plt.hist(decisions[1],\n",
    "             color='b', alpha=0.5, range=low_high, bins=bins,\n",
    "             histtype='stepfilled', normed=True,\n",
    "             label='B (train)')\n",
    "\n",
    "    hist, bins = np.histogram(decisions[2],\n",
    "                              bins=bins, range=low_high, normed=True)\n",
    "    scale = len(decisions[2]) / sum(hist)\n",
    "    err = np.sqrt(hist * scale) / scale\n",
    "    \n",
    "    width = (bins[1] - bins[0])\n",
    "    center = (bins[:-1] + bins[1:]) / 2\n",
    "    plt.errorbar(center, hist, yerr=err, fmt='o', c='r', label='S (test)')\n",
    "    \n",
    "    hist, bins = np.histogram(decisions[3],\n",
    "                              bins=bins, range=low_high, normed=True)\n",
    "    scale = len(decisions[2]) / sum(hist)\n",
    "    err = np.sqrt(hist * scale) / scale\n",
    "\n",
    "    plt.errorbar(center, hist, yerr=err, fmt='o', c='b', label='B (test)')\n",
    "\n",
    "    plt.xlabel(\"BDT output\")\n",
    "    plt.ylabel(\"Arbitrary units\")\n",
    "    plt.legend(loc='best')\n"
   ]
  },
  {
   "cell_type": "code",
   "execution_count": 109,
   "metadata": {
    "collapsed": false
   },
   "outputs": [],
   "source": [
    "#To test prediction in future\n",
    "\n",
    "#open files and check dataframes have same structure (i.e. number of columns)\n",
    "\n",
    "def getMLInputs(filename, df_X_ref):\n",
    "\n",
    "    df_X = pd.read_hdf(filename, 'X')\n",
    "    df_Y = pd.read_hdf(filename, 'Y')\n",
    "\n",
    "    #Match columns of df_X with reference df_X_ref     \n",
    "    idx_ref = df_X_ref.columns\n",
    "    idx = df_X.columns\n",
    "\n",
    "    #print('Before')\n",
    "    #display(df_X.shape)\n",
    "    #display(df_X_ref.shape)\n",
    "\n",
    "    #Return a new Index with elements from the idx that are not in idx_ref. -> They need to be removed\n",
    "    new = idx.difference(idx_ref)\n",
    "    df_X = df_X.drop(new, axis=1)\n",
    "\n",
    "    #print('Drop new columns')\n",
    "    #display(df_X.shape)\n",
    "\n",
    "    #add missing columns in new dataframe, they need to be added with 0\n",
    "    df_X = df_X.reindex(columns=idx_ref, fill_value=0)\n",
    "\n",
    "    #print('Add old columns and fill with 0')\n",
    "    #display(df_X.shape)\n",
    "    \n",
    "    #convert to np array\n",
    "    X = df_X.as_matrix().astype(np.float)\n",
    "    Y = df_Y.as_matrix().astype(np.float)\n",
    "\n",
    "    return X, Y"
   ]
  },
  {
   "cell_type": "markdown",
   "metadata": {},
   "source": [
    "## Methods: Decision Trees\n",
    "\n",
    "Training a [AdaBoost Decision Tree](//en.wikipedia.org/wiki/AdaBoost). \n",
    "After instantiating our [`AdaBoostClassifier`](//scikit-learn.org/stable/modules/generated/sklearn.ensemble.AdaBoostClassifier.html), call the `fit()` method with the training sample as an argument. The `fit()` method trains the tree and returns the trained classifier. When printed out all the hyper-parameters are listed."
   ]
  },
  {
   "cell_type": "code",
   "execution_count": 118,
   "metadata": {
    "collapsed": false
   },
   "outputs": [],
   "source": [
    "from sklearn.tree import DecisionTreeClassifier\n",
    "from sklearn.ensemble import AdaBoostClassifier\n",
    "from sklearn.metrics import classification_report, roc_auc_score\n",
    "\n",
    "dt = DecisionTreeClassifier(max_depth=8)\n",
    "\n",
    "bdt = AdaBoostClassifier(dt,\n",
    "                         algorithm='SAMME',\n",
    "                         n_estimators=10, #was 800\n",
    "                         learning_rate=0.5)\n",
    "\n",
    "bdt.fit(X_train, y_train)\n",
    "\n",
    "#save model\n",
    "pickle.dump(bdt, open(filename+'_bdt.sav', 'wb'))"
   ]
  },
  {
   "cell_type": "markdown",
   "metadata": {},
   "source": [
    "## Methods: Stochastic gradient descent (SGD)\n",
    "\n",
    "stochastic gradient descent (SGD)\n",
    "Observation: with default parameters, not good performances (~10% error on first week)"
   ]
  },
  {
   "cell_type": "code",
   "execution_count": 119,
   "metadata": {
    "collapsed": true
   },
   "outputs": [],
   "source": [
    "from sklearn import linear_model\n",
    "\n",
    "bdt = linear_model.SGDClassifier()\n",
    "bdt.fit(X_train, y_train)\n",
    "\n",
    "#save model\n",
    "pickle.dump(bdt, open(filename+'_sgd.sav', 'wb'))"
   ]
  },
  {
   "cell_type": "code",
   "execution_count": 120,
   "metadata": {
    "collapsed": false
   },
   "outputs": [],
   "source": [
    "bdt = pickle.load(open(filename+'_bdt.sav', 'rb'))"
   ]
  },
  {
   "cell_type": "markdown",
   "metadata": {},
   "source": [
    "## Check performances\n",
    "\n",
    "Using functions bdefined above"
   ]
  },
  {
   "cell_type": "code",
   "execution_count": 121,
   "metadata": {
    "collapsed": false
   },
   "outputs": [
    {
     "name": "stdout",
     "output_type": "stream",
     "text": [
      "             precision    recall  f1-score   support\n",
      "\n",
      " background       0.99      1.00      0.99      4964\n",
      "     signal       0.25      0.12      0.17        40\n",
      "\n",
      "avg / total       0.99      0.99      0.99      5004\n",
      "\n",
      "Area under ROC curve: 0.9247\n",
      "MSE (Mean Square Error): 0.0100\n"
     ]
    }
   ],
   "source": [
    "checkPrediction(X_test, y_test, bdt)"
   ]
  },
  {
   "cell_type": "markdown",
   "metadata": {},
   "source": [
    "The same performance metrics evaluated on the training set instead. You can see the estimates of the performance are more optimistic than on an unseen set of events."
   ]
  },
  {
   "cell_type": "code",
   "execution_count": 122,
   "metadata": {
    "collapsed": false
   },
   "outputs": [
    {
     "name": "stdout",
     "output_type": "stream",
     "text": [
      "             precision    recall  f1-score   support\n",
      "\n",
      " background       1.00      1.00      1.00     10067\n",
      "     signal       1.00      1.00      1.00        90\n",
      "\n",
      "avg / total       1.00      1.00      1.00     10157\n",
      "\n",
      "Area under ROC curve: 1.0000\n",
      "MSE (Mean Square Error): 0.0000\n"
     ]
    }
   ],
   "source": [
    "checkPrediction(X_train, y_train, bdt)"
   ]
  },
  {
   "cell_type": "code",
   "execution_count": 123,
   "metadata": {
    "collapsed": false
   },
   "outputs": [
    {
     "name": "stdout",
     "output_type": "stream",
     "text": [
      "TP 5 FP 15 TN 4949 FN 35\n",
      "Sensitivity, hit rate, recall, or true positive rate 0.12\n",
      "Specificity or true negative rate 1.0\n",
      "Precision or positive predictive value 0.25\n",
      "Negative predictive value 0.99\n",
      "Fall out or false positive rate 0.0\n",
      "False negative rate 0.88\n",
      "False discovery rate 0.75\n",
      "overall accuracy 0.99\n"
     ]
    }
   ],
   "source": [
    "#Look at confusion matrix\n",
    "#TN|FP - background OK - background as signal\n",
    "#FN|TP - signal as background - signal OK\n",
    "from sklearn.metrics import confusion_matrix\n",
    "\n",
    "CM = confusion_matrix(y_test, bdt.predict(X_test))\n",
    "#display(CM)\n",
    "cmReport(CM)"
   ]
  },
  {
   "cell_type": "code",
   "execution_count": 124,
   "metadata": {
    "collapsed": false
   },
   "outputs": [
    {
     "data": {
      "image/png": "[encoded data removed]",
      "text/plain": [
       "<matplotlib.figure.Figure at 0x7f40f8730be0>"
      ]
     },
     "metadata": {},
     "output_type": "display_data"
    }
   ],
   "source": [
    "#look at ROC curve\n",
    "plotROC(bdt, X_test)"
   ]
  },
  {
   "cell_type": "code",
   "execution_count": 125,
   "metadata": {
    "collapsed": false
   },
   "outputs": [
    {
     "data": {
      "image/png": "[encoded data removed]",
      "text/plain": [
       "<matplotlib.figure.Figure at 0x7f41074d90b8>"
      ]
     },
     "metadata": {},
     "output_type": "display_data"
    }
   ],
   "source": [
    "nmax = 10 # maximum number of features\n",
    "feature_importance = bdt.feature_importances_\n",
    "# make importances relative to max importance\n",
    "feature_importance = 100.0 * (feature_importance / feature_importance.max())\n",
    "sorted_idx = np.argsort(feature_importance)\n",
    "sorted_idx_first = sorted_idx[-nmax:]\n",
    "#display(sorted_idx_first)\n",
    "pos = np.arange(sorted_idx_first.shape[0]) + .5\n",
    "\n",
    "plt.figure(figsize=(15,5))\n",
    "plt.subplot(1, 2, 2)\n",
    "\n",
    "features = list(df_X)\n",
    "y_ticks = sorted(zip(features, sorted_idx))\n",
    "#display(features)\n",
    "\n",
    "plt.barh(pos, feature_importance[sorted_idx_first], align='center')\n",
    "plt.yticks(pos, y_ticks[-nmax:])\n",
    "plt.xlabel('Relative Importance')\n",
    "plt.title('Variable Importance')\n",
    "plt.show()"
   ]
  },
  {
   "cell_type": "markdown",
   "metadata": {},
   "source": [
    "## Overtraining Check\n",
    "\n",
    "Comparing the BDT's output distribution for the training and testing set."
   ]
  },
  {
   "cell_type": "code",
   "execution_count": 126,
   "metadata": {
    "collapsed": false
   },
   "outputs": [
    {
     "data": {
      "image/png": "[encoded data removed]",
      "text/plain": [
       "<matplotlib.figure.Figure at 0x7f4107445d30>"
      ]
     },
     "metadata": {},
     "output_type": "display_data"
    }
   ],
   "source": [
    "compare_train_test(bdt, X_train, y_train, X_test, y_test)"
   ]
  },
  {
   "cell_type": "markdown",
   "metadata": {},
   "source": [
    "## Testing prediction power in the future\n",
    "\n",
    "How well does it work in 1, 2, or n weeks?"
   ]
  },
  {
   "cell_type": "markdown",
   "metadata": {},
   "source": [
    "## Simple model"
   ]
  },
  {
   "cell_type": "code",
   "execution_count": 127,
   "metadata": {
    "collapsed": false
   },
   "outputs": [
    {
     "name": "stdout",
     "output_type": "stream",
     "text": [
      "\n",
      " Prediction starting from 2017-02-17\n",
      "             precision    recall  f1-score   support\n",
      "\n",
      " background       0.99      1.00      1.00     30048\n",
      "     signal       0.69      0.40      0.50       273\n",
      "\n",
      "avg / total       0.99      0.99      0.99     30321\n",
      "\n",
      "Area under ROC curve: 0.9228\n",
      "MSE (Mean Square Error): 0.0071\n",
      "\n",
      " Prediction starting from 2017-02-24\n",
      "             precision    recall  f1-score   support\n",
      "\n",
      " background       0.99      0.99      0.99     31086\n",
      "     signal       0.08      0.09      0.09       180\n",
      "\n",
      "avg / total       0.99      0.99      0.99     31266\n",
      "\n",
      "Area under ROC curve: 0.8898\n",
      "MSE (Mean Square Error): 0.0108\n",
      "\n",
      " Prediction starting from 2017-03-03\n",
      "             precision    recall  f1-score   support\n",
      "\n",
      " background       0.99      1.00      1.00     26514\n",
      "     signal       0.30      0.21      0.25       183\n",
      "\n",
      "avg / total       0.99      0.99      0.99     26697\n",
      "\n",
      "Area under ROC curve: 0.8758\n",
      "MSE (Mean Square Error): 0.0088\n",
      "\n",
      " Prediction starting from 2017-03-10\n",
      "             precision    recall  f1-score   support\n",
      "\n",
      " background       1.00      0.99      1.00     25257\n",
      "     signal       0.09      0.26      0.13        47\n",
      "\n",
      "avg / total       1.00      0.99      1.00     25304\n",
      "\n",
      "Area under ROC curve: 0.8161\n",
      "MSE (Mean Square Error): 0.0064\n"
     ]
    }
   ],
   "source": [
    "#weekly measurement\n",
    "start = datetime.date(2017, 2, 17)         # measurement: starting date\n",
    "time_meas = 7                              # popularity measurement: # of days\n",
    "time_pred = 7                              # popularity prediction: # of days    \n",
    "\n",
    "#CMS\n",
    "#start = datetime.date(2016, 5, 15)         # measurement: starting date\n",
    "#time_meas = 26*7                           # popularity measurement: # of days\n",
    "#time_pred = 7                              # popularity prediction: # of days \n",
    "\n",
    "#make dataframes for 7 weeks\n",
    "for x in range(0, 4):\n",
    "\n",
    "    st = start+x*datetime.timedelta(days=7)\n",
    "    print('\\n Prediction starting from '+str(st))    \n",
    "    filename = 'DataPopularity_ML/simpleModel_start_'+str(st)+'_meas_'+str(time_meas)+'_pred_'+str(time_pred)+'.h5'\n",
    "    X_future, Y_future = getMLInputs(filename, df_X)\n",
    "    checkPrediction(X_future, Y_future, bdt)"
   ]
  },
  {
   "cell_type": "markdown",
   "metadata": {},
   "source": [
    "## Cross-validation\n",
    "\n",
    "In the process of choosing your classifier and setting its hyper-parameters you\n",
    "normally use a training and testing set of events. However if you want to optimise\n",
    "your hyper-parameters you run the risk of over-fitting your test set by changing\n",
    "the hyper-parameters until you find the set which performs best on the testing set.\n",
    "\n",
    "Cross-validation (CV) offers a way out! In its most basic form it is called\n",
    "_k-fold_ CV. You split your development set into $k$ samples. Then use $k-1$ \n",
    "of the sub-samples for training and the other sample for testing. For example\n",
    "if you split your development set into three parts (0, 1, 2) you would get\n",
    "three estimates of the classifier's performance:\n",
    "\n",
    "* train on 0, 1 and evaluate on 2\n",
    "* train on 1, 2 and evaluate on 0\n",
    "* train on 0, 2 and evaluate on 1\n",
    "\n",
    "Then average the performance measure from each of the iterations, this is what\n",
    "you end up reporting. It also allows you to compute the standard deviation of\n",
    "your performance metric, so you get an uncertainty as well.\n",
    "\n",
    "The scikit-learn documentation has a nice guide on [Cross-validation: evaluating estimator performance](//scikit-learn.org/stable/modules/cross_validation.html).\n",
    "\n",
    "The simplest way to use CV in `scikit-learn` is the `cross_val_score`\n",
    "function:"
   ]
  },
  {
   "cell_type": "code",
   "execution_count": 128,
   "metadata": {
    "collapsed": false
   },
   "outputs": [],
   "source": [
    "from sklearn.model_selection import cross_val_score\n",
    "\n",
    "scores = cross_val_score(bdt,\n",
    "                         X_dev, y_dev,\n",
    "                         scoring = \"roc_auc\",\n",
    "                         n_jobs = 6,\n",
    "                         cv = 3)"
   ]
  },
  {
   "cell_type": "code",
   "execution_count": 129,
   "metadata": {
    "collapsed": false
   },
   "outputs": [
    {
     "name": "stdout",
     "output_type": "stream",
     "text": [
      "Accuracy: 0.87697 (+/- 0.02343)\n"
     ]
    }
   ],
   "source": [
    "print(\"Accuracy: %0.5f (+/- %0.5f)\"%(scores.mean(), scores.std()))"
   ]
  },
  {
   "cell_type": "markdown",
   "metadata": {},
   "source": [
    "## Optimising Hyper-parameters\n",
    "\n",
    "Each machine learning technique has a set of parameters which are not learnt from the training data. For example the number of trees in your ensemble of decision trees, or how deep each tree should be. These are called hyper-parameters. The best value for each of them depends on the particular learning problem you are trying to solve. Therefore it makes sense to try and find the best set of hyper-parameters\n",
    "\n",
    "Once you are familiar with CV you will want to use it to find the best set of hyper-parameters for your learning problem. The easiest way to do that is to perform a [grid search](//scikit-learn.org/stable/modules/grid_search.html) over the parameter space. In `scikit-learn` this functionality is provided by `GridSearchCV`:"
   ]
  },
  {
   "cell_type": "code",
   "execution_count": 130,
   "metadata": {
    "collapsed": false
   },
   "outputs": [],
   "source": [
    "from sklearn.model_selection import GridSearchCV\n",
    "\n",
    "# Perform grid search over all combinations of these hyper-parameters\n",
    "param_grid = {#\"n_estimators\": [50,200,400,1000], #takes forever\n",
    "              'base_estimator__max_depth':[1,3,5], #\"max_depth\": [1, 3, 8],\n",
    "              'learning_rate': [0.1, 0.5, 1.]}\n",
    "\n",
    "clf = GridSearchCV(bdt,\n",
    "                param_grid,\n",
    "                cv=3,\n",
    "                scoring='roc_auc',\n",
    "                n_jobs=8)\n",
    "\n",
    "_ = clf.fit(X_dev, y_dev)"
   ]
  },
  {
   "cell_type": "code",
   "execution_count": 131,
   "metadata": {
    "collapsed": true
   },
   "outputs": [],
   "source": [
    "# Utility function to report best scores\n",
    "def report(results, n_top=5):\n",
    "    for i in range(1, n_top + 1):\n",
    "        candidates = np.flatnonzero(results['rank_test_score'] == i)\n",
    "        for candidate in candidates:\n",
    "            print(\"Model with rank: {0}\".format(i))\n",
    "            print(\"Mean validation score: {0:.3f} (std: {1:.3f})\".format(\n",
    "                  results['mean_test_score'][candidate],\n",
    "                  results['std_test_score'][candidate]))\n",
    "            print(\"Parameters: {0}\".format(results['params'][candidate]))\n",
    "            print(\"\")"
   ]
  },
  {
   "cell_type": "code",
   "execution_count": 132,
   "metadata": {
    "collapsed": false
   },
   "outputs": [
    {
     "name": "stdout",
     "output_type": "stream",
     "text": [
      "Model with rank: 1\n",
      "Mean validation score: 0.932 (std: 0.018)\n",
      "Parameters: {'learning_rate': 0.5, 'base_estimator__max_depth': 3}\n",
      "\n",
      "Model with rank: 2\n",
      "Mean validation score: 0.931 (std: 0.030)\n",
      "Parameters: {'learning_rate': 1.0, 'base_estimator__max_depth': 3}\n",
      "\n",
      "Model with rank: 3\n",
      "Mean validation score: 0.930 (std: 0.019)\n",
      "Parameters: {'learning_rate': 0.5, 'base_estimator__max_depth': 5}\n",
      "\n",
      "Model with rank: 4\n",
      "Mean validation score: 0.923 (std: 0.003)\n",
      "Parameters: {'learning_rate': 1.0, 'base_estimator__max_depth': 5}\n",
      "\n",
      "Model with rank: 5\n",
      "Mean validation score: 0.918 (std: 0.015)\n",
      "Parameters: {'learning_rate': 1.0, 'base_estimator__max_depth': 1}\n",
      "\n"
     ]
    }
   ],
   "source": [
    "report(clf.cv_results_)"
   ]
  },
  {
   "cell_type": "markdown",
   "metadata": {},
   "source": [
    "For a large number of hyper-parameter combinations it will take a long time to evaluate them all. [`RandomizedSearchCV`](//scikit-learn.org/stable/modules/grid_search.html#randomized-parameter-optimization) samples from distributions of the hyper-parameters and evaluates random points. This can be quicker."
   ]
  },
  {
   "cell_type": "code",
   "execution_count": 133,
   "metadata": {
    "collapsed": false
   },
   "outputs": [],
   "source": [
    "from sklearn.model_selection import RandomizedSearchCV\n",
    "from scipy.stats import randint as sp_randint\n",
    "\n",
    "# Perform random search over all combinations of these hyper-parameters\n",
    "param_grid = {\"n_estimators\": sp_randint(1, 11),\n",
    "              'base_estimator__max_depth':sp_randint(1, 11), \n",
    "              #'learning_rate': sp_randint(0.2, 1)\n",
    "             }\n",
    "\n",
    "# run randomized search\n",
    "n_iter_search = 20\n",
    "\n",
    "rnd = RandomizedSearchCV(bdt, param_grid, n_iter=n_iter_search)\n",
    "_ = rnd.fit(X_dev, y_dev)"
   ]
  },
  {
   "cell_type": "code",
   "execution_count": 134,
   "metadata": {
    "collapsed": false
   },
   "outputs": [
    {
     "name": "stdout",
     "output_type": "stream",
     "text": [
      "Model with rank: 1\n",
      "Mean validation score: 0.991 (std: 0.000)\n",
      "Parameters: {'n_estimators': 5, 'base_estimator__max_depth': 1}\n",
      "\n",
      "Model with rank: 1\n",
      "Mean validation score: 0.991 (std: 0.000)\n",
      "Parameters: {'n_estimators': 4, 'base_estimator__max_depth': 1}\n",
      "\n",
      "Model with rank: 3\n",
      "Mean validation score: 0.990 (std: 0.000)\n",
      "Parameters: {'n_estimators': 9, 'base_estimator__max_depth': 2}\n",
      "\n",
      "Model with rank: 3\n",
      "Mean validation score: 0.990 (std: 0.000)\n",
      "Parameters: {'n_estimators': 1, 'base_estimator__max_depth': 2}\n",
      "\n",
      "Model with rank: 5\n",
      "Mean validation score: 0.990 (std: 0.001)\n",
      "Parameters: {'n_estimators': 4, 'base_estimator__max_depth': 2}\n",
      "\n"
     ]
    }
   ],
   "source": [
    "report(rnd.cv_results_)"
   ]
  },
  {
   "cell_type": "markdown",
   "metadata": {},
   "source": [
    "## Validation curves\n",
    "\n",
    "Another useful tool for picking your final model are validation curves. It can help you answer the question: should my model be more complex?\n",
    "\n",
    "A larger number of boosting iterations usually means a more complex classifier. We can evaluate the performance of our classifier after each boosting iteration and compare the training and testing score.\n",
    "\n",
    "In order to visualise the small changes in the score as we get to higher boosting iterations we plot 1-score. This means that smaller is better.\n",
    "\n",
    "To illustrate how differently the same type of classifier can behave for different hyper-parameters we will train four different ones varying the `max_depth` and `learning_rate` parameter."
   ]
  },
  {
   "cell_type": "code",
   "execution_count": 135,
   "metadata": {
    "collapsed": true
   },
   "outputs": [],
   "source": [
    "# Split development set into a train and test sample\n",
    "X_train,X_test, y_train,y_test = train_test_split(X_dev, y_dev, test_size=0.33, random_state=4685)\n",
    "\n",
    "bdts = []\n",
    "params = ((1.,4), (1.,8),\n",
    "          (0.2,4), (0.2,8))\n",
    "\n",
    "for learn,depth in params:\n",
    "    dt = DecisionTreeClassifier(max_depth=depth)\n",
    "    gbt_bdt = AdaBoostClassifier(dt,\n",
    "                         algorithm='SAMME',\n",
    "                         n_estimators=6, #was 800\n",
    "                         learning_rate=learn)\n",
    "\n",
    "    gbt_bdt.fit(X_train, y_train)\n",
    "    bdts.append(gbt_bdt)"
   ]
  },
  {
   "cell_type": "markdown",
   "metadata": {},
   "source": [
    "The `validation_curve` function will plot the area under the ROC after each boosting iteration for each of the classifiers. The solid line shows the performance on the testing sample and the dashed line shows the performance on the training sample.\n",
    "\n",
    "In almost all cases the performance on the training sample keeps improving as we increase the number of boosting iterations."
   ]
  },
  {
   "cell_type": "code",
   "execution_count": 136,
   "metadata": {
    "collapsed": true
   },
   "outputs": [],
   "source": [
    "def validation_curve(bdts, train, test):\n",
    "    X_test, y_test = test\n",
    "    X_train, y_train = train\n",
    "    \n",
    "    for n,clf in enumerate(bdts):\n",
    "        test_score = np.empty(len(clf.estimators_))\n",
    "        train_score = np.empty(len(clf.estimators_))\n",
    "\n",
    "        for i, pred in enumerate(clf.staged_decision_function(X_test)):\n",
    "            test_score[i] = 1-roc_auc_score(y_test, pred)\n",
    "\n",
    "        for i, pred in enumerate(clf.staged_decision_function(X_train)):\n",
    "            train_score[i] = 1-roc_auc_score(y_train, pred)\n",
    "\n",
    "        best_iter = np.argmin(test_score)\n",
    "        learn = clf.get_params()['learning_rate']\n",
    "        depth = clf.get_params()['base_estimator__max_depth']\n",
    "        test_line = plt.plot(test_score,\n",
    "                             label='learn=%.1f depth=%i (%.2f)'%(learn,depth,\n",
    "                                                                 test_score[best_iter]))\n",
    "\n",
    "        colour = test_line[-1].get_color()\n",
    "        plt.plot(train_score, '--', color=colour)\n",
    "        \n",
    "        plt.xlabel(\"Number of boosting iterations\")\n",
    "        plt.ylabel(\"1 - area under ROC\")\n",
    "        plt.axvline(x=best_iter, color=colour)\n",
    "        \n",
    "    plt.legend(loc='best')"
   ]
  },
  {
   "cell_type": "code",
   "execution_count": 137,
   "metadata": {
    "collapsed": false
   },
   "outputs": [
    {
     "data": {
      "image/png": "[encoded data removed]",
      "text/plain": [
       "<matplotlib.figure.Figure at 0x7f40f8ab49e8>"
      ]
     },
     "metadata": {},
     "output_type": "display_data"
    }
   ],
   "source": [
    "validation_curve(bdts,\n",
    "                 (X_train,y_train),\n",
    "                 (X_test,y_test))"
   ]
  },
  {
   "cell_type": "markdown",
   "metadata": {},
   "source": [
    "## Learning curves\n",
    "\n",
    "To answer the question of whether more training events would improve the performance we can evaluate the performance of a classifier when trained on a increasingly larger fraction of the test set. Broadly speaking, if the train and test score have plateaued/converged there is not much to be gained by adding more training examples. If the training error stays somewhat constant with training size and there is a large gap to the testing score, then there might be gains to be made by increasing the number of training events."
   ]
  },
  {
   "cell_type": "code",
   "execution_count": 138,
   "metadata": {
    "collapsed": false
   },
   "outputs": [],
   "source": [
    "from sklearn.model_selection import learning_curve\n",
    "\n",
    "# Taken more or less straight from\n",
    "# http://scikit-learn.org/stable/auto_examples/plot_learning_curve.html\n",
    "def plot_learning_curve(estimator, title, X, y, cv=None,\n",
    "                        n_jobs=1, train_sizes=np.linspace(.1, 1.0, 5),\n",
    "                        scoring=None, ax=None, xlabel=True):\n",
    "    if ax is None:\n",
    "        plt.figure()\n",
    "        ax.title(title)\n",
    "    \n",
    "    if xlabel:\n",
    "        ax.set_xlabel(\"Training examples\")\n",
    "        \n",
    "    ax.set_ylabel(\"Score\")\n",
    "    train_sizes, train_scores, test_scores = learning_curve(estimator,\n",
    "                                                            X, y,\n",
    "                                                            cv=cv,\n",
    "                                                            n_jobs=n_jobs,\n",
    "                                                            train_sizes=train_sizes,\n",
    "                                                            scoring=scoring)\n",
    "    train_scores_mean = np.mean(train_scores, axis=1)\n",
    "    train_scores_std = np.std(train_scores, axis=1)\n",
    "    test_scores_mean = np.mean(test_scores, axis=1)\n",
    "    test_scores_std = np.std(test_scores, axis=1)\n",
    "\n",
    "    ax.fill_between(train_sizes, train_scores_mean - train_scores_std,\n",
    "                     train_scores_mean + train_scores_std, alpha=0.1,\n",
    "                     color=\"r\")\n",
    "    ax.fill_between(train_sizes, test_scores_mean - test_scores_std,\n",
    "                     test_scores_mean + test_scores_std, alpha=0.1, color=\"g\")\n",
    "    ax.plot(train_sizes, train_scores_mean, 'o-', color=\"r\",\n",
    "             label=\"Training score\")\n",
    "    ax.plot(train_sizes, test_scores_mean, 'o-', color=\"g\",\n",
    "             label=\"Cross-validation score\")\n",
    "\n",
    "    ax.set_ylim([0.65, 1.0])\n",
    "    return plt\n"
   ]
  },
  {
   "cell_type": "code",
   "execution_count": 139,
   "metadata": {
    "collapsed": false
   },
   "outputs": [
    {
     "data": {
      "text/plain": [
       "<matplotlib.text.Text at 0x7f40f8ad9f98>"
      ]
     },
     "execution_count": 139,
     "metadata": {},
     "output_type": "execute_result"
    },
    {
     "data": {
      "text/plain": [
       "<matplotlib.figure.Figure at 0x7f410730b438>"
      ]
     },
     "metadata": {},
     "output_type": "display_data"
    },
    {
     "data": {
      "image/png": "[encoded data removed]",
      "text/plain": [
       "<matplotlib.figure.Figure at 0x7f40f8ac00b8>"
      ]
     },
     "metadata": {},
     "output_type": "display_data"
    }
   ],
   "source": [
    "classifiers = [bdts[0], bdts[1], bdts[2], bdts[3]]\n",
    "\n",
    "plt.figure(figsize=(40,40))\n",
    "fig, axes = plt.subplots(nrows=len(classifiers), sharex=True)\n",
    "\n",
    "for clf, ax in zip(classifiers, axes):  \n",
    "    plot_learning_curve(clf,\n",
    "                        \"Learning curves\",\n",
    "                        X_dev, y_dev,\n",
    "                        scoring='roc_auc',\n",
    "                        n_jobs=7, cv=4,\n",
    "                        ax=ax, xlabel=False)\n",
    "    \n",
    "axes[0].legend(loc=\"best\")\n",
    "axes[-1].set_xlabel(\"Training examples\")"
   ]
  }
 ],
 "metadata": {
  "kernelspec": {
   "display_name": "Python 3",
   "language": "python",
   "name": "python3"
  },
  "language_info": {
   "codemirror_mode": {
    "name": "ipython",
    "version": 3
   },
   "file_extension": ".py",
   "mimetype": "text/x-python",
   "name": "python",
   "nbconvert_exporter": "python",
   "pygments_lexer": "ipython3",
   "version": "3.5.1"
  }
 },
 "nbformat": 4,
 "nbformat_minor": 0
}
