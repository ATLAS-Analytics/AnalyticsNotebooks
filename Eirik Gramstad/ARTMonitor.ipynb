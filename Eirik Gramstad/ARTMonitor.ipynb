{
 "cells": [
  {
   "cell_type": "code",
   "execution_count": 32,
   "metadata": {
    "collapsed": true
   },
   "outputs": [],
   "source": [
    "#These lines set up inline plotting, and apply a standard size\n",
    "%matplotlib inline\n",
    "import matplotlib\n",
    "matplotlib.rc('font', **{'size': 22})\n",
    "# Standard includes\n",
    "import datetime\n",
    "import re\n",
    "import os\n",
    "import json\n",
    "from elasticsearch import Elasticsearch\n",
    "from elasticsearch.helpers import scan\n",
    "import matplotlib.pyplot as plt\n",
    "from time import time\n",
    "import timeit\n",
    "import numpy as np\n",
    "import pandas as pd\n",
    "from datetime import datetime, timedelta\n",
    "from matplotlib.dates import DateFormatter\n",
    "from matplotlib.dates import HourLocator"
   ]
  },
  {
   "cell_type": "code",
   "execution_count": 33,
   "metadata": {
    "collapsed": true
   },
   "outputs": [],
   "source": [
    "infilesizes = {}\n",
    "if os.path.isfile(\"ART_filesizes.txt\"):\n",
    "    lines = [line.strip('\\n') for line in open(\"ART_filesizes.txt\")]\n",
    "    for l in lines:\n",
    "        infilesizes[l.split(',')[0]] = l.split(',')[1]\n",
    "\n",
    "if not 'mcFileBPHY8' in infilesizes.keys(): infilesizes['mcFileBPHY8'] = os.path.getsize(\"/cvmfs/atlas-nightlies.cern.ch/repo/data/data-art/DerivationFrameworkART/AOD.11705353._000001.pool.root.1\")\n",
    "if not 'mcFileEXOT23' in infilesizes.keys():infilesizes['mcFileEXOT23'] = os.path.getsize(\"/cvmfs/atlas-nightlies.cern.ch/repo/data/data-art/DerivationFrameworkART/user.ctreado.11717804.EXT0._000056.DAOD_RPVLL.pool.root\")\n",
    "if not 'mcFile' in infilesizes.keys():infilesizes['mcFile'] = os.path.getsize(\"/cvmfs/atlas-nightlies.cern.ch/repo/data/data-art/DerivationFrameworkART/AOD.12169019._004055.pool.root.1\")\n",
    "#if not 'dataFile' in infilesizes.keys():infilesizes['dataFile'] = os.path.getsize(\"/cvmfs/atlas-nightlies.cern.ch/repo/data/data-art/DerivationFrameworkART/AOD.12818484._004694.pool.root.1\")\n",
    "if not 'dataFile' in infilesizes.keys(): infilesizes['dataFile'] = os.path.getsize(\"/cvmfs/atlas-nightlies.cern.ch/repo/data/data-art/DerivationFrameworkART/data18_13TeV.00348403.physics_Main.merge.AOD.f920_m1947._lb0829._0001.1\")\n",
    "if not 'dataFileEXOT23' in infilesizes.keys():infilesizes['dataFileEXOT23'] = os.path.getsize(\"/cvmfs/atlas-nightlies.cern.ch/repo/data/data-art/DerivationFrameworkART/DAOD_RPVLL.09788089._000056.pool.root.1\")\n",
    "if not 'dataFileDelayed' in infilesizes.keys():infilesizes['dataFileDelayed'] = os.path.getsize(\"/cvmfs/atlas-nightlies.cern.ch/repo/data/data-art/DerivationFrameworkART/AOD.11270451._000007.pool.root.1\")\n",
    "if not 'dataFileBLS' in infilesizes.keys():infilesizes['dataFileBLS'] = os.path.getsize(\"/cvmfs/atlas-nightlies.cern.ch/repo/data/data-art/DerivationFrameworkART/data17_13TeV.00337491.physics_BphysLS.merge.AOD.f873_m1885._lb0100._0001.1\")\n",
    "if not 'heavyIonFile' in infilesizes.keys():infilesizes['heavyIonFile'] = os.path.getsize(\"/cvmfs/atlas-nightlies.cern.ch/repo/data/data-art/DerivationFrameworkART/data17_hi.00338037.physics_MinBias.merge.AOD.f900_m1912._lb0292._0009.1\")\n",
    "if not 'truthFile' in infilesizes.keys():infilesizes['truthFile'] = os.path.getsize(\"/cvmfs/atlas-nightlies.cern.ch/repo/data/data-art/DerivationFrameworkART/EVNT.05192704._020091.pool.root.1\")\n",
    "    \n",
    "infile = open(\"ART_filesizes.txt\",\"w\")\n",
    "for key in infilesizes.keys():\n",
    "    infile.write(\"%s,%i\\n\"%(key,int(infilesizes[key])))\n",
    "infile.close()"
   ]
  },
  {
   "cell_type": "code",
   "execution_count": 34,
   "metadata": {
    "collapsed": true
   },
   "outputs": [],
   "source": [
    "def getFormat(deriv):\n",
    "    format = ''.join([i for i in deriv if not i.isdigit()])\n",
    "    if \"_\" in format: format = format.split(\"_\")[-1]\n",
    "    return format"
   ]
  },
  {
   "cell_type": "code",
   "execution_count": 35,
   "metadata": {
    "collapsed": true
   },
   "outputs": [],
   "source": [
    "def parseARTsetupfile(dic,date_str,vb=0):\n",
    "    trains = {}\n",
    "    for key in dic.keys():\n",
    "        if vb: print(\"KEY = \",key)\n",
    "        ln = key\n",
    "        if vb: print(\"ln \",ln)\n",
    "        if \".sh\" in ln:\n",
    "            sp = (ln.split(\".\")[0]).split(\"_\")\n",
    "            if vb: print(\"here\",ln)\n",
    "            if \"DELAYED\" in sp[1] or \"BPHYSLS\" in sp[1]:\n",
    "                regexp = re.search('(\\D{7})(\\D{4,}\\d{1,2})', sp[1])\n",
    "                formatOne = regexp.group(2)\n",
    "                scope     = regexp.group(1)\n",
    "            else:\n",
    "                regexp = re.search('(\\D{2,4}\\d{2})(\\D{4,}.*)', sp[1])\n",
    "                try:\n",
    "                    formatOne = regexp.group(2)\n",
    "                    scope     = regexp.group(1)\n",
    "                except:\n",
    "                    print(\"WARNING \\t Could not find train or scope for %s\" %ln)\n",
    "                    continue\n",
    "            train = \" \".join([formatOne] + sp[2:])\n",
    "            if vb: print(\"1\",train)\n",
    "            if len(dic[key][date_str]['jobs']) > 1:\n",
    "                print(\"ERROR \\t More than one job!\")\n",
    "            jobid  = dic[key][date_str]['jobs'][0]['origpandaid']#.keys())[0]\n",
    "            if vb: print(\"jobid\",jobid)\n",
    "            status = dic[key][date_str]['jobs'][0]['jobstatus']\n",
    "            if vb: print(\"status\",status)\n",
    "            if not jobid in trains.keys():\n",
    "                trains[jobid] = {\"scope\":scope,\"status\":status,\"cars\":train}\n",
    "    if vb: print(\"Return\",trains)\n",
    "    return trains\n",
    "    "
   ]
  },
  {
   "cell_type": "code",
   "execution_count": 36,
   "metadata": {
    "collapsed": true
   },
   "outputs": [],
   "source": [
    "def readJSONfile(jsonfilename,date_str,vb=0):\n",
    "    with open(jsonfilename, 'r') as f:\n",
    "         data = json.load(f)\n",
    "    try:\n",
    "        trains = parseARTsetupfile(data[\"artjobs\"][\"DerivationFrameworkART\"][\"21.2/AthDerivation/x86_64-slc6-gcc62-opt\"],date_str)   \n",
    "    except:\n",
    "        print(\"Problem decoding \",data)\n",
    "        return 0\n",
    "    return trains"
   ]
  },
  {
   "cell_type": "code",
   "execution_count": 37,
   "metadata": {
    "collapsed": true
   },
   "outputs": [],
   "source": [
    "def readCURLfile(curlfilename, vb = 0):\n",
    "    lines  = [line.strip() for line in open(curlfilename)]\n",
    "    trains = {}\n",
    "    for i in range(len(lines)):\n",
    "        #print(lines[i])\n",
    "        ln = lines[i].strip()\n",
    "        if \".sh\" in ln: \n",
    "            sp = (ln.split(\".\")[0]).split(\"_\")\n",
    "            print(\"here\",ln)\n",
    "            if \"DELAYED\" in sp[1] or \"BPHYSLS\" in sp[1]:\n",
    "                regexp = re.search('(\\D{7})(\\D{4,}\\d{1,2})', sp[1])\n",
    "                formatOne = regexp.group(2)\n",
    "                scope     = regexp.group(1)\n",
    "            else:\n",
    "                regexp = re.search('(\\D{2,4}\\d{2})(\\D{4,}.*)', sp[1])\n",
    "                try:\n",
    "                    formatOne = regexp.group(2)\n",
    "                    scope     = regexp.group(1)\n",
    "                except:\n",
    "                    print(\"WARNING \\t Could not find train or scope for %s\" %ln)\n",
    "                    continue\n",
    "            train = \" \".join([formatOne] + sp[2:])\n",
    "            if vb: print(train)\n",
    "            j = i+1\n",
    "            while \".sh\" not in lines[j] and j < (len(lines)-1):\n",
    "                #print(lines[j])\n",
    "                if \"_job\" in lines[j]:\n",
    "                    try:\n",
    "                        status = re.search('.*_job\\\">\\s*(\\w*)\\s*</div>', lines[j]).group(1)\n",
    "                        if vb: print(status)\n",
    "                        #trains[train][scope][\"status\"] = status\n",
    "                    except:\n",
    "                        print(\"WARNING \\t Could not find status of line %s\" %line[j])\n",
    "                        continue\n",
    "                if \"pandaid\" in lines[j]:\n",
    "                    try:\n",
    "                        jobid = re.search('.*pandaid=(\\d{10})\\\">\\d{10}</a>', lines[j]).group(1)\n",
    "                        if vb: print(jobid)\n",
    "                        #trains[train][scope][\"jobid\"] = jobid\n",
    "                    except:\n",
    "                        print(\"WARNING \\t Could not find jobid of line %s\" %lines[j])\n",
    "                        continue\n",
    "                j += 1\n",
    "                \n",
    "            if not jobid in trains.keys():\n",
    "                trains[jobid] = {\"scope\":scope,\"status\":status,\"cars\":train}\n",
    "\n",
    "\n",
    "    return trains"
   ]
  },
  {
   "cell_type": "code",
   "execution_count": 38,
   "metadata": {
    "collapsed": true
   },
   "outputs": [],
   "source": [
    "def sortTwoNParrays(array1, array2):\n",
    "    evfrac_sorted  = np.empty((0))\n",
    "    formats_sorted = np.empty((0))\n",
    "    while array1.shape[0] > 0:\n",
    "        i = 0\n",
    "        max_ef = -9999\n",
    "        max_id = -9999\n",
    "        for ef in np.nditer(array1):\n",
    "            if ef > max_ef:\n",
    "                max_ef = ef\n",
    "                max_id = i\n",
    "            i += 1\n",
    "        evfrac_sorted = np.append(evfrac_sorted,[max_ef],axis=0)\n",
    "        formats_sorted = np.append(formats_sorted,[formats[max_id]],axis=0)\n",
    "        array1 = np.delete(array1,max_id,0)\n",
    "        array2 = np.delete(array2,max_id,0)\n",
    "    return evfrac_sorted, formats_sorted"
   ]
  },
  {
   "cell_type": "code",
   "execution_count": 39,
   "metadata": {
    "collapsed": true
   },
   "outputs": [],
   "source": [
    "#today = datetime.today() - timedelta(days=31)\n",
    "## need date on format yyyy-mm-dd\n",
    "#date_str = today.strftime('%Y-%m-%d')\n",
    "#print(\"Looking at ART tests from %s\" %date_str)\n",
    "#cmd = \"curl --silent -k -b bigpanda.cookie.txt -H \\'Accept: application/json\\' -H \\'Content-Type: application/json\\' \\\"https://bigpanda.cern.ch/art/jobs/?package=DerivationFrameworkART&branch=21.2/x86_64-slc6-gcc62-opt/AthDerivation&ntag=%s&view=packages&json\\\" &> ut.txt\" %(date_str)\n",
    "#os.system(cmd)"
   ]
  },
  {
   "cell_type": "code",
   "execution_count": 40,
   "metadata": {
    "collapsed": true
   },
   "outputs": [],
   "source": [
    "#train = readCURLfile(\"./ut.txt\")"
   ]
  },
  {
   "cell_type": "code",
   "execution_count": 41,
   "metadata": {
    "collapsed": true
   },
   "outputs": [],
   "source": [
    "#trainsAndIDs = {}\n",
    "#for ids in train.keys():\n",
    "#    t = train[ids][\"cars\"]\n",
    "#    s = train[ids][\"scope\"]\n",
    "#    if not s in trainsAndIDs.keys():\n",
    "#        trainsAndIDs[s] = {}\n",
    "#    trainsAndIDs[s][t] = {}\n",
    "#for key in sorted(trainsAndIDs.keys()):\n",
    "#    #print(key+\":\")\n",
    "#    nt = 1\n",
    "#    for t in sorted(trainsAndIDs[key].keys()):\n",
    "#        #print(\"%03i) %s\" %(nt,t))\n",
    "#        nt += 1"
   ]
  },
  {
   "cell_type": "code",
   "execution_count": 42,
   "metadata": {
    "collapsed": true
   },
   "outputs": [],
   "source": [
    "quantities = [\n",
    "    'cpuconsumptiontime',\n",
    "    'nevents',\n",
    "    'durationsec',\n",
    "    'outputfilebytes'\n",
    "]\n"
   ]
  },
  {
   "cell_type": "code",
   "execution_count": 43,
   "metadata": {
    "collapsed": true
   },
   "outputs": [],
   "source": [
    "# Execute the queries\n",
    "es = Elasticsearch(['atlas-kibana-dev.mwt2.org'],timeout=120)"
   ]
  },
  {
   "cell_type": "code",
   "execution_count": 44,
   "metadata": {},
   "outputs": [
    {
     "name": "stdout",
     "output_type": "stream",
     "text": [
      "Looking at ART tests from 2018-08-13\n"
     ]
    }
   ],
   "source": [
    "for i in range(1,0,-1):\n",
    "    today = datetime.today() - timedelta(days=i)\n",
    "    # need date on format yyyy-mm-dd\n",
    "    date_str = today.strftime('%Y-%m-%d')\n",
    "    print(\"Looking at ART tests from %s\" %date_str)\n",
    "    cmd = \"curl --silent -k -b bigpanda.cookie.txt -H \\'Accept: application/json\\' -H \\'Content-Type: application/json\\' \\\"https://bigpanda.cern.ch/art/jobs/?package=DerivationFrameworkART&branch=21.2/AthDerivation/x86_64-slc6-gcc62-opt&ntag=%s&view=packages&json\\\" &> ut.txt\" %(date_str)\n",
    "    os.system(cmd)\n",
    "\n",
    "    train = readJSONfile(\"./ut.txt\",date_str)\n",
    "    \n",
    "    if type(train) is int:\n",
    "        print(\"WARNING \\t Empty json for %s\" %date_str)\n",
    "        continue\n",
    "    \n",
    "    trainsAndIDs = {}\n",
    "    for ids in train.keys():\n",
    "        t = train[ids][\"cars\"]\n",
    "        s = train[ids][\"scope\"]\n",
    "        if not s in trainsAndIDs.keys():\n",
    "            trainsAndIDs[s] = {}\n",
    "        trainsAndIDs[s][t] = {}\n",
    "    for key in sorted(trainsAndIDs.keys()):\n",
    "        #print(key+\":\")\n",
    "        nt = 1\n",
    "        for t in sorted(trainsAndIDs[key].keys()):\n",
    "            #print(\"%03i) %s\" %(nt,t))\n",
    "            nt += 1\n",
    "\n",
    "    # Set up query for the jobs relevant to the trains\n",
    "    start_time = timeit.default_timer()\n",
    "    taskCounter = 0\n",
    "    jobIndex = \"jobs_archive_2018*\"\n",
    "\n",
    "    to_read = quantities\n",
    "    to_read.append('pandaid')\n",
    "    to_read.append('maxpss')\n",
    "    to_read.append('maxvmem')\n",
    "    to_read.append('jobstatus')\n",
    "    nid = 0\n",
    "    for theId in train.keys():\n",
    "        jobQuery = {\n",
    "            \"_source\": to_read,\n",
    "            \"query\": {\n",
    "                \"bool\": {\n",
    "                    \"must\": [\n",
    "                        {\"term\":{\"pandaid\": theId}}\n",
    "                    ]\n",
    "                }\n",
    "            }\n",
    "        }\n",
    "        # query the jobs\n",
    "        jobs = scan(es, query=jobQuery, index=jobIndex, scroll='5m', timeout=\"5m\", size=1000)\n",
    "        for res in jobs: # Loop over jobs from that task\n",
    "            #print(\"Train %s on %s\" %(train[theId][\"cars\"],train[theId][\"scope\"]))\n",
    "            for quantity in quantities: # get the relevant quantities\n",
    "                if quantity in res['_source'].keys():\n",
    "                    trainsAndIDs[train[theId][\"scope\"]][train[theId][\"cars\"]][quantity] = res['_source'][quantity]\n",
    "                    #print(quantity,\" = \" ,res['_source'][quantity])\n",
    "        nid += 1\n",
    "        #if nid > 10: break\n",
    "        \n",
    "    metrics = {}\n",
    "    for tr in to_read:\n",
    "        metrics[tr] = {}\n",
    "        for scope in trainsAndIDs.keys():\n",
    "            if os.path.isfile(\"data/%s_timeseries_%s.csv\"%(tr,scope)):\n",
    "                metrics[tr][scope] = pd.read_csv(\"data/%s_timeseries_%s.csv\"%(tr,scope))\n",
    "                metrics[tr][scope] = metrics[tr][scope].loc[:,~metrics[tr][scope].columns.duplicated()]\n",
    "            else:\n",
    "                for scope in trainsAndIDs.keys():\n",
    "                    metrics[tr][scope] = pd.DataFrame(columns=['date']+sorted(trainsAndIDs[scope].keys()))\n",
    "                    \n",
    "                    \n",
    "    for met in metrics.keys():\n",
    "        for scope in trainsAndIDs.keys():\n",
    "            idx_num = -999\n",
    "            if not date_str in np.array(metrics[met][scope]['date'], dtype=object):\n",
    "                metrics[met][scope].append(pd.DataFrame(columns=['date']+sorted(trainsAndIDs[scope].keys())))\n",
    "                idx_num = len(metrics[met][scope].index)\n",
    "            else:\n",
    "                for i in range(0,metrics[met][scope].shape[0]):\n",
    "                    if metrics[met][scope].iloc[i]['date'] == date_str:\n",
    "                        #print(\"Found %s already inside on index %i\" %(date_str,i))\n",
    "                        idx_num = i\n",
    "                        break\n",
    "            if idx_num == -999: \n",
    "                print(\"No entry found\")\n",
    "                continue\n",
    "            metrics[met][scope].loc[idx_num,'date'] = date_str\n",
    "            df = []\n",
    "            n = 0\n",
    "            for configs in sorted(trainsAndIDs[scope].keys()):\n",
    "                if met in trainsAndIDs[scope][configs].keys():   \n",
    "                    metrics[met][scope].loc[idx_num,configs] = trainsAndIDs[scope][configs][met]\n",
    "            metrics[met][scope].to_csv(\"data/%s_timeseries_%s.csv\"%(met,scope),index=False)\n"
   ]
  },
  {
   "cell_type": "code",
   "execution_count": 45,
   "metadata": {},
   "outputs": [
    {
     "name": "stdout",
     "output_type": "stream",
     "text": [
      "30\n",
      "(30, 163)\n",
      "2018-04-28\n",
      "2018-04-29\n",
      "2018-04-25\n",
      "2018-04-26\n",
      "2018-04-27\n",
      "2018-04-30\n",
      "2018-05-01\n",
      "2018-05-02\n",
      "2018-05-03\n",
      "2018-05-06\n",
      "2018-05-04\n",
      "2018-05-05\n",
      "2018-05-07\n",
      "2018-05-08\n",
      "2018-05-09\n",
      "2018-05-11\n",
      "2018-05-12\n",
      "2018-05-13\n",
      "2018-05-14\n",
      "2018-05-15\n",
      "2018-05-16\n",
      "2018-05-17\n",
      "2018-05-18\n",
      "2018-05-19\n",
      "2018-05-20\n",
      "2018-05-21\n",
      "2018-05-22\n",
      "2018-05-23\n",
      "2018-05-24\n",
      "2018-08-13\n"
     ]
    }
   ],
   "source": [
    "print(len(metrics['jobstatus']['mc16'].index))\n",
    "print(metrics['jobstatus']['mc16'].shape)\n",
    "for i in range(0,metrics['jobstatus']['mc16'].shape[0]):\n",
    "    print(metrics['jobstatus']['mc16'].iloc[i]['date'])"
   ]
  },
  {
   "cell_type": "code",
   "execution_count": 16,
   "metadata": {},
   "outputs": [
    {
     "name": "stdout",
     "output_type": "stream",
     "text": [
      "(0,)\n"
     ]
    }
   ],
   "source": [
    "evfrac  = np.empty((0))\n",
    "formats = np.empty((0))\n",
    "print(evfrac.shape)\n",
    "for configs in trainsAndIDs[\"mc16\"].keys():\n",
    "    if len(configs.split()) > 1: continue\n",
    "    if 'nevents' in trainsAndIDs[\"mc16\"][configs].keys(): \n",
    "        #print(float(trainsAndIDs[\"data17\"][configs][\"nevents\"])/500.)\n",
    "        evfrac = np.append(evfrac,[float(trainsAndIDs[\"mc16\"][configs][\"nevents\"])/500.],axis=0)\n",
    "        formats = np.append(formats,[configs],axis=0)\n",
    "evfrac_sorted, formats_sorted = sortTwoNParrays(evfrac, formats)"
   ]
  },
  {
   "cell_type": "code",
   "execution_count": 17,
   "metadata": {
    "collapsed": true
   },
   "outputs": [],
   "source": [
    "#i = 0\n",
    "#for ef in np.nditer(evfrac_sorted):\n",
    "#    print(\"%15s : %10.2f\" %(formats_sorted[i],ef))\n",
    "#    i += 1"
   ]
  },
  {
   "cell_type": "code",
   "execution_count": 18,
   "metadata": {
    "collapsed": true
   },
   "outputs": [],
   "source": [
    "#plt.figure(figsize=(220,40))\n",
    "#plt.bar(np.arange(evfrac_sorted.shape[0]),evfrac_sorted,tick_label=formats_sorted,width=0.8)\n",
    "#plt.xlabel('xlabel', fontsize=100)\n",
    "#plt.xticks(rotation='vertical',fontsize=120)"
   ]
  },
  {
   "cell_type": "code",
   "execution_count": 19,
   "metadata": {
    "collapsed": true
   },
   "outputs": [],
   "source": [
    "#metrics = {}\n",
    "#for tr in to_read:\n",
    "#    metrics[tr] = {}\n",
    "#    for scope in trainsAndIDs.keys():\n",
    "#        if os.path.isfile(\"data/%s_timeseries_%s.csv\"%(tr,scope)):\n",
    "#            metrics[tr][scope] = pd.read_csv(\"data/%s_timeseries_%s.csv\"%(tr,scope))\n",
    "#        else:\n",
    "#            for scope in trainsAndIDs.keys():\n",
    "#                metrics[tr][scope] = pd.DataFrame(columns=['date']+sorted(trainsAndIDs[scope].keys()))"
   ]
  },
  {
   "cell_type": "code",
   "execution_count": 20,
   "metadata": {
    "collapsed": true
   },
   "outputs": [],
   "source": [
    "#for met in metrics.keys():\n",
    "#    for scope in trainsAndIDs.keys():\n",
    "#        if not date_str in np.array(metrics[met][scope]['date'], dtype=object):\n",
    "#            metrics[met][scope].append(pd.DataFrame(columns=['date']+sorted(trainsAndIDs[scope].keys())))\n",
    "#        else:\n",
    "#            continue\n",
    "#        idx_num = len(metrics[met][scope].index)\n",
    "#        metrics[met][scope].loc[idx_num,'date'] = date_str\n",
    "#        df = []\n",
    "#        n = 0\n",
    "#        for configs in sorted(trainsAndIDs[scope].keys()):\n",
    "#            if met in trainsAndIDs[scope][configs].keys():   \n",
    "#                metrics[met][scope].loc[idx_num,configs] = trainsAndIDs[scope][configs][met]\n",
    "#        metrics[met][scope].to_csv(\"data/%s_timeseries_%s.csv\"%(met,scope),index=False)"
   ]
  },
  {
   "cell_type": "code",
   "execution_count": 48,
   "metadata": {
    "collapsed": true
   },
   "outputs": [],
   "source": [
    "group_trains = {}\n",
    "for scope in trainsAndIDs.keys():\n",
    "    group_trains[scope] = {}\n",
    "    for configs in sorted(trainsAndIDs[scope].keys()):\n",
    "        if len(configs.split()) == 1:\n",
    "            grp = getFormat(configs)\n",
    "            if not grp in group_trains[scope].keys():\n",
    "                group_trains[scope][grp] = []\n",
    "        else:\n",
    "            grp = 'train'\n",
    "            if not grp in group_trains[scope].keys():\n",
    "                group_trains[scope][grp] = []\n",
    "        group_trains[scope][grp].append(configs)"
   ]
  },
  {
   "cell_type": "code",
   "execution_count": 49,
   "metadata": {},
   "outputs": [
    {
     "name": "stdout",
     "output_type": "stream",
     "text": [
      "{'mc15': {'TRUTH': ['TRUTH0', 'TRUTH1', 'TRUTH3']}, 'mc16': {'EXOT': ['EXOT0', 'EXOT10', 'EXOT12', 'EXOT13', 'EXOT15', 'EXOT17', 'EXOT19', 'EXOT2', 'EXOT20', 'EXOT21', 'EXOT22', 'EXOT23', 'EXOT24', 'EXOT25', 'EXOT26', 'EXOT3', 'EXOT4', 'EXOT5', 'EXOT6', 'EXOT7', 'EXOT8', 'EXOT9'], 'train': ['TOPQ1 TOPQ2 TOPQ4 TOPQ5'], 'JETM': ['JETM1', 'JETM10', 'JETM12', 'JETM13', 'JETM4', 'JETM5', 'JETM6', 'JETM7', 'JETM8', 'JETM9'], 'PHYSVAL': ['PHYSVAL'], 'STDM': ['STDM2', 'STDM3', 'STDM4', 'STDM5', 'STDM6', 'STDM7', 'STDM8', 'STDM9'], 'TAUP': ['TAUP1', 'TAUP2', 'TAUP3', 'TAUP4'], 'EGAM': ['EGAM1', 'EGAM2', 'EGAM3', 'EGAM4', 'EGAM5', 'EGAM6', 'EGAM7', 'EGAM8', 'EGAM9'], 'SUSY': ['SUSY1', 'SUSY10', 'SUSY11', 'SUSY12', 'SUSY15', 'SUSY16', 'SUSY17', 'SUSY2', 'SUSY3', 'SUSY4', 'SUSY5', 'SUSY6', 'SUSY7', 'SUSY8', 'SUSY9'], 'IDTR': ['IDTR1'], 'HIGGD': ['HIGG1D1', 'HIGG1D2', 'HIGG2D1', 'HIGG2D4', 'HIGG2D5', 'HIGG3D1', 'HIGG3D3', 'HIGG4D1', 'HIGG4D2', 'HIGG4D3', 'HIGG4D4', 'HIGG4D5', 'HIGG4D6', 'HIGG5D1', 'HIGG5D2', 'HIGG5D3', 'HIGG6D1', 'HIGG6D2', 'HIGG8D1'], 'TOPQ': ['TOPQ1', 'TOPQ2', 'TOPQ4', 'TOPQ5'], 'MUON': ['MUON0', 'MUON1', 'MUON2', 'MUON3', 'MUON4'], 'FTAG': ['FTAG1', 'FTAG2', 'FTAG3', 'FTAG4', 'FTAG5'], 'TCAL': ['TCAL1'], 'BPHY': ['BPHY1', 'BPHY10', 'BPHY11', 'BPHY12', 'BPHY14', 'BPHY15', 'BPHY16', 'BPHY2', 'BPHY3', 'BPHY4', 'BPHY5', 'BPHY6', 'BPHY7', 'BPHY8', 'BPHY9']}, 'BPHYSLS': {'BPHY': ['BPHY10', 'BPHY7', 'BPHY8']}, 'data18': {'EXOT': ['EXOT0', 'EXOT10', 'EXOT12', 'EXOT13', 'EXOT15', 'EXOT17', 'EXOT19', 'EXOT2', 'EXOT20', 'EXOT21', 'EXOT22', 'EXOT23', 'EXOT24', 'EXOT25', 'EXOT26', 'EXOT3', 'EXOT4', 'EXOT5', 'EXOT6', 'EXOT7', 'EXOT8', 'EXOT9'], 'train': ['EGAM9 EXOT20 SUSY11 EXOT6 SUSY2 HIGG4D1 BPHY1 BPHY4', 'EXOT13 SUSY5 SUSY7 EXOT8 EXOT4 HIGG4D2', 'EXOT22 SUSY4 JETM11 EXOT21 SUSY1 STDM7 SUSY8 SUSY10', 'HIGG8D1 JETM6 MUON1 SUSY6 HIGG2D1 JETM1 MUON0 TOPQ1 TAUP3', 'JETM12 EGAM3 JETM10', 'JETM9 STDM4 TOPQ4 FTAG4', 'MUON2 HIGG4D4 JETM7 BPHY7 EXOT17 BPHY5 EGAM7 HIGG1D2', 'STDM2 SUSY18 EXOT3 EGAM1 EGAM5 EXOT2 SUSY3 EXOT5 HIGG6D2', 'STDM5 EGAM4 EGAM2 EXOT12 SUSY9 EXOT9', 'SUSY12 STDM3 EXOT15 JETM3 EXOT19 HIGG4D6 HIGG6D1 HIGG1D1', 'TAUP1 HIGG4D5 JETM4 TOPQ2 TOPQ5 HIGG4D3 SUSY16 EXOT7', 'TCAL1 EXOT10 HIGG2D5'], 'JETM': ['JETM1', 'JETM10', 'JETM11', 'JETM12', 'JETM13', 'JETM2', 'JETM3', 'JETM4', 'JETM5', 'JETM6', 'JETM7', 'JETM8', 'JETM9'], 'PHYSVAL': ['PHYSVAL'], 'STDM': ['STDM2', 'STDM3', 'STDM4', 'STDM5', 'STDM6', 'STDM7', 'STDM8', 'STDM9'], 'TAUP': ['TAUP1', 'TAUP2', 'TAUP3', 'TAUP4'], 'EGAM': ['EGAM1', 'EGAM2', 'EGAM3', 'EGAM4', 'EGAM5', 'EGAM6', 'EGAM7', 'EGAM8', 'EGAM9'], 'HIGGD': ['HIGG1D1', 'HIGG1D2', 'HIGG2D1', 'HIGG2D4', 'HIGG2D5', 'HIGG3D1', 'HIGG3D3', 'HIGG4D1', 'HIGG4D2', 'HIGG4D3', 'HIGG4D4', 'HIGG4D5', 'HIGG4D6', 'HIGG5D1', 'HIGG5D2', 'HIGG5D3', 'HIGG6D1', 'HIGG6D2', 'HIGG8D1'], 'SUSY': ['SUSY1', 'SUSY10', 'SUSY11', 'SUSY12', 'SUSY15', 'SUSY16', 'SUSY17', 'SUSY18', 'SUSY2', 'SUSY3', 'SUSY4', 'SUSY5', 'SUSY6', 'SUSY7', 'SUSY8', 'SUSY9'], 'IDTR': ['IDTR1'], 'TOPQ': ['TOPQ1', 'TOPQ2', 'TOPQ4', 'TOPQ5'], 'MUON': ['MUON0', 'MUON1', 'MUON2', 'MUON3', 'MUON4'], 'FTAG': ['FTAG1', 'FTAG2', 'FTAG3', 'FTAG4', 'FTAG5'], 'TCAL': ['TCAL1'], 'BPHY': ['BPHY1', 'BPHY10', 'BPHY11', 'BPHY12', 'BPHY14', 'BPHY15', 'BPHY16', 'BPHY2', 'BPHY3', 'BPHY4', 'BPHY5', 'BPHY6', 'BPHY7', 'BPHY8', 'BPHY9']}, 'DELAYED': {'BPHY': ['BPHY10', 'BPHY7', 'BPHY8']}}\n"
     ]
    },
    {
     "ename": "KeyError",
     "evalue": "'data17'",
     "output_type": "error",
     "traceback": [
      "\u001b[0;31m---------------------------------------------------------------------------\u001b[0m",
      "\u001b[0;31mKeyError\u001b[0m                                  Traceback (most recent call last)",
      "\u001b[0;32m<ipython-input-49-395a12147388>\u001b[0m in \u001b[0;36m<module>\u001b[0;34m()\u001b[0m\n\u001b[1;32m      1\u001b[0m \u001b[0mprint\u001b[0m\u001b[0;34m(\u001b[0m\u001b[0mgroup_trains\u001b[0m\u001b[0;34m)\u001b[0m\u001b[0;34m\u001b[0m\u001b[0m\n\u001b[1;32m      2\u001b[0m \u001b[0mscope\u001b[0m \u001b[0;34m=\u001b[0m \u001b[0;34m\"data17\"\u001b[0m\u001b[0;34m\u001b[0m\u001b[0m\n\u001b[0;32m----> 3\u001b[0;31m \u001b[0;32mfor\u001b[0m \u001b[0mgrp\u001b[0m \u001b[0;32min\u001b[0m \u001b[0mgroup_trains\u001b[0m\u001b[0;34m[\u001b[0m\u001b[0mscope\u001b[0m\u001b[0;34m]\u001b[0m\u001b[0;34m.\u001b[0m\u001b[0mkeys\u001b[0m\u001b[0;34m(\u001b[0m\u001b[0;34m)\u001b[0m\u001b[0;34m:\u001b[0m\u001b[0;34m\u001b[0m\u001b[0m\n\u001b[0m\u001b[1;32m      4\u001b[0m     \u001b[0;32mfor\u001b[0m \u001b[0mconfigs\u001b[0m \u001b[0;32min\u001b[0m \u001b[0mgroup_trains\u001b[0m\u001b[0;34m[\u001b[0m\u001b[0mscope\u001b[0m\u001b[0;34m]\u001b[0m\u001b[0;34m[\u001b[0m\u001b[0mgrp\u001b[0m\u001b[0;34m]\u001b[0m\u001b[0;34m:\u001b[0m\u001b[0;34m\u001b[0m\u001b[0m\n\u001b[1;32m      5\u001b[0m         \u001b[0mprint\u001b[0m\u001b[0;34m(\u001b[0m\u001b[0mconfigs\u001b[0m\u001b[0;34m)\u001b[0m\u001b[0;34m\u001b[0m\u001b[0m\n",
      "\u001b[0;31mKeyError\u001b[0m: 'data17'"
     ]
    }
   ],
   "source": [
    "print(group_trains)\n",
    "scope = \"data17\"\n",
    "for grp in group_trains[scope].keys():\n",
    "    for configs in group_trains[scope][grp]:\n",
    "        print(configs)"
   ]
  },
  {
   "cell_type": "code",
   "execution_count": 50,
   "metadata": {
    "collapsed": true
   },
   "outputs": [],
   "source": [
    "\n",
    "%%capture\n",
    "\n",
    "#print(infilesizes)\n",
    "#for scope in trainsAndIDs.keys():\n",
    "#    print(\"%s : %s\" %(scope,\",\".join(trainsAndIDs[scope].keys())))\n",
    "#to_read\n"
   ]
  },
  {
   "cell_type": "code",
   "execution_count": 24,
   "metadata": {},
   "outputs": [
    {
     "name": "stdout",
     "output_type": "stream",
     "text": [
      "cpuconsumptiontime\n",
      "Doing train 1/1 for mc15 and cpuconsumptiontime\n"
     ]
    },
    {
     "name": "stderr",
     "output_type": "stream",
     "text": [
      "/usr/lib64/python3.4/site-packages/pandas/plotting/_core.py:1716: UserWarning: Pandas doesn't allow columns to be created via a new attribute name - see https://pandas.pydata.org/pandas-docs/stable/indexing.html#attribute-access\n",
      "  series.name = label\n"
     ]
    },
    {
     "name": "stdout",
     "output_type": "stream",
     "text": [
      "Doing train 1/15 for mc16 and cpuconsumptiontime\n"
     ]
    },
    {
     "name": "stderr",
     "output_type": "stream",
     "text": [
      "/usr/lib64/python3.4/site-packages/pandas/plotting/_core.py:1716: UserWarning: Pandas doesn't allow columns to be created via a new attribute name - see https://pandas.pydata.org/pandas-docs/stable/indexing.html#attribute-access\n",
      "  series.name = label\n"
     ]
    },
    {
     "name": "stdout",
     "output_type": "stream",
     "text": [
      "Doing train 2/15 for mc16 and cpuconsumptiontime\n",
      "Doing train 3/15 for mc16 and cpuconsumptiontime\n",
      "Doing train 4/15 for mc16 and cpuconsumptiontime\n",
      "Doing train 5/15 for mc16 and cpuconsumptiontime\n",
      "Doing train 6/15 for mc16 and cpuconsumptiontime\n",
      "Doing train 7/15 for mc16 and cpuconsumptiontime\n",
      "Doing train 8/15 for mc16 and cpuconsumptiontime\n",
      "Doing train 9/15 for mc16 and cpuconsumptiontime\n",
      "Doing train 10/15 for mc16 and cpuconsumptiontime\n",
      "Doing train 11/15 for mc16 and cpuconsumptiontime\n",
      "Doing train 12/15 for mc16 and cpuconsumptiontime\n",
      "Doing train 13/15 for mc16 and cpuconsumptiontime\n",
      "Doing train 14/15 for mc16 and cpuconsumptiontime\n",
      "Doing train 15/15 for mc16 and cpuconsumptiontime\n",
      "Doing train 1/1 for BPHYSLS and cpuconsumptiontime\n",
      "Doing train 1/15 for data18 and cpuconsumptiontime\n",
      "Doing train 2/15 for data18 and cpuconsumptiontime\n",
      "Doing train 3/15 for data18 and cpuconsumptiontime\n",
      "Doing train 4/15 for data18 and cpuconsumptiontime\n"
     ]
    },
    {
     "name": "stderr",
     "output_type": "stream",
     "text": [
      "/usr/lib64/python3.4/site-packages/matplotlib/pyplot.py:524: RuntimeWarning: More than 20 figures have been opened. Figures created through the pyplot interface (`matplotlib.pyplot.figure`) are retained until explicitly closed and may consume too much memory. (To control this warning, see the rcParam `figure.max_open_warning`).\n",
      "  max_open_warning, RuntimeWarning)\n"
     ]
    },
    {
     "name": "stdout",
     "output_type": "stream",
     "text": [
      "Doing train 5/15 for data18 and cpuconsumptiontime\n",
      "Doing train 6/15 for data18 and cpuconsumptiontime\n",
      "Doing train 7/15 for data18 and cpuconsumptiontime\n",
      "Doing train 8/15 for data18 and cpuconsumptiontime\n",
      "Doing train 9/15 for data18 and cpuconsumptiontime\n",
      "Doing train 10/15 for data18 and cpuconsumptiontime\n",
      "Doing train 11/15 for data18 and cpuconsumptiontime\n",
      "Doing train 12/15 for data18 and cpuconsumptiontime\n",
      "Doing train 13/15 for data18 and cpuconsumptiontime\n",
      "Doing train 14/15 for data18 and cpuconsumptiontime\n",
      "Doing train 15/15 for data18 and cpuconsumptiontime\n",
      "Doing train 1/1 for DELAYED and cpuconsumptiontime\n",
      "nevents\n",
      "Doing train 1/1 for mc15 and nevents\n"
     ]
    },
    {
     "name": "stderr",
     "output_type": "stream",
     "text": [
      "/usr/lib64/python3.4/site-packages/pandas/plotting/_core.py:1716: UserWarning: Pandas doesn't allow columns to be created via a new attribute name - see https://pandas.pydata.org/pandas-docs/stable/indexing.html#attribute-access\n",
      "  series.name = label\n",
      "/usr/lib64/python3.4/site-packages/matplotlib/pyplot.py:524: RuntimeWarning: More than 20 figures have been opened. Figures created through the pyplot interface (`matplotlib.pyplot.figure`) are retained until explicitly closed and may consume too much memory. (To control this warning, see the rcParam `figure.max_open_warning`).\n",
      "  max_open_warning, RuntimeWarning)\n"
     ]
    },
    {
     "name": "stdout",
     "output_type": "stream",
     "text": [
      "Doing train 1/15 for mc16 and nevents\n",
      "Doing train 2/15 for mc16 and nevents\n",
      "Doing train 3/15 for mc16 and nevents\n",
      "Doing train 4/15 for mc16 and nevents\n",
      "Doing train 5/15 for mc16 and nevents\n",
      "Doing train 6/15 for mc16 and nevents\n",
      "Doing train 7/15 for mc16 and nevents\n",
      "Doing train 8/15 for mc16 and nevents\n",
      "Doing train 9/15 for mc16 and nevents\n",
      "Doing train 10/15 for mc16 and nevents\n",
      "Doing train 11/15 for mc16 and nevents\n",
      "Doing train 12/15 for mc16 and nevents\n",
      "Doing train 13/15 for mc16 and nevents\n",
      "Doing train 14/15 for mc16 and nevents\n",
      "Doing train 15/15 for mc16 and nevents\n",
      "Doing train 1/1 for BPHYSLS and nevents\n",
      "Doing train 1/15 for data18 and nevents\n",
      "Doing train 2/15 for data18 and nevents\n",
      "Doing train 3/15 for data18 and nevents\n",
      "Doing train 4/15 for data18 and nevents\n",
      "Doing train 5/15 for data18 and nevents\n",
      "Doing train 6/15 for data18 and nevents\n",
      "Doing train 7/15 for data18 and nevents\n",
      "Doing train 8/15 for data18 and nevents\n",
      "Doing train 9/15 for data18 and nevents\n",
      "Doing train 10/15 for data18 and nevents\n",
      "Doing train 11/15 for data18 and nevents\n",
      "Doing train 12/15 for data18 and nevents\n",
      "Doing train 13/15 for data18 and nevents\n",
      "Doing train 14/15 for data18 and nevents\n",
      "Doing train 15/15 for data18 and nevents\n",
      "Doing train 1/1 for DELAYED and nevents\n",
      "outputfilebytes\n",
      "Doing train 1/1 for mc15 and outputfilebytes\n",
      "Doing train 1/15 for mc16 and outputfilebytes\n",
      "Doing train 2/15 for mc16 and outputfilebytes\n",
      "Doing train 3/15 for mc16 and outputfilebytes\n",
      "Doing train 4/15 for mc16 and outputfilebytes\n",
      "Doing train 5/15 for mc16 and outputfilebytes\n",
      "Doing train 6/15 for mc16 and outputfilebytes\n",
      "Doing train 7/15 for mc16 and outputfilebytes\n",
      "Doing train 8/15 for mc16 and outputfilebytes\n",
      "Doing train 9/15 for mc16 and outputfilebytes\n",
      "Doing train 10/15 for mc16 and outputfilebytes\n",
      "Doing train 11/15 for mc16 and outputfilebytes\n",
      "Doing train 12/15 for mc16 and outputfilebytes\n",
      "Doing train 13/15 for mc16 and outputfilebytes\n",
      "Doing train 14/15 for mc16 and outputfilebytes\n",
      "Doing train 15/15 for mc16 and outputfilebytes\n",
      "Doing train 1/1 for BPHYSLS and outputfilebytes\n"
     ]
    },
    {
     "ename": "KeyError",
     "evalue": "'HION'",
     "output_type": "error",
     "traceback": [
      "\u001b[0;31m---------------------------------------------------------------------------\u001b[0m",
      "\u001b[0;31mKeyError\u001b[0m                                  Traceback (most recent call last)",
      "\u001b[0;32m<ipython-input-24-4ccab9fb5127>\u001b[0m in \u001b[0;36m<module>\u001b[0;34m()\u001b[0m\n\u001b[1;32m     25\u001b[0m             \u001b[0;32mif\u001b[0m \u001b[0;34m'data17'\u001b[0m \u001b[0;32min\u001b[0m \u001b[0mscope\u001b[0m \u001b[0;32mor\u001b[0m \u001b[0;34m'data18'\u001b[0m \u001b[0;32min\u001b[0m \u001b[0mscope\u001b[0m\u001b[0;34m:\u001b[0m\u001b[0;34m\u001b[0m\u001b[0m\n\u001b[1;32m     26\u001b[0m                 \u001b[0mtoplot\u001b[0m\u001b[0;34m[\u001b[0m\u001b[0mscope\u001b[0m\u001b[0;34m]\u001b[0m\u001b[0;34m.\u001b[0m\u001b[0mloc\u001b[0m\u001b[0;34m[\u001b[0m\u001b[0;34m:\u001b[0m\u001b[0;34m,\u001b[0m\u001b[0;34m'EXOT23'\u001b[0m\u001b[0;34m]\u001b[0m \u001b[0;34m/=\u001b[0m \u001b[0mfloat\u001b[0m\u001b[0;34m(\u001b[0m\u001b[0minfilesizes\u001b[0m\u001b[0;34m[\u001b[0m\u001b[0;34m'dataFileEXOT23'\u001b[0m\u001b[0;34m]\u001b[0m\u001b[0;34m)\u001b[0m\u001b[0;34m\u001b[0m\u001b[0m\n\u001b[0;32m---> 27\u001b[0;31m                 \u001b[0mtoplot\u001b[0m\u001b[0;34m[\u001b[0m\u001b[0mscope\u001b[0m\u001b[0;34m]\u001b[0m\u001b[0;34m.\u001b[0m\u001b[0mloc\u001b[0m\u001b[0;34m[\u001b[0m\u001b[0;34m:\u001b[0m\u001b[0;34m,\u001b[0m\u001b[0mgroup_trains\u001b[0m\u001b[0;34m[\u001b[0m\u001b[0mscope\u001b[0m\u001b[0;34m]\u001b[0m\u001b[0;34m[\u001b[0m\u001b[0;34m'HION'\u001b[0m\u001b[0;34m]\u001b[0m\u001b[0;34m]\u001b[0m \u001b[0;34m/=\u001b[0m \u001b[0mfloat\u001b[0m\u001b[0;34m(\u001b[0m\u001b[0minfilesizes\u001b[0m\u001b[0;34m[\u001b[0m\u001b[0;34m'heavyIonFile'\u001b[0m\u001b[0;34m]\u001b[0m\u001b[0;34m)\u001b[0m\u001b[0;34m\u001b[0m\u001b[0m\n\u001b[0m\u001b[1;32m     28\u001b[0m                 \u001b[0mtoplot\u001b[0m\u001b[0;34m[\u001b[0m\u001b[0mscope\u001b[0m\u001b[0;34m]\u001b[0m\u001b[0;34m[\u001b[0m\u001b[0mtoplot\u001b[0m\u001b[0;34m[\u001b[0m\u001b[0mscope\u001b[0m\u001b[0;34m]\u001b[0m\u001b[0;34m.\u001b[0m\u001b[0mcolumns\u001b[0m\u001b[0;34m.\u001b[0m\u001b[0mdifference\u001b[0m\u001b[0;34m(\u001b[0m\u001b[0mgroup_trains\u001b[0m\u001b[0;34m[\u001b[0m\u001b[0mscope\u001b[0m\u001b[0;34m]\u001b[0m\u001b[0;34m[\u001b[0m\u001b[0;34m'HION'\u001b[0m\u001b[0;34m]\u001b[0m\u001b[0;34m+\u001b[0m\u001b[0;34m[\u001b[0m\u001b[0;34m'EXOT23'\u001b[0m\u001b[0;34m]\u001b[0m\u001b[0;34m)\u001b[0m\u001b[0;34m]\u001b[0m \u001b[0;34m/=\u001b[0m \u001b[0mfloat\u001b[0m\u001b[0;34m(\u001b[0m\u001b[0minfilesizes\u001b[0m\u001b[0;34m[\u001b[0m\u001b[0;34m'dataFile'\u001b[0m\u001b[0;34m]\u001b[0m\u001b[0;34m)\u001b[0m\u001b[0;34m\u001b[0m\u001b[0m\n\u001b[1;32m     29\u001b[0m             \u001b[0;32melif\u001b[0m \u001b[0;34m'mc16'\u001b[0m \u001b[0;32min\u001b[0m \u001b[0mscope\u001b[0m\u001b[0;34m:\u001b[0m\u001b[0;34m\u001b[0m\u001b[0m\n",
      "\u001b[0;31mKeyError\u001b[0m: 'HION'"
     ]
    },
    {
     "data": {
      "text/plain": [
       "<matplotlib.figure.Figure at 0x7f2e76f62b00>"
      ]
     },
     "metadata": {},
     "output_type": "display_data"
    },
    {
     "data": {
      "text/plain": [
       "<matplotlib.figure.Figure at 0x7f2e762cbb00>"
      ]
     },
     "metadata": {},
     "output_type": "display_data"
    },
    {
     "data": {
      "text/plain": [
       "<matplotlib.figure.Figure at 0x7f2e764b2da0>"
      ]
     },
     "metadata": {},
     "output_type": "display_data"
    },
    {
     "data": {
      "text/plain": [
       "<matplotlib.figure.Figure at 0x7f2e764b2fd0>"
      ]
     },
     "metadata": {},
     "output_type": "display_data"
    },
    {
     "data": {
      "text/plain": [
       "<matplotlib.figure.Figure at 0x7f2e7675e9b0>"
      ]
     },
     "metadata": {},
     "output_type": "display_data"
    },
    {
     "data": {
      "text/plain": [
       "<matplotlib.figure.Figure at 0x7f2e766bb4e0>"
      ]
     },
     "metadata": {},
     "output_type": "display_data"
    },
    {
     "data": {
      "text/plain": [
       "<matplotlib.figure.Figure at 0x7f2e767ffef0>"
      ]
     },
     "metadata": {},
     "output_type": "display_data"
    },
    {
     "data": {
      "text/plain": [
       "<matplotlib.figure.Figure at 0x7f2e764d39e8>"
      ]
     },
     "metadata": {},
     "output_type": "display_data"
    },
    {
     "data": {
      "text/plain": [
       "<matplotlib.figure.Figure at 0x7f2e76616ac8>"
      ]
     },
     "metadata": {},
     "output_type": "display_data"
    },
    {
     "data": {
      "text/plain": [
       "<matplotlib.figure.Figure at 0x7f2e7674c6d8>"
      ]
     },
     "metadata": {},
     "output_type": "display_data"
    },
    {
     "data": {
      "text/plain": [
       "<matplotlib.figure.Figure at 0x7f2e76477a58>"
      ]
     },
     "metadata": {},
     "output_type": "display_data"
    },
    {
     "data": {
      "text/plain": [
       "<matplotlib.figure.Figure at 0x7f2e76447828>"
      ]
     },
     "metadata": {},
     "output_type": "display_data"
    },
    {
     "data": {
      "text/plain": [
       "<matplotlib.figure.Figure at 0x7f2e76cece48>"
      ]
     },
     "metadata": {},
     "output_type": "display_data"
    },
    {
     "data": {
      "text/plain": [
       "<matplotlib.figure.Figure at 0x7f2e76cd3ba8>"
      ]
     },
     "metadata": {},
     "output_type": "display_data"
    },
    {
     "data": {
      "text/plain": [
       "<matplotlib.figure.Figure at 0x7f2e764780f0>"
      ]
     },
     "metadata": {},
     "output_type": "display_data"
    },
    {
     "data": {
      "text/plain": [
       "<matplotlib.figure.Figure at 0x7f2e7645bfd0>"
      ]
     },
     "metadata": {},
     "output_type": "display_data"
    },
    {
     "data": {
      "text/plain": [
       "<matplotlib.figure.Figure at 0x7f2e767bbf28>"
      ]
     },
     "metadata": {},
     "output_type": "display_data"
    },
    {
     "data": {
      "text/plain": [
       "<matplotlib.figure.Figure at 0x7f2e762a77f0>"
      ]
     },
     "metadata": {},
     "output_type": "display_data"
    },
    {
     "data": {
      "text/plain": [
       "<matplotlib.figure.Figure at 0x7f2e767e5390>"
      ]
     },
     "metadata": {},
     "output_type": "display_data"
    },
    {
     "data": {
      "text/plain": [
       "<matplotlib.figure.Figure at 0x7f2e6b3cbe48>"
      ]
     },
     "metadata": {},
     "output_type": "display_data"
    },
    {
     "data": {
      "text/plain": [
       "<matplotlib.figure.Figure at 0x7f2e6b3e20b8>"
      ]
     },
     "metadata": {},
     "output_type": "display_data"
    },
    {
     "data": {
      "text/plain": [
       "<matplotlib.figure.Figure at 0x7f2e76600c50>"
      ]
     },
     "metadata": {},
     "output_type": "display_data"
    },
    {
     "data": {
      "text/plain": [
       "<matplotlib.figure.Figure at 0x7f2e767880b8>"
      ]
     },
     "metadata": {},
     "output_type": "display_data"
    },
    {
     "data": {
      "text/plain": [
       "<matplotlib.figure.Figure at 0x7f2e764a65c0>"
      ]
     },
     "metadata": {},
     "output_type": "display_data"
    },
    {
     "data": {
      "text/plain": [
       "<matplotlib.figure.Figure at 0x7f2e76548780>"
      ]
     },
     "metadata": {},
     "output_type": "display_data"
    },
    {
     "data": {
      "text/plain": [
       "<matplotlib.figure.Figure at 0x7f2e660735c0>"
      ]
     },
     "metadata": {},
     "output_type": "display_data"
    },
    {
     "data": {
      "text/plain": [
       "<matplotlib.figure.Figure at 0x7f2e7679ed68>"
      ]
     },
     "metadata": {},
     "output_type": "display_data"
    },
    {
     "data": {
      "text/plain": [
       "<matplotlib.figure.Figure at 0x7f2e765820b8>"
      ]
     },
     "metadata": {},
     "output_type": "display_data"
    },
    {
     "data": {
      "text/plain": [
       "<matplotlib.figure.Figure at 0x7f2e76471da0>"
      ]
     },
     "metadata": {},
     "output_type": "display_data"
    },
    {
     "data": {
      "text/plain": [
       "<matplotlib.figure.Figure at 0x7f2e766bb940>"
      ]
     },
     "metadata": {},
     "output_type": "display_data"
    },
    {
     "data": {
      "text/plain": [
       "<matplotlib.figure.Figure at 0x7f2e76784438>"
      ]
     },
     "metadata": {},
     "output_type": "display_data"
    },
    {
     "data": {
      "text/plain": [
       "<matplotlib.figure.Figure at 0x7f2e762652b0>"
      ]
     },
     "metadata": {},
     "output_type": "display_data"
    },
    {
     "data": {
      "text/plain": [
       "<matplotlib.figure.Figure at 0x7f2e76810a20>"
      ]
     },
     "metadata": {},
     "output_type": "display_data"
    },
    {
     "data": {
      "text/plain": [
       "<matplotlib.figure.Figure at 0x7f2e7632c2e8>"
      ]
     },
     "metadata": {},
     "output_type": "display_data"
    },
    {
     "data": {
      "text/plain": [
       "<matplotlib.figure.Figure at 0x7f2e76cd8e80>"
      ]
     },
     "metadata": {},
     "output_type": "display_data"
    },
    {
     "data": {
      "text/plain": [
       "<matplotlib.figure.Figure at 0x7f2e766c07f0>"
      ]
     },
     "metadata": {},
     "output_type": "display_data"
    },
    {
     "data": {
      "text/plain": [
       "<matplotlib.figure.Figure at 0x7f2e76478a58>"
      ]
     },
     "metadata": {},
     "output_type": "display_data"
    },
    {
     "data": {
      "text/plain": [
       "<matplotlib.figure.Figure at 0x7f2e7641b278>"
      ]
     },
     "metadata": {},
     "output_type": "display_data"
    },
    {
     "data": {
      "text/plain": [
       "<matplotlib.figure.Figure at 0x7f2e766e25f8>"
      ]
     },
     "metadata": {},
     "output_type": "display_data"
    },
    {
     "data": {
      "text/plain": [
       "<matplotlib.figure.Figure at 0x7f2efdc05da0>"
      ]
     },
     "metadata": {},
     "output_type": "display_data"
    },
    {
     "data": {
      "text/plain": [
       "<matplotlib.figure.Figure at 0x7f2e7644b978>"
      ]
     },
     "metadata": {},
     "output_type": "display_data"
    },
    {
     "data": {
      "text/plain": [
       "<matplotlib.figure.Figure at 0x7f2e76d0dda0>"
      ]
     },
     "metadata": {},
     "output_type": "display_data"
    },
    {
     "data": {
      "text/plain": [
       "<matplotlib.figure.Figure at 0x7f2e7658ad30>"
      ]
     },
     "metadata": {},
     "output_type": "display_data"
    },
    {
     "data": {
      "text/plain": [
       "<matplotlib.figure.Figure at 0x7f2e7669ff28>"
      ]
     },
     "metadata": {},
     "output_type": "display_data"
    },
    {
     "data": {
      "text/plain": [
       "<matplotlib.figure.Figure at 0x7f2e765935f8>"
      ]
     },
     "metadata": {},
     "output_type": "display_data"
    },
    {
     "data": {
      "text/plain": [
       "<matplotlib.figure.Figure at 0x7f2e764ff160>"
      ]
     },
     "metadata": {},
     "output_type": "display_data"
    },
    {
     "data": {
      "text/plain": [
       "<matplotlib.figure.Figure at 0x7f2e767f3240>"
      ]
     },
     "metadata": {},
     "output_type": "display_data"
    },
    {
     "data": {
      "text/plain": [
       "<matplotlib.figure.Figure at 0x7f2e6607b828>"
      ]
     },
     "metadata": {},
     "output_type": "display_data"
    },
    {
     "data": {
      "text/plain": [
       "<matplotlib.figure.Figure at 0x7f2e7649fd68>"
      ]
     },
     "metadata": {},
     "output_type": "display_data"
    },
    {
     "data": {
      "text/plain": [
       "<matplotlib.figure.Figure at 0x7f2e762bf4a8>"
      ]
     },
     "metadata": {},
     "output_type": "display_data"
    },
    {
     "data": {
      "text/plain": [
       "<matplotlib.figure.Figure at 0x7f2e765ab4a8>"
      ]
     },
     "metadata": {},
     "output_type": "display_data"
    },
    {
     "data": {
      "text/plain": [
       "<matplotlib.figure.Figure at 0x7f2e6606ca20>"
      ]
     },
     "metadata": {},
     "output_type": "display_data"
    },
    {
     "data": {
      "text/plain": [
       "<matplotlib.figure.Figure at 0x7f2e76286240>"
      ]
     },
     "metadata": {},
     "output_type": "display_data"
    },
    {
     "data": {
      "text/plain": [
       "<matplotlib.figure.Figure at 0x7f2e762dec50>"
      ]
     },
     "metadata": {},
     "output_type": "display_data"
    },
    {
     "data": {
      "text/plain": [
       "<matplotlib.figure.Figure at 0x7f2e66067b70>"
      ]
     },
     "metadata": {},
     "output_type": "display_data"
    },
    {
     "data": {
      "text/plain": [
       "<matplotlib.figure.Figure at 0x7f2e762d31d0>"
      ]
     },
     "metadata": {},
     "output_type": "display_data"
    },
    {
     "data": {
      "text/plain": [
       "<matplotlib.figure.Figure at 0x7f2e767c0320>"
      ]
     },
     "metadata": {},
     "output_type": "display_data"
    },
    {
     "data": {
      "text/plain": [
       "<matplotlib.figure.Figure at 0x7f2ecaa9b0b8>"
      ]
     },
     "metadata": {},
     "output_type": "display_data"
    },
    {
     "data": {
      "text/plain": [
       "<matplotlib.figure.Figure at 0x7f2ecaa4a630>"
      ]
     },
     "metadata": {},
     "output_type": "display_data"
    },
    {
     "data": {
      "text/plain": [
       "<matplotlib.figure.Figure at 0x7f2e618ac048>"
      ]
     },
     "metadata": {},
     "output_type": "display_data"
    },
    {
     "data": {
      "text/plain": [
       "<matplotlib.figure.Figure at 0x7f2e76587518>"
      ]
     },
     "metadata": {},
     "output_type": "display_data"
    },
    {
     "data": {
      "text/plain": [
       "<matplotlib.figure.Figure at 0x7f2e762af390>"
      ]
     },
     "metadata": {},
     "output_type": "display_data"
    },
    {
     "data": {
      "text/plain": [
       "<matplotlib.figure.Figure at 0x7f2e7645c7f0>"
      ]
     },
     "metadata": {},
     "output_type": "display_data"
    },
    {
     "data": {
      "text/plain": [
       "<matplotlib.figure.Figure at 0x7f2e765d61d0>"
      ]
     },
     "metadata": {},
     "output_type": "display_data"
    },
    {
     "data": {
      "text/plain": [
       "<matplotlib.figure.Figure at 0x7f2e66078be0>"
      ]
     },
     "metadata": {},
     "output_type": "display_data"
    },
    {
     "data": {
      "text/plain": [
       "<matplotlib.figure.Figure at 0x7f2e6b3ce208>"
      ]
     },
     "metadata": {},
     "output_type": "display_data"
    },
    {
     "data": {
      "text/plain": [
       "<matplotlib.figure.Figure at 0x7f2e7645c160>"
      ]
     },
     "metadata": {},
     "output_type": "display_data"
    },
    {
     "data": {
      "text/plain": [
       "<matplotlib.figure.Figure at 0x7f2e76639470>"
      ]
     },
     "metadata": {},
     "output_type": "display_data"
    },
    {
     "data": {
      "text/plain": [
       "<matplotlib.figure.Figure at 0x7f2e66087048>"
      ]
     },
     "metadata": {},
     "output_type": "display_data"
    },
    {
     "data": {
      "text/plain": [
       "<matplotlib.figure.Figure at 0x7f2eca975550>"
      ]
     },
     "metadata": {},
     "output_type": "display_data"
    },
    {
     "data": {
      "text/plain": [
       "<matplotlib.figure.Figure at 0x7f2ecaa0c0f0>"
      ]
     },
     "metadata": {},
     "output_type": "display_data"
    },
    {
     "data": {
      "text/plain": [
       "<matplotlib.figure.Figure at 0x7f2e765d2438>"
      ]
     },
     "metadata": {},
     "output_type": "display_data"
    },
    {
     "data": {
      "text/plain": [
       "<matplotlib.figure.Figure at 0x7f2e76548a90>"
      ]
     },
     "metadata": {},
     "output_type": "display_data"
    },
    {
     "data": {
      "text/plain": [
       "<matplotlib.figure.Figure at 0x7f2e766bd438>"
      ]
     },
     "metadata": {},
     "output_type": "display_data"
    },
    {
     "data": {
      "text/plain": [
       "<matplotlib.figure.Figure at 0x7f2e7641b940>"
      ]
     },
     "metadata": {},
     "output_type": "display_data"
    },
    {
     "data": {
      "text/plain": [
       "<matplotlib.figure.Figure at 0x7f2e76286550>"
      ]
     },
     "metadata": {},
     "output_type": "display_data"
    },
    {
     "data": {
      "text/plain": [
       "<matplotlib.figure.Figure at 0x7f2e7658df28>"
      ]
     },
     "metadata": {},
     "output_type": "display_data"
    },
    {
     "data": {
      "text/plain": [
       "<matplotlib.figure.Figure at 0x7f2ecaa6b438>"
      ]
     },
     "metadata": {},
     "output_type": "display_data"
    },
    {
     "data": {
      "text/plain": [
       "<matplotlib.figure.Figure at 0x7f2e7644b1d0>"
      ]
     },
     "metadata": {},
     "output_type": "display_data"
    },
    {
     "data": {
      "text/plain": [
       "<matplotlib.figure.Figure at 0x7f2e76266f28>"
      ]
     },
     "metadata": {},
     "output_type": "display_data"
    },
    {
     "data": {
      "text/plain": [
       "<matplotlib.figure.Figure at 0x7f2e6187f3c8>"
      ]
     },
     "metadata": {},
     "output_type": "display_data"
    },
    {
     "data": {
      "text/plain": [
       "<matplotlib.figure.Figure at 0x7f2ed805f710>"
      ]
     },
     "metadata": {},
     "output_type": "display_data"
    },
    {
     "data": {
      "text/plain": [
       "<matplotlib.figure.Figure at 0x7f2e618a9940>"
      ]
     },
     "metadata": {},
     "output_type": "display_data"
    }
   ],
   "source": [
    "ylabels = {\"maxpss\":\"maxpss [MB]\",\n",
    "           \"maxvmem\":\"maxvmem [MB]\",\n",
    "           \"outputfilebytes\":\"size frac. [%]\",\n",
    "           \"nevents\":\"skim frac. [%]\",\n",
    "           \"durationsec\":\"duration [sec.]\",\n",
    "           \"cpuconsumptiontime\":\"cpu time [sec.]\"}\n",
    "tables_info = {}\n",
    "for metric in to_read:\n",
    "    if metric == 'pandaid': continue\n",
    "    if metric == 'durationsec': continue\n",
    "    if metric == 'jobstatus': continue\n",
    "    toplot = {}\n",
    "    tables_info[metric] = {}\n",
    "    #metric = \"outputfilebytes\"\n",
    "    print(metric)\n",
    "    for scope in trainsAndIDs.keys():\n",
    "        #print(scope)\n",
    "        if os.path.isfile(\"data/%s_timeseries_%s.csv\"%(metric,scope)):\n",
    "            toplot[scope] = pd.read_csv(\"data/%s_timeseries_%s.csv\"%(metric,scope),index_col='date',parse_dates=['date'])\n",
    "        #scope = 'data17'\n",
    "        if metric == 'nevents': toplot[scope].loc[:,:] /= 500\n",
    "        elif metric in ['maxpss','maxvmem']: toplot[scope].loc[:,:] *= 0.001\n",
    "        elif metric == 'outputfilebytes':\n",
    "            insize = 1.0\n",
    "            if 'data17' in scope or 'data18' in scope:\n",
    "                toplot[scope].loc[:,'EXOT23'] /= float(infilesizes['dataFileEXOT23'])\n",
    "                toplot[scope].loc[:,group_trains[scope]['HION']] /= float(infilesizes['heavyIonFile'])\n",
    "                toplot[scope][toplot[scope].columns.difference(group_trains[scope]['HION']+['EXOT23'])] /= float(infilesizes['dataFile'])\n",
    "            elif 'mc16' in scope:\n",
    "                toplot[scope].loc[:,'EXOT23'] /= float(infilesizes['mcFileEXOT23'])\n",
    "                toplot[scope].loc[:,'BPHY8'] /= float(infilesizes['mcFileBPHY8'])\n",
    "                toplot[scope][toplot[scope].columns.difference(['BPHY8','EXOT23'])] /= float(infilesizes['mcFile'])\n",
    "            elif 'DELAYED' in scope:\n",
    "                toplot[scope].loc[:,:] /= float(infilesizes['dataFileDelayed'])\n",
    "            elif 'BPHYSLS' in scope:\n",
    "                toplot[scope].loc[:,:] /= float(infilesizes['dataFileBLS'])\n",
    "            elif 'mc15' in scope:\n",
    "                toplot[scope].loc[:,:] /= float(infilesizes['truthFile'])\n",
    "            else:\n",
    "                print(\"WARNING \\t Scope %s does not have any file connected to it\" %scope)\n",
    "            toplot[scope].loc[:,:] *= 100.\n",
    "        ngrp = 0\n",
    "        for grp in group_trains[scope]:\n",
    "            ngrp += 1\n",
    "            print(\"Doing train %i/%i for %s and %s\"%(ngrp,len(group_trains[scope]),scope,metric))\n",
    "            try:\n",
    "                ax = toplot[scope].plot(y=group_trains[scope][grp],figsize=(40,15),legend=False,\n",
    "                                        marker='o',title=\"Group: %s, Scope: %s\" %(grp,scope),colormap='rainbow',\n",
    "                                        markersize=20)\n",
    "            except:\n",
    "                print(\"WARNING \\t For metric %s: could not plot %s for group %s with formats %s\" %(metric,scope,grp,\",\".join(group_trains[scope][grp])))\n",
    "                continue\n",
    "            ax.xaxis_date()\n",
    "            #plt.ylabel('maxvmem [MB]')\n",
    "            if not 'train' in grp: ax.legend(bbox_to_anchor=(1.01, 1.05))\n",
    "            else: ax.legend(loc=9, bbox_to_anchor=(0.5, -0.2),ncol=3)\n",
    "            #if 'cpuconsumptiontime' in metric: \n",
    "            #    ax.yaxis.set_major_locator(HourLocator())\n",
    "            #    ax.yaxis.set_major_formatter(DateFormatter('%H:%M'))\n",
    "            #    plt.gca().yaxis.set_major_formatter(matplotlib.dates.DateFormatter('%H:%M')) \n",
    "            ax.set_xticks(np.array(metrics[metric][scope]['date'], dtype=object))\n",
    "            plt.ylabel(ylabels[metric])\n",
    "            plt.xlabel(\"ART date\")\n",
    "            #print(\"Saving figure to plots/%s_%s_%s.png\" %(metric,scope,grp))\n",
    "            ax.get_figure().savefig(\"plots/%s_%s_%s.png\" %(metric,scope,grp))\n",
    "            plt.clf()\n",
    "            #break\n",
    "    tables_info[metric] = toplot.copy()\n",
    "\n",
    "        #break\n",
    "    #break"
   ]
  },
  {
   "cell_type": "code",
   "execution_count": null,
   "metadata": {
    "collapsed": true
   },
   "outputs": [],
   "source": [
    "#from matplotlib.pyplot import text\n",
    "##execfile('./label_lines.ipynb')\n",
    "#scope = \"data17\"\n",
    "#grp = \"SUSY\"\n",
    "#toplot[\"data17\"] = pd.read_csv(\"data/maxpss_timeseries_data17.csv\",index_col='date',parse_dates=['date'])\n",
    "#toplot[\"data17\"].index.values\n",
    "#ax = toplot[scope].plot(y=group_trains[scope][grp],figsize=(40,15),legend=False,marker='o',\n",
    "#                        title=\"Group: %s, Scope: %s\" %(grp,scope),colormap=\"rainbow\",markersize=25)\n",
    "#ax.xaxis_date()\n",
    "##plt.ylabel('maxvmem [MB]')\n",
    "#if not 'train' in grp: ax.legend(bbox_to_anchor=(1.01, 1.05))\n",
    "#else: ax.legend(loc=9, bbox_to_anchor=(0.5, -0.2),ncol=3)\n",
    "##if 'cpuconsumptiontime' in metric: \n",
    "##    ax.yaxis.set_major_locator(HourLocator())\n",
    "##    ax.yaxis.set_major_formatter(DateFormatter('%H:%M'))\n",
    "##    plt.gca().yaxis.set_major_formatter(matplotlib.dates.DateFormatter('%H:%M')) \n",
    "#ax.set_xticks(np.array(metrics[metric][scope]['date'], dtype=object))\n",
    "#plt.ylabel(ylabels[metric])\n",
    "#plt.xlabel(\"ART date\")"
   ]
  },
  {
   "cell_type": "code",
   "execution_count": null,
   "metadata": {
    "collapsed": true
   },
   "outputs": [],
   "source": [
    "#plt.figure(figsize=(40,15))\n",
    "#nval = 0\n",
    "#values = list((toplot[scope].loc[:,group_trains[scope][grp]]).columns.values)\n",
    "#print(values[0])\n",
    "#ax = toplot[scope].plot(y=values[0],figsize=(40,15),legend=False,marker='o',title=\"Group: %s, Scope: %s\" %(grp,scope),colormap=\"rainbow\")\n",
    "#\n",
    "#for val in values:\n",
    "#    if val == 0:\n",
    "#        nval += 1\n",
    "#        continue\n",
    "#    else:\n",
    "#        toplot[scope].plot(y=group_trains[scope][grp],figsize=(40,15),legend=False,marker='o',markersize=20,\n",
    "#                            title=\"Group: %s, Scope: %s\" %(grp,scope),colormap=\"rainbow\",ax=ax)\n",
    "#    #plt.plot(toplot[scope].index.values,toplot[scope].loc[:,val],marker='o',linestyle='dashed',markersize=10)\n",
    "#    nval += 1\n",
    "#plt.show()\n",
    "#ax = toplot[scope].plot(y=group_trains[scope][grp],figsize=(40,15),legend=False,marker='o',\n",
    "                        #title=\"Group: %s, Scope: %s\" %(grp,scope),colormap=\"rainbow\")\n",
    "#ax.get_lines()[-1].get_label()\n",
    "#labelLines(ax.get_lines(),ax)\n",
    "#print(\"h\")\n",
    "#text(2,0,'\\leftarrow sin(\\pi)')\n",
    "#line = ax.get_lines()\n",
    "#print(line[0].get_xdata(False))\n",
    "##list(ax.get_xticklabels())\n",
    "#ticks = [t for t in ax.get_xticklabels()]\n",
    "#for i, t in enumerate(ticks):\n",
    "#    print(\"Label {}, data: {}\".format(i, t.get_text()), t.get_window_extent())\n",
    "#print(line)"
   ]
  },
  {
   "cell_type": "code",
   "execution_count": 58,
   "metadata": {
    "collapsed": true
   },
   "outputs": [],
   "source": [
    "def color_red_or_green(val):\n",
    "    color = 'green' if val == 'finished' else 'red'\n",
    "    return 'background-color: %s' % color"
   ]
  },
  {
   "cell_type": "code",
   "execution_count": null,
   "metadata": {
    "collapsed": true
   },
   "outputs": [],
   "source": []
  },
  {
   "cell_type": "code",
   "execution_count": 65,
   "metadata": {},
   "outputs": [
    {
     "name": "stdout",
     "output_type": "stream",
     "text": [
      "Scope: mc15:\n",
      "Scope: mc16:\n",
      "train is EXOT23\n",
      "status is failed\n",
      "train is SUSY7\n",
      "status is failed\n",
      "train is HIGG3D1\n",
      "status is failed\n",
      "train is TOPQ5\n",
      "status is nan\n",
      "train is BPHY14\n",
      "status is nan\n",
      "train is BPHY15\n",
      "status is nan\n",
      "train is BPHY16\n",
      "status is nan\n",
      "Scope: BPHYSLS:\n",
      "Scope: data18:\n",
      "train is PHYSVAL\n",
      "status is failed\n",
      "train is HIGG3D1\n",
      "status is failed\n",
      "train is SUSY7\n",
      "status is failed\n",
      "train is BPHY14\n",
      "status is nan\n",
      "train is BPHY15\n",
      "status is nan\n",
      "train is BPHY16\n",
      "status is nan\n",
      "Scope: DELAYED:\n"
     ]
    }
   ],
   "source": [
    "import copy\n",
    "toplot = {}\n",
    "for scope in trainsAndIDs.keys():\n",
    "    toplot[scope] = pd.read_csv(\"data/%s_timeseries_%s.csv\"%(\"jobstatus\",scope),index_col='date')\n",
    "    print(\"Scope: %s:\"%scope)\n",
    "    #print(toplot[scope])\n",
    "    if scope == \"mc16\": pattern_str = \"\"\n",
    "    for grp in group_trains[scope]:\n",
    "        md = ((((toplot[scope].loc[:,group_trains[scope][grp]]).transpose()).iloc[:, ::-1]))\n",
    "        #md = ((((toplot[scope].loc[:,group_trains[scope][grp]])).iloc[:, ::-1]))\n",
    "        #print((md))\n",
    "        md = md.loc[:,~md.columns.duplicated()]\n",
    "        st = (md.style.applymap(color_red_or_green)).render()\n",
    "        #print(\"Saving figure to web/%s_%s_%s.html\" %(\"status\",scope,grp))\n",
    "        with open(\"web/%s_%s_%s.html\" %(\"status\",scope,grp), 'w') as the_file:\n",
    "            the_file.write(st)\n",
    "        #print(\"grp\")\n",
    "        nmd = 0\n",
    "        date_idx = 1\n",
    "        for m in (md.iloc[:,date_idx]).index:\n",
    "            #print(m)\n",
    "            #print(md.iloc[:,date_idx][nmd])\n",
    "            #print(scope)\n",
    "            #print(len(m.split()))\n",
    "            if len(m.split()) > 1 and not md.iloc[:,date_idx][nmd] == \"finished\":\n",
    "                formats = m.split()\n",
    "                new_train = copy.deepcopy(formats)\n",
    "                #print(\"train is %s\"%m)\n",
    "                for f in formats:\n",
    "                    #print(f)\n",
    "                    #print(toplot[scope].loc[:,[f]].transpose())\n",
    "                    try:\n",
    "                        md2 = ((((toplot[scope].loc[:,[f]]).transpose()).iloc[:, ::-1]))\n",
    "                    except:\n",
    "                        print(\"Problems with format \",f)\n",
    "                        continue\n",
    "                    #print(md2)\n",
    "                    if not md2.iloc[:,date_idx][0] == \"finished\":\n",
    "                        new_train.remove(f)\n",
    "                #print(\"remaining train is %s\"%\" \".join(new_train))\n",
    "                if scope == \"data18\": # and len(new_train) > 0\n",
    "                    pattern_str += \"formats:DAOD_%s\\n\"%\".DAOD_\".join(new_train)\n",
    "                    pattern_str += \"ds:mc16_13TeV.410501.PowhegPythia8EvtGen_A14_ttbar_hdamp258p75_nonallhad.merge.AOD.e5458_s3126_r9781_r9778\\n\"\n",
    "            elif md.iloc[:,date_idx][nmd] == \"finished\" and scope == \"data18\": #len(m.split()) > 1 and :\n",
    "                #print(\"train is %s\"%m)\n",
    "                pattern_str += \"formats:DAOD_%s\\n\"%\".DAOD_\".join(m.split())\n",
    "                pattern_str += \"ds:mc16_13TeV.410501.PowhegPythia8EvtGen_A14_ttbar_hdamp258p75_nonallhad.merge.AOD.e5458_s3126_r9781_r9778\\n\"\n",
    "            elif not md.iloc[:,date_idx][nmd] == \"finished\":\n",
    "                print(\"train is %s\"%m)\n",
    "                print(\"status is %s\"%md.iloc[:,date_idx][nmd])\n",
    "            #if md.iloc[:,0][nmd] != \"finished\": print(\"%-10s %-70s %-20s\" %(scope,m,md.iloc[:,0][nmd]))\n",
    "            nmd += 1\n",
    "        #break\n",
    "    #break"
   ]
  },
  {
   "cell_type": "code",
   "execution_count": 57,
   "metadata": {},
   "outputs": [
    {
     "name": "stdout",
     "output_type": "stream",
     "text": [
      "formats:DAOD_EXOT0\n",
      "ds:mc16_13TeV.410501.PowhegPythia8EvtGen_A14_ttbar_hdamp258p75_nonallhad.merge.AOD.e5458_s3126_r9781_r9778\n",
      "formats:DAOD_EXOT10\n",
      "ds:mc16_13TeV.410501.PowhegPythia8EvtGen_A14_ttbar_hdamp258p75_nonallhad.merge.AOD.e5458_s3126_r9781_r9778\n",
      "formats:DAOD_EXOT12\n",
      "ds:mc16_13TeV.410501.PowhegPythia8EvtGen_A14_ttbar_hdamp258p75_nonallhad.merge.AOD.e5458_s3126_r9781_r9778\n",
      "formats:DAOD_EXOT13\n",
      "ds:mc16_13TeV.410501.PowhegPythia8EvtGen_A14_ttbar_hdamp258p75_nonallhad.merge.AOD.e5458_s3126_r9781_r9778\n",
      "formats:DAOD_EXOT15\n",
      "ds:mc16_13TeV.410501.PowhegPythia8EvtGen_A14_ttbar_hdamp258p75_nonallhad.merge.AOD.e5458_s3126_r9781_r9778\n",
      "formats:DAOD_EXOT17\n",
      "ds:mc16_13TeV.410501.PowhegPythia8EvtGen_A14_ttbar_hdamp258p75_nonallhad.merge.AOD.e5458_s3126_r9781_r9778\n",
      "formats:DAOD_EXOT19\n",
      "ds:mc16_13TeV.410501.PowhegPythia8EvtGen_A14_ttbar_hdamp258p75_nonallhad.merge.AOD.e5458_s3126_r9781_r9778\n",
      "formats:DAOD_EXOT2\n",
      "ds:mc16_13TeV.410501.PowhegPythia8EvtGen_A14_ttbar_hdamp258p75_nonallhad.merge.AOD.e5458_s3126_r9781_r9778\n",
      "formats:DAOD_EXOT20\n",
      "ds:mc16_13TeV.410501.PowhegPythia8EvtGen_A14_ttbar_hdamp258p75_nonallhad.merge.AOD.e5458_s3126_r9781_r9778\n",
      "formats:DAOD_EXOT21\n",
      "ds:mc16_13TeV.410501.PowhegPythia8EvtGen_A14_ttbar_hdamp258p75_nonallhad.merge.AOD.e5458_s3126_r9781_r9778\n",
      "formats:DAOD_EXOT22\n",
      "ds:mc16_13TeV.410501.PowhegPythia8EvtGen_A14_ttbar_hdamp258p75_nonallhad.merge.AOD.e5458_s3126_r9781_r9778\n",
      "formats:DAOD_EXOT23\n",
      "ds:mc16_13TeV.410501.PowhegPythia8EvtGen_A14_ttbar_hdamp258p75_nonallhad.merge.AOD.e5458_s3126_r9781_r9778\n",
      "formats:DAOD_EXOT24\n",
      "ds:mc16_13TeV.410501.PowhegPythia8EvtGen_A14_ttbar_hdamp258p75_nonallhad.merge.AOD.e5458_s3126_r9781_r9778\n",
      "formats:DAOD_EXOT25\n",
      "ds:mc16_13TeV.410501.PowhegPythia8EvtGen_A14_ttbar_hdamp258p75_nonallhad.merge.AOD.e5458_s3126_r9781_r9778\n",
      "formats:DAOD_EXOT26\n",
      "ds:mc16_13TeV.410501.PowhegPythia8EvtGen_A14_ttbar_hdamp258p75_nonallhad.merge.AOD.e5458_s3126_r9781_r9778\n",
      "formats:DAOD_EXOT3\n",
      "ds:mc16_13TeV.410501.PowhegPythia8EvtGen_A14_ttbar_hdamp258p75_nonallhad.merge.AOD.e5458_s3126_r9781_r9778\n",
      "formats:DAOD_EXOT4\n",
      "ds:mc16_13TeV.410501.PowhegPythia8EvtGen_A14_ttbar_hdamp258p75_nonallhad.merge.AOD.e5458_s3126_r9781_r9778\n",
      "formats:DAOD_EXOT5\n",
      "ds:mc16_13TeV.410501.PowhegPythia8EvtGen_A14_ttbar_hdamp258p75_nonallhad.merge.AOD.e5458_s3126_r9781_r9778\n",
      "formats:DAOD_EXOT6\n",
      "ds:mc16_13TeV.410501.PowhegPythia8EvtGen_A14_ttbar_hdamp258p75_nonallhad.merge.AOD.e5458_s3126_r9781_r9778\n",
      "formats:DAOD_EXOT7\n",
      "ds:mc16_13TeV.410501.PowhegPythia8EvtGen_A14_ttbar_hdamp258p75_nonallhad.merge.AOD.e5458_s3126_r9781_r9778\n",
      "formats:DAOD_EXOT8\n",
      "ds:mc16_13TeV.410501.PowhegPythia8EvtGen_A14_ttbar_hdamp258p75_nonallhad.merge.AOD.e5458_s3126_r9781_r9778\n",
      "formats:DAOD_EXOT9\n",
      "ds:mc16_13TeV.410501.PowhegPythia8EvtGen_A14_ttbar_hdamp258p75_nonallhad.merge.AOD.e5458_s3126_r9781_r9778\n",
      "formats:DAOD_EGAM9.DAOD_EXOT20.DAOD_SUSY11.DAOD_EXOT6.DAOD_SUSY2.DAOD_HIGG4D1.DAOD_BPHY1.DAOD_BPHY4\n",
      "ds:mc16_13TeV.410501.PowhegPythia8EvtGen_A14_ttbar_hdamp258p75_nonallhad.merge.AOD.e5458_s3126_r9781_r9778\n",
      "formats:DAOD_EXOT13.DAOD_SUSY5.DAOD_EXOT8.DAOD_EXOT4.DAOD_HIGG4D2\n",
      "ds:mc16_13TeV.410501.PowhegPythia8EvtGen_A14_ttbar_hdamp258p75_nonallhad.merge.AOD.e5458_s3126_r9781_r9778\n",
      "formats:DAOD_EXOT22.DAOD_SUSY4.DAOD_JETM11.DAOD_EXOT21.DAOD_SUSY1.DAOD_STDM7.DAOD_SUSY8.DAOD_SUSY10\n",
      "ds:mc16_13TeV.410501.PowhegPythia8EvtGen_A14_ttbar_hdamp258p75_nonallhad.merge.AOD.e5458_s3126_r9781_r9778\n",
      "formats:DAOD_HIGG8D1.DAOD_JETM6.DAOD_MUON1.DAOD_SUSY6.DAOD_HIGG2D1.DAOD_JETM1.DAOD_MUON0.DAOD_TOPQ1.DAOD_TAUP3\n",
      "ds:mc16_13TeV.410501.PowhegPythia8EvtGen_A14_ttbar_hdamp258p75_nonallhad.merge.AOD.e5458_s3126_r9781_r9778\n",
      "formats:DAOD_JETM12.DAOD_EGAM3.DAOD_JETM10\n",
      "ds:mc16_13TeV.410501.PowhegPythia8EvtGen_A14_ttbar_hdamp258p75_nonallhad.merge.AOD.e5458_s3126_r9781_r9778\n",
      "formats:DAOD_JETM9.DAOD_STDM4.DAOD_TOPQ4.DAOD_FTAG4\n",
      "ds:mc16_13TeV.410501.PowhegPythia8EvtGen_A14_ttbar_hdamp258p75_nonallhad.merge.AOD.e5458_s3126_r9781_r9778\n",
      "formats:DAOD_MUON2.DAOD_HIGG4D4.DAOD_JETM7.DAOD_BPHY7.DAOD_EXOT17.DAOD_BPHY5.DAOD_EGAM7.DAOD_HIGG1D2\n",
      "ds:mc16_13TeV.410501.PowhegPythia8EvtGen_A14_ttbar_hdamp258p75_nonallhad.merge.AOD.e5458_s3126_r9781_r9778\n",
      "formats:DAOD_STDM2.DAOD_SUSY18.DAOD_EXOT3.DAOD_EGAM1.DAOD_EGAM5.DAOD_EXOT2.DAOD_SUSY3.DAOD_EXOT5.DAOD_HIGG6D2\n",
      "ds:mc16_13TeV.410501.PowhegPythia8EvtGen_A14_ttbar_hdamp258p75_nonallhad.merge.AOD.e5458_s3126_r9781_r9778\n",
      "formats:DAOD_STDM5.DAOD_EGAM4.DAOD_EGAM2.DAOD_EXOT12.DAOD_SUSY9.DAOD_EXOT9\n",
      "ds:mc16_13TeV.410501.PowhegPythia8EvtGen_A14_ttbar_hdamp258p75_nonallhad.merge.AOD.e5458_s3126_r9781_r9778\n",
      "formats:DAOD_SUSY12.DAOD_STDM3.DAOD_EXOT15.DAOD_JETM3.DAOD_EXOT19.DAOD_HIGG4D6.DAOD_HIGG6D1.DAOD_HIGG1D1\n",
      "ds:mc16_13TeV.410501.PowhegPythia8EvtGen_A14_ttbar_hdamp258p75_nonallhad.merge.AOD.e5458_s3126_r9781_r9778\n",
      "formats:DAOD_TAUP1.DAOD_HIGG4D5.DAOD_JETM4.DAOD_TOPQ2.DAOD_TOPQ5.DAOD_HIGG4D3.DAOD_SUSY16.DAOD_EXOT7\n",
      "ds:mc16_13TeV.410501.PowhegPythia8EvtGen_A14_ttbar_hdamp258p75_nonallhad.merge.AOD.e5458_s3126_r9781_r9778\n",
      "formats:DAOD_TCAL1.DAOD_EXOT10.DAOD_HIGG2D5\n",
      "ds:mc16_13TeV.410501.PowhegPythia8EvtGen_A14_ttbar_hdamp258p75_nonallhad.merge.AOD.e5458_s3126_r9781_r9778\n",
      "formats:DAOD_JETM1\n",
      "ds:mc16_13TeV.410501.PowhegPythia8EvtGen_A14_ttbar_hdamp258p75_nonallhad.merge.AOD.e5458_s3126_r9781_r9778\n",
      "formats:DAOD_JETM10\n",
      "ds:mc16_13TeV.410501.PowhegPythia8EvtGen_A14_ttbar_hdamp258p75_nonallhad.merge.AOD.e5458_s3126_r9781_r9778\n",
      "formats:DAOD_JETM11\n",
      "ds:mc16_13TeV.410501.PowhegPythia8EvtGen_A14_ttbar_hdamp258p75_nonallhad.merge.AOD.e5458_s3126_r9781_r9778\n",
      "formats:DAOD_JETM12\n",
      "ds:mc16_13TeV.410501.PowhegPythia8EvtGen_A14_ttbar_hdamp258p75_nonallhad.merge.AOD.e5458_s3126_r9781_r9778\n",
      "formats:DAOD_JETM13\n",
      "ds:mc16_13TeV.410501.PowhegPythia8EvtGen_A14_ttbar_hdamp258p75_nonallhad.merge.AOD.e5458_s3126_r9781_r9778\n",
      "formats:DAOD_JETM2\n",
      "ds:mc16_13TeV.410501.PowhegPythia8EvtGen_A14_ttbar_hdamp258p75_nonallhad.merge.AOD.e5458_s3126_r9781_r9778\n",
      "formats:DAOD_JETM3\n",
      "ds:mc16_13TeV.410501.PowhegPythia8EvtGen_A14_ttbar_hdamp258p75_nonallhad.merge.AOD.e5458_s3126_r9781_r9778\n",
      "formats:DAOD_JETM4\n",
      "ds:mc16_13TeV.410501.PowhegPythia8EvtGen_A14_ttbar_hdamp258p75_nonallhad.merge.AOD.e5458_s3126_r9781_r9778\n",
      "formats:DAOD_JETM5\n",
      "ds:mc16_13TeV.410501.PowhegPythia8EvtGen_A14_ttbar_hdamp258p75_nonallhad.merge.AOD.e5458_s3126_r9781_r9778\n",
      "formats:DAOD_JETM6\n",
      "ds:mc16_13TeV.410501.PowhegPythia8EvtGen_A14_ttbar_hdamp258p75_nonallhad.merge.AOD.e5458_s3126_r9781_r9778\n",
      "formats:DAOD_JETM7\n",
      "ds:mc16_13TeV.410501.PowhegPythia8EvtGen_A14_ttbar_hdamp258p75_nonallhad.merge.AOD.e5458_s3126_r9781_r9778\n",
      "formats:DAOD_JETM8\n",
      "ds:mc16_13TeV.410501.PowhegPythia8EvtGen_A14_ttbar_hdamp258p75_nonallhad.merge.AOD.e5458_s3126_r9781_r9778\n",
      "formats:DAOD_JETM9\n",
      "ds:mc16_13TeV.410501.PowhegPythia8EvtGen_A14_ttbar_hdamp258p75_nonallhad.merge.AOD.e5458_s3126_r9781_r9778\n",
      "formats:DAOD_STDM2\n",
      "ds:mc16_13TeV.410501.PowhegPythia8EvtGen_A14_ttbar_hdamp258p75_nonallhad.merge.AOD.e5458_s3126_r9781_r9778\n",
      "formats:DAOD_STDM3\n",
      "ds:mc16_13TeV.410501.PowhegPythia8EvtGen_A14_ttbar_hdamp258p75_nonallhad.merge.AOD.e5458_s3126_r9781_r9778\n",
      "formats:DAOD_STDM4\n",
      "ds:mc16_13TeV.410501.PowhegPythia8EvtGen_A14_ttbar_hdamp258p75_nonallhad.merge.AOD.e5458_s3126_r9781_r9778\n",
      "formats:DAOD_STDM5\n",
      "ds:mc16_13TeV.410501.PowhegPythia8EvtGen_A14_ttbar_hdamp258p75_nonallhad.merge.AOD.e5458_s3126_r9781_r9778\n",
      "formats:DAOD_STDM6\n",
      "ds:mc16_13TeV.410501.PowhegPythia8EvtGen_A14_ttbar_hdamp258p75_nonallhad.merge.AOD.e5458_s3126_r9781_r9778\n",
      "formats:DAOD_STDM7\n",
      "ds:mc16_13TeV.410501.PowhegPythia8EvtGen_A14_ttbar_hdamp258p75_nonallhad.merge.AOD.e5458_s3126_r9781_r9778\n",
      "formats:DAOD_STDM8\n",
      "ds:mc16_13TeV.410501.PowhegPythia8EvtGen_A14_ttbar_hdamp258p75_nonallhad.merge.AOD.e5458_s3126_r9781_r9778\n",
      "formats:DAOD_STDM9\n",
      "ds:mc16_13TeV.410501.PowhegPythia8EvtGen_A14_ttbar_hdamp258p75_nonallhad.merge.AOD.e5458_s3126_r9781_r9778\n",
      "formats:DAOD_TAUP1\n",
      "ds:mc16_13TeV.410501.PowhegPythia8EvtGen_A14_ttbar_hdamp258p75_nonallhad.merge.AOD.e5458_s3126_r9781_r9778\n",
      "formats:DAOD_TAUP2\n",
      "ds:mc16_13TeV.410501.PowhegPythia8EvtGen_A14_ttbar_hdamp258p75_nonallhad.merge.AOD.e5458_s3126_r9781_r9778\n",
      "formats:DAOD_TAUP3\n",
      "ds:mc16_13TeV.410501.PowhegPythia8EvtGen_A14_ttbar_hdamp258p75_nonallhad.merge.AOD.e5458_s3126_r9781_r9778\n",
      "formats:DAOD_TAUP4\n",
      "ds:mc16_13TeV.410501.PowhegPythia8EvtGen_A14_ttbar_hdamp258p75_nonallhad.merge.AOD.e5458_s3126_r9781_r9778\n",
      "formats:DAOD_EGAM1\n",
      "ds:mc16_13TeV.410501.PowhegPythia8EvtGen_A14_ttbar_hdamp258p75_nonallhad.merge.AOD.e5458_s3126_r9781_r9778\n",
      "formats:DAOD_EGAM2\n",
      "ds:mc16_13TeV.410501.PowhegPythia8EvtGen_A14_ttbar_hdamp258p75_nonallhad.merge.AOD.e5458_s3126_r9781_r9778\n",
      "formats:DAOD_EGAM3\n",
      "ds:mc16_13TeV.410501.PowhegPythia8EvtGen_A14_ttbar_hdamp258p75_nonallhad.merge.AOD.e5458_s3126_r9781_r9778\n",
      "formats:DAOD_EGAM4\n",
      "ds:mc16_13TeV.410501.PowhegPythia8EvtGen_A14_ttbar_hdamp258p75_nonallhad.merge.AOD.e5458_s3126_r9781_r9778\n",
      "formats:DAOD_EGAM5\n",
      "ds:mc16_13TeV.410501.PowhegPythia8EvtGen_A14_ttbar_hdamp258p75_nonallhad.merge.AOD.e5458_s3126_r9781_r9778\n",
      "formats:DAOD_EGAM6\n",
      "ds:mc16_13TeV.410501.PowhegPythia8EvtGen_A14_ttbar_hdamp258p75_nonallhad.merge.AOD.e5458_s3126_r9781_r9778\n",
      "formats:DAOD_EGAM7\n",
      "ds:mc16_13TeV.410501.PowhegPythia8EvtGen_A14_ttbar_hdamp258p75_nonallhad.merge.AOD.e5458_s3126_r9781_r9778\n",
      "formats:DAOD_EGAM8\n",
      "ds:mc16_13TeV.410501.PowhegPythia8EvtGen_A14_ttbar_hdamp258p75_nonallhad.merge.AOD.e5458_s3126_r9781_r9778\n",
      "formats:DAOD_EGAM9\n",
      "ds:mc16_13TeV.410501.PowhegPythia8EvtGen_A14_ttbar_hdamp258p75_nonallhad.merge.AOD.e5458_s3126_r9781_r9778\n",
      "formats:DAOD_HIGG1D1\n",
      "ds:mc16_13TeV.410501.PowhegPythia8EvtGen_A14_ttbar_hdamp258p75_nonallhad.merge.AOD.e5458_s3126_r9781_r9778\n",
      "formats:DAOD_HIGG1D2\n",
      "ds:mc16_13TeV.410501.PowhegPythia8EvtGen_A14_ttbar_hdamp258p75_nonallhad.merge.AOD.e5458_s3126_r9781_r9778\n",
      "formats:DAOD_HIGG2D1\n",
      "ds:mc16_13TeV.410501.PowhegPythia8EvtGen_A14_ttbar_hdamp258p75_nonallhad.merge.AOD.e5458_s3126_r9781_r9778\n",
      "formats:DAOD_HIGG2D4\n",
      "ds:mc16_13TeV.410501.PowhegPythia8EvtGen_A14_ttbar_hdamp258p75_nonallhad.merge.AOD.e5458_s3126_r9781_r9778\n",
      "formats:DAOD_HIGG2D5\n",
      "ds:mc16_13TeV.410501.PowhegPythia8EvtGen_A14_ttbar_hdamp258p75_nonallhad.merge.AOD.e5458_s3126_r9781_r9778\n",
      "formats:DAOD_HIGG3D3\n",
      "ds:mc16_13TeV.410501.PowhegPythia8EvtGen_A14_ttbar_hdamp258p75_nonallhad.merge.AOD.e5458_s3126_r9781_r9778\n",
      "formats:DAOD_HIGG4D1\n",
      "ds:mc16_13TeV.410501.PowhegPythia8EvtGen_A14_ttbar_hdamp258p75_nonallhad.merge.AOD.e5458_s3126_r9781_r9778\n",
      "formats:DAOD_HIGG4D2\n",
      "ds:mc16_13TeV.410501.PowhegPythia8EvtGen_A14_ttbar_hdamp258p75_nonallhad.merge.AOD.e5458_s3126_r9781_r9778\n",
      "formats:DAOD_HIGG4D3\n",
      "ds:mc16_13TeV.410501.PowhegPythia8EvtGen_A14_ttbar_hdamp258p75_nonallhad.merge.AOD.e5458_s3126_r9781_r9778\n",
      "formats:DAOD_HIGG4D4\n",
      "ds:mc16_13TeV.410501.PowhegPythia8EvtGen_A14_ttbar_hdamp258p75_nonallhad.merge.AOD.e5458_s3126_r9781_r9778\n",
      "formats:DAOD_HIGG4D5\n",
      "ds:mc16_13TeV.410501.PowhegPythia8EvtGen_A14_ttbar_hdamp258p75_nonallhad.merge.AOD.e5458_s3126_r9781_r9778\n",
      "formats:DAOD_HIGG4D6\n",
      "ds:mc16_13TeV.410501.PowhegPythia8EvtGen_A14_ttbar_hdamp258p75_nonallhad.merge.AOD.e5458_s3126_r9781_r9778\n",
      "formats:DAOD_HIGG5D1\n",
      "ds:mc16_13TeV.410501.PowhegPythia8EvtGen_A14_ttbar_hdamp258p75_nonallhad.merge.AOD.e5458_s3126_r9781_r9778\n",
      "formats:DAOD_HIGG5D2\n",
      "ds:mc16_13TeV.410501.PowhegPythia8EvtGen_A14_ttbar_hdamp258p75_nonallhad.merge.AOD.e5458_s3126_r9781_r9778\n",
      "formats:DAOD_HIGG5D3\n",
      "ds:mc16_13TeV.410501.PowhegPythia8EvtGen_A14_ttbar_hdamp258p75_nonallhad.merge.AOD.e5458_s3126_r9781_r9778\n",
      "formats:DAOD_HIGG6D1\n",
      "ds:mc16_13TeV.410501.PowhegPythia8EvtGen_A14_ttbar_hdamp258p75_nonallhad.merge.AOD.e5458_s3126_r9781_r9778\n",
      "formats:DAOD_HIGG6D2\n",
      "ds:mc16_13TeV.410501.PowhegPythia8EvtGen_A14_ttbar_hdamp258p75_nonallhad.merge.AOD.e5458_s3126_r9781_r9778\n",
      "formats:DAOD_HIGG8D1\n",
      "ds:mc16_13TeV.410501.PowhegPythia8EvtGen_A14_ttbar_hdamp258p75_nonallhad.merge.AOD.e5458_s3126_r9781_r9778\n",
      "formats:DAOD_SUSY1\n",
      "ds:mc16_13TeV.410501.PowhegPythia8EvtGen_A14_ttbar_hdamp258p75_nonallhad.merge.AOD.e5458_s3126_r9781_r9778\n",
      "formats:DAOD_SUSY10\n",
      "ds:mc16_13TeV.410501.PowhegPythia8EvtGen_A14_ttbar_hdamp258p75_nonallhad.merge.AOD.e5458_s3126_r9781_r9778\n",
      "formats:DAOD_SUSY11\n",
      "ds:mc16_13TeV.410501.PowhegPythia8EvtGen_A14_ttbar_hdamp258p75_nonallhad.merge.AOD.e5458_s3126_r9781_r9778\n",
      "formats:DAOD_SUSY12\n",
      "ds:mc16_13TeV.410501.PowhegPythia8EvtGen_A14_ttbar_hdamp258p75_nonallhad.merge.AOD.e5458_s3126_r9781_r9778\n",
      "formats:DAOD_SUSY15\n",
      "ds:mc16_13TeV.410501.PowhegPythia8EvtGen_A14_ttbar_hdamp258p75_nonallhad.merge.AOD.e5458_s3126_r9781_r9778\n",
      "formats:DAOD_SUSY16\n",
      "ds:mc16_13TeV.410501.PowhegPythia8EvtGen_A14_ttbar_hdamp258p75_nonallhad.merge.AOD.e5458_s3126_r9781_r9778\n",
      "formats:DAOD_SUSY17\n",
      "ds:mc16_13TeV.410501.PowhegPythia8EvtGen_A14_ttbar_hdamp258p75_nonallhad.merge.AOD.e5458_s3126_r9781_r9778\n",
      "formats:DAOD_SUSY18\n",
      "ds:mc16_13TeV.410501.PowhegPythia8EvtGen_A14_ttbar_hdamp258p75_nonallhad.merge.AOD.e5458_s3126_r9781_r9778\n",
      "formats:DAOD_SUSY2\n",
      "ds:mc16_13TeV.410501.PowhegPythia8EvtGen_A14_ttbar_hdamp258p75_nonallhad.merge.AOD.e5458_s3126_r9781_r9778\n",
      "formats:DAOD_SUSY3\n",
      "ds:mc16_13TeV.410501.PowhegPythia8EvtGen_A14_ttbar_hdamp258p75_nonallhad.merge.AOD.e5458_s3126_r9781_r9778\n",
      "formats:DAOD_SUSY4\n",
      "ds:mc16_13TeV.410501.PowhegPythia8EvtGen_A14_ttbar_hdamp258p75_nonallhad.merge.AOD.e5458_s3126_r9781_r9778\n",
      "formats:DAOD_SUSY5\n",
      "ds:mc16_13TeV.410501.PowhegPythia8EvtGen_A14_ttbar_hdamp258p75_nonallhad.merge.AOD.e5458_s3126_r9781_r9778\n",
      "formats:DAOD_SUSY6\n",
      "ds:mc16_13TeV.410501.PowhegPythia8EvtGen_A14_ttbar_hdamp258p75_nonallhad.merge.AOD.e5458_s3126_r9781_r9778\n",
      "formats:DAOD_SUSY8\n",
      "ds:mc16_13TeV.410501.PowhegPythia8EvtGen_A14_ttbar_hdamp258p75_nonallhad.merge.AOD.e5458_s3126_r9781_r9778\n",
      "formats:DAOD_SUSY9\n",
      "ds:mc16_13TeV.410501.PowhegPythia8EvtGen_A14_ttbar_hdamp258p75_nonallhad.merge.AOD.e5458_s3126_r9781_r9778\n",
      "formats:DAOD_IDTR1\n",
      "ds:mc16_13TeV.410501.PowhegPythia8EvtGen_A14_ttbar_hdamp258p75_nonallhad.merge.AOD.e5458_s3126_r9781_r9778\n",
      "formats:DAOD_TOPQ1\n",
      "ds:mc16_13TeV.410501.PowhegPythia8EvtGen_A14_ttbar_hdamp258p75_nonallhad.merge.AOD.e5458_s3126_r9781_r9778\n",
      "formats:DAOD_TOPQ2\n",
      "ds:mc16_13TeV.410501.PowhegPythia8EvtGen_A14_ttbar_hdamp258p75_nonallhad.merge.AOD.e5458_s3126_r9781_r9778\n",
      "formats:DAOD_TOPQ4\n",
      "ds:mc16_13TeV.410501.PowhegPythia8EvtGen_A14_ttbar_hdamp258p75_nonallhad.merge.AOD.e5458_s3126_r9781_r9778\n",
      "formats:DAOD_TOPQ5\n",
      "ds:mc16_13TeV.410501.PowhegPythia8EvtGen_A14_ttbar_hdamp258p75_nonallhad.merge.AOD.e5458_s3126_r9781_r9778\n",
      "formats:DAOD_MUON0\n",
      "ds:mc16_13TeV.410501.PowhegPythia8EvtGen_A14_ttbar_hdamp258p75_nonallhad.merge.AOD.e5458_s3126_r9781_r9778\n",
      "formats:DAOD_MUON1\n",
      "ds:mc16_13TeV.410501.PowhegPythia8EvtGen_A14_ttbar_hdamp258p75_nonallhad.merge.AOD.e5458_s3126_r9781_r9778\n",
      "formats:DAOD_MUON2\n",
      "ds:mc16_13TeV.410501.PowhegPythia8EvtGen_A14_ttbar_hdamp258p75_nonallhad.merge.AOD.e5458_s3126_r9781_r9778\n",
      "formats:DAOD_MUON3\n",
      "ds:mc16_13TeV.410501.PowhegPythia8EvtGen_A14_ttbar_hdamp258p75_nonallhad.merge.AOD.e5458_s3126_r9781_r9778\n",
      "formats:DAOD_MUON4\n",
      "ds:mc16_13TeV.410501.PowhegPythia8EvtGen_A14_ttbar_hdamp258p75_nonallhad.merge.AOD.e5458_s3126_r9781_r9778\n",
      "formats:DAOD_FTAG1\n",
      "ds:mc16_13TeV.410501.PowhegPythia8EvtGen_A14_ttbar_hdamp258p75_nonallhad.merge.AOD.e5458_s3126_r9781_r9778\n",
      "formats:DAOD_FTAG2\n",
      "ds:mc16_13TeV.410501.PowhegPythia8EvtGen_A14_ttbar_hdamp258p75_nonallhad.merge.AOD.e5458_s3126_r9781_r9778\n",
      "formats:DAOD_FTAG3\n",
      "ds:mc16_13TeV.410501.PowhegPythia8EvtGen_A14_ttbar_hdamp258p75_nonallhad.merge.AOD.e5458_s3126_r9781_r9778\n",
      "formats:DAOD_FTAG4\n",
      "ds:mc16_13TeV.410501.PowhegPythia8EvtGen_A14_ttbar_hdamp258p75_nonallhad.merge.AOD.e5458_s3126_r9781_r9778\n",
      "formats:DAOD_FTAG5\n",
      "ds:mc16_13TeV.410501.PowhegPythia8EvtGen_A14_ttbar_hdamp258p75_nonallhad.merge.AOD.e5458_s3126_r9781_r9778\n",
      "formats:DAOD_TCAL1\n",
      "ds:mc16_13TeV.410501.PowhegPythia8EvtGen_A14_ttbar_hdamp258p75_nonallhad.merge.AOD.e5458_s3126_r9781_r9778\n",
      "formats:DAOD_BPHY1\n",
      "ds:mc16_13TeV.410501.PowhegPythia8EvtGen_A14_ttbar_hdamp258p75_nonallhad.merge.AOD.e5458_s3126_r9781_r9778\n",
      "formats:DAOD_BPHY10\n",
      "ds:mc16_13TeV.410501.PowhegPythia8EvtGen_A14_ttbar_hdamp258p75_nonallhad.merge.AOD.e5458_s3126_r9781_r9778\n",
      "formats:DAOD_BPHY11\n",
      "ds:mc16_13TeV.410501.PowhegPythia8EvtGen_A14_ttbar_hdamp258p75_nonallhad.merge.AOD.e5458_s3126_r9781_r9778\n",
      "formats:DAOD_BPHY12\n",
      "ds:mc16_13TeV.410501.PowhegPythia8EvtGen_A14_ttbar_hdamp258p75_nonallhad.merge.AOD.e5458_s3126_r9781_r9778\n",
      "formats:DAOD_BPHY2\n",
      "ds:mc16_13TeV.410501.PowhegPythia8EvtGen_A14_ttbar_hdamp258p75_nonallhad.merge.AOD.e5458_s3126_r9781_r9778\n",
      "formats:DAOD_BPHY3\n",
      "ds:mc16_13TeV.410501.PowhegPythia8EvtGen_A14_ttbar_hdamp258p75_nonallhad.merge.AOD.e5458_s3126_r9781_r9778\n",
      "formats:DAOD_BPHY4\n",
      "ds:mc16_13TeV.410501.PowhegPythia8EvtGen_A14_ttbar_hdamp258p75_nonallhad.merge.AOD.e5458_s3126_r9781_r9778\n",
      "formats:DAOD_BPHY5\n",
      "ds:mc16_13TeV.410501.PowhegPythia8EvtGen_A14_ttbar_hdamp258p75_nonallhad.merge.AOD.e5458_s3126_r9781_r9778\n",
      "formats:DAOD_BPHY6\n",
      "ds:mc16_13TeV.410501.PowhegPythia8EvtGen_A14_ttbar_hdamp258p75_nonallhad.merge.AOD.e5458_s3126_r9781_r9778\n",
      "formats:DAOD_BPHY7\n",
      "ds:mc16_13TeV.410501.PowhegPythia8EvtGen_A14_ttbar_hdamp258p75_nonallhad.merge.AOD.e5458_s3126_r9781_r9778\n",
      "formats:DAOD_BPHY8\n",
      "ds:mc16_13TeV.410501.PowhegPythia8EvtGen_A14_ttbar_hdamp258p75_nonallhad.merge.AOD.e5458_s3126_r9781_r9778\n",
      "formats:DAOD_BPHY9\n",
      "ds:mc16_13TeV.410501.PowhegPythia8EvtGen_A14_ttbar_hdamp258p75_nonallhad.merge.AOD.e5458_s3126_r9781_r9778\n",
      "\n",
      "dict_keys(['mc15', 'mc16', 'BPHYSLS', 'data18', 'DELAYED'])\n"
     ]
    }
   ],
   "source": [
    "print(pattern_str)\n",
    "print(trainsAndIDs.keys())"
   ]
  },
  {
   "cell_type": "markdown",
   "metadata": {},
   "source": [
    "These are the various tests which are run"
   ]
  },
  {
   "cell_type": "code",
   "execution_count": 30,
   "metadata": {},
   "outputs": [
    {
     "data": {
      "text/plain": [
       "dict_keys(['mc15', 'mc16', 'BPHYSLS', 'data18', 'DELAYED'])"
      ]
     },
     "execution_count": 30,
     "metadata": {},
     "output_type": "execute_result"
    }
   ],
   "source": [
    "group_trains.keys()"
   ]
  },
  {
   "cell_type": "markdown",
   "metadata": {},
   "source": [
    "Sets the scope and it calculates the sizefrac (needs the filesizes extracted from one of the cells at the top)"
   ]
  },
  {
   "cell_type": "code",
   "execution_count": 31,
   "metadata": {},
   "outputs": [
    {
     "ename": "KeyError",
     "evalue": "'HION'",
     "output_type": "error",
     "traceback": [
      "\u001b[0;31m---------------------------------------------------------------------------\u001b[0m",
      "\u001b[0;31mKeyError\u001b[0m                                  Traceback (most recent call last)",
      "\u001b[0;32m<ipython-input-31-e1b8148f902d>\u001b[0m in \u001b[0;36m<module>\u001b[0;34m()\u001b[0m\n\u001b[1;32m      3\u001b[0m \u001b[0minsize\u001b[0m \u001b[0;34m=\u001b[0m \u001b[0;36m1.0\u001b[0m\u001b[0;34m\u001b[0m\u001b[0m\n\u001b[1;32m      4\u001b[0m \u001b[0msizefrac\u001b[0m\u001b[0;34m.\u001b[0m\u001b[0mloc\u001b[0m\u001b[0;34m[\u001b[0m\u001b[0;34m:\u001b[0m\u001b[0;34m,\u001b[0m\u001b[0;34m'EXOT23'\u001b[0m\u001b[0;34m]\u001b[0m \u001b[0;34m/=\u001b[0m \u001b[0mfloat\u001b[0m\u001b[0;34m(\u001b[0m\u001b[0minfilesizes\u001b[0m\u001b[0;34m[\u001b[0m\u001b[0;34m'dataFileEXOT23'\u001b[0m\u001b[0;34m]\u001b[0m\u001b[0;34m)\u001b[0m\u001b[0;34m\u001b[0m\u001b[0m\n\u001b[0;32m----> 5\u001b[0;31m \u001b[0msizefrac\u001b[0m\u001b[0;34m.\u001b[0m\u001b[0mloc\u001b[0m\u001b[0;34m[\u001b[0m\u001b[0;34m:\u001b[0m\u001b[0;34m,\u001b[0m\u001b[0mgroup_trains\u001b[0m\u001b[0;34m[\u001b[0m\u001b[0mscope\u001b[0m\u001b[0;34m]\u001b[0m\u001b[0;34m[\u001b[0m\u001b[0;34m'HION'\u001b[0m\u001b[0;34m]\u001b[0m\u001b[0;34m]\u001b[0m \u001b[0;34m/=\u001b[0m \u001b[0mfloat\u001b[0m\u001b[0;34m(\u001b[0m\u001b[0minfilesizes\u001b[0m\u001b[0;34m[\u001b[0m\u001b[0;34m'heavyIonFile'\u001b[0m\u001b[0;34m]\u001b[0m\u001b[0;34m)\u001b[0m\u001b[0;34m\u001b[0m\u001b[0m\n\u001b[0m\u001b[1;32m      6\u001b[0m \u001b[0msizefrac\u001b[0m\u001b[0;34m[\u001b[0m\u001b[0msizefrac\u001b[0m\u001b[0;34m.\u001b[0m\u001b[0mcolumns\u001b[0m\u001b[0;34m.\u001b[0m\u001b[0mdifference\u001b[0m\u001b[0;34m(\u001b[0m\u001b[0mgroup_trains\u001b[0m\u001b[0;34m[\u001b[0m\u001b[0mscope\u001b[0m\u001b[0;34m]\u001b[0m\u001b[0;34m[\u001b[0m\u001b[0;34m'HION'\u001b[0m\u001b[0;34m]\u001b[0m\u001b[0;34m+\u001b[0m\u001b[0;34m[\u001b[0m\u001b[0;34m'EXOT23'\u001b[0m\u001b[0;34m]\u001b[0m\u001b[0;34m)\u001b[0m\u001b[0;34m]\u001b[0m \u001b[0;34m/=\u001b[0m \u001b[0mfloat\u001b[0m\u001b[0;34m(\u001b[0m\u001b[0minfilesizes\u001b[0m\u001b[0;34m[\u001b[0m\u001b[0;34m'dataFile'\u001b[0m\u001b[0;34m]\u001b[0m\u001b[0;34m)\u001b[0m\u001b[0;34m\u001b[0m\u001b[0m\n",
      "\u001b[0;31mKeyError\u001b[0m: 'HION'"
     ]
    }
   ],
   "source": [
    "scope = \"data18\"\n",
    "sizefrac = pd.read_csv(\"data/outputfilebytes_timeseries_%s.csv\"%scope,index_col='date',parse_dates=['date'])\n",
    "insize = 1.0\n",
    "sizefrac.loc[:,'EXOT23'] /= float(infilesizes['dataFileEXOT23'])\n",
    "sizefrac.loc[:,group_trains[scope]['HION']] /= float(infilesizes['heavyIonFile'])\n",
    "sizefrac[sizefrac.columns.difference(group_trains[scope]['HION']+['EXOT23'])] /= float(infilesizes['dataFile'])"
   ]
  },
  {
   "cell_type": "markdown",
   "metadata": {},
   "source": [
    "The one below gives you the latest size fraction for both trains and individual formats"
   ]
  },
  {
   "cell_type": "code",
   "execution_count": null,
   "metadata": {
    "collapsed": true
   },
   "outputs": [],
   "source": [
    "sizefractions_value  = []\n",
    "sizefractions_format = []\n",
    "lst = list(sizefrac.iloc[[-2]].items())\n",
    "print(len(lst))\n",
    "doBreak = False\n",
    "while len(sizefractions_format) < len(lst) and not doBreak:\n",
    "    max_sf = -999\n",
    "    max_fm = \"\"\n",
    "    for name, values in lst:\n",
    "        # check if it is a train\n",
    "        #print(name.split())\n",
    "        if len(name.split()) > 1: continue \n",
    "        if values[0] > max_sf and not name in sizefractions_format:\n",
    "            max_sf = values[0]\n",
    "            max_fm = name\n",
    "            #print('{name}: {value}'.format(name=name, value=values[0]))\n",
    "    if max_fm in sizefractions_format or max_sf == -999:\n",
    "        print(\"WARNING \\t Key %s is already in keys. BREAK!\" %max_fm)\n",
    "        break\n",
    "    sizefractions_value.append(max_sf)\n",
    "    sizefractions_format.append(max_fm)\n",
    "    #print(\"length = %i\"%len(sizefractions.keys()))"
   ]
  },
  {
   "cell_type": "markdown",
   "metadata": {},
   "source": [
    "The below prints a sorted list of the size fractions"
   ]
  },
  {
   "cell_type": "code",
   "execution_count": null,
   "metadata": {
    "collapsed": true
   },
   "outputs": [],
   "source": [
    "for i in range(len(sizefractions_value)):\n",
    "    print(\"%20s %4.6f\" %(sizefractions_format[i],sizefractions_value[i]*100.))"
   ]
  },
  {
   "cell_type": "code",
   "execution_count": null,
   "metadata": {
    "collapsed": true
   },
   "outputs": [],
   "source": [
    "float(infilesizes['dataFile'])/1.0e9\n",
    "932014369./float(infilesizes['dataFile'])"
   ]
  },
  {
   "cell_type": "markdown",
   "metadata": {},
   "source": [
    "<style  type=\"text/css\" >\n",
    "    #T_d41a194e_1721_11e8_89ed_001b215b3eebrow0_col0 {\n",
    "            background-color:  green;\n",
    "        }    #T_d41a194e_1721_11e8_89ed_001b215b3eebrow0_col1 {\n",
    "            background-color:  green;\n",
    "        }    #T_d41a194e_1721_11e8_89ed_001b215b3eebrow0_col2 {\n",
    "            background-color:  green;\n",
    "        }    #T_d41a194e_1721_11e8_89ed_001b215b3eebrow0_col3 {\n",
    "            background-color:  green;\n",
    "        }    #T_d41a194e_1721_11e8_89ed_001b215b3eebrow0_col4 {\n",
    "            background-color:  red;\n",
    "        }    #T_d41a194e_1721_11e8_89ed_001b215b3eebrow0_col5 {\n",
    "            background-color:  green;\n",
    "        }    #T_d41a194e_1721_11e8_89ed_001b215b3eebrow0_col6 {\n",
    "            background-color:  green;\n",
    "        }    #T_d41a194e_1721_11e8_89ed_001b215b3eebrow0_col7 {\n",
    "            background-color:  green;\n",
    "        }    #T_d41a194e_1721_11e8_89ed_001b215b3eebrow0_col8 {\n",
    "            background-color:  green;\n",
    "        }    #T_d41a194e_1721_11e8_89ed_001b215b3eebrow0_col9 {\n",
    "            background-color:  green;\n",
    "        }    #T_d41a194e_1721_11e8_89ed_001b215b3eebrow0_col10 {\n",
    "            background-color:  green;\n",
    "        }    #T_d41a194e_1721_11e8_89ed_001b215b3eebrow0_col11 {\n",
    "            background-color:  green;\n",
    "        }    #T_d41a194e_1721_11e8_89ed_001b215b3eebrow0_col12 {\n",
    "            background-color:  green;\n",
    "        }    #T_d41a194e_1721_11e8_89ed_001b215b3eebrow0_col13 {\n",
    "            background-color:  green;\n",
    "        }    #T_d41a194e_1721_11e8_89ed_001b215b3eebrow0_col14 {\n",
    "            background-color:  green;\n",
    "        }    #T_d41a194e_1721_11e8_89ed_001b215b3eebrow0_col15 {\n",
    "            background-color:  green;\n",
    "        }    #T_d41a194e_1721_11e8_89ed_001b215b3eebrow0_col16 {\n",
    "            background-color:  green;\n",
    "        }    #T_d41a194e_1721_11e8_89ed_001b215b3eebrow0_col17 {\n",
    "            background-color:  green;\n",
    "        }    #T_d41a194e_1721_11e8_89ed_001b215b3eebrow0_col18 {\n",
    "            background-color:  green;\n",
    "        }    #T_d41a194e_1721_11e8_89ed_001b215b3eebrow0_col19 {\n",
    "            background-color:  green;\n",
    "        }    #T_d41a194e_1721_11e8_89ed_001b215b3eebrow0_col20 {\n",
    "            background-color:  green;\n",
    "        }    #T_d41a194e_1721_11e8_89ed_001b215b3eebrow0_col21 {\n",
    "            background-color:  green;\n",
    "        }    #T_d41a194e_1721_11e8_89ed_001b215b3eebrow0_col22 {\n",
    "            background-color:  green;\n",
    "        }    #T_d41a194e_1721_11e8_89ed_001b215b3eebrow0_col23 {\n",
    "            background-color:  green;\n",
    "        }    #T_d41a194e_1721_11e8_89ed_001b215b3eebrow0_col24 {\n",
    "            background-color:  green;\n",
    "        }    #T_d41a194e_1721_11e8_89ed_001b215b3eebrow0_col25 {\n",
    "            background-color:  green;\n",
    "        }    #T_d41a194e_1721_11e8_89ed_001b215b3eebrow0_col26 {\n",
    "            background-color:  green;\n",
    "        }    #T_d41a194e_1721_11e8_89ed_001b215b3eebrow0_col27 {\n",
    "            background-color:  green;\n",
    "        }    #T_d41a194e_1721_11e8_89ed_001b215b3eebrow0_col28 {\n",
    "            background-color:  green;\n",
    "        }    #T_d41a194e_1721_11e8_89ed_001b215b3eebrow1_col0 {\n",
    "            background-color:  green;\n",
    "        }    #T_d41a194e_1721_11e8_89ed_001b215b3eebrow1_col1 {\n",
    "            background-color:  green;\n",
    "        }    #T_d41a194e_1721_11e8_89ed_001b215b3eebrow1_col2 {\n",
    "            background-color:  green;\n",
    "        }    #T_d41a194e_1721_11e8_89ed_001b215b3eebrow1_col3 {\n",
    "            background-color:  green;\n",
    "        }    #T_d41a194e_1721_11e8_89ed_001b215b3eebrow1_col4 {\n",
    "            background-color:  red;\n",
    "        }    #T_d41a194e_1721_11e8_89ed_001b215b3eebrow1_col5 {\n",
    "            background-color:  green;\n",
    "        }    #T_d41a194e_1721_11e8_89ed_001b215b3eebrow1_col6 {\n",
    "            background-color:  green;\n",
    "        }    #T_d41a194e_1721_11e8_89ed_001b215b3eebrow1_col7 {\n",
    "            background-color:  green;\n",
    "        }    #T_d41a194e_1721_11e8_89ed_001b215b3eebrow1_col8 {\n",
    "            background-color:  green;\n",
    "        }    #T_d41a194e_1721_11e8_89ed_001b215b3eebrow1_col9 {\n",
    "            background-color:  green;\n",
    "        }    #T_d41a194e_1721_11e8_89ed_001b215b3eebrow1_col10 {\n",
    "            background-color:  green;\n",
    "        }    #T_d41a194e_1721_11e8_89ed_001b215b3eebrow1_col11 {\n",
    "            background-color:  green;\n",
    "        }    #T_d41a194e_1721_11e8_89ed_001b215b3eebrow1_col12 {\n",
    "            background-color:  green;\n",
    "        }    #T_d41a194e_1721_11e8_89ed_001b215b3eebrow1_col13 {\n",
    "            background-color:  green;\n",
    "        }    #T_d41a194e_1721_11e8_89ed_001b215b3eebrow1_col14 {\n",
    "            background-color:  green;\n",
    "        }    #T_d41a194e_1721_11e8_89ed_001b215b3eebrow1_col15 {\n",
    "            background-color:  green;\n",
    "        }    #T_d41a194e_1721_11e8_89ed_001b215b3eebrow1_col16 {\n",
    "            background-color:  green;\n",
    "        }    #T_d41a194e_1721_11e8_89ed_001b215b3eebrow1_col17 {\n",
    "            background-color:  green;\n",
    "        }    #T_d41a194e_1721_11e8_89ed_001b215b3eebrow1_col18 {\n",
    "            background-color:  green;\n",
    "        }    #T_d41a194e_1721_11e8_89ed_001b215b3eebrow1_col19 {\n",
    "            background-color:  green;\n",
    "        }    #T_d41a194e_1721_11e8_89ed_001b215b3eebrow1_col20 {\n",
    "            background-color:  green;\n",
    "        }    #T_d41a194e_1721_11e8_89ed_001b215b3eebrow1_col21 {\n",
    "            background-color:  green;\n",
    "        }    #T_d41a194e_1721_11e8_89ed_001b215b3eebrow1_col22 {\n",
    "            background-color:  green;\n",
    "        }    #T_d41a194e_1721_11e8_89ed_001b215b3eebrow1_col23 {\n",
    "            background-color:  green;\n",
    "        }    #T_d41a194e_1721_11e8_89ed_001b215b3eebrow1_col24 {\n",
    "            background-color:  green;\n",
    "        }    #T_d41a194e_1721_11e8_89ed_001b215b3eebrow1_col25 {\n",
    "            background-color:  green;\n",
    "        }    #T_d41a194e_1721_11e8_89ed_001b215b3eebrow1_col26 {\n",
    "            background-color:  green;\n",
    "        }    #T_d41a194e_1721_11e8_89ed_001b215b3eebrow1_col27 {\n",
    "            background-color:  green;\n",
    "        }    #T_d41a194e_1721_11e8_89ed_001b215b3eebrow1_col28 {\n",
    "            background-color:  green;\n",
    "        }    #T_d41a194e_1721_11e8_89ed_001b215b3eebrow2_col0 {\n",
    "            background-color:  green;\n",
    "        }    #T_d41a194e_1721_11e8_89ed_001b215b3eebrow2_col1 {\n",
    "            background-color:  green;\n",
    "        }    #T_d41a194e_1721_11e8_89ed_001b215b3eebrow2_col2 {\n",
    "            background-color:  green;\n",
    "        }    #T_d41a194e_1721_11e8_89ed_001b215b3eebrow2_col3 {\n",
    "            background-color:  green;\n",
    "        }    #T_d41a194e_1721_11e8_89ed_001b215b3eebrow2_col4 {\n",
    "            background-color:  red;\n",
    "        }    #T_d41a194e_1721_11e8_89ed_001b215b3eebrow2_col5 {\n",
    "            background-color:  green;\n",
    "        }    #T_d41a194e_1721_11e8_89ed_001b215b3eebrow2_col6 {\n",
    "            background-color:  green;\n",
    "        }    #T_d41a194e_1721_11e8_89ed_001b215b3eebrow2_col7 {\n",
    "            background-color:  green;\n",
    "        }    #T_d41a194e_1721_11e8_89ed_001b215b3eebrow2_col8 {\n",
    "            background-color:  green;\n",
    "        }    #T_d41a194e_1721_11e8_89ed_001b215b3eebrow2_col9 {\n",
    "            background-color:  green;\n",
    "        }    #T_d41a194e_1721_11e8_89ed_001b215b3eebrow2_col10 {\n",
    "            background-color:  green;\n",
    "        }    #T_d41a194e_1721_11e8_89ed_001b215b3eebrow2_col11 {\n",
    "            background-color:  green;\n",
    "        }    #T_d41a194e_1721_11e8_89ed_001b215b3eebrow2_col12 {\n",
    "            background-color:  green;\n",
    "        }    #T_d41a194e_1721_11e8_89ed_001b215b3eebrow2_col13 {\n",
    "            background-color:  green;\n",
    "        }    #T_d41a194e_1721_11e8_89ed_001b215b3eebrow2_col14 {\n",
    "            background-color:  green;\n",
    "        }    #T_d41a194e_1721_11e8_89ed_001b215b3eebrow2_col15 {\n",
    "            background-color:  green;\n",
    "        }    #T_d41a194e_1721_11e8_89ed_001b215b3eebrow2_col16 {\n",
    "            background-color:  green;\n",
    "        }    #T_d41a194e_1721_11e8_89ed_001b215b3eebrow2_col17 {\n",
    "            background-color:  green;\n",
    "        }    #T_d41a194e_1721_11e8_89ed_001b215b3eebrow2_col18 {\n",
    "            background-color:  green;\n",
    "        }    #T_d41a194e_1721_11e8_89ed_001b215b3eebrow2_col19 {\n",
    "            background-color:  green;\n",
    "        }    #T_d41a194e_1721_11e8_89ed_001b215b3eebrow2_col20 {\n",
    "            background-color:  green;\n",
    "        }    #T_d41a194e_1721_11e8_89ed_001b215b3eebrow2_col21 {\n",
    "            background-color:  green;\n",
    "        }    #T_d41a194e_1721_11e8_89ed_001b215b3eebrow2_col22 {\n",
    "            background-color:  green;\n",
    "        }    #T_d41a194e_1721_11e8_89ed_001b215b3eebrow2_col23 {\n",
    "            background-color:  green;\n",
    "        }    #T_d41a194e_1721_11e8_89ed_001b215b3eebrow2_col24 {\n",
    "            background-color:  green;\n",
    "        }    #T_d41a194e_1721_11e8_89ed_001b215b3eebrow2_col25 {\n",
    "            background-color:  green;\n",
    "        }    #T_d41a194e_1721_11e8_89ed_001b215b3eebrow2_col26 {\n",
    "            background-color:  green;\n",
    "        }    #T_d41a194e_1721_11e8_89ed_001b215b3eebrow2_col27 {\n",
    "            background-color:  green;\n",
    "        }    #T_d41a194e_1721_11e8_89ed_001b215b3eebrow2_col28 {\n",
    "            background-color:  green;\n",
    "        }</style>  \n",
    "<table id=\"T_d41a194e_1721_11e8_89ed_001b215b3eeb\" > \n",
    "<thead>    <tr> \n",
    "        <th class=\"index_name level0\" >date</th> \n",
    "        <th class=\"col_heading level0 col0\" >2018-02-20 00:00:00</th> \n",
    "        <th class=\"col_heading level0 col1\" >2018-02-19 00:00:00</th> \n",
    "        <th class=\"col_heading level0 col2\" >2018-02-18 00:00:00</th> \n",
    "        <th class=\"col_heading level0 col3\" >2018-02-17 00:00:00</th> \n",
    "        <th class=\"col_heading level0 col4\" >2018-02-16 00:00:00</th> \n",
    "        <th class=\"col_heading level0 col5\" >2018-02-15 00:00:00</th> \n",
    "        <th class=\"col_heading level0 col6\" >2018-02-14 00:00:00</th> \n",
    "        <th class=\"col_heading level0 col7\" >2018-02-13 00:00:00</th> \n",
    "        <th class=\"col_heading level0 col8\" >2018-02-12 00:00:00</th> \n",
    "        <th class=\"col_heading level0 col9\" >2018-02-11 00:00:00</th> \n",
    "        <th class=\"col_heading level0 col10\" >2018-02-10 00:00:00</th> \n",
    "        <th class=\"col_heading level0 col11\" >2018-02-09 00:00:00</th> \n",
    "        <th class=\"col_heading level0 col12\" >2018-02-08 00:00:00</th> \n",
    "        <th class=\"col_heading level0 col13\" >2018-02-07 00:00:00</th> \n",
    "        <th class=\"col_heading level0 col14\" >2018-02-06 00:00:00</th> \n",
    "        <th class=\"col_heading level0 col15\" >2018-02-04 00:00:00</th> \n",
    "        <th class=\"col_heading level0 col16\" >2018-02-03 00:00:00</th> \n",
    "        <th class=\"col_heading level0 col17\" >2018-02-02 00:00:00</th> \n",
    "        <th class=\"col_heading level0 col18\" >2018-02-01 00:00:00</th> \n",
    "        <th class=\"col_heading level0 col19\" >2018-01-31 00:00:00</th> \n",
    "        <th class=\"col_heading level0 col20\" >2018-01-30 00:00:00</th> \n",
    "        <th class=\"col_heading level0 col21\" >2018-01-29 00:00:00</th> \n",
    "        <th class=\"col_heading level0 col22\" >2018-01-28 00:00:00</th> \n",
    "        <th class=\"col_heading level0 col23\" >2018-01-27 00:00:00</th> \n",
    "        <th class=\"col_heading level0 col24\" >2018-01-26 00:00:00</th> \n",
    "        <th class=\"col_heading level0 col25\" >2018-01-25 00:00:00</th> \n",
    "        <th class=\"col_heading level0 col26\" >2018-01-24 00:00:00</th> \n",
    "        <th class=\"col_heading level0 col27\" >2018-01-23 00:00:00</th> \n",
    "        <th class=\"col_heading level0 col28\" >2018-01-22 00:00:00</th> \n",
    "    </tr></thead> \n",
    "<tbody>    <tr> \n",
    "        <th id=\"T_d41a194e_1721_11e8_89ed_001b215b3eeblevel0_row0\" class=\"row_heading level0 row0\" >TRUTH0</th> \n",
    "        <td id=\"T_d41a194e_1721_11e8_89ed_001b215b3eebrow0_col0\" class=\"data row0 col0\" >finished</td> \n",
    "        <td id=\"T_d41a194e_1721_11e8_89ed_001b215b3eebrow0_col1\" class=\"data row0 col1\" >finished</td> \n",
    "        <td id=\"T_d41a194e_1721_11e8_89ed_001b215b3eebrow0_col2\" class=\"data row0 col2\" >finished</td> \n",
    "        <td id=\"T_d41a194e_1721_11e8_89ed_001b215b3eebrow0_col3\" class=\"data row0 col3\" >finished</td> \n",
    "        <td id=\"T_d41a194e_1721_11e8_89ed_001b215b3eebrow0_col4\" class=\"data row0 col4\" >nan</td> \n",
    "        <td id=\"T_d41a194e_1721_11e8_89ed_001b215b3eebrow0_col5\" class=\"data row0 col5\" >finished</td> \n",
    "        <td id=\"T_d41a194e_1721_11e8_89ed_001b215b3eebrow0_col6\" class=\"data row0 col6\" >finished</td> \n",
    "        <td id=\"T_d41a194e_1721_11e8_89ed_001b215b3eebrow0_col7\" class=\"data row0 col7\" >finished</td> \n",
    "        <td id=\"T_d41a194e_1721_11e8_89ed_001b215b3eebrow0_col8\" class=\"data row0 col8\" >finished</td> \n",
    "        <td id=\"T_d41a194e_1721_11e8_89ed_001b215b3eebrow0_col9\" class=\"data row0 col9\" >finished</td> \n",
    "        <td id=\"T_d41a194e_1721_11e8_89ed_001b215b3eebrow0_col10\" class=\"data row0 col10\" >finished</td> \n",
    "        <td id=\"T_d41a194e_1721_11e8_89ed_001b215b3eebrow0_col11\" class=\"data row0 col11\" >finished</td> \n",
    "        <td id=\"T_d41a194e_1721_11e8_89ed_001b215b3eebrow0_col12\" class=\"data row0 col12\" >finished</td> \n",
    "        <td id=\"T_d41a194e_1721_11e8_89ed_001b215b3eebrow0_col13\" class=\"data row0 col13\" >finished</td> \n",
    "        <td id=\"T_d41a194e_1721_11e8_89ed_001b215b3eebrow0_col14\" class=\"data row0 col14\" >finished</td> \n",
    "        <td id=\"T_d41a194e_1721_11e8_89ed_001b215b3eebrow0_col15\" class=\"data row0 col15\" >finished</td> \n",
    "        <td id=\"T_d41a194e_1721_11e8_89ed_001b215b3eebrow0_col16\" class=\"data row0 col16\" >finished</td> \n",
    "        <td id=\"T_d41a194e_1721_11e8_89ed_001b215b3eebrow0_col17\" class=\"data row0 col17\" >finished</td> \n",
    "        <td id=\"T_d41a194e_1721_11e8_89ed_001b215b3eebrow0_col18\" class=\"data row0 col18\" >finished</td> \n",
    "        <td id=\"T_d41a194e_1721_11e8_89ed_001b215b3eebrow0_col19\" class=\"data row0 col19\" >finished</td> \n",
    "        <td id=\"T_d41a194e_1721_11e8_89ed_001b215b3eebrow0_col20\" class=\"data row0 col20\" >finished</td> \n",
    "        <td id=\"T_d41a194e_1721_11e8_89ed_001b215b3eebrow0_col21\" class=\"data row0 col21\" >finished</td> \n",
    "        <td id=\"T_d41a194e_1721_11e8_89ed_001b215b3eebrow0_col22\" class=\"data row0 col22\" >finished</td> \n",
    "        <td id=\"T_d41a194e_1721_11e8_89ed_001b215b3eebrow0_col23\" class=\"data row0 col23\" >finished</td> \n",
    "        <td id=\"T_d41a194e_1721_11e8_89ed_001b215b3eebrow0_col24\" class=\"data row0 col24\" >finished</td> \n",
    "        <td id=\"T_d41a194e_1721_11e8_89ed_001b215b3eebrow0_col25\" class=\"data row0 col25\" >finished</td> \n",
    "        <td id=\"T_d41a194e_1721_11e8_89ed_001b215b3eebrow0_col26\" class=\"data row0 col26\" >finished</td> \n",
    "        <td id=\"T_d41a194e_1721_11e8_89ed_001b215b3eebrow0_col27\" class=\"data row0 col27\" >finished</td> \n",
    "        <td id=\"T_d41a194e_1721_11e8_89ed_001b215b3eebrow0_col28\" class=\"data row0 col28\" >finished</td> \n",
    "    </tr>    <tr> \n",
    "        <th id=\"T_d41a194e_1721_11e8_89ed_001b215b3eeblevel0_row1\" class=\"row_heading level0 row1\" >TRUTH1</th> \n",
    "        <td id=\"T_d41a194e_1721_11e8_89ed_001b215b3eebrow1_col0\" class=\"data row1 col0\" >finished</td> \n",
    "        <td id=\"T_d41a194e_1721_11e8_89ed_001b215b3eebrow1_col1\" class=\"data row1 col1\" >finished</td> \n",
    "        <td id=\"T_d41a194e_1721_11e8_89ed_001b215b3eebrow1_col2\" class=\"data row1 col2\" >finished</td> \n",
    "        <td id=\"T_d41a194e_1721_11e8_89ed_001b215b3eebrow1_col3\" class=\"data row1 col3\" >finished</td> \n",
    "        <td id=\"T_d41a194e_1721_11e8_89ed_001b215b3eebrow1_col4\" class=\"data row1 col4\" >nan</td> \n",
    "        <td id=\"T_d41a194e_1721_11e8_89ed_001b215b3eebrow1_col5\" class=\"data row1 col5\" >finished</td> \n",
    "        <td id=\"T_d41a194e_1721_11e8_89ed_001b215b3eebrow1_col6\" class=\"data row1 col6\" >finished</td> \n",
    "        <td id=\"T_d41a194e_1721_11e8_89ed_001b215b3eebrow1_col7\" class=\"data row1 col7\" >finished</td> \n",
    "        <td id=\"T_d41a194e_1721_11e8_89ed_001b215b3eebrow1_col8\" class=\"data row1 col8\" >finished</td> \n",
    "        <td id=\"T_d41a194e_1721_11e8_89ed_001b215b3eebrow1_col9\" class=\"data row1 col9\" >finished</td> \n",
    "        <td id=\"T_d41a194e_1721_11e8_89ed_001b215b3eebrow1_col10\" class=\"data row1 col10\" >finished</td> \n",
    "        <td id=\"T_d41a194e_1721_11e8_89ed_001b215b3eebrow1_col11\" class=\"data row1 col11\" >finished</td> \n",
    "        <td id=\"T_d41a194e_1721_11e8_89ed_001b215b3eebrow1_col12\" class=\"data row1 col12\" >finished</td> \n",
    "        <td id=\"T_d41a194e_1721_11e8_89ed_001b215b3eebrow1_col13\" class=\"data row1 col13\" >finished</td> \n",
    "        <td id=\"T_d41a194e_1721_11e8_89ed_001b215b3eebrow1_col14\" class=\"data row1 col14\" >finished</td> \n",
    "        <td id=\"T_d41a194e_1721_11e8_89ed_001b215b3eebrow1_col15\" class=\"data row1 col15\" >finished</td> \n",
    "        <td id=\"T_d41a194e_1721_11e8_89ed_001b215b3eebrow1_col16\" class=\"data row1 col16\" >finished</td> \n",
    "        <td id=\"T_d41a194e_1721_11e8_89ed_001b215b3eebrow1_col17\" class=\"data row1 col17\" >finished</td> \n",
    "        <td id=\"T_d41a194e_1721_11e8_89ed_001b215b3eebrow1_col18\" class=\"data row1 col18\" >finished</td> \n",
    "        <td id=\"T_d41a194e_1721_11e8_89ed_001b215b3eebrow1_col19\" class=\"data row1 col19\" >finished</td> \n",
    "        <td id=\"T_d41a194e_1721_11e8_89ed_001b215b3eebrow1_col20\" class=\"data row1 col20\" >finished</td> \n",
    "        <td id=\"T_d41a194e_1721_11e8_89ed_001b215b3eebrow1_col21\" class=\"data row1 col21\" >finished</td> \n",
    "        <td id=\"T_d41a194e_1721_11e8_89ed_001b215b3eebrow1_col22\" class=\"data row1 col22\" >finished</td> \n",
    "        <td id=\"T_d41a194e_1721_11e8_89ed_001b215b3eebrow1_col23\" class=\"data row1 col23\" >finished</td> \n",
    "        <td id=\"T_d41a194e_1721_11e8_89ed_001b215b3eebrow1_col24\" class=\"data row1 col24\" >finished</td> \n",
    "        <td id=\"T_d41a194e_1721_11e8_89ed_001b215b3eebrow1_col25\" class=\"data row1 col25\" >finished</td> \n",
    "        <td id=\"T_d41a194e_1721_11e8_89ed_001b215b3eebrow1_col26\" class=\"data row1 col26\" >finished</td> \n",
    "        <td id=\"T_d41a194e_1721_11e8_89ed_001b215b3eebrow1_col27\" class=\"data row1 col27\" >finished</td> \n",
    "        <td id=\"T_d41a194e_1721_11e8_89ed_001b215b3eebrow1_col28\" class=\"data row1 col28\" >finished</td> \n",
    "    </tr>    <tr> \n",
    "        <th id=\"T_d41a194e_1721_11e8_89ed_001b215b3eeblevel0_row2\" class=\"row_heading level0 row2\" >TRUTH3</th> \n",
    "        <td id=\"T_d41a194e_1721_11e8_89ed_001b215b3eebrow2_col0\" class=\"data row2 col0\" >finished</td> \n",
    "        <td id=\"T_d41a194e_1721_11e8_89ed_001b215b3eebrow2_col1\" class=\"data row2 col1\" >finished</td> \n",
    "        <td id=\"T_d41a194e_1721_11e8_89ed_001b215b3eebrow2_col2\" class=\"data row2 col2\" >finished</td> \n",
    "        <td id=\"T_d41a194e_1721_11e8_89ed_001b215b3eebrow2_col3\" class=\"data row2 col3\" >finished</td> \n",
    "        <td id=\"T_d41a194e_1721_11e8_89ed_001b215b3eebrow2_col4\" class=\"data row2 col4\" >nan</td> \n",
    "        <td id=\"T_d41a194e_1721_11e8_89ed_001b215b3eebrow2_col5\" class=\"data row2 col5\" >finished</td> \n",
    "        <td id=\"T_d41a194e_1721_11e8_89ed_001b215b3eebrow2_col6\" class=\"data row2 col6\" >finished</td> \n",
    "        <td id=\"T_d41a194e_1721_11e8_89ed_001b215b3eebrow2_col7\" class=\"data row2 col7\" >finished</td> \n",
    "        <td id=\"T_d41a194e_1721_11e8_89ed_001b215b3eebrow2_col8\" class=\"data row2 col8\" >finished</td> \n",
    "        <td id=\"T_d41a194e_1721_11e8_89ed_001b215b3eebrow2_col9\" class=\"data row2 col9\" >finished</td> \n",
    "        <td id=\"T_d41a194e_1721_11e8_89ed_001b215b3eebrow2_col10\" class=\"data row2 col10\" >finished</td> \n",
    "        <td id=\"T_d41a194e_1721_11e8_89ed_001b215b3eebrow2_col11\" class=\"data row2 col11\" >finished</td> \n",
    "        <td id=\"T_d41a194e_1721_11e8_89ed_001b215b3eebrow2_col12\" class=\"data row2 col12\" >finished</td> \n",
    "        <td id=\"T_d41a194e_1721_11e8_89ed_001b215b3eebrow2_col13\" class=\"data row2 col13\" >finished</td> \n",
    "        <td id=\"T_d41a194e_1721_11e8_89ed_001b215b3eebrow2_col14\" class=\"data row2 col14\" >finished</td> \n",
    "        <td id=\"T_d41a194e_1721_11e8_89ed_001b215b3eebrow2_col15\" class=\"data row2 col15\" >finished</td> \n",
    "        <td id=\"T_d41a194e_1721_11e8_89ed_001b215b3eebrow2_col16\" class=\"data row2 col16\" >finished</td> \n",
    "        <td id=\"T_d41a194e_1721_11e8_89ed_001b215b3eebrow2_col17\" class=\"data row2 col17\" >finished</td> \n",
    "        <td id=\"T_d41a194e_1721_11e8_89ed_001b215b3eebrow2_col18\" class=\"data row2 col18\" >finished</td> \n",
    "        <td id=\"T_d41a194e_1721_11e8_89ed_001b215b3eebrow2_col19\" class=\"data row2 col19\" >finished</td> \n",
    "        <td id=\"T_d41a194e_1721_11e8_89ed_001b215b3eebrow2_col20\" class=\"data row2 col20\" >finished</td> \n",
    "        <td id=\"T_d41a194e_1721_11e8_89ed_001b215b3eebrow2_col21\" class=\"data row2 col21\" >finished</td> \n",
    "        <td id=\"T_d41a194e_1721_11e8_89ed_001b215b3eebrow2_col22\" class=\"data row2 col22\" >finished</td> \n",
    "        <td id=\"T_d41a194e_1721_11e8_89ed_001b215b3eebrow2_col23\" class=\"data row2 col23\" >finished</td> \n",
    "        <td id=\"T_d41a194e_1721_11e8_89ed_001b215b3eebrow2_col24\" class=\"data row2 col24\" >finished</td> \n",
    "        <td id=\"T_d41a194e_1721_11e8_89ed_001b215b3eebrow2_col25\" class=\"data row2 col25\" >finished</td> \n",
    "        <td id=\"T_d41a194e_1721_11e8_89ed_001b215b3eebrow2_col26\" class=\"data row2 col26\" >finished</td> \n",
    "        <td id=\"T_d41a194e_1721_11e8_89ed_001b215b3eebrow2_col27\" class=\"data row2 col27\" >finished</td> \n",
    "        <td id=\"T_d41a194e_1721_11e8_89ed_001b215b3eebrow2_col28\" class=\"data row2 col28\" >finished</td> \n",
    "    </tr></tbody> \n",
    "</table> "
   ]
  }
 ],
 "metadata": {
  "kernelspec": {
   "display_name": "Python 3",
   "language": "python",
   "name": "python3"
  },
  "language_info": {
   "codemirror_mode": {
    "name": "ipython",
    "version": 3
   },
   "file_extension": ".py",
   "mimetype": "text/x-python",
   "name": "python",
   "nbconvert_exporter": "python",
   "pygments_lexer": "ipython3",
   "version": "3.4.5"
  }
 },
 "nbformat": 4,
 "nbformat_minor": 2
}
