{
 "cells": [
  {
   "cell_type": "code",
   "execution_count": 1,
   "metadata": {
    "collapsed": true
   },
   "outputs": [],
   "source": [
    "import pickle\n",
    "import re\n",
    "import datetime\n",
    "from elasticsearch import Elasticsearch, helpers\n",
    "from elasticsearch.helpers import scan\n",
    "\n",
    "import numpy as np\n",
    "import pandas as pd\n",
    "\n",
    "es = Elasticsearch([{'host':'atlas-kibana.mwt2.org', 'port':9200}],timeout=60)\n",
    "\n",
    "#start_date = datetime.datetime(2017, 4, 7)\n",
    "start_date = datetime.datetime(2017, 5, 1)\n",
    "#curre_date = datetime.datetime(2017, 4, 30, 23, 59, 59)\n",
    "curre_date = datetime.datetime.utcnow()\n",
    "days_of_data = (curre_date - start_date).days\n",
    "\n",
    "benchmark_indices = ['benchmarks-2018.02'] #'benchmarks-2017.04',"
   ]
  },
  {
   "cell_type": "code",
   "execution_count": 2,
   "metadata": {},
   "outputs": [
    {
     "name": "stdout",
     "output_type": "stream",
     "text": [
      "jobs_archive_2017-05-01,jobs_archive_2017-05-02,jobs_archive_2017-05-03,jobs_archive_2017-05-04,jobs_archive_2017-05-05,jobs_archive_2017-05-06,jobs_archive_2017-05-07,jobs_archive_2017-05-08,jobs_archive_2017-05-09,jobs_archive_2017-05-10,jobs_archive_2017-05-11,jobs_archive_2017-05-12,jobs_archive_2017-05-13,jobs_archive_2017-05-14,jobs_archive_2017-05-15,jobs_archive_2017-05-16,jobs_archive_2017-05-17,jobs_archive_2017-05-18,jobs_archive_2017-05-19,jobs_archive_2017-05-20,jobs_archive_2017-05-21,jobs_archive_2017-05-22,jobs_archive_2017-05-23,jobs_archive_2017-05-24,jobs_archive_2017-05-25,jobs_archive_2017-05-26,jobs_archive_2017-05-27,jobs_archive_2017-05-28,jobs_archive_2017-05-29,jobs_archive_2017-05-30,jobs_archive_2017-05-31,jobs_archive_2017-06-01,jobs_archive_2017-06-02,jobs_archive_2017-06-03,jobs_archive_2017-06-04,jobs_archive_2017-06-05,jobs_archive_2017-06-06,jobs_archive_2017-06-07,jobs_archive_2017-06-08,jobs_archive_2017-06-09,jobs_archive_2017-06-10,jobs_archive_2017-06-11,jobs_archive_2017-06-12,jobs_archive_2017-06-13,jobs_archive_2017-06-14,jobs_archive_2017-06-15,jobs_archive_2017-06-16,jobs_archive_2017-06-17,jobs_archive_2017-06-18,jobs_archive_2017-06-19,jobs_archive_2017-06-20,jobs_archive_2017-06-21,jobs_archive_2017-06-22,jobs_archive_2017-06-23,jobs_archive_2017-06-24,jobs_archive_2017-06-25,jobs_archive_2017-06-26,jobs_archive_2017-06-27,jobs_archive_2017-06-28,jobs_archive_2017-06-29,jobs_archive_2017-06-30,jobs_archive_2017-07-01,jobs_archive_2017-07-02,jobs_archive_2017-07-03,jobs_archive_2017-07-04,jobs_archive_2017-07-05,jobs_archive_2017-07-06,jobs_archive_2017-07-07,jobs_archive_2017-07-08,jobs_archive_2017-07-09,jobs_archive_2017-07-10,jobs_archive_2017-07-11,jobs_archive_2017-07-12,jobs_archive_2017-07-13,jobs_archive_2017-07-14,jobs_archive_2017-07-15,jobs_archive_2017-07-16,jobs_archive_2017-07-17,jobs_archive_2017-07-18,jobs_archive_2017-07-19,jobs_archive_2017-07-20,jobs_archive_2017-07-21,jobs_archive_2017-07-22,jobs_archive_2017-07-23,jobs_archive_2017-07-24,jobs_archive_2017-07-25,jobs_archive_2017-07-26,jobs_archive_2017-07-27,jobs_archive_2017-07-28,jobs_archive_2017-07-29,jobs_archive_2017-07-30,jobs_archive_2017-07-31,jobs_archive_2017-08-01,jobs_archive_2017-08-02,jobs_archive_2017-08-03,jobs_archive_2017-08-04,jobs_archive_2017-08-05,jobs_archive_2017-08-06,jobs_archive_2017-08-07,jobs_archive_2017-08-08,jobs_archive_2017-08-09,jobs_archive_2017-08-10,jobs_archive_2017-08-11,jobs_archive_2017-08-12,jobs_archive_2017-08-13,jobs_archive_2017-08-14,jobs_archive_2017-08-15,jobs_archive_2017-08-16,jobs_archive_2017-08-17,jobs_archive_2017-08-18,jobs_archive_2017-08-19,jobs_archive_2017-08-20,jobs_archive_2017-08-21,jobs_archive_2017-08-22,jobs_archive_2017-08-23,jobs_archive_2017-08-24,jobs_archive_2017-08-25,jobs_archive_2017-08-26,jobs_archive_2017-08-27,jobs_archive_2017-08-28,jobs_archive_2017-08-29,jobs_archive_2017-08-30,jobs_archive_2017-08-31,jobs_archive_2017-09-01,jobs_archive_2017-09-02,jobs_archive_2017-09-03,jobs_archive_2017-09-04,jobs_archive_2017-09-05,jobs_archive_2017-09-06,jobs_archive_2017-09-07,jobs_archive_2017-09-08,jobs_archive_2017-09-09,jobs_archive_2017-09-10,jobs_archive_2017-09-11,jobs_archive_2017-09-12,jobs_archive_2017-09-13,jobs_archive_2017-09-14,jobs_archive_2017-09-15,jobs_archive_2017-09-16,jobs_archive_2017-09-17,jobs_archive_2017-09-18,jobs_archive_2017-09-19,jobs_archive_2017-09-20,jobs_archive_2017-09-21,jobs_archive_2017-09-22,jobs_archive_2017-09-23,jobs_archive_2017-09-24,jobs_archive_2017-09-25,jobs_archive_2017-09-26,jobs_archive_2017-09-27,jobs_archive_2017-09-28,jobs_archive_2017-09-29,jobs_archive_2017-09-30,jobs_archive_2017-10-01,jobs_archive_2017-10-02,jobs_archive_2017-10-03,jobs_archive_2017-10-04,jobs_archive_2017-10-05,jobs_archive_2017-10-06,jobs_archive_2017-10-07,jobs_archive_2017-10-08,jobs_archive_2017-10-09,jobs_archive_2017-10-10,jobs_archive_2017-10-11,jobs_archive_2017-10-12,jobs_archive_2017-10-13,jobs_archive_2017-10-14,jobs_archive_2017-10-15,jobs_archive_2017-10-16,jobs_archive_2017-10-17,jobs_archive_2017-10-18,jobs_archive_2017-10-19,jobs_archive_2017-10-20,jobs_archive_2017-10-21,jobs_archive_2017-10-22,jobs_archive_2017-10-23,jobs_archive_2017-10-24,jobs_archive_2017-10-25,jobs_archive_2017-10-26,jobs_archive_2017-10-27,jobs_archive_2017-10-28,jobs_archive_2017-10-29,jobs_archive_2017-10-30,jobs_archive_2017-10-31,jobs_archive_2017-11-01,jobs_archive_2017-11-02,jobs_archive_2017-11-03,jobs_archive_2017-11-04,jobs_archive_2017-11-05,jobs_archive_2017-11-06,jobs_archive_2017-11-07,jobs_archive_2017-11-08,jobs_archive_2017-11-09,jobs_archive_2017-11-10,jobs_archive_2017-11-11,jobs_archive_2017-11-12,jobs_archive_2017-11-13,jobs_archive_2017-11-14,jobs_archive_2017-11-15,jobs_archive_2017-11-16,jobs_archive_2017-11-17,jobs_archive_2017-11-18,jobs_archive_2017-11-19,jobs_archive_2017-11-20,jobs_archive_2017-11-21,jobs_archive_2017-11-22,jobs_archive_2017-11-23,jobs_archive_2017-11-24,jobs_archive_2017-11-25,jobs_archive_2017-11-26,jobs_archive_2017-11-27,jobs_archive_2017-11-28,jobs_archive_2017-11-29,jobs_archive_2017-11-30,jobs_archive_2017-12-01,jobs_archive_2017-12-02,jobs_archive_2017-12-03,jobs_archive_2017-12-04,jobs_archive_2017-12-05,jobs_archive_2017-12-06,jobs_archive_2017-12-07,jobs_archive_2017-12-08,jobs_archive_2017-12-09,jobs_archive_2017-12-10,jobs_archive_2017-12-11,jobs_archive_2017-12-12,jobs_archive_2017-12-13,jobs_archive_2017-12-14,jobs_archive_2017-12-15,jobs_archive_2017-12-16,jobs_archive_2017-12-17,jobs_archive_2017-12-18,jobs_archive_2017-12-19,jobs_archive_2017-12-20,jobs_archive_2017-12-21,jobs_archive_2017-12-22,jobs_archive_2017-12-23,jobs_archive_2017-12-24,jobs_archive_2017-12-25,jobs_archive_2017-12-26,jobs_archive_2017-12-27,jobs_archive_2017-12-28,jobs_archive_2017-12-29,jobs_archive_2017-12-30,jobs_archive_2017-12-31,jobs_archive_2018-01-01,jobs_archive_2018-01-02,jobs_archive_2018-01-03,jobs_archive_2018-01-04,jobs_archive_2018-01-05,jobs_archive_2018-01-06,jobs_archive_2018-01-07,jobs_archive_2018-01-08,jobs_archive_2018-01-09,jobs_archive_2018-01-10,jobs_archive_2018-01-11,jobs_archive_2018-01-12,jobs_archive_2018-01-13,jobs_archive_2018-01-14,jobs_archive_2018-01-15,jobs_archive_2018-01-16,jobs_archive_2018-01-17,jobs_archive_2018-01-18,jobs_archive_2018-01-19,jobs_archive_2018-01-20,jobs_archive_2018-01-21,jobs_archive_2018-01-22,jobs_archive_2018-01-23,jobs_archive_2018-01-24,jobs_archive_2018-01-25,jobs_archive_2018-01-26,jobs_archive_2018-01-27,jobs_archive_2018-01-28,jobs_archive_2018-01-29,jobs_archive_2018-01-30,jobs_archive_2018-01-31,jobs_archive_2018-02-01,jobs_archive_2018-02-02,jobs_archive_2018-02-03,jobs_archive_2018-02-04,jobs_archive_2018-02-05,jobs_archive_2018-02-06,jobs_archive_2018-02-07,jobs_archive_2018-02-08,jobs_archive_2018-02-09,jobs_archive_2018-02-10,jobs_archive_2018-02-11,jobs_archive_2018-02-12,jobs_archive_2018-02-13,jobs_archive_2018-02-14,jobs_archive_2018-02-15,jobs_archive_2018-02-16,jobs_archive_2018-02-17,jobs_archive_2018-02-18,jobs_archive_2018-02-19,jobs_archive_2018-02-20,jobs_archive_2018-02-21,jobs_archive_2018-02-22,jobs_archive_2018-02-23,jobs_archive_2018-02-24,jobs_archive_2018-02-25,jobs_archive_2018-02-26,jobs_archive_2018-02-27,jobs_archive_2018-02-28,jobs_archive_2018-03-01,jobs_archive_2018-03-02,jobs_archive_2018-03-03,jobs_archive_2018-03-04,jobs_archive_2018-03-05,jobs_archive_2018-03-06,jobs_archive_2018-03-07,jobs_archive_2018-03-08,jobs_archive_2018-03-09,jobs_archive_2018-03-10,jobs_archive_2018-03-11,jobs_archive_2018-03-12,jobs_archive_2018-03-13,jobs_archive_2018-03-14,jobs_archive_2018-03-15,jobs_archive_2018-03-16\n"
     ]
    }
   ],
   "source": [
    "# get job archive indices\n",
    "indices = es.cat.indices(index=\"jobs_archive_20*\", h=\"index\", request_timeout=600).split('\\n')\n",
    "indices = sorted(indices)\n",
    "indices = [x for x in indices if x != '']\n",
    "#for i in indices:\n",
    "#    print(i)\n",
    "\n",
    "selected_indices=[] \n",
    "for d in range(days_of_data+1):\n",
    "    td = start_date + datetime.timedelta(d)\n",
    "    ind = 'jobs_archive_'+td.strftime('%Y-%m-%d')\n",
    "    if ind in indices:\n",
    "        selected_indices.append(ind)\n",
    "\n",
    "job_indices = ','.join(selected_indices)\n",
    "print(job_indices)"
   ]
  },
  {
   "cell_type": "code",
   "execution_count": 3,
   "metadata": {},
   "outputs": [
    {
     "name": "stdout",
     "output_type": "stream",
     "text": [
      "hello world\n"
     ]
    }
   ],
   "source": [
    "print('hello world')"
   ]
  },
  {
   "cell_type": "code",
   "execution_count": null,
   "metadata": {
    "collapsed": true
   },
   "outputs": [],
   "source": []
  }
 ],
 "metadata": {
  "kernelspec": {
   "display_name": "Python 3",
   "language": "python",
   "name": "python3"
  },
  "language_info": {
   "codemirror_mode": {
    "name": "ipython",
    "version": 3
   },
   "file_extension": ".py",
   "mimetype": "text/x-python",
   "name": "python",
   "nbconvert_exporter": "python",
   "pygments_lexer": "ipython3",
   "version": "3.4.5"
  }
 },
 "nbformat": 4,
 "nbformat_minor": 2
}
