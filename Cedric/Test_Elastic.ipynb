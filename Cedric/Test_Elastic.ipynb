{
 "cells": [
  {
   "cell_type": "markdown",
   "metadata": {},
   "source": [
    "This is a test using ES in notebook"
   ]
  },
  {
   "cell_type": "code",
   "execution_count": 1,
   "metadata": {
    "collapsed": true
   },
   "outputs": [],
   "source": [
    "### %matplotlib inline\n",
    "import numpy as np\n",
    "import matplotlib.pyplot as plt\n",
    "import datetime\n",
    "import re\n",
    "from elasticsearch import Elasticsearch, exceptions as es_exceptions\n",
    "from elasticsearch.helpers import scan\n",
    "es = Elasticsearch(hosts=[{'host':'atlas-kibana.mwt2.org', 'port':9200}],timeout=60)"
   ]
  },
  {
   "cell_type": "code",
   "execution_count": 27,
   "metadata": {
    "collapsed": false
   },
   "outputs": [
    {
     "name": "stdout",
     "output_type": "stream",
     "text": [
      "[]\n"
     ]
    }
   ],
   "source": [
    "#indices = es.cat.indices(index=\"ddm-*\", h=\"index\", request_timeout=600).split('\\n')\n",
    "indices = es.cat.indices(index=\"log-rucio-daemons-*\", h=\"index\", request_timeout=600).split('\\n')\n",
    "indices = sorted(indices)\n",
    "indices = [x for x in indices if x != '']\n",
    "print(indices)\n",
    "\n",
    "#indices = es.cat.indices(index=\"jobs_archive_*\", h=\"index\", request_timeout=600).split('\\n')\n",
    "#indices = sorted(indices)\n",
    "#indices = [x for x in indices if x != '']\n",
    "#print(indices)\n",
    "\n",
    "#es.search(index='_all')"
   ]
  },
  {
   "cell_type": "code",
   "execution_count": 12,
   "metadata": {
    "collapsed": false
   },
   "outputs": [
    {
     "name": "stdout",
     "output_type": "stream",
     "text": [
      "Help on method search in module elasticsearch.client:\n",
      "\n",
      "search(*args, **kwargs) method of elasticsearch.client.Elasticsearch instance\n",
      "    Execute a search query and get back search hits that match the query.\n",
      "    `<http://www.elastic.co/guide/en/elasticsearch/reference/current/search-search.html>`_\n",
      "    \n",
      "    :arg index: A comma-separated list of index names to search; use `_all`\n",
      "        or empty string to perform the operation on all indices\n",
      "    :arg doc_type: A comma-separated list of document types to search;\n",
      "        leave empty to perform the operation on all types\n",
      "    :arg body: The search definition using the Query DSL\n",
      "    :arg _source: True or false to return the _source field or not, or a\n",
      "        list of fields to return\n",
      "    :arg _source_exclude: A list of fields to exclude from the returned\n",
      "        _source field\n",
      "    :arg _source_include: A list of fields to extract and return from the\n",
      "        _source field\n",
      "    :arg analyze_wildcard: Specify whether wildcard and prefix queries\n",
      "        should be analyzed (default: false)\n",
      "    :arg analyzer: The analyzer to use for the query string\n",
      "    :arg default_operator: The default operator for query string query (AND\n",
      "        or OR) (default: OR)\n",
      "    :arg df: The field to use as default where no field prefix is given in\n",
      "        the query string\n",
      "    :arg explain: Specify whether to return detailed information about\n",
      "        score computation as part of a hit\n",
      "    :arg fielddata_fields: A comma-separated list of fields to return as the\n",
      "        field data representation of a field for each hit\n",
      "    :arg fields: A comma-separated list of fields to return as part of a hit\n",
      "    :arg indices_boost: Comma-separated list of index boosts\n",
      "    :arg lenient: Specify whether format-based query failures (such as\n",
      "        providing text to a numeric field) should be ignored\n",
      "    :arg allow_no_indices: Whether to ignore if a wildcard indices\n",
      "        expression resolves into no concrete indices. (This includes `_all`\n",
      "        string or when no indices have been specified)\n",
      "    :arg expand_wildcards: Whether to expand wildcard expression to concrete\n",
      "        indices that are open, closed or both., default 'open'\n",
      "    :arg ignore_unavailable: Whether specified concrete indices should be\n",
      "        ignored when unavailable (missing or closed)\n",
      "    :arg lowercase_expanded_terms: Specify whether query terms should be lowercased\n",
      "    :arg from\\_: Starting offset (default: 0)\n",
      "    :arg preference: Specify the node or shard the operation should be\n",
      "        performed on (default: random)\n",
      "    :arg q: Query in the Lucene query string syntax\n",
      "    :arg query_cache: Enable or disable caching on a per-query basis\n",
      "    :arg routing: A comma-separated list of specific routing values\n",
      "    :arg scroll: Specify how long a consistent view of the index should be\n",
      "        maintained for scrolled search\n",
      "    :arg search_type: Search operation type\n",
      "    :arg size: Number of hits to return (default: 10)\n",
      "    :arg sort: A comma-separated list of <field>:<direction> pairs\n",
      "    :arg source: The URL-encoded request definition using the Query DSL\n",
      "        (instead of using request body)\n",
      "    :arg stats: Specific 'tag' of the request for logging and statistical purposes\n",
      "    :arg suggest_field: Specify which field to use for suggestions\n",
      "    :arg suggest_mode: Specify suggest mode (default: missing)\n",
      "    :arg suggest_size: How many suggestions to return in response\n",
      "    :arg suggest_text: The source text for which the suggestions should be returned\n",
      "    :arg terminate_after: The maximum number of documents to collect for\n",
      "        each shard, upon reaching which the query execution will terminate\n",
      "        early.\n",
      "    :arg timeout: Explicit operation timeout\n",
      "    :arg track_scores: Whether to calculate and return scores even if they\n",
      "        are not used for sorting\n",
      "    :arg version: Specify whether to return document version as part of a hit\n",
      "\n"
     ]
    }
   ],
   "source": [
    "help(es.search)"
   ]
  },
  {
   "cell_type": "code",
   "execution_count": 16,
   "metadata": {
    "collapsed": false
   },
   "outputs": [],
   "source": [
    "query ='''{\n",
    "  \"size\": 0,\n",
    "  \"aggs\": {},\n",
    "  \"query\": {\n",
    "    \"filtered\": {\n",
    "      \"query\": {\n",
    "        \"query_string\": {\n",
    "          \"analyze_wildcard\": true,\n",
    "          \"lowercase_expanded_terms\": false,\n",
    "          \"query\": \"*\"\n",
    "        }\n",
    "      },\n",
    "      \"filter\": {\n",
    "        \"bool\": {\n",
    "          \"must\": [\n",
    "            {\n",
    "              \"range\": {\n",
    "                \"@timestamp\": {\n",
    "                  \"gte\": 1470272014476,\n",
    "                  \"lte\": 1470315214476,\n",
    "                  \"format\": \"epoch_millis\"\n",
    "                }\n",
    "              }\n",
    "            }\n",
    "          ],\n",
    "          \"must_not\": []\n",
    "        }\n",
    "      }\n",
    "    }\n",
    "  },\n",
    "  \"highlight\": {\n",
    "    \"pre_tags\": [\n",
    "      \"@kibana-highlighted-field@\"\n",
    "    ],\n",
    "    \"post_tags\": [\n",
    "      \"@/kibana-highlighted-field@\"\n",
    "    ],\n",
    "    \"fields\": {\n",
    "      \"*\": {}\n",
    "    },\n",
    "    \"fragment_size\": 2147483647\n",
    "  }\n",
    "}'''"
   ]
  },
  {
   "cell_type": "code",
   "execution_count": 26,
   "metadata": {
    "collapsed": false
   },
   "outputs": [
    {
     "name": "stdout",
     "output_type": "stream",
     "text": [
      "ddm-2016-06-02 ,ddm-2016-06-06 ,ddm-2016-06-07 ,ddm-2016-07-25 ,ddm-2016-07-26 ,ddm-2016-07-27 ,ddm-2016-07-28 ,ddm-2016-07-29 ,ddm-2016-07-30 ,ddm-2016-07-31 ,ddm-2016-08-01 ,ddm-2016-08-02 ,ddm-2016-08-03 ,ddm-2016-08-04 \n",
      "{u'hits': {u'hits': [], u'total': 0, u'max_score': 0.0}, u'_shards': {u'successful': 5, u'failed': 0, u'total': 5}, u'took': 23, u'timed_out': False}\n"
     ]
    }
   ],
   "source": [
    "#ind = time_filter(indices, last_days=28, pattern='')\n",
    "ind = ','.join(indices)\n",
    "print(ind)\n",
    "res = es.search(index='ddm-2016-06-06', body=query, request_timeout=600)\n",
    "print res"
   ]
  },
  {
   "cell_type": "code",
   "execution_count": null,
   "metadata": {
    "collapsed": true
   },
   "outputs": [],
   "source": []
  }
 ],
 "metadata": {
  "kernelspec": {
   "display_name": "Python (ipykernel_py2)",
   "language": "python",
   "name": "ipykernel_py2"
  },
  "language_info": {
   "codemirror_mode": {
    "name": "ipython",
    "version": 2
   },
   "file_extension": ".py",
   "mimetype": "text/x-python",
   "name": "python",
   "nbconvert_exporter": "python",
   "pygments_lexer": "ipython2",
   "version": "2.7.11"
  }
 },
 "nbformat": 4,
 "nbformat_minor": 0
}
