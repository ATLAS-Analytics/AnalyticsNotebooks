{
 "cells": [
  {
   "cell_type": "code",
   "execution_count": null,
   "metadata": {
    "collapsed": true
   },
   "outputs": [],
   "source": [
    "%matplotlib inline\n",
    "import urllib\n",
    "import time\n",
    "import matplotlib.pyplot as plt\n",
    "import matplotlib.cm as cm\n",
    "url = 'http://atlstats.web.cern.ch/atlstats/zeroaccess/2016-07-25/list-2016-07-25'\n",
    "url = 'http://atlstats.web.cern.ch/atlstats/zeroaccess/2016-08-08/list-2016-08-08'"
   ]
  },
  {
   "cell_type": "code",
   "execution_count": null,
   "metadata": {
    "collapsed": false
   },
   "outputs": [],
   "source": [
    "creation_dates = []\n",
    "filehandle = urllib.urlopen(url)\n",
    "datatypes = {}\n",
    "i = 0\n",
    "for line in filehandle:\n",
    "    line = line.rstrip('\\n')\n",
    "    i += 1\n",
    "    if line.find('DAOD') > -1:\n",
    "        #print line.split()\n",
    "        scope, name, size, created, nbreplicas = line.split('\\t')\n",
    "        created_at = time.gmtime(float(created))\n",
    "        if '%s-%02d' % (created_at[0], created_at[1]) not in creation_dates:\n",
    "            creation_dates.append('%s-%02d' % (created_at[0], created_at[1]))\n",
    "        project, run, stream, prodstep, datatype, tag = name.split('.')\n",
    "        if datatype not in datatypes:\n",
    "            datatypes[datatype] = 0\n",
    "        if size:\n",
    "            datatypes[datatype] += int(size)\n",
    "#print datatypes"
   ]
  },
  {
   "cell_type": "markdown",
   "metadata": {},
   "source": [
    "The plot below show the unused DAODs split by datatypes"
   ]
  },
  {
   "cell_type": "code",
   "execution_count": null,
   "metadata": {
    "collapsed": false
   },
   "outputs": [],
   "source": [
    "plt.figure(figsize=(20,10))\n",
    "x_values = [_ for _ in range(len(datatypes))]\n",
    "x_datatypes = datatypes.keys()\n",
    "x_datatypes.sort()\n",
    "y_datatypes = []\n",
    "for key in x_datatypes:\n",
    "    y_datatypes.append(datatypes[key]/1000.**4)\n",
    "xaxis = plt.xticks(x_values, x_datatypes, rotation='vertical')\n",
    "plt.bar(x_values, y_datatypes)"
   ]
  },
  {
   "cell_type": "code",
   "execution_count": null,
   "metadata": {
    "collapsed": false
   },
   "outputs": [],
   "source": [
    "list_datatypes = datatypes.keys()\n",
    "filehandle = urllib.urlopen(url)\n",
    "time_datatypes = {}\n",
    "\n",
    "for date in creation_dates:\n",
    "    time_datatypes[date] = {}\n",
    "    for dat in list_datatypes:\n",
    "        time_datatypes[date][dat] = 0\n",
    "\n",
    "x_datatypes = datatypes.keys()\n",
    "x_datatypes.sort()\n",
    "        \n",
    "for line in filehandle:\n",
    "    line = line.rstrip('\\n')\n",
    "    if line.find('DAOD') > -1:\n",
    "        scope, name, size, created, nbreplicas = line.split('\\t')\n",
    "        project, run, stream, prodstep, datatype, tag = name.split('.')\n",
    "        created_at = time.gmtime(float(created))\n",
    "        if size:\n",
    "            time_datatypes['%s-%02d' % (created_at[0], created_at[1])][datatype] += int(size)\n",
    "\n",
    "#print time_datatypes"
   ]
  },
  {
   "cell_type": "code",
   "execution_count": null,
   "metadata": {
    "collapsed": false
   },
   "outputs": [],
   "source": [
    "series = time_datatypes.keys()\n",
    "series.sort()"
   ]
  },
  {
   "cell_type": "markdown",
   "metadata": {},
   "source": [
    "The plot below show the unused DAODs split by datatypes and creation date"
   ]
  },
  {
   "cell_type": "code",
   "execution_count": null,
   "metadata": {
    "collapsed": false
   },
   "outputs": [],
   "source": [
    "print series\n",
    "plt.figure(figsize=(20,10))\n",
    "colors = ['pink', 'black', 'orange', 'brown', 'cyan', 'magenta', 'grey', 'red', 'blue', 'green', 'yellow']\n",
    "i = 0\n",
    "ncolors = len(series)\n",
    "for serie in series:\n",
    "    datatypes = time_datatypes[serie]\n",
    "    x_values = [_ for _ in range(len(datatypes))]\n",
    "    y_datatypes = []\n",
    "    color = cm.hot(i/float(ncolors), 1)\n",
    "    for key in x_datatypes:\n",
    "        y_datatypes.append(datatypes[key]/1000.**4)\n",
    "    # print x_values, y_datatypes, color, serie\n",
    "    plt.bar(x_values, y_datatypes, color=color, label=serie)\n",
    "    i += 1\n",
    "plt.xticks(x_values, x_datatypes, rotation='vertical')\n",
    "plt.legend()"
   ]
  },
  {
   "cell_type": "code",
   "execution_count": null,
   "metadata": {
    "collapsed": false
   },
   "outputs": [],
   "source": [
    "plt.figure(figsize=(20,10))\n",
    "y_values = []\n",
    "for serie in series:\n",
    "    sum_by_month = 0\n",
    "    for dat in time_datatypes[serie]:\n",
    "        sum_by_month += time_datatypes[serie][dat]\n",
    "    y_values.append(sum_by_month/1000.**4)\n",
    "    print serie, sum_by_month\n"
   ]
  },
  {
   "cell_type": "code",
   "execution_count": null,
   "metadata": {
    "collapsed": false
   },
   "outputs": [],
   "source": [
    "The plot below show the unused DAODs vs creation date"
   ]
  },
  {
   "cell_type": "code",
   "execution_count": null,
   "metadata": {
    "collapsed": false
   },
   "outputs": [],
   "source": [
    "plt.figure(figsize=(20,10))\n",
    "x_values = [_ for _ in range(len(series))]\n",
    "plt.xticks(x_values, series, rotation='vertical')\n",
    "plt.bar(x_values, y_values, align=\"center\")"
   ]
  },
  {
   "cell_type": "code",
   "execution_count": null,
   "metadata": {
    "collapsed": false
   },
   "outputs": [],
   "source": [
    "#print x_datatypes\n",
    "x_datatypes_dict = {}\n",
    "for dat in x_datatypes:\n",
    "    x_datatypes_dict[dat] = []\n",
    "for serie in series:\n",
    "    for dat in time_datatypes[serie]:\n",
    "        x_datatypes_dict[dat].append(time_datatypes[serie][dat]/1000.**4)\n",
    "#print x_datatypes_dict"
   ]
  },
  {
   "cell_type": "code",
   "execution_count": null,
   "metadata": {
    "collapsed": false,
    "scrolled": false
   },
   "outputs": [],
   "source": [
    "plt.figure(figsize=(20,10))\n",
    "x_values = [_ for _ in range(len(series))]\n",
    "i = 0\n",
    "x_datatypes_key = x_datatypes_dict.keys()\n",
    "x_datatypes_key.sort()\n",
    "ncolors = len(x_datatypes_key)\n",
    "plt.xticks(x_values, series, rotation='vertical')\n",
    "for dat in x_datatypes_key:\n",
    "    color = cm.hot(i/float(ncolors), 1)\n",
    "    i += 1\n",
    "    plt.bar(x_values, x_datatypes_dict[dat], align=\"center\", color=color, label=dat)\n",
    "    #print dat, x_datatypes_dict[dat][-1]\n",
    "    #if len(x_datatypes_dict[dat]) != 11: print x_datatypes_dict[dat]\n",
    "#plt.xticks(x_values, series, rotation='vertical')\n",
    "plt.legend()"
   ]
  },
  {
   "cell_type": "code",
   "execution_count": null,
   "metadata": {
    "collapsed": true
   },
   "outputs": [],
   "source": []
  }
 ],
 "metadata": {
  "kernelspec": {
   "display_name": "Python (ipykernel_py2)",
   "language": "python",
   "name": "ipykernel_py2"
  },
  "language_info": {
   "codemirror_mode": {
    "name": "ipython",
    "version": 2
   },
   "file_extension": ".py",
   "mimetype": "text/x-python",
   "name": "python",
   "nbconvert_exporter": "python",
   "pygments_lexer": "ipython2",
   "version": "2.7.11"
  }
 },
 "nbformat": 4,
 "nbformat_minor": 0
}
