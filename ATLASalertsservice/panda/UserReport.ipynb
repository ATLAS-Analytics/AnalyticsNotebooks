{
 "cells": [
  {
   "cell_type": "markdown",
   "metadata": {},
   "source": [
    "## Creates reports for all users"
   ]
  },
  {
   "cell_type": "code",
   "execution_count": 1,
   "metadata": {
    "collapsed": false
   },
   "outputs": [],
   "source": [
    "%matplotlib inline\n",
    "\n",
    "\n",
    "from elasticsearch import Elasticsearch\n",
    "from elasticsearch.helpers import scan\n",
    "\n",
    "import datetime\n",
    "\n",
    "#from pylab import figure, axes, pie, title, show\n",
    "\n",
    "import math\n",
    "import matplotlib.pyplot as plt\n",
    "#import matplotlib.mlab as mlab\n",
    "from matplotlib import gridspec\n",
    "import numpy as np\n",
    "import pandas as pd\n",
    "import networkx as nx\n",
    "\n",
    "es = Elasticsearch(['atlas-kibana.mwt2.org:9200'],timeout=60)"
   ]
  },
  {
   "cell_type": "markdown",
   "metadata": {},
   "source": [
    "### Set interval "
   ]
  },
  {
   "cell_type": "code",
   "execution_count": 2,
   "metadata": {
    "collapsed": false
   },
   "outputs": [
    {
     "name": "stdout",
     "output_type": "stream",
     "text": [
      "between:  20170309T100315+0000  and  20170316T100315+0000\n"
     ]
    }
   ],
   "source": [
    "cdt = datetime.datetime.utcnow() #cdt = datetime.datetime(2017,1,21,9,0,0)\n",
    "\n",
    "GT = (cdt - datetime.timedelta(hours=7*24)).strftime(\"%Y%m%dT%H%m%S+0000\")\n",
    "LT = cdt.strftime(\"%Y%m%dT%H%m%S+0000\")\n",
    "print('between: ', GT, ' and ', LT)"
   ]
  },
  {
   "cell_type": "markdown",
   "metadata": {},
   "source": [
    "### find indices to query"
   ]
  },
  {
   "cell_type": "code",
   "execution_count": 3,
   "metadata": {
    "collapsed": false
   },
   "outputs": [
    {
     "name": "stdout",
     "output_type": "stream",
     "text": [
      "['jobs_archive_2017-03-16', 'jobs_archive_2017-03-15', 'jobs_archive_2017-03-14', 'jobs_archive_2017-03-13', 'jobs_archive_2017-03-12', 'jobs_archive_2017-03-11', 'jobs_archive_2017-03-10', 'jobs_archive_2017-03-09', 'jobs_archive_2017-03-08']\n"
     ]
    }
   ],
   "source": [
    "indices = es.cat.indices(index=\"jobs_archive_*\", h=\"index\", request_timeout=600).split('\\n')\n",
    "indices = [x for x in indices if x != '']\n",
    "indices = [x.strip() for x in indices]\n",
    "\n",
    "ind=[]\n",
    "for n in range(0,9):\n",
    "    pday  = cdt - datetime.timedelta(days=n)\n",
    "    i='jobs_archive_%d-%02d-%02d' % (pday.year, pday.month, pday.day)\n",
    "    if i in indices: ind.append(i)\n",
    "\n",
    "print(ind)"
   ]
  },
  {
   "cell_type": "markdown",
   "metadata": {},
   "source": [
    "## Get the data from Elasticsearch, and store the record based on its type"
   ]
  },
  {
   "cell_type": "code",
   "execution_count": 4,
   "metadata": {
    "collapsed": false
   },
   "outputs": [
    {
     "name": "stdout",
     "output_type": "stream",
     "text": [
      "{'tot_walltime': {'value': 18601514645.0}, 'user': {'buckets': [{'jobstatus': {'buckets': [{'cputime': {'value': 97133.0}, 'key': 'closed', 'walltime': {'value': 63005.0}, 'doc_count': 4408264}, {'cputime': {'value': 52878473.0}, 'key': 'finished', 'walltime': {'value': 73641251.0}, 'doc_count': 99884}, {'cputime': {'value': 24591889.0}, 'key': 'failed', 'walltime': {'value': 29006595.0}, 'doc_count': 5914}, {'cputime': {'value': 0.0}, 'key': 'cancelled', 'walltime': {'value': 0.0}, 'doc_count': 1075}], 'doc_count_error_upper_bound': 0, 'sum_other_doc_count': 0}, 'key': '/DC=ch/DC=cern/OU=Organic Units/OU=Users/CN=caminal/CN=711184/CN=Roger Caminal Armadans/CN=proxy', 'priority': {'value': -67152.63562545278}, 'doc_count': 4515137}, {'jobstatus': {'buckets': [{'cputime': {'value': 27439.0}, 'key': 'closed', 'walltime': {'value': 1.0}, 'doc_count': 1139866}, {'cputime': {'value': 543594765.0}, 'key': 'finished', 'walltime': {'value': 1017114530.0}, 'doc_count': 228880}, {'cputime': {'value': 123140270.0}, 'key': 'failed', 'walltime': {'value': 205676797.0}, 'doc_count': 91653}, {'cputime': {'value': 0.0}, 'key': 'cancelled', 'walltime': {'value': 695.0}, 'doc_count': 3569}], 'doc_count_error_upper_bound': 0, 'sum_other_doc_count': 0}, 'key': '/DC=ch/DC=cern/OU=Organic Units/OU=Users/CN=dta/CN=633456/CN=Duc Bao Ta/CN=proxy', 'priority': {'value': -19981.859878767842}, 'doc_count': 1463968}], 'doc_count_error_upper_bound': 225207, 'sum_other_doc_count': 10196458}, 'tot_priority': {'value': -25474.343062247663}, 'tot_cputime': {'value': 12928453368.0}}\n"
     ]
    }
   ],
   "source": [
    "my_query = {\n",
    "  'size': 0,\n",
    "  'query':{\n",
    "    'bool':{\n",
    "      'must' : [\n",
    "        {'term':{'prodsourcelabel':'user'}}\n",
    "      ]\n",
    "    }\n",
    "  },\n",
    "  \"aggs\" : {\n",
    "    \"user\" : {\n",
    "      \"terms\" : { \"field\" : \"produserid\", \"size\": 2 },\n",
    "      \"aggs\" : {\n",
    "        \"jobstatus\" : {\n",
    "          \"terms\" : {\"field\" : \"jobstatus\", \"size\": 5},\n",
    "          \"aggs\" : {\n",
    "            \"walltime\" : { \"sum\" :{\"field\" : \"wall_time\"} },\n",
    "            \"cputime\" : { \"sum\" :{\"field\" : \"cpuconsumptiontime\"} }\n",
    "          }\n",
    "        },\n",
    "        \"priority\":{\"avg\" :{\"field\" : \"currentpriority\"}}\n",
    "      }\n",
    "    },\n",
    "    \"tot_walltime\" : { \"sum\" :{\"field\" : \"wall_time\"} },\n",
    "    \"tot_cputime\" : { \"sum\" :{\"field\" : \"cpuconsumptiontime\"} },\n",
    "    \"tot_priority\": {\"avg\" :{\"field\" : \"currentpriority\"} }\n",
    "  }\n",
    "}\n",
    "\n",
    "#execute query\n",
    "res = es.search(index=ind, body=my_query, request_timeout=120)\n",
    "res=res['aggregations']\n",
    "print(res)\n",
    "\n"
   ]
  },
  {
   "cell_type": "markdown",
   "metadata": {},
   "source": [
    "### usefull functions"
   ]
  },
  {
   "cell_type": "code",
   "execution_count": 5,
   "metadata": {
    "collapsed": true
   },
   "outputs": [],
   "source": [
    "def parseUname(FN):\n",
    "    #print(FN)\n",
    "    unW=FN.lstrip('/').replace('/CN=proxy','').split('/')\n",
    "    #extract all CN= that are not a number\n",
    "    CNs=[]\n",
    "    for i in unW:\n",
    "        if i[:3]=='CN=': \n",
    "            i=i[3:]\n",
    "            if not i.isdigit(): \n",
    "                CNs.append(i)\n",
    "    if len(CNs)==1:\n",
    "        return CNs[0]\n",
    "    for un in CNs:\n",
    "        if un.count(' ')==0:\n",
    "            return un"
   ]
  },
  {
   "cell_type": "markdown",
   "metadata": {},
   "source": [
    "### creating plots"
   ]
  },
  {
   "cell_type": "code",
   "execution_count": 6,
   "metadata": {
    "collapsed": false
   },
   "outputs": [
    {
     "name": "stdout",
     "output_type": "stream",
     "text": [
      "caminal 4515137 -67152.63562545278\n",
      "[{'cputime': {'value': 97133.0}, 'key': 'closed', 'walltime': {'value': 63005.0}, 'doc_count': 4408264}, {'cputime': {'value': 52878473.0}, 'key': 'finished', 'walltime': {'value': 73641251.0}, 'doc_count': 99884}, {'cputime': {'value': 24591889.0}, 'key': 'failed', 'walltime': {'value': 29006595.0}, 'doc_count': 5914}, {'cputime': {'value': 0.0}, 'key': 'cancelled', 'walltime': {'value': 0.0}, 'doc_count': 1075}]\n",
      "{'cputime': {'value': 97133.0}, 'key': 'closed', 'walltime': {'value': 63005.0}, 'doc_count': 4408264}\n",
      "{'cputime': {'value': 52878473.0}, 'key': 'finished', 'walltime': {'value': 73641251.0}, 'doc_count': 99884}\n",
      "{'cputime': {'value': 24591889.0}, 'key': 'failed', 'walltime': {'value': 29006595.0}, 'doc_count': 5914}\n",
      "{'cputime': {'value': 0.0}, 'key': 'cancelled', 'walltime': {'value': 0.0}, 'doc_count': 1075}\n"
     ]
    },
    {
     "ename": "NameError",
     "evalue": "name 'title' is not defined",
     "output_type": "error",
     "traceback": [
      "\u001b[1;31m---------------------------------------------------------------------------\u001b[0m",
      "\u001b[1;31mNameError\u001b[0m                                 Traceback (most recent call last)",
      "\u001b[1;32m<ipython-input-6-85c02ae9903d>\u001b[0m in \u001b[0;36m<module>\u001b[1;34m()\u001b[0m\n\u001b[0;32m     34\u001b[0m     \u001b[0max0\u001b[0m \u001b[1;33m=\u001b[0m \u001b[0mplt\u001b[0m\u001b[1;33m.\u001b[0m\u001b[0msubplot\u001b[0m\u001b[1;33m(\u001b[0m\u001b[0mgs\u001b[0m\u001b[1;33m[\u001b[0m\u001b[1;36m0\u001b[0m\u001b[1;33m]\u001b[0m\u001b[1;33m)\u001b[0m\u001b[1;33m\u001b[0m\u001b[0m\n\u001b[0;32m     35\u001b[0m     \u001b[0max0\u001b[0m\u001b[1;33m.\u001b[0m\u001b[0mpie\u001b[0m\u001b[1;33m(\u001b[0m\u001b[0mjscount\u001b[0m\u001b[1;33m,\u001b[0m \u001b[0mlabels\u001b[0m\u001b[1;33m=\u001b[0m\u001b[0mjskey\u001b[0m\u001b[1;33m,\u001b[0m \u001b[0mautopct\u001b[0m\u001b[1;33m=\u001b[0m\u001b[1;34m'%1.1f%%'\u001b[0m\u001b[1;33m,\u001b[0m \u001b[0mshadow\u001b[0m\u001b[1;33m=\u001b[0m\u001b[1;32mTrue\u001b[0m\u001b[1;33m,\u001b[0m \u001b[0mstartangle\u001b[0m\u001b[1;33m=\u001b[0m\u001b[1;36m0\u001b[0m\u001b[1;33m)\u001b[0m\u001b[1;33m\u001b[0m\u001b[0m\n\u001b[1;32m---> 36\u001b[1;33m     \u001b[0mtitle\u001b[0m\u001b[1;33m(\u001b[0m\u001b[1;34m'number of jobs'\u001b[0m\u001b[1;33m,\u001b[0m \u001b[0mbbox\u001b[0m\u001b[1;33m=\u001b[0m\u001b[1;33m{\u001b[0m\u001b[1;34m'facecolor'\u001b[0m\u001b[1;33m:\u001b[0m \u001b[1;34m'0.8'\u001b[0m\u001b[1;33m,\u001b[0m \u001b[1;34m'pad'\u001b[0m\u001b[1;33m:\u001b[0m \u001b[1;36m5\u001b[0m\u001b[1;33m}\u001b[0m\u001b[1;33m)\u001b[0m\u001b[1;33m\u001b[0m\u001b[0m\n\u001b[0m\u001b[0;32m     37\u001b[0m \u001b[1;31m#     ax0.axis('equal')\u001b[0m\u001b[1;33m\u001b[0m\u001b[1;33m\u001b[0m\u001b[0m\n\u001b[0;32m     38\u001b[0m \u001b[1;33m\u001b[0m\u001b[0m\n",
      "\u001b[1;31mNameError\u001b[0m: name 'title' is not defined"
     ]
    },
    {
     "data": {
      "image/png": "[encoded data removed]",
      "text/plain": [
       "<matplotlib.figure.Figure at 0x7f4ced23cd30>"
      ]
     },
     "metadata": {},
     "output_type": "display_data"
    }
   ],
   "source": [
    "tot_walltime=res['tot_walltime']['value']\n",
    "tot_cputime=res['tot_cputime']['value']\n",
    "tot_priority=res['tot_priority']['value']\n",
    "\n",
    "users=res['user']['buckets']\n",
    "for u in users:\n",
    "    uname = parseUname(u['key'])\n",
    "    ujobs=u['doc_count']\n",
    "    upriority=u['priority']['value']\n",
    "    print (uname, ujobs, upriority)\n",
    "    jobstatus=u['jobstatus']['buckets']\n",
    "    print(jobstatus)\n",
    "    #print(u)\n",
    "    jskey=[]\n",
    "    jscount=[]\n",
    "    jscpu=[]\n",
    "    jswall=[]\n",
    "    sumwall=0\n",
    "    sumcpu=0\n",
    "    sumjobs=0\n",
    "    for js in jobstatus:\n",
    "        print(js)\n",
    "        jskey.append(js['key'])\n",
    "        jscount.append(js['doc_count'])\n",
    "        jscpu.append(js['cputime']['value'])\n",
    "        jswall.append(js['walltime']['value'])\n",
    "        sumjobs+=js['doc_count']\n",
    "        sumwall+=js['walltime']['value']\n",
    "        sumcpu +=js['cputime']['value']\n",
    "        \n",
    "    plt.figure(figsize=[ 8.27, 11.69 ])\n",
    "    gs = gridspec.GridSpec(3, 3, height_ratios=[1,1,1,1,1,1])\n",
    "    \n",
    "    ax0 = plt.subplot(gs[0])\n",
    "    ax0.pie(jscount, labels=jskey, autopct='%1.1f%%', shadow=True, startangle=0)\n",
    "    title('number of jobs', bbox={'facecolor': '0.8', 'pad': 5})\n",
    "#     ax0.axis('equal') \n",
    "    \n",
    "    ax1 = plt.subplot(gs[1])\n",
    "    ax1.pie(jswall, labels=jskey, autopct='%1.1f%%', shadow=True, startangle=0)\n",
    "    title('Wall time', bbox={'facecolor': '0.8', 'pad': 5})\n",
    "    \n",
    "    ax2 = plt.subplot(gs[2])\n",
    "    ax2.pie(jscpu, labels=jskey, autopct='%1.1f%%', shadow=True, startangle=0)\n",
    "    title('CPU  time', bbox={'facecolor': '0.8', 'pad': 5})\n",
    "    \n",
    "\n",
    "    ax3 = plt.subplot2grid((3,3), (1,0), colspan=2)\n",
    "    ax3.text(0.05,0.95, 'User: ' + uname, style='italic',  fontsize=13, bbox={'facecolor':'blue', 'alpha':0.5, 'pad':5})\n",
    "    ax3.text(0.05, 0.80, 'period: ', style='oblique', fontsize=10)\n",
    "    ax3.text(0.05, 0.65, 'jobs: '+str(ujobs), fontsize=10)\n",
    "    ax3.text(0.05, 0.50, 'wall time:'+str(sumwall), transform=ax3.transAxes, fontsize=10)\n",
    "    ax3.text(0.05, 0.35, 'cpu time: '+str(sumcpu),   transform=ax3.transAxes, fontsize=10)\n",
    "    ax3.text(0.05, 0.20, 'priority: '+str(upriority), fontsize=10)\n",
    "\n",
    "        \n",
    "    plt.axis('off')\n",
    "    plt.savefig('Plots/UserReport_' + uname + '.png')\n",
    "    #plt.show()\n",
    "    plt.close();"
   ]
  },
  {
   "cell_type": "code",
   "execution_count": null,
   "metadata": {
    "collapsed": false
   },
   "outputs": [],
   "source": [
    "#gs = gridspec.GridSpec(4, 1, height_ratios=[2,2,2,3])\n",
    "#ax0.plot(Fthr.timestamp.tolist(), Fthr.throughput.tolist(), ls='-', marker='>', c='r', label=sS+'->'+dS)\n",
    "#ax0.plot(Bthr.timestamp.tolist(), Bthr.throughput.tolist(), ls='-', marker='<', c='b', label=dS+'->'+sS)\n",
    "#ax0.set_xlabel('time')\n",
    "#ax0.set_ylabel('throughput [Gbps]')#,rotation='horizontal')\\"
   ]
  },
  {
   "cell_type": "code",
   "execution_count": null,
   "metadata": {
    "collapsed": true
   },
   "outputs": [],
   "source": []
  }
 ],
 "metadata": {
  "kernelspec": {
   "display_name": "Python 3",
   "language": "python",
   "name": "python3"
  },
  "language_info": {
   "codemirror_mode": {
    "name": "ipython",
    "version": 3
   },
   "file_extension": ".py",
   "mimetype": "text/x-python",
   "name": "python",
   "nbconvert_exporter": "python",
   "pygments_lexer": "ipython3",
   "version": "3.5.1"
  }
 },
 "nbformat": 4,
 "nbformat_minor": 0
}
