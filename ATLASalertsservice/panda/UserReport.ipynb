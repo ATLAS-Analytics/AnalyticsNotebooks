{
 "cells": [
  {
   "cell_type": "markdown",
   "metadata": {},
   "source": [
    "## Creates reports for all users"
   ]
  },
  {
   "cell_type": "code",
   "execution_count": 9,
   "metadata": {
    "collapsed": false
   },
   "outputs": [],
   "source": [
    "%matplotlib inline\n",
    "\n",
    "\n",
    "from elasticsearch import Elasticsearch\n",
    "from elasticsearch.helpers import scan\n",
    "\n",
    "import datetime\n",
    "\n",
    "from pylab import figure, axes, pie, title, show\n",
    "\n",
    "import math\n",
    "#import matplotlib.pyplot as plt\n",
    "#import matplotlib.mlab as mlab\n",
    "#from matplotlib import gridspec\n",
    "import numpy as np\n",
    "import pandas as pd\n",
    "import networkx as nx\n",
    "\n",
    "es = Elasticsearch(['atlas-kibana.mwt2.org:9200'],timeout=60)"
   ]
  },
  {
   "cell_type": "markdown",
   "metadata": {},
   "source": [
    "### Set interval "
   ]
  },
  {
   "cell_type": "code",
   "execution_count": 2,
   "metadata": {
    "collapsed": false
   },
   "outputs": [
    {
     "name": "stdout",
     "output_type": "stream",
     "text": [
      "between:  20170214T170229+0000  and  20170221T170229+0000\n"
     ]
    }
   ],
   "source": [
    "cdt = datetime.datetime.utcnow() #cdt = datetime.datetime(2017,1,21,9,0,0)\n",
    "\n",
    "GT = (cdt - datetime.timedelta(hours=7*24)).strftime(\"%Y%m%dT%H%m%S+0000\")\n",
    "LT = cdt.strftime(\"%Y%m%dT%H%m%S+0000\")\n",
    "print('between: ', GT, ' and ', LT)"
   ]
  },
  {
   "cell_type": "markdown",
   "metadata": {},
   "source": [
    "### find indices to query"
   ]
  },
  {
   "cell_type": "code",
   "execution_count": 3,
   "metadata": {
    "collapsed": false
   },
   "outputs": [
    {
     "name": "stdout",
     "output_type": "stream",
     "text": [
      "['jobs_archive_2017-02-21', 'jobs_archive_2017-02-20', 'jobs_archive_2017-02-19', 'jobs_archive_2017-02-18', 'jobs_archive_2017-02-17', 'jobs_archive_2017-02-16', 'jobs_archive_2017-02-15', 'jobs_archive_2017-02-14', 'jobs_archive_2017-02-13']\n"
     ]
    }
   ],
   "source": [
    "indices = es.cat.indices(index=\"jobs_archive_*\", h=\"index\", request_timeout=600).split('\\n')\n",
    "indices = [x for x in indices if x != '']\n",
    "indices = [x.strip() for x in indices]\n",
    "\n",
    "ind=[]\n",
    "for n in range(0,9):\n",
    "    pday  = cdt - datetime.timedelta(days=n)\n",
    "    i='jobs_archive_%d-%02d-%02d' % (pday.year, pday.month, pday.day)\n",
    "    if i in indices: ind.append(i)\n",
    "\n",
    "print(ind)"
   ]
  },
  {
   "cell_type": "markdown",
   "metadata": {},
   "source": [
    "## Get the data from Elasticsearch, and store the record based on its type"
   ]
  },
  {
   "cell_type": "code",
   "execution_count": 4,
   "metadata": {
    "collapsed": false
   },
   "outputs": [
    {
     "name": "stdout",
     "output_type": "stream",
     "text": [
      "{'tot_cputime': {'value': 12148641713.0}, 'tot_walltime': {'value': 16867633642.0}, 'user': {'sum_other_doc_count': 6084780, 'doc_count_error_upper_bound': 117918, 'buckets': [{'priority': {'value': 2781.508140045624}, 'doc_count': 423462, 'jobstatus': {'sum_other_doc_count': 0, 'doc_count_error_upper_bound': 0, 'buckets': [{'doc_count': 405967, 'walltime': {'value': 269263702.0}, 'cputime': {'value': 159116145.0}, 'key': 'finished'}, {'doc_count': 11699, 'walltime': {'value': 11967246.0}, 'cputime': {'value': 946766.0}, 'key': 'failed'}, {'doc_count': 5796, 'walltime': {'value': 13696969.0}, 'cputime': {'value': 918894.0}, 'key': 'cancelled'}]}, 'key': '/DC=ch/DC=cern/OU=Organic Units/OU=Users/CN=gangarbt/CN=601592/CN=Robot: Ganga Robot/CN=proxy'}, {'priority': {'value': -13201.069383983378}, 'doc_count': 318157, 'jobstatus': {'sum_other_doc_count': 0, 'doc_count_error_upper_bound': 0, 'buckets': [{'doc_count': 163809, 'walltime': {'value': 173594802.0}, 'cputime': {'value': 126960754.0}, 'key': 'finished'}, {'doc_count': 127475, 'walltime': {'value': 27600.0}, 'cputime': {'value': 69419.0}, 'key': 'closed'}, {'doc_count': 23614, 'walltime': {'value': 27197169.0}, 'cputime': {'value': 12667681.0}, 'key': 'failed'}, {'doc_count': 3259, 'walltime': {'value': 0.0}, 'cputime': {'value': 0.0}, 'key': 'cancelled'}]}, 'key': '/C=UK/O=eScience/OU=Sheffield/L=CICS/CN=calum macdonald/CN=656690196'}, {'priority': {'value': -4957.967805593983}, 'doc_count': 201681, 'jobstatus': {'sum_other_doc_count': 0, 'doc_count_error_upper_bound': 0, 'buckets': [{'doc_count': 150501, 'walltime': {'value': 45832751.0}, 'cputime': {'value': 3619819.0}, 'key': 'finished'}, {'doc_count': 39977, 'walltime': {'value': 2814.0}, 'cputime': {'value': 350.0}, 'key': 'closed'}, {'doc_count': 7825, 'walltime': {'value': 10455380.0}, 'cputime': {'value': 80400.0}, 'key': 'failed'}, {'doc_count': 3378, 'walltime': {'value': 0.0}, 'cputime': {'value': 0.0}, 'key': 'cancelled'}]}, 'key': '/DC=ch/DC=cern/OU=Organic Units/OU=Users/CN=ysmirnov/CN=432405/CN=Yury Smirnov/CN=proxy'}]}, 'tot_priority': {'value': -1770.2447965874037}}\n"
     ]
    }
   ],
   "source": [
    "my_query = {\n",
    "  'size': 0,\n",
    "  'query':{\n",
    "    'bool':{\n",
    "      'must' : [\n",
    "        {'term':{'prodsourcelabel':'user'}}\n",
    "      ]\n",
    "    }\n",
    "  },\n",
    "  \"aggs\" : {\n",
    "    \"user\" : {\n",
    "      \"terms\" : { \"field\" : \"produserid\", \"size\": 3 },\n",
    "      \"aggs\" : {\n",
    "        \"jobstatus\" : {\n",
    "          \"terms\" : {\"field\" : \"jobstatus\", \"size\": 5},\n",
    "          \"aggs\" : {\n",
    "            \"walltime\" : { \"sum\" :{\"field\" : \"wall_time\"} },\n",
    "            \"cputime\" : { \"sum\" :{\"field\" : \"cpuconsumptiontime\"} }\n",
    "          }\n",
    "        },\n",
    "        \"priority\":{\"avg\" :{\"field\" : \"currentpriority\"}}\n",
    "      }\n",
    "    },\n",
    "    \"tot_walltime\" : { \"sum\" :{\"field\" : \"wall_time\"} },\n",
    "    \"tot_cputime\" : { \"sum\" :{\"field\" : \"cpuconsumptiontime\"} },\n",
    "    \"tot_priority\": {\"avg\" :{\"field\" : \"currentpriority\"} }\n",
    "  }\n",
    "}\n",
    "\n",
    "#execute query\n",
    "res = es.search(index=ind, body=my_query, request_timeout=120)\n",
    "res=res['aggregations']\n",
    "print(res)\n",
    "\n"
   ]
  },
  {
   "cell_type": "markdown",
   "metadata": {},
   "source": [
    "### usefull functions"
   ]
  },
  {
   "cell_type": "code",
   "execution_count": 5,
   "metadata": {
    "collapsed": true
   },
   "outputs": [],
   "source": [
    "def parseUname(FN):\n",
    "    #print(FN)\n",
    "    unW=FN.lstrip('/').replace('/CN=proxy','').split('/')\n",
    "    #extract all CN= that are not a number\n",
    "    CNs=[]\n",
    "    for i in unW:\n",
    "        if i[:3]=='CN=': \n",
    "            i=i[3:]\n",
    "            if not i.isdigit(): \n",
    "                CNs.append(i)\n",
    "    if len(CNs)==1:\n",
    "        return CNs[0]\n",
    "    for un in CNs:\n",
    "        if un.count(' ')==0:\n",
    "            return un"
   ]
  },
  {
   "cell_type": "markdown",
   "metadata": {},
   "source": [
    "### creating plots"
   ]
  },
  {
   "cell_type": "code",
   "execution_count": 7,
   "metadata": {
    "collapsed": false
   },
   "outputs": [
    {
     "name": "stdout",
     "output_type": "stream",
     "text": [
      "gangarbt 423462 2781.508140045624\n",
      "[{'doc_count': 405967, 'walltime': {'value': 269263702.0}, 'cputime': {'value': 159116145.0}, 'key': 'finished'}, {'doc_count': 11699, 'walltime': {'value': 11967246.0}, 'cputime': {'value': 946766.0}, 'key': 'failed'}, {'doc_count': 5796, 'walltime': {'value': 13696969.0}, 'cputime': {'value': 918894.0}, 'key': 'cancelled'}]\n",
      "{'doc_count': 405967, 'walltime': {'value': 269263702.0}, 'cputime': {'value': 159116145.0}, 'key': 'finished'}\n",
      "{'doc_count': 11699, 'walltime': {'value': 11967246.0}, 'cputime': {'value': 946766.0}, 'key': 'failed'}\n",
      "{'doc_count': 5796, 'walltime': {'value': 13696969.0}, 'cputime': {'value': 918894.0}, 'key': 'cancelled'}\n"
     ]
    },
    {
     "ename": "NameError",
     "evalue": "name 'title' is not defined",
     "output_type": "error",
     "traceback": [
      "\u001b[1;31m---------------------------------------------------------------------------\u001b[0m",
      "\u001b[1;31mNameError\u001b[0m                                 Traceback (most recent call last)",
      "\u001b[1;32m<ipython-input-7-6a38ade65873>\u001b[0m in \u001b[0;36m<module>\u001b[1;34m()\u001b[0m\n\u001b[0;32m     28\u001b[0m     \u001b[0max0\u001b[0m \u001b[1;33m=\u001b[0m \u001b[0mplt\u001b[0m\u001b[1;33m.\u001b[0m\u001b[0msubplot\u001b[0m\u001b[1;33m(\u001b[0m\u001b[0mgs\u001b[0m\u001b[1;33m[\u001b[0m\u001b[1;36m0\u001b[0m\u001b[1;33m]\u001b[0m\u001b[1;33m)\u001b[0m\u001b[1;33m\u001b[0m\u001b[0m\n\u001b[0;32m     29\u001b[0m     \u001b[0max0\u001b[0m\u001b[1;33m.\u001b[0m\u001b[0mpie\u001b[0m\u001b[1;33m(\u001b[0m\u001b[0mjscount\u001b[0m\u001b[1;33m,\u001b[0m \u001b[0mlabels\u001b[0m\u001b[1;33m=\u001b[0m\u001b[0mjskey\u001b[0m\u001b[1;33m,\u001b[0m \u001b[0mautopct\u001b[0m\u001b[1;33m=\u001b[0m\u001b[1;34m'%1.1f%%'\u001b[0m\u001b[1;33m,\u001b[0m \u001b[0mshadow\u001b[0m\u001b[1;33m=\u001b[0m\u001b[1;32mTrue\u001b[0m\u001b[1;33m,\u001b[0m \u001b[0mstartangle\u001b[0m\u001b[1;33m=\u001b[0m\u001b[1;36m90\u001b[0m\u001b[1;33m)\u001b[0m\u001b[1;33m\u001b[0m\u001b[0m\n\u001b[1;32m---> 30\u001b[1;33m     \u001b[0mtitle\u001b[0m\u001b[1;33m(\u001b[0m\u001b[1;34m'number of jobs'\u001b[0m\u001b[1;33m,\u001b[0m \u001b[0mbbox\u001b[0m\u001b[1;33m=\u001b[0m\u001b[1;33m{\u001b[0m\u001b[1;34m'facecolor'\u001b[0m\u001b[1;33m:\u001b[0m \u001b[1;34m'0.8'\u001b[0m\u001b[1;33m,\u001b[0m \u001b[1;34m'pad'\u001b[0m\u001b[1;33m:\u001b[0m \u001b[1;36m5\u001b[0m\u001b[1;33m}\u001b[0m\u001b[1;33m)\u001b[0m\u001b[1;33m\u001b[0m\u001b[0m\n\u001b[0m\u001b[0;32m     31\u001b[0m     \u001b[0max0\u001b[0m\u001b[1;33m.\u001b[0m\u001b[0maxis\u001b[0m\u001b[1;33m(\u001b[0m\u001b[1;34m'equal'\u001b[0m\u001b[1;33m)\u001b[0m\u001b[1;33m\u001b[0m\u001b[0m\n\u001b[0;32m     32\u001b[0m \u001b[1;33m\u001b[0m\u001b[0m\n",
      "\u001b[1;31mNameError\u001b[0m: name 'title' is not defined"
     ]
    },
    {
     "data": {
      "image/png": "[encoded data removed]",
      "text/plain": [
       "<matplotlib.figure.Figure at 0x7fc776575518>"
      ]
     },
     "metadata": {},
     "output_type": "display_data"
    }
   ],
   "source": [
    "tot_walltime=res['tot_walltime']['value']\n",
    "tot_cputime=res['tot_cputime']['value']\n",
    "tot_priority=res['tot_priority']['value']\n",
    "\n",
    "users=res['user']['buckets']\n",
    "for u in users:\n",
    "    uname = parseUname(u['key'])\n",
    "    ujobs=u['doc_count']\n",
    "    upriority=u['priority']['value']\n",
    "    print (uname, ujobs, upriority)\n",
    "    jobstatus=u['jobstatus']['buckets']\n",
    "    print(jobstatus)\n",
    "    #print(u)\n",
    "    jskey=[]\n",
    "    jscount=[]\n",
    "    jscpu=[]\n",
    "    jswall=[]\n",
    "    for js in jobstatus:\n",
    "        print(js)\n",
    "        jskey.append(js['key'])\n",
    "        jscount.append(js['doc_count'])\n",
    "        jscpu.append(js['cputime']['value'])\n",
    "        jswall.append(js['walltime']['value'])\n",
    "        \n",
    "    plt.figure(figsize=[14, 15])\n",
    "    gs = gridspec.GridSpec(2, 3, height_ratios=[1,1,1,1,1,1,1,1,1,1,1,1])\n",
    "    \n",
    "    ax0 = plt.subplot(gs[0])\n",
    "    ax0.pie(jscount, labels=jskey, autopct='%1.1f%%', shadow=True, startangle=90)\n",
    "    title('number of jobs', bbox={'facecolor': '0.8', 'pad': 5})\n",
    "    ax0.axis('equal') \n",
    "    \n",
    "    ax1 = plt.subplot(gs[1])\n",
    "    ax1.pie(jswall, labels=jskey, autopct='%1.1f%%', shadow=True, startangle=90)\n",
    "    title('Wall time', bbox={'facecolor': '0.8', 'pad': 5})\n",
    "    \n",
    "    ax2 = plt.subplot(gs[2])\n",
    "    ax2.pie(jscpu, labels=jskey, autopct='%1.1f%%', shadow=True, startangle=90)\n",
    "    plt.title('CPU  time', bbox={'facecolor': '0.8', 'pad': 5})\n",
    "    \n",
    "#     ax0.set_xlabel('jobs')\n",
    "#     ax0.legend()\n",
    "        \n",
    "    plt.axis('off')\n",
    "    plt.savefig('Plots/UserReport_' + uname + '.png')\n",
    "    #plt.show()"
   ]
  },
  {
   "cell_type": "code",
   "execution_count": 10,
   "metadata": {
    "collapsed": false
   },
   "outputs": [
    {
     "name": "stderr",
     "output_type": "stream",
     "text": [
      "/home/ivukotic/anaconda3/lib/python3.5/site-packages/matplotlib/axes/_axes.py:519: UserWarning: No labelled objects found. Use label='...' kwarg on individual plots.\n",
      "  warnings.warn(\"No labelled objects found. \"\n"
     ]
    },
    {
     "ename": "NameError",
     "evalue": "name 'uName' is not defined",
     "output_type": "error",
     "traceback": [
      "\u001b[1;31m---------------------------------------------------------------------------\u001b[0m",
      "\u001b[1;31mNameError\u001b[0m                                 Traceback (most recent call last)",
      "\u001b[1;32m<ipython-input-10-85f77b7d604f>\u001b[0m in \u001b[0;36m<module>\u001b[1;34m()\u001b[0m\n\u001b[0;32m     32\u001b[0m \u001b[1;33m\u001b[0m\u001b[0m\n\u001b[0;32m     33\u001b[0m \u001b[0mplt\u001b[0m\u001b[1;33m.\u001b[0m\u001b[0maxis\u001b[0m\u001b[1;33m(\u001b[0m\u001b[1;34m'off'\u001b[0m\u001b[1;33m)\u001b[0m\u001b[1;33m\u001b[0m\u001b[0m\n\u001b[1;32m---> 34\u001b[1;33m \u001b[0mplt\u001b[0m\u001b[1;33m.\u001b[0m\u001b[0msavefig\u001b[0m\u001b[1;33m(\u001b[0m\u001b[1;34m'Plots/UserReport_'\u001b[0m \u001b[1;33m+\u001b[0m \u001b[0muName\u001b[0m \u001b[1;33m+\u001b[0m \u001b[1;34m'.png'\u001b[0m\u001b[1;33m)\u001b[0m\u001b[1;33m\u001b[0m\u001b[0m\n\u001b[0m\u001b[0;32m     35\u001b[0m \u001b[0mplt\u001b[0m\u001b[1;33m.\u001b[0m\u001b[0mshow\u001b[0m\u001b[1;33m(\u001b[0m\u001b[1;33m)\u001b[0m\u001b[1;33m\u001b[0m\u001b[0m\n",
      "\u001b[1;31mNameError\u001b[0m: name 'uName' is not defined"
     ]
    },
    {
     "data": {
      "image/png": "[encoded data removed]",
      "text/plain": [
       "<matplotlib.figure.Figure at 0x7fc773760f98>"
      ]
     },
     "metadata": {},
     "output_type": "display_data"
    }
   ],
   "source": [
    "\n",
    "\n",
    "#plt.\n",
    "figure(figsize=[14, 15])\n",
    "gs = gridspec.GridSpec(4, 1, height_ratios=[2,2,2,3])\n",
    "\n",
    "ax0 = plt.subplot(gs[0])\n",
    "#ax0.plot(Fthr.timestamp.tolist(), Fthr.throughput.tolist(), ls='-', marker='>', c='r', label=sS+'->'+dS)\n",
    "#ax0.plot(Bthr.timestamp.tolist(), Bthr.throughput.tolist(), ls='-', marker='<', c='b', label=dS+'->'+sS)\n",
    "ax0.set_xlabel('time')\n",
    "ax0.set_ylabel('throughput [Gbps]')#,rotation='horizontal')\n",
    "#plt.xlim(xmin=0)\n",
    "ax0.legend()\n",
    "\n",
    "ax2 = plt.subplot(gs[1])\n",
    "#ax2.plot(Fpl.timestamp.tolist(), np.sqrt(Fpl.packet_loss).tolist(), ls='', marker='.', c='r', label=sS+'->'+dS)\n",
    "#ax2.plot(Bpl.timestamp.tolist(), np.sqrt(Bpl.packet_loss).tolist(), ls='', marker='.', c='b', label=dS+'->'+sS)\n",
    "ax2.set_xlabel('time')\n",
    "ax2.set_ylabel('sqrt(packet loss) [%]')\n",
    "ax2.legend()\n",
    "\n",
    "\n",
    "ax4 = plt.subplot(gs[2])\n",
    "#ax4.plot(Fd.timestamp.tolist(), Fd.delay_mean.tolist(), ls='', marker='.', c='r', label=sS+'->'+dS)\n",
    "#ax4.plot(Bd.timestamp.tolist(), Bd.delay_mean.tolist(), ls='', marker='.', c='b', label=dS+'->'+sS)\n",
    "ax4.set_xlabel('time')\n",
    "ax4.set_ylabel('one way delay [ms]')\n",
    "ax4.legend()\n",
    "\n",
    "\n",
    "ax5 = plt.subplot(gs[3])\n",
    "\n",
    "plt.axis('off')\n",
    "plt.savefig('Plots/UserReport_' + uName + '.png')\n",
    "plt.show()"
   ]
  },
  {
   "cell_type": "code",
   "execution_count": null,
   "metadata": {
    "collapsed": true
   },
   "outputs": [],
   "source": []
  }
 ],
 "metadata": {
  "kernelspec": {
   "display_name": "Python 3",
   "language": "python",
   "name": "python3"
  },
  "language_info": {
   "codemirror_mode": {
    "name": "ipython",
    "version": 3
   },
   "file_extension": ".py",
   "mimetype": "text/x-python",
   "name": "python",
   "nbconvert_exporter": "python",
   "pygments_lexer": "ipython3",
   "version": "3.5.1"
  }
 },
 "nbformat": 4,
 "nbformat_minor": 0
}
