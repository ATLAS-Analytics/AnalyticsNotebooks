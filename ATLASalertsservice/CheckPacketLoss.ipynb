{
 "cells": [
  {
   "cell_type": "markdown",
   "metadata": {},
   "source": [
    "# Check if the packet loss data is abnormal"
   ]
  },
  {
   "cell_type": "markdown",
   "metadata": {},
   "source": [
    "###This notebook finds out all the links which have at least five packet loss measurements in the past one hour and the average value of the packet loss measurements is greater than 2%. It is run by a cron job every hour, and it will write the detailed information of every alarm into Elastic Search with the _index: alarms-year.month and _type: packetloss."
   ]
  },
  {
   "cell_type": "markdown",
   "metadata": {},
   "source": [
    "### import all the packages needed for this task"
   ]
  },
  {
   "cell_type": "code",
   "execution_count": 1,
   "metadata": {
    "collapsed": true
   },
   "outputs": [],
   "source": [
    "from elasticsearch import Elasticsearch, exceptions as es_exceptions, helpers\n",
    "import sys\n",
    "import datetime"
   ]
  },
  {
   "cell_type": "markdown",
   "metadata": {},
   "source": [
    "### establish the Elastic Search connection"
   ]
  },
  {
   "cell_type": "code",
   "execution_count": 2,
   "metadata": {
    "collapsed": true
   },
   "outputs": [],
   "source": [
    "es = Elasticsearch(hosts=[{'host':'atlas-kibana.mwt2.org', 'port':9200}],timeout=60)"
   ]
  },
  {
   "cell_type": "markdown",
   "metadata": {},
   "source": [
    "### define functions to write an alarm record into ES with detailed info"
   ]
  },
  {
   "cell_type": "code",
   "execution_count": 3,
   "metadata": {
    "collapsed": false
   },
   "outputs": [],
   "source": [
    "ipSite={}  # for mapping IP to Site name\n",
    "toAlertOn=[]\n",
    "\n",
    "def generate_doc(src_site_ip, dest_site_ip, measurements, avgpl):\n",
    "   if src_site_ip not in ipSite:\n",
    "        print('serious source mapping issue')\n",
    "        return\n",
    "   if dest_site_ip not in ipSite:\n",
    "        print('serious destination mapping issue')\n",
    "        return\n",
    "\n",
    "   doc = {\n",
    "        '_index':get_index_name(),\n",
    "        '_type' : 'packetloss',\n",
    "        'src' : src_site_ip,\n",
    "        'dest' : dest_site_ip,\n",
    "        'srcSite' : ipSite[src_site_ip],\n",
    "        'destSite' : ipSite[dest_site_ip],\n",
    "        'alarmTime' : int( (datetime.datetime.utcnow()-datetime.datetime(1970,1,1) ).total_seconds() * 1000 ),\n",
    "        'measurements' : measurements,\n",
    "        'packetLossAvg' : avgpl\n",
    "   }\n",
    "   return doc\n",
    "\n",
    "def get_index_name():\n",
    "    date = datetime.datetime.utcnow().strftime(\"%Y.%m\")   # date format is yyyy.mm\n",
    "    index_name = 'alarms-'+date\n",
    "    return index_name\n",
    "\n"
   ]
  },
  {
   "cell_type": "markdown",
   "metadata": {},
   "source": [
    "### list all network\\_weather* indices"
   ]
  },
  {
   "cell_type": "code",
   "execution_count": 4,
   "metadata": {
    "collapsed": true
   },
   "outputs": [],
   "source": [
    "indices = es.cat.indices(index=\"network_weather_2-*\", h=\"index\", request_timeout=600).split('\\n')\n",
    "indices = [x for x in indices if x != '']\n",
    "indices = [x.strip() for x in indices]\n",
    "#print(indices)"
   ]
  },
  {
   "cell_type": "markdown",
   "metadata": {},
   "source": [
    "### find indices to be used"
   ]
  },
  {
   "cell_type": "code",
   "execution_count": 5,
   "metadata": {
    "collapsed": false
   },
   "outputs": [
    {
     "name": "stdout",
     "output_type": "stream",
     "text": [
      "checking for indices: network_weather_2-2016.8.15 network_weather_2-2016.8.14\n",
      "will use indices: ['network_weather_2-2016.8.15']\n"
     ]
    }
   ],
   "source": [
    "\n",
    "cday  = datetime.datetime.utcnow()\n",
    "pday  = cday - datetime.timedelta(days=1)\n",
    "ind1 = 'network_weather_2-%d.%d.%d' % (cday.year, cday.month, cday.day)\n",
    "ind2 = 'network_weather_2-%d.%d.%d' % (pday.year, pday.month, pday.day)\n",
    "\n",
    "print ('checking for indices:', ind1, ind2)\n",
    "\n",
    "ind=[]\n",
    "if ind1 in indices :\n",
    "   ind.append(ind1)\n",
    "if ind2 in indices and cday.hour<3:\n",
    "   ind.append(ind2)\n",
    "\n",
    "if len(ind)==0:\n",
    "   print ('no current indices found. Aborting.')\n",
    "   sys.exit(1)\n",
    "else:\n",
    "   print('will use indices:', ind)"
   ]
  },
  {
   "cell_type": "markdown",
   "metadata": {},
   "source": [
    "### get aggregated data for the past one hour\n",
    "This query is composed of 3 parts: a) filter - takes only packet loss data, and production servers in last 1h. b) aggregation -  finds average packet loss per source and destination c) finds IP to site name mapping (both source and destination) "
   ]
  },
  {
   "cell_type": "code",
   "execution_count": 6,
   "metadata": {
    "collapsed": true
   },
   "outputs": [],
   "source": [
    "query={\n",
    "   \"size\": 0,\n",
    "   \"query\": {\n",
    "    \"bool\": {\n",
    "      \"must\": [\n",
    "        {\"term\": { \"_type\" : \"packet_loss_rate\"}},\n",
    "        {\"term\": { \"srcProduction\" : True }},\n",
    "        {\"term\": { \"destProduction\" : True }}\n",
    "      ],\n",
    "      \"filter\" : {\n",
    "        \"range\" : {\n",
    "          \"timestamp\" : {\n",
    "            \"gt\": \"now-1h\"\n",
    "          }\n",
    "        }\n",
    "      }\n",
    "    }\n",
    "   },\n",
    "    \"aggs\" : {\n",
    "      \"src\" : {\n",
    "        \"terms\" : { \"field\" : \"src\", \"size\": 1000 },\n",
    "        \"aggs\" : {\n",
    "          \"dest\" : {\n",
    "            \"terms\" : {\"field\" : \"dest\", \"size\": 1000},\n",
    "            \"aggs\" : {\n",
    "              \"avgpl\" : {\n",
    "                \"avg\" :{\n",
    "                  \"field\" : \"packet_loss\"\n",
    "              }\n",
    "            }\n",
    "          }\n",
    "        }\n",
    "      }\n",
    "    },\n",
    "    \"srcSites\" : {\n",
    "      \"terms\" : { \"field\" : \"src\", \"size\": 1000 },\n",
    "        \"aggs\" : {\n",
    "          \"srcsitename\" : {\n",
    "            \"terms\" : { \"field\" : \"srcSite\" }\n",
    "        }\n",
    "      }\n",
    "    },\n",
    "    \"destSites\" : {\n",
    "      \"terms\" : { \"field\" : \"dest\", \"size\": 1000 },\n",
    "        \"aggs\" : {\n",
    "          \"destsitename\" : {\n",
    "            \"terms\" : { \"field\" : \"destSite\" }\n",
    "        }\n",
    "      }\n",
    "    }\n",
    "  }\n",
    "}"
   ]
  },
  {
   "cell_type": "markdown",
   "metadata": {},
   "source": [
    "### execute query"
   ]
  },
  {
   "cell_type": "code",
   "execution_count": 7,
   "metadata": {
    "collapsed": true
   },
   "outputs": [],
   "source": [
    "res = es.search(index=ind, body=query, request_timeout=120)\n",
    "#print(res)"
   ]
  },
  {
   "cell_type": "markdown",
   "metadata": {},
   "source": [
    "### proces IP to site name mapping data"
   ]
  },
  {
   "cell_type": "code",
   "execution_count": 8,
   "metadata": {
    "collapsed": false
   },
   "outputs": [
    {
     "name": "stdout",
     "output_type": "stream",
     "text": [
      "{'152.84.101.141': 'UnknownSite', '132.206.245.252': 'CA-MCGILL-CLUMEQ-T2', '90.147.66.50': 'UnknownSite', '117.103.105.191': 'Taiwan-LCG2', '18.12.1.171': 'UnknownSite', '134.158.132.200': 'GRIF', '192.101.161.186': 'UnknownSite', '85.122.31.74': 'RO-16-UAIC', '164.58.29.121': 'LUCILLE', '134.75.125.241': 'UnknownSite', '141.108.35.18': 'INFN-ROMA1', '64.57.30.149': 'UnknownSite', '144.92.180.75': 'GLOW', '193.205.76.76': 'UnknownSite', '194.80.35.169': 'UKI-NORTHGRID-LANCS-HEP', '192.12.15.26': 'BNL-ATLAS', '159.93.229.151': 'JINR-T1', '193.206.93.45': 'UnknownSite', '200.136.80.20': 'SPRACE', '109.105.125.232': 'FI_HIP_T2', '134.158.159.85': 'GRIF', '134.219.225.13': 'UKI-LT2-RHUL', '72.36.96.4': 'MWT2', '109.105.124.86': 'NDGF-T1', '149.165.224.247': 'UnknownSite', '134.158.123.183': 'IN2P3-LPC', '157.82.112.68': 'TOKYO-LCG2', '72.36.96.15': 'MWT2', '131.111.66.196': 'UKI-SOUTHGRID-CAM-HEP', '147.231.25.192': 'praguelcg2', '142.150.19.61': 'CA-SCINET-T2', '192.41.230.61': 'UnknownSite', '148.187.64.25': 'CSCS-LCG2', '212.191.227.174': 'CYFRONET-LCG2', '193.60.193.3': 'UKI-SCOTGRID-DURHAM', '192.41.230.59': 'AGLT2', '134.61.24.193': 'UnknownSite', '138.253.60.82': 'UKI-NORTHGRID-LIV-HEP', '206.12.9.2': 'TRIUMF-LCG2', '158.195.14.26': 'FMPhI-UNIBA', '198.124.80.201': 'UnknownSite', '134.158.20.192': 'IN2P3-CPPM', '132.230.202.235': 'UNI-FREIBURG', '192.54.207.250': 'GRIF', '129.15.40.231': 'OU_OCHEP_SWT2', '206.12.154.60': 'CA-VICTORIA-WESTGRID-T2', '90.147.67.252': 'INFN-NAPOLI-ATLAS', '143.215.129.69': 'UnknownSite', '147.156.116.40': 'IFIC-LCG2', '193.62.56.9': 'UKI-SOUTHGRID-BHAM-HEP', '193.48.83.165': 'IN2P3-LPSC', '193.109.172.188': 'pic', '129.15.40.229': 'OU_OCHEP_SWT2', '132.195.125.213': 'wuppertalprod', '129.107.255.29': 'UTA_SWT2', '193.239.180.211': 'UnknownSite', '134.158.73.243': 'GRIF', '192.41.236.31': 'AGLT2', '128.227.221.44': 'UFlorida-HPC', '192.5.207.251': 'BU_ATLAS_Tier2', '192.170.227.160': 'MWT2', '192.114.101.125': 'TECHNION-HEP', '146.83.90.7': 'EELA-UTFSM', '192.135.14.32': 'INFN-MILANO-ATLASC', '148.6.8.251': 'BUDAPEST', '149.165.225.223': 'MWT2', '150.244.247.2': 'UAM-LCG2', '137.222.74.15': 'UKI-SOUTHGRID-BRIS-HEP', '62.40.126.129': 'UnknownSite', '143.167.3.116': 'UKI-NORTHGRID-SHEF-HEP', '129.93.239.148': 'Nebraska', '81.180.86.64': 'RO-07-NIPNE', '131.225.205.12': 'UnknownSite', '192.108.47.12': 'FZK-LCG2', '206.12.24.251': 'SFU-LCG2', '192.84.86.122': 'UnknownSite', '169.228.130.40': 'UnknownSite', '193.48.99.76': 'IN2P3-CC', '192.231.127.41': 'Australia-ATLAS', '193.170.243.215': 'Hephy-Vienna', '194.190.165.192': 'RU-Protvino-IHEP', '131.169.98.30': 'DESY-HH', '144.16.111.26': 'INDIACMS-TIFR', '159.93.226.102': 'JINR-LCG2', '145.100.17.8': 'SARA-MATRIX', '129.93.5.165': 'Nebraska', '141.34.200.28': 'DESY-ZN', '202.13.207.242': 'UnknownSite', '193.146.75.138': 'IFCA-LCG2', '147.213.204.117': 'IEPSAS-Kosice', '130.246.47.129': 'UKI-SOUTHGRID-RALPP', '163.1.5.210': 'UKI-SOUTHGRID-OX-HEP', '147.213.204.112': 'IEPSAS-Kosice', '81.180.86.38': 'RO-02-NIPNE', '202.122.32.170': 'BEIJING-LCG2', '193.144.80.12': 'UnknownSite', '128.211.143.3': 'UnknownSite', '192.12.15.111': 'BNL-ATLAS', '192.101.107.152': 'UnknownSite', '161.116.81.235': 'UnknownSite', '193.136.75.146': 'NCG-INGRID-PT', '128.142.223.247': 'CERN-PROD', '195.194.105.178': 'UKI-NORTHGRID-MAN-HEP', '129.107.255.26': 'UnknownSite', '192.111.108.112': 'Vanderbilt', '165.91.55.4': 'UnknownSite', '194.85.69.75': 'ITEP', '64.57.30.143': 'UnknownSite', '192.41.236.35': 'UnknownSite', '130.246.176.109': 'RAL-LCG2', '131.154.254.12': 'INFN-T1', '134.158.103.10': 'IN2P3-LAPP', '131.243.24.11': 'UnknownSite', '129.215.213.70': 'UKI-SCOTGRID-ECDF', '198.124.80.193': 'UnknownSite', '134.79.118.72': 'WT2', '194.36.11.38': 'UKI-LT2-QMUL', '192.170.227.163': 'UnknownSite'}\n"
     ]
    }
   ],
   "source": [
    "srcsites=res['aggregations']['srcSites']['buckets']\n",
    "#print(srcsites)\n",
    "for sS in srcsites:\n",
    "   #print(sS)\n",
    "   siteName=sS['srcsitename']['buckets']\n",
    "   if len(siteName)==0:\n",
    "      siteName='UnknownSite'\n",
    "   else:\n",
    "      siteName=siteName[0]['key']\n",
    "   ipSite[sS['key']]=siteName\n",
    "\n",
    "destsites=res['aggregations']['destSites']['buckets']\n",
    "#print(destsites)\n",
    "for dS in destsites:\n",
    "   #print(dS)\n",
    "   siteName=dS['destsitename']['buckets']\n",
    "   if len(siteName)==0:\n",
    "      siteName='UnknownSite'\n",
    "   else:\n",
    "      siteName=siteName[0]['key']\n",
    "   ipSite[dS['key']]=siteName\n",
    "\n",
    "print(ipSite)\n"
   ]
  },
  {
   "cell_type": "markdown",
   "metadata": {},
   "source": [
    "### process packet loss averages"
   ]
  },
  {
   "cell_type": "code",
   "execution_count": 9,
   "metadata": {
    "collapsed": false
   },
   "outputs": [
    {
     "name": "stdout",
     "output_type": "stream",
     "text": [
      "{'dest': '161.116.81.235', 'destSite': 'UnknownSite', '_type': 'packetloss', 'packetLossAvg': 1.0, 'alarmTime': 1471281866452, '_index': 'alarms-2016.08', 'srcSite': 'FZK-LCG2', 'src': '192.108.47.12', 'measurements': 11}\n",
      "{'dest': '194.85.69.75', 'destSite': 'ITEP', '_type': 'packetloss', 'packetLossAvg': 0.05124476795102465, 'alarmTime': 1471281866452, '_index': 'alarms-2016.08', 'srcSite': 'FZK-LCG2', 'src': '192.108.47.12', 'measurements': 7}\n",
      "{'dest': '200.136.80.20', 'destSite': 'SPRACE', '_type': 'packetloss', 'packetLossAvg': 0.12956944444444446, 'alarmTime': 1471281866452, '_index': 'alarms-2016.08', 'srcSite': 'FZK-LCG2', 'src': '192.108.47.12', 'measurements': 6}\n",
      "{'dest': '129.15.40.231', 'destSite': 'OU_OCHEP_SWT2', '_type': 'packetloss', 'packetLossAvg': 0.022925925925925926, 'alarmTime': 1471281866452, '_index': 'alarms-2016.08', 'srcSite': 'RAL-LCG2', 'src': '130.246.176.109', 'measurements': 9}\n",
      "{'dest': '141.108.35.18', 'destSite': 'INFN-ROMA1', '_type': 'packetloss', 'packetLossAvg': 0.8870370370370372, 'alarmTime': 1471281866453, '_index': 'alarms-2016.08', 'srcSite': 'RAL-LCG2', 'src': '130.246.176.109', 'measurements': 9}\n",
      "{'dest': '200.136.80.20', 'destSite': 'SPRACE', '_type': 'packetloss', 'packetLossAvg': 0.08408024691358024, 'alarmTime': 1471281866453, '_index': 'alarms-2016.08', 'srcSite': 'RAL-LCG2', 'src': '130.246.176.109', 'measurements': 9}\n",
      "{'dest': '194.85.69.75', 'destSite': 'ITEP', '_type': 'packetloss', 'packetLossAvg': 0.033446359984226307, 'alarmTime': 1471281866453, '_index': 'alarms-2016.08', 'srcSite': 'RAL-LCG2', 'src': '130.246.176.109', 'measurements': 5}\n",
      "{'dest': '141.108.35.18', 'destSite': 'INFN-ROMA1', '_type': 'packetloss', 'packetLossAvg': 0.8888888888888888, 'alarmTime': 1471281866453, '_index': 'alarms-2016.08', 'srcSite': 'IFCA-LCG2', 'src': '193.146.75.138', 'measurements': 9}\n",
      "{'dest': '194.85.69.75', 'destSite': 'ITEP', '_type': 'packetloss', 'packetLossAvg': 0.06014768607405692, 'alarmTime': 1471281866453, '_index': 'alarms-2016.08', 'srcSite': 'IFCA-LCG2', 'src': '193.146.75.138', 'measurements': 8}\n",
      "{'dest': '200.136.80.20', 'destSite': 'SPRACE', '_type': 'packetloss', 'packetLossAvg': 0.10687500000000001, 'alarmTime': 1471281866453, '_index': 'alarms-2016.08', 'srcSite': 'IFCA-LCG2', 'src': '193.146.75.138', 'measurements': 8}\n",
      "{'dest': '194.85.69.75', 'destSite': 'ITEP', '_type': 'packetloss', 'packetLossAvg': 0.07345094501595277, 'alarmTime': 1471281866453, '_index': 'alarms-2016.08', 'srcSite': 'DESY-HH', 'src': '131.169.98.30', 'measurements': 11}\n",
      "{'dest': '200.136.80.20', 'destSite': 'SPRACE', '_type': 'packetloss', 'packetLossAvg': 0.06563636363636363, 'alarmTime': 1471281866453, '_index': 'alarms-2016.08', 'srcSite': 'DESY-HH', 'src': '131.169.98.30', 'measurements': 11}\n",
      "{'dest': '137.222.74.15', 'destSite': 'UKI-SOUTHGRID-BRIS-HEP', '_type': 'packetloss', 'packetLossAvg': 0.024333333333333335, 'alarmTime': 1471281866453, '_index': 'alarms-2016.08', 'srcSite': 'DESY-HH', 'src': '131.169.98.30', 'measurements': 10}\n",
      "{'dest': '194.85.69.75', 'destSite': 'ITEP', '_type': 'packetloss', 'packetLossAvg': 0.059276359661114955, 'alarmTime': 1471281866453, '_index': 'alarms-2016.08', 'srcSite': 'CA-SCINET-T2', 'src': '142.150.19.61', 'measurements': 10}\n",
      "{'dest': '141.108.35.18', 'destSite': 'INFN-ROMA1', '_type': 'packetloss', 'packetLossAvg': 0.8863636363636364, 'alarmTime': 1471281866453, '_index': 'alarms-2016.08', 'srcSite': 'UTA_SWT2', 'src': '129.107.255.29', 'measurements': 11}\n",
      "{'dest': '194.85.69.75', 'destSite': 'ITEP', '_type': 'packetloss', 'packetLossAvg': 0.06636966767945972, 'alarmTime': 1471281866453, '_index': 'alarms-2016.08', 'srcSite': 'UTA_SWT2', 'src': '129.107.255.29', 'measurements': 11}\n",
      "{'dest': '161.116.81.235', 'destSite': 'UnknownSite', '_type': 'packetloss', 'packetLossAvg': 1.0, 'alarmTime': 1471281866453, '_index': 'alarms-2016.08', 'srcSite': 'pic', 'src': '193.109.172.188', 'measurements': 11}\n",
      "{'dest': '200.136.80.20', 'destSite': 'SPRACE', '_type': 'packetloss', 'packetLossAvg': 0.07583333333333334, 'alarmTime': 1471281866453, '_index': 'alarms-2016.08', 'srcSite': 'pic', 'src': '193.109.172.188', 'measurements': 10}\n",
      "{'dest': '200.136.80.20', 'destSite': 'SPRACE', '_type': 'packetloss', 'packetLossAvg': 0.1336474358974359, 'alarmTime': 1471281866453, '_index': 'alarms-2016.08', 'srcSite': 'BEIJING-LCG2', 'src': '202.122.32.170', 'measurements': 13}\n",
      "{'dest': '141.108.35.18', 'destSite': 'INFN-ROMA1', '_type': 'packetloss', 'packetLossAvg': 0.9428571428571428, 'alarmTime': 1471281866453, '_index': 'alarms-2016.08', 'srcSite': 'BEIJING-LCG2', 'src': '202.122.32.170', 'measurements': 7}\n",
      "{'dest': '194.85.69.75', 'destSite': 'ITEP', '_type': 'packetloss', 'packetLossAvg': 0.03991431609854667, 'alarmTime': 1471281866453, '_index': 'alarms-2016.08', 'srcSite': 'BEIJING-LCG2', 'src': '202.122.32.170', 'measurements': 7}\n",
      "{'dest': '161.116.81.235', 'destSite': 'UnknownSite', '_type': 'packetloss', 'packetLossAvg': 1.0, 'alarmTime': 1471281866453, '_index': 'alarms-2016.08', 'srcSite': 'IN2P3-CC', 'src': '193.48.99.76', 'measurements': 11}\n",
      "{'dest': '194.85.69.75', 'destSite': 'ITEP', '_type': 'packetloss', 'packetLossAvg': 0.04468080659188899, 'alarmTime': 1471281866453, '_index': 'alarms-2016.08', 'srcSite': 'IN2P3-CC', 'src': '193.48.99.76', 'measurements': 6}\n",
      "{'dest': '200.136.80.20', 'destSite': 'SPRACE', '_type': 'packetloss', 'packetLossAvg': 0.16193981481481481, 'alarmTime': 1471281866453, '_index': 'alarms-2016.08', 'srcSite': 'IN2P3-CC', 'src': '193.48.99.76', 'measurements': 6}\n",
      "{'dest': '141.108.35.18', 'destSite': 'INFN-ROMA1', '_type': 'packetloss', 'packetLossAvg': 0.9090909090909091, 'alarmTime': 1471281866453, '_index': 'alarms-2016.08', 'srcSite': 'BU_ATLAS_Tier2', 'src': '192.5.207.251', 'measurements': 11}\n",
      "{'dest': '194.85.69.75', 'destSite': 'ITEP', '_type': 'packetloss', 'packetLossAvg': 0.05858556243444691, 'alarmTime': 1471281866453, '_index': 'alarms-2016.08', 'srcSite': 'BU_ATLAS_Tier2', 'src': '192.5.207.251', 'measurements': 11}\n",
      "{'dest': '194.85.69.75', 'destSite': 'ITEP', '_type': 'packetloss', 'packetLossAvg': 0.06803368017524646, 'alarmTime': 1471281866453, '_index': 'alarms-2016.08', 'srcSite': 'BNL-ATLAS', 'src': '192.12.15.26', 'measurements': 11}\n",
      "{'dest': '137.222.74.15', 'destSite': 'UKI-SOUTHGRID-BRIS-HEP', '_type': 'packetloss', 'packetLossAvg': 0.036333333333333336, 'alarmTime': 1471281866453, '_index': 'alarms-2016.08', 'srcSite': 'BNL-ATLAS', 'src': '192.12.15.26', 'measurements': 10}\n",
      "{'dest': '161.116.81.235', 'destSite': 'UnknownSite', '_type': 'packetloss', 'packetLossAvg': 1.0, 'alarmTime': 1471281866453, '_index': 'alarms-2016.08', 'srcSite': 'DESY-ZN', 'src': '141.34.200.28', 'measurements': 10}\n",
      "{'dest': '194.85.69.75', 'destSite': 'ITEP', '_type': 'packetloss', 'packetLossAvg': 0.049259094007160095, 'alarmTime': 1471281866453, '_index': 'alarms-2016.08', 'srcSite': 'DESY-ZN', 'src': '141.34.200.28', 'measurements': 10}\n",
      "{'dest': '137.222.74.15', 'destSite': 'UKI-SOUTHGRID-BRIS-HEP', '_type': 'packetloss', 'packetLossAvg': 0.023351851851851853, 'alarmTime': 1471281866453, '_index': 'alarms-2016.08', 'srcSite': 'GRIF', 'src': '134.158.73.243', 'measurements': 18}\n",
      "{'dest': '193.136.75.146', 'destSite': 'NCG-INGRID-PT', '_type': 'packetloss', 'packetLossAvg': 0.7, 'alarmTime': 1471281866453, '_index': 'alarms-2016.08', 'srcSite': 'GRIF', 'src': '134.158.73.243', 'measurements': 11}\n",
      "{'dest': '194.85.69.75', 'destSite': 'ITEP', '_type': 'packetloss', 'packetLossAvg': 0.057291725499493025, 'alarmTime': 1471281866453, '_index': 'alarms-2016.08', 'srcSite': 'GRIF', 'src': '134.158.73.243', 'measurements': 11}\n",
      "{'dest': '200.136.80.20', 'destSite': 'SPRACE', '_type': 'packetloss', 'packetLossAvg': 0.06645454545454545, 'alarmTime': 1471281866453, '_index': 'alarms-2016.08', 'srcSite': 'GRIF', 'src': '134.158.73.243', 'measurements': 11}\n",
      "{'dest': '194.85.69.75', 'destSite': 'ITEP', '_type': 'packetloss', 'packetLossAvg': 0.03270680904489038, 'alarmTime': 1471281866454, '_index': 'alarms-2016.08', 'srcSite': 'praguelcg2', 'src': '147.231.25.192', 'measurements': 7}\n",
      "{'dest': '141.108.35.18', 'destSite': 'INFN-ROMA1', '_type': 'packetloss', 'packetLossAvg': 0.86, 'alarmTime': 1471281866454, '_index': 'alarms-2016.08', 'srcSite': 'RO-16-UAIC', 'src': '85.122.31.74', 'measurements': 10}\n",
      "{'dest': '147.213.204.112', 'destSite': 'IEPSAS-Kosice', '_type': 'packetloss', 'packetLossAvg': 0.1084111111111111, 'alarmTime': 1471281866454, '_index': 'alarms-2016.08', 'srcSite': 'RO-16-UAIC', 'src': '85.122.31.74', 'measurements': 10}\n",
      "{'dest': '158.195.14.26', 'destSite': 'FMPhI-UNIBA', '_type': 'packetloss', 'packetLossAvg': 0.11370833333333334, 'alarmTime': 1471281866454, '_index': 'alarms-2016.08', 'srcSite': 'RO-16-UAIC', 'src': '85.122.31.74', 'measurements': 8}\n",
      "{'dest': '194.85.69.75', 'destSite': 'ITEP', '_type': 'packetloss', 'packetLossAvg': 0.0496094585582936, 'alarmTime': 1471281866454, '_index': 'alarms-2016.08', 'srcSite': 'RO-16-UAIC', 'src': '85.122.31.74', 'measurements': 8}\n",
      "{'dest': '206.12.24.251', 'destSite': 'SFU-LCG2', '_type': 'packetloss', 'packetLossAvg': 0.025, 'alarmTime': 1471281866454, '_index': 'alarms-2016.08', 'srcSite': 'RO-16-UAIC', 'src': '85.122.31.74', 'measurements': 8}\n",
      "{'dest': '200.136.80.20', 'destSite': 'SPRACE', '_type': 'packetloss', 'packetLossAvg': 0.10414285714285712, 'alarmTime': 1471281866454, '_index': 'alarms-2016.08', 'srcSite': 'RU-Protvino-IHEP', 'src': '194.190.165.192', 'measurements': 14}\n",
      "{'dest': '161.116.81.235', 'destSite': 'UnknownSite', '_type': 'packetloss', 'packetLossAvg': 1.0, 'alarmTime': 1471281866454, '_index': 'alarms-2016.08', 'srcSite': 'RU-Protvino-IHEP', 'src': '194.190.165.192', 'measurements': 11}\n",
      "{'dest': '144.16.111.26', 'destSite': 'INDIACMS-TIFR', '_type': 'packetloss', 'packetLossAvg': 0.09999999999999999, 'alarmTime': 1471281866454, '_index': 'alarms-2016.08', 'srcSite': 'RU-Protvino-IHEP', 'src': '194.190.165.192', 'measurements': 7}\n",
      "{'dest': '194.85.69.75', 'destSite': 'ITEP', '_type': 'packetloss', 'packetLossAvg': 0.046854114864758094, 'alarmTime': 1471281866454, '_index': 'alarms-2016.08', 'srcSite': 'RU-Protvino-IHEP', 'src': '194.190.165.192', 'measurements': 6}\n",
      "{'dest': '161.116.81.235', 'destSite': 'UnknownSite', '_type': 'packetloss', 'packetLossAvg': 1.0, 'alarmTime': 1471281866454, '_index': 'alarms-2016.08', 'srcSite': 'UKI-SCOTGRID-ECDF', 'src': '129.215.213.70', 'measurements': 12}\n",
      "{'dest': '141.108.35.18', 'destSite': 'INFN-ROMA1', '_type': 'packetloss', 'packetLossAvg': 0.9590909090909091, 'alarmTime': 1471281866454, '_index': 'alarms-2016.08', 'srcSite': 'UKI-SCOTGRID-ECDF', 'src': '129.215.213.70', 'measurements': 11}\n",
      "{'dest': '194.85.69.75', 'destSite': 'ITEP', '_type': 'packetloss', 'packetLossAvg': 0.07558879579113321, 'alarmTime': 1471281866454, '_index': 'alarms-2016.08', 'srcSite': 'UKI-SCOTGRID-ECDF', 'src': '129.215.213.70', 'measurements': 7}\n",
      "{'dest': '137.222.74.15', 'destSite': 'UKI-SOUTHGRID-BRIS-HEP', '_type': 'packetloss', 'packetLossAvg': 0.021733333333333334, 'alarmTime': 1471281866454, '_index': 'alarms-2016.08', 'srcSite': 'AGLT2', 'src': '192.41.236.31', 'measurements': 10}\n",
      "{'dest': '194.85.69.75', 'destSite': 'ITEP', '_type': 'packetloss', 'packetLossAvg': 0.046545752199279145, 'alarmTime': 1471281866454, '_index': 'alarms-2016.08', 'srcSite': 'AGLT2', 'src': '192.41.236.31', 'measurements': 9}\n",
      "{'dest': '194.85.69.75', 'destSite': 'ITEP', '_type': 'packetloss', 'packetLossAvg': 0.05634388743735013, 'alarmTime': 1471281866454, '_index': 'alarms-2016.08', 'srcSite': 'CA-MCGILL-CLUMEQ-T2', 'src': '132.206.245.252', 'measurements': 9}\n",
      "{'dest': '161.116.81.235', 'destSite': 'UnknownSite', '_type': 'packetloss', 'packetLossAvg': 1.0, 'alarmTime': 1471281866454, '_index': 'alarms-2016.08', 'srcSite': 'UKI-NORTHGRID-LANCS-HEP', 'src': '194.80.35.169', 'measurements': 10}\n",
      "{'dest': '141.108.35.18', 'destSite': 'INFN-ROMA1', '_type': 'packetloss', 'packetLossAvg': 0.8962962962962963, 'alarmTime': 1471281866454, '_index': 'alarms-2016.08', 'srcSite': 'UKI-NORTHGRID-LANCS-HEP', 'src': '194.80.35.169', 'measurements': 9}\n",
      "{'dest': '194.85.69.75', 'destSite': 'ITEP', '_type': 'packetloss', 'packetLossAvg': 0.17189846183800622, 'alarmTime': 1471281866455, '_index': 'alarms-2016.08', 'srcSite': 'UKI-NORTHGRID-LANCS-HEP', 'src': '194.80.35.169', 'measurements': 8}\n",
      "{'dest': '194.85.69.75', 'destSite': 'ITEP', '_type': 'packetloss', 'packetLossAvg': 0.052395502311710855, 'alarmTime': 1471281866455, '_index': 'alarms-2016.08', 'srcSite': 'CYFRONET-LCG2', 'src': '212.191.227.174', 'measurements': 12}\n",
      "{'dest': '161.116.81.235', 'destSite': 'UnknownSite', '_type': 'packetloss', 'packetLossAvg': 1.0, 'alarmTime': 1471281866455, '_index': 'alarms-2016.08', 'srcSite': 'CYFRONET-LCG2', 'src': '212.191.227.174', 'measurements': 7}\n",
      "{'dest': '161.116.81.235', 'destSite': 'UnknownSite', '_type': 'packetloss', 'packetLossAvg': 1.0, 'alarmTime': 1471281866455, '_index': 'alarms-2016.08', 'srcSite': 'UKI-SOUTHGRID-CAM-HEP', 'src': '131.111.66.196', 'measurements': 9}\n",
      "{'dest': '141.108.35.18', 'destSite': 'INFN-ROMA1', '_type': 'packetloss', 'packetLossAvg': 0.875, 'alarmTime': 1471281866455, '_index': 'alarms-2016.08', 'srcSite': 'UKI-SOUTHGRID-CAM-HEP', 'src': '131.111.66.196', 'measurements': 8}\n",
      "{'dest': '194.85.69.75', 'destSite': 'ITEP', '_type': 'packetloss', 'packetLossAvg': 0.06212093723071186, 'alarmTime': 1471281866455, '_index': 'alarms-2016.08', 'srcSite': 'UKI-SOUTHGRID-CAM-HEP', 'src': '131.111.66.196', 'measurements': 8}\n",
      "{'dest': '137.222.74.15', 'destSite': 'UKI-SOUTHGRID-BRIS-HEP', '_type': 'packetloss', 'packetLossAvg': 0.028200000000000003, 'alarmTime': 1471281866455, '_index': 'alarms-2016.08', 'srcSite': 'TOKYO-LCG2', 'src': '157.82.112.68', 'measurements': 10}\n",
      "{'dest': '194.85.69.75', 'destSite': 'ITEP', '_type': 'packetloss', 'packetLossAvg': 0.0372318799693939, 'alarmTime': 1471281866455, '_index': 'alarms-2016.08', 'srcSite': 'TOKYO-LCG2', 'src': '157.82.112.68', 'measurements': 8}\n",
      "{'dest': '194.85.69.75', 'destSite': 'ITEP', '_type': 'packetloss', 'packetLossAvg': 0.05051272300419483, 'alarmTime': 1471281866455, '_index': 'alarms-2016.08', 'srcSite': 'OU_OCHEP_SWT2', 'src': '129.15.40.231', 'measurements': 10}\n",
      "{'dest': '161.116.81.235', 'destSite': 'UnknownSite', '_type': 'packetloss', 'packetLossAvg': 1.0, 'alarmTime': 1471281866455, '_index': 'alarms-2016.08', 'srcSite': 'UKI-NORTHGRID-MAN-HEP', 'src': '195.194.105.178', 'measurements': 10}\n",
      "{'dest': '141.108.35.18', 'destSite': 'INFN-ROMA1', '_type': 'packetloss', 'packetLossAvg': 0.9333333333333332, 'alarmTime': 1471281866455, '_index': 'alarms-2016.08', 'srcSite': 'UKI-NORTHGRID-MAN-HEP', 'src': '195.194.105.178', 'measurements': 6}\n",
      "{'dest': '194.85.69.75', 'destSite': 'ITEP', '_type': 'packetloss', 'packetLossAvg': 0.05226643295354952, 'alarmTime': 1471281866455, '_index': 'alarms-2016.08', 'srcSite': 'UKI-NORTHGRID-MAN-HEP', 'src': '195.194.105.178', 'measurements': 6}\n",
      "{'dest': '161.116.81.235', 'destSite': 'UnknownSite', '_type': 'packetloss', 'packetLossAvg': 1.0, 'alarmTime': 1471281866455, '_index': 'alarms-2016.08', 'srcSite': 'GRIF', 'src': '134.158.132.200', 'measurements': 10}\n",
      "{'dest': '194.85.69.75', 'destSite': 'ITEP', '_type': 'packetloss', 'packetLossAvg': 0.0450315554237751, 'alarmTime': 1471281866455, '_index': 'alarms-2016.08', 'srcSite': 'GRIF', 'src': '134.158.132.200', 'measurements': 9}\n",
      "{'dest': '200.136.80.20', 'destSite': 'SPRACE', '_type': 'packetloss', 'packetLossAvg': 0.12406666666666669, 'alarmTime': 1471281866455, '_index': 'alarms-2016.08', 'srcSite': 'GRIF', 'src': '134.158.132.200', 'measurements': 5}\n",
      "{'dest': '194.85.69.75', 'destSite': 'ITEP', '_type': 'packetloss', 'packetLossAvg': 0.04900694444444444, 'alarmTime': 1471281866455, '_index': 'alarms-2016.08', 'srcSite': 'UKI-SOUTHGRID-RALPP', 'src': '130.246.47.129', 'measurements': 8}\n",
      "{'dest': '200.136.80.20', 'destSite': 'SPRACE', '_type': 'packetloss', 'packetLossAvg': 0.14908333333333335, 'alarmTime': 1471281866455, '_index': 'alarms-2016.08', 'srcSite': 'UKI-SOUTHGRID-RALPP', 'src': '130.246.47.129', 'measurements': 8}\n",
      "{'dest': '141.108.35.18', 'destSite': 'INFN-ROMA1', '_type': 'packetloss', 'packetLossAvg': 0.9238095238095239, 'alarmTime': 1471281866455, '_index': 'alarms-2016.08', 'srcSite': 'UKI-SOUTHGRID-RALPP', 'src': '130.246.47.129', 'measurements': 7}\n",
      "{'dest': '137.222.74.15', 'destSite': 'UKI-SOUTHGRID-BRIS-HEP', '_type': 'packetloss', 'packetLossAvg': 0.02633333333333333, 'alarmTime': 1471281866455, '_index': 'alarms-2016.08', 'srcSite': 'Taiwan-LCG2', 'src': '117.103.105.191', 'measurements': 10}\n",
      "{'dest': '141.108.35.18', 'destSite': 'INFN-ROMA1', '_type': 'packetloss', 'packetLossAvg': 0.9111481481481482, 'alarmTime': 1471281866455, '_index': 'alarms-2016.08', 'srcSite': 'UKI-LT2-QMUL', 'src': '194.36.11.38', 'measurements': 9}\n",
      "{'dest': '161.116.81.235', 'destSite': 'UnknownSite', '_type': 'packetloss', 'packetLossAvg': 1.0, 'alarmTime': 1471281866455, '_index': 'alarms-2016.08', 'srcSite': 'UKI-LT2-QMUL', 'src': '194.36.11.38', 'measurements': 8}\n",
      "{'dest': '141.108.35.18', 'destSite': 'INFN-ROMA1', '_type': 'packetloss', 'packetLossAvg': 0.9454848484848484, 'alarmTime': 1471281866456, '_index': 'alarms-2016.08', 'srcSite': 'EELA-UTFSM', 'src': '146.83.90.7', 'measurements': 11}\n",
      "{'dest': '200.136.80.20', 'destSite': 'SPRACE', '_type': 'packetloss', 'packetLossAvg': 0.06596464646464646, 'alarmTime': 1471281866456, '_index': 'alarms-2016.08', 'srcSite': 'UnknownSite', 'src': '90.147.66.50', 'measurements': 11}\n",
      "{'dest': '161.116.81.235', 'destSite': 'UnknownSite', '_type': 'packetloss', 'packetLossAvg': 1.0, 'alarmTime': 1471281866456, '_index': 'alarms-2016.08', 'srcSite': 'UnknownSite', 'src': '90.147.66.50', 'measurements': 7}\n",
      "{'dest': '194.85.69.75', 'destSite': 'ITEP', '_type': 'packetloss', 'packetLossAvg': 0.060408720962646496, 'alarmTime': 1471281866456, '_index': 'alarms-2016.08', 'srcSite': 'UnknownSite', 'src': '90.147.66.50', 'measurements': 7}\n",
      "{'dest': '141.108.35.18', 'destSite': 'INFN-ROMA1', '_type': 'packetloss', 'packetLossAvg': 0.9777777777777779, 'alarmTime': 1471281866456, '_index': 'alarms-2016.08', 'srcSite': 'CA-VICTORIA-WESTGRID-T2', 'src': '206.12.154.60', 'measurements': 9}\n",
      "{'dest': '194.85.69.75', 'destSite': 'ITEP', '_type': 'packetloss', 'packetLossAvg': 0.058714340114429796, 'alarmTime': 1471281866456, '_index': 'alarms-2016.08', 'srcSite': 'UnknownSite', 'src': '193.205.76.76', 'measurements': 11}\n",
      "{'dest': '200.136.80.20', 'destSite': 'SPRACE', '_type': 'packetloss', 'packetLossAvg': 0.07024242424242425, 'alarmTime': 1471281866456, '_index': 'alarms-2016.08', 'srcSite': 'UnknownSite', 'src': '193.205.76.76', 'measurements': 11}\n",
      "{'dest': '161.116.81.235', 'destSite': 'UnknownSite', '_type': 'packetloss', 'packetLossAvg': 1.0, 'alarmTime': 1471281866456, '_index': 'alarms-2016.08', 'srcSite': 'UnknownSite', 'src': '193.205.76.76', 'measurements': 7}\n",
      "{'dest': '200.136.80.20', 'destSite': 'SPRACE', '_type': 'packetloss', 'packetLossAvg': 0.09353086419753086, 'alarmTime': 1471281866456, '_index': 'alarms-2016.08', 'srcSite': 'RO-07-NIPNE', 'src': '81.180.86.64', 'measurements': 9}\n",
      "{'dest': '161.116.81.235', 'destSite': 'UnknownSite', '_type': 'packetloss', 'packetLossAvg': 1.0, 'alarmTime': 1471281866456, '_index': 'alarms-2016.08', 'srcSite': 'UnknownSite', 'src': '193.206.93.45', 'measurements': 11}\n",
      "{'dest': '193.136.75.146', 'destSite': 'NCG-INGRID-PT', '_type': 'packetloss', 'packetLossAvg': 0.8393939393939395, 'alarmTime': 1471281866456, '_index': 'alarms-2016.08', 'srcSite': 'UnknownSite', 'src': '193.206.93.45', 'measurements': 11}\n",
      "{'dest': '200.136.80.20', 'destSite': 'SPRACE', '_type': 'packetloss', 'packetLossAvg': 0.15680555555555556, 'alarmTime': 1471281866456, '_index': 'alarms-2016.08', 'srcSite': 'UnknownSite', 'src': '193.206.93.45', 'measurements': 6}\n",
      "{'dest': '161.116.81.235', 'destSite': 'UnknownSite', '_type': 'packetloss', 'packetLossAvg': 1.0, 'alarmTime': 1471281866456, '_index': 'alarms-2016.08', 'srcSite': 'SARA-MATRIX', 'src': '145.100.17.8', 'measurements': 11}\n",
      "{'dest': '194.85.69.75', 'destSite': 'ITEP', '_type': 'packetloss', 'packetLossAvg': 0.050193877645834495, 'alarmTime': 1471281866456, '_index': 'alarms-2016.08', 'srcSite': 'Vanderbilt', 'src': '192.111.108.112', 'measurements': 9}\n",
      "{'dest': '200.136.80.20', 'destSite': 'SPRACE', '_type': 'packetloss', 'packetLossAvg': 0.09081481481481482, 'alarmTime': 1471281866456, '_index': 'alarms-2016.08', 'srcSite': 'Vanderbilt', 'src': '192.111.108.112', 'measurements': 9}\n",
      "{'dest': '194.85.69.75', 'destSite': 'ITEP', '_type': 'packetloss', 'packetLossAvg': 0.13346014490540573, 'alarmTime': 1471281866456, '_index': 'alarms-2016.08', 'srcSite': 'UnknownSite', 'src': '131.225.205.12', 'measurements': 10}\n",
      "{'dest': '200.136.80.20', 'destSite': 'SPRACE', '_type': 'packetloss', 'packetLossAvg': 0.08763888888888889, 'alarmTime': 1471281866456, '_index': 'alarms-2016.08', 'srcSite': 'UnknownSite', 'src': '131.225.205.12', 'measurements': 9}\n",
      "{'dest': '200.136.80.20', 'destSite': 'SPRACE', '_type': 'packetloss', 'packetLossAvg': 0.06368181818181819, 'alarmTime': 1471281866456, '_index': 'alarms-2016.08', 'srcSite': 'UFlorida-HPC', 'src': '128.227.221.44', 'measurements': 11}\n",
      "{'dest': '194.85.69.75', 'destSite': 'ITEP', '_type': 'packetloss', 'packetLossAvg': 0.04436755769562082, 'alarmTime': 1471281866456, '_index': 'alarms-2016.08', 'srcSite': 'UFlorida-HPC', 'src': '128.227.221.44', 'measurements': 10}\n",
      "{'dest': '194.85.69.75', 'destSite': 'ITEP', '_type': 'packetloss', 'packetLossAvg': 0.044793652419127875, 'alarmTime': 1471281866456, '_index': 'alarms-2016.08', 'srcSite': 'IN2P3-LPC', 'src': '134.158.123.183', 'measurements': 8}\n",
      "{'dest': '200.136.80.20', 'destSite': 'SPRACE', '_type': 'packetloss', 'packetLossAvg': 0.07396666666666665, 'alarmTime': 1471281866456, '_index': 'alarms-2016.08', 'srcSite': 'GRIF', 'src': '134.158.159.85', 'measurements': 10}\n",
      "{'dest': '202.122.32.170', 'destSite': 'BEIJING-LCG2', '_type': 'packetloss', 'packetLossAvg': 0.12596078431372548, 'alarmTime': 1471281866456, '_index': 'alarms-2016.08', 'srcSite': 'SPRACE', 'src': '200.136.80.20', 'measurements': 17}\n",
      "{'dest': '129.93.239.148', 'destSite': 'Nebraska', '_type': 'packetloss', 'packetLossAvg': 0.06294444444444446, 'alarmTime': 1471281866456, '_index': 'alarms-2016.08', 'srcSite': 'SPRACE', 'src': '200.136.80.20', 'measurements': 12}\n",
      "{'dest': '130.246.176.109', 'destSite': 'RAL-LCG2', '_type': 'packetloss', 'packetLossAvg': 0.06327777777777778, 'alarmTime': 1471281866456, '_index': 'alarms-2016.08', 'srcSite': 'SPRACE', 'src': '200.136.80.20', 'measurements': 12}\n",
      "{'dest': '131.169.98.30', 'destSite': 'DESY-HH', '_type': 'packetloss', 'packetLossAvg': 0.06803472222222222, 'alarmTime': 1471281866456, '_index': 'alarms-2016.08', 'srcSite': 'SPRACE', 'src': '200.136.80.20', 'measurements': 12}\n",
      "{'dest': '134.158.73.243', 'destSite': 'GRIF', '_type': 'packetloss', 'packetLossAvg': 0.06527083333333333, 'alarmTime': 1471281866456, '_index': 'alarms-2016.08', 'srcSite': 'SPRACE', 'src': '200.136.80.20', 'measurements': 12}\n",
      "{'dest': '148.6.8.251', 'destSite': 'BUDAPEST', '_type': 'packetloss', 'packetLossAvg': 0.06266666666666666, 'alarmTime': 1471281866456, '_index': 'alarms-2016.08', 'srcSite': 'SPRACE', 'src': '200.136.80.20', 'measurements': 12}\n",
      "{'dest': '192.108.47.12', 'destSite': 'FZK-LCG2', '_type': 'packetloss', 'packetLossAvg': 0.06483333333333334, 'alarmTime': 1471281866456, '_index': 'alarms-2016.08', 'srcSite': 'SPRACE', 'src': '200.136.80.20', 'measurements': 12}\n",
      "{'dest': '192.54.207.250', 'destSite': 'GRIF', '_type': 'packetloss', 'packetLossAvg': 0.05956944444444445, 'alarmTime': 1471281866456, '_index': 'alarms-2016.08', 'srcSite': 'SPRACE', 'src': '200.136.80.20', 'measurements': 12}\n",
      "{'dest': '193.109.172.188', 'destSite': 'pic', '_type': 'packetloss', 'packetLossAvg': 0.06572222222222221, 'alarmTime': 1471281866456, '_index': 'alarms-2016.08', 'srcSite': 'SPRACE', 'src': '200.136.80.20', 'measurements': 12}\n",
      "{'dest': '193.205.76.76', 'destSite': 'UnknownSite', '_type': 'packetloss', 'packetLossAvg': 0.06225000000000001, 'alarmTime': 1471281866456, '_index': 'alarms-2016.08', 'srcSite': 'SPRACE', 'src': '200.136.80.20', 'measurements': 12}\n",
      "{'dest': '193.48.99.76', 'destSite': 'IN2P3-CC', '_type': 'packetloss', 'packetLossAvg': 0.0649861111111111, 'alarmTime': 1471281866456, '_index': 'alarms-2016.08', 'srcSite': 'SPRACE', 'src': '200.136.80.20', 'measurements': 12}\n",
      "{'dest': '90.147.66.50', 'destSite': 'UnknownSite', '_type': 'packetloss', 'packetLossAvg': 0.06297222222222222, 'alarmTime': 1471281866456, '_index': 'alarms-2016.08', 'srcSite': 'SPRACE', 'src': '200.136.80.20', 'measurements': 12}\n",
      "{'dest': '128.142.223.247', 'destSite': 'CERN-PROD', '_type': 'packetloss', 'packetLossAvg': 0.06560606060606061, 'alarmTime': 1471281866456, '_index': 'alarms-2016.08', 'srcSite': 'SPRACE', 'src': '200.136.80.20', 'measurements': 11}\n",
      "{'dest': '128.211.143.3', 'destSite': 'UnknownSite', '_type': 'packetloss', 'packetLossAvg': 0.06897474747474748, 'alarmTime': 1471281866456, '_index': 'alarms-2016.08', 'srcSite': 'SPRACE', 'src': '200.136.80.20', 'measurements': 11}\n",
      "{'dest': '128.227.221.44', 'destSite': 'UFlorida-HPC', '_type': 'packetloss', 'packetLossAvg': 0.11834848484848486, 'alarmTime': 1471281866457, '_index': 'alarms-2016.08', 'srcSite': 'SPRACE', 'src': '200.136.80.20', 'measurements': 11}\n",
      "{'dest': '130.246.47.129', 'destSite': 'UKI-SOUTHGRID-RALPP', '_type': 'packetloss', 'packetLossAvg': 0.06675757575757577, 'alarmTime': 1471281866457, '_index': 'alarms-2016.08', 'srcSite': 'SPRACE', 'src': '200.136.80.20', 'measurements': 11}\n",
      "{'dest': '131.154.254.12', 'destSite': 'INFN-T1', '_type': 'packetloss', 'packetLossAvg': 0.08763636363636364, 'alarmTime': 1471281866457, '_index': 'alarms-2016.08', 'srcSite': 'SPRACE', 'src': '200.136.80.20', 'measurements': 11}\n",
      "{'dest': '131.225.205.12', 'destSite': 'UnknownSite', '_type': 'packetloss', 'packetLossAvg': 0.0764040404040404, 'alarmTime': 1471281866457, '_index': 'alarms-2016.08', 'srcSite': 'SPRACE', 'src': '200.136.80.20', 'measurements': 11}\n",
      "{'dest': '134.158.159.85', 'destSite': 'GRIF', '_type': 'packetloss', 'packetLossAvg': 0.06713131313131314, 'alarmTime': 1471281866457, '_index': 'alarms-2016.08', 'srcSite': 'SPRACE', 'src': '200.136.80.20', 'measurements': 11}\n",
      "{'dest': '144.16.111.26', 'destSite': 'INDIACMS-TIFR', '_type': 'packetloss', 'packetLossAvg': 0.07287626262626262, 'alarmTime': 1471281866457, '_index': 'alarms-2016.08', 'srcSite': 'SPRACE', 'src': '200.136.80.20', 'measurements': 11}\n",
      "{'dest': '144.92.180.75', 'destSite': 'GLOW', '_type': 'packetloss', 'packetLossAvg': 0.08796969696969698, 'alarmTime': 1471281866457, '_index': 'alarms-2016.08', 'srcSite': 'SPRACE', 'src': '200.136.80.20', 'measurements': 11}\n",
      "{'dest': '148.187.64.25', 'destSite': 'CSCS-LCG2', '_type': 'packetloss', 'packetLossAvg': 0.06896969696969696, 'alarmTime': 1471281866457, '_index': 'alarms-2016.08', 'srcSite': 'SPRACE', 'src': '200.136.80.20', 'measurements': 11}\n",
      "{'dest': '159.93.226.102', 'destSite': 'JINR-LCG2', '_type': 'packetloss', 'packetLossAvg': 0.08715656565656565, 'alarmTime': 1471281866457, '_index': 'alarms-2016.08', 'srcSite': 'SPRACE', 'src': '200.136.80.20', 'measurements': 11}\n",
      "{'dest': '18.12.1.171', 'destSite': 'UnknownSite', '_type': 'packetloss', 'packetLossAvg': 0.05881060606060607, 'alarmTime': 1471281866457, '_index': 'alarms-2016.08', 'srcSite': 'SPRACE', 'src': '200.136.80.20', 'measurements': 11}\n",
      "{'dest': '192.111.108.112', 'destSite': 'Vanderbilt', '_type': 'packetloss', 'packetLossAvg': 0.08656060606060606, 'alarmTime': 1471281866457, '_index': 'alarms-2016.08', 'srcSite': 'SPRACE', 'src': '200.136.80.20', 'measurements': 11}\n",
      "{'dest': '193.239.180.211', 'destSite': 'UnknownSite', '_type': 'packetloss', 'packetLossAvg': 0.06644949494949497, 'alarmTime': 1471281866457, '_index': 'alarms-2016.08', 'srcSite': 'SPRACE', 'src': '200.136.80.20', 'measurements': 11}\n",
      "{'dest': '194.190.165.192', 'destSite': 'RU-Protvino-IHEP', '_type': 'packetloss', 'packetLossAvg': 0.07866666666666666, 'alarmTime': 1471281866457, '_index': 'alarms-2016.08', 'srcSite': 'SPRACE', 'src': '200.136.80.20', 'measurements': 11}\n",
      "{'dest': '194.85.69.75', 'destSite': 'ITEP', '_type': 'packetloss', 'packetLossAvg': 0.15043280329696496, 'alarmTime': 1471281866457, '_index': 'alarms-2016.08', 'srcSite': 'SPRACE', 'src': '200.136.80.20', 'measurements': 11}\n",
      "{'dest': '81.180.86.64', 'destSite': 'RO-07-NIPNE', '_type': 'packetloss', 'packetLossAvg': 0.07706060606060607, 'alarmTime': 1471281866457, '_index': 'alarms-2016.08', 'srcSite': 'SPRACE', 'src': '200.136.80.20', 'measurements': 11}\n",
      "{'dest': '109.105.125.232', 'destSite': 'FI_HIP_T2', '_type': 'packetloss', 'packetLossAvg': 0.09441666666666666, 'alarmTime': 1471281866457, '_index': 'alarms-2016.08', 'srcSite': 'SPRACE', 'src': '200.136.80.20', 'measurements': 8}\n",
      "{'dest': '159.93.229.151', 'destSite': 'JINR-T1', '_type': 'packetloss', 'packetLossAvg': 0.09644444444444444, 'alarmTime': 1471281866457, '_index': 'alarms-2016.08', 'srcSite': 'SPRACE', 'src': '200.136.80.20', 'measurements': 8}\n",
      "{'dest': '192.84.86.122', 'destSite': 'UnknownSite', '_type': 'packetloss', 'packetLossAvg': 0.10066666666666667, 'alarmTime': 1471281866457, '_index': 'alarms-2016.08', 'srcSite': 'SPRACE', 'src': '200.136.80.20', 'measurements': 8}\n",
      "{'dest': '193.146.75.138', 'destSite': 'IFCA-LCG2', '_type': 'packetloss', 'packetLossAvg': 0.098, 'alarmTime': 1471281866457, '_index': 'alarms-2016.08', 'srcSite': 'SPRACE', 'src': '200.136.80.20', 'measurements': 8}\n",
      "{'dest': '193.206.93.45', 'destSite': 'UnknownSite', '_type': 'packetloss', 'packetLossAvg': 0.09370833333333334, 'alarmTime': 1471281866457, '_index': 'alarms-2016.08', 'srcSite': 'SPRACE', 'src': '200.136.80.20', 'measurements': 8}\n",
      "{'dest': '134.158.132.200', 'destSite': 'GRIF', '_type': 'packetloss', 'packetLossAvg': 0.108, 'alarmTime': 1471281866457, '_index': 'alarms-2016.08', 'srcSite': 'SPRACE', 'src': '200.136.80.20', 'measurements': 7}\n",
      "{'dest': '169.228.130.40', 'destSite': 'UnknownSite', '_type': 'packetloss', 'packetLossAvg': 0.10647619047619049, 'alarmTime': 1471281866457, '_index': 'alarms-2016.08', 'srcSite': 'SPRACE', 'src': '200.136.80.20', 'measurements': 7}\n",
      "{'dest': '161.116.81.235', 'destSite': 'UnknownSite', '_type': 'packetloss', 'packetLossAvg': 1.0, 'alarmTime': 1471281866457, '_index': 'alarms-2016.08', 'srcSite': 'TECHNION-HEP', 'src': '192.114.101.125', 'measurements': 11}\n",
      "{'dest': '194.85.69.75', 'destSite': 'ITEP', '_type': 'packetloss', 'packetLossAvg': 0.05347078224729982, 'alarmTime': 1471281866457, '_index': 'alarms-2016.08', 'srcSite': 'TECHNION-HEP', 'src': '192.114.101.125', 'measurements': 10}\n",
      "{'dest': '147.213.204.112', 'destSite': 'IEPSAS-Kosice', '_type': 'packetloss', 'packetLossAvg': 0.09755555555555556, 'alarmTime': 1471281866457, '_index': 'alarms-2016.08', 'srcSite': 'RO-02-NIPNE', 'src': '81.180.86.38', 'measurements': 12}\n",
      "{'dest': '158.195.14.26', 'destSite': 'FMPhI-UNIBA', '_type': 'packetloss', 'packetLossAvg': 0.1126388888888889, 'alarmTime': 1471281866457, '_index': 'alarms-2016.08', 'srcSite': 'RO-02-NIPNE', 'src': '81.180.86.38', 'measurements': 8}\n",
      "{'dest': '161.116.81.235', 'destSite': 'UnknownSite', '_type': 'packetloss', 'packetLossAvg': 1.0, 'alarmTime': 1471281866457, '_index': 'alarms-2016.08', 'srcSite': 'UKI-SCOTGRID-DURHAM', 'src': '193.60.193.3', 'measurements': 8}\n",
      "{'dest': '194.85.69.75', 'destSite': 'ITEP', '_type': 'packetloss', 'packetLossAvg': 0.036996880864256274, 'alarmTime': 1471281866457, '_index': 'alarms-2016.08', 'srcSite': 'UKI-SCOTGRID-DURHAM', 'src': '193.60.193.3', 'measurements': 8}\n",
      "{'dest': '137.222.74.15', 'destSite': 'UKI-SOUTHGRID-BRIS-HEP', '_type': 'packetloss', 'packetLossAvg': 0.03642857142857143, 'alarmTime': 1471281866457, '_index': 'alarms-2016.08', 'srcSite': 'AGLT2', 'src': '192.41.230.59', 'measurements': 7}\n",
      "{'dest': '194.85.69.75', 'destSite': 'ITEP', '_type': 'packetloss', 'packetLossAvg': 0.05014091689885818, 'alarmTime': 1471281866457, '_index': 'alarms-2016.08', 'srcSite': 'FI_HIP_T2', 'src': '109.105.125.232', 'measurements': 11}\n",
      "{'dest': '200.136.80.20', 'destSite': 'SPRACE', '_type': 'packetloss', 'packetLossAvg': 0.07493333333333332, 'alarmTime': 1471281866457, '_index': 'alarms-2016.08', 'srcSite': 'FI_HIP_T2', 'src': '109.105.125.232', 'measurements': 10}\n",
      "{'dest': '141.108.35.18', 'destSite': 'INFN-ROMA1', '_type': 'packetloss', 'packetLossAvg': 0.9199999999999999, 'alarmTime': 1471281866457, '_index': 'alarms-2016.08', 'srcSite': 'FMPhI-UNIBA', 'src': '158.195.14.26', 'measurements': 5}\n",
      "{'dest': '194.85.69.75', 'destSite': 'ITEP', '_type': 'packetloss', 'packetLossAvg': 0.055403260099220406, 'alarmTime': 1471281866457, '_index': 'alarms-2016.08', 'srcSite': 'FMPhI-UNIBA', 'src': '158.195.14.26', 'measurements': 5}\n",
      "{'dest': '161.116.81.235', 'destSite': 'UnknownSite', '_type': 'packetloss', 'packetLossAvg': 1.0, 'alarmTime': 1471281866457, '_index': 'alarms-2016.08', 'srcSite': 'UnknownSite', 'src': '152.84.101.141', 'measurements': 11}\n",
      "{'dest': '194.85.69.75', 'destSite': 'ITEP', '_type': 'packetloss', 'packetLossAvg': 0.044559189547771653, 'alarmTime': 1471281866457, '_index': 'alarms-2016.08', 'srcSite': 'UnknownSite', 'src': '193.239.180.211', 'measurements': 11}\n",
      "{'dest': '200.136.80.20', 'destSite': 'SPRACE', '_type': 'packetloss', 'packetLossAvg': 0.06796212121212121, 'alarmTime': 1471281866457, '_index': 'alarms-2016.08', 'srcSite': 'UnknownSite', 'src': '193.239.180.211', 'measurements': 11}\n",
      "{'dest': '194.85.69.75', 'destSite': 'ITEP', '_type': 'packetloss', 'packetLossAvg': 0.05016209463926982, 'alarmTime': 1471281866457, '_index': 'alarms-2016.08', 'srcSite': 'UnknownSite', 'src': '169.228.130.40', 'measurements': 9}\n",
      "{'dest': '200.136.80.20', 'destSite': 'SPRACE', '_type': 'packetloss', 'packetLossAvg': 0.09317283950617285, 'alarmTime': 1471281866457, '_index': 'alarms-2016.08', 'srcSite': 'UnknownSite', 'src': '169.228.130.40', 'measurements': 9}\n",
      "{'dest': '194.85.69.75', 'destSite': 'ITEP', '_type': 'packetloss', 'packetLossAvg': 0.05194630926898878, 'alarmTime': 1471281866457, '_index': 'alarms-2016.08', 'srcSite': 'wuppertalprod', 'src': '132.195.125.213', 'measurements': 6}\n",
      "{'dest': '194.85.69.75', 'destSite': 'ITEP', '_type': 'packetloss', 'packetLossAvg': 0.04542480603688966, 'alarmTime': 1471281866457, '_index': 'alarms-2016.08', 'srcSite': 'Nebraska', 'src': '129.93.239.148', 'measurements': 7}\n",
      "{'dest': '200.136.80.20', 'destSite': 'SPRACE', '_type': 'packetloss', 'packetLossAvg': 0.10952380952380954, 'alarmTime': 1471281866458, '_index': 'alarms-2016.08', 'srcSite': 'Nebraska', 'src': '129.93.239.148', 'measurements': 7}\n",
      "{'dest': '144.16.111.26', 'destSite': 'INDIACMS-TIFR', '_type': 'packetloss', 'packetLossAvg': 0.09999999999999999, 'alarmTime': 1471281866458, '_index': 'alarms-2016.08', 'srcSite': 'JINR-T1', 'src': '159.93.229.151', 'measurements': 12}\n",
      "{'dest': '200.136.80.20', 'destSite': 'SPRACE', '_type': 'packetloss', 'packetLossAvg': 0.04610648148148148, 'alarmTime': 1471281866458, '_index': 'alarms-2016.08', 'srcSite': 'JINR-T1', 'src': '159.93.229.151', 'measurements': 12}\n",
      "{'dest': '194.85.69.75', 'destSite': 'ITEP', '_type': 'packetloss', 'packetLossAvg': 0.03979655091805509, 'alarmTime': 1471281866458, '_index': 'alarms-2016.08', 'srcSite': 'JINR-T1', 'src': '159.93.229.151', 'measurements': 8}\n",
      "{'dest': '161.116.81.235', 'destSite': 'UnknownSite', '_type': 'packetloss', 'packetLossAvg': 1.0, 'alarmTime': 1471281866458, '_index': 'alarms-2016.08', 'srcSite': 'IN2P3-LAPP', 'src': '134.158.103.10', 'measurements': 5}\n",
      "{'dest': '194.85.69.75', 'destSite': 'ITEP', '_type': 'packetloss', 'packetLossAvg': 0.13024366259679726, 'alarmTime': 1471281866458, '_index': 'alarms-2016.08', 'srcSite': 'Australia-ATLAS', 'src': '192.231.127.41', 'measurements': 12}\n",
      "{'dest': '161.116.81.235', 'destSite': 'UnknownSite', '_type': 'packetloss', 'packetLossAvg': 1.0, 'alarmTime': 1471281866458, '_index': 'alarms-2016.08', 'srcSite': 'UnknownSite', 'src': '193.144.80.12', 'measurements': 12}\n",
      "{'dest': '129.107.255.26', 'destSite': 'UnknownSite', '_type': 'packetloss', 'packetLossAvg': 0.5000441919191919, 'alarmTime': 1471281866458, '_index': 'alarms-2016.08', 'srcSite': 'UnknownSite', 'src': '192.41.236.35', 'measurements': 22}\n",
      "{'dest': '149.165.224.247', 'destSite': 'UnknownSite', '_type': 'packetloss', 'packetLossAvg': 0.4984090909090909, 'alarmTime': 1471281866458, '_index': 'alarms-2016.08', 'srcSite': 'UnknownSite', 'src': '192.41.236.35', 'measurements': 22}\n",
      "{'dest': '129.93.5.165', 'destSite': 'Nebraska', '_type': 'packetloss', 'packetLossAvg': 0.5034861111111111, 'alarmTime': 1471281866458, '_index': 'alarms-2016.08', 'srcSite': 'UnknownSite', 'src': '192.41.236.35', 'measurements': 20}\n",
      "{'dest': '129.15.40.229', 'destSite': 'OU_OCHEP_SWT2', '_type': 'packetloss', 'packetLossAvg': 0.5044809941520468, 'alarmTime': 1471281866458, '_index': 'alarms-2016.08', 'srcSite': 'UnknownSite', 'src': '192.41.236.35', 'measurements': 19}\n",
      "{'dest': '192.170.227.163', 'destSite': 'UnknownSite', '_type': 'packetloss', 'packetLossAvg': 0.5009795321637426, 'alarmTime': 1471281866458, '_index': 'alarms-2016.08', 'srcSite': 'UnknownSite', 'src': '192.41.236.35', 'measurements': 19}\n",
      "{'dest': '131.243.24.11', 'destSite': 'UnknownSite', '_type': 'packetloss', 'packetLossAvg': 0.49851111111111107, 'alarmTime': 1471281866458, '_index': 'alarms-2016.08', 'srcSite': 'UnknownSite', 'src': '192.41.236.35', 'measurements': 15}\n",
      "{'dest': '143.215.129.69', 'destSite': 'UnknownSite', '_type': 'packetloss', 'packetLossAvg': 0.5012878787878788, 'alarmTime': 1471281866458, '_index': 'alarms-2016.08', 'srcSite': 'UnknownSite', 'src': '192.41.236.35', 'measurements': 11}\n",
      "{'dest': '200.136.80.20', 'destSite': 'SPRACE', '_type': 'packetloss', 'packetLossAvg': 0.07144444444444445, 'alarmTime': 1471281866458, '_index': 'alarms-2016.08', 'srcSite': 'UnknownSite', 'src': '192.84.86.122', 'measurements': 9}\n",
      "{'dest': '200.136.80.20', 'destSite': 'SPRACE', '_type': 'packetloss', 'packetLossAvg': 0.11955833333333335, 'alarmTime': 1471281866458, '_index': 'alarms-2016.08', 'srcSite': 'BUDAPEST', 'src': '148.6.8.251', 'measurements': 10}\n",
      "{'dest': '161.116.81.235', 'destSite': 'UnknownSite', '_type': 'packetloss', 'packetLossAvg': 1.0, 'alarmTime': 1471281866458, '_index': 'alarms-2016.08', 'srcSite': 'UnknownSite', 'src': '18.12.1.171', 'measurements': 11}\n",
      "{'dest': '193.136.75.146', 'destSite': 'NCG-INGRID-PT', '_type': 'packetloss', 'packetLossAvg': 0.7772727272727273, 'alarmTime': 1471281866458, '_index': 'alarms-2016.08', 'srcSite': 'UnknownSite', 'src': '18.12.1.171', 'measurements': 11}\n",
      "{'dest': '200.136.80.20', 'destSite': 'SPRACE', '_type': 'packetloss', 'packetLossAvg': 0.06568686868686868, 'alarmTime': 1471281866458, '_index': 'alarms-2016.08', 'srcSite': 'UnknownSite', 'src': '18.12.1.171', 'measurements': 11}\n",
      "{'dest': '200.136.80.20', 'destSite': 'SPRACE', '_type': 'packetloss', 'packetLossAvg': 0.06088888888888889, 'alarmTime': 1471281866458, '_index': 'alarms-2016.08', 'srcSite': 'CERN-PROD', 'src': '128.142.223.247', 'measurements': 12}\n",
      "{'dest': '194.85.69.75', 'destSite': 'ITEP', '_type': 'packetloss', 'packetLossAvg': 0.05376047442392331, 'alarmTime': 1471281866458, '_index': 'alarms-2016.08', 'srcSite': 'CERN-PROD', 'src': '128.142.223.247', 'measurements': 11}\n",
      "{'dest': '200.136.80.20', 'destSite': 'SPRACE', '_type': 'packetloss', 'packetLossAvg': 0.0835185185185185, 'alarmTime': 1471281866458, '_index': 'alarms-2016.08', 'srcSite': 'GLOW', 'src': '144.92.180.75', 'measurements': 9}\n",
      "{'dest': '134.158.73.243', 'destSite': 'GRIF', '_type': 'packetloss', 'packetLossAvg': 0.023062499999999996, 'alarmTime': 1471281866458, '_index': 'alarms-2016.08', 'srcSite': 'UKI-SOUTHGRID-BRIS-HEP', 'src': '137.222.74.15', 'measurements': 20}\n",
      "{'dest': '117.103.105.191', 'destSite': 'Taiwan-LCG2', '_type': 'packetloss', 'packetLossAvg': 0.035263888888888886, 'alarmTime': 1471281866458, '_index': 'alarms-2016.08', 'srcSite': 'UKI-SOUTHGRID-BRIS-HEP', 'src': '137.222.74.15', 'measurements': 10}\n",
      "{'dest': '132.230.202.235', 'destSite': 'UNI-FREIBURG', '_type': 'packetloss', 'packetLossAvg': 0.029666666666666664, 'alarmTime': 1471281866458, '_index': 'alarms-2016.08', 'srcSite': 'UKI-SOUTHGRID-BRIS-HEP', 'src': '137.222.74.15', 'measurements': 10}\n",
      "{'dest': '134.61.24.193', 'destSite': 'UnknownSite', '_type': 'packetloss', 'packetLossAvg': 0.02103333333333333, 'alarmTime': 1471281866458, '_index': 'alarms-2016.08', 'srcSite': 'UKI-SOUTHGRID-BRIS-HEP', 'src': '137.222.74.15', 'measurements': 10}\n",
      "{'dest': '157.82.112.68', 'destSite': 'TOKYO-LCG2', '_type': 'packetloss', 'packetLossAvg': 0.02783333333333333, 'alarmTime': 1471281866458, '_index': 'alarms-2016.08', 'srcSite': 'UKI-SOUTHGRID-BRIS-HEP', 'src': '137.222.74.15', 'measurements': 10}\n",
      "{'dest': '161.116.81.235', 'destSite': 'UnknownSite', '_type': 'packetloss', 'packetLossAvg': 1.0, 'alarmTime': 1471281866458, '_index': 'alarms-2016.08', 'srcSite': 'UKI-SOUTHGRID-BRIS-HEP', 'src': '137.222.74.15', 'measurements': 10}\n",
      "{'dest': '18.12.1.171', 'destSite': 'UnknownSite', '_type': 'packetloss', 'packetLossAvg': 0.03747777777777778, 'alarmTime': 1471281866458, '_index': 'alarms-2016.08', 'srcSite': 'UKI-SOUTHGRID-BRIS-HEP', 'src': '137.222.74.15', 'measurements': 10}\n",
      "{'dest': '192.101.107.152', 'destSite': 'UnknownSite', '_type': 'packetloss', 'packetLossAvg': 0.021066666666666668, 'alarmTime': 1471281866458, '_index': 'alarms-2016.08', 'srcSite': 'UKI-SOUTHGRID-BRIS-HEP', 'src': '137.222.74.15', 'measurements': 10}\n",
      "{'dest': '192.12.15.26', 'destSite': 'BNL-ATLAS', '_type': 'packetloss', 'packetLossAvg': 0.023008333333333332, 'alarmTime': 1471281866458, '_index': 'alarms-2016.08', 'srcSite': 'UKI-SOUTHGRID-BRIS-HEP', 'src': '137.222.74.15', 'measurements': 10}\n",
      "{'dest': '192.41.236.31', 'destSite': 'AGLT2', '_type': 'packetloss', 'packetLossAvg': 0.02113611111111111, 'alarmTime': 1471281866458, '_index': 'alarms-2016.08', 'srcSite': 'UKI-SOUTHGRID-BRIS-HEP', 'src': '137.222.74.15', 'measurements': 10}\n",
      "{'dest': '193.136.75.146', 'destSite': 'NCG-INGRID-PT', '_type': 'packetloss', 'packetLossAvg': 0.8350666666666665, 'alarmTime': 1471281866458, '_index': 'alarms-2016.08', 'srcSite': 'UKI-SOUTHGRID-BRIS-HEP', 'src': '137.222.74.15', 'measurements': 10}\n",
      "{'dest': '90.147.67.252', 'destSite': 'INFN-NAPOLI-ATLAS', '_type': 'packetloss', 'packetLossAvg': 0.021383333333333334, 'alarmTime': 1471281866458, '_index': 'alarms-2016.08', 'srcSite': 'UKI-SOUTHGRID-BRIS-HEP', 'src': '137.222.74.15', 'measurements': 10}\n",
      "{'dest': '142.150.19.61', 'destSite': 'CA-SCINET-T2', '_type': 'packetloss', 'packetLossAvg': 0.02263888888888889, 'alarmTime': 1471281866458, '_index': 'alarms-2016.08', 'srcSite': 'UKI-SOUTHGRID-BRIS-HEP', 'src': '137.222.74.15', 'measurements': 9}\n",
      "{'dest': '131.169.98.30', 'destSite': 'DESY-HH', '_type': 'packetloss', 'packetLossAvg': 0.029095238095238094, 'alarmTime': 1471281866458, '_index': 'alarms-2016.08', 'srcSite': 'UKI-SOUTHGRID-BRIS-HEP', 'src': '137.222.74.15', 'measurements': 7}\n",
      "{'dest': '134.219.225.13', 'destSite': 'UKI-LT2-RHUL', '_type': 'packetloss', 'packetLossAvg': 0.0329047619047619, 'alarmTime': 1471281866458, '_index': 'alarms-2016.08', 'srcSite': 'UKI-SOUTHGRID-BRIS-HEP', 'src': '137.222.74.15', 'measurements': 7}\n",
      "{'dest': '192.101.161.186', 'destSite': 'UnknownSite', '_type': 'packetloss', 'packetLossAvg': 0.03152380952380952, 'alarmTime': 1471281866459, '_index': 'alarms-2016.08', 'srcSite': 'UKI-SOUTHGRID-BRIS-HEP', 'src': '137.222.74.15', 'measurements': 7}\n",
      "{'dest': '192.135.14.32', 'destSite': 'INFN-MILANO-ATLASC', '_type': 'packetloss', 'packetLossAvg': 0.030011904761904764, 'alarmTime': 1471281866459, '_index': 'alarms-2016.08', 'srcSite': 'UKI-SOUTHGRID-BRIS-HEP', 'src': '137.222.74.15', 'measurements': 7}\n",
      "{'dest': '192.41.230.59', 'destSite': 'AGLT2', '_type': 'packetloss', 'packetLossAvg': 0.033666666666666664, 'alarmTime': 1471281866459, '_index': 'alarms-2016.08', 'srcSite': 'UKI-SOUTHGRID-BRIS-HEP', 'src': '137.222.74.15', 'measurements': 7}\n",
      "{'dest': '193.206.93.45', 'destSite': 'UnknownSite', '_type': 'packetloss', 'packetLossAvg': 0.029333333333333333, 'alarmTime': 1471281866459, '_index': 'alarms-2016.08', 'srcSite': 'UKI-SOUTHGRID-BRIS-HEP', 'src': '137.222.74.15', 'measurements': 7}\n",
      "{'dest': '193.62.56.9', 'destSite': 'UKI-SOUTHGRID-BHAM-HEP', '_type': 'packetloss', 'packetLossAvg': 0.030500000000000003, 'alarmTime': 1471281866459, '_index': 'alarms-2016.08', 'srcSite': 'UKI-SOUTHGRID-BRIS-HEP', 'src': '137.222.74.15', 'measurements': 7}\n",
      "{'dest': '161.116.81.235', 'destSite': 'UnknownSite', '_type': 'packetloss', 'packetLossAvg': 1.0, 'alarmTime': 1471281866459, '_index': 'alarms-2016.08', 'srcSite': 'INFN-MILANO-ATLASC', 'src': '192.135.14.32', 'measurements': 11}\n",
      "{'dest': '193.136.75.146', 'destSite': 'NCG-INGRID-PT', '_type': 'packetloss', 'packetLossAvg': 0.7424242424242423, 'alarmTime': 1471281866459, '_index': 'alarms-2016.08', 'srcSite': 'INFN-MILANO-ATLASC', 'src': '192.135.14.32', 'measurements': 11}\n",
      "{'dest': '161.116.81.235', 'destSite': 'UnknownSite', '_type': 'packetloss', 'packetLossAvg': 1.0, 'alarmTime': 1471281866459, '_index': 'alarms-2016.08', 'srcSite': 'UnknownSite', 'src': '134.61.24.193', 'measurements': 11}\n",
      "{'dest': '193.136.75.146', 'destSite': 'NCG-INGRID-PT', '_type': 'packetloss', 'packetLossAvg': 0.8818181818181817, 'alarmTime': 1471281866459, '_index': 'alarms-2016.08', 'srcSite': 'UnknownSite', 'src': '134.61.24.193', 'measurements': 11}\n",
      "{'dest': '143.167.3.116', 'destSite': 'UKI-NORTHGRID-SHEF-HEP', '_type': 'packetloss', 'packetLossAvg': 1.0, 'alarmTime': 1471281866459, '_index': 'alarms-2016.08', 'srcSite': 'UKI-SOUTHGRID-BHAM-HEP', 'src': '193.62.56.9', 'measurements': 12}\n",
      "{'dest': '137.222.74.15', 'destSite': 'UKI-SOUTHGRID-BRIS-HEP', '_type': 'packetloss', 'packetLossAvg': 0.026157407407407407, 'alarmTime': 1471281866459, '_index': 'alarms-2016.08', 'srcSite': 'UKI-SOUTHGRID-BHAM-HEP', 'src': '193.62.56.9', 'measurements': 9}\n",
      "{'dest': '161.116.81.235', 'destSite': 'UnknownSite', '_type': 'packetloss', 'packetLossAvg': 1.0, 'alarmTime': 1471281866459, '_index': 'alarms-2016.08', 'srcSite': 'UKI-SOUTHGRID-BHAM-HEP', 'src': '193.62.56.9', 'measurements': 9}\n",
      "{'dest': '193.136.75.146', 'destSite': 'NCG-INGRID-PT', '_type': 'packetloss', 'packetLossAvg': 0.7351851851851853, 'alarmTime': 1471281866459, '_index': 'alarms-2016.08', 'srcSite': 'UKI-SOUTHGRID-BHAM-HEP', 'src': '193.62.56.9', 'measurements': 9}\n",
      "{'dest': '137.222.74.15', 'destSite': 'UKI-SOUTHGRID-BRIS-HEP', '_type': 'packetloss', 'packetLossAvg': 0.021037037037037035, 'alarmTime': 1471281866459, '_index': 'alarms-2016.08', 'srcSite': 'UNI-FREIBURG', 'src': '132.230.202.235', 'measurements': 9}\n",
      "{'dest': '161.116.81.235', 'destSite': 'UnknownSite', '_type': 'packetloss', 'packetLossAvg': 1.0, 'alarmTime': 1471281866459, '_index': 'alarms-2016.08', 'srcSite': 'UNI-FREIBURG', 'src': '132.230.202.235', 'measurements': 9}\n",
      "{'dest': '193.136.75.146', 'destSite': 'NCG-INGRID-PT', '_type': 'packetloss', 'packetLossAvg': 0.8222222222222222, 'alarmTime': 1471281866459, '_index': 'alarms-2016.08', 'srcSite': 'UNI-FREIBURG', 'src': '132.230.202.235', 'measurements': 9}\n",
      "{'dest': '129.93.5.165', 'destSite': 'Nebraska', '_type': 'packetloss', 'packetLossAvg': 0.020033333333333334, 'alarmTime': 1471281866459, '_index': 'alarms-2016.08', 'srcSite': 'UnknownSite', 'src': '143.215.129.69', 'measurements': 10}\n",
      "{'dest': '192.41.236.35', 'destSite': 'UnknownSite', '_type': 'packetloss', 'packetLossAvg': 0.02516666666666667, 'alarmTime': 1471281866459, '_index': 'alarms-2016.08', 'srcSite': 'UnknownSite', 'src': '143.215.129.69', 'measurements': 10}\n",
      "{'dest': '200.136.80.20', 'destSite': 'SPRACE', '_type': 'packetloss', 'packetLossAvg': 0.06942424242424243, 'alarmTime': 1471281866459, '_index': 'alarms-2016.08', 'srcSite': 'UnknownSite', 'src': '128.211.143.3', 'measurements': 11}\n",
      "{'dest': '137.222.74.15', 'destSite': 'UKI-SOUTHGRID-BRIS-HEP', '_type': 'packetloss', 'packetLossAvg': 0.03266666666666666, 'alarmTime': 1471281866459, '_index': 'alarms-2016.08', 'srcSite': 'INFN-NAPOLI-ATLAS', 'src': '90.147.67.252', 'measurements': 10}\n"
     ]
    }
   ],
   "source": [
    "src=res['aggregations']['src']['buckets']\n",
    "#print(src)\n",
    "\n",
    "for s in src:\n",
    "   #print(s)\n",
    "   source=s['key']\n",
    "   for d in s['dest']['buckets']:\n",
    "      destination=d['key']\n",
    "      avgpl=d['avgpl']['value']\n",
    "      docs=d['doc_count']\n",
    "#      print(source, destination, docs, avgpl)\n",
    "      if avgpl > 0.02 and docs > 4:\n",
    "         toAlertOn.append(generate_doc(source, destination, docs, avgpl))\n",
    "\n",
    "for alert in toAlertOn:\n",
    "   print(alert)"
   ]
  },
  {
   "cell_type": "markdown",
   "metadata": {},
   "source": [
    "### write alarms to Elasticsearch"
   ]
  },
  {
   "cell_type": "code",
   "execution_count": 10,
   "metadata": {
    "collapsed": false
   },
   "outputs": [
    {
     "name": "stdout",
     "output_type": "stream",
     "text": [
      "inserted: 205 \tErrors: []\n"
     ]
    }
   ],
   "source": [
    "try:\n",
    "   res = helpers.bulk(es, toAlertOn, raise_on_exception=True,request_timeout=60)\n",
    "   print(\"inserted:\",res[0], '\\tErrors:',res[1])\n",
    "except es_exceptions.ConnectionError as e:\n",
    "   print('ConnectionError ', e)\n",
    "except es_exceptions.TransportError as e:\n",
    "   print('TransportError ', e)\n",
    "except helpers.BulkIndexError as e:\n",
    "   print(e[0])\n",
    "   for i in e[1]:\n",
    "      print(i)\n",
    "except:\n",
    "   print('Something seriously wrong happened.')"
   ]
  },
  {
   "cell_type": "code",
   "execution_count": null,
   "metadata": {
    "collapsed": true
   },
   "outputs": [],
   "source": []
  }
 ],
 "metadata": {
  "kernelspec": {
   "display_name": "Python 3",
   "language": "python",
   "name": "python3"
  },
  "language_info": {
   "codemirror_mode": {
    "name": "ipython",
    "version": 3
   },
   "file_extension": ".py",
   "mimetype": "text/x-python",
   "name": "python",
   "nbconvert_exporter": "python",
   "pygments_lexer": "ipython3",
   "version": "3.5.1"
  }
 },
 "nbformat": 4,
 "nbformat_minor": 0
}
