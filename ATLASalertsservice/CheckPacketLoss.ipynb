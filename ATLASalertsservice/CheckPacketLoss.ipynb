{
 "cells": [
  {
   "cell_type": "markdown",
   "metadata": {},
   "source": [
    "# Check if the packet loss data is abnormal"
   ]
  },
  {
   "cell_type": "markdown",
   "metadata": {},
   "source": [
    "###This notebook finds out all the links which have at least five packet loss measurements in the past one hour and the average value of the packet loss measurements is greater than 2%. It is run by a cron job every hour, and it will write the detailed information of every alarm into Elastic Search with the _index: alarms-year.month and _type: packetloss."
   ]
  },
  {
   "cell_type": "markdown",
   "metadata": {},
   "source": [
    "### import all the packages needed for this task"
   ]
  },
  {
   "cell_type": "code",
   "execution_count": 1,
   "metadata": {
    "collapsed": true
   },
   "outputs": [],
   "source": [
    "from elasticsearch import Elasticsearch, exceptions as es_exceptions, helpers\n",
    "import sys\n",
    "import datetime"
   ]
  },
  {
   "cell_type": "markdown",
   "metadata": {},
   "source": [
    "### establish the Elastic Search connection"
   ]
  },
  {
   "cell_type": "code",
   "execution_count": 2,
   "metadata": {
    "collapsed": true
   },
   "outputs": [],
   "source": [
    "es = Elasticsearch(hosts=[{'host':'atlas-kibana.mwt2.org', 'port':9200}],timeout=60)"
   ]
  },
  {
   "cell_type": "markdown",
   "metadata": {},
   "source": [
    "### define functions to write an alarm record into ES with detailed info"
   ]
  },
  {
   "cell_type": "code",
   "execution_count": 3,
   "metadata": {
    "collapsed": false
   },
   "outputs": [],
   "source": [
    "ipSite={}  # for mapping IP to Site name\n",
    "toAlertOn=[]\n",
    "\n",
    "def generate_doc(src_site_ip, dest_site_ip, measurements, avgpl):\n",
    "   if src_site_ip not in ipSite:\n",
    "        print('serious source mapping issue')\n",
    "        return\n",
    "   if dest_site_ip not in ipSite:\n",
    "        print('serious destination mapping issue')\n",
    "        return\n",
    "\n",
    "   doc = {\n",
    "        '_index':get_index_name(),\n",
    "        '_type' : 'packetloss',\n",
    "        'src' : src_site_ip,\n",
    "        'dest' : dest_site_ip,\n",
    "        'srcSite' : ipSite[src_site_ip],\n",
    "        'destSite' : ipSite[dest_site_ip],\n",
    "        'alarmTime' : int(datetime.datetime.utcnow().strftime(\"%s\"))*1000,\n",
    "        'measurements' : measurements,\n",
    "        'packetLossAvg' : avgpl\n",
    "   }\n",
    "   return doc\n",
    "\n",
    "def get_index_name():\n",
    "    date = datetime.datetime.utcnow().strftime(\"%Y.%m\")   # date format is yyyy.mm\n",
    "    index_name = 'alarms-'+date\n",
    "    return index_name\n",
    "\n"
   ]
  },
  {
   "cell_type": "markdown",
   "metadata": {},
   "source": [
    "### list all network\\_weather* indices"
   ]
  },
  {
   "cell_type": "code",
   "execution_count": 4,
   "metadata": {
    "collapsed": true
   },
   "outputs": [],
   "source": [
    "indices = es.cat.indices(index=\"network_weather_2-*\", h=\"index\", request_timeout=600).split('\\n')\n",
    "indices = [x for x in indices if x != '']\n",
    "indices = [x.strip() for x in indices]\n",
    "#print(indices)"
   ]
  },
  {
   "cell_type": "markdown",
   "metadata": {},
   "source": [
    "### find indices to be used"
   ]
  },
  {
   "cell_type": "code",
   "execution_count": 5,
   "metadata": {
    "collapsed": false
   },
   "outputs": [
    {
     "name": "stdout",
     "output_type": "stream",
     "text": [
      "checking for indices: network_weather_2-2016.8.15 network_weather_2-2016.8.14\n",
      "will use indices: ['network_weather_2-2016.8.15']\n"
     ]
    }
   ],
   "source": [
    "\n",
    "cday  = datetime.datetime.utcnow()\n",
    "pday  = cday - datetime.timedelta(days=1)\n",
    "ind1 = 'network_weather_2-%d.%d.%d' % (cday.year, cday.month, cday.day)\n",
    "ind2 = 'network_weather_2-%d.%d.%d' % (pday.year, pday.month, pday.day)\n",
    "\n",
    "print ('checking for indices:', ind1, ind2)\n",
    "\n",
    "ind=[]\n",
    "if ind1 in indices :\n",
    "   ind.append(ind1)\n",
    "if ind2 in indices and cday.hour<3:\n",
    "   ind.append(ind2)\n",
    "\n",
    "if len(ind)==0:\n",
    "   print ('no current indices found. Aborting.')\n",
    "   sys.exit(1)\n",
    "else:\n",
    "   print('will use indices:', ind)"
   ]
  },
  {
   "cell_type": "markdown",
   "metadata": {},
   "source": [
    "### get aggregated data for the past one hour\n",
    "This query is composed of 3 parts: a) filter - takes only packet loss data, and production servers in last 1h. b) aggregation -  finds average packet loss per source and destination c) finds IP to site name mapping (both source and destination) "
   ]
  },
  {
   "cell_type": "code",
   "execution_count": 6,
   "metadata": {
    "collapsed": true
   },
   "outputs": [],
   "source": [
    "query={\n",
    "   \"size\": 0,\n",
    "   \"query\": {\n",
    "    \"bool\": {\n",
    "      \"must\": [\n",
    "        {\"term\": { \"_type\" : \"packet_loss_rate\"}},\n",
    "        {\"term\": { \"srcProduction\" : True }},\n",
    "        {\"term\": { \"destProduction\" : True }}\n",
    "      ],\n",
    "      \"filter\" : {\n",
    "        \"range\" : {\n",
    "          \"timestamp\" : {\n",
    "            \"gt\": \"now-1h\"\n",
    "          }\n",
    "        }\n",
    "      }\n",
    "    }\n",
    "   },\n",
    "    \"aggs\" : {\n",
    "      \"src\" : {\n",
    "        \"terms\" : { \"field\" : \"src\", \"size\": 1000 },\n",
    "        \"aggs\" : {\n",
    "          \"dest\" : {\n",
    "            \"terms\" : {\"field\" : \"dest\", \"size\": 1000},\n",
    "            \"aggs\" : {\n",
    "              \"avgpl\" : {\n",
    "                \"avg\" :{\n",
    "                  \"field\" : \"packet_loss\"\n",
    "              }\n",
    "            }\n",
    "          }\n",
    "        }\n",
    "      }\n",
    "    },\n",
    "    \"srcSites\" : {\n",
    "      \"terms\" : { \"field\" : \"src\", \"size\": 1000 },\n",
    "        \"aggs\" : {\n",
    "          \"srcsitename\" : {\n",
    "            \"terms\" : { \"field\" : \"srcSite\" }\n",
    "        }\n",
    "      }\n",
    "    },\n",
    "    \"destSites\" : {\n",
    "      \"terms\" : { \"field\" : \"dest\", \"size\": 1000 },\n",
    "        \"aggs\" : {\n",
    "          \"destsitename\" : {\n",
    "            \"terms\" : { \"field\" : \"destSite\" }\n",
    "        }\n",
    "      }\n",
    "    }\n",
    "  }\n",
    "}"
   ]
  },
  {
   "cell_type": "markdown",
   "metadata": {},
   "source": [
    "### execute query"
   ]
  },
  {
   "cell_type": "code",
   "execution_count": 7,
   "metadata": {
    "collapsed": true
   },
   "outputs": [],
   "source": [
    "res = es.search(index=ind, body=query, request_timeout=120)\n",
    "#print(res)"
   ]
  },
  {
   "cell_type": "markdown",
   "metadata": {},
   "source": [
    "### proces IP to site name mapping data"
   ]
  },
  {
   "cell_type": "code",
   "execution_count": 8,
   "metadata": {
    "collapsed": false
   },
   "outputs": [
    {
     "name": "stdout",
     "output_type": "stream",
     "text": [
      "{'134.158.73.243': 'GRIF', '134.79.118.72': 'WT2', '193.109.172.188': 'pic', '134.158.103.10': 'IN2P3-LAPP', '192.135.14.32': 'INFN-MILANO-ATLASC', '194.36.11.38': 'UKI-LT2-QMUL', '193.170.243.215': 'Hephy-Vienna', '64.57.30.143': 'UnknownSite', '134.158.123.183': 'IN2P3-LPC', '147.231.25.192': 'praguelcg2', '144.92.180.75': 'GLOW', '134.219.225.13': 'UKI-LT2-RHUL', '128.227.221.44': 'UFlorida-HPC', '159.93.229.151': 'JINR-T1', '131.154.254.12': 'INFN-T1', '145.100.17.8': 'SARA-MATRIX', '90.147.66.50': 'UnknownSite', '144.16.111.26': 'INDIACMS-TIFR', '192.84.86.122': 'UnknownSite', '165.91.55.4': 'UnknownSite', '149.165.225.223': 'MWT2', '147.156.116.40': 'IFIC-LCG2', '141.34.200.28': 'DESY-ZN', '192.12.15.111': 'BNL-ATLAS', '192.170.227.163': 'UnknownSite', '193.48.83.165': 'IN2P3-LPSC', '193.146.75.138': 'IFCA-LCG2', '143.215.129.69': 'UnknownSite', '192.101.107.152': 'UnknownSite', '129.107.255.26': 'UnknownSite', '147.213.204.112': 'IEPSAS-Kosice', '131.169.98.30': 'DESY-HH', '147.213.204.117': 'IEPSAS-Kosice', '194.190.165.192': 'RU-Protvino-IHEP', '157.82.112.68': 'TOKYO-LCG2', '132.206.245.252': 'CA-MCGILL-CLUMEQ-T2', '62.40.126.129': 'UnknownSite', '158.195.14.26': 'FMPhI-UNIBA', '192.231.127.41': 'Australia-ATLAS', '192.41.236.31': 'AGLT2', '192.170.227.160': 'MWT2', '81.180.86.64': 'RO-07-NIPNE', '129.93.239.148': 'Nebraska', '192.111.108.112': 'Vanderbilt', '131.225.205.12': 'UnknownSite', '18.12.1.171': 'UnknownSite', '192.41.236.35': 'UnknownSite', '90.147.67.252': 'INFN-NAPOLI-ATLAS', '159.93.226.102': 'JINR-LCG2', '193.144.80.12': 'UnknownSite', '148.187.64.25': 'CSCS-LCG2', '212.191.227.174': 'CYFRONET-LCG2', '117.103.105.191': 'Taiwan-LCG2', '206.12.154.60': 'CA-VICTORIA-WESTGRID-T2', '192.114.101.125': 'TECHNION-HEP', '164.58.29.121': 'LUCILLE', '202.13.207.242': 'UnknownSite', '64.57.30.149': 'UnknownSite', '200.136.80.20': 'SPRACE', '148.6.8.251': 'BUDAPEST', '129.93.5.165': 'Nebraska', '144.206.237.142': 'RRC-KI', '134.158.132.200': 'GRIF', '150.244.247.2': 'UAM-LCG2', '152.84.101.141': 'UnknownSite', '129.15.40.231': 'OU_OCHEP_SWT2', '109.105.125.232': 'FI_HIP_T2', '142.150.19.61': 'CA-SCINET-T2', '131.111.66.196': 'UKI-SOUTHGRID-CAM-HEP', '195.194.105.178': 'UKI-NORTHGRID-MAN-HEP', '198.124.80.201': 'UnknownSite', '192.108.47.12': 'FZK-LCG2', '206.12.9.2': 'TRIUMF-LCG2', '134.158.159.85': 'GRIF', '72.36.96.4': 'MWT2', '146.83.90.7': 'EELA-UTFSM', '194.85.69.75': 'ITEP', '143.167.3.116': 'UKI-NORTHGRID-SHEF-HEP', '129.15.40.229': 'OU_OCHEP_SWT2', '193.205.76.76': 'UnknownSite', '137.222.74.15': 'UKI-SOUTHGRID-BRIS-HEP', '169.228.130.40': 'UnknownSite', '192.41.230.61': 'UnknownSite', '192.41.230.59': 'AGLT2', '193.206.93.45': 'UnknownSite', '85.122.31.74': 'RO-16-UAIC', '141.108.35.18': 'INFN-ROMA1', '130.246.47.129': 'UKI-SOUTHGRID-RALPP', '81.180.86.38': 'RO-02-NIPNE', '193.60.193.3': 'UKI-SCOTGRID-DURHAM', '193.136.75.146': 'NCG-INGRID-PT', '109.105.124.86': 'NDGF-T1', '206.12.24.251': 'SFU-LCG2', '192.54.207.250': 'GRIF', '202.122.32.170': 'BEIJING-LCG2', '194.80.35.169': 'UKI-NORTHGRID-LANCS-HEP', '192.101.161.186': 'UnknownSite', '134.75.125.241': 'UnknownSite', '129.107.255.29': 'UTA_SWT2', '138.253.60.82': 'UKI-NORTHGRID-LIV-HEP', '198.124.80.193': 'UnknownSite', '132.230.202.235': 'UNI-FREIBURG', '149.165.224.247': 'UnknownSite', '72.36.96.15': 'MWT2', '192.12.15.26': 'BNL-ATLAS', '128.211.143.3': 'UnknownSite', '192.5.207.251': 'BU_ATLAS_Tier2', '132.195.125.213': 'wuppertalprod', '193.48.99.76': 'IN2P3-CC', '193.239.180.211': 'UnknownSite', '193.62.56.9': 'UKI-SOUTHGRID-BHAM-HEP', '134.158.20.192': 'IN2P3-CPPM', '161.116.81.235': 'UnknownSite', '128.142.223.247': 'CERN-PROD', '134.61.24.193': 'UnknownSite', '129.215.213.70': 'UKI-SCOTGRID-ECDF', '130.246.176.109': 'RAL-LCG2', '163.1.5.210': 'UKI-SOUTHGRID-OX-HEP', '131.243.24.11': 'UnknownSite'}\n"
     ]
    }
   ],
   "source": [
    "srcsites=res['aggregations']['srcSites']['buckets']\n",
    "#print(srcsites)\n",
    "for sS in srcsites:\n",
    "   #print(sS)\n",
    "   siteName=sS['srcsitename']['buckets']\n",
    "   if len(siteName)==0:\n",
    "      siteName='UnknownSite'\n",
    "   else:\n",
    "      siteName=siteName[0]['key']\n",
    "   ipSite[sS['key']]=siteName\n",
    "\n",
    "destsites=res['aggregations']['destSites']['buckets']\n",
    "#print(destsites)\n",
    "for dS in destsites:\n",
    "   #print(dS)\n",
    "   siteName=dS['destsitename']['buckets']\n",
    "   if len(siteName)==0:\n",
    "      siteName='UnknownSite'\n",
    "   else:\n",
    "      siteName=siteName[0]['key']\n",
    "   ipSite[dS['key']]=siteName\n",
    "\n",
    "print(ipSite)\n"
   ]
  },
  {
   "cell_type": "markdown",
   "metadata": {},
   "source": [
    "### process packet loss averages"
   ]
  },
  {
   "cell_type": "code",
   "execution_count": 10,
   "metadata": {
    "collapsed": false
   },
   "outputs": [
    {
     "name": "stdout",
     "output_type": "stream",
     "text": [
      "{'_type': 'packetloss', 'src': '134.158.73.243', 'srcSite': 'GRIF', 'alarmTime': 1471291658000, 'destSite': 'UnknownSite', 'dest': '161.116.81.235', '_index': 'alarms-2016.08', 'measurements': 22, 'packetLossAvg': 1.0}\n",
      "{'_type': 'packetloss', 'src': '134.158.73.243', 'srcSite': 'GRIF', 'alarmTime': 1471291658000, 'destSite': 'NCG-INGRID-PT', 'dest': '193.136.75.146', '_index': 'alarms-2016.08', 'measurements': 8, 'packetLossAvg': 0.7749999999999999}\n",
      "{'_type': 'packetloss', 'src': '134.158.73.243', 'srcSite': 'GRIF', 'alarmTime': 1471291658000, 'destSite': 'ITEP', 'dest': '194.85.69.75', '_index': 'alarms-2016.08', 'measurements': 8, 'packetLossAvg': 0.08237570032545172}\n",
      "{'_type': 'packetloss', 'src': '134.158.73.243', 'srcSite': 'GRIF', 'alarmTime': 1471291658000, 'destSite': 'SPRACE', 'dest': '200.136.80.20', '_index': 'alarms-2016.08', 'measurements': 8, 'packetLossAvg': 0.02975}\n",
      "{'_type': 'packetloss', 'src': '194.190.165.192', 'srcSite': 'RU-Protvino-IHEP', 'alarmTime': 1471291658000, 'destSite': 'SPRACE', 'dest': '200.136.80.20', '_index': 'alarms-2016.08', 'measurements': 18, 'packetLossAvg': 0.03885185185185185}\n",
      "{'_type': 'packetloss', 'src': '194.190.165.192', 'srcSite': 'RU-Protvino-IHEP', 'alarmTime': 1471291658000, 'destSite': 'INDIACMS-TIFR', 'dest': '144.16.111.26', '_index': 'alarms-2016.08', 'measurements': 9, 'packetLossAvg': 0.17222222222222222}\n",
      "{'_type': 'packetloss', 'src': '194.190.165.192', 'srcSite': 'RU-Protvino-IHEP', 'alarmTime': 1471291658000, 'destSite': 'ITEP', 'dest': '194.85.69.75', '_index': 'alarms-2016.08', 'measurements': 7, 'packetLossAvg': 0.10223434339649164}\n",
      "{'_type': 'packetloss', 'src': '194.190.165.192', 'srcSite': 'RU-Protvino-IHEP', 'alarmTime': 1471291658000, 'destSite': 'UnknownSite', 'dest': '161.116.81.235', '_index': 'alarms-2016.08', 'measurements': 5, 'packetLossAvg': 1.0}\n",
      "{'_type': 'packetloss', 'src': '128.142.223.247', 'srcSite': 'CERN-PROD', 'alarmTime': 1471291658000, 'destSite': 'UnknownSite', 'dest': '18.12.1.171', '_index': 'alarms-2016.08', 'measurements': 11, 'packetLossAvg': 0.030254545454545454}\n",
      "{'_type': 'packetloss', 'src': '128.142.223.247', 'srcSite': 'CERN-PROD', 'alarmTime': 1471291658000, 'destSite': 'UnknownSite', 'dest': '161.116.81.235', '_index': 'alarms-2016.08', 'measurements': 9, 'packetLossAvg': 1.0}\n",
      "{'_type': 'packetloss', 'src': '128.142.223.247', 'srcSite': 'CERN-PROD', 'alarmTime': 1471291658000, 'destSite': 'ITEP', 'dest': '194.85.69.75', '_index': 'alarms-2016.08', 'measurements': 9, 'packetLossAvg': 0.08673957961830865}\n",
      "{'_type': 'packetloss', 'src': '128.142.223.247', 'srcSite': 'CERN-PROD', 'alarmTime': 1471291658000, 'destSite': 'SPRACE', 'dest': '200.136.80.20', '_index': 'alarms-2016.08', 'measurements': 9, 'packetLossAvg': 0.03850617283950617}\n",
      "{'_type': 'packetloss', 'src': '131.154.254.12', 'srcSite': 'INFN-T1', 'alarmTime': 1471291658000, 'destSite': 'UnknownSite', 'dest': '161.116.81.235', '_index': 'alarms-2016.08', 'measurements': 10, 'packetLossAvg': 1.0}\n",
      "{'_type': 'packetloss', 'src': '131.154.254.12', 'srcSite': 'INFN-T1', 'alarmTime': 1471291658000, 'destSite': 'ITEP', 'dest': '194.85.69.75', '_index': 'alarms-2016.08', 'measurements': 10, 'packetLossAvg': 0.09403752908583697}\n",
      "{'_type': 'packetloss', 'src': '131.154.254.12', 'srcSite': 'INFN-T1', 'alarmTime': 1471291658000, 'destSite': 'SPRACE', 'dest': '200.136.80.20', '_index': 'alarms-2016.08', 'measurements': 6, 'packetLossAvg': 0.06638888888888889}\n",
      "{'_type': 'packetloss', 'src': '192.108.47.12', 'srcSite': 'FZK-LCG2', 'alarmTime': 1471291658000, 'destSite': 'ITEP', 'dest': '194.85.69.75', '_index': 'alarms-2016.08', 'measurements': 9, 'packetLossAvg': 0.07138749062468576}\n",
      "{'_type': 'packetloss', 'src': '192.108.47.12', 'srcSite': 'FZK-LCG2', 'alarmTime': 1471291658000, 'destSite': 'SPRACE', 'dest': '200.136.80.20', '_index': 'alarms-2016.08', 'measurements': 8, 'packetLossAvg': 0.058625}\n",
      "{'_type': 'packetloss', 'src': '192.108.47.12', 'srcSite': 'FZK-LCG2', 'alarmTime': 1471291658000, 'destSite': 'UnknownSite', 'dest': '161.116.81.235', '_index': 'alarms-2016.08', 'measurements': 7, 'packetLossAvg': 1.0}\n",
      "{'_type': 'packetloss', 'src': '193.48.99.76', 'srcSite': 'IN2P3-CC', 'alarmTime': 1471291658000, 'destSite': 'ITEP', 'dest': '194.85.69.75', '_index': 'alarms-2016.08', 'measurements': 11, 'packetLossAvg': 0.10338988123953646}\n",
      "{'_type': 'packetloss', 'src': '193.48.99.76', 'srcSite': 'IN2P3-CC', 'alarmTime': 1471291658000, 'destSite': 'UnknownSite', 'dest': '161.116.81.235', '_index': 'alarms-2016.08', 'measurements': 10, 'packetLossAvg': 1.0}\n",
      "{'_type': 'packetloss', 'src': '193.48.99.76', 'srcSite': 'IN2P3-CC', 'alarmTime': 1471291658000, 'destSite': 'SPRACE', 'dest': '200.136.80.20', '_index': 'alarms-2016.08', 'measurements': 10, 'packetLossAvg': 0.058166666666666665}\n",
      "{'_type': 'packetloss', 'src': '130.246.176.109', 'srcSite': 'RAL-LCG2', 'alarmTime': 1471291658000, 'destSite': 'UnknownSite', 'dest': '161.116.81.235', '_index': 'alarms-2016.08', 'measurements': 11, 'packetLossAvg': 1.0}\n",
      "{'_type': 'packetloss', 'src': '130.246.176.109', 'srcSite': 'RAL-LCG2', 'alarmTime': 1471291658000, 'destSite': 'INFN-ROMA1', 'dest': '141.108.35.18', '_index': 'alarms-2016.08', 'measurements': 9, 'packetLossAvg': 0.8666666666666667}\n",
      "{'_type': 'packetloss', 'src': '130.246.176.109', 'srcSite': 'RAL-LCG2', 'alarmTime': 1471291658000, 'destSite': 'SPRACE', 'dest': '200.136.80.20', '_index': 'alarms-2016.08', 'measurements': 9, 'packetLossAvg': 0.026444444444444448}\n",
      "{'_type': 'packetloss', 'src': '81.180.86.64', 'srcSite': 'RO-07-NIPNE', 'alarmTime': 1471291658000, 'destSite': 'FMPhI-UNIBA', 'dest': '158.195.14.26', '_index': 'alarms-2016.08', 'measurements': 10, 'packetLossAvg': 0.10395833333333333}\n",
      "{'_type': 'packetloss', 'src': '81.180.86.64', 'srcSite': 'RO-07-NIPNE', 'alarmTime': 1471291658000, 'destSite': 'UnknownSite', 'dest': '161.116.81.235', '_index': 'alarms-2016.08', 'measurements': 10, 'packetLossAvg': 1.0}\n",
      "{'_type': 'packetloss', 'src': '81.180.86.64', 'srcSite': 'RO-07-NIPNE', 'alarmTime': 1471291658000, 'destSite': 'IEPSAS-Kosice', 'dest': '147.213.204.112', '_index': 'alarms-2016.08', 'measurements': 9, 'packetLossAvg': 0.1057962962962963}\n",
      "{'_type': 'packetloss', 'src': '81.180.86.64', 'srcSite': 'RO-07-NIPNE', 'alarmTime': 1471291658000, 'destSite': 'SPRACE', 'dest': '200.136.80.20', '_index': 'alarms-2016.08', 'measurements': 8, 'packetLossAvg': 0.04441666666666667}\n",
      "{'_type': 'packetloss', 'src': '134.158.132.200', 'srcSite': 'GRIF', 'alarmTime': 1471291658000, 'destSite': 'ITEP', 'dest': '194.85.69.75', '_index': 'alarms-2016.08', 'measurements': 11, 'packetLossAvg': 0.06835880123122405}\n",
      "{'_type': 'packetloss', 'src': '134.158.132.200', 'srcSite': 'GRIF', 'alarmTime': 1471291658000, 'destSite': 'SPRACE', 'dest': '200.136.80.20', '_index': 'alarms-2016.08', 'measurements': 7, 'packetLossAvg': 0.034523809523809526}\n",
      "{'_type': 'packetloss', 'src': '134.158.132.200', 'srcSite': 'GRIF', 'alarmTime': 1471291658000, 'destSite': 'UnknownSite', 'dest': '161.116.81.235', '_index': 'alarms-2016.08', 'measurements': 6, 'packetLossAvg': 1.0}\n",
      "{'_type': 'packetloss', 'src': '134.158.159.85', 'srcSite': 'GRIF', 'alarmTime': 1471291658000, 'destSite': 'UnknownSite', 'dest': '161.116.81.235', '_index': 'alarms-2016.08', 'measurements': 11, 'packetLossAvg': 1.0}\n",
      "{'_type': 'packetloss', 'src': '134.158.159.85', 'srcSite': 'GRIF', 'alarmTime': 1471291658000, 'destSite': 'SPRACE', 'dest': '200.136.80.20', '_index': 'alarms-2016.08', 'measurements': 10, 'packetLossAvg': 0.06504444444444445}\n",
      "{'_type': 'packetloss', 'src': '129.107.255.29', 'srcSite': 'UTA_SWT2', 'alarmTime': 1471291658000, 'destSite': 'INFN-ROMA1', 'dest': '141.108.35.18', '_index': 'alarms-2016.08', 'measurements': 10, 'packetLossAvg': 0.9550000000000001}\n",
      "{'_type': 'packetloss', 'src': '129.107.255.29', 'srcSite': 'UTA_SWT2', 'alarmTime': 1471291658000, 'destSite': 'ITEP', 'dest': '194.85.69.75', '_index': 'alarms-2016.08', 'measurements': 10, 'packetLossAvg': 0.08103785801332633}\n",
      "{'_type': 'packetloss', 'src': '202.122.32.170', 'srcSite': 'BEIJING-LCG2', 'alarmTime': 1471291658000, 'destSite': 'UFlorida-HPC', 'dest': '128.227.221.44', '_index': 'alarms-2016.08', 'measurements': 13, 'packetLossAvg': 0.03297435897435898}\n",
      "{'_type': 'packetloss', 'src': '202.122.32.170', 'srcSite': 'BEIJING-LCG2', 'alarmTime': 1471291658000, 'destSite': 'SPRACE', 'dest': '200.136.80.20', '_index': 'alarms-2016.08', 'measurements': 13, 'packetLossAvg': 0.0810619658119658}\n",
      "{'_type': 'packetloss', 'src': '202.122.32.170', 'srcSite': 'BEIJING-LCG2', 'alarmTime': 1471291658000, 'destSite': 'CA-MCGILL-CLUMEQ-T2', 'dest': '132.206.245.252', '_index': 'alarms-2016.08', 'measurements': 9, 'packetLossAvg': 0.023407407407407408}\n",
      "{'_type': 'packetloss', 'src': '202.122.32.170', 'srcSite': 'BEIJING-LCG2', 'alarmTime': 1471291658000, 'destSite': 'CA-SCINET-T2', 'dest': '142.150.19.61', '_index': 'alarms-2016.08', 'measurements': 9, 'packetLossAvg': 0.023666666666666666}\n",
      "{'_type': 'packetloss', 'src': '202.122.32.170', 'srcSite': 'BEIJING-LCG2', 'alarmTime': 1471291658000, 'destSite': 'Vanderbilt', 'dest': '192.111.108.112', '_index': 'alarms-2016.08', 'measurements': 9, 'packetLossAvg': 0.02474074074074074}\n",
      "{'_type': 'packetloss', 'src': '202.122.32.170', 'srcSite': 'BEIJING-LCG2', 'alarmTime': 1471291658000, 'destSite': 'BU_ATLAS_Tier2', 'dest': '192.5.207.251', '_index': 'alarms-2016.08', 'measurements': 9, 'packetLossAvg': 0.024037037037037037}\n",
      "{'_type': 'packetloss', 'src': '202.122.32.170', 'srcSite': 'BEIJING-LCG2', 'alarmTime': 1471291658000, 'destSite': 'UnknownSite', 'dest': '193.206.93.45', '_index': 'alarms-2016.08', 'measurements': 9, 'packetLossAvg': 0.02248148148148148}\n",
      "{'_type': 'packetloss', 'src': '202.122.32.170', 'srcSite': 'BEIJING-LCG2', 'alarmTime': 1471291658000, 'destSite': 'RU-Protvino-IHEP', 'dest': '194.190.165.192', '_index': 'alarms-2016.08', 'measurements': 9, 'packetLossAvg': 0.025157407407407406}\n",
      "{'_type': 'packetloss', 'src': '202.122.32.170', 'srcSite': 'BEIJING-LCG2', 'alarmTime': 1471291658000, 'destSite': 'CA-VICTORIA-WESTGRID-T2', 'dest': '206.12.154.60', '_index': 'alarms-2016.08', 'measurements': 9, 'packetLossAvg': 0.023037037037037036}\n",
      "{'_type': 'packetloss', 'src': '202.122.32.170', 'srcSite': 'BEIJING-LCG2', 'alarmTime': 1471291658000, 'destSite': 'OU_OCHEP_SWT2', 'dest': '129.15.40.231', '_index': 'alarms-2016.08', 'measurements': 8, 'packetLossAvg': 0.028833333333333332}\n",
      "{'_type': 'packetloss', 'src': '202.122.32.170', 'srcSite': 'BEIJING-LCG2', 'alarmTime': 1471291658000, 'destSite': 'Nebraska', 'dest': '129.93.239.148', '_index': 'alarms-2016.08', 'measurements': 8, 'packetLossAvg': 0.027458333333333335}\n",
      "{'_type': 'packetloss', 'src': '202.122.32.170', 'srcSite': 'BEIJING-LCG2', 'alarmTime': 1471291658000, 'destSite': 'UnknownSite', 'dest': '131.225.205.12', '_index': 'alarms-2016.08', 'measurements': 8, 'packetLossAvg': 0.02675}\n",
      "{'_type': 'packetloss', 'src': '202.122.32.170', 'srcSite': 'BEIJING-LCG2', 'alarmTime': 1471291658000, 'destSite': 'EELA-UTFSM', 'dest': '146.83.90.7', '_index': 'alarms-2016.08', 'measurements': 8, 'packetLossAvg': 0.029083333333333333}\n",
      "{'_type': 'packetloss', 'src': '202.122.32.170', 'srcSite': 'BEIJING-LCG2', 'alarmTime': 1471291658000, 'destSite': 'JINR-LCG2', 'dest': '159.93.226.102', '_index': 'alarms-2016.08', 'measurements': 8, 'packetLossAvg': 0.026458333333333334}\n",
      "{'_type': 'packetloss', 'src': '202.122.32.170', 'srcSite': 'BEIJING-LCG2', 'alarmTime': 1471291658000, 'destSite': 'JINR-T1', 'dest': '159.93.229.151', '_index': 'alarms-2016.08', 'measurements': 8, 'packetLossAvg': 0.027166666666666665}\n",
      "{'_type': 'packetloss', 'src': '202.122.32.170', 'srcSite': 'BEIJING-LCG2', 'alarmTime': 1471291658000, 'destSite': 'UnknownSite', 'dest': '192.84.86.122', '_index': 'alarms-2016.08', 'measurements': 8, 'packetLossAvg': 0.027260416666666665}\n",
      "{'_type': 'packetloss', 'src': '202.122.32.170', 'srcSite': 'BEIJING-LCG2', 'alarmTime': 1471291658000, 'destSite': 'UTA_SWT2', 'dest': '129.107.255.29', '_index': 'alarms-2016.08', 'measurements': 7, 'packetLossAvg': 0.027047619047619046}\n",
      "{'_type': 'packetloss', 'src': '202.122.32.170', 'srcSite': 'BEIJING-LCG2', 'alarmTime': 1471291658000, 'destSite': 'INFN-ROMA1', 'dest': '141.108.35.18', '_index': 'alarms-2016.08', 'measurements': 7, 'packetLossAvg': 0.9714285714285714}\n",
      "{'_type': 'packetloss', 'src': '202.122.32.170', 'srcSite': 'BEIJING-LCG2', 'alarmTime': 1471291658000, 'destSite': 'GLOW', 'dest': '144.92.180.75', '_index': 'alarms-2016.08', 'measurements': 7, 'packetLossAvg': 0.029952380952380953}\n",
      "{'_type': 'packetloss', 'src': '202.122.32.170', 'srcSite': 'BEIJING-LCG2', 'alarmTime': 1471291658000, 'destSite': 'MWT2', 'dest': '192.170.227.160', '_index': 'alarms-2016.08', 'measurements': 7, 'packetLossAvg': 0.02653968253968254}\n",
      "{'_type': 'packetloss', 'src': '202.122.32.170', 'srcSite': 'BEIJING-LCG2', 'alarmTime': 1471291658000, 'destSite': 'AGLT2', 'dest': '192.41.236.31', '_index': 'alarms-2016.08', 'measurements': 7, 'packetLossAvg': 0.028654761904761905}\n",
      "{'_type': 'packetloss', 'src': '202.122.32.170', 'srcSite': 'BEIJING-LCG2', 'alarmTime': 1471291658000, 'destSite': 'ITEP', 'dest': '194.85.69.75', '_index': 'alarms-2016.08', 'measurements': 7, 'packetLossAvg': 0.13819709489649548}\n",
      "{'_type': 'packetloss', 'src': '202.122.32.170', 'srcSite': 'BEIJING-LCG2', 'alarmTime': 1471291658000, 'destSite': 'MWT2', 'dest': '149.165.225.223', '_index': 'alarms-2016.08', 'measurements': 6, 'packetLossAvg': 0.03888888888888889}\n",
      "{'_type': 'packetloss', 'src': '202.122.32.170', 'srcSite': 'BEIJING-LCG2', 'alarmTime': 1471291658000, 'destSite': 'BNL-ATLAS', 'dest': '192.12.15.26', '_index': 'alarms-2016.08', 'measurements': 6, 'packetLossAvg': 0.03127777777777778}\n",
      "{'_type': 'packetloss', 'src': '202.122.32.170', 'srcSite': 'BEIJING-LCG2', 'alarmTime': 1471291658000, 'destSite': 'TRIUMF-LCG2', 'dest': '206.12.9.2', '_index': 'alarms-2016.08', 'measurements': 6, 'packetLossAvg': 0.03180555555555556}\n",
      "{'_type': 'packetloss', 'src': '202.122.32.170', 'srcSite': 'BEIJING-LCG2', 'alarmTime': 1471291658000, 'destSite': 'MWT2', 'dest': '72.36.96.4', '_index': 'alarms-2016.08', 'measurements': 6, 'packetLossAvg': 0.035944444444444446}\n",
      "{'_type': 'packetloss', 'src': '202.122.32.170', 'srcSite': 'BEIJING-LCG2', 'alarmTime': 1471291658000, 'destSite': 'WT2', 'dest': '134.79.118.72', '_index': 'alarms-2016.08', 'measurements': 5, 'packetLossAvg': 0.052116666666666665}\n",
      "{'_type': 'packetloss', 'src': '202.122.32.170', 'srcSite': 'BEIJING-LCG2', 'alarmTime': 1471291658000, 'destSite': 'INDIACMS-TIFR', 'dest': '144.16.111.26', '_index': 'alarms-2016.08', 'measurements': 5, 'packetLossAvg': 0.04553333333333333}\n",
      "{'_type': 'packetloss', 'src': '202.122.32.170', 'srcSite': 'BEIJING-LCG2', 'alarmTime': 1471291658000, 'destSite': 'AGLT2', 'dest': '192.41.230.59', '_index': 'alarms-2016.08', 'measurements': 5, 'packetLossAvg': 0.03986666666666667}\n",
      "{'_type': 'packetloss', 'src': '202.122.32.170', 'srcSite': 'BEIJING-LCG2', 'alarmTime': 1471291658000, 'destSite': 'SFU-LCG2', 'dest': '206.12.24.251', '_index': 'alarms-2016.08', 'measurements': 5, 'packetLossAvg': 0.0418}\n",
      "{'_type': 'packetloss', 'src': '142.150.19.61', 'srcSite': 'CA-SCINET-T2', 'alarmTime': 1471291658000, 'destSite': 'ITEP', 'dest': '194.85.69.75', '_index': 'alarms-2016.08', 'measurements': 10, 'packetLossAvg': 0.09593408403346367}\n",
      "{'_type': 'packetloss', 'src': '192.5.207.251', 'srcSite': 'BU_ATLAS_Tier2', 'alarmTime': 1471291658000, 'destSite': 'INFN-ROMA1', 'dest': '141.108.35.18', '_index': 'alarms-2016.08', 'measurements': 10, 'packetLossAvg': 0.9400000000000001}\n",
      "{'_type': 'packetloss', 'src': '192.5.207.251', 'srcSite': 'BU_ATLAS_Tier2', 'alarmTime': 1471291658000, 'destSite': 'ITEP', 'dest': '194.85.69.75', '_index': 'alarms-2016.08', 'measurements': 10, 'packetLossAvg': 0.1009861038929899}\n",
      "{'_type': 'packetloss', 'src': '163.1.5.210', 'srcSite': 'UKI-SOUTHGRID-OX-HEP', 'alarmTime': 1471291658000, 'destSite': 'INFN-ROMA1', 'dest': '141.108.35.18', '_index': 'alarms-2016.08', 'measurements': 10, 'packetLossAvg': 0.9800000000000001}\n",
      "{'_type': 'packetloss', 'src': '163.1.5.210', 'srcSite': 'UKI-SOUTHGRID-OX-HEP', 'alarmTime': 1471291658000, 'destSite': 'UnknownSite', 'dest': '161.116.81.235', '_index': 'alarms-2016.08', 'measurements': 10, 'packetLossAvg': 1.0}\n",
      "{'_type': 'packetloss', 'src': '163.1.5.210', 'srcSite': 'UKI-SOUTHGRID-OX-HEP', 'alarmTime': 1471291658000, 'destSite': 'ITEP', 'dest': '194.85.69.75', '_index': 'alarms-2016.08', 'measurements': 10, 'packetLossAvg': 0.09932944114649458}\n",
      "{'_type': 'packetloss', 'src': '193.109.172.188', 'srcSite': 'pic', 'alarmTime': 1471291658000, 'destSite': 'UnknownSite', 'dest': '161.116.81.235', '_index': 'alarms-2016.08', 'measurements': 8, 'packetLossAvg': 1.0}\n",
      "{'_type': 'packetloss', 'src': '193.109.172.188', 'srcSite': 'pic', 'alarmTime': 1471291658000, 'destSite': 'SPRACE', 'dest': '200.136.80.20', '_index': 'alarms-2016.08', 'measurements': 7, 'packetLossAvg': 0.0339047619047619}\n",
      "{'_type': 'packetloss', 'src': '134.158.20.192', 'srcSite': 'IN2P3-CPPM', 'alarmTime': 1471291658000, 'destSite': 'ITEP', 'dest': '194.85.69.75', '_index': 'alarms-2016.08', 'measurements': 11, 'packetLossAvg': 0.08558080275369463}\n",
      "{'_type': 'packetloss', 'src': '134.158.20.192', 'srcSite': 'IN2P3-CPPM', 'alarmTime': 1471291658000, 'destSite': 'RO-16-UAIC', 'dest': '85.122.31.74', '_index': 'alarms-2016.08', 'measurements': 9, 'packetLossAvg': 0.044444444444444446}\n",
      "{'_type': 'packetloss', 'src': '132.206.245.252', 'srcSite': 'CA-MCGILL-CLUMEQ-T2', 'alarmTime': 1471291658000, 'destSite': 'ITEP', 'dest': '194.85.69.75', '_index': 'alarms-2016.08', 'measurements': 7, 'packetLossAvg': 0.13211814668159735}\n",
      "{'_type': 'packetloss', 'src': '130.246.47.129', 'srcSite': 'UKI-SOUTHGRID-RALPP', 'alarmTime': 1471291658000, 'destSite': 'INFN-ROMA1', 'dest': '141.108.35.18', '_index': 'alarms-2016.08', 'measurements': 8, 'packetLossAvg': 0.975}\n",
      "{'_type': 'packetloss', 'src': '130.246.47.129', 'srcSite': 'UKI-SOUTHGRID-RALPP', 'alarmTime': 1471291658000, 'destSite': 'ITEP', 'dest': '194.85.69.75', '_index': 'alarms-2016.08', 'measurements': 8, 'packetLossAvg': 0.0875862342227501}\n",
      "{'_type': 'packetloss', 'src': '130.246.47.129', 'srcSite': 'UKI-SOUTHGRID-RALPP', 'alarmTime': 1471291658000, 'destSite': 'SPRACE', 'dest': '200.136.80.20', '_index': 'alarms-2016.08', 'measurements': 8, 'packetLossAvg': 0.04608333333333334}\n",
      "{'_type': 'packetloss', 'src': '157.82.112.68', 'srcSite': 'TOKYO-LCG2', 'alarmTime': 1471291658000, 'destSite': 'ITEP', 'dest': '194.85.69.75', '_index': 'alarms-2016.08', 'measurements': 9, 'packetLossAvg': 0.11888695469698403}\n",
      "{'_type': 'packetloss', 'src': '81.180.86.38', 'srcSite': 'RO-02-NIPNE', 'alarmTime': 1471291658000, 'destSite': 'FMPhI-UNIBA', 'dest': '158.195.14.26', '_index': 'alarms-2016.08', 'measurements': 11, 'packetLossAvg': 0.10536363636363634}\n",
      "{'_type': 'packetloss', 'src': '81.180.86.38', 'srcSite': 'RO-02-NIPNE', 'alarmTime': 1471291658000, 'destSite': 'IEPSAS-Kosice', 'dest': '147.213.204.112', '_index': 'alarms-2016.08', 'measurements': 10, 'packetLossAvg': 0.10428333333333333}\n",
      "{'_type': 'packetloss', 'src': '193.205.76.76', 'srcSite': 'UnknownSite', 'alarmTime': 1471291658000, 'destSite': 'UnknownSite', 'dest': '161.116.81.235', '_index': 'alarms-2016.08', 'measurements': 11, 'packetLossAvg': 1.0}\n",
      "{'_type': 'packetloss', 'src': '193.205.76.76', 'srcSite': 'UnknownSite', 'alarmTime': 1471291658000, 'destSite': 'ITEP', 'dest': '194.85.69.75', '_index': 'alarms-2016.08', 'measurements': 10, 'packetLossAvg': 0.0948671549580518}\n",
      "{'_type': 'packetloss', 'src': '193.205.76.76', 'srcSite': 'UnknownSite', 'alarmTime': 1471291658000, 'destSite': 'SPRACE', 'dest': '200.136.80.20', '_index': 'alarms-2016.08', 'measurements': 10, 'packetLossAvg': 0.08124166666666666}\n",
      "{'_type': 'packetloss', 'src': '141.34.200.28', 'srcSite': 'DESY-ZN', 'alarmTime': 1471291658000, 'destSite': 'UnknownSite', 'dest': '161.116.81.235', '_index': 'alarms-2016.08', 'measurements': 7, 'packetLossAvg': 1.0}\n",
      "{'_type': 'packetloss', 'src': '141.34.200.28', 'srcSite': 'DESY-ZN', 'alarmTime': 1471291658000, 'destSite': 'ITEP', 'dest': '194.85.69.75', '_index': 'alarms-2016.08', 'measurements': 7, 'packetLossAvg': 0.1342710383343925}\n",
      "{'_type': 'packetloss', 'src': '194.80.35.169', 'srcSite': 'UKI-NORTHGRID-LANCS-HEP', 'alarmTime': 1471291658000, 'destSite': 'INFN-ROMA1', 'dest': '141.108.35.18', '_index': 'alarms-2016.08', 'measurements': 8, 'packetLossAvg': 0.8875}\n",
      "{'_type': 'packetloss', 'src': '194.80.35.169', 'srcSite': 'UKI-NORTHGRID-LANCS-HEP', 'alarmTime': 1471291658000, 'destSite': 'UnknownSite', 'dest': '161.116.81.235', '_index': 'alarms-2016.08', 'measurements': 8, 'packetLossAvg': 1.0}\n",
      "{'_type': 'packetloss', 'src': '194.80.35.169', 'srcSite': 'UKI-NORTHGRID-LANCS-HEP', 'alarmTime': 1471291658000, 'destSite': 'ITEP', 'dest': '194.85.69.75', '_index': 'alarms-2016.08', 'measurements': 7, 'packetLossAvg': 0.1563803800233669}\n",
      "{'_type': 'packetloss', 'src': '194.36.11.38', 'srcSite': 'UKI-LT2-QMUL', 'alarmTime': 1471291658000, 'destSite': 'INFN-ROMA1', 'dest': '141.108.35.18', '_index': 'alarms-2016.08', 'measurements': 8, 'packetLossAvg': 0.975}\n",
      "{'_type': 'packetloss', 'src': '194.36.11.38', 'srcSite': 'UKI-LT2-QMUL', 'alarmTime': 1471291658000, 'destSite': 'UnknownSite', 'dest': '161.116.81.235', '_index': 'alarms-2016.08', 'measurements': 7, 'packetLossAvg': 1.0}\n",
      "{'_type': 'packetloss', 'src': '138.253.60.82', 'srcSite': 'UKI-NORTHGRID-LIV-HEP', 'alarmTime': 1471291658000, 'destSite': 'UnknownSite', 'dest': '161.116.81.235', '_index': 'alarms-2016.08', 'measurements': 13, 'packetLossAvg': 1.0}\n",
      "{'_type': 'packetloss', 'src': '138.253.60.82', 'srcSite': 'UKI-NORTHGRID-LIV-HEP', 'alarmTime': 1471291658000, 'destSite': 'ITEP', 'dest': '194.85.69.75', '_index': 'alarms-2016.08', 'measurements': 11, 'packetLossAvg': 0.10445530070408587}\n",
      "{'_type': 'packetloss', 'src': '138.253.60.82', 'srcSite': 'UKI-NORTHGRID-LIV-HEP', 'alarmTime': 1471291658000, 'destSite': 'INFN-ROMA1', 'dest': '141.108.35.18', '_index': 'alarms-2016.08', 'measurements': 7, 'packetLossAvg': 0.9142857142857144}\n",
      "{'_type': 'packetloss', 'src': '134.158.103.10', 'srcSite': 'IN2P3-LAPP', 'alarmTime': 1471291658000, 'destSite': 'ITEP', 'dest': '194.85.69.75', '_index': 'alarms-2016.08', 'measurements': 9, 'packetLossAvg': 0.0877042188056783}\n",
      "{'_type': 'packetloss', 'src': '192.12.15.26', 'srcSite': 'BNL-ATLAS', 'alarmTime': 1471291658000, 'destSite': 'ITEP', 'dest': '194.85.69.75', '_index': 'alarms-2016.08', 'measurements': 21, 'packetLossAvg': 0.12043314503898227}\n",
      "{'_type': 'packetloss', 'src': '131.111.66.196', 'srcSite': 'UKI-SOUTHGRID-CAM-HEP', 'alarmTime': 1471291658000, 'destSite': 'INFN-ROMA1', 'dest': '141.108.35.18', '_index': 'alarms-2016.08', 'measurements': 8, 'packetLossAvg': 0.875}\n",
      "{'_type': 'packetloss', 'src': '131.111.66.196', 'srcSite': 'UKI-SOUTHGRID-CAM-HEP', 'alarmTime': 1471291658000, 'destSite': 'UnknownSite', 'dest': '161.116.81.235', '_index': 'alarms-2016.08', 'measurements': 8, 'packetLossAvg': 1.0}\n",
      "{'_type': 'packetloss', 'src': '131.111.66.196', 'srcSite': 'UKI-SOUTHGRID-CAM-HEP', 'alarmTime': 1471291658000, 'destSite': 'ITEP', 'dest': '194.85.69.75', '_index': 'alarms-2016.08', 'measurements': 8, 'packetLossAvg': 0.08792850297309532}\n",
      "{'_type': 'packetloss', 'src': '158.195.14.26', 'srcSite': 'FMPhI-UNIBA', 'alarmTime': 1471291658000, 'destSite': 'INFN-ROMA1', 'dest': '141.108.35.18', '_index': 'alarms-2016.08', 'measurements': 7, 'packetLossAvg': 0.9428571428571428}\n",
      "{'_type': 'packetloss', 'src': '158.195.14.26', 'srcSite': 'FMPhI-UNIBA', 'alarmTime': 1471291658000, 'destSite': 'ITEP', 'dest': '194.85.69.75', '_index': 'alarms-2016.08', 'measurements': 7, 'packetLossAvg': 0.0898401886835087}\n",
      "{'_type': 'packetloss', 'src': '146.83.90.7', 'srcSite': 'EELA-UTFSM', 'alarmTime': 1471291658000, 'destSite': 'INFN-ROMA1', 'dest': '141.108.35.18', '_index': 'alarms-2016.08', 'measurements': 11, 'packetLossAvg': 0.9545454545454546}\n",
      "{'_type': 'packetloss', 'src': '146.83.90.7', 'srcSite': 'EELA-UTFSM', 'alarmTime': 1471291658000, 'destSite': 'ITEP', 'dest': '194.85.69.75', '_index': 'alarms-2016.08', 'measurements': 11, 'packetLossAvg': 0.1064200370359389}\n",
      "{'_type': 'packetloss', 'src': '206.12.154.60', 'srcSite': 'CA-VICTORIA-WESTGRID-T2', 'alarmTime': 1471291658000, 'destSite': 'ITEP', 'dest': '194.85.69.75', '_index': 'alarms-2016.08', 'measurements': 9, 'packetLossAvg': 0.10766605565172771}\n",
      "{'_type': 'packetloss', 'src': '206.12.154.60', 'srcSite': 'CA-VICTORIA-WESTGRID-T2', 'alarmTime': 1471291658000, 'destSite': 'INFN-ROMA1', 'dest': '141.108.35.18', '_index': 'alarms-2016.08', 'measurements': 8, 'packetLossAvg': 0.975}\n",
      "{'_type': 'packetloss', 'src': '145.100.17.8', 'srcSite': 'SARA-MATRIX', 'alarmTime': 1471291658000, 'destSite': 'UnknownSite', 'dest': '161.116.81.235', '_index': 'alarms-2016.08', 'measurements': 21, 'packetLossAvg': 1.0}\n",
      "{'_type': 'packetloss', 'src': '192.231.127.41', 'srcSite': 'Australia-ATLAS', 'alarmTime': 1471291658000, 'destSite': 'OU_OCHEP_SWT2', 'dest': '129.15.40.231', '_index': 'alarms-2016.08', 'measurements': 10, 'packetLossAvg': 0.0201}\n",
      "{'_type': 'packetloss', 'src': '192.231.127.41', 'srcSite': 'Australia-ATLAS', 'alarmTime': 1471291658000, 'destSite': 'ITEP', 'dest': '194.85.69.75', '_index': 'alarms-2016.08', 'measurements': 9, 'packetLossAvg': 0.1329042785058345}\n",
      "{'_type': 'packetloss', 'src': '132.195.125.213', 'srcSite': 'wuppertalprod', 'alarmTime': 1471291658000, 'destSite': 'ITEP', 'dest': '194.85.69.75', '_index': 'alarms-2016.08', 'measurements': 9, 'packetLossAvg': 0.08585325062205709}\n",
      "{'_type': 'packetloss', 'src': '192.114.101.125', 'srcSite': 'TECHNION-HEP', 'alarmTime': 1471291658000, 'destSite': 'INFN-ROMA1', 'dest': '141.108.35.18', '_index': 'alarms-2016.08', 'measurements': 7, 'packetLossAvg': 0.9428571428571428}\n",
      "{'_type': 'packetloss', 'src': '192.114.101.125', 'srcSite': 'TECHNION-HEP', 'alarmTime': 1471291658000, 'destSite': 'UnknownSite', 'dest': '161.116.81.235', '_index': 'alarms-2016.08', 'measurements': 5, 'packetLossAvg': 1.0}\n",
      "{'_type': 'packetloss', 'src': '193.60.193.3', 'srcSite': 'UKI-SCOTGRID-DURHAM', 'alarmTime': 1471291658000, 'destSite': 'UnknownSite', 'dest': '161.116.81.235', '_index': 'alarms-2016.08', 'measurements': 15, 'packetLossAvg': 1.0}\n",
      "{'_type': 'packetloss', 'src': '193.60.193.3', 'srcSite': 'UKI-SCOTGRID-DURHAM', 'alarmTime': 1471291658000, 'destSite': 'ITEP', 'dest': '194.85.69.75', '_index': 'alarms-2016.08', 'measurements': 11, 'packetLossAvg': 0.09040146147775983}\n",
      "{'_type': 'packetloss', 'src': '195.194.105.178', 'srcSite': 'UKI-NORTHGRID-MAN-HEP', 'alarmTime': 1471291658000, 'destSite': 'UnknownSite', 'dest': '161.116.81.235', '_index': 'alarms-2016.08', 'measurements': 10, 'packetLossAvg': 1.0}\n",
      "{'_type': 'packetloss', 'src': '90.147.66.50', 'srcSite': 'UnknownSite', 'alarmTime': 1471291658000, 'destSite': 'SPRACE', 'dest': '200.136.80.20', '_index': 'alarms-2016.08', 'measurements': 11, 'packetLossAvg': 0.05}\n",
      "{'_type': 'packetloss', 'src': '147.231.25.192', 'srcSite': 'praguelcg2', 'alarmTime': 1471291658000, 'destSite': 'ITEP', 'dest': '194.85.69.75', '_index': 'alarms-2016.08', 'measurements': 12, 'packetLossAvg': 0.08284400576715188}\n",
      "{'_type': 'packetloss', 'src': '193.206.93.45', 'srcSite': 'UnknownSite', 'alarmTime': 1471291658000, 'destSite': 'UnknownSite', 'dest': '161.116.81.235', '_index': 'alarms-2016.08', 'measurements': 10, 'packetLossAvg': 1.0}\n",
      "{'_type': 'packetloss', 'src': '193.206.93.45', 'srcSite': 'UnknownSite', 'alarmTime': 1471291658000, 'destSite': 'BEIJING-LCG2', 'dest': '202.122.32.170', '_index': 'alarms-2016.08', 'measurements': 10, 'packetLossAvg': 0.020033333333333334}\n",
      "{'_type': 'packetloss', 'src': '193.206.93.45', 'srcSite': 'UnknownSite', 'alarmTime': 1471291658000, 'destSite': 'GRIF', 'dest': '134.158.159.85', '_index': 'alarms-2016.08', 'measurements': 7, 'packetLossAvg': 0.028571428571428574}\n",
      "{'_type': 'packetloss', 'src': '193.206.93.45', 'srcSite': 'UnknownSite', 'alarmTime': 1471291658000, 'destSite': 'NCG-INGRID-PT', 'dest': '193.136.75.146', '_index': 'alarms-2016.08', 'measurements': 6, 'packetLossAvg': 0.8999999999999999}\n",
      "{'_type': 'packetloss', 'src': '193.206.93.45', 'srcSite': 'UnknownSite', 'alarmTime': 1471291658000, 'destSite': 'SPRACE', 'dest': '200.136.80.20', '_index': 'alarms-2016.08', 'measurements': 6, 'packetLossAvg': 0.06787037037037037}\n",
      "{'_type': 'packetloss', 'src': '131.225.205.12', 'srcSite': 'UnknownSite', 'alarmTime': 1471291658000, 'destSite': 'SPRACE', 'dest': '200.136.80.20', '_index': 'alarms-2016.08', 'measurements': 11, 'packetLossAvg': 0.04906060606060607}\n",
      "{'_type': 'packetloss', 'src': '131.225.205.12', 'srcSite': 'UnknownSite', 'alarmTime': 1471291658000, 'destSite': 'ITEP', 'dest': '194.85.69.75', '_index': 'alarms-2016.08', 'measurements': 7, 'packetLossAvg': 0.11658395921891808}\n",
      "{'_type': 'packetloss', 'src': '193.146.75.138', 'srcSite': 'IFCA-LCG2', 'alarmTime': 1471291658000, 'destSite': 'ITEP', 'dest': '194.85.69.75', '_index': 'alarms-2016.08', 'measurements': 10, 'packetLossAvg': 0.08999139150441646}\n",
      "{'_type': 'packetloss', 'src': '193.146.75.138', 'srcSite': 'IFCA-LCG2', 'alarmTime': 1471291658000, 'destSite': 'SPRACE', 'dest': '200.136.80.20', '_index': 'alarms-2016.08', 'measurements': 10, 'packetLossAvg': 0.08037777777777777}\n",
      "{'_type': 'packetloss', 'src': '148.6.8.251', 'srcSite': 'BUDAPEST', 'alarmTime': 1471291658000, 'destSite': 'SPRACE', 'dest': '200.136.80.20', '_index': 'alarms-2016.08', 'measurements': 10, 'packetLossAvg': 0.061399999999999996}\n",
      "{'_type': 'packetloss', 'src': '169.228.130.40', 'srcSite': 'UnknownSite', 'alarmTime': 1471291658000, 'destSite': 'ITEP', 'dest': '194.85.69.75', '_index': 'alarms-2016.08', 'measurements': 9, 'packetLossAvg': 0.08739067572461605}\n",
      "{'_type': 'packetloss', 'src': '169.228.130.40', 'srcSite': 'UnknownSite', 'alarmTime': 1471291658000, 'destSite': 'SPRACE', 'dest': '200.136.80.20', '_index': 'alarms-2016.08', 'measurements': 9, 'packetLossAvg': 0.037814814814814815}\n",
      "{'_type': 'packetloss', 'src': '131.169.98.30', 'srcSite': 'DESY-HH', 'alarmTime': 1471291658000, 'destSite': 'SPRACE', 'dest': '200.136.80.20', '_index': 'alarms-2016.08', 'measurements': 9, 'packetLossAvg': 0.039962962962962964}\n",
      "{'_type': 'packetloss', 'src': '192.41.236.31', 'srcSite': 'AGLT2', 'alarmTime': 1471291658000, 'destSite': 'ITEP', 'dest': '194.85.69.75', '_index': 'alarms-2016.08', 'measurements': 5, 'packetLossAvg': 0.10352050127159484}\n",
      "{'_type': 'packetloss', 'src': '128.227.221.44', 'srcSite': 'UFlorida-HPC', 'alarmTime': 1471291658000, 'destSite': 'ITEP', 'dest': '194.85.69.75', '_index': 'alarms-2016.08', 'measurements': 8, 'packetLossAvg': 0.10120367533490354}\n",
      "{'_type': 'packetloss', 'src': '128.227.221.44', 'srcSite': 'UFlorida-HPC', 'alarmTime': 1471291658000, 'destSite': 'SPRACE', 'dest': '200.136.80.20', '_index': 'alarms-2016.08', 'measurements': 8, 'packetLossAvg': 0.044625}\n",
      "{'_type': 'packetloss', 'src': '129.93.239.148', 'srcSite': 'Nebraska', 'alarmTime': 1471291658000, 'destSite': 'ITEP', 'dest': '194.85.69.75', '_index': 'alarms-2016.08', 'measurements': 8, 'packetLossAvg': 0.09800437299106124}\n",
      "{'_type': 'packetloss', 'src': '129.93.239.148', 'srcSite': 'Nebraska', 'alarmTime': 1471291658000, 'destSite': 'SPRACE', 'dest': '200.136.80.20', '_index': 'alarms-2016.08', 'measurements': 8, 'packetLossAvg': 0.04666666666666666}\n",
      "{'_type': 'packetloss', 'src': '152.84.101.141', 'srcSite': 'UnknownSite', 'alarmTime': 1471291658000, 'destSite': 'UnknownSite', 'dest': '161.116.81.235', '_index': 'alarms-2016.08', 'measurements': 11, 'packetLossAvg': 1.0}\n",
      "{'_type': 'packetloss', 'src': '159.93.229.151', 'srcSite': 'JINR-T1', 'alarmTime': 1471291658000, 'destSite': 'ITEP', 'dest': '194.85.69.75', '_index': 'alarms-2016.08', 'measurements': 10, 'packetLossAvg': 0.05776975009663401}\n",
      "{'_type': 'packetloss', 'src': '159.93.229.151', 'srcSite': 'JINR-T1', 'alarmTime': 1471291658000, 'destSite': 'SPRACE', 'dest': '200.136.80.20', '_index': 'alarms-2016.08', 'measurements': 9, 'packetLossAvg': 0.04257407407407407}\n",
      "{'_type': 'packetloss', 'src': '144.92.180.75', 'srcSite': 'GLOW', 'alarmTime': 1471291658000, 'destSite': 'SPRACE', 'dest': '200.136.80.20', '_index': 'alarms-2016.08', 'measurements': 8, 'packetLossAvg': 0.051916666666666667}\n",
      "{'_type': 'packetloss', 'src': '192.41.236.35', 'srcSite': 'UnknownSite', 'alarmTime': 1471291658000, 'destSite': 'UnknownSite', 'dest': '129.107.255.26', '_index': 'alarms-2016.08', 'measurements': 22, 'packetLossAvg': 0.49869949494949495}\n",
      "{'_type': 'packetloss', 'src': '192.41.236.35', 'srcSite': 'UnknownSite', 'alarmTime': 1471291658000, 'destSite': 'OU_OCHEP_SWT2', 'dest': '129.15.40.229', '_index': 'alarms-2016.08', 'measurements': 22, 'packetLossAvg': 0.49558207070707067}\n",
      "{'_type': 'packetloss', 'src': '192.41.236.35', 'srcSite': 'UnknownSite', 'alarmTime': 1471291658000, 'destSite': 'UnknownSite', 'dest': '131.243.24.11', '_index': 'alarms-2016.08', 'measurements': 22, 'packetLossAvg': 0.499935606060606}\n",
      "{'_type': 'packetloss', 'src': '192.41.236.35', 'srcSite': 'UnknownSite', 'alarmTime': 1471291658000, 'destSite': 'Nebraska', 'dest': '129.93.5.165', '_index': 'alarms-2016.08', 'measurements': 20, 'packetLossAvg': 0.5024555555555554}\n",
      "{'_type': 'packetloss', 'src': '192.41.236.35', 'srcSite': 'UnknownSite', 'alarmTime': 1471291658000, 'destSite': 'UnknownSite', 'dest': '149.165.224.247', '_index': 'alarms-2016.08', 'measurements': 20, 'packetLossAvg': 0.4956083333333334}\n",
      "{'_type': 'packetloss', 'src': '192.41.236.35', 'srcSite': 'UnknownSite', 'alarmTime': 1471291658000, 'destSite': 'UnknownSite', 'dest': '192.170.227.163', '_index': 'alarms-2016.08', 'measurements': 19, 'packetLossAvg': 0.49784795321637426}\n",
      "{'_type': 'packetloss', 'src': '192.41.236.35', 'srcSite': 'UnknownSite', 'alarmTime': 1471291658000, 'destSite': 'UnknownSite', 'dest': '143.215.129.69', '_index': 'alarms-2016.08', 'measurements': 11, 'packetLossAvg': 0.496989898989899}\n",
      "{'_type': 'packetloss', 'src': '193.144.80.12', 'srcSite': 'UnknownSite', 'alarmTime': 1471291658000, 'destSite': 'UnknownSite', 'dest': '161.116.81.235', '_index': 'alarms-2016.08', 'measurements': 11, 'packetLossAvg': 1.0}\n",
      "{'_type': 'packetloss', 'src': '200.136.80.20', 'srcSite': 'SPRACE', 'alarmTime': 1471291658000, 'destSite': 'BEIJING-LCG2', 'dest': '202.122.32.170', '_index': 'alarms-2016.08', 'measurements': 15, 'packetLossAvg': 0.04655555555555555}\n",
      "{'_type': 'packetloss', 'src': '200.136.80.20', 'srcSite': 'SPRACE', 'alarmTime': 1471291658000, 'destSite': 'Nebraska', 'dest': '129.93.239.148', '_index': 'alarms-2016.08', 'measurements': 10, 'packetLossAvg': 0.04081666666666667}\n",
      "{'_type': 'packetloss', 'src': '200.136.80.20', 'srcSite': 'SPRACE', 'alarmTime': 1471291658000, 'destSite': 'GRIF', 'dest': '134.158.132.200', '_index': 'alarms-2016.08', 'measurements': 10, 'packetLossAvg': 0.03587777777777778}\n",
      "{'_type': 'packetloss', 'src': '200.136.80.20', 'srcSite': 'SPRACE', 'alarmTime': 1471291658000, 'destSite': 'CERN-PROD', 'dest': '128.142.223.247', '_index': 'alarms-2016.08', 'measurements': 9, 'packetLossAvg': 0.03925925925925926}\n",
      "{'_type': 'packetloss', 'src': '200.136.80.20', 'srcSite': 'SPRACE', 'alarmTime': 1471291658000, 'destSite': 'UnknownSite', 'dest': '128.211.143.3', '_index': 'alarms-2016.08', 'measurements': 9, 'packetLossAvg': 0.04512037037037037}\n",
      "{'_type': 'packetloss', 'src': '200.136.80.20', 'srcSite': 'SPRACE', 'alarmTime': 1471291658000, 'destSite': 'UFlorida-HPC', 'dest': '128.227.221.44', '_index': 'alarms-2016.08', 'measurements': 9, 'packetLossAvg': 0.04066666666666666}\n",
      "{'_type': 'packetloss', 'src': '200.136.80.20', 'srcSite': 'SPRACE', 'alarmTime': 1471291658000, 'destSite': 'RAL-LCG2', 'dest': '130.246.176.109', '_index': 'alarms-2016.08', 'measurements': 9, 'packetLossAvg': 0.04340740740740741}\n",
      "{'_type': 'packetloss', 'src': '200.136.80.20', 'srcSite': 'SPRACE', 'alarmTime': 1471291658000, 'destSite': 'UKI-SOUTHGRID-RALPP', 'dest': '130.246.47.129', '_index': 'alarms-2016.08', 'measurements': 9, 'packetLossAvg': 0.04151851851851852}\n",
      "{'_type': 'packetloss', 'src': '200.136.80.20', 'srcSite': 'SPRACE', 'alarmTime': 1471291658000, 'destSite': 'INFN-T1', 'dest': '131.154.254.12', '_index': 'alarms-2016.08', 'measurements': 9, 'packetLossAvg': 0.0422962962962963}\n",
      "{'_type': 'packetloss', 'src': '200.136.80.20', 'srcSite': 'SPRACE', 'alarmTime': 1471291658000, 'destSite': 'DESY-HH', 'dest': '131.169.98.30', '_index': 'alarms-2016.08', 'measurements': 9, 'packetLossAvg': 0.042222222222222223}\n",
      "{'_type': 'packetloss', 'src': '200.136.80.20', 'srcSite': 'SPRACE', 'alarmTime': 1471291658000, 'destSite': 'UnknownSite', 'dest': '131.225.205.12', '_index': 'alarms-2016.08', 'measurements': 9, 'packetLossAvg': 0.04630555555555556}\n",
      "{'_type': 'packetloss', 'src': '200.136.80.20', 'srcSite': 'SPRACE', 'alarmTime': 1471291658000, 'destSite': 'GRIF', 'dest': '134.158.159.85', '_index': 'alarms-2016.08', 'measurements': 9, 'packetLossAvg': 0.04133333333333333}\n",
      "{'_type': 'packetloss', 'src': '200.136.80.20', 'srcSite': 'SPRACE', 'alarmTime': 1471291658000, 'destSite': 'GRIF', 'dest': '134.158.73.243', '_index': 'alarms-2016.08', 'measurements': 9, 'packetLossAvg': 0.043555555555555556}\n",
      "{'_type': 'packetloss', 'src': '200.136.80.20', 'srcSite': 'SPRACE', 'alarmTime': 1471291658000, 'destSite': 'INDIACMS-TIFR', 'dest': '144.16.111.26', '_index': 'alarms-2016.08', 'measurements': 9, 'packetLossAvg': 0.043370370370370365}\n",
      "{'_type': 'packetloss', 'src': '200.136.80.20', 'srcSite': 'SPRACE', 'alarmTime': 1471291658000, 'destSite': 'GLOW', 'dest': '144.92.180.75', '_index': 'alarms-2016.08', 'measurements': 9, 'packetLossAvg': 0.0435}\n",
      "{'_type': 'packetloss', 'src': '200.136.80.20', 'srcSite': 'SPRACE', 'alarmTime': 1471291658000, 'destSite': 'CSCS-LCG2', 'dest': '148.187.64.25', '_index': 'alarms-2016.08', 'measurements': 9, 'packetLossAvg': 0.040777777777777774}\n",
      "{'_type': 'packetloss', 'src': '200.136.80.20', 'srcSite': 'SPRACE', 'alarmTime': 1471291658000, 'destSite': 'BUDAPEST', 'dest': '148.6.8.251', '_index': 'alarms-2016.08', 'measurements': 9, 'packetLossAvg': 0.042370370370370364}\n",
      "{'_type': 'packetloss', 'src': '200.136.80.20', 'srcSite': 'SPRACE', 'alarmTime': 1471291658000, 'destSite': 'JINR-LCG2', 'dest': '159.93.226.102', '_index': 'alarms-2016.08', 'measurements': 9, 'packetLossAvg': 0.045175925925925925}\n",
      "{'_type': 'packetloss', 'src': '200.136.80.20', 'srcSite': 'SPRACE', 'alarmTime': 1471291658000, 'destSite': 'UnknownSite', 'dest': '18.12.1.171', '_index': 'alarms-2016.08', 'measurements': 9, 'packetLossAvg': 0.042296296296296304}\n",
      "{'_type': 'packetloss', 'src': '200.136.80.20', 'srcSite': 'SPRACE', 'alarmTime': 1471291658000, 'destSite': 'FZK-LCG2', 'dest': '192.108.47.12', '_index': 'alarms-2016.08', 'measurements': 9, 'packetLossAvg': 0.04122222222222222}\n",
      "{'_type': 'packetloss', 'src': '200.136.80.20', 'srcSite': 'SPRACE', 'alarmTime': 1471291658000, 'destSite': 'Vanderbilt', 'dest': '192.111.108.112', '_index': 'alarms-2016.08', 'measurements': 9, 'packetLossAvg': 0.04697222222222222}\n",
      "{'_type': 'packetloss', 'src': '200.136.80.20', 'srcSite': 'SPRACE', 'alarmTime': 1471291658000, 'destSite': 'GRIF', 'dest': '192.54.207.250', '_index': 'alarms-2016.08', 'measurements': 9, 'packetLossAvg': 0.034722222222222224}\n",
      "{'_type': 'packetloss', 'src': '200.136.80.20', 'srcSite': 'SPRACE', 'alarmTime': 1471291658000, 'destSite': 'UnknownSite', 'dest': '193.205.76.76', '_index': 'alarms-2016.08', 'measurements': 9, 'packetLossAvg': 0.04664814814814815}\n",
      "{'_type': 'packetloss', 'src': '200.136.80.20', 'srcSite': 'SPRACE', 'alarmTime': 1471291658000, 'destSite': 'UnknownSite', 'dest': '193.239.180.211', '_index': 'alarms-2016.08', 'measurements': 9, 'packetLossAvg': 0.04292592592592592}\n",
      "{'_type': 'packetloss', 'src': '200.136.80.20', 'srcSite': 'SPRACE', 'alarmTime': 1471291658000, 'destSite': 'IN2P3-CC', 'dest': '193.48.99.76', '_index': 'alarms-2016.08', 'measurements': 9, 'packetLossAvg': 0.04273148148148148}\n",
      "{'_type': 'packetloss', 'src': '200.136.80.20', 'srcSite': 'SPRACE', 'alarmTime': 1471291658000, 'destSite': 'RU-Protvino-IHEP', 'dest': '194.190.165.192', '_index': 'alarms-2016.08', 'measurements': 9, 'packetLossAvg': 0.04059259259259259}\n",
      "{'_type': 'packetloss', 'src': '200.136.80.20', 'srcSite': 'SPRACE', 'alarmTime': 1471291658000, 'destSite': 'RO-07-NIPNE', 'dest': '81.180.86.64', '_index': 'alarms-2016.08', 'measurements': 9, 'packetLossAvg': 0.040296296296296295}\n",
      "{'_type': 'packetloss', 'src': '200.136.80.20', 'srcSite': 'SPRACE', 'alarmTime': 1471291658000, 'destSite': 'UnknownSite', 'dest': '90.147.66.50', '_index': 'alarms-2016.08', 'measurements': 9, 'packetLossAvg': 0.040851851851851854}\n",
      "{'_type': 'packetloss', 'src': '200.136.80.20', 'srcSite': 'SPRACE', 'alarmTime': 1471291658000, 'destSite': 'ITEP', 'dest': '194.85.69.75', '_index': 'alarms-2016.08', 'measurements': 8, 'packetLossAvg': 0.13598711326406038}\n",
      "{'_type': 'packetloss', 'src': '212.191.227.174', 'srcSite': 'CYFRONET-LCG2', 'alarmTime': 1471291658000, 'destSite': 'INFN-ROMA1', 'dest': '141.108.35.18', '_index': 'alarms-2016.08', 'measurements': 5, 'packetLossAvg': 1.0}\n",
      "{'_type': 'packetloss', 'src': '212.191.227.174', 'srcSite': 'CYFRONET-LCG2', 'alarmTime': 1471291658000, 'destSite': 'UnknownSite', 'dest': '161.116.81.235', '_index': 'alarms-2016.08', 'measurements': 5, 'packetLossAvg': 1.0}\n",
      "{'_type': 'packetloss', 'src': '18.12.1.171', 'srcSite': 'UnknownSite', 'alarmTime': 1471291658000, 'destSite': 'CERN-PROD', 'dest': '128.142.223.247', '_index': 'alarms-2016.08', 'measurements': 11, 'packetLossAvg': 0.024106060606060607}\n",
      "{'_type': 'packetloss', 'src': '18.12.1.171', 'srcSite': 'UnknownSite', 'alarmTime': 1471291658000, 'destSite': 'UnknownSite', 'dest': '128.211.143.3', '_index': 'alarms-2016.08', 'measurements': 11, 'packetLossAvg': 0.021893939393939396}\n",
      "{'_type': 'packetloss', 'src': '18.12.1.171', 'srcSite': 'UnknownSite', 'alarmTime': 1471291658000, 'destSite': 'GLOW', 'dest': '144.92.180.75', '_index': 'alarms-2016.08', 'measurements': 11, 'packetLossAvg': 0.025}\n",
      "{'_type': 'packetloss', 'src': '18.12.1.171', 'srcSite': 'UnknownSite', 'alarmTime': 1471291658000, 'destSite': 'UnknownSite', 'dest': '161.116.81.235', '_index': 'alarms-2016.08', 'measurements': 11, 'packetLossAvg': 1.0}\n",
      "{'_type': 'packetloss', 'src': '18.12.1.171', 'srcSite': 'UnknownSite', 'alarmTime': 1471291658000, 'destSite': 'UnknownSite', 'dest': '169.228.130.40', '_index': 'alarms-2016.08', 'measurements': 11, 'packetLossAvg': 0.02537878787878788}\n",
      "{'_type': 'packetloss', 'src': '18.12.1.171', 'srcSite': 'UnknownSite', 'alarmTime': 1471291658000, 'destSite': 'UnknownSite', 'dest': '192.101.161.186', '_index': 'alarms-2016.08', 'measurements': 11, 'packetLossAvg': 0.0225}\n",
      "{'_type': 'packetloss', 'src': '18.12.1.171', 'srcSite': 'UnknownSite', 'alarmTime': 1471291658000, 'destSite': 'NCG-INGRID-PT', 'dest': '193.136.75.146', '_index': 'alarms-2016.08', 'measurements': 11, 'packetLossAvg': 0.8545454545454544}\n",
      "{'_type': 'packetloss', 'src': '18.12.1.171', 'srcSite': 'UnknownSite', 'alarmTime': 1471291658000, 'destSite': 'Hephy-Vienna', 'dest': '193.170.243.215', '_index': 'alarms-2016.08', 'measurements': 11, 'packetLossAvg': 0.02343939393939394}\n",
      "{'_type': 'packetloss', 'src': '18.12.1.171', 'srcSite': 'UnknownSite', 'alarmTime': 1471291658000, 'destSite': 'UKI-SOUTHGRID-BHAM-HEP', 'dest': '193.62.56.9', '_index': 'alarms-2016.08', 'measurements': 11, 'packetLossAvg': 0.025303030303030303}\n",
      "{'_type': 'packetloss', 'src': '18.12.1.171', 'srcSite': 'UnknownSite', 'alarmTime': 1471291658000, 'destSite': 'SPRACE', 'dest': '200.136.80.20', '_index': 'alarms-2016.08', 'measurements': 11, 'packetLossAvg': 0.044121212121212124}\n",
      "{'_type': 'packetloss', 'src': '193.239.180.211', 'srcSite': 'UnknownSite', 'alarmTime': 1471291658000, 'destSite': 'ITEP', 'dest': '194.85.69.75', '_index': 'alarms-2016.08', 'measurements': 8, 'packetLossAvg': 0.06957495191516917}\n",
      "{'_type': 'packetloss', 'src': '193.239.180.211', 'srcSite': 'UnknownSite', 'alarmTime': 1471291658000, 'destSite': 'SPRACE', 'dest': '200.136.80.20', '_index': 'alarms-2016.08', 'measurements': 8, 'packetLossAvg': 0.027791666666666666}\n",
      "{'_type': 'packetloss', 'src': '129.15.40.231', 'srcSite': 'OU_OCHEP_SWT2', 'alarmTime': 1471291658000, 'destSite': 'ITEP', 'dest': '194.85.69.75', '_index': 'alarms-2016.08', 'measurements': 5, 'packetLossAvg': 0.11529893965703449}\n",
      "{'_type': 'packetloss', 'src': '192.135.14.32', 'srcSite': 'INFN-MILANO-ATLASC', 'alarmTime': 1471291658000, 'destSite': 'UnknownSite', 'dest': '161.116.81.235', '_index': 'alarms-2016.08', 'measurements': 11, 'packetLossAvg': 1.0}\n",
      "{'_type': 'packetloss', 'src': '192.135.14.32', 'srcSite': 'INFN-MILANO-ATLASC', 'alarmTime': 1471291658000, 'destSite': 'UnknownSite', 'dest': '18.12.1.171', '_index': 'alarms-2016.08', 'measurements': 11, 'packetLossAvg': 0.024803030303030306}\n",
      "{'_type': 'packetloss', 'src': '192.135.14.32', 'srcSite': 'INFN-MILANO-ATLASC', 'alarmTime': 1471291658000, 'destSite': 'NCG-INGRID-PT', 'dest': '193.136.75.146', '_index': 'alarms-2016.08', 'measurements': 11, 'packetLossAvg': 0.8666666666666667}\n",
      "{'_type': 'packetloss', 'src': '109.105.125.232', 'srcSite': 'FI_HIP_T2', 'alarmTime': 1471291658000, 'destSite': 'SPRACE', 'dest': '200.136.80.20', '_index': 'alarms-2016.08', 'measurements': 9, 'packetLossAvg': 0.041339506172839505}\n",
      "{'_type': 'packetloss', 'src': '134.61.24.193', 'srcSite': 'UnknownSite', 'alarmTime': 1471291658000, 'destSite': 'UnknownSite', 'dest': '161.116.81.235', '_index': 'alarms-2016.08', 'measurements': 11, 'packetLossAvg': 1.0}\n",
      "{'_type': 'packetloss', 'src': '134.61.24.193', 'srcSite': 'UnknownSite', 'alarmTime': 1471291658000, 'destSite': 'NCG-INGRID-PT', 'dest': '193.136.75.146', '_index': 'alarms-2016.08', 'measurements': 10, 'packetLossAvg': 0.8400000000000001}\n",
      "{'_type': 'packetloss', 'src': '132.230.202.235', 'srcSite': 'UNI-FREIBURG', 'alarmTime': 1471291658000, 'destSite': 'UnknownSite', 'dest': '161.116.81.235', '_index': 'alarms-2016.08', 'measurements': 9, 'packetLossAvg': 1.0}\n",
      "{'_type': 'packetloss', 'src': '132.230.202.235', 'srcSite': 'UNI-FREIBURG', 'alarmTime': 1471291658000, 'destSite': 'NCG-INGRID-PT', 'dest': '193.136.75.146', '_index': 'alarms-2016.08', 'measurements': 9, 'packetLossAvg': 0.8740740740740741}\n",
      "{'_type': 'packetloss', 'src': '193.62.56.9', 'srcSite': 'UKI-SOUTHGRID-BHAM-HEP', 'alarmTime': 1471291658000, 'destSite': 'UKI-NORTHGRID-SHEF-HEP', 'dest': '143.167.3.116', '_index': 'alarms-2016.08', 'measurements': 8, 'packetLossAvg': 1.0}\n",
      "{'_type': 'packetloss', 'src': '193.62.56.9', 'srcSite': 'UKI-SOUTHGRID-BHAM-HEP', 'alarmTime': 1471291658000, 'destSite': 'UnknownSite', 'dest': '161.116.81.235', '_index': 'alarms-2016.08', 'measurements': 8, 'packetLossAvg': 1.0}\n",
      "{'_type': 'packetloss', 'src': '193.62.56.9', 'srcSite': 'UKI-SOUTHGRID-BHAM-HEP', 'alarmTime': 1471291658000, 'destSite': 'NCG-INGRID-PT', 'dest': '193.136.75.146', '_index': 'alarms-2016.08', 'measurements': 8, 'packetLossAvg': 0.725}\n",
      "{'_type': 'packetloss', 'src': '137.222.74.15', 'srcSite': 'UKI-SOUTHGRID-BRIS-HEP', 'alarmTime': 1471291658000, 'destSite': 'UnknownSite', 'dest': '161.116.81.235', '_index': 'alarms-2016.08', 'measurements': 7, 'packetLossAvg': 1.0}\n",
      "{'_type': 'packetloss', 'src': '128.211.143.3', 'srcSite': 'UnknownSite', 'alarmTime': 1471291658000, 'destSite': 'SPRACE', 'dest': '200.136.80.20', '_index': 'alarms-2016.08', 'measurements': 10, 'packetLossAvg': 0.07018055555555555}\n",
      "{'_type': 'packetloss', 'src': '64.57.30.143', 'srcSite': 'UnknownSite', 'alarmTime': 1471291658000, 'destSite': 'UnknownSite', 'dest': '18.12.1.171', '_index': 'alarms-2016.08', 'measurements': 11, 'packetLossAvg': 0.024815151515151516}\n"
     ]
    }
   ],
   "source": [
    "src=res['aggregations']['src']['buckets']\n",
    "#print(src)\n",
    "\n",
    "for s in src:\n",
    "   #print(s)\n",
    "   source=s['key']\n",
    "   for d in s['dest']['buckets']:\n",
    "      destination=d['key']\n",
    "      avgpl=d['avgpl']['value']\n",
    "      docs=d['doc_count']\n",
    "#      print(source, destination, docs, avgpl)\n",
    "      if avgpl > 0.02 and docs > 4:\n",
    "         toAlertOn.append(generate_doc(source, destination, docs, avgpl))\n",
    "\n",
    "for alert in toAlertOn:\n",
    "   print(alert)"
   ]
  },
  {
   "cell_type": "markdown",
   "metadata": {},
   "source": [
    "### write alarms to Elasticsearch"
   ]
  },
  {
   "cell_type": "code",
   "execution_count": 11,
   "metadata": {
    "collapsed": false
   },
   "outputs": [
    {
     "name": "stdout",
     "output_type": "stream",
     "text": [
      "inserted: 205 \tErrors: []\n"
     ]
    }
   ],
   "source": [
    "try:\n",
    "   res = helpers.bulk(es, toAlertOn, raise_on_exception=True,request_timeout=60)\n",
    "   print(\"inserted:\",res[0], '\\tErrors:',res[1])\n",
    "except es_exceptions.ConnectionError as e:\n",
    "   print('ConnectionError ', e)\n",
    "except es_exceptions.TransportError as e:\n",
    "   print('TransportError ', e)\n",
    "except helpers.BulkIndexError as e:\n",
    "   print(e[0])\n",
    "   for i in e[1]:\n",
    "      print(i)\n",
    "except:\n",
    "   print('Something seriously wrong happened.')"
   ]
  },
  {
   "cell_type": "code",
   "execution_count": null,
   "metadata": {
    "collapsed": true
   },
   "outputs": [],
   "source": []
  }
 ],
 "metadata": {
  "kernelspec": {
   "display_name": "Python 3",
   "language": "python",
   "name": "python3"
  },
  "language_info": {
   "codemirror_mode": {
    "name": "ipython",
    "version": 3
   },
   "file_extension": ".py",
   "mimetype": "text/x-python",
   "name": "python",
   "nbconvert_exporter": "python",
   "pygments_lexer": "ipython3",
   "version": "3.5.1"
  }
 },
 "nbformat": 4,
 "nbformat_minor": 0
}
