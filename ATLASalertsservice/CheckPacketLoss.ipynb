{
 "cells": [
  {
   "cell_type": "markdown",
   "metadata": {},
   "source": [
    "# Check if the packet loss data is abnormal"
   ]
  },
  {
   "cell_type": "markdown",
   "metadata": {},
   "source": [
    "This notebook finds out all the links which have at least five packet loss measurements in the past one hour and the average value of the packet loss measurements is greater than 2%. It is run by a cron job every hour, and it will write the detailed information of every alarm into Elastic Search with the _index: alarms-year-month and _type: packetloss."
   ]
  },
  {
   "cell_type": "markdown",
   "metadata": {},
   "source": [
    "### import all the packages needed for this task"
   ]
  },
  {
   "cell_type": "code",
   "execution_count": 1,
   "metadata": {
    "collapsed": true
   },
   "outputs": [],
   "source": [
    "rom elasticsearch import Elasticsearch, exceptions as es_exceptions, helpers\n",
    "import sys\n",
    "import datetimef"
   ]
  },
  {
   "cell_type": "markdown",
   "metadata": {},
   "source": [
    "### If needed to calculate packet loss for other time moment than \"now\", overwrite it bellow"
   ]
  },
  {
   "cell_type": "code",
   "execution_count": 2,
   "metadata": {},
   "outputs": [
    {
     "name": "stdout",
     "output_type": "stream",
     "text": [
      "between:  20170121T060100+0000  and  20170121T090100+0000\n"
     ]
    }
   ],
   "source": [
    "cdt = datetime.datetime.utcnow()\n",
    "#cdt = datetime.datetime(2017,1,21,9,0,0)\n",
    "\n",
    "GT = (cdt - datetime.timedelta(hours=3)).strftime(\"%Y%m%dT%H%m%S+0000\")\n",
    "LT = cdt.strftime(\"%Y%m%dT%H%m%S+0000\")\n",
    "print('between: ', GT, ' and ', LT)"
   ]
  },
  {
   "cell_type": "markdown",
   "metadata": {},
   "source": [
    "### establish the Elastic Search connection"
   ]
  },
  {
   "cell_type": "code",
   "execution_count": 3,
   "metadata": {
    "collapsed": true
   },
   "outputs": [],
   "source": [
    "es = Elasticsearch(hosts=[{'host':'atlas-kibana.mwt2.org', 'port':9200}],timeout=60)"
   ]
  },
  {
   "cell_type": "markdown",
   "metadata": {},
   "source": [
    "### define functions to write an alarm record into ES with detailed info"
   ]
  },
  {
   "cell_type": "code",
   "execution_count": 4,
   "metadata": {},
   "outputs": [],
   "source": [
    "ipSite={}  # for mapping IP to Site name\n",
    "toAlertOn=[]\n",
    "\n",
    "def generate_doc(src_site_ip, dest_site_ip, measurements, avgpl):\n",
    "   if src_site_ip not in ipSite:\n",
    "        print('serious source mapping issue')\n",
    "        return\n",
    "   if dest_site_ip not in ipSite:\n",
    "        print('serious destination mapping issue')\n",
    "        return\n",
    "   \n",
    "   doc = {\n",
    "        '_index':get_index_name(),\n",
    "        '_type' : 'packetloss',\n",
    "        'src' : src_site_ip,\n",
    "        'dest' : dest_site_ip,\n",
    "        'srcSite' : ipSite[src_site_ip],\n",
    "        'destSite' : ipSite[dest_site_ip],\n",
    "        'alarmTime' : int( (cdt-datetime.datetime(1970,1,1) ).total_seconds() * 1000 ),\n",
    "        'measurements' : measurements,\n",
    "        'packetLossAvg' : avgpl\n",
    "   }\n",
    "   return doc\n",
    "\n",
    "def get_index_name():\n",
    "    date = cdt.strftime(\"%Y-%m\")   # date format is yyyy-mm\n",
    "    index_name = 'alarms-'+date\n",
    "    return index_name\n",
    "\n"
   ]
  },
  {
   "cell_type": "markdown",
   "metadata": {},
   "source": [
    "### list all network\\_weather* indices"
   ]
  },
  {
   "cell_type": "code",
   "execution_count": 5,
   "metadata": {
    "collapsed": true
   },
   "outputs": [],
   "source": [
    "indices = es.cat.indices(index=\"network_weather-*\", h=\"index\", request_timeout=600).split('\\n')\n",
    "indices = [x for x in indices if x != '']\n",
    "indices = [x.strip() for x in indices]\n",
    "#print(indices)"
   ]
  },
  {
   "cell_type": "markdown",
   "metadata": {},
   "source": [
    "### find indices to be used"
   ]
  },
  {
   "cell_type": "code",
   "execution_count": 6,
   "metadata": {},
   "outputs": [
    {
     "name": "stdout",
     "output_type": "stream",
     "text": [
      "will use indices: ['network_weather-2017.1.21', 'network_weather-2017.1.20']\n"
     ]
    }
   ],
   "source": [
    "# searching through last three indices as this simplifies utc issues\n",
    "pday  = cdt - datetime.timedelta(days=1)\n",
    "nday  = cdt + datetime.timedelta(days=1)\n",
    "ind1 = 'network_weather-%02d.%d.%d' % (cdt.year, cdt.month, cdt.day)\n",
    "ind2 = 'network_weather-%d.%d.%d' % (pday.year, pday.month, pday.day)\n",
    "ind3 = 'network_weather-%d.%d.%d' % (nday.year, nday.month, nday.day)\n",
    "\n",
    "ind=[]\n",
    "if ind1 in indices :\n",
    "   ind.append(ind1)\n",
    "\n",
    "if ind2 in indices:\n",
    "   ind.append(ind2)\n",
    "\n",
    "if ind3 in indices:\n",
    "   ind.append(ind3)\n",
    "\n",
    "if len(ind)==0:\n",
    "   print ('no current indices found. Aborting.')\n",
    "   sys.exit(1)\n",
    "else:\n",
    "   print('will use indices:', ind)"
   ]
  },
  {
   "cell_type": "markdown",
   "metadata": {},
   "source": [
    "### get aggregated data for the past 2 hours\n",
    "This query is composed of 3 parts: a) filter - takes only packet loss data, and production servers in last 1h. b) aggregation -  finds average packet loss per source and destination c) finds IP to site name mapping (both source and destination) "
   ]
  },
  {
   "cell_type": "code",
   "execution_count": 7,
   "metadata": {},
   "outputs": [],
   "source": [
    "query={\n",
    "   \"size\": 0,\n",
    "   \"query\": {\n",
    "    \"bool\": {\n",
    "      \"must\": [\n",
    "        {\"term\": { \"_type\" : \"packet_loss_rate\"}},\n",
    "        {\"term\": { \"srcProduction\" : True }},\n",
    "        {\"term\": { \"destProduction\" : True }}\n",
    "      ],\n",
    "      \"filter\" : {\n",
    "        \"range\" : {\n",
    "          \"timestamp\" :{ \"gt\" : GT, \"lt\" : LT }\n",
    "        }\n",
    "      }\n",
    "    }\n",
    "   },\n",
    "    \"aggs\" : {\n",
    "      \"src\" : {\n",
    "        \"terms\" : { \"field\" : \"src\", \"size\": 1000 },\n",
    "        \"aggs\" : {\n",
    "          \"dest\" : {\n",
    "            \"terms\" : {\"field\" : \"dest\", \"size\": 1000},\n",
    "            \"aggs\" : {\n",
    "              \"avgpl\" : {\n",
    "                \"avg\" :{\n",
    "                  \"field\" : \"packet_loss\"\n",
    "              }\n",
    "            }\n",
    "          }\n",
    "        }\n",
    "      }\n",
    "    },\n",
    "    \"srcSites\" : {\n",
    "      \"terms\" : { \"field\" : \"src\", \"size\": 1000 },\n",
    "        \"aggs\" : {\n",
    "          \"srcsitename\" : {\n",
    "            \"terms\" : { \"field\" : \"srcSite\" }\n",
    "        }\n",
    "      }\n",
    "    },\n",
    "    \"destSites\" : {\n",
    "      \"terms\" : { \"field\" : \"dest\", \"size\": 1000 },\n",
    "        \"aggs\" : {\n",
    "          \"destsitename\" : {\n",
    "            \"terms\" : { \"field\" : \"destSite\" }\n",
    "        }\n",
    "      }\n",
    "    }\n",
    "  }\n",
    "}\n",
    "\n",
    "#execute query\n",
    "res = es.search(index=ind, body=query, request_timeout=120)\n",
    "#print(res)"
   ]
  },
  {
   "cell_type": "markdown",
   "metadata": {},
   "source": [
    "### proces IP to site name mapping data"
   ]
  },
  {
   "cell_type": "code",
   "execution_count": 8,
   "metadata": {},
   "outputs": [
    {
     "name": "stdout",
     "output_type": "stream",
     "text": [
      "{'81.180.86.38': 'RO-02-NIPNE', '144.16.111.26': 'INDIACMS-TIFR', '192.101.107.152': 'UnknownSite', '130.246.176.109': 'RAL-LCG2', '193.48.99.76': 'IN2P3-CC', '131.225.2.47': 'UnknownSite', '152.84.101.141': 'UnknownSite', '194.85.69.75': 'ITEP', '64.57.30.143': 'UnknownSite', '134.158.150.245': 'IN2P3-IRES', '193.144.80.12': 'UnknownSite', '129.93.5.165': 'Nebraska', '192.170.227.160': 'MWT2', '146.83.90.7': 'EELA-UTFSM', '72.36.96.15': 'MWT2', '149.165.225.223': 'MWT2', '192.41.236.31': 'AGLT2', '193.60.193.3': 'UKI-SCOTGRID-DURHAM', '192.101.161.186': 'UnknownSite', '193.48.83.165': 'IN2P3-LPSC', '206.12.24.251': 'SFU-LCG2', '194.80.35.169': 'UKI-NORTHGRID-LANCS-HEP', '206.12.9.2': 'TRIUMF-LCG2', '193.109.172.188': 'pic', '143.215.129.69': 'UnknownSite', '198.124.80.201': 'UnknownSite', '132.230.202.235': 'UNI-FREIBURG', '144.92.180.75': 'GLOW', '192.108.47.12': 'FZK-LCG2', '194.190.165.192': 'RU-Protvino-IHEP', '148.6.8.251': 'BUDAPEST', '138.253.60.82': 'UKI-NORTHGRID-LIV-HEP', '134.158.132.200': 'GRIF', '134.79.118.72': 'WT2', '131.169.98.30': 'DESY-HH', '147.213.204.112': 'IEPSAS-Kosice', '129.15.40.231': 'OU_OCHEP_SWT2', '165.91.55.4': 'UnknownSite', '194.36.11.38': 'UKI-LT2-QMUL', '147.231.25.192': 'praguelcg2', '62.40.126.129': 'UnknownSite', '195.194.105.178': 'UKI-NORTHGRID-MAN-HEP', '148.187.64.25': 'CSCS-LCG2', '192.135.14.32': 'INFN-MILANO-ATLASC', '117.103.105.191': 'Taiwan-LCG2', '202.122.32.170': 'BEIJING-LCG2', '64.57.30.149': 'UnknownSite', '149.165.224.247': 'UnknownSite', '134.158.103.10': 'IN2P3-LAPP', '157.82.112.68': 'TOKYO-LCG2', '134.61.24.193': 'UnknownSite', '164.58.29.121': 'LUCILLE', '192.54.207.250': 'GRIF', '72.36.96.4': 'MWT2', '158.195.14.26': 'FMPhI-UNIBA', '193.206.93.45': 'UnknownSite', '206.12.154.60': 'CA-VICTORIA-WESTGRID-T2', '192.12.15.26': 'BNL-ATLAS', '193.136.75.146': 'NCG-INGRID-PT', '193.62.56.9': 'UKI-SOUTHGRID-BHAM-HEP', '163.1.5.210': 'UKI-SOUTHGRID-OX-HEP', '129.215.213.70': 'UKI-SCOTGRID-ECDF', '129.107.255.26': 'UnknownSite', '134.158.73.243': 'GRIF', '128.40.4.25': 'UKI-LT2-UCL-HEP', '192.114.101.125': 'TECHNION-HEP', '129.107.255.29': 'UTA_SWT2', '147.213.204.117': 'IEPSAS-Kosice', '134.158.123.183': 'IN2P3-LPC', '134.158.20.192': 'IN2P3-CPPM', '139.184.80.18': 'UKI-SOUTHGRID-SUSX', '159.93.229.151': 'JINR-T1', '144.206.237.142': 'RRC-KI', '131.225.205.12': 'UnknownSite', '147.156.116.40': 'IFIC-LCG2', '131.111.66.196': 'UKI-SOUTHGRID-CAM-HEP', '129.93.239.148': 'Nebraska', '134.158.159.85': 'GRIF', '109.105.125.232': 'FI_HIP_T2', '141.108.35.18': 'INFN-ROMA1', '144.206.236.189': 'RRC-KI-T1', '192.12.15.111': 'BNL-ATLAS', '128.142.223.247': 'CERN-PROD', '81.180.86.64': 'RO-07-NIPNE', '192.231.127.41': 'Australia-ATLAS', '128.211.143.3': 'UnknownSite', '200.136.80.20': 'SPRACE', '131.154.254.12': 'INFN-T1', '159.93.225.211': 'JINR-LCG2', '130.246.47.129': 'UKI-SOUTHGRID-RALPP', '145.100.17.8': 'SARA-MATRIX', '90.147.67.252': 'INFN-NAPOLI-ATLAS', '192.41.230.59': 'AGLT2', '192.170.227.163': 'UnknownSite', '192.41.230.61': 'UnknownSite', '128.227.221.44': 'UFlorida-HPC', '142.150.19.61': 'CA-SCINET-T2', '131.243.24.11': 'UnknownSite', '161.116.81.235': 'UnknownSite', '192.5.207.251': 'BU_ATLAS_Tier2', '130.209.239.124': 'UKI-SCOTGRID-GLASGOW', '18.12.1.171': 'UnknownSite', '193.205.76.76': 'UnknownSite', '141.34.200.28': 'DESY-ZN', '193.239.180.211': 'UnknownSite', '192.84.86.122': 'UnknownSite', '192.111.108.112': 'Vanderbilt', '169.228.130.40': 'UnknownSite', '192.41.236.35': 'UnknownSite', '202.13.203.129': 'UnknownSite', '134.219.225.13': 'UKI-LT2-RHUL', '193.140.98.8': 'TR-03-METU', '193.170.243.215': 'Hephy-Vienna', '200.17.30.135': 'UnknownSite', '150.244.247.2': 'UAM-LCG2', '137.222.74.15': 'UKI-SOUTHGRID-BRIS-HEP', '129.15.40.229': 'OU_OCHEP_SWT2'}\n"
     ]
    }
   ],
   "source": [
    "srcsites=res['aggregations']['srcSites']['buckets']\n",
    "#print(srcsites)\n",
    "for sS in srcsites:\n",
    "   #print(sS)\n",
    "   siteName=sS['srcsitename']['buckets']\n",
    "   if len(siteName)==0:\n",
    "      siteName='UnknownSite'\n",
    "   else:\n",
    "      siteName=siteName[0]['key']\n",
    "   ipSite[sS['key']]=siteName\n",
    "\n",
    "destsites=res['aggregations']['destSites']['buckets']\n",
    "#print(destsites)\n",
    "for dS in destsites:\n",
    "   #print(dS)\n",
    "   siteName=dS['destsitename']['buckets']\n",
    "   if len(siteName)==0:\n",
    "      siteName='UnknownSite'\n",
    "   else:\n",
    "      siteName=siteName[0]['key']\n",
    "   ipSite[dS['key']]=siteName\n",
    "\n",
    "print(ipSite)\n"
   ]
  },
  {
   "cell_type": "markdown",
   "metadata": {},
   "source": [
    "### process packet loss averages"
   ]
  },
  {
   "cell_type": "code",
   "execution_count": 9,
   "metadata": {},
   "outputs": [
    {
     "name": "stdout",
     "output_type": "stream",
     "text": [
      "{'src': '142.150.19.61', 'dest': '81.180.86.64', '_type': 'packetloss', 'destSite': 'RO-07-NIPNE', 'measurements': 86, 'srcSite': 'CA-SCINET-T2', 'packetLossAvg': 0.04788404398836022, 'alarmTime': 1484989200000, '_index': 'alarms-2017-01'}\n",
      "{'src': '142.150.19.61', 'dest': '145.100.17.8', '_type': 'packetloss', 'destSite': 'SARA-MATRIX', 'measurements': 43, 'srcSite': 'CA-SCINET-T2', 'packetLossAvg': 0.0408430234204198, 'alarmTime': 1484989200000, '_index': 'alarms-2017-01'}\n",
      "{'src': '142.150.19.61', 'dest': '131.169.98.30', '_type': 'packetloss', 'destSite': 'DESY-HH', 'measurements': 36, 'srcSite': 'CA-SCINET-T2', 'packetLossAvg': 0.04562114184308383, 'alarmTime': 1484989200000, '_index': 'alarms-2017-01'}\n",
      "{'src': '142.150.19.61', 'dest': '81.180.86.38', '_type': 'packetloss', 'destSite': 'RO-02-NIPNE', 'measurements': 36, 'srcSite': 'CA-SCINET-T2', 'packetLossAvg': 0.04639814885902322, 'alarmTime': 1484989200000, '_index': 'alarms-2017-01'}\n",
      "{'src': '206.12.154.60', 'dest': '141.108.35.18', '_type': 'packetloss', 'destSite': 'INFN-ROMA1', 'measurements': 36, 'srcSite': 'CA-VICTORIA-WESTGRID-T2', 'packetLossAvg': 0.958333334989018, 'alarmTime': 1484989200000, '_index': 'alarms-2017-01'}\n",
      "{'src': '206.12.154.60', 'dest': '141.34.200.28', '_type': 'packetloss', 'destSite': 'DESY-ZN', 'measurements': 36, 'srcSite': 'CA-VICTORIA-WESTGRID-T2', 'packetLossAvg': 0.047169752871721156, 'alarmTime': 1484989200000, '_index': 'alarms-2017-01'}\n",
      "{'src': '206.12.24.251', 'dest': '144.206.237.142', '_type': 'packetloss', 'destSite': 'RRC-KI', 'measurements': 36, 'srcSite': 'SFU-LCG2', 'packetLossAvg': 0.04812499994619025, 'alarmTime': 1484989200000, '_index': 'alarms-2017-01'}\n",
      "{'src': '206.12.24.251', 'dest': '192.108.47.12', '_type': 'packetloss', 'destSite': 'FZK-LCG2', 'measurements': 36, 'srcSite': 'SFU-LCG2', 'packetLossAvg': 0.0469938269816339, 'alarmTime': 1484989200000, '_index': 'alarms-2017-01'}\n",
      "{'src': '90.147.67.252', 'dest': '161.116.81.235', '_type': 'packetloss', 'destSite': 'UnknownSite', 'measurements': 45, 'srcSite': 'INFN-NAPOLI-ATLAS', 'packetLossAvg': 1.0, 'alarmTime': 1484989200000, '_index': 'alarms-2017-01'}\n",
      "{'src': '194.190.165.192', 'dest': '161.116.81.235', '_type': 'packetloss', 'destSite': 'UnknownSite', 'measurements': 36, 'srcSite': 'RU-Protvino-IHEP', 'packetLossAvg': 1.0, 'alarmTime': 1484989200000, '_index': 'alarms-2017-01'}\n",
      "{'src': '147.213.204.112', 'dest': '141.108.35.18', '_type': 'packetloss', 'destSite': 'INFN-ROMA1', 'measurements': 36, 'srcSite': 'IEPSAS-Kosice', 'packetLossAvg': 0.9388981511195501, 'alarmTime': 1484989200000, '_index': 'alarms-2017-01'}\n",
      "{'src': '193.144.80.12', 'dest': '161.116.81.235', '_type': 'packetloss', 'destSite': 'UnknownSite', 'measurements': 36, 'srcSite': 'UnknownSite', 'packetLossAvg': 1.0, 'alarmTime': 1484989200000, '_index': 'alarms-2017-01'}\n",
      "{'src': '193.48.99.76', 'dest': '161.116.81.235', '_type': 'packetloss', 'destSite': 'UnknownSite', 'measurements': 36, 'srcSite': 'IN2P3-CC', 'packetLossAvg': 1.0, 'alarmTime': 1484989200000, '_index': 'alarms-2017-01'}\n",
      "{'src': '148.187.64.25', 'dest': '161.116.81.235', '_type': 'packetloss', 'destSite': 'UnknownSite', 'measurements': 74, 'srcSite': 'CSCS-LCG2', 'packetLossAvg': 1.0, 'alarmTime': 1484989200000, '_index': 'alarms-2017-01'}\n",
      "{'src': '148.187.64.25', 'dest': '141.108.35.18', '_type': 'packetloss', 'destSite': 'INFN-ROMA1', 'measurements': 36, 'srcSite': 'CSCS-LCG2', 'packetLossAvg': 0.8986111167404387, 'alarmTime': 1484989200000, '_index': 'alarms-2017-01'}\n",
      "{'src': '130.246.47.129', 'dest': '141.108.35.18', '_type': 'packetloss', 'destSite': 'INFN-ROMA1', 'measurements': 36, 'srcSite': 'UKI-SOUTHGRID-RALPP', 'packetLossAvg': 0.9541666689846251, 'alarmTime': 1484989200000, '_index': 'alarms-2017-01'}\n",
      "{'src': '163.1.5.210', 'dest': '141.108.35.18', '_type': 'packetloss', 'destSite': 'INFN-ROMA1', 'measurements': 36, 'srcSite': 'UKI-SOUTHGRID-OX-HEP', 'packetLossAvg': 0.9486111137602065, 'alarmTime': 1484989200000, '_index': 'alarms-2017-01'}\n",
      "{'src': '131.154.254.12', 'dest': '161.116.81.235', '_type': 'packetloss', 'destSite': 'UnknownSite', 'measurements': 36, 'srcSite': 'INFN-T1', 'packetLossAvg': 1.0, 'alarmTime': 1484989200000, '_index': 'alarms-2017-01'}\n",
      "{'src': '130.246.176.109', 'dest': '141.108.35.18', '_type': 'packetloss', 'destSite': 'INFN-ROMA1', 'measurements': 48, 'srcSite': 'RAL-LCG2', 'packetLossAvg': 0.9208235926926136, 'alarmTime': 1484989200000, '_index': 'alarms-2017-01'}\n",
      "{'src': '129.215.213.70', 'dest': '141.108.35.18', '_type': 'packetloss', 'destSite': 'INFN-ROMA1', 'measurements': 36, 'srcSite': 'UKI-SCOTGRID-ECDF', 'packetLossAvg': 0.941666669315762, 'alarmTime': 1484989200000, '_index': 'alarms-2017-01'}\n",
      "{'src': '145.100.17.8', 'dest': '161.116.81.235', '_type': 'packetloss', 'destSite': 'UnknownSite', 'measurements': 36, 'srcSite': 'SARA-MATRIX', 'packetLossAvg': 1.0, 'alarmTime': 1484989200000, '_index': 'alarms-2017-01'}\n",
      "{'src': '131.111.66.196', 'dest': '141.108.35.18', '_type': 'packetloss', 'destSite': 'INFN-ROMA1', 'measurements': 36, 'srcSite': 'UKI-SOUTHGRID-CAM-HEP', 'packetLossAvg': 0.907407412926356, 'alarmTime': 1484989200000, '_index': 'alarms-2017-01'}\n",
      "{'src': '195.194.105.178', 'dest': '161.116.81.235', '_type': 'packetloss', 'destSite': 'UnknownSite', 'measurements': 36, 'srcSite': 'UKI-NORTHGRID-MAN-HEP', 'packetLossAvg': 1.0, 'alarmTime': 1484989200000, '_index': 'alarms-2017-01'}\n",
      "{'src': '192.135.14.32', 'dest': '132.230.202.235', '_type': 'packetloss', 'destSite': 'UNI-FREIBURG', 'measurements': 36, 'srcSite': 'INFN-MILANO-ATLASC', 'packetLossAvg': 0.8138981544309192, 'alarmTime': 1484989200000, '_index': 'alarms-2017-01'}\n",
      "{'src': '192.135.14.32', 'dest': '161.116.81.235', '_type': 'packetloss', 'destSite': 'UnknownSite', 'measurements': 36, 'srcSite': 'INFN-MILANO-ATLASC', 'packetLossAvg': 1.0, 'alarmTime': 1484989200000, '_index': 'alarms-2017-01'}\n",
      "{'src': '192.135.14.32', 'dest': '193.136.75.146', '_type': 'packetloss', 'destSite': 'NCG-INGRID-PT', 'measurements': 36, 'srcSite': 'INFN-MILANO-ATLASC', 'packetLossAvg': 0.849074082242118, 'alarmTime': 1484989200000, '_index': 'alarms-2017-01'}\n",
      "{'src': '132.230.202.235', 'dest': '161.116.81.235', '_type': 'packetloss', 'destSite': 'UnknownSite', 'measurements': 36, 'srcSite': 'UNI-FREIBURG', 'packetLossAvg': 1.0, 'alarmTime': 1484989200000, '_index': 'alarms-2017-01'}\n",
      "{'src': '132.230.202.235', 'dest': '193.136.75.146', '_type': 'packetloss', 'destSite': 'NCG-INGRID-PT', 'measurements': 36, 'srcSite': 'UNI-FREIBURG', 'packetLossAvg': 0.8037129698528184, 'alarmTime': 1484989200000, '_index': 'alarms-2017-01'}\n",
      "{'src': '134.158.150.245', 'dest': '132.230.202.235', '_type': 'packetloss', 'destSite': 'UNI-FREIBURG', 'measurements': 36, 'srcSite': 'IN2P3-IRES', 'packetLossAvg': 0.8430555615988042, 'alarmTime': 1484989200000, '_index': 'alarms-2017-01'}\n",
      "{'src': '134.158.150.245', 'dest': '161.116.81.235', '_type': 'packetloss', 'destSite': 'UnknownSite', 'measurements': 36, 'srcSite': 'IN2P3-IRES', 'packetLossAvg': 1.0, 'alarmTime': 1484989200000, '_index': 'alarms-2017-01'}\n",
      "{'src': '134.158.150.245', 'dest': '193.136.75.146', '_type': 'packetloss', 'destSite': 'NCG-INGRID-PT', 'measurements': 36, 'srcSite': 'IN2P3-IRES', 'packetLossAvg': 0.8212963044643402, 'alarmTime': 1484989200000, '_index': 'alarms-2017-01'}\n",
      "{'src': '134.61.24.193', 'dest': '132.230.202.235', '_type': 'packetloss', 'destSite': 'UNI-FREIBURG', 'measurements': 36, 'srcSite': 'UnknownSite', 'packetLossAvg': 0.8263888955116272, 'alarmTime': 1484989200000, '_index': 'alarms-2017-01'}\n",
      "{'src': '134.61.24.193', 'dest': '161.116.81.235', '_type': 'packetloss', 'destSite': 'UnknownSite', 'measurements': 36, 'srcSite': 'UnknownSite', 'packetLossAvg': 1.0, 'alarmTime': 1484989200000, '_index': 'alarms-2017-01'}\n",
      "{'src': '134.61.24.193', 'dest': '193.136.75.146', '_type': 'packetloss', 'destSite': 'NCG-INGRID-PT', 'measurements': 36, 'srcSite': 'UnknownSite', 'packetLossAvg': 0.854629635810852, 'alarmTime': 1484989200000, '_index': 'alarms-2017-01'}\n",
      "{'src': '134.219.225.13', 'dest': '132.230.202.235', '_type': 'packetloss', 'destSite': 'UNI-FREIBURG', 'measurements': 36, 'srcSite': 'UKI-LT2-RHUL', 'packetLossAvg': 0.8708333406183455, 'alarmTime': 1484989200000, '_index': 'alarms-2017-01'}\n"
     ]
    }
   ],
   "source": [
    "src=res['aggregations']['src']['buckets']\n",
    "#print(src)\n",
    "\n",
    "for s in src:\n",
    "   #print(s)\n",
    "   source=s['key']\n",
    "   for d in s['dest']['buckets']:\n",
    "      destination=d['key']\n",
    "      avgpl=d['avgpl']['value']\n",
    "      docs=d['doc_count']\n",
    "#      print(source, destination, docs, avgpl)\n",
    "      if avgpl > 0.02 and docs > 4:\n",
    "         toAlertOn.append(generate_doc(source, destination, docs, avgpl))\n",
    "\n",
    "for alert in toAlertOn:\n",
    "   print(alert)"
   ]
  },
  {
   "cell_type": "markdown",
   "metadata": {},
   "source": [
    "### write alarms to Elasticsearch"
   ]
  },
  {
   "cell_type": "code",
   "execution_count": 10,
   "metadata": {},
   "outputs": [
    {
     "name": "stdout",
     "output_type": "stream",
     "text": [
      "inserted: 35 \tErrors: []\n"
     ]
    }
   ],
   "source": [
    "try:\n",
    "   res = helpers.bulk(es, toAlertOn, raise_on_exception=True,request_timeout=60)\n",
    "   print(\"inserted:\",res[0], '\\tErrors:',res[1])\n",
    "except es_exceptions.ConnectionError as e:\n",
    "   print('ConnectionError ', e)\n",
    "except es_exceptions.TransportError as e:\n",
    "   print('TransportError ', e)\n",
    "except helpers.BulkIndexError as e:\n",
    "   print(e[0])\n",
    "   for i in e[1]:\n",
    "      print(i)\n",
    "except:\n",
    "   print('Something seriously wrong happened.')"
   ]
  },
  {
   "cell_type": "code",
   "execution_count": null,
   "metadata": {
    "collapsed": true
   },
   "outputs": [],
   "source": []
  }
 ],
 "metadata": {
  "kernelspec": {
   "display_name": "Python 3",
   "language": "python",
   "name": "python3"
  },
  "language_info": {
   "codemirror_mode": {
    "name": "ipython",
    "version": 3
   },
   "file_extension": ".py",
   "mimetype": "text/x-python",
   "name": "python",
   "nbconvert_exporter": "python",
   "pygments_lexer": "ipython3",
   "version": "3.4.5"
  }
 },
 "nbformat": 4,
 "nbformat_minor": 1
}
