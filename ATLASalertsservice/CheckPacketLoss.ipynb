{
 "cells": [
  {
   "cell_type": "markdown",
   "metadata": {},
   "source": [
    "# Check if the packet loss data is abnormal"
   ]
  },
  {
   "cell_type": "markdown",
   "metadata": {},
   "source": [
    "This notebook finds out all the links which have at least five packet loss measurements in the past one hour and the average value of the packet loss measurements is greater than 2%. It is run by a cron job every hour, and it will write the detailed information of every alarm into Elastic Search with the _index: alarms-year-month and _type: packetloss."
   ]
  },
  {
   "cell_type": "markdown",
   "metadata": {},
   "source": [
    "### import all the packages needed for this task"
   ]
  },
  {
   "cell_type": "code",
   "execution_count": 1,
   "metadata": {},
   "outputs": [],
   "source": [
    "from elasticsearch import Elasticsearch, exceptions as es_exceptions, helpers\n",
    "import sys\n",
    "import datetime"
   ]
  },
  {
   "cell_type": "markdown",
   "metadata": {},
   "source": [
    "### If needed to calculate packet loss for other time moment than \"now\", overwrite it bellow"
   ]
  },
  {
   "cell_type": "code",
   "execution_count": 2,
   "metadata": {},
   "outputs": [
    {
     "name": "stdout",
     "output_type": "stream",
     "text": [
      "between:  20180320T010316+0000  and  20180320T040316+0000\n"
     ]
    }
   ],
   "source": [
    "cdt = datetime.datetime.utcnow()\n",
    "#cdt = datetime.datetime(2017,1,21,9,0,0)\n",
    "\n",
    "GT = (cdt - datetime.timedelta(hours=3)).strftime(\"%Y%m%dT%H%m%S+0000\")\n",
    "LT = cdt.strftime(\"%Y%m%dT%H%m%S+0000\")\n",
    "print('between: ', GT, ' and ', LT)"
   ]
  },
  {
   "cell_type": "markdown",
   "metadata": {},
   "source": [
    "### establish the Elastic Search connection"
   ]
  },
  {
   "cell_type": "code",
   "execution_count": 3,
   "metadata": {
    "collapsed": true
   },
   "outputs": [],
   "source": [
    "es = Elasticsearch(hosts=[{'host':'atlas-kibana.mwt2.org', 'port':9200}],timeout=60)"
   ]
  },
  {
   "cell_type": "markdown",
   "metadata": {},
   "source": [
    "### define functions to write an alarm record into ES with detailed info"
   ]
  },
  {
   "cell_type": "code",
   "execution_count": 4,
   "metadata": {
    "collapsed": true
   },
   "outputs": [],
   "source": [
    "ipSite={}  # for mapping IP to Site name\n",
    "toAlertOn=[]\n",
    "\n",
    "def generate_doc(src_site_ip, dest_site_ip, measurements, avgpl):\n",
    "   if src_site_ip not in ipSite:\n",
    "        print('serious source mapping issue')\n",
    "        return\n",
    "   if dest_site_ip not in ipSite:\n",
    "        print('serious destination mapping issue')\n",
    "        return\n",
    "   \n",
    "   doc = {\n",
    "        '_index':get_index_name(),\n",
    "        '_type' : 'doc',\n",
    "        'type' : 'packetloss',\n",
    "        'src' : src_site_ip,\n",
    "        'dest' : dest_site_ip,\n",
    "        'srcSite' : ipSite[src_site_ip],\n",
    "        'destSite' : ipSite[dest_site_ip],\n",
    "        'alarmTime' : int( (cdt-datetime.datetime(1970,1,1) ).total_seconds() * 1000 ),\n",
    "        'measurements' : measurements,\n",
    "        'packetLossAvg' : avgpl\n",
    "   }\n",
    "   return doc\n",
    "\n",
    "def get_index_name():\n",
    "    date = cdt.strftime(\"%Y-%m\")   # date format is yyyy-mm\n",
    "    index_name = 'alarms-'+date\n",
    "    return index_name\n",
    "\n"
   ]
  },
  {
   "cell_type": "markdown",
   "metadata": {},
   "source": [
    "### get aggregated data for the past 2 hours\n",
    "This query is composed of 3 parts: a) filter - takes only packet loss data, and production servers in last 1h. b) aggregation -  finds average packet loss per source and destination c) finds IP to site name mapping (both source and destination) "
   ]
  },
  {
   "cell_type": "code",
   "execution_count": 5,
   "metadata": {},
   "outputs": [],
   "source": [
    "query={\n",
    "   \"size\": 0,\n",
    "   \"query\": {\n",
    "    \"bool\": {\n",
    "      \"must\": [\n",
    "        {\"term\": { \"src_production\" : True }},\n",
    "        {\"term\": { \"dest_production\" : True }}\n",
    "      ],\n",
    "      \"filter\" : {\n",
    "        \"range\" : {\n",
    "          \"timestamp\" :{ \"gt\" : GT, \"lt\" : LT }\n",
    "        }\n",
    "      }\n",
    "    }\n",
    "   },\n",
    "    \"aggs\" : {\n",
    "      \"src\" : {\n",
    "        \"terms\" : { \"field\" : \"src\", \"size\": 1000 },\n",
    "        \"aggs\" : {\n",
    "          \"dest\" : {\n",
    "            \"terms\" : {\"field\" : \"dest\", \"size\": 1000},\n",
    "            \"aggs\" : {\n",
    "              \"avgpl\" : {\n",
    "                \"avg\" :{\n",
    "                  \"field\" : \"packet_loss\"\n",
    "              }\n",
    "            }\n",
    "          }\n",
    "        }\n",
    "      }\n",
    "    },\n",
    "    \"srcSites\" : {\n",
    "      \"terms\" : { \"field\" : \"src\", \"size\": 1000 },\n",
    "        \"aggs\" : {\n",
    "          \"srcsitename\" : {\n",
    "            \"terms\" : { \"field\" : \"src_site\" }\n",
    "        }\n",
    "      }\n",
    "    },\n",
    "    \"destSites\" : {\n",
    "      \"terms\" : { \"field\" : \"dest\", \"size\": 1000 },\n",
    "        \"aggs\" : {\n",
    "          \"destsitename\" : {\n",
    "            \"terms\" : { \"field\" : \"dest_site\" }\n",
    "        }\n",
    "      }\n",
    "    }\n",
    "  }\n",
    "}\n",
    "\n",
    "#execute query\n",
    "res = es.search(index=\"ps_packet_loss\", body=query, request_timeout=120)\n",
    "#print(res)"
   ]
  },
  {
   "cell_type": "markdown",
   "metadata": {},
   "source": [
    "### proces IP to site name mapping data"
   ]
  },
  {
   "cell_type": "code",
   "execution_count": 6,
   "metadata": {},
   "outputs": [
    {
     "name": "stdout",
     "output_type": "stream",
     "text": [
      "[{'doc_count': 17101, 'srcsitename': {'sum_other_doc_count': 0, 'buckets': [{'doc_count': 17101, 'key': 'INFN-NAPOLI-ATLAS'}], 'doc_count_error_upper_bound': 0}, 'key': '90.147.67.252'}, {'doc_count': 14897, 'srcsitename': {'sum_other_doc_count': 0, 'buckets': [{'doc_count': 14897, 'key': 'UKI-SCOTGRID-GLASGOW'}], 'doc_count_error_upper_bound': 0}, 'key': '130.209.239.124'}, {'doc_count': 14368, 'srcsitename': {'sum_other_doc_count': 0, 'buckets': [{'doc_count': 14368, 'key': 'RAL-LCG2'}], 'doc_count_error_upper_bound': 0}, 'key': '130.246.176.109'}, {'doc_count': 14150, 'srcsitename': {'sum_other_doc_count': 0, 'buckets': [{'doc_count': 14150, 'key': 'DESY-HH'}], 'doc_count_error_upper_bound': 0}, 'key': '131.169.98.30'}, {'doc_count': 13966, 'srcsitename': {'sum_other_doc_count': 0, 'buckets': [{'doc_count': 13966, 'key': 'IN2P3-CC'}], 'doc_count_error_upper_bound': 0}, 'key': '193.48.99.76'}, {'doc_count': 13411, 'srcsitename': {'sum_other_doc_count': 0, 'buckets': [{'doc_count': 13411, 'key': 'CERN-PROD'}], 'doc_count_error_upper_bound': 0}, 'key': '128.142.223.247'}, {'doc_count': 13387, 'srcsitename': {'sum_other_doc_count': 0, 'buckets': [{'doc_count': 13387, 'key': 'UKI-NORTHGRID-LIV-HEP'}], 'doc_count_error_upper_bound': 0}, 'key': '138.253.60.82'}, {'doc_count': 12896, 'srcsitename': {'sum_other_doc_count': 0, 'buckets': [{'doc_count': 12896, 'key': 'CA-SFU-T2'}], 'doc_count_error_upper_bound': 0}, 'key': '206.12.127.30'}, {'doc_count': 12528, 'srcsitename': {'sum_other_doc_count': 0, 'buckets': [{'doc_count': 12528, 'key': 'GRIF'}], 'doc_count_error_upper_bound': 0}, 'key': '134.158.159.85'}, {'doc_count': 12358, 'srcsitename': {'sum_other_doc_count': 0, 'buckets': [{'doc_count': 12358, 'key': 'RO-07-NIPNE'}], 'doc_count_error_upper_bound': 0}, 'key': '81.180.86.64'}, {'doc_count': 12198, 'srcsitename': {'sum_other_doc_count': 0, 'buckets': [{'doc_count': 12198, 'key': 'RU-Protvino-IHEP'}], 'doc_count_error_upper_bound': 0}, 'key': '194.190.165.192'}, {'doc_count': 12117, 'srcsitename': {'sum_other_doc_count': 0, 'buckets': [{'doc_count': 12117, 'key': 'UKI-LT2-QMUL'}], 'doc_count_error_upper_bound': 0}, 'key': '194.36.11.38'}, {'doc_count': 12015, 'srcsitename': {'sum_other_doc_count': 0, 'buckets': [{'doc_count': 12015, 'key': 'GRIF'}], 'doc_count_error_upper_bound': 0}, 'key': '192.54.207.250'}, {'doc_count': 11843, 'srcsitename': {'sum_other_doc_count': 0, 'buckets': [{'doc_count': 11843, 'key': 'MWT2'}], 'doc_count_error_upper_bound': 0}, 'key': '149.165.225.223'}, {'doc_count': 11829, 'srcsitename': {'sum_other_doc_count': 0, 'buckets': [{'doc_count': 11829, 'key': 'MWT2'}], 'doc_count_error_upper_bound': 0}, 'key': '72.36.96.4'}, {'doc_count': 11583, 'srcsitename': {'sum_other_doc_count': 0, 'buckets': [{'doc_count': 11583, 'key': 'pic'}], 'doc_count_error_upper_bound': 0}, 'key': '193.109.172.188'}, {'doc_count': 11573, 'srcsitename': {'sum_other_doc_count': 0, 'buckets': [{'doc_count': 11573, 'key': 'UKI-SCOTGRID-ECDF'}], 'doc_count_error_upper_bound': 0}, 'key': '129.215.213.70'}, {'doc_count': 11551, 'srcsitename': {'sum_other_doc_count': 0, 'buckets': [{'doc_count': 11551, 'key': 'INFN-T1'}], 'doc_count_error_upper_bound': 0}, 'key': '131.154.254.12'}, {'doc_count': 11522, 'srcsitename': {'sum_other_doc_count': 0, 'buckets': [{'doc_count': 11522, 'key': 'GRIF'}], 'doc_count_error_upper_bound': 0}, 'key': '134.158.132.200'}, {'doc_count': 11377, 'srcsitename': {'sum_other_doc_count': 0, 'buckets': [{'doc_count': 11377, 'key': 'UKI-SOUTHGRID-CAM-HEP'}], 'doc_count_error_upper_bound': 0}, 'key': '131.111.66.196'}, {'doc_count': 11361, 'srcsitename': {'sum_other_doc_count': 0, 'buckets': [{'doc_count': 11361, 'key': 'UKI-SOUTHGRID-OX-HEP'}], 'doc_count_error_upper_bound': 0}, 'key': '163.1.5.210'}, {'doc_count': 11259, 'srcsitename': {'sum_other_doc_count': 0, 'buckets': [{'doc_count': 11259, 'key': 'BNL-ATLAS'}], 'doc_count_error_upper_bound': 0}, 'key': '192.12.15.26'}, {'doc_count': 10975, 'srcsitename': {'sum_other_doc_count': 0, 'buckets': [{'doc_count': 10975, 'key': 'BEIJING-LCG2'}], 'doc_count_error_upper_bound': 0}, 'key': '202.122.32.170'}, {'doc_count': 10900, 'srcsitename': {'sum_other_doc_count': 0, 'buckets': [{'doc_count': 10900, 'key': 'UKI-LT2-RHUL'}], 'doc_count_error_upper_bound': 0}, 'key': '134.219.225.13'}, {'doc_count': 10851, 'srcsitename': {'sum_other_doc_count': 0, 'buckets': [{'doc_count': 10851, 'key': 'DESY-ZN'}], 'doc_count_error_upper_bound': 0}, 'key': '141.34.200.28'}, {'doc_count': 10794, 'srcsitename': {'sum_other_doc_count': 0, 'buckets': [{'doc_count': 10794, 'key': 'CSCS-LCG2'}], 'doc_count_error_upper_bound': 0}, 'key': '148.187.64.25'}, {'doc_count': 10741, 'srcsitename': {'sum_other_doc_count': 0, 'buckets': [{'doc_count': 10741, 'key': 'UKI-NORTHGRID-MAN-HEP'}], 'doc_count_error_upper_bound': 0}, 'key': '195.194.105.178'}, {'doc_count': 10427, 'srcsitename': {'sum_other_doc_count': 0, 'buckets': [{'doc_count': 10427, 'key': 'TECHNION-HEP'}], 'doc_count_error_upper_bound': 0}, 'key': '192.114.101.125'}, {'doc_count': 10139, 'srcsitename': {'sum_other_doc_count': 0, 'buckets': [{'doc_count': 10139, 'key': 'AGLT2'}], 'doc_count_error_upper_bound': 0}, 'key': '192.41.236.31'}, {'doc_count': 9765, 'srcsitename': {'sum_other_doc_count': 0, 'buckets': [{'doc_count': 9765, 'key': 'BU_ATLAS_Tier2'}], 'doc_count_error_upper_bound': 0}, 'key': '192.5.207.251'}, {'doc_count': 9732, 'srcsitename': {'sum_other_doc_count': 0, 'buckets': [{'doc_count': 9732, 'key': 'UTA_SWT2'}], 'doc_count_error_upper_bound': 0}, 'key': '129.107.255.29'}, {'doc_count': 9691, 'srcsitename': {'sum_other_doc_count': 0, 'buckets': [{'doc_count': 9691, 'key': 'IN2P3-CPPM'}], 'doc_count_error_upper_bound': 0}, 'key': '134.158.20.192'}, {'doc_count': 9297, 'srcsitename': {'sum_other_doc_count': 0, 'buckets': [{'doc_count': 9297, 'key': 'IN2P3-LPC'}], 'doc_count_error_upper_bound': 0}, 'key': '134.158.123.183'}, {'doc_count': 9256, 'srcsitename': {'sum_other_doc_count': 0, 'buckets': [{'doc_count': 9256, 'key': 'Australia-ATLAS'}], 'doc_count_error_upper_bound': 0}, 'key': '192.231.127.41'}, {'doc_count': 9076, 'srcsitename': {'sum_other_doc_count': 0, 'buckets': [{'doc_count': 9076, 'key': 'CA-SCINET-T2'}], 'doc_count_error_upper_bound': 0}, 'key': '142.150.19.61'}, {'doc_count': 8723, 'srcsitename': {'sum_other_doc_count': 0, 'buckets': [{'doc_count': 8723, 'key': 'NDGF-T1'}], 'doc_count_error_upper_bound': 0}, 'key': '109.105.124.86'}, {'doc_count': 8527, 'srcsitename': {'sum_other_doc_count': 0, 'buckets': [{'doc_count': 8527, 'key': 'CA-VICTORIA-WESTGRID-T2'}], 'doc_count_error_upper_bound': 0}, 'key': '206.12.154.60'}, {'doc_count': 8315, 'srcsitename': {'sum_other_doc_count': 0, 'buckets': [{'doc_count': 8315, 'key': 'UAM-LCG2'}], 'doc_count_error_upper_bound': 0}, 'key': '150.244.246.85'}, {'doc_count': 8056, 'srcsitename': {'sum_other_doc_count': 0, 'buckets': [{'doc_count': 8056, 'key': 'CA-WATERLOO-T2'}], 'doc_count_error_upper_bound': 0}, 'key': '199.241.165.66'}, {'doc_count': 7858, 'srcsitename': {'sum_other_doc_count': 0, 'buckets': [{'doc_count': 7858, 'key': 'Nebraska'}], 'doc_count_error_upper_bound': 0}, 'key': '129.93.183.249'}, {'doc_count': 7604, 'srcsitename': {'sum_other_doc_count': 0, 'buckets': [{'doc_count': 7604, 'key': 'UKI-SCOTGRID-DURHAM'}], 'doc_count_error_upper_bound': 0}, 'key': '193.60.193.3'}, {'doc_count': 7419, 'srcsitename': {'sum_other_doc_count': 0, 'buckets': [{'doc_count': 7419, 'key': 'TR-03-METU'}], 'doc_count_error_upper_bound': 0}, 'key': '193.140.98.8'}, {'doc_count': 7346, 'srcsitename': {'sum_other_doc_count': 0, 'buckets': [], 'doc_count_error_upper_bound': 0}, 'key': '192.68.51.219'}, {'doc_count': 7134, 'srcsitename': {'sum_other_doc_count': 0, 'buckets': [], 'doc_count_error_upper_bound': 0}, 'key': '152.84.101.141'}, {'doc_count': 6381, 'srcsitename': {'sum_other_doc_count': 0, 'buckets': [{'doc_count': 6381, 'key': 'Vanderbilt'}], 'doc_count_error_upper_bound': 0}, 'key': '192.111.108.112'}, {'doc_count': 6189, 'srcsitename': {'sum_other_doc_count': 0, 'buckets': [], 'doc_count_error_upper_bound': 0}, 'key': '131.225.205.12'}, {'doc_count': 6179, 'srcsitename': {'sum_other_doc_count': 0, 'buckets': [], 'doc_count_error_upper_bound': 0}, 'key': '193.239.180.211'}, {'doc_count': 6157, 'srcsitename': {'sum_other_doc_count': 0, 'buckets': [], 'doc_count_error_upper_bound': 0}, 'key': '18.12.1.171'}, {'doc_count': 6044, 'srcsitename': {'sum_other_doc_count': 0, 'buckets': [], 'doc_count_error_upper_bound': 0}, 'key': '193.144.80.12'}, {'doc_count': 5442, 'srcsitename': {'sum_other_doc_count': 0, 'buckets': [{'doc_count': 5442, 'key': 'RO-16-UAIC'}], 'doc_count_error_upper_bound': 0}, 'key': '85.122.31.120'}, {'doc_count': 5155, 'srcsitename': {'sum_other_doc_count': 0, 'buckets': [{'doc_count': 5155, 'key': 'UFlorida-HPC'}], 'doc_count_error_upper_bound': 0}, 'key': '128.227.221.44'}, {'doc_count': 5052, 'srcsitename': {'sum_other_doc_count': 0, 'buckets': [{'doc_count': 5052, 'key': 'GLOW'}], 'doc_count_error_upper_bound': 0}, 'key': '144.92.180.75'}, {'doc_count': 4764, 'srcsitename': {'sum_other_doc_count': 0, 'buckets': [{'doc_count': 4764, 'key': 'JINR-T1'}], 'doc_count_error_upper_bound': 0}, 'key': '159.93.229.151'}, {'doc_count': 4697, 'srcsitename': {'sum_other_doc_count': 0, 'buckets': [{'doc_count': 4697, 'key': 'SPRACE'}], 'doc_count_error_upper_bound': 0}, 'key': '200.136.80.20'}, {'doc_count': 4552, 'srcsitename': {'sum_other_doc_count': 0, 'buckets': [{'doc_count': 4552, 'key': 'FI_HIP_T2'}], 'doc_count_error_upper_bound': 0}, 'key': '109.105.125.232'}, {'doc_count': 2603, 'srcsitename': {'sum_other_doc_count': 0, 'buckets': [{'doc_count': 2603, 'key': 'Nebraska'}], 'doc_count_error_upper_bound': 0}, 'key': '129.93.5.165'}, {'doc_count': 2603, 'srcsitename': {'sum_other_doc_count': 0, 'buckets': [], 'doc_count_error_upper_bound': 0}, 'key': '149.165.224.247'}, {'doc_count': 2547, 'srcsitename': {'sum_other_doc_count': 0, 'buckets': [{'doc_count': 2547, 'key': 'IEPSAS-Kosice'}], 'doc_count_error_upper_bound': 0}, 'key': '147.213.204.112'}, {'doc_count': 2516, 'srcsitename': {'sum_other_doc_count': 0, 'buckets': [], 'doc_count_error_upper_bound': 0}, 'key': '192.170.227.163'}, {'doc_count': 2449, 'srcsitename': {'sum_other_doc_count': 0, 'buckets': [{'doc_count': 2449, 'key': 'Taiwan-LCG2'}], 'doc_count_error_upper_bound': 0}, 'key': '117.103.105.191'}, {'doc_count': 2333, 'srcsitename': {'sum_other_doc_count': 0, 'buckets': [{'doc_count': 2333, 'key': 'BNL-ATLAS'}], 'doc_count_error_upper_bound': 0}, 'key': '192.12.15.111'}, {'doc_count': 2315, 'srcsitename': {'sum_other_doc_count': 0, 'buckets': [], 'doc_count_error_upper_bound': 0}, 'key': '129.107.255.26'}, {'doc_count': 2173, 'srcsitename': {'sum_other_doc_count': 0, 'buckets': [{'doc_count': 2173, 'key': 'UKI-SOUTHGRID-BHAM-HEP'}], 'doc_count_error_upper_bound': 0}, 'key': '193.62.56.9'}, {'doc_count': 2168, 'srcsitename': {'sum_other_doc_count': 0, 'buckets': [{'doc_count': 2168, 'key': 'INFN-NAPOLI-ATLAS'}], 'doc_count_error_upper_bound': 0}, 'key': '2001:760:422a:137::252'}, {'doc_count': 2158, 'srcsitename': {'sum_other_doc_count': 0, 'buckets': [{'doc_count': 2158, 'key': 'UKI-SOUTHGRID-SUSX'}], 'doc_count_error_upper_bound': 0}, 'key': '139.184.80.18'}, {'doc_count': 2143, 'srcsitename': {'sum_other_doc_count': 0, 'buckets': [], 'doc_count_error_upper_bound': 0}, 'key': '192.41.230.61'}, {'doc_count': 2118, 'srcsitename': {'sum_other_doc_count': 0, 'buckets': [{'doc_count': 2118, 'key': 'UKI-LT2-UCL-HEP'}], 'doc_count_error_upper_bound': 0}, 'key': '128.40.4.25'}, {'doc_count': 2098, 'srcsitename': {'sum_other_doc_count': 0, 'buckets': [{'doc_count': 2098, 'key': 'DESY-HH'}], 'doc_count_error_upper_bound': 0}, 'key': '2001:638:700:1062::1:1e'}, {'doc_count': 2085, 'srcsitename': {'sum_other_doc_count': 0, 'buckets': [], 'doc_count_error_upper_bound': 0}, 'key': '131.243.24.11'}, {'doc_count': 2016, 'srcsitename': {'sum_other_doc_count': 0, 'buckets': [{'doc_count': 2016, 'key': 'MWT2'}], 'doc_count_error_upper_bound': 0}, 'key': '72.36.96.15'}, {'doc_count': 1987, 'srcsitename': {'sum_other_doc_count': 0, 'buckets': [{'doc_count': 1987, 'key': 'AGLT2'}], 'doc_count_error_upper_bound': 0}, 'key': '192.41.230.59'}, {'doc_count': 1851, 'srcsitename': {'sum_other_doc_count': 0, 'buckets': [], 'doc_count_error_upper_bound': 0}, 'key': '192.101.107.152'}, {'doc_count': 1618, 'srcsitename': {'sum_other_doc_count': 0, 'buckets': [{'doc_count': 1618, 'key': 'UKI-NORTHGRID-LIV-HEP'}], 'doc_count_error_upper_bound': 0}, 'key': '2001:630:21:8d80::8afd:3c52'}, {'doc_count': 1516, 'srcsitename': {'sum_other_doc_count': 0, 'buckets': [{'doc_count': 1516, 'key': 'GRIF'}], 'doc_count_error_upper_bound': 0}, 'key': '2001:660:3031:110:ffff::221'}, {'doc_count': 1504, 'srcsitename': {'sum_other_doc_count': 0, 'buckets': [{'doc_count': 1504, 'key': 'LUCILLE'}], 'doc_count_error_upper_bound': 0}, 'key': '164.58.29.121'}, {'doc_count': 1270, 'srcsitename': {'sum_other_doc_count': 0, 'buckets': [], 'doc_count_error_upper_bound': 0}, 'key': '2a00:fc00:e009::211'}, {'doc_count': 1233, 'srcsitename': {'sum_other_doc_count': 0, 'buckets': [], 'doc_count_error_upper_bound': 0}, 'key': '128.211.143.3'}, {'doc_count': 1026, 'srcsitename': {'sum_other_doc_count': 0, 'buckets': [], 'doc_count_error_upper_bound': 0}, 'key': '192.41.236.35'}, {'doc_count': 904, 'srcsitename': {'sum_other_doc_count': 0, 'buckets': [{'doc_count': 904, 'key': 'UKI-SCOTGRID-ECDF'}], 'doc_count_error_upper_bound': 0}, 'key': '2001:630:3c1:638::d546'}, {'doc_count': 890, 'srcsitename': {'sum_other_doc_count': 0, 'buckets': [{'doc_count': 890, 'key': 'UKI-SCOTGRID-DURHAM'}], 'doc_count_error_upper_bound': 0}, 'key': '2001:630:a5:1200::a:3'}, {'doc_count': 838, 'srcsitename': {'sum_other_doc_count': 0, 'buckets': [{'doc_count': 838, 'key': 'RAL-LCG2'}], 'doc_count_error_upper_bound': 0}, 'key': '2001:630:58:1820::82f6:b06d'}, {'doc_count': 800, 'srcsitename': {'sum_other_doc_count': 0, 'buckets': [{'doc_count': 800, 'key': 'UKI-LT2-QMUL'}], 'doc_count_error_upper_bound': 0}, 'key': '2a01:56c0:4033::26'}, {'doc_count': 799, 'srcsitename': {'sum_other_doc_count': 0, 'buckets': [{'doc_count': 799, 'key': 'UKI-SOUTHGRID-OX-HEP'}], 'doc_count_error_upper_bound': 0}, 'key': '2001:630:441:905::d2'}, {'doc_count': 751, 'srcsitename': {'sum_other_doc_count': 0, 'buckets': [{'doc_count': 751, 'key': 'BNL-ATLAS'}], 'doc_count_error_upper_bound': 0}, 'key': '2620:0:210:1::26'}, {'doc_count': 747, 'srcsitename': {'sum_other_doc_count': 0, 'buckets': [{'doc_count': 747, 'key': 'CA-VICTORIA-WESTGRID-T2'}], 'doc_count_error_upper_bound': 0}, 'key': '2607:f8f0:c10:70f3::60'}, {'doc_count': 732, 'srcsitename': {'sum_other_doc_count': 0, 'buckets': [{'doc_count': 732, 'key': 'UKI-NORTHGRID-MAN-HEP'}], 'doc_count_error_upper_bound': 0}, 'key': '2001:630:22:1004:800:ff:fe00:28'}, {'doc_count': 722, 'srcsitename': {'sum_other_doc_count': 0, 'buckets': [{'doc_count': 722, 'key': 'INFN-T1'}], 'doc_count_error_upper_bound': 0}, 'key': '2001:760:4205:254::12'}, {'doc_count': 706, 'srcsitename': {'sum_other_doc_count': 0, 'buckets': [{'doc_count': 706, 'key': 'Nebraska'}], 'doc_count_error_upper_bound': 0}, 'key': '2600:900:6:1102:7a2b:cbff:fe68:a68c'}, {'doc_count': 687, 'srcsitename': {'sum_other_doc_count': 0, 'buckets': [{'doc_count': 687, 'key': 'RO-16-UAIC'}], 'doc_count_error_upper_bound': 0}, 'key': '2001:b30:1002:612::1120'}, {'doc_count': 680, 'srcsitename': {'sum_other_doc_count': 0, 'buckets': [{'doc_count': 680, 'key': 'Nebraska'}], 'doc_count_error_upper_bound': 0}, 'key': '2600:900:0:3:92e2:baff:fe2b:9050'}, {'doc_count': 666, 'srcsitename': {'sum_other_doc_count': 0, 'buckets': [{'doc_count': 666, 'key': 'TRIUMF-LCG2'}], 'doc_count_error_upper_bound': 0}, 'key': '206.12.9.2'}, {'doc_count': 522, 'srcsitename': {'sum_other_doc_count': 0, 'buckets': [], 'doc_count_error_upper_bound': 0}, 'key': '202.13.203.129'}, {'doc_count': 489, 'srcsitename': {'sum_other_doc_count': 0, 'buckets': [{'doc_count': 489, 'key': 'MWT2'}], 'doc_count_error_upper_bound': 0}, 'key': '192.170.227.160'}, {'doc_count': 452, 'srcsitename': {'sum_other_doc_count': 0, 'buckets': [{'doc_count': 452, 'key': 'IN2P3-LAPP'}], 'doc_count_error_upper_bound': 0}, 'key': '134.158.84.141'}, {'doc_count': 451, 'srcsitename': {'sum_other_doc_count': 0, 'buckets': [{'doc_count': 451, 'key': 'ru-PNPI'}], 'doc_count_error_upper_bound': 0}, 'key': '212.193.96.29'}, {'doc_count': 444, 'srcsitename': {'sum_other_doc_count': 0, 'buckets': [{'doc_count': 444, 'key': 'UKI-SOUTHGRID-RALPP'}], 'doc_count_error_upper_bound': 0}, 'key': '130.246.47.242'}, {'doc_count': 422, 'srcsitename': {'sum_other_doc_count': 0, 'buckets': [{'doc_count': 422, 'key': 'FZK-LCG2'}], 'doc_count_error_upper_bound': 0}, 'key': '192.108.47.12'}, {'doc_count': 405, 'srcsitename': {'sum_other_doc_count': 0, 'buckets': [], 'doc_count_error_upper_bound': 0}, 'key': '90.147.66.50'}, {'doc_count': 295, 'srcsitename': {'sum_other_doc_count': 0, 'buckets': [], 'doc_count_error_upper_bound': 0}, 'key': '64.57.30.143'}, {'doc_count': 278, 'srcsitename': {'sum_other_doc_count': 0, 'buckets': [], 'doc_count_error_upper_bound': 0}, 'key': '128.55.199.18'}, {'doc_count': 274, 'srcsitename': {'sum_other_doc_count': 0, 'buckets': [], 'doc_count_error_upper_bound': 0}, 'key': '134.75.125.241'}, {'doc_count': 240, 'srcsitename': {'sum_other_doc_count': 0, 'buckets': [], 'doc_count_error_upper_bound': 0}, 'key': '169.228.130.40'}, {'doc_count': 195, 'srcsitename': {'sum_other_doc_count': 0, 'buckets': [], 'doc_count_error_upper_bound': 0}, 'key': '198.124.80.201'}, {'doc_count': 180, 'srcsitename': {'sum_other_doc_count': 0, 'buckets': [{'doc_count': 180, 'key': 'Hephy-Vienna'}], 'doc_count_error_upper_bound': 0}, 'key': '193.170.243.214'}, {'doc_count': 167, 'srcsitename': {'sum_other_doc_count': 0, 'buckets': [{'doc_count': 167, 'key': 'IFIC-LCG2'}], 'doc_count_error_upper_bound': 0}, 'key': '147.156.116.40'}, {'doc_count': 161, 'srcsitename': {'sum_other_doc_count': 0, 'buckets': [{'doc_count': 161, 'key': 'UKI-NORTHGRID-LANCS-HEP'}], 'doc_count_error_upper_bound': 0}, 'key': '194.80.35.169'}, {'doc_count': 159, 'srcsitename': {'sum_other_doc_count': 0, 'buckets': [{'doc_count': 159, 'key': 'Hephy-Vienna'}], 'doc_count_error_upper_bound': 0}, 'key': '193.170.243.215'}, {'doc_count': 157, 'srcsitename': {'sum_other_doc_count': 0, 'buckets': [{'doc_count': 157, 'key': 'RAL-LCG2'}], 'doc_count_error_upper_bound': 0}, 'key': '130.246.176.110'}, {'doc_count': 155, 'srcsitename': {'sum_other_doc_count': 0, 'buckets': [{'doc_count': 155, 'key': 'RRC-KI'}], 'doc_count_error_upper_bound': 0}, 'key': '144.206.237.142'}, {'doc_count': 147, 'srcsitename': {'sum_other_doc_count': 0, 'buckets': [{'doc_count': 147, 'key': 'TOKYO-LCG2'}], 'doc_count_error_upper_bound': 0}, 'key': '157.82.112.68'}, {'doc_count': 142, 'srcsitename': {'sum_other_doc_count': 0, 'buckets': [{'doc_count': 142, 'key': 'RO-02-NIPNE'}], 'doc_count_error_upper_bound': 0}, 'key': '81.180.86.38'}, {'doc_count': 140, 'srcsitename': {'sum_other_doc_count': 0, 'buckets': [{'doc_count': 140, 'key': 'ITEP'}], 'doc_count_error_upper_bound': 0}, 'key': '194.85.69.74'}, {'doc_count': 139, 'srcsitename': {'sum_other_doc_count': 0, 'buckets': [{'doc_count': 139, 'key': 'praguelcg2'}], 'doc_count_error_upper_bound': 0}, 'key': '147.231.25.192'}, {'doc_count': 138, 'srcsitename': {'sum_other_doc_count': 0, 'buckets': [{'doc_count': 138, 'key': 'WT2'}], 'doc_count_error_upper_bound': 0}, 'key': '134.79.118.72'}, {'doc_count': 135, 'srcsitename': {'sum_other_doc_count': 0, 'buckets': [{'doc_count': 135, 'key': 'BEgrid-ULB-VUB'}], 'doc_count_error_upper_bound': 0}, 'key': '193.58.172.56'}, {'doc_count': 134, 'srcsitename': {'sum_other_doc_count': 0, 'buckets': [], 'doc_count_error_upper_bound': 0}, 'key': '64.57.30.149'}, {'doc_count': 131, 'srcsitename': {'sum_other_doc_count': 0, 'buckets': [{'doc_count': 131, 'key': 'ITEP'}], 'doc_count_error_upper_bound': 0}, 'key': '194.85.69.75'}, {'doc_count': 126, 'srcsitename': {'sum_other_doc_count': 0, 'buckets': [], 'doc_count_error_upper_bound': 0}, 'key': '195.19.226.144'}, {'doc_count': 125, 'srcsitename': {'sum_other_doc_count': 0, 'buckets': [{'doc_count': 125, 'key': 'IEPSAS-Kosice'}], 'doc_count_error_upper_bound': 0}, 'key': '2001:4118:900:cc00::112'}, {'doc_count': 108, 'srcsitename': {'sum_other_doc_count': 0, 'buckets': [{'doc_count': 108, 'key': 'CA-MCGILL-CLUMEQ-T2'}], 'doc_count_error_upper_bound': 0}, 'key': '132.206.245.252'}]\n",
      "{'141.34.200.28': 'DESY-ZN', '2001:630:58:1820::82f6:b06d': 'RAL-LCG2', '147.156.116.40': 'IFIC-LCG2', '2001:12d0:8120::135': 'UnknownSite', '2a00:fc00:e009::211': 'UnknownSite', '2001:b30:1002:612::1120': 'RO-16-UAIC', '2001:1310:3121:1112::7': 'EELA-UTFSM', '200.17.30.135': 'UnknownSite', '192.41.230.61': 'UnknownSite', '149.165.224.247': 'UnknownSite', '144.206.237.142': 'RRC-KI', '159.93.225.211': 'JINR-LCG2', '192.41.236.31': 'AGLT2', '212.193.96.29': 'ru-PNPI', '2001:630:441:905::d2': 'UKI-SOUTHGRID-OX-HEP', '152.84.101.141': 'UnknownSite', '134.158.123.183': 'IN2P3-LPC', '193.62.56.9': 'UKI-SOUTHGRID-BHAM-HEP', '134.158.73.243': 'GRIF', '195.194.105.178': 'UKI-NORTHGRID-MAN-HEP', '193.170.243.214': 'Hephy-Vienna', '2001:760:422a:137::252': 'INFN-NAPOLI-ATLAS', '2a01:56c0:4033::26': 'UKI-LT2-QMUL', '134.158.159.85': 'GRIF', '157.82.112.68': 'TOKYO-LCG2', '117.103.105.191': 'Taiwan-LCG2', '90.147.67.252': 'INFN-NAPOLI-ATLAS', '132.206.245.252': 'CA-MCGILL-CLUMEQ-T2', '192.111.108.112': 'Vanderbilt', '147.231.25.192': 'praguelcg2', '130.209.239.124': 'UKI-SCOTGRID-GLASGOW', '192.68.51.219': 'UnknownSite', '128.55.199.18': 'UnknownSite', '89.145.160.212': 'UnknownSite', '159.100.241.205': 'UnknownSite', '2001:6a8:1080::15': 'BEgrid-ULB-VUB', '150.244.246.85': 'UAM-LCG2', '129.107.255.29': 'UTA_SWT2', '132.230.202.235': 'UNI-FREIBURG', '130.246.47.242': 'UKI-SOUTHGRID-RALPP', '2607:f8f0:c10:70f3::60': 'CA-VICTORIA-WESTGRID-T2', '144.92.180.75': 'GLOW', '192.12.15.26': 'BNL-ATLAS', '199.241.165.66': 'CA-WATERLOO-T2', '142.150.19.61': 'CA-SCINET-T2', '90.147.66.50': 'UnknownSite', '130.246.47.129': 'UKI-SOUTHGRID-RALPP', '192.231.127.41': 'Australia-ATLAS', '194.85.69.74': 'ITEP', '200.136.80.20': 'SPRACE', '192.108.47.12': 'FZK-LCG2', '192.114.101.125': 'TECHNION-HEP', '134.79.118.72': 'WT2', '193.144.80.12': 'UnknownSite', '64.57.30.149': 'UnknownSite', '141.108.35.18': 'INFN-ROMA1', '193.170.243.215': 'Hephy-Vienna', '149.165.225.223': 'MWT2', '134.61.24.193': 'UnknownSite', '193.146.75.138': 'IFCA-LCG2', '2a00:139c:5:4102::12': 'FZK-LCG2', '131.111.66.196': 'UKI-SOUTHGRID-CAM-HEP', '2001:630:21:8d80::8afd:3c52': 'UKI-NORTHGRID-LIV-HEP', '109.105.125.232': 'FI_HIP_T2', '128.142.223.247': 'CERN-PROD', '2001:760:4205:254::12': 'INFN-T1', '192.170.227.160': 'MWT2', '130.246.176.110': 'RAL-LCG2', '2a05:81c5:302:224::e1d3': 'JINR-LCG2', '129.93.5.165': 'Nebraska', '2600:900:0:3:92e2:baff:fe2b:9050': 'Nebraska', '18.12.1.171': 'UnknownSite', '192.41.230.59': 'AGLT2', '193.48.99.76': 'IN2P3-CC', '82.221.73.142': 'UnknownSite', '131.225.205.12': 'UnknownSite', '72.36.96.4': 'MWT2', '206.12.154.60': 'CA-VICTORIA-WESTGRID-T2', '163.1.5.210': 'UKI-SOUTHGRID-OX-HEP', '193.109.172.188': 'pic', '131.154.254.12': 'INFN-T1', '193.60.193.3': 'UKI-SCOTGRID-DURHAM', '198.124.80.201': 'UnknownSite', '192.5.207.251': 'BU_ATLAS_Tier2', '193.140.98.8': 'TR-03-METU', '129.93.183.249': 'Nebraska', '146.83.90.7': 'EELA-UTFSM', '2001:630:a5:1200::a:3': 'UKI-SCOTGRID-DURHAM', '134.158.84.141': 'IN2P3-LAPP', '194.190.165.192': 'RU-Protvino-IHEP', '134.75.125.241': 'UnknownSite', '202.122.32.170': 'BEIJING-LCG2', '206.12.9.2': 'TRIUMF-LCG2', '164.58.29.121': 'LUCILLE', '130.246.176.109': 'RAL-LCG2', '2001:718:401:6025:1::192': 'praguelcg2', '206.12.127.30': 'CA-SFU-T2', '134.219.225.13': 'UKI-LT2-RHUL', '129.15.40.231': 'OU_OCHEP_SWT2', '193.136.75.146': 'NCG-INGRID-PT', '129.107.255.26': 'UnknownSite', '193.239.180.211': 'UnknownSite', '138.253.60.82': 'UKI-NORTHGRID-LIV-HEP', '192.41.236.35': 'UnknownSite', '194.85.69.75': 'ITEP', '81.180.86.38': 'RO-02-NIPNE', '145.100.17.8': 'SARA-MATRIX', '134.158.132.200': 'GRIF', '2600:900:6:1102:7a2b:cbff:fe68:a68c': 'Nebraska', '148.6.8.251': 'BUDAPEST', '2001:630:3c1:638::d546': 'UKI-SCOTGRID-ECDF', '64.57.30.143': 'UnknownSite', '131.169.98.30': 'DESY-HH', '131.243.24.11': 'UnknownSite', '2001:660:3031:110:ffff::221': 'GRIF', '134.158.20.192': 'IN2P3-CPPM', '2001:630:22:1004:800:ff:fe00:28': 'UKI-NORTHGRID-MAN-HEP', '85.122.31.120': 'RO-16-UAIC', '202.13.203.129': 'UnknownSite', '128.40.4.25': 'UKI-LT2-UCL-HEP', '143.167.3.116': 'UKI-NORTHGRID-SHEF-HEP', '194.36.11.38': 'UKI-LT2-QMUL', '169.228.130.40': 'UnknownSite', '158.195.14.26': 'FMPhI-UNIBA', '159.93.229.151': 'JINR-T1', '2001:660:5408:1:134:158:20:192': 'IN2P3-CPPM', '192.101.161.186': 'UnknownSite', '193.205.76.76': 'UnknownSite', '81.180.86.64': 'RO-07-NIPNE', '2001:638:700:1062::1:1e': 'DESY-HH', '192.101.107.152': 'UnknownSite', '193.58.172.56': 'BEgrid-ULB-VUB', '128.211.143.3': 'UnknownSite', '2620:0:210:1::26': 'BNL-ATLAS', '192.54.207.250': 'GRIF', '148.187.64.25': 'CSCS-LCG2', '128.227.221.44': 'UFlorida-HPC', '109.105.124.86': 'NDGF-T1', '2001:4118:900:cc00::112': 'IEPSAS-Kosice', '129.215.213.70': 'UKI-SCOTGRID-ECDF', '147.213.204.112': 'IEPSAS-Kosice', '194.80.35.169': 'UKI-NORTHGRID-LANCS-HEP', '192.170.227.163': 'UnknownSite', '192.12.15.111': 'BNL-ATLAS', '72.36.96.15': 'MWT2', '195.19.226.144': 'UnknownSite', '139.184.80.18': 'UKI-SOUTHGRID-SUSX'}\n"
     ]
    }
   ],
   "source": [
    "srcsites=res['aggregations']['srcSites']['buckets']\n",
    "print(srcsites)\n",
    "for sS in srcsites:\n",
    "   #print(sS)\n",
    "   siteName=sS['srcsitename']['buckets']\n",
    "   if len(siteName)==0:\n",
    "      siteName='UnknownSite'\n",
    "   else:\n",
    "      siteName=siteName[0]['key']\n",
    "   ipSite[sS['key']]=siteName\n",
    "\n",
    "destsites=res['aggregations']['destSites']['buckets']\n",
    "#print(destsites)\n",
    "for dS in destsites:\n",
    "   #print(dS)\n",
    "   siteName=dS['destsitename']['buckets']\n",
    "   if len(siteName)==0:\n",
    "      siteName='UnknownSite'\n",
    "   else:\n",
    "      siteName=siteName[0]['key']\n",
    "   ipSite[dS['key']]=siteName\n",
    "\n",
    "print(ipSite)\n"
   ]
  },
  {
   "cell_type": "markdown",
   "metadata": {},
   "source": [
    "### process packet loss averages"
   ]
  },
  {
   "cell_type": "code",
   "execution_count": 7,
   "metadata": {},
   "outputs": [
    {
     "name": "stdout",
     "output_type": "stream",
     "text": [
      "{'_index': 'alarms-2018-03', 'alarmTime': 1521518476093, 'srcSite': 'INFN-NAPOLI-ATLAS', 'packetLossAvg': 1.0, '_type': 'doc', 'measurements': 120, 'type': 'packetloss', 'destSite': 'AGLT2', 'src': '90.147.67.252', 'dest': '192.41.230.59'}\n",
      "{'_index': 'alarms-2018-03', 'alarmTime': 1521518476093, 'srcSite': 'UKI-SCOTGRID-GLASGOW', 'packetLossAvg': 0.8713450292397661, '_type': 'doc', 'measurements': 171, 'type': 'packetloss', 'destSite': 'INFN-ROMA1', 'src': '130.209.239.124', 'dest': '141.108.35.18'}\n",
      "{'_index': 'alarms-2018-03', 'alarmTime': 1521518476093, 'srcSite': 'UKI-SCOTGRID-GLASGOW', 'packetLossAvg': 1.0, '_type': 'doc', 'measurements': 122, 'type': 'packetloss', 'destSite': 'AGLT2', 'src': '130.209.239.124', 'dest': '192.41.230.59'}\n",
      "{'_index': 'alarms-2018-03', 'alarmTime': 1521518476093, 'srcSite': 'RAL-LCG2', 'packetLossAvg': 1.0, '_type': 'doc', 'measurements': 130, 'type': 'packetloss', 'destSite': 'AGLT2', 'src': '130.246.176.109', 'dest': '192.41.230.59'}\n",
      "{'_index': 'alarms-2018-03', 'alarmTime': 1521518476093, 'srcSite': 'RAL-LCG2', 'packetLossAvg': 1.0, '_type': 'doc', 'measurements': 114, 'type': 'packetloss', 'destSite': 'UnknownSite', 'src': '130.246.176.109', 'dest': '89.145.160.212'}\n",
      "{'_index': 'alarms-2018-03', 'alarmTime': 1521518476093, 'srcSite': 'RAL-LCG2', 'packetLossAvg': 0.944954128440367, '_type': 'doc', 'measurements': 109, 'type': 'packetloss', 'destSite': 'INFN-ROMA1', 'src': '130.246.176.109', 'dest': '141.108.35.18'}\n",
      "{'_index': 'alarms-2018-03', 'alarmTime': 1521518476093, 'srcSite': 'DESY-HH', 'packetLossAvg': 1.0, '_type': 'doc', 'measurements': 144, 'type': 'packetloss', 'destSite': 'AGLT2', 'src': '131.169.98.30', 'dest': '192.41.230.59'}\n",
      "{'_index': 'alarms-2018-03', 'alarmTime': 1521518476093, 'srcSite': 'DESY-HH', 'packetLossAvg': 1.0, '_type': 'doc', 'measurements': 121, 'type': 'packetloss', 'destSite': 'UnknownSite', 'src': '131.169.98.30', 'dest': '89.145.160.212'}\n",
      "{'_index': 'alarms-2018-03', 'alarmTime': 1521518476093, 'srcSite': 'IN2P3-CC', 'packetLossAvg': 1.0, '_type': 'doc', 'measurements': 153, 'type': 'packetloss', 'destSite': 'AGLT2', 'src': '193.48.99.76', 'dest': '192.41.230.59'}\n",
      "{'_index': 'alarms-2018-03', 'alarmTime': 1521518476093, 'srcSite': 'IN2P3-CC', 'packetLossAvg': 1.0, '_type': 'doc', 'measurements': 96, 'type': 'packetloss', 'destSite': 'UnknownSite', 'src': '193.48.99.76', 'dest': '89.145.160.212'}\n",
      "{'_index': 'alarms-2018-03', 'alarmTime': 1521518476093, 'srcSite': 'CERN-PROD', 'packetLossAvg': 0.9862068965517241, '_type': 'doc', 'measurements': 145, 'type': 'packetloss', 'destSite': 'UnknownSite', 'src': '128.142.223.247', 'dest': '89.145.160.212'}\n",
      "{'_index': 'alarms-2018-03', 'alarmTime': 1521518476093, 'srcSite': 'CERN-PROD', 'packetLossAvg': 1.0, '_type': 'doc', 'measurements': 128, 'type': 'packetloss', 'destSite': 'AGLT2', 'src': '128.142.223.247', 'dest': '192.41.230.59'}\n",
      "{'_index': 'alarms-2018-03', 'alarmTime': 1521518476093, 'srcSite': 'UKI-NORTHGRID-LIV-HEP', 'packetLossAvg': 1.0, '_type': 'doc', 'measurements': 141, 'type': 'packetloss', 'destSite': 'AGLT2', 'src': '138.253.60.82', 'dest': '192.41.230.59'}\n",
      "{'_index': 'alarms-2018-03', 'alarmTime': 1521518476093, 'srcSite': 'UKI-NORTHGRID-LIV-HEP', 'packetLossAvg': 0.9137931034482759, '_type': 'doc', 'measurements': 116, 'type': 'packetloss', 'destSite': 'INFN-ROMA1', 'src': '138.253.60.82', 'dest': '141.108.35.18'}\n",
      "{'_index': 'alarms-2018-03', 'alarmTime': 1521518476093, 'srcSite': 'GRIF', 'packetLossAvg': 1.0, '_type': 'doc', 'measurements': 125, 'type': 'packetloss', 'destSite': 'AGLT2', 'src': '134.158.159.85', 'dest': '192.41.230.59'}\n",
      "{'_index': 'alarms-2018-03', 'alarmTime': 1521518476093, 'srcSite': 'GRIF', 'packetLossAvg': 0.021752873515902924, '_type': 'doc', 'measurements': 116, 'type': 'packetloss', 'destSite': 'OU_OCHEP_SWT2', 'src': '134.158.159.85', 'dest': '129.15.40.231'}\n",
      "{'_index': 'alarms-2018-03', 'alarmTime': 1521518476093, 'srcSite': 'RU-Protvino-IHEP', 'packetLossAvg': 0.021982968371891735, '_type': 'doc', 'measurements': 137, 'type': 'packetloss', 'destSite': 'UnknownSite', 'src': '194.190.165.192', 'dest': '18.12.1.171'}\n",
      "{'_index': 'alarms-2018-03', 'alarmTime': 1521518476093, 'srcSite': 'RU-Protvino-IHEP', 'packetLossAvg': 1.0, '_type': 'doc', 'measurements': 109, 'type': 'packetloss', 'destSite': 'AGLT2', 'src': '194.190.165.192', 'dest': '192.41.230.59'}\n",
      "{'_index': 'alarms-2018-03', 'alarmTime': 1521518476093, 'srcSite': 'UKI-LT2-QMUL', 'packetLossAvg': 0.021345238399226217, '_type': 'doc', 'measurements': 140, 'type': 'packetloss', 'destSite': 'OU_OCHEP_SWT2', 'src': '194.36.11.38', 'dest': '129.15.40.231'}\n",
      "{'_index': 'alarms-2018-03', 'alarmTime': 1521518476093, 'srcSite': 'UKI-LT2-QMUL', 'packetLossAvg': 0.9212598425196851, '_type': 'doc', 'measurements': 127, 'type': 'packetloss', 'destSite': 'INFN-ROMA1', 'src': '194.36.11.38', 'dest': '141.108.35.18'}\n",
      "{'_index': 'alarms-2018-03', 'alarmTime': 1521518476093, 'srcSite': 'GRIF', 'packetLossAvg': 1.0, '_type': 'doc', 'measurements': 124, 'type': 'packetloss', 'destSite': 'AGLT2', 'src': '192.54.207.250', 'dest': '192.41.230.59'}\n",
      "{'_index': 'alarms-2018-03', 'alarmTime': 1521518476093, 'srcSite': 'MWT2', 'packetLossAvg': 1.0, '_type': 'doc', 'measurements': 276, 'type': 'packetloss', 'destSite': 'UnknownSite', 'src': '149.165.225.223', 'dest': '192.41.230.61'}\n",
      "{'_index': 'alarms-2018-03', 'alarmTime': 1521518476093, 'srcSite': 'MWT2', 'packetLossAvg': 1.0, '_type': 'doc', 'measurements': 272, 'type': 'packetloss', 'destSite': 'UnknownSite', 'src': '72.36.96.4', 'dest': '192.41.230.61'}\n",
      "{'_index': 'alarms-2018-03', 'alarmTime': 1521518476093, 'srcSite': 'pic', 'packetLossAvg': 0.9923664122137404, '_type': 'doc', 'measurements': 131, 'type': 'packetloss', 'destSite': 'UnknownSite', 'src': '193.109.172.188', 'dest': '89.145.160.212'}\n",
      "{'_index': 'alarms-2018-03', 'alarmTime': 1521518476093, 'srcSite': 'UKI-SCOTGRID-ECDF', 'packetLossAvg': 1.0, '_type': 'doc', 'measurements': 156, 'type': 'packetloss', 'destSite': 'AGLT2', 'src': '129.215.213.70', 'dest': '192.41.230.59'}\n",
      "{'_index': 'alarms-2018-03', 'alarmTime': 1521518476093, 'srcSite': 'UKI-SCOTGRID-ECDF', 'packetLossAvg': 0.9166666666666666, '_type': 'doc', 'measurements': 132, 'type': 'packetloss', 'destSite': 'INFN-ROMA1', 'src': '129.215.213.70', 'dest': '141.108.35.18'}\n",
      "{'_index': 'alarms-2018-03', 'alarmTime': 1521518476093, 'srcSite': 'INFN-T1', 'packetLossAvg': 1.0, '_type': 'doc', 'measurements': 162, 'type': 'packetloss', 'destSite': 'UnknownSite', 'src': '131.154.254.12', 'dest': '89.145.160.212'}\n",
      "{'_index': 'alarms-2018-03', 'alarmTime': 1521518476093, 'srcSite': 'GRIF', 'packetLossAvg': 1.0, '_type': 'doc', 'measurements': 141, 'type': 'packetloss', 'destSite': 'AGLT2', 'src': '134.158.132.200', 'dest': '192.41.230.59'}\n",
      "{'_index': 'alarms-2018-03', 'alarmTime': 1521518476093, 'srcSite': 'UKI-SOUTHGRID-CAM-HEP', 'packetLossAvg': 0.8881118881118881, '_type': 'doc', 'measurements': 143, 'type': 'packetloss', 'destSite': 'INFN-ROMA1', 'src': '131.111.66.196', 'dest': '141.108.35.18'}\n",
      "{'_index': 'alarms-2018-03', 'alarmTime': 1521518476093, 'srcSite': 'UKI-SOUTHGRID-CAM-HEP', 'packetLossAvg': 1.0, '_type': 'doc', 'measurements': 110, 'type': 'packetloss', 'destSite': 'AGLT2', 'src': '131.111.66.196', 'dest': '192.41.230.59'}\n",
      "{'_index': 'alarms-2018-03', 'alarmTime': 1521518476093, 'srcSite': 'UKI-SOUTHGRID-OX-HEP', 'packetLossAvg': 1.0, '_type': 'doc', 'measurements': 142, 'type': 'packetloss', 'destSite': 'AGLT2', 'src': '163.1.5.210', 'dest': '192.41.230.59'}\n",
      "{'_index': 'alarms-2018-03', 'alarmTime': 1521518476093, 'srcSite': 'UKI-SOUTHGRID-OX-HEP', 'packetLossAvg': 0.9256198347107438, '_type': 'doc', 'measurements': 121, 'type': 'packetloss', 'destSite': 'INFN-ROMA1', 'src': '163.1.5.210', 'dest': '141.108.35.18'}\n",
      "{'_index': 'alarms-2018-03', 'alarmTime': 1521518476093, 'srcSite': 'BNL-ATLAS', 'packetLossAvg': 1.0, '_type': 'doc', 'measurements': 278, 'type': 'packetloss', 'destSite': 'AGLT2', 'src': '192.12.15.26', 'dest': '192.41.230.59'}\n",
      "{'_index': 'alarms-2018-03', 'alarmTime': 1521518476093, 'srcSite': 'BEIJING-LCG2', 'packetLossAvg': 1.0, '_type': 'doc', 'measurements': 124, 'type': 'packetloss', 'destSite': 'AGLT2', 'src': '202.122.32.170', 'dest': '192.41.230.59'}\n",
      "{'_index': 'alarms-2018-03', 'alarmTime': 1521518476093, 'srcSite': 'UKI-LT2-RHUL', 'packetLossAvg': 1.0, '_type': 'doc', 'measurements': 144, 'type': 'packetloss', 'destSite': 'AGLT2', 'src': '134.219.225.13', 'dest': '192.41.230.59'}\n",
      "{'_index': 'alarms-2018-03', 'alarmTime': 1521518476093, 'srcSite': 'UKI-LT2-RHUL', 'packetLossAvg': 0.9180327868852459, '_type': 'doc', 'measurements': 122, 'type': 'packetloss', 'destSite': 'INFN-ROMA1', 'src': '134.219.225.13', 'dest': '141.108.35.18'}\n",
      "{'_index': 'alarms-2018-03', 'alarmTime': 1521518476093, 'srcSite': 'DESY-ZN', 'packetLossAvg': 1.0, '_type': 'doc', 'measurements': 120, 'type': 'packetloss', 'destSite': 'AGLT2', 'src': '141.34.200.28', 'dest': '192.41.230.59'}\n",
      "{'_index': 'alarms-2018-03', 'alarmTime': 1521518476093, 'srcSite': 'CSCS-LCG2', 'packetLossAvg': 1.0, '_type': 'doc', 'measurements': 134, 'type': 'packetloss', 'destSite': 'AGLT2', 'src': '148.187.64.25', 'dest': '192.41.230.59'}\n",
      "{'_index': 'alarms-2018-03', 'alarmTime': 1521518476093, 'srcSite': 'CSCS-LCG2', 'packetLossAvg': 0.021396011750922244, '_type': 'doc', 'measurements': 117, 'type': 'packetloss', 'destSite': 'OU_OCHEP_SWT2', 'src': '148.187.64.25', 'dest': '129.15.40.231'}\n",
      "{'_index': 'alarms-2018-03', 'alarmTime': 1521518476093, 'srcSite': 'CSCS-LCG2', 'packetLossAvg': 0.8932038834951457, '_type': 'doc', 'measurements': 103, 'type': 'packetloss', 'destSite': 'INFN-ROMA1', 'src': '148.187.64.25', 'dest': '141.108.35.18'}\n",
      "{'_index': 'alarms-2018-03', 'alarmTime': 1521518476093, 'srcSite': 'UKI-NORTHGRID-MAN-HEP', 'packetLossAvg': 1.0, '_type': 'doc', 'measurements': 169, 'type': 'packetloss', 'destSite': 'AGLT2', 'src': '195.194.105.178', 'dest': '192.41.230.59'}\n",
      "{'_index': 'alarms-2018-03', 'alarmTime': 1521518476093, 'srcSite': 'UKI-NORTHGRID-MAN-HEP', 'packetLossAvg': 0.9403973509933775, '_type': 'doc', 'measurements': 151, 'type': 'packetloss', 'destSite': 'INFN-ROMA1', 'src': '195.194.105.178', 'dest': '141.108.35.18'}\n",
      "{'_index': 'alarms-2018-03', 'alarmTime': 1521518476093, 'srcSite': 'TECHNION-HEP', 'packetLossAvg': 0.9197080291970803, '_type': 'doc', 'measurements': 137, 'type': 'packetloss', 'destSite': 'INFN-ROMA1', 'src': '192.114.101.125', 'dest': '141.108.35.18'}\n",
      "{'_index': 'alarms-2018-03', 'alarmTime': 1521518476093, 'srcSite': 'TECHNION-HEP', 'packetLossAvg': 1.0, '_type': 'doc', 'measurements': 132, 'type': 'packetloss', 'destSite': 'AGLT2', 'src': '192.114.101.125', 'dest': '192.41.230.59'}\n",
      "{'_index': 'alarms-2018-03', 'alarmTime': 1521518476093, 'srcSite': 'AGLT2', 'packetLossAvg': 1.0, '_type': 'doc', 'measurements': 370, 'type': 'packetloss', 'destSite': 'AGLT2', 'src': '192.41.236.31', 'dest': '192.41.230.59'}\n",
      "{'_index': 'alarms-2018-03', 'alarmTime': 1521518476093, 'srcSite': 'BU_ATLAS_Tier2', 'packetLossAvg': 1.0, '_type': 'doc', 'measurements': 301, 'type': 'packetloss', 'destSite': 'AGLT2', 'src': '192.5.207.251', 'dest': '192.41.230.59'}\n",
      "{'_index': 'alarms-2018-03', 'alarmTime': 1521518476093, 'srcSite': 'BU_ATLAS_Tier2', 'packetLossAvg': 0.9090909090909091, '_type': 'doc', 'measurements': 154, 'type': 'packetloss', 'destSite': 'INFN-ROMA1', 'src': '192.5.207.251', 'dest': '141.108.35.18'}\n",
      "{'_index': 'alarms-2018-03', 'alarmTime': 1521518476093, 'srcSite': 'UTA_SWT2', 'packetLossAvg': 1.0, '_type': 'doc', 'measurements': 232, 'type': 'packetloss', 'destSite': 'AGLT2', 'src': '129.107.255.29', 'dest': '192.41.230.59'}\n",
      "{'_index': 'alarms-2018-03', 'alarmTime': 1521518476093, 'srcSite': 'IN2P3-CPPM', 'packetLossAvg': 1.0, '_type': 'doc', 'measurements': 107, 'type': 'packetloss', 'destSite': 'AGLT2', 'src': '134.158.20.192', 'dest': '192.41.230.59'}\n",
      "{'_index': 'alarms-2018-03', 'alarmTime': 1521518476093, 'srcSite': 'IN2P3-LPC', 'packetLossAvg': 1.0, '_type': 'doc', 'measurements': 139, 'type': 'packetloss', 'destSite': 'AGLT2', 'src': '134.158.123.183', 'dest': '192.41.230.59'}\n",
      "{'_index': 'alarms-2018-03', 'alarmTime': 1521518476093, 'srcSite': 'Australia-ATLAS', 'packetLossAvg': 1.0, '_type': 'doc', 'measurements': 142, 'type': 'packetloss', 'destSite': 'AGLT2', 'src': '192.231.127.41', 'dest': '192.41.230.59'}\n",
      "{'_index': 'alarms-2018-03', 'alarmTime': 1521518476093, 'srcSite': 'Australia-ATLAS', 'packetLossAvg': 0.912, '_type': 'doc', 'measurements': 125, 'type': 'packetloss', 'destSite': 'INFN-ROMA1', 'src': '192.231.127.41', 'dest': '141.108.35.18'}\n",
      "{'_index': 'alarms-2018-03', 'alarmTime': 1521518476093, 'srcSite': 'CA-SCINET-T2', 'packetLossAvg': 1.0, '_type': 'doc', 'measurements': 144, 'type': 'packetloss', 'destSite': 'AGLT2', 'src': '142.150.19.61', 'dest': '192.41.230.59'}\n",
      "{'_index': 'alarms-2018-03', 'alarmTime': 1521518476093, 'srcSite': 'CA-VICTORIA-WESTGRID-T2', 'packetLossAvg': 0.9230769230769231, '_type': 'doc', 'measurements': 143, 'type': 'packetloss', 'destSite': 'INFN-ROMA1', 'src': '206.12.154.60', 'dest': '141.108.35.18'}\n",
      "{'_index': 'alarms-2018-03', 'alarmTime': 1521518476093, 'srcSite': 'CA-VICTORIA-WESTGRID-T2', 'packetLossAvg': 0.028018017995867645, '_type': 'doc', 'measurements': 111, 'type': 'packetloss', 'destSite': 'OU_OCHEP_SWT2', 'src': '206.12.154.60', 'dest': '129.15.40.231'}\n",
      "{'_index': 'alarms-2018-03', 'alarmTime': 1521518476093, 'srcSite': 'CA-VICTORIA-WESTGRID-T2', 'packetLossAvg': 1.0, '_type': 'doc', 'measurements': 102, 'type': 'packetloss', 'destSite': 'AGLT2', 'src': '206.12.154.60', 'dest': '192.41.230.59'}\n",
      "{'_index': 'alarms-2018-03', 'alarmTime': 1521518476093, 'srcSite': 'UAM-LCG2', 'packetLossAvg': 1.0, '_type': 'doc', 'measurements': 122, 'type': 'packetloss', 'destSite': 'AGLT2', 'src': '150.244.246.85', 'dest': '192.41.230.59'}\n",
      "{'_index': 'alarms-2018-03', 'alarmTime': 1521518476093, 'srcSite': 'UnknownSite', 'packetLossAvg': 0.021390728518329807, '_type': 'doc', 'measurements': 151, 'type': 'packetloss', 'destSite': 'RU-Protvino-IHEP', 'src': '192.68.51.219', 'dest': '194.190.165.192'}\n",
      "{'_index': 'alarms-2018-03', 'alarmTime': 1521518476093, 'srcSite': 'Vanderbilt', 'packetLossAvg': 1.0, '_type': 'doc', 'measurements': 153, 'type': 'packetloss', 'destSite': 'UnknownSite', 'src': '192.111.108.112', 'dest': '192.41.230.61'}\n",
      "{'_index': 'alarms-2018-03', 'alarmTime': 1521518476093, 'srcSite': 'Vanderbilt', 'packetLossAvg': 1.0, '_type': 'doc', 'measurements': 152, 'type': 'packetloss', 'destSite': 'AGLT2', 'src': '192.111.108.112', 'dest': '192.41.230.59'}\n",
      "{'_index': 'alarms-2018-03', 'alarmTime': 1521518476093, 'srcSite': 'UnknownSite', 'packetLossAvg': 0.8311688311688312, '_type': 'doc', 'measurements': 154, 'type': 'packetloss', 'destSite': 'NCG-INGRID-PT', 'src': '18.12.1.171', 'dest': '193.136.75.146'}\n",
      "{'_index': 'alarms-2018-03', 'alarmTime': 1521518476093, 'srcSite': 'UnknownSite', 'packetLossAvg': 1.0, '_type': 'doc', 'measurements': 137, 'type': 'packetloss', 'destSite': 'UKI-NORTHGRID-SHEF-HEP', 'src': '18.12.1.171', 'dest': '143.167.3.116'}\n",
      "{'_index': 'alarms-2018-03', 'alarmTime': 1521518476093, 'srcSite': 'Nebraska', 'packetLossAvg': 1.0, '_type': 'doc', 'measurements': 151, 'type': 'packetloss', 'destSite': 'UnknownSite', 'src': '129.93.5.165', 'dest': '192.41.230.61'}\n",
      "{'_index': 'alarms-2018-03', 'alarmTime': 1521518476093, 'srcSite': 'UnknownSite', 'packetLossAvg': 1.0, '_type': 'doc', 'measurements': 330, 'type': 'packetloss', 'destSite': 'UnknownSite', 'src': '149.165.224.247', 'dest': '192.41.230.61'}\n",
      "{'_index': 'alarms-2018-03', 'alarmTime': 1521518476093, 'srcSite': 'IEPSAS-Kosice', 'packetLossAvg': 0.025939511030042207, '_type': 'doc', 'measurements': 259, 'type': 'packetloss', 'destSite': 'GRIF', 'src': '147.213.204.112', 'dest': '134.158.159.85'}\n",
      "{'_index': 'alarms-2018-03', 'alarmTime': 1521518476093, 'srcSite': 'IEPSAS-Kosice', 'packetLossAvg': 0.023974867873928614, '_type': 'doc', 'measurements': 252, 'type': 'packetloss', 'destSite': 'DESY-ZN', 'src': '147.213.204.112', 'dest': '141.34.200.28'}\n",
      "{'_index': 'alarms-2018-03', 'alarmTime': 1521518476093, 'srcSite': 'IEPSAS-Kosice', 'packetLossAvg': 0.02420227931868126, '_type': 'doc', 'measurements': 234, 'type': 'packetloss', 'destSite': 'UKI-SOUTHGRID-CAM-HEP', 'src': '147.213.204.112', 'dest': '131.111.66.196'}\n",
      "{'_index': 'alarms-2018-03', 'alarmTime': 1521518476093, 'srcSite': 'IEPSAS-Kosice', 'packetLossAvg': 0.02624631276667382, '_type': 'doc', 'measurements': 226, 'type': 'packetloss', 'destSite': 'Australia-ATLAS', 'src': '147.213.204.112', 'dest': '192.231.127.41'}\n",
      "{'_index': 'alarms-2018-03', 'alarmTime': 1521518476093, 'srcSite': 'IEPSAS-Kosice', 'packetLossAvg': 0.02841554570842885, '_type': 'doc', 'measurements': 223, 'type': 'packetloss', 'destSite': 'UKI-LT2-RHUL', 'src': '147.213.204.112', 'dest': '134.219.225.13'}\n",
      "{'_index': 'alarms-2018-03', 'alarmTime': 1521518476093, 'srcSite': 'IEPSAS-Kosice', 'packetLossAvg': 0.02498116772911264, '_type': 'doc', 'measurements': 177, 'type': 'packetloss', 'destSite': 'IN2P3-LPC', 'src': '147.213.204.112', 'dest': '134.158.123.183'}\n",
      "{'_index': 'alarms-2018-03', 'alarmTime': 1521518476093, 'srcSite': 'IEPSAS-Kosice', 'packetLossAvg': 0.025558823707294377, '_type': 'doc', 'measurements': 170, 'type': 'packetloss', 'destSite': 'TECHNION-HEP', 'src': '147.213.204.112', 'dest': '192.114.101.125'}\n",
      "{'_index': 'alarms-2018-03', 'alarmTime': 1521518476093, 'srcSite': 'IEPSAS-Kosice', 'packetLossAvg': 0.023878600926966302, '_type': 'doc', 'measurements': 162, 'type': 'packetloss', 'destSite': 'Taiwan-LCG2', 'src': '147.213.204.112', 'dest': '117.103.105.191'}\n",
      "{'_index': 'alarms-2018-03', 'alarmTime': 1521518476093, 'srcSite': 'IEPSAS-Kosice', 'packetLossAvg': 0.026772151978191317, '_type': 'doc', 'measurements': 158, 'type': 'packetloss', 'destSite': 'BEIJING-LCG2', 'src': '147.213.204.112', 'dest': '202.122.32.170'}\n",
      "{'_index': 'alarms-2018-03', 'alarmTime': 1521518476093, 'srcSite': 'IEPSAS-Kosice', 'packetLossAvg': 0.025286624411263378, '_type': 'doc', 'measurements': 157, 'type': 'packetloss', 'destSite': 'UKI-NORTHGRID-LIV-HEP', 'src': '147.213.204.112', 'dest': '138.253.60.82'}\n",
      "{'_index': 'alarms-2018-03', 'alarmTime': 1521518476093, 'srcSite': 'IEPSAS-Kosice', 'packetLossAvg': 0.026923937516774507, '_type': 'doc', 'measurements': 149, 'type': 'packetloss', 'destSite': 'UKI-NORTHGRID-LANCS-HEP', 'src': '147.213.204.112', 'dest': '194.80.35.169'}\n",
      "{'_index': 'alarms-2018-03', 'alarmTime': 1521518476093, 'srcSite': 'IEPSAS-Kosice', 'packetLossAvg': 0.02611904767608004, '_type': 'doc', 'measurements': 140, 'type': 'packetloss', 'destSite': 'OU_OCHEP_SWT2', 'src': '147.213.204.112', 'dest': '129.15.40.231'}\n",
      "{'_index': 'alarms-2018-03', 'alarmTime': 1521518476093, 'srcSite': 'IEPSAS-Kosice', 'packetLossAvg': 0.027165109195929266, '_type': 'doc', 'measurements': 107, 'type': 'packetloss', 'destSite': 'MWT2', 'src': '147.213.204.112', 'dest': '192.170.227.160'}\n",
      "{'_index': 'alarms-2018-03', 'alarmTime': 1521518476093, 'srcSite': 'IEPSAS-Kosice', 'packetLossAvg': 0.026200000131502747, '_type': 'doc', 'measurements': 50, 'type': 'packetloss', 'destSite': 'GRIF', 'src': '147.213.204.112', 'dest': '134.158.132.200'}\n",
      "{'_index': 'alarms-2018-03', 'alarmTime': 1521518476093, 'srcSite': 'IEPSAS-Kosice', 'packetLossAvg': 0.027101449425453724, '_type': 'doc', 'measurements': 46, 'type': 'packetloss', 'destSite': 'GRIF', 'src': '147.213.204.112', 'dest': '134.158.73.243'}\n",
      "{'_index': 'alarms-2018-03', 'alarmTime': 1521518476093, 'srcSite': 'IEPSAS-Kosice', 'packetLossAvg': 0.02306306321249419, '_type': 'doc', 'measurements': 37, 'type': 'packetloss', 'destSite': 'IN2P3-CC', 'src': '147.213.204.112', 'dest': '193.48.99.76'}\n",
      "{'_index': 'alarms-2018-03', 'alarmTime': 1521518476093, 'srcSite': 'UnknownSite', 'packetLossAvg': 1.0, '_type': 'doc', 'measurements': 183, 'type': 'packetloss', 'destSite': 'UnknownSite', 'src': '192.170.227.163', 'dest': '192.41.230.61'}\n",
      "{'_index': 'alarms-2018-03', 'alarmTime': 1521518476093, 'srcSite': 'BNL-ATLAS', 'packetLossAvg': 1.0, '_type': 'doc', 'measurements': 240, 'type': 'packetloss', 'destSite': 'UnknownSite', 'src': '192.12.15.111', 'dest': '192.41.230.61'}\n",
      "{'_index': 'alarms-2018-03', 'alarmTime': 1521518476093, 'srcSite': 'UnknownSite', 'packetLossAvg': 0.0992864586180076, '_type': 'doc', 'measurements': 320, 'type': 'packetloss', 'destSite': 'UnknownSite', 'src': '129.107.255.26', 'dest': '149.165.224.247'}\n",
      "{'_index': 'alarms-2018-03', 'alarmTime': 1521518476093, 'srcSite': 'UnknownSite', 'packetLossAvg': 0.09886075973605053, '_type': 'doc', 'measurements': 316, 'type': 'packetloss', 'destSite': 'MWT2', 'src': '129.107.255.26', 'dest': '72.36.96.4'}\n",
      "{'_index': 'alarms-2018-03', 'alarmTime': 1521518476093, 'srcSite': 'UnknownSite', 'packetLossAvg': 0.10034920634731413, '_type': 'doc', 'measurements': 315, 'type': 'packetloss', 'destSite': 'MWT2', 'src': '129.107.255.26', 'dest': '72.36.96.15'}\n",
      "{'_index': 'alarms-2018-03', 'alarmTime': 1521518476093, 'srcSite': 'UnknownSite', 'packetLossAvg': 0.0996167248549777, '_type': 'doc', 'measurements': 287, 'type': 'packetloss', 'destSite': 'Nebraska', 'src': '129.107.255.26', 'dest': '129.93.5.165'}\n",
      "{'_index': 'alarms-2018-03', 'alarmTime': 1521518476093, 'srcSite': 'UnknownSite', 'packetLossAvg': 0.09873646228752411, '_type': 'doc', 'measurements': 277, 'type': 'packetloss', 'destSite': 'MWT2', 'src': '129.107.255.26', 'dest': '149.165.225.223'}\n",
      "{'_index': 'alarms-2018-03', 'alarmTime': 1521518476093, 'srcSite': 'UnknownSite', 'packetLossAvg': 0.10053283762754561, '_type': 'doc', 'measurements': 269, 'type': 'packetloss', 'destSite': 'UnknownSite', 'src': '129.107.255.26', 'dest': '131.243.24.11'}\n",
      "{'_index': 'alarms-2018-03', 'alarmTime': 1521518476093, 'srcSite': 'UnknownSite', 'packetLossAvg': 0.10082368092417257, '_type': 'doc', 'measurements': 259, 'type': 'packetloss', 'destSite': 'UnknownSite', 'src': '129.107.255.26', 'dest': '192.170.227.163'}\n",
      "{'_index': 'alarms-2018-03', 'alarmTime': 1521518476093, 'srcSite': 'UnknownSite', 'packetLossAvg': 0.10199513373366237, '_type': 'doc', 'measurements': 137, 'type': 'packetloss', 'destSite': 'BNL-ATLAS', 'src': '129.107.255.26', 'dest': '192.12.15.111'}\n",
      "{'_index': 'alarms-2018-03', 'alarmTime': 1521518476093, 'srcSite': 'UnknownSite', 'packetLossAvg': 1.0, '_type': 'doc', 'measurements': 135, 'type': 'packetloss', 'destSite': 'UnknownSite', 'src': '129.107.255.26', 'dest': '192.41.230.61'}\n",
      "{'_index': 'alarms-2018-03', 'alarmTime': 1521518476093, 'srcSite': 'UnknownSite', 'packetLossAvg': 1.0, '_type': 'doc', 'measurements': 266, 'type': 'packetloss', 'destSite': 'UnknownSite', 'src': '131.243.24.11', 'dest': '192.41.230.61'}\n",
      "{'_index': 'alarms-2018-03', 'alarmTime': 1521518476093, 'srcSite': 'MWT2', 'packetLossAvg': 1.0, '_type': 'doc', 'measurements': 265, 'type': 'packetloss', 'destSite': 'UnknownSite', 'src': '72.36.96.15', 'dest': '192.41.230.61'}\n",
      "{'_index': 'alarms-2018-03', 'alarmTime': 1521518476093, 'srcSite': 'LUCILLE', 'packetLossAvg': 1.0, '_type': 'doc', 'measurements': 186, 'type': 'packetloss', 'destSite': 'AGLT2', 'src': '164.58.29.121', 'dest': '192.41.230.59'}\n",
      "{'_index': 'alarms-2018-03', 'alarmTime': 1521518476093, 'srcSite': 'UnknownSite', 'packetLossAvg': 0.059176470328341516, '_type': 'doc', 'measurements': 170, 'type': 'packetloss', 'destSite': 'MWT2', 'src': '192.41.236.35', 'dest': '72.36.96.4'}\n",
      "{'_index': 'alarms-2018-03', 'alarmTime': 1521518476093, 'srcSite': 'UnknownSite', 'packetLossAvg': 0.06857305932598673, '_type': 'doc', 'measurements': 146, 'type': 'packetloss', 'destSite': 'UnknownSite', 'src': '192.41.236.35', 'dest': '131.243.24.11'}\n",
      "{'_index': 'alarms-2018-03', 'alarmTime': 1521518476093, 'srcSite': 'UnknownSite', 'packetLossAvg': 0.025857843020383048, '_type': 'doc', 'measurements': 136, 'type': 'packetloss', 'destSite': 'MWT2', 'src': '192.41.236.35', 'dest': '149.165.225.223'}\n",
      "{'_index': 'alarms-2018-03', 'alarmTime': 1521518476093, 'srcSite': 'UnknownSite', 'packetLossAvg': 0.056006600582363585, '_type': 'doc', 'measurements': 101, 'type': 'packetloss', 'destSite': 'BNL-ATLAS', 'src': '192.41.236.35', 'dest': '192.12.15.111'}\n",
      "{'_index': 'alarms-2018-03', 'alarmTime': 1521518476093, 'srcSite': 'UnknownSite', 'packetLossAvg': 0.048439716241580055, '_type': 'doc', 'measurements': 94, 'type': 'packetloss', 'destSite': 'UnknownSite', 'src': '192.41.236.35', 'dest': '149.165.224.247'}\n",
      "{'_index': 'alarms-2018-03', 'alarmTime': 1521518476093, 'srcSite': 'UnknownSite', 'packetLossAvg': 0.049853479622730186, '_type': 'doc', 'measurements': 91, 'type': 'packetloss', 'destSite': 'MWT2', 'src': '192.41.236.35', 'dest': '72.36.96.15'}\n",
      "{'_index': 'alarms-2018-03', 'alarmTime': 1521518476093, 'srcSite': 'UnknownSite', 'packetLossAvg': 0.020600775300070297, '_type': 'doc', 'measurements': 86, 'type': 'packetloss', 'destSite': 'Nebraska', 'src': '192.41.236.35', 'dest': '129.93.5.165'}\n",
      "{'_index': 'alarms-2018-03', 'alarmTime': 1521518476093, 'srcSite': 'UnknownSite', 'packetLossAvg': 0.05233796303057008, '_type': 'doc', 'measurements': 72, 'type': 'packetloss', 'destSite': 'UnknownSite', 'src': '192.41.236.35', 'dest': '192.170.227.163'}\n",
      "{'_index': 'alarms-2018-03', 'alarmTime': 1521518476093, 'srcSite': 'UnknownSite', 'packetLossAvg': 0.08242424243750672, '_type': 'doc', 'measurements': 66, 'type': 'packetloss', 'destSite': 'UnknownSite', 'src': '192.41.236.35', 'dest': '129.107.255.26'}\n",
      "{'_index': 'alarms-2018-03', 'alarmTime': 1521518476093, 'srcSite': 'UnknownSite', 'packetLossAvg': 1.0, '_type': 'doc', 'measurements': 64, 'type': 'packetloss', 'destSite': 'UnknownSite', 'src': '192.41.236.35', 'dest': '192.41.230.61'}\n",
      "{'_index': 'alarms-2018-03', 'alarmTime': 1521518476093, 'srcSite': 'ITEP', 'packetLossAvg': 0.02115476196631789, '_type': 'doc', 'measurements': 140, 'type': 'packetloss', 'destSite': 'ru-PNPI', 'src': '194.85.69.74', 'dest': '212.193.96.29'}\n",
      "{'_index': 'alarms-2018-03', 'alarmTime': 1521518476093, 'srcSite': 'IEPSAS-Kosice', 'packetLossAvg': 0.025320000167936087, '_type': 'doc', 'measurements': 125, 'type': 'packetloss', 'destSite': 'FZK-LCG2', 'src': '2001:4118:900:cc00::112', 'dest': '2a00:139c:5:4102::12'}\n"
     ]
    }
   ],
   "source": [
    "src=res['aggregations']['src']['buckets']\n",
    "#print(src)\n",
    "\n",
    "for s in src:\n",
    "   #print(s)\n",
    "   source=s['key']\n",
    "   for d in s['dest']['buckets']:\n",
    "      destination=d['key']\n",
    "      avgpl=d['avgpl']['value']\n",
    "      docs=d['doc_count']\n",
    "#      print(source, destination, docs, avgpl)\n",
    "      if avgpl > 0.02 and docs > 4:\n",
    "         toAlertOn.append(generate_doc(source, destination, docs, avgpl))\n",
    "\n",
    "for alert in toAlertOn:\n",
    "   print(alert)"
   ]
  },
  {
   "cell_type": "markdown",
   "metadata": {},
   "source": [
    "### write alarms to Elasticsearch"
   ]
  },
  {
   "cell_type": "code",
   "execution_count": 8,
   "metadata": {},
   "outputs": [
    {
     "name": "stdout",
     "output_type": "stream",
     "text": [
      "inserted: 106 \tErrors: []\n"
     ]
    }
   ],
   "source": [
    "try:\n",
    "   res = helpers.bulk(es, toAlertOn, raise_on_exception=True,request_timeout=60)\n",
    "   print(\"inserted:\",res[0], '\\tErrors:',res[1])\n",
    "except es_exceptions.ConnectionError as e:\n",
    "   print('ConnectionError ', e)\n",
    "except es_exceptions.TransportError as e:\n",
    "   print('TransportError ', e)\n",
    "except helpers.BulkIndexError as e:\n",
    "   print(e[0])\n",
    "   for i in e[1]:\n",
    "      print(i)\n",
    "except:\n",
    "   print('Something seriously wrong happened.')"
   ]
  },
  {
   "cell_type": "code",
   "execution_count": null,
   "metadata": {
    "collapsed": true
   },
   "outputs": [],
   "source": []
  }
 ],
 "metadata": {
  "kernelspec": {
   "display_name": "Python 3",
   "language": "python",
   "name": "python3"
  },
  "language_info": {
   "codemirror_mode": {
    "name": "ipython",
    "version": 3
   },
   "file_extension": ".py",
   "mimetype": "text/x-python",
   "name": "python",
   "nbconvert_exporter": "python",
   "pygments_lexer": "ipython3",
   "version": "3.4.5"
  }
 },
 "nbformat": 4,
 "nbformat_minor": 1
}
