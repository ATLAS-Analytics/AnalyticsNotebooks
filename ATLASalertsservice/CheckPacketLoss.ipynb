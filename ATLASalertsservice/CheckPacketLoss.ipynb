{
 "cells": [
  {
   "cell_type": "markdown",
   "metadata": {},
   "source": [
    "# Check if the packet loss data is abnormal"
   ]
  },
  {
   "cell_type": "markdown",
   "metadata": {},
   "source": [
    "This notebook finds out all the links which have at least five packet loss measurements in the past one hour and the average value of the packet loss measurements is greater than 2%. It is run by a cron job every hour, and it will write the detailed information of every alarm into Elastic Search with the _index: alarms-year.month and _type: packetloss."
   ]
  },
  {
   "cell_type": "markdown",
   "metadata": {},
   "source": [
    "### import all the packages needed for this task"
   ]
  },
  {
   "cell_type": "code",
   "execution_count": 1,
   "metadata": {
    "collapsed": true
   },
   "outputs": [],
   "source": [
    "from elasticsearch import Elasticsearch, exceptions as es_exceptions, helpers\n",
    "import sys\n",
    "import datetime"
   ]
  },
  {
   "cell_type": "markdown",
   "metadata": {},
   "source": [
    "### establish the Elastic Search connection"
   ]
  },
  {
   "cell_type": "code",
   "execution_count": 2,
   "metadata": {
    "collapsed": true
   },
   "outputs": [],
   "source": [
    "es = Elasticsearch(hosts=[{'host':'atlas-kibana.mwt2.org', 'port':9200}],timeout=60)"
   ]
  },
  {
   "cell_type": "markdown",
   "metadata": {},
   "source": [
    "### define functions to write an alarm record into ES with detailed info"
   ]
  },
  {
   "cell_type": "code",
   "execution_count": 3,
   "metadata": {
    "collapsed": false
   },
   "outputs": [],
   "source": [
    "ipSite={}  # for mapping IP to Site name\n",
    "toAlertOn=[]\n",
    "\n",
    "def generate_doc(src_site_ip, dest_site_ip, measurements, avgpl):\n",
    "   if src_site_ip not in ipSite:\n",
    "        print('serious source mapping issue')\n",
    "        return\n",
    "   if dest_site_ip not in ipSite:\n",
    "        print('serious destination mapping issue')\n",
    "        return\n",
    "\n",
    "   doc = {\n",
    "        '_index':get_index_name(),\n",
    "        '_type' : 'packetloss',\n",
    "        'src' : src_site_ip,\n",
    "        'dest' : dest_site_ip,\n",
    "        'srcSite' : ipSite[src_site_ip],\n",
    "        'destSite' : ipSite[dest_site_ip],\n",
    "        'alarmTime' : int( (datetime.datetime.utcnow()-datetime.datetime(1970,1,1) ).total_seconds() * 1000 ),\n",
    "        'measurements' : measurements,\n",
    "        'packetLossAvg' : avgpl\n",
    "   }\n",
    "   return doc\n",
    "\n",
    "def get_index_name():\n",
    "    date = datetime.datetime.utcnow().strftime(\"%Y.%m\")   # date format is yyyy.mm\n",
    "    index_name = 'alarms-'+date\n",
    "    return index_name\n",
    "\n"
   ]
  },
  {
   "cell_type": "markdown",
   "metadata": {},
   "source": [
    "### list all network\\_weather* indices"
   ]
  },
  {
   "cell_type": "code",
   "execution_count": 4,
   "metadata": {
    "collapsed": true
   },
   "outputs": [],
   "source": [
    "indices = es.cat.indices(index=\"network_weather-*\", h=\"index\", request_timeout=600).split('\\n')\n",
    "indices = [x for x in indices if x != '']\n",
    "indices = [x.strip() for x in indices]\n",
    "#print(indices)"
   ]
  },
  {
   "cell_type": "markdown",
   "metadata": {},
   "source": [
    "### find indices to be used"
   ]
  },
  {
   "cell_type": "code",
   "execution_count": 5,
   "metadata": {
    "collapsed": false
   },
   "outputs": [
    {
     "name": "stdout",
     "output_type": "stream",
     "text": [
      "checking for indices: network_weather_2-2016.8.22 network_weather_2-2016.8.21\n",
      "will use indices: ['network_weather_2-2016.8.22']\n"
     ]
    }
   ],
   "source": [
    "\n",
    "cday  = datetime.datetime.utcnow()\n",
    "pday  = cday - datetime.timedelta(days=1)\n",
    "ind1 = 'network_weather-%d.%02d.%02d' % (cday.year, cday.month, cday.day)\n",
    "ind2 = 'network_weather-%d.%02d.%02d' % (pday.year, pday.month, pday.day)\n",
    "\n",
    "print ('checking for indices:', ind1, ind2)\n",
    "\n",
    "ind=[]\n",
    "if ind1 in indices :\n",
    "   ind.append(ind1)\n",
    "if ind2 in indices and cday.hour<3:\n",
    "   ind.append(ind2)\n",
    "\n",
    "if len(ind)==0:\n",
    "   print ('no current indices found. Aborting.')\n",
    "   sys.exit(1)\n",
    "else:\n",
    "   print('will use indices:', ind)"
   ]
  },
  {
   "cell_type": "markdown",
   "metadata": {},
   "source": [
    "### get aggregated data for the past one hour\n",
    "This query is composed of 3 parts: a) filter - takes only packet loss data, and production servers in last 1h. b) aggregation -  finds average packet loss per source and destination c) finds IP to site name mapping (both source and destination) "
   ]
  },
  {
   "cell_type": "code",
   "execution_count": 13,
   "metadata": {
    "collapsed": true
   },
   "outputs": [],
   "source": [
    "query={\n",
    "   \"size\": 0,\n",
    "   \"query\": {\n",
    "    \"bool\": {\n",
    "      \"must\": [\n",
    "        {\"term\": { \"_type\" : \"packet_loss_rate\"}},\n",
    "        {\"term\": { \"srcProduction\" : True }},\n",
    "        {\"term\": { \"destProduction\" : True }}\n",
    "      ],\n",
    "      \"filter\" : {\n",
    "        \"range\" : {\n",
    "          \"timestamp\" : {\n",
    "            \"gt\": \"now-10h\"\n",
    "          }\n",
    "        }\n",
    "      }\n",
    "    }\n",
    "   },\n",
    "    \"aggs\" : {\n",
    "      \"src\" : {\n",
    "        \"terms\" : { \"field\" : \"src\", \"size\": 1000 },\n",
    "        \"aggs\" : {\n",
    "          \"dest\" : {\n",
    "            \"terms\" : {\"field\" : \"dest\", \"size\": 1000},\n",
    "            \"aggs\" : {\n",
    "              \"avgpl\" : {\n",
    "                \"avg\" :{\n",
    "                  \"field\" : \"packet_loss\"\n",
    "              }\n",
    "            }\n",
    "          }\n",
    "        }\n",
    "      }\n",
    "    },\n",
    "    \"srcSites\" : {\n",
    "      \"terms\" : { \"field\" : \"src\", \"size\": 1000 },\n",
    "        \"aggs\" : {\n",
    "          \"srcsitename\" : {\n",
    "            \"terms\" : { \"field\" : \"srcSite\" }\n",
    "        }\n",
    "      }\n",
    "    },\n",
    "    \"destSites\" : {\n",
    "      \"terms\" : { \"field\" : \"dest\", \"size\": 1000 },\n",
    "        \"aggs\" : {\n",
    "          \"destsitename\" : {\n",
    "            \"terms\" : { \"field\" : \"destSite\" }\n",
    "        }\n",
    "      }\n",
    "    }\n",
    "  }\n",
    "}\n",
    "\n",
    "#execute query\n",
    "res = es.search(index=ind, body=query, request_timeout=120)\n",
    "#print(res)"
   ]
  },
  {
   "cell_type": "markdown",
   "metadata": {},
   "source": [
    "### proces IP to site name mapping data"
   ]
  },
  {
   "cell_type": "code",
   "execution_count": 14,
   "metadata": {
    "collapsed": false
   },
   "outputs": [
    {
     "name": "stdout",
     "output_type": "stream",
     "text": [
      "{'129.107.255.26': 'UnknownSite', '198.124.80.201': 'UnknownSite', '131.154.254.12': 'INFN-T1', '130.246.176.109': 'RAL-LCG2', '192.54.207.250': 'GRIF', '131.225.205.12': 'UnknownSite', '62.40.126.129': 'UnknownSite', '161.116.81.235': 'UnknownSite', '192.108.47.12': 'FZK-LCG2', '134.158.20.192': 'IN2P3-CPPM', '192.12.15.111': 'BNL-ATLAS', '137.222.74.15': 'UKI-SOUTHGRID-BRIS-HEP', '147.213.204.117': 'IEPSAS-Kosice', '132.230.202.235': 'UNI-FREIBURG', '193.170.243.215': 'Hephy-Vienna', '192.5.207.251': 'BU_ATLAS_Tier2', '198.124.80.193': 'UnknownSite', '132.195.125.213': 'wuppertalprod', '131.243.24.11': 'UnknownSite', '195.194.105.178': 'UKI-NORTHGRID-MAN-HEP', '134.158.103.10': 'IN2P3-LAPP', '72.36.96.4': 'MWT2', '109.105.124.86': 'NDGF-T1', '158.195.14.26': 'FMPhI-UNIBA', '144.206.237.142': 'RRC-KI', '144.16.111.26': 'INDIACMS-TIFR', '129.215.213.70': 'UKI-SCOTGRID-ECDF', '131.111.66.196': 'UKI-SOUTHGRID-CAM-HEP', '72.36.96.15': 'MWT2', '212.191.227.174': 'CYFRONET-LCG2', '193.136.75.146': 'NCG-INGRID-PT', '163.1.5.210': 'UKI-SOUTHGRID-OX-HEP', '141.34.200.28': 'DESY-ZN', '192.101.107.152': 'UnknownSite', '134.158.159.85': 'GRIF', '193.60.193.3': 'UKI-SCOTGRID-DURHAM', '192.170.227.163': 'UnknownSite', '206.12.24.251': 'SFU-LCG2', '144.92.180.75': 'GLOW', '131.169.98.30': 'DESY-HH', '192.41.230.61': 'UnknownSite', '169.228.130.40': 'UnknownSite', '193.48.83.165': 'IN2P3-LPSC', '138.253.60.82': 'UKI-NORTHGRID-LIV-HEP', '193.40.150.83': 'UnknownSite', '193.205.76.76': 'UnknownSite', '18.12.1.171': 'UnknownSite', '147.213.204.112': 'IEPSAS-Kosice', '134.158.123.183': 'IN2P3-LPC', '148.6.8.251': 'BUDAPEST', '128.227.221.44': 'UFlorida-HPC', '134.61.24.193': 'UnknownSite', '142.150.19.61': 'CA-SCINET-T2', '194.80.35.169': 'UKI-NORTHGRID-LANCS-HEP', '130.246.47.129': 'UKI-SOUTHGRID-RALPP', '200.136.80.20': 'SPRACE', '143.215.129.69': 'UnknownSite', '194.36.11.38': 'UKI-LT2-QMUL', '157.82.112.68': 'TOKYO-LCG2', '192.41.230.59': 'AGLT2', '129.15.40.231': 'OU_OCHEP_SWT2', '193.48.99.76': 'IN2P3-CC', '193.62.56.9': 'UKI-SOUTHGRID-BHAM-HEP', '193.206.93.45': 'UnknownSite', '134.79.118.72': 'WT2', '81.180.86.64': 'RO-07-NIPNE', '64.57.30.143': 'UnknownSite', '128.211.143.3': 'UnknownSite', '159.93.229.151': 'JINR-T1', '129.15.40.229': 'OU_OCHEP_SWT2', '147.231.25.192': 'praguelcg2', '192.12.15.26': 'BNL-ATLAS', '192.41.236.35': 'UnknownSite', '149.165.225.223': 'MWT2', '200.17.30.135': 'UnknownSite', '85.122.31.74': 'RO-16-UAIC', '134.158.132.200': 'GRIF', '90.147.66.50': 'UnknownSite', '193.239.180.211': 'UnknownSite', '149.165.224.247': 'UnknownSite', '128.142.223.247': 'CERN-PROD', '192.84.86.122': 'UnknownSite', '146.83.90.7': 'EELA-UTFSM', '148.187.64.25': 'CSCS-LCG2', '134.75.125.241': 'UnknownSite', '152.84.101.141': 'UnknownSite', '147.156.116.40': 'IFIC-LCG2', '193.109.172.188': 'pic', '90.147.67.252': 'INFN-NAPOLI-ATLAS', '193.146.75.138': 'IFCA-LCG2', '192.170.227.160': 'MWT2', '206.12.9.2': 'TRIUMF-LCG2', '132.206.245.252': 'CA-MCGILL-CLUMEQ-T2', '145.100.17.8': 'SARA-MATRIX', '134.158.73.243': 'GRIF', '129.93.5.165': 'Nebraska', '129.107.255.29': 'UTA_SWT2', '194.85.69.75': 'ITEP', '109.105.125.232': 'FI_HIP_T2', '141.108.35.18': 'INFN-ROMA1', '192.135.14.32': 'INFN-MILANO-ATLASC', '192.114.101.125': 'TECHNION-HEP', '129.93.239.148': 'Nebraska', '64.57.30.149': 'UnknownSite', '192.41.236.31': 'AGLT2', '202.13.207.242': 'UnknownSite', '193.144.80.12': 'UnknownSite', '192.231.127.41': 'Australia-ATLAS', '81.180.86.38': 'RO-02-NIPNE', '194.190.165.192': 'RU-Protvino-IHEP', '150.244.247.2': 'UAM-LCG2', '192.101.161.186': 'UnknownSite', '206.12.154.60': 'CA-VICTORIA-WESTGRID-T2', '165.91.55.4': 'UnknownSite', '143.167.3.116': 'UKI-NORTHGRID-SHEF-HEP', '192.111.108.112': 'Vanderbilt', '117.103.105.191': 'Taiwan-LCG2', '202.122.32.170': 'BEIJING-LCG2', '134.219.225.13': 'UKI-LT2-RHUL', '164.58.29.121': 'LUCILLE'}\n"
     ]
    }
   ],
   "source": [
    "srcsites=res['aggregations']['srcSites']['buckets']\n",
    "#print(srcsites)\n",
    "for sS in srcsites:\n",
    "   #print(sS)\n",
    "   siteName=sS['srcsitename']['buckets']\n",
    "   if len(siteName)==0:\n",
    "      siteName='UnknownSite'\n",
    "   else:\n",
    "      siteName=siteName[0]['key']\n",
    "   ipSite[sS['key']]=siteName\n",
    "\n",
    "destsites=res['aggregations']['destSites']['buckets']\n",
    "#print(destsites)\n",
    "for dS in destsites:\n",
    "   #print(dS)\n",
    "   siteName=dS['destsitename']['buckets']\n",
    "   if len(siteName)==0:\n",
    "      siteName='UnknownSite'\n",
    "   else:\n",
    "      siteName=siteName[0]['key']\n",
    "   ipSite[dS['key']]=siteName\n",
    "\n",
    "print(ipSite)\n"
   ]
  },
  {
   "cell_type": "markdown",
   "metadata": {},
   "source": [
    "### process packet loss averages"
   ]
  },
  {
   "cell_type": "code",
   "execution_count": 15,
   "metadata": {
    "collapsed": false
   },
   "outputs": [
    {
     "name": "stdout",
     "output_type": "stream",
     "text": [
      "{'_index': 'alarms-2016.08', 'packetLossAvg': 0.8952380952380954, 'destSite': 'INFN-ROMA1', 'alarmTime': 1471902109616, 'src': '195.194.105.178', 'dest': '141.108.35.18', '_type': 'packetloss', 'srcSite': 'UKI-NORTHGRID-MAN-HEP', 'measurements': 105}\n",
      "{'_index': 'alarms-2016.08', 'packetLossAvg': 1.0, 'destSite': 'UnknownSite', 'alarmTime': 1471902109616, 'src': '195.194.105.178', 'dest': '161.116.81.235', '_type': 'packetloss', 'srcSite': 'UKI-NORTHGRID-MAN-HEP', 'measurements': 11}\n",
      "{'_index': 'alarms-2016.08', 'packetLossAvg': 1.0, 'destSite': 'UnknownSite', 'alarmTime': 1471902109616, 'src': '141.34.200.28', 'dest': '161.116.81.235', '_type': 'packetloss', 'srcSite': 'DESY-ZN', 'measurements': 14}\n",
      "{'_index': 'alarms-2016.08', 'packetLossAvg': 0.8923076923076925, 'destSite': 'INFN-ROMA1', 'alarmTime': 1471902109616, 'src': '193.146.75.138', 'dest': '141.108.35.18', '_type': 'packetloss', 'srcSite': 'IFCA-LCG2', 'measurements': 13}\n",
      "{'_index': 'alarms-2016.08', 'packetLossAvg': 0.9199999999999999, 'destSite': 'INFN-ROMA1', 'alarmTime': 1471902109616, 'src': '130.246.176.109', 'dest': '141.108.35.18', '_type': 'packetloss', 'srcSite': 'RAL-LCG2', 'measurements': 10}\n",
      "{'_index': 'alarms-2016.08', 'packetLossAvg': 1.0, 'destSite': 'UnknownSite', 'alarmTime': 1471902109616, 'src': '131.154.254.12', 'dest': '161.116.81.235', '_type': 'packetloss', 'srcSite': 'INFN-T1', 'measurements': 10}\n",
      "{'_index': 'alarms-2016.08', 'packetLossAvg': 1.0, 'destSite': 'UnknownSite', 'alarmTime': 1471902109616, 'src': '81.180.86.64', 'dest': '161.116.81.235', '_type': 'packetloss', 'srcSite': 'RO-07-NIPNE', 'measurements': 6}\n",
      "{'_index': 'alarms-2016.08', 'packetLossAvg': 0.18560917526117285, 'destSite': 'BEIJING-LCG2', 'alarmTime': 1471902109616, 'src': '192.41.230.59', 'dest': '202.122.32.170', '_type': 'packetloss', 'srcSite': 'AGLT2', 'measurements': 14}\n",
      "{'_index': 'alarms-2016.08', 'packetLossAvg': 1.0, 'destSite': 'UnknownSite', 'alarmTime': 1471902109616, 'src': '129.215.213.70', 'dest': '161.116.81.235', '_type': 'packetloss', 'srcSite': 'UKI-SCOTGRID-ECDF', 'measurements': 10}\n",
      "{'_index': 'alarms-2016.08', 'packetLossAvg': 0.8444444444444444, 'destSite': 'INFN-ROMA1', 'alarmTime': 1471902109616, 'src': '129.215.213.70', 'dest': '141.108.35.18', '_type': 'packetloss', 'srcSite': 'UKI-SCOTGRID-ECDF', 'measurements': 9}\n",
      "{'_index': 'alarms-2016.08', 'packetLossAvg': 0.059638149482670086, 'destSite': 'UnknownSite', 'alarmTime': 1471902109616, 'src': '131.169.98.30', 'dest': '62.40.126.129', '_type': 'packetloss', 'srcSite': 'DESY-HH', 'measurements': 9}\n",
      "{'_index': 'alarms-2016.08', 'packetLossAvg': 1.0, 'destSite': 'UnknownSite', 'alarmTime': 1471902109616, 'src': '134.158.132.200', 'dest': '161.116.81.235', '_type': 'packetloss', 'srcSite': 'GRIF', 'measurements': 9}\n",
      "{'_index': 'alarms-2016.08', 'packetLossAvg': 0.2016765873015873, 'destSite': 'BEIJING-LCG2', 'alarmTime': 1471902109616, 'src': '192.41.236.31', 'dest': '202.122.32.170', '_type': 'packetloss', 'srcSite': 'AGLT2', 'measurements': 14}\n",
      "{'_index': 'alarms-2016.08', 'packetLossAvg': 1.0, 'destSite': 'UnknownSite', 'alarmTime': 1471902109616, 'src': '131.111.66.196', 'dest': '161.116.81.235', '_type': 'packetloss', 'srcSite': 'UKI-SOUTHGRID-CAM-HEP', 'measurements': 12}\n",
      "{'_index': 'alarms-2016.08', 'packetLossAvg': 0.8893939393939395, 'destSite': 'INFN-ROMA1', 'alarmTime': 1471902109616, 'src': '131.111.66.196', 'dest': '141.108.35.18', '_type': 'packetloss', 'srcSite': 'UKI-SOUTHGRID-CAM-HEP', 'measurements': 11}\n",
      "{'_index': 'alarms-2016.08', 'packetLossAvg': 0.8848484848484848, 'destSite': 'INFN-ROMA1', 'alarmTime': 1471902109616, 'src': '130.246.47.129', 'dest': '141.108.35.18', '_type': 'packetloss', 'srcSite': 'UKI-SOUTHGRID-RALPP', 'measurements': 11}\n",
      "{'_index': 'alarms-2016.08', 'packetLossAvg': 0.25575000000000003, 'destSite': 'BEIJING-LCG2', 'alarmTime': 1471902109616, 'src': '128.142.223.247', 'dest': '202.122.32.170', '_type': 'packetloss', 'srcSite': 'CERN-PROD', 'measurements': 9}\n",
      "{'_index': 'alarms-2016.08', 'packetLossAvg': 1.0, 'destSite': 'UnknownSite', 'alarmTime': 1471902109616, 'src': '128.142.223.247', 'dest': '161.116.81.235', '_type': 'packetloss', 'srcSite': 'CERN-PROD', 'measurements': 7}\n",
      "{'_index': 'alarms-2016.08', 'packetLossAvg': 0.0814047619047619, 'destSite': 'BEIJING-LCG2', 'alarmTime': 1471902109617, 'src': '129.15.40.231', 'dest': '202.122.32.170', '_type': 'packetloss', 'srcSite': 'OU_OCHEP_SWT2', 'measurements': 14}\n",
      "{'_index': 'alarms-2016.08', 'packetLossAvg': 0.043675925925925924, 'destSite': 'FMPhI-UNIBA', 'alarmTime': 1471902109617, 'src': '85.122.31.74', 'dest': '158.195.14.26', '_type': 'packetloss', 'srcSite': 'RO-16-UAIC', 'measurements': 9}\n",
      "{'_index': 'alarms-2016.08', 'packetLossAvg': 0.022222222222222223, 'destSite': 'IN2P3-LPSC', 'alarmTime': 1471902109617, 'src': '85.122.31.74', 'dest': '193.48.83.165', '_type': 'packetloss', 'srcSite': 'RO-16-UAIC', 'measurements': 9}\n",
      "{'_index': 'alarms-2016.08', 'packetLossAvg': 0.2640757575757576, 'destSite': 'BEIJING-LCG2', 'alarmTime': 1471902109617, 'src': '132.206.245.252', 'dest': '202.122.32.170', '_type': 'packetloss', 'srcSite': 'CA-MCGILL-CLUMEQ-T2', 'measurements': 11}\n",
      "{'_index': 'alarms-2016.08', 'packetLossAvg': 0.2789777777777778, 'destSite': 'BEIJING-LCG2', 'alarmTime': 1471902109617, 'src': '149.165.225.223', 'dest': '202.122.32.170', '_type': 'packetloss', 'srcSite': 'MWT2', 'measurements': 10}\n",
      "{'_index': 'alarms-2016.08', 'packetLossAvg': 0.9571428571428572, 'destSite': 'INFN-ROMA1', 'alarmTime': 1471902109617, 'src': '163.1.5.210', 'dest': '141.108.35.18', '_type': 'packetloss', 'srcSite': 'UKI-SOUTHGRID-OX-HEP', 'measurements': 14}\n",
      "{'_index': 'alarms-2016.08', 'packetLossAvg': 1.0, 'destSite': 'UnknownSite', 'alarmTime': 1471902109617, 'src': '163.1.5.210', 'dest': '161.116.81.235', '_type': 'packetloss', 'srcSite': 'UKI-SOUTHGRID-OX-HEP', 'measurements': 8}\n",
      "{'_index': 'alarms-2016.08', 'packetLossAvg': 1.0, 'destSite': 'UnknownSite', 'alarmTime': 1471902109617, 'src': '193.206.93.45', 'dest': '161.116.81.235', '_type': 'packetloss', 'srcSite': 'UnknownSite', 'measurements': 11}\n",
      "{'_index': 'alarms-2016.08', 'packetLossAvg': 0.8182121212121213, 'destSite': 'NCG-INGRID-PT', 'alarmTime': 1471902109617, 'src': '193.206.93.45', 'dest': '193.136.75.146', '_type': 'packetloss', 'srcSite': 'UnknownSite', 'measurements': 11}\n",
      "{'_index': 'alarms-2016.08', 'packetLossAvg': 0.9384615384615385, 'destSite': 'INFN-ROMA1', 'alarmTime': 1471902109617, 'src': '129.107.255.29', 'dest': '141.108.35.18', '_type': 'packetloss', 'srcSite': 'UTA_SWT2', 'measurements': 13}\n",
      "{'_index': 'alarms-2016.08', 'packetLossAvg': 0.4834888888888889, 'destSite': 'BEIJING-LCG2', 'alarmTime': 1471902109617, 'src': '129.107.255.29', 'dest': '202.122.32.170', '_type': 'packetloss', 'srcSite': 'UTA_SWT2', 'measurements': 5}\n",
      "{'_index': 'alarms-2016.08', 'packetLossAvg': 1.0, 'destSite': 'UnknownSite', 'alarmTime': 1471902109617, 'src': '134.158.103.10', 'dest': '161.116.81.235', '_type': 'packetloss', 'srcSite': 'IN2P3-LAPP', 'measurements': 11}\n",
      "{'_index': 'alarms-2016.08', 'packetLossAvg': 0.022222222222222223, 'destSite': 'UnknownSite', 'alarmTime': 1471902109617, 'src': '134.158.103.10', 'dest': '193.206.93.45', '_type': 'packetloss', 'srcSite': 'IN2P3-LAPP', 'measurements': 9}\n",
      "{'_index': 'alarms-2016.08', 'packetLossAvg': 1.0, 'destSite': 'UnknownSite', 'alarmTime': 1471902109617, 'src': '193.48.99.76', 'dest': '161.116.81.235', '_type': 'packetloss', 'srcSite': 'IN2P3-CC', 'measurements': 8}\n",
      "{'_index': 'alarms-2016.08', 'packetLossAvg': 0.29594166666666666, 'destSite': 'BEIJING-LCG2', 'alarmTime': 1471902109617, 'src': '194.190.165.192', 'dest': '202.122.32.170', '_type': 'packetloss', 'srcSite': 'RU-Protvino-IHEP', 'measurements': 10}\n",
      "{'_index': 'alarms-2016.08', 'packetLossAvg': 0.027777777777777776, 'destSite': 'IFIC-LCG2', 'alarmTime': 1471902109617, 'src': '194.190.165.192', 'dest': '147.156.116.40', '_type': 'packetloss', 'srcSite': 'RU-Protvino-IHEP', 'measurements': 9}\n",
      "{'_index': 'alarms-2016.08', 'packetLossAvg': 1.0, 'destSite': 'UnknownSite', 'alarmTime': 1471902109617, 'src': '194.190.165.192', 'dest': '161.116.81.235', '_type': 'packetloss', 'srcSite': 'RU-Protvino-IHEP', 'measurements': 8}\n",
      "{'_index': 'alarms-2016.08', 'packetLossAvg': 0.9071428571428571, 'destSite': 'INFN-ROMA1', 'alarmTime': 1471902109617, 'src': '192.231.127.41', 'dest': '141.108.35.18', '_type': 'packetloss', 'srcSite': 'Australia-ATLAS', 'measurements': 7}\n",
      "{'_index': 'alarms-2016.08', 'packetLossAvg': 0.18382368732918952, 'destSite': 'BEIJING-LCG2', 'alarmTime': 1471902109617, 'src': '72.36.96.4', 'dest': '202.122.32.170', '_type': 'packetloss', 'srcSite': 'MWT2', 'measurements': 9}\n",
      "{'_index': 'alarms-2016.08', 'packetLossAvg': 1.0, 'destSite': 'UnknownSite', 'alarmTime': 1471902109617, 'src': '194.80.35.169', 'dest': '161.116.81.235', '_type': 'packetloss', 'srcSite': 'UKI-NORTHGRID-LANCS-HEP', 'measurements': 12}\n",
      "{'_index': 'alarms-2016.08', 'packetLossAvg': 0.89, 'destSite': 'INFN-ROMA1', 'alarmTime': 1471902109617, 'src': '194.80.35.169', 'dest': '141.108.35.18', '_type': 'packetloss', 'srcSite': 'UKI-NORTHGRID-LANCS-HEP', 'measurements': 10}\n",
      "{'_index': 'alarms-2016.08', 'packetLossAvg': 0.3025227272727272, 'destSite': 'BEIJING-LCG2', 'alarmTime': 1471902109617, 'src': '145.100.17.8', 'dest': '202.122.32.170', '_type': 'packetloss', 'srcSite': 'SARA-MATRIX', 'measurements': 11}\n",
      "{'_index': 'alarms-2016.08', 'packetLossAvg': 1.0, 'destSite': 'UnknownSite', 'alarmTime': 1471902109617, 'src': '145.100.17.8', 'dest': '161.116.81.235', '_type': 'packetloss', 'srcSite': 'SARA-MATRIX', 'measurements': 8}\n",
      "{'_index': 'alarms-2016.08', 'packetLossAvg': 0.05671666666666667, 'destSite': 'FMPhI-UNIBA', 'alarmTime': 1471902109617, 'src': '81.180.86.38', 'dest': '158.195.14.26', '_type': 'packetloss', 'srcSite': 'RO-02-NIPNE', 'measurements': 10}\n",
      "{'_index': 'alarms-2016.08', 'packetLossAvg': 0.041407407407407414, 'destSite': 'IEPSAS-Kosice', 'alarmTime': 1471902109618, 'src': '81.180.86.38', 'dest': '147.213.204.112', '_type': 'packetloss', 'srcSite': 'RO-02-NIPNE', 'measurements': 9}\n",
      "{'_index': 'alarms-2016.08', 'packetLossAvg': 0.9199999999999999, 'destSite': 'INFN-ROMA1', 'alarmTime': 1471902109618, 'src': '206.12.154.60', 'dest': '141.108.35.18', '_type': 'packetloss', 'srcSite': 'CA-VICTORIA-WESTGRID-T2', 'measurements': 10}\n",
      "{'_index': 'alarms-2016.08', 'packetLossAvg': 0.27773148148148147, 'destSite': 'BEIJING-LCG2', 'alarmTime': 1471902109618, 'src': '192.111.108.112', 'dest': '202.122.32.170', '_type': 'packetloss', 'srcSite': 'Vanderbilt', 'measurements': 12}\n",
      "{'_index': 'alarms-2016.08', 'packetLossAvg': 1.0, 'destSite': 'INFN-ROMA1', 'alarmTime': 1471902109618, 'src': '148.187.64.25', 'dest': '141.108.35.18', '_type': 'packetloss', 'srcSite': 'CSCS-LCG2', 'measurements': 9}\n",
      "{'_index': 'alarms-2016.08', 'packetLossAvg': 1.0, 'destSite': 'UnknownSite', 'alarmTime': 1471902109618, 'src': '148.187.64.25', 'dest': '161.116.81.235', '_type': 'packetloss', 'srcSite': 'CSCS-LCG2', 'measurements': 9}\n",
      "{'_index': 'alarms-2016.08', 'packetLossAvg': 0.8785714285714284, 'destSite': 'NCG-INGRID-PT', 'alarmTime': 1471902109618, 'src': '134.158.73.243', 'dest': '193.136.75.146', '_type': 'packetloss', 'srcSite': 'GRIF', 'measurements': 14}\n",
      "{'_index': 'alarms-2016.08', 'packetLossAvg': 0.9249999999999999, 'destSite': 'INFN-ROMA1', 'alarmTime': 1471902109618, 'src': '192.5.207.251', 'dest': '141.108.35.18', '_type': 'packetloss', 'srcSite': 'BU_ATLAS_Tier2', 'measurements': 12}\n",
      "{'_index': 'alarms-2016.08', 'packetLossAvg': 0.24188888888888888, 'destSite': 'BEIJING-LCG2', 'alarmTime': 1471902109618, 'src': '192.5.207.251', 'dest': '202.122.32.170', '_type': 'packetloss', 'srcSite': 'BU_ATLAS_Tier2', 'measurements': 8}\n",
      "{'_index': 'alarms-2016.08', 'packetLossAvg': 1.0, 'destSite': 'UnknownSite', 'alarmTime': 1471902109618, 'src': '193.109.172.188', 'dest': '161.116.81.235', '_type': 'packetloss', 'srcSite': 'pic', 'measurements': 9}\n",
      "{'_index': 'alarms-2016.08', 'packetLossAvg': 1.0, 'destSite': 'UnknownSite', 'alarmTime': 1471902109618, 'src': '134.158.159.85', 'dest': '161.116.81.235', '_type': 'packetloss', 'srcSite': 'GRIF', 'measurements': 7}\n",
      "{'_index': 'alarms-2016.08', 'packetLossAvg': 1.0, 'destSite': 'UnknownSite', 'alarmTime': 1471902109618, 'src': '18.12.1.171', 'dest': '161.116.81.235', '_type': 'packetloss', 'srcSite': 'UnknownSite', 'measurements': 11}\n",
      "{'_index': 'alarms-2016.08', 'packetLossAvg': 0.7899999999999999, 'destSite': 'NCG-INGRID-PT', 'alarmTime': 1471902109618, 'src': '18.12.1.171', 'dest': '193.136.75.146', '_type': 'packetloss', 'srcSite': 'UnknownSite', 'measurements': 10}\n",
      "{'_index': 'alarms-2016.08', 'packetLossAvg': 0.2103361753371869, 'destSite': 'BEIJING-LCG2', 'alarmTime': 1471902109618, 'src': '18.12.1.171', 'dest': '202.122.32.170', '_type': 'packetloss', 'srcSite': 'UnknownSite', 'measurements': 10}\n",
      "{'_index': 'alarms-2016.08', 'packetLossAvg': 1.0, 'destSite': 'UnknownSite', 'alarmTime': 1471902109618, 'src': '138.253.60.82', 'dest': '161.116.81.235', '_type': 'packetloss', 'srcSite': 'UKI-NORTHGRID-LIV-HEP', 'measurements': 8}\n",
      "{'_index': 'alarms-2016.08', 'packetLossAvg': 1.0, 'destSite': 'UnknownSite', 'alarmTime': 1471902109618, 'src': '90.147.66.50', 'dest': '161.116.81.235', '_type': 'packetloss', 'srcSite': 'UnknownSite', 'measurements': 12}\n",
      "{'_index': 'alarms-2016.08', 'packetLossAvg': 0.26645512820512823, 'destSite': 'BEIJING-LCG2', 'alarmTime': 1471902109618, 'src': '128.227.221.44', 'dest': '202.122.32.170', '_type': 'packetloss', 'srcSite': 'UFlorida-HPC', 'measurements': 13}\n",
      "{'_index': 'alarms-2016.08', 'packetLossAvg': 0.7999999999999999, 'destSite': 'INFN-ROMA1', 'alarmTime': 1471902109618, 'src': '158.195.14.26', 'dest': '141.108.35.18', '_type': 'packetloss', 'srcSite': 'FMPhI-UNIBA', 'measurements': 7}\n",
      "{'_index': 'alarms-2016.08', 'packetLossAvg': 1.0, 'destSite': 'UnknownSite', 'alarmTime': 1471902109618, 'src': '192.114.101.125', 'dest': '161.116.81.235', '_type': 'packetloss', 'srcSite': 'TECHNION-HEP', 'measurements': 8}\n",
      "{'_index': 'alarms-2016.08', 'packetLossAvg': 0.13922946859903382, 'destSite': 'UnknownSite', 'alarmTime': 1471902109618, 'src': '169.228.130.40', 'dest': '131.225.205.12', '_type': 'packetloss', 'srcSite': 'UnknownSite', 'measurements': 23}\n",
      "{'_index': 'alarms-2016.08', 'packetLossAvg': 0.37730555555555556, 'destSite': 'BEIJING-LCG2', 'alarmTime': 1471902109619, 'src': '146.83.90.7', 'dest': '202.122.32.170', '_type': 'packetloss', 'srcSite': 'EELA-UTFSM', 'measurements': 6}\n",
      "{'_index': 'alarms-2016.08', 'packetLossAvg': 0.8699999999999999, 'destSite': 'INFN-ROMA1', 'alarmTime': 1471902109619, 'src': '146.83.90.7', 'dest': '141.108.35.18', '_type': 'packetloss', 'srcSite': 'EELA-UTFSM', 'measurements': 5}\n",
      "{'_index': 'alarms-2016.08', 'packetLossAvg': 0.19025231481481483, 'destSite': 'BEIJING-LCG2', 'alarmTime': 1471902109619, 'src': '129.93.239.148', 'dest': '202.122.32.170', '_type': 'packetloss', 'srcSite': 'Nebraska', 'measurements': 12}\n",
      "{'_index': 'alarms-2016.08', 'packetLossAvg': 0.25768776885817835, 'destSite': 'BEIJING-LCG2', 'alarmTime': 1471902109619, 'src': '159.93.229.151', 'dest': '202.122.32.170', '_type': 'packetloss', 'srcSite': 'JINR-T1', 'measurements': 13}\n",
      "{'_index': 'alarms-2016.08', 'packetLossAvg': 0.24029629629629626, 'destSite': 'BEIJING-LCG2', 'alarmTime': 1471902109619, 'src': '144.92.180.75', 'dest': '202.122.32.170', '_type': 'packetloss', 'srcSite': 'GLOW', 'measurements': 12}\n",
      "{'_index': 'alarms-2016.08', 'packetLossAvg': 1.0, 'destSite': 'UnknownSite', 'alarmTime': 1471902109619, 'src': '193.60.193.3', 'dest': '161.116.81.235', '_type': 'packetloss', 'srcSite': 'UKI-SCOTGRID-DURHAM', 'measurements': 11}\n",
      "{'_index': 'alarms-2016.08', 'packetLossAvg': 1.0, 'destSite': 'UnknownSite', 'alarmTime': 1471902109619, 'src': '152.84.101.141', 'dest': '161.116.81.235', '_type': 'packetloss', 'srcSite': 'UnknownSite', 'measurements': 12}\n",
      "{'_index': 'alarms-2016.08', 'packetLossAvg': 1.0, 'destSite': 'UnknownSite', 'alarmTime': 1471902109619, 'src': '194.36.11.38', 'dest': '161.116.81.235', '_type': 'packetloss', 'srcSite': 'UKI-LT2-QMUL', 'measurements': 10}\n",
      "{'_index': 'alarms-2016.08', 'packetLossAvg': 1.0, 'destSite': 'UnknownSite', 'alarmTime': 1471902109619, 'src': '193.205.76.76', 'dest': '161.116.81.235', '_type': 'packetloss', 'srcSite': 'UnknownSite', 'measurements': 5}\n",
      "{'_index': 'alarms-2016.08', 'packetLossAvg': 0.05788095238095238, 'destSite': 'RAL-LCG2', 'alarmTime': 1471902109619, 'src': '148.6.8.251', 'dest': '130.246.176.109', '_type': 'packetloss', 'srcSite': 'BUDAPEST', 'measurements': 14}\n",
      "{'_index': 'alarms-2016.08', 'packetLossAvg': 0.08247619047619047, 'destSite': 'UKI-SOUTHGRID-RALPP', 'alarmTime': 1471902109619, 'src': '148.6.8.251', 'dest': '130.246.47.129', '_type': 'packetloss', 'srcSite': 'BUDAPEST', 'measurements': 14}\n",
      "{'_index': 'alarms-2016.08', 'packetLossAvg': 0.06632478632478632, 'destSite': 'FI_HIP_T2', 'alarmTime': 1471902109619, 'src': '148.6.8.251', 'dest': '109.105.125.232', '_type': 'packetloss', 'srcSite': 'BUDAPEST', 'measurements': 13}\n",
      "{'_index': 'alarms-2016.08', 'packetLossAvg': 0.06672008547008547, 'destSite': 'CERN-PROD', 'alarmTime': 1471902109619, 'src': '148.6.8.251', 'dest': '128.142.223.247', '_type': 'packetloss', 'srcSite': 'BUDAPEST', 'measurements': 13}\n",
      "{'_index': 'alarms-2016.08', 'packetLossAvg': 0.06724358974358974, 'destSite': 'UFlorida-HPC', 'alarmTime': 1471902109619, 'src': '148.6.8.251', 'dest': '128.227.221.44', '_type': 'packetloss', 'srcSite': 'BUDAPEST', 'measurements': 13}\n",
      "{'_index': 'alarms-2016.08', 'packetLossAvg': 0.06425, 'destSite': 'Nebraska', 'alarmTime': 1471902109619, 'src': '148.6.8.251', 'dest': '129.93.239.148', '_type': 'packetloss', 'srcSite': 'BUDAPEST', 'measurements': 13}\n",
      "{'_index': 'alarms-2016.08', 'packetLossAvg': 0.08404273504273505, 'destSite': 'DESY-HH', 'alarmTime': 1471902109619, 'src': '148.6.8.251', 'dest': '131.169.98.30', '_type': 'packetloss', 'srcSite': 'BUDAPEST', 'measurements': 13}\n",
      "{'_index': 'alarms-2016.08', 'packetLossAvg': 0.08442307692307692, 'destSite': 'UnknownSite', 'alarmTime': 1471902109619, 'src': '148.6.8.251', 'dest': '131.225.205.12', '_type': 'packetloss', 'srcSite': 'BUDAPEST', 'measurements': 13}\n",
      "{'_index': 'alarms-2016.08', 'packetLossAvg': 0.04733333333333333, 'destSite': 'GRIF', 'alarmTime': 1471902109619, 'src': '148.6.8.251', 'dest': '134.158.132.200', '_type': 'packetloss', 'srcSite': 'BUDAPEST', 'measurements': 13}\n",
      "{'_index': 'alarms-2016.08', 'packetLossAvg': 0.08564102564102563, 'destSite': 'GRIF', 'alarmTime': 1471902109619, 'src': '148.6.8.251', 'dest': '134.158.73.243', '_type': 'packetloss', 'srcSite': 'BUDAPEST', 'measurements': 13}\n",
      "{'_index': 'alarms-2016.08', 'packetLossAvg': 0.041980769230769224, 'destSite': 'CSCS-LCG2', 'alarmTime': 1471902109619, 'src': '148.6.8.251', 'dest': '148.187.64.25', '_type': 'packetloss', 'srcSite': 'BUDAPEST', 'measurements': 13}\n",
      "{'_index': 'alarms-2016.08', 'packetLossAvg': 0.045564102564102565, 'destSite': 'JINR-T1', 'alarmTime': 1471902109619, 'src': '148.6.8.251', 'dest': '159.93.229.151', '_type': 'packetloss', 'srcSite': 'BUDAPEST', 'measurements': 13}\n",
      "{'_index': 'alarms-2016.08', 'packetLossAvg': 0.05292307692307693, 'destSite': 'FZK-LCG2', 'alarmTime': 1471902109619, 'src': '148.6.8.251', 'dest': '192.108.47.12', '_type': 'packetloss', 'srcSite': 'BUDAPEST', 'measurements': 13}\n",
      "{'_index': 'alarms-2016.08', 'packetLossAvg': 0.0692051282051282, 'destSite': 'Vanderbilt', 'alarmTime': 1471902109619, 'src': '148.6.8.251', 'dest': '192.111.108.112', '_type': 'packetloss', 'srcSite': 'BUDAPEST', 'measurements': 13}\n",
      "{'_index': 'alarms-2016.08', 'packetLossAvg': 0.06533333333333333, 'destSite': 'GRIF', 'alarmTime': 1471902109619, 'src': '148.6.8.251', 'dest': '192.54.207.250', '_type': 'packetloss', 'srcSite': 'BUDAPEST', 'measurements': 13}\n",
      "{'_index': 'alarms-2016.08', 'packetLossAvg': 0.08142307692307692, 'destSite': 'IFCA-LCG2', 'alarmTime': 1471902109619, 'src': '148.6.8.251', 'dest': '193.146.75.138', '_type': 'packetloss', 'srcSite': 'BUDAPEST', 'measurements': 13}\n",
      "{'_index': 'alarms-2016.08', 'packetLossAvg': 0.0742628205128205, 'destSite': 'UnknownSite', 'alarmTime': 1471902109619, 'src': '148.6.8.251', 'dest': '193.205.76.76', '_type': 'packetloss', 'srcSite': 'BUDAPEST', 'measurements': 13}\n",
      "{'_index': 'alarms-2016.08', 'packetLossAvg': 0.07613461538461538, 'destSite': 'UnknownSite', 'alarmTime': 1471902109619, 'src': '148.6.8.251', 'dest': '193.239.180.211', '_type': 'packetloss', 'srcSite': 'BUDAPEST', 'measurements': 13}\n",
      "{'_index': 'alarms-2016.08', 'packetLossAvg': 0.0769145299145299, 'destSite': 'RU-Protvino-IHEP', 'alarmTime': 1471902109619, 'src': '148.6.8.251', 'dest': '194.190.165.192', '_type': 'packetloss', 'srcSite': 'BUDAPEST', 'measurements': 13}\n",
      "{'_index': 'alarms-2016.08', 'packetLossAvg': 0.06963187600590869, 'destSite': 'BEIJING-LCG2', 'alarmTime': 1471902109619, 'src': '148.6.8.251', 'dest': '202.122.32.170', '_type': 'packetloss', 'srcSite': 'BUDAPEST', 'measurements': 13}\n",
      "{'_index': 'alarms-2016.08', 'packetLossAvg': 0.07758547008547009, 'destSite': 'UnknownSite', 'alarmTime': 1471902109619, 'src': '148.6.8.251', 'dest': '90.147.66.50', '_type': 'packetloss', 'srcSite': 'BUDAPEST', 'measurements': 13}\n",
      "{'_index': 'alarms-2016.08', 'packetLossAvg': 0.04233333333333334, 'destSite': 'INFN-T1', 'alarmTime': 1471902109619, 'src': '148.6.8.251', 'dest': '131.154.254.12', '_type': 'packetloss', 'srcSite': 'BUDAPEST', 'measurements': 12}\n",
      "{'_index': 'alarms-2016.08', 'packetLossAvg': 0.029027777777777777, 'destSite': 'GRIF', 'alarmTime': 1471902109619, 'src': '148.6.8.251', 'dest': '134.158.159.85', '_type': 'packetloss', 'srcSite': 'BUDAPEST', 'measurements': 12}\n",
      "{'_index': 'alarms-2016.08', 'packetLossAvg': 0.022083333333333333, 'destSite': 'UnknownSite', 'alarmTime': 1471902109619, 'src': '148.6.8.251', 'dest': '169.228.130.40', '_type': 'packetloss', 'srcSite': 'BUDAPEST', 'measurements': 12}\n",
      "{'_index': 'alarms-2016.08', 'packetLossAvg': 0.04715277777777777, 'destSite': 'IN2P3-CC', 'alarmTime': 1471902109619, 'src': '148.6.8.251', 'dest': '193.48.99.76', '_type': 'packetloss', 'srcSite': 'BUDAPEST', 'measurements': 12}\n",
      "{'_index': 'alarms-2016.08', 'packetLossAvg': 1.0, 'destSite': 'UnknownSite', 'alarmTime': 1471902109619, 'src': '193.144.80.12', 'dest': '161.116.81.235', '_type': 'packetloss', 'srcSite': 'UnknownSite', 'measurements': 9}\n",
      "{'_index': 'alarms-2016.08', 'packetLossAvg': 0.8001010101010102, 'destSite': 'NCG-INGRID-PT', 'alarmTime': 1471902109620, 'src': '137.222.74.15', 'dest': '193.136.75.146', '_type': 'packetloss', 'srcSite': 'UKI-SOUTHGRID-BRIS-HEP', 'measurements': 11}\n",
      "{'_index': 'alarms-2016.08', 'packetLossAvg': 0.02026666666666667, 'destSite': 'TOKYO-LCG2', 'alarmTime': 1471902109620, 'src': '137.222.74.15', 'dest': '157.82.112.68', '_type': 'packetloss', 'srcSite': 'UKI-SOUTHGRID-BRIS-HEP', 'measurements': 10}\n",
      "{'_index': 'alarms-2016.08', 'packetLossAvg': 1.0, 'destSite': 'UnknownSite', 'alarmTime': 1471902109620, 'src': '137.222.74.15', 'dest': '161.116.81.235', '_type': 'packetloss', 'srcSite': 'UKI-SOUTHGRID-BRIS-HEP', 'measurements': 10}\n",
      "{'_index': 'alarms-2016.08', 'packetLossAvg': 0.022444444444444447, 'destSite': 'UNI-FREIBURG', 'alarmTime': 1471902109620, 'src': '137.222.74.15', 'dest': '132.230.202.235', '_type': 'packetloss', 'srcSite': 'UKI-SOUTHGRID-BRIS-HEP', 'measurements': 9}\n",
      "{'_index': 'alarms-2016.08', 'packetLossAvg': 1.0, 'destSite': 'UKI-NORTHGRID-SHEF-HEP', 'alarmTime': 1471902109620, 'src': '193.62.56.9', 'dest': '143.167.3.116', '_type': 'packetloss', 'srcSite': 'UKI-SOUTHGRID-BHAM-HEP', 'measurements': 13}\n",
      "{'_index': 'alarms-2016.08', 'packetLossAvg': 1.0, 'destSite': 'UnknownSite', 'alarmTime': 1471902109620, 'src': '193.62.56.9', 'dest': '161.116.81.235', '_type': 'packetloss', 'srcSite': 'UKI-SOUTHGRID-BHAM-HEP', 'measurements': 13}\n",
      "{'_index': 'alarms-2016.08', 'packetLossAvg': 0.7999999999999999, 'destSite': 'NCG-INGRID-PT', 'alarmTime': 1471902109620, 'src': '193.62.56.9', 'dest': '193.136.75.146', '_type': 'packetloss', 'srcSite': 'UKI-SOUTHGRID-BHAM-HEP', 'measurements': 13}\n",
      "{'_index': 'alarms-2016.08', 'packetLossAvg': 1.0, 'destSite': 'UnknownSite', 'alarmTime': 1471902109620, 'src': '132.230.202.235', 'dest': '161.116.81.235', '_type': 'packetloss', 'srcSite': 'UNI-FREIBURG', 'measurements': 14}\n",
      "{'_index': 'alarms-2016.08', 'packetLossAvg': 0.8880952380952382, 'destSite': 'NCG-INGRID-PT', 'alarmTime': 1471902109620, 'src': '132.230.202.235', 'dest': '193.136.75.146', '_type': 'packetloss', 'srcSite': 'UNI-FREIBURG', 'measurements': 14}\n",
      "{'_index': 'alarms-2016.08', 'packetLossAvg': 1.0, 'destSite': 'UnknownSite', 'alarmTime': 1471902109620, 'src': '192.135.14.32', 'dest': '161.116.81.235', '_type': 'packetloss', 'srcSite': 'INFN-MILANO-ATLASC', 'measurements': 12}\n",
      "{'_index': 'alarms-2016.08', 'packetLossAvg': 0.9166666666666666, 'destSite': 'NCG-INGRID-PT', 'alarmTime': 1471902109620, 'src': '192.135.14.32', 'dest': '193.136.75.146', '_type': 'packetloss', 'srcSite': 'INFN-MILANO-ATLASC', 'measurements': 12}\n",
      "{'_index': 'alarms-2016.08', 'packetLossAvg': 1.0, 'destSite': 'UnknownSite', 'alarmTime': 1471902109620, 'src': '134.61.24.193', 'dest': '161.116.81.235', '_type': 'packetloss', 'srcSite': 'UnknownSite', 'measurements': 11}\n",
      "{'_index': 'alarms-2016.08', 'packetLossAvg': 0.8818181818181817, 'destSite': 'NCG-INGRID-PT', 'alarmTime': 1471902109620, 'src': '134.61.24.193', 'dest': '193.136.75.146', '_type': 'packetloss', 'srcSite': 'UnknownSite', 'measurements': 11}\n"
     ]
    }
   ],
   "source": [
    "src=res['aggregations']['src']['buckets']\n",
    "#print(src)\n",
    "\n",
    "for s in src:\n",
    "   #print(s)\n",
    "   source=s['key']\n",
    "   for d in s['dest']['buckets']:\n",
    "      destination=d['key']\n",
    "      avgpl=d['avgpl']['value']\n",
    "      docs=d['doc_count']\n",
    "#      print(source, destination, docs, avgpl)\n",
    "      if avgpl > 0.02 and docs > 4:\n",
    "         toAlertOn.append(generate_doc(source, destination, docs, avgpl))\n",
    "\n",
    "for alert in toAlertOn:\n",
    "   print(alert)"
   ]
  },
  {
   "cell_type": "markdown",
   "metadata": {},
   "source": [
    "### write alarms to Elasticsearch"
   ]
  },
  {
   "cell_type": "code",
   "execution_count": 16,
   "metadata": {
    "collapsed": false
   },
   "outputs": [
    {
     "name": "stdout",
     "output_type": "stream",
     "text": [
      "inserted: 109 \tErrors: []\n"
     ]
    }
   ],
   "source": [
    "try:\n",
    "   res = helpers.bulk(es, toAlertOn, raise_on_exception=True,request_timeout=60)\n",
    "   print(\"inserted:\",res[0], '\\tErrors:',res[1])\n",
    "except es_exceptions.ConnectionError as e:\n",
    "   print('ConnectionError ', e)\n",
    "except es_exceptions.TransportError as e:\n",
    "   print('TransportError ', e)\n",
    "except helpers.BulkIndexError as e:\n",
    "   print(e[0])\n",
    "   for i in e[1]:\n",
    "      print(i)\n",
    "except:\n",
    "   print('Something seriously wrong happened.')"
   ]
  },
  {
   "cell_type": "code",
   "execution_count": null,
   "metadata": {
    "collapsed": true
   },
   "outputs": [],
   "source": []
  }
 ],
 "metadata": {
  "kernelspec": {
   "display_name": "Python 3",
   "language": "python",
   "name": "python3"
  },
  "language_info": {
   "codemirror_mode": {
    "name": "ipython",
    "version": 3
   },
   "file_extension": ".py",
   "mimetype": "text/x-python",
   "name": "python",
   "nbconvert_exporter": "python",
   "pygments_lexer": "ipython3",
   "version": "3.5.1"
  }
 },
 "nbformat": 4,
 "nbformat_minor": 0
}
