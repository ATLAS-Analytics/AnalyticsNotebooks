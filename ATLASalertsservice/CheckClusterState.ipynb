{
 "cells": [
  {
   "cell_type": "markdown",
   "metadata": {},
   "source": [
    "Check Cluster State\n",
    "====\n",
    "This notebook check the state of ES cluster and sends mails to all the people substribed to that alert.\n",
    "It is run once per hour from a cron job."
   ]
  },
  {
   "cell_type": "code",
   "execution_count": 1,
   "metadata": {
    "collapsed": true
   },
   "outputs": [],
   "source": [
    "import subscribers, alerts\n",
    "import requests"
   ]
  },
  {
   "cell_type": "code",
   "execution_count": 2,
   "metadata": {},
   "outputs": [
    {
     "name": "stdout",
     "output_type": "stream",
     "text": [
      "{'active_shards': 18645, 'unassigned_shards': 15, 'active_primary_shards': 13462, 'initializing_shards': 0, 'status': 'red', 'cluster_name': 'atlas', 'timed_out': False, 'number_of_nodes': 10, 'active_shards_percent_as_number': 99.91961414790997, 'task_max_waiting_in_queue_millis': 0, 'number_of_pending_tasks': 0, 'delayed_unassigned_shards': 0, 'relocating_shards': 0, 'number_of_data_nodes': 5, 'number_of_in_flight_fetch': 0}\n"
     ]
    }
   ],
   "source": [
    "r=requests.get('http://cl-analytics.mwt2.org:9200/_cluster/health')\n",
    "res=r.json()\n",
    "print(res)"
   ]
  },
  {
   "cell_type": "code",
   "execution_count": 7,
   "metadata": {
    "collapsed": true
   },
   "outputs": [],
   "source": [
    "if res['status'] == 'green':\n",
    "    exit\n",
    "    \n",
    "S = subscribers.subscribers()\n",
    "A = alerts.alerts()\n",
    "\n",
    "if res['status'] == 'red':\n",
    "    testName = 'Alert on Elastic cluster state [ES in red]'\n",
    "    subscribersToRed =  S.get_immediate_subscribers(testName)\n",
    "    for subscriber in subscribersToRed:\n",
    "        body = 'Dear ' + subscriber.name +',\\n\\n'\n",
    "        body = body + '\\tthis mail is to let you that the University of Chicago Elasticsearch cluster is in RED.\\n'\n",
    "        body = body + '\\nBest regards,\\nATLAS AAS'\n",
    "        body = body + '\\n\\n To change your alerts preferences please you the following link:\\n' + subscriber.link\n",
    "        print(subscriber.to_string())\n",
    "        A.sendMail(testName, subscriber.email, body)\n",
    "        A.addAlert(testName, subscriber.name,'simply red.')\n",
    "if res['status'] == 'yellow' and res['unassigned_shards']>10:\n",
    "    testName = 'Alert on Elastic cluster state [ES in yellow]'\n",
    "    subscribersToYellow = S.get_immediate_subscribers(testName)\n",
    "    for subscriber in subscribersToYellow:\n",
    "        body = 'Dear ' + subscriber.name+',\\n\\n'\n",
    "        body = body + '\\tthis mail is to let you that the University of Chicago Elasticsearch cluster is in YELLOW.'\n",
    "        body = body + 'There is '+str(res['unassigned_shards']) + ' unassigned shards on '+str(res['number_of_nodes']) + ' nodes.\\n'\n",
    "        body = body + '\\nBest regards,\\nATLAS AAS'\n",
    "        body = body + '\\n\\n To change your alerts preferences please you the following link:\\n'+subscriber.link\n",
    "        print(subscriber.to_string())\n",
    "        A.sendMail(testName, subscriber.email, body)\n",
    "        A.addAlert(testName, subscriber.name, str(res['unassigned_shards']) + ' unassigned shards on '+str(res['number_of_nodes']) + ' nodes.' )\n"
   ]
  }
 ],
 "metadata": {
  "kernelspec": {
   "display_name": "Python 3",
   "language": "python",
   "name": "python3"
  },
  "language_info": {
   "codemirror_mode": {
    "name": "ipython",
    "version": 3
   },
   "file_extension": ".py",
   "mimetype": "text/x-python",
   "name": "python",
   "nbconvert_exporter": "python",
   "pygments_lexer": "ipython3",
   "version": "3.4.5"
  }
 },
 "nbformat": 4,
 "nbformat_minor": 1
}
