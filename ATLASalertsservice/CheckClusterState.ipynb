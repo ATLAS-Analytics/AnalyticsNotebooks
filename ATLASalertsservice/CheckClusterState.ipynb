{
 "cells": [
  {
   "cell_type": "markdown",
   "metadata": {},
   "source": [
    "Check Cluster State\n",
    "====\n",
    "This notebook check the state of ES cluster and sends mails to all the people substribed to that alert.\n",
    "It is run once per hour from a cron job."
   ]
  },
  {
   "cell_type": "code",
   "execution_count": 1,
   "metadata": {
    "collapsed": true
   },
   "outputs": [],
   "source": [
    "import subscribers, alerts\n",
    "import requests"
   ]
  },
  {
   "cell_type": "code",
   "execution_count": 2,
   "metadata": {
    "collapsed": false
   },
   "outputs": [
    {
     "name": "stdout",
     "output_type": "stream",
     "text": [
      "{'timed_out': False, 'number_of_pending_tasks': 0, 'relocating_shards': 0, 'unassigned_shards': 0, 'status': 'green', 'active_shards_percent_as_number': 100.0, 'task_max_waiting_in_queue_millis': 0, 'number_of_data_nodes': 13, 'cluster_name': 'atlas', 'initializing_shards': 0, 'active_shards': 16854, 'active_primary_shards': 8361, 'number_of_in_flight_fetch': 0, 'number_of_nodes': 20, 'delayed_unassigned_shards': 0}\n"
     ]
    }
   ],
   "source": [
    "r=requests.get('http://cl-analytics.mwt2.org:9200/_cluster/health')\n",
    "res=r.json()\n",
    "print(res)"
   ]
  },
  {
   "cell_type": "code",
   "execution_count": 6,
   "metadata": {
    "collapsed": false
   },
   "outputs": [
    {
     "name": "stdout",
     "output_type": "stream",
     "text": [
      "['Ilija Vukotic', 'ilijav@gmail.com', 'https://docs.google.com/forms/d/e/1FAIpQLSfwwtAvMrqp4Ot_LYfmNu75_v33dtAxiXg7ZvVdn1X5v7TEgg/viewform?edit2=2_ABaOnuezuteui57-PrydNWrUuZf5fmChNqtjEeDab6h5V6lik_-x790uKsPu5Q']\n"
     ]
    }
   ],
   "source": [
    "res['status']='red'\n",
    "\n",
    "if res['status'] != 'green':\n",
    "    S = subscribers.subscribers()\n",
    "    A = alerts.alerts()\n",
    "\n",
    "if res['status'] == 'red':\n",
    "    testName = 'Cluster is in RED'\n",
    "    subscribersToRed =  S.getSubscribers(testName)\n",
    "    for subscriber in subscribersToRed:\n",
    "        body = 'Dear ' + subscriber[0]+',\\n\\n'\n",
    "        body = body + '\\tthis mail is to let you that the University of Chicago Elasticsearch cluster is in RED.'\n",
    "        body = body + '\\nBest regards,\\nATLAS AAS'\n",
    "        body = body + '\\n\\n To change your alerts preferences please you the following link:\\n'+subscriber[2]\n",
    "        print(subscriber)\n",
    "        A.addAlert(testName, subscriber[1], body)\n",
    "        \n",
    "if res['status'] == 'yellow':\n",
    "    testName = 'Cluster is in YELLOW'\n",
    "    subscribersToYellow = S.getSubscribers(tesName)\n",
    "    for subscriber in subscribersToYellow:\n",
    "        print(subscriber)\n",
    "        A.addAlert(testName, subscriber[1], body)\n"
   ]
  },
  {
   "cell_type": "code",
   "execution_count": null,
   "metadata": {
    "collapsed": false
   },
   "outputs": [],
   "source": []
  },
  {
   "cell_type": "code",
   "execution_count": null,
   "metadata": {
    "collapsed": true
   },
   "outputs": [],
   "source": []
  }
 ],
 "metadata": {
  "kernelspec": {
   "display_name": "Python 3",
   "language": "python",
   "name": "python3"
  },
  "language_info": {
   "codemirror_mode": {
    "name": "ipython",
    "version": 3
   },
   "file_extension": ".py",
   "mimetype": "text/x-python",
   "name": "python",
   "nbconvert_exporter": "python",
   "pygments_lexer": "ipython3",
   "version": "3.5.1"
  }
 },
 "nbformat": 4,
 "nbformat_minor": 0
}
