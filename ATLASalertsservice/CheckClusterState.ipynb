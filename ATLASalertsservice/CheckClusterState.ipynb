{
 "cells": [
  {
   "cell_type": "markdown",
   "metadata": {},
   "source": [
    "Check Cluster State\n",
    "====\n",
    "This notebook check the state of ES cluster and sends mails to all the people substribed to that alert.\n",
    "It is run once per hour from a cron job."
   ]
  },
  {
   "cell_type": "code",
   "execution_count": 2,
   "metadata": {
    "collapsed": true
   },
   "outputs": [],
   "source": [
    "import subscribers, alerts\n",
    "import requests"
   ]
  },
  {
   "cell_type": "code",
   "execution_count": 3,
   "metadata": {
    "collapsed": false
   },
   "outputs": [
    {
     "name": "stdout",
     "output_type": "stream",
     "text": [
      "{'active_shards': 16918, 'relocating_shards': 0, 'active_shards_percent_as_number': 100.0, 'number_of_in_flight_fetch': 0, 'initializing_shards': 0, 'cluster_name': 'atlas', 'active_primary_shards': 8395, 'unassigned_shards': 0, 'number_of_pending_tasks': 0, 'number_of_nodes': 20, 'number_of_data_nodes': 13, 'delayed_unassigned_shards': 0, 'timed_out': False, 'status': 'green', 'task_max_waiting_in_queue_millis': 0}\n"
     ]
    }
   ],
   "source": [
    "r=requests.get('http://cl-analytics.mwt2.org:9200/_cluster/health')\n",
    "res=r.json()\n",
    "print(res)"
   ]
  },
  {
   "cell_type": "code",
   "execution_count": 4,
   "metadata": {
    "collapsed": false
   },
   "outputs": [
    {
     "name": "stdout",
     "output_type": "stream",
     "text": [
      "['Ilija Vukotic', 'ilijav@gmail.com', 'https://docs.google.com/forms/d/e/1FAIpQLSfwwtAvMrqp4Ot_LYfmNu75_v33dtAxiXg7ZvVdn1X5v7TEgg/viewform?edit2=2_ABaOnuezuteui57-PrydNWrUuZf5fmChNqtjEeDab6h5V6lik_-x790uKsPu5Q']\n",
      "Content-Type: text/plain; charset=\"us-ascii\"\n",
      "MIME-Version: 1.0\n",
      "Content-Transfer-Encoding: 7bit\n",
      "Subject: Cluster is in YELLOW\n",
      "From: AAAS@mwt2.org\n",
      "To: ilijav@gmail.com\n",
      "\n",
      "Dear Ilija Vukotic,\n",
      "\n",
      "\tthis mail is to let you that the University of Chicago Elasticsearch cluster is in YELLOW.There is 0 unassigned shards on 20nodes.\n",
      "\n",
      "Best regards,\n",
      "ATLAS AAS\n",
      "\n",
      " To change your alerts preferences please you the following link:\n",
      "https://docs.google.com/forms/d/e/1FAIpQLSfwwtAvMrqp4Ot_LYfmNu75_v33dtAxiXg7ZvVdn1X5v7TEgg/viewform?edit2=2_ABaOnuezuteui57-PrydNWrUuZf5fmChNqtjEeDab6h5V6lik_-x790uKsPu5Q\n"
     ]
    }
   ],
   "source": [
    "if res['status'] != 'green':\n",
    "    S = subscribers.subscribers()\n",
    "\n",
    "A = alerts.alerts()\n",
    "\n",
    "if res['status'] == 'red':\n",
    "    testName = 'Cluster is in RED'\n",
    "    subscribersToRed =  S.getSubscribers(testName)\n",
    "    for subscriber in subscribersToRed:\n",
    "        body = 'Dear ' + subscriber[0]+',\\n\\n'\n",
    "        body = body + '\\tthis mail is to let you that the University of Chicago Elasticsearch cluster is in RED.\\n'\n",
    "        body = body + '\\nBest regards,\\nATLAS AAS'\n",
    "        body = body + '\\n\\n To change your alerts preferences please you the following link:\\n'+subscriber[2]\n",
    "        print(subscriber)\n",
    "        A.sendMail(testName, subscriber[1], body)\n",
    "        A.addAlert(testName, subscriber[0],'simply red.')\n",
    "if res['status'] == 'yellow':\n",
    "    testName = 'Cluster is in YELLOW'\n",
    "    subscribersToYellow = S.getSubscribers(testName)\n",
    "    for subscriber in subscribersToYellow:\n",
    "        body = 'Dear ' + subscriber[0]+',\\n\\n'\n",
    "        body = body + '\\tthis mail is to let you that the University of Chicago Elasticsearch cluster is in YELLOW.'\n",
    "        body = body + 'There is '+str(res['unassigned_shards']) + ' unassigned shards on '+str(res['number_of_nodes']) + ' nodes.\\n'\n",
    "        body = body + '\\nBest regards,\\nATLAS AAS'\n",
    "        body = body + '\\n\\n To change your alerts preferences please you the following link:\\n'+subscriber[2]\n",
    "        print(subscriber)\n",
    "        A.sendMail(testName, subscriber[1], body)\n",
    "        A.addAlert(testName, subscriber[1], str(res['unassigned_shards']) + ' unassigned shards on '+str(res['number_of_nodes']) + ' nodes.' )\n"
   ]
  },
  {
   "cell_type": "code",
   "execution_count": null,
   "metadata": {
    "collapsed": false
   },
   "outputs": [],
   "source": []
  },
  {
   "cell_type": "code",
   "execution_count": null,
   "metadata": {
    "collapsed": true
   },
   "outputs": [],
   "source": []
  }
 ],
 "metadata": {
  "kernelspec": {
   "display_name": "Python 3",
   "language": "python",
   "name": "python3"
  },
  "language_info": {
   "codemirror_mode": {
    "name": "ipython",
    "version": 3
   },
   "file_extension": ".py",
   "mimetype": "text/x-python",
   "name": "python",
   "nbconvert_exporter": "python",
   "pygments_lexer": "ipython3",
   "version": "3.5.1"
  }
 },
 "nbformat": 4,
 "nbformat_minor": 0
}
