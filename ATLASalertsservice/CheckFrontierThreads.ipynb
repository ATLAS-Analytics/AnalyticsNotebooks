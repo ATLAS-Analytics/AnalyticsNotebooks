{
 "cells": [
  {
   "cell_type": "markdown",
   "metadata": {},
   "source": [
    "Checks number of simultaneous threads (TEST)\n",
    "====\n",
    "This notebook checks whether the number of simultaneous threads reaches a number beyond **threadlimit**. It sends mails to all the people substribed to that alert. It is run every half an hour from a cron job (not yet)."
   ]
  },
  {
   "cell_type": "code",
   "execution_count": 1,
   "metadata": {
    "collapsed": true
   },
   "outputs": [],
   "source": [
    "from subscribers import subscribers\n",
    "import alerts\n",
    "\n",
    "import datetime\n",
    "import re\n",
    "import json\n",
    "import sys\n",
    "\n",
    "from elasticsearch import Elasticsearch\n",
    "es = Elasticsearch([{'host':'atlas-kibana.mwt2.org', 'port':9200}],timeout=60)"
   ]
  },
  {
   "cell_type": "markdown",
   "metadata": {},
   "source": [
    "### Variables for script\n",
    "\n",
    "1. Minimum number of simultaneous threads beyond which we submit the alert\n",
    "2. Number of hours for query interval"
   ]
  },
  {
   "cell_type": "code",
   "execution_count": 6,
   "metadata": {
    "collapsed": true
   },
   "outputs": [],
   "source": [
    "# Thread limit to trigger an alarm\n",
    "threadlimit=400\n",
    "# Period to check from now backwards\n",
    "nhours=1"
   ]
  },
  {
   "cell_type": "markdown",
   "metadata": {},
   "source": [
    "### Get starting and current time for query interval \n",
    "\n",
    "We need :\n",
    "1. Current UTC time (as set in timestamp on ES DB)\n",
    "2. Previous date stamp (**nhours** ago) obtained from a time delta\n",
    "\n",
    "In order to subtract the time difference we need **ct** to be a datetime object"
   ]
  },
  {
   "cell_type": "code",
   "execution_count": 7,
   "metadata": {},
   "outputs": [
    {
     "name": "stdout",
     "output_type": "stream",
     "text": [
      "frontier-new-2017-11\n",
      "start time 20171106T153539.545Z\n",
      "current time 20171106T163539.545Z\n"
     ]
    }
   ],
   "source": [
    "# Get current UTC time (as set in timestamp on ES DB)\n",
    "# In order to subtract the time difference we need ct to be a datetime object\n",
    "ct = datetime.datetime.utcnow()\n",
    "ind = 'frontier-new-%d-%02d' % (ct.year, ct.month)\n",
    "print(ind)\n",
    "curtime = ct.strftime('%Y%m%dT%H%M%S.%f')[:-3]+'Z'\n",
    "\n",
    "td = datetime.timedelta(hours=nhours)\n",
    "st = ct - td\n",
    "starttime = st.strftime('%Y%m%dT%H%M%S.%f')[:-3]+'Z'\n",
    "\n",
    "print('start time', starttime)\n",
    "print('current time',curtime)"
   ]
  },
  {
   "cell_type": "markdown",
   "metadata": {},
   "source": [
    "### Establish connection to ES-DB and submit query\n",
    "\n",
    "Send a query to the ES-DB to get the highest number of simultaneous threads beyond the limit imposed by **threadlimit** on each Frontier server for the given time interval"
   ]
  },
  {
   "cell_type": "code",
   "execution_count": 8,
   "metadata": {
    "scrolled": true
   },
   "outputs": [
    {
     "name": "stdout",
     "output_type": "stream",
     "text": [
      "{'doc_count': 38827, 'maxthreads': {'value': 5.0}, 'key': 'aiatlas149.cern.ch'}\n",
      "{'doc_count': 38418, 'maxthreads': {'value': 7.0}, 'key': 'aiatlas037.cern.ch'}\n",
      "{'doc_count': 38040, 'maxthreads': {'value': 6.0}, 'key': 'aiatlas148.cern.ch'}\n",
      "{'doc_count': 36374, 'maxthreads': {'value': 6.0}, 'key': 'aiatlas038.cern.ch'}\n",
      "{'doc_count': 21513, 'maxthreads': {'value': 6.0}, 'key': 'aiatlas147.cern.ch'}\n",
      "{'doc_count': 21022, 'maxthreads': {'value': 6.0}, 'key': 'aiatlas036.cern.ch'}\n",
      "{'doc_count': 20771, 'maxthreads': {'value': 6.0}, 'key': 'aiatlas146.cern.ch'}\n",
      "{'doc_count': 19811, 'maxthreads': {'value': 4.0}, 'key': 'frontier-atlas2.lcg.triumf.ca'}\n",
      "{'doc_count': 19608, 'maxthreads': {'value': 6.0}, 'key': 'frontier-atlas1.lcg.triumf.ca'}\n",
      "{'doc_count': 18414, 'maxthreads': {'value': 4.0}, 'key': 'frontier-atlas3.lcg.triumf.ca'}\n",
      "{'doc_count': 12388, 'maxthreads': {'value': 5.0}, 'key': 'ccosvms0014'}\n",
      "{'doc_count': 11884, 'maxthreads': {'value': 5.0}, 'key': 'aiatlas073.cern.ch'}\n",
      "{'doc_count': 11843, 'maxthreads': {'value': 8.0}, 'key': 'ccosvms0012.in2p3.fr'}\n",
      "{'doc_count': 11395, 'maxthreads': {'value': 14.0}, 'key': 'ccosvms0013.in2p3.fr'}\n",
      "{'doc_count': 11349, 'maxthreads': {'value': 4.0}, 'key': 'ccsvli200'}\n",
      "{'doc_count': 12, 'maxthreads': {'value': 1.0}, 'key': 'aiatlas034.cern.ch'}\n",
      "{'doc_count': 1, 'maxthreads': {'value': 1.0}, 'key': 'osgserv06'}\n",
      "problematic servers: {'aiatlas038.cern.ch': 6.0, 'aiatlas073.cern.ch': 5.0, 'aiatlas037.cern.ch': 7.0, 'ccosvms0013.in2p3.fr': 14.0, 'ccosvms0012.in2p3.fr': 8.0, 'aiatlas147.cern.ch': 6.0, 'aiatlas149.cern.ch': 5.0, 'aiatlas148.cern.ch': 6.0, 'frontier-atlas1.lcg.triumf.ca': 6.0, 'ccosvms0014': 5.0, 'aiatlas036.cern.ch': 6.0, 'aiatlas146.cern.ch': 6.0}\n"
     ]
    }
   ],
   "source": [
    "es = Elasticsearch(hosts=[{'host':'atlas-kibana.mwt2.org', 'port':9200}],timeout=60)\n",
    "\n",
    "my_query={\n",
    "    \"size\":0,\n",
    "    \"query\": {\n",
    "#        \"range\":{\"modificationtime\":{\"gte\": starttime,\"lte\": curtime}}\n",
    "       \"range\": {\n",
    "          \"@timestamp\": {\n",
    "             \"gte\": starttime,\n",
    "             \"lte\": curtime,\n",
    "             \"format\": \"basic_date_time\"\n",
    "          }\n",
    "       }\n",
    "    },\n",
    "    \"aggs\" : {\n",
    "        \"servers\" : {\n",
    "            \"terms\" : {\n",
    "                \"size\" : 20,\n",
    "                \"field\" : \"frontierserver\" \n",
    "            },\n",
    "            \"aggs\" : {\n",
    "                \"maxthreads\" : {\n",
    "                    \"max\" : { \"field\" : \"initthreads\" }\n",
    "                }\n",
    "            }\n",
    "        }\n",
    "    }\n",
    "}\n",
    "\n",
    "res = es.search(index=ind, body=my_query, request_timeout=600)\n",
    "\n",
    "frontiersrvr = {}\n",
    "res=res['aggregations']['servers']['buckets']\n",
    "for r in res:\n",
    "    print(r)\n",
    "    if r['maxthreads']['value']>threadlimit:\n",
    "        frontiersrvr[r['key']]=r['maxthreads']['value']\n",
    "\n",
    "print('problematic servers:', frontiersrvr)\n"
   ]
  },
  {
   "cell_type": "markdown",
   "metadata": {},
   "source": [
    "### Submit alert if there are any servers showing a high number of simultaneous threads (>**threadlimit**)\n",
    "\n",
    "The number associated to each Frontier server is the highest number recorded during the given time interval"
   ]
  },
  {
   "cell_type": "code",
   "execution_count": 9,
   "metadata": {},
   "outputs": [
    {
     "name": "stdout",
     "output_type": "stream",
     "text": [
      "Content-Type: text/plain; charset=\"us-ascii\"\n",
      "MIME-Version: 1.0\n",
      "Content-Transfer-Encoding: 7bit\n",
      "Subject: Too many concurrent threads\n",
      "From: AAAS@mwt2.org\n",
      "To: ilijav@gmail.com\n",
      "\n",
      "Dear Ilija Vukotic,\n",
      "\n",
      "\tthis mail is to let you know that the number of simultaneous threads went beyond 4 on some servers \n",
      "\n",
      "aiatlas038.cern.ch : 6.0\n",
      "aiatlas073.cern.ch : 5.0\n",
      "aiatlas037.cern.ch : 7.0\n",
      "ccosvms0013.in2p3.fr : 14.0\n",
      "ccosvms0012.in2p3.fr : 8.0\n",
      "aiatlas147.cern.ch : 6.0\n",
      "aiatlas149.cern.ch : 5.0\n",
      "aiatlas148.cern.ch : 6.0\n",
      "frontier-atlas1.lcg.triumf.ca : 6.0\n",
      "ccosvms0014 : 5.0\n",
      "aiatlas036.cern.ch : 6.0\n",
      "aiatlas146.cern.ch : 6.0\n",
      "\n",
      "Best regards,\n",
      "ATLAS AAS\n",
      "\n",
      " To change your alerts preferences please use the following link:\n",
      "https://docs.google.com/forms/d/e/1FAIpQLSeedRVj0RPRadEt8eGobDeneix_vNxUkqbtdNg7rGMNOrpcug/viewform?edit2=2_ABaOnufrzSAOPoVDl6wcXDnQKk0EfkQRmlxj04nw9npJrTAK5BZPijqoLhg\n",
      "Content-Type: text/plain; charset=\"us-ascii\"\n",
      "MIME-Version: 1.0\n",
      "Content-Transfer-Encoding: 7bit\n",
      "Subject: Too many concurrent threads\n",
      "From: AAAS@mwt2.org\n",
      "To: julio.lozano.bahilo@cern.ch\n",
      "\n",
      "Dear Julio Lozano Bahilo,\n",
      "\n",
      "\tthis mail is to let you know that the number of simultaneous threads went beyond 4 on some servers \n",
      "\n",
      "aiatlas038.cern.ch : 6.0\n",
      "aiatlas073.cern.ch : 5.0\n",
      "aiatlas037.cern.ch : 7.0\n",
      "ccosvms0013.in2p3.fr : 14.0\n",
      "ccosvms0012.in2p3.fr : 8.0\n",
      "aiatlas147.cern.ch : 6.0\n",
      "aiatlas149.cern.ch : 5.0\n",
      "aiatlas148.cern.ch : 6.0\n",
      "frontier-atlas1.lcg.triumf.ca : 6.0\n",
      "ccosvms0014 : 5.0\n",
      "aiatlas036.cern.ch : 6.0\n",
      "aiatlas146.cern.ch : 6.0\n",
      "\n",
      "Best regards,\n",
      "ATLAS AAS\n",
      "\n",
      " To change your alerts preferences please use the following link:\n",
      "https://docs.google.com/forms/d/e/1FAIpQLSeedRVj0RPRadEt8eGobDeneix_vNxUkqbtdNg7rGMNOrpcug/viewform?edit2=2_ABaOnuesA7ECcNl_hDLh1sxDJSzXznGWG_k5L7jKLYi36MtTXu9EKTChC-U\n"
     ]
    }
   ],
   "source": [
    "if len(frontiersrvr) > 0:\n",
    "    S = subscribers()\n",
    "    A = alerts.alerts()\n",
    "\n",
    "    test_name = 'Too many concurrent threads'\n",
    "    users =  S.get_immediate_subscribers(test_name)\n",
    "    for user in users:\n",
    "        body = 'Dear ' + user.name +',\\n\\n'\n",
    "        body += '\\tthis mail is to let you know that the number of simultaneous threads went beyond '\n",
    "        body += str(threadlimit) + ' on some servers \\n\\n' \n",
    "        for fkey in frontiersrvr:\n",
    "          body += fkey\n",
    "          body += ' : '\n",
    "          body += str(frontiersrvr[fkey])\n",
    "          body += '\\n'\n",
    "        body += '\\nBest regards,\\nATLAS AAS'\n",
    "        body += '\\n\\n To change your alerts preferences please use the following link:\\n' + user.link\n",
    "        A.sendMail(test_name, user.email, body)\n",
    "##        A.addAlert(test_name, user.name, str(res_page))"
   ]
  },
  {
   "cell_type": "code",
   "execution_count": null,
   "metadata": {
    "collapsed": true
   },
   "outputs": [],
   "source": []
  }
 ],
 "metadata": {
  "kernelspec": {
   "display_name": "Python 3",
   "language": "python",
   "name": "python3"
  },
  "language_info": {
   "codemirror_mode": {
    "name": "ipython",
    "version": 3
   },
   "file_extension": ".py",
   "mimetype": "text/x-python",
   "name": "python",
   "nbconvert_exporter": "python",
   "pygments_lexer": "ipython3",
   "version": "3.4.5"
  }
 },
 "nbformat": 4,
 "nbformat_minor": 1
}
