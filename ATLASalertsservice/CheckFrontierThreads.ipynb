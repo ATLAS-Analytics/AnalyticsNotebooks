{
 "cells": [
  {
   "cell_type": "markdown",
   "metadata": {},
   "source": [
    "Checks number of simultaneous threads (TEST)\n",
    "====\n",
    "This notebook checks whether the number of simultaneous threads reaches a number beyond **threadlimit**. It sends mails to all the people substribed to that alert. It is run every half an hour from a cron job (not yet)."
   ]
  },
  {
   "cell_type": "code",
   "execution_count": 1,
   "metadata": {
    "collapsed": true
   },
   "outputs": [],
   "source": [
    "from subscribers import subscribers\n",
    "import alerts\n",
    "\n",
    "import datetime\n",
    "import re\n",
    "import json\n",
    "import sys\n",
    "\n",
    "from elasticsearch import Elasticsearch\n",
    "es = Elasticsearch([{'host':'atlas-kibana.mwt2.org', 'port':9200}],timeout=60)"
   ]
  },
  {
   "cell_type": "markdown",
   "metadata": {},
   "source": [
    "### Variables for script\n",
    "\n",
    "1. Minimum number of simultaneous threads beyond which we submit the alert\n",
    "2. Number of hours for query interval"
   ]
  },
  {
   "cell_type": "code",
   "execution_count": 2,
   "metadata": {
    "collapsed": true
   },
   "outputs": [],
   "source": [
    "# Thread limit to trigger an alarm\n",
    "threadlimit=400\n",
    "# Period to check from now backwards\n",
    "nhours=6"
   ]
  },
  {
   "cell_type": "markdown",
   "metadata": {},
   "source": [
    "### Get starting and current time for query interval \n",
    "\n",
    "We need :\n",
    "1. Current UTC time (as set in timestamp on ES DB)\n",
    "2. Previous date stamp (**nhours** ago) obtained from a time delta\n",
    "\n",
    "In order to subtract the time difference we need **ct** to be a datetime object"
   ]
  },
  {
   "cell_type": "code",
   "execution_count": 3,
   "metadata": {},
   "outputs": [
    {
     "name": "stdout",
     "output_type": "stream",
     "text": [
      "frontier-new-2018-03\n",
      "start time 20180308T054354.048Z\n",
      "current time 20180308T114354.048Z\n"
     ]
    }
   ],
   "source": [
    "# Get current UTC time (as set in timestamp on ES DB)\n",
    "# In order to subtract the time difference we need ct to be a datetime object\n",
    "ct = datetime.datetime.utcnow()\n",
    "ind = 'frontier-new-%d-%02d' % (ct.year, ct.month)\n",
    "print(ind)\n",
    "curtime = ct.strftime('%Y%m%dT%H%M%S.%f')[:-3]+'Z'\n",
    "\n",
    "td = datetime.timedelta(hours=nhours)\n",
    "st = ct - td\n",
    "starttime = st.strftime('%Y%m%dT%H%M%S.%f')[:-3]+'Z'\n",
    "\n",
    "print('start time', starttime)\n",
    "print('current time',curtime)"
   ]
  },
  {
   "cell_type": "markdown",
   "metadata": {},
   "source": [
    "### Establish connection to ES-DB and submit query\n",
    "\n",
    "Send a query to the ES-DB to get the highest number of simultaneous threads beyond the limit imposed by **threadlimit** on each Frontier server for the given time interval"
   ]
  },
  {
   "cell_type": "code",
   "execution_count": 4,
   "metadata": {
    "scrolled": true
   },
   "outputs": [
    {
     "name": "stdout",
     "output_type": "stream",
     "text": [
      "{'maxthreads': {'value': 11.0}, 'key': 'frontier-atlas2.lcg.triumf.ca', 'doc_count': 258837}\n",
      "{'maxthreads': {'value': 15.0}, 'key': 'frontier-atlas3.lcg.triumf.ca', 'doc_count': 258290}\n",
      "{'maxthreads': {'value': 9.0}, 'key': 'frontier-atlas1.lcg.triumf.ca', 'doc_count': 258257}\n",
      "{'maxthreads': {'value': 40.0}, 'key': 'ccfrontier01.in2p3.fr', 'doc_count': 251626}\n",
      "{'maxthreads': {'value': 30.0}, 'key': 'atlasfrontier4-ai.cern.ch', 'doc_count': 236596}\n",
      "{'maxthreads': {'value': 36.0}, 'key': 'atlasfrontier3-ai.cern.ch', 'doc_count': 236175}\n",
      "{'maxthreads': {'value': 63.0}, 'key': 'ccfrontier03.in2p3.fr', 'doc_count': 229984}\n",
      "{'maxthreads': {'value': 24.0}, 'key': 'ccfrontier05.in2p3.fr', 'doc_count': 229189}\n",
      "{'maxthreads': {'value': 41.0}, 'key': 'atlasfrontier2-ai.cern.ch', 'doc_count': 227920}\n",
      "{'maxthreads': {'value': 32.0}, 'key': 'ccfrontier02.in2p3.fr', 'doc_count': 219590}\n",
      "{'maxthreads': {'value': 23.0}, 'key': 'atlasfrontier1-ai.cern.ch', 'doc_count': 218100}\n",
      "{'maxthreads': {'value': 8.0}, 'key': 'atlast0frontier3-ai.cern.ch', 'doc_count': 172473}\n",
      "{'maxthreads': {'value': 7.0}, 'key': 'atlast0frontier2-ai.cern.ch', 'doc_count': 171951}\n",
      "{'maxthreads': {'value': 9.0}, 'key': 'atlast0frontier1-ai.cern.ch', 'doc_count': 171644}\n",
      "{'maxthreads': {'value': 12.0}, 'key': 'atlast0frontier4-ai.cern.ch', 'doc_count': 171358}\n",
      "{'maxthreads': {'value': 10.0}, 'key': 'atlasfrontier2-local.cern.ch', 'doc_count': 126904}\n",
      "{'maxthreads': {'value': 7.0}, 'key': 'atlasfrontier1-local.cern.ch', 'doc_count': 123510}\n",
      "problematic servers: {}\n"
     ]
    }
   ],
   "source": [
    "es = Elasticsearch(hosts=[{'host':'atlas-kibana.mwt2.org', 'port':9200}],timeout=60)\n",
    "\n",
    "my_query={\n",
    "    \"size\":0,\n",
    "    \"query\": {\n",
    "#        \"range\":{\"modificationtime\":{\"gte\": starttime,\"lte\": curtime}}\n",
    "       \"range\": {\n",
    "          \"@timestamp\": {\n",
    "             \"gte\": starttime,\n",
    "             \"lte\": curtime,\n",
    "             \"format\": \"basic_date_time\"\n",
    "          }\n",
    "       }\n",
    "    },\n",
    "    \"aggs\" : {\n",
    "        \"servers\" : {\n",
    "            \"terms\" : {\n",
    "                \"size\" : 20,\n",
    "                \"field\" : \"frontierserver\" \n",
    "            },\n",
    "            \"aggs\" : {\n",
    "                \"maxthreads\" : {\n",
    "                    \"max\" : { \"field\" : \"initthreads\" }\n",
    "                }\n",
    "            }\n",
    "        }\n",
    "    }\n",
    "}\n",
    "\n",
    "res = es.search(index=ind, body=my_query, request_timeout=600)\n",
    "\n",
    "frontiersrvr = {}\n",
    "res=res['aggregations']['servers']['buckets']\n",
    "for r in res:\n",
    "    print(r)\n",
    "    if r['maxthreads']['value']>threadlimit:\n",
    "        frontiersrvr[r['key']]=r['maxthreads']['value']\n",
    "\n",
    "print('problematic servers:', frontiersrvr)\n"
   ]
  },
  {
   "cell_type": "markdown",
   "metadata": {},
   "source": [
    "### Submit alert if there are any servers showing a high number of simultaneous threads (>**threadlimit**)\n",
    "\n",
    "The number associated to each Frontier server is the highest number recorded during the given time interval"
   ]
  },
  {
   "cell_type": "code",
   "execution_count": 5,
   "metadata": {},
   "outputs": [],
   "source": [
    "if len(frontiersrvr) > 0:\n",
    "    S = subscribers()\n",
    "    A = alerts.alerts()\n",
    "\n",
    "    test_name = 'Too many concurrent threads'\n",
    "    users =  S.get_immediate_subscribers(test_name)\n",
    "    for user in users:\n",
    "        body = 'Dear ' + user.name +',\\n\\n'\n",
    "        body += '\\tthis mail is to let you know that the number of simultaneous threads went beyond '\n",
    "        body += str(threadlimit) + ' on some servers \\n\\n' \n",
    "        for fkey in frontiersrvr:\n",
    "          body += fkey\n",
    "          body += ' : '\n",
    "          body += str(frontiersrvr[fkey])\n",
    "          body += '\\n'\n",
    "        body += '\\nBest regards,\\nATLAS AAS'\n",
    "        body += '\\n\\n To change your alerts preferences please use the following link:\\n' + user.link\n",
    "        A.sendMail(test_name, user.email, body)\n",
    "##        A.addAlert(test_name, user.name, str(res_page))"
   ]
  },
  {
   "cell_type": "code",
   "execution_count": null,
   "metadata": {
    "collapsed": true
   },
   "outputs": [],
   "source": []
  },
  {
   "cell_type": "code",
   "execution_count": null,
   "metadata": {
    "collapsed": true
   },
   "outputs": [],
   "source": []
  }
 ],
 "metadata": {
  "kernelspec": {
   "display_name": "Python 3",
   "language": "python",
   "name": "python3"
  },
  "language_info": {
   "codemirror_mode": {
    "name": "ipython",
    "version": 3
   },
   "file_extension": ".py",
   "mimetype": "text/x-python",
   "name": "python",
   "nbconvert_exporter": "python",
   "pygments_lexer": "ipython3",
   "version": "3.4.5"
  }
 },
 "nbformat": 4,
 "nbformat_minor": 1
}
