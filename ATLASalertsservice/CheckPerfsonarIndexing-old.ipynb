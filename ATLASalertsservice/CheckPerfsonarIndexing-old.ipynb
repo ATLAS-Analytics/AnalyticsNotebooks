{
 "cells": [
  {
   "cell_type": "markdown",
   "metadata": {},
   "source": [
    "# Checks if Perfsonar data is indexed\n",
    "\n",
    "This notebook checks number of indexed documents in all four doc types (latency, packetloss, throughput and traceroute) and alerts if any of them is 0. It sends mails to all the people substribed to that alert. It is run every 30 min from a cron job."
   ]
  },
  {
   "cell_type": "code",
   "execution_count": 1,
   "metadata": {
    "collapsed": true
   },
   "outputs": [],
   "source": [
    "%matplotlib inline\n",
    "import matplotlib\n",
    "import matplotlib.pyplot as plt\n",
    "matplotlib.rc('font', **{'size': 12})\n",
    "\n",
    "import pandas as pd\n",
    "\n",
    "from subscribers import subscribers\n",
    "import alerts\n",
    "\n",
    "from datetime import datetime, timedelta\n",
    "from elasticsearch import Elasticsearch, exceptions as es_exceptions\n",
    "es = Elasticsearch(hosts=[{'host':'atlas-kibana.mwt2.org', 'port':9200}],timeout=60)"
   ]
  },
  {
   "cell_type": "markdown",
   "metadata": {},
   "source": [
    "## find all the indices to look at"
   ]
  },
  {
   "cell_type": "code",
   "execution_count": 2,
   "metadata": {},
   "outputs": [
    {
     "name": "stdout",
     "output_type": "stream",
     "text": [
      "checking for indices: network_weather-2017.6.6 network_weather-2017.6.5\n",
      "will use indices: ['network_weather-2017.6.6']\n",
      "current time 2017-06-06 14:14:41.817456\n"
     ]
    }
   ],
   "source": [
    "indices = es.cat.indices(index=\"network_weather-*\", h=\"index\", request_timeout=600).split('\\n')\n",
    "indices = [x for x in indices if x != '']\n",
    "indices = [x.strip() for x in indices]\n",
    "#print(indices)\n",
    "\n",
    "cday = datetime.utcnow()\n",
    "pday = cday - timedelta(days=1)\n",
    "#ind1 = 'network_weather-%d.%02d.%02d' % (cday.year, cday.month, cday.day)\n",
    "#ind2 = 'network_weather-%d.%02d.%02d' % (pday.year, pday.month, pday.day)\n",
    "ind1 = 'network_weather-%d.%d.%d' % (cday.year, cday.month, cday.day)\n",
    "ind2 = 'network_weather-%d.%d.%d' % (pday.year, pday.month, pday.day)\n",
    "\n",
    "print('checking for indices:', ind1, ind2)\n",
    "\n",
    "ind=[]\n",
    "if ind1 in indices:\n",
    "    ind.append(ind1)\n",
    "if ind2 != ind1 and ind2 in indices and cday.hour<9:   # not necessarily 3, just indicate it is the beginning period of new day\n",
    "    ind.append(ind2)\n",
    "\n",
    "if len(ind)==0:\n",
    "    print('no current indices found. Aborting.')\n",
    "    exit\n",
    "else:\n",
    "    print('will use indices:', ind)\n",
    "\n",
    "print('current time',datetime.utcnow())"
   ]
  },
  {
   "cell_type": "code",
   "execution_count": 3,
   "metadata": {},
   "outputs": [],
   "source": [
    "# There is a time offset here - we do now-9 instead of expected now-1. There are two possible reasons:\n",
    "# a) timestamps are correct but we simply get data with a long delay\n",
    "# b) timestamps are wrong.\n",
    "\n",
    "types_query={\n",
    "   \"size\": 0,\n",
    "   \"query\": {\n",
    "        \"bool\":{\n",
    "            \"filter\":{\n",
    "                \"range\":{\"timestamp\":{\"gt\": \"now-9h\"}}\n",
    "            }\n",
    "        }\n",
    "   },\n",
    "    \"aggs\" : {\n",
    "        \"docType\" : {\n",
    "            \"terms\" : { \"field\" : \"_type\" },\n",
    "             \"aggs\" : {\n",
    "                \"perHour\" : {\n",
    "                    \"date_histogram\": {\n",
    "                        \"field\": \"timestamp\",\n",
    "                        \"interval\": \"1h\",\n",
    "                        \"time_zone\": \"UTC\",\n",
    "                        \"min_doc_count\": 1\n",
    "                      }\n",
    "                }\n",
    "            }\n",
    "        }\n",
    "    }\n",
    "}\n",
    "\n",
    "res = es.search(index=ind, body=types_query, request_timeout=120)\n",
    "#print(res)"
   ]
  },
  {
   "cell_type": "code",
   "execution_count": 4,
   "metadata": {},
   "outputs": [
    {
     "name": "stdout",
     "output_type": "stream",
     "text": [
      "total documents: 6275358\n"
     ]
    },
    {
     "data": {
      "image/png": "[encoded data removed]",
      "text/plain": [
       "<matplotlib.figure.Figure at 0x7f76b6f96fd0>"
      ]
     },
     "metadata": {},
     "output_type": "display_data"
    }
   ],
   "source": [
    "print('total documents:',res['hits']['total'])\n",
    "counts={}\n",
    "r=res['aggregations']['docType']['buckets']\n",
    "for t in r:\n",
    "#     print(t['doc_count'],t['key'])\n",
    "    counts[t['key']]={}\n",
    "    for h in t['perHour']['buckets']:\n",
    "#         print(h['key'],h['doc_count'])\n",
    "        counts[t['key']][h['key']]=h['doc_count']\n",
    "        \n",
    "dfs=[]\n",
    "for k, v in counts.items():\n",
    "    # print(k,v)\n",
    "    dfs.append(pd.DataFrame({k:v}))\n",
    "\n",
    "df=pd.concat(dfs,axis=1)\n",
    "df.index = pd.to_datetime(df.index, unit='ms')\n",
    "df.plot(kind=\"bar\",stacked=True)\n",
    "\n",
    "plt.savefig('Images/Check_perfsonar_indexing.png')"
   ]
  },
  {
   "cell_type": "code",
   "execution_count": 5,
   "metadata": {},
   "outputs": [
    {
     "name": "stdout",
     "output_type": "stream",
     "text": [
      "packet_loss_rate 3014017\n",
      "latency 2996812\n",
      "traceroute 165168\n",
      "link_utilization 68320\n",
      "netflow_lhcopn 11645\n",
      "ps_perf 7583\n",
      "throughput 6272\n",
      "retransmits 5363\n",
      "meta 178\n",
      "types with no docs: []\n"
     ]
    }
   ],
   "source": [
    "types=[\n",
    "    'latency', 'packet_loss_rate', 'traceroute', \n",
    "    'throughput', 'netflow_lhcopn',\n",
    "    'retransmits',  'ps_perf'\n",
    "] \n",
    "\n",
    "# excluded 'meta' as it is done once per day so could be missing.\n",
    "# excluded 'link_utilization' as it is some neural network generated crap\n",
    "\n",
    "if res['hits']['total']>0:\n",
    "    r=res['aggregations']['docType']['buckets']\n",
    "    for t in r:\n",
    "        print(t['key'],t['doc_count'])\n",
    "        if t['doc_count']>0:\n",
    "            if t['key'] in types:\n",
    "                types.remove(t['key'])\n",
    "            \n",
    "print('types with no docs:', types)"
   ]
  },
  {
   "cell_type": "code",
   "execution_count": 7,
   "metadata": {},
   "outputs": [
    {
     "name": "stdout",
     "output_type": "stream",
     "text": [
      "Adding image: {'Link': 'http://atlas-kibana.mwt2.org:5601/goto/d183c8a6de184d6fcfa6c41dc531c673', 'Filename': 'Images/Check_perfsonar_indexing.png', 'Title': 'PacketLoss Ingress', 'Description': 'This plot shows number of documents indexed in last 9 hours per document type. Bins are 1h.'}\n",
      "user name:Ilija Vukotic  email:ilija@vukotic.me\n",
      "Adding image: {'Link': 'http://atlas-kibana.mwt2.org:5601/goto/d183c8a6de184d6fcfa6c41dc531c673', 'Filename': 'Images/Check_perfsonar_indexing.png', 'Title': 'PacketLoss Ingress', 'Description': 'This plot shows number of documents indexed in last 9 hours per document type. Bins are 1h.'}\n",
      "user name:Ilija Vukotic  email:ilijav@gmail.com\n",
      "Adding image: {'Link': 'http://atlas-kibana.mwt2.org:5601/goto/d183c8a6de184d6fcfa6c41dc531c673', 'Filename': 'Images/Check_perfsonar_indexing.png', 'Title': 'PacketLoss Ingress', 'Description': 'This plot shows number of documents indexed in last 9 hours per document type. Bins are 1h.'}\n",
      "user name:Marian Babik  email:marian.babik@cern.ch\n",
      "Adding image: {'Link': 'http://atlas-kibana.mwt2.org:5601/goto/d183c8a6de184d6fcfa6c41dc531c673', 'Filename': 'Images/Check_perfsonar_indexing.png', 'Title': 'PacketLoss Ingress', 'Description': 'This plot shows number of documents indexed in last 9 hours per document type. Bins are 1h.'}\n",
      "user name:Shawn McKee  email:smckee@umich.edu\n"
     ]
    }
   ],
   "source": [
    "if len(types) > 0:\n",
    "    S = subscribers()\n",
    "    A = alerts.alerts()\n",
    "\n",
    "    test_name = 'Alert on Elastic indexing rate [PerfSonar]'\n",
    "    users =  S.get_immediate_subscribers(test_name)\n",
    "    for user in users:\n",
    "        \n",
    "        body = 'Dear ' + user.name+',\\n\\n'\n",
    "        body += '\\tthis mail is to let you know that there is an issue in indexing Perfsonar data in UC Elasticsearch.\\n'\n",
    "        body += 'These document types have zero documents indexed:\\n ' + '\\n'.join(types) + '\\n'\n",
    "        A.send_HTML_mail(\n",
    "            'Networking alert',\n",
    "            user.email,\n",
    "            body,\n",
    "            subtitle=test_name,\n",
    "            images=[\n",
    "                    {\n",
    "                    \"Title\":'PacketLoss Ingress',\n",
    "                    \"Description\":\"This plot shows number of documents indexed in last 9 hours per document type. Bins are 1h.\",\n",
    "                    \"Filename\":\"Images/Check_perfsonar_indexing.png\",\n",
    "                    \"Link\":\"http://atlas-kibana.mwt2.org:5601/goto/d183c8a6de184d6fcfa6c41dc531c673\"\n",
    "                    }\n",
    "                   ]\n",
    "        )\n",
    "        \n",
    "\n",
    "        print(user.to_string())\n",
    "        A.addAlert(test_name, user.name, str(r))"
   ]
  },
  {
   "cell_type": "code",
   "execution_count": null,
   "metadata": {
    "collapsed": true
   },
   "outputs": [],
   "source": []
  },
  {
   "cell_type": "code",
   "execution_count": null,
   "metadata": {
    "collapsed": true
   },
   "outputs": [],
   "source": []
  }
 ],
 "metadata": {
  "kernelspec": {
   "display_name": "Python 3",
   "language": "python",
   "name": "python3"
  },
  "language_info": {
   "codemirror_mode": {
    "name": "ipython",
    "version": 3
   },
   "file_extension": ".py",
   "mimetype": "text/x-python",
   "name": "python",
   "nbconvert_exporter": "python",
   "pygments_lexer": "ipython3",
   "version": "3.4.5"
  }
 },
 "nbformat": 4,
 "nbformat_minor": 1
}
