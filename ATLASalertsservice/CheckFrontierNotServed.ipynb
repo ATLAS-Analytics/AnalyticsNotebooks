{
 "cells": [
  {
   "cell_type": "markdown",
   "metadata": {},
   "source": [
    "Checks number of failed queries (rejected/unprocessed queries and DB disconnections) (TEST)\n",
    "====\n",
    "This notebook checks if there are failed queries:\n",
    "- Rejected queries: server is busy and doesn't respond to the query\n",
    "- DB disconnections: the query was processed by the Frontier server but the Oracle DB terminated the connection\n",
    "- Unprocessed queries: Oracle DB returned data, but it wasn't sent to the querying job \n",
    "\n",
    "It sends mails to all the people substribed to that alert. It is run every half an hour from a cron job (not yet)."
   ]
  },
  {
   "cell_type": "code",
   "execution_count": 6,
   "metadata": {
    "collapsed": true
   },
   "outputs": [],
   "source": [
    "from subscribers import subscribers\n",
    "import alerts\n",
    "import es_query\n",
    "\n",
    "import datetime\n",
    "import re\n",
    "import json\n",
    "import sys\n",
    "from elasticsearch import Elasticsearch, exceptions as es_exceptions\n",
    "from elasticsearch.helpers import scan\n",
    "\n",
    "# Period to check from now backwards\n",
    "nhours=6\n",
    "# Limit of unsatisfied queries on a given server\n",
    "ntotfail=100\n",
    "# Limit of unsatisfied queries for a given task\n",
    "ntottask=100"
   ]
  },
  {
   "cell_type": "code",
   "execution_count": 7,
   "metadata": {
    "collapsed": true
   },
   "outputs": [],
   "source": [
    "# Following 2 lines are for testing purposes only\n",
    "#curtime = '20170126T120000.000Z'\n",
    "#ct = datetime.datetime.strptime(curtime, \"%Y%m%dT%H%M%S.%fZ\")"
   ]
  },
  {
   "cell_type": "markdown",
   "metadata": {},
   "source": [
    "### Get starting and current time for query interval \n",
    "\n",
    "We need :\n",
    "1. Current UTC time (as set in timestamp on ES DB)\n",
    "2. Previous date stamp (**nhours** ago) obtained from a time delta\n",
    "\n",
    "In order to subtract the time difference we need **ct** to be a datetime object"
   ]
  },
  {
   "cell_type": "code",
   "execution_count": 8,
   "metadata": {},
   "outputs": [
    {
     "name": "stdout",
     "output_type": "stream",
     "text": [
      "frontier-new-2018-03\n",
      "start time 20180323T095835.424Z\n",
      "current time 20180323T155835.424Z\n"
     ]
    }
   ],
   "source": [
    "ct = datetime.datetime.utcnow()\n",
    "ind = 'frontier-new-%d-%02d' % (ct.year, ct.month)\n",
    "print(ind)\n",
    "curtime = ct.strftime('%Y%m%dT%H%M%S.%f')[:-3]+'Z'\n",
    "\n",
    "td = datetime.timedelta(hours=nhours)\n",
    "st = ct - td\n",
    "starttime = st.strftime('%Y%m%dT%H%M%S.%f')[:-3]+'Z'\n",
    "\n",
    "#####################\n",
    "#ind = 'frontier-new-*'\n",
    "#td = datetime.timedelta(days=13)\n",
    "#nct = ct - td\n",
    "#td = datetime.timedelta(days=3)\n",
    "#nst = nct - td\n",
    "#curtime = nct.strftime('%Y%m%dT%H%M%S.%f')[:-3]+'Z'\n",
    "#starttime = nst.strftime('%Y%m%dT%H%M%S.%f')[:-3]+'Z'\n",
    "#####################\n",
    "\n",
    "print('start time', starttime)\n",
    "print('current time',curtime)"
   ]
  },
  {
   "cell_type": "markdown",
   "metadata": {},
   "source": [
    "### Establish connection to ES-DB and submit query\n",
    "\n",
    "Send a query to the ES-DB for documents containing information of failed queries"
   ]
  },
  {
   "cell_type": "code",
   "execution_count": 9,
   "metadata": {},
   "outputs": [
    {
     "name": "stdout",
     "output_type": "stream",
     "text": [
      "problematic tasks: {13532728: ['mc15_pPb8TeV.420155.Sherpa_224_NNPDF30NNLO_SinglePhotonPt35_50_EtaFilter.recon.e6517_d1461_r9645', [0, 180, 0]], 13532753: ['mc15_pPb8TeV.420157.Sherpa_224_NNPDF30NNLO_SinglePhotonPt70_140_EtaFilter.recon.e6517_d1461_r9645', [0, 207, 0]], 13532717: ['mc15_pPb8TeV.420154.Sherpa_224_NNPDF30NNLO_SinglePhotonPt15_35_EtaFilter.recon.e6517_d1461_r9645', [0, 101, 0]], 13532743: ['mc15_pPb8TeV.420156.Sherpa_224_NNPDF30NNLO_SinglePhotonPt50_70_EtaFilter.recon.e6517_d1461_r9645', [0, 245, 0]]}\n",
      "problematic servers: {'atlasfrontier3-ai.cern.ch': '231 disconnected\\tqueries.', 'atlasfrontier1-ai.cern.ch': '177 disconnected\\tqueries.', 'atlasfrontier2-ai.cern.ch': '197 disconnected\\tqueries.', 'atlasfrontier4-ai.cern.ch': '289 disconnected\\tqueries.'}\n"
     ]
    }
   ],
   "source": [
    "es = Elasticsearch(hosts=[{'host':'atlas-kibana.mwt2.org', 'port':9200}],timeout=60)\n",
    "\n",
    "condition='rejected:true OR disconn:true OR procerror:true'\n",
    "\n",
    "my_query={\n",
    "   \"size\": 0,\n",
    "   \"query\": {\n",
    "       \"range\": {\n",
    "          \"@timestamp\": {\n",
    "             \"gte\": starttime,\n",
    "             \"lte\": curtime,\n",
    "             \"format\": \"basic_date_time\"\n",
    "          }\n",
    "       }\n",
    "   },\n",
    "   \"aggs\" : {\n",
    "      \"servers\": {\n",
    "         \"terms\" : {\n",
    "             \"size\" : 20,\n",
    "             \"field\" : \"frontierserver\"\n",
    "         },\n",
    "         \"aggs\" : {\n",
    "            \"unserved\": {\n",
    "               \"filters\": {\n",
    "                  \"filters\": {\n",
    "                     \"rejected\" : {\n",
    "                        \"query_string\": {\n",
    "                           \"query\": \"rejected:true\"\n",
    "                        }\n",
    "                     },\n",
    "                     \"disconnect\" : {\n",
    "                        \"query_string\": {\n",
    "                           \"query\": \"disconn:true\"\n",
    "                        }\n",
    "                     },\n",
    "                     \"procerror\" : {\n",
    "                        \"query_string\": {\n",
    "                           \"query\": \"procerror:true\"\n",
    "                        }\n",
    "                     }\n",
    "                  }\n",
    "               },\n",
    "               \"aggs\": {\n",
    "                 \"taskid\": {\n",
    "                   \"terms\": {\n",
    "                     \"field\": \"taskid\",\n",
    "                     \"size\": 5,\n",
    "                     \"order\": {\n",
    "                       \"_count\": \"desc\"\n",
    "                     }\n",
    "                   },\n",
    "                   \"aggs\": {\n",
    "                     \"taskname\": {\n",
    "                       \"terms\": {\n",
    "                         \"field\": \"taskname\",\n",
    "                         \"size\": 5,\n",
    "                         \"order\": {\n",
    "                           \"_count\": \"desc\"\n",
    "                         }\n",
    "                       }\n",
    "                     }\n",
    "                   }\n",
    "                 }\n",
    "               }\n",
    "            }\n",
    "         }\n",
    "      }\n",
    "   }\n",
    "}\n",
    "\n",
    "res = es.search(index=ind, body=my_query, request_timeout=600)\n",
    "res=res['aggregations']['servers']['buckets']\n",
    "\n",
    "taskinfo = {}\n",
    "\n",
    "# Loop over Frontier servers\n",
    "\n",
    "for r in res:\n",
    "\n",
    "   tkid=r['unserved']['buckets']['rejected']['taskid']['buckets']\n",
    "   for ti in tkid:\n",
    "      tkname=ti['taskname']['buckets']\n",
    "      for tn in tkname:\n",
    "         if ti['key'] not in taskinfo:\n",
    "            taskinfo[ti['key']]=[tn['key'],[int(tn['doc_count']),0,0]]\n",
    "         else:\n",
    "            count=int(taskinfo[ti['key']][1][0])\n",
    "            taskinfo[ti['key']][1][0]=count+int(tn['doc_count'])\n",
    "\n",
    "   tkid=r['unserved']['buckets']['disconnect']['taskid']['buckets']\n",
    "   for ti in tkid:\n",
    "      tkname=ti['taskname']['buckets']\n",
    "      for tn in tkname:\n",
    "         if ti['key'] not in taskinfo:\n",
    "            taskinfo[ti['key']]=[tn['key'],[0,int(tn['doc_count']),0]]\n",
    "         else:\n",
    "            count=int(taskinfo[ti['key']][1][1])\n",
    "            taskinfo[ti['key']][1][1]=count+int(tn['doc_count'])\n",
    "\n",
    "   tkid=r['unserved']['buckets']['procerror']['taskid']['buckets']\n",
    "   for ti in tkid:\n",
    "      tkname=ti['taskname']['buckets']\n",
    "      for tn in tkname:\n",
    "         if ti['key'] not in taskinfo:\n",
    "            taskinfo[ti['key']]=[tn['key'],[0,0,int(tn['doc_count'])]]\n",
    "         else:\n",
    "            count=int(taskinfo[ti['key']][1][2])\n",
    "            taskinfo[ti['key']][1][2]=count+int(tn['doc_count'])\n",
    "\n",
    "taskid={}\n",
    "for key in taskinfo:                \n",
    "   if sum(taskinfo[key][1]) > ntottask:\n",
    "      taskid[key] = taskinfo[key]\n",
    "   \n",
    "print('problematic tasks:', taskid)\n",
    "    \n",
    "frontiersrvr = {}\n",
    "for r in res:\n",
    "    ub  = r['unserved']['buckets']\n",
    "    rej = ub['rejected']['doc_count']\n",
    "#    if rej>0:\n",
    "#        print(ub['rejected']['taskid'])\n",
    "    dis = ub['disconnect']['doc_count']\n",
    "#    if dis>0:\n",
    "#        print(ub['rejected']['taskid'])\n",
    "    pre = ub['procerror']['doc_count']\n",
    "#    if pre>0:\n",
    "#        print(ub['rejected']['taskid'])\n",
    "    if rej+dis+pre < ntotfail: continue\n",
    "    mes=''\n",
    "    if rej>0: mes += str(rej) + \" rejected\\t\"\n",
    "    if dis>0: mes += str(dis) + \" disconnected\\t\"\n",
    "    if pre>0: mes += str(pre) + \" unprocessed \"\n",
    "    frontiersrvr[r['key']] = mes + 'queries.'\n",
    "\n",
    "print('problematic servers:', frontiersrvr)\n"
   ]
  },
  {
   "cell_type": "markdown",
   "metadata": {},
   "source": [
    "### Any non-zero value for any Frontier server triggers the alert\n",
    "\n",
    "The alert contains every Frontier server with failed queries and which kind of failures happened."
   ]
  },
  {
   "cell_type": "code",
   "execution_count": 198,
   "metadata": {
    "collapsed": true
   },
   "outputs": [],
   "source": [
    "if len(frontiersrvr) > 0 or len(taskid) > 0:\n",
    "    S = subscribers()\n",
    "    A = alerts.alerts()\n",
    "\n",
    "    test_name = 'Failed queries'\n",
    "    users =  S.get_immediate_subscribers(test_name)\n",
    "    for user in users:\n",
    "        body = 'Dear ' + user.name +',\\n\\n'\n",
    "        body += '\\tthis mail is to let you know that in the past '+str(nhours)+' hours \\n' \n",
    "        if len(frontiersrvr) > 0:\n",
    "           body += '\\tthe following servers present failed queries: \\n'\n",
    "           body += '\\t(attached numbers correspond to rejected, disconnected and unprocessed queries) \\n\\n'\n",
    "           for fkey in frontiersrvr:\n",
    "              body += fkey\n",
    "              body += ' : '\n",
    "              body += frontiersrvr[fkey]\n",
    "              body += '\\n'\n",
    "        body += '\\n'\n",
    "        if len(taskid) > 0:\n",
    "           body += '\\tthe following tasks present not completed requests: \\n'\n",
    "           body += '\\n'\n",
    "           for tkey in taskid:\n",
    "              body += 'Task id '+str(tkey)+' with name '+taskid[tkey][0]+' has '+str(taskid[tkey][1][0])+' rejected '\n",
    "              body += str(taskid[tkey][1][1])+' disconnected and '+str(taskid[tkey][1][2])+' unprocessed queries \\n'\n",
    "              body += 'http://bigpanda.cern.ch/task/'+str(tkey)+'\\n'    \n",
    "        body += '\\nConsult the following link to get a table with the 3 most relevant taskids (beware that\\n'\n",
    "        body += 'you will have to select the appropriate time period in the upper right corner)\\n'\n",
    "        body += 'http://atlas-kibana-dev.mwt2.org/goto/fb8cf197b67498d2aee54df04bd79ce1\\n'\n",
    "        body += '\\nBest regards,\\nATLAS AAS'\n",
    "        body += '\\n\\n To change your alerts preferences please use the following link:\\n' + user.link\n",
    "        \n",
    "        A.sendMail(test_name, user.email, body)\n",
    "#        A.addAlert(test_name, user.name, str(res_page))\n",
    "#    A.sendMail(test_name, \"julio.lozano.bahilo@cern.ch\", body)  \n"
   ]
  },
  {
   "cell_type": "code",
   "execution_count": 10,
   "metadata": {},
   "outputs": [
    {
     "name": "stdout",
     "output_type": "stream",
     "text": [
      "2018-03-12T00:48:00.000Z\n",
      "2018-03-12T00:50:00.000Z\n",
      "10\n",
      "SELECT /*+ NO_BIND_AWARE QB_NAME(MAIN) INDEX(@MAIN COOL_I3@MAIN (CHANNEL_ID IOV_SINCE IOV_UNTIL)) LEADING(@MAIN COOL_C2@MAIN COOL_I3@MAIN) USE_NL(@MAIN COOL_I3@MAIN) INDEX(@MAX1 COOL_I1@MAX1 (CHANNEL_ID IOV_SINCE IOV_UNTIL)) */ COOL_I3.OBJECT_ID AS \"OBJECT_ID\", COOL_I3.CHANNEL_ID AS \"CHANNEL_ID\", COOL_I3.IOV_SINCE AS \"IOV_SINCE\", COOL_I3.IOV_UNTIL AS \"IOV_UNTIL\", COOL_I3.USER_TAG_ID AS \"USER_TAG_ID\", COOL_I3.SYS_INSTIME AS \"SYS_INSTIME\", COOL_I3.LASTMOD_DATE AS \"LASTMOD_DATE\", COOL_I3.ORIGINAL_ID AS \"ORIGINAL_ID\", COOL_I3.NEW_HEAD_ID AS \"NEW_HEAD_ID\", COOL_I3.FORDAQ_MBHV AS \"FORDAQ_MBHV\" FROM \"ATLAS_COOLOFL_DCS\".\"CONDBR2_F0079_CHANNELS\" \"COOL_C2\", \"ATLAS_COOLOFL_DCS\".\"CONDBR2_F0079_IOVS\" \"COOL_I3\" WHERE COOL_I3.CHANNEL_ID=COOL_C2.CHANNEL_ID AND COOL_I3.IOV_SINCE>=COALESCE(( SELECT /*+ QB_NAME(MAX1) */ MAX(COOL_I1.IOV_SINCE) FROM ATLAS_COOLOFL_DCS.CONDBR2_F0079_IOVS COOL_I1 WHERE COOL_I1.CHANNEL_ID=COOL_C2.CHANNEL_ID AND COOL_I1.IOV_SINCE<=1480250773296327064 ),1480250773296327064) AND COOL_I3.IOV_SINCE<=1480250853296327064 AND COOL_I3.IOV_UNTIL>1480250773296327064 ORDER BY COOL_I3.CHANNEL_ID ASC, COOL_I3.IOV_SINCE ASC\n",
      "SELECT /*+ NO_BIND_AWARE QB_NAME(MAIN) INDEX(@MAIN COOL_I3@MAIN (CHANNEL_ID IOV_SINCE IOV_UNTIL)) LEADING(@MAIN COOL_C2@MAIN COOL_I3@MAIN) USE_NL(@MAIN COOL_I3@MAIN) INDEX(@MAX1 COOL_I1@MAX1 (CHANNEL_ID IOV_SINCE IOV_UNTIL)) */ COOL_I3.OBJECT_ID AS \"OBJECT_ID\", COOL_I3.CHANNEL_ID AS \"CHANNEL_ID\", COOL_I3.IOV_SINCE AS \"IOV_SINCE\", COOL_I3.IOV_UNTIL AS \"IOV_UNTIL\", COOL_I3.USER_TAG_ID AS \"USER_TAG_ID\", COOL_I3.SYS_INSTIME AS \"SYS_INSTIME\", COOL_I3.LASTMOD_DATE AS \"LASTMOD_DATE\", COOL_I3.ORIGINAL_ID AS \"ORIGINAL_ID\", COOL_I3.NEW_HEAD_ID AS \"NEW_HEAD_ID\", COOL_I3.\"NumOfParameters\" AS \"NumOfParameters\", COOL_I3.\"Parameters\" AS \"Parameters\", COOL_I3.\"Function\" AS \"Function\", COOL_I3.\"MuToLumi\" AS \"MuToLumi\" FROM \"ATLAS_COOLONL_TDAQ\".\"CONDBR2_F0004_CHANNELS\" \"COOL_C2\", \"ATLAS_COOLONL_TDAQ\".\"CONDBR2_F0004_IOVS\" \"COOL_I3\" WHERE COOL_I3.CHANNEL_ID=COOL_C2.CHANNEL_ID AND COOL_I3.IOV_SINCE>=COALESCE(( SELECT /*+ QB_NAME(MAX1) */ MAX(COOL_I1.IOV_SINCE) FROM ATLAS_COOLONL_TDAQ.CONDBR2_F0004_IOVS COOL_I1 WHERE COOL_I1.CHANNEL_ID=COOL_C2.CHANNEL_ID AND COOL_I1.IOV_SINCE<=1480250773296327064 ),1480250773296327064) AND COOL_I3.IOV_SINCE<=1480250853296327064 AND COOL_I3.IOV_UNTIL>1480250773296327064 ORDER BY COOL_I3.CHANNEL_ID ASC, COOL_I3.IOV_SINCE ASC\n",
      "SELECT /*+ NO_BIND_AWARE QB_NAME(MAIN) INDEX(@MAIN COOL_I3@MAIN (CHANNEL_ID IOV_SINCE IOV_UNTIL)) LEADING(@MAIN COOL_C2@MAIN COOL_I3@MAIN) USE_NL(@MAIN COOL_I3@MAIN) INDEX(@MAX1 COOL_I1@MAX1 (CHANNEL_ID IOV_SINCE IOV_UNTIL)) */ COOL_I3.OBJECT_ID AS \"OBJECT_ID\", COOL_I3.CHANNEL_ID AS \"CHANNEL_ID\", COOL_I3.IOV_SINCE AS \"IOV_SINCE\", COOL_I3.IOV_UNTIL AS \"IOV_UNTIL\", COOL_I3.USER_TAG_ID AS \"USER_TAG_ID\", COOL_I3.SYS_INSTIME AS \"SYS_INSTIME\", COOL_I3.LASTMOD_DATE AS \"LASTMOD_DATE\", COOL_I3.ORIGINAL_ID AS \"ORIGINAL_ID\", COOL_I3.NEW_HEAD_ID AS \"NEW_HEAD_ID\", COOL_I3.R_VMEAS AS \"R_VMEAS\", COOL_I3.R_IMEAS AS \"R_IMEAS\", COOL_I3.R_STAT AS \"R_STAT\" FROM \"ATLAS_COOLOFL_DCS\".\"CONDBR2_F0020_CHANNELS\" \"COOL_C2\", \"ATLAS_COOLOFL_DCS\".\"CONDBR2_F0020_IOVS\" \"COOL_I3\" WHERE COOL_I3.CHANNEL_ID=COOL_C2.CHANNEL_ID AND COOL_I3.IOV_SINCE>=COALESCE(( SELECT /*+ QB_NAME(MAX1) */ MAX(COOL_I1.IOV_SINCE) FROM ATLAS_COOLOFL_DCS.CONDBR2_F0020_IOVS COOL_I1 WHERE COOL_I1.CHANNEL_ID=COOL_C2.CHANNEL_ID AND COOL_I1.IOV_SINCE<=1480222266629661110 ),1480222266629661110) AND COOL_I3.IOV_SINCE<=1480222346629661110 AND COOL_I3.IOV_UNTIL>1480222266629661110 ORDER BY COOL_I3.CHANNEL_ID ASC, COOL_I3.IOV_SINCE ASC\n",
      "SELECT /*+ NO_BIND_AWARE QB_NAME(MAIN) INDEX(@MAIN COOL_I3@MAIN (CHANNEL_ID IOV_SINCE IOV_UNTIL)) LEADING(@MAIN COOL_C2@MAIN COOL_I3@MAIN) USE_NL(@MAIN COOL_I3@MAIN) INDEX(@MAX1 COOL_I1@MAX1 (CHANNEL_ID IOV_SINCE IOV_UNTIL)) */ COOL_I3.OBJECT_ID AS \"OBJECT_ID\", COOL_I3.CHANNEL_ID AS \"CHANNEL_ID\", COOL_I3.IOV_SINCE AS \"IOV_SINCE\", COOL_I3.IOV_UNTIL AS \"IOV_UNTIL\", COOL_I3.USER_TAG_ID AS \"USER_TAG_ID\", COOL_I3.SYS_INSTIME AS \"SYS_INSTIME\", COOL_I3.LASTMOD_DATE AS \"LASTMOD_DATE\", COOL_I3.ORIGINAL_ID AS \"ORIGINAL_ID\", COOL_I3.NEW_HEAD_ID AS \"NEW_HEAD_ID\", COOL_I3.\"temp_inlet\" AS \"temp_inlet\", COOL_I3.\"temp_outlet\" AS \"temp_outlet\" FROM \"ATLAS_COOLOFL_DCS\".\"CONDBR2_F0112_CHANNELS\" \"COOL_C2\", \"ATLAS_COOLOFL_DCS\".\"CONDBR2_F0112_IOVS\" \"COOL_I3\" WHERE COOL_I3.CHANNEL_ID=COOL_C2.CHANNEL_ID AND COOL_I3.IOV_SINCE>=COALESCE(( SELECT /*+ QB_NAME(MAX1) */ MAX(COOL_I1.IOV_SINCE) FROM ATLAS_COOLOFL_DCS.CONDBR2_F0112_IOVS COOL_I1 WHERE COOL_I1.CHANNEL_ID=COOL_C2.CHANNEL_ID AND COOL_I1.IOV_SINCE<=1480296426629659256 ),1480296426629659256) AND COOL_I3.IOV_SINCE<=1480296506629659256 AND COOL_I3.IOV_UNTIL>1480296426629659256 ORDER BY COOL_I3.CHANNEL_ID ASC, COOL_I3.IOV_SINCE ASC\n",
      "SELECT /*+ NO_BIND_AWARE QB_NAME(MAIN) INDEX(@MAIN COOL_I3@MAIN (CHANNEL_ID IOV_SINCE IOV_UNTIL)) LEADING(@MAIN COOL_C2@MAIN COOL_I3@MAIN) USE_NL(@MAIN COOL_I3@MAIN) INDEX(@MAX1 COOL_I1@MAX1 (CHANNEL_ID IOV_SINCE IOV_UNTIL)) */ COOL_I3.OBJECT_ID AS \"OBJECT_ID\", COOL_I3.CHANNEL_ID AS \"CHANNEL_ID\", COOL_I3.IOV_SINCE AS \"IOV_SINCE\", COOL_I3.IOV_UNTIL AS \"IOV_UNTIL\", COOL_I3.USER_TAG_ID AS \"USER_TAG_ID\", COOL_I3.SYS_INSTIME AS \"SYS_INSTIME\", COOL_I3.LASTMOD_DATE AS \"LASTMOD_DATE\", COOL_I3.ORIGINAL_ID AS \"ORIGINAL_ID\", COOL_I3.NEW_HEAD_ID AS \"NEW_HEAD_ID\", COOL_I3.LVCHSTAT_RECV AS \"LVCHSTAT_RECV\", COOL_I3.STATE AS \"STATE\" FROM \"ATLAS_COOLOFL_DCS\".\"CONDBR2_F0007_CHANNELS\" \"COOL_C2\", \"ATLAS_COOLOFL_DCS\".\"CONDBR2_F0007_IOVS\" \"COOL_I3\" WHERE COOL_I3.CHANNEL_ID=COOL_C2.CHANNEL_ID AND COOL_I3.IOV_SINCE>=COALESCE(( SELECT /*+ QB_NAME(MAX1) */ MAX(COOL_I1.IOV_SINCE) FROM ATLAS_COOLOFL_DCS.CONDBR2_F0007_IOVS COOL_I1 WHERE COOL_I1.CHANNEL_ID=COOL_C2.CHANNEL_ID AND COOL_I1.IOV_SINCE<=1480404479962989888 ),1480404479962989888) AND COOL_I3.IOV_SINCE<=1480404559962989888 AND COOL_I3.IOV_UNTIL>1480404479962989888 ORDER BY COOL_I3.CHANNEL_ID ASC, COOL_I3.IOV_SINCE ASC\n",
      "SELECT /*+ NO_BIND_AWARE QB_NAME(MAIN) INDEX(@MAIN COOL_I3@MAIN (CHANNEL_ID IOV_SINCE IOV_UNTIL)) LEADING(@MAIN COOL_C2@MAIN COOL_I3@MAIN) USE_NL(@MAIN COOL_I3@MAIN) INDEX(@MAX1 COOL_I1@MAX1 (CHANNEL_ID IOV_SINCE IOV_UNTIL)) */ COOL_I3.OBJECT_ID AS \"OBJECT_ID\", COOL_I3.CHANNEL_ID AS \"CHANNEL_ID\", COOL_I3.IOV_SINCE AS \"IOV_SINCE\", COOL_I3.IOV_UNTIL AS \"IOV_UNTIL\", COOL_I3.USER_TAG_ID AS \"USER_TAG_ID\", COOL_I3.SYS_INSTIME AS \"SYS_INSTIME\", COOL_I3.LASTMOD_DATE AS \"LASTMOD_DATE\", COOL_I3.ORIGINAL_ID AS \"ORIGINAL_ID\", COOL_I3.NEW_HEAD_ID AS \"NEW_HEAD_ID\", COOL_I3.\"NumOfParameters\" AS \"NumOfParameters\", COOL_I3.\"Parameters\" AS \"Parameters\", COOL_I3.\"Function\" AS \"Function\", COOL_I3.\"MuToLumi\" AS \"MuToLumi\" FROM \"ATLAS_COOLONL_TDAQ\".\"CONDBR2_F0004_CHANNELS\" \"COOL_C2\", \"ATLAS_COOLONL_TDAQ\".\"CONDBR2_F0004_IOVS\" \"COOL_I3\" WHERE COOL_I3.CHANNEL_ID=COOL_C2.CHANNEL_ID AND COOL_I3.IOV_SINCE>=COALESCE(( SELECT /*+ QB_NAME(MAX1) */ MAX(COOL_I1.IOV_SINCE) FROM ATLAS_COOLONL_TDAQ.CONDBR2_F0004_IOVS COOL_I1 WHERE COOL_I1.CHANNEL_ID=COOL_C2.CHANNEL_ID AND COOL_I1.IOV_SINCE<=1480296426629659256 ),1480296426629659256) AND COOL_I3.IOV_SINCE<=1480296506629659256 AND COOL_I3.IOV_UNTIL>1480296426629659256 ORDER BY COOL_I3.CHANNEL_ID ASC, COOL_I3.IOV_SINCE ASC\n",
      "SELECT /*+ NO_BIND_AWARE QB_NAME(MAIN) INDEX(@MAIN COOL_I3@MAIN (CHANNEL_ID IOV_SINCE IOV_UNTIL)) LEADING(@MAIN COOL_C2@MAIN COOL_I3@MAIN) USE_NL(@MAIN COOL_I3@MAIN) INDEX(@MAX1 COOL_I1@MAX1 (CHANNEL_ID IOV_SINCE IOV_UNTIL)) */ COOL_I3.OBJECT_ID AS \"OBJECT_ID\", COOL_I3.CHANNEL_ID AS \"CHANNEL_ID\", COOL_I3.IOV_SINCE AS \"IOV_SINCE\", COOL_I3.IOV_UNTIL AS \"IOV_UNTIL\", COOL_I3.USER_TAG_ID AS \"USER_TAG_ID\", COOL_I3.SYS_INSTIME AS \"SYS_INSTIME\", COOL_I3.LASTMOD_DATE AS \"LASTMOD_DATE\", COOL_I3.ORIGINAL_ID AS \"ORIGINAL_ID\", COOL_I3.NEW_HEAD_ID AS \"NEW_HEAD_ID\", COOL_I3.\"class\" AS \"class\" FROM \"ATLAS_COOLONL_TDAQ\".\"CONDBR2_F0052_CHANNELS\" \"COOL_C2\", \"ATLAS_COOLONL_TDAQ\".\"CONDBR2_F0052_IOVS\" \"COOL_I3\" WHERE COOL_I3.CHANNEL_ID=COOL_C2.CHANNEL_ID AND COOL_I3.IOV_SINCE>=COALESCE(( SELECT /*+ QB_NAME(MAX1) */ MAX(COOL_I1.IOV_SINCE) FROM ATLAS_COOLONL_TDAQ.CONDBR2_F0052_IOVS COOL_I1 WHERE COOL_I1.CHANNEL_ID=COOL_C2.CHANNEL_ID AND COOL_I1.IOV_SINCE<=1480296426629659256 ),1480296426629659256) AND COOL_I3.IOV_SINCE<=1480296506629659256 AND COOL_I3.IOV_UNTIL>1480296426629659256 ORDER BY COOL_I3.CHANNEL_ID ASC, COOL_I3.IOV_SINCE ASC\n",
      "SELECT /*+ NO_BIND_AWARE QB_NAME(MAIN) INDEX(@MAIN COOL_I3@MAIN (CHANNEL_ID IOV_SINCE IOV_UNTIL)) LEADING(@MAIN COOL_C2@MAIN COOL_I3@MAIN) USE_NL(@MAIN COOL_I3@MAIN) INDEX(@MAX1 COOL_I1@MAX1 (CHANNEL_ID IOV_SINCE IOV_UNTIL)) */ COOL_I3.OBJECT_ID AS \"OBJECT_ID\", COOL_I3.CHANNEL_ID AS \"CHANNEL_ID\", COOL_I3.IOV_SINCE AS \"IOV_SINCE\", COOL_I3.IOV_UNTIL AS \"IOV_UNTIL\", COOL_I3.USER_TAG_ID AS \"USER_TAG_ID\", COOL_I3.SYS_INSTIME AS \"SYS_INSTIME\", COOL_I3.LASTMOD_DATE AS \"LASTMOD_DATE\", COOL_I3.ORIGINAL_ID AS \"ORIGINAL_ID\", COOL_I3.NEW_HEAD_ID AS \"NEW_HEAD_ID\", COOL_I3.MOCH_TM0_RECV AS \"MOCH_TM0_RECV\", COOL_I3.MOCH_TM1_RECV AS \"MOCH_TM1_RECV\" FROM \"ATLAS_COOLOFL_DCS\".\"CONDBR2_F0009_CHANNELS\" \"COOL_C2\", \"ATLAS_COOLOFL_DCS\".\"CONDBR2_F0009_IOVS\" \"COOL_I3\" WHERE COOL_I3.CHANNEL_ID=COOL_C2.CHANNEL_ID AND COOL_I3.IOV_SINCE>=COALESCE(( SELECT /*+ QB_NAME(MAX1) */ MAX(COOL_I1.IOV_SINCE) FROM ATLAS_COOLOFL_DCS.CONDBR2_F0009_IOVS COOL_I1 WHERE COOL_I1.CHANNEL_ID=COOL_C2.CHANNEL_ID AND COOL_I1.IOV_SINCE<=1480296426629659256 ),1480296426629659256) AND COOL_I3.IOV_SINCE<=1480296506629659256 AND COOL_I3.IOV_UNTIL>1480296426629659256 ORDER BY COOL_I3.CHANNEL_ID ASC, COOL_I3.IOV_SINCE ASC\n",
      "SELECT /*+ NO_BIND_AWARE QB_NAME(MAIN) INDEX(@MAIN COOL_I3@MAIN (CHANNEL_ID IOV_SINCE IOV_UNTIL)) LEADING(@MAIN COOL_C2@MAIN COOL_I3@MAIN) USE_NL(@MAIN COOL_I3@MAIN) INDEX(@MAX1 COOL_I1@MAX1 (CHANNEL_ID IOV_SINCE IOV_UNTIL)) */ COOL_I3.OBJECT_ID AS \"OBJECT_ID\", COOL_I3.CHANNEL_ID AS \"CHANNEL_ID\", COOL_I3.IOV_SINCE AS \"IOV_SINCE\", COOL_I3.IOV_UNTIL AS \"IOV_UNTIL\", COOL_I3.USER_TAG_ID AS \"USER_TAG_ID\", COOL_I3.SYS_INSTIME AS \"SYS_INSTIME\", COOL_I3.LASTMOD_DATE AS \"LASTMOD_DATE\", COOL_I3.ORIGINAL_ID AS \"ORIGINAL_ID\", COOL_I3.NEW_HEAD_ID AS \"NEW_HEAD_ID\", COOL_I3.\"v0set_LV\" AS \"v0set_LV\", COOL_I3.\"fsmCurrentState_LV\" AS \"fsmCurrentState_LV\" FROM \"ATLAS_COOLOFL_DCS\".\"CONDBR2_F0056_CHANNELS\" \"COOL_C2\", \"ATLAS_COOLOFL_DCS\".\"CONDBR2_F0056_IOVS\" \"COOL_I3\" WHERE COOL_I3.CHANNEL_ID=COOL_C2.CHANNEL_ID AND COOL_I3.IOV_SINCE>=COALESCE(( SELECT /*+ QB_NAME(MAX1) */ MAX(COOL_I1.IOV_SINCE) FROM ATLAS_COOLOFL_DCS.CONDBR2_F0056_IOVS COOL_I1 WHERE COOL_I1.CHANNEL_ID=COOL_C2.CHANNEL_ID AND COOL_I1.IOV_SINCE<=1480221679962994458 ),1480221679962994458) AND COOL_I3.IOV_SINCE<=1480221759962994458 AND COOL_I3.IOV_UNTIL>1480221679962994458 ORDER BY COOL_I3.CHANNEL_ID ASC, COOL_I3.IOV_SINCE ASC\n",
      "SELECT /*+ NO_BIND_AWARE QB_NAME(MAIN) INDEX(@MAIN COOL_I3@MAIN (CHANNEL_ID IOV_SINCE IOV_UNTIL)) LEADING(@MAIN COOL_C2@MAIN COOL_I3@MAIN) USE_NL(@MAIN COOL_I3@MAIN) INDEX(@MAX1 COOL_I1@MAX1 (CHANNEL_ID IOV_SINCE IOV_UNTIL)) */ COOL_I3.OBJECT_ID AS \"OBJECT_ID\", COOL_I3.CHANNEL_ID AS \"CHANNEL_ID\", COOL_I3.IOV_SINCE AS \"IOV_SINCE\", COOL_I3.IOV_UNTIL AS \"IOV_UNTIL\", COOL_I3.USER_TAG_ID AS \"USER_TAG_ID\", COOL_I3.SYS_INSTIME AS \"SYS_INSTIME\", COOL_I3.LASTMOD_DATE AS \"LASTMOD_DATE\", COOL_I3.ORIGINAL_ID AS \"ORIGINAL_ID\", COOL_I3.NEW_HEAD_ID AS \"NEW_HEAD_ID\", COOL_I3.\"temperature\" AS \"temperature\" FROM \"ATLAS_COOLOFL_DCS\".\"CONDBR2_F0098_CHANNELS\" \"COOL_C2\", \"ATLAS_COOLOFL_DCS\".\"CONDBR2_F0098_IOVS\" \"COOL_I3\" WHERE COOL_I3.CHANNEL_ID=COOL_C2.CHANNEL_ID AND COOL_I3.IOV_SINCE>=COALESCE(( SELECT /*+ QB_NAME(MAX1) */ MAX(COOL_I1.IOV_SINCE) FROM ATLAS_COOLOFL_DCS.CONDBR2_F0098_IOVS COOL_I1 WHERE COOL_I1.CHANNEL_ID=COOL_C2.CHANNEL_ID AND COOL_I1.IOV_SINCE<=1480296213296325928 ),1480296213296325928) AND COOL_I3.IOV_SINCE<=1480296293296325928 AND COOL_I3.IOV_UNTIL>1480296213296325928 ORDER BY COOL_I3.CHANNEL_ID ASC, COOL_I3.IOV_SINCE ASC\n"
     ]
    }
   ],
   "source": [
    "# Defining the time period\n",
    "endtime_start_unix=1520833680\n",
    "endtime_final_unix=1520833800\n",
    "# Format for the elastic search\n",
    "endtime_start = datetime.datetime.fromtimestamp(int(endtime_start_unix)).strftime('%Y-%m-%dT%H:%M:%S.000Z')\n",
    "endtime_final = datetime.datetime.fromtimestamp(int(endtime_final_unix)).strftime('%Y-%m-%dT%H:%M:%S.000Z')\n",
    "\n",
    "print (endtime_start)\n",
    "print (endtime_final)\n",
    "\n",
    "myquery = {\n",
    " \"size\": 10,\n",
    " \"query\": {\n",
    "   \"query_string\": {\n",
    "     \"query\": \"taskid:13251481\",\n",
    "     \"analyze_wildcard\": True,\n",
    "     \"lowercase_expanded_terms\": False,\n",
    "   }\n",
    " },\n",
    "# \"stored_fields\": [\"superstatus\"]\n",
    "}\n",
    "\n",
    "res = es.search(index='frontier-new-*', body=myquery, request_timeout=600)\n",
    "print(len(res['hits']['hits']))\n",
    "for ientry in range(len(res['hits']['hits'])):\n",
    "    print(res['hits']['hits'][ientry]['_source']['sqlquery'])"
   ]
  },
  {
   "cell_type": "code",
   "execution_count": null,
   "metadata": {
    "collapsed": true
   },
   "outputs": [],
   "source": []
  }
 ],
 "metadata": {
  "kernelspec": {
   "display_name": "Python 3",
   "language": "python",
   "name": "python3"
  },
  "language_info": {
   "codemirror_mode": {
    "name": "ipython",
    "version": 3
   },
   "file_extension": ".py",
   "mimetype": "text/x-python",
   "name": "python",
   "nbconvert_exporter": "python",
   "pygments_lexer": "ipython3",
   "version": "3.4.5"
  }
 },
 "nbformat": 4,
 "nbformat_minor": 1
}
