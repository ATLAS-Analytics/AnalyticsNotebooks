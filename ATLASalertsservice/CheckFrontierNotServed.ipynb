{
 "cells": [
  {
   "cell_type": "markdown",
   "metadata": {},
   "source": [
    "Checks number of failed queries (rejected/unprocessed queries and DB disconnections) (TEST)\n",
    "====\n",
    "This notebook checks if there are failed queries:\n",
    "- Rejected queries: server is busy and doesn't respond to the query\n",
    "- DB disconnections: the query was processed by the Frontier server but the Oracle DB terminated the connection\n",
    "- Unprocessed queries: Oracle DB returned data, but it wasn't sent to the querying job \n",
    "\n",
    "It sends mails to all the people substribed to that alert. It is run every half an hour from a cron job (not yet)."
   ]
  },
  {
   "cell_type": "code",
   "execution_count": 1,
   "metadata": {
    "collapsed": true
   },
   "outputs": [],
   "source": [
    "from subscribers import subscribers\n",
    "import alerts\n",
    "import es_query\n",
    "\n",
    "import datetime\n",
    "import re\n",
    "import json\n",
    "import sys\n",
    "from elasticsearch import Elasticsearch, exceptions as es_exceptions\n",
    "from elasticsearch.helpers import scan\n",
    "\n",
    "# Period to check from now backwards\n",
    "nhours=24"
   ]
  },
  {
   "cell_type": "code",
   "execution_count": 2,
   "metadata": {
    "collapsed": true
   },
   "outputs": [],
   "source": [
    "# Following 2 lines are for testing purposes only\n",
    "#curtime = '20170126T120000.000Z'\n",
    "#ct = datetime.datetime.strptime(curtime, \"%Y%m%dT%H%M%S.%fZ\")"
   ]
  },
  {
   "cell_type": "markdown",
   "metadata": {},
   "source": [
    "### Get starting and current time for query interval \n",
    "\n",
    "We need :\n",
    "1. Current UTC time (as set in timestamp on ES DB)\n",
    "2. Previous date stamp (**nhours** ago) obtained from a time delta\n",
    "\n",
    "In order to subtract the time difference we need **ct** to be a datetime object"
   ]
  },
  {
   "cell_type": "code",
   "execution_count": 3,
   "metadata": {},
   "outputs": [
    {
     "name": "stdout",
     "output_type": "stream",
     "text": [
      "frontier-new-2017-11\n",
      "start time 20171105T163733.811Z\n",
      "current time 20171106T163733.811Z\n"
     ]
    }
   ],
   "source": [
    "ct = datetime.datetime.utcnow()\n",
    "ind = 'frontier-new-%d-%02d' % (ct.year, ct.month)\n",
    "print(ind)\n",
    "curtime = ct.strftime('%Y%m%dT%H%M%S.%f')[:-3]+'Z'\n",
    "\n",
    "td = datetime.timedelta(hours=nhours)\n",
    "st = ct - td\n",
    "starttime = st.strftime('%Y%m%dT%H%M%S.%f')[:-3]+'Z'\n",
    "\n",
    "print('start time', starttime)\n",
    "print('current time',curtime)"
   ]
  },
  {
   "cell_type": "markdown",
   "metadata": {},
   "source": [
    "### Establish connection to ES-DB and submit query\n",
    "\n",
    "Send a query to the ES-DB for documents containing information of failed queries"
   ]
  },
  {
   "cell_type": "code",
   "execution_count": 6,
   "metadata": {},
   "outputs": [
    {
     "name": "stdout",
     "output_type": "stream",
     "text": [
      "problematic servers: {'aiatlas146.cern.ch': '4 unprocessed queries.', 'aiatlas073.cern.ch': '4 unprocessed queries.', 'aiatlas147.cern.ch': '4 unprocessed queries.', 'ccosvms0013.in2p3.fr': '2 unprocessed queries.', 'aiatlas036.cern.ch': '4 unprocessed queries.', 'ccosvms0014': '3 unprocessed queries.', 'ccsvli200': '1 unprocessed queries.', 'ccosvms0012.in2p3.fr': '2 unprocessed queries.'}\n"
     ]
    }
   ],
   "source": [
    "es = Elasticsearch(hosts=[{'host':'atlas-kibana.mwt2.org', 'port':9200}],timeout=60)\n",
    "\n",
    "condition='rejected:true OR disconn:true OR procerror:true'\n",
    "\n",
    "my_query={\n",
    "   \"size\": 0,\n",
    "   \"query\": {\n",
    "       \"range\": {\n",
    "          \"@timestamp\": {\n",
    "             \"gte\": starttime,\n",
    "             \"lte\": curtime,\n",
    "             \"format\": \"basic_date_time\"\n",
    "          }\n",
    "       }\n",
    "   },\n",
    "   \"aggs\" : {\n",
    "      \"servers\": {\n",
    "         \"terms\" : {\n",
    "             \"size\" : 20,\n",
    "             \"field\" : \"frontierserver\"\n",
    "         },\n",
    "         \"aggs\" : {\n",
    "            \"unserved\": {\n",
    "               \"filters\": {\n",
    "                  \"filters\": {\n",
    "                     \"rejected\" : {\n",
    "                        \"query_string\": {\n",
    "                           \"query\": \"rejected:true\"\n",
    "                        }\n",
    "                     },\n",
    "                     \"disconnect\" : {\n",
    "                        \"query_string\": {\n",
    "                           \"query\": \"disconn:true\"\n",
    "                        }\n",
    "                     },\n",
    "                     \"procerror\" : {\n",
    "                        \"query_string\": {\n",
    "                           \"query\": \"procerror:true\"\n",
    "                        }\n",
    "                     }\n",
    "                  }\n",
    "               }\n",
    "            }\n",
    "         }\n",
    "      }\n",
    "   }\n",
    "}\n",
    "\n",
    "res = es.search(index=ind, body=my_query, request_timeout=600)\n",
    "\n",
    "#print(res)\n",
    "\n",
    "frontiersrvr = {}\n",
    "res=res['aggregations']['servers']['buckets']\n",
    "for r in res:\n",
    "    ub  = r['unserved']['buckets']\n",
    "    rej = ub['rejected']['doc_count']\n",
    "    dis = ub['disconnect']['doc_count']\n",
    "    pre = ub['procerror']['doc_count']\n",
    "    if rej+dis+pre == 0: continue\n",
    "    mes=''\n",
    "    if rej>0: mes += str(rej) + \" rejected\\t\"\n",
    "    if dis>0: mes += str(dis) + \" disconnected\\t\"\n",
    "    if pre>0: mes += str(pre) + \" unprocessed \"\n",
    "    frontiersrvr[r['key']] = mes + 'queries.'\n",
    "\n",
    "print('problematic servers:', frontiersrvr)\n"
   ]
  },
  {
   "cell_type": "markdown",
   "metadata": {},
   "source": [
    "### Any non-zero value for any Frontier server triggers the alert\n",
    "\n",
    "The alert contains every Frontier server with failed queries and which kind of failures happened."
   ]
  },
  {
   "cell_type": "code",
   "execution_count": 8,
   "metadata": {},
   "outputs": [
    {
     "name": "stdout",
     "output_type": "stream",
     "text": [
      "Content-Type: text/plain; charset=\"us-ascii\"\n",
      "MIME-Version: 1.0\n",
      "Content-Transfer-Encoding: 7bit\n",
      "Subject: Failed queries\n",
      "From: AAAS@mwt2.org\n",
      "To: ilijav@gmail.com\n",
      "\n",
      "Dear Ilija Vukotic,\n",
      "\n",
      "\tthis mail is to let you know that the following servers present failed queries in the past 24 hours: \n",
      "\t(attached numbers correspond to rejected, disconnected and unprocessed queries) \n",
      "\n",
      "aiatlas146.cern.ch : 4 unprocessed queries.\n",
      "aiatlas073.cern.ch : 4 unprocessed queries.\n",
      "aiatlas147.cern.ch : 4 unprocessed queries.\n",
      "ccosvms0013.in2p3.fr : 2 unprocessed queries.\n",
      "aiatlas036.cern.ch : 4 unprocessed queries.\n",
      "ccosvms0014 : 3 unprocessed queries.\n",
      "ccsvli200 : 1 unprocessed queries.\n",
      "ccosvms0012.in2p3.fr : 2 unprocessed queries.\n",
      "\n",
      "Best regards,\n",
      "ATLAS AAS\n",
      "\n",
      " To change your alerts preferences please use the following link:\n",
      "https://docs.google.com/forms/d/e/1FAIpQLSeedRVj0RPRadEt8eGobDeneix_vNxUkqbtdNg7rGMNOrpcug/viewform?edit2=2_ABaOnufrzSAOPoVDl6wcXDnQKk0EfkQRmlxj04nw9npJrTAK5BZPijqoLhg\n",
      "Content-Type: text/plain; charset=\"us-ascii\"\n",
      "MIME-Version: 1.0\n",
      "Content-Transfer-Encoding: 7bit\n",
      "Subject: Failed queries\n",
      "From: AAAS@mwt2.org\n",
      "To: julio.lozano.bahilo@cern.ch\n",
      "\n",
      "Dear Julio Lozano Bahilo,\n",
      "\n",
      "\tthis mail is to let you know that the following servers present failed queries in the past 24 hours: \n",
      "\t(attached numbers correspond to rejected, disconnected and unprocessed queries) \n",
      "\n",
      "aiatlas146.cern.ch : 4 unprocessed queries.\n",
      "aiatlas073.cern.ch : 4 unprocessed queries.\n",
      "aiatlas147.cern.ch : 4 unprocessed queries.\n",
      "ccosvms0013.in2p3.fr : 2 unprocessed queries.\n",
      "aiatlas036.cern.ch : 4 unprocessed queries.\n",
      "ccosvms0014 : 3 unprocessed queries.\n",
      "ccsvli200 : 1 unprocessed queries.\n",
      "ccosvms0012.in2p3.fr : 2 unprocessed queries.\n",
      "\n",
      "Best regards,\n",
      "ATLAS AAS\n",
      "\n",
      " To change your alerts preferences please use the following link:\n",
      "https://docs.google.com/forms/d/e/1FAIpQLSeedRVj0RPRadEt8eGobDeneix_vNxUkqbtdNg7rGMNOrpcug/viewform?edit2=2_ABaOnuesA7ECcNl_hDLh1sxDJSzXznGWG_k5L7jKLYi36MtTXu9EKTChC-U\n"
     ]
    }
   ],
   "source": [
    "if len(frontiersrvr) > 0:\n",
    "    S = subscribers()\n",
    "    A = alerts.alerts()\n",
    "\n",
    "    test_name = 'Failed queries'\n",
    "    users =  S.get_immediate_subscribers(test_name)\n",
    "    for user in users:\n",
    "        body = 'Dear ' + user.name +',\\n\\n'\n",
    "        body += '\\tthis mail is to let you know that the following servers present failed queries in the past ' \n",
    "        body += str(nhours)+' hours: \\n'\n",
    "        body += '\\t(attached numbers correspond to rejected, disconnected and unprocessed queries) \\n\\n'\n",
    "        for fkey in frontiersrvr:\n",
    "           body += fkey\n",
    "           body += ' : '\n",
    "           body += frontiersrvr[fkey]\n",
    "           body += '\\n'\n",
    "        body += '\\nBest regards,\\nATLAS AAS'\n",
    "        body += '\\n\\n To change your alerts preferences please use the following link:\\n' + user.link\n",
    "        A.sendMail(test_name, user.email, body)\n",
    "##        A.addAlert(test_name, user.name, str(res_page))\n"
   ]
  },
  {
   "cell_type": "code",
   "execution_count": null,
   "metadata": {
    "collapsed": true
   },
   "outputs": [],
   "source": []
  }
 ],
 "metadata": {
  "kernelspec": {
   "display_name": "Python 3",
   "language": "python",
   "name": "python3"
  },
  "language_info": {
   "codemirror_mode": {
    "name": "ipython",
    "version": 3
   },
   "file_extension": ".py",
   "mimetype": "text/x-python",
   "name": "python",
   "nbconvert_exporter": "python",
   "pygments_lexer": "ipython3",
   "version": "3.4.5"
  }
 },
 "nbformat": 4,
 "nbformat_minor": 1
}
