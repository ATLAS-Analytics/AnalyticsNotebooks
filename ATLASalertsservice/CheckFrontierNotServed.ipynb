{
 "cells": [
  {
   "cell_type": "markdown",
   "metadata": {},
   "source": [
    "Checks number of failed queries (rejected/unprocessed queries and DB disconnections) (TEST)\n",
    "====\n",
    "This notebook checks if there are failed queries:\n",
    "- Rejected queries: server is busy and doesn't respond to the query\n",
    "- DB disconnections: the query was processed by the Frontier server but the Oracle DB terminated the connection\n",
    "- Unprocessed queries: Oracle DB returned data, but it wasn't sent to the querying job \n",
    "\n",
    "It sends mails to all the people substribed to that alert. It is run every half an hour from a cron job (not yet)."
   ]
  },
  {
   "cell_type": "code",
   "execution_count": 193,
   "metadata": {
    "collapsed": true
   },
   "outputs": [],
   "source": [
    "from subscribers import subscribers\n",
    "import alerts\n",
    "import es_query\n",
    "\n",
    "import datetime\n",
    "import re\n",
    "import json\n",
    "import sys\n",
    "from elasticsearch import Elasticsearch, exceptions as es_exceptions\n",
    "from elasticsearch.helpers import scan\n",
    "\n",
    "# Period to check from now backwards\n",
    "nhours=1\n",
    "# Limit of unsatisfied queries on a given server\n",
    "ntotfail=20\n",
    "# Limit of unsatisfied queries for a given task\n",
    "ntottask=20"
   ]
  },
  {
   "cell_type": "code",
   "execution_count": 194,
   "metadata": {
    "collapsed": true
   },
   "outputs": [],
   "source": [
    "# Following 2 lines are for testing purposes only\n",
    "#curtime = '20170126T120000.000Z'\n",
    "#ct = datetime.datetime.strptime(curtime, \"%Y%m%dT%H%M%S.%fZ\")"
   ]
  },
  {
   "cell_type": "markdown",
   "metadata": {},
   "source": [
    "### Get starting and current time for query interval \n",
    "\n",
    "We need :\n",
    "1. Current UTC time (as set in timestamp on ES DB)\n",
    "2. Previous date stamp (**nhours** ago) obtained from a time delta\n",
    "\n",
    "In order to subtract the time difference we need **ct** to be a datetime object"
   ]
  },
  {
   "cell_type": "code",
   "execution_count": 195,
   "metadata": {},
   "outputs": [
    {
     "name": "stdout",
     "output_type": "stream",
     "text": [
      "frontier-new-2017-12\n",
      "start time 20171226T114925.197Z\n",
      "current time 20171226T124925.197Z\n"
     ]
    }
   ],
   "source": [
    "ct = datetime.datetime.utcnow()\n",
    "ind = 'frontier-new-%d-%02d' % (ct.year, ct.month)\n",
    "print(ind)\n",
    "curtime = ct.strftime('%Y%m%dT%H%M%S.%f')[:-3]+'Z'\n",
    "\n",
    "td = datetime.timedelta(hours=nhours)\n",
    "st = ct - td\n",
    "starttime = st.strftime('%Y%m%dT%H%M%S.%f')[:-3]+'Z'\n",
    "\n",
    "#####################\n",
    "#ind = 'frontier-new-*'\n",
    "#td = datetime.timedelta(days=13)\n",
    "#nct = ct - td\n",
    "#td = datetime.timedelta(days=3)\n",
    "#nst = nct - td\n",
    "#curtime = nct.strftime('%Y%m%dT%H%M%S.%f')[:-3]+'Z'\n",
    "#starttime = nst.strftime('%Y%m%dT%H%M%S.%f')[:-3]+'Z'\n",
    "#####################\n",
    "\n",
    "print('start time', starttime)\n",
    "print('current time',curtime)"
   ]
  },
  {
   "cell_type": "markdown",
   "metadata": {},
   "source": [
    "### Establish connection to ES-DB and submit query\n",
    "\n",
    "Send a query to the ES-DB for documents containing information of failed queries"
   ]
  },
  {
   "cell_type": "code",
   "execution_count": 196,
   "metadata": {},
   "outputs": [
    {
     "name": "stdout",
     "output_type": "stream",
     "text": [
      "problematic tasks: {}\n",
      "problematic servers: {}\n"
     ]
    }
   ],
   "source": [
    "es = Elasticsearch(hosts=[{'host':'atlas-kibana.mwt2.org', 'port':9200}],timeout=60)\n",
    "\n",
    "condition='rejected:true OR disconn:true OR procerror:true'\n",
    "\n",
    "my_query={\n",
    "   \"size\": 0,\n",
    "   \"query\": {\n",
    "       \"range\": {\n",
    "          \"@timestamp\": {\n",
    "             \"gte\": starttime,\n",
    "             \"lte\": curtime,\n",
    "             \"format\": \"basic_date_time\"\n",
    "          }\n",
    "       }\n",
    "   },\n",
    "   \"aggs\" : {\n",
    "      \"servers\": {\n",
    "         \"terms\" : {\n",
    "             \"size\" : 20,\n",
    "             \"field\" : \"frontierserver\"\n",
    "         },\n",
    "         \"aggs\" : {\n",
    "            \"unserved\": {\n",
    "               \"filters\": {\n",
    "                  \"filters\": {\n",
    "                     \"rejected\" : {\n",
    "                        \"query_string\": {\n",
    "                           \"query\": \"rejected:true\"\n",
    "                        }\n",
    "                     },\n",
    "                     \"disconnect\" : {\n",
    "                        \"query_string\": {\n",
    "                           \"query\": \"disconn:true\"\n",
    "                        }\n",
    "                     },\n",
    "                     \"procerror\" : {\n",
    "                        \"query_string\": {\n",
    "                           \"query\": \"procerror:true\"\n",
    "                        }\n",
    "                     }\n",
    "                  }\n",
    "               },\n",
    "               \"aggs\": {\n",
    "                 \"taskid\": {\n",
    "                   \"terms\": {\n",
    "                     \"field\": \"taskid\",\n",
    "                     \"size\": 5,\n",
    "                     \"order\": {\n",
    "                       \"_count\": \"desc\"\n",
    "                     }\n",
    "                   },\n",
    "                   \"aggs\": {\n",
    "                     \"taskname\": {\n",
    "                       \"terms\": {\n",
    "                         \"field\": \"taskname\",\n",
    "                         \"size\": 5,\n",
    "                         \"order\": {\n",
    "                           \"_count\": \"desc\"\n",
    "                         }\n",
    "                       }\n",
    "                     }\n",
    "                   }\n",
    "                 }\n",
    "               }\n",
    "            }\n",
    "         }\n",
    "      }\n",
    "   }\n",
    "}\n",
    "\n",
    "res = es.search(index=ind, body=my_query, request_timeout=600)\n",
    "res=res['aggregations']['servers']['buckets']\n",
    "\n",
    "taskinfo = {}\n",
    "\n",
    "# Loop over Frontier servers\n",
    "\n",
    "for r in res:\n",
    "\n",
    "   tkid=r['unserved']['buckets']['rejected']['taskid']['buckets']\n",
    "   for ti in tkid:\n",
    "      tkname=ti['taskname']['buckets']\n",
    "      for tn in tkname:\n",
    "         if ti['key'] not in taskinfo:\n",
    "            taskinfo[ti['key']]=[tn['key'],[int(tn['doc_count']),0,0]]\n",
    "         else:\n",
    "            count=int(taskinfo[ti['key']][1][0])\n",
    "            taskinfo[ti['key']][1][0]=count+int(tn['doc_count'])\n",
    "\n",
    "   tkid=r['unserved']['buckets']['disconnect']['taskid']['buckets']\n",
    "   for ti in tkid:\n",
    "      tkname=ti['taskname']['buckets']\n",
    "      for tn in tkname:\n",
    "         if ti['key'] not in taskinfo:\n",
    "            taskinfo[ti['key']]=[tn['key'],[0,int(tn['doc_count']),0]]\n",
    "         else:\n",
    "            count=int(taskinfo[ti['key']][1][1])\n",
    "            taskinfo[ti['key']][1][1]=count+int(tn['doc_count'])\n",
    "\n",
    "   tkid=r['unserved']['buckets']['procerror']['taskid']['buckets']\n",
    "   for ti in tkid:\n",
    "      tkname=ti['taskname']['buckets']\n",
    "      for tn in tkname:\n",
    "         if ti['key'] not in taskinfo:\n",
    "            taskinfo[ti['key']]=[tn['key'],[0,0,int(tn['doc_count'])]]\n",
    "         else:\n",
    "            count=int(taskinfo[ti['key']][1][2])\n",
    "            taskinfo[ti['key']][1][2]=count+int(tn['doc_count'])\n",
    "\n",
    "taskid={}\n",
    "for key in taskinfo:                \n",
    "#   if sum(taskinfo[key][1]) > ntottask:\n",
    "   if sum(taskinfo[key][1]) > 10:\n",
    "      taskid[key] = taskinfo[key]\n",
    "   \n",
    "print('problematic tasks:', taskid)\n",
    "    \n",
    "frontiersrvr = {}\n",
    "for r in res:\n",
    "    ub  = r['unserved']['buckets']\n",
    "    rej = ub['rejected']['doc_count']\n",
    "#    if rej>0:\n",
    "#        print(ub['rejected']['taskid'])\n",
    "    dis = ub['disconnect']['doc_count']\n",
    "#    if dis>0:\n",
    "#        print(ub['rejected']['taskid'])\n",
    "    pre = ub['procerror']['doc_count']\n",
    "#    if pre>0:\n",
    "#        print(ub['rejected']['taskid'])\n",
    "    if rej+dis+pre < ntotfail: continue\n",
    "    mes=''\n",
    "    if rej>0: mes += str(rej) + \" rejected\\t\"\n",
    "    if dis>0: mes += str(dis) + \" disconnected\\t\"\n",
    "    if pre>0: mes += str(pre) + \" unprocessed \"\n",
    "    frontiersrvr[r['key']] = mes + 'queries.'\n",
    "\n",
    "print('problematic servers:', frontiersrvr)\n"
   ]
  },
  {
   "cell_type": "markdown",
   "metadata": {},
   "source": [
    "### Any non-zero value for any Frontier server triggers the alert\n",
    "\n",
    "The alert contains every Frontier server with failed queries and which kind of failures happened."
   ]
  },
  {
   "cell_type": "code",
   "execution_count": 198,
   "metadata": {
    "collapsed": true
   },
   "outputs": [],
   "source": [
    "if len(frontiersrvr) > 0 or len(taskid) > 0:\n",
    "    S = subscribers()\n",
    "    A = alerts.alerts()\n",
    "\n",
    "    test_name = 'Failed queries'\n",
    "    users =  S.get_immediate_subscribers(test_name)\n",
    "    for user in users:\n",
    "        body = 'Dear ' + user.name +',\\n\\n'\n",
    "        body += '\\tthis mail is to let you know that in the past '+str(nhours)+' hours \\n' \n",
    "        if len(frontiersrvr) > 0:\n",
    "           body += '\\tthe following servers present failed queries: \\n'\n",
    "           body += '\\t(attached numbers correspond to rejected, disconnected and unprocessed queries) \\n\\n'\n",
    "           for fkey in frontiersrvr:\n",
    "              body += fkey\n",
    "              body += ' : '\n",
    "              body += frontiersrvr[fkey]\n",
    "              body += '\\n'\n",
    "        body += '\\n'\n",
    "        if len(taskid) > 0:\n",
    "           body += '\\tthe following tasks present not completed requests: \\n'\n",
    "           body += '\\n'\n",
    "           for tkey in taskid:\n",
    "              body += 'Task id '+str(tkey)+' with name '+taskid[tkey][0]+' has '+str(taskid[tkey][1][0])+' rejected '\n",
    "              body += str(taskid[tkey][1][1])+' disconnected and '+str(taskid[tkey][1][2])+' unprocessed queries \\n'\n",
    "              body += 'http://bigpanda.cern.ch/task/'+str(tkey)+'\\n'    \n",
    "        body += '\\nConsult the following link to get a table with the 3 most relevant taskids (beware that\\n'\n",
    "        body += 'you will have to select the appropriate time period in the upper right corner)\\n'\n",
    "        body += 'http://atlas-kibana-dev.mwt2.org/goto/fb8cf197b67498d2aee54df04bd79ce1\\n'\n",
    "        body += '\\nBest regards,\\nATLAS AAS'\n",
    "        body += '\\n\\n To change your alerts preferences please use the following link:\\n' + user.link\n",
    "        \n",
    "        A.sendMail(test_name, user.email, body)\n",
    "#        A.addAlert(test_name, user.name, str(res_page))\n",
    "#    A.sendMail(test_name, \"julio.lozano.bahilo@cern.ch\", body)  \n"
   ]
  },
  {
   "cell_type": "code",
   "execution_count": null,
   "metadata": {
    "collapsed": true
   },
   "outputs": [],
   "source": []
  }
 ],
 "metadata": {
  "kernelspec": {
   "display_name": "Python 3",
   "language": "python",
   "name": "python3"
  },
  "language_info": {
   "codemirror_mode": {
    "name": "ipython",
    "version": 3
   },
   "file_extension": ".py",
   "mimetype": "text/x-python",
   "name": "python",
   "nbconvert_exporter": "python",
   "pygments_lexer": "ipython3",
   "version": "3.4.5"
  }
 },
 "nbformat": 4,
 "nbformat_minor": 1
}
