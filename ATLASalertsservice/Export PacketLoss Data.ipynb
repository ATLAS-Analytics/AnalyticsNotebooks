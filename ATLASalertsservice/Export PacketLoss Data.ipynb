{
 "cells": [
  {
   "cell_type": "markdown",
   "metadata": {},
   "source": [
    "# Exports packet loss data for ML outside of jupyter"
   ]
  },
  {
   "cell_type": "markdown",
   "metadata": {},
   "source": [
    "### import all the packages needed for this task"
   ]
  },
  {
   "cell_type": "code",
   "execution_count": 1,
   "metadata": {
    "collapsed": true
   },
   "outputs": [],
   "source": [
    "from elasticsearch import Elasticsearch, exceptions as es_exceptions, helpers\n",
    "from elasticsearch.helpers import scan\n",
    "import sys\n",
    "import datetime\n",
    "import pandas as pd"
   ]
  },
  {
   "cell_type": "markdown",
   "metadata": {},
   "source": [
    "### Select time range"
   ]
  },
  {
   "cell_type": "code",
   "execution_count": 2,
   "metadata": {
    "collapsed": false
   },
   "outputs": [
    {
     "name": "stdout",
     "output_type": "stream",
     "text": [
      "between:  20170313T200325+0000  and  20170412T200425+0000\n"
     ]
    }
   ],
   "source": [
    "cdt = datetime.datetime.utcnow()\n",
    "#cdt = datetime.datetime(2017,1,21,9,0,0)\n",
    "\n",
    "GT = (cdt - datetime.timedelta(hours=30*24)).strftime(\"%Y%m%dT%H%m%S+0000\")\n",
    "LT = cdt.strftime(\"%Y%m%dT%H%m%S+0000\")\n",
    "print('between: ', GT, ' and ', LT)"
   ]
  },
  {
   "cell_type": "markdown",
   "metadata": {},
   "source": [
    "### establish the Elastic Search connection"
   ]
  },
  {
   "cell_type": "code",
   "execution_count": 3,
   "metadata": {
    "collapsed": true
   },
   "outputs": [],
   "source": [
    "es = Elasticsearch(hosts=[{'host':'atlas-kibana.mwt2.org', 'port':9200}],timeout=60)"
   ]
  },
  {
   "cell_type": "markdown",
   "metadata": {},
   "source": [
    "### list all network\\_weather* indices"
   ]
  },
  {
   "cell_type": "code",
   "execution_count": 4,
   "metadata": {
    "collapsed": true
   },
   "outputs": [],
   "source": [
    "indices = es.cat.indices(index=\"network_weather-*\", h=\"index\", request_timeout=600).split('\\n')\n",
    "indices = [x for x in indices if x != '']\n",
    "indices = [x.strip() for x in indices]\n",
    "#print(indices)"
   ]
  },
  {
   "cell_type": "markdown",
   "metadata": {},
   "source": [
    "### indices to be used"
   ]
  },
  {
   "cell_type": "code",
   "execution_count": 5,
   "metadata": {
    "collapsed": false
   },
   "outputs": [
    {
     "name": "stdout",
     "output_type": "stream",
     "text": [
      "will use indices: ['network_weather-2017.3.*', 'network_weather-2017.4.*']\n"
     ]
    }
   ],
   "source": [
    "ind=['network_weather-2017.3.*','network_weather-2017.4.*']\n",
    "print('will use indices:', ind)"
   ]
  },
  {
   "cell_type": "code",
   "execution_count": 35,
   "metadata": {
    "collapsed": false
   },
   "outputs": [
    {
     "name": "stdout",
     "output_type": "stream",
     "text": [
      "0\n"
     ]
    }
   ],
   "source": [
    "query={\n",
    "   \"size\": 0,\n",
    "   \"_source\": [\"src\", \"dest\", \"packet_loss\",\"timestamp\"],\n",
    "   \"query\": {\n",
    "        \"bool\": {\n",
    "          \"must\": [\n",
    "            {\"term\": { \"_type\" : \"packet_loss_rate\"}},\n",
    "            {\"term\": { \"srcProduction\" : True }},\n",
    "            {\"term\": { \"destProduction\" : True }},\n",
    "            {\"term\": { \"dest\" : '149.165.225.223' }},\n",
    "          ],\n",
    "          \"filter\" : {\n",
    "            \"range\" : {\n",
    "              \"timestamp\" :{ \"gt\" : GT, \"lt\" : LT }\n",
    "            }\n",
    "          }\n",
    "        }\n",
    "    }\n",
    "}\n",
    "\n",
    "\n",
    "data=[]\n",
    "res = scan(es, query=query, index=ind, scroll='5m', timeout=\"5m\", size=1000)\n",
    "\n",
    "count = 0\n",
    "for pr in res:\n",
    "    r=pr['_source']\n",
    "    ts=datetime.datetime.strptime(r['timestamp'], \"%Y%m%dT%H%M%S+0000\").timestamp()\n",
    "    doc=[ts,r['src'],r['dest'],r['packet_loss']]\n",
    "    data.append(doc)\n",
    "    if not count%1000000:\n",
    "        print(count)\n",
    "    #if count>10: break\n",
    "    #print(doc)\n",
    "    count+=1\n",
    "    \n",
    "packet_loss=pd.DataFrame(data,columns=['timestamp', 'src', 'dest', 'packet_loss'])\n",
    "del data\n",
    "#print(res)"
   ]
  },
  {
   "cell_type": "code",
   "execution_count": 36,
   "metadata": {
    "collapsed": true
   },
   "outputs": [],
   "source": [
    "packet_loss.to_csv('packet_loss_iu_dest.csv',index=False) #,compression='gzip')"
   ]
  },
  {
   "cell_type": "code",
   "execution_count": null,
   "metadata": {
    "collapsed": true
   },
   "outputs": [],
   "source": []
  }
 ],
 "metadata": {
  "kernelspec": {
   "display_name": "Python 3",
   "language": "python",
   "name": "python3"
  },
  "language_info": {
   "codemirror_mode": {
    "name": "ipython",
    "version": 3
   },
   "file_extension": ".py",
   "mimetype": "text/x-python",
   "name": "python",
   "nbconvert_exporter": "python",
   "pygments_lexer": "ipython3",
   "version": "3.5.1"
  }
 },
 "nbformat": 4,
 "nbformat_minor": 0
}
