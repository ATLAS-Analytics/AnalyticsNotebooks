{
 "cells": [
  {
   "cell_type": "markdown",
   "metadata": {},
   "source": [
    "# Checks if Perfsonar data is indexed\n",
    "\n",
    "This notebook checks number of indexed documents in all four doc types (latency, packetloss, throughput and traceroute) and alerts if any of them is 0. It sends mails to all the people substribed to that alert. It is run every 30 min from a cron job."
   ]
  },
  {
   "cell_type": "code",
   "execution_count": 18,
   "metadata": {
    "collapsed": true
   },
   "outputs": [],
   "source": [
    "import subscribers, alerts\n",
    "from datetime import datetime, timedelta\n",
    "from elasticsearch import Elasticsearch, exceptions as es_exceptions\n",
    "es = Elasticsearch(hosts=[{'host':'atlas-kibana.mwt2.org', 'port':9200}],timeout=60)"
   ]
  },
  {
   "cell_type": "markdown",
   "metadata": {},
   "source": [
    "## find all the indices to look at"
   ]
  },
  {
   "cell_type": "code",
   "execution_count": 20,
   "metadata": {
    "collapsed": false
   },
   "outputs": [
    {
     "name": "stdout",
     "output_type": "stream",
     "text": [
      "checking for indices: network_weather_2-2016.8.22 network_weather_2-2016.8.21\n",
      "will use indices: ['network_weather_2-2016.8.22']\n",
      "current time 2016-08-22 21:11:13.103942\n"
     ]
    }
   ],
   "source": [
    "indices = es.cat.indices(index=\"network_weather_2-*\", h=\"index\", request_timeout=600).split('\\n')\n",
    "indices = [x for x in indices if x != '']\n",
    "indices = [x.strip() for x in indices]\n",
    "#print(indices)\n",
    "\n",
    "cday = datetime.utcnow()\n",
    "pday = cday - timedelta(days=1)\n",
    "ind1 = 'network_weather_2-%d.%d.%d' % (cday.year, cday.month, cday.day)\n",
    "ind2 = 'network_weather_2-%d.%d.%d' % (pday.year, pday.month, pday.day)\n",
    "\n",
    "print('checking for indices:', ind1, ind2)\n",
    "\n",
    "ind=[]\n",
    "if ind1 in indices:\n",
    "    ind.append(ind1)\n",
    "if ind2 != ind1 and ind2 in indices and cday.hour<9:   # not necessarily 3, just indicate it is the beginning period of new day\n",
    "    ind.append(ind2)\n",
    "\n",
    "if len(ind)==0:\n",
    "    print('no current indices found. Aborting.')\n",
    "    exit\n",
    "else:\n",
    "    print('will use indices:', ind)\n",
    "\n",
    "print('current time',datetime.utcnow())"
   ]
  },
  {
   "cell_type": "code",
   "execution_count": 21,
   "metadata": {
    "collapsed": false
   },
   "outputs": [
    {
     "name": "stdout",
     "output_type": "stream",
     "text": [
      "{'timed_out': False, '_shards': {'total': 5, 'successful': 5, 'failed': 0}, 'aggregations': {'docType': {'doc_count_error_upper_bound': 0, 'buckets': [{'key': 'latency', 'doc_count': 200}, {'key': 'packet_loss_rate', 'doc_count': 199}, {'key': 'traceroute', 'doc_count': 56}], 'sum_other_doc_count': 0}}, 'hits': {'total': 455, 'hits': [], 'max_score': 0.0}, 'took': 24}\n"
     ]
    }
   ],
   "source": [
    "# There is a time offset here - we do now-9 instead of expected now-1. There are two possible reasons:\n",
    "# a) timestamps are correct but we simply get data with a long delay\n",
    "# b) timestamps are wrong.\n",
    "\n",
    "types_query={\n",
    "   \"size\": 0,\n",
    "   \"query\": {\n",
    "        \"bool\":{\n",
    "            \"must\": {\n",
    "#                \"term\": {\"_type\":\"latency\"}\n",
    "            },\n",
    "            \"filter\":{\n",
    "                \"range\":{\"timestamp\":{\"gt\": \"now-9h\"}}\n",
    "            }\n",
    "        }\n",
    "   },\n",
    "    \"aggs\" : {\n",
    "        \"docType\" : {\n",
    "            \"terms\" : { \"field\" : \"_type\" }\n",
    "        }\n",
    "    }\n",
    "}\n",
    "\n",
    "res = es.search(index=ind, body=types_query, request_timeout=120)\n",
    "print(res)"
   ]
  },
  {
   "cell_type": "code",
   "execution_count": 22,
   "metadata": {
    "collapsed": false
   },
   "outputs": [
    {
     "name": "stdout",
     "output_type": "stream",
     "text": [
      "{'key': 'latency', 'doc_count': 200}\n",
      "{'key': 'packet_loss_rate', 'doc_count': 199}\n",
      "{'key': 'traceroute', 'doc_count': 56}\n",
      "types with no docs: []\n"
     ]
    }
   ],
   "source": [
    "problematic=[]\n",
    "\n",
    "if res['hits']['total']==0:\n",
    "    problematic=['latency', 'packet_loss_rate', 'traceroute', 'throughput']\n",
    "\n",
    "r=res['aggregations']['docType']['buckets']\n",
    "for t in r:\n",
    "    print(t)\n",
    "    if t['doc_count']==0:\n",
    "        problematic.append(t['key'])\n",
    "print('types with no docs:', problematic)"
   ]
  },
  {
   "cell_type": "code",
   "execution_count": 23,
   "metadata": {
    "collapsed": false
   },
   "outputs": [],
   "source": [
    "if len(problematic) > 0:\n",
    "    S = subscribers.subscribers()\n",
    "    A = alerts.alerts()\n",
    "\n",
    "    testName = 'Perfsonar'\n",
    "    subscribersToPerfsonar =  S.getSubscribers(testName)\n",
    "    print (subscribersToPerfsonar)\n",
    "    for subscriber in subscribersToPerfsonar:\n",
    "        body = 'Dear ' + subscriber[0]+',\\n\\n'\n",
    "        body = body + '\\tthis mail is to let you that there is an issue in indexing Perfsonar data in UC Elasticsearch.\\n'\n",
    "        body = body + 'This is number of documents indexed in last 30 minutes per document type:\\n'\n",
    "        body = body + str(r)+'\\n'\n",
    "        body = body + '\\nBest regards,\\nATLAS AAS'\n",
    "        body = body + '\\n\\n To change your alerts preferences please you the following link:\\n'+subscriber[2]\n",
    "        print(subscriber)\n",
    "        A.sendMail(testName, subscriber[1], body)\n",
    "        A.addAlert(testName, subscriber[0],str(r))"
   ]
  },
  {
   "cell_type": "code",
   "execution_count": null,
   "metadata": {
    "collapsed": true
   },
   "outputs": [],
   "source": []
  }
 ],
 "metadata": {
  "kernelspec": {
   "display_name": "Python 3",
   "language": "python",
   "name": "python3"
  },
  "language_info": {
   "codemirror_mode": {
    "name": "ipython",
    "version": 3
   },
   "file_extension": ".py",
   "mimetype": "text/x-python",
   "name": "python",
   "nbconvert_exporter": "python",
   "pygments_lexer": "ipython3",
   "version": "3.5.1"
  }
 },
 "nbformat": 4,
 "nbformat_minor": 0
}
