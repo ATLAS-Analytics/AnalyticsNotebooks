{
 "cells": [
  {
   "cell_type": "markdown",
   "metadata": {},
   "source": [
    "# Checks if Perfsonar data is indexed\n",
    "\n",
    "This notebook checks number of indexed documents in all four doc types (latency, packetloss, throughput and traceroute) and alerts if any of them is 0. It sends mails to all the people substribed to that alert. It is run every 30 min from a cron job."
   ]
  },
  {
   "cell_type": "code",
   "execution_count": 1,
   "metadata": {
    "collapsed": true
   },
   "outputs": [],
   "source": [
    "import subscribers, alerts\n",
    "from datetime import datetime\n",
    "from elasticsearch import Elasticsearch, exceptions as es_exceptions\n",
    "es = Elasticsearch(hosts=[{'host':'atlas-kibana.mwt2.org', 'port':9200}],timeout=60)"
   ]
  },
  {
   "cell_type": "code",
   "execution_count": 2,
   "metadata": {
    "collapsed": false
   },
   "outputs": [
    {
     "name": "stdout",
     "output_type": "stream",
     "text": [
      "network_weather_2-2016.8.11\n",
      "start time 1470882835614\n",
      "current time 2016-08-10 22:03:55.614547\n"
     ]
    }
   ],
   "source": [
    "ct  = datetime.utcnow()\n",
    "ind = 'network_weather_2-%d.%d.%d' % (ct.year, ct.month, ct.day)\n",
    "print(ind)\n",
    "currentTime=int(round(datetime.now().timestamp()* 1000))\n",
    "startTime=currentTime - 1800000\n",
    "print('start time', startTime)\n",
    "print('current time',datetime.now())"
   ]
  },
  {
   "cell_type": "code",
   "execution_count": 3,
   "metadata": {
    "collapsed": false
   },
   "outputs": [
    {
     "name": "stdout",
     "output_type": "stream",
     "text": [
      "{'took': 23, 'hits': {'total': 36554, 'hits': [], 'max_score': 0.0}, '_shards': {'total': 5, 'failed': 0, 'successful': 5}, 'aggregations': {'docType': {'sum_other_doc_count': 0, 'doc_count_error_upper_bound': 0, 'buckets': [{'key': 'latency', 'doc_count': 17082}, {'key': 'packet_loss_rate', 'doc_count': 17071}, {'key': 'traceroute', 'doc_count': 2202}, {'key': 'throughput', 'doc_count': 199}]}}, 'timed_out': False}\n"
     ]
    }
   ],
   "source": [
    "types_query={\n",
    "   \"size\": 0,\n",
    "   \"query\": {\n",
    "        \"bool\":{\n",
    "            \"must\": {\n",
    "#                \"term\": {\"_type\":\"latency\"}\n",
    "            },\n",
    "            \"filter\":{\n",
    "                \"range\":{\"timestamp\":{\"gte\": startTime,\"lte\": currentTime}}\n",
    "            }\n",
    "        }\n",
    "   },\n",
    "    \"aggs\" : {\n",
    "        \"docType\" : {\n",
    "            \"terms\" : { \"field\" : \"_type\" }\n",
    "        }\n",
    "    }\n",
    "}\n",
    "\n",
    "res = es.search(index=ind, body=types_query, request_timeout=120)\n",
    "print(res)"
   ]
  },
  {
   "cell_type": "code",
   "execution_count": 4,
   "metadata": {
    "collapsed": false
   },
   "outputs": [
    {
     "name": "stdout",
     "output_type": "stream",
     "text": [
      "{'key': 'latency', 'doc_count': 17082}\n",
      "{'key': 'packet_loss_rate', 'doc_count': 17071}\n",
      "{'key': 'traceroute', 'doc_count': 2202}\n",
      "{'key': 'throughput', 'doc_count': 199}\n",
      "types with no docs: []\n"
     ]
    }
   ],
   "source": [
    "r=res['aggregations']['docType']['buckets']\n",
    "problematic=[]\n",
    "for t in r:\n",
    "    print(t)\n",
    "    if t['doc_count']==0:\n",
    "        problematic.append(t['key'])\n",
    "print('types with no docs:', problematic)"
   ]
  },
  {
   "cell_type": "code",
   "execution_count": 5,
   "metadata": {
    "collapsed": false
   },
   "outputs": [
    {
     "name": "stdout",
     "output_type": "stream",
     "text": [
      "[['Ilija Vukotic', 'ivukotic@cern.ch', 'https://docs.google.com/forms/d/e/1FAIpQLSfwwtAvMrqp4Ot_LYfmNu75_v33dtAxiXg7ZvVdn1X5v7TEgg/viewform?edit2=2_ABaOnuf8m2xilpIjaTt3jlTf-1Fw9r42smGVmYATJ2Jap7Y_9Ym0hL_AzhCZIQ'], ['Ilija Vukotic', 'ilijav@gmail.com', 'https://docs.google.com/forms/d/e/1FAIpQLSfwwtAvMrqp4Ot_LYfmNu75_v33dtAxiXg7ZvVdn1X5v7TEgg/viewform?edit2=2_ABaOnuezuteui57-PrydNWrUuZf5fmChNqtjEeDab6h5V6lik_-x790uKsPu5Q']]\n",
      "['Ilija Vukotic', 'ivukotic@cern.ch', 'https://docs.google.com/forms/d/e/1FAIpQLSfwwtAvMrqp4Ot_LYfmNu75_v33dtAxiXg7ZvVdn1X5v7TEgg/viewform?edit2=2_ABaOnuf8m2xilpIjaTt3jlTf-1Fw9r42smGVmYATJ2Jap7Y_9Ym0hL_AzhCZIQ']\n",
      "Content-Type: text/plain; charset=\"us-ascii\"\n",
      "MIME-Version: 1.0\n",
      "Content-Transfer-Encoding: 7bit\n",
      "Subject: Perfsonar\n",
      "From: AAAS@mwt2.org\n",
      "To: ivukotic@cern.ch\n",
      "\n",
      "Dear Ilija Vukotic,\n",
      "\n",
      "\tthis mail is to let you that there is an issue in indexing Perfsonar data in UC Elasticsearch.\n",
      "This is number of documents indexed in last 30 minutes per document type:\n",
      "[{'key': 'latency', 'doc_count': 17082}, {'key': 'packet_loss_rate', 'doc_count': 17071}, {'key': 'traceroute', 'doc_count': 2202}, {'key': 'throughput', 'doc_count': 199}]\n",
      "\n",
      "Best regards,\n",
      "ATLAS AAS\n",
      "\n",
      " To change your alerts preferences please you the following link:\n",
      "https://docs.google.com/forms/d/e/1FAIpQLSfwwtAvMrqp4Ot_LYfmNu75_v33dtAxiXg7ZvVdn1X5v7TEgg/viewform?edit2=2_ABaOnuf8m2xilpIjaTt3jlTf-1Fw9r42smGVmYATJ2Jap7Y_9Ym0hL_AzhCZIQ\n",
      "['Ilija Vukotic', 'ilijav@gmail.com', 'https://docs.google.com/forms/d/e/1FAIpQLSfwwtAvMrqp4Ot_LYfmNu75_v33dtAxiXg7ZvVdn1X5v7TEgg/viewform?edit2=2_ABaOnuezuteui57-PrydNWrUuZf5fmChNqtjEeDab6h5V6lik_-x790uKsPu5Q']\n",
      "Content-Type: text/plain; charset=\"us-ascii\"\n",
      "MIME-Version: 1.0\n",
      "Content-Transfer-Encoding: 7bit\n",
      "Subject: Perfsonar\n",
      "From: AAAS@mwt2.org\n",
      "To: ilijav@gmail.com\n",
      "\n",
      "Dear Ilija Vukotic,\n",
      "\n",
      "\tthis mail is to let you that there is an issue in indexing Perfsonar data in UC Elasticsearch.\n",
      "This is number of documents indexed in last 30 minutes per document type:\n",
      "[{'key': 'latency', 'doc_count': 17082}, {'key': 'packet_loss_rate', 'doc_count': 17071}, {'key': 'traceroute', 'doc_count': 2202}, {'key': 'throughput', 'doc_count': 199}]\n",
      "\n",
      "Best regards,\n",
      "ATLAS AAS\n",
      "\n",
      " To change your alerts preferences please you the following link:\n",
      "https://docs.google.com/forms/d/e/1FAIpQLSfwwtAvMrqp4Ot_LYfmNu75_v33dtAxiXg7ZvVdn1X5v7TEgg/viewform?edit2=2_ABaOnuezuteui57-PrydNWrUuZf5fmChNqtjEeDab6h5V6lik_-x790uKsPu5Q\n"
     ]
    }
   ],
   "source": [
    "if len(problematic) > 0:\n",
    "    S = subscribers.subscribers()\n",
    "    A = alerts.alerts()\n",
    "\n",
    "    testName = 'Perfsonar'\n",
    "    subscribersToPerfsonar =  S.getSubscribers(testName)\n",
    "    print (subscribersToPerfsonar)\n",
    "    for subscriber in subscribersToPerfsonar:\n",
    "        body = 'Dear ' + subscriber[0]+',\\n\\n'\n",
    "        body = body + '\\tthis mail is to let you that there is an issue in indexing Perfsonar data in UC Elasticsearch.\\n'\n",
    "        body = body + 'This is number of documents indexed in last 30 minutes per document type:\\n'\n",
    "        body = body + str(r)+'\\n'\n",
    "        body = body + '\\nBest regards,\\nATLAS AAS'\n",
    "        body = body + '\\n\\n To change your alerts preferences please you the following link:\\n'+subscriber[2]\n",
    "        print(subscriber)\n",
    "        A.sendMail(testName, subscriber[1], body)\n",
    "        A.addAlert(testName, subscriber[0],str(r))"
   ]
  }
 ],
 "metadata": {
  "kernelspec": {
   "display_name": "Python 3",
   "language": "python",
   "name": "python3"
  },
  "language_info": {
   "codemirror_mode": {
    "name": "ipython",
    "version": 3
   },
   "file_extension": ".py",
   "mimetype": "text/x-python",
   "name": "python",
   "nbconvert_exporter": "python",
   "pygments_lexer": "ipython3",
   "version": "3.5.1"
  }
 },
 "nbformat": 4,
 "nbformat_minor": 0
}
