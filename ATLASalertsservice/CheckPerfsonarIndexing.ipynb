{
 "cells": [
  {
   "cell_type": "markdown",
   "metadata": {},
   "source": [
    "# Checks if Perfsonar data is indexed\n",
    "\n",
    "This notebook checks number of indexed documents in all perfsonar indices and alerts if any of them is significantly less then usual. It sends mails to all the people substribed to that alert. It is run every 30 min from a cron job."
   ]
  },
  {
   "cell_type": "code",
   "execution_count": 1,
   "metadata": {
    "collapsed": true
   },
   "outputs": [],
   "source": [
    "%matplotlib inline\n",
    "import matplotlib\n",
    "import matplotlib.pyplot as plt\n",
    "matplotlib.rc('font', **{'size': 12})\n",
    "\n",
    "import pandas as pd\n",
    "\n",
    "from subscribers import subscribers\n",
    "import alerts\n",
    "\n",
    "from datetime import datetime, timedelta\n",
    "from elasticsearch import Elasticsearch, exceptions as es_exceptions\n",
    "es = Elasticsearch(hosts=[{'host':'atlas-kibana.mwt2.org', 'port':9200}],timeout=60)"
   ]
  },
  {
   "cell_type": "markdown",
   "metadata": {},
   "source": [
    "### define what are the indices to look for\n",
    "first number is interval to check (in hours), second is number in 2 previous intervals, third is number in current interval."
   ]
  },
  {
   "cell_type": "code",
   "execution_count": 2,
   "metadata": {
    "collapsed": true
   },
   "outputs": [],
   "source": [
    "ps_indices={\n",
    "    'ps_meta':[24, 0, 0],\n",
    "    'ps_owd':[1, 0, 0],\n",
    "    'ps_packet_loss':[1, 0, 0],\n",
    "    'ps_retransmits':[1, 0, 0],\n",
    "    'ps_status':[1, 0, 0],\n",
    "    'ps_throughput':[1, 0, 0],\n",
    "    'ps_trace':[1, 0, 0]\n",
    "}"
   ]
  },
  {
   "cell_type": "code",
   "execution_count": 3,
   "metadata": {},
   "outputs": [
    {
     "name": "stdout",
     "output_type": "stream",
     "text": [
      "end of subject period:  2018-02-23 10:00:00\n",
      "Checking:  ps_status\n",
      "reference interval: 2018-02-23 07:00:00  till  2018-02-23 09:00:00\n",
      "Checking:  ps_packet_loss\n",
      "reference interval: 2018-02-23 07:00:00  till  2018-02-23 09:00:00\n",
      "Checking:  ps_meta\n",
      "reference interval: 2018-02-20 10:00:00  till  2018-02-22 10:00:00\n",
      "Checking:  ps_owd\n",
      "reference interval: 2018-02-23 07:00:00  till  2018-02-23 09:00:00\n",
      "Checking:  ps_trace\n",
      "reference interval: 2018-02-23 07:00:00  till  2018-02-23 09:00:00\n",
      "Checking:  ps_throughput\n",
      "reference interval: 2018-02-23 07:00:00  till  2018-02-23 09:00:00\n",
      "Checking:  ps_retransmits\n",
      "reference interval: 2018-02-23 07:00:00  till  2018-02-23 09:00:00\n"
     ]
    }
   ],
   "source": [
    "# There is a time offset here - we do now-9 instead of expected now-1. \n",
    "# two reasons: 1. we get data with a delay 2. there is an issue with timezones even data is indexed in UTC.\n",
    "\n",
    "sub_end = (datetime.utcnow()- timedelta(hours=9)).replace(microsecond=0,second=0,minute=0)\n",
    "print('end of subject period: ',sub_end)\n",
    "    \n",
    "for ind in ps_indices:\n",
    "    print (\"Checking: \", ind)\n",
    "    tbin=ps_indices[ind][0]\n",
    "\n",
    "    ref_start = sub_end - timedelta(hours=tbin*3)\n",
    "    ref_end = sub_end - timedelta(hours=tbin)\n",
    "    print('reference interval:', ref_start, ' till ', ref_end)\n",
    "    \n",
    "    ref_start = int(ref_start.timestamp()*1000)\n",
    "    ref_end = int(ref_end.timestamp()*1000)\n",
    "    \n",
    "    types_query={\n",
    "       \"size\": 0,\n",
    "       \"query\": {\n",
    "            \"bool\":{\n",
    "                \"filter\":{\n",
    "                    \"range\":{\"timestamp\":{\"gt\": ref_start, 'lte':ref_end}}\n",
    "                }\n",
    "            }\n",
    "       }\n",
    "    }\n",
    "\n",
    "    res = es.search(index=ind, body=types_query, request_timeout=120)\n",
    "    ps_indices[ind][1] = res['hits']['total']\n",
    " \n",
    "    types_query={\n",
    "       \"size\": 0,\n",
    "       \"query\": {\n",
    "            \"bool\":{\n",
    "                \"filter\":{\n",
    "                    \"range\":{\"timestamp\":{\"gt\": ref_end, 'lte':int(sub_end.timestamp()*1000)}}\n",
    "                }\n",
    "            }\n",
    "       }\n",
    "    }\n",
    "\n",
    "    res = es.search(index=ind, body=types_query, request_timeout=120)\n",
    "    ps_indices[ind][2] = res['hits']['total']"
   ]
  },
  {
   "cell_type": "code",
   "execution_count": 4,
   "metadata": {},
   "outputs": [
    {
     "data": {
      "image/png": "[encoded data removed]",
      "text/plain": [
       "<matplotlib.figure.Figure at 0x7efbd40c10f0>"
      ]
     },
     "metadata": {},
     "output_type": "display_data"
    }
   ],
   "source": [
    "df = pd.DataFrame(ps_indices)\n",
    "df = df[1:].transpose()\n",
    "df.columns=[\"referent\",\"current\"]\n",
    "df.referent= df.referent/2\n",
    "df.plot(kind=\"bar\")\n",
    "fig = matplotlib.pyplot.gcf()\n",
    "fig.set_size_inches(6, 6)\n",
    "plt.tight_layout()\n",
    "plt.savefig('Images/Check_perfsonar_indexing.png')"
   ]
  },
  {
   "cell_type": "code",
   "execution_count": 5,
   "metadata": {},
   "outputs": [
    {
     "data": {
      "text/html": [
       "<div>\n",
       "<style>\n",
       "    .dataframe thead tr:only-child th {\n",
       "        text-align: right;\n",
       "    }\n",
       "\n",
       "    .dataframe thead th {\n",
       "        text-align: left;\n",
       "    }\n",
       "\n",
       "    .dataframe tbody tr th {\n",
       "        vertical-align: top;\n",
       "    }\n",
       "</style>\n",
       "<table border=\"1\" class=\"dataframe\">\n",
       "  <thead>\n",
       "    <tr style=\"text-align: right;\">\n",
       "      <th></th>\n",
       "      <th>referent</th>\n",
       "      <th>current</th>\n",
       "      <th>change</th>\n",
       "      <th>pr1</th>\n",
       "      <th>pr2</th>\n",
       "      <th>problem</th>\n",
       "    </tr>\n",
       "  </thead>\n",
       "  <tbody>\n",
       "    <tr>\n",
       "      <th>ps_meta</th>\n",
       "      <td>978.5</td>\n",
       "      <td>1966</td>\n",
       "      <td>2.009198</td>\n",
       "      <td>False</td>\n",
       "      <td>False</td>\n",
       "      <td>False</td>\n",
       "    </tr>\n",
       "    <tr>\n",
       "      <th>ps_owd</th>\n",
       "      <td>28245.0</td>\n",
       "      <td>28965</td>\n",
       "      <td>1.025491</td>\n",
       "      <td>False</td>\n",
       "      <td>False</td>\n",
       "      <td>False</td>\n",
       "    </tr>\n",
       "    <tr>\n",
       "      <th>ps_packet_loss</th>\n",
       "      <td>9417.5</td>\n",
       "      <td>9659</td>\n",
       "      <td>1.025644</td>\n",
       "      <td>False</td>\n",
       "      <td>False</td>\n",
       "      <td>False</td>\n",
       "    </tr>\n",
       "    <tr>\n",
       "      <th>ps_retransmits</th>\n",
       "      <td>427.0</td>\n",
       "      <td>494</td>\n",
       "      <td>1.156909</td>\n",
       "      <td>True</td>\n",
       "      <td>False</td>\n",
       "      <td>True</td>\n",
       "    </tr>\n",
       "    <tr>\n",
       "      <th>ps_status</th>\n",
       "      <td>429.0</td>\n",
       "      <td>686</td>\n",
       "      <td>1.599068</td>\n",
       "      <td>True</td>\n",
       "      <td>False</td>\n",
       "      <td>True</td>\n",
       "    </tr>\n",
       "    <tr>\n",
       "      <th>ps_throughput</th>\n",
       "      <td>319.5</td>\n",
       "      <td>381</td>\n",
       "      <td>1.192488</td>\n",
       "      <td>True</td>\n",
       "      <td>False</td>\n",
       "      <td>True</td>\n",
       "    </tr>\n",
       "    <tr>\n",
       "      <th>ps_trace</th>\n",
       "      <td>10059.0</td>\n",
       "      <td>10660</td>\n",
       "      <td>1.059747</td>\n",
       "      <td>False</td>\n",
       "      <td>False</td>\n",
       "      <td>False</td>\n",
       "    </tr>\n",
       "  </tbody>\n",
       "</table>\n",
       "</div>"
      ],
      "text/plain": [
       "                referent  current    change    pr1    pr2  problem\n",
       "ps_meta            978.5     1966  2.009198  False  False    False\n",
       "ps_owd           28245.0    28965  1.025491  False  False    False\n",
       "ps_packet_loss    9417.5     9659  1.025644  False  False    False\n",
       "ps_retransmits     427.0      494  1.156909   True  False     True\n",
       "ps_status          429.0      686  1.599068   True  False     True\n",
       "ps_throughput      319.5      381  1.192488   True  False     True\n",
       "ps_trace         10059.0    10660  1.059747  False  False    False"
      ]
     },
     "execution_count": 5,
     "metadata": {},
     "output_type": "execute_result"
    }
   ],
   "source": [
    "df['change'] = df['current']/df['referent']\n",
    "df['pr1'] = df['current'] < 10\n",
    "df['pr2'] = df['change'] < 0.7\n",
    "df['problem']=df['pr1'] | df['pr1']\n",
    "df.head(10)"
   ]
  },
  {
   "cell_type": "code",
   "execution_count": 6,
   "metadata": {},
   "outputs": [
    {
     "name": "stdout",
     "output_type": "stream",
     "text": [
      "                referent  current    change   pr1    pr2  problem\n",
      "ps_retransmits     427.0      494  1.156909  True  False     True\n",
      "ps_status          429.0      686  1.599068  True  False     True\n",
      "ps_throughput      319.5      381  1.192488  True  False     True\n",
      "user name:Ilija Vukotic  email:ilija@vukotic.me\n",
      "user name:Ilija Vukotic  email:ilijav@gmail.com\n",
      "user name:Marian Babik  email:marian.babik@cern.ch\n",
      "user name:Shawn McKee  email:smckee@umich.edu\n"
     ]
    }
   ],
   "source": [
    "problematic=df[df['problem']==True]\n",
    "print(problematic.head(10))\n",
    "\n",
    "if problematic.shape[0] > 0:\n",
    "    S = subscribers()\n",
    "    A = alerts.alerts()\n",
    "\n",
    "    test_name = 'Alert on Elastic indexing rate [PerfSonar]'\n",
    "    users =  S.get_immediate_subscribers(test_name)\n",
    "    for user in users:\n",
    "        body = 'Dear ' + user.name+',\\n\\n'\n",
    "        body += '\\tthis mail is to let you know that there is an issue in indexing Perfsonar data in UC Elasticsearch.\\n'\n",
    "        A.send_HTML_mail(\n",
    "            'Networking alert',\n",
    "            user.email,\n",
    "            body,\n",
    "            subtitle=test_name,\n",
    "            images=[\n",
    "                    {\n",
    "                    \"Title\":'Current vs Referent time',\n",
    "                    \"Description\":\"This plot shows number of documents indexed in two intervals. The Current interval is 1h long except for meta data (24h). Referent interval is just before current interval but is twice longer.\",\n",
    "                    \"Filename\":\"Images/Check_perfsonar_indexing.png\",\n",
    "                    \"Link\":\"http://bit.ly/2BKKO4u\"\n",
    "                    }\n",
    "                   ]\n",
    "        )\n",
    "        \n",
    "        print(user.to_string())\n",
    "        A.addAlert(test_name, user.name, 'just an issue.')"
   ]
  },
  {
   "cell_type": "code",
   "execution_count": null,
   "metadata": {
    "collapsed": true
   },
   "outputs": [],
   "source": []
  },
  {
   "cell_type": "code",
   "execution_count": null,
   "metadata": {
    "collapsed": true
   },
   "outputs": [],
   "source": []
  }
 ],
 "metadata": {
  "kernelspec": {
   "display_name": "Python 3",
   "language": "python",
   "name": "python3"
  },
  "language_info": {
   "codemirror_mode": {
    "name": "ipython",
    "version": 3
   },
   "file_extension": ".py",
   "mimetype": "text/x-python",
   "name": "python",
   "nbconvert_exporter": "python",
   "pygments_lexer": "ipython3",
   "version": "3.4.5"
  }
 },
 "nbformat": 4,
 "nbformat_minor": 1
}
