{
 "cells": [
  {
   "cell_type": "markdown",
   "metadata": {},
   "source": [
    "<h1>This notebook retrieves from ES the info from jobs_archive about 10 top users, and sends alarm if usage is above certain thresholds</h1>"
   ]
  },
  {
   "cell_type": "code",
   "execution_count": 1,
   "metadata": {
    "collapsed": true
   },
   "outputs": [],
   "source": [
    "import numpy as np\n",
    "import re\n",
    "import json\n",
    "from elasticsearch import Elasticsearch, exceptions as es_exceptions\n",
    "from pandas.io.json import json_normalize\n",
    "from IPython.display import display\n",
    "from pandas import DataFrame\n",
    "import pandas as pd\n",
    "from datetime import datetime, timedelta\n",
    "import datetime"
   ]
  },
  {
   "cell_type": "markdown",
   "metadata": {},
   "source": [
    "<h2>Retrieve all job indexes from ES</h2>"
   ]
  },
  {
   "cell_type": "code",
   "execution_count": 2,
   "metadata": {
    "collapsed": true
   },
   "outputs": [],
   "source": [
    "#define function to filter on time\n",
    "def time_filter(indices, last_days=1, pattern=''):\n",
    "    if last_days == 0:\n",
    "        return [\"jobs_archive_*\"]\n",
    "    filtered = []\n",
    "    if pattern:\n",
    "        for i in indices:\n",
    "            if pattern in i:\n",
    "                filtered.append(i.rstrip())\n",
    "        return filtered\n",
    "    today = datetime.date.today()\n",
    "    filtered = []\n",
    "    datefmt = '%Y-%m-%d'\n",
    "    for i in indices:\n",
    "        day = re.sub(r'jobs_archive_', '', i).rstrip()\n",
    "        #print(day)\n",
    "        day = datetime.datetime.strptime(day, datefmt).date()\n",
    "        diff = today - day\n",
    "        if diff.days < last_days:\n",
    "            filtered.append(i.rstrip())\n",
    "    return filtered"
   ]
  },
  {
   "cell_type": "code",
   "execution_count": 3,
   "metadata": {
    "collapsed": true
   },
   "outputs": [],
   "source": [
    "es = Elasticsearch(hosts=[{'host':'atlas-kibana.mwt2.org', 'port':9200}],timeout=60)\n",
    "\n",
    "#get job archive indices from ES\n",
    "indices = es.cat.indices(index=\"jobs_archive_*\", h=\"index\", request_timeout=600).split('\\n')\n",
    "indices = sorted(indices)\n",
    "indices = [x for x in indices if x != '']\n",
    "if 'jobs_archive_2016_status' in indices:\n",
    "    indices.remove('jobs_archive_2016_status')"
   ]
  },
  {
   "cell_type": "markdown",
   "metadata": {},
   "source": [
    "<h2>Retrieve job archives of interest from ES</h2>"
   ]
  },
  {
   "cell_type": "code",
   "execution_count": 4,
   "metadata": {
    "collapsed": false
   },
   "outputs": [
    {
     "name": "stdout",
     "output_type": "stream",
     "text": [
      "jobs_archive_2017-05-09,jobs_archive_2017-05-10\n"
     ]
    }
   ],
   "source": [
    "# retrieve job info from last 2 days\n",
    "# use e.g. last_days=7 or pattern='2016-02' (no wildcard !)\n",
    "NDAYS=2  #NDAYS=150 #NDAYS=''\n",
    "PATTERN='' #PATTERN = '2016-03' #PATTERN=''\n",
    "ind = time_filter(indices, last_days=NDAYS, pattern=PATTERN)\n",
    "ind = ','.join(ind)\n",
    "print(ind)"
   ]
  },
  {
   "cell_type": "markdown",
   "metadata": {},
   "source": [
    "## Alerts and Alarms"
   ]
  },
  {
   "cell_type": "code",
   "execution_count": 5,
   "metadata": {
    "collapsed": false
   },
   "outputs": [],
   "source": [
    "from subscribers_new import subscribers\n",
    "import alerts\n",
    "\n",
    "S = subscribers()\n",
    "A = alerts.alerts()"
   ]
  },
  {
   "cell_type": "markdown",
   "metadata": {},
   "source": [
    "<h2>First Alarm</h2> \n",
    "<h3>get top 10 users/24 hours for walltime*core, and filter out sum walltime > 15 years</h3>"
   ]
  },
  {
   "cell_type": "code",
   "execution_count": 6,
   "metadata": {
    "collapsed": false
   },
   "outputs": [
    {
     "name": "stdout",
     "output_type": "stream",
     "text": [
      "    jobs               user  walltime used\n",
      "0  39802  Pavel Starovoitov      12.237130\n",
      "1  96322   Yasuyuki Okumura       7.382256\n",
      "2  48252  Ferdinand Schenck       6.640197\n"
     ]
    }
   ],
   "source": [
    "s = {\n",
    "    \"size\": 0, \n",
    "    'query':{\n",
    "        'bool':{\n",
    "            'must':[\n",
    "                { \"term\": {\"prodsourcelabel\":\"user\" } },\n",
    "                { 'range' : {\n",
    "                    'modificationtime' : {\n",
    "                        \"gte\" : \"now-1d\",\n",
    "                        \"lt\" :  \"now\"}\n",
    "                    }                \n",
    "                },\n",
    "                { 'bool' : {\n",
    "                    'must_not':[\n",
    "                        { \"term\": {\"produsername\": \"gangarbt\" } },\n",
    "                        { \"term\": {\"processingtype\":\"pmerge\" } } ]                        \n",
    "                    }\n",
    "                }\n",
    "            ],\n",
    "        }\n",
    "    },\n",
    "    \"aggs\": {\n",
    "        \"users\":{\n",
    "            \"terms\": { \n",
    "                \"field\": \"produsername\", \n",
    "                \"order\": {\"walltime_core_sum\": \"desc\"},\n",
    "                \"size\": 10\n",
    "            },\n",
    "            \"aggs\": {\n",
    "                \"walltime_core_sum\": {\n",
    "                    \"sum\": {\n",
    "                        \"script\" : {   # use scripted field to calculate corecount\n",
    "                            \"inline\": \"def core=doc['actualcorecount'].value; if (core!=null) {return doc['wall_time'].value * core} else {return doc['wall_time'].value}\"\n",
    "                        }\n",
    "                    } \n",
    "                },\n",
    "            }\n",
    "        }\n",
    "    }\n",
    "}\n",
    "\n",
    "res = es.search(index=ind, body=s, request_timeout=12000)\n",
    "#print(res) \n",
    "\n",
    "agg = res['aggregations']['users']['buckets']\n",
    "#print(agg)\n",
    "\n",
    "#create df\n",
    "df_w = json_normalize(agg)\n",
    "df_w['walltime_core_sum.value'] = df_w['walltime_core_sum.value'].apply(lambda x: timedelta(seconds=int(x)).days/365.2)\n",
    "\n",
    "LIMIT_WALLTIME = 15 # 5 for testing\n",
    "df_w = df_w[df_w[\"walltime_core_sum.value\"] > LIMIT_WALLTIME]\n",
    "#display(df_w)\n",
    "df_w.columns = ['jobs', 'user', 'walltime used']\n",
    "print(df_w.to_string())\n"
   ]
  },
  {
   "cell_type": "code",
   "execution_count": 7,
   "metadata": {
    "collapsed": false
   },
   "outputs": [],
   "source": [
    "if df_w.shape[0]>0:\n",
    "    test_name='Top Analysis users [Large wall time]'\n",
    "    for u in S.get_immediate_subscribers(test_name):\n",
    "        body = 'Dear ' + u.name+',\\n\\n'\n",
    "        body += 'the following users used substantial wall time (more than 15 years/last 24 hours):\\n\\n'\n",
    "        body += df_w.to_string() + '\\n'\n",
    "        body += '\\n To get more information about this alert message and its interpretation, please visit:\\n'\n",
    "        body += 'http://atlas-kibana.mwt2.org:5601/app/kibana#/dashboard/FL-Analysis-User'\n",
    "        body += '\\nhttps://its.cern.ch/jira/browse/ADCDPA-1'\n",
    "        body += '\\n To change your alerts preferences please use the following link:\\n'+u.link\n",
    "        body += '\\n\\nBest regards,\\nATLAS Alarm & Alert Service'\n",
    "        #A.sendMail(test_name, u.email, body)\n",
    "        #print(body)\n",
    "    A.addAlert(test_name, u.name, str(df_w.shape[0])+' users with huge walltime.')\n",
    "else:\n",
    "    print('No Alarm')"
   ]
  },
  {
   "cell_type": "markdown",
   "metadata": {},
   "source": [
    "<h2>Second Alarm</h2> \n",
    "<h3>get top 10 users/24 hours for inputfilebytes, and filter out sum input size > 500 TB</h3>"
   ]
  },
  {
   "cell_type": "code",
   "execution_count": 8,
   "metadata": {
    "collapsed": false
   },
   "outputs": [
    {
     "name": "stdout",
     "output_type": "stream",
     "text": [
      "     jobs  input size [TB]                                        user\n",
      "0   35109       195.861671                               Takuto Kunigo\n",
      "1   48252       123.912593                           Ferdinand Schenck\n",
      "2    6565        91.466921                                  Shogo Kido\n",
      "3  145448        77.706381                      Katja Hannele Mankinen\n",
      "4    5028        69.537501                              Frederic Derue\n",
      "5   22804        69.479996                          Salah-eddine Dahbi\n",
      "6    2128        69.249816  Helena de Fatima Nunes Casimiro dos Santos\n",
      "7   32270        62.583431                     Andrew Stephen Chisholm\n",
      "8    1107        47.332905                              Jonathan Crane\n",
      "9    3179        43.969427                              Dominik Krauss\n"
     ]
    }
   ],
   "source": [
    "s = {\n",
    "    \"size\": 0, # get one job entry only for debugging purposes    \n",
    "    'query':{\n",
    "        'bool':{\n",
    "            'must':[\n",
    "                { \"term\": {\"prodsourcelabel\":\"user\" } },\n",
    "                { 'range' : {\n",
    "                    'modificationtime' : {\n",
    "                        \"gte\" : \"now-1d\",\n",
    "                        \"lt\" :  \"now\"}\n",
    "                    }                \n",
    "                },\n",
    "                { 'bool' : {\n",
    "                    'must_not':[\n",
    "                        { \"term\": {\"produsername\": \"gangarbt\" } },\n",
    "                        { \"term\": {\"processingtype\":\"pmerge\" } } ]                        \n",
    "                    }\n",
    "                }\n",
    "            ],\n",
    "        }\n",
    "    },\n",
    "    \"aggs\": {\n",
    "        \"users\":{\n",
    "            \"terms\": { \n",
    "                \"field\": \"produsername\", \n",
    "                \"order\": {\"inputsize_sum\": \"desc\"},\n",
    "                \"size\": 10\n",
    "            },\n",
    "            \"aggs\": {\n",
    "                \"inputsize_sum\": {\n",
    "                    \"sum\": { \"field\": \"inputfilebytes\" }                     \n",
    "                },\n",
    "            }\n",
    "        }\n",
    "    }\n",
    "}\n",
    "\n",
    "res = es.search(index=ind, body=s, request_timeout=12000)\n",
    "#print(res) \n",
    "\n",
    "agg = res['aggregations']['users']['buckets']\n",
    "#print(agg)\n",
    "\n",
    "#create df\n",
    "df_i = json_normalize(agg)\n",
    "df_i['inputsize_sum.value'] = df_i['inputsize_sum.value'].apply(lambda x: x*0.00000000000089)\n",
    "\n",
    "LIMIT_INPUTSIZE = 500 # 5 for testing\n",
    "df_i = df_i[df_i[\"inputsize_sum.value\"] > LIMIT_INPUTSIZE]\n",
    "#display(df_i)\n",
    "\n",
    "df_i.columns = ['jobs', 'input size [TB]', 'user']\n",
    "print(df_i.to_string())"
   ]
  },
  {
   "cell_type": "code",
   "execution_count": 9,
   "metadata": {
    "collapsed": false
   },
   "outputs": [],
   "source": [
    "if df_i.shape[0]>0:\n",
    "    test_name='Top Analysis users [Large input data size]'\n",
    "    for u in S.get_immediate_subscribers(test_name):\n",
    "        body = 'Dear ' + u.name+',\\n\\n'\n",
    "        body += 'the following users processed rather substantial input data (>500 TB/last 24 hours):\\n\\n'\n",
    "        body += df_i.to_string() + '\\n'\n",
    "        body += '\\n To get more information about this alert message and its interpretation, please visit:\\n'\n",
    "        body += 'http://atlas-kibana.mwt2.org:5601/app/kibana#/dashboard/FL-Analysis-User'\n",
    "        body += '\\nhttps://its.cern.ch/jira/browse/ADCDPA-1'\n",
    "        body += '\\n To change your alerts preferences please use the following link:\\n'+u.link\n",
    "        body += '\\n\\nBest regards,\\nATLAS Alarm & Alert Service'\n",
    "        #A.sendMail(test_name, u.email, body)\n",
    "        #print(body)\n",
    "        A.addAlert(test_name, u.name, str(df_w.shape[0])+' users with huge walltime.')\n",
    "else:\n",
    "    print('No Alarm')        "
   ]
  },
  {
   "cell_type": "code",
   "execution_count": null,
   "metadata": {
    "collapsed": true
   },
   "outputs": [],
   "source": []
  }
 ],
 "metadata": {
  "kernelspec": {
   "display_name": "Python 3",
   "language": "python",
   "name": "python3"
  },
  "language_info": {
   "codemirror_mode": {
    "name": "ipython",
    "version": 3
   },
   "file_extension": ".py",
   "mimetype": "text/x-python",
   "name": "python",
   "nbconvert_exporter": "python",
   "pygments_lexer": "ipython3",
   "version": "3.5.1"
  }
 },
 "nbformat": 4,
 "nbformat_minor": 0
}
