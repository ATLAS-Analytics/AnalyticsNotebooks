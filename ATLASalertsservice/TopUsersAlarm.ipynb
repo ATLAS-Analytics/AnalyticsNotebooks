{
 "cells": [
  {
   "cell_type": "markdown",
   "metadata": {},
   "source": [
    "<h1>This notebook retrieves from ES the info from jobs_archive about 10 top users, and sends alarm if usage is above certain thresholds</h1>"
   ]
  },
  {
   "cell_type": "code",
   "execution_count": 82,
   "metadata": {
    "collapsed": true
   },
   "outputs": [],
   "source": [
    "import numpy as np\n",
    "import re\n",
    "import json\n",
    "from elasticsearch import Elasticsearch, exceptions as es_exceptions\n",
    "from pandas.io.json import json_normalize\n",
    "from IPython.display import display\n",
    "from pandas import DataFrame\n",
    "import pandas as pd\n",
    "from datetime import datetime, timedelta\n",
    "import datetime"
   ]
  },
  {
   "cell_type": "markdown",
   "metadata": {},
   "source": [
    "<h2>Retrieve all job indexes from ES</h2>"
   ]
  },
  {
   "cell_type": "code",
   "execution_count": 83,
   "metadata": {
    "collapsed": true
   },
   "outputs": [],
   "source": [
    "#define function to filter on time\n",
    "def time_filter(indices, last_days=1, pattern=''):\n",
    "    if last_days == 0:\n",
    "        return [\"jobs_archive_*\"]\n",
    "    filtered = []\n",
    "    if pattern:\n",
    "        for i in indices:\n",
    "            if pattern in i:\n",
    "                filtered.append(i.rstrip())\n",
    "        return filtered\n",
    "    today = datetime.date.today()\n",
    "    filtered = []\n",
    "    datefmt = '%Y-%m-%d'\n",
    "    for i in indices:\n",
    "        day = re.sub(r'jobs_archive_', '', i).rstrip()\n",
    "        #print(day)\n",
    "        if '_reindexed' in day:\n",
    "            day = re.sub(r'_reindexed', '', day).lstrip()        \n",
    "        day = datetime.datetime.strptime(day, datefmt).date()\n",
    "        diff = today - day\n",
    "        if diff.days < last_days:\n",
    "            filtered.append(i.rstrip())\n",
    "    return filtered"
   ]
  },
  {
   "cell_type": "code",
   "execution_count": 84,
   "metadata": {
    "collapsed": true
   },
   "outputs": [],
   "source": [
    "es = Elasticsearch(hosts=[{'host':'atlas-kibana.mwt2.org', 'port':9200}],timeout=60)\n",
    "\n",
    "#get job archive indices from ES\n",
    "indices = es.cat.indices(index=\"jobs_archive_*\", h=\"index\", request_timeout=600).split('\\n')\n",
    "indices = sorted(indices)\n",
    "indices = [x for x in indices if x != '']\n",
    "if 'jobs_archive_2016_status' in indices:\n",
    "    indices.remove('jobs_archive_2016_status')"
   ]
  },
  {
   "cell_type": "markdown",
   "metadata": {},
   "source": [
    "<h2>Retrieve job archives of interest from ES</h2>"
   ]
  },
  {
   "cell_type": "code",
   "execution_count": 85,
   "metadata": {},
   "outputs": [
    {
     "name": "stdout",
     "output_type": "stream",
     "text": [
      "jobs_archive_2017-11-29,jobs_archive_2017-11-30\n"
     ]
    }
   ],
   "source": [
    "# retrieve job info from last 2 days\n",
    "# use e.g. last_days=7 or pattern='2016-02' (no wildcard !)\n",
    "NDAYS=2  #NDAYS=150 #NDAYS=''\n",
    "PATTERN='' #PATTERN = '2016-03' #PATTERN=''\n",
    "ind = time_filter(indices, last_days=NDAYS, pattern=PATTERN)\n",
    "ind = ','.join(ind)\n",
    "print(ind)"
   ]
  },
  {
   "cell_type": "markdown",
   "metadata": {},
   "source": [
    "## Alerts and Alarms"
   ]
  },
  {
   "cell_type": "code",
   "execution_count": 86,
   "metadata": {
    "collapsed": true
   },
   "outputs": [],
   "source": [
    "from subscribers import subscribers\n",
    "import alerts\n",
    "\n",
    "S = subscribers()\n",
    "A = alerts.alerts()"
   ]
  },
  {
   "cell_type": "markdown",
   "metadata": {},
   "source": [
    "<h2>First Alarm</h2> \n",
    "<h3>get top 10 users/24 hours for walltime*core, and filter out sum walltime > 15 years</h3>\n",
    "<h3>convert walltime in number of cores used per day, by assuming all jobs are single core</h3>"
   ]
  },
  {
   "cell_type": "code",
   "execution_count": 29,
   "metadata": {},
   "outputs": [
    {
     "data": {
      "text/html": [
       "<div>\n",
       "<style>\n",
       "    .dataframe thead tr:only-child th {\n",
       "        text-align: right;\n",
       "    }\n",
       "\n",
       "    .dataframe thead th {\n",
       "        text-align: left;\n",
       "    }\n",
       "\n",
       "    .dataframe tbody tr th {\n",
       "        vertical-align: top;\n",
       "    }\n",
       "</style>\n",
       "<table border=\"1\" class=\"dataframe\">\n",
       "  <thead>\n",
       "    <tr style=\"text-align: right;\">\n",
       "      <th></th>\n",
       "      <th>doc_count</th>\n",
       "      <th>key</th>\n",
       "      <th>walltime_core_sum.value</th>\n",
       "      <th>ncores</th>\n",
       "    </tr>\n",
       "  </thead>\n",
       "  <tbody>\n",
       "  </tbody>\n",
       "</table>\n",
       "</div>"
      ],
      "text/plain": [
       "Empty DataFrame\n",
       "Columns: [doc_count, key, walltime_core_sum.value, ncores]\n",
       "Index: []"
      ]
     },
     "metadata": {},
     "output_type": "display_data"
    },
    {
     "name": "stdout",
     "output_type": "stream",
     "text": [
      "Empty DataFrame\n",
      "Columns: [jobs, user, walltime used [years], number of cores]\n",
      "Index: []\n"
     ]
    }
   ],
   "source": [
    "s = {\n",
    "    \"size\": 0, \n",
    "    'query':{\n",
    "        'bool':{\n",
    "            'must':[\n",
    "                { \"term\": {\"prodsourcelabel\":\"user\" } },\n",
    "                { 'range' : {\n",
    "                    'modificationtime' : {\n",
    "                        \"gte\" : \"now-1d\",\n",
    "                        \"lt\" :  \"now\"}\n",
    "                    }                \n",
    "                },\n",
    "                { 'bool' : {\n",
    "                    'must_not':[\n",
    "                        { \"term\": {\"produsername\": \"gangarbt\" } },\n",
    "                        { \"term\": {\"processingtype\":\"pmerge\" } } ,\n",
    "                        { 'exists' : { \"field\" : \"workinggroup\" }}    # only users without workinggroup priviledges\n",
    "                        ]                        \n",
    "                    }\n",
    "                }\n",
    "            ],\n",
    "        }\n",
    "    },\n",
    "    \"aggs\": {\n",
    "        \"users\":{\n",
    "            \"terms\": { \n",
    "                \"field\": \"produsername\", \n",
    "                \"order\": {\"walltime_core_sum\": \"desc\"},\n",
    "                \"size\": 10\n",
    "            },\n",
    "            \"aggs\": {\n",
    "                \"walltime_core_sum\": {\n",
    "                    \"sum\": {\n",
    "                        \"script\" : {   # use scripted field to calculate corecount\n",
    "                            \"inline\": \"def core=doc['actualcorecount'].value; if (core!=null) {return doc['wall_time'].value * core} else {return doc['wall_time'].value}\"\n",
    "                        }\n",
    "                    } \n",
    "                },\n",
    "            }\n",
    "        }\n",
    "    }\n",
    "}\n",
    "\n",
    "res = es.search(index=ind, body=s, request_timeout=12000)\n",
    "#print(res) \n",
    "\n",
    "agg = res['aggregations']['users']['buckets']\n",
    "#print(agg)\n",
    "\n",
    "#create df\n",
    "df_w = json_normalize(agg)\n",
    "df_w['walltime_core_sum.value'] = df_w['walltime_core_sum.value'].apply(lambda x: timedelta(seconds=int(x)).days/365.2)\n",
    "df_w['ncores']=df_w['walltime_core_sum.value'].apply(lambda x: x*365.) #transform walltime[year] in walltime[day]\n",
    "\n",
    "LIMIT_WALLTIME = 15 # 5 for testing\n",
    "df_w = df_w[df_w[\"walltime_core_sum.value\"] > LIMIT_WALLTIME]\n",
    "\n",
    "display(df_w)\n",
    "df_w.columns = ['jobs', 'user', 'walltime used [years]', 'number of cores']\n",
    "print(df_w.to_string())\n"
   ]
  },
  {
   "cell_type": "code",
   "execution_count": 30,
   "metadata": {},
   "outputs": [
    {
     "name": "stdout",
     "output_type": "stream",
     "text": [
      "No Alarm\n"
     ]
    }
   ],
   "source": [
    "if df_w.shape[0]>0:\n",
    "    test_name='Top Analysis users [Large wall time]'\n",
    "    for u in S.get_immediate_subscribers(test_name):\n",
    "        body = 'Dear ' + u.name+',\\n\\n'\n",
    "        body += 'the following users used substantial wall time (more than 15 years/last 24 hours, corresponding to 5475 cores/day):\\n\\n'\n",
    "        body += df_w.to_string() + '\\n'\n",
    "        body += '\\n To get more information about this alert message and its interpretation, please visit:\\n'\n",
    "        body += 'http://atlas-kibana.mwt2.org:5601/app/kibana#/dashboard/FL-Analysis-User'\n",
    "        body += '\\nhttps://its.cern.ch/jira/browse/ADCDPA-1'\n",
    "        body += '\\n To change your alerts preferences please use the following link:\\n'+u.link\n",
    "        body += '\\n\\nBest regards,\\nATLAS Alarm & Alert Service'\n",
    "        A.sendMail(test_name, u.email, body)\n",
    "        #print(body)\n",
    "    A.addAlert(test_name, u.name, str(df_w.shape[0])+' users with huge walltime.')\n",
    "else:\n",
    "    print('No Alarm')"
   ]
  },
  {
   "cell_type": "markdown",
   "metadata": {},
   "source": [
    "<h2>Second Alarm</h2> \n",
    "<h3>get top 10 users/24 hours for inputfilebytes, and filter out sum input size > 500 TB</h3>"
   ]
  },
  {
   "cell_type": "code",
   "execution_count": 31,
   "metadata": {},
   "outputs": [
    {
     "name": "stdout",
     "output_type": "stream",
     "text": [
      "Empty DataFrame\n",
      "Columns: [jobs, input size [TB], user]\n",
      "Index: []\n"
     ]
    }
   ],
   "source": [
    "s = {\n",
    "    \"size\": 0, # get one job entry only for debugging purposes    \n",
    "    'query':{\n",
    "        'bool':{\n",
    "            'must':[\n",
    "                { \"term\": {\"prodsourcelabel\":\"user\" } },\n",
    "                { 'range' : {\n",
    "                    'modificationtime' : {\n",
    "                        \"gte\" : \"now-1d\",\n",
    "                        \"lt\" :  \"now\"}\n",
    "                    }                \n",
    "                },\n",
    "                { 'bool' : {\n",
    "                    'must_not':[\n",
    "                        { \"term\": {\"produsername\": \"gangarbt\" } },\n",
    "                        { \"term\": {\"processingtype\":\"pmerge\" } },\n",
    "                        { \"term\": {\"jobstatus\" :\"closed\"} },\n",
    "                        { \"term\": {\"jobstatus\" :\"cancelled\"} },\n",
    "                        { 'exists' : { \"field\" : \"workinggroup\" }}]                        \n",
    "                    }\n",
    "                }\n",
    "            ],\n",
    "        }\n",
    "    },\n",
    "    \"aggs\": {\n",
    "        \"users\":{\n",
    "            \"terms\": { \n",
    "                \"field\": \"produsername\", \n",
    "                \"order\": {\"inputsize_sum\": \"desc\"},\n",
    "                \"size\": 10\n",
    "            },\n",
    "            \"aggs\": {\n",
    "                \"inputsize_sum\": {\n",
    "                    \"sum\": { \"field\": \"inputfilebytes\" }                     \n",
    "                },\n",
    "            }\n",
    "        }\n",
    "    }\n",
    "}\n",
    "\n",
    "res = es.search(index=ind, body=s, request_timeout=12000)\n",
    "#print(res) \n",
    "\n",
    "agg = res['aggregations']['users']['buckets']\n",
    "#print(agg)\n",
    "\n",
    "#create df\n",
    "df_i = json_normalize(agg)\n",
    "df_i['inputsize_sum.value'] = df_i['inputsize_sum.value'].apply(lambda x: x*0.00000000000089)\n",
    "\n",
    "LIMIT_INPUTSIZE = 500 # 5 for testing\n",
    "df_i = df_i[df_i[\"inputsize_sum.value\"] > LIMIT_INPUTSIZE]\n",
    "#display(df_i)\n",
    "\n",
    "df_i.columns = ['jobs', 'input size [TB]', 'user']\n",
    "print(df_i.to_string())"
   ]
  },
  {
   "cell_type": "code",
   "execution_count": 32,
   "metadata": {},
   "outputs": [
    {
     "name": "stdout",
     "output_type": "stream",
     "text": [
      "No Alarm\n"
     ]
    }
   ],
   "source": [
    "if df_i.shape[0]>0:\n",
    "    test_name='Top Analysis users [Large input data size]'\n",
    "    for u in S.get_immediate_subscribers(test_name):\n",
    "        body = 'Dear ' + u.name+',\\n\\n'\n",
    "        body += 'the following users processed rather substantial input data (>500 TB/last 24 hours):\\n\\n'\n",
    "        body += df_i.to_string() + '\\n'\n",
    "        body += '\\n To get more information about this alert message and its interpretation, please visit:\\n'\n",
    "        body += 'http://atlas-kibana.mwt2.org:5601/app/kibana#/dashboard/FL-Analysis-User'\n",
    "        body += '\\nhttps://its.cern.ch/jira/browse/ADCDPA-1'\n",
    "        body += '\\n To change your alerts preferences please use the following link:\\n'+u.link\n",
    "        body += '\\n\\nBest regards,\\nATLAS Alarm & Alert Service'\n",
    "        A.sendMail(test_name, u.email, body)\n",
    "        #print(body)\n",
    "        A.addAlert(test_name, u.name, str(df_w.shape[0])+' users with huge walltime.')\n",
    "else:\n",
    "    print('No Alarm')        "
   ]
  },
  {
   "cell_type": "markdown",
   "metadata": {
    "collapsed": true
   },
   "source": [
    "<h2>Third Alarm</h2> \n",
    "<h3>Notify if user job efficiency drops before 70%</h3>"
   ]
  },
  {
   "cell_type": "code",
   "execution_count": 33,
   "metadata": {},
   "outputs": [
    {
     "name": "stdout",
     "output_type": "stream",
     "text": [
      "0.870428329767\n"
     ]
    }
   ],
   "source": [
    "s = {\n",
    "    \"size\": 0, # get one job entry only for debugging purposes    \n",
    "    'query':{\n",
    "        'bool':{\n",
    "            'must':[\n",
    "                { \"term\": {\"prodsourcelabel\":\"user\" } },\n",
    "                { 'range' : {\n",
    "                    'modificationtime' : {\n",
    "                        \"gte\" : \"now-1d\",\n",
    "                        \"lt\" :  \"now\"}\n",
    "                    }                \n",
    "                },\n",
    "                { 'bool' : {\n",
    "                    'must_not':[\n",
    "                        { \"term\": {\"produsername\": \"gangarbt\" } },\n",
    "                        { \"term\": {\"processingtype\":\"pmerge\" } } ,\n",
    "                        { \"term\": {\"jobstatus\" :\"cancelled\" } } ,\n",
    "                        { \"term\": {\"jobstatus\" :\"closed\"}}\n",
    "                        ]                        \n",
    "                    }\n",
    "                }\n",
    "            ],\n",
    "        }\n",
    "    },\n",
    "    \"aggs\": {\n",
    "        \"status\":{\n",
    "            \"terms\": { \n",
    "                \"field\": \"jobstatus\", \n",
    "                \"order\": {\"corecount_sum\": \"desc\"},\n",
    "                \"size\": 5\n",
    "            },\n",
    "            \"aggs\": {\n",
    "                \"corecount_sum\": {\n",
    "                    \"sum\": { \"field\": \"actualcorecount\" }                     \n",
    "                },\n",
    "            }\n",
    "        }\n",
    "    }\n",
    "}\n",
    "\n",
    "            \n",
    "res = es.search(index=ind, body=s, request_timeout=12000)\n",
    "#print(res) \n",
    "\n",
    "agg = res['aggregations']['status']['buckets']\n",
    "#print(agg)\n",
    "\n",
    "#create df\n",
    "df_e = json_normalize(agg)\n",
    "#display(df_e)\n",
    "\n",
    "finished = df_e[df_e['key']=='finished']\n",
    "successful = finished['corecount_sum.value'].iloc[0]\n",
    "failed = df_e[df_e['key']=='failed']\n",
    "total = failed['corecount_sum.value'].iloc[0] + successful\n",
    "\n",
    "\n",
    "LIMIT_EFFICIENCY = 0.7\n",
    "Alarm = ''\n",
    "if (total==0):\n",
    "    Alarm = \"Alarm, no finished user jobs in last 24 hours\"\n",
    "else:\n",
    "    efficiency = successful/total\n",
    "    print(str(efficiency))\n",
    "    if (efficiency < LIMIT_EFFICIENCY):\n",
    "        Alarm = \"Alarm, user job efficiency is \"+str(round(efficiency,1))    \n",
    "\n",
    "if (len(Alarm)>0):\n",
    "    print(Alarm)"
   ]
  },
  {
   "cell_type": "code",
   "execution_count": 34,
   "metadata": {},
   "outputs": [
    {
     "name": "stdout",
     "output_type": "stream",
     "text": [
      "No Alarm\n"
     ]
    }
   ],
   "source": [
    "if (len(Alarm)>0):\n",
    "    test_name='Top Analysis users [Low efficiency]'\n",
    "    for u in S.get_immediate_subscribers(test_name):\n",
    "        body = 'Dear ' + u.name+',\\n\\n'\n",
    "        body += 'the following alarm was raised regarding the global user job efficiency in the last 24 hours:\\n\\n'\n",
    "        body += Alarm + '\\n'\n",
    "        body += '\\n The efficiency is defined as walltime of successful jobs divided by the walltime of successful plus failed jobs'\n",
    "        body += '\\n The efficiency is calculated on all user jobs in the last 24 hours.'\n",
    "        body += '\\n To get more information about this alert message and its interpretation, please visit:\\n'\n",
    "        body += 'http://atlas-kibana.mwt2.org:5601/app/kibana#/dashboard/FL-Analysis'\n",
    "        body += '\\nhttp://atlas-kibana.mwt2.org:5601/app/kibana#/dashboard/FL-Analysis-User'\n",
    "        body += '\\n To change your alerts preferences please use the following link:\\n'+u.link\n",
    "        body += '\\n\\nBest regards,\\nATLAS Alarm & Alert Service'\n",
    "        A.sendMail(test_name, u.email, body)\n",
    "        #print(body)\n",
    "        A.addAlert(test_name, u.name, Alarm)\n",
    "else:\n",
    "    print('No Alarm') "
   ]
  },
  {
   "cell_type": "markdown",
   "metadata": {},
   "source": [
    "<h2>Fourth alarm -- DISABLED --- TO BE REVIEWED</h2> \n",
    "<h3>get name of users with >70 retries in last 24 hours, should we also add a lower limit on the number of jobs?</h3>"
   ]
  },
  {
   "cell_type": "code",
   "execution_count": 87,
   "metadata": {
    "collapsed": true
   },
   "outputs": [],
   "source": [
    "s = {\n",
    "    \"size\": 0, # get one job entry only for debugging purposes    \n",
    "    'query':{\n",
    "        'bool':{\n",
    "            'must':[\n",
    "                { \"term\": {\"prodsourcelabel\":\"user\" }}, #add jobstatus failed\n",
    "                { \"term\": {\"jobstatus\":\"failed\" }},\n",
    "                { 'range' : {\n",
    "                    'modificationtime' : {\n",
    "                        \"gte\" : \"now-1d\",\n",
    "                        \"lt\" :  \"now\"}\n",
    "                } }, \n",
    "                { 'range' : {\n",
    "                    'attemptnr' : {\n",
    "                        \"gte\" : \"999\", #\"70\",\n",
    "                        \"lt\" :  \"1000\"},                    \n",
    "                            \n",
    "                } },\n",
    "                { 'bool' : {\n",
    "                    'must_not':[\n",
    "                        { \"term\": {\"produsername\": \"gangarbt\" } },\n",
    "                        { \"term\": {\"processingtype\":\"pmerge\" } },\n",
    "                        ]                        \n",
    "                    }\n",
    "                }\n",
    "            ],\n",
    "        }\n",
    "    },\n",
    "    \"aggs\": {\n",
    "        \"status\":{\n",
    "            \"terms\": { \n",
    "                \"field\": \"produsername\", \n",
    "                \"order\": {\"corecount_sum\": \"desc\"},\n",
    "                \"size\": 5\n",
    "            },\n",
    "            \"aggs\": {\n",
    "                \"corecount_sum\": {\n",
    "                    \"sum\": { \"field\": \"actualcorecount\" }                     \n",
    "                },\n",
    "            }\n",
    "        }\n",
    "    }\n",
    "}\n",
    "\n",
    "res = es.search(index=ind, body=s, request_timeout=12000)\n",
    "#print(res) \n",
    "\n",
    "agg = res['aggregations']['status']['buckets']\n",
    "#print(agg)\n",
    "\n",
    "#create df\n",
    "df_a = json_normalize(agg)\n",
    "#display(df_a)\n",
    "if df_a.shape[0]>0:\n",
    "    df_a = df_a.drop(\"doc_count\", 1)\n",
    "\n",
    "    #LIMIT_JOBS = 5 #for testing\n",
    "    #df_a = df_a[df_a[\"corecount_sum.value\"] > LIMIT_JOBS]\n",
    "    #display(df_a)\n",
    "\n",
    "    df_a.columns = ['jobs', 'user']\n",
    "    print(df_a.to_string())"
   ]
  },
  {
   "cell_type": "code",
   "execution_count": 88,
   "metadata": {},
   "outputs": [
    {
     "name": "stdout",
     "output_type": "stream",
     "text": [
      "No Alarm\n"
     ]
    }
   ],
   "source": [
    "if df_a.shape[0]>0:\n",
    "    print('here')\n",
    "    test_name='Top Analysis users [Retrial attempts]'\n",
    "    for u in S.get_immediate_subscribers(test_name):\n",
    "        body = 'Dear ' + u.name+',\\n\\n'\n",
    "        body += 'the following users have jobs with more than 70 retrials in the last 24 hours:\\n\\n'\n",
    "        body += df_a.to_string() + '\\n'\n",
    "        body += '\\n To get more information about what each user is doing, please visit:\\n'\n",
    "        for i in df_a['user'].iteritems():\n",
    "            body += 'https://bigpanda.cern.ch/tasks/?username='+str(i[1])+'\\n'\n",
    "        body += '\\n If deemed necessary, please contact the user to ask what he/she is doing:\\n'  \n",
    "        body += '\\nhttps://its.cern.ch/jira/browse/ADCDPA-1'\n",
    "        body += '\\n To change your alerts preferences please use the following link:\\n'+u.link\n",
    "        body += '\\n\\nBest regards,\\nATLAS Alarm & Alert Service'\n",
    "        A.sendMail(test_name, u.email, body)\n",
    "        #print(body)\n",
    "        A.addAlert(test_name, u.name, str(df_a.shape[0])+' users with jobs with large retrial attempts.')\n",
    "else:\n",
    "    print('No Alarm')  "
   ]
  },
  {
   "cell_type": "code",
   "execution_count": null,
   "metadata": {
    "collapsed": true
   },
   "outputs": [],
   "source": []
  }
 ],
 "metadata": {
  "kernelspec": {
   "display_name": "Python 3",
   "language": "python",
   "name": "python3"
  },
  "language_info": {
   "codemirror_mode": {
    "name": "ipython",
    "version": 3
   },
   "file_extension": ".py",
   "mimetype": "text/x-python",
   "name": "python",
   "nbconvert_exporter": "python",
   "pygments_lexer": "ipython3",
   "version": "3.4.5"
  }
 },
 "nbformat": 4,
 "nbformat_minor": 1
}
