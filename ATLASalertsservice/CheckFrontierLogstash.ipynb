{
 "cells": [
  {
   "cell_type": "markdown",
   "metadata": {},
   "source": [
    "Checks operation of logstash instances (TEST)\n",
    "====\n",
    "This notebook checks if the logstash instances are processing events in real time. If that's not the case, there will be a delay resulting in no records for a given recent period of time."
   ]
  },
  {
   "cell_type": "code",
   "execution_count": 72,
   "metadata": {
    "collapsed": true
   },
   "outputs": [],
   "source": [
    "from subscribers import subscribers\n",
    "import alerts\n",
    "import es_query\n",
    "\n",
    "import datetime\n",
    "import re\n",
    "import json\n",
    "import sys\n",
    "from elasticsearch import Elasticsearch, exceptions as es_exceptions\n",
    "from elasticsearch.helpers import scan"
   ]
  },
  {
   "cell_type": "markdown",
   "metadata": {},
   "source": [
    "### Variables for this script\n",
    "1. Period being checked (**nhours**)\n",
    "2. Period to get the potentially working logstash instances (**nhoursall**)"
   ]
  },
  {
   "cell_type": "code",
   "execution_count": 73,
   "metadata": {
    "collapsed": true
   },
   "outputs": [],
   "source": [
    "# Period to submit alarm if no records found (from now backwards)\n",
    "nhours=1\n",
    "# Period to get all previously running server instances (from now backwards)\n",
    "nhoursall=3"
   ]
  },
  {
   "cell_type": "markdown",
   "metadata": {},
   "source": [
    "### Get current and starting time for the check\n",
    "The frontier index of the current year and month is being used"
   ]
  },
  {
   "cell_type": "code",
   "execution_count": 74,
   "metadata": {},
   "outputs": [
    {
     "name": "stdout",
     "output_type": "stream",
     "text": [
      "frontier-2017-10\n",
      "start time 20171010T121110.940Z\n",
      "current time 20171010T151110.940Z\n"
     ]
    }
   ],
   "source": [
    "# Get current UTC time (as set in timestamp on ES DB)\n",
    "# In order to subtract the time difference we need ct to be a datetime object\n",
    "ct = datetime.datetime.utcnow()\n",
    "ind = 'frontier-%d-%02d' % (ct.year, ct.month)\n",
    "print(ind)\n",
    "curtime = ct.strftime('%Y%m%dT%H%M%S.%f')[:-3]+'Z'\n",
    "\n",
    "td = datetime.timedelta(hours=nhoursall)\n",
    "st = ct - td\n",
    "starttime = st.strftime('%Y%m%dT%H%M%S.%f')[:-3]+'Z'\n",
    "\n",
    "print('start time', starttime)\n",
    "print('current time',curtime)"
   ]
  },
  {
   "cell_type": "markdown",
   "metadata": {},
   "source": [
    "### Set the query to get potentially running logstash instances (one per server)\n",
    "This period is establish as **nhoursall** since the current time\n",
    "\n",
    "(Avoid the still existing records for the metrics)"
   ]
  },
  {
   "cell_type": "code",
   "execution_count": 75,
   "metadata": {
    "collapsed": true,
    "scrolled": true
   },
   "outputs": [],
   "source": [
    "es = Elasticsearch(hosts=[{'host':'atlas-kibana.mwt2.org', 'port':9200}],timeout=60)\n",
    "\n",
    "myquery = es_query.es_query()\n",
    "querytxt = myquery.setquery('NOT tags:metric',starttime,curtime)\n",
    "\n",
    "res_page = es.search(index='frontier-*', body=querytxt, request_timeout=600, scroll='2m')"
   ]
  },
  {
   "cell_type": "markdown",
   "metadata": {},
   "source": [
    "### First run for 10000 events (default) \n",
    "* Get frontier servers and timestamp of latest recorded entry from first search\n"
   ]
  },
  {
   "cell_type": "code",
   "execution_count": 76,
   "metadata": {},
   "outputs": [
    {
     "name": "stdout",
     "output_type": "stream",
     "text": [
      "2017-10-10T12:11:47.080Z\n",
      "{'aiatlas037.cern.ch': datetime.datetime(2017, 10, 10, 12, 28, 59, 943000), 'aiatlas038.cern.ch': datetime.datetime(2017, 10, 10, 12, 29, 1, 113000), 'frontier-atlas1.lcg.triumf.ca': datetime.datetime(2017, 10, 10, 12, 29, 6, 313000), 'frontier-atlas3.lcg.triumf.ca': datetime.datetime(2017, 10, 10, 12, 28, 59, 110000), 'aiatlas073.cern.ch': datetime.datetime(2017, 10, 10, 12, 29, 2, 987000), 'ccosvms0014': datetime.datetime(2017, 10, 10, 12, 29, 5, 275000), 'frontier-atlas2.lcg.triumf.ca': datetime.datetime(2017, 10, 10, 12, 28, 58, 507000), 'aiatlas149.cern.ch': datetime.datetime(2017, 10, 10, 12, 29, 5, 172000), 'aiatlas034.cern.ch': datetime.datetime(2017, 10, 10, 12, 24, 32, 819000)}\n"
     ]
    }
   ],
   "source": [
    "ifrontiersrvr = {}\n",
    "\n",
    "print (res_page['hits']['hits'][0]['_source']['@timestamp'])\n",
    "timestmp = res_page['hits']['hits'][0]['_source']['@timestamp'] \n",
    "tstmp = datetime.datetime.strptime(timestmp,('%Y-%m-%dT%H:%M:%S.%f'+'Z'))\n",
    "\n",
    "for i in range(len(res_page['hits']['hits'])):\n",
    "   frontier = str(res_page['hits']['hits'][i]['_source']['frontierserver'])\n",
    "   timestmp = res_page['hits']['hits'][i]['_source']['@timestamp'] \n",
    "   tstmp = datetime.datetime.strptime(timestmp,('%Y-%m-%dT%H:%M:%S.%f'+'Z'))\n",
    "   if frontier not in ifrontiersrvr.keys() or tstmp > ifrontiersrvr[frontier]:\n",
    "     ifrontiersrvr[frontier] = tstmp\n",
    "\n",
    "print (ifrontiersrvr)"
   ]
  },
  {
   "cell_type": "markdown",
   "metadata": {},
   "source": [
    "* Second search without those servers already found to limit the number of records"
   ]
  },
  {
   "cell_type": "code",
   "execution_count": 78,
   "metadata": {},
   "outputs": [
    {
     "name": "stdout",
     "output_type": "stream",
     "text": [
      "88015\n",
      "Scrolling...\n",
      "scroll size:  10000\n",
      "Scrolling...\n",
      "scroll size:  10000\n",
      "Scrolling...\n",
      "scroll size:  10000\n",
      "Scrolling...\n",
      "scroll size:  10000\n",
      "Scrolling...\n",
      "scroll size:  10000\n",
      "Scrolling...\n",
      "scroll size:  10000\n",
      "Scrolling...\n",
      "scroll size:  10000\n",
      "Scrolling...\n",
      "scroll size:  8015\n",
      "Scrolling...\n",
      "scroll size:  0\n",
      "{'aiatlas037.cern.ch': datetime.datetime(2017, 10, 10, 12, 28, 59, 943000), 'aiatlas038.cern.ch': datetime.datetime(2017, 10, 10, 12, 29, 1, 113000), 'frontier-atlas1.lcg.triumf.ca': datetime.datetime(2017, 10, 10, 12, 29, 6, 313000), 'frontier-atlas3.lcg.triumf.ca': datetime.datetime(2017, 10, 10, 12, 28, 59, 110000), 'aiatlas073.cern.ch': datetime.datetime(2017, 10, 10, 12, 29, 2, 987000), 'ccosvms0014': datetime.datetime(2017, 10, 10, 12, 29, 5, 275000), 'frontier-atlas2.lcg.triumf.ca': datetime.datetime(2017, 10, 10, 12, 28, 58, 507000), 'aiatlas149.cern.ch': datetime.datetime(2017, 10, 10, 12, 29, 5, 172000), 'aiatlas148.cern.ch': datetime.datetime(2017, 10, 10, 15, 11, 2, 936000), 'aiatlas034.cern.ch': datetime.datetime(2017, 10, 10, 15, 5, 3, 275000)}\n"
     ]
    }
   ],
   "source": [
    "searchtxt = 'NOT tags:metric'\n",
    "for frontier in frontiersrvr:\n",
    "   searchtxt += ' AND NOT frontierserver:'+'\"'+str(frontier)+'\"'\n",
    "\n",
    "querytxt = myquery.setquery(searchtxt,starttime,curtime)\n",
    "\n",
    "res_page = es.search(index='frontier-*', body=querytxt, request_timeout=600, scroll='2m')\n",
    "\n",
    "sid = res_page['_scroll_id']\n",
    "res_total = res_page['hits']['total']\n",
    "print(res_total)\n",
    "scroll_size=res_page['hits']['total']\n",
    "\n",
    "for i in range(len(res_page['hits']['hits'])):\n",
    "   frontier = str(res_page['hits']['hits'][i]['_source']['frontierserver'])\n",
    "   timestmp = res_page['hits']['hits'][i]['_source']['@timestamp'] \n",
    "   tstmp = datetime.datetime.strptime(timestmp,('%Y-%m-%dT%H:%M:%S.%f'+'Z'))\n",
    "   if frontier not in frontiersrvr.keys() or tstmp > ifrontiersrvr[frontier]:\n",
    "      ifrontiersrvr[frontier] = tstmp\n",
    "\n",
    "# Start scrolling\n",
    "while (scroll_size > 0):\n",
    "  print(\"Scrolling...\")\n",
    "  res_page = es.scroll(scroll_id = sid, scroll = '2m')\n",
    "  # Update the scroll ID\n",
    "  sid = res_page['_scroll_id']\n",
    "  # Get the number of results that we returned in the last scroll\n",
    "  scroll_size = len(res_page['hits']['hits'])\n",
    "  print(\"scroll size: \", str(scroll_size))\n",
    "  # Do something with the obtained page\n",
    "\n",
    "  for i in range(len(res_page['hits']['hits'])):\n",
    "     frontier = str(res_page['hits']['hits'][i]['_source']['frontierserver'])\n",
    "     timestmp = res_page['hits']['hits'][i]['_source']['@timestamp'] \n",
    "     tstmp = datetime.datetime.strptime(timestmp,('%Y-%m-%dT%H:%M:%S.%f'+'Z'))\n",
    "     if frontier not in frontiersrvr.keys() or tstmp > ifrontiersrvr[frontier]:\n",
    "        ifrontiersrvr[frontier] = tstmp\n",
    "\n",
    "print(ifrontiersrvr)\n"
   ]
  },
  {
   "cell_type": "markdown",
   "metadata": {},
   "source": [
    "### Check if timestamp of last record is within the checking period\n",
    "Cheking which logstash instances are still alive in the last period of **nhours** hours"
   ]
  },
  {
   "cell_type": "code",
   "execution_count": 79,
   "metadata": {},
   "outputs": [
    {
     "name": "stdout",
     "output_type": "stream",
     "text": [
      "8 {'aiatlas037.cern.ch': datetime.datetime(2017, 10, 10, 12, 28, 59, 943000), 'aiatlas038.cern.ch': datetime.datetime(2017, 10, 10, 12, 29, 1, 113000), 'frontier-atlas1.lcg.triumf.ca': datetime.datetime(2017, 10, 10, 12, 29, 6, 313000), 'frontier-atlas3.lcg.triumf.ca': datetime.datetime(2017, 10, 10, 12, 28, 59, 110000), 'aiatlas073.cern.ch': datetime.datetime(2017, 10, 10, 12, 29, 2, 987000), 'ccosvms0014': datetime.datetime(2017, 10, 10, 12, 29, 5, 275000), 'frontier-atlas2.lcg.triumf.ca': datetime.datetime(2017, 10, 10, 12, 28, 58, 507000), 'aiatlas149.cern.ch': datetime.datetime(2017, 10, 10, 12, 29, 5, 172000)}\n"
     ]
    }
   ],
   "source": [
    "td = datetime.timedelta(hours=nhours)\n",
    "st = ct - td\n",
    "\n",
    "ffrontiersrvr={}\n",
    "\n",
    "for frontier in ifrontiersrvr.keys():\n",
    "   if ifrontiersrvr[frontier] < st:\n",
    "      ffrontiersrvr[frontier] = ifrontiersrvr[frontier]\n",
    "\n",
    "print (len(ffrontiersrvr), ffrontiersrvr)"
   ]
  },
  {
   "cell_type": "code",
   "execution_count": null,
   "metadata": {
    "collapsed": true
   },
   "outputs": [],
   "source": []
  },
  {
   "cell_type": "code",
   "execution_count": null,
   "metadata": {
    "collapsed": true
   },
   "outputs": [],
   "source": [
    "if res_page['hits']['total'] > 0:\n",
    "    S = subscribers()\n",
    "    A = alerts.alerts()\n",
    "\n",
    "    test_name = 'Long queries'\n",
    "    users =  S.get_immediate_subscribers(test_name)\n",
    "    for user in users:\n",
    "        body = 'Dear ' + user.name +',\\n\\n'\n",
    "        body += '\\tthis mail is to let you know that the number of simultaneous threads went beyond '\n",
    "        body += str(threadlimit) + ' on some servers \\n\\n' \n",
    "        for fkey in frontiersrvr:\n",
    "          body += fkey\n",
    "          body += ' : '\n",
    "          body += str(frontiersrvr[fkey])\n",
    "          body += '\\n'\n",
    "        body += '\\nBest regards,\\nATLAS AAS'\n",
    "        body += '\\n\\n To change your alerts preferences please you the following link:\\n' + user.link\n",
    "        A.sendMail(test_name, user.email, body)\n",
    "##        A.addAlert(test_name, user.name, str(res_page))"
   ]
  },
  {
   "cell_type": "code",
   "execution_count": null,
   "metadata": {
    "collapsed": true
   },
   "outputs": [],
   "source": []
  }
 ],
 "metadata": {
  "kernelspec": {
   "display_name": "Python 3",
   "language": "python",
   "name": "python3"
  },
  "language_info": {
   "codemirror_mode": {
    "name": "ipython",
    "version": 3
   },
   "file_extension": ".py",
   "mimetype": "text/x-python",
   "name": "python",
   "nbconvert_exporter": "python",
   "pygments_lexer": "ipython3",
   "version": "3.4.5"
  }
 },
 "nbformat": 4,
 "nbformat_minor": 1
}
