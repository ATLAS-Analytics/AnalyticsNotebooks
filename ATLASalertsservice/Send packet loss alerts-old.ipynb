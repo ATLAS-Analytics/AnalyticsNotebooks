{
 "cells": [
  {
   "cell_type": "markdown",
   "metadata": {},
   "source": [
    "# Send alert emails about packet loss based on alarms and user subscribing"
   ]
  },
  {
   "cell_type": "markdown",
   "metadata": {},
   "source": [
    "This notebook is run by a cron job every hour, and its purpose is to send alert emails about packet loss for user specified site(s) based on alarms and user subscribing records. \n",
    "\n",
    "This notebook works following this procedure: \n",
    "\n",
    "(1) Get all the alarms of type packetloss for the past hour (call it NEW) and past past hour (call it OLD) from Elasticsearch\n",
    "\n",
    "(2) Get the user subscribing records from Google Sheets calling APIs in subscribers.py\n",
    "\n",
    "(3) Process the alarms data and subscribing data to make them easier to use for this monitoring task\n",
    "\n",
    "(4) TN_old means total number of alarmed links involving a specific site ip (no matter from it or to it) for OLD time period\n",
    "\n",
    "(5) TN_new means total number of alarmed links involving a specific site ip (no matter from it or to it) for NEW time period\n",
    "\n",
    "(6) TN_delta means the change of value from TN_old to TN_new. We need to compare TN_delta v.s. +N and v.s. -N (tune N later)\n",
    "\n",
    "(7) If a site ip never occurs in NEW and OLD, then it must be totally fine, and we do not care about it at all (TN_old == TN_new == TN_delta == 0)\n",
    "\n",
    "(8) If a site ip occurs in NEW or OLD or both, then we may have TN_delta > 0 or == 0 or < 0 for this site ip, so we want to take a closer look at this site ip, so we do (9) (10) (11)\n",
    "\n",
    "(9) If TN_delta >= +N, then overall the links connected to this site are becoming worse, so we send email\n",
    "\n",
    "(10) If TN_delta <= -N, then overall the links connected to this site are becoming better, so we send email\n",
    "\n",
    "(11) Otherwise, the overall status for this site is not changing or just changing slightly, so we do not send email\n",
    "\n",
    "(12) In order to send email, we need a dictionary whose key is site ip and value is a list of relevant user emails\n",
    "\n"
   ]
  },
  {
   "cell_type": "markdown",
   "metadata": {},
   "source": [
    "## Import necessary packages and classes"
   ]
  },
  {
   "cell_type": "code",
   "execution_count": 1,
   "metadata": {
    "collapsed": true
   },
   "outputs": [],
   "source": [
    "# Retrieve user subscribing records from google sheets.\n",
    "import subscribers, alerts\n",
    "\n",
    "S = subscribers.subscribers()\n",
    "A = alerts.alerts()\n",
    "\n",
    "# Related to Elasticsearch queries\n",
    "from elasticsearch import Elasticsearch, exceptions as es_exceptions, helpers\n",
    "import datetime\n",
    "\n",
    "# Regular Expression\n",
    "import re"
   ]
  },
  {
   "cell_type": "markdown",
   "metadata": {},
   "source": [
    "## Establish Elasticsearch connection"
   ]
  },
  {
   "cell_type": "code",
   "execution_count": 2,
   "metadata": {
    "collapsed": true
   },
   "outputs": [],
   "source": [
    "es = Elasticsearch(hosts=[{'host':'atlas-kibana.mwt2.org', 'port':9200}],timeout=60)"
   ]
  },
  {
   "cell_type": "markdown",
   "metadata": {},
   "source": [
    "## List all alarms-yyyy.mm indices"
   ]
  },
  {
   "cell_type": "code",
   "execution_count": 3,
   "metadata": {
    "collapsed": false
   },
   "outputs": [
    {
     "name": "stdout",
     "output_type": "stream",
     "text": [
      "['alarms-2017-03', 'alarms-2016-12', 'alarms-2017-01', 'alarms-2017-02', 'alarms-2016-08', 'alarms-2016-10', 'alarms-2016-09', 'alarms-2016-11', 'alarms-2017-04']\n"
     ]
    }
   ],
   "source": [
    "indices = es.cat.indices(index=\"alarms-*\", h=\"index\", request_timeout=600).split('\\n')\n",
    "indices = [x for x in indices if x != '']\n",
    "indices = [x.strip() for x in indices]\n",
    "print(indices)"
   ]
  },
  {
   "cell_type": "markdown",
   "metadata": {},
   "source": [
    "## Find indices to be used"
   ]
  },
  {
   "cell_type": "code",
   "execution_count": 4,
   "metadata": {
    "collapsed": false
   },
   "outputs": [
    {
     "name": "stdout",
     "output_type": "stream",
     "text": [
      "checking for indices: alarms-2017-04 alarms-2017-04\n",
      "will use indices: ['alarms-2017-04']\n"
     ]
    }
   ],
   "source": [
    "cday = datetime.datetime.utcnow()\n",
    "pday = cday - datetime.timedelta(days=1)\n",
    "ind1 = 'alarms-%d-%02d' % (cday.year, cday.month)\n",
    "ind2 = 'alarms-%d-%02d' % (pday.year, pday.month)\n",
    "\n",
    "print('checking for indices:', ind1, ind2)\n",
    "\n",
    "ind=[]\n",
    "if ind1 in indices:\n",
    "    ind.append(ind1)\n",
    "if ind2 != ind1 and ind2 in indices and cday.hour<3:   # not necessarily 3, just indicate it is the beginning period of new day\n",
    "    ind.append(ind2)\n",
    "\n",
    "if len(ind)==0:\n",
    "    print('no current indices found. Aborting.')\n",
    "    exit\n",
    "else:\n",
    "    print('will use indices:', ind)"
   ]
  },
  {
   "cell_type": "markdown",
   "metadata": {},
   "source": [
    "## Queries to find all the alarms of type Packet Loss for the past hour and past past hour"
   ]
  },
  {
   "cell_type": "code",
   "execution_count": 5,
   "metadata": {
    "collapsed": false
   },
   "outputs": [
    {
     "name": "stdout",
     "output_type": "stream",
     "text": [
      "{'query': {'bool': {'filter': {'range': {'alarmTime': {'gt': 'now-3h'}}}, 'must': [{'term': {'_type': 'packetloss'}}]}}, 'size': 1000}\n",
      "{'query': {'bool': {'filter': {'range': {'alarmTime': {'gt': 'now-6h', 'lt': 'now-3h'}}}, 'must': [{'term': {'_type': 'packetloss'}}]}}, 'size': 1000}\n"
     ]
    }
   ],
   "source": [
    "query_new = {\n",
    "    \"size\": 1000,\n",
    "    \"query\": {\n",
    "        \"bool\": {\n",
    "            \"must\": [\n",
    "                {\"term\": { \"_type\": \"packetloss\" }}\n",
    "            ],\n",
    "            \"filter\": {\n",
    "                \"range\": {\n",
    "                    \"alarmTime\": {\n",
    "                        \"gt\": \"now-3h\"\n",
    "                    }\n",
    "                }\n",
    "            }\n",
    "        }\n",
    "    }\n",
    "}\n",
    "# +SPM Changed time queries 20-Apr-2017:  New is last 3 hours now, and Old is the previous 3 hours before that.\n",
    "query_old = {\n",
    "    \"size\": 1000,\n",
    "    \"query\": {\n",
    "        \"bool\": {\n",
    "            \"must\": [\n",
    "                {\"term\": { \"_type\": \"packetloss\" }}\n",
    "            ],\n",
    "            \"filter\": {\n",
    "                \"range\": {\n",
    "                    \"alarmTime\": {\n",
    "                        \"gt\": \"now-6h\",\n",
    "                        \"lt\": \"now-3h\"\n",
    "                    }\n",
    "                }\n",
    "            }\n",
    "        }\n",
    "    }\n",
    "}\n",
    "\n",
    "print(query_new)\n",
    "print(query_old)"
   ]
  },
  {
   "cell_type": "markdown",
   "metadata": {},
   "source": [
    "## Execute the query"
   ]
  },
  {
   "cell_type": "code",
   "execution_count": 6,
   "metadata": {
    "collapsed": false
   },
   "outputs": [
    {
     "name": "stdout",
     "output_type": "stream",
     "text": [
      "Number of hits of new alarms: 111\n",
      "Number of hits of old alarms: 122\n"
     ]
    }
   ],
   "source": [
    "result_new = es.search(index=ind, body=query_new, request_timeout=120)\n",
    "print('Number of hits of new alarms:', result_new['hits']['total'] )\n",
    "\n",
    "result_old = es.search(index=ind, body=query_old, request_timeout=120)\n",
    "print('Number of hits of old alarms:', result_old['hits']['total'] )\n",
    "\n",
    "hits_new = result_new['hits']['hits']\n",
    "hits_old = result_old['hits']['hits']"
   ]
  },
  {
   "cell_type": "markdown",
   "metadata": {},
   "source": [
    "## Generate the two dictionaries for sites, one is from ip to name, one is from name to ip"
   ]
  },
  {
   "cell_type": "code",
   "execution_count": 7,
   "metadata": {
    "collapsed": false,
    "scrolled": true
   },
   "outputs": [
    {
     "name": "stdout",
     "output_type": "stream",
     "text": [
      "{'195.194.105.178': 'UKI-NORTHGRID-MAN-HEP', '202.122.32.170': 'BEIJING-LCG2', '194.80.35.169': 'UKI-NORTHGRID-LANCS-HEP', '193.109.172.188': 'pic', '130.246.176.109': 'RAL-LCG2', '206.12.9.2': 'TRIUMF-LCG2', '141.34.200.28': 'DESY-ZN', '134.158.159.85': 'GRIF', '150.244.246.85': 'UAM-LCG2', '149.165.225.223': 'MWT2', '138.253.60.82': 'UKI-NORTHGRID-LIV-HEP', '130.209.239.124': 'UKI-SCOTGRID-GLASGOW', '131.154.254.12': 'INFN-T1', '163.1.5.210': 'UKI-SOUTHGRID-OX-HEP', '81.180.86.38': 'RO-02-NIPNE', '148.187.64.25': 'CSCS-LCG2', '146.83.90.7': 'EELA-UTFSM', '193.48.99.76': 'IN2P3-CC', '193.239.180.211': 'UnknownSite', '129.93.5.165': 'Nebraska', '142.150.19.61': 'CA-SCINET-T2', '194.85.69.75': 'ITEP', '130.246.47.129': 'UKI-SOUTHGRID-RALPP', '143.167.3.116': 'UKI-NORTHGRID-SHEF-HEP', '141.108.35.18': 'INFN-ROMA1', '134.158.150.245': 'IN2P3-IRES', '192.114.101.125': 'TECHNION-HEP', '147.156.116.40': 'IFIC-LCG2', '192.170.227.160': 'MWT2', '193.206.93.45': 'UnknownSite', '158.195.14.26': 'FMPhI-UNIBA', '131.111.66.196': 'UKI-SOUTHGRID-CAM-HEP', '193.48.83.165': 'IN2P3-LPSC', '81.180.86.64': 'RO-07-NIPNE', '145.100.17.8': 'SARA-MATRIX', '193.136.75.146': 'NCG-INGRID-PT', '194.190.165.192': 'RU-Protvino-IHEP', '62.40.126.129': 'UnknownSite', '192.54.207.250': 'GRIF', '192.108.47.12': 'FZK-LCG2', '64.57.30.149': 'UnknownSite', '194.36.11.38': 'UKI-LT2-QMUL', '193.170.243.215': 'Hephy-Vienna', '85.122.31.74': 'RO-16-UAIC', '131.169.98.30': 'DESY-HH', '134.158.20.192': 'IN2P3-CPPM', '192.231.127.41': 'Australia-ATLAS', '134.219.225.13': 'UKI-LT2-RHUL', '144.206.236.189': 'RRC-KI-T1', '128.227.221.44': 'UFlorida-HPC', '134.158.132.200': 'GRIF', '132.230.202.235': 'UNI-FREIBURG', '134.158.123.183': 'IN2P3-LPC', '206.12.24.251': 'SFU-LCG2', '64.57.30.143': 'UnknownSite', '134.158.103.10': 'IN2P3-LAPP', '144.206.237.142': 'RRC-KI', '134.158.73.243': 'GRIF', '147.231.25.192': 'praguelcg2', '206.12.154.60': 'CA-VICTORIA-WESTGRID-T2'}\n"
     ]
    }
   ],
   "source": [
    "site_ip_name = {}\n",
    "\n",
    "for hit in hits_new:\n",
    "    info = hit['_source']\n",
    "    site_ip_name[info['src']] = info['srcSite']\n",
    "    site_ip_name[info['dest']] = info['destSite']\n",
    "\n",
    "for hit in hits_old:\n",
    "    info = hit['_source']\n",
    "    site_ip_name[info['src']] = info['srcSite']\n",
    "    site_ip_name[info['dest']] = info['destSite']\n",
    "\n",
    "print(site_ip_name)"
   ]
  },
  {
   "cell_type": "code",
   "execution_count": 8,
   "metadata": {
    "collapsed": false,
    "scrolled": true
   },
   "outputs": [
    {
     "name": "stdout",
     "output_type": "stream",
     "text": [
      "{'IN2P3-IRES': ['134.158.150.245'], 'UKI-NORTHGRID-MAN-HEP': ['195.194.105.178'], 'UKI-LT2-RHUL': ['134.219.225.13'], 'UKI-SOUTHGRID-OX-HEP': ['163.1.5.210'], 'BEIJING-LCG2': ['202.122.32.170'], 'RAL-LCG2': ['130.246.176.109'], 'RRC-KI': ['144.206.237.142'], 'INFN-ROMA1': ['141.108.35.18'], 'RU-Protvino-IHEP': ['194.190.165.192'], 'praguelcg2': ['147.231.25.192'], 'FZK-LCG2': ['192.108.47.12'], 'UKI-NORTHGRID-LIV-HEP': ['138.253.60.82'], 'RRC-KI-T1': ['144.206.236.189'], 'RO-02-NIPNE': ['81.180.86.38'], 'CSCS-LCG2': ['148.187.64.25'], 'UKI-SCOTGRID-GLASGOW': ['130.209.239.124'], 'UnknownSite': ['193.239.180.211', '193.206.93.45', '62.40.126.129', '64.57.30.149', '64.57.30.143'], 'IN2P3-LPSC': ['193.48.83.165'], 'DESY-ZN': ['141.34.200.28'], 'CA-SCINET-T2': ['142.150.19.61'], 'Nebraska': ['129.93.5.165'], 'UKI-SOUTHGRID-CAM-HEP': ['131.111.66.196'], 'pic': ['193.109.172.188'], 'GRIF': ['134.158.159.85', '192.54.207.250', '134.158.132.200', '134.158.73.243'], 'TRIUMF-LCG2': ['206.12.9.2'], 'IN2P3-LAPP': ['134.158.103.10'], 'UKI-NORTHGRID-LANCS-HEP': ['194.80.35.169'], 'DESY-HH': ['131.169.98.30'], 'MWT2': ['149.165.225.223', '192.170.227.160'], 'FMPhI-UNIBA': ['158.195.14.26'], 'CA-VICTORIA-WESTGRID-T2': ['206.12.154.60'], 'EELA-UTFSM': ['146.83.90.7'], 'RO-16-UAIC': ['85.122.31.74'], 'UNI-FREIBURG': ['132.230.202.235'], 'IFIC-LCG2': ['147.156.116.40'], 'SARA-MATRIX': ['145.100.17.8'], 'IN2P3-LPC': ['134.158.123.183'], 'UKI-LT2-QMUL': ['194.36.11.38'], 'Hephy-Vienna': ['193.170.243.215'], 'RO-07-NIPNE': ['81.180.86.64'], 'INFN-T1': ['131.154.254.12'], 'NCG-INGRID-PT': ['193.136.75.146'], 'UKI-SOUTHGRID-RALPP': ['130.246.47.129'], 'SFU-LCG2': ['206.12.24.251'], 'Australia-ATLAS': ['192.231.127.41'], 'TECHNION-HEP': ['192.114.101.125'], 'UKI-NORTHGRID-SHEF-HEP': ['143.167.3.116'], 'IN2P3-CC': ['193.48.99.76'], 'UAM-LCG2': ['150.244.246.85'], 'ITEP': ['194.85.69.75'], 'IN2P3-CPPM': ['134.158.20.192'], 'UFlorida-HPC': ['128.227.221.44']}\n"
     ]
    }
   ],
   "source": [
    "site_name_ip = {}\n",
    "\n",
    "for ip in site_ip_name:\n",
    "    name = site_ip_name[ip]\n",
    "    if name in site_name_ip:\n",
    "        site_name_ip[name].append(ip)\n",
    "    else:\n",
    "        site_name_ip[name] = [ip]\n",
    "\n",
    "print(site_name_ip)"
   ]
  },
  {
   "cell_type": "markdown",
   "metadata": {},
   "source": [
    "## Calculate TN_old, the total number of alarmed links involving a specific site ip (either as source site or as destination site) for the OLD time period"
   ]
  },
  {
   "cell_type": "code",
   "execution_count": 9,
   "metadata": {
    "collapsed": false,
    "scrolled": true
   },
   "outputs": [],
   "source": [
    "TN_old = {}\n",
    "\n",
    "def TN_old_add_one(ip):\n",
    "    if ip in TN_old:\n",
    "        TN_old[ip] += 1\n",
    "    else:\n",
    "        TN_old[ip] = 1\n",
    "\n",
    "for alarm in hits_old:\n",
    "    TN_old_add_one(alarm['_source']['src'])\n",
    "    TN_old_add_one(alarm['_source']['dest'])\n",
    "\n",
    "#TN_old"
   ]
  },
  {
   "cell_type": "markdown",
   "metadata": {},
   "source": [
    "## Calculate TN_new, the total number of alarmed links involving a specific site ip (either as source site or as destination site) for the NEW time period"
   ]
  },
  {
   "cell_type": "code",
   "execution_count": 10,
   "metadata": {
    "collapsed": false,
    "scrolled": true
   },
   "outputs": [],
   "source": [
    "TN_new = {}\n",
    "\n",
    "def TN_new_add_one(ip):\n",
    "    if ip in TN_new:\n",
    "        TN_new[ip] += 1\n",
    "    else:\n",
    "        TN_new[ip] = 1\n",
    "\n",
    "for alarm in hits_new:\n",
    "    TN_new_add_one(alarm['_source']['src'])\n",
    "    TN_new_add_one(alarm['_source']['dest'])\n",
    "\n",
    "#TN_new"
   ]
  },
  {
   "cell_type": "markdown",
   "metadata": {},
   "source": [
    "## Calculate TN_delta, which is equal to ( TN_new - TN_old )"
   ]
  },
  {
   "cell_type": "code",
   "execution_count": 11,
   "metadata": {
    "collapsed": false,
    "scrolled": true
   },
   "outputs": [
    {
     "data": {
      "text/plain": [
       "{'128.227.221.44': -3,\n",
       " '129.93.5.165': 0,\n",
       " '130.209.239.124': 0,\n",
       " '130.246.176.109': 0,\n",
       " '130.246.47.129': 0,\n",
       " '131.111.66.196': 0,\n",
       " '131.154.254.12': 0,\n",
       " '131.169.98.30': -1,\n",
       " '132.230.202.235': 0,\n",
       " '134.158.103.10': -1,\n",
       " '134.158.123.183': 0,\n",
       " '134.158.132.200': -2,\n",
       " '134.158.150.245': 0,\n",
       " '134.158.159.85': -2,\n",
       " '134.158.20.192': 0,\n",
       " '134.158.73.243': -2,\n",
       " '134.219.225.13': 0,\n",
       " '138.253.60.82': 0,\n",
       " '141.108.35.18': 0,\n",
       " '141.34.200.28': 0,\n",
       " '142.150.19.61': 0,\n",
       " '143.167.3.116': 0,\n",
       " '144.206.236.189': 0,\n",
       " '144.206.237.142': 0,\n",
       " '145.100.17.8': 0,\n",
       " '146.83.90.7': 0,\n",
       " '147.156.116.40': 0,\n",
       " '147.231.25.192': 0,\n",
       " '148.187.64.25': 0,\n",
       " '149.165.225.223': -2,\n",
       " '150.244.246.85': 0,\n",
       " '158.195.14.26': 0,\n",
       " '163.1.5.210': 0,\n",
       " '192.108.47.12': -1,\n",
       " '192.114.101.125': 0,\n",
       " '192.170.227.160': -2,\n",
       " '192.231.127.41': 0,\n",
       " '192.54.207.250': 0,\n",
       " '193.109.172.188': 0,\n",
       " '193.136.75.146': 0,\n",
       " '193.170.243.215': 0,\n",
       " '193.206.93.45': 0,\n",
       " '193.239.180.211': -2,\n",
       " '193.48.83.165': 0,\n",
       " '193.48.99.76': 0,\n",
       " '194.190.165.192': 0,\n",
       " '194.36.11.38': 0,\n",
       " '194.80.35.169': 0,\n",
       " '194.85.69.75': 0,\n",
       " '195.194.105.178': 0,\n",
       " '202.122.32.170': 0,\n",
       " '206.12.154.60': 0,\n",
       " '206.12.24.251': 0,\n",
       " '206.12.9.2': 0,\n",
       " '62.40.126.129': 0,\n",
       " '64.57.30.143': -2,\n",
       " '64.57.30.149': -2,\n",
       " '81.180.86.38': 0,\n",
       " '81.180.86.64': 0,\n",
       " '85.122.31.74': 0}"
      ]
     },
     "execution_count": 11,
     "metadata": {},
     "output_type": "execute_result"
    }
   ],
   "source": [
    "TN_delta = {}\n",
    "\n",
    "for ip in TN_old:\n",
    "    if ip in TN_new:\n",
    "        TN_delta[ip] = TN_new[ip] - TN_old[ip]\n",
    "    else:\n",
    "        TN_delta[ip] = -TN_old[ip]\n",
    "\n",
    "for ip in TN_new:\n",
    "    if ip not in TN_old:\n",
    "        TN_delta[ip] = TN_new[ip]\n",
    "\n",
    "TN_delta"
   ]
  },
  {
   "cell_type": "markdown",
   "metadata": {},
   "source": [
    "## Look at the distribution of TN_delta, so that we can tune the parameter N"
   ]
  },
  {
   "cell_type": "code",
   "execution_count": 12,
   "metadata": {
    "collapsed": false
   },
   "outputs": [
    {
     "name": "stdout",
     "output_type": "stream",
     "text": [
      "N=0     links went bad=0     links went good=12     unchanged=48\n",
      "N=1     links went bad=0     links went good=9     unchanged=51\n",
      "N=2     links went bad=0     links went good=1     unchanged=59\n",
      "N=3     links went bad=0     links went good=0     unchanged=60\n",
      "N=4     links went bad=0     links went good=0     unchanged=60\n",
      "N=5     links went bad=0     links went good=0     unchanged=60\n",
      "N=6     links went bad=0     links went good=0     unchanged=60\n",
      "N=7     links went bad=0     links went good=0     unchanged=60\n",
      "N=8     links went bad=0     links went good=0     unchanged=60\n",
      "N=9     links went bad=0     links went good=0     unchanged=60\n"
     ]
    }
   ],
   "source": [
    "for N in range(10):\n",
    "    count_worse = 0\n",
    "    count_better = 0\n",
    "    count_stable = 0\n",
    "    for ip in TN_delta:\n",
    "        if TN_delta[ip] > N:\n",
    "            count_worse += 1\n",
    "        elif TN_delta[ip] < -N:\n",
    "            count_better += 1\n",
    "        else:\n",
    "            count_stable += 1\n",
    "    print('N=%d     links went bad=%d     links went good=%d     unchanged=%d' % (N, count_worse, count_better, count_stable))"
   ]
  },
  {
   "cell_type": "markdown",
   "metadata": {},
   "source": [
    "## Let's use N=5 for now, and we will tune later"
   ]
  },
  {
   "cell_type": "code",
   "execution_count": 13,
   "metadata": {
    "collapsed": false
   },
   "outputs": [
    {
     "name": "stdout",
     "output_type": "stream",
     "text": [
      "--- The ip of the site(s) which got worse:\n",
      "[]\n",
      "--- The ip of the site(s) which got better:\n",
      "[]\n"
     ]
    }
   ],
   "source": [
    "N = 5\n",
    "\n",
    "ip_list_worse = []\n",
    "ip_list_better = []\n",
    "\n",
    "for ip in TN_delta:\n",
    "    if TN_delta[ip] >= N:\n",
    "        ip_list_worse.append(ip)\n",
    "    elif TN_delta[ip] <= -N:\n",
    "        ip_list_better.append(ip)\n",
    "\n",
    "print('--- The ip of the site(s) which got worse:')\n",
    "print(ip_list_worse)\n",
    "print('--- The ip of the site(s) which got better:')\n",
    "print(ip_list_better)"
   ]
  },
  {
   "cell_type": "markdown",
   "metadata": {},
   "source": [
    "## Generate the dictionary: key = site name, value = a list of relevant user emails"
   ]
  },
  {
   "cell_type": "code",
   "execution_count": 14,
   "metadata": {
    "collapsed": false,
    "scrolled": true
   },
   "outputs": [],
   "source": [
    "user_interest_site_name = {}\n",
    "\n",
    "def reg_user_interest_site_name(sitename, email):\n",
    "    if sitename in user_interest_site_name:\n",
    "        user_interest_site_name[sitename].append(email)\n",
    "    else:\n",
    "        user_interest_site_name[sitename] = [email]\n",
    "\n",
    "testName = 'Packet loss increase for link(s) where your site is a source or destination'\n",
    "emailSubject = 'Significant change in the number of network paths with large packet loss where your subscribed site(s) are the source or destination'\n",
    "\n",
    "subscribe_records = S.getSubscribers_withSiteName(testName)\n",
    "\n",
    "# Handle blank answer, one site, several sites separated by comma, wildcard such as prefix* etc.\n",
    "for record in subscribe_records:\n",
    "    email = record[1]\n",
    "    sitenames = record[3].strip()\n",
    "    if len(sitenames) == 0:\n",
    "        sitenames = '.'  # Handle blank answer, so match all site names\n",
    "    sitenames = [x.strip().replace('*', '.') for x in sitenames.split(',')]  # Handle several site names, and wildcard\n",
    "    for sn in sitenames:\n",
    "        p = re.compile(sn, re.IGNORECASE)\n",
    "        for sitename in site_name_ip:\n",
    "            if p.match(sitename):\n",
    "                reg_user_interest_site_name(sitename, email)\n",
    "\n",
    "#user_interest_site_name"
   ]
  },
  {
   "cell_type": "markdown",
   "metadata": {},
   "source": [
    "## Generate the dictionary: key = site ip, value = a list of relevant user emails"
   ]
  },
  {
   "cell_type": "code",
   "execution_count": 15,
   "metadata": {
    "collapsed": false
   },
   "outputs": [],
   "source": [
    "user_interest_site_ip = {}\n",
    "\n",
    "def reg_user_interest_site_ip(siteip, email):\n",
    "    if siteip in user_interest_site_ip:\n",
    "        user_interest_site_ip[siteip].append(email)\n",
    "    else:\n",
    "        user_interest_site_ip[siteip] = [email]\n",
    "\n",
    "for sitename in user_interest_site_name:\n",
    "    for siteip in site_name_ip[sitename]:\n",
    "        for email in user_interest_site_name[sitename]:\n",
    "            reg_user_interest_site_ip(siteip, email)\n",
    "\n",
    "#print(user_interest_site_ip)"
   ]
  },
  {
   "cell_type": "markdown",
   "metadata": {},
   "source": [
    "## The variable user_alert_all holds all the needed info to send an email to a specific user"
   ]
  },
  {
   "cell_type": "code",
   "execution_count": 16,
   "metadata": {
    "collapsed": false
   },
   "outputs": [],
   "source": [
    "user_alert_all = S.getAllUserBasicInfo()\n",
    "#user_alert_all"
   ]
  },
  {
   "cell_type": "markdown",
   "metadata": {},
   "source": [
    "## Generate info for sending alert emails (for the sites getting worse)"
   ]
  },
  {
   "cell_type": "code",
   "execution_count": 17,
   "metadata": {
    "collapsed": false
   },
   "outputs": [],
   "source": [
    "for ip in ip_list_worse:\n",
    "    text = \"The site %s (%s)'s network paths have worsened, the count of src-destination paths with packet-loss went from %d to %d.\\n\" % (site_ip_name[ip], ip, TN_old.get(ip,0), TN_new.get(ip,0))\n",
    "    text += \"These are all the problematic src-destination paths for the past hour:\\n\"\n",
    "    for alarm in hits_new:\n",
    "        src_ip = alarm['_source']['src']\n",
    "        dest_ip = alarm['_source']['dest']\n",
    "        if src_ip == ip:\n",
    "            text += '    %s (%s)  --->  %s (%s) \\n' % (site_ip_name[src_ip], src_ip, site_ip_name[dest_ip], dest_ip)\n",
    "    for alarm in hits_new:\n",
    "        src_ip = alarm['_source']['src']\n",
    "        dest_ip = alarm['_source']['dest']\n",
    "        if dest_ip == ip:\n",
    "            text += '    %s (%s)  --->  %s (%s) \\n' % (site_ip_name[src_ip], src_ip, site_ip_name[dest_ip], dest_ip)\n",
    "    print(text)\n",
    "    for email in user_interest_site_ip[ip]:\n",
    "        user_alert_all[email]['alerts'].append(text)\n",
    "\n",
    "# user_alert_all"
   ]
  },
  {
   "cell_type": "markdown",
   "metadata": {},
   "source": [
    "## Generate info for sending alert emails (for the sites getting better)"
   ]
  },
  {
   "cell_type": "code",
   "execution_count": 18,
   "metadata": {
    "collapsed": false
   },
   "outputs": [],
   "source": [
    "for ip in ip_list_better:\n",
    "    text = \"The site %s (%s)'s network paths have improved, the count of src-destination paths with packet-loss went from %d to %d.\\n\" % (site_ip_name[ip], ip, TN_old.get(ip,0), TN_new.get(ip,0))\n",
    "    wtext=\"\"\n",
    "    for alarm in hits_new:\n",
    "        src_ip = alarm['_source']['src']\n",
    "        dest_ip = alarm['_source']['dest']\n",
    "        if src_ip == ip:\n",
    "            text += '    %s (%s)  --->  %s (%s) \\n' % (site_ip_name[src_ip], src_ip, site_ip_name[dest_ip], dest_ip)\n",
    "    for alarm in hits_new:\n",
    "        src_ip = alarm['_source']['src']\n",
    "        dest_ip = alarm['_source']['dest']\n",
    "        if dest_ip == ip:\n",
    "            text += '    %s (%s)  --->  %s (%s) \\n' % (site_ip_name[src_ip], src_ip, site_ip_name[dest_ip], dest_ip)   \n",
    "    if len(wtext)>0:\n",
    "        text += \"These are the remaining problematic src-destination paths for the past hour:\\n\"\n",
    "        text += wtext\n",
    "#    print(text)\n",
    "    for email in user_interest_site_ip[ip]:\n",
    "        user_alert_all[email]['alerts'].append(text)\n",
    "\n",
    "# user_alert_all"
   ]
  },
  {
   "cell_type": "markdown",
   "metadata": {},
   "source": [
    "## Send out alert email customized for each user"
   ]
  },
  {
   "cell_type": "code",
   "execution_count": 19,
   "metadata": {
    "collapsed": false
   },
   "outputs": [],
   "source": [
    "for email in user_alert_all:\n",
    "    u=user_alert_all[email]\n",
    "    if len(u['alerts'])>0:\n",
    "        body = 'Dear ' + u['name']+',\\n\\n'\n",
    "        body = body + '\\tThis mail is to let you know that there are significant changes in the number of paths with large packet-loss detected by perfSONAR for sites you requested alerting about.\\n\\n'\n",
    "        for a in u['alerts']:\n",
    "            body = body + a + '\\n'\n",
    "   \n",
    "        # Add in two items: 1) Where to go for more information and 2) who to contact to pursue fixing this   +SPM 20-Apr-2017\n",
    "        body = body + '\\n To get more information about this alert message and its interpretation, please visit:\\n'\n",
    "        body = body + '  http://twiki.opensciencegrid.org/bin/view/Documentation/NetworkingInOSG/PacketLossAlert\\n'\n",
    "        body = body + '\\n If you suspect a network problem and wish to follow up on it please email the appropriate support list:\\n'\n",
    "        body = body + '     For OSG sites:  goc@opensciencegrid.org using Subject: Possible network issue\\n'\n",
    "        body = body + '     For WLCG sites:  wlcg-network-throughput@cern.ch using Subject: Possible network issue\\n'\n",
    "        body = body + ' Please include this alert email to help expedite your request for network debugging support.\\n'\n",
    "        body = body + '\\n To change your alerts preferences please use the following link:\\n'+u['link']\n",
    "        body = body + '\\n\\nBest regards,\\nATLAS Networking Alert Service'\n",
    "        #print(body)\n",
    "        A.sendMail(emailSubject, u['email'], body)\n",
    "        A.addAlert(testName, u['name'],'large packet loss')"
   ]
  },
  {
   "cell_type": "code",
   "execution_count": null,
   "metadata": {
    "collapsed": true
   },
   "outputs": [],
   "source": []
  }
 ],
 "metadata": {
  "kernelspec": {
   "display_name": "Python 3",
   "language": "python",
   "name": "python3"
  },
  "language_info": {
   "codemirror_mode": {
    "name": "ipython",
    "version": 3
   },
   "file_extension": ".py",
   "mimetype": "text/x-python",
   "name": "python",
   "nbconvert_exporter": "python",
   "pygments_lexer": "ipython3",
   "version": "3.5.1"
  }
 },
 "nbformat": 4,
 "nbformat_minor": 0
}
