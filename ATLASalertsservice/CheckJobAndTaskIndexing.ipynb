{
 "cells": [
  {
   "cell_type": "markdown",
   "metadata": {},
   "source": [
    "Checks if Panda jobs and taks data are indexed\n",
    "====\n",
    "This notebook checks number of indexed documents in jobs and panda tables and alerts if any of them is 0. It sends mails to all the people substribed to that alert. It is run every 6h from a cron job."
   ]
  },
  {
   "cell_type": "code",
   "execution_count": 1,
   "metadata": {
    "collapsed": true
   },
   "outputs": [],
   "source": [
    "import subscribers, alerts\n",
    "from datetime import datetime\n",
    "from elasticsearch import Elasticsearch, exceptions as es_exceptions\n",
    "es = Elasticsearch(hosts=[{'host':'cl-analytics.mwt2.org', 'port':9200}],timeout=60)"
   ]
  },
  {
   "cell_type": "code",
   "execution_count": 2,
   "metadata": {
    "collapsed": false
   },
   "outputs": [
    {
     "name": "stdout",
     "output_type": "stream",
     "text": [
      "jobs_archive_2017-01-07\n",
      "start time 1483786083053\n",
      "current time 2017-01-07 11:48:03.053649\n"
     ]
    }
   ],
   "source": [
    "ct  = datetime.now()\n",
    "ind = 'jobs_archive_%d-%02d-%02d' % (ct.year, ct.month, ct.day)\n",
    "print(ind)\n",
    "currentTime=int(round(datetime.now().timestamp()* 1000))\n",
    "lastHours=7\n",
    "startTime=currentTime - lastHours*3600000\n",
    "print('start time', startTime)\n",
    "print('current time',datetime.now())"
   ]
  },
  {
   "cell_type": "code",
   "execution_count": 3,
   "metadata": {
    "collapsed": false
   },
   "outputs": [
    {
     "name": "stdout",
     "output_type": "stream",
     "text": [
      "{'took': 3, 'hits': {'total': 292193, 'max_score': 0.0, 'hits': []}, 'timed_out': False, '_shards': {'total': 5, 'failed': 0, 'successful': 5}}\n"
     ]
    }
   ],
   "source": [
    "jobs_query={\n",
    "   \"size\": 0,\n",
    "   \"query\": {\n",
    "     \"range\":{\"modificationtime\":{\"gte\": startTime,\"lte\": currentTime}}\n",
    "   }\n",
    "}\n",
    "\n",
    "res = es.search(index=ind, body=jobs_query, request_timeout=120)\n",
    "print(res)"
   ]
  },
  {
   "cell_type": "code",
   "execution_count": 4,
   "metadata": {
    "collapsed": false
   },
   "outputs": [],
   "source": [
    "if res['hits']['total'] == 0:\n",
    "    S = subscribers.subscribers()\n",
    "    A = alerts.alerts()\n",
    "\n",
    "    testName = 'Panda jobs'\n",
    "    subscribersToJobsImporter =  S.getSubscribers(testName)\n",
    "    print (subscribersToJobsImporter)\n",
    "    for subscriber in subscribersToJobsImporter:\n",
    "        body = 'Dear ' + subscriber[0]+',\\n\\n'\n",
    "        body = body + '\\tthis mail is to let you that there is an issue in indexing Panda Jobs data in UC Elasticsearch.\\n'\n",
    "        body = body + '\\nBest regards,\\nATLAS AAS'\n",
    "        body = body + '\\n\\n To change your alerts preferences please you the following link:\\n'+subscriber[2]\n",
    "        print(subscriber)\n",
    "        A.sendMail(testName, subscriber[1], body)\n",
    "        A.addAlert(testName, subscriber[0],str(res))"
   ]
  },
  {
   "cell_type": "code",
   "execution_count": 5,
   "metadata": {
    "collapsed": false
   },
   "outputs": [
    {
     "name": "stdout",
     "output_type": "stream",
     "text": [
      "{'took': 1, 'hits': {'total': 2595, 'max_score': 0.0, 'hits': []}, 'timed_out': False, '_shards': {'total': 5, 'failed': 0, 'successful': 5}}\n"
     ]
    }
   ],
   "source": [
    "ind = 'tasks_archive_%d-%02d' % (ct.year, ct.month)\n",
    "tasks_query={\n",
    "   \"size\": 0,\n",
    "   \"query\": {\n",
    "     \"range\":{\"modificationtime\":{\"gte\": startTime,\"lte\": currentTime}}\n",
    "   }\n",
    "}\n",
    "\n",
    "res = es.search(index=ind, body=tasks_query, request_timeout=120)\n",
    "print(res)"
   ]
  },
  {
   "cell_type": "code",
   "execution_count": 6,
   "metadata": {
    "collapsed": true
   },
   "outputs": [],
   "source": [
    "if res['hits']['total'] == 0:\n",
    "    S = subscribers.subscribers()\n",
    "    A = alerts.alerts()\n",
    "\n",
    "    testName = 'Jedi tasks'\n",
    "    subscribersToTasksImporter =  S.getSubscribers(testName)\n",
    "    for subscriber in subscribersToTasksImporter:\n",
    "        body = 'Dear ' + subscriber[0]+',\\n\\n'\n",
    "        body = body + '\\tthis mail is to let you that there is an issue in indexing Jedi tasks data in UC Elasticsearch.\\n'\n",
    "        body = body + '\\nBest regards,\\nATLAS AAS'\n",
    "        body = body + '\\n\\n To change your alerts preferences please you the following link:\\n'+subscriber[2]\n",
    "        print(subscriber)\n",
    "        A.sendMail(testName, subscriber[1], body)\n",
    "        A.addAlert(testName, subscriber[0],str(res))"
   ]
  },
  {
   "cell_type": "code",
   "execution_count": null,
   "metadata": {
    "collapsed": true
   },
   "outputs": [],
   "source": []
  }
 ],
 "metadata": {
  "kernelspec": {
   "display_name": "Python 3",
   "language": "python",
   "name": "python3"
  },
  "language_info": {
   "codemirror_mode": {
    "name": "ipython",
    "version": 3
   },
   "file_extension": ".py",
   "mimetype": "text/x-python",
   "name": "python",
   "nbconvert_exporter": "python",
   "pygments_lexer": "ipython3",
   "version": "3.5.1"
  }
 },
 "nbformat": 4,
 "nbformat_minor": 0
}
