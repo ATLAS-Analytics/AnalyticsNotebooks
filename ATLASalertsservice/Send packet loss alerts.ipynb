{
 "cells": [
  {
   "cell_type": "markdown",
   "metadata": {},
   "source": [
    "# Send alert emails about packet loss based on alarms and user subscribing"
   ]
  },
  {
   "cell_type": "markdown",
   "metadata": {},
   "source": [
    "This notebook is run by a cron job every hour, and its purpose is to send alert emails about packet loss for user specified site(s) based on alarms and user subscribing records. \n",
    "\n",
    "This notebook works following this procedure: \n",
    "\n",
    "(1) Get all the alarms of type packetloss for the past hour (call it NEW) and past past hour (call it OLD) from Elasticsearch\n",
    "\n",
    "(2) Get the user subscribing records from Google Sheets calling APIs in subscribers.py\n",
    "\n",
    "(3) Process the alarms data and subscribing data to make them easier to use for this monitoring task\n",
    "\n",
    "(4) TN_old means total number of alarmed links involving a specific site ip (no matter from it or to it) for OLD time period\n",
    "\n",
    "(5) TN_new means total number of alarmed links involving a specific site ip (no matter from it or to it) for NEW time period\n",
    "\n",
    "(6) TN_delta means the change of value from TN_old to TN_new. We need to compare TN_delta v.s. +N and v.s. -N (tune N later)\n",
    "\n",
    "(7) If a site ip never occurs in NEW and OLD, then it must be totally fine, and we do not care about it at all (TN_old == TN_new == TN_delta == 0)\n",
    "\n",
    "(8) If a site ip occurs in NEW or OLD or both, then we may have TN_delta > 0 or == 0 or < 0 for this site ip, so we want to take a closer look at this site ip, so we do (9) (10) (11)\n",
    "\n",
    "(9) If TN_delta >= +N, then overall the links connected to this site are becoming worse, so we send email\n",
    "\n",
    "(10) If TN_delta <= -N, then overall the links connected to this site are becoming better, so we send email\n",
    "\n",
    "(11) Otherwise, the overall status for this site is not changing or just changing slightly, so we do not send email\n",
    "\n",
    "(12) In order to send email, we need a dictionary whose key is site ip and value is a list of relevant user emails\n",
    "\n"
   ]
  },
  {
   "cell_type": "markdown",
   "metadata": {},
   "source": [
    "## Import necessary packages and classes"
   ]
  },
  {
   "cell_type": "code",
   "execution_count": 1,
   "metadata": {
    "collapsed": true
   },
   "outputs": [],
   "source": [
    "# Retrieve user subscribing records from google sheets.\n",
    "import subscribers, alerts\n",
    "\n",
    "S = subscribers.subscribers()\n",
    "A = alerts.alerts()\n",
    "\n",
    "# Related to Elasticsearch queries\n",
    "from elasticsearch import Elasticsearch, exceptions as es_exceptions, helpers\n",
    "import datetime\n",
    "\n",
    "# Regular Expression\n",
    "import re"
   ]
  },
  {
   "cell_type": "markdown",
   "metadata": {},
   "source": [
    "## Establish Elasticsearch connection"
   ]
  },
  {
   "cell_type": "code",
   "execution_count": 2,
   "metadata": {
    "collapsed": true
   },
   "outputs": [],
   "source": [
    "es = Elasticsearch(hosts=[{'host':'atlas-kibana.mwt2.org', 'port':9200}],timeout=60)"
   ]
  },
  {
   "cell_type": "markdown",
   "metadata": {},
   "source": [
    "## List all alarms-yyyy.mm indices"
   ]
  },
  {
   "cell_type": "code",
   "execution_count": 3,
   "metadata": {
    "collapsed": false
   },
   "outputs": [
    {
     "name": "stdout",
     "output_type": "stream",
     "text": [
      "['alarms-2016-12', 'alarms-2016-08', 'alarms-2016-10', 'alarms-2016-09', 'alarms-2016-11', 'alarms-2017-01']\n"
     ]
    }
   ],
   "source": [
    "indices = es.cat.indices(index=\"alarms-*\", h=\"index\", request_timeout=600).split('\\n')\n",
    "indices = [x for x in indices if x != '']\n",
    "indices = [x.strip() for x in indices]\n",
    "print(indices)"
   ]
  },
  {
   "cell_type": "markdown",
   "metadata": {},
   "source": [
    "## Find indices to be used"
   ]
  },
  {
   "cell_type": "code",
   "execution_count": 4,
   "metadata": {
    "collapsed": false
   },
   "outputs": [
    {
     "name": "stdout",
     "output_type": "stream",
     "text": [
      "checking for indices: alarms-2017-01 alarms-2017-01\n",
      "will use indices: ['alarms-2017-01']\n"
     ]
    }
   ],
   "source": [
    "cday = datetime.datetime.utcnow()\n",
    "pday = cday - datetime.timedelta(days=1)\n",
    "ind1 = 'alarms-%d-%02d' % (cday.year, cday.month)\n",
    "ind2 = 'alarms-%d-%02d' % (pday.year, pday.month)\n",
    "\n",
    "print('checking for indices:', ind1, ind2)\n",
    "\n",
    "ind=[]\n",
    "if ind1 in indices:\n",
    "    ind.append(ind1)\n",
    "if ind2 != ind1 and ind2 in indices and cday.hour<3:   # not necessarily 3, just indicate it is the beginning period of new day\n",
    "    ind.append(ind2)\n",
    "\n",
    "if len(ind)==0:\n",
    "    print('no current indices found. Aborting.')\n",
    "    exit\n",
    "else:\n",
    "    print('will use indices:', ind)"
   ]
  },
  {
   "cell_type": "markdown",
   "metadata": {},
   "source": [
    "## Queries to find all the alarms of type Packet Loss for the past hour and past past hour"
   ]
  },
  {
   "cell_type": "code",
   "execution_count": 5,
   "metadata": {
    "collapsed": false
   },
   "outputs": [
    {
     "name": "stdout",
     "output_type": "stream",
     "text": [
      "{'size': 1000, 'query': {'bool': {'filter': {'range': {'alarmTime': {'gt': 'now-1h'}}}, 'must': [{'term': {'_type': 'packetloss'}}]}}}\n",
      "{'size': 1000, 'query': {'bool': {'filter': {'range': {'alarmTime': {'gt': 'now-2h', 'lt': 'now-1h'}}}, 'must': [{'term': {'_type': 'packetloss'}}]}}}\n"
     ]
    }
   ],
   "source": [
    "query_new = {\n",
    "    \"size\": 1000,\n",
    "    \"query\": {\n",
    "        \"bool\": {\n",
    "            \"must\": [\n",
    "                {\"term\": { \"_type\": \"packetloss\" }}\n",
    "            ],\n",
    "            \"filter\": {\n",
    "                \"range\": {\n",
    "                    \"alarmTime\": {\n",
    "                        \"gt\": \"now-1h\"\n",
    "                    }\n",
    "                }\n",
    "            }\n",
    "        }\n",
    "    }\n",
    "}\n",
    "\n",
    "query_old = {\n",
    "    \"size\": 1000,\n",
    "    \"query\": {\n",
    "        \"bool\": {\n",
    "            \"must\": [\n",
    "                {\"term\": { \"_type\": \"packetloss\" }}\n",
    "            ],\n",
    "            \"filter\": {\n",
    "                \"range\": {\n",
    "                    \"alarmTime\": {\n",
    "                        \"gt\": \"now-4h\",\n",
    "                        \"lt\": \"now-2h\"\n",
    "                    }\n",
    "                }\n",
    "            }\n",
    "        }\n",
    "    }\n",
    "}\n",
    "\n",
    "print(query_new)\n",
    "print(query_old)"
   ]
  },
  {
   "cell_type": "markdown",
   "metadata": {},
   "source": [
    "## Execute the query"
   ]
  },
  {
   "cell_type": "code",
   "execution_count": 6,
   "metadata": {
    "collapsed": false
   },
   "outputs": [
    {
     "name": "stdout",
     "output_type": "stream",
     "text": [
      "Number of hits of new alarms: 234\n",
      "Number of hits of old alarms: 231\n"
     ]
    }
   ],
   "source": [
    "result_new = es.search(index=ind, body=query_new, request_timeout=120)\n",
    "print('Number of hits of new alarms:', result_new['hits']['total'] )\n",
    "\n",
    "result_old = es.search(index=ind, body=query_old, request_timeout=120)\n",
    "print('Number of hits of old alarms:', result_old['hits']['total'] )\n",
    "\n",
    "hits_new = result_new['hits']['hits']\n",
    "hits_old = result_old['hits']['hits']"
   ]
  },
  {
   "cell_type": "markdown",
   "metadata": {},
   "source": [
    "## Generate the two dictionaries for sites, one is from ip to name, one is from name to ip"
   ]
  },
  {
   "cell_type": "code",
   "execution_count": 7,
   "metadata": {
    "collapsed": false,
    "scrolled": true
   },
   "outputs": [
    {
     "name": "stdout",
     "output_type": "stream",
     "text": [
      "{'192.5.207.251': 'BU_ATLAS_Tier2', '147.231.25.192': 'praguelcg2', '137.222.74.15': 'UKI-SOUTHGRID-BRIS-HEP', '129.93.239.148': 'Nebraska', '129.107.255.29': 'UTA_SWT2', '142.150.19.61': 'CA-SCINET-T2', '130.246.47.129': 'UKI-SOUTHGRID-RALPP', '62.40.126.129': 'UnknownSite', '130.246.176.109': 'RAL-LCG2', '148.187.64.25': 'CSCS-LCG2', '134.158.103.10': 'IN2P3-LAPP', '147.156.116.40': 'IFIC-LCG2', '141.34.200.28': 'DESY-ZN', '18.12.1.171': 'UnknownSite', '81.180.86.38': 'RO-02-NIPNE', '128.227.221.44': 'UFlorida-HPC', '81.180.86.64': 'RO-07-NIPNE', '144.206.237.142': 'RRC-KI', '206.12.24.251': 'SFU-LCG2', '134.158.150.245': 'IN2P3-IRES', '193.170.243.215': 'Hephy-Vienna', '193.62.56.9': 'UKI-SOUTHGRID-BHAM-HEP', '193.48.83.165': 'IN2P3-LPSC', '200.136.80.20': 'SPRACE', '192.135.14.32': 'INFN-MILANO-ATLASC', '139.184.80.18': 'UKI-SOUTHGRID-SUSX', '129.15.40.231': 'OU_OCHEP_SWT2', '109.105.125.232': 'FI_HIP_T2', '128.40.4.25': 'UKI-LT2-UCL-HEP', '194.36.11.38': 'UKI-LT2-QMUL', '202.122.32.170': 'BEIJING-LCG2', '146.83.90.7': 'EELA-UTFSM', '206.12.9.2': 'TRIUMF-LCG2', '192.108.47.12': 'FZK-LCG2', '143.167.3.116': 'UKI-NORTHGRID-SHEF-HEP', '193.48.99.76': 'IN2P3-CC', '158.195.14.26': 'FMPhI-UNIBA', '194.80.35.169': 'UKI-NORTHGRID-LANCS-HEP', '150.244.247.2': 'UAM-LCG2', '134.158.20.192': 'IN2P3-CPPM', '134.158.132.200': 'GRIF', '192.41.236.31': 'AGLT2', '192.111.108.112': 'Vanderbilt', '134.158.73.243': 'GRIF', '129.215.213.70': 'UKI-SCOTGRID-ECDF', '163.1.5.210': 'UKI-SOUTHGRID-OX-HEP', '134.61.24.193': 'UnknownSite', '193.136.75.146': 'NCG-INGRID-PT', '159.93.229.151': 'JINR-T1', '152.84.101.141': 'UnknownSite', '131.111.66.196': 'UKI-SOUTHGRID-CAM-HEP', '132.195.125.213': 'wuppertalprod', '131.154.254.12': 'INFN-T1', '132.230.202.235': 'UNI-FREIBURG', '194.190.165.192': 'RU-Protvino-IHEP', '134.158.123.183': 'IN2P3-LPC', '159.93.225.211': 'JINR-LCG2', '141.108.35.18': 'INFN-ROMA1', '147.213.204.112': 'IEPSAS-Kosice', '169.228.130.40': 'UnknownSite', '192.170.227.160': 'MWT2', '192.231.127.41': 'Australia-ATLAS', '193.205.76.76': 'UnknownSite', '131.169.98.30': 'DESY-HH', '149.165.225.223': 'MWT2', '145.100.17.8': 'SARA-MATRIX', '195.194.105.178': 'UKI-NORTHGRID-MAN-HEP', '134.79.118.72': 'WT2', '193.144.80.12': 'UnknownSite', '206.12.154.60': 'CA-VICTORIA-WESTGRID-T2', '72.36.96.4': 'MWT2', '138.253.60.82': 'UKI-NORTHGRID-LIV-HEP', '144.16.111.26': 'INDIACMS-TIFR', '161.116.81.235': 'UnknownSite', '193.60.193.3': 'UKI-SCOTGRID-DURHAM', '128.142.223.247': 'CERN-PROD', '134.158.159.85': 'GRIF', '193.109.172.188': 'pic', '130.209.239.124': 'UKI-SCOTGRID-GLASGOW', '144.206.236.189': 'RRC-KI-T1', '144.92.180.75': 'GLOW', '192.41.230.59': 'AGLT2', '192.54.207.250': 'GRIF', '90.147.67.252': 'INFN-NAPOLI-ATLAS', '192.114.101.125': 'TECHNION-HEP', '134.219.225.13': 'UKI-LT2-RHUL'}\n"
     ]
    }
   ],
   "source": [
    "site_ip_name = {}\n",
    "\n",
    "for hit in hits_new:\n",
    "    info = hit['_source']\n",
    "    site_ip_name[info['src']] = info['srcSite']\n",
    "    site_ip_name[info['dest']] = info['destSite']\n",
    "\n",
    "for hit in hits_old:\n",
    "    info = hit['_source']\n",
    "    site_ip_name[info['src']] = info['srcSite']\n",
    "    site_ip_name[info['dest']] = info['destSite']\n",
    "\n",
    "#print(site_ip_name)"
   ]
  },
  {
   "cell_type": "code",
   "execution_count": 8,
   "metadata": {
    "collapsed": false,
    "scrolled": true
   },
   "outputs": [
    {
     "name": "stdout",
     "output_type": "stream",
     "text": [
      "{'UKI-SOUTHGRID-BHAM-HEP': ['193.62.56.9'], 'RAL-LCG2': ['130.246.176.109'], 'IEPSAS-Kosice': ['147.213.204.112'], 'EELA-UTFSM': ['146.83.90.7'], 'FMPhI-UNIBA': ['158.195.14.26'], 'SARA-MATRIX': ['145.100.17.8'], 'UKI-NORTHGRID-LIV-HEP': ['138.253.60.82'], 'CSCS-LCG2': ['148.187.64.25'], 'DESY-HH': ['131.169.98.30'], 'UNI-FREIBURG': ['132.230.202.235'], 'AGLT2': ['192.41.236.31', '192.41.230.59'], 'JINR-LCG2': ['159.93.225.211'], 'RU-Protvino-IHEP': ['194.190.165.192'], 'INDIACMS-TIFR': ['144.16.111.26'], 'IN2P3-IRES': ['134.158.150.245'], 'RO-02-NIPNE': ['81.180.86.38'], 'INFN-T1': ['131.154.254.12'], 'IN2P3-LPSC': ['193.48.83.165'], 'Australia-ATLAS': ['192.231.127.41'], 'UKI-SOUTHGRID-BRIS-HEP': ['137.222.74.15'], 'UKI-LT2-QMUL': ['194.36.11.38'], 'SPRACE': ['200.136.80.20'], 'pic': ['193.109.172.188'], 'praguelcg2': ['147.231.25.192'], 'UKI-NORTHGRID-LANCS-HEP': ['194.80.35.169'], 'UKI-NORTHGRID-SHEF-HEP': ['143.167.3.116'], 'UKI-SOUTHGRID-RALPP': ['130.246.47.129'], 'TRIUMF-LCG2': ['206.12.9.2'], 'UKI-LT2-RHUL': ['134.219.225.13'], 'NCG-INGRID-PT': ['193.136.75.146'], 'UKI-SOUTHGRID-CAM-HEP': ['131.111.66.196'], 'UAM-LCG2': ['150.244.247.2'], 'UTA_SWT2': ['129.107.255.29'], 'UKI-LT2-UCL-HEP': ['128.40.4.25'], 'UFlorida-HPC': ['128.227.221.44'], 'IN2P3-LAPP': ['134.158.103.10'], 'BU_ATLAS_Tier2': ['192.5.207.251'], 'SFU-LCG2': ['206.12.24.251'], 'JINR-T1': ['159.93.229.151'], 'BEIJING-LCG2': ['202.122.32.170'], 'Vanderbilt': ['192.111.108.112'], 'FZK-LCG2': ['192.108.47.12'], 'IFIC-LCG2': ['147.156.116.40'], 'GRIF': ['134.158.132.200', '134.158.73.243', '134.158.159.85', '192.54.207.250'], 'UKI-NORTHGRID-MAN-HEP': ['195.194.105.178'], 'CERN-PROD': ['128.142.223.247'], 'UKI-SCOTGRID-DURHAM': ['193.60.193.3'], 'OU_OCHEP_SWT2': ['129.15.40.231'], 'UKI-SOUTHGRID-SUSX': ['139.184.80.18'], 'IN2P3-LPC': ['134.158.123.183'], 'GLOW': ['144.92.180.75'], 'UKI-SOUTHGRID-OX-HEP': ['163.1.5.210'], 'INFN-NAPOLI-ATLAS': ['90.147.67.252'], 'CA-SCINET-T2': ['142.150.19.61'], 'Nebraska': ['129.93.239.148'], 'FI_HIP_T2': ['109.105.125.232'], 'IN2P3-CC': ['193.48.99.76'], 'INFN-ROMA1': ['141.108.35.18'], 'RRC-KI-T1': ['144.206.236.189'], 'IN2P3-CPPM': ['134.158.20.192'], 'CA-VICTORIA-WESTGRID-T2': ['206.12.154.60'], 'wuppertalprod': ['132.195.125.213'], 'WT2': ['134.79.118.72'], 'UKI-SCOTGRID-GLASGOW': ['130.209.239.124'], 'INFN-MILANO-ATLASC': ['192.135.14.32'], 'MWT2': ['192.170.227.160', '149.165.225.223', '72.36.96.4'], 'RO-07-NIPNE': ['81.180.86.64'], 'UKI-SCOTGRID-ECDF': ['129.215.213.70'], 'TECHNION-HEP': ['192.114.101.125'], 'Hephy-Vienna': ['193.170.243.215'], 'UnknownSite': ['62.40.126.129', '18.12.1.171', '134.61.24.193', '152.84.101.141', '169.228.130.40', '193.205.76.76', '193.144.80.12', '161.116.81.235'], 'DESY-ZN': ['141.34.200.28'], 'RRC-KI': ['144.206.237.142']}\n"
     ]
    }
   ],
   "source": [
    "site_name_ip = {}\n",
    "\n",
    "for ip in site_ip_name:\n",
    "    name = site_ip_name[ip]\n",
    "    if name in site_name_ip:\n",
    "        site_name_ip[name].append(ip)\n",
    "    else:\n",
    "        site_name_ip[name] = [ip]\n",
    "\n",
    "#print(site_name_ip)"
   ]
  },
  {
   "cell_type": "markdown",
   "metadata": {},
   "source": [
    "## Calculate TN_old, the total number of alarmed links involving a specific site ip (either as source site or as destination site) for the OLD time period"
   ]
  },
  {
   "cell_type": "code",
   "execution_count": 9,
   "metadata": {
    "collapsed": false,
    "scrolled": true
   },
   "outputs": [
    {
     "data": {
      "text/plain": [
       "{'109.105.125.232': 1,\n",
       " '128.142.223.247': 2,\n",
       " '128.40.4.25': 1,\n",
       " '129.107.255.29': 1,\n",
       " '129.15.40.231': 1,\n",
       " '129.215.213.70': 7,\n",
       " '129.93.239.148': 1,\n",
       " '130.209.239.124': 7,\n",
       " '130.246.176.109': 4,\n",
       " '130.246.47.129': 5,\n",
       " '131.111.66.196': 6,\n",
       " '131.154.254.12': 2,\n",
       " '131.169.98.30': 5,\n",
       " '132.195.125.213': 5,\n",
       " '132.230.202.235': 6,\n",
       " '134.158.103.10': 2,\n",
       " '134.158.123.183': 3,\n",
       " '134.158.132.200': 3,\n",
       " '134.158.150.245': 3,\n",
       " '134.158.159.85': 3,\n",
       " '134.158.20.192': 3,\n",
       " '134.158.73.243': 3,\n",
       " '134.219.225.13': 5,\n",
       " '134.61.24.193': 3,\n",
       " '134.79.118.72': 1,\n",
       " '137.222.74.15': 2,\n",
       " '138.253.60.82': 7,\n",
       " '139.184.80.18': 1,\n",
       " '141.108.35.18': 16,\n",
       " '141.34.200.28': 5,\n",
       " '142.150.19.61': 29,\n",
       " '143.167.3.116': 1,\n",
       " '144.16.111.26': 1,\n",
       " '144.206.236.189': 4,\n",
       " '144.206.237.142': 4,\n",
       " '144.92.180.75': 1,\n",
       " '145.100.17.8': 4,\n",
       " '146.83.90.7': 2,\n",
       " '147.156.116.40': 6,\n",
       " '147.213.204.112': 6,\n",
       " '147.231.25.192': 5,\n",
       " '148.187.64.25': 8,\n",
       " '149.165.225.223': 1,\n",
       " '150.244.247.2': 3,\n",
       " '152.84.101.141': 2,\n",
       " '158.195.14.26': 6,\n",
       " '159.93.225.211': 2,\n",
       " '159.93.229.151': 1,\n",
       " '161.116.81.235': 35,\n",
       " '163.1.5.210': 7,\n",
       " '169.228.130.40': 1,\n",
       " '18.12.1.171': 3,\n",
       " '192.108.47.12': 6,\n",
       " '192.114.101.125': 3,\n",
       " '192.135.14.32': 4,\n",
       " '192.170.227.160': 1,\n",
       " '192.231.127.41': 2,\n",
       " '192.41.230.59': 1,\n",
       " '192.41.236.31': 1,\n",
       " '192.5.207.251': 2,\n",
       " '192.54.207.250': 1,\n",
       " '193.109.172.188': 3,\n",
       " '193.136.75.146': 7,\n",
       " '193.144.80.12': 2,\n",
       " '193.170.243.215': 1,\n",
       " '193.205.76.76': 2,\n",
       " '193.48.83.165': 2,\n",
       " '193.48.99.76': 2,\n",
       " '193.60.193.3': 2,\n",
       " '193.62.56.9': 1,\n",
       " '194.190.165.192': 5,\n",
       " '194.36.11.38': 5,\n",
       " '194.80.35.169': 5,\n",
       " '195.194.105.178': 65,\n",
       " '200.136.80.20': 2,\n",
       " '202.122.32.170': 2,\n",
       " '206.12.154.60': 32,\n",
       " '206.12.24.251': 27,\n",
       " '206.12.9.2': 16,\n",
       " '62.40.126.129': 2,\n",
       " '72.36.96.4': 1,\n",
       " '81.180.86.38': 3,\n",
       " '81.180.86.64': 5,\n",
       " '90.147.67.252': 3}"
      ]
     },
     "execution_count": 9,
     "metadata": {},
     "output_type": "execute_result"
    }
   ],
   "source": [
    "TN_old = {}\n",
    "\n",
    "def TN_old_add_one(ip):\n",
    "    if ip in TN_old:\n",
    "        TN_old[ip] += 1\n",
    "    else:\n",
    "        TN_old[ip] = 1\n",
    "\n",
    "for alarm in hits_old:\n",
    "    TN_old_add_one(alarm['_source']['src'])\n",
    "    TN_old_add_one(alarm['_source']['dest'])\n",
    "\n",
    "#TN_old"
   ]
  },
  {
   "cell_type": "markdown",
   "metadata": {},
   "source": [
    "## Calculate TN_new, the total number of alarmed links involving a specific site ip (either as source site or as destination site) for the NEW time period"
   ]
  },
  {
   "cell_type": "code",
   "execution_count": 10,
   "metadata": {
    "collapsed": false,
    "scrolled": true
   },
   "outputs": [
    {
     "data": {
      "text/plain": [
       "{'109.105.125.232': 1,\n",
       " '128.142.223.247': 2,\n",
       " '128.227.221.44': 1,\n",
       " '128.40.4.25': 1,\n",
       " '129.107.255.29': 1,\n",
       " '129.15.40.231': 1,\n",
       " '129.215.213.70': 7,\n",
       " '129.93.239.148': 2,\n",
       " '130.209.239.124': 7,\n",
       " '130.246.176.109': 4,\n",
       " '130.246.47.129': 5,\n",
       " '131.111.66.196': 6,\n",
       " '131.154.254.12': 2,\n",
       " '131.169.98.30': 5,\n",
       " '132.195.125.213': 5,\n",
       " '132.230.202.235': 6,\n",
       " '134.158.103.10': 2,\n",
       " '134.158.123.183': 3,\n",
       " '134.158.132.200': 3,\n",
       " '134.158.150.245': 3,\n",
       " '134.158.159.85': 3,\n",
       " '134.158.20.192': 3,\n",
       " '134.158.73.243': 3,\n",
       " '134.219.225.13': 5,\n",
       " '134.61.24.193': 3,\n",
       " '134.79.118.72': 1,\n",
       " '137.222.74.15': 2,\n",
       " '138.253.60.82': 7,\n",
       " '139.184.80.18': 1,\n",
       " '141.108.35.18': 16,\n",
       " '141.34.200.28': 5,\n",
       " '142.150.19.61': 29,\n",
       " '143.167.3.116': 1,\n",
       " '144.16.111.26': 1,\n",
       " '144.206.236.189': 4,\n",
       " '144.206.237.142': 4,\n",
       " '144.92.180.75': 2,\n",
       " '145.100.17.8': 4,\n",
       " '146.83.90.7': 2,\n",
       " '147.156.116.40': 5,\n",
       " '147.213.204.112': 6,\n",
       " '147.231.25.192': 5,\n",
       " '148.187.64.25': 8,\n",
       " '149.165.225.223': 1,\n",
       " '150.244.247.2': 3,\n",
       " '152.84.101.141': 2,\n",
       " '158.195.14.26': 6,\n",
       " '159.93.225.211': 7,\n",
       " '159.93.229.151': 1,\n",
       " '161.116.81.235': 35,\n",
       " '163.1.5.210': 7,\n",
       " '169.228.130.40': 2,\n",
       " '18.12.1.171': 3,\n",
       " '192.108.47.12': 5,\n",
       " '192.111.108.112': 1,\n",
       " '192.114.101.125': 3,\n",
       " '192.135.14.32': 4,\n",
       " '192.170.227.160': 1,\n",
       " '192.231.127.41': 2,\n",
       " '192.41.230.59': 1,\n",
       " '192.41.236.31': 1,\n",
       " '192.5.207.251': 2,\n",
       " '192.54.207.250': 1,\n",
       " '193.109.172.188': 3,\n",
       " '193.136.75.146': 7,\n",
       " '193.144.80.12': 2,\n",
       " '193.170.243.215': 1,\n",
       " '193.205.76.76': 2,\n",
       " '193.48.83.165': 2,\n",
       " '193.48.99.76': 2,\n",
       " '193.60.193.3': 2,\n",
       " '193.62.56.9': 1,\n",
       " '194.190.165.192': 5,\n",
       " '194.36.11.38': 5,\n",
       " '194.80.35.169': 5,\n",
       " '195.194.105.178': 65,\n",
       " '200.136.80.20': 2,\n",
       " '202.122.32.170': 1,\n",
       " '206.12.154.60': 31,\n",
       " '206.12.24.251': 27,\n",
       " '206.12.9.2': 16,\n",
       " '62.40.126.129': 2,\n",
       " '72.36.96.4': 1,\n",
       " '81.180.86.38': 3,\n",
       " '81.180.86.64': 5,\n",
       " '90.147.67.252': 3}"
      ]
     },
     "execution_count": 10,
     "metadata": {},
     "output_type": "execute_result"
    }
   ],
   "source": [
    "TN_new = {}\n",
    "\n",
    "def TN_new_add_one(ip):\n",
    "    if ip in TN_new:\n",
    "        TN_new[ip] += 1\n",
    "    else:\n",
    "        TN_new[ip] = 1\n",
    "\n",
    "for alarm in hits_new:\n",
    "    TN_new_add_one(alarm['_source']['src'])\n",
    "    TN_new_add_one(alarm['_source']['dest'])\n",
    "\n",
    "#TN_new"
   ]
  },
  {
   "cell_type": "markdown",
   "metadata": {},
   "source": [
    "## Calculate TN_delta, which is equal to ( TN_new - TN_old )"
   ]
  },
  {
   "cell_type": "code",
   "execution_count": 11,
   "metadata": {
    "collapsed": false,
    "scrolled": true
   },
   "outputs": [
    {
     "data": {
      "text/plain": [
       "{'109.105.125.232': 0,\n",
       " '128.142.223.247': 0,\n",
       " '128.227.221.44': 1,\n",
       " '128.40.4.25': 0,\n",
       " '129.107.255.29': 0,\n",
       " '129.15.40.231': 0,\n",
       " '129.215.213.70': 0,\n",
       " '129.93.239.148': 1,\n",
       " '130.209.239.124': 0,\n",
       " '130.246.176.109': 0,\n",
       " '130.246.47.129': 0,\n",
       " '131.111.66.196': 0,\n",
       " '131.154.254.12': 0,\n",
       " '131.169.98.30': 0,\n",
       " '132.195.125.213': 0,\n",
       " '132.230.202.235': 0,\n",
       " '134.158.103.10': 0,\n",
       " '134.158.123.183': 0,\n",
       " '134.158.132.200': 0,\n",
       " '134.158.150.245': 0,\n",
       " '134.158.159.85': 0,\n",
       " '134.158.20.192': 0,\n",
       " '134.158.73.243': 0,\n",
       " '134.219.225.13': 0,\n",
       " '134.61.24.193': 0,\n",
       " '134.79.118.72': 0,\n",
       " '137.222.74.15': 0,\n",
       " '138.253.60.82': 0,\n",
       " '139.184.80.18': 0,\n",
       " '141.108.35.18': 0,\n",
       " '141.34.200.28': 0,\n",
       " '142.150.19.61': 0,\n",
       " '143.167.3.116': 0,\n",
       " '144.16.111.26': 0,\n",
       " '144.206.236.189': 0,\n",
       " '144.206.237.142': 0,\n",
       " '144.92.180.75': 1,\n",
       " '145.100.17.8': 0,\n",
       " '146.83.90.7': 0,\n",
       " '147.156.116.40': -1,\n",
       " '147.213.204.112': 0,\n",
       " '147.231.25.192': 0,\n",
       " '148.187.64.25': 0,\n",
       " '149.165.225.223': 0,\n",
       " '150.244.247.2': 0,\n",
       " '152.84.101.141': 0,\n",
       " '158.195.14.26': 0,\n",
       " '159.93.225.211': 5,\n",
       " '159.93.229.151': 0,\n",
       " '161.116.81.235': 0,\n",
       " '163.1.5.210': 0,\n",
       " '169.228.130.40': 1,\n",
       " '18.12.1.171': 0,\n",
       " '192.108.47.12': -1,\n",
       " '192.111.108.112': 1,\n",
       " '192.114.101.125': 0,\n",
       " '192.135.14.32': 0,\n",
       " '192.170.227.160': 0,\n",
       " '192.231.127.41': 0,\n",
       " '192.41.230.59': 0,\n",
       " '192.41.236.31': 0,\n",
       " '192.5.207.251': 0,\n",
       " '192.54.207.250': 0,\n",
       " '193.109.172.188': 0,\n",
       " '193.136.75.146': 0,\n",
       " '193.144.80.12': 0,\n",
       " '193.170.243.215': 0,\n",
       " '193.205.76.76': 0,\n",
       " '193.48.83.165': 0,\n",
       " '193.48.99.76': 0,\n",
       " '193.60.193.3': 0,\n",
       " '193.62.56.9': 0,\n",
       " '194.190.165.192': 0,\n",
       " '194.36.11.38': 0,\n",
       " '194.80.35.169': 0,\n",
       " '195.194.105.178': 0,\n",
       " '200.136.80.20': 0,\n",
       " '202.122.32.170': -1,\n",
       " '206.12.154.60': -1,\n",
       " '206.12.24.251': 0,\n",
       " '206.12.9.2': 0,\n",
       " '62.40.126.129': 0,\n",
       " '72.36.96.4': 0,\n",
       " '81.180.86.38': 0,\n",
       " '81.180.86.64': 0,\n",
       " '90.147.67.252': 0}"
      ]
     },
     "execution_count": 11,
     "metadata": {},
     "output_type": "execute_result"
    }
   ],
   "source": [
    "TN_delta = {}\n",
    "\n",
    "for ip in TN_old:\n",
    "    if ip in TN_new:\n",
    "        TN_delta[ip] = TN_new[ip] - TN_old[ip]\n",
    "    else:\n",
    "        TN_delta[ip] = -TN_old[ip]\n",
    "\n",
    "for ip in TN_new:\n",
    "    if ip not in TN_old:\n",
    "        TN_delta[ip] = TN_new[ip]\n",
    "\n",
    "TN_delta"
   ]
  },
  {
   "cell_type": "markdown",
   "metadata": {},
   "source": [
    "## Look at the distribution of TN_delta, so that we can tune the parameter N"
   ]
  },
  {
   "cell_type": "code",
   "execution_count": 12,
   "metadata": {
    "collapsed": false
   },
   "outputs": [
    {
     "name": "stdout",
     "output_type": "stream",
     "text": [
      "N=0     links went bad=6     links went good=4     unchanged=76\n",
      "N=1     links went bad=1     links went good=0     unchanged=85\n",
      "N=2     links went bad=1     links went good=0     unchanged=85\n",
      "N=3     links went bad=1     links went good=0     unchanged=85\n",
      "N=4     links went bad=1     links went good=0     unchanged=85\n",
      "N=5     links went bad=0     links went good=0     unchanged=86\n",
      "N=6     links went bad=0     links went good=0     unchanged=86\n",
      "N=7     links went bad=0     links went good=0     unchanged=86\n",
      "N=8     links went bad=0     links went good=0     unchanged=86\n",
      "N=9     links went bad=0     links went good=0     unchanged=86\n"
     ]
    }
   ],
   "source": [
    "for N in range(10):\n",
    "    count_worse = 0\n",
    "    count_better = 0\n",
    "    count_stable = 0\n",
    "    for ip in TN_delta:\n",
    "        if TN_delta[ip] > N:\n",
    "            count_worse += 1\n",
    "        elif TN_delta[ip] < -N:\n",
    "            count_better += 1\n",
    "        else:\n",
    "            count_stable += 1\n",
    "    print('N=%d     links went bad=%d     links went good=%d     unchanged=%d' % (N, count_worse, count_better, count_stable))"
   ]
  },
  {
   "cell_type": "markdown",
   "metadata": {},
   "source": [
    "## Let's use N=5 for now, and we will tune later"
   ]
  },
  {
   "cell_type": "code",
   "execution_count": 13,
   "metadata": {
    "collapsed": false
   },
   "outputs": [
    {
     "name": "stdout",
     "output_type": "stream",
     "text": [
      "--- The ip of the site(s) which got worse:\n",
      "['159.93.225.211']\n",
      "--- The ip of the site(s) which got better:\n",
      "[]\n"
     ]
    }
   ],
   "source": [
    "N = 5\n",
    "\n",
    "ip_list_worse = []\n",
    "ip_list_better = []\n",
    "\n",
    "for ip in TN_delta:\n",
    "    if TN_delta[ip] >= N:\n",
    "        ip_list_worse.append(ip)\n",
    "    elif TN_delta[ip] <= -N:\n",
    "        ip_list_better.append(ip)\n",
    "\n",
    "print('--- The ip of the site(s) which got worse:')\n",
    "print(ip_list_worse)\n",
    "print('--- The ip of the site(s) which got better:')\n",
    "print(ip_list_better)"
   ]
  },
  {
   "cell_type": "markdown",
   "metadata": {},
   "source": [
    "## Generate the dictionary: key = site name, value = a list of relevant user emails"
   ]
  },
  {
   "cell_type": "code",
   "execution_count": 14,
   "metadata": {
    "collapsed": false,
    "scrolled": true
   },
   "outputs": [
    {
     "data": {
      "text/plain": [
       "{'AGLT2': ['ilijav@gmail.com', 'marian.babik@cern.ch'],\n",
       " 'Australia-ATLAS': ['ilijav@gmail.com', 'marian.babik@cern.ch'],\n",
       " 'BEIJING-LCG2': ['ilijav@gmail.com', 'marian.babik@cern.ch'],\n",
       " 'BU_ATLAS_Tier2': ['ilijav@gmail.com', 'marian.babik@cern.ch'],\n",
       " 'CA-SCINET-T2': ['ilijav@gmail.com', 'marian.babik@cern.ch'],\n",
       " 'CA-VICTORIA-WESTGRID-T2': ['ilijav@gmail.com', 'marian.babik@cern.ch'],\n",
       " 'CERN-PROD': ['ilijav@gmail.com', 'marian.babik@cern.ch'],\n",
       " 'CSCS-LCG2': ['ilijav@gmail.com', 'marian.babik@cern.ch'],\n",
       " 'DESY-HH': ['ilijav@gmail.com', 'marian.babik@cern.ch'],\n",
       " 'DESY-ZN': ['ilijav@gmail.com', 'marian.babik@cern.ch'],\n",
       " 'EELA-UTFSM': ['ilijav@gmail.com', 'marian.babik@cern.ch'],\n",
       " 'FI_HIP_T2': ['ilijav@gmail.com', 'marian.babik@cern.ch'],\n",
       " 'FMPhI-UNIBA': ['ilijav@gmail.com', 'marian.babik@cern.ch'],\n",
       " 'FZK-LCG2': ['ilijav@gmail.com', 'marian.babik@cern.ch'],\n",
       " 'GLOW': ['ilijav@gmail.com', 'marian.babik@cern.ch'],\n",
       " 'GRIF': ['ilijav@gmail.com', 'marian.babik@cern.ch'],\n",
       " 'Hephy-Vienna': ['ilijav@gmail.com', 'marian.babik@cern.ch'],\n",
       " 'IEPSAS-Kosice': ['ilijav@gmail.com', 'marian.babik@cern.ch'],\n",
       " 'IFIC-LCG2': ['ilijav@gmail.com', 'marian.babik@cern.ch'],\n",
       " 'IN2P3-CC': ['ilijav@gmail.com', 'marian.babik@cern.ch'],\n",
       " 'IN2P3-CPPM': ['ilijav@gmail.com', 'marian.babik@cern.ch'],\n",
       " 'IN2P3-IRES': ['ilijav@gmail.com', 'marian.babik@cern.ch'],\n",
       " 'IN2P3-LAPP': ['ilijav@gmail.com', 'marian.babik@cern.ch'],\n",
       " 'IN2P3-LPC': ['ilijav@gmail.com', 'marian.babik@cern.ch'],\n",
       " 'IN2P3-LPSC': ['ilijav@gmail.com', 'marian.babik@cern.ch'],\n",
       " 'INDIACMS-TIFR': ['ilijav@gmail.com', 'marian.babik@cern.ch'],\n",
       " 'INFN-MILANO-ATLASC': ['ilijav@gmail.com', 'marian.babik@cern.ch'],\n",
       " 'INFN-NAPOLI-ATLAS': ['ilijav@gmail.com', 'marian.babik@cern.ch'],\n",
       " 'INFN-ROMA1': ['ilijav@gmail.com', 'marian.babik@cern.ch'],\n",
       " 'INFN-T1': ['ilijav@gmail.com', 'marian.babik@cern.ch'],\n",
       " 'JINR-LCG2': ['ilijav@gmail.com', 'marian.babik@cern.ch'],\n",
       " 'JINR-T1': ['ilijav@gmail.com', 'marian.babik@cern.ch'],\n",
       " 'MWT2': ['ilijav@gmail.com', 'marian.babik@cern.ch'],\n",
       " 'NCG-INGRID-PT': ['ilijav@gmail.com', 'marian.babik@cern.ch'],\n",
       " 'Nebraska': ['ilijav@gmail.com', 'marian.babik@cern.ch'],\n",
       " 'OU_OCHEP_SWT2': ['ilijav@gmail.com', 'marian.babik@cern.ch'],\n",
       " 'RAL-LCG2': ['ilijav@gmail.com', 'marian.babik@cern.ch'],\n",
       " 'RO-02-NIPNE': ['ilijav@gmail.com', 'marian.babik@cern.ch'],\n",
       " 'RO-07-NIPNE': ['ilijav@gmail.com', 'marian.babik@cern.ch'],\n",
       " 'RRC-KI': ['ilijav@gmail.com', 'marian.babik@cern.ch'],\n",
       " 'RRC-KI-T1': ['ilijav@gmail.com', 'marian.babik@cern.ch'],\n",
       " 'RU-Protvino-IHEP': ['ilijav@gmail.com', 'marian.babik@cern.ch'],\n",
       " 'SARA-MATRIX': ['ilijav@gmail.com', 'marian.babik@cern.ch'],\n",
       " 'SFU-LCG2': ['ilijav@gmail.com', 'marian.babik@cern.ch'],\n",
       " 'SPRACE': ['ilijav@gmail.com', 'marian.babik@cern.ch'],\n",
       " 'TECHNION-HEP': ['ilijav@gmail.com', 'marian.babik@cern.ch'],\n",
       " 'TRIUMF-LCG2': ['ilijav@gmail.com', 'marian.babik@cern.ch'],\n",
       " 'UAM-LCG2': ['ilijav@gmail.com', 'marian.babik@cern.ch'],\n",
       " 'UFlorida-HPC': ['ilijav@gmail.com', 'marian.babik@cern.ch'],\n",
       " 'UKI-LT2-QMUL': ['ilijav@gmail.com', 'marian.babik@cern.ch'],\n",
       " 'UKI-LT2-RHUL': ['ilijav@gmail.com', 'marian.babik@cern.ch'],\n",
       " 'UKI-LT2-UCL-HEP': ['ilijav@gmail.com', 'marian.babik@cern.ch'],\n",
       " 'UKI-NORTHGRID-LANCS-HEP': ['ilijav@gmail.com', 'marian.babik@cern.ch'],\n",
       " 'UKI-NORTHGRID-LIV-HEP': ['ilijav@gmail.com', 'marian.babik@cern.ch'],\n",
       " 'UKI-NORTHGRID-MAN-HEP': ['ilijav@gmail.com', 'marian.babik@cern.ch'],\n",
       " 'UKI-NORTHGRID-SHEF-HEP': ['ilijav@gmail.com', 'marian.babik@cern.ch'],\n",
       " 'UKI-SCOTGRID-DURHAM': ['ilijav@gmail.com', 'marian.babik@cern.ch'],\n",
       " 'UKI-SCOTGRID-ECDF': ['ilijav@gmail.com', 'marian.babik@cern.ch'],\n",
       " 'UKI-SCOTGRID-GLASGOW': ['ilijav@gmail.com', 'marian.babik@cern.ch'],\n",
       " 'UKI-SOUTHGRID-BHAM-HEP': ['ilijav@gmail.com', 'marian.babik@cern.ch'],\n",
       " 'UKI-SOUTHGRID-BRIS-HEP': ['ilijav@gmail.com', 'marian.babik@cern.ch'],\n",
       " 'UKI-SOUTHGRID-CAM-HEP': ['ilijav@gmail.com', 'marian.babik@cern.ch'],\n",
       " 'UKI-SOUTHGRID-OX-HEP': ['ilijav@gmail.com', 'marian.babik@cern.ch'],\n",
       " 'UKI-SOUTHGRID-RALPP': ['ilijav@gmail.com', 'marian.babik@cern.ch'],\n",
       " 'UKI-SOUTHGRID-SUSX': ['ilijav@gmail.com', 'marian.babik@cern.ch'],\n",
       " 'UNI-FREIBURG': ['ilijav@gmail.com', 'marian.babik@cern.ch'],\n",
       " 'UTA_SWT2': ['ilijav@gmail.com', 'marian.babik@cern.ch'],\n",
       " 'UnknownSite': ['ilijav@gmail.com', 'marian.babik@cern.ch'],\n",
       " 'Vanderbilt': ['ilijav@gmail.com', 'marian.babik@cern.ch'],\n",
       " 'WT2': ['ilijav@gmail.com', 'marian.babik@cern.ch'],\n",
       " 'pic': ['ilijav@gmail.com', 'marian.babik@cern.ch'],\n",
       " 'praguelcg2': ['ilijav@gmail.com', 'marian.babik@cern.ch'],\n",
       " 'wuppertalprod': ['ilijav@gmail.com', 'marian.babik@cern.ch']}"
      ]
     },
     "execution_count": 14,
     "metadata": {},
     "output_type": "execute_result"
    }
   ],
   "source": [
    "user_interest_site_name = {}\n",
    "\n",
    "def reg_user_interest_site_name(sitename, email):\n",
    "    if sitename in user_interest_site_name:\n",
    "        user_interest_site_name[sitename].append(email)\n",
    "    else:\n",
    "        user_interest_site_name[sitename] = [email]\n",
    "\n",
    "testName = 'Packet loss increase for link(s) where your site is a source or destination'\n",
    "\n",
    "subscribe_records = S.getSubscribers_withSiteName(testName)\n",
    "\n",
    "# Handle blank answer, one site, several sites separated by comma, wildcard such as prefix* etc.\n",
    "for record in subscribe_records:\n",
    "    email = record[1]\n",
    "    sitenames = record[3].strip()\n",
    "    if len(sitenames) == 0:\n",
    "        sitenames = '.'  # Handle blank answer, so match all site names\n",
    "    sitenames = [x.strip().replace('*', '.') for x in sitenames.split(',')]  # Handle several site names, and wildcard\n",
    "    for sn in sitenames:\n",
    "        p = re.compile(sn, re.IGNORECASE)\n",
    "        for sitename in site_name_ip:\n",
    "            if p.match(sitename):\n",
    "                reg_user_interest_site_name(sitename, email)\n",
    "\n",
    "user_interest_site_name"
   ]
  },
  {
   "cell_type": "markdown",
   "metadata": {},
   "source": [
    "## Generate the dictionary: key = site ip, value = a list of relevant user emails"
   ]
  },
  {
   "cell_type": "code",
   "execution_count": 15,
   "metadata": {
    "collapsed": false
   },
   "outputs": [
    {
     "data": {
      "text/plain": [
       "{'109.105.125.232': ['ilijav@gmail.com', 'marian.babik@cern.ch'],\n",
       " '128.142.223.247': ['ilijav@gmail.com', 'marian.babik@cern.ch'],\n",
       " '128.227.221.44': ['ilijav@gmail.com', 'marian.babik@cern.ch'],\n",
       " '128.40.4.25': ['ilijav@gmail.com', 'marian.babik@cern.ch'],\n",
       " '129.107.255.29': ['ilijav@gmail.com', 'marian.babik@cern.ch'],\n",
       " '129.15.40.231': ['ilijav@gmail.com', 'marian.babik@cern.ch'],\n",
       " '129.215.213.70': ['ilijav@gmail.com', 'marian.babik@cern.ch'],\n",
       " '129.93.239.148': ['ilijav@gmail.com', 'marian.babik@cern.ch'],\n",
       " '130.209.239.124': ['ilijav@gmail.com', 'marian.babik@cern.ch'],\n",
       " '130.246.176.109': ['ilijav@gmail.com', 'marian.babik@cern.ch'],\n",
       " '130.246.47.129': ['ilijav@gmail.com', 'marian.babik@cern.ch'],\n",
       " '131.111.66.196': ['ilijav@gmail.com', 'marian.babik@cern.ch'],\n",
       " '131.154.254.12': ['ilijav@gmail.com', 'marian.babik@cern.ch'],\n",
       " '131.169.98.30': ['ilijav@gmail.com', 'marian.babik@cern.ch'],\n",
       " '132.195.125.213': ['ilijav@gmail.com', 'marian.babik@cern.ch'],\n",
       " '132.230.202.235': ['ilijav@gmail.com', 'marian.babik@cern.ch'],\n",
       " '134.158.103.10': ['ilijav@gmail.com', 'marian.babik@cern.ch'],\n",
       " '134.158.123.183': ['ilijav@gmail.com', 'marian.babik@cern.ch'],\n",
       " '134.158.132.200': ['ilijav@gmail.com', 'marian.babik@cern.ch'],\n",
       " '134.158.150.245': ['ilijav@gmail.com', 'marian.babik@cern.ch'],\n",
       " '134.158.159.85': ['ilijav@gmail.com', 'marian.babik@cern.ch'],\n",
       " '134.158.20.192': ['ilijav@gmail.com', 'marian.babik@cern.ch'],\n",
       " '134.158.73.243': ['ilijav@gmail.com', 'marian.babik@cern.ch'],\n",
       " '134.219.225.13': ['ilijav@gmail.com', 'marian.babik@cern.ch'],\n",
       " '134.61.24.193': ['ilijav@gmail.com', 'marian.babik@cern.ch'],\n",
       " '134.79.118.72': ['ilijav@gmail.com', 'marian.babik@cern.ch'],\n",
       " '137.222.74.15': ['ilijav@gmail.com', 'marian.babik@cern.ch'],\n",
       " '138.253.60.82': ['ilijav@gmail.com', 'marian.babik@cern.ch'],\n",
       " '139.184.80.18': ['ilijav@gmail.com', 'marian.babik@cern.ch'],\n",
       " '141.108.35.18': ['ilijav@gmail.com', 'marian.babik@cern.ch'],\n",
       " '141.34.200.28': ['ilijav@gmail.com', 'marian.babik@cern.ch'],\n",
       " '142.150.19.61': ['ilijav@gmail.com', 'marian.babik@cern.ch'],\n",
       " '143.167.3.116': ['ilijav@gmail.com', 'marian.babik@cern.ch'],\n",
       " '144.16.111.26': ['ilijav@gmail.com', 'marian.babik@cern.ch'],\n",
       " '144.206.236.189': ['ilijav@gmail.com', 'marian.babik@cern.ch'],\n",
       " '144.206.237.142': ['ilijav@gmail.com', 'marian.babik@cern.ch'],\n",
       " '144.92.180.75': ['ilijav@gmail.com', 'marian.babik@cern.ch'],\n",
       " '145.100.17.8': ['ilijav@gmail.com', 'marian.babik@cern.ch'],\n",
       " '146.83.90.7': ['ilijav@gmail.com', 'marian.babik@cern.ch'],\n",
       " '147.156.116.40': ['ilijav@gmail.com', 'marian.babik@cern.ch'],\n",
       " '147.213.204.112': ['ilijav@gmail.com', 'marian.babik@cern.ch'],\n",
       " '147.231.25.192': ['ilijav@gmail.com', 'marian.babik@cern.ch'],\n",
       " '148.187.64.25': ['ilijav@gmail.com', 'marian.babik@cern.ch'],\n",
       " '149.165.225.223': ['ilijav@gmail.com', 'marian.babik@cern.ch'],\n",
       " '150.244.247.2': ['ilijav@gmail.com', 'marian.babik@cern.ch'],\n",
       " '152.84.101.141': ['ilijav@gmail.com', 'marian.babik@cern.ch'],\n",
       " '158.195.14.26': ['ilijav@gmail.com', 'marian.babik@cern.ch'],\n",
       " '159.93.225.211': ['ilijav@gmail.com', 'marian.babik@cern.ch'],\n",
       " '159.93.229.151': ['ilijav@gmail.com', 'marian.babik@cern.ch'],\n",
       " '161.116.81.235': ['ilijav@gmail.com', 'marian.babik@cern.ch'],\n",
       " '163.1.5.210': ['ilijav@gmail.com', 'marian.babik@cern.ch'],\n",
       " '169.228.130.40': ['ilijav@gmail.com', 'marian.babik@cern.ch'],\n",
       " '18.12.1.171': ['ilijav@gmail.com', 'marian.babik@cern.ch'],\n",
       " '192.108.47.12': ['ilijav@gmail.com', 'marian.babik@cern.ch'],\n",
       " '192.111.108.112': ['ilijav@gmail.com', 'marian.babik@cern.ch'],\n",
       " '192.114.101.125': ['ilijav@gmail.com', 'marian.babik@cern.ch'],\n",
       " '192.135.14.32': ['ilijav@gmail.com', 'marian.babik@cern.ch'],\n",
       " '192.170.227.160': ['ilijav@gmail.com', 'marian.babik@cern.ch'],\n",
       " '192.231.127.41': ['ilijav@gmail.com', 'marian.babik@cern.ch'],\n",
       " '192.41.230.59': ['ilijav@gmail.com', 'marian.babik@cern.ch'],\n",
       " '192.41.236.31': ['ilijav@gmail.com', 'marian.babik@cern.ch'],\n",
       " '192.5.207.251': ['ilijav@gmail.com', 'marian.babik@cern.ch'],\n",
       " '192.54.207.250': ['ilijav@gmail.com', 'marian.babik@cern.ch'],\n",
       " '193.109.172.188': ['ilijav@gmail.com', 'marian.babik@cern.ch'],\n",
       " '193.136.75.146': ['ilijav@gmail.com', 'marian.babik@cern.ch'],\n",
       " '193.144.80.12': ['ilijav@gmail.com', 'marian.babik@cern.ch'],\n",
       " '193.170.243.215': ['ilijav@gmail.com', 'marian.babik@cern.ch'],\n",
       " '193.205.76.76': ['ilijav@gmail.com', 'marian.babik@cern.ch'],\n",
       " '193.48.83.165': ['ilijav@gmail.com', 'marian.babik@cern.ch'],\n",
       " '193.48.99.76': ['ilijav@gmail.com', 'marian.babik@cern.ch'],\n",
       " '193.60.193.3': ['ilijav@gmail.com', 'marian.babik@cern.ch'],\n",
       " '193.62.56.9': ['ilijav@gmail.com', 'marian.babik@cern.ch'],\n",
       " '194.190.165.192': ['ilijav@gmail.com', 'marian.babik@cern.ch'],\n",
       " '194.36.11.38': ['ilijav@gmail.com', 'marian.babik@cern.ch'],\n",
       " '194.80.35.169': ['ilijav@gmail.com', 'marian.babik@cern.ch'],\n",
       " '195.194.105.178': ['ilijav@gmail.com', 'marian.babik@cern.ch'],\n",
       " '200.136.80.20': ['ilijav@gmail.com', 'marian.babik@cern.ch'],\n",
       " '202.122.32.170': ['ilijav@gmail.com', 'marian.babik@cern.ch'],\n",
       " '206.12.154.60': ['ilijav@gmail.com', 'marian.babik@cern.ch'],\n",
       " '206.12.24.251': ['ilijav@gmail.com', 'marian.babik@cern.ch'],\n",
       " '206.12.9.2': ['ilijav@gmail.com', 'marian.babik@cern.ch'],\n",
       " '62.40.126.129': ['ilijav@gmail.com', 'marian.babik@cern.ch'],\n",
       " '72.36.96.4': ['ilijav@gmail.com', 'marian.babik@cern.ch'],\n",
       " '81.180.86.38': ['ilijav@gmail.com', 'marian.babik@cern.ch'],\n",
       " '81.180.86.64': ['ilijav@gmail.com', 'marian.babik@cern.ch'],\n",
       " '90.147.67.252': ['ilijav@gmail.com', 'marian.babik@cern.ch']}"
      ]
     },
     "execution_count": 15,
     "metadata": {},
     "output_type": "execute_result"
    }
   ],
   "source": [
    "user_interest_site_ip = {}\n",
    "\n",
    "def reg_user_interest_site_ip(siteip, email):\n",
    "    if siteip in user_interest_site_ip:\n",
    "        user_interest_site_ip[siteip].append(email)\n",
    "    else:\n",
    "        user_interest_site_ip[siteip] = [email]\n",
    "\n",
    "for sitename in user_interest_site_name:\n",
    "    for siteip in site_name_ip[sitename]:\n",
    "        for email in user_interest_site_name[sitename]:\n",
    "            reg_user_interest_site_ip(siteip, email)\n",
    "\n",
    "#user_interest_site_ip"
   ]
  },
  {
   "cell_type": "markdown",
   "metadata": {},
   "source": [
    "## The variable user_alert_all holds all the needed info to send an email to a specific user"
   ]
  },
  {
   "cell_type": "code",
   "execution_count": 16,
   "metadata": {
    "collapsed": false
   },
   "outputs": [],
   "source": [
    "user_alert_all = S.getAllUserBasicInfo()\n",
    "#user_alert_all"
   ]
  },
  {
   "cell_type": "markdown",
   "metadata": {},
   "source": [
    "## Generate info for sending alert emails (for the sites getting worse)"
   ]
  },
  {
   "cell_type": "code",
   "execution_count": 17,
   "metadata": {
    "collapsed": false
   },
   "outputs": [
    {
     "name": "stdout",
     "output_type": "stream",
     "text": [
      "The site JINR-LCG2 (159.93.225.211)'s links got worse, total number from 2 to 7 links.\n",
      "These are all the bad links for the past hour:\n",
      "    UnknownSite (18.12.1.171)  --->  This site \n",
      "    UFlorida-HPC (128.227.221.44)  --->  This site \n",
      "    Nebraska (129.93.239.148)  --->  This site \n",
      "    Vanderbilt (192.111.108.112)  --->  This site \n",
      "    SPRACE (200.136.80.20)  --->  This site \n",
      "    GLOW (144.92.180.75)  --->  This site \n",
      "    UnknownSite (169.228.130.40)  --->  This site \n",
      "\n"
     ]
    }
   ],
   "source": [
    "for ip in ip_list_worse:\n",
    "    text = \"The site %s (%s)'s links got worse, total number from %d to %d links.\\n\" % (site_ip_name[ip], ip, TN_old.get(ip,0), TN_new.get(ip,0))\n",
    "    text += \"These are all the bad links for the past hour:\\n\"\n",
    "    for alarm in hits_new:\n",
    "        src_ip = alarm['_source']['src']\n",
    "        dest_ip = alarm['_source']['dest']\n",
    "        if src_ip == ip:\n",
    "            text += '    This site  --->  %s (%s) \\n' % (site_ip_name[dest_ip], dest_ip)\n",
    "    for alarm in hits_new:\n",
    "        src_ip = alarm['_source']['src']\n",
    "        dest_ip = alarm['_source']['dest']\n",
    "        if dest_ip == ip:\n",
    "            text += '    %s (%s)  --->  This site \\n' % (site_ip_name[src_ip], src_ip)\n",
    "    print(text)\n",
    "    for email in user_interest_site_ip[ip]:\n",
    "        user_alert_all[email]['alerts'].append(text)\n",
    "\n",
    "# user_alert_all"
   ]
  },
  {
   "cell_type": "markdown",
   "metadata": {},
   "source": [
    "## Generate info for sending alert emails (for the sites getting better)"
   ]
  },
  {
   "cell_type": "code",
   "execution_count": 18,
   "metadata": {
    "collapsed": false
   },
   "outputs": [],
   "source": [
    "for ip in ip_list_better:\n",
    "    text = \"The site %s (%s)'s links got improved, total number from %d to %d links.\\n\" % (site_ip_name[ip], ip, TN_old.get(ip,0), TN_new.get(ip,0))\n",
    "    text += \"These are all the bad links for the past hour:\\n\"\n",
    "    for alarm in hits_new:\n",
    "        src_ip = alarm['_source']['src']\n",
    "        dest_ip = alarm['_source']['dest']\n",
    "        if src_ip == ip:\n",
    "            text += '    This site  --->  %s (%s) \\n' % (site_ip_name[dest_ip], dest_ip)\n",
    "    for alarm in hits_new:\n",
    "        src_ip = alarm['_source']['src']\n",
    "        dest_ip = alarm['_source']['dest']\n",
    "        if dest_ip == ip:\n",
    "            text += '    %s (%s)  --->  This site \\n' % (site_ip_name[src_ip], src_ip)\n",
    "    print(text)\n",
    "    for email in user_interest_site_ip[ip]:\n",
    "        user_alert_all[email]['alerts'].append(text)\n",
    "\n",
    "# user_alert_all"
   ]
  },
  {
   "cell_type": "markdown",
   "metadata": {},
   "source": [
    "## Send out alert email customized for each user"
   ]
  },
  {
   "cell_type": "code",
   "execution_count": 19,
   "metadata": {
    "collapsed": false
   },
   "outputs": [
    {
     "name": "stdout",
     "output_type": "stream",
     "text": [
      "Dear Ilija Vukotic,\n",
      "\n",
      "\tthis mail is to let you that there was a significant change in packet loss detected by PerfSONAR.\n",
      "\n",
      "The site JINR-LCG2 (159.93.225.211)'s links got worse, total number from 2 to 7 links.\n",
      "These are all the bad links for the past hour:\n",
      "    UnknownSite (18.12.1.171)  --->  This site \n",
      "    UFlorida-HPC (128.227.221.44)  --->  This site \n",
      "    Nebraska (129.93.239.148)  --->  This site \n",
      "    Vanderbilt (192.111.108.112)  --->  This site \n",
      "    SPRACE (200.136.80.20)  --->  This site \n",
      "    GLOW (144.92.180.75)  --->  This site \n",
      "    UnknownSite (169.228.130.40)  --->  This site \n",
      "\n",
      "\n",
      "Best regards,\n",
      "ATLAS AAS\n",
      "\n",
      " To change your alerts preferences please you the following link:\n",
      "https://docs.google.com/forms/d/e/1FAIpQLSfwwtAvMrqp4Ot_LYfmNu75_v33dtAxiXg7ZvVdn1X5v7TEgg/viewform?edit2=2_ABaOnuezuteui57-PrydNWrUuZf5fmChNqtjEeDab6h5V6lik_-x790uKsPu5Q\n",
      "Content-Type: text/plain; charset=\"us-ascii\"\n",
      "MIME-Version: 1.0\n",
      "Content-Transfer-Encoding: 7bit\n",
      "Subject: Packet loss increase for link(s) where your site is a source or destination\n",
      "From: AAAS@mwt2.org\n",
      "To: ilijav@gmail.com\n",
      "\n",
      "Dear Ilija Vukotic,\n",
      "\n",
      "\tthis mail is to let you that there was a significant change in packet loss detected by PerfSONAR.\n",
      "\n",
      "The site JINR-LCG2 (159.93.225.211)'s links got worse, total number from 2 to 7 links.\n",
      "These are all the bad links for the past hour:\n",
      "    UnknownSite (18.12.1.171)  --->  This site \n",
      "    UFlorida-HPC (128.227.221.44)  --->  This site \n",
      "    Nebraska (129.93.239.148)  --->  This site \n",
      "    Vanderbilt (192.111.108.112)  --->  This site \n",
      "    SPRACE (200.136.80.20)  --->  This site \n",
      "    GLOW (144.92.180.75)  --->  This site \n",
      "    UnknownSite (169.228.130.40)  --->  This site \n",
      "\n",
      "\n",
      "Best regards,\n",
      "ATLAS AAS\n",
      "\n",
      " To change your alerts preferences please you the following link:\n",
      "https://docs.google.com/forms/d/e/1FAIpQLSfwwtAvMrqp4Ot_LYfmNu75_v33dtAxiXg7ZvVdn1X5v7TEgg/viewform?edit2=2_ABaOnuezuteui57-PrydNWrUuZf5fmChNqtjEeDab6h5V6lik_-x790uKsPu5Q\n",
      "Dear Marian Babik,\n",
      "\n",
      "\tthis mail is to let you that there was a significant change in packet loss detected by PerfSONAR.\n",
      "\n",
      "The site JINR-LCG2 (159.93.225.211)'s links got worse, total number from 2 to 7 links.\n",
      "These are all the bad links for the past hour:\n",
      "    UnknownSite (18.12.1.171)  --->  This site \n",
      "    UFlorida-HPC (128.227.221.44)  --->  This site \n",
      "    Nebraska (129.93.239.148)  --->  This site \n",
      "    Vanderbilt (192.111.108.112)  --->  This site \n",
      "    SPRACE (200.136.80.20)  --->  This site \n",
      "    GLOW (144.92.180.75)  --->  This site \n",
      "    UnknownSite (169.228.130.40)  --->  This site \n",
      "\n",
      "\n",
      "Best regards,\n",
      "ATLAS AAS\n",
      "\n",
      " To change your alerts preferences please you the following link:\n",
      "https://docs.google.com/forms/d/e/1FAIpQLSfwwtAvMrqp4Ot_LYfmNu75_v33dtAxiXg7ZvVdn1X5v7TEgg/viewform?edit2=2_ABaOnudgR9Vt18--Jd7nn_VU0BgZZVVjGrfGPDf5qS7pUrxmkFMUcNPVVUGVtw\n",
      "Content-Type: text/plain; charset=\"us-ascii\"\n",
      "MIME-Version: 1.0\n",
      "Content-Transfer-Encoding: 7bit\n",
      "Subject: Packet loss increase for link(s) where your site is a source or destination\n",
      "From: AAAS@mwt2.org\n",
      "To: marian.babik@cern.ch\n",
      "\n",
      "Dear Marian Babik,\n",
      "\n",
      "\tthis mail is to let you that there was a significant change in packet loss detected by PerfSONAR.\n",
      "\n",
      "The site JINR-LCG2 (159.93.225.211)'s links got worse, total number from 2 to 7 links.\n",
      "These are all the bad links for the past hour:\n",
      "    UnknownSite (18.12.1.171)  --->  This site \n",
      "    UFlorida-HPC (128.227.221.44)  --->  This site \n",
      "    Nebraska (129.93.239.148)  --->  This site \n",
      "    Vanderbilt (192.111.108.112)  --->  This site \n",
      "    SPRACE (200.136.80.20)  --->  This site \n",
      "    GLOW (144.92.180.75)  --->  This site \n",
      "    UnknownSite (169.228.130.40)  --->  This site \n",
      "\n",
      "\n",
      "Best regards,\n",
      "ATLAS AAS\n",
      "\n",
      " To change your alerts preferences please you the following link:\n",
      "https://docs.google.com/forms/d/e/1FAIpQLSfwwtAvMrqp4Ot_LYfmNu75_v33dtAxiXg7ZvVdn1X5v7TEgg/viewform?edit2=2_ABaOnudgR9Vt18--Jd7nn_VU0BgZZVVjGrfGPDf5qS7pUrxmkFMUcNPVVUGVtw\n"
     ]
    }
   ],
   "source": [
    "for email in user_alert_all:\n",
    "    u=user_alert_all[email]\n",
    "    if len(u['alerts'])>0:\n",
    "        body = 'Dear ' + u['name']+',\\n\\n'\n",
    "        body = body + '\\tthis mail is to let you that there was a significant change in packet loss detected by PerfSONAR.\\n\\n'\n",
    "        for a in u['alerts']:\n",
    "            body = body + a + '\\n'\n",
    "        body = body + '\\nBest regards,\\nATLAS AAS'\n",
    "        body = body + '\\n\\n To change your alerts preferences please you the following link:\\n'+u['link']\n",
    "        #print(body)\n",
    "        A.sendMail(testName, u['email'], body)\n",
    "        A.addAlert(testName, u['name'],'large packet loss')"
   ]
  },
  {
   "cell_type": "code",
   "execution_count": null,
   "metadata": {
    "collapsed": true
   },
   "outputs": [],
   "source": []
  }
 ],
 "metadata": {
  "kernelspec": {
   "display_name": "Python 3",
   "language": "python",
   "name": "python3"
  },
  "language_info": {
   "codemirror_mode": {
    "name": "ipython",
    "version": 3
   },
   "file_extension": ".py",
   "mimetype": "text/x-python",
   "name": "python",
   "nbconvert_exporter": "python",
   "pygments_lexer": "ipython3",
   "version": "3.5.1"
  }
 },
 "nbformat": 4,
 "nbformat_minor": 0
}
