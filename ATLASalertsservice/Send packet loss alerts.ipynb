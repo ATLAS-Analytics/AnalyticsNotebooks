{
 "cells": [
  {
   "cell_type": "markdown",
   "metadata": {},
   "source": [
    "# Send alert emails about packet loss based on alarms and user subscribing"
   ]
  },
  {
   "cell_type": "markdown",
   "metadata": {},
   "source": [
    "This notebook is run by a cron job every hour, and its purpose is to send alert emails about packet loss for user specified site(s) based on alarms and user subscribing records. \n",
    "\n",
    "This notebook works following this procedure: \n",
    "\n",
    "(1) Get all the alarms of type packetloss for the past hour (call it NEW) and past past hour (call it OLD) from Elasticsearch\n",
    "\n",
    "(2) Get the user subscribing records from Google Sheets calling APIs in subscribers.py\n",
    "\n",
    "(3) Process the alarms data and subscribing data to make them easier to use for this monitoring task\n",
    "\n",
    "(4) TN_old means total number of alarmed links involving a specific site ip (no matter from it or to it) for OLD time period\n",
    "\n",
    "(5) TN_new means total number of alarmed links involving a specific site ip (no matter from it or to it) for NEW time period\n",
    "\n",
    "(6) TN_delta means the change of value from TN_old to TN_new. We need to compare TN_delta v.s. +N and v.s. -N (tune N later)\n",
    "\n",
    "(7) If a site ip never occurs in NEW and OLD, then it must be totally fine, and we do not care about it at all (TN_old == TN_new == TN_delta == 0)\n",
    "\n",
    "(8) If a site ip occurs in NEW or OLD or both, then we may have TN_delta > 0 or == 0 or < 0 for this site ip, so we want to take a closer look at this site ip, so we do (9) (10) (11)\n",
    "\n",
    "(9) If TN_delta >= +N, then overall the links connected to this site are becoming worse, so we send email\n",
    "\n",
    "(10) If TN_delta <= -N, then overall the links connected to this site are becoming better, so we send email\n",
    "\n",
    "(11) Otherwise, the overall status for this site is not changing or just changing slightly, so we do not send email\n",
    "\n",
    "(12) In order to send email, we need a dictionary whose key is site ip and value is a list of relevant user emails\n",
    "\n"
   ]
  },
  {
   "cell_type": "markdown",
   "metadata": {},
   "source": [
    "## Import necessary packages and classes"
   ]
  },
  {
   "cell_type": "code",
   "execution_count": 1,
   "metadata": {
    "collapsed": true
   },
   "outputs": [],
   "source": [
    "# Retrieve user subscribing records from google sheets. Using Xinran version based on Ilija version.\n",
    "from subscribers import subscribers\n",
    "google = subscribers()\n",
    "\n",
    "# Related to Elasticsearch queries\n",
    "from elasticsearch import Elasticsearch, exceptions as es_exceptions, helpers\n",
    "import datetime\n",
    "\n",
    "# Regular Expression\n",
    "import re"
   ]
  },
  {
   "cell_type": "markdown",
   "metadata": {},
   "source": [
    "## Establish Elasticsearch connection"
   ]
  },
  {
   "cell_type": "code",
   "execution_count": 2,
   "metadata": {
    "collapsed": true
   },
   "outputs": [],
   "source": [
    "es = Elasticsearch(hosts=[{'host':'cl-analytics.mwt2.org', 'port':9200}],timeout=60)"
   ]
  },
  {
   "cell_type": "markdown",
   "metadata": {},
   "source": [
    "## List all alarms-yyyy.mm indices"
   ]
  },
  {
   "cell_type": "code",
   "execution_count": 3,
   "metadata": {
    "collapsed": false
   },
   "outputs": [
    {
     "name": "stdout",
     "output_type": "stream",
     "text": [
      "['alarms-2016.10', 'alarms-2016.09', 'alarms-2016.08']\n"
     ]
    }
   ],
   "source": [
    "indices = es.cat.indices(index=\"alarms-*\", h=\"index\", request_timeout=600).split('\\n')\n",
    "indices = [x for x in indices if x != '']\n",
    "indices = [x.strip() for x in indices]\n",
    "print(indices)"
   ]
  },
  {
   "cell_type": "markdown",
   "metadata": {},
   "source": [
    "## Find indices to be used"
   ]
  },
  {
   "cell_type": "code",
   "execution_count": 4,
   "metadata": {
    "collapsed": false
   },
   "outputs": [
    {
     "name": "stdout",
     "output_type": "stream",
     "text": [
      "checking for indices: alarms-2016.10 alarms-2016.10\n",
      "will use indices: ['alarms-2016.10']\n"
     ]
    }
   ],
   "source": [
    "cday = datetime.datetime.utcnow()\n",
    "pday = cday - datetime.timedelta(days=1)\n",
    "ind1 = 'alarms-%d.%02d' % (cday.year, cday.month)\n",
    "ind2 = 'alarms-%d.%02d' % (pday.year, pday.month)\n",
    "\n",
    "print('checking for indices:', ind1, ind2)\n",
    "\n",
    "ind=[]\n",
    "if ind1 in indices:\n",
    "    ind.append(ind1)\n",
    "if ind2 != ind1 and ind2 in indices and cday.hour<3:   # not necessarily 3, just indicate it is the beginning period of new day\n",
    "    ind.append(ind2)\n",
    "\n",
    "if len(ind)==0:\n",
    "    print('no current indices found. Aborting.')\n",
    "    exit\n",
    "else:\n",
    "    print('will use indices:', ind)"
   ]
  },
  {
   "cell_type": "markdown",
   "metadata": {},
   "source": [
    "## Queries to find all the alarms of type Packet Loss for the past hour and past past hour"
   ]
  },
  {
   "cell_type": "code",
   "execution_count": 5,
   "metadata": {
    "collapsed": false
   },
   "outputs": [
    {
     "name": "stdout",
     "output_type": "stream",
     "text": [
      "{'query': {'bool': {'filter': {'range': {'alarmTime': {'gt': 'now-1h'}}}, 'must': [{'term': {'_type': 'packetloss'}}]}}, 'size': 1000}\n",
      "{'query': {'bool': {'filter': {'range': {'alarmTime': {'gt': 'now-2h', 'lt': 'now-1h'}}}, 'must': [{'term': {'_type': 'packetloss'}}]}}, 'size': 1000}\n"
     ]
    }
   ],
   "source": [
    "query_new = {\n",
    "    \"size\": 1000,\n",
    "    \"query\": {\n",
    "        \"bool\": {\n",
    "            \"must\": [\n",
    "                {\"term\": { \"_type\": \"packetloss\" }}\n",
    "            ],\n",
    "            \"filter\": {\n",
    "                \"range\": {\n",
    "                    \"alarmTime\": {\n",
    "                        \"gt\": \"now-1h\"\n",
    "                    }\n",
    "                }\n",
    "            }\n",
    "        }\n",
    "    }\n",
    "}\n",
    "\n",
    "query_old = {\n",
    "    \"size\": 1000,\n",
    "    \"query\": {\n",
    "        \"bool\": {\n",
    "            \"must\": [\n",
    "                {\"term\": { \"_type\": \"packetloss\" }}\n",
    "            ],\n",
    "            \"filter\": {\n",
    "                \"range\": {\n",
    "                    \"alarmTime\": {\n",
    "                        \"gt\": \"now-2h\",\n",
    "                        \"lt\": \"now-1h\"\n",
    "                    }\n",
    "                }\n",
    "            }\n",
    "        }\n",
    "    }\n",
    "}\n",
    "\n",
    "print(query_new)\n",
    "print(query_old)"
   ]
  },
  {
   "cell_type": "markdown",
   "metadata": {},
   "source": [
    "## Execute the query"
   ]
  },
  {
   "cell_type": "code",
   "execution_count": 6,
   "metadata": {
    "collapsed": false
   },
   "outputs": [
    {
     "name": "stdout",
     "output_type": "stream",
     "text": [
      "Number of hits of new alarms: 105\n",
      "Number of hits of old alarms: 0\n"
     ]
    }
   ],
   "source": [
    "result_new = es.search(index=ind, body=query_new, request_timeout=120)\n",
    "print('Number of hits of new alarms:', result_new['hits']['total'] )\n",
    "\n",
    "result_old = es.search(index=ind, body=query_old, request_timeout=120)\n",
    "print('Number of hits of old alarms:', result_old['hits']['total'] )\n",
    "\n",
    "hits_new = result_new['hits']['hits']\n",
    "hits_old = result_old['hits']['hits']"
   ]
  },
  {
   "cell_type": "markdown",
   "metadata": {},
   "source": [
    "## Generate the two dictionaries for sites, one is from ip to name, one is from name to ip"
   ]
  },
  {
   "cell_type": "code",
   "execution_count": 7,
   "metadata": {
    "collapsed": false,
    "scrolled": true
   },
   "outputs": [
    {
     "name": "stdout",
     "output_type": "stream",
     "text": [
      "{'130.246.47.129': 'UKI-SOUTHGRID-RALPP', '192.41.230.59': 'AGLT2', '134.158.20.192': 'IN2P3-CPPM', '147.213.204.117': 'IEPSAS-Kosice', '194.190.165.192': 'RU-Protvino-IHEP', '193.205.76.76': 'UnknownSite', '132.195.125.213': 'wuppertalprod', '149.165.224.247': 'UnknownSite', '144.206.236.189': 'RRC-KI-T1', '141.108.35.18': 'INFN-ROMA1', '192.231.127.41': 'Australia-ATLAS', '194.80.35.169': 'UKI-NORTHGRID-LANCS-HEP', '143.167.3.116': 'UKI-NORTHGRID-SHEF-HEP', '193.144.80.12': 'UnknownSite', '145.100.17.8': 'SARA-MATRIX', '165.91.55.4': 'UnknownSite', '192.41.236.35': 'UnknownSite', '134.158.103.10': 'IN2P3-LAPP', '192.12.15.111': 'BNL-ATLAS', '148.187.64.25': 'CSCS-LCG2', '149.165.225.223': 'MWT2', '193.60.193.3': 'UKI-SCOTGRID-DURHAM', '202.122.32.170': 'BEIJING-LCG2', '134.61.24.193': 'UnknownSite', '131.111.66.196': 'UKI-SOUTHGRID-CAM-HEP', '163.1.5.210': 'UKI-SOUTHGRID-OX-HEP', '131.154.254.12': 'INFN-T1', '130.246.176.109': 'RAL-LCG2', '193.136.75.146': 'NCG-INGRID-PT', '137.222.74.15': 'UKI-SOUTHGRID-BRIS-HEP', '128.142.223.247': 'CERN-PROD', '129.215.213.70': 'UKI-SCOTGRID-ECDF', '72.36.96.4': 'MWT2', '146.83.90.7': 'EELA-UTFSM', '134.158.73.243': 'GRIF', '134.158.123.183': 'IN2P3-LPC', '152.84.101.141': 'UnknownSite', '192.101.161.186': 'UnknownSite', '90.147.67.252': 'INFN-NAPOLI-ATLAS', '144.92.180.75': 'GLOW', '131.169.98.30': 'DESY-HH', '81.180.86.64': 'RO-07-NIPNE', '195.194.105.178': 'UKI-NORTHGRID-MAN-HEP', '192.5.207.251': 'BU_ATLAS_Tier2', '132.230.202.235': 'UNI-FREIBURG', '141.34.200.28': 'DESY-ZN', '192.135.14.32': 'INFN-MILANO-ATLASC', '193.170.243.215': 'Hephy-Vienna', '194.36.11.38': 'UKI-LT2-QMUL', '134.158.132.200': 'GRIF', '144.206.237.142': 'RRC-KI', '193.62.56.9': 'UKI-SOUTHGRID-BHAM-HEP', '134.158.150.245': 'IN2P3-IRES', '161.116.81.235': 'UnknownSite', '193.48.99.76': 'IN2P3-CC', '192.101.107.152': 'UnknownSite', '90.147.66.50': 'UnknownSite', '158.195.14.26': 'FMPhI-UNIBA', '81.180.86.38': 'RO-02-NIPNE', '192.170.227.160': 'MWT2', '143.215.129.69': 'UnknownSite', '193.206.93.45': 'UnknownSite', '18.12.1.171': 'UnknownSite', '129.107.255.29': 'UTA_SWT2', '193.109.172.188': 'pic', '134.158.159.85': 'GRIF', '192.108.47.12': 'FZK-LCG2', '206.12.154.60': 'CA-VICTORIA-WESTGRID-T2'}\n"
     ]
    }
   ],
   "source": [
    "site_ip_name = {}\n",
    "\n",
    "for hit in hits_new:\n",
    "    info = hit['_source']\n",
    "    site_ip_name[info['src']] = info['srcSite']\n",
    "    site_ip_name[info['dest']] = info['destSite']\n",
    "\n",
    "for hit in hits_old:\n",
    "    info = hit['_source']\n",
    "    site_ip_name[info['src']] = info['srcSite']\n",
    "    site_ip_name[info['dest']] = info['destSite']\n",
    "\n",
    "print(site_ip_name)"
   ]
  },
  {
   "cell_type": "code",
   "execution_count": 8,
   "metadata": {
    "collapsed": false,
    "scrolled": true
   },
   "outputs": [
    {
     "name": "stdout",
     "output_type": "stream",
     "text": [
      "{'wuppertalprod': ['132.195.125.213'], 'RO-02-NIPNE': ['81.180.86.38'], 'BU_ATLAS_Tier2': ['192.5.207.251'], 'UKI-NORTHGRID-LANCS-HEP': ['194.80.35.169'], 'UTA_SWT2': ['129.107.255.29'], 'UKI-SOUTHGRID-OX-HEP': ['163.1.5.210'], 'UNI-FREIBURG': ['132.230.202.235'], 'INFN-T1': ['131.154.254.12'], 'EELA-UTFSM': ['146.83.90.7'], 'AGLT2': ['192.41.230.59'], 'RO-07-NIPNE': ['81.180.86.64'], 'UKI-SCOTGRID-ECDF': ['129.215.213.70'], 'RRC-KI': ['144.206.237.142'], 'CA-VICTORIA-WESTGRID-T2': ['206.12.154.60'], 'pic': ['193.109.172.188'], 'MWT2': ['149.165.225.223', '72.36.96.4', '192.170.227.160'], 'UnknownSite': ['193.205.76.76', '149.165.224.247', '193.144.80.12', '165.91.55.4', '192.41.236.35', '134.61.24.193', '152.84.101.141', '192.101.161.186', '161.116.81.235', '192.101.107.152', '90.147.66.50', '143.215.129.69', '193.206.93.45', '18.12.1.171'], 'Hephy-Vienna': ['193.170.243.215'], 'INFN-NAPOLI-ATLAS': ['90.147.67.252'], 'FZK-LCG2': ['192.108.47.12'], 'UKI-SOUTHGRID-CAM-HEP': ['131.111.66.196'], 'IN2P3-CC': ['193.48.99.76'], 'UKI-NORTHGRID-SHEF-HEP': ['143.167.3.116'], 'UKI-SOUTHGRID-BRIS-HEP': ['137.222.74.15'], 'DESY-ZN': ['141.34.200.28'], 'GLOW': ['144.92.180.75'], 'SARA-MATRIX': ['145.100.17.8'], 'UKI-SCOTGRID-DURHAM': ['193.60.193.3'], 'IN2P3-IRES': ['134.158.150.245'], 'CSCS-LCG2': ['148.187.64.25'], 'INFN-MILANO-ATLASC': ['192.135.14.32'], 'CERN-PROD': ['128.142.223.247'], 'FMPhI-UNIBA': ['158.195.14.26'], 'NCG-INGRID-PT': ['193.136.75.146'], 'RAL-LCG2': ['130.246.176.109'], 'INFN-ROMA1': ['141.108.35.18'], 'Australia-ATLAS': ['192.231.127.41'], 'UKI-SOUTHGRID-BHAM-HEP': ['193.62.56.9'], 'UKI-NORTHGRID-MAN-HEP': ['195.194.105.178'], 'RU-Protvino-IHEP': ['194.190.165.192'], 'IEPSAS-Kosice': ['147.213.204.117'], 'UKI-SOUTHGRID-RALPP': ['130.246.47.129'], 'DESY-HH': ['131.169.98.30'], 'IN2P3-LAPP': ['134.158.103.10'], 'IN2P3-CPPM': ['134.158.20.192'], 'UKI-LT2-QMUL': ['194.36.11.38'], 'RRC-KI-T1': ['144.206.236.189'], 'BNL-ATLAS': ['192.12.15.111'], 'BEIJING-LCG2': ['202.122.32.170'], 'IN2P3-LPC': ['134.158.123.183'], 'GRIF': ['134.158.73.243', '134.158.132.200', '134.158.159.85']}\n"
     ]
    }
   ],
   "source": [
    "site_name_ip = {}\n",
    "\n",
    "for ip in site_ip_name:\n",
    "    name = site_ip_name[ip]\n",
    "    if name in site_name_ip:\n",
    "        site_name_ip[name].append(ip)\n",
    "    else:\n",
    "        site_name_ip[name] = [ip]\n",
    "\n",
    "print(site_name_ip)"
   ]
  },
  {
   "cell_type": "markdown",
   "metadata": {},
   "source": [
    "## Calculate TN_old, the total number of alarmed links involving a specific site ip (either as source site or as destination site) for the OLD time period"
   ]
  },
  {
   "cell_type": "code",
   "execution_count": 9,
   "metadata": {
    "collapsed": false,
    "scrolled": true
   },
   "outputs": [
    {
     "data": {
      "text/plain": [
       "{}"
      ]
     },
     "execution_count": 9,
     "metadata": {},
     "output_type": "execute_result"
    }
   ],
   "source": [
    "TN_old = {}\n",
    "\n",
    "def TN_old_add_one(ip):\n",
    "    if ip in TN_old:\n",
    "        TN_old[ip] += 1\n",
    "    else:\n",
    "        TN_old[ip] = 1\n",
    "\n",
    "for alarm in hits_old:\n",
    "    TN_old_add_one(alarm['_source']['src'])\n",
    "    TN_old_add_one(alarm['_source']['dest'])\n",
    "\n",
    "TN_old"
   ]
  },
  {
   "cell_type": "markdown",
   "metadata": {},
   "source": [
    "## Calculate TN_new, the total number of alarmed links involving a specific site ip (either as source site or as destination site) for the NEW time period"
   ]
  },
  {
   "cell_type": "code",
   "execution_count": 10,
   "metadata": {
    "collapsed": false,
    "scrolled": true
   },
   "outputs": [
    {
     "data": {
      "text/plain": [
       "{'128.142.223.247': 1,\n",
       " '129.107.255.29': 1,\n",
       " '129.215.213.70': 2,\n",
       " '130.246.176.109': 2,\n",
       " '130.246.47.129': 1,\n",
       " '131.111.66.196': 2,\n",
       " '131.154.254.12': 1,\n",
       " '131.169.98.30': 2,\n",
       " '132.195.125.213': 1,\n",
       " '132.230.202.235': 10,\n",
       " '134.158.103.10': 2,\n",
       " '134.158.123.183': 1,\n",
       " '134.158.132.200': 1,\n",
       " '134.158.150.245': 10,\n",
       " '134.158.159.85': 2,\n",
       " '134.158.20.192': 1,\n",
       " '134.158.73.243': 4,\n",
       " '134.61.24.193': 4,\n",
       " '137.222.74.15': 4,\n",
       " '141.108.35.18': 15,\n",
       " '141.34.200.28': 1,\n",
       " '143.167.3.116': 1,\n",
       " '143.215.129.69': 2,\n",
       " '144.206.236.189': 2,\n",
       " '144.206.237.142': 1,\n",
       " '144.92.180.75': 1,\n",
       " '145.100.17.8': 2,\n",
       " '146.83.90.7': 1,\n",
       " '147.213.204.117': 1,\n",
       " '148.187.64.25': 2,\n",
       " '149.165.224.247': 1,\n",
       " '149.165.225.223': 2,\n",
       " '152.84.101.141': 1,\n",
       " '158.195.14.26': 1,\n",
       " '161.116.81.235': 37,\n",
       " '163.1.5.210': 2,\n",
       " '165.91.55.4': 1,\n",
       " '18.12.1.171': 4,\n",
       " '192.101.107.152': 3,\n",
       " '192.101.161.186': 1,\n",
       " '192.108.47.12': 2,\n",
       " '192.12.15.111': 1,\n",
       " '192.135.14.32': 4,\n",
       " '192.170.227.160': 4,\n",
       " '192.231.127.41': 1,\n",
       " '192.41.230.59': 1,\n",
       " '192.41.236.35': 6,\n",
       " '192.5.207.251': 1,\n",
       " '193.109.172.188': 1,\n",
       " '193.136.75.146': 8,\n",
       " '193.144.80.12': 1,\n",
       " '193.170.243.215': 10,\n",
       " '193.205.76.76': 1,\n",
       " '193.206.93.45': 1,\n",
       " '193.48.99.76': 1,\n",
       " '193.60.193.3': 1,\n",
       " '193.62.56.9': 4,\n",
       " '194.190.165.192': 2,\n",
       " '194.36.11.38': 2,\n",
       " '194.80.35.169': 2,\n",
       " '195.194.105.178': 1,\n",
       " '202.122.32.170': 1,\n",
       " '206.12.154.60': 1,\n",
       " '72.36.96.4': 2,\n",
       " '81.180.86.38': 6,\n",
       " '81.180.86.64': 8,\n",
       " '90.147.66.50': 1,\n",
       " '90.147.67.252': 2}"
      ]
     },
     "execution_count": 10,
     "metadata": {},
     "output_type": "execute_result"
    }
   ],
   "source": [
    "TN_new = {}\n",
    "\n",
    "def TN_new_add_one(ip):\n",
    "    if ip in TN_new:\n",
    "        TN_new[ip] += 1\n",
    "    else:\n",
    "        TN_new[ip] = 1\n",
    "\n",
    "for alarm in hits_new:\n",
    "    TN_new_add_one(alarm['_source']['src'])\n",
    "    TN_new_add_one(alarm['_source']['dest'])\n",
    "\n",
    "TN_new"
   ]
  },
  {
   "cell_type": "markdown",
   "metadata": {},
   "source": [
    "## Calculate TN_delta, which is equal to ( TN_new - TN_old )"
   ]
  },
  {
   "cell_type": "code",
   "execution_count": 11,
   "metadata": {
    "collapsed": false,
    "scrolled": true
   },
   "outputs": [
    {
     "data": {
      "text/plain": [
       "{'128.142.223.247': 1,\n",
       " '129.107.255.29': 1,\n",
       " '129.215.213.70': 2,\n",
       " '130.246.176.109': 2,\n",
       " '130.246.47.129': 1,\n",
       " '131.111.66.196': 2,\n",
       " '131.154.254.12': 1,\n",
       " '131.169.98.30': 2,\n",
       " '132.195.125.213': 1,\n",
       " '132.230.202.235': 10,\n",
       " '134.158.103.10': 2,\n",
       " '134.158.123.183': 1,\n",
       " '134.158.132.200': 1,\n",
       " '134.158.150.245': 10,\n",
       " '134.158.159.85': 2,\n",
       " '134.158.20.192': 1,\n",
       " '134.158.73.243': 4,\n",
       " '134.61.24.193': 4,\n",
       " '137.222.74.15': 4,\n",
       " '141.108.35.18': 15,\n",
       " '141.34.200.28': 1,\n",
       " '143.167.3.116': 1,\n",
       " '143.215.129.69': 2,\n",
       " '144.206.236.189': 2,\n",
       " '144.206.237.142': 1,\n",
       " '144.92.180.75': 1,\n",
       " '145.100.17.8': 2,\n",
       " '146.83.90.7': 1,\n",
       " '147.213.204.117': 1,\n",
       " '148.187.64.25': 2,\n",
       " '149.165.224.247': 1,\n",
       " '149.165.225.223': 2,\n",
       " '152.84.101.141': 1,\n",
       " '158.195.14.26': 1,\n",
       " '161.116.81.235': 37,\n",
       " '163.1.5.210': 2,\n",
       " '165.91.55.4': 1,\n",
       " '18.12.1.171': 4,\n",
       " '192.101.107.152': 3,\n",
       " '192.101.161.186': 1,\n",
       " '192.108.47.12': 2,\n",
       " '192.12.15.111': 1,\n",
       " '192.135.14.32': 4,\n",
       " '192.170.227.160': 4,\n",
       " '192.231.127.41': 1,\n",
       " '192.41.230.59': 1,\n",
       " '192.41.236.35': 6,\n",
       " '192.5.207.251': 1,\n",
       " '193.109.172.188': 1,\n",
       " '193.136.75.146': 8,\n",
       " '193.144.80.12': 1,\n",
       " '193.170.243.215': 10,\n",
       " '193.205.76.76': 1,\n",
       " '193.206.93.45': 1,\n",
       " '193.48.99.76': 1,\n",
       " '193.60.193.3': 1,\n",
       " '193.62.56.9': 4,\n",
       " '194.190.165.192': 2,\n",
       " '194.36.11.38': 2,\n",
       " '194.80.35.169': 2,\n",
       " '195.194.105.178': 1,\n",
       " '202.122.32.170': 1,\n",
       " '206.12.154.60': 1,\n",
       " '72.36.96.4': 2,\n",
       " '81.180.86.38': 6,\n",
       " '81.180.86.64': 8,\n",
       " '90.147.66.50': 1,\n",
       " '90.147.67.252': 2}"
      ]
     },
     "execution_count": 11,
     "metadata": {},
     "output_type": "execute_result"
    }
   ],
   "source": [
    "TN_delta = {}\n",
    "\n",
    "for ip in TN_old:\n",
    "    if ip in TN_new:\n",
    "        TN_delta[ip] = TN_new[ip] - TN_old[ip]\n",
    "    else:\n",
    "        TN_delta[ip] = -TN_old[ip]\n",
    "\n",
    "for ip in TN_new:\n",
    "    if ip not in TN_old:\n",
    "        TN_delta[ip] = TN_new[ip]\n",
    "\n",
    "TN_delta"
   ]
  },
  {
   "cell_type": "markdown",
   "metadata": {},
   "source": [
    "## Look at the distribution of TN_delta, so that we can tune the parameter N"
   ]
  },
  {
   "cell_type": "code",
   "execution_count": 12,
   "metadata": {
    "collapsed": false
   },
   "outputs": [
    {
     "name": "stdout",
     "output_type": "stream",
     "text": [
      "N=0     links went bad=68     links went good=0     unchanged=0\n",
      "N=1     links went bad=35     links went good=0     unchanged=33\n",
      "N=2     links went bad=17     links went good=0     unchanged=51\n",
      "N=3     links went bad=16     links went good=0     unchanged=52\n",
      "N=4     links went bad=9     links went good=0     unchanged=59\n",
      "N=5     links went bad=9     links went good=0     unchanged=59\n",
      "N=6     links went bad=7     links went good=0     unchanged=61\n",
      "N=7     links went bad=7     links went good=0     unchanged=61\n",
      "N=8     links went bad=5     links went good=0     unchanged=63\n",
      "N=9     links went bad=5     links went good=0     unchanged=63\n"
     ]
    }
   ],
   "source": [
    "for N in range(10):\n",
    "    count_worse = 0\n",
    "    count_better = 0\n",
    "    count_stable = 0\n",
    "    for ip in TN_delta:\n",
    "        if TN_delta[ip] > N:\n",
    "            count_worse += 1\n",
    "        elif TN_delta[ip] < -N:\n",
    "            count_better += 1\n",
    "        else:\n",
    "            count_stable += 1\n",
    "    print('N=%d     links went bad=%d     links went good=%d     unchanged=%d' % (N, count_worse, count_better, count_stable))"
   ]
  },
  {
   "cell_type": "markdown",
   "metadata": {},
   "source": [
    "## Let's use N=3 for now, and we will tune later"
   ]
  },
  {
   "cell_type": "code",
   "execution_count": 13,
   "metadata": {
    "collapsed": false
   },
   "outputs": [
    {
     "name": "stdout",
     "output_type": "stream",
     "text": [
      "--- The ip of the site(s) which got worse:\n",
      "['141.108.35.18', '134.158.150.245', '192.41.236.35', '134.61.24.193', '193.136.75.146', '18.12.1.171', '137.222.74.15', '132.230.202.235', '192.135.14.32', '193.170.243.215', '193.62.56.9', '134.158.73.243', '81.180.86.64', '161.116.81.235', '81.180.86.38', '192.101.107.152', '192.170.227.160']\n",
      "--- The ip of the site(s) which got better:\n",
      "[]\n"
     ]
    }
   ],
   "source": [
    "N = 3\n",
    "\n",
    "ip_list_worse = []\n",
    "ip_list_better = []\n",
    "\n",
    "for ip in TN_delta:\n",
    "    if TN_delta[ip] >= N:\n",
    "        ip_list_worse.append(ip)\n",
    "    elif TN_delta[ip] <= -N:\n",
    "        ip_list_better.append(ip)\n",
    "\n",
    "print('--- The ip of the site(s) which got worse:')\n",
    "print(ip_list_worse)\n",
    "print('--- The ip of the site(s) which got better:')\n",
    "print(ip_list_better)"
   ]
  },
  {
   "cell_type": "markdown",
   "metadata": {},
   "source": [
    "## Generate the dictionary: key = site name, value = a list of relevant user emails"
   ]
  },
  {
   "cell_type": "code",
   "execution_count": 14,
   "metadata": {
    "collapsed": false,
    "scrolled": true
   },
   "outputs": [
    {
     "ename": "AttributeError",
     "evalue": "'subscribers' object has no attribute 'getSubscribers_withSiteName'",
     "output_type": "error",
     "traceback": [
      "\u001b[1;31m---------------------------------------------------------------------------\u001b[0m",
      "\u001b[1;31mAttributeError\u001b[0m                            Traceback (most recent call last)",
      "\u001b[1;32m<ipython-input-14-ff0a7e219396>\u001b[0m in \u001b[0;36m<module>\u001b[1;34m()\u001b[0m\n\u001b[0;32m      9\u001b[0m \u001b[0mtaskName\u001b[0m \u001b[1;33m=\u001b[0m \u001b[1;34m'Packet loss increase for link(s) where your site is a source or destination'\u001b[0m\u001b[1;33m\u001b[0m\u001b[0m\n\u001b[0;32m     10\u001b[0m \u001b[1;33m\u001b[0m\u001b[0m\n\u001b[1;32m---> 11\u001b[1;33m \u001b[0msubscribe_records\u001b[0m \u001b[1;33m=\u001b[0m \u001b[0mgoogle\u001b[0m\u001b[1;33m.\u001b[0m\u001b[0mgetSubscribers_withSiteName\u001b[0m\u001b[1;33m(\u001b[0m\u001b[0mtaskName\u001b[0m\u001b[1;33m)\u001b[0m\u001b[1;33m\u001b[0m\u001b[0m\n\u001b[0m\u001b[0;32m     12\u001b[0m \u001b[1;33m\u001b[0m\u001b[0m\n\u001b[0;32m     13\u001b[0m \u001b[1;31m# Handle blank answer, one site, several sites separated by comma, wildcard such as prefix* etc.\u001b[0m\u001b[1;33m\u001b[0m\u001b[1;33m\u001b[0m\u001b[0m\n",
      "\u001b[1;31mAttributeError\u001b[0m: 'subscribers' object has no attribute 'getSubscribers_withSiteName'"
     ]
    }
   ],
   "source": [
    "user_interest_site_name = {}\n",
    "\n",
    "def reg_user_interest_site_name(sitename, email):\n",
    "    if sitename in user_interest_site_name:\n",
    "        user_interest_site_name[sitename].append(email)\n",
    "    else:\n",
    "        user_interest_site_name[sitename] = [email]\n",
    "\n",
    "taskName = 'Packet loss increase for link(s) where your site is a source or destination'\n",
    "\n",
    "subscribe_records = google.getSubscribers_withSiteName(taskName)\n",
    "\n",
    "# Handle blank answer, one site, several sites separated by comma, wildcard such as prefix* etc.\n",
    "for record in subscribe_records:\n",
    "    email = record[1]\n",
    "    sitenames = record[3].strip()\n",
    "    if len(sitenames) == 0:\n",
    "        sitenames = '.'  # Handle blank answer, so match all site names\n",
    "    sitenames = [x.strip().replace('*', '.') for x in sitenames.split(',')]  # Handle several site names, and wildcard\n",
    "    for sn in sitenames:\n",
    "        p = re.compile(sn, re.IGNORECASE)\n",
    "        for sitename in site_name_ip:\n",
    "            if p.match(sitename):\n",
    "                reg_user_interest_site_name(sitename, email)\n",
    "\n",
    "user_interest_site_name"
   ]
  },
  {
   "cell_type": "markdown",
   "metadata": {},
   "source": [
    "## Generate the dictionary: key = site ip, value = a list of relevant user emails"
   ]
  },
  {
   "cell_type": "code",
   "execution_count": null,
   "metadata": {
    "collapsed": false
   },
   "outputs": [],
   "source": [
    "user_interest_site_ip = {}\n",
    "\n",
    "def reg_user_interest_site_ip(siteip, email):\n",
    "    if siteip in user_interest_site_ip:\n",
    "        user_interest_site_ip[siteip].append(email)\n",
    "    else:\n",
    "        user_interest_site_ip[siteip] = [email]\n",
    "\n",
    "for sitename in user_interest_site_name:\n",
    "    for siteip in site_name_ip[sitename]:\n",
    "        for email in user_interest_site_name[sitename]:\n",
    "            reg_user_interest_site_ip(siteip, email)\n",
    "\n",
    "user_interest_site_ip"
   ]
  },
  {
   "cell_type": "markdown",
   "metadata": {},
   "source": [
    "## The variable user_alert_all holds all the needed info to send an email to a specific user"
   ]
  },
  {
   "cell_type": "code",
   "execution_count": null,
   "metadata": {
    "collapsed": false
   },
   "outputs": [],
   "source": [
    "user_alert_all = {}\n",
    "\n",
    "for user in google.getAllUserBasicInfo():\n",
    "    user_info = {}\n",
    "    user_info['email'] = user[0]\n",
    "    user_info['fullname'] = user[1]\n",
    "    user_info['link'] = user[2]\n",
    "    user_info['alerts'] = []\n",
    "    user_alert_all[user[0]] = user_info    # email should be unique globally, so it is used as key\n",
    "\n",
    "user_alert_all"
   ]
  },
  {
   "cell_type": "markdown",
   "metadata": {},
   "source": [
    "## Generate info for sending alert emails (for the sites getting worse)"
   ]
  },
  {
   "cell_type": "code",
   "execution_count": null,
   "metadata": {
    "collapsed": false
   },
   "outputs": [],
   "source": [
    "for ip in ip_list_worse:\n",
    "    text = \"The site %s (%s)'s links got worse, total number from %d to %d links.\\n\" % (site_ip_name[ip], ip, TN_old.get(ip,0), TN_new.get(ip,0))\n",
    "    text += \"These are all the bad links for the past hour:\\n\"\n",
    "    for alarm in hits_new:\n",
    "        src_ip = alarm['_source']['src']\n",
    "        dest_ip = alarm['_source']['dest']\n",
    "        if src_ip == ip:\n",
    "            text += '    This site  --->  %s (%s) \\n' % (site_ip_name[dest_ip], dest_ip)\n",
    "    for alarm in hits_new:\n",
    "        src_ip = alarm['_source']['src']\n",
    "        dest_ip = alarm['_source']['dest']\n",
    "        if dest_ip == ip:\n",
    "            text += '    %s (%s)  --->  This site \\n' % (site_ip_name[src_ip], src_ip)\n",
    "    print(text)\n",
    "    for email in user_interest_site_ip[ip]:\n",
    "        user_alert_all[email]['alerts'].append(text)\n",
    "\n",
    "# user_alert_all"
   ]
  },
  {
   "cell_type": "markdown",
   "metadata": {},
   "source": [
    "## Generate info for sending alert emails (for the sites getting better)"
   ]
  },
  {
   "cell_type": "code",
   "execution_count": null,
   "metadata": {
    "collapsed": false
   },
   "outputs": [],
   "source": [
    "for ip in ip_list_better:\n",
    "    text = \"The site %s (%s)'s links got improved, total number from %d to %d links.\\n\" % (site_ip_name[ip], ip, TN_old.get(ip,0), TN_new.get(ip,0))\n",
    "    text += \"These are all the bad links for the past hour:\\n\"\n",
    "    for alarm in hits_new:\n",
    "        src_ip = alarm['_source']['src']\n",
    "        dest_ip = alarm['_source']['dest']\n",
    "        if src_ip == ip:\n",
    "            text += '    This site  --->  %s (%s) \\n' % (site_ip_name[dest_ip], dest_ip)\n",
    "    for alarm in hits_new:\n",
    "        src_ip = alarm['_source']['src']\n",
    "        dest_ip = alarm['_source']['dest']\n",
    "        if dest_ip == ip:\n",
    "            text += '    %s (%s)  --->  This site \\n' % (site_ip_name[src_ip], src_ip)\n",
    "    print(text)\n",
    "    for email in user_interest_site_ip[ip]:\n",
    "        user_alert_all[email]['alerts'].append(text)\n",
    "\n",
    "# user_alert_all"
   ]
  },
  {
   "cell_type": "markdown",
   "metadata": {},
   "source": [
    "## Dummy sendMail function for development purpose"
   ]
  },
  {
   "cell_type": "code",
   "execution_count": null,
   "metadata": {
    "collapsed": true
   },
   "outputs": [],
   "source": [
    "def sendMailDummy(subject, to, body):\n",
    "    if len(body['alerts']) == 0:\n",
    "        print('======== Do not send alert email to %s as there is no alert for this user ========' % to)\n",
    "    else:\n",
    "        print('========= Send the following email to a user =========')\n",
    "        print('------ Email subject ------')\n",
    "        subject = 'Alert email customized for %s' % body['fullname']\n",
    "        print(subject)\n",
    "        print('------ Email to -----------')\n",
    "        print(to)\n",
    "        print('------ Email body ---------')\n",
    "        text = 'Hi %s,\\n\\n' % body['fullname']\n",
    "        text += '    The following are all the alerts about packet loss that you are interested in:\\n\\n\\n'\n",
    "        for alert in body['alerts']:\n",
    "            text += alert\n",
    "            text += '\\n\\n'\n",
    "        text += 'Thank you for using this system. If you want to update your settings or unsubscribe, please use this link: %s' % body['link']\n",
    "        text += '\\n\\nBest,\\nThe team\\n\\n\\n'\n",
    "        print(text)\n",
    "        print('======================================================')\n",
    "    print()\n",
    "    print()"
   ]
  },
  {
   "cell_type": "markdown",
   "metadata": {},
   "source": [
    "## Send out alert email customized for each user"
   ]
  },
  {
   "cell_type": "code",
   "execution_count": null,
   "metadata": {
    "collapsed": false
   },
   "outputs": [],
   "source": [
    "for email in user_alert_all:\n",
    "    sendMailDummy('auto_subject', email, user_alert_all[email])"
   ]
  },
  {
   "cell_type": "code",
   "execution_count": null,
   "metadata": {
    "collapsed": true
   },
   "outputs": [],
   "source": []
  }
 ],
 "metadata": {
  "kernelspec": {
   "display_name": "Python 3",
   "language": "python",
   "name": "python3"
  },
  "language_info": {
   "codemirror_mode": {
    "name": "ipython",
    "version": 3
   },
   "file_extension": ".py",
   "mimetype": "text/x-python",
   "name": "python",
   "nbconvert_exporter": "python",
   "pygments_lexer": "ipython3",
   "version": "3.5.1"
  }
 },
 "nbformat": 4,
 "nbformat_minor": 0
}
