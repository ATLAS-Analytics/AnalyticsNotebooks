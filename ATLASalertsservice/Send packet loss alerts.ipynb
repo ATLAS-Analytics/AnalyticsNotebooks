{
 "cells": [
  {
   "cell_type": "markdown",
   "metadata": {},
   "source": [
    "# Send alert emails about packet loss based on alarms and user subscribing"
   ]
  },
  {
   "cell_type": "markdown",
   "metadata": {},
   "source": [
    "This notebook is run by a cron job every hour, and its purpose is to send alert emails about packet loss for user specified site(s) based on alarms and user subscribing records. \n",
    "\n",
    "This notebook works following this procedure: \n",
    "\n",
    "(1) Get all the alarms of type packetloss for the past hour (call it NEW) and past past hour (call it OLD) from Elasticsearch\n",
    "\n",
    "(2) Get the user subscribing records from Google Sheets calling APIs in subscribers.py\n",
    "\n",
    "(3) Process the alarms data and subscribing data to make them easier to use for this monitoring task\n",
    "\n",
    "(4) TN_old means total number of alarmed links involving a specific site ip (no matter from it or to it) for OLD time period\n",
    "\n",
    "(5) TN_new means total number of alarmed links involving a specific site ip (no matter from it or to it) for NEW time period\n",
    "\n",
    "(6) TN_delta means the change of value from TN_old to TN_new. We need to compare TN_delta v.s. +N and v.s. -N (tune N later)\n",
    "\n",
    "(7) If a site ip never occurs in NEW and OLD, then it must be totally fine, and we do not care about it at all (TN_old == TN_new == TN_delta == 0)\n",
    "\n",
    "(8) If a site ip occurs in NEW or OLD or both, then we may have TN_delta > 0 or == 0 or < 0 for this site ip, so we want to take a closer look at this site ip, so we do (9) (10) (11)\n",
    "\n",
    "(9) If TN_delta >= +N, then overall the links connected to this site are becoming worse, so we send email\n",
    "\n",
    "(10) If TN_delta <= -N, then overall the links connected to this site are becoming better, so we send email\n",
    "\n",
    "(11) Otherwise, the overall status for this site is not changing or just changing slightly, so we do not send email\n",
    "\n",
    "(12) In order to send email, we need a dictionary whose key is site ip and value is a list of relevant user emails\n",
    "\n"
   ]
  },
  {
   "cell_type": "markdown",
   "metadata": {},
   "source": [
    "## Import necessary packages and classes"
   ]
  },
  {
   "cell_type": "code",
   "execution_count": 1,
   "metadata": {
    "collapsed": true
   },
   "outputs": [],
   "source": [
    "# Retrieve user subscribing records from google sheets.\n",
    "from subscribers import subscribers\n",
    "import alerts\n",
    "\n",
    "S = subscribers()\n",
    "A = alerts.alerts()\n",
    "\n",
    "# Related to Elasticsearch queries\n",
    "from elasticsearch import Elasticsearch, exceptions as es_exceptions, helpers\n",
    "import datetime\n",
    "\n",
    "# Regular Expression\n",
    "import re"
   ]
  },
  {
   "cell_type": "markdown",
   "metadata": {},
   "source": [
    "## Establish Elasticsearch connection"
   ]
  },
  {
   "cell_type": "code",
   "execution_count": 2,
   "metadata": {
    "collapsed": true
   },
   "outputs": [],
   "source": [
    "es = Elasticsearch(hosts=[{'host':'atlas-kibana.mwt2.org', 'port':9200}],timeout=60)"
   ]
  },
  {
   "cell_type": "markdown",
   "metadata": {},
   "source": [
    "## List all alarms-yyyy.mm indices"
   ]
  },
  {
   "cell_type": "code",
   "execution_count": 3,
   "metadata": {
    "collapsed": false
   },
   "outputs": [
    {
     "name": "stdout",
     "output_type": "stream",
     "text": [
      "['alarms-2017-03', 'alarms-2016-12', 'alarms-2017-01', 'alarms-2017-02', 'alarms-2016-08', 'alarms-2016-10', 'alarms-2017-05', 'alarms-2016-09', 'alarms-2016-11', 'alarms-2017-04']\n"
     ]
    }
   ],
   "source": [
    "indices = es.cat.indices(index=\"alarms-*\", h=\"index\", request_timeout=600).split('\\n')\n",
    "indices = [x for x in indices if x != '']\n",
    "indices = [x.strip() for x in indices]\n",
    "print(indices)"
   ]
  },
  {
   "cell_type": "markdown",
   "metadata": {},
   "source": [
    "## Find indices to be used"
   ]
  },
  {
   "cell_type": "code",
   "execution_count": 4,
   "metadata": {
    "collapsed": false
   },
   "outputs": [
    {
     "name": "stdout",
     "output_type": "stream",
     "text": [
      "checking for indices: alarms-2017-05 alarms-2017-05\n",
      "will use indices: ['alarms-2017-05']\n"
     ]
    }
   ],
   "source": [
    "cday = datetime.datetime.utcnow()\n",
    "pday = cday - datetime.timedelta(days=1)\n",
    "ind1 = 'alarms-%d-%02d' % (cday.year, cday.month)\n",
    "ind2 = 'alarms-%d-%02d' % (pday.year, pday.month)\n",
    "\n",
    "print('checking for indices:', ind1, ind2)\n",
    "\n",
    "ind=[]\n",
    "if ind1 in indices:\n",
    "    ind.append(ind1)\n",
    "if ind2 != ind1 and ind2 in indices and cday.hour<3:   # not necessarily 3, just indicate it is the beginning period of new day\n",
    "    ind.append(ind2)\n",
    "\n",
    "if len(ind)==0:\n",
    "    print('no current indices found. Aborting.')\n",
    "    exit\n",
    "else:\n",
    "    print('will use indices:', ind)"
   ]
  },
  {
   "cell_type": "markdown",
   "metadata": {},
   "source": [
    "## Queries to find all the alarms of type Packet Loss for the past hour and past past hour"
   ]
  },
  {
   "cell_type": "code",
   "execution_count": 5,
   "metadata": {
    "collapsed": false
   },
   "outputs": [
    {
     "name": "stdout",
     "output_type": "stream",
     "text": [
      "{'query': {'bool': {'must': [{'term': {'_type': 'packetloss'}}], 'filter': {'range': {'alarmTime': {'gt': 'now-3h'}}}}}, 'size': 1000}\n",
      "{'query': {'bool': {'must': [{'term': {'_type': 'packetloss'}}], 'filter': {'range': {'alarmTime': {'lt': 'now-3h', 'gt': 'now-6h'}}}}}, 'size': 1000}\n"
     ]
    }
   ],
   "source": [
    "query_new = {\n",
    "    \"size\": 1000,\n",
    "    \"query\": {\n",
    "        \"bool\": {\n",
    "            \"must\": [\n",
    "                {\"term\": { \"_type\": \"packetloss\" }}\n",
    "            ],\n",
    "            \"filter\": {\n",
    "                \"range\": {\n",
    "                    \"alarmTime\": {\n",
    "                        \"gt\": \"now-3h\"\n",
    "                    }\n",
    "                }\n",
    "            }\n",
    "        }\n",
    "    }\n",
    "}\n",
    "# +SPM Changed time queries 20-Apr-2017:  New is last 3 hours now, and Old is the previous 3 hours before that.\n",
    "query_old = {\n",
    "    \"size\": 1000,\n",
    "    \"query\": {\n",
    "        \"bool\": {\n",
    "            \"must\": [\n",
    "                {\"term\": { \"_type\": \"packetloss\" }}\n",
    "            ],\n",
    "            \"filter\": {\n",
    "                \"range\": {\n",
    "                    \"alarmTime\": {\n",
    "                        \"gt\": \"now-6h\",\n",
    "                        \"lt\": \"now-3h\"\n",
    "                    }\n",
    "                }\n",
    "            }\n",
    "        }\n",
    "    }\n",
    "}\n",
    "\n",
    "print(query_new)\n",
    "print(query_old)"
   ]
  },
  {
   "cell_type": "markdown",
   "metadata": {},
   "source": [
    "## Execute the query"
   ]
  },
  {
   "cell_type": "code",
   "execution_count": 6,
   "metadata": {
    "collapsed": false
   },
   "outputs": [
    {
     "name": "stdout",
     "output_type": "stream",
     "text": [
      "Number of hits of new alarms: 76\n",
      "Number of hits of old alarms: 85\n"
     ]
    }
   ],
   "source": [
    "result_new = es.search(index=ind, body=query_new, request_timeout=120)\n",
    "print('Number of hits of new alarms:', result_new['hits']['total'] )\n",
    "\n",
    "result_old = es.search(index=ind, body=query_old, request_timeout=120)\n",
    "print('Number of hits of old alarms:', result_old['hits']['total'] )\n",
    "\n",
    "hits_new = result_new['hits']['hits']\n",
    "hits_old = result_old['hits']['hits']"
   ]
  },
  {
   "cell_type": "markdown",
   "metadata": {},
   "source": [
    "## Generate the two dictionaries for sites, one is from ip to name, one is from name to ip"
   ]
  },
  {
   "cell_type": "code",
   "execution_count": 7,
   "metadata": {
    "collapsed": false,
    "scrolled": true
   },
   "outputs": [
    {
     "name": "stdout",
     "output_type": "stream",
     "text": [
      "{'131.225.205.12': 'UnknownSite', '192.41.236.31': 'AGLT2', '141.34.200.28': 'DESY-ZN', '144.206.236.189': 'RRC-KI-T1', '134.158.103.10': 'IN2P3-LAPP', '192.108.47.12': 'FZK-LCG2', '206.12.154.60': 'CA-VICTORIA-WESTGRID-T2', '148.187.64.25': 'CSCS-LCG2', '206.12.24.251': 'SFU-LCG2', '193.109.172.188': 'pic', '130.209.239.124': 'UKI-SCOTGRID-GLASGOW', '147.156.116.40': 'IFIC-LCG2', '130.246.47.129': 'UKI-SOUTHGRID-RALPP', '206.12.9.2': 'TRIUMF-LCG2', '129.93.183.249': 'Nebraska', '144.206.237.142': 'RRC-KI', '131.111.66.196': 'UKI-SOUTHGRID-CAM-HEP', '85.122.31.74': 'RO-16-UAIC', '138.253.60.82': 'UKI-NORTHGRID-LIV-HEP', '194.80.35.169': 'UKI-NORTHGRID-LANCS-HEP', '200.136.80.20': 'SPRACE', '129.215.213.70': 'UKI-SCOTGRID-ECDF', '192.41.230.59': 'AGLT2', '128.142.223.247': 'CERN-PROD', '194.85.69.75': 'ITEP', '134.158.159.85': 'GRIF', '202.122.32.170': 'BEIJING-LCG2', '194.36.11.38': 'UKI-LT2-QMUL', '62.40.126.129': 'UnknownSite', '142.150.19.61': 'CA-SCINET-T2', '147.231.25.192': 'praguelcg2', '149.165.225.223': 'MWT2', '163.1.5.210': 'UKI-SOUTHGRID-OX-HEP', '130.246.176.109': 'RAL-LCG2', '141.108.35.18': 'INFN-ROMA1', '143.167.3.116': 'UKI-NORTHGRID-SHEF-HEP', '131.169.98.30': 'DESY-HH', '129.107.255.29': 'UTA_SWT2', '158.195.14.26': 'FMPhI-UNIBA', '194.190.165.192': 'RU-Protvino-IHEP', '193.136.75.146': 'NCG-INGRID-PT', '192.114.101.125': 'TECHNION-HEP', '18.12.1.171': 'UnknownSite', '132.230.202.235': 'UNI-FREIBURG', '145.100.17.8': 'SARA-MATRIX', '81.180.86.64': 'RO-07-NIPNE', '195.194.105.178': 'UKI-NORTHGRID-MAN-HEP'}\n"
     ]
    }
   ],
   "source": [
    "site_ip_name = {}\n",
    "\n",
    "for hit in hits_new:\n",
    "    info = hit['_source']\n",
    "    site_ip_name[info['src']] = info['srcSite']\n",
    "    site_ip_name[info['dest']] = info['destSite']\n",
    "\n",
    "for hit in hits_old:\n",
    "    info = hit['_source']\n",
    "    site_ip_name[info['src']] = info['srcSite']\n",
    "    site_ip_name[info['dest']] = info['destSite']\n",
    "\n",
    "print(site_ip_name)"
   ]
  },
  {
   "cell_type": "code",
   "execution_count": 8,
   "metadata": {
    "collapsed": false,
    "scrolled": true
   },
   "outputs": [
    {
     "name": "stdout",
     "output_type": "stream",
     "text": [
      "{'TRIUMF-LCG2': ['206.12.9.2'], 'CERN-PROD': ['128.142.223.247'], 'DESY-ZN': ['141.34.200.28'], 'SARA-MATRIX': ['145.100.17.8'], 'INFN-ROMA1': ['141.108.35.18'], 'UKI-SOUTHGRID-OX-HEP': ['163.1.5.210'], 'MWT2': ['149.165.225.223'], 'UKI-SCOTGRID-GLASGOW': ['130.209.239.124'], 'UKI-NORTHGRID-LIV-HEP': ['138.253.60.82'], 'UTA_SWT2': ['129.107.255.29'], 'RO-16-UAIC': ['85.122.31.74'], 'pic': ['193.109.172.188'], 'RU-Protvino-IHEP': ['194.190.165.192'], 'CSCS-LCG2': ['148.187.64.25'], 'UKI-LT2-QMUL': ['194.36.11.38'], 'RRC-KI-T1': ['144.206.236.189'], 'ITEP': ['194.85.69.75'], 'SFU-LCG2': ['206.12.24.251'], 'FZK-LCG2': ['192.108.47.12'], 'GRIF': ['134.158.159.85'], 'RO-07-NIPNE': ['81.180.86.64'], 'UNI-FREIBURG': ['132.230.202.235'], 'UKI-SCOTGRID-ECDF': ['129.215.213.70'], 'FMPhI-UNIBA': ['158.195.14.26'], 'IN2P3-LAPP': ['134.158.103.10'], 'BEIJING-LCG2': ['202.122.32.170'], 'TECHNION-HEP': ['192.114.101.125'], 'IFIC-LCG2': ['147.156.116.40'], 'UKI-NORTHGRID-MAN-HEP': ['195.194.105.178'], 'NCG-INGRID-PT': ['193.136.75.146'], 'SPRACE': ['200.136.80.20'], 'UnknownSite': ['131.225.205.12', '62.40.126.129', '18.12.1.171'], 'DESY-HH': ['131.169.98.30'], 'UKI-NORTHGRID-SHEF-HEP': ['143.167.3.116'], 'RAL-LCG2': ['130.246.176.109'], 'Nebraska': ['129.93.183.249'], 'CA-SCINET-T2': ['142.150.19.61'], 'UKI-SOUTHGRID-RALPP': ['130.246.47.129'], 'praguelcg2': ['147.231.25.192'], 'AGLT2': ['192.41.236.31', '192.41.230.59'], 'UKI-SOUTHGRID-CAM-HEP': ['131.111.66.196'], 'RRC-KI': ['144.206.237.142'], 'CA-VICTORIA-WESTGRID-T2': ['206.12.154.60'], 'UKI-NORTHGRID-LANCS-HEP': ['194.80.35.169']}\n"
     ]
    }
   ],
   "source": [
    "site_name_ip = {}\n",
    "\n",
    "for ip in site_ip_name:\n",
    "    name = site_ip_name[ip]\n",
    "    if name in site_name_ip:\n",
    "        site_name_ip[name].append(ip)\n",
    "    else:\n",
    "        site_name_ip[name] = [ip]\n",
    "\n",
    "print(site_name_ip)"
   ]
  },
  {
   "cell_type": "markdown",
   "metadata": {},
   "source": [
    "## Calculate TN_old, the total number of alarmed links involving a specific site ip (either as source site or as destination site) for the OLD time period"
   ]
  },
  {
   "cell_type": "code",
   "execution_count": 9,
   "metadata": {
    "collapsed": false,
    "scrolled": true
   },
   "outputs": [],
   "source": [
    "TN_old = {}\n",
    "\n",
    "def TN_old_add_one(ip):\n",
    "    if ip in TN_old:\n",
    "        TN_old[ip] += 1\n",
    "    else:\n",
    "        TN_old[ip] = 1\n",
    "\n",
    "for alarm in hits_old:\n",
    "    TN_old_add_one(alarm['_source']['src'])\n",
    "    TN_old_add_one(alarm['_source']['dest'])\n",
    "\n",
    "#TN_old"
   ]
  },
  {
   "cell_type": "markdown",
   "metadata": {},
   "source": [
    "## Calculate TN_new, the total number of alarmed links involving a specific site ip (either as source site or as destination site) for the NEW time period"
   ]
  },
  {
   "cell_type": "code",
   "execution_count": 10,
   "metadata": {
    "collapsed": false,
    "scrolled": true
   },
   "outputs": [],
   "source": [
    "TN_new = {}\n",
    "\n",
    "def TN_new_add_one(ip):\n",
    "    if ip in TN_new:\n",
    "        TN_new[ip] += 1\n",
    "    else:\n",
    "        TN_new[ip] = 1\n",
    "\n",
    "for alarm in hits_new:\n",
    "    TN_new_add_one(alarm['_source']['src'])\n",
    "    TN_new_add_one(alarm['_source']['dest'])\n",
    "\n",
    "#TN_new"
   ]
  },
  {
   "cell_type": "markdown",
   "metadata": {},
   "source": [
    "## Calculate TN_delta, which is equal to ( TN_new - TN_old )"
   ]
  },
  {
   "cell_type": "code",
   "execution_count": 11,
   "metadata": {
    "collapsed": false,
    "scrolled": true
   },
   "outputs": [
    {
     "data": {
      "text/plain": [
       "{'128.142.223.247': -1,\n",
       " '129.107.255.29': -1,\n",
       " '129.215.213.70': 0,\n",
       " '129.93.183.249': 1,\n",
       " '130.209.239.124': 0,\n",
       " '130.246.176.109': 0,\n",
       " '130.246.47.129': -1,\n",
       " '131.111.66.196': 0,\n",
       " '131.169.98.30': 0,\n",
       " '131.225.205.12': 1,\n",
       " '132.230.202.235': 0,\n",
       " '134.158.103.10': -1,\n",
       " '134.158.159.85': 1,\n",
       " '138.253.60.82': -1,\n",
       " '141.108.35.18': 1,\n",
       " '141.34.200.28': 0,\n",
       " '142.150.19.61': 0,\n",
       " '143.167.3.116': 0,\n",
       " '144.206.236.189': 0,\n",
       " '144.206.237.142': 1,\n",
       " '145.100.17.8': -1,\n",
       " '147.156.116.40': -1,\n",
       " '147.231.25.192': -1,\n",
       " '148.187.64.25': 0,\n",
       " '149.165.225.223': 1,\n",
       " '158.195.14.26': -13,\n",
       " '163.1.5.210': 0,\n",
       " '18.12.1.171': 0,\n",
       " '192.108.47.12': 0,\n",
       " '192.114.101.125': 0,\n",
       " '192.41.230.59': -1,\n",
       " '192.41.236.31': -1,\n",
       " '193.109.172.188': 0,\n",
       " '193.136.75.146': 0,\n",
       " '194.190.165.192': 0,\n",
       " '194.36.11.38': 0,\n",
       " '194.80.35.169': -1,\n",
       " '194.85.69.75': 0,\n",
       " '195.194.105.178': -2,\n",
       " '200.136.80.20': 2,\n",
       " '202.122.32.170': 0,\n",
       " '206.12.154.60': 0,\n",
       " '206.12.24.251': 0,\n",
       " '206.12.9.2': 1,\n",
       " '62.40.126.129': 0,\n",
       " '81.180.86.64': -1,\n",
       " '85.122.31.74': 0}"
      ]
     },
     "execution_count": 11,
     "metadata": {},
     "output_type": "execute_result"
    }
   ],
   "source": [
    "TN_delta = {}\n",
    "\n",
    "for ip in TN_old:\n",
    "    if ip in TN_new:\n",
    "        TN_delta[ip] = TN_new[ip] - TN_old[ip]\n",
    "    else:\n",
    "        TN_delta[ip] = -TN_old[ip]\n",
    "\n",
    "for ip in TN_new:\n",
    "    if ip not in TN_old:\n",
    "        TN_delta[ip] = TN_new[ip]\n",
    "\n",
    "TN_delta"
   ]
  },
  {
   "cell_type": "markdown",
   "metadata": {},
   "source": [
    "## Look at the distribution of TN_delta, so that we can tune the parameter N"
   ]
  },
  {
   "cell_type": "code",
   "execution_count": 12,
   "metadata": {
    "collapsed": false
   },
   "outputs": [
    {
     "name": "stdout",
     "output_type": "stream",
     "text": [
      "N=0     links went bad=8     links went good=14     unchanged=25\n",
      "N=1     links went bad=1     links went good=2     unchanged=44\n",
      "N=2     links went bad=0     links went good=1     unchanged=46\n",
      "N=3     links went bad=0     links went good=1     unchanged=46\n",
      "N=4     links went bad=0     links went good=1     unchanged=46\n",
      "N=5     links went bad=0     links went good=1     unchanged=46\n",
      "N=6     links went bad=0     links went good=1     unchanged=46\n",
      "N=7     links went bad=0     links went good=1     unchanged=46\n",
      "N=8     links went bad=0     links went good=1     unchanged=46\n",
      "N=9     links went bad=0     links went good=1     unchanged=46\n"
     ]
    }
   ],
   "source": [
    "for N in range(10):\n",
    "    count_worse = 0\n",
    "    count_better = 0\n",
    "    count_stable = 0\n",
    "    for ip in TN_delta:\n",
    "        if TN_delta[ip] > N:\n",
    "            count_worse += 1\n",
    "        elif TN_delta[ip] < -N:\n",
    "            count_better += 1\n",
    "        else:\n",
    "            count_stable += 1\n",
    "    print('N=%d     links went bad=%d     links went good=%d     unchanged=%d' % (N, count_worse, count_better, count_stable))"
   ]
  },
  {
   "cell_type": "markdown",
   "metadata": {},
   "source": [
    "## Let's use N=5 for now, and we will tune later"
   ]
  },
  {
   "cell_type": "code",
   "execution_count": 13,
   "metadata": {
    "collapsed": false
   },
   "outputs": [
    {
     "name": "stdout",
     "output_type": "stream",
     "text": [
      "--- The ip of the site(s) which got worse:\n",
      "[]\n",
      "--- The ip of the site(s) which got better:\n",
      "['158.195.14.26']\n"
     ]
    }
   ],
   "source": [
    "N = 5\n",
    "\n",
    "ip_list_worse = []\n",
    "ip_list_better = []\n",
    "\n",
    "for ip in TN_delta:\n",
    "    if TN_delta[ip] >= N:\n",
    "        ip_list_worse.append(ip)\n",
    "    elif TN_delta[ip] <= -N:\n",
    "        ip_list_better.append(ip)\n",
    "\n",
    "print('--- The ip of the site(s) which got worse:')\n",
    "print(ip_list_worse)\n",
    "print('--- The ip of the site(s) which got better:')\n",
    "print(ip_list_better)"
   ]
  },
  {
   "cell_type": "markdown",
   "metadata": {},
   "source": [
    "## Generate the dictionary: key = site name, value = a list of relevant user emails"
   ]
  },
  {
   "cell_type": "code",
   "execution_count": 18,
   "metadata": {
    "collapsed": false,
    "scrolled": true
   },
   "outputs": [
    {
     "name": "stdout",
     "output_type": "stream",
     "text": [
      "user name:Ilija Vukotic  email:ilija@vukotic.me ['MWT2']\n",
      "user name:Ilija Vukotic  email:ilijav@gmail.com ['MWT2', '*']\n"
     ]
    }
   ],
   "source": [
    "user_interest_site_name = {}\n",
    "\n",
    "def reg_user_interest_site_name(sitename, email):\n",
    "    if sitename in user_interest_site_name:\n",
    "        user_interest_site_name[sitename].append(email)\n",
    "    else:\n",
    "        user_interest_site_name[sitename] = [email]\n",
    "\n",
    "test_name = 'PerfSONAR [Packet loss change for link(s) where your site is a source or destination]'\n",
    "emailSubject = 'Significant change in the number of network paths with large packet loss where your subscribed site(s) are the source or destination'\n",
    "\n",
    "users = S.get_immediate_subscribers(test_name)\n",
    "\n",
    "# Handle blank answer, one site, several sites separated by comma, wildcard such as prefix* etc.\n",
    "for user in users:\n",
    "    sitenames = user.sites\n",
    "    print(user.to_string(), sitenames)\n",
    "    if len(sitenames) == 0:\n",
    "        sitenames = ['.']  # Handle blank answer, so match all site names\n",
    "    sitenames = [x.replace('*', '.') for x in sitenames]  # Handle several site names, and wildcard\n",
    "    for sn in sitenames:\n",
    "        p = re.compile(sn, re.IGNORECASE)\n",
    "        for sitename in site_name_ip:\n",
    "            if p.match(sitename):\n",
    "                reg_user_interest_site_name(sitename, user)\n"
   ]
  },
  {
   "cell_type": "markdown",
   "metadata": {},
   "source": [
    "## Generate the dictionary: key = site ip, value = a list of relevant user emails"
   ]
  },
  {
   "cell_type": "code",
   "execution_count": 19,
   "metadata": {
    "collapsed": false
   },
   "outputs": [
    {
     "name": "stdout",
     "output_type": "stream",
     "text": [
      "{'131.225.205.12': [<subscribers_new.user object at 0x7fc3db3ea470>], '131.111.66.196': [<subscribers_new.user object at 0x7fc3db3ea470>], '141.34.200.28': [<subscribers_new.user object at 0x7fc3db3ea470>], '144.206.236.189': [<subscribers_new.user object at 0x7fc3db3ea470>], '134.158.103.10': [<subscribers_new.user object at 0x7fc3db3ea470>], '192.108.47.12': [<subscribers_new.user object at 0x7fc3db3ea470>], '206.12.154.60': [<subscribers_new.user object at 0x7fc3db3ea470>], '148.187.64.25': [<subscribers_new.user object at 0x7fc3db3ea470>], '206.12.24.251': [<subscribers_new.user object at 0x7fc3db3ea470>], '193.109.172.188': [<subscribers_new.user object at 0x7fc3db3ea470>], '130.209.239.124': [<subscribers_new.user object at 0x7fc3db3ea470>], '85.122.31.74': [<subscribers_new.user object at 0x7fc3db3ea470>], '130.246.47.129': [<subscribers_new.user object at 0x7fc3db3ea470>], '206.12.9.2': [<subscribers_new.user object at 0x7fc3db3ea470>], '129.93.183.249': [<subscribers_new.user object at 0x7fc3db3ea470>], '144.206.237.142': [<subscribers_new.user object at 0x7fc3db3ea470>], '192.41.236.31': [<subscribers_new.user object at 0x7fc3db3ea470>], '147.156.116.40': [<subscribers_new.user object at 0x7fc3db3ea470>], '138.253.60.82': [<subscribers_new.user object at 0x7fc3db3ea470>], '194.80.35.169': [<subscribers_new.user object at 0x7fc3db3ea470>], '200.136.80.20': [<subscribers_new.user object at 0x7fc3db3ea470>], '129.215.213.70': [<subscribers_new.user object at 0x7fc3db3ea470>], '195.194.105.178': [<subscribers_new.user object at 0x7fc3db3ea470>], '128.142.223.247': [<subscribers_new.user object at 0x7fc3db3ea470>], '194.85.69.75': [<subscribers_new.user object at 0x7fc3db3ea470>], '134.158.159.85': [<subscribers_new.user object at 0x7fc3db3ea470>], '192.114.101.125': [<subscribers_new.user object at 0x7fc3db3ea470>], '202.122.32.170': [<subscribers_new.user object at 0x7fc3db3ea470>], '194.36.11.38': [<subscribers_new.user object at 0x7fc3db3ea470>], '62.40.126.129': [<subscribers_new.user object at 0x7fc3db3ea470>], '142.150.19.61': [<subscribers_new.user object at 0x7fc3db3ea470>], '147.231.25.192': [<subscribers_new.user object at 0x7fc3db3ea470>], '149.165.225.223': [<subscribers_new.user object at 0x7fc3db3ea1d0>, <subscribers_new.user object at 0x7fc3db3ea470>, <subscribers_new.user object at 0x7fc3db3ea470>], '163.1.5.210': [<subscribers_new.user object at 0x7fc3db3ea470>], '130.246.176.109': [<subscribers_new.user object at 0x7fc3db3ea470>], '141.108.35.18': [<subscribers_new.user object at 0x7fc3db3ea470>], '143.167.3.116': [<subscribers_new.user object at 0x7fc3db3ea470>], '131.169.98.30': [<subscribers_new.user object at 0x7fc3db3ea470>], '129.107.255.29': [<subscribers_new.user object at 0x7fc3db3ea470>], '158.195.14.26': [<subscribers_new.user object at 0x7fc3db3ea470>], '194.190.165.192': [<subscribers_new.user object at 0x7fc3db3ea470>], '193.136.75.146': [<subscribers_new.user object at 0x7fc3db3ea470>], '192.41.230.59': [<subscribers_new.user object at 0x7fc3db3ea470>], '18.12.1.171': [<subscribers_new.user object at 0x7fc3db3ea470>], '132.230.202.235': [<subscribers_new.user object at 0x7fc3db3ea470>], '145.100.17.8': [<subscribers_new.user object at 0x7fc3db3ea470>], '81.180.86.64': [<subscribers_new.user object at 0x7fc3db3ea470>]}\n"
     ]
    }
   ],
   "source": [
    "user_interest_site_ip = {}\n",
    "\n",
    "def reg_user_interest_site_ip(siteip, email):\n",
    "    if siteip in user_interest_site_ip:\n",
    "        user_interest_site_ip[siteip].append(email)\n",
    "    else:\n",
    "        user_interest_site_ip[siteip] = [email]\n",
    "\n",
    "for sitename in user_interest_site_name:\n",
    "    for siteip in site_name_ip[sitename]:\n",
    "        for user in user_interest_site_name[sitename]:\n",
    "            reg_user_interest_site_ip(siteip, user)\n",
    "\n",
    "print(user_interest_site_ip)"
   ]
  },
  {
   "cell_type": "markdown",
   "metadata": {},
   "source": [
    "## Generate info for sending alert emails (for the sites getting worse)"
   ]
  },
  {
   "cell_type": "code",
   "execution_count": 20,
   "metadata": {
    "collapsed": false
   },
   "outputs": [],
   "source": [
    "for ip in ip_list_worse:\n",
    "    text = \"The site %s (%s)'s network paths have worsened, the count of src-destination paths with packet-loss went from %d to %d.\\n\" % (site_ip_name[ip], ip, TN_old.get(ip,0), TN_new.get(ip,0))\n",
    "    text += \"These are all the problematic src-destination paths for the past hour:\\n\"\n",
    "    for alarm in hits_new:\n",
    "        src_ip = alarm['_source']['src']\n",
    "        dest_ip = alarm['_source']['dest']\n",
    "        if src_ip == ip:\n",
    "            text += '    %s (%s)  --->  %s (%s) \\n' % (site_ip_name[src_ip], src_ip, site_ip_name[dest_ip], dest_ip)\n",
    "    for alarm in hits_new:\n",
    "        src_ip = alarm['_source']['src']\n",
    "        dest_ip = alarm['_source']['dest']\n",
    "        if dest_ip == ip:\n",
    "            text += '    %s (%s)  --->  %s (%s) \\n' % (site_ip_name[src_ip], src_ip, site_ip_name[dest_ip], dest_ip)\n",
    "    print(text)\n",
    "    for user in user_interest_site_ip[ip]:\n",
    "        user.alerts.append(text)"
   ]
  },
  {
   "cell_type": "markdown",
   "metadata": {},
   "source": [
    "## Generate info for sending alert emails (for the sites getting better)"
   ]
  },
  {
   "cell_type": "code",
   "execution_count": 21,
   "metadata": {
    "collapsed": false
   },
   "outputs": [],
   "source": [
    "for ip in ip_list_better:\n",
    "    text = \"The site %s (%s)'s network paths have improved, the count of src-destination paths with packet-loss went from %d to %d.\\n\" % (site_ip_name[ip], ip, TN_old.get(ip,0), TN_new.get(ip,0))\n",
    "    wtext=\"\"\n",
    "    for alarm in hits_new:\n",
    "        src_ip = alarm['_source']['src']\n",
    "        dest_ip = alarm['_source']['dest']\n",
    "        if src_ip == ip:\n",
    "            text += '    %s (%s)  --->  %s (%s) \\n' % (site_ip_name[src_ip], src_ip, site_ip_name[dest_ip], dest_ip)\n",
    "    for alarm in hits_new:\n",
    "        src_ip = alarm['_source']['src']\n",
    "        dest_ip = alarm['_source']['dest']\n",
    "        if dest_ip == ip:\n",
    "            text += '    %s (%s)  --->  %s (%s) \\n' % (site_ip_name[src_ip], src_ip, site_ip_name[dest_ip], dest_ip)   \n",
    "    if len(wtext)>0:\n",
    "        text += \"These are the remaining problematic src-destination paths for the past hour:\\n\"\n",
    "        text += wtext\n",
    "#    print(text)\n",
    "    for user in user_interest_site_ip[ip]:\n",
    "        user.alerts.append(text)\n",
    "\n",
    "# user_alert_all"
   ]
  },
  {
   "cell_type": "markdown",
   "metadata": {},
   "source": [
    "## Send out alert email customized for each user"
   ]
  },
  {
   "cell_type": "code",
   "execution_count": 22,
   "metadata": {
    "collapsed": false
   },
   "outputs": [
    {
     "name": "stdout",
     "output_type": "stream",
     "text": [
      "Content-Type: text/plain; charset=\"us-ascii\"\n",
      "MIME-Version: 1.0\n",
      "Content-Transfer-Encoding: 7bit\n",
      "Subject: Significant change in the number of network paths with large packet loss where your subscribed site(s) are the source or destination\n",
      "From: AAAS@mwt2.org\n",
      "To: ilijav@gmail.com\n",
      "\n",
      "Dear Ilija Vukotic,\n",
      "\n",
      "\tThis mail is to let you know that there are significant changes in the number of paths with large packet-loss detected by perfSONAR for sites you requested alerting about.\n",
      "\n",
      "The site FMPhI-UNIBA (158.195.14.26)'s network paths have improved, the count of src-destination paths with packet-loss went from 17 to 4.\n",
      "    CA-VICTORIA-WESTGRID-T2 (206.12.154.60)  --->  FMPhI-UNIBA (158.195.14.26) \n",
      "    SFU-LCG2 (206.12.24.251)  --->  FMPhI-UNIBA (158.195.14.26) \n",
      "    TRIUMF-LCG2 (206.12.9.2)  --->  FMPhI-UNIBA (158.195.14.26) \n",
      "    CA-SCINET-T2 (142.150.19.61)  --->  FMPhI-UNIBA (158.195.14.26) \n",
      "\n",
      "\n",
      " To get more information about this alert message and its interpretation, please visit:\n",
      "  http://twiki.opensciencegrid.org/bin/view/Documentation/NetworkingInOSG/PacketLossAlert\n",
      "\n",
      " If you suspect a network problem and wish to follow up on it please email the appropriate support list:\n",
      "     For OSG sites:  goc@opensciencegrid.org using Subject: Possible network issue\n",
      "     For WLCG sites:  wlcg-network-throughput@cern.ch using Subject: Possible network issue\n",
      " Please include this alert email to help expedite your request for network debugging support.\n",
      "\n",
      " To change your alerts preferences please use the following link:\n",
      "https://docs.google.com/forms/d/e/1FAIpQLSeedRVj0RPRadEt8eGobDeneix_vNxUkqbtdNg7rGMNOrpcug/viewform?edit2=2_ABaOnufrzSAOPoVDl6wcXDnQKk0EfkQRmlxj04nw9npJrTAK5BZPijqoLhg\n",
      "\n",
      "Best regards,\n",
      "ATLAS Networking Alert Service\n"
     ]
    }
   ],
   "source": [
    "for user in users:\n",
    "    if len(user.alerts)>0:\n",
    "        body = 'Dear ' + user.name + ',\\n\\n'\n",
    "        body = body + '\\tThis mail is to let you know that there are significant changes in the number of paths with large packet-loss detected by perfSONAR for sites you requested alerting about.\\n\\n'\n",
    "        for a in user.alerts:\n",
    "            body = body + a + '\\n'\n",
    "   \n",
    "        # Add in two items: 1) Where to go for more information and 2) who to contact to pursue fixing this   +SPM 20-Apr-2017\n",
    "        body += '\\n To get more information about this alert message and its interpretation, please visit:\\n'\n",
    "        body += '  http://twiki.opensciencegrid.org/bin/view/Documentation/NetworkingInOSG/PacketLossAlert\\n'\n",
    "        body += '\\n If you suspect a network problem and wish to follow up on it please email the appropriate support list:\\n'\n",
    "        body += '     For OSG sites:  goc@opensciencegrid.org using Subject: Possible network issue\\n'\n",
    "        body += '     For WLCG sites:  wlcg-network-throughput@cern.ch using Subject: Possible network issue\\n'\n",
    "        body += ' Please include this alert email to help expedite your request for network debugging support.\\n'\n",
    "        body += '\\n To change your alerts preferences please use the following link:\\n' + user.link\n",
    "        body += '\\n\\nBest regards,\\nATLAS Networking Alert Service'\n",
    "        #print(body)\n",
    "        A.sendMail(emailSubject, user.email, body)\n",
    "        A.addAlert(test_name, user.name,'change in packet loss')"
   ]
  },
  {
   "cell_type": "code",
   "execution_count": null,
   "metadata": {
    "collapsed": true
   },
   "outputs": [],
   "source": []
  },
  {
   "cell_type": "code",
   "execution_count": null,
   "metadata": {
    "collapsed": true
   },
   "outputs": [],
   "source": []
  }
 ],
 "metadata": {
  "kernelspec": {
   "display_name": "Python 3",
   "language": "python",
   "name": "python3"
  },
  "language_info": {
   "codemirror_mode": {
    "name": "ipython",
    "version": 3
   },
   "file_extension": ".py",
   "mimetype": "text/x-python",
   "name": "python",
   "nbconvert_exporter": "python",
   "pygments_lexer": "ipython3",
   "version": "3.5.1"
  }
 },
 "nbformat": 4,
 "nbformat_minor": 0
}
