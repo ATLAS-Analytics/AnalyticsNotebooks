{
 "cells": [
  {
   "cell_type": "markdown",
   "metadata": {},
   "source": [
    "# Send alert emails about packet loss based on alarms and user subscribing"
   ]
  },
  {
   "cell_type": "markdown",
   "metadata": {},
   "source": [
    "This notebook is run by a cron job every hour, and its purpose is to send alert emails about packet loss for user specified site(s) based on alarms and user subscribing records. \n",
    "\n",
    "This notebook works following this procedure: \n",
    "\n",
    "(1) Get all the alarms of type packetloss for the past hour (call it NEW) and past past hour (call it OLD) from Elasticsearch\n",
    "\n",
    "(2) Get the user subscribing records from Google Sheets calling APIs in subscribers.py\n",
    "\n",
    "(3) Process the alarms data and subscribing data to make them easier to use for this monitoring task\n",
    "\n",
    "(4) TN_old means total number of alarmed links involving a specific site ip (no matter from it or to it) for OLD time period\n",
    "\n",
    "(5) TN_new means total number of alarmed links involving a specific site ip (no matter from it or to it) for NEW time period\n",
    "\n",
    "(6) TN_delta means the change of value from TN_old to TN_new. We need to compare TN_delta v.s. +N and v.s. -N (tune N later)\n",
    "\n",
    "(7) If a site ip never occurs in NEW and OLD, then it must be totally fine, and we do not care about it at all (TN_old == TN_new == TN_delta == 0)\n",
    "\n",
    "(8) If a site ip occurs in NEW or OLD or both, then we may have TN_delta > 0 or == 0 or < 0 for this site ip, so we want to take a closer look at this site ip, so we do (9) (10) (11)\n",
    "\n",
    "(9) If TN_delta >= +N, then overall the links connected to this site are becoming worse, so we send email\n",
    "\n",
    "(10) If TN_delta <= -N, then overall the links connected to this site are becoming better, so we send email\n",
    "\n",
    "(11) Otherwise, the overall status for this site is not changing or just changing slightly, so we do not send email\n",
    "\n",
    "(12) In order to send email, we need a dictionary whose key is site ip and value is a list of relevant user emails\n",
    "\n"
   ]
  },
  {
   "cell_type": "markdown",
   "metadata": {},
   "source": [
    "## Import necessary packages and classes"
   ]
  },
  {
   "cell_type": "code",
   "execution_count": 1,
   "metadata": {
    "collapsed": true
   },
   "outputs": [],
   "source": [
    "# Retrieve user subscribing records from google sheets.\n",
    "import subscribers, alerts\n",
    "\n",
    "S = subscribers.subscribers()\n",
    "A = alerts.alerts()\n",
    "\n",
    "# Related to Elasticsearch queries\n",
    "from elasticsearch import Elasticsearch, exceptions as es_exceptions, helpers\n",
    "import datetime\n",
    "\n",
    "# Regular Expression\n",
    "import re"
   ]
  },
  {
   "cell_type": "markdown",
   "metadata": {},
   "source": [
    "## Establish Elasticsearch connection"
   ]
  },
  {
   "cell_type": "code",
   "execution_count": 2,
   "metadata": {
    "collapsed": true
   },
   "outputs": [],
   "source": [
    "es = Elasticsearch(hosts=[{'host':'atlas-kibana.mwt2.org', 'port':9200}],timeout=60)"
   ]
  },
  {
   "cell_type": "markdown",
   "metadata": {},
   "source": [
    "## List all alarms-yyyy.mm indices"
   ]
  },
  {
   "cell_type": "code",
   "execution_count": 3,
   "metadata": {
    "collapsed": false
   },
   "outputs": [
    {
     "name": "stdout",
     "output_type": "stream",
     "text": [
      "['alarms-2016.10', 'alarms-2016.09', 'alarms-2016.08']\n"
     ]
    }
   ],
   "source": [
    "indices = es.cat.indices(index=\"alarms-*\", h=\"index\", request_timeout=600).split('\\n')\n",
    "indices = [x for x in indices if x != '']\n",
    "indices = [x.strip() for x in indices]\n",
    "print(indices)"
   ]
  },
  {
   "cell_type": "markdown",
   "metadata": {},
   "source": [
    "## Find indices to be used"
   ]
  },
  {
   "cell_type": "code",
   "execution_count": 4,
   "metadata": {
    "collapsed": false
   },
   "outputs": [
    {
     "name": "stdout",
     "output_type": "stream",
     "text": [
      "checking for indices: alarms-2016.10 alarms-2016.10\n",
      "will use indices: ['alarms-2016.10']\n"
     ]
    }
   ],
   "source": [
    "cday = datetime.datetime.utcnow()\n",
    "pday = cday - datetime.timedelta(days=1)\n",
    "ind1 = 'alarms-%d.%02d' % (cday.year, cday.month)\n",
    "ind2 = 'alarms-%d.%02d' % (pday.year, pday.month)\n",
    "\n",
    "print('checking for indices:', ind1, ind2)\n",
    "\n",
    "ind=[]\n",
    "if ind1 in indices:\n",
    "    ind.append(ind1)\n",
    "if ind2 != ind1 and ind2 in indices and cday.hour<3:   # not necessarily 3, just indicate it is the beginning period of new day\n",
    "    ind.append(ind2)\n",
    "\n",
    "if len(ind)==0:\n",
    "    print('no current indices found. Aborting.')\n",
    "    exit\n",
    "else:\n",
    "    print('will use indices:', ind)"
   ]
  },
  {
   "cell_type": "markdown",
   "metadata": {},
   "source": [
    "## Queries to find all the alarms of type Packet Loss for the past hour and past past hour"
   ]
  },
  {
   "cell_type": "code",
   "execution_count": 5,
   "metadata": {
    "collapsed": false
   },
   "outputs": [
    {
     "name": "stdout",
     "output_type": "stream",
     "text": [
      "{'query': {'bool': {'filter': {'range': {'alarmTime': {'gt': 'now-1h'}}}, 'must': [{'term': {'_type': 'packetloss'}}]}}, 'size': 1000}\n",
      "{'query': {'bool': {'filter': {'range': {'alarmTime': {'lt': 'now-1h', 'gt': 'now-2h'}}}, 'must': [{'term': {'_type': 'packetloss'}}]}}, 'size': 1000}\n"
     ]
    }
   ],
   "source": [
    "query_new = {\n",
    "    \"size\": 1000,\n",
    "    \"query\": {\n",
    "        \"bool\": {\n",
    "            \"must\": [\n",
    "                {\"term\": { \"_type\": \"packetloss\" }}\n",
    "            ],\n",
    "            \"filter\": {\n",
    "                \"range\": {\n",
    "                    \"alarmTime\": {\n",
    "                        \"gt\": \"now-1h\"\n",
    "                    }\n",
    "                }\n",
    "            }\n",
    "        }\n",
    "    }\n",
    "}\n",
    "\n",
    "query_old = {\n",
    "    \"size\": 1000,\n",
    "    \"query\": {\n",
    "        \"bool\": {\n",
    "            \"must\": [\n",
    "                {\"term\": { \"_type\": \"packetloss\" }}\n",
    "            ],\n",
    "            \"filter\": {\n",
    "                \"range\": {\n",
    "                    \"alarmTime\": {\n",
    "                        \"gt\": \"now-2h\",\n",
    "                        \"lt\": \"now-1h\"\n",
    "                    }\n",
    "                }\n",
    "            }\n",
    "        }\n",
    "    }\n",
    "}\n",
    "\n",
    "print(query_new)\n",
    "print(query_old)"
   ]
  },
  {
   "cell_type": "markdown",
   "metadata": {},
   "source": [
    "## Execute the query"
   ]
  },
  {
   "cell_type": "code",
   "execution_count": 6,
   "metadata": {
    "collapsed": false
   },
   "outputs": [
    {
     "name": "stdout",
     "output_type": "stream",
     "text": [
      "Number of hits of new alarms: 134\n",
      "Number of hits of old alarms: 114\n"
     ]
    }
   ],
   "source": [
    "result_new = es.search(index=ind, body=query_new, request_timeout=120)\n",
    "print('Number of hits of new alarms:', result_new['hits']['total'] )\n",
    "\n",
    "result_old = es.search(index=ind, body=query_old, request_timeout=120)\n",
    "print('Number of hits of old alarms:', result_old['hits']['total'] )\n",
    "\n",
    "hits_new = result_new['hits']['hits']\n",
    "hits_old = result_old['hits']['hits']"
   ]
  },
  {
   "cell_type": "markdown",
   "metadata": {},
   "source": [
    "## Generate the two dictionaries for sites, one is from ip to name, one is from name to ip"
   ]
  },
  {
   "cell_type": "code",
   "execution_count": 7,
   "metadata": {
    "collapsed": false,
    "scrolled": true
   },
   "outputs": [
    {
     "name": "stdout",
     "output_type": "stream",
     "text": [
      "{'141.108.35.18': 'INFN-ROMA1', '149.165.225.223': 'MWT2', '128.227.221.44': 'UFlorida-HPC', '192.41.230.59': 'AGLT2', '129.215.213.70': 'UKI-SCOTGRID-ECDF', '206.12.154.60': 'CA-VICTORIA-WESTGRID-T2', '137.222.74.15': 'UKI-SOUTHGRID-BRIS-HEP', '134.61.24.193': 'UnknownSite', '141.34.200.28': 'DESY-ZN', '193.144.80.12': 'UnknownSite', '194.80.35.169': 'UKI-NORTHGRID-LANCS-HEP', '134.158.20.192': 'IN2P3-CPPM', '143.215.129.69': 'UnknownSite', '134.158.150.245': 'IN2P3-IRES', '129.107.255.29': 'UTA_SWT2', '159.93.229.151': 'JINR-T1', '18.12.1.171': 'UnknownSite', '192.41.236.35': 'UnknownSite', '193.109.172.188': 'pic', '193.239.180.211': 'UnknownSite', '132.230.202.235': 'UNI-FREIBURG', '81.180.86.38': 'RO-02-NIPNE', '129.93.239.148': 'Nebraska', '192.108.47.12': 'FZK-LCG2', '192.135.14.32': 'INFN-MILANO-ATLASC', '144.206.236.189': 'RRC-KI-T1', '195.194.105.178': 'UKI-NORTHGRID-MAN-HEP', '134.158.123.183': 'IN2P3-LPC', '194.36.11.38': 'UKI-LT2-QMUL', '131.154.254.12': 'INFN-T1', '131.111.66.196': 'UKI-SOUTHGRID-CAM-HEP', '134.158.73.243': 'GRIF', '81.180.86.64': 'RO-07-NIPNE', '192.170.227.160': 'MWT2', '85.122.31.74': 'RO-16-UAIC', '130.246.176.109': 'RAL-LCG2', '143.167.3.116': 'UKI-NORTHGRID-SHEF-HEP', '192.111.108.112': 'Vanderbilt', '194.190.165.192': 'RU-Protvino-IHEP', '131.169.98.30': 'DESY-HH', '109.105.125.232': 'FI_HIP_T2', '193.48.99.76': 'IN2P3-CC', '193.205.76.76': 'UnknownSite', '192.12.15.111': 'BNL-ATLAS', '134.158.132.200': 'GRIF', '128.142.223.247': 'CERN-PROD', '161.116.81.235': 'UnknownSite', '148.6.8.251': 'BUDAPEST', '131.225.205.12': 'UnknownSite', '163.1.5.210': 'UKI-SOUTHGRID-OX-HEP', '145.100.17.8': 'SARA-MATRIX', '158.195.14.26': 'FMPhI-UNIBA', '146.83.90.7': 'EELA-UTFSM', '192.231.127.41': 'Australia-ATLAS', '130.246.47.129': 'UKI-SOUTHGRID-RALPP', '144.206.237.142': 'RRC-KI', '134.158.159.85': 'GRIF', '200.136.80.20': 'SPRACE', '152.84.101.141': 'UnknownSite', '147.213.204.112': 'IEPSAS-Kosice', '72.36.96.4': 'MWT2', '192.5.207.251': 'BU_ATLAS_Tier2', '193.62.56.9': 'UKI-SOUTHGRID-BHAM-HEP', '144.92.180.75': 'GLOW', '90.147.66.50': 'UnknownSite', '193.136.75.146': 'NCG-INGRID-PT', '165.91.55.4': 'UnknownSite', '148.187.64.25': 'CSCS-LCG2', '193.60.193.3': 'UKI-SCOTGRID-DURHAM', '202.122.32.170': 'BEIJING-LCG2', '134.158.103.10': 'IN2P3-LAPP'}\n"
     ]
    }
   ],
   "source": [
    "site_ip_name = {}\n",
    "\n",
    "for hit in hits_new:\n",
    "    info = hit['_source']\n",
    "    site_ip_name[info['src']] = info['srcSite']\n",
    "    site_ip_name[info['dest']] = info['destSite']\n",
    "\n",
    "for hit in hits_old:\n",
    "    info = hit['_source']\n",
    "    site_ip_name[info['src']] = info['srcSite']\n",
    "    site_ip_name[info['dest']] = info['destSite']\n",
    "\n",
    "print(site_ip_name)"
   ]
  },
  {
   "cell_type": "code",
   "execution_count": 8,
   "metadata": {
    "collapsed": false,
    "scrolled": true
   },
   "outputs": [
    {
     "name": "stdout",
     "output_type": "stream",
     "text": [
      "{'RU-Protvino-IHEP': ['194.190.165.192'], 'UKI-SOUTHGRID-CAM-HEP': ['131.111.66.196'], 'INFN-ROMA1': ['141.108.35.18'], 'FZK-LCG2': ['192.108.47.12'], 'RO-02-NIPNE': ['81.180.86.38'], 'GRIF': ['134.158.73.243', '134.158.132.200', '134.158.159.85'], 'CSCS-LCG2': ['148.187.64.25'], 'NCG-INGRID-PT': ['193.136.75.146'], 'UKI-NORTHGRID-SHEF-HEP': ['143.167.3.116'], 'IN2P3-LPC': ['134.158.123.183'], 'BU_ATLAS_Tier2': ['192.5.207.251'], 'IN2P3-CPPM': ['134.158.20.192'], 'INFN-T1': ['131.154.254.12'], 'DESY-ZN': ['141.34.200.28'], 'IN2P3-IRES': ['134.158.150.245'], 'IEPSAS-Kosice': ['147.213.204.112'], 'MWT2': ['149.165.225.223', '192.170.227.160', '72.36.96.4'], 'FI_HIP_T2': ['109.105.125.232'], 'SARA-MATRIX': ['145.100.17.8'], 'UKI-NORTHGRID-LANCS-HEP': ['194.80.35.169'], 'SPRACE': ['200.136.80.20'], 'RRC-KI-T1': ['144.206.236.189'], 'INFN-MILANO-ATLASC': ['192.135.14.32'], 'BEIJING-LCG2': ['202.122.32.170'], 'Vanderbilt': ['192.111.108.112'], 'UKI-SOUTHGRID-OX-HEP': ['163.1.5.210'], 'UKI-NORTHGRID-MAN-HEP': ['195.194.105.178'], 'RO-16-UAIC': ['85.122.31.74'], 'UKI-SOUTHGRID-BHAM-HEP': ['193.62.56.9'], 'pic': ['193.109.172.188'], 'CERN-PROD': ['128.142.223.247'], 'UKI-LT2-QMUL': ['194.36.11.38'], 'IN2P3-LAPP': ['134.158.103.10'], 'FMPhI-UNIBA': ['158.195.14.26'], 'UKI-SCOTGRID-ECDF': ['129.215.213.70'], 'DESY-HH': ['131.169.98.30'], 'UTA_SWT2': ['129.107.255.29'], 'BUDAPEST': ['148.6.8.251'], 'GLOW': ['144.92.180.75'], 'Australia-ATLAS': ['192.231.127.41'], 'EELA-UTFSM': ['146.83.90.7'], 'UKI-SOUTHGRID-BRIS-HEP': ['137.222.74.15'], 'RRC-KI': ['144.206.237.142'], 'UFlorida-HPC': ['128.227.221.44'], 'UKI-SOUTHGRID-RALPP': ['130.246.47.129'], 'JINR-T1': ['159.93.229.151'], 'BNL-ATLAS': ['192.12.15.111'], 'UKI-SCOTGRID-DURHAM': ['193.60.193.3'], 'UNI-FREIBURG': ['132.230.202.235'], 'IN2P3-CC': ['193.48.99.76'], 'RO-07-NIPNE': ['81.180.86.64'], 'CA-VICTORIA-WESTGRID-T2': ['206.12.154.60'], 'Nebraska': ['129.93.239.148'], 'UnknownSite': ['134.61.24.193', '193.144.80.12', '143.215.129.69', '18.12.1.171', '192.41.236.35', '193.239.180.211', '193.205.76.76', '161.116.81.235', '131.225.205.12', '152.84.101.141', '90.147.66.50', '165.91.55.4'], 'AGLT2': ['192.41.230.59'], 'RAL-LCG2': ['130.246.176.109']}\n"
     ]
    }
   ],
   "source": [
    "site_name_ip = {}\n",
    "\n",
    "for ip in site_ip_name:\n",
    "    name = site_ip_name[ip]\n",
    "    if name in site_name_ip:\n",
    "        site_name_ip[name].append(ip)\n",
    "    else:\n",
    "        site_name_ip[name] = [ip]\n",
    "\n",
    "print(site_name_ip)"
   ]
  },
  {
   "cell_type": "markdown",
   "metadata": {},
   "source": [
    "## Calculate TN_old, the total number of alarmed links involving a specific site ip (either as source site or as destination site) for the OLD time period"
   ]
  },
  {
   "cell_type": "code",
   "execution_count": 9,
   "metadata": {
    "collapsed": false,
    "scrolled": true
   },
   "outputs": [
    {
     "data": {
      "text/plain": [
       "{'128.142.223.247': 2,\n",
       " '128.227.221.44': 1,\n",
       " '129.107.255.29': 1,\n",
       " '129.215.213.70': 2,\n",
       " '129.93.239.148': 1,\n",
       " '130.246.176.109': 2,\n",
       " '130.246.47.129': 2,\n",
       " '131.111.66.196': 2,\n",
       " '131.154.254.12': 2,\n",
       " '131.169.98.30': 3,\n",
       " '131.225.205.12': 2,\n",
       " '132.230.202.235': 8,\n",
       " '134.158.103.10': 2,\n",
       " '134.158.123.183': 1,\n",
       " '134.158.132.200': 2,\n",
       " '134.158.150.245': 3,\n",
       " '134.158.159.85': 2,\n",
       " '134.158.20.192': 1,\n",
       " '134.158.73.243': 4,\n",
       " '134.61.24.193': 3,\n",
       " '137.222.74.15': 3,\n",
       " '141.108.35.18': 16,\n",
       " '141.34.200.28': 1,\n",
       " '143.167.3.116': 1,\n",
       " '143.215.129.69': 1,\n",
       " '144.206.236.189': 2,\n",
       " '144.206.237.142': 2,\n",
       " '144.92.180.75': 1,\n",
       " '145.100.17.8': 2,\n",
       " '146.83.90.7': 1,\n",
       " '147.213.204.112': 1,\n",
       " '148.187.64.25': 4,\n",
       " '148.6.8.251': 23,\n",
       " '149.165.225.223': 2,\n",
       " '152.84.101.141': 1,\n",
       " '158.195.14.26': 2,\n",
       " '159.93.229.151': 1,\n",
       " '161.116.81.235': 37,\n",
       " '163.1.5.210': 2,\n",
       " '165.91.55.4': 1,\n",
       " '18.12.1.171': 2,\n",
       " '192.108.47.12': 2,\n",
       " '192.111.108.112': 1,\n",
       " '192.12.15.111': 1,\n",
       " '192.135.14.32': 3,\n",
       " '192.170.227.160': 2,\n",
       " '192.231.127.41': 1,\n",
       " '192.41.230.59': 1,\n",
       " '192.41.236.35': 6,\n",
       " '192.5.207.251': 1,\n",
       " '193.109.172.188': 1,\n",
       " '193.136.75.146': 8,\n",
       " '193.144.80.12': 3,\n",
       " '193.205.76.76': 2,\n",
       " '193.239.180.211': 1,\n",
       " '193.48.99.76': 3,\n",
       " '193.60.193.3': 1,\n",
       " '193.62.56.9': 4,\n",
       " '194.190.165.192': 4,\n",
       " '194.36.11.38': 2,\n",
       " '194.80.35.169': 2,\n",
       " '195.194.105.178': 1,\n",
       " '200.136.80.20': 1,\n",
       " '202.122.32.170': 3,\n",
       " '206.12.154.60': 1,\n",
       " '72.36.96.4': 2,\n",
       " '81.180.86.38': 9,\n",
       " '81.180.86.64': 7,\n",
       " '85.122.31.74': 1,\n",
       " '90.147.66.50': 2}"
      ]
     },
     "execution_count": 9,
     "metadata": {},
     "output_type": "execute_result"
    }
   ],
   "source": [
    "TN_old = {}\n",
    "\n",
    "def TN_old_add_one(ip):\n",
    "    if ip in TN_old:\n",
    "        TN_old[ip] += 1\n",
    "    else:\n",
    "        TN_old[ip] = 1\n",
    "\n",
    "for alarm in hits_old:\n",
    "    TN_old_add_one(alarm['_source']['src'])\n",
    "    TN_old_add_one(alarm['_source']['dest'])\n",
    "\n",
    "TN_old"
   ]
  },
  {
   "cell_type": "markdown",
   "metadata": {},
   "source": [
    "## Calculate TN_new, the total number of alarmed links involving a specific site ip (either as source site or as destination site) for the NEW time period"
   ]
  },
  {
   "cell_type": "code",
   "execution_count": 10,
   "metadata": {
    "collapsed": false,
    "scrolled": true
   },
   "outputs": [
    {
     "data": {
      "text/plain": [
       "{'109.105.125.232': 1,\n",
       " '128.142.223.247': 3,\n",
       " '128.227.221.44': 1,\n",
       " '129.107.255.29': 1,\n",
       " '129.215.213.70': 3,\n",
       " '129.93.239.148': 1,\n",
       " '130.246.176.109': 3,\n",
       " '130.246.47.129': 1,\n",
       " '131.111.66.196': 3,\n",
       " '131.154.254.12': 3,\n",
       " '131.169.98.30': 3,\n",
       " '131.225.205.12': 2,\n",
       " '132.230.202.235': 8,\n",
       " '134.158.103.10': 3,\n",
       " '134.158.123.183': 2,\n",
       " '134.158.132.200': 3,\n",
       " '134.158.150.245': 3,\n",
       " '134.158.159.85': 4,\n",
       " '134.158.20.192': 2,\n",
       " '134.158.73.243': 5,\n",
       " '134.61.24.193': 3,\n",
       " '137.222.74.15': 3,\n",
       " '141.108.35.18': 16,\n",
       " '141.34.200.28': 2,\n",
       " '143.167.3.116': 1,\n",
       " '143.215.129.69': 1,\n",
       " '144.206.236.189': 3,\n",
       " '144.206.237.142': 2,\n",
       " '144.92.180.75': 1,\n",
       " '145.100.17.8': 3,\n",
       " '146.83.90.7': 1,\n",
       " '148.187.64.25': 5,\n",
       " '148.6.8.251': 23,\n",
       " '149.165.225.223': 2,\n",
       " '152.84.101.141': 1,\n",
       " '158.195.14.26': 1,\n",
       " '159.93.229.151': 1,\n",
       " '161.116.81.235': 37,\n",
       " '163.1.5.210': 3,\n",
       " '165.91.55.4': 1,\n",
       " '18.12.1.171': 2,\n",
       " '192.108.47.12': 3,\n",
       " '192.111.108.112': 1,\n",
       " '192.12.15.111': 1,\n",
       " '192.135.14.32': 3,\n",
       " '192.170.227.160': 2,\n",
       " '192.231.127.41': 1,\n",
       " '192.41.230.59': 1,\n",
       " '192.41.236.35': 6,\n",
       " '192.5.207.251': 1,\n",
       " '193.109.172.188': 1,\n",
       " '193.136.75.146': 8,\n",
       " '193.144.80.12': 26,\n",
       " '193.205.76.76': 3,\n",
       " '193.239.180.211': 1,\n",
       " '193.48.99.76': 3,\n",
       " '193.60.193.3': 2,\n",
       " '193.62.56.9': 4,\n",
       " '194.190.165.192': 3,\n",
       " '194.36.11.38': 2,\n",
       " '194.80.35.169': 3,\n",
       " '195.194.105.178': 2,\n",
       " '200.136.80.20': 1,\n",
       " '202.122.32.170': 2,\n",
       " '206.12.154.60': 1,\n",
       " '72.36.96.4': 2,\n",
       " '81.180.86.38': 7,\n",
       " '81.180.86.64': 7,\n",
       " '85.122.31.74': 1,\n",
       " '90.147.66.50': 3}"
      ]
     },
     "execution_count": 10,
     "metadata": {},
     "output_type": "execute_result"
    }
   ],
   "source": [
    "TN_new = {}\n",
    "\n",
    "def TN_new_add_one(ip):\n",
    "    if ip in TN_new:\n",
    "        TN_new[ip] += 1\n",
    "    else:\n",
    "        TN_new[ip] = 1\n",
    "\n",
    "for alarm in hits_new:\n",
    "    TN_new_add_one(alarm['_source']['src'])\n",
    "    TN_new_add_one(alarm['_source']['dest'])\n",
    "\n",
    "TN_new"
   ]
  },
  {
   "cell_type": "markdown",
   "metadata": {},
   "source": [
    "## Calculate TN_delta, which is equal to ( TN_new - TN_old )"
   ]
  },
  {
   "cell_type": "code",
   "execution_count": 11,
   "metadata": {
    "collapsed": false,
    "scrolled": true
   },
   "outputs": [
    {
     "data": {
      "text/plain": [
       "{'109.105.125.232': 1,\n",
       " '128.142.223.247': 1,\n",
       " '128.227.221.44': 0,\n",
       " '129.107.255.29': 0,\n",
       " '129.215.213.70': 1,\n",
       " '129.93.239.148': 0,\n",
       " '130.246.176.109': 1,\n",
       " '130.246.47.129': -1,\n",
       " '131.111.66.196': 1,\n",
       " '131.154.254.12': 1,\n",
       " '131.169.98.30': 0,\n",
       " '131.225.205.12': 0,\n",
       " '132.230.202.235': 0,\n",
       " '134.158.103.10': 1,\n",
       " '134.158.123.183': 1,\n",
       " '134.158.132.200': 1,\n",
       " '134.158.150.245': 0,\n",
       " '134.158.159.85': 2,\n",
       " '134.158.20.192': 1,\n",
       " '134.158.73.243': 1,\n",
       " '134.61.24.193': 0,\n",
       " '137.222.74.15': 0,\n",
       " '141.108.35.18': 0,\n",
       " '141.34.200.28': 1,\n",
       " '143.167.3.116': 0,\n",
       " '143.215.129.69': 0,\n",
       " '144.206.236.189': 1,\n",
       " '144.206.237.142': 0,\n",
       " '144.92.180.75': 0,\n",
       " '145.100.17.8': 1,\n",
       " '146.83.90.7': 0,\n",
       " '147.213.204.112': -1,\n",
       " '148.187.64.25': 1,\n",
       " '148.6.8.251': 0,\n",
       " '149.165.225.223': 0,\n",
       " '152.84.101.141': 0,\n",
       " '158.195.14.26': -1,\n",
       " '159.93.229.151': 0,\n",
       " '161.116.81.235': 0,\n",
       " '163.1.5.210': 1,\n",
       " '165.91.55.4': 0,\n",
       " '18.12.1.171': 0,\n",
       " '192.108.47.12': 1,\n",
       " '192.111.108.112': 0,\n",
       " '192.12.15.111': 0,\n",
       " '192.135.14.32': 0,\n",
       " '192.170.227.160': 0,\n",
       " '192.231.127.41': 0,\n",
       " '192.41.230.59': 0,\n",
       " '192.41.236.35': 0,\n",
       " '192.5.207.251': 0,\n",
       " '193.109.172.188': 0,\n",
       " '193.136.75.146': 0,\n",
       " '193.144.80.12': 23,\n",
       " '193.205.76.76': 1,\n",
       " '193.239.180.211': 0,\n",
       " '193.48.99.76': 0,\n",
       " '193.60.193.3': 1,\n",
       " '193.62.56.9': 0,\n",
       " '194.190.165.192': -1,\n",
       " '194.36.11.38': 0,\n",
       " '194.80.35.169': 1,\n",
       " '195.194.105.178': 1,\n",
       " '200.136.80.20': 0,\n",
       " '202.122.32.170': -1,\n",
       " '206.12.154.60': 0,\n",
       " '72.36.96.4': 0,\n",
       " '81.180.86.38': -2,\n",
       " '81.180.86.64': 0,\n",
       " '85.122.31.74': 0,\n",
       " '90.147.66.50': 1}"
      ]
     },
     "execution_count": 11,
     "metadata": {},
     "output_type": "execute_result"
    }
   ],
   "source": [
    "TN_delta = {}\n",
    "\n",
    "for ip in TN_old:\n",
    "    if ip in TN_new:\n",
    "        TN_delta[ip] = TN_new[ip] - TN_old[ip]\n",
    "    else:\n",
    "        TN_delta[ip] = -TN_old[ip]\n",
    "\n",
    "for ip in TN_new:\n",
    "    if ip not in TN_old:\n",
    "        TN_delta[ip] = TN_new[ip]\n",
    "\n",
    "TN_delta"
   ]
  },
  {
   "cell_type": "markdown",
   "metadata": {},
   "source": [
    "## Look at the distribution of TN_delta, so that we can tune the parameter N"
   ]
  },
  {
   "cell_type": "code",
   "execution_count": 12,
   "metadata": {
    "collapsed": false
   },
   "outputs": [
    {
     "name": "stdout",
     "output_type": "stream",
     "text": [
      "N=0     links went bad=24     links went good=6     unchanged=41\n",
      "N=1     links went bad=2     links went good=1     unchanged=68\n",
      "N=2     links went bad=1     links went good=0     unchanged=70\n",
      "N=3     links went bad=1     links went good=0     unchanged=70\n",
      "N=4     links went bad=1     links went good=0     unchanged=70\n",
      "N=5     links went bad=1     links went good=0     unchanged=70\n",
      "N=6     links went bad=1     links went good=0     unchanged=70\n",
      "N=7     links went bad=1     links went good=0     unchanged=70\n",
      "N=8     links went bad=1     links went good=0     unchanged=70\n",
      "N=9     links went bad=1     links went good=0     unchanged=70\n"
     ]
    }
   ],
   "source": [
    "for N in range(10):\n",
    "    count_worse = 0\n",
    "    count_better = 0\n",
    "    count_stable = 0\n",
    "    for ip in TN_delta:\n",
    "        if TN_delta[ip] > N:\n",
    "            count_worse += 1\n",
    "        elif TN_delta[ip] < -N:\n",
    "            count_better += 1\n",
    "        else:\n",
    "            count_stable += 1\n",
    "    print('N=%d     links went bad=%d     links went good=%d     unchanged=%d' % (N, count_worse, count_better, count_stable))"
   ]
  },
  {
   "cell_type": "markdown",
   "metadata": {},
   "source": [
    "## Let's use N=3 for now, and we will tune later"
   ]
  },
  {
   "cell_type": "code",
   "execution_count": 13,
   "metadata": {
    "collapsed": false
   },
   "outputs": [
    {
     "name": "stdout",
     "output_type": "stream",
     "text": [
      "--- The ip of the site(s) which got worse:\n",
      "['193.144.80.12']\n",
      "--- The ip of the site(s) which got better:\n",
      "[]\n"
     ]
    }
   ],
   "source": [
    "N = 3\n",
    "\n",
    "ip_list_worse = []\n",
    "ip_list_better = []\n",
    "\n",
    "for ip in TN_delta:\n",
    "    if TN_delta[ip] >= N:\n",
    "        ip_list_worse.append(ip)\n",
    "    elif TN_delta[ip] <= -N:\n",
    "        ip_list_better.append(ip)\n",
    "\n",
    "print('--- The ip of the site(s) which got worse:')\n",
    "print(ip_list_worse)\n",
    "print('--- The ip of the site(s) which got better:')\n",
    "print(ip_list_better)"
   ]
  },
  {
   "cell_type": "markdown",
   "metadata": {},
   "source": [
    "## Generate the dictionary: key = site name, value = a list of relevant user emails"
   ]
  },
  {
   "cell_type": "code",
   "execution_count": 14,
   "metadata": {
    "collapsed": false,
    "scrolled": true
   },
   "outputs": [
    {
     "data": {
      "text/plain": [
       "{'AGLT2': ['ilijav@gmail.com', 'marian.babik@cern.ch'],\n",
       " 'Australia-ATLAS': ['ilijav@gmail.com', 'marian.babik@cern.ch'],\n",
       " 'BEIJING-LCG2': ['ilijav@gmail.com', 'marian.babik@cern.ch'],\n",
       " 'BNL-ATLAS': ['ilijav@gmail.com', 'marian.babik@cern.ch'],\n",
       " 'BUDAPEST': ['ilijav@gmail.com', 'marian.babik@cern.ch'],\n",
       " 'BU_ATLAS_Tier2': ['ilijav@gmail.com', 'marian.babik@cern.ch'],\n",
       " 'CA-VICTORIA-WESTGRID-T2': ['ilijav@gmail.com', 'marian.babik@cern.ch'],\n",
       " 'CERN-PROD': ['ilijav@gmail.com', 'marian.babik@cern.ch'],\n",
       " 'CSCS-LCG2': ['ilijav@gmail.com', 'marian.babik@cern.ch'],\n",
       " 'DESY-HH': ['ilijav@gmail.com', 'marian.babik@cern.ch'],\n",
       " 'DESY-ZN': ['ilijav@gmail.com', 'marian.babik@cern.ch'],\n",
       " 'EELA-UTFSM': ['ilijav@gmail.com', 'marian.babik@cern.ch'],\n",
       " 'FI_HIP_T2': ['ilijav@gmail.com', 'marian.babik@cern.ch'],\n",
       " 'FMPhI-UNIBA': ['ilijav@gmail.com', 'marian.babik@cern.ch'],\n",
       " 'FZK-LCG2': ['ilijav@gmail.com', 'marian.babik@cern.ch'],\n",
       " 'GLOW': ['ilijav@gmail.com', 'marian.babik@cern.ch'],\n",
       " 'GRIF': ['ilijav@gmail.com', 'marian.babik@cern.ch'],\n",
       " 'IEPSAS-Kosice': ['ilijav@gmail.com', 'marian.babik@cern.ch'],\n",
       " 'IN2P3-CC': ['ilijav@gmail.com', 'marian.babik@cern.ch'],\n",
       " 'IN2P3-CPPM': ['ilijav@gmail.com', 'marian.babik@cern.ch'],\n",
       " 'IN2P3-IRES': ['ilijav@gmail.com', 'marian.babik@cern.ch'],\n",
       " 'IN2P3-LAPP': ['ilijav@gmail.com', 'marian.babik@cern.ch'],\n",
       " 'IN2P3-LPC': ['ilijav@gmail.com', 'marian.babik@cern.ch'],\n",
       " 'INFN-MILANO-ATLASC': ['ilijav@gmail.com', 'marian.babik@cern.ch'],\n",
       " 'INFN-ROMA1': ['ilijav@gmail.com', 'marian.babik@cern.ch'],\n",
       " 'INFN-T1': ['ilijav@gmail.com', 'marian.babik@cern.ch'],\n",
       " 'JINR-T1': ['ilijav@gmail.com', 'marian.babik@cern.ch'],\n",
       " 'MWT2': ['ilijav@gmail.com', 'LINCOLNB@UCHICAGO.EDU', 'marian.babik@cern.ch'],\n",
       " 'NCG-INGRID-PT': ['ilijav@gmail.com', 'marian.babik@cern.ch'],\n",
       " 'Nebraska': ['ilijav@gmail.com', 'marian.babik@cern.ch'],\n",
       " 'RAL-LCG2': ['ilijav@gmail.com', 'marian.babik@cern.ch'],\n",
       " 'RO-02-NIPNE': ['ilijav@gmail.com', 'marian.babik@cern.ch'],\n",
       " 'RO-07-NIPNE': ['ilijav@gmail.com', 'marian.babik@cern.ch'],\n",
       " 'RO-16-UAIC': ['ilijav@gmail.com', 'marian.babik@cern.ch'],\n",
       " 'RRC-KI': ['ilijav@gmail.com', 'marian.babik@cern.ch'],\n",
       " 'RRC-KI-T1': ['ilijav@gmail.com', 'marian.babik@cern.ch'],\n",
       " 'RU-Protvino-IHEP': ['ilijav@gmail.com', 'marian.babik@cern.ch'],\n",
       " 'SARA-MATRIX': ['ilijav@gmail.com', 'marian.babik@cern.ch'],\n",
       " 'SPRACE': ['ilijav@gmail.com', 'marian.babik@cern.ch'],\n",
       " 'UFlorida-HPC': ['ilijav@gmail.com', 'marian.babik@cern.ch'],\n",
       " 'UKI-LT2-QMUL': ['ilijav@gmail.com', 'marian.babik@cern.ch'],\n",
       " 'UKI-NORTHGRID-LANCS-HEP': ['ilijav@gmail.com', 'marian.babik@cern.ch'],\n",
       " 'UKI-NORTHGRID-MAN-HEP': ['ilijav@gmail.com', 'marian.babik@cern.ch'],\n",
       " 'UKI-NORTHGRID-SHEF-HEP': ['ilijav@gmail.com', 'marian.babik@cern.ch'],\n",
       " 'UKI-SCOTGRID-DURHAM': ['ilijav@gmail.com', 'marian.babik@cern.ch'],\n",
       " 'UKI-SCOTGRID-ECDF': ['ilijav@gmail.com', 'marian.babik@cern.ch'],\n",
       " 'UKI-SOUTHGRID-BHAM-HEP': ['ilijav@gmail.com', 'marian.babik@cern.ch'],\n",
       " 'UKI-SOUTHGRID-BRIS-HEP': ['ilijav@gmail.com', 'marian.babik@cern.ch'],\n",
       " 'UKI-SOUTHGRID-CAM-HEP': ['ilijav@gmail.com', 'marian.babik@cern.ch'],\n",
       " 'UKI-SOUTHGRID-OX-HEP': ['ilijav@gmail.com', 'marian.babik@cern.ch'],\n",
       " 'UKI-SOUTHGRID-RALPP': ['ilijav@gmail.com', 'marian.babik@cern.ch'],\n",
       " 'UNI-FREIBURG': ['ilijav@gmail.com', 'marian.babik@cern.ch'],\n",
       " 'UTA_SWT2': ['ilijav@gmail.com', 'marian.babik@cern.ch'],\n",
       " 'UnknownSite': ['ilijav@gmail.com', 'marian.babik@cern.ch'],\n",
       " 'Vanderbilt': ['ilijav@gmail.com', 'marian.babik@cern.ch'],\n",
       " 'pic': ['ilijav@gmail.com', 'marian.babik@cern.ch']}"
      ]
     },
     "execution_count": 14,
     "metadata": {},
     "output_type": "execute_result"
    }
   ],
   "source": [
    "user_interest_site_name = {}\n",
    "\n",
    "def reg_user_interest_site_name(sitename, email):\n",
    "    if sitename in user_interest_site_name:\n",
    "        user_interest_site_name[sitename].append(email)\n",
    "    else:\n",
    "        user_interest_site_name[sitename] = [email]\n",
    "\n",
    "testName = 'Packet loss increase for link(s) where your site is a source or destination'\n",
    "\n",
    "subscribe_records = S.getSubscribers_withSiteName(testName)\n",
    "\n",
    "# Handle blank answer, one site, several sites separated by comma, wildcard such as prefix* etc.\n",
    "for record in subscribe_records:\n",
    "    email = record[1]\n",
    "    sitenames = record[3].strip()\n",
    "    if len(sitenames) == 0:\n",
    "        sitenames = '.'  # Handle blank answer, so match all site names\n",
    "    sitenames = [x.strip().replace('*', '.') for x in sitenames.split(',')]  # Handle several site names, and wildcard\n",
    "    for sn in sitenames:\n",
    "        p = re.compile(sn, re.IGNORECASE)\n",
    "        for sitename in site_name_ip:\n",
    "            if p.match(sitename):\n",
    "                reg_user_interest_site_name(sitename, email)\n",
    "\n",
    "user_interest_site_name"
   ]
  },
  {
   "cell_type": "markdown",
   "metadata": {},
   "source": [
    "## Generate the dictionary: key = site ip, value = a list of relevant user emails"
   ]
  },
  {
   "cell_type": "code",
   "execution_count": 15,
   "metadata": {
    "collapsed": false
   },
   "outputs": [
    {
     "data": {
      "text/plain": [
       "{'109.105.125.232': ['ilijav@gmail.com', 'marian.babik@cern.ch'],\n",
       " '128.142.223.247': ['ilijav@gmail.com', 'marian.babik@cern.ch'],\n",
       " '128.227.221.44': ['ilijav@gmail.com', 'marian.babik@cern.ch'],\n",
       " '129.107.255.29': ['ilijav@gmail.com', 'marian.babik@cern.ch'],\n",
       " '129.215.213.70': ['ilijav@gmail.com', 'marian.babik@cern.ch'],\n",
       " '129.93.239.148': ['ilijav@gmail.com', 'marian.babik@cern.ch'],\n",
       " '130.246.176.109': ['ilijav@gmail.com', 'marian.babik@cern.ch'],\n",
       " '130.246.47.129': ['ilijav@gmail.com', 'marian.babik@cern.ch'],\n",
       " '131.111.66.196': ['ilijav@gmail.com', 'marian.babik@cern.ch'],\n",
       " '131.154.254.12': ['ilijav@gmail.com', 'marian.babik@cern.ch'],\n",
       " '131.169.98.30': ['ilijav@gmail.com', 'marian.babik@cern.ch'],\n",
       " '131.225.205.12': ['ilijav@gmail.com', 'marian.babik@cern.ch'],\n",
       " '132.230.202.235': ['ilijav@gmail.com', 'marian.babik@cern.ch'],\n",
       " '134.158.103.10': ['ilijav@gmail.com', 'marian.babik@cern.ch'],\n",
       " '134.158.123.183': ['ilijav@gmail.com', 'marian.babik@cern.ch'],\n",
       " '134.158.132.200': ['ilijav@gmail.com', 'marian.babik@cern.ch'],\n",
       " '134.158.150.245': ['ilijav@gmail.com', 'marian.babik@cern.ch'],\n",
       " '134.158.159.85': ['ilijav@gmail.com', 'marian.babik@cern.ch'],\n",
       " '134.158.20.192': ['ilijav@gmail.com', 'marian.babik@cern.ch'],\n",
       " '134.158.73.243': ['ilijav@gmail.com', 'marian.babik@cern.ch'],\n",
       " '134.61.24.193': ['ilijav@gmail.com', 'marian.babik@cern.ch'],\n",
       " '137.222.74.15': ['ilijav@gmail.com', 'marian.babik@cern.ch'],\n",
       " '141.108.35.18': ['ilijav@gmail.com', 'marian.babik@cern.ch'],\n",
       " '141.34.200.28': ['ilijav@gmail.com', 'marian.babik@cern.ch'],\n",
       " '143.167.3.116': ['ilijav@gmail.com', 'marian.babik@cern.ch'],\n",
       " '143.215.129.69': ['ilijav@gmail.com', 'marian.babik@cern.ch'],\n",
       " '144.206.236.189': ['ilijav@gmail.com', 'marian.babik@cern.ch'],\n",
       " '144.206.237.142': ['ilijav@gmail.com', 'marian.babik@cern.ch'],\n",
       " '144.92.180.75': ['ilijav@gmail.com', 'marian.babik@cern.ch'],\n",
       " '145.100.17.8': ['ilijav@gmail.com', 'marian.babik@cern.ch'],\n",
       " '146.83.90.7': ['ilijav@gmail.com', 'marian.babik@cern.ch'],\n",
       " '147.213.204.112': ['ilijav@gmail.com', 'marian.babik@cern.ch'],\n",
       " '148.187.64.25': ['ilijav@gmail.com', 'marian.babik@cern.ch'],\n",
       " '148.6.8.251': ['ilijav@gmail.com', 'marian.babik@cern.ch'],\n",
       " '149.165.225.223': ['ilijav@gmail.com',\n",
       "  'LINCOLNB@UCHICAGO.EDU',\n",
       "  'marian.babik@cern.ch'],\n",
       " '152.84.101.141': ['ilijav@gmail.com', 'marian.babik@cern.ch'],\n",
       " '158.195.14.26': ['ilijav@gmail.com', 'marian.babik@cern.ch'],\n",
       " '159.93.229.151': ['ilijav@gmail.com', 'marian.babik@cern.ch'],\n",
       " '161.116.81.235': ['ilijav@gmail.com', 'marian.babik@cern.ch'],\n",
       " '163.1.5.210': ['ilijav@gmail.com', 'marian.babik@cern.ch'],\n",
       " '165.91.55.4': ['ilijav@gmail.com', 'marian.babik@cern.ch'],\n",
       " '18.12.1.171': ['ilijav@gmail.com', 'marian.babik@cern.ch'],\n",
       " '192.108.47.12': ['ilijav@gmail.com', 'marian.babik@cern.ch'],\n",
       " '192.111.108.112': ['ilijav@gmail.com', 'marian.babik@cern.ch'],\n",
       " '192.12.15.111': ['ilijav@gmail.com', 'marian.babik@cern.ch'],\n",
       " '192.135.14.32': ['ilijav@gmail.com', 'marian.babik@cern.ch'],\n",
       " '192.170.227.160': ['ilijav@gmail.com',\n",
       "  'LINCOLNB@UCHICAGO.EDU',\n",
       "  'marian.babik@cern.ch'],\n",
       " '192.231.127.41': ['ilijav@gmail.com', 'marian.babik@cern.ch'],\n",
       " '192.41.230.59': ['ilijav@gmail.com', 'marian.babik@cern.ch'],\n",
       " '192.41.236.35': ['ilijav@gmail.com', 'marian.babik@cern.ch'],\n",
       " '192.5.207.251': ['ilijav@gmail.com', 'marian.babik@cern.ch'],\n",
       " '193.109.172.188': ['ilijav@gmail.com', 'marian.babik@cern.ch'],\n",
       " '193.136.75.146': ['ilijav@gmail.com', 'marian.babik@cern.ch'],\n",
       " '193.144.80.12': ['ilijav@gmail.com', 'marian.babik@cern.ch'],\n",
       " '193.205.76.76': ['ilijav@gmail.com', 'marian.babik@cern.ch'],\n",
       " '193.239.180.211': ['ilijav@gmail.com', 'marian.babik@cern.ch'],\n",
       " '193.48.99.76': ['ilijav@gmail.com', 'marian.babik@cern.ch'],\n",
       " '193.60.193.3': ['ilijav@gmail.com', 'marian.babik@cern.ch'],\n",
       " '193.62.56.9': ['ilijav@gmail.com', 'marian.babik@cern.ch'],\n",
       " '194.190.165.192': ['ilijav@gmail.com', 'marian.babik@cern.ch'],\n",
       " '194.36.11.38': ['ilijav@gmail.com', 'marian.babik@cern.ch'],\n",
       " '194.80.35.169': ['ilijav@gmail.com', 'marian.babik@cern.ch'],\n",
       " '195.194.105.178': ['ilijav@gmail.com', 'marian.babik@cern.ch'],\n",
       " '200.136.80.20': ['ilijav@gmail.com', 'marian.babik@cern.ch'],\n",
       " '202.122.32.170': ['ilijav@gmail.com', 'marian.babik@cern.ch'],\n",
       " '206.12.154.60': ['ilijav@gmail.com', 'marian.babik@cern.ch'],\n",
       " '72.36.96.4': ['ilijav@gmail.com',\n",
       "  'LINCOLNB@UCHICAGO.EDU',\n",
       "  'marian.babik@cern.ch'],\n",
       " '81.180.86.38': ['ilijav@gmail.com', 'marian.babik@cern.ch'],\n",
       " '81.180.86.64': ['ilijav@gmail.com', 'marian.babik@cern.ch'],\n",
       " '85.122.31.74': ['ilijav@gmail.com', 'marian.babik@cern.ch'],\n",
       " '90.147.66.50': ['ilijav@gmail.com', 'marian.babik@cern.ch']}"
      ]
     },
     "execution_count": 15,
     "metadata": {},
     "output_type": "execute_result"
    }
   ],
   "source": [
    "user_interest_site_ip = {}\n",
    "\n",
    "def reg_user_interest_site_ip(siteip, email):\n",
    "    if siteip in user_interest_site_ip:\n",
    "        user_interest_site_ip[siteip].append(email)\n",
    "    else:\n",
    "        user_interest_site_ip[siteip] = [email]\n",
    "\n",
    "for sitename in user_interest_site_name:\n",
    "    for siteip in site_name_ip[sitename]:\n",
    "        for email in user_interest_site_name[sitename]:\n",
    "            reg_user_interest_site_ip(siteip, email)\n",
    "\n",
    "user_interest_site_ip"
   ]
  },
  {
   "cell_type": "markdown",
   "metadata": {},
   "source": [
    "## The variable user_alert_all holds all the needed info to send an email to a specific user"
   ]
  },
  {
   "cell_type": "code",
   "execution_count": 16,
   "metadata": {
    "collapsed": false
   },
   "outputs": [],
   "source": [
    "user_alert_all = S.getAllUserBasicInfo()\n",
    "#user_alert_all"
   ]
  },
  {
   "cell_type": "markdown",
   "metadata": {},
   "source": [
    "## Generate info for sending alert emails (for the sites getting worse)"
   ]
  },
  {
   "cell_type": "code",
   "execution_count": 17,
   "metadata": {
    "collapsed": false
   },
   "outputs": [
    {
     "name": "stdout",
     "output_type": "stream",
     "text": [
      "The site UnknownSite (193.144.80.12)'s links got worse, total number from 3 to 26 links.\n",
      "These are all the bad links for the past hour:\n",
      "    This site  --->  UnknownSite (161.116.81.235) \n",
      "    RAL-LCG2 (130.246.176.109)  --->  This site \n",
      "    CSCS-LCG2 (148.187.64.25)  --->  This site \n",
      "    CERN-PROD (128.142.223.247)  --->  This site \n",
      "    INFN-T1 (131.154.254.12)  --->  This site \n",
      "    IN2P3-LAPP (134.158.103.10)  --->  This site \n",
      "    UKI-SCOTGRID-DURHAM (193.60.193.3)  --->  This site \n",
      "    IN2P3-CC (193.48.99.76)  --->  This site \n",
      "    FZK-LCG2 (192.108.47.12)  --->  This site \n",
      "    UKI-NORTHGRID-LANCS-HEP (194.80.35.169)  --->  This site \n",
      "    RRC-KI (144.206.237.142)  --->  This site \n",
      "    UnknownSite (193.205.76.76)  --->  This site \n",
      "    GRIF (134.158.73.243)  --->  This site \n",
      "    RU-Protvino-IHEP (194.190.165.192)  --->  This site \n",
      "    GRIF (134.158.132.200)  --->  This site \n",
      "    GRIF (134.158.159.85)  --->  This site \n",
      "    RRC-KI-T1 (144.206.236.189)  --->  This site \n",
      "    IN2P3-CPPM (134.158.20.192)  --->  This site \n",
      "    UKI-SCOTGRID-ECDF (129.215.213.70)  --->  This site \n",
      "    SARA-MATRIX (145.100.17.8)  --->  This site \n",
      "    UKI-SOUTHGRID-OX-HEP (163.1.5.210)  --->  This site \n",
      "    UKI-SOUTHGRID-CAM-HEP (131.111.66.196)  --->  This site \n",
      "    DESY-ZN (141.34.200.28)  --->  This site \n",
      "    IN2P3-LPC (134.158.123.183)  --->  This site \n",
      "    UKI-NORTHGRID-MAN-HEP (195.194.105.178)  --->  This site \n",
      "    UnknownSite (90.147.66.50)  --->  This site \n",
      "\n"
     ]
    }
   ],
   "source": [
    "for ip in ip_list_worse:\n",
    "    text = \"The site %s (%s)'s links got worse, total number from %d to %d links.\\n\" % (site_ip_name[ip], ip, TN_old.get(ip,0), TN_new.get(ip,0))\n",
    "    text += \"These are all the bad links for the past hour:\\n\"\n",
    "    for alarm in hits_new:\n",
    "        src_ip = alarm['_source']['src']\n",
    "        dest_ip = alarm['_source']['dest']\n",
    "        if src_ip == ip:\n",
    "            text += '    This site  --->  %s (%s) \\n' % (site_ip_name[dest_ip], dest_ip)\n",
    "    for alarm in hits_new:\n",
    "        src_ip = alarm['_source']['src']\n",
    "        dest_ip = alarm['_source']['dest']\n",
    "        if dest_ip == ip:\n",
    "            text += '    %s (%s)  --->  This site \\n' % (site_ip_name[src_ip], src_ip)\n",
    "    print(text)\n",
    "    for email in user_interest_site_ip[ip]:\n",
    "        user_alert_all[email]['alerts'].append(text)\n",
    "\n",
    "# user_alert_all"
   ]
  },
  {
   "cell_type": "markdown",
   "metadata": {},
   "source": [
    "## Generate info for sending alert emails (for the sites getting better)"
   ]
  },
  {
   "cell_type": "code",
   "execution_count": 18,
   "metadata": {
    "collapsed": false
   },
   "outputs": [],
   "source": [
    "for ip in ip_list_better:\n",
    "    text = \"The site %s (%s)'s links got improved, total number from %d to %d links.\\n\" % (site_ip_name[ip], ip, TN_old.get(ip,0), TN_new.get(ip,0))\n",
    "    text += \"These are all the bad links for the past hour:\\n\"\n",
    "    for alarm in hits_new:\n",
    "        src_ip = alarm['_source']['src']\n",
    "        dest_ip = alarm['_source']['dest']\n",
    "        if src_ip == ip:\n",
    "            text += '    This site  --->  %s (%s) \\n' % (site_ip_name[dest_ip], dest_ip)\n",
    "    for alarm in hits_new:\n",
    "        src_ip = alarm['_source']['src']\n",
    "        dest_ip = alarm['_source']['dest']\n",
    "        if dest_ip == ip:\n",
    "            text += '    %s (%s)  --->  This site \\n' % (site_ip_name[src_ip], src_ip)\n",
    "    print(text)\n",
    "    for email in user_interest_site_ip[ip]:\n",
    "        user_alert_all[email]['alerts'].append(text)\n",
    "\n",
    "# user_alert_all"
   ]
  },
  {
   "cell_type": "markdown",
   "metadata": {},
   "source": [
    "## Send out alert email customized for each user"
   ]
  },
  {
   "cell_type": "code",
   "execution_count": 19,
   "metadata": {
    "collapsed": false
   },
   "outputs": [
    {
     "name": "stdout",
     "output_type": "stream",
     "text": [
      "Dear Ilija Vukotic,\n",
      "\n",
      "\tthis mail is to let you that there was a significant change in packet loss detected by PerfSONAR.\n",
      "\n",
      "The site UnknownSite (193.144.80.12)'s links got worse, total number from 3 to 26 links.\n",
      "These are all the bad links for the past hour:\n",
      "    This site  --->  UnknownSite (161.116.81.235) \n",
      "    RAL-LCG2 (130.246.176.109)  --->  This site \n",
      "    CSCS-LCG2 (148.187.64.25)  --->  This site \n",
      "    CERN-PROD (128.142.223.247)  --->  This site \n",
      "    INFN-T1 (131.154.254.12)  --->  This site \n",
      "    IN2P3-LAPP (134.158.103.10)  --->  This site \n",
      "    UKI-SCOTGRID-DURHAM (193.60.193.3)  --->  This site \n",
      "    IN2P3-CC (193.48.99.76)  --->  This site \n",
      "    FZK-LCG2 (192.108.47.12)  --->  This site \n",
      "    UKI-NORTHGRID-LANCS-HEP (194.80.35.169)  --->  This site \n",
      "    RRC-KI (144.206.237.142)  --->  This site \n",
      "    UnknownSite (193.205.76.76)  --->  This site \n",
      "    GRIF (134.158.73.243)  --->  This site \n",
      "    RU-Protvino-IHEP (194.190.165.192)  --->  This site \n",
      "    GRIF (134.158.132.200)  --->  This site \n",
      "    GRIF (134.158.159.85)  --->  This site \n",
      "    RRC-KI-T1 (144.206.236.189)  --->  This site \n",
      "    IN2P3-CPPM (134.158.20.192)  --->  This site \n",
      "    UKI-SCOTGRID-ECDF (129.215.213.70)  --->  This site \n",
      "    SARA-MATRIX (145.100.17.8)  --->  This site \n",
      "    UKI-SOUTHGRID-OX-HEP (163.1.5.210)  --->  This site \n",
      "    UKI-SOUTHGRID-CAM-HEP (131.111.66.196)  --->  This site \n",
      "    DESY-ZN (141.34.200.28)  --->  This site \n",
      "    IN2P3-LPC (134.158.123.183)  --->  This site \n",
      "    UKI-NORTHGRID-MAN-HEP (195.194.105.178)  --->  This site \n",
      "    UnknownSite (90.147.66.50)  --->  This site \n",
      "\n",
      "\n",
      "Best regards,\n",
      "ATLAS AAS\n",
      "\n",
      " To change your alerts preferences please you the following link:\n",
      "https://docs.google.com/forms/d/e/1FAIpQLSfwwtAvMrqp4Ot_LYfmNu75_v33dtAxiXg7ZvVdn1X5v7TEgg/viewform?edit2=2_ABaOnuezuteui57-PrydNWrUuZf5fmChNqtjEeDab6h5V6lik_-x790uKsPu5Q\n",
      "Content-Type: text/plain; charset=\"us-ascii\"\n",
      "MIME-Version: 1.0\n",
      "Content-Transfer-Encoding: 7bit\n",
      "Subject: Packet loss increase for link(s) where your site is a source or destination\n",
      "From: AAAS@mwt2.org\n",
      "To: ilijav@gmail.com\n",
      "\n",
      "Dear Ilija Vukotic,\n",
      "\n",
      "\tthis mail is to let you that there was a significant change in packet loss detected by PerfSONAR.\n",
      "\n",
      "The site UnknownSite (193.144.80.12)'s links got worse, total number from 3 to 26 links.\n",
      "These are all the bad links for the past hour:\n",
      "    This site  --->  UnknownSite (161.116.81.235) \n",
      "    RAL-LCG2 (130.246.176.109)  --->  This site \n",
      "    CSCS-LCG2 (148.187.64.25)  --->  This site \n",
      "    CERN-PROD (128.142.223.247)  --->  This site \n",
      "    INFN-T1 (131.154.254.12)  --->  This site \n",
      "    IN2P3-LAPP (134.158.103.10)  --->  This site \n",
      "    UKI-SCOTGRID-DURHAM (193.60.193.3)  --->  This site \n",
      "    IN2P3-CC (193.48.99.76)  --->  This site \n",
      "    FZK-LCG2 (192.108.47.12)  --->  This site \n",
      "    UKI-NORTHGRID-LANCS-HEP (194.80.35.169)  --->  This site \n",
      "    RRC-KI (144.206.237.142)  --->  This site \n",
      "    UnknownSite (193.205.76.76)  --->  This site \n",
      "    GRIF (134.158.73.243)  --->  This site \n",
      "    RU-Protvino-IHEP (194.190.165.192)  --->  This site \n",
      "    GRIF (134.158.132.200)  --->  This site \n",
      "    GRIF (134.158.159.85)  --->  This site \n",
      "    RRC-KI-T1 (144.206.236.189)  --->  This site \n",
      "    IN2P3-CPPM (134.158.20.192)  --->  This site \n",
      "    UKI-SCOTGRID-ECDF (129.215.213.70)  --->  This site \n",
      "    SARA-MATRIX (145.100.17.8)  --->  This site \n",
      "    UKI-SOUTHGRID-OX-HEP (163.1.5.210)  --->  This site \n",
      "    UKI-SOUTHGRID-CAM-HEP (131.111.66.196)  --->  This site \n",
      "    DESY-ZN (141.34.200.28)  --->  This site \n",
      "    IN2P3-LPC (134.158.123.183)  --->  This site \n",
      "    UKI-NORTHGRID-MAN-HEP (195.194.105.178)  --->  This site \n",
      "    UnknownSite (90.147.66.50)  --->  This site \n",
      "\n",
      "\n",
      "Best regards,\n",
      "ATLAS AAS\n",
      "\n",
      " To change your alerts preferences please you the following link:\n",
      "https://docs.google.com/forms/d/e/1FAIpQLSfwwtAvMrqp4Ot_LYfmNu75_v33dtAxiXg7ZvVdn1X5v7TEgg/viewform?edit2=2_ABaOnuezuteui57-PrydNWrUuZf5fmChNqtjEeDab6h5V6lik_-x790uKsPu5Q\n",
      "Dear Marian Babik,\n",
      "\n",
      "\tthis mail is to let you that there was a significant change in packet loss detected by PerfSONAR.\n",
      "\n",
      "The site UnknownSite (193.144.80.12)'s links got worse, total number from 3 to 26 links.\n",
      "These are all the bad links for the past hour:\n",
      "    This site  --->  UnknownSite (161.116.81.235) \n",
      "    RAL-LCG2 (130.246.176.109)  --->  This site \n",
      "    CSCS-LCG2 (148.187.64.25)  --->  This site \n",
      "    CERN-PROD (128.142.223.247)  --->  This site \n",
      "    INFN-T1 (131.154.254.12)  --->  This site \n",
      "    IN2P3-LAPP (134.158.103.10)  --->  This site \n",
      "    UKI-SCOTGRID-DURHAM (193.60.193.3)  --->  This site \n",
      "    IN2P3-CC (193.48.99.76)  --->  This site \n",
      "    FZK-LCG2 (192.108.47.12)  --->  This site \n",
      "    UKI-NORTHGRID-LANCS-HEP (194.80.35.169)  --->  This site \n",
      "    RRC-KI (144.206.237.142)  --->  This site \n",
      "    UnknownSite (193.205.76.76)  --->  This site \n",
      "    GRIF (134.158.73.243)  --->  This site \n",
      "    RU-Protvino-IHEP (194.190.165.192)  --->  This site \n",
      "    GRIF (134.158.132.200)  --->  This site \n",
      "    GRIF (134.158.159.85)  --->  This site \n",
      "    RRC-KI-T1 (144.206.236.189)  --->  This site \n",
      "    IN2P3-CPPM (134.158.20.192)  --->  This site \n",
      "    UKI-SCOTGRID-ECDF (129.215.213.70)  --->  This site \n",
      "    SARA-MATRIX (145.100.17.8)  --->  This site \n",
      "    UKI-SOUTHGRID-OX-HEP (163.1.5.210)  --->  This site \n",
      "    UKI-SOUTHGRID-CAM-HEP (131.111.66.196)  --->  This site \n",
      "    DESY-ZN (141.34.200.28)  --->  This site \n",
      "    IN2P3-LPC (134.158.123.183)  --->  This site \n",
      "    UKI-NORTHGRID-MAN-HEP (195.194.105.178)  --->  This site \n",
      "    UnknownSite (90.147.66.50)  --->  This site \n",
      "\n",
      "\n",
      "Best regards,\n",
      "ATLAS AAS\n",
      "\n",
      " To change your alerts preferences please you the following link:\n",
      "https://docs.google.com/forms/d/e/1FAIpQLSfwwtAvMrqp4Ot_LYfmNu75_v33dtAxiXg7ZvVdn1X5v7TEgg/viewform?edit2=2_ABaOnudgR9Vt18--Jd7nn_VU0BgZZVVjGrfGPDf5qS7pUrxmkFMUcNPVVUGVtw\n",
      "Content-Type: text/plain; charset=\"us-ascii\"\n",
      "MIME-Version: 1.0\n",
      "Content-Transfer-Encoding: 7bit\n",
      "Subject: Packet loss increase for link(s) where your site is a source or destination\n",
      "From: AAAS@mwt2.org\n",
      "To: marian.babik@cern.ch\n",
      "\n",
      "Dear Marian Babik,\n",
      "\n",
      "\tthis mail is to let you that there was a significant change in packet loss detected by PerfSONAR.\n",
      "\n",
      "The site UnknownSite (193.144.80.12)'s links got worse, total number from 3 to 26 links.\n",
      "These are all the bad links for the past hour:\n",
      "    This site  --->  UnknownSite (161.116.81.235) \n",
      "    RAL-LCG2 (130.246.176.109)  --->  This site \n",
      "    CSCS-LCG2 (148.187.64.25)  --->  This site \n",
      "    CERN-PROD (128.142.223.247)  --->  This site \n",
      "    INFN-T1 (131.154.254.12)  --->  This site \n",
      "    IN2P3-LAPP (134.158.103.10)  --->  This site \n",
      "    UKI-SCOTGRID-DURHAM (193.60.193.3)  --->  This site \n",
      "    IN2P3-CC (193.48.99.76)  --->  This site \n",
      "    FZK-LCG2 (192.108.47.12)  --->  This site \n",
      "    UKI-NORTHGRID-LANCS-HEP (194.80.35.169)  --->  This site \n",
      "    RRC-KI (144.206.237.142)  --->  This site \n",
      "    UnknownSite (193.205.76.76)  --->  This site \n",
      "    GRIF (134.158.73.243)  --->  This site \n",
      "    RU-Protvino-IHEP (194.190.165.192)  --->  This site \n",
      "    GRIF (134.158.132.200)  --->  This site \n",
      "    GRIF (134.158.159.85)  --->  This site \n",
      "    RRC-KI-T1 (144.206.236.189)  --->  This site \n",
      "    IN2P3-CPPM (134.158.20.192)  --->  This site \n",
      "    UKI-SCOTGRID-ECDF (129.215.213.70)  --->  This site \n",
      "    SARA-MATRIX (145.100.17.8)  --->  This site \n",
      "    UKI-SOUTHGRID-OX-HEP (163.1.5.210)  --->  This site \n",
      "    UKI-SOUTHGRID-CAM-HEP (131.111.66.196)  --->  This site \n",
      "    DESY-ZN (141.34.200.28)  --->  This site \n",
      "    IN2P3-LPC (134.158.123.183)  --->  This site \n",
      "    UKI-NORTHGRID-MAN-HEP (195.194.105.178)  --->  This site \n",
      "    UnknownSite (90.147.66.50)  --->  This site \n",
      "\n",
      "\n",
      "Best regards,\n",
      "ATLAS AAS\n",
      "\n",
      " To change your alerts preferences please you the following link:\n",
      "https://docs.google.com/forms/d/e/1FAIpQLSfwwtAvMrqp4Ot_LYfmNu75_v33dtAxiXg7ZvVdn1X5v7TEgg/viewform?edit2=2_ABaOnudgR9Vt18--Jd7nn_VU0BgZZVVjGrfGPDf5qS7pUrxmkFMUcNPVVUGVtw\n"
     ]
    }
   ],
   "source": [
    "for email in user_alert_all:\n",
    "    u=user_alert_all[email]\n",
    "    if len(u['alerts'])>0:\n",
    "        body = 'Dear ' + u['name']+',\\n\\n'\n",
    "        body = body + '\\tthis mail is to let you that there was a significant change in packet loss detected by PerfSONAR.\\n\\n'\n",
    "        for a in u['alerts']:\n",
    "            body = body + a + '\\n'\n",
    "        body = body + '\\nBest regards,\\nATLAS AAS'\n",
    "        body = body + '\\n\\n To change your alerts preferences please you the following link:\\n'+u['link']\n",
    "        print(body)\n",
    "        A.sendMail(testName, u['email'], body)\n",
    "        A.addAlert(testName, u['name'],'large packet loss')"
   ]
  },
  {
   "cell_type": "code",
   "execution_count": null,
   "metadata": {
    "collapsed": true
   },
   "outputs": [],
   "source": []
  }
 ],
 "metadata": {
  "kernelspec": {
   "display_name": "Python 3",
   "language": "python",
   "name": "python3"
  },
  "language_info": {
   "codemirror_mode": {
    "name": "ipython",
    "version": 3
   },
   "file_extension": ".py",
   "mimetype": "text/x-python",
   "name": "python",
   "nbconvert_exporter": "python",
   "pygments_lexer": "ipython3",
   "version": "3.5.1"
  }
 },
 "nbformat": 4,
 "nbformat_minor": 0
}
