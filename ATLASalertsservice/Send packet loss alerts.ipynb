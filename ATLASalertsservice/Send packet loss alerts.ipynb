{
 "cells": [
  {
   "cell_type": "markdown",
   "metadata": {},
   "source": [
    "# Send alert emails about packet loss based on alarms and user subscribing"
   ]
  },
  {
   "cell_type": "markdown",
   "metadata": {},
   "source": [
    "This notebook is run by a cron job every hour, and its purpose is to send alert emails about packet loss for user specified site(s) based on alarms and user subscribing records. \n",
    "\n",
    "This notebook works following this procedure: \n",
    "\n",
    "(1) Get all the alarms of type packetloss for the past hour (call it NEW) and past past hour (call it OLD) from Elasticsearch\n",
    "\n",
    "(2) Get the user subscribing records from Google Sheets calling APIs in subscribers.py\n",
    "\n",
    "(3) Process the alarms data and subscribing data to make them easier to use for this monitoring task\n",
    "\n",
    "(4) TN_old means total number of alarmed links involving a specific site ip (no matter from it or to it) for OLD time period\n",
    "\n",
    "(5) TN_new means total number of alarmed links involving a specific site ip (no matter from it or to it) for NEW time period\n",
    "\n",
    "(6) TN_delta means the change of value from TN_old to TN_new. We need to compare TN_delta v.s. +N and v.s. -N (tune N later)\n",
    "\n",
    "(7) If a site ip never occurs in NEW and OLD, then it must be totally fine, and we do not care about it at all (TN_old == TN_new == TN_delta == 0)\n",
    "\n",
    "(8) If a site ip occurs in NEW or OLD or both, then we may have TN_delta > 0 or == 0 or < 0 for this site ip, so we want to take a closer look at this site ip, so we do (9) (10) (11)\n",
    "\n",
    "(9) If TN_delta >= +N, then overall the links connected to this site are becoming worse, so we send email\n",
    "\n",
    "(10) If TN_delta <= -N, then overall the links connected to this site are becoming better, so we send email\n",
    "\n",
    "(11) Otherwise, the overall status for this site is not changing or just changing slightly, so we do not send email\n",
    "\n",
    "(12) In order to send email, we need a dictionary whose key is site ip and value is a list of relevant user emails\n",
    "\n"
   ]
  },
  {
   "cell_type": "markdown",
   "metadata": {},
   "source": [
    "## Import necessary packages and classes"
   ]
  },
  {
   "cell_type": "code",
   "execution_count": 1,
   "metadata": {
    "collapsed": true
   },
   "outputs": [],
   "source": [
    "# Retrieve user subscribing records from google sheets.\n",
    "from subscribers import subscribers\n",
    "import alerts\n",
    "\n",
    "S = subscribers()\n",
    "A = alerts.alerts()\n",
    "\n",
    "# Related to Elasticsearch queries\n",
    "from elasticsearch import Elasticsearch, exceptions as es_exceptions, helpers\n",
    "import datetime\n",
    "\n",
    "# Regular Expression\n",
    "import re"
   ]
  },
  {
   "cell_type": "markdown",
   "metadata": {},
   "source": [
    "## Establish Elasticsearch connection"
   ]
  },
  {
   "cell_type": "code",
   "execution_count": 2,
   "metadata": {
    "collapsed": true
   },
   "outputs": [],
   "source": [
    "es = Elasticsearch(hosts=[{'host':'atlas-kibana.mwt2.org', 'port':9200}],timeout=60)"
   ]
  },
  {
   "cell_type": "markdown",
   "metadata": {},
   "source": [
    "## Queries to find all the alarms of type Packet Loss for the past hour and past past hour"
   ]
  },
  {
   "cell_type": "code",
   "execution_count": 3,
   "metadata": {},
   "outputs": [
    {
     "name": "stdout",
     "output_type": "stream",
     "text": [
      "{'query': {'bool': {'filter': {'range': {'alarmTime': {'gt': 'now-3h'}}}, 'must': [{'term': {'type': 'packetloss'}}]}}, 'size': 1000}\n",
      "{'query': {'bool': {'filter': {'range': {'alarmTime': {'lt': 'now-3h', 'gt': 'now-6h'}}}, 'must': [{'term': {'type': 'packetloss'}}]}}, 'size': 1000}\n"
     ]
    }
   ],
   "source": [
    "query_new = {\n",
    "    \"size\": 1000,\n",
    "    \"query\": {\n",
    "        \"bool\": {\n",
    "            \"must\": [\n",
    "                {\"term\": { \"type\": \"packetloss\" }}\n",
    "            ],\n",
    "            \"filter\": {\n",
    "                \"range\": {\n",
    "                    \"alarmTime\": {\n",
    "                        \"gt\": \"now-3h\"\n",
    "                    }\n",
    "                }\n",
    "            }\n",
    "        }\n",
    "    }\n",
    "}\n",
    "\n",
    "query_old = {\n",
    "    \"size\": 1000,\n",
    "    \"query\": {\n",
    "        \"bool\": {\n",
    "            \"must\": [\n",
    "                {\"term\": { \"type\": \"packetloss\" }}\n",
    "            ],\n",
    "            \"filter\": {\n",
    "                \"range\": {\n",
    "                    \"alarmTime\": {\n",
    "                        \"gt\": \"now-6h\",\n",
    "                        \"lt\": \"now-3h\"\n",
    "                    }\n",
    "                }\n",
    "            }\n",
    "        }\n",
    "    }\n",
    "}\n",
    "\n",
    "print(query_new)\n",
    "print(query_old)"
   ]
  },
  {
   "cell_type": "markdown",
   "metadata": {},
   "source": [
    "## Execute the query"
   ]
  },
  {
   "cell_type": "code",
   "execution_count": 4,
   "metadata": {},
   "outputs": [
    {
     "name": "stdout",
     "output_type": "stream",
     "text": [
      "Number of hits of new alarms: 104\n",
      "Number of hits of old alarms: 0\n"
     ]
    }
   ],
   "source": [
    "result_new = es.search(index='alarms', body=query_new, request_timeout=120)\n",
    "print('Number of hits of new alarms:', result_new['hits']['total'] )\n",
    "\n",
    "result_old = es.search(index='alarms', body=query_old, request_timeout=120)\n",
    "print('Number of hits of old alarms:', result_old['hits']['total'] )\n",
    "\n",
    "hits_new = result_new['hits']['hits']\n",
    "hits_old = result_old['hits']['hits']"
   ]
  },
  {
   "cell_type": "markdown",
   "metadata": {},
   "source": [
    "## Generate the two dictionaries for sites, one is from ip to name, one is from name to ip"
   ]
  },
  {
   "cell_type": "code",
   "execution_count": 5,
   "metadata": {
    "scrolled": true
   },
   "outputs": [
    {
     "name": "stdout",
     "output_type": "stream",
     "text": [
      "{'129.93.5.165': 'Nebraska', '141.34.200.28': 'DESY-ZN', '192.41.236.31': 'AGLT2', '90.147.67.252': 'INFN-NAPOLI-ATLAS', '129.15.40.231': 'OU_OCHEP_SWT2', '192.111.108.112': 'Vanderbilt', '134.158.123.183': 'IN2P3-LPC', '192.41.230.59': 'AGLT2', '192.54.207.250': 'GRIF', '147.213.204.112': 'IEPSAS-Kosice', '192.41.236.35': 'UnknownSite', '138.253.60.82': 'UKI-NORTHGRID-LIV-HEP', '163.1.5.210': 'UKI-SOUTHGRID-OX-HEP', '129.215.213.70': 'UKI-SCOTGRID-ECDF', '193.48.99.76': 'IN2P3-CC', '192.5.207.251': 'BU_ATLAS_Tier2', '192.114.101.125': 'TECHNION-HEP', '206.12.154.60': 'CA-VICTORIA-WESTGRID-T2', '148.187.64.25': 'CSCS-LCG2', '192.170.227.163': 'UnknownSite', '131.243.24.11': 'UnknownSite', '192.68.51.219': 'UnknownSite', '134.219.225.13': 'UKI-LT2-RHUL', '192.231.127.41': 'Australia-ATLAS', '2a00:139c:5:4102::12': 'FZK-LCG2', '212.193.96.29': 'ru-PNPI', '134.158.159.85': 'GRIF', '129.107.255.29': 'UTA_SWT2', '194.36.11.38': 'UKI-LT2-QMUL', '134.158.20.192': 'IN2P3-CPPM', '131.111.66.196': 'UKI-SOUTHGRID-CAM-HEP', '193.109.172.188': 'pic', '131.169.98.30': 'DESY-HH', '194.190.165.192': 'RU-Protvino-IHEP', '149.165.225.223': 'MWT2', '202.122.32.170': 'BEIJING-LCG2', '130.209.239.124': 'UKI-SCOTGRID-GLASGOW', '192.12.15.111': 'BNL-ATLAS', '128.142.223.247': 'CERN-PROD', '131.154.254.12': 'INFN-T1', '134.158.73.243': 'GRIF', '117.103.105.191': 'Taiwan-LCG2', '192.41.230.61': 'UnknownSite', '143.167.3.116': 'UKI-NORTHGRID-SHEF-HEP', '72.36.96.4': 'MWT2', '2001:4118:900:cc00::112': 'IEPSAS-Kosice', '142.150.19.61': 'CA-SCINET-T2', '192.12.15.26': 'BNL-ATLAS', '194.85.69.74': 'ITEP', '192.170.227.160': 'MWT2', '150.244.246.85': 'UAM-LCG2', '149.165.224.247': 'UnknownSite', '194.80.35.169': 'UKI-NORTHGRID-LANCS-HEP', '18.12.1.171': 'UnknownSite', '193.136.75.146': 'NCG-INGRID-PT', '164.58.29.121': 'LUCILLE', '72.36.96.15': 'MWT2', '134.158.132.200': 'GRIF', '141.108.35.18': 'INFN-ROMA1', '130.246.176.109': 'RAL-LCG2', '129.107.255.26': 'UnknownSite', '195.194.105.178': 'UKI-NORTHGRID-MAN-HEP', '89.145.160.212': 'UnknownSite'}\n"
     ]
    }
   ],
   "source": [
    "site_ip_name = {}\n",
    "\n",
    "for hit in hits_new:\n",
    "    info = hit['_source']\n",
    "    site_ip_name[info['src']] = info['srcSite']\n",
    "    site_ip_name[info['dest']] = info['destSite']\n",
    "\n",
    "for hit in hits_old:\n",
    "    info = hit['_source']\n",
    "    site_ip_name[info['src']] = info['srcSite']\n",
    "    site_ip_name[info['dest']] = info['destSite']\n",
    "\n",
    "print(site_ip_name)"
   ]
  },
  {
   "cell_type": "code",
   "execution_count": 6,
   "metadata": {
    "scrolled": true
   },
   "outputs": [
    {
     "name": "stdout",
     "output_type": "stream",
     "text": [
      "{'UKI-SCOTGRID-ECDF': ['129.215.213.70'], 'UKI-SCOTGRID-GLASGOW': ['130.209.239.124'], 'DESY-HH': ['131.169.98.30'], 'CA-SCINET-T2': ['142.150.19.61'], 'UKI-LT2-QMUL': ['194.36.11.38'], 'BNL-ATLAS': ['192.12.15.111', '192.12.15.26'], 'UAM-LCG2': ['150.244.246.85'], 'RU-Protvino-IHEP': ['194.190.165.192'], 'LUCILLE': ['164.58.29.121'], 'UnknownSite': ['192.41.236.35', '192.170.227.163', '131.243.24.11', '192.68.51.219', '192.41.230.61', '149.165.224.247', '18.12.1.171', '129.107.255.26', '89.145.160.212'], 'UKI-NORTHGRID-LIV-HEP': ['138.253.60.82'], 'UKI-SOUTHGRID-CAM-HEP': ['131.111.66.196'], 'TECHNION-HEP': ['192.114.101.125'], 'CERN-PROD': ['128.142.223.247'], 'MWT2': ['149.165.225.223', '72.36.96.4', '192.170.227.160', '72.36.96.15'], 'UKI-LT2-RHUL': ['134.219.225.13'], 'OU_OCHEP_SWT2': ['129.15.40.231'], 'AGLT2': ['192.41.236.31', '192.41.230.59'], 'BU_ATLAS_Tier2': ['192.5.207.251'], 'pic': ['193.109.172.188'], 'DESY-ZN': ['141.34.200.28'], 'IN2P3-CPPM': ['134.158.20.192'], 'INFN-ROMA1': ['141.108.35.18'], 'Nebraska': ['129.93.5.165'], 'CSCS-LCG2': ['148.187.64.25'], 'UKI-NORTHGRID-LANCS-HEP': ['194.80.35.169'], 'ru-PNPI': ['212.193.96.29'], 'Vanderbilt': ['192.111.108.112'], 'FZK-LCG2': ['2a00:139c:5:4102::12'], 'INFN-NAPOLI-ATLAS': ['90.147.67.252'], 'RAL-LCG2': ['130.246.176.109'], 'IEPSAS-Kosice': ['147.213.204.112', '2001:4118:900:cc00::112'], 'IN2P3-CC': ['193.48.99.76'], 'CA-VICTORIA-WESTGRID-T2': ['206.12.154.60'], 'NCG-INGRID-PT': ['193.136.75.146'], 'Taiwan-LCG2': ['117.103.105.191'], 'UTA_SWT2': ['129.107.255.29'], 'UKI-SOUTHGRID-OX-HEP': ['163.1.5.210'], 'INFN-T1': ['131.154.254.12'], 'IN2P3-LPC': ['134.158.123.183'], 'ITEP': ['194.85.69.74'], 'GRIF': ['192.54.207.250', '134.158.159.85', '134.158.73.243', '134.158.132.200'], 'UKI-NORTHGRID-MAN-HEP': ['195.194.105.178'], 'Australia-ATLAS': ['192.231.127.41'], 'BEIJING-LCG2': ['202.122.32.170'], 'UKI-NORTHGRID-SHEF-HEP': ['143.167.3.116']}\n"
     ]
    }
   ],
   "source": [
    "site_name_ip = {}\n",
    "\n",
    "for ip in site_ip_name:\n",
    "    name = site_ip_name[ip]\n",
    "    if name in site_name_ip:\n",
    "        site_name_ip[name].append(ip)\n",
    "    else:\n",
    "        site_name_ip[name] = [ip]\n",
    "\n",
    "print(site_name_ip)"
   ]
  },
  {
   "cell_type": "markdown",
   "metadata": {},
   "source": [
    "## Calculate TN_old, the total number of alarmed links involving a specific site ip (either as source site or as destination site) for the OLD time period"
   ]
  },
  {
   "cell_type": "code",
   "execution_count": 7,
   "metadata": {
    "scrolled": true
   },
   "outputs": [],
   "source": [
    "TN_old = {}\n",
    "\n",
    "def TN_old_add_one(ip):\n",
    "    if ip in TN_old:\n",
    "        TN_old[ip] += 1\n",
    "    else:\n",
    "        TN_old[ip] = 1\n",
    "\n",
    "for alarm in hits_old:\n",
    "    TN_old_add_one(alarm['_source']['src'])\n",
    "    TN_old_add_one(alarm['_source']['dest'])\n",
    "\n",
    "#TN_old"
   ]
  },
  {
   "cell_type": "markdown",
   "metadata": {},
   "source": [
    "## Calculate TN_new, the total number of alarmed links involving a specific site ip (either as source site or as destination site) for the NEW time period"
   ]
  },
  {
   "cell_type": "code",
   "execution_count": 8,
   "metadata": {
    "scrolled": true
   },
   "outputs": [],
   "source": [
    "TN_new = {}\n",
    "\n",
    "def TN_new_add_one(ip):\n",
    "    if ip in TN_new:\n",
    "        TN_new[ip] += 1\n",
    "    else:\n",
    "        TN_new[ip] = 1\n",
    "\n",
    "for alarm in hits_new:\n",
    "    TN_new_add_one(alarm['_source']['src'])\n",
    "    TN_new_add_one(alarm['_source']['dest'])\n",
    "\n",
    "#TN_new"
   ]
  },
  {
   "cell_type": "markdown",
   "metadata": {},
   "source": [
    "## Calculate TN_delta, which is equal to ( TN_new - TN_old )"
   ]
  },
  {
   "cell_type": "code",
   "execution_count": 9,
   "metadata": {
    "scrolled": true
   },
   "outputs": [
    {
     "data": {
      "text/plain": [
       "{'117.103.105.191': 1,\n",
       " '128.142.223.247': 2,\n",
       " '129.107.255.26': 10,\n",
       " '129.107.255.29': 1,\n",
       " '129.15.40.231': 5,\n",
       " '129.215.213.70': 2,\n",
       " '129.93.5.165': 2,\n",
       " '130.209.239.124': 2,\n",
       " '130.246.176.109': 3,\n",
       " '131.111.66.196': 3,\n",
       " '131.154.254.12': 1,\n",
       " '131.169.98.30': 2,\n",
       " '131.243.24.11': 3,\n",
       " '134.158.123.183': 2,\n",
       " '134.158.132.200': 2,\n",
       " '134.158.159.85': 3,\n",
       " '134.158.20.192': 1,\n",
       " '134.158.73.243': 1,\n",
       " '134.219.225.13': 3,\n",
       " '138.253.60.82': 3,\n",
       " '141.108.35.18': 14,\n",
       " '141.34.200.28': 2,\n",
       " '142.150.19.61': 1,\n",
       " '143.167.3.116': 1,\n",
       " '147.213.204.112': 16,\n",
       " '148.187.64.25': 3,\n",
       " '149.165.224.247': 3,\n",
       " '149.165.225.223': 3,\n",
       " '150.244.246.85': 1,\n",
       " '163.1.5.210': 2,\n",
       " '164.58.29.121': 1,\n",
       " '18.12.1.171': 2,\n",
       " '192.111.108.112': 2,\n",
       " '192.114.101.125': 3,\n",
       " '192.12.15.111': 3,\n",
       " '192.12.15.26': 1,\n",
       " '192.170.227.160': 1,\n",
       " '192.170.227.163': 3,\n",
       " '192.231.127.41': 3,\n",
       " '192.41.230.59': 32,\n",
       " '192.41.230.61': 11,\n",
       " '192.41.236.31': 1,\n",
       " '192.41.236.35': 9,\n",
       " '192.5.207.251': 2,\n",
       " '192.54.207.250': 1,\n",
       " '192.68.51.219': 1,\n",
       " '193.109.172.188': 1,\n",
       " '193.136.75.146': 1,\n",
       " '193.48.99.76': 3,\n",
       " '194.190.165.192': 2,\n",
       " '194.36.11.38': 2,\n",
       " '194.80.35.169': 1,\n",
       " '194.85.69.74': 1,\n",
       " '195.194.105.178': 2,\n",
       " '2001:4118:900:cc00::112': 1,\n",
       " '202.122.32.170': 2,\n",
       " '206.12.154.60': 3,\n",
       " '212.193.96.29': 1,\n",
       " '2a00:139c:5:4102::12': 1,\n",
       " '72.36.96.15': 3,\n",
       " '72.36.96.4': 3,\n",
       " '89.145.160.212': 6,\n",
       " '90.147.67.252': 1}"
      ]
     },
     "execution_count": 9,
     "metadata": {},
     "output_type": "execute_result"
    }
   ],
   "source": [
    "TN_delta = {}\n",
    "\n",
    "for ip in TN_old:\n",
    "    if ip in TN_new:\n",
    "        TN_delta[ip] = TN_new[ip] - TN_old[ip]\n",
    "    else:\n",
    "        TN_delta[ip] = -TN_old[ip]\n",
    "\n",
    "for ip in TN_new:\n",
    "    if ip not in TN_old:\n",
    "        TN_delta[ip] = TN_new[ip]\n",
    "\n",
    "TN_delta"
   ]
  },
  {
   "cell_type": "markdown",
   "metadata": {},
   "source": [
    "## Look at the distribution of TN_delta, so that we can tune the parameter N"
   ]
  },
  {
   "cell_type": "code",
   "execution_count": 10,
   "metadata": {},
   "outputs": [
    {
     "name": "stdout",
     "output_type": "stream",
     "text": [
      "N=0     links went bad=63     links went good=0     unchanged=0\n",
      "N=1     links went bad=41     links went good=0     unchanged=22\n",
      "N=2     links went bad=25     links went good=0     unchanged=38\n",
      "N=3     links went bad=8     links went good=0     unchanged=55\n",
      "N=4     links went bad=8     links went good=0     unchanged=55\n",
      "N=5     links went bad=7     links went good=0     unchanged=56\n",
      "N=6     links went bad=6     links went good=0     unchanged=57\n",
      "N=7     links went bad=6     links went good=0     unchanged=57\n",
      "N=8     links went bad=6     links went good=0     unchanged=57\n",
      "N=9     links went bad=5     links went good=0     unchanged=58\n"
     ]
    }
   ],
   "source": [
    "for N in range(10):\n",
    "    count_worse = 0\n",
    "    count_better = 0\n",
    "    count_stable = 0\n",
    "    for ip in TN_delta:\n",
    "        if TN_delta[ip] > N:\n",
    "            count_worse += 1\n",
    "        elif TN_delta[ip] < -N:\n",
    "            count_better += 1\n",
    "        else:\n",
    "            count_stable += 1\n",
    "    print('N=%d     links went bad=%d     links went good=%d     unchanged=%d' % (N, count_worse, count_better, count_stable))"
   ]
  },
  {
   "cell_type": "markdown",
   "metadata": {},
   "source": [
    "## Let's use N=6 for now, and we will tune later"
   ]
  },
  {
   "cell_type": "code",
   "execution_count": 11,
   "metadata": {},
   "outputs": [
    {
     "name": "stdout",
     "output_type": "stream",
     "text": [
      "--- The ip of the site(s) which got worse:\n",
      "['192.41.230.59', '147.213.204.112', '192.41.236.35', '89.145.160.212', '192.41.230.61', '141.108.35.18', '129.107.255.26']\n",
      "--- The ip of the site(s) which got better:\n",
      "[]\n"
     ]
    }
   ],
   "source": [
    "N = 6\n",
    "\n",
    "ip_list_worse = []\n",
    "ip_list_better = []\n",
    "\n",
    "for ip in TN_delta:\n",
    "    if TN_delta[ip] >= N:\n",
    "        ip_list_worse.append(ip)\n",
    "    elif TN_delta[ip] <= -N:\n",
    "        ip_list_better.append(ip)\n",
    "\n",
    "print('--- The ip of the site(s) which got worse:')\n",
    "print(ip_list_worse)\n",
    "print('--- The ip of the site(s) which got better:')\n",
    "print(ip_list_better)"
   ]
  },
  {
   "cell_type": "markdown",
   "metadata": {},
   "source": [
    "## Generate the dictionary: key = site name, value = a list of relevant user emails"
   ]
  },
  {
   "cell_type": "code",
   "execution_count": 12,
   "metadata": {
    "scrolled": true
   },
   "outputs": [
    {
     "name": "stdout",
     "output_type": "stream",
     "text": [
      "user name:Ilija Vukotic  email:ilijav@gmail.com ['MWT2']\n",
      "user name:  email:duncan.rand@imperial.ac.uk ['UKI*']\n"
     ]
    }
   ],
   "source": [
    "user_interest_site_name = {}\n",
    "\n",
    "def reg_user_interest_site_name(sitename, email):\n",
    "    if sitename in user_interest_site_name:\n",
    "        user_interest_site_name[sitename].append(email)\n",
    "    else:\n",
    "        user_interest_site_name[sitename] = [email]\n",
    "\n",
    "test_name = 'PerfSONAR [Packet loss change for link(s) where your site is a source or destination]'\n",
    "emailSubject = 'Significant change in the number of network paths with large packet loss where your subscribed site(s) are the source or destination'\n",
    "\n",
    "users = S.get_immediate_subscribers(test_name)\n",
    "\n",
    "# Handle blank answer, one site, several sites separated by comma, wildcard such as prefix* etc.\n",
    "for user in users:\n",
    "    sitenames = user.sites\n",
    "    print(user.to_string(), sitenames)\n",
    "    if len(sitenames) == 0:\n",
    "        sitenames = ['.']  # Handle blank answer, so match all site names\n",
    "    sitenames = [x.replace('*', '.') for x in sitenames]  # Handle several site names, and wildcard\n",
    "    for sn in sitenames:\n",
    "        p = re.compile(sn, re.IGNORECASE)\n",
    "        for sitename in site_name_ip:\n",
    "            if p.match(sitename):\n",
    "                reg_user_interest_site_name(sitename, user)\n"
   ]
  },
  {
   "cell_type": "markdown",
   "metadata": {},
   "source": [
    "## Generate the dictionary: key = site ip, value = a list of relevant user emails"
   ]
  },
  {
   "cell_type": "code",
   "execution_count": 13,
   "metadata": {},
   "outputs": [
    {
     "name": "stdout",
     "output_type": "stream",
     "text": [
      "{'131.111.66.196': [<subscribers.user object at 0x7fbe55080668>], '192.170.227.160': [<subscribers.user object at 0x7fbe551738d0>], '194.80.35.169': [<subscribers.user object at 0x7fbe55080668>], '130.209.239.124': [<subscribers.user object at 0x7fbe55080668>], '138.253.60.82': [<subscribers.user object at 0x7fbe55080668>], '134.219.225.13': [<subscribers.user object at 0x7fbe55080668>], '72.36.96.15': [<subscribers.user object at 0x7fbe551738d0>], '143.167.3.116': [<subscribers.user object at 0x7fbe55080668>], '163.1.5.210': [<subscribers.user object at 0x7fbe55080668>], '72.36.96.4': [<subscribers.user object at 0x7fbe551738d0>], '129.215.213.70': [<subscribers.user object at 0x7fbe55080668>], '195.194.105.178': [<subscribers.user object at 0x7fbe55080668>], '194.36.11.38': [<subscribers.user object at 0x7fbe55080668>], '149.165.225.223': [<subscribers.user object at 0x7fbe551738d0>]}\n"
     ]
    }
   ],
   "source": [
    "user_interest_site_ip = {}\n",
    "\n",
    "def reg_user_interest_site_ip(siteip, email):\n",
    "    if siteip in user_interest_site_ip:\n",
    "        user_interest_site_ip[siteip].append(email)\n",
    "    else:\n",
    "        user_interest_site_ip[siteip] = [email]\n",
    "\n",
    "for sitename in user_interest_site_name:\n",
    "    for siteip in site_name_ip[sitename]:\n",
    "        for user in user_interest_site_name[sitename]:\n",
    "            reg_user_interest_site_ip(siteip, user)\n",
    "\n",
    "print(user_interest_site_ip)"
   ]
  },
  {
   "cell_type": "markdown",
   "metadata": {},
   "source": [
    "## Generate info for sending alert emails (for the sites getting worse)"
   ]
  },
  {
   "cell_type": "code",
   "execution_count": 17,
   "metadata": {},
   "outputs": [
    {
     "name": "stdout",
     "output_type": "stream",
     "text": [
      "The site AGLT2 (192.41.230.59)'s network paths have worsened, the count of src-destination paths with packet-loss went from 0 to 32.\n",
      "These are all the problematic src-destination paths for the past hour:\n",
      "    INFN-NAPOLI-ATLAS (90.147.67.252)  --->  AGLT2 (192.41.230.59) \n",
      "    UKI-SCOTGRID-GLASGOW (130.209.239.124)  --->  AGLT2 (192.41.230.59) \n",
      "    RAL-LCG2 (130.246.176.109)  --->  AGLT2 (192.41.230.59) \n",
      "    DESY-HH (131.169.98.30)  --->  AGLT2 (192.41.230.59) \n",
      "    IN2P3-CC (193.48.99.76)  --->  AGLT2 (192.41.230.59) \n",
      "    UKI-NORTHGRID-LIV-HEP (138.253.60.82)  --->  AGLT2 (192.41.230.59) \n",
      "    CERN-PROD (128.142.223.247)  --->  AGLT2 (192.41.230.59) \n",
      "    GRIF (134.158.159.85)  --->  AGLT2 (192.41.230.59) \n",
      "    RU-Protvino-IHEP (194.190.165.192)  --->  AGLT2 (192.41.230.59) \n",
      "    GRIF (192.54.207.250)  --->  AGLT2 (192.41.230.59) \n",
      "    UKI-SCOTGRID-ECDF (129.215.213.70)  --->  AGLT2 (192.41.230.59) \n",
      "    GRIF (134.158.132.200)  --->  AGLT2 (192.41.230.59) \n",
      "    UKI-SOUTHGRID-OX-HEP (163.1.5.210)  --->  AGLT2 (192.41.230.59) \n",
      "    UKI-SOUTHGRID-CAM-HEP (131.111.66.196)  --->  AGLT2 (192.41.230.59) \n",
      "    BNL-ATLAS (192.12.15.26)  --->  AGLT2 (192.41.230.59) \n",
      "    BEIJING-LCG2 (202.122.32.170)  --->  AGLT2 (192.41.230.59) \n",
      "    UKI-LT2-RHUL (134.219.225.13)  --->  AGLT2 (192.41.230.59) \n",
      "    DESY-ZN (141.34.200.28)  --->  AGLT2 (192.41.230.59) \n",
      "    CSCS-LCG2 (148.187.64.25)  --->  AGLT2 (192.41.230.59) \n",
      "    UKI-NORTHGRID-MAN-HEP (195.194.105.178)  --->  AGLT2 (192.41.230.59) \n",
      "    TECHNION-HEP (192.114.101.125)  --->  AGLT2 (192.41.230.59) \n",
      "    AGLT2 (192.41.236.31)  --->  AGLT2 (192.41.230.59) \n",
      "    BU_ATLAS_Tier2 (192.5.207.251)  --->  AGLT2 (192.41.230.59) \n",
      "    IN2P3-CPPM (134.158.20.192)  --->  AGLT2 (192.41.230.59) \n",
      "    UTA_SWT2 (129.107.255.29)  --->  AGLT2 (192.41.230.59) \n",
      "    IN2P3-LPC (134.158.123.183)  --->  AGLT2 (192.41.230.59) \n",
      "    Australia-ATLAS (192.231.127.41)  --->  AGLT2 (192.41.230.59) \n",
      "    CA-SCINET-T2 (142.150.19.61)  --->  AGLT2 (192.41.230.59) \n",
      "    CA-VICTORIA-WESTGRID-T2 (206.12.154.60)  --->  AGLT2 (192.41.230.59) \n",
      "    UAM-LCG2 (150.244.246.85)  --->  AGLT2 (192.41.230.59) \n",
      "    Vanderbilt (192.111.108.112)  --->  AGLT2 (192.41.230.59) \n",
      "    LUCILLE (164.58.29.121)  --->  AGLT2 (192.41.230.59) \n",
      "\n",
      "The site IEPSAS-Kosice (147.213.204.112)'s network paths have worsened, the count of src-destination paths with packet-loss went from 0 to 16.\n",
      "These are all the problematic src-destination paths for the past hour:\n",
      "    IEPSAS-Kosice (147.213.204.112)  --->  GRIF (134.158.159.85) \n",
      "    IEPSAS-Kosice (147.213.204.112)  --->  DESY-ZN (141.34.200.28) \n",
      "    IEPSAS-Kosice (147.213.204.112)  --->  UKI-SOUTHGRID-CAM-HEP (131.111.66.196) \n",
      "    IEPSAS-Kosice (147.213.204.112)  --->  Australia-ATLAS (192.231.127.41) \n",
      "    IEPSAS-Kosice (147.213.204.112)  --->  UKI-LT2-RHUL (134.219.225.13) \n",
      "    IEPSAS-Kosice (147.213.204.112)  --->  IN2P3-LPC (134.158.123.183) \n",
      "    IEPSAS-Kosice (147.213.204.112)  --->  TECHNION-HEP (192.114.101.125) \n",
      "    IEPSAS-Kosice (147.213.204.112)  --->  Taiwan-LCG2 (117.103.105.191) \n",
      "    IEPSAS-Kosice (147.213.204.112)  --->  BEIJING-LCG2 (202.122.32.170) \n",
      "    IEPSAS-Kosice (147.213.204.112)  --->  UKI-NORTHGRID-LIV-HEP (138.253.60.82) \n",
      "    IEPSAS-Kosice (147.213.204.112)  --->  UKI-NORTHGRID-LANCS-HEP (194.80.35.169) \n",
      "    IEPSAS-Kosice (147.213.204.112)  --->  OU_OCHEP_SWT2 (129.15.40.231) \n",
      "    IEPSAS-Kosice (147.213.204.112)  --->  MWT2 (192.170.227.160) \n",
      "    IEPSAS-Kosice (147.213.204.112)  --->  GRIF (134.158.132.200) \n",
      "    IEPSAS-Kosice (147.213.204.112)  --->  GRIF (134.158.73.243) \n",
      "    IEPSAS-Kosice (147.213.204.112)  --->  IN2P3-CC (193.48.99.76) \n",
      "\n",
      "The site UnknownSite (192.41.236.35)'s network paths have worsened, the count of src-destination paths with packet-loss went from 0 to 9.\n",
      "These are all the problematic src-destination paths for the past hour:\n",
      "    UnknownSite (192.41.236.35)  --->  MWT2 (72.36.96.4) \n",
      "    UnknownSite (192.41.236.35)  --->  UnknownSite (131.243.24.11) \n",
      "    UnknownSite (192.41.236.35)  --->  MWT2 (149.165.225.223) \n",
      "    UnknownSite (192.41.236.35)  --->  BNL-ATLAS (192.12.15.111) \n",
      "    UnknownSite (192.41.236.35)  --->  UnknownSite (149.165.224.247) \n",
      "    UnknownSite (192.41.236.35)  --->  MWT2 (72.36.96.15) \n",
      "    UnknownSite (192.41.236.35)  --->  UnknownSite (192.170.227.163) \n",
      "    UnknownSite (192.41.236.35)  --->  UnknownSite (129.107.255.26) \n",
      "    UnknownSite (192.41.236.35)  --->  UnknownSite (192.41.230.61) \n",
      "\n",
      "The site UnknownSite (89.145.160.212)'s network paths have worsened, the count of src-destination paths with packet-loss went from 0 to 6.\n",
      "These are all the problematic src-destination paths for the past hour:\n",
      "    RAL-LCG2 (130.246.176.109)  --->  UnknownSite (89.145.160.212) \n",
      "    DESY-HH (131.169.98.30)  --->  UnknownSite (89.145.160.212) \n",
      "    IN2P3-CC (193.48.99.76)  --->  UnknownSite (89.145.160.212) \n",
      "    CERN-PROD (128.142.223.247)  --->  UnknownSite (89.145.160.212) \n",
      "    pic (193.109.172.188)  --->  UnknownSite (89.145.160.212) \n",
      "    INFN-T1 (131.154.254.12)  --->  UnknownSite (89.145.160.212) \n",
      "\n",
      "The site UnknownSite (192.41.230.61)'s network paths have worsened, the count of src-destination paths with packet-loss went from 0 to 11.\n",
      "These are all the problematic src-destination paths for the past hour:\n",
      "    MWT2 (149.165.225.223)  --->  UnknownSite (192.41.230.61) \n",
      "    MWT2 (72.36.96.4)  --->  UnknownSite (192.41.230.61) \n",
      "    Vanderbilt (192.111.108.112)  --->  UnknownSite (192.41.230.61) \n",
      "    Nebraska (129.93.5.165)  --->  UnknownSite (192.41.230.61) \n",
      "    UnknownSite (149.165.224.247)  --->  UnknownSite (192.41.230.61) \n",
      "    UnknownSite (192.170.227.163)  --->  UnknownSite (192.41.230.61) \n",
      "    BNL-ATLAS (192.12.15.111)  --->  UnknownSite (192.41.230.61) \n",
      "    UnknownSite (129.107.255.26)  --->  UnknownSite (192.41.230.61) \n",
      "    UnknownSite (131.243.24.11)  --->  UnknownSite (192.41.230.61) \n",
      "    MWT2 (72.36.96.15)  --->  UnknownSite (192.41.230.61) \n",
      "    UnknownSite (192.41.236.35)  --->  UnknownSite (192.41.230.61) \n",
      "\n",
      "The site INFN-ROMA1 (141.108.35.18)'s network paths have worsened, the count of src-destination paths with packet-loss went from 0 to 14.\n",
      "These are all the problematic src-destination paths for the past hour:\n",
      "    UKI-SCOTGRID-GLASGOW (130.209.239.124)  --->  INFN-ROMA1 (141.108.35.18) \n",
      "    RAL-LCG2 (130.246.176.109)  --->  INFN-ROMA1 (141.108.35.18) \n",
      "    UKI-NORTHGRID-LIV-HEP (138.253.60.82)  --->  INFN-ROMA1 (141.108.35.18) \n",
      "    UKI-LT2-QMUL (194.36.11.38)  --->  INFN-ROMA1 (141.108.35.18) \n",
      "    UKI-SCOTGRID-ECDF (129.215.213.70)  --->  INFN-ROMA1 (141.108.35.18) \n",
      "    UKI-SOUTHGRID-OX-HEP (163.1.5.210)  --->  INFN-ROMA1 (141.108.35.18) \n",
      "    UKI-SOUTHGRID-CAM-HEP (131.111.66.196)  --->  INFN-ROMA1 (141.108.35.18) \n",
      "    UKI-LT2-RHUL (134.219.225.13)  --->  INFN-ROMA1 (141.108.35.18) \n",
      "    CSCS-LCG2 (148.187.64.25)  --->  INFN-ROMA1 (141.108.35.18) \n",
      "    UKI-NORTHGRID-MAN-HEP (195.194.105.178)  --->  INFN-ROMA1 (141.108.35.18) \n",
      "    TECHNION-HEP (192.114.101.125)  --->  INFN-ROMA1 (141.108.35.18) \n",
      "    BU_ATLAS_Tier2 (192.5.207.251)  --->  INFN-ROMA1 (141.108.35.18) \n",
      "    Australia-ATLAS (192.231.127.41)  --->  INFN-ROMA1 (141.108.35.18) \n",
      "    CA-VICTORIA-WESTGRID-T2 (206.12.154.60)  --->  INFN-ROMA1 (141.108.35.18) \n",
      "\n",
      "The site UnknownSite (129.107.255.26)'s network paths have worsened, the count of src-destination paths with packet-loss went from 0 to 10.\n",
      "These are all the problematic src-destination paths for the past hour:\n",
      "    UnknownSite (129.107.255.26)  --->  UnknownSite (149.165.224.247) \n",
      "    UnknownSite (129.107.255.26)  --->  MWT2 (72.36.96.4) \n",
      "    UnknownSite (129.107.255.26)  --->  MWT2 (72.36.96.15) \n",
      "    UnknownSite (129.107.255.26)  --->  Nebraska (129.93.5.165) \n",
      "    UnknownSite (129.107.255.26)  --->  MWT2 (149.165.225.223) \n",
      "    UnknownSite (129.107.255.26)  --->  UnknownSite (131.243.24.11) \n",
      "    UnknownSite (129.107.255.26)  --->  UnknownSite (192.170.227.163) \n",
      "    UnknownSite (129.107.255.26)  --->  BNL-ATLAS (192.12.15.111) \n",
      "    UnknownSite (129.107.255.26)  --->  UnknownSite (192.41.230.61) \n",
      "    UnknownSite (192.41.236.35)  --->  UnknownSite (129.107.255.26) \n",
      "\n"
     ]
    }
   ],
   "source": [
    "for ip in ip_list_worse:\n",
    "    text = \"The site %s (%s)'s network paths have worsened, the count of src-destination paths with packet-loss went from %d to %d.\\n\" % (site_ip_name[ip], ip, TN_old.get(ip,0), TN_new.get(ip,0))\n",
    "    text += \"These are all the problematic src-destination paths for the past hour:\\n\"\n",
    "    for alarm in hits_new:\n",
    "        src_ip = alarm['_source']['src']\n",
    "        dest_ip = alarm['_source']['dest']\n",
    "        if src_ip == ip:\n",
    "            text += '    %s (%s)  --->  %s (%s) \\n' % (site_ip_name[src_ip], src_ip, site_ip_name[dest_ip], dest_ip)\n",
    "    for alarm in hits_new:\n",
    "        src_ip = alarm['_source']['src']\n",
    "        dest_ip = alarm['_source']['dest']\n",
    "        if dest_ip == ip:\n",
    "            text += '    %s (%s)  --->  %s (%s) \\n' % (site_ip_name[src_ip], src_ip, site_ip_name[dest_ip], dest_ip)\n",
    "    print(text)\n",
    "    if ip not in user_interest_site_ip: continue\n",
    "    for user in user_interest_site_ip[ip]:\n",
    "        user.alerts.append(text)"
   ]
  },
  {
   "cell_type": "markdown",
   "metadata": {},
   "source": [
    "## Generate info for sending alert emails (for the sites getting better)"
   ]
  },
  {
   "cell_type": "code",
   "execution_count": 18,
   "metadata": {},
   "outputs": [],
   "source": [
    "for ip in ip_list_better:\n",
    "    text = \"The site %s (%s)'s network paths have improved, the count of src-destination paths with packet-loss went from %d to %d.\\n\" % (site_ip_name[ip], ip, TN_old.get(ip,0), TN_new.get(ip,0))\n",
    "    wtext=\"\"\n",
    "    for alarm in hits_new:\n",
    "        src_ip = alarm['_source']['src']\n",
    "        dest_ip = alarm['_source']['dest']\n",
    "        if src_ip == ip:\n",
    "            text += '    %s (%s)  --->  %s (%s) \\n' % (site_ip_name[src_ip], src_ip, site_ip_name[dest_ip], dest_ip)\n",
    "    for alarm in hits_new:\n",
    "        src_ip = alarm['_source']['src']\n",
    "        dest_ip = alarm['_source']['dest']\n",
    "        if dest_ip == ip:\n",
    "            text += '    %s (%s)  --->  %s (%s) \\n' % (site_ip_name[src_ip], src_ip, site_ip_name[dest_ip], dest_ip)   \n",
    "    if len(wtext)>0:\n",
    "        text += \"These are the remaining problematic src-destination paths for the past hour:\\n\"\n",
    "        text += wtext\n",
    "#    print(text)\n",
    "    for user in user_interest_site_ip[ip]:\n",
    "        user.alerts.append(text)\n",
    "\n",
    "# user_alert_all"
   ]
  },
  {
   "cell_type": "markdown",
   "metadata": {},
   "source": [
    "## Send out alert email customized for each user"
   ]
  },
  {
   "cell_type": "code",
   "execution_count": 19,
   "metadata": {},
   "outputs": [],
   "source": [
    "for user in users:\n",
    "    if len(user.alerts)>0:\n",
    "        body = 'Dear ' + user.name + ',\\n\\n'\n",
    "        body = body + '\\tThis mail is to let you know that there are significant changes in the number of paths with large packet-loss detected by perfSONAR for sites you requested alerting about.\\n\\n'\n",
    "        for a in user.alerts:\n",
    "            body = body + a + '\\n'\n",
    "   \n",
    "        # Add in two items: 1) Where to go for more information and 2) who to contact to pursue fixing this   +SPM 20-Apr-2017\n",
    "        body += '\\n To get more information about this alert message and its interpretation, please visit:\\n'\n",
    "        body += '  http://twiki.opensciencegrid.org/bin/view/Documentation/NetworkingInOSG/PacketLossAlert\\n'\n",
    "        body += '\\n If you suspect a network problem and wish to follow up on it please email the appropriate support list:\\n'\n",
    "        body += '     For OSG sites:  goc@opensciencegrid.org using Subject: Possible network issue\\n'\n",
    "        body += '     For WLCG sites:  wlcg-network-throughput@cern.ch using Subject: Possible network issue\\n'\n",
    "        body += ' Please include this alert email to help expedite your request for network debugging support.\\n'\n",
    "        body += '\\n To change your alerts preferences please use the following link:\\n' + user.link\n",
    "        body += '\\n\\nBest regards,\\nATLAS Networking Alert Service'\n",
    "        #print(body)\n",
    "        A.sendMail(emailSubject, user.email, body)\n",
    "        A.addAlert(test_name, user.name,'change in packet loss')"
   ]
  },
  {
   "cell_type": "code",
   "execution_count": null,
   "metadata": {
    "collapsed": true
   },
   "outputs": [],
   "source": []
  },
  {
   "cell_type": "code",
   "execution_count": null,
   "metadata": {
    "collapsed": true
   },
   "outputs": [],
   "source": []
  }
 ],
 "metadata": {
  "kernelspec": {
   "display_name": "Python 3",
   "language": "python",
   "name": "python3"
  },
  "language_info": {
   "codemirror_mode": {
    "name": "ipython",
    "version": 3
   },
   "file_extension": ".py",
   "mimetype": "text/x-python",
   "name": "python",
   "nbconvert_exporter": "python",
   "pygments_lexer": "ipython3",
   "version": "3.4.5"
  }
 },
 "nbformat": 4,
 "nbformat_minor": 1
}
