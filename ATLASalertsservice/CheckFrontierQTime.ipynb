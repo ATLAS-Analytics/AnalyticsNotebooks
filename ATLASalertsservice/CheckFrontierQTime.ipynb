{
 "cells": [
  {
   "cell_type": "markdown",
   "metadata": {},
   "source": [
    "Checks percentage of time consuming queries (TEST)\n",
    "====\n",
    "This notebook checks whether the percentage of queries with high completion times (>**nsec**) (as computed for a period of several minutes **interval**) exceeds a given value (**percentlimit**)  at any given time during the selected interval (**nhours**). It sends mails to all the people substribed to that alert. It is run every half an hour from a cron job (not yet).\n",
    "In this way we can detect spikes that tend to cause server malfunctions."
   ]
  },
  {
   "cell_type": "code",
   "execution_count": 115,
   "metadata": {
    "collapsed": true
   },
   "outputs": [],
   "source": [
    "from subscribers import subscribers\n",
    "import alerts\n",
    "import es_query\n",
    "\n",
    "import datetime\n",
    "import re\n",
    "import json\n",
    "import sys\n",
    "from elasticsearch import Elasticsearch, exceptions as es_exceptions\n",
    "from elasticsearch.helpers import scan"
   ]
  },
  {
   "cell_type": "markdown",
   "metadata": {},
   "source": [
    "### Variables for this script:\n",
    "1. Maximum allowed percentage of queries consuming more than 10s with respect to the total amount of queries. Alert goes off when ot is surpassed\n",
    "2. Time interval to calculate the percentage\n",
    "3. Time period for the scan"
   ]
  },
  {
   "cell_type": "code",
   "execution_count": 116,
   "metadata": {
    "collapsed": true
   },
   "outputs": [],
   "source": [
    "# Percentage of queries taking > 10s\n",
    "percentlimit=10\n",
    "# Time limit in seconds (defines 'high' completion times)\n",
    "nsec=10\n",
    "# Testing interval in minutes\n",
    "interval=\"3m\"\n",
    "# Time period to scan from now backwards\n",
    "nhours=1"
   ]
  },
  {
   "cell_type": "markdown",
   "metadata": {
    "collapsed": true
   },
   "source": [
    "### Get starting and current time for query interval \n",
    "\n",
    "We need :\n",
    "1. Current UTC time (as set in timestamp on ES DB)\n",
    "2. Previous date stamp (**nhours** ago) obtained from a time delta\n",
    "\n",
    "In order to subtract the time difference we need **ct** to be a datetime object"
   ]
  },
  {
   "cell_type": "code",
   "execution_count": 117,
   "metadata": {},
   "outputs": [
    {
     "name": "stdout",
     "output_type": "stream",
     "text": [
      "INDEX:  frontier-new-2017-11\n",
      "start time 20171109T112253.338Z\n",
      "current time 20171109T122253.338Z\n"
     ]
    }
   ],
   "source": [
    "# Get current UTC time (as set in timestamp on ES DB)\n",
    "# In order to subtract the time difference we need ct to be a datetime object\n",
    "\n",
    "# Following 2 lines are for testing purposes only\n",
    "#curtime = '20170126T120000.000Z'\n",
    "#ct = datetime.datetime.strptime(curtime, \"%Y%m%dT%H%M%S.%fZ\")\n",
    "\n",
    "ct = datetime.datetime.utcnow()\n",
    "ind = 'frontier-new-%d-%02d' % (ct.year, ct.month)\n",
    "print('INDEX: ',ind)\n",
    "curtime = ct.strftime('%Y%m%dT%H%M%S.%f')[:-3]+'Z'\n",
    "\n",
    "td = datetime.timedelta(hours=nhours)\n",
    "st = ct - td\n",
    "starttime = st.strftime('%Y%m%dT%H%M%S.%f')[:-3]+'Z'\n",
    "\n",
    "print('start time', starttime)\n",
    "print('current time',curtime)\n"
   ]
  },
  {
   "cell_type": "markdown",
   "metadata": {},
   "source": [
    "### Establish connection to ES-DB and submit query\n",
    "\n",
    "Send a query to the ES-DB to get the Frontier servers which served queries taking more than **nsec** seconds"
   ]
  },
  {
   "cell_type": "code",
   "execution_count": 118,
   "metadata": {},
   "outputs": [
    {
     "name": "stdout",
     "output_type": "stream",
     "text": [
      "{'frontier-atlas2.lcg.triumf.ca': (0.1422475106685633, '2017-11-09T11:24:00.000Z'), 'aiatlas149.cern.ch': (0.03963535473642489, '2017-11-09T11:57:00.000Z'), 'aiatlas036.cern.ch': (0.0, '2017-11-09T11:21:00.000Z'), 'ccosvms0014': (0.0, '2017-11-09T11:21:00.000Z'), 'ccosvms0013.in2p3.fr': (0.0, '2017-11-09T11:21:00.000Z'), 'aiatlas147.cern.ch': (0.0, '2017-11-09T11:21:00.000Z'), 'aiatlas146.cern.ch': (0.14556040756914118, '2017-11-09T11:39:00.000Z'), 'ccosvms0012.in2p3.fr': (0.0, '2017-11-09T11:21:00.000Z'), 'aiatlas037.cern.ch': (0.0, '2017-11-09T11:21:00.000Z'), 'frontier-atlas1.lcg.triumf.ca': (0.12804097311139565, '2017-11-09T11:54:00.000Z'), 'aiatlas038.cern.ch': (0.0, '2017-11-09T11:21:00.000Z'), 'ccsvli200': (0.0, '2017-11-09T11:21:00.000Z'), 'aiatlas073.cern.ch': (0.12738853503184713, '2017-11-09T11:51:00.000Z'), 'frontier-atlas3.lcg.triumf.ca': (0.11961722488038277, '2017-11-09T11:48:00.000Z'), 'aiatlas148.cern.ch': (0.0, '2017-11-09T11:21:00.000Z')}\n"
     ]
    }
   ],
   "source": [
    "es = Elasticsearch(hosts=[{'host':'atlas-kibana.mwt2.org', 'port':9200}],timeout=60)\n",
    "\n",
    "condition='rejected:true OR disconn:true OR procerror:true'\n",
    "\n",
    "my_query={\n",
    "   \"size\": 0,\n",
    "   \"query\": {\n",
    "      \"range\": {\n",
    "         \"@timestamp\": {\n",
    "            \"gte\": starttime,\n",
    "            \"lte\": curtime,\n",
    "            \"format\": \"basic_date_time\"\n",
    "         }\n",
    "      }\n",
    "   },\n",
    "   \"aggs\": {\n",
    "     \"dhist\": {\n",
    "       \"date_histogram\": {\n",
    "         \"field\": \"@timestamp\",\n",
    "         \"interval\": interval,\n",
    "         \"time_zone\": \"UTC\",\n",
    "         \"min_doc_count\": 1\n",
    "       },\n",
    "       \"aggs\": {\n",
    "         \"frserver\": {\n",
    "           \"terms\": {\n",
    "             \"field\": \"frontierserver\",\n",
    "             \"size\": 20,\n",
    "             \"order\": {\n",
    "               \"_term\": \"asc\"\n",
    "             }\n",
    "           },\n",
    "           \"aggs\": {\n",
    "             \"amount\": {\n",
    "               \"range\": {\n",
    "                 \"field\": \"querytime\",\n",
    "                 \"ranges\": [\n",
    "                   {\n",
    "                     \"from\": 0,\n",
    "                     \"to\": nsec*1000\n",
    "                   },\n",
    "                   {\n",
    "                     \"from\": nsec*1000,\n",
    "                     \"to\": 100000000\n",
    "                   }\n",
    "                 ]\n",
    "               }\n",
    "             }\n",
    "           }\n",
    "         }\n",
    "       }\n",
    "     }\n",
    "   }\n",
    "}\n",
    "\n",
    "res = es.search(index=ind, body=my_query, request_timeout=600)\n",
    "\n",
    "frontierservers={}\n",
    "for min in range(len(res['aggregations']['dhist']['buckets'])):\n",
    "#   print(res['aggregations']['dhist']['buckets'][min]['key_as_string'])\n",
    "   for frsrvr in range(len(res['aggregations']['dhist']['buckets'][min]['frserver']['buckets'])):\n",
    "      tim=res['aggregations']['dhist']['buckets'][min]['key_as_string']\n",
    "      frs=res['aggregations']['dhist']['buckets'][min]['frserver']['buckets'][frsrvr]['key']\n",
    "      low=res['aggregations']['dhist']['buckets'][min]['frserver']['buckets'][frsrvr]['amount']['buckets'][0]['doc_count']\n",
    "      high=res['aggregations']['dhist']['buckets'][min]['frserver']['buckets'][frsrvr]['amount']['buckets'][1]['doc_count']\n",
    "#      print('   ',frs, low, high)\n",
    "      perc=100.*float(high)/float(high+low)\n",
    "      if frs in frontierservers:\n",
    "         if perc > frontierservers[frs][0]:\n",
    "            frontierservers[frs]=(perc,tim)\n",
    "      else:\n",
    "         frontierservers[frs]=(perc,tim)  \n",
    "\n",
    "print(frontierservers)\n"
   ]
  },
  {
   "cell_type": "markdown",
   "metadata": {},
   "source": [
    "### Submit an alert if any server had a percentage  of long time consuming queries beyond the established limit\n",
    "\n",
    "Send the Frontier server name and the maximum percentage of long time queries observed for any given **interval** in minutes above the limit **percentlimit**"
   ]
  },
  {
   "cell_type": "code",
   "execution_count": 111,
   "metadata": {},
   "outputs": [
    {
     "name": "stdout",
     "output_type": "stream",
     "text": [
      "{'frontier-atlas2.lcg.triumf.ca': ('1.03', '2017-11-08T09:15:00.000Z')}\n"
     ]
    }
   ],
   "source": [
    "percmat={}\n",
    "for frsrvr in frontierservers:\n",
    "   if frontierservers[frsrvr][0] > percentlimit:\n",
    "      percmat[frsrvr] = (\"%3.2f\"% (frontierservers[frsrvr][0]),frontierservers[frsrvr][1])\n",
    "        \n",
    "print(percmat)"
   ]
  },
  {
   "cell_type": "code",
   "execution_count": 114,
   "metadata": {},
   "outputs": [
    {
     "name": "stdout",
     "output_type": "stream",
     "text": [
      "1\n",
      "Content-Type: text/plain; charset=\"us-ascii\"\n",
      "MIME-Version: 1.0\n",
      "Content-Transfer-Encoding: 7bit\n",
      "Subject: Failed queries\n",
      "From: AAAS@mwt2.org\n",
      "To: ilijav@gmail.com\n",
      "\n",
      "Dear Ilija Vukotic,\n",
      "\n",
      "\tthis mail is to let you know that the percentage of long time queries (>10s) is\n",
      "\n",
      "frontier-atlas2.lcg.triumf.ca : 1.03% on 2017-11-08T09:15:00.000Z UTC time\n",
      "\n",
      "Best regards,\n",
      "ATLAS AAS\n",
      "\n",
      " To change your alerts preferences please you the following link:\n",
      "https://docs.google.com/forms/d/e/1FAIpQLSeedRVj0RPRadEt8eGobDeneix_vNxUkqbtdNg7rGMNOrpcug/viewform?edit2=2_ABaOnufrzSAOPoVDl6wcXDnQKk0EfkQRmlxj04nw9npJrTAK5BZPijqoLhg\n",
      "Content-Type: text/plain; charset=\"us-ascii\"\n",
      "MIME-Version: 1.0\n",
      "Content-Transfer-Encoding: 7bit\n",
      "Subject: Failed queries\n",
      "From: AAAS@mwt2.org\n",
      "To: julio.lozano.bahilo@cern.ch\n",
      "\n",
      "Dear Julio Lozano Bahilo,\n",
      "\n",
      "\tthis mail is to let you know that the percentage of long time queries (>10s) is\n",
      "\n",
      "frontier-atlas2.lcg.triumf.ca : 1.03% on 2017-11-08T09:15:00.000Z UTC time\n",
      "\n",
      "Best regards,\n",
      "ATLAS AAS\n",
      "\n",
      " To change your alerts preferences please you the following link:\n",
      "https://docs.google.com/forms/d/e/1FAIpQLSeedRVj0RPRadEt8eGobDeneix_vNxUkqbtdNg7rGMNOrpcug/viewform?edit2=2_ABaOnuesA7ECcNl_hDLh1sxDJSzXznGWG_k5L7jKLYi36MtTXu9EKTChC-U\n",
      "Content-Type: text/plain; charset=\"us-ascii\"\n",
      "MIME-Version: 1.0\n",
      "Content-Transfer-Encoding: 7bit\n",
      "Subject: Failed queries\n",
      "From: AAAS@mwt2.org\n",
      "To: Nurcan.Ozturk@cern.ch\n",
      "\n",
      "Dear ,\n",
      "\n",
      "\tthis mail is to let you know that the percentage of long time queries (>10s) is\n",
      "\n",
      "frontier-atlas2.lcg.triumf.ca : 1.03% on 2017-11-08T09:15:00.000Z UTC time\n",
      "\n",
      "Best regards,\n",
      "ATLAS AAS\n",
      "\n",
      " To change your alerts preferences please you the following link:\n",
      "https://docs.google.com/forms/d/e/1FAIpQLSeedRVj0RPRadEt8eGobDeneix_vNxUkqbtdNg7rGMNOrpcug/viewform?edit2=2_ABaOnucAxmmvMO49zjdex-ezssXifaTuAsAWgERn7NkkO_UMBhVv3xOTw8E\n"
     ]
    }
   ],
   "source": [
    "if len(percmat) > 0:\n",
    "    S = subscribers()\n",
    "    A = alerts.alerts()\n",
    "\n",
    "    test_name = 'Failed queries'\n",
    "    users =  S.get_immediate_subscribers(test_name)\n",
    "    for user in users:\n",
    "        body = 'Dear ' + user.name +',\\n\\n'\n",
    "        body += '\\tthis mail is to let you know that the percentage of long time queries (>'\n",
    "        body += str(nsec)+'s) is\\n\\n'\n",
    "        for fkey in percmat:\n",
    "          body += fkey\n",
    "          body += ' : '\n",
    "          body += str(percmat[fkey][0]) + '%'\n",
    "          body += ' on ' + percmat[fkey][1] + ' UTC time\\n'\n",
    "        body += '\\nBest regards,\\nATLAS AAS'\n",
    "        body += '\\n\\n To change your alerts preferences please you the following link:\\n' + user.link\n",
    "\n",
    "        A.sendMail(test_name, user.email, body)\n",
    "##        A.addAlert(test_name, user.name, str(res_page))\n"
   ]
  },
  {
   "cell_type": "code",
   "execution_count": null,
   "metadata": {
    "collapsed": true
   },
   "outputs": [],
   "source": []
  }
 ],
 "metadata": {
  "kernelspec": {
   "display_name": "Python 3",
   "language": "python",
   "name": "python3"
  },
  "language_info": {
   "codemirror_mode": {
    "name": "ipython",
    "version": 3
   },
   "file_extension": ".py",
   "mimetype": "text/x-python",
   "name": "python",
   "nbconvert_exporter": "python",
   "pygments_lexer": "ipython3",
   "version": "3.4.5"
  }
 },
 "nbformat": 4,
 "nbformat_minor": 1
}
