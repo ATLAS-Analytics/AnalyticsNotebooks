{
 "cells": [
  {
   "cell_type": "markdown",
   "metadata": {},
   "source": [
    "Checks percentage of time consuming queries (TEST)\n",
    "====\n",
    "This notebook checks whether the percentage of queries with high completion times (>**nsec**) (as computed for a period of several minutes **interval**) exceeds a given value (**percentlimit**)  at any given time during the selected interval (**nhours**). It sends mails to all the people substribed to that alert. It is run every half an hour from a cron job (not yet).\n",
    "In this way we can detect spikes that tend to cause server malfunctions."
   ]
  },
  {
   "cell_type": "code",
   "execution_count": 77,
   "metadata": {
    "collapsed": true
   },
   "outputs": [],
   "source": [
    "from subscribers import subscribers\n",
    "import alerts\n",
    "import es_query\n",
    "\n",
    "import datetime\n",
    "import re\n",
    "import json\n",
    "import sys\n",
    "from elasticsearch import Elasticsearch, exceptions as es_exceptions\n",
    "from elasticsearch.helpers import scan"
   ]
  },
  {
   "cell_type": "markdown",
   "metadata": {},
   "source": [
    "### Variables for this script:\n",
    "1. Maximum allowed percentage of queries consuming more than 10s with respect to the total amount of queries. Alert goes off when ot is surpassed\n",
    "2. Time interval to calculate the percentage\n",
    "3. Time period for the scan"
   ]
  },
  {
   "cell_type": "code",
   "execution_count": 78,
   "metadata": {
    "collapsed": true
   },
   "outputs": [],
   "source": [
    "# Percentage of queries taking > 10s\n",
    "percentlimit=10\n",
    "# Time limit in seconds (defines 'high' completion times)\n",
    "nsec=10\n",
    "# Testing interval in minutes\n",
    "interval=5\n",
    "# Time period to scan from now backwards\n",
    "nhours=1"
   ]
  },
  {
   "cell_type": "markdown",
   "metadata": {
    "collapsed": true
   },
   "source": [
    "### Get starting and current time for query interval \n",
    "\n",
    "We need :\n",
    "1. Current UTC time (as set in timestamp on ES DB)\n",
    "2. Previous date stamp (**nhours** ago) obtained from a time delta\n",
    "\n",
    "In order to subtract the time difference we need **ct** to be a datetime object"
   ]
  },
  {
   "cell_type": "code",
   "execution_count": 79,
   "metadata": {},
   "outputs": [
    {
     "name": "stdout",
     "output_type": "stream",
     "text": [
      "INDEX:  frontier-2017-10\n",
      "start time 20171010T120458.698Z\n",
      "current time 20171010T130458.698Z\n"
     ]
    }
   ],
   "source": [
    "# Get current UTC time (as set in timestamp on ES DB)\n",
    "# In order to subtract the time difference we need ct to be a datetime object\n",
    "\n",
    "# Following 2 lines are for testing purposes only\n",
    "#curtime = '20170126T120000.000Z'\n",
    "#ct = datetime.datetime.strptime(curtime, \"%Y%m%dT%H%M%S.%fZ\")\n",
    "\n",
    "ct = datetime.datetime.utcnow()\n",
    "ind = 'frontier-%d-%02d' % (ct.year, ct.month)\n",
    "print('INDEX: ',ind)\n",
    "curtime = ct.strftime('%Y%m%dT%H%M%S.%f')[:-3]+'Z'\n",
    "\n",
    "td = datetime.timedelta(hours=nhours)\n",
    "st = ct - td\n",
    "starttime = st.strftime('%Y%m%dT%H%M%S.%f')[:-3]+'Z'\n",
    "\n",
    "print('start time', starttime)\n",
    "print('current time',curtime)\n"
   ]
  },
  {
   "cell_type": "markdown",
   "metadata": {},
   "source": [
    "### Establish connection to ES-DB and submit query\n",
    "\n",
    "Send a query to the ES-DB to get the Frontier servers which served queries taking more than **nsec** seconds"
   ]
  },
  {
   "cell_type": "code",
   "execution_count": 80,
   "metadata": {},
   "outputs": [
    {
     "name": "stdout",
     "output_type": "stream",
     "text": [
      "0\n",
      "[]\n"
     ]
    }
   ],
   "source": [
    "es = Elasticsearch(hosts=[{'host':'atlas-kibana.mwt2.org', 'port':9200}],timeout=60)\n",
    "\n",
    "myquery = es_query.es_query()\n",
    "\n",
    "# Select ony those frontier severs having served queries which took more than the given time limit\n",
    "querytxt = myquery.setquery('querytime:>'+str(nsec*1000),starttime,curtime)\n",
    "res_page = es.search(index='frontier-*', body=querytxt, request_timeout=600, scroll='2m')\n",
    "\n",
    "sid = res_page['_scroll_id']\n",
    "res_total = res_page['hits']['total']\n",
    "print(res_total)\n",
    "scroll_size=res_page['hits']['total']\n",
    "\n",
    "frontierservers = []\n",
    "for i in range(len(res_page['hits']['hits'])):\n",
    "   frontierserver = str(res_page['hits']['hits'][i]['_source']['frontierserver'])\n",
    "   if frontierserver not in frontierservers:\n",
    "      frontierservers.append(frontierserver)\n",
    "\n",
    "# Start scrolling\n",
    "while (scroll_size > 0):\n",
    "   print(\"Scrolling...\")\n",
    "   res_page = es.scroll(scroll_id = sid, scroll = '2m')\n",
    "   # Update the scroll ID\n",
    "   sid = res_page['_scroll_id']\n",
    "   # Get the number of results that we returned in the last scroll\n",
    "   scroll_size = len(res_page['hits']['hits'])\n",
    "   print(\"scroll size: \", str(scroll_size))\n",
    "   # Do something with the obtained page\n",
    "\n",
    "   for i in range(len(res_page['hits']['hits'])):\n",
    "      frontierserver = str(res_page['hits']['hits'][i]['_source']['frontierserver'])\n",
    "      if frontierserver not in frontierservers:\n",
    "         frontierservers.append(frontierserver)\n",
    "\n",
    "print (frontierservers)"
   ]
  },
  {
   "cell_type": "markdown",
   "metadata": {},
   "source": [
    "### Query for intervals of some minutes during the whole search period\n",
    "\n",
    "We get the percentages of queries taking more than **nsec** seconds in intervals of **interval** minutes for the **nhours** period"
   ]
  },
  {
   "cell_type": "code",
   "execution_count": 81,
   "metadata": {
    "collapsed": true,
    "scrolled": true
   },
   "outputs": [],
   "source": [
    "td_min = datetime.timedelta(minutes=interval)\n",
    "it = st\n",
    "et = st + td_min\n",
    "percmat={}\n",
    "timdict={}\n",
    "while it < ct:\n",
    "   itime = it.strftime('%Y%m%dT%H%M%S.%f')[:-3]+'Z'\n",
    "   etime = et.strftime('%Y%m%dT%H%M%S.%f')[:-3]+'Z'\n",
    "\n",
    "   for frserver in frontierservers:\n",
    "      querytxt = myquery.setquery('querytime:>'+str(nsec*1000)+' AND frontierserver:\"'+frserver+'\"',itime,etime)\n",
    "      res_page = es.search(index='frontier-*', body=querytxt, request_timeout=600, scroll='2m')\n",
    "\n",
    "    # sid = res_page['_scroll_id']\n",
    "      res_lq = res_page['hits']['total']\n",
    "      if res_lq > 0:\n",
    "         querytxt = myquery.setquery('frontierserver:\"'+frserver+'\"',itime,etime)\n",
    "         res_page = es.search(index='frontier-*', body=querytxt, request_timeout=600, scroll='2m')\n",
    "         res_total = res_page['hits']['total']\n",
    "         perc = '{:02.2f}'.format(res_lq/res_total*100)\n",
    "         if int(float(perc)) >= percentlimit:\n",
    "            if frserver not in percmat.keys() or float(perc) > float(percmat[frserver]):\n",
    "               percmat[frserver] = perc\n",
    "               timdict[frserver] = it.strftime('%Y-%m-%d %H:%M:%S')\n",
    "\n",
    "#            print('Percentage of long time queries ', perc, ' for frontier server ', frserver, ' at ',\n",
    "#                  it.strftime('%Y-%m-%d %H:%M:%S'))\n",
    "\n",
    "   it = et\n",
    "   et = it + td_min\n",
    "\n",
    "# scroll_size=res_page['hits']['total']\n"
   ]
  },
  {
   "cell_type": "markdown",
   "metadata": {},
   "source": [
    "### Submit an alert if any server had a percentage  of long time consuming queries beyond the established limit\n",
    "\n",
    "Send the Frontier server name and the maximum percentage of long time queries observed for any given **interval** in minutes above the limit **percentlimit**"
   ]
  },
  {
   "cell_type": "code",
   "execution_count": 82,
   "metadata": {},
   "outputs": [],
   "source": [
    "if len(percmat) > 0:\n",
    "    S = subscribers()\n",
    "    A = alerts.alerts()\n",
    "\n",
    "    test_name = 'Long queries'\n",
    "    users =  S.get_immediate_subscribers(test_name)\n",
    "    for user in users:\n",
    "        body = 'Dear ' + user.name +',\\n\\n'\n",
    "        body += '\\tthis mail is to let you know that the percentage of long time queries (>'\n",
    "        body += str(nsec)+'s) is\\n\\n'\n",
    "        for fkey in percmat:\n",
    "          body += fkey\n",
    "          body += ' : '\n",
    "          body += str(percmat[fkey]) + '%'\n",
    "          body += ' on ' + timdict[fkey] + ' UTC time\\n'\n",
    "        body += '\\nBest regards,\\nATLAS AAS'\n",
    "        body += '\\n\\n To change your alerts preferences please you the following link:\\n' + user.link\n",
    "        A.sendMail(test_name, user.email, body)\n",
    "##        A.addAlert(test_name, user.name, str(res_page))\n"
   ]
  },
  {
   "cell_type": "code",
   "execution_count": null,
   "metadata": {
    "collapsed": true
   },
   "outputs": [],
   "source": []
  }
 ],
 "metadata": {
  "kernelspec": {
   "display_name": "Python 3",
   "language": "python",
   "name": "python3"
  },
  "language_info": {
   "codemirror_mode": {
    "name": "ipython",
    "version": 3
   },
   "file_extension": ".py",
   "mimetype": "text/x-python",
   "name": "python",
   "nbconvert_exporter": "python",
   "pygments_lexer": "ipython3",
   "version": "3.4.5"
  }
 },
 "nbformat": 4,
 "nbformat_minor": 1
}
