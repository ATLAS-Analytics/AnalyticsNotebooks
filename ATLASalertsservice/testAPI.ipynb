{
 "cells": [
  {
   "cell_type": "markdown",
   "metadata": {},
   "source": [
    "## Check subscribers and alerts API"
   ]
  },
  {
   "cell_type": "code",
   "execution_count": 1,
   "metadata": {
    "collapsed": false
   },
   "outputs": [
    {
     "name": "stdout",
     "output_type": "stream",
     "text": [
      "All subscribers:\n",
      "user name:Ilija Vukotic  email:ilija@vukotic.me\n",
      "user name:Ilija Vukotic  email:ilijav@gmail.com\n",
      "\n",
      "\n",
      "\n",
      "specific alert subscribers:\n",
      "user name:Ilija Vukotic  email:ilija@vukotic.me\n",
      "user name:Ilija Vukotic  email:ilijav@gmail.com\n",
      "\n",
      "\n",
      "\n",
      "specific alert subscribers:\n",
      "user name:Ilija Vukotic  email:ilijav@gmail.com\n",
      "specific alert subscribers:\n",
      "user name:Ilija Vukotic  email:ilija@vukotic.me\n"
     ]
    }
   ],
   "source": [
    "from subscribers import subscribers\n",
    "import alerts\n",
    "\n",
    "S = subscribers()\n",
    "\n",
    "print ('All subscribers:')\n",
    "for u in S.get_all_users():\n",
    "    print(u.to_string())\n",
    "print('\\n\\n')\n",
    "\n",
    "print ('specific alert subscribers:')\n",
    "for u in S.get_immediate_subscribers('Alert on Elastic cluster state [ES in yellow]'):\n",
    "    print(u.to_string())\n",
    "print('\\n\\n')\n",
    "\n",
    "print ('specific alert subscribers:')\n",
    "for u in S.get_summary_subscribers('PerfSONAR [Packet loss increase for link(s) where your site is a source or destination]'):\n",
    "    print(u.to_string())\n",
    "    \n",
    "print ('specific alert subscribers:')\n",
    "for u in S.get_immediate_subscribers('PerfSONAR [Packet loss increase for link(s) where your site is a source or destination]'):\n",
    "    print(u.to_string())"
   ]
  },
  {
   "cell_type": "code",
   "execution_count": 2,
   "metadata": {
    "collapsed": false
   },
   "outputs": [
    {
     "name": "stdout",
     "output_type": "stream",
     "text": [
      "specific alert and site subscribers\n",
      "user name:Ilija Vukotic  email:ilijav@gmail.com \n",
      "sites: ['FirstSite'] \n",
      "queues: ['Queue']\n",
      "Content-Type: text/plain; charset=\"us-ascii\"\n",
      "MIME-Version: 1.0\n",
      "Content-Transfer-Encoding: 7bit\n",
      "Subject: PerfSONAR [Packet loss increase for link(s) where your site is a source or destination]\n",
      "From: AAAS@mwt2.org\n",
      "To: ilijav@gmail.com\n",
      "\n",
      "from API test script\n"
     ]
    }
   ],
   "source": [
    "print ('specific alert and site subscribers')\n",
    "test='PerfSONAR [Packet loss increase for link(s) where your site is a source or destination]'\n",
    "for u in S.get_summary_subscribers(test):\n",
    "    print(u.to_string(), '\\nsites:', u.sites, '\\nqueues:', u.queues)\n",
    "    \n",
    "A = alerts.alerts()\n",
    "A.sendMail(test, u.email, 'from API test script')\n",
    "#A.addAlert(testName, subscriber[0],'from API test script.')"
   ]
  },
  {
   "cell_type": "code",
   "execution_count": null,
   "metadata": {
    "collapsed": true
   },
   "outputs": [],
   "source": []
  }
 ],
 "metadata": {
  "kernelspec": {
   "display_name": "Python 3",
   "language": "python",
   "name": "python3"
  },
  "language_info": {
   "codemirror_mode": {
    "name": "ipython",
    "version": 3
   },
   "file_extension": ".py",
   "mimetype": "text/x-python",
   "name": "python",
   "nbconvert_exporter": "python",
   "pygments_lexer": "ipython3",
   "version": "3.5.1"
  }
 },
 "nbformat": 4,
 "nbformat_minor": 0
}
