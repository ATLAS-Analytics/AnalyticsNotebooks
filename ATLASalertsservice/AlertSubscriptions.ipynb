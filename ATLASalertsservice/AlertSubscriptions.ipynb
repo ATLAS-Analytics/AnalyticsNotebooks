{
 "cells": [
  {
   "cell_type": "code",
   "execution_count": 5,
   "metadata": {
    "collapsed": false
   },
   "outputs": [
    {
     "name": "stdout",
     "output_type": "stream",
     "text": [
      "0 Packet loss increase for link(s) where your site is a destination\n",
      "1 Direct access using \"native\" name issue\n",
      "2 Slow transfers\n",
      "3 No jobs during last 12 hours\n",
      "4 Cluster is in RED\n",
      "5 Cluster is in YELLOW\n",
      "6 Direct access using gLFN issue\n",
      "7 Average jobs CPU efficiency <5%\n",
      "8 Average job efficiency <5%\n",
      "9 Traceroute change between your site and at least 3 other sites.\n",
      "-------------------------------\n",
      "['Ilija Vukotic', 'ilijav@gmail.com', 'https://docs.google.com/forms/d/e/1FAIpQLSfwwtAvMrqp4Ot_LYfmNu75_v33dtAxiXg7ZvVdn1X5v7TEgg/viewform?edit2=2_ABaOnudHRpNOnsTTkniiV0hQlyetP_ue4iT73kK2Yr-iDnYb1wr7_LVq8ttNPQ']\n",
      "['test service', 'test@mgas.com', 'https://docs.google.com/forms/d/e/1FAIpQLSfwwtAvMrqp4Ot_LYfmNu75_v33dtAxiXg7ZvVdn1X5v7TEgg/viewform?edit2=2_ABaOnudFKqP-eOUv44slYv9DvaSkcGBT3LjLmbW-UGVYt7Zf4seaBwZUxVLxXQ']\n",
      "['djoko', 'test@ets.ts', 'https://docs.google.com/forms/d/e/1FAIpQLSfwwtAvMrqp4Ot_LYfmNu75_v33dtAxiXg7ZvVdn1X5v7TEgg/viewform?edit2=2_ABaOnufNZ9ucPy9KFTd1J87UrbUPPXcSBa6GFeWepMeKa1d2mE0_130QMte61Q']\n"
     ]
    }
   ],
   "source": [
    "import subscribers\n",
    "S=subscribers.subscribers()\n",
    "testsToCheck = S.getTests()\n",
    "for no,test in enumerate(testsToCheck):\n",
    "    print(no, test)\n",
    "print('-------------------------------')\n",
    "subscribers =  S.getSubscribers(testsToCheck[0])\n",
    "for subscriber in subscribers:\n",
    "    print(subscriber)\n",
    "\n"
   ]
  },
  {
   "cell_type": "code",
   "execution_count": null,
   "metadata": {
    "collapsed": true
   },
   "outputs": [],
   "source": []
  },
  {
   "cell_type": "code",
   "execution_count": null,
   "metadata": {
    "collapsed": true
   },
   "outputs": [],
   "source": []
  },
  {
   "cell_type": "code",
   "execution_count": null,
   "metadata": {
    "collapsed": true
   },
   "outputs": [],
   "source": []
  },
  {
   "cell_type": "code",
   "execution_count": null,
   "metadata": {
    "collapsed": true
   },
   "outputs": [],
   "source": []
  }
 ],
 "metadata": {
  "kernelspec": {
   "display_name": "Python 3",
   "language": "python",
   "name": "python3"
  },
  "language_info": {
   "codemirror_mode": {
    "name": "ipython",
    "version": 3
   },
   "file_extension": ".py",
   "mimetype": "text/x-python",
   "name": "python",
   "nbconvert_exporter": "python",
   "pygments_lexer": "ipython3",
   "version": "3.5.1"
  }
 },
 "nbformat": 4,
 "nbformat_minor": 0
}
