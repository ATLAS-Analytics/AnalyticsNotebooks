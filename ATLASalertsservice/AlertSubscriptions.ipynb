{
 "cells": [
  {
   "cell_type": "code",
   "execution_count": 1,
   "metadata": {
    "collapsed": false
   },
   "outputs": [
    {
     "name": "stdout",
     "output_type": "stream",
     "text": [
      "0 Packet loss increase for link(s) where your site is a destination\n",
      "1 No jobs during last 12 hours\n",
      "2 Average jobs CPU efficiency <5%\n",
      "3 Average job efficiency <5%\n",
      "4 Cluster is in RED\n",
      "5 Cluster is in YELLOW\n",
      "6 Kibana issue\n",
      "7 Packet loss increase for link(s) where your site is a source\n",
      "8 Traceroute change between your site and at least 3 other sites.\n",
      "9 Unusual drop in bandwidth from your site.\n",
      "10 Unusual drop in bandwidth to your site.\n",
      "11 Direct access using gLFN issue\n",
      "12 Direct access using \"native\" name issue\n",
      "13 Upstream redirection issue\n",
      "14 Downstream redirection issue\n",
      "15 Slow transfers\n",
      "-------------------------------\n",
      "['Ilija Vukotic', 'ivukotic@cern.ch', 'https://docs.google.com/forms/d/e/1FAIpQLSfwwtAvMrqp4Ot_LYfmNu75_v33dtAxiXg7ZvVdn1X5v7TEgg/viewform?edit2=2_ABaOnuf8m2xilpIjaTt3jlTf-1Fw9r42smGVmYATJ2Jap7Y_9Ym0hL_AzhCZIQ']\n",
      "['Lincoln Bryant', 'LINCOLNB@UCHICAGO.EDU', 'https://docs.google.com/forms/d/e/1FAIpQLSfwwtAvMrqp4Ot_LYfmNu75_v33dtAxiXg7ZvVdn1X5v7TEgg/viewform?edit2=2_ABaOnufEkC3ZkGEJM7YrjIK5M9zZCa8Fg0C58snIuKzECJRbScqS5po96bBVKA']\n"
     ]
    }
   ],
   "source": [
    "import subscribers\n",
    "S=subscribers.subscribers()\n",
    "testsToCheck = S.getTests()\n",
    "for no,test in enumerate(testsToCheck):\n",
    "    print(no, test)\n",
    "print('-------------------------------')\n",
    "subscribers =  S.getSubscribers(testsToCheck[0])\n",
    "for subscriber in subscribers:\n",
    "    print(subscriber)\n",
    "\n"
   ]
  },
  {
   "cell_type": "code",
   "execution_count": null,
   "metadata": {
    "collapsed": true
   },
   "outputs": [],
   "source": []
  }
 ],
 "metadata": {
  "kernelspec": {
   "display_name": "Python 3",
   "language": "python",
   "name": "python3"
  },
  "language_info": {
   "codemirror_mode": {
    "name": "ipython",
    "version": 3
   },
   "file_extension": ".py",
   "mimetype": "text/x-python",
   "name": "python",
   "nbconvert_exporter": "python",
   "pygments_lexer": "ipython3",
   "version": "3.5.1"
  }
 },
 "nbformat": 4,
 "nbformat_minor": 0
}
