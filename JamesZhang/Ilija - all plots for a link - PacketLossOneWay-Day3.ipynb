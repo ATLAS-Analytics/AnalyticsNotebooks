{
 "cells": [
  {
   "cell_type": "markdown",
   "metadata": {},
   "source": [
    "## Plots delays, throughputs, packet loss and path for a selected link"
   ]
  },
  {
   "cell_type": "code",
   "execution_count": 1,
   "metadata": {
    "collapsed": false
   },
   "outputs": [],
   "source": [
    "%matplotlib inline\n",
    "from elasticsearch import Elasticsearch\n",
    "from elasticsearch.helpers import scan\n",
    "from datetime import datetime\n",
    "import math\n",
    "import matplotlib.pyplot as plt\n",
    "import matplotlib.mlab as mlab\n",
    "from matplotlib import gridspec\n",
    "from datetime import datetime\n",
    "import numpy as np\n",
    "import pandas as pd\n",
    "\n",
    "es = Elasticsearch(['atlas-kibana.mwt2.org:9200'],timeout=60)\n",
    "indices = \"network_weather-2017.8.*\"\n",
    "\n",
    "my_query = {}\n",
    "\n",
    "from sklearn import tree\n",
    "\n",
    "from sklearn.model_selection import cross_val_score\n",
    "from sklearn.ensemble import AdaBoostClassifier\n",
    "from sklearn.tree import DecisionTreeClassifier\n",
    "\n",
    "import time\n",
    "from sklearn.model_selection import train_test_split"
   ]
  },
  {
   "cell_type": "markdown",
   "metadata": {},
   "source": [
    "##  Select your link"
   ]
  },
  {
   "cell_type": "code",
   "execution_count": 2,
   "metadata": {
    "collapsed": false
   },
   "outputs": [],
   "source": [
    "# sS='UC'\n",
    "# srcSiteOWDServer = \"192.170.227.160\"\n",
    "# srcSiteThroughputServer = \"192.170.227.162\"\n",
    "\n",
    "sS='CERN-PROD'\n",
    "srcSiteOWDServer = \"128.142.223.247\"\n",
    "#srcSiteThroughputServer = \"128.142.223.246\"\n",
    "\n",
    "# dS='IU'\n",
    "# destSiteOWDServer = \"149.165.225.223\"\n",
    "# destSiteThroughputServer = \"149.165.225.224\"\n",
    "\n",
    "# dS='UIUC'\n",
    "# destSiteOWDServer = \"72.36.96.4\"\n",
    "# destSiteThroughputServer = \"72.36.96.9\"\n",
    "\n",
    "# dS='ICCN'\n",
    "# destSiteOWDServer = \"72.36.96.4\"\n",
    "# destSiteThroughputServer = \"72.36.126.132\"\n",
    "\n",
    "dS='pic'\n",
    "destSiteOWDServer = \"193.109.172.188\"\n",
    "#destSiteThroughputServer = \"193.109.172.187\""
   ]
  },
  {
   "cell_type": "markdown",
   "metadata": {},
   "source": [
    "## Get the data from Elasticsearch, and store the record based on its type"
   ]
  },
  {
   "cell_type": "code",
   "execution_count": 3,
   "metadata": {
    "collapsed": false
   },
   "outputs": [],
   "source": [
    "my_query = {\n",
    "    'query': { \n",
    "       'bool':{\n",
    "            'must':[\n",
    "                    {'range': {'timestamp': {'gte': '20170804T000000Z', 'lt': '20170805T000000Z'}}},\n",
    "                        {'bool':\n",
    "                            {'should':[\n",
    "                                {'term': {'src': srcSiteOWDServer}},\n",
    "                                #{'term': {'src': srcSiteThroughputServer}},\n",
    "                                #{'term': {'src': destSiteOWDServer}},\n",
    "                                #{'term': {'src': destSiteThroughputServer}}\n",
    "                            ]}\n",
    "                        },\n",
    "                        {'bool':\n",
    "                            {'should':[\n",
    "                                {'term': {'dest': destSiteOWDServer}},\n",
    "                                #{'term': {'dest': destSiteThroughputServer}},\n",
    "                                #{'term': {'dest': srcSiteOWDServer}},\n",
    "                                #{'term': {'dest': srcSiteThroughputServer}}\n",
    "                            ]}\n",
    "                        }\n",
    "                    ]\n",
    "                }\n",
    "        \n",
    "        }\n",
    "    }\n",
    "\n",
    "\n",
    "scroll = list(scan(client=es, index=indices, query=my_query))\n"
   ]
  },
  {
   "cell_type": "code",
   "execution_count": 4,
   "metadata": {
    "collapsed": false,
    "scrolled": true
   },
   "outputs": [
    {
     "name": "stdout",
     "output_type": "stream",
     "text": [
      "1970-01-01 00:00:00\n",
      "{'_source': {'srcSite': 'CERN-PROD', 'src': '128.142.223.247', 'srcProduction': True, 'timestamp': 1501842277000, 'destProduction': True, 'MA': '128.142.223.247', 'delay_sd': 0.17273105538440817, 'dest_host': 'psl01.pic.es', 'dest': '193.109.172.188', 'ipv6': False, 'destSite': 'pic', 'delay_median': 14.78, 'srcVO': 'ATLAS', 'destVO': 'ATLAS', 'delay_mean': 14.823076923076924, 'src_host': 'perfsonar-lt.cern.ch'}, '_type': 'latency', '_id': 'AV2sy0-vNILXDji8eKBG', '_score': None, 'sort': [213], '_index': 'network_weather-2017.8.4'}\n",
      "2017-08-04 10:24:37\n",
      "{'_source': {'srcSite': 'CERN-PROD', 'src': '128.142.223.247', 'srcProduction': True, 'timestamp': 1501842157000, 'destProduction': True, 'MA': '128.142.223.247', 'delay_sd': 0.1382754256306352, 'dest_host': 'psl01.pic.es', 'dest': '193.109.172.188', 'ipv6': False, 'destSite': 'pic', 'delay_median': 14.77, 'srcVO': 'ATLAS', 'destVO': 'ATLAS', 'delay_mean': 14.811799999999995, 'src_host': 'perfsonar-lt.cern.ch'}, '_type': 'latency', '_id': 'AV2sy0-vNILXDji8eKBL', '_score': None, 'sort': [214], '_index': 'network_weather-2017.8.4'}\n",
      "{'_source': {'srcSite': 'CERN-PROD', 'src': '128.142.223.247', 'srcProduction': True, 'timestamp': 1501842097000, 'destProduction': True, 'MA': '128.142.223.247', 'delay_sd': 0.22631877162287903, 'dest_host': 'psl01.pic.es', 'dest': '193.109.172.188', 'ipv6': False, 'destSite': 'pic', 'delay_median': 14.78, 'srcVO': 'ATLAS', 'destVO': 'ATLAS', 'delay_mean': 14.826216666666665, 'src_host': 'perfsonar-lt.cern.ch'}, '_type': 'latency', '_id': 'AV2sy0-vNILXDji8eKBM', '_score': None, 'sort': [215], '_index': 'network_weather-2017.8.4'}\n",
      "{'_source': {'srcSite': 'CERN-PROD', 'src': '128.142.223.247', 'srcProduction': True, 'timestamp': 1501842366000, 'destProduction': True, 'MA': '128.142.223.247', 'delay_sd': 0.18516065605149157, 'dest_host': 'psl01.pic.es', 'dest': '193.109.172.188', 'ipv6': False, 'destSite': 'pic', 'delay_median': 14.78, 'srcVO': 'ATLAS', 'destVO': 'ATLAS', 'delay_mean': 14.811636060100167, 'src_host': 'perfsonar-lt.cern.ch'}, '_type': 'latency', '_id': 'AV2sy0-vNILXDji8eKBR', '_score': None, 'sort': [216], '_index': 'network_weather-2017.8.4'}\n",
      "{'_source': {'srcSite': 'CERN-PROD', 'src': '128.142.223.247', 'srcProduction': True, 'timestamp': 1501842397000, 'destProduction': True, 'MA': '128.142.223.247', 'dest_host': 'psl01.pic.es', 'dest': '193.109.172.188', 'ipv6': False, 'destSite': 'pic', 'srcVO': 'ATLAS', 'destVO': 'ATLAS', 'packet_loss': 0.0033333333333333335, 'src_host': 'perfsonar-lt.cern.ch'}, '_type': 'packet_loss_rate', '_id': 'AV2sy3fnNILXDji8eKuz', '_score': None, 'sort': [666], '_index': 'network_weather-2017.8.4'}\n",
      "{'_source': {'srcSite': 'CERN-PROD', 'src': '128.142.223.247', 'srcProduction': True, 'timestamp': 1501842337000, 'destProduction': True, 'MA': '128.142.223.247', 'dest_host': 'psl01.pic.es', 'dest': '193.109.172.188', 'ipv6': False, 'destSite': 'pic', 'srcVO': 'ATLAS', 'destVO': 'ATLAS', 'packet_loss': 0.0016666666666666668, 'src_host': 'perfsonar-lt.cern.ch'}, '_type': 'packet_loss_rate', '_id': 'AV2sy3fnNILXDji8eKu0', '_score': None, 'sort': [667], '_index': 'network_weather-2017.8.4'}\n",
      "{'_source': {'srcSite': 'CERN-PROD', 'src': '128.142.223.247', 'srcProduction': True, 'timestamp': 1501842277000, 'destProduction': True, 'MA': '128.142.223.247', 'dest_host': 'psl01.pic.es', 'dest': '193.109.172.188', 'ipv6': False, 'destSite': 'pic', 'srcVO': 'ATLAS', 'destVO': 'ATLAS', 'packet_loss': 0.0033333333333333335, 'src_host': 'perfsonar-lt.cern.ch'}, '_type': 'packet_loss_rate', '_id': 'AV2sy3fnNILXDji8eKu3', '_score': None, 'sort': [668], '_index': 'network_weather-2017.8.4'}\n",
      "{'_source': {'srcSite': 'CERN-PROD', 'src': '128.142.223.247', 'srcProduction': True, 'timestamp': 1501842517000, 'destProduction': True, 'MA': '128.142.223.247', 'dest_host': 'psl01.pic.es', 'dest': '193.109.172.188', 'ipv6': False, 'destSite': 'pic', 'srcVO': 'ATLAS', 'destVO': 'ATLAS', 'packet_loss': 0.0016666666666666668, 'src_host': 'perfsonar-lt.cern.ch'}, '_type': 'packet_loss_rate', '_id': 'AV2sy3fnNILXDji8eKu5', '_score': None, 'sort': [669], '_index': 'network_weather-2017.8.4'}\n",
      "{'_source': {'srcSite': 'CERN-PROD', 'src': '128.142.223.247', 'srcProduction': True, 'timestamp': 1501842186000, 'destProduction': True, 'MA': '128.142.223.247', 'dest_host': 'psl01.pic.es', 'dest': '193.109.172.188', 'ipv6': False, 'destSite': 'pic', 'srcVO': 'ATLAS', 'destVO': 'ATLAS', 'packet_loss': 0.0, 'src_host': 'perfsonar-lt.cern.ch'}, '_type': 'packet_loss_rate', '_id': 'AV2sy3fnNILXDji8eKu-', '_score': None, 'sort': [670], '_index': 'network_weather-2017.8.4'}\n",
      "{'_source': {'srcSite': 'CERN-PROD', 'src': '128.142.223.247', 'srcProduction': True, 'timestamp': 1501806743000, 'destProduction': True, 'MA': '128.142.223.247', 'delay_sd': 0.17733301300096374, 'dest_host': 'psl01.pic.es', 'dest': '193.109.172.188', 'ipv6': False, 'destSite': 'pic', 'delay_median': 15.11, 'srcVO': 'ATLAS', 'destVO': 'ATLAS', 'delay_mean': 15.142550000000004, 'src_host': 'perfsonar-lt.cern.ch'}, '_type': 'latency', '_id': 'AV2qsaEiNILXDji8PdLg', '_score': None, 'sort': [5220], '_index': 'network_weather-2017.8.4'}\n"
     ]
    }
   ],
   "source": [
    "#site = {srcSiteOWDServer: sS, srcSiteThroughputServer: sS, destSiteOWDServer:dS, destSiteThroughputServer:dS}\n",
    "site = {srcSiteOWDServer: sS, destSiteOWDServer:dS}\n",
    "data = {sS:pd.DataFrame(),dS:pd.DataFrame()}\n",
    "epoch = datetime.utcfromtimestamp(0)\n",
    "count = 0\n",
    "print(epoch)\n",
    "\n",
    "for res in scroll:\n",
    "    if count<10: print(res)\n",
    "    count += 1\n",
    "#     dt=datetime.strptime(res['_source']['timestamp'], '%Y-%m-%dT%H:%M:%S') # for data before Oct. 15 2016\n",
    "    dt=datetime.utcfromtimestamp(res['_source']['timestamp']/1000.0)\n",
    "    ts = (dt - epoch).total_seconds() * 1000.0\n",
    "    s=site[res['_source']['src']]\n",
    "    data[s].set_value(ts, 'timestamp', dt)\n",
    "    column_type = res['_type']\n",
    "#    if column_type == 'latency':\n",
    "#        data[s].set_value( ts, 'delay_median', res['_source']['delay_median'])\n",
    "#        data[s].set_value( ts, 'delay_mean', res['_source']['delay_mean'])\n",
    "#        data[s].set_value( ts, 'delay_sd', res['_source']['delay_sd'])\n",
    "    if column_type == 'packet_loss_rate':\n",
    "        data[s].set_value( ts, 'packet_loss', res['_source']['packet_loss'])\n",
    "#    elif column_type == 'throughput':\n",
    "#        data[s].set_value( ts, 'throughput', res['_source']['throughput']/1024./1024./1024.)\n",
    "#    elif column_type == 'traceroute':\n",
    "#        data[s].set_value( ts, 'hash', res['_source']['hash'])\n",
    "    if count<2: print(dt)"
   ]
  },
  {
   "cell_type": "code",
   "execution_count": 5,
   "metadata": {
    "collapsed": false,
    "scrolled": true
   },
   "outputs": [
    {
     "name": "stdout",
     "output_type": "stream",
     "text": [
      "                       timestamp  packet_loss\n",
      "1.501805e+12 2017-08-04 00:00:20     0.000000\n",
      "1.501805e+12 2017-08-04 00:00:27     0.000000\n",
      "1.501805e+12 2017-08-04 00:01:20     0.000000\n",
      "1.501805e+12 2017-08-04 00:01:27     0.000000\n",
      "1.501805e+12 2017-08-04 00:02:20     0.000000\n",
      "1.501805e+12 2017-08-04 00:02:27     0.000000\n",
      "1.501805e+12 2017-08-04 00:03:20     0.000000\n",
      "1.501805e+12 2017-08-04 00:03:27     0.000000\n",
      "1.501805e+12 2017-08-04 00:04:20     0.000000\n",
      "1.501805e+12 2017-08-04 00:04:27     0.000000\n",
      "1.501805e+12 2017-08-04 00:05:20     0.000000\n",
      "1.501805e+12 2017-08-04 00:05:27     0.000000\n",
      "1.501805e+12 2017-08-04 00:06:20     0.000000\n",
      "1.501805e+12 2017-08-04 00:06:27     0.000000\n",
      "1.501805e+12 2017-08-04 00:07:20     0.000000\n",
      "1.501805e+12 2017-08-04 00:07:28     0.000000\n",
      "1.501805e+12 2017-08-04 00:08:20     0.000000\n",
      "1.501805e+12 2017-08-04 00:08:28     0.000000\n",
      "1.501805e+12 2017-08-04 00:09:20     0.000000\n",
      "1.501805e+12 2017-08-04 00:09:28     0.000000\n",
      "1.501805e+12 2017-08-04 00:10:21     0.000000\n",
      "1.501805e+12 2017-08-04 00:10:28     0.000000\n",
      "1.501805e+12 2017-08-04 00:11:08          NaN\n",
      "1.501805e+12 2017-08-04 00:11:21     0.000000\n",
      "1.501805e+12 2017-08-04 00:11:28     0.000000\n",
      "1.501806e+12 2017-08-04 00:12:21     0.000000\n",
      "1.501806e+12 2017-08-04 00:12:28     0.000000\n",
      "1.501806e+12 2017-08-04 00:13:21     0.000000\n",
      "1.501806e+12 2017-08-04 00:13:28     0.000000\n",
      "1.501806e+12 2017-08-04 00:14:21     0.000000\n",
      "...                          ...          ...\n",
      "1.501890e+12 2017-08-04 23:45:38     0.000000\n",
      "1.501890e+12 2017-08-04 23:46:31     0.000000\n",
      "1.501890e+12 2017-08-04 23:46:38     0.000000\n",
      "1.501890e+12 2017-08-04 23:47:31     0.001667\n",
      "1.501890e+12 2017-08-04 23:47:43     0.000000\n",
      "1.501891e+12 2017-08-04 23:48:31     0.001667\n",
      "1.501891e+12 2017-08-04 23:48:43     0.001667\n",
      "1.501891e+12 2017-08-04 23:49:31     0.000000\n",
      "1.501891e+12 2017-08-04 23:49:43     0.000000\n",
      "1.501891e+12 2017-08-04 23:50:31     0.000000\n",
      "1.501891e+12 2017-08-04 23:50:43     0.000000\n",
      "1.501891e+12 2017-08-04 23:51:32     0.000000\n",
      "1.501891e+12 2017-08-04 23:51:44     0.000000\n",
      "1.501891e+12 2017-08-04 23:52:32     0.003333\n",
      "1.501891e+12 2017-08-04 23:52:44     0.001667\n",
      "1.501891e+12 2017-08-04 23:53:20          NaN\n",
      "1.501891e+12 2017-08-04 23:53:32     0.000000\n",
      "1.501891e+12 2017-08-04 23:53:44     0.001667\n",
      "1.501891e+12 2017-08-04 23:54:32     0.000000\n",
      "1.501891e+12 2017-08-04 23:54:44     0.000000\n",
      "1.501891e+12 2017-08-04 23:55:32     0.001667\n",
      "1.501891e+12 2017-08-04 23:55:44     0.000000\n",
      "1.501891e+12 2017-08-04 23:56:32     0.000000\n",
      "1.501891e+12 2017-08-04 23:56:44     0.000000\n",
      "1.501891e+12 2017-08-04 23:57:32     0.001667\n",
      "1.501891e+12 2017-08-04 23:57:44     0.000000\n",
      "1.501891e+12 2017-08-04 23:58:32     0.000000\n",
      "1.501891e+12 2017-08-04 23:58:44     0.000000\n",
      "1.501891e+12 2017-08-04 23:59:32     0.001667\n",
      "1.501891e+12 2017-08-04 23:59:45     0.000000\n",
      "\n",
      "[2928 rows x 2 columns]\n"
     ]
    }
   ],
   "source": [
    "data[sS].sort_index(inplace=True) \n",
    "data[sS].describe()\n",
    "\n",
    "#data[dS].sort_index(inplace=True) \n",
    "#data[dS].describe()\n",
    "\n",
    "print(data[sS])"
   ]
  },
  {
   "cell_type": "markdown",
   "metadata": {},
   "source": [
    "### Extract values"
   ]
  },
  {
   "cell_type": "code",
   "execution_count": 6,
   "metadata": {
    "collapsed": false
   },
   "outputs": [],
   "source": [
    "F = data[sS]\n",
    "#B = data[dS]\n",
    "#Fthr = F[F.throughput.notnull()]    # Get the lines (i.e. times) whose throughput is not null\n",
    "#Bthr = B[B.throughput.notnull()]  \n",
    "Fpl = F[F.packet_loss.notnull()]\n",
    "#Bpl = B[B.packet_loss.notnull()]\n",
    "# Fd = F[F.delay_mean.notnull()]\n",
    "# Bd = B[B.delay_mean.notnull()]\n",
    "#Fd = F[F.delay_mean<150]\n",
    "#Bd = B[B.delay_mean<150]\n",
    "#Jd = Fd.join(Bd,how='inner', rsuffix=\"_back\")\n",
    "#Jd['dmean']= (Jd.delay_mean + Jd.delay_mean_back)/2\n",
    "\n",
    "#Fh = F[F.hash.notnull()]\n",
    "#Bh = B[B.hash.notnull()]\n",
    "Fids=[];Bids=[]\n",
    "Fu=[];Bu=[]\n",
    "\n",
    "#for fi in Fh.hash.tolist():\n",
    "#    if fi not in Fu: Fu.append(fi)\n",
    "#    Fids.append(Fu.index(fi))\n",
    "#for fi in Bh.hash.tolist():\n",
    "#    if fi not in Bu: Bu.append(fi)\n",
    "#    Bids.append(Bu.index(fi))"
   ]
  },
  {
   "cell_type": "markdown",
   "metadata": {
    "collapsed": false,
    "scrolled": true
   },
   "source": [
    "#### interpolate all the values and leave only onese where all 4 measurements are there"
   ]
  },
  {
   "cell_type": "code",
   "execution_count": 7,
   "metadata": {
    "collapsed": false
   },
   "outputs": [
    {
     "name": "stdout",
     "output_type": "stream",
     "text": [
      "(2928, 2)\n"
     ]
    }
   ],
   "source": [
    "NF=F.interpolate(method='index',limit=1,limit_direction='both')\n",
    "#NFall = NF[NF.throughput.notnull()]\n",
    "#NFall = NFall[NFall.delay_mean.notnull()]\n",
    "NFall = NF[NF.packet_loss.notnull()]\n",
    "#NFall = NFall[NFall.hash.notnull()]\n",
    "\n",
    "#NB=B.interpolate(method='index',limit=1,limit_direction='both')\n",
    "#NBal = NB[NB.throughput.notnull()]\n",
    "#NBall = NB[NB.delay_mean.notnull()]\n",
    "#NBall = NB[NB.packet_loss.notnull()]\n",
    "print(NFall.shape)"
   ]
  },
  {
   "cell_type": "code",
   "execution_count": 8,
   "metadata": {
    "collapsed": false
   },
   "outputs": [
    {
     "name": "stdout",
     "output_type": "stream",
     "text": [
      "(2928, 2)\n"
     ]
    }
   ],
   "source": [
    "#print(NF)\n",
    "#print(NB)\n",
    "\n",
    "print(NF.shape)\n",
    "#print(NB.shape)"
   ]
  },
  {
   "cell_type": "code",
   "execution_count": 9,
   "metadata": {
    "collapsed": false
   },
   "outputs": [
    {
     "name": "stdout",
     "output_type": "stream",
     "text": [
      "packet loss forward:  2818\n"
     ]
    }
   ],
   "source": [
    "#print( 'throughput  forward: ', Fthr.shape[0], ' backward: ', Bthr.shape[0])\n",
    "#print( 'packet loss forward: ', Fpl.shape[0],  ' backward: ', Bpl.shape[0])\n",
    "print( 'packet loss forward: ', Fpl.shape[0])\n",
    "#print( 'delay       forward: ', Fd.shape[0],   ' backward: ', Bd.shape[0])\n",
    "#print( 'hash        forward: ', Fh.shape[0],   ' backward: ', Bh.shape[0])\n",
    "\n",
    "#i=0\n",
    "#while i < Fpl.shape[0]:\n",
    "#    print(\"Hi\")\n",
    "#    i = i + 1"
   ]
  },
  {
   "cell_type": "code",
   "execution_count": 10,
   "metadata": {
    "collapsed": false,
    "scrolled": true
   },
   "outputs": [
    {
     "data": {
      "image/png": "[encoded data removed]",
      "text/plain": [
       "<matplotlib.figure.Figure at 0x7fda30fee780>"
      ]
     },
     "metadata": {},
     "output_type": "display_data"
    }
   ],
   "source": [
    "plt.figure(figsize=[50, 80])\n",
    "gs = gridspec.GridSpec(4, 1)\n",
    "\n",
    "ax2 = plt.subplot(gs[1])\n",
    "ax2.plot(Fpl.timestamp.tolist(), np.sqrt(Fpl.packet_loss).tolist(), ls='', marker='.', c='r', label=sS+'->'+dS)\n",
    "ax2.set_xlabel('time')\n",
    "ax2.set_ylabel('sqrt(packet loss) [%]')\n",
    "ax2.legend()\n",
    "\n",
    "plt.show()"
   ]
  }
 ],
 "metadata": {
  "kernelspec": {
   "display_name": "Python 3",
   "language": "python",
   "name": "python3"
  },
  "language_info": {
   "codemirror_mode": {
    "name": "ipython",
    "version": 3
   },
   "file_extension": ".py",
   "mimetype": "text/x-python",
   "name": "python",
   "nbconvert_exporter": "python",
   "pygments_lexer": "ipython3",
   "version": "3.5.1"
  }
 },
 "nbformat": 4,
 "nbformat_minor": 0
}
