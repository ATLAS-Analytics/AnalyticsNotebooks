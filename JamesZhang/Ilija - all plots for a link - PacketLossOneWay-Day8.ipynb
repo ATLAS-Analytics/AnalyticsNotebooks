{
 "cells": [
  {
   "cell_type": "markdown",
   "metadata": {},
   "source": [
    "## Plots delays, throughputs, packet loss and path for a selected link"
   ]
  },
  {
   "cell_type": "code",
   "execution_count": 11,
   "metadata": {
    "collapsed": false
   },
   "outputs": [],
   "source": [
    "%matplotlib inline\n",
    "from elasticsearch import Elasticsearch\n",
    "from elasticsearch.helpers import scan\n",
    "from datetime import datetime\n",
    "import math\n",
    "import matplotlib.pyplot as plt\n",
    "import matplotlib.mlab as mlab\n",
    "from matplotlib import gridspec\n",
    "from datetime import datetime\n",
    "import numpy as np\n",
    "import pandas as pd\n",
    "\n",
    "es = Elasticsearch(['atlas-kibana.mwt2.org:9200'],timeout=60)\n",
    "indices = \"network_weather-2017.8.*\"\n",
    "\n",
    "my_query = {}\n",
    "\n",
    "from sklearn import tree\n",
    "\n",
    "from sklearn.model_selection import cross_val_score\n",
    "from sklearn.ensemble import AdaBoostClassifier\n",
    "from sklearn.tree import DecisionTreeClassifier\n",
    "\n",
    "import time\n",
    "from sklearn.model_selection import train_test_split"
   ]
  },
  {
   "cell_type": "markdown",
   "metadata": {},
   "source": [
    "##  Select your link"
   ]
  },
  {
   "cell_type": "code",
   "execution_count": 12,
   "metadata": {
    "collapsed": false
   },
   "outputs": [],
   "source": [
    "# sS='UC'\n",
    "# srcSiteOWDServer = \"192.170.227.160\"\n",
    "# srcSiteThroughputServer = \"192.170.227.162\"\n",
    "\n",
    "sS='CERN-PROD'\n",
    "srcSiteOWDServer = \"128.142.223.247\"\n",
    "#srcSiteThroughputServer = \"128.142.223.246\"\n",
    "\n",
    "# dS='IU'\n",
    "# destSiteOWDServer = \"149.165.225.223\"\n",
    "# destSiteThroughputServer = \"149.165.225.224\"\n",
    "\n",
    "# dS='UIUC'\n",
    "# destSiteOWDServer = \"72.36.96.4\"\n",
    "# destSiteThroughputServer = \"72.36.96.9\"\n",
    "\n",
    "# dS='ICCN'\n",
    "# destSiteOWDServer = \"72.36.96.4\"\n",
    "# destSiteThroughputServer = \"72.36.126.132\"\n",
    "\n",
    "dS='pic'\n",
    "destSiteOWDServer = \"193.109.172.188\"\n",
    "#destSiteThroughputServer = \"193.109.172.187\""
   ]
  },
  {
   "cell_type": "markdown",
   "metadata": {},
   "source": [
    "## Get the data from Elasticsearch, and store the record based on its type"
   ]
  },
  {
   "cell_type": "code",
   "execution_count": 13,
   "metadata": {
    "collapsed": false
   },
   "outputs": [],
   "source": [
    "my_query = {\n",
    "    'query': { \n",
    "       'bool':{\n",
    "            'must':[\n",
    "                    {'range': {'timestamp': {'gte': '20170809T000000Z', 'lt': '20170810T000000Z'}}},\n",
    "                        {'bool':\n",
    "                            {'should':[\n",
    "                                {'term': {'src': srcSiteOWDServer}},\n",
    "                                #{'term': {'src': srcSiteThroughputServer}},\n",
    "                                #{'term': {'src': destSiteOWDServer}},\n",
    "                                #{'term': {'src': destSiteThroughputServer}}\n",
    "                            ]}\n",
    "                        },\n",
    "                        {'bool':\n",
    "                            {'should':[\n",
    "                                {'term': {'dest': destSiteOWDServer}},\n",
    "                                #{'term': {'dest': destSiteThroughputServer}},\n",
    "                                #{'term': {'dest': srcSiteOWDServer}},\n",
    "                                #{'term': {'dest': srcSiteThroughputServer}}\n",
    "                            ]}\n",
    "                        }\n",
    "                    ]\n",
    "                }\n",
    "        \n",
    "        }\n",
    "    }\n",
    "\n",
    "\n",
    "scroll = list(scan(client=es, index=indices, query=my_query))\n"
   ]
  },
  {
   "cell_type": "code",
   "execution_count": 14,
   "metadata": {
    "collapsed": false,
    "scrolled": true
   },
   "outputs": [
    {
     "name": "stdout",
     "output_type": "stream",
     "text": [
      "1970-01-01 00:00:00\n",
      "{'_id': 'AV3ESyQNNILXDji8UP9U', '_index': 'network_weather-2017.8.9', '_source': {'sim_util': '0.0131917670369', 'srcSite': 'CERN-PROD', 'MA': '172.17.0.2', 'src': '128.142.223.247', 'destProduction': True, 'srcVO': 'ATLAS', 'destVO': 'ATLAS', 'destSite': 'pic', 'srcProduction': True, 'dest': '193.109.172.188', 'timestamp': 1502236835000}, 'sort': [95], '_type': 'link_utilization', '_score': None}\n",
      "2017-08-09 00:00:35\n",
      "{'_id': 'AV3F3NEeNILXDji8XfQC', '_index': 'network_weather-2017.8.9', '_source': {'src_host': 'perfsonar-lt.cern.ch', 'srcProduction': True, 'delay_sd': 0.1278264949528744, 'destProduction': True, 'destSite': 'pic', 'delay_median': 15.14, 'dest_host': 'psl01.pic.es', 'delay_mean': 15.168076923076923, 'srcSite': 'CERN-PROD', 'dest': '193.109.172.188', 'src': '128.142.223.247', 'destVO': 'ATLAS', 'srcVO': 'ATLAS', 'ipv6': False, 'MA': '128.142.223.247', 'timestamp': 1502262839000}, 'sort': [1765], '_type': 'latency', '_score': None}\n",
      "{'_id': 'AV3F3NEeNILXDji8XfQL', '_index': 'network_weather-2017.8.9', '_source': {'src_host': 'perfsonar-lt.cern.ch', 'srcProduction': True, 'delay_sd': 0.09745958272183766, 'destProduction': True, 'destSite': 'pic', 'delay_median': 15.14, 'dest_host': 'psl01.pic.es', 'delay_mean': 15.16264214046823, 'srcSite': 'CERN-PROD', 'dest': '193.109.172.188', 'src': '128.142.223.247', 'destVO': 'ATLAS', 'srcVO': 'ATLAS', 'ipv6': False, 'MA': '128.142.223.247', 'timestamp': 1502263019000}, 'sort': [1766], '_type': 'latency', '_score': None}\n",
      "{'_id': 'AV3F3NEeNILXDji8XfQN', '_index': 'network_weather-2017.8.9', '_source': {'src_host': 'perfsonar-lt.cern.ch', 'srcProduction': True, 'delay_sd': 0.6782460465953504, 'destProduction': True, 'destSite': 'pic', 'delay_median': 15.19, 'dest_host': 'psl01.pic.es', 'delay_mean': 15.31348333333333, 'srcSite': 'CERN-PROD', 'dest': '193.109.172.188', 'src': '128.142.223.247', 'destVO': 'ATLAS', 'srcVO': 'ATLAS', 'ipv6': False, 'MA': '128.142.223.247', 'timestamp': 1502262537000}, 'sort': [1767], '_type': 'latency', '_score': None}\n",
      "{'_id': 'AV3F3NEeNILXDji8XfQU', '_index': 'network_weather-2017.8.9', '_source': {'src_host': 'perfsonar-lt.cern.ch', 'srcProduction': True, 'delay_sd': 0.1010861971638823, 'destProduction': True, 'destSite': 'pic', 'delay_median': 15.17, 'dest_host': 'psl01.pic.es', 'delay_mean': 15.186889632107023, 'srcSite': 'CERN-PROD', 'dest': '193.109.172.188', 'src': '128.142.223.247', 'destVO': 'ATLAS', 'srcVO': 'ATLAS', 'ipv6': False, 'MA': '128.142.223.247', 'timestamp': 1502262717000}, 'sort': [1768], '_type': 'latency', '_score': None}\n",
      "{'_id': 'AV3F3NEeNILXDji8XfQX', '_index': 'network_weather-2017.8.9', '_source': {'src_host': 'perfsonar-lt.cern.ch', 'srcProduction': True, 'delay_sd': 0.1016688206276527, 'destProduction': True, 'destSite': 'pic', 'delay_median': 15.15, 'dest_host': 'psl01.pic.es', 'delay_mean': 15.17175585284281, 'srcSite': 'CERN-PROD', 'dest': '193.109.172.188', 'src': '128.142.223.247', 'destVO': 'ATLAS', 'srcVO': 'ATLAS', 'ipv6': False, 'MA': '128.142.223.247', 'timestamp': 1502262959000}, 'sort': [1769], '_type': 'latency', '_score': None}\n",
      "{'_id': 'AV3F3NEeNILXDji8XfQY', '_index': 'network_weather-2017.8.9', '_source': {'src_host': 'perfsonar-lt.cern.ch', 'srcProduction': True, 'delay_sd': 0.09313272782493909, 'destProduction': True, 'destSite': 'pic', 'delay_median': 15.18, 'dest_host': 'psl01.pic.es', 'delay_mean': 15.201371237458194, 'srcSite': 'CERN-PROD', 'dest': '193.109.172.188', 'src': '128.142.223.247', 'destVO': 'ATLAS', 'srcVO': 'ATLAS', 'ipv6': False, 'MA': '128.142.223.247', 'timestamp': 1502262358000}, 'sort': [1770], '_type': 'latency', '_score': None}\n",
      "{'_id': 'AV3F3NEeNILXDji8XfQa', '_index': 'network_weather-2017.8.9', '_source': {'src_host': 'perfsonar-lt.cern.ch', 'srcProduction': True, 'delay_sd': 0.1105817746687441, 'destProduction': True, 'destSite': 'pic', 'delay_median': 15.16, 'dest_host': 'psl01.pic.es', 'delay_mean': 15.188266666666662, 'srcSite': 'CERN-PROD', 'dest': '193.109.172.188', 'src': '128.142.223.247', 'destVO': 'ATLAS', 'srcVO': 'ATLAS', 'ipv6': False, 'MA': '128.142.223.247', 'timestamp': 1502262659000}, 'sort': [1771], '_type': 'latency', '_score': None}\n",
      "{'_id': 'AV3F3NEeNILXDji8XfQb', '_index': 'network_weather-2017.8.9', '_source': {'src_host': 'perfsonar-lt.cern.ch', 'srcProduction': True, 'delay_sd': 0.07926056738189986, 'destProduction': True, 'destSite': 'pic', 'delay_median': 15.14, 'dest_host': 'psl01.pic.es', 'delay_mean': 15.1599162479062, 'srcSite': 'CERN-PROD', 'dest': '193.109.172.188', 'src': '128.142.223.247', 'destVO': 'ATLAS', 'srcVO': 'ATLAS', 'ipv6': False, 'MA': '128.142.223.247', 'timestamp': 1502262778000}, 'sort': [1772], '_type': 'latency', '_score': None}\n",
      "{'_id': 'AV3F5TkxNILXDji8ZoQM', '_index': 'network_weather-2017.8.9', '_source': {'packet_loss': 0.0016666666666666668, 'srcProduction': True, 'src_host': 'perfsonar-lt.cern.ch', 'destProduction': True, 'destSite': 'pic', 'dest': '193.109.172.188', 'dest_host': 'psl01.pic.es', 'srcSite': 'CERN-PROD', 'src': '128.142.223.247', 'destVO': 'ATLAS', 'srcVO': 'ATLAS', 'ipv6': False, 'MA': '128.142.223.247', 'timestamp': 1502263380000}, 'sort': [13856], '_type': 'packet_loss_rate', '_score': None}\n"
     ]
    }
   ],
   "source": [
    "#site = {srcSiteOWDServer: sS, srcSiteThroughputServer: sS, destSiteOWDServer:dS, destSiteThroughputServer:dS}\n",
    "site = {srcSiteOWDServer: sS, destSiteOWDServer:dS}\n",
    "data = {sS:pd.DataFrame(),dS:pd.DataFrame()}\n",
    "epoch = datetime.utcfromtimestamp(0)\n",
    "count = 0\n",
    "print(epoch)\n",
    "\n",
    "for res in scroll:\n",
    "    if count<10: print(res)\n",
    "    count += 1\n",
    "#     dt=datetime.strptime(res['_source']['timestamp'], '%Y-%m-%dT%H:%M:%S') # for data before Oct. 15 2016\n",
    "    dt=datetime.utcfromtimestamp(res['_source']['timestamp']/1000.0)\n",
    "    ts = (dt - epoch).total_seconds() * 1000.0\n",
    "    s=site[res['_source']['src']]\n",
    "    data[s].set_value(ts, 'timestamp', dt)\n",
    "    column_type = res['_type']\n",
    "#    if column_type == 'latency':\n",
    "#        data[s].set_value( ts, 'delay_median', res['_source']['delay_median'])\n",
    "#        data[s].set_value( ts, 'delay_mean', res['_source']['delay_mean'])\n",
    "#        data[s].set_value( ts, 'delay_sd', res['_source']['delay_sd'])\n",
    "    if column_type == 'packet_loss_rate':\n",
    "        data[s].set_value( ts, 'packet_loss', res['_source']['packet_loss'])\n",
    "#    elif column_type == 'throughput':\n",
    "#        data[s].set_value( ts, 'throughput', res['_source']['throughput']/1024./1024./1024.)\n",
    "#    elif column_type == 'traceroute':\n",
    "#        data[s].set_value( ts, 'hash', res['_source']['hash'])\n",
    "    if count<2: print(dt)"
   ]
  },
  {
   "cell_type": "code",
   "execution_count": 15,
   "metadata": {
    "collapsed": false,
    "scrolled": true
   },
   "outputs": [
    {
     "name": "stdout",
     "output_type": "stream",
     "text": [
      "                       timestamp  packet_loss\n",
      "1.502237e+12 2017-08-09 00:00:35          NaN\n",
      "1.502237e+12 2017-08-09 00:00:40     0.000000\n",
      "1.502237e+12 2017-08-09 00:00:53     0.000000\n",
      "1.502237e+12 2017-08-09 00:01:40     0.001667\n",
      "1.502237e+12 2017-08-09 00:01:53     0.000000\n",
      "1.502237e+12 2017-08-09 00:02:41     0.000000\n",
      "1.502237e+12 2017-08-09 00:02:53     0.001667\n",
      "1.502237e+12 2017-08-09 00:03:41     0.000000\n",
      "1.502237e+12 2017-08-09 00:03:53     0.000000\n",
      "1.502237e+12 2017-08-09 00:04:41     0.001667\n",
      "1.502237e+12 2017-08-09 00:04:53     0.000000\n",
      "1.502237e+12 2017-08-09 00:05:41     0.000000\n",
      "1.502237e+12 2017-08-09 00:05:53     0.001667\n",
      "1.502237e+12 2017-08-09 00:06:41     0.000000\n",
      "1.502237e+12 2017-08-09 00:06:54     0.000000\n",
      "1.502237e+12 2017-08-09 00:07:41     0.000000\n",
      "1.502237e+12 2017-08-09 00:07:54     0.000000\n",
      "1.502237e+12 2017-08-09 00:08:41     0.000000\n",
      "1.502237e+12 2017-08-09 00:08:54     0.001667\n",
      "1.502237e+12 2017-08-09 00:09:41     0.000000\n",
      "1.502237e+12 2017-08-09 00:09:54     0.000000\n",
      "1.502237e+12 2017-08-09 00:10:41     0.000000\n",
      "1.502237e+12 2017-08-09 00:10:54     0.001667\n",
      "1.502238e+12 2017-08-09 00:11:41     0.000000\n",
      "1.502238e+12 2017-08-09 00:11:54     0.000000\n",
      "1.502238e+12 2017-08-09 00:12:41     0.000000\n",
      "1.502238e+12 2017-08-09 00:12:54     0.000000\n",
      "1.502238e+12 2017-08-09 00:13:41     0.003333\n",
      "1.502238e+12 2017-08-09 00:13:54     0.003333\n",
      "1.502238e+12 2017-08-09 00:14:41     0.000000\n",
      "...                          ...          ...\n",
      "1.502322e+12 2017-08-09 23:46:24     0.000000\n",
      "1.502322e+12 2017-08-09 23:46:32     0.000000\n",
      "1.502322e+12 2017-08-09 23:47:03          NaN\n",
      "1.502322e+12 2017-08-09 23:47:24     0.000000\n",
      "1.502322e+12 2017-08-09 23:47:32     0.000000\n",
      "1.502323e+12 2017-08-09 23:48:24     0.000000\n",
      "1.502323e+12 2017-08-09 23:48:32     0.000000\n",
      "1.502323e+12 2017-08-09 23:49:24     0.000000\n",
      "1.502323e+12 2017-08-09 23:49:32     0.000000\n",
      "1.502323e+12 2017-08-09 23:50:24     0.000000\n",
      "1.502323e+12 2017-08-09 23:50:32     0.000000\n",
      "1.502323e+12 2017-08-09 23:51:24     0.000000\n",
      "1.502323e+12 2017-08-09 23:51:32     0.000000\n",
      "1.502323e+12 2017-08-09 23:52:24     0.000000\n",
      "1.502323e+12 2017-08-09 23:52:32     0.000000\n",
      "1.502323e+12 2017-08-09 23:53:24     0.000000\n",
      "1.502323e+12 2017-08-09 23:53:33     0.000000\n",
      "1.502323e+12 2017-08-09 23:54:25     0.000000\n",
      "1.502323e+12 2017-08-09 23:54:33     0.000000\n",
      "1.502323e+12 2017-08-09 23:55:25     0.001667\n",
      "1.502323e+12 2017-08-09 23:55:33     0.000000\n",
      "1.502323e+12 2017-08-09 23:56:25     0.000000\n",
      "1.502323e+12 2017-08-09 23:56:33     0.000000\n",
      "1.502323e+12 2017-08-09 23:57:25     0.000000\n",
      "1.502323e+12 2017-08-09 23:57:33     0.000000\n",
      "1.502323e+12 2017-08-09 23:58:25     0.000000\n",
      "1.502323e+12 2017-08-09 23:58:33     0.000000\n",
      "1.502323e+12 2017-08-09 23:59:18          NaN\n",
      "1.502323e+12 2017-08-09 23:59:25     0.000000\n",
      "1.502323e+12 2017-08-09 23:59:33     0.001667\n",
      "\n",
      "[2648 rows x 2 columns]\n"
     ]
    }
   ],
   "source": [
    "data[sS].sort_index(inplace=True) \n",
    "data[sS].describe()\n",
    "\n",
    "#data[dS].sort_index(inplace=True) \n",
    "#data[dS].describe()\n",
    "\n",
    "print(data[sS])"
   ]
  },
  {
   "cell_type": "markdown",
   "metadata": {},
   "source": [
    "### Extract values"
   ]
  },
  {
   "cell_type": "code",
   "execution_count": 16,
   "metadata": {
    "collapsed": false
   },
   "outputs": [],
   "source": [
    "F = data[sS]\n",
    "#B = data[dS]\n",
    "#Fthr = F[F.throughput.notnull()]    # Get the lines (i.e. times) whose throughput is not null\n",
    "#Bthr = B[B.throughput.notnull()]  \n",
    "Fpl = F[F.packet_loss.notnull()]\n",
    "#Bpl = B[B.packet_loss.notnull()]\n",
    "# Fd = F[F.delay_mean.notnull()]\n",
    "# Bd = B[B.delay_mean.notnull()]\n",
    "#Fd = F[F.delay_mean<150]\n",
    "#Bd = B[B.delay_mean<150]\n",
    "#Jd = Fd.join(Bd,how='inner', rsuffix=\"_back\")\n",
    "#Jd['dmean']= (Jd.delay_mean + Jd.delay_mean_back)/2\n",
    "\n",
    "#Fh = F[F.hash.notnull()]\n",
    "#Bh = B[B.hash.notnull()]\n",
    "Fids=[];Bids=[]\n",
    "Fu=[];Bu=[]\n",
    "\n",
    "#for fi in Fh.hash.tolist():\n",
    "#    if fi not in Fu: Fu.append(fi)\n",
    "#    Fids.append(Fu.index(fi))\n",
    "#for fi in Bh.hash.tolist():\n",
    "#    if fi not in Bu: Bu.append(fi)\n",
    "#    Bids.append(Bu.index(fi))"
   ]
  },
  {
   "cell_type": "markdown",
   "metadata": {
    "collapsed": false,
    "scrolled": true
   },
   "source": [
    "#### interpolate all the values and leave only onese where all 4 measurements are there"
   ]
  },
  {
   "cell_type": "code",
   "execution_count": 17,
   "metadata": {
    "collapsed": false
   },
   "outputs": [
    {
     "name": "stdout",
     "output_type": "stream",
     "text": [
      "(2645, 2)\n"
     ]
    }
   ],
   "source": [
    "NF=F.interpolate(method='index',limit=1,limit_direction='both')\n",
    "#NFall = NF[NF.throughput.notnull()]\n",
    "#NFall = NFall[NFall.delay_mean.notnull()]\n",
    "NFall = NF[NF.packet_loss.notnull()]\n",
    "#NFall = NFall[NFall.hash.notnull()]\n",
    "\n",
    "#NB=B.interpolate(method='index',limit=1,limit_direction='both')\n",
    "#NBal = NB[NB.throughput.notnull()]\n",
    "#NBall = NB[NB.delay_mean.notnull()]\n",
    "#NBall = NB[NB.packet_loss.notnull()]\n",
    "print(NFall.shape)"
   ]
  },
  {
   "cell_type": "code",
   "execution_count": 18,
   "metadata": {
    "collapsed": false
   },
   "outputs": [
    {
     "name": "stdout",
     "output_type": "stream",
     "text": [
      "(2648, 2)\n"
     ]
    }
   ],
   "source": [
    "#print(NF)\n",
    "#print(NB)\n",
    "\n",
    "print(NF.shape)\n",
    "#print(NB.shape)"
   ]
  },
  {
   "cell_type": "code",
   "execution_count": 19,
   "metadata": {
    "collapsed": false
   },
   "outputs": [
    {
     "name": "stdout",
     "output_type": "stream",
     "text": [
      "packet loss forward:  2539\n"
     ]
    }
   ],
   "source": [
    "#print( 'throughput  forward: ', Fthr.shape[0], ' backward: ', Bthr.shape[0])\n",
    "#print( 'packet loss forward: ', Fpl.shape[0],  ' backward: ', Bpl.shape[0])\n",
    "print( 'packet loss forward: ', Fpl.shape[0])\n",
    "#print( 'delay       forward: ', Fd.shape[0],   ' backward: ', Bd.shape[0])\n",
    "#print( 'hash        forward: ', Fh.shape[0],   ' backward: ', Bh.shape[0])\n",
    "\n",
    "#i=0\n",
    "#while i < Fpl.shape[0]:\n",
    "#    print(\"Hi\")\n",
    "#    i = i + 1"
   ]
  },
  {
   "cell_type": "code",
   "execution_count": 20,
   "metadata": {
    "collapsed": false,
    "scrolled": true
   },
   "outputs": [
    {
     "data": {
      "image/png": "[encoded data removed]",
      "text/plain": [
       "<matplotlib.figure.Figure at 0x7f7ad8ad2748>"
      ]
     },
     "metadata": {},
     "output_type": "display_data"
    }
   ],
   "source": [
    "plt.figure(figsize=[50, 80])\n",
    "gs = gridspec.GridSpec(4, 1)\n",
    "\n",
    "ax2 = plt.subplot(gs[1])\n",
    "ax2.plot(Fpl.timestamp.tolist(), np.sqrt(Fpl.packet_loss).tolist(), ls='', marker='.', c='r', label=sS+'->'+dS)\n",
    "ax2.set_xlabel('time')\n",
    "ax2.set_ylabel('sqrt(packet loss) [%]')\n",
    "ax2.legend()\n",
    "\n",
    "plt.show()"
   ]
  }
 ],
 "metadata": {
  "kernelspec": {
   "display_name": "Python 3",
   "language": "python",
   "name": "python3"
  },
  "language_info": {
   "codemirror_mode": {
    "name": "ipython",
    "version": 3
   },
   "file_extension": ".py",
   "mimetype": "text/x-python",
   "name": "python",
   "nbconvert_exporter": "python",
   "pygments_lexer": "ipython3",
   "version": "3.5.1"
  }
 },
 "nbformat": 4,
 "nbformat_minor": 0
}
