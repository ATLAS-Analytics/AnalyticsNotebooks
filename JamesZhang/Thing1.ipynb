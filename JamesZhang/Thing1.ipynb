{
 "cells": [
  {
   "cell_type": "markdown",
   "metadata": {},
   "source": [
    "### Question 4"
   ]
  },
  {
   "cell_type": "code",
   "execution_count": 3,
   "metadata": {
    "collapsed": true
   },
   "outputs": [],
   "source": [
    "from fractions import Fraction\n",
    "from fractions import gcd\n",
    "\n",
    "def answer(m):\n",
    "    terminal_states = []\n",
    "    non_terminal_states = []\n",
    "    for index, row in enumerate(m):\n",
    "        if sum(row) == 0:\n",
    "            terminal_states.append(index)\n",
    "        else:\n",
    "            non_terminal_states.append(index)\n",
    "\n",
    "    if len(terminal_states) == 1:\n",
    "        return [1, 1]\n",
    "\n",
    "    transform_matrix(m)\n",
    "\n",
    "    q = get_q(m, non_terminal_states)\n",
    "    r = get_r(m, non_terminal_states, terminal_states)\n",
    "\n",
    "    result = matrixMultiply(invert_matrix(subtract_matrices(make_identity(len(q)), q)), r)\n",
    "\n",
    "    denominator = lcm_for_arrays([item.denominator for item in result[0]])\n",
    "\n",
    "    result = [item.numerator * denominator / item.denominator for item in result[0]]\n",
    "\n",
    "    result.append(denominator)\n",
    "\n",
    "    return result\n",
    "\n",
    "\n",
    "def matrixMultiply(a, b):\n",
    "    # confirm dimensions\n",
    "    a_rows = len(a)\n",
    "    a_cols = len(a[0])\n",
    "    b_cols = len(b[0])\n",
    "    rows = a_rows\n",
    "    cols = b_cols\n",
    "    # create the result matrix c = a*b\n",
    "    c = make_2d_list(rows, cols)\n",
    "    # now find each value in turn in the result matrix\n",
    "    for row in xrange(rows):\n",
    "        for col in xrange(cols):\n",
    "            dot_product = Fraction(0, 1)\n",
    "            for i in xrange(a_cols):\n",
    "                dot_product += a[row][i]*b[i][col]\n",
    "            c[row][col] = dot_product\n",
    "    return c\n",
    "\n",
    "\n",
    "def multiply_row_of_square_matrix(m, row, k):\n",
    "    n = len(m)\n",
    "    row_operator = make_identity(n)\n",
    "    row_operator[row][row] = k\n",
    "    return matrixMultiply(row_operator, m)\n",
    "\n",
    "\n",
    "def make_2d_list(rows, cols):\n",
    "    a = []\n",
    "    for row in xrange(rows):\n",
    "        a += [[0] * cols]\n",
    "    return a\n",
    "\n",
    "\n",
    "def make_identity(n):\n",
    "    result = make_2d_list(n, n)\n",
    "    for i in xrange(n):\n",
    "        result[i][i] = Fraction(1, 1)\n",
    "    return result\n",
    "\n",
    "\n",
    "def add_multiple_of_row_of_square_matrix(m, source_row, k, target_row):\n",
    "    # add k * source_row to target_row of matrix m\n",
    "    n = len(m)\n",
    "    row_operator = make_identity(n)\n",
    "    row_operator[target_row][source_row] = k\n",
    "    return multiply_matrices(row_operator, m)\n",
    "\n",
    "\n",
    "def invert_matrix(m):\n",
    "    n = len(m)\n",
    "    assert(len(m) == len(m[0]))\n",
    "    inverse = make_identity(n)\n",
    "    for col in xrange(n):\n",
    "        diagonal_row = col\n",
    "        assert(m[diagonal_row][col] != 0)\n",
    "        k = Fraction(1, m[diagonal_row][col])\n",
    "        m = multiply_row_of_square_matrix(m, diagonal_row, k)\n",
    "        inverse = multiply_row_of_square_matrix(inverse, diagonal_row, k)\n",
    "        source_row = diagonal_row\n",
    "        for target_row in xrange(n):\n",
    "            if source_row != target_row:\n",
    "                k = -m[target_row][col]\n",
    "                m = add_multiple_of_row_of_square_matrix(m, source_row, k, target_row)\n",
    "                inverse = add_multiple_of_row_of_square_matrix(inverse, source_row, k, target_row)\n",
    "    # that's it!\n",
    "    return inverse\n",
    "\n",
    "\n",
    "def subtract_identity(q, denominator):\n",
    "    size = range(len(q))\n",
    "    for i in size:\n",
    "        for j in size:\n",
    "            if i == j:\n",
    "                q[i][j] = denominator - q[i][j]\n",
    "            else:\n",
    "                q[i][j] = - q[i][j]\n",
    "\n",
    "\n",
    "def transform_matrix(m):\n",
    "    for row_index, row in enumerate(m):\n",
    "        row_sum = sum(m[row_index])\n",
    "        if row_sum == 0:\n",
    "            m[row_index][row_index] = 1\n",
    "        else:\n",
    "            for col_index, col in enumerate(row):\n",
    "                m[row_index][col_index] = Fraction(col, row_sum)\n",
    "\n",
    "\n",
    "def get_submatrix(m, rows, cols):\n",
    "    new_matrix = []\n",
    "\n",
    "    for row in rows:\n",
    "        current_row = []\n",
    "        for col in cols:\n",
    "            current_row.append(m[row][col])\n",
    "        new_matrix.append(current_row)\n",
    "    return new_matrix\n",
    "\n",
    "\n",
    "def get_q(m, non_terminal_states):\n",
    "    return get_submatrix(m, non_terminal_states, non_terminal_states)\n",
    "\n",
    "\n",
    "def get_r(m, non_terminal_states, terminal_states):\n",
    "    return get_submatrix(m, non_terminal_states, terminal_states)\n",
    "\n",
    "\n",
    "def subtract_matrices(a, b):\n",
    "    new_matrix = []\n",
    "    for row_index, row in enumerate(a):\n",
    "        column = []\n",
    "        for col_index, col in enumerate(row):\n",
    "            column.append(a[row_index][col_index] - b[row_index][col_index])\n",
    "        new_matrix.append(column)\n",
    "\n",
    "    return new_matrix\n",
    "\n",
    "\n",
    "def lcm(a, b):\n",
    "    result = a * b / gcd(a, b)\n",
    "\n",
    "    return result\n",
    "\n",
    "\n",
    "def lcm_for_arrays(args):\n",
    "    array_length = len(args)\n",
    "    if array_length <= 2:\n",
    "        return lcm(*args)\n",
    "\n",
    "    initial = lcm(args[0], args[1])\n",
    "    i = 2\n",
    "    while i < array_length:\n",
    "        initial = lcm(initial, args[i])\n",
    "        i += 1\n",
    "    return initial\n",
    "\n",
    "\n"
   ]
  },
  {
   "cell_type": "markdown",
   "metadata": {},
   "source": [
    "### Question 3"
   ]
  },
  {
   "cell_type": "code",
   "execution_count": 17,
   "metadata": {
    "collapsed": true
   },
   "outputs": [],
   "source": [
    "def answer(l):\n",
    "    # your code here\n",
    "    \n",
    "    l = l[::-1]\n",
    "\n",
    "    length = len(l)\n",
    "\n",
    "    count = 0\n",
    "\n",
    "    l_count = []\n",
    "    for x in range(len(l)):\n",
    "        l_count.append(0)\n",
    "        \n",
    "    print(\"l_count: \", l_count)\n",
    "\n",
    "    x = 1\n",
    "    while x < (length - 1):\n",
    "        y = x + 1\n",
    "        while y < length:\n",
    "            if l[x] % l[y] == 0:\n",
    "                l_count[x] = l_count[x] + 1\n",
    "                print(\"l_count: \", l_count)\n",
    "            y = y + 1\n",
    "        x = x + 1\n",
    "\n",
    "    x = 0\n",
    "    while x < (length - 2):\n",
    "        y = x + 1\n",
    "        while y < (length - 1):\n",
    "            if l[x] % l[y] == 0:\n",
    "                count = count + l_count[y]\n",
    "            y = y + 1\n",
    "        x = x + 1\n",
    "\n",
    "    return count"
   ]
  },
  {
   "cell_type": "code",
   "execution_count": 4,
   "metadata": {},
   "outputs": [
    {
     "name": "stdout",
     "output_type": "stream",
     "text": [
      "l_count:  [0, 0, 0]\n",
      "l_count:  [0, 1, 0]\n"
     ]
    },
    {
     "data": {
      "text/plain": [
       "1"
      ]
     },
     "execution_count": 4,
     "metadata": {},
     "output_type": "execute_result"
    }
   ],
   "source": [
    "answer([1356, 1356, 1356])"
   ]
  },
  {
   "cell_type": "code",
   "execution_count": 222,
   "metadata": {
    "collapsed": true
   },
   "outputs": [],
   "source": [
    "def answer(l):\n",
    "    # your code here\n",
    "    length = len(l)\n",
    "    \n",
    "    tripCount = 0\n",
    "    \n",
    "    if (length <= 2):\n",
    "        return tripCount\n",
    "    \n",
    "    for i in range(length-1, 1, -1):\n",
    "        print(\"i = \", i)\n",
    "        for j in range(i-1, 0, -1):\n",
    "            print(\"j = \", j)\n",
    "            if l[i] % l[j] == 0:\n",
    "                for k in range(j-1, -1, -1):\n",
    "                    print(\"k = \", k)\n",
    "                    if l[j] % l[k] == 0:\n",
    "                        tripCount += 1\n",
    "                    else:\n",
    "                        continue\n",
    "            else:\n",
    "                continue\n",
    "    \n",
    "    return trip"
   ]
  },
  {
   "cell_type": "code",
   "execution_count": 23,
   "metadata": {
    "collapsed": true
   },
   "outputs": [],
   "source": [
    "def answer(l):\n",
    "    # your code here\n",
    "    \n",
    "    length = len(l)\n",
    "    tripCount = 0\n",
    "    tracker = [0] * length\n",
    "    \n",
    "    if (length <= 2):\n",
    "        return tripCount\n",
    "    \n",
    "    print(\"tracker = \", tracker)\n",
    "    \n",
    "    for i in range(1, length-1):\n",
    "        print(\"i = \", i)\n",
    "        for j in range(i+1, length):\n",
    "            print(\"j = \", j)\n",
    "            if l[j] % l[i] == 0:\n",
    "                tracker[i] += 1\n",
    "    \n",
    "    for i in range(length-2):\n",
    "        print(\"i2 = \", i)\n",
    "        for j in range(i+1, length-1):\n",
    "            print(\"j2 = \", j)\n",
    "            if l[j] % l[i] == 0:\n",
    "                tripCount += tracker[j]\n",
    "                \n",
    "    return tripCount\n",
    "        \n",
    "        \n",
    "\n",
    "    \n",
    "    \n",
    "    "
   ]
  },
  {
   "cell_type": "code",
   "execution_count": 24,
   "metadata": {},
   "outputs": [
    {
     "name": "stdout",
     "output_type": "stream",
     "text": [
      "tracker =  [0, 0, 0, 0, 0]\n",
      "i =  1\n",
      "j =  2\n",
      "j =  3\n",
      "j =  4\n",
      "i =  2\n",
      "j =  3\n",
      "j =  4\n",
      "i =  3\n",
      "j =  4\n",
      "i2 =  0\n",
      "j2 =  1\n",
      "j2 =  2\n",
      "j2 =  3\n",
      "i2 =  1\n",
      "j2 =  2\n",
      "j2 =  3\n",
      "i2 =  2\n",
      "j2 =  3\n"
     ]
    },
    {
     "data": {
      "text/plain": [
       "1"
      ]
     },
     "execution_count": 24,
     "metadata": {},
     "output_type": "execute_result"
    }
   ],
   "source": [
    "answer([1, 2, 3, 4, 5])"
   ]
  },
  {
   "cell_type": "markdown",
   "metadata": {},
   "source": [
    "### Question 2"
   ]
  },
  {
   "cell_type": "code",
   "execution_count": 201,
   "metadata": {
    "collapsed": true
   },
   "outputs": [],
   "source": [
    "def answer(l, t):\n",
    "    # your code here\n",
    "    length = len(l)\n",
    "    \n",
    "    if (length <= 1):\n",
    "        return [-1, -1]\n",
    "    \n",
    "    for i in range(length-1):\n",
    "        sum = l[i]\n",
    "        \n",
    "        if (l[i] == t):\n",
    "            return [i, i]\n",
    "        \n",
    "        for j in range(i+1, length):\n",
    "            sum = sum + l[j]\n",
    "            \n",
    "            if (sum == t):\n",
    "                return [i, j]\n",
    "            if (sum > t):\n",
    "                break\n",
    "                \n",
    "    return [-1, -1]\n",
    "        "
   ]
  },
  {
   "cell_type": "code",
   "execution_count": 203,
   "metadata": {},
   "outputs": [
    {
     "name": "stdout",
     "output_type": "stream",
     "text": [
      "length =  5\n",
      "i =  0\n",
      "j =  1\n",
      "j =  2\n",
      "i =  1\n",
      "j =  2\n",
      "i =  2\n"
     ]
    },
    {
     "data": {
      "text/plain": [
       "[2, 2]"
      ]
     },
     "execution_count": 203,
     "metadata": {},
     "output_type": "execute_result"
    }
   ],
   "source": [
    "answer([4, 3, 10, 2, 8], 10)\n",
    "\n",
    "#for j in range(99, 99):\n",
    "#    print(\"Hi\")"
   ]
  },
  {
   "cell_type": "markdown",
   "metadata": {},
   "source": [
    "### Question 2"
   ]
  },
  {
   "cell_type": "code",
   "execution_count": 143,
   "metadata": {
    "collapsed": true
   },
   "outputs": [],
   "source": [
    "import math\n",
    "from fractions import Fraction\n",
    "\n",
    "def answer(pegs):\n",
    "    # your code here\n",
    "    \n",
    "    length = len(pegs)\n",
    "    list1 = []\n",
    "    result = []\n",
    "    \n",
    "    if (length <= 1):\n",
    "        return [-1, -1]\n",
    "    \n",
    "    for x in range(length-1):\n",
    "        r1 = (pegs[x+1] - pegs[x]) * (-1)**(x)\n",
    "        list1.append(r1)\n",
    "    \n",
    "    r2 = Fraction(sum(list1)).limit_denominator()\n",
    "    \n",
    "    if length % 2 == 0:\n",
    "        r0 = Fraction(2* (r2 / 3))\n",
    "    else:\n",
    "        r0 = Fraction(2 * r2)\n",
    "    \n",
    "    radiusGuess = r0\n",
    "    for i in range(length-1):\n",
    "        r3 = pegs[i+1] - pegs[i]\n",
    "        r4 = r3 - radiusGuess\n",
    "        if (radiusGuess < 1 or r4 < 1):\n",
    "            return [-1,-1]\n",
    "        else:\n",
    "            radiusGuess = r4\n",
    "\n",
    "    return [r0.numerator, r0.denominator]\n",
    "        \n",
    "    \n",
    "\n",
    "\n",
    "    "
   ]
  },
  {
   "cell_type": "code",
   "execution_count": 144,
   "metadata": {},
   "outputs": [
    {
     "data": {
      "text/plain": [
       "[-1, -1]"
      ]
     },
     "execution_count": 144,
     "metadata": {},
     "output_type": "execute_result"
    }
   ],
   "source": [
    "answer([4, 30, 50])\n",
    "\n",
    "answer([4, 30.1796, 50])\n",
    "\n",
    "answer([4, 17, 50])"
   ]
  },
  {
   "cell_type": "code",
   "execution_count": 141,
   "metadata": {
    "collapsed": true
   },
   "outputs": [],
   "source": [
    "from fractions import Fraction  \n",
    "def answer(pegs):\n",
    "    arrLength = len(pegs)\n",
    "    if ((not pegs) or arrLength == 1):\n",
    "        return [-1,-1]\n",
    "\n",
    "    even = True if (arrLength % 2 == 0) else False\n",
    "    sum = (- pegs[0] + pegs[arrLength - 1]) if even else (- pegs[0] - pegs[arrLength -1])\n",
    "\n",
    "    if (arrLength > 2):\n",
    "        for index in range(1, arrLength-1):\n",
    "            sum += 2 * (-1)**(index+1) * pegs[index]\n",
    "\n",
    "    FirstGearRadius = Fraction(2 * (float(sum)/3 if even else sum)).limit_denominator()\n",
    "    #now that we have the radius of the first gear, we should again check the input array of pegs to verify that\n",
    "    #the pegs radius' is atleast 1.\n",
    "\n",
    "    currentRadius = FirstGearRadius\n",
    "    for index in range(0, arrLength-2):\n",
    "        CenterDistance = pegs[index+1] - pegs[index]\n",
    "        NextRadius = CenterDistance - currentRadius\n",
    "        if (currentRadius < 1 or NextRadius < 1):\n",
    "            return [-1,-1]\n",
    "        else:\n",
    "            currentRadius = NextRadius\n",
    "\n",
    "    return [FirstGearRadius.numerator, FirstGearRadius.denominator]"
   ]
  },
  {
   "cell_type": "code",
   "execution_count": 142,
   "metadata": {},
   "outputs": [
    {
     "data": {
      "text/plain": [
       "[-1, -1]"
      ]
     },
     "execution_count": 142,
     "metadata": {},
     "output_type": "execute_result"
    }
   ],
   "source": [
    "answer([4, 30, 50])\n",
    "\n",
    "answer([4, 30.1796, 50])\n",
    "\n",
    "answer([4, 17, 50])"
   ]
  },
  {
   "cell_type": "code",
   "execution_count": 20,
   "metadata": {},
   "outputs": [
    {
     "name": "stdout",
     "output_type": "stream",
     "text": [
      "3\n"
     ]
    }
   ],
   "source": [
    "#for x in range(5):\n",
    "#    print(x)\n",
    "    \n",
    "pegs = [2, 4, 19]\n",
    "length = len(pegs)\n",
    "print(length)"
   ]
  },
  {
   "cell_type": "markdown",
   "metadata": {},
   "source": [
    "### Question 1"
   ]
  },
  {
   "cell_type": "code",
   "execution_count": 5,
   "metadata": {
    "collapsed": true
   },
   "outputs": [],
   "source": [
    "\n",
    "import math\n",
    "\n",
    "def answer(area):\n",
    "    # your code here\n",
    "    \n",
    "    my_list = []\n",
    "    \n",
    "    while (area > 0):\n",
    "        sqrt = math.sqrt(area)\n",
    "        sqr = math.floor(sqrt)\n",
    "        sqr2 = sqr**(2)\n",
    "        my_list.append(sqr2)\n",
    "        area = area - sqr2\n",
    "        \n",
    "    return (my_list)"
   ]
  },
  {
   "cell_type": "code",
   "execution_count": 6,
   "metadata": {},
   "outputs": [
    {
     "data": {
      "text/plain": [
       "[9, 4]"
      ]
     },
     "execution_count": 6,
     "metadata": {},
     "output_type": "execute_result"
    }
   ],
   "source": [
    "answer(13)"
   ]
  },
  {
   "cell_type": "code",
   "execution_count": null,
   "metadata": {
    "collapsed": true
   },
   "outputs": [],
   "source": []
  }
 ],
 "metadata": {
  "kernelspec": {
   "display_name": "Python 3",
   "language": "python",
   "name": "python3"
  },
  "language_info": {
   "codemirror_mode": {
    "name": "ipython",
    "version": 3
   },
   "file_extension": ".py",
   "mimetype": "text/x-python",
   "name": "python",
   "nbconvert_exporter": "python",
   "pygments_lexer": "ipython3",
   "version": "3.4.5"
  }
 },
 "nbformat": 4,
 "nbformat_minor": 2
}
