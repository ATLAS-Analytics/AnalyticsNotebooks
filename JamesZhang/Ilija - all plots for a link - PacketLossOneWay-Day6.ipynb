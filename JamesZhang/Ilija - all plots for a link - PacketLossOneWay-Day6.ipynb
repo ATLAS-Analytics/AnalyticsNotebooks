{
 "cells": [
  {
   "cell_type": "markdown",
   "metadata": {},
   "source": [
    "## Plots delays, throughputs, packet loss and path for a selected link"
   ]
  },
  {
   "cell_type": "code",
   "execution_count": 1,
   "metadata": {
    "collapsed": false
   },
   "outputs": [],
   "source": [
    "%matplotlib inline\n",
    "from elasticsearch import Elasticsearch\n",
    "from elasticsearch.helpers import scan\n",
    "from datetime import datetime\n",
    "import math\n",
    "import matplotlib.pyplot as plt\n",
    "import matplotlib.mlab as mlab\n",
    "from matplotlib import gridspec\n",
    "from datetime import datetime\n",
    "import numpy as np\n",
    "import pandas as pd\n",
    "\n",
    "es = Elasticsearch(['atlas-kibana.mwt2.org:9200'],timeout=60)\n",
    "indices = \"network_weather-2017.8.*\"\n",
    "\n",
    "my_query = {}\n",
    "\n",
    "from sklearn import tree\n",
    "\n",
    "from sklearn.model_selection import cross_val_score\n",
    "from sklearn.ensemble import AdaBoostClassifier\n",
    "from sklearn.tree import DecisionTreeClassifier\n",
    "\n",
    "import time\n",
    "from sklearn.model_selection import train_test_split"
   ]
  },
  {
   "cell_type": "markdown",
   "metadata": {},
   "source": [
    "##  Select your link"
   ]
  },
  {
   "cell_type": "code",
   "execution_count": 2,
   "metadata": {
    "collapsed": false
   },
   "outputs": [],
   "source": [
    "# sS='UC'\n",
    "# srcSiteOWDServer = \"192.170.227.160\"\n",
    "# srcSiteThroughputServer = \"192.170.227.162\"\n",
    "\n",
    "sS='CERN-PROD'\n",
    "srcSiteOWDServer = \"128.142.223.247\"\n",
    "#srcSiteThroughputServer = \"128.142.223.246\"\n",
    "\n",
    "# dS='IU'\n",
    "# destSiteOWDServer = \"149.165.225.223\"\n",
    "# destSiteThroughputServer = \"149.165.225.224\"\n",
    "\n",
    "# dS='UIUC'\n",
    "# destSiteOWDServer = \"72.36.96.4\"\n",
    "# destSiteThroughputServer = \"72.36.96.9\"\n",
    "\n",
    "# dS='ICCN'\n",
    "# destSiteOWDServer = \"72.36.96.4\"\n",
    "# destSiteThroughputServer = \"72.36.126.132\"\n",
    "\n",
    "dS='pic'\n",
    "destSiteOWDServer = \"193.109.172.188\"\n",
    "#destSiteThroughputServer = \"193.109.172.187\""
   ]
  },
  {
   "cell_type": "markdown",
   "metadata": {},
   "source": [
    "## Get the data from Elasticsearch, and store the record based on its type"
   ]
  },
  {
   "cell_type": "code",
   "execution_count": 3,
   "metadata": {
    "collapsed": false
   },
   "outputs": [],
   "source": [
    "my_query = {\n",
    "    'query': { \n",
    "       'bool':{\n",
    "            'must':[\n",
    "                    {'range': {'timestamp': {'gte': '20170807T000000Z', 'lt': '20170808T000000Z'}}},\n",
    "                        {'bool':\n",
    "                            {'should':[\n",
    "                                {'term': {'src': srcSiteOWDServer}},\n",
    "                                #{'term': {'src': srcSiteThroughputServer}},\n",
    "                                #{'term': {'src': destSiteOWDServer}},\n",
    "                                #{'term': {'src': destSiteThroughputServer}}\n",
    "                            ]}\n",
    "                        },\n",
    "                        {'bool':\n",
    "                            {'should':[\n",
    "                                {'term': {'dest': destSiteOWDServer}},\n",
    "                                #{'term': {'dest': destSiteThroughputServer}},\n",
    "                                #{'term': {'dest': srcSiteOWDServer}},\n",
    "                                #{'term': {'dest': srcSiteThroughputServer}}\n",
    "                            ]}\n",
    "                        }\n",
    "                    ]\n",
    "                }\n",
    "        \n",
    "        }\n",
    "    }\n",
    "\n",
    "\n",
    "scroll = list(scan(client=es, index=indices, query=my_query))\n"
   ]
  },
  {
   "cell_type": "code",
   "execution_count": 4,
   "metadata": {
    "collapsed": false,
    "scrolled": true
   },
   "outputs": [
    {
     "name": "stdout",
     "output_type": "stream",
     "text": [
      "1970-01-01 00:00:00\n",
      "{'_score': None, '_id': 'AV28L3R5NILXDji8oO7B', '_source': {'timestamp': 1502100597000, 'delay_median': 14.72, 'srcProduction': True, 'delay_mean': 14.743149999999998, 'srcVO': 'ATLAS', 'srcSite': 'CERN-PROD', 'destVO': 'ATLAS', 'delay_sd': 0.06875253328666034, 'dest': '193.109.172.188', 'destSite': 'pic', 'ipv6': False, 'MA': '128.142.223.247', 'src_host': 'perfsonar-lt.cern.ch', 'dest_host': 'psl01.pic.es', 'destProduction': True, 'src': '128.142.223.247'}, 'sort': [7708], '_index': 'network_weather-2017.8.7', '_type': 'latency'}\n",
      "2017-08-07 10:09:57\n",
      "{'_score': None, '_id': 'AV28L3R5NILXDji8oO7F', '_source': {'timestamp': 1502100176000, 'delay_median': 14.9, 'srcProduction': True, 'delay_mean': 14.999333333333334, 'srcVO': 'ATLAS', 'srcSite': 'CERN-PROD', 'destVO': 'ATLAS', 'delay_sd': 1.8531322732665962, 'dest': '193.109.172.188', 'destSite': 'pic', 'ipv6': False, 'MA': '128.142.223.247', 'src_host': 'perfsonar-lt.cern.ch', 'dest_host': 'psl01.pic.es', 'destProduction': True, 'src': '128.142.223.247'}, 'sort': [7709], '_index': 'network_weather-2017.8.7', '_type': 'latency'}\n",
      "{'_score': None, '_id': 'AV28L3R5NILXDji8oO7G', '_source': {'timestamp': 1502100116000, 'delay_median': 14.91, 'srcProduction': True, 'delay_mean': 14.969483333333335, 'srcVO': 'ATLAS', 'srcSite': 'CERN-PROD', 'destVO': 'ATLAS', 'delay_sd': 0.9971721180696718, 'dest': '193.109.172.188', 'destSite': 'pic', 'ipv6': False, 'MA': '128.142.223.247', 'src_host': 'perfsonar-lt.cern.ch', 'dest_host': 'psl01.pic.es', 'destProduction': True, 'src': '128.142.223.247'}, 'sort': [7710], '_index': 'network_weather-2017.8.7', '_type': 'latency'}\n",
      "{'_score': None, '_id': 'AV26BxWnNILXDji8SYbk', '_source': {'timestamp': 1502064575000, 'src': '128.142.223.247', 'srcProduction': True, 'srcVO': 'ATLAS', 'srcSite': 'CERN-PROD', 'destVO': 'ATLAS', 'dest': '193.109.172.188', 'destSite': 'pic', 'ipv6': False, 'MA': '128.142.223.247', 'packet_loss': 0.0016666666666666668, 'src_host': 'perfsonar-lt.cern.ch', 'dest_host': 'psl01.pic.es', 'destProduction': True}, 'sort': [12184], '_index': 'network_weather-2017.8.7', '_type': 'packet_loss_rate'}\n",
      "{'_score': None, '_id': 'AV26BxWnNILXDji8SYbs', '_source': {'timestamp': 1502064395000, 'src': '128.142.223.247', 'srcProduction': True, 'srcVO': 'ATLAS', 'srcSite': 'CERN-PROD', 'destVO': 'ATLAS', 'dest': '193.109.172.188', 'destSite': 'pic', 'ipv6': False, 'MA': '128.142.223.247', 'packet_loss': 0.0016666666666666668, 'src_host': 'perfsonar-lt.cern.ch', 'dest_host': 'psl01.pic.es', 'destProduction': True}, 'sort': [12185], '_index': 'network_weather-2017.8.7', '_type': 'packet_loss_rate'}\n",
      "{'_score': None, '_id': 'AV26BxWnNILXDji8SYbx', '_source': {'timestamp': 1502064250000, 'src': '128.142.223.247', 'srcProduction': True, 'srcVO': 'ATLAS', 'srcSite': 'CERN-PROD', 'destVO': 'ATLAS', 'dest': '193.109.172.188', 'destSite': 'pic', 'ipv6': False, 'MA': '128.142.223.247', 'packet_loss': 0.0016666666666666668, 'src_host': 'perfsonar-lt.cern.ch', 'dest_host': 'psl01.pic.es', 'destProduction': True}, 'sort': [12186], '_index': 'network_weather-2017.8.7', '_type': 'packet_loss_rate'}\n",
      "{'_score': None, '_id': 'AV26BxWnNILXDji8SYb1', '_source': {'timestamp': 1502064130000, 'src': '128.142.223.247', 'srcProduction': True, 'srcVO': 'ATLAS', 'srcSite': 'CERN-PROD', 'destVO': 'ATLAS', 'dest': '193.109.172.188', 'destSite': 'pic', 'ipv6': False, 'MA': '128.142.223.247', 'packet_loss': 0.0, 'src_host': 'perfsonar-lt.cern.ch', 'dest_host': 'psl01.pic.es', 'destProduction': True}, 'sort': [12187], '_index': 'network_weather-2017.8.7', '_type': 'packet_loss_rate'}\n",
      "{'_score': None, '_id': 'AV26BxspNILXDji8SYjx', '_source': {'timestamp': 1502064215000, 'delay_median': 22.61, 'srcProduction': True, 'delay_mean': 15.126616666666662, 'srcVO': 'ATLAS', 'srcSite': 'CERN-PROD', 'destVO': 'ATLAS', 'delay_sd': 0.21329803809588957, 'dest': '193.109.172.188', 'destSite': 'pic', 'ipv6': False, 'MA': '128.142.223.247', 'src_host': 'perfsonar-lt.cern.ch', 'dest_host': 'psl01.pic.es', 'destProduction': True, 'src': '128.142.223.247'}, 'sort': [12869], '_index': 'network_weather-2017.8.7', '_type': 'latency'}\n",
      "{'_score': None, '_id': 'AV26BxspNILXDji8SYj1', '_source': {'timestamp': 1502064370000, 'delay_median': 15.05, 'srcProduction': True, 'delay_mean': 15.086314907872698, 'srcVO': 'ATLAS', 'srcSite': 'CERN-PROD', 'destVO': 'ATLAS', 'delay_sd': 0.13705378516849376, 'dest': '193.109.172.188', 'destSite': 'pic', 'ipv6': False, 'MA': '128.142.223.247', 'src_host': 'perfsonar-lt.cern.ch', 'dest_host': 'psl01.pic.es', 'destProduction': True, 'src': '128.142.223.247'}, 'sort': [12870], '_index': 'network_weather-2017.8.7', '_type': 'latency'}\n",
      "{'_score': None, '_id': 'AV26BxspNILXDji8SYj3', '_source': {'timestamp': 1502064395000, 'delay_median': 15.07, 'srcProduction': True, 'delay_mean': 15.113806343906505, 'srcVO': 'ATLAS', 'srcSite': 'CERN-PROD', 'destVO': 'ATLAS', 'delay_sd': 0.18664385633697098, 'dest': '193.109.172.188', 'destSite': 'pic', 'ipv6': False, 'MA': '128.142.223.247', 'src_host': 'perfsonar-lt.cern.ch', 'dest_host': 'psl01.pic.es', 'destProduction': True, 'src': '128.142.223.247'}, 'sort': [12871], '_index': 'network_weather-2017.8.7', '_type': 'latency'}\n"
     ]
    }
   ],
   "source": [
    "#site = {srcSiteOWDServer: sS, srcSiteThroughputServer: sS, destSiteOWDServer:dS, destSiteThroughputServer:dS}\n",
    "site = {srcSiteOWDServer: sS, destSiteOWDServer:dS}\n",
    "data = {sS:pd.DataFrame(),dS:pd.DataFrame()}\n",
    "epoch = datetime.utcfromtimestamp(0)\n",
    "count = 0\n",
    "print(epoch)\n",
    "\n",
    "for res in scroll:\n",
    "    if count<10: print(res)\n",
    "    count += 1\n",
    "#     dt=datetime.strptime(res['_source']['timestamp'], '%Y-%m-%dT%H:%M:%S') # for data before Oct. 15 2016\n",
    "    dt=datetime.utcfromtimestamp(res['_source']['timestamp']/1000.0)\n",
    "    ts = (dt - epoch).total_seconds() * 1000.0\n",
    "    s=site[res['_source']['src']]\n",
    "    data[s].set_value(ts, 'timestamp', dt)\n",
    "    column_type = res['_type']\n",
    "#    if column_type == 'latency':\n",
    "#        data[s].set_value( ts, 'delay_median', res['_source']['delay_median'])\n",
    "#        data[s].set_value( ts, 'delay_mean', res['_source']['delay_mean'])\n",
    "#        data[s].set_value( ts, 'delay_sd', res['_source']['delay_sd'])\n",
    "    if column_type == 'packet_loss_rate':\n",
    "        data[s].set_value( ts, 'packet_loss', res['_source']['packet_loss'])\n",
    "#    elif column_type == 'throughput':\n",
    "#        data[s].set_value( ts, 'throughput', res['_source']['throughput']/1024./1024./1024.)\n",
    "#    elif column_type == 'traceroute':\n",
    "#        data[s].set_value( ts, 'hash', res['_source']['hash'])\n",
    "    if count<2: print(dt)"
   ]
  },
  {
   "cell_type": "code",
   "execution_count": 5,
   "metadata": {
    "collapsed": false,
    "scrolled": true
   },
   "outputs": [
    {
     "name": "stdout",
     "output_type": "stream",
     "text": [
      "                       timestamp  packet_loss\n",
      "1.502064e+12 2017-08-07 00:00:10     0.005000\n",
      "1.502064e+12 2017-08-07 00:00:34     0.006667\n",
      "1.502064e+12 2017-08-07 00:01:10     0.006667\n",
      "1.502064e+12 2017-08-07 00:01:35     0.001667\n",
      "1.502064e+12 2017-08-07 00:02:10     0.000000\n",
      "1.502064e+12 2017-08-07 00:02:35     0.000000\n",
      "1.502064e+12 2017-08-07 00:03:10     0.003333\n",
      "1.502064e+12 2017-08-07 00:03:35     0.000000\n",
      "1.502064e+12 2017-08-07 00:04:10     0.001667\n",
      "1.502064e+12 2017-08-07 00:04:35     0.003333\n",
      "1.502064e+12 2017-08-07 00:05:10     0.001667\n",
      "1.502064e+12 2017-08-07 00:05:35     0.001667\n",
      "1.502064e+12 2017-08-07 00:06:10     0.005000\n",
      "1.502064e+12 2017-08-07 00:06:35     0.001667\n",
      "1.502064e+12 2017-08-07 00:07:10     0.001667\n",
      "1.502064e+12 2017-08-07 00:07:35     0.000000\n",
      "1.502064e+12 2017-08-07 00:08:10     0.001667\n",
      "1.502065e+12 2017-08-07 00:08:35     0.001667\n",
      "1.502065e+12 2017-08-07 00:09:10     0.001667\n",
      "1.502065e+12 2017-08-07 00:09:35     0.001667\n",
      "1.502065e+12 2017-08-07 00:10:10     0.001667\n",
      "1.502065e+12 2017-08-07 00:10:13          NaN\n",
      "1.502065e+12 2017-08-07 00:10:35     0.000000\n",
      "1.502065e+12 2017-08-07 00:11:10     0.001667\n",
      "1.502065e+12 2017-08-07 00:11:35     0.003333\n",
      "1.502065e+12 2017-08-07 00:12:11     0.001667\n",
      "1.502065e+12 2017-08-07 00:12:35     0.003333\n",
      "1.502065e+12 2017-08-07 00:13:11     0.000000\n",
      "1.502065e+12 2017-08-07 00:13:36     0.003333\n",
      "1.502065e+12 2017-08-07 00:14:11     0.003333\n",
      "...                          ...          ...\n",
      "1.502150e+12 2017-08-07 23:45:20     0.000000\n",
      "1.502150e+12 2017-08-07 23:46:16     0.001667\n",
      "1.502150e+12 2017-08-07 23:46:20     0.000000\n",
      "1.502150e+12 2017-08-07 23:47:16     0.000000\n",
      "1.502150e+12 2017-08-07 23:47:20     0.000000\n",
      "1.502150e+12 2017-08-07 23:48:16     0.000000\n",
      "1.502150e+12 2017-08-07 23:48:20     0.001667\n",
      "1.502150e+12 2017-08-07 23:49:16     0.001667\n",
      "1.502150e+12 2017-08-07 23:49:20     0.000000\n",
      "1.502150e+12 2017-08-07 23:50:16     0.000000\n",
      "1.502150e+12 2017-08-07 23:50:20     0.000000\n",
      "1.502150e+12 2017-08-07 23:51:16     0.000000\n",
      "1.502150e+12 2017-08-07 23:51:20     0.000000\n",
      "1.502150e+12 2017-08-07 23:52:16     0.000000\n",
      "1.502150e+12 2017-08-07 23:52:20     0.000000\n",
      "1.502150e+12 2017-08-07 23:53:13          NaN\n",
      "1.502150e+12 2017-08-07 23:53:16     0.000000\n",
      "1.502150e+12 2017-08-07 23:53:20     0.000000\n",
      "1.502150e+12 2017-08-07 23:54:16     0.001667\n",
      "1.502150e+12 2017-08-07 23:54:21     0.000000\n",
      "1.502150e+12 2017-08-07 23:55:16     0.000000\n",
      "1.502150e+12 2017-08-07 23:55:21     0.000000\n",
      "1.502150e+12 2017-08-07 23:56:16     0.000000\n",
      "1.502150e+12 2017-08-07 23:56:21     0.000000\n",
      "1.502150e+12 2017-08-07 23:57:17     0.000000\n",
      "1.502150e+12 2017-08-07 23:57:21     0.003333\n",
      "1.502150e+12 2017-08-07 23:58:17     0.001667\n",
      "1.502150e+12 2017-08-07 23:58:21     0.000000\n",
      "1.502150e+12 2017-08-07 23:59:17     0.001667\n",
      "1.502150e+12 2017-08-07 23:59:21     0.000000\n",
      "\n",
      "[2914 rows x 2 columns]\n"
     ]
    }
   ],
   "source": [
    "data[sS].sort_index(inplace=True) \n",
    "data[sS].describe()\n",
    "\n",
    "#data[dS].sort_index(inplace=True) \n",
    "#data[dS].describe()\n",
    "\n",
    "print(data[sS])"
   ]
  },
  {
   "cell_type": "markdown",
   "metadata": {},
   "source": [
    "### Extract values"
   ]
  },
  {
   "cell_type": "code",
   "execution_count": 6,
   "metadata": {
    "collapsed": false
   },
   "outputs": [],
   "source": [
    "F = data[sS]\n",
    "#B = data[dS]\n",
    "#Fthr = F[F.throughput.notnull()]    # Get the lines (i.e. times) whose throughput is not null\n",
    "#Bthr = B[B.throughput.notnull()]  \n",
    "Fpl = F[F.packet_loss.notnull()]\n",
    "#Bpl = B[B.packet_loss.notnull()]\n",
    "# Fd = F[F.delay_mean.notnull()]\n",
    "# Bd = B[B.delay_mean.notnull()]\n",
    "#Fd = F[F.delay_mean<150]\n",
    "#Bd = B[B.delay_mean<150]\n",
    "#Jd = Fd.join(Bd,how='inner', rsuffix=\"_back\")\n",
    "#Jd['dmean']= (Jd.delay_mean + Jd.delay_mean_back)/2\n",
    "\n",
    "#Fh = F[F.hash.notnull()]\n",
    "#Bh = B[B.hash.notnull()]\n",
    "Fids=[];Bids=[]\n",
    "Fu=[];Bu=[]\n",
    "\n",
    "#for fi in Fh.hash.tolist():\n",
    "#    if fi not in Fu: Fu.append(fi)\n",
    "#    Fids.append(Fu.index(fi))\n",
    "#for fi in Bh.hash.tolist():\n",
    "#    if fi not in Bu: Bu.append(fi)\n",
    "#    Bids.append(Bu.index(fi))"
   ]
  },
  {
   "cell_type": "markdown",
   "metadata": {
    "collapsed": false,
    "scrolled": true
   },
   "source": [
    "#### interpolate all the values and leave only onese where all 4 measurements are there"
   ]
  },
  {
   "cell_type": "code",
   "execution_count": 7,
   "metadata": {
    "collapsed": false
   },
   "outputs": [
    {
     "name": "stdout",
     "output_type": "stream",
     "text": [
      "(2914, 2)\n"
     ]
    }
   ],
   "source": [
    "NF=F.interpolate(method='index',limit=1,limit_direction='both')\n",
    "#NFall = NF[NF.throughput.notnull()]\n",
    "#NFall = NFall[NFall.delay_mean.notnull()]\n",
    "NFall = NF[NF.packet_loss.notnull()]\n",
    "#NFall = NFall[NFall.hash.notnull()]\n",
    "\n",
    "#NB=B.interpolate(method='index',limit=1,limit_direction='both')\n",
    "#NBal = NB[NB.throughput.notnull()]\n",
    "#NBall = NB[NB.delay_mean.notnull()]\n",
    "#NBall = NB[NB.packet_loss.notnull()]\n",
    "print(NFall.shape)"
   ]
  },
  {
   "cell_type": "code",
   "execution_count": 8,
   "metadata": {
    "collapsed": false
   },
   "outputs": [
    {
     "name": "stdout",
     "output_type": "stream",
     "text": [
      "(2914, 2)\n"
     ]
    }
   ],
   "source": [
    "#print(NF)\n",
    "#print(NB)\n",
    "\n",
    "print(NF.shape)\n",
    "#print(NB.shape)"
   ]
  },
  {
   "cell_type": "code",
   "execution_count": 9,
   "metadata": {
    "collapsed": false
   },
   "outputs": [
    {
     "name": "stdout",
     "output_type": "stream",
     "text": [
      "packet loss forward:  2802\n"
     ]
    }
   ],
   "source": [
    "#print( 'throughput  forward: ', Fthr.shape[0], ' backward: ', Bthr.shape[0])\n",
    "#print( 'packet loss forward: ', Fpl.shape[0],  ' backward: ', Bpl.shape[0])\n",
    "print( 'packet loss forward: ', Fpl.shape[0])\n",
    "#print( 'delay       forward: ', Fd.shape[0],   ' backward: ', Bd.shape[0])\n",
    "#print( 'hash        forward: ', Fh.shape[0],   ' backward: ', Bh.shape[0])\n",
    "\n",
    "#i=0\n",
    "#while i < Fpl.shape[0]:\n",
    "#    print(\"Hi\")\n",
    "#    i = i + 1"
   ]
  },
  {
   "cell_type": "code",
   "execution_count": 10,
   "metadata": {
    "collapsed": false,
    "scrolled": true
   },
   "outputs": [
    {
     "data": {
      "image/png": "[encoded data removed]",
      "text/plain": [
       "<matplotlib.figure.Figure at 0x7f75e404c4e0>"
      ]
     },
     "metadata": {},
     "output_type": "display_data"
    }
   ],
   "source": [
    "plt.figure(figsize=[50, 80])\n",
    "gs = gridspec.GridSpec(4, 1)\n",
    "\n",
    "ax2 = plt.subplot(gs[1])\n",
    "ax2.plot(Fpl.timestamp.tolist(), np.sqrt(Fpl.packet_loss).tolist(), ls='', marker='.', c='r', label=sS+'->'+dS)\n",
    "ax2.set_xlabel('time')\n",
    "ax2.set_ylabel('sqrt(packet loss) [%]')\n",
    "ax2.legend()\n",
    "\n",
    "plt.show()"
   ]
  }
 ],
 "metadata": {
  "kernelspec": {
   "display_name": "Python 3",
   "language": "python",
   "name": "python3"
  },
  "language_info": {
   "codemirror_mode": {
    "name": "ipython",
    "version": 3
   },
   "file_extension": ".py",
   "mimetype": "text/x-python",
   "name": "python",
   "nbconvert_exporter": "python",
   "pygments_lexer": "ipython3",
   "version": "3.5.1"
  }
 },
 "nbformat": 4,
 "nbformat_minor": 0
}
