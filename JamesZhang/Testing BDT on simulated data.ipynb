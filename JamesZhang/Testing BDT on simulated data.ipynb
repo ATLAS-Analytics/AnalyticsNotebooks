{
 "cells": [
  {
   "cell_type": "markdown",
   "metadata": {},
   "source": [
    "#### This code generates large dataframe containing multiple timeseries"
   ]
  },
  {
   "cell_type": "code",
   "execution_count": 8,
   "metadata": {
    "collapsed": true
   },
   "outputs": [],
   "source": [
    "%matplotlib inline\n",
    "import numpy as np\n",
    "import pandas as pd\n",
    "import random\n",
    "import matplotlib.pyplot as plt\n",
    "\n",
    "from sklearn.model_selection import cross_val_score\n",
    "from sklearn.ensemble import AdaBoostClassifier"
   ]
  },
  {
   "cell_type": "markdown",
   "metadata": {},
   "source": [
    "#### parameters to set"
   ]
  },
  {
   "cell_type": "code",
   "execution_count": 9,
   "metadata": {
    "collapsed": true
   },
   "outputs": [],
   "source": [
    "n_series = 6\n",
    "n_timesteps = 8*24*3600 # 8 days\n",
    "\n",
    "# regular behaviour\n",
    "max_noise_amplitude = 0.05 # all the timeseries will have values between 0 and 1\n",
    "\n",
    "# anomalies\n",
    "p_anomaly = 10E-6\n",
    "max_anomaly_duration = 4*3600 # 4 h"
   ]
  },
  {
   "cell_type": "markdown",
   "metadata": {},
   "source": [
    "#### generate normal data"
   ]
  },
  {
   "cell_type": "code",
   "execution_count": 10,
   "metadata": {
    "collapsed": false
   },
   "outputs": [],
   "source": [
    "df = pd.DataFrame()\n",
    "for s in range(n_series):\n",
    "    v = np.random.normal(random.random()/2, max_noise_amplitude/random.randint(1, 8), n_timesteps)\n",
    "    df[s]=pd.Series(v)\n",
    "df['Flag']=False\n",
    "#df.head()"
   ]
  },
  {
   "cell_type": "markdown",
   "metadata": {},
   "source": [
    "#### generate anomalies"
   ]
  },
  {
   "cell_type": "code",
   "execution_count": 11,
   "metadata": {
    "collapsed": false
   },
   "outputs": [],
   "source": [
    "to_generate = int(n_timesteps * p_anomaly)\n",
    "for a in range(to_generate):\n",
    "    affects = random.sample(range(n_series), random.randint(1, n_series))\n",
    "    duration = int(max_anomaly_duration * random.random())\n",
    "    start = (n_timesteps * random.random())\n",
    "    end = min(start+duration, n_timesteps)\n",
    "    for s in affects:\n",
    "        df.loc[start:end,s] = df.loc[start:end,s] + random.random() * 0.3\n",
    "    if len(affects)>1:\n",
    "        df.loc[start:end,\"Flag\"]=True\n",
    "        "
   ]
  },
  {
   "cell_type": "markdown",
   "metadata": {},
   "source": [
    "#### enforce range"
   ]
  },
  {
   "cell_type": "code",
   "execution_count": 12,
   "metadata": {
    "collapsed": true
   },
   "outputs": [],
   "source": [
    "df[df<0] = 0\n",
    "df[df>1] = 1"
   ]
  },
  {
   "cell_type": "markdown",
   "metadata": {},
   "source": [
    "#### plot timeseries"
   ]
  },
  {
   "cell_type": "code",
   "execution_count": 13,
   "metadata": {
    "collapsed": false
   },
   "outputs": [
    {
     "data": {
      "text/plain": [
       "<matplotlib.axes._subplots.AxesSubplot at 0x7f0624be44e0>"
      ]
     },
     "execution_count": 13,
     "metadata": {},
     "output_type": "execute_result"
    },
    {
     "data": {
      "image/png": "[encoded data removed]",
      "text/plain": [
       "<matplotlib.figure.Figure at 0x7f060b4d9fd0>"
      ]
     },
     "metadata": {},
     "output_type": "display_data"
    }
   ],
   "source": [
    "df.plot()"
   ]
  },
  {
   "cell_type": "markdown",
   "metadata": {},
   "source": [
    "#### running BDT"
   ]
  },
  {
   "cell_type": "code",
   "execution_count": 14,
   "metadata": {
    "collapsed": false
   },
   "outputs": [
    {
     "name": "stdout",
     "output_type": "stream",
     "text": [
      "step: 0 \tresult: 0.528645833333\n",
      "step: 1 \tresult: 0.4921875\n",
      "step: 2 \tresult: 0.494791666667\n",
      "step: 3 \tresult: 0.5\n",
      "step: 4 \tresult: 0.494791666667\n",
      "step: 5 \tresult: 0.528645833333\n",
      "step: 6 \tresult: 0.515625\n",
      "step: 7 \tresult: 0.546875\n",
      "step: 8 \tresult: 0.479166666667\n",
      "step: 9 \tresult: 0.427083333333\n",
      "step: 10 \tresult: 0.502604166667\n",
      "step: 11 \tresult: 0.432291666667\n",
      "step: 12 \tresult: 0.513020833333\n",
      "step: 13 \tresult: 0.5234375\n",
      "step: 14 \tresult: 0.481770833333\n",
      "step: 15 \tresult: 0.549479166667\n",
      "step: 16 \tresult: 0.458333333333\n",
      "step: 17 \tresult: 0.481770833333\n",
      "step: 18 \tresult: 0.502604166667\n",
      "step: 19 \tresult: 0.494791666667\n",
      "step: 20 \tresult: 0.526041666667\n",
      "step: 21 \tresult: 0.526041666667\n",
      "step: 22 \tresult: 0.502604166667\n",
      "step: 23 \tresult: 0.4921875\n",
      "step: 24 \tresult: 0.481770833333\n",
      "step: 25 \tresult: 0.46875\n",
      "step: 26 \tresult: 0.4921875\n",
      "step: 27 \tresult: 0.471354166667\n",
      "step: 28 \tresult: 0.497395833333\n",
      "step: 29 \tresult: 0.440104166667\n",
      "step: 30 \tresult: 0.53125\n",
      "step: 31 \tresult: 0.473958333333\n",
      "step: 32 \tresult: 0.502604166667\n",
      "step: 33 \tresult: 0.53125\n",
      "step: 34 \tresult: 0.510416666667\n",
      "step: 35 \tresult: 0.453125\n",
      "step: 36 \tresult: 0.481770833333\n",
      "step: 37 \tresult: 0.544270833333\n",
      "step: 38 \tresult: 0.528645833333\n",
      "step: 39 \tresult: 0.502604166667\n",
      "step: 40 \tresult: 0.544270833333\n",
      "step: 41 \tresult: 0.544270833333\n",
      "step: 42 \tresult: 0.4375\n",
      "step: 43 \tresult: 0.46875\n",
      "step: 44 \tresult: 0.442708333333\n",
      "step: 45 \tresult: 0.5234375\n",
      "step: 46 \tresult: 0.549479166667\n",
      "step: 47 \tresult: 0.489583333333\n",
      "step: 48 \tresult: 0.4765625\n",
      "step: 49 \tresult: 0.505208333333\n",
      "step: 50 \tresult: 0.484375\n",
      "step: 51 \tresult: 0.479166666667\n",
      "step: 52 \tresult: 0.497395833333\n",
      "step: 53 \tresult: 0.518229166667\n",
      "step: 54 \tresult: 0.544270833333\n",
      "step: 55 \tresult: 0.505208333333\n",
      "step: 56 \tresult: 0.4453125\n",
      "step: 57 \tresult: 0.513020833333\n",
      "step: 58 \tresult: 0.528645833333\n",
      "step: 59 \tresult: 0.4609375\n",
      "step: 60 \tresult: 0.4921875\n",
      "step: 61 \tresult: 0.4765625\n",
      "step: 62 \tresult: 0.473958333333\n",
      "step: 63 \tresult: 0.4765625\n",
      "step: 64 \tresult: 0.518229166667\n",
      "step: 65 \tresult: 0.565104166667\n",
      "step: 66 \tresult: 0.5234375\n",
      "step: 67 \tresult: 0.466145833333\n",
      "step: 68 \tresult: 0.505208333333\n",
      "step: 69 \tresult: 0.5234375\n",
      "step: 70 \tresult: 0.458333333333\n",
      "step: 71 \tresult: 0.4765625\n",
      "step: 72 \tresult: 0.419270833333\n",
      "step: 73 \tresult: 0.494791666667\n",
      "step: 74 \tresult: 0.453125\n",
      "step: 75 \tresult: 0.510416666667\n",
      "step: 76 \tresult: 0.497395833333\n",
      "step: 77 \tresult: 0.533854166667\n",
      "step: 78 \tresult: 0.559895833333\n",
      "step: 79 \tresult: 0.546875\n",
      "step: 80 \tresult: 0.505208333333\n",
      "step: 81 \tresult: 0.489583333333\n",
      "step: 82 \tresult: 0.520833333333\n",
      "step: 83 \tresult: 0.5546875\n",
      "step: 84 \tresult: 0.513020833333\n",
      "step: 85 \tresult: 0.510416666667\n",
      "step: 86 \tresult: 0.481770833333\n",
      "step: 87 \tresult: 0.526041666667\n",
      "step: 88 \tresult: 0.5078125\n",
      "step: 89 \tresult: 0.471354166667\n",
      "step: 90 \tresult: 0.463541666667\n",
      "step: 91 \tresult: 0.5390625\n",
      "step: 92 \tresult: 0.5078125\n",
      "step: 93 \tresult: 0.515625\n",
      "step: 94 \tresult: 0.546875\n",
      "step: 95 \tresult: 0.578125\n",
      "step: 96 \tresult: 0.533854166667\n",
      "step: 97 \tresult: 0.479166666667\n",
      "step: 98 \tresult: 0.541666666667\n",
      "step: 99 \tresult: 0.518229166667\n",
      "step: 100 \tresult: 0.549479166667\n",
      "step: 101 \tresult: 0.526041666667\n",
      "step: 102 \tresult: 0.53125\n",
      "step: 103 \tresult: 0.544270833333\n",
      "step: 104 \tresult: 0.505208333333\n",
      "step: 105 \tresult: 0.5\n",
      "step: 106 \tresult: 0.5546875\n",
      "step: 107 \tresult: 0.5390625\n",
      "step: 108 \tresult: 0.450520833333\n",
      "step: 109 \tresult: 0.4765625\n",
      "step: 110 \tresult: 0.440104166667\n",
      "step: 111 \tresult: 0.484375\n",
      "step: 112 \tresult: 0.505208333333\n",
      "step: 113 \tresult: 0.53125\n",
      "step: 114 \tresult: 0.466145833333\n",
      "step: 115 \tresult: 0.5078125\n",
      "step: 116 \tresult: 0.520833333333\n",
      "step: 117 \tresult: 0.497395833333\n",
      "step: 118 \tresult: 0.5703125\n",
      "step: 119 \tresult: 0.536458333333\n",
      "step: 120 \tresult: 0.520833333333\n",
      "step: 121 \tresult: 0.53125\n",
      "step: 122 \tresult: 0.4921875\n",
      "step: 123 \tresult: 0.484375\n",
      "step: 124 \tresult: 0.520833333333\n",
      "step: 125 \tresult: 0.5390625\n",
      "step: 126 \tresult: 0.466145833333\n",
      "step: 127 \tresult: 0.473958333333\n",
      "step: 128 \tresult: 0.494791666667\n",
      "step: 129 \tresult: 0.5390625\n",
      "step: 130 \tresult: 0.953125\n",
      "step: 131 \tresult: 0.484375\n",
      "step: 132 \tresult: 0.494791666667\n",
      "step: 133 \tresult: 0.479166666667\n",
      "step: 134 \tresult: 0.453125\n",
      "step: 135 \tresult: 0.510416666667\n",
      "step: 136 \tresult: 0.5703125\n",
      "step: 137 \tresult: 0.528645833333\n",
      "step: 138 \tresult: 0.481770833333\n",
      "step: 139 \tresult: 0.497395833333\n",
      "step: 140 \tresult: 0.450520833333\n",
      "step: 141 \tresult: 0.981770833333\n",
      "step: 142 \tresult: 0.481770833333\n",
      "step: 143 \tresult: 0.546875\n",
      "step: 144 \tresult: 0.494791666667\n",
      "step: 145 \tresult: 0.505208333333\n",
      "step: 146 \tresult: 0.5390625\n",
      "step: 147 \tresult: 0.502604166667\n",
      "step: 148 \tresult: 0.526041666667\n",
      "step: 149 \tresult: 0.565104166667\n",
      "step: 150 \tresult: 0.513020833333\n",
      "step: 151 \tresult: 0.484375\n",
      "step: 152 \tresult: 0.484375\n",
      "step: 153 \tresult: 0.544270833333\n",
      "step: 154 \tresult: 0.5234375\n",
      "step: 155 \tresult: 0.520833333333\n",
      "step: 156 \tresult: 0.526041666667\n",
      "step: 157 \tresult: 0.458333333333\n",
      "step: 158 \tresult: 0.528645833333\n",
      "step: 159 \tresult: 0.502604166667\n",
      "step: 160 \tresult: 0.515625\n",
      "step: 161 \tresult: 0.5625\n",
      "step: 162 \tresult: 0.481770833333\n",
      "step: 163 \tresult: 0.484375\n",
      "step: 164 \tresult: 0.453125\n",
      "step: 165 \tresult: 0.4921875\n",
      "step: 166 \tresult: 0.473958333333\n",
      "step: 167 \tresult: 0.466145833333\n",
      "step: 168 \tresult: 0.5078125\n",
      "step: 169 \tresult: 0.502604166667\n",
      "step: 170 \tresult: 0.536458333333\n",
      "step: 171 \tresult: 0.486979166667\n",
      "step: 172 \tresult: 0.526041666667\n",
      "step: 173 \tresult: 0.497395833333\n",
      "step: 174 \tresult: 0.481770833333\n",
      "step: 175 \tresult: 0.4921875\n",
      "step: 176 \tresult: 0.5\n",
      "step: 177 \tresult: 0.505208333333\n",
      "step: 178 \tresult: 0.494791666667\n",
      "step: 179 \tresult: 0.46875\n",
      "step: 180 \tresult: 0.5078125\n",
      "step: 181 \tresult: 0.5234375\n",
      "step: 182 \tresult: 0.518229166667\n",
      "step: 183 \tresult: 0.497395833333\n",
      "step: 184 \tresult: 0.552083333333\n",
      "step: 185 \tresult: 0.484375\n",
      "step: 186 \tresult: 0.518229166667\n",
      "step: 187 \tresult: 0.466145833333\n",
      "step: 188 \tresult: 0.520833333333\n",
      "step: 189 \tresult: 0.46875\n",
      "step: 190 \tresult: 0.481770833333\n"
     ]
    }
   ],
   "source": [
    "clf = AdaBoostClassifier() #n_estimators=100)\n",
    "\n",
    "# loop over data split in one hour intervals\n",
    "steps = int(n_timesteps/3600)\n",
    "for s in range(steps-1):\n",
    "    X = df.loc[ s * steps : (s + 2) * steps-1, range(n_series)]\n",
    "    y = pd.DataFrame(0, index=np.arange(2 * steps), columns=['y'])\n",
    "    y[steps:]=1  # lebel second interval with 1\n",
    "    scores = cross_val_score(clf, X, y['y'])\n",
    "    print(\"step:\",s, \"\\tresult:\", scores.mean()) #, clf.feature_importances_)"
   ]
  },
  {
   "cell_type": "code",
   "execution_count": null,
   "metadata": {
    "collapsed": true
   },
   "outputs": [],
   "source": []
  }
 ],
 "metadata": {
  "kernelspec": {
   "display_name": "Python 3",
   "language": "python",
   "name": "python3"
  },
  "language_info": {
   "codemirror_mode": {
    "name": "ipython",
    "version": 3
   },
   "file_extension": ".py",
   "mimetype": "text/x-python",
   "name": "python",
   "nbconvert_exporter": "python",
   "pygments_lexer": "ipython3",
   "version": "3.5.1"
  }
 },
 "nbformat": 4,
 "nbformat_minor": 0
}
