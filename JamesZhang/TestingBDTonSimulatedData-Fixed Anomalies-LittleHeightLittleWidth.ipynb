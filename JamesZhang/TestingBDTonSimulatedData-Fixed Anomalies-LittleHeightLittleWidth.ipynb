{
 "cells": [
  {
   "cell_type": "markdown",
   "metadata": {},
   "source": [
    "#### This code generates large dataframe containing multiple timeseries"
   ]
  },
  {
   "cell_type": "code",
   "execution_count": 1,
   "metadata": {
    "collapsed": true
   },
   "outputs": [],
   "source": [
    "%matplotlib inline\n",
    "import numpy as np\n",
    "import pandas as pd\n",
    "import random\n",
    "import matplotlib.pyplot as plt\n",
    "\n",
    "from sklearn.model_selection import train_test_split\n",
    "\n",
    "from sklearn.model_selection import cross_val_score\n",
    "from sklearn.ensemble import AdaBoostClassifier\n",
    "from sklearn import tree\n",
    "from sklearn.tree import DecisionTreeClassifier\n",
    "from sklearn.metrics import roc_curve, auc\n",
    "\n",
    "from sklearn import tree\n",
    "\n",
    "from sklearn.metrics import roc_curve, auc\n",
    "#from sklearn.preprocessing import LabelBinarizer\n",
    "\n",
    "from pandas.tseries.offsets import *\n",
    "\n",
    "import time\n",
    "from sklearn.model_selection import train_test_split\n",
    "\n",
    "#from graphviz import Source"
   ]
  },
  {
   "cell_type": "markdown",
   "metadata": {},
   "source": [
    "#### parameters to set"
   ]
  },
  {
   "cell_type": "code",
   "execution_count": 2,
   "metadata": {
    "collapsed": true
   },
   "outputs": [],
   "source": [
    "n_series = 2\n",
    "start_date = '2017-08-01 00:00:00'\n",
    "end_date = '2017-08-07 23:59:59'\n",
    "\n",
    "# regular behaviour\n",
    "max_noise_amplitude = 0.05 # all the timeseries will have values between 0 and 1\n",
    "\n",
    "# anomalies\n",
    "p_anomaly = 10E-6\n",
    "max_anomaly_duration = 4*3600 # 4 h\n",
    "\n",
    "# tuning parameters\n",
    "cut = 0.55\n",
    "window = 24"
   ]
  },
  {
   "cell_type": "markdown",
   "metadata": {},
   "source": [
    "#### generate normal data"
   ]
  },
  {
   "cell_type": "code",
   "execution_count": 3,
   "metadata": {},
   "outputs": [
    {
     "data": {
      "text/html": [
       "<div>\n",
       "<style>\n",
       "    .dataframe thead tr:only-child th {\n",
       "        text-align: right;\n",
       "    }\n",
       "\n",
       "    .dataframe thead th {\n",
       "        text-align: left;\n",
       "    }\n",
       "\n",
       "    .dataframe tbody tr th {\n",
       "        vertical-align: top;\n",
       "    }\n",
       "</style>\n",
       "<table border=\"1\" class=\"dataframe\">\n",
       "  <thead>\n",
       "    <tr style=\"text-align: right;\">\n",
       "      <th></th>\n",
       "      <th>link 0</th>\n",
       "      <th>link 1</th>\n",
       "      <th>Flag</th>\n",
       "      <th>auc_score</th>\n",
       "    </tr>\n",
       "  </thead>\n",
       "  <tbody>\n",
       "    <tr>\n",
       "      <th>2017-08-01 00:00:00</th>\n",
       "      <td>0.077048</td>\n",
       "      <td>0.127633</td>\n",
       "      <td>0</td>\n",
       "      <td>0.5</td>\n",
       "    </tr>\n",
       "    <tr>\n",
       "      <th>2017-08-01 00:00:01</th>\n",
       "      <td>0.206588</td>\n",
       "      <td>0.203005</td>\n",
       "      <td>0</td>\n",
       "      <td>0.5</td>\n",
       "    </tr>\n",
       "    <tr>\n",
       "      <th>2017-08-01 00:00:02</th>\n",
       "      <td>0.058755</td>\n",
       "      <td>0.137586</td>\n",
       "      <td>0</td>\n",
       "      <td>0.5</td>\n",
       "    </tr>\n",
       "    <tr>\n",
       "      <th>2017-08-01 00:00:03</th>\n",
       "      <td>0.162083</td>\n",
       "      <td>0.089154</td>\n",
       "      <td>0</td>\n",
       "      <td>0.5</td>\n",
       "    </tr>\n",
       "    <tr>\n",
       "      <th>2017-08-01 00:00:04</th>\n",
       "      <td>0.151804</td>\n",
       "      <td>0.122104</td>\n",
       "      <td>0</td>\n",
       "      <td>0.5</td>\n",
       "    </tr>\n",
       "  </tbody>\n",
       "</table>\n",
       "</div>"
      ],
      "text/plain": [
       "                       link 0    link 1  Flag  auc_score\n",
       "2017-08-01 00:00:00  0.077048  0.127633     0        0.5\n",
       "2017-08-01 00:00:01  0.206588  0.203005     0        0.5\n",
       "2017-08-01 00:00:02  0.058755  0.137586     0        0.5\n",
       "2017-08-01 00:00:03  0.162083  0.089154     0        0.5\n",
       "2017-08-01 00:00:04  0.151804  0.122104     0        0.5"
      ]
     },
     "execution_count": 3,
     "metadata": {},
     "output_type": "execute_result"
    }
   ],
   "source": [
    "dti=pd.DatetimeIndex(start=start_date,end=end_date, freq='s')\n",
    "n_timesteps = len(dti)\n",
    "df = pd.DataFrame()\n",
    "for s in range(n_series):\n",
    "    v = np.random.normal(0.25/2, max_noise_amplitude/random.randint(1, 2), n_timesteps) \n",
    "    df['link '+str(s)] = pd.Series(v)\n",
    "df['Flag']=0\n",
    "df['auc_score']=0.5\n",
    "df.index = dti\n",
    "df.head()"
   ]
  },
  {
   "cell_type": "markdown",
   "metadata": {},
   "source": [
    "#### generate anomalies"
   ]
  },
  {
   "cell_type": "code",
   "execution_count": 4,
   "metadata": {},
   "outputs": [
    {
     "name": "stdout",
     "output_type": "stream",
     "text": [
      "affected: [0, 1] 2017-08-02 09:36:00 2017-08-02 10:00:00\n"
     ]
    }
   ],
   "source": [
    "to_generate = 1\n",
    "for a in range(to_generate):\n",
    "    affects = random.sample(range(n_series), random.randint(1, n_series))\n",
    "    duration = int(max_anomaly_duration * 0.1)\n",
    "    start = int(n_timesteps * 0.2)\n",
    "    end = min(start+duration, n_timesteps)\n",
    "    print('affected:', affects, df.iloc[start].name, df.iloc[end].name)\n",
    "    for s in affects:\n",
    "        df.iloc[start:end,s] = df.iloc[start:end,s] + 0.4 * 0.3\n",
    "    df.iloc[start:end,n_series]=1\n",
    "        "
   ]
  },
  {
   "cell_type": "markdown",
   "metadata": {},
   "source": [
    "#### enforce range"
   ]
  },
  {
   "cell_type": "code",
   "execution_count": 5,
   "metadata": {
    "collapsed": true
   },
   "outputs": [],
   "source": [
    "df[df<0] = 0\n",
    "df[df>1] = 1"
   ]
  },
  {
   "cell_type": "markdown",
   "metadata": {},
   "source": [
    "#### plot timeseries"
   ]
  },
  {
   "cell_type": "code",
   "execution_count": 6,
   "metadata": {},
   "outputs": [
    {
     "data": {
      "text/plain": [
       "<matplotlib.legend.Legend at 0x7f1cf881a828>"
      ]
     },
     "execution_count": 6,
     "metadata": {},
     "output_type": "execute_result"
    },
    {
     "data": {
      "image/png": "[encoded data removed]",
      "text/plain": [
       "<matplotlib.figure.Figure at 0x7f1cf8879f98>"
      ]
     },
     "metadata": {},
     "output_type": "display_data"
    }
   ],
   "source": [
    "#df.plot(figsize=(20,7))\n",
    "fig = plt.figure(figsize=(20,7))\n",
    "plt.plot(df)\n",
    "fig.suptitle('Simulated Data', fontsize=20)\n",
    "plt.xlabel('Time', fontsize=18)\n",
    "plt.ylabel('Variance in Data', fontsize=16)\n",
    "plt.legend(df)"
   ]
  },
  {
   "cell_type": "code",
   "execution_count": 7,
   "metadata": {},
   "outputs": [
    {
     "name": "stdout",
     "output_type": "stream",
     "text": [
      "2017-08-01 00:00:00    0.5\n",
      "2017-08-01 00:00:01    0.5\n",
      "2017-08-01 00:00:02    0.5\n",
      "2017-08-01 00:00:03    0.5\n",
      "2017-08-01 00:00:04    0.5\n",
      "2017-08-01 00:00:05    0.5\n",
      "2017-08-01 00:00:06    0.5\n",
      "2017-08-01 00:00:07    0.5\n",
      "2017-08-01 00:00:08    0.5\n",
      "2017-08-01 00:00:09    0.5\n",
      "2017-08-01 00:00:10    0.5\n",
      "2017-08-01 00:00:11    0.5\n",
      "2017-08-01 00:00:12    0.5\n",
      "2017-08-01 00:00:13    0.5\n",
      "2017-08-01 00:00:14    0.5\n",
      "2017-08-01 00:00:15    0.5\n",
      "2017-08-01 00:00:16    0.5\n",
      "2017-08-01 00:00:17    0.5\n",
      "2017-08-01 00:00:18    0.5\n",
      "2017-08-01 00:00:19    0.5\n",
      "2017-08-01 00:00:20    0.5\n",
      "2017-08-01 00:00:21    0.5\n",
      "2017-08-01 00:00:22    0.5\n",
      "2017-08-01 00:00:23    0.5\n",
      "2017-08-01 00:00:24    0.5\n",
      "2017-08-01 00:00:25    0.5\n",
      "2017-08-01 00:00:26    0.5\n",
      "2017-08-01 00:00:27    0.5\n",
      "2017-08-01 00:00:28    0.5\n",
      "2017-08-01 00:00:29    0.5\n",
      "                      ... \n",
      "2017-08-07 23:59:30    0.5\n",
      "2017-08-07 23:59:31    0.5\n",
      "2017-08-07 23:59:32    0.5\n",
      "2017-08-07 23:59:33    0.5\n",
      "2017-08-07 23:59:34    0.5\n",
      "2017-08-07 23:59:35    0.5\n",
      "2017-08-07 23:59:36    0.5\n",
      "2017-08-07 23:59:37    0.5\n",
      "2017-08-07 23:59:38    0.5\n",
      "2017-08-07 23:59:39    0.5\n",
      "2017-08-07 23:59:40    0.5\n",
      "2017-08-07 23:59:41    0.5\n",
      "2017-08-07 23:59:42    0.5\n",
      "2017-08-07 23:59:43    0.5\n",
      "2017-08-07 23:59:44    0.5\n",
      "2017-08-07 23:59:45    0.5\n",
      "2017-08-07 23:59:46    0.5\n",
      "2017-08-07 23:59:47    0.5\n",
      "2017-08-07 23:59:48    0.5\n",
      "2017-08-07 23:59:49    0.5\n",
      "2017-08-07 23:59:50    0.5\n",
      "2017-08-07 23:59:51    0.5\n",
      "2017-08-07 23:59:52    0.5\n",
      "2017-08-07 23:59:53    0.5\n",
      "2017-08-07 23:59:54    0.5\n",
      "2017-08-07 23:59:55    0.5\n",
      "2017-08-07 23:59:56    0.5\n",
      "2017-08-07 23:59:57    0.5\n",
      "2017-08-07 23:59:58    0.5\n",
      "2017-08-07 23:59:59    0.5\n",
      "Freq: S, Name: auc_score, Length: 604800, dtype: float64\n"
     ]
    }
   ],
   "source": [
    "print(df['auc_score'])"
   ]
  },
  {
   "cell_type": "code",
   "execution_count": 8,
   "metadata": {},
   "outputs": [
    {
     "name": "stdout",
     "output_type": "stream",
     "text": [
      "                       link 0    link 1  Flag  auc_score\n",
      "2017-08-01 00:00:00  0.077048  0.127633     0        0.5\n",
      "2017-08-01 00:00:01  0.206588  0.203005     0        0.5\n",
      "2017-08-01 00:00:02  0.058755  0.137586     0        0.5\n",
      "2017-08-01 00:00:03  0.162083  0.089154     0        0.5\n",
      "2017-08-01 00:00:04  0.151804  0.122104     0        0.5\n",
      "2017-08-01 00:00:05  0.146881  0.044070     0        0.5\n",
      "2017-08-01 00:00:06  0.095667  0.150523     0        0.5\n",
      "2017-08-01 00:00:07  0.158653  0.140522     0        0.5\n",
      "2017-08-01 00:00:08  0.028913  0.181017     0        0.5\n",
      "2017-08-01 00:00:09  0.166962  0.115821     0        0.5\n",
      "2017-08-01 00:00:10  0.131763  0.158970     0        0.5\n",
      "2017-08-01 00:00:11  0.177081  0.172444     0        0.5\n",
      "2017-08-01 00:00:12  0.113267  0.199918     0        0.5\n",
      "2017-08-01 00:00:13  0.110992  0.000000     0        0.5\n",
      "2017-08-01 00:00:14  0.086394  0.126227     0        0.5\n",
      "2017-08-01 00:00:15  0.116966  0.121253     0        0.5\n",
      "2017-08-01 00:00:16  0.134805  0.162426     0        0.5\n",
      "2017-08-01 00:00:17  0.099934  0.185962     0        0.5\n",
      "2017-08-01 00:00:18  0.050074  0.076616     0        0.5\n",
      "2017-08-01 00:00:19  0.104434  0.128823     0        0.5\n",
      "2017-08-01 00:00:20  0.115710  0.102222     0        0.5\n",
      "2017-08-01 00:00:21  0.075979  0.075330     0        0.5\n",
      "2017-08-01 00:00:22  0.120278  0.150906     0        0.5\n",
      "2017-08-01 00:00:23  0.187948  0.102356     0        0.5\n",
      "2017-08-01 00:00:24  0.074053  0.171344     0        0.5\n",
      "2017-08-01 00:00:25  0.174470  0.093161     0        0.5\n",
      "2017-08-01 00:00:26  0.096582  0.145310     0        0.5\n",
      "2017-08-01 00:00:27  0.185558  0.155635     0        0.5\n",
      "2017-08-01 00:00:28  0.150122  0.175087     0        0.5\n",
      "2017-08-01 00:00:29  0.009966  0.145852     0        0.5\n",
      "...                       ...       ...   ...        ...\n",
      "2017-08-07 23:59:30  0.162976  0.192939     0        0.5\n",
      "2017-08-07 23:59:31  0.064814  0.144182     0        0.5\n",
      "2017-08-07 23:59:32  0.019404  0.124594     0        0.5\n",
      "2017-08-07 23:59:33  0.113219  0.114935     0        0.5\n",
      "2017-08-07 23:59:34  0.000000  0.122484     0        0.5\n",
      "2017-08-07 23:59:35  0.206018  0.091225     0        0.5\n",
      "2017-08-07 23:59:36  0.158323  0.129085     0        0.5\n",
      "2017-08-07 23:59:37  0.119936  0.173234     0        0.5\n",
      "2017-08-07 23:59:38  0.119745  0.173820     0        0.5\n",
      "2017-08-07 23:59:39  0.193722  0.160910     0        0.5\n",
      "2017-08-07 23:59:40  0.106416  0.100633     0        0.5\n",
      "2017-08-07 23:59:41  0.129272  0.121241     0        0.5\n",
      "2017-08-07 23:59:42  0.127671  0.195952     0        0.5\n",
      "2017-08-07 23:59:43  0.226477  0.125345     0        0.5\n",
      "2017-08-07 23:59:44  0.106486  0.193025     0        0.5\n",
      "2017-08-07 23:59:45  0.196201  0.119486     0        0.5\n",
      "2017-08-07 23:59:46  0.152938  0.201569     0        0.5\n",
      "2017-08-07 23:59:47  0.138162  0.112810     0        0.5\n",
      "2017-08-07 23:59:48  0.154659  0.147295     0        0.5\n",
      "2017-08-07 23:59:49  0.145140  0.226492     0        0.5\n",
      "2017-08-07 23:59:50  0.048724  0.104755     0        0.5\n",
      "2017-08-07 23:59:51  0.154847  0.167229     0        0.5\n",
      "2017-08-07 23:59:52  0.171084  0.115550     0        0.5\n",
      "2017-08-07 23:59:53  0.100201  0.081442     0        0.5\n",
      "2017-08-07 23:59:54  0.082651  0.148201     0        0.5\n",
      "2017-08-07 23:59:55  0.184514  0.063263     0        0.5\n",
      "2017-08-07 23:59:56  0.098088  0.128708     0        0.5\n",
      "2017-08-07 23:59:57  0.095442  0.113695     0        0.5\n",
      "2017-08-07 23:59:58  0.131131  0.068752     0        0.5\n",
      "2017-08-07 23:59:59  0.121089  0.070530     0        0.5\n",
      "\n",
      "[604800 rows x 4 columns]\n"
     ]
    }
   ],
   "source": [
    "print(df)"
   ]
  },
  {
   "cell_type": "markdown",
   "metadata": {},
   "source": [
    "#### running BDT"
   ]
  },
  {
   "cell_type": "code",
   "execution_count": 9,
   "metadata": {
    "collapsed": true
   },
   "outputs": [],
   "source": [
    "start_time = time.clock()"
   ]
  },
  {
   "cell_type": "markdown",
   "metadata": {
    "collapsed": true
   },
   "source": [
    "#### Train a model for all hours after the first day"
   ]
  },
  {
   "cell_type": "code",
   "execution_count": 10,
   "metadata": {
    "collapsed": true
   },
   "outputs": [],
   "source": [
    "def check_for_anomaly(ref, sub):\n",
    "    \n",
    "    y_ref = pd.Series([0] * ref.shape[0])\n",
    "    X_ref = ref\n",
    "    #print(\"y_ref before: \", y_ref)\n",
    "    #print(\"x_ref before: \", x_ref)\n",
    "    del X_ref['Flag']\n",
    "    del X_ref['auc_score']\n",
    "    #print(\"x_ref after: \", X_ref)\n",
    "    \n",
    "    y_sub = pd.Series([1] * sub.shape[0])\n",
    "    X_sub=sub\n",
    "    #print(\"y_sub before: \", y_sub)\n",
    "    #print(\"x_sub before: \", X_sub)\n",
    "    del X_sub['Flag']\n",
    "    del X_sub['auc_score']\n",
    "    #print(\"X_sub after: \", X_sub)\n",
    "    \n",
    "    # separate Reference and Subject into Train and Test\n",
    "    X_ref_train, X_ref_test, y_ref_train, y_ref_test = train_test_split(X_ref, y_ref, test_size=0.3, random_state=42)\n",
    "    X_sub_train, X_sub_test, y_sub_train, y_sub_test = train_test_split(X_sub, y_sub, test_size=0.3, random_state=42)\n",
    "    \n",
    "    # combine training ref and sub samples\n",
    "    X_train = pd.concat([X_ref_train, X_sub_train])\n",
    "    y_train = pd.concat([y_ref_train, y_sub_train])\n",
    "\n",
    "    # combine testing ref and sub samples\n",
    "    X_test = pd.concat([X_ref_test, X_sub_test])\n",
    "    y_test = pd.concat([y_ref_test, y_sub_test])\n",
    "    \n",
    "#     dtc=DecisionTreeClassifier()\n",
    "    clf = AdaBoostClassifier() #dtc\n",
    "#     clf = AdaBoostClassifier(DecisionTreeClassifier(max_depth=1),algorithm=\"SAMME\",n_estimators=200)\n",
    "    \n",
    "    #train an AdaBoost model to be able to tell the difference between the reference and subject data\n",
    "    clf.fit(X_train, y_train) \n",
    "\n",
    "    #Predict using the combined test data\n",
    "    y_predict = clf.predict(X_test)\n",
    "    \n",
    "    # scores = cross_val_score(clf, X, y)\n",
    "    # print(scores)\n",
    "    \n",
    "    fpr, tpr, thresholds = roc_curve(y_test, y_predict) # calculate the false positive rate and true positive rate\n",
    "    auc_score = auc(fpr, tpr) #calculate the AUC score\n",
    "    print (\"auc_score = \", auc_score, \"\\tfeature importances:\", clf.feature_importances_)\n",
    "    \n",
    "    if auc_score > cut: \n",
    "        plot_roc(fpr, tpr, auc_score)\n",
    "        #filename='tree_'+sub.index.min().strftime(\"%Y-%m-%d_%H\")\n",
    "        #tree.export_graphviz(clf.estimators_[0] , out_file=filename +'_1.dot') \n",
    "        #tree.export_graphviz(clf.estimators_[1] , out_file=filename +'_2.dot') \n",
    "        \n",
    "    return auc_score"
   ]
  },
  {
   "cell_type": "code",
   "execution_count": 11,
   "metadata": {
    "collapsed": true
   },
   "outputs": [],
   "source": [
    "def plot_roc(fpr,tpr, roc_auc):\n",
    "    plt.figure()\n",
    "    plt.plot(fpr, tpr, color='darkorange', label='ROC curve (area = %0.2f)' % roc_auc)\n",
    "    plt.plot([0, 1], [0, 1], color='navy', linestyle='--')\n",
    "    plt.xlim([0.0, 1.0])\n",
    "    plt.ylim([0.0, 1.05])\n",
    "    plt.plot([0, 1], [0, 1], linestyle='--', color='r',label='Luck', alpha=.8)\n",
    "    plt.xlabel('False Positive Rate')\n",
    "    plt.ylabel('True Positive Rate')\n",
    "    plt.title('Receiver operating characteristic')\n",
    "    plt.legend(loc=\"lower right\")\n",
    "    plt.show()"
   ]
  },
  {
   "cell_type": "code",
   "execution_count": 12,
   "metadata": {},
   "outputs": [
    {
     "name": "stdout",
     "output_type": "stream",
     "text": [
      "DatetimeIndex(['2017-08-01 00:00:00', '2017-08-01 00:00:01',\n",
      "               '2017-08-01 00:00:02', '2017-08-01 00:00:03',\n",
      "               '2017-08-01 00:00:04', '2017-08-01 00:00:05',\n",
      "               '2017-08-01 00:00:06', '2017-08-01 00:00:07',\n",
      "               '2017-08-01 00:00:08', '2017-08-01 00:00:09',\n",
      "               ...\n",
      "               '2017-08-07 23:59:50', '2017-08-07 23:59:51',\n",
      "               '2017-08-07 23:59:52', '2017-08-07 23:59:53',\n",
      "               '2017-08-07 23:59:54', '2017-08-07 23:59:55',\n",
      "               '2017-08-07 23:59:56', '2017-08-07 23:59:57',\n",
      "               '2017-08-07 23:59:58', '2017-08-07 23:59:59'],\n",
      "              dtype='datetime64[ns]', length=604800, freq='S')\n"
     ]
    }
   ],
   "source": [
    "start = df.index.min()\n",
    "end = df.index.max()\n",
    "\n",
    "#print(df)\n",
    "\n",
    "print(df.index)"
   ]
  },
  {
   "cell_type": "markdown",
   "metadata": {},
   "source": [
    "#### Calculate AUC"
   ]
  },
  {
   "cell_type": "code",
   "execution_count": 13,
   "metadata": {
    "scrolled": true
   },
   "outputs": [
    {
     "name": "stdout",
     "output_type": "stream",
     "text": [
      "auc_score =  0.499961419753 \tfeature importances: [ 0.56  0.44]\n",
      "auc_score =  0.5 \tfeature importances: [ 0.46  0.54]\n",
      "auc_score =  0.499980709877 \tfeature importances: [ 0.56  0.44]\n",
      "auc_score =  0.499980709877 \tfeature importances: [ 0.48  0.52]\n",
      "auc_score =  0.5 \tfeature importances: [ 0.64  0.36]\n",
      "auc_score =  0.5 \tfeature importances: [ 0.38  0.62]\n",
      "auc_score =  0.5 \tfeature importances: [ 0.56  0.44]\n",
      "auc_score =  0.499980709877 \tfeature importances: [ 0.5  0.5]\n",
      "auc_score =  0.5 \tfeature importances: [ 0.44  0.56]\n",
      "auc_score =  0.596026234568 \tfeature importances: [ 0.52  0.48]\n"
     ]
    },
    {
     "data": {
      "image/png": "[encoded data removed]",
      "text/plain": [
       "<matplotlib.figure.Figure at 0x7f1d384f1cf8>"
      ]
     },
     "metadata": {},
     "output_type": "display_data"
    },
    {
     "name": "stdout",
     "output_type": "stream",
     "text": [
      "auc_score =  0.5 \tfeature importances: [ 0.56  0.44]\n",
      "auc_score =  0.5 \tfeature importances: [ 0.3  0.7]\n",
      "auc_score =  0.499980709877 \tfeature importances: [ 0.62  0.38]\n",
      "auc_score =  0.5 \tfeature importances: [ 0.28  0.72]\n",
      "auc_score =  0.499961419753 \tfeature importances: [ 0.5  0.5]\n",
      "auc_score =  0.499961419753 \tfeature importances: [ 0.44  0.56]\n",
      "auc_score =  0.5 \tfeature importances: [ 0.4  0.6]\n",
      "auc_score =  0.5 \tfeature importances: [ 0.36  0.64]\n",
      "auc_score =  0.499961419753 \tfeature importances: [ 0.58  0.42]\n",
      "auc_score =  0.499961419753 \tfeature importances: [ 0.36  0.64]\n",
      "auc_score =  0.49994212963 \tfeature importances: [ 0.44  0.56]\n",
      "auc_score =  0.499980709877 \tfeature importances: [ 0.64  0.36]\n",
      "auc_score =  0.5 \tfeature importances: [ 0.5  0.5]\n",
      "auc_score =  0.5 \tfeature importances: [ 0.44  0.56]\n",
      "auc_score =  0.499980709877 \tfeature importances: [ 0.5  0.5]\n",
      "auc_score =  0.499961419753 \tfeature importances: [ 0.42  0.58]\n",
      "auc_score =  0.5 \tfeature importances: [ 0.32  0.68]\n",
      "auc_score =  0.5 \tfeature importances: [ 0.52  0.48]\n",
      "auc_score =  0.499980709877 \tfeature importances: [ 0.6  0.4]\n",
      "auc_score =  0.5 \tfeature importances: [ 0.52  0.48]\n",
      "auc_score =  0.499980709877 \tfeature importances: [ 0.46  0.54]\n",
      "auc_score =  0.5 \tfeature importances: [ 0.52  0.48]\n",
      "auc_score =  0.499980709877 \tfeature importances: [ 0.46  0.54]\n",
      "auc_score =  0.5 \tfeature importances: [ 0.48  0.52]\n",
      "auc_score =  0.499961419753 \tfeature importances: [ 0.5  0.5]\n",
      "auc_score =  0.5 \tfeature importances: [ 0.46  0.54]\n",
      "auc_score =  0.49994212963 \tfeature importances: [ 0.42  0.58]\n",
      "auc_score =  0.499961419753 \tfeature importances: [ 0.54  0.46]\n",
      "auc_score =  0.499980709877 \tfeature importances: [ 0.48  0.52]\n",
      "auc_score =  0.5 \tfeature importances: [ 0.56  0.44]\n",
      "auc_score =  0.499980709877 \tfeature importances: [ 0.4  0.6]\n",
      "auc_score =  0.49994212963 \tfeature importances: [ 0.62  0.38]\n",
      "auc_score =  0.5 \tfeature importances: [ 0.52  0.48]\n",
      "auc_score =  0.5 \tfeature importances: [ 0.54  0.46]\n",
      "auc_score =  0.5 \tfeature importances: [ 0.52  0.48]\n",
      "auc_score =  0.5 \tfeature importances: [ 0.42  0.58]\n",
      "auc_score =  0.499961419753 \tfeature importances: [ 0.6  0.4]\n",
      "auc_score =  0.499980709877 \tfeature importances: [ 0.56  0.44]\n",
      "auc_score =  0.499980709877 \tfeature importances: [ 0.52  0.48]\n",
      "auc_score =  0.5 \tfeature importances: [ 0.5  0.5]\n",
      "auc_score =  0.5 \tfeature importances: [ 0.36  0.64]\n",
      "auc_score =  0.499980709877 \tfeature importances: [ 0.74  0.26]\n",
      "auc_score =  0.499980709877 \tfeature importances: [ 0.4  0.6]\n",
      "auc_score =  0.5 \tfeature importances: [ 0.52  0.48]\n",
      "auc_score =  0.5 \tfeature importances: [ 0.42  0.58]\n",
      "auc_score =  0.499980709877 \tfeature importances: [ 0.58  0.42]\n",
      "auc_score =  0.499980709877 \tfeature importances: [ 0.58  0.42]\n",
      "auc_score =  0.5 \tfeature importances: [ 0.46  0.54]\n",
      "auc_score =  0.499980709877 \tfeature importances: [ 0.64  0.36]\n",
      "auc_score =  0.5 \tfeature importances: [ 0.5  0.5]\n",
      "auc_score =  0.499961419753 \tfeature importances: [ 0.58  0.42]\n",
      "auc_score =  0.5 \tfeature importances: [ 0.38  0.62]\n",
      "auc_score =  0.49994212963 \tfeature importances: [ 0.46  0.54]\n",
      "auc_score =  0.499961419753 \tfeature importances: [ 0.48  0.52]\n",
      "auc_score =  0.5 \tfeature importances: [ 0.54  0.46]\n",
      "auc_score =  0.499980709877 \tfeature importances: [ 0.56  0.44]\n",
      "auc_score =  0.5 \tfeature importances: [ 0.54  0.46]\n",
      "auc_score =  0.499980709877 \tfeature importances: [ 0.34  0.66]\n",
      "auc_score =  0.5 \tfeature importances: [ 0.48  0.52]\n",
      "auc_score =  0.5 \tfeature importances: [ 0.54  0.46]\n",
      "auc_score =  0.5 \tfeature importances: [ 0.32  0.68]\n",
      "auc_score =  0.5 \tfeature importances: [ 0.46  0.54]\n",
      "auc_score =  0.499980709877 \tfeature importances: [ 0.5  0.5]\n",
      "auc_score =  0.500424382716 \tfeature importances: [ 0.58  0.42]\n",
      "auc_score =  0.5 \tfeature importances: [ 0.52  0.48]\n",
      "auc_score =  0.499980709877 \tfeature importances: [ 0.56  0.44]\n",
      "auc_score =  0.499980709877 \tfeature importances: [ 0.46  0.54]\n",
      "auc_score =  0.5 \tfeature importances: [ 0.58  0.42]\n",
      "auc_score =  0.499980709877 \tfeature importances: [ 0.4  0.6]\n",
      "auc_score =  0.499980709877 \tfeature importances: [ 0.68  0.32]\n",
      "auc_score =  0.5 \tfeature importances: [ 0.4  0.6]\n",
      "auc_score =  0.49994212963 \tfeature importances: [ 0.44  0.56]\n",
      "auc_score =  0.5 \tfeature importances: [ 0.38  0.62]\n",
      "auc_score =  0.5 \tfeature importances: [ 0.7  0.3]\n",
      "auc_score =  0.5 \tfeature importances: [ 0.56  0.44]\n",
      "auc_score =  0.5 \tfeature importances: [ 0.64  0.36]\n",
      "auc_score =  0.499980709877 \tfeature importances: [ 0.48  0.52]\n",
      "auc_score =  0.499961419753 \tfeature importances: [ 0.42  0.58]\n",
      "auc_score =  0.5 \tfeature importances: [ 0.48  0.52]\n",
      "auc_score =  0.499961419753 \tfeature importances: [ 0.4  0.6]\n",
      "auc_score =  0.5 \tfeature importances: [ 0.5  0.5]\n",
      "auc_score =  0.5 \tfeature importances: [ 0.52  0.48]\n",
      "auc_score =  0.499903549383 \tfeature importances: [ 0.34  0.66]\n",
      "auc_score =  0.5 \tfeature importances: [ 0.44  0.56]\n",
      "auc_score =  0.5 \tfeature importances: [ 0.34  0.66]\n",
      "auc_score =  0.499961419753 \tfeature importances: [ 0.62  0.38]\n",
      "auc_score =  0.5 \tfeature importances: [ 0.48  0.52]\n",
      "auc_score =  0.5 \tfeature importances: [ 0.48  0.52]\n",
      "auc_score =  0.499980709877 \tfeature importances: [ 0.38  0.62]\n",
      "auc_score =  0.499980709877 \tfeature importances: [ 0.4  0.6]\n",
      "auc_score =  0.49994212963 \tfeature importances: [ 0.34  0.66]\n",
      "auc_score =  0.5 \tfeature importances: [ 0.5  0.5]\n",
      "auc_score =  0.5 \tfeature importances: [ 0.56  0.44]\n",
      "auc_score =  0.5 \tfeature importances: [ 0.48  0.52]\n",
      "auc_score =  0.5 \tfeature importances: [ 0.54  0.46]\n",
      "auc_score =  0.49994212963 \tfeature importances: [ 0.74  0.26]\n",
      "auc_score =  0.499980709877 \tfeature importances: [ 0.36  0.64]\n",
      "auc_score =  0.49994212963 \tfeature importances: [ 0.48  0.52]\n",
      "auc_score =  0.499961419753 \tfeature importances: [ 0.54  0.46]\n",
      "auc_score =  0.5 \tfeature importances: [ 0.42  0.58]\n",
      "auc_score =  0.5 \tfeature importances: [ 0.52  0.48]\n",
      "auc_score =  0.499980709877 \tfeature importances: [ 0.56  0.44]\n",
      "auc_score =  0.499980709877 \tfeature importances: [ 0.6  0.4]\n",
      "auc_score =  0.499980709877 \tfeature importances: [ 0.4  0.6]\n",
      "auc_score =  0.5 \tfeature importances: [ 0.58  0.42]\n",
      "auc_score =  0.5 \tfeature importances: [ 0.54  0.46]\n",
      "auc_score =  0.5 \tfeature importances: [ 0.52  0.48]\n",
      "auc_score =  0.5 \tfeature importances: [ 0.34  0.66]\n",
      "auc_score =  0.499980709877 \tfeature importances: [ 0.32  0.68]\n",
      "auc_score =  0.5 \tfeature importances: [ 0.44  0.56]\n",
      "auc_score =  0.499980709877 \tfeature importances: [ 0.74  0.26]\n",
      "auc_score =  0.5 \tfeature importances: [ 0.72  0.28]\n",
      "auc_score =  0.499980709877 \tfeature importances: [ 0.52  0.48]\n",
      "auc_score =  0.499922839506 \tfeature importances: [ 0.52  0.48]\n",
      "auc_score =  0.5 \tfeature importances: [ 0.42  0.58]\n",
      "auc_score =  0.499961419753 \tfeature importances: [ 0.7  0.3]\n",
      "auc_score =  0.5 \tfeature importances: [ 0.42  0.58]\n",
      "auc_score =  0.5 \tfeature importances: [ 0.62  0.38]\n",
      "auc_score =  0.499961419753 \tfeature importances: [ 0.44  0.56]\n",
      "auc_score =  0.5 \tfeature importances: [ 0.38  0.62]\n",
      "auc_score =  0.5 \tfeature importances: [ 0.52  0.48]\n",
      "auc_score =  0.49994212963 \tfeature importances: [ 0.66  0.34]\n",
      "auc_score =  0.499980709877 \tfeature importances: [ 0.5  0.5]\n",
      "auc_score =  0.499980709877 \tfeature importances: [ 0.56  0.44]\n",
      "auc_score =  0.5 \tfeature importances: [ 0.5  0.5]\n",
      "auc_score =  0.5 \tfeature importances: [ 0.36  0.64]\n",
      "auc_score =  0.5 \tfeature importances: [ 0.38  0.62]\n",
      "auc_score =  0.499980709877 \tfeature importances: [ 0.44  0.56]\n",
      "auc_score =  0.499980709877 \tfeature importances: [ 0.48  0.52]\n",
      "auc_score =  0.499980709877 \tfeature importances: [ 0.52  0.48]\n",
      "auc_score =  0.5 \tfeature importances: [ 0.44  0.56]\n",
      "auc_score =  0.5 \tfeature importances: [ 0.44  0.56]\n",
      "auc_score =  0.499980709877 \tfeature importances: [ 0.56  0.44]\n",
      "auc_score =  0.5 \tfeature importances: [ 0.38  0.62]\n"
     ]
    }
   ],
   "source": [
    "#find min and max timestamps\n",
    "\n",
    "start = df.index.min()\n",
    "end = df.index.max()\n",
    "\n",
    "#round start \n",
    "start.seconds=0\n",
    "start.minutes=0\n",
    "\n",
    "ref = window * Hour()\n",
    "sub = 1 * Hour()\n",
    "\n",
    "# loop over them\n",
    "ti=start+ref+sub\n",
    "count=0\n",
    "while ti < end + 1 * Minute():\n",
    "    ref_start = ti-ref-sub\n",
    "    ref_end = ti-sub\n",
    "    ref_df = df[(df.index >= ref_start) & (df.index < ref_end)]\n",
    "    #print(\"In while loop: ref_df: \", ref_df)\n",
    "    sub_df = df[(df.index >= ref_end) & (df.index < ti)]\n",
    "    #print(\"In while loop: sub_df: \", sub_df)\n",
    "    auc_score = check_for_anomaly(ref_df, sub_df)\n",
    "    df.loc[(df.index>=ref_end) & (df.index<=ti),['auc_score']] = auc_score\n",
    "    #print(ti,\"\\trefes:\" , ref_df.shape[0], \"\\tsubjects:\", sub_df.shape[0], '\\tauc:', auc_score)\n",
    "    ti = ti + sub\n",
    "    count=count+1\n",
    "    #if count>2: break\n"
   ]
  },
  {
   "cell_type": "code",
   "execution_count": 14,
   "metadata": {},
   "outputs": [
    {
     "name": "stdout",
     "output_type": "stream",
     "text": [
      "2017-08-01 00:00:00\n",
      "2017-08-07 23:59:59\n"
     ]
    }
   ],
   "source": [
    "print(start)\n",
    "print(end)"
   ]
  },
  {
   "cell_type": "code",
   "execution_count": 15,
   "metadata": {},
   "outputs": [
    {
     "data": {
      "text/plain": [
       "<matplotlib.axes._subplots.AxesSubplot at 0x7f1cf60afc88>"
      ]
     },
     "execution_count": 15,
     "metadata": {},
     "output_type": "execute_result"
    },
    {
     "data": {
      "image/png": "[encoded data removed]",
      "text/plain": [
       "<matplotlib.figure.Figure at 0x7f1cf6104c88>"
      ]
     },
     "metadata": {},
     "output_type": "display_data"
    }
   ],
   "source": [
    "df.plot(figsize=(20,7))"
   ]
  },
  {
   "cell_type": "code",
   "execution_count": 16,
   "metadata": {},
   "outputs": [
    {
     "data": {
      "image/png": "[encoded data removed]",
      "text/plain": [
       "<matplotlib.figure.Figure at 0x7f1cf606cb70>"
      ]
     },
     "metadata": {},
     "output_type": "display_data"
    }
   ],
   "source": [
    "fig, ax = plt.subplots(figsize=(20,7))\n",
    "df.loc[:,'Detected'] = 0\n",
    "df.loc[df.auc_score>0.55,'Detected']=1\n",
    "df.head()\n",
    "ax.plot(df.Flag, 'r')\n",
    "ax.plot(df.auc_score,'g')\n",
    "ax.fill( df.Detected, 'b', alpha=0.3)\n",
    "ax.legend(loc='upper left')\n",
    "plt.show()"
   ]
  }
 ],
 "metadata": {
  "kernelspec": {
   "display_name": "Python 3",
   "language": "python",
   "name": "python3"
  },
  "language_info": {
   "codemirror_mode": {
    "name": "ipython",
    "version": 3
   },
   "file_extension": ".py",
   "mimetype": "text/x-python",
   "name": "python",
   "nbconvert_exporter": "python",
   "pygments_lexer": "ipython3",
   "version": "3.4.5"
  }
 },
 "nbformat": 4,
 "nbformat_minor": 1
}
