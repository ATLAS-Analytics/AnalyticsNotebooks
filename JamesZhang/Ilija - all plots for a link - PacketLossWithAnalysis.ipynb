{
 "cells": [
  {
   "cell_type": "markdown",
   "metadata": {},
   "source": [
    "## Plots delays, throughputs, packet loss and path for a selected link"
   ]
  },
  {
   "cell_type": "code",
   "execution_count": 1,
   "metadata": {
    "collapsed": false
   },
   "outputs": [],
   "source": [
    "%matplotlib inline\n",
    "from elasticsearch import Elasticsearch\n",
    "from elasticsearch.helpers import scan\n",
    "from datetime import datetime\n",
    "import math\n",
    "import matplotlib.pyplot as plt\n",
    "import matplotlib.mlab as mlab\n",
    "from matplotlib import gridspec\n",
    "from datetime import datetime\n",
    "import numpy as np\n",
    "import pandas as pd\n",
    "\n",
    "es = Elasticsearch(['atlas-kibana.mwt2.org:9200'],timeout=60)\n",
    "indices = \"network_weather-2017.8.*\"\n",
    "\n",
    "my_query = {}\n",
    "\n",
    "from sklearn import tree\n",
    "\n",
    "from sklearn.model_selection import cross_val_score\n",
    "from sklearn.ensemble import AdaBoostClassifier\n",
    "from sklearn.tree import DecisionTreeClassifier\n",
    "\n",
    "import time"
   ]
  },
  {
   "cell_type": "markdown",
   "metadata": {},
   "source": [
    "##  Select your link"
   ]
  },
  {
   "cell_type": "code",
   "execution_count": 2,
   "metadata": {
    "collapsed": false
   },
   "outputs": [],
   "source": [
    "# sS='UC'\n",
    "# srcSiteOWDServer = \"192.170.227.160\"\n",
    "# srcSiteThroughputServer = \"192.170.227.162\"\n",
    "\n",
    "sS='CERN-PROD'\n",
    "srcSiteOWDServer = \"128.142.223.247\"\n",
    "#srcSiteThroughputServer = \"128.142.223.246\"\n",
    "\n",
    "# dS='IU'\n",
    "# destSiteOWDServer = \"149.165.225.223\"\n",
    "# destSiteThroughputServer = \"149.165.225.224\"\n",
    "\n",
    "# dS='UIUC'\n",
    "# destSiteOWDServer = \"72.36.96.4\"\n",
    "# destSiteThroughputServer = \"72.36.96.9\"\n",
    "\n",
    "# dS='ICCN'\n",
    "# destSiteOWDServer = \"72.36.96.4\"\n",
    "# destSiteThroughputServer = \"72.36.126.132\"\n",
    "\n",
    "dS='pic'\n",
    "destSiteOWDServer = \"193.109.172.188\"\n",
    "#destSiteThroughputServer = \"193.109.172.187\""
   ]
  },
  {
   "cell_type": "markdown",
   "metadata": {},
   "source": [
    "## Get the data from Elasticsearch, and store the record based on its type"
   ]
  },
  {
   "cell_type": "code",
   "execution_count": 3,
   "metadata": {
    "collapsed": false
   },
   "outputs": [],
   "source": [
    "my_query = {\n",
    "    'query': { \n",
    "       'bool':{\n",
    "            'must':[\n",
    "                    {'range': {'timestamp': {'gte': '20170802T000000Z', 'lt': '20170810T000000Z'}}},\n",
    "                        {'bool':\n",
    "                            {'should':[\n",
    "                                {'term': {'src': srcSiteOWDServer}},\n",
    "                                #{'term': {'src': srcSiteThroughputServer}},\n",
    "                                {'term': {'src': destSiteOWDServer}},\n",
    "                                #{'term': {'src': destSiteThroughputServer}}\n",
    "                            ]}\n",
    "                        },\n",
    "                        {'bool':\n",
    "                            {'should':[\n",
    "                                {'term': {'dest': destSiteOWDServer}},\n",
    "                                #{'term': {'dest': destSiteThroughputServer}},\n",
    "                                {'term': {'dest': srcSiteOWDServer}},\n",
    "                                #{'term': {'dest': srcSiteThroughputServer}}\n",
    "                            ]}\n",
    "                        }\n",
    "                    ]\n",
    "                }\n",
    "        \n",
    "        }\n",
    "    }\n",
    "\n",
    "\n",
    "scroll = list(scan(client=es, index=indices, query=my_query))\n"
   ]
  },
  {
   "cell_type": "code",
   "execution_count": 67,
   "metadata": {
    "collapsed": false,
    "scrolled": true
   },
   "outputs": [
    {
     "name": "stdout",
     "output_type": "stream",
     "text": [
      "1970-01-01 00:00:00\n",
      "{'_id': 'AV2_JpDONILXDji8tU3c', '_score': None, '_type': 'packet_loss_rate', '_index': 'network_weather-2017.8.8', 'sort': [662], '_source': {'dest': '193.109.172.188', 'srcProduction': True, 'timestamp': 1502150417000, 'ipv6': False, 'srcSite': 'CERN-PROD', 'packet_loss': 0.0, 'src': '128.142.223.247', 'destVO': 'ATLAS', 'destProduction': True, 'destSite': 'pic', 'srcVO': 'ATLAS', 'src_host': 'perfsonar-lt.cern.ch', 'MA': '128.142.223.247', 'dest_host': 'psl01.pic.es'}}\n",
      "2017-08-08 00:00:17\n",
      "{'_id': 'AV2_JpNZNILXDji8tVDH', '_score': None, '_type': 'latency', '_index': 'network_weather-2017.8.8', 'sort': [688], '_source': {'dest': '128.142.223.247', 'srcProduction': True, 'timestamp': 1502150529000, 'delay_mean': 15.455499999999999, 'ipv6': False, 'srcSite': 'pic', 'src': '193.109.172.188', 'delay_sd': 0.6394993484489775, 'destVO': 'ATLAS', 'destProduction': True, 'destSite': 'CERN-PROD', 'delay_median': 22.96, 'src_host': 'psl01.pic.es', 'MA': '193.109.172.188', 'dest_host': 'perfsonar-lt.cern.ch', 'srcVO': 'ATLAS'}}\n",
      "{'_id': 'AV2_JpPcNILXDji8tVM3', '_score': None, '_type': 'packet_loss_rate', '_index': 'network_weather-2017.8.8', 'sort': [718], '_source': {'dest': '128.142.223.247', 'srcProduction': True, 'timestamp': 1502150469000, 'ipv6': False, 'srcSite': 'pic', 'packet_loss': 0.0033333333333333335, 'src': '193.109.172.188', 'destVO': 'ATLAS', 'destProduction': True, 'destSite': 'CERN-PROD', 'srcVO': 'ATLAS', 'src_host': 'psl01.pic.es', 'MA': '193.109.172.188', 'dest_host': 'perfsonar-lt.cern.ch'}}\n",
      "{'_id': 'AV2_JqhONILXDji8tWdx', '_score': None, '_type': 'latency', '_index': 'network_weather-2017.8.8', 'sort': [960], '_source': {'dest': '193.109.172.188', 'srcProduction': True, 'timestamp': 1502150477000, 'delay_mean': 15.080649999999999, 'ipv6': False, 'srcSite': 'CERN-PROD', 'src': '128.142.223.247', 'delay_sd': 0.10844696476465665, 'destVO': 'ATLAS', 'destProduction': True, 'destSite': 'pic', 'delay_median': 15.05, 'src_host': 'perfsonar-lt.cern.ch', 'MA': '128.142.223.247', 'dest_host': 'psl01.pic.es', 'srcVO': 'ATLAS'}}\n",
      "{'_id': 'AV2_JqhONILXDji8tWd3', '_score': None, '_type': 'latency', '_index': 'network_weather-2017.8.8', 'sort': [961], '_source': {'dest': '193.109.172.188', 'srcProduction': True, 'timestamp': 1502150542000, 'delay_mean': 15.07921535893155, 'ipv6': False, 'srcSite': 'CERN-PROD', 'src': '128.142.223.247', 'delay_sd': 0.06859587709978064, 'destVO': 'ATLAS', 'destProduction': True, 'destSite': 'pic', 'delay_median': 15.06, 'src_host': 'perfsonar-lt.cern.ch', 'MA': '128.142.223.247', 'dest_host': 'psl01.pic.es', 'srcVO': 'ATLAS'}}\n",
      "{'_id': 'AV2oR6kvNILXDji8K2no', '_score': None, '_type': 'link_utilization', '_index': 'network_weather-2017.8.3', 'sort': [1135], '_source': {'dest': '128.142.223.247', 'src': '193.109.172.188', 'srcProduction': True, 'MA': '172.17.0.2', 'destVO': 'ATLAS', 'destProduction': True, 'destSite': 'CERN-PROD', 'srcVO': 'ATLAS', 'timestamp': 1501766843000, 'srcSite': 'pic', 'sim_util': '0.0131917670369'}}\n",
      "{'_id': 'AV2oR442NILXDji8K2BN', '_score': None, '_type': 'latency', '_index': 'network_weather-2017.8.3', 'sort': [1188], '_source': {'dest': '128.142.223.247', 'srcProduction': True, 'timestamp': 1501766678000, 'delay_mean': 16.873166666666663, 'ipv6': False, 'srcSite': 'pic', 'src': '193.109.172.188', 'delay_sd': 27.08422283000854, 'destVO': 'ATLAS', 'destProduction': True, 'destSite': 'CERN-PROD', 'delay_median': 15.26, 'src_host': 'psl01.pic.es', 'MA': '193.109.172.188', 'dest_host': 'perfsonar-lt.cern.ch', 'srcVO': 'ATLAS'}}\n",
      "{'_id': 'AV2oR442NILXDji8K2BP', '_score': None, '_type': 'latency', '_index': 'network_weather-2017.8.3', 'sort': [1189], '_source': {'dest': '128.142.223.247', 'srcProduction': True, 'timestamp': 1501766738000, 'delay_mean': 15.277799999999997, 'ipv6': False, 'srcSite': 'pic', 'src': '193.109.172.188', 'delay_sd': 0.24986695126273364, 'destVO': 'ATLAS', 'destProduction': True, 'destSite': 'CERN-PROD', 'delay_median': 15.24, 'src_host': 'psl01.pic.es', 'MA': '193.109.172.188', 'dest_host': 'perfsonar-lt.cern.ch', 'srcVO': 'ATLAS'}}\n",
      "{'_id': 'AV2oR442NILXDji8K2BQ', '_score': None, '_type': 'latency', '_index': 'network_weather-2017.8.3', 'sort': [1190], '_source': {'dest': '128.142.223.247', 'srcProduction': True, 'timestamp': 1501766630000, 'delay_mean': 15.31555, 'ipv6': False, 'srcSite': 'pic', 'src': '193.109.172.188', 'delay_sd': 0.32534755390709996, 'destVO': 'ATLAS', 'destProduction': True, 'destSite': 'CERN-PROD', 'delay_median': 22.884999999999998, 'src_host': 'psl01.pic.es', 'MA': '193.109.172.188', 'dest_host': 'perfsonar-lt.cern.ch', 'srcVO': 'ATLAS'}}\n",
      "{'_id': 'AV2oR442NILXDji8K2BS', '_score': None, '_type': 'latency', '_index': 'network_weather-2017.8.3', 'sort': [1191], '_source': {'dest': '128.142.223.247', 'srcProduction': True, 'timestamp': 1501766798000, 'delay_mean': 15.531833333333331, 'ipv6': False, 'srcSite': 'pic', 'src': '193.109.172.188', 'delay_sd': 3.207863459098941, 'destVO': 'ATLAS', 'destProduction': True, 'destSite': 'CERN-PROD', 'delay_median': 15.24, 'src_host': 'psl01.pic.es', 'MA': '193.109.172.188', 'dest_host': 'perfsonar-lt.cern.ch', 'srcVO': 'ATLAS'}}\n"
     ]
    }
   ],
   "source": [
    "#site = {srcSiteOWDServer: sS, srcSiteThroughputServer: sS, destSiteOWDServer:dS, destSiteThroughputServer:dS}\n",
    "site = {srcSiteOWDServer: sS, destSiteOWDServer:dS}\n",
    "data = {sS:pd.DataFrame(),dS:pd.DataFrame()}\n",
    "epoch = datetime.utcfromtimestamp(0)\n",
    "count = 0\n",
    "print(epoch)\n",
    "\n",
    "for res in scroll:\n",
    "    if count<10: print(res)\n",
    "    count += 1\n",
    "#     dt=datetime.strptime(res['_source']['timestamp'], '%Y-%m-%dT%H:%M:%S') # for data before Oct. 15 2016\n",
    "    dt=datetime.utcfromtimestamp(res['_source']['timestamp']/1000.0)\n",
    "    ts = (dt - epoch).total_seconds() * 1000.0\n",
    "    s=site[res['_source']['src']]\n",
    "    data[s].set_value(ts, 'timestamp', dt)\n",
    "    column_type = res['_type']\n",
    "#    if column_type == 'latency':\n",
    "#        data[s].set_value( ts, 'delay_median', res['_source']['delay_median'])\n",
    "#        data[s].set_value( ts, 'delay_mean', res['_source']['delay_mean'])\n",
    "#        data[s].set_value( ts, 'delay_sd', res['_source']['delay_sd'])\n",
    "    if column_type == 'packet_loss_rate':\n",
    "        data[s].set_value( ts, 'packet_loss', res['_source']['packet_loss'])\n",
    "#    elif column_type == 'throughput':\n",
    "#        data[s].set_value( ts, 'throughput', res['_source']['throughput']/1024./1024./1024.)\n",
    "#    elif column_type == 'traceroute':\n",
    "#        data[s].set_value( ts, 'hash', res['_source']['hash'])\n",
    "    if count<2: print(dt)"
   ]
  },
  {
   "cell_type": "code",
   "execution_count": 65,
   "metadata": {
    "collapsed": false
   },
   "outputs": [
    {
     "name": "stdout",
     "output_type": "stream",
     "text": [
      "                       timestamp  packet_loss\n",
      "1.501632e+12 2017-08-02 00:00:41     0.000000\n",
      "1.501632e+12 2017-08-02 00:00:58     0.000000\n",
      "1.501632e+12 2017-08-02 00:01:41     0.000000\n",
      "1.501632e+12 2017-08-02 00:01:58     0.000000\n",
      "1.501632e+12 2017-08-02 00:02:41     0.000000\n",
      "1.501632e+12 2017-08-02 00:02:58     0.000000\n",
      "1.501632e+12 2017-08-02 00:03:41     0.000000\n",
      "1.501632e+12 2017-08-02 00:03:58     0.000000\n",
      "1.501632e+12 2017-08-02 00:04:42     0.000000\n",
      "1.501632e+12 2017-08-02 00:04:59     0.000000\n",
      "1.501632e+12 2017-08-02 00:05:16          NaN\n",
      "1.501632e+12 2017-08-02 00:05:42     0.000000\n",
      "1.501632e+12 2017-08-02 00:05:59     0.000000\n",
      "1.501632e+12 2017-08-02 00:06:47     0.000000\n",
      "1.501632e+12 2017-08-02 00:06:59     0.000000\n",
      "1.501632e+12 2017-08-02 00:07:52     0.000000\n",
      "1.501632e+12 2017-08-02 00:07:59     0.000000\n",
      "1.501633e+12 2017-08-02 00:08:52     0.000000\n",
      "1.501633e+12 2017-08-02 00:08:59     0.000000\n",
      "1.501633e+12 2017-08-02 00:09:22          NaN\n",
      "1.501633e+12 2017-08-02 00:09:52     0.000000\n",
      "1.501633e+12 2017-08-02 00:09:59     0.000000\n",
      "1.501633e+12 2017-08-02 00:10:52     0.000000\n",
      "1.501633e+12 2017-08-02 00:10:59     0.000000\n",
      "1.501633e+12 2017-08-02 00:11:52     0.000000\n",
      "1.501633e+12 2017-08-02 00:11:59     0.000000\n",
      "1.501633e+12 2017-08-02 00:12:52     0.000000\n",
      "1.501633e+12 2017-08-02 00:12:59     0.000000\n",
      "1.501633e+12 2017-08-02 00:13:53     0.000000\n",
      "1.501633e+12 2017-08-02 00:13:59     0.000000\n",
      "...                          ...          ...\n",
      "1.502322e+12 2017-08-09 23:46:24     0.000000\n",
      "1.502322e+12 2017-08-09 23:46:32     0.000000\n",
      "1.502322e+12 2017-08-09 23:47:03          NaN\n",
      "1.502322e+12 2017-08-09 23:47:24     0.000000\n",
      "1.502322e+12 2017-08-09 23:47:32     0.000000\n",
      "1.502323e+12 2017-08-09 23:48:24     0.000000\n",
      "1.502323e+12 2017-08-09 23:48:32     0.000000\n",
      "1.502323e+12 2017-08-09 23:49:24     0.000000\n",
      "1.502323e+12 2017-08-09 23:49:32     0.000000\n",
      "1.502323e+12 2017-08-09 23:50:24     0.000000\n",
      "1.502323e+12 2017-08-09 23:50:32     0.000000\n",
      "1.502323e+12 2017-08-09 23:51:24     0.000000\n",
      "1.502323e+12 2017-08-09 23:51:32     0.000000\n",
      "1.502323e+12 2017-08-09 23:52:24     0.000000\n",
      "1.502323e+12 2017-08-09 23:52:32     0.000000\n",
      "1.502323e+12 2017-08-09 23:53:24     0.000000\n",
      "1.502323e+12 2017-08-09 23:53:33     0.000000\n",
      "1.502323e+12 2017-08-09 23:54:25     0.000000\n",
      "1.502323e+12 2017-08-09 23:54:33     0.000000\n",
      "1.502323e+12 2017-08-09 23:55:25     0.001667\n",
      "1.502323e+12 2017-08-09 23:55:33     0.000000\n",
      "1.502323e+12 2017-08-09 23:56:25     0.000000\n",
      "1.502323e+12 2017-08-09 23:56:33     0.000000\n",
      "1.502323e+12 2017-08-09 23:57:25     0.000000\n",
      "1.502323e+12 2017-08-09 23:57:33     0.000000\n",
      "1.502323e+12 2017-08-09 23:58:25     0.000000\n",
      "1.502323e+12 2017-08-09 23:58:33     0.000000\n",
      "1.502323e+12 2017-08-09 23:59:18          NaN\n",
      "1.502323e+12 2017-08-09 23:59:25     0.000000\n",
      "1.502323e+12 2017-08-09 23:59:33     0.001667\n",
      "\n",
      "[23229 rows x 2 columns]\n"
     ]
    }
   ],
   "source": [
    "data[sS].sort_index(inplace=True) \n",
    "data[sS].describe()\n",
    "\n",
    "data[dS].sort_index(inplace=True) \n",
    "data[dS].describe()\n",
    "\n",
    "print(data[sS])"
   ]
  },
  {
   "cell_type": "markdown",
   "metadata": {},
   "source": [
    "### Extract values"
   ]
  },
  {
   "cell_type": "code",
   "execution_count": 6,
   "metadata": {
    "collapsed": false
   },
   "outputs": [],
   "source": [
    "F = data[sS]\n",
    "B = data[dS]\n",
    "#Fthr = F[F.throughput.notnull()]    # Get the lines (i.e. times) whose throughput is not null\n",
    "#Bthr = B[B.throughput.notnull()]  \n",
    "Fpl = F[F.packet_loss.notnull()]\n",
    "Bpl = B[B.packet_loss.notnull()]\n",
    "# Fd = F[F.delay_mean.notnull()]\n",
    "# Bd = B[B.delay_mean.notnull()]\n",
    "#Fd = F[F.delay_mean<150]\n",
    "#Bd = B[B.delay_mean<150]\n",
    "#Jd = Fd.join(Bd,how='inner', rsuffix=\"_back\")\n",
    "#Jd['dmean']= (Jd.delay_mean + Jd.delay_mean_back)/2\n",
    "\n",
    "#Fh = F[F.hash.notnull()]\n",
    "#Bh = B[B.hash.notnull()]\n",
    "Fids=[];Bids=[]\n",
    "Fu=[];Bu=[]\n",
    "\n",
    "#for fi in Fh.hash.tolist():\n",
    "#    if fi not in Fu: Fu.append(fi)\n",
    "#    Fids.append(Fu.index(fi))\n",
    "#for fi in Bh.hash.tolist():\n",
    "#    if fi not in Bu: Bu.append(fi)\n",
    "#    Bids.append(Bu.index(fi))"
   ]
  },
  {
   "cell_type": "markdown",
   "metadata": {
    "collapsed": false,
    "scrolled": true
   },
   "source": [
    "#### interpolate all the values and leave only onese where all 4 measurements are there"
   ]
  },
  {
   "cell_type": "code",
   "execution_count": 69,
   "metadata": {
    "collapsed": false
   },
   "outputs": [
    {
     "name": "stdout",
     "output_type": "stream",
     "text": [
      "(23226, 2) (23378, 2)\n"
     ]
    }
   ],
   "source": [
    "NF=F.interpolate(method='index',limit=1,limit_direction='both')\n",
    "#NFall = NF[NF.throughput.notnull()]\n",
    "#NFall = NFall[NFall.delay_mean.notnull()]\n",
    "NFall = NF[NF.packet_loss.notnull()]\n",
    "#NFall = NFall[NFall.hash.notnull()]\n",
    "\n",
    "NB=B.interpolate(method='index',limit=1,limit_direction='both')\n",
    "#NBal = NB[NB.throughput.notnull()]\n",
    "#NBall = NB[NB.delay_mean.notnull()]\n",
    "NBall = NB[NB.packet_loss.notnull()]\n",
    "print(NFall.shape,NBall.shape)"
   ]
  },
  {
   "cell_type": "code",
   "execution_count": 61,
   "metadata": {
    "collapsed": false
   },
   "outputs": [
    {
     "name": "stdout",
     "output_type": "stream",
     "text": [
      "(23229, 2)\n",
      "(23382, 2)\n"
     ]
    }
   ],
   "source": [
    "#print(NF)\n",
    "#print(NB)\n",
    "\n",
    "print(NF.shape)\n",
    "print(NB.shape)"
   ]
  },
  {
   "cell_type": "code",
   "execution_count": 9,
   "metadata": {
    "collapsed": false
   },
   "outputs": [
    {
     "name": "stdout",
     "output_type": "stream",
     "text": [
      "packet loss forward:  22332  backward:  22594\n"
     ]
    }
   ],
   "source": [
    "#print( 'throughput  forward: ', Fthr.shape[0], ' backward: ', Bthr.shape[0])\n",
    "print( 'packet loss forward: ', Fpl.shape[0],  ' backward: ', Bpl.shape[0])\n",
    "#print( 'delay       forward: ', Fd.shape[0],   ' backward: ', Bd.shape[0])\n",
    "#print( 'hash        forward: ', Fh.shape[0],   ' backward: ', Bh.shape[0])"
   ]
  },
  {
   "cell_type": "code",
   "execution_count": 10,
   "metadata": {
    "collapsed": false,
    "scrolled": true
   },
   "outputs": [
    {
     "data": {
      "image/png": "[encoded data removed]",
      "text/plain": [
       "<matplotlib.figure.Figure at 0x7f7436046710>"
      ]
     },
     "metadata": {},
     "output_type": "display_data"
    }
   ],
   "source": [
    "plt.figure(figsize=[16, 17])\n",
    "gs = gridspec.GridSpec(4, 1)\n",
    "\n",
    "#ax0 = plt.subplot(gs[0])\n",
    "#ax0.plot(Fthr.timestamp.tolist(), Fthr.throughput.tolist(), ls='-', marker='>', c='r', label=sS+'->'+dS)\n",
    "#ax0.plot(Bthr.timestamp.tolist(), Bthr.throughput.tolist(), ls='-', marker='<', c='b', label=dS+'->'+sS)\n",
    "#ax0.set_xlabel('time')\n",
    "#ax0.set_ylabel('throughput [Gbps]')#,rotation='horizontal')\n",
    "#ax0.xlim(xmin=0)\n",
    "#ax0.legend()\n",
    "\n",
    "ax2 = plt.subplot(gs[1])\n",
    "ax2.plot(Fpl.timestamp.tolist(), np.sqrt(Fpl.packet_loss).tolist(), ls='', marker='.', c='r', label=sS+'->'+dS)\n",
    "ax2.plot(Bpl.timestamp.tolist(), np.sqrt(Bpl.packet_loss).tolist(), ls='', marker='.', c='b', label=dS+'->'+sS)\n",
    "ax2.set_xlabel('time')\n",
    "ax2.set_ylabel('sqrt(packet loss) [%]')\n",
    "ax2.legend()\n",
    "\n",
    "#ax4 = plt.subplot(gs[2])\n",
    "#ax4.plot(Fd.timestamp.tolist(), Fd.delay_mean.tolist(), ls='', marker='.', c='r', label=sS+'->'+dS)\n",
    "#ax4.plot(Bd.timestamp.tolist(), Bd.delay_mean.tolist(), ls='', marker='.', c='b', label=dS+'->'+sS)\n",
    "#ax4.plot(Jd.timestamp.tolist(), Jd.dmean.tolist(), ls='-', marker='.', c='g', label='mean delay')\n",
    "#ax4.set_xlabel('time')\n",
    "#ax4.set_ylabel('one way delay [ms]')\n",
    "#ax4.legend()\n",
    "\n",
    "#ax6 = plt.subplot(gs[3])\n",
    "#ax6.plot(Fh.timestamp.tolist(), Fids, ls='', marker='.', c='r', label=sS+'->'+dS)\n",
    "#ax6.plot(Bh.timestamp.tolist(), Bids, ls='', marker='.', c='b', label=dS+'->'+sS)\n",
    "#ax6.set_xlabel('time')\n",
    "#ax6.set_ylabel('path index')\n",
    "#ax6.legend()\n",
    "\n",
    "#plt.savefig('Plots/4PlotForLink_' + sS +'_'+ dS + '.png',dpi=200)\n",
    "plt.show()"
   ]
  },
  {
   "cell_type": "markdown",
   "metadata": {
    "collapsed": true
   },
   "source": [
    "### Boosted Decision Trees"
   ]
  },
  {
   "cell_type": "code",
   "execution_count": 32,
   "metadata": {
    "collapsed": false
   },
   "outputs": [],
   "source": [
    "start_time = time.clock()\n",
    "\n",
    "# clf = AdaBoostClassifier(n_estimators=100)\n",
    "# y=df.Flag\n",
    "# X=df.loc[:,range(n_series)]\n",
    "# scores = cross_val_score(clf, X, y)\n",
    "# print(scores)\n",
    "predicted_flag_array = np.zeros((24*3600), dtype=np.int)\n",
    "auc_score_array = np.zeros((24*3600), dtype=np.float)\n",
    "score_holder_array = np.zeros(3600, dtype=np.float)\n",
    "anomaly_array = np.ones(3600, dtype=np.int)\n",
    "not_anomaly_array = np.zeros(3600, dtype=np.int)\n",
    "\n",
    "#print df\n",
    "\n",
    "#trying to print out the columns where the flag is 1\n",
    "\n",
    "#if (df.iloc[ 2:, -1:] == 1):\n",
    "#    print df\n",
    "#print df.iloc[ :, -1:]\n",
    "#if(df.iloc[-1] == 1):\n",
    "#    print df\n"
   ]
  },
  {
   "cell_type": "code",
   "execution_count": 33,
   "metadata": {
    "collapsed": true
   },
   "outputs": [],
   "source": [
    "#separate data into Reference and Subject\n",
    "def trainer(reference, subject):\n",
    "    refTrainSize = (int)(reference.shape[0] * 0.7) #training size of reference data is 70% of the data\n",
    "    subTrainSize = (int)(subject.shape[0] * 0.7) #training size of subject data is 70% of the data\n",
    "    \n",
    "    reference.loc[:].Flag = 0 # Flagging the reference data as 0\n",
    "    X_ref = reference.loc[:, range(n_series)] #refers to the feature set data\n",
    "    y_ref = reference.Flag #refers to the label data\n",
    "    \n",
    "    subject.loc[:].Flag = 1 # Flagging the subject data as 1\n",
    "    X_sub = subject.loc[:, range(n_series)] #refers to the feature set data\n",
    "    y_sub = subject.Flag #refers to the label data\n",
    "\n",
    "    #separate Reference into Train and Test\n",
    "    X_ref_train = X_ref.loc[:refTrainSize, range(n_series)] #take 70% of the reference feature data\n",
    "    X_ref_test  = X_ref.loc[refTrainSize:, range(n_series)] #take 30% of the reference feature data\n",
    "    y_ref_train = y_ref.loc[:refTrainSize] #take 70% of the reference label data\n",
    "    y_ref_test  = y_ref.loc[refTrainSize:] #take 30% of the reference label data\n",
    "\n",
    "    #separate Subject into Train and Test\n",
    "    X_sub_train = X_sub.loc[:subTrainSize, range(n_series)] #take 70% of the subject feature data\n",
    "    X_sub_test  = X_sub.loc[subTrainSize:, range(n_series)] #take 30% of the subject feature data\n",
    "    y_sub_train = y_sub.loc[:subTrainSize] #take 70% of the subject label data\n",
    "    y_sub_test  = y_sub.loc[subTrainSize:] #take 30% of the subject label data\n",
    "\n",
    "    #Combine reference and subject train datasets\n",
    "    X_train_frames = [X_ref_train, X_sub_train] \n",
    "    X_train = pd.concat(X_train_frames, ignore_index=True) #combine the 70% training data features from both reference and subject\n",
    "    \n",
    "    y_train_frames = [y_ref_train, y_sub_train]\n",
    "    y_train = pd.concat(y_train_frames, ignore_index=True) #combine the 70% training data label from both reference and subject\n",
    "\n",
    "    #Combine reference and subject test datasets\n",
    "    X_test_frames = [X_ref_test, X_sub_test]\n",
    "    X_test = pd.concat(X_test_frames, ignore_index=True) #combine the 30% training data features from both reference and subject\n",
    "    \n",
    "    y_test_frames = [y_ref_test, y_sub_test]\n",
    "    y_test = pd.concat(y_test_frames, ignore_index=True) #combine the 30% training data label from both reference and subject\n",
    "\n",
    "    #Train model using the combined train data\n",
    "    clf = AdaBoostClassifier(n_estimators=50)\n",
    "    clf.fit(X_train, y_train) \n",
    "    #train an AdaBoost model to be able to tell the difference between the reference and subject data\n",
    "\n",
    "    #Predict using the combined test data\n",
    "    y_predict = clf.predict(X_test)\n",
    "    #use the trained AdaBoost model on the testing data. This is the predicted result\n",
    "        \n",
    "    from sklearn.metrics import roc_curve, auc\n",
    "        \n",
    "    #Calculate the AUC\n",
    "        \n",
    "    #from sklearn.preprocessing import LabelBinarizer\n",
    "\n",
    "    # convert False and True to 0 and 1\n",
    "    #lb = LabelBinarizer()\n",
    "    #y_test_transformed = lb.fit_transform(y_test)\n",
    "    #y_predict_transformed = lb.fit_transform(y_predict)\n",
    "    fpr, tpr, thresholds = roc_curve(y_test, y_predict) # calculate the false positive rate and true positive rate\n",
    "    auc_score = auc(fpr, tpr) #calculate the AUC score\n",
    "    #if (auc_score != 0.5):\n",
    "    #    auc_score = 1.0\n",
    "    \n",
    "    score_holder_array.fill(auc_score)\n",
    "    #print (\"score_holder_array = \", score_holder_array)\n",
    "    print (\"auc_score = \", auc_score) #finds the auc score. If auc~.5, then no anomalies. If auc>0.5, then there are anomalies\n",
    "    print (\"feature importance = \", clf.feature_importances_)\n",
    "    \n",
    "    \n",
    "    #from sklearn.externals.six import StringIO  \n",
    "    \n",
    "    #if(auc_score >= 0.55):\n",
    "        #decision_function = clf.staged_decision_function(X_test)\n",
    "        #print (\"decision_function = \", decision_function)\n",
    "        #   tree.export_graphviz(clf)\n",
    "        #  with open(\"tree.txt\", \"w\") as f:\n",
    "        #     f = tree.export_graphviz(clf, out_file=f)\n",
    "        #dot_data = StringIO() \n",
    "        #tree.export_graphviz(clf, out_file=dot_data) \n",
    "        #graph = pydot.graph_from_dot_data(dot_data.getvalue()) \n",
    "        #graph.write_pdf(\"iris.pdf\") \n",
    "    \n",
    "    return [clf, auc_score]"
   ]
  },
  {
   "cell_type": "code",
   "execution_count": 34,
   "metadata": {
    "collapsed": true
   },
   "outputs": [],
   "source": [
    "def rankImportance(clf):\n",
    "    f = 0\n",
    "    importances = clf.feature_importances_\n",
    "    indices = np.argsort(importances)[::-1]\n",
    "    print(\"Feature ranking:\")\n",
    "    while f < 2:\n",
    "        print(\"%d. feature %d (%f)\" % (f + 1, indices[f], importances[indices[f]]))\n",
    "        f = f + 1"
   ]
  },
  {
   "cell_type": "code",
   "execution_count": 35,
   "metadata": {
    "collapsed": false
   },
   "outputs": [],
   "source": [
    "#return data[]"
   ]
  },
  {
   "cell_type": "code",
   "execution_count": 37,
   "metadata": {
    "collapsed": false
   },
   "outputs": [
    {
     "name": "stdout",
     "output_type": "stream",
     "text": [
      "n =  11450.0\n"
     ]
    },
    {
     "ename": "NameError",
     "evalue": "name 'Data' is not defined",
     "output_type": "error",
     "traceback": [
      "\u001b[1;31m---------------------------------------------------------------------------\u001b[0m",
      "\u001b[1;31mNameError\u001b[0m                                 Traceback (most recent call last)",
      "\u001b[1;32m<ipython-input-37-d8863687414b>\u001b[0m in \u001b[0;36m<module>\u001b[1;34m()\u001b[0m\n\u001b[0;32m     20\u001b[0m \u001b[1;33m\u001b[0m\u001b[0m\n\u001b[0;32m     21\u001b[0m     \u001b[0mk\u001b[0m \u001b[1;33m=\u001b[0m \u001b[0mk\u001b[0m \u001b[1;33m+\u001b[0m \u001b[1;36m1\u001b[0m\u001b[1;33m\u001b[0m\u001b[0m\n\u001b[1;32m---> 22\u001b[1;33m     \u001b[0mref\u001b[0m \u001b[1;33m=\u001b[0m \u001b[0mData\u001b[0m\u001b[1;33m[\u001b[0m\u001b[0mm\u001b[0m\u001b[1;33m:\u001b[0m\u001b[0mn\u001b[0m\u001b[1;33m]\u001b[0m \u001b[1;31m#reference data refers to the data collected from the first day\u001b[0m\u001b[1;33m\u001b[0m\u001b[0m\n\u001b[0m\u001b[0;32m     23\u001b[0m     \u001b[0mref_reset_index\u001b[0m \u001b[1;33m=\u001b[0m \u001b[0mref\u001b[0m\u001b[1;33m.\u001b[0m\u001b[0mreset_index\u001b[0m\u001b[1;33m(\u001b[0m\u001b[0mdrop\u001b[0m\u001b[1;33m=\u001b[0m\u001b[1;32mTrue\u001b[0m\u001b[1;33m)\u001b[0m\u001b[1;33m\u001b[0m\u001b[0m\n\u001b[0;32m     24\u001b[0m \u001b[1;33m\u001b[0m\u001b[0m\n",
      "\u001b[1;31mNameError\u001b[0m: name 'Data' is not defined"
     ]
    }
   ],
   "source": [
    "#from sklearn.metrics import roc_curve, auc\n",
    "#from sklearn.preprocessing import LabelBinarizer\n",
    "\n",
    "n_series = 1\n",
    "n_timesteps = count\n",
    "\n",
    "n = 24*3600 # number of seconds in the first day\n",
    "m = 0\n",
    "hour = 3600\n",
    "k = 0\n",
    "#trains an AdaBoost model for every hour after the first day\n",
    "\n",
    "#data from the first day\n",
    "#sub = df[n:n+hour] #subject data refers to the data collected from the last hour\n",
    "#sub_reset_index = sub.reset_index(drop=True)\n",
    "#ref = df[m:n]\n",
    "#ref_reset_index = ref.reset_index(drop=True)\n",
    "#clf, auc_score = trainer(ref_reset_index, sub_reset_index)\n",
    "#drawTree(clf, k, auc_score);\n",
    "\n",
    "while(n <= n_timesteps):\n",
    "    print(\"n = \", n)\n",
    "    \n",
    "    k = k + 1\n",
    "    ref = Data[m:n] #reference data refers to the data collected from the first day\n",
    "    ref_reset_index = ref.reset_index(drop=True)\n",
    "    \n",
    "    sub = data[n:n+hour] #subject data refers to the data collected from the last hour\n",
    "    sub_reset_index = sub.reset_index(drop=True)\n",
    "    \n",
    "    clf, auc_score = trainer(ref_reset_index, sub_reset_index)\n",
    "    \n",
    "    # detect and record anormaly                \n",
    "    if(auc_score >= 0.55):\n",
    "        #or auc_score <= 0.45\n",
    "        predicted_flag_array = np.append(predicted_flag_array, anomaly_array)\n",
    "        #drawTree(clf, k, auc_score) #draws each tree that is produced\n",
    "        rankImportance(clf)\n",
    "        \n",
    "    else:\n",
    "        predicted_flag_array = np.append(predicted_flag_array, not_anomaly_array)\n",
    "    \n",
    "    auc_score_array = np.append(auc_score_array, score_holder_array)\n",
    "        \n",
    "    m = m + hour\n",
    "    n = n + hour\n",
    "\n",
    "    #print(\"score_holder_array = \", score_holder_array)\n",
    "    #print(\"auc_score_array = \", auc_score_array)\n",
    "    #print(\"predicted_flag_array =\", predicted_flag_array)\n",
    "    #print (\"auc_score = \", auc_score)\n",
    "    #print (\"feature importance = \", clf.feature_importances_)\n",
    "        \n",
    "# convert False and True to 0 and 1\n",
    "#lb = LabelBinarizer()\n",
    "#y_test_transformed = lb.fit_transform(y_test)\n",
    "#y_predict_transformed = lb.fit_transform(y_predict)\n",
    "#fpr, tpr, thresholds = roc_curve(y_test, y_predict) # calculate the false positive rate and true positive rate\n",
    "#auc_score = auc(fpr, tpr) #calculate the AUC score\n",
    "#print auc_score #finds the auc score. If auc~.5, then no anomalies. If auc>=0.55 or <=0.45, then there are anomalies"
   ]
  },
  {
   "cell_type": "code",
   "execution_count": null,
   "metadata": {
    "collapsed": false
   },
   "outputs": [],
   "source": [
    "print time.clock() - start_time, \"seconds\"\n",
    "\n",
    "#X=df.loc[:,range(n_series)] # get all the features\n",
    "#y_predict = clf.predict(X)  # predict whole list of Flags\n",
    "y_predict_df = pd.DataFrame(predicted_flag_array[0:n_timesteps], columns=['Predict_Flag']) #label my predicted anomalies\n",
    "# X_test_reset_index = X_test.reset_index(drop=True)\n",
    "\n",
    "x_y_combined = pd.concat([df, y_predict_df], axis=1) #append the column to the right of the original table\n",
    "x_y_combined.plot(style=['-', '-', '-', '-', '-', '-', '-', 'bs--'], figsize=(20,10))"
   ]
  },
  {
   "cell_type": "code",
   "execution_count": null,
   "metadata": {
    "collapsed": false
   },
   "outputs": [],
   "source": [
    "y_predict_df.plot(style=['bs--'], figsize=(20,10))"
   ]
  },
  {
   "cell_type": "code",
   "execution_count": null,
   "metadata": {
    "collapsed": false
   },
   "outputs": [],
   "source": [
    "half_array = np.zeros(n_timesteps, dtype=np.float)\n",
    "half_array.fill(0.5)\n",
    "#print half_array\n",
    "half_df = pd.DataFrame(half_array[0:n_timesteps], columns=['AUC = 0.5'])\n",
    "\n",
    "upper_threshold_array = np.zeros(n_timesteps, dtype=np.float)\n",
    "upper_threshold_array.fill(0.55)\n",
    "upper_threshold_df = pd.DataFrame(upper_threshold_array[0:n_timesteps], columns=['Upperthreshold = 0.55'])\n",
    "\n",
    "auc_score_df = pd.DataFrame(auc_score_array[0:n_timesteps], columns=['AUC Score'])\n",
    "\n",
    "tuner = pd.concat([y_predict_df, auc_score_df], axis=1)\n",
    "tuner2 = pd.concat([tuner, half_df], axis=1)\n",
    "tuner3 = pd.concat([tuner2, upper_threshold_df], axis=1)\n",
    "tuner3.plot(style=['bs--', '-', '-', '-'], figsize=(20,10))"
   ]
  },
  {
   "cell_type": "code",
   "execution_count": null,
   "metadata": {
    "collapsed": true
   },
   "outputs": [],
   "source": []
  }
 ],
 "metadata": {
  "kernelspec": {
   "display_name": "Python 3",
   "language": "python",
   "name": "python3"
  },
  "language_info": {
   "codemirror_mode": {
    "name": "ipython",
    "version": 3
   },
   "file_extension": ".py",
   "mimetype": "text/x-python",
   "name": "python",
   "nbconvert_exporter": "python",
   "pygments_lexer": "ipython3",
   "version": "3.5.1"
  }
 },
 "nbformat": 4,
 "nbformat_minor": 0
}
