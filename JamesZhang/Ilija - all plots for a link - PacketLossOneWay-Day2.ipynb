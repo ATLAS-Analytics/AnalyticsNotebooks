{
 "cells": [
  {
   "cell_type": "markdown",
   "metadata": {},
   "source": [
    "## Plots delays, throughputs, packet loss and path for a selected link"
   ]
  },
  {
   "cell_type": "code",
   "execution_count": 1,
   "metadata": {
    "collapsed": false
   },
   "outputs": [],
   "source": [
    "%matplotlib inline\n",
    "from elasticsearch import Elasticsearch\n",
    "from elasticsearch.helpers import scan\n",
    "from datetime import datetime\n",
    "import math\n",
    "import matplotlib.pyplot as plt\n",
    "import matplotlib.mlab as mlab\n",
    "from matplotlib import gridspec\n",
    "from datetime import datetime\n",
    "import numpy as np\n",
    "import pandas as pd\n",
    "\n",
    "es = Elasticsearch(['atlas-kibana.mwt2.org:9200'],timeout=60)\n",
    "indices = \"network_weather-2017.8.*\"\n",
    "\n",
    "my_query = {}\n",
    "\n",
    "from sklearn import tree\n",
    "\n",
    "from sklearn.model_selection import cross_val_score\n",
    "from sklearn.ensemble import AdaBoostClassifier\n",
    "from sklearn.tree import DecisionTreeClassifier\n",
    "\n",
    "import time\n",
    "from sklearn.model_selection import train_test_split"
   ]
  },
  {
   "cell_type": "markdown",
   "metadata": {},
   "source": [
    "##  Select your link"
   ]
  },
  {
   "cell_type": "code",
   "execution_count": 2,
   "metadata": {
    "collapsed": false
   },
   "outputs": [],
   "source": [
    "# sS='UC'\n",
    "# srcSiteOWDServer = \"192.170.227.160\"\n",
    "# srcSiteThroughputServer = \"192.170.227.162\"\n",
    "\n",
    "sS='CERN-PROD'\n",
    "srcSiteOWDServer = \"128.142.223.247\"\n",
    "#srcSiteThroughputServer = \"128.142.223.246\"\n",
    "\n",
    "# dS='IU'\n",
    "# destSiteOWDServer = \"149.165.225.223\"\n",
    "# destSiteThroughputServer = \"149.165.225.224\"\n",
    "\n",
    "# dS='UIUC'\n",
    "# destSiteOWDServer = \"72.36.96.4\"\n",
    "# destSiteThroughputServer = \"72.36.96.9\"\n",
    "\n",
    "# dS='ICCN'\n",
    "# destSiteOWDServer = \"72.36.96.4\"\n",
    "# destSiteThroughputServer = \"72.36.126.132\"\n",
    "\n",
    "dS='pic'\n",
    "destSiteOWDServer = \"193.109.172.188\"\n",
    "#destSiteThroughputServer = \"193.109.172.187\""
   ]
  },
  {
   "cell_type": "markdown",
   "metadata": {},
   "source": [
    "## Get the data from Elasticsearch, and store the record based on its type"
   ]
  },
  {
   "cell_type": "code",
   "execution_count": 3,
   "metadata": {
    "collapsed": false
   },
   "outputs": [],
   "source": [
    "my_query = {\n",
    "    'query': { \n",
    "       'bool':{\n",
    "            'must':[\n",
    "                    {'range': {'timestamp': {'gte': '20170803T000000Z', 'lt': '20170804T000000Z'}}},\n",
    "                        {'bool':\n",
    "                            {'should':[\n",
    "                                {'term': {'src': srcSiteOWDServer}},\n",
    "                                #{'term': {'src': srcSiteThroughputServer}},\n",
    "                                #{'term': {'src': destSiteOWDServer}},\n",
    "                                #{'term': {'src': destSiteThroughputServer}}\n",
    "                            ]}\n",
    "                        },\n",
    "                        {'bool':\n",
    "                            {'should':[\n",
    "                                {'term': {'dest': destSiteOWDServer}},\n",
    "                                #{'term': {'dest': destSiteThroughputServer}},\n",
    "                                #{'term': {'dest': srcSiteOWDServer}},\n",
    "                                #{'term': {'dest': srcSiteThroughputServer}}\n",
    "                            ]}\n",
    "                        }\n",
    "                    ]\n",
    "                }\n",
    "        \n",
    "        }\n",
    "    }\n",
    "\n",
    "\n",
    "scroll = list(scan(client=es, index=indices, query=my_query))\n"
   ]
  },
  {
   "cell_type": "code",
   "execution_count": 4,
   "metadata": {
    "collapsed": false,
    "scrolled": true
   },
   "outputs": [
    {
     "name": "stdout",
     "output_type": "stream",
     "text": [
      "1970-01-01 00:00:00\n",
      "{'_score': None, 'sort': [1114], '_id': 'AV2mp0YeNILXDji8VZTt', '_type': 'latency', '_source': {'dest_host': 'psl01.pic.es', 'srcSite': 'CERN-PROD', 'timestamp': 1501739483000, 'dest': '193.109.172.188', 'delay_sd': 0.057592859800499684, 'destProduction': True, 'delay_median': 15.04, 'destSite': 'pic', 'MA': '128.142.223.247', 'src': '128.142.223.247', 'delay_mean': 15.06125, 'srcVO': 'ATLAS', 'src_host': 'perfsonar-lt.cern.ch', 'srcProduction': True, 'ipv6': False, 'destVO': 'ATLAS'}, '_index': 'network_weather-2017.8.3'}\n",
      "2017-08-03 05:51:23\n",
      "{'_score': None, 'sort': [1115], '_id': 'AV2mp0YeNILXDji8VZTv', '_type': 'latency', '_source': {'dest_host': 'psl01.pic.es', 'srcSite': 'CERN-PROD', 'timestamp': 1501739123000, 'dest': '193.109.172.188', 'delay_sd': 0.10388934283917456, 'destProduction': True, 'delay_median': 15.15, 'destSite': 'pic', 'MA': '128.142.223.247', 'src': '128.142.223.247', 'delay_mean': 15.170066666666665, 'srcVO': 'ATLAS', 'src_host': 'perfsonar-lt.cern.ch', 'srcProduction': True, 'ipv6': False, 'destVO': 'ATLAS'}, '_index': 'network_weather-2017.8.3'}\n",
      "{'_score': None, 'sort': [1116], '_id': 'AV2mp0YeNILXDji8VZTw', '_type': 'latency', '_source': {'dest_host': 'psl01.pic.es', 'srcSite': 'CERN-PROD', 'timestamp': 1501739002000, 'dest': '193.109.172.188', 'delay_sd': 0.04918325991183956, 'destProduction': True, 'delay_median': 15.13, 'destSite': 'pic', 'MA': '128.142.223.247', 'src': '128.142.223.247', 'delay_mean': 15.148416666666666, 'srcVO': 'ATLAS', 'src_host': 'perfsonar-lt.cern.ch', 'srcProduction': True, 'ipv6': False, 'destVO': 'ATLAS'}, '_index': 'network_weather-2017.8.3'}\n",
      "{'_score': None, 'sort': [1117], '_id': 'AV2mp0YeNILXDji8VZTx', '_type': 'latency', '_source': {'dest_host': 'psl01.pic.es', 'srcSite': 'CERN-PROD', 'timestamp': 1501739105000, 'dest': '193.109.172.188', 'delay_sd': 0.9051805983092855, 'destProduction': True, 'delay_median': 15.13, 'destSite': 'pic', 'MA': '128.142.223.247', 'src': '128.142.223.247', 'delay_mean': 15.187533333333336, 'srcVO': 'ATLAS', 'src_host': 'perfsonar-lt.cern.ch', 'srcProduction': True, 'ipv6': False, 'destVO': 'ATLAS'}, '_index': 'network_weather-2017.8.3'}\n",
      "{'_score': None, 'sort': [1118], '_id': 'AV2mp0YeNILXDji8VZT_', '_type': 'latency', '_source': {'dest_host': 'psl01.pic.es', 'srcSite': 'CERN-PROD', 'timestamp': 1501738924000, 'dest': '193.109.172.188', 'delay_sd': 0.06054882098127291, 'destProduction': True, 'delay_median': 15.13, 'destSite': 'pic', 'MA': '128.142.223.247', 'src': '128.142.223.247', 'delay_mean': 15.14608333333333, 'srcVO': 'ATLAS', 'src_host': 'perfsonar-lt.cern.ch', 'srcProduction': True, 'ipv6': False, 'destVO': 'ATLAS'}, '_index': 'network_weather-2017.8.3'}\n",
      "{'_score': None, 'sort': [1119], '_id': 'AV2mp0YeNILXDji8VZUF', '_type': 'latency', '_source': {'dest_host': 'psl01.pic.es', 'srcSite': 'CERN-PROD', 'timestamp': 1501738624000, 'dest': '193.109.172.188', 'delay_sd': 0.10024492790770971, 'destProduction': True, 'delay_median': 15.28, 'destSite': 'pic', 'MA': '128.142.223.247', 'src': '128.142.223.247', 'delay_mean': 15.300450751252082, 'srcVO': 'ATLAS', 'src_host': 'perfsonar-lt.cern.ch', 'srcProduction': True, 'ipv6': False, 'destVO': 'ATLAS'}, '_index': 'network_weather-2017.8.3'}\n",
      "{'_score': None, 'sort': [1120], '_id': 'AV2mp0YeNILXDji8VZUJ', '_type': 'latency', '_source': {'dest_host': 'psl01.pic.es', 'srcSite': 'CERN-PROD', 'timestamp': 1501738684000, 'dest': '193.109.172.188', 'delay_sd': 0.11327887784872642, 'destProduction': True, 'delay_median': 15.14, 'destSite': 'pic', 'MA': '128.142.223.247', 'src': '128.142.223.247', 'delay_mean': 15.172249999999998, 'srcVO': 'ATLAS', 'src_host': 'perfsonar-lt.cern.ch', 'srcProduction': True, 'ipv6': False, 'destVO': 'ATLAS'}, '_index': 'network_weather-2017.8.3'}\n",
      "{'_score': None, 'sort': [1121], '_id': 'AV2mp0YeNILXDji8VZUK', '_type': 'latency', '_source': {'dest_host': 'psl01.pic.es', 'srcSite': 'CERN-PROD', 'timestamp': 1501739423000, 'dest': '193.109.172.188', 'delay_sd': 0.06802731477543099, 'destProduction': True, 'delay_median': 15.06, 'destSite': 'pic', 'MA': '128.142.223.247', 'src': '128.142.223.247', 'delay_mean': 15.07946666666667, 'srcVO': 'ATLAS', 'src_host': 'perfsonar-lt.cern.ch', 'srcProduction': True, 'ipv6': False, 'destVO': 'ATLAS'}, '_index': 'network_weather-2017.8.3'}\n",
      "{'_score': None, 'sort': [1122], '_id': 'AV2mp0YeNILXDji8VZUL', '_type': 'latency', '_source': {'dest_host': 'psl01.pic.es', 'srcSite': 'CERN-PROD', 'timestamp': 1501738762000, 'dest': '193.109.172.188', 'delay_sd': 0.05006795104877206, 'destProduction': True, 'delay_median': 15.12, 'destSite': 'pic', 'MA': '128.142.223.247', 'src': '128.142.223.247', 'delay_mean': 15.14101666666667, 'srcVO': 'ATLAS', 'src_host': 'perfsonar-lt.cern.ch', 'srcProduction': True, 'ipv6': False, 'destVO': 'ATLAS'}, '_index': 'network_weather-2017.8.3'}\n",
      "{'_score': None, 'sort': [11934], '_id': 'AV2oRfvwNILXDji8KYnT', '_type': 'latency', '_source': {'dest_host': 'psl01.pic.es', 'srcSite': 'CERN-PROD', 'timestamp': 1501766095000, 'dest': '193.109.172.188', 'delay_sd': 1.9934209244969363, 'destProduction': True, 'delay_median': 15.14, 'destSite': 'pic', 'MA': '128.142.223.247', 'src': '128.142.223.247', 'delay_mean': 15.274866666666657, 'srcVO': 'ATLAS', 'src_host': 'perfsonar-lt.cern.ch', 'srcProduction': True, 'ipv6': False, 'destVO': 'ATLAS'}, '_index': 'network_weather-2017.8.3'}\n"
     ]
    }
   ],
   "source": [
    "#site = {srcSiteOWDServer: sS, srcSiteThroughputServer: sS, destSiteOWDServer:dS, destSiteThroughputServer:dS}\n",
    "site = {srcSiteOWDServer: sS, destSiteOWDServer:dS}\n",
    "data = {sS:pd.DataFrame(),dS:pd.DataFrame()}\n",
    "epoch = datetime.utcfromtimestamp(0)\n",
    "count = 0\n",
    "print(epoch)\n",
    "\n",
    "for res in scroll:\n",
    "    if count<10: print(res)\n",
    "    count += 1\n",
    "#     dt=datetime.strptime(res['_source']['timestamp'], '%Y-%m-%dT%H:%M:%S') # for data before Oct. 15 2016\n",
    "    dt=datetime.utcfromtimestamp(res['_source']['timestamp']/1000.0)\n",
    "    ts = (dt - epoch).total_seconds() * 1000.0\n",
    "    s=site[res['_source']['src']]\n",
    "    data[s].set_value(ts, 'timestamp', dt)\n",
    "    column_type = res['_type']\n",
    "#    if column_type == 'latency':\n",
    "#        data[s].set_value( ts, 'delay_median', res['_source']['delay_median'])\n",
    "#        data[s].set_value( ts, 'delay_mean', res['_source']['delay_mean'])\n",
    "#        data[s].set_value( ts, 'delay_sd', res['_source']['delay_sd'])\n",
    "    if column_type == 'packet_loss_rate':\n",
    "        data[s].set_value( ts, 'packet_loss', res['_source']['packet_loss'])\n",
    "#    elif column_type == 'throughput':\n",
    "#        data[s].set_value( ts, 'throughput', res['_source']['throughput']/1024./1024./1024.)\n",
    "#    elif column_type == 'traceroute':\n",
    "#        data[s].set_value( ts, 'hash', res['_source']['hash'])\n",
    "    if count<2: print(dt)"
   ]
  },
  {
   "cell_type": "code",
   "execution_count": 5,
   "metadata": {
    "collapsed": false,
    "scrolled": true
   },
   "outputs": [
    {
     "name": "stdout",
     "output_type": "stream",
     "text": [
      "                       timestamp  packet_loss\n",
      "1.501718e+12 2017-08-03 00:00:13     0.000000\n",
      "1.501718e+12 2017-08-03 00:00:43     0.001667\n",
      "1.501718e+12 2017-08-03 00:01:13     0.000000\n",
      "1.501719e+12 2017-08-03 00:01:43     0.000000\n",
      "1.501719e+12 2017-08-03 00:02:13     0.001667\n",
      "1.501719e+12 2017-08-03 00:02:43     0.000000\n",
      "1.501719e+12 2017-08-03 00:03:13     0.000000\n",
      "1.501719e+12 2017-08-03 00:03:44     0.000000\n",
      "1.501719e+12 2017-08-03 00:04:13     0.001667\n",
      "1.501719e+12 2017-08-03 00:04:44     0.000000\n",
      "1.501719e+12 2017-08-03 00:05:13     0.000000\n",
      "1.501719e+12 2017-08-03 00:05:44     0.000000\n",
      "1.501719e+12 2017-08-03 00:06:14     0.000000\n",
      "1.501719e+12 2017-08-03 00:06:44     0.000000\n",
      "1.501719e+12 2017-08-03 00:07:14     0.000000\n",
      "1.501719e+12 2017-08-03 00:07:44     0.001667\n",
      "1.501719e+12 2017-08-03 00:08:14     0.000000\n",
      "1.501719e+12 2017-08-03 00:08:44     0.000000\n",
      "1.501719e+12 2017-08-03 00:09:14     0.000000\n",
      "1.501719e+12 2017-08-03 00:09:38          NaN\n",
      "1.501719e+12 2017-08-03 00:09:44     0.000000\n",
      "1.501719e+12 2017-08-03 00:10:14     0.001667\n",
      "1.501719e+12 2017-08-03 00:10:44     0.000000\n",
      "1.501719e+12 2017-08-03 00:11:14     0.000000\n",
      "1.501719e+12 2017-08-03 00:11:44     0.000000\n",
      "1.501719e+12 2017-08-03 00:12:14     0.001667\n",
      "1.501719e+12 2017-08-03 00:12:45     0.001667\n",
      "1.501719e+12 2017-08-03 00:13:14     0.000000\n",
      "1.501719e+12 2017-08-03 00:13:45     0.000000\n",
      "1.501719e+12 2017-08-03 00:14:14     0.001667\n",
      "...                          ...          ...\n",
      "1.501804e+12 2017-08-03 23:46:18     0.000000\n",
      "1.501804e+12 2017-08-03 23:46:21     0.000000\n",
      "1.501804e+12 2017-08-03 23:47:19     0.000000\n",
      "1.501804e+12 2017-08-03 23:47:21     0.000000\n",
      "1.501804e+12 2017-08-03 23:48:19     0.000000\n",
      "1.501804e+12 2017-08-03 23:48:21     0.000000\n",
      "1.501804e+12 2017-08-03 23:49:14          NaN\n",
      "1.501804e+12 2017-08-03 23:49:19     0.000000\n",
      "1.501804e+12 2017-08-03 23:49:21     0.000000\n",
      "1.501804e+12 2017-08-03 23:50:19     0.000000\n",
      "1.501804e+12 2017-08-03 23:50:26     0.000000\n",
      "1.501804e+12 2017-08-03 23:51:19     0.000000\n",
      "1.501804e+12 2017-08-03 23:51:26     0.000000\n",
      "1.501804e+12 2017-08-03 23:52:19     0.000000\n",
      "1.501804e+12 2017-08-03 23:52:26     0.000000\n",
      "1.501804e+12 2017-08-03 23:53:19     0.000000\n",
      "1.501804e+12 2017-08-03 23:53:26     0.000000\n",
      "1.501804e+12 2017-08-03 23:54:19     0.000000\n",
      "1.501804e+12 2017-08-03 23:54:26     0.000000\n",
      "1.501805e+12 2017-08-03 23:55:19     0.000000\n",
      "1.501805e+12 2017-08-03 23:55:27     0.000000\n",
      "1.501805e+12 2017-08-03 23:56:19     0.000000\n",
      "1.501805e+12 2017-08-03 23:56:27     0.000000\n",
      "1.501805e+12 2017-08-03 23:57:19     0.000000\n",
      "1.501805e+12 2017-08-03 23:57:27     0.000000\n",
      "1.501805e+12 2017-08-03 23:58:19          NaN\n",
      "1.501805e+12 2017-08-03 23:58:20     0.000000\n",
      "1.501805e+12 2017-08-03 23:58:27     0.000000\n",
      "1.501805e+12 2017-08-03 23:59:20     0.000000\n",
      "1.501805e+12 2017-08-03 23:59:27     0.000000\n",
      "\n",
      "[2984 rows x 2 columns]\n"
     ]
    }
   ],
   "source": [
    "data[sS].sort_index(inplace=True) \n",
    "data[sS].describe()\n",
    "\n",
    "#data[dS].sort_index(inplace=True) \n",
    "#data[dS].describe()\n",
    "\n",
    "print(data[sS])"
   ]
  },
  {
   "cell_type": "markdown",
   "metadata": {},
   "source": [
    "### Extract values"
   ]
  },
  {
   "cell_type": "code",
   "execution_count": 6,
   "metadata": {
    "collapsed": false
   },
   "outputs": [],
   "source": [
    "F = data[sS]\n",
    "#B = data[dS]\n",
    "#Fthr = F[F.throughput.notnull()]    # Get the lines (i.e. times) whose throughput is not null\n",
    "#Bthr = B[B.throughput.notnull()]  \n",
    "Fpl = F[F.packet_loss.notnull()]\n",
    "#Bpl = B[B.packet_loss.notnull()]\n",
    "# Fd = F[F.delay_mean.notnull()]\n",
    "# Bd = B[B.delay_mean.notnull()]\n",
    "#Fd = F[F.delay_mean<150]\n",
    "#Bd = B[B.delay_mean<150]\n",
    "#Jd = Fd.join(Bd,how='inner', rsuffix=\"_back\")\n",
    "#Jd['dmean']= (Jd.delay_mean + Jd.delay_mean_back)/2\n",
    "\n",
    "#Fh = F[F.hash.notnull()]\n",
    "#Bh = B[B.hash.notnull()]\n",
    "Fids=[];Bids=[]\n",
    "Fu=[];Bu=[]\n",
    "\n",
    "#for fi in Fh.hash.tolist():\n",
    "#    if fi not in Fu: Fu.append(fi)\n",
    "#    Fids.append(Fu.index(fi))\n",
    "#for fi in Bh.hash.tolist():\n",
    "#    if fi not in Bu: Bu.append(fi)\n",
    "#    Bids.append(Bu.index(fi))"
   ]
  },
  {
   "cell_type": "markdown",
   "metadata": {
    "collapsed": false,
    "scrolled": true
   },
   "source": [
    "#### interpolate all the values and leave only onese where all 4 measurements are there"
   ]
  },
  {
   "cell_type": "code",
   "execution_count": 7,
   "metadata": {
    "collapsed": false
   },
   "outputs": [
    {
     "name": "stdout",
     "output_type": "stream",
     "text": [
      "(2984, 2)\n"
     ]
    }
   ],
   "source": [
    "NF=F.interpolate(method='index',limit=1,limit_direction='both')\n",
    "#NFall = NF[NF.throughput.notnull()]\n",
    "#NFall = NFall[NFall.delay_mean.notnull()]\n",
    "NFall = NF[NF.packet_loss.notnull()]\n",
    "#NFall = NFall[NFall.hash.notnull()]\n",
    "\n",
    "#NB=B.interpolate(method='index',limit=1,limit_direction='both')\n",
    "#NBal = NB[NB.throughput.notnull()]\n",
    "#NBall = NB[NB.delay_mean.notnull()]\n",
    "#NBall = NB[NB.packet_loss.notnull()]\n",
    "print(NFall.shape)"
   ]
  },
  {
   "cell_type": "code",
   "execution_count": 8,
   "metadata": {
    "collapsed": false
   },
   "outputs": [
    {
     "name": "stdout",
     "output_type": "stream",
     "text": [
      "(2984, 2)\n"
     ]
    }
   ],
   "source": [
    "#print(NF)\n",
    "#print(NB)\n",
    "\n",
    "print(NF.shape)\n",
    "#print(NB.shape)"
   ]
  },
  {
   "cell_type": "code",
   "execution_count": 9,
   "metadata": {
    "collapsed": false
   },
   "outputs": [
    {
     "name": "stdout",
     "output_type": "stream",
     "text": [
      "packet loss forward:  2871\n"
     ]
    }
   ],
   "source": [
    "#print( 'throughput  forward: ', Fthr.shape[0], ' backward: ', Bthr.shape[0])\n",
    "#print( 'packet loss forward: ', Fpl.shape[0],  ' backward: ', Bpl.shape[0])\n",
    "print( 'packet loss forward: ', Fpl.shape[0])\n",
    "#print( 'delay       forward: ', Fd.shape[0],   ' backward: ', Bd.shape[0])\n",
    "#print( 'hash        forward: ', Fh.shape[0],   ' backward: ', Bh.shape[0])\n",
    "\n",
    "#i=0\n",
    "#while i < Fpl.shape[0]:\n",
    "#    print(\"Hi\")\n",
    "#    i = i + 1"
   ]
  },
  {
   "cell_type": "code",
   "execution_count": 10,
   "metadata": {
    "collapsed": false,
    "scrolled": true
   },
   "outputs": [
    {
     "data": {
      "image/png": "[encoded data removed]",
      "text/plain": [
       "<matplotlib.figure.Figure at 0x7fb810bfd4e0>"
      ]
     },
     "metadata": {},
     "output_type": "display_data"
    }
   ],
   "source": [
    "plt.figure(figsize=[50, 80])\n",
    "gs = gridspec.GridSpec(4, 1)\n",
    "\n",
    "ax2 = plt.subplot(gs[1])\n",
    "ax2.plot(Fpl.timestamp.tolist(), np.sqrt(Fpl.packet_loss).tolist(), ls='', marker='.', c='r', label=sS+'->'+dS)\n",
    "ax2.set_xlabel('time')\n",
    "ax2.set_ylabel('sqrt(packet loss) [%]')\n",
    "ax2.legend()\n",
    "\n",
    "plt.show()"
   ]
  }
 ],
 "metadata": {
  "kernelspec": {
   "display_name": "Python 3",
   "language": "python",
   "name": "python3"
  },
  "language_info": {
   "codemirror_mode": {
    "name": "ipython",
    "version": 3
   },
   "file_extension": ".py",
   "mimetype": "text/x-python",
   "name": "python",
   "nbconvert_exporter": "python",
   "pygments_lexer": "ipython3",
   "version": "3.5.1"
  }
 },
 "nbformat": 4,
 "nbformat_minor": 0
}
