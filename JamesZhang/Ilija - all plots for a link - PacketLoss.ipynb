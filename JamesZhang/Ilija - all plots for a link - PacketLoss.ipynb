{
 "cells": [
  {
   "cell_type": "markdown",
   "metadata": {},
   "source": [
    "## Plots delays, throughputs, packet loss and path for a selected link"
   ]
  },
  {
   "cell_type": "code",
   "execution_count": 1,
   "metadata": {
    "collapsed": false
   },
   "outputs": [],
   "source": [
    "%matplotlib inline\n",
    "from elasticsearch import Elasticsearch\n",
    "from elasticsearch.helpers import scan\n",
    "from datetime import datetime\n",
    "import math\n",
    "import matplotlib.pyplot as plt\n",
    "import matplotlib.mlab as mlab\n",
    "from matplotlib import gridspec\n",
    "from datetime import datetime\n",
    "import numpy as np\n",
    "import pandas as pd\n",
    "\n",
    "es = Elasticsearch(['atlas-kibana.mwt2.org:9200'],timeout=60)\n",
    "indices = \"network_weather-2017.8.*\"\n",
    "\n",
    "my_query = {}"
   ]
  },
  {
   "cell_type": "markdown",
   "metadata": {},
   "source": [
    "##  Select your link"
   ]
  },
  {
   "cell_type": "code",
   "execution_count": 2,
   "metadata": {
    "collapsed": false
   },
   "outputs": [],
   "source": [
    "# sS='UC'\n",
    "# srcSiteOWDServer = \"192.170.227.160\"\n",
    "# srcSiteThroughputServer = \"192.170.227.162\"\n",
    "\n",
    "sS='CERN-PROD'\n",
    "srcSiteOWDServer = \"128.142.223.247\"\n",
    "srcSiteThroughputServer = \"128.142.223.246\"\n",
    "\n",
    "# dS='IU'\n",
    "# destSiteOWDServer = \"149.165.225.223\"\n",
    "# destSiteThroughputServer = \"149.165.225.224\"\n",
    "\n",
    "# dS='UIUC'\n",
    "# destSiteOWDServer = \"72.36.96.4\"\n",
    "# destSiteThroughputServer = \"72.36.96.9\"\n",
    "\n",
    "# dS='ICCN'\n",
    "# destSiteOWDServer = \"72.36.96.4\"\n",
    "# destSiteThroughputServer = \"72.36.126.132\"\n",
    "\n",
    "dS='pic'\n",
    "destSiteOWDServer = \"193.109.172.188\"\n",
    "destSiteThroughputServer = \"193.109.172.187\""
   ]
  },
  {
   "cell_type": "markdown",
   "metadata": {},
   "source": [
    "## Get the data from Elasticsearch, and store the record based on its type"
   ]
  },
  {
   "cell_type": "code",
   "execution_count": 3,
   "metadata": {
    "collapsed": false
   },
   "outputs": [],
   "source": [
    "my_query = {\n",
    "    'query': { \n",
    "       'bool':{\n",
    "            'must':[\n",
    "                    {'range': {'timestamp': {'gte': '20170803T000000Z', 'lt': '20170810T000000Z'}}},\n",
    "                        {'bool':\n",
    "                            {'should':[\n",
    "                                {'term': {'src': srcSiteOWDServer}},\n",
    "                                #{'term': {'src': srcSiteThroughputServer}},\n",
    "                                {'term': {'src': destSiteOWDServer}},\n",
    "                                #{'term': {'src': destSiteThroughputServer}}\n",
    "                            ]}\n",
    "                        },\n",
    "                        {'bool':\n",
    "                            {'should':[\n",
    "                                {'term': {'dest': destSiteOWDServer}},\n",
    "                                #{'term': {'dest': destSiteThroughputServer}},\n",
    "                                {'term': {'dest': srcSiteOWDServer}},\n",
    "                                #{'term': {'dest': srcSiteThroughputServer}}\n",
    "                            ]}\n",
    "                        }\n",
    "                    ]\n",
    "                }\n",
    "        \n",
    "        }\n",
    "    }\n",
    "\n",
    "\n",
    "scroll = list(scan(client=es, index=indices, query=my_query))\n"
   ]
  },
  {
   "cell_type": "code",
   "execution_count": 4,
   "metadata": {
    "collapsed": false
   },
   "outputs": [
    {
     "name": "stdout",
     "output_type": "stream",
     "text": [
      "{'_index': 'network_weather-2017.8.20', '_type': 'latency', '_source': {'srcProduction': True, 'destVO': 'ATLAS', 'dest': '128.142.223.247', 'srcSite': 'pic', 'delay_mean': 15.604833333333334, 'timestamp': 1503187206000, 'delay_median': 15.43, 'dest_host': 'perfsonar-lt.cern.ch', 'MA': '193.109.172.188', 'src_host': 'psl01.pic.es', 'destProduction': True, 'srcVO': 'ATLAS', 'delay_sd': 1.738300023650182, 'destSite': 'CERN-PROD', 'ipv6': False, 'src': '193.109.172.188'}, '_score': None, 'sort': [6], '_id': 'AV388P04NILXDji8UuZH'}\n",
      "317761\n"
     ]
    }
   ],
   "source": [
    "site = {srcSiteOWDServer: sS, srcSiteThroughputServer: sS, destSiteOWDServer:dS, destSiteThroughputServer:dS}\n",
    "data = {sS:pd.DataFrame(),dS:pd.DataFrame()}\n",
    "epoch = datetime.utcfromtimestamp(0)\n",
    "count = 0\n",
    "for res in scroll:\n",
    "    if count<1: print(res)\n",
    "    count += 1\n",
    "#     dt=datetime.strptime(res['_source']['timestamp'], '%Y-%m-%dT%H:%M:%S') # for data before Oct. 15 2016\n",
    "    dt=datetime.utcfromtimestamp(res['_source']['timestamp']/1000.0)\n",
    "    ts = (dt - epoch).total_seconds() * 1000.0\n",
    "    s=site[res['_source']['src']]\n",
    "    data[s].set_value(ts, 'timestamp', dt)\n",
    "    column_type = res['_type']\n",
    "#    if column_type == 'latency':\n",
    "#        data[s].set_value( ts, 'delay_median', res['_source']['delay_median'])\n",
    "#        data[s].set_value( ts, 'delay_mean', res['_source']['delay_mean'])\n",
    "#        data[s].set_value( ts, 'delay_sd', res['_source']['delay_sd'])\n",
    "    if column_type == 'packet_loss_rate':\n",
    "        data[s].set_value( ts, 'packet_loss', res['_source']['packet_loss'])\n",
    "#    elif column_type == 'throughput':\n",
    "#        data[s].set_value( ts, 'throughput', res['_source']['throughput']/1024./1024./1024.)\n",
    "#    elif column_type == 'traceroute':\n",
    "#        data[s].set_value( ts, 'hash', res['_source']['hash'])\n",
    "print(count)"
   ]
  },
  {
   "cell_type": "code",
   "execution_count": 5,
   "metadata": {
    "collapsed": false,
    "scrolled": false
   },
   "outputs": [
    {
     "data": {
      "text/html": [
       "<div>\n",
       "<style>\n",
       "    .dataframe thead tr:only-child th {\n",
       "        text-align: right;\n",
       "    }\n",
       "\n",
       "    .dataframe thead th {\n",
       "        text-align: left;\n",
       "    }\n",
       "\n",
       "    .dataframe tbody tr th {\n",
       "        vertical-align: top;\n",
       "    }\n",
       "</style>\n",
       "<table border=\"1\" class=\"dataframe\">\n",
       "  <thead>\n",
       "    <tr style=\"text-align: right;\">\n",
       "      <th></th>\n",
       "      <th>packet_loss</th>\n",
       "    </tr>\n",
       "  </thead>\n",
       "  <tbody>\n",
       "    <tr>\n",
       "      <th>count</th>\n",
       "      <td>82411.000000</td>\n",
       "    </tr>\n",
       "    <tr>\n",
       "      <th>mean</th>\n",
       "      <td>0.000251</td>\n",
       "    </tr>\n",
       "    <tr>\n",
       "      <th>std</th>\n",
       "      <td>0.005373</td>\n",
       "    </tr>\n",
       "    <tr>\n",
       "      <th>min</th>\n",
       "      <td>0.000000</td>\n",
       "    </tr>\n",
       "    <tr>\n",
       "      <th>25%</th>\n",
       "      <td>0.000000</td>\n",
       "    </tr>\n",
       "    <tr>\n",
       "      <th>50%</th>\n",
       "      <td>0.000000</td>\n",
       "    </tr>\n",
       "    <tr>\n",
       "      <th>75%</th>\n",
       "      <td>0.000000</td>\n",
       "    </tr>\n",
       "    <tr>\n",
       "      <th>max</th>\n",
       "      <td>0.831667</td>\n",
       "    </tr>\n",
       "  </tbody>\n",
       "</table>\n",
       "</div>"
      ],
      "text/plain": [
       "        packet_loss\n",
       "count  82411.000000\n",
       "mean       0.000251\n",
       "std        0.005373\n",
       "min        0.000000\n",
       "25%        0.000000\n",
       "50%        0.000000\n",
       "75%        0.000000\n",
       "max        0.831667"
      ]
     },
     "execution_count": 5,
     "metadata": {},
     "output_type": "execute_result"
    }
   ],
   "source": [
    "data[sS].sort_index(inplace=True) \n",
    "data[sS].describe()\n",
    "\n",
    "data[dS].sort_index(inplace=True) \n",
    "data[dS].describe()"
   ]
  },
  {
   "cell_type": "markdown",
   "metadata": {},
   "source": [
    "### Extract values"
   ]
  },
  {
   "cell_type": "code",
   "execution_count": 10,
   "metadata": {
    "collapsed": false
   },
   "outputs": [],
   "source": [
    "F = data[sS]\n",
    "B = data[dS]\n",
    "#Fthr = F[F.throughput.notnull()]    # Get the lines (i.e. times) whose throughput is not null\n",
    "#Bthr = B[B.throughput.notnull()]  \n",
    "Fpl = F[F.packet_loss.notnull()]\n",
    "Bpl = B[B.packet_loss.notnull()]\n",
    "# Fd = F[F.delay_mean.notnull()]\n",
    "# Bd = B[B.delay_mean.notnull()]\n",
    "#Fd = F[F.delay_mean<150]\n",
    "#Bd = B[B.delay_mean<150]\n",
    "#Jd = Fd.join(Bd,how='inner', rsuffix=\"_back\")\n",
    "#Jd['dmean']= (Jd.delay_mean + Jd.delay_mean_back)/2\n",
    "\n",
    "#Fh = F[F.hash.notnull()]\n",
    "#Bh = B[B.hash.notnull()]\n",
    "Fids=[];Bids=[]\n",
    "Fu=[];Bu=[]\n",
    "\n",
    "#for fi in Fh.hash.tolist():\n",
    "#    if fi not in Fu: Fu.append(fi)\n",
    "#    Fids.append(Fu.index(fi))\n",
    "#for fi in Bh.hash.tolist():\n",
    "#    if fi not in Bu: Bu.append(fi)\n",
    "#    Bids.append(Bu.index(fi))"
   ]
  },
  {
   "cell_type": "markdown",
   "metadata": {
    "collapsed": false,
    "scrolled": true
   },
   "source": [
    "#### interpolate all the values and leave only onese where all 4 measurements are there"
   ]
  },
  {
   "cell_type": "code",
   "execution_count": 15,
   "metadata": {
    "collapsed": false
   },
   "outputs": [
    {
     "name": "stdout",
     "output_type": "stream",
     "text": [
      "(76540, 2) (85027, 2)\n"
     ]
    }
   ],
   "source": [
    "NF=F.interpolate(method='index',limit=3,limit_direction='both')\n",
    "#NFall = NF[NF.throughput.notnull()]\n",
    "#NFall = NFall[NFall.delay_mean.notnull()]\n",
    "NFall = NF[NF.packet_loss.notnull()]\n",
    "#NFall = NFall[NFall.hash.notnull()]\n",
    "\n",
    "NB=B.interpolate(method='index',limit=3,limit_direction='both')\n",
    "#NBal = NB[NB.throughput.notnull()]\n",
    "#NBall = NB[NB.delay_mean.notnull()]\n",
    "print(NFall.shape,NB.shape)"
   ]
  },
  {
   "cell_type": "code",
   "execution_count": 16,
   "metadata": {
    "collapsed": false
   },
   "outputs": [],
   "source": [
    "#NFall"
   ]
  },
  {
   "cell_type": "code",
   "execution_count": 17,
   "metadata": {
    "collapsed": false
   },
   "outputs": [
    {
     "name": "stdout",
     "output_type": "stream",
     "text": [
      "packet loss forward:  73588  backward:  82411\n"
     ]
    }
   ],
   "source": [
    "#print( 'throughput  forward: ', Fthr.shape[0], ' backward: ', Bthr.shape[0])\n",
    "print( 'packet loss forward: ', Fpl.shape[0],  ' backward: ', Bpl.shape[0])\n",
    "#print( 'delay       forward: ', Fd.shape[0],   ' backward: ', Bd.shape[0])\n",
    "#print( 'hash        forward: ', Fh.shape[0],   ' backward: ', Bh.shape[0])"
   ]
  },
  {
   "cell_type": "code",
   "execution_count": 18,
   "metadata": {
    "collapsed": false,
    "scrolled": true
   },
   "outputs": [
    {
     "data": {
      "image/png": "[encoded data removed]",
      "text/plain": [
       "<matplotlib.figure.Figure at 0x7f1bbdf82dd8>"
      ]
     },
     "metadata": {},
     "output_type": "display_data"
    }
   ],
   "source": [
    "plt.figure(figsize=[16, 17])\n",
    "gs = gridspec.GridSpec(4, 1)\n",
    "\n",
    "#ax0 = plt.subplot(gs[0])\n",
    "#ax0.plot(Fthr.timestamp.tolist(), Fthr.throughput.tolist(), ls='-', marker='>', c='r', label=sS+'->'+dS)\n",
    "#ax0.plot(Bthr.timestamp.tolist(), Bthr.throughput.tolist(), ls='-', marker='<', c='b', label=dS+'->'+sS)\n",
    "#ax0.set_xlabel('time')\n",
    "#ax0.set_ylabel('throughput [Gbps]')#,rotation='horizontal')\n",
    "#ax0.xlim(xmin=0)\n",
    "#ax0.legend()\n",
    "\n",
    "ax2 = plt.subplot(gs[1])\n",
    "ax2.plot(Fpl.timestamp.tolist(), np.sqrt(Fpl.packet_loss).tolist(), ls='', marker='.', c='r', label=sS+'->'+dS)\n",
    "ax2.plot(Bpl.timestamp.tolist(), np.sqrt(Bpl.packet_loss).tolist(), ls='', marker='.', c='b', label=dS+'->'+sS)\n",
    "ax2.set_xlabel('time')\n",
    "ax2.set_ylabel('sqrt(packet loss) [%]')\n",
    "ax2.legend()\n",
    "\n",
    "#ax4 = plt.subplot(gs[2])\n",
    "#ax4.plot(Fd.timestamp.tolist(), Fd.delay_mean.tolist(), ls='', marker='.', c='r', label=sS+'->'+dS)\n",
    "#ax4.plot(Bd.timestamp.tolist(), Bd.delay_mean.tolist(), ls='', marker='.', c='b', label=dS+'->'+sS)\n",
    "#ax4.plot(Jd.timestamp.tolist(), Jd.dmean.tolist(), ls='-', marker='.', c='g', label='mean delay')\n",
    "#ax4.set_xlabel('time')\n",
    "#ax4.set_ylabel('one way delay [ms]')\n",
    "#ax4.legend()\n",
    "\n",
    "#ax6 = plt.subplot(gs[3])\n",
    "#ax6.plot(Fh.timestamp.tolist(), Fids, ls='', marker='.', c='r', label=sS+'->'+dS)\n",
    "#ax6.plot(Bh.timestamp.tolist(), Bids, ls='', marker='.', c='b', label=dS+'->'+sS)\n",
    "#ax6.set_xlabel('time')\n",
    "#ax6.set_ylabel('path index')\n",
    "#ax6.legend()\n",
    "\n",
    "#plt.savefig('Plots/4PlotForLink_' + sS +'_'+ dS + '.png',dpi=200)\n",
    "plt.show()"
   ]
  },
  {
   "cell_type": "code",
   "execution_count": 22,
   "metadata": {
    "collapsed": false
   },
   "outputs": [
    {
     "ename": "ValueError",
     "evalue": "x and y must be the same size",
     "output_type": "error",
     "traceback": [
      "\u001b[1;31m---------------------------------------------------------------------------\u001b[0m",
      "\u001b[1;31mValueError\u001b[0m                                Traceback (most recent call last)",
      "\u001b[1;32m<ipython-input-22-3a9dab4e070b>\u001b[0m in \u001b[0;36m<module>\u001b[1;34m()\u001b[0m\n\u001b[0;32m      6\u001b[0m \u001b[1;33m\u001b[0m\u001b[0m\n\u001b[0;32m      7\u001b[0m \u001b[1;31m#sc=plt.scatter(NFall.delay_mean.tolist(), NFall.packet_loss.tolist(), c=NFall.throughput.tolist(), vmin=0, vmax=10, cmap=cm, alpha=0.5, label=sS+'->'+dS)\u001b[0m\u001b[1;33m\u001b[0m\u001b[1;33m\u001b[0m\u001b[0m\n\u001b[1;32m----> 8\u001b[1;33m \u001b[0msc\u001b[0m\u001b[1;33m=\u001b[0m\u001b[0mplt\u001b[0m\u001b[1;33m.\u001b[0m\u001b[0mscatter\u001b[0m\u001b[1;33m(\u001b[0m\u001b[0mNFall\u001b[0m\u001b[1;33m.\u001b[0m\u001b[0mpacket_loss\u001b[0m\u001b[1;33m.\u001b[0m\u001b[0mtolist\u001b[0m\u001b[1;33m(\u001b[0m\u001b[1;33m)\u001b[0m\u001b[1;33m,\u001b[0m \u001b[0my\u001b[0m \u001b[1;33m=\u001b[0m \u001b[1;36m3100\u001b[0m\u001b[1;33m,\u001b[0m \u001b[0mvmin\u001b[0m\u001b[1;33m=\u001b[0m\u001b[1;36m0\u001b[0m\u001b[1;33m,\u001b[0m \u001b[0mvmax\u001b[0m\u001b[1;33m=\u001b[0m\u001b[1;36m10\u001b[0m\u001b[1;33m,\u001b[0m \u001b[0mcmap\u001b[0m\u001b[1;33m=\u001b[0m\u001b[0mcm\u001b[0m\u001b[1;33m,\u001b[0m \u001b[0malpha\u001b[0m\u001b[1;33m=\u001b[0m\u001b[1;36m0.5\u001b[0m\u001b[1;33m,\u001b[0m \u001b[0mlabel\u001b[0m\u001b[1;33m=\u001b[0m\u001b[0msS\u001b[0m\u001b[1;33m+\u001b[0m\u001b[1;34m'->'\u001b[0m\u001b[1;33m+\u001b[0m\u001b[0mdS\u001b[0m\u001b[1;33m)\u001b[0m\u001b[1;33m\u001b[0m\u001b[0m\n\u001b[0m\u001b[0;32m      9\u001b[0m \u001b[1;31m#plt.scatter(NBall.delay_mean.tolist(), NBall.packet_loss.tolist(), c=NBall.throughput.tolist(), vmin=0, vmax=10, cmap=cm, alpha=0.5, label=dS+'->'+sS)\u001b[0m\u001b[1;33m\u001b[0m\u001b[1;33m\u001b[0m\u001b[0m\n\u001b[0;32m     10\u001b[0m \u001b[0mplt\u001b[0m\u001b[1;33m.\u001b[0m\u001b[0mxlabel\u001b[0m\u001b[1;33m(\u001b[0m\u001b[1;34m'one way delay [ms]'\u001b[0m\u001b[1;33m)\u001b[0m\u001b[1;33m\u001b[0m\u001b[0m\n",
      "\u001b[1;32m/home/ivukotic/anaconda3/lib/python3.5/site-packages/matplotlib/pyplot.py\u001b[0m in \u001b[0;36mscatter\u001b[1;34m(x, y, s, c, marker, cmap, norm, vmin, vmax, alpha, linewidths, verts, edgecolors, hold, data, **kwargs)\u001b[0m\n\u001b[0;32m   3432\u001b[0m                          \u001b[0mvmin\u001b[0m\u001b[1;33m=\u001b[0m\u001b[0mvmin\u001b[0m\u001b[1;33m,\u001b[0m \u001b[0mvmax\u001b[0m\u001b[1;33m=\u001b[0m\u001b[0mvmax\u001b[0m\u001b[1;33m,\u001b[0m \u001b[0malpha\u001b[0m\u001b[1;33m=\u001b[0m\u001b[0malpha\u001b[0m\u001b[1;33m,\u001b[0m\u001b[1;33m\u001b[0m\u001b[0m\n\u001b[0;32m   3433\u001b[0m                          \u001b[0mlinewidths\u001b[0m\u001b[1;33m=\u001b[0m\u001b[0mlinewidths\u001b[0m\u001b[1;33m,\u001b[0m \u001b[0mverts\u001b[0m\u001b[1;33m=\u001b[0m\u001b[0mverts\u001b[0m\u001b[1;33m,\u001b[0m\u001b[1;33m\u001b[0m\u001b[0m\n\u001b[1;32m-> 3434\u001b[1;33m                          edgecolors=edgecolors, data=data, **kwargs)\n\u001b[0m\u001b[0;32m   3435\u001b[0m     \u001b[1;32mfinally\u001b[0m\u001b[1;33m:\u001b[0m\u001b[1;33m\u001b[0m\u001b[0m\n\u001b[0;32m   3436\u001b[0m         \u001b[0max\u001b[0m\u001b[1;33m.\u001b[0m\u001b[0m_hold\u001b[0m \u001b[1;33m=\u001b[0m \u001b[0mwashold\u001b[0m\u001b[1;33m\u001b[0m\u001b[0m\n",
      "\u001b[1;32m/home/ivukotic/anaconda3/lib/python3.5/site-packages/matplotlib/__init__.py\u001b[0m in \u001b[0;36minner\u001b[1;34m(ax, *args, **kwargs)\u001b[0m\n\u001b[0;32m   1896\u001b[0m                     warnings.warn(msg % (label_namer, func.__name__),\n\u001b[0;32m   1897\u001b[0m                                   RuntimeWarning, stacklevel=2)\n\u001b[1;32m-> 1898\u001b[1;33m             \u001b[1;32mreturn\u001b[0m \u001b[0mfunc\u001b[0m\u001b[1;33m(\u001b[0m\u001b[0max\u001b[0m\u001b[1;33m,\u001b[0m \u001b[1;33m*\u001b[0m\u001b[0margs\u001b[0m\u001b[1;33m,\u001b[0m \u001b[1;33m**\u001b[0m\u001b[0mkwargs\u001b[0m\u001b[1;33m)\u001b[0m\u001b[1;33m\u001b[0m\u001b[0m\n\u001b[0m\u001b[0;32m   1899\u001b[0m         \u001b[0mpre_doc\u001b[0m \u001b[1;33m=\u001b[0m \u001b[0minner\u001b[0m\u001b[1;33m.\u001b[0m\u001b[0m__doc__\u001b[0m\u001b[1;33m\u001b[0m\u001b[0m\n\u001b[0;32m   1900\u001b[0m         \u001b[1;32mif\u001b[0m \u001b[0mpre_doc\u001b[0m \u001b[1;32mis\u001b[0m \u001b[1;32mNone\u001b[0m\u001b[1;33m:\u001b[0m\u001b[1;33m\u001b[0m\u001b[0m\n",
      "\u001b[1;32m/home/ivukotic/anaconda3/lib/python3.5/site-packages/matplotlib/axes/_axes.py\u001b[0m in \u001b[0;36mscatter\u001b[1;34m(self, x, y, s, c, marker, cmap, norm, vmin, vmax, alpha, linewidths, verts, edgecolors, **kwargs)\u001b[0m\n\u001b[0;32m   3962\u001b[0m         \u001b[0my\u001b[0m \u001b[1;33m=\u001b[0m \u001b[0mnp\u001b[0m\u001b[1;33m.\u001b[0m\u001b[0mma\u001b[0m\u001b[1;33m.\u001b[0m\u001b[0mravel\u001b[0m\u001b[1;33m(\u001b[0m\u001b[0my\u001b[0m\u001b[1;33m)\u001b[0m\u001b[1;33m\u001b[0m\u001b[0m\n\u001b[0;32m   3963\u001b[0m         \u001b[1;32mif\u001b[0m \u001b[0mx\u001b[0m\u001b[1;33m.\u001b[0m\u001b[0msize\u001b[0m \u001b[1;33m!=\u001b[0m \u001b[0my\u001b[0m\u001b[1;33m.\u001b[0m\u001b[0msize\u001b[0m\u001b[1;33m:\u001b[0m\u001b[1;33m\u001b[0m\u001b[0m\n\u001b[1;32m-> 3964\u001b[1;33m             \u001b[1;32mraise\u001b[0m \u001b[0mValueError\u001b[0m\u001b[1;33m(\u001b[0m\u001b[1;34m\"x and y must be the same size\"\u001b[0m\u001b[1;33m)\u001b[0m\u001b[1;33m\u001b[0m\u001b[0m\n\u001b[0m\u001b[0;32m   3965\u001b[0m \u001b[1;33m\u001b[0m\u001b[0m\n\u001b[0;32m   3966\u001b[0m         \u001b[1;32mif\u001b[0m \u001b[0ms\u001b[0m \u001b[1;32mis\u001b[0m \u001b[1;32mNone\u001b[0m\u001b[1;33m:\u001b[0m\u001b[1;33m\u001b[0m\u001b[0m\n",
      "\u001b[1;31mValueError\u001b[0m: x and y must be the same size"
     ]
    },
    {
     "data": {
      "image/png": "[encoded data removed]",
      "text/plain": [
       "<matplotlib.figure.Figure at 0x7f1bb7d3af28>"
      ]
     },
     "metadata": {},
     "output_type": "display_data"
    }
   ],
   "source": [
    "plt.figure(figsize=[8, 8])\n",
    "\n",
    "#print (NFall.delay_mean.tolist(),NFall.throughput.tolist(),NFall.packet_loss.tolist())\n",
    "\n",
    "cm = plt.cm.get_cmap('RdYlBu')\n",
    "\n",
    "#sc=plt.scatter(NFall.delay_mean.tolist(), NFall.packet_loss.tolist(), c=NFall.throughput.tolist(), vmin=0, vmax=10, cmap=cm, alpha=0.5, label=sS+'->'+dS)\n",
    "sc=plt.scatter(NFall.packet_loss.tolist(), y = 3100, vmin=0, vmax=10, cmap=cm, alpha=0.5, label=sS+'->'+dS)\n",
    "#plt.scatter(NBall.delay_mean.tolist(), NBall.packet_loss.tolist(), c=NBall.throughput.tolist(), vmin=0, vmax=10, cmap=cm, alpha=0.5, label=dS+'->'+sS)\n",
    "plt.xlabel('one way delay [ms]')\n",
    "plt.ylabel('packet loss')#,rotation='horizontal')\n",
    "plt.ylim(ymin=-0.0001)\n",
    "plt.xscale(\"log\")\n",
    "plt.colorbar(sc)\n",
    "plt.legend()\n",
    "\n",
    "#ax2 = plt.subplot(gs[1])\n",
    "#heatmap = ax2.pcolor(NFall.delay_mean.tolist(), NFall.throughput.tolist(), NFall.delay_mean.tolist(), cmap='PuBu_r')\n",
    "# ax2.plot(Fpl.timestamp.tolist(), np.sqrt(Fpl.packet_loss).tolist(), ls='', marker='.', c='r', label=sS+'->'+dS)\n",
    "# ax2.plot(Bpl.timestamp.tolist(), np.sqrt(Bpl.packet_loss).tolist(), ls='', marker='.', c='b', label=dS+'->'+sS)\n",
    "# ax2.set_xlabel('time')\n",
    "# ax2.set_ylabel('sqrt(packet loss) [%]')\n",
    "# ax2.legend()\n",
    "\n",
    "# ax4 = plt.subplot(gs[2])\n",
    "# ax4.plot(Fd.timestamp.tolist(), Fd.delay_mean.tolist(), ls='', marker='.', c='r', label=sS+'->'+dS)\n",
    "# ax4.plot(Bd.timestamp.tolist(), Bd.delay_mean.tolist(), ls='', marker='.', c='b', label=dS+'->'+sS)\n",
    "# ax4.plot(Jd.timestamp.tolist(), Jd.dmean.tolist(), ls='-', marker='.', c='g', label='mean delay')\n",
    "# ax4.set_xlabel('time')\n",
    "# ax4.set_ylabel('one way delay [ms]')\n",
    "# ax4.legend()\n",
    "\n",
    "\n",
    "#plt.savefig('Plots/CorrelationPlotsForLink_' + sS +'_'+ dS + '.png',dpi=200)\n",
    "plt.show()"
   ]
  },
  {
   "cell_type": "code",
   "execution_count": null,
   "metadata": {
    "collapsed": true
   },
   "outputs": [],
   "source": []
  }
 ],
 "metadata": {
  "kernelspec": {
   "display_name": "Python 3",
   "language": "python",
   "name": "python3"
  },
  "language_info": {
   "codemirror_mode": {
    "name": "ipython",
    "version": 3
   },
   "file_extension": ".py",
   "mimetype": "text/x-python",
   "name": "python",
   "nbconvert_exporter": "python",
   "pygments_lexer": "ipython3",
   "version": "3.5.1"
  }
 },
 "nbformat": 4,
 "nbformat_minor": 0
}
