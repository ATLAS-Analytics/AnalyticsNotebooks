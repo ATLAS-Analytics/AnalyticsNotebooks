{
 "cells": [
  {
   "cell_type": "markdown",
   "metadata": {},
   "source": [
    "#### This code generates large dataframe containing multiple timeseries"
   ]
  },
  {
   "cell_type": "code",
   "execution_count": 1,
   "metadata": {
    "collapsed": true
   },
   "outputs": [],
   "source": [
    "%matplotlib inline\n",
    "import numpy as np\n",
    "import pandas as pd\n",
    "import random\n",
    "import matplotlib.pyplot as plt\n",
    "\n",
    "from sklearn.model_selection import cross_val_score\n",
    "from sklearn.ensemble import AdaBoostClassifier"
   ]
  },
  {
   "cell_type": "markdown",
   "metadata": {},
   "source": [
    "#### parameters to set"
   ]
  },
  {
   "cell_type": "code",
   "execution_count": 2,
   "metadata": {
    "collapsed": true
   },
   "outputs": [],
   "source": [
    "n_series = 6\n",
    "n_timesteps = 8*24*3600 # 8 days\n",
    "\n",
    "# regular behaviour\n",
    "max_noise_amplitude = 0.05 # all the timeseries will have values between 0 and 1\n",
    "\n",
    "# anomalies\n",
    "p_anomaly = 10E-6\n",
    "max_anomaly_duration = 4*3600 # 4 h"
   ]
  },
  {
   "cell_type": "markdown",
   "metadata": {},
   "source": [
    "#### generate normal data"
   ]
  },
  {
   "cell_type": "code",
   "execution_count": 3,
   "metadata": {
    "collapsed": true
   },
   "outputs": [],
   "source": [
    "df = pd.DataFrame()\n",
    "for s in range(n_series):\n",
    "    v = np.random.normal(random.random()/2, max_noise_amplitude/random.randint(1, 8), n_timesteps) \n",
    "    df[s]=pd.Series(v)\n",
    "df['Flag']=0\n",
    "#df.head()"
   ]
  },
  {
   "cell_type": "markdown",
   "metadata": {},
   "source": [
    "#### generate anomalies"
   ]
  },
  {
   "cell_type": "code",
   "execution_count": 4,
   "metadata": {
    "collapsed": true
   },
   "outputs": [],
   "source": [
    "to_generate = int(n_timesteps * p_anomaly)\n",
    "for a in range(to_generate):\n",
    "    affects = random.sample(range(n_series), random.randint(1, n_series))\n",
    "    duration = int(max_anomaly_duration * random.random())\n",
    "    start = (n_timesteps * random.random())\n",
    "    end = min(start+duration, n_timesteps)\n",
    "    for s in affects:\n",
    "        df.loc[start:end,s] = df.loc[start:end,s] + random.random() * 0.3\n",
    "    if len(affects)>1:\n",
    "        df.loc[start:end,\"Flag\"]=1\n",
    "        "
   ]
  },
  {
   "cell_type": "markdown",
   "metadata": {},
   "source": [
    "#### enforce range"
   ]
  },
  {
   "cell_type": "code",
   "execution_count": 5,
   "metadata": {
    "collapsed": true
   },
   "outputs": [],
   "source": [
    "df[df<0] = 0\n",
    "df[df>1] = 1"
   ]
  },
  {
   "cell_type": "markdown",
   "metadata": {},
   "source": [
    "#### plot timeseries"
   ]
  },
  {
   "cell_type": "code",
   "execution_count": 6,
   "metadata": {},
   "outputs": [
    {
     "data": {
      "text/plain": [
       "<matplotlib.axes._subplots.AxesSubplot at 0x111f5a3d0>"
      ]
     },
     "execution_count": 6,
     "metadata": {},
     "output_type": "execute_result"
    },
    {
     "data": {
      "image/png": "[encoded data removed]",
      "text/plain": [
       "<matplotlib.figure.Figure at 0x107842110>"
      ]
     },
     "metadata": {},
     "output_type": "display_data"
    }
   ],
   "source": [
    "df.plot()"
   ]
  },
  {
   "cell_type": "markdown",
   "metadata": {},
   "source": [
    "#### running BDT"
   ]
  },
  {
   "cell_type": "code",
   "execution_count": 7,
   "metadata": {
    "collapsed": true
   },
   "outputs": [],
   "source": [
    "clf = AdaBoostClassifier(n_estimators=100)\n",
    "# y=df.Flag\n",
    "# X=df.loc[:,range(n_series)]\n",
    "# scores = cross_val_score(clf, X, y)\n",
    "# print(scores)"
   ]
  },
  {
   "cell_type": "markdown",
   "metadata": {
    "collapsed": true
   },
   "source": [
    "#### separate data into Reference and Subject"
   ]
  },
  {
   "cell_type": "code",
   "execution_count": 8,
   "metadata": {},
   "outputs": [
    {
     "name": "stderr",
     "output_type": "stream",
     "text": [
      "/Users/jameszhang/anaconda2/lib/python2.7/site-packages/pandas/core/generic.py:2999: SettingWithCopyWarning: \n",
      "A value is trying to be set on a copy of a slice from a DataFrame.\n",
      "Try using .loc[row_indexer,col_indexer] = value instead\n",
      "\n",
      "See the caveats in the documentation: http://pandas.pydata.org/pandas-docs/stable/indexing.html#indexing-view-versus-copy\n",
      "  self[name] = value\n"
     ]
    }
   ],
   "source": [
    "reference = df[:n_timesteps/4] #reference data refers to the data collected from the first 2 days\n",
    "reference.loc[:].Flag = 0 # Flagging the reference data as 0\n",
    "X_ref = reference.loc[:, range(n_series)] #refers to the feature set data\n",
    "y_ref = reference.Flag #refers to the label data\n",
    "subject = df[n_timesteps-3600:] #subject data refers to the data collected from the last hour\n",
    "subject.loc[:].Flag = 1 # Flagging the subject data as 1\n",
    "X_sub = subject.loc[:, range(n_series)] #refers to the feature set data\n",
    "y_sub = subject.Flag #refers to the label data"
   ]
  },
  {
   "cell_type": "markdown",
   "metadata": {},
   "source": [
    "#### separate Reference and Subject into Train and Test"
   ]
  },
  {
   "cell_type": "code",
   "execution_count": 9,
   "metadata": {
    "collapsed": true
   },
   "outputs": [],
   "source": [
    "refTrainSize = reference.shape[0] * 0.7 #training size of reference data is 70% of the data\n",
    "X_ref_train = X_ref.loc[:refTrainSize, range(n_series)] #take 70% of the reference feature data\n",
    "X_ref_test  = X_ref.loc[refTrainSize:, range(n_series)] #take 30% of the reference feature data\n",
    "y_ref_train = y_ref.loc[:refTrainSize] #take 70% of the reference label data\n",
    "y_ref_test  = y_ref.loc[refTrainSize:] #take 30% of the reference label data\n",
    "\n",
    "subTrainSize = subject.shape[0] * 0.7 #training size of subject data is 70% of the data\n",
    "X_sub_train = subject.loc[:subTrainSize, range(n_series)] #take 70% of the subject feature data\n",
    "X_sub_test  = subject.loc[subTrainSize:, range(n_series)] #take 30% of the subject feature data\n",
    "y_sub_train = y_sub.loc[:subTrainSize] #take 70% of the subject label data\n",
    "y_sub_test  = y_sub.loc[subTrainSize:] #take 30% of the subject label data"
   ]
  },
  {
   "cell_type": "markdown",
   "metadata": {},
   "source": [
    "#### Combine reference and subject train and test datasets"
   ]
  },
  {
   "cell_type": "code",
   "execution_count": 10,
   "metadata": {
    "collapsed": true
   },
   "outputs": [],
   "source": [
    "X_train_frames = [X_ref_train, X_sub_train] \n",
    "X_train = pd.concat(X_train_frames) #combine the 70% training data features from both reference and subject\n",
    "y_train_frames = [y_ref_train, y_sub_train]\n",
    "y_train = pd.concat(y_train_frames) #combine the 70% training data label from both reference and subject\n",
    "\n",
    "X_test_frames = [X_ref_test, X_sub_test]\n",
    "X_test = pd.concat(X_test_frames) #combine the 30% training data features from both reference and subject\n",
    "y_test_frames = [y_ref_test, y_sub_test]\n",
    "y_test = pd.concat(y_test_frames) #combine the 30% training data label from both reference and subject"
   ]
  },
  {
   "cell_type": "markdown",
   "metadata": {},
   "source": [
    "#### Train model using the combined train data"
   ]
  },
  {
   "cell_type": "code",
   "execution_count": 15,
   "metadata": {},
   "outputs": [
    {
     "data": {
      "text/plain": [
       "AdaBoostClassifier(algorithm='SAMME.R', base_estimator=None,\n",
       "          learning_rate=1.0, n_estimators=100, random_state=None)"
      ]
     },
     "execution_count": 15,
     "metadata": {},
     "output_type": "execute_result"
    }
   ],
   "source": [
    "clf.fit(X_train, y_train) \n",
    "#train an AdaBoost model to be able to tell the difference between the reference and subject data"
   ]
  },
  {
   "cell_type": "markdown",
   "metadata": {},
   "source": [
    "#### Predict using the combined test data"
   ]
  },
  {
   "cell_type": "code",
   "execution_count": 16,
   "metadata": {
    "collapsed": true
   },
   "outputs": [],
   "source": [
    "y_predict = clf.predict(X_test)\n",
    "#use the trained AdaBoost model on the testing data. This is the predicted result"
   ]
  },
  {
   "cell_type": "markdown",
   "metadata": {},
   "source": [
    "#### Calculate AUC"
   ]
  },
  {
   "cell_type": "code",
   "execution_count": 17,
   "metadata": {},
   "outputs": [
    {
     "name": "stdout",
     "output_type": "stream",
     "text": [
      "0.5\n"
     ]
    }
   ],
   "source": [
    "from sklearn.metrics import roc_curve, auc\n",
    "#from sklearn.preprocessing import LabelBinarizer\n",
    "\n",
    "# convert False and True to 0 and 1\n",
    "#lb = LabelBinarizer()\n",
    "#y_test_transformed = lb.fit_transform(y_test)\n",
    "#y_predict_transformed = lb.fit_transform(y_predict)\n",
    "fpr, tpr, thresholds = roc_curve(y_test, y_predict) # calculate the false positive rate and true positive rate\n",
    "auc_score = auc(fpr, tpr) #calculate the AUC score\n",
    "print auc_score #finds the auc score. If auc~.5, then no anomalies. If auc>0.5, then there are anomalies"
   ]
  },
  {
   "cell_type": "code",
   "execution_count": 18,
   "metadata": {},
   "outputs": [
    {
     "data": {
      "text/plain": [
       "<matplotlib.axes._subplots.AxesSubplot at 0x113ec9690>"
      ]
     },
     "execution_count": 18,
     "metadata": {},
     "output_type": "execute_result"
    },
    {
     "data": {
      "image/png": "[encoded data removed]",
      "text/plain": [
       "<matplotlib.figure.Figure at 0x111f5a490>"
      ]
     },
     "metadata": {},
     "output_type": "display_data"
    }
   ],
   "source": [
    "X=df.loc[:,range(n_series)] # get all the features\n",
    "y_predict = clf.predict(X)  # predict whole list of Flags\n",
    "y_predict_df = pd.DataFrame(y_predict, columns=['Predict_Flag']) #label my predicted anomalies\n",
    "# X_test_reset_index = X_test.reset_index(drop=True)\n",
    "x_y_combined = pd.concat([df, y_predict_df], axis=1) #append the column to the right of the original table\n",
    "x_y_combined.plot()"
   ]
  },
  {
   "cell_type": "code",
   "execution_count": null,
   "metadata": {
    "collapsed": true
   },
   "outputs": [],
   "source": []
  }
 ],
 "metadata": {
  "kernelspec": {
   "display_name": "Python 2",
   "language": "python",
   "name": "python2"
  },
  "language_info": {
   "codemirror_mode": {
    "name": "ipython",
    "version": 2
   },
   "file_extension": ".py",
   "mimetype": "text/x-python",
   "name": "python",
   "nbconvert_exporter": "python",
   "pygments_lexer": "ipython2",
   "version": "2.7.13"
  }
 },
 "nbformat": 4,
 "nbformat_minor": 1
}
