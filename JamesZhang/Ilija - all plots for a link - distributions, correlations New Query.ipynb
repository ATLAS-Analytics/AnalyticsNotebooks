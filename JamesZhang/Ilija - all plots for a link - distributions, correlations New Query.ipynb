{
 "cells": [
  {
   "cell_type": "markdown",
   "metadata": {},
   "source": [
    "## Plots delays, throughputs, packet loss and path for a selected link"
   ]
  },
  {
   "cell_type": "code",
   "execution_count": 1,
   "metadata": {
    "collapsed": true
   },
   "outputs": [],
   "source": [
    "%matplotlib inline\n",
    "from elasticsearch import Elasticsearch\n",
    "from elasticsearch.helpers import scan\n",
    "from datetime import datetime\n",
    "import math\n",
    "import matplotlib.pyplot as plt\n",
    "import matplotlib.mlab as mlab\n",
    "from matplotlib import gridspec\n",
    "from datetime import datetime\n",
    "import numpy as np\n",
    "import pandas as pd\n",
    "\n",
    "es = Elasticsearch(['atlas-kibana.mwt2.org:9200'],timeout=60)\n",
    "indices = \"network_weather-2017.8.*\"\n",
    "\n",
    "my_query = {}"
   ]
  },
  {
   "cell_type": "markdown",
   "metadata": {},
   "source": [
    "##  Select your link"
   ]
  },
  {
   "cell_type": "code",
   "execution_count": 2,
   "metadata": {
    "collapsed": true
   },
   "outputs": [],
   "source": [
    "# sS='UC'\n",
    "# srcSiteOWDServer = \"192.170.227.160\"\n",
    "# srcSiteThroughputServer = \"192.170.227.162\"\n",
    "\n",
    "sS='CERN-PROD'\n",
    "srcSiteOWDServer = \"128.142.223.247\"\n",
    "srcSiteThroughputServer = \"128.142.223.246\"\n",
    "\n",
    "# dS='IU'\n",
    "# destSiteOWDServer = \"149.165.225.223\"\n",
    "# destSiteThroughputServer = \"149.165.225.224\"\n",
    "\n",
    "# dS='UIUC'\n",
    "# destSiteOWDServer = \"72.36.96.4\"\n",
    "# destSiteThroughputServer = \"72.36.96.9\"\n",
    "\n",
    "# dS='ICCN'\n",
    "# destSiteOWDServer = \"72.36.96.4\"\n",
    "# destSiteThroughputServer = \"72.36.126.132\"\n",
    "\n",
    "dS='pic'\n",
    "destSiteOWDServer = \"193.109.172.188\"\n",
    "destSiteThroughputServer = \"193.109.172.187\""
   ]
  },
  {
   "cell_type": "markdown",
   "metadata": {},
   "source": [
    "## Get the data from Elasticsearch, and store the record based on its type"
   ]
  },
  {
   "cell_type": "code",
   "execution_count": null,
   "metadata": {
    "collapsed": true
   },
   "outputs": [],
   "source": [
    "my_query = {\n",
    "    'query': { \n",
    "       'bool':{\n",
    "            'must':[\n",
    "                    {'range': {'timestamp': {'gte': '20170801T000000Z', 'lt': '20170830T000000Z'}}},\n",
    "                        {'bool':\n",
    "                            {'should':[\n",
    "                                {'term': {'src': srcSiteOWDServer}},\n",
    "                                {'term': {'src': srcSiteThroughputServer}},\n",
    "                                {'term': {'src': destSiteOWDServer}},\n",
    "                                {'term': {'src': destSiteThroughputServer}}\n",
    "                            ]}\n",
    "                        },\n",
    "                        {'bool':\n",
    "                            {'should':[\n",
    "                                {'term': {'dest': destSiteOWDServer}},\n",
    "                                {'term': {'dest': destSiteThroughputServer}},\n",
    "                                {'term': {'dest': srcSiteOWDServer}},\n",
    "                                {'term': {'dest': srcSiteThroughputServer}}\n",
    "                            ]}\n",
    "                        }\n",
    "                    ]\n",
    "                }\n",
    "        \n",
    "        }\n",
    "    }\n",
    "\n",
    "\n",
    "scroll = list(scan(client=es, index=indices, query=my_query))\n"
   ]
  },
  {
   "cell_type": "code",
   "execution_count": null,
   "metadata": {},
   "outputs": [
    {
     "name": "stdout",
     "output_type": "stream",
     "text": [
      "{'_id': 'AV388P04NILXDji8UuZH', '_score': None, '_index': 'network_weather-2017.8.20', '_type': 'latency', 'sort': [6], '_source': {'srcProduction': True, 'srcSite': 'pic', 'delay_sd': 1.738300023650182, 'delay_mean': 15.604833333333334, 'dest': '128.142.223.247', 'destProduction': True, 'src': '193.109.172.188', 'destSite': 'CERN-PROD', 'srcVO': 'ATLAS', 'src_host': 'psl01.pic.es', 'delay_median': 15.43, 'timestamp': 1503187206000, 'ipv6': False, 'destVO': 'ATLAS', 'dest_host': 'perfsonar-lt.cern.ch', 'MA': '193.109.172.188'}}\n"
     ]
    }
   ],
   "source": [
    "site = {srcSiteOWDServer: sS, srcSiteThroughputServer: sS, destSiteOWDServer:dS, destSiteThroughputServer:dS}\n",
    "data = {sS:pd.DataFrame(),dS:pd.DataFrame()}\n",
    "epoch = datetime.utcfromtimestamp(0)\n",
    "count = 0\n",
    "for res in scroll:\n",
    "    if count<1: print(res)\n",
    "    count += 1\n",
    "#     dt=datetime.strptime(res['_source']['timestamp'], '%Y-%m-%dT%H:%M:%S') # for data before Oct. 15 2016\n",
    "    dt=datetime.utcfromtimestamp(res['_source']['timestamp']/1000.0)\n",
    "    ts = (dt - epoch).total_seconds() * 1000.0\n",
    "    s=site[res['_source']['src']]\n",
    "    data[s].set_value(ts, 'timestamp', dt)\n",
    "    column_type = res['_type']\n",
    "    if column_type == 'latency':\n",
    "        data[s].set_value( ts, 'delay_median', res['_source']['delay_median'])\n",
    "        data[s].set_value( ts, 'delay_mean', res['_source']['delay_mean'])\n",
    "        data[s].set_value( ts, 'delay_sd', res['_source']['delay_sd'])\n",
    "    elif column_type == 'packet_loss_rate':\n",
    "        data[s].set_value( ts, 'packet_loss', res['_source']['packet_loss'])\n",
    "    elif column_type == 'throughput':\n",
    "        data[s].set_value( ts, 'throughput', res['_source']['throughput']/1024./1024./1024.)\n",
    "    elif column_type == 'traceroute':\n",
    "        data[s].set_value( ts, 'hash', res['_source']['hash'])\n",
    "print(count)"
   ]
  },
  {
   "cell_type": "code",
   "execution_count": null,
   "metadata": {
    "scrolled": false
   },
   "outputs": [],
   "source": [
    "data[sS].sort_index(inplace=True) \n",
    "data[sS].describe()\n",
    "\n",
    "data[dS].sort_index(inplace=True) \n",
    "data[dS].describe()"
   ]
  },
  {
   "cell_type": "markdown",
   "metadata": {},
   "source": [
    "### Extract values"
   ]
  },
  {
   "cell_type": "code",
   "execution_count": null,
   "metadata": {
    "collapsed": true
   },
   "outputs": [],
   "source": [
    "F = data[sS]\n",
    "B = data[dS]\n",
    "Fthr = F[F.throughput.notnull()]    # Get the lines (i.e. times) whose throughput is not null\n",
    "Bthr = B[B.throughput.notnull()]  \n",
    "Fpl = F[F.packet_loss.notnull()]\n",
    "Bpl = B[B.packet_loss.notnull()]\n",
    "# Fd = F[F.delay_mean.notnull()]\n",
    "# Bd = B[B.delay_mean.notnull()]\n",
    "Fd = F[F.delay_mean<150]\n",
    "Bd = B[B.delay_mean<150]\n",
    "Jd = Fd.join(Bd,how='inner', rsuffix=\"_back\")\n",
    "Jd['dmean']= (Jd.delay_mean + Jd.delay_mean_back)/2\n",
    "\n",
    "Fh = F[F.hash.notnull()]\n",
    "Bh = B[B.hash.notnull()]\n",
    "Fids=[];Bids=[]\n",
    "Fu=[];Bu=[]\n",
    "\n",
    "for fi in Fh.hash.tolist():\n",
    "    if fi not in Fu: Fu.append(fi)\n",
    "    Fids.append(Fu.index(fi))\n",
    "for fi in Bh.hash.tolist():\n",
    "    if fi not in Bu: Bu.append(fi)\n",
    "    Bids.append(Bu.index(fi))"
   ]
  },
  {
   "cell_type": "markdown",
   "metadata": {
    "scrolled": true
   },
   "source": [
    "#### interpolate all the values and leave only onese where all 4 measurements are there"
   ]
  },
  {
   "cell_type": "code",
   "execution_count": null,
   "metadata": {},
   "outputs": [],
   "source": [
    "NF=F.interpolate(method='index',limit=3,limit_direction='both')\n",
    "NFall = NF[NF.throughput.notnull()]\n",
    "NFall = NFall[NFall.delay_mean.notnull()]\n",
    "NFall = NFall[NFall.packet_loss.notnull()]\n",
    "NFall = NFall[NFall.hash.notnull()]\n",
    "\n",
    "NB=B.interpolate(method='index',limit=3,limit_direction='both')\n",
    "NBal = NB[NB.throughput.notnull()]\n",
    "NBall = NBal[NBal.delay_mean.notnull()]\n",
    "print(NFall.shape,NBall.shape)"
   ]
  },
  {
   "cell_type": "code",
   "execution_count": null,
   "metadata": {
    "collapsed": true
   },
   "outputs": [],
   "source": [
    "print(NFall)"
   ]
  },
  {
   "cell_type": "code",
   "execution_count": null,
   "metadata": {
    "collapsed": true
   },
   "outputs": [],
   "source": [
    "#NFall"
   ]
  },
  {
   "cell_type": "code",
   "execution_count": null,
   "metadata": {},
   "outputs": [],
   "source": [
    "print( 'throughput  forward: ', Fthr.shape[0], ' backward: ', Bthr.shape[0])\n",
    "print( 'packet loss forward: ', Fpl.shape[0],  ' backward: ', Bpl.shape[0])\n",
    "print( 'delay       forward: ', Fd.shape[0],   ' backward: ', Bd.shape[0])\n",
    "print( 'hash        forward: ', Fh.shape[0],   ' backward: ', Bh.shape[0])"
   ]
  },
  {
   "cell_type": "code",
   "execution_count": null,
   "metadata": {
    "scrolled": true
   },
   "outputs": [],
   "source": [
    "plt.figure(figsize=[16, 17])\n",
    "gs = gridspec.GridSpec(4, 1)\n",
    "\n",
    "ax0 = plt.subplot(gs[0])\n",
    "ax0.plot(Fthr.timestamp.tolist(), Fthr.throughput.tolist(), ls='-', marker='>', c='r', label=sS+'->'+dS)\n",
    "ax0.plot(Bthr.timestamp.tolist(), Bthr.throughput.tolist(), ls='-', marker='<', c='b', label=dS+'->'+sS)\n",
    "ax0.set_xlabel('time')\n",
    "ax0.set_ylabel('throughput [Gbps]')#,rotation='horizontal')\n",
    "#ax0.xlim(xmin=0)\n",
    "ax0.legend()\n",
    "\n",
    "ax2 = plt.subplot(gs[1])\n",
    "ax2.plot(Fpl.timestamp.tolist(), np.sqrt(Fpl.packet_loss).tolist(), ls='', marker='.', c='r', label=sS+'->'+dS)\n",
    "ax2.plot(Bpl.timestamp.tolist(), np.sqrt(Bpl.packet_loss).tolist(), ls='', marker='.', c='b', label=dS+'->'+sS)\n",
    "ax2.set_xlabel('time')\n",
    "ax2.set_ylabel('sqrt(packet loss) [%]')\n",
    "ax2.legend()\n",
    "\n",
    "ax4 = plt.subplot(gs[2])\n",
    "ax4.plot(Fd.timestamp.tolist(), Fd.delay_mean.tolist(), ls='', marker='.', c='r', label=sS+'->'+dS)\n",
    "ax4.plot(Bd.timestamp.tolist(), Bd.delay_mean.tolist(), ls='', marker='.', c='b', label=dS+'->'+sS)\n",
    "ax4.plot(Jd.timestamp.tolist(), Jd.dmean.tolist(), ls='-', marker='.', c='g', label='mean delay')\n",
    "ax4.set_xlabel('time')\n",
    "ax4.set_ylabel('one way delay [ms]')\n",
    "ax4.legend()\n",
    "\n",
    "ax6 = plt.subplot(gs[3])\n",
    "ax6.plot(Fh.timestamp.tolist(), Fids, ls='', marker='.', c='r', label=sS+'->'+dS)\n",
    "ax6.plot(Bh.timestamp.tolist(), Bids, ls='', marker='.', c='b', label=dS+'->'+sS)\n",
    "ax6.set_xlabel('time')\n",
    "ax6.set_ylabel('path index')\n",
    "ax6.legend()\n",
    "\n",
    "#plt.savefig('Plots/4PlotForLink_' + sS +'_'+ dS + '.png',dpi=200)\n",
    "plt.show()"
   ]
  },
  {
   "cell_type": "code",
   "execution_count": null,
   "metadata": {},
   "outputs": [],
   "source": [
    "plt.figure(figsize=[8, 8])\n",
    "\n",
    "#print (NFall.delay_mean.tolist(),NFall.throughput.tolist(),NFall.packet_loss.tolist())\n",
    "\n",
    "cm = plt.cm.get_cmap('RdYlBu')\n",
    "\n",
    "sc=plt.scatter(NFall.delay_mean.tolist(), NFall.packet_loss.tolist(), c=NFall.throughput.tolist(), vmin=0, vmax=10, cmap=cm, alpha=0.5, label=sS+'->'+dS)\n",
    "#plt.scatter(NBall.delay_mean.tolist(), NBall.packet_loss.tolist(), c=NBall.throughput.tolist(), vmin=0, vmax=10, cmap=cm, alpha=0.5, label=dS+'->'+sS)\n",
    "plt.xlabel('one way delay [ms]')\n",
    "plt.ylabel('packet loss')#,rotation='horizontal')\n",
    "plt.ylim(ymin=-0.0001)\n",
    "plt.xscale(\"log\")\n",
    "plt.colorbar(sc)\n",
    "plt.legend()\n",
    "\n",
    "#ax2 = plt.subplot(gs[1])\n",
    "#heatmap = ax2.pcolor(NFall.delay_mean.tolist(), NFall.throughput.tolist(), NFall.delay_mean.tolist(), cmap='PuBu_r')\n",
    "# ax2.plot(Fpl.timestamp.tolist(), np.sqrt(Fpl.packet_loss).tolist(), ls='', marker='.', c='r', label=sS+'->'+dS)\n",
    "# ax2.plot(Bpl.timestamp.tolist(), np.sqrt(Bpl.packet_loss).tolist(), ls='', marker='.', c='b', label=dS+'->'+sS)\n",
    "# ax2.set_xlabel('time')\n",
    "# ax2.set_ylabel('sqrt(packet loss) [%]')\n",
    "# ax2.legend()\n",
    "\n",
    "# ax4 = plt.subplot(gs[2])\n",
    "# ax4.plot(Fd.timestamp.tolist(), Fd.delay_mean.tolist(), ls='', marker='.', c='r', label=sS+'->'+dS)\n",
    "# ax4.plot(Bd.timestamp.tolist(), Bd.delay_mean.tolist(), ls='', marker='.', c='b', label=dS+'->'+sS)\n",
    "# ax4.plot(Jd.timestamp.tolist(), Jd.dmean.tolist(), ls='-', marker='.', c='g', label='mean delay')\n",
    "# ax4.set_xlabel('time')\n",
    "# ax4.set_ylabel('one way delay [ms]')\n",
    "# ax4.legend()\n",
    "\n",
    "\n",
    "#plt.savefig('Plots/CorrelationPlotsForLink_' + sS +'_'+ dS + '.png',dpi=200)\n",
    "plt.show()"
   ]
  },
  {
   "cell_type": "markdown",
   "metadata": {
    "collapsed": true
   },
   "source": [
    "## learn SVR over 70% of data"
   ]
  },
  {
   "cell_type": "code",
   "execution_count": null,
   "metadata": {},
   "outputs": [],
   "source": [
    "from sklearn import svm\n",
    "trainingSetSize=int(NFall.shape[0]*.7)\n",
    "XP = NFall[['delay_mean', 'packet_loss']].iloc[:trainingSetSize].values\n",
    "XT = NFall[['delay_mean', 'packet_loss']].iloc[trainingSetSize:].values\n",
    "y = np.ravel(NFall[[ 'throughput']].values.tolist()).tolist()\n",
    "yP=y[:trainingSetSize]\n",
    "yT=y[trainingSetSize:]\n",
    "print('training set: ',XP.shape[0], 'testing set:', XT.shape[0])\n",
    "print(len(yP),len(yT))"
   ]
  },
  {
   "cell_type": "code",
   "execution_count": null,
   "metadata": {},
   "outputs": [],
   "source": [
    "clf = svm.SVR()\n",
    "f = clf.fit(XP, yP)\n",
    "print(f)"
   ]
  },
  {
   "cell_type": "markdown",
   "metadata": {},
   "source": [
    "### predict for the rest of data"
   ]
  },
  {
   "cell_type": "code",
   "execution_count": null,
   "metadata": {},
   "outputs": [],
   "source": [
    "tP=clf.predict(XT)\n",
    "#TP\n",
    "\n",
    "plt.figure(figsize=[5, 5])\n",
    "plt.scatter(yT,tP)\n",
    "plt.xlabel('actual values [Gbps]')\n",
    "plt.ylabel('predicted values [Gbps]')\n",
    "\n",
    "#plt.savefig('Plots/SVRpredictionResults' + sS +'_'+ dS + '.png',dpi=200)\n",
    "plt.show()"
   ]
  },
  {
   "cell_type": "code",
   "execution_count": null,
   "metadata": {},
   "outputs": [],
   "source": [
    "res = yT-tP\n",
    "res.std()"
   ]
  },
  {
   "cell_type": "code",
   "execution_count": null,
   "metadata": {
    "collapsed": true
   },
   "outputs": [],
   "source": []
  }
 ],
 "metadata": {
  "kernelspec": {
   "display_name": "Python 3",
   "language": "python",
   "name": "python3"
  },
  "language_info": {
   "codemirror_mode": {
    "name": "ipython",
    "version": 3
   },
   "file_extension": ".py",
   "mimetype": "text/x-python",
   "name": "python",
   "nbconvert_exporter": "python",
   "pygments_lexer": "ipython3",
   "version": "3.4.5"
  }
 },
 "nbformat": 4,
 "nbformat_minor": 1
}
