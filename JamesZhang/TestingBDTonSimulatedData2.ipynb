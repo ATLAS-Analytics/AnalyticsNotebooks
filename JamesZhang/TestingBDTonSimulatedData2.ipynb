{
 "cells": [
  {
   "cell_type": "markdown",
   "metadata": {},
   "source": [
    "#### This code generates large dataframe containing multiple timeseries"
   ]
  },
  {
   "cell_type": "code",
   "execution_count": 1,
   "metadata": {
    "collapsed": true
   },
   "outputs": [],
   "source": [
    "%matplotlib inline\n",
    "import numpy as np\n",
    "import pandas as pd\n",
    "import random\n",
    "import matplotlib.pyplot as plt\n",
    "\n",
    "from sklearn.model_selection import cross_val_score\n",
    "from sklearn.ensemble import AdaBoostClassifier"
   ]
  },
  {
   "cell_type": "markdown",
   "metadata": {},
   "source": [
    "#### parameters to set"
   ]
  },
  {
   "cell_type": "code",
   "execution_count": 2,
   "metadata": {
    "collapsed": true
   },
   "outputs": [],
   "source": [
    "n_series = 6\n",
    "n_timesteps = 8*24*3600 # 8 days\n",
    "\n",
    "# regular behaviour\n",
    "max_noise_amplitude = 0.05 # all the timeseries will have values between 0 and 1\n",
    "\n",
    "# anomalies\n",
    "p_anomaly = 10E-6\n",
    "max_anomaly_duration = 4*3600 # 4 h"
   ]
  },
  {
   "cell_type": "markdown",
   "metadata": {},
   "source": [
    "#### generate normal data"
   ]
  },
  {
   "cell_type": "code",
   "execution_count": 3,
   "metadata": {
    "collapsed": true
   },
   "outputs": [],
   "source": [
    "df = pd.DataFrame()\n",
    "for s in range(n_series):\n",
    "    v = np.random.normal(random.random()/2, max_noise_amplitude/random.randint(1, 8), n_timesteps) \n",
    "    df[s]=pd.Series(v)\n",
    "df['Flag']=False\n",
    "#df.head()"
   ]
  },
  {
   "cell_type": "markdown",
   "metadata": {},
   "source": [
    "#### generate anomalies"
   ]
  },
  {
   "cell_type": "code",
   "execution_count": 4,
   "metadata": {
    "collapsed": true
   },
   "outputs": [],
   "source": [
    "to_generate = int(n_timesteps * p_anomaly)\n",
    "for a in range(to_generate):\n",
    "    affects = random.sample(range(n_series), random.randint(1, n_series))\n",
    "    duration = int(max_anomaly_duration * random.random())\n",
    "    start = (n_timesteps * random.random())\n",
    "    end = min(start+duration, n_timesteps)\n",
    "    for s in affects:\n",
    "        df.loc[start:end,s] = df.loc[start:end,s] + random.random() * 0.3\n",
    "    if len(affects)>1:\n",
    "        df.loc[start:end,\"Flag\"]=True\n",
    "        "
   ]
  },
  {
   "cell_type": "markdown",
   "metadata": {},
   "source": [
    "#### enforce range"
   ]
  },
  {
   "cell_type": "code",
   "execution_count": 5,
   "metadata": {
    "collapsed": true
   },
   "outputs": [],
   "source": [
    "df[df<0] = 0\n",
    "df[df>1] = 1"
   ]
  },
  {
   "cell_type": "markdown",
   "metadata": {},
   "source": [
    "#### plot timeseries"
   ]
  },
  {
   "cell_type": "code",
   "execution_count": 6,
   "metadata": {
    "collapsed": false
   },
   "outputs": [
    {
     "data": {
      "text/plain": [
       "<matplotlib.axes._subplots.AxesSubplot at 0x11067d150>"
      ]
     },
     "execution_count": 6,
     "metadata": {},
     "output_type": "execute_result"
    },
    {
     "data": {
      "image/png": "[encoded data removed]",
      "text/plain": [
       "<matplotlib.figure.Figure at 0x11066fb50>"
      ]
     },
     "metadata": {},
     "output_type": "display_data"
    }
   ],
   "source": [
    "df.plot()"
   ]
  },
  {
   "cell_type": "markdown",
   "metadata": {},
   "source": [
    "#### running BDT"
   ]
  },
  {
   "cell_type": "code",
   "execution_count": 7,
   "metadata": {
    "collapsed": true
   },
   "outputs": [],
   "source": [
    "clf = AdaBoostClassifier(n_estimators=100)\n",
    "# y=df.Flag\n",
    "# X=df.loc[:,range(n_series)]\n",
    "# scores = cross_val_score(clf, X, y)\n",
    "# print(scores)"
   ]
  },
  {
   "cell_type": "markdown",
   "metadata": {
    "collapsed": true
   },
   "source": [
    "#### separate data into Reference and Subject"
   ]
  },
  {
   "cell_type": "code",
   "execution_count": 8,
   "metadata": {
    "collapsed": true
   },
   "outputs": [],
   "source": [
    "reference = df[:n_timesteps/2] #first 4 days\n",
    "X_ref = reference.loc[:, range(n_series)]\n",
    "y_ref = reference.Flag\n",
    "subject = df[n_timesteps/2:] #remaining 4 days\n",
    "X_sub = subject.loc[:, range(n_series)]\n",
    "y_sub = subject.Flag"
   ]
  },
  {
   "cell_type": "markdown",
   "metadata": {},
   "source": [
    "#### separate Reference and Subject into Train and Test"
   ]
  },
  {
   "cell_type": "code",
   "execution_count": 9,
   "metadata": {
    "collapsed": true
   },
   "outputs": [],
   "source": [
    "refTrainSize = reference.shape[0] * 0.7\n",
    "X_ref_train = X_ref.loc[:refTrainSize, range(n_series)]\n",
    "X_ref_test  = X_ref.loc[refTrainSize:, range(n_series)]\n",
    "y_ref_train = y_ref.loc[:refTrainSize]\n",
    "y_ref_test  = y_ref.loc[refTrainSize:]\n",
    "\n",
    "subTrainSize = subject.shape[0] * 0.7\n",
    "X_sub_train = subject.loc[:subTrainSize, range(n_series)]\n",
    "X_sub_test  = subject.loc[subTrainSize:, range(n_series)]\n",
    "y_sub_train = y_sub.loc[:subTrainSize]\n",
    "y_sub_test  = y_sub.loc[subTrainSize:]"
   ]
  },
  {
   "cell_type": "markdown",
   "metadata": {},
   "source": [
    "#### Combine reference and subject train and test datasets"
   ]
  },
  {
   "cell_type": "code",
   "execution_count": 10,
   "metadata": {
    "collapsed": true
   },
   "outputs": [],
   "source": [
    "X_train_frames = [X_ref_train, X_sub_train]\n",
    "X_train = pd.concat(X_train_frames)\n",
    "y_train_frames = [y_ref_train, y_sub_train]\n",
    "y_train = pd.concat(y_train_frames)\n",
    "\n",
    "X_test_frames = [X_ref_test, X_sub_test]\n",
    "X_test = pd.concat(X_test_frames)\n",
    "y_test_frames = [y_ref_test, y_sub_test]\n",
    "y_test = pd.concat(y_test_frames)"
   ]
  },
  {
   "cell_type": "markdown",
   "metadata": {},
   "source": [
    "#### Train model using the combined train data"
   ]
  },
  {
   "cell_type": "code",
   "execution_count": 11,
   "metadata": {
    "collapsed": false
   },
   "outputs": [
    {
     "data": {
      "text/plain": [
       "AdaBoostClassifier(algorithm='SAMME.R', base_estimator=None,\n",
       "          learning_rate=1.0, n_estimators=100, random_state=None)"
      ]
     },
     "execution_count": 11,
     "metadata": {},
     "output_type": "execute_result"
    }
   ],
   "source": [
    "clf.fit(X_train, y_train)"
   ]
  },
  {
   "cell_type": "markdown",
   "metadata": {},
   "source": [
    "#### Predict using the combined test data"
   ]
  },
  {
   "cell_type": "code",
   "execution_count": 12,
   "metadata": {
    "collapsed": true
   },
   "outputs": [],
   "source": [
    "y_predict = clf.predict(X_test)"
   ]
  },
  {
   "cell_type": "markdown",
   "metadata": {},
   "source": [
    "#### Calculate AUC"
   ]
  },
  {
   "cell_type": "code",
   "execution_count": 13,
   "metadata": {
    "collapsed": false
   },
   "outputs": [
    {
     "name": "stdout",
     "output_type": "stream",
     "text": [
      "1.0\n"
     ]
    }
   ],
   "source": [
    "from sklearn.metrics import roc_curve, auc\n",
    "from sklearn.preprocessing import LabelBinarizer\n",
    "\n",
    "# convert False and True to 0 and 1\n",
    "lb = LabelBinarizer()\n",
    "y_test_transformed = lb.fit_transform(y_test)\n",
    "y_predict_transformed = lb.fit_transform(y_predict)\n",
    "fpr, tpr, thresholds = roc_curve(y_test_transformed, y_predict_transformed)\n",
    "auc_score = auc(fpr, tpr)\n",
    "print auc_score"
   ]
  },
  {
   "cell_type": "markdown",
   "metadata": {
    "collapsed": true
   },
   "source": [
    "#### Graph"
   ]
  },
  {
   "cell_type": "code",
   "execution_count": 16,
   "metadata": {
    "collapsed": true
   },
   "outputs": [],
   "source": [
    "def Adaboost(X_Train,X_Test,y_Train, y_Test):\n",
    "    clf = AdaBoostClassifier(n_estimators=100)\n",
    "    #creates a boosted decision tree\n",
    "    #scores = cross_val_score(clf, iris.data, iris.target)\n",
    "    #scores.mean()  \n",
    "    clf.fit(X_Train,y_Train)\n",
    "    #trains the model\n",
    "    \n",
    "    y_predict = clf.predict(X_Test)\n",
    "    \n",
    "    lb = LabelBinarizer()\n",
    "    y_test_transformed = lb.fit_transform(y_Test)\n",
    "    y_predict_transformed = lb.fit_transform(y_predict)\n",
    "\n",
    "    fpr, tpr, _ = roc_curve(y_test_transformed, y_predict_transformed)\n",
    "    roc_auc = auc(fpr, tpr)\n",
    "\n",
    "    plt.plot(fpr,tpr,color='darkorange',label='ROC curve (area = %0.2f)' % roc_auc)\n",
    "    plt.legend(loc=\"lower right\")\n",
    "    plt.xlabel('False Positive Rate')\n",
    "    plt.ylabel('True Positive Rate')\n",
    "    plt.show()\n",
    "    \n",
    "    return clf"
   ]
  },
  {
   "cell_type": "code",
   "execution_count": 17,
   "metadata": {
    "collapsed": false
   },
   "outputs": [
    {
     "data": {
      "image/png": "[encoded data removed]",
      "text/plain": [
       "<matplotlib.figure.Figure at 0x118dfd1d0>"
      ]
     },
     "metadata": {},
     "output_type": "display_data"
    }
   ],
   "source": [
    "clf=Adaboost(X_train, X_test, y_train, y_test)"
   ]
  },
  {
   "cell_type": "code",
   "execution_count": null,
   "metadata": {
    "collapsed": true
   },
   "outputs": [],
   "source": []
  }
 ],
 "metadata": {
  "kernelspec": {
   "display_name": "Python (ipykernel_py2)",
   "language": "python",
   "name": "ipykernel_py2"
  },
  "language_info": {
   "codemirror_mode": {
    "name": "ipython",
    "version": 2
   },
   "file_extension": ".py",
   "mimetype": "text/x-python",
   "name": "python",
   "nbconvert_exporter": "python",
   "pygments_lexer": "ipython2",
   "version": "2.7.11"
  }
 },
 "nbformat": 4,
 "nbformat_minor": 1
}
