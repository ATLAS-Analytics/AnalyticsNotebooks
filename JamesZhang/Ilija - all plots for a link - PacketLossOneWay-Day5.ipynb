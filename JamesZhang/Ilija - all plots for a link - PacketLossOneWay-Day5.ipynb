{
 "cells": [
  {
   "cell_type": "markdown",
   "metadata": {},
   "source": [
    "## Plots delays, throughputs, packet loss and path for a selected link"
   ]
  },
  {
   "cell_type": "code",
   "execution_count": 1,
   "metadata": {
    "collapsed": false
   },
   "outputs": [],
   "source": [
    "%matplotlib inline\n",
    "from elasticsearch import Elasticsearch\n",
    "from elasticsearch.helpers import scan\n",
    "from datetime import datetime\n",
    "import math\n",
    "import matplotlib.pyplot as plt\n",
    "import matplotlib.mlab as mlab\n",
    "from matplotlib import gridspec\n",
    "from datetime import datetime\n",
    "import numpy as np\n",
    "import pandas as pd\n",
    "\n",
    "es = Elasticsearch(['atlas-kibana.mwt2.org:9200'],timeout=60)\n",
    "indices = \"network_weather-2017.8.*\"\n",
    "\n",
    "my_query = {}\n",
    "\n",
    "from sklearn import tree\n",
    "\n",
    "from sklearn.model_selection import cross_val_score\n",
    "from sklearn.ensemble import AdaBoostClassifier\n",
    "from sklearn.tree import DecisionTreeClassifier\n",
    "\n",
    "import time\n",
    "from sklearn.model_selection import train_test_split"
   ]
  },
  {
   "cell_type": "markdown",
   "metadata": {},
   "source": [
    "##  Select your link"
   ]
  },
  {
   "cell_type": "code",
   "execution_count": 2,
   "metadata": {
    "collapsed": false
   },
   "outputs": [],
   "source": [
    "# sS='UC'\n",
    "# srcSiteOWDServer = \"192.170.227.160\"\n",
    "# srcSiteThroughputServer = \"192.170.227.162\"\n",
    "\n",
    "sS='CERN-PROD'\n",
    "srcSiteOWDServer = \"128.142.223.247\"\n",
    "#srcSiteThroughputServer = \"128.142.223.246\"\n",
    "\n",
    "# dS='IU'\n",
    "# destSiteOWDServer = \"149.165.225.223\"\n",
    "# destSiteThroughputServer = \"149.165.225.224\"\n",
    "\n",
    "# dS='UIUC'\n",
    "# destSiteOWDServer = \"72.36.96.4\"\n",
    "# destSiteThroughputServer = \"72.36.96.9\"\n",
    "\n",
    "# dS='ICCN'\n",
    "# destSiteOWDServer = \"72.36.96.4\"\n",
    "# destSiteThroughputServer = \"72.36.126.132\"\n",
    "\n",
    "dS='pic'\n",
    "destSiteOWDServer = \"193.109.172.188\"\n",
    "#destSiteThroughputServer = \"193.109.172.187\""
   ]
  },
  {
   "cell_type": "markdown",
   "metadata": {},
   "source": [
    "## Get the data from Elasticsearch, and store the record based on its type"
   ]
  },
  {
   "cell_type": "code",
   "execution_count": 3,
   "metadata": {
    "collapsed": false
   },
   "outputs": [],
   "source": [
    "my_query = {\n",
    "    'query': { \n",
    "       'bool':{\n",
    "            'must':[\n",
    "                    {'range': {'timestamp': {'gte': '20170806T000000Z', 'lt': '20170807T000000Z'}}},\n",
    "                        {'bool':\n",
    "                            {'should':[\n",
    "                                {'term': {'src': srcSiteOWDServer}},\n",
    "                                #{'term': {'src': srcSiteThroughputServer}},\n",
    "                                #{'term': {'src': destSiteOWDServer}},\n",
    "                                #{'term': {'src': destSiteThroughputServer}}\n",
    "                            ]}\n",
    "                        },\n",
    "                        {'bool':\n",
    "                            {'should':[\n",
    "                                {'term': {'dest': destSiteOWDServer}},\n",
    "                                #{'term': {'dest': destSiteThroughputServer}},\n",
    "                                #{'term': {'dest': srcSiteOWDServer}},\n",
    "                                #{'term': {'dest': srcSiteThroughputServer}}\n",
    "                            ]}\n",
    "                        }\n",
    "                    ]\n",
    "                }\n",
    "        \n",
    "        }\n",
    "    }\n",
    "\n",
    "\n",
    "scroll = list(scan(client=es, index=indices, query=my_query))\n"
   ]
  },
  {
   "cell_type": "code",
   "execution_count": 4,
   "metadata": {
    "collapsed": false,
    "scrolled": true
   },
   "outputs": [
    {
     "name": "stdout",
     "output_type": "stream",
     "text": [
      "1970-01-01 00:00:00\n",
      "{'_id': 'AV22a_tQNILXDji87T9e', '_source': {'src': '128.142.223.247', 'delay_sd': 0.08682700552759436, 'destProduction': True, 'srcVO': 'ATLAS', 'dest_host': 'psl01.pic.es', 'ipv6': False, 'srcSite': 'CERN-PROD', 'timestamp': 1502004026000, 'dest': '193.109.172.188', 'srcProduction': True, 'delay_mean': 15.160266666666672, 'MA': '128.142.223.247', 'src_host': 'perfsonar-lt.cern.ch', 'destVO': 'ATLAS', 'delay_median': 15.14, 'destSite': 'pic'}, '_score': None, '_index': 'network_weather-2017.8.6', '_type': 'latency', 'sort': [1272]}\n",
      "2017-08-06 07:20:26\n",
      "{'_id': 'AV22a_tQNILXDji87T9f', '_source': {'src': '128.142.223.247', 'delay_sd': 0.0939786677922177, 'destProduction': True, 'srcVO': 'ATLAS', 'dest_host': 'psl01.pic.es', 'ipv6': False, 'srcSite': 'CERN-PROD', 'timestamp': 1502004018000, 'dest': '193.109.172.188', 'srcProduction': True, 'delay_mean': 15.1601, 'MA': '128.142.223.247', 'src_host': 'perfsonar-lt.cern.ch', 'destVO': 'ATLAS', 'delay_median': 15.14, 'destSite': 'pic'}, '_score': None, '_index': 'network_weather-2017.8.6', '_type': 'latency', 'sort': [1273]}\n",
      "{'_id': 'AV22a_tQNILXDji87T9j', '_source': {'src': '128.142.223.247', 'delay_sd': 0.49086103487194377, 'destProduction': True, 'srcVO': 'ATLAS', 'dest_host': 'psl01.pic.es', 'ipv6': False, 'srcSite': 'CERN-PROD', 'timestamp': 1502003966000, 'dest': '193.109.172.188', 'srcProduction': True, 'delay_mean': 15.163666666666664, 'MA': '128.142.223.247', 'src_host': 'perfsonar-lt.cern.ch', 'destVO': 'ATLAS', 'delay_median': 15.13, 'destSite': 'pic'}, '_score': None, '_index': 'network_weather-2017.8.6', '_type': 'latency', 'sort': [1274]}\n",
      "{'_id': 'AV22a_tQNILXDji87T9s', '_source': {'src': '128.142.223.247', 'delay_sd': 0.054242948850518835, 'destProduction': True, 'srcVO': 'ATLAS', 'dest_host': 'psl01.pic.es', 'ipv6': False, 'srcSite': 'CERN-PROD', 'timestamp': 1502003846000, 'dest': '193.109.172.188', 'srcProduction': True, 'delay_mean': 15.147950000000002, 'MA': '128.142.223.247', 'src_host': 'perfsonar-lt.cern.ch', 'destVO': 'ATLAS', 'delay_median': 15.14, 'destSite': 'pic'}, '_score': None, '_index': 'network_weather-2017.8.6', '_type': 'latency', 'sort': [1275]}\n",
      "{'_id': 'AV22bC_LNILXDji87XH4', '_source': {'src': '128.142.223.247', 'packet_loss': 0.0, 'destProduction': True, 'srcVO': 'ATLAS', 'dest_host': 'psl01.pic.es', 'ipv6': False, 'srcSite': 'CERN-PROD', 'timestamp': 1502004026000, 'dest': '193.109.172.188', 'srcProduction': True, 'MA': '128.142.223.247', 'src_host': 'perfsonar-lt.cern.ch', 'destVO': 'ATLAS', 'destSite': 'pic'}, '_score': None, '_index': 'network_weather-2017.8.6', '_type': 'packet_loss_rate', 'sort': [1428]}\n",
      "{'_id': 'AV22bC_LNILXDji87XIE', '_source': {'src': '128.142.223.247', 'packet_loss': 0.0, 'destProduction': True, 'srcVO': 'ATLAS', 'dest_host': 'psl01.pic.es', 'ipv6': False, 'srcSite': 'CERN-PROD', 'timestamp': 1502003837000, 'dest': '193.109.172.188', 'srcProduction': True, 'MA': '128.142.223.247', 'src_host': 'perfsonar-lt.cern.ch', 'destVO': 'ATLAS', 'destSite': 'pic'}, '_score': None, '_index': 'network_weather-2017.8.6', '_type': 'packet_loss_rate', 'sort': [1429]}\n",
      "{'_id': 'AV22bC_LNILXDji87XIG', '_source': {'src': '128.142.223.247', 'packet_loss': 0.0, 'destProduction': True, 'srcVO': 'ATLAS', 'dest_host': 'psl01.pic.es', 'ipv6': False, 'srcSite': 'CERN-PROD', 'timestamp': 1502003846000, 'dest': '193.109.172.188', 'srcProduction': True, 'MA': '128.142.223.247', 'src_host': 'perfsonar-lt.cern.ch', 'destVO': 'ATLAS', 'destSite': 'pic'}, '_score': None, '_index': 'network_weather-2017.8.6', '_type': 'packet_loss_rate', 'sort': [1430]}\n",
      "{'_id': 'AV22bC_LNILXDji87XII', '_source': {'src': '128.142.223.247', 'packet_loss': 0.0, 'destProduction': True, 'srcVO': 'ATLAS', 'dest_host': 'psl01.pic.es', 'ipv6': False, 'srcSite': 'CERN-PROD', 'timestamp': 1502004078000, 'dest': '193.109.172.188', 'srcProduction': True, 'MA': '128.142.223.247', 'src_host': 'perfsonar-lt.cern.ch', 'destVO': 'ATLAS', 'destSite': 'pic'}, '_score': None, '_index': 'network_weather-2017.8.6', '_type': 'packet_loss_rate', 'sort': [1431]}\n",
      "{'_id': 'AV23QQlWNILXDji8sQ8o', '_source': {'src': '128.142.223.247', 'delay_sd': 0.09396824374932912, 'destProduction': True, 'srcVO': 'ATLAS', 'dest_host': 'psl01.pic.es', 'ipv6': False, 'srcSite': 'CERN-PROD', 'timestamp': 1502017547000, 'dest': '193.109.172.188', 'srcProduction': True, 'delay_mean': 15.031949999999997, 'MA': '128.142.223.247', 'src_host': 'perfsonar-lt.cern.ch', 'destVO': 'ATLAS', 'delay_median': 15.01, 'destSite': 'pic'}, '_score': None, '_index': 'network_weather-2017.8.6', '_type': 'latency', 'sort': [2680]}\n",
      "{'_id': 'AV23QQlWNILXDji8sQ8r', '_source': {'src': '128.142.223.247', 'delay_sd': 0.09222647848277275, 'destProduction': True, 'srcVO': 'ATLAS', 'dest_host': 'psl01.pic.es', 'ipv6': False, 'srcSite': 'CERN-PROD', 'timestamp': 1502017349000, 'dest': '193.109.172.188', 'srcProduction': True, 'delay_mean': 15.078100000000001, 'MA': '128.142.223.247', 'src_host': 'perfsonar-lt.cern.ch', 'destVO': 'ATLAS', 'delay_median': 15.06, 'destSite': 'pic'}, '_score': None, '_index': 'network_weather-2017.8.6', '_type': 'latency', 'sort': [2681]}\n"
     ]
    }
   ],
   "source": [
    "#site = {srcSiteOWDServer: sS, srcSiteThroughputServer: sS, destSiteOWDServer:dS, destSiteThroughputServer:dS}\n",
    "site = {srcSiteOWDServer: sS, destSiteOWDServer:dS}\n",
    "data = {sS:pd.DataFrame(),dS:pd.DataFrame()}\n",
    "epoch = datetime.utcfromtimestamp(0)\n",
    "count = 0\n",
    "print(epoch)\n",
    "\n",
    "for res in scroll:\n",
    "    if count<10: print(res)\n",
    "    count += 1\n",
    "#     dt=datetime.strptime(res['_source']['timestamp'], '%Y-%m-%dT%H:%M:%S') # for data before Oct. 15 2016\n",
    "    dt=datetime.utcfromtimestamp(res['_source']['timestamp']/1000.0)\n",
    "    ts = (dt - epoch).total_seconds() * 1000.0\n",
    "    s=site[res['_source']['src']]\n",
    "    data[s].set_value(ts, 'timestamp', dt)\n",
    "    column_type = res['_type']\n",
    "#    if column_type == 'latency':\n",
    "#        data[s].set_value( ts, 'delay_median', res['_source']['delay_median'])\n",
    "#        data[s].set_value( ts, 'delay_mean', res['_source']['delay_mean'])\n",
    "#        data[s].set_value( ts, 'delay_sd', res['_source']['delay_sd'])\n",
    "    if column_type == 'packet_loss_rate':\n",
    "        data[s].set_value( ts, 'packet_loss', res['_source']['packet_loss'])\n",
    "#    elif column_type == 'throughput':\n",
    "#        data[s].set_value( ts, 'throughput', res['_source']['throughput']/1024./1024./1024.)\n",
    "#    elif column_type == 'traceroute':\n",
    "#        data[s].set_value( ts, 'hash', res['_source']['hash'])\n",
    "    if count<2: print(dt)"
   ]
  },
  {
   "cell_type": "code",
   "execution_count": 5,
   "metadata": {
    "collapsed": false,
    "scrolled": true
   },
   "outputs": [
    {
     "name": "stdout",
     "output_type": "stream",
     "text": [
      "                       timestamp  packet_loss\n",
      "1.501978e+12 2017-08-06 00:00:21     0.000000\n",
      "1.501978e+12 2017-08-06 00:00:59     0.000000\n",
      "1.501978e+12 2017-08-06 00:01:21     0.000000\n",
      "1.501978e+12 2017-08-06 00:01:59     0.000000\n",
      "1.501978e+12 2017-08-06 00:02:21     0.000000\n",
      "1.501978e+12 2017-08-06 00:02:59     0.000000\n",
      "1.501978e+12 2017-08-06 00:03:21     0.001667\n",
      "1.501978e+12 2017-08-06 00:03:59     0.000000\n",
      "1.501978e+12 2017-08-06 00:04:21     0.000000\n",
      "1.501978e+12 2017-08-06 00:04:59     0.000000\n",
      "1.501978e+12 2017-08-06 00:05:21     0.000000\n",
      "1.501978e+12 2017-08-06 00:05:59     0.000000\n",
      "1.501978e+12 2017-08-06 00:06:22     0.000000\n",
      "1.501978e+12 2017-08-06 00:06:59     0.000000\n",
      "1.501978e+12 2017-08-06 00:07:22     0.000000\n",
      "1.501978e+12 2017-08-06 00:07:59     0.000000\n",
      "1.501978e+12 2017-08-06 00:08:22     0.000000\n",
      "1.501978e+12 2017-08-06 00:08:59     0.000000\n",
      "1.501978e+12 2017-08-06 00:09:22     0.000000\n",
      "1.501978e+12 2017-08-06 00:10:00     0.000000\n",
      "1.501978e+12 2017-08-06 00:10:22     0.000000\n",
      "1.501978e+12 2017-08-06 00:10:47          NaN\n",
      "1.501978e+12 2017-08-06 00:11:00     0.000000\n",
      "1.501978e+12 2017-08-06 00:11:22     0.000000\n",
      "1.501978e+12 2017-08-06 00:12:00     0.000000\n",
      "1.501978e+12 2017-08-06 00:12:22     0.000000\n",
      "1.501978e+12 2017-08-06 00:13:00     0.000000\n",
      "1.501978e+12 2017-08-06 00:13:22     0.000000\n",
      "1.501978e+12 2017-08-06 00:14:00     0.000000\n",
      "1.501978e+12 2017-08-06 00:14:22     0.000000\n",
      "...                          ...          ...\n",
      "1.502063e+12 2017-08-06 23:46:08     0.001667\n",
      "1.502063e+12 2017-08-06 23:46:33     0.000000\n",
      "1.502063e+12 2017-08-06 23:47:08     0.000000\n",
      "1.502063e+12 2017-08-06 23:47:33     0.000000\n",
      "1.502063e+12 2017-08-06 23:48:08     0.003333\n",
      "1.502063e+12 2017-08-06 23:48:33     0.000000\n",
      "1.502063e+12 2017-08-06 23:49:08     0.003333\n",
      "1.502063e+12 2017-08-06 23:49:33     0.000000\n",
      "1.502063e+12 2017-08-06 23:50:08     0.003333\n",
      "1.502063e+12 2017-08-06 23:50:34     0.006667\n",
      "1.502063e+12 2017-08-06 23:51:08     0.000000\n",
      "1.502063e+12 2017-08-06 23:51:19          NaN\n",
      "1.502063e+12 2017-08-06 23:51:34     0.006667\n",
      "1.502064e+12 2017-08-06 23:52:09     0.005000\n",
      "1.502064e+12 2017-08-06 23:52:34     0.000000\n",
      "1.502064e+12 2017-08-06 23:53:09     0.001667\n",
      "1.502064e+12 2017-08-06 23:53:34     0.003333\n",
      "1.502064e+12 2017-08-06 23:54:09     0.001667\n",
      "1.502064e+12 2017-08-06 23:54:34     0.003333\n",
      "1.502064e+12 2017-08-06 23:55:09     0.000000\n",
      "1.502064e+12 2017-08-06 23:55:34     0.000000\n",
      "1.502064e+12 2017-08-06 23:56:09     0.001667\n",
      "1.502064e+12 2017-08-06 23:56:34     0.005000\n",
      "1.502064e+12 2017-08-06 23:57:09     0.005000\n",
      "1.502064e+12 2017-08-06 23:57:34     0.003333\n",
      "1.502064e+12 2017-08-06 23:57:52          NaN\n",
      "1.502064e+12 2017-08-06 23:58:09     0.005000\n",
      "1.502064e+12 2017-08-06 23:58:34     0.001667\n",
      "1.502064e+12 2017-08-06 23:59:09     0.005000\n",
      "1.502064e+12 2017-08-06 23:59:34     0.005000\n",
      "\n",
      "[2908 rows x 2 columns]\n"
     ]
    }
   ],
   "source": [
    "data[sS].sort_index(inplace=True) \n",
    "data[sS].describe()\n",
    "\n",
    "#data[dS].sort_index(inplace=True) \n",
    "#data[dS].describe()\n",
    "\n",
    "print(data[sS])"
   ]
  },
  {
   "cell_type": "markdown",
   "metadata": {},
   "source": [
    "### Extract values"
   ]
  },
  {
   "cell_type": "code",
   "execution_count": 6,
   "metadata": {
    "collapsed": false
   },
   "outputs": [],
   "source": [
    "F = data[sS]\n",
    "#B = data[dS]\n",
    "#Fthr = F[F.throughput.notnull()]    # Get the lines (i.e. times) whose throughput is not null\n",
    "#Bthr = B[B.throughput.notnull()]  \n",
    "Fpl = F[F.packet_loss.notnull()]\n",
    "#Bpl = B[B.packet_loss.notnull()]\n",
    "# Fd = F[F.delay_mean.notnull()]\n",
    "# Bd = B[B.delay_mean.notnull()]\n",
    "#Fd = F[F.delay_mean<150]\n",
    "#Bd = B[B.delay_mean<150]\n",
    "#Jd = Fd.join(Bd,how='inner', rsuffix=\"_back\")\n",
    "#Jd['dmean']= (Jd.delay_mean + Jd.delay_mean_back)/2\n",
    "\n",
    "#Fh = F[F.hash.notnull()]\n",
    "#Bh = B[B.hash.notnull()]\n",
    "Fids=[];Bids=[]\n",
    "Fu=[];Bu=[]\n",
    "\n",
    "#for fi in Fh.hash.tolist():\n",
    "#    if fi not in Fu: Fu.append(fi)\n",
    "#    Fids.append(Fu.index(fi))\n",
    "#for fi in Bh.hash.tolist():\n",
    "#    if fi not in Bu: Bu.append(fi)\n",
    "#    Bids.append(Bu.index(fi))"
   ]
  },
  {
   "cell_type": "markdown",
   "metadata": {
    "collapsed": false,
    "scrolled": true
   },
   "source": [
    "#### interpolate all the values and leave only onese where all 4 measurements are there"
   ]
  },
  {
   "cell_type": "code",
   "execution_count": 7,
   "metadata": {
    "collapsed": false
   },
   "outputs": [
    {
     "name": "stdout",
     "output_type": "stream",
     "text": [
      "(2908, 2)\n"
     ]
    }
   ],
   "source": [
    "NF=F.interpolate(method='index',limit=1,limit_direction='both')\n",
    "#NFall = NF[NF.throughput.notnull()]\n",
    "#NFall = NFall[NFall.delay_mean.notnull()]\n",
    "NFall = NF[NF.packet_loss.notnull()]\n",
    "#NFall = NFall[NFall.hash.notnull()]\n",
    "\n",
    "#NB=B.interpolate(method='index',limit=1,limit_direction='both')\n",
    "#NBal = NB[NB.throughput.notnull()]\n",
    "#NBall = NB[NB.delay_mean.notnull()]\n",
    "#NBall = NB[NB.packet_loss.notnull()]\n",
    "print(NFall.shape)"
   ]
  },
  {
   "cell_type": "code",
   "execution_count": 8,
   "metadata": {
    "collapsed": false
   },
   "outputs": [
    {
     "name": "stdout",
     "output_type": "stream",
     "text": [
      "(2908, 2)\n"
     ]
    }
   ],
   "source": [
    "#print(NF)\n",
    "#print(NB)\n",
    "\n",
    "print(NF.shape)\n",
    "#print(NB.shape)"
   ]
  },
  {
   "cell_type": "code",
   "execution_count": 9,
   "metadata": {
    "collapsed": false
   },
   "outputs": [
    {
     "name": "stdout",
     "output_type": "stream",
     "text": [
      "packet loss forward:  2791\n"
     ]
    }
   ],
   "source": [
    "#print( 'throughput  forward: ', Fthr.shape[0], ' backward: ', Bthr.shape[0])\n",
    "#print( 'packet loss forward: ', Fpl.shape[0],  ' backward: ', Bpl.shape[0])\n",
    "print( 'packet loss forward: ', Fpl.shape[0])\n",
    "#print( 'delay       forward: ', Fd.shape[0],   ' backward: ', Bd.shape[0])\n",
    "#print( 'hash        forward: ', Fh.shape[0],   ' backward: ', Bh.shape[0])\n",
    "\n",
    "#i=0\n",
    "#while i < Fpl.shape[0]:\n",
    "#    print(\"Hi\")\n",
    "#    i = i + 1"
   ]
  },
  {
   "cell_type": "code",
   "execution_count": 10,
   "metadata": {
    "collapsed": false,
    "scrolled": true
   },
   "outputs": [
    {
     "data": {
      "image/png": "[encoded data removed]",
      "text/plain": [
       "<matplotlib.figure.Figure at 0x7fb4047f8710>"
      ]
     },
     "metadata": {},
     "output_type": "display_data"
    }
   ],
   "source": [
    "plt.figure(figsize=[50, 80])\n",
    "gs = gridspec.GridSpec(4, 1)\n",
    "\n",
    "ax2 = plt.subplot(gs[1])\n",
    "ax2.plot(Fpl.timestamp.tolist(), np.sqrt(Fpl.packet_loss).tolist(), ls='', marker='.', c='r', label=sS+'->'+dS)\n",
    "ax2.set_xlabel('time')\n",
    "ax2.set_ylabel('sqrt(packet loss) [%]')\n",
    "ax2.legend()\n",
    "\n",
    "plt.show()"
   ]
  }
 ],
 "metadata": {
  "kernelspec": {
   "display_name": "Python 3",
   "language": "python",
   "name": "python3"
  },
  "language_info": {
   "codemirror_mode": {
    "name": "ipython",
    "version": 3
   },
   "file_extension": ".py",
   "mimetype": "text/x-python",
   "name": "python",
   "nbconvert_exporter": "python",
   "pygments_lexer": "ipython3",
   "version": "3.5.1"
  }
 },
 "nbformat": 4,
 "nbformat_minor": 0
}
