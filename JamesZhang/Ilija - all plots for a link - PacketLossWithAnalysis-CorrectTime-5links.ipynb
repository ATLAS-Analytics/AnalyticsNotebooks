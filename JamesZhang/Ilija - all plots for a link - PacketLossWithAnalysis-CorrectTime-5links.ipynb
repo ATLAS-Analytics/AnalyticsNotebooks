{
 "cells": [
  {
   "cell_type": "markdown",
   "metadata": {},
   "source": [
    "## Plots delays, throughputs, packet loss and path for a selected link"
   ]
  },
  {
   "cell_type": "code",
   "execution_count": 1,
   "metadata": {
    "collapsed": true
   },
   "outputs": [],
   "source": [
    "%matplotlib inline\n",
    "from elasticsearch import Elasticsearch\n",
    "from elasticsearch.helpers import scan\n",
    "from datetime import datetime\n",
    "import math\n",
    "import matplotlib.pyplot as plt\n",
    "import matplotlib.mlab as mlab\n",
    "from matplotlib import gridspec\n",
    "from datetime import datetime\n",
    "import numpy as np\n",
    "import pandas as pd\n",
    "\n",
    "es = Elasticsearch(['atlas-kibana.mwt2.org:9200'],timeout=60)\n",
    "indices = \"network_weather-2017.5.*\"\n",
    "\n",
    "my_query = {}\n",
    "\n",
    "from sklearn import tree\n",
    "\n",
    "from sklearn.model_selection import cross_val_score\n",
    "from sklearn.ensemble import AdaBoostClassifier\n",
    "from sklearn.tree import DecisionTreeClassifier\n",
    "\n",
    "from sklearn.metrics import roc_curve, auc\n",
    "\n",
    "import time\n",
    "from sklearn.model_selection import train_test_split\n",
    "\n",
    "import random\n",
    "\n",
    "from pandas.tseries.offsets import *\n",
    "\n",
    "#from graphviz import Source"
   ]
  },
  {
   "cell_type": "markdown",
   "metadata": {},
   "source": [
    "##  Select your link"
   ]
  },
  {
   "cell_type": "code",
   "execution_count": 2,
   "metadata": {
    "collapsed": true
   },
   "outputs": [],
   "source": [
    "# sS='UC'\n",
    "# srcSiteOWDServer = \"192.170.227.160\"\n",
    "# srcSiteThroughputServer = \"192.170.227.162\"\n",
    "\n",
    "sS1= 'pic'\n",
    "srcSiteOWDServer1 = \"193.109.172.188\"\n",
    "#srcSiteThroughputServer = \"128.142.223.246\"\n",
    "\n",
    "sS2= 'pic'\n",
    "srcSiteOWDServer2 = \"193.109.172.188\"\n",
    "\n",
    "sS3= 'pic'\n",
    "srcSiteOWDServer3 = \"193.109.172.188\"\n",
    "\n",
    "sS4= 'pic'\n",
    "srcSiteOWDServer4 = \"193.109.172.188\"\n",
    "\n",
    "sS5= 'pic'\n",
    "srcSiteOWDServer5 = \"193.109.172.188\"\n",
    "\n",
    "# dS='IU'\n",
    "# destSiteOWDServer = \"149.165.225.223\"\n",
    "# destSiteThroughputServer = \"149.165.225.224\"\n",
    "\n",
    "# dS='UIUC'\n",
    "# destSiteOWDServer = \"72.36.96.4\"\n",
    "# destSiteThroughputServer = \"72.36.96.9\"\n",
    "\n",
    "# dS='ICCN'\n",
    "# destSiteOWDServer = \"72.36.96.4\"\n",
    "# destSiteThroughputServer = \"72.36.126.132\"\n",
    "\n",
    "dS1 = 'CERN-PROD'\n",
    "destSiteOWDServer1 = \"128.142.223.247\"\n",
    "#destSiteThroughputServer = \"193.109.172.187\"\n",
    "\n",
    "dS2 = 'FZK-LCG2'\n",
    "destSiteOWDServer2 = \"192.108.47.12\"\n",
    "\n",
    "dS3 = 'UFlorida-HPC'\n",
    "destSiteOWDServer3 = \"128.227.221.44\"\n",
    "\n",
    "dS4 = 'UKI-NORTHGRID-MAN-HEP'\n",
    "destSiteOWDServer4 = \"195.194.105.178\"\n",
    "\n",
    "dS5 = 'CSCS-LCG2'\n",
    "destSiteOWDServer5 = \"148.187.64.25\""
   ]
  },
  {
   "cell_type": "markdown",
   "metadata": {},
   "source": [
    "## Get the data from Elasticsearch, and store the record based on its type"
   ]
  },
  {
   "cell_type": "code",
   "execution_count": 3,
   "metadata": {
    "collapsed": true
   },
   "outputs": [],
   "source": [
    "my_query1 = {\n",
    "    'query': { \n",
    "       'bool':{\n",
    "            'must':[\n",
    "                    {'range': {'timestamp': {'gte': '20170513T000000Z', 'lt': '20170520T000000Z'}}},\n",
    "                        {'bool':\n",
    "                            {'should':[\n",
    "                                {'term': {'src': srcSiteOWDServer1}},\n",
    "                            ]}\n",
    "                        },\n",
    "                        {'bool':\n",
    "                            {'should':[\n",
    "                                {'term': {'dest': destSiteOWDServer1}},\n",
    "                            ]}\n",
    "                        },\n",
    "                        {'bool':\n",
    "                            {'should':[\n",
    "                                {'term': {'_type': 'packet_loss_rate'}},\n",
    "                            ]}\n",
    "                        }\n",
    "                    ]\n",
    "                }\n",
    "        \n",
    "        }\n",
    "    }\n",
    "\n",
    "\n",
    "scroll1 = list(scan(client=es, index=indices, query=my_query1))"
   ]
  },
  {
   "cell_type": "code",
   "execution_count": 4,
   "metadata": {
    "collapsed": true
   },
   "outputs": [],
   "source": [
    "my_query2 = {\n",
    "    'query': { \n",
    "       'bool':{\n",
    "            'must':[\n",
    "                    {'range': {'timestamp': {'gte': '20170513T000000Z', 'lt': '20170520T000000Z'}}},\n",
    "                        {'bool':\n",
    "                            {'should':[\n",
    "                                {'term': {'src': srcSiteOWDServer2}},\n",
    "                            ]}\n",
    "                        },\n",
    "                        {'bool':\n",
    "                            {'should':[\n",
    "                                {'term': {'dest': destSiteOWDServer2}},\n",
    "                            ]}\n",
    "                        },\n",
    "                        {'bool':\n",
    "                            {'should':[\n",
    "                                {'term': {'_type': 'packet_loss_rate'}},\n",
    "                            ]}\n",
    "                        }\n",
    "                    ]\n",
    "                }\n",
    "        \n",
    "        }\n",
    "    }\n",
    "\n",
    "\n",
    "scroll2 = list(scan(client=es, index=indices, query=my_query2))"
   ]
  },
  {
   "cell_type": "code",
   "execution_count": 5,
   "metadata": {
    "collapsed": true
   },
   "outputs": [],
   "source": [
    "my_query3 = {\n",
    "    'query': { \n",
    "       'bool':{\n",
    "            'must':[\n",
    "                    {'range': {'timestamp': {'gte': '20170513T000000Z', 'lt': '20170520T000000Z'}}},\n",
    "                        {'bool':\n",
    "                            {'should':[\n",
    "                                {'term': {'src': srcSiteOWDServer3}},\n",
    "                            ]}\n",
    "                        },\n",
    "                        {'bool':\n",
    "                            {'should':[\n",
    "                                {'term': {'dest': destSiteOWDServer3}},\n",
    "                            ]}\n",
    "                        },\n",
    "                        {'bool':\n",
    "                            {'should':[\n",
    "                                {'term': {'_type': 'packet_loss_rate'}},\n",
    "                            ]}\n",
    "                        }\n",
    "                    ]\n",
    "                }\n",
    "        \n",
    "        }\n",
    "    }\n",
    "\n",
    "\n",
    "scroll3 = list(scan(client=es, index=indices, query=my_query3))"
   ]
  },
  {
   "cell_type": "code",
   "execution_count": 6,
   "metadata": {
    "collapsed": true
   },
   "outputs": [],
   "source": [
    "my_query4 = {\n",
    "    'query': { \n",
    "       'bool':{\n",
    "            'must':[\n",
    "                    {'range': {'timestamp': {'gte': '20170513T000000Z', 'lt': '20170520T000000Z'}}},\n",
    "                        {'bool':\n",
    "                            {'should':[\n",
    "                                {'term': {'src': srcSiteOWDServer4}},\n",
    "                            ]}\n",
    "                        },\n",
    "                        {'bool':\n",
    "                            {'should':[\n",
    "                                {'term': {'dest': destSiteOWDServer4}},\n",
    "                            ]}\n",
    "                        },\n",
    "                        {'bool':\n",
    "                            {'should':[\n",
    "                                {'term': {'_type': 'packet_loss_rate'}},\n",
    "                            ]}\n",
    "                        }\n",
    "                    ]\n",
    "                }\n",
    "        \n",
    "        }\n",
    "    }\n",
    "\n",
    "\n",
    "scroll4 = list(scan(client=es, index=indices, query=my_query4))"
   ]
  },
  {
   "cell_type": "code",
   "execution_count": 7,
   "metadata": {
    "collapsed": true
   },
   "outputs": [],
   "source": [
    "my_query5 = {\n",
    "    'query': { \n",
    "       'bool':{\n",
    "            'must':[\n",
    "                    {'range': {'timestamp': {'gte': '20170513T000000Z', 'lt': '20170520T000000Z'}}},\n",
    "                        {'bool':\n",
    "                            {'should':[\n",
    "                                {'term': {'src': srcSiteOWDServer5}},\n",
    "                            ]}\n",
    "                        },\n",
    "                        {'bool':\n",
    "                            {'should':[\n",
    "                                {'term': {'dest': destSiteOWDServer5}},\n",
    "                            ]}\n",
    "                        },\n",
    "                        {'bool':\n",
    "                            {'should':[\n",
    "                                {'term': {'_type': 'packet_loss_rate'}},\n",
    "                            ]}\n",
    "                        }\n",
    "                    ]\n",
    "                }\n",
    "        \n",
    "        }\n",
    "    }\n",
    "\n",
    "\n",
    "scroll5 = list(scan(client=es, index=indices, query=my_query5))"
   ]
  },
  {
   "cell_type": "code",
   "execution_count": 8,
   "metadata": {
    "scrolled": true
   },
   "outputs": [
    {
     "name": "stdout",
     "output_type": "stream",
     "text": [
      "1970-01-01 00:00:00\n",
      "{'sort': [1926], '_source': {'destVO': 'ATLAS', 'srcVO': 'ATLAS', 'MA': '193.109.172.188', 'packet_loss': 0.0, 'dest': '128.142.223.247', 'src': '193.109.172.188', 'destProduction': True, 'timestamp': 1495154636000, 'srcProduction': True, 'destSite': 'CERN-PROD', 'srcSite': 'pic'}, '_id': 'AVweN7TEKw5l0ihiPr30', '_index': 'network_weather-2017.5.19', '_type': 'packet_loss_rate', '_score': None}\n",
      "{'sort': [1927], '_source': {'destVO': 'ATLAS', 'srcVO': 'ATLAS', 'MA': '193.109.172.188', 'packet_loss': 0.0, 'dest': '128.142.223.247', 'src': '193.109.172.188', 'destProduction': True, 'timestamp': 1495154094000, 'srcProduction': True, 'destSite': 'CERN-PROD', 'srcSite': 'pic'}, '_id': 'AVweN7TEKw5l0ihiPr31', '_index': 'network_weather-2017.5.19', '_type': 'packet_loss_rate', '_score': None}\n",
      "{'sort': [1928], '_source': {'destVO': 'ATLAS', 'srcVO': 'ATLAS', 'MA': '193.109.172.188', 'packet_loss': 0.0, 'dest': '128.142.223.247', 'src': '193.109.172.188', 'destProduction': True, 'timestamp': 1495154095000, 'srcProduction': True, 'destSite': 'CERN-PROD', 'srcSite': 'pic'}, '_id': 'AVweN7TEKw5l0ihiPr32', '_index': 'network_weather-2017.5.19', '_type': 'packet_loss_rate', '_score': None}\n",
      "{'sort': [1929], '_source': {'destVO': 'ATLAS', 'srcVO': 'ATLAS', 'MA': '193.109.172.188', 'packet_loss': 0.0016666666666666668, 'dest': '128.142.223.247', 'src': '193.109.172.188', 'destProduction': True, 'timestamp': 1495155055000, 'srcProduction': True, 'destSite': 'CERN-PROD', 'srcSite': 'pic'}, '_id': 'AVweN7TEKw5l0ihiPr33', '_index': 'network_weather-2017.5.19', '_type': 'packet_loss_rate', '_score': None}\n",
      "{'sort': [1930], '_source': {'destVO': 'ATLAS', 'srcVO': 'ATLAS', 'MA': '193.109.172.188', 'packet_loss': 0.0016666666666666668, 'dest': '128.142.223.247', 'src': '193.109.172.188', 'destProduction': True, 'timestamp': 1495154395000, 'srcProduction': True, 'destSite': 'CERN-PROD', 'srcSite': 'pic'}, '_id': 'AVweN7TEKw5l0ihiPr35', '_index': 'network_weather-2017.5.19', '_type': 'packet_loss_rate', '_score': None}\n",
      "{'sort': [1931], '_source': {'destVO': 'ATLAS', 'srcVO': 'ATLAS', 'MA': '193.109.172.188', 'packet_loss': 0.0, 'dest': '128.142.223.247', 'src': '193.109.172.188', 'destProduction': True, 'timestamp': 1495154515000, 'srcProduction': True, 'destSite': 'CERN-PROD', 'srcSite': 'pic'}, '_id': 'AVweN7TEKw5l0ihiPr3_', '_index': 'network_weather-2017.5.19', '_type': 'packet_loss_rate', '_score': None}\n",
      "{'sort': [1932], '_source': {'destVO': 'ATLAS', 'srcVO': 'ATLAS', 'MA': '193.109.172.188', 'packet_loss': 0.0016666666666666668, 'dest': '128.142.223.247', 'src': '193.109.172.188', 'destProduction': True, 'timestamp': 1495155056000, 'srcProduction': True, 'destSite': 'CERN-PROD', 'srcSite': 'pic'}, '_id': 'AVweN7TEKw5l0ihiPr4C', '_index': 'network_weather-2017.5.19', '_type': 'packet_loss_rate', '_score': None}\n",
      "{'sort': [1933], '_source': {'destVO': 'ATLAS', 'srcVO': 'ATLAS', 'MA': '193.109.172.188', 'packet_loss': 0.0, 'dest': '128.142.223.247', 'src': '193.109.172.188', 'destProduction': True, 'timestamp': 1495155476000, 'srcProduction': True, 'destSite': 'CERN-PROD', 'srcSite': 'pic'}, '_id': 'AVweN7TEKw5l0ihiPr4F', '_index': 'network_weather-2017.5.19', '_type': 'packet_loss_rate', '_score': None}\n",
      "{'sort': [1934], '_source': {'destVO': 'ATLAS', 'srcVO': 'ATLAS', 'MA': '193.109.172.188', 'packet_loss': 0.0, 'dest': '128.142.223.247', 'src': '193.109.172.188', 'destProduction': True, 'timestamp': 1495155536000, 'srcProduction': True, 'destSite': 'CERN-PROD', 'srcSite': 'pic'}, '_id': 'AVweN7TEKw5l0ihiPr4J', '_index': 'network_weather-2017.5.19', '_type': 'packet_loss_rate', '_score': None}\n",
      "{'sort': [1935], '_source': {'destVO': 'ATLAS', 'srcVO': 'ATLAS', 'MA': '193.109.172.188', 'packet_loss': 0.0, 'dest': '128.142.223.247', 'src': '193.109.172.188', 'destProduction': True, 'timestamp': 1495154875000, 'srcProduction': True, 'destSite': 'CERN-PROD', 'srcSite': 'pic'}, '_id': 'AVweN7TEKw5l0ihiPr4N', '_index': 'network_weather-2017.5.19', '_type': 'packet_loss_rate', '_score': None}\n"
     ]
    }
   ],
   "source": [
    "site1 = {srcSiteOWDServer1: sS1, destSiteOWDServer1:dS1}\n",
    "data1 = {sS1:pd.DataFrame(),dS1:pd.DataFrame()}\n",
    "epoch = datetime.utcfromtimestamp(0)\n",
    "count = 0\n",
    "print(epoch)\n",
    "\n",
    "for res in scroll1:\n",
    "    if count<10: print(res)\n",
    "    count += 1\n",
    "#     dt=datetime.strptime(res['_source']['timestamp'], '%Y-%m-%dT%H:%M:%S') # for data before Oct. 15 2016\n",
    "    dt=datetime.utcfromtimestamp(res['_source']['timestamp']/1000.0)\n",
    "    ts = (dt - epoch).total_seconds() * 1000.0\n",
    "    s=site1[res['_source']['src']]\n",
    "    data1[s].set_value(ts, 'timestamp', dt)\n",
    "    column_type = res['_type']\n",
    "    if column_type == 'packet_loss_rate':\n",
    "        data1[s].set_value( ts, 'packet_loss', res['_source']['packet_loss'])\n",
    "    #if count<2: print(dt)"
   ]
  },
  {
   "cell_type": "code",
   "execution_count": 9,
   "metadata": {
    "scrolled": true
   },
   "outputs": [
    {
     "name": "stdout",
     "output_type": "stream",
     "text": [
      "1970-01-01 00:00:00\n",
      "{'sort': [1227], '_source': {'destVO': 'ATLAS', 'srcVO': 'ATLAS', 'MA': '193.109.172.188', 'packet_loss': 0.0, 'dest': '192.108.47.12', 'src': '193.109.172.188', 'destProduction': True, 'timestamp': 1494979227000, 'srcProduction': True, 'destSite': 'FZK-LCG2', 'srcSite': 'pic'}, '_id': 'AVwUGcT8Kw5l0ihiEonZ', '_index': 'network_weather-2017.5.17', '_type': 'packet_loss_rate', '_score': None}\n",
      "{'sort': [1228], '_source': {'destVO': 'ATLAS', 'srcVO': 'ATLAS', 'MA': '193.109.172.188', 'packet_loss': 0.0, 'dest': '192.108.47.12', 'src': '193.109.172.188', 'destProduction': True, 'timestamp': 1494979310000, 'srcProduction': True, 'destSite': 'FZK-LCG2', 'srcSite': 'pic'}, '_id': 'AVwUGcT8Kw5l0ihiEooR', '_index': 'network_weather-2017.5.17', '_type': 'packet_loss_rate', '_score': None}\n",
      "{'sort': [1229], '_source': {'destVO': 'ATLAS', 'srcVO': 'ATLAS', 'MA': '193.109.172.188', 'packet_loss': 0.0, 'dest': '192.108.47.12', 'src': '193.109.172.188', 'destProduction': True, 'timestamp': 1494979250000, 'srcProduction': True, 'destSite': 'FZK-LCG2', 'srcSite': 'pic'}, '_id': 'AVwUGcT8Kw5l0ihiEooT', '_index': 'network_weather-2017.5.17', '_type': 'packet_loss_rate', '_score': None}\n",
      "{'sort': [6011], '_source': {'destVO': 'ATLAS', 'srcVO': 'ATLAS', 'MA': '193.109.172.188', 'packet_loss': 0.0, 'dest': '192.108.47.12', 'src': '193.109.172.188', 'destProduction': True, 'timestamp': 1494808491000, 'srcProduction': True, 'destSite': 'FZK-LCG2', 'srcSite': 'pic'}, '_id': 'AVwJpmVBKw5l0ihiomWe', '_index': 'network_weather-2017.5.15', '_type': 'packet_loss_rate', '_score': None}\n",
      "{'sort': [6012], '_source': {'destVO': 'ATLAS', 'srcVO': 'ATLAS', 'MA': '193.109.172.188', 'packet_loss': 0.0, 'dest': '192.108.47.12', 'src': '193.109.172.188', 'destProduction': True, 'timestamp': 1494808010000, 'srcProduction': True, 'destSite': 'FZK-LCG2', 'srcSite': 'pic'}, '_id': 'AVwJpmVBKw5l0ihiomWg', '_index': 'network_weather-2017.5.15', '_type': 'packet_loss_rate', '_score': None}\n",
      "{'sort': [6013], '_source': {'destVO': 'ATLAS', 'srcVO': 'ATLAS', 'MA': '193.109.172.188', 'packet_loss': 0.0, 'dest': '192.108.47.12', 'src': '193.109.172.188', 'destProduction': True, 'timestamp': 1494808791000, 'srcProduction': True, 'destSite': 'FZK-LCG2', 'srcSite': 'pic'}, '_id': 'AVwJpmVBKw5l0ihiomWj', '_index': 'network_weather-2017.5.15', '_type': 'packet_loss_rate', '_score': None}\n",
      "{'sort': [6014], '_source': {'destVO': 'ATLAS', 'srcVO': 'ATLAS', 'MA': '193.109.172.188', 'packet_loss': 0.0, 'dest': '192.108.47.12', 'src': '193.109.172.188', 'destProduction': True, 'timestamp': 1494809812000, 'srcProduction': True, 'destSite': 'FZK-LCG2', 'srcSite': 'pic'}, '_id': 'AVwJpmVBKw5l0ihiomWo', '_index': 'network_weather-2017.5.15', '_type': 'packet_loss_rate', '_score': None}\n",
      "{'sort': [6015], '_source': {'destVO': 'ATLAS', 'srcVO': 'ATLAS', 'MA': '193.109.172.188', 'packet_loss': 0.0, 'dest': '192.108.47.12', 'src': '193.109.172.188', 'destProduction': True, 'timestamp': 1494808759000, 'srcProduction': True, 'destSite': 'FZK-LCG2', 'srcSite': 'pic'}, '_id': 'AVwJpmVBKw5l0ihiomW1', '_index': 'network_weather-2017.5.15', '_type': 'packet_loss_rate', '_score': None}\n",
      "{'sort': [6016], '_source': {'destVO': 'ATLAS', 'srcVO': 'ATLAS', 'MA': '193.109.172.188', 'packet_loss': 0.0, 'dest': '192.108.47.12', 'src': '193.109.172.188', 'destProduction': True, 'timestamp': 1494809720000, 'srcProduction': True, 'destSite': 'FZK-LCG2', 'srcSite': 'pic'}, '_id': 'AVwJpmVBKw5l0ihiomW7', '_index': 'network_weather-2017.5.15', '_type': 'packet_loss_rate', '_score': None}\n",
      "{'sort': [6629], '_source': {'destVO': 'ATLAS', 'srcVO': 'ATLAS', 'MA': '193.109.172.188', 'packet_loss': 0.0, 'dest': '192.108.47.12', 'src': '193.109.172.188', 'destProduction': True, 'timestamp': 1494808639000, 'srcProduction': True, 'destSite': 'FZK-LCG2', 'srcSite': 'pic'}, '_id': 'AVwJpmVBKw5l0ihiomWm', '_index': 'network_weather-2017.5.15', '_type': 'packet_loss_rate', '_score': None}\n"
     ]
    }
   ],
   "source": [
    "site2 = {srcSiteOWDServer2: sS2, destSiteOWDServer2:dS2}\n",
    "data2 = {sS2:pd.DataFrame(),dS2:pd.DataFrame()}\n",
    "epoch = datetime.utcfromtimestamp(0)\n",
    "count = 0\n",
    "print(epoch)\n",
    "\n",
    "for res in scroll2:\n",
    "    if count<10: print(res)\n",
    "    count += 1\n",
    "#     dt=datetime.strptime(res['_source']['timestamp'], '%Y-%m-%dT%H:%M:%S') # for data before Oct. 15 2016\n",
    "    dt=datetime.utcfromtimestamp(res['_source']['timestamp']/1000.0)\n",
    "    ts = (dt - epoch).total_seconds() * 1000.0\n",
    "    s=site2[res['_source']['src']]\n",
    "    data2[s].set_value(ts, 'timestamp', dt)\n",
    "    column_type = res['_type']\n",
    "    if column_type == 'packet_loss_rate':\n",
    "        data2[s].set_value( ts, 'packet_loss', res['_source']['packet_loss'])\n",
    "    #if count<2: print(dt)"
   ]
  },
  {
   "cell_type": "code",
   "execution_count": 10,
   "metadata": {
    "scrolled": true
   },
   "outputs": [
    {
     "name": "stdout",
     "output_type": "stream",
     "text": [
      "1970-01-01 00:00:00\n",
      "{'sort': [1891], '_source': {'destVO': '', 'srcVO': 'ATLAS', 'MA': '193.109.172.188', 'packet_loss': 0.0, 'dest': '128.227.221.44', 'src': '193.109.172.188', 'destProduction': True, 'timestamp': 1494981865000, 'srcProduction': True, 'destSite': 'UFlorida-HPC', 'srcSite': 'pic'}, '_id': 'AVwUNv36Kw5l0ihiORag', '_index': 'network_weather-2017.5.17', '_type': 'packet_loss_rate', '_score': None}\n",
      "{'sort': [1892], '_source': {'destVO': '', 'srcVO': 'ATLAS', 'MA': '193.109.172.188', 'packet_loss': 0.0, 'dest': '128.227.221.44', 'src': '193.109.172.188', 'destProduction': True, 'timestamp': 1494980544000, 'srcProduction': True, 'destSite': 'UFlorida-HPC', 'srcSite': 'pic'}, '_id': 'AVwUNv36Kw5l0ihiORal', '_index': 'network_weather-2017.5.17', '_type': 'packet_loss_rate', '_score': None}\n",
      "{'sort': [1893], '_source': {'destVO': '', 'srcVO': 'ATLAS', 'MA': '193.109.172.188', 'packet_loss': 0.0, 'dest': '128.227.221.44', 'src': '193.109.172.188', 'destProduction': True, 'timestamp': 1494980063000, 'srcProduction': True, 'destSite': 'UFlorida-HPC', 'srcSite': 'pic'}, '_id': 'AVwUNv36Kw5l0ihiORaz', '_index': 'network_weather-2017.5.17', '_type': 'packet_loss_rate', '_score': None}\n",
      "{'sort': [1894], '_source': {'destVO': '', 'srcVO': 'ATLAS', 'MA': '193.109.172.188', 'packet_loss': 0.0, 'dest': '128.227.221.44', 'src': '193.109.172.188', 'destProduction': True, 'timestamp': 1494981024000, 'srcProduction': True, 'destSite': 'UFlorida-HPC', 'srcSite': 'pic'}, '_id': 'AVwUNv36Kw5l0ihiORa2', '_index': 'network_weather-2017.5.17', '_type': 'packet_loss_rate', '_score': None}\n",
      "{'sort': [1895], '_source': {'destVO': '', 'srcVO': 'ATLAS', 'MA': '193.109.172.188', 'packet_loss': 0.0, 'dest': '128.227.221.44', 'src': '193.109.172.188', 'destProduction': True, 'timestamp': 1494980484000, 'srcProduction': True, 'destSite': 'UFlorida-HPC', 'srcSite': 'pic'}, '_id': 'AVwUNv36Kw5l0ihiORa3', '_index': 'network_weather-2017.5.17', '_type': 'packet_loss_rate', '_score': None}\n",
      "{'sort': [1896], '_source': {'destVO': '', 'srcVO': 'ATLAS', 'MA': '193.109.172.188', 'packet_loss': 0.0, 'dest': '128.227.221.44', 'src': '193.109.172.188', 'destProduction': True, 'timestamp': 1494982466000, 'srcProduction': True, 'destSite': 'UFlorida-HPC', 'srcSite': 'pic'}, '_id': 'AVwUNv36Kw5l0ihiORa6', '_index': 'network_weather-2017.5.17', '_type': 'packet_loss_rate', '_score': None}\n",
      "{'sort': [1897], '_source': {'destVO': '', 'srcVO': 'ATLAS', 'MA': '193.109.172.188', 'packet_loss': 0.0, 'dest': '128.227.221.44', 'src': '193.109.172.188', 'destProduction': True, 'timestamp': 1494982045000, 'srcProduction': True, 'destSite': 'UFlorida-HPC', 'srcSite': 'pic'}, '_id': 'AVwUNv36Kw5l0ihiORa8', '_index': 'network_weather-2017.5.17', '_type': 'packet_loss_rate', '_score': None}\n",
      "{'sort': [1898], '_source': {'destVO': '', 'srcVO': 'ATLAS', 'MA': '193.109.172.188', 'packet_loss': 0.0, 'dest': '128.227.221.44', 'src': '193.109.172.188', 'destProduction': True, 'timestamp': 1494979342000, 'srcProduction': True, 'destSite': 'UFlorida-HPC', 'srcSite': 'pic'}, '_id': 'AVwUNv37Kw5l0ihiORbJ', '_index': 'network_weather-2017.5.17', '_type': 'packet_loss_rate', '_score': None}\n",
      "{'sort': [1899], '_source': {'destVO': '', 'srcVO': 'ATLAS', 'MA': '193.109.172.188', 'packet_loss': 0.0, 'dest': '128.227.221.44', 'src': '193.109.172.188', 'destProduction': True, 'timestamp': 1494981084000, 'srcProduction': True, 'destSite': 'UFlorida-HPC', 'srcSite': 'pic'}, '_id': 'AVwUNv37Kw5l0ihiORbM', '_index': 'network_weather-2017.5.17', '_type': 'packet_loss_rate', '_score': None}\n",
      "{'sort': [2004], '_source': {'destVO': '', 'srcVO': 'ATLAS', 'MA': '193.109.172.188', 'packet_loss': 0.0, 'dest': '128.227.221.44', 'src': '193.109.172.188', 'destProduction': True, 'timestamp': 1494980724000, 'srcProduction': True, 'destSite': 'UFlorida-HPC', 'srcSite': 'pic'}, '_id': 'AVwUNv36Kw5l0ihiORaf', '_index': 'network_weather-2017.5.17', '_type': 'packet_loss_rate', '_score': None}\n"
     ]
    }
   ],
   "source": [
    "site3 = {srcSiteOWDServer3: sS3, destSiteOWDServer3:dS3}\n",
    "data3 = {sS3:pd.DataFrame(),dS3:pd.DataFrame()}\n",
    "epoch = datetime.utcfromtimestamp(0)\n",
    "count = 0\n",
    "print(epoch)\n",
    "\n",
    "for res in scroll3:\n",
    "    if count<10: print(res)\n",
    "    count += 1\n",
    "#     dt=datetime.strptime(res['_source']['timestamp'], '%Y-%m-%dT%H:%M:%S') # for data before Oct. 15 2016\n",
    "    dt=datetime.utcfromtimestamp(res['_source']['timestamp']/1000.0)\n",
    "    ts = (dt - epoch).total_seconds() * 1000.0\n",
    "    s=site3[res['_source']['src']]\n",
    "    data3[s].set_value(ts, 'timestamp', dt)\n",
    "    column_type = res['_type']\n",
    "    if column_type == 'packet_loss_rate':\n",
    "        data3[s].set_value( ts, 'packet_loss', res['_source']['packet_loss'])\n",
    "    #if count<2: print(dt)"
   ]
  },
  {
   "cell_type": "code",
   "execution_count": 11,
   "metadata": {
    "scrolled": true
   },
   "outputs": [
    {
     "name": "stdout",
     "output_type": "stream",
     "text": [
      "1970-01-01 00:00:00\n",
      "{'sort': [11821], '_source': {'destVO': 'ATLAS', 'srcVO': 'ATLAS', 'MA': '193.109.172.188', 'packet_loss': 0.0, 'dest': '195.194.105.178', 'src': '193.109.172.188', 'destProduction': True, 'timestamp': 1494983053000, 'srcProduction': True, 'destSite': 'UKI-NORTHGRID-MAN-HEP', 'srcSite': 'pic'}, '_id': 'AVwUPQEOKw5l0ihiQaUw', '_index': 'network_weather-2017.5.17', '_type': 'packet_loss_rate', '_score': None}\n",
      "{'sort': [11822], '_source': {'destVO': 'ATLAS', 'srcVO': 'ATLAS', 'MA': '193.109.172.188', 'packet_loss': 0.0, 'dest': '195.194.105.178', 'src': '193.109.172.188', 'destProduction': True, 'timestamp': 1494982933000, 'srcProduction': True, 'destSite': 'UKI-NORTHGRID-MAN-HEP', 'srcSite': 'pic'}, '_id': 'AVwUPQEOKw5l0ihiQaUy', '_index': 'network_weather-2017.5.17', '_type': 'packet_loss_rate', '_score': None}\n",
      "{'sort': [11823], '_source': {'destVO': 'ATLAS', 'srcVO': 'ATLAS', 'MA': '193.109.172.188', 'packet_loss': 0.0, 'dest': '195.194.105.178', 'src': '193.109.172.188', 'destProduction': True, 'timestamp': 1494980400000, 'srcProduction': True, 'destSite': 'UKI-NORTHGRID-MAN-HEP', 'srcSite': 'pic'}, '_id': 'AVwUPQEOKw5l0ihiQaU0', '_index': 'network_weather-2017.5.17', '_type': 'packet_loss_rate', '_score': None}\n",
      "{'sort': [11824], '_source': {'destVO': 'ATLAS', 'srcVO': 'ATLAS', 'MA': '193.109.172.188', 'packet_loss': 0.0, 'dest': '195.194.105.178', 'src': '193.109.172.188', 'destProduction': True, 'timestamp': 1494980640000, 'srcProduction': True, 'destSite': 'UKI-NORTHGRID-MAN-HEP', 'srcSite': 'pic'}, '_id': 'AVwUPQEOKw5l0ihiQaU4', '_index': 'network_weather-2017.5.17', '_type': 'packet_loss_rate', '_score': None}\n",
      "{'sort': [11825], '_source': {'destVO': 'ATLAS', 'srcVO': 'ATLAS', 'MA': '193.109.172.188', 'packet_loss': 0.0, 'dest': '195.194.105.178', 'src': '193.109.172.188', 'destProduction': True, 'timestamp': 1494983354000, 'srcProduction': True, 'destSite': 'UKI-NORTHGRID-MAN-HEP', 'srcSite': 'pic'}, '_id': 'AVwUPQEOKw5l0ihiQaU6', '_index': 'network_weather-2017.5.17', '_type': 'packet_loss_rate', '_score': None}\n",
      "{'sort': [11826], '_source': {'destVO': 'ATLAS', 'srcVO': 'ATLAS', 'MA': '193.109.172.188', 'packet_loss': 0.0, 'dest': '195.194.105.178', 'src': '193.109.172.188', 'destProduction': True, 'timestamp': 1494982147000, 'srcProduction': True, 'destSite': 'UKI-NORTHGRID-MAN-HEP', 'srcSite': 'pic'}, '_id': 'AVwUPQEOKw5l0ihiQaU7', '_index': 'network_weather-2017.5.17', '_type': 'packet_loss_rate', '_score': None}\n",
      "{'sort': [11827], '_source': {'destVO': 'ATLAS', 'srcVO': 'ATLAS', 'MA': '193.109.172.188', 'packet_loss': 0.0, 'dest': '195.194.105.178', 'src': '193.109.172.188', 'destProduction': True, 'timestamp': 1494981722000, 'srcProduction': True, 'destSite': 'UKI-NORTHGRID-MAN-HEP', 'srcSite': 'pic'}, '_id': 'AVwUPQEOKw5l0ihiQaU-', '_index': 'network_weather-2017.5.17', '_type': 'packet_loss_rate', '_score': None}\n",
      "{'sort': [11828], '_source': {'destVO': 'ATLAS', 'srcVO': 'ATLAS', 'MA': '193.109.172.188', 'packet_loss': 0.0, 'dest': '195.194.105.178', 'src': '193.109.172.188', 'destProduction': True, 'timestamp': 1494981602000, 'srcProduction': True, 'destSite': 'UKI-NORTHGRID-MAN-HEP', 'srcSite': 'pic'}, '_id': 'AVwUPQEOKw5l0ihiQaVB', '_index': 'network_weather-2017.5.17', '_type': 'packet_loss_rate', '_score': None}\n",
      "{'sort': [11829], '_source': {'destVO': 'ATLAS', 'srcVO': 'ATLAS', 'MA': '193.109.172.188', 'packet_loss': 0.0, 'dest': '195.194.105.178', 'src': '193.109.172.188', 'destProduction': True, 'timestamp': 1494979430000, 'srcProduction': True, 'destSite': 'UKI-NORTHGRID-MAN-HEP', 'srcSite': 'pic'}, '_id': 'AVwUPQEOKw5l0ihiQaVC', '_index': 'network_weather-2017.5.17', '_type': 'packet_loss_rate', '_score': None}\n",
      "{'sort': [11830], '_source': {'destVO': 'ATLAS', 'srcVO': 'ATLAS', 'MA': '193.109.172.188', 'packet_loss': 0.0, 'dest': '195.194.105.178', 'src': '193.109.172.188', 'destProduction': True, 'timestamp': 1494981181000, 'srcProduction': True, 'destSite': 'UKI-NORTHGRID-MAN-HEP', 'srcSite': 'pic'}, '_id': 'AVwUPQEOKw5l0ihiQaVQ', '_index': 'network_weather-2017.5.17', '_type': 'packet_loss_rate', '_score': None}\n"
     ]
    }
   ],
   "source": [
    "site4 = {srcSiteOWDServer4: sS4, destSiteOWDServer4:dS4}\n",
    "data4 = {sS4:pd.DataFrame(),dS4:pd.DataFrame()}\n",
    "epoch = datetime.utcfromtimestamp(0)\n",
    "count = 0\n",
    "print(epoch)\n",
    "\n",
    "for res in scroll4:\n",
    "    if count<10: print(res)\n",
    "    count += 1\n",
    "#     dt=datetime.strptime(res['_source']['timestamp'], '%Y-%m-%dT%H:%M:%S') # for data before Oct. 15 2016\n",
    "    dt=datetime.utcfromtimestamp(res['_source']['timestamp']/1000.0)\n",
    "    ts = (dt - epoch).total_seconds() * 1000.0\n",
    "    s=site4[res['_source']['src']]\n",
    "    data4[s].set_value(ts, 'timestamp', dt)\n",
    "    column_type = res['_type']\n",
    "    if column_type == 'packet_loss_rate':\n",
    "        data4[s].set_value( ts, 'packet_loss', res['_source']['packet_loss'])\n",
    "    #if count<2: print(dt)"
   ]
  },
  {
   "cell_type": "code",
   "execution_count": 12,
   "metadata": {
    "scrolled": true
   },
   "outputs": [
    {
     "name": "stdout",
     "output_type": "stream",
     "text": [
      "1970-01-01 00:00:00\n",
      "{'sort': [1939], '_source': {'destVO': 'ATLAS', 'srcVO': 'ATLAS', 'MA': '193.109.172.188', 'packet_loss': 0.0, 'dest': '148.187.64.25', 'src': '193.109.172.188', 'destProduction': True, 'timestamp': 1494979313000, 'srcProduction': True, 'destSite': 'CSCS-LCG2', 'srcSite': 'pic'}, '_id': 'AVwUNubZKw5l0ihiON7U', '_index': 'network_weather-2017.5.17', '_type': 'packet_loss_rate', '_score': None}\n",
      "{'sort': [1940], '_source': {'destVO': 'ATLAS', 'srcVO': 'ATLAS', 'MA': '193.109.172.188', 'packet_loss': 0.0, 'dest': '148.187.64.25', 'src': '193.109.172.188', 'destProduction': True, 'timestamp': 1494981596000, 'srcProduction': True, 'destSite': 'CSCS-LCG2', 'srcSite': 'pic'}, '_id': 'AVwUNubZKw5l0ihiON7Z', '_index': 'network_weather-2017.5.17', '_type': 'packet_loss_rate', '_score': None}\n",
      "{'sort': [1941], '_source': {'destVO': 'ATLAS', 'srcVO': 'ATLAS', 'MA': '193.109.172.188', 'packet_loss': 0.0016666666666666668, 'dest': '148.187.64.25', 'src': '193.109.172.188', 'destProduction': True, 'timestamp': 1494979253000, 'srcProduction': True, 'destSite': 'CSCS-LCG2', 'srcSite': 'pic'}, '_id': 'AVwUNubZKw5l0ihiON7a', '_index': 'network_weather-2017.5.17', '_type': 'packet_loss_rate', '_score': None}\n",
      "{'sort': [1942], '_source': {'destVO': 'ATLAS', 'srcVO': 'ATLAS', 'MA': '193.109.172.188', 'packet_loss': 0.0, 'dest': '148.187.64.25', 'src': '193.109.172.188', 'destProduction': True, 'timestamp': 1494982377000, 'srcProduction': True, 'destSite': 'CSCS-LCG2', 'srcSite': 'pic'}, '_id': 'AVwUNubZKw5l0ihiON7f', '_index': 'network_weather-2017.5.17', '_type': 'packet_loss_rate', '_score': None}\n",
      "{'sort': [1943], '_source': {'destVO': 'ATLAS', 'srcVO': 'ATLAS', 'MA': '193.109.172.188', 'packet_loss': 0.0, 'dest': '148.187.64.25', 'src': '193.109.172.188', 'destProduction': True, 'timestamp': 1494979553000, 'srcProduction': True, 'destSite': 'CSCS-LCG2', 'srcSite': 'pic'}, '_id': 'AVwUNubZKw5l0ihiON7g', '_index': 'network_weather-2017.5.17', '_type': 'packet_loss_rate', '_score': None}\n",
      "{'sort': [1944], '_source': {'destVO': 'ATLAS', 'srcVO': 'ATLAS', 'MA': '193.109.172.188', 'packet_loss': 0.0, 'dest': '148.187.64.25', 'src': '193.109.172.188', 'destProduction': True, 'timestamp': 1494979734000, 'srcProduction': True, 'destSite': 'CSCS-LCG2', 'srcSite': 'pic'}, '_id': 'AVwUNubZKw5l0ihiON7k', '_index': 'network_weather-2017.5.17', '_type': 'packet_loss_rate', '_score': None}\n",
      "{'sort': [1945], '_source': {'destVO': 'ATLAS', 'srcVO': 'ATLAS', 'MA': '193.109.172.188', 'packet_loss': 0.0, 'dest': '148.187.64.25', 'src': '193.109.172.188', 'destProduction': True, 'timestamp': 1494982617000, 'srcProduction': True, 'destSite': 'CSCS-LCG2', 'srcSite': 'pic'}, '_id': 'AVwUNubZKw5l0ihiON7s', '_index': 'network_weather-2017.5.17', '_type': 'packet_loss_rate', '_score': None}\n",
      "{'sort': [1946], '_source': {'destVO': 'ATLAS', 'srcVO': 'ATLAS', 'MA': '193.109.172.188', 'packet_loss': 0.0, 'dest': '148.187.64.25', 'src': '193.109.172.188', 'destProduction': True, 'timestamp': 1494980695000, 'srcProduction': True, 'destSite': 'CSCS-LCG2', 'srcSite': 'pic'}, '_id': 'AVwUNubZKw5l0ihiON7z', '_index': 'network_weather-2017.5.17', '_type': 'packet_loss_rate', '_score': None}\n",
      "{'sort': [1947], '_source': {'destVO': 'ATLAS', 'srcVO': 'ATLAS', 'MA': '193.109.172.188', 'packet_loss': 0.0, 'dest': '148.187.64.25', 'src': '193.109.172.188', 'destProduction': True, 'timestamp': 1494982557000, 'srcProduction': True, 'destSite': 'CSCS-LCG2', 'srcSite': 'pic'}, '_id': 'AVwUNubZKw5l0ihiON71', '_index': 'network_weather-2017.5.17', '_type': 'packet_loss_rate', '_score': None}\n",
      "{'sort': [1948], '_source': {'destVO': 'ATLAS', 'srcVO': 'ATLAS', 'MA': '193.109.172.188', 'packet_loss': 0.0, 'dest': '148.187.64.25', 'src': '193.109.172.188', 'destProduction': True, 'timestamp': 1494981355000, 'srcProduction': True, 'destSite': 'CSCS-LCG2', 'srcSite': 'pic'}, '_id': 'AVwUNubZKw5l0ihiON74', '_index': 'network_weather-2017.5.17', '_type': 'packet_loss_rate', '_score': None}\n"
     ]
    }
   ],
   "source": [
    "site5 = {srcSiteOWDServer5: sS5, destSiteOWDServer5:dS5}\n",
    "data5 = {sS5:pd.DataFrame(),dS5:pd.DataFrame()}\n",
    "epoch = datetime.utcfromtimestamp(0)\n",
    "count = 0\n",
    "print(epoch)\n",
    "\n",
    "for res in scroll5:\n",
    "    if count<10: print(res)\n",
    "    count += 1\n",
    "#     dt=datetime.strptime(res['_source']['timestamp'], '%Y-%m-%dT%H:%M:%S') # for data before Oct. 15 2016\n",
    "    dt=datetime.utcfromtimestamp(res['_source']['timestamp']/1000.0)\n",
    "    ts = (dt - epoch).total_seconds() * 1000.0\n",
    "    s=site5[res['_source']['src']]\n",
    "    data5[s].set_value(ts, 'timestamp', dt)\n",
    "    column_type = res['_type']\n",
    "    if column_type == 'packet_loss_rate':\n",
    "        data5[s].set_value( ts, 'packet_loss', res['_source']['packet_loss'])\n",
    "    #if count<2: print(dt)"
   ]
  },
  {
   "cell_type": "code",
   "execution_count": 13,
   "metadata": {
    "collapsed": true
   },
   "outputs": [],
   "source": [
    "# print(\"hi\")\n",
    "# exit()"
   ]
  },
  {
   "cell_type": "code",
   "execution_count": 14,
   "metadata": {
    "scrolled": true
   },
   "outputs": [
    {
     "name": "stdout",
     "output_type": "stream",
     "text": [
      "                       timestamp  packet_loss\n",
      "1.494729e+12 2017-05-14 02:31:55          0.0\n",
      "1.494729e+12 2017-05-14 02:32:55          0.0\n",
      "1.494729e+12 2017-05-14 02:33:55          0.0\n",
      "1.494729e+12 2017-05-14 02:35:00          0.0\n",
      "1.494729e+12 2017-05-14 02:35:22          0.0\n",
      "1.494729e+12 2017-05-14 02:36:05          0.0\n",
      "1.494729e+12 2017-05-14 02:36:22          0.0\n",
      "1.494729e+12 2017-05-14 02:37:05          0.0\n",
      "1.494729e+12 2017-05-14 02:37:22          0.0\n",
      "1.494729e+12 2017-05-14 02:38:05          0.0\n",
      "1.494730e+12 2017-05-14 02:38:22          0.0\n",
      "1.494730e+12 2017-05-14 02:39:05          0.0\n",
      "1.494730e+12 2017-05-14 02:39:22          0.0\n",
      "1.494730e+12 2017-05-14 02:40:05          0.0\n",
      "1.494730e+12 2017-05-14 02:40:22          0.0\n",
      "1.494730e+12 2017-05-14 02:41:05          0.0\n",
      "1.494730e+12 2017-05-14 02:41:27          0.0\n",
      "1.494730e+12 2017-05-14 02:42:06          0.0\n",
      "1.494730e+12 2017-05-14 02:42:27          0.0\n",
      "1.494730e+12 2017-05-14 02:43:06          0.0\n",
      "1.494730e+12 2017-05-14 02:43:27          0.0\n",
      "1.494730e+12 2017-05-14 02:44:06          0.0\n",
      "1.494730e+12 2017-05-14 02:44:27          0.0\n",
      "1.494730e+12 2017-05-14 02:45:06          0.0\n",
      "1.494730e+12 2017-05-14 02:45:28          0.0\n",
      "1.494730e+12 2017-05-14 02:46:06          0.0\n",
      "1.494730e+12 2017-05-14 02:46:28          0.0\n",
      "1.494730e+12 2017-05-14 02:47:06          0.0\n",
      "1.494730e+12 2017-05-14 02:47:28          0.0\n",
      "1.494730e+12 2017-05-14 02:48:06          0.0\n",
      "...                          ...          ...\n",
      "1.495237e+12 2017-05-19 23:44:54          0.0\n",
      "1.495238e+12 2017-05-19 23:45:00          0.0\n",
      "1.495238e+12 2017-05-19 23:45:54          0.0\n",
      "1.495238e+12 2017-05-19 23:46:00          0.0\n",
      "1.495238e+12 2017-05-19 23:46:54          0.0\n",
      "1.495238e+12 2017-05-19 23:47:00          0.0\n",
      "1.495238e+12 2017-05-19 23:47:55          0.0\n",
      "1.495238e+12 2017-05-19 23:48:00          0.0\n",
      "1.495238e+12 2017-05-19 23:48:55          0.0\n",
      "1.495238e+12 2017-05-19 23:49:00          0.0\n",
      "1.495238e+12 2017-05-19 23:49:55          0.0\n",
      "1.495238e+12 2017-05-19 23:50:00          0.0\n",
      "1.495238e+12 2017-05-19 23:50:55          0.0\n",
      "1.495238e+12 2017-05-19 23:51:00          0.0\n",
      "1.495238e+12 2017-05-19 23:51:55          0.0\n",
      "1.495238e+12 2017-05-19 23:52:00          0.0\n",
      "1.495238e+12 2017-05-19 23:52:55          0.0\n",
      "1.495238e+12 2017-05-19 23:53:00          0.0\n",
      "1.495238e+12 2017-05-19 23:53:55          0.0\n",
      "1.495238e+12 2017-05-19 23:54:00          0.0\n",
      "1.495238e+12 2017-05-19 23:54:55          0.0\n",
      "1.495238e+12 2017-05-19 23:55:00          0.0\n",
      "1.495238e+12 2017-05-19 23:55:55          0.0\n",
      "1.495238e+12 2017-05-19 23:56:00          0.0\n",
      "1.495238e+12 2017-05-19 23:57:00          0.0\n",
      "1.495238e+12 2017-05-19 23:57:01          0.0\n",
      "1.495238e+12 2017-05-19 23:58:01          0.0\n",
      "1.495238e+12 2017-05-19 23:58:05          0.0\n",
      "1.495238e+12 2017-05-19 23:59:01          0.0\n",
      "1.495238e+12 2017-05-19 23:59:05          0.0\n",
      "\n",
      "[16814 rows x 2 columns]\n"
     ]
    }
   ],
   "source": [
    "data1[sS1].sort_index(inplace=True) \n",
    "data1[sS1].describe()\n",
    "\n",
    "print(data1[sS1])"
   ]
  },
  {
   "cell_type": "code",
   "execution_count": 15,
   "metadata": {
    "scrolled": true
   },
   "outputs": [
    {
     "name": "stdout",
     "output_type": "stream",
     "text": [
      "                       timestamp  packet_loss\n",
      "1.494729e+12 2017-05-14 02:31:39     0.001667\n",
      "1.494729e+12 2017-05-14 02:32:39     0.000000\n",
      "1.494729e+12 2017-05-14 02:33:39     0.000000\n",
      "1.494729e+12 2017-05-14 02:34:39     0.000000\n",
      "1.494729e+12 2017-05-14 02:35:01     0.001667\n",
      "1.494729e+12 2017-05-14 02:35:39     0.000000\n",
      "1.494729e+12 2017-05-14 02:36:06     0.000000\n",
      "1.494729e+12 2017-05-14 02:36:39     0.000000\n",
      "1.494729e+12 2017-05-14 02:37:06     0.000000\n",
      "1.494729e+12 2017-05-14 02:37:39     0.000000\n",
      "1.494729e+12 2017-05-14 02:38:06     0.000000\n",
      "1.494730e+12 2017-05-14 02:38:39     0.000000\n",
      "1.494730e+12 2017-05-14 02:39:06     0.000000\n",
      "1.494730e+12 2017-05-14 02:39:39     0.001667\n",
      "1.494730e+12 2017-05-14 02:40:06     0.000000\n",
      "1.494730e+12 2017-05-14 02:40:39     0.001667\n",
      "1.494730e+12 2017-05-14 02:41:06     0.000000\n",
      "1.494730e+12 2017-05-14 02:41:40     0.000000\n",
      "1.494730e+12 2017-05-14 02:42:06     0.000000\n",
      "1.494730e+12 2017-05-14 02:42:40     0.000000\n",
      "1.494730e+12 2017-05-14 02:43:06     0.000000\n",
      "1.494730e+12 2017-05-14 02:43:40     0.000000\n",
      "1.494730e+12 2017-05-14 02:44:06     0.000000\n",
      "1.494730e+12 2017-05-14 02:44:40     0.000000\n",
      "1.494730e+12 2017-05-14 02:45:07     0.000000\n",
      "1.494730e+12 2017-05-14 02:45:40     0.001667\n",
      "1.494730e+12 2017-05-14 02:46:07     0.001667\n",
      "1.494730e+12 2017-05-14 02:46:40     0.001667\n",
      "1.494730e+12 2017-05-14 02:47:07     0.000000\n",
      "1.494730e+12 2017-05-14 02:47:40     0.000000\n",
      "...                          ...          ...\n",
      "1.495238e+12 2017-05-19 23:45:25     0.000000\n",
      "1.495238e+12 2017-05-19 23:45:32     0.001667\n",
      "1.495238e+12 2017-05-19 23:46:25     0.000000\n",
      "1.495238e+12 2017-05-19 23:46:32     0.000000\n",
      "1.495238e+12 2017-05-19 23:47:25     0.000000\n",
      "1.495238e+12 2017-05-19 23:47:32     0.000000\n",
      "1.495238e+12 2017-05-19 23:48:25     0.000000\n",
      "1.495238e+12 2017-05-19 23:48:32     0.000000\n",
      "1.495238e+12 2017-05-19 23:49:25     0.000000\n",
      "1.495238e+12 2017-05-19 23:49:32     0.000000\n",
      "1.495238e+12 2017-05-19 23:50:25     0.000000\n",
      "1.495238e+12 2017-05-19 23:50:32     0.001667\n",
      "1.495238e+12 2017-05-19 23:51:26     0.000000\n",
      "1.495238e+12 2017-05-19 23:51:32     0.000000\n",
      "1.495238e+12 2017-05-19 23:52:26     0.000000\n",
      "1.495238e+12 2017-05-19 23:52:33     0.000000\n",
      "1.495238e+12 2017-05-19 23:53:26     0.000000\n",
      "1.495238e+12 2017-05-19 23:53:33     0.001667\n",
      "1.495238e+12 2017-05-19 23:54:26     0.000000\n",
      "1.495238e+12 2017-05-19 23:54:33     0.000000\n",
      "1.495238e+12 2017-05-19 23:55:26     0.000000\n",
      "1.495238e+12 2017-05-19 23:55:33     0.000000\n",
      "1.495238e+12 2017-05-19 23:56:26     0.000000\n",
      "1.495238e+12 2017-05-19 23:56:33     0.000000\n",
      "1.495238e+12 2017-05-19 23:57:26     0.000000\n",
      "1.495238e+12 2017-05-19 23:57:33     0.000000\n",
      "1.495238e+12 2017-05-19 23:58:26     0.000000\n",
      "1.495238e+12 2017-05-19 23:58:33     0.000000\n",
      "1.495238e+12 2017-05-19 23:59:26     0.000000\n",
      "1.495238e+12 2017-05-19 23:59:33     0.000000\n",
      "\n",
      "[16880 rows x 2 columns]\n"
     ]
    }
   ],
   "source": [
    "data2[sS2].sort_index(inplace=True) \n",
    "data2[sS2].describe()\n",
    "\n",
    "print(data2[sS2])"
   ]
  },
  {
   "cell_type": "code",
   "execution_count": 16,
   "metadata": {
    "scrolled": true
   },
   "outputs": [
    {
     "name": "stdout",
     "output_type": "stream",
     "text": [
      "                       timestamp  packet_loss\n",
      "1.494729e+12 2017-05-14 02:34:02          0.0\n",
      "1.494729e+12 2017-05-14 02:35:02          0.0\n",
      "1.494729e+12 2017-05-14 02:36:02          0.0\n",
      "1.494729e+12 2017-05-14 02:37:07          0.0\n",
      "1.494729e+12 2017-05-14 02:38:07          0.0\n",
      "1.494730e+12 2017-05-14 02:39:07          0.0\n",
      "1.494730e+12 2017-05-14 02:40:07          0.0\n",
      "1.494730e+12 2017-05-14 02:41:07          0.0\n",
      "1.494730e+12 2017-05-14 02:42:07          0.0\n",
      "1.494730e+12 2017-05-14 02:43:07          0.0\n",
      "1.494730e+12 2017-05-14 02:44:07          0.0\n",
      "1.494730e+12 2017-05-14 02:45:08          0.0\n",
      "1.494730e+12 2017-05-14 02:46:08          0.0\n",
      "1.494730e+12 2017-05-14 02:47:08          0.0\n",
      "1.494730e+12 2017-05-14 02:48:08          0.0\n",
      "1.494730e+12 2017-05-14 02:49:08          0.0\n",
      "1.494730e+12 2017-05-14 02:50:08          0.0\n",
      "1.494730e+12 2017-05-14 02:51:08          0.0\n",
      "1.494730e+12 2017-05-14 02:52:08          0.0\n",
      "1.494730e+12 2017-05-14 02:53:08          0.0\n",
      "1.494730e+12 2017-05-14 02:54:08          0.0\n",
      "1.494731e+12 2017-05-14 02:55:08          0.0\n",
      "1.494731e+12 2017-05-14 02:56:08          0.0\n",
      "1.494731e+12 2017-05-14 02:57:08          0.0\n",
      "1.494731e+12 2017-05-14 02:58:08          0.0\n",
      "1.494731e+12 2017-05-14 02:59:08          0.0\n",
      "1.494731e+12 2017-05-14 03:00:09          0.0\n",
      "1.494731e+12 2017-05-14 03:01:09          0.0\n",
      "1.494731e+12 2017-05-14 03:02:09          0.0\n",
      "1.494731e+12 2017-05-14 03:03:09          0.0\n",
      "...                          ...          ...\n",
      "1.495237e+12 2017-05-19 23:30:46          0.0\n",
      "1.495237e+12 2017-05-19 23:31:46          0.0\n",
      "1.495237e+12 2017-05-19 23:32:46          0.0\n",
      "1.495237e+12 2017-05-19 23:33:46          0.0\n",
      "1.495237e+12 2017-05-19 23:34:46          0.0\n",
      "1.495237e+12 2017-05-19 23:35:46          0.0\n",
      "1.495237e+12 2017-05-19 23:36:46          0.0\n",
      "1.495237e+12 2017-05-19 23:37:46          0.0\n",
      "1.495237e+12 2017-05-19 23:38:46          0.0\n",
      "1.495237e+12 2017-05-19 23:39:47          0.0\n",
      "1.495237e+12 2017-05-19 23:40:47          0.0\n",
      "1.495237e+12 2017-05-19 23:41:47          0.0\n",
      "1.495237e+12 2017-05-19 23:42:47          0.0\n",
      "1.495237e+12 2017-05-19 23:43:47          0.0\n",
      "1.495237e+12 2017-05-19 23:44:47          0.0\n",
      "1.495238e+12 2017-05-19 23:45:47          0.0\n",
      "1.495238e+12 2017-05-19 23:46:47          0.0\n",
      "1.495238e+12 2017-05-19 23:47:47          0.0\n",
      "1.495238e+12 2017-05-19 23:48:47          0.0\n",
      "1.495238e+12 2017-05-19 23:49:47          0.0\n",
      "1.495238e+12 2017-05-19 23:50:47          0.0\n",
      "1.495238e+12 2017-05-19 23:51:47          0.0\n",
      "1.495238e+12 2017-05-19 23:52:47          0.0\n",
      "1.495238e+12 2017-05-19 23:53:47          0.0\n",
      "1.495238e+12 2017-05-19 23:54:47          0.0\n",
      "1.495238e+12 2017-05-19 23:55:48          0.0\n",
      "1.495238e+12 2017-05-19 23:56:48          0.0\n",
      "1.495238e+12 2017-05-19 23:57:48          0.0\n",
      "1.495238e+12 2017-05-19 23:58:48          0.0\n",
      "1.495238e+12 2017-05-19 23:59:48          0.0\n",
      "\n",
      "[8438 rows x 2 columns]\n"
     ]
    }
   ],
   "source": [
    "data3[sS3].sort_index(inplace=True) \n",
    "data3[sS3].describe()\n",
    "\n",
    "print(data3[sS3])"
   ]
  },
  {
   "cell_type": "code",
   "execution_count": 17,
   "metadata": {
    "scrolled": true
   },
   "outputs": [
    {
     "name": "stdout",
     "output_type": "stream",
     "text": [
      "                       timestamp  packet_loss\n",
      "1.494839e+12 2017-05-15 09:05:37     0.000000\n",
      "1.494839e+12 2017-05-15 09:06:38     0.000000\n",
      "1.494839e+12 2017-05-15 09:07:38     0.000000\n",
      "1.494839e+12 2017-05-15 09:08:38     0.000000\n",
      "1.494839e+12 2017-05-15 09:09:38     0.000000\n",
      "1.494839e+12 2017-05-15 09:10:38     0.000000\n",
      "1.494839e+12 2017-05-15 09:11:38     0.000000\n",
      "1.494840e+12 2017-05-15 09:12:38     0.000000\n",
      "1.494840e+12 2017-05-15 09:13:38     0.000000\n",
      "1.494840e+12 2017-05-15 09:14:38     0.000000\n",
      "1.494840e+12 2017-05-15 09:15:38     0.000000\n",
      "1.494840e+12 2017-05-15 09:16:38     0.000000\n",
      "1.494840e+12 2017-05-15 09:17:38     0.000000\n",
      "1.494840e+12 2017-05-15 09:18:38     0.000000\n",
      "1.494840e+12 2017-05-15 09:19:38     0.000000\n",
      "1.494840e+12 2017-05-15 09:20:38     0.000000\n",
      "1.494840e+12 2017-05-15 09:21:38     0.000000\n",
      "1.494840e+12 2017-05-15 09:22:39     0.000000\n",
      "1.494840e+12 2017-05-15 09:23:39     0.000000\n",
      "1.494840e+12 2017-05-15 09:24:39     0.000000\n",
      "1.494840e+12 2017-05-15 09:25:39     0.000000\n",
      "1.494840e+12 2017-05-15 09:26:39     0.000000\n",
      "1.494840e+12 2017-05-15 09:27:39     0.000000\n",
      "1.494841e+12 2017-05-15 09:28:39     0.001667\n",
      "1.494841e+12 2017-05-15 09:29:39     0.000000\n",
      "1.494841e+12 2017-05-15 09:30:39     0.000000\n",
      "1.494841e+12 2017-05-15 09:31:39     0.000000\n",
      "1.494841e+12 2017-05-15 09:32:39     0.000000\n",
      "1.494841e+12 2017-05-15 09:33:39     0.000000\n",
      "1.494841e+12 2017-05-15 09:34:39     0.000000\n",
      "...                          ...          ...\n",
      "1.495237e+12 2017-05-19 23:30:46     0.000000\n",
      "1.495237e+12 2017-05-19 23:31:46     0.000000\n",
      "1.495237e+12 2017-05-19 23:32:46     0.000000\n",
      "1.495237e+12 2017-05-19 23:33:46     0.000000\n",
      "1.495237e+12 2017-05-19 23:34:46     0.001667\n",
      "1.495237e+12 2017-05-19 23:35:46     0.000000\n",
      "1.495237e+12 2017-05-19 23:36:46     0.000000\n",
      "1.495237e+12 2017-05-19 23:37:46     0.000000\n",
      "1.495237e+12 2017-05-19 23:38:46     0.000000\n",
      "1.495237e+12 2017-05-19 23:39:46     0.000000\n",
      "1.495237e+12 2017-05-19 23:40:46     0.000000\n",
      "1.495237e+12 2017-05-19 23:41:46     0.000000\n",
      "1.495237e+12 2017-05-19 23:42:46     0.000000\n",
      "1.495237e+12 2017-05-19 23:43:46     0.000000\n",
      "1.495237e+12 2017-05-19 23:44:47     0.000000\n",
      "1.495238e+12 2017-05-19 23:45:47     0.000000\n",
      "1.495238e+12 2017-05-19 23:46:47     0.000000\n",
      "1.495238e+12 2017-05-19 23:47:47     0.000000\n",
      "1.495238e+12 2017-05-19 23:48:52     0.000000\n",
      "1.495238e+12 2017-05-19 23:49:52     0.000000\n",
      "1.495238e+12 2017-05-19 23:50:52     0.000000\n",
      "1.495238e+12 2017-05-19 23:51:52     0.000000\n",
      "1.495238e+12 2017-05-19 23:52:52     0.000000\n",
      "1.495238e+12 2017-05-19 23:53:52     0.000000\n",
      "1.495238e+12 2017-05-19 23:54:52     0.000000\n",
      "1.495238e+12 2017-05-19 23:55:52     0.000000\n",
      "1.495238e+12 2017-05-19 23:56:52     0.000000\n",
      "1.495238e+12 2017-05-19 23:57:52     0.000000\n",
      "1.495238e+12 2017-05-19 23:58:52     0.000000\n",
      "1.495238e+12 2017-05-19 23:59:53     0.000000\n",
      "\n",
      "[6579 rows x 2 columns]\n"
     ]
    }
   ],
   "source": [
    "data4[sS4].sort_index(inplace=True) \n",
    "data4[sS4].describe()\n",
    "\n",
    "print(data4[sS4])"
   ]
  },
  {
   "cell_type": "code",
   "execution_count": 18,
   "metadata": {
    "scrolled": true
   },
   "outputs": [
    {
     "name": "stdout",
     "output_type": "stream",
     "text": [
      "                       timestamp  packet_loss\n",
      "1.494729e+12 2017-05-14 02:33:40     0.000000\n",
      "1.494729e+12 2017-05-14 02:34:40     0.000000\n",
      "1.494729e+12 2017-05-14 02:35:40     0.000000\n",
      "1.494729e+12 2017-05-14 02:36:40     0.000000\n",
      "1.494729e+12 2017-05-14 02:37:40     0.000000\n",
      "1.494730e+12 2017-05-14 02:38:40     0.000000\n",
      "1.494730e+12 2017-05-14 02:39:40     0.000000\n",
      "1.494730e+12 2017-05-14 02:40:40     0.000000\n",
      "1.494730e+12 2017-05-14 02:41:40     0.000000\n",
      "1.494730e+12 2017-05-14 02:42:40     0.000000\n",
      "1.494730e+12 2017-05-14 02:43:41     0.000000\n",
      "1.494730e+12 2017-05-14 02:44:41     0.000000\n",
      "1.494730e+12 2017-05-14 02:45:41     0.000000\n",
      "1.494730e+12 2017-05-14 02:46:41     0.000000\n",
      "1.494730e+12 2017-05-14 02:47:41     0.000000\n",
      "1.494730e+12 2017-05-14 02:48:41     0.000000\n",
      "1.494730e+12 2017-05-14 02:49:41     0.000000\n",
      "1.494730e+12 2017-05-14 02:50:41     0.000000\n",
      "1.494730e+12 2017-05-14 02:51:41     0.000000\n",
      "1.494730e+12 2017-05-14 02:52:41     0.000000\n",
      "1.494730e+12 2017-05-14 02:53:41     0.000000\n",
      "1.494730e+12 2017-05-14 02:54:41     0.000000\n",
      "1.494731e+12 2017-05-14 02:55:41     0.000000\n",
      "1.494731e+12 2017-05-14 02:56:41     0.000000\n",
      "1.494731e+12 2017-05-14 02:57:41     0.000000\n",
      "1.494731e+12 2017-05-14 02:58:41     0.000000\n",
      "1.494731e+12 2017-05-14 02:59:42     0.000000\n",
      "1.494731e+12 2017-05-14 03:00:42     0.000000\n",
      "1.494731e+12 2017-05-14 03:01:42     0.000000\n",
      "1.494731e+12 2017-05-14 03:02:42     0.000000\n",
      "...                          ...          ...\n",
      "1.495237e+12 2017-05-19 23:30:34     0.000000\n",
      "1.495237e+12 2017-05-19 23:31:34     0.000000\n",
      "1.495237e+12 2017-05-19 23:32:34     0.000000\n",
      "1.495237e+12 2017-05-19 23:33:34     0.000000\n",
      "1.495237e+12 2017-05-19 23:34:34     0.000000\n",
      "1.495237e+12 2017-05-19 23:35:34     0.000000\n",
      "1.495237e+12 2017-05-19 23:36:34     0.000000\n",
      "1.495237e+12 2017-05-19 23:37:34     0.000000\n",
      "1.495237e+12 2017-05-19 23:38:34     0.000000\n",
      "1.495237e+12 2017-05-19 23:39:34     0.000000\n",
      "1.495237e+12 2017-05-19 23:40:34     0.000000\n",
      "1.495237e+12 2017-05-19 23:41:34     0.000000\n",
      "1.495237e+12 2017-05-19 23:42:34     0.001667\n",
      "1.495237e+12 2017-05-19 23:43:34     0.000000\n",
      "1.495237e+12 2017-05-19 23:44:34     0.000000\n",
      "1.495238e+12 2017-05-19 23:45:35     0.000000\n",
      "1.495238e+12 2017-05-19 23:46:40     0.000000\n",
      "1.495238e+12 2017-05-19 23:47:40     0.000000\n",
      "1.495238e+12 2017-05-19 23:48:40     0.000000\n",
      "1.495238e+12 2017-05-19 23:49:40     0.000000\n",
      "1.495238e+12 2017-05-19 23:50:40     0.000000\n",
      "1.495238e+12 2017-05-19 23:51:40     0.000000\n",
      "1.495238e+12 2017-05-19 23:52:40     0.000000\n",
      "1.495238e+12 2017-05-19 23:53:40     0.000000\n",
      "1.495238e+12 2017-05-19 23:54:40     0.000000\n",
      "1.495238e+12 2017-05-19 23:55:40     0.000000\n",
      "1.495238e+12 2017-05-19 23:56:40     0.000000\n",
      "1.495238e+12 2017-05-19 23:57:40     0.000000\n",
      "1.495238e+12 2017-05-19 23:58:40     0.000000\n",
      "1.495238e+12 2017-05-19 23:59:40     0.000000\n",
      "\n",
      "[8451 rows x 2 columns]\n"
     ]
    }
   ],
   "source": [
    "data5[sS5].sort_index(inplace=True) \n",
    "data5[sS5].describe()\n",
    "\n",
    "print(data5[sS5])"
   ]
  },
  {
   "cell_type": "markdown",
   "metadata": {},
   "source": [
    "### Extract values"
   ]
  },
  {
   "cell_type": "code",
   "execution_count": 19,
   "metadata": {
    "scrolled": true
   },
   "outputs": [
    {
     "name": "stdout",
     "output_type": "stream",
     "text": [
      "                       timestamp  packet_loss\n",
      "1.494729e+12 2017-05-14 02:31:55          0.0\n",
      "1.494729e+12 2017-05-14 02:32:55          0.0\n",
      "1.494729e+12 2017-05-14 02:33:55          0.0\n",
      "1.494729e+12 2017-05-14 02:35:00          0.0\n",
      "1.494729e+12 2017-05-14 02:35:22          0.0\n",
      "1.494729e+12 2017-05-14 02:36:05          0.0\n",
      "1.494729e+12 2017-05-14 02:36:22          0.0\n",
      "1.494729e+12 2017-05-14 02:37:05          0.0\n",
      "1.494729e+12 2017-05-14 02:37:22          0.0\n",
      "1.494729e+12 2017-05-14 02:38:05          0.0\n",
      "1.494730e+12 2017-05-14 02:38:22          0.0\n",
      "1.494730e+12 2017-05-14 02:39:05          0.0\n",
      "1.494730e+12 2017-05-14 02:39:22          0.0\n",
      "1.494730e+12 2017-05-14 02:40:05          0.0\n",
      "1.494730e+12 2017-05-14 02:40:22          0.0\n",
      "1.494730e+12 2017-05-14 02:41:05          0.0\n",
      "1.494730e+12 2017-05-14 02:41:27          0.0\n",
      "1.494730e+12 2017-05-14 02:42:06          0.0\n",
      "1.494730e+12 2017-05-14 02:42:27          0.0\n",
      "1.494730e+12 2017-05-14 02:43:06          0.0\n",
      "1.494730e+12 2017-05-14 02:43:27          0.0\n",
      "1.494730e+12 2017-05-14 02:44:06          0.0\n",
      "1.494730e+12 2017-05-14 02:44:27          0.0\n",
      "1.494730e+12 2017-05-14 02:45:06          0.0\n",
      "1.494730e+12 2017-05-14 02:45:28          0.0\n",
      "1.494730e+12 2017-05-14 02:46:06          0.0\n",
      "1.494730e+12 2017-05-14 02:46:28          0.0\n",
      "1.494730e+12 2017-05-14 02:47:06          0.0\n",
      "1.494730e+12 2017-05-14 02:47:28          0.0\n",
      "1.494730e+12 2017-05-14 02:48:06          0.0\n",
      "...                          ...          ...\n",
      "1.495237e+12 2017-05-19 23:44:54          0.0\n",
      "1.495238e+12 2017-05-19 23:45:00          0.0\n",
      "1.495238e+12 2017-05-19 23:45:54          0.0\n",
      "1.495238e+12 2017-05-19 23:46:00          0.0\n",
      "1.495238e+12 2017-05-19 23:46:54          0.0\n",
      "1.495238e+12 2017-05-19 23:47:00          0.0\n",
      "1.495238e+12 2017-05-19 23:47:55          0.0\n",
      "1.495238e+12 2017-05-19 23:48:00          0.0\n",
      "1.495238e+12 2017-05-19 23:48:55          0.0\n",
      "1.495238e+12 2017-05-19 23:49:00          0.0\n",
      "1.495238e+12 2017-05-19 23:49:55          0.0\n",
      "1.495238e+12 2017-05-19 23:50:00          0.0\n",
      "1.495238e+12 2017-05-19 23:50:55          0.0\n",
      "1.495238e+12 2017-05-19 23:51:00          0.0\n",
      "1.495238e+12 2017-05-19 23:51:55          0.0\n",
      "1.495238e+12 2017-05-19 23:52:00          0.0\n",
      "1.495238e+12 2017-05-19 23:52:55          0.0\n",
      "1.495238e+12 2017-05-19 23:53:00          0.0\n",
      "1.495238e+12 2017-05-19 23:53:55          0.0\n",
      "1.495238e+12 2017-05-19 23:54:00          0.0\n",
      "1.495238e+12 2017-05-19 23:54:55          0.0\n",
      "1.495238e+12 2017-05-19 23:55:00          0.0\n",
      "1.495238e+12 2017-05-19 23:55:55          0.0\n",
      "1.495238e+12 2017-05-19 23:56:00          0.0\n",
      "1.495238e+12 2017-05-19 23:57:00          0.0\n",
      "1.495238e+12 2017-05-19 23:57:01          0.0\n",
      "1.495238e+12 2017-05-19 23:58:01          0.0\n",
      "1.495238e+12 2017-05-19 23:58:05          0.0\n",
      "1.495238e+12 2017-05-19 23:59:01          0.0\n",
      "1.495238e+12 2017-05-19 23:59:05          0.0\n",
      "\n",
      "[16814 rows x 2 columns]\n"
     ]
    }
   ],
   "source": [
    "F1 = data1[sS1]\n",
    "Fpl1 = F1[F1.packet_loss.notnull()]\n",
    "\n",
    "#print(Fpl)\n",
    "print(Fpl1)"
   ]
  },
  {
   "cell_type": "code",
   "execution_count": 20,
   "metadata": {
    "scrolled": true
   },
   "outputs": [
    {
     "name": "stdout",
     "output_type": "stream",
     "text": [
      "                       timestamp  packet_loss\n",
      "1.494729e+12 2017-05-14 02:31:39     0.001667\n",
      "1.494729e+12 2017-05-14 02:32:39     0.000000\n",
      "1.494729e+12 2017-05-14 02:33:39     0.000000\n",
      "1.494729e+12 2017-05-14 02:34:39     0.000000\n",
      "1.494729e+12 2017-05-14 02:35:01     0.001667\n",
      "1.494729e+12 2017-05-14 02:35:39     0.000000\n",
      "1.494729e+12 2017-05-14 02:36:06     0.000000\n",
      "1.494729e+12 2017-05-14 02:36:39     0.000000\n",
      "1.494729e+12 2017-05-14 02:37:06     0.000000\n",
      "1.494729e+12 2017-05-14 02:37:39     0.000000\n",
      "1.494729e+12 2017-05-14 02:38:06     0.000000\n",
      "1.494730e+12 2017-05-14 02:38:39     0.000000\n",
      "1.494730e+12 2017-05-14 02:39:06     0.000000\n",
      "1.494730e+12 2017-05-14 02:39:39     0.001667\n",
      "1.494730e+12 2017-05-14 02:40:06     0.000000\n",
      "1.494730e+12 2017-05-14 02:40:39     0.001667\n",
      "1.494730e+12 2017-05-14 02:41:06     0.000000\n",
      "1.494730e+12 2017-05-14 02:41:40     0.000000\n",
      "1.494730e+12 2017-05-14 02:42:06     0.000000\n",
      "1.494730e+12 2017-05-14 02:42:40     0.000000\n",
      "1.494730e+12 2017-05-14 02:43:06     0.000000\n",
      "1.494730e+12 2017-05-14 02:43:40     0.000000\n",
      "1.494730e+12 2017-05-14 02:44:06     0.000000\n",
      "1.494730e+12 2017-05-14 02:44:40     0.000000\n",
      "1.494730e+12 2017-05-14 02:45:07     0.000000\n",
      "1.494730e+12 2017-05-14 02:45:40     0.001667\n",
      "1.494730e+12 2017-05-14 02:46:07     0.001667\n",
      "1.494730e+12 2017-05-14 02:46:40     0.001667\n",
      "1.494730e+12 2017-05-14 02:47:07     0.000000\n",
      "1.494730e+12 2017-05-14 02:47:40     0.000000\n",
      "...                          ...          ...\n",
      "1.495238e+12 2017-05-19 23:45:25     0.000000\n",
      "1.495238e+12 2017-05-19 23:45:32     0.001667\n",
      "1.495238e+12 2017-05-19 23:46:25     0.000000\n",
      "1.495238e+12 2017-05-19 23:46:32     0.000000\n",
      "1.495238e+12 2017-05-19 23:47:25     0.000000\n",
      "1.495238e+12 2017-05-19 23:47:32     0.000000\n",
      "1.495238e+12 2017-05-19 23:48:25     0.000000\n",
      "1.495238e+12 2017-05-19 23:48:32     0.000000\n",
      "1.495238e+12 2017-05-19 23:49:25     0.000000\n",
      "1.495238e+12 2017-05-19 23:49:32     0.000000\n",
      "1.495238e+12 2017-05-19 23:50:25     0.000000\n",
      "1.495238e+12 2017-05-19 23:50:32     0.001667\n",
      "1.495238e+12 2017-05-19 23:51:26     0.000000\n",
      "1.495238e+12 2017-05-19 23:51:32     0.000000\n",
      "1.495238e+12 2017-05-19 23:52:26     0.000000\n",
      "1.495238e+12 2017-05-19 23:52:33     0.000000\n",
      "1.495238e+12 2017-05-19 23:53:26     0.000000\n",
      "1.495238e+12 2017-05-19 23:53:33     0.001667\n",
      "1.495238e+12 2017-05-19 23:54:26     0.000000\n",
      "1.495238e+12 2017-05-19 23:54:33     0.000000\n",
      "1.495238e+12 2017-05-19 23:55:26     0.000000\n",
      "1.495238e+12 2017-05-19 23:55:33     0.000000\n",
      "1.495238e+12 2017-05-19 23:56:26     0.000000\n",
      "1.495238e+12 2017-05-19 23:56:33     0.000000\n",
      "1.495238e+12 2017-05-19 23:57:26     0.000000\n",
      "1.495238e+12 2017-05-19 23:57:33     0.000000\n",
      "1.495238e+12 2017-05-19 23:58:26     0.000000\n",
      "1.495238e+12 2017-05-19 23:58:33     0.000000\n",
      "1.495238e+12 2017-05-19 23:59:26     0.000000\n",
      "1.495238e+12 2017-05-19 23:59:33     0.000000\n",
      "\n",
      "[16880 rows x 2 columns]\n"
     ]
    }
   ],
   "source": [
    "F2 = data2[sS2]\n",
    "Fpl2 = F2[F2.packet_loss.notnull()]\n",
    "\n",
    "#print(Fpl)\n",
    "print(Fpl2)"
   ]
  },
  {
   "cell_type": "code",
   "execution_count": 21,
   "metadata": {
    "scrolled": true
   },
   "outputs": [
    {
     "name": "stdout",
     "output_type": "stream",
     "text": [
      "                       timestamp  packet_loss\n",
      "1.494729e+12 2017-05-14 02:34:02          0.0\n",
      "1.494729e+12 2017-05-14 02:35:02          0.0\n",
      "1.494729e+12 2017-05-14 02:36:02          0.0\n",
      "1.494729e+12 2017-05-14 02:37:07          0.0\n",
      "1.494729e+12 2017-05-14 02:38:07          0.0\n",
      "1.494730e+12 2017-05-14 02:39:07          0.0\n",
      "1.494730e+12 2017-05-14 02:40:07          0.0\n",
      "1.494730e+12 2017-05-14 02:41:07          0.0\n",
      "1.494730e+12 2017-05-14 02:42:07          0.0\n",
      "1.494730e+12 2017-05-14 02:43:07          0.0\n",
      "1.494730e+12 2017-05-14 02:44:07          0.0\n",
      "1.494730e+12 2017-05-14 02:45:08          0.0\n",
      "1.494730e+12 2017-05-14 02:46:08          0.0\n",
      "1.494730e+12 2017-05-14 02:47:08          0.0\n",
      "1.494730e+12 2017-05-14 02:48:08          0.0\n",
      "1.494730e+12 2017-05-14 02:49:08          0.0\n",
      "1.494730e+12 2017-05-14 02:50:08          0.0\n",
      "1.494730e+12 2017-05-14 02:51:08          0.0\n",
      "1.494730e+12 2017-05-14 02:52:08          0.0\n",
      "1.494730e+12 2017-05-14 02:53:08          0.0\n",
      "1.494730e+12 2017-05-14 02:54:08          0.0\n",
      "1.494731e+12 2017-05-14 02:55:08          0.0\n",
      "1.494731e+12 2017-05-14 02:56:08          0.0\n",
      "1.494731e+12 2017-05-14 02:57:08          0.0\n",
      "1.494731e+12 2017-05-14 02:58:08          0.0\n",
      "1.494731e+12 2017-05-14 02:59:08          0.0\n",
      "1.494731e+12 2017-05-14 03:00:09          0.0\n",
      "1.494731e+12 2017-05-14 03:01:09          0.0\n",
      "1.494731e+12 2017-05-14 03:02:09          0.0\n",
      "1.494731e+12 2017-05-14 03:03:09          0.0\n",
      "...                          ...          ...\n",
      "1.495237e+12 2017-05-19 23:30:46          0.0\n",
      "1.495237e+12 2017-05-19 23:31:46          0.0\n",
      "1.495237e+12 2017-05-19 23:32:46          0.0\n",
      "1.495237e+12 2017-05-19 23:33:46          0.0\n",
      "1.495237e+12 2017-05-19 23:34:46          0.0\n",
      "1.495237e+12 2017-05-19 23:35:46          0.0\n",
      "1.495237e+12 2017-05-19 23:36:46          0.0\n",
      "1.495237e+12 2017-05-19 23:37:46          0.0\n",
      "1.495237e+12 2017-05-19 23:38:46          0.0\n",
      "1.495237e+12 2017-05-19 23:39:47          0.0\n",
      "1.495237e+12 2017-05-19 23:40:47          0.0\n",
      "1.495237e+12 2017-05-19 23:41:47          0.0\n",
      "1.495237e+12 2017-05-19 23:42:47          0.0\n",
      "1.495237e+12 2017-05-19 23:43:47          0.0\n",
      "1.495237e+12 2017-05-19 23:44:47          0.0\n",
      "1.495238e+12 2017-05-19 23:45:47          0.0\n",
      "1.495238e+12 2017-05-19 23:46:47          0.0\n",
      "1.495238e+12 2017-05-19 23:47:47          0.0\n",
      "1.495238e+12 2017-05-19 23:48:47          0.0\n",
      "1.495238e+12 2017-05-19 23:49:47          0.0\n",
      "1.495238e+12 2017-05-19 23:50:47          0.0\n",
      "1.495238e+12 2017-05-19 23:51:47          0.0\n",
      "1.495238e+12 2017-05-19 23:52:47          0.0\n",
      "1.495238e+12 2017-05-19 23:53:47          0.0\n",
      "1.495238e+12 2017-05-19 23:54:47          0.0\n",
      "1.495238e+12 2017-05-19 23:55:48          0.0\n",
      "1.495238e+12 2017-05-19 23:56:48          0.0\n",
      "1.495238e+12 2017-05-19 23:57:48          0.0\n",
      "1.495238e+12 2017-05-19 23:58:48          0.0\n",
      "1.495238e+12 2017-05-19 23:59:48          0.0\n",
      "\n",
      "[8438 rows x 2 columns]\n"
     ]
    }
   ],
   "source": [
    "F3 = data3[sS3]\n",
    "Fpl3 = F3[F3.packet_loss.notnull()]\n",
    "\n",
    "#print(Fpl)\n",
    "print(Fpl3)"
   ]
  },
  {
   "cell_type": "code",
   "execution_count": 22,
   "metadata": {
    "scrolled": true
   },
   "outputs": [
    {
     "name": "stdout",
     "output_type": "stream",
     "text": [
      "                       timestamp  packet_loss\n",
      "1.494839e+12 2017-05-15 09:05:37     0.000000\n",
      "1.494839e+12 2017-05-15 09:06:38     0.000000\n",
      "1.494839e+12 2017-05-15 09:07:38     0.000000\n",
      "1.494839e+12 2017-05-15 09:08:38     0.000000\n",
      "1.494839e+12 2017-05-15 09:09:38     0.000000\n",
      "1.494839e+12 2017-05-15 09:10:38     0.000000\n",
      "1.494839e+12 2017-05-15 09:11:38     0.000000\n",
      "1.494840e+12 2017-05-15 09:12:38     0.000000\n",
      "1.494840e+12 2017-05-15 09:13:38     0.000000\n",
      "1.494840e+12 2017-05-15 09:14:38     0.000000\n",
      "1.494840e+12 2017-05-15 09:15:38     0.000000\n",
      "1.494840e+12 2017-05-15 09:16:38     0.000000\n",
      "1.494840e+12 2017-05-15 09:17:38     0.000000\n",
      "1.494840e+12 2017-05-15 09:18:38     0.000000\n",
      "1.494840e+12 2017-05-15 09:19:38     0.000000\n",
      "1.494840e+12 2017-05-15 09:20:38     0.000000\n",
      "1.494840e+12 2017-05-15 09:21:38     0.000000\n",
      "1.494840e+12 2017-05-15 09:22:39     0.000000\n",
      "1.494840e+12 2017-05-15 09:23:39     0.000000\n",
      "1.494840e+12 2017-05-15 09:24:39     0.000000\n",
      "1.494840e+12 2017-05-15 09:25:39     0.000000\n",
      "1.494840e+12 2017-05-15 09:26:39     0.000000\n",
      "1.494840e+12 2017-05-15 09:27:39     0.000000\n",
      "1.494841e+12 2017-05-15 09:28:39     0.001667\n",
      "1.494841e+12 2017-05-15 09:29:39     0.000000\n",
      "1.494841e+12 2017-05-15 09:30:39     0.000000\n",
      "1.494841e+12 2017-05-15 09:31:39     0.000000\n",
      "1.494841e+12 2017-05-15 09:32:39     0.000000\n",
      "1.494841e+12 2017-05-15 09:33:39     0.000000\n",
      "1.494841e+12 2017-05-15 09:34:39     0.000000\n",
      "...                          ...          ...\n",
      "1.495237e+12 2017-05-19 23:30:46     0.000000\n",
      "1.495237e+12 2017-05-19 23:31:46     0.000000\n",
      "1.495237e+12 2017-05-19 23:32:46     0.000000\n",
      "1.495237e+12 2017-05-19 23:33:46     0.000000\n",
      "1.495237e+12 2017-05-19 23:34:46     0.001667\n",
      "1.495237e+12 2017-05-19 23:35:46     0.000000\n",
      "1.495237e+12 2017-05-19 23:36:46     0.000000\n",
      "1.495237e+12 2017-05-19 23:37:46     0.000000\n",
      "1.495237e+12 2017-05-19 23:38:46     0.000000\n",
      "1.495237e+12 2017-05-19 23:39:46     0.000000\n",
      "1.495237e+12 2017-05-19 23:40:46     0.000000\n",
      "1.495237e+12 2017-05-19 23:41:46     0.000000\n",
      "1.495237e+12 2017-05-19 23:42:46     0.000000\n",
      "1.495237e+12 2017-05-19 23:43:46     0.000000\n",
      "1.495237e+12 2017-05-19 23:44:47     0.000000\n",
      "1.495238e+12 2017-05-19 23:45:47     0.000000\n",
      "1.495238e+12 2017-05-19 23:46:47     0.000000\n",
      "1.495238e+12 2017-05-19 23:47:47     0.000000\n",
      "1.495238e+12 2017-05-19 23:48:52     0.000000\n",
      "1.495238e+12 2017-05-19 23:49:52     0.000000\n",
      "1.495238e+12 2017-05-19 23:50:52     0.000000\n",
      "1.495238e+12 2017-05-19 23:51:52     0.000000\n",
      "1.495238e+12 2017-05-19 23:52:52     0.000000\n",
      "1.495238e+12 2017-05-19 23:53:52     0.000000\n",
      "1.495238e+12 2017-05-19 23:54:52     0.000000\n",
      "1.495238e+12 2017-05-19 23:55:52     0.000000\n",
      "1.495238e+12 2017-05-19 23:56:52     0.000000\n",
      "1.495238e+12 2017-05-19 23:57:52     0.000000\n",
      "1.495238e+12 2017-05-19 23:58:52     0.000000\n",
      "1.495238e+12 2017-05-19 23:59:53     0.000000\n",
      "\n",
      "[6579 rows x 2 columns]\n"
     ]
    }
   ],
   "source": [
    "F4 = data4[sS4]\n",
    "Fpl4 = F4[F4.packet_loss.notnull()]\n",
    "\n",
    "#print(Fpl)\n",
    "print(Fpl4)"
   ]
  },
  {
   "cell_type": "code",
   "execution_count": 23,
   "metadata": {
    "scrolled": true
   },
   "outputs": [
    {
     "name": "stdout",
     "output_type": "stream",
     "text": [
      "                       timestamp  packet_loss\n",
      "1.494729e+12 2017-05-14 02:33:40     0.000000\n",
      "1.494729e+12 2017-05-14 02:34:40     0.000000\n",
      "1.494729e+12 2017-05-14 02:35:40     0.000000\n",
      "1.494729e+12 2017-05-14 02:36:40     0.000000\n",
      "1.494729e+12 2017-05-14 02:37:40     0.000000\n",
      "1.494730e+12 2017-05-14 02:38:40     0.000000\n",
      "1.494730e+12 2017-05-14 02:39:40     0.000000\n",
      "1.494730e+12 2017-05-14 02:40:40     0.000000\n",
      "1.494730e+12 2017-05-14 02:41:40     0.000000\n",
      "1.494730e+12 2017-05-14 02:42:40     0.000000\n",
      "1.494730e+12 2017-05-14 02:43:41     0.000000\n",
      "1.494730e+12 2017-05-14 02:44:41     0.000000\n",
      "1.494730e+12 2017-05-14 02:45:41     0.000000\n",
      "1.494730e+12 2017-05-14 02:46:41     0.000000\n",
      "1.494730e+12 2017-05-14 02:47:41     0.000000\n",
      "1.494730e+12 2017-05-14 02:48:41     0.000000\n",
      "1.494730e+12 2017-05-14 02:49:41     0.000000\n",
      "1.494730e+12 2017-05-14 02:50:41     0.000000\n",
      "1.494730e+12 2017-05-14 02:51:41     0.000000\n",
      "1.494730e+12 2017-05-14 02:52:41     0.000000\n",
      "1.494730e+12 2017-05-14 02:53:41     0.000000\n",
      "1.494730e+12 2017-05-14 02:54:41     0.000000\n",
      "1.494731e+12 2017-05-14 02:55:41     0.000000\n",
      "1.494731e+12 2017-05-14 02:56:41     0.000000\n",
      "1.494731e+12 2017-05-14 02:57:41     0.000000\n",
      "1.494731e+12 2017-05-14 02:58:41     0.000000\n",
      "1.494731e+12 2017-05-14 02:59:42     0.000000\n",
      "1.494731e+12 2017-05-14 03:00:42     0.000000\n",
      "1.494731e+12 2017-05-14 03:01:42     0.000000\n",
      "1.494731e+12 2017-05-14 03:02:42     0.000000\n",
      "...                          ...          ...\n",
      "1.495237e+12 2017-05-19 23:30:34     0.000000\n",
      "1.495237e+12 2017-05-19 23:31:34     0.000000\n",
      "1.495237e+12 2017-05-19 23:32:34     0.000000\n",
      "1.495237e+12 2017-05-19 23:33:34     0.000000\n",
      "1.495237e+12 2017-05-19 23:34:34     0.000000\n",
      "1.495237e+12 2017-05-19 23:35:34     0.000000\n",
      "1.495237e+12 2017-05-19 23:36:34     0.000000\n",
      "1.495237e+12 2017-05-19 23:37:34     0.000000\n",
      "1.495237e+12 2017-05-19 23:38:34     0.000000\n",
      "1.495237e+12 2017-05-19 23:39:34     0.000000\n",
      "1.495237e+12 2017-05-19 23:40:34     0.000000\n",
      "1.495237e+12 2017-05-19 23:41:34     0.000000\n",
      "1.495237e+12 2017-05-19 23:42:34     0.001667\n",
      "1.495237e+12 2017-05-19 23:43:34     0.000000\n",
      "1.495237e+12 2017-05-19 23:44:34     0.000000\n",
      "1.495238e+12 2017-05-19 23:45:35     0.000000\n",
      "1.495238e+12 2017-05-19 23:46:40     0.000000\n",
      "1.495238e+12 2017-05-19 23:47:40     0.000000\n",
      "1.495238e+12 2017-05-19 23:48:40     0.000000\n",
      "1.495238e+12 2017-05-19 23:49:40     0.000000\n",
      "1.495238e+12 2017-05-19 23:50:40     0.000000\n",
      "1.495238e+12 2017-05-19 23:51:40     0.000000\n",
      "1.495238e+12 2017-05-19 23:52:40     0.000000\n",
      "1.495238e+12 2017-05-19 23:53:40     0.000000\n",
      "1.495238e+12 2017-05-19 23:54:40     0.000000\n",
      "1.495238e+12 2017-05-19 23:55:40     0.000000\n",
      "1.495238e+12 2017-05-19 23:56:40     0.000000\n",
      "1.495238e+12 2017-05-19 23:57:40     0.000000\n",
      "1.495238e+12 2017-05-19 23:58:40     0.000000\n",
      "1.495238e+12 2017-05-19 23:59:40     0.000000\n",
      "\n",
      "[8451 rows x 2 columns]\n"
     ]
    }
   ],
   "source": [
    "F5 = data5[sS5]\n",
    "Fpl5 = F5[F5.packet_loss.notnull()]\n",
    "\n",
    "#print(Fpl)\n",
    "print(Fpl5)"
   ]
  },
  {
   "cell_type": "markdown",
   "metadata": {
    "scrolled": true
   },
   "source": [
    "#### interpolate all the values and leave only onese where all 4 measurements are there"
   ]
  },
  {
   "cell_type": "code",
   "execution_count": 24,
   "metadata": {
    "collapsed": true
   },
   "outputs": [],
   "source": [
    "# NF=F.interpolate(method='index',limit=1,limit_direction='both')\n",
    "# NFall = NF[NF.packet_loss.notnull()]\n",
    "\n",
    "# print(NFall.shape)"
   ]
  },
  {
   "cell_type": "code",
   "execution_count": 25,
   "metadata": {
    "collapsed": true
   },
   "outputs": [],
   "source": [
    "# print(NF.shape)"
   ]
  },
  {
   "cell_type": "code",
   "execution_count": 26,
   "metadata": {},
   "outputs": [
    {
     "name": "stdout",
     "output_type": "stream",
     "text": [
      "packet loss forward:  16814\n"
     ]
    }
   ],
   "source": [
    "print( 'packet loss forward: ', Fpl1.shape[0])"
   ]
  },
  {
   "cell_type": "code",
   "execution_count": 27,
   "metadata": {},
   "outputs": [
    {
     "name": "stdout",
     "output_type": "stream",
     "text": [
      "packet loss forward:  16880\n"
     ]
    }
   ],
   "source": [
    "print( 'packet loss forward: ', Fpl2.shape[0])"
   ]
  },
  {
   "cell_type": "code",
   "execution_count": 28,
   "metadata": {},
   "outputs": [
    {
     "name": "stdout",
     "output_type": "stream",
     "text": [
      "packet loss forward:  8438\n"
     ]
    }
   ],
   "source": [
    "print( 'packet loss forward: ', Fpl3.shape[0])"
   ]
  },
  {
   "cell_type": "code",
   "execution_count": 29,
   "metadata": {},
   "outputs": [
    {
     "name": "stdout",
     "output_type": "stream",
     "text": [
      "packet loss forward:  6579\n"
     ]
    }
   ],
   "source": [
    "print( 'packet loss forward: ', Fpl4.shape[0])"
   ]
  },
  {
   "cell_type": "code",
   "execution_count": 30,
   "metadata": {},
   "outputs": [
    {
     "name": "stdout",
     "output_type": "stream",
     "text": [
      "packet loss forward:  8451\n"
     ]
    }
   ],
   "source": [
    "print( 'packet loss forward: ', Fpl5.shape[0])"
   ]
  },
  {
   "cell_type": "code",
   "execution_count": 31,
   "metadata": {
    "scrolled": true
   },
   "outputs": [
    {
     "data": {
      "image/png": "[encoded data removed]",
      "text/plain": [
       "<matplotlib.figure.Figure at 0x7f1dc561d588>"
      ]
     },
     "metadata": {},
     "output_type": "display_data"
    }
   ],
   "source": [
    "plt.figure(figsize=[16, 17])\n",
    "gs = gridspec.GridSpec(4, 1)\n",
    "\n",
    "ax0 = plt.subplot(gs[1])\n",
    "ax0.plot(Fpl1.timestamp.tolist(), np.sqrt(Fpl1.packet_loss).tolist(), ls='', marker='.', c='r', label=sS1+'->'+dS1)\n",
    "ax0.set_xlabel('time')\n",
    "ax0.set_ylabel('sqrt(packet loss) [%]')\n",
    "ax0.legend()\n",
    "\n",
    "ax2 = plt.subplot(gs[1])\n",
    "ax2.plot(Fpl2.timestamp.tolist(), np.sqrt(Fpl2.packet_loss).tolist(), ls='', marker='.', c='r', label=sS2+'->'+dS2)\n",
    "ax2.set_xlabel('time')\n",
    "ax2.set_ylabel('sqrt(packet loss) [%]')\n",
    "ax2.legend()\n",
    "\n",
    "ax4 = plt.subplot(gs[1])\n",
    "ax4.plot(Fpl3.timestamp.tolist(), np.sqrt(Fpl3.packet_loss).tolist(), ls='', marker='.', c='r', label=sS3+'->'+dS3)\n",
    "ax4.set_xlabel('time')\n",
    "ax4.set_ylabel('sqrt(packet loss) [%]')\n",
    "ax4.legend()\n",
    "\n",
    "ax6 = plt.subplot(gs[1])\n",
    "ax6.plot(Fpl4.timestamp.tolist(), np.sqrt(Fpl4.packet_loss).tolist(), ls='', marker='.', c='r', label=sS4+'->'+dS4)\n",
    "ax6.set_xlabel('time')\n",
    "ax6.set_ylabel('sqrt(packet loss) [%]')\n",
    "ax6.legend()\n",
    "\n",
    "ax8 = plt.subplot(gs[1])\n",
    "ax8.plot(Fpl5.timestamp.tolist(), np.sqrt(Fpl5.packet_loss).tolist(), ls='', marker='.', c='r', label=sS5+'->'+dS5)\n",
    "ax8.set_xlabel('time')\n",
    "ax8.set_ylabel('sqrt(packet loss) [%]')\n",
    "ax8.legend()\n",
    "\n",
    "plt.show()"
   ]
  },
  {
   "cell_type": "markdown",
   "metadata": {},
   "source": [
    "### Combining the dataframes"
   ]
  },
  {
   "cell_type": "code",
   "execution_count": 32,
   "metadata": {
    "collapsed": true,
    "scrolled": true
   },
   "outputs": [],
   "source": [
    "#print(Fpl1)"
   ]
  },
  {
   "cell_type": "code",
   "execution_count": 33,
   "metadata": {
    "collapsed": true,
    "scrolled": true
   },
   "outputs": [],
   "source": [
    "#print(Fpl2)"
   ]
  },
  {
   "cell_type": "code",
   "execution_count": 34,
   "metadata": {
    "collapsed": true,
    "scrolled": true
   },
   "outputs": [],
   "source": [
    "#print(Fpl3)"
   ]
  },
  {
   "cell_type": "code",
   "execution_count": 35,
   "metadata": {
    "scrolled": true
   },
   "outputs": [
    {
     "name": "stdout",
     "output_type": "stream",
     "text": [
      "                       timestamp  packet_loss\n",
      "1.494729e+12 2017-05-14 02:31:39     0.001667\n",
      "1.494729e+12 2017-05-14 02:31:55     0.000000\n",
      "1.494729e+12 2017-05-14 02:32:39     0.000000\n",
      "1.494729e+12 2017-05-14 02:32:55     0.000000\n",
      "1.494729e+12 2017-05-14 02:33:39     0.000000\n",
      "1.494729e+12 2017-05-14 02:33:40     0.000000\n",
      "1.494729e+12 2017-05-14 02:33:55     0.000000\n",
      "1.494729e+12 2017-05-14 02:34:02     0.000000\n",
      "1.494729e+12 2017-05-14 02:34:39     0.000000\n",
      "1.494729e+12 2017-05-14 02:34:40     0.000000\n",
      "1.494729e+12 2017-05-14 02:35:00     0.000000\n",
      "1.494729e+12 2017-05-14 02:35:01     0.001667\n",
      "1.494729e+12 2017-05-14 02:35:02     0.000000\n",
      "1.494729e+12 2017-05-14 02:35:22     0.000000\n",
      "1.494729e+12 2017-05-14 02:35:39     0.000000\n",
      "1.494729e+12 2017-05-14 02:35:40     0.000000\n",
      "1.494729e+12 2017-05-14 02:36:02     0.000000\n",
      "1.494729e+12 2017-05-14 02:36:05     0.000000\n",
      "1.494729e+12 2017-05-14 02:36:06     0.000000\n",
      "1.494729e+12 2017-05-14 02:36:22     0.000000\n",
      "1.494729e+12 2017-05-14 02:36:39     0.000000\n",
      "1.494729e+12 2017-05-14 02:36:40     0.000000\n",
      "1.494729e+12 2017-05-14 02:37:05     0.000000\n",
      "1.494729e+12 2017-05-14 02:37:06     0.000000\n",
      "1.494729e+12 2017-05-14 02:37:07     0.000000\n",
      "1.494729e+12 2017-05-14 02:37:22     0.000000\n",
      "1.494729e+12 2017-05-14 02:37:39     0.000000\n",
      "1.494729e+12 2017-05-14 02:37:40     0.000000\n",
      "1.494729e+12 2017-05-14 02:38:05     0.000000\n",
      "1.494729e+12 2017-05-14 02:38:06     0.000000\n",
      "...                          ...          ...\n",
      "1.495238e+12 2017-05-19 23:55:48     0.000000\n",
      "1.495238e+12 2017-05-19 23:55:52     0.000000\n",
      "1.495238e+12 2017-05-19 23:55:55     0.000000\n",
      "1.495238e+12 2017-05-19 23:56:00     0.000000\n",
      "1.495238e+12 2017-05-19 23:56:26     0.000000\n",
      "1.495238e+12 2017-05-19 23:56:33     0.000000\n",
      "1.495238e+12 2017-05-19 23:56:40     0.000000\n",
      "1.495238e+12 2017-05-19 23:56:48     0.000000\n",
      "1.495238e+12 2017-05-19 23:56:52     0.000000\n",
      "1.495238e+12 2017-05-19 23:57:00     0.000000\n",
      "1.495238e+12 2017-05-19 23:57:01     0.000000\n",
      "1.495238e+12 2017-05-19 23:57:26     0.000000\n",
      "1.495238e+12 2017-05-19 23:57:33     0.000000\n",
      "1.495238e+12 2017-05-19 23:57:40     0.000000\n",
      "1.495238e+12 2017-05-19 23:57:48     0.000000\n",
      "1.495238e+12 2017-05-19 23:57:52     0.000000\n",
      "1.495238e+12 2017-05-19 23:58:01     0.000000\n",
      "1.495238e+12 2017-05-19 23:58:05     0.000000\n",
      "1.495238e+12 2017-05-19 23:58:26     0.000000\n",
      "1.495238e+12 2017-05-19 23:58:33     0.000000\n",
      "1.495238e+12 2017-05-19 23:58:40     0.000000\n",
      "1.495238e+12 2017-05-19 23:58:48     0.000000\n",
      "1.495238e+12 2017-05-19 23:58:52     0.000000\n",
      "1.495238e+12 2017-05-19 23:59:01     0.000000\n",
      "1.495238e+12 2017-05-19 23:59:05     0.000000\n",
      "1.495238e+12 2017-05-19 23:59:26     0.000000\n",
      "1.495238e+12 2017-05-19 23:59:33     0.000000\n",
      "1.495238e+12 2017-05-19 23:59:40     0.000000\n",
      "1.495238e+12 2017-05-19 23:59:48     0.000000\n",
      "1.495238e+12 2017-05-19 23:59:53     0.000000\n",
      "\n",
      "[57162 rows x 2 columns]\n"
     ]
    }
   ],
   "source": [
    "#Fpl1.set_index('timestamp').join(Fpl2.set_index('timestamp'))\n",
    "#merged = Fpl1.join(Fpl2,rsuffix='_y')\n",
    "#merged = Fpl1.join(Fpl2.set_index('packet_loss'), on='packet_loss')\n",
    "#merged = Fpl1.merge(Fpl2, left_index=True, right_index=True, how='inner')\n",
    "merged = pd.concat([Fpl1, Fpl2, Fpl3, Fpl4, Fpl5])\n",
    "result = merged.sort_values('timestamp')\n",
    "print(result)"
   ]
  },
  {
   "cell_type": "markdown",
   "metadata": {
    "collapsed": true
   },
   "source": [
    "### Boosted Decision Trees"
   ]
  },
  {
   "cell_type": "code",
   "execution_count": 36,
   "metadata": {
    "collapsed": true
   },
   "outputs": [],
   "source": [
    "start_time = time.clock()\n",
    "\n",
    "# predicted_flag_array = np.zeros((24*3600), dtype=np.int)\n",
    "# auc_score_array = np.zeros((24*3600), dtype=np.float)\n",
    "# score_holder_array = np.zeros(3600, dtype=np.float)\n",
    "# anomaly_array = np.ones(3600, dtype=np.int)\n",
    "# not_anomaly_array = np.zeros(3600, dtype=np.int)"
   ]
  },
  {
   "cell_type": "code",
   "execution_count": 37,
   "metadata": {
    "collapsed": true
   },
   "outputs": [],
   "source": [
    "n_series = 1\n",
    "start_date = '2017-05-13 00:00:00'\n",
    "end_date = '2017-05-20 23:59:59'\n",
    "\n",
    "window = 24"
   ]
  },
  {
   "cell_type": "code",
   "execution_count": 38,
   "metadata": {
    "collapsed": true
   },
   "outputs": [],
   "source": [
    "def check_for_anomaly(ref, sub):\n",
    "    \n",
    "    y_ref = pd.Series([0] * ref.shape[0])\n",
    "    X_ref = ref\n",
    "    del X_ref['auc_score']\n",
    "    \n",
    "    y_sub = pd.Series([1] * sub.shape[0])\n",
    "    X_sub=sub\n",
    "    del X_sub['auc_score']\n",
    "    \n",
    "    # separate Reference and Subject into Train and Test\n",
    "    X_ref_train, X_ref_test, y_ref_train, y_ref_test = train_test_split(X_ref, y_ref, test_size=0.3, random_state=50)\n",
    "    X_sub_train, X_sub_test, y_sub_train, y_sub_test = train_test_split(X_sub, y_sub, test_size=0.3, random_state=50)\n",
    "    \n",
    "    # combine training ref and sub samples\n",
    "    X_train = pd.concat([X_ref_train, X_sub_train])\n",
    "    y_train = pd.concat([y_ref_train, y_sub_train])\n",
    "\n",
    "    # combine testing ref and sub samples\n",
    "    X_test = pd.concat([X_ref_test, X_sub_test])\n",
    "    y_test = pd.concat([y_ref_test, y_sub_test])\n",
    "    \n",
    "    clf = AdaBoostClassifier(n_estimators=50)\n",
    "    \n",
    "    #train an AdaBoost model to be able to tell the difference between the reference and subject data\n",
    "    clf.fit(X_train, y_train) \n",
    "\n",
    "    #Predict using the combined test data\n",
    "    y_predict = clf.predict(X_test)\n",
    "    \n",
    "    # scores = cross_val_score(clf, X, y)\n",
    "    # print(scores)\n",
    "    \n",
    "    fpr, tpr, thresholds = roc_curve(y_test, y_predict) # calculate the false positive rate and true positive rate\n",
    "    auc_score = auc(fpr, tpr) #calculate the AUC score\n",
    "    print ( \"auc_score = \", auc_score, \"\\tfeature importances:\", clf.feature_importances_)\n",
    "    \n",
    "    if auc_score > 0.55: \n",
    "        plot_roc(fpr, tpr, auc_score)\n",
    "        #filename='tree_'+sub.index.min().strftime(\"%Y-%m-%d_%H\")\n",
    "        #tree.export_graphviz(clf.estimators_[0] , out_file=filename +'_1.dot') \n",
    "        #tree.export_graphviz(clf.estimators_[1] , out_file=filename +'_2.dot') \n",
    "        \n",
    "    return auc_score"
   ]
  },
  {
   "cell_type": "code",
   "execution_count": 39,
   "metadata": {
    "collapsed": true
   },
   "outputs": [],
   "source": [
    "def plot_roc(fpr,tpr, roc_auc):\n",
    "    plt.figure()\n",
    "    plt.plot(fpr, tpr, color='darkorange', label='ROC curve (area = %0.2f)' % roc_auc)\n",
    "    plt.plot([0, 1], [0, 1], color='navy', linestyle='--')\n",
    "    plt.xlim([0.0, 1.0])\n",
    "    plt.ylim([0.0, 1.05])\n",
    "    plt.plot([0, 1], [0, 1], linestyle='--', color='r',label='Luck', alpha=.8)\n",
    "    plt.xlabel('False Positive Rate')\n",
    "    plt.ylabel('True Positive Rate')\n",
    "    plt.title('Receiver operating characteristic')\n",
    "    plt.legend(loc=\"lower right\")\n",
    "    plt.show()"
   ]
  },
  {
   "cell_type": "code",
   "execution_count": 40,
   "metadata": {
    "scrolled": true
   },
   "outputs": [
    {
     "name": "stdout",
     "output_type": "stream",
     "text": [
      "2017-05-14 02:31:39\n",
      "2017-05-19 23:59:53\n",
      "                     packet_loss  auc_score\n",
      "timestamp                                  \n",
      "2017-05-14 02:31:39     0.001667        0.5\n",
      "2017-05-14 02:31:55     0.000000        0.5\n",
      "2017-05-14 02:32:39     0.000000        0.5\n",
      "2017-05-14 02:32:55     0.000000        0.5\n",
      "2017-05-14 02:33:39     0.000000        0.5\n",
      "2017-05-14 02:33:40     0.000000        0.5\n",
      "2017-05-14 02:33:55     0.000000        0.5\n",
      "2017-05-14 02:34:02     0.000000        0.5\n",
      "2017-05-14 02:34:39     0.000000        0.5\n",
      "2017-05-14 02:34:40     0.000000        0.5\n",
      "2017-05-14 02:35:00     0.000000        0.5\n",
      "2017-05-14 02:35:01     0.001667        0.5\n",
      "2017-05-14 02:35:02     0.000000        0.5\n",
      "2017-05-14 02:35:22     0.000000        0.5\n",
      "2017-05-14 02:35:39     0.000000        0.5\n",
      "2017-05-14 02:35:40     0.000000        0.5\n",
      "2017-05-14 02:36:02     0.000000        0.5\n",
      "2017-05-14 02:36:05     0.000000        0.5\n",
      "2017-05-14 02:36:06     0.000000        0.5\n",
      "2017-05-14 02:36:22     0.000000        0.5\n",
      "2017-05-14 02:36:39     0.000000        0.5\n",
      "2017-05-14 02:36:40     0.000000        0.5\n",
      "2017-05-14 02:37:05     0.000000        0.5\n",
      "2017-05-14 02:37:06     0.000000        0.5\n",
      "2017-05-14 02:37:07     0.000000        0.5\n",
      "2017-05-14 02:37:22     0.000000        0.5\n",
      "2017-05-14 02:37:39     0.000000        0.5\n",
      "2017-05-14 02:37:40     0.000000        0.5\n",
      "2017-05-14 02:38:05     0.000000        0.5\n",
      "2017-05-14 02:38:06     0.000000        0.5\n",
      "...                          ...        ...\n",
      "2017-05-19 23:55:48     0.000000        0.5\n",
      "2017-05-19 23:55:52     0.000000        0.5\n",
      "2017-05-19 23:55:55     0.000000        0.5\n",
      "2017-05-19 23:56:00     0.000000        0.5\n",
      "2017-05-19 23:56:26     0.000000        0.5\n",
      "2017-05-19 23:56:33     0.000000        0.5\n",
      "2017-05-19 23:56:40     0.000000        0.5\n",
      "2017-05-19 23:56:48     0.000000        0.5\n",
      "2017-05-19 23:56:52     0.000000        0.5\n",
      "2017-05-19 23:57:00     0.000000        0.5\n",
      "2017-05-19 23:57:01     0.000000        0.5\n",
      "2017-05-19 23:57:26     0.000000        0.5\n",
      "2017-05-19 23:57:33     0.000000        0.5\n",
      "2017-05-19 23:57:40     0.000000        0.5\n",
      "2017-05-19 23:57:48     0.000000        0.5\n",
      "2017-05-19 23:57:52     0.000000        0.5\n",
      "2017-05-19 23:58:01     0.000000        0.5\n",
      "2017-05-19 23:58:05     0.000000        0.5\n",
      "2017-05-19 23:58:26     0.000000        0.5\n",
      "2017-05-19 23:58:33     0.000000        0.5\n",
      "2017-05-19 23:58:40     0.000000        0.5\n",
      "2017-05-19 23:58:48     0.000000        0.5\n",
      "2017-05-19 23:58:52     0.000000        0.5\n",
      "2017-05-19 23:59:01     0.000000        0.5\n",
      "2017-05-19 23:59:05     0.000000        0.5\n",
      "2017-05-19 23:59:26     0.000000        0.5\n",
      "2017-05-19 23:59:33     0.000000        0.5\n",
      "2017-05-19 23:59:40     0.000000        0.5\n",
      "2017-05-19 23:59:48     0.000000        0.5\n",
      "2017-05-19 23:59:53     0.000000        0.5\n",
      "\n",
      "[57162 rows x 2 columns]\n"
     ]
    }
   ],
   "source": [
    "start_date = result['timestamp'].min()\n",
    "print(start_date)\n",
    "end_date = result['timestamp'].max()\n",
    "print(end_date)\n",
    "\n",
    "#print(Fpl.index/1000 - 1502668800.0)\n",
    "\n",
    "result2 = result.set_index('timestamp')\n",
    "result2['auc_score']=0.5\n",
    "print(result2)"
   ]
  },
  {
   "cell_type": "code",
   "execution_count": 41,
   "metadata": {},
   "outputs": [
    {
     "name": "stdout",
     "output_type": "stream",
     "text": [
      "DatetimeIndex(['2017-05-14 02:31:39', '2017-05-14 02:31:55',\n",
      "               '2017-05-14 02:32:39', '2017-05-14 02:32:55',\n",
      "               '2017-05-14 02:33:39', '2017-05-14 02:33:40',\n",
      "               '2017-05-14 02:33:55', '2017-05-14 02:34:02',\n",
      "               '2017-05-14 02:34:39', '2017-05-14 02:34:40',\n",
      "               ...\n",
      "               '2017-05-19 23:58:40', '2017-05-19 23:58:48',\n",
      "               '2017-05-19 23:58:52', '2017-05-19 23:59:01',\n",
      "               '2017-05-19 23:59:05', '2017-05-19 23:59:26',\n",
      "               '2017-05-19 23:59:33', '2017-05-19 23:59:40',\n",
      "               '2017-05-19 23:59:48', '2017-05-19 23:59:53'],\n",
      "              dtype='datetime64[ns]', name='timestamp', length=57162, freq=None)\n"
     ]
    }
   ],
   "source": [
    "print(result2.index)"
   ]
  },
  {
   "cell_type": "code",
   "execution_count": 42,
   "metadata": {
    "scrolled": true
   },
   "outputs": [
    {
     "name": "stdout",
     "output_type": "stream",
     "text": [
      "timestamp =  2017-05-15 02:31:39\n",
      "auc_score =  0.5 \tfeature importances: [ 1.]\n",
      "timestamp =  2017-05-15 03:31:39\n",
      "auc_score =  0.5 \tfeature importances: [ 0.08]\n",
      "timestamp =  2017-05-15 04:31:39\n",
      "auc_score =  0.5 \tfeature importances: [ 1.]\n",
      "timestamp =  2017-05-15 05:31:39\n",
      "auc_score =  0.5 \tfeature importances: [ 1.]\n",
      "timestamp =  2017-05-15 06:31:39\n",
      "auc_score =  0.5 \tfeature importances: [ 0.08]\n",
      "timestamp =  2017-05-15 07:31:39\n",
      "auc_score =  0.5 \tfeature importances: [ 0.98]\n",
      "timestamp =  2017-05-15 08:31:39\n",
      "auc_score =  0.5 \tfeature importances: [ 1.]\n",
      "timestamp =  2017-05-15 09:31:39\n",
      "auc_score =  0.5 \tfeature importances: [ 1.]\n",
      "timestamp =  2017-05-15 10:31:39\n",
      "auc_score =  0.503617444529 \tfeature importances: [ 0.94]\n",
      "timestamp =  2017-05-15 11:31:39\n",
      "auc_score =  0.515873015873 \tfeature importances: [ 1.]\n",
      "timestamp =  2017-05-15 12:31:39\n",
      "auc_score =  0.5 \tfeature importances: [ 0.98]\n",
      "timestamp =  2017-05-15 13:31:39\n",
      "auc_score =  0.5 \tfeature importances: [ 0.1]\n",
      "timestamp =  2017-05-15 14:31:39\n",
      "auc_score =  0.5 \tfeature importances: [ 1.]\n",
      "timestamp =  2017-05-15 15:31:39\n",
      "auc_score =  0.5 \tfeature importances: [ 0.94]\n",
      "timestamp =  2017-05-15 16:31:39\n",
      "auc_score =  0.5 \tfeature importances: [ 0.42]\n",
      "timestamp =  2017-05-15 17:31:39\n",
      "auc_score =  0.5 \tfeature importances: [ 0.76]\n",
      "timestamp =  2017-05-15 18:31:39\n",
      "auc_score =  0.5 \tfeature importances: [ 0.1]\n",
      "timestamp =  2017-05-15 19:31:39\n",
      "auc_score =  0.5 \tfeature importances: [ 0.48]\n",
      "timestamp =  2017-05-15 20:31:39\n",
      "auc_score =  0.5 \tfeature importances: [ 0.98]\n",
      "timestamp =  2017-05-15 21:31:39\n",
      "auc_score =  0.5 \tfeature importances: [ 0.98]\n",
      "timestamp =  2017-05-15 22:31:39\n",
      "auc_score =  0.5 \tfeature importances: [ 0.1]\n",
      "timestamp =  2017-05-15 23:31:39\n",
      "auc_score =  0.5 \tfeature importances: [ 0.08]\n",
      "timestamp =  2017-05-16 00:31:39\n",
      "auc_score =  0.5 \tfeature importances: [ 1.]\n",
      "timestamp =  2017-05-16 01:31:39\n",
      "auc_score =  0.5 \tfeature importances: [ 0.98]\n",
      "timestamp =  2017-05-16 02:31:39\n",
      "auc_score =  0.5 \tfeature importances: [ 0.1]\n",
      "timestamp =  2017-05-16 03:31:39\n",
      "auc_score =  0.5 \tfeature importances: [ 0.08]\n",
      "timestamp =  2017-05-16 04:31:39\n",
      "auc_score =  0.5 \tfeature importances: [ 0.98]\n",
      "timestamp =  2017-05-16 05:31:39\n",
      "auc_score =  0.5 \tfeature importances: [ 0.98]\n",
      "timestamp =  2017-05-16 06:31:39\n",
      "auc_score =  0.5 \tfeature importances: [ 0.04]\n",
      "timestamp =  2017-05-16 07:31:39\n",
      "auc_score =  0.5 \tfeature importances: [ 0.1]\n",
      "timestamp =  2017-05-16 08:31:39\n",
      "auc_score =  0.5 \tfeature importances: [ 0.04]\n",
      "timestamp =  2017-05-16 09:31:39\n",
      "auc_score =  0.5 \tfeature importances: [ 0.1]\n",
      "timestamp =  2017-05-16 10:31:39\n",
      "auc_score =  0.5 \tfeature importances: [ 0.08]\n",
      "timestamp =  2017-05-16 11:31:39\n",
      "auc_score =  0.5 \tfeature importances: [ 0.94]\n",
      "timestamp =  2017-05-16 12:31:39\n",
      "auc_score =  0.5 \tfeature importances: [ 1.]\n",
      "timestamp =  2017-05-16 13:31:39\n",
      "auc_score =  0.5 \tfeature importances: [ 0.08]\n",
      "timestamp =  2017-05-16 14:31:39\n",
      "auc_score =  0.503968253968 \tfeature importances: [ 0.6]\n",
      "timestamp =  2017-05-16 15:31:39\n",
      "auc_score =  0.5 \tfeature importances: [ 0.08]\n",
      "timestamp =  2017-05-16 16:31:39\n",
      "auc_score =  0.5 \tfeature importances: [ 0.06]\n",
      "timestamp =  2017-05-16 17:31:39\n",
      "auc_score =  0.5 \tfeature importances: [ 1.]\n",
      "timestamp =  2017-05-16 18:31:39\n",
      "auc_score =  0.5 \tfeature importances: [ 1.]\n",
      "timestamp =  2017-05-16 19:31:39\n",
      "auc_score =  0.5 \tfeature importances: [ 0.44]\n",
      "timestamp =  2017-05-16 20:31:39\n",
      "auc_score =  0.543650793651 \tfeature importances: [ 1.]\n",
      "timestamp =  2017-05-16 21:31:39\n",
      "auc_score =  0.565964804001 \tfeature importances: [ 1.]\n"
     ]
    },
    {
     "data": {
      "image/png": "[encoded data removed]",
      "text/plain": [
       "<matplotlib.figure.Figure at 0x7f1dc2e06710>"
      ]
     },
     "metadata": {},
     "output_type": "display_data"
    },
    {
     "name": "stdout",
     "output_type": "stream",
     "text": [
      "timestamp =  2017-05-16 22:31:39\n",
      "auc_score =  0.5 \tfeature importances: [ 1.]\n",
      "timestamp =  2017-05-16 23:31:39\n",
      "auc_score =  0.5 \tfeature importances: [ 1.]\n",
      "timestamp =  2017-05-17 00:31:39\n",
      "auc_score =  0.5 \tfeature importances: [ 0.06]\n",
      "timestamp =  2017-05-17 01:31:39\n",
      "auc_score =  0.5 \tfeature importances: [ 0.04]\n",
      "timestamp =  2017-05-17 02:31:39\n",
      "auc_score =  0.5 \tfeature importances: [ 0.32]\n",
      "timestamp =  2017-05-17 03:31:39\n",
      "auc_score =  0.5 \tfeature importances: [ 0.08]\n",
      "timestamp =  2017-05-17 04:31:39\n",
      "auc_score =  0.503833610649 \tfeature importances: [ 1.]\n",
      "timestamp =  2017-05-17 05:31:39\n",
      "auc_score =  0.5 \tfeature importances: [ 1.]\n",
      "timestamp =  2017-05-17 06:31:39\n",
      "auc_score =  0.5 \tfeature importances: [ 0.06]\n",
      "timestamp =  2017-05-17 07:31:39\n",
      "auc_score =  0.49983355526 \tfeature importances: [ 0.82]\n",
      "timestamp =  2017-05-17 08:31:39\n",
      "auc_score =  0.5 \tfeature importances: [ 0.88]\n",
      "timestamp =  2017-05-17 09:31:39\n",
      "auc_score =  0.5 \tfeature importances: [ 0.52]\n",
      "timestamp =  2017-05-17 10:31:39\n",
      "auc_score =  0.5 \tfeature importances: [ 1.]\n",
      "timestamp =  2017-05-17 11:31:39\n",
      "auc_score =  0.5 \tfeature importances: [ 0.26]\n",
      "timestamp =  2017-05-17 12:31:39\n",
      "auc_score =  0.5 \tfeature importances: [ 0.98]\n",
      "timestamp =  2017-05-17 13:31:39\n",
      "auc_score =  0.5 \tfeature importances: [ 1.]\n",
      "timestamp =  2017-05-17 14:31:39\n",
      "auc_score =  0.5 \tfeature importances: [ 0.06]\n",
      "timestamp =  2017-05-17 15:31:39\n",
      "auc_score =  0.5 \tfeature importances: [ 1.]\n",
      "timestamp =  2017-05-17 16:31:39\n",
      "auc_score =  0.5 \tfeature importances: [ 0.3]\n",
      "timestamp =  2017-05-17 17:31:39\n",
      "auc_score =  0.5 \tfeature importances: [ 0.98]\n",
      "timestamp =  2017-05-17 18:31:39\n",
      "auc_score =  0.5 \tfeature importances: [ 0.8]\n",
      "timestamp =  2017-05-17 19:31:39\n",
      "auc_score =  0.5 \tfeature importances: [ 0.1]\n",
      "timestamp =  2017-05-17 20:31:39\n",
      "auc_score =  0.5 \tfeature importances: [ 0.08]\n",
      "timestamp =  2017-05-17 21:31:39\n",
      "auc_score =  0.5 \tfeature importances: [ 0.06]\n",
      "timestamp =  2017-05-17 22:31:39\n",
      "auc_score =  0.5 \tfeature importances: [ 1.]\n",
      "timestamp =  2017-05-17 23:31:39\n",
      "auc_score =  0.5 \tfeature importances: [ 0.4]\n",
      "timestamp =  2017-05-18 00:31:39\n",
      "auc_score =  0.5 \tfeature importances: [ 1.]\n",
      "timestamp =  2017-05-18 01:31:39\n",
      "auc_score =  0.5 \tfeature importances: [ 1.]\n",
      "timestamp =  2017-05-18 02:31:39\n",
      "auc_score =  0.5 \tfeature importances: [ 0.94]\n",
      "timestamp =  2017-05-18 03:31:39\n",
      "auc_score =  0.5 \tfeature importances: [ 0.92]\n",
      "timestamp =  2017-05-18 04:31:39\n",
      "auc_score =  0.5 \tfeature importances: [ 1.]\n",
      "timestamp =  2017-05-18 05:31:39\n",
      "auc_score =  0.504032258065 \tfeature importances: [ 1.]\n",
      "timestamp =  2017-05-18 06:31:39\n",
      "auc_score =  0.5 \tfeature importances: [ 0.12]\n",
      "timestamp =  2017-05-18 07:31:39\n",
      "auc_score =  0.5 \tfeature importances: [ 0.24]\n",
      "timestamp =  2017-05-18 08:31:39\n",
      "auc_score =  0.5 \tfeature importances: [ 0.42]\n",
      "timestamp =  2017-05-18 09:31:39\n",
      "auc_score =  0.5 \tfeature importances: [ 0.96]\n",
      "timestamp =  2017-05-18 10:31:39\n",
      "auc_score =  0.5 \tfeature importances: [ 0.88]\n",
      "timestamp =  2017-05-18 11:31:39\n",
      "auc_score =  0.5 \tfeature importances: [ 0.28]\n",
      "timestamp =  2017-05-18 12:31:39\n",
      "auc_score =  0.5 \tfeature importances: [ 1.]\n",
      "timestamp =  2017-05-18 13:31:39\n",
      "auc_score =  0.5 \tfeature importances: [ 1.]\n",
      "timestamp =  2017-05-18 14:31:39\n",
      "auc_score =  0.5 \tfeature importances: [ 1.]\n",
      "timestamp =  2017-05-18 15:31:39\n",
      "auc_score =  0.5 \tfeature importances: [ 1.]\n",
      "timestamp =  2017-05-18 16:31:39\n",
      "auc_score =  0.5 \tfeature importances: [ 1.]\n",
      "timestamp =  2017-05-18 17:31:39\n",
      "auc_score =  0.5 \tfeature importances: [ 1.]\n",
      "timestamp =  2017-05-18 18:31:39\n",
      "auc_score =  0.5 \tfeature importances: [ 1.]\n",
      "timestamp =  2017-05-18 19:31:39\n",
      "auc_score =  0.5 \tfeature importances: [ 1.]\n",
      "timestamp =  2017-05-18 20:31:39\n",
      "auc_score =  0.5 \tfeature importances: [ 1.]\n",
      "timestamp =  2017-05-18 21:31:39\n",
      "auc_score =  0.5 \tfeature importances: [ 1.]\n",
      "timestamp =  2017-05-18 22:31:39\n",
      "auc_score =  0.5 \tfeature importances: [ 1.]\n",
      "timestamp =  2017-05-18 23:31:39\n",
      "auc_score =  0.5 \tfeature importances: [ 1.]\n",
      "timestamp =  2017-05-19 00:31:39\n",
      "auc_score =  0.499497823904 \tfeature importances: [ 1.]\n",
      "timestamp =  2017-05-19 01:31:39\n",
      "auc_score =  0.5 \tfeature importances: [ 1.]\n",
      "timestamp =  2017-05-19 02:31:39\n",
      "auc_score =  0.5 \tfeature importances: [ 1.]\n",
      "timestamp =  2017-05-19 03:31:39\n",
      "auc_score =  0.5 \tfeature importances: [ 1.]\n",
      "timestamp =  2017-05-19 04:31:39\n",
      "auc_score =  0.5 \tfeature importances: [ 1.]\n",
      "timestamp =  2017-05-19 05:31:39\n",
      "auc_score =  0.5 \tfeature importances: [ 1.]\n",
      "timestamp =  2017-05-19 06:31:39\n",
      "auc_score =  0.5 \tfeature importances: [ 1.]\n",
      "timestamp =  2017-05-19 07:31:39\n",
      "auc_score =  0.5 \tfeature importances: [ 1.]\n",
      "timestamp =  2017-05-19 08:31:39\n",
      "auc_score =  0.5 \tfeature importances: [ 1.]\n",
      "timestamp =  2017-05-19 09:31:39\n",
      "auc_score =  0.5 \tfeature importances: [ 1.]\n",
      "timestamp =  2017-05-19 10:31:39\n",
      "auc_score =  0.5 \tfeature importances: [ 1.]\n",
      "timestamp =  2017-05-19 11:31:39\n",
      "auc_score =  0.5 \tfeature importances: [ 1.]\n",
      "timestamp =  2017-05-19 12:31:39\n",
      "auc_score =  0.5 \tfeature importances: [ 1.]\n",
      "timestamp =  2017-05-19 13:31:39\n",
      "auc_score =  0.5 \tfeature importances: [ 1.]\n",
      "timestamp =  2017-05-19 14:31:39\n",
      "auc_score =  0.5 \tfeature importances: [ 1.]\n",
      "timestamp =  2017-05-19 15:31:39\n",
      "auc_score =  0.5 \tfeature importances: [ 1.]\n",
      "timestamp =  2017-05-19 16:31:39\n",
      "auc_score =  0.5 \tfeature importances: [ 1.]\n",
      "timestamp =  2017-05-19 17:31:39\n",
      "auc_score =  0.5 \tfeature importances: [ 0.98]\n",
      "timestamp =  2017-05-19 18:31:39\n",
      "auc_score =  0.5 \tfeature importances: [ 1.]\n",
      "timestamp =  2017-05-19 19:31:39\n",
      "auc_score =  0.5 \tfeature importances: [ 0.76]\n",
      "timestamp =  2017-05-19 20:31:39\n",
      "auc_score =  0.5 \tfeature importances: [ 1.]\n",
      "timestamp =  2017-05-19 21:31:39\n",
      "auc_score =  0.5 \tfeature importances: [ 0.42]\n",
      "timestamp =  2017-05-19 22:31:39\n",
      "auc_score =  0.5 \tfeature importances: [ 0.36]\n"
     ]
    }
   ],
   "source": [
    "#find min and max timestamps\n",
    "\n",
    "start = result2.index.min()\n",
    "end = result2.index.max()\n",
    "\n",
    "#round start \n",
    "start.seconds=0\n",
    "start.minutes=0\n",
    "\n",
    "ref = window * Hour()\n",
    "sub = 1 * Hour()\n",
    "\n",
    "# loop over them\n",
    "ti=start+ref+sub\n",
    "count=0\n",
    "while ti < end + 1 * Minute():\n",
    "    ref_start = ti-ref-sub\n",
    "    ref_end = ti-sub\n",
    "    ref_df = result2[(result2.index >= ref_start) & (result2.index < ref_end)]\n",
    "    #print('ref_df = ', ref_df)\n",
    "    #print(\"In while loop: ref_df: \", ref_df)\n",
    "    sub_df = result2[(result2.index >= ref_end) & (result2.index < ti)]\n",
    "    #print('sub_df = ', sub_df)\n",
    "    #print(\"In while loop: sub_df: \", sub_df)\n",
    "    \n",
    "    ref_count = ref_df.shape[0]\n",
    "    sub_count = sub_df.shape[0] \n",
    "    if ref_count < 10 or sub_count < 3:\n",
    "        auc_score == 0.5\n",
    "        ti = ti + sub\n",
    "        count=count+1\n",
    "        continue\n",
    "    \n",
    "    print(\"timestamp = \", ref_end)\n",
    "    auc_score = check_for_anomaly(ref_df, sub_df)\n",
    "    result2.loc[(result2.index>=ref_end) & (result2.index<=ti),['auc_score']] = auc_score\n",
    "    #print(ti,\"\\trefes:\" , ref_df.shape[0], \"\\tsubjects:\", sub_df.shape[0], '\\tauc:', auc_score)\n",
    "    ti = ti + sub\n",
    "    count=count+1\n",
    "    \n"
   ]
  },
  {
   "cell_type": "code",
   "execution_count": 43,
   "metadata": {},
   "outputs": [
    {
     "data": {
      "text/plain": [
       "<matplotlib.axes._subplots.AxesSubplot at 0x7f1dc5630160>"
      ]
     },
     "execution_count": 43,
     "metadata": {},
     "output_type": "execute_result"
    },
    {
     "data": {
      "image/png": "[encoded data removed]",
      "text/plain": [
       "<matplotlib.figure.Figure at 0x7f1dc55e7518>"
      ]
     },
     "metadata": {},
     "output_type": "display_data"
    }
   ],
   "source": [
    "result2.plot(figsize=(20,7))\n"
   ]
  },
  {
   "cell_type": "code",
   "execution_count": 44,
   "metadata": {},
   "outputs": [
    {
     "data": {
      "image/png": "[encoded data removed]",
      "text/plain": [
       "<matplotlib.figure.Figure at 0x7f1dc2d6e2b0>"
      ]
     },
     "metadata": {},
     "output_type": "display_data"
    }
   ],
   "source": [
    "fig, ax = plt.subplots(figsize=(20,7))\n",
    "result2.loc[:,'Detected'] = 0\n",
    "result2.loc[result2.auc_score>0.55,'Detected']=1\n",
    "result2.head()\n",
    "\n",
    "ax.plot(result2.auc_score,'g')\n",
    "ax.fill(result2.Detected, 'b', alpha=0.3)\n",
    "\n",
    "ax.plot(result.timestamp.tolist(), np.sqrt(result.packet_loss).tolist(), ls='', marker='.', c='r', label=sS1+'-> 5 different sites')\n",
    "ax.set_xlabel('time')\n",
    "ax.set_ylabel('sqrt(packet loss) [%]')\n",
    "ax.legend()\n",
    "\n",
    "plt.show()"
   ]
  },
  {
   "cell_type": "code",
   "execution_count": 45,
   "metadata": {
    "scrolled": true
   },
   "outputs": [
    {
     "name": "stdout",
     "output_type": "stream",
     "text": [
      "                     avg_packet_loss\n",
      "timestamp                           \n",
      "2017-05-14 02:31:39         0.011547\n",
      "2017-05-14 03:31:39         0.013456\n",
      "2017-05-14 04:31:39         0.013561\n",
      "2017-05-14 05:31:39         0.011587\n",
      "2017-05-14 06:31:39         0.013106\n",
      "2017-05-14 07:31:39         0.012546\n",
      "2017-05-14 08:31:39         0.012747\n",
      "2017-05-14 09:31:39         0.015062\n",
      "2017-05-14 10:31:39         0.011587\n",
      "2017-05-14 11:31:39         0.004811\n",
      "2017-05-14 12:31:39         0.061700\n",
      "2017-05-14 13:31:39         0.005709\n",
      "2017-05-14 14:31:39         0.006094\n",
      "2017-05-14 15:31:39         0.007464\n",
      "2017-05-14 16:31:39         0.006823\n",
      "2017-05-14 17:31:39         0.004811\n",
      "2017-05-14 18:31:39         0.004303\n",
      "2017-05-14 19:31:39         0.004811\n",
      "2017-05-14 20:31:39         0.003043\n",
      "2017-05-14 21:31:39         0.003043\n",
      "2017-05-14 22:31:39         0.003077\n",
      "2017-05-14 23:31:39         0.002155\n",
      "2017-05-15 00:31:39         0.003727\n",
      "2017-05-15 01:31:39         0.002143\n",
      "2017-05-15 02:31:39         0.002140\n",
      "2017-05-15 03:31:39         0.002155\n",
      "2017-05-15 04:31:39         0.003737\n",
      "2017-05-15 05:31:39         0.003727\n",
      "2017-05-15 06:31:39         0.003722\n",
      "2017-05-15 07:31:39         0.004303\n",
      "...                              ...\n",
      "2017-05-18 18:31:39         0.007454\n",
      "2017-05-18 19:31:39         0.011952\n",
      "2017-05-18 20:31:39         0.009270\n",
      "2017-05-18 21:31:39         0.011799\n",
      "2017-05-18 22:31:39         0.017807\n",
      "2017-05-18 23:31:39         0.023716\n",
      "2017-05-19 00:31:39         0.022973\n",
      "2017-05-19 01:31:39         0.013935\n",
      "2017-05-19 02:31:39         0.013967\n",
      "2017-05-19 03:31:39         0.009984\n",
      "2017-05-19 04:31:39         0.010020\n",
      "2017-05-19 05:31:39         0.008213\n",
      "2017-05-19 06:31:39         0.009759\n",
      "2017-05-19 07:31:39         0.011967\n",
      "2017-05-19 08:31:39         0.009576\n",
      "2017-05-19 09:31:39         0.010541\n",
      "2017-05-19 10:31:39         0.008683\n",
      "2017-05-19 11:31:39         0.007182\n",
      "2017-05-19 12:31:39         0.008462\n",
      "2017-05-19 13:31:39         0.006909\n",
      "2017-05-19 14:31:39         0.008472\n",
      "2017-05-19 15:31:39         0.010413\n",
      "2017-05-19 16:31:39         0.010553\n",
      "2017-05-19 17:31:39         0.011799\n",
      "2017-05-19 18:31:39         0.008693\n",
      "2017-05-19 19:31:39         0.015171\n",
      "2017-05-19 20:31:39         0.013527\n",
      "2017-05-19 21:31:39         0.011967\n",
      "2017-05-19 22:31:39         0.012530\n",
      "2017-05-19 23:31:39         0.010050\n",
      "\n",
      "[142 rows x 1 columns]\n"
     ]
    }
   ],
   "source": [
    "result2_avg_pkt_holder = result2.packet_loss\n",
    "#holds all the auc scores\n",
    "\n",
    "timestamp_np = np.array([])\n",
    "pkt_score_np = np.array([])\n",
    "\n",
    "start = result2.index.min()\n",
    "end = result2.index.max()\n",
    "\n",
    "#round start \n",
    "start.seconds=0\n",
    "start.minutes=0\n",
    "\n",
    "ref = window * Hour()\n",
    "sub = 1 * Hour()\n",
    "\n",
    "# loop over them\n",
    "ti=start\n",
    "count=0\n",
    "while ti < end + 1 * Minute():\n",
    "#while start < end:\n",
    "    ref_start = ti\n",
    "    ref_end = ti+sub\n",
    "    \n",
    "    \n",
    "    timestamp_np = np.append(timestamp_np, ref_start)\n",
    "    #create a dataframe that stores the starting time of the each hour\n",
    "    \n",
    "    result2_avg_pkt = math.sqrt(result2_avg_pkt_holder[ref_start:ref_end].mean())\n",
    "    #average packet loss score for every hour    \n",
    "    \n",
    "    pkt_score_np = np.append(pkt_score_np, result2_avg_pkt)\n",
    "    \n",
    "    #start = start + sub\n",
    "    \n",
    "    ti = ti + sub\n",
    "    #count=count+1\n",
    "    #if count>2: break\n",
    "\n",
    "timestamp1_df = pd.DataFrame(timestamp_np[:], columns=['timestamp'])\n",
    "pkt_score1_df = pd.DataFrame(pkt_score_np[:], columns=['avg_packet_loss'])\n",
    "\n",
    "pkt_avg_df1 = pd.concat([timestamp1_df, pkt_score1_df], axis=1)\n",
    "\n",
    "pkt_avg_df2 = pkt_avg_df1.set_index('timestamp')\n",
    "\n",
    "print(pkt_avg_df2)\n"
   ]
  },
  {
   "cell_type": "code",
   "execution_count": 54,
   "metadata": {},
   "outputs": [
    {
     "data": {
      "image/png": "[encoded data removed]",
      "text/plain": [
       "<matplotlib.figure.Figure at 0x7f1dc29e9ba8>"
      ]
     },
     "metadata": {},
     "output_type": "display_data"
    }
   ],
   "source": [
    "fig, ax = plt.subplots(figsize=(20,7))\n",
    "#pkt_avg_df2.plot(figsize=(20,7))\n",
    "ax.plot(timestamp1_df, pkt_avg_df2, label='Avg Packet Loss: '+sS1+'-> 5 different sites')\n",
    "ax.set_xlabel('time')\n",
    "ax.set_ylabel('sqrt(packet loss) [%]')\n",
    "ax.legend()\n",
    "\n",
    "plt.show()"
   ]
  },
  {
   "cell_type": "code",
   "execution_count": 55,
   "metadata": {},
   "outputs": [
    {
     "data": {
      "image/png": "[encoded data removed]",
      "text/plain": [
       "<matplotlib.figure.Figure at 0x7f1dc2a01668>"
      ]
     },
     "metadata": {},
     "output_type": "display_data"
    }
   ],
   "source": [
    "fig, ax = plt.subplots(figsize=(20,7))\n",
    "result2.loc[:,'Detected'] = 0\n",
    "result2.loc[result2.auc_score>0.55,'Detected']=1\n",
    "result2.head()\n",
    "\n",
    "ax.plot(result2.auc_score,'g')\n",
    "ax.fill(result2.Detected, 'b', alpha=0.3)\n",
    "\n",
    "ax.plot(timestamp1_df, pkt_avg_df2, label=sS1+'-> 5 different sites')\n",
    "ax.set_xlabel('time')\n",
    "ax.set_ylabel('sqrt(packet loss) [%]')\n",
    "ax.legend()\n",
    "\n",
    "plt.show()"
   ]
  },
  {
   "cell_type": "code",
   "execution_count": null,
   "metadata": {
    "collapsed": true
   },
   "outputs": [],
   "source": []
  }
 ],
 "metadata": {
  "kernelspec": {
   "display_name": "Python3.4 GPU ML",
   "language": "python",
   "name": "sys_kernel_py3.4_gpu"
  },
  "language_info": {
   "codemirror_mode": {
    "name": "ipython",
    "version": 3
   },
   "file_extension": ".py",
   "mimetype": "text/x-python",
   "name": "python",
   "nbconvert_exporter": "python",
   "pygments_lexer": "ipython3",
   "version": "3.4.5"
  }
 },
 "nbformat": 4,
 "nbformat_minor": 1
}
