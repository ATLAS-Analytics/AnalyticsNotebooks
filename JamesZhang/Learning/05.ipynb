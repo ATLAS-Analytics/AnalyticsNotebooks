{
 "cells": [
  {
   "cell_type": "code",
   "execution_count": 109,
   "metadata": {
    "collapsed": false
   },
   "outputs": [
    {
     "ename": "SyntaxError",
     "evalue": "invalid syntax (<ipython-input-109-68b037624f1c>, line 32)",
     "output_type": "error",
     "traceback": [
      "\u001b[1;36m  File \u001b[1;32m\"<ipython-input-109-68b037624f1c>\"\u001b[1;36m, line \u001b[1;32m32\u001b[0m\n\u001b[1;33m    assert r1 = ([ (0.0, 1.0), (4.0, 6.0) ]) == None\u001b[0m\n\u001b[1;37m              ^\u001b[0m\n\u001b[1;31mSyntaxError\u001b[0m\u001b[1;31m:\u001b[0m invalid syntax\n"
     ]
    }
   ],
   "source": [
    "'''\n",
    "import numpy\n",
    "\n",
    "numbers = [1.5, 2.3, 0.7, -0.001, 4.4]\n",
    "total = 0.0\n",
    "for n in numbers:\n",
    "    assert n >= 0.0, 'Data should only contain positive values'\n",
    "    total += n\n",
    "print 'total is:', total\n",
    "'''\n",
    "'''\n",
    "def average(list):\n",
    "#   takes the average of a list\n",
    "    a = 0\n",
    "    for n in list:\n",
    "        a = a + n\n",
    "    l = len(list)\n",
    "    assert len(list) > 0, 'list should have at least one item'\n",
    "    avg = float(a)/l\n",
    "    return avg\n",
    "print average([3, 6, 1, 4, 10])\n",
    "'''\n",
    "'''\n",
    "def test_range_overlap():\n",
    "    assert range_overlap([ (0.0, 1.0), (5.0, 6.0) ]) == None\n",
    "    assert range_overlap([ (0.0, 1.0), (1.0, 2.0) ]) == None\n",
    "    assert range_overlap([ (0.0, 1.0) ]) == (0.0, 1.0)\n",
    "    assert range_overlap([ (2.0, 3.0), (2.0, 4.0) ]) == (2.0, 3.0)\n",
    "    assert range_overlap([ (0.0, 1.0), (0.0, 2.0), (-1.0, 1.0) ]) == (0.0, 1.0)\n",
    "'''\n",
    "def check():\n",
    "    assert r1 = ([ (0.0, 1.0), (4.0, 6.0) ]) == None\n",
    "    assert r2 = ([ (0.0, 1.0), (1.0, 2.0) ]) == None\n",
    "    assert r3 = ([ (0.0, 1.0) ]) == None\n",
    "    assert r4 = ([ (2.0, 3.0), (2.0, 4.0) ]) == (2.0, 3.0)\n",
    "    assert r5 = ([ (0.0, 1.0), (0.0, 2.0), (-1.0, 1.0) ]) == (0.0, 1.0)\n",
    "    assert r6 = ([ (3.0, 5.0), (2.0, 6.0)]) == (3.0, 5.0)\n",
    "    assert r7 = ([ (2.0, 6.0),(3.0, 5.0)]) == (3.0, 5.0)\n",
    "\n",
    "def range_overlap(ranges):\n",
    "    '''Return common overlap among a set of [low, high] ranges.'''\n",
    "    range1 = ranges[0]\n",
    "    range2 = ranges[1]  \n",
    "#    for ([lowest, highest]) in ranges:\n",
    "    lower = max(range1)\n",
    "    lower1 = min(range1)\n",
    "    higher = min(range2)\n",
    "    higher1 = max(range2)\n",
    "    if (lower <= higher) or (lower1 >= higher1):\n",
    "        print 'There is no common overlap.'\n",
    "    elif ((lower1 >= higher) and (lower <= higher1)):\n",
    "        print (lower1, lower)\n",
    "    elif ((higher >= lower1) and (higher1 <= lower)):\n",
    "        print (higher, higher1)\n",
    "    else:\n",
    "        print (higher, lower)\n",
    "\n",
    "#        print r1[1]\n",
    "#        print len(r1)\n",
    "#        print high-low\n",
    "#        print low\n",
    "#        print high\n",
    "#        print high\n",
    "\n",
    "\n",
    "check()\n"
   ]
  }
 ],
 "metadata": {
  "kernelspec": {
   "display_name": "Python (ipykernel_py2)",
   "language": "python",
   "name": "ipykernel_py2"
  },
  "language_info": {
   "codemirror_mode": {
    "name": "ipython",
    "version": 2
   },
   "file_extension": ".py",
   "mimetype": "text/x-python",
   "name": "python",
   "nbconvert_exporter": "python",
   "pygments_lexer": "ipython2",
   "version": "2.7.11"
  }
 },
 "nbformat": 4,
 "nbformat_minor": 0
}
