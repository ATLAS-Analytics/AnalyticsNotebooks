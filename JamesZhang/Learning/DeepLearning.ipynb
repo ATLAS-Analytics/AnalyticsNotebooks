{
 "cells": [
  {
   "cell_type": "markdown",
   "metadata": {},
   "source": [
    "#### C. Deep Learning\n",
    "This section is meant to get you started in using Keras to design Deep Neural Networks. The goal here is to simply repeat section B with Deep Learning."
   ]
  },
  {
   "cell_type": "markdown",
   "metadata": {},
   "source": [
    "#### Anaconda environment\n",
    "* source activate deeplearning\n",
    "* jupyter notebook \n",
    "* source deactivate deeplearning\n",
    "\n",
    "More details are available online: https://www.dataweekends.com/blog/2017/03/09/set-up-your-mac-for-deep-learning-with-python-keras-and-tensorflow"
   ]
  },
  {
   "cell_type": "code",
   "execution_count": 10,
   "metadata": {
    "collapsed": true
   },
   "outputs": [],
   "source": [
    "import pandas as pd\n",
    "import numpy as np\n",
    "import matplotlib.pyplot as plt\n",
    "%matplotlib inline\n",
    "\n",
    "filename=\"./SUSY.csv\"\n",
    "VarNames=[\"signal\", \"l_1_pT\", \"l_1_eta\",\"l_1_phi\", \"l_2_pT\", \"l_2_eta\", \"l_2_phi\", \"MET\", \"MET_phi\", \"MET_rel\", \"axial_MET\", \"M_R\", \"M_TR_2\", \"R\", \"MT2\", \"S_R\", \"M_Delta_R\", \"dPhi_r_b\", \"cos_theta_r1\"]\n",
    "RawNames=[\"l_1_pT\", \"l_1_eta\",\"l_1_phi\", \"l_2_pT\", \"l_2_eta\", \"l_2_phi\"]\n",
    "FeatureNames=[ \"MET\", \"MET_phi\", \"MET_rel\", \"axial_MET\", \"M_R\", \"M_TR_2\", \"R\", \"MT2\", \"S_R\", \"M_Delta_R\", \"dPhi_r_b\", \"cos_theta_r1\"]\n",
    "\n",
    "df = pd.read_csv(filename, dtype='float64', names=VarNames)"
   ]
  },
  {
   "cell_type": "code",
   "execution_count": 11,
   "metadata": {
    "collapsed": true
   },
   "outputs": [],
   "source": [
    "N_Max=550000\n",
    "N_Train=500000\n",
    "\n",
    "Train_Sample=df[:N_Train]\n",
    "Test_Sample=df[N_Train:N_Max]\n",
    "\n",
    "X_Train=np.array(Train_Sample[VarNames[1:]])\n",
    "y_Train=np.array(Train_Sample[\"signal\"])\n",
    "\n",
    "X_Test=np.array(Test_Sample[VarNames[1:]])\n",
    "y_Test=np.array(Test_Sample[\"signal\"])"
   ]
  },
  {
   "cell_type": "markdown",
   "metadata": {},
   "source": [
    "#### Deep learning backend\n",
    "The deep learning backend can be either theano or temsorflow. Use Tensorflow and thus comment out theano for now."
   ]
  },
  {
   "cell_type": "code",
   "execution_count": 12,
   "metadata": {
    "collapsed": true
   },
   "outputs": [],
   "source": [
    "# Since lxplus does not have any GPUs, please DO NOT RUN THIS CELL ON LXPLUS.\n",
    "# Selecting First GPU in the system\n",
    "# import os\n",
    "# gpuid= 0\n",
    "# print (\"Using GPU:\", gpuid)\n",
    "# os.environ['THEANO_FLAGS'] = \"mode=FAST_RUN,device=gpu%s,floatX=float32,force_device=True\" % (gpuid)"
   ]
  },
  {
   "cell_type": "code",
   "execution_count": 13,
   "metadata": {
    "collapsed": true
   },
   "outputs": [],
   "source": [
    "# import theano\n",
    "# theano.config.profile=False"
   ]
  },
  {
   "cell_type": "code",
   "execution_count": 14,
   "metadata": {
    "collapsed": false
   },
   "outputs": [
    {
     "name": "stderr",
     "output_type": "stream",
     "text": [
      "/Users/jameszhang/anaconda2/envs/deeplearning/lib/python2.7/site-packages/ipykernel_launcher.py:5: UserWarning: Update your `Dense` call to the Keras 2 API: `Dense(12, activation=\"relu\", kernel_initializer=\"uniform\", input_dim=18)`\n",
      "  \"\"\"\n",
      "/Users/jameszhang/anaconda2/envs/deeplearning/lib/python2.7/site-packages/ipykernel_launcher.py:6: UserWarning: Update your `Dense` call to the Keras 2 API: `Dense(8, activation=\"relu\", kernel_initializer=\"uniform\")`\n",
      "  \n",
      "/Users/jameszhang/anaconda2/envs/deeplearning/lib/python2.7/site-packages/ipykernel_launcher.py:7: UserWarning: Update your `Dense` call to the Keras 2 API: `Dense(1, activation=\"sigmoid\", kernel_initializer=\"uniform\")`\n",
      "  import sys\n"
     ]
    }
   ],
   "source": [
    "from keras.models import Sequential\n",
    "from keras.layers import Dense\n",
    "\n",
    "model = Sequential()\n",
    "model.add(Dense(12, input_dim=X_Train.shape[1], init='uniform', activation='relu'))\n",
    "model.add(Dense(8, init='uniform', activation='relu'))\n",
    "model.add(Dense(1, init='uniform', activation='sigmoid'))"
   ]
  },
  {
   "cell_type": "code",
   "execution_count": 15,
   "metadata": {
    "collapsed": false
   },
   "outputs": [
    {
     "name": "stdout",
     "output_type": "stream",
     "text": [
      "_________________________________________________________________\n",
      "Layer (type)                 Output Shape              Param #   \n",
      "=================================================================\n",
      "dense_4 (Dense)              (None, 12)                228       \n",
      "_________________________________________________________________\n",
      "dense_5 (Dense)              (None, 8)                 104       \n",
      "_________________________________________________________________\n",
      "dense_6 (Dense)              (None, 1)                 9         \n",
      "=================================================================\n",
      "Total params: 341\n",
      "Trainable params: 341\n",
      "Non-trainable params: 0\n",
      "_________________________________________________________________\n"
     ]
    }
   ],
   "source": [
    "model.compile(loss='binary_crossentropy', optimizer='adam', metrics=['accuracy'])\n",
    "model.summary()"
   ]
  },
  {
   "cell_type": "code",
   "execution_count": 16,
   "metadata": {
    "collapsed": false
   },
   "outputs": [
    {
     "name": "stdout",
     "output_type": "stream",
     "text": [
      "Train on 500000 samples, validate on 50000 samples\n",
      "Epoch 1/10\n",
      "500000/500000 [==============================] - 2s - loss: 0.6122 - acc: 0.7032 - val_loss: 0.4927 - val_acc: 0.7768\n",
      "Epoch 2/10\n",
      "500000/500000 [==============================] - 1s - loss: 0.4716 - acc: 0.7828 - val_loss: 0.4663 - val_acc: 0.7853\n",
      "Epoch 3/10\n",
      "500000/500000 [==============================] - 1s - loss: 0.4572 - acc: 0.7904 - val_loss: 0.4573 - val_acc: 0.7889\n",
      "Epoch 4/10\n",
      "500000/500000 [==============================] - 1s - loss: 0.4493 - acc: 0.7939 - val_loss: 0.4495 - val_acc: 0.7916\n",
      "Epoch 5/10\n",
      "500000/500000 [==============================] - 1s - loss: 0.4435 - acc: 0.7955 - val_loss: 0.4448 - val_acc: 0.7934\n",
      "Epoch 6/10\n",
      "500000/500000 [==============================] - 1s - loss: 0.4409 - acc: 0.7969 - val_loss: 0.4434 - val_acc: 0.7938\n",
      "Epoch 7/10\n",
      "500000/500000 [==============================] - 1s - loss: 0.4398 - acc: 0.7976 - val_loss: 0.4423 - val_acc: 0.7953\n",
      "Epoch 8/10\n",
      "500000/500000 [==============================] - 1s - loss: 0.4389 - acc: 0.7979 - val_loss: 0.4417 - val_acc: 0.7949\n",
      "Epoch 9/10\n",
      "500000/500000 [==============================] - 1s - loss: 0.4384 - acc: 0.7981 - val_loss: 0.4409 - val_acc: 0.7958\n",
      "Epoch 10/10\n",
      "500000/500000 [==============================] - 1s - loss: 0.4379 - acc: 0.7983 - val_loss: 0.4406 - val_acc: 0.7955\n"
     ]
    }
   ],
   "source": [
    "history=model.fit(X_Train, y_Train, validation_data=(X_Test,y_Test), nb_epoch=10, batch_size=2048)"
   ]
  },
  {
   "cell_type": "code",
   "execution_count": 17,
   "metadata": {
    "collapsed": false
   },
   "outputs": [
    {
     "name": "stdout",
     "output_type": "stream",
     "text": [
      "{'acc': [0.70316000000762935, 0.78275999998855594, 0.79040600000762939, 0.7939339999961853, 0.79550599999618532, 0.79692799998474118, 0.79763600000000001, 0.7978759999961853, 0.79808600000762941, 0.79827199998474119], 'loss': [0.61224734049987795, 0.47162551624107363, 0.45716904064559938, 0.44932607213783265, 0.44345089010429384, 0.44094182800292969, 0.43977234993743897, 0.43894262891006469, 0.4383764655227661, 0.43788745177268984], 'val_acc': [0.77676000040054316, 0.78526000013351438, 0.78890000032424923, 0.79162000013351441, 0.79337999977111817, 0.79380000013351437, 0.79534000041961672, 0.79492000041961675, 0.79582000005722042, 0.79545999996185301], 'val_loss': [0.49273895414352414, 0.46627560482978819, 0.4573267499256134, 0.4494746424674988, 0.44476027473449709, 0.44341805072784424, 0.44225036154747011, 0.44171887449264524, 0.44094915055274964, 0.44056742130279541]}\n"
     ]
    }
   ],
   "source": [
    "print history.history"
   ]
  },
  {
   "cell_type": "code",
   "execution_count": 18,
   "metadata": {
    "collapsed": false
   },
   "outputs": [
    {
     "data": {
      "text/plain": [
       "[<matplotlib.lines.Line2D at 0x105ed4650>]"
      ]
     },
     "execution_count": 18,
     "metadata": {},
     "output_type": "execute_result"
    },
    {
     "data": {
      "image/png": "[encoded data removed]",
      "text/plain": [
       "<matplotlib.figure.Figure at 0x123286a90>"
      ]
     },
     "metadata": {},
     "output_type": "display_data"
    }
   ],
   "source": [
    "loss_history=history.history[\"loss\"]\n",
    "plt.plot(range(len(loss_history)),loss_history)"
   ]
  },
  {
   "cell_type": "code",
   "execution_count": 19,
   "metadata": {
    "collapsed": false
   },
   "outputs": [
    {
     "data": {
      "text/plain": [
       "[<matplotlib.lines.Line2D at 0x11654ae10>]"
      ]
     },
     "execution_count": 19,
     "metadata": {},
     "output_type": "execute_result"
    },
    {
     "data": {
      "image/png": "[encoded data removed]",
      "text/plain": [
       "<matplotlib.figure.Figure at 0x1233befd0>"
      ]
     },
     "metadata": {},
     "output_type": "display_data"
    }
   ],
   "source": [
    "acc_history=history.history[\"acc\"]\n",
    "plt.plot(range(len(acc_history)),acc_history)"
   ]
  },
  {
   "cell_type": "code",
   "execution_count": null,
   "metadata": {
    "collapsed": true
   },
   "outputs": [],
   "source": []
  }
 ],
 "metadata": {
  "kernelspec": {
   "display_name": "Python (ipykernel_py2)",
   "language": "python",
   "name": "ipykernel_py2"
  },
  "language_info": {
   "codemirror_mode": {
    "name": "ipython",
    "version": 2
   },
   "file_extension": ".py",
   "mimetype": "text/x-python",
   "name": "python",
   "nbconvert_exporter": "python",
   "pygments_lexer": "ipython2",
   "version": "2.7.11"
  }
 },
 "nbformat": 4,
 "nbformat_minor": 2
}
