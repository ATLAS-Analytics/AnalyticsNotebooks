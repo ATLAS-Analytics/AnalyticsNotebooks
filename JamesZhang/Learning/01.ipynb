{
 "cells": [
  {
   "cell_type": "code",
   "execution_count": 14,
   "metadata": {
    "collapsed": false
   },
   "outputs": [
    {
     "name": "stdout",
     "output_type": "stream",
     "text": [
      "Weight in pounds:  110.231\n"
     ]
    },
    {
     "data": {
      "text/plain": [
       "'Return a new array containing the original data centered around the desired value.\\n    Example: center([1, 2, 3], 0) => [-1, 0, 1]'"
      ]
     },
     "execution_count": 14,
     "metadata": {},
     "output_type": "execute_result"
    }
   ],
   "source": [
    "import numpy\n",
    "weightkg = 50\n",
    "weightlbs = weight * 2.20462\n",
    "print 'Weight in pounds: ', weightlbs\n",
    "\n",
    "'''Return a new array containing the original data centered around the desired value.\n",
    "    Example: center([1, 2, 3], 0) => [-1, 0, 1]'''\n",
    "\n",
    "#numpy.loadtxt(fname='inflammation-01.csv', delimiter=',')"
   ]
  }
 ],
 "metadata": {
  "kernelspec": {
   "display_name": "Python (ipykernel_py2)",
   "language": "python",
   "name": "ipykernel_py2"
  },
  "language_info": {
   "codemirror_mode": {
    "name": "ipython",
    "version": 2
   },
   "file_extension": ".py",
   "mimetype": "text/x-python",
   "name": "python",
   "nbconvert_exporter": "python",
   "pygments_lexer": "ipython2",
   "version": "2.7.11"
  }
 },
 "nbformat": 4,
 "nbformat_minor": 0
}
