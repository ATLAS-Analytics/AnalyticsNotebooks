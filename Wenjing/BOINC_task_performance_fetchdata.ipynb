{
 "cells": [
  {
   "cell_type": "markdown",
   "metadata": {},
   "source": [
    "calculate the core power for BOINC tasks"
   ]
  },
  {
   "cell_type": "code",
   "execution_count": 6,
   "metadata": {
    "collapsed": true
   },
   "outputs": [],
   "source": [
    "%matplotlib inline\n",
    "import datetime\n",
    "import re\n",
    "import pandas as pd\n",
    "import numpy as np\n",
    "import matplotlib.pyplot as plt\n",
    "import math\n",
    "import re\n",
    "import time\n",
    "from elasticsearch import Elasticsearch, helpers"
   ]
  },
  {
   "cell_type": "raw",
   "metadata": {},
   "source": [
    "# Define the core power of known hosts and the days of archive data to retrieve"
   ]
  },
  {
   "cell_type": "code",
   "execution_count": 7,
   "metadata": {
    "collapsed": true
   },
   "outputs": [],
   "source": [
    "last_days=150\n",
    "Power=[{'pat':r'.*aws16.*ihep.ac.cn','pvalue':16},{'pat':r'.*lwn14.*ihep.ac.cn','pvalue':20},{'pat':r'.*aws13.*ihep.ac.cn','pvalue':8}]"
   ]
  },
  {
   "cell_type": "raw",
   "metadata": {},
   "source": [
    "# get indexed files from the last_days. "
   ]
  },
  {
   "cell_type": "code",
   "execution_count": 8,
   "metadata": {},
   "outputs": [
    {
     "name": "stdout",
     "output_type": "stream",
     "text": [
      "number of indices: 1\n"
     ]
    }
   ],
   "source": [
    "es = Elasticsearch([{'host':'atlas-kibana.mwt2.org', 'port':9200}],timeout=60)\n",
    "\n",
    "indices = es.cat.indices(index=\"jobs_archive_*\", h=\"index\", request_timeout=600).split('\\n')\n",
    "\n",
    "indices = sorted(indices)\n",
    "indices = [x for x in indices if x != '' and not x.endswith('_reindexed')]\n",
    "#print(indices)\n",
    "def time_filter(indices, last_days=1):\n",
    "    if last_days == 0:\n",
    "        return [\"jobs_archive_*\"]\n",
    "    today = datetime.date.today()\n",
    "    filtered = []\n",
    "    datefmt = '%Y-%m-%d'\n",
    "    for i in indices:\n",
    "        day = re.sub(r'jobs_archive_', '', i).rstrip()\n",
    "        day = datetime.datetime.strptime(day, datefmt).date()\n",
    "        diff = today - day\n",
    "        if diff.days < last_days:\n",
    "            filtered.append(i.rstrip())\n",
    "    return filtered\n",
    "\n",
    "ind = time_filter(indices, 0)\n",
    "print (\"number of indices:\", len(ind))\n",
    "#print(ind)\n",
    "ind = ','.join(ind)\n",
    "#print(ind)"
   ]
  },
  {
   "cell_type": "code",
   "execution_count": 9,
   "metadata": {},
   "outputs": [
    {
     "name": "stdout",
     "output_type": "stream",
     "text": [
      "[13634372, 12515739, 12678480, 13183578, 12967708, 13092403, 13466969, 13293809, 12906983, 13240894, 12640557, 13417234, 13606525, 12790254, 12577096, 12732603, 13376330, 12858266, 12763289, 13346436, 13346443, 12885762, 12866455]\n"
     ]
    }
   ],
   "source": [
    "etime=int(time.time()*1000)\n",
    "stime=etime-3600*24*last_days*1000\n",
    "my_query={\n",
    "  \"size\": 0,\n",
    "  \"aggs\": {\n",
    "    \"task\": {\n",
    "      \"terms\": {\n",
    "        \"field\": \"jeditaskid\",\n",
    "        \"size\": 100,\n",
    "        \"order\": {\n",
    "          \"_count\": \"desc\"\n",
    "        }\n",
    "      }\n",
    "    }\n",
    "  },\n",
    "  \"query\": {\n",
    "    \"bool\": {\n",
    "      \"must\": [\n",
    "        {\n",
    "          \"match_all\": {}\n",
    "        },\n",
    "        {\n",
    "          \"match_phrase\": {\n",
    "            \"computingsite\": {\n",
    "              \"query\": \"BOINC_MCORE\"\n",
    "            }\n",
    "          }\n",
    "        },\n",
    "        {\n",
    "          \"match_phrase\": {\n",
    "            \"jobstatus\": {\n",
    "              \"query\": \"finished\"\n",
    "            }\n",
    "          }\n",
    "        },\n",
    "        {\n",
    "          \"range\": {\n",
    "            \"modificationtime\": {\n",
    "              \"gte\": stime,\n",
    "              \"lte\": etime,\n",
    "              \"format\": \"epoch_millis\"\n",
    "            }\n",
    "          }\n",
    "        }\n",
    "      ],\n",
    "      \"must_not\": []\n",
    "    }\n",
    "   }\n",
    "}\n",
    "res = es.search(index=ind, body=my_query, request_timeout=12000)\n",
    "#print(res)\n",
    "buckets=res['aggregations']['task']['buckets']\n",
    "tasks=[]\n",
    "bs=len(buckets)\n",
    "for i in range(bs):\n",
    "    tid=buckets[i]['key']\n",
    "    cn=buckets[i]['doc_count']\n",
    "    #print(tid,cn)\n",
    "    if cn>1000:\n",
    "        tasks.append(tid)\n",
    "print(tasks)"
   ]
  },
  {
   "cell_type": "markdown",
   "metadata": {
    "collapsed": true
   },
   "source": [
    "### now we want to find all the jobs of this taskid"
   ]
  },
  {
   "cell_type": "code",
   "execution_count": 10,
   "metadata": {
    "scrolled": true
   },
   "outputs": [
    {
     "name": "stdout",
     "output_type": "stream",
     "text": [
      "Avg. power over all task:11.27\n",
      "    days    taskid    jobs  core power  avg_cpuperevent   nevents\n",
      "10   150  12515739  187476   12.534734       120.570525   9373800\n",
      "1    150  13634372  138827   11.412876       175.071589  27765400\n",
      "5    150  12678480  124478    9.522221       266.449059   6223900\n",
      "9    150  13183578  122858   11.056078       317.599148   6142900\n",
      "11   150  12967708  107730   11.527776       174.770192  21546000\n",
      "18   150  13092403   96606   11.048342       476.484949   4830300\n",
      "8    150  13466969   94353   11.572271       334.558557  18870600\n",
      "16   150  13293809   92732   10.636647       214.867558  18546400\n",
      "13   150  12906983   78368   11.360464       297.486257  15673500\n",
      "22   150  13240894   75043   10.949287       346.196728   3752150\n",
      "14   150  12640557   71670    9.706369       272.601105   3583500\n",
      "6    150  13417234   61964   11.634448       211.160712  12392800\n",
      "15   150  12790254   54049   12.018166       170.849819  10809800\n",
      "21   150  13606525   49511   11.286888       216.822081   9902200\n",
      "20   150  12732603   36520    9.972693       271.388710   7303900\n",
      "2    150  12577096   24971   12.348318       160.341266   4994200\n",
      "3    150  13376330   24402   11.231628       475.757438   4880400\n",
      "12   150  12858266   22786   12.126542       236.368653   4557200\n",
      "7    150  12866455   21335   11.944913       351.071950   4266900\n",
      "0    150  12885762   18510   11.929229       297.530638   3701950\n",
      "19   150  12763289   18455   11.217294       459.564505   3691000\n",
      "17   150  13346436   17805   11.210752       297.756050   3561000\n",
      "4    150  13346443   17795   11.159079       310.163119   3559000\n"
     ]
    }
   ],
   "source": [
    "def get_avg_boinc_power_by_task(tasks,res):\n",
    "    (total_cpu,total_events,cn_boinc,ihep_total_cpu,ihep_total_events,cn_ihep)=({},{},{},{},{},{})\n",
    "    for r in res:\n",
    "        if r['_source']['cpuconsumptiontime']<1000000 and r['_source']['nevents']!=0 and \"modificationhost\" in r['_source'] and type(r['_source']['modificationhost']) is str:\n",
    "            cpuperevent=float(r['_source']['cpuconsumptiontime'])/r['_source']['nevents']\n",
    "        else:\n",
    "            continue\n",
    "        mhost=r['_source']['modificationhost']\n",
    "        jediid=r['_source']['jeditaskid']\n",
    "        if jediid in tasks:  \n",
    "            if jediid not in total_cpu:\n",
    "                total_cpu[jediid]=0\n",
    "                total_events[jediid]=0\n",
    "                cn_boinc[jediid]=0\n",
    "                ihep_total_cpu[jediid]={}\n",
    "                ihep_total_events[jediid]={}\n",
    "                cn_ihep[jediid]={}\n",
    "            else:\n",
    "                total_cpu[jediid]+=r['_source']['cpuconsumptiontime']\n",
    "                total_events[jediid]+=r['_source']['nevents']\n",
    "                cn_boinc[jediid]+=1\n",
    "            for P in Power:\n",
    "                pat=P['pat']\n",
    "                pvalue=P['pvalue']\n",
    "                if re.match(pat,mhost):\n",
    "                    if not pat in ihep_total_cpu[jediid]:\n",
    "                        ihep_total_cpu[jediid][pat]=0\n",
    "                        ihep_total_events[jediid][pat]=0\n",
    "                        cn_ihep[jediid][pat]=0\n",
    "                    else:\n",
    "                        ihep_total_cpu[jediid][pat]+=r['_source']['cpuconsumptiontime']\n",
    "                        ihep_total_events[jediid][pat]+=r['_source']['nevents']\n",
    "                        cn_ihep[jediid][pat]+=1\n",
    "    avg_cpuperevent={}\n",
    "    for jediid in tasks:\n",
    "        if total_events[jediid]!=0:\n",
    "            avg_cpuperevent[jediid]=float(total_cpu[jediid])/total_events[jediid]\n",
    "    ihep_avg_cpuperevent={}\n",
    "    for jediid in ihep_total_cpu.keys():\n",
    "        ihep_avg_cpuperevent[jediid]={}\n",
    "        for pat in ihep_total_cpu[jediid].keys():\n",
    "            if ihep_total_events[jediid][pat]!=0:\n",
    "                ihep_avg_cpuperevent[jediid][pat]=float(ihep_total_cpu[jediid][pat])/ihep_total_events[jediid][pat]\n",
    "            else:\n",
    "                ihep_avg_cpuperevent[jediid][pat]=0\n",
    "    \n",
    "    head=[\"days\",\"taskid\",\"jobs\",\"core power\",\"avg_cpuperevent\",\"nevents\"]\n",
    "    total_power_task=0\n",
    "    total_cpu_task=0\n",
    "    dlist=[]\n",
    "   \n",
    "    for jediid in ihep_total_cpu.keys():\n",
    "        total_cpu_task+=total_cpu[jediid]\n",
    "        boinc_power={}\n",
    "        total_power,cn=0,0\n",
    "        for pat in ihep_total_cpu[jediid]:\n",
    "            if ihep_avg_cpuperevent[jediid][pat]!=0:\n",
    "                for P in Power:\n",
    "                    if pat in P.values():\n",
    "                        boinc_power[jediid]=P[\"pvalue\"]*ihep_avg_cpuperevent[jediid][pat]/avg_cpuperevent[jediid]\n",
    "                    #print(pat,boinc_power)\n",
    "                        total_power+=boinc_power[jediid]\n",
    "                        cn+=1\n",
    "        if cn!=0:\n",
    "            avg_boinc_power=float(total_power)/cn\n",
    "            total_power_task+=avg_boinc_power*total_cpu[jediid]\n",
    "            #print(\"%d days\\ttaskid:%s\\tjobs:%s\\tBOINC power:%.1f\\tavg_cpuperevent:%.0f\"%(last_days,jediid,cn_boinc[jediid],avg_boinc_power,avg_cpuperevent[jediid]))\n",
    "            #print(\"%d\\t%s\\t%s\\t%.1f\\t%.0f\"%(last_days,jediid,cn_boinc[jediid],avg_boinc_power,avg_cpuperevent[jediid]))\n",
    "            t=[last_days,jediid,cn_boinc[jediid],avg_boinc_power,avg_cpuperevent[jediid],total_events[jediid]]\n",
    "            dlist.append(t)\n",
    "    avg_power=total_power_task/total_cpu_task\n",
    "    print(\"Avg. power over all task:%.2f\"%avg_power)\n",
    "    df = pd.DataFrame(dlist,columns=head)\n",
    "    print(df.sort_values(by=\"jobs\",ascending=False))\n",
    "    df.to_csv(\"plots/task.csv\")\n",
    " \n",
    "my_query={\n",
    "    \"size\": 0,\n",
    "    \"_source\": [\"modificationhost\", \"cpuconsumptiontime\",\"nevents\",\"jeditaskid\"],\n",
    "  \"query\": {\n",
    "    \"bool\": {\n",
    "      \"must\": [\n",
    "        {\n",
    "          \"term\": {\"jobstatus\": \"finished\"},\n",
    "          \"term\": {\"computingsite\":\"BOINC_MCORE\"}\n",
    "        }\n",
    "      ]\n",
    "    }\n",
    "  }\n",
    "}\n",
    "#for task in tasks:\n",
    "res = helpers.scan(es, query=my_query, index=ind, scroll='5m', timeout=\"5m\", size=1000)\n",
    "get_avg_boinc_power_by_task(tasks,res)\n"
   ]
  },
  {
   "cell_type": "code",
   "execution_count": null,
   "metadata": {
    "collapsed": true
   },
   "outputs": [],
   "source": []
  },
  {
   "cell_type": "code",
   "execution_count": null,
   "metadata": {
    "collapsed": true
   },
   "outputs": [],
   "source": []
  },
  {
   "cell_type": "code",
   "execution_count": null,
   "metadata": {
    "collapsed": true
   },
   "outputs": [],
   "source": []
  },
  {
   "cell_type": "code",
   "execution_count": null,
   "metadata": {
    "collapsed": true
   },
   "outputs": [],
   "source": []
  },
  {
   "cell_type": "code",
   "execution_count": null,
   "metadata": {
    "collapsed": true
   },
   "outputs": [],
   "source": []
  }
 ],
 "metadata": {
  "kernelspec": {
   "display_name": "Python 3",
   "language": "python",
   "name": "python3"
  },
  "language_info": {
   "codemirror_mode": {
    "name": "ipython",
    "version": 3
   },
   "file_extension": ".py",
   "mimetype": "text/x-python",
   "name": "python",
   "nbconvert_exporter": "python",
   "pygments_lexer": "ipython3",
   "version": "3.4.5"
  }
 },
 "nbformat": 4,
 "nbformat_minor": 2
}
