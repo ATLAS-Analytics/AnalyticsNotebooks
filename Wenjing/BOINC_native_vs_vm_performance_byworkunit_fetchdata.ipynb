{
 "cells": [
  {
   "cell_type": "code",
   "execution_count": 1,
   "metadata": {
    "collapsed": true
   },
   "outputs": [],
   "source": [
    "%matplotlib inline\n",
    "import datetime\n",
    "import re\n",
    "import pandas as pd\n",
    "import numpy as np\n",
    "import matplotlib.pyplot as plt\n",
    "import math\n",
    "import re\n",
    "import time\n",
    "from elasticsearch import Elasticsearch, helpers\n",
    "import csv"
   ]
  },
  {
   "cell_type": "code",
   "execution_count": 2,
   "metadata": {},
   "outputs": [
    {
     "name": "stdout",
     "output_type": "stream",
     "text": [
      "number of indices: 50\n",
      "jobs_archive_2017-12-10,jobs_archive_2017-12-11,jobs_archive_2017-12-12,jobs_archive_2017-12-13,jobs_archive_2017-12-14,jobs_archive_2017-12-15,jobs_archive_2017-12-16,jobs_archive_2017-12-17,jobs_archive_2017-12-18,jobs_archive_2017-12-19,jobs_archive_2017-12-20,jobs_archive_2017-12-21,jobs_archive_2017-12-22,jobs_archive_2017-12-23,jobs_archive_2017-12-24,jobs_archive_2017-12-25,jobs_archive_2017-12-26,jobs_archive_2017-12-27,jobs_archive_2017-12-28,jobs_archive_2017-12-29,jobs_archive_2017-12-30,jobs_archive_2017-12-31,jobs_archive_2018-01-01,jobs_archive_2018-01-02,jobs_archive_2018-01-03,jobs_archive_2018-01-04,jobs_archive_2018-01-05,jobs_archive_2018-01-06,jobs_archive_2018-01-07,jobs_archive_2018-01-08,jobs_archive_2018-01-09,jobs_archive_2018-01-10,jobs_archive_2018-01-11,jobs_archive_2018-01-12,jobs_archive_2018-01-13,jobs_archive_2018-01-14,jobs_archive_2018-01-15,jobs_archive_2018-01-16,jobs_archive_2018-01-17,jobs_archive_2018-01-18,jobs_archive_2018-01-19,jobs_archive_2018-01-20,jobs_archive_2018-01-21,jobs_archive_2018-01-22,jobs_archive_2018-01-23,jobs_archive_2018-01-24,jobs_archive_2018-01-25,jobs_archive_2018-01-26,jobs_archive_2018-01-27,jobs_archive_2018-01-28\n",
      "boinc\n"
     ]
    }
   ],
   "source": [
    "\n",
    "\n",
    "bfile=open(\"boinc_job.csv\",\"w\")\n",
    "pfile=open(\"panda_job.csv\",\"w\")\n",
    "outb = csv.writer(bfile, delimiter=',',quoting=csv.QUOTE_ALL)\n",
    "outp = csv.writer(pfile, delimiter=\",\",quoting=csv.QUOTE_ALL)\n",
    "\n",
    "last_days=50\n",
    "es = Elasticsearch([{'host':'atlas-kibana.mwt2.org', 'port':9200}],timeout=60)\n",
    "\n",
    "def time_filter(indices,pat=r'jobs_archive_', last_days=1):\n",
    "    if last_days == 0:\n",
    "        return [\"jobs_archive_*\"]\n",
    "    today = datetime.date.today()\n",
    "    filtered = []\n",
    "    datefmt = '%Y-%m-%d'\n",
    "    for i in indices:\n",
    "        day = re.sub(pat, '', i).rstrip()\n",
    "        day = datetime.datetime.strptime(day, datefmt).date()\n",
    "        diff = today - day\n",
    "        if diff.days < last_days:\n",
    "            filtered.append(i.rstrip())\n",
    "    return filtered\n",
    "\n",
    "def get_indices(index=\"jobs_archive_*\",pat=r'jobs_archive_',last_days=last_days):\n",
    "    #indices_ja = es.cat.indices(index=\"jobs_archive_*\", h=\"index\", request_timeout=600).split('\\n')\n",
    "    indices = es.cat.indices(index=index, h=\"index\", request_timeout=600).split('\\n')\n",
    "    indices = sorted(indices)\n",
    "    indices = [x for x in indices if x != '' and not x.endswith('_reindexed')]\n",
    "    #print(\"indices is\",indices)\n",
    "    if index==\"boinc\":\n",
    "        ind=indices\n",
    "    else:\n",
    "        ind = time_filter(indices,pat=pat,last_days=last_days)\n",
    "        print (\"number of indices:\", len(ind))\n",
    "    ind = ','.join(ind)\n",
    "    print(ind)\n",
    "    return ind\n",
    "ind_ja=get_indices()\n",
    "ind_boinc=get_indices(index=\"boinc\",pat=r'boinc_')"
   ]
  },
  {
   "cell_type": "code",
   "execution_count": 3,
   "metadata": {
    "collapsed": true,
    "scrolled": false
   },
   "outputs": [],
   "source": [
    "my_query_ja={\n",
    "    \"size\": 0,\n",
    "    \"_source\": [\"modificationhost\", \"cpuconsumptiontime\",\"nevents\",\"jeditaskid\",\"actualcorecount\",\"wall_time\",\"nevents\",\"pilotid\"],\n",
    "  \"query\": {\n",
    "    \"bool\": {\n",
    "      \"must\": [\n",
    "        {\n",
    "          \"term\": {\"jobstatus\": \"finished\"},\n",
    "          \"term\": {\"computingsite\":\"BOINC_MCORE\"}\n",
    "        }\n",
    "      ]\n",
    "    }\n",
    "  }\n",
    "}\n",
    "my_query_boinc={\n",
    "    \"size\": 0,\n",
    "    \"_source\": [\"result_app_version_id\",\"batch\",\"cpu_time\",\"host_name\",\"elapsed_time\",\"name\",\"host_flops\",\"host_ncpus\"],\n",
    "  \"query\": {\n",
    "    \"bool\": {\n",
    "      \"must\": [\n",
    "        {\n",
    "          \"term\": {\"outcome\":1},\n",
    "          \"term\": {\"result_app_id\":14}\n",
    "        }\n",
    "      ]\n",
    "    }\n",
    "  }\n",
    "}\n",
    "\n",
    "\n",
    "def list_res(res):\n",
    "    count=0\n",
    "    for r in res:\n",
    "        if count<=10:\n",
    "            print(r)\n",
    "            count+=1\n",
    "\n",
    "\n",
    "\n"
   ]
  },
  {
   "cell_type": "code",
   "execution_count": 4,
   "metadata": {
    "collapsed": true
   },
   "outputs": [],
   "source": [
    "#get_avg_boinc_power_by_task(tasks,res)\n",
    "def get_ja_info(res):\n",
    "    d=[\"host\",\"name\",\"ncore\",\"panda_cputime\",\"panda_walltime\",\"panda_cpu_eff\",\"nevents\",\"task\"]\n",
    "    outp.writerow(d)\n",
    "    for r in res:\n",
    "        if \"actualcorecount\" in r[\"_source\"] and r[\"_source\"][\"actualcorecount\"]:\n",
    "            taskid=r[\"_source\"][\"jeditaskid\"]\n",
    "            cputime=r[\"_source\"][\"cpuconsumptiontime\"]\n",
    "            walltime=r[\"_source\"][\"wall_time\"]*r[\"_source\"][\"actualcorecount\"]\n",
    "            nevents=r[\"_source\"][\"nevents\"]\n",
    "            ncore=r[\"_source\"][\"actualcorecount\"]\n",
    "            pilotid=r[\"_source\"][\"pilotid\"]\n",
    "            name=pilotid\n",
    "            host=r[\"_source\"][\"modificationhost\"]\n",
    "            \n",
    "            if type(host)!=str or host==\"\":\n",
    "                continue\n",
    "            host=re.sub(\".*@\",\"\",host)\n",
    "            if cputime>2000*nevents or cputime<=0:\n",
    "                continue\n",
    "            if walltime>4000*nevents*ncore or walltime<=0:\n",
    "                continue\n",
    "            cpu_eff=np.round(cputime/walltime,2)\n",
    "            if cpu_eff<1:\n",
    "                d=[host,name,ncore,cputime,walltime,cpu_eff,nevents,taskid]\n",
    "                outp.writerow(d)\n",
    "def get_boinc_info(res):\n",
    "    d=[\"av\",\"host\",\"name\",\"boinc_cputime\",\"boinc_walltime\",\"host_flops\",\"host_ncpu\",\"task\"]\n",
    "    outb.writerow(d)\n",
    "    for r in res:\n",
    "        taskid=r[\"_source\"][\"batch\"]\n",
    "        name=r[\"_source\"][\"name\"]\n",
    "        host=r[\"_source\"][\"host_name\"]\n",
    "        cputime=r[\"_source\"][\"cpu_time\"]\n",
    "        walltime=r[\"_source\"][\"elapsed_time\"]\n",
    "        av=r[\"_source\"][\"result_app_version_id\"]\n",
    "        host_flops=r[\"_source\"][\"host_flops\"]\n",
    "        host_ncpu=r[\"_source\"][\"host_ncpus\"]\n",
    "        if walltime<=0 or cputime<=0:\n",
    "            continue    \n",
    "        if host==\"\":\n",
    "            continue\n",
    "        d=(av,host,name,cputime,walltime,host_flops,host_ncpu,taskid)\n",
    "        outb.writerow(d)\n",
    "\n",
    "\n",
    "res_ja = helpers.scan(es, query=my_query_ja, index=ind_ja, scroll='5m', timeout=\"5m\", size=1000)\n",
    "get_ja_info(res_ja)\n",
    "\n",
    "res_boinc = helpers.scan(es, query=my_query_boinc, index=ind_boinc, scroll='5m', timeout=\"5m\", size=1000) \n",
    "get_boinc_info(res_boinc)    \n"
   ]
  },
  {
   "cell_type": "code",
   "execution_count": null,
   "metadata": {
    "collapsed": true
   },
   "outputs": [],
   "source": []
  }
 ],
 "metadata": {
  "kernelspec": {
   "display_name": "Python 3",
   "language": "python",
   "name": "python3"
  },
  "language_info": {
   "codemirror_mode": {
    "name": "ipython",
    "version": 3
   },
   "file_extension": ".py",
   "mimetype": "text/x-python",
   "name": "python",
   "nbconvert_exporter": "python",
   "pygments_lexer": "ipython3",
   "version": "3.4.5"
  }
 },
 "nbformat": 4,
 "nbformat_minor": 2
}
