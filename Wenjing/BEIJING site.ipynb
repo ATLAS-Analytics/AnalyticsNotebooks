{
 "cells": [
  {
   "cell_type": "markdown",
   "metadata": {},
   "source": [
    "# BOINC first try\n",
    "This code will read from job archive table in ES and ..."
   ]
  },
  {
   "cell_type": "code",
   "execution_count": 1,
   "metadata": {},
   "outputs": [
    {
     "name": "stdout",
     "output_type": "stream",
     "text": [
      "number of indices: 30\n",
      "BOINC_MCORE 8678.901712962957 4946.949583333331\n",
      "BEIJING_MCORE 4979.895277777776 3483.049861111111\n",
      "BEIJING 936.0081944444439 785.7328356481476\n",
      "ANALY_BEIJING 561.6693865740742 334.6630092592593\n",
      "{'cpu_days': {'BOINC_MCORE': 164.89831944444438, 'ANALY_BEIJING': 11.15543364197531, 'BEIJING': 26.191094521604917, 'BEIJING_MCORE': 116.10166203703703}, 'wall_days': {'BOINC_MCORE': 289.2967237654319, 'ANALY_BEIJING': 18.722312885802474, 'BEIJING': 31.20027314814813, 'BEIJING_MCORE': 165.9965092592592}}\n"
     ]
    }
   ],
   "source": [
    "%matplotlib inline\n",
    "import datetime\n",
    "import re\n",
    "import pandas as pd\n",
    "import numpy as np\n",
    "import matplotlib.pyplot as plt\n",
    "import math\n",
    "import re\n",
    "import time\n",
    "from pandas.plotting import table\n",
    "\n",
    "from elasticsearch import Elasticsearch, helpers\n",
    "\n",
    "last_days=30\n",
    "avail_cpu=456\n",
    "es = Elasticsearch([{'host':'atlas-kibana.mwt2.org', 'port':9200}],timeout=60)\n",
    "\n",
    "indices = es.cat.indices(index=\"jobs_archive_*\", h=\"index\", request_timeout=600).split('\\n')\n",
    "\n",
    "indices = sorted(indices)\n",
    "indices = [x for x in indices if x != '' and not x.endswith('_reindexed')]\n",
    "#print(indices)\n",
    "def time_filter(indices, last_days=1):\n",
    "    if last_days == 0:\n",
    "        return [\"jobs_archive_*\"]\n",
    "    today = datetime.date.today()\n",
    "    filtered = []\n",
    "    datefmt = '%Y-%m-%d'\n",
    "    for i in indices:\n",
    "        day = re.sub(r'jobs_archive_', '', i).rstrip()\n",
    "        day = datetime.datetime.strptime(day, datefmt).date()\n",
    "        diff = today - day\n",
    "        if diff.days < last_days:\n",
    "            filtered.append(i.rstrip())\n",
    "    return filtered\n",
    "\n",
    "ind = time_filter(indices, last_days)\n",
    "print (\"number of indices:\", len(ind))\n",
    "#print(ind)\n",
    "ind = ','.join(ind)\n",
    "#print(ind)\n",
    "etime=int(time.time()*1000)\n",
    "stime=etime-3600*24*last_days*1000\n",
    "true=\"true\"\n",
    "false=\"false\"\n",
    "my_query={\n",
    "  \"size\": 0,\n",
    "  \"version\": true,\n",
    "  \"query\": {\n",
    "    \"bool\": {\n",
    "      \"must\": [\n",
    "        {\n",
    "          \"query_string\": {\n",
    "            \"query\": \"modificationhost:(/.*lwn1[2-4][0-9].ihep.ac.cn/ OR /.*lwn15[0-2].ihep.ac.cn/ )\",\n",
    "            \"analyze_wildcard\": true,\n",
    "            \"lowercase_expanded_terms\": false\n",
    "          }\n",
    "        },\n",
    "        {\n",
    "          \"range\": {\n",
    "            \"modificationtime\": {\n",
    "              \"gte\": stime,\n",
    "              \"lte\": etime,\n",
    "              \"format\": \"epoch_millis\"\n",
    "            }\n",
    "          }\n",
    "        }\n",
    "      ],\n",
    "      \"must_not\": []\n",
    "    }\n",
    "  },\n",
    "  \"aggs\": {\n",
    "    \"2\": {\n",
    "      \"terms\": {\n",
    "        \"field\": \"computingsite\",\n",
    "        \"size\": 10,\n",
    "        \"order\": {\n",
    "          \"_term\": \"desc\"\n",
    "        }\n",
    "      },\n",
    "      \"aggs\": {\n",
    "        \"3\": {\n",
    "          \"sum\": {\n",
    "            \"script\": {\n",
    "              \"inline\": \"double max_cpu_per_event=2000;double cpusec=doc['cpuconsumptiontime'].value; String site=doc['computingsite'].value;double nevents=doc[\\\"nevents\\\"].value;if (site==\\\"BOINC_MCORE\\\" && (cpusec>max_cpu_per_event*nevents || cpusec<0)) {return max_cpu_per_event*nevents/(3600*24)} else {return cpusec/(3600*24)}\",\n",
    "              \"lang\": \"painless\"\n",
    "            }\n",
    "          }\n",
    "        },\n",
    "        \"4\": {\n",
    "          \"sum\": {\n",
    "            \"script\": {\n",
    "              \"inline\": \"double core=doc['actualcorecount'].value; double wall_time=doc['wall_time'].value;if (core>0) {return (wall_time * core)/(3600*24)} else {return (wall_time)/(3600*24)}\",\n",
    "              \"lang\": \"painless\"\n",
    "            }\n",
    "          }\n",
    "        }\n",
    "      }\n",
    "    }\n",
    "  },\n",
    "  \"_source\": {\n",
    "    \"excludes\": []\n",
    "  },\n",
    "  \"highlight\": {\n",
    "    \"pre_tags\": [\n",
    "      \"@kibana-highlighted-field@\"\n",
    "    ],\n",
    "    \"post_tags\": [\n",
    "      \"@/kibana-highlighted-field@\"\n",
    "    ],\n",
    "    \"fields\": {\n",
    "      \"*\": {\n",
    "        \"highlight_query\": {\n",
    "          \"bool\": {\n",
    "            \"must\": [\n",
    "              {\n",
    "                \"query_string\": {\n",
    "                  \"query\": \"modificationhost:(/.*lwn1[2-4][0-9].ihep.ac.cn/ OR /.*lwn15[0-2].ihep.ac.cn/ )\",\n",
    "                  \"analyze_wildcard\": true,\n",
    "                  \"lowercase_expanded_terms\": false,\n",
    "                  \"all_fields\": true\n",
    "                }\n",
    "              },\n",
    "              {\n",
    "                \"range\": {\n",
    "                  \"modificationtime\": {\n",
    "                    \"gte\": stime,\n",
    "                    \"lte\": etime,\n",
    "                    \"format\": \"epoch_millis\"\n",
    "                  }\n",
    "                }\n",
    "              }\n",
    "            ],\n",
    "            \"must_not\": []\n",
    "          }\n",
    "        }\n",
    "      }\n",
    "    },\n",
    "    \"fragment_size\": 2147483647\n",
    "  }\n",
    "}\n",
    "res = es.search(index=ind, body=my_query, request_timeout=12000)\n",
    "#print(res)\n",
    "site_res={}\n",
    "site_res[\"cpu_days\"]={}\n",
    "site_res[\"wall_days\"]={}\n",
    "buckets=res['aggregations']['2']['buckets']\n",
    "for i in range(len(buckets)):\n",
    "    sitename=buckets[i]['key']\n",
    "    walltime=buckets[i][\"4\"]['value']\n",
    "    cputime=buckets[i][\"3\"]['value']\n",
    "    print(sitename,walltime,cputime)\n",
    "    #site_res[sitename]={}\n",
    "    #site_res[sitename]=[cputime,walltime]\n",
    "    site_res[\"cpu_days\"][sitename]=cputime/last_days\n",
    "    site_res[\"wall_days\"][sitename]=walltime/last_days\n",
    "    \n",
    "\n",
    "\n",
    "print(site_res)"
   ]
  },
  {
   "cell_type": "markdown",
   "metadata": {
    "collapsed": true
   },
   "source": [
    "### now we want to find all the jobs of this taskid"
   ]
  },
  {
   "cell_type": "code",
   "execution_count": null,
   "metadata": {
    "collapsed": true
   },
   "outputs": [],
   "source": []
  },
  {
   "cell_type": "code",
   "execution_count": 2,
   "metadata": {},
   "outputs": [
    {
     "data": {
      "image/png": "[encoded data removed]",
      "text/plain": [
       "<matplotlib.figure.Figure at 0x7fc01c17c2b0>"
      ]
     },
     "metadata": {},
     "output_type": "display_data"
    }
   ],
   "source": [
    "l=time.localtime()[0:3]\n",
    "today=\"/\".join(map(str,l))\n",
    "col=site_res.keys()\n",
    "df=pd.DataFrame(site_res)\n",
    "#print(df)\n",
    "#print(df[:3])\n",
    "total_cpu=df.sum()[\"cpu_days\"]\n",
    "grid_wall=df.iloc[:3].sum()[\"wall_days\"]\n",
    "grid_cpu=df.iloc[:3].sum()[\"cpu_days\"]\n",
    "cpu_util=total_cpu/avail_cpu\n",
    "grid_wall_util=grid_wall/avail_cpu\n",
    "grid_cpu_util=grid_cpu/avail_cpu\n",
    "boinc_cpu_util=cpu_util-grid_cpu_util\n",
    "#boinc_cpu_util=df[4][\"cpu_days\"]/avail_cpu\n",
    "#print(total_cpu, grid_wall,cpu_util,grid_wall_util,grid_cpu_util,boinc_cpu_util)\n",
    "dlist=[[grid_cpu_util,boinc_cpu_util,cpu_util],[grid_wall_util,0,0]]\n",
    "df2=pd.DataFrame(dlist,index=[\"CPU Utilization\",\"Wall Utilization\"],columns=[\"GRID\",\"BOINC\",\"Total\"])\n",
    "df2=df2.applymap(lambda x:\"%.0f%%\"%(x*100))\n",
    "#print(df2)\n",
    "\n",
    "fig, ax = plt.subplots(1, 1)\n",
    "plt.title(\"BEIJING CPU Utilization(%d CPUs in %d days)\\n generated at %s\"%(avail_cpu,last_days,today))\n",
    "table(ax,df2,loc=\"upper center\",colWidths=[0.15, 0.15, 0.15])\n",
    "df.plot(ax=ax,kind=\"bar\",grid=False,figsize=(10,5),ylim=(0,400),rot=1)\n",
    "ax.set_xlabel(\"PanDA Queue\")\n",
    "ax.set_ylabel(\"daily CPU/Wall days\")\n",
    "\n",
    "fig.savefig(\"beijing.png\")\n"
   ]
  },
  {
   "cell_type": "code",
   "execution_count": null,
   "metadata": {
    "collapsed": true
   },
   "outputs": [],
   "source": []
  },
  {
   "cell_type": "code",
   "execution_count": null,
   "metadata": {
    "collapsed": true
   },
   "outputs": [],
   "source": []
  },
  {
   "cell_type": "code",
   "execution_count": null,
   "metadata": {
    "collapsed": true
   },
   "outputs": [],
   "source": []
  }
 ],
 "metadata": {
  "kernelspec": {
   "display_name": "Python 3",
   "language": "python",
   "name": "python3"
  },
  "language_info": {
   "codemirror_mode": {
    "name": "ipython",
    "version": 3
   },
   "file_extension": ".py",
   "mimetype": "text/x-python",
   "name": "python",
   "nbconvert_exporter": "python",
   "pygments_lexer": "ipython3",
   "version": "3.4.5"
  }
 },
 "nbformat": 4,
 "nbformat_minor": 2
}
