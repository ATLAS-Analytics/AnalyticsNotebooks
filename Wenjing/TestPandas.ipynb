{
 "cells": [
  {
   "cell_type": "markdown",
   "metadata": {},
   "source": [
    "# access the values of the dataframe\n",
    "create a data frame, df.head() only print when it is the last line of the code\n",
    "differences among df.A, df[[\"A\"]] and df[\"A\"]\n",
    "df.A.values, df.A.values.flatten(), df.A.values.reshape(-1,1)"
   ]
  },
  {
   "cell_type": "code",
   "execution_count": 9,
   "metadata": {},
   "outputs": [
    {
     "name": "stdout",
     "output_type": "stream",
     "text": [
      "Index(['a', 'b', 'c', 'd'], dtype='object')\n",
      "Index(['A', 'B', 'C'], dtype='object')\n",
      "type of df.A  <class 'pandas.core.series.Series'>\n",
      "type of df[A]: <class 'pandas.core.series.Series'>\n",
      "type of df[[A]]: <class 'pandas.core.frame.DataFrame'>\n",
      "df.A\n",
      " a    0.689437\n",
      "b   -0.637361\n",
      "c   -0.274302\n",
      "d   -0.226661\n",
      "Name: A, dtype: float64\n",
      "df[[\"A\"]]\n",
      "           A\n",
      "a  0.689437\n",
      "b -0.637361\n",
      "c -0.274302\n",
      "d -0.226661\n",
      "df.A.values: [ 0.68943677 -0.63736132 -0.27430161 -0.22666125]\n",
      "type of df.A.values: <class 'numpy.ndarray'>\n",
      "df[A,B] values:\n",
      " [[ 0.68943677 -0.40878162]\n",
      " [-0.63736132  0.84327901]\n",
      " [-0.27430161 -0.94055412]\n",
      " [-0.22666125 -0.22101915]]\n",
      "flatten: [ 0.68943677 -0.40878162 -0.63736132  0.84327901 -0.27430161 -0.94055412\n",
      " -0.22666125 -0.22101915]\n",
      "type of flatten: <class 'numpy.ndarray'>\n",
      "reshape of df[A,B]\n",
      " [[ 0.68943677]\n",
      " [-0.40878162]\n",
      " [-0.63736132]\n",
      " [ 0.84327901]\n",
      " [-0.27430161]\n",
      " [-0.94055412]\n",
      " [-0.22666125]\n",
      " [-0.22101915]]\n",
      "type of reshape: <class 'numpy.ndarray'>\n",
      "df.values [[ 0.68943677 -0.40878162 -1.55529943]\n",
      " [-0.63736132  0.84327901 -0.91492204]\n",
      " [-0.27430161 -0.94055412  0.52618349]\n",
      " [-0.22666125 -0.22101915 -0.23081197]]\n"
     ]
    },
    {
     "data": {
      "text/html": [
       "<div>\n",
       "<style scoped>\n",
       "    .dataframe tbody tr th:only-of-type {\n",
       "        vertical-align: middle;\n",
       "    }\n",
       "\n",
       "    .dataframe tbody tr th {\n",
       "        vertical-align: top;\n",
       "    }\n",
       "\n",
       "    .dataframe thead th {\n",
       "        text-align: right;\n",
       "    }\n",
       "</style>\n",
       "<table border=\"1\" class=\"dataframe\">\n",
       "  <thead>\n",
       "    <tr style=\"text-align: right;\">\n",
       "      <th></th>\n",
       "      <th>A</th>\n",
       "      <th>B</th>\n",
       "      <th>C</th>\n",
       "    </tr>\n",
       "  </thead>\n",
       "  <tbody>\n",
       "    <tr>\n",
       "      <th>a</th>\n",
       "      <td>0.689437</td>\n",
       "      <td>-0.408782</td>\n",
       "      <td>-1.555299</td>\n",
       "    </tr>\n",
       "    <tr>\n",
       "      <th>b</th>\n",
       "      <td>-0.637361</td>\n",
       "      <td>0.843279</td>\n",
       "      <td>-0.914922</td>\n",
       "    </tr>\n",
       "  </tbody>\n",
       "</table>\n",
       "</div>"
      ],
      "text/plain": [
       "          A         B         C\n",
       "a  0.689437 -0.408782 -1.555299\n",
       "b -0.637361  0.843279 -0.914922"
      ]
     },
     "execution_count": 9,
     "metadata": {},
     "output_type": "execute_result"
    }
   ],
   "source": [
    "import numpy as np\n",
    "import pandas as pd\n",
    "df=pd.DataFrame(np.random.randn(4,3),columns=[\"A\",\"B\",\"C\"],index=list(\"abcd\"))\n",
    "print(df.index)\n",
    "print(df.columns)\n",
    "\n",
    "print(\"type of df.A \",type(df.A))\n",
    "print(\"type of df[A]:\",type(df[\"A\"]))\n",
    "print(\"type of df[[A]]:\",type(df[[\"A\"]]))\n",
    "print(\"df.A\\n\",df.A)\n",
    "print(\"df[[\\\"A\\\"]]\\n\",df[[\"A\"]])\n",
    "\n",
    "print(\"df.A.values:\",df.A.values)\n",
    "print(\"type of df.A.values:\",type(df.A.values))\n",
    "\n",
    "print(\"df[A,B] values:\\n\",df[[\"A\",\"B\"]].values)\n",
    "print(\"flatten:\",df[[\"A\",\"B\"]].values.flatten())\n",
    "print(\"type of flatten:\",type(df[[\"A\",\"B\"]].values.flatten()))\n",
    "print(\"reshape of df[A,B]\\n\",df[[\"A\",\"B\"]].values.reshape(-1,1))\n",
    "print(\"type of reshape:\",type(df[[\"A\",\"B\"]].values.reshape(-1,1)))\n",
    "print(\"df.values\",df.values)\n",
    "df.head(2)"
   ]
  },
  {
   "cell_type": "markdown",
   "metadata": {},
   "source": [
    "### df[[\"A\"]] returns a dataframe, df[\"A\"] returns a series "
   ]
  },
  {
   "cell_type": "code",
   "execution_count": 14,
   "metadata": {},
   "outputs": [
    {
     "name": "stdout",
     "output_type": "stream",
     "text": [
      "df[[\"A\"]]: type is <class 'pandas.core.frame.DataFrame'> values is  [[-0.63736132]\n",
      " [-0.27430161]\n",
      " [-0.22666125]\n",
      " [ 0.68943677]]\n",
      "df[\"A\"]: type is <class 'pandas.core.series.Series'> values is  [-0.63736132 -0.27430161 -0.22666125  0.68943677]\n"
     ]
    }
   ],
   "source": [
    "x=df[[\"A\"]]\n",
    "y=df[\"A\"]\n",
    "print('df[[\\\"A\\\"]]: type is',type(x),\"values is \",x.values)\n",
    "print(\"df[\\\"A\\\"]: type is\",type(y),\"values is \",y.values)\n"
   ]
  },
  {
   "cell_type": "markdown",
   "metadata": {},
   "source": [
    "# shuffle the dataframe \n",
    "np.random.permutation randomly sort the index of the dataframe\n",
    "df.take(x) prints the dataframe by the index x"
   ]
  },
  {
   "cell_type": "code",
   "execution_count": 13,
   "metadata": {},
   "outputs": [
    {
     "name": "stdout",
     "output_type": "stream",
     "text": [
      "type of permutation is <class 'numpy.ndarray'> x= [3 2 0 1]\n",
      "          A         B         C\n",
      "b -0.637361  0.843279 -0.914922\n",
      "c -0.274302 -0.940554  0.526183\n",
      "d -0.226661 -0.221019 -0.230812\n",
      "a  0.689437 -0.408782 -1.555299\n",
      "sample:\n",
      "           A         B         C\n",
      "d -0.226661 -0.221019 -0.230812\n",
      "c -0.274302 -0.940554  0.526183\n",
      "sample with fraction of 0.5:\n",
      "           A         B         C\n",
      "c -0.274302 -0.940554  0.526183\n",
      "b -0.637361  0.843279 -0.914922\n",
      "shuffle between 0 and 9\n",
      "[3 8 0 5 9 1 6 7 2 4]\n"
     ]
    }
   ],
   "source": [
    "x=np.random.permutation(len(df))\n",
    "print(\"type of permutation is\",type(x),\"x=\",x)\n",
    "df=df.take(x)\n",
    "print(df)\n",
    "df1=df.sample(2)\n",
    "print(\"sample:\\n\",df1)\n",
    "df1=df.sample(frac=0.5)\n",
    "print(\"sample with fraction of 0.5:\\n\",df1)\n",
    "\n",
    "print(\"shuffle between 0 and 9\")\n",
    "x=np.random.permutation(10)\n",
    "print(x)"
   ]
  },
  {
   "cell_type": "markdown",
   "metadata": {},
   "source": [
    "### dataframe sort index and values, math functions on the dataframe or series, sum/mean/std/var/max/min"
   ]
  },
  {
   "cell_type": "code",
   "execution_count": 202,
   "metadata": {},
   "outputs": [
    {
     "name": "stdout",
     "output_type": "stream",
     "text": [
      "False\n",
      "          A         B         C\n",
      "a  0.577200 -0.069997 -0.192748\n",
      "b  0.810160  1.182128  0.045512\n",
      "c  0.319142  1.709655  0.301399\n",
      "d  1.063423 -1.652487  1.701472\n",
      "          A         B         C\n",
      "c  0.319142  1.709655  0.301399\n",
      "b  0.810160  1.182128  0.045512\n",
      "a  0.577200 -0.069997 -0.192748\n",
      "d  1.063423 -1.652487  1.701472\n",
      "df.sum():\n",
      " A    2.769926\n",
      "B    1.169299\n",
      "C    1.855635\n",
      "dtype: float64\n",
      "df.max():\n",
      " A    1.063423\n",
      "B    1.709655\n",
      "C    1.701472\n",
      "dtype: float64\n",
      "df.std():\n",
      " A    0.318391\n",
      "B    1.496011\n",
      "C    0.849358\n",
      "dtype: float64\n",
      "df.var():\n",
      " A    0.101373\n",
      "B    2.238049\n",
      "C    0.721409\n",
      "dtype: float64\n",
      "df[\"A\"].sum():\n",
      " 2.76992604055\n",
      "df[[\"A\"]].sum():\n",
      " A    2.769926\n",
      "dtype: float64\n"
     ]
    },
    {
     "data": {
      "text/html": [
       "<div>\n",
       "<style>\n",
       "    .dataframe thead tr:only-child th {\n",
       "        text-align: right;\n",
       "    }\n",
       "\n",
       "    .dataframe thead th {\n",
       "        text-align: left;\n",
       "    }\n",
       "\n",
       "    .dataframe tbody tr th {\n",
       "        vertical-align: top;\n",
       "    }\n",
       "</style>\n",
       "<table border=\"1\" class=\"dataframe\">\n",
       "  <thead>\n",
       "    <tr style=\"text-align: right;\">\n",
       "      <th></th>\n",
       "      <th>A</th>\n",
       "      <th>B</th>\n",
       "      <th>C</th>\n",
       "    </tr>\n",
       "  </thead>\n",
       "  <tbody>\n",
       "    <tr>\n",
       "      <th>a</th>\n",
       "      <td>0.577200</td>\n",
       "      <td>-0.069997</td>\n",
       "      <td>-0.192748</td>\n",
       "    </tr>\n",
       "    <tr>\n",
       "      <th>d</th>\n",
       "      <td>1.063423</td>\n",
       "      <td>-1.652487</td>\n",
       "      <td>1.701472</td>\n",
       "    </tr>\n",
       "  </tbody>\n",
       "</table>\n",
       "</div>"
      ],
      "text/plain": [
       "          A         B         C\n",
       "a  0.577200 -0.069997 -0.192748\n",
       "d  1.063423 -1.652487  1.701472"
      ]
     },
     "execution_count": 202,
     "metadata": {},
     "output_type": "execute_result"
    }
   ],
   "source": [
    "print(df.empty)\n",
    "df=df.sort_index()\n",
    "print(df)\n",
    "df=df.sort_values(by=[\"B\",\"C\"],ascending=False)\n",
    "print(df)\n",
    "print(\"df.sum():\\n\",df.sum())\n",
    "print(\"df.max():\\n\",df.max())\n",
    "print(\"df.std():\\n\",df.std())\n",
    "print(\"df.var():\\n\",df.var())\n",
    "print(\"df[\\\"A\\\"].sum():\\n\",df[\"A\"].sum())\n",
    "print(\"df[[\\\"A\\\"]].sum():\\n\",df[[\"A\"]].sum())\n",
    "df.tail(2)\n"
   ]
  },
  {
   "cell_type": "markdown",
   "metadata": {},
   "source": [
    "### apply/applymap on the dataframe, map on a series(map can be only used on a series)"
   ]
  },
  {
   "cell_type": "code",
   "execution_count": 203,
   "metadata": {},
   "outputs": [
    {
     "data": {
      "text/plain": [
       "A    2.769926\n",
       "B    1.169299\n",
       "C    1.855635\n",
       "dtype: float64"
      ]
     },
     "execution_count": 203,
     "metadata": {},
     "output_type": "execute_result"
    }
   ],
   "source": [
    "df.apply(np.sum)\n"
   ]
  },
  {
   "cell_type": "markdown",
   "metadata": {},
   "source": [
    "### both apply and applymap can be used on the dataframe, however applymap is to every element, apply is to a column.\n",
    "in lambda function, x is a element for applymap, and x is a column for apply"
   ]
  },
  {
   "cell_type": "code",
   "execution_count": 204,
   "metadata": {},
   "outputs": [
    {
     "data": {
      "text/html": [
       "<div>\n",
       "<style>\n",
       "    .dataframe thead tr:only-child th {\n",
       "        text-align: right;\n",
       "    }\n",
       "\n",
       "    .dataframe thead th {\n",
       "        text-align: left;\n",
       "    }\n",
       "\n",
       "    .dataframe tbody tr th {\n",
       "        vertical-align: top;\n",
       "    }\n",
       "</style>\n",
       "<table border=\"1\" class=\"dataframe\">\n",
       "  <thead>\n",
       "    <tr style=\"text-align: right;\">\n",
       "      <th></th>\n",
       "      <th>A</th>\n",
       "      <th>B</th>\n",
       "      <th>C</th>\n",
       "    </tr>\n",
       "  </thead>\n",
       "  <tbody>\n",
       "    <tr>\n",
       "      <th>c</th>\n",
       "      <td>3.191424</td>\n",
       "      <td>17.096552</td>\n",
       "      <td>3.013989</td>\n",
       "    </tr>\n",
       "    <tr>\n",
       "      <th>b</th>\n",
       "      <td>8.101605</td>\n",
       "      <td>11.821279</td>\n",
       "      <td>0.455118</td>\n",
       "    </tr>\n",
       "    <tr>\n",
       "      <th>a</th>\n",
       "      <td>5.772001</td>\n",
       "      <td>-0.699966</td>\n",
       "      <td>-1.927475</td>\n",
       "    </tr>\n",
       "    <tr>\n",
       "      <th>d</th>\n",
       "      <td>10.634230</td>\n",
       "      <td>-16.524873</td>\n",
       "      <td>17.014722</td>\n",
       "    </tr>\n",
       "  </tbody>\n",
       "</table>\n",
       "</div>"
      ],
      "text/plain": [
       "           A          B          C\n",
       "c   3.191424  17.096552   3.013989\n",
       "b   8.101605  11.821279   0.455118\n",
       "a   5.772001  -0.699966  -1.927475\n",
       "d  10.634230 -16.524873  17.014722"
      ]
     },
     "execution_count": 204,
     "metadata": {},
     "output_type": "execute_result"
    }
   ],
   "source": [
    "df.applymap(lambda x:x*10)"
   ]
  },
  {
   "cell_type": "code",
   "execution_count": 205,
   "metadata": {},
   "outputs": [
    {
     "data": {
      "text/plain": [
       "A    0.744281\n",
       "B    3.362142\n",
       "C    1.894220\n",
       "dtype: float64"
      ]
     },
     "execution_count": 205,
     "metadata": {},
     "output_type": "execute_result"
    }
   ],
   "source": [
    "df.apply(lambda x:x.max()-x.min())"
   ]
  },
  {
   "cell_type": "markdown",
   "metadata": {},
   "source": [
    "# map: in lamdba , x is an element"
   ]
  },
  {
   "cell_type": "code",
   "execution_count": 206,
   "metadata": {},
   "outputs": [
    {
     "data": {
      "text/plain": [
       "c     3.191424\n",
       "b     8.101605\n",
       "a     5.772001\n",
       "d    10.634230\n",
       "Name: A, dtype: float64"
      ]
     },
     "execution_count": 206,
     "metadata": {},
     "output_type": "execute_result"
    }
   ],
   "source": [
    "df[\"A\"].map(lambda x:x*10)"
   ]
  },
  {
   "cell_type": "markdown",
   "metadata": {},
   "source": [
    "### locations:  loc is to access a slice of dataframe, loc[x,y] where x and y are labels, the form of x or y can be \"label1\":\"lable2\":step, [\"label1\",\"label2\"]; at[i,j] where i and j are labels,  at is to access an unique element in the dataframe\n",
    "references: http://pandas.pydata.org/pandas-docs/stable/indexing.html\n"
   ]
  },
  {
   "cell_type": "code",
   "execution_count": 207,
   "metadata": {},
   "outputs": [
    {
     "name": "stdout",
     "output_type": "stream",
     "text": [
      "Empty DataFrame\n",
      "Columns: [A, B, C]\n",
      "Index: []\n",
      "        A         C\n",
      "a  0.5772 -0.192748\n",
      "          A         C\n",
      "c  0.319142  0.301399\n",
      "b  0.810160  0.045512\n",
      "a  0.577200 -0.192748\n",
      "d  1.063423  1.701472\n",
      "<class 'pandas.core.series.Series'>\n",
      "<class 'pandas.core.frame.DataFrame'>\n",
      "c    0.319142\n",
      "b    0.810160\n",
      "a    0.577200\n",
      "d    1.063423\n",
      "Name: A, dtype: float64\n",
      "<class 'pandas.core.frame.DataFrame'>           A\n",
      "a  0.577200\n",
      "d  1.063423\n",
      "<class 'pandas.core.series.Series'> A    0.577200\n",
      "B   -0.069997\n",
      "C   -0.192748\n",
      "Name: a, dtype: float64\n",
      "<class 'numpy.float64'> -0.192747512327\n",
      "<class 'numpy.float64'> -0.192747512327\n"
     ]
    },
    {
     "data": {
      "text/html": [
       "<div>\n",
       "<style>\n",
       "    .dataframe thead tr:only-child th {\n",
       "        text-align: right;\n",
       "    }\n",
       "\n",
       "    .dataframe thead th {\n",
       "        text-align: left;\n",
       "    }\n",
       "\n",
       "    .dataframe tbody tr th {\n",
       "        vertical-align: top;\n",
       "    }\n",
       "</style>\n",
       "<table border=\"1\" class=\"dataframe\">\n",
       "  <thead>\n",
       "    <tr style=\"text-align: right;\">\n",
       "      <th></th>\n",
       "      <th>A</th>\n",
       "      <th>B</th>\n",
       "      <th>C</th>\n",
       "    </tr>\n",
       "  </thead>\n",
       "  <tbody>\n",
       "    <tr>\n",
       "      <th>c</th>\n",
       "      <td>0.319142</td>\n",
       "      <td>1.709655</td>\n",
       "      <td>0.301399</td>\n",
       "    </tr>\n",
       "    <tr>\n",
       "      <th>b</th>\n",
       "      <td>0.810160</td>\n",
       "      <td>1.182128</td>\n",
       "      <td>0.045512</td>\n",
       "    </tr>\n",
       "    <tr>\n",
       "      <th>a</th>\n",
       "      <td>0.577200</td>\n",
       "      <td>-0.069997</td>\n",
       "      <td>-0.192748</td>\n",
       "    </tr>\n",
       "    <tr>\n",
       "      <th>d</th>\n",
       "      <td>1.063423</td>\n",
       "      <td>-1.652487</td>\n",
       "      <td>1.701472</td>\n",
       "    </tr>\n",
       "  </tbody>\n",
       "</table>\n",
       "</div>"
      ],
      "text/plain": [
       "          A         B         C\n",
       "c  0.319142  1.709655  0.301399\n",
       "b  0.810160  1.182128  0.045512\n",
       "a  0.577200 -0.069997 -0.192748\n",
       "d  1.063423 -1.652487  1.701472"
      ]
     },
     "execution_count": 207,
     "metadata": {},
     "output_type": "execute_result"
    }
   ],
   "source": [
    "print(df.loc[\"a\":\"c\",:])\n",
    "print(df.loc[\"a\":\"d\":2,[\"A\",\"C\"]])\n",
    "print(df.loc[:,\"A\":\"C\":2])\n",
    "x=df.loc[\"a\"]\n",
    "print(type(x))\n",
    "x=df.loc[[\"a\"]]\n",
    "print(type(x))\n",
    "print(df.A)\n",
    "x=df.loc[[\"a\",\"d\"],[\"A\"]]\n",
    "print(type(x),x)\n",
    "\n",
    "#loc[label1] returns a series, loc[label1,label2] returns a scalar\n",
    "x=df.loc[\"a\"]\n",
    "print(type(x),x)\n",
    "x=df.loc[\"a\",\"C\"]\n",
    "print(type(x),x)\n",
    "x=df.at[\"a\",\"C\"]\n",
    "print(type(x),x)\n",
    "df.head()"
   ]
  },
  {
   "cell_type": "markdown",
   "metadata": {},
   "source": [
    "### locations: iloc is to access a slice of dataframe, iloc[x,y] where x and y are integer slices, the form of x or y can be n1:n2:step, [n1,n2],n1 (returns a series); iat[i,j] where i and j are integers, iat is to access an unique element in the dataframe"
   ]
  },
  {
   "cell_type": "code",
   "execution_count": 208,
   "metadata": {},
   "outputs": [
    {
     "name": "stdout",
     "output_type": "stream",
     "text": [
      "          A         B         C\n",
      "b  0.810160  1.182128  0.045512\n",
      "a  0.577200 -0.069997 -0.192748\n",
      "d  1.063423 -1.652487  1.701472\n",
      "          B         C\n",
      "c  1.709655  0.301399\n",
      "a -0.069997 -0.192748\n",
      "          B\n",
      "c  1.709655\n",
      "d -1.652487\n",
      "          A         B\n",
      "c  0.319142  1.709655\n",
      "b  0.810160  1.182128\n",
      "a  0.577200 -0.069997\n",
      "d  1.063423 -1.652487\n",
      "A    0.810160\n",
      "B    1.182128\n",
      "C    0.045512\n",
      "Name: b, dtype: float64\n",
      "<class 'pandas.core.series.Series'> c    0.301399\n",
      "b    0.045512\n",
      "a   -0.192748\n",
      "d    1.701472\n",
      "Name: C, dtype: float64\n",
      "<class 'numpy.float64'> 0.0455118319982\n",
      "<class 'numpy.float64'> 0.0455118319982\n"
     ]
    },
    {
     "data": {
      "text/html": [
       "<div>\n",
       "<style>\n",
       "    .dataframe thead tr:only-child th {\n",
       "        text-align: right;\n",
       "    }\n",
       "\n",
       "    .dataframe thead th {\n",
       "        text-align: left;\n",
       "    }\n",
       "\n",
       "    .dataframe tbody tr th {\n",
       "        vertical-align: top;\n",
       "    }\n",
       "</style>\n",
       "<table border=\"1\" class=\"dataframe\">\n",
       "  <thead>\n",
       "    <tr style=\"text-align: right;\">\n",
       "      <th></th>\n",
       "      <th>A</th>\n",
       "      <th>B</th>\n",
       "      <th>C</th>\n",
       "    </tr>\n",
       "  </thead>\n",
       "  <tbody>\n",
       "    <tr>\n",
       "      <th>c</th>\n",
       "      <td>0.319142</td>\n",
       "      <td>1.709655</td>\n",
       "      <td>0.301399</td>\n",
       "    </tr>\n",
       "    <tr>\n",
       "      <th>b</th>\n",
       "      <td>0.810160</td>\n",
       "      <td>1.182128</td>\n",
       "      <td>0.045512</td>\n",
       "    </tr>\n",
       "    <tr>\n",
       "      <th>a</th>\n",
       "      <td>0.577200</td>\n",
       "      <td>-0.069997</td>\n",
       "      <td>-0.192748</td>\n",
       "    </tr>\n",
       "    <tr>\n",
       "      <th>d</th>\n",
       "      <td>1.063423</td>\n",
       "      <td>-1.652487</td>\n",
       "      <td>1.701472</td>\n",
       "    </tr>\n",
       "  </tbody>\n",
       "</table>\n",
       "</div>"
      ],
      "text/plain": [
       "          A         B         C\n",
       "c  0.319142  1.709655  0.301399\n",
       "b  0.810160  1.182128  0.045512\n",
       "a  0.577200 -0.069997 -0.192748\n",
       "d  1.063423 -1.652487  1.701472"
      ]
     },
     "execution_count": 208,
     "metadata": {},
     "output_type": "execute_result"
    }
   ],
   "source": [
    "print(df.iloc[1:5,:])\n",
    "print(df.iloc[0:100:2,1:])\n",
    "print(df.iloc[[0,3],1:100:2])\n",
    "print(df.iloc[:,[0,1]])\n",
    "#iloc[n1,:] or iloc[:,n1] returns a series\n",
    "print(df.iloc[1])\n",
    "x=df.iloc[:,2]\n",
    "print(type(x),x)\n",
    "\n",
    "#iloc[n1,n2] is the same as iat[n1,n2]\n",
    "x=df.iloc[1,2]\n",
    "print(type(x),x)\n",
    "x=df.iat[1,2]\n",
    "print(type(x),x)\n",
    "df.head()"
   ]
  },
  {
   "cell_type": "code",
   "execution_count": 37,
   "metadata": {},
   "outputs": [
    {
     "name": "stdout",
     "output_type": "stream",
     "text": [
      "df[1:3:2]\n",
      "           A         B         C\n",
      "b  0.897589  0.361976 -1.018269\n",
      "df.iloc[1:3:2]\n",
      "           A         B         C\n",
      "b  0.897589  0.361976 -1.018269\n",
      "df[1:3][\"A\"]:\n",
      " b    0.897589\n",
      "c   -0.093403\n",
      "Name: A, dtype: float64\n",
      "type of df[1:3][A]:\n",
      " <class 'pandas.core.series.Series'> [ 0.89758893 -0.09340305]\n"
     ]
    }
   ],
   "source": [
    "print(\"df[1:3:2]\\n\",df[1:3:2])\n",
    "print(\"df.iloc[1:3:2]\\n\",df.iloc[1:3:2])\n",
    "print(\"df[1:3][\\\"A\\\"]:\\n\",df[1:3][\"A\"])\n",
    "print(\"type of df[1:3][A]:\\n\",type(df[1:3][\"A\"]),df[1:3][\"A\"].values)"
   ]
  },
  {
   "cell_type": "markdown",
   "metadata": {},
   "source": [
    "### add or edit a row to a dataframe, use loc[lable1] or iloc[n1] which refers to a series"
   ]
  },
  {
   "cell_type": "code",
   "execution_count": 15,
   "metadata": {},
   "outputs": [
    {
     "name": "stdout",
     "output_type": "stream",
     "text": [
      "          A         B         C\n",
      "b -0.637361  0.843279 -0.914922\n",
      "c -0.274302 -0.940554  0.526183\n",
      "d -0.226661 -0.221019 -0.230812\n",
      "a  2.000000  4.000000  5.000000\n",
      "e  1.000000  2.000000  3.000000\n"
     ]
    },
    {
     "data": {
      "text/html": [
       "<div>\n",
       "<style scoped>\n",
       "    .dataframe tbody tr th:only-of-type {\n",
       "        vertical-align: middle;\n",
       "    }\n",
       "\n",
       "    .dataframe tbody tr th {\n",
       "        vertical-align: top;\n",
       "    }\n",
       "\n",
       "    .dataframe thead th {\n",
       "        text-align: right;\n",
       "    }\n",
       "</style>\n",
       "<table border=\"1\" class=\"dataframe\">\n",
       "  <thead>\n",
       "    <tr style=\"text-align: right;\">\n",
       "      <th></th>\n",
       "      <th>A</th>\n",
       "      <th>B</th>\n",
       "      <th>C</th>\n",
       "    </tr>\n",
       "  </thead>\n",
       "  <tbody>\n",
       "    <tr>\n",
       "      <th>b</th>\n",
       "      <td>-0.637361</td>\n",
       "      <td>0.843279</td>\n",
       "      <td>-0.914922</td>\n",
       "    </tr>\n",
       "    <tr>\n",
       "      <th>c</th>\n",
       "      <td>-0.274302</td>\n",
       "      <td>-0.940554</td>\n",
       "      <td>0.526183</td>\n",
       "    </tr>\n",
       "    <tr>\n",
       "      <th>d</th>\n",
       "      <td>-0.226661</td>\n",
       "      <td>-0.221019</td>\n",
       "      <td>-0.230812</td>\n",
       "    </tr>\n",
       "    <tr>\n",
       "      <th>a</th>\n",
       "      <td>2.000000</td>\n",
       "      <td>4.000000</td>\n",
       "      <td>5.000000</td>\n",
       "    </tr>\n",
       "    <tr>\n",
       "      <th>e</th>\n",
       "      <td>3.000000</td>\n",
       "      <td>8.000000</td>\n",
       "      <td>1.000000</td>\n",
       "    </tr>\n",
       "  </tbody>\n",
       "</table>\n",
       "</div>"
      ],
      "text/plain": [
       "          A         B         C\n",
       "b -0.637361  0.843279 -0.914922\n",
       "c -0.274302 -0.940554  0.526183\n",
       "d -0.226661 -0.221019 -0.230812\n",
       "a  2.000000  4.000000  5.000000\n",
       "e  3.000000  8.000000  1.000000"
      ]
     },
     "execution_count": 15,
     "metadata": {},
     "output_type": "execute_result"
    }
   ],
   "source": [
    "#loc can be used to add a new row or edit an existing row\n",
    "df.loc[\"e\"]=dict(A=1,B=2,C=3)\n",
    "df.loc[\"a\"]=dict(A=2,B=4,C=5)\n",
    "print(df)\n",
    "# iloc can be used to edit an existing row\n",
    "df.iloc[len(df.index)-1]=dict(A=3,B=8,C=1)\n",
    "df.head()"
   ]
  },
  {
   "cell_type": "markdown",
   "metadata": {},
   "source": [
    "### edit or add a column to a dataframe, df.A to edit a column, df[\"A\"] to add a new one"
   ]
  },
  {
   "cell_type": "code",
   "execution_count": 18,
   "metadata": {},
   "outputs": [
    {
     "name": "stdout",
     "output_type": "stream",
     "text": [
      "   A         B         C  F\n",
      "b  1  0.843279 -0.914922  2\n",
      "c  1 -0.940554  0.526183  2\n",
      "d  1 -0.221019 -0.230812  2\n",
      "a  1  4.000000  5.000000  2\n",
      "e  1  8.000000  1.000000  2\n",
      "after df.A.dropna()\n",
      " b    1\n",
      "c    1\n",
      "d    1\n",
      "a    1\n",
      "e    1\n",
      "Name: A, dtype: int64\n",
      "after df.dropna()\n",
      " Empty DataFrame\n",
      "Columns: [A, B, C, F]\n",
      "Index: []\n"
     ]
    },
    {
     "data": {
      "text/html": [
       "<div>\n",
       "<style scoped>\n",
       "    .dataframe tbody tr th:only-of-type {\n",
       "        vertical-align: middle;\n",
       "    }\n",
       "\n",
       "    .dataframe tbody tr th {\n",
       "        vertical-align: top;\n",
       "    }\n",
       "\n",
       "    .dataframe thead th {\n",
       "        text-align: right;\n",
       "    }\n",
       "</style>\n",
       "<table border=\"1\" class=\"dataframe\">\n",
       "  <thead>\n",
       "    <tr style=\"text-align: right;\">\n",
       "      <th></th>\n",
       "      <th>A</th>\n",
       "      <th>B</th>\n",
       "      <th>C</th>\n",
       "      <th>F</th>\n",
       "    </tr>\n",
       "  </thead>\n",
       "  <tbody>\n",
       "    <tr>\n",
       "      <th>b</th>\n",
       "      <td>1</td>\n",
       "      <td>0.843279</td>\n",
       "      <td>-0.914922</td>\n",
       "      <td>NaN</td>\n",
       "    </tr>\n",
       "    <tr>\n",
       "      <th>c</th>\n",
       "      <td>1</td>\n",
       "      <td>-0.940554</td>\n",
       "      <td>0.526183</td>\n",
       "      <td>NaN</td>\n",
       "    </tr>\n",
       "    <tr>\n",
       "      <th>d</th>\n",
       "      <td>1</td>\n",
       "      <td>-0.221019</td>\n",
       "      <td>-0.230812</td>\n",
       "      <td>NaN</td>\n",
       "    </tr>\n",
       "    <tr>\n",
       "      <th>a</th>\n",
       "      <td>1</td>\n",
       "      <td>4.000000</td>\n",
       "      <td>5.000000</td>\n",
       "      <td>NaN</td>\n",
       "    </tr>\n",
       "    <tr>\n",
       "      <th>e</th>\n",
       "      <td>1</td>\n",
       "      <td>8.000000</td>\n",
       "      <td>1.000000</td>\n",
       "      <td>NaN</td>\n",
       "    </tr>\n",
       "  </tbody>\n",
       "</table>\n",
       "</div>"
      ],
      "text/plain": [
       "   A         B         C   F\n",
       "b  1  0.843279 -0.914922 NaN\n",
       "c  1 -0.940554  0.526183 NaN\n",
       "d  1 -0.221019 -0.230812 NaN\n",
       "a  1  4.000000  5.000000 NaN\n",
       "e  1  8.000000  1.000000 NaN"
      ]
     },
     "execution_count": 18,
     "metadata": {},
     "output_type": "execute_result"
    }
   ],
   "source": [
    "df.A=[1]*len(df.index)\n",
    "df[\"F\"]=[2]*len(df.index)\n",
    "print(df)\n",
    "df[\"F\"]=np.nan\n",
    "print(\"after df.A.dropna()\\n\",df.A.dropna())\n",
    "print(\"after df.dropna()\\n\",df.dropna())\n",
    "df.head()"
   ]
  },
  {
   "cell_type": "markdown",
   "metadata": {},
   "source": [
    "### shape,dropna, fillna,drop_dupicates"
   ]
  },
  {
   "cell_type": "code",
   "execution_count": 19,
   "metadata": {},
   "outputs": [
    {
     "name": "stdout",
     "output_type": "stream",
     "text": [
      "   A         B         C   F\n",
      "b  1  0.843279 -0.914922 NaN\n",
      "c  1 -0.940554  0.526183 NaN\n",
      "d  1 -0.221019 -0.230812 NaN\n",
      "a  1  4.000000  5.000000 NaN\n",
      "e  1  8.000000  1.000000 NaN\n",
      "set the first row to na:\n",
      "\n",
      "after dropna:\n",
      " Empty DataFrame\n",
      "Columns: [A, B, C, F]\n",
      "Index: []\n",
      "after fillna:\n",
      "      A         B         C    F\n",
      "b  0.0  0.000000  0.000000  0.0\n",
      "c  1.0 -0.940554  0.526183  0.0\n",
      "d  1.0 -0.221019 -0.230812  0.0\n",
      "a  1.0  4.000000  5.000000  0.0\n",
      "e  1.0  8.000000  1.000000  0.0\n",
      "df.mean\n",
      " A    1.000000\n",
      "B    2.709607\n",
      "C    1.573843\n",
      "F         NaN\n",
      "dtype: float64\n",
      "after fillna with mean of each column:\n",
      "      A         B         C   F\n",
      "b  1.0  2.709607  1.573843 NaN\n",
      "c  1.0 -0.940554  0.526183 NaN\n",
      "d  1.0 -0.221019 -0.230812 NaN\n",
      "a  1.0  4.000000  5.000000 NaN\n",
      "e  1.0  8.000000  1.000000 NaN\n"
     ]
    },
    {
     "data": {
      "text/html": [
       "<div>\n",
       "<style scoped>\n",
       "    .dataframe tbody tr th:only-of-type {\n",
       "        vertical-align: middle;\n",
       "    }\n",
       "\n",
       "    .dataframe tbody tr th {\n",
       "        vertical-align: top;\n",
       "    }\n",
       "\n",
       "    .dataframe thead th {\n",
       "        text-align: right;\n",
       "    }\n",
       "</style>\n",
       "<table border=\"1\" class=\"dataframe\">\n",
       "  <thead>\n",
       "    <tr style=\"text-align: right;\">\n",
       "      <th></th>\n",
       "      <th>A</th>\n",
       "      <th>B</th>\n",
       "      <th>C</th>\n",
       "      <th>F</th>\n",
       "    </tr>\n",
       "  </thead>\n",
       "  <tbody>\n",
       "    <tr>\n",
       "      <th>b</th>\n",
       "      <td>NaN</td>\n",
       "      <td>NaN</td>\n",
       "      <td>NaN</td>\n",
       "      <td>NaN</td>\n",
       "    </tr>\n",
       "    <tr>\n",
       "      <th>c</th>\n",
       "      <td>1.0</td>\n",
       "      <td>-0.940554</td>\n",
       "      <td>0.526183</td>\n",
       "      <td>NaN</td>\n",
       "    </tr>\n",
       "    <tr>\n",
       "      <th>d</th>\n",
       "      <td>1.0</td>\n",
       "      <td>-0.221019</td>\n",
       "      <td>-0.230812</td>\n",
       "      <td>NaN</td>\n",
       "    </tr>\n",
       "    <tr>\n",
       "      <th>a</th>\n",
       "      <td>1.0</td>\n",
       "      <td>4.000000</td>\n",
       "      <td>5.000000</td>\n",
       "      <td>NaN</td>\n",
       "    </tr>\n",
       "    <tr>\n",
       "      <th>e</th>\n",
       "      <td>1.0</td>\n",
       "      <td>8.000000</td>\n",
       "      <td>1.000000</td>\n",
       "      <td>NaN</td>\n",
       "    </tr>\n",
       "  </tbody>\n",
       "</table>\n",
       "</div>"
      ],
      "text/plain": [
       "     A         B         C   F\n",
       "b  NaN       NaN       NaN NaN\n",
       "c  1.0 -0.940554  0.526183 NaN\n",
       "d  1.0 -0.221019 -0.230812 NaN\n",
       "a  1.0  4.000000  5.000000 NaN\n",
       "e  1.0  8.000000  1.000000 NaN"
      ]
     },
     "execution_count": 19,
     "metadata": {},
     "output_type": "execute_result"
    }
   ],
   "source": [
    "print(df)\n",
    "df[[\"A\",\"B\"]].drop_duplicates()\n",
    "\n",
    "print(\"set the first row to na:\\n\")\n",
    "df[0:1]=np.nan\n",
    "print(\"after dropna:\\n\",df.dropna())\n",
    "print(\"after fillna:\\n\",df.fillna(0))\n",
    "print(\"df.mean\\n\",df.mean())\n",
    "values=dict(df.mean())\n",
    "print(\"after fillna with mean of each column:\\n\",df.fillna(values))\n",
    "df.head()\n"
   ]
  },
  {
   "cell_type": "markdown",
   "metadata": {},
   "source": [
    "### Filter data frame, df.query will change df itself"
   ]
  },
  {
   "cell_type": "code",
   "execution_count": 35,
   "metadata": {},
   "outputs": [
    {
     "name": "stdout",
     "output_type": "stream",
     "text": [
      "          A         B         C\n",
      "a -0.248844 -0.446375  0.173550\n",
      "b  0.897589  0.361976 -1.018269\n",
      "c -0.093403 -0.341333  1.326111\n",
      "d -0.934385 -0.537837 -1.404575\n",
      "A>0 and B>0:\n",
      "           A         B         C\n",
      "b  0.897589  0.361976 -1.018269\n",
      "A>0 and B>0 with query:\n",
      "\n",
      "A   -0.094761\n",
      "B   -0.240892\n",
      "C   -0.230796\n",
      "dtype: float64 {'C': -0.23079564368840991, 'B': -0.24089241401643088, 'A': -0.094760690881148302}\n"
     ]
    }
   ],
   "source": [
    "print(df)\n",
    "\n",
    "print(\"A>0 and B>0:\\n\",df[(df[\"A\"]>0) & (df[\"B\"]>0)])\n",
    "print(\"A>0 and B>0 with query:\\n\")\n",
    "df.query(\"A>0 & B>0\")\n"
   ]
  },
  {
   "cell_type": "markdown",
   "metadata": {},
   "source": [
    "### filter rows with defined function, useful for columns with string value"
   ]
  },
  {
   "cell_type": "code",
   "execution_count": 30,
   "metadata": {},
   "outputs": [
    {
     "data": {
      "text/html": [
       "<div>\n",
       "<style>\n",
       "    .dataframe thead tr:only-child th {\n",
       "        text-align: right;\n",
       "    }\n",
       "\n",
       "    .dataframe thead th {\n",
       "        text-align: left;\n",
       "    }\n",
       "\n",
       "    .dataframe tbody tr th {\n",
       "        vertical-align: top;\n",
       "    }\n",
       "</style>\n",
       "<table border=\"1\" class=\"dataframe\">\n",
       "  <thead>\n",
       "    <tr style=\"text-align: right;\">\n",
       "      <th></th>\n",
       "      <th>host</th>\n",
       "      <th>value</th>\n",
       "    </tr>\n",
       "  </thead>\n",
       "  <tbody>\n",
       "    <tr>\n",
       "      <th>1</th>\n",
       "      <td>aws123</td>\n",
       "      <td>2</td>\n",
       "    </tr>\n",
       "    <tr>\n",
       "      <th>3</th>\n",
       "      <td>aws188</td>\n",
       "      <td>4</td>\n",
       "    </tr>\n",
       "  </tbody>\n",
       "</table>\n",
       "</div>"
      ],
      "text/plain": [
       "     host  value\n",
       "1  aws123      2\n",
       "3  aws188      4"
      ]
     },
     "execution_count": 30,
     "metadata": {},
     "output_type": "execute_result"
    }
   ],
   "source": [
    "import re\n",
    "res={\"host\":[\"lwn123.ihep.ac.cn\",\"aws123\",\"lwn139\",\"aws188\"],\"value\":[1,2,3,4]}\n",
    "df2=pd.DataFrame(res)\n",
    "def host_is_aws(hostname):\n",
    "    if re.match(r'aws.*',hostname):\n",
    "        return True\n",
    "    else:\n",
    "        return False\n",
    "df_lwn=df2[df2.host.map(host_is_aws)]\n",
    "df_lwn.head()\n"
   ]
  },
  {
   "cell_type": "markdown",
   "metadata": {},
   "source": [
    "### create a series"
   ]
  },
  {
   "cell_type": "code",
   "execution_count": 22,
   "metadata": {},
   "outputs": [
    {
     "name": "stdout",
     "output_type": "stream",
     "text": [
      "randn(3):\n",
      " [ 0.73761853  0.38936118 -0.62503918]\n",
      "randn(3,2):\n",
      " [[-0.95757614  0.45064402]\n",
      " [-0.85686485  0.91713507]\n",
      " [-0.45197337  0.16737295]]\n"
     ]
    },
    {
     "data": {
      "text/plain": [
       "A    1.319925\n",
       "B   -0.489971\n",
       "C   -0.197904\n",
       "dtype: float64"
      ]
     },
     "execution_count": 22,
     "metadata": {},
     "output_type": "execute_result"
    }
   ],
   "source": [
    "print(\"randn(3):\\n\",np.random.randn(3))\n",
    "print(\"randn(3,2):\\n\",np.random.randn(3,2))\n",
    "s=pd.Series(np.random.randn(3),index=list(\"ABC\"))\n",
    "\n",
    "s.head()"
   ]
  },
  {
   "cell_type": "code",
   "execution_count": 86,
   "metadata": {},
   "outputs": [
    {
     "name": "stdout",
     "output_type": "stream",
     "text": [
      "Axes(0.125,0.125;0.775x0.755)\n",
      "Axes(0.125,0.536818;0.775x0.343182)\n",
      "Axes(0.125,0.71587;0.775x0.16413)\n"
     ]
    },
    {
     "data": {
      "image/png": "[encoded data removed]",
      "text/plain": [
       "<matplotlib.figure.Figure at 0x7f22c87624a8>"
      ]
     },
     "metadata": {},
     "output_type": "display_data"
    }
   ],
   "source": [
    "%matplotlib inline\n",
    "import matplotlib.pyplot as plt\n",
    "\n",
    "fig=plt.figure(linewidth=20,facecolor='w')\n",
    "N=3\n",
    "#axes=fig.add_subplot(row=3,col=1)\n",
    "#print(axes)\n",
    "step=10\n",
    "i=1\n",
    "for n in range(N):\n",
    "    x=np.random.randn(4)\n",
    "    y=np.random.randn(4)\n",
    "    \n",
    "    i+=n*1\n",
    "    j=1\n",
    "    k=1\n",
    "    ax=fig.add_subplot(i,j,k)\n",
    "    print(ax)\n",
    "    #ax.set_xlabel(\"X\")\n",
    "    #ax.set_ylabel(\"Y\")\n",
    "    ax.set_title(\"scatter\")\n",
    "    ax.scatter(x=x,y=y)\n",
    "plt.xlabel(\"X\")\n",
    "plt.ylabel(\"Y\")\n",
    "plt.show()\n",
    "\n"
   ]
  },
  {
   "cell_type": "markdown",
   "metadata": {},
   "source": [
    "### https://matplotlib.org/api/_as_gen/matplotlib.figure.Figure.html#matplotlib.figure.Figure\n",
    "subplots in one figure.."
   ]
  },
  {
   "cell_type": "code",
   "execution_count": 160,
   "metadata": {},
   "outputs": [
    {
     "data": {
      "image/png": "[encoded data removed]",
      "text/plain": [
       "<matplotlib.figure.Figure at 0x7f22c86a4080>"
      ]
     },
     "metadata": {},
     "output_type": "display_data"
    }
   ],
   "source": [
    "%matplotlib inline\n",
    "import matplotlib.pyplot as plt\n",
    "\n",
    "fig,axes=plt.subplots(nrows=3,ncols=1,figsize=(10,6),sharex='row',sharey='col')\n",
    "fig.suptitle(\"Test\",fontsize=24)\n",
    "for ax in axes:\n",
    "    x=np.linspace(-10,10,100)\n",
    "    y=np.sin(x)\n",
    "    #la=ax.scatter(x=x,y=y)\n",
    "    la=ax.plot(x,y,linewidth=3)\n",
    "    plt.xlabel(\"x\",fontsize=20)\n",
    "    plt.ylabel(\"y\",fontsize=20)\n",
    "    fig.legend((la),(\"Y\"),loc=\"center\")\n",
    "fig.set_facecolor(\"r\")\n",
    "fig.savefig(\"Test.png\")"
   ]
  },
  {
   "cell_type": "markdown",
   "metadata": {},
   "source": [
    "##### map/applymap/apply on dataframe/series\n",
    "for series: map/apply , only accept functions on each element\n",
    "for dataframe: applymap/apply, they both accept functions on each element, apply accept functions on each column, such as max()\n",
    "if you want to perform on a column in a dataframe, you can transform it into a dataframe by using df[[\"column_name\"]], then use apply/applymap, or you can transform it into a series by using df.column_name or df[\"column_name\"], then use map/apply\n"
   ]
  },
  {
   "cell_type": "code",
   "execution_count": 53,
   "metadata": {},
   "outputs": [
    {
     "name": "stdout",
     "output_type": "stream",
     "text": [
      "apply on series(function on each element):\n",
      " a     8.999504\n",
      "b    13.646562\n",
      "c     0.623620\n",
      "d     1.833679\n",
      "dtype: float64\n",
      "map on series(function on each element):\n",
      " a     8.999504\n",
      "b    13.646562\n",
      "c     0.623620\n",
      "d     1.833679\n",
      "dtype: float64\n",
      "applymap does not work for series\n",
      "series does not accept function on the series):\n",
      "\n",
      "max of the series(s1.max()): 1.3646561879181756\n",
      "apply on dataframe(function on each element):\n",
      "           A          B          C\n",
      "a -2.331434  -7.260177  19.318156\n",
      "b  0.076215 -17.459272  -7.457577\n",
      "c -1.163664  -9.270715   8.927900\n",
      "d -9.992355   0.014812 -14.310620\n",
      "applymap on dataframe(function on each element):\n",
      "           A          B          C\n",
      "a -2.331434  -7.260177  19.318156\n",
      "b  0.076215 -17.459272  -7.457577\n",
      "c -1.163664  -9.270715   8.927900\n",
      "d -9.992355   0.014812 -14.310620\n",
      "map does not work for dataframe\n",
      "apply with functions on the column max-min:\n",
      " A    1.006857\n",
      "B    1.747408\n",
      "C    3.362878\n",
      "dtype: float64\n",
      "apply with functions on the column mean:\n",
      " A   -0.335281\n",
      "B   -0.849384\n",
      "C    0.161946\n",
      "dtype: float64\n",
      "applymap does not accept function on the column\n",
      "\n",
      "apply on a specific column:\n",
      " A   -0.335281\n",
      "dtype: float64\n",
      "or df1.A.mean():\n",
      " -0.3352809644836322\n"
     ]
    }
   ],
   "source": [
    "import numpy as np\n",
    "import pandas as pd\n",
    "df1=pd.DataFrame(np.random.randn(4,3),columns=list(\"ABC\"),index=list(\"abcd\"))\n",
    "s1=pd.Series(np.random.randn(4),index=list(\"abcd\"))\n",
    "print(\"apply on series(function on each element):\\n\",s1.apply(lambda x:x*10))\n",
    "print(\"map on series(function on each element):\\n\",s1.map(lambda x:x*10))\n",
    "print(\"applymap does not work for series\")\n",
    "print(\"series does not accept function on the series):\\n\")\n",
    "print(\"max of the series(s1.max()):\",s1.max())\n",
    "\n",
    "print(\"apply on dataframe(function on each element):\\n\",df1.apply(lambda x:x*10))\n",
    "print(\"applymap on dataframe(function on each element):\\n\",df1.applymap(lambda x:x*10))\n",
    "print(\"map does not work for dataframe\")\n",
    "print(\"apply with functions on the column max-min:\\n\",df1.apply(lambda x:x.max()-x.min()))\n",
    "print(\"apply with functions on the column mean:\\n\",df1.apply(lambda x:x.mean()))\n",
    "print(\"applymap does not accept function on the column\\n\")\n",
    "print(\"apply on a specific column:\\n\",df1[[\"A\"]].apply(lambda x:x.mean()))\n",
    "print(\"or df1.A.mean():\\n\",df1.A.mean())"
   ]
  },
  {
   "cell_type": "markdown",
   "metadata": {},
   "source": [
    "# na\n",
    "dropna, fillna"
   ]
  },
  {
   "cell_type": "code",
   "execution_count": 91,
   "metadata": {},
   "outputs": [
    {
     "name": "stdout",
     "output_type": "stream",
     "text": [
      "empty dataframe?: False\n",
      "set the 1st rown to be equal to the 2nd rown\n",
      "after drop_duplicates:\n",
      "           A         B         C\n",
      "a -0.045613  0.080423  0.632153\n",
      "c  0.287943 -0.449822 -1.789554\n",
      "d -0.250734  0.312972 -1.807736\n",
      "set the first row to be NaN\n",
      "after dropna:\n",
      "           A         B         C\n",
      "b -0.045613  0.080423  0.632153\n",
      "c  0.287943 -0.449822 -1.789554\n",
      "d -0.250734  0.312972 -1.807736\n",
      "fillna with a fixed number\n",
      "          A         B         C\n",
      "a  1.000000  1.000000  1.000000\n",
      "b -0.045613  0.080423  0.632153\n",
      "c  0.287943 -0.449822 -1.789554\n",
      "d -0.250734  0.312972 -1.807736\n",
      "fillna with a dict:\n",
      "          A         B         C\n",
      "a  1.000000  2.000000  3.000000\n",
      "b -0.045613  0.080423  0.632153\n",
      "c  0.287943 -0.449822 -1.789554\n",
      "d -0.250734  0.312972 -1.807736\n",
      "fillna with the mean value of each column\n",
      "          A         B         C\n",
      "a -0.002801 -0.018809 -0.988379\n",
      "b -0.045613  0.080423  0.632153\n",
      "c  0.287943 -0.449822 -1.789554\n",
      "d -0.250734  0.312972 -1.807736\n",
      "set the first column to be NaN, then drop the empty column\n"
     ]
    },
    {
     "data": {
      "text/html": [
       "<div>\n",
       "<style scoped>\n",
       "    .dataframe tbody tr th:only-of-type {\n",
       "        vertical-align: middle;\n",
       "    }\n",
       "\n",
       "    .dataframe tbody tr th {\n",
       "        vertical-align: top;\n",
       "    }\n",
       "\n",
       "    .dataframe thead th {\n",
       "        text-align: right;\n",
       "    }\n",
       "</style>\n",
       "<table border=\"1\" class=\"dataframe\">\n",
       "  <thead>\n",
       "    <tr style=\"text-align: right;\">\n",
       "      <th></th>\n",
       "      <th>A</th>\n",
       "      <th>B</th>\n",
       "      <th>C</th>\n",
       "    </tr>\n",
       "  </thead>\n",
       "  <tbody>\n",
       "    <tr>\n",
       "      <th>b</th>\n",
       "      <td>NaN</td>\n",
       "      <td>0.080423</td>\n",
       "      <td>0.632153</td>\n",
       "    </tr>\n",
       "    <tr>\n",
       "      <th>c</th>\n",
       "      <td>NaN</td>\n",
       "      <td>-0.449822</td>\n",
       "      <td>-1.789554</td>\n",
       "    </tr>\n",
       "    <tr>\n",
       "      <th>d</th>\n",
       "      <td>NaN</td>\n",
       "      <td>0.312972</td>\n",
       "      <td>-1.807736</td>\n",
       "    </tr>\n",
       "  </tbody>\n",
       "</table>\n",
       "</div>"
      ],
      "text/plain": [
       "    A         B         C\n",
       "b NaN  0.080423  0.632153\n",
       "c NaN -0.449822 -1.789554\n",
       "d NaN  0.312972 -1.807736"
      ]
     },
     "execution_count": 91,
     "metadata": {},
     "output_type": "execute_result"
    }
   ],
   "source": [
    "import numpy as np\n",
    "import pandas as pd\n",
    "df1=pd.DataFrame(np.random.randn(4,3),columns=list(\"ABC\"),index=list(\"abcd\"))\n",
    "print(\"empty dataframe?:\",df1.empty)\n",
    "\n",
    "print(\"set the 1st rown to be equal to the 2nd rown\")\n",
    "df1.iloc[0]=df1.iloc[1]\n",
    "print(\"after drop_duplicates:\\n\",df1.drop_duplicates())\n",
    "\n",
    "print(\"set the first row to be NaN\")\n",
    "#df1.loc[\"a\"]=np.NaN\n",
    "df1.iloc[0]=np.NaN\n",
    "print(\"after dropna:\\n\",df1.dropna())\n",
    "\n",
    "print(\"fillna with a fixed number\")\n",
    "print(df1.fillna(1))\n",
    "\n",
    "print(\"fillna with a dict:\")\n",
    "d=dict(A=1,B=2,C=3)\n",
    "print(df1.fillna(d))\n",
    "\n",
    "print(\"fillna with the mean value of each column\")\n",
    "fillvalue=dict(df1.mean())\n",
    "print(df1.fillna(fillvalue))\n",
    "\n",
    "print(\"set the first column to be NaN, then drop the empty column\")\n",
    "df1=df1.dropna()\n",
    "#df1.A=np.NaN\n",
    "df1.iloc[:,0]=np.NaN\n",
    "print(df1.dropna(axis=1))\n",
    "\n",
    "print(\"dropna only drops the row when all elements are NaN\")\n",
    "df1.dropna(axis=0,how=\"all\")\n",
    "\n",
    "\n"
   ]
  },
  {
   "cell_type": "code",
   "execution_count": 101,
   "metadata": {},
   "outputs": [
    {
     "name": "stdout",
     "output_type": "stream",
     "text": [
      "apply mean,max,sum,min on columns:\n",
      "              A         B         C\n",
      "mean -0.525092 -0.293915  0.686053\n",
      "max   0.675949  0.182015  1.651546\n",
      "sum  -2.100368 -1.175659  2.744213\n",
      "min  -2.084515 -0.626741 -0.250859\n",
      "prod -0.087990 -0.013315 -0.186953\n",
      "std   1.162314  0.356467  0.776837\n",
      "var   1.350973  0.127069  0.603476\n",
      "\n",
      "apply different functions on different columns\n",
      "             A         B\n",
      "mean -0.525092       NaN\n",
      "sum        NaN -1.175659\n"
     ]
    }
   ],
   "source": [
    "import numpy as np\n",
    "import pandas as pd\n",
    "df1=pd.DataFrame(np.random.randn(4,3),columns=list(\"ABC\"))\n",
    "print(\"apply mean,max,sum,min on columns:\\n\",df1.agg([\"mean\",\"max\",\"sum\",\"min\",\"prod\",\"std\",\"var\"]))\n",
    "\n",
    "print(\"\\napply different functions on different columns\")\n",
    "print(df1.agg({\"A\":[\"mean\"],\"B\":[\"sum\"]}))\n"
   ]
  },
  {
   "cell_type": "code",
   "execution_count": 102,
   "metadata": {},
   "outputs": [
    {
     "data": {
      "text/html": [
       "<div>\n",
       "<style scoped>\n",
       "    .dataframe tbody tr th:only-of-type {\n",
       "        vertical-align: middle;\n",
       "    }\n",
       "\n",
       "    .dataframe tbody tr th {\n",
       "        vertical-align: top;\n",
       "    }\n",
       "\n",
       "    .dataframe thead th {\n",
       "        text-align: right;\n",
       "    }\n",
       "</style>\n",
       "<table border=\"1\" class=\"dataframe\">\n",
       "  <thead>\n",
       "    <tr style=\"text-align: right;\">\n",
       "      <th></th>\n",
       "      <th>A</th>\n",
       "      <th>B</th>\n",
       "      <th>C</th>\n",
       "      <th>D</th>\n",
       "    </tr>\n",
       "  </thead>\n",
       "  <tbody>\n",
       "    <tr>\n",
       "      <th>0</th>\n",
       "      <td>65</td>\n",
       "      <td>74</td>\n",
       "      <td>76</td>\n",
       "      <td>99</td>\n",
       "    </tr>\n",
       "    <tr>\n",
       "      <th>1</th>\n",
       "      <td>88</td>\n",
       "      <td>12</td>\n",
       "      <td>62</td>\n",
       "      <td>21</td>\n",
       "    </tr>\n",
       "    <tr>\n",
       "      <th>2</th>\n",
       "      <td>31</td>\n",
       "      <td>42</td>\n",
       "      <td>45</td>\n",
       "      <td>26</td>\n",
       "    </tr>\n",
       "  </tbody>\n",
       "</table>\n",
       "</div>"
      ],
      "text/plain": [
       "    A   B   C   D\n",
       "0  65  74  76  99\n",
       "1  88  12  62  21\n",
       "2  31  42  45  26"
      ]
     },
     "execution_count": 102,
     "metadata": {},
     "output_type": "execute_result"
    }
   ],
   "source": [
    "import numpy as np\n",
    "import pandas as pd\n",
    "\n",
    "df1=pd.DataFrame(np.random.randint(low=10, high=100,size=(3,4)),columns=list(\"ABCD\"))\n",
    "df1"
   ]
  },
  {
   "cell_type": "code",
   "execution_count": null,
   "metadata": {
    "collapsed": true
   },
   "outputs": [],
   "source": []
  }
 ],
 "metadata": {
  "kernelspec": {
   "display_name": "Python 3",
   "language": "python",
   "name": "python3"
  },
  "language_info": {
   "codemirror_mode": {
    "name": "ipython",
    "version": 3
   },
   "file_extension": ".py",
   "mimetype": "text/x-python",
   "name": "python",
   "nbconvert_exporter": "python",
   "pygments_lexer": "ipython3",
   "version": "3.4.5"
  }
 },
 "nbformat": 4,
 "nbformat_minor": 2
}
