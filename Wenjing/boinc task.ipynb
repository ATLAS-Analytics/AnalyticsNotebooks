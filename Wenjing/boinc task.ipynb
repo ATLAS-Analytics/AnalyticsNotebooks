{
 "cells": [
  {
   "cell_type": "markdown",
   "metadata": {},
   "source": [
    "calculate the core power for BOINC tasks"
   ]
  },
  {
   "cell_type": "code",
   "execution_count": 1,
   "metadata": {
    "collapsed": true
   },
   "outputs": [],
   "source": [
    "%matplotlib inline\n",
    "import datetime\n",
    "import re\n",
    "import pandas as pd\n",
    "import numpy as np\n",
    "import matplotlib.pyplot as plt\n",
    "import math\n",
    "import re\n",
    "import time\n",
    "from elasticsearch import Elasticsearch, helpers"
   ]
  },
  {
   "cell_type": "raw",
   "metadata": {},
   "source": [
    "# Define the core power of known hosts and the days of archive data to retrieve"
   ]
  },
  {
   "cell_type": "code",
   "execution_count": 2,
   "metadata": {
    "collapsed": true
   },
   "outputs": [],
   "source": [
    "last_days=120\n",
    "Power=[{'pat':r'.*aws16.*ihep.ac.cn','pvalue':16},{'pat':r'.*lwn14.*ihep.ac.cn','pvalue':20},{'pat':r'.*aws13.*ihep.ac.cn','pvalue':8}]"
   ]
  },
  {
   "cell_type": "raw",
   "metadata": {},
   "source": [
    "# get indexed files from the last_days. "
   ]
  },
  {
   "cell_type": "code",
   "execution_count": 3,
   "metadata": {},
   "outputs": [
    {
     "name": "stdout",
     "output_type": "stream",
     "text": [
      "number of indices: 120\n"
     ]
    }
   ],
   "source": [
    "es = Elasticsearch([{'host':'atlas-kibana.mwt2.org', 'port':9200}],timeout=60)\n",
    "\n",
    "indices = es.cat.indices(index=\"jobs_archive_*\", h=\"index\", request_timeout=600).split('\\n')\n",
    "\n",
    "indices = sorted(indices)\n",
    "indices = [x for x in indices if x != '' and not x.endswith('_reindexed')]\n",
    "#print(indices)\n",
    "def time_filter(indices, last_days=1):\n",
    "    if last_days == 0:\n",
    "        return [\"jobs_archive_*\"]\n",
    "    today = datetime.date.today()\n",
    "    filtered = []\n",
    "    datefmt = '%Y-%m-%d'\n",
    "    for i in indices:\n",
    "        day = re.sub(r'jobs_archive_', '', i).rstrip()\n",
    "        day = datetime.datetime.strptime(day, datefmt).date()\n",
    "        diff = today - day\n",
    "        if diff.days < last_days:\n",
    "            filtered.append(i.rstrip())\n",
    "    return filtered\n",
    "\n",
    "ind = time_filter(indices, last_days)\n",
    "print (\"number of indices:\", len(ind))\n",
    "#print(ind)\n",
    "ind = ','.join(ind)\n",
    "#print(ind)"
   ]
  },
  {
   "cell_type": "code",
   "execution_count": 4,
   "metadata": {},
   "outputs": [
    {
     "name": "stdout",
     "output_type": "stream",
     "text": [
      "[12515739, 12236561, 12678480, 12640557, 12790254, 12577096, 12732603, 12484795, 12484780, 12341011, 12206541, 12206369, 12763289, 12065733, 12065766, 12236680, 12081264, 12189412, 12236631, 12236655, 12189371, 12236607, 12065690, 12858266, 12885762, 12866455, 12065801, 12189391, 12206399, 12236667, 12189348, 12236643, 12081242, 12236619, 12236595, 12206424, 12206453, 12096878, 12096960, 12097005, 12097038, 12097087, 12906983, 12065661, 12096934, 12096853, 12097112, 12096906]\n"
     ]
    }
   ],
   "source": [
    "etime=int(time.time()*1000)\n",
    "stime=etime-3600*24*last_days*1000\n",
    "my_query={\n",
    "  \"size\": 0,\n",
    "  \"aggs\": {\n",
    "    \"task\": {\n",
    "      \"terms\": {\n",
    "        \"field\": \"jeditaskid\",\n",
    "        \"size\": 100,\n",
    "        \"order\": {\n",
    "          \"_count\": \"desc\"\n",
    "        }\n",
    "      }\n",
    "    }\n",
    "  },\n",
    "  \"query\": {\n",
    "    \"bool\": {\n",
    "      \"must\": [\n",
    "        {\n",
    "          \"match_all\": {}\n",
    "        },\n",
    "        {\n",
    "          \"match_phrase\": {\n",
    "            \"computingsite\": {\n",
    "              \"query\": \"BOINC_MCORE\"\n",
    "            }\n",
    "          }\n",
    "        },\n",
    "        {\n",
    "          \"match_phrase\": {\n",
    "            \"jobstatus\": {\n",
    "              \"query\": \"finished\"\n",
    "            }\n",
    "          }\n",
    "        },\n",
    "        {\n",
    "          \"range\": {\n",
    "            \"modificationtime\": {\n",
    "              \"gte\": stime,\n",
    "              \"lte\": etime,\n",
    "              \"format\": \"epoch_millis\"\n",
    "            }\n",
    "          }\n",
    "        }\n",
    "      ],\n",
    "      \"must_not\": []\n",
    "    }\n",
    "   }\n",
    "}\n",
    "res = es.search(index=ind, body=my_query, request_timeout=12000)\n",
    "#print(res)\n",
    "buckets=res['aggregations']['task']['buckets']\n",
    "tasks=[]\n",
    "bs=len(buckets)\n",
    "for i in range(bs):\n",
    "    tid=buckets[i]['key']\n",
    "    cn=buckets[i]['doc_count']\n",
    "    #print(tid,cn)\n",
    "    if cn>1000:\n",
    "        tasks.append(tid)\n",
    "print(tasks)"
   ]
  },
  {
   "cell_type": "markdown",
   "metadata": {
    "collapsed": true
   },
   "source": [
    "### now we want to find all the jobs of this taskid"
   ]
  },
  {
   "cell_type": "code",
   "execution_count": 5,
   "metadata": {
    "scrolled": true
   },
   "outputs": [
    {
     "name": "stdout",
     "output_type": "stream",
     "text": [
      "Avg. power over all task:12.09\n",
      "    days    taskid    jobs  core power  avg_cpuperevent   nevents\n",
      "5    120  12236561  197957   13.235872       201.939923   9897850\n",
      "11   120  12515739  187477   12.534762       120.570257   9373850\n",
      "31   120  12678480  124479    9.522250       266.448247   6223950\n",
      "18   120  12640557   71670    9.706369       272.601105   3583500\n",
      "42   120  12790254   53190   12.031117       170.687845  10638000\n",
      "20   120  12732603   36520    9.972693       271.388710   7303900\n",
      "45   120  12484795   29839   13.953039       224.853699   1491950\n",
      "17   120  12484780   29836   13.874798       216.367153   1491800\n",
      "26   120  12577096   24971   12.348318       160.341266   4994200\n",
      "6    120  12341011   20023   14.457501       159.586599   1001150\n",
      "28   120  12206541   19612   14.729783       247.086508    980600\n",
      "8    120  12866455   19353   11.999282       349.905526   3870550\n",
      "13   120  12206369   19169   14.439697        86.653812    958450\n",
      "9    120  12763289   18451   11.217264       459.565744   3690200\n",
      "24   120  12065733   17671   12.792909       206.345271    883550\n",
      "10   120  12858266   17449   12.410197       231.549803   3489800\n",
      "39   120  12065766   17016   12.486139       218.598222    850800\n",
      "0    120  12885762   16579   11.961729       296.886418   3315750\n",
      "21   120  12189371   16568   13.554994       963.644182    828400\n",
      "38   120  12189412   16236   13.274062      1076.990374    811800\n",
      "44   120  12081264   16143   12.372460      1256.960477    807150\n",
      "34   120  12236631   16036   12.858903       749.118213    801800\n",
      "43   120  12236655   16034   13.250013       816.576429    801700\n",
      "1    120  12236680   16015   13.341336       893.830217    800750\n",
      "32   120  12236607   15978   13.286848       517.167734    798900\n",
      "12   120  12065690   13933   12.088020       664.085123    696650\n",
      "2    120  12065801    7916   11.891146       341.637658    395800\n",
      "22   120  12206399    4074   14.111107       147.264885    203700\n",
      "30   120  12189391    4030   13.550974      1053.682333    201500\n",
      "15   120  12189348    4023   13.701828       957.975526    201150\n",
      "37   120  12236643    4009   12.477979       867.707872    200450\n",
      "36   120  12081242    4007   12.057967      1289.156761    200350\n",
      "46   120  12236667    4004   12.492741       962.914481    200200\n",
      "27   120  12236619    3994   13.462558       705.357641    199700\n",
      "19   120  12236595    3828   13.175949       518.968009    191400\n",
      "35   120  12206424    2708   15.475100       231.976278    135400\n",
      "25   120  12206453    2444   15.378133       238.705761    122200\n",
      "7    120  12096878    1998   12.322257       378.880220     99900\n",
      "23   120  12096960    1993   12.417012       436.572554     99650\n",
      "41   120  12097005    1989   12.551404       454.717818     99450\n",
      "4    120  12097038    1972   12.293497       470.002170     98600\n",
      "14   120  12097087    1969   12.050482       538.581178     98450\n",
      "47   120  12065661    1791   12.516430       652.650843     89550\n",
      "40   120  12906983    1714   14.003349       238.456050    342800\n",
      "16   120  12096934    1696   12.322052       414.078314     84800\n",
      "33   120  12096853    1608   11.958606       334.150000     80400\n",
      "29   120  12097112    1191   11.841195       593.398942     59550\n",
      "3    120  12096906    1093   12.095730       404.589991     54650\n"
     ]
    }
   ],
   "source": [
    "def get_avg_boinc_power_by_task(tasks,res):\n",
    "    (total_cpu,total_events,cn_boinc,ihep_total_cpu,ihep_total_events,cn_ihep)=({},{},{},{},{},{})\n",
    "    for r in res:\n",
    "        if r['_source']['cpuconsumptiontime']<1000000 and r['_source']['nevents']!=0 and \"modificationhost\" in r['_source'] and type(r['_source']['modificationhost']) is str:\n",
    "            cpuperevent=float(r['_source']['cpuconsumptiontime'])/r['_source']['nevents']\n",
    "        else:\n",
    "            continue\n",
    "        mhost=r['_source']['modificationhost']\n",
    "        jediid=r['_source']['jeditaskid']\n",
    "        if jediid in tasks:  \n",
    "            if jediid not in total_cpu:\n",
    "                total_cpu[jediid]=0\n",
    "                total_events[jediid]=0\n",
    "                cn_boinc[jediid]=0\n",
    "                ihep_total_cpu[jediid]={}\n",
    "                ihep_total_events[jediid]={}\n",
    "                cn_ihep[jediid]={}\n",
    "            else:\n",
    "                total_cpu[jediid]+=r['_source']['cpuconsumptiontime']\n",
    "                total_events[jediid]+=r['_source']['nevents']\n",
    "                cn_boinc[jediid]+=1\n",
    "            for P in Power:\n",
    "                pat=P['pat']\n",
    "                pvalue=P['pvalue']\n",
    "                if re.match(pat,mhost):\n",
    "                    if not pat in ihep_total_cpu[jediid]:\n",
    "                        ihep_total_cpu[jediid][pat]=0\n",
    "                        ihep_total_events[jediid][pat]=0\n",
    "                        cn_ihep[jediid][pat]=0\n",
    "                    else:\n",
    "                        ihep_total_cpu[jediid][pat]+=r['_source']['cpuconsumptiontime']\n",
    "                        ihep_total_events[jediid][pat]+=r['_source']['nevents']\n",
    "                        cn_ihep[jediid][pat]+=1\n",
    "    avg_cpuperevent={}\n",
    "    for jediid in tasks:\n",
    "        if total_events[jediid]!=0:\n",
    "            avg_cpuperevent[jediid]=float(total_cpu[jediid])/total_events[jediid]\n",
    "    ihep_avg_cpuperevent={}\n",
    "    for jediid in ihep_total_cpu.keys():\n",
    "        ihep_avg_cpuperevent[jediid]={}\n",
    "        for pat in ihep_total_cpu[jediid].keys():\n",
    "            if ihep_total_events[jediid][pat]!=0:\n",
    "                ihep_avg_cpuperevent[jediid][pat]=float(ihep_total_cpu[jediid][pat])/ihep_total_events[jediid][pat]\n",
    "            else:\n",
    "                ihep_avg_cpuperevent[jediid][pat]=0\n",
    "    \n",
    "    head=[\"days\",\"taskid\",\"jobs\",\"core power\",\"avg_cpuperevent\",\"nevents\"]\n",
    "    total_power_task=0\n",
    "    total_cpu_task=0\n",
    "    dlist=[]\n",
    "   \n",
    "    for jediid in ihep_total_cpu.keys():\n",
    "        total_cpu_task+=total_cpu[jediid]\n",
    "        boinc_power={}\n",
    "        total_power,cn=0,0\n",
    "        for pat in ihep_total_cpu[jediid]:\n",
    "            if ihep_avg_cpuperevent[jediid][pat]!=0:\n",
    "                for P in Power:\n",
    "                    if pat in P.values():\n",
    "                        boinc_power[jediid]=P[\"pvalue\"]*ihep_avg_cpuperevent[jediid][pat]/avg_cpuperevent[jediid]\n",
    "                    #print(pat,boinc_power)\n",
    "                        total_power+=boinc_power[jediid]\n",
    "                        cn+=1\n",
    "        if cn!=0:\n",
    "            avg_boinc_power=float(total_power)/cn\n",
    "            total_power_task+=avg_boinc_power*total_cpu[jediid]\n",
    "            #print(\"%d days\\ttaskid:%s\\tjobs:%s\\tBOINC power:%.1f\\tavg_cpuperevent:%.0f\"%(last_days,jediid,cn_boinc[jediid],avg_boinc_power,avg_cpuperevent[jediid]))\n",
    "            #print(\"%d\\t%s\\t%s\\t%.1f\\t%.0f\"%(last_days,jediid,cn_boinc[jediid],avg_boinc_power,avg_cpuperevent[jediid]))\n",
    "            t=[last_days,jediid,cn_boinc[jediid],avg_boinc_power,avg_cpuperevent[jediid],total_events[jediid]]\n",
    "            dlist.append(t)\n",
    "    avg_power=total_power_task/total_cpu_task\n",
    "    print(\"Avg. power over all task:%.2f\"%avg_power)\n",
    "    df = pd.DataFrame(dlist,columns=head)\n",
    "    print(df.sort_values(by=\"jobs\",ascending=False))\n",
    "    df.to_csv(\"task.csv\")\n",
    " \n",
    "my_query={\n",
    "    \"size\": 0,\n",
    "    \"_source\": [\"modificationhost\", \"cpuconsumptiontime\",\"nevents\",\"jeditaskid\"],\n",
    "  \"query\": {\n",
    "    \"bool\": {\n",
    "      \"must\": [\n",
    "        {\n",
    "          \"term\": {\"jobstatus\": \"finished\"},\n",
    "          \"term\": {\"computingsite\":\"BOINC_MCORE\"}\n",
    "        }\n",
    "      ]\n",
    "    }\n",
    "  }\n",
    "}\n",
    "#for task in tasks:\n",
    "res = helpers.scan(es, query=my_query, index=ind, scroll='5m', timeout=\"5m\", size=1000)\n",
    "get_avg_boinc_power_by_task(tasks,res)\n"
   ]
  },
  {
   "cell_type": "code",
   "execution_count": null,
   "metadata": {
    "collapsed": true
   },
   "outputs": [],
   "source": []
  },
  {
   "cell_type": "code",
   "execution_count": null,
   "metadata": {
    "collapsed": true
   },
   "outputs": [],
   "source": []
  },
  {
   "cell_type": "code",
   "execution_count": null,
   "metadata": {
    "collapsed": true
   },
   "outputs": [],
   "source": []
  },
  {
   "cell_type": "code",
   "execution_count": null,
   "metadata": {
    "collapsed": true
   },
   "outputs": [],
   "source": []
  },
  {
   "cell_type": "code",
   "execution_count": null,
   "metadata": {
    "collapsed": true
   },
   "outputs": [],
   "source": []
  }
 ],
 "metadata": {
  "kernelspec": {
   "display_name": "Python 3",
   "language": "python",
   "name": "python3"
  },
  "language_info": {
   "codemirror_mode": {
    "name": "ipython",
    "version": 3
   },
   "file_extension": ".py",
   "mimetype": "text/x-python",
   "name": "python",
   "nbconvert_exporter": "python",
   "pygments_lexer": "ipython3",
   "version": "3.4.5"
  }
 },
 "nbformat": 4,
 "nbformat_minor": 2
}
