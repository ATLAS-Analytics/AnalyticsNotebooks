{
 "cells": [
  {
   "cell_type": "markdown",
   "metadata": {
    "collapsed": true
   },
   "source": [
    "# Regression Model for all links for Network Rate prediction\n",
    "This model will predict the values for N_time(time in the network). For N_time prediction, a linear regresion over size/rate is done. Rate information is fetched from fts_aggragated_* index which was previously populated with rate per link per minute.\n",
    "* import libraries\n",
    "* create the RSE to site mapping\n",
    "* get the data\n",
    "* fit the model\n",
    "* TODO: test against the data over the next week\n",
    "* plot plot plot"
   ]
  },
  {
   "cell_type": "code",
   "execution_count": 1,
   "metadata": {
    "collapsed": true
   },
   "outputs": [],
   "source": [
    "#matplotlib stuff\n",
    "%matplotlib inline\n",
    "import matplotlib\n",
    "matplotlib.rc('font', **{'size': 12})\n",
    "\n",
    "# other imports\n",
    "import datetime\n",
    "from elasticsearch import Elasticsearch, helpers\n",
    "from elasticsearch.helpers import scan\n",
    "import datetime as dt\n",
    "import json\n",
    "import numpy as np\n",
    "import pandas as pd\n",
    "import pickle\n",
    "import requests\n",
    "import time\n",
    "from sklearn.metrics import mean_absolute_error as mae\n",
    "from sklearn.metrics import mean_squared_error as mse\n",
    "from sklearn.metrics import r2_score as r2\n",
    "\n",
    "from scipy.optimize import leastsq,fmin_slsqp, least_squares\n",
    "\n",
    "from sklearn.linear_model import LinearRegression\n",
    "import matplotlib.pyplot as plt\n",
    "import matplotlib.dates as mdates\n",
    "from mpl_toolkits.mplot3d import Axes3D\n",
    "import matplotlib.dates as mdates"
   ]
  },
  {
   "cell_type": "markdown",
   "metadata": {},
   "source": [
    "#### Get AGIS endpoints (RSEs) and site names"
   ]
  },
  {
   "cell_type": "code",
   "execution_count": 2,
   "metadata": {
    "collapsed": true
   },
   "outputs": [],
   "source": [
    "r = requests.get('http://atlas-agis-api.cern.ch/request/site/query/list/ddmendpoints?json')\n",
    "j = r.json()\n",
    "#Create RSE to site name dictionary\n",
    "rse2site = {}\n",
    "for i in j:\n",
    "    for ep in i['ddmendpoints']:\n",
    "        rse2site[ep]=i['name']"
   ]
  },
  {
   "cell_type": "markdown",
   "metadata": {},
   "source": [
    "#### Collect all the links"
   ]
  },
  {
   "cell_type": "code",
   "execution_count": 3,
   "metadata": {},
   "outputs": [
    {
     "name": "stdout",
     "output_type": "stream",
     "text": [
      "['fts_*']\n",
      "Reading 9573 registers took 1497.8432257175446 seconds.\n"
     ]
    }
   ],
   "source": [
    "es = Elasticsearch([{'host':'atlas-kibana.mwt2.org', 'port':9200}],timeout=60)\n",
    "DATE = '2017-10-01'  # yyyy-mm-dd\n",
    "DELTA = 1\n",
    "# Generate the indexes to scan\n",
    "dt.datetime.strptime(DATE,'%Y-%m-%d')\n",
    "index_list = ['fts_*']\n",
    "#for i in range(-1, DELTA+1):\n",
    "#    index_list.append('fts_'+(dt.datetime.strptime(DATE,'%Y-%m-%d')\n",
    "#                      + dt.timedelta(days=i)).strftime('%Y-%m-%d'))\n",
    "indexes = ','.join(index_list)\n",
    "print (index_list)\n",
    "period_start = dt.datetime.strptime(DATE,'%Y-%m-%d')\n",
    "period_end = dt.datetime.strptime(DATE,'%Y-%m-%d') + dt.timedelta(days=7)\n",
    "transfer_query = {\n",
    "    \"size\": 0,\n",
    "    \"_source\": [\"src_rse\", \"dst_rse\",\"transferred_at\",\"submitted_at\"],\n",
    "    'query':{\n",
    "        \"bool\" : {\n",
    "            \"must\" : [\n",
    "                {\"range\" : {\"transferred_at\" : {  \"gte\": period_start } }},\n",
    "                {\"range\" : {\"submitted_at\" :   {  \"lt\" : period_end } }}\n",
    "                ]\n",
    "        }\n",
    "    }\n",
    "                \n",
    "}\n",
    "scroll = scan(client=es, index=indexes, query=transfer_query, scroll='5m', timeout=\"5m\", size=10000)\n",
    "epoch = dt.datetime(1970,1,1)\n",
    "st = time.time()\n",
    "count = 0\n",
    "data = []\n",
    "for res in scroll:\n",
    "    r = res['_source']\n",
    "    if rse2site[r['src_rse']]+'__'+rse2site[r['dst_rse']] not in data:\n",
    "        data.append(rse2site[r['src_rse']]+'__'+rse2site[r['dst_rse']])\n",
    "        count += 1\n",
    "print('Reading',count, 'registers took',time.time() - st,'seconds.')\n",
    "data = pd.DataFrame(data, columns=['LINK'])"
   ]
  },
  {
   "cell_type": "code",
   "execution_count": 21,
   "metadata": {},
   "outputs": [
    {
     "data": {
      "text/plain": [
       "array(['CERN-PROD_DATADISK', 'DESY-HH_DATADISK', 'CERN-PROD__DESY-HH',\n",
       "       2088011, 1501850181.0, 1501850193.0, 1501850195.0, 12.0, 1044005.5,\n",
       "       14.0, 562187.7420334595], dtype=object)"
      ]
     },
     "execution_count": 21,
     "metadata": {},
     "output_type": "execute_result"
    }
   ],
   "source": [
    "links = data\n",
    "links.values[10]"
   ]
  },
  {
   "cell_type": "code",
   "execution_count": 3,
   "metadata": {
    "collapsed": true
   },
   "outputs": [],
   "source": [
    "def get_data(src,dst):\n",
    "    es = Elasticsearch([{'host':'atlas-kibana.mwt2.org', 'port':9200}],timeout=60)\n",
    "    DATE = '2017-10-01'  # yyyy-mm-dd\n",
    "    DELTA = 1\n",
    "    # Generate the indexes to scan\n",
    "    dt.datetime.strptime(DATE,'%Y-%m-%d')\n",
    "    index_list = ['fts_*']\n",
    "    indexes = ','.join(index_list)\n",
    "    #print (index_list)\n",
    "    period_start = dt.datetime.strptime(DATE,'%Y-%m-%d')\n",
    "    period_end = dt.datetime.strptime(DATE,'%Y-%m-%d') + dt.timedelta(days=7)\n",
    "    transfer_query = {\n",
    "        \"size\": 0,\n",
    "        \"_source\": [\"src_rse\", \"dst_rse\", \"src\", \"dst\", \"activity\",\"bytes\",\"submitted_at\",\"started_at\",\"transferred_at\"],\n",
    "        'query':{\n",
    "            \"bool\" : {\n",
    "                \"must\" : [\n",
    "                    {\"term\" : { \"src\" : src }},\n",
    "                    {\"term\" : { \"dst\" : dst }},                    \n",
    "                    {\"range\" : {\"transferred_at\" : {  \"gte\": period_start } }},\n",
    "                    {\"range\" : {\"submitted_at\" :   {  \"lt\" : period_end } }}\n",
    "                    ]\n",
    "            }\n",
    "        }\n",
    "\n",
    "    }\n",
    "    scroll = scan(client=es, index=indexes, query=transfer_query, scroll='5m', timeout=\"5m\", size=10000)\n",
    "    epoch = dt.datetime(1970,1,1)\n",
    "    st = time.time()\n",
    "    count = 0\n",
    "    data = []\n",
    "    for res in scroll:\n",
    "        r = res['_source']\n",
    "        #if not count%1000000 : print (count)\n",
    "        r['submitted_at'] = (dt.datetime.strptime(r['submitted_at'].strip('Z').split('.')[0], '%Y-%m-%dT%H:%M:%S') - epoch).total_seconds()\n",
    "        r['started_at'] = (dt.datetime.strptime(r['started_at'].strip('Z').split('.')[0], '%Y-%m-%dT%H:%M:%S') - epoch).total_seconds()\n",
    "        r['transferred_at'] = (dt.datetime.strptime(r['transferred_at'].strip('Z').split('.')[0], '%Y-%m-%dT%H:%M:%S') - epoch).total_seconds()\n",
    "        data.append([r['src_rse'],r['dst_rse'],rse2site[r['src_rse']]+'__'+rse2site[r['dst_rse']],r['bytes'],r['submitted_at'],r['started_at'],r['transferred_at']])\n",
    "        count += 1\n",
    "    print('Reading', count,'registers took',time.time() - st,'seconds.')\n",
    "    data = pd.DataFrame(data, columns=['SRC','DST','LINK', 'SIZE', 'SUBMITTED', 'STARTED', 'ENDED'])\n",
    "    data['Q_TIME'] = data['STARTED'] - data['SUBMITTED']\n",
    "    data['N_RATE'] = data.SIZE/(data['ENDED'] - data['STARTED'])\n",
    "    data['T_TIME'] = data['ENDED'] - data['SUBMITTED']\n",
    "    return data\n",
    "\n",
    "def objective(vars, x, data):\n",
    "    rate = vars[0]\n",
    "    overhead = vars[1]\n",
    "    diskrw_limit = vars[2]\n",
    "    model = x/((x/rate)+overhead)\n",
    "    model[model>float(diskrw_limit)] = diskrw_limit\n",
    "    return data - model\n",
    "\n",
    "def get_model(link, data, show=False):\n",
    "    #cut = data.where(data.LINK == link).dropna()\n",
    "    cut = data\n",
    "    cut = cut.where(cut.SIZE > 0).dropna()\n",
    "    cut = cut.where(cut.N_RATE > 0).dropna()\n",
    "    if len(cut) < 20:\n",
    "        return link[0],-np.inf,-np.inf,-np.inf,-np.inf,-np.inf,-np.inf\n",
    "    vars = [cut.N_RATE.mean(), 1., 100.0]\n",
    "    try:\n",
    "        out = least_squares(objective, vars, args=(cut.SIZE, cut.N_RATE),bounds=(0,np.inf))\n",
    "    except ValueError:\n",
    "        print('Problem on link:', link, '. trying another start')\n",
    "        try:\n",
    "            first = cut[cut.SIZE < np.median(cut.SIZE)]\n",
    "            p1 = np.polyfit(first.SIZE, first.N_RATE,1)\n",
    "            p1 = np.poly1d(p1)\n",
    "            secnd = cut[cut.SIZE > np.median(cut.SIZE)]\n",
    "            p2 = np.polyfit(secnd.SIZE, secnd.N_RATE,1)\n",
    "            p2 = np.poly1d(p2)\n",
    "            oini=max(0.01,1/p1.coeffs[0])\n",
    "            dini=max(0.01,1/p2.coeffs[0])\n",
    "            vars = [cut.N_RATE.mean(), oini, dini]\n",
    "            out = least_squares(objective, vars, args=(cut.SIZE, cut.N_RATE),bounds=(0,np.inf))\n",
    "        except ValueError:\n",
    "            cut = data.sample(int(len(data)*0.5))\n",
    "            while len(cut) > 20:\n",
    "                vars = [cut.N_RATE.mean(), 1., 100.0]\n",
    "                try:\n",
    "                    out = least_squares(objective, vars, args=(cut.SIZE, cut.N_RATE),bounds=(0,np.inf))\n",
    "                    break\n",
    "                except ValueError:\n",
    "                    print('Couldn\\'t solve problem for', link,'.  Retrying...')\n",
    "                    cut = cut.sample(int(len(cut)*0.5))\n",
    "                    continue\n",
    "            if len(cut) <= 20:\n",
    "                print('Couldn\\'t solve problem for', link)\n",
    "                return link[0], -np.inf,-np.inf,-np.inf,-np.inf,-np.inf,-np.inf,\n",
    "    rate = out.x[0]\n",
    "    overhead = out.x[1]\n",
    "    diskrw = out.x[2]\n",
    "    #print(link,out)data\n",
    "    data['N_PRED'] = data.SIZE/((data.SIZE/rate)+overhead)\n",
    "    data['N_PRED'][data['N_PRED']>diskrw]=diskrw\n",
    "    cut['N_PRED'] = cut.SIZE/((cut.SIZE/rate)+overhead)\n",
    "    cut['N_PRED'][cut['N_PRED']>diskrw]=diskrw\n",
    "    try:\n",
    "        r2score = r2(cut.N_RATE,cut.N_PRED)\n",
    "        rmse = np.sqrt(mse(cut.N_RATE,cut.N_PRED))\n",
    "    except ValueError:\n",
    "        r2score = -np.Inf\n",
    "        rmse = np.Inf\n",
    "    datalen = len(cut)\n",
    "    if show:\n",
    "        cut = data.set_index(pd.to_datetime(data.STARTED, unit='s'))\n",
    "        plt.plot(cut.SIZE/(1024*1024), cut.N_RATE/(1024*1024),'.', label='rate')\n",
    "        plt.plot(cut.SIZE/(1024*1024), cut.N_PRED/(1024*1024),'.', label='pred')\n",
    "        plt.title('NETWORK rates for %s'%link)\n",
    "        plt.xscale('log')\n",
    "        plt.yscale('log')\n",
    "        plt.xlabel('Link Rate in MiB/s')\n",
    "        plt.ylabel('Transfer rate in MiB/s')\n",
    "\n",
    "        fig = plt.gcf()\n",
    "        fig.set_size_inches(17, 8)\n",
    "        plt.legend()\n",
    "        plt.grid()\n",
    "        #print ('RMSE:%.02f R²:%.02f'%(rmse,r2score))\n",
    "        plt.show() \n",
    "    return link,r2score, rmse, datalen, rate,overhead,diskrw"
   ]
  },
  {
   "cell_type": "code",
   "execution_count": null,
   "metadata": {
    "collapsed": true,
    "scrolled": false
   },
   "outputs": [],
   "source": [
    "link_stats = []\n",
    "for link in links.values:\n",
    "    src,dst = link[0].split('__')\n",
    "    #link = links.values[10][0]\n",
    "    #src,dst = 'CERN-PROD','BNL-ATLAS'\n",
    "    print('')\n",
    "    print(src,'-->',dst)\n",
    "    data = get_data(src,dst)\n",
    "    #print(len(data) > 0)\n",
    "    link_stats.append(get_model(link,data,show=False))"
   ]
  },
  {
   "cell_type": "code",
   "execution_count": null,
   "metadata": {
    "collapsed": true
   },
   "outputs": [],
   "source": [
    "df = pd.DataFrame(link_stats, columns=['LINK','R2','RMSE', 'DATALEN', 'RATE','OVERHEAD', 'DISKRW' ])"
   ]
  },
  {
   "cell_type": "code",
   "execution_count": null,
   "metadata": {
    "collapsed": true
   },
   "outputs": [],
   "source": [
    "df"
   ]
  },
  {
   "cell_type": "code",
   "execution_count": 7,
   "metadata": {},
   "outputs": [
    {
     "name": "stdout",
     "output_type": "stream",
     "text": [
      "Reading 103695 registers took 15.275689840316772 seconds.\n"
     ]
    }
   ],
   "source": [
    "data = get_data('BNL-ATLAS','MWT2')"
   ]
  },
  {
   "cell_type": "code",
   "execution_count": 9,
   "metadata": {},
   "outputs": [],
   "source": [
    "data.to_csv('bnl2mwt2.csv')"
   ]
  },
  {
   "cell_type": "code",
   "execution_count": null,
   "metadata": {},
   "outputs": [],
   "source": []
  },
  {
   "cell_type": "code",
   "execution_count": 23,
   "metadata": {},
   "outputs": [
    {
     "name": "stdout",
     "output_type": "stream",
     "text": [
      "Reading 0 registers took 0.08748984336853027 seconds.\n"
     ]
    },
    {
     "ename": "AttributeError",
     "evalue": "'DataFrame' object has no attribute 'N_PRED'",
     "output_type": "error",
     "traceback": [
      "\u001b[0;31m---------------------------------------------------------------------------\u001b[0m",
      "\u001b[0;31mAttributeError\u001b[0m                            Traceback (most recent call last)",
      "\u001b[0;32m<ipython-input-23-d1891e0b2fc2>\u001b[0m in \u001b[0;36m<module>\u001b[0;34m()\u001b[0m\n\u001b[1;32m      8\u001b[0m \u001b[0mout\u001b[0m \u001b[0;34m=\u001b[0m \u001b[0mget_model\u001b[0m\u001b[0;34m(\u001b[0m\u001b[0mlink\u001b[0m\u001b[0;34m.\u001b[0m\u001b[0mreplace\u001b[0m\u001b[0;34m(\u001b[0m\u001b[0;34m'__'\u001b[0m\u001b[0;34m,\u001b[0m\u001b[0;34m'-->'\u001b[0m\u001b[0;34m)\u001b[0m\u001b[0;34m,\u001b[0m\u001b[0mdata\u001b[0m\u001b[0;34m,\u001b[0m \u001b[0mshow\u001b[0m\u001b[0;34m=\u001b[0m\u001b[0;32mTrue\u001b[0m\u001b[0;34m)\u001b[0m\u001b[0;34m\u001b[0m\u001b[0m\n\u001b[1;32m      9\u001b[0m \u001b[0mplt\u001b[0m\u001b[0;34m.\u001b[0m\u001b[0mplot\u001b[0m\u001b[0;34m(\u001b[0m\u001b[0mdata\u001b[0m\u001b[0;34m.\u001b[0m\u001b[0mSIZE\u001b[0m\u001b[0;34m/\u001b[0m\u001b[0;36m2\u001b[0m\u001b[0;34m**\u001b[0m\u001b[0;36m20\u001b[0m\u001b[0;34m,\u001b[0m\u001b[0mdata\u001b[0m\u001b[0;34m.\u001b[0m\u001b[0mN_RATE\u001b[0m\u001b[0;34m/\u001b[0m\u001b[0;34m(\u001b[0m\u001b[0;36m1024\u001b[0m\u001b[0;34m*\u001b[0m\u001b[0;36m1024\u001b[0m\u001b[0;34m)\u001b[0m\u001b[0;34m,\u001b[0m\u001b[0;34m'.'\u001b[0m\u001b[0;34m)\u001b[0m\u001b[0;34m\u001b[0m\u001b[0m\n\u001b[0;32m---> 10\u001b[0;31m \u001b[0mplt\u001b[0m\u001b[0;34m.\u001b[0m\u001b[0mplot\u001b[0m\u001b[0;34m(\u001b[0m\u001b[0mdata\u001b[0m\u001b[0;34m.\u001b[0m\u001b[0mSIZE\u001b[0m\u001b[0;34m/\u001b[0m\u001b[0;36m2\u001b[0m\u001b[0;34m**\u001b[0m\u001b[0;36m20\u001b[0m\u001b[0;34m,\u001b[0m\u001b[0mdata\u001b[0m\u001b[0;34m.\u001b[0m\u001b[0mN_PRED\u001b[0m\u001b[0;34m/\u001b[0m\u001b[0;34m(\u001b[0m\u001b[0;36m1024\u001b[0m\u001b[0;34m*\u001b[0m\u001b[0;36m1024\u001b[0m\u001b[0;34m)\u001b[0m\u001b[0;34m,\u001b[0m\u001b[0;34m'.'\u001b[0m\u001b[0;34m)\u001b[0m\u001b[0;34m\u001b[0m\u001b[0m\n\u001b[0m\u001b[1;32m     11\u001b[0m \u001b[0mplt\u001b[0m\u001b[0;34m.\u001b[0m\u001b[0mxscale\u001b[0m\u001b[0;34m(\u001b[0m\u001b[0;34m'log'\u001b[0m\u001b[0;34m)\u001b[0m\u001b[0;34m\u001b[0m\u001b[0m\n\u001b[1;32m     12\u001b[0m \u001b[0mplt\u001b[0m\u001b[0;34m.\u001b[0m\u001b[0myscale\u001b[0m\u001b[0;34m(\u001b[0m\u001b[0;34m'log'\u001b[0m\u001b[0;34m)\u001b[0m\u001b[0;34m\u001b[0m\u001b[0m\n",
      "\u001b[0;32m/usr/lib64/python3.4/site-packages/pandas/core/generic.py\u001b[0m in \u001b[0;36m__getattr__\u001b[0;34m(self, name)\u001b[0m\n\u001b[1;32m   3079\u001b[0m             \u001b[0;32mif\u001b[0m \u001b[0mname\u001b[0m \u001b[0;32min\u001b[0m \u001b[0mself\u001b[0m\u001b[0;34m.\u001b[0m\u001b[0m_info_axis\u001b[0m\u001b[0;34m:\u001b[0m\u001b[0;34m\u001b[0m\u001b[0m\n\u001b[1;32m   3080\u001b[0m                 \u001b[0;32mreturn\u001b[0m \u001b[0mself\u001b[0m\u001b[0;34m[\u001b[0m\u001b[0mname\u001b[0m\u001b[0;34m]\u001b[0m\u001b[0;34m\u001b[0m\u001b[0m\n\u001b[0;32m-> 3081\u001b[0;31m             \u001b[0;32mreturn\u001b[0m \u001b[0mobject\u001b[0m\u001b[0;34m.\u001b[0m\u001b[0m__getattribute__\u001b[0m\u001b[0;34m(\u001b[0m\u001b[0mself\u001b[0m\u001b[0;34m,\u001b[0m \u001b[0mname\u001b[0m\u001b[0;34m)\u001b[0m\u001b[0;34m\u001b[0m\u001b[0m\n\u001b[0m\u001b[1;32m   3082\u001b[0m \u001b[0;34m\u001b[0m\u001b[0m\n\u001b[1;32m   3083\u001b[0m     \u001b[0;32mdef\u001b[0m \u001b[0m__setattr__\u001b[0m\u001b[0;34m(\u001b[0m\u001b[0mself\u001b[0m\u001b[0;34m,\u001b[0m \u001b[0mname\u001b[0m\u001b[0;34m,\u001b[0m \u001b[0mvalue\u001b[0m\u001b[0;34m)\u001b[0m\u001b[0;34m:\u001b[0m\u001b[0;34m\u001b[0m\u001b[0m\n",
      "\u001b[0;31mAttributeError\u001b[0m: 'DataFrame' object has no attribute 'N_PRED'"
     ]
    },
    {
     "data": {
      "image/png": "[encoded data removed]",
      "text/plain": [
       "<matplotlib.figure.Figure at 0x7faaeb7fc0b8>"
      ]
     },
     "metadata": {},
     "output_type": "display_data"
    }
   ],
   "source": [
    "link = 'CERN-PROD__BNL-ATLAS'\n",
    "link = 'WT2__UKI-SCOTGRID-DURHAM'\n",
    "link = 'CERN-PROD__UNI-FREIBURG'\n",
    "link = 'TOKYO-LCG2__RO-02-NIPNE'\n",
    "link = 'CERN-PROD__DESY-HH'\n",
    "link = 'INFN-ROMA2__mainzgrid'\n",
    "data = get_data(link.split('__')[0],link.split('__')[1])\n",
    "out = get_model(link.replace('__','-->'),data, show=True)\n",
    "plt.plot(data.SIZE/2**20,data.N_RATE/(1024*1024),'.')\n",
    "plt.plot(data.SIZE/2**20,data.N_PRED/(1024*1024),'.')\n",
    "plt.xscale('log')\n",
    "plt.yscale('log')\n",
    "plt.xlabel('MiB')\n",
    "plt.ylabel('MiB/s')\n",
    "plt.title('Network rate for %s'%link.replace('__','-->'))\n",
    "fig = plt.gcf()\n",
    "fig.set_size_inches(17, 8)\n",
    "plt.legend()\n",
    "plt.grid()\n",
    "#print ('MAE:%.02f R²:%.02f'%(mae(cut.N_TIME/(1024*1024), cut.NLFIT/(1024*1024)),r2(cut.N_TIME, cut.NLFIT)))\n",
    "print(out)\n",
    "plt.show()"
   ]
  },
  {
   "cell_type": "code",
   "execution_count": null,
   "metadata": {
    "collapsed": true
   },
   "outputs": [],
   "source": [
    "def test_model(link, data, model=model, overh_init=0.1, diskrw_init=100., show=False):\n",
    "    cut = data.where(data.LINK == link).dropna()\n",
    "    cut.N_RATE[cut.N_RATE == np.inf] = np.nan\n",
    "    cut = cut.dropna()\n",
    "    #cut = cut.where(cut.SIZE > 0).dropna()\n",
    "    #cut = cut.where(cut.N_RATE > 0).dropna()\n",
    "    if link not in model.LINK.values:\n",
    "        print('WARNING: no model found for', link,maxindex)\n",
    "        cut['N_PRED'] = [-np.inf]*len(cut)\n",
    "    else:\n",
    "        rate = model[model.LINK == link].RATE.values[0]\n",
    "        overhead = model[model.LINK == link].OVERHEAD.values[0]\n",
    "        diskrw = model[model.LINK == link].DISKRW.values[0]\n",
    "        cut['N_PRED'] = cut.SIZE/((cut.SIZE/rate)+overhead)\n",
    "        cut['N_PRED'][cut['N_PRED']>diskrw]=diskrw\n",
    "    \n",
    "    #vars = [cut.N_RATE.mean(), overh_init, diskrw_init]\n",
    "    #vars = [cut.N_RATE.mean(), 0.1, 100.]\n",
    "    #out = least_squares(objective, vars, args=(cut.SIZE, cut.N_RATE),bounds=(0,np.inf))\n",
    "    #out = leastsq(objective, vars, args=(cut.SIZE, cut.N_RATE))\n",
    "    #rate = out.x[0]\n",
    "    #overhead = out.x[1]\n",
    "    #diskrw = out.x[2] \n",
    "    #print(link,out)\n",
    "    #cut['N_PRED2'] = cut.SIZE/((cut.SIZE/rate)+overhead)\n",
    "    #cut['N_PRED2'][cut['N_PRED2']>diskrw]=diskrw\n",
    "    try:\n",
    "        r2score = r2(cut.N_RATE,cut.N_PRED)\n",
    "        rmse = np.sqrt(mse(cut.N_RATE,cut.N_PRED))\n",
    "    except ValueError:\n",
    "        r2score = -np.Inf\n",
    "        rmse = np.Inf\n",
    "    #try:\n",
    "    #    r2score2 = r2(cut.N_RATE,cut.N_PRED2)\n",
    "    #    rmse2 = np.sqrt(mse(cut.N_RATE,cut.N_PRED2))\n",
    "    #except ValueError:\n",
    "    #    r2score2 = -np.Inf\n",
    "    #    rmse2 = np.Inf\n",
    "    datalen = len(cut)\n",
    "    if show:\n",
    "        cut = cut.set_index(pd.to_datetime(cut.STARTED, unit='s'))\n",
    "        plt.plot(cut.SIZE/(1024*1024), cut.N_RATE/(1024*1024),'.', label='rate')\n",
    "        plt.plot(cut.SIZE/(1024*1024), cut.N_PRED/(1024*1024),'.', label='pred')\n",
    "        #plt.plot(cut.SIZE/(1024*1024), cut.N_PRED2/(1024*1024),'.', label='pred new')\n",
    "        plt.title('NETWORK rates for %s'%link.replace('__', '-->'))\n",
    "        plt.xscale('log')\n",
    "        plt.yscale('log')\n",
    "        plt.ylabel('Link Rate in MiB/s')\n",
    "        plt.xlabel('Transfer size MiB')\n",
    "\n",
    "        fig = plt.gcf()\n",
    "        fig.set_size_inches(17, 8)\n",
    "        plt.legend()\n",
    "        plt.grid()\n",
    "        #print ('RMSE:%.02f R²:%.02f'%(rmse,r2score))\n",
    "        plt.show()\n",
    "    return r2score, rmse, datalen, rate, overhead, diskrw#, r2score2, rmse2"
   ]
  },
  {
   "cell_type": "code",
   "execution_count": null,
   "metadata": {
    "collapsed": true,
    "scrolled": true
   },
   "outputs": [],
   "source": [
    "#link = 'BNL-ATLAS__TOKYO-LCG2'\n",
    "link = 'CERN-PROD__BNL-ATLAS'\n",
    "#link = 'BNL-ATLAS__CERN-PROD'\n",
    "#link = 'RAL-LCG2__CSCS-LCG2'\n",
    "#link = 'FZK-LCG2__SWT2_CPB'\n",
    "#link = 'SARA-MATRIX__ru-PNPI'\n",
    "#link = 'BNL-ATLAS__CA-MCGILL-CLUMEQ-T2'\n",
    "#link = 'Taiwan-LCG2__SiGNET'\n",
    "#link =  'UNI-FREIBURG__BNL-ATLAS'\n",
    "#link = 'UKI-SCOTGRID-GLASGOW__Taiwan-LCG2'\n",
    "#link = 'WT2__BNL-ATLAS'\n",
    "#link =  'RRC-KI-T1__RAL-LCG2'\n",
    "#link = 'IFIC-LCG2__INFN-T1'\n",
    "#link = 'RAL-LCG2__CSCS-LCG2'\n",
    "cut = data.where(data.LINK == link).dropna()\n",
    "cut.N_RATE[cut.N_RATE == np.inf] = cut.SIZE\n",
    "plt.plot(cut.SIZE/(1024*1024), cut.N_RATE/(1024*1024),'.', label='rate')\n",
    "plt.title('NETWORK rates for %s'%link.replace('__', '-->'))\n",
    "#plt.xscale('log')\n",
    "#plt.yscale('log')\n",
    "plt.ylabel('Link Rate in MiB/s')\n",
    "plt.xlabel('Transfer size MiB')\n",
    "fig = plt.gcf()\n",
    "fig.set_size_inches(17, 8)\n",
    "plt.legend()\n",
    "plt.grid()\n",
    "plt.show()\n",
    "plt.hist(cut.N_RATE,bins=100)\n",
    "fig = plt.gcf()\n",
    "fig.set_size_inches(17, 8)\n",
    "plt.legend()\n",
    "plt.grid()\n",
    "plt.show()"
   ]
  },
  {
   "cell_type": "code",
   "execution_count": null,
   "metadata": {
    "collapsed": true
   },
   "outputs": [],
   "source": [
    "#link = 'BNL-ATLAS__TOKYO-LCG2'\n",
    "first = cut[cut.SIZE < 10**6]\n",
    "p1 = np.polyfit(first.SIZE, first.N_RATE,1)\n",
    "p1 = np.poly1d(p1)\n",
    "secnd = cut[cut.SIZE > 10**7]\n",
    "p2 = np.polyfit(secnd.SIZE, secnd.N_RATE,1)\n",
    "p2 = np.poly1d(p2)\n",
    "oini=max(0.01,1/p1.coeffs[0])\n",
    "dini=max(0.01,1/p2.coeffs[0])\n",
    "print('Initialization: overhead=%f  diskrw=%f'%(oini, dini))\n",
    "r_2,rmse,datalen, rate,over,disk= test_model(link, data,model2,overh_init=oini,diskrw_init=dini, show=True)\n",
    "print('r2:   ', r_2)\n",
    "print('rmse: ', rmse/(1024*1024))\n",
    "print('rate: ', rate/(1024*1024))\n",
    "print('overh:', over)\n",
    "print('disk: ', disk/(1024*1024))\n",
    "#print('r2.2: ', r_22)\n",
    "#print('rmse2:', rmse2/(1024*1024))"
   ]
  },
  {
   "cell_type": "code",
   "execution_count": null,
   "metadata": {
    "collapsed": true
   },
   "outputs": [],
   "source": [
    "d = {}\n",
    "for v in cut.itertuples():\n",
    "    if v.SRC+'__'+v.DST not in d.keys():\n",
    "        d[v.SRC+'__'+v.DST] = []\n",
    "    d[v.SRC+'__'+v.DST].append([v.SIZE, v.N_RATE])\n",
    "\n",
    "for k in d:\n",
    "    d[k] = np.array(d[k]).T\n"
   ]
  },
  {
   "cell_type": "code",
   "execution_count": null,
   "metadata": {
    "collapsed": true
   },
   "outputs": [],
   "source": [
    "for k in d:\n",
    "    plt.plot(d[k][0]/(1024*1024), d[k][1]/(1024*1024),'.', label=(k+'('+str(len(d[k][0]))+')'),alpha=0.9)\n",
    "plt.title('NETWORK rates for %s'%link.replace('__', '-->'))\n",
    "#plt.xscale('log')\n",
    "#plt.yscale('log')\n",
    "plt.ylabel('Link Rate in MiB/s')\n",
    "plt.xlabel('Transfer size MiB')\n",
    "fig = plt.gcf()\n",
    "fig.set_size_inches(17, 8)\n",
    "plt.legend()\n",
    "plt.grid()\n",
    "plt.show()"
   ]
  },
  {
   "cell_type": "code",
   "execution_count": null,
   "metadata": {
    "collapsed": true
   },
   "outputs": [],
   "source": [
    "for k in d:\n",
    "    x = '%0.2f, %0.2f, %d, %s' %(d[k][1].mean()/(1024*1024),d[k][1].std()/(1024*1024), len(d[k][0]), k)\n",
    "    print (x)"
   ]
  },
  {
   "cell_type": "code",
   "execution_count": null,
   "metadata": {
    "collapsed": true
   },
   "outputs": [],
   "source": [
    "for k in d:\n",
    "    #plt.hist(d[k][1]/(1024*1024),bins=100, alpha=0.9)\n",
    "    plt.plot(d[k][0]/(1024*1024), d[k][1]/(1024*1024),'.', label=(k+'('+str(len(d[k][0]))+')'),alpha=0.9)\n",
    "    plt.title('NETWORK rates for %s'%k.replace('__', '-->'))\n",
    "    plt.xscale('log')\n",
    "    plt.yscale('log')\n",
    "    plt.ylabel('Link Rate in MiB/s')\n",
    "    plt.xlabel('Transfer size MiB')\n",
    "    fig = plt.gcf()\n",
    "    fig.set_size_inches(17, 8)\n",
    "    plt.legend()\n",
    "    plt.grid()\n",
    "    plt.show()"
   ]
  },
  {
   "cell_type": "code",
   "execution_count": null,
   "metadata": {
    "collapsed": true
   },
   "outputs": [],
   "source": [
    "model2.corr()"
   ]
  },
  {
   "cell_type": "code",
   "execution_count": null,
   "metadata": {
    "collapsed": true
   },
   "outputs": [],
   "source": [
    "plt.plot(model2.RATE[model2.RATE > -np.inf]/(1024*1024),\n",
    "         model2.DISKRW[model2.DISKRW > -np.inf]/(1024*1024),\n",
    "         #model2.OVERHEAD[model2.OVERHEAD > -np.inf],\n",
    "         '.', alpha=0.9)\n",
    "#plt.title('NETWORK rates for %s'%k.replace('__', '-->'))\n",
    "plt.xscale('log')\n",
    "plt.yscale('log')\n",
    "plt.xlabel('Rate in MiB/s')\n",
    "plt.ylabel('Disk r/w limit MiB')\n",
    "fig = plt.gcf()\n",
    "fig.set_size_inches(17, 8)\n",
    "plt.legend()\n",
    "plt.grid()\n",
    "plt.show()"
   ]
  },
  {
   "cell_type": "code",
   "execution_count": null,
   "metadata": {
    "collapsed": true
   },
   "outputs": [],
   "source": [
    "plt.hist(model2.RATE[model2.RATE > -np.inf][model2.RATE < 10**9]/(1024*1024),bins=100, alpha=0.95)\n",
    "fig = plt.gcf()\n",
    "#plt.xscale('log')\n",
    "plt.yscale('log')\n",
    "plt.xlabel('MiB/s')\n",
    "#lt.xlim((0,100))\n",
    "plt.title('RATE')\n",
    "fig.set_size_inches(17, 8)\n",
    "plt.legend()\n",
    "plt.grid()\n",
    "plt.show()\n",
    "\n",
    "plt.hist(model2.OVERHEAD[model2.OVERHEAD > -np.inf],bins=100, alpha=0.95)\n",
    "fig = plt.gcf()\n",
    "#plt.xscale('log')\n",
    "plt.yscale('log')\n",
    "plt.title('OVERHEAD')\n",
    "plt.xlabel('seconds')\n",
    "fig.set_size_inches(17, 8)\n",
    "plt.legend()\n",
    "plt.grid()\n",
    "plt.show()\n",
    "\n",
    "plt.hist(model2.DISKRW[model2.DISKRW > -np.inf]/(1024*1024),bins=100, alpha=0.95)\n",
    "fig = plt.gcf()\n",
    "#plt.xscale('log')\n",
    "plt.yscale('log')\n",
    "plt.title('DISKRW')\n",
    "plt.xlabel('MiB/s')\n",
    "fig.set_size_inches(17, 8)\n",
    "plt.legend()\n",
    "plt.grid()\n",
    "plt.show()"
   ]
  }
 ],
 "metadata": {
  "kernelspec": {
   "display_name": "Python 3",
   "language": "python",
   "name": "python3"
  },
  "language_info": {
   "codemirror_mode": {
    "name": "ipython",
    "version": 3
   },
   "file_extension": ".py",
   "mimetype": "text/x-python",
   "name": "python",
   "nbconvert_exporter": "python",
   "pygments_lexer": "ipython3",
   "version": "3.4.5"
  }
 },
 "nbformat": 4,
 "nbformat_minor": 1
}
