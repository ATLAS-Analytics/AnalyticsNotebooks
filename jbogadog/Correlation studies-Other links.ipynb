{
 "cells": [
  {
   "cell_type": "markdown",
   "metadata": {
    "collapsed": true
   },
   "source": [
    "# Correlation studies between Aggregated variables\n",
    "This plots will shown the correlation (or lack of) between QUEUE time, NETWORK rate and the aggregated_fts values, LINK rate, Number of files in queue per activity\n",
    "* import libraries\n",
    "* create the RSE to site mapping\n",
    "* get the data\n",
    "* plot plot plot"
   ]
  },
  {
   "cell_type": "code",
   "execution_count": null,
   "metadata": {
    "collapsed": true
   },
   "outputs": [],
   "source": []
  },
  {
   "cell_type": "code",
   "execution_count": 30,
   "metadata": {
    "collapsed": true
   },
   "outputs": [],
   "source": [
    "#matplotlib stuff\n",
    "%matplotlib inline\n",
    "import matplotlib\n",
    "matplotlib.rc('font', **{'size': 12})\n",
    "\n",
    "# other imports\n",
    "import datetime\n",
    "from elasticsearch import Elasticsearch, helpers\n",
    "from elasticsearch.helpers import scan\n",
    "import datetime as dt\n",
    "import json\n",
    "import numpy as np\n",
    "import pandas as pd\n",
    "import pickle\n",
    "import requests\n",
    "import time\n",
    "from sklearn.metrics import mean_absolute_error as mae\n",
    "from sklearn.metrics import mean_squared_error as mse\n",
    "from sklearn.metrics import r2_score as r2\n",
    "\n",
    "from scipy.optimize import leastsq, curve_fit\n",
    "\n",
    "from sklearn.linear_model import LinearRegression\n",
    "import matplotlib.pyplot as plt\n",
    "from mpl_toolkits.mplot3d import Axes3D\n",
    "import matplotlib.dates as mdates"
   ]
  },
  {
   "cell_type": "code",
   "execution_count": null,
   "metadata": {
    "collapsed": true
   },
   "outputs": [],
   "source": [
    "# Get AGIS endpoints (RSEs) and site names\n",
    "r = requests.get('http://atlas-agis-api.cern.ch/request/site/query/list/ddmendpoints?json')\n",
    "j = r.json()\n",
    "#Create RSE to site name dictionary\n",
    "rse2site = {}\n",
    "for i in j:\n",
    "    for ep in i['ddmendpoints']:\n",
    "        rse2site[ep]=i['name']"
   ]
  },
  {
   "cell_type": "code",
   "execution_count": null,
   "metadata": {
    "collapsed": false
   },
   "outputs": [],
   "source": [
    "es = Elasticsearch([{'host':'atlas-kibana.mwt2.org', 'port':9200}],timeout=60)\n",
    "DATE = '2017-02-01'  # yyyy-mm-dd\n",
    "DELTA = 7\n",
    "# Generate the indexes to scan\n",
    "dt.datetime.strptime(DATE,'%Y-%m-%d')\n",
    "index_list = []\n",
    "for i in range(-1, DELTA+1):\n",
    "    index_list.append('fts_'+(dt.datetime.strptime(DATE,'%Y-%m-%d')\n",
    "                      + dt.timedelta(days=i)).strftime('%Y-%m-%d'))\n",
    "indexes = ','.join(index_list)\n",
    "print (index_list)\n",
    "period_start = dt.datetime.strptime(DATE,'%Y-%m-%d')\n",
    "period_end = dt.datetime.strptime(DATE,'%Y-%m-%d') + dt.timedelta(days=7)\n",
    "transfer_query = {\n",
    "    \"size\": 0,\n",
    "    \"_source\": [\"src_rse\", \"dst_rse\", \"activity\",\"bytes\",\"submitted_at\",\"started_at\",\"transferred_at\"],\n",
    "    'query':{\n",
    "        \"bool\" : {\n",
    "            \"must\" : [\n",
    "                {\"range\" : {\"transferred_at\" : {  \"gte\": period_start } }},\n",
    "                {\"range\" : {\"submitted_at\" :   {  \"lt\" : period_end } }}\n",
    "                ]\n",
    "        }\n",
    "    }\n",
    "                \n",
    "}\n",
    "scroll = scan(client=es, index=indexes, query=transfer_query, scroll='5m', timeout=\"5m\", size=10000)\n",
    "epoch = dt.datetime(1970,1,1)\n",
    "st = time.time()\n",
    "count = 0\n",
    "data = []\n",
    "for res in scroll:\n",
    "    r = res['_source']\n",
    "    if not count%1000000 : print (count)\n",
    "    r['submitted_at'] = (dt.datetime.strptime(r['submitted_at'].strip('Z').split('.')[0], '%Y-%m-%dT%H:%M:%S') - epoch).total_seconds()\n",
    "    r['started_at'] = (dt.datetime.strptime(r['started_at'].strip('Z').split('.')[0], '%Y-%m-%dT%H:%M:%S') - epoch).total_seconds()\n",
    "    r['transferred_at'] = (dt.datetime.strptime(r['transferred_at'].strip('Z').split('.')[0], '%Y-%m-%dT%H:%M:%S') - epoch).total_seconds()\n",
    "    data.append([rse2site[r['src_rse']]+'__'+rse2site[r['dst_rse']]+'__'+r['activity'],r['bytes'],r['submitted_at'],r['started_at'],r['transferred_at']])\n",
    "    count += 1\n",
    "print('Reading took',time.time() - st,'seconds.')\n",
    "data = pd.DataFrame(data, columns=['LINK', 'SIZE', 'SUBMITTED', 'STARTED', 'ENDED'])\n",
    "data['Q_TIME'] = data['STARTED'] - data['SUBMITTED']\n",
    "data['N_RATE'] = data.SIZE/(data['ENDED'] - data['STARTED'])\n",
    "data['T_TIME'] = data['ENDED'] - data['SUBMITTED']\n",
    "data['N_RATE_MB'] = data['N_RATE']/(1024*1024)\n",
    "data['SIZE_MB'] = data['SIZE']/(1024*1024)"
   ]
  },
  {
   "cell_type": "code",
   "execution_count": 21,
   "metadata": {
    "collapsed": false
   },
   "outputs": [
    {
     "name": "stdout",
     "output_type": "stream",
     "text": [
      "['fts-aggregates_2017-2', 'fts-aggregates_2017-2', 'fts-aggregates_2017-2', 'fts-aggregates_2017-2', 'fts-aggregates_2017-2', 'fts-aggregates_2017-2', 'fts-aggregates_2017-2', 'fts-aggregates_2017-2']\n",
      "Reading took 0.38666319847106934 seconds.\n",
      "14400\n",
      "Reading took 1.1648006439208984 seconds.\n",
      "14400\n",
      "Reading took 0.3764939308166504 seconds.\n",
      "14400\n"
     ]
    }
   ],
   "source": [
    "src = 'IN2P3-CC'\n",
    "dst = 'CERN-PROD'\n",
    "####################\n",
    "# LINK RATES\n",
    "######\n",
    "index_list = []\n",
    "for i in range(0, DELTA+1):\n",
    "    index_list.append('fts-aggregates_'+(dt.datetime.strptime(DATE,'%Y-%m-%d')\n",
    "                      + dt.timedelta(days=i)).strftime('%Y-%-m'))\n",
    "indexes = ','.join(index_list)\n",
    "print (index_list)\n",
    "\n",
    "period_start = dt.datetime.strptime(DATE,'%Y-%m-%d')\n",
    "period_end = dt.datetime.strptime(DATE,'%Y-%m-%d') + dt.timedelta(days=10)\n",
    "transfer_query = {\n",
    "    \"size\": 0,\n",
    "    \"_source\": [\"src\", \"dest\", \"timestamp\",\"rate\"],\n",
    "    'query':{\n",
    "        \"bool\" : {\n",
    "            \"must\" : [\n",
    "                {\"term\" : { \"src\" : \"%s\"%(src) }},\n",
    "                {\"term\" : { \"dest\" : \"%s\"%(dst) }},\n",
    "                {\"range\" : {\"timestamp\" : {  \"gte\": period_start } }},\n",
    "                {\"range\" : {\"timestamp\" : {  \"lt\" : period_end } }}\n",
    "                ]\n",
    "        }\n",
    "    }\n",
    "                \n",
    "}\n",
    "scroll = scan(client=es, index=indexes, query=transfer_query, scroll='5m', timeout=\"5m\", size=10000)\n",
    "epoch = dt.datetime(1970,1,1)\n",
    "st = time.time()\n",
    "count = 0\n",
    "l_rates = []\n",
    "tsindex = []\n",
    "for res in scroll:\n",
    "    r = res['_source']\n",
    "    #if not count%1000000 : print (count)\n",
    "    #print (r.keys())\n",
    "    #r['timestamp'] = (dt.datetime.strptime(r['timestamp'].strip('Z').split('.')[0], '%Y-%m-%dT%H:%M:%S') - epoch).total_seconds()\n",
    "    try:\n",
    "        l_rates.append([r['src']+'__'+r['dest'],r['timestamp']/1000,r['rate']])\n",
    "        tsindex.append(r['timestamp']/1000)\n",
    "    except KeyError:\n",
    "        continue\n",
    "    count += 1\n",
    "print('Reading took',time.time() - st,'seconds.')\n",
    "print(count)\n",
    "l_rates = pd.DataFrame(l_rates, columns=['LINK', 'TS', 'RATE'], index=tsindex)\n",
    "\n",
    "##############\n",
    "# SRC RATES\n",
    "#\n",
    "period_start = dt.datetime.strptime(DATE,'%Y-%m-%d')\n",
    "period_end = dt.datetime.strptime(DATE,'%Y-%m-%d') + dt.timedelta(days=10)\n",
    "transfer_query = {\n",
    "    \"size\": 0,\n",
    "    \"_source\": [\"name\", \"timestamp\", \"ingress\", \"egress\", \"incoming\", \"outcoming\"],\n",
    "    'query':{\n",
    "        \"bool\" : {\n",
    "            \"must\" : [\n",
    "                {\"term\" : { \"name\" : \"%s\"%(src) }},\n",
    "                {\"range\" : {\"timestamp\" : {  \"gte\": period_start } }},\n",
    "                {\"range\" : {\"timestamp\" : {  \"lt\" : period_end } }}\n",
    "                ]\n",
    "        }\n",
    "    }\n",
    "                \n",
    "}\n",
    "scroll = scan(client=es, index=indexes, query=transfer_query, scroll='5m', timeout=\"5m\", size=10000)\n",
    "epoch = dt.datetime(1970,1,1)\n",
    "st = time.time()\n",
    "count = 0\n",
    "cern_rates = []\n",
    "tsindex = []\n",
    "for res in scroll:\n",
    "    r = res['_source']\n",
    "    #not count%1000000 : print (count)\n",
    "    #print (r.keys())\n",
    "    #r['timestamp'] = (dt.datetime.strptime(r['timestamp'].strip('Z').split('.')[0], '%Y-%m-%dT%H:%M:%S') - epoch).total_seconds()\n",
    "    try:\n",
    "        cern_rates.append([r['name'],r['timestamp']/1000,r['ingress'], r['egress'], r['incoming'],r['outcoming']])\n",
    "        tsindex.append(r['timestamp']/1000)\n",
    "    except KeyError:\n",
    "        break\n",
    "    count += 1\n",
    "print('Reading took',time.time() - st,'seconds.')\n",
    "print(count)\n",
    "cern_rates = pd.DataFrame(cern_rates, columns=['NAME', 'TS', 'ING','EGR', 'INC', 'OUTC'], index=tsindex)\n",
    "#####################\n",
    "# DST RATES\n",
    "#####\n",
    "period_start = dt.datetime.strptime(DATE,'%Y-%m-%d')\n",
    "period_end = dt.datetime.strptime(DATE,'%Y-%m-%d') + dt.timedelta(days=10)\n",
    "transfer_query = {\n",
    "    \"size\": 0,\n",
    "    \"_source\": [\"name\", \"timestamp\",\"ingress\", \"egress\", \"incoming\", \"outcoming\"],\n",
    "    'query':{\n",
    "        \"bool\" : {\n",
    "            \"must\" : [\n",
    "                {\"term\" : { \"name\" : \"%s\"%(dst) }},\n",
    "                {\"range\" : {\"timestamp\" : {  \"gte\": period_start } }},\n",
    "                {\"range\" : {\"timestamp\" : {  \"lt\" : period_end } }}\n",
    "                ]\n",
    "        }\n",
    "    }\n",
    "                \n",
    "}\n",
    "scroll = scan(client=es, index=indexes, query=transfer_query, scroll='5m', timeout=\"5m\", size=10000)\n",
    "epoch = dt.datetime(1970,1,1)\n",
    "st = time.time()\n",
    "count = 0\n",
    "bnl_rates = []\n",
    "tsindex2 = []\n",
    "for res in scroll:\n",
    "    r = res['_source']\n",
    "    #if not count%1000000 : print (count)\n",
    "    #print (r.keys())\n",
    "    #r['timestamp'] = (dt.datetime.strptime(r['timestamp'].strip('Z').split('.')[0], '%Y-%m-%dT%H:%M:%S') - epoch).total_seconds()\n",
    "    try:\n",
    "        bnl_rates.append([r['name'],r['timestamp']/1000,r['ingress'], r['egress'], r['incoming'],r['outcoming']])\n",
    "        tsindex2.append(r['timestamp']/1000)\n",
    "    except KeyError:\n",
    "        continue\n",
    "    count += 1\n",
    "print('Reading took',time.time() - st,'seconds.')\n",
    "print(count)\n",
    "bnl_rates = pd.DataFrame(bnl_rates, columns=['NAME', 'TS', 'ING','EGR', 'INC', 'OUTC'], index=tsindex2)\n"
   ]
  },
  {
   "cell_type": "code",
   "execution_count": 22,
   "metadata": {
    "collapsed": false
   },
   "outputs": [
    {
     "name": "stdout",
     "output_type": "stream",
     "text": [
      "11115\n",
      "5274\n",
      "50510\n",
      "4789\n",
      "32130\n",
      "Done in 350 sec.\n"
     ]
    }
   ],
   "source": [
    "activities = [ \"Data Consolidation\",\n",
    "               #\"Data Brokering\",\n",
    "               #\"Data Rebalancing\",\n",
    "               \"Express\",\n",
    "               #\"Functional Test\",\n",
    "               \"Production Input\",\n",
    "               \"Production Output\",\n",
    "               #\"Recovery\",\n",
    "               #\"Staging\",\n",
    "               #\"T0 Export\",\n",
    "               #\"T0 Tape\",\n",
    "               \"User Subscriptions\",\n",
    "             ]\n",
    "ts = time.time()\n",
    "cut = data.where(data.LINK == src+'__'+dst+'__'+activities[0]).dropna()\n",
    "print(len(cut))\n",
    "for act in activities[1:]:\n",
    "    subcut = data.where(data.LINK == src+'__'+dst+'__'+act).dropna()\n",
    "    print(len(subcut))\n",
    "    cut = pd.concat([cut,subcut])\n",
    "link_rate = []\n",
    "c_ing = []\n",
    "c_egr = []\n",
    "c_inc = []\n",
    "c_out =[]\n",
    "b_ing = []\n",
    "b_egr = []\n",
    "b_inc = []\n",
    "b_out =[]\n",
    "for t in cut.itertuples():\n",
    "    t_index = (t.STARTED - (t.STARTED%60))-60  # link rate at the previous minute\n",
    "    #print (rates.iloc(t_index))\n",
    "    link_rate.append(l_rates.loc[t_index].RATE)\n",
    "    c_ing.append(cern_rates.loc[t_index].ING)\n",
    "    c_egr.append(cern_rates.loc[t_index].EGR)\n",
    "    c_inc.append(cern_rates.loc[t_index].INC)\n",
    "    c_out.append(cern_rates.loc[t_index].OUTC)\n",
    "    b_ing.append(bnl_rates.loc[t_index].ING)\n",
    "    b_egr.append(bnl_rates.loc[t_index].EGR)\n",
    "    b_inc.append(bnl_rates.loc[t_index].INC)\n",
    "    b_out.append(bnl_rates.loc[t_index].OUTC)\n",
    "\n",
    "cut['LINK_RATE'] = link_rate\n",
    "cut['DST_ING'] = c_ing\n",
    "cut['DST_EGR'] = c_egr\n",
    "cut['DST_INC'] = c_inc\n",
    "cut['DST_OUT'] = c_out\n",
    "cut['SRC_ING'] = b_ing\n",
    "cut['SRC_EGR'] = b_egr\n",
    "cut['SRC_INC'] = b_inc\n",
    "cut['SRC_OUT'] = b_out\n",
    "cut = cut.set_index(pd.to_datetime(cut.STARTED, unit='s'))\n",
    "print('Done in %d sec.'%(time.time()-ts))"
   ]
  },
  {
   "cell_type": "markdown",
   "metadata": {},
   "source": [
    "### Correlation between the variables\n",
    "In all the cases, all the activities are taking into account unless it specified."
   ]
  },
  {
   "cell_type": "code",
   "execution_count": null,
   "metadata": {
    "collapsed": false
   },
   "outputs": [],
   "source": [
    "\n",
    "plt.plot(cut.CERN_INC, cut.CERN_ING,'.', label='incoming vs ingress')\n",
    "plt.plot(cut.CERN_OUT, cut.CERN_EGR,'.', label='outcoming vs egress')\n",
    "plt.title('# of incoming/outcoming transfers vs ingress/egress rates %s --> %s'%(src, dst))\n",
    "#plt.yscale('log')\n",
    "#plt.xscale('log')\n",
    "plt.xlabel('rate in MiB/s')\n",
    "plt.ylabel('# transfers')\n",
    "\n",
    "fig = plt.gcf()\n",
    "fig.set_size_inches(17, 8)\n",
    "plt.legend()\n",
    "plt.grid()\n",
    "print('This is something I was expecting')\n",
    "plt.show()"
   ]
  },
  {
   "cell_type": "code",
   "execution_count": null,
   "metadata": {
    "collapsed": false
   },
   "outputs": [],
   "source": [
    "plt.plot(cut.BNL_INC, cut.BNL_ING,'.', label='incoming vs ingress')\n",
    "plt.plot(cut.BNL_OUT, cut.BNL_EGR,'.', label='outcoming vs egress')\n",
    "plt.title('# ofincoming/outcoming transfers vs ingress/egress rates BNL-ATLAS (<-- CERN-PROD)')\n",
    "#plt.yscale('log')\n",
    "#plt.xscale('log')\n",
    "plt.xlabel('rate in MiB/s')\n",
    "plt.ylabel('# transfers')\n",
    "\n",
    "fig = plt.gcf()\n",
    "fig.set_size_inches(17, 8)\n",
    "plt.legend()\n",
    "plt.grid()\n",
    "print('This is something I was expecting')\n",
    "plt.show()"
   ]
  },
  {
   "cell_type": "markdown",
   "metadata": {},
   "source": [
    "Correlation values for CERN --> BNL (Prod Input only)"
   ]
  },
  {
   "cell_type": "code",
   "execution_count": 12,
   "metadata": {
    "collapsed": false
   },
   "outputs": [
    {
     "name": "stdout",
     "output_type": "stream",
     "text": [
      "50510\n"
     ]
    },
    {
     "data": {
      "text/plain": [
       "DST_INC     -0.070311\n",
       "DST_OUT     -0.064269\n",
       "SRC_INC     -0.063469\n",
       "DST_ING     -0.061589\n",
       "SRC_EGR     -0.033348\n",
       "Q_TIME      -0.020558\n",
       "T_TIME      -0.014249\n",
       "SRC_OUT     -0.009119\n",
       "STARTED      0.088283\n",
       "ENDED        0.088318\n",
       "SUBMITTED    0.088385\n",
       "SRC_ING      0.160038\n",
       "DST_EGR      0.171613\n",
       "LINK_RATE    0.188663\n",
       "SIZE         0.571462\n",
       "SIZE_MB      0.571462\n",
       "N_RATE       1.000000\n",
       "N_RATE_MB    1.000000\n",
       "Name: N_RATE, dtype: float64"
      ]
     },
     "execution_count": 12,
     "metadata": {},
     "output_type": "execute_result"
    }
   ],
   "source": [
    "cut_pi = cut.where(cut.LINK == '%s__%s__Production Input'%(src, dst)).dropna()\n",
    "print(len(cut_pi))\n",
    "cut_pi.corr().N_RATE.sort_values()"
   ]
  },
  {
   "cell_type": "markdown",
   "metadata": {},
   "source": [
    "Correlation values for CERN --> BNL (all important activities)"
   ]
  },
  {
   "cell_type": "code",
   "execution_count": 13,
   "metadata": {
    "collapsed": false
   },
   "outputs": [
    {
     "name": "stdout",
     "output_type": "stream",
     "text": [
      "103818\n"
     ]
    },
    {
     "data": {
      "text/plain": [
       "DST_OUT     -0.150777\n",
       "DST_ING     -0.126706\n",
       "SRC_EGR     -0.068321\n",
       "DST_INC     -0.065509\n",
       "SRC_OUT     -0.036508\n",
       "SRC_INC      0.076079\n",
       "SUBMITTED    0.076563\n",
       "STARTED      0.083752\n",
       "ENDED        0.083803\n",
       "Q_TIME       0.419323\n",
       "T_TIME       0.420514\n",
       "DST_EGR      0.470249\n",
       "SRC_ING      0.524233\n",
       "LINK_RATE    0.566274\n",
       "SIZE         0.722486\n",
       "SIZE_MB      0.722486\n",
       "N_RATE       1.000000\n",
       "N_RATE_MB    1.000000\n",
       "Name: N_RATE, dtype: float64"
      ]
     },
     "execution_count": 13,
     "metadata": {},
     "output_type": "execute_result"
    }
   ],
   "source": [
    "print (len(cut))\n",
    "cut.corr().N_RATE.sort_values()"
   ]
  },
  {
   "cell_type": "markdown",
   "metadata": {
    "collapsed": true
   },
   "source": [
    "## Transfer rates vs Other variables"
   ]
  },
  {
   "cell_type": "code",
   "execution_count": null,
   "metadata": {
    "collapsed": false
   },
   "outputs": [],
   "source": [
    "plt.plot(cut.N_RATE_MB, cut.LINK_RATE,'.', label='all activities')\n",
    "plt.plot(cut_pi.N_RATE_MB, cut_pi.LINK_RATE,'.', label='only prod input')\n",
    "plt.title('Transfer vs Link rates %s --> %s'%(src, dst))\n",
    "plt.yscale('log')\n",
    "plt.xscale('log')\n",
    "plt.xlabel('transf rate in MiB/s')\n",
    "plt.ylabel('link rate in MiB/s')\n",
    "\n",
    "fig = plt.gcf()\n",
    "fig.set_size_inches(17, 8)\n",
    "plt.legend()\n",
    "plt.grid()\n",
    "plt.show()"
   ]
  },
  {
   "cell_type": "code",
   "execution_count": null,
   "metadata": {
    "collapsed": false
   },
   "outputs": [],
   "source": [
    "#plt.plot(cut.N_RATE, cut.CERN_ING,'.', alpha=0.5, label='CERN ingress rate')\n",
    "#plt.plot(cut.N_RATE, cut.CERN_EGR,'.', alpha=0.5, label='CERN ingress rate')\n",
    "plt.plot(cut.N_RATE_MB, cut.SRC_ING,'.', alpha=0.5, label='ingress rate')\n",
    "plt.plot(cut.N_RATE_MB, cut.SRC_EGR,'.', alpha=0.5, label='egress rate')\n",
    "plt.title('Transfer Rate vs ingress/eggress rates for %s --> %s'%(src, dst))\n",
    "plt.yscale('log')\n",
    "plt.xscale('log')\n",
    "plt.xlabel('transf rate in MiB/s')\n",
    "plt.ylabel('rate in MiB/s')\n",
    "\n",
    "fig = plt.gcf()\n",
    "fig.set_size_inches(17, 8)\n",
    "plt.legend()\n",
    "plt.grid()\n",
    "plt.show()"
   ]
  },
  {
   "cell_type": "code",
   "execution_count": null,
   "metadata": {
    "collapsed": false
   },
   "outputs": [],
   "source": [
    "plt.plot(cut.N_RATE_MB, cut.DST_ING,'.', alpha=0.5, label='ingress rate')\n",
    "plt.plot(cut.N_RATE_MB, cut.DST_EGR,'.', alpha=0.5, label='egress rate')\n",
    "#plt.plot(cut.N_RATE_MB, cut.BNL_ING,'.', alpha=0.5, label='BNL ingress rate')\n",
    "#plt.plot(cut.N_RATE_MB, cut.BNL_EGR,'.', alpha=0.5, label='BNL egress rate')\n",
    "plt.title('Transfer rate vs ingress/egress rates for %s --> %s'%(src, dst))\n",
    "plt.yscale('log')\n",
    "plt.xscale('log')\n",
    "plt.xlabel('transf rate in MiB/s')\n",
    "plt.ylabel('rate in MiB/s')\n",
    "\n",
    "fig = plt.gcf()\n",
    "fig.set_size_inches(17, 8)\n",
    "plt.legend()\n",
    "plt.grid()\n",
    "plt.show()"
   ]
  },
  {
   "cell_type": "code",
   "execution_count": null,
   "metadata": {
    "collapsed": false
   },
   "outputs": [],
   "source": [
    "#plt.plot(cut.N_RATE_MB, cut.CERN_ING,'.', alpha=0.5, label='CERN ingress rate')\n",
    "#plt.plot(cut.N_RATE_MB, cut.CERN_EGR,'.', alpha=0.5, label='CERN egress rate')\n",
    "plt.plot(cut.N_RATE_MB, cut.BNL_INC,'.', alpha=0.5, label='BNL incoming rate')\n",
    "plt.plot(cut.N_RATE_MB, cut.BNL_OUT,'.', alpha=0.5, label='BNL outcoming rate')\n",
    "plt.title('Transfer rate vs BNL incoming/outcoming transfers for CERN-PROD --> BNL-ATLAS')\n",
    "plt.yscale('log')\n",
    "plt.xscale('log')\n",
    "plt.xlabel('transf rate in MiB/s')\n",
    "plt.ylabel('# transfers')\n",
    "\n",
    "fig = plt.gcf()\n",
    "fig.set_size_inches(17, 8)\n",
    "plt.legend()\n",
    "plt.grid()\n",
    "plt.show()"
   ]
  },
  {
   "cell_type": "code",
   "execution_count": null,
   "metadata": {
    "collapsed": false
   },
   "outputs": [],
   "source": [
    "plt.plot(cut.N_RATE_MB, cut.CERN_INC,'.', alpha=0.5, label='CERN incoming')\n",
    "plt.plot(cut.N_RATE_MB, cut.CERN_OUT,'.', alpha=0.5, label='CERN outcoming')\n",
    "#plt.plot(cut.N_RATE_MB, cut.BNL_ING,'.', alpha=0.5, label='BNL ingress rate')\n",
    "#plt.plot(cut.N_RATE_MB, cut.BNL_EGR,'.', alpha=0.5, label='BNL egress rate')\n",
    "plt.title('Transfer rate vs CERN incoming/outcoming transfers for %s --> %s'%(src, dst))\n",
    "plt.yscale('log')\n",
    "plt.xscale('log')\n",
    "plt.xlabel('transf rate in MiB/s')\n",
    "plt.ylabel('# transfers')\n",
    "\n",
    "fig = plt.gcf()\n",
    "fig.set_size_inches(17, 8)\n",
    "plt.legend()\n",
    "plt.grid()\n",
    "plt.show()"
   ]
  },
  {
   "cell_type": "code",
   "execution_count": null,
   "metadata": {
    "collapsed": false
   },
   "outputs": [],
   "source": [
    "x = cut.where(cut.BNL_INC>0).dropna()\n",
    "y = x.where(x.N_RATE_MB>0).dropna()\n",
    "\n",
    "heatmap, xedges, yedges = np.histogram2d(np.log(y.N_RATE_MB), np.log(x.BNL_INC), bins=50)\n",
    "extent = [xedges[0], xedges[-1], yedges[0], yedges[-1]]\n",
    "\n",
    "plt.clf()\n",
    "plt.imshow(heatmap.T, extent=extent, origin='lower', cmap='coolwarm')\n",
    "plt.gcf().set_size_inches(17, 8)\n",
    "plt.colorbar()\n",
    "plt.show()"
   ]
  },
  {
   "cell_type": "code",
   "execution_count": null,
   "metadata": {
    "collapsed": false
   },
   "outputs": [],
   "source": [
    "x = cut.where(cut.CERN_INC>0).dropna()\n",
    "y = x.where(x.N_RATE_MB>0).dropna()\n",
    "\n",
    "heatmap, xedges, yedges = np.histogram2d(np.log(y.N_RATE_MB), np.log(x.CERN_INC), bins=50)\n",
    "extent = [xedges[0], xedges[-1], yedges[0], yedges[-1]]\n",
    "\n",
    "plt.clf()\n",
    "plt.imshow(heatmap.T, extent=extent, origin='lower', cmap='coolwarm',)\n",
    "plt.gcf().set_size_inches(17, 8)\n",
    "plt.colorbar()\n",
    "plt.show()"
   ]
  },
  {
   "cell_type": "code",
   "execution_count": null,
   "metadata": {
    "collapsed": false
   },
   "outputs": [],
   "source": [
    "plt.plot(cut.N_RATE_MB, cut.SIZE_MB,'.', alpha=0.5, label='transf vs size')\n",
    "plt.plot(cut.SIZE_MB, cut.N_RATE_MB,'.', alpha=0.5, label='size vs transf')\n",
    "plt.plot(cut_pi.SIZE_MB, cut_pi.N_RATE_MB,'.', alpha=0.5, label='size vs transf (prod input only)')\n",
    "#plt.plot(cut.N_RATE, cut.CERN_EGR,'.', alpha=0.5, label='CERN egress rate')\n",
    "#plt.plot(cut.N_RATE, cut.BNL_ING,'.', alpha=0.5, label='BNL ingress rate')\n",
    "#plt.plot(cut.N_RATE, cut.BNL_EGR,'.', alpha=0.5, label='BNL egress rate')\n",
    "plt.title('Size/Transfer rate relation for BNL-ATLAS --> CERN-PROD')\n",
    "plt.yscale('log')\n",
    "plt.xscale('log')\n",
    "plt.xlabel('rate in MiB/s')\n",
    "plt.ylabel('rate in MiB/s')\n",
    "\n",
    "fig = plt.gcf()\n",
    "fig.set_size_inches(17, 8)\n",
    "plt.legend()\n",
    "plt.grid()\n",
    "plt.show()\n",
    "print(len(cut))\n",
    "print(len(cut_pi))"
   ]
  },
  {
   "cell_type": "code",
   "execution_count": 65,
   "metadata": {
    "collapsed": false
   },
   "outputs": [
    {
     "name": "stdout",
     "output_type": "stream",
     "text": [
      "103728\n",
      "103818\n",
      "[  4.10797542e+07   3.01072648e+00   3.93262560e+07]\n",
      "[[  8.85200049e+09   1.34367855e+03  -0.00000000e+00]\n",
      " [  1.34367855e+03   6.94142699e-04  -0.00000000e+00]\n",
      " [  0.00000000e+00   0.00000000e+00   8.71831805e+10]]\n",
      "[  4.10797542e+07   3.01072648e+00   3.93262560e+07] [  9.40850705e+04   2.63465880e-02   2.95267981e+05]\n"
     ]
    },
    {
     "name": "stderr",
     "output_type": "stream",
     "text": [
      "/home/ivukotic/anaconda3/lib/python3.5/site-packages/ipykernel/__main__.py:52: SettingWithCopyWarning: \n",
      "A value is trying to be set on a copy of a slice from a DataFrame\n",
      "\n",
      "See the caveats in the documentation: http://pandas.pydata.org/pandas-docs/stable/indexing.html#indexing-view-versus-copy\n"
     ]
    }
   ],
   "source": [
    "def objective(vars, x, data):\n",
    "    rate = vars[0]\n",
    "    overhead = vars[1]\n",
    "    diskrw_limit = vars[2]\n",
    "    model = x/((x/rate)+overhead)\n",
    "    model[model>float(diskrw_limit)] = diskrw_limit\n",
    "    return data - model\n",
    "\n",
    "def f( x, rate, overhead, diskrw_limit):\n",
    "    model = x/((x/rate)+overhead)\n",
    "    model[model>float(diskrw_limit)] = diskrw_limit\n",
    "    return model\n",
    "\n",
    "def ff(x, p):\n",
    "    return f(x, *p)\n",
    "\n",
    "def fit_leastsq(p0, datax, datay, function):\n",
    "\n",
    "    errfunc = lambda p, x, y: function(x,p) - y\n",
    "\n",
    "    pfit, pcov, infodict, errmsg, success = \\\n",
    "        leastsq(errfunc, p0, args=(datax, datay), \\\n",
    "                          full_output=1)\n",
    "    print(pfit)\n",
    "    if (len(datay) > len(p0)) and pcov is not None:\n",
    "        s_sq = (errfunc(pfit, datax, datay)**2).sum()/(len(datay)-len(p0))\n",
    "        pcov = pcov * s_sq\n",
    "    else:\n",
    "        pcov = np.inf\n",
    "\n",
    "    error = [] \n",
    "    print(pcov)\n",
    "    for i in range(len(pfit)):\n",
    "        try:\n",
    "          error.append(np.absolute(pcov[i][i])**0.5)\n",
    "        except:\n",
    "          error.append( 0.00 )\n",
    "    pfit_leastsq = pfit\n",
    "    perr_leastsq = np.array(error) \n",
    "    return pfit_leastsq, perr_leastsq \n",
    "\n",
    "cut2 = cut.where(cut.N_RATE != np.inf).dropna()\n",
    "print(len(cut.where(cut.N_RATE != np.inf).dropna()))\n",
    "print(len(cut))\n",
    "vars = [cut2.N_RATE.mean(), .1, 100.0]\n",
    "#out = leastsq(objective, vars, args=(cut2.SIZE, cut2.N_RATE),full_output=1)\n",
    "pfit, perr = fit_leastsq(vars, cut2.SIZE, cut2.N_RATE, ff)\n",
    " \n",
    "print(pfit, perr)\n",
    "rate = pfit[0]\n",
    "overhead = pfit[1]\n",
    "diskrw = pfit[2]\n",
    "cut2['NLFIT'] = cut2.SIZE/((cut2.SIZE/rate)+overhead)\n",
    "cut2['NLFIT'][cut2['NLFIT']>diskrw]=diskrw\n"
   ]
  },
  {
   "cell_type": "code",
   "execution_count": 64,
   "metadata": {
    "collapsed": false
   },
   "outputs": [
    {
     "name": "stdout",
     "output_type": "stream",
     "text": [
      "MAE:4.29 R²:0.70\n"
     ]
    },
    {
     "data": {
      "image/png": "[encoded data removed]",
      "text/plain": [
       "<matplotlib.figure.Figure at 0x7f7d3c359c88>"
      ]
     },
     "metadata": {},
     "output_type": "display_data"
    }
   ],
   "source": [
    "plt.plot(cut2.SIZE_MB, cut2.N_RATE_MB,'.', label='rate')\n",
    "plt.plot(cut2.SIZE_MB, cut2.NLFIT/(1024*1024),'.', label='pred')\n",
    "plt.title('NETWORK rates for %s --> %s'%(src, dst))\n",
    "plt.xscale('log')\n",
    "plt.yscale('log')\n",
    "plt.xlabel('Link Rate in MiB/s')\n",
    "plt.ylabel('Transfer rate in MiB/s')\n",
    "\n",
    "fig = plt.gcf()\n",
    "fig.set_size_inches(17, 8)\n",
    "plt.legend()\n",
    "plt.grid()\n",
    "print ('MAE:%.02f R²:%.02f'%(mae(cut2.N_RATE_MB, cut2.NLFIT/(1024*1024)),r2(cut2.N_RATE, cut2.NLFIT)))\n",
    "plt.show()"
   ]
  },
  {
   "cell_type": "code",
   "execution_count": null,
   "metadata": {
    "collapsed": false
   },
   "outputs": [],
   "source": [
    "fplot = plt.figure().gca(projection='3d')\n",
    "#plt.plot(cut[['SIZE_MB']],cut.N_TIME/(1024*1024),'.', label='real rate')\n",
    "#plt.plot(cut[['SIZE_MB']],cut.LINK_RATE,'.', label='real rate')\n",
    "fplot.scatter(cut.SIZE_MB,cut.LINK_RATE,cut.N_RATE_MB, marker='.',alpha=0.2, label='real')\n",
    "fplot.scatter(cut.SIZE_MB,cut.LINK_RATE,cut.NLFIT/(1024*1024), marker='^',alpha=0.9, label='real')\n",
    "#fplot.scatter(cut.SIZE_MB,cut.LINK_RATE,cut.N_PRED,marker='^',alpha=0.5, label='pred')\n",
    "#fplot.scatter(cut.SIZE_MB,cut.LINK_RATE,cut.N_PRED_FI,marker='s',alpha=0.5, label='pred')\n",
    "fplot.set_xlabel('SIZE in MiB')\n",
    "fplot.set_ylabel('link rate in MiB/s')\n",
    "fplot.set_zlabel('transfer rate in MiB/s')\n",
    "#fplot.set_xscale('log')\n",
    "#fplot.set_yscale('log')\n",
    "#fplot.set_zscale('log')\n",
    "#plt.plot(cut[['SIZE_MB']],cut.N_TIME/(1024*1024),cut.N_PRED_FI,zdir='z',fmt='.', label='pred rate with fit intercept',alpha=0.5)\n",
    "\n",
    "#n_mae_fi = mae(cut.N_TIME/(1024*1024), cut.N_PRED_FI)\n",
    "#n_mse_fi = mse(cut.N_TIME/(1024*1024), cut.N_PRED_FI)\n",
    "#n_r2_fi = r2(cut.N_TIME/(1024*1024), cut.N_PRED_FI)\n",
    "#n_mae = mae(cut.N_TIME/(1024*1024), cut.N_PRED)\n",
    "#n_mse = mse(cut.N_TIME/(1024*1024), cut.N_PRED)\n",
    "#n_r2 = r2(cut.N_TIME/(1024*1024), cut.N_PRED)\n",
    "plt.title('NETWORK rates for CERN-PROD --> BNL-ATLAS')# (R² no fit inter:%0.02f | R² fit inter:%0.02f)'%(n_r2_fi,n_r2))\n",
    "#plt.yscale('log')\n",
    "#plt.xscale('log')\n",
    "#plt.xlabel('File size in MiB')\n",
    "#plt.ylabel('Transfer rate in MiB/s')\n",
    "fig = plt.gcf()\n",
    "fig.set_size_inches(20, 15)\n",
    "plt.legend()\n",
    "#plt.grid()\n",
    "\n",
    "fplot.view_init(10,9)\n",
    "plt.draw()\n",
    "plt.show()"
   ]
  },
  {
   "cell_type": "code",
   "execution_count": null,
   "metadata": {
    "collapsed": true
   },
   "outputs": [],
   "source": []
  }
 ],
 "metadata": {
  "kernelspec": {
   "display_name": "Python 3",
   "language": "python",
   "name": "python3"
  },
  "language_info": {
   "codemirror_mode": {
    "name": "ipython",
    "version": 3
   },
   "file_extension": ".py",
   "mimetype": "text/x-python",
   "name": "python",
   "nbconvert_exporter": "python",
   "pygments_lexer": "ipython3",
   "version": "3.5.1"
  }
 },
 "nbformat": 4,
 "nbformat_minor": 0
}
