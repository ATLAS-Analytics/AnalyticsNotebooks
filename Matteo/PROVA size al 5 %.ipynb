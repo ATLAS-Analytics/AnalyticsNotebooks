{
 "cells": [
  {
   "cell_type": "code",
   "execution_count": 3,
   "metadata": {
    "collapsed": false
   },
   "outputs": [],
   "source": [
    "import numpy as np\n",
    "import matplotlib.pyplot as plt\n",
    "import datetime\n",
    "import re\n",
    "import json\n",
    "from pandas.io.json import json_normalize\n",
    "from IPython.display import display\n",
    "from pandas import HDFStore,DataFrame\n",
    "import pandas as pd\n",
    "import pickle\n",
    "\n",
    "%matplotlib inline "
   ]
  },
  {
   "cell_type": "markdown",
   "metadata": {},
   "source": [
    "<h2>Open files and read in dataframes</h2>"
   ]
  },
  {
   "cell_type": "code",
   "execution_count": 35,
   "metadata": {
    "collapsed": false
   },
   "outputs": [
    {
     "name": "stdout",
     "output_type": "stream",
     "text": [
      "12267\n",
      "          dsid  ptag  cputime  taskid  user  walltime  site   nevents\n",
      "0       178044   811    32586       8     8     60435     8   1771256\n",
      "1       178047   811     1401       8     8      3720     8     45912\n",
      "2       178109   811    91322      10    10    182843    10   3320622\n",
      "3       179710   811    52033       9     9     88649     9   2599976\n",
      "4       179725   811    21981       8     8     35439     9   1015208\n",
      "5       179739   811    34740       9     9     80375     9   1347904\n",
      "6       179771   811    13699       8     8     31602     8    574752\n",
      "7       179804   811   137603       9     9    284477    10   3945213\n",
      "8       179938   811    11512       8     8     17183     8    536384\n",
      "9       179939   811    36737       8     8     80245     8   1808544\n",
      "10      179940   811     2190       7     7      6330     7     85897\n",
      "11      180122   811    45122       8     8    145076     8   2410688\n",
      "12      180124   811   118239       8     8    217899     8   3274888\n",
      "13      180139   811    68406       8     8    156515     8   3278088\n",
      "14      180144   811    39830       9     9     84899     9   1558344\n",
      "15      180149   811    67686       9     9    132269    10   1778274\n",
      "16      180153   811   113287      10    10    224583    11   3853025\n",
      "17      180164   811   213132      10    10    479574    10   7577645\n",
      "18      180212   811     2350       9     9     10279     9     52254\n",
      "19      180225   811   262698      11    11    568126    13   7644895\n",
      "20      180241   811    71874      10    10    163535    10   2147855\n",
      "21      180242   811    80169      10    10    211193    10   2465975\n",
      "22      180309   811   145546      12    12    380666    13   4051139\n",
      "23      180400   811   188493       9     9    439393    10   5114816\n",
      "24      180448   811    14502      10    10     37180    11    426997\n",
      "25      180481   811   294376      12    12   1014054    15   8324712\n",
      "26      180614   811    40296       9     9     71324     9   1138176\n",
      "27      180636   811   268588      11    11    510273    14   8356742\n",
      "28      180664   811    32312       8     8     60859     8   1080976\n",
      "29      180710   811   125541       9     9    234223     9   4424920\n",
      "...        ...   ...      ...     ...   ...       ...   ...       ...\n",
      "122397  428002     0      952       1     1      7058     3      5000\n",
      "122398  428002     0     1798       4     4     14167     7    150000\n",
      "122399  428002     0     1251       2     2      5089     4    100000\n",
      "122400  428002     0     1001       1     1      7000     2      5000\n",
      "122401  428002     0     1895       4     4     14508     6    150000\n",
      "122402  428002     0     1311       2     2      5293     3    100000\n",
      "122403  428002     0     1450       2     2   -155549     3      5000\n",
      "122404  428002     0      330       1     1      1333     1     10000\n",
      "122405  428002     0      554       1     1      3149     1     47500\n",
      "122406  428002     0      858       1     1      4168     1     50000\n",
      "122407  428002     0      984       1     1      4448     1     49900\n",
      "122408  361107  2442    65550       4     4     94777     4   7985600\n",
      "122409  361107  2442    85316       4     4    119220     5   7993600\n",
      "122410  361107  2442    81650       4     4    110040     5   7998400\n",
      "122411  361107  2442    98448       4     4    121680     5   7988000\n",
      "122412  361107  2442    96181       4     4    116940     5   7997600\n",
      "122413  361107  2442    96564       4     4    120360     4   7999200\n",
      "122414  361107  2442   101838       5     5    125340     6   7996000\n",
      "122415  361107  2442    82928       5     5    109980     7   7986400\n",
      "122416  361107  2442    75634       5     5     97560     7   7996000\n",
      "122417  361107  2442    76599       6     6     94020     8   7915200\n",
      "122418  429400  2613    29558       3     3     73970     3   9990000\n",
      "122419  429401  2613    28319       2     2     42154     2  10000000\n",
      "122420  429402  2613    29317       3     3     48303     3  10000000\n",
      "122421  429404  2613    37521       2     2     51845     2  10000000\n",
      "122422  429405  2613    25320       3     3     43982     3  10000000\n",
      "122423  429406  2613    23579       3     3     34657     3  10000000\n",
      "122424  429407  2613    33278       3     3     50916     3  10000000\n",
      "122425  429408  2613    27971       2     2     49452     2  10000000\n",
      "122426  429409  2613    27820       2     2     44641     3   9990000\n",
      "\n",
      "[122427 rows x 8 columns]\n"
     ]
    }
   ],
   "source": [
    "#filename = '../Federica/DataPopularity_ML/simpleModel_start_2017-02-17_meas_7_pred_7'\n",
    "\n",
    "df_X = pd.read_hdf('../Matteo/store_size.h5', 'df_X_size')\n",
    "df_Y = pd.read_hdf('../Matteo/store_size.h5', 'df_Y_size_710000000000')\n",
    "print(df_Y.sum())\n",
    "print(df_X)"
   ]
  },
  {
   "cell_type": "code",
   "execution_count": 5,
   "metadata": {
    "collapsed": false
   },
   "outputs": [
    {
     "data": {
      "text/plain": [
       "(122427, 8)"
      ]
     },
     "metadata": {},
     "output_type": "display_data"
    },
    {
     "data": {
      "text/plain": [
       "(122427,)"
      ]
     },
     "metadata": {},
     "output_type": "display_data"
    }
   ],
   "source": [
    "#Facultative! try to improve modelling by dropping a few columns (dsid, ptag)\n",
    "\n",
    "display(df_X.shape)\n",
    "#df_X = df_X.drop([col for col in df_X.columns if 'dsid' in col], axis=1)\n",
    "#df_X = df_X.drop([col for col in df_X.columns if 'ptag' in col], axis=1)\n",
    "#df_X =  df_X.drop([col for col in df_X.columns if 'type' in col], axis=1)\n",
    "#df_X =  df_X.drop([col for col in df_X.columns if 'scope' in col], axis=1)\n",
    "display(df_Y.shape)"
   ]
  },
  {
   "cell_type": "code",
   "execution_count": 4,
   "metadata": {
    "collapsed": false
   },
   "outputs": [
    {
     "data": {
      "text/html": [
       "<div>\n",
       "<style>\n",
       "    .dataframe thead tr:only-child th {\n",
       "        text-align: right;\n",
       "    }\n",
       "\n",
       "    .dataframe thead th {\n",
       "        text-align: left;\n",
       "    }\n",
       "\n",
       "    .dataframe tbody tr th {\n",
       "        vertical-align: top;\n",
       "    }\n",
       "</style>\n",
       "<table border=\"1\" class=\"dataframe\">\n",
       "  <thead>\n",
       "    <tr style=\"text-align: right;\">\n",
       "      <th></th>\n",
       "      <th>name</th>\n",
       "      <th>scope</th>\n",
       "      <th>user</th>\n",
       "      <th>taskid</th>\n",
       "      <th>cputime</th>\n",
       "      <th>pandaid</th>\n",
       "      <th>size</th>\n",
       "      <th>nfiles</th>\n",
       "      <th>site</th>\n",
       "      <th>walltime</th>\n",
       "      <th>nevents</th>\n",
       "      <th>dsid</th>\n",
       "      <th>ptag</th>\n",
       "      <th>type</th>\n",
       "    </tr>\n",
       "  </thead>\n",
       "  <tbody>\n",
       "    <tr>\n",
       "      <th>0</th>\n",
       "      <td>data15_13TeV.00266904.physics_Main.merge.DAOD_...</td>\n",
       "      <td>data15_13TeV</td>\n",
       "      <td>2</td>\n",
       "      <td>2</td>\n",
       "      <td>521</td>\n",
       "      <td>22</td>\n",
       "      <td>140932680</td>\n",
       "      <td>364</td>\n",
       "      <td>4</td>\n",
       "      <td>6201</td>\n",
       "      <td>772</td>\n",
       "      <td>266904</td>\n",
       "      <td>2950</td>\n",
       "      <td>DAOD_EGAM1</td>\n",
       "    </tr>\n",
       "    <tr>\n",
       "      <th>1</th>\n",
       "      <td>data15_13TeV.00266904.physics_Main.merge.DAOD_...</td>\n",
       "      <td>data15_13TeV</td>\n",
       "      <td>4</td>\n",
       "      <td>5</td>\n",
       "      <td>4125</td>\n",
       "      <td>226</td>\n",
       "      <td>157285182</td>\n",
       "      <td>226</td>\n",
       "      <td>7</td>\n",
       "      <td>45990</td>\n",
       "      <td>5822</td>\n",
       "      <td>266904</td>\n",
       "      <td>2950</td>\n",
       "      <td>DAOD_EXOT17</td>\n",
       "    </tr>\n",
       "    <tr>\n",
       "      <th>2</th>\n",
       "      <td>data15_13TeV.00266904.physics_Main.merge.DAOD_...</td>\n",
       "      <td>data15_13TeV</td>\n",
       "      <td>1</td>\n",
       "      <td>1</td>\n",
       "      <td>424</td>\n",
       "      <td>15</td>\n",
       "      <td>446525578</td>\n",
       "      <td>71</td>\n",
       "      <td>1</td>\n",
       "      <td>3188</td>\n",
       "      <td>0</td>\n",
       "      <td>266904</td>\n",
       "      <td>2880</td>\n",
       "      <td>DAOD_HIGG2D1</td>\n",
       "    </tr>\n",
       "    <tr>\n",
       "      <th>3</th>\n",
       "      <td>data15_13TeV.00266904.physics_Main.merge.DAOD_...</td>\n",
       "      <td>data15_13TeV</td>\n",
       "      <td>1</td>\n",
       "      <td>1</td>\n",
       "      <td>475</td>\n",
       "      <td>11</td>\n",
       "      <td>593515038</td>\n",
       "      <td>74</td>\n",
       "      <td>1</td>\n",
       "      <td>8940</td>\n",
       "      <td>20192</td>\n",
       "      <td>266904</td>\n",
       "      <td>2950</td>\n",
       "      <td>DAOD_HIGG4D3</td>\n",
       "    </tr>\n",
       "    <tr>\n",
       "      <th>4</th>\n",
       "      <td>data15_13TeV.00266904.physics_Main.merge.DAOD_...</td>\n",
       "      <td>data15_13TeV</td>\n",
       "      <td>2</td>\n",
       "      <td>2</td>\n",
       "      <td>265</td>\n",
       "      <td>11</td>\n",
       "      <td>63051094</td>\n",
       "      <td>113</td>\n",
       "      <td>2</td>\n",
       "      <td>2992</td>\n",
       "      <td>2720</td>\n",
       "      <td>266904</td>\n",
       "      <td>2950</td>\n",
       "      <td>DAOD_HIGG4D5</td>\n",
       "    </tr>\n",
       "  </tbody>\n",
       "</table>\n",
       "</div>"
      ],
      "text/plain": [
       "                                                name         scope  user  \\\n",
       "0  data15_13TeV.00266904.physics_Main.merge.DAOD_...  data15_13TeV     2   \n",
       "1  data15_13TeV.00266904.physics_Main.merge.DAOD_...  data15_13TeV     4   \n",
       "2  data15_13TeV.00266904.physics_Main.merge.DAOD_...  data15_13TeV     1   \n",
       "3  data15_13TeV.00266904.physics_Main.merge.DAOD_...  data15_13TeV     1   \n",
       "4  data15_13TeV.00266904.physics_Main.merge.DAOD_...  data15_13TeV     2   \n",
       "\n",
       "   taskid  cputime  pandaid       size  nfiles  site  walltime  nevents  \\\n",
       "0       2      521       22  140932680     364     4      6201      772   \n",
       "1       5     4125      226  157285182     226     7     45990     5822   \n",
       "2       1      424       15  446525578      71     1      3188        0   \n",
       "3       1      475       11  593515038      74     1      8940    20192   \n",
       "4       2      265       11   63051094     113     2      2992     2720   \n",
       "\n",
       "     dsid  ptag          type  \n",
       "0  266904  2950    DAOD_EGAM1  \n",
       "1  266904  2950   DAOD_EXOT17  \n",
       "2  266904  2880  DAOD_HIGG2D1  \n",
       "3  266904  2950  DAOD_HIGG4D3  \n",
       "4  266904  2950  DAOD_HIGG4D5  "
      ]
     },
     "metadata": {},
     "output_type": "display_data"
    },
    {
     "data": {
      "text/plain": [
       "0    0\n",
       "1    0\n",
       "2    0\n",
       "3    0\n",
       "4    0\n",
       "Name: accessed, dtype: int64"
      ]
     },
     "metadata": {},
     "output_type": "display_data"
    },
    {
     "name": "stdout",
     "output_type": "stream",
     "text": [
      "Total df\n"
     ]
    },
    {
     "data": {
      "text/plain": [
       "(30321, 14)"
      ]
     },
     "metadata": {},
     "output_type": "display_data"
    },
    {
     "data": {
      "text/plain": [
       "(30321,)"
      ]
     },
     "metadata": {},
     "output_type": "display_data"
    },
    {
     "data": {
      "text/plain": [
       "(30048, 14)"
      ]
     },
     "metadata": {},
     "output_type": "display_data"
    },
    {
     "data": {
      "text/plain": [
       "(273, 14)"
      ]
     },
     "metadata": {},
     "output_type": "display_data"
    }
   ],
   "source": [
    "#check what they look like\n",
    "\n",
    "display(df_X.head(5))\n",
    "display(df_Y.head(5))\n",
    "\n",
    "print('Total df')\n",
    "display(df_X.shape)\n",
    "display(df_Y.shape)\n",
    "\n",
    "display(df_X[df_Y<0.5].shape)\n",
    "display(df_X[df_Y>0.5].shape)   "
   ]
  },
  {
   "cell_type": "markdown",
   "metadata": {},
   "source": [
    "<h2>Transform to np.array</h2>"
   ]
  },
  {
   "cell_type": "code",
   "execution_count": 62,
   "metadata": {
    "collapsed": false
   },
   "outputs": [
    {
     "name": "stdout",
     "output_type": "stream",
     "text": [
      "(122427, 6)\n",
      "(122427,)\n"
     ]
    }
   ],
   "source": [
    "#drop strings...\n",
    "df_X = df_X.drop([col for col in df_X.columns if 'cputime' in col], axis=1)\n",
    "df_X = df_X.drop([col for col in df_X.columns if 'walltime' in col], axis=1)\n",
    "#df_X =  df_X.drop([col for col in df_X.columns if 'type' in col], axis=1)\n",
    "#df_X =  df_X.drop([col for col in df_X.columns if 'scope' in col], axis=1)\n",
    "#df_X =  df_X.drop([col for col in df_X.columns if 'name' in col], axis=1)\n",
    "\n",
    "X = df_X.as_matrix().astype(np.float)\n",
    "Y = df_Y.as_matrix().astype(np.float)\n",
    "print(X.shape)\n",
    "print(Y.shape)"
   ]
  },
  {
   "cell_type": "markdown",
   "metadata": {},
   "source": [
    "## The Training and Testing Split\n",
    "\n",
    "This will split data into train-test sets: 67%-33%. It will also shuffle entries so you will not get the first 67% of `X` for training and the last 33% for testing. The first will be used for training the classifier and the second to evaluate its performance."
   ]
  },
  {
   "cell_type": "code",
   "execution_count": 213,
   "metadata": {
    "collapsed": false
   },
   "outputs": [
    {
     "name": "stdout",
     "output_type": "stream",
     "text": [
      "Used for training: 20315\n",
      "Used for testing:  10006\n"
     ]
    }
   ],
   "source": [
    "from sklearn.model_selection import train_test_split\n",
    "\n",
    "#first split into development (to optimise hyperparameters) and evaluation (to train+test final model) samples\n",
    "X_dev,X_eval, y_dev,y_eval = train_test_split(X, Y, test_size=0.50, random_state=42)\n",
    "#X = X_eval\n",
    "#Y = y_eval\n",
    "\n",
    "print('Used for development (hyperparameters optimization): '+str(len(y_dev)))\n",
    "print('Used for training+testing: '+str(len(y_eval)))\n",
    "\n",
    "X_train, X_test, y_train,y_test = train_test_split(X, Y, test_size=0.33, random_state=492)\n",
    "\n",
    "print('Used for training: '+str(len(y_train)))\n",
    "print('Used for testing:  '+str(len(y_test)))"
   ]
  },
  {
   "cell_type": "markdown",
   "metadata": {},
   "source": [
    "## Assessing a Classifier's Performance\n",
    "\n",
    "All the fucntions below will be used once the model is trained\n",
    "\n",
    "Documentation:\n",
    "http://scikit-learn.org/stable/modules/generated/sklearn.metrics.precision_recall_fscore_support.html"
   ]
  },
  {
   "cell_type": "code",
   "execution_count": 27,
   "metadata": {
    "collapsed": true
   },
   "outputs": [],
   "source": [
    "def checkPrediction(X, Y, bdt):\n",
    "    from sklearn.metrics import mean_squared_error\n",
    "    \n",
    "    y_predicted = bdt.predict(X)\n",
    "    print(classification_report(Y, y_predicted, target_names=[\"background\", \"signal\"]))\n",
    "    print(\"Area under ROC curve: %.4f\"%(roc_auc_score(Y, bdt.decision_function(X)))) \n",
    "    print(\"MSE (Mean Square Error): %.4f\" % (mean_squared_error(Y, y_predicted)))\n",
    "    return"
   ]
  },
  {
   "cell_type": "code",
   "execution_count": 28,
   "metadata": {
    "collapsed": true
   },
   "outputs": [],
   "source": [
    "#confusion matrix\n",
    "\n",
    "def cmReport(CM):\n",
    "  \n",
    "    TN = CM[0][0]\n",
    "    FN = CM[1][0]\n",
    "    TP = CM[1][1]\n",
    "    FP = CM[0][1]\n",
    "\n",
    "\n",
    "    # Sensitivity, hit rate, recall, or true positive rate\n",
    "    TPR = TP/(TP+FN) # signal corrected identified/ (true signal+signal misidentified as background==total true signal)\n",
    "    # Specificity or true negative rate\n",
    "    TNR = TN/(TN+FP) # background correctly identified / (true background+background misidentified as signal==total true background)    \n",
    "    # Precision or positive predictive value\n",
    "    PPV = TP/(TP+FP) # signal corrected identified/ (true signal+background as signal ==total recognized signal)   \n",
    "    # Negative predictive value\n",
    "    NPV = TN/(TN+FN) # background corrected identified/ (true background+ signal as background ==total recognized background)\n",
    "    # Fall out or false positive rate\n",
    "    FPR = FP/(FP+TN) # misidentified background/total background\n",
    "\n",
    "    # False negative rate\n",
    "    FNR = FN/(TP+FN) # misidentified signal/total signal\n",
    "    # False discovery rate\n",
    "    FDR = FP/(TP+FP) # misidentified background/total recognized signal\n",
    "    # Overall accuracy\n",
    "    ACC = (TP+TN)/(TP+FP+FN+TN)\n",
    "\n",
    "    print('TP ' + str(TP) + ' FP '+ str(FP) +' TN ' + str(TN) + ' FN ' + str(FN))\n",
    "    print('Sensitivity, hit rate, recall, or true positive rate '+str(round(TPR, 3)))\n",
    "    print('Specificity or true negative rate '+str(round(TNR, 3)))\n",
    "    print('Precision or positive predictive value '+str(round(PPV, 3)))\n",
    "    print('Negative predictive value '+str(round(NPV, 3)))\n",
    "    print('Fall out or false positive rate '+str(round(FPR, 3)))    \n",
    "    print('False negative rate '+str(round(FNR, 3)))    \n",
    "    print('False discovery rate '+str(round(FDR, 3)))\n",
    "    print('overall accuracy '+str(round(ACC, 3)))\n",
    "    \n",
    "    return"
   ]
  },
  {
   "cell_type": "code",
   "execution_count": 29,
   "metadata": {
    "collapsed": false
   },
   "outputs": [],
   "source": [
    "def plotROC(bdt, X):\n",
    "    \n",
    "    from sklearn.metrics import roc_curve, auc\n",
    "\n",
    "    decisions = bdt.decision_function(X_test)\n",
    "    \n",
    "    # Compute ROC curve and area under the curve\n",
    "    fpr, tpr, thresholds = roc_curve(y_test, decisions)\n",
    "    roc_auc = auc(fpr, tpr)\n",
    "\n",
    "    plt.plot(fpr, tpr, lw=1, label='ROC (area = %0.2f)'%(roc_auc))\n",
    "\n",
    "    plt.plot([0, 1], [0, 1], '--', color=(0.6, 0.6, 0.6), label='Luck')\n",
    "    plt.xlim([-0.05, 1.05])\n",
    "    plt.ylim([-0.05, 1.05])\n",
    "    plt.xlabel('False Positive Rate (Background rejection)')\n",
    "    plt.ylabel('True Positive Rate (Signal efficiency)')\n",
    "    plt.title('Receiver operating characteristic')\n",
    "    plt.legend(loc=\"lower right\")\n",
    "    plt.grid()\n",
    "    plt.show()\n",
    "    \n",
    "    return"
   ]
  },
  {
   "cell_type": "code",
   "execution_count": 30,
   "metadata": {
    "collapsed": false
   },
   "outputs": [],
   "source": [
    "#Overtraining\n",
    "\n",
    "def compare_train_test(clf, X_train, y_train, X_test, y_test, bins=30):\n",
    "    decisions = []\n",
    "    for X,y in ((X_train, y_train), (X_test, y_test)):\n",
    "        d1 = clf.decision_function(X[y>0.5]).ravel()\n",
    "        d2 = clf.decision_function(X[y<0.5]).ravel()\n",
    "        decisions += [d1, d2]\n",
    "        \n",
    "    low = min(np.min(d) for d in decisions)\n",
    "    high = max(np.max(d) for d in decisions)\n",
    "    low_high = (low,high)\n",
    "    \n",
    "    plt.hist(decisions[0],\n",
    "             color='r', alpha=0.5, range=low_high, bins=bins,\n",
    "             histtype='stepfilled', normed=True,\n",
    "             label='S (train)')\n",
    "    plt.hist(decisions[1],\n",
    "             color='b', alpha=0.5, range=low_high, bins=bins,\n",
    "             histtype='stepfilled', normed=True,\n",
    "             label='B (train)')\n",
    "\n",
    "    hist, bins = np.histogram(decisions[2],\n",
    "                              bins=bins, range=low_high, normed=True)\n",
    "    scale = len(decisions[2]) / sum(hist)\n",
    "    err = np.sqrt(hist * scale) / scale\n",
    "    \n",
    "    width = (bins[1] - bins[0])\n",
    "    center = (bins[:-1] + bins[1:]) / 2\n",
    "    plt.errorbar(center, hist, yerr=err, fmt='o', c='r', label='S (test)')\n",
    "    \n",
    "    hist, bins = np.histogram(decisions[3],\n",
    "                              bins=bins, range=low_high, normed=True)\n",
    "    scale = len(decisions[2]) / sum(hist)\n",
    "    err = np.sqrt(hist * scale) / scale\n",
    "\n",
    "    plt.errorbar(center, hist, yerr=err, fmt='o', c='b', label='B (test)')\n",
    "\n",
    "    plt.xlabel(\"BDT output\")\n",
    "    plt.ylabel(\"Arbitrary units\")\n",
    "    plt.legend(loc='best')\n"
   ]
  },
  {
   "cell_type": "code",
   "execution_count": 31,
   "metadata": {
    "collapsed": false
   },
   "outputs": [],
   "source": [
    "#To test prediction in future\n",
    "\n",
    "#open files and check dataframes have same structure (i.e. number of columns)\n",
    "\n",
    "def getMLInputs(filename, df_X_ref):\n",
    "\n",
    "    df_X = pd.read_hdf(filename, 'X')\n",
    "    df_Y = pd.read_hdf(filename, 'Y')\n",
    "\n",
    "    #Match columns of df_X with reference df_X_ref     \n",
    "    idx_ref = df_X_ref.columns\n",
    "    idx = df_X.columns\n",
    "\n",
    "    #print('Before')\n",
    "    #display(df_X.shape)\n",
    "    #display(df_X_ref.shape)\n",
    "\n",
    "    #Return a new Index with elements from the idx that are not in idx_ref. -> They need to be removed\n",
    "    new = idx.difference(idx_ref)\n",
    "    df_X = df_X.drop(new, axis=1)\n",
    "\n",
    "    #print('Drop new columns')\n",
    "    #display(df_X.shape)\n",
    "\n",
    "    #add missing columns in new dataframe, they need to be added with 0\n",
    "    df_X = df_X.reindex(columns=idx_ref, fill_value=0)\n",
    "\n",
    "    #print('Add old columns and fill with 0')\n",
    "    #display(df_X.shape)\n",
    "    \n",
    "    #convert to np array\n",
    "    X = df_X.as_matrix().astype(np.float)\n",
    "    Y = df_Y.as_matrix().astype(np.float)\n",
    "\n",
    "    return X, Y"
   ]
  },
  {
   "cell_type": "markdown",
   "metadata": {},
   "source": [
    "## Methods: Decision Trees\n",
    "\n",
    "Training a [AdaBoost Decision Tree](//en.wikipedia.org/wiki/AdaBoost). \n",
    "After instantiating our [`AdaBoostClassifier`](//scikit-learn.org/stable/modules/generated/sklearn.ensemble.AdaBoostClassifier.html), call the `fit()` method with the training sample as an argument. The `fit()` method trains the tree and returns the trained classifier. When printed out all the hyper-parameters are listed."
   ]
  },
  {
   "cell_type": "code",
   "execution_count": 51,
   "metadata": {
    "collapsed": false
   },
   "outputs": [
    {
     "ename": "KeyboardInterrupt",
     "evalue": "",
     "output_type": "error",
     "traceback": [
      "\u001b[1;31m---------------------------------------------------------------------------\u001b[0m",
      "\u001b[1;31mKeyboardInterrupt\u001b[0m                         Traceback (most recent call last)",
      "\u001b[1;32m<ipython-input-51-42f5eedfae76>\u001b[0m in \u001b[0;36m<module>\u001b[1;34m()\u001b[0m\n\u001b[0;32m     10\u001b[0m                          learning_rate=0.5)\n\u001b[0;32m     11\u001b[0m \u001b[1;33m\u001b[0m\u001b[0m\n\u001b[1;32m---> 12\u001b[1;33m \u001b[0mbdt\u001b[0m\u001b[1;33m.\u001b[0m\u001b[0mfit\u001b[0m\u001b[1;33m(\u001b[0m\u001b[0mX_train\u001b[0m\u001b[1;33m,\u001b[0m \u001b[0my_train\u001b[0m\u001b[1;33m)\u001b[0m\u001b[1;33m\u001b[0m\u001b[0m\n\u001b[0m\u001b[0;32m     13\u001b[0m \u001b[1;33m\u001b[0m\u001b[0m\n\u001b[0;32m     14\u001b[0m \u001b[1;31m#save model\u001b[0m\u001b[1;33m\u001b[0m\u001b[1;33m\u001b[0m\u001b[0m\n",
      "\u001b[1;32m/home/ivukotic/anaconda3/lib/python3.5/site-packages/sklearn/ensemble/weight_boosting.py\u001b[0m in \u001b[0;36mfit\u001b[1;34m(self, X, y, sample_weight)\u001b[0m\n\u001b[0;32m    409\u001b[0m \u001b[1;33m\u001b[0m\u001b[0m\n\u001b[0;32m    410\u001b[0m         \u001b[1;31m# Fit\u001b[0m\u001b[1;33m\u001b[0m\u001b[1;33m\u001b[0m\u001b[0m\n\u001b[1;32m--> 411\u001b[1;33m         \u001b[1;32mreturn\u001b[0m \u001b[0msuper\u001b[0m\u001b[1;33m(\u001b[0m\u001b[0mAdaBoostClassifier\u001b[0m\u001b[1;33m,\u001b[0m \u001b[0mself\u001b[0m\u001b[1;33m)\u001b[0m\u001b[1;33m.\u001b[0m\u001b[0mfit\u001b[0m\u001b[1;33m(\u001b[0m\u001b[0mX\u001b[0m\u001b[1;33m,\u001b[0m \u001b[0my\u001b[0m\u001b[1;33m,\u001b[0m \u001b[0msample_weight\u001b[0m\u001b[1;33m)\u001b[0m\u001b[1;33m\u001b[0m\u001b[0m\n\u001b[0m\u001b[0;32m    412\u001b[0m \u001b[1;33m\u001b[0m\u001b[0m\n\u001b[0;32m    413\u001b[0m     \u001b[1;32mdef\u001b[0m \u001b[0m_validate_estimator\u001b[0m\u001b[1;33m(\u001b[0m\u001b[0mself\u001b[0m\u001b[1;33m)\u001b[0m\u001b[1;33m:\u001b[0m\u001b[1;33m\u001b[0m\u001b[0m\n",
      "\u001b[1;32m/home/ivukotic/anaconda3/lib/python3.5/site-packages/sklearn/ensemble/weight_boosting.py\u001b[0m in \u001b[0;36mfit\u001b[1;34m(self, X, y, sample_weight)\u001b[0m\n\u001b[0;32m    141\u001b[0m                 \u001b[0mX\u001b[0m\u001b[1;33m,\u001b[0m \u001b[0my\u001b[0m\u001b[1;33m,\u001b[0m\u001b[1;33m\u001b[0m\u001b[0m\n\u001b[0;32m    142\u001b[0m                 \u001b[0msample_weight\u001b[0m\u001b[1;33m,\u001b[0m\u001b[1;33m\u001b[0m\u001b[0m\n\u001b[1;32m--> 143\u001b[1;33m                 random_state)\n\u001b[0m\u001b[0;32m    144\u001b[0m \u001b[1;33m\u001b[0m\u001b[0m\n\u001b[0;32m    145\u001b[0m             \u001b[1;31m# Early termination\u001b[0m\u001b[1;33m\u001b[0m\u001b[1;33m\u001b[0m\u001b[0m\n",
      "\u001b[1;32m/home/ivukotic/anaconda3/lib/python3.5/site-packages/sklearn/ensemble/weight_boosting.py\u001b[0m in \u001b[0;36m_boost\u001b[1;34m(self, iboost, X, y, sample_weight, random_state)\u001b[0m\n\u001b[0;32m    473\u001b[0m         \u001b[1;32melse\u001b[0m\u001b[1;33m:\u001b[0m  \u001b[1;31m# elif self.algorithm == \"SAMME\":\u001b[0m\u001b[1;33m\u001b[0m\u001b[0m\n\u001b[0;32m    474\u001b[0m             return self._boost_discrete(iboost, X, y, sample_weight,\n\u001b[1;32m--> 475\u001b[1;33m                                         random_state)\n\u001b[0m\u001b[0;32m    476\u001b[0m \u001b[1;33m\u001b[0m\u001b[0m\n\u001b[0;32m    477\u001b[0m     \u001b[1;32mdef\u001b[0m \u001b[0m_boost_real\u001b[0m\u001b[1;33m(\u001b[0m\u001b[0mself\u001b[0m\u001b[1;33m,\u001b[0m \u001b[0miboost\u001b[0m\u001b[1;33m,\u001b[0m \u001b[0mX\u001b[0m\u001b[1;33m,\u001b[0m \u001b[0my\u001b[0m\u001b[1;33m,\u001b[0m \u001b[0msample_weight\u001b[0m\u001b[1;33m,\u001b[0m \u001b[0mrandom_state\u001b[0m\u001b[1;33m)\u001b[0m\u001b[1;33m:\u001b[0m\u001b[1;33m\u001b[0m\u001b[0m\n",
      "\u001b[1;32m/home/ivukotic/anaconda3/lib/python3.5/site-packages/sklearn/ensemble/weight_boosting.py\u001b[0m in \u001b[0;36m_boost_discrete\u001b[1;34m(self, iboost, X, y, sample_weight, random_state)\u001b[0m\n\u001b[0;32m    537\u001b[0m         \u001b[0mestimator\u001b[0m \u001b[1;33m=\u001b[0m \u001b[0mself\u001b[0m\u001b[1;33m.\u001b[0m\u001b[0m_make_estimator\u001b[0m\u001b[1;33m(\u001b[0m\u001b[0mrandom_state\u001b[0m\u001b[1;33m=\u001b[0m\u001b[0mrandom_state\u001b[0m\u001b[1;33m)\u001b[0m\u001b[1;33m\u001b[0m\u001b[0m\n\u001b[0;32m    538\u001b[0m \u001b[1;33m\u001b[0m\u001b[0m\n\u001b[1;32m--> 539\u001b[1;33m         \u001b[0mestimator\u001b[0m\u001b[1;33m.\u001b[0m\u001b[0mfit\u001b[0m\u001b[1;33m(\u001b[0m\u001b[0mX\u001b[0m\u001b[1;33m,\u001b[0m \u001b[0my\u001b[0m\u001b[1;33m,\u001b[0m \u001b[0msample_weight\u001b[0m\u001b[1;33m=\u001b[0m\u001b[0msample_weight\u001b[0m\u001b[1;33m)\u001b[0m\u001b[1;33m\u001b[0m\u001b[0m\n\u001b[0m\u001b[0;32m    540\u001b[0m \u001b[1;33m\u001b[0m\u001b[0m\n\u001b[0;32m    541\u001b[0m         \u001b[0my_predict\u001b[0m \u001b[1;33m=\u001b[0m \u001b[0mestimator\u001b[0m\u001b[1;33m.\u001b[0m\u001b[0mpredict\u001b[0m\u001b[1;33m(\u001b[0m\u001b[0mX\u001b[0m\u001b[1;33m)\u001b[0m\u001b[1;33m\u001b[0m\u001b[0m\n",
      "\u001b[1;32m/home/ivukotic/anaconda3/lib/python3.5/site-packages/sklearn/tree/tree.py\u001b[0m in \u001b[0;36mfit\u001b[1;34m(self, X, y, sample_weight, check_input, X_idx_sorted)\u001b[0m\n\u001b[0;32m    737\u001b[0m             \u001b[0msample_weight\u001b[0m\u001b[1;33m=\u001b[0m\u001b[0msample_weight\u001b[0m\u001b[1;33m,\u001b[0m\u001b[1;33m\u001b[0m\u001b[0m\n\u001b[0;32m    738\u001b[0m             \u001b[0mcheck_input\u001b[0m\u001b[1;33m=\u001b[0m\u001b[0mcheck_input\u001b[0m\u001b[1;33m,\u001b[0m\u001b[1;33m\u001b[0m\u001b[0m\n\u001b[1;32m--> 739\u001b[1;33m             X_idx_sorted=X_idx_sorted)\n\u001b[0m\u001b[0;32m    740\u001b[0m         \u001b[1;32mreturn\u001b[0m \u001b[0mself\u001b[0m\u001b[1;33m\u001b[0m\u001b[0m\n\u001b[0;32m    741\u001b[0m \u001b[1;33m\u001b[0m\u001b[0m\n",
      "\u001b[1;32m/home/ivukotic/anaconda3/lib/python3.5/site-packages/sklearn/tree/tree.py\u001b[0m in \u001b[0;36mfit\u001b[1;34m(self, X, y, sample_weight, check_input, X_idx_sorted)\u001b[0m\n\u001b[0;32m    348\u001b[0m                                            self.min_impurity_split)\n\u001b[0;32m    349\u001b[0m \u001b[1;33m\u001b[0m\u001b[0m\n\u001b[1;32m--> 350\u001b[1;33m         \u001b[0mbuilder\u001b[0m\u001b[1;33m.\u001b[0m\u001b[0mbuild\u001b[0m\u001b[1;33m(\u001b[0m\u001b[0mself\u001b[0m\u001b[1;33m.\u001b[0m\u001b[0mtree_\u001b[0m\u001b[1;33m,\u001b[0m \u001b[0mX\u001b[0m\u001b[1;33m,\u001b[0m \u001b[0my\u001b[0m\u001b[1;33m,\u001b[0m \u001b[0msample_weight\u001b[0m\u001b[1;33m,\u001b[0m \u001b[0mX_idx_sorted\u001b[0m\u001b[1;33m)\u001b[0m\u001b[1;33m\u001b[0m\u001b[0m\n\u001b[0m\u001b[0;32m    351\u001b[0m \u001b[1;33m\u001b[0m\u001b[0m\n\u001b[0;32m    352\u001b[0m         \u001b[1;32mif\u001b[0m \u001b[0mself\u001b[0m\u001b[1;33m.\u001b[0m\u001b[0mn_outputs_\u001b[0m \u001b[1;33m==\u001b[0m \u001b[1;36m1\u001b[0m\u001b[1;33m:\u001b[0m\u001b[1;33m\u001b[0m\u001b[0m\n",
      "\u001b[1;31mKeyboardInterrupt\u001b[0m: "
     ]
    }
   ],
   "source": [
    "from sklearn.tree import DecisionTreeClassifier\n",
    "from sklearn.ensemble import AdaBoostClassifier\n",
    "from sklearn.metrics import classification_report, roc_auc_score\n",
    "\n",
    "dt = DecisionTreeClassifier(max_depth=8)\n",
    "\n",
    "bdt = AdaBoostClassifier(dt,\n",
    "                         algorithm='SAMME',\n",
    "                         n_estimators=10, #was 800\n",
    "                         learning_rate=0.5)\n",
    "\n",
    "bdt.fit(X_train, y_train)\n",
    "\n",
    "#save model\n",
    "pickle.dump(bdt, open(filename+'_bdt.sav', 'wb'))"
   ]
  },
  {
   "cell_type": "markdown",
   "metadata": {},
   "source": [
    "## Methods: Stochastic gradient descent (SGD)\n",
    "\n",
    "stochastic gradient descent (SGD)\n",
    "Observation: with default parameters, not good performances (~10% error on first week)"
   ]
  },
  {
   "cell_type": "code",
   "execution_count": 219,
   "metadata": {
    "collapsed": false
   },
   "outputs": [],
   "source": [
    "from sklearn import linear_model\n",
    "\n",
    "bdt = linear_model.SGDClassifier()\n",
    "bdt.fit(X_train, y_train)\n",
    "\n",
    "#save model\n",
    "pickle.dump(bdt, open(filename+'_sgd.sav', 'wb'))"
   ]
  },
  {
   "cell_type": "code",
   "execution_count": 164,
   "metadata": {
    "collapsed": false
   },
   "outputs": [],
   "source": [
    "bdt = pickle.load(open(filename+'_bdt.sav', 'rb'))"
   ]
  },
  {
   "cell_type": "markdown",
   "metadata": {},
   "source": [
    "## Check performances\n",
    "\n",
    "Using functions bdefined above"
   ]
  },
  {
   "cell_type": "code",
   "execution_count": 225,
   "metadata": {
    "collapsed": false
   },
   "outputs": [
    {
     "name": "stdout",
     "output_type": "stream",
     "text": [
      "             precision    recall  f1-score   support\n",
      "\n",
      " background       0.99      0.99      0.99      9934\n",
      "     signal       0.23      0.24      0.23        72\n",
      "\n",
      "avg / total       0.99      0.99      0.99     10006\n",
      "\n",
      "Area under ROC curve: 0.9321\n",
      "MSE (Mean Square Error): 0.0112\n"
     ]
    }
   ],
   "source": [
    "checkPrediction(X_test, y_test, bdt)"
   ]
  },
  {
   "cell_type": "markdown",
   "metadata": {},
   "source": [
    "The same performance metrics evaluated on the training set instead. You can see the estimates of the performance are more optimistic than on an unseen set of events."
   ]
  },
  {
   "cell_type": "code",
   "execution_count": 14,
   "metadata": {
    "collapsed": false
   },
   "outputs": [
    {
     "name": "stdout",
     "output_type": "stream",
     "text": [
      "             precision    recall  f1-score   support\n",
      "\n",
      " background       1.00      1.00      1.00     20114\n",
      "     signal       1.00      0.99      0.99       201\n",
      "\n",
      "avg / total       1.00      1.00      1.00     20315\n",
      "\n",
      "Area under ROC curve: 1.0000\n",
      "MSE (Mean Square Error): 0.0001\n"
     ]
    }
   ],
   "source": [
    "checkPrediction(X_train, y_train, bdt)"
   ]
  },
  {
   "cell_type": "code",
   "execution_count": 226,
   "metadata": {
    "collapsed": false
   },
   "outputs": [
    {
     "name": "stdout",
     "output_type": "stream",
     "text": [
      "TP 17 FP 57 TN 9877 FN 55\n",
      "Sensitivity, hit rate, recall, or true positive rate 0.24\n",
      "Specificity or true negative rate 0.99\n",
      "Precision or positive predictive value 0.23\n",
      "Negative predictive value 0.99\n",
      "Fall out or false positive rate 0.01\n",
      "False negative rate 0.76\n",
      "False discovery rate 0.77\n",
      "overall accuracy 0.99\n"
     ]
    }
   ],
   "source": [
    "#Look at confusion matrix\n",
    "#TN|FP - background OK - background as signal\n",
    "#FN|TP - signal as background - signal OK\n",
    "from sklearn.metrics import confusion_matrix\n",
    "\n",
    "CM = confusion_matrix(y_test, bdt.predict(X_test))\n",
    "#display(CM)\n",
    "cmReport(CM)"
   ]
  },
  {
   "cell_type": "code",
   "execution_count": 222,
   "metadata": {
    "collapsed": false
   },
   "outputs": [
    {
     "data": {
      "image/png": "[encoded data removed]",
      "text/plain": [
       "<matplotlib.figure.Figure at 0x7fc1c73ccdd8>"
      ]
     },
     "metadata": {},
     "output_type": "display_data"
    }
   ],
   "source": [
    "#look at ROC curve\n",
    "plotROC(bdt, X_test)"
   ]
  },
  {
   "cell_type": "code",
   "execution_count": 227,
   "metadata": {
    "collapsed": false
   },
   "outputs": [
    {
     "data": {
      "image/png": "[encoded data removed]",
      "text/plain": [
       "<matplotlib.figure.Figure at 0x7fc1c79a1fd0>"
      ]
     },
     "metadata": {},
     "output_type": "display_data"
    }
   ],
   "source": [
    "nmax = 10 # maximum number of features\n",
    "feature_importance = bdt.feature_importances_\n",
    "# make importances relative to max importance\n",
    "feature_importance = 100.0 * (feature_importance / feature_importance.max())\n",
    "sorted_idx = np.argsort(feature_importance)\n",
    "sorted_idx_first = sorted_idx[-nmax:]\n",
    "#display(sorted_idx_first)\n",
    "pos = np.arange(sorted_idx_first.shape[0]) + .5\n",
    "\n",
    "plt.figure(figsize=(15,5))\n",
    "plt.subplot(1, 2, 2)\n",
    "\n",
    "features = list(df_X)\n",
    "y_ticks = sorted(zip(features, sorted_idx))\n",
    "#display(features)\n",
    "\n",
    "plt.barh(pos, feature_importance[sorted_idx_first], align='center')\n",
    "plt.yticks(pos, y_ticks[-nmax:])\n",
    "plt.xlabel('Relative Importance')\n",
    "plt.title('Variable Importance')\n",
    "plt.show()"
   ]
  },
  {
   "cell_type": "markdown",
   "metadata": {},
   "source": [
    "## Overtraining Check\n",
    "\n",
    "Comparing the BDT's output distribution for the training and testing set."
   ]
  },
  {
   "cell_type": "code",
   "execution_count": 228,
   "metadata": {
    "collapsed": false
   },
   "outputs": [
    {
     "data": {
      "image/png": "[encoded data removed]",
      "text/plain": [
       "<matplotlib.figure.Figure at 0x7fc1c5e035c0>"
      ]
     },
     "metadata": {},
     "output_type": "display_data"
    }
   ],
   "source": [
    "compare_train_test(bdt, X_train, y_train, X_test, y_test)"
   ]
  },
  {
   "cell_type": "markdown",
   "metadata": {},
   "source": [
    "## Testing prediction power in the future\n",
    "\n",
    "How well does it work in 1, 2, or n weeks?"
   ]
  },
  {
   "cell_type": "markdown",
   "metadata": {},
   "source": [
    "## Simple model"
   ]
  },
  {
   "cell_type": "code",
   "execution_count": 19,
   "metadata": {
    "collapsed": false
   },
   "outputs": [
    {
     "name": "stdout",
     "output_type": "stream",
     "text": [
      "\n",
      " Prediction starting from 2017-02-17\n",
      "             precision    recall  f1-score   support\n",
      "\n",
      " background       1.00      1.00      1.00     30048\n",
      "     signal       0.81      0.78      0.80       273\n",
      "\n",
      "avg / total       1.00      1.00      1.00     30321\n",
      "\n",
      "Area under ROC curve: 0.9785\n",
      "MSE (Mean Square Error): 0.0036\n",
      "\n",
      " Prediction starting from 2017-02-24\n",
      "             precision    recall  f1-score   support\n",
      "\n",
      " background       1.00      0.99      0.99     31086\n",
      "     signal       0.17      0.23      0.19       180\n",
      "\n",
      "avg / total       0.99      0.99      0.99     31266\n",
      "\n",
      "Area under ROC curve: 0.9398\n",
      "MSE (Mean Square Error): 0.0111\n",
      "\n",
      " Prediction starting from 2017-03-03\n",
      "             precision    recall  f1-score   support\n",
      "\n",
      " background       0.99      0.99      0.99     26514\n",
      "     signal       0.07      0.08      0.08       183\n",
      "\n",
      "avg / total       0.99      0.99      0.99     26697\n",
      "\n",
      "Area under ROC curve: 0.8728\n",
      "MSE (Mean Square Error): 0.0128\n",
      "\n",
      " Prediction starting from 2017-03-10\n",
      "             precision    recall  f1-score   support\n",
      "\n",
      " background       1.00      0.99      1.00     25257\n",
      "     signal       0.08      0.23      0.11        47\n",
      "\n",
      "avg / total       1.00      0.99      0.99     25304\n",
      "\n",
      "Area under ROC curve: 0.8529\n",
      "MSE (Mean Square Error): 0.0067\n"
     ]
    }
   ],
   "source": [
    "#weekly measurement\n",
    "start = datetime.date(2017, 2, 17)         # measurement: starting date\n",
    "time_meas = 7                              # popularity measurement: # of days\n",
    "time_pred = 7                              # popularity prediction: # of days    \n",
    "\n",
    "#CMS\n",
    "#start = datetime.date(2016, 5, 15)         # measurement: starting date\n",
    "#time_meas = 26*7                           # popularity measurement: # of days\n",
    "#time_pred = 7                              # popularity prediction: # of days \n",
    "\n",
    "#make dataframes for 7 weeks\n",
    "for x in range(0, 4):\n",
    "\n",
    "    st = start+x*datetime.timedelta(days=7)\n",
    "    print('\\n Prediction starting from '+str(st))    \n",
    "    filename = '../Federica/DataPopularity_ML/simpleModel_start_'+str(st)+'_meas_'+str(time_meas)+'_pred_'+str(time_pred)+'.h5'\n",
    "    X_future, Y_future = getMLInputs(filename, df_X)\n",
    "    checkPrediction(X_future, Y_future, bdt)"
   ]
  },
  {
   "cell_type": "markdown",
   "metadata": {},
   "source": [
    "## Cross-validation\n",
    "\n",
    "In the process of choosing your classifier and setting its hyper-parameters you\n",
    "normally use a training and testing set of events. However if you want to optimise\n",
    "your hyper-parameters you run the risk of over-fitting your test set by changing\n",
    "the hyper-parameters until you find the set which performs best on the testing set.\n",
    "\n",
    "Cross-validation (CV) offers a way out! In its most basic form it is called\n",
    "_k-fold_ CV. You split your development set into $k$ samples. Then use $k-1$ \n",
    "of the sub-samples for training and the other sample for testing. For example\n",
    "if you split your development set into three parts (0, 1, 2) you would get\n",
    "three estimates of the classifier's performance:\n",
    "\n",
    "* train on 0, 1 and evaluate on 2\n",
    "* train on 1, 2 and evaluate on 0\n",
    "* train on 0, 2 and evaluate on 1\n",
    "\n",
    "Then average the performance measure from each of the iterations, this is what\n",
    "you end up reporting. It also allows you to compute the standard deviation of\n",
    "your performance metric, so you get an uncertainty as well.\n",
    "\n",
    "The scikit-learn documentation has a nice guide on [Cross-validation: evaluating estimator performance](//scikit-learn.org/stable/modules/cross_validation.html).\n",
    "\n",
    "The simplest way to use CV in `scikit-learn` is the `cross_val_score`\n",
    "function:"
   ]
  },
  {
   "cell_type": "code",
   "execution_count": 20,
   "metadata": {
    "collapsed": false
   },
   "outputs": [
    {
     "ename": "NameError",
     "evalue": "name 'X_dev' is not defined",
     "output_type": "error",
     "traceback": [
      "\u001b[1;31m---------------------------------------------------------------------------\u001b[0m",
      "\u001b[1;31mNameError\u001b[0m                                 Traceback (most recent call last)",
      "\u001b[1;32m<ipython-input-20-b77808f6f3e1>\u001b[0m in \u001b[0;36m<module>\u001b[1;34m()\u001b[0m\n\u001b[0;32m      2\u001b[0m \u001b[1;33m\u001b[0m\u001b[0m\n\u001b[0;32m      3\u001b[0m scores = cross_val_score(bdt,\n\u001b[1;32m----> 4\u001b[1;33m                          \u001b[0mX_dev\u001b[0m\u001b[1;33m,\u001b[0m \u001b[0my_dev\u001b[0m\u001b[1;33m,\u001b[0m\u001b[1;33m\u001b[0m\u001b[0m\n\u001b[0m\u001b[0;32m      5\u001b[0m                          \u001b[0mscoring\u001b[0m \u001b[1;33m=\u001b[0m \u001b[1;34m\"roc_auc\"\u001b[0m\u001b[1;33m,\u001b[0m\u001b[1;33m\u001b[0m\u001b[0m\n\u001b[0;32m      6\u001b[0m                          \u001b[0mn_jobs\u001b[0m \u001b[1;33m=\u001b[0m \u001b[1;36m6\u001b[0m\u001b[1;33m,\u001b[0m\u001b[1;33m\u001b[0m\u001b[0m\n",
      "\u001b[1;31mNameError\u001b[0m: name 'X_dev' is not defined"
     ]
    }
   ],
   "source": [
    "from sklearn.model_selection import cross_val_score\n",
    "\n",
    "scores = cross_val_score(bdt,\n",
    "                         X_dev, y_dev,\n",
    "                         scoring = \"roc_auc\",\n",
    "                         n_jobs = 6,\n",
    "                         cv = 3)"
   ]
  },
  {
   "cell_type": "code",
   "execution_count": 30,
   "metadata": {
    "collapsed": false
   },
   "outputs": [
    {
     "name": "stdout",
     "output_type": "stream",
     "text": [
      "Accuracy: 0.84387 (+/- 0.02363)\n"
     ]
    }
   ],
   "source": [
    "print(\"Accuracy: %0.5f (+/- %0.5f)\"%(scores.mean(), scores.std()))"
   ]
  },
  {
   "cell_type": "markdown",
   "metadata": {},
   "source": [
    "## Optimising Hyper-parameters\n",
    "\n",
    "Each machine learning technique has a set of parameters which are not learnt from the training data. For example the number of trees in your ensemble of decision trees, or how deep each tree should be. These are called hyper-parameters. The best value for each of them depends on the particular learning problem you are trying to solve. Therefore it makes sense to try and find the best set of hyper-parameters\n",
    "\n",
    "Once you are familiar with CV you will want to use it to find the best set of hyper-parameters for your learning problem. The easiest way to do that is to perform a [grid search](//scikit-learn.org/stable/modules/grid_search.html) over the parameter space. In `scikit-learn` this functionality is provided by `GridSearchCV`:"
   ]
  },
  {
   "cell_type": "code",
   "execution_count": 31,
   "metadata": {
    "collapsed": false
   },
   "outputs": [],
   "source": [
    "from sklearn.model_selection import GridSearchCV\n",
    "\n",
    "# Perform grid search over all combinations of these hyper-parameters\n",
    "param_grid = {#\"n_estimators\": [50,200,400,1000], #takes forever\n",
    "              'base_estimator__max_depth':[1,3,5], #\"max_depth\": [1, 3, 8],\n",
    "              'learning_rate': [0.1, 0.5, 1.]}\n",
    "\n",
    "clf = GridSearchCV(bdt,\n",
    "                param_grid,\n",
    "                cv=3,\n",
    "                scoring='roc_auc',\n",
    "                n_jobs=8)\n",
    "\n",
    "_ = clf.fit(X_dev, y_dev)"
   ]
  },
  {
   "cell_type": "code",
   "execution_count": 32,
   "metadata": {
    "collapsed": true
   },
   "outputs": [],
   "source": [
    "# Utility function to report best scores\n",
    "def report(results, n_top=5):\n",
    "    for i in range(1, n_top + 1):\n",
    "        candidates = np.flatnonzero(results['rank_test_score'] == i)\n",
    "        for candidate in candidates:\n",
    "            print(\"Model with rank: {0}\".format(i))\n",
    "            print(\"Mean validation score: {0:.3f} (std: {1:.3f})\".format(\n",
    "                  results['mean_test_score'][candidate],\n",
    "                  results['std_test_score'][candidate]))\n",
    "            print(\"Parameters: {0}\".format(results['params'][candidate]))\n",
    "            print(\"\")"
   ]
  },
  {
   "cell_type": "code",
   "execution_count": 33,
   "metadata": {
    "collapsed": false
   },
   "outputs": [
    {
     "name": "stdout",
     "output_type": "stream",
     "text": [
      "Model with rank: 1\n",
      "Mean validation score: 0.933 (std: 0.015)\n",
      "Parameters: {'learning_rate': 0.5, 'base_estimator__max_depth': 5}\n",
      "\n",
      "Model with rank: 2\n",
      "Mean validation score: 0.932 (std: 0.018)\n",
      "Parameters: {'learning_rate': 0.5, 'base_estimator__max_depth': 3}\n",
      "\n",
      "Model with rank: 3\n",
      "Mean validation score: 0.931 (std: 0.030)\n",
      "Parameters: {'learning_rate': 1.0, 'base_estimator__max_depth': 3}\n",
      "\n",
      "Model with rank: 4\n",
      "Mean validation score: 0.920 (std: 0.007)\n",
      "Parameters: {'learning_rate': 1.0, 'base_estimator__max_depth': 5}\n",
      "\n",
      "Model with rank: 5\n",
      "Mean validation score: 0.918 (std: 0.015)\n",
      "Parameters: {'learning_rate': 1.0, 'base_estimator__max_depth': 1}\n",
      "\n"
     ]
    }
   ],
   "source": [
    "report(clf.cv_results_)"
   ]
  },
  {
   "cell_type": "markdown",
   "metadata": {},
   "source": [
    "For a large number of hyper-parameter combinations it will take a long time to evaluate them all. [`RandomizedSearchCV`](//scikit-learn.org/stable/modules/grid_search.html#randomized-parameter-optimization) samples from distributions of the hyper-parameters and evaluates random points. This can be quicker."
   ]
  },
  {
   "cell_type": "code",
   "execution_count": 34,
   "metadata": {
    "collapsed": false
   },
   "outputs": [],
   "source": [
    "from sklearn.model_selection import RandomizedSearchCV\n",
    "from scipy.stats import randint as sp_randint\n",
    "\n",
    "# Perform random search over all combinations of these hyper-parameters\n",
    "param_grid = {\"n_estimators\": sp_randint(1, 11),\n",
    "              'base_estimator__max_depth':sp_randint(1, 11), \n",
    "              #'learning_rate': sp_randint(0.2, 1)\n",
    "             }\n",
    "\n",
    "# run randomized search\n",
    "n_iter_search = 20\n",
    "\n",
    "rnd = RandomizedSearchCV(bdt, param_grid, n_iter=n_iter_search)\n",
    "_ = rnd.fit(X_dev, y_dev)"
   ]
  },
  {
   "cell_type": "code",
   "execution_count": 35,
   "metadata": {
    "collapsed": false
   },
   "outputs": [
    {
     "name": "stdout",
     "output_type": "stream",
     "text": [
      "Model with rank: 1\n",
      "Mean validation score: 0.991 (std: 0.000)\n",
      "Parameters: {'n_estimators': 4, 'base_estimator__max_depth': 1}\n",
      "\n",
      "Model with rank: 2\n",
      "Mean validation score: 0.990 (std: 0.000)\n",
      "Parameters: {'n_estimators': 2, 'base_estimator__max_depth': 3}\n",
      "\n",
      "Model with rank: 3\n",
      "Mean validation score: 0.990 (std: 0.000)\n",
      "Parameters: {'n_estimators': 1, 'base_estimator__max_depth': 2}\n",
      "\n",
      "Model with rank: 3\n",
      "Mean validation score: 0.990 (std: 0.000)\n",
      "Parameters: {'n_estimators': 1, 'base_estimator__max_depth': 2}\n",
      "\n",
      "Model with rank: 5\n",
      "Mean validation score: 0.990 (std: 0.001)\n",
      "Parameters: {'n_estimators': 4, 'base_estimator__max_depth': 2}\n",
      "\n"
     ]
    }
   ],
   "source": [
    "report(rnd.cv_results_)"
   ]
  },
  {
   "cell_type": "markdown",
   "metadata": {},
   "source": [
    "## Validation curves\n",
    "\n",
    "Another useful tool for picking your final model are validation curves. It can help you answer the question: should my model be more complex?\n",
    "\n",
    "A larger number of boosting iterations usually means a more complex classifier. We can evaluate the performance of our classifier after each boosting iteration and compare the training and testing score.\n",
    "\n",
    "In order to visualise the small changes in the score as we get to higher boosting iterations we plot 1-score. This means that smaller is better.\n",
    "\n",
    "To illustrate how differently the same type of classifier can behave for different hyper-parameters we will train four different ones varying the `max_depth` and `learning_rate` parameter."
   ]
  },
  {
   "cell_type": "code",
   "execution_count": 36,
   "metadata": {
    "collapsed": true
   },
   "outputs": [],
   "source": [
    "# Split development set into a train and test sample\n",
    "X_train,X_test, y_train,y_test = train_test_split(X_dev, y_dev, test_size=0.33, random_state=4685)\n",
    "\n",
    "bdts = []\n",
    "params = ((1.,4), (1.,8),\n",
    "          (0.2,4), (0.2,8))\n",
    "\n",
    "for learn,depth in params:\n",
    "    dt = DecisionTreeClassifier(max_depth=depth)\n",
    "    gbt_bdt = AdaBoostClassifier(dt,\n",
    "                         algorithm='SAMME',\n",
    "                         n_estimators=6, #was 800\n",
    "                         learning_rate=learn)\n",
    "\n",
    "    gbt_bdt.fit(X_train, y_train)\n",
    "    bdts.append(gbt_bdt)"
   ]
  },
  {
   "cell_type": "markdown",
   "metadata": {},
   "source": [
    "The `validation_curve` function will plot the area under the ROC after each boosting iteration for each of the classifiers. The solid line shows the performance on the testing sample and the dashed line shows the performance on the training sample.\n",
    "\n",
    "In almost all cases the performance on the training sample keeps improving as we increase the number of boosting iterations."
   ]
  },
  {
   "cell_type": "code",
   "execution_count": 37,
   "metadata": {
    "collapsed": true
   },
   "outputs": [],
   "source": [
    "def validation_curve(bdts, train, test):\n",
    "    X_test, y_test = test\n",
    "    X_train, y_train = train\n",
    "    \n",
    "    for n,clf in enumerate(bdts):\n",
    "        test_score = np.empty(len(clf.estimators_))\n",
    "        train_score = np.empty(len(clf.estimators_))\n",
    "\n",
    "        for i, pred in enumerate(clf.staged_decision_function(X_test)):\n",
    "            test_score[i] = 1-roc_auc_score(y_test, pred)\n",
    "\n",
    "        for i, pred in enumerate(clf.staged_decision_function(X_train)):\n",
    "            train_score[i] = 1-roc_auc_score(y_train, pred)\n",
    "\n",
    "        best_iter = np.argmin(test_score)\n",
    "        learn = clf.get_params()['learning_rate']\n",
    "        depth = clf.get_params()['base_estimator__max_depth']\n",
    "        test_line = plt.plot(test_score,\n",
    "                             label='learn=%.1f depth=%i (%.2f)'%(learn,depth,\n",
    "                                                                 test_score[best_iter]))\n",
    "\n",
    "        colour = test_line[-1].get_color()\n",
    "        plt.plot(train_score, '--', color=colour)\n",
    "        \n",
    "        plt.xlabel(\"Number of boosting iterations\")\n",
    "        plt.ylabel(\"1 - area under ROC\")\n",
    "        plt.axvline(x=best_iter, color=colour)\n",
    "        \n",
    "    plt.legend(loc='best')"
   ]
  },
  {
   "cell_type": "code",
   "execution_count": 38,
   "metadata": {
    "collapsed": false
   },
   "outputs": [
    {
     "data": {
      "image/png": "[encoded data removed]",
      "text/plain": [
       "<matplotlib.figure.Figure at 0x7fa53afda208>"
      ]
     },
     "metadata": {},
     "output_type": "display_data"
    }
   ],
   "source": [
    "validation_curve(bdts,\n",
    "                 (X_train,y_train),\n",
    "                 (X_test,y_test))"
   ]
  },
  {
   "cell_type": "markdown",
   "metadata": {},
   "source": [
    "## Learning curves\n",
    "\n",
    "To answer the question of whether more training events would improve the performance we can evaluate the performance of a classifier when trained on a increasingly larger fraction of the test set. Broadly speaking, if the train and test score have plateaued/converged there is not much to be gained by adding more training examples. If the training error stays somewhat constant with training size and there is a large gap to the testing score, then there might be gains to be made by increasing the number of training events."
   ]
  },
  {
   "cell_type": "code",
   "execution_count": 39,
   "metadata": {
    "collapsed": false
   },
   "outputs": [],
   "source": [
    "from sklearn.model_selection import learning_curve\n",
    "\n",
    "# Taken more or less straight from\n",
    "# http://scikit-learn.org/stable/auto_examples/plot_learning_curve.html\n",
    "def plot_learning_curve(estimator, title, X, y, cv=None,\n",
    "                        n_jobs=1, train_sizes=np.linspace(.1, 1.0, 5),\n",
    "                        scoring=None, ax=None, xlabel=True):\n",
    "    if ax is None:\n",
    "        plt.figure()\n",
    "        ax.title(title)\n",
    "    \n",
    "    if xlabel:\n",
    "        ax.set_xlabel(\"Training examples\")\n",
    "        \n",
    "    ax.set_ylabel(\"Score\")\n",
    "    train_sizes, train_scores, test_scores = learning_curve(estimator,\n",
    "                                                            X, y,\n",
    "                                                            cv=cv,\n",
    "                                                            n_jobs=n_jobs,\n",
    "                                                            train_sizes=train_sizes,\n",
    "                                                            scoring=scoring)\n",
    "    train_scores_mean = np.mean(train_scores, axis=1)\n",
    "    train_scores_std = np.std(train_scores, axis=1)\n",
    "    test_scores_mean = np.mean(test_scores, axis=1)\n",
    "    test_scores_std = np.std(test_scores, axis=1)\n",
    "\n",
    "    ax.fill_between(train_sizes, train_scores_mean - train_scores_std,\n",
    "                     train_scores_mean + train_scores_std, alpha=0.1,\n",
    "                     color=\"r\")\n",
    "    ax.fill_between(train_sizes, test_scores_mean - test_scores_std,\n",
    "                     test_scores_mean + test_scores_std, alpha=0.1, color=\"g\")\n",
    "    ax.plot(train_sizes, train_scores_mean, 'o-', color=\"r\",\n",
    "             label=\"Training score\")\n",
    "    ax.plot(train_sizes, test_scores_mean, 'o-', color=\"g\",\n",
    "             label=\"Cross-validation score\")\n",
    "\n",
    "    ax.set_ylim([0.65, 1.0])\n",
    "    return plt\n"
   ]
  },
  {
   "cell_type": "code",
   "execution_count": 40,
   "metadata": {
    "collapsed": false
   },
   "outputs": [
    {
     "data": {
      "text/plain": [
       "<matplotlib.text.Text at 0x7fa53a8e9240>"
      ]
     },
     "execution_count": 40,
     "metadata": {},
     "output_type": "execute_result"
    },
    {
     "data": {
      "text/plain": [
       "<matplotlib.figure.Figure at 0x7fa53b05dda0>"
      ]
     },
     "metadata": {},
     "output_type": "display_data"
    },
    {
     "data": {
      "image/png": "[encoded data removed]",
      "text/plain": [
       "<matplotlib.figure.Figure at 0x7fa53b05db00>"
      ]
     },
     "metadata": {},
     "output_type": "display_data"
    }
   ],
   "source": [
    "classifiers = [bdts[0], bdts[1], bdts[2], bdts[3]]\n",
    "\n",
    "plt.figure(figsize=(40,40))\n",
    "fig, axes = plt.subplots(nrows=len(classifiers), sharex=True)\n",
    "\n",
    "for clf, ax in zip(classifiers, axes):  \n",
    "    plot_learning_curve(clf,\n",
    "                        \"Learning curves\",\n",
    "                        X_dev, y_dev,\n",
    "                        scoring='roc_auc',\n",
    "                        n_jobs=7, cv=4,\n",
    "                        ax=ax, xlabel=False)\n",
    "    \n",
    "axes[0].legend(loc=\"best\")\n",
    "axes[-1].set_xlabel(\"Training examples\")"
   ]
  },
  {
   "cell_type": "code",
   "execution_count": 6,
   "metadata": {
    "collapsed": false
   },
   "outputs": [],
   "source": [
    "df_1sem2016 = pd.read_hdf('../Matteo/store_access>0.h5', key = 'df_1sem2016')"
   ]
  },
  {
   "cell_type": "code",
   "execution_count": 8,
   "metadata": {
    "collapsed": false
   },
   "outputs": [],
   "source": [
    "df_2sem2016 = pd.read_hdf('../Matteo/store_access>0.h5', key = 'df_2sem2016')"
   ]
  },
  {
   "cell_type": "code",
   "execution_count": 9,
   "metadata": {
    "collapsed": true
   },
   "outputs": [],
   "source": [
    "df_1sem2017 = pd.read_hdf('../Matteo/store_access>0.h5', key = 'df_1sem2017')"
   ]
  },
  {
   "cell_type": "code",
   "execution_count": 10,
   "metadata": {
    "collapsed": true
   },
   "outputs": [],
   "source": [
    "df_year2016 = pd.read_hdf('../Matteo/store_access>0.h5', key = 'df_year2016')"
   ]
  },
  {
   "cell_type": "code",
   "execution_count": 11,
   "metadata": {
    "collapsed": true
   },
   "outputs": [],
   "source": [
    "df_total = pd.read_hdf('../Matteo/store_access>0.h5', key = 'df_total')"
   ]
  },
  {
   "cell_type": "code",
   "execution_count": 12,
   "metadata": {
    "collapsed": true
   },
   "outputs": [],
   "source": [
    "df_1trim2016 = pd.read_hdf('../Matteo/store_access>0.h5', key='df_1trim2016')"
   ]
  },
  {
   "cell_type": "code",
   "execution_count": 13,
   "metadata": {
    "collapsed": true
   },
   "outputs": [],
   "source": [
    "df_2trim2016 = pd.read_hdf('../Matteo/store_access>0.h5', key='df_2trim2016')"
   ]
  },
  {
   "cell_type": "code",
   "execution_count": 14,
   "metadata": {
    "collapsed": true
   },
   "outputs": [],
   "source": [
    "df_3trim2016 = pd.read_hdf('../Matteo/store_access>0.h5', key='df_3trim2016')"
   ]
  },
  {
   "cell_type": "code",
   "execution_count": 15,
   "metadata": {
    "collapsed": true
   },
   "outputs": [],
   "source": [
    "df_4trim2016 = pd.read_hdf('../Matteo/store_access>0.h5', key='df_4trim2016')"
   ]
  },
  {
   "cell_type": "code",
   "execution_count": 16,
   "metadata": {
    "collapsed": true
   },
   "outputs": [],
   "source": [
    "df_1trim2017 = pd.read_hdf('../Matteo/store_access>0.h5', key='df_1trim2017')"
   ]
  },
  {
   "cell_type": "code",
   "execution_count": 17,
   "metadata": {
    "collapsed": true
   },
   "outputs": [],
   "source": [
    "df_2trim2017 = pd.read_hdf('../Matteo/store_access>0.h5', key='df_2trim2017')"
   ]
  },
  {
   "cell_type": "code",
   "execution_count": 554,
   "metadata": {
    "collapsed": false
   },
   "outputs": [
    {
     "data": {
      "text/plain": [
       "name        6131\n",
       "scope       6131\n",
       "dsid        6131\n",
       "ptag        6131\n",
       "type        6131\n",
       "cputime     6131\n",
       "size        6131\n",
       "taskid      6131\n",
       "user        6131\n",
       "walltime    6131\n",
       "site        6131\n",
       "pandaid     6131\n",
       "nevents     6131\n",
       "nfiles      6131\n",
       "dtype: int64"
      ]
     },
     "execution_count": 554,
     "metadata": {},
     "output_type": "execute_result"
    }
   ],
   "source": [
    "df_1sem2016[df_1sem2016['nevents'] > 15000000].count()"
   ]
  },
  {
   "cell_type": "code",
   "execution_count": 7,
   "metadata": {
    "collapsed": false
   },
   "outputs": [
    {
     "name": "stdout",
     "output_type": "stream",
     "text": [
      "[[1 0 0 ..., 0 0 0]\n",
      " [1 0 0 ..., 0 0 0]\n",
      " [1 0 0 ..., 0 0 0]\n",
      " ..., \n",
      " [0 0 0 ..., 0 0 1]\n",
      " [0 0 0 ..., 0 0 1]\n",
      " [0 0 0 ..., 0 0 1]]\n",
      "<class 'numpy.ndarray'>\n"
     ]
    }
   ],
   "source": [
    "from sklearn.feature_extraction.text import CountVectorizer\n",
    "\n",
    "cv = CountVectorizer()\n",
    "cv_scope = cv.fit_transform(list(df_1sem2016.scope))\n",
    "cv_scope_array = cv_scope.toarray()\n",
    "print(cv_scope_array)\n",
    "print(type(cv_scope_array))"
   ]
  },
  {
   "cell_type": "code",
   "execution_count": 8,
   "metadata": {
    "collapsed": false
   },
   "outputs": [
    {
     "data": {
      "text/plain": [
       "(122427, 10)"
      ]
     },
     "execution_count": 8,
     "metadata": {},
     "output_type": "execute_result"
    }
   ],
   "source": [
    "cv_scope_array.shape"
   ]
  },
  {
   "cell_type": "code",
   "execution_count": 9,
   "metadata": {
    "collapsed": false
   },
   "outputs": [
    {
     "name": "stdout",
     "output_type": "stream",
     "text": [
      "[[0 0 0 ..., 0 0 0]\n",
      " [0 0 0 ..., 0 0 0]\n",
      " [0 0 0 ..., 0 0 0]\n",
      " ..., \n",
      " [0 0 0 ..., 0 0 0]\n",
      " [0 0 0 ..., 0 0 0]\n",
      " [0 0 0 ..., 0 0 0]]\n",
      "<class 'numpy.ndarray'>\n"
     ]
    }
   ],
   "source": [
    "tv = CountVectorizer()\n",
    "tv_type=tv.fit_transform(list(df_1sem2016.type))\n",
    "tv_type_array = tv_type.toarray()\n",
    "print(tv_type_array)\n",
    "print(type(tv_type_array))"
   ]
  },
  {
   "cell_type": "code",
   "execution_count": 10,
   "metadata": {
    "collapsed": false
   },
   "outputs": [
    {
     "data": {
      "text/plain": [
       "(122427, 102)"
      ]
     },
     "execution_count": 10,
     "metadata": {},
     "output_type": "execute_result"
    }
   ],
   "source": [
    "tv_type_array.shape"
   ]
  },
  {
   "cell_type": "code",
   "execution_count": 22,
   "metadata": {
    "collapsed": true
   },
   "outputs": [],
   "source": [
    "df_X =  df_1sem2016.drop([col for col in df_1sem2016.columns if 'type' in col], axis=1)\n",
    "df_X =  df_X.drop([col for col in df_X.columns if 'scope' in col], axis=1)\n",
    "df_X =  df_X.drop([col for col in df_X.columns if 'name' in col], axis=1)"
   ]
  },
  {
   "cell_type": "code",
   "execution_count": 11,
   "metadata": {
    "collapsed": false
   },
   "outputs": [
    {
     "data": {
      "text/html": [
       "<div>\n",
       "<style>\n",
       "    .dataframe thead tr:only-child th {\n",
       "        text-align: right;\n",
       "    }\n",
       "\n",
       "    .dataframe thead th {\n",
       "        text-align: left;\n",
       "    }\n",
       "\n",
       "    .dataframe tbody tr th {\n",
       "        vertical-align: top;\n",
       "    }\n",
       "</style>\n",
       "<table border=\"1\" class=\"dataframe\">\n",
       "  <thead>\n",
       "    <tr style=\"text-align: right;\">\n",
       "      <th></th>\n",
       "      <th>dsid</th>\n",
       "      <th>ptag</th>\n",
       "      <th>cputime</th>\n",
       "      <th>taskid</th>\n",
       "      <th>user</th>\n",
       "      <th>walltime</th>\n",
       "      <th>site</th>\n",
       "      <th>nevents</th>\n",
       "    </tr>\n",
       "  </thead>\n",
       "  <tbody>\n",
       "    <tr>\n",
       "      <th>0</th>\n",
       "      <td>178044</td>\n",
       "      <td>811</td>\n",
       "      <td>32586</td>\n",
       "      <td>8</td>\n",
       "      <td>8</td>\n",
       "      <td>60435</td>\n",
       "      <td>8</td>\n",
       "      <td>1771256</td>\n",
       "    </tr>\n",
       "    <tr>\n",
       "      <th>1</th>\n",
       "      <td>178047</td>\n",
       "      <td>811</td>\n",
       "      <td>1401</td>\n",
       "      <td>8</td>\n",
       "      <td>8</td>\n",
       "      <td>3720</td>\n",
       "      <td>8</td>\n",
       "      <td>45912</td>\n",
       "    </tr>\n",
       "    <tr>\n",
       "      <th>2</th>\n",
       "      <td>178109</td>\n",
       "      <td>811</td>\n",
       "      <td>91322</td>\n",
       "      <td>10</td>\n",
       "      <td>10</td>\n",
       "      <td>182843</td>\n",
       "      <td>10</td>\n",
       "      <td>3320622</td>\n",
       "    </tr>\n",
       "    <tr>\n",
       "      <th>3</th>\n",
       "      <td>179710</td>\n",
       "      <td>811</td>\n",
       "      <td>52033</td>\n",
       "      <td>9</td>\n",
       "      <td>9</td>\n",
       "      <td>88649</td>\n",
       "      <td>9</td>\n",
       "      <td>2599976</td>\n",
       "    </tr>\n",
       "    <tr>\n",
       "      <th>4</th>\n",
       "      <td>179725</td>\n",
       "      <td>811</td>\n",
       "      <td>21981</td>\n",
       "      <td>8</td>\n",
       "      <td>8</td>\n",
       "      <td>35439</td>\n",
       "      <td>9</td>\n",
       "      <td>1015208</td>\n",
       "    </tr>\n",
       "  </tbody>\n",
       "</table>\n",
       "</div>"
      ],
      "text/plain": [
       "     dsid  ptag  cputime  taskid  user  walltime  site  nevents\n",
       "0  178044   811    32586       8     8     60435     8  1771256\n",
       "1  178047   811     1401       8     8      3720     8    45912\n",
       "2  178109   811    91322      10    10    182843    10  3320622\n",
       "3  179710   811    52033       9     9     88649     9  2599976\n",
       "4  179725   811    21981       8     8     35439     9  1015208"
      ]
     },
     "execution_count": 11,
     "metadata": {},
     "output_type": "execute_result"
    }
   ],
   "source": [
    "df_X.head(5)"
   ]
  },
  {
   "cell_type": "code",
   "execution_count": 14,
   "metadata": {
    "collapsed": true
   },
   "outputs": [],
   "source": [
    "df_X =  df_X.drop([col for col in df_X.columns if 'walltime' in col], axis=1)\n",
    "df_X =  df_X.drop([col for col in df_X.columns if 'cputime' in col], axis=1)"
   ]
  },
  {
   "cell_type": "code",
   "execution_count": 15,
   "metadata": {
    "collapsed": false
   },
   "outputs": [
    {
     "data": {
      "text/html": [
       "<div>\n",
       "<style>\n",
       "    .dataframe thead tr:only-child th {\n",
       "        text-align: right;\n",
       "    }\n",
       "\n",
       "    .dataframe thead th {\n",
       "        text-align: left;\n",
       "    }\n",
       "\n",
       "    .dataframe tbody tr th {\n",
       "        vertical-align: top;\n",
       "    }\n",
       "</style>\n",
       "<table border=\"1\" class=\"dataframe\">\n",
       "  <thead>\n",
       "    <tr style=\"text-align: right;\">\n",
       "      <th></th>\n",
       "      <th>dsid</th>\n",
       "      <th>ptag</th>\n",
       "      <th>taskid</th>\n",
       "      <th>user</th>\n",
       "      <th>site</th>\n",
       "      <th>nevents</th>\n",
       "    </tr>\n",
       "  </thead>\n",
       "  <tbody>\n",
       "    <tr>\n",
       "      <th>0</th>\n",
       "      <td>178044</td>\n",
       "      <td>811</td>\n",
       "      <td>8</td>\n",
       "      <td>8</td>\n",
       "      <td>8</td>\n",
       "      <td>1771256</td>\n",
       "    </tr>\n",
       "    <tr>\n",
       "      <th>1</th>\n",
       "      <td>178047</td>\n",
       "      <td>811</td>\n",
       "      <td>8</td>\n",
       "      <td>8</td>\n",
       "      <td>8</td>\n",
       "      <td>45912</td>\n",
       "    </tr>\n",
       "    <tr>\n",
       "      <th>2</th>\n",
       "      <td>178109</td>\n",
       "      <td>811</td>\n",
       "      <td>10</td>\n",
       "      <td>10</td>\n",
       "      <td>10</td>\n",
       "      <td>3320622</td>\n",
       "    </tr>\n",
       "    <tr>\n",
       "      <th>3</th>\n",
       "      <td>179710</td>\n",
       "      <td>811</td>\n",
       "      <td>9</td>\n",
       "      <td>9</td>\n",
       "      <td>9</td>\n",
       "      <td>2599976</td>\n",
       "    </tr>\n",
       "    <tr>\n",
       "      <th>4</th>\n",
       "      <td>179725</td>\n",
       "      <td>811</td>\n",
       "      <td>8</td>\n",
       "      <td>8</td>\n",
       "      <td>9</td>\n",
       "      <td>1015208</td>\n",
       "    </tr>\n",
       "  </tbody>\n",
       "</table>\n",
       "</div>"
      ],
      "text/plain": [
       "     dsid  ptag  taskid  user  site  nevents\n",
       "0  178044   811       8     8     8  1771256\n",
       "1  178047   811       8     8     8    45912\n",
       "2  178109   811      10    10    10  3320622\n",
       "3  179710   811       9     9     9  2599976\n",
       "4  179725   811       8     8     9  1015208"
      ]
     },
     "execution_count": 15,
     "metadata": {},
     "output_type": "execute_result"
    }
   ],
   "source": [
    "df_X.head(5)"
   ]
  },
  {
   "cell_type": "code",
   "execution_count": 557,
   "metadata": {
    "collapsed": false
   },
   "outputs": [],
   "source": [
    "store_nevents = pd.HDFStore('store_nevents.h5')"
   ]
  },
  {
   "cell_type": "code",
   "execution_count": 16,
   "metadata": {
    "collapsed": true
   },
   "outputs": [],
   "source": [
    "X = df_X.as_matrix().astype(np.float)"
   ]
  },
  {
   "cell_type": "code",
   "execution_count": 17,
   "metadata": {
    "collapsed": false
   },
   "outputs": [
    {
     "data": {
      "text/plain": [
       "(122427, 6)"
      ]
     },
     "execution_count": 17,
     "metadata": {},
     "output_type": "execute_result"
    }
   ],
   "source": [
    "X.shape"
   ]
  },
  {
   "cell_type": "code",
   "execution_count": 113,
   "metadata": {
    "collapsed": true
   },
   "outputs": [],
   "source": [
    "df_Y = pd.read_hdf('../Matteo/store_size.h5', 'df_Y_size_710000000000')"
   ]
  },
  {
   "cell_type": "code",
   "execution_count": 36,
   "metadata": {
    "collapsed": true
   },
   "outputs": [],
   "source": [
    "Y = df_Y.as_matrix().astype(np.float)"
   ]
  },
  {
   "cell_type": "code",
   "execution_count": 19,
   "metadata": {
    "collapsed": true
   },
   "outputs": [],
   "source": [
    "X = np.concatenate((X, cv_scope_array), axis = 1)"
   ]
  },
  {
   "cell_type": "code",
   "execution_count": 20,
   "metadata": {
    "collapsed": false
   },
   "outputs": [
    {
     "data": {
      "text/plain": [
       "(122427, 16)"
      ]
     },
     "execution_count": 20,
     "metadata": {},
     "output_type": "execute_result"
    }
   ],
   "source": [
    "X.shape"
   ]
  },
  {
   "cell_type": "code",
   "execution_count": 21,
   "metadata": {
    "collapsed": true
   },
   "outputs": [],
   "source": [
    "X = np.concatenate((X, tv_type_array), axis = 1)"
   ]
  },
  {
   "cell_type": "code",
   "execution_count": 22,
   "metadata": {
    "collapsed": false
   },
   "outputs": [
    {
     "data": {
      "text/plain": [
       "(122427, 118)"
      ]
     },
     "execution_count": 22,
     "metadata": {},
     "output_type": "execute_result"
    }
   ],
   "source": [
    "X.shape"
   ]
  },
  {
   "cell_type": "code",
   "execution_count": 564,
   "metadata": {
    "collapsed": false
   },
   "outputs": [],
   "source": [
    "store_nevents['df_X_nevents'] = df_X_nevents"
   ]
  },
  {
   "cell_type": "code",
   "execution_count": 591,
   "metadata": {
    "collapsed": true
   },
   "outputs": [],
   "source": [
    "Y_nevents_15000000 = np.where(df_1sem2016['nevents'] > 15000000, 1, 0)"
   ]
  },
  {
   "cell_type": "code",
   "execution_count": 37,
   "metadata": {
    "collapsed": false
   },
   "outputs": [
    {
     "data": {
      "text/plain": [
       "12267.0"
      ]
     },
     "execution_count": 37,
     "metadata": {},
     "output_type": "execute_result"
    }
   ],
   "source": [
    "Y.sum()"
   ]
  },
  {
   "cell_type": "code",
   "execution_count": 593,
   "metadata": {
    "collapsed": true
   },
   "outputs": [],
   "source": [
    "df_Y_nevents_15000000 = pd.Series(Y_nevents_15000000)"
   ]
  },
  {
   "cell_type": "code",
   "execution_count": 594,
   "metadata": {
    "collapsed": false
   },
   "outputs": [
    {
     "data": {
      "text/plain": [
       "6131"
      ]
     },
     "execution_count": 594,
     "metadata": {},
     "output_type": "execute_result"
    }
   ],
   "source": [
    "df_Y_nevents_15000000.sum()"
   ]
  },
  {
   "cell_type": "code",
   "execution_count": 595,
   "metadata": {
    "collapsed": true
   },
   "outputs": [],
   "source": [
    "store_nevents['df_Y_nevents_15000000'] = df_Y_nevents_15000000"
   ]
  },
  {
   "cell_type": "code",
   "execution_count": 596,
   "metadata": {
    "collapsed": false
   },
   "outputs": [
    {
     "data": {
      "text/plain": [
       "<class 'pandas.io.pytables.HDFStore'>\n",
       "File path: store_nevents.h5\n",
       "/df_X_nevents                     frame        (shape->[122427,10])\n",
       "/df_Y_nevents_15000000            series       (shape->[122427])   \n",
       "/df_Y_nevents_3700000             series       (shape->[122427])   \n",
       "/df_Y_nevents_6900000             series       (shape->[122427])   "
      ]
     },
     "execution_count": 596,
     "metadata": {},
     "output_type": "execute_result"
    }
   ],
   "source": [
    "store_nevents"
   ]
  },
  {
   "cell_type": "code",
   "execution_count": 38,
   "metadata": {
    "collapsed": false
   },
   "outputs": [
    {
     "name": "stdout",
     "output_type": "stream",
     "text": [
      "Used for training: 82026\n",
      "Used for testing:  40401\n"
     ]
    }
   ],
   "source": [
    "from sklearn.model_selection import train_test_split\n",
    "\n",
    "#first split into development (to optimise hyperparameters) and evaluation (to train+test final model) samples\n",
    "#X_dev,X_eval, y_dev,y_eval = train_test_split(X, Y, test_size=0.50, random_state=42)\n",
    "#X = X_eval\n",
    "#Y = y_eval\n",
    "\n",
    "#print('Used for development (hyperparameters optimization): '+str(len(y_dev)))\n",
    "#print('Used for training+testing: '+str(len(y_eval)))\n",
    "\n",
    "X_train, X_test, y_train,y_test = train_test_split(X, Y, test_size=0.33, random_state=451)\n",
    "\n",
    "print('Used for training: '+str(len(y_train)))\n",
    "print('Used for testing:  '+str(len(y_test)))"
   ]
  },
  {
   "cell_type": "code",
   "execution_count": 39,
   "metadata": {
    "collapsed": false
   },
   "outputs": [
    {
     "data": {
      "text/plain": [
       "AdaBoostClassifier(algorithm='SAMME',\n",
       "          base_estimator=DecisionTreeClassifier(class_weight=None, criterion='gini', max_depth=8,\n",
       "            max_features=None, max_leaf_nodes=None,\n",
       "            min_impurity_split=1e-07, min_samples_leaf=1,\n",
       "            min_samples_split=2, min_weight_fraction_leaf=0.0,\n",
       "            presort=False, random_state=None, splitter='best'),\n",
       "          learning_rate=0.5, n_estimators=10, random_state=None)"
      ]
     },
     "execution_count": 39,
     "metadata": {},
     "output_type": "execute_result"
    }
   ],
   "source": [
    "from sklearn.tree import DecisionTreeClassifier\n",
    "from sklearn.ensemble import AdaBoostClassifier\n",
    "from sklearn.metrics import classification_report, roc_auc_score\n",
    "\n",
    "dt = DecisionTreeClassifier(max_depth=8)\n",
    "\n",
    "bdt = AdaBoostClassifier(dt,\n",
    "                         algorithm='SAMME',\n",
    "                         n_estimators=10, #was 800\n",
    "                         learning_rate=0.5)\n",
    "\n",
    "bdt.fit(X_train, y_train)\n",
    "\n",
    "#save model\n",
    "#pickle.dump(bdt, open('../Matteo/Models/nevents_15000000_bdt.sav', 'wb'))"
   ]
  },
  {
   "cell_type": "code",
   "execution_count": 625,
   "metadata": {
    "collapsed": true
   },
   "outputs": [],
   "source": [
    "bdt = pickle.load(open('../Matteo/Models/taskid_20_bdt.sav', 'rb'))"
   ]
  },
  {
   "cell_type": "code",
   "execution_count": 40,
   "metadata": {
    "collapsed": false
   },
   "outputs": [
    {
     "name": "stdout",
     "output_type": "stream",
     "text": [
      "             precision    recall  f1-score   support\n",
      "\n",
      " background       0.98      0.99      0.99     36292\n",
      "     signal       0.89      0.84      0.86      4109\n",
      "\n",
      "avg / total       0.97      0.97      0.97     40401\n",
      "\n",
      "Area under ROC curve: 0.9932\n",
      "MSE (Mean Square Error): 0.0269\n"
     ]
    }
   ],
   "source": [
    "checkPrediction(X_test, y_test, bdt)"
   ]
  },
  {
   "cell_type": "code",
   "execution_count": 41,
   "metadata": {
    "collapsed": false
   },
   "outputs": [
    {
     "name": "stdout",
     "output_type": "stream",
     "text": [
      "             precision    recall  f1-score   support\n",
      "\n",
      " background       0.98      0.99      0.99     73868\n",
      "     signal       0.91      0.86      0.88      8158\n",
      "\n",
      "avg / total       0.98      0.98      0.98     82026\n",
      "\n",
      "Area under ROC curve: 0.9959\n",
      "MSE (Mean Square Error): 0.0223\n"
     ]
    }
   ],
   "source": [
    "checkPrediction(X_train, y_train, bdt)"
   ]
  },
  {
   "cell_type": "code",
   "execution_count": 42,
   "metadata": {
    "collapsed": false
   },
   "outputs": [
    {
     "name": "stdout",
     "output_type": "stream",
     "text": [
      "TP 3455 FP 431 TN 35861 FN 654\n",
      "Sensitivity, hit rate, recall, or true positive rate 0.841\n",
      "Specificity or true negative rate 0.988\n",
      "Precision or positive predictive value 0.889\n",
      "Negative predictive value 0.982\n",
      "Fall out or false positive rate 0.012\n",
      "False negative rate 0.159\n",
      "False discovery rate 0.111\n",
      "overall accuracy 0.973\n"
     ]
    }
   ],
   "source": [
    "#Look at confusion matrix\n",
    "#TN|FP - background OK - background as signal\n",
    "#FN|TP - signal as background - signal OK\n",
    "from sklearn.metrics import confusion_matrix\n",
    "\n",
    "CM = confusion_matrix(y_test, bdt.predict(X_test))\n",
    "#display(CM)\n",
    "cmReport(CM)"
   ]
  },
  {
   "cell_type": "code",
   "execution_count": 121,
   "metadata": {
    "collapsed": false
   },
   "outputs": [
    {
     "data": {
      "image/png": "[encoded data removed]",
      "text/plain": [
       "<matplotlib.figure.Figure at 0x7f8c211efda0>"
      ]
     },
     "metadata": {},
     "output_type": "display_data"
    }
   ],
   "source": [
    "plotROC(bdt, X_test)"
   ]
  },
  {
   "cell_type": "code",
   "execution_count": 122,
   "metadata": {
    "collapsed": false
   },
   "outputs": [
    {
     "data": {
      "image/png": "[encoded data removed]",
      "text/plain": [
       "<matplotlib.figure.Figure at 0x7f8c2487bcf8>"
      ]
     },
     "metadata": {},
     "output_type": "display_data"
    }
   ],
   "source": [
    "compare_train_test(bdt, X_train, y_train, X_test, y_test)"
   ]
  },
  {
   "cell_type": "code",
   "execution_count": 27,
   "metadata": {
    "collapsed": true
   },
   "outputs": [],
   "source": [
    "# Choose as best definition size > 710000000000 (10 %)"
   ]
  },
  {
   "cell_type": "code",
   "execution_count": 126,
   "metadata": {
    "collapsed": true
   },
   "outputs": [],
   "source": [
    "from sklearn.model_selection import cross_val_score\n",
    "\n",
    "scores = cross_val_score(bdt,\n",
    "                         X_dev, y_dev,\n",
    "                         scoring = \"roc_auc\",\n",
    "                         n_jobs = 6,\n",
    "                         cv = 3)"
   ]
  },
  {
   "cell_type": "code",
   "execution_count": 127,
   "metadata": {
    "collapsed": false
   },
   "outputs": [
    {
     "name": "stdout",
     "output_type": "stream",
     "text": [
      "Accuracy: 0.99069 (+/- 0.00063)\n"
     ]
    }
   ],
   "source": [
    "print(\"Accuracy: %0.5f (+/- %0.5f)\"%(scores.mean(), scores.std()))"
   ]
  },
  {
   "cell_type": "code",
   "execution_count": 128,
   "metadata": {
    "collapsed": false
   },
   "outputs": [
    {
     "data": {
      "text/plain": [
       "{'algorithm': 'SAMME',\n",
       " 'base_estimator': DecisionTreeClassifier(class_weight=None, criterion='gini', max_depth=8,\n",
       "             max_features=None, max_leaf_nodes=None,\n",
       "             min_impurity_split=1e-07, min_samples_leaf=1,\n",
       "             min_samples_split=2, min_weight_fraction_leaf=0.0,\n",
       "             presort=False, random_state=None, splitter='best'),\n",
       " 'base_estimator__class_weight': None,\n",
       " 'base_estimator__criterion': 'gini',\n",
       " 'base_estimator__max_depth': 8,\n",
       " 'base_estimator__max_features': None,\n",
       " 'base_estimator__max_leaf_nodes': None,\n",
       " 'base_estimator__min_impurity_split': 1e-07,\n",
       " 'base_estimator__min_samples_leaf': 1,\n",
       " 'base_estimator__min_samples_split': 2,\n",
       " 'base_estimator__min_weight_fraction_leaf': 0.0,\n",
       " 'base_estimator__presort': False,\n",
       " 'base_estimator__random_state': None,\n",
       " 'base_estimator__splitter': 'best',\n",
       " 'learning_rate': 0.5,\n",
       " 'n_estimators': 10,\n",
       " 'random_state': None}"
      ]
     },
     "execution_count": 128,
     "metadata": {},
     "output_type": "execute_result"
    }
   ],
   "source": [
    "bdt.get_params()"
   ]
  },
  {
   "cell_type": "code",
   "execution_count": 262,
   "metadata": {
    "collapsed": false
   },
   "outputs": [],
   "source": [
    "from sklearn.model_selection import GridSearchCV\n",
    "\n",
    "# Perform grid search over all combinations of these hyper-parameters\n",
    "param_grid = {#\"n_estimators\": [10, 40, 100, 200], #takes forever\n",
    "              'base_estimator__max_depth':[3,5,8,12,17,25], #\"max_depth\": [1, 3, 8],\n",
    "              'learning_rate': [0.1, 0.5, 1., 1.5]}\n",
    "\n",
    "clf = GridSearchCV(bdt,\n",
    "                param_grid,\n",
    "                cv=3,\n",
    "                scoring='roc_auc',\n",
    "                n_jobs=8)\n",
    "\n",
    "_ = clf.fit(X_dev, y_dev)"
   ]
  },
  {
   "cell_type": "code",
   "execution_count": 263,
   "metadata": {
    "collapsed": true
   },
   "outputs": [],
   "source": [
    "# Utility function to report best scores\n",
    "def report(results, n_top=10):\n",
    "    for i in range(1, n_top + 1):\n",
    "        candidates = np.flatnonzero(results['rank_test_score'] == i)\n",
    "        for candidate in candidates:\n",
    "            print(\"Model with rank: {0}\".format(i))\n",
    "            print(\"Mean validation score: {0:.4f} (std: {1:.4f})\".format(\n",
    "                  results['mean_test_score'][candidate],\n",
    "                  results['std_test_score'][candidate]))\n",
    "            print(\"Parameters: {0}\".format(results['params'][candidate]))\n",
    "            print(\"\")"
   ]
  },
  {
   "cell_type": "code",
   "execution_count": 264,
   "metadata": {
    "collapsed": false
   },
   "outputs": [
    {
     "name": "stdout",
     "output_type": "stream",
     "text": [
      "Model with rank: 1\n",
      "Mean validation score: 0.9924 (std: 0.0009)\n",
      "Parameters: {'base_estimator__max_depth': 12, 'learning_rate': 1.0}\n",
      "\n",
      "Model with rank: 2\n",
      "Mean validation score: 0.9915 (std: 0.0009)\n",
      "Parameters: {'base_estimator__max_depth': 12, 'learning_rate': 0.5}\n",
      "\n",
      "Model with rank: 3\n",
      "Mean validation score: 0.9908 (std: 0.0008)\n",
      "Parameters: {'base_estimator__max_depth': 8, 'learning_rate': 1.0}\n",
      "\n",
      "Model with rank: 4\n",
      "Mean validation score: 0.9908 (std: 0.0006)\n",
      "Parameters: {'base_estimator__max_depth': 8, 'learning_rate': 0.5}\n",
      "\n",
      "Model with rank: 5\n",
      "Mean validation score: 0.9895 (std: 0.0009)\n",
      "Parameters: {'base_estimator__max_depth': 8, 'learning_rate': 1.5}\n",
      "\n",
      "Model with rank: 6\n",
      "Mean validation score: 0.9895 (std: 0.0007)\n",
      "Parameters: {'base_estimator__max_depth': 17, 'learning_rate': 1.0}\n",
      "\n",
      "Model with rank: 7\n",
      "Mean validation score: 0.9895 (std: 0.0014)\n",
      "Parameters: {'base_estimator__max_depth': 17, 'learning_rate': 1.5}\n",
      "\n",
      "Model with rank: 8\n",
      "Mean validation score: 0.9879 (std: 0.0008)\n",
      "Parameters: {'base_estimator__max_depth': 12, 'learning_rate': 1.5}\n",
      "\n",
      "Model with rank: 9\n",
      "Mean validation score: 0.9864 (std: 0.0010)\n",
      "Parameters: {'base_estimator__max_depth': 5, 'learning_rate': 1.0}\n",
      "\n",
      "Model with rank: 10\n",
      "Mean validation score: 0.9858 (std: 0.0011)\n",
      "Parameters: {'base_estimator__max_depth': 5, 'learning_rate': 0.5}\n",
      "\n"
     ]
    }
   ],
   "source": [
    "report(clf.cv_results_)"
   ]
  },
  {
   "cell_type": "code",
   "execution_count": 256,
   "metadata": {
    "collapsed": false
   },
   "outputs": [],
   "source": [
    "from sklearn.model_selection import RandomizedSearchCV\n",
    "from scipy.stats import randint as sp_randint\n",
    "\n",
    "# Perform random search over all combinations of these hyper-parameters\n",
    "param_grid = {\"n_estimators\": sp_randint(1, 801),\n",
    "              'base_estimator__max_depth':sp_randint(1, 41), \n",
    "              #'learning_rate': sp_randint(0.2,1)   # NON VA CON QUESTO\n",
    "             }\n",
    "\n",
    "# run randomized search\n",
    "n_iter_search = 20\n",
    "\n",
    "rnd = RandomizedSearchCV(bdt, param_grid, n_iter=n_iter_search)\n",
    "_ = rnd.fit(X_dev, y_dev)"
   ]
  },
  {
   "cell_type": "code",
   "execution_count": 265,
   "metadata": {
    "collapsed": false
   },
   "outputs": [
    {
     "name": "stdout",
     "output_type": "stream",
     "text": [
      "Model with rank: 1\n",
      "Mean validation score: 0.9835 (std: 0.0009)\n",
      "Parameters: {'base_estimator__max_depth': 12, 'n_estimators': 737}\n",
      "\n",
      "Model with rank: 2\n",
      "Mean validation score: 0.9827 (std: 0.0011)\n",
      "Parameters: {'base_estimator__max_depth': 14, 'n_estimators': 739}\n",
      "\n",
      "Model with rank: 3\n",
      "Mean validation score: 0.9826 (std: 0.0005)\n",
      "Parameters: {'base_estimator__max_depth': 8, 'n_estimators': 782}\n",
      "\n",
      "Model with rank: 4\n",
      "Mean validation score: 0.9813 (std: 0.0001)\n",
      "Parameters: {'base_estimator__max_depth': 7, 'n_estimators': 600}\n",
      "\n",
      "Model with rank: 5\n",
      "Mean validation score: 0.9808 (std: 0.0004)\n",
      "Parameters: {'base_estimator__max_depth': 20, 'n_estimators': 405}\n",
      "\n",
      "Model with rank: 6\n",
      "Mean validation score: 0.9804 (std: 0.0009)\n",
      "Parameters: {'base_estimator__max_depth': 23, 'n_estimators': 702}\n",
      "\n",
      "Model with rank: 7\n",
      "Mean validation score: 0.9798 (std: 0.0002)\n",
      "Parameters: {'base_estimator__max_depth': 24, 'n_estimators': 182}\n",
      "\n",
      "Model with rank: 8\n",
      "Mean validation score: 0.9788 (std: 0.0006)\n",
      "Parameters: {'base_estimator__max_depth': 38, 'n_estimators': 322}\n",
      "\n",
      "Model with rank: 9\n",
      "Mean validation score: 0.9785 (std: 0.0007)\n",
      "Parameters: {'base_estimator__max_depth': 37, 'n_estimators': 699}\n",
      "\n",
      "Model with rank: 10\n",
      "Mean validation score: 0.9785 (std: 0.0008)\n",
      "Parameters: {'base_estimator__max_depth': 28, 'n_estimators': 360}\n",
      "\n"
     ]
    }
   ],
   "source": [
    "report(rnd.cv_results_)"
   ]
  },
  {
   "cell_type": "code",
   "execution_count": 268,
   "metadata": {
    "collapsed": true
   },
   "outputs": [],
   "source": [
    "# Split development set into a train and test sample\n",
    "X_train,X_test, y_train,y_test = train_test_split(X_dev, y_dev, test_size=0.33, random_state=4685)\n",
    "\n",
    "bdts = []\n",
    "params = ((1.,12), (0.5,8),\n",
    "          (1.,8), (0.5,12))\n",
    "\n",
    "for learn,depth in params:\n",
    "    dt = DecisionTreeClassifier(max_depth=depth)\n",
    "    gbt_bdt = AdaBoostClassifier(dt,\n",
    "                         algorithm='SAMME',\n",
    "                         n_estimators=5000, #was 800\n",
    "                         learning_rate=learn)\n",
    "\n",
    "    gbt_bdt.fit(X_train, y_train)\n",
    "    bdts.append(gbt_bdt)"
   ]
  },
  {
   "cell_type": "code",
   "execution_count": 273,
   "metadata": {
    "collapsed": true
   },
   "outputs": [],
   "source": [
    "def validation_curve(bdts, train, test):\n",
    "    X_test, y_test = test\n",
    "    X_train, y_train = train\n",
    "    \n",
    "    for n,clf in enumerate(bdts):\n",
    "        test_score = np.empty(len(clf.estimators_))\n",
    "        train_score = np.empty(len(clf.estimators_))\n",
    "\n",
    "        for i, pred in enumerate(clf.staged_decision_function(X_test)):\n",
    "            test_score[i] = 1-roc_auc_score(y_test, pred)\n",
    "\n",
    "        for i, pred in enumerate(clf.staged_decision_function(X_train)):\n",
    "            train_score[i] = 1-roc_auc_score(y_train, pred)\n",
    "\n",
    "        best_iter = np.argmin(test_score)\n",
    "        learn = clf.get_params()['learning_rate']\n",
    "        depth = clf.get_params()['base_estimator__max_depth']\n",
    "        test_line = plt.plot(test_score,\n",
    "                             label='learn=%.1f depth=%i (%.4f)'%(learn,depth,\n",
    "                                                                 test_score[best_iter]))\n",
    "\n",
    "        colour = test_line[-1].get_color()\n",
    "        plt.plot(train_score, '--', color=colour)\n",
    "        \n",
    "        plt.xlabel(\"Number of boosting iterations\")\n",
    "        plt.ylabel(\"1 - area under ROC\")\n",
    "        plt.axvline(x=best_iter, color=colour)\n",
    "        plt.ylim(-0.0006, 0.0066)\n",
    "        \n",
    "    plt.legend(loc='best')"
   ]
  },
  {
   "cell_type": "code",
   "execution_count": null,
   "metadata": {
    "collapsed": false
   },
   "outputs": [],
   "source": [
    "validation_curve(bdts,\n",
    "                 (X_train,y_train),\n",
    "                 (X_test,y_test))"
   ]
  },
  {
   "cell_type": "code",
   "execution_count": 253,
   "metadata": {
    "collapsed": true
   },
   "outputs": [],
   "source": [
    "from sklearn.model_selection import learning_curve\n",
    "\n",
    "# Taken more or less straight from\n",
    "# http://scikit-learn.org/stable/auto_examples/plot_learning_curve.html\n",
    "def plot_learning_curve(estimator, title, X, y, cv=None,\n",
    "                        n_jobs=1, train_sizes=np.linspace(.1, 1.0, 5),\n",
    "                        scoring=None, ax=None, xlabel=True):\n",
    "    if ax is None:\n",
    "        plt.figure()\n",
    "        ax.title(title)\n",
    "    \n",
    "    if xlabel:\n",
    "        ax.set_xlabel(\"Training examples\")\n",
    "        \n",
    "    ax.set_ylabel(\"Score\")\n",
    "    train_sizes, train_scores, test_scores = learning_curve(estimator,\n",
    "                                                            X, y,\n",
    "                                                            cv=cv,\n",
    "                                                            n_jobs=n_jobs,\n",
    "                                                            train_sizes=train_sizes,\n",
    "                                                            scoring=scoring)\n",
    "    train_scores_mean = np.mean(train_scores, axis=1)\n",
    "    train_scores_std = np.std(train_scores, axis=1)\n",
    "    test_scores_mean = np.mean(test_scores, axis=1)\n",
    "    test_scores_std = np.std(test_scores, axis=1)\n",
    "\n",
    "    ax.fill_between(train_sizes, train_scores_mean - train_scores_std,\n",
    "                     train_scores_mean + train_scores_std, alpha=0.1,\n",
    "                     color=\"r\")\n",
    "    ax.fill_between(train_sizes, test_scores_mean - test_scores_std,\n",
    "                     test_scores_mean + test_scores_std, alpha=0.1, color=\"g\")\n",
    "    ax.plot(train_sizes, train_scores_mean, 'o-', color=\"r\",\n",
    "             label=\"Training score\")\n",
    "    ax.plot(train_sizes, test_scores_mean, 'o-', color=\"g\",\n",
    "             label=\"Cross-validation score\")\n",
    "\n",
    "    ax.set_ylim([0.95, 1.005])\n",
    "    return plt\n"
   ]
  },
  {
   "cell_type": "code",
   "execution_count": 258,
   "metadata": {
    "collapsed": false
   },
   "outputs": [
    {
     "data": {
      "text/plain": [
       "<matplotlib.text.Text at 0x7f8c250ca5c0>"
      ]
     },
     "execution_count": 258,
     "metadata": {},
     "output_type": "execute_result"
    },
    {
     "data": {
      "text/plain": [
       "<matplotlib.figure.Figure at 0x7f8c25ec9908>"
      ]
     },
     "metadata": {},
     "output_type": "display_data"
    },
    {
     "data": {
      "image/png": "[encoded data removed]",
      "text/plain": [
       "<matplotlib.figure.Figure at 0x7f8c25ecf5f8>"
      ]
     },
     "metadata": {},
     "output_type": "display_data"
    }
   ],
   "source": [
    "classifiers = [bdts[0], bdts[1], bdts[2], bdts[3]]\n",
    "\n",
    "plt.figure(figsize=(40,40))\n",
    "fig, axes = plt.subplots(nrows=len(classifiers), sharex=True)\n",
    "\n",
    "for clf, ax in zip(classifiers, axes):  \n",
    "    plot_learning_curve(clf,\n",
    "                        \"Learning curves\",\n",
    "                        X_dev, y_dev,\n",
    "                        scoring='roc_auc',\n",
    "                        n_jobs=7, cv=4,\n",
    "                        ax=ax, xlabel=False)\n",
    "    \n",
    "axes[0].legend(loc=\"best\")\n",
    "axes[-1].set_xlabel(\"Training examples\")"
   ]
  }
 ],
 "metadata": {
  "kernelspec": {
   "display_name": "Python 3",
   "language": "python",
   "name": "python3"
  },
  "language_info": {
   "codemirror_mode": {
    "name": "ipython",
    "version": 3
   },
   "file_extension": ".py",
   "mimetype": "text/x-python",
   "name": "python",
   "nbconvert_exporter": "python",
   "pygments_lexer": "ipython3",
   "version": "3.5.1"
  }
 },
 "nbformat": 4,
 "nbformat_minor": 0
}
