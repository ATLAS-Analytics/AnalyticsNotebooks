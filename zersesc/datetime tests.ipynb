{
 "cells": [
  {
   "cell_type": "code",
   "execution_count": 1,
   "metadata": {},
   "outputs": [
    {
     "name": "stdout",
     "output_type": "stream",
     "text": [
      "2018\n",
      "10\n",
      "4\n",
      "2018410\n",
      "2018410T000000Z\n",
      "2018-04-03 23:16:48.978616\n",
      "2018403\n",
      "2018403T000000Z\n"
     ]
    }
   ],
   "source": [
    "from datetime import datetime, timedelta\n",
    "\n",
    "now = datetime.today()\n",
    "\n",
    "print(now.year)\n",
    "print(now.day)\n",
    "print(now.month)\n",
    "\n",
    "user_yr = str(now.year)\n",
    "user_month = str(now.month)\n",
    "user_day = str(now.day)\n",
    "\n",
    "end_date = user_yr + user_month + user_day\n",
    "print(end_date)\n",
    "\n",
    "end_date = end_date + 'T000000Z'\n",
    "print(end_date)\n",
    "\n",
    "begin_raw = now - timedelta(weeks=1)\n",
    "print(begin_raw)\n",
    "\n",
    "start_yr = str(begin_raw.year)\n",
    "start_month = str(begin_raw.month)\n",
    "start_day = str(begin_raw.day)\n",
    "if len(start_day) == 1:\n",
    "    start_day = '0' + start_day\n",
    "\n",
    "start_date = start_yr + start_month + start_day\n",
    "print(start_date)\n",
    "\n",
    "start_date = start_date + 'T000000Z'\n",
    "print(start_date)"
   ]
  }
 ],
 "metadata": {
  "kernelspec": {
   "display_name": "Python 3",
   "language": "python",
   "name": "python3"
  },
  "language_info": {
   "codemirror_mode": {
    "name": "ipython",
    "version": 3
   },
   "file_extension": ".py",
   "mimetype": "text/x-python",
   "name": "python",
   "nbconvert_exporter": "python",
   "pygments_lexer": "ipython3",
   "version": "3.4.5"
  }
 },
 "nbformat": 4,
 "nbformat_minor": 2
}
