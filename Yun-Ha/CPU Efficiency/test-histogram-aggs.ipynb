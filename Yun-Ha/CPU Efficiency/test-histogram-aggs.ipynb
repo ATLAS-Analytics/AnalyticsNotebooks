{
 "cells": [
  {
   "cell_type": "code",
   "execution_count": 2,
   "metadata": {
    "collapsed": false
   },
   "outputs": [
    {
     "name": "stdout",
     "output_type": "stream",
     "text": [
      "0.0  gangarobot-celpft=196  gangarobot-mcore=46  gangarobot-newmover=163  gangarobot-rcmtest=33  merge=3122  pile=640  recon=50  reprocessing=779  simul=495\n",
      "10.0  gangarobot-celpft=737  gangarobot-newmover=57  merge=959  pile=317  recon=30  reprocessing=924  simul=309\n",
      "20.0  gangarobot-celmcore=6  gangarobot-mcore=115  gangarobot-rcmtest=16  merge=1853  pile=327  recon=48  reprocessing=1549  simul=2\n",
      "30.0  gangarobot-celmcore=1  gangarobot-mcore=21  gangarobot-rcmtest=15  merge=4364  pile=649  recon=26  reprocessing=5151\n",
      "40.0  gangarobot-celmcore=12  gangarobot-mcore=61  gangarobot-rcmtest=11  merge=2367  pile=1841  recon=1  reprocessing=12058  simul=11  urgent=2\n",
      "50.0  gangarobot-celmcore=28  gangarobot-mcore=289  gangarobot-rcmtest=19  merge=2320  pile=837  recon=1  reprocessing=9289  simul=10  urgent=165\n",
      "60.0  gangarobot-celmcore=7  gangarobot-mcore=62  gangarobot-rcmtest=2  merge=3927  pile=325  reprocessing=4625  simul=297  urgent=57\n",
      "70.0  merge=14161  pile=2948  reprocessing=4539  simul=1559\n",
      "80.0  merge=7867  pile=2394  recon=5  reprocessing=61  simul=3870\n",
      "90.0  merge=483  pile=433  simul=9363\n"
     ]
    }
   ],
   "source": [
    "from elasticsearch import Elasticsearch\n",
    "\n",
    "es = Elasticsearch([{'host':'cl-analytics.mwt2.org', 'port':9200}],\n",
    "                   send_get_body_as = 'POST'\n",
    "                  )\n",
    "\n",
    "q = {\n",
    "  \"size\": 0,\n",
    "  \"query\": {\n",
    "    \"constant_score\": {\n",
    "      \"filter\": {\n",
    "        \"bool\": {\n",
    "          \"must\": [\n",
    "            {\"terms\": {\"computingsite\":[\"TRIUMF_MCORE\", \"TRIUMF_MCORE_LOMEM\"]}},\n",
    "            {\"terms\": {\"jobstatus\": ['finished', 'failed']}},\n",
    "            {\"range\": {\"endtime\": {\"from\": \"2016-11-01T00:00:00\",\n",
    "                                   \"to\":   \"2016-12-01T00:00:00\"}}}\n",
    "          ]\n",
    "        }\n",
    "      }\n",
    "    }\n",
    "  },\n",
    "  \"aggs\": {\n",
    "    \"cpueff\": {\n",
    "      \"histogram\": {\n",
    "        \"script\": {\n",
    "          \"inline\": \"doc['cpu_eff'].value/6*100\",\n",
    "          \"lang\": \"expression\"\n",
    "        },\n",
    "        \"interval\": 10,\n",
    "        \"min_doc_count\": 1\n",
    "      },\n",
    "      \"aggs\": {\n",
    "        \"ptype\": {\n",
    "          \"terms\": {\n",
    "            \"field\": \"processingtype\",\n",
    "            \"size\": 50,\n",
    "            \"order\": {\n",
    "              \"_term\": \"asc\"\n",
    "            }\n",
    "          }\n",
    "        }\n",
    "      }\n",
    "    }\n",
    "  }\n",
    "}\n",
    "\n",
    "index = \"jobs_archive_2016-11*,jobs-archive_2016-12*\"\n",
    "res = es.search(index=index, body=q, request_timeout=60)\n",
    "\n",
    "for cpueff in res['aggregations']['cpueff']['buckets']:\n",
    "    print cpueff['key'],\n",
    "    for ptype in cpueff['ptype']['buckets']:\n",
    "        print ' %s=%d' % (ptype['key'], ptype['doc_count']),\n",
    "    print\n"
   ]
  },
  {
   "cell_type": "code",
   "execution_count": null,
   "metadata": {
    "collapsed": true
   },
   "outputs": [],
   "source": []
  }
 ],
 "metadata": {
  "kernelspec": {
   "display_name": "Python 2",
   "language": "python",
   "name": "python2"
  },
  "language_info": {
   "codemirror_mode": {
    "name": "ipython",
    "version": 2
   },
   "file_extension": ".py",
   "mimetype": "text/x-python",
   "name": "python",
   "nbconvert_exporter": "python",
   "pygments_lexer": "ipython2",
   "version": "2.7.10"
  }
 },
 "nbformat": 4,
 "nbformat_minor": 1
}
