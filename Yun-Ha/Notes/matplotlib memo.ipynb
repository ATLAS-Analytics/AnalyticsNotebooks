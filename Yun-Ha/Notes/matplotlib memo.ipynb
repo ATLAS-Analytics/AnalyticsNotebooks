{
 "cells": [
  {
   "cell_type": "markdown",
   "metadata": {},
   "source": [
    "## Matplotlib Tips\n",
    "\n",
    "figure.subplots_adjust()\n",
    "  - control spacing around the subplots\n",
    "  bottom, top, left, right : outer padding? \n",
    "  wspace, hspace : between subplots\n",
    "\n",
    "mpl.artist.setp() : apply properties to specified object(s)\n",
    "  - plt.setp(objs, properties)\n",
    "  \n"
   ]
  }
 ],
 "metadata": {
  "kernelspec": {
   "display_name": "Python 3",
   "language": "python",
   "name": "python3"
  },
  "language_info": {
   "codemirror_mode": {
    "name": "ipython",
    "version": 3
   },
   "file_extension": ".py",
   "mimetype": "text/x-python",
   "name": "python",
   "nbconvert_exporter": "python",
   "pygments_lexer": "ipython3",
   "version": "3.5.1"
  }
 },
 "nbformat": 4,
 "nbformat_minor": 0
}
