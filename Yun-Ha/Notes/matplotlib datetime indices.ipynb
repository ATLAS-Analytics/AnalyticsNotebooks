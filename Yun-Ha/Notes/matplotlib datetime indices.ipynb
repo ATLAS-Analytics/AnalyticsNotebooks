{
 "cells": [
  {
   "cell_type": "markdown",
   "metadata": {},
   "source": [
    "## Datetime as X-axis Indices in Matplotlib Plots\n",
    "\n",
    "Python datetime are converted to floating numbers which represent Gregorian days.  This has effect on plotting data as date histogram type plots whose x-axis is datetime especially if it's for hourly interval. \n",
    "\n",
    "For examlple,\n",
    "```python\n",
    "  >>> import matplotlib.dates as mpl_dates\n",
    "  >>> from datetime import datetime, timedelta\n",
    "  >>> d1 = mpl_dates.date2num( datetime(2017,2,1, 1,0,0))\n",
    "  >>> d2 = mpl_dates.date2num( datetime(2017,2,2, 1,0,0))\n",
    "  >>> d3 = mpl_dates.date2num( datetime(2017,2,2, 2,0,0))\n",
    "  >>> dd = d2 - d1   # daily interval\n",
    "  >>> dh = d3 - d2   # hourly interval\n",
    "  >>> print(dd)\n",
    "  1.0\n",
    "  >>> print(dh)\n",
    "  0.0416666667443\n",
    "```\n",
    "\n",
    "As in the above example, for hourly interval, the interval between neighboring x-positions is 0.04 (= 1/24), which is larger than the default width of 0.8, and the bars will be overlapped if no *_width_* is provided.\n",
    "```python\n",
    "  >>> data = np.arange(34,10,-1)\n",
    "  >>> dates = mpl_dates.drange(datetime(2017,2,1,1,0,0), datetime(2017,2,2,1,0,0), timedelta(hours=1))\n",
    "```"
   ]
  },
  {
   "cell_type": "code",
   "execution_count": 2,
   "metadata": {
    "collapsed": true
   },
   "outputs": [],
   "source": [
    "%matplotlib inline\n",
    "\n",
    "from datetime import datetime, timedelta\n",
    "\n",
    "import numpy as np\n",
    "import matplotlib.dates as mpl_dates\n",
    "import matplotlib.pyplot as plt"
   ]
  },
  {
   "cell_type": "code",
   "execution_count": 3,
   "metadata": {
    "collapsed": false
   },
   "outputs": [
    {
     "name": "stdout",
     "output_type": "stream",
     "text": [
      "1.0\n",
      "0.04166666674427688\n"
     ]
    }
   ],
   "source": [
    "\n",
    "d1 = mpl_dates.date2num( datetime(2017,2,1, 1,0,0))\n",
    "d2 = mpl_dates.date2num( datetime(2017,2,2, 1,0,0))\n",
    "d3 = mpl_dates.date2num( datetime(2017,2,2, 2,0,0))\n",
    "dd = d2 - d1   # daily interval\n",
    "dh = d3 - d2   # hourly interval\n",
    "print(dd)\n",
    "print(dh)"
   ]
  },
  {
   "cell_type": "code",
   "execution_count": 18,
   "metadata": {
    "collapsed": false
   },
   "outputs": [
    {
     "data": {
      "image/png": "[encoded data removed]",
      "text/plain": [
       "<matplotlib.figure.Figure at 0x7fbf6f52e780>"
      ]
     },
     "metadata": {},
     "output_type": "display_data"
    }
   ],
   "source": [
    "data = np.arange(34,10,-1)\n",
    "#-- drange() : returns dates as Gregorian days in floating point values\n",
    "#dates = mpl_dates.drange(datetime(2017,2,1,1,0,0), datetime(2017,2,2,1,0,0), timedelta(hours=1))\n",
    "#-- rrule() : returns dates as datetime objects\n",
    "dates = list(mpl_dates.rrule(mpl_dates.HOURLY, \n",
    "                             dtstart=datetime(2017,2,1,1,0,0), count=len(data)))\n",
    "\n",
    "#fig, (ax1, ax2, ax3) = plt.subplots(1,3, figsize=(8,3))\n",
    "fig, ((ax1, _), (ax2, ax3)) = plt.subplots(2,2, figsize=(8,6))\n",
    "\n",
    "l1 = ax1.plot(dates,data, '-o')\n",
    "ax1.grid(1)\n",
    "\n",
    "b2 = ax2.bar(dates,data)\n",
    "ax2.grid(1)\n",
    "\n",
    "b3 = ax3.bar(dates,data, width=0.04)\n",
    "ax3.grid(1)\n"
   ]
  },
  {
   "cell_type": "code",
   "execution_count": null,
   "metadata": {
    "collapsed": false
   },
   "outputs": [],
   "source": [
    "#dir(b2[0])"
   ]
  },
  {
   "cell_type": "code",
   "execution_count": 45,
   "metadata": {
    "collapsed": false
   },
   "outputs": [
    {
     "name": "stdout",
     "output_type": "stream",
     "text": [
      "736361.0416666666 0.8\n"
     ]
    }
   ],
   "source": [
    "print(b2[0].get_x(), b2[0].get_width())"
   ]
  },
  {
   "cell_type": "code",
   "execution_count": 41,
   "metadata": {
    "collapsed": false
   },
   "outputs": [
    {
     "name": "stdout",
     "output_type": "stream",
     "text": [
      "736361.0416666666 0.04\n"
     ]
    }
   ],
   "source": [
    "print(b3[0].get_x(), b3[0].get_width())"
   ]
  },
  {
   "cell_type": "code",
   "execution_count": null,
   "metadata": {
    "collapsed": true
   },
   "outputs": [],
   "source": []
  }
 ],
 "metadata": {
  "kernelspec": {
   "display_name": "Python 3",
   "language": "python",
   "name": "python3"
  },
  "language_info": {
   "codemirror_mode": {
    "name": "ipython",
    "version": 3
   },
   "file_extension": ".py",
   "mimetype": "text/x-python",
   "name": "python",
   "nbconvert_exporter": "python",
   "pygments_lexer": "ipython3",
   "version": "3.5.1"
  }
 },
 "nbformat": 4,
 "nbformat_minor": 0
}
