{
 "cells": [
  {
   "cell_type": "markdown",
   "metadata": {},
   "source": [
    "### the binomial distribution with parameters n and p is the discrete probability distribution of the number of successes in a sequence of n independent experiments, each asking a yes–no question, and each with its own boolean-valued outcome: a random variable containing single bit of information: success (with probability p) or failure (with probability q = 1 − p). "
   ]
  },
  {
   "cell_type": "code",
   "execution_count": 17,
   "metadata": {
    "scrolled": true
   },
   "outputs": [
    {
     "name": "stdout",
     "output_type": "stream",
     "text": [
      "p: 0.96 q: 0.040000000000000036\n",
      "acc: 0.923102933333 \t\t\tcorrects: 415.39632 \tincorrs: 34.60368\n"
     ]
    }
   ],
   "source": [
    "%matplotlib inline\n",
    "import numpy as np\n",
    "import pandas\n",
    "from scipy import special\n",
    "import matplotlib.pyplot as plt\n",
    "\n",
    "nb = 432\n",
    "nw = 18\n",
    "tot = nb + nw\n",
    "\n",
    "p=nb/tot\n",
    "q=1-p\n",
    "print('p:',p, 'q:',q)\n",
    "\n",
    "nsim=100000\n",
    "\n",
    "r = np.random.binomial(nb,p,size=nsim)\n",
    "incorr = pandas.Series(nb-r).abs() * 2\n",
    "corr=tot-incorr\n",
    "accuracy = corr / tot\n",
    "# print(r, incorr, corr, accuracy)\n",
    "\n",
    "print('acc:', accuracy.mean(), '\\t\\t\\tcorrects:', corr.mean(), '\\tincorrs:', incorr.mean())"
   ]
  },
  {
   "cell_type": "code",
   "execution_count": 37,
   "metadata": {},
   "outputs": [
    {
     "name": "stdout",
     "output_type": "stream",
     "text": [
      "0.826667    0.00001\n",
      "0.831111    0.00001\n",
      "0.840000    0.00001\n",
      "0.844444    0.00002\n",
      "0.848889    0.00014\n",
      "0.853333    0.00014\n",
      "0.857778    0.00036\n",
      "0.862222    0.00073\n",
      "0.866667    0.00145\n",
      "0.871111    0.00253\n",
      "0.875556    0.00383\n",
      "0.880000    0.00713\n",
      "0.884444    0.01166\n",
      "0.888889    0.01680\n",
      "0.893333    0.02436\n",
      "0.897778    0.03560\n",
      "0.902222    0.04669\n",
      "0.906667    0.05953\n",
      "0.911111    0.07411\n",
      "0.915556    0.08565\n",
      "0.920000    0.09348\n",
      "0.924444    0.09833\n",
      "0.928889    0.09664\n",
      "0.933333    0.08738\n",
      "0.937778    0.07684\n",
      "0.942222    0.06253\n",
      "0.946667    0.04537\n",
      "0.951111    0.03000\n",
      "0.955556    0.01870\n",
      "0.960000    0.01100\n",
      "0.964444    0.00519\n",
      "0.968889    0.00246\n",
      "0.973333    0.00092\n",
      "0.977778    0.00027\n",
      "0.982222    0.00012\n",
      "0.986667    0.00001\n",
      "dtype: float64\n"
     ]
    },
    {
     "data": {
      "image/png": "[encoded data removed]",
      "text/plain": [
       "<matplotlib.figure.Figure at 0x7f0b02a37f60>"
      ]
     },
     "metadata": {},
     "output_type": "display_data"
    }
   ],
   "source": [
    "accuracy_norm = accuracy.value_counts().sort_index()/nsim\n",
    "print(accuracy_norm)#.head(30))\n",
    "plt.plot(accuracy_norm)\n",
    "plt.xlabel('chance accuracy')\n",
    "plt.savefig('binomial_chance_accuracy')"
   ]
  },
  {
   "cell_type": "code",
   "execution_count": 35,
   "metadata": {},
   "outputs": [
    {
     "name": "stdout",
     "output_type": "stream",
     "text": [
      "mean correct black 414.71999999999997\n",
      "mean incorrect 34.56000000000006\n",
      "mean correct: 415.43999999999994\n",
      "mean accuracy: 0.9231999999999999\n",
      "variance: 16.588800000000013 balls.\n"
     ]
    }
   ],
   "source": [
    "mean_correct_black = nb * p\n",
    "mean_incorrect = (nb - mean_correct_black)*2\n",
    "mean_correct = tot - mean_incorrect\n",
    "mean_acc=mean_correct/tot\n",
    "print(\"mean correct black\", mean_correct_black)\n",
    "print(\"mean incorrect\", mean_incorrect)\n",
    "print('mean correct:', mean_correct)\n",
    "print(\"mean accuracy:\", mean_acc)\n",
    "\n",
    "variance = mean_correct_black * (1 - p)\n",
    "print('variance:', variance,'balls.')\n"
   ]
  }
 ],
 "metadata": {
  "kernelspec": {
   "display_name": "Python 3",
   "language": "python",
   "name": "python3"
  },
  "language_info": {
   "codemirror_mode": {
    "name": "ipython",
    "version": 3
   },
   "file_extension": ".py",
   "mimetype": "text/x-python",
   "name": "python",
   "nbconvert_exporter": "python",
   "pygments_lexer": "ipython3",
   "version": "3.4.5"
  }
 },
 "nbformat": 4,
 "nbformat_minor": 1
}
