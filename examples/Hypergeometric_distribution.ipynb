{
 "cells": [
  {
   "cell_type": "code",
   "execution_count": 87,
   "metadata": {
    "scrolled": true
   },
   "outputs": [
    {
     "name": "stdout",
     "output_type": "stream",
     "text": [
      "acc: 0.923198888889 \t\t\tcorrects: 415.4395 \tcorr whites: 0.71975\n"
     ]
    }
   ],
   "source": [
    "%matplotlib inline\n",
    "import numpy as np\n",
    "import pandas\n",
    "from scipy import special\n",
    "import matplotlib.pyplot as plt\n",
    "\n",
    "nb = 432\n",
    "nw = 18\n",
    "tot = nw + nb\n",
    "\n",
    "balls = [0]*nb + [1]*nw\n",
    "\n",
    "nsim=100000\n",
    "\n",
    "rvs = []\n",
    "corrs = []\n",
    "corrs_whites = []\n",
    "for i in range(nsim):\n",
    "    r = np.random.choice(balls, size=tot, replace=False)\n",
    "    incorr = r[:nb].sum() * 2\n",
    "    corr_whites=r[nb:].sum()\n",
    "    corr = tot - incorr\n",
    "    accuracy = corr / tot\n",
    "    rvs.append(accuracy)\n",
    "    corrs.append(corr)\n",
    "    corrs_whites.append(corr_whites)\n",
    "    \n",
    "rvS=pandas.Series(rvs)\n",
    "corrS=pandas.Series(corrs)\n",
    "corrS_whites=pandas.Series(corrs_whites)\n",
    "\n",
    "print('acc:', rvS.mean(), '\\t\\t\\tcorrects:', corrS.mean(), '\\tcorr whites:', corrS_whites.mean())"
   ]
  },
  {
   "cell_type": "code",
   "execution_count": 81,
   "metadata": {},
   "outputs": [
    {
     "name": "stdout",
     "output_type": "stream",
     "text": [
      "0    0.46983\n",
      "1    0.37103\n",
      "2    0.12905\n",
      "3    0.02608\n",
      "4    0.00368\n",
      "dtype: float64\n"
     ]
    },
    {
     "data": {
      "text/plain": [
       "[<matplotlib.lines.Line2D at 0x7f1833812ac8>]"
      ]
     },
     "execution_count": 81,
     "metadata": {},
     "output_type": "execute_result"
    },
    {
     "data": {
      "image/png": "[encoded data removed]",
      "text/plain": [
       "<matplotlib.figure.Figure at 0x7f1833c6eb38>"
      ]
     },
     "metadata": {},
     "output_type": "display_data"
    }
   ],
   "source": [
    "corrS_whites_norm = corrS_whites.value_counts()/nsim\n",
    "print(corrS_whites_norm.head())\n",
    "plt.plot(corrS_whites_norm)"
   ]
  },
  {
   "cell_type": "code",
   "execution_count": 82,
   "metadata": {},
   "outputs": [
    {
     "name": "stdout",
     "output_type": "stream",
     "text": [
      "0.920000    0.46983\n",
      "0.924444    0.37103\n",
      "0.928889    0.12905\n",
      "0.933333    0.02608\n",
      "0.937778    0.00368\n",
      "dtype: float64\n"
     ]
    },
    {
     "data": {
      "text/plain": [
       "[<matplotlib.lines.Line2D at 0x7f18649cf4e0>]"
      ]
     },
     "execution_count": 82,
     "metadata": {},
     "output_type": "execute_result"
    },
    {
     "data": {
      "image/png": "[encoded data removed]",
      "text/plain": [
       "<matplotlib.figure.Figure at 0x7f1833a83240>"
      ]
     },
     "metadata": {},
     "output_type": "display_data"
    }
   ],
   "source": [
    "rvs_norm = rvS.value_counts()/nsim\n",
    "print(rvs_norm.head())\n",
    "plt.plot(rvs_norm)"
   ]
  },
  {
   "cell_type": "code",
   "execution_count": 97,
   "metadata": {},
   "outputs": [
    {
     "name": "stdout",
     "output_type": "stream",
     "text": [
      "414    0.47228\n",
      "416    0.36962\n",
      "418    0.12850\n",
      "420    0.02554\n",
      "422    0.00381\n",
      "dtype: float64\n",
      "415.4395\n"
     ]
    },
    {
     "data": {
      "text/plain": [
       "[<matplotlib.lines.Line2D at 0x7f17e82dd2b0>]"
      ]
     },
     "execution_count": 97,
     "metadata": {},
     "output_type": "execute_result"
    },
    {
     "data": {
      "image/png": "[encoded data removed]",
      "text/plain": [
       "<matplotlib.figure.Figure at 0x7f17e8352e48>"
      ]
     },
     "metadata": {},
     "output_type": "display_data"
    }
   ],
   "source": [
    "cnorm = corrS.value_counts()/nsim\n",
    "print(cnorm.head())\n",
    "print(corrS.mean())\n",
    "plt.plot(cnorm)"
   ]
  },
  {
   "cell_type": "code",
   "execution_count": 84,
   "metadata": {},
   "outputs": [
    {
     "name": "stdout",
     "output_type": "stream",
     "text": [
      "0 0.96 0.96\n",
      "1 0.9599109131403119 0.9215144766146993\n",
      "2 0.9598214285714286 0.884489341393573\n",
      "3 0.959731543624161 0.8488723209347714\n",
      "4 0.9596412556053812 0.8146128999104981\n",
      "5 0.9595505617977528 0.7816622657568151\n",
      "6 0.9594594594594594 0.7499732549828901\n",
      "7 0.9593679458239278 0.7195003010558202\n",
      "8 0.9592760180995475 0.6901993838182529\n",
      "9 0.9591836734693877 0.6620279803970996\n",
      "10 0.9590909090909091 0.6349450175626729\n",
      "11 0.958997722095672 0.6089108254985998\n",
      "12 0.958904109589041 0.5838870929438628\n",
      "13 0.9588100686498856 0.5598368236692872\n",
      "14 0.9587155963302753 0.5367242942517478\n",
      "15 0.9586206896551724 0.5145150131102962\n",
      "16 0.9585253456221198 0.49317568076931617\n",
      "17 0.9584295612009238 0.4726741513147026\n"
     ]
    }
   ],
   "source": [
    "pc=1\n",
    "for i in range(nw):\n",
    "    p_c=(nb-i)/(tot-i)\n",
    "    pc=pc*p_c\n",
    "    print(i,p_c,pc) "
   ]
  },
  {
   "cell_type": "code",
   "execution_count": 118,
   "metadata": {},
   "outputs": [
    {
     "name": "stdout",
     "output_type": "stream",
     "text": [
      "in average will take correctly classify this many wbs: 0.72\n",
      "in average will missclassify: 34.56\n",
      "average accuracy: 0.9232\n",
      "variance: 0.6650298440979956 balls.\n",
      "0 0.92 0.472674151315\n",
      "1 0.9244444444444444 0.369027530183\n",
      "2 0.9288888888888889 0.128183841614\n",
      "3 0.9333333333333333 0.0262310659098\n",
      "4 0.9377777777777778 0.00352989822351\n",
      "5 0.9422222222222222 0.000330243461484\n",
      "6 0.9466666666666667 2.21472797582e-05\n",
      "7 0.9511111111111111 1.08218808456e-06\n",
      "8 0.9555555555555556 3.87869544524e-08\n",
      "9 0.96 1.01883253093e-09\n",
      "10 0.9644444444444444 1.94635459918e-11\n",
      "11 0.9688888888888889 2.66452822133e-13\n",
      "12 0.9733333333333334 2.5540274422e-15\n",
      "13 0.9777777777777777 1.65636800431e-17\n",
      "14 0.9822222222222222 6.91074768153e-20\n",
      "15 0.9866666666666667 1.71829002183e-22\n",
      "16 0.9911111111111112 2.24776310995e-25\n",
      "17 0.9955555555555555 1.2271123843e-28\n",
      "18 1.0 1.5780766259e-32\n"
     ]
    },
    {
     "data": {
      "text/plain": [
       "[<matplotlib.lines.Line2D at 0x7f17e7e83a90>]"
      ]
     },
     "execution_count": 118,
     "metadata": {},
     "output_type": "execute_result"
    },
    {
     "data": {
      "image/png": "[encoded data removed]",
      "text/plain": [
       "<matplotlib.figure.Figure at 0x7f17e7e5a438>"
      ]
     },
     "metadata": {},
     "output_type": "display_data"
    }
   ],
   "source": [
    "# The hypergeometric distribution is a discrete probability distribution that \n",
    "# describes the probability of k successes \n",
    "# in  n draws, without replacement, from a finite population of size N that contains exactly K objects\n",
    "# with that feature. \n",
    "K = nw\n",
    "N = tot\n",
    "n = nw\n",
    "k = 0\n",
    "\n",
    "mean = n*K/N\n",
    "print ('in average will take correctly classify this many wbs:', mean)\n",
    "print ('in average will missclassify:', (nw-mean)*2 )\n",
    "MEAN_ACCURACY = (tot - (nw-mean)*2) /tot\n",
    "print ('average accuracy:', MEAN_ACCURACY)\n",
    "\n",
    "variance = n*K*(N-K)*(N-n)/(N*N*(N-1))\n",
    "print('variance:', variance,'balls.')\n",
    "# acc_plus_one_sigma= (tot - (nw-(mean+variance)*2)) /tot\n",
    "# print(acc_plus_one_sigma)\n",
    "                    \n",
    "fd=[]\n",
    "accuracy=[]\n",
    "for k in range(nw+1):\n",
    "    hp=special.binom(K,k)*special.binom(N-K,n-k)/special.binom(N,n)\n",
    "    fd.append(hp)\n",
    "    acc=(nb-nw+k*2)/tot\n",
    "    accuracy.append(acc)\n",
    "    print(k, acc, hp)\n",
    "\n",
    "plt.plot(fd)\n"
   ]
  },
  {
   "cell_type": "code",
   "execution_count": 120,
   "metadata": {},
   "outputs": [
    {
     "ename": "AttributeError",
     "evalue": "'list' object has no attribute 'savefig'",
     "output_type": "error",
     "traceback": [
      "\u001b[0;31m---------------------------------------------------------------------------\u001b[0m",
      "\u001b[0;31mAttributeError\u001b[0m                            Traceback (most recent call last)",
      "\u001b[0;32m<ipython-input-120-7c6dd1218c7c>\u001b[0m in \u001b[0;36m<module>\u001b[0;34m()\u001b[0m\n\u001b[1;32m      1\u001b[0m \u001b[0mACC\u001b[0m\u001b[0;34m=\u001b[0m\u001b[0mpandas\u001b[0m\u001b[0;34m.\u001b[0m\u001b[0mSeries\u001b[0m\u001b[0;34m(\u001b[0m\u001b[0mfd\u001b[0m\u001b[0;34m,\u001b[0m\u001b[0mindex\u001b[0m\u001b[0;34m=\u001b[0m\u001b[0maccuracy\u001b[0m\u001b[0;34m)\u001b[0m\u001b[0;34m\u001b[0m\u001b[0m\n\u001b[1;32m      2\u001b[0m \u001b[0mp\u001b[0m \u001b[0;34m=\u001b[0m \u001b[0mplt\u001b[0m\u001b[0;34m.\u001b[0m\u001b[0mplot\u001b[0m\u001b[0;34m(\u001b[0m\u001b[0mACC\u001b[0m\u001b[0;34m)\u001b[0m\u001b[0;34m\u001b[0m\u001b[0m\n\u001b[0;32m----> 3\u001b[0;31m \u001b[0mp\u001b[0m\u001b[0;34m.\u001b[0m\u001b[0msavefig\u001b[0m\u001b[0;34m(\u001b[0m\u001b[0;34m'accuracy distribution.png'\u001b[0m\u001b[0;34m)\u001b[0m\u001b[0;34m\u001b[0m\u001b[0m\n\u001b[0m",
      "\u001b[0;31mAttributeError\u001b[0m: 'list' object has no attribute 'savefig'"
     ]
    },
    {
     "data": {
      "image/png": "[encoded data removed]",
      "text/plain": [
       "<matplotlib.figure.Figure at 0x7f17e7d79f98>"
      ]
     },
     "metadata": {},
     "output_type": "display_data"
    }
   ],
   "source": [
    "ACC=pandas.Series(fd,index=accuracy)\n",
    "fig,ax = plt.plot(ACC)\n",
    "fig.savefig('accuracy distribution.png')"
   ]
  }
 ],
 "metadata": {
  "kernelspec": {
   "display_name": "Python 3",
   "language": "python",
   "name": "python3"
  },
  "language_info": {
   "codemirror_mode": {
    "name": "ipython",
    "version": 3
   },
   "file_extension": ".py",
   "mimetype": "text/x-python",
   "name": "python",
   "nbconvert_exporter": "python",
   "pygments_lexer": "ipython3",
   "version": "3.4.5"
  }
 },
 "nbformat": 4,
 "nbformat_minor": 1
}
