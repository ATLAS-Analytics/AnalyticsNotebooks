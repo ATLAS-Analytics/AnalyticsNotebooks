{
 "cells": [
  {
   "cell_type": "markdown",
   "metadata": {},
   "source": [
    "Loads Network performance data from ES. Learns to predict bandwidth from packet loss and one way delay."
   ]
  },
  {
   "cell_type": "code",
   "execution_count": 1,
   "metadata": {},
   "outputs": [],
   "source": [
    "%matplotlib inline\n",
    "import numpy as np\n",
    "import matplotlib.pyplot as plt\n",
    "from datetime import datetime\n",
    "import re,time\n",
    "from elasticsearch import Elasticsearch, exceptions as es_exceptions\n",
    "from elasticsearch.helpers import scan\n",
    "es = Elasticsearch(hosts=[{'host':'atlas-kibana.mwt2.org', 'port':9200}],timeout=60)\n",
    "\n"
   ]
  },
  {
   "cell_type": "code",
   "execution_count": 2,
   "metadata": {},
   "outputs": [],
   "source": [
    "ind='network_weather_2-2016.6.21'\n",
    "\n",
    "currentTime=int(round(datetime.utcnow().timestamp()* 1000))\n",
    "lastHours=24\n",
    "startTime=currentTime - lastHours*3600000 \n",
    "endTime=currentTime\n",
    "\n",
    "source='WT2'\n",
    "destination='AGLT2'"
   ]
  },
  {
   "cell_type": "code",
   "execution_count": 3,
   "metadata": {},
   "outputs": [],
   "source": [
    "myquery={\n",
    "#    \"size\":50,\n",
    "    \"fields\": [\"timestamp\", \"delay_mean\",\"throughput\",\"packet_loss\"],\n",
    "    \"query\":{\n",
    "        \"filtered\":{\n",
    "            \"query\":{\n",
    "                \"bool\" : {\n",
    "                  \"must\" :     [ \n",
    "                        {\"term\": {\"srcProduction\": {\"value\": True } } },\n",
    "                        {\"term\": {\"destProduction\": {\"value\": True } } },\n",
    "                        {\"term\": {\"srcSite\": { \"value\": source } } },\n",
    "                        {\"term\": {\"destSite\": { \"value\": destination } } }\n",
    "                    ]\n",
    "                }\n",
    "#               \"query_string\":{\"query\":queryString,\"analyze_wildcard\":True,\"lowercase_expanded_terms\":False}\n",
    "            }\n",
    "#            ,\"filter\":{ \"range\":{\"timestamp\":{\"gte\": startTime,\"lte\": endTime,\"format\": \"epoch_millis\"}}   }\n",
    "        }\n",
    "    }\n",
    "#    ,\"sort\": { \"timestamp\": { \"order\": \"asc\" }}\n",
    "}"
   ]
  },
  {
   "cell_type": "code",
   "execution_count": 4,
   "metadata": {},
   "outputs": [
    {
     "name": "stdout",
     "output_type": "stream",
     "text": [
      "results fetched: 43\n",
      "results summed up: 26\n",
      "1466533800.0 [27.497766666666664, -1, -1]\n",
      "1466534100.0 [27.295995995995995, -1, -1]\n",
      "1466534400.0 [27.325617078052037, -1, -1]\n",
      "1466534700.0 [27.2765, -1, -1]\n",
      "1466535000.0 [27.03626666666666, -1, -1]\n",
      "1466535300.0 [27.025175058352794, -1, -1]\n",
      "1466535600.0 [26.95736666666666, -1, -1]\n",
      "1466535900.0 [27.73908544726303, -1, -1]\n",
      "1466536200.0 [27.129166666666666, -1, -1]\n",
      "1466536500.0 [26.712408272181456, 0.0006666666666666666, -1]\n",
      "1466536800.0 [26.710636878959658, 0.0003333333333333333, -1]\n",
      "1466537100.0 [27.03352253756261, 0.0016666666666666668, -1]\n",
      "1466537400.0 [26.889382303839735, 0.0016666666666666668, -1]\n",
      "1466537700.0 [26.838333333333335, 0.0, -1]\n",
      "1466538000.0 [26.844599999999993, 0.0, -1]\n",
      "1466538300.0 [27.00853617872625, 0.0003333333333333333, -1]\n",
      "1466538600.0 [27.046446446446446, 0.001, -1]\n",
      "1466538900.0 [27.0421087754421, 0.001, -1]\n",
      "1466539200.0 [27.00587253920586, 0.001, -1]\n",
      "1466539500.0 [26.97476666666667, 0.0, -1]\n",
      "1466539800.0 [26.984100000000016, 0.0, -1]\n",
      "1466540100.0 [27.022355689022355, 0.001, -1]\n",
      "1466540400.0 [27.230327321309286, 0.002, -1]\n",
      "1466540700.0 [27.202600000000007, 0.0, -1]\n",
      "1466541000.0 [27.2379, 0.0, -1]\n",
      "1466541300.0 [27.23258333333333, 0.0, -1]\n"
     ]
    }
   ],
   "source": [
    "scroll = scan(es, query=myquery, index=ind, scroll='10s')\n",
    "RawData={}\n",
    "count=0\n",
    "for res in scroll:\n",
    "    #print(res)\n",
    "    r = res['fields']\n",
    "    sts = r['timestamp'][0]\n",
    "    ts=time.mktime(datetime.strptime(sts, \"%Y-%m-%dT%H:%M:%S\").timetuple())\n",
    "    if not ts in RawData:\n",
    "        RawData[ts]=[-1,-1,-1]\n",
    "    if res['_type']=='latency':\n",
    "        RawData[ts][0]=r['delay_mean'][0]\n",
    "    elif res['_type']=='packet_loss_rate':\n",
    "        RawData[ts][1]=r['packet_loss'][0]\n",
    "    elif res['_type']=='throughput':\n",
    "        RawData[ts][2]=r['throughput'][0]\n",
    "    count+=1\n",
    "    \n",
    "print (\"results fetched:\", count ) \n",
    "print (\"results summed up:\", len(RawData) ) \n",
    "\n",
    "tss = sorted(RawData.keys())\n",
    "for r in tss:\n",
    "    print(r, RawData[r])\n"
   ]
  },
  {
   "cell_type": "markdown",
   "metadata": {},
   "source": [
    "cleaning the data - create array where all 3 components are there."
   ]
  },
  {
   "cell_type": "code",
   "execution_count": 5,
   "metadata": {},
   "outputs": [
    {
     "name": "stdout",
     "output_type": "stream",
     "text": [
      "[]\n",
      "[]\n"
     ]
    }
   ],
   "source": [
    "X=[]\n",
    "y=[]\n",
    "for (k,v) in RawData.items():\n",
    "    if v[2]==-1: continue\n",
    "    delay_measurements=0\n",
    "    pl_measurements=0\n",
    "    delay_sum=0\n",
    "    pl_sum=0\n",
    "    for (k1,v1) in RawData.items():\n",
    "        if abs(k1-k)<600:\n",
    "            if v1[0]>-1:\n",
    "                delay_measurements+=1\n",
    "                delay_sum+=v1[0]\n",
    "            if v1[1]>-1:\n",
    "                pl_measurements+=1\n",
    "                pl_sum+=v1[1]\n",
    "            #print(k, k1)\n",
    "    if pl_measurements>0 and delay_measurements>0:\n",
    "#         print (k, v, delay_sum/delay_measurements, pl_sum/pl_measurements)\n",
    "        X.append([ delay_sum/delay_measurements, pl_sum/pl_measurements ])\n",
    "        if v[2]>2*1024*1024*8:\n",
    "            y.append('good')\n",
    "        else:\n",
    "            y.append('bad')\n",
    "print(X)\n",
    "print(y)"
   ]
  },
  {
   "cell_type": "markdown",
   "metadata": {},
   "source": [
    "takes as input two arrays: an array X of size [n_samples, n_features] holding the training samples, and an array y of class labels (strings or integers), size [n_samples]\n",
    "\n",
    "Learning step:"
   ]
  },
  {
   "cell_type": "code",
   "execution_count": 6,
   "metadata": {},
   "outputs": [
    {
     "name": "stderr",
     "output_type": "stream",
     "text": [
      "/home/ivukotic/anaconda3/lib/python3.5/site-packages/sklearn/utils/validation.py:386: DeprecationWarning: Passing 1d arrays as data is deprecated in 0.17 and willraise ValueError in 0.19. Reshape your data either using X.reshape(-1, 1) if your data has a single feature or X.reshape(1, -1) if it contains a single sample.\n",
      "  DeprecationWarning)\n"
     ]
    },
    {
     "ename": "ValueError",
     "evalue": "Found array with 0 feature(s) (shape=(1, 0)) while a minimum of 1 is required.",
     "output_type": "error",
     "traceback": [
      "\u001b[1;31m---------------------------------------------------------------------------\u001b[0m",
      "\u001b[1;31mValueError\u001b[0m                                Traceback (most recent call last)",
      "\u001b[1;32m<ipython-input-6-c0117a4b08c0>\u001b[0m in \u001b[0;36m<module>\u001b[1;34m()\u001b[0m\n\u001b[0;32m      3\u001b[0m \u001b[1;31m#y = ['good', 'bad']\u001b[0m\u001b[1;33m\u001b[0m\u001b[1;33m\u001b[0m\u001b[0m\n\u001b[0;32m      4\u001b[0m \u001b[0mclf\u001b[0m \u001b[1;33m=\u001b[0m \u001b[0msvm\u001b[0m\u001b[1;33m.\u001b[0m\u001b[0mSVC\u001b[0m\u001b[1;33m(\u001b[0m\u001b[1;33m)\u001b[0m\u001b[1;33m\u001b[0m\u001b[0m\n\u001b[1;32m----> 5\u001b[1;33m \u001b[0mf\u001b[0m \u001b[1;33m=\u001b[0m \u001b[0mclf\u001b[0m\u001b[1;33m.\u001b[0m\u001b[0mfit\u001b[0m\u001b[1;33m(\u001b[0m\u001b[0mX\u001b[0m\u001b[1;33m,\u001b[0m \u001b[0my\u001b[0m\u001b[1;33m)\u001b[0m\u001b[1;33m\u001b[0m\u001b[0m\n\u001b[0m\u001b[0;32m      6\u001b[0m \u001b[0mprint\u001b[0m\u001b[1;33m(\u001b[0m\u001b[0mf\u001b[0m\u001b[1;33m)\u001b[0m\u001b[1;33m\u001b[0m\u001b[0m\n",
      "\u001b[1;32m/home/ivukotic/anaconda3/lib/python3.5/site-packages/sklearn/svm/base.py\u001b[0m in \u001b[0;36mfit\u001b[1;34m(self, X, y, sample_weight)\u001b[0m\n\u001b[0;32m    148\u001b[0m         \u001b[0mself\u001b[0m\u001b[1;33m.\u001b[0m\u001b[0m_sparse\u001b[0m \u001b[1;33m=\u001b[0m \u001b[0msparse\u001b[0m \u001b[1;32mand\u001b[0m \u001b[1;32mnot\u001b[0m \u001b[0mcallable\u001b[0m\u001b[1;33m(\u001b[0m\u001b[0mself\u001b[0m\u001b[1;33m.\u001b[0m\u001b[0mkernel\u001b[0m\u001b[1;33m)\u001b[0m\u001b[1;33m\u001b[0m\u001b[0m\n\u001b[0;32m    149\u001b[0m \u001b[1;33m\u001b[0m\u001b[0m\n\u001b[1;32m--> 150\u001b[1;33m         \u001b[0mX\u001b[0m \u001b[1;33m=\u001b[0m \u001b[0mcheck_array\u001b[0m\u001b[1;33m(\u001b[0m\u001b[0mX\u001b[0m\u001b[1;33m,\u001b[0m \u001b[0maccept_sparse\u001b[0m\u001b[1;33m=\u001b[0m\u001b[1;34m'csr'\u001b[0m\u001b[1;33m,\u001b[0m \u001b[0mdtype\u001b[0m\u001b[1;33m=\u001b[0m\u001b[0mnp\u001b[0m\u001b[1;33m.\u001b[0m\u001b[0mfloat64\u001b[0m\u001b[1;33m,\u001b[0m \u001b[0morder\u001b[0m\u001b[1;33m=\u001b[0m\u001b[1;34m'C'\u001b[0m\u001b[1;33m)\u001b[0m\u001b[1;33m\u001b[0m\u001b[0m\n\u001b[0m\u001b[0;32m    151\u001b[0m         \u001b[0my\u001b[0m \u001b[1;33m=\u001b[0m \u001b[0mself\u001b[0m\u001b[1;33m.\u001b[0m\u001b[0m_validate_targets\u001b[0m\u001b[1;33m(\u001b[0m\u001b[0my\u001b[0m\u001b[1;33m)\u001b[0m\u001b[1;33m\u001b[0m\u001b[0m\n\u001b[0;32m    152\u001b[0m \u001b[1;33m\u001b[0m\u001b[0m\n",
      "\u001b[1;32m/home/ivukotic/anaconda3/lib/python3.5/site-packages/sklearn/utils/validation.py\u001b[0m in \u001b[0;36mcheck_array\u001b[1;34m(array, accept_sparse, dtype, order, copy, force_all_finite, ensure_2d, allow_nd, ensure_min_samples, ensure_min_features, warn_on_dtype, estimator)\u001b[0m\n\u001b[0;32m    413\u001b[0m                              \u001b[1;34m\" a minimum of %d is required%s.\"\u001b[0m\u001b[1;33m\u001b[0m\u001b[0m\n\u001b[0;32m    414\u001b[0m                              % (n_features, shape_repr, ensure_min_features,\n\u001b[1;32m--> 415\u001b[1;33m                                 context))\n\u001b[0m\u001b[0;32m    416\u001b[0m \u001b[1;33m\u001b[0m\u001b[0m\n\u001b[0;32m    417\u001b[0m     \u001b[1;32mif\u001b[0m \u001b[0mwarn_on_dtype\u001b[0m \u001b[1;32mand\u001b[0m \u001b[0mdtype_orig\u001b[0m \u001b[1;32mis\u001b[0m \u001b[1;32mnot\u001b[0m \u001b[1;32mNone\u001b[0m \u001b[1;32mand\u001b[0m \u001b[0marray\u001b[0m\u001b[1;33m.\u001b[0m\u001b[0mdtype\u001b[0m \u001b[1;33m!=\u001b[0m \u001b[0mdtype_orig\u001b[0m\u001b[1;33m:\u001b[0m\u001b[1;33m\u001b[0m\u001b[0m\n",
      "\u001b[1;31mValueError\u001b[0m: Found array with 0 feature(s) (shape=(1, 0)) while a minimum of 1 is required."
     ]
    }
   ],
   "source": [
    "from sklearn import svm\n",
    "# X = [[0, 0], [1, 1], [1, 1.2], [0.5, 0.8]]\n",
    "#y = ['good', 'bad']\n",
    "clf = svm.SVC()\n",
    "f = clf.fit(X, y)\n",
    "print(f)\n"
   ]
  },
  {
   "cell_type": "markdown",
   "metadata": {},
   "source": [
    "Using what was learned"
   ]
  },
  {
   "cell_type": "code",
   "execution_count": null,
   "metadata": {},
   "outputs": [],
   "source": [
    "clf.predict([[2., 2.]])"
   ]
  },
  {
   "cell_type": "code",
   "execution_count": null,
   "metadata": {
    "collapsed": true
   },
   "outputs": [],
   "source": []
  }
 ],
 "metadata": {
  "kernelspec": {
   "display_name": "Python 3",
   "language": "python",
   "name": "python3"
  },
  "language_info": {
   "codemirror_mode": {
    "name": "ipython",
    "version": 3
   },
   "file_extension": ".py",
   "mimetype": "text/x-python",
   "name": "python",
   "nbconvert_exporter": "python",
   "pygments_lexer": "ipython3",
   "version": "3.4.5"
  }
 },
 "nbformat": 4,
 "nbformat_minor": 1
}
