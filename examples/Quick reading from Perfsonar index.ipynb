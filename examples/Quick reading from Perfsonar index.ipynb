{
 "cells": [
  {
   "cell_type": "code",
   "execution_count": 1,
   "metadata": {},
   "outputs": [
    {
     "name": "stdout",
     "output_type": "stream",
     "text": [
      "{'_source': {'delay_mean': 41.05011666666667, 'destSite': 'UKI-SCOTGRID-ECDF', 'srcSite': 'RU-Protvino-IHEP', 'timestamp': 1505530527000}}\n",
      "0 entries processes in 0 seconds\n"
     ]
    }
   ],
   "source": [
    "from elasticsearch import Elasticsearch\n",
    "from elasticsearch.helpers import scan\n",
    "import time\n",
    "\n",
    "interval = 86400 #seconds                                                                                                                \n",
    "now = 1505573241#int(time.time() - 60*60) * 1000  #epoch seconds                                                                        \n",
    "past = now - interval\n",
    "\n",
    "chicago_index = \"network_weather-2017*\"\n",
    "\n",
    "es_chicago = Elasticsearch(['atlas-kibana.mwt2.org:9200'],timeout=60) # Chicago instance                                                \n",
    "\n",
    "query_chicago = {\n",
    "    \"_source\": [   \"timestamp\", \"srcSite\", \"destSite\", \"delay_mean\"  ],\n",
    "    \"query\": {\n",
    "        \"bool\": {\n",
    "        \"must\": [\n",
    "            { \"range\": {  \"timestamp\": { \"gte\": past,  \"lte\": now,  \"format\": \"epoch_second\"  }  } },\n",
    "            { \"term\" : {\"_type\" : \"latency\"}},\n",
    "            { \"term\" : {\"srcVO\" : \"ATLAS\"}},\n",
    "            { \"term\" : {\"destVO\" : \"ATLAS\"}}\n",
    "        ]  }  }\n",
    "}\n",
    "\n",
    "scroll_chicago = scan(client=es_chicago, query=query_chicago, index=chicago_index, scroll='5m', timeout='5m', size=10000, filter_path=['_scroll_id', '_shards', 'hits.hits._source'])\n",
    "\n",
    "counter = 0\n",
    "start_time = time.time()\n",
    "for entry in scroll_chicago:\n",
    "    print (entry)\n",
    "    break\n",
    "    if not counter%100000:  print(\"Processing event number \", counter)\n",
    "    counter += 1\n",
    "\n",
    "print(\"%s entries processes in %i seconds\" %(counter, time.time() - start_time))"
   ]
  },
  {
   "cell_type": "code",
   "execution_count": null,
   "metadata": {
    "collapsed": true
   },
   "outputs": [],
   "source": []
  }
 ],
 "metadata": {
  "kernelspec": {
   "display_name": "Python3.4 GPU ML",
   "language": "python",
   "name": "sys_kernel_py3.4_gpu"
  },
  "language_info": {
   "codemirror_mode": {
    "name": "ipython",
    "version": 3
   },
   "file_extension": ".py",
   "mimetype": "text/x-python",
   "name": "python",
   "nbconvert_exporter": "python",
   "pygments_lexer": "ipython3",
   "version": "3.4.5"
  }
 },
 "nbformat": 4,
 "nbformat_minor": 2
}
