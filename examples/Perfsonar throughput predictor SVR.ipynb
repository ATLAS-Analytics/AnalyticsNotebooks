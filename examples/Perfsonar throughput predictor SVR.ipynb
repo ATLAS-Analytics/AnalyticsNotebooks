{
 "cells": [
  {
   "cell_type": "markdown",
   "metadata": {},
   "source": [
    "Loads Network performance data from ES. Learns to predict bandwidth from packet loss and one way delay."
   ]
  },
  {
   "cell_type": "code",
   "execution_count": 1,
   "metadata": {
    "collapsed": false
   },
   "outputs": [],
   "source": [
    "%matplotlib inline\n",
    "import numpy as np\n",
    "import matplotlib.pyplot as plt\n",
    "from datetime import datetime\n",
    "import re,time\n",
    "from elasticsearch import Elasticsearch, exceptions as es_exceptions\n",
    "from elasticsearch.helpers import scan\n",
    "es = Elasticsearch(hosts=[{'host':'atlas-kibana.mwt2.org', 'port':9200}],timeout=60)\n",
    "\n"
   ]
  },
  {
   "cell_type": "code",
   "execution_count": 2,
   "metadata": {
    "collapsed": false
   },
   "outputs": [],
   "source": [
    "ind='network_weather_2-2016.6.22'\n",
    "\n",
    "currentTime=int(round(datetime.utcnow().timestamp()* 1000))\n",
    "lastHours=24\n",
    "startTime=currentTime - lastHours*3600000 \n",
    "endTime=currentTime\n",
    "\n",
    "source='MWT2'\n",
    "destination='AGLT2'"
   ]
  },
  {
   "cell_type": "code",
   "execution_count": 3,
   "metadata": {
    "collapsed": false
   },
   "outputs": [],
   "source": [
    "myquery={\n",
    "#    \"size\":50,\n",
    "    \"fields\": [\"timestamp\", \"delay_mean\",\"throughput\",\"packet_loss\"],\n",
    "    \"query\":{\n",
    "        \"filtered\":{\n",
    "            \"query\":{\n",
    "                \"bool\" : {\n",
    "                  \"must\" :     [ \n",
    "                        {\"term\": {\"srcProduction\": {\"value\": True } } },\n",
    "                        {\"term\": {\"destProduction\": {\"value\": True } } },\n",
    "                        {\"term\": {\"srcSite\": { \"value\": source } } },\n",
    "                        {\"term\": {\"destSite\": { \"value\": destination } } }\n",
    "                    ]\n",
    "                }\n",
    "#               \"query_string\":{\"query\":queryString,\"analyze_wildcard\":True,\"lowercase_expanded_terms\":False}\n",
    "            }\n",
    "#            ,\"filter\":{ \"range\":{\"timestamp\":{\"gte\": startTime,\"lte\": endTime,\"format\": \"epoch_millis\"}}   }\n",
    "        }\n",
    "    }\n",
    "#    ,\"sort\": { \"timestamp\": { \"order\": \"asc\" }}\n",
    "}"
   ]
  },
  {
   "cell_type": "code",
   "execution_count": 4,
   "metadata": {
    "collapsed": false
   },
   "outputs": [
    {
     "name": "stdout",
     "output_type": "stream",
     "text": [
      "results fetched: 2582\n",
      "results summed up: 255\n",
      "1466561100.0 [8.078533333333334, 0.0, -1]\n",
      "1466561400.0 [7.062533333333333, 0.0, -1]\n",
      "1466561700.0 [7.291399999999999, 0.0, -1]\n",
      "1466562000.0 [6.211533333333333, 0.0, -1]\n",
      "1466562300.0 [6.234933333333333, 0.0, -1]\n",
      "1466562600.0 [12.828083333333321, 0.0, -1]\n",
      "1466562900.0 [5.415233333333334, 0.0, -1]\n",
      "1466563200.0 [5.751866666666667, 0.0, -1]\n",
      "1466563500.0 [5.737699999999999, 0.0, -1]\n",
      "1466563800.0 [6.401833333333333, 0.0, -1]\n",
      "1466564100.0 [4.886551819949985, 0.0, -1]\n",
      "1466564400.0 [7.104733333333335, 0.0, -1]\n",
      "1466564562.0 [-1, -1, 824058322.0]\n",
      "1466564700.0 [6.715366666666666, 0.0, -1]\n",
      "1466565000.0 [8.5544, 0.0, -1]\n",
      "1466565031.0 [-1, -1, 2225659000.0]\n",
      "1466565300.0 [5.907769256418807, 0.0, -1]\n",
      "1466565600.0 [5.884866666666667, 0.0, -1]\n",
      "1466565900.0 [13.335333333333331, 0.0, -1]\n",
      "1466566200.0 [4.446444444444445, 0.0, -1]\n",
      "1466566500.0 [4.976499999999998, 0.0, -1]\n",
      "1466566800.0 [5.773899999999999, 0.0, -1]\n",
      "1466567100.0 [6.6736999999999975, 0.0, -1]\n",
      "1466567400.0 [5.242, 0.0006666666666666666, -1]\n",
      "1466567700.0 [7.876750000000003, 0.0, -1]\n",
      "1466568000.0 [4.025866666666667, 0.0, -1]\n",
      "1466568300.0 [5.534299999999999, 0.0, -1]\n",
      "1466568600.0 [5.505899999999999, 0.0, -1]\n",
      "1466568900.0 [7.598200000000002, 0.0, -1]\n",
      "1466569200.0 [8.508566666666663, 0.0, -1]\n",
      "1466569500.0 [4.686233333333334, 0.0, -1]\n",
      "1466569800.0 [5.246533333333334, 0.0, -1]\n",
      "1466570100.0 [6.2339, 0.0, -1]\n",
      "1466570400.0 [5.112900000000001, 0.0, -1]\n",
      "1466570700.0 [10.615250000000003, 0.0, -1]\n",
      "1466570819.0 [-1, -1, 1431342000.0]\n",
      "1466571000.0 [4.7837000000000005, 0.0, -1]\n",
      "1466571300.0 [4.803166666666666, 0.0, -1]\n",
      "1466571565.0 [-1, -1, 2384338000.0]\n",
      "1466571600.0 [4.836166666666666, 0.0, -1]\n",
      "1466571900.0 [5.177692564188064, 0.0, -1]\n",
      "1466572200.0 [8.526633333333335, 0.0, -1]\n",
      "1466572500.0 [5.4125000000000005, 0.0003333333333333333, -1]\n",
      "1466572800.0 [7.410799999999998, 0.0, -1]\n",
      "1466573100.0 [6.848800000000001, 0.0, -1]\n",
      "1466573400.0 [6.738133333333333, 0.0, -1]\n",
      "1466573508.0 [-1, -1, 1190963000.0]\n",
      "1466573700.0 [4.111166666666667, 0.0, -1]\n",
      "1466574000.0 [4.677933333333335, 0.0, -1]\n",
      "1466574300.0 [4.6890833333333335, 0.0, -1]\n",
      "1466574600.0 [3.8487666666666653, 0.0, -1]\n",
      "1466574900.0 [5.2299999999999995, 0.0, -1]\n",
      "1466575200.0 [5.220066666666668, 0.0, -1]\n",
      "1466575291.0 [-1, -1, 1763767000.0]\n",
      "1466575500.0 [7.64623333333333, 0.0, -1]\n",
      "1466575800.0 [4.458233333333333, 0.0, -1]\n",
      "1466576100.0 [5.1678, 0.0, -1]\n",
      "1466576400.0 [6.022366666666665, 0.0, -1]\n",
      "1466576700.0 [6.7131, 0.0, -1]\n",
      "1466577000.0 [4.683966666666666, 0.0, -1]\n",
      "1466577300.0 [4.765833333333333, 0.0, -1]\n",
      "1466577600.0 [4.681500000000001, 0.0, -1]\n",
      "1466577900.0 [4.1216333333333335, 0.0, -1]\n",
      "1466578200.0 [4.6845333333333325, 0.0, -1]\n",
      "1466578500.0 [4.676466666666666, 0.0, -1]\n",
      "1466578651.0 [-1, -1, 2547152000.0]\n",
      "1466578800.0 [6.776133333333334, 0.0, -1]\n",
      "1466579100.0 [4.644833333333334, 0.0, -1]\n",
      "1466579400.0 [4.726055555555555, 0.0, -1]\n",
      "1466579694.0 [-1, -1, 281862157.0]\n",
      "1466579700.0 [8.506066666666662, 0.0, -1]\n",
      "1466580000.0 [5.890133333333333, 0.0, -1]\n",
      "1466580300.0 [4.836966666666666, 0.0, -1]\n",
      "1466580528.0 [-1, -1, 3046193000.0]\n",
      "1466580600.0 [5.085895298432811, 0.0003333333333333333, -1]\n",
      "1466580789.0 [-1, -1, 883715445.0]\n",
      "1466580900.0 [5.670800000000001, 0.0005555555555555556, -1]\n",
      "1466581200.0 [4.790000000000001, 0.0, -1]\n",
      "1466581308.0 [-1, -1, 2841932000.0]\n",
      "1466581500.0 [7.0328109369789935, 0.0003333333333333333, -1]\n",
      "1466581669.0 [-1, -1, 597943128.0]\n",
      "1466581800.0 [4.949133333333333, 0.0, -1]\n",
      "1466582100.0 [4.973333333333334, 0.0, -1]\n",
      "1466582400.0 [5.012166666666666, 0.0, -1]\n",
      "1466582700.0 [6.706799999999998, 0.0003333333333333333, -1]\n",
      "1466583000.0 [4.558833333333333, 0.0006666666666666666, -1]\n",
      "1466583300.0 [6.951666666666665, 0.0003333333333333333, -1]\n",
      "1466583600.0 [9.569791666666667, 0.0, -1]\n",
      "1466583900.0 [8.1004, 0.0, -1]\n",
      "1466584200.0 [6.975766666666668, 0.0, -1]\n",
      "1466584500.0 [6.212888888888888, 0.0, -1]\n",
      "1466584800.0 [6.729900000000001, 0.0, -1]\n",
      "1466585100.0 [7.878566666666666, 0.0, -1]\n",
      "1466585400.0 [6.700666666666666, 0.0, -1]\n",
      "1466585700.0 [6.4928333333333335, 0.0, -1]\n",
      "1466586000.0 [7.311999999999998, 0.0, -1]\n",
      "1466586300.0 [18.336000000000002, 0.0, -1]\n",
      "1466586600.0 [6.6610999999999985, 0.0, -1]\n",
      "1466586755.0 [-1, -1, 2702714000.0]\n",
      "1466586900.0 [6.480033333333334, 0.0, -1]\n",
      "1466587200.0 [10.251800000000001, 0.0, -1]\n",
      "1466587500.0 [9.319566666666665, 0.0, -1]\n",
      "1466587800.0 [4.925750500333556, 0.0, -1]\n",
      "1466588100.0 [4.585661887295766, 0.0003333333333333333, -1]\n",
      "1466588400.0 [4.6023000000000005, 0.0, -1]\n",
      "1466588700.0 [6.56013333333333, 0.0, -1]\n",
      "1466589000.0 [6.099333333333333, 0.0, -1]\n",
      "1466589300.0 [6.7723, 0.0, -1]\n",
      "1466589600.0 [10.678208333333336, 0.0004166666666666667, -1]\n",
      "1466589900.0 [4.484208333333333, 0.0, -1]\n",
      "1466590200.0 [6.762555555555556, 0.0, -1]\n",
      "1466590500.0 [6.7974999999999985, 0.0, -1]\n",
      "1466590800.0 [7.053099999999999, 0.0, -1]\n",
      "1466591100.0 [7.219966666666666, 0.0005555555555555556, -1]\n",
      "1466591400.0 [5.3000555555555575, 0.0, -1]\n",
      "1466591700.0 [5.4726333333333335, 0.0, -1]\n",
      "1466591950.0 [-1, -1, 2201498000.0]\n",
      "1466592000.0 [3.736933333333333, 0.0, -1]\n",
      "1466592300.0 [7.053133333333332, 0.0, -1]\n",
      "1466592600.0 [5.932266666666668, 0.0, -1]\n",
      "1466592900.0 [4.201666666666667, 0.0, -1]\n",
      "1466593200.0 [4.854647769904125, 0.0, -1]\n",
      "1466593500.0 [4.835208333333333, 0.0, -1]\n",
      "1466593724.0 [-1, -1, 1636364000.0]\n",
      "1466593800.0 [7.611533333333333, 0.0, -1]\n",
      "1466594100.0 [8.753033333333335, 0.0016666666666666668, -1]\n",
      "1466594254.0 [-1, -1, 1055924000.0]\n",
      "1466594400.0 [6.892853170189098, 0.0, -1]\n",
      "1466594700.0 [8.518478985990662, 0.0006666666666666666, -1]\n",
      "1466595000.0 [11.099166666666667, 0.0, -1]\n",
      "1466595135.0 [-1, -1, 561390202.0]\n",
      "1466595300.0 [6.879377431906615, 0.0, -1]\n",
      "1466595600.0 [5.193233333333332, 0.0, -1]\n",
      "1466595900.0 [4.8701333333333325, 0.0, -1]\n",
      "1466595949.0 [-1, -1, 2729510000.0]\n",
      "1466596200.0 [5.388733333333334, 0.0, -1]\n",
      "1466596453.0 [-1, -1, 2143892000.0]\n",
      "1466596500.0 [4.71027009003001, 0.0003333333333333333, -1]\n",
      "1466596800.0 [6.649983327775925, 0.0, -1]\n",
      "1466597100.0 [8.098533333333334, 0.0, -1]\n",
      "1466597400.0 [7.956366666666662, 0.0, -1]\n",
      "1466597700.0 [7.692444444444443, 0.0, -1]\n",
      "1466598000.0 [7.281138888888892, 0.0, -1]\n",
      "1466598300.0 [6.033000000000001, 0.0, -1]\n",
      "1466598600.0 [6.495966666666666, 0.0, -1]\n",
      "1466598900.0 [7.396466666666667, 0.0, -1]\n",
      "1466599113.0 [-1, -1, 1569071000.0]\n",
      "1466599200.0 [4.8713, 0.0, -1]\n",
      "1466599500.0 [6.576466666666668, 0.0, -1]\n",
      "1466599800.0 [6.701400466822274, 0.0, -1]\n",
      "1466599848.0 [-1, -1, 1023320000.0]\n",
      "1466600100.0 [13.349833333333338, 0.0, -1]\n",
      "1466600123.0 [-1, -1, 431964960.0]\n",
      "1466600400.0 [5.731466666666666, 0.0, -1]\n",
      "1466600700.0 [6.278733333333333, 0.0006666666666666666, -1]\n",
      "1466600990.0 [-1, -1, 2603259000.0]\n",
      "1466601000.0 [4.57098065376918, 0.0006666666666666666, -1]\n",
      "1466601300.0 [6.911366666666666, 0.0, -1]\n",
      "1466601600.0 [4.554, 0.0, -1]\n",
      "1466601900.0 [8.049200000000003, 0.0003333333333333333, -1]\n",
      "1466602200.0 [9.953916666666666, 0.0, -1]\n",
      "1466602300.0 [-1, -1, 2401106000.0]\n",
      "1466602500.0 [7.1982500000000025, 0.0, -1]\n",
      "1466602800.0 [5.383233333333331, 0.0, -1]\n",
      "1466603100.0 [4.456318772924309, 0.0003333333333333333, -1]\n",
      "1466603400.0 [4.442033333333334, 0.0, -1]\n",
      "1466603662.0 [-1, -1, 1787631000.0]\n",
      "1466603700.0 [8.273333333333333, 0.0, -1]\n",
      "1466604000.0 [6.139099999999998, 0.0, -1]\n",
      "1466604062.0 [-1, -1, 1175900000.0]\n",
      "1466604300.0 [6.406966666666666, 0.0, -1]\n",
      "1466604600.0 [5.906433333333333, 0.0, -1]\n",
      "1466604900.0 [6.580533333333334, 0.0, -1]\n",
      "1466605200.0 [4.611233333333333, 0.0, -1]\n",
      "1466605500.0 [16.07933333333333, 0.0, -1]\n",
      "1466605800.0 [3.5269166666666667, 0.0, -1]\n",
      "1466606100.0 [10.14203333333333, 0.0, -1]\n",
      "1466606400.0 [4.9133, 0.0, -1]\n",
      "1466606700.0 [4.6167, 0.0, -1]\n",
      "1466607000.0 [6.367041666666669, 0.0, -1]\n",
      "1466607300.0 [8.379133333333332, 0.0, -1]\n",
      "1466607600.0 [4.033333333333333, 0.0, -1]\n",
      "1466607900.0 [6.715971990663554, 0.00125, -1]\n",
      "1466608200.0 [4.564733333333334, 0.0, -1]\n",
      "1466608497.0 [-1, -1, 1101546000.0]\n",
      "1466608500.0 [4.764951553625125, 0.002777777777777778, -1]\n",
      "1466608800.0 [6.546266666666668, 0.0, -1]\n",
      "1466609100.0 [5.76036111111111, 0.0, -1]\n",
      "1466609400.0 [6.777033333333332, 0.0, -1]\n",
      "1466609700.0 [2.921266666666667, 0.0, -1]\n",
      "1466609844.0 [-1, -1, 1153569000.0]\n",
      "1466610000.0 [5.598700000000002, 0.0003333333333333333, -1]\n",
      "1466610300.0 [9.920625, 0.0, -1]\n",
      "1466610600.0 [8.980166666666666, 0.0003333333333333333, -1]\n",
      "1466610900.0 [4.4895, 0.0, -1]\n",
      "1466611091.0 [-1, -1, 1305465000.0]\n",
      "1466611200.0 [8.030374999999998, 0.0, -1]\n",
      "1466611500.0 [5.9822, 0.0, -1]\n",
      "1466611800.0 [4.634533333333333, 0.0, -1]\n",
      "1466612100.0 [5.961433333333333, 0.0, -1]\n",
      "1466612400.0 [4.306916666666665, 0.0016666666666666668, -1]\n",
      "1466612700.0 [6.582033333333336, 0.0, -1]\n",
      "1466613000.0 [4.615233333333333, 0.0, -1]\n",
      "1466613300.0 [4.611433333333333, 0.0, -1]\n",
      "1466613440.0 [-1, -1, 1049941000.0]\n",
      "1466613600.0 [4.584643693542989, 0.0036666666666666666, -1]\n",
      "1466613900.0 [5.844296197464977, 0.0006666666666666666, -1]\n",
      "1466614200.0 [6.577118078719146, 0.0, -1]\n",
      "1466614499.0 [-1, -1, 1151729000.0]\n",
      "1466614500.0 [4.924472222222219, 0.0, -1]\n",
      "1466614800.0 [4.653151050350116, 0.0, -1]\n",
      "1466615062.0 [-1, -1, 1097746000.0]\n",
      "1466615100.0 [6.494933333333334, 0.0, -1]\n",
      "1466615400.0 [8.083833333333336, 0.0003333333333333333, -1]\n",
      "1466615700.0 [5.7472, 0.0004166666666666667, -1]\n",
      "1466616000.0 [4.693533333333333, 0.0, -1]\n",
      "1466616300.0 [7.346899999999999, 0.0, -1]\n",
      "1466616600.0 [6.202136894824708, 0.0, -1]\n",
      "1466616900.0 [9.296433333333335, 0.0006666666666666666, -1]\n",
      "1466617024.0 [-1, -1, 495982120.0]\n",
      "1466617200.0 [9.004111111111108, 0.0, -1]\n",
      "1466617500.0 [6.038579526508837, 0.0003333333333333333, -1]\n",
      "1466617800.0 [4.977084723148765, 0.0, -1]\n",
      "1466618100.0 [6.141268781302171, 0.0003333333333333333, -1]\n",
      "1466618400.0 [8.776833333333332, 0.0, -1]\n",
      "1466618677.0 [-1, -1, 782362612.0]\n",
      "1466618700.0 [19.10066666666667, 0.0, -1]\n",
      "1466619000.0 [6.269733333333335, 0.0013333333333333333, -1]\n",
      "1466619300.0 [5.024854045037531, 0.0008333333333333334, -1]\n",
      "1466619600.0 [5.057924591257925, 0.0, -1]\n",
      "1466619900.0 [5.987666666666666, 0.002, -1]\n",
      "1466620045.0 [-1, -1, 2715287000.0]\n",
      "1466620200.0 [6.111133333333332, 0.0013333333333333333, -1]\n",
      "1466620500.0 [5.277544210877544, 0.0, -1]\n",
      "1466620800.0 [8.458166666666667, 0.0, -1]\n",
      "1466621100.0 [6.365733333333332, 0.0, -1]\n",
      "1466621303.0 [-1, -1, 746284236.0]\n",
      "1466621400.0 [7.104966666666666, 0.0, -1]\n",
      "1466621700.0 [5.523199999999999, 0.0003333333333333333, -1]\n",
      "1466622000.0 [8.949333333333332, 0.0, -1]\n",
      "1466622300.0 [9.173111111111112, 0.0, -1]\n",
      "1466622600.0 [6.375625208402801, 0.0003333333333333333, -1]\n",
      "1466622900.0 [5.30806935645215, 0.0, -1]\n",
      "1466623200.0 [5.2573, 0.0, -1]\n",
      "1466623467.0 [-1, -1, 695773817.0]\n",
      "1466623500.0 [7.099400000000001, 0.0, -1]\n",
      "1466623800.0 [5.916583333333333, 0.0, -1]\n",
      "1466624100.0 [6.2181333333333315, 0.0, -1]\n",
      "1466624400.0 [6.144696464309535, 0.0003333333333333333, -1]\n",
      "1466624700.0 [10.3021, 0.03, -1]\n",
      "1466625000.0 [6.8569666666666675, 0.0, -1]\n",
      "1466625300.0 [6.483166666666666, 0.0, -1]\n",
      "1466625418.0 [-1, -1, 2105416000.0]\n",
      "1466625600.0 [7.799699999999999, 0.0, -1]\n",
      "1466625900.0 [6.708166666666667, 0.0, -1]\n"
     ]
    }
   ],
   "source": [
    "scroll = scan(es, query=myquery, index=ind, scroll='10s')\n",
    "RawData={}\n",
    "count=0\n",
    "for res in scroll:\n",
    "    #print(res)\n",
    "    r = res['fields']\n",
    "    sts = r['timestamp'][0]\n",
    "    ts=time.mktime(datetime.strptime(sts, \"%Y-%m-%dT%H:%M:%S\").timetuple())\n",
    "    if not ts in RawData:\n",
    "        RawData[ts]=[-1,-1,-1]\n",
    "    if res['_type']=='latency':\n",
    "        RawData[ts][0]=r['delay_mean'][0]\n",
    "    elif res['_type']=='packet_loss_rate':\n",
    "        RawData[ts][1]=r['packet_loss'][0]\n",
    "    elif res['_type']=='throughput':\n",
    "        RawData[ts][2]=r['throughput'][0]\n",
    "    count+=1\n",
    "    \n",
    "print (\"results fetched:\", count ) \n",
    "print (\"results summed up:\", len(RawData) ) \n",
    "\n",
    "tss = sorted(RawData.keys())\n",
    "for r in tss:\n",
    "    print(r, RawData[r])\n"
   ]
  },
  {
   "cell_type": "markdown",
   "metadata": {},
   "source": [
    "cleaning the data - create array where all 3 components are there."
   ]
  },
  {
   "cell_type": "code",
   "execution_count": 5,
   "metadata": {
    "collapsed": false
   },
   "outputs": [
    {
     "name": "stdout",
     "output_type": "stream",
     "text": [
      "[[8.089791783372236, 0.0], [5.873136830108962, 0.0003333333333333333], [5.370948824608202, 0.00022222222222222223], [6.328754166666667, 0.0], [4.9139016394186585, 0.0010833333333333333], [5.4047800211181505, 8.333333333333333e-05], [5.040592522507502, 8.333333333333333e-05], [10.432233333333333, 0.0], [5.608567200533867, 0.0008333333333333333], [5.827696359897744, 8.333333333333333e-05], [6.3044062499999995, 8.333333333333333e-05], [5.436319400911415, 8.333333333333333e-05], [5.64798088607217, 0.0010069444444444444], [6.681458333333333, 0.0], [8.015358450038903, 0.00016666666666666666], [5.594008333333334, 0.0], [6.335050000000001, 0.0], [5.3906888888888895, 0.0], [10.072125528658876, 0.00041666666666666664], [5.195491666666667, 0.0], [5.4997593871891155, 0.00016666666666666666], [5.9417722222222205, 0.0], [6.039097484809751, 8.333333333333333e-05], [4.900181474380349, 0.0], [5.095915491274869, 0.00022222222222222223], [7.922564104474319, 0.00016666666666666666], [7.646150000000001, 8.333333333333333e-05], [7.635315216444497, 0.00025], [5.610686067578082, 0.00022222222222222223], [6.863016666666666, 8.333333333333333e-05], [5.895338172446371, 0.0], [6.962, 0.0], [6.870560416666666, 8.333333333333333e-05], [6.765600647438035, 0.0], [5.638633333333333, 0.0], [6.513605692476032, 0.0004166666666666667], [7.943974705711607, 0.0005833333333333334], [6.815262954987496, 0.0]]\n",
      "[0.11913012713193893, 0.3030592342838645, 0.35462353844195604, 0.16663013957440853, 0.12222921941429377, 0.24958187714219093, 0.31775678507983685, 0.3146373201161623, 0.31610100995749235, 0.2081076381728053, 0.13429310638457537, 0.06960974168032408, 0.12823683209717274, 0.13689277693629265, 0.050287339836359024, 0.13864634092897177, 0.18266390543431044, 0.25628809817135334, 0.09107899526134133, 0.29652751982212067, 0.1340789021924138, 0.03281307371798903, 0.12779445387423038, 0.2775734756141901, 0.10287801793310791, 0.06535442103631794, 0.27952552773058414, 0.0577399181202054, 0.3308444283902645, 0.08687891950830817, 0.08099873282480985, 0.2451026812195778, 0.15197612810879946, 0.2591008087620139, 0.20532950293272734, 0.19049784168601036, 0.12292573228478432, 0.09593301475979388]\n"
     ]
    }
   ],
   "source": [
    "X=[]\n",
    "y=[]\n",
    "for (k,v) in RawData.items():\n",
    "    if v[2]==-1: continue\n",
    "    delay_measurements=0\n",
    "    pl_measurements=0\n",
    "    delay_sum=0\n",
    "    pl_sum=0\n",
    "    for (k1,v1) in RawData.items():\n",
    "        if abs(k1-k)<600:\n",
    "            if v1[0]>-1:\n",
    "                delay_measurements+=1\n",
    "                delay_sum+=v1[0]\n",
    "            if v1[1]>-1:\n",
    "                pl_measurements+=1\n",
    "                pl_sum+=v1[1]\n",
    "            #print(k, k1)\n",
    "    if pl_measurements>0 and delay_measurements>0:\n",
    "#         print (k, v, delay_sum/delay_measurements, pl_sum/pl_measurements)\n",
    "        X.append([ delay_sum/delay_measurements, pl_sum/pl_measurements ])\n",
    "        y.append(v[2]/1024/1024/1024/8)\n",
    "print(X)\n",
    "print(y)"
   ]
  },
  {
   "cell_type": "markdown",
   "metadata": {},
   "source": [
    "takes as input two arrays: an array X of size [n_samples, n_features] holding the training samples, and an array y of class labels (strings or integers), size [n_samples]\n",
    "\n",
    "Learning step:"
   ]
  },
  {
   "cell_type": "code",
   "execution_count": 6,
   "metadata": {
    "collapsed": false
   },
   "outputs": [
    {
     "name": "stdout",
     "output_type": "stream",
     "text": [
      "SVR(C=1.0, cache_size=200, coef0=0.0, degree=3, epsilon=0.1, gamma='auto',\n",
      "  kernel='rbf', max_iter=-1, shrinking=True, tol=0.001, verbose=False)\n"
     ]
    }
   ],
   "source": [
    "from sklearn import svm\n",
    "# X = [[0, 0], [1, 1], [1, 1.2], [0.5, 0.8]]\n",
    "#y = [1.2, 2.2]\n",
    "clf = svm.SVR()\n",
    "f = clf.fit(X, y)\n",
    "print(f)\n"
   ]
  },
  {
   "cell_type": "markdown",
   "metadata": {},
   "source": [
    "Using what was learned"
   ]
  },
  {
   "cell_type": "code",
   "execution_count": 7,
   "metadata": {
    "collapsed": false
   },
   "outputs": [
    {
     "data": {
      "text/plain": [
       "array([ 0.18168486,  0.18173996])"
      ]
     },
     "execution_count": 7,
     "metadata": {},
     "output_type": "execute_result"
    }
   ],
   "source": [
    "clf.predict([[1., .02],[0.1,1.0]])"
   ]
  },
  {
   "cell_type": "markdown",
   "metadata": {
    "collapsed": true
   },
   "source": [
    "plot values"
   ]
  },
  {
   "cell_type": "code",
   "execution_count": 8,
   "metadata": {
    "collapsed": false
   },
   "outputs": [
    {
     "name": "stdout",
     "output_type": "stream",
     "text": [
      "[[  8.08979178e+00   0.00000000e+00]\n",
      " [  5.87313683e+00   3.33333333e-04]\n",
      " [  5.37094882e+00   2.22222222e-04]\n",
      " [  6.32875417e+00   0.00000000e+00]\n",
      " [  4.91390164e+00   1.08333333e-03]\n",
      " [  5.40478002e+00   8.33333333e-05]\n",
      " [  5.04059252e+00   8.33333333e-05]\n",
      " [  1.04322333e+01   0.00000000e+00]\n",
      " [  5.60856720e+00   8.33333333e-04]\n",
      " [  5.82769636e+00   8.33333333e-05]\n",
      " [  6.30440625e+00   8.33333333e-05]\n",
      " [  5.43631940e+00   8.33333333e-05]\n",
      " [  5.64798089e+00   1.00694444e-03]\n",
      " [  6.68145833e+00   0.00000000e+00]\n",
      " [  8.01535845e+00   1.66666667e-04]\n",
      " [  5.59400833e+00   0.00000000e+00]\n",
      " [  6.33505000e+00   0.00000000e+00]\n",
      " [  5.39068889e+00   0.00000000e+00]\n",
      " [  1.00721255e+01   4.16666667e-04]\n",
      " [  5.19549167e+00   0.00000000e+00]\n",
      " [  5.49975939e+00   1.66666667e-04]\n",
      " [  5.94177222e+00   0.00000000e+00]\n",
      " [  6.03909748e+00   8.33333333e-05]\n",
      " [  4.90018147e+00   0.00000000e+00]\n",
      " [  5.09591549e+00   2.22222222e-04]\n",
      " [  7.92256410e+00   1.66666667e-04]\n",
      " [  7.64615000e+00   8.33333333e-05]\n",
      " [  7.63531522e+00   2.50000000e-04]\n",
      " [  5.61068607e+00   2.22222222e-04]\n",
      " [  6.86301667e+00   8.33333333e-05]\n",
      " [  5.89533817e+00   0.00000000e+00]\n",
      " [  6.96200000e+00   0.00000000e+00]\n",
      " [  6.87056042e+00   8.33333333e-05]\n",
      " [  6.76560065e+00   0.00000000e+00]\n",
      " [  5.63863333e+00   0.00000000e+00]\n",
      " [  6.51360569e+00   4.16666667e-04]\n",
      " [  7.94397471e+00   5.83333333e-04]\n",
      " [  6.81526295e+00   0.00000000e+00]]\n"
     ]
    }
   ],
   "source": [
    "na=np.array(X)\n",
    "print(na)"
   ]
  },
  {
   "cell_type": "code",
   "execution_count": 9,
   "metadata": {
    "collapsed": false
   },
   "outputs": [],
   "source": [
    "owd=na[:,0]\n",
    "pl=na[:,1]"
   ]
  },
  {
   "cell_type": "code",
   "execution_count": 10,
   "metadata": {
    "collapsed": false
   },
   "outputs": [
    {
     "data": {
      "image/png": "[encoded data removed]",
      "text/plain": [
       "<matplotlib.figure.Figure at 0x7f3124cc52b0>"
      ]
     },
     "metadata": {},
     "output_type": "display_data"
    }
   ],
   "source": [
    "area = np.pi * 6 **2 # 0 to 15 point radiuses\n",
    "\n",
    "plt.scatter(owd, pl, s=area, c=y, alpha=0.5)\n",
    "plt.show()"
   ]
  }
 ],
 "metadata": {
  "kernelspec": {
   "display_name": "Python 3",
   "language": "python",
   "name": "python3"
  },
  "language_info": {
   "codemirror_mode": {
    "name": "ipython",
    "version": 3
   },
   "file_extension": ".py",
   "mimetype": "text/x-python",
   "name": "python",
   "nbconvert_exporter": "python",
   "pygments_lexer": "ipython3",
   "version": "3.5.1"
  }
 },
 "nbformat": 4,
 "nbformat_minor": 0
}
