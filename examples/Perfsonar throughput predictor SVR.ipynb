{
 "cells": [
  {
   "cell_type": "markdown",
   "metadata": {},
   "source": [
    "Loads Network performance data from ES. Learns to predict bandwidth from packet loss and one way delay."
   ]
  },
  {
   "cell_type": "code",
   "execution_count": 1,
   "metadata": {
    "collapsed": false
   },
   "outputs": [],
   "source": [
    "%matplotlib inline\n",
    "import numpy as np\n",
    "import matplotlib.pyplot as plt\n",
    "from datetime import datetime\n",
    "import re,time\n",
    "from elasticsearch import Elasticsearch, exceptions as es_exceptions\n",
    "from elasticsearch.helpers import scan\n",
    "es = Elasticsearch(hosts=[{'host':'atlas-kibana.mwt2.org', 'port':9200}],timeout=60)\n",
    "\n"
   ]
  },
  {
   "cell_type": "code",
   "execution_count": 2,
   "metadata": {
    "collapsed": false
   },
   "outputs": [],
   "source": [
    "ind='network_weather_2-2016.6.21'\n",
    "\n",
    "currentTime=int(round(datetime.utcnow().timestamp()* 1000))\n",
    "lastHours=24\n",
    "startTime=currentTime - lastHours*3600000 \n",
    "endTime=currentTime\n",
    "\n",
    "source='WT2'\n",
    "destination='AGLT2'"
   ]
  },
  {
   "cell_type": "code",
   "execution_count": 3,
   "metadata": {
    "collapsed": false
   },
   "outputs": [],
   "source": [
    "myquery={\n",
    "#    \"size\":50,\n",
    "    \"fields\": [\"timestamp\", \"delay_mean\",\"throughput\",\"packet_loss\"],\n",
    "    \"query\":{\n",
    "        \"filtered\":{\n",
    "            \"query\":{\n",
    "                \"bool\" : {\n",
    "                  \"must\" :     [ \n",
    "                        {\"term\": {\"srcProduction\": {\"value\": True } } },\n",
    "                        {\"term\": {\"destProduction\": {\"value\": True } } },\n",
    "                        {\"term\": {\"srcSite\": { \"value\": source } } },\n",
    "                        {\"term\": {\"destSite\": { \"value\": destination } } }\n",
    "                    ]\n",
    "                }\n",
    "#               \"query_string\":{\"query\":queryString,\"analyze_wildcard\":True,\"lowercase_expanded_terms\":False}\n",
    "            }\n",
    "#            ,\"filter\":{ \"range\":{\"timestamp\":{\"gte\": startTime,\"lte\": endTime,\"format\": \"epoch_millis\"}}   }\n",
    "        }\n",
    "    }\n",
    "#    ,\"sort\": { \"timestamp\": { \"order\": \"asc\" }}\n",
    "}"
   ]
  },
  {
   "cell_type": "code",
   "execution_count": 4,
   "metadata": {
    "collapsed": false
   },
   "outputs": [
    {
     "name": "stdout",
     "output_type": "stream",
     "text": [
      "results fetched: 410\n",
      "results summed up: 79\n",
      "1466533800.0 [27.497766666666664, -1, -1]\n",
      "1466534100.0 [27.295995995995995, -1, -1]\n",
      "1466534400.0 [32.12463333333334, 0.0, -1]\n",
      "1466534700.0 [30.295566666666666, 0.0, -1]\n",
      "1466535000.0 [26.3629, 0.0, -1]\n",
      "1466535300.0 [28.190366666666662, 0.0, -1]\n",
      "1466535600.0 [28.797999999999995, 0.0, -1]\n",
      "1466535900.0 [32.00973333333332, 0.0, -1]\n",
      "1466536200.0 [26.36753333333332, 0.0, -1]\n",
      "1466536500.0 [26.111533333333334, 0.0, -1]\n",
      "1466536800.0 [25.648066666666665, 0.0, -1]\n",
      "1466537100.0 [26.31686666666667, 0.0, -1]\n",
      "1466537400.0 [28.186733333333333, 0.0, -1]\n",
      "1466537700.0 [31.77949999999999, 0.0, -1]\n",
      "1466538000.0 [26.396599999999996, 0.0, -1]\n",
      "1466538300.0 [28.310766666666673, 0.0, -1]\n",
      "1466538600.0 [27.845333333333322, 0.0, -1]\n",
      "1466538900.0 [26.936366666666657, 0.0, -1]\n",
      "1466539200.0 [28.253133333333338, 0.0, -1]\n",
      "1466539500.0 [26.89666666666667, 0.0, -1]\n",
      "1466539800.0 [28.463533333333334, 0.0, -1]\n",
      "1466540100.0 [31.256600000000002, 0.0, -1]\n",
      "1466540400.0 [27.29623333333334, 0.0, -1]\n",
      "1466540700.0 [27.155833333333334, 0.0, -1]\n",
      "1466541000.0 [27.975666666666676, 0.0, -1]\n",
      "1466541300.0 [31.147833333333335, 0.0, -1]\n",
      "1466541600.0 [30.885027777777776, 0.0, -1]\n",
      "1466541900.0 [29.850799999999992, 0.0, -1]\n",
      "1466542200.0 [27.32663333333334, 0.0, -1]\n",
      "1466542500.0 [31.47493333333334, 0.0, -1]\n",
      "1466542800.0 [32.091499999999996, 0.0, -1]\n",
      "1466543100.0 [31.0485, 0.0, -1]\n",
      "1466543400.0 [29.12410000000002, 0.0, -1]\n",
      "1466543700.0 [27.492197399133047, 0.0003333333333333333, -1]\n",
      "1466544000.0 [32.73986666666667, 0.0, -1]\n",
      "1466544300.0 [30.757066666666674, 0.0003333333333333333, -1]\n",
      "1466544600.0 [31.869233333333323, 0.0, -1]\n",
      "1466544900.0 [27.2526, 0.0, -1]\n",
      "1466545200.0 [27.55696666666666, 0.0, -1]\n",
      "1466545500.0 [38.6191, 0.0, -1]\n",
      "1466545800.0 [27.5241, 0.0, -1]\n",
      "1466546100.0 [30.761233333333326, 0.0, -1]\n",
      "1466546400.0 [31.47209999999999, 0.0, -1]\n",
      "1466546700.0 [31.207800000000002, 0.0, -1]\n",
      "1466547000.0 [27.41703333333333, 0.0, -1]\n",
      "1466547300.0 [28.752249999999997, 0.0, -1]\n",
      "1466547600.0 [27.398633333333333, 0.0, -1]\n",
      "1466547900.0 [27.341047015671897, 0.0003333333333333333, -1]\n",
      "1466548200.0 [29.735733333333336, 0.0, -1]\n",
      "1466548500.0 [27.395166666666668, 0.0, -1]\n",
      "1466548800.0 [27.49876666666667, 0.0, -1]\n",
      "1466549100.0 [30.199833333333334, 0.0, -1]\n",
      "1466549400.0 [27.46645833333333, 0.0, -1]\n",
      "1466549700.0 [27.344566666666665, 0.0, -1]\n",
      "1466550000.0 [27.203899999999997, 0.0, -1]\n",
      "1466550300.0 [27.832700000000003, 0.0, -1]\n",
      "1466550600.0 [29.359533333333324, 0.0, -1]\n",
      "1466550900.0 [28.394233333333336, 0.0, -1]\n",
      "1466551200.0 [26.65393333333333, 0.0, -1]\n",
      "1466551500.0 [28.512800000000013, 0.0, -1]\n",
      "1466551800.0 [29.762733333333333, 0.0, -1]\n",
      "1466552100.0 [27.16813333333334, 0.0, -1]\n",
      "1466552400.0 [28.73580000000001, 0.0, -1]\n",
      "1466552700.0 [29.22606666666665, 0.0, -1]\n",
      "1466553000.0 [32.78029166666667, 0.0, -1]\n",
      "1466553300.0 [28.786166666666666, 0.0, -1]\n",
      "1466553600.0 [27.699083333333334, 0.0, -1]\n",
      "1466553900.0 [30.41793333333333, 0.0, -1]\n",
      "1466554200.0 [31.69649999999998, 0.0, -1]\n",
      "1466554500.0 [28.373033333333325, 0.0, -1]\n",
      "1466554800.0 [36.23286666666665, 0.0, -1]\n",
      "1466555100.0 [29.1364, 0.0, -1]\n",
      "1466555400.0 [27.542933333333345, 0.0, -1]\n",
      "1466555700.0 [27.24486666666667, 0.0, -1]\n",
      "1466556000.0 [35.96816666666667, 0.0, -1]\n",
      "1466556300.0 [26.5937, 0.0, -1]\n",
      "1466556600.0 [26.097699999999993, 0.0, -1]\n",
      "1466556900.0 [28.834399999999995, 0.0, -1]\n",
      "1466557200.0 [31.485, 0.0, -1]\n"
     ]
    }
   ],
   "source": [
    "scroll = scan(es, query=myquery, index=ind, scroll='10s')\n",
    "RawData={}\n",
    "count=0\n",
    "for res in scroll:\n",
    "    #print(res)\n",
    "    r = res['fields']\n",
    "    sts = r['timestamp'][0]\n",
    "    ts=time.mktime(datetime.strptime(sts, \"%Y-%m-%dT%H:%M:%S\").timetuple())\n",
    "    if not ts in RawData:\n",
    "        RawData[ts]=[-1,-1,-1]\n",
    "    if res['_type']=='latency':\n",
    "        RawData[ts][0]=r['delay_mean'][0]\n",
    "    elif res['_type']=='packet_loss_rate':\n",
    "        RawData[ts][1]=r['packet_loss'][0]\n",
    "    elif res['_type']=='throughput':\n",
    "        RawData[ts][2]=r['throughput'][0]\n",
    "    count+=1\n",
    "    \n",
    "print (\"results fetched:\", count ) \n",
    "print (\"results summed up:\", len(RawData) ) \n",
    "\n",
    "tss = sorted(RawData.keys())\n",
    "for r in tss:\n",
    "    print(r, RawData[r])\n"
   ]
  },
  {
   "cell_type": "markdown",
   "metadata": {},
   "source": [
    "cleaning the data - create array where all 3 components are there."
   ]
  },
  {
   "cell_type": "code",
   "execution_count": 5,
   "metadata": {
    "collapsed": false
   },
   "outputs": [
    {
     "name": "stdout",
     "output_type": "stream",
     "text": [
      "[]\n",
      "[]\n"
     ]
    }
   ],
   "source": [
    "X=[]\n",
    "y=[]\n",
    "for (k,v) in RawData.items():\n",
    "    if v[2]==-1: continue\n",
    "    delay_measurements=0\n",
    "    pl_measurements=0\n",
    "    delay_sum=0\n",
    "    pl_sum=0\n",
    "    for (k1,v1) in RawData.items():\n",
    "        if abs(k1-k)<600:\n",
    "            if v1[0]>-1:\n",
    "                delay_measurements+=1\n",
    "                delay_sum+=v1[0]\n",
    "            if v1[1]>-1:\n",
    "                pl_measurements+=1\n",
    "                pl_sum+=v1[1]\n",
    "            #print(k, k1)\n",
    "    if pl_measurements>0 and delay_measurements>0:\n",
    "#         print (k, v, delay_sum/delay_measurements, pl_sum/pl_measurements)\n",
    "        X.append([ delay_sum/delay_measurements, pl_sum/pl_measurements ])\n",
    "        y.append(v[2]/1024/1024/1024/8)\n",
    "print(X)\n",
    "print(y)"
   ]
  },
  {
   "cell_type": "markdown",
   "metadata": {},
   "source": [
    "takes as input two arrays: an array X of size [n_samples, n_features] holding the training samples, and an array y of class labels (strings or integers), size [n_samples]\n",
    "\n",
    "Learning step:"
   ]
  },
  {
   "cell_type": "code",
   "execution_count": 6,
   "metadata": {
    "collapsed": false
   },
   "outputs": [
    {
     "name": "stderr",
     "output_type": "stream",
     "text": [
      "/home/ivukotic/anaconda3/lib/python3.5/site-packages/sklearn/utils/validation.py:386: DeprecationWarning: Passing 1d arrays as data is deprecated in 0.17 and willraise ValueError in 0.19. Reshape your data either using X.reshape(-1, 1) if your data has a single feature or X.reshape(1, -1) if it contains a single sample.\n",
      "  DeprecationWarning)\n"
     ]
    },
    {
     "ename": "ValueError",
     "evalue": "Found array with 0 feature(s) (shape=(1, 0)) while a minimum of 1 is required.",
     "output_type": "error",
     "traceback": [
      "\u001b[1;31m---------------------------------------------------------------------------\u001b[0m",
      "\u001b[1;31mValueError\u001b[0m                                Traceback (most recent call last)",
      "\u001b[1;32m<ipython-input-6-51b701971997>\u001b[0m in \u001b[0;36m<module>\u001b[1;34m()\u001b[0m\n\u001b[0;32m      3\u001b[0m \u001b[1;31m#y = [1.2, 2.2]\u001b[0m\u001b[1;33m\u001b[0m\u001b[1;33m\u001b[0m\u001b[0m\n\u001b[0;32m      4\u001b[0m \u001b[0mclf\u001b[0m \u001b[1;33m=\u001b[0m \u001b[0msvm\u001b[0m\u001b[1;33m.\u001b[0m\u001b[0mSVR\u001b[0m\u001b[1;33m(\u001b[0m\u001b[1;33m)\u001b[0m\u001b[1;33m\u001b[0m\u001b[0m\n\u001b[1;32m----> 5\u001b[1;33m \u001b[0mf\u001b[0m \u001b[1;33m=\u001b[0m \u001b[0mclf\u001b[0m\u001b[1;33m.\u001b[0m\u001b[0mfit\u001b[0m\u001b[1;33m(\u001b[0m\u001b[0mX\u001b[0m\u001b[1;33m,\u001b[0m \u001b[0my\u001b[0m\u001b[1;33m)\u001b[0m\u001b[1;33m\u001b[0m\u001b[0m\n\u001b[0m\u001b[0;32m      6\u001b[0m \u001b[0mprint\u001b[0m\u001b[1;33m(\u001b[0m\u001b[0mf\u001b[0m\u001b[1;33m)\u001b[0m\u001b[1;33m\u001b[0m\u001b[0m\n",
      "\u001b[1;32m/home/ivukotic/anaconda3/lib/python3.5/site-packages/sklearn/svm/base.py\u001b[0m in \u001b[0;36mfit\u001b[1;34m(self, X, y, sample_weight)\u001b[0m\n\u001b[0;32m    148\u001b[0m         \u001b[0mself\u001b[0m\u001b[1;33m.\u001b[0m\u001b[0m_sparse\u001b[0m \u001b[1;33m=\u001b[0m \u001b[0msparse\u001b[0m \u001b[1;32mand\u001b[0m \u001b[1;32mnot\u001b[0m \u001b[0mcallable\u001b[0m\u001b[1;33m(\u001b[0m\u001b[0mself\u001b[0m\u001b[1;33m.\u001b[0m\u001b[0mkernel\u001b[0m\u001b[1;33m)\u001b[0m\u001b[1;33m\u001b[0m\u001b[0m\n\u001b[0;32m    149\u001b[0m \u001b[1;33m\u001b[0m\u001b[0m\n\u001b[1;32m--> 150\u001b[1;33m         \u001b[0mX\u001b[0m \u001b[1;33m=\u001b[0m \u001b[0mcheck_array\u001b[0m\u001b[1;33m(\u001b[0m\u001b[0mX\u001b[0m\u001b[1;33m,\u001b[0m \u001b[0maccept_sparse\u001b[0m\u001b[1;33m=\u001b[0m\u001b[1;34m'csr'\u001b[0m\u001b[1;33m,\u001b[0m \u001b[0mdtype\u001b[0m\u001b[1;33m=\u001b[0m\u001b[0mnp\u001b[0m\u001b[1;33m.\u001b[0m\u001b[0mfloat64\u001b[0m\u001b[1;33m,\u001b[0m \u001b[0morder\u001b[0m\u001b[1;33m=\u001b[0m\u001b[1;34m'C'\u001b[0m\u001b[1;33m)\u001b[0m\u001b[1;33m\u001b[0m\u001b[0m\n\u001b[0m\u001b[0;32m    151\u001b[0m         \u001b[0my\u001b[0m \u001b[1;33m=\u001b[0m \u001b[0mself\u001b[0m\u001b[1;33m.\u001b[0m\u001b[0m_validate_targets\u001b[0m\u001b[1;33m(\u001b[0m\u001b[0my\u001b[0m\u001b[1;33m)\u001b[0m\u001b[1;33m\u001b[0m\u001b[0m\n\u001b[0;32m    152\u001b[0m \u001b[1;33m\u001b[0m\u001b[0m\n",
      "\u001b[1;32m/home/ivukotic/anaconda3/lib/python3.5/site-packages/sklearn/utils/validation.py\u001b[0m in \u001b[0;36mcheck_array\u001b[1;34m(array, accept_sparse, dtype, order, copy, force_all_finite, ensure_2d, allow_nd, ensure_min_samples, ensure_min_features, warn_on_dtype, estimator)\u001b[0m\n\u001b[0;32m    413\u001b[0m                              \u001b[1;34m\" a minimum of %d is required%s.\"\u001b[0m\u001b[1;33m\u001b[0m\u001b[0m\n\u001b[0;32m    414\u001b[0m                              % (n_features, shape_repr, ensure_min_features,\n\u001b[1;32m--> 415\u001b[1;33m                                 context))\n\u001b[0m\u001b[0;32m    416\u001b[0m \u001b[1;33m\u001b[0m\u001b[0m\n\u001b[0;32m    417\u001b[0m     \u001b[1;32mif\u001b[0m \u001b[0mwarn_on_dtype\u001b[0m \u001b[1;32mand\u001b[0m \u001b[0mdtype_orig\u001b[0m \u001b[1;32mis\u001b[0m \u001b[1;32mnot\u001b[0m \u001b[1;32mNone\u001b[0m \u001b[1;32mand\u001b[0m \u001b[0marray\u001b[0m\u001b[1;33m.\u001b[0m\u001b[0mdtype\u001b[0m \u001b[1;33m!=\u001b[0m \u001b[0mdtype_orig\u001b[0m\u001b[1;33m:\u001b[0m\u001b[1;33m\u001b[0m\u001b[0m\n",
      "\u001b[1;31mValueError\u001b[0m: Found array with 0 feature(s) (shape=(1, 0)) while a minimum of 1 is required."
     ]
    }
   ],
   "source": [
    "from sklearn import svm\n",
    "# X = [[0, 0], [1, 1], [1, 1.2], [0.5, 0.8]]\n",
    "#y = [1.2, 2.2]\n",
    "clf = svm.SVR()\n",
    "f = clf.fit(X, y)\n",
    "print(f)\n"
   ]
  },
  {
   "cell_type": "markdown",
   "metadata": {},
   "source": [
    "Using what was learned"
   ]
  },
  {
   "cell_type": "code",
   "execution_count": null,
   "metadata": {
    "collapsed": false
   },
   "outputs": [],
   "source": [
    "clf.predict([[1., .02],[0.1,1.0]])"
   ]
  },
  {
   "cell_type": "markdown",
   "metadata": {
    "collapsed": true
   },
   "source": [
    "plot values"
   ]
  },
  {
   "cell_type": "code",
   "execution_count": null,
   "metadata": {
    "collapsed": false
   },
   "outputs": [],
   "source": [
    "na=np.array(X)\n",
    "print(na)"
   ]
  },
  {
   "cell_type": "code",
   "execution_count": null,
   "metadata": {
    "collapsed": false
   },
   "outputs": [],
   "source": [
    "owd=na[:,0]\n",
    "pl=na[:,1]"
   ]
  },
  {
   "cell_type": "code",
   "execution_count": null,
   "metadata": {
    "collapsed": false
   },
   "outputs": [],
   "source": [
    "area = np.pi * 6 **2 # 0 to 15 point radiuses\n",
    "\n",
    "plt.scatter(owd, pl, s=area, c=y, alpha=0.5)\n",
    "plt.show()"
   ]
  }
 ],
 "metadata": {
  "kernelspec": {
   "display_name": "Python 3",
   "language": "python",
   "name": "python3"
  },
  "language_info": {
   "codemirror_mode": {
    "name": "ipython",
    "version": 3
   },
   "file_extension": ".py",
   "mimetype": "text/x-python",
   "name": "python",
   "nbconvert_exporter": "python",
   "pygments_lexer": "ipython3",
   "version": "3.5.1"
  }
 },
 "nbformat": 4,
 "nbformat_minor": 0
}
