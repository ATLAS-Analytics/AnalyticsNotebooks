{
 "cells": [
  {
   "cell_type": "code",
   "execution_count": 3,
   "metadata": {
    "collapsed": false
   },
   "outputs": [
    {
     "name": "stdout",
     "output_type": "stream",
     "text": [
      "(array([ 0.22903226,  1.01612903]), array([[ 0.00199792, -0.0074922 ],\n",
      "       [-0.0074922 ,  0.04745057]]))\n",
      "a: 0.229032258063 \tb: 1.01612903226\n",
      "err a: 0.0446980850234 \terr b: 0.21783152214\n"
     ]
    }
   ],
   "source": [
    "%matplotlib inline\n",
    "import numpy as np\n",
    "from scipy.optimize import curve_fit\n",
    "import matplotlib.pyplot as plt\n",
    "\n",
    "def fit_func(x, a, b):\n",
    "    return a*x + b\n",
    "\n",
    "x = np.array([1, 2, 3, 9])\n",
    "y = np.array([1, 1.5, 2, 3])\n",
    "\n",
    "params = curve_fit(fit_func, x, y)\n",
    "\n",
    "print (params)\n",
    "\n",
    "[a, b] = params[0]\n",
    "print ('a:',a,'\\tb:',b)\n",
    "\n",
    "pcov=params[1]\n",
    "[da,db] = np.sqrt(np.diag(pcov))\n",
    "print ('err a:',da,'\\terr b:',db)"
   ]
  },
  {
   "cell_type": "code",
   "execution_count": 5,
   "metadata": {
    "collapsed": false
   },
   "outputs": [
    {
     "data": {
      "image/png": "[encoded data removed]",
      "text/plain": [
       "<matplotlib.figure.Figure at 0x7f7de2e33e80>"
      ]
     },
     "metadata": {},
     "output_type": "display_data"
    }
   ],
   "source": [
    "# calculate new x's and y's\n",
    "x_new = np.linspace(x[0], x[-1], 50)\n",
    "y_new = fit_func(x_new, a, b)\n",
    "\n",
    "plt.plot(x,y,'o')\n",
    "plt.plot(x_new, y_new,'-')\n",
    "plt.xlim([x[0]-1, x[-1] + 1 ])\n",
    "plt.ylim([y[0]-1, y[-1] + 1 ])\n",
    "plt.show()"
   ]
  },
  {
   "cell_type": "code",
   "execution_count": null,
   "metadata": {
    "collapsed": true
   },
   "outputs": [],
   "source": []
  }
 ],
 "metadata": {
  "kernelspec": {
   "display_name": "Python 3",
   "language": "python",
   "name": "python3"
  },
  "language_info": {
   "codemirror_mode": {
    "name": "ipython",
    "version": 3
   },
   "file_extension": ".py",
   "mimetype": "text/x-python",
   "name": "python",
   "nbconvert_exporter": "python",
   "pygments_lexer": "ipython3",
   "version": "3.5.1"
  }
 },
 "nbformat": 4,
 "nbformat_minor": 0
}
