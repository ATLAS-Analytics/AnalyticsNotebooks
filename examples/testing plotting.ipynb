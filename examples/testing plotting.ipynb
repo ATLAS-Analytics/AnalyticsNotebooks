{
 "cells": [
  {
   "cell_type": "code",
   "execution_count": 13,
   "metadata": {
    "collapsed": false
   },
   "outputs": [
    {
     "name": "stdout",
     "output_type": "stream",
     "text": [
      "0    1\n",
      "1    3\n",
      "2    4\n",
      "Name: 0, dtype: int64\n",
      "<class 'pandas.core.series.Series'>\n",
      "<class 'numpy.ndarray'> (3,) [1 3 4]\n",
      "(3, 1) [[1]\n",
      " [3]\n",
      " [4]]\n",
      "LinearRegression(copy_X=True, fit_intercept=True, n_jobs=1, normalize=False)\n",
      "[[ 1.]] [  8.88178420e-16]\n"
     ]
    },
    {
     "data": {
      "image/png": "[encoded data removed]",
      "text/plain": [
       "<matplotlib.figure.Figure at 0x7fc410376a90>"
      ]
     },
     "metadata": {},
     "output_type": "display_data"
    }
   ],
   "source": [
    "%matplotlib inline\n",
    "import numpy as np\n",
    "import pandas as pd\n",
    "import matplotlib.pyplot as plt\n",
    "\n",
    "from sklearn.linear_model import LinearRegression\n",
    "\n",
    "df = pd.DataFrame([[1,2,3],[3,2,1],[4,4,4]])\n",
    "c=df[0]\n",
    "print(c)\n",
    "print(type(c))\n",
    "f=plt.figure()\n",
    "\n",
    "plt.scatter(c,c)\n",
    "\n",
    "# get array from series\n",
    "c1=c.values \n",
    "print(type(c1),c1.shape,c1)\n",
    "\n",
    "c2=c1.reshape(-1,1)\n",
    "print(c2.shape,c2)\n",
    "\n",
    "lm=LinearRegression().fit(c2,c2)\n",
    "print(lm)\n",
    "print(lm.coef_, lm.intercept_)"
   ]
  },
  {
   "cell_type": "code",
   "execution_count": 19,
   "metadata": {
    "collapsed": false
   },
   "outputs": [
    {
     "name": "stdout",
     "output_type": "stream",
     "text": [
      "[ 1.  4.] [ 1.  4.]\n"
     ]
    },
    {
     "data": {
      "text/plain": [
       "[<matplotlib.lines.Line2D at 0x7fc41064deb8>]"
      ]
     },
     "execution_count": 19,
     "metadata": {},
     "output_type": "execute_result"
    },
    {
     "data": {
      "image/png": "[encoded data removed]",
      "text/plain": [
       "<matplotlib.figure.Figure at 0x7fc410627518>"
      ]
     },
     "metadata": {},
     "output_type": "display_data"
    }
   ],
   "source": [
    "x_new = np.linspace(c2[0], c2[-1], 2)\n",
    "y_new = x_new*lm.coef_[0][0]+lm.intercept_\n",
    "\n",
    "print(x_new, y_new)\n",
    "plt.plot(x_new, y_new,'-')\n",
    "\n",
    "# # calculate polynomial\n",
    "# z = np.polyfit(x, y, 3)\n",
    "# print (\"fit parameters:\",z)\n",
    "# f = np.poly1d(z)\n",
    "# print (\"function:\\n\", f)\n",
    "\n",
    "# # calculate new x's and y's\n",
    "# x_new = np.linspace(x[0], x[-1], 50)\n",
    "# y_new = f(x_new)\n",
    "\n",
    "# plt.plot(x,y,'o')\n",
    "# \n",
    "# plt.xlim([x[0]-1, x[-1] + 1 ])\n",
    "# plt.show()"
   ]
  },
  {
   "cell_type": "code",
   "execution_count": null,
   "metadata": {
    "collapsed": true
   },
   "outputs": [],
   "source": []
  }
 ],
 "metadata": {
  "kernelspec": {
   "display_name": "Python 3",
   "language": "python",
   "name": "python3"
  },
  "language_info": {
   "codemirror_mode": {
    "name": "ipython",
    "version": 3
   },
   "file_extension": ".py",
   "mimetype": "text/x-python",
   "name": "python",
   "nbconvert_exporter": "python",
   "pygments_lexer": "ipython3",
   "version": "3.5.1"
  }
 },
 "nbformat": 4,
 "nbformat_minor": 0
}
