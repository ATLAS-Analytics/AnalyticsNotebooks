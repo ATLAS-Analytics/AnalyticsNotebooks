{
 "cells": [
  {
   "cell_type": "code",
   "execution_count": null,
   "metadata": {
    "collapsed": false
   },
   "outputs": [],
   "source": [
    "%matplotlib inline\n",
    "import re\n",
    "import numpy as np\n",
    "import matplotlib.pyplot as plt\n",
    "from datetime import datetime\n",
    "from elasticsearch import Elasticsearch, exceptions as es_exceptions\n",
    "from elasticsearch.helpers import scan\n",
    "es = Elasticsearch(hosts=[{'host':'atlas-kibana.mwt2.org', 'port':9200}],timeout=60)\n",
    "\n",
    "# To list all indices, do \n",
    "# curl -XGET 'http://atlas-kibana.mwt2.org:9200/_settings?pretty=1' \n",
    "ind=\"jobs_archive_2016*\""
   ]
  },
  {
   "cell_type": "code",
   "execution_count": null,
   "metadata": {
    "collapsed": false
   },
   "outputs": [],
   "source": [
    "# one can also use the following command to see the return json data.\n",
    "# curl -XGET 'http://atlas-kibana.mwt2.org:9200/jobs_archive_2016*/_search?pretty=1&size=1'\n",
    "\n",
    "x = {\n",
    "    \"fields\": [\"wall_time\",\"modificationtime\",\"modificationhost\",\"computingsite\"],\n",
    "    \"query\": {\n",
    "        \"bool\": {\n",
    "            \"should\": [{ \"match\": { \"computingsite\": \"ANALY_SLAC\" }},\n",
    "                       { \"wildcard\": { \"modificationhost\": \"fell*\" }},\n",
    "                       { \"match\": { \"jobstatus\": \"finished\" }}, \n",
    "                       { \"match\": { \"transfertype\": \"fax\"}} ]\n",
    "        }\n",
    "    }\n",
    "}\n",
    "\n",
    "walltimes0 = []\n",
    "walltimes1 = []\n",
    "# period the NAT was set on the fells:\n",
    "timerange0 = datetime.strptime(\"2016-01-11\",\"%Y-%m-%d\")\n",
    "timerange1 = datetime.strptime(\"2016-04-05\",\"%Y-%m-%d\")\n",
    "\n",
    "page = es.search(index=ind, body=x, search_type=\"scan\", scroll=\"1m\")\n",
    "sid = page['_scroll_id']\n",
    "scroll_size = page['hits']['total']\n",
    "\n",
    "n=0\n",
    "while (scroll_size > 0):\n",
    "    n += 1\n",
    "    if (n>5):\n",
    "        break\n",
    "    for job in page['hits']['hits']:\n",
    "        if re.match(\"ANALY_SLAC\",job[\"fields\"][\"computingsite\"][0]) is None :\n",
    "        #if job[\"fields\"][\"computingsite\"][0][0:9] is not 'ANALY_SLAC' :\n",
    "            continue\n",
    "        if re.match(\"ANALY_SLAC_SHORT_1HR\",job[\"fields\"][\"computingsite\"][0]) is not None :\n",
    "            continue\n",
    "        #print(job)\n",
    "        hostname = job['fields']['modificationhost'][0]\n",
    "        if re.search(\"fell\",hostname) is None:\n",
    "            continue\n",
    "        hostnumb = int(re.sub(\"fell\",\"\",hostname))\n",
    "        timestamp = datetime.strptime(job['fields']['modificationtime'][0],\"%Y-%m-%dT%H:%M:%S\")\n",
    "        if (timestamp<timerange0 or timestamp>timerange1):\n",
    "            continue                               \n",
    "        wallt = job['fields']['wall_time'][0]/60\n",
    "        #print (\"hostname: %s, walltime: %.2f\" % (hostn, wallt))\n",
    "        if (wallt<10 or wallt>360):\n",
    "            continue\n",
    "        if hostnumb < 140:\n",
    "            walltimes0 += [wallt]\n",
    "        else:\n",
    "            walltimes1 += [wallt]\n",
    "    page = es.scroll(scroll_id = sid, scroll = '1m')\n",
    "    sid = page['_scroll_id']\n",
    "    scroll_size = len(page['hits']['hits'])"
   ]
  },
  {
   "cell_type": "code",
   "execution_count": null,
   "metadata": {
    "collapsed": false
   },
   "outputs": [],
   "source": [
    "print(\"%d %d\" % (len(walltimes0), len(walltimes1)))\n",
    "fig, (ax0, ax1) = plt.subplots(ncols=2, figsize=(16, 8))\n",
    "ax0.hist(walltimes0, 100, histtype='stepfilled', facecolor='g', alpha=0.75)\n",
    "ax0.set_title('walltimes < fell0000-139')\n",
    "ax1.hist(walltimes1, 100, histtype='stepfilled', facecolor='r', alpha=0.75)\n",
    "ax1.set_title('walltimes < fell0140-...')\n",
    "plt.tight_layout()\n",
    "plt.show()"
   ]
  },
  {
   "cell_type": "code",
   "execution_count": null,
   "metadata": {
    "collapsed": true
   },
   "outputs": [],
   "source": []
  }
 ],
 "metadata": {
  "celltoolbar": "Raw Cell Format",
  "kernelspec": {
   "display_name": "Python 3",
   "language": "python",
   "name": "python3"
  },
  "language_info": {
   "codemirror_mode": {
    "name": "ipython",
    "version": 3
   },
   "file_extension": ".py",
   "mimetype": "text/x-python",
   "name": "python",
   "nbconvert_exporter": "python",
   "pygments_lexer": "ipython3",
   "version": "3.5.1"
  }
 },
 "nbformat": 4,
 "nbformat_minor": 0
}
