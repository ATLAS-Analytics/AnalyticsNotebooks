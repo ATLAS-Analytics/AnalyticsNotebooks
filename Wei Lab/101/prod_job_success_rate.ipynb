{
 "cells": [
  {
   "cell_type": "code",
   "execution_count": 18,
   "metadata": {
    "collapsed": false
   },
   "outputs": [
    {
     "name": "stdout",
     "output_type": "stream",
     "text": [
      "[560690, 382662, 245713, 279860, 221175, 310246, 437435, 501813, 426546, 516326, 447263, 369147, 396011, 455499, 494968, 419121, 409432, 357266, 61340, 0, 0, 0, 0, 0, 0, 0, 0, 0, 0, 0]\n",
      "[689798, 461344, 290382, 339503, 300727, 407221, 549432, 644648, 564526, 706967, 612571, 596346, 583024, 734222, 810476, 573456, 568776, 485687, 90045, 0, 0, 0, 0, 0, 0, 0, 0, 0, 0, 0]\n"
     ]
    }
   ],
   "source": [
    "%matplotlib inline\n",
    "import re\n",
    "import numpy as np\n",
    "import matplotlib.pyplot as plt\n",
    "from datetime import datetime\n",
    "from elasticsearch import Elasticsearch, exceptions as es_exceptions\n",
    "from elasticsearch.helpers import scan\n",
    "es = Elasticsearch(hosts=[{'host':'atlas-kibana.mwt2.org', 'port':9200}],timeout=60)\n",
    "\n",
    "# To list all indices, do \n",
    "# curl -XGET 'http://atlas-kibana.mwt2.org:9200/_settings?pretty=1' \n",
    "ind=\"jobs_archive_2016-09*\"\n",
    "\n",
    "# one can also use the following command to see the return json data.\n",
    "# curl -XGET 'http://atlas-kibana.mwt2.org:9200/jobs_archive_2016*/_search?pretty=1&size=1'\n",
    "\n",
    "x = {\n",
    "    \"fields\": [\"corecount\",\"modificationtime\",\"jobstatus\",\n",
    "               \"piloterrorcode\",\"exeerrorcode\",\"transerrorcode\"],\n",
    "    \"query\": {\n",
    "        \"bool\": {\n",
    "            \"must_not\": [{ \"wildcard\" : { \"computingsite\" : \"ANALY_*\" }}],\n",
    "            \"must\" : [ { \"range\" : { \"maxattempt\" : { \"lte\" : 5 }}}]\n",
    "        }\n",
    "    }\n",
    "}\n",
    "\n",
    "nfinished = []\n",
    "ntotal = []\n",
    "timerange0 = datetime.strptime(\"2016-09-01\",\"%Y-%m-%d\")\n",
    "timerange1 = datetime.strptime(\"2016-10-01\",\"%Y-%m-%d\")\n",
    "\n",
    "# timerange1-timerange0 is a timedelta object\n",
    "ndays = (timerange1 - timerange0).days  \n",
    "for i in range(0, ndays):\n",
    "    nfinished.append(0)\n",
    "    ntotal.append(0)\n",
    "\n",
    "page = es.search(index=ind, body=x, search_type=\"scan\", scroll=\"1m\")\n",
    "scroll_size = page['hits']['total']\n",
    "\n",
    "db=0\n",
    "while (scroll_size > 0):\n",
    "    try:\n",
    "        sid = page['_scroll_id']\n",
    "        page = es.scroll(scroll_id = sid, scroll = '1m')\n",
    "        scroll_size = len(page['hits']['hits'])\n",
    "        for job in page['hits']['hits']:\n",
    "            timestamp = datetime.strptime(job['fields']['modificationtime'][0],\"%Y-%m-%dT%H:%M:%S\")\n",
    "            if (timestamp<timerange0 or timestamp>timerange1):\n",
    "                continue \n",
    "            piloterrorcode = job['fields']['piloterrorcode'][0]\n",
    "            exeerrorcode = job['fields']['exeerrorcode'][0]\n",
    "            \n",
    "            i_day = (timestamp-timerange0).days\n",
    "            jobstatus = job['fields']['jobstatus'][0]\n",
    "            ntotal[i_day] += 1\n",
    "            if (db == 0):\n",
    "                db = 1\n",
    "                \n",
    "            if (jobstatus.find(\"finished\") == 0):\n",
    "                nfinished[i_day] += 1\n",
    "                print(\"%s %d %d\" % (jobstatus, piloterrorcode, exeerrorcode))\n",
    "            break\n",
    "    except:\n",
    "        continue\n",
    "\n",
    "print(nfinished)\n",
    "print(ntotal)\n",
    "\n"
   ]
  },
  {
   "cell_type": "code",
   "execution_count": 26,
   "metadata": {
    "collapsed": false
   },
   "outputs": [
    {
     "name": "stdout",
     "output_type": "stream",
     "text": [
      "[0] 0.812832\n",
      "[1] 0.829450\n",
      "[2] 0.846172\n",
      "[3] 0.824323\n",
      "[4] 0.735468\n",
      "[5] 0.761861\n",
      "[6] 0.796159\n",
      "[7] 0.778429\n",
      "[8] 0.755583\n",
      "[9] 0.730340\n",
      "[10] 0.730141\n",
      "[11] 0.619015\n",
      "[12] 0.679236\n",
      "[13] 0.620383\n",
      "[14] 0.610713\n",
      "[15] 0.730869\n",
      "[16] 0.719848\n",
      "[17] 0.735589\n",
      "[18] 0.681215\n"
     ]
    }
   ],
   "source": [
    "for i in range(0, ndays):\n",
    "    try:\n",
    "        print(\"[%d] %f\" % (i, float(nfinished[i])/ntotal[i]))\n",
    "    except:\n",
    "        continue"
   ]
  },
  {
   "cell_type": "code",
   "execution_count": null,
   "metadata": {
    "collapsed": true
   },
   "outputs": [],
   "source": []
  }
 ],
 "metadata": {
  "kernelspec": {
   "display_name": "Python 3",
   "language": "python",
   "name": "python3"
  },
  "language_info": {
   "codemirror_mode": {
    "name": "ipython",
    "version": 3
   },
   "file_extension": ".py",
   "mimetype": "text/x-python",
   "name": "python",
   "nbconvert_exporter": "python",
   "pygments_lexer": "ipython3",
   "version": "3.5.1"
  }
 },
 "nbformat": 4,
 "nbformat_minor": 0
}
