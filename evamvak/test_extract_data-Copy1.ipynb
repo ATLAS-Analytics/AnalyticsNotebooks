{
 "cells": [
  {
   "cell_type": "code",
   "execution_count": 1,
   "metadata": {
    "collapsed": true
   },
   "outputs": [],
   "source": [
    "import re\n",
    "import os \n",
    "import datetime\n",
    "from math import log\n",
    "import csv\n",
    "import pprint\n",
    "import math\n",
    "from collections import Counter\n",
    "import numpy as np\n",
    "import matplotlib.pyplot as plt\n",
    "from pandas import Series, DataFrame\n",
    "import pandas as pd\n",
    "from pandas.io.parsers import read_csv\n",
    "pd.set_option('max_colwidth',120)\n",
    "from elasticsearch import Elasticsearch, helpers\n",
    "\n",
    "from __future__ import division\n",
    "\n",
    "%matplotlib inline\n",
    "\n",
    "pp = pprint.PrettyPrinter()"
   ]
  },
  {
   "cell_type": "code",
   "execution_count": 2,
   "metadata": {
    "collapsed": true
   },
   "outputs": [],
   "source": [
    "#bashcommand='pwd'"
   ]
  },
  {
   "cell_type": "code",
   "execution_count": 3,
   "metadata": {
    "collapsed": false
   },
   "outputs": [],
   "source": [
    "es = Elasticsearch([{'host':'atlas-kibana.mwt2.org', 'port':9200}],timeout=10)"
   ]
  },
  {
   "cell_type": "code",
   "execution_count": 4,
   "metadata": {
    "collapsed": false
   },
   "outputs": [],
   "source": [
    "indices = es.cat.indices(index='jobs_archive_2016-06-23', h=\"index\", request_timeout=10).split('\\n')\n",
    "indices = sorted(indices)\n",
    "indices = [x.replace(\" \", \"\") for x in indices if x != '']"
   ]
  },
  {
   "cell_type": "code",
   "execution_count": 5,
   "metadata": {
    "collapsed": false
   },
   "outputs": [
    {
     "name": "stdout",
     "output_type": "stream",
     "text": [
      "['jobs_archive_2016-06-23']\n"
     ]
    }
   ],
   "source": [
    "print (indices)"
   ]
  },
  {
   "cell_type": "code",
   "execution_count": 6,
   "metadata": {
    "collapsed": false
   },
   "outputs": [],
   "source": [
    "ss={\n",
    "  \"query\": { \"match\": { \"computingsite\": \"*IN2P3-CC*\" } },\n",
    "  \"_source\": [\"pandaid\",\"batchid\",\"avgpss\",\"computingsite\",\"cpu_eff\",\"cpuconsumptiontime\",\"wall_time\",\"totaljobtime\",\"modificationhost\"],\n",
    "    \"size\": 9000\n",
    "    }\n",
    "\n",
    "\n",
    "\n",
    "#ss= {\"query\": { \"match_all\": {} },\"size\": 10000} \n",
    "\n"
   ]
  },
  {
   "cell_type": "code",
   "execution_count": 7,
   "metadata": {
    "collapsed": false
   },
   "outputs": [],
   "source": [
    "res = es.search(index='jobs_archive_2016-06-26', body=ss, request_timeout=12000)"
   ]
  },
  {
   "cell_type": "code",
   "execution_count": 8,
   "metadata": {
    "collapsed": false
   },
   "outputs": [
    {
     "data": {
      "text/plain": [
       "list"
      ]
     },
     "execution_count": 8,
     "metadata": {},
     "output_type": "execute_result"
    }
   ],
   "source": [
    "\n",
    "type(res)\n",
    "list2=[]\n",
    "list=[]\n",
    "list=res.get('hits').get('hits')\n",
    "#type(list2)\n",
    "type(list)"
   ]
  },
  {
   "cell_type": "code",
   "execution_count": 9,
   "metadata": {
    "collapsed": false
   },
   "outputs": [],
   "source": [
    "\n",
    "\n",
    "#rint (res.get('hits').get('hits'))\n",
    "#list.head()\n",
    "#res[0]\n",
    "#res['total']"
   ]
  },
  {
   "cell_type": "code",
   "execution_count": 10,
   "metadata": {
    "collapsed": false
   },
   "outputs": [
    {
     "data": {
      "text/plain": [
       "2356"
      ]
     },
     "execution_count": 10,
     "metadata": {},
     "output_type": "execute_result"
    }
   ],
   "source": [
    "for name in list:\n",
    " #print (name.get('_source'))\n",
    " a=name.get('_source')\n",
    " list2.append(a)\n",
    "#xx=list2.append(dict(a))\n",
    "dfu = pd.DataFrame(list2)\n",
    "    \n",
    "dfu.avgpss.count()"
   ]
  },
  {
   "cell_type": "code",
   "execution_count": 11,
   "metadata": {
    "collapsed": false
   },
   "outputs": [
    {
     "data": {
      "text/html": [
       "<div>\n",
       "<table border=\"1\" class=\"dataframe\">\n",
       "  <thead>\n",
       "    <tr style=\"text-align: right;\">\n",
       "      <th></th>\n",
       "      <th>avgpss</th>\n",
       "      <th>batchid</th>\n",
       "      <th>computingsite</th>\n",
       "      <th>cpu_eff</th>\n",
       "      <th>cpuconsumptiontime</th>\n",
       "      <th>modificationhost</th>\n",
       "      <th>pandaid</th>\n",
       "      <th>wall_time</th>\n",
       "    </tr>\n",
       "  </thead>\n",
       "  <tbody>\n",
       "    <tr>\n",
       "      <th>0</th>\n",
       "      <td>1002584</td>\n",
       "      <td>9889987</td>\n",
       "      <td>IN2P3-CC</td>\n",
       "      <td>0.857639</td>\n",
       "      <td>741</td>\n",
       "      <td>ccwsge0762</td>\n",
       "      <td>2900509579</td>\n",
       "      <td>864</td>\n",
       "    </tr>\n",
       "    <tr>\n",
       "      <th>1</th>\n",
       "      <td>1739498</td>\n",
       "      <td>9870516</td>\n",
       "      <td>IN2P3-CC</td>\n",
       "      <td>0.976818</td>\n",
       "      <td>10408</td>\n",
       "      <td>ccwsge0800</td>\n",
       "      <td>2899976233</td>\n",
       "      <td>10655</td>\n",
       "    </tr>\n",
       "    <tr>\n",
       "      <th>2</th>\n",
       "      <td>1699103</td>\n",
       "      <td>9874795</td>\n",
       "      <td>IN2P3-CC</td>\n",
       "      <td>0.977565</td>\n",
       "      <td>11416</td>\n",
       "      <td>ccwsge0762</td>\n",
       "      <td>2899999755</td>\n",
       "      <td>11678</td>\n",
       "    </tr>\n",
       "    <tr>\n",
       "      <th>3</th>\n",
       "      <td>1881052</td>\n",
       "      <td>9874796</td>\n",
       "      <td>IN2P3-CC</td>\n",
       "      <td>0.968328</td>\n",
       "      <td>10242</td>\n",
       "      <td>ccwsge0929</td>\n",
       "      <td>2899999757</td>\n",
       "      <td>10577</td>\n",
       "    </tr>\n",
       "    <tr>\n",
       "      <th>4</th>\n",
       "      <td>1876856</td>\n",
       "      <td>9874794</td>\n",
       "      <td>IN2P3-CC</td>\n",
       "      <td>0.971301</td>\n",
       "      <td>11101</td>\n",
       "      <td>ccwsge0095</td>\n",
       "      <td>2899999749</td>\n",
       "      <td>11429</td>\n",
       "    </tr>\n",
       "  </tbody>\n",
       "</table>\n",
       "</div>"
      ],
      "text/plain": [
       "    avgpss  batchid computingsite   cpu_eff  cpuconsumptiontime  \\\n",
       "0  1002584  9889987      IN2P3-CC  0.857639                 741   \n",
       "1  1739498  9870516      IN2P3-CC  0.976818               10408   \n",
       "2  1699103  9874795      IN2P3-CC  0.977565               11416   \n",
       "3  1881052  9874796      IN2P3-CC  0.968328               10242   \n",
       "4  1876856  9874794      IN2P3-CC  0.971301               11101   \n",
       "\n",
       "  modificationhost     pandaid  wall_time  \n",
       "0       ccwsge0762  2900509579        864  \n",
       "1       ccwsge0800  2899976233      10655  \n",
       "2       ccwsge0762  2899999755      11678  \n",
       "3       ccwsge0929  2899999757      10577  \n",
       "4       ccwsge0095  2899999749      11429  "
      ]
     },
     "execution_count": 11,
     "metadata": {},
     "output_type": "execute_result"
    }
   ],
   "source": [
    "dfu.head()"
   ]
  },
  {
   "cell_type": "code",
   "execution_count": 12,
   "metadata": {
    "collapsed": false
   },
   "outputs": [
    {
     "data": {
      "text/html": [
       "<div>\n",
       "<table border=\"1\" class=\"dataframe\">\n",
       "  <thead>\n",
       "    <tr style=\"text-align: right;\">\n",
       "      <th></th>\n",
       "      <th>avgpss</th>\n",
       "      <th>batchid</th>\n",
       "      <th>cpu_eff</th>\n",
       "      <th>cpuconsumptiontime</th>\n",
       "      <th>modificationhost</th>\n",
       "      <th>pandaid</th>\n",
       "      <th>wall_time</th>\n",
       "    </tr>\n",
       "    <tr>\n",
       "      <th>computingsite</th>\n",
       "      <th></th>\n",
       "      <th></th>\n",
       "      <th></th>\n",
       "      <th></th>\n",
       "      <th></th>\n",
       "      <th></th>\n",
       "      <th></th>\n",
       "    </tr>\n",
       "  </thead>\n",
       "  <tbody>\n",
       "    <tr>\n",
       "      <th>IN2P3-CC</th>\n",
       "      <td>2356</td>\n",
       "      <td>2356</td>\n",
       "      <td>2356</td>\n",
       "      <td>2356</td>\n",
       "      <td>2356</td>\n",
       "      <td>2356</td>\n",
       "      <td>2356</td>\n",
       "    </tr>\n",
       "  </tbody>\n",
       "</table>\n",
       "</div>"
      ],
      "text/plain": [
       "               avgpss  batchid  cpu_eff  cpuconsumptiontime  modificationhost  \\\n",
       "computingsite                                                                   \n",
       "IN2P3-CC         2356     2356     2356                2356              2356   \n",
       "\n",
       "               pandaid  wall_time  \n",
       "computingsite                      \n",
       "IN2P3-CC          2356       2356  "
      ]
     },
     "execution_count": 12,
     "metadata": {},
     "output_type": "execute_result"
    }
   ],
   "source": [
    " dfu.groupby(['computingsite']).count()"
   ]
  },
  {
   "cell_type": "code",
   "execution_count": 13,
   "metadata": {
    "collapsed": false
   },
   "outputs": [
    {
     "data": {
      "text/plain": [
       "<matplotlib.axes._subplots.AxesSubplot at 0x7f0842750358>"
      ]
     },
     "execution_count": 13,
     "metadata": {},
     "output_type": "execute_result"
    },
    {
     "data": {
      "image/png": "[encoded data removed]",
      "text/plain": [
       "<matplotlib.figure.Figure at 0x7f08426f8748>"
      ]
     },
     "metadata": {},
     "output_type": "display_data"
    }
   ],
   "source": [
    "b=dfu.avgpss/1024/1024\n",
    "b.hist(bins=100)"
   ]
  },
  {
   "cell_type": "code",
   "execution_count": 14,
   "metadata": {
    "collapsed": false
   },
   "outputs": [
    {
     "data": {
      "text/plain": [
       "Index                    80\n",
       "avgpss                18848\n",
       "batchid               18848\n",
       "computingsite         18848\n",
       "cpu_eff               18848\n",
       "cpuconsumptiontime    18848\n",
       "modificationhost      18848\n",
       "pandaid               18848\n",
       "wall_time             18848\n",
       "dtype: int64"
      ]
     },
     "execution_count": 14,
     "metadata": {},
     "output_type": "execute_result"
    }
   ],
   "source": [
    "dfu.memory_usage()"
   ]
  },
  {
   "cell_type": "code",
   "execution_count": null,
   "metadata": {
    "collapsed": true
   },
   "outputs": [],
   "source": []
  }
 ],
 "metadata": {
  "kernelspec": {
   "display_name": "Python 3",
   "language": "python",
   "name": "python3"
  },
  "language_info": {
   "codemirror_mode": {
    "name": "ipython",
    "version": 3
   },
   "file_extension": ".py",
   "mimetype": "text/x-python",
   "name": "python",
   "nbconvert_exporter": "python",
   "pygments_lexer": "ipython3",
   "version": "3.5.1"
  }
 },
 "nbformat": 4,
 "nbformat_minor": 0
}
