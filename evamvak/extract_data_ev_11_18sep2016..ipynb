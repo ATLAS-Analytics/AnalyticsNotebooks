{
 "cells": [
  {
   "cell_type": "code",
   "execution_count": 1,
   "metadata": {
    "collapsed": true
   },
   "outputs": [],
   "source": [
    "import re\n",
    "import os \n",
    "import datetime\n",
    "from math import log\n",
    "import csv\n",
    "import pprint\n",
    "import math\n",
    "from collections import Counter\n",
    "import numpy as np\n",
    "import matplotlib.pyplot as plt\n",
    "from pandas import Series, DataFrame\n",
    "import pandas as pd\n",
    "from pandas.io.parsers import read_csv\n",
    "pd.set_option('max_colwidth',120)\n",
    "from elasticsearch import Elasticsearch, helpers\n",
    "from elasticsearch.helpers import scan\n",
    "from __future__ import division\n",
    "\n",
    "%matplotlib inline\n",
    "\n",
    "pp = pprint.PrettyPrinter()"
   ]
  },
  {
   "cell_type": "code",
   "execution_count": 2,
   "metadata": {
    "collapsed": true
   },
   "outputs": [],
   "source": [
    "#bashcommand='pwd'"
   ]
  },
  {
   "cell_type": "code",
   "execution_count": 3,
   "metadata": {
    "collapsed": false
   },
   "outputs": [],
   "source": [
    "es = Elasticsearch([{'host':'atlas-kibana.mwt2.org', 'port':9200}],timeout=20)"
   ]
  },
  {
   "cell_type": "code",
   "execution_count": 4,
   "metadata": {
    "collapsed": false
   },
   "outputs": [],
   "source": [
    "indices = es.cat.indices(index=['jobs_archive_2016-09-11','jobs_archive_2016-09-12','jobs_archive_2016-09-12','jobs_archive_2016-09-13',\n",
    "                                'jobs_archive_2016-09-14','jobs_archive_2016-09-15','jobs_archive_2016-09-16','jobs_archive_2016-09-17','jobs_archive_2016-09-18'], h=\"index\", request_timeout=10).split('\\n')\n",
    "indices = sorted(indices)\n",
    "indices = [x.replace(\" \", \"\") for x in indices if x != '']"
   ]
  },
  {
   "cell_type": "code",
   "execution_count": 5,
   "metadata": {
    "collapsed": false
   },
   "outputs": [
    {
     "name": "stdout",
     "output_type": "stream",
     "text": [
      "['jobs_archive_2016-09-11', 'jobs_archive_2016-09-12', 'jobs_archive_2016-09-13', 'jobs_archive_2016-09-14', 'jobs_archive_2016-09-15', 'jobs_archive_2016-09-16', 'jobs_archive_2016-09-17', 'jobs_archive_2016-09-18']\n"
     ]
    }
   ],
   "source": [
    "print (indices)"
   ]
  },
  {
   "cell_type": "code",
   "execution_count": 6,
   "metadata": {
    "collapsed": false
   },
   "outputs": [
    {
     "name": "stdout",
     "output_type": "stream",
     "text": [
      "{'query': {'wildcard': {'computingsite': '*IN2P3-CC*'}}, '_source': ['pandaid', 'batchid', 'computingsite', 'computingelement', 'corecount', 'creationtime', 'starttime', 'endtime', 'cpuconsumptiontime', 'wall_time', 'modificationhost', 'maxrss', 'maxpss', 'jobstatus']}\n"
     ]
    }
   ],
   "source": [
    "ss={\n",
    " \"query\": { \"wildcard\": { \"computingsite\": \"*IN2P3-CC*\" } \n",
    "}, \"_source\": [\"pandaid\",\"batchid\",\"computingsite\",\"computingelement\",\"corecount\",\"creationtime\",\"starttime\",\"endtime\",\n",
    "   \"cpuconsumptiontime\",\"wall_time\",\"modificationhost\",\"maxrss\",\"maxpss\",\"jobstatus\"]\n",
    "#    ,\"size\": 5\n",
    "    }\n",
    "\n",
    "\n",
    "\n",
    "#ss= {\"query\": { \"match_all\": {} },\"size\": 10000} \n",
    "print (ss)\n",
    "\n"
   ]
  },
  {
   "cell_type": "code",
   "execution_count": 7,
   "metadata": {
    "collapsed": false
   },
   "outputs": [],
   "source": [
    "#res = es.search(index='jobs_archive_2016-06-26', body=ss, filter_path=['hits.hits._source'],request_timeout=12000)"
   ]
  },
  {
   "cell_type": "code",
   "execution_count": 8,
   "metadata": {
    "collapsed": false,
    "scrolled": true
   },
   "outputs": [
    {
     "data": {
      "text/plain": [
       "4"
      ]
     },
     "execution_count": 8,
     "metadata": {},
     "output_type": "execute_result"
    }
   ],
   "source": [
    "res=es.search(index=indices, body=ss,request_timeout=12000)\n",
    "#print (res)\n",
    "len(res)\n",
    "#print (res)"
   ]
  },
  {
   "cell_type": "code",
   "execution_count": 9,
   "metadata": {
    "collapsed": false
   },
   "outputs": [],
   "source": [
    " #res.get('hits').get('hits')"
   ]
  },
  {
   "cell_type": "code",
   "execution_count": 10,
   "metadata": {
    "collapsed": false
   },
   "outputs": [],
   "source": [
    "scroll=scan(es,index=indices, query=ss,scroll=u'30m', raise_on_error=True, preserve_order=False, size=500000,request_timeout=7000)"
   ]
  },
  {
   "cell_type": "code",
   "execution_count": null,
   "metadata": {
    "collapsed": false
   },
   "outputs": [],
   "source": [
    " "
   ]
  },
  {
   "cell_type": "code",
   "execution_count": 11,
   "metadata": {
    "collapsed": false
   },
   "outputs": [
    {
     "name": "stdout",
     "output_type": "stream",
     "text": [
      "358565\n"
     ]
    },
    {
     "data": {
      "text/html": [
       "<div>\n",
       "<table border=\"1\" class=\"dataframe\">\n",
       "  <thead>\n",
       "    <tr style=\"text-align: right;\">\n",
       "      <th></th>\n",
       "      <th>batchid</th>\n",
       "      <th>computingelement</th>\n",
       "      <th>computingsite</th>\n",
       "      <th>corecount</th>\n",
       "      <th>cpuconsumptiontime</th>\n",
       "      <th>creationtime</th>\n",
       "      <th>endtime</th>\n",
       "      <th>jobstatus</th>\n",
       "      <th>maxpss</th>\n",
       "      <th>maxrss</th>\n",
       "      <th>modificationhost</th>\n",
       "      <th>pandaid</th>\n",
       "      <th>starttime</th>\n",
       "      <th>wall_time</th>\n",
       "    </tr>\n",
       "  </thead>\n",
       "  <tbody>\n",
       "    <tr>\n",
       "      <th>0</th>\n",
       "      <td>15461543</td>\n",
       "      <td>ANALY_IN2P3-CC</td>\n",
       "      <td>ANALY_IN2P3-CC</td>\n",
       "      <td>1.0</td>\n",
       "      <td>65</td>\n",
       "      <td>2016-09-11T00:11:55</td>\n",
       "      <td>2016-09-11T00:17:40</td>\n",
       "      <td>failed</td>\n",
       "      <td>699848.0</td>\n",
       "      <td>821480.0</td>\n",
       "      <td>ccwsge0015</td>\n",
       "      <td>2987965098</td>\n",
       "      <td>2016-09-11T00:14:31</td>\n",
       "      <td>189</td>\n",
       "    </tr>\n",
       "    <tr>\n",
       "      <th>1</th>\n",
       "      <td>15461657</td>\n",
       "      <td>ANALY_IN2P3-CC</td>\n",
       "      <td>ANALY_IN2P3-CC</td>\n",
       "      <td>1.0</td>\n",
       "      <td>61</td>\n",
       "      <td>2016-09-11T00:11:57</td>\n",
       "      <td>2016-09-11T00:16:41</td>\n",
       "      <td>failed</td>\n",
       "      <td>211210.0</td>\n",
       "      <td>302976.0</td>\n",
       "      <td>ccwsge0176</td>\n",
       "      <td>2987965102</td>\n",
       "      <td>2016-09-11T00:14:33</td>\n",
       "      <td>128</td>\n",
       "    </tr>\n",
       "    <tr>\n",
       "      <th>2</th>\n",
       "      <td>15458231</td>\n",
       "      <td>ANALY_IN2P3-CC</td>\n",
       "      <td>ANALY_IN2P3-CC</td>\n",
       "      <td>1.0</td>\n",
       "      <td>12</td>\n",
       "      <td>2016-09-10T16:52:11</td>\n",
       "      <td>2016-09-10T23:34:14</td>\n",
       "      <td>failed</td>\n",
       "      <td>193341.0</td>\n",
       "      <td>289284.0</td>\n",
       "      <td>ccwsge0187</td>\n",
       "      <td>2987670922</td>\n",
       "      <td>2016-09-10T22:41:59</td>\n",
       "      <td>3135</td>\n",
       "    </tr>\n",
       "    <tr>\n",
       "      <th>3</th>\n",
       "      <td>15458679</td>\n",
       "      <td>ANALY_IN2P3-CC</td>\n",
       "      <td>ANALY_IN2P3-CC</td>\n",
       "      <td>1.0</td>\n",
       "      <td>12</td>\n",
       "      <td>2016-09-10T16:52:11</td>\n",
       "      <td>2016-09-10T23:14:02</td>\n",
       "      <td>failed</td>\n",
       "      <td>192004.0</td>\n",
       "      <td>289400.0</td>\n",
       "      <td>ccwsge0005</td>\n",
       "      <td>2987670919</td>\n",
       "      <td>2016-09-10T22:41:58</td>\n",
       "      <td>1924</td>\n",
       "    </tr>\n",
       "    <tr>\n",
       "      <th>4</th>\n",
       "      <td>15459282</td>\n",
       "      <td>ANALY_IN2P3-CC</td>\n",
       "      <td>ANALY_IN2P3-CC</td>\n",
       "      <td>1.0</td>\n",
       "      <td>12</td>\n",
       "      <td>2016-09-10T16:52:14</td>\n",
       "      <td>2016-09-10T23:15:20</td>\n",
       "      <td>failed</td>\n",
       "      <td>171857.0</td>\n",
       "      <td>293168.0</td>\n",
       "      <td>ccwsge0184</td>\n",
       "      <td>2987671026</td>\n",
       "      <td>2016-09-10T22:43:29</td>\n",
       "      <td>1911</td>\n",
       "    </tr>\n",
       "  </tbody>\n",
       "</table>\n",
       "</div>"
      ],
      "text/plain": [
       "    batchid computingelement   computingsite  corecount  cpuconsumptiontime  \\\n",
       "0  15461543   ANALY_IN2P3-CC  ANALY_IN2P3-CC        1.0                  65   \n",
       "1  15461657   ANALY_IN2P3-CC  ANALY_IN2P3-CC        1.0                  61   \n",
       "2  15458231   ANALY_IN2P3-CC  ANALY_IN2P3-CC        1.0                  12   \n",
       "3  15458679   ANALY_IN2P3-CC  ANALY_IN2P3-CC        1.0                  12   \n",
       "4  15459282   ANALY_IN2P3-CC  ANALY_IN2P3-CC        1.0                  12   \n",
       "\n",
       "          creationtime              endtime jobstatus    maxpss    maxrss  \\\n",
       "0  2016-09-11T00:11:55  2016-09-11T00:17:40    failed  699848.0  821480.0   \n",
       "1  2016-09-11T00:11:57  2016-09-11T00:16:41    failed  211210.0  302976.0   \n",
       "2  2016-09-10T16:52:11  2016-09-10T23:34:14    failed  193341.0  289284.0   \n",
       "3  2016-09-10T16:52:11  2016-09-10T23:14:02    failed  192004.0  289400.0   \n",
       "4  2016-09-10T16:52:14  2016-09-10T23:15:20    failed  171857.0  293168.0   \n",
       "\n",
       "  modificationhost     pandaid            starttime  wall_time  \n",
       "0       ccwsge0015  2987965098  2016-09-11T00:14:31        189  \n",
       "1       ccwsge0176  2987965102  2016-09-11T00:14:33        128  \n",
       "2       ccwsge0187  2987670922  2016-09-10T22:41:59       3135  \n",
       "3       ccwsge0005  2987670919  2016-09-10T22:41:58       1924  \n",
       "4       ccwsge0184  2987671026  2016-09-10T22:43:29       1911  "
      ]
     },
     "execution_count": 11,
     "metadata": {},
     "output_type": "execute_result"
    }
   ],
   "source": [
    "c=1\n",
    "list2=[]\n",
    "for name in scroll:\n",
    " a=name.get('_source')\n",
    " list2.append(a)\n",
    " c=c+1\n",
    "print (c)\n",
    "type(list2)\n",
    "dfu = pd.DataFrame(list2)\n",
    " \n",
    "#dfu.batchid.count()\n",
    "dfu.head()\n",
    " \n",
    " "
   ]
  },
  {
   "cell_type": "code",
   "execution_count": 12,
   "metadata": {
    "collapsed": false
   },
   "outputs": [
    {
     "data": {
      "text/plain": [
       "computingsite\n",
       "ANALY_IN2P3-CC          212876\n",
       "IN2P3-CC                109962\n",
       "IN2P3-CC-T3_MCORE            7\n",
       "IN2P3-CC-T3_VM01          2083\n",
       "IN2P3-CC-T3_VM02         10260\n",
       "IN2P3-CC_MCORE           18872\n",
       "IN2P3-CC_MCORE_HIMEM      2813\n",
       "IN2P3-CC_VVL              1691\n",
       "Name: computingsite, dtype: int64"
      ]
     },
     "execution_count": 12,
     "metadata": {},
     "output_type": "execute_result"
    }
   ],
   "source": [
    "dfu.groupby(dfu.computingsite).computingsite.count()"
   ]
  },
  {
   "cell_type": "code",
   "execution_count": 13,
   "metadata": {
    "collapsed": false
   },
   "outputs": [
    {
     "data": {
      "text/html": [
       "<div>\n",
       "<table border=\"1\" class=\"dataframe\">\n",
       "  <thead>\n",
       "    <tr style=\"text-align: right;\">\n",
       "      <th></th>\n",
       "      <th>batchid</th>\n",
       "      <th>computingelement</th>\n",
       "      <th>corecount</th>\n",
       "      <th>cpuconsumptiontime</th>\n",
       "      <th>creationtime</th>\n",
       "      <th>endtime</th>\n",
       "      <th>jobstatus</th>\n",
       "      <th>maxpss</th>\n",
       "      <th>maxrss</th>\n",
       "      <th>modificationhost</th>\n",
       "      <th>pandaid</th>\n",
       "      <th>starttime</th>\n",
       "      <th>wall_time</th>\n",
       "    </tr>\n",
       "    <tr>\n",
       "      <th>computingsite</th>\n",
       "      <th></th>\n",
       "      <th></th>\n",
       "      <th></th>\n",
       "      <th></th>\n",
       "      <th></th>\n",
       "      <th></th>\n",
       "      <th></th>\n",
       "      <th></th>\n",
       "      <th></th>\n",
       "      <th></th>\n",
       "      <th></th>\n",
       "      <th></th>\n",
       "      <th></th>\n",
       "    </tr>\n",
       "  </thead>\n",
       "  <tbody>\n",
       "    <tr>\n",
       "      <th>ANALY_IN2P3-CC</th>\n",
       "      <td>209251</td>\n",
       "      <td>212852</td>\n",
       "      <td>206164</td>\n",
       "      <td>212876</td>\n",
       "      <td>212876</td>\n",
       "      <td>212876</td>\n",
       "      <td>212876</td>\n",
       "      <td>201335</td>\n",
       "      <td>201335</td>\n",
       "      <td>212876</td>\n",
       "      <td>212876</td>\n",
       "      <td>209253</td>\n",
       "      <td>212876</td>\n",
       "    </tr>\n",
       "    <tr>\n",
       "      <th>IN2P3-CC</th>\n",
       "      <td>63492</td>\n",
       "      <td>109897</td>\n",
       "      <td>109957</td>\n",
       "      <td>109962</td>\n",
       "      <td>109962</td>\n",
       "      <td>109962</td>\n",
       "      <td>109962</td>\n",
       "      <td>60528</td>\n",
       "      <td>60528</td>\n",
       "      <td>109962</td>\n",
       "      <td>109962</td>\n",
       "      <td>63514</td>\n",
       "      <td>109962</td>\n",
       "    </tr>\n",
       "    <tr>\n",
       "      <th>IN2P3-CC-T3_MCORE</th>\n",
       "      <td>0</td>\n",
       "      <td>7</td>\n",
       "      <td>7</td>\n",
       "      <td>7</td>\n",
       "      <td>7</td>\n",
       "      <td>7</td>\n",
       "      <td>7</td>\n",
       "      <td>0</td>\n",
       "      <td>0</td>\n",
       "      <td>7</td>\n",
       "      <td>7</td>\n",
       "      <td>0</td>\n",
       "      <td>7</td>\n",
       "    </tr>\n",
       "    <tr>\n",
       "      <th>IN2P3-CC-T3_VM01</th>\n",
       "      <td>2074</td>\n",
       "      <td>2083</td>\n",
       "      <td>2080</td>\n",
       "      <td>2083</td>\n",
       "      <td>2083</td>\n",
       "      <td>2083</td>\n",
       "      <td>2083</td>\n",
       "      <td>2056</td>\n",
       "      <td>2056</td>\n",
       "      <td>2083</td>\n",
       "      <td>2083</td>\n",
       "      <td>2074</td>\n",
       "      <td>2083</td>\n",
       "    </tr>\n",
       "    <tr>\n",
       "      <th>IN2P3-CC-T3_VM02</th>\n",
       "      <td>10244</td>\n",
       "      <td>10260</td>\n",
       "      <td>10260</td>\n",
       "      <td>10260</td>\n",
       "      <td>10260</td>\n",
       "      <td>10260</td>\n",
       "      <td>10260</td>\n",
       "      <td>9514</td>\n",
       "      <td>9514</td>\n",
       "      <td>10260</td>\n",
       "      <td>10260</td>\n",
       "      <td>10244</td>\n",
       "      <td>10260</td>\n",
       "    </tr>\n",
       "    <tr>\n",
       "      <th>IN2P3-CC_MCORE</th>\n",
       "      <td>18841</td>\n",
       "      <td>18847</td>\n",
       "      <td>18872</td>\n",
       "      <td>18872</td>\n",
       "      <td>18872</td>\n",
       "      <td>18872</td>\n",
       "      <td>18872</td>\n",
       "      <td>18805</td>\n",
       "      <td>18805</td>\n",
       "      <td>18872</td>\n",
       "      <td>18872</td>\n",
       "      <td>18842</td>\n",
       "      <td>18872</td>\n",
       "    </tr>\n",
       "    <tr>\n",
       "      <th>IN2P3-CC_MCORE_HIMEM</th>\n",
       "      <td>2443</td>\n",
       "      <td>2813</td>\n",
       "      <td>2813</td>\n",
       "      <td>2813</td>\n",
       "      <td>2813</td>\n",
       "      <td>2813</td>\n",
       "      <td>2813</td>\n",
       "      <td>2428</td>\n",
       "      <td>2428</td>\n",
       "      <td>2813</td>\n",
       "      <td>2813</td>\n",
       "      <td>2443</td>\n",
       "      <td>2813</td>\n",
       "    </tr>\n",
       "    <tr>\n",
       "      <th>IN2P3-CC_VVL</th>\n",
       "      <td>1669</td>\n",
       "      <td>1691</td>\n",
       "      <td>1691</td>\n",
       "      <td>1691</td>\n",
       "      <td>1691</td>\n",
       "      <td>1691</td>\n",
       "      <td>1691</td>\n",
       "      <td>1656</td>\n",
       "      <td>1656</td>\n",
       "      <td>1691</td>\n",
       "      <td>1691</td>\n",
       "      <td>1669</td>\n",
       "      <td>1691</td>\n",
       "    </tr>\n",
       "  </tbody>\n",
       "</table>\n",
       "</div>"
      ],
      "text/plain": [
       "                      batchid  computingelement  corecount  \\\n",
       "computingsite                                                \n",
       "ANALY_IN2P3-CC         209251            212852     206164   \n",
       "IN2P3-CC                63492            109897     109957   \n",
       "IN2P3-CC-T3_MCORE           0                 7          7   \n",
       "IN2P3-CC-T3_VM01         2074              2083       2080   \n",
       "IN2P3-CC-T3_VM02        10244             10260      10260   \n",
       "IN2P3-CC_MCORE          18841             18847      18872   \n",
       "IN2P3-CC_MCORE_HIMEM     2443              2813       2813   \n",
       "IN2P3-CC_VVL             1669              1691       1691   \n",
       "\n",
       "                      cpuconsumptiontime  creationtime  endtime  jobstatus  \\\n",
       "computingsite                                                                \n",
       "ANALY_IN2P3-CC                    212876        212876   212876     212876   \n",
       "IN2P3-CC                          109962        109962   109962     109962   \n",
       "IN2P3-CC-T3_MCORE                      7             7        7          7   \n",
       "IN2P3-CC-T3_VM01                    2083          2083     2083       2083   \n",
       "IN2P3-CC-T3_VM02                   10260         10260    10260      10260   \n",
       "IN2P3-CC_MCORE                     18872         18872    18872      18872   \n",
       "IN2P3-CC_MCORE_HIMEM                2813          2813     2813       2813   \n",
       "IN2P3-CC_VVL                        1691          1691     1691       1691   \n",
       "\n",
       "                      maxpss  maxrss  modificationhost  pandaid  starttime  \\\n",
       "computingsite                                                                \n",
       "ANALY_IN2P3-CC        201335  201335            212876   212876     209253   \n",
       "IN2P3-CC               60528   60528            109962   109962      63514   \n",
       "IN2P3-CC-T3_MCORE          0       0                 7        7          0   \n",
       "IN2P3-CC-T3_VM01        2056    2056              2083     2083       2074   \n",
       "IN2P3-CC-T3_VM02        9514    9514             10260    10260      10244   \n",
       "IN2P3-CC_MCORE         18805   18805             18872    18872      18842   \n",
       "IN2P3-CC_MCORE_HIMEM    2428    2428              2813     2813       2443   \n",
       "IN2P3-CC_VVL            1656    1656              1691     1691       1669   \n",
       "\n",
       "                      wall_time  \n",
       "computingsite                    \n",
       "ANALY_IN2P3-CC           212876  \n",
       "IN2P3-CC                 109962  \n",
       "IN2P3-CC-T3_MCORE             7  \n",
       "IN2P3-CC-T3_VM01           2083  \n",
       "IN2P3-CC-T3_VM02          10260  \n",
       "IN2P3-CC_MCORE            18872  \n",
       "IN2P3-CC_MCORE_HIMEM       2813  \n",
       "IN2P3-CC_VVL               1691  "
      ]
     },
     "execution_count": 13,
     "metadata": {},
     "output_type": "execute_result"
    }
   ],
   "source": [
    "dfu.groupby(dfu.computingsite).count()"
   ]
  },
  {
   "cell_type": "code",
   "execution_count": 14,
   "metadata": {
    "collapsed": false
   },
   "outputs": [],
   "source": [
    "\n",
    "\n",
    "#rint (res.get('hits').get('hits'))\n",
    "#list.head()\n",
    "#res[0]\n",
    "#res['total']"
   ]
  },
  {
   "cell_type": "code",
   "execution_count": 15,
   "metadata": {
    "collapsed": false
   },
   "outputs": [
    {
     "data": {
      "text/html": [
       "<div>\n",
       "<table border=\"1\" class=\"dataframe\">\n",
       "  <thead>\n",
       "    <tr style=\"text-align: right;\">\n",
       "      <th></th>\n",
       "      <th>batchid</th>\n",
       "      <th>computingelement</th>\n",
       "      <th>computingsite</th>\n",
       "      <th>corecount</th>\n",
       "      <th>cpuconsumptiontime</th>\n",
       "      <th>creationtime</th>\n",
       "      <th>endtime</th>\n",
       "      <th>jobstatus</th>\n",
       "      <th>maxpss</th>\n",
       "      <th>maxrss</th>\n",
       "      <th>modificationhost</th>\n",
       "      <th>pandaid</th>\n",
       "      <th>starttime</th>\n",
       "      <th>wall_time</th>\n",
       "    </tr>\n",
       "  </thead>\n",
       "  <tbody>\n",
       "    <tr>\n",
       "      <th>0</th>\n",
       "      <td>15461543</td>\n",
       "      <td>ANALY_IN2P3-CC</td>\n",
       "      <td>ANALY_IN2P3-CC</td>\n",
       "      <td>1.0</td>\n",
       "      <td>65</td>\n",
       "      <td>2016-09-11T00:11:55</td>\n",
       "      <td>2016-09-11T00:17:40</td>\n",
       "      <td>failed</td>\n",
       "      <td>699848.0</td>\n",
       "      <td>821480.0</td>\n",
       "      <td>ccwsge0015</td>\n",
       "      <td>2987965098</td>\n",
       "      <td>2016-09-11T00:14:31</td>\n",
       "      <td>189</td>\n",
       "    </tr>\n",
       "    <tr>\n",
       "      <th>1</th>\n",
       "      <td>15461657</td>\n",
       "      <td>ANALY_IN2P3-CC</td>\n",
       "      <td>ANALY_IN2P3-CC</td>\n",
       "      <td>1.0</td>\n",
       "      <td>61</td>\n",
       "      <td>2016-09-11T00:11:57</td>\n",
       "      <td>2016-09-11T00:16:41</td>\n",
       "      <td>failed</td>\n",
       "      <td>211210.0</td>\n",
       "      <td>302976.0</td>\n",
       "      <td>ccwsge0176</td>\n",
       "      <td>2987965102</td>\n",
       "      <td>2016-09-11T00:14:33</td>\n",
       "      <td>128</td>\n",
       "    </tr>\n",
       "    <tr>\n",
       "      <th>2</th>\n",
       "      <td>15458231</td>\n",
       "      <td>ANALY_IN2P3-CC</td>\n",
       "      <td>ANALY_IN2P3-CC</td>\n",
       "      <td>1.0</td>\n",
       "      <td>12</td>\n",
       "      <td>2016-09-10T16:52:11</td>\n",
       "      <td>2016-09-10T23:34:14</td>\n",
       "      <td>failed</td>\n",
       "      <td>193341.0</td>\n",
       "      <td>289284.0</td>\n",
       "      <td>ccwsge0187</td>\n",
       "      <td>2987670922</td>\n",
       "      <td>2016-09-10T22:41:59</td>\n",
       "      <td>3135</td>\n",
       "    </tr>\n",
       "    <tr>\n",
       "      <th>3</th>\n",
       "      <td>15458679</td>\n",
       "      <td>ANALY_IN2P3-CC</td>\n",
       "      <td>ANALY_IN2P3-CC</td>\n",
       "      <td>1.0</td>\n",
       "      <td>12</td>\n",
       "      <td>2016-09-10T16:52:11</td>\n",
       "      <td>2016-09-10T23:14:02</td>\n",
       "      <td>failed</td>\n",
       "      <td>192004.0</td>\n",
       "      <td>289400.0</td>\n",
       "      <td>ccwsge0005</td>\n",
       "      <td>2987670919</td>\n",
       "      <td>2016-09-10T22:41:58</td>\n",
       "      <td>1924</td>\n",
       "    </tr>\n",
       "    <tr>\n",
       "      <th>4</th>\n",
       "      <td>15459282</td>\n",
       "      <td>ANALY_IN2P3-CC</td>\n",
       "      <td>ANALY_IN2P3-CC</td>\n",
       "      <td>1.0</td>\n",
       "      <td>12</td>\n",
       "      <td>2016-09-10T16:52:14</td>\n",
       "      <td>2016-09-10T23:15:20</td>\n",
       "      <td>failed</td>\n",
       "      <td>171857.0</td>\n",
       "      <td>293168.0</td>\n",
       "      <td>ccwsge0184</td>\n",
       "      <td>2987671026</td>\n",
       "      <td>2016-09-10T22:43:29</td>\n",
       "      <td>1911</td>\n",
       "    </tr>\n",
       "  </tbody>\n",
       "</table>\n",
       "</div>"
      ],
      "text/plain": [
       "    batchid computingelement   computingsite  corecount  cpuconsumptiontime  \\\n",
       "0  15461543   ANALY_IN2P3-CC  ANALY_IN2P3-CC        1.0                  65   \n",
       "1  15461657   ANALY_IN2P3-CC  ANALY_IN2P3-CC        1.0                  61   \n",
       "2  15458231   ANALY_IN2P3-CC  ANALY_IN2P3-CC        1.0                  12   \n",
       "3  15458679   ANALY_IN2P3-CC  ANALY_IN2P3-CC        1.0                  12   \n",
       "4  15459282   ANALY_IN2P3-CC  ANALY_IN2P3-CC        1.0                  12   \n",
       "\n",
       "          creationtime              endtime jobstatus    maxpss    maxrss  \\\n",
       "0  2016-09-11T00:11:55  2016-09-11T00:17:40    failed  699848.0  821480.0   \n",
       "1  2016-09-11T00:11:57  2016-09-11T00:16:41    failed  211210.0  302976.0   \n",
       "2  2016-09-10T16:52:11  2016-09-10T23:34:14    failed  193341.0  289284.0   \n",
       "3  2016-09-10T16:52:11  2016-09-10T23:14:02    failed  192004.0  289400.0   \n",
       "4  2016-09-10T16:52:14  2016-09-10T23:15:20    failed  171857.0  293168.0   \n",
       "\n",
       "  modificationhost     pandaid            starttime  wall_time  \n",
       "0       ccwsge0015  2987965098  2016-09-11T00:14:31        189  \n",
       "1       ccwsge0176  2987965102  2016-09-11T00:14:33        128  \n",
       "2       ccwsge0187  2987670922  2016-09-10T22:41:59       3135  \n",
       "3       ccwsge0005  2987670919  2016-09-10T22:41:58       1924  \n",
       "4       ccwsge0184  2987671026  2016-09-10T22:43:29       1911  "
      ]
     },
     "execution_count": 15,
     "metadata": {},
     "output_type": "execute_result"
    }
   ],
   "source": [
    "dfu.head()"
   ]
  },
  {
   "cell_type": "code",
   "execution_count": 16,
   "metadata": {
    "collapsed": false
   },
   "outputs": [
    {
     "data": {
      "text/html": [
       "<div>\n",
       "<table border=\"1\" class=\"dataframe\">\n",
       "  <thead>\n",
       "    <tr style=\"text-align: right;\">\n",
       "      <th></th>\n",
       "      <th>batchid</th>\n",
       "      <th>computingelement</th>\n",
       "      <th>corecount</th>\n",
       "      <th>cpuconsumptiontime</th>\n",
       "      <th>creationtime</th>\n",
       "      <th>endtime</th>\n",
       "      <th>jobstatus</th>\n",
       "      <th>maxpss</th>\n",
       "      <th>maxrss</th>\n",
       "      <th>modificationhost</th>\n",
       "      <th>pandaid</th>\n",
       "      <th>starttime</th>\n",
       "      <th>wall_time</th>\n",
       "    </tr>\n",
       "    <tr>\n",
       "      <th>computingsite</th>\n",
       "      <th></th>\n",
       "      <th></th>\n",
       "      <th></th>\n",
       "      <th></th>\n",
       "      <th></th>\n",
       "      <th></th>\n",
       "      <th></th>\n",
       "      <th></th>\n",
       "      <th></th>\n",
       "      <th></th>\n",
       "      <th></th>\n",
       "      <th></th>\n",
       "      <th></th>\n",
       "    </tr>\n",
       "  </thead>\n",
       "  <tbody>\n",
       "    <tr>\n",
       "      <th>ANALY_IN2P3-CC</th>\n",
       "      <td>209251</td>\n",
       "      <td>212852</td>\n",
       "      <td>206164</td>\n",
       "      <td>212876</td>\n",
       "      <td>212876</td>\n",
       "      <td>212876</td>\n",
       "      <td>212876</td>\n",
       "      <td>201335</td>\n",
       "      <td>201335</td>\n",
       "      <td>212876</td>\n",
       "      <td>212876</td>\n",
       "      <td>209253</td>\n",
       "      <td>212876</td>\n",
       "    </tr>\n",
       "    <tr>\n",
       "      <th>IN2P3-CC</th>\n",
       "      <td>63492</td>\n",
       "      <td>109897</td>\n",
       "      <td>109957</td>\n",
       "      <td>109962</td>\n",
       "      <td>109962</td>\n",
       "      <td>109962</td>\n",
       "      <td>109962</td>\n",
       "      <td>60528</td>\n",
       "      <td>60528</td>\n",
       "      <td>109962</td>\n",
       "      <td>109962</td>\n",
       "      <td>63514</td>\n",
       "      <td>109962</td>\n",
       "    </tr>\n",
       "    <tr>\n",
       "      <th>IN2P3-CC-T3_MCORE</th>\n",
       "      <td>0</td>\n",
       "      <td>7</td>\n",
       "      <td>7</td>\n",
       "      <td>7</td>\n",
       "      <td>7</td>\n",
       "      <td>7</td>\n",
       "      <td>7</td>\n",
       "      <td>0</td>\n",
       "      <td>0</td>\n",
       "      <td>7</td>\n",
       "      <td>7</td>\n",
       "      <td>0</td>\n",
       "      <td>7</td>\n",
       "    </tr>\n",
       "    <tr>\n",
       "      <th>IN2P3-CC-T3_VM01</th>\n",
       "      <td>2074</td>\n",
       "      <td>2083</td>\n",
       "      <td>2080</td>\n",
       "      <td>2083</td>\n",
       "      <td>2083</td>\n",
       "      <td>2083</td>\n",
       "      <td>2083</td>\n",
       "      <td>2056</td>\n",
       "      <td>2056</td>\n",
       "      <td>2083</td>\n",
       "      <td>2083</td>\n",
       "      <td>2074</td>\n",
       "      <td>2083</td>\n",
       "    </tr>\n",
       "    <tr>\n",
       "      <th>IN2P3-CC-T3_VM02</th>\n",
       "      <td>10244</td>\n",
       "      <td>10260</td>\n",
       "      <td>10260</td>\n",
       "      <td>10260</td>\n",
       "      <td>10260</td>\n",
       "      <td>10260</td>\n",
       "      <td>10260</td>\n",
       "      <td>9514</td>\n",
       "      <td>9514</td>\n",
       "      <td>10260</td>\n",
       "      <td>10260</td>\n",
       "      <td>10244</td>\n",
       "      <td>10260</td>\n",
       "    </tr>\n",
       "    <tr>\n",
       "      <th>IN2P3-CC_MCORE</th>\n",
       "      <td>18841</td>\n",
       "      <td>18847</td>\n",
       "      <td>18872</td>\n",
       "      <td>18872</td>\n",
       "      <td>18872</td>\n",
       "      <td>18872</td>\n",
       "      <td>18872</td>\n",
       "      <td>18805</td>\n",
       "      <td>18805</td>\n",
       "      <td>18872</td>\n",
       "      <td>18872</td>\n",
       "      <td>18842</td>\n",
       "      <td>18872</td>\n",
       "    </tr>\n",
       "    <tr>\n",
       "      <th>IN2P3-CC_MCORE_HIMEM</th>\n",
       "      <td>2443</td>\n",
       "      <td>2813</td>\n",
       "      <td>2813</td>\n",
       "      <td>2813</td>\n",
       "      <td>2813</td>\n",
       "      <td>2813</td>\n",
       "      <td>2813</td>\n",
       "      <td>2428</td>\n",
       "      <td>2428</td>\n",
       "      <td>2813</td>\n",
       "      <td>2813</td>\n",
       "      <td>2443</td>\n",
       "      <td>2813</td>\n",
       "    </tr>\n",
       "    <tr>\n",
       "      <th>IN2P3-CC_VVL</th>\n",
       "      <td>1669</td>\n",
       "      <td>1691</td>\n",
       "      <td>1691</td>\n",
       "      <td>1691</td>\n",
       "      <td>1691</td>\n",
       "      <td>1691</td>\n",
       "      <td>1691</td>\n",
       "      <td>1656</td>\n",
       "      <td>1656</td>\n",
       "      <td>1691</td>\n",
       "      <td>1691</td>\n",
       "      <td>1669</td>\n",
       "      <td>1691</td>\n",
       "    </tr>\n",
       "  </tbody>\n",
       "</table>\n",
       "</div>"
      ],
      "text/plain": [
       "                      batchid  computingelement  corecount  \\\n",
       "computingsite                                                \n",
       "ANALY_IN2P3-CC         209251            212852     206164   \n",
       "IN2P3-CC                63492            109897     109957   \n",
       "IN2P3-CC-T3_MCORE           0                 7          7   \n",
       "IN2P3-CC-T3_VM01         2074              2083       2080   \n",
       "IN2P3-CC-T3_VM02        10244             10260      10260   \n",
       "IN2P3-CC_MCORE          18841             18847      18872   \n",
       "IN2P3-CC_MCORE_HIMEM     2443              2813       2813   \n",
       "IN2P3-CC_VVL             1669              1691       1691   \n",
       "\n",
       "                      cpuconsumptiontime  creationtime  endtime  jobstatus  \\\n",
       "computingsite                                                                \n",
       "ANALY_IN2P3-CC                    212876        212876   212876     212876   \n",
       "IN2P3-CC                          109962        109962   109962     109962   \n",
       "IN2P3-CC-T3_MCORE                      7             7        7          7   \n",
       "IN2P3-CC-T3_VM01                    2083          2083     2083       2083   \n",
       "IN2P3-CC-T3_VM02                   10260         10260    10260      10260   \n",
       "IN2P3-CC_MCORE                     18872         18872    18872      18872   \n",
       "IN2P3-CC_MCORE_HIMEM                2813          2813     2813       2813   \n",
       "IN2P3-CC_VVL                        1691          1691     1691       1691   \n",
       "\n",
       "                      maxpss  maxrss  modificationhost  pandaid  starttime  \\\n",
       "computingsite                                                                \n",
       "ANALY_IN2P3-CC        201335  201335            212876   212876     209253   \n",
       "IN2P3-CC               60528   60528            109962   109962      63514   \n",
       "IN2P3-CC-T3_MCORE          0       0                 7        7          0   \n",
       "IN2P3-CC-T3_VM01        2056    2056              2083     2083       2074   \n",
       "IN2P3-CC-T3_VM02        9514    9514             10260    10260      10244   \n",
       "IN2P3-CC_MCORE         18805   18805             18872    18872      18842   \n",
       "IN2P3-CC_MCORE_HIMEM    2428    2428              2813     2813       2443   \n",
       "IN2P3-CC_VVL            1656    1656              1691     1691       1669   \n",
       "\n",
       "                      wall_time  \n",
       "computingsite                    \n",
       "ANALY_IN2P3-CC           212876  \n",
       "IN2P3-CC                 109962  \n",
       "IN2P3-CC-T3_MCORE             7  \n",
       "IN2P3-CC-T3_VM01           2083  \n",
       "IN2P3-CC-T3_VM02          10260  \n",
       "IN2P3-CC_MCORE            18872  \n",
       "IN2P3-CC_MCORE_HIMEM       2813  \n",
       "IN2P3-CC_VVL               1691  "
      ]
     },
     "execution_count": 16,
     "metadata": {},
     "output_type": "execute_result"
    }
   ],
   "source": [
    " dfu.groupby(['computingsite']).count()"
   ]
  },
  {
   "cell_type": "code",
   "execution_count": 22,
   "metadata": {
    "collapsed": false
   },
   "outputs": [
    {
     "data": {
      "text/plain": [
       "<matplotlib.axes._subplots.AxesSubplot at 0x7fb96e9466d8>"
      ]
     },
     "execution_count": 22,
     "metadata": {},
     "output_type": "execute_result"
    },
    {
     "data": {
      "image/png": "[encoded data removed]",
      "text/plain": [
       "<matplotlib.figure.Figure at 0x7fb970155630>"
      ]
     },
     "metadata": {},
     "output_type": "display_data"
    }
   ],
   "source": [
    "b=dfu.maxpss/1024/1024\n",
    "b.hist(bins=100)"
   ]
  },
  {
   "cell_type": "code",
   "execution_count": 20,
   "metadata": {
    "collapsed": false
   },
   "outputs": [
    {
     "data": {
      "text/plain": [
       "Index                      80\n",
       "batchid               2868512\n",
       "computingelement      2868512\n",
       "computingsite         2868512\n",
       "corecount             2868512\n",
       "cpuconsumptiontime    2868512\n",
       "creationtime          2868512\n",
       "endtime               2868512\n",
       "jobstatus             2868512\n",
       "maxpss                2868512\n",
       "maxrss                2868512\n",
       "modificationhost      2868512\n",
       "pandaid               2868512\n",
       "starttime             2868512\n",
       "wall_time             2868512\n",
       "dtype: int64"
      ]
     },
     "execution_count": 20,
     "metadata": {},
     "output_type": "execute_result"
    }
   ],
   "source": [
    "dfu.memory_usage()"
   ]
  },
  {
   "cell_type": "code",
   "execution_count": 21,
   "metadata": {
    "collapsed": true
   },
   "outputs": [],
   "source": [
    "dfu.to_csv('./ev_example_11_16_sep2016.csv')"
   ]
  },
  {
   "cell_type": "code",
   "execution_count": null,
   "metadata": {
    "collapsed": true
   },
   "outputs": [],
   "source": []
  }
 ],
 "metadata": {
  "kernelspec": {
   "display_name": "Python 3",
   "language": "python",
   "name": "python3"
  },
  "language_info": {
   "codemirror_mode": {
    "name": "ipython",
    "version": 3
   },
   "file_extension": ".py",
   "mimetype": "text/x-python",
   "name": "python",
   "nbconvert_exporter": "python",
   "pygments_lexer": "ipython3",
   "version": "3.5.1"
  }
 },
 "nbformat": 4,
 "nbformat_minor": 0
}
