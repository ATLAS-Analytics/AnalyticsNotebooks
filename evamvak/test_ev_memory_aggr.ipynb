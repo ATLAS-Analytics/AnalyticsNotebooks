{
 "cells": [
  {
   "cell_type": "code",
   "execution_count": 1,
   "metadata": {
    "collapsed": true
   },
   "outputs": [],
   "source": [
    "import re\n",
    "import os \n",
    "import datetime\n",
    "from math import log\n",
    "import csv\n",
    "import pprint\n",
    "import math\n",
    "from collections import Counter\n",
    "import numpy as np\n",
    "import matplotlib.pyplot as plt\n",
    "from pandas import Series, DataFrame\n",
    "import pandas as pd\n",
    "from pandas.io.parsers import read_csv\n",
    "pd.set_option('max_colwidth',120)\n",
    "from elasticsearch import Elasticsearch, helpers\n",
    "from elasticsearch.helpers import scan\n",
    "from __future__ import division\n",
    "\n",
    "%matplotlib inline\n",
    "\n",
    "pp = pprint.PrettyPrinter()"
   ]
  },
  {
   "cell_type": "code",
   "execution_count": 2,
   "metadata": {
    "collapsed": true
   },
   "outputs": [],
   "source": [
    "#bashcommand='pwd'"
   ]
  },
  {
   "cell_type": "code",
   "execution_count": 3,
   "metadata": {
    "collapsed": false
   },
   "outputs": [],
   "source": [
    "es = Elasticsearch([{'host':'atlas-kibana.mwt2.org', 'port':9200}],timeout=10)"
   ]
  },
  {
   "cell_type": "code",
   "execution_count": 4,
   "metadata": {
    "collapsed": false
   },
   "outputs": [],
   "source": [
    "indices = es.cat.indices(index=['jobs_archive_2016-09-01','jobs_archive_2016-09-02','jobs_archive_2016-09-03'], h=\"index\", request_timeout=10).split('\\n')\n",
    "indices = sorted(indices)\n",
    "indices = [x.replace(\" \", \"\") for x in indices if x != '']"
   ]
  },
  {
   "cell_type": "code",
   "execution_count": 5,
   "metadata": {
    "collapsed": false
   },
   "outputs": [
    {
     "name": "stdout",
     "output_type": "stream",
     "text": [
      "['jobs_archive_2016-09-01', 'jobs_archive_2016-09-02', 'jobs_archive_2016-09-03']\n"
     ]
    }
   ],
   "source": [
    "print (indices)"
   ]
  },
  {
   "cell_type": "code",
   "execution_count": 48,
   "metadata": {
    "collapsed": false
   },
   "outputs": [
    {
     "name": "stdout",
     "output_type": "stream",
     "text": [
      "{'query': {'prefix': {'cloud': 'FR'}}, '_source': ['pandaid', 'batchid', 'computingsite', 'computingelement', 'corecount', 'creationtime', 'starttime', 'endtime', 'cpuconsumptiontime', 'wall_time', 'modificationhost', 'maxrss', 'maxpss', 'cloud']}\n"
     ]
    }
   ],
   "source": [
    "ss={\n",
    " \"query\": { \"prefix\": { \"cloud\": \"FR\" } \n",
    "}, \"_source\": [\"pandaid\",\"batchid\",\"computingsite\",\"computingelement\",\"corecount\",\"creationtime\",\"starttime\",\"endtime\",\n",
    "   \"cpuconsumptiontime\",\"wall_time\",\"modificationhost\",\"maxrss\",\"maxpss\",\"cloud\"]\n",
    "#    ,\"size\": 5\n",
    "    }\n",
    "\n",
    "\n",
    "\n",
    "#ss= {\"query\": { \"match_all\": {} },\"size\": 10000} \n",
    "print (ss)\n",
    "\n"
   ]
  },
  {
   "cell_type": "code",
   "execution_count": 7,
   "metadata": {
    "collapsed": false
   },
   "outputs": [],
   "source": [
    "#res = es.search(index='jobs_archive_2016-06-26', body=ss, filter_path=['hits.hits._source'],request_timeout=12000)"
   ]
  },
  {
   "cell_type": "code",
   "execution_count": null,
   "metadata": {
    "collapsed": false,
    "scrolled": true
   },
   "outputs": [],
   "source": [
    "res=es.search(index=indices, body=ss,request_timeout=12000)\n",
    "#print (res)\n",
    "len(res)\n",
    "#print (res)"
   ]
  },
  {
   "cell_type": "code",
   "execution_count": 9,
   "metadata": {
    "collapsed": false
   },
   "outputs": [],
   "source": [
    " #res.get('hits').get('hits')"
   ]
  },
  {
   "cell_type": "code",
   "execution_count": 56,
   "metadata": {
    "collapsed": false
   },
   "outputs": [],
   "source": [
    "scroll=scan(es,index=indices, query=ss,scroll=u'30m', raise_on_error=True, preserve_order=False, size=200000,request_timeout=300)"
   ]
  },
  {
   "cell_type": "code",
   "execution_count": null,
   "metadata": {
    "collapsed": false
   },
   "outputs": [],
   "source": [
    " "
   ]
  },
  {
   "cell_type": "code",
   "execution_count": 57,
   "metadata": {
    "collapsed": false
   },
   "outputs": [
    {
     "name": "stdout",
     "output_type": "stream",
     "text": [
      "278880\n"
     ]
    },
    {
     "data": {
      "text/html": [
       "<div>\n",
       "<table border=\"1\" class=\"dataframe\">\n",
       "  <thead>\n",
       "    <tr style=\"text-align: right;\">\n",
       "      <th></th>\n",
       "      <th>batchid</th>\n",
       "      <th>cloud</th>\n",
       "      <th>computingelement</th>\n",
       "      <th>computingsite</th>\n",
       "      <th>corecount</th>\n",
       "      <th>cpuconsumptiontime</th>\n",
       "      <th>creationtime</th>\n",
       "      <th>endtime</th>\n",
       "      <th>maxpss</th>\n",
       "      <th>maxrss</th>\n",
       "      <th>modificationhost</th>\n",
       "      <th>pandaid</th>\n",
       "      <th>starttime</th>\n",
       "      <th>wall_time</th>\n",
       "    </tr>\n",
       "  </thead>\n",
       "  <tbody>\n",
       "    <tr>\n",
       "      <th>0</th>\n",
       "      <td>14743154</td>\n",
       "      <td>FR</td>\n",
       "      <td>ANALY_IN2P3-CC</td>\n",
       "      <td>ANALY_IN2P3-CC</td>\n",
       "      <td>1.0</td>\n",
       "      <td>95</td>\n",
       "      <td>2016-08-31T23:32:47</td>\n",
       "      <td>2016-08-31T23:53:14</td>\n",
       "      <td>820102.0</td>\n",
       "      <td>833168.0</td>\n",
       "      <td>ccwsge0100</td>\n",
       "      <td>2974962901</td>\n",
       "      <td>2016-08-31T23:50:04</td>\n",
       "      <td>190</td>\n",
       "    </tr>\n",
       "    <tr>\n",
       "      <th>1</th>\n",
       "      <td>2103056.lcg-ce02.icepp.jp</td>\n",
       "      <td>FR</td>\n",
       "      <td>ANALY_TOKYO</td>\n",
       "      <td>ANALY_TOKYO</td>\n",
       "      <td>1.0</td>\n",
       "      <td>10158</td>\n",
       "      <td>2016-08-31T14:32:19</td>\n",
       "      <td>2016-08-31T23:53:26</td>\n",
       "      <td>2635311.0</td>\n",
       "      <td>2702544.0</td>\n",
       "      <td>lcg-wn05-10.icepp.jp</td>\n",
       "      <td>2974358569</td>\n",
       "      <td>2016-08-31T20:44:04</td>\n",
       "      <td>11362</td>\n",
       "    </tr>\n",
       "    <tr>\n",
       "      <th>2</th>\n",
       "      <td>grid30.lal.in2p3.fr#5535315.0#1472677876</td>\n",
       "      <td>FR</td>\n",
       "      <td>ANALY_GRIF-LAL_HTCondor</td>\n",
       "      <td>ANALY_GRIF-LAL_HTCondor</td>\n",
       "      <td>1.0</td>\n",
       "      <td>8923</td>\n",
       "      <td>2016-08-31T17:48:03</td>\n",
       "      <td>2016-08-31T23:53:20</td>\n",
       "      <td>250.0</td>\n",
       "      <td>1280.0</td>\n",
       "      <td>slot1_24@grid251.lal.in2p3.fr</td>\n",
       "      <td>2974636118</td>\n",
       "      <td>2016-08-31T21:20:41</td>\n",
       "      <td>9159</td>\n",
       "    </tr>\n",
       "    <tr>\n",
       "      <th>3</th>\n",
       "      <td>grid30.lal.in2p3.fr#5536356.0#1472684328</td>\n",
       "      <td>FR</td>\n",
       "      <td>ANALY_GRIF-LAL_HTCondor</td>\n",
       "      <td>ANALY_GRIF-LAL_HTCondor</td>\n",
       "      <td>1.0</td>\n",
       "      <td>2276</td>\n",
       "      <td>2016-08-31T22:28:01</td>\n",
       "      <td>2016-08-31T23:53:27</td>\n",
       "      <td>553.0</td>\n",
       "      <td>2224.0</td>\n",
       "      <td>slot1_27@grid237.lal.in2p3.fr</td>\n",
       "      <td>2974922410</td>\n",
       "      <td>2016-08-31T23:08:46</td>\n",
       "      <td>2681</td>\n",
       "    </tr>\n",
       "    <tr>\n",
       "      <th>4</th>\n",
       "      <td>2103090.lcg-ce02.icepp.jp</td>\n",
       "      <td>FR</td>\n",
       "      <td>ANALY_TOKYO</td>\n",
       "      <td>ANALY_TOKYO</td>\n",
       "      <td>1.0</td>\n",
       "      <td>10010</td>\n",
       "      <td>2016-08-31T14:33:35</td>\n",
       "      <td>2016-08-31T23:53:34</td>\n",
       "      <td>2614616.0</td>\n",
       "      <td>2687156.0</td>\n",
       "      <td>lcg-wn05-10.icepp.jp</td>\n",
       "      <td>2974359910</td>\n",
       "      <td>2016-08-31T20:47:11</td>\n",
       "      <td>11183</td>\n",
       "    </tr>\n",
       "  </tbody>\n",
       "</table>\n",
       "</div>"
      ],
      "text/plain": [
       "                                    batchid cloud         computingelement  \\\n",
       "0                                  14743154    FR           ANALY_IN2P3-CC   \n",
       "1                 2103056.lcg-ce02.icepp.jp    FR              ANALY_TOKYO   \n",
       "2  grid30.lal.in2p3.fr#5535315.0#1472677876    FR  ANALY_GRIF-LAL_HTCondor   \n",
       "3  grid30.lal.in2p3.fr#5536356.0#1472684328    FR  ANALY_GRIF-LAL_HTCondor   \n",
       "4                 2103090.lcg-ce02.icepp.jp    FR              ANALY_TOKYO   \n",
       "\n",
       "             computingsite  corecount  cpuconsumptiontime  \\\n",
       "0           ANALY_IN2P3-CC        1.0                  95   \n",
       "1              ANALY_TOKYO        1.0               10158   \n",
       "2  ANALY_GRIF-LAL_HTCondor        1.0                8923   \n",
       "3  ANALY_GRIF-LAL_HTCondor        1.0                2276   \n",
       "4              ANALY_TOKYO        1.0               10010   \n",
       "\n",
       "          creationtime              endtime     maxpss     maxrss  \\\n",
       "0  2016-08-31T23:32:47  2016-08-31T23:53:14   820102.0   833168.0   \n",
       "1  2016-08-31T14:32:19  2016-08-31T23:53:26  2635311.0  2702544.0   \n",
       "2  2016-08-31T17:48:03  2016-08-31T23:53:20      250.0     1280.0   \n",
       "3  2016-08-31T22:28:01  2016-08-31T23:53:27      553.0     2224.0   \n",
       "4  2016-08-31T14:33:35  2016-08-31T23:53:34  2614616.0  2687156.0   \n",
       "\n",
       "                modificationhost     pandaid            starttime  wall_time  \n",
       "0                     ccwsge0100  2974962901  2016-08-31T23:50:04        190  \n",
       "1           lcg-wn05-10.icepp.jp  2974358569  2016-08-31T20:44:04      11362  \n",
       "2  slot1_24@grid251.lal.in2p3.fr  2974636118  2016-08-31T21:20:41       9159  \n",
       "3  slot1_27@grid237.lal.in2p3.fr  2974922410  2016-08-31T23:08:46       2681  \n",
       "4           lcg-wn05-10.icepp.jp  2974359910  2016-08-31T20:47:11      11183  "
      ]
     },
     "execution_count": 57,
     "metadata": {},
     "output_type": "execute_result"
    }
   ],
   "source": [
    "c=1\n",
    "list2=[]\n",
    "for name in scroll:\n",
    " a=name.get('_source')\n",
    " list2.append(a)\n",
    " c=c+1\n",
    "print (c)\n",
    "type(list2)\n",
    "dfu = pd.DataFrame(list2)\n",
    " \n",
    "#dfu.batchid.count()\n",
    "dfu.head()\n",
    " \n",
    " "
   ]
  },
  {
   "cell_type": "code",
   "execution_count": 58,
   "metadata": {
    "collapsed": false
   },
   "outputs": [
    {
     "data": {
      "text/plain": [
       "computingelement\n",
       "ANALY_BEIJING                                                 6603\n",
       "ANALY_CPPM                                                   27751\n",
       "ANALY_GRIF-IRFU                                               4777\n",
       "ANALY_GRIF-LAL_HTCondor                                      24959\n",
       "ANALY_GRIF-LPNHE                                             17597\n",
       "ANALY_IN2P3-CC                                               74063\n",
       "ANALY_LAPP                                                    2962\n",
       "ANALY_LAPP_TEST                                                104\n",
       "ANALY_LPC                                                      952\n",
       "ANALY_LPSC                                                   13131\n",
       "ANALY_ROMANIA02                                               4210\n",
       "ANALY_ROMANIA07                                               5174\n",
       "ANALY_TOKYO                                                  53192\n",
       "ANALY_TOKYO_ARC                                              12494\n",
       "BEIJING-LCG2-creamce-atlas-lcgpbs                              793\n",
       "BEIJING-LCG2-creamce-atlasmcore-lcgpbs                           9\n",
       "GRIF-IRFU-node74-atlas-lcgpbs                                  628\n",
       "GRIF-IRFU_MCORE                                                 10\n",
       "GRIF-LAL_HTCondor                                              580\n",
       "GRIF-LAL_HTCondor_MCORE                                         10\n",
       "GRIF-LPNHE-lpnhe-cream-atlas-pbs                               436\n",
       "GRIF-LPNHE_MCORE                                                10\n",
       "IN2P3-CC-T3_VM01                                               778\n",
       "IN2P3-CC-T3_VM02                                               702\n",
       "IN2P3-CC-all-ce-sge-long                                       857\n",
       "IN2P3-CC_MCORE_HIMEM                                            10\n",
       "IN2P3-CC_VVL                                                   503\n",
       "IN2P3-CPPM-all-ce-atlas-pbs                                    451\n",
       "IN2P3-CPPM_MCORE                                                11\n",
       "IN2P3-LAPP-TEST                                                 78\n",
       "                                                             ...  \n",
       "RO-07-NIPNE-creamce07-atlasmcore                                 7\n",
       "RO-07-NIPNE_ARC                                                652\n",
       "RO-14-ITIM-cream-atlas-pbs                                     163\n",
       "RO-14-ITIM-cream-atlas-pbs_MCORE                                12\n",
       "RO-16-UAIC-cream-grid-atlas-lcgpbs                             464\n",
       "RO-16-UAIC-cream-grid-atlas-lcgpbs_MCORE                        12\n",
       "TOKYO-LCG2-all-ce-atlas-lcgpbs                                 639\n",
       "TOKYO-LCG2-all-ce-atlas-lcgpbs_ARC                             634\n",
       "TOKYO-LCG2-all-ce-atlas-lcgpbs_mcore                            10\n",
       "TOKYO-LCG2-all-ce-atlas-lcgpbs_mcore_ARC                        10\n",
       "baaf01.nipne.ro                                                767\n",
       "cccreamceli05.in2p3.fr                                           7\n",
       "cccreamceli07.in2p3.fr                                           8\n",
       "cce.ihep.ac.cn                                                  70\n",
       "ce-grid.grid.uaic.ro                                            12\n",
       "clrccece01.in2p3.fr                                             14\n",
       "ecream.itim-cj.ro                                               20\n",
       "grid36.lal.in2p3.fr                                            871\n",
       "lapp-ce01.in2p3.fr                                             715\n",
       "lcg-ce01.icepp.jp                                            13200\n",
       "lpnhe-cream.in2p3.fr                                            50\n",
       "lpsc-cream-ce.in2p3.fr                                         828\n",
       "lpsc-cream-ce.in2p3.fr,lpsc-ce2.in2p3.fr,lpsc-ce.in2p3.fr        3\n",
       "marcream01.in2p3.fr                                            139\n",
       "marcream02.in2p3.fr                                             14\n",
       "node74.datagrid.cea.fr                                          39\n",
       "tbat03.nipne.ro                                                  6\n",
       "tbit03.nipne.ro                                                 17\n",
       "tbit07.nipne.ro                                                 54\n",
       "to.be.set                                                     2594\n",
       "Name: computingelement, dtype: int64"
      ]
     },
     "execution_count": 58,
     "metadata": {},
     "output_type": "execute_result"
    }
   ],
   "source": [
    "dfu.groupby(dfu.computingelement).computingelement.count()"
   ]
  },
  {
   "cell_type": "code",
   "execution_count": 59,
   "metadata": {
    "collapsed": false
   },
   "outputs": [
    {
     "ename": "AttributeError",
     "evalue": "'DataFrame' object has no attribute 'jobstatus'",
     "output_type": "error",
     "traceback": [
      "\u001b[1;31m---------------------------------------------------------------------------\u001b[0m",
      "\u001b[1;31mAttributeError\u001b[0m                            Traceback (most recent call last)",
      "\u001b[1;32m<ipython-input-59-ff86bd37171e>\u001b[0m in \u001b[0;36m<module>\u001b[1;34m()\u001b[0m\n\u001b[1;32m----> 1\u001b[1;33m \u001b[0mdfu\u001b[0m\u001b[1;33m.\u001b[0m\u001b[0mgroupby\u001b[0m\u001b[1;33m(\u001b[0m\u001b[0mdfu\u001b[0m\u001b[1;33m.\u001b[0m\u001b[0mjobstatus\u001b[0m\u001b[1;33m)\u001b[0m\u001b[1;33m.\u001b[0m\u001b[0mjobstatus\u001b[0m\u001b[1;33m.\u001b[0m\u001b[0mcount\u001b[0m\u001b[1;33m(\u001b[0m\u001b[1;33m)\u001b[0m\u001b[1;33m\u001b[0m\u001b[0m\n\u001b[0m",
      "\u001b[1;32m/home/ivukotic/anaconda3/lib/python3.5/site-packages/pandas/core/generic.py\u001b[0m in \u001b[0;36m__getattr__\u001b[1;34m(self, name)\u001b[0m\n\u001b[0;32m   2667\u001b[0m             \u001b[1;32mif\u001b[0m \u001b[0mname\u001b[0m \u001b[1;32min\u001b[0m \u001b[0mself\u001b[0m\u001b[1;33m.\u001b[0m\u001b[0m_info_axis\u001b[0m\u001b[1;33m:\u001b[0m\u001b[1;33m\u001b[0m\u001b[0m\n\u001b[0;32m   2668\u001b[0m                 \u001b[1;32mreturn\u001b[0m \u001b[0mself\u001b[0m\u001b[1;33m[\u001b[0m\u001b[0mname\u001b[0m\u001b[1;33m]\u001b[0m\u001b[1;33m\u001b[0m\u001b[0m\n\u001b[1;32m-> 2669\u001b[1;33m             \u001b[1;32mreturn\u001b[0m \u001b[0mobject\u001b[0m\u001b[1;33m.\u001b[0m\u001b[0m__getattribute__\u001b[0m\u001b[1;33m(\u001b[0m\u001b[0mself\u001b[0m\u001b[1;33m,\u001b[0m \u001b[0mname\u001b[0m\u001b[1;33m)\u001b[0m\u001b[1;33m\u001b[0m\u001b[0m\n\u001b[0m\u001b[0;32m   2670\u001b[0m \u001b[1;33m\u001b[0m\u001b[0m\n\u001b[0;32m   2671\u001b[0m     \u001b[1;32mdef\u001b[0m \u001b[0m__setattr__\u001b[0m\u001b[1;33m(\u001b[0m\u001b[0mself\u001b[0m\u001b[1;33m,\u001b[0m \u001b[0mname\u001b[0m\u001b[1;33m,\u001b[0m \u001b[0mvalue\u001b[0m\u001b[1;33m)\u001b[0m\u001b[1;33m:\u001b[0m\u001b[1;33m\u001b[0m\u001b[0m\n",
      "\u001b[1;31mAttributeError\u001b[0m: 'DataFrame' object has no attribute 'jobstatus'"
     ]
    }
   ],
   "source": [
    "dfu.groupby(dfu.jobstatus).jobstatus.count()"
   ]
  },
  {
   "cell_type": "code",
   "execution_count": 14,
   "metadata": {
    "collapsed": false
   },
   "outputs": [
    {
     "data": {
      "text/html": [
       "<div>\n",
       "<table border=\"1\" class=\"dataframe\">\n",
       "  <thead>\n",
       "    <tr style=\"text-align: right;\">\n",
       "      <th></th>\n",
       "      <th>batchid</th>\n",
       "      <th>computingelement</th>\n",
       "      <th>corecount</th>\n",
       "      <th>cpuconsumptiontime</th>\n",
       "      <th>creationtime</th>\n",
       "      <th>endtime</th>\n",
       "      <th>jobstatus</th>\n",
       "      <th>maxpss</th>\n",
       "      <th>maxrss</th>\n",
       "      <th>modificationhost</th>\n",
       "      <th>pandaid</th>\n",
       "      <th>starttime</th>\n",
       "      <th>wall_time</th>\n",
       "    </tr>\n",
       "    <tr>\n",
       "      <th>computingsite</th>\n",
       "      <th></th>\n",
       "      <th></th>\n",
       "      <th></th>\n",
       "      <th></th>\n",
       "      <th></th>\n",
       "      <th></th>\n",
       "      <th></th>\n",
       "      <th></th>\n",
       "      <th></th>\n",
       "      <th></th>\n",
       "      <th></th>\n",
       "      <th></th>\n",
       "      <th></th>\n",
       "    </tr>\n",
       "  </thead>\n",
       "  <tbody>\n",
       "    <tr>\n",
       "      <th>IN2P3-CC</th>\n",
       "      <td>21835</td>\n",
       "      <td>25594</td>\n",
       "      <td>25612</td>\n",
       "      <td>25619</td>\n",
       "      <td>25619</td>\n",
       "      <td>25619</td>\n",
       "      <td>25619</td>\n",
       "      <td>21627</td>\n",
       "      <td>21627</td>\n",
       "      <td>25619</td>\n",
       "      <td>25619</td>\n",
       "      <td>21836</td>\n",
       "      <td>25619</td>\n",
       "    </tr>\n",
       "    <tr>\n",
       "      <th>IN2P3-CC-T3_MCORE</th>\n",
       "      <td>0</td>\n",
       "      <td>3</td>\n",
       "      <td>3</td>\n",
       "      <td>3</td>\n",
       "      <td>3</td>\n",
       "      <td>3</td>\n",
       "      <td>3</td>\n",
       "      <td>0</td>\n",
       "      <td>0</td>\n",
       "      <td>3</td>\n",
       "      <td>3</td>\n",
       "      <td>0</td>\n",
       "      <td>3</td>\n",
       "    </tr>\n",
       "    <tr>\n",
       "      <th>IN2P3-CC-T3_VM01</th>\n",
       "      <td>778</td>\n",
       "      <td>780</td>\n",
       "      <td>775</td>\n",
       "      <td>780</td>\n",
       "      <td>780</td>\n",
       "      <td>780</td>\n",
       "      <td>780</td>\n",
       "      <td>775</td>\n",
       "      <td>775</td>\n",
       "      <td>780</td>\n",
       "      <td>780</td>\n",
       "      <td>778</td>\n",
       "      <td>780</td>\n",
       "    </tr>\n",
       "    <tr>\n",
       "      <th>IN2P3-CC-T3_VM02</th>\n",
       "      <td>3896</td>\n",
       "      <td>3901</td>\n",
       "      <td>3901</td>\n",
       "      <td>3901</td>\n",
       "      <td>3901</td>\n",
       "      <td>3901</td>\n",
       "      <td>3901</td>\n",
       "      <td>3894</td>\n",
       "      <td>3894</td>\n",
       "      <td>3901</td>\n",
       "      <td>3901</td>\n",
       "      <td>3896</td>\n",
       "      <td>3901</td>\n",
       "    </tr>\n",
       "    <tr>\n",
       "      <th>IN2P3-CC_MCORE</th>\n",
       "      <td>10191</td>\n",
       "      <td>10191</td>\n",
       "      <td>10191</td>\n",
       "      <td>10191</td>\n",
       "      <td>10191</td>\n",
       "      <td>10191</td>\n",
       "      <td>10191</td>\n",
       "      <td>10186</td>\n",
       "      <td>10186</td>\n",
       "      <td>10191</td>\n",
       "      <td>10191</td>\n",
       "      <td>10191</td>\n",
       "      <td>10191</td>\n",
       "    </tr>\n",
       "    <tr>\n",
       "      <th>IN2P3-CC_MCORE_HIMEM</th>\n",
       "      <td>4873</td>\n",
       "      <td>4874</td>\n",
       "      <td>4874</td>\n",
       "      <td>4874</td>\n",
       "      <td>4874</td>\n",
       "      <td>4874</td>\n",
       "      <td>4874</td>\n",
       "      <td>4873</td>\n",
       "      <td>4873</td>\n",
       "      <td>4874</td>\n",
       "      <td>4874</td>\n",
       "      <td>4873</td>\n",
       "      <td>4874</td>\n",
       "    </tr>\n",
       "    <tr>\n",
       "      <th>IN2P3-CC_VVL</th>\n",
       "      <td>503</td>\n",
       "      <td>509</td>\n",
       "      <td>509</td>\n",
       "      <td>509</td>\n",
       "      <td>509</td>\n",
       "      <td>509</td>\n",
       "      <td>509</td>\n",
       "      <td>502</td>\n",
       "      <td>502</td>\n",
       "      <td>509</td>\n",
       "      <td>509</td>\n",
       "      <td>503</td>\n",
       "      <td>509</td>\n",
       "    </tr>\n",
       "  </tbody>\n",
       "</table>\n",
       "</div>"
      ],
      "text/plain": [
       "                      batchid  computingelement  corecount  \\\n",
       "computingsite                                                \n",
       "IN2P3-CC                21835             25594      25612   \n",
       "IN2P3-CC-T3_MCORE           0                 3          3   \n",
       "IN2P3-CC-T3_VM01          778               780        775   \n",
       "IN2P3-CC-T3_VM02         3896              3901       3901   \n",
       "IN2P3-CC_MCORE          10191             10191      10191   \n",
       "IN2P3-CC_MCORE_HIMEM     4873              4874       4874   \n",
       "IN2P3-CC_VVL              503               509        509   \n",
       "\n",
       "                      cpuconsumptiontime  creationtime  endtime  jobstatus  \\\n",
       "computingsite                                                                \n",
       "IN2P3-CC                           25619         25619    25619      25619   \n",
       "IN2P3-CC-T3_MCORE                      3             3        3          3   \n",
       "IN2P3-CC-T3_VM01                     780           780      780        780   \n",
       "IN2P3-CC-T3_VM02                    3901          3901     3901       3901   \n",
       "IN2P3-CC_MCORE                     10191         10191    10191      10191   \n",
       "IN2P3-CC_MCORE_HIMEM                4874          4874     4874       4874   \n",
       "IN2P3-CC_VVL                         509           509      509        509   \n",
       "\n",
       "                      maxpss  maxrss  modificationhost  pandaid  starttime  \\\n",
       "computingsite                                                                \n",
       "IN2P3-CC               21627   21627             25619    25619      21836   \n",
       "IN2P3-CC-T3_MCORE          0       0                 3        3          0   \n",
       "IN2P3-CC-T3_VM01         775     775               780      780        778   \n",
       "IN2P3-CC-T3_VM02        3894    3894              3901     3901       3896   \n",
       "IN2P3-CC_MCORE         10186   10186             10191    10191      10191   \n",
       "IN2P3-CC_MCORE_HIMEM    4873    4873              4874     4874       4873   \n",
       "IN2P3-CC_VVL             502     502               509      509        503   \n",
       "\n",
       "                      wall_time  \n",
       "computingsite                    \n",
       "IN2P3-CC                  25619  \n",
       "IN2P3-CC-T3_MCORE             3  \n",
       "IN2P3-CC-T3_VM01            780  \n",
       "IN2P3-CC-T3_VM02           3901  \n",
       "IN2P3-CC_MCORE            10191  \n",
       "IN2P3-CC_MCORE_HIMEM       4874  \n",
       "IN2P3-CC_VVL                509  "
      ]
     },
     "execution_count": 14,
     "metadata": {},
     "output_type": "execute_result"
    }
   ],
   "source": [
    "dfu.groupby(dfu.computingsite).count()"
   ]
  },
  {
   "cell_type": "code",
   "execution_count": 15,
   "metadata": {
    "collapsed": false
   },
   "outputs": [],
   "source": [
    "\n",
    "\n",
    "#rint (res.get('hits').get('hits'))\n",
    "#list.head()\n",
    "#res[0]\n",
    "#res['total']"
   ]
  },
  {
   "cell_type": "code",
   "execution_count": 25,
   "metadata": {
    "collapsed": false
   },
   "outputs": [
    {
     "data": {
      "text/html": [
       "<div>\n",
       "<table border=\"1\" class=\"dataframe\">\n",
       "  <thead>\n",
       "    <tr style=\"text-align: right;\">\n",
       "      <th></th>\n",
       "      <th>batchid</th>\n",
       "      <th>computingelement</th>\n",
       "      <th>computingsite</th>\n",
       "      <th>corecount</th>\n",
       "      <th>cpuconsumptiontime</th>\n",
       "      <th>creationtime</th>\n",
       "      <th>endtime</th>\n",
       "      <th>jobstatus</th>\n",
       "      <th>maxpss</th>\n",
       "      <th>maxrss</th>\n",
       "      <th>modificationhost</th>\n",
       "      <th>pandaid</th>\n",
       "      <th>starttime</th>\n",
       "      <th>wall_time</th>\n",
       "    </tr>\n",
       "  </thead>\n",
       "  <tbody>\n",
       "    <tr>\n",
       "      <th>0</th>\n",
       "      <td>14667749</td>\n",
       "      <td>IN2P3-CC-all-ce-sge-long</td>\n",
       "      <td>IN2P3-CC</td>\n",
       "      <td>1.0</td>\n",
       "      <td>4674</td>\n",
       "      <td>2016-08-31T05:38:47</td>\n",
       "      <td>2016-08-31T07:56:56</td>\n",
       "      <td>finished</td>\n",
       "      <td>1912114.0</td>\n",
       "      <td>1940432.0</td>\n",
       "      <td>ccwsge1128</td>\n",
       "      <td>2973873281</td>\n",
       "      <td>2016-08-31T06:34:45</td>\n",
       "      <td>4931</td>\n",
       "    </tr>\n",
       "    <tr>\n",
       "      <th>1</th>\n",
       "      <td>None</td>\n",
       "      <td>cccreamceli05.in2p3.fr</td>\n",
       "      <td>IN2P3-CC</td>\n",
       "      <td>1.0</td>\n",
       "      <td>0</td>\n",
       "      <td>2016-08-31T23:48:13</td>\n",
       "      <td>2016-09-01T00:00:31</td>\n",
       "      <td>closed</td>\n",
       "      <td>NaN</td>\n",
       "      <td>NaN</td>\n",
       "      <td>aipanda037.cern.ch</td>\n",
       "      <td>2974981224</td>\n",
       "      <td>None</td>\n",
       "      <td>0</td>\n",
       "    </tr>\n",
       "    <tr>\n",
       "      <th>2</th>\n",
       "      <td>None</td>\n",
       "      <td>cccreamceli05.in2p3.fr</td>\n",
       "      <td>IN2P3-CC</td>\n",
       "      <td>1.0</td>\n",
       "      <td>0</td>\n",
       "      <td>2016-08-31T23:48:13</td>\n",
       "      <td>2016-09-01T00:00:32</td>\n",
       "      <td>closed</td>\n",
       "      <td>NaN</td>\n",
       "      <td>NaN</td>\n",
       "      <td>aipanda037.cern.ch</td>\n",
       "      <td>2974981220</td>\n",
       "      <td>None</td>\n",
       "      <td>0</td>\n",
       "    </tr>\n",
       "    <tr>\n",
       "      <th>3</th>\n",
       "      <td>ccwlcgatlas05.in2p3.fr#39875.35#1472687213</td>\n",
       "      <td>IN2P3-CC-T3_VM02</td>\n",
       "      <td>IN2P3-CC-T3_VM02</td>\n",
       "      <td>1.0</td>\n",
       "      <td>95</td>\n",
       "      <td>2016-08-31T23:31:41</td>\n",
       "      <td>2016-08-31T23:57:20</td>\n",
       "      <td>finished</td>\n",
       "      <td>1208.0</td>\n",
       "      <td>1424.0</td>\n",
       "      <td>slot5@cloudatlas2-8a4ef933-83e1-4fad-99d8-397c17545d46</td>\n",
       "      <td>2974962300</td>\n",
       "      <td>2016-08-31T23:47:47</td>\n",
       "      <td>573</td>\n",
       "    </tr>\n",
       "    <tr>\n",
       "      <th>4</th>\n",
       "      <td>None</td>\n",
       "      <td>cccreamceli05.in2p3.fr</td>\n",
       "      <td>IN2P3-CC</td>\n",
       "      <td>1.0</td>\n",
       "      <td>0</td>\n",
       "      <td>2016-08-31T23:48:13</td>\n",
       "      <td>2016-09-01T00:02:24</td>\n",
       "      <td>closed</td>\n",
       "      <td>NaN</td>\n",
       "      <td>NaN</td>\n",
       "      <td>aipanda037.cern.ch</td>\n",
       "      <td>2974981226</td>\n",
       "      <td>None</td>\n",
       "      <td>0</td>\n",
       "    </tr>\n",
       "  </tbody>\n",
       "</table>\n",
       "</div>"
      ],
      "text/plain": [
       "                                      batchid          computingelement  \\\n",
       "0                                    14667749  IN2P3-CC-all-ce-sge-long   \n",
       "1                                        None    cccreamceli05.in2p3.fr   \n",
       "2                                        None    cccreamceli05.in2p3.fr   \n",
       "3  ccwlcgatlas05.in2p3.fr#39875.35#1472687213          IN2P3-CC-T3_VM02   \n",
       "4                                        None    cccreamceli05.in2p3.fr   \n",
       "\n",
       "      computingsite  corecount  cpuconsumptiontime         creationtime  \\\n",
       "0          IN2P3-CC        1.0                4674  2016-08-31T05:38:47   \n",
       "1          IN2P3-CC        1.0                   0  2016-08-31T23:48:13   \n",
       "2          IN2P3-CC        1.0                   0  2016-08-31T23:48:13   \n",
       "3  IN2P3-CC-T3_VM02        1.0                  95  2016-08-31T23:31:41   \n",
       "4          IN2P3-CC        1.0                   0  2016-08-31T23:48:13   \n",
       "\n",
       "               endtime jobstatus     maxpss     maxrss  \\\n",
       "0  2016-08-31T07:56:56  finished  1912114.0  1940432.0   \n",
       "1  2016-09-01T00:00:31    closed        NaN        NaN   \n",
       "2  2016-09-01T00:00:32    closed        NaN        NaN   \n",
       "3  2016-08-31T23:57:20  finished     1208.0     1424.0   \n",
       "4  2016-09-01T00:02:24    closed        NaN        NaN   \n",
       "\n",
       "                                         modificationhost     pandaid  \\\n",
       "0                                              ccwsge1128  2973873281   \n",
       "1                                      aipanda037.cern.ch  2974981224   \n",
       "2                                      aipanda037.cern.ch  2974981220   \n",
       "3  slot5@cloudatlas2-8a4ef933-83e1-4fad-99d8-397c17545d46  2974962300   \n",
       "4                                      aipanda037.cern.ch  2974981226   \n",
       "\n",
       "             starttime  wall_time  \n",
       "0  2016-08-31T06:34:45       4931  \n",
       "1                 None          0  \n",
       "2                 None          0  \n",
       "3  2016-08-31T23:47:47        573  \n",
       "4                 None          0  "
      ]
     },
     "execution_count": 25,
     "metadata": {},
     "output_type": "execute_result"
    }
   ],
   "source": [
    "dfu.head()"
   ]
  },
  {
   "cell_type": "code",
   "execution_count": 21,
   "metadata": {
    "collapsed": false
   },
   "outputs": [
    {
     "data": {
      "text/html": [
       "<div>\n",
       "<table border=\"1\" class=\"dataframe\">\n",
       "  <thead>\n",
       "    <tr style=\"text-align: right;\">\n",
       "      <th></th>\n",
       "      <th>batchid</th>\n",
       "      <th>computingelement</th>\n",
       "      <th>corecount</th>\n",
       "      <th>cpuconsumptiontime</th>\n",
       "      <th>creationtime</th>\n",
       "      <th>endtime</th>\n",
       "      <th>jobstatus</th>\n",
       "      <th>maxpss</th>\n",
       "      <th>maxrss</th>\n",
       "      <th>modificationhost</th>\n",
       "      <th>pandaid</th>\n",
       "      <th>starttime</th>\n",
       "      <th>wall_time</th>\n",
       "    </tr>\n",
       "    <tr>\n",
       "      <th>computingsite</th>\n",
       "      <th></th>\n",
       "      <th></th>\n",
       "      <th></th>\n",
       "      <th></th>\n",
       "      <th></th>\n",
       "      <th></th>\n",
       "      <th></th>\n",
       "      <th></th>\n",
       "      <th></th>\n",
       "      <th></th>\n",
       "      <th></th>\n",
       "      <th></th>\n",
       "      <th></th>\n",
       "    </tr>\n",
       "  </thead>\n",
       "  <tbody>\n",
       "    <tr>\n",
       "      <th>IN2P3-CC</th>\n",
       "      <td>21835</td>\n",
       "      <td>25594</td>\n",
       "      <td>25612</td>\n",
       "      <td>25619</td>\n",
       "      <td>25619</td>\n",
       "      <td>25619</td>\n",
       "      <td>25619</td>\n",
       "      <td>21627</td>\n",
       "      <td>21627</td>\n",
       "      <td>25619</td>\n",
       "      <td>25619</td>\n",
       "      <td>21836</td>\n",
       "      <td>25619</td>\n",
       "    </tr>\n",
       "    <tr>\n",
       "      <th>IN2P3-CC-T3_MCORE</th>\n",
       "      <td>0</td>\n",
       "      <td>3</td>\n",
       "      <td>3</td>\n",
       "      <td>3</td>\n",
       "      <td>3</td>\n",
       "      <td>3</td>\n",
       "      <td>3</td>\n",
       "      <td>0</td>\n",
       "      <td>0</td>\n",
       "      <td>3</td>\n",
       "      <td>3</td>\n",
       "      <td>0</td>\n",
       "      <td>3</td>\n",
       "    </tr>\n",
       "    <tr>\n",
       "      <th>IN2P3-CC-T3_VM01</th>\n",
       "      <td>778</td>\n",
       "      <td>780</td>\n",
       "      <td>775</td>\n",
       "      <td>780</td>\n",
       "      <td>780</td>\n",
       "      <td>780</td>\n",
       "      <td>780</td>\n",
       "      <td>775</td>\n",
       "      <td>775</td>\n",
       "      <td>780</td>\n",
       "      <td>780</td>\n",
       "      <td>778</td>\n",
       "      <td>780</td>\n",
       "    </tr>\n",
       "    <tr>\n",
       "      <th>IN2P3-CC-T3_VM02</th>\n",
       "      <td>3896</td>\n",
       "      <td>3901</td>\n",
       "      <td>3901</td>\n",
       "      <td>3901</td>\n",
       "      <td>3901</td>\n",
       "      <td>3901</td>\n",
       "      <td>3901</td>\n",
       "      <td>3894</td>\n",
       "      <td>3894</td>\n",
       "      <td>3901</td>\n",
       "      <td>3901</td>\n",
       "      <td>3896</td>\n",
       "      <td>3901</td>\n",
       "    </tr>\n",
       "    <tr>\n",
       "      <th>IN2P3-CC_MCORE</th>\n",
       "      <td>10191</td>\n",
       "      <td>10191</td>\n",
       "      <td>10191</td>\n",
       "      <td>10191</td>\n",
       "      <td>10191</td>\n",
       "      <td>10191</td>\n",
       "      <td>10191</td>\n",
       "      <td>10186</td>\n",
       "      <td>10186</td>\n",
       "      <td>10191</td>\n",
       "      <td>10191</td>\n",
       "      <td>10191</td>\n",
       "      <td>10191</td>\n",
       "    </tr>\n",
       "    <tr>\n",
       "      <th>IN2P3-CC_MCORE_HIMEM</th>\n",
       "      <td>4873</td>\n",
       "      <td>4874</td>\n",
       "      <td>4874</td>\n",
       "      <td>4874</td>\n",
       "      <td>4874</td>\n",
       "      <td>4874</td>\n",
       "      <td>4874</td>\n",
       "      <td>4873</td>\n",
       "      <td>4873</td>\n",
       "      <td>4874</td>\n",
       "      <td>4874</td>\n",
       "      <td>4873</td>\n",
       "      <td>4874</td>\n",
       "    </tr>\n",
       "    <tr>\n",
       "      <th>IN2P3-CC_VVL</th>\n",
       "      <td>503</td>\n",
       "      <td>509</td>\n",
       "      <td>509</td>\n",
       "      <td>509</td>\n",
       "      <td>509</td>\n",
       "      <td>509</td>\n",
       "      <td>509</td>\n",
       "      <td>502</td>\n",
       "      <td>502</td>\n",
       "      <td>509</td>\n",
       "      <td>509</td>\n",
       "      <td>503</td>\n",
       "      <td>509</td>\n",
       "    </tr>\n",
       "  </tbody>\n",
       "</table>\n",
       "</div>"
      ],
      "text/plain": [
       "                      batchid  computingelement  corecount  \\\n",
       "computingsite                                                \n",
       "IN2P3-CC                21835             25594      25612   \n",
       "IN2P3-CC-T3_MCORE           0                 3          3   \n",
       "IN2P3-CC-T3_VM01          778               780        775   \n",
       "IN2P3-CC-T3_VM02         3896              3901       3901   \n",
       "IN2P3-CC_MCORE          10191             10191      10191   \n",
       "IN2P3-CC_MCORE_HIMEM     4873              4874       4874   \n",
       "IN2P3-CC_VVL              503               509        509   \n",
       "\n",
       "                      cpuconsumptiontime  creationtime  endtime  jobstatus  \\\n",
       "computingsite                                                                \n",
       "IN2P3-CC                           25619         25619    25619      25619   \n",
       "IN2P3-CC-T3_MCORE                      3             3        3          3   \n",
       "IN2P3-CC-T3_VM01                     780           780      780        780   \n",
       "IN2P3-CC-T3_VM02                    3901          3901     3901       3901   \n",
       "IN2P3-CC_MCORE                     10191         10191    10191      10191   \n",
       "IN2P3-CC_MCORE_HIMEM                4874          4874     4874       4874   \n",
       "IN2P3-CC_VVL                         509           509      509        509   \n",
       "\n",
       "                      maxpss  maxrss  modificationhost  pandaid  starttime  \\\n",
       "computingsite                                                                \n",
       "IN2P3-CC               21627   21627             25619    25619      21836   \n",
       "IN2P3-CC-T3_MCORE          0       0                 3        3          0   \n",
       "IN2P3-CC-T3_VM01         775     775               780      780        778   \n",
       "IN2P3-CC-T3_VM02        3894    3894              3901     3901       3896   \n",
       "IN2P3-CC_MCORE         10186   10186             10191    10191      10191   \n",
       "IN2P3-CC_MCORE_HIMEM    4873    4873              4874     4874       4873   \n",
       "IN2P3-CC_VVL             502     502               509      509        503   \n",
       "\n",
       "                      wall_time  \n",
       "computingsite                    \n",
       "IN2P3-CC                  25619  \n",
       "IN2P3-CC-T3_MCORE             3  \n",
       "IN2P3-CC-T3_VM01            780  \n",
       "IN2P3-CC-T3_VM02           3901  \n",
       "IN2P3-CC_MCORE            10191  \n",
       "IN2P3-CC_MCORE_HIMEM       4874  \n",
       "IN2P3-CC_VVL                509  "
      ]
     },
     "execution_count": 21,
     "metadata": {},
     "output_type": "execute_result"
    }
   ],
   "source": [
    " dfu.groupby(['computingsite']).count()"
   ]
  },
  {
   "cell_type": "code",
   "execution_count": 73,
   "metadata": {
    "collapsed": false
   },
   "outputs": [
    {
     "data": {
      "text/plain": [
       "<matplotlib.axes._subplots.AxesSubplot at 0x7f63292f14a8>"
      ]
     },
     "execution_count": 73,
     "metadata": {},
     "output_type": "execute_result"
    },
    {
     "data": {
      "image/png": "[encoded data removed]",
      "text/plain": [
       "<matplotlib.figure.Figure at 0x7f6328d90f98>"
      ]
     },
     "metadata": {},
     "output_type": "display_data"
    }
   ],
   "source": [
    "b=dfu.maxpss/1024/1024\n",
    "b.hist(bins=100)"
   ]
  },
  {
   "cell_type": "code",
   "execution_count": 23,
   "metadata": {
    "collapsed": false
   },
   "outputs": [
    {
     "data": {
      "text/plain": [
       "Index                     80\n",
       "batchid               367016\n",
       "computingelement      367016\n",
       "computingsite         367016\n",
       "corecount             367016\n",
       "cpuconsumptiontime    367016\n",
       "creationtime          367016\n",
       "endtime               367016\n",
       "jobstatus             367016\n",
       "maxpss                367016\n",
       "maxrss                367016\n",
       "modificationhost      367016\n",
       "pandaid               367016\n",
       "starttime             367016\n",
       "wall_time             367016\n",
       "dtype: int64"
      ]
     },
     "execution_count": 23,
     "metadata": {},
     "output_type": "execute_result"
    }
   ],
   "source": [
    "dfu.memory_usage()"
   ]
  },
  {
   "cell_type": "code",
   "execution_count": 62,
   "metadata": {
    "collapsed": true
   },
   "outputs": [],
   "source": [
    "dfu.maxpss=dfu.maxpss/1024"
   ]
  },
  {
   "cell_type": "code",
   "execution_count": 72,
   "metadata": {
    "collapsed": false
   },
   "outputs": [
    {
     "ename": "AttributeError",
     "evalue": "'SeriesGroupBy' object has no attribute 'maxpss'",
     "output_type": "error",
     "traceback": [
      "\u001b[1;31m---------------------------------------------------------------------------\u001b[0m",
      "\u001b[1;31mAttributeError\u001b[0m                            Traceback (most recent call last)",
      "\u001b[1;32m<ipython-input-72-4295a1de11c3>\u001b[0m in \u001b[0;36m<module>\u001b[1;34m()\u001b[0m\n\u001b[0;32m      1\u001b[0m \u001b[1;31m#ppp=dfu.groupby(['computingsite']).maxpss\u001b[0m\u001b[1;33m\u001b[0m\u001b[1;33m\u001b[0m\u001b[0m\n\u001b[1;32m----> 2\u001b[1;33m \u001b[0mx\u001b[0m\u001b[1;33m=\u001b[0m\u001b[0mppp\u001b[0m\u001b[1;33m.\u001b[0m\u001b[0mmaxpss\u001b[0m\u001b[1;33m.\u001b[0m\u001b[0mplot\u001b[0m\u001b[1;33m.\u001b[0m\u001b[0mhist\u001b[0m\u001b[1;33m(\u001b[0m\u001b[1;33m)\u001b[0m\u001b[1;33m\u001b[0m\u001b[0m\n\u001b[0m",
      "\u001b[1;32m/home/ivukotic/anaconda3/lib/python3.5/site-packages/pandas/core/groupby.py\u001b[0m in \u001b[0;36m__getattr__\u001b[1;34m(self, attr)\u001b[0m\n\u001b[0;32m    485\u001b[0m \u001b[1;33m\u001b[0m\u001b[0m\n\u001b[0;32m    486\u001b[0m         raise AttributeError(\"%r object has no attribute %r\" %\n\u001b[1;32m--> 487\u001b[1;33m                              (type(self).__name__, attr))\n\u001b[0m\u001b[0;32m    488\u001b[0m \u001b[1;33m\u001b[0m\u001b[0m\n\u001b[0;32m    489\u001b[0m     \u001b[0mplot\u001b[0m \u001b[1;33m=\u001b[0m \u001b[0mproperty\u001b[0m\u001b[1;33m(\u001b[0m\u001b[0mGroupByPlot\u001b[0m\u001b[1;33m)\u001b[0m\u001b[1;33m\u001b[0m\u001b[0m\n",
      "\u001b[1;31mAttributeError\u001b[0m: 'SeriesGroupBy' object has no attribute 'maxpss'"
     ]
    }
   ],
   "source": [
    "#ppp=dfu.groupby(['computingsite']).maxpss\n",
    "x=ppp.maxpss.plot.hist()"
   ]
  },
  {
   "cell_type": "code",
   "execution_count": null,
   "metadata": {
    "collapsed": true
   },
   "outputs": [],
   "source": []
  },
  {
   "cell_type": "code",
   "execution_count": 20,
   "metadata": {
    "collapsed": true
   },
   "outputs": [],
   "source": [
    "#dfu.to_csv('./ev_example_mem_all.csv')"
   ]
  },
  {
   "cell_type": "code",
   "execution_count": null,
   "metadata": {
    "collapsed": true
   },
   "outputs": [],
   "source": []
  }
 ],
 "metadata": {
  "kernelspec": {
   "display_name": "Python 3",
   "language": "python",
   "name": "python3"
  },
  "language_info": {
   "codemirror_mode": {
    "name": "ipython",
    "version": 3
   },
   "file_extension": ".py",
   "mimetype": "text/x-python",
   "name": "python",
   "nbconvert_exporter": "python",
   "pygments_lexer": "ipython3",
   "version": "3.5.1"
  }
 },
 "nbformat": 4,
 "nbformat_minor": 0
}
