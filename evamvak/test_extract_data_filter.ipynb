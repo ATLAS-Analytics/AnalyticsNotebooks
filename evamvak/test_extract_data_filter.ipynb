{
 "cells": [
  {
   "cell_type": "code",
   "execution_count": 1,
   "metadata": {
    "collapsed": true
   },
   "outputs": [],
   "source": [
    "import re\n",
    "import os \n",
    "import datetime\n",
    "from math import log\n",
    "import csv\n",
    "import pprint\n",
    "import math\n",
    "from collections import Counter\n",
    "import numpy as np\n",
    "import matplotlib.pyplot as plt\n",
    "from pandas import Series, DataFrame\n",
    "import pandas as pd\n",
    "from pandas.io.parsers import read_csv\n",
    "pd.set_option('max_colwidth',120)\n",
    "from elasticsearch import Elasticsearch, helpers\n",
    "from elasticsearch.helpers import scan\n",
    "from __future__ import division\n",
    "\n",
    "%matplotlib inline\n",
    "\n",
    "pp = pprint.PrettyPrinter()"
   ]
  },
  {
   "cell_type": "code",
   "execution_count": 2,
   "metadata": {
    "collapsed": true
   },
   "outputs": [],
   "source": [
    "#bashcommand='pwd'"
   ]
  },
  {
   "cell_type": "code",
   "execution_count": 3,
   "metadata": {
    "collapsed": false
   },
   "outputs": [],
   "source": [
    "es = Elasticsearch([{'host':'atlas-kibana.mwt2.org', 'port':9200}],timeout=10)"
   ]
  },
  {
   "cell_type": "code",
   "execution_count": 4,
   "metadata": {
    "collapsed": false
   },
   "outputs": [],
   "source": [
    "indices = es.cat.indices(index=['jobs_archive_2016-05-14','jobs_archive_2016-05-15','jobs_archive_2016-05-16'], h=\"index\", request_timeout=10).split('\\n')\n",
    "indices = sorted(indices)\n",
    "indices = [x.replace(\" \", \"\") for x in indices if x != '']"
   ]
  },
  {
   "cell_type": "code",
   "execution_count": 5,
   "metadata": {
    "collapsed": false
   },
   "outputs": [
    {
     "name": "stdout",
     "output_type": "stream",
     "text": [
      "['jobs_archive_2016-05-14', 'jobs_archive_2016-05-15', 'jobs_archive_2016-05-16']\n"
     ]
    }
   ],
   "source": [
    "print (indices)"
   ]
  },
  {
   "cell_type": "code",
   "execution_count": 6,
   "metadata": {
    "collapsed": false
   },
   "outputs": [
    {
     "name": "stdout",
     "output_type": "stream",
     "text": [
      "{'_source': ['pandaid', 'batchid', 'computingsite', 'computingelement', 'corecount', 'creationtime', 'starttime', 'endtime', 'cpuconsumptiontime', 'wall_time', 'modificationhost', 'maxrss', 'maxpss'], 'query': {'prefix': {'computingsite': 'IN2P3-CC'}}}\n"
     ]
    }
   ],
   "source": [
    "ss={\n",
    " \"query\": { \"prefix\": { \"computingsite\": \"IN2P3-CC\" } \n",
    "}, \"_source\": [\"pandaid\",\"batchid\",\"computingsite\",\"computingelement\",\"corecount\",\"creationtime\",\"starttime\",\"endtime\",\n",
    "   \"cpuconsumptiontime\",\"wall_time\",\"modificationhost\",\"maxrss\",\"maxpss\"]\n",
    "#    ,\"size\": 5\n",
    "    }\n",
    "\n",
    "\n",
    "\n",
    "#ss= {\"query\": { \"match_all\": {} },\"size\": 10000} \n",
    "print (ss)\n",
    "\n"
   ]
  },
  {
   "cell_type": "code",
   "execution_count": 7,
   "metadata": {
    "collapsed": false
   },
   "outputs": [],
   "source": [
    "#res = es.search(index='jobs_archive_2016-06-26', body=ss, filter_path=['hits.hits._source'],request_timeout=12000)"
   ]
  },
  {
   "cell_type": "code",
   "execution_count": 8,
   "metadata": {
    "collapsed": false,
    "scrolled": true
   },
   "outputs": [
    {
     "data": {
      "text/plain": [
       "4"
      ]
     },
     "execution_count": 8,
     "metadata": {},
     "output_type": "execute_result"
    }
   ],
   "source": [
    "res=es.search(index=indices, body=ss,request_timeout=12000)\n",
    "#print (res)\n",
    "len(res)\n",
    "#print (res)"
   ]
  },
  {
   "cell_type": "code",
   "execution_count": 9,
   "metadata": {
    "collapsed": false
   },
   "outputs": [],
   "source": [
    " #res.get('hits').get('hits')"
   ]
  },
  {
   "cell_type": "code",
   "execution_count": 10,
   "metadata": {
    "collapsed": false
   },
   "outputs": [],
   "source": [
    "scroll=scan(es,index=indices, query=ss,scroll=u'30m', raise_on_error=True, preserve_order=False, size=200000,request_timeout=300)"
   ]
  },
  {
   "cell_type": "code",
   "execution_count": null,
   "metadata": {
    "collapsed": false
   },
   "outputs": [],
   "source": [
    " "
   ]
  },
  {
   "cell_type": "code",
   "execution_count": 11,
   "metadata": {
    "collapsed": false
   },
   "outputs": [
    {
     "name": "stdout",
     "output_type": "stream",
     "text": [
      "52398\n"
     ]
    },
    {
     "data": {
      "text/html": [
       "<div>\n",
       "<table border=\"1\" class=\"dataframe\">\n",
       "  <thead>\n",
       "    <tr style=\"text-align: right;\">\n",
       "      <th></th>\n",
       "      <th>batchid</th>\n",
       "      <th>computingelement</th>\n",
       "      <th>computingsite</th>\n",
       "      <th>corecount</th>\n",
       "      <th>cpuconsumptiontime</th>\n",
       "      <th>creationtime</th>\n",
       "      <th>endtime</th>\n",
       "      <th>maxpss</th>\n",
       "      <th>maxrss</th>\n",
       "      <th>modificationhost</th>\n",
       "      <th>pandaid</th>\n",
       "      <th>starttime</th>\n",
       "      <th>wall_time</th>\n",
       "    </tr>\n",
       "  </thead>\n",
       "  <tbody>\n",
       "    <tr>\n",
       "      <th>0</th>\n",
       "      <td>6306615</td>\n",
       "      <td>IN2P3-CC-all-ce-sge-long</td>\n",
       "      <td>IN2P3-CC</td>\n",
       "      <td>1.0</td>\n",
       "      <td>11720</td>\n",
       "      <td>2016-05-13T16:24:10</td>\n",
       "      <td>2016-05-13T22:35:13</td>\n",
       "      <td>1879236.0</td>\n",
       "      <td>1898340.0</td>\n",
       "      <td>ccwsge0225</td>\n",
       "      <td>2856870195</td>\n",
       "      <td>2016-05-13T19:13:05</td>\n",
       "      <td>12128</td>\n",
       "    </tr>\n",
       "    <tr>\n",
       "      <th>1</th>\n",
       "      <td>6307078</td>\n",
       "      <td>IN2P3-CC-all-ce-sge-long</td>\n",
       "      <td>IN2P3-CC</td>\n",
       "      <td>1.0</td>\n",
       "      <td>11397</td>\n",
       "      <td>2016-05-13T16:24:10</td>\n",
       "      <td>2016-05-13T22:31:56</td>\n",
       "      <td>1942034.0</td>\n",
       "      <td>2013896.0</td>\n",
       "      <td>ccwsge0696</td>\n",
       "      <td>2856870201</td>\n",
       "      <td>2016-05-13T19:14:03</td>\n",
       "      <td>11873</td>\n",
       "    </tr>\n",
       "    <tr>\n",
       "      <th>2</th>\n",
       "      <td>6324251</td>\n",
       "      <td>IN2P3-CC-all-ce-sge-long</td>\n",
       "      <td>IN2P3-CC</td>\n",
       "      <td>1.0</td>\n",
       "      <td>1465</td>\n",
       "      <td>2016-05-13T22:48:34</td>\n",
       "      <td>2016-05-13T23:18:41</td>\n",
       "      <td>1513591.0</td>\n",
       "      <td>1529472.0</td>\n",
       "      <td>ccwsge0805</td>\n",
       "      <td>2857222768</td>\n",
       "      <td>2016-05-13T22:49:46</td>\n",
       "      <td>1735</td>\n",
       "    </tr>\n",
       "    <tr>\n",
       "      <th>3</th>\n",
       "      <td>6307264</td>\n",
       "      <td>IN2P3-CC-all-ce-sge-long</td>\n",
       "      <td>IN2P3-CC</td>\n",
       "      <td>1.0</td>\n",
       "      <td>11381</td>\n",
       "      <td>2016-05-13T16:24:10</td>\n",
       "      <td>2016-05-13T22:31:47</td>\n",
       "      <td>1898791.0</td>\n",
       "      <td>1920312.0</td>\n",
       "      <td>ccwsge0253</td>\n",
       "      <td>2856870200</td>\n",
       "      <td>2016-05-13T19:14:02</td>\n",
       "      <td>11865</td>\n",
       "    </tr>\n",
       "    <tr>\n",
       "      <th>4</th>\n",
       "      <td>6294212</td>\n",
       "      <td>IN2P3-CC-all-ce-sge-long</td>\n",
       "      <td>IN2P3-CC</td>\n",
       "      <td>1.0</td>\n",
       "      <td>9636</td>\n",
       "      <td>2016-05-13T16:24:11</td>\n",
       "      <td>2016-05-13T19:48:43</td>\n",
       "      <td>1994656.0</td>\n",
       "      <td>2010472.0</td>\n",
       "      <td>ccwsge0809</td>\n",
       "      <td>2856870229</td>\n",
       "      <td>2016-05-13T17:01:41</td>\n",
       "      <td>10022</td>\n",
       "    </tr>\n",
       "  </tbody>\n",
       "</table>\n",
       "</div>"
      ],
      "text/plain": [
       "   batchid          computingelement computingsite  corecount  \\\n",
       "0  6306615  IN2P3-CC-all-ce-sge-long      IN2P3-CC        1.0   \n",
       "1  6307078  IN2P3-CC-all-ce-sge-long      IN2P3-CC        1.0   \n",
       "2  6324251  IN2P3-CC-all-ce-sge-long      IN2P3-CC        1.0   \n",
       "3  6307264  IN2P3-CC-all-ce-sge-long      IN2P3-CC        1.0   \n",
       "4  6294212  IN2P3-CC-all-ce-sge-long      IN2P3-CC        1.0   \n",
       "\n",
       "   cpuconsumptiontime         creationtime              endtime     maxpss  \\\n",
       "0               11720  2016-05-13T16:24:10  2016-05-13T22:35:13  1879236.0   \n",
       "1               11397  2016-05-13T16:24:10  2016-05-13T22:31:56  1942034.0   \n",
       "2                1465  2016-05-13T22:48:34  2016-05-13T23:18:41  1513591.0   \n",
       "3               11381  2016-05-13T16:24:10  2016-05-13T22:31:47  1898791.0   \n",
       "4                9636  2016-05-13T16:24:11  2016-05-13T19:48:43  1994656.0   \n",
       "\n",
       "      maxrss modificationhost     pandaid            starttime  wall_time  \n",
       "0  1898340.0       ccwsge0225  2856870195  2016-05-13T19:13:05      12128  \n",
       "1  2013896.0       ccwsge0696  2856870201  2016-05-13T19:14:03      11873  \n",
       "2  1529472.0       ccwsge0805  2857222768  2016-05-13T22:49:46       1735  \n",
       "3  1920312.0       ccwsge0253  2856870200  2016-05-13T19:14:02      11865  \n",
       "4  2010472.0       ccwsge0809  2856870229  2016-05-13T17:01:41      10022  "
      ]
     },
     "execution_count": 11,
     "metadata": {},
     "output_type": "execute_result"
    }
   ],
   "source": [
    "c=1\n",
    "list2=[]\n",
    "for name in scroll:\n",
    " a=name.get('_source')\n",
    " list2.append(a)\n",
    " c=c+1\n",
    "print (c)\n",
    "type(list2)\n",
    "dfu = pd.DataFrame(list2)\n",
    " \n",
    "#dfu.batchid.count()\n",
    "dfu.head()\n",
    " \n",
    " "
   ]
  },
  {
   "cell_type": "code",
   "execution_count": 12,
   "metadata": {
    "collapsed": false
   },
   "outputs": [
    {
     "data": {
      "text/plain": [
       "computingelement\n",
       "IN2P3-CC-T3_MCORE             255\n",
       "IN2P3-CC-T3_VM01             1151\n",
       "IN2P3-CC-all-ce-sge-long    39006\n",
       "IN2P3-CC_MCORE_HIMEM         6491\n",
       "IN2P3-CC_VVL                 1567\n",
       "cccreamceli01.in2p3.fr       3172\n",
       "cccreamceli05.in2p3.fr        647\n",
       "cccreamceli07.in2p3.fr          6\n",
       "Name: computingsite, dtype: int64"
      ]
     },
     "execution_count": 12,
     "metadata": {},
     "output_type": "execute_result"
    }
   ],
   "source": [
    "dfu.groupby(dfu.computingelement).computingsite.count()"
   ]
  },
  {
   "cell_type": "code",
   "execution_count": 13,
   "metadata": {
    "collapsed": false
   },
   "outputs": [
    {
     "data": {
      "text/html": [
       "<div>\n",
       "<table border=\"1\" class=\"dataframe\">\n",
       "  <thead>\n",
       "    <tr style=\"text-align: right;\">\n",
       "      <th></th>\n",
       "      <th>batchid</th>\n",
       "      <th>computingelement</th>\n",
       "      <th>corecount</th>\n",
       "      <th>cpuconsumptiontime</th>\n",
       "      <th>creationtime</th>\n",
       "      <th>endtime</th>\n",
       "      <th>maxpss</th>\n",
       "      <th>maxrss</th>\n",
       "      <th>modificationhost</th>\n",
       "      <th>pandaid</th>\n",
       "      <th>starttime</th>\n",
       "      <th>wall_time</th>\n",
       "    </tr>\n",
       "    <tr>\n",
       "      <th>computingsite</th>\n",
       "      <th></th>\n",
       "      <th></th>\n",
       "      <th></th>\n",
       "      <th></th>\n",
       "      <th></th>\n",
       "      <th></th>\n",
       "      <th></th>\n",
       "      <th></th>\n",
       "      <th></th>\n",
       "      <th></th>\n",
       "      <th></th>\n",
       "      <th></th>\n",
       "    </tr>\n",
       "  </thead>\n",
       "  <tbody>\n",
       "    <tr>\n",
       "      <th>IN2P3-CC</th>\n",
       "      <td>39006</td>\n",
       "      <td>39651</td>\n",
       "      <td>39748</td>\n",
       "      <td>39753</td>\n",
       "      <td>39753</td>\n",
       "      <td>39753</td>\n",
       "      <td>38934</td>\n",
       "      <td>38934</td>\n",
       "      <td>39753</td>\n",
       "      <td>39753</td>\n",
       "      <td>39006</td>\n",
       "      <td>39753</td>\n",
       "    </tr>\n",
       "    <tr>\n",
       "      <th>IN2P3-CC-T3_MCORE</th>\n",
       "      <td>255</td>\n",
       "      <td>255</td>\n",
       "      <td>255</td>\n",
       "      <td>255</td>\n",
       "      <td>255</td>\n",
       "      <td>255</td>\n",
       "      <td>249</td>\n",
       "      <td>249</td>\n",
       "      <td>255</td>\n",
       "      <td>255</td>\n",
       "      <td>255</td>\n",
       "      <td>255</td>\n",
       "    </tr>\n",
       "    <tr>\n",
       "      <th>IN2P3-CC-T3_VM01</th>\n",
       "      <td>1151</td>\n",
       "      <td>1157</td>\n",
       "      <td>1149</td>\n",
       "      <td>1157</td>\n",
       "      <td>1157</td>\n",
       "      <td>1157</td>\n",
       "      <td>1148</td>\n",
       "      <td>1148</td>\n",
       "      <td>1157</td>\n",
       "      <td>1157</td>\n",
       "      <td>1151</td>\n",
       "      <td>1157</td>\n",
       "    </tr>\n",
       "    <tr>\n",
       "      <th>IN2P3-CC_MCORE_HIMEM</th>\n",
       "      <td>6490</td>\n",
       "      <td>9663</td>\n",
       "      <td>9663</td>\n",
       "      <td>9663</td>\n",
       "      <td>9663</td>\n",
       "      <td>9663</td>\n",
       "      <td>6456</td>\n",
       "      <td>6456</td>\n",
       "      <td>9663</td>\n",
       "      <td>9663</td>\n",
       "      <td>6491</td>\n",
       "      <td>9663</td>\n",
       "    </tr>\n",
       "    <tr>\n",
       "      <th>IN2P3-CC_VVL</th>\n",
       "      <td>1567</td>\n",
       "      <td>1569</td>\n",
       "      <td>1569</td>\n",
       "      <td>1569</td>\n",
       "      <td>1569</td>\n",
       "      <td>1569</td>\n",
       "      <td>1565</td>\n",
       "      <td>1565</td>\n",
       "      <td>1569</td>\n",
       "      <td>1569</td>\n",
       "      <td>1567</td>\n",
       "      <td>1569</td>\n",
       "    </tr>\n",
       "  </tbody>\n",
       "</table>\n",
       "</div>"
      ],
      "text/plain": [
       "                      batchid  computingelement  corecount  \\\n",
       "computingsite                                                \n",
       "IN2P3-CC                39006             39651      39748   \n",
       "IN2P3-CC-T3_MCORE         255               255        255   \n",
       "IN2P3-CC-T3_VM01         1151              1157       1149   \n",
       "IN2P3-CC_MCORE_HIMEM     6490              9663       9663   \n",
       "IN2P3-CC_VVL             1567              1569       1569   \n",
       "\n",
       "                      cpuconsumptiontime  creationtime  endtime  maxpss  \\\n",
       "computingsite                                                             \n",
       "IN2P3-CC                           39753         39753    39753   38934   \n",
       "IN2P3-CC-T3_MCORE                    255           255      255     249   \n",
       "IN2P3-CC-T3_VM01                    1157          1157     1157    1148   \n",
       "IN2P3-CC_MCORE_HIMEM                9663          9663     9663    6456   \n",
       "IN2P3-CC_VVL                        1569          1569     1569    1565   \n",
       "\n",
       "                      maxrss  modificationhost  pandaid  starttime  wall_time  \n",
       "computingsite                                                                  \n",
       "IN2P3-CC               38934             39753    39753      39006      39753  \n",
       "IN2P3-CC-T3_MCORE        249               255      255        255        255  \n",
       "IN2P3-CC-T3_VM01        1148              1157     1157       1151       1157  \n",
       "IN2P3-CC_MCORE_HIMEM    6456              9663     9663       6491       9663  \n",
       "IN2P3-CC_VVL            1565              1569     1569       1567       1569  "
      ]
     },
     "execution_count": 13,
     "metadata": {},
     "output_type": "execute_result"
    }
   ],
   "source": [
    "dfu.groupby(dfu.computingsite).count()"
   ]
  },
  {
   "cell_type": "code",
   "execution_count": 14,
   "metadata": {
    "collapsed": false
   },
   "outputs": [],
   "source": [
    "\n",
    "\n",
    "#rint (res.get('hits').get('hits'))\n",
    "#list.head()\n",
    "#res[0]\n",
    "#res['total']"
   ]
  },
  {
   "cell_type": "code",
   "execution_count": 15,
   "metadata": {
    "collapsed": false
   },
   "outputs": [
    {
     "data": {
      "text/html": [
       "<div>\n",
       "<table border=\"1\" class=\"dataframe\">\n",
       "  <thead>\n",
       "    <tr style=\"text-align: right;\">\n",
       "      <th></th>\n",
       "      <th>batchid</th>\n",
       "      <th>computingelement</th>\n",
       "      <th>computingsite</th>\n",
       "      <th>corecount</th>\n",
       "      <th>cpuconsumptiontime</th>\n",
       "      <th>creationtime</th>\n",
       "      <th>endtime</th>\n",
       "      <th>maxpss</th>\n",
       "      <th>maxrss</th>\n",
       "      <th>modificationhost</th>\n",
       "      <th>pandaid</th>\n",
       "      <th>starttime</th>\n",
       "      <th>wall_time</th>\n",
       "    </tr>\n",
       "  </thead>\n",
       "  <tbody>\n",
       "    <tr>\n",
       "      <th>0</th>\n",
       "      <td>6306615</td>\n",
       "      <td>IN2P3-CC-all-ce-sge-long</td>\n",
       "      <td>IN2P3-CC</td>\n",
       "      <td>1.0</td>\n",
       "      <td>11720</td>\n",
       "      <td>2016-05-13T16:24:10</td>\n",
       "      <td>2016-05-13T22:35:13</td>\n",
       "      <td>1879236.0</td>\n",
       "      <td>1898340.0</td>\n",
       "      <td>ccwsge0225</td>\n",
       "      <td>2856870195</td>\n",
       "      <td>2016-05-13T19:13:05</td>\n",
       "      <td>12128</td>\n",
       "    </tr>\n",
       "    <tr>\n",
       "      <th>1</th>\n",
       "      <td>6307078</td>\n",
       "      <td>IN2P3-CC-all-ce-sge-long</td>\n",
       "      <td>IN2P3-CC</td>\n",
       "      <td>1.0</td>\n",
       "      <td>11397</td>\n",
       "      <td>2016-05-13T16:24:10</td>\n",
       "      <td>2016-05-13T22:31:56</td>\n",
       "      <td>1942034.0</td>\n",
       "      <td>2013896.0</td>\n",
       "      <td>ccwsge0696</td>\n",
       "      <td>2856870201</td>\n",
       "      <td>2016-05-13T19:14:03</td>\n",
       "      <td>11873</td>\n",
       "    </tr>\n",
       "    <tr>\n",
       "      <th>2</th>\n",
       "      <td>6324251</td>\n",
       "      <td>IN2P3-CC-all-ce-sge-long</td>\n",
       "      <td>IN2P3-CC</td>\n",
       "      <td>1.0</td>\n",
       "      <td>1465</td>\n",
       "      <td>2016-05-13T22:48:34</td>\n",
       "      <td>2016-05-13T23:18:41</td>\n",
       "      <td>1513591.0</td>\n",
       "      <td>1529472.0</td>\n",
       "      <td>ccwsge0805</td>\n",
       "      <td>2857222768</td>\n",
       "      <td>2016-05-13T22:49:46</td>\n",
       "      <td>1735</td>\n",
       "    </tr>\n",
       "    <tr>\n",
       "      <th>3</th>\n",
       "      <td>6307264</td>\n",
       "      <td>IN2P3-CC-all-ce-sge-long</td>\n",
       "      <td>IN2P3-CC</td>\n",
       "      <td>1.0</td>\n",
       "      <td>11381</td>\n",
       "      <td>2016-05-13T16:24:10</td>\n",
       "      <td>2016-05-13T22:31:47</td>\n",
       "      <td>1898791.0</td>\n",
       "      <td>1920312.0</td>\n",
       "      <td>ccwsge0253</td>\n",
       "      <td>2856870200</td>\n",
       "      <td>2016-05-13T19:14:02</td>\n",
       "      <td>11865</td>\n",
       "    </tr>\n",
       "    <tr>\n",
       "      <th>4</th>\n",
       "      <td>6294212</td>\n",
       "      <td>IN2P3-CC-all-ce-sge-long</td>\n",
       "      <td>IN2P3-CC</td>\n",
       "      <td>1.0</td>\n",
       "      <td>9636</td>\n",
       "      <td>2016-05-13T16:24:11</td>\n",
       "      <td>2016-05-13T19:48:43</td>\n",
       "      <td>1994656.0</td>\n",
       "      <td>2010472.0</td>\n",
       "      <td>ccwsge0809</td>\n",
       "      <td>2856870229</td>\n",
       "      <td>2016-05-13T17:01:41</td>\n",
       "      <td>10022</td>\n",
       "    </tr>\n",
       "  </tbody>\n",
       "</table>\n",
       "</div>"
      ],
      "text/plain": [
       "   batchid          computingelement computingsite  corecount  \\\n",
       "0  6306615  IN2P3-CC-all-ce-sge-long      IN2P3-CC        1.0   \n",
       "1  6307078  IN2P3-CC-all-ce-sge-long      IN2P3-CC        1.0   \n",
       "2  6324251  IN2P3-CC-all-ce-sge-long      IN2P3-CC        1.0   \n",
       "3  6307264  IN2P3-CC-all-ce-sge-long      IN2P3-CC        1.0   \n",
       "4  6294212  IN2P3-CC-all-ce-sge-long      IN2P3-CC        1.0   \n",
       "\n",
       "   cpuconsumptiontime         creationtime              endtime     maxpss  \\\n",
       "0               11720  2016-05-13T16:24:10  2016-05-13T22:35:13  1879236.0   \n",
       "1               11397  2016-05-13T16:24:10  2016-05-13T22:31:56  1942034.0   \n",
       "2                1465  2016-05-13T22:48:34  2016-05-13T23:18:41  1513591.0   \n",
       "3               11381  2016-05-13T16:24:10  2016-05-13T22:31:47  1898791.0   \n",
       "4                9636  2016-05-13T16:24:11  2016-05-13T19:48:43  1994656.0   \n",
       "\n",
       "      maxrss modificationhost     pandaid            starttime  wall_time  \n",
       "0  1898340.0       ccwsge0225  2856870195  2016-05-13T19:13:05      12128  \n",
       "1  2013896.0       ccwsge0696  2856870201  2016-05-13T19:14:03      11873  \n",
       "2  1529472.0       ccwsge0805  2857222768  2016-05-13T22:49:46       1735  \n",
       "3  1920312.0       ccwsge0253  2856870200  2016-05-13T19:14:02      11865  \n",
       "4  2010472.0       ccwsge0809  2856870229  2016-05-13T17:01:41      10022  "
      ]
     },
     "execution_count": 15,
     "metadata": {},
     "output_type": "execute_result"
    }
   ],
   "source": [
    "dfu.head()"
   ]
  },
  {
   "cell_type": "code",
   "execution_count": 18,
   "metadata": {
    "collapsed": false
   },
   "outputs": [
    {
     "data": {
      "text/html": [
       "<div>\n",
       "<table border=\"1\" class=\"dataframe\">\n",
       "  <thead>\n",
       "    <tr style=\"text-align: right;\">\n",
       "      <th></th>\n",
       "      <th>batchid</th>\n",
       "      <th>computingelement</th>\n",
       "      <th>corecount</th>\n",
       "      <th>cpuconsumptiontime</th>\n",
       "      <th>creationtime</th>\n",
       "      <th>endtime</th>\n",
       "      <th>maxpss</th>\n",
       "      <th>maxrss</th>\n",
       "      <th>modificationhost</th>\n",
       "      <th>pandaid</th>\n",
       "      <th>starttime</th>\n",
       "      <th>wall_time</th>\n",
       "    </tr>\n",
       "    <tr>\n",
       "      <th>computingsite</th>\n",
       "      <th></th>\n",
       "      <th></th>\n",
       "      <th></th>\n",
       "      <th></th>\n",
       "      <th></th>\n",
       "      <th></th>\n",
       "      <th></th>\n",
       "      <th></th>\n",
       "      <th></th>\n",
       "      <th></th>\n",
       "      <th></th>\n",
       "      <th></th>\n",
       "    </tr>\n",
       "  </thead>\n",
       "  <tbody>\n",
       "    <tr>\n",
       "      <th>IN2P3-CC</th>\n",
       "      <td>39006</td>\n",
       "      <td>39651</td>\n",
       "      <td>39748</td>\n",
       "      <td>39753</td>\n",
       "      <td>39753</td>\n",
       "      <td>39753</td>\n",
       "      <td>38934</td>\n",
       "      <td>38934</td>\n",
       "      <td>39753</td>\n",
       "      <td>39753</td>\n",
       "      <td>39006</td>\n",
       "      <td>39753</td>\n",
       "    </tr>\n",
       "    <tr>\n",
       "      <th>IN2P3-CC-T3_MCORE</th>\n",
       "      <td>255</td>\n",
       "      <td>255</td>\n",
       "      <td>255</td>\n",
       "      <td>255</td>\n",
       "      <td>255</td>\n",
       "      <td>255</td>\n",
       "      <td>249</td>\n",
       "      <td>249</td>\n",
       "      <td>255</td>\n",
       "      <td>255</td>\n",
       "      <td>255</td>\n",
       "      <td>255</td>\n",
       "    </tr>\n",
       "    <tr>\n",
       "      <th>IN2P3-CC-T3_VM01</th>\n",
       "      <td>1151</td>\n",
       "      <td>1157</td>\n",
       "      <td>1149</td>\n",
       "      <td>1157</td>\n",
       "      <td>1157</td>\n",
       "      <td>1157</td>\n",
       "      <td>1148</td>\n",
       "      <td>1148</td>\n",
       "      <td>1157</td>\n",
       "      <td>1157</td>\n",
       "      <td>1151</td>\n",
       "      <td>1157</td>\n",
       "    </tr>\n",
       "    <tr>\n",
       "      <th>IN2P3-CC_MCORE_HIMEM</th>\n",
       "      <td>6490</td>\n",
       "      <td>9663</td>\n",
       "      <td>9663</td>\n",
       "      <td>9663</td>\n",
       "      <td>9663</td>\n",
       "      <td>9663</td>\n",
       "      <td>6456</td>\n",
       "      <td>6456</td>\n",
       "      <td>9663</td>\n",
       "      <td>9663</td>\n",
       "      <td>6491</td>\n",
       "      <td>9663</td>\n",
       "    </tr>\n",
       "    <tr>\n",
       "      <th>IN2P3-CC_VVL</th>\n",
       "      <td>1567</td>\n",
       "      <td>1569</td>\n",
       "      <td>1569</td>\n",
       "      <td>1569</td>\n",
       "      <td>1569</td>\n",
       "      <td>1569</td>\n",
       "      <td>1565</td>\n",
       "      <td>1565</td>\n",
       "      <td>1569</td>\n",
       "      <td>1569</td>\n",
       "      <td>1567</td>\n",
       "      <td>1569</td>\n",
       "    </tr>\n",
       "  </tbody>\n",
       "</table>\n",
       "</div>"
      ],
      "text/plain": [
       "                      batchid  computingelement  corecount  \\\n",
       "computingsite                                                \n",
       "IN2P3-CC                39006             39651      39748   \n",
       "IN2P3-CC-T3_MCORE         255               255        255   \n",
       "IN2P3-CC-T3_VM01         1151              1157       1149   \n",
       "IN2P3-CC_MCORE_HIMEM     6490              9663       9663   \n",
       "IN2P3-CC_VVL             1567              1569       1569   \n",
       "\n",
       "                      cpuconsumptiontime  creationtime  endtime  maxpss  \\\n",
       "computingsite                                                             \n",
       "IN2P3-CC                           39753         39753    39753   38934   \n",
       "IN2P3-CC-T3_MCORE                    255           255      255     249   \n",
       "IN2P3-CC-T3_VM01                    1157          1157     1157    1148   \n",
       "IN2P3-CC_MCORE_HIMEM                9663          9663     9663    6456   \n",
       "IN2P3-CC_VVL                        1569          1569     1569    1565   \n",
       "\n",
       "                      maxrss  modificationhost  pandaid  starttime  wall_time  \n",
       "computingsite                                                                  \n",
       "IN2P3-CC               38934             39753    39753      39006      39753  \n",
       "IN2P3-CC-T3_MCORE        249               255      255        255        255  \n",
       "IN2P3-CC-T3_VM01        1148              1157     1157       1151       1157  \n",
       "IN2P3-CC_MCORE_HIMEM    6456              9663     9663       6491       9663  \n",
       "IN2P3-CC_VVL            1565              1569     1569       1567       1569  "
      ]
     },
     "execution_count": 18,
     "metadata": {},
     "output_type": "execute_result"
    }
   ],
   "source": [
    " dfu.groupby(['computingsite']).count()"
   ]
  },
  {
   "cell_type": "code",
   "execution_count": 19,
   "metadata": {
    "collapsed": false
   },
   "outputs": [
    {
     "data": {
      "text/plain": [
       "<matplotlib.axes._subplots.AxesSubplot at 0x7f6c3ec7dfd0>"
      ]
     },
     "execution_count": 19,
     "metadata": {},
     "output_type": "execute_result"
    },
    {
     "data": {
      "image/png": "[encoded data removed]",
      "text/plain": [
       "<matplotlib.figure.Figure at 0x7f6c3bd02c18>"
      ]
     },
     "metadata": {},
     "output_type": "display_data"
    }
   ],
   "source": [
    "b=dfu.maxpss/1024/1024\n",
    "b.hist(bins=100)"
   ]
  },
  {
   "cell_type": "code",
   "execution_count": 20,
   "metadata": {
    "collapsed": false
   },
   "outputs": [
    {
     "data": {
      "text/plain": [
       "Index                     80\n",
       "batchid               419176\n",
       "computingelement      419176\n",
       "computingsite         419176\n",
       "corecount             419176\n",
       "cpuconsumptiontime    419176\n",
       "creationtime          419176\n",
       "endtime               419176\n",
       "maxpss                419176\n",
       "maxrss                419176\n",
       "modificationhost      419176\n",
       "pandaid               419176\n",
       "starttime             419176\n",
       "wall_time             419176\n",
       "dtype: int64"
      ]
     },
     "execution_count": 20,
     "metadata": {},
     "output_type": "execute_result"
    }
   ],
   "source": [
    "dfu.memory_usage()"
   ]
  },
  {
   "cell_type": "code",
   "execution_count": 21,
   "metadata": {
    "collapsed": true
   },
   "outputs": [],
   "source": [
    "dfu.to_csv('./ev_example_161516_all.csv')"
   ]
  },
  {
   "cell_type": "code",
   "execution_count": null,
   "metadata": {
    "collapsed": true
   },
   "outputs": [],
   "source": []
  }
 ],
 "metadata": {
  "kernelspec": {
   "display_name": "Python 3",
   "language": "python",
   "name": "python3"
  },
  "language_info": {
   "codemirror_mode": {
    "name": "ipython",
    "version": 3
   },
   "file_extension": ".py",
   "mimetype": "text/x-python",
   "name": "python",
   "nbconvert_exporter": "python",
   "pygments_lexer": "ipython3",
   "version": "3.5.1"
  }
 },
 "nbformat": 4,
 "nbformat_minor": 0
}
