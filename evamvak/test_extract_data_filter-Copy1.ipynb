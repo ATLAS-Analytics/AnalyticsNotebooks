{
 "cells": [
  {
   "cell_type": "code",
   "execution_count": 57,
   "metadata": {
    "collapsed": true
   },
   "outputs": [],
   "source": [
    "import re\n",
    "import os \n",
    "import datetime\n",
    "from math import log\n",
    "import csv\n",
    "import pprint\n",
    "import math\n",
    "from collections import Counter\n",
    "import numpy as np\n",
    "import matplotlib.pyplot as plt\n",
    "from pandas import Series, DataFrame\n",
    "import pandas as pd\n",
    "from pandas.io.parsers import read_csv\n",
    "pd.set_option('max_colwidth',120)\n",
    "from elasticsearch import Elasticsearch, helpers\n",
    "from elasticsearch.helpers import scan\n",
    "from __future__ import division\n",
    "\n",
    "%matplotlib inline\n",
    "\n",
    "pp = pprint.PrettyPrinter()"
   ]
  },
  {
   "cell_type": "code",
   "execution_count": 2,
   "metadata": {
    "collapsed": true
   },
   "outputs": [],
   "source": [
    "#bashcommand='pwd'"
   ]
  },
  {
   "cell_type": "code",
   "execution_count": 41,
   "metadata": {
    "collapsed": false
   },
   "outputs": [],
   "source": [
    "es = Elasticsearch([{'host':'atlas-kibana.mwt2.org', 'port':9200}],timeout=10)"
   ]
  },
  {
   "cell_type": "code",
   "execution_count": 51,
   "metadata": {
    "collapsed": false
   },
   "outputs": [],
   "source": [
    "indices = es.cat.indices(index='jobs_archive_2016-05-15', h=\"index\", request_timeout=10).split('\\n')\n",
    "indices = sorted(indices)\n",
    "indices = [x.replace(\" \", \"\") for x in indices if x != '']"
   ]
  },
  {
   "cell_type": "code",
   "execution_count": 52,
   "metadata": {
    "collapsed": false
   },
   "outputs": [
    {
     "name": "stdout",
     "output_type": "stream",
     "text": [
      "['jobs_archive_2016-05-15']\n"
     ]
    }
   ],
   "source": [
    "print (indices)"
   ]
  },
  {
   "cell_type": "code",
   "execution_count": 55,
   "metadata": {
    "collapsed": false
   },
   "outputs": [
    {
     "name": "stdout",
     "output_type": "stream",
     "text": [
      "{'_source': ['pandaid', 'batchid', 'avgpss', 'computingsite', 'cpu_eff', 'cpuconsumptiontime', 'wall_time', 'totaljobtime', 'modificationhost'], 'query': {'match': {'computingsite': 'IN2P3-CC'}}}\n"
     ]
    }
   ],
   "source": [
    "ss={\n",
    "  \"query\": { \"match\": { \"computingsite\": \"IN2P3-CC\" } \n",
    "}, \"_source\": [\"pandaid\",\"batchid\",\"avgpss\",\"computingsite\",\"cpu_eff\",\"cpuconsumptiontime\",\"wall_time\",\"totaljobtime\",\"modificationhost\"]\n",
    "#    ,\"size\": 5\n",
    "    }\n",
    "\n",
    "\n",
    "\n",
    "#ss= {\"query\": { \"match_all\": {} },\"size\": 10000} \n",
    "print (ss)\n",
    "\n"
   ]
  },
  {
   "cell_type": "code",
   "execution_count": 7,
   "metadata": {
    "collapsed": false
   },
   "outputs": [],
   "source": [
    "#res = es.search(index='jobs_archive_2016-06-26', body=ss, filter_path=['hits.hits._source'],request_timeout=12000)"
   ]
  },
  {
   "cell_type": "code",
   "execution_count": 58,
   "metadata": {
    "collapsed": false
   },
   "outputs": [
    {
     "data": {
      "text/plain": [
       "4"
      ]
     },
     "execution_count": 58,
     "metadata": {},
     "output_type": "execute_result"
    }
   ],
   "source": [
    "res=es.search(index='jobs_archive_2016-06-26', body=ss,request_timeout=12000)\n",
    "#print (res)\n",
    "len(res)\n",
    "#print (res)"
   ]
  },
  {
   "cell_type": "code",
   "execution_count": 8,
   "metadata": {
    "collapsed": false
   },
   "outputs": [],
   "source": [
    "#res"
   ]
  },
  {
   "cell_type": "code",
   "execution_count": 59,
   "metadata": {
    "collapsed": false
   },
   "outputs": [],
   "source": [
    "scroll=scan(es,index='jobs_archive_2016-05-15', query=ss,scroll=u'20m', raise_on_error=True, preserve_order=False, size=10000,request_timeout=300)"
   ]
  },
  {
   "cell_type": "code",
   "execution_count": null,
   "metadata": {
    "collapsed": false
   },
   "outputs": [],
   "source": [
    " "
   ]
  },
  {
   "cell_type": "code",
   "execution_count": 60,
   "metadata": {
    "collapsed": false
   },
   "outputs": [
    {
     "name": "stdout",
     "output_type": "stream",
     "text": [
      "10738\n"
     ]
    },
    {
     "data": {
      "text/html": [
       "<div>\n",
       "<table border=\"1\" class=\"dataframe\">\n",
       "  <thead>\n",
       "    <tr style=\"text-align: right;\">\n",
       "      <th></th>\n",
       "      <th>avgpss</th>\n",
       "      <th>batchid</th>\n",
       "      <th>computingsite</th>\n",
       "      <th>cpu_eff</th>\n",
       "      <th>cpuconsumptiontime</th>\n",
       "      <th>modificationhost</th>\n",
       "      <th>pandaid</th>\n",
       "      <th>wall_time</th>\n",
       "    </tr>\n",
       "  </thead>\n",
       "  <tbody>\n",
       "    <tr>\n",
       "      <th>0</th>\n",
       "      <td>1279656.0</td>\n",
       "      <td>6438973</td>\n",
       "      <td>IN2P3-CC</td>\n",
       "      <td>0.933180</td>\n",
       "      <td>5293</td>\n",
       "      <td>ccwsge1144</td>\n",
       "      <td>2858422893</td>\n",
       "      <td>5672</td>\n",
       "    </tr>\n",
       "    <tr>\n",
       "      <th>1</th>\n",
       "      <td>1783652.0</td>\n",
       "      <td>6404844</td>\n",
       "      <td>IN2P3-CC</td>\n",
       "      <td>0.970659</td>\n",
       "      <td>11347</td>\n",
       "      <td>ccwsge1157</td>\n",
       "      <td>2857904318</td>\n",
       "      <td>11690</td>\n",
       "    </tr>\n",
       "    <tr>\n",
       "      <th>2</th>\n",
       "      <td>1753168.0</td>\n",
       "      <td>6405039</td>\n",
       "      <td>IN2P3-CC</td>\n",
       "      <td>0.970579</td>\n",
       "      <td>9501</td>\n",
       "      <td>ccwsge0605</td>\n",
       "      <td>2857904311</td>\n",
       "      <td>9789</td>\n",
       "    </tr>\n",
       "    <tr>\n",
       "      <th>3</th>\n",
       "      <td>1744576.0</td>\n",
       "      <td>6404513</td>\n",
       "      <td>IN2P3-CC</td>\n",
       "      <td>0.974108</td>\n",
       "      <td>11324</td>\n",
       "      <td>ccwsge0596</td>\n",
       "      <td>2857904308</td>\n",
       "      <td>11625</td>\n",
       "    </tr>\n",
       "    <tr>\n",
       "      <th>4</th>\n",
       "      <td>1751483.0</td>\n",
       "      <td>6405036</td>\n",
       "      <td>IN2P3-CC</td>\n",
       "      <td>0.978102</td>\n",
       "      <td>10050</td>\n",
       "      <td>ccwsge0590</td>\n",
       "      <td>2857904310</td>\n",
       "      <td>10275</td>\n",
       "    </tr>\n",
       "  </tbody>\n",
       "</table>\n",
       "</div>"
      ],
      "text/plain": [
       "      avgpss  batchid computingsite   cpu_eff  cpuconsumptiontime  \\\n",
       "0  1279656.0  6438973      IN2P3-CC  0.933180                5293   \n",
       "1  1783652.0  6404844      IN2P3-CC  0.970659               11347   \n",
       "2  1753168.0  6405039      IN2P3-CC  0.970579                9501   \n",
       "3  1744576.0  6404513      IN2P3-CC  0.974108               11324   \n",
       "4  1751483.0  6405036      IN2P3-CC  0.978102               10050   \n",
       "\n",
       "  modificationhost     pandaid  wall_time  \n",
       "0       ccwsge1144  2858422893       5672  \n",
       "1       ccwsge1157  2857904318      11690  \n",
       "2       ccwsge0605  2857904311       9789  \n",
       "3       ccwsge0596  2857904308      11625  \n",
       "4       ccwsge0590  2857904310      10275  "
      ]
     },
     "execution_count": 60,
     "metadata": {},
     "output_type": "execute_result"
    }
   ],
   "source": [
    "c=1\n",
    "list2=[]\n",
    "for name in scroll:\n",
    " a=name.get('_source')\n",
    " list2.append(a)\n",
    " c=c+1\n",
    "print (c)\n",
    "type(list2)\n",
    "dfu = pd.DataFrame(list2)\n",
    " \n",
    "#dfu.batchid.count()\n",
    "dfu.head()\n",
    " \n",
    " "
   ]
  },
  {
   "cell_type": "code",
   "execution_count": 61,
   "metadata": {
    "collapsed": false
   },
   "outputs": [
    {
     "data": {
      "text/plain": [
       "avgpss                10633\n",
       "batchid               10698\n",
       "computingsite         10737\n",
       "cpu_eff               10737\n",
       "cpuconsumptiontime    10737\n",
       "modificationhost      10737\n",
       "pandaid               10737\n",
       "wall_time             10737\n",
       "dtype: int64"
      ]
     },
     "execution_count": 61,
     "metadata": {},
     "output_type": "execute_result"
    }
   ],
   "source": [
    "dfu.count()\n"
   ]
  },
  {
   "cell_type": "code",
   "execution_count": 62,
   "metadata": {
    "collapsed": false
   },
   "outputs": [
    {
     "data": {
      "text/plain": [
       "10737"
      ]
     },
     "execution_count": 62,
     "metadata": {},
     "output_type": "execute_result"
    }
   ],
   "source": [
    "len(list2)"
   ]
  },
  {
   "cell_type": "code",
   "execution_count": 13,
   "metadata": {
    "collapsed": false
   },
   "outputs": [],
   "source": [
    "\n",
    "\n",
    "#rint (res.get('hits').get('hits'))\n",
    "#list.head()\n",
    "#res[0]\n",
    "#res['total']"
   ]
  },
  {
   "cell_type": "code",
   "execution_count": 14,
   "metadata": {
    "collapsed": false
   },
   "outputs": [
    {
     "data": {
      "text/plain": [
       "544"
      ]
     },
     "execution_count": 14,
     "metadata": {},
     "output_type": "execute_result"
    }
   ],
   "source": [
    "\n",
    "    \n",
    "dfu.avgpss.count()"
   ]
  },
  {
   "cell_type": "code",
   "execution_count": 15,
   "metadata": {
    "collapsed": false
   },
   "outputs": [
    {
     "data": {
      "text/html": [
       "<div>\n",
       "<table border=\"1\" class=\"dataframe\">\n",
       "  <thead>\n",
       "    <tr style=\"text-align: right;\">\n",
       "      <th></th>\n",
       "      <th>avgpss</th>\n",
       "      <th>batchid</th>\n",
       "      <th>computingsite</th>\n",
       "      <th>cpu_eff</th>\n",
       "      <th>cpuconsumptiontime</th>\n",
       "      <th>modificationhost</th>\n",
       "      <th>pandaid</th>\n",
       "      <th>wall_time</th>\n",
       "    </tr>\n",
       "  </thead>\n",
       "  <tbody>\n",
       "    <tr>\n",
       "      <th>0</th>\n",
       "      <td>8487776.0</td>\n",
       "      <td>9889170</td>\n",
       "      <td>IN2P3-CC_MCORE_HIMEM</td>\n",
       "      <td>3.634949</td>\n",
       "      <td>12377</td>\n",
       "      <td>ccwsge0017</td>\n",
       "      <td>2900517670</td>\n",
       "      <td>3405</td>\n",
       "    </tr>\n",
       "    <tr>\n",
       "      <th>1</th>\n",
       "      <td>10294295.0</td>\n",
       "      <td>9891226</td>\n",
       "      <td>IN2P3-CC_MCORE_HIMEM</td>\n",
       "      <td>3.821406</td>\n",
       "      <td>18209</td>\n",
       "      <td>ccwsge0120</td>\n",
       "      <td>2900571824</td>\n",
       "      <td>4765</td>\n",
       "    </tr>\n",
       "    <tr>\n",
       "      <th>2</th>\n",
       "      <td>9575812.0</td>\n",
       "      <td>9891105</td>\n",
       "      <td>IN2P3-CC_MCORE_HIMEM</td>\n",
       "      <td>3.766051</td>\n",
       "      <td>16307</td>\n",
       "      <td>ccwsge0059</td>\n",
       "      <td>2900571658</td>\n",
       "      <td>4330</td>\n",
       "    </tr>\n",
       "    <tr>\n",
       "      <th>3</th>\n",
       "      <td>18613998.0</td>\n",
       "      <td>9891104</td>\n",
       "      <td>IN2P3-CC_MCORE_HIMEM</td>\n",
       "      <td>5.355842</td>\n",
       "      <td>40292</td>\n",
       "      <td>ccwsge0129</td>\n",
       "      <td>2900571657</td>\n",
       "      <td>7523</td>\n",
       "    </tr>\n",
       "    <tr>\n",
       "      <th>4</th>\n",
       "      <td>9258133.0</td>\n",
       "      <td>9891081</td>\n",
       "      <td>IN2P3-CC_MCORE_HIMEM</td>\n",
       "      <td>3.906522</td>\n",
       "      <td>19767</td>\n",
       "      <td>ccwsge0220</td>\n",
       "      <td>2900571656</td>\n",
       "      <td>5060</td>\n",
       "    </tr>\n",
       "  </tbody>\n",
       "</table>\n",
       "</div>"
      ],
      "text/plain": [
       "       avgpss  batchid         computingsite   cpu_eff  cpuconsumptiontime  \\\n",
       "0   8487776.0  9889170  IN2P3-CC_MCORE_HIMEM  3.634949               12377   \n",
       "1  10294295.0  9891226  IN2P3-CC_MCORE_HIMEM  3.821406               18209   \n",
       "2   9575812.0  9891105  IN2P3-CC_MCORE_HIMEM  3.766051               16307   \n",
       "3  18613998.0  9891104  IN2P3-CC_MCORE_HIMEM  5.355842               40292   \n",
       "4   9258133.0  9891081  IN2P3-CC_MCORE_HIMEM  3.906522               19767   \n",
       "\n",
       "  modificationhost     pandaid  wall_time  \n",
       "0       ccwsge0017  2900517670       3405  \n",
       "1       ccwsge0120  2900571824       4765  \n",
       "2       ccwsge0059  2900571658       4330  \n",
       "3       ccwsge0129  2900571657       7523  \n",
       "4       ccwsge0220  2900571656       5060  "
      ]
     },
     "execution_count": 15,
     "metadata": {},
     "output_type": "execute_result"
    }
   ],
   "source": [
    "dfu.head()"
   ]
  },
  {
   "cell_type": "code",
   "execution_count": 63,
   "metadata": {
    "collapsed": false
   },
   "outputs": [
    {
     "data": {
      "text/html": [
       "<div>\n",
       "<table border=\"1\" class=\"dataframe\">\n",
       "  <thead>\n",
       "    <tr style=\"text-align: right;\">\n",
       "      <th></th>\n",
       "      <th>avgpss</th>\n",
       "      <th>batchid</th>\n",
       "      <th>cpu_eff</th>\n",
       "      <th>cpuconsumptiontime</th>\n",
       "      <th>modificationhost</th>\n",
       "      <th>pandaid</th>\n",
       "      <th>wall_time</th>\n",
       "    </tr>\n",
       "    <tr>\n",
       "      <th>computingsite</th>\n",
       "      <th></th>\n",
       "      <th></th>\n",
       "      <th></th>\n",
       "      <th></th>\n",
       "      <th></th>\n",
       "      <th></th>\n",
       "      <th></th>\n",
       "    </tr>\n",
       "  </thead>\n",
       "  <tbody>\n",
       "    <tr>\n",
       "      <th>IN2P3-CC</th>\n",
       "      <td>10633</td>\n",
       "      <td>10698</td>\n",
       "      <td>10737</td>\n",
       "      <td>10737</td>\n",
       "      <td>10737</td>\n",
       "      <td>10737</td>\n",
       "      <td>10737</td>\n",
       "    </tr>\n",
       "  </tbody>\n",
       "</table>\n",
       "</div>"
      ],
      "text/plain": [
       "               avgpss  batchid  cpu_eff  cpuconsumptiontime  modificationhost  \\\n",
       "computingsite                                                                   \n",
       "IN2P3-CC        10633    10698    10737               10737             10737   \n",
       "\n",
       "               pandaid  wall_time  \n",
       "computingsite                      \n",
       "IN2P3-CC         10737      10737  "
      ]
     },
     "execution_count": 63,
     "metadata": {},
     "output_type": "execute_result"
    }
   ],
   "source": [
    " dfu.groupby(['computingsite']).count()"
   ]
  },
  {
   "cell_type": "code",
   "execution_count": 64,
   "metadata": {
    "collapsed": false
   },
   "outputs": [
    {
     "data": {
      "text/plain": [
       "<matplotlib.axes._subplots.AxesSubplot at 0x7f7d30e40ac8>"
      ]
     },
     "execution_count": 64,
     "metadata": {},
     "output_type": "execute_result"
    },
    {
     "data": {
      "image/png": "[encoded data removed]",
      "text/plain": [
       "<matplotlib.figure.Figure at 0x7f7d30c01908>"
      ]
     },
     "metadata": {},
     "output_type": "display_data"
    }
   ],
   "source": [
    "b=dfu.avgpss/1024/1024\n",
    "b.hist(bins=100)"
   ]
  },
  {
   "cell_type": "code",
   "execution_count": 18,
   "metadata": {
    "collapsed": false
   },
   "outputs": [
    {
     "data": {
      "text/plain": [
       "Index                   80\n",
       "avgpss                4384\n",
       "batchid               4384\n",
       "computingsite         4384\n",
       "cpu_eff               4384\n",
       "cpuconsumptiontime    4384\n",
       "modificationhost      4384\n",
       "pandaid               4384\n",
       "wall_time             4384\n",
       "dtype: int64"
      ]
     },
     "execution_count": 18,
     "metadata": {},
     "output_type": "execute_result"
    }
   ],
   "source": [
    "dfu.memory_usage()"
   ]
  },
  {
   "cell_type": "code",
   "execution_count": 65,
   "metadata": {
    "collapsed": true
   },
   "outputs": [],
   "source": [
    "dfu.to_csv('./ev_example.csv')"
   ]
  },
  {
   "cell_type": "code",
   "execution_count": null,
   "metadata": {
    "collapsed": true
   },
   "outputs": [],
   "source": []
  }
 ],
 "metadata": {
  "kernelspec": {
   "display_name": "Python 3",
   "language": "python",
   "name": "python3"
  },
  "language_info": {
   "codemirror_mode": {
    "name": "ipython",
    "version": 3
   },
   "file_extension": ".py",
   "mimetype": "text/x-python",
   "name": "python",
   "nbconvert_exporter": "python",
   "pygments_lexer": "ipython3",
   "version": "3.5.1"
  }
 },
 "nbformat": 4,
 "nbformat_minor": 0
}
