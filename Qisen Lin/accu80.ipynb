{
 "cells": [
  {
   "cell_type": "code",
   "execution_count": null,
   "metadata": {},
   "outputs": [
    {
     "name": "stderr",
     "output_type": "stream",
     "text": [
      "/usr/lib64/python3.4/importlib/_bootstrap.py:321: FutureWarning: Conversion of the second argument of issubdtype from `float` to `np.floating` is deprecated. In future, it will be treated as `np.float64 == np.dtype(float).type`.\n",
      "  return f(*args, **kwds)\n",
      "Using TensorFlow backend.\n"
     ]
    }
   ],
   "source": [
    "from keras.models import Sequential\n",
    "from keras.layers import Dense\n",
    "from keras.layers import Dropout\n",
    "import numpy as np\n",
    "from sklearn import metrics\n",
    "from keras import regularizers\n",
    "from keras import optimizers\n",
    "from sklearn.model_selection import train_test_split\n",
    "from sklearn.preprocessing import Normalizer\n",
    "from sklearn.preprocessing import MinMaxScaler\n",
    "from keras.models import model_from_json\n",
    "# fix random seed for reproducibility\n",
    "np.random.seed(7)"
   ]
  },
  {
   "cell_type": "code",
   "execution_count": null,
   "metadata": {},
   "outputs": [
    {
     "name": "stderr",
     "output_type": "stream",
     "text": [
      "/usr/lib/python3.4/site-packages/ipykernel/__main__.py:13: UserWarning: Update your `Dense` call to the Keras 2 API: `Dense(256, input_dim=110, activation=\"relu\", kernel_regularizer=<keras.reg..., kernel_initializer=\"uniform\")`\n",
      "/usr/lib/python3.4/site-packages/ipykernel/__main__.py:15: UserWarning: Update your `Dense` call to the Keras 2 API: `Dense(256, activation=\"relu\", kernel_regularizer=<keras.reg..., kernel_initializer=\"uniform\")`\n",
      "/usr/lib/python3.4/site-packages/ipykernel/__main__.py:17: UserWarning: Update your `Dense` call to the Keras 2 API: `Dense(256, activation=\"relu\", kernel_regularizer=<keras.reg..., kernel_initializer=\"uniform\")`\n",
      "/usr/lib/python3.4/site-packages/ipykernel/__main__.py:19: UserWarning: Update your `Dense` call to the Keras 2 API: `Dense(256, activation=\"relu\", kernel_regularizer=<keras.reg..., kernel_initializer=\"uniform\")`\n",
      "/usr/lib/python3.4/site-packages/ipykernel/__main__.py:21: UserWarning: Update your `Dense` call to the Keras 2 API: `Dense(256, activation=\"relu\", kernel_regularizer=<keras.reg..., kernel_initializer=\"uniform\")`\n",
      "/usr/lib/python3.4/site-packages/ipykernel/__main__.py:23: UserWarning: Update your `Dense` call to the Keras 2 API: `Dense(256, activation=\"relu\", kernel_regularizer=<keras.reg..., kernel_initializer=\"uniform\")`\n",
      "/usr/lib/python3.4/site-packages/ipykernel/__main__.py:25: UserWarning: Update your `Dense` call to the Keras 2 API: `Dense(256, activation=\"relu\", kernel_regularizer=<keras.reg..., kernel_initializer=\"uniform\")`\n",
      "/usr/lib/python3.4/site-packages/ipykernel/__main__.py:27: UserWarning: Update your `Dense` call to the Keras 2 API: `Dense(128, activation=\"relu\", kernel_regularizer=<keras.reg..., kernel_initializer=\"uniform\")`\n"
     ]
    },
    {
     "name": "stdout",
     "output_type": "stream",
     "text": [
      "Train on 200000 samples, validate on 83188 samples\n",
      "Epoch 1/300\n",
      "200000/200000 [==============================] - 22s - loss: 2.3802 - acc: 0.5013 - val_loss: 1.0962 - val_acc: 0.5000\n",
      "Epoch 2/300\n",
      "200000/200000 [==============================] - 20s - loss: 0.8389 - acc: 0.4974 - val_loss: 0.7209 - val_acc: 0.5000\n",
      "Epoch 3/300\n",
      "200000/200000 [==============================] - 20s - loss: 0.7020 - acc: 0.4995 - val_loss: 0.6945 - val_acc: 0.5000\n",
      "Epoch 4/300\n",
      "200000/200000 [==============================] - 20s - loss: 0.6936 - acc: 0.5001 - val_loss: 0.6932 - val_acc: 0.5000\n",
      "Epoch 5/300\n",
      "200000/200000 [==============================] - 20s - loss: 0.6932 - acc: 0.5006 - val_loss: 0.6932 - val_acc: 0.5000\n",
      "Epoch 6/300\n",
      "200000/200000 [==============================] - 20s - loss: 0.6932 - acc: 0.4983 - val_loss: 0.6931 - val_acc: 0.5000\n",
      "Epoch 7/300\n",
      "200000/200000 [==============================] - 20s - loss: 0.6932 - acc: 0.4982 - val_loss: 0.6932 - val_acc: 0.5000\n",
      "Epoch 8/300\n",
      "200000/200000 [==============================] - 20s - loss: 0.6932 - acc: 0.4985 - val_loss: 0.6932 - val_acc: 0.5000\n",
      "Epoch 9/300\n",
      "200000/200000 [==============================] - 20s - loss: 0.6932 - acc: 0.5002 - val_loss: 0.6931 - val_acc: 0.5000\n",
      "Epoch 10/300\n",
      "200000/200000 [==============================] - 20s - loss: 0.6932 - acc: 0.5003 - val_loss: 0.6931 - val_acc: 0.5000\n",
      "Epoch 11/300\n",
      "200000/200000 [==============================] - 20s - loss: 0.6932 - acc: 0.4990 - val_loss: 0.6931 - val_acc: 0.5000\n",
      "Epoch 12/300\n",
      "200000/200000 [==============================] - 20s - loss: 0.6932 - acc: 0.5002 - val_loss: 0.6932 - val_acc: 0.5000\n",
      "Epoch 13/300\n",
      "200000/200000 [==============================] - 20s - loss: 0.6932 - acc: 0.5009 - val_loss: 0.6932 - val_acc: 0.5000\n",
      "Epoch 14/300\n",
      " 98944/200000 [=============>................] - ETA: 9s - loss: 0.6932 - acc: 0.4974"
     ]
    }
   ],
   "source": [
    "dataset = np.loadtxt(\"train.txt\", delimiter=\",\")\n",
    "# split into input (X) and output (Y) variables\n",
    "X = dataset[:,0:110]\n",
    "Y = dataset[:,110]\n",
    "\n",
    "dataset_test = np.loadtxt(\"test.txt\", delimiter=\",\")\n",
    "# split into input (X) and output (Y) variables\n",
    "X_test = dataset_test[:,0:110]\n",
    "Y_test = dataset_test[:,110]\n",
    "\n",
    "l2val=0.01\n",
    "model=Sequential();\n",
    "model.add(Dense(256, input_dim=110, init='uniform', activation='relu',kernel_regularizer=regularizers.l2(l2val)))\n",
    "model.add(Dropout(0.5))\n",
    "model.add(Dense(256, activation='relu',init='uniform',kernel_regularizer=regularizers.l2(l2val)))\n",
    "model.add(Dropout(0.5))\n",
    "model.add(Dense(256, activation='relu',init='uniform',kernel_regularizer=regularizers.l2(l2val)))\n",
    "model.add(Dropout(0.5))\n",
    "model.add(Dense(256, activation='relu',init='uniform',kernel_regularizer=regularizers.l2(l2val)))\n",
    "model.add(Dropout(0.5))\n",
    "model.add(Dense(256, activation='relu',init='uniform',kernel_regularizer=regularizers.l2(l2val)))\n",
    "model.add(Dropout(0.5))\n",
    "model.add(Dense(256, activation='relu',init='uniform',kernel_regularizer=regularizers.l2(l2val)))\n",
    "model.add(Dropout(0.5))\n",
    "model.add(Dense(256, activation='relu',init='uniform',kernel_regularizer=regularizers.l2(l2val)))\n",
    "model.add(Dropout(0.5))\n",
    "model.add(Dense(128, activation='relu',init='uniform',kernel_regularizer=regularizers.l2(l2val)))\n",
    "model.add(Dropout(0.5))\n",
    "\n",
    "#model.add(Dense(256, activation='relu'))\n",
    "#model.add(Dense(256, activation='relu'))\n",
    "model.add(Dense(1, activation='sigmoid'))\n",
    "\n",
    "adam=optimizers.Adam(lr=0.001, beta_1=0.9, beta_2=0.999, epsilon=0.001, decay=0.001)\n",
    "model.compile(loss='binary_crossentropy', optimizer='adam', metrics=['accuracy'])\n",
    "\n",
    "model.fit(X, Y,validation_data=(X_test,Y_test), epochs=300, batch_size=128)\n",
    "\n",
    "scores = model.evaluate(X_test, Y_test)\n",
    "print(\"\\n%s: %.2f%%\" % (model.metrics_names[1], scores[1]*100))\n",
    "\n",
    "\n",
    "probs = model.predict_proba(X_test)\n",
    "#np.savetxt('testout.txt',probs,delimiter=',')\n",
    "preds = probs[:,0]\n",
    "fpr, tpr, threshold = metrics.roc_curve(Y_test, preds)\n",
    "roc_auc = metrics.auc(fpr, tpr)\n",
    "\n",
    "import matplotlib.pyplot as plt\n",
    "plt.title('ROC py1')\n",
    "plt.plot(tpr, 1-fpr, 'b')\n",
    "#plt.plot(tpr, fpr, 'b', label = 'AUC = %0.2f' % roc_auc)\n",
    "#plt.plot(fpr, tpr, 'b', label = 'AUC = %0.2f' % roc_auc)\n",
    "plt.legend(loc = 'lower right')\n",
    "#plt.plot([0, 1], [0, 1],'r--')\n",
    "plt.xlim([0, 1])\n",
    "plt.ylim([0, 1])\n",
    "plt.xlabel('signal efficiency')\n",
    "plt.ylabel('background rejection')\n",
    "plt.show()\n",
    "\n",
    "model_json = model.to_json()\n",
    "with open(\"model_test.json\", \"w\") as json_file:\n",
    "    json_file.write(model_json)\n",
    "# serialize weights to HDF5\n",
    "model.save_weights(\"model_test.h5\")\n",
    "print(\"Saved model to disk\")\n"
   ]
  },
  {
   "cell_type": "code",
   "execution_count": null,
   "metadata": {
    "collapsed": true
   },
   "outputs": [],
   "source": []
  }
 ],
 "metadata": {
  "kernelspec": {
   "display_name": "Python3.4 GPU ML",
   "language": "python",
   "name": "sys_kernel_py3.4_gpu"
  },
  "language_info": {
   "codemirror_mode": {
    "name": "ipython",
    "version": 3
   },
   "file_extension": ".py",
   "mimetype": "text/x-python",
   "name": "python",
   "nbconvert_exporter": "python",
   "pygments_lexer": "ipython3",
   "version": "3.4.5"
  }
 },
 "nbformat": 4,
 "nbformat_minor": 2
}
