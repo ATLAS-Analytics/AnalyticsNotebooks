{
 "cells": [
  {
   "cell_type": "markdown",
   "metadata": {},
   "source": [
    "### We stream a portion of documents from Frontier indexed data and testing ways to parse SQL queries."
   ]
  },
  {
   "cell_type": "code",
   "execution_count": 1,
   "metadata": {
    "collapsed": true
   },
   "outputs": [],
   "source": [
    "%matplotlib inline\n",
    "import datetime\n",
    "import re\n",
    "import pandas as pd\n",
    "import numpy as np\n",
    "import matplotlib.pyplot as plt\n",
    "import math\n",
    "\n",
    "from elasticsearch import Elasticsearch, helpers\n",
    "es = Elasticsearch([{'host':'atlas-kibana.mwt2.org', 'port':9200}],timeout=60)"
   ]
  },
  {
   "cell_type": "markdown",
   "metadata": {},
   "source": [
    "### will look up only data from the current month"
   ]
  },
  {
   "cell_type": "code",
   "execution_count": 2,
   "metadata": {},
   "outputs": [
    {
     "name": "stdout",
     "output_type": "stream",
     "text": [
      "frontier-new-2018-03\n"
     ]
    }
   ],
   "source": [
    "today = datetime.date.today()\n",
    "\n",
    "ind='frontier-new-'+str(today.year)+'-'+str(today.month).zfill(2)\n",
    "print(ind)"
   ]
  },
  {
   "cell_type": "markdown",
   "metadata": {},
   "source": [
    "### Streaming data"
   ]
  },
  {
   "cell_type": "code",
   "execution_count": 3,
   "metadata": {},
   "outputs": [
    {
     "name": "stdout",
     "output_type": "stream",
     "text": [
      "===========================================\n",
      "----------------- cleaned up ---------------\n",
      "----------------- parse WHERE --------------\n",
      "/*+ NO_BIND_AWARE QB_NAME(MAIN) INDEX_RS_ASC(@MAIN COOL_I3@MAIN (USER_TAG_ID NEW_HEAD_ID CHANNEL_ID IOV_SINCE IOV_UNTIL)) INDEX_RS_ASC(@MAIN COOL_P5@MAIN (PAYLOAD_ID)) LEADING(@MAIN COOL_C2@MAIN COOL_I3@MAIN COOL_P5@MAIN) USE_NL(@MAIN COOL_I3@MAIN) USE_NL(@MAIN COOL_P5@MAIN) INDEX(@MAX1 COOL_I1@MAX1 (USER_TAG_ID NEW_HEAD_ID CHANNEL_ID IOV_SINCE IOV_UNTIL)) */ COOL_I3.OBJECT_ID AS \"OBJECT_ID\", COOL_I3.CHANNEL_ID AS \"CHANNEL_ID\", COOL_I3.IOV_SINCE AS \"IOV_SINCE\", COOL_I3.IOV_UNTIL AS \"IOV_UNTIL\", COOL_I3.USER_TAG_ID AS \"USER_TAG_ID\", COOL_I3.SYS_INSTIME AS \"SYS_INSTIME\", COOL_I3.LASTMOD_DATE AS \"LASTMOD_DATE\", COOL_I3.ORIGINAL_ID AS \"ORIGINAL_ID\", COOL_I3.NEW_HEAD_ID AS \"NEW_HEAD_ID\", COOL_I3.PAYLOAD_ID AS \"PAYLOAD_ID\", COOL_P5.\"status\" AS \"status\", COOL_P5.\"posX\" AS \"posX\", COOL_P5.\"posY\" AS \"posY\", COOL_P5.\"posZ\" AS \"posZ\", COOL_P5.\"sigmaX\" AS \"sigmaX\", COOL_P5.\"sigmaY\" AS \"sigmaY\", COOL_P5.\"sigmaZ\" AS \"sigmaZ\", COOL_P5.\"tiltX\" AS \"tiltX\", COOL_P5.\"tiltY\" AS \"tiltY\", COOL_P5.\"sigmaXY\" AS \"sigmaXY\", COOL_P5.\"posXErr\" AS \"posXErr\", COOL_P5.\"posYErr\" AS \"posYErr\", COOL_P5.\"posZErr\" AS \"posZErr\", COOL_P5.\"sigmaXErr\" AS \"sigmaXErr\", COOL_P5.\"sigmaYErr\" AS \"sigmaYErr\", COOL_P5.\"sigmaZErr\" AS \"sigmaZErr\", COOL_P5.\"tiltXErr\" AS \"tiltXErr\", COOL_P5.\"tiltYErr\" AS \"tiltYErr\", COOL_P5.\"sigmaXYErr\" AS \"sigmaXYErr\" FROM \"ATLAS_COOLOFL_INDET\".\"CONDBR2_F0003_CHANNELS\" \"COOL_C2\", \"ATLAS_COOLOFL_INDET\".\"CONDBR2_F0003_IOVS\" \"COOL_I3\", \"ATLAS_COOLOFL_INDET\".\"CONDBR2_F0003_PAYLOAD\" \"COOL_P5\"\n",
      "WHERE:  COOL_C2.CHANNEL_ID=0 AND COOL_I3.USER_TAG_ID=20 AND COOL_I3.NEW_HEAD_ID=0 AND COOL_I3.CHANNEL_ID=COOL_C2.CHANNEL_ID AND COOL_I3.IOV_SINCE>=COALESCE(( SELECT /*+ QB_NAME(MAX1) */ MAX(COOL_I1.IOV_SINCE) FROM ATLAS_COOLOFL_INDET.CONDBR2_F0003_IOVS COOL_I1 WHERE COOL_I1.USER_TAG_ID=20 AND COOL_I1.NEW_HEAD_ID=0 AND COOL_I1.CHANNEL_ID=COOL_C2.CHANNEL_ID AND COOL_I1.IOV_SINCE<=1348314788265984 ),1348314788265984) AND COOL_I3.IOV_SINCE<=1348314788265994 AND COOL_I3.IOV_UNTIL>1348314788265984 AND COOL_I3.PAYLOAD_ID = COOL_P5.PAYLOAD_ID\n",
      "===========================================\n",
      "----------------- cleaned up ---------------\n",
      "----------------- parse WHERE --------------\n",
      "DISTINCT TC.HTC_NAME, TT.HTT_TYPEBIT FROM \"ATLAS_CONF_TRIGGER_RUN2\".\"SUPER_MASTER_TABLE\" \"SM\", \"ATLAS_CONF_TRIGGER_RUN2\".\"HLT_MASTER_TABLE\" \"HM\", \"ATLAS_CONF_TRIGGER_RUN2\".\"HLT_TM_TO_TC\" \"TM2TC\", \"ATLAS_CONF_TRIGGER_RUN2\".\"HLT_TRIGGER_CHAIN\" \"TC\", \"ATLAS_CONF_TRIGGER_RUN2\".\"HLT_TRIGGER_TYPE\" \"TT\"\n",
      "WHERE:   SM.SMT_ID = 2489 AND SM.SMT_HLT_MASTER_TABLE_ID = HM.HMT_ID AND HM.HMT_TRIGGER_MENU_ID = TM2TC.HTM2TC_TRIGGER_MENU_ID  AND TC.HTC_ID = TM2TC.HTM2TC_TRIGGER_CHAIN_ID AND TT.HTT_TRIGGER_CHAIN_ID = TM2TC.HTM2TC_TRIGGER_CHAIN_ID\n",
      "===========================================\n",
      "----------------- cleaned up ---------------\n",
      "----------------- parse WHERE --------------\n",
      "DISTINCT TC.HTC_NAME, TC2TR.HTC2TR_TRIGGER_STREAM_PRESCALE, TR.HTR_NAME, TR.HTR_TYPE, TR.HTR_OBEYLB FROM \"ATLAS_CONF_TRIGGER_RUN2\".\"SUPER_MASTER_TABLE\" \"SM\", \"ATLAS_CONF_TRIGGER_RUN2\".\"HLT_MASTER_TABLE\" \"HM\", \"ATLAS_CONF_TRIGGER_RUN2\".\"HLT_TM_TO_TC\" \"TM2TC\", \"ATLAS_CONF_TRIGGER_RUN2\".\"HLT_TRIGGER_CHAIN\" \"TC\", \"ATLAS_CONF_TRIGGER_RUN2\".\"HLT_TC_TO_TR\" \"TC2TR\", \"ATLAS_CONF_TRIGGER_RUN2\".\"HLT_TRIGGER_STREAM\" \"TR\"\n",
      "WHERE:   SM.SMT_ID = 2489 AND SM.SMT_HLT_MASTER_TABLE_ID = HM.HMT_ID AND HM.HMT_TRIGGER_MENU_ID = TM2TC.HTM2TC_TRIGGER_MENU_ID  AND TC.HTC_ID = TM2TC.HTM2TC_TRIGGER_CHAIN_ID AND TC2TR.HTC2TR_TRIGGER_CHAIN_ID = TC.HTC_ID AND TC2TR.HTC2TR_TRIGGER_STREAM_ID = TR.HTR_ID\n",
      "===========================================\n",
      "----------------- cleaned up ---------------\n",
      "----------------- parse WHERE --------------\n",
      "/*+ NO_BIND_AWARE QB_NAME(MAIN) INDEX_RS_ASC(@MAIN COOL_I3@MAIN (USER_TAG_ID NEW_HEAD_ID CHANNEL_ID IOV_SINCE IOV_UNTIL)) LEADING(@MAIN COOL_C2@MAIN COOL_I3@MAIN) USE_NL(@MAIN COOL_I3@MAIN) INDEX(@MAX1 COOL_I1@MAX1 (USER_TAG_ID NEW_HEAD_ID CHANNEL_ID IOV_SINCE IOV_UNTIL)) */ COOL_I3.OBJECT_ID AS \"OBJECT_ID\", COOL_I3.CHANNEL_ID AS \"CHANNEL_ID\", COOL_I3.IOV_SINCE AS \"IOV_SINCE\", COOL_I3.IOV_UNTIL AS \"IOV_UNTIL\", COOL_I3.USER_TAG_ID AS \"USER_TAG_ID\", COOL_I3.SYS_INSTIME AS \"SYS_INSTIME\", COOL_I3.LASTMOD_DATE AS \"LASTMOD_DATE\", COOL_I3.ORIGINAL_ID AS \"ORIGINAL_ID\", COOL_I3.NEW_HEAD_ID AS \"NEW_HEAD_ID\", COOL_I3.\"stave\" AS \"stave\", COOL_I3.\"eta\" AS \"eta\", COOL_I3.\"mag\" AS \"mag\", COOL_I3.\"base\" AS \"base\", COOL_I3.\"free\" AS \"free\" FROM \"ATLAS_COOLOFL_INDET\".\"CONDBR2_F0006_CHANNELS\" \"COOL_C2\", \"ATLAS_COOLOFL_INDET\".\"CONDBR2_F0006_IOVS\" \"COOL_I3\"\n",
      "WHERE:  COOL_I3.USER_TAG_ID=6 AND COOL_I3.NEW_HEAD_ID=0 AND COOL_I3.CHANNEL_ID=COOL_C2.CHANNEL_ID AND COOL_I3.IOV_SINCE>=COALESCE(( SELECT /*+ QB_NAME(MAX1) */ MAX(COOL_I1.IOV_SINCE) FROM ATLAS_COOLOFL_INDET.CONDBR2_F0006_IOVS COOL_I1 WHERE COOL_I1.USER_TAG_ID=6 AND COOL_I1.NEW_HEAD_ID=0 AND COOL_I1.CHANNEL_ID=COOL_C2.CHANNEL_ID AND COOL_I1.IOV_SINCE<=1348095744933888 ),1348095744933888) AND COOL_I3.IOV_SINCE<=1348095744933898 AND COOL_I3.IOV_UNTIL>1348095744933888\n",
      "===========================================\n",
      "----------------- cleaned up ---------------\n",
      "----------------- parse WHERE --------------\n",
      "CHANNEL_ID AS \"CHANNEL_ID\" FROM \"ATLAS_COOLONL_SCT\".\"CONDBR2_F0026_CHANNELS\" \"CONDBR2_F0026_CHANNELS\"\n",
      "WHERE:  \n",
      "===========================================\n",
      "----------------- cleaned up ---------------\n",
      "----------------- parse WHERE --------------\n",
      "/*+ NO_BIND_AWARE QB_NAME(MAIN) INDEX_RS_ASC(@MAIN COOL_I3@MAIN (USER_TAG_ID NEW_HEAD_ID CHANNEL_ID IOV_SINCE IOV_UNTIL)) INDEX_RS_ASC(@MAIN COOL_P5@MAIN (PAYLOAD_ID)) LEADING(@MAIN COOL_C2@MAIN COOL_I3@MAIN COOL_P5@MAIN) USE_NL(@MAIN COOL_I3@MAIN) USE_NL(@MAIN COOL_P5@MAIN) INDEX(@MAX1 COOL_I1@MAX1 (USER_TAG_ID NEW_HEAD_ID CHANNEL_ID IOV_SINCE IOV_UNTIL)) */ COOL_I3.OBJECT_ID AS \"OBJECT_ID\", COOL_I3.CHANNEL_ID AS \"CHANNEL_ID\", COOL_I3.IOV_SINCE AS \"IOV_SINCE\", COOL_I3.IOV_UNTIL AS \"IOV_UNTIL\", COOL_I3.USER_TAG_ID AS \"USER_TAG_ID\", COOL_I3.SYS_INSTIME AS \"SYS_INSTIME\", COOL_I3.LASTMOD_DATE AS \"LASTMOD_DATE\", COOL_I3.ORIGINAL_ID AS \"ORIGINAL_ID\", COOL_I3.NEW_HEAD_ID AS \"NEW_HEAD_ID\", COOL_I3.PAYLOAD_ID AS \"PAYLOAD_ID\", COOL_P5.\"Lvl1BunchGroupConfigurationKey\" AS \"Lvl1BunchGroupConfigurationKey\" FROM \"ATLAS_COOLONL_TRIGGER\".\"CONDBR2_F0017_CHANNELS\" \"COOL_C2\", \"ATLAS_COOLONL_TRIGGER\".\"CONDBR2_F0017_IOVS\" \"COOL_I3\", \"ATLAS_COOLONL_TRIGGER\".\"CONDBR2_F0017_PAYLOAD\" \"COOL_P5\"\n",
      "WHERE:  COOL_C2.CHANNEL_ID=0 AND COOL_I3.USER_TAG_ID=0 AND COOL_I3.NEW_HEAD_ID=0 AND COOL_I3.CHANNEL_ID=COOL_C2.CHANNEL_ID AND COOL_I3.IOV_SINCE>=COALESCE(( SELECT /*+ QB_NAME(MAX1) */ MAX(COOL_I1.IOV_SINCE) FROM ATLAS_COOLONL_TRIGGER.CONDBR2_F0017_IOVS COOL_I1 WHERE COOL_I1.USER_TAG_ID=0 AND COOL_I1.NEW_HEAD_ID=0 AND COOL_I1.CHANNEL_ID=COOL_C2.CHANNEL_ID AND COOL_I1.IOV_SINCE<=1347279700833960 ),1347279700833960) AND COOL_I3.IOV_SINCE<=1347288290768550 AND COOL_I3.IOV_UNTIL>1347279700833960 AND COOL_I3.PAYLOAD_ID = COOL_P5.PAYLOAD_ID\n",
      "===========================================\n",
      "----------------- cleaned up ---------------\n",
      "----------------- parse WHERE --------------\n",
      "/*+ NO_BIND_AWARE QB_NAME(MAIN) INDEX_RS_ASC(@MAIN COOL_I3@MAIN (CHANNEL_ID IOV_SINCE IOV_UNTIL)) INDEX_RS_ASC(@MAIN COOL_P5@MAIN (PAYLOAD_ID)) LEADING(@MAIN COOL_C2@MAIN COOL_I3@MAIN COOL_P5@MAIN) USE_NL(@MAIN COOL_I3@MAIN) USE_NL(@MAIN COOL_P5@MAIN) INDEX(@MAX1 COOL_I1@MAX1 (CHANNEL_ID IOV_SINCE IOV_UNTIL)) */ COOL_I3.OBJECT_ID AS \"OBJECT_ID\", COOL_I3.CHANNEL_ID AS \"CHANNEL_ID\", COOL_I3.IOV_SINCE AS \"IOV_SINCE\", COOL_I3.IOV_UNTIL AS \"IOV_UNTIL\", COOL_I3.USER_TAG_ID AS \"USER_TAG_ID\", COOL_I3.SYS_INSTIME AS \"SYS_INSTIME\", COOL_I3.LASTMOD_DATE AS \"LASTMOD_DATE\", COOL_I3.ORIGINAL_ID AS \"ORIGINAL_ID\", COOL_I3.NEW_HEAD_ID AS \"NEW_HEAD_ID\", COOL_I3.PAYLOAD_ID AS \"PAYLOAD_ID\", COOL_P5.\"DAC2uA\" AS \"DAC2uA\", COOL_P5.\"version\" AS \"version\" FROM \"ATLAS_COOLONL_LAR\".\"CONDBR2_F0075_CHANNELS\" \"COOL_C2\", \"ATLAS_COOLONL_LAR\".\"CONDBR2_F0075_IOVS\" \"COOL_I3\", \"ATLAS_COOLONL_LAR\".\"CONDBR2_F0075_PAYLOAD\" \"COOL_P5\"\n",
      "WHERE:  COOL_I3.CHANNEL_ID=COOL_C2.CHANNEL_ID AND COOL_I3.IOV_SINCE>=COALESCE(( SELECT /*+ QB_NAME(MAX1) */ MAX(COOL_I1.IOV_SINCE) FROM ATLAS_COOLONL_LAR.CONDBR2_F0075_IOVS COOL_I1 WHERE COOL_I1.CHANNEL_ID=COOL_C2.CHANNEL_ID AND COOL_I1.IOV_SINCE<=1348314788265984 ),1348314788265984) AND COOL_I3.IOV_SINCE<=1348314788265994 AND COOL_I3.IOV_UNTIL>1348314788265984 AND COOL_I3.PAYLOAD_ID = COOL_P5.PAYLOAD_ID\n",
      "===========================================\n",
      "----------------- cleaned up ---------------\n",
      "----------------- parse WHERE --------------\n",
      "/*+ NO_BIND_AWARE QB_NAME(MAIN) INDEX_RS_ASC(@MAIN COOL_I3@MAIN (USER_TAG_ID NEW_HEAD_ID CHANNEL_ID IOV_SINCE IOV_UNTIL)) INDEX_RS_ASC(@MAIN COOL_P5@MAIN (PAYLOAD_ID)) LEADING(@MAIN COOL_C2@MAIN COOL_I3@MAIN COOL_P5@MAIN) USE_NL(@MAIN COOL_I3@MAIN) USE_NL(@MAIN COOL_P5@MAIN) INDEX(@MAX1 COOL_I1@MAX1 (USER_TAG_ID NEW_HEAD_ID CHANNEL_ID IOV_SINCE IOV_UNTIL)) */ COOL_I3.OBJECT_ID AS \"OBJECT_ID\", COOL_I3.CHANNEL_ID AS \"CHANNEL_ID\", COOL_I3.IOV_SINCE AS \"IOV_SINCE\", COOL_I3.IOV_UNTIL AS \"IOV_UNTIL\", COOL_I3.USER_TAG_ID AS \"USER_TAG_ID\", COOL_I3.SYS_INSTIME AS \"SYS_INSTIME\", COOL_I3.LASTMOD_DATE AS \"LASTMOD_DATE\", COOL_I3.ORIGINAL_ID AS \"ORIGINAL_ID\", COOL_I3.NEW_HEAD_ID AS \"NEW_HEAD_ID\", COOL_I3.PAYLOAD_ID AS \"PAYLOAD_ID\", COOL_P5.\"PoolRef\" AS \"PoolRef\" FROM \"ATLAS_COOLOFL_TRT\".\"CONDBR2_F0004_CHANNELS\" \"COOL_C2\", \"ATLAS_COOLOFL_TRT\".\"CONDBR2_F0004_IOVS\" \"COOL_I3\", \"ATLAS_COOLOFL_TRT\".\"CONDBR2_F0004_PAYLOAD\" \"COOL_P5\"\n",
      "WHERE:  COOL_C2.CHANNEL_ID=0 AND COOL_I3.USER_TAG_ID=1 AND COOL_I3.NEW_HEAD_ID=0 AND COOL_I3.CHANNEL_ID=COOL_C2.CHANNEL_ID AND COOL_I3.IOV_SINCE>=COALESCE(( SELECT /*+ QB_NAME(MAX1) */ MAX(COOL_I1.IOV_SINCE) FROM ATLAS_COOLOFL_TRT.CONDBR2_F0004_IOVS COOL_I1 WHERE COOL_I1.USER_TAG_ID=1 AND COOL_I1.NEW_HEAD_ID=0 AND COOL_I1.CHANNEL_ID=COOL_C2.CHANNEL_ID AND COOL_I1.IOV_SINCE<=1348314786516852 ),1348314786516852) AND COOL_I3.IOV_SINCE<=1348314886516852 AND COOL_I3.IOV_UNTIL>1348314786516852 AND COOL_I3.PAYLOAD_ID = COOL_P5.PAYLOAD_ID\n",
      "===========================================\n",
      "----------------- cleaned up ---------------\n",
      "----------------- parse WHERE --------------\n",
      "/*+ NO_BIND_AWARE QB_NAME(MAIN) INDEX_RS_ASC(@MAIN COOL_I3@MAIN (USER_TAG_ID NEW_HEAD_ID CHANNEL_ID IOV_SINCE IOV_UNTIL)) INDEX_RS_ASC(@MAIN COOL_P5@MAIN (PAYLOAD_ID)) LEADING(@MAIN COOL_C2@MAIN COOL_I3@MAIN COOL_P5@MAIN) USE_NL(@MAIN COOL_I3@MAIN) USE_NL(@MAIN COOL_P5@MAIN) INDEX(@MAX1 COOL_I1@MAX1 (USER_TAG_ID NEW_HEAD_ID CHANNEL_ID IOV_SINCE IOV_UNTIL)) */ COOL_I3.OBJECT_ID AS \"OBJECT_ID\", COOL_I3.CHANNEL_ID AS \"CHANNEL_ID\", COOL_I3.IOV_SINCE AS \"IOV_SINCE\", COOL_I3.IOV_UNTIL AS \"IOV_UNTIL\", COOL_I3.USER_TAG_ID AS \"USER_TAG_ID\", COOL_I3.SYS_INSTIME AS \"SYS_INSTIME\", COOL_I3.LASTMOD_DATE AS \"LASTMOD_DATE\", COOL_I3.ORIGINAL_ID AS \"ORIGINAL_ID\", COOL_I3.NEW_HEAD_ID AS \"NEW_HEAD_ID\", COOL_I3.PAYLOAD_ID AS \"PAYLOAD_ID\", COOL_P5.\"PoolRef\" AS \"PoolRef\" FROM \"ATLAS_COOLOFL_TRT\".\"CONDBR2_F0016_CHANNELS\" \"COOL_C2\", \"ATLAS_COOLOFL_TRT\".\"CONDBR2_F0016_IOVS\" \"COOL_I3\", \"ATLAS_COOLOFL_TRT\".\"CONDBR2_F0016_PAYLOAD\" \"COOL_P5\"\n",
      "WHERE:  COOL_I3.USER_TAG_ID=1 AND COOL_I3.NEW_HEAD_ID=0 AND COOL_I3.CHANNEL_ID=COOL_C2.CHANNEL_ID AND COOL_I3.IOV_SINCE>=COALESCE(( SELECT /*+ QB_NAME(MAX1) */ MAX(COOL_I1.IOV_SINCE) FROM ATLAS_COOLOFL_TRT.CONDBR2_F0016_IOVS COOL_I1 WHERE COOL_I1.USER_TAG_ID=1 AND COOL_I1.NEW_HEAD_ID=0 AND COOL_I1.CHANNEL_ID=COOL_C2.CHANNEL_ID AND COOL_I1.IOV_SINCE<=1348314788265984 ),1348314788265984) AND COOL_I3.IOV_SINCE<=1348314788265994 AND COOL_I3.IOV_UNTIL>1348314788265984 AND COOL_I3.PAYLOAD_ID = COOL_P5.PAYLOAD_ID\n",
      "===========================================\n"
     ]
    }
   ],
   "source": [
    "my_query={\n",
    "    \"size\": 0,\n",
    "    \"_source\": [\"sqlquery\"],\n",
    "  \"query\": {\n",
    "    \"bool\": {\n",
    "      \"must\": [\n",
    "        {\n",
    "          \"term\": {\"tableowner\": \"\"},\n",
    "          \"term\": {\"taskid\":13245563}\n",
    "#           \"term\": {\"computingsite\":\"BOINC-ES\"}\n",
    "        }\n",
    "      ]\n",
    "    }\n",
    "  }\n",
    "}\n",
    "\n",
    "res = helpers.scan(es, query=my_query, index=ind, scroll='5m', timeout=\"5m\", size=1000)\n",
    "\n",
    "limit = 10\n",
    "for r in res:\n",
    "    print('===========================================')\n",
    "    limit-=1\n",
    "    if not limit: break\n",
    "    parsed={'from':'', 'order':'', 'where':''}\n",
    "    \n",
    "    q=r['_source']['sqlquery']\n",
    "#     print(q)\n",
    "    print('----------------- cleaned up ---------------')\n",
    "\n",
    "    if q.startswith('SELECT '): q=q[7:]\n",
    "\n",
    "    if ' ORDER BY' in q:\n",
    "        parsed['order']=q[q.index(' ORDER BY'):]\n",
    "        q=q[:q.index(' ORDER BY')]\n",
    "#     print(q)\n",
    "    \n",
    "    print('----------------- parse WHERE --------------')\n",
    "    if ' WHERE ' in q:\n",
    "        where = q[q.index(' WHERE ') + 7:]\n",
    "        q=q[:q.index(' WHERE ')]\n",
    "    else: where=''\n",
    "    print(q)\n",
    "    print('WHERE: ', where)\n",
    "    "
   ]
  },
  {
   "cell_type": "code",
   "execution_count": null,
   "metadata": {
    "collapsed": true
   },
   "outputs": [],
   "source": []
  }
 ],
 "metadata": {
  "kernelspec": {
   "display_name": "Python 3",
   "language": "python",
   "name": "python3"
  },
  "language_info": {
   "codemirror_mode": {
    "name": "ipython",
    "version": 3
   },
   "file_extension": ".py",
   "mimetype": "text/x-python",
   "name": "python",
   "nbconvert_exporter": "python",
   "pygments_lexer": "ipython3",
   "version": "3.4.5"
  }
 },
 "nbformat": 4,
 "nbformat_minor": 2
}
