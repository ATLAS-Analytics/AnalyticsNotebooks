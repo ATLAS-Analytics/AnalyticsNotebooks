{
 "cells": [
  {
   "cell_type": "markdown",
   "metadata": {},
   "source": [
    "# Recognizing 7 seg digit\n",
    "### input are values of 7 segments of the digital display. output is a class of the number shown"
   ]
  },
  {
   "cell_type": "code",
   "execution_count": 1,
   "metadata": {
    "collapsed": false
   },
   "outputs": [
    {
     "name": "stderr",
     "output_type": "stream",
     "text": [
      "Using Theano backend.\n"
     ]
    }
   ],
   "source": [
    "%matplotlib inline\n",
    "import matplotlib.pyplot as plt\n",
    "import numpy as np\n",
    "\n",
    "from keras.models import Sequential\n",
    "from keras.layers import Dense, Activation\n",
    "from keras.layers.normalization import BatchNormalization\n",
    "from keras.utils.np_utils import to_categorical\n",
    "\n",
    "from IPython.display import SVG\n",
    "from keras.utils.visualize_util import plot\n",
    "from keras.utils.visualize_util import model_to_dot"
   ]
  },
  {
   "cell_type": "markdown",
   "metadata": {},
   "source": [
    "input and output data"
   ]
  },
  {
   "cell_type": "code",
   "execution_count": 2,
   "metadata": {
    "collapsed": false
   },
   "outputs": [
    {
     "name": "stdout",
     "output_type": "stream",
     "text": [
      "[[ 1.  0.  0.  0.  0.  0.  0.  0.  0.  0.  0.  0.  0.]\n",
      " [ 0.  1.  0.  0.  0.  0.  0.  0.  0.  0.  0.  0.  0.]\n",
      " [ 0.  0.  1.  0.  0.  0.  0.  0.  0.  0.  0.  0.  0.]\n",
      " [ 0.  0.  0.  1.  0.  0.  0.  0.  0.  0.  0.  0.  0.]\n",
      " [ 0.  0.  0.  0.  1.  0.  0.  0.  0.  0.  0.  0.  0.]\n",
      " [ 0.  0.  0.  0.  0.  1.  0.  0.  0.  0.  0.  0.  0.]\n",
      " [ 0.  0.  0.  0.  0.  0.  1.  0.  0.  0.  0.  0.  0.]\n",
      " [ 0.  0.  0.  0.  0.  0.  0.  1.  0.  0.  0.  0.  0.]\n",
      " [ 0.  0.  0.  0.  0.  0.  0.  0.  1.  0.  0.  0.  0.]\n",
      " [ 0.  0.  0.  0.  0.  0.  0.  0.  0.  1.  0.  0.  0.]\n",
      " [ 0.  0.  0.  0.  0.  0.  0.  0.  0.  0.  1.  0.  0.]\n",
      " [ 0.  0.  0.  0.  0.  0.  0.  0.  0.  0.  0.  1.  0.]\n",
      " [ 0.  0.  0.  0.  0.  0.  0.  0.  0.  0.  0.  0.  1.]]\n"
     ]
    }
   ],
   "source": [
    "zer = [1,1,1,1,1,1,0]\n",
    "one = [0,1,1,0,0,0,0]\n",
    "two = [1,1,0,1,1,0,1]\n",
    "thr = [1,1,1,1,0,0,1]\n",
    "fou = [0,1,1,0,0,1,1]\n",
    "fiv = [1,0,1,1,0,1,1]\n",
    "six = [1,0,1,1,1,1,1]\n",
    "sev = [1,1,1,0,0,0,0]\n",
    "eig = [1,1,1,1,1,1,1]\n",
    "nin = [1,1,1,1,0,1,1]\n",
    "eij = [1,1,1,0,1,1,1] #A\n",
    "see = [1,0,0,1,1,1,0] #C\n",
    "eee = [1,0,0,1,1,1,1] #E\n",
    "inp=[zer, one, two, thr, fou, fiv, six, sev, eig, nin, eij, see, eee]\n",
    "out=[[0,0,0,0],[0,0,0,1],[0,0,1,0],[0,0,1,1],[0,1,0,0],[0,1,0,1],[0,1,1,0],[0,1,1,1],[1,0,0,0],[1,0,0,1],[1,0,1,0],[1,1,0,0],[1,1,1,0]]\n",
    "rout=[0,1,2,3,4,5,6,7,8,9,10,11,12]\n",
    "out = to_categorical(rout, nb_classes=13)\n",
    "print(out)"
   ]
  },
  {
   "cell_type": "markdown",
   "metadata": {},
   "source": [
    "NN model"
   ]
  },
  {
   "cell_type": "code",
   "execution_count": 3,
   "metadata": {
    "collapsed": false
   },
   "outputs": [],
   "source": [
    "model = Sequential()\n",
    "l1=Dense(output_dim=7, input_dim=7)\n",
    "model.add(l1)\n",
    "model.add(Activation(\"relu\"))\n",
    "l2=Dense(output_dim=13)\n",
    "model.add(l2)\n",
    "model.add(Activation(\"softmax\"))\n",
    "#model.add(BatchNormalization())\n",
    "#model.add(model.add(lambda(rectifier)))\n",
    "model.compile(loss='categorical_crossentropy', optimizer='rmsprop', metrics=['accuracy'])\n",
    "#model.compile(loss='mse', optimizer='adagrad', metrics=['accuracy'])\n",
    "#model.compile(loss='mse',optimizer='sgd', metrics=['accuracy'])\n",
    "\n",
    "plot(model, to_file='model_categorical.png',show_shapes=True)\n",
    "#SVG(model_to_dot(model).create(prog='dot', format='svg'))"
   ]
  },
  {
   "cell_type": "markdown",
   "metadata": {},
   "source": [
    "train"
   ]
  },
  {
   "cell_type": "code",
   "execution_count": 4,
   "metadata": {
    "collapsed": false
   },
   "outputs": [],
   "source": [
    "epochs=1000\n",
    "hist=model.fit(inp, out, nb_epoch=epochs, batch_size=13, verbose=0, shuffle=True)\n"
   ]
  },
  {
   "cell_type": "code",
   "execution_count": 19,
   "metadata": {
    "collapsed": false
   },
   "outputs": [
    {
     "data": {
      "image/png": "[encoded data removed]",
      "text/plain": [
       "<matplotlib.figure.Figure at 0x7f17df5d3080>"
      ]
     },
     "metadata": {},
     "output_type": "display_data"
    }
   ],
   "source": [
    "#print(hist.history)\n",
    "x = np.linspace(0,epochs-1,epochs)\n",
    "plt.plot(x, hist.history['loss'], '--', linewidth=2, label='loss')\n",
    "plt.plot(x, hist.history['acc'], '-', linewidth=2, label='acc')\n",
    "plt.legend()\n",
    "plt.show()"
   ]
  },
  {
   "cell_type": "markdown",
   "metadata": {},
   "source": [
    "check results"
   ]
  },
  {
   "cell_type": "code",
   "execution_count": 20,
   "metadata": {
    "collapsed": false
   },
   "outputs": [
    {
     "name": "stdout",
     "output_type": "stream",
     "text": [
      "13/13 [==============================] - 0s\n"
     ]
    },
    {
     "data": {
      "text/plain": [
       "[0.528248131275177, 1.0]"
      ]
     },
     "execution_count": 20,
     "metadata": {},
     "output_type": "execute_result"
    }
   ],
   "source": [
    "loss_and_metrics = model.evaluate(inp, out, batch_size=13)\n",
    "loss_and_metrics"
   ]
  },
  {
   "cell_type": "markdown",
   "metadata": {},
   "source": [
    "check the layers"
   ]
  },
  {
   "cell_type": "code",
   "execution_count": 21,
   "metadata": {
    "collapsed": false
   },
   "outputs": [
    {
     "data": {
      "text/plain": [
       "[array([[ 1.01535344,  0.7550981 , -0.32547379,  1.06790793,  0.53175503,\n",
       "         -0.74852872, -1.09260523,  0.95602643,  0.48050079,  1.122347  ,\n",
       "          0.64127523, -0.87985516, -1.02774441],\n",
       "        [-1.04177976, -0.63635498,  1.50901413,  0.59177482, -1.27203143,\n",
       "         -0.98152977, -0.73689598,  1.22145557,  0.01439504, -0.66432673,\n",
       "          0.59706849, -1.27208507, -0.09192861],\n",
       "        [-0.45069113, -0.44283745,  0.45974344, -0.03177766,  0.1796684 ,\n",
       "          0.14814669,  0.00608478,  0.12320038,  0.29995894,  0.37128767,\n",
       "          0.24872376,  0.00265727,  0.54229218],\n",
       "        [ 0.83290505, -1.11127138,  0.45828953, -0.54648447, -1.19264925,\n",
       "          0.03527959,  0.7233178 , -1.29916048,  0.5241158 , -0.32995307,\n",
       "         -1.46433485,  1.33831239,  1.29923773],\n",
       "        [-0.62497795, -1.09605718, -1.04133022, -0.84242874,  0.79389769,\n",
       "          1.20935476,  0.56719244, -1.41509891,  0.38834837,  0.62725043,\n",
       "          1.27669346, -1.21262848, -0.17687686],\n",
       "        [-1.37980986,  1.12772322, -1.42635894, -1.20794797,  0.85597843,\n",
       "         -0.75262761, -0.89543492,  0.27677411, -0.98018074, -1.05105793,\n",
       "         -1.54695857, -0.61141318, -0.54746437],\n",
       "        [-0.51904756,  0.53165537, -0.51152313,  0.02428057, -0.0204991 ,\n",
       "         -0.46008581,  0.47187099, -0.48724189, -0.10948758,  0.44901383,\n",
       "         -0.51751631,  0.5443272 ,  0.23441459]], dtype=float32),\n",
       " array([-0.27796152,  0.78686923, -0.64586169,  0.72564602, -0.05522451,\n",
       "         0.30371082,  0.36157432, -0.32223475, -1.00046504, -0.21162218,\n",
       "        -0.41015542,  0.73812109, -0.79686964], dtype=float32)]"
      ]
     },
     "execution_count": 21,
     "metadata": {},
     "output_type": "execute_result"
    }
   ],
   "source": [
    "l1.get_weights()\n",
    "l2.get_weights()"
   ]
  },
  {
   "cell_type": "code",
   "execution_count": 22,
   "metadata": {
    "collapsed": false
   },
   "outputs": [],
   "source": [
    "#proba = model.predict_proba(inp, batch_size=10)\n",
    "pred = model.predict(inp, batch_size=13)"
   ]
  },
  {
   "cell_type": "code",
   "execution_count": 23,
   "metadata": {
    "collapsed": false
   },
   "outputs": [
    {
     "name": "stdout",
     "output_type": "stream",
     "text": [
      "[  6.32474780e-01   8.45323899e-04   1.51356785e-02   3.58849019e-02\n",
      "   6.38338388e-04   5.28327981e-03   1.71274450e-02   5.85585134e-04\n",
      "   1.45672962e-01   6.22517467e-02   1.21478701e-03   4.70400900e-02\n",
      "   3.58450562e-02] [1, 0, 0, 0, 0, 0, 0, 0, 0, 0, 0, 0, 0] [ 1.  0.  0.  0.  0.  0.  0.  0.  0.  0.  0.  0.  0.]\n",
      "[  4.39998577e-04   7.81950116e-01   3.97018921e-05   6.35334197e-03\n",
      "   6.76913038e-02   4.94533597e-05   1.58848543e-05   1.40562266e-01\n",
      "   3.36176221e-04   2.17678025e-03   3.08674818e-04   5.41611989e-05\n",
      "   2.21511491e-05] [0, 1, 0, 0, 0, 0, 0, 0, 0, 0, 0, 0, 0] [ 0.  1.  0.  0.  0.  0.  0.  0.  0.  0.  0.  0.  0.]\n",
      "[  4.70544910e-03   9.25833592e-05   8.89038563e-01   6.00670688e-02\n",
      "   2.35000539e-06   5.23557646e-05   6.26025139e-04   1.56292785e-02\n",
      "   1.49955377e-02   6.20038598e-04   5.85104688e-04   1.31589302e-03\n",
      "   1.22697782e-02] [0, 0, 1, 0, 0, 0, 0, 0, 0, 0, 0, 0, 0] [ 0.  0.  1.  0.  0.  0.  0.  0.  0.  0.  0.  0.  0.]\n",
      "[ 0.02957039  0.01096249  0.05506318  0.48733833  0.00361943  0.00186136\n",
      "  0.00154239  0.13476174  0.05269105  0.08054829  0.13968948  0.00054216\n",
      "  0.00180973] [0, 0, 0, 0, 0, 0, 0, 0, 0, 0, 0, 0, 0] [ 0.  0.  0.  1.  0.  0.  0.  0.  0.  0.  0.  0.  0.]\n",
      "[  3.58547753e-04   4.56065983e-02   7.40907399e-06   1.48292969e-03\n",
      "   8.80450070e-01   6.51937351e-03   4.35739435e-04   2.73972307e-03\n",
      "   2.64588185e-03   3.35200913e-02   2.61645336e-02   1.33266585e-05\n",
      "   5.57976782e-05] [0, 0, 0, 0, 1, 0, 0, 0, 0, 0, 0, 0, 0] [ 0.  0.  0.  0.  1.  0.  0.  0.  0.  0.  0.  0.  0.]\n",
      "[  2.57502086e-02   1.01768113e-04   6.55614363e-04   1.12819322e-03\n",
      "   1.05509842e-02   4.48613495e-01   2.82443285e-01   9.07683534e-06\n",
      "   8.69406089e-02   7.65048042e-02   1.81289595e-02   9.23816673e-03\n",
      "   3.99348624e-02] [0, 0, 0, 0, 0, 0, 0, 0, 0, 0, 0, 0, 0] [ 0.  0.  0.  0.  0.  1.  0.  0.  0.  0.  0.  0.  0.]\n",
      "[  2.24809181e-02   1.85800036e-05   6.77769363e-04   3.04804445e-04\n",
      "   1.78147026e-03   3.27656299e-01   4.29348916e-01   1.37237487e-06\n",
      "   6.77125603e-02   2.27170289e-02   2.35733972e-03   2.36201137e-02\n",
      "   1.01322822e-01] [0, 0, 0, 0, 0, 0, 0, 0, 0, 0, 0, 0, 0] [ 0.  0.  0.  0.  0.  0.  1.  0.  0.  0.  0.  0.  0.]\n",
      "[  7.58762821e-04   1.30293190e-01   9.26450884e-04   7.84356669e-02\n",
      "   5.92058059e-03   1.60900381e-05   6.81014444e-06   7.73466647e-01\n",
      "   1.18813408e-03   4.70050611e-03   4.26106807e-03   9.21004812e-06\n",
      "   1.69057384e-05] [0, 0, 0, 0, 0, 0, 0, 1, 0, 0, 0, 0, 0] [ 0.  0.  0.  0.  0.  0.  0.  1.  0.  0.  0.  0.  0.]\n",
      "[ 0.14850135  0.00065778  0.02647386  0.05229286  0.00377824  0.04241823\n",
      "  0.05119309  0.001166    0.37368238  0.19573075  0.05458049  0.00648931\n",
      "  0.04303565] [0, 0, 0, 0, 0, 0, 0, 0, 0, 0, 0, 0, 0] [ 0.  0.  0.  0.  0.  0.  0.  0.  1.  0.  0.  0.  0.]\n",
      "[ 0.1151637   0.00204835  0.005777    0.06482691  0.01673044  0.03831346\n",
      "  0.01999409  0.00196918  0.2060844   0.37930304  0.14026472  0.00189764\n",
      "  0.00762706] [0, 0, 0, 0, 0, 0, 0, 0, 0, 0, 0, 0, 0] [ 0.  0.  0.  0.  0.  0.  0.  0.  0.  1.  0.  0.  0.]\n",
      "[  6.17412059e-03   5.48718846e-04   5.82734728e-03   6.28721341e-02\n",
      "   5.27944416e-03   6.86569372e-03   2.01710151e-03   5.23755234e-03\n",
      "   7.47227892e-02   1.40345216e-01   6.89292729e-01   2.77799372e-05\n",
      "   7.89370621e-04] [0, 0, 0, 0, 0, 0, 0, 0, 0, 0, 1, 0, 0] [ 0.  0.  0.  0.  0.  0.  0.  0.  0.  0.  1.  0.  0.]\n",
      "[  4.05743159e-02   3.16922365e-06   6.58876821e-03   1.31098044e-04\n",
      "   9.31758905e-07   7.94952386e-04   2.95103714e-02   8.84298458e-07\n",
      "   6.21433975e-03   1.32987028e-04   4.09825958e-07   6.74619436e-01\n",
      "   2.41428345e-01] [0, 0, 0, 0, 0, 0, 0, 0, 0, 0, 0, 1, 0] [ 0.  0.  0.  0.  0.  0.  0.  0.  0.  0.  0.  1.  0.]\n",
      "[  1.87708028e-02   4.84930797e-06   2.24722344e-02   3.76571697e-04\n",
      "   1.08257336e-05   1.24048432e-02   1.70976058e-01   3.46778302e-06\n",
      "   3.12795565e-02   8.24557676e-04   3.61759885e-05   1.80695742e-01\n",
      "   5.62144339e-01] [0, 0, 0, 0, 0, 0, 0, 0, 0, 0, 0, 0, 1] [ 0.  0.  0.  0.  0.  0.  0.  0.  0.  0.  0.  0.  1.]\n"
     ]
    }
   ],
   "source": [
    "for co,i in enumerate(pred):\n",
    "    c=[]\n",
    "    for j in i:\n",
    "        if j>0.5: c.append(1)\n",
    "        else: c.append(0)\n",
    "    print(i,c, out[co])"
   ]
  },
  {
   "cell_type": "code",
   "execution_count": null,
   "metadata": {
    "collapsed": false
   },
   "outputs": [],
   "source": []
  }
 ],
 "metadata": {
  "kernelspec": {
   "display_name": "Python 3",
   "language": "python",
   "name": "python3"
  },
  "language_info": {
   "codemirror_mode": {
    "name": "ipython",
    "version": 3
   },
   "file_extension": ".py",
   "mimetype": "text/x-python",
   "name": "python",
   "nbconvert_exporter": "python",
   "pygments_lexer": "ipython3",
   "version": "3.5.1"
  }
 },
 "nbformat": 4,
 "nbformat_minor": 0
}
