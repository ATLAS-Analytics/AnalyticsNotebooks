{
 "cells": [
  {
   "cell_type": "markdown",
   "metadata": {},
   "source": [
    "## Access caching data"
   ]
  },
  {
   "cell_type": "code",
   "execution_count": null,
   "metadata": {
    "collapsed": true
   },
   "outputs": [],
   "source": [
    "%matplotlib inline\n",
    "from elasticsearch import Elasticsearch\n",
    "from elasticsearch.helpers import scan\n",
    "from datetime import datetime\n",
    "import math\n",
    "import matplotlib.pyplot as plt\n",
    "import matplotlib.mlab as mlab\n",
    "from matplotlib import gridspec\n",
    "from datetime import datetime\n",
    "import numpy as np\n",
    "import pandas as pd\n",
    "import networkx as nx\n",
    "\n",
    "es = Elasticsearch(['atlas-kibana.mwt2.org:9200'],timeout=60)"
   ]
  },
  {
   "cell_type": "markdown",
   "metadata": {},
   "source": [
    "## Get the data from Elasticsearch, and store in csv"
   ]
  },
  {
   "cell_type": "code",
   "execution_count": null,
   "metadata": {
    "collapsed": true
   },
   "outputs": [],
   "source": [
    "my_query = {\n",
    "    'query':{\n",
    "        'bool':{\n",
    "            'must':[\n",
    "                {\n",
    "                    'range': {\n",
    "                        'accesses': {\"gt\":-1}\n",
    "                    }\n",
    "                }\n",
    "            ]               \n",
    "        }\n",
    "    }\n",
    "}\n",
    "\n",
    "scroll = list(scan(client=es, index=\"caching-v1\", query=my_query))\n"
   ]
  },
  {
   "cell_type": "code",
   "execution_count": null,
   "metadata": {},
   "outputs": [],
   "source": [
    "count=0\n",
    "accesses=[]\n",
    "fn=[]\n",
    "scope=[]\n",
    "totalBuckets=[]\n",
    "cachedBuckets=[]\n",
    "for r in scroll:\n",
    "    if count<2: print(r)\n",
    "    count+=1\n",
    "    accesses.append(r['_source']['accesses'])\n",
    "    f=r['_source']['file'].replace('/cache/localroot/atlas/rucio/','').replace('.cinfo','')\n",
    "    [sc,filen]=f.split(\":\")\n",
    "    fn.append(filen)\n",
    "    scope.append(sc)\n",
    "    totalBuckets.append(r['_source']['full'])\n",
    "    cachedBuckets.append(r['_source']['cached'])\n",
    "\n",
    "a=pd.DataFrame({\"accesses\":accesses, \"scope\":scope, \"fn\": fn, \"totalBuckets\": totalBuckets, \"cachedBuckets\":cachedBuckets})\n",
    "print(count)"
   ]
  },
  {
   "cell_type": "markdown",
   "metadata": {},
   "source": [
    "### saving in pickle files"
   ]
  },
  {
   "cell_type": "code",
   "execution_count": null,
   "metadata": {
    "collapsed": true,
    "scrolled": false
   },
   "outputs": [],
   "source": [
    "a.to_csv(\"Data/CachingData.csv\")\n"
   ]
  },
  {
   "cell_type": "code",
   "execution_count": null,
   "metadata": {
    "collapsed": true
   },
   "outputs": [],
   "source": []
  }
 ],
 "metadata": {
  "kernelspec": {
   "display_name": "Python 3",
   "language": "python",
   "name": "python3"
  },
  "language_info": {
   "codemirror_mode": {
    "name": "ipython",
    "version": 3
   },
   "file_extension": ".py",
   "mimetype": "text/x-python",
   "name": "python",
   "nbconvert_exporter": "python",
   "pygments_lexer": "ipython3",
   "version": "3.4.5"
  }
 },
 "nbformat": 4,
 "nbformat_minor": 1
}
