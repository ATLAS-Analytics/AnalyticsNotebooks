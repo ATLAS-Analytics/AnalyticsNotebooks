{
 "cells": [
  {
   "cell_type": "markdown",
   "metadata": {},
   "source": [
    "#### This code reads packetloss data for one site and runs anomaly detection on it."
   ]
  },
  {
   "cell_type": "code",
   "execution_count": 1,
   "metadata": {},
   "outputs": [
    {
     "name": "stderr",
     "output_type": "stream",
     "text": [
      "/usr/lib64/python3.4/importlib/_bootstrap.py:321: FutureWarning: Conversion of the second argument of issubdtype from `float` to `np.floating` is deprecated. In future, it will be treated as `np.float64 == np.dtype(float).type`.\n",
      "  return f(*args, **kwds)\n",
      "Using TensorFlow backend.\n"
     ]
    }
   ],
   "source": [
    "%matplotlib inline\n",
    "from elasticsearch import Elasticsearch\n",
    "from elasticsearch.helpers import scan\n",
    "\n",
    "from time import time\n",
    "\n",
    "import numpy as np\n",
    "import pandas as pd\n",
    "import random\n",
    "import matplotlib.pyplot as plt\n",
    "\n",
    "# import tensorflow as tf - should do it by itself\n",
    "\n",
    "from sklearn.model_selection import train_test_split\n",
    "from sklearn.utils import shuffle\n",
    "\n",
    "from keras.models import Sequential\n",
    "from keras.layers.core import Dense, Activation, Dropout\n",
    "\n",
    "from sklearn.model_selection import train_test_split\n",
    "\n",
    "from pandas.tseries.offsets import *\n",
    "\n",
    "#from sklearn.model_selection import cross_val_score\n",
    "#from sklearn.metrics import roc_curve, auc\n",
    "#from sklearn.preprocessing import LabelBinarizer\n",
    "\n",
    "#from graphviz import Source"
   ]
  },
  {
   "cell_type": "code",
   "execution_count": 2,
   "metadata": {
    "collapsed": true
   },
   "outputs": [],
   "source": [
    "#from tensorflow.python.client import device_lib\n",
    "#print(device_lib.list_local_devices())"
   ]
  },
  {
   "cell_type": "markdown",
   "metadata": {},
   "source": [
    "#### parameters to set"
   ]
  },
  {
   "cell_type": "code",
   "execution_count": 3,
   "metadata": {},
   "outputs": [
    {
     "name": "stdout",
     "output_type": "stream",
     "text": [
      "chance: 0.96 \tcut: 0.962\n"
     ]
    }
   ],
   "source": [
    "n_series = 20\n",
    "start_date = '2017-05-13 00:00:00'\n",
    "end_date = '2017-05-20 23:59:59'\n",
    "\n",
    "# tuning parameters\n",
    "ref = 24\n",
    "sub = 1\n",
    "chance = ref/(sub+ref)\n",
    "cut = chance + (1-chance) * 0.05\n",
    "print('chance:',chance, '\\tcut:', cut)\n",
    "ref = ref * Hour()\n",
    "sub = sub * Hour()\n",
    "\n",
    "\n",
    "# sS='UC'\n",
    "# srcSiteOWDServer = \"192.170.227.160\"\n",
    "# srcSiteThroughputServer = \"192.170.227.162\"\n",
    "\n",
    "sS='CERN-PROD'\n",
    "srcSiteOWDServer = \"128.142.223.247\"\n",
    "#srcSiteThroughputServer = \"128.142.223.246\"\n",
    "\n",
    "sS='pic'\n",
    "srcSiteOWDServer = \"193.109.172.188\"\n",
    "\n",
    "# dS='IU'\n",
    "# destSiteOWDServer = \"149.165.225.223\"\n",
    "# destSiteThroughputServer = \"149.165.225.224\"\n",
    "\n",
    "# dS='UIUC'\n",
    "# destSiteOWDServer = \"72.36.96.4\"\n",
    "# destSiteThroughputServer = \"72.36.96.9\"\n",
    "\n",
    "# dS='ICCN'\n",
    "# destSiteOWDServer = \"72.36.96.4\"\n",
    "# destSiteThroughputServer = \"72.36.126.132\"\n",
    "\n",
    "dS='pic'\n",
    "destSiteOWDServer = \"193.109.172.188\"\n",
    "#destSiteThroughputServer = \"193.109.172.187\"\n"
   ]
  },
  {
   "cell_type": "markdown",
   "metadata": {},
   "source": [
    "## get data from ES"
   ]
  },
  {
   "cell_type": "code",
   "execution_count": 4,
   "metadata": {
    "collapsed": true
   },
   "outputs": [],
   "source": [
    "es = Elasticsearch(['atlas-kibana.mwt2.org:9200'],timeout=60)\n",
    "indices = \"network_weather-2017.*\"\n",
    "\n",
    "start = pd.Timestamp(start_date)\n",
    "end   = pd.Timestamp(end_date)\n",
    "\n",
    "my_query = {\n",
    "    'query': { \n",
    "       'bool':{\n",
    "            'must':[\n",
    "                    {'range': {'timestamp': {'gte': start.strftime('%Y%m%dT%H%M00Z'), 'lt': end.strftime('%Y%m%dT%H%M00Z')}}},\n",
    "                    {'bool':\n",
    "                        {'should':[\n",
    "                            {'term': {'src': srcSiteOWDServer}},\n",
    "                            #{'term': {'src': srcSiteThroughputServer}},\n",
    "                            #{'term': {'src': destSiteOWDServer}},\n",
    "                            #{'term': {'src': destSiteThroughputServer}}\n",
    "                        ]}\n",
    "                    },\n",
    "#                     {'bool':\n",
    "#                         {'should':[\n",
    "#                             {'term': {'dest': destSiteOWDServer}},\n",
    "#                             #{'term': {'dest': destSiteThroughputServer}},\n",
    "#                             #{'term': {'dest': srcSiteOWDServer}},\n",
    "#                             #{'term': {'dest': srcSiteThroughputServer}}\n",
    "#                         ]}\n",
    "#                     },\n",
    "                    {'bool':\n",
    "                        {'should':[\n",
    "                            {'term': {'_type': 'packet_loss_rate'}},\n",
    "                            #{'term': {'_type': 'latency'}},\n",
    "                            #{'term': {'_type': ''}},\n",
    "                            #{'term': {'_type': ''}}\n",
    "                        ]}\n",
    "                    }\n",
    "                \n",
    "                   ]\n",
    "            }\n",
    "        }\n",
    "    }\n",
    "\n",
    "\n",
    "scroll = scan(client=es, index=indices, query=my_query)"
   ]
  },
  {
   "cell_type": "markdown",
   "metadata": {},
   "source": [
    "### scan the data"
   ]
  },
  {
   "cell_type": "code",
   "execution_count": 5,
   "metadata": {},
   "outputs": [
    {
     "name": "stdout",
     "output_type": "stream",
     "text": [
      "0\n",
      "100000\n",
      "200000\n",
      "300000\n",
      "400000\n",
      "500000\n",
      "600000\n",
      "700000\n",
      "800000\n"
     ]
    }
   ],
   "source": [
    "count = 0\n",
    "allData={} # will be like this: {'dest_host':[[timestamp],[value]], ...} \n",
    "for res in scroll:\n",
    "#     if count<2: print(res) \n",
    "    if not count%100000: print(count)\n",
    "    if count>1000000: break\n",
    "    dst = res['_source']['dest'] # old data - dest, new data - dest_host\n",
    "    if dst not in allData: allData[dst]=[[],[]]\n",
    "    allData[dst][0].append(res['_source']['timestamp'] )\n",
    "    allData[dst][1].append(res['_source']['packet_loss'])\n",
    "    \n",
    "    count=count+1\n",
    "\n",
    "dfs=[]\n",
    "for dest,data in allData.items():\n",
    "    ts=pd.to_datetime(data[0],unit='ms')\n",
    "    df=pd.DataFrame({dest:data[1]}, index=ts )\n",
    "    df.sort_index(inplace=True)\n",
    "    df.index = df.index.map(lambda t: t.replace(second=0))\n",
    "    df = df[~df.index.duplicated(keep='last')]\n",
    "    dfs.append(df)\n",
    "    #print(df.head(2))"
   ]
  },
  {
   "cell_type": "code",
   "execution_count": 6,
   "metadata": {
    "collapsed": true
   },
   "outputs": [],
   "source": [
    "full_df = pd.concat(dfs, axis=1)"
   ]
  },
  {
   "cell_type": "code",
   "execution_count": 7,
   "metadata": {},
   "outputs": [
    {
     "name": "stdout",
     "output_type": "stream",
     "text": [
      "(11475, 77)\n"
     ]
    }
   ],
   "source": [
    "print(full_df.shape)\n",
    "# full_df.head()\n",
    "#print(full_df.columns )"
   ]
  },
  {
   "cell_type": "markdown",
   "metadata": {},
   "source": [
    "#### plot timeseries"
   ]
  },
  {
   "cell_type": "code",
   "execution_count": 8,
   "metadata": {},
   "outputs": [
    {
     "data": {
      "text/plain": [
       "<matplotlib.axes._subplots.AxesSubplot at 0x7fd773f2f5c0>"
      ]
     },
     "execution_count": 8,
     "metadata": {},
     "output_type": "execute_result"
    },
    {
     "data": {
      "image/png": "[encoded data removed]",
      "text/plain": [
       "<matplotlib.figure.Figure at 0x7fd777470898>"
      ]
     },
     "metadata": {},
     "output_type": "display_data"
    }
   ],
   "source": [
    "full_df.iloc[:,0:n_series].plot(figsize=(20,7))"
   ]
  },
  {
   "cell_type": "markdown",
   "metadata": {},
   "source": [
    "### create Network Model"
   ]
  },
  {
   "cell_type": "code",
   "execution_count": 9,
   "metadata": {
    "collapsed": true
   },
   "outputs": [],
   "source": [
    "class ANN(object):\n",
    "    def __init__(self, n_series):\n",
    "        self.n_series = n_series\n",
    "        self.df = None\n",
    "        self.auc_df = None\n",
    "        \n",
    "        self.nn = Sequential()\n",
    "        self.nn.add(Dense(units=n_series*2, input_shape=(n_series,), activation='relu' ))\n",
    "#       self.nn.add(Dropout(0.5))\n",
    "        self.nn.add(Dense(units=n_series, activation='relu'))\n",
    "#       self.nn.add(Dropout(0.5))\n",
    "        self.nn.add(Dense(units=1, activation='sigmoid'))\n",
    "#       self.nn.compile(loss='hinge', optimizer='sgd', metrics=['binary_accuracy'])\n",
    "#       self.nn.compile(loss='mse',optimizer='rmsprop', metrics=['accuracy'])\n",
    "        self.nn.compile(loss='binary_crossentropy',optimizer='rmsprop', metrics=['accuracy'])\n",
    "#       self.nn.compile(loss='categorical_crossentropy', optimizer='sgd', metrics=['binary_accuracy'])\n",
    "        self.nn.summary()\n",
    "    \n",
    "    def set_data(self, df, auc_df):\n",
    "        self.df = df\n",
    "        self.auc_df = auc_df\n",
    "    \n",
    "    def plot_hist(self, hist):\n",
    "        es=len(hist.history['loss'])\n",
    "        x = np.linspace(0,es-1,es)\n",
    "        plt.plot(x, hist.history['loss'], '--', linewidth=2, label='loss')\n",
    "        plt.plot(x, hist.history['acc'], '-', linewidth=2, label='acc')\n",
    "        plt.legend()\n",
    "        plt.show()\n",
    "    \n",
    "    def check_for_anomaly(self,ref, sub, count):\n",
    "    \n",
    "        y_ref = pd.Series([0] * ref.shape[0])\n",
    "        X_ref = ref\n",
    "    \n",
    "        y_sub = pd.Series([1] * sub.shape[0])\n",
    "        X_sub = sub\n",
    "        \n",
    "        # separate Reference and Subject into Train and Test\n",
    "        X_ref_train, X_ref_test, y_ref_train, y_ref_test = train_test_split(X_ref, y_ref, test_size=0.3, random_state=42)\n",
    "        X_sub_train, X_sub_test, y_sub_train, y_sub_test = train_test_split(X_sub, y_sub, test_size=0.3, random_state=42)\n",
    "    \n",
    "        # combine training ref and sub samples\n",
    "        X_train = pd.concat([X_ref_train, X_sub_train])\n",
    "        y_train = pd.concat([y_ref_train, y_sub_train])\n",
    "\n",
    "        # combine testing ref and sub samples\n",
    "        X_test = pd.concat([X_ref_test, X_sub_test])\n",
    "        y_test = pd.concat([y_ref_test, y_sub_test])\n",
    "    \n",
    "        X_train = X_train.reset_index(drop=True)\n",
    "        y_train = y_train.reset_index(drop=True)\n",
    "    \n",
    "        X_train_s, y_train_s = shuffle(X_train, y_train)\n",
    "    \n",
    "        with tf.device('/gpu:0'):\n",
    "            hist = self.nn.fit(X_train_s.values, y_train_s.values, epochs=100, verbose=0, shuffle=True, batch_size=10)\n",
    "            loss_and_metrics = self.nn.evaluate(X_test.values, y_test.values)#, batch_size=256)\n",
    "        #print(loss_and_metrics)\n",
    "    \n",
    "        if loss_and_metrics[1] > cut or not count%5: \n",
    "            self.plot_hist(hist)\n",
    "        \n",
    "        return scaled_accuracy(loss_and_metrics[1], ref.shape[0], sub.shape[0])\n",
    "    \n",
    "    \n",
    "    def loop_over_intervals(self):\n",
    "        lstart = self.df.index.min()\n",
    "        lend = self.df.index.max()\n",
    "\n",
    "        #round start \n",
    "        lstart.seconds=0\n",
    "        lstart.minutes=0\n",
    "\n",
    "        # loop over them\n",
    "        ti = lstart + ref + sub\n",
    "        count = 0\n",
    "        while ti < lend + 1 * Minute():\n",
    "            print(count)\n",
    "            startt = time()\n",
    "            ref_start = ti-ref-sub\n",
    "            ref_end = ti-sub\n",
    "            ref_df = self.df[(self.df.index >= ref_start) & (self.df.index < ref_end)]\n",
    "            sub_df = self.df[(self.df.index >= ref_end) & (self.df.index < ti)]\n",
    "            score = self.check_for_anomaly(ref_df, sub_df, count)\n",
    "            self.auc_df.loc[(self.auc_df.index >= ref_end) & (self.auc_df.index < ti), ['score']]  = score\n",
    "            print('\\n',ti,\"\\trefes:\" , ref_df.shape, \"\\tsubjects:\", sub_df.shape, '\\tacc:', score)\n",
    "            ti = ti + sub\n",
    "            print(\"took:\", time()-startt)\n",
    "            count = count + 1\n",
    "            #if count>2: break    \n",
    "    \n",
    "    \n",
    "def getModel():\n",
    "    with tf.device('/gpu:1'):\n",
    "        model = Sequential()\n",
    "        model.add(Dense(units=n_series*2, input_shape=(n_series,), activation='relu' ))\n",
    "#         model.add(Dropout(0.5))\n",
    "        model.add(Dense(units=n_series, activation='relu'))\n",
    "        #model.add(Dropout(0.5))\n",
    "        model.add(Dense(units=1, activation='sigmoid'))\n",
    "#     model.compile(loss='hinge', optimizer='sgd', metrics=['binary_accuracy'])\n",
    "#         model.compile(loss='mse',optimizer='rmsprop', metrics=['accuracy'])\n",
    "        model.compile(loss='binary_crossentropy',optimizer='rmsprop', metrics=['accuracy'])\n",
    "#     model.compile(loss='categorical_crossentropy', optimizer='sgd', metrics=['binary_accuracy'])\n",
    "        return model\n",
    "\n",
    "def plotHist(hist):\n",
    "    es=len(hist.history['loss'])\n",
    "    x = np.linspace(0,es-1,es)\n",
    "    plt.plot(x, hist.history['loss'], '--', linewidth=2, label='loss')\n",
    "    plt.plot(x, hist.history['acc'], '-', linewidth=2, label='acc')\n",
    "    plt.legend()\n",
    "    plt.show()"
   ]
  },
  {
   "cell_type": "markdown",
   "metadata": {},
   "source": [
    "#### functions"
   ]
  },
  {
   "cell_type": "code",
   "execution_count": 10,
   "metadata": {
    "collapsed": true
   },
   "outputs": [],
   "source": [
    "def scaled_accuracy(accuracy, ref_samples, sub_samples):\n",
    "    chance = float(ref_samples)/(ref_samples+sub_samples)\n",
    "    rescale = 1/(1 - chance)\n",
    "    return (accuracy-chance)*rescale\n"
   ]
  },
  {
   "cell_type": "markdown",
   "metadata": {},
   "source": [
    "### fix NANs"
   ]
  },
  {
   "cell_type": "code",
   "execution_count": 11,
   "metadata": {
    "collapsed": true
   },
   "outputs": [],
   "source": [
    "# full_df = full_df.interpolate(method='time', axis=0)  #these don't work for some reason...\n",
    "# full_df.interpolate(method='nearest', axis=0, inplace=True)\n",
    "full_df.fillna(0, inplace=True)"
   ]
  },
  {
   "cell_type": "markdown",
   "metadata": {},
   "source": [
    "### select part of the data"
   ]
  },
  {
   "cell_type": "code",
   "execution_count": 12,
   "metadata": {
    "collapsed": true
   },
   "outputs": [],
   "source": [
    "df = full_df.iloc[:,0:n_series]\n",
    "auc_df = pd.DataFrame(np.nan, index=df.index, columns=['score'])"
   ]
  },
  {
   "cell_type": "code",
   "execution_count": 13,
   "metadata": {},
   "outputs": [
    {
     "name": "stdout",
     "output_type": "stream",
     "text": [
      "_________________________________________________________________\n",
      "Layer (type)                 Output Shape              Param #   \n",
      "=================================================================\n",
      "dense_1 (Dense)              (None, 40)                840       \n",
      "_________________________________________________________________\n",
      "dense_2 (Dense)              (None, 20)                820       \n",
      "_________________________________________________________________\n",
      "dense_3 (Dense)              (None, 1)                 21        \n",
      "=================================================================\n",
      "Total params: 1,681\n",
      "Trainable params: 1,681\n",
      "Non-trainable params: 0\n",
      "_________________________________________________________________\n",
      "0\n"
     ]
    },
    {
     "ename": "NameError",
     "evalue": "name 'tf' is not defined",
     "output_type": "error",
     "traceback": [
      "\u001b[0;31m---------------------------------------------------------------------------\u001b[0m",
      "\u001b[0;31mNameError\u001b[0m                                 Traceback (most recent call last)",
      "\u001b[0;32m<ipython-input-13-1924a2912fd4>\u001b[0m in \u001b[0;36m<module>\u001b[0;34m()\u001b[0m\n\u001b[1;32m      1\u001b[0m \u001b[0mann\u001b[0m \u001b[0;34m=\u001b[0m \u001b[0mANN\u001b[0m\u001b[0;34m(\u001b[0m\u001b[0mn_series\u001b[0m\u001b[0;34m)\u001b[0m\u001b[0;34m\u001b[0m\u001b[0m\n\u001b[1;32m      2\u001b[0m \u001b[0mann\u001b[0m\u001b[0;34m.\u001b[0m\u001b[0mset_data\u001b[0m\u001b[0;34m(\u001b[0m\u001b[0mdf\u001b[0m\u001b[0;34m,\u001b[0m \u001b[0mauc_df\u001b[0m\u001b[0;34m)\u001b[0m\u001b[0;34m\u001b[0m\u001b[0m\n\u001b[0;32m----> 3\u001b[0;31m \u001b[0mann\u001b[0m\u001b[0;34m.\u001b[0m\u001b[0mloop_over_intervals\u001b[0m\u001b[0;34m(\u001b[0m\u001b[0;34m)\u001b[0m\u001b[0;34m\u001b[0m\u001b[0m\n\u001b[0m",
      "\u001b[0;32m<ipython-input-9-842b13a1e0a1>\u001b[0m in \u001b[0;36mloop_over_intervals\u001b[0;34m(self)\u001b[0m\n\u001b[1;32m     83\u001b[0m             \u001b[0mref_df\u001b[0m \u001b[0;34m=\u001b[0m \u001b[0mself\u001b[0m\u001b[0;34m.\u001b[0m\u001b[0mdf\u001b[0m\u001b[0;34m[\u001b[0m\u001b[0;34m(\u001b[0m\u001b[0mself\u001b[0m\u001b[0;34m.\u001b[0m\u001b[0mdf\u001b[0m\u001b[0;34m.\u001b[0m\u001b[0mindex\u001b[0m \u001b[0;34m>=\u001b[0m \u001b[0mref_start\u001b[0m\u001b[0;34m)\u001b[0m \u001b[0;34m&\u001b[0m \u001b[0;34m(\u001b[0m\u001b[0mself\u001b[0m\u001b[0;34m.\u001b[0m\u001b[0mdf\u001b[0m\u001b[0;34m.\u001b[0m\u001b[0mindex\u001b[0m \u001b[0;34m<\u001b[0m \u001b[0mref_end\u001b[0m\u001b[0;34m)\u001b[0m\u001b[0;34m]\u001b[0m\u001b[0;34m\u001b[0m\u001b[0m\n\u001b[1;32m     84\u001b[0m             \u001b[0msub_df\u001b[0m \u001b[0;34m=\u001b[0m \u001b[0mself\u001b[0m\u001b[0;34m.\u001b[0m\u001b[0mdf\u001b[0m\u001b[0;34m[\u001b[0m\u001b[0;34m(\u001b[0m\u001b[0mself\u001b[0m\u001b[0;34m.\u001b[0m\u001b[0mdf\u001b[0m\u001b[0;34m.\u001b[0m\u001b[0mindex\u001b[0m \u001b[0;34m>=\u001b[0m \u001b[0mref_end\u001b[0m\u001b[0;34m)\u001b[0m \u001b[0;34m&\u001b[0m \u001b[0;34m(\u001b[0m\u001b[0mself\u001b[0m\u001b[0;34m.\u001b[0m\u001b[0mdf\u001b[0m\u001b[0;34m.\u001b[0m\u001b[0mindex\u001b[0m \u001b[0;34m<\u001b[0m \u001b[0mti\u001b[0m\u001b[0;34m)\u001b[0m\u001b[0;34m]\u001b[0m\u001b[0;34m\u001b[0m\u001b[0m\n\u001b[0;32m---> 85\u001b[0;31m             \u001b[0mscore\u001b[0m \u001b[0;34m=\u001b[0m \u001b[0mself\u001b[0m\u001b[0;34m.\u001b[0m\u001b[0mcheck_for_anomaly\u001b[0m\u001b[0;34m(\u001b[0m\u001b[0mref_df\u001b[0m\u001b[0;34m,\u001b[0m \u001b[0msub_df\u001b[0m\u001b[0;34m,\u001b[0m \u001b[0mcount\u001b[0m\u001b[0;34m)\u001b[0m\u001b[0;34m\u001b[0m\u001b[0m\n\u001b[0m\u001b[1;32m     86\u001b[0m             \u001b[0mself\u001b[0m\u001b[0;34m.\u001b[0m\u001b[0mauc_df\u001b[0m\u001b[0;34m.\u001b[0m\u001b[0mloc\u001b[0m\u001b[0;34m[\u001b[0m\u001b[0;34m(\u001b[0m\u001b[0mself\u001b[0m\u001b[0;34m.\u001b[0m\u001b[0mauc_df\u001b[0m\u001b[0;34m.\u001b[0m\u001b[0mindex\u001b[0m \u001b[0;34m>=\u001b[0m \u001b[0mref_end\u001b[0m\u001b[0;34m)\u001b[0m \u001b[0;34m&\u001b[0m \u001b[0;34m(\u001b[0m\u001b[0mself\u001b[0m\u001b[0;34m.\u001b[0m\u001b[0mauc_df\u001b[0m\u001b[0;34m.\u001b[0m\u001b[0mindex\u001b[0m \u001b[0;34m<\u001b[0m \u001b[0mti\u001b[0m\u001b[0;34m)\u001b[0m\u001b[0;34m,\u001b[0m \u001b[0;34m[\u001b[0m\u001b[0;34m'score'\u001b[0m\u001b[0;34m]\u001b[0m\u001b[0;34m]\u001b[0m  \u001b[0;34m=\u001b[0m \u001b[0mscore\u001b[0m\u001b[0;34m\u001b[0m\u001b[0m\n\u001b[1;32m     87\u001b[0m             \u001b[0mprint\u001b[0m\u001b[0;34m(\u001b[0m\u001b[0;34m'\\n'\u001b[0m\u001b[0;34m,\u001b[0m\u001b[0mti\u001b[0m\u001b[0;34m,\u001b[0m\u001b[0;34m\"\\trefes:\"\u001b[0m \u001b[0;34m,\u001b[0m \u001b[0mref_df\u001b[0m\u001b[0;34m.\u001b[0m\u001b[0mshape\u001b[0m\u001b[0;34m,\u001b[0m \u001b[0;34m\"\\tsubjects:\"\u001b[0m\u001b[0;34m,\u001b[0m \u001b[0msub_df\u001b[0m\u001b[0;34m.\u001b[0m\u001b[0mshape\u001b[0m\u001b[0;34m,\u001b[0m \u001b[0;34m'\\tacc:'\u001b[0m\u001b[0;34m,\u001b[0m \u001b[0mscore\u001b[0m\u001b[0;34m)\u001b[0m\u001b[0;34m\u001b[0m\u001b[0m\n",
      "\u001b[0;32m<ipython-input-9-842b13a1e0a1>\u001b[0m in \u001b[0;36mcheck_for_anomaly\u001b[0;34m(self, ref, sub, count)\u001b[0m\n\u001b[1;32m     54\u001b[0m         \u001b[0mX_train_s\u001b[0m\u001b[0;34m,\u001b[0m \u001b[0my_train_s\u001b[0m \u001b[0;34m=\u001b[0m \u001b[0mshuffle\u001b[0m\u001b[0;34m(\u001b[0m\u001b[0mX_train\u001b[0m\u001b[0;34m,\u001b[0m \u001b[0my_train\u001b[0m\u001b[0;34m)\u001b[0m\u001b[0;34m\u001b[0m\u001b[0m\n\u001b[1;32m     55\u001b[0m \u001b[0;34m\u001b[0m\u001b[0m\n\u001b[0;32m---> 56\u001b[0;31m         \u001b[0;32mwith\u001b[0m \u001b[0mtf\u001b[0m\u001b[0;34m.\u001b[0m\u001b[0mdevice\u001b[0m\u001b[0;34m(\u001b[0m\u001b[0;34m'/gpu:0'\u001b[0m\u001b[0;34m)\u001b[0m\u001b[0;34m:\u001b[0m\u001b[0;34m\u001b[0m\u001b[0m\n\u001b[0m\u001b[1;32m     57\u001b[0m             \u001b[0mhist\u001b[0m \u001b[0;34m=\u001b[0m \u001b[0mself\u001b[0m\u001b[0;34m.\u001b[0m\u001b[0mnn\u001b[0m\u001b[0;34m.\u001b[0m\u001b[0mfit\u001b[0m\u001b[0;34m(\u001b[0m\u001b[0mX_train_s\u001b[0m\u001b[0;34m.\u001b[0m\u001b[0mvalues\u001b[0m\u001b[0;34m,\u001b[0m \u001b[0my_train_s\u001b[0m\u001b[0;34m.\u001b[0m\u001b[0mvalues\u001b[0m\u001b[0;34m,\u001b[0m \u001b[0mepochs\u001b[0m\u001b[0;34m=\u001b[0m\u001b[0;36m100\u001b[0m\u001b[0;34m,\u001b[0m \u001b[0mverbose\u001b[0m\u001b[0;34m=\u001b[0m\u001b[0;36m0\u001b[0m\u001b[0;34m,\u001b[0m \u001b[0mshuffle\u001b[0m\u001b[0;34m=\u001b[0m\u001b[0;32mTrue\u001b[0m\u001b[0;34m,\u001b[0m \u001b[0mbatch_size\u001b[0m\u001b[0;34m=\u001b[0m\u001b[0;36m10\u001b[0m\u001b[0;34m)\u001b[0m\u001b[0;34m\u001b[0m\u001b[0m\n\u001b[1;32m     58\u001b[0m             \u001b[0mloss_and_metrics\u001b[0m \u001b[0;34m=\u001b[0m \u001b[0mself\u001b[0m\u001b[0;34m.\u001b[0m\u001b[0mnn\u001b[0m\u001b[0;34m.\u001b[0m\u001b[0mevaluate\u001b[0m\u001b[0;34m(\u001b[0m\u001b[0mX_test\u001b[0m\u001b[0;34m.\u001b[0m\u001b[0mvalues\u001b[0m\u001b[0;34m,\u001b[0m \u001b[0my_test\u001b[0m\u001b[0;34m.\u001b[0m\u001b[0mvalues\u001b[0m\u001b[0;34m)\u001b[0m\u001b[0;31m#, batch_size=256)\u001b[0m\u001b[0;34m\u001b[0m\u001b[0m\n",
      "\u001b[0;31mNameError\u001b[0m: name 'tf' is not defined"
     ]
    }
   ],
   "source": [
    "ann = ANN(n_series)\n",
    "ann.set_data(df, auc_df)\n",
    "ann.loop_over_intervals()"
   ]
  },
  {
   "cell_type": "code",
   "execution_count": null,
   "metadata": {
    "collapsed": true
   },
   "outputs": [],
   "source": [
    "df.plot(figsize=(20,7))\n"
   ]
  },
  {
   "cell_type": "code",
   "execution_count": null,
   "metadata": {
    "collapsed": true
   },
   "outputs": [],
   "source": [
    "fig, ax = plt.subplots(figsize=(20,7))\n",
    "auc_df['Detected'] = 0\n",
    "auc_df.loc[auc_df.score>0.05, ['Detected']]=1\n",
    "ax.plot( auc_df.score,'g')\n",
    "ax.fill( auc_df.Detected, 'b', alpha=0.3)\n",
    "ax.legend(loc='upper left')\n",
    "plt.show()"
   ]
  },
  {
   "cell_type": "code",
   "execution_count": null,
   "metadata": {
    "collapsed": true
   },
   "outputs": [],
   "source": []
  },
  {
   "cell_type": "markdown",
   "metadata": {},
   "source": [
    "#### OLD"
   ]
  },
  {
   "cell_type": "code",
   "execution_count": null,
   "metadata": {
    "collapsed": true
   },
   "outputs": [],
   "source": [
    "def plot_roc(fpr,tpr, roc_auc):\n",
    "    plt.figure()\n",
    "    plt.plot(fpr, tpr, color='darkorange', label='ROC curve (area = %0.2f)' % roc_auc)\n",
    "    plt.plot([0, 1], [0, 1], color='navy', linestyle='--')\n",
    "    plt.xlim([0.0, 1.0])\n",
    "    plt.ylim([0.0, 1.05])\n",
    "    plt.plot([0, 1], [0, 1], linestyle='--', color='r',label='Luck', alpha=.8)\n",
    "    plt.xlabel('False Positive Rate')\n",
    "    plt.ylabel('True Positive Rate')\n",
    "    plt.title('Receiver operating characteristic')\n",
    "    plt.legend(loc=\"lower right\")\n",
    "    plt.show()"
   ]
  },
  {
   "cell_type": "code",
   "execution_count": null,
   "metadata": {
    "collapsed": true
   },
   "outputs": [],
   "source": [
    "#find min and max timestamps\n",
    "\n",
    "lstart = df.index.min()\n",
    "lend = df.index.max()\n",
    "\n",
    "#round start \n",
    "lstart.seconds=0\n",
    "lstart.minutes=0\n",
    "\n",
    "# loop over them\n",
    "ti = lstart + ref + sub\n",
    "count = 0\n",
    "while ti < lend + 1 * Minute():\n",
    "    print(count)\n",
    "    startt = time()\n",
    "    ref_start = ti-ref-sub\n",
    "    ref_end = ti-sub\n",
    "    ref_df = df[(df.index >= ref_start) & (df.index < ref_end)]\n",
    "    sub_df = df[(df.index >= ref_end) & (df.index < ti)]\n",
    "    score = check_for_anomaly(ref_df, sub_df, count)\n",
    "    auc_df.loc[(auc_df.index >= ref_end) & (auc_df.index < ti), ['score']]  = score\n",
    "    print('\\n',ti,\"\\trefes:\" , ref_df.shape, \"\\tsubjects:\", sub_df.shape, '\\tacc:', score)\n",
    "    ti = ti + sub\n",
    "    print(\"took:\", time()-startt)\n",
    "    count = count + 1\n",
    "    #if count>2: break\n",
    "    \n",
    "\n",
    "def check_for_anomaly(ref, sub, count):\n",
    "    \n",
    "    y_ref = pd.Series([0] * ref.shape[0])\n",
    "    X_ref = ref\n",
    "    \n",
    "    y_sub = pd.Series([1] * sub.shape[0])\n",
    "    X_sub = sub\n",
    "    \n",
    "    # separate Reference and Subject into Train and Test\n",
    "    X_ref_train, X_ref_test, y_ref_train, y_ref_test = train_test_split(X_ref, y_ref, test_size=0.3, random_state=42)\n",
    "    X_sub_train, X_sub_test, y_sub_train, y_sub_test = train_test_split(X_sub, y_sub, test_size=0.3, random_state=42)\n",
    "    \n",
    "    # combine training ref and sub samples\n",
    "    X_train = pd.concat([X_ref_train, X_sub_train])\n",
    "    y_train = pd.concat([y_ref_train, y_sub_train])\n",
    "\n",
    "    # combine testing ref and sub samples\n",
    "    X_test = pd.concat([X_ref_test, X_sub_test])\n",
    "    y_test = pd.concat([y_ref_test, y_sub_test])\n",
    "    \n",
    "    X_train = X_train.reset_index(drop=True)\n",
    "    y_train = y_train.reset_index(drop=True)\n",
    "    \n",
    "    X_train_s, y_train_s = shuffle(X_train, y_train)\n",
    "    \n",
    "    m=getModel()\n",
    "    hist = m.fit(X_train_s.values, y_train_s.values, epochs=100, verbose=0, shuffle=True, batch_size=10)\n",
    "\n",
    "    \n",
    "    loss_and_metrics = m.evaluate(X_test.values, y_test.values)#, batch_size=256)\n",
    "    #print(loss_and_metrics)\n",
    "    \n",
    "    del m\n",
    "    #gc.collect()\n",
    "    \n",
    "    if loss_and_metrics[1] > cut or not count%5: \n",
    "        plotHist(hist)\n",
    "#         plot_roc(fpr, tpr, auc_score)\n",
    "#         filename='tree_'+sub.index.min().strftime(\"%Y-%m-%d_%H\")\n",
    "#         tree.export_graphviz(clf.estimators_[0] , out_file=filename +'_1.dot') \n",
    "#         tree.export_graphviz(clf.estimators_[1] , out_file=filename +'_2.dot') \n",
    "        \n",
    "    return scaled_accuracy(loss_and_metrics[1], ref.shape[0], sub.shape[0])"
   ]
  },
  {
   "cell_type": "code",
   "execution_count": null,
   "metadata": {
    "collapsed": true
   },
   "outputs": [],
   "source": []
  }
 ],
 "metadata": {
  "kernelspec": {
   "display_name": "Python 3",
   "language": "python",
   "name": "python3"
  },
  "language_info": {
   "codemirror_mode": {
    "name": "ipython",
    "version": 3
   },
   "file_extension": ".py",
   "mimetype": "text/x-python",
   "name": "python",
   "nbconvert_exporter": "python",
   "pygments_lexer": "ipython3",
   "version": "3.4.5"
  }
 },
 "nbformat": 4,
 "nbformat_minor": 1
}
