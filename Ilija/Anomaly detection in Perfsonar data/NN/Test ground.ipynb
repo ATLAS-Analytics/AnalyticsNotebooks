{
 "cells": [
  {
   "cell_type": "markdown",
   "metadata": {},
   "source": [
    "#### imports"
   ]
  },
  {
   "cell_type": "code",
   "execution_count": 3,
   "metadata": {},
   "outputs": [],
   "source": [
    "import numpy as np\n",
    "from keras.models import Sequential\n",
    "from keras.layers import Dense, Dropout\n",
    "\n",
    "from keras.layers import Embedding\n",
    "from keras.layers import LSTM\n",
    "\n",
    "import tensorflow as tf\n"
   ]
  },
  {
   "cell_type": "markdown",
   "metadata": {},
   "source": [
    "#### data generation"
   ]
  },
  {
   "cell_type": "code",
   "execution_count": 4,
   "metadata": {
    "collapsed": true
   },
   "outputs": [],
   "source": [
    "# Generate dummy data\n",
    "x_train = np.random.random((1000, 20))\n",
    "y_train = np.random.randint(2, size=(1000, 1))\n",
    "x_test = np.random.random((100, 20))\n",
    "y_test = np.random.randint(2, size=(100, 1))\n",
    "#print(y_train)"
   ]
  },
  {
   "cell_type": "markdown",
   "metadata": {},
   "source": [
    "### Binary classification"
   ]
  },
  {
   "cell_type": "code",
   "execution_count": null,
   "metadata": {},
   "outputs": [],
   "source": [
    "\n",
    "with tf.device('/cpu:0'):\n",
    "    model = Sequential()\n",
    "    model.add(Dense(64, input_dim=20, activation='relu'))\n",
    "    model.add(Dropout(0.5))\n",
    "    model.add(Dense(64, activation='relu'))\n",
    "    model.add(Dropout(0.5))\n",
    "    model.add(Dense(1, activation='sigmoid'))\n",
    "\n",
    "    model.compile(loss='binary_crossentropy', optimizer='rmsprop', metrics=['accuracy'])\n",
    "\n",
    "    model.fit(x_train, y_train, epochs=20, batch_size=128)\n",
    "    score = model.evaluate(x_test, y_test, batch_size=128)\n",
    "    print(score)"
   ]
  },
  {
   "cell_type": "markdown",
   "metadata": {
    "collapsed": true
   },
   "source": [
    "### Sequence classification with LSTM"
   ]
  },
  {
   "cell_type": "code",
   "execution_count": 6,
   "metadata": {},
   "outputs": [
    {
     "name": "stdout",
     "output_type": "stream",
     "text": [
      "Epoch 1/10\n",
      "1000/1000 [==============================] - 1s - loss: 0.6966 - acc: 0.5000     \n",
      "Epoch 2/10\n",
      "1000/1000 [==============================] - 1s - loss: 0.6931 - acc: 0.5240     \n",
      "Epoch 3/10\n",
      "1000/1000 [==============================] - 1s - loss: 0.6973 - acc: 0.4970     \n",
      "Epoch 4/10\n",
      "1000/1000 [==============================] - 1s - loss: 0.6932 - acc: 0.5170     \n",
      "Epoch 5/10\n",
      "1000/1000 [==============================] - 1s - loss: 0.6946 - acc: 0.4990     \n",
      "Epoch 6/10\n",
      "1000/1000 [==============================] - 1s - loss: 0.6943 - acc: 0.5030     \n",
      "Epoch 7/10\n",
      "1000/1000 [==============================] - 1s - loss: 0.6954 - acc: 0.4960     \n",
      "Epoch 8/10\n",
      "1000/1000 [==============================] - 1s - loss: 0.6953 - acc: 0.5080     \n",
      "Epoch 9/10\n",
      "1000/1000 [==============================] - 1s - loss: 0.6938 - acc: 0.5060     \n",
      "Epoch 10/10\n",
      "1000/1000 [==============================] - 1s - loss: 0.6960 - acc: 0.4660     \n",
      " 16/100 [===>..........................] - ETA: 0s\n",
      "score: [0.69260152101516725, 0.54000000000000004]\n"
     ]
    }
   ],
   "source": [
    "max_features=64\n",
    "with tf.device('/cpu:0'):\n",
    "    model = Sequential()\n",
    "    model.add(Embedding(max_features, output_dim=256))\n",
    "    model.add(LSTM(128))\n",
    "    model.add(Dropout(0.5))\n",
    "    model.add(Dense(1, activation='sigmoid'))\n",
    "\n",
    "    model.compile(loss='binary_crossentropy', optimizer='rmsprop', metrics=['accuracy'])\n",
    "\n",
    "    model.fit(x_train, y_train, batch_size=16, epochs=10)\n",
    "    score = model.evaluate(x_test, y_test, batch_size=16)\n",
    "    print(\"\\nscore:\",score)"
   ]
  },
  {
   "cell_type": "code",
   "execution_count": null,
   "metadata": {
    "collapsed": true
   },
   "outputs": [],
   "source": []
  }
 ],
 "metadata": {
  "kernelspec": {
   "display_name": "Python3.4 GPU ML",
   "language": "python",
   "name": "sys_kernel_py3.4_gpu"
  },
  "language_info": {
   "codemirror_mode": {
    "name": "ipython",
    "version": 3
   },
   "file_extension": ".py",
   "mimetype": "text/x-python",
   "name": "python",
   "nbconvert_exporter": "python",
   "pygments_lexer": "ipython3",
   "version": "3.4.5"
  }
 },
 "nbformat": 4,
 "nbformat_minor": 2
}
