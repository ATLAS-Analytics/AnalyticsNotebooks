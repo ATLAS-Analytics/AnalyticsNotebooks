{
 "cells": [
  {
   "cell_type": "markdown",
   "metadata": {},
   "source": [
    "## ANN learning to distingush two kinds of photos"
   ]
  },
  {
   "cell_type": "code",
   "execution_count": 1,
   "metadata": {},
   "outputs": [
    {
     "name": "stderr",
     "output_type": "stream",
     "text": [
      "Using TensorFlow backend.\n"
     ]
    }
   ],
   "source": [
    "%matplotlib inline\n",
    "\n",
    "import os\n",
    "\n",
    "import matplotlib.pyplot as plt\n",
    "import numpy as np\n",
    "import pandas as pd\n",
    "\n",
    "from sklearn.model_selection import train_test_split\n",
    "from sklearn.metrics import roc_auc_score, roc_curve\n",
    "from sklearn.preprocessing import StandardScaler\n",
    "\n",
    "from keras.models import Sequential\n",
    "from keras.layers import Dense, Activation, Flatten, Reshape\n",
    "from keras.layers import Conv2D, Conv2DTranspose, UpSampling2D, MaxPooling2D, LocallyConnected2D\n",
    "from keras.layers import LeakyReLU, Dropout\n",
    "from keras.layers import BatchNormalization\n",
    "from keras.optimizers import Adam, RMSprop\n",
    "from keras.utils import to_categorical"
   ]
  },
  {
   "cell_type": "markdown",
   "metadata": {},
   "source": [
    "#### load the data"
   ]
  },
  {
   "cell_type": "code",
   "execution_count": 2,
   "metadata": {
    "collapsed": true
   },
   "outputs": [],
   "source": [
    "#a1 = np.random.random((3,2,2))\n",
    "#print(a1.shape)\n",
    "#a2 = a1[:, 0:2, :1]\n",
    "#a2.shape\n",
    "#a2.reshape(3,2)"
   ]
  },
  {
   "cell_type": "code",
   "execution_count": 3,
   "metadata": {
    "scrolled": true
   },
   "outputs": [
    {
     "name": "stdout",
     "output_type": "stream",
     "text": [
      "files loaded: 300\n",
      "signal (images, y, x):  (300000, 48, 32)\n",
      "image size: (48, 32)\n"
     ]
    },
    {
     "data": {
      "image/png": "[encoded data removed]",
      "text/plain": [
       "<Figure size 432x288 with 2 Axes>"
      ]
     },
     "metadata": {},
     "output_type": "display_data"
    },
    {
     "name": "stdout",
     "output_type": "stream",
     "text": [
      "[[    29     29     29 ... 299990 299990 299990]\n",
      " [    33     34     35 ...     45     46     47]\n",
      " [     0      0      0 ...      0      0      0]]\n",
      "(3, 368657)\n",
      "signal_data.shape =  (300000, 48, 32)\n"
     ]
    }
   ],
   "source": [
    "# signal\n",
    "\n",
    "data = []\n",
    "#dir_name = 'signal_spha_time_nl_32x50_Te130_center_F200'\n",
    "dir_name = 'signal_spha_cumulative_time_nl_32x50_Te130_dVrndVtx_3p0mSphere_F300'\n",
    "#dir_name='background_10x20x64_allLight_dT32p0ns_1gamma_2p529MeV_rndVtx_3p0mSphere_rndDir_F200'\n",
    "#dir_name = 'signal_10x20x64_allLight_dT32p0ns_Te130_center_F60'\n",
    "i=0\n",
    "for file in os.listdir(dir_name):\n",
    "    if file.endswith(\".npy\"):\n",
    "        #print(file)\n",
    "        fn = os.path.join(dir_name, file)\n",
    "        data.append(np.load(fn))\n",
    "        i += 1\n",
    "#    if i==165 :\n",
    "#        break\n",
    "\n",
    "print ('files loaded:', len(data))\n",
    "signal_data = np.concatenate(tuple(data))\n",
    "\n",
    "signal_data = signal_data[:,1:49,0:32]\n",
    "\n",
    "print('signal (images, y, x): ', signal_data.shape)\n",
    "\n",
    "signal_images=signal_data.shape[0]\n",
    "\n",
    "#ev = np.swapaxes(signal_data, 0, 2)\n",
    "#print('signal_data after 1st swapaxes = ',signal_data.shape)\n",
    "#print('ev after 1st swapaxes = ',ev.shape)\n",
    "#ev = np.swapaxes(ev, 1, 2)\n",
    "#print('ev after 2nd swapaxes = ',ev.shape)\n",
    "ev_display = signal_data[92854] #[5] #f1 evt=497, f2 evt=30\n",
    "input_shape=ev_display.shape\n",
    "print('image size:', input_shape)\n",
    "plt.imshow(ev_display)\n",
    "plt.colorbar()\n",
    "plt.show()\n",
    "\n",
    "#signal_short = signal_data[:, :1, :2]\n",
    "strange_events = np.array(np.where(signal_data>2.5))\n",
    "print(strange_events)\n",
    "print(strange_events.shape)\n",
    "#print(signal_data[0:1]\n",
    "print('signal_data.shape = ',signal_data.shape)\n",
    "#print('signal_short.shape = ',signal_short.shape)\n",
    "#print(signal_short)"
   ]
  },
  {
   "cell_type": "code",
   "execution_count": 4,
   "metadata": {
    "scrolled": true
   },
   "outputs": [
    {
     "name": "stdout",
     "output_type": "stream",
     "text": [
      "files loaded: 300\n",
      "background_data.shape =  (300000, 50, 32)\n",
      "background_data.shape =  (300000, 50, 32)\n",
      "background (images, y, x):  (300000, 48, 32)\n",
      "image size: (48, 32)\n"
     ]
    },
    {
     "data": {
      "image/png": "[encoded data removed]",
      "text/plain": [
       "<Figure size 432x288 with 2 Axes>"
      ]
     },
     "metadata": {},
     "output_type": "display_data"
    }
   ],
   "source": [
    "# background\n",
    "\n",
    "data = []\n",
    "file_sum = []\n",
    "#dir_name='background_spha_time_nl_32x50_1el_2p529MeV_center_rndDir_F200'\n",
    "dir_name='background_spha_cumulative_time_nl_32x50_1el_2p529MeV_dVrndVtx_3p0mSphere_rndDir_F300'\n",
    "#dir_name='background_10x20x64_allLight_dT32p0ns_1gamma_2p529MeV_dVrndVtx_3p0mSphere_rndDir_F200'\n",
    "#dir_name='background_10x20x64_allLight_dT32p0ns_C10_center'\n",
    "#dir_name='background_10x20x64_allLight_dT32p0ns_C10_dVrndVtx_3p0mSphere'\n",
    "i = 0\n",
    "for file in os.listdir(dir_name):\n",
    "#    print('i = ',i)\n",
    "    if file.endswith(\".npy\"):\n",
    "        fn = os.path.join(dir_name, file)\n",
    "        file_data = np.load(fn)\n",
    "#        file_data = file_data[file_data.sum(-1).sum(-1).sum(-1)!=0]\n",
    "        file_sum.append(file_data.sum(-1).sum(-1).sum(-1))\n",
    "        if i==0:\n",
    "            data.append(file_data)\n",
    "        if file_sum[i]!=file_sum[i-1] and i>0 : #this can probably happen to Sl data (need to check...)\n",
    "#        if i>0:\n",
    "            data.append(file_data)\n",
    "    i += 1\n",
    "#    if i==165: #360\n",
    "#        break\n",
    "\n",
    "print ('files loaded:', len(data))\n",
    "background_data = np.concatenate(tuple(data))\n",
    "data = file_data\n",
    "        \n",
    "print('background_data.shape = ',background_data.shape)\n",
    "background_data = background_data[background_data.sum(-1).sum(-1)!=0]\n",
    "print('background_data.shape = ',background_data.shape)\n",
    "#print ('files loaded:', len(data))\n",
    "#background_data = np.concatenate(tuple(data))\n",
    "\n",
    "background_data = background_data[:,1:49,0:32]\n",
    "\n",
    "print('background (images, y, x): ', background_data.shape)\n",
    "\n",
    "background_images=background_data.shape[0]\n",
    "\n",
    "#ev = np.swapaxes(background_data, 1, 3)\n",
    "#print('signal_data after 1st swapaxes = ',background_data.shape)\n",
    "#print('ev after 1st swapaxes = ',ev.shape)\n",
    "#ev = np.swapaxes(ev, 2, 3)\n",
    "#print('ev after 2nd swapaxes = ',ev.shape)\n",
    "ev_display = background_data[497]\n",
    "input_shape=ev_display.shape\n",
    "print('image size:', input_shape)\n",
    "plt.imshow(ev_display)\n",
    "plt.colorbar()\n",
    "plt.show()\n"
   ]
  },
  {
   "cell_type": "code",
   "execution_count": 5,
   "metadata": {
    "collapsed": true
   },
   "outputs": [],
   "source": [
    "# signal type 2\n",
    "\n",
    "#data = []\n",
    "#for file in os.listdir(\"signal_type2_simple\"):\n",
    "#    if file.endswith(\".npy\"):\n",
    "#        fn = os.path.join(\"signal_type2_simple\", file)\n",
    "#        data.append(np.load(fn))pe\n",
    "\n",
    "#print ('files loaded:', len(data))\n",
    "#signal_type2_data = np.concatenate(tuple(data))\n",
    "\n",
    "#print('signal type2 (images, y, x): ', signal_type2_data.shape)\n",
    "\n",
    "#signal_type2_images=signal_type2_data.shape[0]\n",
    "\n",
    "#ev = background_type2_data[1]\n",
    "#input_shape=ev.shape\n",
    "#print('image size:', input_shape)\n",
    "#plt.imshow(ev)\n",
    "#plt.colorbar()\n",
    "#plt.show()\n"
   ]
  },
  {
   "cell_type": "markdown",
   "metadata": {},
   "source": [
    "### create labels and rescale data"
   ]
  },
  {
   "cell_type": "code",
   "execution_count": 6,
   "metadata": {},
   "outputs": [
    {
     "name": "stdout",
     "output_type": "stream",
     "text": [
      "labels.shape =  (600000,)\n",
      "(600000, 48, 32)\n",
      "[]\n",
      "(600000, 1536)\n"
     ]
    }
   ],
   "source": [
    "labels = np.array([1] * signal_images + [0] * background_images)\n",
    "print('labels.shape = ',labels.shape)\n",
    "data=np.concatenate((signal_data, background_data))\n",
    "signal_data = []\n",
    "background_data = []\n",
    "#data = data[:, 1:50, :]\n",
    "print (data.shape)\n",
    "print(np.argwhere(np.isnan(data)))\n",
    "N = data.shape[0]\n",
    "#print(data[:2, :, :])\n",
    "data = data.reshape(N, 48*32)\n",
    "\n",
    "#data = data.reshape(1, N, 49, 5)\n",
    "#print (data.shape)\n",
    "#data = data.swapaxes(0, 1)\n",
    "#data = data.swapaxes(1, 2)\n",
    "#data = data.swapaxes(2, 3)\n",
    "print (data.shape)\n",
    "#print(data[:2, :])"
   ]
  },
  {
   "cell_type": "markdown",
   "metadata": {},
   "source": [
    "### split into training and test samples"
   ]
  },
  {
   "cell_type": "code",
   "execution_count": 7,
   "metadata": {
    "scrolled": true
   },
   "outputs": [
    {
     "name": "stdout",
     "output_type": "stream",
     "text": [
      "images: (540000, 1536) (60000, 1536)\n",
      "labels: (540000,) (60000,)\n"
     ]
    }
   ],
   "source": [
    "(trainX, testX, trainY, testY) = train_test_split(data, labels, test_size=0.10, random_state=42)\n",
    "\n",
    "print('images:', trainX.shape, testX.shape)\n",
    "print('labels:', trainY.shape, testY.shape)\n",
    "\n",
    "\n",
    "#trainY = to_categorical(trainY, num_classes=2)\n",
    "#testY = to_categorical(testY, num_classes=2)"
   ]
  },
  {
   "cell_type": "code",
   "execution_count": 8,
   "metadata": {
    "scrolled": true
   },
   "outputs": [
    {
     "name": "stdout",
     "output_type": "stream",
     "text": [
      "train min =  7.697299965622094e-07\n",
      "train max =  7.7190147399574185\n",
      "train mean =  0.03633896965211217\n",
      "[2.54109629 2.58237914 2.5924363  ... 2.82974743 2.67448644 2.61482065]\n",
      "(array([     1,      1,      1, ..., 539991, 539991, 539994]), array([ 864,  896,  928, ..., 1472, 1504, 1504]))\n",
      "test min =  2.53270386090489e-06\n",
      "test max =  7.719014739957017\n",
      "scaled train min =  7.697299965622094e-07\n",
      "scaled train max =  7.7190147399574185\n",
      "scaled test min =  2.53270386090489e-06\n",
      "scaled test max =  7.719014739957017\n"
     ]
    }
   ],
   "source": [
    "print('train min = ', np.amin(trainX))\n",
    "print('train max = ', np.amax(trainX))\n",
    "print('train mean = ',trainX.mean())\n",
    "\n",
    "print(trainX[trainX[:,:]>2.5])\n",
    "print(np.where(trainX>2.5))\n",
    "\n",
    "where_are_NaNs = np.isnan(trainX)\n",
    "#trainX[where_are_NaNs] = 0\n",
    "#print('min = ', np.amin(trainX))\n",
    "\n",
    "print('test min = ', np.amin(testX))\n",
    "print('test max = ', np.amax(testX))\n",
    "where_are_NaNs = np.isnan(testX)\n",
    "#print(where_are_NaNs)\n",
    "#testX[where_are_NaNs] = 0\n",
    "#print('min = ', np.amin(testX))\n",
    "\n",
    "#scaler = StandardScaler().fit(trainX)\n",
    "#trainX = scaler.transform(trainX)\n",
    "#testX = scaler.transform(testX)\n",
    "\n",
    "print('scaled train min = ', np.amin(trainX))\n",
    "print('scaled train max = ', np.amax(trainX))\n",
    "print('scaled test min = ', np.amin(testX))\n",
    "print('scaled test max = ', np.amax(testX))"
   ]
  },
  {
   "cell_type": "markdown",
   "metadata": {},
   "source": [
    "### functions"
   ]
  },
  {
   "cell_type": "code",
   "execution_count": 42,
   "metadata": {
    "collapsed": true
   },
   "outputs": [],
   "source": [
    "def createModel():\n",
    "    model = Sequential()\n",
    "    model.add(Dense(800, activation='relu',input_shape=(48*32,))) \n",
    "#    model.add(LocallyConnected2D(32, (7, 1), padding='valid', strides=(7,1), input_shape=(49,5,1))) #h=7, w=5\n",
    "#    model.add(Activation('relu'))\n",
    "    #model.add(MaxPooling2D(pool_size=(2, 1),strides=(1,1))) #h = 24, w = 2\n",
    "    #model.add(Dropout(0.1))\n",
    "    \n",
    "#    model.add(Conv2D(64, (4, 2), padding='valid', activation='relu')) #h=4, w =4\n",
    "#    model.add(MaxPooling2D(pool_size=(2, 2), strides=(1,1))) #h=3, w=3\n",
    "    #model.add(Dropout(0.1))\n",
    "    \n",
    "#    model.add(Conv2D(128, (2, 2), padding='same', activation='relu')) #h=2, w=2\n",
    "#    model.add(MaxPooling2D(pool_size=(2, 2))) #h=1, w=1\n",
    "   # model.add(Dropout(0.5))\n",
    " #\n",
    " #   model.add(Conv2D(30, (3, 3), activation='relu'))\n",
    " #   model.add(MaxPooling2D(pool_size=(2, 2)))\n",
    " #   model.add(Dropout(0.25))\n",
    " \n",
    "#   model.add(Flatten())\n",
    "    model.add(Dense(800, activation='relu'))\n",
    "    #model.add(Dropout(0.1))\n",
    "    model.add(Dense(512, activation='relu'))\n",
    "    #model.add(Dropout(0.3))\n",
    "    model.add(Dense(256, activation='relu'))\n",
    "    #model.add(Dropout(0.2))\n",
    "    model.add(Dense(256, activation='relu'))\n",
    "    #model.add(Dropout(0.1))\n",
    "    model.add(Dense(128, activation='relu'))\n",
    "    #model.add(Dropout(0.25))\n",
    "    #model.add(Dense(16, activation='relu'))\n",
    "    #model.add(Dropout(0.25))\n",
    "    #model.add(Dense(8, activation='relu'))\n",
    "    #model.add(Dropout(0.25))\n",
    "    #model.add(Dense(4, activation='relu'))\n",
    "    #model.add(Dropout(0.25))\n",
    "    model.add(Dense(1, activation='sigmoid'))\n",
    "     \n",
    "    return model"
   ]
  },
  {
   "cell_type": "code",
   "execution_count": 43,
   "metadata": {
    "collapsed": true
   },
   "outputs": [],
   "source": [
    "my_network=createModel()"
   ]
  },
  {
   "cell_type": "code",
   "execution_count": 44,
   "metadata": {},
   "outputs": [
    {
     "name": "stdout",
     "output_type": "stream",
     "text": [
      "The crash is right after this\n",
      "Train on 540000 samples, validate on 60000 samples\n",
      "Epoch 1/50\n",
      "540000/540000 [==============================] - 15s 28us/step - loss: 0.6868 - acc: 0.5481 - val_loss: 0.6849 - val_acc: 0.5515\n",
      "Epoch 2/50\n",
      "540000/540000 [==============================] - 15s 27us/step - loss: 0.6844 - acc: 0.5534 - val_loss: 0.6870 - val_acc: 0.5539\n",
      "Epoch 3/50\n",
      "540000/540000 [==============================] - 13s 25us/step - loss: 0.6836 - acc: 0.5552 - val_loss: 0.6856 - val_acc: 0.5452\n",
      "Epoch 4/50\n",
      "540000/540000 [==============================] - 15s 27us/step - loss: 0.6832 - acc: 0.5561 - val_loss: 0.6814 - val_acc: 0.5616\n",
      "Epoch 5/50\n",
      "540000/540000 [==============================] - 12s 23us/step - loss: 0.6828 - acc: 0.5566 - val_loss: 0.6822 - val_acc: 0.5573\n",
      "Epoch 6/50\n",
      "540000/540000 [==============================] - 12s 22us/step - loss: 0.6825 - acc: 0.5575 - val_loss: 0.6869 - val_acc: 0.5569\n",
      "Epoch 7/50\n",
      "540000/540000 [==============================] - 12s 23us/step - loss: 0.6824 - acc: 0.5576 - val_loss: 0.6819 - val_acc: 0.5596\n",
      "Epoch 8/50\n",
      "540000/540000 [==============================] - 12s 23us/step - loss: 0.6822 - acc: 0.5581 - val_loss: 0.6812 - val_acc: 0.5603\n",
      "Epoch 9/50\n",
      "540000/540000 [==============================] - 14s 25us/step - loss: 0.6820 - acc: 0.5584 - val_loss: 0.6825 - val_acc: 0.5543\n",
      "Epoch 10/50\n",
      "540000/540000 [==============================] - 13s 25us/step - loss: 0.6817 - acc: 0.5591 - val_loss: 0.6841 - val_acc: 0.5546\n",
      "Epoch 11/50\n",
      "540000/540000 [==============================] - 14s 26us/step - loss: 0.6816 - acc: 0.5589 - val_loss: 0.6801 - val_acc: 0.5607\n",
      "Epoch 12/50\n",
      "540000/540000 [==============================] - 14s 25us/step - loss: 0.6815 - acc: 0.5594 - val_loss: 0.6820 - val_acc: 0.5606\n",
      "Epoch 13/50\n",
      "540000/540000 [==============================] - 16s 30us/step - loss: 0.6816 - acc: 0.5582 - val_loss: 0.6795 - val_acc: 0.5634\n",
      "Epoch 14/50\n",
      "540000/540000 [==============================] - 14s 27us/step - loss: 0.6814 - acc: 0.5594 - val_loss: 0.6802 - val_acc: 0.5643\n",
      "Epoch 15/50\n",
      "540000/540000 [==============================] - 13s 24us/step - loss: 0.6813 - acc: 0.5589 - val_loss: 0.6813 - val_acc: 0.5622\n",
      "Epoch 16/50\n",
      "540000/540000 [==============================] - 11s 21us/step - loss: 0.6811 - acc: 0.5597 - val_loss: 0.6870 - val_acc: 0.5577\n",
      "Epoch 17/50\n",
      "540000/540000 [==============================] - 13s 25us/step - loss: 0.6811 - acc: 0.5601 - val_loss: 0.6792 - val_acc: 0.5649\n",
      "Epoch 18/50\n",
      "540000/540000 [==============================] - 12s 22us/step - loss: 0.6811 - acc: 0.5605 - val_loss: 0.6819 - val_acc: 0.5557\n",
      "Epoch 19/50\n",
      "540000/540000 [==============================] - 13s 24us/step - loss: 0.6809 - acc: 0.5603 - val_loss: 0.6798 - val_acc: 0.5649\n",
      "Epoch 20/50\n",
      "540000/540000 [==============================] - 11s 21us/step - loss: 0.6810 - acc: 0.5603 - val_loss: 0.6807 - val_acc: 0.5623\n",
      "Epoch 21/50\n",
      "540000/540000 [==============================] - 13s 24us/step - loss: 0.6810 - acc: 0.5602 - val_loss: 0.6813 - val_acc: 0.5643\n",
      "Epoch 22/50\n",
      "540000/540000 [==============================] - 14s 25us/step - loss: 0.6808 - acc: 0.5613 - val_loss: 0.6819 - val_acc: 0.5552\n",
      "Epoch 23/50\n",
      "540000/540000 [==============================] - 12s 23us/step - loss: 0.6807 - acc: 0.5610 - val_loss: 0.6852 - val_acc: 0.5657\n",
      "Epoch 24/50\n",
      "540000/540000 [==============================] - 13s 24us/step - loss: 0.6809 - acc: 0.5609 - val_loss: 0.6796 - val_acc: 0.5656\n",
      "Epoch 25/50\n",
      "540000/540000 [==============================] - 14s 27us/step - loss: 0.6808 - acc: 0.5604 - val_loss: 0.6805 - val_acc: 0.5619\n",
      "Epoch 26/50\n",
      "540000/540000 [==============================] - 14s 26us/step - loss: 0.6806 - acc: 0.5616 - val_loss: 0.6796 - val_acc: 0.5633\n",
      "Epoch 27/50\n",
      "540000/540000 [==============================] - 13s 25us/step - loss: 0.6805 - acc: 0.5614 - val_loss: 0.6835 - val_acc: 0.5522\n",
      "Epoch 28/50\n",
      "540000/540000 [==============================] - 12s 22us/step - loss: 0.6806 - acc: 0.5609 - val_loss: 0.6787 - val_acc: 0.5658\n",
      "Epoch 29/50\n",
      "540000/540000 [==============================] - 14s 25us/step - loss: 0.6805 - acc: 0.5617 - val_loss: 0.6798 - val_acc: 0.5635\n",
      "Epoch 30/50\n",
      "540000/540000 [==============================] - 15s 27us/step - loss: 0.6804 - acc: 0.5619 - val_loss: 0.6789 - val_acc: 0.5643\n",
      "Epoch 31/50\n",
      "540000/540000 [==============================] - 13s 25us/step - loss: 0.6804 - acc: 0.5617 - val_loss: 0.6789 - val_acc: 0.5656\n",
      "Epoch 32/50\n",
      "540000/540000 [==============================] - 12s 21us/step - loss: 0.6804 - acc: 0.5614 - val_loss: 0.6781 - val_acc: 0.5674\n",
      "Epoch 33/50\n",
      "540000/540000 [==============================] - 12s 23us/step - loss: 0.6804 - acc: 0.5617 - val_loss: 0.6824 - val_acc: 0.5601\n",
      "Epoch 34/50\n",
      "540000/540000 [==============================] - 15s 27us/step - loss: 0.6805 - acc: 0.5619 - val_loss: 0.6819 - val_acc: 0.5592\n",
      "Epoch 35/50\n",
      "540000/540000 [==============================] - 14s 26us/step - loss: 0.6804 - acc: 0.5623 - val_loss: 0.6800 - val_acc: 0.5661\n",
      "Epoch 36/50\n",
      "540000/540000 [==============================] - 13s 24us/step - loss: 0.6803 - acc: 0.5624 - val_loss: 0.6788 - val_acc: 0.5656\n",
      "Epoch 37/50\n",
      "540000/540000 [==============================] - 11s 20us/step - loss: 0.6801 - acc: 0.5623 - val_loss: 0.6796 - val_acc: 0.5662\n",
      "Epoch 38/50\n",
      "540000/540000 [==============================] - 10s 19us/step - loss: 0.6802 - acc: 0.5627 - val_loss: 0.6786 - val_acc: 0.5673\n",
      "Epoch 39/50\n",
      "540000/540000 [==============================] - 14s 26us/step - loss: 0.6802 - acc: 0.5626 - val_loss: 0.6798 - val_acc: 0.5617\n",
      "Epoch 40/50\n",
      "540000/540000 [==============================] - 13s 23us/step - loss: 0.6801 - acc: 0.5630 - val_loss: 0.6876 - val_acc: 0.5673\n",
      "Epoch 41/50\n",
      "540000/540000 [==============================] - 13s 24us/step - loss: 0.6805 - acc: 0.5609 - val_loss: 0.6854 - val_acc: 0.5564\n",
      "Epoch 42/50\n",
      "540000/540000 [==============================] - 13s 24us/step - loss: 0.6802 - acc: 0.5621 - val_loss: 0.6785 - val_acc: 0.5651\n",
      "Epoch 43/50\n",
      "540000/540000 [==============================] - 14s 26us/step - loss: 0.6802 - acc: 0.5619 - val_loss: 0.6982 - val_acc: 0.5466\n",
      "Epoch 44/50\n",
      "540000/540000 [==============================] - 15s 28us/step - loss: 0.6802 - acc: 0.5620 - val_loss: 0.6793 - val_acc: 0.5648\n",
      "Epoch 45/50\n",
      "540000/540000 [==============================] - 14s 25us/step - loss: 0.6803 - acc: 0.5622 - val_loss: 0.6811 - val_acc: 0.5647\n",
      "Epoch 46/50\n",
      "540000/540000 [==============================] - 13s 24us/step - loss: 0.6802 - acc: 0.5624 - val_loss: 0.6793 - val_acc: 0.5654\n",
      "Epoch 47/50\n",
      "540000/540000 [==============================] - 15s 28us/step - loss: 0.6803 - acc: 0.5620 - val_loss: 0.6796 - val_acc: 0.5663\n",
      "Epoch 48/50\n",
      "540000/540000 [==============================] - 12s 23us/step - loss: 0.6803 - acc: 0.5627 - val_loss: 0.6805 - val_acc: 0.5672\n",
      "Epoch 49/50\n",
      "540000/540000 [==============================] - 14s 25us/step - loss: 0.6801 - acc: 0.5628 - val_loss: 0.6831 - val_acc: 0.5623\n",
      "Epoch 50/50\n",
      "540000/540000 [==============================] - 14s 26us/step - loss: 0.6800 - acc: 0.5632 - val_loss: 0.6812 - val_acc: 0.5612\n",
      "The crash is right after this 2\n",
      "60000/60000 [==============================] - 2s 31us/step\n"
     ]
    },
    {
     "data": {
      "text/plain": [
       "[0.681151621500651, 0.5611833333333334]"
      ]
     },
     "execution_count": 44,
     "metadata": {},
     "output_type": "execute_result"
    }
   ],
   "source": [
    "batch_size = 256\n",
    "epochs = 50\n",
    "\n",
    "my_network.compile(optimizer='rmsprop', loss='binary_crossentropy', metrics=['accuracy'])\n",
    "print('The crash is right after this')\n",
    "history = my_network.fit(trainX, trainY, batch_size=batch_size, epochs=epochs, verbose=1, validation_data=(testX, testY))\n",
    "print('The crash is right after this 2')\n",
    "my_network.evaluate(testX, testY)"
   ]
  },
  {
   "cell_type": "code",
   "execution_count": 40,
   "metadata": {},
   "outputs": [
    {
     "data": {
      "text/plain": [
       "Text(0.5,1,'Accuracy Curves')"
      ]
     },
     "execution_count": 40,
     "metadata": {},
     "output_type": "execute_result"
    },
    {
     "data": {
      "image/png": "[encoded data removed]",
      "text/plain": [
       "<Figure size 576x432 with 1 Axes>"
      ]
     },
     "metadata": {},
     "output_type": "display_data"
    },
    {
     "data": {
      "image/png": "[encoded data removed]",
      "text/plain": [
       "<Figure size 576x432 with 1 Axes>"
      ]
     },
     "metadata": {},
     "output_type": "display_data"
    }
   ],
   "source": [
    "# Loss Curves\n",
    "plt.figure(figsize=[8,6])\n",
    "plt.plot(history.history['loss'],'r',linewidth=3.0)\n",
    "plt.plot(history.history['val_loss'],'b',linewidth=3.0)\n",
    "plt.legend(['Training loss', 'Validation Loss'],fontsize=18)\n",
    "plt.xlabel('Epochs ',fontsize=16)\n",
    "plt.ylabel('Loss',fontsize=16)\n",
    "plt.title('Loss Curves',fontsize=16)\n",
    " \n",
    "# Accuracy Curves\n",
    "plt.figure(figsize=[8,6])\n",
    "plt.plot(history.history['acc'],'r',linewidth=3.0)\n",
    "plt.plot(history.history['val_acc'],'b',linewidth=3.0)\n",
    "plt.legend(['Training Accuracy', 'Validation Accuracy'],fontsize=18)\n",
    "plt.xlabel('Epochs ',fontsize=16)\n",
    "plt.ylabel('Accuracy',fontsize=16)\n",
    "plt.title('Accuracy Curves',fontsize=16)"
   ]
  },
  {
   "cell_type": "code",
   "execution_count": 41,
   "metadata": {
    "scrolled": true
   },
   "outputs": [
    {
     "name": "stdout",
     "output_type": "stream",
     "text": [
      "\n",
      "predY.shape =  (60000, 1)\n",
      "[[0.40484694]\n",
      " [0.5249859 ]\n",
      " [0.40038928]\n",
      " [0.42892   ]\n",
      " [0.3600754 ]\n",
      " [0.50189304]\n",
      " [0.4356951 ]\n",
      " [0.58804005]\n",
      " [0.3912165 ]\n",
      " [0.44603345]]\n",
      "[[1]\n",
      " [1]\n",
      " [0]\n",
      " [1]\n",
      " [0]\n",
      " [1]\n",
      " [1]\n",
      " [1]\n",
      " [0]\n",
      " [0]]\n",
      "\n",
      "auc: 0.5961007306780334\n"
     ]
    },
    {
     "data": {
      "image/png": "[encoded data removed]",
      "text/plain": [
       "<Figure size 432x288 with 1 Axes>"
      ]
     },
     "metadata": {},
     "output_type": "display_data"
    },
    {
     "name": "stdout",
     "output_type": "stream",
     "text": [
      "False positive rate: 0.0 \n",
      "True positive rate: 0.00020075618161742565\n"
     ]
    }
   ],
   "source": [
    "predY = my_network.predict_proba(testX)\n",
    "#predY = my_network.predict_proba(trainX)\n",
    "#print\n",
    "print('\\npredY.shape = ',predY.shape)\n",
    "print(predY[0:10])\n",
    "print(testY[0:10])\n",
    "auc = roc_auc_score(testY, predY)\n",
    "print('\\nauc:', auc)\n",
    "#fpr, tpr, thr =roc_curve(np.argmax(testY, axis=1), np.argmax(predY, axis=1))\n",
    "fpr, tpr, thr =roc_curve(testY, predY)\n",
    "plt.plot(fpr, tpr, label = 'auc = ' + str(auc) )\n",
    "plt.xlabel('False Positive Rate')\n",
    "plt.ylabel('True Positive Rate')\n",
    "plt.legend(loc=\"lower right\")\n",
    "plt.show()\n",
    "print('False positive rate:',fpr[1], '\\nTrue positive rate:',tpr[1])"
   ]
  },
  {
   "cell_type": "code",
   "execution_count": 14,
   "metadata": {},
   "outputs": [
    {
     "name": "stdout",
     "output_type": "stream",
     "text": [
      "_________________________________________________________________\n",
      "Layer (type)                 Output Shape              Param #   \n",
      "=================================================================\n",
      "dense_1 (Dense)              (None, 1600)              2459200   \n",
      "_________________________________________________________________\n",
      "dropout_1 (Dropout)          (None, 1600)              0         \n",
      "_________________________________________________________________\n",
      "dense_2 (Dense)              (None, 800)               1280800   \n",
      "_________________________________________________________________\n",
      "dropout_2 (Dropout)          (None, 800)               0         \n",
      "_________________________________________________________________\n",
      "dense_3 (Dense)              (None, 512)               410112    \n",
      "_________________________________________________________________\n",
      "dense_4 (Dense)              (None, 256)               131328    \n",
      "_________________________________________________________________\n",
      "dense_5 (Dense)              (None, 256)               65792     \n",
      "_________________________________________________________________\n",
      "dense_6 (Dense)              (None, 128)               32896     \n",
      "_________________________________________________________________\n",
      "dense_7 (Dense)              (None, 1)                 129       \n",
      "=================================================================\n",
      "Total params: 4,380,257\n",
      "Trainable params: 4,380,257\n",
      "Non-trainable params: 0\n",
      "_________________________________________________________________\n"
     ]
    }
   ],
   "source": [
    "my_network.summary()"
   ]
  },
  {
   "cell_type": "code",
   "execution_count": 15,
   "metadata": {},
   "outputs": [
    {
     "name": "stdout",
     "output_type": "stream",
     "text": [
      "(60000,)\n",
      "(60000, 1)\n",
      "[[1 1 0 ... 0 1 1]]\n",
      "[[1.         0.40128025]\n",
      " [1.         0.51504213]\n",
      " [0.         0.43828091]\n",
      " [1.         0.44871813]\n",
      " [0.         0.42051491]\n",
      " [1.         0.5421679 ]\n",
      " [1.         0.44922876]\n",
      " [1.         0.5571546 ]\n",
      " [0.         0.4357546 ]\n",
      " [0.         0.44447994]]\n",
      "(29887, 2)\n",
      "[[1.         0.40128025]\n",
      " [1.         0.51504213]\n",
      " [1.         0.44871813]\n",
      " [1.         0.5421679 ]\n",
      " [1.         0.44922876]\n",
      " [1.         0.5571546 ]\n",
      " [1.         0.49746564]\n",
      " [1.         0.48969144]\n",
      " [1.         0.49969214]\n",
      " [1.         0.47574484]]\n",
      "(30113, 2)\n",
      "[[0.         0.43828091]\n",
      " [0.         0.42051491]\n",
      " [0.         0.4357546 ]\n",
      " [0.         0.44447994]\n",
      " [0.         0.61606306]\n",
      " [0.         0.47531423]\n",
      " [0.         0.4635464 ]\n",
      " [0.         0.45279369]\n",
      " [0.         0.43307781]\n",
      " [0.         0.5024929 ]]\n",
      "Ntot_sig =  29887    Ntot_bkg =  30113\n",
      "cut =  0.0    n_sig =  29887    Signal efficiency =  1.0\n",
      "cut =  0.0    n_bkg =  30113    Background rejection =  1.0\n",
      "\n",
      "cut =  0.05    n_sig =  29887    Signal efficiency =  1.0\n",
      "cut =  0.05    n_bkg =  30113    Background rejection =  1.0\n",
      "\n",
      "cut =  0.1    n_sig =  29887    Signal efficiency =  1.0\n",
      "cut =  0.1    n_bkg =  30113    Background rejection =  1.0\n",
      "\n",
      "cut =  0.15000000000000002    n_sig =  29887    Signal efficiency =  1.0\n",
      "cut =  0.15000000000000002    n_bkg =  30113    Background rejection =  1.0\n",
      "\n",
      "cut =  0.2    n_sig =  29887    Signal efficiency =  1.0\n",
      "cut =  0.2    n_bkg =  30113    Background rejection =  1.0\n",
      "\n",
      "cut =  0.25    n_sig =  29887    Signal efficiency =  1.0\n",
      "cut =  0.25    n_bkg =  30112    Background rejection =  1.0000332093517534\n",
      "\n",
      "cut =  0.30000000000000004    n_sig =  29886    Signal efficiency =  0.9999665406363971\n",
      "cut =  0.30000000000000004    n_bkg =  30106    Background rejection =  1.0002325117916695\n",
      "\n",
      "cut =  0.35000000000000003    n_sig =  29857    Signal efficiency =  0.9989962190919128\n",
      "cut =  0.35000000000000003    n_bkg =  30022    Background rejection =  1.0030311105189527\n",
      "\n",
      "cut =  0.4    n_sig =  29545    Signal efficiency =  0.9885568976478067\n",
      "cut =  0.4    n_bkg =  29352    Background rejection =  1.0259266830198965\n",
      "\n",
      "cut =  0.45    n_sig =  25187    Signal efficiency =  0.8427409910663499\n",
      "cut =  0.45    n_bkg =  22910    Background rejection =  1.3144041903099084\n",
      "\n",
      "cut =  0.5    n_sig =  12428    Signal efficiency =  0.4158329708568943\n",
      "cut =  0.5    n_bkg =  8720    Background rejection =  3.4533256880733947\n",
      "\n",
      "cut =  0.55    n_sig =  6016    Signal efficiency =  0.2012915314350721\n",
      "cut =  0.55    n_bkg =  3292    Background rejection =  9.147326852976914\n",
      "\n",
      "cut =  0.6000000000000001    n_sig =  3049    Signal efficiency =  0.10201759962525513\n",
      "cut =  0.6000000000000001    n_bkg =  1436    Background rejection =  20.970055710306408\n",
      "\n",
      "cut =  0.65    n_sig =  466    Signal efficiency =  0.01559206343895339\n",
      "cut =  0.65    n_bkg =  188    Background rejection =  160.1755319148936\n",
      "\n",
      "cut =  0.7000000000000001    n_sig =  79    Signal efficiency =  0.0026432897246294377\n",
      "cut =  0.7000000000000001    n_bkg =  28    Background rejection =  1075.4642857142858\n",
      "\n",
      "cut =  0.75    n_sig =  19    Signal efficiency =  0.0006357279084551812\n",
      "cut =  0.75    n_bkg =  4    Background rejection =  7528.25\n",
      "\n",
      "cut =  0.8    n_sig =  3    Signal efficiency =  0.00010037809080871282\n",
      "cut =  0.8    n_bkg =  0    Background rejection =  900\n",
      "\n",
      "cut =  0.8500000000000001    n_sig =  1    Signal efficiency =  3.3459363602904275e-05\n",
      "cut =  0.8500000000000001    n_bkg =  0    Background rejection =  900\n",
      "\n",
      "cut =  0.9    n_sig =  0    Signal efficiency =  0.0\n",
      "cut =  0.9    n_bkg =  0    Background rejection =  900\n",
      "\n",
      "cut =  0.9500000000000001    n_sig =  0    Signal efficiency =  0.0\n",
      "cut =  0.9500000000000001    n_bkg =  0    Background rejection =  900\n",
      "\n"
     ]
    },
    {
     "data": {
      "text/plain": [
       "<matplotlib.collections.PathCollection at 0x7f60a5ed9cc0>"
      ]
     },
     "execution_count": 15,
     "metadata": {},
     "output_type": "execute_result"
    },
    {
     "data": {
      "image/png": "[encoded data removed]",
      "text/plain": [
       "<Figure size 432x288 with 1 Axes>"
      ]
     },
     "metadata": {},
     "output_type": "display_data"
    },
    {
     "data": {
      "image/png": "[encoded data removed]",
      "text/plain": [
       "<Figure size 432x288 with 1 Axes>"
      ]
     },
     "metadata": {},
     "output_type": "display_data"
    }
   ],
   "source": [
    "print(testY.shape)\n",
    "testY = testY.reshape(60000,1)\n",
    "print(predY.shape)\n",
    "print(testY.T)\n",
    "A = np.hstack((testY, predY))\n",
    "print(A[0:10,:])\n",
    "sig_out = A[A[:,0]>0]\n",
    "print(sig_out.shape)\n",
    "print(sig_out[0:10,:])\n",
    "bkg_out = A[A[:,0]==0]\n",
    "print(bkg_out.shape)\n",
    "print(bkg_out[0:10,:])\n",
    "sig = sig_out[:,1]\n",
    "bkg = bkg_out[:,1]\n",
    "##sig_hist, bin_edges = np.histogram(sig_out[:,1],bins=10, range=(0,1))\n",
    "##plt.hist(sig_hist,bins=10, range=(0,1), histtype='step',ls='solid', alpha = 1.0, lw=3, color= 'r')\n",
    "plt.hist(sig, bins=20, range=(0,1), histtype='step',ls='solid', alpha = 1.0, lw=3, color= 'r')\n",
    "plt.hist(bkg, bins=20, range=(0,1), histtype='step',ls='dashed', alpha = 1.0, lw=3, color= 'b')\n",
    "Ntot_sig = len(sig)\n",
    "Ntot_bkg = len(bkg)\n",
    "print('Ntot_sig = ',Ntot_sig,'   Ntot_bkg = ',Ntot_bkg)\n",
    "roc_c = np.zeros((20,2))\n",
    "for i in range(0,20):\n",
    "    n_sig = len(sig[np.where(sig>0.05*i)])\n",
    "    print('cut = ',0.05*i, '   n_sig = ', n_sig, '   Signal efficiency = ', n_sig/Ntot_sig)\n",
    "\n",
    "    n_bkg = len(bkg[np.where(bkg>0.05*i)])\n",
    "    if(n_bkg == 0): \n",
    "        r_bkg = 900\n",
    "    else:\n",
    "        r_bkg = Ntot_bkg/n_bkg\n",
    "    print('cut = ',0.05*i, '   n_bkg = ', n_bkg, '   Background rejection = ', r_bkg)\n",
    "    print('')\n",
    "    roc_c[i][1] = n_sig/Ntot_sig\n",
    "    roc_c[i][0] = n_bkg/Ntot_bkg\n",
    "fig2 = plt.figure()\n",
    "plt.scatter(roc_c[:,0],roc_c[:,1])\n",
    "    #for i in range(0,100):  \n",
    "#    roc_c[i][1] = n_sig/Ntot_sig\n",
    "#    roc_c[i][0] = n_bkg/Ntot_bkg\n",
    "#plt.hist2d(roc_c[:,0],roc_c[:,1])"
   ]
  },
  {
   "cell_type": "code",
   "execution_count": null,
   "metadata": {
    "collapsed": true
   },
   "outputs": [],
   "source": []
  },
  {
   "cell_type": "code",
   "execution_count": null,
   "metadata": {
    "collapsed": true,
    "scrolled": true
   },
   "outputs": [],
   "source": [
    "# background\n",
    "\n",
    "data = None\n",
    "file_sum = []\n",
    "#dir_name='background_10x20x32_allLight_dT32p0ns_1el_2p529MeV_rndVtx_3p0mSphere_rndDir'\n",
    "#dir_name='background_10x20x64_allLight_dT32p0ns_1el_2p529MeV_rndVtx_3p0mSphere_rndDir_F200'\n",
    "dir_name='background_10x20x64_allLight_dT32p0ns_C10_center'\n",
    "i = 0\n",
    "for file in os.listdir(dir_name):\n",
    "    print('i = ',i)\n",
    "    if file.endswith(\".npy\"):\n",
    "        fn = os.path.join(dir_name, file)\n",
    "#        print('file_size = ',os.path.getsize(fn))\n",
    "        file_data = np.load(fn)\n",
    "#        file_data = file_data[file_data.sum(-1).sum(-1).sum(-1)!=0]\n",
    "        file_sum.append(file_data.sum(-1).sum(-1).sum(-1).sum(-1))\n",
    "        if data is not None:\n",
    "            if file_sum[i]!=file_sum[i-1]:\n",
    "#                data = np.concatenate([data, file_data]) \n",
    "                print('append i = ',i)\n",
    "                print('pre-append data.shape = ',data.shape)\n",
    "                data = np.append(data,file_data,axis=0)\n",
    "                print('post-append data.shape = ',data.shape)\n",
    "        else:\n",
    "            data = file_data\n",
    "    i += 1\n",
    "    if i==100:\n",
    "        break\n",
    "\n",
    "print('data.shape = ',data.shape)\n",
    "background_data = data[data.sum(-1).sum(-1).sum(-1)!=0]\n",
    "print('background_data.shape = ',background_data.shape)\n",
    "#print ('files loaded:', len(data))\n",
    "#background_data = np.concatenate(tuple(data))\n",
    "\n",
    "print('background (images, y, x): ', background_data.shape)\n",
    "\n",
    "background_images=background_data.shape[0]\n",
    "\n",
    "ev = np.swapaxes(background_data, 1, 3)\n",
    "print('signal_data after 1st swapaxes = ',background_data.shape)\n",
    "print('ev after 1st swapaxes = ',ev.shape)\n",
    "ev = np.swapaxes(ev, 2, 3)\n",
    "print('ev after 2nd swapaxes = ',ev.shape)\n",
    "ev_display = ev[799][15]\n",
    "input_shape=ev_display.shape\n",
    "print('image size:', input_shape)\n",
    "plt.imshow(ev_display)\n",
    "plt.colorbar()\n",
    "plt.show()"
   ]
  },
  {
   "cell_type": "code",
   "execution_count": null,
   "metadata": {
    "collapsed": true
   },
   "outputs": [],
   "source": []
  },
  {
   "cell_type": "code",
   "execution_count": null,
   "metadata": {
    "collapsed": true
   },
   "outputs": [],
   "source": []
  }
 ],
 "metadata": {
  "kernelspec": {
   "display_name": "Python 3",
   "language": "python",
   "name": "python3"
  },
  "language_info": {
   "codemirror_mode": {
    "name": "ipython",
    "version": 3
   },
   "file_extension": ".py",
   "mimetype": "text/x-python",
   "name": "python",
   "nbconvert_exporter": "python",
   "pygments_lexer": "ipython3",
   "version": "3.5.2"
  }
 },
 "nbformat": 4,
 "nbformat_minor": 2
}
