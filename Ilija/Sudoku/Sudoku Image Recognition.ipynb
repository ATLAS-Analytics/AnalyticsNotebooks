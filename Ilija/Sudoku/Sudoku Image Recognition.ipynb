{
 "cells": [
  {
   "cell_type": "code",
   "execution_count": 1,
   "metadata": {},
   "outputs": [
    {
     "name": "stderr",
     "output_type": "stream",
     "text": [
      "/usr/lib64/python3.4/importlib/_bootstrap.py:321: FutureWarning: Conversion of the second argument of issubdtype from `float` to `np.floating` is deprecated. In future, it will be treated as `np.float64 == np.dtype(float).type`.\n",
      "  return f(*args, **kwds)\n",
      "Using TensorFlow backend.\n"
     ]
    }
   ],
   "source": [
    "# %matplotlib inline\n",
    "# import matplotlib.pyplot as plt\n",
    "\n",
    "import pandas as pd\n",
    "import numpy as np\n",
    "\n",
    "from PIL import Image, ImageDraw\n",
    "\n",
    "import keras\n",
    "from keras.models import load_model\n",
    "\n",
    "import h5py"
   ]
  },
  {
   "cell_type": "markdown",
   "metadata": {},
   "source": [
    "#### load photo convert into gray levels"
   ]
  },
  {
   "cell_type": "code",
   "execution_count": 2,
   "metadata": {
    "scrolled": true
   },
   "outputs": [
    {
     "name": "stdout",
     "output_type": "stream",
     "text": [
      "<PIL.JpegImagePlugin.JpegImageFile image mode=RGB size=4160x3120 at 0x7FAFED411748>\n"
     ]
    }
   ],
   "source": [
    "filename=\"Sample4\"\n",
    "img=Image.open(filename+'.jpg')\n",
    "print(img)\n",
    "\n",
    "gray = img.convert('L')  # making it gray\n",
    "# gray.save(filename+\"_gray.jpg\")"
   ]
  },
  {
   "cell_type": "markdown",
   "metadata": {},
   "source": [
    "#### crop"
   ]
  },
  {
   "cell_type": "code",
   "execution_count": 3,
   "metadata": {},
   "outputs": [
    {
     "name": "stdout",
     "output_type": "stream",
     "text": [
      "original size: (4160, 3120)\n",
      "cropped size: (3120, 3120)\n"
     ]
    }
   ],
   "source": [
    "print(\"original size:\",gray.size)\n",
    "xc=int(gray.size[0]/2)\n",
    "yc=int(gray.size[1]/2)\n",
    "hw=min(xc,yc)\n",
    "gray=gray.crop((xc-hw, yc-hw, xc+hw, yc+hw))\n",
    "print(\"cropped size:\", gray.size)"
   ]
  },
  {
   "cell_type": "markdown",
   "metadata": {},
   "source": [
    "#### resize"
   ]
  },
  {
   "cell_type": "code",
   "execution_count": 4,
   "metadata": {
    "collapsed": true
   },
   "outputs": [],
   "source": [
    "size=(1024,1024)\n",
    "gray.thumbnail(size)\n",
    "# print(\"resized to:\", gray.size)\n",
    "# gray.save(filename+'_small.jpg')"
   ]
  },
  {
   "cell_type": "markdown",
   "metadata": {},
   "source": [
    "#### normalize image"
   ]
  },
  {
   "cell_type": "code",
   "execution_count": 5,
   "metadata": {},
   "outputs": [
    {
     "name": "stdout",
     "output_type": "stream",
     "text": [
      "min: 4 max: 189 mean: 147.97545337677002\n"
     ]
    }
   ],
   "source": [
    "npimage = np.array(gray)\n",
    "print('min:',npimage.min(),'max:',npimage.max(),'mean:',npimage.mean())\n",
    "\n",
    "def normalize(x,xmin,xmax):\n",
    "    x=x-xmin\n",
    "    return x/(xmax-xmin)*255\n",
    "\n",
    "def bw(x):\n",
    "    return np.where(x < 100, 0, 1)\n",
    "\n",
    "data=bw(normalize(npimage,npimage.min(),npimage.max()))"
   ]
  },
  {
   "cell_type": "markdown",
   "metadata": {},
   "source": [
    "#### remove \"small\" features"
   ]
  },
  {
   "cell_type": "code",
   "execution_count": 6,
   "metadata": {
    "collapsed": true
   },
   "outputs": [],
   "source": [
    "mask_data=data.copy()\n",
    "frame_data=None\n",
    "current_figure_size=0\n",
    "edge_points=[]\n",
    "sur=[(1,0),(1,1),(0,1),(-1,1),(-1,0),(-1,-1),(0,-1),(1,-1)]\n",
    "\n",
    "def resolve_points():\n",
    "    global current_figure_size\n",
    "    (x,y)=edge_points.pop()\n",
    "    mask_data[x,y]=200\n",
    "    current_figure_size+=1\n",
    "    x=min(x,1022)\n",
    "    x=max(x,1)\n",
    "    y=min(y,1022)\n",
    "    \n",
    "    for s in sur:\n",
    "        cx=x+s[0]\n",
    "        cy=y+s[1]\n",
    "        if mask_data[cx,cy]==0:\n",
    "            mask_data[cx,cy]=200\n",
    "            edge_points.append((cx,cy))\n",
    "    \n",
    "    return len(edge_points)\n",
    "            \n",
    "for i in range(1024):\n",
    "#     print('row',i)\n",
    "    for j in range(1024):\n",
    "        if mask_data[i,j]==0:\n",
    "            edge_points.append((i,j))\n",
    "            while resolve_points():\n",
    "                pass\n",
    "                \n",
    "#             print(\"figure size:\", current_figure_size)\n",
    "            if current_figure_size<150:\n",
    "#                 print(\"skipping\")\n",
    "                mask_data = np.where(mask_data == 200, 1, mask_data)\n",
    "            elif current_figure_size>5000:\n",
    "                frame_data = np.where(mask_data == 200, 1, 0)\n",
    "                mask_data = np.where(mask_data == 200, 1, mask_data)\n",
    "            else:\n",
    "                mask_data = np.where(mask_data == 200, 250, mask_data)\n",
    "            current_figure_size=0\n",
    "    \n",
    "data=np.where(mask_data==250,0,1)"
   ]
  },
  {
   "cell_type": "markdown",
   "metadata": {},
   "source": [
    "#### save final image"
   ]
  },
  {
   "cell_type": "code",
   "execution_count": 7,
   "metadata": {
    "collapsed": true
   },
   "outputs": [],
   "source": [
    "# im = Image.fromarray(np.uint8(frame_data*254))\n",
    "# im.save(filename+'_frame.jpg')"
   ]
  },
  {
   "cell_type": "markdown",
   "metadata": {},
   "source": [
    "#### move 45 degree line starting from corners. Stop when sum of black pixels>5."
   ]
  },
  {
   "cell_type": "code",
   "execution_count": 8,
   "metadata": {},
   "outputs": [
    {
     "name": "stdout",
     "output_type": "stream",
     "text": [
      "[(107, 109), (973, 65), (969, 942), (88, 927)]\n"
     ]
    }
   ],
   "source": [
    "ndata=frame_data\n",
    "#np.where(data == 1, 0, 1)\n",
    "\n",
    "def get_corner(cor):\n",
    "    for i in range(400):\n",
    "        sum=0\n",
    "        for j in range(i):\n",
    "            x=i-j\n",
    "            y=j\n",
    "            if cor==3:\n",
    "                x=1023-(i-j)\n",
    "            elif cor==2:\n",
    "                x=1023-(i-j)\n",
    "                y=1023-j\n",
    "            elif cor==1:\n",
    "                y=1023-j\n",
    "            sum+=ndata[x,y]\n",
    "        if sum>4:\n",
    "#             print(i, sum)\n",
    "            pos=[]\n",
    "            for j in range(i):\n",
    "                x=i-j\n",
    "                y=j\n",
    "                if cor==3:\n",
    "                    x=1023-(i-j)\n",
    "                elif cor==2:\n",
    "                    x=1023-(i-j)\n",
    "                    y=1023-j\n",
    "                elif cor==1:\n",
    "                    y=1023-j\n",
    "                if ndata[x,y]: pos.append((y,x))\n",
    "#             print(pos)\n",
    "            return pos[int(len(pos)/2)]\n",
    "corners=[]        \n",
    "for c in range(4):\n",
    "    corners.append(get_corner(c))\n",
    "print(corners)\n",
    "corners.append(corners[0])"
   ]
  },
  {
   "cell_type": "code",
   "execution_count": 9,
   "metadata": {
    "collapsed": true
   },
   "outputs": [],
   "source": [
    "# draw = ImageDraw.Draw(im)\n",
    "# draw.line(corners, fill=128, width=3)\n",
    "# draw.text(corners[0],'ZERO')\n",
    "# draw.text(corners[1],'ONE')\n",
    "# draw.text(corners[2],'TWO')\n",
    "# draw.text(corners[3],'THREE')\n",
    "# im.save(filename+'_small_BW_borders.jpg')"
   ]
  },
  {
   "cell_type": "markdown",
   "metadata": {},
   "source": [
    "#### remap"
   ]
  },
  {
   "cell_type": "code",
   "execution_count": 10,
   "metadata": {
    "collapsed": true
   },
   "outputs": [],
   "source": [
    "rsize = 900\n",
    "remapped = np.zeros((rsize, rsize))\n",
    "\n",
    "def interp(p1, p2, p):\n",
    "    return (p1[0]+(p2[0]-p1[0])*p, p1[1]+(p2[1]-p1[1])*p)\n",
    "\n",
    "for x in range(rsize):\n",
    "    for y in range(rsize):\n",
    "        xp=x/rsize\n",
    "        yp=y/rsize\n",
    "        p1=interp(corners[0],corners[1],xp)\n",
    "        p2=interp(corners[3],corners[2],xp)\n",
    "        p3=interp(corners[1],corners[2],yp)\n",
    "        p4=interp(corners[0],corners[3],yp)\n",
    "        xmu=(p1[0]*p2[1]-p1[1]*p2[0])*(p3[0]-p4[0])-(p1[0]-p2[0])*(p3[0]*p4[1]-p3[1]*p4[0])\n",
    "        ymu=(p1[0]*p2[1]-p1[1]*p2[0])*(p3[1]-p4[1])-(p1[1]-p2[1])*(p3[0]*p4[1]-p3[1]*p4[0])\n",
    "        md=(p1[0]-p2[0])*(p3[1]-p4[1])-(p1[1]-p2[1])*(p3[0]-p4[0])\n",
    "        xm=int(xmu/md)\n",
    "        ym=int(ymu/md)\n",
    "#         if x==0: \n",
    "#             print( 'xp:',xp,'yp:',yp, p1,p2,p3,p4)\n",
    "#             print( 'xm:',xm,'ym:',ym)\n",
    "        remapped[x,rsize-1-y]=data[ym,xm]\n",
    "    \n",
    "im = Image.fromarray(np.uint8(remapped*254))\n",
    "im.save(filename+'_fixed.bmp')"
   ]
  },
  {
   "cell_type": "markdown",
   "metadata": {},
   "source": [
    "#### load trained CNN"
   ]
  },
  {
   "cell_type": "code",
   "execution_count": 13,
   "metadata": {},
   "outputs": [],
   "source": [
    "model = load_model('trained_model.h5')\n",
    "\n",
    "ims_to_train=[]\n",
    "\n",
    "def get_number(im):\n",
    "\n",
    "    data= np.array(im)\n",
    "    data = np.where(data>128,0,254)\n",
    "\n",
    "    im = Image.fromarray(np.uint8(data))\n",
    "    size=(28,28)\n",
    "    im.thumbnail(size)\n",
    "    # im.save(filename+'_0_1_rec.jpg')\n",
    "\n",
    "    data= np.array(im)/254\n",
    "    # print(data)\n",
    "    \n",
    "    ims_to_train.append(data)\n",
    "\n",
    "    data=np.expand_dims(data, axis=0)\n",
    "    data=np.expand_dims(data, axis=3)\n",
    "    \n",
    "#     print(data.shape)\n",
    "#     print (data[0][:][:][:])\n",
    "\n",
    "    res=model.predict(data, batch_size=1)\n",
    "\n",
    "    print(res)\n",
    "    return res.argmax()"
   ]
  },
  {
   "cell_type": "markdown",
   "metadata": {},
   "source": [
    "#### cut out fields"
   ]
  },
  {
   "cell_type": "code",
   "execution_count": 14,
   "metadata": {},
   "outputs": [
    {
     "name": "stdout",
     "output_type": "stream",
     "text": [
      "0 1 414.0\n",
      "[[1.0229689e-04 1.4755040e-05 9.9628985e-01 1.4172717e-03 9.2428201e-07\n",
      "  5.0629092e-07 2.8319330e-06 1.4922151e-03 5.4856378e-04 1.3083810e-04]]\n",
      "0 5 458.0\n",
      "[[2.3194377e-03 9.7543016e-06 2.8489251e-02 2.7470833e-01 4.6489662e-05\n",
      "  1.7646883e-03 1.0162210e-02 1.4575015e-04 6.6085601e-01 2.1498101e-02]]\n",
      "0 7 312.0\n",
      "[[9.8108291e-04 1.4138269e-05 1.3643785e-02 9.4069564e-01 1.6322707e-05\n",
      "  2.2139186e-04 6.3959965e-06 1.6943149e-02 1.3317035e-03 2.6146455e-02]]\n",
      "1 5 370.0\n",
      "[[6.7017645e-06 7.6780880e-06 1.7126457e-01 8.0200040e-01 6.0816376e-07\n",
      "  1.4055945e-06 1.0848094e-06 2.4833579e-02 1.5124894e-03 3.7152099e-04]]\n",
      "1 6 270.0\n",
      "[[1.6134379e-03 7.7223748e-02 6.0216922e-02 5.0788182e-01 4.9728863e-03\n",
      "  1.2031189e-03 2.3210172e-04 3.1911740e-01 3.3554053e-03 2.4183221e-02]]\n",
      "2 0 421.0\n",
      "[[2.1713525e-03 8.0092446e-05 2.0264884e-02 4.4137418e-02 1.0027888e-04\n",
      "  6.9302881e-01 1.7064260e-04 2.4924600e-02 3.9598611e-03 2.1116216e-01]]\n",
      "2 2 500.0\n",
      "[[7.1393284e-03 6.7321729e-05 4.4058926e-02 7.4407595e-01 5.3521676e-04\n",
      "  6.7945030e-03 3.6243708e-03 4.8866868e-03 1.1617249e-01 7.2645232e-02]]\n",
      "3 3 492.0\n",
      "[[2.3334832e-03 5.9257570e-04 2.8082183e-02 5.5757475e-01 4.6954557e-02\n",
      "  1.5636219e-02 1.0952728e-04 1.2410645e-02 1.8788876e-01 1.4841726e-01]]\n",
      "3 5 345.0\n",
      "[[1.1896251e-06 9.7214732e-05 2.8023530e-02 9.5405114e-01 3.0453053e-05\n",
      "  2.9104822e-05 2.3915231e-07 9.8109040e-03 4.2786665e-04 7.5283824e-03]]\n",
      "3 7 368.0\n",
      "[[0.0044469  0.06414193 0.03870772 0.19980165 0.03150596 0.01784838\n",
      "  0.00150524 0.02816635 0.01899282 0.59488297]]\n",
      "3 8 380.0\n",
      "[[9.4398856e-04 3.4533750e-04 4.2319885e-03 1.4410493e-01 1.2910997e-03\n",
      "  9.1356225e-03 4.3533848e-05 3.4112516e-03 3.1274889e-02 8.0521739e-01]]\n",
      "4 2 490.0\n",
      "[[8.0516789e-04 6.5300782e-04 7.7739679e-03 4.7660810e-03 1.1404116e-02\n",
      "  1.9440463e-02 1.8703699e-04 6.2300791e-03 5.0988936e-01 4.3885073e-01]]\n",
      "4 4 321.0\n",
      "[[1.3940932e-05 1.5958106e-02 1.2057166e-02 9.3150175e-01 2.5193889e-02\n",
      "  1.6813090e-03 1.8666695e-04 8.7994151e-03 2.9146054e-04 4.3162480e-03]]\n",
      "4 6 430.0\n",
      "[[7.5422253e-07 4.5993910e-03 1.2218670e-02 9.3705601e-01 1.3389171e-04\n",
      "  9.6521384e-05 1.8456608e-06 4.5613389e-02 4.6036908e-05 2.3344829e-04]]\n",
      "5 0 357.0\n",
      "[[3.3653587e-06 2.2932766e-01 7.1414784e-02 6.8263727e-01 7.6709443e-04\n",
      "  2.1921198e-05 3.3121223e-06 1.3351483e-02 7.2098381e-05 2.4009999e-03]]\n",
      "5 1 413.0\n",
      "[[8.6355914e-07 1.6226293e-05 1.6390054e-01 8.2348776e-01 1.6305856e-05\n",
      "  6.0602010e-06 1.2547977e-07 9.6411407e-03 4.0209669e-04 2.5288793e-03]]\n",
      "5 3 436.0\n",
      "[[5.11764756e-06 2.20417554e-04 1.43617727e-02 9.41693008e-01\n",
      "  3.86074316e-05 1.54217742e-05 2.78216305e-07 3.96714918e-02\n",
      "  1.07047905e-04 3.88673483e-03]]\n",
      "5 5 498.0\n",
      "[[3.5915627e-07 3.2505419e-03 1.2466307e-02 9.1675222e-01 2.0356110e-04\n",
      "  4.5837103e-05 6.9606796e-07 6.6836171e-02 7.9510901e-05 3.6480630e-04]]\n",
      "6 6 380.0\n",
      "[[2.5563542e-05 2.9727099e-03 1.0865842e-02 4.0652847e-01 2.3058972e-01\n",
      "  2.0737708e-01 5.0396132e-03 2.6282440e-03 2.8586362e-03 1.3111408e-01]]\n",
      "6 8 455.0\n",
      "[[1.3752089e-07 1.5832637e-03 7.4766758e-03 9.5696068e-01 8.9021596e-05\n",
      "  2.2623404e-05 2.6022371e-07 3.3474028e-02 4.8448783e-05 3.4477250e-04]]\n",
      "7 2 334.0\n",
      "[[6.76976924e-05 7.74923638e-02 9.95039716e-02 7.92845905e-01\n",
      "  1.97670422e-03 6.05555135e-04 1.20937446e-04 3.04357428e-03\n",
      "  1.93476386e-04 2.41498221e-02]]\n",
      "7 3 412.0\n",
      "[[2.8534679e-04 4.5685978e-03 3.9359010e-03 1.6308459e-02 1.4413774e-01\n",
      "  8.9278519e-03 2.9460803e-04 1.1717088e-03 2.9314959e-02 7.9105484e-01]]\n",
      "8 1 501.0\n",
      "[[8.4591028e-04 2.7069740e-07 1.0769105e-04 2.7411609e-04 6.6760063e-06\n",
      "  5.8694179e-03 4.1038646e-05 2.1631498e-05 1.3751194e-03 9.9145812e-01]]\n",
      "8 3 557.0\n",
      "[[1.8865606e-08 2.6037414e-10 9.7384529e-08 4.0148948e-06 9.6337067e-07\n",
      "  1.0529301e-06 5.0289087e-12 1.9148226e-08 3.8313428e-06 9.9998999e-01]]\n",
      "8 7 411.0\n",
      "[[1.0159247e-03 9.5884134e-05 2.5670132e-02 2.1844026e-02 5.0772334e-05\n",
      "  2.8364033e-01 2.7878550e-05 6.1578304e-03 1.8739350e-03 6.5962332e-01]]\n",
      "[[0. 2. 0. 0. 0. 8. 0. 3. 0.]\n",
      " [0. 0. 0. 0. 0. 3. 3. 0. 0.]\n",
      " [5. 0. 3. 0. 0. 0. 0. 0. 0.]\n",
      " [0. 0. 0. 3. 0. 3. 0. 9. 9.]\n",
      " [0. 0. 8. 0. 3. 0. 3. 0. 0.]\n",
      " [3. 3. 0. 3. 0. 3. 0. 0. 0.]\n",
      " [0. 0. 0. 0. 0. 0. 3. 0. 3.]\n",
      " [0. 0. 3. 9. 0. 0. 0. 0. 0.]\n",
      " [0. 9. 0. 9. 0. 0. 0. 9. 0.]]\n"
     ]
    }
   ],
   "source": [
    "result=np.zeros((9,9))\n",
    "pad=10\n",
    "for i in range(9):\n",
    "    for j in range(9):\n",
    "        fi=remapped[i*100+pad:(i+1)*100-pad,j*100+pad:(j+1)*100-pad]\n",
    "        \n",
    "        bl=6400-fi.sum()\n",
    "        if bl>50:\n",
    "            print(i,j,bl)\n",
    "            result[i,j]=-1\n",
    "            im = Image.fromarray(np.uint8(fi*254))\n",
    "            im.save(filename+'_'+str(i)+'_'+str(j)+'_field.jpg')\n",
    "            result[i,j]=get_number(im)\n",
    "print(result)"
   ]
  },
  {
   "cell_type": "code",
   "execution_count": 17,
   "metadata": {},
   "outputs": [],
   "source": [
    "ims_to_train=np.expand_dims(ims_to_train, axis=3)\n",
    "ims_to_train[0,:,:,0]=2\n",
    "h5f = h5py.File('digits.h5', 'w')\n",
    "h5f.create_dataset('fig1', data=ims_to_train)\n",
    "h5f.close()"
   ]
  },
  {
   "cell_type": "code",
   "execution_count": null,
   "metadata": {
    "collapsed": true
   },
   "outputs": [],
   "source": []
  }
 ],
 "metadata": {
  "kernelspec": {
   "display_name": "Python3.4 GPU ML",
   "language": "python",
   "name": "sys_kernel_py3.4_gpu"
  },
  "language_info": {
   "codemirror_mode": {
    "name": "ipython",
    "version": 3
   },
   "file_extension": ".py",
   "mimetype": "text/x-python",
   "name": "python",
   "nbconvert_exporter": "python",
   "pygments_lexer": "ipython3",
   "version": "3.4.5"
  }
 },
 "nbformat": 4,
 "nbformat_minor": 2
}
