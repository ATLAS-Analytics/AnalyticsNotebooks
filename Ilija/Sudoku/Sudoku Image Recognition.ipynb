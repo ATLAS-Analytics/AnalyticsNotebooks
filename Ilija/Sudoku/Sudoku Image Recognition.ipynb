{
 "cells": [
  {
   "cell_type": "code",
   "execution_count": null,
   "metadata": {
    "collapsed": true
   },
   "outputs": [],
   "source": [
    "%matplotlib inline\n",
    "\n",
    "import pandas as pd\n",
    "import numpy as np\n",
    "\n",
    "from PIL import Image, ImageDraw\n",
    "# import keras\n",
    "import matplotlib.pyplot as plt"
   ]
  },
  {
   "cell_type": "markdown",
   "metadata": {},
   "source": [
    "#### load photo convert into gray levels"
   ]
  },
  {
   "cell_type": "code",
   "execution_count": null,
   "metadata": {
    "scrolled": true
   },
   "outputs": [],
   "source": [
    "filename=\"Sample4\"\n",
    "img=Image.open(filename+'.jpg')\n",
    "print(img)\n",
    "\n",
    "gray = img.convert('L')  # making it gray\n",
    "# gray.save(filename+\"_gray.jpg\")"
   ]
  },
  {
   "cell_type": "markdown",
   "metadata": {},
   "source": [
    "#### crop"
   ]
  },
  {
   "cell_type": "code",
   "execution_count": null,
   "metadata": {},
   "outputs": [],
   "source": [
    "print(\"original size:\",gray.size)\n",
    "xc=int(gray.size[0]/2)\n",
    "yc=int(gray.size[1]/2)\n",
    "hw=min(xc,yc)\n",
    "gray=gray.crop((xc-hw, yc-hw, xc+hw, yc+hw))\n",
    "print(\"cropped size:\", gray.size)"
   ]
  },
  {
   "cell_type": "markdown",
   "metadata": {},
   "source": [
    "#### resize"
   ]
  },
  {
   "cell_type": "code",
   "execution_count": null,
   "metadata": {},
   "outputs": [],
   "source": [
    "size=(1024,1024)\n",
    "gray.thumbnail(size)\n",
    "# print(\"resized to:\", gray.size)\n",
    "# gray.save(filename+'_small.jpg')"
   ]
  },
  {
   "cell_type": "markdown",
   "metadata": {},
   "source": [
    "#### normalize image"
   ]
  },
  {
   "cell_type": "code",
   "execution_count": null,
   "metadata": {},
   "outputs": [],
   "source": [
    "npimage = np.array(gray)\n",
    "print('min:',npimage.min(),'max:',npimage.max(),'mean:',npimage.mean())\n",
    "\n",
    "def normalize(x,xmin,xmax):\n",
    "    x=x-xmin\n",
    "    return x/(xmax-xmin)*255\n",
    "\n",
    "def bw(x):\n",
    "    return np.where(x < 100, 0, 1)\n",
    "\n",
    "data=bw(normalize(npimage,npimage.min(),npimage.max()))"
   ]
  },
  {
   "cell_type": "markdown",
   "metadata": {},
   "source": [
    "#### remove \"small\" features"
   ]
  },
  {
   "cell_type": "code",
   "execution_count": null,
   "metadata": {},
   "outputs": [],
   "source": [
    "mask_data=data.copy()\n",
    "current_figure_size=0\n",
    "edge_points=[]\n",
    "sur=[(1,0),(1,1),(0,1),(-1,1),(-1,0),(-1,-1),(0,-1),(1,-1)]\n",
    "\n",
    "def resolve_points():\n",
    "    global current_figure_size\n",
    "    (x,y)=edge_points.pop()\n",
    "    mask_data[x,y]=200\n",
    "    current_figure_size+=1\n",
    "    x=min(x,1022)\n",
    "    x=max(x,1)\n",
    "    y=min(y,1022)\n",
    "    \n",
    "    for s in sur:\n",
    "        cx=x+s[0]\n",
    "        cy=y+s[1]\n",
    "        if mask_data[cx,cy]==0:\n",
    "            mask_data[cx,cy]=200\n",
    "            edge_points.append((cx,cy))\n",
    "    \n",
    "    return len(edge_points)\n",
    "            \n",
    "for i in range(1024):\n",
    "#     print('row',i)\n",
    "    for j in range(1024):\n",
    "        if mask_data[i,j]==0:\n",
    "            edge_points.append((i,j))\n",
    "            while resolve_points():\n",
    "                pass\n",
    "                \n",
    "            print(\"figure size:\", current_figure_size)\n",
    "            if current_figure_size<150:\n",
    "                print(\"skipping\")\n",
    "                mask_data = np.where(mask_data == 200, 1, mask_data)\n",
    "            else:\n",
    "                mask_data = np.where(mask_data == 200, 250, mask_data)\n",
    "            current_figure_size=0\n",
    "    \n",
    "data=np.where(mask_data==250,0,1)"
   ]
  },
  {
   "cell_type": "markdown",
   "metadata": {},
   "source": [
    "#### save final image"
   ]
  },
  {
   "cell_type": "code",
   "execution_count": null,
   "metadata": {
    "collapsed": true
   },
   "outputs": [],
   "source": [
    "# im = Image.fromarray(np.uint8(data*254))\n",
    "# im.save(filename+'_small_BW.jpg')"
   ]
  },
  {
   "cell_type": "markdown",
   "metadata": {},
   "source": [
    "#### move 45 degree line starting from corners. Stop when sum of black pixels>5."
   ]
  },
  {
   "cell_type": "code",
   "execution_count": null,
   "metadata": {},
   "outputs": [],
   "source": [
    "ndata=np.where(data == 1, 0, 1)\n",
    "\n",
    "def get_corner(cor):\n",
    "    for i in range(400):\n",
    "        sum=0\n",
    "        for j in range(i):\n",
    "            x=i-j\n",
    "            y=j\n",
    "            if cor==3:\n",
    "                x=1023-(i-j)\n",
    "            elif cor==2:\n",
    "                x=1023-(i-j)\n",
    "                y=1023-j\n",
    "            elif cor==1:\n",
    "                y=1023-j\n",
    "            sum+=ndata[x,y]\n",
    "        if sum>4:\n",
    "#             print(i, sum)\n",
    "            pos=[]\n",
    "            for j in range(i):\n",
    "                x=i-j\n",
    "                y=j\n",
    "                if cor==3:\n",
    "                    x=1023-(i-j)\n",
    "                elif cor==2:\n",
    "                    x=1023-(i-j)\n",
    "                    y=1023-j\n",
    "                elif cor==1:\n",
    "                    y=1023-j\n",
    "                if ndata[x,y]: pos.append((y,x))\n",
    "#             print(pos)\n",
    "            return pos[int(len(pos)/2)]\n",
    "corners=[]        \n",
    "for c in range(4):\n",
    "    corners.append(get_corner(c))\n",
    "print(corners)\n",
    "corners.append(corners[0])"
   ]
  },
  {
   "cell_type": "code",
   "execution_count": null,
   "metadata": {
    "collapsed": true
   },
   "outputs": [],
   "source": [
    "# draw = ImageDraw.Draw(im)\n",
    "# draw.line(corners, fill=128, width=3)\n",
    "# draw.text(corners[0],'ZERO')\n",
    "# draw.text(corners[1],'ONE')\n",
    "# draw.text(corners[2],'TWO')\n",
    "# draw.text(corners[3],'THREE')\n",
    "# im.save(filename+'_small_BW_borders.jpg')"
   ]
  },
  {
   "cell_type": "markdown",
   "metadata": {},
   "source": [
    "#### remap"
   ]
  },
  {
   "cell_type": "code",
   "execution_count": null,
   "metadata": {},
   "outputs": [],
   "source": [
    "rsize = 900\n",
    "remapped = np.zeros((rsize, rsize))\n",
    "\n",
    "def interp(p1, p2, p):\n",
    "    return (p1[0]+(p2[0]-p1[0])*p, p1[1]+(p2[1]-p1[1])*p)\n",
    "\n",
    "for x in range(rsize):\n",
    "    for y in range(rsize):\n",
    "        xp=x/rsize\n",
    "        yp=y/rsize\n",
    "        p1=interp(corners[0],corners[1],xp)\n",
    "        p2=interp(corners[3],corners[2],xp)\n",
    "        p3=interp(corners[1],corners[2],yp)\n",
    "        p4=interp(corners[0],corners[3],yp)\n",
    "        xmu=(p1[0]*p2[1]-p1[1]*p2[0])*(p3[0]-p4[0])-(p1[0]-p2[0])*(p3[0]*p4[1]-p3[1]*p4[0])\n",
    "        ymu=(p1[0]*p2[1]-p1[1]*p2[0])*(p3[1]-p4[1])-(p1[1]-p2[1])*(p3[0]*p4[1]-p3[1]*p4[0])\n",
    "        md=(p1[0]-p2[0])*(p3[1]-p4[1])-(p1[1]-p2[1])*(p3[0]-p4[0])\n",
    "        xm=int(xmu/md)\n",
    "        ym=int(ymu/md)\n",
    "#         if x==0: \n",
    "#             print( 'xp:',xp,'yp:',yp, p1,p2,p3,p4)\n",
    "#             print( 'xm:',xm,'ym:',ym)\n",
    "        remapped[x,rsize-1-y]=data[ym,xm]\n",
    "    \n",
    "im = Image.fromarray(np.uint8(remapped*254))\n",
    "im.save(filename+'_fixed.bmp')"
   ]
  },
  {
   "cell_type": "markdown",
   "metadata": {},
   "source": [
    "#### cut out fields"
   ]
  },
  {
   "cell_type": "code",
   "execution_count": null,
   "metadata": {
    "collapsed": true
   },
   "outputs": [],
   "source": [
    "fields=[]\n",
    "pad=10\n",
    "for i in range(9):\n",
    "    for j in range(9):\n",
    "        fi=remapped[i*100+pad:(i+1)*100-pad,j*100+pad:(j+1)*100-pad]\n",
    "#         im = Image.fromarray(np.uint8(fi*254))\n",
    "#         im.save(filename+'_'+str(i)+'_'+str(j)+'_field.jpg')\n",
    "        fields.append(fi)\n"
   ]
  },
  {
   "cell_type": "code",
   "execution_count": null,
   "metadata": {
    "collapsed": true
   },
   "outputs": [],
   "source": []
  }
 ],
 "metadata": {
  "kernelspec": {
   "display_name": "Python3.4 GPU ML",
   "language": "python",
   "name": "sys_kernel_py3.4_gpu"
  },
  "language_info": {
   "codemirror_mode": {
    "name": "ipython",
    "version": 3
   },
   "file_extension": ".py",
   "mimetype": "text/x-python",
   "name": "python",
   "nbconvert_exporter": "python",
   "pygments_lexer": "ipython3",
   "version": "3.4.5"
  }
 },
 "nbformat": 4,
 "nbformat_minor": 2
}
