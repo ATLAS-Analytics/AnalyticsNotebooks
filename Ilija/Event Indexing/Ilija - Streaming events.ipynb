{
 "cells": [
  {
   "cell_type": "markdown",
   "metadata": {},
   "source": [
    "# This code measures how fast it can stream full events from Elasticsearch"
   ]
  },
  {
   "cell_type": "code",
   "execution_count": 1,
   "metadata": {
    "collapsed": false
   },
   "outputs": [],
   "source": [
    "from elasticsearch import Elasticsearch\n",
    "from elasticsearch.helpers import scan\n",
    "from time import time\n",
    "\n",
    "es = Elasticsearch(['atlas-kibana.mwt2.org:9200'],timeout=60)"
   ]
  },
  {
   "cell_type": "markdown",
   "metadata": {},
   "source": [
    "## Select data format you would like to stream\n",
    "options are data15_13tev, data15_13tev_aod, mc15_13tev, mc15_13tev_aod"
   ]
  },
  {
   "cell_type": "code",
   "execution_count": 2,
   "metadata": {
    "collapsed": false
   },
   "outputs": [],
   "source": [
    "my_index = \"data15_13tev_aod\""
   ]
  },
  {
   "cell_type": "markdown",
   "metadata": {},
   "source": [
    "### Select a percentage of events to read. \n",
    "e.g. toRead=2 will read 2% of all events"
   ]
  },
  {
   "cell_type": "code",
   "execution_count": 3,
   "metadata": {
    "collapsed": true
   },
   "outputs": [],
   "source": [
    "toRead=2"
   ]
  },
  {
   "cell_type": "code",
   "execution_count": 4,
   "metadata": {
    "collapsed": true
   },
   "outputs": [],
   "source": [
    "my_query = {\n",
    "    \"min_score\": 1-(toRead/100),\n",
    "    \"query\" : {\n",
    "        \"function_score\" : {\n",
    "            \"random_score\" : { \"seed\":\"123\" }\n",
    "        }\n",
    "    }\n",
    "}"
   ]
  },
  {
   "cell_type": "markdown",
   "metadata": {},
   "source": [
    "### actually streaming events"
   ]
  },
  {
   "cell_type": "code",
   "execution_count": 5,
   "metadata": {
    "collapsed": false
   },
   "outputs": [
    {
     "name": "stdout",
     "output_type": "stream",
     "text": [
      "0\n",
      "522 events in 11.456021 seconds. 45.56556054810618 ev/s.\n"
     ]
    }
   ],
   "source": [
    "t0 = time()\n",
    "\n",
    "scroll = scan(es, query=my_query, index=my_index, scroll='5m', timeout=\"5m\", size=100)\n",
    "\n",
    "count = 0\n",
    "for res in scroll:\n",
    "    if not count%1000: print(count)\n",
    "    count += 1\n",
    "    \n",
    "t1 = time()\n",
    "\n",
    "print (count, 'events in %f seconds.' %(t1-t0), count/(t1-t0), \"ev/s.\")"
   ]
  },
  {
   "cell_type": "code",
   "execution_count": null,
   "metadata": {
    "collapsed": true
   },
   "outputs": [],
   "source": []
  }
 ],
 "metadata": {
  "kernelspec": {
   "display_name": "Python 3",
   "language": "python",
   "name": "python3"
  },
  "language_info": {
   "codemirror_mode": {
    "name": "ipython",
    "version": 3
   },
   "file_extension": ".py",
   "mimetype": "text/x-python",
   "name": "python",
   "nbconvert_exporter": "python",
   "pygments_lexer": "ipython3",
   "version": "3.5.1"
  }
 },
 "nbformat": 4,
 "nbformat_minor": 0
}
