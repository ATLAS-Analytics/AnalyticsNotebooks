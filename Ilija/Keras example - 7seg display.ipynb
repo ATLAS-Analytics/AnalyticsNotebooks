{
 "cells": [
  {
   "cell_type": "markdown",
   "metadata": {},
   "source": [
    "# Recognizing 7 seg digit\n",
    "### input are values of 7 segments of the digital display. output is a binary representation of the number shown"
   ]
  },
  {
   "cell_type": "code",
   "execution_count": 1,
   "metadata": {
    "collapsed": false
   },
   "outputs": [
    {
     "name": "stderr",
     "output_type": "stream",
     "text": [
      "Using Theano backend.\n"
     ]
    }
   ],
   "source": [
    "%matplotlib inline\n",
    "import matplotlib.pyplot as plt\n",
    "import numpy as np\n",
    "\n",
    "from keras.models import Sequential\n",
    "from keras.layers import Dense, Activation\n",
    "from keras import optimizers\n",
    "from keras.layers.normalization import BatchNormalization\n",
    "from IPython.display import SVG\n",
    "from keras.utils.visualize_util import plot\n",
    "from keras.utils.visualize_util import model_to_dot"
   ]
  },
  {
   "cell_type": "markdown",
   "metadata": {},
   "source": [
    "input and output data"
   ]
  },
  {
   "cell_type": "code",
   "execution_count": 2,
   "metadata": {
    "collapsed": false
   },
   "outputs": [],
   "source": [
    "zer = [1,1,1,1,1,1,0]\n",
    "one = [0,1,1,0,0,0,0]\n",
    "two = [1,1,0,1,1,0,1]\n",
    "thr = [1,1,1,1,0,0,1]\n",
    "fou = [0,1,1,0,0,1,1]\n",
    "fiv = [1,0,1,1,0,1,1]\n",
    "six = [1,0,1,1,1,1,1]\n",
    "sev = [1,1,1,0,0,0,0]\n",
    "eig = [1,1,1,1,1,1,1]\n",
    "nin = [1,1,1,1,0,1,1]\n",
    "eij = [1,1,1,0,1,1,1] #A\n",
    "see = [1,0,0,1,1,1,0] #C\n",
    "eee = [1,0,0,1,1,1,1] #E\n",
    "inp=[zer, one, two, thr, fou, fiv, six, sev, eig, nin, eij, see, eee]\n",
    "out=[[0,0,0,0],[0,0,0,1],[0,0,1,0],[0,0,1,1],[0,1,0,0],[0,1,0,1],[0,1,1,0],[0,1,1,1],[1,0,0,0],[1,0,0,1],[1,0,1,0],[1,1,0,0],[1,1,1,0]]\n"
   ]
  },
  {
   "cell_type": "markdown",
   "metadata": {},
   "source": [
    "NN model"
   ]
  },
  {
   "cell_type": "code",
   "execution_count": 3,
   "metadata": {
    "collapsed": false
   },
   "outputs": [],
   "source": [
    "model = Sequential()\n",
    "L1=Dense(output_dim=7, input_dim=7)\n",
    "model.add(L1)\n",
    "model.add(Activation(\"relu\"))\n",
    "L2=Dense(output_dim=4)\n",
    "model.add(L2)\n",
    "#model.add(Activation(\"softmax\"))\n",
    "model.add(BatchNormalization())\n",
    "#model.add(model.add(lambda(rectifier)))\n",
    "#model.compile(loss='categorical_crossentropy', optimizer='sgd', metrics=['accuracy'])\n",
    "#model.compile(loss='mse', optimizer='adagrad', metrics=['accuracy'])\n",
    "#model.compile(loss='mse',optimizer='rmsprop', metrics=['accuracy'])\n",
    "my_sgd = optimizers.SGD(lr=0.01, momentum=0.5, decay=0.1, nesterov=True)\n",
    "\n",
    "model.compile(loss='mse',optimizer='sgd', metrics=['accuracy'])\n",
    "\n",
    "#plot(model, to_file='model.png',show_shapes=True)\n",
    "#SVG(model_to_dot(model).create(prog='dot', format='svg'))"
   ]
  },
  {
   "cell_type": "markdown",
   "metadata": {},
   "source": [
    "train"
   ]
  },
  {
   "cell_type": "code",
   "execution_count": 4,
   "metadata": {
    "collapsed": false
   },
   "outputs": [],
   "source": [
    "epochs=5000\n",
    "hist = model.fit(inp, out, nb_epoch=epochs, batch_size=20, verbose=0, shuffle=True)"
   ]
  },
  {
   "cell_type": "code",
   "execution_count": 5,
   "metadata": {
    "collapsed": false
   },
   "outputs": [
    {
     "data": {
      "image/png": "[encoded data removed]",
      "text/plain": [
       "<matplotlib.figure.Figure at 0x7eff04d6d400>"
      ]
     },
     "metadata": {},
     "output_type": "display_data"
    }
   ],
   "source": [
    "x = np.linspace(0,epochs-1,epochs)\n",
    "plt.plot(x, hist.history['loss'], '--', linewidth=2, label='loss')\n",
    "plt.plot(x, hist.history['acc'], '-', linewidth=2, label='acc')\n",
    "plt.legend()\n",
    "plt.show()"
   ]
  },
  {
   "cell_type": "markdown",
   "metadata": {},
   "source": [
    "check results"
   ]
  },
  {
   "cell_type": "code",
   "execution_count": 6,
   "metadata": {
    "collapsed": false
   },
   "outputs": [
    {
     "name": "stdout",
     "output_type": "stream",
     "text": [
      "13/13 [==============================] - 0s\n"
     ]
    },
    {
     "data": {
      "text/plain": [
       "[0.056986037641763687, 0.46153846383094788]"
      ]
     },
     "execution_count": 6,
     "metadata": {},
     "output_type": "execute_result"
    }
   ],
   "source": [
    "loss_and_metrics = model.evaluate(inp, out, batch_size=13)\n",
    "loss_and_metrics"
   ]
  },
  {
   "cell_type": "markdown",
   "metadata": {},
   "source": [
    "check the layers"
   ]
  },
  {
   "cell_type": "code",
   "execution_count": 8,
   "metadata": {
    "collapsed": false
   },
   "outputs": [
    {
     "data": {
      "text/plain": [
       "[array([[ 0.11478914, -0.66447711,  0.25257382,  0.06768016],\n",
       "        [-0.3989884 , -0.21793564, -0.40758863, -0.60475421],\n",
       "        [ 0.18255739,  0.0495884 ,  0.40951869, -0.06075257],\n",
       "        [-0.2592186 ,  0.15365779,  0.0853144 ,  0.42102554],\n",
       "        [-0.54211485,  0.22255988,  0.17518792,  0.12902966],\n",
       "        [ 0.34456351,  0.67794508,  0.47372445,  0.13512574],\n",
       "        [-0.33313355, -0.31711045, -0.21545377,  0.39387491]], dtype=float32),\n",
       " array([  2.57019384e-09,   3.06319103e-09,   3.76191966e-09,\n",
       "         -3.83237397e-09], dtype=float32)]"
      ]
     },
     "execution_count": 8,
     "metadata": {},
     "output_type": "execute_result"
    }
   ],
   "source": [
    "L1.get_weights()\n",
    "L2.get_weights()"
   ]
  },
  {
   "cell_type": "code",
   "execution_count": 9,
   "metadata": {
    "collapsed": false
   },
   "outputs": [
    {
     "name": "stderr",
     "output_type": "stream",
     "text": [
      "WARNING (theano.gof.compilelock): Overriding existing lock by dead process '2302172' (I am process '2302581')\n"
     ]
    }
   ],
   "source": [
    "#proba = model.predict_proba(inp, batch_size=10)\n",
    "pred = model.predict(inp, batch_size=13)"
   ]
  },
  {
   "cell_type": "code",
   "execution_count": 10,
   "metadata": {
    "collapsed": false
   },
   "outputs": [
    {
     "name": "stdout",
     "output_type": "stream",
     "text": [
      "[ 0.3940618  -0.04116294 -0.17409483  0.07812163] [0, 0, 0, 0] [0, 0, 0, 0]\n",
      "[-0.13096166  0.03779644 -0.11831012  0.70361364] [0, 0, 0, 1] [0, 0, 0, 1]\n",
      "[ 0.45150751 -0.07940915  1.11874354  0.03690132] [0, 0, 1, 0] [0, 0, 1, 0]\n",
      "[ 0.06826797  0.12079248  0.78212148  1.09872437] [0, 0, 1, 1] [0, 0, 1, 1]\n",
      "[ 0.29535741  0.98731434  0.05295932  0.30379176] [0, 1, 0, 0] [0, 1, 0, 0]\n",
      "[ 0.42580849  0.8662042   0.20060143  0.9353168 ] [0, 1, 0, 1] [0, 1, 0, 1]\n",
      "[ 0.58816171  1.04997575  0.81356633  0.11821812] [1, 1, 1, 0] [0, 1, 1, 0]\n",
      "[ 0.00543797  0.94916117  1.12831783  1.13459826] [0, 1, 1, 1] [0, 1, 1, 1]\n",
      "[ 0.4001247  -0.05883762  0.39572865 -0.03445104] [0, 0, 0, 0] [1, 0, 0, 0]\n",
      "[ 0.25820079  0.05950901 -0.07528189  0.79855859] [0, 0, 0, 1] [1, 0, 0, 1]\n",
      "[ 0.71880686  0.04844421  0.91755533 -0.168928  ] [1, 0, 1, 0] [1, 0, 1, 0]\n",
      "[ 0.73470247  1.04864323  0.15298948  0.02914357] [1, 1, 0, 0] [1, 1, 0, 0]\n",
      "[ 0.74075741  1.03091216  0.72278732 -0.08341032] [1, 1, 1, 0] [1, 1, 1, 0]\n"
     ]
    }
   ],
   "source": [
    "for co,i in enumerate(pred):\n",
    "    c=[]\n",
    "    for j in i:\n",
    "        if j>0.5: c.append(1)\n",
    "        else: c.append(0)\n",
    "    print(i,c, out[co])"
   ]
  },
  {
   "cell_type": "code",
   "execution_count": null,
   "metadata": {
    "collapsed": false
   },
   "outputs": [],
   "source": []
  }
 ],
 "metadata": {
  "kernelspec": {
   "display_name": "Python 3",
   "language": "python",
   "name": "python3"
  },
  "language_info": {
   "codemirror_mode": {
    "name": "ipython",
    "version": 3
   },
   "file_extension": ".py",
   "mimetype": "text/x-python",
   "name": "python",
   "nbconvert_exporter": "python",
   "pygments_lexer": "ipython3",
   "version": "3.5.1"
  }
 },
 "nbformat": 4,
 "nbformat_minor": 0
}
