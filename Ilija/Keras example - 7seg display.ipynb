{
 "cells": [
  {
   "cell_type": "markdown",
   "metadata": {},
   "source": [
    "# Recognizing 7 seg digit\n",
    "### input are values of 7 segments of the digital display. output is a binary representation of the number shown"
   ]
  },
  {
   "cell_type": "code",
   "execution_count": 1,
   "metadata": {
    "collapsed": false
   },
   "outputs": [
    {
     "name": "stderr",
     "output_type": "stream",
     "text": [
      "Using TensorFlow backend.\n"
     ]
    }
   ],
   "source": [
    "%matplotlib inline\n",
    "import matplotlib.pyplot as plt\n",
    "import numpy as np\n",
    "import pandas as pd\n",
    "\n",
    "from keras.models import Sequential\n",
    "from keras.layers import Dense, Activation\n",
    "from keras import optimizers\n",
    "from keras.layers.normalization import BatchNormalization\n",
    "from IPython.display import SVG\n",
    "from keras.utils.visualize_util import plot\n",
    "from keras.utils.visualize_util import model_to_dot"
   ]
  },
  {
   "cell_type": "markdown",
   "metadata": {},
   "source": [
    "input and output data"
   ]
  },
  {
   "cell_type": "code",
   "execution_count": 2,
   "metadata": {
    "collapsed": false
   },
   "outputs": [
    {
     "name": "stdout",
     "output_type": "stream",
     "text": [
      "(14, 7) (14, 4)\n"
     ]
    }
   ],
   "source": [
    "zer = [1,1,1,1,1,1,0]\n",
    "one = [0,1,1,0,0,0,0]\n",
    "two = [1,1,0,1,1,0,1]\n",
    "thr = [1,1,1,1,0,0,1]\n",
    "fou = [0,1,1,0,0,1,1]\n",
    "fiv = [1,0,1,1,0,1,1]\n",
    "six = [1,0,1,1,1,1,1]\n",
    "sev = [1,1,1,0,0,0,0]\n",
    "eig = [1,1,1,1,1,1,1]\n",
    "nin = [1,1,1,1,0,1,1]\n",
    "eij = [1,1,1,0,1,1,1] #A\n",
    "see = [1,0,0,1,1,1,0] #C\n",
    "eee = [1,0,0,1,1,1,1] #E\n",
    "eff = [1,0,0,0,1,1,1] #F\n",
    "inp=[zer, one, two, thr, fou, fiv, six, sev, eig, nin, eij, see, eee, eff]\n",
    "out=[[0,0,0,0],[0,0,0,1],[0,0,1,0],[0,0,1,1],[0,1,0,0],[0,1,0,1],[0,1,1,0],[0,1,1,1],[1,0,0,0],[1,0,0,1],[1,0,1,0],[1,1,0,0],[1,1,1,0],[1,1,1,1]]\n",
    "\n",
    "X_df=pd.DataFrame(inp,columns=['l1','l2','l3','l4','l5','l6','l7'])\n",
    "X_df\n",
    "Y_df=pd.DataFrame(out,columns=['b0','b1','b2','b3'])\n",
    "Y_df\n",
    "print(X_df.shape, Y_df.shape)\n",
    "X=X_df.values\n",
    "Y=Y_df.values"
   ]
  },
  {
   "cell_type": "markdown",
   "metadata": {},
   "source": [
    "NN model"
   ]
  },
  {
   "cell_type": "code",
   "execution_count": 3,
   "metadata": {
    "collapsed": false
   },
   "outputs": [],
   "source": [
    "model = Sequential()\n",
    "L1=Dense( units=7, input_shape=(7,), activation='relu')\n",
    "model.add(L1)\n",
    "L2=Dense(units=4, activation='relu') # sigmoid\n",
    "model.add(L2)\n",
    "model.compile(loss='mse',optimizer='rmsprop', metrics=['accuracy'])\n",
    "my_sgd = optimizers.SGD(lr=0.01, momentum=0.5, decay=0.1, nesterov=True)\n",
    "\n",
    "\n",
    "#model.add(Dense( units=7, input_shape=(7,), activation='relu'))\n",
    "#model.add(BatchNormalization())\n",
    "#model.add(model.add(lambda(rectifier)))\n",
    "#model.compile(loss='categorical_crossentropy', optimizer='adam', metrics=['accuracy'])\n",
    "#model.compile(loss='mse', optimizer='adagrad', metrics=['accuracy'])\n",
    "#model.compile(loss='mse',optimizer='sgd', metrics=['binary_accuracy'])\n",
    "\n",
    "#plot(model, to_file='model.png',show_shapes=True)\n",
    "#SVG(model_to_dot(model).create(prog='dot', format='svg'))"
   ]
  },
  {
   "cell_type": "markdown",
   "metadata": {},
   "source": [
    "train"
   ]
  },
  {
   "cell_type": "code",
   "execution_count": 4,
   "metadata": {
    "collapsed": false
   },
   "outputs": [],
   "source": [
    "epochs=5000\n",
    "hist = model.fit(X, Y, epochs=epochs,  verbose=0, shuffle=True) #batch_size=5,"
   ]
  },
  {
   "cell_type": "code",
   "execution_count": 5,
   "metadata": {
    "collapsed": false
   },
   "outputs": [
    {
     "data": {
      "image/png": "[encoded data removed]",
      "text/plain": [
       "<matplotlib.figure.Figure at 0x7f721855c3c8>"
      ]
     },
     "metadata": {},
     "output_type": "display_data"
    }
   ],
   "source": [
    "x = np.linspace(0,epochs-1,epochs)\n",
    "plt.plot(x, hist.history['loss'], '--', linewidth=2, label='loss')\n",
    "plt.plot(x, hist.history['acc'], '-', linewidth=2, label='acc')\n",
    "plt.legend()\n",
    "plt.show()"
   ]
  },
  {
   "cell_type": "markdown",
   "metadata": {},
   "source": [
    "check results"
   ]
  },
  {
   "cell_type": "code",
   "execution_count": 6,
   "metadata": {
    "collapsed": false
   },
   "outputs": [
    {
     "name": "stdout",
     "output_type": "stream",
     "text": [
      "14/14 [==============================] - 0s\n",
      "[2.4586834115325473e-05, 0.78571426868438721]\n"
     ]
    }
   ],
   "source": [
    "loss_and_metrics = model.evaluate(X, Y)\n",
    "print(loss_and_metrics)"
   ]
  },
  {
   "cell_type": "markdown",
   "metadata": {},
   "source": [
    "check the layers"
   ]
  },
  {
   "cell_type": "code",
   "execution_count": 7,
   "metadata": {
    "collapsed": false
   },
   "outputs": [
    {
     "data": {
      "text/plain": [
       "[array([[-2.07848167,  1.36621284,  0.69455928, -0.38856548],\n",
       "        [ 1.62955022,  0.8616792 ,  0.75343639,  1.04215324],\n",
       "        [-0.14136663, -0.36669043, -0.68399763, -0.32228771],\n",
       "        [ 0.74562657, -1.36019182, -0.71207422, -0.63417536],\n",
       "        [ 1.67095602,  0.9021976 ,  1.20596802, -0.92544335],\n",
       "        [ 0.07369877, -0.65094727,  0.33365941,  1.54552782],\n",
       "        [-0.40292522,  0.16574317,  1.33869433, -0.59442252]], dtype=float32),\n",
       " array([-0.96774238,  0.24066781, -1.22687876,  0.581698  ], dtype=float32)]"
      ]
     },
     "execution_count": 7,
     "metadata": {},
     "output_type": "execute_result"
    }
   ],
   "source": [
    "L1.get_weights()\n",
    "L2.get_weights()"
   ]
  },
  {
   "cell_type": "code",
   "execution_count": 8,
   "metadata": {
    "collapsed": false
   },
   "outputs": [],
   "source": [
    "#proba = model.predict_proba(inp, batch_size=10)\n",
    "pred = model.predict(inp)"
   ]
  },
  {
   "cell_type": "code",
   "execution_count": 9,
   "metadata": {
    "collapsed": false
   },
   "outputs": [
    {
     "name": "stdout",
     "output_type": "stream",
     "text": [
      "[ 0.  0.  0.  0.] [0, 0, 0, 0] [0, 0, 0, 0] O\n",
      "[ 0.          0.          0.          0.99373496] [0, 0, 0, 1] [0, 0, 0, 1] O\n",
      "[ 0.          0.          0.99387968  0.        ] [0, 0, 1, 0] [0, 0, 1, 0] O\n",
      "[ 0.          0.          0.99455106  0.98950094] [0, 0, 1, 1] [0, 0, 1, 1] O\n",
      "[ 0.          0.99529529  0.          0.        ] [0, 1, 0, 0] [0, 1, 0, 0] O\n",
      "[ 0.          1.00051272  0.          0.99212456] [0, 1, 0, 1] [0, 1, 0, 1] O\n",
      "[ 0.          0.98924488  0.9901799   0.        ] [0, 1, 1, 0] [0, 1, 1, 0] O\n",
      "[ 0.          0.99741209  0.99533784  0.99236757] [0, 1, 1, 1] [0, 1, 1, 1] O\n",
      "[ 0.99408227  0.          0.          0.        ] [1, 0, 0, 0] [1, 0, 0, 0] O\n",
      "[ 0.99149317  0.          0.          0.98825109] [1, 0, 0, 1] [1, 0, 0, 1] O\n",
      "[ 0.9912973   0.          0.99315155  0.        ] [1, 0, 1, 0] [1, 0, 1, 0] O\n",
      "[ 0.99627572  0.99414498  0.          0.        ] [1, 1, 0, 0] [1, 1, 0, 0] O\n",
      "[ 0.99326187  0.99222577  0.98737442  0.        ] [1, 1, 1, 0] [1, 1, 1, 0] O\n",
      "[ 0.9960261   0.99336684  0.99617779  0.99540001] [1, 1, 1, 1] [1, 1, 1, 1] O\n"
     ]
    }
   ],
   "source": [
    "for co,i in enumerate(pred):\n",
    "    c=[]\n",
    "    for j in i:\n",
    "        if j>0.5: c.append(1)\n",
    "        else: c.append(0)\n",
    "    if c==out[co]: \n",
    "        st=\"O\"\n",
    "    else:\n",
    "        st=\"X\"\n",
    "    print(i,c, out[co], st)"
   ]
  },
  {
   "cell_type": "code",
   "execution_count": null,
   "metadata": {
    "collapsed": false
   },
   "outputs": [],
   "source": []
  }
 ],
 "metadata": {
  "kernelspec": {
   "display_name": "Python 3",
   "language": "python",
   "name": "python3"
  },
  "language_info": {
   "codemirror_mode": {
    "name": "ipython",
    "version": 3
   },
   "file_extension": ".py",
   "mimetype": "text/x-python",
   "name": "python",
   "nbconvert_exporter": "python",
   "pygments_lexer": "ipython3",
   "version": "3.5.4"
  }
 },
 "nbformat": 4,
 "nbformat_minor": 0
}
