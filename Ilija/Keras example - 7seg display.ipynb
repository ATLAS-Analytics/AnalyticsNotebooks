{
 "cells": [
  {
   "cell_type": "markdown",
   "metadata": {},
   "source": [
    "# Recognizing 7 seg digit\n",
    "### input are values of 7 segments of the digital display. output is a binary representation of the number shown"
   ]
  },
  {
   "cell_type": "code",
   "execution_count": 3,
   "metadata": {},
   "outputs": [],
   "source": [
    "%matplotlib inline\n",
    "import matplotlib.pyplot as plt\n",
    "import numpy as np\n",
    "import pandas as pd\n",
    "\n",
    "from keras.models import Sequential\n",
    "from keras.layers import Dense, Activation\n",
    "from keras import optimizers\n",
    "from keras.layers.normalization import BatchNormalization\n",
    "from IPython.display import SVG\n",
    "# from keras.utils.visualize_util import plot\n",
    "# from keras.utils.visualize_util import model_to_dot"
   ]
  },
  {
   "cell_type": "markdown",
   "metadata": {},
   "source": [
    "input and output data"
   ]
  },
  {
   "cell_type": "code",
   "execution_count": 4,
   "metadata": {},
   "outputs": [
    {
     "name": "stdout",
     "output_type": "stream",
     "text": [
      "(14, 7) (14, 4)\n"
     ]
    }
   ],
   "source": [
    "zer = [1,1,1,1,1,1,0]\n",
    "one = [0,1,1,0,0,0,0]\n",
    "two = [1,1,0,1,1,0,1]\n",
    "thr = [1,1,1,1,0,0,1]\n",
    "fou = [0,1,1,0,0,1,1]\n",
    "fiv = [1,0,1,1,0,1,1]\n",
    "six = [1,0,1,1,1,1,1]\n",
    "sev = [1,1,1,0,0,0,0]\n",
    "eig = [1,1,1,1,1,1,1]\n",
    "nin = [1,1,1,1,0,1,1]\n",
    "eij = [1,1,1,0,1,1,1] #A\n",
    "see = [1,0,0,1,1,1,0] #C\n",
    "eee = [1,0,0,1,1,1,1] #E\n",
    "eff = [1,0,0,0,1,1,1] #F\n",
    "inp=[zer, one, two, thr, fou, fiv, six, sev, eig, nin, eij, see, eee, eff]\n",
    "out=[[0,0,0,0],[0,0,0,1],[0,0,1,0],[0,0,1,1],[0,1,0,0],[0,1,0,1],[0,1,1,0],[0,1,1,1],[1,0,0,0],[1,0,0,1],[1,0,1,0],[1,1,0,0],[1,1,1,0],[1,1,1,1]]\n",
    "\n",
    "X_df=pd.DataFrame(inp,columns=['l1','l2','l3','l4','l5','l6','l7'])\n",
    "X_df\n",
    "Y_df=pd.DataFrame(out,columns=['b0','b1','b2','b3'])\n",
    "Y_df\n",
    "print(X_df.shape, Y_df.shape)\n",
    "X=X_df.values\n",
    "Y=Y_df.values"
   ]
  },
  {
   "cell_type": "markdown",
   "metadata": {},
   "source": [
    "NN model"
   ]
  },
  {
   "cell_type": "code",
   "execution_count": 12,
   "metadata": {},
   "outputs": [],
   "source": [
    "model = Sequential()\n",
    "L1=Dense( units=7, input_shape=(7,), activation='relu')\n",
    "model.add(L1)\n",
    "L2=Dense(units=4, activation='sigmoid') # sigmoid\n",
    "model.add(L2)\n",
    "model.compile(loss='binary_crossentropy',optimizer='rmsprop', metrics=['accuracy'])\n",
    "my_sgd = optimizers.SGD(lr=0.01, momentum=0.5, decay=0.1, nesterov=True)\n",
    "\n",
    "\n",
    "#model.add(Dense( units=7, input_shape=(7,), activation='relu'))\n",
    "#model.add(BatchNormalization())\n",
    "#model.add(model.add(lambda(rectifier)))\n",
    "#model.compile(loss='categorical_crossentropy', optimizer='adam', metrics=['accuracy'])\n",
    "#model.compile(loss='mse', optimizer='adagrad', metrics=['accuracy'])\n",
    "#model.compile(loss='mse',optimizer='sgd', metrics=['binary_accuracy'])\n",
    "\n",
    "#plot(model, to_file='model.png',show_shapes=True)\n",
    "#SVG(model_to_dot(model).create(prog='dot', format='svg'))"
   ]
  },
  {
   "cell_type": "markdown",
   "metadata": {},
   "source": [
    "train"
   ]
  },
  {
   "cell_type": "code",
   "execution_count": 13,
   "metadata": {},
   "outputs": [],
   "source": [
    "epochs=5000\n",
    "hist = model.fit(X, Y, epochs=epochs,  verbose=0, shuffle=True) #batch_size=5,"
   ]
  },
  {
   "cell_type": "code",
   "execution_count": 14,
   "metadata": {},
   "outputs": [
    {
     "data": {
      "image/png": "[encoded data removed]",
      "text/plain": [
       "<matplotlib.figure.Figure at 0x7f63a0447240>"
      ]
     },
     "metadata": {},
     "output_type": "display_data"
    }
   ],
   "source": [
    "x = np.linspace(0,epochs-1,epochs)\n",
    "plt.plot(x, hist.history['loss'], '--', linewidth=2, label='loss')\n",
    "plt.plot(x, hist.history['acc'], '-', linewidth=2, label='acc')\n",
    "plt.legend()\n",
    "plt.show()"
   ]
  },
  {
   "cell_type": "markdown",
   "metadata": {},
   "source": [
    "check results"
   ]
  },
  {
   "cell_type": "code",
   "execution_count": 15,
   "metadata": {},
   "outputs": [
    {
     "name": "stdout",
     "output_type": "stream",
     "text": [
      "14/14 [==============================] - 0s\n",
      "[0.0021100840531289577, 1.0]\n"
     ]
    }
   ],
   "source": [
    "loss_and_metrics = model.evaluate(X, Y)\n",
    "print(loss_and_metrics)"
   ]
  },
  {
   "cell_type": "markdown",
   "metadata": {},
   "source": [
    "check the layers"
   ]
  },
  {
   "cell_type": "code",
   "execution_count": 16,
   "metadata": {},
   "outputs": [
    {
     "data": {
      "text/plain": [
       "[array([[ 4.42108583, -3.26801968, -4.69163465,  4.94159126],\n",
       "        [-4.26264   ,  5.11523342, -5.1802001 , -3.41528177],\n",
       "        [-5.15483665,  1.19363105,  4.25522518,  5.58749104],\n",
       "        [-5.60158062,  4.69422579,  0.08370215,  2.30058765],\n",
       "        [ 3.10641146,  4.04384041,  4.29233551,  1.47532153],\n",
       "        [ 0.47752899, -0.39328948, -0.72287202, -0.11164892],\n",
       "        [ 0.59684956, -4.17083073, -2.29940987, -5.00185394]], dtype=float32),\n",
       " array([ 1.73327708,  4.21026468, -3.91806626, -2.67738652], dtype=float32)]"
      ]
     },
     "execution_count": 16,
     "metadata": {},
     "output_type": "execute_result"
    }
   ],
   "source": [
    "L1.get_weights()\n",
    "L2.get_weights()"
   ]
  },
  {
   "cell_type": "code",
   "execution_count": 17,
   "metadata": {},
   "outputs": [],
   "source": [
    "#proba = model.predict_proba(inp, batch_size=10)\n",
    "pred = model.predict(inp)"
   ]
  },
  {
   "cell_type": "code",
   "execution_count": 18,
   "metadata": {},
   "outputs": [
    {
     "name": "stdout",
     "output_type": "stream",
     "text": [
      "[  6.54370349e-04   3.19892463e-12   2.01026451e-05   8.06454514e-10] [0, 0, 0, 0] [0, 0, 0, 0] O\n",
      "[  2.23175103e-10   4.96340333e-04   6.44376734e-04   9.99757588e-01] [0, 0, 0, 1] [0, 0, 0, 1] O\n",
      "[  8.38377455e-04   2.15502252e-04   9.99999642e-01   3.96328433e-05] [0, 0, 1, 0] [0, 0, 1, 0] O\n",
      "[  2.02512587e-04   1.86845602e-04   9.99493599e-01   9.99999762e-01] [0, 0, 1, 1] [0, 0, 1, 1] O\n",
      "[  4.17984644e-04   9.99643326e-01   8.59844634e-21   4.74160697e-05] [0, 1, 0, 0] [0, 1, 0, 0] O\n",
      "[  5.82384120e-04   1.00000000e+00   2.04515946e-03   1.00000000e+00] [0, 1, 0, 1] [0, 1, 0, 1] O\n",
      "[  1.93825108e-03   1.00000000e+00   9.96561468e-01   7.77551322e-05] [0, 1, 1, 0] [0, 1, 1, 0] O\n",
      "[  4.15301383e-06   9.98398840e-01   1.00000000e+00   1.00000000e+00] [0, 1, 1, 1] [0, 1, 1, 1] O\n",
      "[  9.99984980e-01   7.35383629e-11   2.21139155e-04   3.97486644e-12] [1, 0, 0, 0] [1, 0, 0, 0] O\n",
      "[  9.98808503e-01   3.83719438e-08   2.14555644e-08   9.99974847e-01] [1, 0, 0, 1] [1, 0, 0, 1] O\n",
      "[  1.00000000e+00   3.07568419e-03   9.98059332e-01   1.68914653e-06] [1, 0, 1, 0] [1, 0, 1, 0] O\n",
      "[ 0.97792244  0.9724673   0.04097401  0.00274282] [1, 1, 0, 0] [1, 1, 0, 0] O\n",
      "[  9.99761403e-01   9.99999762e-01   9.98801589e-01   2.55536521e-04] [1, 1, 1, 0] [1, 1, 1, 0] O\n",
      "[ 1.         1.         1.         0.9994061] [1, 1, 1, 1] [1, 1, 1, 1] O\n"
     ]
    }
   ],
   "source": [
    "for co,i in enumerate(pred):\n",
    "    c=[]\n",
    "    for j in i:\n",
    "        if j>0.5: c.append(1)\n",
    "        else: c.append(0)\n",
    "    if c==out[co]: \n",
    "        st=\"O\"\n",
    "    else:\n",
    "        st=\"X\"\n",
    "    print(i,c, out[co], st)"
   ]
  },
  {
   "cell_type": "code",
   "execution_count": null,
   "metadata": {},
   "outputs": [],
   "source": []
  }
 ],
 "metadata": {
  "kernelspec": {
   "display_name": "Python 3",
   "language": "python",
   "name": "python3"
  },
  "language_info": {
   "codemirror_mode": {
    "name": "ipython",
    "version": 3
   },
   "file_extension": ".py",
   "mimetype": "text/x-python",
   "name": "python",
   "nbconvert_exporter": "python",
   "pygments_lexer": "ipython3",
   "version": "3.4.5"
  }
 },
 "nbformat": 4,
 "nbformat_minor": 1
}
