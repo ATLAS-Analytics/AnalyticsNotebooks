{
 "cells": [
  {
   "cell_type": "markdown",
   "metadata": {},
   "source": [
    "# Parameters"
   ]
  },
  {
   "cell_type": "code",
   "execution_count": 63,
   "metadata": {},
   "outputs": [],
   "source": [
    "db_host      = 'atlas-kibana.mwt2.org'\n",
    "db_port      = 9200\n",
    "db_index     = 'jobs_archive_2018-05-*'\n",
    "\n",
    "query_source = [\n",
    "    'taskid',\n",
    "    'pandaid',\n",
    "    'jobstatus',\n",
    "    'computingsite',\n",
    "    'jobdispatchererrorcode',\n",
    "    'jobdispatchererrordiag',\n",
    "    'transformation',\n",
    "    'wall_time',\n",
    "    'corecount',\n",
    "    'maxpss',\n",
    "    'maxrss',\n",
    "    'exeerrordiag',\n",
    "    'piloterrordiag',\n",
    "    'modificationhost'\n",
    "\n",
    "]\n",
    "\n",
    "query_should = [              \n",
    "    {'term':{'jobstatus': 'failed'}},\n",
    "]\n",
    "\n",
    "query_must_not = [\n",
    "    {'term':{'gShare': 'Analysis'}},\n",
    "]"
   ]
  },
  {
   "cell_type": "markdown",
   "metadata": {},
   "source": [
    "# Query database"
   ]
  },
  {
   "cell_type": "code",
   "execution_count": 64,
   "metadata": {},
   "outputs": [
    {
     "name": "stdout",
     "output_type": "stream",
     "text": [
      "inf> index:  jobs_archive_2018-05-*\n",
      "inf> total 40 tasks queried\n"
     ]
    }
   ],
   "source": [
    "import datetime\n",
    "\n",
    "from elasticsearch import Elasticsearch, helpers \n",
    "from elasticsearch.helpers import scan\n",
    "\n",
    "es = Elasticsearch([{'host':db_host, 'port':db_port}], timeout=60)\n",
    "\n",
    "indices = es.cat.indices(index=db_index, h='index', \n",
    "                         request_timeout=600).split('\\n')\n",
    "indices = sorted(indices)\n",
    "indices = [ii for ii in indices if ii != '']\n",
    "indices = ','.join(indices)\n",
    "\n",
    "job_query = {\n",
    "    'size'   : 0, \n",
    "    '_source': query_source, \n",
    "    'query':   {'bool': {'should': query_should, \n",
    "                         'minimum_should_match':1, \n",
    "                         'must_not': query_must_not}}\n",
    "}\n",
    "\n",
    "scroll = scan(client=es, index=indices, query=job_query)\n",
    "\n",
    "results = []\n",
    "count = 1\n",
    "\n",
    "print ('inf> index: ', db_index)\n",
    "\n",
    "for res in scroll:\n",
    "    r = res['_source']\n",
    "    job_info = []\n",
    "    \n",
    "    for source in query_source:\n",
    "        job_info.append(r[source])\n",
    "            \n",
    "    if job_info[0] == None:\n",
    "        continue\n",
    "    if job_info[5] == None:\n",
    "        continue\n",
    "        \n",
    "    if not 'lost heartbeat' in job_info[5]:\n",
    "        continue\n",
    "        \n",
    "    if not 'TOKYO' in job_info[3]:\n",
    "        continue\n",
    "        \n",
    "    results.append(job_info)\n",
    "    \n",
    "    if (count % 100000) == 0:\n",
    "        print ('inf> processed', count, 'events')\n",
    "    count += 1\n",
    "    \n",
    "print ('inf> total', len(results), 'tasks queried')"
   ]
  },
  {
   "cell_type": "code",
   "execution_count": 65,
   "metadata": {},
   "outputs": [
    {
     "name": "stdout",
     "output_type": "stream",
     "text": [
      "3922526694 20296 8 5291549 8804268 lost heartbeat : 2018-05-07 02:01:26 None None slot1_1@lcg-wn12-13.icepp.jp\n",
      "3922526686 18448 8 4754803 8745340 lost heartbeat : 2018-05-07 01:30:50 None None slot1_3@lcg-wn12-07.icepp.jp\n",
      "3918219416 313555 8 None None lost heartbeat : 2018-05-05 22:36:35 None None None\n",
      "3918219415 313555 8 None None lost heartbeat : 2018-05-05 22:36:35 None None None\n",
      "3923142128 94 1 None None lost heartbeat : 2018-05-07 10:40:55 None None None\n",
      "3923142125 99 1 None None lost heartbeat : 2018-05-07 10:41:00 None None None\n",
      "3923142127 99 1 None None lost heartbeat : 2018-05-07 10:41:00 None None None\n",
      "3923264419 85 8 None None lost heartbeat : 2018-05-07 14:28:00 None None None\n",
      "3923264420 90 8 None None lost heartbeat : 2018-05-07 14:28:05 None None None\n",
      "3922526701 267 8 None None lost heartbeat : 2018-05-06 20:22:52 None None None\n",
      "3915360879 259280 1 1606728 1616364 lost heartbeat : 2018-05-02 09:05:05 None None slot1_13@lcg-wn03-04.icepp.jp\n",
      "3915490453 259153 1 1588581 1598048 lost heartbeat : 2018-05-02 12:43:35 None None slot1_10@lcg-wn02-09.icepp.jp\n",
      "3921247128 20222 1 1412089 1435224 lost heartbeat : 2018-05-05 15:39:50 None None slot1_9@lcg-wn13-11.icepp.jp\n",
      "3919496535 12924 8 10455857 21735060 lost heartbeat : 2018-05-03 16:06:28 None None slot1_3@lcg-wn08-12.icepp.jp\n",
      "3919266062 4521 8 None None lost heartbeat : 2018-05-03 11:54:13 None None None\n",
      "3921302430 16538 1 1432242 1453296 lost heartbeat : 2018-05-05 15:30:53 None None slot1_10@lcg-wn13-11.icepp.jp\n",
      "3919266067 4521 8 None None lost heartbeat : 2018-05-03 11:54:13 None None None\n",
      "3915434121 259137 1 295707 311952 lost heartbeat : 2018-05-02 09:16:54 None None slot1_10@lcg-wn13-03.icepp.jp\n",
      "3915434120 259143 1 292505 313204 lost heartbeat : 2018-05-02 09:16:56 None None slot1_14@lcg-wn11-11.icepp.jp\n",
      "3914293826 259373 1 302013 314052 lost heartbeat : 2018-05-01 01:39:32 None None slot1_7@lcg-wn02-07.icepp.jp\n",
      "3921245439 22014 1 1460327 1476092 lost heartbeat : 2018-05-05 15:58:17 None None slot1_3@lcg-wn13-11.icepp.jp\n",
      "3917105652 259189 1 1598686 1608616 lost heartbeat : 2018-05-04 09:44:11 None None slot1_1@lcg-wn01-11.icepp.jp\n",
      "3914742043 210258 8 None None lost heartbeat : 2018-05-01 03:37:28 None None None\n",
      "3914742109 210258 8 None None lost heartbeat : 2018-05-01 03:37:28 None None None\n",
      "3919113581 23422 8 None None lost heartbeat : 2018-05-03 11:15:57 None None None\n",
      "3919236719 3333 8 None None lost heartbeat : 2018-05-03 11:10:58 None None None\n",
      "3916747918 14768 8 5165566 7878528 lost heartbeat : 2018-05-01 07:29:00 None None slot1_3@lcg-wn13-07.icepp.jp\n",
      "3916644706 8590 1 None None lost heartbeat : 2018-05-01 02:09:58 None None aipanda083.cern.ch\n",
      "3916747878 14796 8 5306767 9015924 lost heartbeat : 2018-05-01 07:27:42 None None slot1_4@lcg-wn13-07.icepp.jp\n",
      "3914732401 259380 1 298937 312696 lost heartbeat : 2018-05-01 12:17:16 None None slot1_16@lcg-wn15-15.icepp.jp\n",
      "3914914062 259247 1 295583 308732 lost heartbeat : 2018-05-01 16:39:14 None None slot1_7@lcg-wn01-05.icepp.jp\n",
      "3915586819 259148 1 273622 290296 lost heartbeat : 2018-05-02 14:23:08 None None slot1_14@lcg-wn05-12.icepp.jp\n",
      "3915586823 259176 1 292838 310100 lost heartbeat : 2018-05-02 14:24:00 None None slot1_8@lcg-wn05-03.icepp.jp\n",
      "3921448574 23921 8 5919517 8336296 lost heartbeat : 2018-05-05 15:44:43 None None slot1_4@lcg-wn13-11.icepp.jp\n",
      "3919854635 20738 8 None None lost heartbeat : 2018-05-04 15:47:28 None None None\n",
      "3920262116 12902 8 10919918 21109504 lost heartbeat : 2018-05-04 11:52:47 None None slot1_1@lcg-wn04-03.icepp.jp\n",
      "3921488669 16790 8 None None lost heartbeat : 2018-05-05 15:09:27 None None None\n",
      "3921488724 3745 8 4797049 9226876 lost heartbeat : 2018-05-05 15:54:27 None None slot1_1@lcg-wn13-11.icepp.jp\n",
      "3915031922 259140 1 304231 311300 lost heartbeat : 2018-05-01 19:25:09 None None slot1_4@lcg-wn12-12.icepp.jp\n",
      "3921634026 829 8 None None lost heartbeat : 2018-05-05 15:14:40 None None None\n",
      "[('Sim_tf.py', 2544.063888888889), ('Generate_tf.py', 594.7522222222221), ('Reco_tf.py', 436.4355555555555), ('EVNTMerge_tf.py', 0.0811111111111111)]\n",
      "[('TOKYO_MCORE_ARC', 2764.5744444444445), ('TOKYO_ARC', 810.7583333333334)]\n"
     ]
    }
   ],
   "source": [
    "%matplotlib inline\n",
    "import matplotlib.pyplot as plt\n",
    "\n",
    "wall_trans = {}\n",
    "wall_site  = {}\n",
    "\n",
    "for result in results:\n",
    "    \n",
    "    site    = result[3]\n",
    "    process = result[6]\n",
    "    core    = result[8]\n",
    "    mpss    = result[9]\n",
    "    mrss    = result[10]\n",
    "    \n",
    "    print (result[1], result[7], core, mpss, mrss, result[5],result[11],result[12], result[13] ) \n",
    "    \n",
    "    if core == None:\n",
    "        core = 1\n",
    "    loss    = (result[7]/3600)*core\n",
    "    \n",
    "    if process in wall_trans.keys():\n",
    "        wall_trans[process] += loss\n",
    "    else:\n",
    "        wall_trans[process] = loss\n",
    "        \n",
    "    if site in wall_site.keys():\n",
    "        wall_site[site] += loss\n",
    "    else:\n",
    "        wall_site[site] = loss\n",
    "\n",
    "data_trans = sorted(wall_trans.items(), key=lambda x: -x[1])  \n",
    "data_site  = sorted(wall_site.items(), key=lambda x: -x[1])\n",
    "\n",
    "print (data_trans)\n",
    "print (data_site)"
   ]
  },
  {
   "cell_type": "code",
   "execution_count": null,
   "metadata": {
    "collapsed": true
   },
   "outputs": [],
   "source": []
  }
 ],
 "metadata": {
  "kernelspec": {
   "display_name": "Python 3",
   "language": "python",
   "name": "python3"
  },
  "language_info": {
   "codemirror_mode": {
    "name": "ipython",
    "version": 3
   },
   "file_extension": ".py",
   "mimetype": "text/x-python",
   "name": "python",
   "nbconvert_exporter": "python",
   "pygments_lexer": "ipython3",
   "version": "3.4.5"
  }
 },
 "nbformat": 4,
 "nbformat_minor": 2
}
