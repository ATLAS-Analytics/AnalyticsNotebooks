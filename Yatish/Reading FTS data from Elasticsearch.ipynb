{
 "cells": [
  {
   "cell_type": "code",
   "execution_count": 116,
   "metadata": {
    "collapsed": true
   },
   "outputs": [],
   "source": [
    "# Reading FTS data from Elasticsearch"
   ]
  },
  {
   "cell_type": "code",
   "execution_count": 117,
   "metadata": {
    "collapsed": true
   },
   "outputs": [],
   "source": [
    "%matplotlib inline\n",
    "import matplotlib.pyplot as plt\n",
    "from matplotlib import gridspec\n",
    "\n",
    "from elasticsearch import Elasticsearch\n",
    "from elasticsearch.helpers import scan\n",
    "from time import time\n",
    "import pprint\n",
    "\n",
    "es = Elasticsearch(['atlas-kibana.mwt2.org:9200'],timeout=60)\n",
    "my_index = \"rucio-events*\""
   ]
  },
  {
   "cell_type": "markdown",
   "metadata": {},
   "source": [
    "## Select period you are interested in"
   ]
  },
  {
   "cell_type": "code",
   "execution_count": 118,
   "metadata": {
    "collapsed": true
   },
   "outputs": [],
   "source": [
    "start_date = '2016-07-01'\n",
    "end_date   = '2016-09-22'"
   ]
  },
  {
   "cell_type": "markdown",
   "metadata": {},
   "source": [
    "### here the query"
   ]
  },
  {
   "cell_type": "code",
   "execution_count": 119,
   "metadata": {
    "collapsed": false
   },
   "outputs": [],
   "source": [
    "my_query = {\n",
    " 'query': { \n",
    "  'filtered': {\n",
    "   'query': { \"match_all\": {} },\n",
    "   'filter':{\n",
    "    'bool': {\n",
    "     'must': [\n",
    "      {\"exists\" : { \"field\" : \"payload.activity\" }},\n",
    "      {'term':{'payload.dst-rse': 'UKI-NORTHGRID-MAN-HEP_DATADISK' }},\n",
    "      {'term':{'payload.src-rse': 'RRC-KI-T1_DATADISK' }},\n",
    "      {'range': {'created_at': {'gte': start_date, 'lt': end_date}}}    \n",
    "     ]\n",
    "    }\n",
    "   }\n",
    "  }\n",
    " }\n",
    "}"
   ]
  },
  {
   "cell_type": "markdown",
   "metadata": {},
   "source": [
    "### streaming the documents"
   ]
  },
  {
   "cell_type": "code",
   "execution_count": 120,
   "metadata": {
    "collapsed": false
   },
   "outputs": [
    {
     "name": "stdout",
     "output_type": "stream",
     "text": [
      "0\n",
      "{   '_id': 'AVWkverfd25u_mmDIJJb',\n",
      "    '_index': 'rucio-events-2016.07.01',\n",
      "    '_score': 0.0,\n",
      "    '_source': {   '@timestamp': '2016-07-01T04:35:56.582Z',\n",
      "                   '@version': '1',\n",
      "                   'created_at': '2016-07-01 04:35:49',\n",
      "                   'event_type': 'transfer-done',\n",
      "                   'payload': {   'activity': 'Production Input',\n",
      "                                  'bytes': 358598,\n",
      "                                  'checksum-adler': '11bac3b4',\n",
      "                                  'checksum-md5': None,\n",
      "                                  'created_at': None,\n",
      "                                  'dst-rse': 'UKI-NORTHGRID-MAN-HEP_DATADISK',\n",
      "                                  'dst-type': 'DISK',\n",
      "                                  'dst-url': 'srm://bohr3226.tier2.hep.manchester.ac.uk:8446/srm/managerv2?SFN=/dpm/tier2.hep.manchester.ac.uk/home/atlas/atlasdatadisk/rucio/mc15_13TeV/3e/47/HITS.08797285._004641.pool.root.1',\n",
      "                                  'duration': 14.626,\n",
      "                                  'file-size': 358598,\n",
      "                                  'guid': None,\n",
      "                                  'name': 'HITS.08797285._004641.pool.root.1',\n",
      "                                  'previous-request-id': None,\n",
      "                                  'protocol': 'srm',\n",
      "                                  'reason': '',\n",
      "                                  'request-id': 'a3d1740672da4501a9d29fd94940097c',\n",
      "                                  'scope': 'mc15_13TeV',\n",
      "                                  'src-rse': 'RRC-KI-T1_DATADISK',\n",
      "                                  'src-type': 'DISK',\n",
      "                                  'src-url': 'srm://sdrm.t1.grid.kiae.ru:8443/srm/managerv2?SFN=/t1.grid.kiae.ru/data/atlas/atlasdatadisk/rucio/mc15_13TeV/3e/47/HITS.08797285._004641.pool.root.1',\n",
      "                                  'started_at': '2016-07-01 04:35:34.222000',\n",
      "                                  'submitted_at': '2016-07-01 04:35:30',\n",
      "                                  'tool-id': 'rucio-conveyor',\n",
      "                                  'transfer-endpoint': 'https://fts3-test.gridpp.rl.ac.uk:8446',\n",
      "                                  'transfer-id': '3daebede-3f45-11e6-b5ba-001dd8b71d43',\n",
      "                                  'transfer-link': 'https://fts3-test.gridpp.rl.ac.uk:8449/fts3/ftsmon/#/job/3daebede-3f45-11e6-b5ba-001dd8b71d43',\n",
      "                                  'transferred_at': '2016-07-01 '\n",
      "                                                    '04:35:48.848000'},\n",
      "                   'type': 'rucio-event'},\n",
      "    '_type': 'rucio-event'}\n",
      "1000\n",
      "2000\n",
      "3000\n",
      "4000\n",
      "5000\n",
      "6000\n",
      "7000\n",
      "8000\n",
      "9000\n",
      "10000\n",
      "11000\n",
      "12000\n",
      "13000\n",
      "14000\n",
      "15000\n",
      "15686 events in 2.292992 seconds. 6840.842699048724 ev/s.\n"
     ]
    }
   ],
   "source": [
    "t0 = time()\n",
    "scroll = scan(es, query=my_query, index=my_index)\n",
    "pp = pprint.PrettyPrinter(indent=4)\n",
    "\n",
    "count = 0\n",
    "allSizes=[]\n",
    "for res in scroll:\n",
    "    if not count%1000:  print(count)\n",
    "    if count<1: pp.pprint(res)\n",
    "    count += 1\n",
    "    if res['_source']['event_type']=='transfer-done':\n",
    "        allSizes.append(res['_source']['payload']['bytes'])\n",
    "    \n",
    "t1 = time()\n",
    "\n",
    "print (count, 'events in %f seconds.' %(t1-t0), count/(t1-t0), \"ev/s.\")"
   ]
  },
  {
   "cell_type": "markdown",
   "metadata": {},
   "source": [
    "### ploting some data"
   ]
  },
  {
   "cell_type": "code",
   "execution_count": 121,
   "metadata": {
    "collapsed": false
   },
   "outputs": [
    {
     "data": {
      "image/png": "[encoded data removed]",
      "text/plain": [
       "<matplotlib.figure.Figure at 0x7fbdd7c1e2b0>"
      ]
     },
     "metadata": {},
     "output_type": "display_data"
    }
   ],
   "source": [
    "plt.figure(figsize=[16, 17])\n",
    "gs = gridspec.GridSpec(4, 1)\n",
    "\n",
    "ax0 = plt.subplot(gs[0])\n",
    "ax0.hist(allSizes, 50, normed=0, facecolor='green', alpha=0.75)\n",
    "#ax0.plot(Fthr.timestamp.tolist(), Fthr.throughput.tolist(), ls='-', marker='>', c='r', label=sS+'->'+dS)\n",
    "#ax0.plot(Bthr.timestamp.tolist(), Bthr.throughput.tolist(), ls='-', marker='<', c='b', label=dS+'->'+sS)\n",
    "#ax0.set_xlabel('time')\n",
    "#ax0.set_ylabel('throughput [Gbps]')#,rotation='horizontal')\n",
    "#ax0.xlim(xmin=0)\n",
    "#ax0.legend()\n",
    "\n",
    "\n",
    "#ax2 = plt.subplot(gs[1])\n",
    "plt.show()"
   ]
  },
  {
   "cell_type": "code",
   "execution_count": null,
   "metadata": {
    "collapsed": true
   },
   "outputs": [],
   "source": []
  }
 ],
 "metadata": {
  "celltoolbar": "Raw Cell Format",
  "kernelspec": {
   "display_name": "Python 3",
   "language": "python",
   "name": "python3"
  },
  "language_info": {
   "codemirror_mode": {
    "name": "ipython",
    "version": 3
   },
   "file_extension": ".py",
   "mimetype": "text/x-python",
   "name": "python",
   "nbconvert_exporter": "python",
   "pygments_lexer": "ipython3",
   "version": "3.5.1"
  }
 },
 "nbformat": 4,
 "nbformat_minor": 0
}
