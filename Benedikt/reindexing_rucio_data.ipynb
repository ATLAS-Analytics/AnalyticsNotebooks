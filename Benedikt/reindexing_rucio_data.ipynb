{
 "cells": [
  {
   "cell_type": "code",
   "execution_count": 89,
   "metadata": {
    "collapsed": true
   },
   "outputs": [],
   "source": [
    "from elasticsearch import Elasticsearch\n",
    "from elasticsearch.helpers import scan\n",
    "from time import time\n",
    "from copy import copy\n",
    "import pprint\n",
    "import datetime\n",
    "pp = pprint.PrettyPrinter(indent=4)\n",
    "es = Elasticsearch(['atlas-kibana.mwt2.org:9200'],timeout=60)"
   ]
  },
  {
   "cell_type": "code",
   "execution_count": 188,
   "metadata": {
    "collapsed": true
   },
   "outputs": [],
   "source": [
    "old_index = \"x1t-rucio-events-2017\"\n",
    "new_index = \"x1t-rucio-2017-beginning-test\""
   ]
  },
  {
   "cell_type": "code",
   "execution_count": 182,
   "metadata": {
    "collapsed": true
   },
   "outputs": [],
   "source": [
    "my_query = {\n",
    "    \"stored_fields\" : [\"_source\"],\n",
    "    \"query\": {\n",
    "       \"match_all\": {}\n",
    "   }\n",
    "}"
   ]
  },
  {
   "cell_type": "code",
   "execution_count": 191,
   "metadata": {
    "collapsed": true
   },
   "outputs": [],
   "source": [
    "scroll = scan(es, query=my_query, index=old_index, scroll='5m', timeout=\"5m\", size=10)"
   ]
  },
  {
   "cell_type": "code",
   "execution_count": 135,
   "metadata": {
    "collapsed": true
   },
   "outputs": [],
   "source": [
    "test_time = \"2016-07-11 20:27:05\""
   ]
  },
  {
   "cell_type": "code",
   "execution_count": 136,
   "metadata": {
    "collapsed": false
   },
   "outputs": [
    {
     "data": {
      "text/plain": [
       "datetime.datetime(2016, 7, 11, 20, 27, 5)"
      ]
     },
     "execution_count": 136,
     "metadata": {},
     "output_type": "execute_result"
    }
   ],
   "source": [
    "datetime.datetime.strptime(test_time, \"%Y-%m-%d %H:%M:%S\")"
   ]
  },
  {
   "cell_type": "code",
   "execution_count": 192,
   "metadata": {
    "collapsed": false
   },
   "outputs": [
    {
     "name": "stdout",
     "output_type": "stream",
     "text": [
      "done:  0\n",
      "{'_score': None, 'sort': [0], '_id': 'AVnOK0IQdBVA34k9uL_g', '_type': 'rucio-event', '_source': {'@version': '1', 'type': 'rucio-event', 'payload': {'file-size': 2947873305, 'bytes': 2947873305, 'scope': 'x1t_SR000_161110_2156_tpc', 'name': 'XENON1T-4485-000016000-000016999-000001000.zip', 'rse': 'CCIN2P3_USERDISK', 'url': 'gsiftp://ccdcacli022.in2p3.fr:2811/pnfs/in2p3.fr/data/xenon.biggrid.nl/rucio/x1t_SR000_161110_2156_tpc/fa/8e/XENON1T-4485-000016000-000016999-000001000.zip'}, 'created_at': '2017-01-16 21:01:55', 'event_type': 'deletion-planned', '@timestamp': '2017-01-24T01:50:58.501Z'}, '_index': 'x1t-rucio-events-2017'}\n",
      "{'_score': None, 'sort': [0], '_id': 'AVl5c6vguZI8SHWOr_PT', '_type': 'rucio-event', '_source': {'@timestamp': '2017-01-07T15:02:20.368Z', '@version': '1', 'type': 'rucio-event', 'payload': {'transfer-endpoint': 'https://fts.usatlas.bnl.gov:8446', 'src-type': 'DISK', 'scope': 'x1t_SR000_161021_1153_tpc', 'created_at': '2017-01-07 15:02:19', 'transfer-id': 'e0fa72ae-cbcd-5c88-986c-5e88a624af25', 'started_at': '2017-01-07 14:51:44', 'request-id': '578a2a698bca4eb8b35fff9a9da2ce66', 'submitted_at': '2017-01-06 20:07:44', 'checksum-adler': 'b24cf05c', 'dst-rse': 'CCIN2P3_USERDISK', 'transferred_at': '2017-01-07 14:52:32', 'protocol': 'gsiftp', 'transfer-link': 'https://fts.usatlas.bnl.gov:8449/fts3/ftsmon/#/job/e0fa72ae-cbcd-5c88-986c-5e88a624af25', 'previous-request-id': None, 'duration': 48, 'tool-id': 'rucio-conveyor', 'dst-url': 'gsiftp://ccdcacli022.in2p3.fr:2811/pnfs/in2p3.fr/data/xenon.biggrid.nl/rucio/x1t_SR000_161021_1153_tpc/1a/2f/XENON1T-3930-000002000-000002099-000000100.zip', 'dst-type': 'DISK', 'file-size': 227441216, 'reason': '', 'activity': 'User Subscriptions', 'bytes': 227441216, 'checksum-md5': None, 'src-rse': 'NIKHEF_USERDISK', 'src-url': 'srm://tbn18.nikhef.nl:8446/srm/managerv2?SFN=/dpm/nikhef.nl/home/xenon.biggrid.nl/rucio/x1t_SR000_161021_1153_tpc/1a/2f/XENON1T-3930-000002000-000002099-000000100.zip', 'guid': None, 'name': 'XENON1T-3930-000002000-000002099-000000100.zip'}, 'event_type': 'transfer-done'}, '_index': 'x1t-rucio-events-2017'}\n",
      "{'_score': None, 'sort': [0], '_id': 'AVnPmQQUdBVA34k9zp49', '_type': 'rucio-event', '_source': {'@version': '1', 'type': 'rucio-event', 'payload': {'rule-id': '9e623f486f924aaba625fe3be942ba18', 'checksum-adler': '4c17d5fe', 'scope': 'x1t_SR000_160520_1405_tpc', 'dst-rse-id': '395c4afdd3d54995b7629e2cd9dcff30', 'request-type': 'transfer', 'file-size': 41821214, 'request-id': 'bb385b56126b4818a878cbfa64eea624', 'state': 'QUEUED', 'activity': 'User Subscriptions', 'bytes': 41821214, 'checksum-md5': None, 'dst-rse': 'CCIN2P3_USERDISK', 'queued_at': '2017-01-24 08:28:44.966109', 'retry-count': 1, 'name': 'XENON1T-0-000159000-000159999-000001000.zip'}, 'created_at': '2017-01-24 08:28:44', 'event_type': 'transfer-queued', '@timestamp': '2017-01-24T08:30:28.832Z'}, '_index': 'x1t-rucio-events-2017'}\n",
      "{'_score': None, 'sort': [0], '_id': 'AVmBOTubuZI8SHWOPe9g', '_type': 'rucio-event', '_source': {'@timestamp': '2017-01-09T03:15:28.234Z', '@version': '1', 'type': 'rucio-event', 'payload': {'file-size': 2772630965, 'bytes': 2772630965, 'scope': 'x1t_SR000_161110_2056_tpc', 'created_at': '2017-01-09 03:15:18', 'name': 'XENON1T-4484-000008000-000008999-000001000.zip', 'rse': 'CCIN2P3_USERDISK', 'url': 'gsiftp://ccdcacli022.in2p3.fr:2811/pnfs/in2p3.fr/data/xenon.biggrid.nl/rucio/x1t_SR000_161110_2056_tpc/48/c6/XENON1T-4484-000008000-000008999-000001000.zip'}, 'event_type': 'deletion-planned'}, '_index': 'x1t-rucio-events-2017'}\n",
      "{'_score': None, 'sort': [1], '_id': 'AVnOK0IQdBVA34k9uL_h', '_type': 'rucio-event', '_source': {'@version': '1', 'type': 'rucio-event', 'payload': {'file-size': 2891731578, 'bytes': 2891731578, 'scope': 'x1t_SR000_161110_2156_tpc', 'name': 'XENON1T-4485-000025000-000025999-000001000.zip', 'rse': 'CCIN2P3_USERDISK', 'url': 'gsiftp://ccdcacli022.in2p3.fr:2811/pnfs/in2p3.fr/data/xenon.biggrid.nl/rucio/x1t_SR000_161110_2156_tpc/29/3c/XENON1T-4485-000025000-000025999-000001000.zip'}, 'created_at': '2017-01-16 21:01:55', 'event_type': 'deletion-planned', '@timestamp': '2017-01-24T01:50:58.501Z'}, '_index': 'x1t-rucio-events-2017'}\n",
      "{'_score': None, 'sort': [1], '_id': 'AVl5c9UKuZI8SHWOr_pa', '_type': 'rucio-event', '_source': {'@timestamp': '2017-01-07T15:02:30.356Z', '@version': '1', 'type': 'rucio-event', 'payload': {'file-size': 117851620, 'bytes': 117851620, 'scope': 'x1t_SR000_161111_1710_tpc', 'created_at': '2017-01-07 15:02:20', 'name': 'XENON1T-4509-000124000-000124999-000001000.zip', 'rse': 'CCIN2P3_USERDISK', 'reason': 'The requested service is not available at the moment.\\nDetails: An unknown exception occurred.\\nDetails: globus_ftp_client: the server responded with an error 530 Login denied', 'url': 'gsiftp://ccdcacli022.in2p3.fr:2811/pnfs/in2p3.fr/data/xenon.biggrid.nl/rucio/x1t_SR000_161111_1710_tpc/ba/55/XENON1T-4509-000124000-000124999-000001000.zip'}, 'event_type': 'deletion-failed'}, '_index': 'x1t-rucio-events-2017'}\n",
      "{'_score': None, 'sort': [1], '_id': 'AVnPmQQUdBVA34k9zp4_', '_type': 'rucio-event', '_source': {'@version': '1', 'type': 'rucio-event', 'payload': {'rule-id': '9e623f486f924aaba625fe3be942ba18', 'checksum-adler': 'e92a6264', 'scope': 'x1t_SR000_160520_1405_tpc', 'dst-rse-id': '395c4afdd3d54995b7629e2cd9dcff30', 'request-type': 'transfer', 'file-size': 41814994, 'request-id': 'd9ac5eb8a7bf4da1aabe8a41bcccffb1', 'state': 'QUEUED', 'activity': 'User Subscriptions', 'bytes': 41814994, 'checksum-md5': None, 'dst-rse': 'CCIN2P3_USERDISK', 'queued_at': '2017-01-24 08:28:44.694101', 'retry-count': 1, 'name': 'XENON1T-0-000149000-000149999-000001000.zip'}, 'created_at': '2017-01-24 08:28:44', 'event_type': 'transfer-queued', '@timestamp': '2017-01-24T08:30:28.832Z'}, '_index': 'x1t-rucio-events-2017'}\n",
      "{'_score': None, 'sort': [1], '_id': 'AVmBOTubuZI8SHWOPe9h', '_type': 'rucio-event', '_source': {'@timestamp': '2017-01-09T03:15:28.234Z', '@version': '1', 'type': 'rucio-event', 'payload': {'file-size': 3010662603, 'bytes': 3010662603, 'scope': 'x1t_SR000_161110_2056_tpc', 'created_at': '2017-01-09 03:15:21', 'name': 'XENON1T-4484-000009000-000009999-000001000.zip', 'rse': 'CCIN2P3_USERDISK', 'url': 'gsiftp://ccdcacli022.in2p3.fr:2811/pnfs/in2p3.fr/data/xenon.biggrid.nl/rucio/x1t_SR000_161110_2056_tpc/d7/1b/XENON1T-4484-000009000-000009999-000001000.zip'}, 'event_type': 'deletion-planned'}, '_index': 'x1t-rucio-events-2017'}\n",
      "{'_score': None, 'sort': [2], '_id': 'AVnOK0IQdBVA34k9uL_k', '_type': 'rucio-event', '_source': {'@version': '1', 'type': 'rucio-event', 'payload': {'file-size': 2798414482, 'bytes': 2798414482, 'scope': 'x1t_SR000_161110_2156_tpc', 'name': 'XENON1T-4485-000021000-000021999-000001000.zip', 'rse': 'CCIN2P3_USERDISK', 'url': 'gsiftp://ccdcacli022.in2p3.fr:2811/pnfs/in2p3.fr/data/xenon.biggrid.nl/rucio/x1t_SR000_161110_2156_tpc/30/c9/XENON1T-4485-000021000-000021999-000001000.zip'}, 'created_at': '2017-01-16 21:01:55', 'event_type': 'deletion-planned', '@timestamp': '2017-01-24T01:50:58.502Z'}, '_index': 'x1t-rucio-events-2017'}\n",
      "{'_score': None, 'sort': [2], '_id': 'AVl5c9UKuZI8SHWOr_pc', '_type': 'rucio-event', '_source': {'@timestamp': '2017-01-07T15:02:30.358Z', '@version': '1', 'type': 'rucio-event', 'payload': {'file-size': 118020892, 'bytes': 118020892, 'scope': 'x1t_SR000_161111_1710_tpc', 'created_at': '2017-01-07 15:02:22', 'name': 'XENON1T-4509-000126000-000126999-000001000.zip', 'rse': 'CCIN2P3_USERDISK', 'reason': 'The requested service is not available at the moment.\\nDetails: An unknown exception occurred.\\nDetails: globus_ftp_client: the server responded with an error 530 Login denied', 'url': 'gsiftp://ccdcacli022.in2p3.fr:2811/pnfs/in2p3.fr/data/xenon.biggrid.nl/rucio/x1t_SR000_161111_1710_tpc/39/36/XENON1T-4509-000126000-000126999-000001000.zip'}, 'event_type': 'deletion-failed'}, '_index': 'x1t-rucio-events-2017'}\n",
      "{'_score': None, 'sort': [2], '_id': 'AVnPmQQUdBVA34k9zp5A', '_type': 'rucio-event', '_source': {'@version': '1', 'type': 'rucio-event', 'payload': {'rule-id': '9e623f486f924aaba625fe3be942ba18', 'checksum-adler': '5b007004', 'scope': 'x1t_SR000_160520_1405_tpc', 'dst-rse-id': '395c4afdd3d54995b7629e2cd9dcff30', 'request-type': 'transfer', 'file-size': 42287096, 'request-id': '5e1212edadca43ad9d0d41cd93e70fbd', 'state': 'QUEUED', 'activity': 'User Subscriptions', 'bytes': 42287096, 'checksum-md5': None, 'dst-rse': 'CCIN2P3_USERDISK', 'queued_at': '2017-01-24 08:28:44.760297', 'retry-count': 1, 'name': 'XENON1T-0-000013000-000013999-000001000.zip'}, 'created_at': '2017-01-24 08:28:44', 'event_type': 'transfer-queued', '@timestamp': '2017-01-24T08:30:28.833Z'}, '_index': 'x1t-rucio-events-2017'}\n"
     ]
    }
   ],
   "source": [
    "count = 0\n",
    "mapping_old_new = {\n",
    "    \"type\": \"event_type\"\n",
    "}\n",
    "\n",
    "for res in scroll:\n",
    "    new_record = {}\n",
    "    if count%10000==0: print('done: ', count)\n",
    "    print(res)\n",
    "    if count == 10: break\n",
    "#     print(type(res))\n",
    "    if \"created_at\" not in res[\"_source\"].keys():\n",
    "        if \"created_at\" in res[\"_source\"][\"payload\"].keys():\n",
    "#             print(res[\"_source\"][\"payload\"][\"created_at\"])\n",
    "            res[\"_source\"][\"created_at\"] = res[\"_source\"][\"payload\"][\"created_at\"]\n",
    "        else:\n",
    "            print(\"-----------------\")\n",
    "            print(res)\n",
    "            print(\"-------******----------\")\n",
    "            continue\n",
    "    if \"event_type\" not in res[\"_source\"][\"payload\"] and \"event_type\" not in res[\"_source\"]:\n",
    "        print(\"====================\")\n",
    "        print(res)\n",
    "        print(\"====================\")\n",
    "        continue\n",
    "    elif \"event_type\" in res[\"_source\"][\"payload\"]:\n",
    "        print(\"==========$$$$$$$$$==========\")\n",
    "        print(res)\n",
    "        print(\"==========$$$$$$$$$==========\")\n",
    "        res[\"_source\"][\"event_type\"] = res[\"_source\"][\"payload\"][\"event_type\"]\n",
    "            #     if \"created_at\" not in res[\"_source\"][\"payload\"].keys():\n",
    "#         raise RuntimeError()\n",
    "    for f, k in res['_source'].items():\n",
    "#         #print('key: ',f,'  val: ', k)\n",
    "        if f == \"payload\":                # removing \"bytes\" as these are not needed.\n",
    "            k.pop(\"bytes\",0)\n",
    "#             try:\n",
    "#                 datetime.datetime.strptime(k[\"created_at\"], \"%Y-%m-%d %H:%M:%S\")\n",
    "#             except:\n",
    "#                 print(\"=========**********===========\")\n",
    "#                 print(res)\n",
    "#                 print(\"=========**********===========\")\n",
    "#                 raise RuntimeError()\n",
    "#         if f == \"type\":\n",
    "#             continue\n",
    "#         else:\n",
    "#             new_record[f] = k\n",
    "\n",
    "        \n",
    "            \n",
    "#     #print('------------------------')\n",
    "#     if count%10000==0:print(new_record)\n",
    "#     state = es.index(index=new_index, doc_type='logs', body=new_record)\n",
    "#     if state['_shards']['failed'] > 0: raise RuntimeError()\n",
    "#     if count%10000==0:print(state)\n",
    "    count += 1\n",
    "#     if count == 1000000:break\n",
    "    #print('=========================')"
   ]
  },
  {
   "cell_type": "code",
   "execution_count": 70,
   "metadata": {
    "collapsed": true
   },
   "outputs": [],
   "source": [
    "new_new_index = \"x1t-rucio-20*\""
   ]
  },
  {
   "cell_type": "code",
   "execution_count": 60,
   "metadata": {
    "collapsed": true
   },
   "outputs": [],
   "source": [
    "nn_scroll = scan(es, query=my_query, index=new_new_index, scroll='5m', timeout=\"5m\", size=10)"
   ]
  },
  {
   "cell_type": "code",
   "execution_count": 61,
   "metadata": {
    "collapsed": false
   },
   "outputs": [
    {
     "name": "stdout",
     "output_type": "stream",
     "text": [
      "{'_score': None, 'sort': [0], '_id': 'AVsXckUE0PrmlpbcOtWk', '_type': 'logs', '_source': {'@timestamp': '2017-03-29T00:23:35.809Z', 'created_at': '2017-03-29 00:23:34', '@version': '1', 'payload': {'rule-id': 'c2a80bc1d76745b899779da539f116d9', 'checksum-adler': '90a20aae', 'scope': 'x1t_SR000_161114_1612_tpc', 'dst-rse-id': '6a4d10292bd24af5b005962caf6f9984', 'request-type': 'transfer', 'file-size': 563973940, 'request-id': '5fb5643da0984c4f94fb7d30c2defc3d', 'state': 'QUEUED', 'activity': 'User Subscriptions', 'bytes': 563973940, 'checksum-md5': None, 'dst-rse': 'UC_OSG_USERDISK', 'queued_at': '2017-03-29 00:23:34.204548', 'retry-count': 1, 'name': 'XENON1T-4591-000026000-000026999-000001000.zip'}, 'event_type': 'transfer-queued'}, '_index': 'x1t-rucio-2017'}\n",
      "{   '_id': 'AVsXckUE0PrmlpbcOtWk',\n",
      "    '_index': 'x1t-rucio-2017',\n",
      "    '_score': None,\n",
      "    '_source': {   '@timestamp': '2017-03-29T00:23:35.809Z',\n",
      "                   '@version': '1',\n",
      "                   'created_at': '2017-03-29 00:23:34',\n",
      "                   'event_type': 'transfer-queued',\n",
      "                   'payload': {   'activity': 'User Subscriptions',\n",
      "                                  'bytes': 563973940,\n",
      "                                  'checksum-adler': '90a20aae',\n",
      "                                  'checksum-md5': None,\n",
      "                                  'dst-rse': 'UC_OSG_USERDISK',\n",
      "                                  'dst-rse-id': '6a4d10292bd24af5b005962caf6f9984',\n",
      "                                  'file-size': 563973940,\n",
      "                                  'name': 'XENON1T-4591-000026000-000026999-000001000.zip',\n",
      "                                  'queued_at': '2017-03-29 00:23:34.204548',\n",
      "                                  'request-id': '5fb5643da0984c4f94fb7d30c2defc3d',\n",
      "                                  'request-type': 'transfer',\n",
      "                                  'retry-count': 1,\n",
      "                                  'rule-id': 'c2a80bc1d76745b899779da539f116d9',\n",
      "                                  'scope': 'x1t_SR000_161114_1612_tpc',\n",
      "                                  'state': 'QUEUED'}},\n",
      "    '_type': 'logs',\n",
      "    'sort': [0]}\n",
      "{'_score': None, 'sort': [1], '_id': 'AVsZdBu00PrmlpbcQrpT', '_type': 'logs', '_source': {'@timestamp': '2017-03-29T09:44:50.878Z', 'created_at': '2017-03-29 09:44:41', '@version': '1', 'payload': {'src-rse-id': '65648a7dc99a4c1e96ebb2ba39d2c4b8', 'checksum-adler': 'f696e947', 'scope': 'x1t_SR001_170329_0222_tpc', 'external-host': 'https://fts.usatlas.bnl.gov:8446', 'dst-rse-id': None, 'request-type': 'transfer', 'file-size': 2090907245, 'request-id': 'a02f8841e3344f83a32fcbfec016fe6b', 'state': 'SUBMITTED', 'activity': 'User Subscriptions', 'bytes': 2090907245, 'checksum-md5': None, 'src-rse': 'LNGS_USERDISK', 'dst-rse': 'NIKHEF_USERDISK', 'queued_at': '2017-03-29 09:44:41.694101', 'external-id': 'c0d2cd0c-3ae5-5c78-84a4-c6dda9ca7b10', 'name': 'XENON1T-8284-000023000-000023999-000001000.zip'}, 'event_type': 'transfer-submitted'}, '_index': 'x1t-rucio-2017'}\n",
      "{   '_id': 'AVsZdBu00PrmlpbcQrpT',\n",
      "    '_index': 'x1t-rucio-2017',\n",
      "    '_score': None,\n",
      "    '_source': {   '@timestamp': '2017-03-29T09:44:50.878Z',\n",
      "                   '@version': '1',\n",
      "                   'created_at': '2017-03-29 09:44:41',\n",
      "                   'event_type': 'transfer-submitted',\n",
      "                   'payload': {   'activity': 'User Subscriptions',\n",
      "                                  'bytes': 2090907245,\n",
      "                                  'checksum-adler': 'f696e947',\n",
      "                                  'checksum-md5': None,\n",
      "                                  'dst-rse': 'NIKHEF_USERDISK',\n",
      "                                  'dst-rse-id': None,\n",
      "                                  'external-host': 'https://fts.usatlas.bnl.gov:8446',\n",
      "                                  'external-id': 'c0d2cd0c-3ae5-5c78-84a4-c6dda9ca7b10',\n",
      "                                  'file-size': 2090907245,\n",
      "                                  'name': 'XENON1T-8284-000023000-000023999-000001000.zip',\n",
      "                                  'queued_at': '2017-03-29 09:44:41.694101',\n",
      "                                  'request-id': 'a02f8841e3344f83a32fcbfec016fe6b',\n",
      "                                  'request-type': 'transfer',\n",
      "                                  'scope': 'x1t_SR001_170329_0222_tpc',\n",
      "                                  'src-rse': 'LNGS_USERDISK',\n",
      "                                  'src-rse-id': '65648a7dc99a4c1e96ebb2ba39d2c4b8',\n",
      "                                  'state': 'SUBMITTED'}},\n",
      "    '_type': 'logs',\n",
      "    'sort': [1]}\n",
      "{'_score': None, 'sort': [2], '_id': 'AVsZdBu00PrmlpbcQrpY', '_type': 'logs', '_source': {'@timestamp': '2017-03-29T09:44:50.888Z', 'created_at': '2017-03-29 09:44:42', '@version': '1', 'payload': {'transfer-endpoint': 'https://fts.usatlas.bnl.gov:8446', 'src-type': 'DISK', 'scope': 'x1t_SR001_170329_0522_tpc', 'created_at': None, 'transfer-id': '845534f1-4370-5d07-ad59-9cd2f9a0d61e', 'started_at': '2017-03-29 09:38:24', 'request-id': '94fa2fdce1024383a408537a92289f2f', 'submitted_at': '2017-03-29 08:53:43', 'checksum-adler': 'c2789b56', 'dst-rse': 'UC_OSG_USERDISK', 'transferred_at': '2017-03-29 09:42:35', 'protocol': 'gsiftp', 'transfer-link': 'https://fts.usatlas.bnl.gov:8449/fts3/ftsmon/#/job/845534f1-4370-5d07-ad59-9cd2f9a0d61e', 'previous-request-id': None, 'duration': 251, 'tool-id': 'rucio-conveyor', 'dst-url': 'gsiftp://gridftp.grid.uchicago.edu:2811/cephfs/srm/xenon/rucio/x1t_SR001_170329_0522_tpc/6d/c5/XENON1T-8287-000013000-000013999-000001000.zip', 'dst-type': 'DISK', 'file-size': 2325805627, 'reason': '', 'activity': 'User Subscriptions', 'bytes': 2325805627, 'checksum-md5': None, 'src-rse': 'LNGS_USERDISK', 'src-url': 'gsiftp://xe1t-datamanager.lngs.infn.it:2811/archive/xenon1t/procdata/ruciotest/x1t_SR001_170329_0522_tpc/6d/c5/XENON1T-8287-000013000-000013999-000001000.zip', 'guid': None, 'name': 'XENON1T-8287-000013000-000013999-000001000.zip'}, 'event_type': 'transfer-done'}, '_index': 'x1t-rucio-2017'}\n",
      "{   '_id': 'AVsZdBu00PrmlpbcQrpY',\n",
      "    '_index': 'x1t-rucio-2017',\n",
      "    '_score': None,\n",
      "    '_source': {   '@timestamp': '2017-03-29T09:44:50.888Z',\n",
      "                   '@version': '1',\n",
      "                   'created_at': '2017-03-29 09:44:42',\n",
      "                   'event_type': 'transfer-done',\n",
      "                   'payload': {   'activity': 'User Subscriptions',\n",
      "                                  'bytes': 2325805627,\n",
      "                                  'checksum-adler': 'c2789b56',\n",
      "                                  'checksum-md5': None,\n",
      "                                  'created_at': None,\n",
      "                                  'dst-rse': 'UC_OSG_USERDISK',\n",
      "                                  'dst-type': 'DISK',\n",
      "                                  'dst-url': 'gsiftp://gridftp.grid.uchicago.edu:2811/cephfs/srm/xenon/rucio/x1t_SR001_170329_0522_tpc/6d/c5/XENON1T-8287-000013000-000013999-000001000.zip',\n",
      "                                  'duration': 251,\n",
      "                                  'file-size': 2325805627,\n",
      "                                  'guid': None,\n",
      "                                  'name': 'XENON1T-8287-000013000-000013999-000001000.zip',\n",
      "                                  'previous-request-id': None,\n",
      "                                  'protocol': 'gsiftp',\n",
      "                                  'reason': '',\n",
      "                                  'request-id': '94fa2fdce1024383a408537a92289f2f',\n",
      "                                  'scope': 'x1t_SR001_170329_0522_tpc',\n",
      "                                  'src-rse': 'LNGS_USERDISK',\n",
      "                                  'src-type': 'DISK',\n",
      "                                  'src-url': 'gsiftp://xe1t-datamanager.lngs.infn.it:2811/archive/xenon1t/procdata/ruciotest/x1t_SR001_170329_0522_tpc/6d/c5/XENON1T-8287-000013000-000013999-000001000.zip',\n",
      "                                  'started_at': '2017-03-29 09:38:24',\n",
      "                                  'submitted_at': '2017-03-29 08:53:43',\n",
      "                                  'tool-id': 'rucio-conveyor',\n",
      "                                  'transfer-endpoint': 'https://fts.usatlas.bnl.gov:8446',\n",
      "                                  'transfer-id': '845534f1-4370-5d07-ad59-9cd2f9a0d61e',\n",
      "                                  'transfer-link': 'https://fts.usatlas.bnl.gov:8449/fts3/ftsmon/#/job/845534f1-4370-5d07-ad59-9cd2f9a0d61e',\n",
      "                                  'transferred_at': '2017-03-29 09:42:35'}},\n",
      "    '_type': 'logs',\n",
      "    'sort': [2]}\n",
      "{'_score': None, 'sort': [3], '_id': 'AVsZdBu00PrmlpbcQrpf', '_type': 'logs', '_source': {'@timestamp': '2017-03-29T09:44:50.890Z', 'created_at': '2017-03-29 09:44:42', '@version': '1', 'payload': {'transfer-endpoint': 'https://fts.usatlas.bnl.gov:8446', 'src-type': 'DISK', 'scope': 'x1t_SR001_170329_0622_tpc', 'created_at': None, 'transfer-id': '4d13307c-7d33-5b15-8a0b-408739551e9b', 'started_at': '2017-03-29 09:41:25', 'request-id': 'f86b12f91b654b0ab74694e5587e957d', 'submitted_at': '2017-03-29 08:43:28', 'checksum-adler': '31b0f8e7', 'dst-rse': 'NIKHEF_USERDISK', 'transferred_at': '2017-03-29 09:43:55', 'protocol': 'srm', 'transfer-link': 'https://fts.usatlas.bnl.gov:8449/fts3/ftsmon/#/job/4d13307c-7d33-5b15-8a0b-408739551e9b', 'previous-request-id': None, 'duration': 150, 'tool-id': 'rucio-conveyor', 'dst-url': 'srm://tbn18.nikhef.nl:8446/srm/managerv2?SFN=/dpm/nikhef.nl/home/xenon.biggrid.nl/rucio/x1t_SR001_170329_0622_tpc/62/b5/XENON1T-8288-000001000-000001999-000001000.zip', 'dst-type': 'DISK', 'file-size': 2182676720, 'reason': '', 'activity': 'User Subscriptions', 'bytes': 2182676720, 'checksum-md5': None, 'src-rse': 'LNGS_USERDISK', 'src-url': 'gsiftp://xe1t-datamanager.lngs.infn.it:2811/archive/xenon1t/procdata/ruciotest/x1t_SR001_170329_0622_tpc/62/b5/XENON1T-8288-000001000-000001999-000001000.zip', 'guid': None, 'name': 'XENON1T-8288-000001000-000001999-000001000.zip'}, 'event_type': 'transfer-done'}, '_index': 'x1t-rucio-2017'}\n",
      "{   '_id': 'AVsZdBu00PrmlpbcQrpf',\n",
      "    '_index': 'x1t-rucio-2017',\n",
      "    '_score': None,\n",
      "    '_source': {   '@timestamp': '2017-03-29T09:44:50.890Z',\n",
      "                   '@version': '1',\n",
      "                   'created_at': '2017-03-29 09:44:42',\n",
      "                   'event_type': 'transfer-done',\n",
      "                   'payload': {   'activity': 'User Subscriptions',\n",
      "                                  'bytes': 2182676720,\n",
      "                                  'checksum-adler': '31b0f8e7',\n",
      "                                  'checksum-md5': None,\n",
      "                                  'created_at': None,\n",
      "                                  'dst-rse': 'NIKHEF_USERDISK',\n",
      "                                  'dst-type': 'DISK',\n",
      "                                  'dst-url': 'srm://tbn18.nikhef.nl:8446/srm/managerv2?SFN=/dpm/nikhef.nl/home/xenon.biggrid.nl/rucio/x1t_SR001_170329_0622_tpc/62/b5/XENON1T-8288-000001000-000001999-000001000.zip',\n",
      "                                  'duration': 150,\n",
      "                                  'file-size': 2182676720,\n",
      "                                  'guid': None,\n",
      "                                  'name': 'XENON1T-8288-000001000-000001999-000001000.zip',\n",
      "                                  'previous-request-id': None,\n",
      "                                  'protocol': 'srm',\n",
      "                                  'reason': '',\n",
      "                                  'request-id': 'f86b12f91b654b0ab74694e5587e957d',\n",
      "                                  'scope': 'x1t_SR001_170329_0622_tpc',\n",
      "                                  'src-rse': 'LNGS_USERDISK',\n",
      "                                  'src-type': 'DISK',\n",
      "                                  'src-url': 'gsiftp://xe1t-datamanager.lngs.infn.it:2811/archive/xenon1t/procdata/ruciotest/x1t_SR001_170329_0622_tpc/62/b5/XENON1T-8288-000001000-000001999-000001000.zip',\n",
      "                                  'started_at': '2017-03-29 09:41:25',\n",
      "                                  'submitted_at': '2017-03-29 08:43:28',\n",
      "                                  'tool-id': 'rucio-conveyor',\n",
      "                                  'transfer-endpoint': 'https://fts.usatlas.bnl.gov:8446',\n",
      "                                  'transfer-id': '4d13307c-7d33-5b15-8a0b-408739551e9b',\n",
      "                                  'transfer-link': 'https://fts.usatlas.bnl.gov:8449/fts3/ftsmon/#/job/4d13307c-7d33-5b15-8a0b-408739551e9b',\n",
      "                                  'transferred_at': '2017-03-29 09:43:55'}},\n",
      "    '_type': 'logs',\n",
      "    'sort': [3]}\n",
      "{'_score': None, 'sort': [4], '_id': 'AVsZdBu00PrmlpbcQrph', '_type': 'logs', '_source': {'@timestamp': '2017-03-29T09:44:50.890Z', 'created_at': '2017-03-29 09:44:42', '@version': '1', 'payload': {'transfer-endpoint': 'https://fts.usatlas.bnl.gov:8446', 'src-type': 'DISK', 'scope': 'x1t_SR001_170329_0216_mv', 'created_at': None, 'transfer-id': '5b21fed2-158e-56e0-9a75-1a3185395cb9', 'started_at': '2017-03-29 09:42:00', 'request-id': '0e26d00f8cc84eac84312f62812973c4', 'submitted_at': '2017-03-29 09:14:13', 'checksum-adler': 'ed0fbb0b', 'dst-rse': 'UC_OSG_USERDISK', 'transferred_at': '2017-03-29 09:42:09', 'protocol': 'gsiftp', 'transfer-link': 'https://fts.usatlas.bnl.gov:8449/fts3/ftsmon/#/job/5b21fed2-158e-56e0-9a75-1a3185395cb9', 'previous-request-id': None, 'duration': 9, 'tool-id': 'rucio-conveyor', 'dst-url': 'gsiftp://gridftp.grid.uchicago.edu:2811/cephfs/srm/xenon/rucio/x1t_SR001_170329_0216_mv/08/73/XENON1T-0-000002000-000002999-000001000.zip', 'dst-type': 'DISK', 'file-size': 33735945, 'reason': '', 'activity': 'User Subscriptions', 'bytes': 33735945, 'checksum-md5': None, 'src-rse': 'LNGS_USERDISK', 'src-url': 'gsiftp://xe1t-datamanager.lngs.infn.it:2811/archive/xenon1t/procdata/ruciotest/x1t_SR001_170329_0216_mv/08/73/XENON1T-0-000002000-000002999-000001000.zip', 'guid': None, 'name': 'XENON1T-0-000002000-000002999-000001000.zip'}, 'event_type': 'transfer-done'}, '_index': 'x1t-rucio-2017'}\n",
      "{   '_id': 'AVsZdBu00PrmlpbcQrph',\n",
      "    '_index': 'x1t-rucio-2017',\n",
      "    '_score': None,\n",
      "    '_source': {   '@timestamp': '2017-03-29T09:44:50.890Z',\n",
      "                   '@version': '1',\n",
      "                   'created_at': '2017-03-29 09:44:42',\n",
      "                   'event_type': 'transfer-done',\n",
      "                   'payload': {   'activity': 'User Subscriptions',\n",
      "                                  'bytes': 33735945,\n",
      "                                  'checksum-adler': 'ed0fbb0b',\n",
      "                                  'checksum-md5': None,\n",
      "                                  'created_at': None,\n",
      "                                  'dst-rse': 'UC_OSG_USERDISK',\n",
      "                                  'dst-type': 'DISK',\n",
      "                                  'dst-url': 'gsiftp://gridftp.grid.uchicago.edu:2811/cephfs/srm/xenon/rucio/x1t_SR001_170329_0216_mv/08/73/XENON1T-0-000002000-000002999-000001000.zip',\n",
      "                                  'duration': 9,\n",
      "                                  'file-size': 33735945,\n",
      "                                  'guid': None,\n",
      "                                  'name': 'XENON1T-0-000002000-000002999-000001000.zip',\n",
      "                                  'previous-request-id': None,\n",
      "                                  'protocol': 'gsiftp',\n",
      "                                  'reason': '',\n",
      "                                  'request-id': '0e26d00f8cc84eac84312f62812973c4',\n",
      "                                  'scope': 'x1t_SR001_170329_0216_mv',\n",
      "                                  'src-rse': 'LNGS_USERDISK',\n",
      "                                  'src-type': 'DISK',\n",
      "                                  'src-url': 'gsiftp://xe1t-datamanager.lngs.infn.it:2811/archive/xenon1t/procdata/ruciotest/x1t_SR001_170329_0216_mv/08/73/XENON1T-0-000002000-000002999-000001000.zip',\n",
      "                                  'started_at': '2017-03-29 09:42:00',\n",
      "                                  'submitted_at': '2017-03-29 09:14:13',\n",
      "                                  'tool-id': 'rucio-conveyor',\n",
      "                                  'transfer-endpoint': 'https://fts.usatlas.bnl.gov:8446',\n",
      "                                  'transfer-id': '5b21fed2-158e-56e0-9a75-1a3185395cb9',\n",
      "                                  'transfer-link': 'https://fts.usatlas.bnl.gov:8449/fts3/ftsmon/#/job/5b21fed2-158e-56e0-9a75-1a3185395cb9',\n",
      "                                  'transferred_at': '2017-03-29 09:42:09'}},\n",
      "    '_type': 'logs',\n",
      "    'sort': [4]}\n"
     ]
    }
   ],
   "source": [
    "count = 0\n",
    "mapping_old_new = {\n",
    "    \"type\": \"event_type\"\n",
    "}\n",
    "\n",
    "for res in nn_scroll:\n",
    "    count += 1\n",
    "    print(res)\n",
    "    pp.pprint(res)\n",
    "    if count>=5: break\n",
    "    "
   ]
  },
  {
   "cell_type": "code",
   "execution_count": 10,
   "metadata": {
    "collapsed": false
   },
   "outputs": [],
   "source": [
    "my_query_time = {\"range\" :\n",
    "                 {\"@timestamp\" :\n",
    "                  {\"lt\" : \"2017-03-01T12:00:00\"} \n",
    "                 } \n",
    "                }  "
   ]
  },
  {
   "cell_type": "code",
   "execution_count": 11,
   "metadata": {
    "collapsed": false
   },
   "outputs": [
    {
     "ename": "NameError",
     "evalue": "name 'new_new_index' is not defined",
     "output_type": "error",
     "traceback": [
      "\u001b[1;31m---------------------------------------------------------------------------\u001b[0m",
      "\u001b[1;31mNameError\u001b[0m                                 Traceback (most recent call last)",
      "\u001b[1;32m<ipython-input-11-9b18ac5c5619>\u001b[0m in \u001b[0;36m<module>\u001b[1;34m()\u001b[0m\n\u001b[1;32m----> 1\u001b[1;33m \u001b[0mnn_scroll\u001b[0m \u001b[1;33m=\u001b[0m \u001b[0mscan\u001b[0m\u001b[1;33m(\u001b[0m\u001b[0mes\u001b[0m\u001b[1;33m,\u001b[0m \u001b[0mquery\u001b[0m\u001b[1;33m=\u001b[0m\u001b[0mmy_query_time\u001b[0m\u001b[1;33m,\u001b[0m \u001b[0mindex\u001b[0m\u001b[1;33m=\u001b[0m\u001b[0mnew_new_index\u001b[0m\u001b[1;33m,\u001b[0m \u001b[0mscroll\u001b[0m\u001b[1;33m=\u001b[0m\u001b[1;34m'5m'\u001b[0m\u001b[1;33m,\u001b[0m \u001b[0mtimeout\u001b[0m\u001b[1;33m=\u001b[0m\u001b[1;34m\"5m\"\u001b[0m\u001b[1;33m,\u001b[0m \u001b[0msize\u001b[0m\u001b[1;33m=\u001b[0m\u001b[1;36m1000\u001b[0m\u001b[1;33m)\u001b[0m\u001b[1;33m\u001b[0m\u001b[0m\n\u001b[0m",
      "\u001b[1;31mNameError\u001b[0m: name 'new_new_index' is not defined"
     ]
    }
   ],
   "source": [
    "nn_scroll = scan(es, query=my_query_time, index=new_new_index, scroll='5m', timeout=\"5m\", size=1000)"
   ]
  },
  {
   "cell_type": "code",
   "execution_count": null,
   "metadata": {
    "collapsed": true
   },
   "outputs": [],
   "source": []
  }
 ],
 "metadata": {
  "kernelspec": {
   "display_name": "Python 3",
   "language": "python",
   "name": "python3"
  },
  "language_info": {
   "codemirror_mode": {
    "name": "ipython",
    "version": 3
   },
   "file_extension": ".py",
   "mimetype": "text/x-python",
   "name": "python",
   "nbconvert_exporter": "python",
   "pygments_lexer": "ipython3",
   "version": "3.5.1"
  }
 },
 "nbformat": 4,
 "nbformat_minor": 0
}
