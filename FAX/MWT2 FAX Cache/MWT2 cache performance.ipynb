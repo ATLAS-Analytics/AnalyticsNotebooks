{
 "cells": [
  {
   "cell_type": "markdown",
   "metadata": {},
   "source": [
    "The first step is the collect data from cache (uct2-xrdcache.mwt2.org).\n",
    "Shell script (/root/sumup.sh) will produce file state.txt that has to be uploaded into the same directory as this notebook."
   ]
  },
  {
   "cell_type": "code",
   "execution_count": 2,
   "metadata": {
    "collapsed": true
   },
   "outputs": [],
   "source": [
    "%matplotlib inline\n",
    "import matplotlib.pyplot as plt\n",
    "from matplotlib import gridspec"
   ]
  },
  {
   "cell_type": "code",
   "execution_count": 3,
   "metadata": {
    "collapsed": false
   },
   "outputs": [
    {
     "name": "stdout",
     "output_type": "stream",
     "text": [
      "totFiles 67716\n",
      "totAcc 102878\n",
      "totFileSize 103398380272510\n",
      "totFilesComplete 53837\n",
      "totBlocks 394466947\n",
      "totBlocksDownloaded 242348022\n",
      "totBytesDisk 26968850432\n",
      "totBytesRAM 622987564\n",
      "totBytesMissed 404814806\n"
     ]
    }
   ],
   "source": [
    "f=open('/home/ivukotic/workspace/AnalyticsNotebooks/FAX/MWT2 FAX Cache/state.txt',mode='r')\n",
    "lines=f.readlines()\n",
    "totFiles=0\n",
    "totFileSize=0\n",
    "totBlocks=0\n",
    "totBlocksDownloaded=0\n",
    "totFilesComplete=0\n",
    "totAcc=0\n",
    "totBytesDisk=0\n",
    "totBytesRAM=0\n",
    "totBytesMissed=0\n",
    "\n",
    "acc=0\n",
    "hits=[]\n",
    "partRead=[]\n",
    "\n",
    "for l in lines:\n",
    "    l=l.strip()\n",
    "    l=l.replace(',','')\n",
    "    l=l.replace('=',' ')\n",
    "    if l.startswith('version'):\n",
    "        if acc>0: hits.append(acc)\n",
    "        acc=0\n",
    "        w=l.split(\" \")\n",
    " #       print(w)\n",
    "        fs = int(w[6])\n",
    "        nBlocks = int(w[10])\n",
    "        nDownloaded = int(w[12]) \n",
    "        if len(w)==13:\n",
    "            totFilesComplete+=1 \n",
    "        totFiles += 1\n",
    "        totFileSize += fs\n",
    "        totBlocks += nBlocks\n",
    "        totBlocksDownloaded += nDownloaded\n",
    "  #      print(l)\n",
    "\n",
    "    elif l.startswith('access'):\n",
    "        acc += 1\n",
    "        totAcc += 1\n",
    "        bytesDisk=int(w[8])\n",
    "        bytesRAM=int(w[10])\n",
    "        bytesMissed=int(w[12])\n",
    "        totBytesDisk += bytesDisk\n",
    "        totBytesRAM  += bytesRAM\n",
    "        totBytesMissed += bytesMissed\n",
    "        #print(l)\n",
    "#    if totFiles>100: break\n",
    "\n",
    " \n",
    "print('totFiles',totFiles)\n",
    "print('totAcc',totAcc)\n",
    "print('totFileSize',totFileSize)\n",
    "print('totFilesComplete',totFilesComplete)\n",
    "print('totBlocks',totBlocks)\n",
    "print('totBlocksDownloaded',totBlocksDownloaded)\n",
    "print('totBytesDisk',totBytesDisk)\n",
    "print('totBytesRAM',totBytesRAM)\n",
    "print('totBytesMissed',totBytesMissed)\n",
    "\n",
    "\n"
   ]
  },
  {
   "cell_type": "code",
   "execution_count": 12,
   "metadata": {
    "collapsed": false
   },
   "outputs": [
    {
     "data": {
      "image/png": "[encoded data removed]",
      "text/plain": [
       "<matplotlib.figure.Figure at 0x7f5fbd8e4710>"
      ]
     },
     "metadata": {},
     "output_type": "display_data"
    }
   ],
   "source": [
    "plt.figure(figsize=[8, 8])\n",
    "gs = gridspec.GridSpec(1, 1)\n",
    "\n",
    "ax0 = plt.subplot(gs[0])\n",
    "ax0.hist(hits, 50, normed=0, facecolor='green', alpha=0.75)\n",
    "ax0.set_yscale('log')\n",
    "ax0.grid(True)\n",
    "ax0.set_xlabel('accesses')\n",
    "ax0.set_ylabel('files')#,rotation='horizontal')\n",
    "#ax0.xlim(xmax=50)\n",
    "#ax0.legend()\n",
    "\n",
    "\n",
    "#ax2 = plt.subplot(gs[1])\n",
    "plt.show()"
   ]
  },
  {
   "cell_type": "code",
   "execution_count": null,
   "metadata": {
    "collapsed": true
   },
   "outputs": [],
   "source": []
  }
 ],
 "metadata": {
  "kernelspec": {
   "display_name": "Python 3",
   "language": "python",
   "name": "python3"
  },
  "language_info": {
   "codemirror_mode": {
    "name": "ipython",
    "version": 3
   },
   "file_extension": ".py",
   "mimetype": "text/x-python",
   "name": "python",
   "nbconvert_exporter": "python",
   "pygments_lexer": "ipython3",
   "version": "3.5.1"
  }
 },
 "nbformat": 4,
 "nbformat_minor": 0
}
