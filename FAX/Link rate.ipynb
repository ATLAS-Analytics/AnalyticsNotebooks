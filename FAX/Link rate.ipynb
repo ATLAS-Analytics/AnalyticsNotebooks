{
 "cells": [
  {
   "cell_type": "markdown",
   "metadata": {},
   "source": [
    "<B>For a given time period averages rates between a source and a destination and plots it.</B>"
   ]
  },
  {
   "cell_type": "code",
   "execution_count": 135,
   "metadata": {
    "collapsed": true
   },
   "outputs": [],
   "source": [
    "%matplotlib inline\n",
    "from datetime import datetime\n",
    "import numpy as np\n",
    "from elasticsearch import Elasticsearch, exceptions as es_exceptions\n",
    "import matplotlib.pyplot as plt\n",
    "from matplotlib.dates import YearLocator, MonthLocator, DateFormatter\n",
    "from matplotlib.dates import AutoDateFormatter, AutoDateLocator\n",
    "\n",
    "currentTime=int(round(datetime.utcnow().timestamp()* 1000))\n",
    "lastHours=96\n",
    "startTime=currentTime - lastHours*3600000 \n",
    "endTime=currentTime\n",
    "\n",
    "source='WT2'\n",
    "destination='MWT2'"
   ]
  },
  {
   "cell_type": "code",
   "execution_count": 142,
   "metadata": {
    "collapsed": false
   },
   "outputs": [],
   "source": [
    "    es = Elasticsearch([{'host':'192.170.227.127', \n",
    "                     'port':9200}])"
   ]
  },
  {
   "cell_type": "code",
   "execution_count": 143,
   "metadata": {
    "collapsed": false
   },
   "outputs": [],
   "source": [
    "#constants\n",
    "#queryString='source:'+source+' AND destination:' + destination\n",
    "searchString={\n",
    "    \"size\":0,\n",
    "    \"query\":{\n",
    "        \"filtered\":{\n",
    "            \"query\":{\n",
    "                \"bool\" : {\n",
    "                  \"must\" :     [ \n",
    "                        {\"term\": {\"source\": { \"value\": source } } },\n",
    "                        {\"term\": {\"destination\": { \"value\": destination } } }\n",
    "                    ]\n",
    "                }\n",
    "#               \"query_string\":{\"query\":queryString,\"analyze_wildcard\":True,\"lowercase_expanded_terms\":False}\n",
    "            },\n",
    "            \"filter\":{\n",
    "                \"range\":{\"timestamp\":{\"gte\": startTime,\"lte\": endTime,\"format\": \"epoch_millis\"}}\n",
    "            }\n",
    "        }\n",
    "    },\n",
    "    \"aggs\": {\n",
    "        \"2\": {\n",
    "          \"date_histogram\": {\n",
    "            \"field\": \"timestamp\",\n",
    "            \"interval\": \"10m\",\n",
    "            \"time_zone\": \"America/Chicago\",\n",
    "            \"min_doc_count\": 1\n",
    "          },\n",
    "          \"aggs\": { \"1\": { \"avg\": { \"field\": \"rate\" }}}}} \n",
    "}\n"
   ]
  },
  {
   "cell_type": "markdown",
   "metadata": {},
   "source": [
    "Actually running the search"
   ]
  },
  {
   "cell_type": "code",
   "execution_count": 144,
   "metadata": {
    "collapsed": false
   },
   "outputs": [
    {
     "name": "stdout",
     "output_type": "stream",
     "text": [
      "results returned in: 973 ms\n",
      "results: 300\n"
     ]
    }
   ],
   "source": [
    "res= es.search(body=searchString)\n",
    "print ('results returned in:',res['took'], 'ms')\n",
    "print ('results:', res['hits']['total'])\n",
    "r=res['aggregations']['2']['buckets']\n",
    "# print (r)\n",
    "AllData=[]\n",
    "dates=[]\n",
    "rates=[]\n",
    "for s in r:\n",
    "    #print ('result:', s['key'], s[\"1\"][\"value\"])\n",
    "    AllData.append([s['key'],s[\"1\"][\"value\"]])\n",
    "    dates.append(datetime.fromtimestamp(s['key']/1000))\n",
    "    rates.append(s[\"1\"][\"value\"])\n",
    "    \n",
    "data=np.array( AllData )"
   ]
  },
  {
   "cell_type": "raw",
   "metadata": {},
   "source": [
    "plotting results"
   ]
  },
  {
   "cell_type": "code",
   "execution_count": null,
   "metadata": {
    "collapsed": false,
    "scrolled": true
   },
   "outputs": [],
   "source": [
    "fig, ax = plt.subplots()\n",
    "rateplot = ax.plot_date(dates, rates, '-')\n",
    "\n",
    "xtick_locator = AutoDateLocator()\n",
    "xtick_formatter = AutoDateFormatter(xtick_locator)\n",
    "\n",
    "ax.xaxis.set_major_locator(xtick_locator)\n",
    "ax.xaxis.set_major_formatter(xtick_formatter)\n",
    "\n",
    "# Format\n",
    "fig = plt.gcf()\n",
    "fig.set_size_inches(16, 11)\n",
    "\n",
    "ax.grid(True)\n",
    "# ax.autoscale_view()\n",
    "\n",
    "# fig.autofmt_xdate()\n",
    "\n"
   ]
  },
  {
   "cell_type": "code",
   "execution_count": null,
   "metadata": {
    "collapsed": true
   },
   "outputs": [],
   "source": []
  },
  {
   "cell_type": "code",
   "execution_count": null,
   "metadata": {
    "collapsed": true
   },
   "outputs": [],
   "source": []
  },
  {
   "cell_type": "code",
   "execution_count": null,
   "metadata": {
    "collapsed": true
   },
   "outputs": [],
   "source": []
  }
 ],
 "metadata": {
  "kernelspec": {
   "display_name": "Python 3",
   "language": "python",
   "name": "python3"
  },
  "language_info": {
   "codemirror_mode": {
    "name": "ipython",
    "version": 3
   },
   "file_extension": ".py",
   "mimetype": "text/x-python",
   "name": "python",
   "nbconvert_exporter": "python",
   "pygments_lexer": "ipython3",
   "version": "3.5.1"
  }
 },
 "nbformat": 4,
 "nbformat_minor": 0
}
