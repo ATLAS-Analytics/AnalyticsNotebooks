{
 "cells": [
  {
   "cell_type": "code",
   "execution_count": 13,
   "metadata": {
    "collapsed": true
   },
   "outputs": [],
   "source": [
    "from elasticsearch import Elasticsearch, exceptions as es_exceptions\n",
    "from elasticsearch.helpers import scan\n",
    "es = Elasticsearch([{'host':'uct2-es-door.mwt2.org', 'port':9200}])\n",
    "\n",
    "import numpy as np\n",
    "import pandas as pd\n",
    "import matplotlib.pyplot as plt\n",
    "import datetime\n",
    "import pickle\n",
    "plt.style.use('seaborn-paper')\n",
    "%matplotlib inline\n",
    "pd.options.mode.chained_assignment = None  # default='warn'\n",
    "\n"
   ]
  },
  {
   "cell_type": "code",
   "execution_count": 52,
   "metadata": {
    "collapsed": false
   },
   "outputs": [],
   "source": [
    "ind=\"stashcp-2016.9\"\n",
    "\n",
    "myquery1={\n",
    "  \"query\": {\n",
    "    \"filtered\": {\n",
    "      \"query\": {\n",
    "        \"query_string\": {\n",
    "          \"query\": \"*\",\n",
    "          \"analyze_wildcard\": True\n",
    "        }\n",
    "      },\n",
    "      \"filter\": {\n",
    "        \"bool\": {\n",
    "          \"must\": [\n",
    "            {\n",
    "              \"query\": {\n",
    "                \"query_string\": {\n",
    "                  \"analyze_wildcard\": True,\n",
    "                  \"query\": \"*a2gb*\"\n",
    "                }\n",
    "              }\n",
    "            },\n",
    "            {\n",
    "              \"range\": {\n",
    "                \"timestamp\": {\n",
    "                  \"gte\": 1473252848028,\n",
    "                  \"lte\": 1473309259064,\n",
    "                  \"format\": \"epoch_millis\"\n",
    "                }\n",
    "              }\n",
    "            }\n",
    "          ],\n",
    "        }\n",
    "      }\n",
    "    }\n",
    "  },\n",
    "}\n"
   ]
  },
  {
   "cell_type": "markdown",
   "metadata": {},
   "source": [
    "# Create total results list from es scroll"
   ]
  },
  {
   "cell_type": "code",
   "execution_count": 53,
   "metadata": {
    "collapsed": false
   },
   "outputs": [
    {
     "name": "stdout",
     "output_type": "stream",
     "text": [
      "19904\n"
     ]
    }
   ],
   "source": [
    "page= es.search(index=ind, body=myquery1, scroll='2m', search_type='scan', size=1)\n",
    "\n",
    "sid = page['_scroll_id']\n",
    "\n",
    "scroll_size = page['hits']['total']\n",
    "results=[]\n",
    "\n",
    "while (scroll_size > 0):\n",
    "    page = es.scroll(scroll_id = sid, scroll = '2m')\n",
    "    results.append(page['hits']['hits'])\n",
    "    sid = page['_scroll_id']\n",
    "    scroll_size = len(page['hits']['hits'])\n",
    "\n",
    "scroll_size = page['hits']['total']\n",
    "Res=[]\n",
    "for i in range(0,scroll_size):\n",
    "    Res.append(results[i][0]['_source'])\n",
    "    \n",
    "print(scroll_size)"
   ]
  },
  {
   "cell_type": "markdown",
   "metadata": {},
   "source": [
    "# Create dataframe from results"
   ]
  },
  {
   "cell_type": "code",
   "execution_count": 54,
   "metadata": {
    "collapsed": false
   },
   "outputs": [
    {
     "name": "stdout",
     "output_type": "stream",
     "text": [
      "                                                 cache  download_time  \\\n",
      "243  root://mwt2-stashcache.campuscluster.illinois.edu          52567   \n",
      "234  root://mwt2-stashcache.campuscluster.illinois.edu          52213   \n",
      "\n",
      "              end1  end2                         filename  \\\n",
      "243  1473261181574     0  user/taburaad/public/a2gb_1.tar   \n",
      "234  1473261235212     0  user/taburaad/public/a2gb_1.tar   \n",
      "\n",
      "                                                  host sitename  \\\n",
      "243  root://mwt2-stashcache.campuscluster.illinois.edu   osg-ce   \n",
      "234  root://mwt2-stashcache.campuscluster.illinois.edu   osg-ce   \n",
      "\n",
      "            start1  start2  start3   status      timestamp  tries  xrdexit1  \\\n",
      "243  1473261129007       0       0  Success  1473261181000      1         0   \n",
      "234  1473261182999       0       0  Success  1473261235000      1         0   \n",
      "\n",
      "     xrdexit2  xrdexit3          begin  \n",
      "243        -1        -1  1473261128433  \n",
      "234        -1        -1  1473261182787  \n",
      "['cache', 'download_time', 'end1', 'end2', 'filename', 'host', 'sitename', 'start1', 'start2', 'start3', 'status', 'timestamp', 'tries', 'xrdexit1', 'xrdexit2', 'xrdexit3', 'begin']\n"
     ]
    }
   ],
   "source": [
    "df = pd.DataFrame(Res)\n",
    "\n",
    "del df['destination_space']\n",
    "del df['xrdcp_version']\n",
    "del df['download_size']\n",
    "del df['filesize']\n",
    "del df['IP']\n",
    "\n",
    "begin=[]\n",
    "for i in range(scroll_size):\n",
    "    begin.append((int(df['timestamp'][i])-int(df['download_time'][i]))) #convert to minutes\n",
    "    \n",
    "df['begin']=begin\n",
    "df=df.drop_duplicates(subset='start1', keep='last')\n",
    "df=df.sort_values(by=['cache','start1'])\n",
    "df = df[df['cache'] != '']\n",
    "length=df.shape[0]\n",
    "print(df.head(2))\n",
    "print(list(df.columns.values))\n"
   ]
  },
  {
   "cell_type": "code",
   "execution_count": 43,
   "metadata": {
    "collapsed": false
   },
   "outputs": [
    {
     "name": "stdout",
     "output_type": "stream",
     "text": [
      "done\n",
      "doneo\n"
     ]
    }
   ],
   "source": [
    "begin=int(df['begin'].iloc[1])//1000\n",
    "\n",
    "for i in range(length):\n",
    "    begin=int(df['begin'].iloc[i])//1000\n",
    "    end=int(df['timestamp'].iloc[i])//1000\n",
    "    start1=int(df['start1'].iloc[i])//1000\n",
    "    end1=int(df['end1'].iloc[i])//1000\n",
    "    start2=int(df['start2'].iloc[i])//1000\n",
    "    end2=int(df['end2'].iloc[i])//1000\n",
    "    start3=int(df['start3'].iloc[i])//1000\n",
    "    df['begin'].iloc[i]=datetime.datetime.fromtimestamp(begin).strftime('%Y-%m-%d %H:%M:%S')\n",
    "    df['timestamp'].iloc[i]=datetime.datetime.fromtimestamp(end).strftime('%Y-%m-%d %H:%M:%S')  \n",
    "    df['start1'].iloc[i]=datetime.datetime.fromtimestamp(start1).strftime('%Y-%m-%d %H:%M:%S')\n",
    "    df['start2'].iloc[i]=datetime.datetime.fromtimestamp(start2).strftime('%Y-%m-%d %H:%M:%S')\n",
    "    df['start3'].iloc[i]=datetime.datetime.fromtimestamp(start3).strftime('%Y-%m-%d %H:%M:%S')\n",
    "    df['end1'].iloc[i]=datetime.datetime.fromtimestamp(end1).strftime('%Y-%m-%d %H:%M:%S')\n",
    "    df['end2'].iloc[i]=datetime.datetime.fromtimestamp(end2).strftime('%Y-%m-%d %H:%M:%S')\n",
    "\n",
    "\n",
    "    \n",
    "df=df.set_index(['timestamp'])    \n",
    "df.index = pd.to_datetime(df.index, unit='s')\n",
    "df['begin']=pd.to_datetime(df['begin'], unit='s')\n",
    "df['start1']=pd.to_datetime(df['start1'], unit='s')\n",
    "df['start2']=pd.to_datetime(df['start2'], unit='s')\n",
    "df['start3']=pd.to_datetime(df['start3'], unit='s')\n",
    "df['end1']=pd.to_datetime(df.end1, unit='s')\n",
    "df['end2']=pd.to_datetime(df.end2, unit='s')\n",
    "#df.to_pickle('august25.pkl')\n",
    "print ('done')\n",
    "\n",
    "#with open('100.pkl', 'wb') as handle:\n",
    "    #pickle.dump(df, handle, protocol=2)\n",
    "print ('doneo')\n"
   ]
  },
  {
   "cell_type": "code",
   "execution_count": 44,
   "metadata": {
    "collapsed": false
   },
   "outputs": [
    {
     "name": "stdout",
     "output_type": "stream",
     "text": [
      "                                  begin                     cache  \\\n",
      "2016-09-08 13:50:49 2016-09-08 13:50:30  root://hcc-stash.unl.edu   \n",
      "2016-09-08 13:51:10 2016-09-08 13:50:50  root://hcc-stash.unl.edu   \n",
      "\n",
      "                     download_time                end1                end2  \\\n",
      "2016-09-08 13:50:49        18137.0 2016-09-08 13:50:49 1969-12-31 18:00:00   \n",
      "2016-09-08 13:51:10        19846.0 2016-09-08 13:51:10 1969-12-31 18:00:00   \n",
      "\n",
      "                                            filename  \\\n",
      "2016-09-08 13:50:49  user/taburaad/public/a2gb_1.tar   \n",
      "2016-09-08 13:51:10  user/taburaad/public/a2gb_1.tar   \n",
      "\n",
      "                                         host sitename              start1  \\\n",
      "2016-09-08 13:50:49  root://hcc-stash.unl.edu      Red 2016-09-08 13:50:30   \n",
      "2016-09-08 13:51:10  root://hcc-stash.unl.edu      Red 2016-09-08 13:50:50   \n",
      "\n",
      "                                 start2              start3   status  \\\n",
      "2016-09-08 13:50:49 1969-12-31 18:00:00 1969-12-31 18:00:00  Success   \n",
      "2016-09-08 13:51:10 1969-12-31 18:00:00 1969-12-31 18:00:00  Success   \n",
      "\n",
      "                    timestamp  tries  xrdexit1  xrdexit2  xrdexit3  \n",
      "2016-09-08 13:50:49       NaN    1.0       0.0      -1.0      -1.0  \n",
      "2016-09-08 13:51:10       NaN    1.0       0.0      -1.0      -1.0  \n",
      "[1.094227270221095, 0.9909006785934609, 1.002318086730367, 1.0881271682286542, 0.7859039023095301, 1.0336062503344572, 1.0817508850981654, 0.9331345826235093, 1.0047784288070993, 0.9929070029272686, 0.9971547260001138, 1.0030159904398794, 0.9892867211728221, 1.0013124857338507, 0.9983623221142987, 1.0211738275765234, 0.99960344436891, 1.0184466019417475, 1.0319826997496016, 1.0016449234259786, 0.983313800993359, 0.9804151322397054, 1.0091638681769024, 0.9715757978723404, 0.998136014460009, 1.020917640353377, 1.0038292600518077, 0.9840362964207696, 1.0329878524462275, 1.013157894736842, 0.9198170250801829, 1.0019930527874268, 1.059236432117788, 1.0051555057439059, 0.9570709469085383, 1.0542316703811647, 1.0007999085818764, 1.0142019837691614, 0.9976765272583021, 0.9996573386636208, 0.9990870706379094, 0.980579807477054, 1.001816221124922, 1.0082705489151986, 1.001707650273224, 1.021974306964165, 1.009009009009009, 1.0147668540921224, 0.9755549465607015, 0.981666202284759, 0.984457690379366, 1.0077351837106132, 0.9923237568437094, 0.9761134055140083, 0.9827750659260506, 0.9846291431445978, 1.0175328741390106, 1.0036270898271464, 0.9983673009796195, 1.0055774647887323, 1.0345944103612816, 0.9994871210394347, 0.984782120395328, 0.9993713926510086, 0.998703421838886, 1.0374358974358975, 1.0000568052715293, 1.036850731927881, 0.9858964994100129, 1.0018904642757853, 1.0143486611682295, 0.9878654475674455, 1.0182098413060852, 0.9963584637268847, 0.9936122102882985, 1.0040579383418813, 1.0032303768773023, 0.9729894959150781, 1.0311786203746003, 1.0073249673499518, 0.9769643247975487, 0.9819157172879106, 0.9655286525839722, 1.0020773679187018, 1.005980861244019, 0.9673202614379085, 0.924960465234913, 0.9992275435886118, 1.0224329450013547, 0.9901191350008469, 0.968319787692818, 0.9996573777980813, 0.9796532694130108, 1.0105016836938532, 1.0095455844527008, 1.0062278596731802, 0.9816223419021709, 0.9951013513513514, 1.021634889827606, 1.0128327262538526]\n"
     ]
    }
   ],
   "source": [
    "df_UCSD=pd.DataFrame(columns=['cache', 'download_time', 'end1', 'end2', 'filename', 'host', 'sitename', 'start1', 'start2', 'start3', 'status', 'timestamp', 'tries', 'xrdexit1', 'xrdexit2', 'xrdexit3', 'begin'])\n",
    "for i in range(length):\n",
    "    if df.iloc[i,0]=='root://hcc-stash.unl.edu':\n",
    "        df_UCSD=df_UCSD.append(df.iloc[[i]])\n",
    "\n",
    "print(df_UCSD.head(2))\n",
    "        \n",
    "df_UCSD=df_UCSD.sort_values(by=['start1'])\n",
    "df_UCSD['try']=0\n",
    "df_UCSD\n",
    "f=0\n",
    "s=0\n",
    "i=0\n",
    "rates=[]\n",
    "length2=df_UCSD.shape[0]\n",
    "#print(df_UCSDT2.head(10))    \n",
    "while i<length2:\n",
    "    df_UCSD.iloc[i,17]=1\n",
    "    df_UCSD.iloc[i+1,17]=2\n",
    "    f=int(df_UCSD.iloc[i,2])\n",
    "    s=int(df_UCSD.iloc[i+1,2])\n",
    "    rates.append(s/f)\n",
    "    i=i+2\n",
    "    \n",
    "#second / first try = speed-up\n",
    "#df_UCSD_speedup=(s/f)\n",
    "#print(df_UCSD_speedup)\n",
    "print(rates)\n",
    "\n"
   ]
  },
  {
   "cell_type": "code",
   "execution_count": 51,
   "metadata": {
    "collapsed": false
   },
   "outputs": [
    {
     "data": {
      "image/png": "[encoded data removed]",
      "text/plain": [
       "<matplotlib.figure.Figure at 0x7f960a844d68>"
      ]
     },
     "metadata": {},
     "output_type": "display_data"
    }
   ],
   "source": [
    "hist, bins = np.histogram(rates, bins=50)\n",
    "width = 0.7 * (bins[1] - bins[0])\n",
    "center = (bins[:-1] + bins[1:]) / 2\n",
    "plt.bar(center, hist, align='center', width=width)\n",
    "plt.axis([.01, 2, 0, 25])\n",
    "plt.xlabel('Speed-up rate')\n",
    "plt.ylabel('Count')\n",
    "#plt.title('UNL Speed up rate frequency')\n",
    "plt.show()\n",
    "\n"
   ]
  },
  {
   "cell_type": "code",
   "execution_count": 8,
   "metadata": {
    "collapsed": false
   },
   "outputs": [
    {
     "name": "stdout",
     "output_type": "stream",
     "text": [
      "8195\n"
     ]
    }
   ],
   "source": [
    "print(length)\n",
    "\n"
   ]
  },
  {
   "cell_type": "markdown",
   "metadata": {},
   "source": [
    "## function to calculate average time of second cache try over average time of first cache try (speed-up)"
   ]
  },
  {
   "cell_type": "code",
   "execution_count": 37,
   "metadata": {
    "collapsed": false
   },
   "outputs": [],
   "source": [
    "def speed_up(cache, yLim):\n",
    "    columns=list(df.columns.values)\n",
    "    df_cache=pd.DataFrame(columns=columns)\n",
    "    for i in range(length):\n",
    "        if df['cache'][i]==cache:\n",
    "            df_cache=df_cache.append(df.iloc[[i]])\n",
    "            \n",
    "    df_cache=df_cache.sort_values(by=['start1'])\n",
    "    df_cache['try']=0\n",
    "    #print (df_site['host'].iloc[1])\n",
    "    f=0\n",
    "    s=0\n",
    "    i=0\n",
    "    length2=df_cache.shape[0]\n",
    "    #print (length)\n",
    "    #if (length%2==1):\n",
    "        #df_cache=df_cache[:length-1]\n",
    "    #length=df_cache.shape[0]\n",
    "    rates2=[]\n",
    "    #print (length)\n",
    "    #print(df_site.head(100))\n",
    "    while i<length2:\n",
    "        df_cache['try'][i]=1\n",
    "        df_cache['try'][i+1]=2\n",
    "        f=int(df_cache['download_time'].iloc[i])\n",
    "        s=int(df_cache['download_time'].iloc[i+1])\n",
    "        rates2.append(s/f)\n",
    "        i+=2\n",
    "        \n",
    "    hist, bins = np.histogram(rates2, bins=1500)\n",
    "    width = 0.7 * (bins[1] - bins[0])\n",
    "    center = (bins[:-1] + bins[1:]) / 2\n",
    "    plt.bar(center, hist, align='center', width=width)\n",
    "    plt.axis([.01, 2, 0, yLim])\n",
    "    plt.xlabel('Speed-up rate')\n",
    "    plt.ylabel('Count')\n",
    "    #plt.title('Origin Speed up rates')\n",
    "    plt.show()\n",
    "\n",
    "    #second / first try = speed-up\n",
    "    #speedup=(s/f)\n",
    "    #avg1=(f/length)/1000\n",
    "    #avg2=(s/length)/1000\n",
    "    #print(\"- speed up: %.2f, avg first try: %.2f sec, avg second try: %.2f sec using host %s\" % (speedup, avg1, avg2, host))\n",
    "\n",
    "#speed_up('root://xrd-cache-1.t2.ucsd.edu',300)"
   ]
  },
  {
   "cell_type": "markdown",
   "metadata": {},
   "source": [
    "## Find speed up of each cache"
   ]
  },
  {
   "cell_type": "code",
   "execution_count": 39,
   "metadata": {
    "collapsed": false
   },
   "outputs": [
    {
     "name": "stdout",
     "output_type": "stream",
     "text": [
      "UCSD:\n"
     ]
    },
    {
     "data": {
      "image/png": "[encoded data removed]",
      "text/plain": [
       "<matplotlib.figure.Figure at 0x7f960773ad68>"
      ]
     },
     "metadata": {},
     "output_type": "display_data"
    }
   ],
   "source": [
    "print(\"UCSD:\")\n",
    "speed_up('root://xrd-cache-1.t2.ucsd.edu',200)\n"
   ]
  },
  {
   "cell_type": "code",
   "execution_count": 34,
   "metadata": {
    "collapsed": false
   },
   "outputs": [
    {
     "name": "stdout",
     "output_type": "stream",
     "text": [
      "Origin:\n"
     ]
    },
    {
     "data": {
      "image/png": "[encoded data removed]",
      "text/plain": [
       "<matplotlib.figure.Figure at 0x7f9604349c50>"
      ]
     },
     "metadata": {},
     "output_type": "display_data"
    }
   ],
   "source": [
    "print(\"Origin:\")\n",
    "speed_up('root://stash.osgconnect.net',75)\n"
   ]
  },
  {
   "cell_type": "code",
   "execution_count": 35,
   "metadata": {
    "collapsed": false
   },
   "outputs": [
    {
     "name": "stdout",
     "output_type": "stream",
     "text": [
      "BNL:\n"
     ]
    },
    {
     "data": {
      "image/png": "[encoded data removed]",
      "text/plain": [
       "<matplotlib.figure.Figure at 0x7f9604364668>"
      ]
     },
     "metadata": {},
     "output_type": "display_data"
    }
   ],
   "source": [
    "print(\"BNL:\")\n",
    "speed_up('root://osgxroot.usatlas.bnl.gov',7)\n"
   ]
  },
  {
   "cell_type": "code",
   "execution_count": null,
   "metadata": {
    "collapsed": true
   },
   "outputs": [],
   "source": []
  }
 ],
 "metadata": {
  "kernelspec": {
   "display_name": "Python 3",
   "language": "python",
   "name": "python3"
  },
  "language_info": {
   "codemirror_mode": {
    "name": "ipython",
    "version": 3
   },
   "file_extension": ".py",
   "mimetype": "text/x-python",
   "name": "python",
   "nbconvert_exporter": "python",
   "pygments_lexer": "ipython3",
   "version": "3.5.1"
  }
 },
 "nbformat": 4,
 "nbformat_minor": 0
}
