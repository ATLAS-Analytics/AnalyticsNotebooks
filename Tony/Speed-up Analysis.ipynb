{
 "cells": [
  {
   "cell_type": "code",
   "execution_count": 121,
   "metadata": {
    "collapsed": true
   },
   "outputs": [],
   "source": [
    "from elasticsearch import Elasticsearch, exceptions as es_exceptions\n",
    "from elasticsearch.helpers import scan\n",
    "es = Elasticsearch([{'host':'uct2-es-door.mwt2.org', 'port':9200}])\n",
    "\n",
    "import numpy as np\n",
    "import pandas as pd\n",
    "import matplotlib.pyplot as plt"
   ]
  },
  {
   "cell_type": "code",
   "execution_count": 234,
   "metadata": {
    "collapsed": false
   },
   "outputs": [],
   "source": [
    "ind=\"stashcp-2016.6\"\n",
    "\n",
    "myquery1={\n",
    "  \"query\": {\n",
    "    \"filtered\": {\n",
    "      \"query\": {\n",
    "        \"query_string\": {\n",
    "          \"query\": \"*\",\n",
    "          \"analyze_wildcard\": True\n",
    "        }\n",
    "      },\n",
    "      \"filter\": {\n",
    "        \"bool\": {\n",
    "          \"must\": [\n",
    "            {\n",
    "              \"query\": {\n",
    "                \"query_string\": {\n",
    "                  \"analyze_wildcard\": True,\n",
    "                  \"query\": \"*a2gb*\"\n",
    "                }\n",
    "              }\n",
    "            },\n",
    "            {\n",
    "              \"range\": {\n",
    "                \"timestamp\": {\n",
    "                  \"gte\": 1466622721000,\n",
    "                  \"lte\": 1466674003000,\n",
    "                  \"format\": \"epoch_millis\"\n",
    "                }\n",
    "              }\n",
    "            }\n",
    "          ],\n",
    "        }\n",
    "      }\n",
    "    }\n",
    "  },\n",
    "}\n",
    "\n",
    "myquery2={\n",
    "  \"query\": {\n",
    "    \"filtered\": {\n",
    "      \"query\": {\n",
    "        \"query_string\": {\n",
    "          \"query\": \"*\",\n",
    "          \"analyze_wildcard\": True\n",
    "        }\n",
    "      },\n",
    "      \"filter\": {\n",
    "        \"bool\": {\n",
    "          \"must\": [\n",
    "            {\n",
    "              \"query\": {\n",
    "                \"query_string\": {\n",
    "                  \"analyze_wildcard\": True,\n",
    "                  \"query\": \"*a2gb*\"\n",
    "                }\n",
    "              }\n",
    "            },\n",
    "            {\n",
    "              \"range\": {\n",
    "                \"timestamp\": {\n",
    "                  \"gte\": 1466622721000,\n",
    "                  \"lte\": 1466674003000,\n",
    "                  \"format\": \"epoch_millis\"\n",
    "                }\n",
    "              }\n",
    "            }\n",
    "          ],\n",
    "        }\n",
    "      }\n",
    "    }\n",
    "  },\n",
    "}"
   ]
  },
  {
   "cell_type": "code",
   "execution_count": 309,
   "metadata": {
    "collapsed": false
   },
   "outputs": [],
   "source": [
    "page= es.search(index=ind, body=myquery1, scroll='2m', search_type='scan', size=1)\n",
    "\n",
    "sid = page['_scroll_id']\n",
    "\n",
    "scroll_size = page['hits']['total']\n",
    "results=[]\n",
    "\n",
    "while (scroll_size > 0):\n",
    "    #print (\"Scrolling...\")\n",
    "    page = es.scroll(scroll_id = sid, scroll = '2m')\n",
    "    results.append(page['hits']['hits'])\n",
    "    # Update the scroll ID\n",
    "    sid = page['_scroll_id']\n",
    "    # Get the number of results that we returned in the last scroll\n",
    "    scroll_size = len(page['hits']['hits'])\n",
    "    #print (\"scroll size: \" + str(scroll_size))\n",
    "\n",
    "scroll_size = page['hits']['total']\n",
    "Res=[]\n",
    "for i in range(0,scroll_size):\n",
    "    Res.append(results[i][0]['_source'])\n",
    "    \n",
    "print(scroll_size)\n",
    "\n",
    "df = pd.DataFrame(Res)\n",
    "\n",
    "del df['destination_space']\n",
    "del df['xrdcp_version']\n",
    "del df['tries']\n",
    "del df['download_size']\n",
    "del df['filesize']\n",
    "del df['IP']\n",
    "del df['xrdcp_exit']"
   ]
  },
  {
   "cell_type": "code",
   "execution_count": 411,
   "metadata": {
    "collapsed": false
   },
   "outputs": [
    {
     "name": "stdout",
     "output_type": "stream",
     "text": [
      "0.078832089746585\n"
     ]
    }
   ],
   "source": [
    "df_UCSDT2=pd.DataFrame(columns=['download_time','filename','host','sitename','status','timestamp'])\n",
    "for i in range(scroll_size):\n",
    "    if df.iloc[i,3]=='UCSDT2-C':\n",
    "        df_UCSDT2=df_UCSDT2.append(df.iloc[[i]])\n",
    "        \n",
    "df_UCSDT2=df_UCSDT2.sort_values(by=['timestamp'])\n",
    "df_UCSDT2['try']=0\n",
    "f=0\n",
    "s=0\n",
    "i=0\n",
    "length=df_UCSDT2.shape[0]\n",
    "#print(df_UCSDT2.head(10))    \n",
    "while i<200:\n",
    "    df_UCSDT2.iloc[i,6]=1\n",
    "    df_UCSDT2.iloc[i+1,6]=2\n",
    "    f+=int(df_UCSDT2.iloc[i,0])\n",
    "    s+=int(df_UCSDT2.iloc[i+1,0])\n",
    "    i=i+2\n",
    "    \n",
    "#second / first try = speed-up\n",
    "UCSDT2_speedup=(s/f)\n",
    "print(UCSDT2_speedup)"
   ]
  },
  {
   "cell_type": "code",
   "execution_count": 412,
   "metadata": {
    "collapsed": false
   },
   "outputs": [],
   "source": [
    "def speed_up(sitename):\n",
    "    df_site=pd.DataFrame(columns=['download_time','filename','host','sitename','status','timestamp'])\n",
    "    for i in range(scroll_size):\n",
    "        if df.iloc[i,3]==sitename:\n",
    "            df_site=df_site.append(df.iloc[[i]])\n",
    "            \n",
    "    df_site=df_site.sort_values(by=['timestamp'])\n",
    "    df_site['try']=0\n",
    "    f=0\n",
    "    s=0\n",
    "    i=0\n",
    "    length=df_site.shape[0]\n",
    "    #print (length)\n",
    "    if (length%2==1):\n",
    "        df_site=df_site[:length-1]\n",
    "    length=df_site.shape[0]\n",
    "    host=df_site.iloc[0,2]\n",
    "    #print (length)\n",
    "    #print(df_site.head(100))\n",
    "    while i<length:\n",
    "        df_site.iloc[i,6]=1\n",
    "        df_site.iloc[i+1,6]=2\n",
    "        f+=int(df_site.iloc[i,0])\n",
    "        s+=int(df_site.iloc[i+1,0])\n",
    "        i+=2\n",
    "\n",
    "    #second / first try = speed-up\n",
    "    speedup=(s/f)\n",
    "    avg1=(f/length)/1000\n",
    "    avg2=(s/length)/1000\n",
    "    print(\"- speed up: %.2f, avg first try: %.2f sec, avg second try: %.2f sec using host %s\" % (speedup, avg1, avg2, host))\n",
    "\n",
    "#speed_up('UFlorida-HPC')"
   ]
  },
  {
   "cell_type": "code",
   "execution_count": 409,
   "metadata": {
    "collapsed": false
   },
   "outputs": [
    {
     "name": "stdout",
     "output_type": "stream",
     "text": [
      "UCSDT2-C:\n",
      "- speed up: 0.08, avg first try: 146.30 sec, avg second try: 11.53 sec using host root://xrd-cache-1.t2.ucsd.edu\n",
      "BNL_ATLAS_1:\n",
      "- speed up: 0.95, avg first try: 55.16 sec, avg second try: 52.68 sec using host root://data.ci-connect.net\n",
      "UFlorida-HPC:\n",
      "- speed up: 0.99, avg first try: 40.15 sec, avg second try: 39.76 sec using host root://data.ci-connect.net\n",
      "UNL (red-gateway2):\n",
      "- speed up: 0.24, avg first try: 42.18 sec, avg second try: 10.27 sec using host root://hcc-stash.unl.edu\n",
      "MWT2_CE_UIUC:\n",
      "- speed up: 1.30, avg first try: 23.81 sec, avg second try: 30.99 sec using host root://data.ci-connect.net\n",
      "UNC: (Sandhills-CE1):\n",
      "- speed up: 0.38, avg first try: 23.83 sec, avg second try: 8.99 sec using host root://hcc-stash.unl.edu\n",
      "SU-OG-CE:\n",
      "- speed up: 0.99, avg first try: 102.83 sec, avg second try: 101.83 sec using host root://data.ci-connect.net\n"
     ]
    }
   ],
   "source": [
    "print(\"UCSDT2-C:\")\n",
    "speed_up('UCSDT2-C')\n",
    "print(\"BNL_ATLAS_1:\")\n",
    "speed_up('BNL_ATLAS_1')\n",
    "print(\"UFlorida-HPC:\")\n",
    "speed_up('UFlorida-HPC')\n",
    "print(\"UNL (red-gateway2):\")\n",
    "speed_up('red-gateway2')\n",
    "print(\"MWT2_CE_UIUC:\")\n",
    "speed_up('MWT2_CE_UIUC')\n",
    "print(\"UNC: (Sandhills-CE1):\")\n",
    "speed_up('Sandhills-CE1')\n",
    "print(\"SU-OG-CE:\")\n",
    "speed_up('SU-OG-CE')"
   ]
  },
  {
   "cell_type": "code",
   "execution_count": null,
   "metadata": {
    "collapsed": true
   },
   "outputs": [],
   "source": []
  }
 ],
 "metadata": {
  "kernelspec": {
   "display_name": "Python 3",
   "language": "python",
   "name": "python3"
  },
  "language_info": {
   "codemirror_mode": {
    "name": "ipython",
    "version": 3
   },
   "file_extension": ".py",
   "mimetype": "text/x-python",
   "name": "python",
   "nbconvert_exporter": "python",
   "pygments_lexer": "ipython3",
   "version": "3.5.1"
  }
 },
 "nbformat": 4,
 "nbformat_minor": 0
}
