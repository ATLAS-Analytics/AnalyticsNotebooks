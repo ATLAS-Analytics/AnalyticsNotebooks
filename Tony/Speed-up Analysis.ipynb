{
 "cells": [
  {
   "cell_type": "code",
   "execution_count": 2,
   "metadata": {
    "collapsed": true
   },
   "outputs": [],
   "source": [
    "from elasticsearch import Elasticsearch, exceptions as es_exceptions\n",
    "from elasticsearch.helpers import scan\n",
    "es = Elasticsearch([{'host':'uct2-es-door.mwt2.org', 'port':9200}])\n",
    "\n",
    "import numpy as np\n",
    "import pandas as pd\n",
    "import matplotlib.pyplot as plt"
   ]
  },
  {
   "cell_type": "code",
   "execution_count": 3,
   "metadata": {
    "collapsed": false
   },
   "outputs": [],
   "source": [
    "ind=\"stashcp-2016.6\"\n",
    "\n",
    "myquery1={\n",
    "  \"query\": {\n",
    "    \"filtered\": {\n",
    "      \"query\": {\n",
    "        \"query_string\": {\n",
    "          \"query\": \"*\",\n",
    "          \"analyze_wildcard\": True\n",
    "        }\n",
    "      },\n",
    "      \"filter\": {\n",
    "        \"bool\": {\n",
    "          \"must\": [\n",
    "            {\n",
    "              \"query\": {\n",
    "                \"query_string\": {\n",
    "                  \"analyze_wildcard\": True,\n",
    "                  \"query\": \"*a2gb*\"\n",
    "                }\n",
    "              }\n",
    "            },\n",
    "            {\n",
    "              \"range\": {\n",
    "                \"timestamp\": {\n",
    "                  \"gte\": 1466622721000,\n",
    "                  \"lte\": 1466674003000,\n",
    "                  \"format\": \"epoch_millis\"\n",
    "                }\n",
    "              }\n",
    "            }\n",
    "          ],\n",
    "        }\n",
    "      }\n",
    "    }\n",
    "  },\n",
    "}\n",
    "\n",
    "myquery2={\n",
    "  \"query\": {\n",
    "    \"filtered\": {\n",
    "      \"query\": {\n",
    "        \"query_string\": {\n",
    "          \"query\": \"*\",\n",
    "          \"analyze_wildcard\": True\n",
    "        }\n",
    "      },\n",
    "      \"filter\": {\n",
    "        \"bool\": {\n",
    "          \"must\": [\n",
    "            {\n",
    "              \"query\": {\n",
    "                \"query_string\": {\n",
    "                  \"analyze_wildcard\": True,\n",
    "                  \"query\": \"*a2gb*\"\n",
    "                }\n",
    "              }\n",
    "            },\n",
    "            {\n",
    "              \"range\": {\n",
    "                \"timestamp\": {\n",
    "                  \"gte\": 1466622721000,\n",
    "                  \"lte\": 1466674003000,\n",
    "                  \"format\": \"epoch_millis\"\n",
    "                }\n",
    "              }\n",
    "            }\n",
    "          ],\n",
    "        }\n",
    "      }\n",
    "    }\n",
    "  },\n",
    "}"
   ]
  },
  {
   "cell_type": "markdown",
   "metadata": {},
   "source": [
    "# Create total results list from es scroll"
   ]
  },
  {
   "cell_type": "code",
   "execution_count": 89,
   "metadata": {
    "collapsed": false
   },
   "outputs": [
    {
     "name": "stdout",
     "output_type": "stream",
     "text": [
      "1640\n"
     ]
    }
   ],
   "source": [
    "page= es.search(index=ind, body=myquery1, scroll='2m', search_type='scan', size=1)\n",
    "\n",
    "sid = page['_scroll_id']\n",
    "\n",
    "scroll_size = page['hits']['total']\n",
    "results=[]\n",
    "\n",
    "while (scroll_size > 0):\n",
    "    page = es.scroll(scroll_id = sid, scroll = '2m')\n",
    "    results.append(page['hits']['hits'])\n",
    "    sid = page['_scroll_id']\n",
    "    scroll_size = len(page['hits']['hits'])\n",
    "\n",
    "scroll_size = page['hits']['total']\n",
    "Res=[]\n",
    "for i in range(0,scroll_size):\n",
    "    Res.append(results[i][0]['_source'])\n",
    "    \n",
    "print(scroll_size)"
   ]
  },
  {
   "cell_type": "markdown",
   "metadata": {},
   "source": [
    "# Create dataframe from results"
   ]
  },
  {
   "cell_type": "code",
   "execution_count": 90,
   "metadata": {
    "collapsed": false
   },
   "outputs": [
    {
     "name": "stdout",
     "output_type": "stream",
     "text": [
      "  download_time                         filename                        host  \\\n",
      "0        195689  user/taburaad/public/a2gb_1.tar  root://data.ci-connect.net   \n",
      "1        213298  user/taburaad/public/a2gb_1.tar  root://data.ci-connect.net   \n",
      "\n",
      "   sitename         status      timestamp          begin  \n",
      "0  SU-OG-CE  Trunk Success  1466622721000  1466622525311  \n",
      "1  SU-OG-CE  Trunk Success  1466622996000  1466622782702  \n",
      "['download_time', 'filename', 'host', 'sitename', 'status', 'timestamp', 'begin']\n"
     ]
    }
   ],
   "source": [
    "df = pd.DataFrame(Res)\n",
    "\n",
    "del df['destination_space']\n",
    "del df['xrdcp_version']\n",
    "del df['tries']\n",
    "del df['download_size']\n",
    "del df['filesize']\n",
    "del df['IP']\n",
    "del df['xrdcp_exit']\n",
    "\n",
    "begin=[]\n",
    "for i in range(scroll_size):\n",
    "    begin.append((int(df['timestamp'][i])-int(df['download_time'][i]))) #convert to minutes\n",
    "    \n",
    "df['begin']=begin\n",
    "print(df.head(2))\n",
    "print(list(df.columns.values))"
   ]
  },
  {
   "cell_type": "code",
   "execution_count": 34,
   "metadata": {
    "collapsed": false
   },
   "outputs": [
    {
     "name": "stdout",
     "output_type": "stream",
     "text": [
      "1.0000002012764047\n"
     ]
    }
   ],
   "source": [
    "df_UCSDT2=pd.DataFrame(columns=['download_time','filename','host','sitename','status','timestamp'])\n",
    "for i in range(scroll_size):\n",
    "    if df.iloc[i,3]=='UCSDT2-C':\n",
    "        df_UCSDT2=df_UCSDT2.append(df.iloc[[i]])\n",
    "        \n",
    "df_UCSDT2=df_UCSDT2.sort_values(by=['timestamp'])\n",
    "df_UCSDT2['try']=0\n",
    "f=0\n",
    "s=0\n",
    "i=0\n",
    "length=df_UCSDT2.shape[0]\n",
    "#print(df_UCSDT2.head(10))    \n",
    "while i<200:\n",
    "    df_UCSDT2.iloc[i,6]=1\n",
    "    df_UCSDT2.iloc[i+1,6]=2\n",
    "    f+=int(df_UCSDT2.iloc[i,0])\n",
    "    s+=int(df_UCSDT2.iloc[i+1,0])\n",
    "    i=i+2\n",
    "    \n",
    "#second / first try = speed-up\n",
    "UCSDT2_speedup=(s/f)\n",
    "print(UCSDT2_speedup)"
   ]
  },
  {
   "cell_type": "code",
   "execution_count": 91,
   "metadata": {
    "collapsed": false
   },
   "outputs": [
    {
     "name": "stdout",
     "output_type": "stream",
     "text": [
      "- speed up: 0.99, avg first try: 40.15 sec, avg second try: 39.76 sec using host root://data.ci-connect.net\n"
     ]
    },
    {
     "name": "stderr",
     "output_type": "stream",
     "text": [
      "/home/ivukotic/anaconda3/lib/python3.5/site-packages/ipykernel/__main__.py:23: SettingWithCopyWarning: \n",
      "A value is trying to be set on a copy of a slice from a DataFrame\n",
      "\n",
      "See the caveats in the documentation: http://pandas.pydata.org/pandas-docs/stable/indexing.html#indexing-view-versus-copy\n"
     ]
    }
   ],
   "source": [
    "def speed_up(sitename):\n",
    "    columns=list(df.columns.values)\n",
    "    df_site=pd.DataFrame(columns=columns)\n",
    "    for i in range(scroll_size):\n",
    "        if df['sitename'][i]==sitename:\n",
    "            df_site=df_site.append(df.iloc[[i]])\n",
    "            \n",
    "    df_site=df_site.sort_values(by=['timestamp'])\n",
    "    df_site['try']=0\n",
    "    #print (df_site['host'].iloc[1])\n",
    "    f=0\n",
    "    s=0\n",
    "    i=0\n",
    "    length=df_site.shape[0]\n",
    "    #print (length)\n",
    "    if (length%2==1):\n",
    "        df_site=df_site[:length-1]\n",
    "    length=df_site.shape[0]\n",
    "    host=df_site['host'].iloc[1]\n",
    "    #print (length)\n",
    "    #print(df_site.head(100))\n",
    "    while i<length:\n",
    "        df_site['try'][i]=1\n",
    "        df_site['try'][i+1]=2\n",
    "        f+=int(df_site['download_time'].iloc[i])\n",
    "        s+=int(df_site['download_time'].iloc[i+1])\n",
    "        i+=2\n",
    "\n",
    "    #second / first try = speed-up\n",
    "    speedup=(s/f)\n",
    "    avg1=(f/length)/1000\n",
    "    avg2=(s/length)/1000\n",
    "    print(\"- speed up: %.2f, avg first try: %.2f sec, avg second try: %.2f sec using host %s\" % (speedup, avg1, avg2, host))\n",
    "\n",
    "speed_up('UFlorida-HPC')"
   ]
  },
  {
   "cell_type": "code",
   "execution_count": 72,
   "metadata": {
    "collapsed": false
   },
   "outputs": [
    {
     "name": "stdout",
     "output_type": "stream",
     "text": [
      "UCSDT2-C:\n"
     ]
    },
    {
     "name": "stderr",
     "output_type": "stream",
     "text": [
      "/home/ivukotic/anaconda3/lib/python3.5/site-packages/ipykernel/__main__.py:23: SettingWithCopyWarning: \n",
      "A value is trying to be set on a copy of a slice from a DataFrame\n",
      "\n",
      "See the caveats in the documentation: http://pandas.pydata.org/pandas-docs/stable/indexing.html#indexing-view-versus-copy\n"
     ]
    },
    {
     "name": "stdout",
     "output_type": "stream",
     "text": [
      "- speed up: 0.08, avg first try: 146.30 sec, avg second try: 11.53 sec using host root://xrd-cache-1.t2.ucsd.edu\n",
      "BNL_ATLAS_1:\n",
      "- speed up: 0.95, avg first try: 55.16 sec, avg second try: 52.68 sec using host root://data.ci-connect.net\n",
      "UFlorida-HPC:\n",
      "- speed up: 0.99, avg first try: 40.15 sec, avg second try: 39.76 sec using host root://data.ci-connect.net\n",
      "UNL (red-gateway2):\n",
      "- speed up: 0.24, avg first try: 42.18 sec, avg second try: 10.27 sec using host root://hcc-stash.unl.edu\n",
      "MWT2_CE_UIUC:\n",
      "- speed up: 1.30, avg first try: 23.81 sec, avg second try: 30.99 sec using host root://data.ci-connect.net\n",
      "UNC: (Sandhills-CE1):\n",
      "- speed up: 0.38, avg first try: 23.83 sec, avg second try: 8.99 sec using host root://hcc-stash.unl.edu\n",
      "SU-OG-CE:\n",
      "- speed up: 0.99, avg first try: 102.83 sec, avg second try: 101.83 sec using host root://data.ci-connect.net\n"
     ]
    },
    {
     "name": "stderr",
     "output_type": "stream",
     "text": [
      "/home/ivukotic/anaconda3/lib/python3.5/site-packages/ipykernel/__main__.py:24: SettingWithCopyWarning: \n",
      "A value is trying to be set on a copy of a slice from a DataFrame\n",
      "\n",
      "See the caveats in the documentation: http://pandas.pydata.org/pandas-docs/stable/indexing.html#indexing-view-versus-copy\n"
     ]
    }
   ],
   "source": [
    "print(\"UCSDT2-C:\")\n",
    "speed_up('UCSDT2-C')\n",
    "print(\"BNL_ATLAS_1:\")\n",
    "speed_up('BNL_ATLAS_1')\n",
    "print(\"UFlorida-HPC:\")\n",
    "speed_up('UFlorida-HPC')\n",
    "print(\"UNL (red-gateway2):\")\n",
    "speed_up('red-gateway2')\n",
    "print(\"MWT2_CE_UIUC:\")\n",
    "speed_up('MWT2_CE_UIUC')\n",
    "print(\"UNC: (Sandhills-CE1):\")\n",
    "speed_up('Sandhills-CE1')\n",
    "print(\"SU-OG-CE:\")\n",
    "speed_up('SU-OG-CE')"
   ]
  },
  {
   "cell_type": "code",
   "execution_count": 142,
   "metadata": {
    "collapsed": false
   },
   "outputs": [
    {
     "name": "stdout",
     "output_type": "stream",
     "text": [
      "1466623629061\n",
      "1466656082000\n",
      "32452939\n",
      "540.8823166666666\n",
      "1800000\n",
      "[1466623629061 1466625429061 1466627229061 1466629029061 1466630829061\n",
      " 1466632629061 1466634429061 1466636229061 1466638029061 1466639829061\n",
      " 1466641629061 1466643429061 1466645229061 1466647029061 1466648829061\n",
      " 1466650629061 1466652429061 1466654229061 1466656029061]\n",
      "   download_time                         filename  \\\n",
      "12         20896  user/taburaad/public/a2gb_1.tar   \n",
      "27        315775  user/taburaad/public/a2gb_3.tar   \n",
      "\n",
      "                              host  sitename   status      timestamp  \\\n",
      "12  root://xrd-cache-1.t2.ucsd.edu  UCSDT2-C  Success  1466623984000   \n",
      "27  root://xrd-cache-1.t2.ucsd.edu  UCSDT2-C  Success  1466624635000   \n",
      "\n",
      "           begin  \n",
      "12  1.466624e+12  \n",
      "27  1.466624e+12  \n",
      "19\n",
      "1466623963104\n",
      "1466623984000\n",
      "1466623629061\n",
      "---\n",
      "1466624319225\n",
      "1466624635000\n",
      "1466623629061\n",
      "---\n",
      "1466624638477\n",
      "1466624663000\n",
      "1466623629061\n",
      "---\n",
      "1466623629061\n",
      "1466623961000\n",
      "1466623629061\n",
      "---\n",
      "1466623985635\n",
      "1466624296000\n",
      "1466623629061\n",
      "---\n",
      "1466623963104\n",
      "1466623984000\n",
      "1466625429061\n",
      "tru\n",
      "---\n",
      "1466624319225\n",
      "1466624635000\n",
      "1466625429061\n",
      "tru\n",
      "---\n",
      "1466624638477\n",
      "1466624663000\n",
      "1466625429061\n",
      "tru\n",
      "---\n",
      "1466623629061\n",
      "1466623961000\n",
      "1466625429061\n",
      "tru\n",
      "---\n",
      "1466623985635\n",
      "1466624296000\n",
      "1466625429061\n",
      "tru\n",
      "---\n",
      "1466623963104\n",
      "1466623984000\n",
      "1466627229061\n",
      "tru\n",
      "---\n",
      "1466624319225\n",
      "1466624635000\n",
      "1466627229061\n",
      "tru\n",
      "---\n",
      "1466624638477\n",
      "1466624663000\n",
      "1466627229061\n",
      "tru\n",
      "---\n",
      "1466623629061\n",
      "1466623961000\n",
      "1466627229061\n",
      "tru\n",
      "---\n",
      "1466623985635\n",
      "1466624296000\n",
      "1466627229061\n",
      "tru\n",
      "---\n",
      "[0, 0, 0, 0, 0, 0, 0, 0, 0, 0, 0, 0, 0, 0, 0, 0, 0, 0, 0]\n"
     ]
    }
   ],
   "source": [
    "def plot_concurrent_jobs(sitename):\n",
    "    columns=list(df.columns.values)\n",
    "    df_site=pd.DataFrame(columns=columns)\n",
    "    for i in range(scroll_size):\n",
    "        if df['sitename'][i]==sitename:\n",
    "            df_site=df_site.append(df.iloc[[i]])\n",
    "    length=df_site.shape[0]\n",
    "    \n",
    "    minX=int(df_site.ix[df_site['begin'].idxmin()]['begin'])\n",
    "    maxX=int(df_site.ix[df_site['timestamp'].idxmax()]['timestamp'])\n",
    "    #minX=round(int(df_site.ix[df_site['begin'].idxmin()]['begin'])/(1000*60))\n",
    "    #maxX=round(int(df_site.ix[df_site['timestamp'].idxmax()]['timestamp'])/(1000*60))\n",
    "\n",
    "    print (minX)\n",
    "    print (maxX)\n",
    "    print (maxX-minX)\n",
    "    print ((maxX-minX)/(1000*60))\n",
    "    n=30*1000*60\n",
    "    print(n)\n",
    "    x=np.arange(minX, maxX+1, n)\n",
    "    print (x)\n",
    "    nJobs=[0] * len(x)\n",
    "    print(df_site.head(2))\n",
    "    #print (length)\n",
    "    print(len(nJobs))\n",
    "    for i in range(3): #len(x)\n",
    "        for j in range(5): #length\n",
    "            print (int(df_site['begin'].iloc[j]))\n",
    "            print (int(df_site['timestamp'].iloc[j]))\n",
    "            print (x[i])\n",
    "            if np.less(df_site['begin'].iloc[j],x[i]) and np.less(x[i],df_site['timestamp'].iloc[j]):  \n",
    "                #nJobs[i]=nJobs[i]+1\n",
    "                print('tru')\n",
    "            print('---')\n",
    "\n",
    "    print (nJobs)\n",
    "    \n",
    "plot_concurrent_jobs('UCSDT2-C')\n"
   ]
  },
  {
   "cell_type": "code",
   "execution_count": 121,
   "metadata": {
    "collapsed": false
   },
   "outputs": [
    {
     "name": "stdout",
     "output_type": "stream",
     "text": [
      "True\n",
      "False\n",
      "1466622782702\n",
      "24443714\n"
     ]
    }
   ],
   "source": [
    "print (np.less(1,2))\n",
    "print (np.less(df['begin'].iloc[1],x[1]))\n",
    "print (df['begin'].iloc[1])\n",
    "print (x[1])\n",
    "\n",
    "if np.less(df_site['begin'].iloc[j],x[i]) and np.less(x[i],df_site['timestamp'].iloc[j]):\n",
    "    \n",
    "    1466622721000,\n",
    "                  \"lte\": 1466674003000,"
   ]
  },
  {
   "cell_type": "code",
   "execution_count": null,
   "metadata": {
    "collapsed": true
   },
   "outputs": [],
   "source": []
  }
 ],
 "metadata": {
  "kernelspec": {
   "display_name": "Python 3",
   "language": "python",
   "name": "python3"
  },
  "language_info": {
   "codemirror_mode": {
    "name": "ipython",
    "version": 3
   },
   "file_extension": ".py",
   "mimetype": "text/x-python",
   "name": "python",
   "nbconvert_exporter": "python",
   "pygments_lexer": "ipython3",
   "version": "3.5.1"
  }
 },
 "nbformat": 4,
 "nbformat_minor": 0
}
