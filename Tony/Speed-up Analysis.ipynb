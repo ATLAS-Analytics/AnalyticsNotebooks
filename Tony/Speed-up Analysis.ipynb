{
 "cells": [
  {
   "cell_type": "code",
   "execution_count": 22,
   "metadata": {
    "collapsed": true
   },
   "outputs": [],
   "source": [
    "from elasticsearch import Elasticsearch, exceptions as es_exceptions\n",
    "from elasticsearch.helpers import scan\n",
    "es = Elasticsearch([{'host':'uct2-es-door.mwt2.org', 'port':9200}])\n",
    "\n",
    "import numpy as np\n",
    "import pandas as pd\n",
    "import matplotlib.pyplot as plt\n",
    "import datetime\n",
    "%matplotlib inline"
   ]
  },
  {
   "cell_type": "code",
   "execution_count": 11,
   "metadata": {
    "collapsed": false
   },
   "outputs": [],
   "source": [
    "ind=\"stashcp-2016.6\"\n",
    "\n",
    "myquery1={\n",
    "  \"query\": {\n",
    "    \"filtered\": {\n",
    "      \"query\": {\n",
    "        \"query_string\": {\n",
    "          \"query\": \"*\",\n",
    "          \"analyze_wildcard\": True\n",
    "        }\n",
    "      },\n",
    "      \"filter\": {\n",
    "        \"bool\": {\n",
    "          \"must\": [\n",
    "            {\n",
    "              \"query\": {\n",
    "                \"query_string\": {\n",
    "                  \"analyze_wildcard\": True,\n",
    "                  \"query\": \"*a2gb*\"\n",
    "                }\n",
    "              }\n",
    "            },\n",
    "            {\n",
    "              \"range\": {\n",
    "                \"timestamp\": {\n",
    "                  \"gte\": 1466622721000,\n",
    "                  \"lte\": 1466674003000,\n",
    "                  \"format\": \"epoch_millis\"\n",
    "                }\n",
    "              }\n",
    "            }\n",
    "          ],\n",
    "        }\n",
    "      }\n",
    "    }\n",
    "  },\n",
    "}\n",
    "\n",
    "myquery2={\n",
    "  \"query\": {\n",
    "    \"filtered\": {\n",
    "      \"query\": {\n",
    "        \"query_string\": {\n",
    "          \"query\": \"*\",\n",
    "          \"analyze_wildcard\": True\n",
    "        }\n",
    "      },\n",
    "      \"filter\": {\n",
    "        \"bool\": {\n",
    "          \"must\": [\n",
    "            {\n",
    "              \"query\": {\n",
    "                \"query_string\": {\n",
    "                  \"analyze_wildcard\": True,\n",
    "                  \"query\": \"*a2gb*\"\n",
    "                }\n",
    "              }\n",
    "            },\n",
    "            {\n",
    "              \"range\": {\n",
    "                \"timestamp\": {\n",
    "                  \"gte\": 1466622721000,\n",
    "                  \"lte\": 1466674003000,\n",
    "                  \"format\": \"epoch_millis\"\n",
    "                }\n",
    "              }\n",
    "            }\n",
    "          ],\n",
    "        }\n",
    "      }\n",
    "    }\n",
    "  },\n",
    "}"
   ]
  },
  {
   "cell_type": "markdown",
   "metadata": {},
   "source": [
    "# Create total results list from es scroll"
   ]
  },
  {
   "cell_type": "code",
   "execution_count": 12,
   "metadata": {
    "collapsed": false
   },
   "outputs": [
    {
     "name": "stdout",
     "output_type": "stream",
     "text": [
      "1640\n"
     ]
    }
   ],
   "source": [
    "page= es.search(index=ind, body=myquery1, scroll='2m', search_type='scan', size=1)\n",
    "\n",
    "sid = page['_scroll_id']\n",
    "\n",
    "scroll_size = page['hits']['total']\n",
    "results=[]\n",
    "\n",
    "while (scroll_size > 0):\n",
    "    page = es.scroll(scroll_id = sid, scroll = '2m')\n",
    "    results.append(page['hits']['hits'])\n",
    "    sid = page['_scroll_id']\n",
    "    scroll_size = len(page['hits']['hits'])\n",
    "\n",
    "scroll_size = page['hits']['total']\n",
    "Res=[]\n",
    "for i in range(0,scroll_size):\n",
    "    Res.append(results[i][0]['_source'])\n",
    "    \n",
    "print(scroll_size)"
   ]
  },
  {
   "cell_type": "markdown",
   "metadata": {},
   "source": [
    "# Create dataframe from results"
   ]
  },
  {
   "cell_type": "code",
   "execution_count": 13,
   "metadata": {
    "collapsed": false
   },
   "outputs": [
    {
     "name": "stdout",
     "output_type": "stream",
     "text": [
      "  download_time                         filename                        host  \\\n",
      "0        195689  user/taburaad/public/a2gb_1.tar  root://data.ci-connect.net   \n",
      "1        213298  user/taburaad/public/a2gb_1.tar  root://data.ci-connect.net   \n",
      "\n",
      "   sitename         status      timestamp          begin  \n",
      "0  SU-OG-CE  Trunk Success  1466622721000  1466622525311  \n",
      "1  SU-OG-CE  Trunk Success  1466622996000  1466622782702  \n",
      "['download_time', 'filename', 'host', 'sitename', 'status', 'timestamp', 'begin']\n"
     ]
    }
   ],
   "source": [
    "df = pd.DataFrame(Res)\n",
    "\n",
    "del df['destination_space']\n",
    "del df['xrdcp_version']\n",
    "del df['tries']\n",
    "del df['download_size']\n",
    "del df['filesize']\n",
    "del df['IP']\n",
    "del df['xrdcp_exit']\n",
    "\n",
    "begin=[]\n",
    "for i in range(scroll_size):\n",
    "    begin.append((int(df['timestamp'][i])-int(df['download_time'][i]))) #convert to minutes\n",
    "    \n",
    "df['begin']=begin\n",
    "print(df.head(2))\n",
    "print(list(df.columns.values))"
   ]
  },
  {
   "cell_type": "code",
   "execution_count": 14,
   "metadata": {
    "collapsed": false
   },
   "outputs": [
    {
     "name": "stdout",
     "output_type": "stream",
     "text": [
      "1.0000002012311404\n"
     ]
    }
   ],
   "source": [
    "df_UCSDT2=pd.DataFrame(columns=['download_time','filename','host','sitename','status','timestamp'])\n",
    "for i in range(scroll_size):\n",
    "    if df.iloc[i,3]=='UCSDT2-C':\n",
    "        df_UCSDT2=df_UCSDT2.append(df.iloc[[i]])\n",
    "        \n",
    "df_UCSDT2=df_UCSDT2.sort_values(by=['timestamp'])\n",
    "df_UCSDT2['try']=0\n",
    "f=0\n",
    "s=0\n",
    "i=0\n",
    "length=df_UCSDT2.shape[0]\n",
    "#print(df_UCSDT2.head(10))    \n",
    "while i<200:\n",
    "    df_UCSDT2.iloc[i,6]=1\n",
    "    df_UCSDT2.iloc[i+1,6]=2\n",
    "    f+=int(df_UCSDT2.iloc[i,0])\n",
    "    s+=int(df_UCSDT2.iloc[i+1,0])\n",
    "    i=i+2\n",
    "    \n",
    "#second / first try = speed-up\n",
    "UCSDT2_speedup=(s/f)\n",
    "print(UCSDT2_speedup)"
   ]
  },
  {
   "cell_type": "code",
   "execution_count": 15,
   "metadata": {
    "collapsed": false
   },
   "outputs": [
    {
     "name": "stdout",
     "output_type": "stream",
     "text": [
      "- speed up: 0.99, avg first try: 40.15 sec, avg second try: 39.76 sec using host root://data.ci-connect.net\n"
     ]
    },
    {
     "name": "stderr",
     "output_type": "stream",
     "text": [
      "/home/ivukotic/anaconda3/lib/python3.5/site-packages/ipykernel/__main__.py:23: SettingWithCopyWarning: \n",
      "A value is trying to be set on a copy of a slice from a DataFrame\n",
      "\n",
      "See the caveats in the documentation: http://pandas.pydata.org/pandas-docs/stable/indexing.html#indexing-view-versus-copy\n"
     ]
    }
   ],
   "source": [
    "def speed_up(sitename):\n",
    "    columns=list(df.columns.values)\n",
    "    df_site=pd.DataFrame(columns=columns)\n",
    "    for i in range(scroll_size):\n",
    "        if df['sitename'][i]==sitename:\n",
    "            df_site=df_site.append(df.iloc[[i]])\n",
    "            \n",
    "    df_site=df_site.sort_values(by=['timestamp'])\n",
    "    df_site['try']=0\n",
    "    #print (df_site['host'].iloc[1])\n",
    "    f=0\n",
    "    s=0\n",
    "    i=0\n",
    "    length=df_site.shape[0]\n",
    "    #print (length)\n",
    "    if (length%2==1):\n",
    "        df_site=df_site[:length-1]\n",
    "    length=df_site.shape[0]\n",
    "    host=df_site['host'].iloc[1]\n",
    "    #print (length)\n",
    "    #print(df_site.head(100))\n",
    "    while i<length:\n",
    "        df_site['try'][i]=1\n",
    "        df_site['try'][i+1]=2\n",
    "        f+=int(df_site['download_time'].iloc[i])\n",
    "        s+=int(df_site['download_time'].iloc[i+1])\n",
    "        i+=2\n",
    "\n",
    "    #second / first try = speed-up\n",
    "    speedup=(s/f)\n",
    "    avg1=(f/length)/1000\n",
    "    avg2=(s/length)/1000\n",
    "    print(\"- speed up: %.2f, avg first try: %.2f sec, avg second try: %.2f sec using host %s\" % (speedup, avg1, avg2, host))\n",
    "\n",
    "speed_up('UFlorida-HPC')"
   ]
  },
  {
   "cell_type": "code",
   "execution_count": 16,
   "metadata": {
    "collapsed": false
   },
   "outputs": [
    {
     "name": "stdout",
     "output_type": "stream",
     "text": [
      "UCSDT2-C:\n"
     ]
    },
    {
     "name": "stderr",
     "output_type": "stream",
     "text": [
      "/home/ivukotic/anaconda3/lib/python3.5/site-packages/ipykernel/__main__.py:23: SettingWithCopyWarning: \n",
      "A value is trying to be set on a copy of a slice from a DataFrame\n",
      "\n",
      "See the caveats in the documentation: http://pandas.pydata.org/pandas-docs/stable/indexing.html#indexing-view-versus-copy\n"
     ]
    },
    {
     "name": "stdout",
     "output_type": "stream",
     "text": [
      "- speed up: 0.08, avg first try: 146.30 sec, avg second try: 11.53 sec using host root://xrd-cache-1.t2.ucsd.edu\n",
      "BNL_ATLAS_1:\n",
      "- speed up: 0.95, avg first try: 55.16 sec, avg second try: 52.68 sec using host root://data.ci-connect.net\n",
      "UFlorida-HPC:\n",
      "- speed up: 0.99, avg first try: 40.15 sec, avg second try: 39.76 sec using host root://data.ci-connect.net\n",
      "UNL (red-gateway2):\n",
      "- speed up: 0.24, avg first try: 42.18 sec, avg second try: 10.27 sec using host root://hcc-stash.unl.edu\n",
      "MWT2_CE_UIUC:\n",
      "- speed up: 1.30, avg first try: 23.81 sec, avg second try: 30.99 sec using host root://data.ci-connect.net\n",
      "UNC: (Sandhills-CE1):\n",
      "- speed up: 0.38, avg first try: 23.83 sec, avg second try: 8.99 sec using host root://hcc-stash.unl.edu\n",
      "SU-OG-CE:\n",
      "- speed up: 0.99, avg first try: 102.83 sec, avg second try: 101.83 sec using host root://data.ci-connect.net\n"
     ]
    },
    {
     "name": "stderr",
     "output_type": "stream",
     "text": [
      "/home/ivukotic/anaconda3/lib/python3.5/site-packages/ipykernel/__main__.py:24: SettingWithCopyWarning: \n",
      "A value is trying to be set on a copy of a slice from a DataFrame\n",
      "\n",
      "See the caveats in the documentation: http://pandas.pydata.org/pandas-docs/stable/indexing.html#indexing-view-versus-copy\n"
     ]
    }
   ],
   "source": [
    "print(\"UCSDT2-C:\")\n",
    "speed_up('UCSDT2-C')\n",
    "print(\"BNL_ATLAS_1:\")\n",
    "speed_up('BNL_ATLAS_1')\n",
    "print(\"UFlorida-HPC:\")\n",
    "speed_up('UFlorida-HPC')\n",
    "print(\"UNL (red-gateway2):\")\n",
    "speed_up('red-gateway2')\n",
    "print(\"MWT2_CE_UIUC:\")\n",
    "speed_up('MWT2_CE_UIUC')\n",
    "print(\"UNC: (Sandhills-CE1):\")\n",
    "speed_up('Sandhills-CE1')\n",
    "print(\"SU-OG-CE:\")\n",
    "speed_up('SU-OG-CE')"
   ]
  },
  {
   "cell_type": "code",
   "execution_count": 17,
   "metadata": {
    "collapsed": false
   },
   "outputs": [
    {
     "name": "stdout",
     "output_type": "stream",
     "text": [
      "1466622525311\n",
      "1466674003000\n",
      "51477689\n",
      "30000\n",
      "768\n",
      "1716\n"
     ]
    }
   ],
   "source": [
    "def plot_concurrent_jobs(host):\n",
    "    columns=list(df.columns.values)\n",
    "    df_site=pd.DataFrame(columns=columns)\n",
    "    for i in range(scroll_size):\n",
    "        if df['host'][i]==host:\n",
    "            df_site=df_site.append(df.iloc[[i]])\n",
    "    length=df_site.shape[0]\n",
    "    \n",
    "    minX=int(df_site.ix[df_site['begin'].idxmin()]['begin'])\n",
    "    maxX=int(df_site.ix[df_site['timestamp'].idxmax()]['timestamp'])\n",
    "    #minX=round(int(df_site.ix[df_site['begin'].idxmin()]['begin'])/(1000*60))\n",
    "    #maxX=round(int(df_site.ix[df_site['timestamp'].idxmax()]['timestamp'])/(1000*60))\n",
    "    #minX=int(minX/(1000*60))\n",
    "    #maxX=int(maxX/(1000*60))\n",
    "    \n",
    "    print (minX)\n",
    "    print (maxX)\n",
    "    print (maxX-minX)\n",
    "    n=1000*30\n",
    "    print(n)\n",
    "    x=np.arange(minX, maxX+1, n)\n",
    "    #print (x)\n",
    "    nJobs=[0] * len(x)\n",
    "    #print(df_site.head(2))\n",
    "    print (length)\n",
    "    #print (nJobs)\n",
    "    print(len(nJobs))\n",
    "    for i in range(len(x)): #len(x)\n",
    "        for j in range(length): #length\n",
    "            #print (int(df_site['begin'].iloc[j]))\n",
    "            #print (int(df_site['timestamp'].iloc[j]))\n",
    "            #print (x[i])\n",
    "            if np.less(int(df_site['begin'].iloc[j]),x[i]) and np.less(x[i],int(df_site['timestamp'].iloc[j])):  \n",
    "                nJobs[i]=nJobs[i]+1\n",
    "                #print('tru')\n",
    "            #print('---')\n",
    "    return nJobs,x\n",
    "    \n",
    "    \n",
    "nJobs,x=plot_concurrent_jobs('root://data.ci-connect.net')\n"
   ]
  },
  {
   "cell_type": "code",
   "execution_count": 19,
   "metadata": {
    "collapsed": false
   },
   "outputs": [
    {
     "name": "stdout",
     "output_type": "stream",
     "text": [
      "[ 1  4  7 10]\n",
      "[7, 8, 8, 8, 18, 24, 25, 22, 31, 32, 32, 32, 34, 34, 34, 32, 33, 33, 35, 30, 34, 32, 33, 30, 35, 39, 32, 28, 33, 31, 25, 25, 25, 23, 23, 24, 22, 26, 24, 23, 22, 23, 23, 23, 24, 25, 23, 23, 24, 26, 25, 25, 24, 23, 24, 26, 26, 24, 24, 23, 25, 21, 24, 14, 16, 13, 15, 14, 14, 16, 16, 14, 11, 14, 14, 15, 13, 15, 13, 16, 15, 12, 15, 10, 14, 14, 12, 13, 14, 12, 12, 14, 14, 14, 11, 13, 14, 14, 15, 14, 16, 14, 13, 14, 12, 14, 14, 14, 14, 12, 13, 14, 13, 13, 14, 16, 12, 7, 8, 8, 8, 8, 6, 8, 8, 8, 7, 7, 8, 7, 7, 8, 8, 8, 8, 8, 8, 8, 8, 8, 8, 8, 8, 8, 7, 8, 7, 7, 8, 7, 10, 8, 8, 9, 9, 8, 10, 8, 8, 10, 8, 8, 10, 8, 7, 8, 8, 8, 8, 8, 8, 0]\n"
     ]
    },
    {
     "data": {
      "image/png": "[encoded data removed]",
      "text/plain": [
       "<matplotlib.figure.Figure at 0x7f5da09cc4e0>"
      ]
     },
     "metadata": {},
     "output_type": "display_data"
    }
   ],
   "source": [
    "#print (np.less(1,2))\n",
    "#print (np.less(df['begin'].iloc[1],x[1]))\n",
    "#print (df['begin'].iloc[1])\n",
    "\n",
    "y=np.arange(1, 11, 3)\n",
    "print (y)\n",
    "\n",
    "#plt.plot(nJobs)\n",
    "#plt.ylabel('Count')\n",
    "#plt.show()\n",
    "x2=np.arange(1466622525311, 1466674003001, 30000*10)\n",
    "nJobs2=[0]*len(x2)\n",
    "p=0\n",
    "count=0\n",
    "cSum=0\n",
    "for i in range(len(x)):\n",
    "        #print (p)\n",
    "       # print (count)\n",
    "        cSum=cSum+nJobs[i]\n",
    "        count=count+1\n",
    "        #print (cSum)\n",
    "        if count==10:\n",
    "            nJobs2[p]=cSum\n",
    "            p=p+1\n",
    "            count=0\n",
    "            cSum=0\n",
    "print (nJobs2)\n",
    "\n",
    "plt.plot(nJobs2)\n",
    "#plt.ylabel('Count')\n",
    "plt.show()\n"
   ]
  },
  {
   "cell_type": "code",
   "execution_count": 37,
   "metadata": {
    "collapsed": false
   },
   "outputs": [
    {
     "name": "stdout",
     "output_type": "stream",
     "text": [
      "  download_time                         filename                        host  \\\n",
      "0        195689  user/taburaad/public/a2gb_1.tar  root://data.ci-connect.net   \n",
      "1        213298  user/taburaad/public/a2gb_1.tar  root://data.ci-connect.net   \n",
      "\n",
      "   sitename         status      timestamp         begin  \n",
      "0  SU-OG-CE  Trunk Success  1466622721000  1.466623e+12  \n",
      "1  SU-OG-CE  Trunk Success  1466622996000  1.466623e+12  \n",
      "2016-06-22 14:08:45\n",
      "2016-06-22 14:12:01\n",
      "2016-06-22 14:13:02\n",
      "2016-06-22 14:16:36\n",
      "2016-06-22 14:17:38\n",
      "2016-06-22 14:20:32\n",
      "2016-06-22 14:21:34\n",
      "2016-06-22 14:24:20\n",
      "2016-06-22 14:29:12\n",
      "2016-06-22 14:32:18\n",
      "2016-06-22 14:32:28\n",
      "2016-06-22 14:33:08\n",
      "2016-06-22 14:31:53\n",
      "2016-06-22 14:33:46\n",
      "2016-06-22 14:33:09\n",
      "2016-06-22 14:33:48\n",
      "2016-06-22 14:33:48\n",
      "2016-06-22 14:34:29\n",
      "2016-06-22 14:41:39\n",
      "2016-06-22 14:42:33\n",
      "2016-06-22 14:08:45\n"
     ]
    }
   ],
   "source": [
    "columns=list(df.columns.values)\n",
    "df1=pd.DataFrame(columns=columns)\n",
    "for i in range(scroll_size):\n",
    "    if df['host'][i]=='root://data.ci-connect.net':\n",
    "        df1=df1.append(df.iloc[[i]])\n",
    "print(df1.head(2))\n",
    "length=df1.shape[0]\n",
    "\n",
    "for i in range(10):\n",
    "    begin=int(df1['begin'].iloc[i])//1000\n",
    "    end=int(df1['timestamp'].iloc[i])//1000\n",
    "    print(datetime.datetime.fromtimestamp(begin).strftime('%Y-%m-%d %H:%M:%S'))\n",
    "    print(datetime.datetime.fromtimestamp(end).strftime('%Y-%m-%d %H:%M:%S'))\n",
    "\n",
    "open1 = pd.concat([pd.Series(1, df1.begin),  # created add 1\n",
    "                           pd.Series(-1, df1.timestamp)  # closed substract 1\n",
    "                           ]).resample('30Min', how='sum').cumsum()"
   ]
  },
  {
   "cell_type": "code",
   "execution_count": null,
   "metadata": {
    "collapsed": true
   },
   "outputs": [],
   "source": []
  }
 ],
 "metadata": {
  "kernelspec": {
   "display_name": "Python 3",
   "language": "python",
   "name": "python3"
  },
  "language_info": {
   "codemirror_mode": {
    "name": "ipython",
    "version": 3
   },
   "file_extension": ".py",
   "mimetype": "text/x-python",
   "name": "python",
   "nbconvert_exporter": "python",
   "pygments_lexer": "ipython3",
   "version": "3.5.1"
  }
 },
 "nbformat": 4,
 "nbformat_minor": 0
}
