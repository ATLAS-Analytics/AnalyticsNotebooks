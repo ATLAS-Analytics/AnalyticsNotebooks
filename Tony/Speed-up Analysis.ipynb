{
 "cells": [
  {
   "cell_type": "code",
   "execution_count": 121,
   "metadata": {
    "collapsed": true
   },
   "outputs": [],
   "source": [
    "from elasticsearch import Elasticsearch, exceptions as es_exceptions\n",
    "from elasticsearch.helpers import scan\n",
    "es = Elasticsearch([{'host':'uct2-es-door.mwt2.org', 'port':9200}])\n",
    "\n",
    "import numpy as np\n",
    "import pandas as pd\n",
    "import matplotlib.pyplot as plt"
   ]
  },
  {
   "cell_type": "code",
   "execution_count": 193,
   "metadata": {
    "collapsed": false
   },
   "outputs": [],
   "source": [
    "ind=\"stashcp-2016.6\"\n",
    "\n",
    "myquery={\n",
    "  \"query\": {\n",
    "    \"filtered\": {\n",
    "      \"query\": {\n",
    "        \"query_string\": {\n",
    "          \"query\": \"*\",\n",
    "          \"analyze_wildcard\": True\n",
    "        }\n",
    "      },\n",
    "      \"filter\": {\n",
    "        \"bool\": {\n",
    "          \"must\": [\n",
    "            {\n",
    "              \"query\": {\n",
    "                \"query_string\": {\n",
    "                  \"analyze_wildcard\": True,\n",
    "                  \"query\": \"*a2gb*\"\n",
    "                }\n",
    "              }\n",
    "            },\n",
    "            {\n",
    "              \"range\": {\n",
    "                \"timestamp\": {\n",
    "                  \"gte\": 1466622721000,\n",
    "                  \"lte\": 1466652640000,\n",
    "                  \"format\": \"epoch_millis\"\n",
    "                }\n",
    "              }\n",
    "            }\n",
    "          ],\n",
    "        }\n",
    "      }\n",
    "    }\n",
    "  },\n",
    "}"
   ]
  },
  {
   "cell_type": "code",
   "execution_count": 196,
   "metadata": {
    "collapsed": false
   },
   "outputs": [],
   "source": [
    "page= es.search(index=ind, body=myquery, scroll='2m', search_type='scan', size=1)\n",
    "\n",
    "sid = page['_scroll_id']\n",
    "\n",
    "scroll_size = page['hits']['total']\n",
    "results=[]\n",
    "\n",
    "while (scroll_size > 0):\n",
    "    #print (\"Scrolling...\")\n",
    "    page = es.scroll(scroll_id = sid, scroll = '2m')\n",
    "    results.append(page['hits']['hits'])\n",
    "    # Update the scroll ID\n",
    "    sid = page['_scroll_id']\n",
    "    # Get the number of results that we returned in the last scroll\n",
    "    scroll_size = len(page['hits']['hits'])\n",
    "    #print (\"scroll size: \" + str(scroll_size))\n",
    "\n",
    "scroll_size = page['hits']['total']\n",
    "Res=[]\n",
    "for i in range(0,scroll_size):\n",
    "    Res.append(results[i][0]['_source'])\n",
    "    \n",
    "#print(Res[:5])"
   ]
  },
  {
   "cell_type": "code",
   "execution_count": 213,
   "metadata": {
    "collapsed": false
   },
   "outputs": [
    {
     "ename": "SyntaxError",
     "evalue": "invalid syntax (<ipython-input-213-bb2c4287bb81>, line 15)",
     "output_type": "error",
     "traceback": [
      "\u001b[1;36m  File \u001b[1;32m\"<ipython-input-213-bb2c4287bb81>\"\u001b[1;36m, line \u001b[1;32m15\u001b[0m\n\u001b[1;33m    df.sort_values(by=[]'timestamp', 'host'], ascending=[True, False])\u001b[0m\n\u001b[1;37m                                  ^\u001b[0m\n\u001b[1;31mSyntaxError\u001b[0m\u001b[1;31m:\u001b[0m invalid syntax\n"
     ]
    }
   ],
   "source": [
    "pd.options.display.max_columns = 50\n",
    "df = pd.DataFrame(Res)\n",
    "\n",
    "del df['destination_space']\n",
    "del df['xrdcp_version']\n",
    "del df['tries']\n",
    "del df['download_size']\n",
    "del df['filesize']\n",
    "del df['IP']\n",
    "del df['xrdcp_exit']\n",
    "\n",
    "\n",
    "\n",
    "#list(df.columns.values)\n",
    "df.sort_values(by=[]'timestamp', 'host'], ascending=[True, False])\n",
    "print (df.head(5))"
   ]
  },
  {
   "cell_type": "code",
   "execution_count": null,
   "metadata": {
    "collapsed": true
   },
   "outputs": [],
   "source": []
  }
 ],
 "metadata": {
  "kernelspec": {
   "display_name": "Python 3",
   "language": "python",
   "name": "python3"
  },
  "language_info": {
   "codemirror_mode": {
    "name": "ipython",
    "version": 3
   },
   "file_extension": ".py",
   "mimetype": "text/x-python",
   "name": "python",
   "nbconvert_exporter": "python",
   "pygments_lexer": "ipython3",
   "version": "3.5.1"
  }
 },
 "nbformat": 4,
 "nbformat_minor": 0
}
