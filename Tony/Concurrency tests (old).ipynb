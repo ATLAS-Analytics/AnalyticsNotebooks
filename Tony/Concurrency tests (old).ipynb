{
 "cells": [
  {
   "cell_type": "markdown",
   "metadata": {},
   "source": [
    "## Install packages"
   ]
  },
  {
   "cell_type": "code",
   "execution_count": 1,
   "metadata": {
    "collapsed": true
   },
   "outputs": [],
   "source": [
    "from elasticsearch import Elasticsearch, exceptions as es_exceptions\n",
    "from elasticsearch.helpers import scan\n",
    "es = Elasticsearch([{'host':'uct2-es-door.mwt2.org', 'port':9200}])\n",
    "\n",
    "import numpy as np\n",
    "import pandas as pd\n",
    "import matplotlib.pyplot as plt\n",
    "import datetime\n",
    "%matplotlib inline"
   ]
  },
  {
   "cell_type": "markdown",
   "metadata": {},
   "source": [
    "## Set time range and index in query"
   ]
  },
  {
   "cell_type": "code",
   "execution_count": 11,
   "metadata": {
    "collapsed": true
   },
   "outputs": [],
   "source": [
    "#change index depending on month\n",
    "ind=\"stashcp-2016.8\"\n",
    "\n",
    "myquery1={\n",
    "  \"query\": {\n",
    "    \"filtered\": {\n",
    "      \"query\": {\n",
    "        \"query_string\": {\n",
    "          \"query\": \"*\",\n",
    "          \"analyze_wildcard\": True\n",
    "        }\n",
    "      },\n",
    "      \"filter\": {\n",
    "        \"bool\": {\n",
    "          \"must\": [\n",
    "            {\n",
    "              \"query\": {\n",
    "                \"query_string\": {\n",
    "                  \"analyze_wildcard\": True,\n",
    "                  \"query\": \"*\"\n",
    "                }\n",
    "              }\n",
    "            },\n",
    "            {\n",
    "              \"range\": {\n",
    "                \"timestamp\": {\n",
    "                  \"gte\": 1467383312083,\n",
    "                  \"lte\": 1467387756827,\n",
    "                  \"format\": \"epoch_millis\"\n",
    "                }\n",
    "              }\n",
    "            }\n",
    "          ],\n",
    "        }\n",
    "      }\n",
    "    }\n",
    "  },\n",
    "}\n",
    "myquery2={\n",
    "  \"query\": {\n",
    "    \"filtered\": {\n",
    "      \"query\": {\n",
    "        \"query_string\": {\n",
    "          \"query\": \"*\",\n",
    "          \"analyze_wildcard\": True\n",
    "        }\n",
    "      },\n",
    "      \"filter\": {\n",
    "        \"bool\": {\n",
    "          \"must\": [\n",
    "            {\n",
    "              \"query\": {\n",
    "                \"query_string\": {\n",
    "                  \"analyze_wildcard\": True,\n",
    "                  \"query\": \"*\"\n",
    "                }\n",
    "              }\n",
    "            },\n",
    "            {\n",
    "              \"range\": {\n",
    "                \"timestamp\": {\n",
    "                  \"gte\": 1471010364437,\n",
    "                  \"lte\": 1471036424501,\n",
    "                  \"format\": \"epoch_millis\"\n",
    "                }\n",
    "              }\n",
    "            }\n",
    "          ],\n",
    "        }\n",
    "      }\n",
    "    }\n",
    "  },\n",
    "}"
   ]
  },
  {
   "cell_type": "markdown",
   "metadata": {},
   "source": [
    "## Pull data from ES and convert to panda dataframe"
   ]
  },
  {
   "cell_type": "code",
   "execution_count": 13,
   "metadata": {
    "collapsed": false
   },
   "outputs": [
    {
     "name": "stdout",
     "output_type": "stream",
     "text": [
      "Number of records:  4188\n",
      "                      cache download_time           end1 end2  \\\n",
      "0  root://hcc-stash.unl.edu         36342  1471011229225    0   \n",
      "1  root://hcc-stash.unl.edu         37140  1471011229936    0   \n",
      "\n",
      "                            filename                      host    sitename  \\\n",
      "0  user/taburaad/public/2gb_file.tar  root://hcc-stash.unl.edu  Tusker-CE1   \n",
      "1  user/taburaad/public/2gb_file.tar  root://hcc-stash.unl.edu   Crane-CE1   \n",
      "\n",
      "          start1 start2 start3   status      timestamp xrdexit1 xrdexit2  \\\n",
      "0  1471011192883      0      0  Success  1471011229000        0       -1   \n",
      "1  1471011192796      0      0  Success  1471011229000        0       -1   \n",
      "\n",
      "  xrdexit3          begin  \n",
      "0       -1  1471011192658  \n",
      "1       -1  1471011191860  \n",
      "['cache', 'download_time', 'end1', 'end2', 'filename', 'host', 'sitename', 'start1', 'start2', 'start3', 'status', 'timestamp', 'xrdexit1', 'xrdexit2', 'xrdexit3', 'begin']\n"
     ]
    }
   ],
   "source": [
    "page= es.search(index=ind, body=myquery2, scroll='2m', search_type='scan', size=1)\n",
    "\n",
    "sid = page['_scroll_id']\n",
    "\n",
    "scroll_size = page['hits']['total']\n",
    "results=[]\n",
    "\n",
    "while (scroll_size > 0):\n",
    "    page = es.scroll(scroll_id = sid, scroll = '2m')\n",
    "    results.append(page['hits']['hits'])\n",
    "    sid = page['_scroll_id']\n",
    "    scroll_size = len(page['hits']['hits'])\n",
    "\n",
    "scroll_size = page['hits']['total']\n",
    "Res=[]\n",
    "for i in range(0,scroll_size):\n",
    "    Res.append(results[i][0]['_source'])\n",
    "\n",
    "print('Number of records: ', scroll_size)\n",
    "\n",
    "df = pd.DataFrame(Res)\n",
    "\n",
    "#ignore the following fields\n",
    "del df['destination_space']\n",
    "del df['xrdcp_version']\n",
    "del df['tries']\n",
    "del df['download_size']\n",
    "del df['filesize']\n",
    "del df['IP']\n",
    "\n",
    "begin=[]\n",
    "for i in range(scroll_size):\n",
    "    begin.append((int(df['timestamp'][i])-int(df['download_time'][i]))) #convert to minutes\n",
    "    \n",
    "df['begin']=begin\n",
    "print(df.head(2))\n",
    "print(list(df.columns.values))"
   ]
  },
  {
   "cell_type": "code",
   "execution_count": 14,
   "metadata": {
    "collapsed": true
   },
   "outputs": [],
   "source": [
    "def plot_jobs(site, name):\n",
    "    columns=list(df.columns.values)\n",
    "    df_site=pd.DataFrame(columns=columns)\n",
    "    for i in range(scroll_size):\n",
    "        if df['host'][i]==site:\n",
    "            df_site=df_site.append(df.iloc[[i]])\n",
    "    length=df_site.shape[0]\n",
    "    df_site['trunk']=0\n",
    "    df_site['timeout']=0\n",
    "    for i in range(length):\n",
    "        begin=int(df_site['begin'].iloc[i])//1000\n",
    "        end=int(df_site['timestamp'].iloc[i])//1000\n",
    "        df_site['begin'].iloc[i]=datetime.datetime.fromtimestamp(begin).strftime('%Y-%m-%d %H:%M:%S')\n",
    "        df_site['timestamp'].iloc[i]=datetime.datetime.fromtimestamp(end).strftime('%Y-%m-%d %H:%M:%S')\n",
    "        if df_site['status'].iloc[i]=='Trunk Success':\n",
    "            df_site['trunk'].iloc[i]=1\n",
    "        if df_site['status'].iloc[i]=='Timeout':\n",
    "            df_site['timeout'].iloc[i]=1 \n",
    "    \n",
    "    df_site=df_site.set_index(['timestamp'])    \n",
    "    df_site.index = pd.to_datetime(df_site.index, unit='s')\n",
    "    df_site['begin']=pd.to_datetime(df_site.begin, unit='s')\n",
    "\n",
    "    jobs = pd.concat([pd.Series(1, df_site.begin), pd.Series(-1, df_site.index)]).resample('1Min', how='sum').cumsum()\n",
    "    trunk=df_site.trunk.resample('1Min',how='sum')\n",
    "    timeout=df_site.timeout.resample('1Min',how='sum')\n",
    "\n",
    "    plt.figure(figsize=[18, 8]) \n",
    "    plt.title('Concurrent jobs vs. completion status of ' + site)\n",
    "    #plt.xlabel('Time', fontsize=18)\n",
    "    #plt.ylabel('xlabel', fontsize=18)\n",
    "    jobs.plot(label=\"# Jobs\", legend=True).set_ylabel('# jobs running', color='b',fontsize=18)\n",
    "    trunk.plot(secondary_y=True, label=\"# Jobs ending at origin\", legend=True).set_ylabel('# jobs ending', color='k',fontsize=18)\n",
    "    timeout.plot(secondary_y=True, label=\"# Jobs Timeout\", legend=True).set_xlabel('Time', color='k',fontsize=18)\n",
    "    plt.savefig(name+'.png')\n",
    "    plt.show()\n"
   ]
  }
 ],
 "metadata": {
  "kernelspec": {
   "display_name": "Python 3",
   "language": "python",
   "name": "python3"
  },
  "language_info": {
   "codemirror_mode": {
    "name": "ipython",
    "version": 3
   },
   "file_extension": ".py",
   "mimetype": "text/x-python",
   "name": "python",
   "nbconvert_exporter": "python",
   "pygments_lexer": "ipython3",
   "version": "3.5.1"
  }
 },
 "nbformat": 4,
 "nbformat_minor": 0
}
