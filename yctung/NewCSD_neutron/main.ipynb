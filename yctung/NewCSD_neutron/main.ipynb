{
 "cells": [
  {
   "cell_type": "code",
   "execution_count": null,
   "metadata": {
    "scrolled": true
   },
   "outputs": [
    {
     "name": "stderr",
     "output_type": "stream",
     "text": [
      "/usr/lib64/python3.4/importlib/_bootstrap.py:321: FutureWarning: Conversion of the second argument of issubdtype from `float` to `np.floating` is deprecated. In future, it will be treated as `np.float64 == np.dtype(float).type`.\n",
      "  return f(*args, **kwds)\n",
      "Using TensorFlow backend.\n"
     ]
    }
   ],
   "source": [
    "from keras.models import Sequential\n",
    "from keras.layers import Dense\n",
    "from keras import regularizers\n",
    "from sklearn import metrics\n",
    "from keras.layers import Activation\n",
    "from keras.models import model_from_json\n",
    "from keras.layers import Dropout\n",
    "from keras.optimizers import SGD\n",
    "from keras.callbacks import LearningRateScheduler\n",
    "from sklearn.model_selection import train_test_split\n",
    "import numpy\n",
    "import pandas\n",
    "from keras import optimizers\n",
    "import matplotlib.pyplot as plt\n",
    "from sklearn.utils import shuffle\n",
    "from sklearn.preprocessing import LabelEncoder"
   ]
  },
  {
   "cell_type": "code",
   "execution_count": null,
   "metadata": {},
   "outputs": [],
   "source": [
    "numpy.random.seed(1)\n",
    "\n",
    "print('loading TRAIN data')\n",
    "\n",
    "dataframe_TRAIN = pandas.read_csv(\"train_newcsd_neutron.txt\", delimiter=\",\", header=None)\n",
    "dataset_TRAIN=dataframe_TRAIN.values\n",
    "# split into input (X) and output (Y) variables\n",
    "\n",
    "X_TRAIN = dataset_TRAIN[:,0:33]\n",
    "Y_TRAIN = dataset_TRAIN[:,33]\n",
    "\n",
    "\n",
    "dataframe_test = pandas.read_csv(\"test_newcsd_neutron.txt\", delimiter=\",\", header=None)\n",
    "dataset_test=dataframe_test.values\n",
    "\n",
    "X_test = dataset_test[:,0:33]\n",
    "Y_test = dataset_test[:,33]\n"
   ]
  },
  {
   "cell_type": "code",
   "execution_count": null,
   "metadata": {
    "collapsed": true
   },
   "outputs": [],
   "source": [
    "seed = 777\n",
    "#test_size = 0.25\n",
    "#test_size = 0.4\n",
    "test_size = 0.5\n",
    "\n",
    "X_TRAIN, Y_TRAIN = shuffle( X_TRAIN, Y_TRAIN, random_state = seed )\n",
    "X_train, X_val, Y_train, Y_val= train_test_split(X_TRAIN, Y_TRAIN, test_size=test_size, random_state=seed)"
   ]
  },
  {
   "cell_type": "code",
   "execution_count": null,
   "metadata": {},
   "outputs": [],
   "source": [
    "print('building network')\n",
    "\n",
    "#l2val=0.01\n",
    "#neurons=256\n",
    "#drop=0.1\n",
    "\n",
    "l2val=0.003\n",
    "neurons=256\n",
    "drop=0.5\n",
    "\n",
    "class_weight = {0: 1.0,\n",
    "                1: 1.0,\n",
    "               }\n",
    "\n",
    "activation='relu'\n",
    "#activation='tanh'\n",
    "\n",
    "initial='glorot_uniform'\n",
    "model = Sequential()\n",
    "#model.add(Dense(neurons, input_dim=31,kernel_initializer=initial,kernel_regularizer=regularizers.l2(l2val)))\n",
    "model.add(Dense(neurons, input_dim=33,kernel_initializer=initial,kernel_regularizer=regularizers.l2(l2val)))\n",
    "model.add(Dropout(drop))\n",
    "model.add(Activation(activation))\n",
    "\n",
    "#1\n",
    "model.add(Dense(neurons,kernel_initializer=initial,kernel_regularizer=regularizers.l2(l2val)))\n",
    "model.add(Dropout(drop))\n",
    "model.add(Activation(activation))\n",
    "\n",
    "#2\n",
    "model.add(Dense(neurons,kernel_initializer=initial,kernel_regularizer=regularizers.l2(l2val)))\n",
    "model.add(Dropout(drop))\n",
    "model.add(Activation(activation))\n",
    "\n",
    "#3\n",
    "model.add(Dense(neurons,kernel_initializer=initial,kernel_regularizer=regularizers.l2(l2val)))\n",
    "model.add(Dropout(drop))\n",
    "model.add(Activation(activation))\n",
    "\n",
    "#4\n",
    "model.add(Dense(neurons,kernel_initializer=initial,kernel_regularizer=regularizers.l2(l2val)))\n",
    "model.add(Dropout(drop))\n",
    "model.add(Activation(activation))\n",
    "\n",
    "#5\n",
    "model.add(Dense(neurons,kernel_initializer=initial,kernel_regularizer=regularizers.l2(l2val)))\n",
    "model.add(Dropout(drop))\n",
    "model.add(Activation(activation))\n",
    "\n",
    "#6\n",
    "model.add(Dense(neurons,kernel_initializer=initial,kernel_regularizer=regularizers.l2(l2val)))\n",
    "model.add(Dropout(drop))\n",
    "model.add(Activation(activation))\n",
    "\n",
    "#7\n",
    "model.add(Dense(neurons,kernel_initializer=initial,kernel_regularizer=regularizers.l2(l2val)))\n",
    "model.add(Dropout(drop))\n",
    "model.add(Activation(activation))\n",
    "\n",
    "#8\n",
    "model.add(Dense(neurons,kernel_initializer=initial,kernel_regularizer=regularizers.l2(l2val)))\n",
    "model.add(Dropout(drop))\n",
    "model.add(Activation(activation))\n",
    "\n",
    "#\n",
    "model.add(Dense(1,kernel_initializer=initial))\n",
    "model.add(Activation('sigmoid'))\n",
    "\n",
    "#adam=optimizers.Adam(lr=0.001, beta_1=0.9, beta_2=0.999, epsilon=0.001, decay=0.0001)\n",
    "\n",
    "epochs = 300\n",
    "learning_rate = 0.001\n",
    "decay_rate = learning_rate / epochs * 10\n",
    "adam=optimizers.Adam(lr=learning_rate, decay=decay_rate, beta_1=0.9, beta_2=0.999, epsilon=0.001)\n",
    "model.compile(loss='binary_crossentropy', optimizer=adam, metrics=['accuracy'])\n",
    "\n",
    "history=model.fit(X_train, Y_train,validation_data=(X_val,Y_val), epochs=epochs, batch_size=2048,shuffle=False,class_weight=class_weight)\n",
    "\n"
   ]
  },
  {
   "cell_type": "code",
   "execution_count": null,
   "metadata": {
    "collapsed": true,
    "scrolled": true
   },
   "outputs": [],
   "source": [
    "model_json = model.to_json()\n",
    "with open(\"model_eta_train19.json\", \"w\") as json_file:\n",
    "    json_file.write(model_json)\n",
    "# serialize weights to HDF5\n",
    "model.save_weights(\"model_eta_train19.h5\")\n",
    "print(\"Saved model to disk\")"
   ]
  },
  {
   "cell_type": "code",
   "execution_count": null,
   "metadata": {
    "collapsed": true
   },
   "outputs": [],
   "source": [
    "print('plotting history')\n",
    "\n",
    "print(history.history.keys())\n",
    "\n",
    "fig = plt.figure()\n",
    "# summarize history for accuracy\n",
    "plt.plot(history.history['acc'])\n",
    "plt.plot(history.history['val_acc'])\n",
    "plt.title('model accuracy')\n",
    "plt.ylabel('accuracy')\n",
    "plt.xlabel('epoch')\n",
    "plt.legend(['train', 'val'], loc='upper left')\n",
    "plt.show()\n",
    "# summarize history for loss\n",
    "plt.plot(history.history['loss'])\n",
    "plt.plot(history.history['val_loss'])\n",
    "plt.title('model loss')\n",
    "plt.ylabel('loss')\n",
    "plt.xlabel('epoch')\n",
    "plt.legend(['train', 'val'], loc='upper left')\n",
    "plt.show()\n",
    "fig.savefig(\"history.pdf\")"
   ]
  },
  {
   "cell_type": "code",
   "execution_count": null,
   "metadata": {
    "collapsed": true
   },
   "outputs": [],
   "source": [
    "scores = model.evaluate(X_val, Y_val)\n",
    "print(\"\\n%s: %.2f%%\" % (model.metrics_names[1], scores[1]*100))\n",
    "\n",
    "probs_train = model.predict_proba(X_train)\n",
    "preds_train = probs_train[:,0]\n",
    "fpr_train, tpr_train, threshold_train = metrics.roc_curve(Y_train, preds_train)\n",
    "\n",
    "probs_val = model.predict_proba(X_val)\n",
    "preds_val = probs_val[:,0]\n",
    "fpr_val, tpr_val, threshold_val = metrics.roc_curve(Y_val, preds_val)\n",
    "\n",
    "probs_test = model.predict_proba(X_test)\n",
    "preds_test = probs_test[:,0]\n",
    "fpr_test, tpr_test, threshold_test = metrics.roc_curve(Y_test, preds_test)\n",
    "\n",
    "# probs_TRAIN=model.predict_proba(X_TRAIN)\n",
    "# preds_TRAIN = probs_TRAIN[:,0]\n",
    "# fpr_TRAIN, tpr_TRAIN, threshold_TRAIN = metrics.roc_curve(Y_TRAIN, preds_TRAIN)"
   ]
  },
  {
   "cell_type": "code",
   "execution_count": null,
   "metadata": {
    "collapsed": true
   },
   "outputs": [],
   "source": [
    "print('plotting training results')\n",
    "fig = plt.figure()\n",
    "plt.title('Gamma-Level ROC for EtaCSD cut')\n",
    "plt.plot(tpr_val, 1-fpr_val, 'b',label='val')\n",
    "# plt.plot(tpr_test, 1-fpr_test, 'r',label='test')\n",
    "plt.plot(tpr_train, 1-fpr_train, 'green',label='train')\n",
    "plt.legend(loc = 'lower left')\n",
    "#plt.plot([0, 1], [0, 1],'r--')\n",
    "plt.xlim([0, 1])\n",
    "plt.ylim([0, 1])\n",
    "plt.xlabel('signal efficiency')\n",
    "plt.ylabel('background rejection')\n",
    "plt.show()\n",
    "fig.savefig(\"ROC.pdf\")"
   ]
  },
  {
   "cell_type": "code",
   "execution_count": null,
   "metadata": {
    "collapsed": true
   },
   "outputs": [],
   "source": [
    "fig = plt.figure()\n",
    "plt.title('Gamma-Level ROC for EtaCSD cut')\n",
    "plt.plot(tpr_val, 1-fpr_val, 'b',label='val')\n",
    "plt.plot(tpr_test, 1-fpr_test, 'r',label='test')\n",
    "plt.plot(tpr_train, 1-fpr_train, 'green',label='train')\n",
    "plt.legend(loc = 'lower left')\n",
    "plt.xlim([0.895, 0.905])\n",
    "plt.ylim([0.99, 0.998])\n",
    "plt.xlabel('signal efficiency')\n",
    "plt.ylabel('background rejection')\n",
    "plt.show()\n",
    "fig.savefig(\"ROC_zoom.pdf\")"
   ]
  },
  {
   "cell_type": "code",
   "execution_count": null,
   "metadata": {
    "collapsed": true
   },
   "outputs": [],
   "source": [
    "fig = plt.figure()\n",
    "plt.title('Gamma-Level ROC for EtaCSD cut')\n",
    "plt.plot(tpr_test,threshold_test, 'r',label='test')\n",
    "plt.legend(loc = 'lower left')\n",
    "plt.xlim([0.89, 0.91])\n",
    "plt.ylim([0.8, 0.86])\n",
    "plt.ylabel('threshold')\n",
    "plt.xlabel('signal efficiency')\n",
    "plt.show()\n",
    "fig.savefig(\"ROC_zoom.pdf\")"
   ]
  },
  {
   "cell_type": "code",
   "execution_count": null,
   "metadata": {
    "collapsed": true
   },
   "outputs": [],
   "source": [
    "print('loading Original CSD data')\n",
    "\n",
    "dataframe_test_csd=pandas.read_csv(\"csd1.txt\", delimiter=\",\", header=None)\n",
    "dataset_test_csd=dataframe_test_csd.values\n",
    "preds_test_csd= dataset_test_csd[:,0]\n",
    "Y_test_csd= dataset_test_csd[:,1]\n",
    "\n",
    "fpr_test_csd, tpr_test_csd, threshold_test_csd = metrics.roc_curve(Y_test_csd, preds_test_csd)"
   ]
  },
  {
   "cell_type": "code",
   "execution_count": null,
   "metadata": {
    "collapsed": true
   },
   "outputs": [],
   "source": [
    "print('plotting comparison with csd0 on TRAIN data set')\n",
    "\n",
    "fig = plt.figure()\n",
    "plt.title('comparison on test data group')\n",
    "# plt.plot(tpr_TRAIN, 1-fpr_TRAIN, 'r',label='EtaCSD_TRAIN')\n",
    "# plt.plot(tpr_val, 1-fpr_val, 'r',label='NewCSD_TRAIN')\n",
    "plt.plot(tpr_test, 1-fpr_test, 'r',label='GPU CSD')\n",
    "plt.plot(tpr_test_csd, 1-fpr_test_csd, 'black',label='ROOT CSD')\n",
    "# plt.plot(tpr_test_csd, 1-fpr_test_csd, 'violet',label='MinCSD_test')\n",
    "plt.legend(loc = 'lower left')\n",
    "plt.xlim([0, 1])\n",
    "plt.ylim([0, 1])\n",
    "plt.xlabel('signal efficiency')\n",
    "plt.ylabel('background rejection')\n",
    "plt.show()\n",
    "fig.savefig(\"comparison_on_test.pdf\")\n",
    "\n",
    "fig = plt.figure()\n",
    "plt.title('comparison on test data group zoom')\n",
    "# plt.plot(tpr_test, 1-fpr_test, 'r',label='NewCSD_test')\n",
    "# plt.plot(tpr_val, 1-fpr_val, 'r',label='NewCSD_test')\n",
    "plt.plot(tpr_test, 1-fpr_test, 'r',label='GPU CSD')\n",
    "plt.plot(tpr_test_csd, 1-fpr_test_csd, 'black',label='ROOT CSD')\n",
    "# plt.plot(tpr_test_csd, 1-fpr_test_csd, 'violet',label='MinCSD_test')\n",
    "plt.legend(loc = 'lower left')\n",
    "plt.xlim([0.89, 0.91])\n",
    "plt.ylim([0.98, 1.0])\n",
    "plt.xlabel('signal efficiency')\n",
    "plt.ylabel('background rejection')\n",
    "plt.show()\n",
    "fig.savefig(\"comparison_on_test_zoom.pdf\")"
   ]
  }
 ],
 "metadata": {
  "kernelspec": {
   "display_name": "Python 3",
   "language": "python",
   "name": "python3"
  },
  "language_info": {
   "codemirror_mode": {
    "name": "ipython",
    "version": 3
   },
   "file_extension": ".py",
   "mimetype": "text/x-python",
   "name": "python",
   "nbconvert_exporter": "python",
   "pygments_lexer": "ipython3",
   "version": "3.4.5"
  }
 },
 "nbformat": 4,
 "nbformat_minor": 2
}
