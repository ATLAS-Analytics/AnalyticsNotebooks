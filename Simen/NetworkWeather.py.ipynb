{
 "cells": [
  {
   "cell_type": "code",
   "execution_count": 7,
   "metadata": {},
   "outputs": [
    {
     "name": "stdout",
     "output_type": "stream",
     "text": [
      "Processing event number  0\n",
      "Processing event number  10000\n",
      "Processing event number  20000\n",
      "Processing event number  30000\n",
      "Processing event number  40000\n",
      "Processing event number  50000\n",
      "Processing event number  60000\n",
      "Processing event number  70000\n",
      "Processing event number  80000\n",
      "84650 entries processes in 5 seconds\n"
     ]
    }
   ],
   "source": [
    "from elasticsearch import Elasticsearch\n",
    "from elasticsearch.helpers import scan\n",
    "import time\n",
    "import numpy as np\n",
    "\n",
    "interval = 10*60 #seconds                                                                                                                \n",
    "now = 1505573241#int(time.time() - 60*60) * 1000  #epoch seconds                                                                        \n",
    "past = now - interval\n",
    "\n",
    "chicago_index = \"network_weather-2017*\"\n",
    "\n",
    "es_chicago = Elasticsearch(['atlas-kibana.mwt2.org:9200'],timeout=60) # Chicago instance                                                \n",
    "\n",
    "query_chicago = {\n",
    "    \"query\": {\n",
    "    \"bool\": {\n",
    "    \"must\": [\n",
    "        { \"range\": {  \"timestamp\": { \"gte\": past,  \"lte\": now,  \"format\": \"epoch_second\"  }  } },\n",
    "        {\"exists\" : {\"field\" : \"srcSite\"}},\n",
    "        {\"exists\" : {\"field\" : \"destSite\"}},\n",
    "    ],\n",
    "    \"should\": [\n",
    "                {\"exists\" : {\"field\" : \"delay_mean\"}},\n",
    "                {\"exists\" : {\"field\" : \"packet_loss\"}},\n",
    "            ],\n",
    "    \"minimum_should_match\": 1,\n",
    "\n",
    "    }\n",
    "    }\n",
    "}\n",
    "\n",
    "scroll_chicago = scan(es_chicago, query=query_chicago, index=chicago_index, scroll='5m', timeout='5m', size=10000)\n",
    "\n",
    "counter = 0\n",
    "start_time = time.time()\n",
    "for entry in scroll_chicago:\n",
    "\n",
    "    if not counter%10000:  print(\"Processing event number \", counter)\n",
    "    counter += 1\n",
    "\n",
    "print(\"%s entries processes in %i seconds\" %(counter, time.time() - start_time))"
   ]
  },
  {
   "cell_type": "code",
   "execution_count": null,
   "metadata": {
    "collapsed": true
   },
   "outputs": [],
   "source": []
  }
 ],
 "metadata": {
  "kernelspec": {
   "display_name": "Python 3",
   "language": "python",
   "name": "python3"
  },
  "language_info": {
   "codemirror_mode": {
    "name": "ipython",
    "version": 3
   },
   "file_extension": ".py",
   "mimetype": "text/x-python",
   "name": "python",
   "nbconvert_exporter": "python",
   "pygments_lexer": "ipython3",
   "version": "3.4.5"
  }
 },
 "nbformat": 4,
 "nbformat_minor": 2
}
