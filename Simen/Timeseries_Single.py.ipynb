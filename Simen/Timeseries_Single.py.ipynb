{
 "cells": [
  {
   "cell_type": "code",
   "execution_count": 42,
   "metadata": {
    "collapsed": true
   },
   "outputs": [],
   "source": [
    "#basically same as 20_Largest.py, but now instead of studying pairs of transfer endpoints, look at individual sites(both as sources and destinations)\n",
    "\n",
    "#find the site with the highest number of transfers in an arbitrary time period (say two weeks), look at how various variables change over time. Rate of transfer failure rate for example.\n",
    "\n"
   ]
  },
  {
   "cell_type": "code",
   "execution_count": 43,
   "metadata": {
    "collapsed": false
   },
   "outputs": [
    {
     "name": "stdout",
     "output_type": "stream",
     "text": [
      "Import Packages\n",
      "Done\n"
     ]
    }
   ],
   "source": [
    "#dependencies\n",
    "print(\"Import Packages\")\n",
    "\n",
    "#Elasticsearch\n",
    "from elasticsearch import Elasticsearch\n",
    "#matplotlib.rc('font', **{'size': 15})\n",
    "from elasticsearch.helpers import scan\n",
    "\n",
    "#Time\n",
    "import time\n",
    "from datetime import datetime\n",
    "import pytz #timezones\n",
    "\n",
    "#Plotting\n",
    "%matplotlib inline\n",
    "import matplotlib.pyplot as plt\n",
    "\n",
    "#sorting dicts\n",
    "import operator\n",
    "\n",
    "print(\"Done\")"
   ]
  },
  {
   "cell_type": "code",
   "execution_count": 44,
   "metadata": {
    "collapsed": false
   },
   "outputs": [
    {
     "name": "stdout",
     "output_type": "stream",
     "text": [
      "Define Variables\n",
      "1501513357895 1501599757895\n",
      "Done\n"
     ]
    }
   ],
   "source": [
    "#define variables\n",
    "print(\"Define Variables\")\n",
    "#millis*seconds*minutes*hours*days*weeks\n",
    "interval = 1000*60*60 #plotting granularity\n",
    "twoweeks = 1000*60*60*24#*7#*2\n",
    "\n",
    "pattern = '%Y-%m-%d %H:%M:%S'\n",
    "#pytz.timezone('America/Chicago')                                           \n",
    "now_datetime = datetime.now().strftime(pattern)\n",
    "now = int(time.time() * 1000 + 18000000) #add 5 hour difference from chicago to UTC\n",
    "past = now - twoweeks\n",
    "\n",
    "print(past, now)\n",
    "\n",
    "#print(datetime.now())\n",
    "#print(datetime.now(pytz.timezone('Europe/Oslo')))\n",
    "print(\"Done\")"
   ]
  },
  {
   "cell_type": "code",
   "execution_count": null,
   "metadata": {
    "collapsed": true
   },
   "outputs": [],
   "source": []
  },
  {
   "cell_type": "code",
   "execution_count": 45,
   "metadata": {
    "collapsed": false
   },
   "outputs": [
    {
     "name": "stdout",
     "output_type": "stream",
     "text": [
      "Connecting to chicago kibana\n",
      "Defining Queries\n",
      "Performing Query\n",
      "Done\n"
     ]
    }
   ],
   "source": [
    "print(\"Connecting to chicago kibana\")\n",
    "es = Elasticsearch(['atlas-kibana.mwt2.org:9200'],timeout=60) \n",
    "\n",
    "print(\"Defining Queries\")\n",
    "#define queries\n",
    "query_done = {\n",
    "        \"size\": 0,\n",
    "        \"query\": {\n",
    "        \"bool\": {\n",
    "        \"must\": [\n",
    "        {\n",
    "            \"range\": {\n",
    "            \"@timestamp\": {\n",
    "                \"gte\": past,\n",
    "                \"lte\": now,\n",
    "                \"format\": \"epoch_millis\"\n",
    "                }\n",
    "            }\n",
    "        },\n",
    "            {\"term\": {\"_type\": \"transfer-done\"}},\n",
    "            {\"term\": {\"payload.scope\": \"data16_13TeV\"}}\n",
    "        ]\n",
    "        }\n",
    "        }\n",
    "    }\n",
    "\n",
    "query_failed = {\n",
    "        \"size\": 0,\n",
    "        \"query\": {\n",
    "        \"bool\": {\n",
    "        \"must\": [\n",
    "        {\n",
    "            \"range\": {\n",
    "            \"@timestamp\": {\n",
    "                \"gte\": past,\n",
    "                \"lte\": now,\n",
    "                \"format\": \"epoch_millis\"\n",
    "                 }\n",
    "            }\n",
    "        },\n",
    "            {\"term\": {\"_type\": \"transfer-failed\"}},\n",
    "            {\"term\": {\"payload.scope\": \"data16_13TeV\"}}\n",
    "        ]\n",
    "        }\n",
    "        }\n",
    "    }\n",
    "    \n",
    "#make \"scrolls\"\n",
    "\n",
    "#cern index\n",
    "#my_index = \"atlas_rucio-events*\"\n",
    "\n",
    "#chicago index\n",
    "my_index = \"rucio-events-2017*\"\n",
    "\n",
    "\n",
    "print(\"Performing Query\")\n",
    "scroll_done = scan(es, query=query_done, index=my_index, scroll='5m', timeout=\"5m\", size=100)\n",
    "scroll_errors = scan(es, query=query_failed, index=my_index, scroll='5m', timeout=\"5m\", size=100)\n",
    "print(\"Done\")"
   ]
  },
  {
   "cell_type": "code",
   "execution_count": 46,
   "metadata": {
    "collapsed": false
   },
   "outputs": [
    {
     "name": "stdout",
     "output_type": "stream",
     "text": [
      "Looping over successful transfers\n",
      "Processing event number  0\n",
      "Processing event number  100000\n",
      "Looping over failed transfers\n",
      "Processing event number  0\n",
      "Done\n"
     ]
    }
   ],
   "source": [
    "#loop over scrolls\n",
    "\n",
    "transfers_source = {}\n",
    "transfers_dest = {}\n",
    "failures_source = {}\n",
    "failures_dest = {}\n",
    "\n",
    "print(\"Looping over successful transfers\")\n",
    "count = 0\n",
    "for entry in scroll_done:\n",
    "    if not count%100000:  print(\"Processing event number \",count)\n",
    "    count += 1\n",
    "    source = entry['_source']['payload']['src-rse']\n",
    "    destination = entry['_source']['payload']['dst-rse']\n",
    "    transfertime = entry['_source']['payload']['transferred_at']\n",
    "    #convert transfertime to epoch milliseconds\n",
    "    transfertime = int(time.mktime(time.strptime(transfertime,pattern)))*1000\n",
    "    if source not in transfers_source.keys():\n",
    "        transfers_source[source] = []\n",
    "    else:\n",
    "        transfers_source[source].append(transfertime)\n",
    "    \n",
    "    if destination not in transfers_dest.keys():\n",
    "        transfers_dest[destination] = []\n",
    "    else:\n",
    "        transfers_dest[destination].append(transfertime)\n",
    "    \n",
    " \n",
    "#print(transfers_source)   \n",
    "\n",
    "print(\"Looping over failed transfers\")\n",
    "count = 0\n",
    "for entry in scroll_errors:\n",
    "    if not count%100000:  print(\"Processing event number \",count)\n",
    "    count += 1\n",
    "    source = entry['_source']['payload']['src-rse']\n",
    "    destination = entry['_source']['payload']['dst-rse']\n",
    "    transfertime = entry['_source']['payload']['transferred_at']\n",
    "    #convert transfertime to epoch milliseconds\n",
    "    transfertime = int(time.mktime(time.strptime(transfertime,pattern)))*1000\n",
    "    if source not in failures_source.keys():\n",
    "        failures_source[source] = []\n",
    "    else:\n",
    "        failures_source[source].append(transfertime)\n",
    "    \n",
    "    if destination not in failures_dest.keys():\n",
    "        failures_dest[destination] = []\n",
    "    else:\n",
    "        failures_dest[destination].append(transfertime)\n",
    "    \n",
    "    \n",
    "for entry in transfers_source:\n",
    "    if entry not in failures_source.keys():\n",
    "        failures_source[entry] = []\n",
    "for entry in transfers_dest:\n",
    "    if entry not in failures_dest.keys():\n",
    "        failures_dest[entry] = []\n",
    "for entry in failures_source:\n",
    "    if entry not in transfers_source.keys():\n",
    "        transfers_source[entry] = []\n",
    "for entry in failures_dest:\n",
    "    if entry not in transfers_dest.keys():\n",
    "        transfers_dest[entry] = []\n",
    "        \n",
    "        \n",
    "print(\"Done\")"
   ]
  },
  {
   "cell_type": "code",
   "execution_count": 47,
   "metadata": {
    "collapsed": false
   },
   "outputs": [
    {
     "name": "stdout",
     "output_type": "stream",
     "text": [
      "Finding most popluar site\n",
      "Done\n"
     ]
    }
   ],
   "source": [
    "print(\"Finding most popluar site\")\n",
    "\n",
    "largest_trans_source = []\n",
    "largest_trans_source_err = []\n",
    "largest_trans_source_name = \"name\"\n",
    "largest_trans_dest =  []\n",
    "largest_trans_dest_err = []\n",
    "largest_trans_dest_name = \"name\"\n",
    "largest_error_source = []\n",
    "largest_error_source_name = \"name\"\n",
    "largest_error_dest = []\n",
    "largest_error_dest_name = \"name\"\n",
    "\n",
    "largest = 0\n",
    "for entry in transfers_source:\n",
    "    if len(transfers_source[entry]) > largest:\n",
    "        largest_trans_source = transfers_source[entry]\n",
    "        largest_trans_source_err = failures_source[entry]\n",
    "        largest_trans_source_name = entry\n",
    "        largest = len(transfers_source[entry])\n",
    "\n",
    "largest = 0\n",
    "for entry in transfers_dest:\n",
    "    if len(transfers_dest[entry]) > largest:\n",
    "        largest_trans_dest = transfers_dest[entry]\n",
    "        largest_trans_dest_err = failures_dest[entry]\n",
    "        largest_trans_dest_name = entry\n",
    "        largest = len(transfers_dest[entry])\n",
    "\n",
    "largest = 0\n",
    "for entry in failures_source:\n",
    "    if len(failures_source[entry]) > largest:\n",
    "        largest_error_source = failures_source[entry]\n",
    "        largest_error_source_name = entry\n",
    "        largest = len(failures_source[entry])\n",
    "\n",
    "largest = 0\n",
    "for entry in failures_dest:\n",
    "    if len(failures_dest[entry]) > largest:\n",
    "        largest_error_dest = failures_dest[entry]\n",
    "        largest_error_dest_name = entry\n",
    "        largest = len(failures_dest[entry])\n",
    "\n",
    "print(\"Done\")"
   ]
  },
  {
   "cell_type": "code",
   "execution_count": 48,
   "metadata": {
    "collapsed": false
   },
   "outputs": [
    {
     "name": "stdout",
     "output_type": "stream",
     "text": [
      "Sorting into time intervals\n",
      "progress: 30 %\n",
      "progress: 50 %\n",
      "progress: 80 %\n",
      "progress: 100 %\n",
      "Done\n"
     ]
    }
   ],
   "source": [
    "print(\"Sorting into time intervals\")\n",
    "\n",
    "sorted_trans_source = []\n",
    "sorted_trans_dest = []\n",
    "sorted_trans_source_err = []\n",
    "sorted_trans_dest_err = []\n",
    "sorted_error_source = []\n",
    "sorted_error_dest = []\n",
    "sorted_rate_source = []\n",
    "sorted_rate_dest = []\n",
    "\n",
    "\n",
    "timekeeper = past\n",
    "while timekeeper <= now:\n",
    "    \n",
    "    bookkeeper_trans_source = 0\n",
    "    bookkeeper_trans_dest = 0\n",
    "    bookkeeper_trans_source_err = 0\n",
    "    bookkeeper_trans_dest_err = 0\n",
    "    bookkeeper_error_source = 0\n",
    "    bookkeeper_error_dest = 0\n",
    "    \n",
    "    for timestamp in largest_trans_source:\n",
    "        if timestamp > timekeeper and timestamp <= (timekeeper + interval):\n",
    "            bookkeeper_trans_source += 1\n",
    "    sorted_trans_source.append(bookkeeper_trans_source)\n",
    "    \n",
    "    for timestamp in largest_trans_dest:\n",
    "        if timestamp > timekeeper and timestamp <= (timekeeper + interval):\n",
    "            bookkeeper_trans_dest += 1\n",
    "    sorted_trans_dest.append(bookkeeper_trans_dest)\n",
    "    \n",
    "    #failed transfer at sites with most successful transfer. Used to calculate transfer failure rate of these sites\n",
    "    for timestamp in largest_trans_source_err:\n",
    "        if timestamp > timekeeper and timestamp <= (timekeeper + interval):\n",
    "            bookkeeper_trans_source_err += 1\n",
    "    sorted_trans_source_err.append(bookkeeper_trans_source_err)\n",
    "    \n",
    "    for timestamp in largest_trans_dest_err:\n",
    "        if timestamp > timekeeper and timestamp <= (timekeeper + interval):\n",
    "            bookkeeper_trans_dest_err += 1\n",
    "    sorted_trans_dest_err.append(bookkeeper_trans_dest_err)\n",
    "    \n",
    "    \n",
    "    for timestamp in largest_error_source:\n",
    "        if timestamp > timekeeper and timestamp <= (timekeeper + interval):\n",
    "            bookkeeper_error_source += 1\n",
    "    sorted_error_source.append(bookkeeper_error_source)\n",
    "    \n",
    "    for timestamp in largest_error_dest:\n",
    "        if timestamp > timekeeper and timestamp <= (timekeeper + interval):\n",
    "            bookkeeper_error_dest += 1\n",
    "    sorted_error_dest.append(bookkeeper_error_dest)\n",
    "    \n",
    "    if bookkeeper_trans_source == 0 and bookkeeper_trans_source_err == 0:\n",
    "        sorted_rate_source.append(0.)\n",
    "    else:\n",
    "        sorted_rate_source.append(bookkeeper_trans_source_err/(bookkeeper_trans_source_err + bookkeeper_trans_source))\n",
    "    \n",
    "    if bookkeeper_trans_dest == 0 and bookkeeper_trans_dest_err == 0:\n",
    "        sorted_rate_dest.append(0.)\n",
    "    else:\n",
    "        sorted_rate_dest.append(bookkeeper_trans_dest_err/(bookkeeper_trans_dest_err + bookkeeper_trans_dest))\n",
    "    \n",
    "    timekeeper += interval #IMPORTANT. Increase time interval to avoid eternal loop\n",
    "    if (100 - int(100*(now-timekeeper)/(now-past))) % 10 == 0: \n",
    "        print(\"progress: %s %%\" %(100 - int(100*(now-timekeeper)/(now-past))))\n",
    "    \n",
    "\n",
    "print(\"Done\")"
   ]
  },
  {
   "cell_type": "code",
   "execution_count": 50,
   "metadata": {
    "collapsed": false
   },
   "outputs": [
    {
     "name": "stdout",
     "output_type": "stream",
     "text": [
      "Plotting\n",
      "Largest source of successful transfers:  UKI-LT2-RHUL_DATADISK\n"
     ]
    },
    {
     "data": {
      "image/png": "[encoded data removed]",
      "text/plain": [
       "<matplotlib.figure.Figure at 0x7f9748795f98>"
      ]
     },
     "metadata": {},
     "output_type": "display_data"
    },
    {
     "name": "stdout",
     "output_type": "stream",
     "text": [
      "Largest recipient of successful transfers:  CERN-PROD_DATADISK\n"
     ]
    },
    {
     "data": {
      "image/png": "[encoded data removed]",
      "text/plain": [
       "<matplotlib.figure.Figure at 0x7f974f54cf98>"
      ]
     },
     "metadata": {},
     "output_type": "display_data"
    },
    {
     "name": "stdout",
     "output_type": "stream",
     "text": [
      "Largest source of failed transfers:  SFU-LCG2_DATADISK\n"
     ]
    },
    {
     "data": {
      "image/png": "[encoded data removed]",
      "text/plain": [
       "<matplotlib.figure.Figure at 0x7f974c62a908>"
      ]
     },
     "metadata": {},
     "output_type": "display_data"
    },
    {
     "name": "stdout",
     "output_type": "stream",
     "text": [
      "Largest recipient of failed transfers:  CERN-PROD_DATADISK\n"
     ]
    },
    {
     "data": {
      "image/png": "[encoded data removed]",
      "text/plain": [
       "<matplotlib.figure.Figure at 0x7f974c725160>"
      ]
     },
     "metadata": {},
     "output_type": "display_data"
    },
    {
     "name": "stdout",
     "output_type": "stream",
     "text": [
      "Done\n"
     ]
    }
   ],
   "source": [
    "print(\"Plotting\")\n",
    "\n",
    "\n",
    "\n",
    "print(\"Largest source of successful transfers: \", largest_trans_source_name)\n",
    "\n",
    "fig, ax = plt.subplots()\n",
    "\n",
    "# Twin the x-axis to make independent y-axes.\n",
    "axes = [ax, ax.twinx()]\n",
    "    \n",
    "axes[0].plot(sorted_rate_source, color='Blue')\n",
    "axes[0].set_ylabel('Failure Rate', color='Blue')\n",
    "axes[0].tick_params(axis='y', colors='Blue')\n",
    "    \n",
    "axes[1].plot(sorted_trans_source,color='Green')\n",
    "axes[1].set_ylabel('Transfers', color='Black')\n",
    "axes[1].tick_params(axis='y', colors='Black')\n",
    "    \n",
    "axes[1].plot(sorted_trans_source_err,color='Red')\n",
    "\n",
    "\n",
    "    \n",
    "plt.show()\n",
    "\n",
    "#plt.plot(sorted_trans_source)\n",
    "#plt.show()\n",
    "\n",
    "print(\"Largest recipient of successful transfers: \", largest_trans_dest_name)\n",
    "fig, ax = plt.subplots()\n",
    "\n",
    "# Twin the x-axis to make independent y-axes.\n",
    "axes = [ax, ax.twinx()]\n",
    "    \n",
    "axes[0].plot(sorted_rate_dest, color='Blue')\n",
    "axes[0].set_ylabel('Failure Rate', color='Blue')\n",
    "axes[0].tick_params(axis='y', colors='Blue')\n",
    "    \n",
    "axes[1].plot(sorted_trans_dest,color='Green')\n",
    "axes[1].set_ylabel('Transfers', color='Black')\n",
    "axes[1].tick_params(axis='y', colors='Black')\n",
    "    \n",
    "axes[1].plot(sorted_trans_dest_err,color='Red')\n",
    "    \n",
    "plt.show()\n",
    "\n",
    "\n",
    "\n",
    "\n",
    "#plt.plot(sorted_trans_dest)\n",
    "#plt.show()\n",
    "\n",
    "print(\"Largest source of failed transfers: \", largest_error_source_name)\n",
    "plt.plot(sorted_error_source)\n",
    "plt.show()\n",
    "\n",
    "print(\"Largest recipient of failed transfers: \", largest_error_dest_name)\n",
    "plt.plot(sorted_error_dest)\n",
    "plt.show()\n",
    "\n",
    "print(\"Done\")"
   ]
  },
  {
   "cell_type": "code",
   "execution_count": null,
   "metadata": {
    "collapsed": true
   },
   "outputs": [],
   "source": []
  }
 ],
 "metadata": {
  "kernelspec": {
   "display_name": "Python 3",
   "language": "python",
   "name": "python3"
  },
  "language_info": {
   "codemirror_mode": {
    "name": "ipython",
    "version": 3
   },
   "file_extension": ".py",
   "mimetype": "text/x-python",
   "name": "python",
   "nbconvert_exporter": "python",
   "pygments_lexer": "ipython3",
   "version": "3.5.1"
  }
 },
 "nbformat": 4,
 "nbformat_minor": 0
}
