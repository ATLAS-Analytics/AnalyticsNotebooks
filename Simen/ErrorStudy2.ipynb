{
 "cells": [
  {
   "cell_type": "raw",
   "metadata": {},
   "source": [
    "Same as the first error study, but with less querries to elasticsearch."
   ]
  },
  {
   "cell_type": "code",
   "execution_count": 1,
   "metadata": {
    "collapsed": true
   },
   "outputs": [],
   "source": [
    "#import packages etc\n",
    "import matplotlib\n",
    "import numpy as np\n",
    "import matplotlib.pyplot as plt\n",
    "import scipy\n",
    "import re\n",
    "from elasticsearch import Elasticsearch\n",
    "matplotlib.rc('font', **{'size': 15})\n",
    "from elasticsearch.helpers import scan\n",
    "import time\n",
    "import operator"
   ]
  },
  {
   "cell_type": "code",
   "execution_count": 2,
   "metadata": {
    "collapsed": false
   },
   "outputs": [
    {
     "name": "stdout",
     "output_type": "stream",
     "text": [
      "Declaring variables.\n",
      "Done.\n"
     ]
    }
   ],
   "source": [
    "#declare variables\n",
    "print(\"Declaring variables.\")\n",
    "\n",
    "#epoch times of start and end of time interval. \n",
    "#first week of february. monday 30. Jan to sunday 5. feb.\n",
    "#found using epochconverter.com\n",
    "#epoch time must be in milliseconds\n",
    "epoch_start = 1485730800000 #jan 30th 00.00.00\n",
    "epoch_end = 1486335599000 #feb 5th 23.59.59\n",
    "#epoch_end = 1485820799000 # jan30th 23.59.59 (one day for testing)\n",
    "\n",
    "loop_time = epoch_start #time variable in loop\n",
    "\n",
    "#loop time increments . one minute? five minutes?\n",
    "increment = 5 * 60 * 1000; #milliseconds\n",
    "\n",
    "#thresholds for defining an error\n",
    "failure_rate = .9 #failure rate threshold. Q: what is the threshold of red cells in DDM dashboard?\n",
    "file_thresh = 10 #number of files threshold.\n",
    "persist_thresh = 15 * 60 * 1000; #milliseconds. time needed before alert is sent.\n",
    "\n",
    "#number of alarms\n",
    "alarms = 0\n",
    "\n",
    "\n",
    "#some kind of dictionary with pairs of sites, and some variable keeping track of time\n",
    "#if pairs stay on this list too long an alarm is raised {[source,destination]:loop_time}\n",
    "observed_endpoints = {}\n",
    "\n",
    "#dict of when an alert was made and what pair is failing {when: [source,receiver]}\n",
    "print(\"Done.\")"
   ]
  },
  {
   "cell_type": "code",
   "execution_count": 3,
   "metadata": {
    "collapsed": false
   },
   "outputs": [
    {
     "name": "stdout",
     "output_type": "stream",
     "text": [
      "Defining ElasticSearch querries.\n",
      "Defining scrolls.\n",
      "Done.\n"
     ]
    }
   ],
   "source": [
    "#Elasticsearch querries\n",
    "print(\"Defining ElasticSearch querries.\")\n",
    "query_done = {\n",
    "    \"size\": 0,\n",
    "    \"query\": {\n",
    "    \"bool\": {\n",
    "    \"must\": [\n",
    "    {\n",
    "        \"range\": {\n",
    "        \"@timestamp\": {\n",
    "            \"gte\": epoch_start,\n",
    "            \"lte\": epoch_end,\n",
    "            \"format\": \"epoch_millis\"\n",
    "            }\n",
    "        }\n",
    "    },\n",
    "        {\"term\": {\"event_type\": \"transfer-done\"}},\n",
    "        {\"term\": {\"payload.scope\": \"data16_13TeV\"}}\n",
    "    ]\n",
    "    }\n",
    "    }\n",
    "}\n",
    "query_failed = {\n",
    "    \"size\": 0,\n",
    "    \"query\": {\n",
    "    \"bool\": {\n",
    "    \"must\": [\n",
    "    {\n",
    "        \"range\": {\n",
    "            \"@timestamp\": {\n",
    "            \"gte\": epoch_start,\n",
    "            \"lte\": epoch_end,\n",
    "            \"format\": \"epoch_millis\"\n",
    "             }\n",
    "            }\n",
    "           },\n",
    "          {\"term\": {\"event_type\": \"transfer-failed\"}},\n",
    "          {\"term\": {\"payload.scope\": \"data16_13TeV\"}}\n",
    "        ]\n",
    "        }\n",
    "    }\n",
    "}\n",
    "\n",
    "\n",
    "#make scrolls\n",
    "print(\"Defining scrolls.\")\n",
    "# make scrolls\n",
    "es = Elasticsearch(['atlas-kibana.mwt2.org:9200'],timeout=60) \n",
    "my_index = \"rucio-events-2017*\"\n",
    "scroll_done = scan(es, query=query_done, index=my_index, scroll='5m', timeout=\"5m\", size=100)\n",
    "scroll_errors = scan(es, query=query_failed, index=my_index, scroll='5m', timeout=\"5m\", size=100)\n",
    "\n",
    "\n",
    "print(\"Done.\")"
   ]
  }
 ],
 "metadata": {
  "kernelspec": {
   "display_name": "Python 3",
   "language": "python",
   "name": "python3"
  },
  "language_info": {
   "codemirror_mode": {
    "name": "ipython",
    "version": 3
   },
   "file_extension": ".py",
   "mimetype": "text/x-python",
   "name": "python",
   "nbconvert_exporter": "python",
   "pygments_lexer": "ipython3",
   "version": "3.5.1"
  }
 },
 "nbformat": 4,
 "nbformat_minor": 0
}
