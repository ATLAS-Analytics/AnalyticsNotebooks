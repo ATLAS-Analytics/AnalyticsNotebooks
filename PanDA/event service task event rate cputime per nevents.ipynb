{
 "cells": [
  {
   "cell_type": "raw",
   "metadata": {},
   "source": [
    "For a given jeditaskid return the Panda Job ID and the number of events"
   ]
  },
  {
   "cell_type": "code",
   "execution_count": null,
   "metadata": {
    "collapsed": true
   },
   "outputs": [],
   "source": []
  },
  {
   "cell_type": "code",
   "execution_count": 4,
   "metadata": {
    "collapsed": true
   },
   "outputs": [],
   "source": [
    "%matplotlib inline\n",
    "import numpy as np\n",
    "import matplotlib.pyplot as plt\n",
    "from datetime import datetime\n",
    "from elasticsearch import Elasticsearch, exceptions as es_exceptions\n",
    "from elasticsearch.helpers import scan\n",
    "es = Elasticsearch(hosts=[{'host':'atlas-kibana.mwt2.org', 'port':9200}],timeout=180)"
   ]
  },
  {
   "cell_type": "code",
   "execution_count": 1,
   "metadata": {
    "collapsed": false
   },
   "outputs": [
    {
     "name": "stdout",
     "output_type": "stream",
     "text": [
      "{'hits': {'max_score': None, 'total': 0, 'hits': []}, 'timed_out': False, '_shards': {'successful': 650, 'total': 650, 'failed': 0}, 'took': 64}\n"
     ]
    }
   ],
   "source": [
    "%matplotlib inline\n",
    "import numpy as np\n",
    "import matplotlib.pyplot as plt\n",
    "from datetime import datetime\n",
    "from elasticsearch import Elasticsearch, exceptions as es_exceptions\n",
    "from elasticsearch.helpers import scan\n",
    "\n",
    "es = Elasticsearch(hosts=[{'host':'atlas-kibana.mwt2.org', 'port':9200}],timeout=180)\n",
    "\n",
    "ind=\"jobs2016\"\n",
    "\n",
    "ss = {\n",
    "  \"query\": {\n",
    "    \"filtered\": {\n",
    "      \"filter\" : {\n",
    "        \"range\" : {\n",
    "          \"nevents\" : { \"gt\" : 0 } \n",
    "          }\n",
    "      },\n",
    "      \"query\" : {\n",
    "        \"match\" : {\n",
    "          \"jeditaskid\" : \"8764489\" \n",
    "        }\n",
    "      }\n",
    "    }\n",
    "  }\n",
    "}\n",
    "\n",
    "res= es.search( index=ind, body=ss, analyze_wildcard=True)\n",
    "print (res)\n",
    "#scroll = scan(es, query=ss, index=ind)\n",
    "scroll = scan(es, query=ss, index=ind, scroll='10s')\n",
    "\n",
    "fi=[]\n",
    "fa=[]\n",
    "for res in scroll:\n",
    "    print (res)\n",
    "    #r=res['fields']\n",
    "    #if r['jobstatus'][0]=='finished':\n",
    "    #    fi.append(r['wall_time'][0]/3600)\n",
    "    #elif r['jobstatus'][0]=='failed':\n",
    "    #    fa.append(r['wall_time'][0]/3600)\n"
   ]
  },
  {
   "cell_type": "code",
   "execution_count": 6,
   "metadata": {
    "collapsed": false,
    "scrolled": true
   },
   "outputs": [
    {
     "name": "stdout",
     "output_type": "stream",
     "text": [
      "1386\n"
     ]
    },
    {
     "data": {
      "image/png": "[encoded data removed]",
      "text/plain": [
       "<matplotlib.figure.Figure at 0x7fbfac217160>"
      ]
     },
     "metadata": {},
     "output_type": "display_data"
    }
   ],
   "source": [
    "%matplotlib inline\n",
    "import numpy as np\n",
    "import matplotlib.pyplot as plt\n",
    "from datetime import datetime\n",
    "from elasticsearch import Elasticsearch, exceptions as es_exceptions\n",
    "from elasticsearch.helpers import scan\n",
    "\n",
    "es = Elasticsearch(hosts=[{'host':'atlas-kibana.mwt2.org', 'port':9200}],timeout=180)\n",
    "\n",
    "indices=es.indices.get_aliases().keys()\n",
    "jobs_indices=[]\n",
    "sorted_indices = sorted(indices)\n",
    "for index in sorted_indices:\n",
    "    if \"jobs_archive_2016\" in index:\n",
    "        jobs_indices.append(index)\n",
    "        #print(index)\n",
    "ss = {\n",
    "  \"fields\": [\"nevents\",\"wall_time\",\"jobstatus\",\"cpuconsumptiontime\",\"pandaid\",\"transformation\",\"jobmetrics\"],\n",
    "  \"query\": {\n",
    "    \"filtered\": {\n",
    "      \"filter\" : {\n",
    "        \"range\" : {\n",
    "          \"nevents\" : { \"gt\" : 0 } \n",
    "          }\n",
    "      },\n",
    "      \"query\" : {\n",
    "        \"match\" : {\n",
    "          \"jeditaskid\" : \"8764489\" \n",
    "        }\n",
    "      }\n",
    "    }\n",
    "  }\n",
    "}\n",
    "\n",
    "fi=[]\n",
    "fa=[]\n",
    "\n",
    "for ind in jobs_indices:\n",
    "    scroll = scan(es, query=ss, index=ind, scroll='10s')\n",
    "    for res in scroll:\n",
    "        r = res['fields']\n",
    "        if r['transformation'][0] == 'Sim_tf.py' and int(r['cpuconsumptiontime'][0]) > 0 :            \n",
    "            #print(r)\n",
    "            #print (r['nevents'][0])\n",
    "            #print (r['cpuconsumptiontime'][0])\n",
    "            fi.append(float(r['cpuconsumptiontime'][0])/float(r['nevents'][0]))\n",
    "\n",
    "#for ind in jobs_indices:\n",
    "#    res= es.search( index=ind, body=ss, analyze_wildcard=True)\n",
    "#    print (res)\n",
    "\n",
    "print (len(fi))\n",
    "\n",
    "plt.hist([fi],bins=30, log=True, alpha=0.5, stacked=False, label=['cputime per event'])\n",
    "plt.legend(loc='upper right')\n",
    "plt.show()"
   ]
  },
  {
   "cell_type": "code",
   "execution_count": 8,
   "metadata": {
    "collapsed": false
   },
   "outputs": [
    {
     "name": "stdout",
     "output_type": "stream",
     "text": [
      "6198\n"
     ]
    },
    {
     "data": {
      "image/png": "[encoded data removed]",
      "text/plain": [
       "<matplotlib.figure.Figure at 0x7fbf89d91fd0>"
      ]
     },
     "metadata": {},
     "output_type": "display_data"
    }
   ],
   "source": [
    "%matplotlib inline\n",
    "import numpy as np\n",
    "import matplotlib.pyplot as plt\n",
    "from datetime import datetime\n",
    "from elasticsearch import Elasticsearch, exceptions as es_exceptions\n",
    "from elasticsearch.helpers import scan\n",
    "\n",
    "es = Elasticsearch(hosts=[{'host':'atlas-kibana.mwt2.org', 'port':9200}],timeout=180)\n",
    "\n",
    "indices=es.indices.get_aliases().keys()\n",
    "jobs_indices=[]\n",
    "sorted_indices = sorted(indices)\n",
    "for index in sorted_indices:\n",
    "    if \"jobs_archive_2016\" in index:\n",
    "        jobs_indices.append(index)\n",
    "        #print(index)\n",
    "ss = {\n",
    "  \"fields\": [\"nevents\",\"wall_time\",\"jobstatus\",\"cpuconsumptiontime\",\"pandaid\",\"transformation\",\"jobmetrics\"],\n",
    "  \"query\": {\n",
    "    \"filtered\": {\n",
    "      \"filter\" : {\n",
    "        \"range\" : {\n",
    "          \"nevents\" : { \"gt\" : 0 } \n",
    "          }\n",
    "      },\n",
    "      \"query\" : {\n",
    "        \"match\" : {\n",
    "          \"jeditaskid\" : \"8848710\" \n",
    "        }\n",
    "      }\n",
    "    }\n",
    "  }\n",
    "}\n",
    "\n",
    "fi=[]\n",
    "fa=[]\n",
    "\n",
    "for ind in jobs_indices:\n",
    "    scroll = scan(es, query=ss, index=ind, scroll='10s')\n",
    "    for res in scroll:\n",
    "        r = res['fields']\n",
    "        if r['transformation'][0] == 'Sim_tf.py' and int(r['cpuconsumptiontime'][0]) > 0 :            \n",
    "            #print(r)\n",
    "            #print (r['nevents'][0])\n",
    "            #print (r['cpuconsumptiontime'][0])\n",
    "            fi.append(float(r['cpuconsumptiontime'][0])/float(r['nevents'][0]))\n",
    "\n",
    "#for ind in jobs_indices:\n",
    "#    res= es.search( index=ind, body=ss, analyze_wildcard=True)\n",
    "#    print (res)\n",
    "\n",
    "print (len(fi))\n",
    "\n",
    "plt.hist([fi],bins=30, log=True, alpha=0.5, stacked=False, label=['cputime per event (NERSC)'])\n",
    "plt.legend(loc='upper right')\n",
    "plt.show()"
   ]
  },
  {
   "cell_type": "code",
   "execution_count": null,
   "metadata": {
    "collapsed": true
   },
   "outputs": [],
   "source": []
  }
 ],
 "metadata": {
  "kernelspec": {
   "display_name": "Python 3",
   "language": "python",
   "name": "python3"
  },
  "language_info": {
   "codemirror_mode": {
    "name": "ipython",
    "version": 3
   },
   "file_extension": ".py",
   "mimetype": "text/x-python",
   "name": "python",
   "nbconvert_exporter": "python",
   "pygments_lexer": "ipython3",
   "version": "3.5.1"
  }
 },
 "nbformat": 4,
 "nbformat_minor": 0
}
