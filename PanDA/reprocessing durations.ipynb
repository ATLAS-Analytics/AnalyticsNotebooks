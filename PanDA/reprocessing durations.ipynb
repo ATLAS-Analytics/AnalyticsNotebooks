{
 "cells": [
  {
   "cell_type": "raw",
   "metadata": {},
   "source": [
    "For a given rtag returns a number of averages, plots of wall time depending on jobstatus."
   ]
  },
  {
   "cell_type": "code",
   "execution_count": 1,
   "metadata": {
    "collapsed": true
   },
   "outputs": [],
   "source": [
    "q=\"jobname:*r7725.*\""
   ]
  },
  {
   "cell_type": "code",
   "execution_count": 2,
   "metadata": {
    "collapsed": true
   },
   "outputs": [],
   "source": [
    "%matplotlib inline\n",
    "import numpy as np\n",
    "import matplotlib.pyplot as plt\n",
    "from datetime import datetime\n",
    "from elasticsearch import Elasticsearch, exceptions as es_exceptions\n",
    "from elasticsearch.helpers import scan\n",
    "es = Elasticsearch(hosts=[{'host':'atlas-kibana.mwt2.org', 'port':9200}],timeout=60)"
   ]
  },
  {
   "cell_type": "code",
   "execution_count": 3,
   "metadata": {
    "collapsed": false
   },
   "outputs": [],
   "source": [
    "ind=\"jobs2016\"\n",
    "\n",
    "ss = {\n",
    "  \"size\": 0,\n",
    "  \"aggs\": {\n",
    "    \"2\": {\n",
    "      \"terms\": {\n",
    "        \"field\": \"jobstatus\", \"size\": 5,\n",
    "        \"order\": { \"_count\": \"desc\" }\n",
    "      },\n",
    "      \"aggs\": {\n",
    "        \"3\": { \"avg\": { \"field\": \"wall_time\"  }   },\n",
    "        \"4\": { \"avg\": { \"field\": \"nevents\"  } },\n",
    "        \"5\": { \"avg\": {   \"field\": \"cpuconsumptiontime\"  }  },\n",
    "        \"6\": { \"avg\": { \"field\": \"corecount\" }  },\n",
    "        \"7\": { \"avg\": { \"field\": \"inputfilebytes\" }  },\n",
    "        \"8\": { \"sum\": {  \"field\": \"inputfilebytes\" }  }\n",
    "      }\n",
    "    }\n",
    "  },\n",
    "  \"query\": {\n",
    "    \"filtered\": {\n",
    "      \"query\": {  \"query_string\": { \"analyze_wildcard\": True, \"lowercase_expanded_terms\": False,  \"query\": q }  }\n",
    "    }\n",
    "  }\n",
    "}"
   ]
  },
  {
   "cell_type": "code",
   "execution_count": 4,
   "metadata": {
    "collapsed": false
   },
   "outputs": [
    {
     "name": "stdout",
     "output_type": "stream",
     "text": [
      "finished \tjobs: 503451 \tevents: 1997.8878341685686 \t avg.cores: 7.997650199524478\n",
      "wall time: 20240.084095572358 \twalltime per event per core: 81.02212238191582 [s/ev/core]\n",
      "cpu time : 101666.42480996164 \tcputtime per event: 50.886953246937736 \tcpu eff.: 0.6280624569061614\n",
      "--------------------------------------------------------\n",
      "failed \tjobs: 165454 \tevents: 804.7216869945726 \t avg.cores: 7.99978846084108\n",
      "wall time: 13881.255835458798 \twalltime per event per core: 137.99442968813037 [s/ev/core]\n",
      "cpu time : 33962.63133559781 \tcputtime per event: 42.204195418716075 \tcpu eff.: 0.305839848130814\n",
      "--------------------------------------------------------\n",
      "cancelled \tjobs: 2004 \tevents: 820.8582834331337 \t avg.cores: 8.0\n",
      "wall time: 23957.48403193613 \twalltime per event per core: 233.48716352583588 [s/ev/core]\n",
      "cpu time : 80744.50449101797 \tcputtime per event: 98.36594954407296 \tcpu eff.: 0.4212906099790302\n",
      "--------------------------------------------------------\n"
     ]
    }
   ],
   "source": [
    "res= es.search( index=ind, body=ss, analyze_wildcard=True)\n",
    "\n",
    "# print(res)\n",
    "for r in res['aggregations']['2']['buckets']:\n",
    "    cores=r['6']['value']\n",
    "    wall=r['3']['value']\n",
    "    events=r['4']['value']\n",
    "    cpu=r['5']['value']\n",
    "    \n",
    "    if events<1: continue\n",
    "    secPerEvent=wall/events*cores\n",
    "    cpueff=cpu/(wall*cores)\n",
    "    print (r['key'], \"\\tjobs:\", r['doc_count'],\"\\tevents:\", events, '\\t avg.cores:', cores)\n",
    "    print (\"wall time:\", wall, \"\\twalltime per event per core:\", secPerEvent, \"[s/ev/core]\" ) \n",
    "    print (\"cpu time :\", cpu,  \"\\tcputtime per event:\", cpu/events ,\"\\tcpu eff.:\", cpueff ) \n",
    "    print ('--------------------------------------------------------')\n"
   ]
  },
  {
   "cell_type": "code",
   "execution_count": 5,
   "metadata": {
    "collapsed": false
   },
   "outputs": [
    {
     "ename": "ScanError",
     "evalue": "Scroll request has failed on 57 shards out of 460.",
     "output_type": "error",
     "traceback": [
      "\u001b[1;31m---------------------------------------------------------------------------\u001b[0m",
      "\u001b[1;31mScanError\u001b[0m                                 Traceback (most recent call last)",
      "\u001b[1;32m<ipython-input-5-55fcaf59d1b8>\u001b[0m in \u001b[0;36m<module>\u001b[1;34m()\u001b[0m\n\u001b[0;32m     11\u001b[0m \u001b[0mfi\u001b[0m\u001b[1;33m=\u001b[0m\u001b[1;33m[\u001b[0m\u001b[1;33m]\u001b[0m\u001b[1;33m\u001b[0m\u001b[0m\n\u001b[0;32m     12\u001b[0m \u001b[0mfa\u001b[0m\u001b[1;33m=\u001b[0m\u001b[1;33m[\u001b[0m\u001b[1;33m]\u001b[0m\u001b[1;33m\u001b[0m\u001b[0m\n\u001b[1;32m---> 13\u001b[1;33m \u001b[1;32mfor\u001b[0m \u001b[0mres\u001b[0m \u001b[1;32min\u001b[0m \u001b[0mscroll\u001b[0m\u001b[1;33m:\u001b[0m\u001b[1;33m\u001b[0m\u001b[0m\n\u001b[0m\u001b[0;32m     14\u001b[0m     \u001b[0mr\u001b[0m\u001b[1;33m=\u001b[0m\u001b[0mres\u001b[0m\u001b[1;33m[\u001b[0m\u001b[1;34m'fields'\u001b[0m\u001b[1;33m]\u001b[0m\u001b[1;33m\u001b[0m\u001b[0m\n\u001b[0;32m     15\u001b[0m     \u001b[1;32mif\u001b[0m \u001b[0mr\u001b[0m\u001b[1;33m[\u001b[0m\u001b[1;34m'jobstatus'\u001b[0m\u001b[1;33m]\u001b[0m\u001b[1;33m[\u001b[0m\u001b[1;36m0\u001b[0m\u001b[1;33m]\u001b[0m\u001b[1;33m==\u001b[0m\u001b[1;34m'finished'\u001b[0m\u001b[1;33m:\u001b[0m\u001b[1;33m\u001b[0m\u001b[0m\n",
      "\u001b[1;32m/home/ivukotic/anaconda3/lib/python3.5/site-packages/elasticsearch/helpers/__init__.py\u001b[0m in \u001b[0;36mscan\u001b[1;34m(client, query, scroll, raise_on_error, preserve_order, **kwargs)\u001b[0m\n\u001b[0;32m    297\u001b[0m                 raise ScanError(\n\u001b[0;32m    298\u001b[0m                     \u001b[1;34m'Scroll request has failed on %d shards out of %d.'\u001b[0m \u001b[1;33m%\u001b[0m\u001b[1;33m\u001b[0m\u001b[0m\n\u001b[1;32m--> 299\u001b[1;33m                     \u001b[1;33m(\u001b[0m\u001b[0mresp\u001b[0m\u001b[1;33m[\u001b[0m\u001b[1;34m'_shards'\u001b[0m\u001b[1;33m]\u001b[0m\u001b[1;33m[\u001b[0m\u001b[1;34m'failed'\u001b[0m\u001b[1;33m]\u001b[0m\u001b[1;33m,\u001b[0m \u001b[0mresp\u001b[0m\u001b[1;33m[\u001b[0m\u001b[1;34m'_shards'\u001b[0m\u001b[1;33m]\u001b[0m\u001b[1;33m[\u001b[0m\u001b[1;34m'total'\u001b[0m\u001b[1;33m]\u001b[0m\u001b[1;33m)\u001b[0m\u001b[1;33m\u001b[0m\u001b[0m\n\u001b[0m\u001b[0;32m    300\u001b[0m                 )\n\u001b[0;32m    301\u001b[0m \u001b[1;33m\u001b[0m\u001b[0m\n",
      "\u001b[1;31mScanError\u001b[0m: Scroll request has failed on 57 shards out of 460."
     ]
    }
   ],
   "source": [
    "ss = {\n",
    "  \"fields\": [\"wall_time\",\"jobstatus\"],\n",
    "  \"query\": {\n",
    "    \"filtered\": {\n",
    "      \"query\": {  \"query_string\": { \"analyze_wildcard\": True, \"lowercase_expanded_terms\": False,  \"query\": q }  }\n",
    "    }\n",
    "  }\n",
    "}\n",
    "\n",
    "scroll = scan(es, query=ss, index=ind, scroll='10s')\n",
    "fi=[]\n",
    "fa=[]\n",
    "for res in scroll:\n",
    "    r=res['fields']\n",
    "    if r['jobstatus'][0]=='finished':\n",
    "        fi.append(r['wall_time'][0]/3600)\n",
    "    elif r['jobstatus'][0]=='failed':\n",
    "        fa.append(r['wall_time'][0]/3600)\n"
   ]
  },
  {
   "cell_type": "code",
   "execution_count": null,
   "metadata": {
    "collapsed": false,
    "scrolled": true
   },
   "outputs": [],
   "source": [
    "plt.hist(fi,bins=30, log=True, alpha=0.5, label='finished')\n",
    "plt.hist(fa,bins=30, log=True, alpha=0.5, label='failed')\n",
    "plt.legend(loc='upper right')\n",
    "plt.show()"
   ]
  },
  {
   "cell_type": "code",
   "execution_count": null,
   "metadata": {
    "collapsed": true
   },
   "outputs": [],
   "source": []
  }
 ],
 "metadata": {
  "kernelspec": {
   "display_name": "Python 3",
   "language": "python",
   "name": "python3"
  },
  "language_info": {
   "codemirror_mode": {
    "name": "ipython",
    "version": 3
   },
   "file_extension": ".py",
   "mimetype": "text/x-python",
   "name": "python",
   "nbconvert_exporter": "python",
   "pygments_lexer": "ipython3",
   "version": "3.5.1"
  }
 },
 "nbformat": 4,
 "nbformat_minor": 0
}
