{
 "cells": [
  {
   "cell_type": "raw",
   "metadata": {},
   "source": [
    "For a given rtag returns a number of averages, plots of wall time depending on jobstatus."
   ]
  },
  {
   "cell_type": "code",
   "execution_count": 1,
   "metadata": {
    "collapsed": true
   },
   "outputs": [],
   "source": [
    "q=\"jobname:*r7725.*\""
   ]
  },
  {
   "cell_type": "code",
   "execution_count": 1,
   "metadata": {
    "collapsed": true
   },
   "outputs": [],
   "source": [
    "%matplotlib inline\n",
    "import numpy as np\n",
    "import matplotlib.pyplot as plt\n",
    "from datetime import datetime\n",
    "from elasticsearch import Elasticsearch, exceptions as es_exceptions\n",
    "from elasticsearch.helpers import scan\n",
    "es = Elasticsearch(hosts=[{'host':'atlas-kibana.mwt2.org', 'port':9200}],timeout=180)"
   ]
  },
  {
   "cell_type": "code",
   "execution_count": 3,
   "metadata": {},
   "outputs": [],
   "source": [
    "ind=\"jobs2016\"\n",
    "\n",
    "ss = {\n",
    "  \"size\": 0,\n",
    "  \"aggs\": {\n",
    "    \"2\": {\n",
    "      \"terms\": {\n",
    "        \"field\": \"jobstatus\", \"size\": 5,\n",
    "        \"order\": { \"_count\": \"desc\" }\n",
    "      },\n",
    "      \"aggs\": {\n",
    "        \"3\": { \"avg\": { \"field\": \"wall_time\"  }   },\n",
    "        \"4\": { \"avg\": { \"field\": \"nevents\"  } },\n",
    "        \"5\": { \"avg\": {   \"field\": \"cpuconsumptiontime\"  }  },\n",
    "        \"6\": { \"avg\": { \"field\": \"corecount\" }  },\n",
    "        \"7\": { \"avg\": { \"field\": \"inputfilebytes\" }  },\n",
    "        \"8\": { \"sum\": {  \"field\": \"inputfilebytes\" }  }\n",
    "      }\n",
    "    }\n",
    "  },\n",
    "  \"query\": {\n",
    "    \"filtered\": {\n",
    "      \"query\": {  \"query_string\": { \"analyze_wildcard\": True, \"lowercase_expanded_terms\": False,  \"query\": q }  }\n",
    "    }\n",
    "  }\n",
    "}"
   ]
  },
  {
   "cell_type": "code",
   "execution_count": 4,
   "metadata": {},
   "outputs": [
    {
     "name": "stdout",
     "output_type": "stream",
     "text": [
      "finished \tjobs: 879383 \tevents: 2017.3294173301053 \t avg.cores: 7.99601984165793\n",
      "wall time: 19272.49890207111 \twalltime per event per core: 76.38974690769336 [s/ev/core]\n",
      "cpu time : 96316.64187163045 \tcputtime per event: 47.744627646933125 \tcpu eff.: 0.6250135597991446\n",
      "--------------------------------------------------------\n",
      "failed \tjobs: 219356 \tevents: 694.0357045168585 \t avg.cores: 7.995915315742446\n",
      "wall time: 14514.804928973905 \twalltime per event per core: 167.2236028798966 [s/ev/core]\n",
      "cpu time : 30332.026413683692 \tcputtime per event: 43.70384148290877 \tcpu eff.: 0.26134971816327723\n",
      "--------------------------------------------------------\n",
      "cancelled \tjobs: 4831 \tevents: 578.5551645622024 \t avg.cores: 8.0\n",
      "wall time: 29111.923411302007 \twalltime per event per core: 402.5465531305903 [s/ev/core]\n",
      "cpu time : 65777.22769612916 \tcputtime per event: 113.69223148479428 \tcpu eff.: 0.28243250526085445\n",
      "--------------------------------------------------------\n"
     ]
    }
   ],
   "source": [
    "res= es.search( index=ind, body=ss, analyze_wildcard=True)\n",
    "\n",
    "# print(res)\n",
    "for r in res['aggregations']['2']['buckets']:\n",
    "    cores=r['6']['value']\n",
    "    wall=r['3']['value']\n",
    "    events=r['4']['value']\n",
    "    cpu=r['5']['value']\n",
    "\n",
    "    if events<1: continue\n",
    "    secPerEvent=wall/events*cores\n",
    "    cpueff=cpu/(wall*cores)\n",
    "    print (r['key'], \"\\tjobs:\", r['doc_count'],\"\\tevents:\", events, '\\t avg.cores:', cores)\n",
    "    print (\"wall time:\", wall, \"\\twalltime per event per core:\", secPerEvent, \"[s/ev/core]\" ) \n",
    "    print (\"cpu time :\", cpu,  \"\\tcputtime per event:\", cpu/events ,\"\\tcpu eff.:\", cpueff ) \n",
    "    print ('--------------------------------------------------------')\n"
   ]
  },
  {
   "cell_type": "code",
   "execution_count": 5,
   "metadata": {},
   "outputs": [],
   "source": [
    "ss = {\n",
    "  \"fields\": [\"wall_time\",\"jobstatus\"],\n",
    "  \"query\": {\n",
    "    \"filtered\": {\n",
    "      \"query\": {  \"query_string\": { \"analyze_wildcard\": True, \"lowercase_expanded_terms\": False,  \"query\": q }  }\n",
    "    }\n",
    "  }\n",
    "}\n",
    "\n",
    "scroll = scan(es, query=ss, index=ind, scroll='10s')\n",
    "fi=[]\n",
    "fa=[]\n",
    "for res in scroll:\n",
    "    r = res['fields']\n",
    "    if r['jobstatus'][0] == 'finished':\n",
    "        fi.append(r['wall_time'][0]/3600)\n",
    "    elif r['jobstatus'][0] == 'failed':\n",
    "        fa.append(r['wall_time'][0]/3600)\n"
   ]
  },
  {
   "cell_type": "code",
   "execution_count": 10,
   "metadata": {
    "scrolled": true
   },
   "outputs": [
    {
     "data": {
      "image/png": "[encoded data removed]",
      "text/plain": [
       "<matplotlib.figure.Figure at 0x7f4923b7da58>"
      ]
     },
     "metadata": {},
     "output_type": "display_data"
    }
   ],
   "source": [
    "plt.hist([fi,fa],bins=30, log=True, alpha=0.5, stacked=False, label=['finished','failed'])\n",
    "plt.legend(loc='upper right')\n",
    "plt.show()"
   ]
  },
  {
   "cell_type": "code",
   "execution_count": null,
   "metadata": {
    "collapsed": true
   },
   "outputs": [],
   "source": []
  },
  {
   "cell_type": "code",
   "execution_count": null,
   "metadata": {
    "collapsed": true
   },
   "outputs": [],
   "source": []
  }
 ],
 "metadata": {
  "kernelspec": {
   "display_name": "Python 3",
   "language": "python",
   "name": "python3"
  },
  "language_info": {
   "codemirror_mode": {
    "name": "ipython",
    "version": 3
   },
   "file_extension": ".py",
   "mimetype": "text/x-python",
   "name": "python",
   "nbconvert_exporter": "python",
   "pygments_lexer": "ipython3",
   "version": "3.4.5"
  }
 },
 "nbformat": 4,
 "nbformat_minor": 1
}
