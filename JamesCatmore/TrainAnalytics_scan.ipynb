{
 "cells": [
  {
   "cell_type": "code",
   "execution_count": 26,
   "metadata": {
    "collapsed": true
   },
   "outputs": [],
   "source": [
    "# Standard includes\n",
    "import datetime\n",
    "import re\n",
    "from elasticsearch import Elasticsearch\n",
    "from elasticsearch.helpers import scan\n",
    "from time import time\n",
    "import timeit\n",
    "import numpy as np\n",
    "import pickle"
   ]
  },
  {
   "cell_type": "code",
   "execution_count": 27,
   "metadata": {
    "collapsed": true
   },
   "outputs": [],
   "source": [
    "# Define query for the tasks\n",
    "taskQuery = {\n",
    "    \"query\": {\n",
    "        \"bool\": {\n",
    "            \"should\": [\n",
    "                {\"term\":{\"reqid\": \"18663\"}}\n",
    "                #{\"term\":{\"transhome\": \"AthDerivation-21.2.23.0\"}}\n",
    "            ]\n",
    "        }\n",
    "    }\n",
    "}"
   ]
  },
  {
   "cell_type": "code",
   "execution_count": 28,
   "metadata": {
    "collapsed": true
   },
   "outputs": [],
   "source": [
    "# Execute the queries\n",
    "es = Elasticsearch(['atlas-kibana-dev.mwt2.org'],timeout=120)\n",
    "\n",
    "# Tasks\n",
    "taskIndex = \"tasks*\"\n",
    "tasks = scan(es, query=taskQuery, index=taskIndex, scroll='5m', timeout=\"5m\", size=1000)        "
   ]
  },
  {
   "cell_type": "code",
   "execution_count": 29,
   "metadata": {
    "collapsed": true
   },
   "outputs": [],
   "source": [
    "# Define the trains and the quantities for collection\n",
    "quantities = [\n",
    "    'cpuconsumptiontime',\n",
    "    'nevents',\n",
    "    'starttime',\n",
    "    'endtime',\n",
    "    'timeExe',\n",
    "    'timeSetup',\n",
    "    'timeGetJob',\n",
    "    'timeStageIn',\n",
    "    'timeStageOut',\n",
    "    'actualcorecount',\n",
    "    'wall_time',\n",
    "    'inputfilebytes',\n",
    "    'outputfilebytes',\n",
    "    'Max_PSS_per_core'\n",
    "]\n",
    "\n",
    "# used for mc16e validation\n",
    "trainsAndIDs = [\n",
    "    (['DAOD_STDM5','DAOD_EGAM4','DAOD_EGAM2','DAOD_EXOT12','DAOD_EXOT9'],[],{}),\n",
    "    (['DAOD_SUSY12','DAOD_STDM3','DAOD_EXOT15','DAOD_JETM3','DAOD_EXOT19','DAOD_HIGG4D6','DAOD_HIGG6D1','DAOD_HIGG1D1'],[],{}),\n",
    "    (['DAOD_EXOT22','DAOD_SUSY4','DAOD_JETM11','DAOD_EXOT21','DAOD_STDM7','DAOD_SUSY8','DAOD_SUSY10'],[],{}),\n",
    "    (['DAOD_HIGG2D1'],[],{}),\n",
    "    (['DAOD_JETM9','DAOD_STDM4','DAOD_FTAG4'],[],{}),\n",
    "    (['DAOD_MUON2','DAOD_HIGG4D4','DAOD_JETM7','DAOD_BPHY7','DAOD_EXOT17','DAOD_BPHY5','DAOD_EGAM7','DAOD_HIGG1D2'],[],{}),\n",
    "    (['DAOD_STDM2','DAOD_SUSY18','DAOD_EXOT3','DAOD_EGAM1','DAOD_EGAM5','DAOD_EXOT2','DAOD_SUSY3','DAOD_EXOT5','DAOD_HIGG6D2'],[],{}),\n",
    "    (['DAOD_JETM12','DAOD_EGAM3','DAOD_JETM10'],[],{}),\n",
    "    (['DAOD_TOPQ1'],[],{}),\n",
    "    (['DAOD_TCAL1','DAOD_EXOT10','DAOD_HIGG2D5'],[],{}),\n",
    "    (['DAOD_SUSY1'],[],{}),\n",
    "    (['DAOD_SUSY9'],[],{}),\n",
    "    (['DAOD_EXOT13','DAOD_SUSY5','DAOD_SUSY7','DAOD_EXOT8','DAOD_EXOT4','DAOD_HIGG4D2'],[],{}),\n",
    "    (['DAOD_STDM5','DAOD_EGAM4','DAOD_EGAM2','DAOD_EXOT12','DAOD_SUSY9','DAOD_EXOT9'],[],{}),\n",
    "    (['DAOD_TAUP1','DAOD_HIGG4D5','DAOD_TOPQ5','DAOD_JETM4','DAOD_HIGG4D3','DAOD_SUSY16','DAOD_EXOT7'],[],{}),\n",
    "    (['DAOD_HIGG8D1','DAOD_JETM6','DAOD_MUON1','DAOD_SUSY6','DAOD_JETM1','DAOD_MUON0','DAOD_TAUP3'],[],{}),\n",
    "    (['DAOD_EGAM9','DAOD_EXOT20','DAOD_SUSY11','DAOD_EXOT6','DAOD_SUSY2','DAOD_HIGG4D1','DAOD_BPHY1','DAOD_BPHY4'],[],{})\n",
    "]\n",
    "\n",
    "# Data structure as follows:\n",
    "# List of tuples, one per train, with following contents:\n",
    "# ( [List of carriages in the train],[list of jobs for that train],{map of quantity name->list of values for the jobs})\n",
    "#trainsAndIDs = [\n",
    "#    (['DAOD_HIGG2D5','DAOD_TCAL1','DAOD_JETM12'],[],{}), \n",
    "#    (['DAOD_EGAM4','DAOD_STDM5','DAOD_EXOT12','DAOD_EXOT10'],[],{}), \n",
    "#    (['DAOD_FTAG3'],[],{}), \n",
    "#    (['DAOD_EGAM3','DAOD_HIGG1D2','DAOD_EXOT0','DAOD_EXOT17','DAOD_HIGG4D4'],[],{}), \n",
    "#    (['DAOD_JETM7','DAOD_EXOT6','DAOD_SUSY9','DAOD_EGAM2','DAOD_SUSY12','DAOD_SUSY2'],[],{}), \n",
    "#    (['DAOD_EXOT9','DAOD_EXOT15','DAOD_JETM3','DAOD_HIGG4D1','DAOD_TOPQ2','DAOD_MUON2','DAOD_SUSY16'],[],{}), \n",
    "#    (['DAOD_EXOT7','DAOD_SUSY11','DAOD_SUSY9','DAOD_STDM3','DAOD_TOPQ5','DAOD_EXOT19'],[],{}), \n",
    "#    (['DAOD_HIGG1D1','DAOD_EGAM9','DAOD_BPHY5','DAOD_BPHY4','DAOD_JETM4','DAOD_SUSY18'],[],{}), \n",
    "#    (['DAOD_EGAM7','DAOD_HIGG6D1','DAOD_STDM2','DAOD_SUSY3','DAOD_EGAM1'],[],{}), \n",
    "#    (['DAOD_EXOT22','DAOD_SUSY1','DAOD_JETM1','DAOD_EXOT3','DAOD_SUSY4','DAOD_BPHY1'],[],{}), \n",
    "#    (['DAOD_JETM11','DAOD_HIGG8D1','DAOD_EXOT5','DAOD_SUSY5'],[],{}), \n",
    "#    (['DAOD_SUSY10','DAOD_STDM7','DAOD_JETM6','DAOD_JETM9','DAOD_TAUP1','DAOD_SUSY7','DAOD_HIGG4D5'],[],{}), \n",
    "#    (['DAOD_EXOT4','DAOD_HIGG4D6','DAOD_SUSY8','DAOD_HIGG4D2','DAOD_MUON1'],[],{}), \n",
    "#    (['DAOD_EXOT8','DAOD_HIGG4D3','DAOD_EXOT2'],[],{}), \n",
    "#    (['DAOD_HIGG2D1','DAOD_SUSY6','DAOD_EXOT13'],[],{}), \n",
    "#    (['DAOD_FTAG1','DAOD_FTAG2','DAOD_FTAG4'],[],{}), \n",
    "#    (['DAOD_TOPQ1','DAOD_EGAM5','DAOD_STDM4'],[],{}), \n",
    "#    (['DAOD_HIGG6D2','DAOD_EXOT21','DAOD_MUON0','DAOD_TAUP3','DAOD_TOPQ4'],[],{})\n",
    "#]"
   ]
  },
  {
   "cell_type": "code",
   "execution_count": 30,
   "metadata": {},
   "outputs": [
    {
     "name": "stdout",
     "output_type": "stream",
     "text": [
      "Total matching tasks =  51\n",
      "Time to extract information =  0.04285682737827301\n"
     ]
    }
   ],
   "source": [
    "# Get the IDs matching each train\n",
    "\n",
    "start_time = timeit.default_timer()\n",
    "matchingTasks = 0\n",
    "for res in tasks:\n",
    "    if 'output_formats' in res['_source'].keys():\n",
    "        for item in trainsAndIDs:\n",
    "            train = item[0]\n",
    "            if set(res['_source']['output_formats']) == set(train):\n",
    "                item[1].append(res['_id'])\n",
    "                matchingTasks += 1\n",
    "print(\"Total matching tasks = \",matchingTasks)\n",
    "print(\"Time to extract information = \",timeit.default_timer() - start_time)"
   ]
  },
  {
   "cell_type": "code",
   "execution_count": 31,
   "metadata": {
    "collapsed": true
   },
   "outputs": [],
   "source": [
    "# Save the per-train information\n",
    "pickle.dump(trainsAndIDs,open(\"data_21_2_23_0.p\",\"wb\"))"
   ]
  },
  {
   "cell_type": "code",
   "execution_count": 32,
   "metadata": {},
   "outputs": [
    {
     "data": {
      "text/plain": [
       "[(['DAOD_STDM5', 'DAOD_EGAM4', 'DAOD_EGAM2', 'DAOD_EXOT12', 'DAOD_EXOT9'],\n",
       "  ['15171292', '15171272', '15171253'],\n",
       "  {}),\n",
       " (['DAOD_SUSY12',\n",
       "   'DAOD_STDM3',\n",
       "   'DAOD_EXOT15',\n",
       "   'DAOD_JETM3',\n",
       "   'DAOD_EXOT19',\n",
       "   'DAOD_HIGG4D6',\n",
       "   'DAOD_HIGG6D1',\n",
       "   'DAOD_HIGG1D1'],\n",
       "  ['15084442', '15084494', '15084467'],\n",
       "  {}),\n",
       " (['DAOD_EXOT22',\n",
       "   'DAOD_SUSY4',\n",
       "   'DAOD_JETM11',\n",
       "   'DAOD_EXOT21',\n",
       "   'DAOD_STDM7',\n",
       "   'DAOD_SUSY8',\n",
       "   'DAOD_SUSY10'],\n",
       "  ['15084704', '15084731', '15084679'],\n",
       "  {}),\n",
       " (['DAOD_HIGG2D1'], ['15085014', '15085031', '15085003'], {}),\n",
       " (['DAOD_JETM9', 'DAOD_STDM4', 'DAOD_FTAG4'],\n",
       "  ['15084913', '15084932', '15084947'],\n",
       "  {}),\n",
       " (['DAOD_MUON2',\n",
       "   'DAOD_HIGG4D4',\n",
       "   'DAOD_JETM7',\n",
       "   'DAOD_BPHY7',\n",
       "   'DAOD_EXOT17',\n",
       "   'DAOD_BPHY5',\n",
       "   'DAOD_EGAM7',\n",
       "   'DAOD_HIGG1D2'],\n",
       "  ['15084315', '15084254', '15084280'],\n",
       "  {}),\n",
       " (['DAOD_STDM2',\n",
       "   'DAOD_SUSY18',\n",
       "   'DAOD_EXOT3',\n",
       "   'DAOD_EGAM1',\n",
       "   'DAOD_EGAM5',\n",
       "   'DAOD_EXOT2',\n",
       "   'DAOD_SUSY3',\n",
       "   'DAOD_EXOT5',\n",
       "   'DAOD_HIGG6D2'],\n",
       "  ['15084649', '15084578', '15084611'],\n",
       "  {}),\n",
       " (['DAOD_JETM12', 'DAOD_EGAM3', 'DAOD_JETM10'],\n",
       "  ['15084136', '15084177', '15084155'],\n",
       "  {}),\n",
       " (['DAOD_TOPQ1'], ['15085064', '15085080', '15085051'], {}),\n",
       " (['DAOD_TCAL1', 'DAOD_EXOT10', 'DAOD_HIGG2D5'],\n",
       "  ['15084084', '15084108', '15084059'],\n",
       "  {}),\n",
       " (['DAOD_SUSY1'], ['15084993', '15084974', '15084962'], {}),\n",
       " (['DAOD_SUSY9'], ['15171343', '15171331', '15171315'], {}),\n",
       " (['DAOD_EXOT13',\n",
       "   'DAOD_SUSY5',\n",
       "   'DAOD_SUSY7',\n",
       "   'DAOD_EXOT8',\n",
       "   'DAOD_EXOT4',\n",
       "   'DAOD_HIGG4D2'],\n",
       "  ['15084755', '15084806', '15084783'],\n",
       "  {}),\n",
       " (['DAOD_STDM5',\n",
       "   'DAOD_EGAM4',\n",
       "   'DAOD_EGAM2',\n",
       "   'DAOD_EXOT12',\n",
       "   'DAOD_SUSY9',\n",
       "   'DAOD_EXOT9'],\n",
       "  ['15084218', '15084199', '15084234'],\n",
       "  {}),\n",
       " (['DAOD_TAUP1',\n",
       "   'DAOD_HIGG4D5',\n",
       "   'DAOD_TOPQ5',\n",
       "   'DAOD_JETM4',\n",
       "   'DAOD_HIGG4D3',\n",
       "   'DAOD_SUSY16',\n",
       "   'DAOD_EXOT7'],\n",
       "  ['15084522', '15084555', '15084535'],\n",
       "  {}),\n",
       " (['DAOD_HIGG8D1',\n",
       "   'DAOD_JETM6',\n",
       "   'DAOD_MUON1',\n",
       "   'DAOD_SUSY6',\n",
       "   'DAOD_JETM1',\n",
       "   'DAOD_MUON0',\n",
       "   'DAOD_TAUP3'],\n",
       "  ['15084884', '15084858', '15084830'],\n",
       "  {}),\n",
       " (['DAOD_EGAM9',\n",
       "   'DAOD_EXOT20',\n",
       "   'DAOD_SUSY11',\n",
       "   'DAOD_EXOT6',\n",
       "   'DAOD_SUSY2',\n",
       "   'DAOD_HIGG4D1',\n",
       "   'DAOD_BPHY1',\n",
       "   'DAOD_BPHY4'],\n",
       "  ['15084413', '15084381', '15084351'],\n",
       "  {})]"
      ]
     },
     "execution_count": 32,
     "metadata": {},
     "output_type": "execute_result"
    }
   ],
   "source": [
    "trainsAndIDs"
   ]
  },
  {
   "cell_type": "code",
   "execution_count": null,
   "metadata": {
    "collapsed": true
   },
   "outputs": [],
   "source": []
  }
 ],
 "metadata": {
  "kernelspec": {
   "display_name": "Python 3",
   "language": "python",
   "name": "python3"
  },
  "language_info": {
   "codemirror_mode": {
    "name": "ipython",
    "version": 3
   },
   "file_extension": ".py",
   "mimetype": "text/x-python",
   "name": "python",
   "nbconvert_exporter": "python",
   "pygments_lexer": "ipython3",
   "version": "3.4.5"
  }
 },
 "nbformat": 4,
 "nbformat_minor": 2
}
