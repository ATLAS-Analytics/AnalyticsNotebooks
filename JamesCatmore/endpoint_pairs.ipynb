{
 "cells": [
  {
   "cell_type": "code",
   "execution_count": null,
   "metadata": {
    "collapsed": true
   },
   "outputs": [],
   "source": [
    "#These lines set up inline plotting, and apply a standard size\n",
    "%matplotlib inline\n",
    "import matplotlib\n",
    "matplotlib.rc('font', **{'size': 22})\n",
    "# Standard includes\n",
    "import datetime\n",
    "import re\n",
    "from elasticsearch import Elasticsearch\n",
    "from elasticsearch.helpers import scan\n",
    "import matplotlib.pyplot as plt\n",
    "from time import time"
   ]
  },
  {
   "cell_type": "code",
   "execution_count": null,
   "metadata": {
    "collapsed": false
   },
   "outputs": [],
   "source": [
    "# Define the query\n",
    "my_query = {\n",
    "  \"size\": 0,\n",
    "  \"query\": {\n",
    "    \"filtered\": {\n",
    "      \"query\": { \"match_all\": {} },\n",
    "      \"filter\": {\n",
    "        \"bool\": {\n",
    "          \"must\": [\n",
    "            {\n",
    "              \"range\": {\n",
    "                \"@timestamp\": {\n",
    "                  \"gte\": 1451602800000,\n",
    "                  \"lte\": 1475618400000,\n",
    "                  \"format\": \"epoch_millis\"\n",
    "                }\n",
    "              }\n",
    "            },\n",
    "            {\"term\": {\"event_type\": \"transfer-failed\"}},\n",
    "            {\"term\": {\"payload.scope\": \"data16_13TeV\"}}\n",
    "          ],\n",
    "          \"must_not\": []\n",
    "        }\n",
    "      }\n",
    "    }\n",
    "  }\n",
    "}"
   ]
  },
  {
   "cell_type": "code",
   "execution_count": null,
   "metadata": {
    "collapsed": false,
    "scrolled": true
   },
   "outputs": [],
   "source": [
    "es = Elasticsearch(['atlas-kibana.mwt2.org:9200'],timeout=60)\n",
    "my_index = \"rucio-events*\"\n",
    "scroll = scan(es, query=my_query, index=my_index, scroll='5m', timeout=\"5m\", size=100)"
   ]
  },
  {
   "cell_type": "code",
   "execution_count": null,
   "metadata": {
    "collapsed": false
   },
   "outputs": [],
   "source": [
    "count=0\n",
    "t0 = time()\n",
    "allSizes = []\n",
    "endpointPairs = {}\n",
    "for res in scroll:\n",
    "    if not count%1000:  print(count)\n",
    "    if count<1: print(res)\n",
    "    count += 1\n",
    "    if res['_source']['event_type']=='transfer-failed':\n",
    "        allSizes.append(res['_source']['payload']['file-size'])\n",
    "        source = res['_source']['payload']['src-rse']\n",
    "        destination = res['_source']['payload']['dst-rse']\n",
    "        pair = (source,destination)\n",
    "        if pair not in endpointPairs.keys():\n",
    "            endpointPairs[pair] = 1\n",
    "        if pair in endpointPairs.keys():\n",
    "            endpointPairs[pair] = endpointPairs[pair]+1\n",
    "t1 = time()"
   ]
  },
  {
   "cell_type": "code",
   "execution_count": null,
   "metadata": {
    "collapsed": false
   },
   "outputs": [],
   "source": [
    "print (count, 'events in %f seconds.' %(t1-t0), count/(t1-t0), \"ev/s.\")"
   ]
  },
  {
   "cell_type": "code",
   "execution_count": null,
   "metadata": {
    "collapsed": false
   },
   "outputs": [],
   "source": [
    "import operator\n",
    "sorted_endpointPairs = sorted(endpointPairs.items(), key=operator.itemgetter(1))\n",
    "for item in sorted_endpointPairs:\n",
    "    print(item[0],'\\t\\t',item[1])"
   ]
  },
  {
   "cell_type": "code",
   "execution_count": null,
   "metadata": {
    "collapsed": true
   },
   "outputs": [],
   "source": []
  }
 ],
 "metadata": {
  "kernelspec": {
   "display_name": "Python 3",
   "language": "python",
   "name": "python3"
  },
  "language_info": {
   "codemirror_mode": {
    "name": "ipython",
    "version": 3
   },
   "file_extension": ".py",
   "mimetype": "text/x-python",
   "name": "python",
   "nbconvert_exporter": "python",
   "pygments_lexer": "ipython3",
   "version": "3.5.1"
  }
 },
 "nbformat": 4,
 "nbformat_minor": 0
}
