{
 "cells": [
  {
   "cell_type": "code",
   "execution_count": 1,
   "metadata": {
    "collapsed": false
   },
   "outputs": [
    {
     "name": "stderr",
     "output_type": "stream",
     "text": [
      "Using Theano backend.\n",
      "Using gpu device 0: Tesla K20c (CNMeM is enabled with initial size: 95.0% of memory, cuDNN not available)\n"
     ]
    }
   ],
   "source": [
    "%matplotlib inline\n",
    "\n",
    "'''Trains a simple convnet on the MNIST dataset.\n",
    "\n",
    "Gets to 99.25% test accuracy after 12 epochs\n",
    "(there is still a lot of margin for parameter tuning).\n",
    "16 seconds per epoch on a GRID K520 GPU.\n",
    "'''\n",
    "\n",
    "from __future__ import print_function\n",
    "import numpy as np\n",
    "np.random.seed(1337)  # for reproducibility\n",
    "\n",
    "from keras.datasets import mnist\n",
    "from keras.models import Sequential\n",
    "from keras.layers import Dense, Dropout, Activation, Flatten\n",
    "from keras.layers import Convolution2D, MaxPooling2D\n",
    "from keras.utils import np_utils\n",
    "from keras import backend as K\n",
    "\n",
    "import matplotlib.pyplot as plt\n",
    "import datetime as dt"
   ]
  },
  {
   "cell_type": "code",
   "execution_count": 2,
   "metadata": {
    "collapsed": true
   },
   "outputs": [],
   "source": [
    "def plotHistory(hist, score, time_secs, savePlot=True):\n",
    "    plt.plot(hist.history['acc'])\n",
    "    title = 'Accuracy over training - batch_size: ' + str(hist.params['batch_size']) +\"\\nTest score: \"+ str(score[0])+\" - Test acc:\"+str(score[1]) +\"\\nTraining time [secs]: \"+ str(time_secs)\n",
    "    plt.title(title)\n",
    "    plt.ylabel('accuracy')\n",
    "    plt.xlabel('epoch')\n",
    "    # saving?\n",
    "    if savePlot:\n",
    "        plt.savefig(title +'.png', format='PNG', dpi=200, bbox_inches='tight', pad_inches=0.7)\n",
    "    plt.show()"
   ]
  },
  {
   "cell_type": "code",
   "execution_count": 3,
   "metadata": {
    "collapsed": false
   },
   "outputs": [
    {
     "name": "stdout",
     "output_type": "stream",
     "text": [
      "X_train shape: (60000, 28, 28, 1)\n",
      "60000 train samples\n",
      "10000 test samples\n",
      "Compiling model\n",
      "Training model\n"
     ]
    },
    {
     "name": "stderr",
     "output_type": "stream",
     "text": [
      "WARNING (theano.gof.compilelock): Overriding existing lock by dead process '2486783' (I am process '2487736')\n"
     ]
    },
    {
     "name": "stdout",
     "output_type": "stream",
     "text": [
      "Train on 60000 samples, validate on 10000 samples\n",
      "Epoch 1/12\n",
      "60000/60000 [==============================] - 48s - loss: 0.3912 - acc: 0.8790 - val_loss: 0.0977 - val_acc: 0.9693\n",
      "Epoch 2/12\n",
      "60000/60000 [==============================] - 48s - loss: 0.1393 - acc: 0.9593 - val_loss: 0.0626 - val_acc: 0.9804\n",
      "Epoch 3/12\n",
      "60000/60000 [==============================] - 48s - loss: 0.1063 - acc: 0.9682 - val_loss: 0.0538 - val_acc: 0.9836\n",
      "Epoch 4/12\n",
      "60000/60000 [==============================] - 48s - loss: 0.0888 - acc: 0.9736 - val_loss: 0.0441 - val_acc: 0.9853\n",
      "Epoch 5/12\n",
      "60000/60000 [==============================] - 48s - loss: 0.0779 - acc: 0.9773 - val_loss: 0.0424 - val_acc: 0.9850\n",
      "Epoch 6/12\n",
      "60000/60000 [==============================] - 48s - loss: 0.0713 - acc: 0.9782 - val_loss: 0.0420 - val_acc: 0.9862\n",
      "Epoch 7/12\n",
      "60000/60000 [==============================] - 48s - loss: 0.0629 - acc: 0.9811 - val_loss: 0.0358 - val_acc: 0.9879\n",
      "Epoch 8/12\n",
      "60000/60000 [==============================] - 48s - loss: 0.0588 - acc: 0.9823 - val_loss: 0.0358 - val_acc: 0.9878\n",
      "Epoch 9/12\n",
      "60000/60000 [==============================] - 48s - loss: 0.0556 - acc: 0.9837 - val_loss: 0.0344 - val_acc: 0.9882\n",
      "Epoch 10/12\n",
      "60000/60000 [==============================] - 48s - loss: 0.0516 - acc: 0.9847 - val_loss: 0.0323 - val_acc: 0.9893\n",
      "Epoch 11/12\n",
      "60000/60000 [==============================] - 48s - loss: 0.0494 - acc: 0.9854 - val_loss: 0.0320 - val_acc: 0.9891\n",
      "Epoch 12/12\n",
      "60000/60000 [==============================] - 48s - loss: 0.0487 - acc: 0.9853 - val_loss: 0.0329 - val_acc: 0.9892\n",
      "Evaluating model\n",
      "Test score: 0.0328567281006\n",
      "Test accuracy: 0.9892\n"
     ]
    },
    {
     "data": {
      "image/png": "[encoded data removed]",
      "text/plain": [
       "<matplotlib.figure.Figure at 0x7f2ce02bf8d0>"
      ]
     },
     "metadata": {},
     "output_type": "display_data"
    }
   ],
   "source": [
    "batch_size = 128\n",
    "nb_classes = 10\n",
    "nb_epoch = 12\n",
    "\n",
    "# input image dimensions\n",
    "img_rows, img_cols = 28, 28\n",
    "# number of convolutional filters to use\n",
    "nb_filters = 32\n",
    "# size of pooling area for max pooling\n",
    "pool_size = (2, 2)\n",
    "# convolution kernel size\n",
    "kernel_size = (3, 3)\n",
    "\n",
    "# the data, shuffled and split between train and test sets\n",
    "(X_train, y_train), (X_test, y_test) = mnist.load_data()\n",
    "\n",
    "if K.image_dim_ordering() == 'th':\n",
    "    X_train = X_train.reshape(X_train.shape[0], 1, img_rows, img_cols)\n",
    "    X_test = X_test.reshape(X_test.shape[0], 1, img_rows, img_cols)\n",
    "    input_shape = (1, img_rows, img_cols)\n",
    "else:\n",
    "    X_train = X_train.reshape(X_train.shape[0], img_rows, img_cols, 1)\n",
    "    X_test = X_test.reshape(X_test.shape[0], img_rows, img_cols, 1)\n",
    "    input_shape = (img_rows, img_cols, 1)\n",
    "\n",
    "X_train = X_train.astype('float32')\n",
    "X_test = X_test.astype('float32')\n",
    "X_train /= 255\n",
    "X_test /= 255\n",
    "print('X_train shape:', X_train.shape)\n",
    "print(X_train.shape[0], 'train samples')\n",
    "print(X_test.shape[0], 'test samples')\n",
    "\n",
    "# convert class vectors to binary class matrices\n",
    "Y_train = np_utils.to_categorical(y_train, nb_classes)\n",
    "Y_test = np_utils.to_categorical(y_test, nb_classes)\n",
    "\n",
    "model = Sequential()\n",
    "\n",
    "model.add(Convolution2D(nb_filters, kernel_size[0], kernel_size[1],\n",
    "                        border_mode='valid',\n",
    "                        input_shape=input_shape))\n",
    "model.add(Activation('relu'))\n",
    "model.add(Convolution2D(nb_filters, kernel_size[0], kernel_size[1]))\n",
    "model.add(Activation('relu'))\n",
    "model.add(MaxPooling2D(pool_size=pool_size))\n",
    "model.add(Dropout(0.25))\n",
    "\n",
    "model.add(Flatten())\n",
    "model.add(Dense(128))\n",
    "model.add(Activation('relu'))\n",
    "model.add(Dropout(0.5))\n",
    "model.add(Dense(nb_classes))\n",
    "model.add(Activation('softmax'))\n",
    "\n",
    "print('Compiling model')\n",
    "model.compile(loss='categorical_crossentropy',\n",
    "              optimizer='adadelta',\n",
    "              metrics=['accuracy'])\n",
    "\n",
    "\n",
    "\n",
    "\n",
    "print('Training model')\n",
    "n1=dt.datetime.now()\n",
    "M = model.fit(X_train, Y_train, batch_size=batch_size, nb_epoch=nb_epoch,\n",
    "          verbose=1, validation_data=(X_test, Y_test))\n",
    "n2=dt.datetime.now()\n",
    "print('Evaluating model')\n",
    "score = model.evaluate(X_test, Y_test, verbose=0)\n",
    "print('Test score:', score[0])\n",
    "print('Test accuracy:', score[1])\n",
    "plotHistory(M, score, round((n2-n1).total_seconds(), 1), savePlot=False)"
   ]
  },
  {
   "cell_type": "code",
   "execution_count": null,
   "metadata": {
    "collapsed": true
   },
   "outputs": [],
   "source": []
  }
 ],
 "metadata": {
  "kernelspec": {
   "display_name": "Python 3",
   "language": "python",
   "name": "python3"
  },
  "language_info": {
   "codemirror_mode": {
    "name": "ipython",
    "version": 3
   },
   "file_extension": ".py",
   "mimetype": "text/x-python",
   "name": "python",
   "nbconvert_exporter": "python",
   "pygments_lexer": "ipython3",
   "version": "3.5.1"
  }
 },
 "nbformat": 4,
 "nbformat_minor": 0
}
