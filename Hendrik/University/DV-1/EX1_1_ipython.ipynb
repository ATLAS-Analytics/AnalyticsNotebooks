{
 "cells": [
  {
   "cell_type": "code",
   "execution_count": null,
   "metadata": {
    "collapsed": false
   },
   "outputs": [],
   "source": [
    "%matplotlib inline\n",
    "\n",
    "# ADD necessary imports\n",
    "import matplotlib.pyplot as plt\n",
    "import numpy as np\n",
    "from sklearn import svm, metrics\n",
    "from scipy import ndimage\n",
    "# backwards compatabliity\n",
    "from __future__ import print_function\n",
    "from __future__ import division\n",
    "# own adds\n",
    "import scipy\n",
    "import skimage\n",
    "from random import randint\n",
    "from sklearn import preprocessing\n",
    "from sklearn.metrics import confusion_matrix\n",
    "import itertools\n",
    "\n",
    "# dunction to load images amd labels of the original MNIST dataset\n",
    "from mnist import load_mnist"
   ]
  },
  {
   "cell_type": "code",
   "execution_count": null,
   "metadata": {
    "collapsed": true
   },
   "outputs": [],
   "source": [
    "def plot_confusion_matrix(cm, classes,\n",
    "                          normalize=False,\n",
    "                          title='Confusion matrix',\n",
    "                          cmap=plt.cm.Blues):\n",
    "    \"\"\"\n",
    "    This function prints and plots the confusion matrix.\n",
    "    Normalization can be applied by setting `normalize=True`.\n",
    "    \"\"\"\n",
    "    plt.imshow(cm, interpolation='nearest', cmap=cmap)\n",
    "    plt.title(title)\n",
    "    plt.colorbar()\n",
    "    tick_marks = np.arange(len(classes))\n",
    "    plt.xticks(tick_marks, classes, rotation=45)\n",
    "    plt.yticks(tick_marks, classes)\n",
    "\n",
    "    if normalize:\n",
    "        cm = cm.astype('float') / cm.sum(axis=1)[:, np.newaxis]\n",
    "        print(\"Normalized confusion matrix\")\n",
    "    else:\n",
    "        print('Confusion matrix, without normalization')\n",
    "\n",
    "    print(cm)\n",
    "\n",
    "    thresh = cm.max() / 2.\n",
    "    for i, j in itertools.product(range(cm.shape[0]), range(cm.shape[1])):\n",
    "        plt.text(j, i, cm[i, j],\n",
    "                 horizontalalignment=\"center\",\n",
    "                 color=\"white\" if cm[i, j] > thresh else \"black\")\n",
    "\n",
    "    plt.tight_layout()\n",
    "    plt.ylabel('True label')\n",
    "    plt.xlabel('Predicted label')"
   ]
  },
  {
   "cell_type": "code",
   "execution_count": 2,
   "metadata": {
    "collapsed": false
   },
   "outputs": [
    {
     "ename": "FileNotFoundError",
     "evalue": "[Errno 2] No such file or directory: 'red-fox.jpg'",
     "output_type": "error",
     "traceback": [
      "\u001b[1;31m---------------------------------------------------------------------------\u001b[0m",
      "\u001b[1;31mFileNotFoundError\u001b[0m                         Traceback (most recent call last)",
      "\u001b[1;32m<ipython-input-2-3da0d837fad0>\u001b[0m in \u001b[0;36m<module>\u001b[1;34m()\u001b[0m\n\u001b[0;32m      7\u001b[0m \u001b[1;33m\u001b[0m\u001b[0m\n\u001b[0;32m      8\u001b[0m \u001b[1;31m# transfer the image into numpy ndarray (depending on the function, this is one step with prev.one)\u001b[0m\u001b[1;33m\u001b[0m\u001b[1;33m\u001b[0m\u001b[0m\n\u001b[1;32m----> 9\u001b[1;33m \u001b[0mimg1\u001b[0m \u001b[1;33m=\u001b[0m \u001b[0mndimage\u001b[0m\u001b[1;33m.\u001b[0m\u001b[0mimread\u001b[0m\u001b[1;33m(\u001b[0m\u001b[0mfilename\u001b[0m\u001b[1;33m)\u001b[0m\u001b[1;33m\u001b[0m\u001b[0m\n\u001b[0m\u001b[0;32m     10\u001b[0m \u001b[1;33m\u001b[0m\u001b[0m\n\u001b[0;32m     11\u001b[0m \u001b[1;31m# get image dimensions\u001b[0m\u001b[1;33m\u001b[0m\u001b[1;33m\u001b[0m\u001b[0m\n",
      "\u001b[1;32m/home/ivukotic/anaconda3/lib/python3.5/site-packages/scipy/ndimage/io.py\u001b[0m in \u001b[0;36mimread\u001b[1;34m(fname, flatten, mode)\u001b[0m\n\u001b[0;32m     22\u001b[0m \u001b[1;32mdef\u001b[0m \u001b[0mimread\u001b[0m\u001b[1;33m(\u001b[0m\u001b[0mfname\u001b[0m\u001b[1;33m,\u001b[0m \u001b[0mflatten\u001b[0m\u001b[1;33m=\u001b[0m\u001b[1;32mFalse\u001b[0m\u001b[1;33m,\u001b[0m \u001b[0mmode\u001b[0m\u001b[1;33m=\u001b[0m\u001b[1;32mNone\u001b[0m\u001b[1;33m)\u001b[0m\u001b[1;33m:\u001b[0m\u001b[1;33m\u001b[0m\u001b[0m\n\u001b[0;32m     23\u001b[0m     \u001b[1;32mif\u001b[0m \u001b[0m_have_pil\u001b[0m\u001b[1;33m:\u001b[0m\u001b[1;33m\u001b[0m\u001b[0m\n\u001b[1;32m---> 24\u001b[1;33m         \u001b[1;32mreturn\u001b[0m \u001b[0m_imread\u001b[0m\u001b[1;33m(\u001b[0m\u001b[0mfname\u001b[0m\u001b[1;33m,\u001b[0m \u001b[0mflatten\u001b[0m\u001b[1;33m,\u001b[0m \u001b[0mmode\u001b[0m\u001b[1;33m)\u001b[0m\u001b[1;33m\u001b[0m\u001b[0m\n\u001b[0m\u001b[0;32m     25\u001b[0m     raise ImportError(\"Could not import the Python Imaging Library (PIL)\"\n\u001b[0;32m     26\u001b[0m                       \u001b[1;34m\" required to load image files.  Please refer to\"\u001b[0m\u001b[1;33m\u001b[0m\u001b[0m\n",
      "\u001b[1;32m/home/ivukotic/anaconda3/lib/python3.5/site-packages/scipy/misc/pilutil.py\u001b[0m in \u001b[0;36mimread\u001b[1;34m(name, flatten, mode)\u001b[0m\n\u001b[0;32m    152\u001b[0m     \"\"\"\n\u001b[0;32m    153\u001b[0m \u001b[1;33m\u001b[0m\u001b[0m\n\u001b[1;32m--> 154\u001b[1;33m     \u001b[0mim\u001b[0m \u001b[1;33m=\u001b[0m \u001b[0mImage\u001b[0m\u001b[1;33m.\u001b[0m\u001b[0mopen\u001b[0m\u001b[1;33m(\u001b[0m\u001b[0mname\u001b[0m\u001b[1;33m)\u001b[0m\u001b[1;33m\u001b[0m\u001b[0m\n\u001b[0m\u001b[0;32m    155\u001b[0m     \u001b[1;32mreturn\u001b[0m \u001b[0mfromimage\u001b[0m\u001b[1;33m(\u001b[0m\u001b[0mim\u001b[0m\u001b[1;33m,\u001b[0m \u001b[0mflatten\u001b[0m\u001b[1;33m=\u001b[0m\u001b[0mflatten\u001b[0m\u001b[1;33m,\u001b[0m \u001b[0mmode\u001b[0m\u001b[1;33m=\u001b[0m\u001b[0mmode\u001b[0m\u001b[1;33m)\u001b[0m\u001b[1;33m\u001b[0m\u001b[0m\n\u001b[0;32m    156\u001b[0m \u001b[1;33m\u001b[0m\u001b[0m\n",
      "\u001b[1;32m/home/ivukotic/anaconda3/lib/python3.5/site-packages/PIL/Image.py\u001b[0m in \u001b[0;36mopen\u001b[1;34m(fp, mode)\u001b[0m\n\u001b[0;32m   2256\u001b[0m             \u001b[0mfilename\u001b[0m \u001b[1;33m=\u001b[0m \u001b[0mstr\u001b[0m\u001b[1;33m(\u001b[0m\u001b[0mfp\u001b[0m\u001b[1;33m.\u001b[0m\u001b[0mresolve\u001b[0m\u001b[1;33m(\u001b[0m\u001b[1;33m)\u001b[0m\u001b[1;33m)\u001b[0m\u001b[1;33m\u001b[0m\u001b[0m\n\u001b[0;32m   2257\u001b[0m     \u001b[1;32mif\u001b[0m \u001b[0mfilename\u001b[0m\u001b[1;33m:\u001b[0m\u001b[1;33m\u001b[0m\u001b[0m\n\u001b[1;32m-> 2258\u001b[1;33m         \u001b[0mfp\u001b[0m \u001b[1;33m=\u001b[0m \u001b[0mbuiltins\u001b[0m\u001b[1;33m.\u001b[0m\u001b[0mopen\u001b[0m\u001b[1;33m(\u001b[0m\u001b[0mfilename\u001b[0m\u001b[1;33m,\u001b[0m \u001b[1;34m\"rb\"\u001b[0m\u001b[1;33m)\u001b[0m\u001b[1;33m\u001b[0m\u001b[0m\n\u001b[0m\u001b[0;32m   2259\u001b[0m \u001b[1;33m\u001b[0m\u001b[0m\n\u001b[0;32m   2260\u001b[0m     \u001b[1;32mtry\u001b[0m\u001b[1;33m:\u001b[0m\u001b[1;33m\u001b[0m\u001b[0m\n",
      "\u001b[1;31mFileNotFoundError\u001b[0m: [Errno 2] No such file or directory: 'red-fox.jpg'"
     ]
    }
   ],
   "source": [
    "# name of the image to load\n",
    "filename = 'red-fox.jpg'\n",
    "\n",
    "# load the image\n",
    "# we do this in one step in the next interpreted statement\n",
    "#img1 = \n",
    "\n",
    "# transfer the image into numpy ndarray (depending on the function, this is one step with prev.one)\n",
    "img1 = ndimage.imread(filename)\n",
    "\n",
    "# get image dimensions\n",
    "dims = img1.shape\n",
    "\n",
    "# get image size\n",
    "s = img1.size\n",
    "\n",
    "print('Loaded: {}'.format(filename))\n",
    "print('Image shape: {}'.format(dims))\n",
    "print('Image size: {}'.format(s))\n",
    "\n",
    "# crop a random (h x w) patch from the image\n",
    "h = 227\n",
    "w = 227\n",
    "img1_cut = img1[0:h, 0:w]  # we just used the offset 0,0 (easier)\n",
    "\n",
    "# resize initial image to the size (h x w x c), c - number of channels\n",
    "c = 3\n",
    "img1_resize = scipy.misc.imresize(img1, (h, w, c))\n",
    "\n",
    "# convert the original image into the gray scale\n",
    "img1_gray = ndimage.imread(filename, mode='L')  # we convert the image while loading it again\n",
    "\n",
    "# compute image gradient in x-direction: convolve image with the correct sobel filter (HINT check ndimage from scipy)\n",
    "sfilter = ndimage.sobel(img1, axis=1)  # our x axis is axis=1, as well this function will as well convolve the sobel filter\n",
    "img1_dx = sfilter\n",
    "\n",
    "# apply an arbitrary affine transformation (rotation, translation) to the gray scale image\n",
    "img1_transf = ndimage.rotate(img1, 45)\n",
    "\n",
    "# show all resuls (6 images in a single figure)\n",
    "plt.subplot(2,3,1)\n",
    "plt.imshow(img1)\n",
    "plt.title(\"Loaded JPG image\")\n",
    "plt.axis('off')\n",
    "plt.subplot(2,3,2)\n",
    "plt.imshow(img1_cut)\n",
    "plt.title(\"Cut image\")\n",
    "plt.axis('off')\n",
    "plt.subplot(2,3,3)\n",
    "plt.imshow(img1_resize)\n",
    "plt.title(\"Resized image\")\n",
    "plt.axis('off')\n",
    "plt.subplot(2,3,4)\n",
    "plt.imshow(img1_gray, cmap='Greys_r')\n",
    "plt.title(\"Gray image\")\n",
    "plt.axis('off')\n",
    "plt.subplot(2,3,5)\n",
    "plt.imshow(img1_dx, cmap='Greys_r')\n",
    "plt.title(\"X-Gradient image\")\n",
    "plt.axis('off')\n",
    "plt.subplot(2,3,6)\n",
    "plt.imshow(img1_transf)\n",
    "plt.title(\"Transformed image\")\n",
    "plt.axis('off')\n",
    "plt.show()"
   ]
  },
  {
   "cell_type": "code",
   "execution_count": null,
   "metadata": {
    "collapsed": false
   },
   "outputs": [
    {
     "name": "stdout",
     "output_type": "stream",
     "text": [
      "trainset shape:  (60000, 28, 28)\n",
      "testset shape:  (10000, 28, 28)\n"
     ]
    },
    {
     "data": {
      "image/png": "[encoded data removed]",
      "text/plain": [
       "<matplotlib.figure.Figure at 0x7f5a70d3e8d0>"
      ]
     },
     "metadata": {},
     "output_type": "display_data"
    },
    {
     "name": "stdout",
     "output_type": "stream",
     "text": [
      "new trainset shape:  (60000, 784)\n",
      "new testset shape:  (10000, 784)\n"
     ]
    },
    {
     "name": "stderr",
     "output_type": "stream",
     "text": [
      "/home/ivukotic/anaconda3/lib/python3.5/site-packages/sklearn/utils/validation.py:420: DataConversionWarning: Data with input dtype uint8 was converted to float64 by MinMaxScaler.\n",
      "  warnings.warn(msg, DataConversionWarning)\n"
     ]
    }
   ],
   "source": [
    "# load MNIST data set (only selected digits, i.e. 3,8,9 )\n",
    "digits = [3,8,9]\n",
    "digits = np.arange(10)\n",
    "\n",
    "trainset, trainlabels = load_mnist(dataset=\"training\", digits=digits, path=\"\")\n",
    "testset, testlabels = load_mnist(dataset=\"testing\", digits=digits, path=\"\")\n",
    "\n",
    "# reshape arrays with the labels into 1d arrays\n",
    "trainlabels = trainlabels.reshape((len(trainlabels)))\n",
    "testlabels = testlabels.reshape((len(testlabels)))\n",
    "\n",
    "print('trainset shape: ', trainset.shape)\n",
    "print('testset shape: ', testset.shape)\n",
    "\n",
    "# visualize three random sample from the dataset:\n",
    "for i in range(1,4):\n",
    "    plt.subplot(1,3,i)\n",
    "    plt.imshow(trainset[randint(0,500)])\n",
    "    plt.axis('off')\n",
    "plt.show()\n",
    "\n",
    "# consider image pixels as features, for that reshape the images in 1d vectors\n",
    "trainset_vec = trainset.reshape((trainset.shape[0], trainset.shape[1]*trainset.shape[2]))\n",
    "print('new trainset shape: ', trainset_vec.shape)\n",
    "testset_vec = testset.reshape((testset.shape[0], testset.shape[1]*testset.shape[2]))\n",
    "print('new testset shape: ', testset_vec.shape)\n",
    "\n",
    "# normalize data to [-1, 1]-range\n",
    "scaler1 = preprocessing.MinMaxScaler(feature_range=(-1, 1), copy=True)\n",
    "trainset_vec = scaler1.fit_transform(trainset_vec)\n",
    "testset_vec = scaler1.transform(testset_vec)   # make sure we use the same transformation!\n",
    "\n",
    "# create a SVM classifier\n",
    "classifier = svm.SVC()\n",
    "\n",
    "# train classifier check (see the svm.SVC definition)\n",
    "classifier.fit(trainset_vec, trainlabels)\n",
    "\n",
    "# test classifier on the validation set (see the svm.SVC definition)\n",
    "testlabels_pred = classifier.predict(testset_vec)\n",
    "\n",
    "# classification accuracy on the validation set\n",
    "Acc = classifier.score(testset_vec, testlabels)\n",
    "print(\"Accuracy on the validation set: %0.2f\" % (100*Acc))\n",
    "\n",
    "# confusion matrix ( HINT see metrics from sklearn)\n",
    "confmatrix = confusion_matrix(testlabels, testlabels_pred)\n",
    "print('Confusion matrix:\\n ', confmatrix)\n",
    "np.set_printoptions(precision=2)\n",
    "# source for the code of this fancy plotting function: http://scikit-learn.org/stable/auto_examples/model_selection/plot_confusion_matrix.html#sphx-glr-auto-examples-model-selection-plot-confusion-matrix-py\n",
    "plot_confusion_matrix(confmatrix, digits, normalize=False)"
   ]
  },
  {
   "cell_type": "code",
   "execution_count": null,
   "metadata": {
    "collapsed": false
   },
   "outputs": [],
   "source": []
  },
  {
   "cell_type": "code",
   "execution_count": null,
   "metadata": {
    "collapsed": false
   },
   "outputs": [],
   "source": []
  },
  {
   "cell_type": "code",
   "execution_count": null,
   "metadata": {
    "collapsed": false
   },
   "outputs": [],
   "source": []
  },
  {
   "cell_type": "code",
   "execution_count": null,
   "metadata": {
    "collapsed": false
   },
   "outputs": [],
   "source": []
  },
  {
   "cell_type": "code",
   "execution_count": 207,
   "metadata": {
    "collapsed": true
   },
   "outputs": [],
   "source": []
  },
  {
   "cell_type": "code",
   "execution_count": null,
   "metadata": {
    "collapsed": true
   },
   "outputs": [],
   "source": []
  }
 ],
 "metadata": {
  "kernelspec": {
   "display_name": "Python 3",
   "language": "python",
   "name": "python3"
  },
  "language_info": {
   "codemirror_mode": {
    "name": "ipython",
    "version": 3
   },
   "file_extension": ".py",
   "mimetype": "text/x-python",
   "name": "python",
   "nbconvert_exporter": "python",
   "pygments_lexer": "ipython3",
   "version": "3.5.1"
  }
 },
 "nbformat": 4,
 "nbformat_minor": 0
}
