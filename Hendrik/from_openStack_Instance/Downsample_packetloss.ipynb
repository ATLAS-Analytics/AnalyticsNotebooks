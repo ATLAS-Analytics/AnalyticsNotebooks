{
 "cells": [
  {
   "cell_type": "code",
   "execution_count": 1,
   "metadata": {
    "collapsed": true
   },
   "outputs": [],
   "source": [
    "import json\n",
    "from pprint import pprint\n",
    "import os\n",
    "import sqlite3\n",
    "from __future__ import print_function\n",
    "import unicodedata\n",
    "import datetime\n",
    "import numpy as np\n",
    "from __future__ import division"
   ]
  },
  {
   "cell_type": "code",
   "execution_count": 6,
   "metadata": {
    "collapsed": true
   },
   "outputs": [],
   "source": [
    "pathToDB = \"/root/jupyter_NB/packetloss-DB-1.db\"\n",
    "pathToNewDB = \"/root/jupyter_NB/packetloss-DB-2-downsampled.db\"\n",
    "conn1 = sqlite3.connect(pathToDB)\n",
    "c1 = conn.cursor()\n",
    "conn2 = sqlite3.connect(pathToNewDB)\n",
    "c2 = conn.cursor()"
   ]
  },
  {
   "cell_type": "code",
   "execution_count": 7,
   "metadata": {
    "collapsed": true
   },
   "outputs": [],
   "source": [
    "tableCreationString = '''CREATE TABLE rawdata_packetloss (source text, input_source text, \n",
    "destination text, tool_name text, input_destination text, \n",
    "measurement_agent  text, datapoint_timestamp integer, \n",
    "datapoint_packetloss real, topic text, type text, event_timestamp integer, \n",
    "summaries text, type_prefix text , event_type text )'''\n",
    "\n",
    "# check if table already exists if not create it\n",
    "c2.execute(\"SELECT name FROM sqlite_master WHERE type='table' AND name='rawdata';\")\n",
    "data =  c2.fetchall()\n",
    "if data.count((\"rawdata_packetloss\",)) == 0:\n",
    "    c2.execute(tableCreationString)\n",
    "conn2.commit()"
   ]
  },
  {
   "cell_type": "code",
   "execution_count": 23,
   "metadata": {
    "collapsed": true
   },
   "outputs": [],
   "source": [
    "def addDataPointToDB(cursor, dataPoint):\n",
    "    meta = dataPoint[\"data\"][\"meta\"]\n",
    "    metadata = dataPoint[\"metadata\"]\n",
    "    addItems = (meta[\"source\"], meta[\"input_source\"], meta[\"destination\"],\n",
    "                meta[\"tool_name\"], meta[\"input_destination\"], meta[\"measurement_agent\"], \n",
    "                str(dataPoint[\"data\"][\"datapoints\"]), \n",
    "                metadata[\"topic\"], metadata[\"type\"], metadata[\"kafka_timestamp\"], \n",
    "                metadata[\"summaries\"], metadata[\"type_prefix\"], metadata[\"event-type\"])\n",
    "    cursor.execute(\"INSERT INTO rawdata VALUES (?,?,?,?,?,?,?,?,?,?,?,?,?,?)\", addItems)\n",
    "\n",
    "\n",
    "# returns events, that went from source to dest as a list\n",
    "# the list is ordered in time, where the newest event comes first\n",
    "def getDataPoints(source, dest, coursor):\n",
    "    dataTuples = []\n",
    "    query_info = (source, dest, )\n",
    "    counter = 0\n",
    "    for row in coursor.execute('SELECT * FROM rawdata WHERE input_source=? AND input_destination=? ORDER BY event_timestamp DESC', query_info):\n",
    "        counter += 1\n",
    "        dataTuples.append(row)\n",
    "    print(str(counter) + \" Datapoints were read.\")\n",
    "    # store all datapoints in a fitting format\n",
    "    dataPoints = []\n",
    "    for point in dataTuples:\n",
    "        # do unicode converstion and formatting\n",
    "        text = point[6].encode('ascii','ignore').replace(\"u\", '').replace(\"'\", '\"')\n",
    "        data = json.loads(text)\n",
    "        dataPoints.append(data)\n",
    "    return (dataTuples, dataPoints)\n",
    "\n"
   ]
  },
  {
   "cell_type": "code",
   "execution_count": 24,
   "metadata": {
    "collapsed": false
   },
   "outputs": [
    {
     "name": "stdout",
     "output_type": "stream",
     "text": [
      "1018 Datapoints were read.\n"
     ]
    }
   ],
   "source": [
    "# get all source/dest pairs\n",
    "source = \"perfsonar-lt.cern.ch\"\n",
    "dest = \"ps-latency.lhcmon.triumf.ca\"\n",
    "testDataPoints = []\n",
    "testDataPoints = getDataPoints(source, dest, c)"
   ]
  },
  {
   "cell_type": "code",
   "execution_count": 27,
   "metadata": {
    "collapsed": false
   },
   "outputs": [
    {
     "name": "stdout",
     "output_type": "stream",
     "text": [
      "(u'128.142.223.247',\n",
      " u'perfsonar-lt.cern.ch',\n",
      " u'206.12.9.2',\n",
      " u'powstream',\n",
      " u'ps-latency.lhcmon.triumf.ca',\n",
      " u'128.142.223.247',\n",
      " u\"{u'1471868355': 0.0, u'1471870683': 0.0, u'1471868115': 0.0, u'1471868295': 0.0, u'1471870624': 0.0016666666666666668, u'1471868662': 0.0, u'1471868421': 0.0, u'1471868543': 0.0, u'1471868237': 0.0, u'1471869377': 0.0, u'1471869846': 0.0, u'1471869199': 0.0, u'1471870504': 0.0, u'1471869967': 0.0, u'1471869676': 0.0, u'1471868962': 0.0, u'1471869789': 0.0, u'1471869908': 0.0, u'1471870325': 0.0, u'1471868177': 0.0, u'1471868845': 0.0, u'1471870087': 0.0, u'1471870444': 0.0, u'1471869500': 0.0, u'1471870146': 0.0, u'1471870203': 0.0, u'1471869438': 0.0, u'1471869022': 0.0, u'1471869140': 0.0, u'1471868906': 0.0, u'1471870029': 0.0, u'1471868783': 0.0, u'1471870385': 0.0, u'1471870267': 0.07333333333333333, u'1471869561': 0.0, u'1471869732': 0.0, u'1471868604': 0.0, u'1471868481': 0.0, u'1471869320': 0.0, u'1471869619': 0.0, u'1471870564': 0.0, u'1471868052': 0.0, u'1471869080': 0.0, u'1471868724': 0.0, u'1471869263': 0.0}\",\n",
      " u'perfsonar_raw_packetloss',\n",
      " u'packetloss',\n",
      " 1471902258563,\n",
      " u'1',\n",
      " u'raw',\n",
      " u'packet-loss-rate')\n",
      "{u'1471868052': 0.0,\n",
      " u'1471868115': 0.0,\n",
      " u'1471868177': 0.0,\n",
      " u'1471868237': 0.0,\n",
      " u'1471868295': 0.0,\n",
      " u'1471868355': 0.0,\n",
      " u'1471868421': 0.0,\n",
      " u'1471868481': 0.0,\n",
      " u'1471868543': 0.0,\n",
      " u'1471868604': 0.0,\n",
      " u'1471868662': 0.0,\n",
      " u'1471868724': 0.0,\n",
      " u'1471868783': 0.0,\n",
      " u'1471868845': 0.0,\n",
      " u'1471868906': 0.0,\n",
      " u'1471868962': 0.0,\n",
      " u'1471869022': 0.0,\n",
      " u'1471869080': 0.0,\n",
      " u'1471869140': 0.0,\n",
      " u'1471869199': 0.0,\n",
      " u'1471869263': 0.0,\n",
      " u'1471869320': 0.0,\n",
      " u'1471869377': 0.0,\n",
      " u'1471869438': 0.0,\n",
      " u'1471869500': 0.0,\n",
      " u'1471869561': 0.0,\n",
      " u'1471869619': 0.0,\n",
      " u'1471869676': 0.0,\n",
      " u'1471869732': 0.0,\n",
      " u'1471869789': 0.0,\n",
      " u'1471869846': 0.0,\n",
      " u'1471869908': 0.0,\n",
      " u'1471869967': 0.0,\n",
      " u'1471870029': 0.0,\n",
      " u'1471870087': 0.0,\n",
      " u'1471870146': 0.0,\n",
      " u'1471870203': 0.0,\n",
      " u'1471870267': 0.07333333333333333,\n",
      " u'1471870325': 0.0,\n",
      " u'1471870385': 0.0,\n",
      " u'1471870444': 0.0,\n",
      " u'1471870504': 0.0,\n",
      " u'1471870564': 0.0,\n",
      " u'1471870624': 0.0016666666666666668,\n",
      " u'1471870683': 0.0}\n"
     ]
    }
   ],
   "source": [
    "pprint(testDataPoints[0][0])\n",
    "pprint(testDataPoints[1][0])"
   ]
  },
  {
   "cell_type": "code",
   "execution_count": null,
   "metadata": {
    "collapsed": true
   },
   "outputs": [],
   "source": []
  }
 ],
 "metadata": {
  "kernelspec": {
   "display_name": "Python 2",
   "language": "python",
   "name": "python2"
  },
  "language_info": {
   "codemirror_mode": {
    "name": "ipython",
    "version": 2
   },
   "file_extension": ".py",
   "mimetype": "text/x-python",
   "name": "python",
   "nbconvert_exporter": "python",
   "pygments_lexer": "ipython2",
   "version": "2.7.5"
  }
 },
 "nbformat": 4,
 "nbformat_minor": 0
}
