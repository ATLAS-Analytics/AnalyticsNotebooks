{
 "cells": [
  {
   "cell_type": "code",
   "execution_count": 1,
   "metadata": {
    "collapsed": false
   },
   "outputs": [
    {
     "data": {
      "application/javascript": [
       "require(['codemirror/mode/clike/clike'], function(Clike) { console.log('ROOTaaS - C++ CodeMirror module loaded'); });"
      ]
     },
     "metadata": {},
     "output_type": "display_data"
    },
    {
     "data": {
      "application/javascript": [
       "IPython.CodeCell.config_defaults.highlight_modes['magic_text/x-c++src'] = {'reg':[/^%%cpp/]};"
      ]
     },
     "metadata": {},
     "output_type": "display_data"
    },
    {
     "name": "stdout",
     "output_type": "stream",
     "text": [
      "Welcome to ROOTaaS 6.06/06\n"
     ]
    },
    {
     "data": {
      "text/plain": [
       "<ROOT.TMVA::Tools object at 0x4f62c40>"
      ]
     },
     "execution_count": 1,
     "metadata": {},
     "output_type": "execute_result"
    }
   ],
   "source": [
    "import ROOT\n",
    "ROOT.TMVA.Tools.Instance()"
   ]
  },
  {
   "cell_type": "code",
   "execution_count": 2,
   "metadata": {
    "collapsed": false
   },
   "outputs": [
    {
     "name": "stdout",
     "output_type": "stream",
     "text": [
      "--- Factory                  : You are running ROOT Version: 6.06/06, Jul 6, 2016\r\n",
      "--- Factory                  : \r\n",
      "--- Factory                  : _/_/_/_/_/ _|      _|  _|      _|    _|_|   \r\n",
      "--- Factory                  :    _/      _|_|  _|_|  _|      _|  _|    _| \r\n",
      "--- Factory                  :   _/       _|  _|  _|  _|      _|  _|_|_|_| \r\n",
      "--- Factory                  :  _/        _|      _|    _|  _|    _|    _| \r\n",
      "--- Factory                  : _/         _|      _|      _|      _|    _| \r\n",
      "--- Factory                  : \r\n",
      "--- Factory                  : ___________TMVA Version 4.2.1, Feb 5, 2015\r\n",
      "--- Factory                  : \r\n"
     ]
    }
   ],
   "source": [
    "outfileName = \"KNN_Test_via_TMVAReg.root\"\n",
    "outputFile = ROOT.TFile(outfileName,\"RECREATE\")\n",
    "factory = ROOT.TMVA.Factory(\"TMVARegression\", outputFile,\n",
    "                            \"!V:!Silent:Color:DrawProgressBar\" )"
   ]
  },
  {
   "cell_type": "code",
   "execution_count": 4,
   "metadata": {
    "collapsed": false
   },
   "outputs": [],
   "source": [
    "# Define the input variables that shall be used for the MVA training\n",
    "# note that you may also use variable expressions, such as: \"3*var1/var2*abs(var3)\"\n",
    "# [all types of expressions that can also be parsed by TTree::Draw( \"expression\" )]\n",
    "factory.AddVariable( \"var1\", \"Variable 1\", \"units\", 'F' )\n",
    "factory.AddVariable( \"var2\", \"Variable 2\", \"units\", 'F' )\n",
    "\n",
    "# You can add so-called \"Spectator variables\", which are not used in the MVA training, \n",
    "# but will appear in the final \"TestTree\" produced by TMVA. This TestTree will contain the \n",
    "# input variables, the response values of all trained MVAs, and the spectator variables\n",
    "factory.AddSpectator( \"spec1:=var1*2\",  \"Spectator 1\", \"units\", -100.0, 100.0  )\n",
    "factory.AddSpectator( \"spec2:=var1*3\",  \"Spectator 2\", \"units\", -100.0, 100.0  )\n",
    "\n",
    "# Add the variable carrying the regression target\n",
    "factory.AddTarget( \"fvalue\" )\n",
    "\n",
    "# It is also possible to declare additional targets for multi-dimensional regression, ie:\n",
    "# -- factory->AddTarget( \"fvalue2\" );\n",
    "# BUT: this is currently ONLY implemented for MLP"
   ]
  },
  {
   "cell_type": "code",
   "execution_count": 5,
   "metadata": {
    "collapsed": true
   },
   "outputs": [],
   "source": [
    "fname = \"./tmva_reg_example.root\";\n",
    "inputFile = ROOT.TFile.Open( fname );"
   ]
  },
  {
   "cell_type": "code",
   "execution_count": 9,
   "metadata": {
    "collapsed": false
   },
   "outputs": [
    {
     "name": "stdout",
     "output_type": "stream",
     "text": [
      "--- Factory                  : Add Tree TreeR of type Regression with 10000 events\r\n",
      "--- DataSetInfo              : Class index : 0  name : Regression\r\n"
     ]
    }
   ],
   "source": [
    "# --- Register the regression tree\n",
    "\n",
    "regTree = inputFile.Get(\"TreeR\");\n",
    "\n",
    "# global event weights per tree (see below for setting event-wise weights)\n",
    "regWeight  = 1.0;   \n",
    "\n",
    "# You can add an arbitrary number of regression trees\n",
    "factory.AddRegressionTree( regTree, regWeight );\n",
    "\n",
    "# This would set individual event weights (the variables defined in the \n",
    "# expression need to exist in the original TTree)\n",
    "factory.SetWeightExpression( \"var1\", \"Regression\" );\n",
    "\n",
    "# Apply additional cuts on the signal and background samples (can be different)\n",
    "mycut = ROOT.TCut('') # for example: TCut mycut = \"abs(var1)<0.5 && abs(var2-0.5)<1\";\n",
    "\n",
    "# tell the factory to use all remaining events in the trees after training for testing:\n",
    "factory.PrepareTrainingAndTestTree( mycut, \n",
    "                                    \"nTrain_Regression=1000:nTest_Regression=0:SplitMode=Random:NormMode=NumEvents:!V\" )\n",
    "# factory.PrepareTrainingAndTestTree( mycut, \n",
    "#                                   \"nTrain_Regression=0:nTest_Regression=0:SplitMode=Random:NormMode=NumEvents:!V\" );\n",
    "\n",
    "# If no numbers of events are given, half of the events in the tree are used \n",
    "# for training, and the other half for testing:\n",
    "#    factory.PrepareTrainingAndTestTree( mycut, \"SplitMode=random:!V\" )"
   ]
  },
  {
   "cell_type": "code",
   "execution_count": 11,
   "metadata": {
    "collapsed": false
   },
   "outputs": [
    {
     "name": "stdout",
     "output_type": "stream",
     "text": [
      "--- Factory                  : Booking method: \u001b[1mMLP\u001b[0m\r\n",
      "--- MLP                      : Create Transformation \"Norm\" with events from all classes.\r\n",
      "--- Norm                     : Transformation, Variable selection : \r\n",
      "--- Norm                     : Input : variable 'var1' (index=0).   <---> Output : variable 'var1' (index=0).\r\n",
      "--- Norm                     : Input : variable 'var2' (index=1).   <---> Output : variable 'var2' (index=1).\r\n",
      "--- Norm                     : Input : variable 'var1' (index=2).   <---> Output : variable 'var1' (index=2).\r\n",
      "--- Norm                     : Input : variable 'var2' (index=3).   <---> Output : variable 'var2' (index=3).\r\n",
      "--- Norm                     : Input : target 'fvalue' (index=0).   <---> Output : target 'fvalue' (index=0).\r\n",
      "--- MLP                      : Building Network\r\n",
      "--- MLP                      : Initializing weights\r\n"
     ]
    }
   ],
   "source": [
    "# Book the actual method\n",
    "factory.BookMethod( ROOT.TMVA.Types.kMLP, \"MLP\",\n",
    "                   \"!H:!V:VarTransform=Norm:NeuronType=tanh:NCycles=20000:HiddenLayers=N+20:TestRate=6:TrainingMethod=BFGS:Sampling=0.3:SamplingEpoch=0.8:ConvergenceImprove=1e-6:ConvergenceTests=15:!UseRegulator\" );"
   ]
  },
  {
   "cell_type": "code",
   "execution_count": null,
   "metadata": {
    "collapsed": true
   },
   "outputs": [],
   "source": [
    "# Train MVAs using the set of training events\n",
    "factory.TrainAllMethods();\n",
    "\n",
    "# ---- Evaluate all MVAs using the set of test events\n",
    "factory.TestAllMethods();\n",
    "\n",
    "# ----- Evaluate and compare performance of all configured MVAs\n",
    "factory.EvaluateAllMethods();  "
   ]
  },
  {
   "cell_type": "code",
   "execution_count": null,
   "metadata": {
    "collapsed": true
   },
   "outputs": [],
   "source": [
    "outputFile.Close()\n",
    "print(\"==> Wrote root file: \" + outputFile.GetName())\n",
    "print(\"==> TMVAClassification is done!\")\n",
    "del factory\n",
    "ROOT.TMVA.TMVAGui( outfileName )"
   ]
  },
  {
   "cell_type": "code",
   "execution_count": 1,
   "metadata": {
    "collapsed": false
   },
   "outputs": [
    {
     "name": "stdout",
     "output_type": "stream",
     "text": [
      "Press Enter to continue...\n"
     ]
    },
    {
     "data": {
      "text/plain": [
       "''"
      ]
     },
     "execution_count": 1,
     "metadata": {},
     "output_type": "execute_result"
    }
   ],
   "source": [
    "raw_input(\"Press Enter to continue...\")"
   ]
  },
  {
   "cell_type": "code",
   "execution_count": null,
   "metadata": {
    "collapsed": true
   },
   "outputs": [],
   "source": []
  }
 ],
 "metadata": {
  "kernelspec": {
   "display_name": "Python 2",
   "language": "python",
   "name": "python2"
  },
  "language_info": {
   "codemirror_mode": {
    "name": "ipython",
    "version": 2
   },
   "file_extension": ".py",
   "mimetype": "text/x-python",
   "name": "python",
   "nbconvert_exporter": "python",
   "pygments_lexer": "ipython2",
   "version": "2.7.5"
  }
 },
 "nbformat": 4,
 "nbformat_minor": 0
}
