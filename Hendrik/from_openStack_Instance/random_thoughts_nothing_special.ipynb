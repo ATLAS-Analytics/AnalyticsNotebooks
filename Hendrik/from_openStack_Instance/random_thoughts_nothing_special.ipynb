{
 "cells": [
  {
   "cell_type": "code",
   "execution_count": 1,
   "metadata": {
    "collapsed": true
   },
   "outputs": [],
   "source": [
    "import json\n",
    "from pprint import pprint\n",
    "import os\n",
    "import sqlite3\n",
    "from __future__ import print_function\n",
    "import unicodedata\n",
    "import datetime\n",
    "import numpy as np"
   ]
  },
  {
   "cell_type": "code",
   "execution_count": 7,
   "metadata": {
    "collapsed": true
   },
   "outputs": [],
   "source": [
    "pathToDB = \"/root/jupyter_NB/packettrace-DB-1.db\"\n",
    "conn = sqlite3.connect(pathToDB)\n",
    "c = conn.cursor()"
   ]
  },
  {
   "cell_type": "code",
   "execution_count": 11,
   "metadata": {
    "collapsed": true
   },
   "outputs": [],
   "source": [
    "# returns events, that went from source to dest as a list\n",
    "# the list is ordered in time, where the newest event comes first\n",
    "def getDataPoints(coursor):\n",
    "    dataStrings = []\n",
    "    counter = 0\n",
    "    for row in coursor.execute('SELECT datapoints FROM rawdata ORDER BY event_timestamp DESC'):\n",
    "        counter += 1\n",
    "        dataStrings.append(row)\n",
    "    print(str(counter) + \" Datapoints were read.\")\n",
    "    # store all datapoints in a fitting format\n",
    "    dataPoints = []\n",
    "    for point in dataStrings:\n",
    "        # do unicode converstion and formatting\n",
    "        text = point[0].encode('ascii','ignore').replace(\"u\", '').replace(\"'\", '\"')\n",
    "        data = json.loads(text)\n",
    "        dataPoints.append(data)\n",
    "    return dataPoints\n",
    "\n",
    "# datetime objects are simpler to handle than timestamps and they support comparrison\n",
    "def convertTimestampToDatetime(timestamp):\n",
    "    return datetime.datetime.fromtimestamp(timestamp)\n",
    "\n",
    "def avageAndVarianceOverWeeks(dataPointsArray, currentIndex, averagingWeeks):\n",
    "    outTupel = (0, 0)\n",
    "    weekInSeconds = 604800\n",
    "    weeksAgo = dataPointsArray[currentIndex, 0] - (weekInSeconds * averagingWeeks)\n",
    "    if (dataPointsArray[len(dataPointsArray)-1, 0] > weeksAgo):\n",
    "        weeksAgo = dataPointsArray[len(dataPointsArray)-1, 0]\n",
    "    # cut array\n",
    "    lastIndex = 0\n",
    "    for i in xrange(len(dataPointsArray)):\n",
    "        if dataPointsArray[i, 0] <= weeksAgo :\n",
    "            lastIndex = i\n",
    "    # TODO: CUT THE ACTUAL ARRAY AND CONTIUNE WITH AVERAGING AND VAIANZ STUFF\n",
    "    dataSum = 0\n",
    "    for point in dataPoints:\n",
    "        break\n",
    "        \n",
    "    \n",
    "\n",
    "def createThroughputDataset(dataPoints, averagingWeeks):\n",
    "    # since we know, that we only have one datapoint per listentry we will convert the list to a numpy array\n",
    "    dataPointsArray = np.empty([len(dataPoints),2], np.int32)\n",
    "    for i in xrange(len(dataPointsArray)):\n",
    "        dataPointsArray[i,0] = int(dataPoints[i].keys()[0])\n",
    "        dataPointsArray[i,1] = int(dataPoints[i].values()[0])\n",
    "    # create a Element in the List for each DataPoint\n",
    "    for i in xrange(len(dataPointsArray)):\n",
    "        currentSet = {}\n",
    "        currentSet[\"timestamp\"] = dataPointsArray[i,0]\n",
    "        currentSet[\"measurement\"] = dataPointsArray[i,1]\n",
    "        avgAVar = avageAndVarianceOverWeeks(dataPointsArray, i, averagingWeeks)\n",
    "        currentSet[\"average\"] = avgAVar[0]\n",
    "        currentSet[\"variance\"] = avgAVar[1]\n",
    "        \n",
    "    "
   ]
  },
  {
   "cell_type": "code",
   "execution_count": null,
   "metadata": {
    "collapsed": false
   },
   "outputs": [],
   "source": [
    "dataPoints = getDataPoints(c)"
   ]
  },
  {
   "cell_type": "code",
   "execution_count": null,
   "metadata": {
    "collapsed": true
   },
   "outputs": [],
   "source": []
  }
 ],
 "metadata": {
  "kernelspec": {
   "display_name": "Python 2",
   "language": "python",
   "name": "python2"
  },
  "language_info": {
   "codemirror_mode": {
    "name": "ipython",
    "version": 2
   },
   "file_extension": ".py",
   "mimetype": "text/x-python",
   "name": "python",
   "nbconvert_exporter": "python",
   "pygments_lexer": "ipython2",
   "version": "2.7.5"
  }
 },
 "nbformat": 4,
 "nbformat_minor": 0
}
