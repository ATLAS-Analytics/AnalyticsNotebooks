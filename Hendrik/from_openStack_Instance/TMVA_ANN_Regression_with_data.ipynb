{
 "cells": [
  {
   "cell_type": "code",
   "execution_count": 1,
   "metadata": {
    "collapsed": false
   },
   "outputs": [
    {
     "data": {
      "application/javascript": [
       "require(['codemirror/mode/clike/clike'], function(Clike) { console.log('ROOTaaS - C++ CodeMirror module loaded'); });"
      ]
     },
     "metadata": {},
     "output_type": "display_data"
    },
    {
     "data": {
      "application/javascript": [
       "IPython.CodeCell.config_defaults.highlight_modes['magic_text/x-c++src'] = {'reg':[/^%%cpp/]};"
      ]
     },
     "metadata": {},
     "output_type": "display_data"
    },
    {
     "name": "stdout",
     "output_type": "stream",
     "text": [
      "Welcome to ROOTaaS 6.06/06\n"
     ]
    },
    {
     "data": {
      "text/plain": [
       "<ROOT.TMVA::Tools object at 0x5360860>"
      ]
     },
     "execution_count": 1,
     "metadata": {},
     "output_type": "execute_result"
    }
   ],
   "source": [
    "import ROOT\n",
    "ROOT.TMVA.Tools.Instance()"
   ]
  },
  {
   "cell_type": "code",
   "execution_count": 2,
   "metadata": {
    "collapsed": false
   },
   "outputs": [
    {
     "name": "stdout",
     "output_type": "stream",
     "text": [
      "--- Factory                  : You are running ROOT Version: 6.06/06, Jul 6, 2016\r\n",
      "--- Factory                  : \r\n",
      "--- Factory                  : _/_/_/_/_/ _|      _|  _|      _|    _|_|   \r\n",
      "--- Factory                  :    _/      _|_|  _|_|  _|      _|  _|    _| \r\n",
      "--- Factory                  :   _/       _|  _|  _|  _|      _|  _|_|_|_| \r\n",
      "--- Factory                  :  _/        _|      _|    _|  _|    _|    _| \r\n",
      "--- Factory                  : _/         _|      _|      _|      _|    _| \r\n",
      "--- Factory                  : \r\n",
      "--- Factory                  : ___________TMVA Version 4.2.1, Feb 5, 2015\r\n",
      "--- Factory                  : \r\n"
     ]
    }
   ],
   "source": [
    "outfileName = \"KNN_from_real_data_via_TMVAReg.root\"\n",
    "outputFile = ROOT.TFile(outfileName,\"RECREATE\")\n",
    "factory = ROOT.TMVA.Factory(\"TMVARegression\", outputFile,\n",
    "                            \"!V:!Silent:Color:DrawProgressBar\" )"
   ]
  },
  {
   "cell_type": "code",
   "execution_count": 3,
   "metadata": {
    "collapsed": true
   },
   "outputs": [],
   "source": [
    "fname = \"/root/Downloads/dataSet_CERN_to_RAL.root\"\n",
    "inputFile = ROOT.TFile.Open( fname )"
   ]
  },
  {
   "cell_type": "code",
   "execution_count": 4,
   "metadata": {
    "collapsed": true
   },
   "outputs": [],
   "source": [
    "regTree = inputFile.Get(\"TreeR\")"
   ]
  },
  {
   "cell_type": "code",
   "execution_count": 5,
   "metadata": {
    "collapsed": false
   },
   "outputs": [],
   "source": [
    "leaves = regTree.GetListOfLeaves()\n",
    "# add all variables, except throughput and timestamp\n",
    "for i in xrange(len(leaves)):\n",
    "    if (leaves[i].GetName() == \"timestamp\") or (leaves[i].GetName() == \"throughput\"):\n",
    "            continue\n",
    "    factory.AddVariable( leaves[i].GetName(), leaves[i].GetTitle(), \"units\", 'F' )\n",
    "# Add the variable carrying the regression target\n",
    "factory.AddTarget( \"throughput\" )"
   ]
  },
  {
   "cell_type": "code",
   "execution_count": 6,
   "metadata": {
    "collapsed": false
   },
   "outputs": [
    {
     "name": "stdout",
     "output_type": "stream",
     "text": [
      "--- DataSetInfo              : Added class \"Regression\"\t with internal class number 0\r\n",
      "--- Factory                  : Add Tree TreeR of type Regression with 639 events\r\n",
      "--- DataSetInfo              : Class index : 0  name : Regression\r\n"
     ]
    }
   ],
   "source": [
    "regWeight  = 1.0\n",
    "factory.AddRegressionTree( regTree, regWeight )\n",
    "\n",
    "# I don't know what to do about this.. guess we don't need it\n",
    "# This would set individual event weights (the variables defined in the \n",
    "# expression need to exist in the original TTree)\n",
    "#factory.SetWeightExpression( \"var1\", \"Regression\" )\n",
    "\n",
    "numOfEvents = regTree.GetEntries()\n",
    "percentageOfTrainingSample = 0.6\n",
    "toTrain = int(numOfEvents*percentageOfTrainingSample)\n",
    "# ToDo implement this with nTrainRegression=+str(toTrain)+:nTestRegression=0 in the options\n",
    "# Apply additional cuts on the signal and background samples (can be different)\n",
    "mycut = ROOT.TCut('') # for example: TCut mycut = \"abs(var1)<0.5 && abs(var2-0.5)<1\";\n",
    "factory.PrepareTrainingAndTestTree( mycut, \"nTrain_Regression=\"+str(toTrain)+\":nTest_Regression=0:SplitMode=random:!V:NormMode=None\" )"
   ]
  },
  {
   "cell_type": "code",
   "execution_count": 24,
   "metadata": {
    "collapsed": false
   },
   "outputs": [
    {
     "name": "stdout",
     "output_type": "stream",
     "text": [
      "--- Factory                  : Booking method: \u001b[1mMLP\u001b[0m\r\n",
      "--- MLP                      : Building Network\r\n",
      "--- MLP                      : Initializing weights\r\n"
     ]
    }
   ],
   "source": [
    "# Book the actual method\n",
    "# use the default for now\n",
    "# but lets use three layers\n",
    "factory.BookMethod( ROOT.TMVA.Types.kMLP, \"MLP\",\n",
    "                   \"!H:!V:VarTransform=None:NeuronType=tanh:NCycles=5000:HiddenLayers=N+4,N-5:LearningRate=0.005:TestRate=6:TrainingMethod=BFGS:Sampling=1:SamplingEpoch=1:ConvergenceImprove=1e-30:ConvergenceTests=10:UseRegulator\" );"
   ]
  },
  {
   "cell_type": "code",
   "execution_count": null,
   "metadata": {
    "collapsed": false
   },
   "outputs": [],
   "source": [
    "# Train MVAs using the set of training events\n",
    "factory.TrainAllMethods();\n",
    "\n",
    "# ---- Evaluate all MVAs using the set of test events\n",
    "factory.TestAllMethods();\n",
    "\n",
    "# ----- Evaluate and compare performance of all configured MVAs\n",
    "factory.EvaluateAllMethods();  "
   ]
  },
  {
   "cell_type": "code",
   "execution_count": null,
   "metadata": {
    "collapsed": true
   },
   "outputs": [],
   "source": [
    "outputFile.Close()\n",
    "print(\"==> Wrote root file: \" + outputFile.GetName())\n",
    "print(\"==> TMVAClassification is done!\")\n",
    "del factory\n",
    "ROOT.TMVA.TMVAGui( outfileName )"
   ]
  },
  {
   "cell_type": "code",
   "execution_count": null,
   "metadata": {
    "collapsed": true
   },
   "outputs": [],
   "source": [
    "raw_input(\"Press Enter to continue...\")"
   ]
  },
  {
   "cell_type": "code",
   "execution_count": null,
   "metadata": {
    "collapsed": true
   },
   "outputs": [],
   "source": []
  }
 ],
 "metadata": {
  "kernelspec": {
   "display_name": "Python 2",
   "language": "python",
   "name": "python2"
  },
  "language_info": {
   "codemirror_mode": {
    "name": "ipython",
    "version": 2
   },
   "file_extension": ".py",
   "mimetype": "text/x-python",
   "name": "python",
   "nbconvert_exporter": "python",
   "pygments_lexer": "ipython2",
   "version": "2.7.5"
  }
 },
 "nbformat": 4,
 "nbformat_minor": 0
}
