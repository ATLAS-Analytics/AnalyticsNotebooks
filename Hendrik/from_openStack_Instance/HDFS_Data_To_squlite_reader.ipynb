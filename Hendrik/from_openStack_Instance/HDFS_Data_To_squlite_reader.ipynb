{
 "cells": [
  {
   "cell_type": "code",
   "execution_count": 1,
   "metadata": {
    "collapsed": false
   },
   "outputs": [],
   "source": [
    "import json\n",
    "from pprint import pprint\n",
    "import os\n",
    "import sqlite3\n",
    "from __future__ import print_function\n",
    "globalString = \"\""
   ]
  },
  {
   "cell_type": "markdown",
   "metadata": {},
   "source": [
    "## Create functions to read data"
   ]
  },
  {
   "cell_type": "code",
   "execution_count": 2,
   "metadata": {
    "collapsed": false
   },
   "outputs": [],
   "source": [
    "def readFolder(path):\n",
    "    dataPoints = []\n",
    "    count = 0\n",
    "    for (dirpath, dirnames, filenames) in os.walk(path):\n",
    "        # read all files\n",
    "        for filename in filenames:\n",
    "            with open(path + filename) as f:\n",
    "                for line in f:\n",
    "                    dataPoints.append(json.loads(line))\n",
    "                    count += 1\n",
    "    print(str(count) + \" data points were read!\")\n",
    "    return dataPoints\n",
    "\n",
    "def addDataPointToDB(cursor, dataPoint):\n",
    "    meta = dataPoint[\"data\"][\"meta\"]\n",
    "    metadata = dataPoint[\"metadata\"]\n",
    "    addItems = (meta[\"source\"], meta[\"input_source\"], meta[\"destination\"],\n",
    "                meta[\"tool_name\"], meta[\"input_destination\"], meta[\"measurement_agent\"], \n",
    "                str(dataPoint[\"data\"][\"datapoints\"]), \n",
    "                metadata[\"topic\"], metadata[\"type\"], metadata[\"kafka_timestamp\"], \n",
    "                metadata[\"summaries\"], metadata[\"type_prefix\"], metadata[\"event-type\"])\n",
    "    cursor.execute(\"INSERT INTO rawdata VALUES (?,?,?,?,?,?,?,?,?,?,?,?,?)\", addItems)\n",
    "\n",
    "def readDataFromFoderToDB(path, cursor, conn):\n",
    "    count = 0\n",
    "    printSteps = 10000\n",
    "    print(\"Currently read data points: \")\n",
    "    for (dirpath, dirnames, filenames) in os.walk(path):\n",
    "        # read all files\n",
    "        for filename in filenames:\n",
    "            with open(path + filename) as f:\n",
    "                for line in f:\n",
    "                    global globalString\n",
    "                    globalString = line\n",
    "                    if(line == \"\"):\n",
    "                        break;\n",
    "                    try:\n",
    "                        dataPoint = json.loads(line)\n",
    "                    except:\n",
    "                        print(\"The json parser just had an exception, I would guess the file is somewhat broken:\")\n",
    "                        print(\"We will continue to read\")\n",
    "                    addDataPointToDB(cursor, dataPoint)\n",
    "                    count += 1\n",
    "                    if (count % printSteps == 0):\n",
    "                        print(str(count) + ', ', end=\"\")\n",
    "                        conn.commit()\n",
    "    print(\"\")\n",
    "    print(\"Total read data points: \" + str(count))\n",
    "    "
   ]
  },
  {
   "cell_type": "markdown",
   "metadata": {},
   "source": [
    "## Connect to DB"
   ]
  },
  {
   "cell_type": "code",
   "execution_count": 3,
   "metadata": {
    "collapsed": false
   },
   "outputs": [],
   "source": [
    "dataFolder = \"/root/jupyter_NB/raw_data/hadoop/packetloss-08/\"\n",
    "pathToDB = \"/root/jupyter_NB/packetloss-DB-1.db\"\n",
    "conn = sqlite3.connect(pathToDB)\n",
    "cursor = conn.cursor()"
   ]
  },
  {
   "cell_type": "markdown",
   "metadata": {},
   "source": [
    "## initilize DB"
   ]
  },
  {
   "cell_type": "code",
   "execution_count": 4,
   "metadata": {
    "collapsed": false
   },
   "outputs": [],
   "source": [
    "tableCreationString = '''CREATE TABLE rawdata (source text, input_source text, \n",
    "destination text, tool_name text, input_destination text, \n",
    "measurement_agent  text, datapoints text, topic text, type text, event_timestamp integer, \n",
    "summaries text, type_prefix text , event_type text )'''\n",
    "\n",
    "# check if table already exists if not create it\n",
    "cursor.execute(\"SELECT name FROM sqlite_master WHERE type='table' AND name='rawdata';\")\n",
    "data =  cursor.fetchall()\n",
    "if data.count((\"rawdata\",)) == 0:\n",
    "    cursor.execute(tableCreationString)\n",
    "conn.commit()"
   ]
  },
  {
   "cell_type": "markdown",
   "metadata": {
    "collapsed": false
   },
   "source": [
    "## read Data into DB"
   ]
  },
  {
   "cell_type": "code",
   "execution_count": 5,
   "metadata": {
    "collapsed": false
   },
   "outputs": [
    {
     "name": "stdout",
     "output_type": "stream",
     "text": [
      "Currently read data points: \n",
      "10000, 20000, 30000, 40000, 50000, 60000, 70000, 80000, 90000, 100000, 110000, 120000, 130000, 140000, 150000, 160000, 170000, 180000, 190000, 200000, 210000, 220000, 230000, 240000, 250000, 260000, 270000, 280000, 290000, 300000, 310000, 320000, 330000, 340000, 350000, 360000, 370000, 380000, 390000, 400000, 410000, 420000, 430000, 440000, 450000, 460000, 470000, 480000, 490000, 500000, 510000, 520000, 530000, 540000, 550000, 560000, 570000, 580000, 590000, 600000, 610000, 620000, 630000, 640000, 650000, 660000, 670000, 680000, 690000, 700000, 710000, 720000, 730000, 740000, 750000, 760000, 770000, 780000, 790000, 800000, 810000, 820000, 830000, 840000, 850000, 860000, 870000, 880000, 890000, 900000, 910000, 920000, 930000, 940000, 950000, 960000, 970000, 980000, 990000, 1000000, 1010000, 1020000, 1030000, 1040000, 1050000, 1060000, 1070000, 1080000, 1090000, 1100000, 1110000, 1120000, 1130000, 1140000, 1150000, 1160000, 1170000, 1180000, 1190000, 1200000, 1210000, 1220000, 1230000, 1240000, 1250000, 1260000, 1270000, 1280000, 1290000, 1300000, 1310000, 1320000, 1330000, 1340000, 1350000, 1360000, 1370000, 1380000, 1390000, 1400000, 1410000, 1420000, 1430000, 1440000, 1450000, 1460000, 1470000, 1480000, 1490000, 1500000, 1510000, 1520000, 1530000, 1540000, 1550000, 1560000, 1570000, 1580000, 1590000, 1600000, 1610000, 1620000, 1630000, 1640000, 1650000, 1660000, 1670000, 1680000, 1690000, 1700000, 1710000, 1720000, 1730000, 1740000, 1750000, 1760000, 1770000, 1780000, 1790000, 1800000, 1810000, 1820000, 1830000, 1840000, 1850000, 1860000, 1870000, 1880000, 1890000, 1900000, 1910000, 1920000, 1930000, 1940000, 1950000, 1960000, 1970000, 1980000, 1990000, 2000000, 2010000, 2020000, 2030000, 2040000, 2050000, 2060000, 2070000, 2080000, 2090000, 2100000, 2110000, 2120000, 2130000, 2140000, 2150000, 2160000, 2170000, 2180000, 2190000, 2200000, 2210000, 2220000, 2230000, 2240000, 2250000, 2260000, 2270000, 2280000, 2290000, 2300000, 2310000, 2320000, 2330000, 2340000, 2350000, 2360000, 2370000, 2380000, 2390000, 2400000, 2410000, 2420000, 2430000, 2440000, 2450000, 2460000, 2470000, 2480000, 2490000, 2500000, 2510000, 2520000, 2530000, 2540000, 2550000, 2560000, 2570000, 2580000, 2590000, 2600000, 2610000, 2620000, 2630000, 2640000, 2650000, 2660000, 2670000, 2680000, 2690000, 2700000, 2710000, 2720000, 2730000, 2740000, 2750000, 2760000, 2770000, 2780000, 2790000, 2800000, 2810000, 2820000, 2830000, 2840000, 2850000, 2860000, 2870000, 2880000, 2890000, 2900000, 2910000, 2920000, 2930000, 2940000, 2950000, 2960000, 2970000, 2980000, 2990000, 3000000, 3010000, 3020000, 3030000, 3040000, 3050000, 3060000, 3070000, 3080000, 3090000, 3100000, 3110000, 3120000, 3130000, 3140000, 3150000, 3160000, 3170000, 3180000, 3190000, 3200000, 3210000, 3220000, 3230000, 3240000, 3250000, 3260000, 3270000, 3280000, 3290000, 3300000, 3310000, 3320000, 3330000, 3340000, 3350000, 3360000, 3370000, 3380000, 3390000, 3400000, 3410000, 3420000, 3430000, 3440000, 3450000, 3460000, 3470000, 3480000, 3490000, 3500000, 3510000, 3520000, 3530000, 3540000, 3550000, 3560000, 3570000, 3580000, 3590000, 3600000, 3610000, 3620000, 3630000, 3640000, 3650000, 3660000, 3670000, 3680000, 3690000, 3700000, 3710000, 3720000, 3730000, 3740000, 3750000, 3760000, 3770000, 3780000, 3790000, 3800000, 3810000, 3820000, 3830000, 3840000, 3850000, 3860000, 3870000, 3880000, 3890000, 3900000, 3910000, 3920000, 3930000, 3940000, 3950000, 3960000, 3970000, 3980000, 3990000, 4000000, 4010000, 4020000, 4030000, 4040000, 4050000, 4060000, 4070000, 4080000, 4090000, 4100000, 4110000, 4120000, 4130000, 4140000, 4150000, 4160000, 4170000, 4180000, 4190000, 4200000, 4210000, 4220000, 4230000, 4240000, 4250000, 4260000, 4270000, 4280000, 4290000, 4300000, 4310000, 4320000, 4330000, 4340000, 4350000, 4360000, 4370000, 4380000, 4390000, 4400000, 4410000, 4420000, 4430000, 4440000, 4450000, 4460000, 4470000, 4480000, 4490000, 4500000, 4510000, 4520000, 4530000, 4540000, 4550000, 4560000, 4570000, 4580000, 4590000, 4600000, 4610000, 4620000, 4630000, 4640000, 4650000, 4660000, 4670000, 4680000, 4690000, 4700000, 4710000, 4720000, 4730000, 4740000, 4750000, 4760000, 4770000, 4780000, 4790000, 4800000, 4810000, 4820000, 4830000, 4840000, 4850000, 4860000, 4870000, 4880000, 4890000, 4900000, 4910000, 4920000, 4930000, 4940000, 4950000, 4960000, 4970000, 4980000, 4990000, 5000000, 5010000, 5020000, 5030000, 5040000, 5050000, 5060000, 5070000, 5080000, 5090000, 5100000, 5110000, 5120000, 5130000, 5140000, 5150000, 5160000, 5170000, 5180000, 5190000, 5200000, 5210000, 5220000, 5230000, 5240000, 5250000, 5260000, 5270000, 5280000, 5290000, 5300000, 5310000, 5320000, 5330000, 5340000, 5350000, 5360000, 5370000, 5380000, 5390000, 5400000, 5410000, 5420000, 5430000, 5440000, 5450000, 5460000, 5470000, 5480000, 5490000, 5500000, 5510000, 5520000, 5530000, 5540000, 5550000, 5560000, 5570000, 5580000, 5590000, 5600000, 5610000, 5620000, 5630000, 5640000, 5650000, 5660000, 5670000, 5680000, 5690000, 5700000, \n",
      "Total read data points: 5702155\n"
     ]
    }
   ],
   "source": [
    "readDataFromFoderToDB(dataFolder, cursor, conn)\n",
    "conn.commit()\n",
    "conn.close()"
   ]
  },
  {
   "cell_type": "code",
   "execution_count": null,
   "metadata": {
    "collapsed": false
   },
   "outputs": [],
   "source": [
    "print(globalString)"
   ]
  },
  {
   "cell_type": "code",
   "execution_count": null,
   "metadata": {
    "collapsed": true
   },
   "outputs": [],
   "source": [
    "\n",
    "\n",
    "\n",
    "\n",
    "\n",
    "\n",
    "\n",
    "\n",
    "\n",
    "\n",
    "\n",
    "\n",
    "\n",
    "\n",
    "\n",
    "\n",
    "\n",
    "\n",
    "\n",
    "\n",
    "\n",
    "\n",
    "\n",
    "\n",
    "\n",
    "\n",
    "\n",
    "\n",
    "\n"
   ]
  }
 ],
 "metadata": {
  "kernelspec": {
   "display_name": "Python 2",
   "language": "python",
   "name": "python2"
  },
  "language_info": {
   "codemirror_mode": {
    "name": "ipython",
    "version": 2
   },
   "file_extension": ".py",
   "mimetype": "text/x-python",
   "name": "python",
   "nbconvert_exporter": "python",
   "pygments_lexer": "ipython2",
   "version": "2.7.5"
  }
 },
 "nbformat": 4,
 "nbformat_minor": 0
}
