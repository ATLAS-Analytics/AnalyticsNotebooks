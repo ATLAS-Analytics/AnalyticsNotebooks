{
 "cells": [
  {
   "cell_type": "code",
   "execution_count": 1,
   "metadata": {
    "collapsed": false
   },
   "outputs": [
    {
     "data": {
      "application/javascript": [
       "require(['codemirror/mode/clike/clike'], function(Clike) { console.log('ROOTaaS - C++ CodeMirror module loaded'); });"
      ]
     },
     "metadata": {},
     "output_type": "display_data"
    },
    {
     "data": {
      "application/javascript": [
       "IPython.CodeCell.config_defaults.highlight_modes['magic_text/x-c++src'] = {'reg':[/^%%cpp/]};"
      ]
     },
     "metadata": {},
     "output_type": "display_data"
    },
    {
     "name": "stdout",
     "output_type": "stream",
     "text": [
      "Welcome to ROOTaaS 6.06/06\n"
     ]
    }
   ],
   "source": [
    "import ROOT"
   ]
  },
  {
   "cell_type": "code",
   "execution_count": 2,
   "metadata": {
    "collapsed": false
   },
   "outputs": [],
   "source": [
    "%%cpp\n",
    "// cpp imports\n",
    "#include <cstdlib>\n",
    "#include <vector>\n",
    "#include <iostream>\n",
    "#include <map>\n",
    "#include <string>\n",
    "\n",
    "#include \"TFile.h\"\n",
    "#include \"TTree.h\"\n",
    "#include \"TString.h\"\n",
    "#include \"TSystem.h\"\n",
    "#include \"TROOT.h\"\n",
    "#include \"TStopwatch.h\"\n",
    "\n",
    "#include \"TMVA/Tools.h\"\n",
    "#include \"TMVA/Reader.h\"\n",
    "// our vectors, which we are using to get around the fundamental problem, that rootpy can't construct root/cpp floats\n",
    "// and we therefore otherwiese couldn't give a reference over to tmva in the later code\n",
    "std::vector<float> vars;\n",
    "std::vector<TString> varsName;"
   ]
  },
  {
   "cell_type": "code",
   "execution_count": 3,
   "metadata": {
    "collapsed": false
   },
   "outputs": [],
   "source": [
    "# get metadata from the original trainingset\n",
    "originalTrainingSet = \"/root/Downloads/dataSet_CERN_to_RAL.root\"\n",
    "inputFile = ROOT.TFile.Open( originalTrainingSet )\n",
    "regTree = inputFile.Get(\"TreeR\")\n",
    "leaves = regTree.GetListOfLeaves()\n",
    "varsName = []\n",
    "# add all variables, except throughput and timestamp\n",
    "for i in xrange(len(leaves)):\n",
    "    if (leaves[i].GetName() == \"timestamp\") or (leaves[i].GetName() == \"throughput\"):\n",
    "            continue\n",
    "    ROOT.varsName.push_back(leaves[i].GetName())\n",
    "    # keep a copy in python which is easyer to handle\n",
    "    varsName.append(leaves[i].GetName())\n",
    "# resize other vector to fit\n",
    "ROOT.vars.resize(len(ROOT.varsName))"
   ]
  },
  {
   "cell_type": "code",
   "execution_count": 4,
   "metadata": {
    "collapsed": false
   },
   "outputs": [],
   "source": [
    "%%cpp\n",
    "// switch to C++ to avoid the annoying reference problem, mentioned above\n",
    "// --- Create the Reader object\n",
    "TMVA::Reader *reader = new TMVA::Reader( \"!Color:!Silent\" );\n",
    "\n",
    "// Create a set of variables and declare them to the reader\n",
    "// - the variable names MUST corresponds in name and type to those given in the weight file(s) used\n",
    "// add the variables that we just stored in our C++ vector (what a time to be alive)\n",
    "\n",
    "for (int i = 0; i < varsName.size(); i++){\n",
    "    reader->AddVariable( varsName[i], &vars[i] );\n",
    "}"
   ]
  },
  {
   "cell_type": "code",
   "execution_count": 5,
   "metadata": {
    "collapsed": false
   },
   "outputs": [
    {
     "data": {
      "text/plain": [
       "<ROOT.TMVA::MethodMLP object (\"MLP\") at 0x55f71e0>"
      ]
     },
     "execution_count": 5,
     "metadata": {},
     "output_type": "execute_result"
    },
    {
     "name": "stdout",
     "output_type": "stream",
     "text": [
      "--- Reader                   : Booking \"MLP method\" of type \"MLP\" from /root/Downloads/weights/TMVARegression_MLP.weights.xml.\r\n",
      "--- MethodBase               : Reading weight file: /root/Downloads/weights/TMVARegression_MLP.weights.xml\r\n",
      "--- MLP                      : Read method \"MLP\" of type \"MLP\"\r\n",
      "--- MLP                      : MVA method was trained with TMVA Version: 4.2.1\r\n",
      "--- MLP                      : MVA method was trained with ROOT Version: 6.06/06\r\n",
      "--- DataSetInfo              : Added class \"Regression\"\t with internal class number 0\r\n",
      "--- MLP                      : Building Network\r\n",
      "--- MLP                      : Initializing weights\r\n",
      "--- Reader                   : Booked classifier \"MLP\" of type: \"MLP\"\r\n"
     ]
    }
   ],
   "source": [
    "methodName = \"MLP method\"\n",
    "#weightfile = \"/root/Downloads/buildDirRoot/tutorials/tmva/weights/TMVARegression_MLP.weights.xml\"\n",
    "weightfile = \"/root/Downloads/weights/TMVARegression_MLP.weights.xml\"\n",
    "ROOT.reader.BookMVA( methodName, weightfile )"
   ]
  },
  {
   "cell_type": "code",
   "execution_count": 6,
   "metadata": {
    "collapsed": false
   },
   "outputs": [],
   "source": [
    "for i in xrange(len(ROOT.varsName)):\n",
    "    ROOT.vars[i] = i"
   ]
  },
  {
   "cell_type": "code",
   "execution_count": 7,
   "metadata": {
    "collapsed": false
   },
   "outputs": [
    {
     "data": {
      "text/plain": [
       "1.200074553489685"
      ]
     },
     "execution_count": 7,
     "metadata": {},
     "output_type": "execute_result"
    }
   ],
   "source": [
    "ROOT.reader.EvaluateRegression( \"MLP method\" )[0]"
   ]
  },
  {
   "cell_type": "code",
   "execution_count": 10,
   "metadata": {
    "collapsed": false
   },
   "outputs": [
    {
     "data": {
      "text/plain": [
       "2.0"
      ]
     },
     "execution_count": 10,
     "metadata": {},
     "output_type": "execute_result"
    }
   ],
   "source": [
    "ROOT.vars[2]"
   ]
  },
  {
   "cell_type": "code",
   "execution_count": null,
   "metadata": {
    "collapsed": false
   },
   "outputs": [],
   "source": []
  },
  {
   "cell_type": "code",
   "execution_count": null,
   "metadata": {
    "collapsed": true
   },
   "outputs": [],
   "source": []
  }
 ],
 "metadata": {
  "kernelspec": {
   "display_name": "Python 2",
   "language": "python",
   "name": "python2"
  },
  "language_info": {
   "codemirror_mode": {
    "name": "ipython",
    "version": 2
   },
   "file_extension": ".py",
   "mimetype": "text/x-python",
   "name": "python",
   "nbconvert_exporter": "python",
   "pygments_lexer": "ipython2",
   "version": "2.7.5"
  }
 },
 "nbformat": 4,
 "nbformat_minor": 0
}
