{
 "cells": [
  {
   "cell_type": "code",
   "execution_count": 1,
   "metadata": {
    "collapsed": false
   },
   "outputs": [
    {
     "data": {
      "application/javascript": [
       "require(['codemirror/mode/clike/clike'], function(Clike) { console.log('ROOTaaS - C++ CodeMirror module loaded'); });"
      ]
     },
     "metadata": {},
     "output_type": "display_data"
    },
    {
     "data": {
      "application/javascript": [
       "IPython.CodeCell.config_defaults.highlight_modes['magic_text/x-c++src'] = {'reg':[/^%%cpp/]};"
      ]
     },
     "metadata": {},
     "output_type": "display_data"
    },
    {
     "name": "stdout",
     "output_type": "stream",
     "text": [
      "Welcome to ROOTaaS 6.06/06\n"
     ]
    },
    {
     "data": {
      "text/plain": [
       "<ROOT.TMVA::Tools object at 0x57fee10>"
      ]
     },
     "execution_count": 1,
     "metadata": {},
     "output_type": "execute_result"
    }
   ],
   "source": [
    "import ROOT\n",
    "ROOT.TMVA.Tools.Instance()"
   ]
  },
  {
   "cell_type": "code",
   "execution_count": 2,
   "metadata": {
    "collapsed": true
   },
   "outputs": [],
   "source": [
    "outfileName = \"tmvaTest.root\"\n",
    "outputFile = ROOT.TFile(outfileName,\"RECREATE\")"
   ]
  },
  {
   "cell_type": "code",
   "execution_count": 3,
   "metadata": {
    "collapsed": false
   },
   "outputs": [
    {
     "name": "stdout",
     "output_type": "stream",
     "text": [
      "--- Factory                  : You are running ROOT Version: 6.06/06, Jul 6, 2016\r\n",
      "--- Factory                  : \r\n",
      "--- Factory                  : _/_/_/_/_/ _|      _|  _|      _|    _|_|   \r\n",
      "--- Factory                  :    _/      _|_|  _|_|  _|      _|  _|    _| \r\n",
      "--- Factory                  :   _/       _|  _|  _|  _|      _|  _|_|_|_| \r\n",
      "--- Factory                  :  _/        _|      _|    _|  _|    _|    _| \r\n",
      "--- Factory                  : _/         _|      _|      _|      _|    _| \r\n",
      "--- Factory                  : \r\n",
      "--- Factory                  : ___________TMVA Version 4.2.1, Feb 5, 2015\r\n",
      "--- Factory                  : \r\n"
     ]
    }
   ],
   "source": [
    "factory = ROOT.TMVA.Factory(\"TMVAClassification\", outputFile,\n",
    "                            \"!V:!Silent:Color:DrawProgressBar:Transformations=I;D;P;G,D:AnalysisType=Classification\" )"
   ]
  },
  {
   "cell_type": "code",
   "execution_count": 4,
   "metadata": {
    "collapsed": true
   },
   "outputs": [],
   "source": [
    "factory.AddVariable(\"myvar1 := var1+var2\", 'F')\n",
    "factory.AddVariable( \"myvar2 := var1-var2\", \"Expression 2\", \"\", 'F' )\n",
    "factory.AddVariable( \"var3\",                \"Variable 3\", \"units\", 'F' )\n",
    "factory.AddVariable( \"var4\",                \"Variable 4\", \"units\", 'F' )\n",
    "factory.AddSpectator( \"spec1 := var1*2\",  \"Spectator 1\", \"units\", -100.0, 100.0 )\n",
    "factory.AddSpectator( \"spec2 := var1*3\",  \"Spectator 2\", \"units\", -100.0, 100.0 )"
   ]
  },
  {
   "cell_type": "code",
   "execution_count": 5,
   "metadata": {
    "collapsed": false
   },
   "outputs": [
    {
     "name": "stdout",
     "output_type": "stream",
     "text": [
      "--- TMVAClassification       : Using input file: ./tmva_class_example.root\n"
     ]
    }
   ],
   "source": [
    "fname = \"./tmva_class_example.root\"\n",
    "input = ROOT.TFile.Open( fname )\n",
    "print(\"--- TMVAClassification       : Using input file: \" + str(input.GetName()))"
   ]
  },
  {
   "cell_type": "code",
   "execution_count": 6,
   "metadata": {
    "collapsed": false
   },
   "outputs": [
    {
     "name": "stdout",
     "output_type": "stream",
     "text": [
      "--- DataSetInfo              : Added class \"Signal\"\t with internal class number 0\r\n",
      "--- Factory                  : Add Tree TreeS of type Signal with 6000 events\r\n",
      "--- DataSetInfo              : Added class \"Background\"\t with internal class number 1\r\n",
      "--- Factory                  : Add Tree TreeB of type Background with 6000 events\r\n"
     ]
    }
   ],
   "source": [
    "signal     = input.Get(\"TreeS\")\n",
    "background = input.Get(\"TreeB\")\n",
    "signalWeight     = 1.0\n",
    "backgroundWeight = 1.0\n",
    "factory.AddSignalTree    ( signal,     signalWeight     )\n",
    "factory.AddBackgroundTree( background, backgroundWeight )\n",
    "factory.SetBackgroundWeightExpression( \"weight\" )"
   ]
  },
  {
   "cell_type": "code",
   "execution_count": 7,
   "metadata": {
    "collapsed": false
   },
   "outputs": [
    {
     "name": "stdout",
     "output_type": "stream",
     "text": [
      "--- Factory                  : Preparing trees for training and testing...\r\n"
     ]
    }
   ],
   "source": [
    "mycuts = ROOT.TCut('')\n",
    "mycutb = ROOT.TCut('')\n",
    "factory.PrepareTrainingAndTestTree( mycuts, mycutb,\n",
    "                                    \"nTrain_Signal=1000:nTrain_Background=1000:SplitMode=Random:NormMode=NumEvents:!V\" )"
   ]
  },
  {
   "cell_type": "code",
   "execution_count": 8,
   "metadata": {
    "collapsed": false
   },
   "outputs": [
    {
     "data": {
      "text/plain": [
       "<ROOT.TMVA::MethodMLP object (\"MLPBNN\") at 0x4594d60>"
      ]
     },
     "execution_count": 8,
     "metadata": {},
     "output_type": "execute_result"
    },
    {
     "name": "stdout",
     "output_type": "stream",
     "text": [
      "--- Factory                  : Booking method: \u001b[1mMLP\u001b[0m\r\n",
      "--- MLP                      : Create Transformation \"N\" with events from all classes.\r\n",
      "--- Norm                     : Transformation, Variable selection : \r\n",
      "--- Norm                     : Input : variable 'myvar1' (index=0).   <---> Output : variable 'myvar1' (index=0).\r\n",
      "--- Norm                     : Input : variable 'myvar2' (index=1).   <---> Output : variable 'myvar2' (index=1).\r\n",
      "--- Norm                     : Input : variable 'var3' (index=2).   <---> Output : variable 'var3' (index=2).\r\n",
      "--- Norm                     : Input : variable 'var4' (index=3).   <---> Output : variable 'var4' (index=3).\r\n",
      "--- MLP                      : Building Network\r\n",
      "--- MLP                      : Initializing weights\r\n",
      "--- Factory                  : Booking method: \u001b[1mMLPBFGS\u001b[0m\r\n",
      "--- MLPBFGS                  : Create Transformation \"N\" with events from all classes.\r\n",
      "--- Norm                     : Transformation, Variable selection : \r\n",
      "--- Norm                     : Input : variable 'myvar1' (index=0).   <---> Output : variable 'myvar1' (index=0).\r\n",
      "--- Norm                     : Input : variable 'myvar2' (index=1).   <---> Output : variable 'myvar2' (index=1).\r\n",
      "--- Norm                     : Input : variable 'var3' (index=2).   <---> Output : variable 'var3' (index=2).\r\n",
      "--- Norm                     : Input : variable 'var4' (index=3).   <---> Output : variable 'var4' (index=3).\r\n",
      "--- MLPBFGS                  : Building Network\r\n",
      "--- MLPBFGS                  : Initializing weights\r\n",
      "--- Factory                  : Booking method: \u001b[1mMLPBNN\u001b[0m\r\n",
      "--- MLPBNN                   : Create Transformation \"N\" with events from all classes.\r\n",
      "--- Norm                     : Transformation, Variable selection : \r\n",
      "--- Norm                     : Input : variable 'myvar1' (index=0).   <---> Output : variable 'myvar1' (index=0).\r\n",
      "--- Norm                     : Input : variable 'myvar2' (index=1).   <---> Output : variable 'myvar2' (index=1).\r\n",
      "--- Norm                     : Input : variable 'var3' (index=2).   <---> Output : variable 'var3' (index=2).\r\n",
      "--- Norm                     : Input : variable 'var4' (index=3).   <---> Output : variable 'var4' (index=3).\r\n",
      "--- MLPBNN                   : Building Network\r\n",
      "--- MLPBNN                   : Initializing weights\r\n"
     ]
    }
   ],
   "source": [
    "# book different training methods\n",
    "\n",
    "# Normal MLP\n",
    "factory.BookMethod( ROOT.TMVA.Types.kMLP, \"MLP\", \"H:!V:NeuronType=tanh:VarTransform=N:NCycles=600:HiddenLayers=N+5:TestRate=5:!UseRegulator\" )\n",
    "# MLP with best learning method (BFGS)\n",
    "factory.BookMethod( ROOT.TMVA.Types.kMLP, \"MLPBFGS\", \"H:!V:NeuronType=tanh:VarTransform=N:NCycles=600:HiddenLayers=N+5:TestRate=5:TrainingMethod=BFGS:!UseRegulator\" )\n",
    "# MLP with best learning method (BFGS) and bayesian regulators\n",
    "factory.BookMethod( ROOT.TMVA.Types.kMLP, \"MLPBNN\", \"H:!V:NeuronType=tanh:VarTransform=N:NCycles=600:HiddenLayers=N+5:TestRate=5:TrainingMethod=BFGS:UseRegulator\" )"
   ]
  },
  {
   "cell_type": "code",
   "execution_count": null,
   "metadata": {
    "collapsed": true
   },
   "outputs": [],
   "source": [
    "# Train MVAs using the set of training events\n",
    "factory.TrainAllMethods()\n",
    "# ---- Evaluate all MVAs using the set of test events\n",
    "factory.TestAllMethods()\n",
    "# ----- Evaluate and compare performance of all configured MVAs\n",
    "factory.EvaluateAllMethods()"
   ]
  },
  {
   "cell_type": "code",
   "execution_count": null,
   "metadata": {
    "collapsed": true
   },
   "outputs": [],
   "source": [
    "outputFile.Close()\n",
    "print(\"==> Wrote root file: \" + outputFile.GetName())\n",
    "print(\"==> TMVAClassification is done!\")\n",
    "del factory\n",
    "ROOT.TMVA.TMVAGui( outfileName )"
   ]
  }
 ],
 "metadata": {
  "kernelspec": {
   "display_name": "Python 2",
   "language": "python",
   "name": "python2"
  },
  "language_info": {
   "codemirror_mode": {
    "name": "ipython",
    "version": 2
   },
   "file_extension": ".py",
   "mimetype": "text/x-python",
   "name": "python",
   "nbconvert_exporter": "python",
   "pygments_lexer": "ipython2",
   "version": "2.7.5"
  }
 },
 "nbformat": 4,
 "nbformat_minor": 0
}
