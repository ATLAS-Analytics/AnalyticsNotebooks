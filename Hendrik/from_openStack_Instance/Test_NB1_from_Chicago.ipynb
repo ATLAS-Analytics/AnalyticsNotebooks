{
 "cells": [
  {
   "cell_type": "code",
   "execution_count": 1,
   "metadata": {
    "collapsed": false
   },
   "outputs": [
    {
     "data": {
      "application/javascript": [
       "require(['codemirror/mode/clike/clike'], function(Clike) { console.log('ROOTaaS - C++ CodeMirror module loaded'); });"
      ]
     },
     "metadata": {},
     "output_type": "display_data"
    },
    {
     "data": {
      "application/javascript": [
       "IPython.CodeCell.config_defaults.highlight_modes['magic_text/x-c++src'] = {'reg':[/^%%cpp/]};"
      ]
     },
     "metadata": {},
     "output_type": "display_data"
    },
    {
     "name": "stdout",
     "output_type": "stream",
     "text": [
      "Welcome to ROOTaaS 6.06/06\n"
     ]
    }
   ],
   "source": [
    "import ROOT"
   ]
  },
  {
   "cell_type": "code",
   "execution_count": 2,
   "metadata": {
    "collapsed": false
   },
   "outputs": [],
   "source": [
    "%matplotlib inline\n",
    "\n",
    "\n",
    "import numpy as np\n",
    "import pandas as pd\n",
    "import math\n",
    "import pprint\n",
    "from __future__ import division\n",
    "from __future__ import print_function\n",
    "from datetime import datetime\n",
    "from datetime import datetime\n",
    "import matplotlib.pyplot as plt\n",
    "import os\n",
    "from fractions import Fraction \n",
    "import scipy.odr.odrpack as odrpack\n",
    "import time\n",
    "from bisect import bisect_left\n",
    "import copy\n",
    "from sklearn import preprocessing\n",
    "import pylab"
   ]
  },
  {
   "cell_type": "markdown",
   "metadata": {},
   "source": [
    "## Define functions for the creation of the data set"
   ]
  },
  {
   "cell_type": "code",
   "execution_count": 3,
   "metadata": {
    "collapsed": false
   },
   "outputs": [],
   "source": [
    "def avageAndStdDeviationOverSeconds(dataPoints, currentIndex, collumToAnalyze, averagingSeconds):\n",
    "    '''\n",
    "    Returns a tupel, with outTupel[0] the average and outTupel[1] the standard deviation.\n",
    "    Calculates the average and standard deviation over a given time.\n",
    "    Starting from the data point at currentIndex in dataPoints and going back the number of averagingSeconds.\n",
    "    It is assumed, that dataPonts is a Pandas DataFrame, with timestamps as indexes\n",
    "    and that it is sortet, so that the latest/newest entry is at the beginning of the DataFrame.\n",
    "    '''\n",
    "    timestamps = dataPoints.axes[0]\n",
    "    data = dataPoints.values\n",
    "    outTupel = [0, 0]\n",
    "    secondsAgo = timestamps[currentIndex] - averagingSeconds\n",
    "    if ( timestamps[len(timestamps)-1] > secondsAgo):\n",
    "        secondsAgo = timestamps[len(timestamps)-1]\n",
    "    # cut array\n",
    "    lastIndex = 0\n",
    "    for i in xrange(currentIndex, len(data)):\n",
    "        if timestamps[i] <= secondsAgo :\n",
    "            lastIndex = i\n",
    "            break\n",
    "    cutData = np.split(dataPoints, [currentIndex, lastIndex + 1])[1]\n",
    "    data = cutData.values\n",
    "    columNames = cutData.axes[1]\n",
    "    # calculate average and variance\n",
    "    avg = cutData[columNames[collumToAnalyze]].mean()\n",
    "    outTupel[0] = avg\n",
    "    std = cutData[columNames[collumToAnalyze]].std()\n",
    "    outTupel[1] = std\n",
    "    return outTupel\n",
    "\n",
    "def nextMeasurementAndDistance(dataPoints, currentIndex, collumToAnalyze, numberOfMeasurementsToSkip=0):\n",
    "    '''\n",
    "    Returns a tuple with outTupel[0] the next measurement in time and outTupel[1]\n",
    "    the distance of the next measurement to the timestamp at currentIndex, devided by averagingSeconds\n",
    "    TODO: evaluate, how usefull it is to devide by averagingSeconds [edit: just removed it because it seemed useless]\n",
    "    '''\n",
    "    countNum = numberOfMeasurementsToSkip\n",
    "    timestamps = dataPoints.axes[0]\n",
    "    data = dataPoints.values\n",
    "    outTupel = [0, 0]\n",
    "    nextIndex = currentIndex + 1\n",
    "    while True:\n",
    "        if nextIndex >= len(timestamps):\n",
    "            nextIndex = currentIndex\n",
    "            break\n",
    "        if math.isnan(data[nextIndex][collumToAnalyze]) == False:\n",
    "            if countNum == 0:\n",
    "                break\n",
    "            else:\n",
    "                countNum -= 1\n",
    "        nextIndex = nextIndex + 1\n",
    "    outTupel[0] = data[nextIndex][collumToAnalyze]\n",
    "    outTupel[1] = (timestamps[currentIndex] - timestamps[nextIndex])\n",
    "    return outTupel\n",
    "\n",
    "\n",
    "def findIndexClostestThatIsNotNAN(startIndex, dataPoints, collumThatIsNotNAN):\n",
    "    '''\n",
    "    Returns an index for dataPoints, that is:\n",
    "    a) in the collum \"collumThatIsNotNAN\" not nan.\n",
    "    b) closest to startIndex (looking fowards and backwards at the same time in the array).\n",
    "       This \"proximity\" does not take the timestamp into account, just the numerical\n",
    "       distance from startIndex to the returned index.\n",
    "    If no occurence is found it will raise an error, but this case should be ultra rare.\n",
    "    ATENTION: This function may look into the \"future\" of the data set which may not be possible in the future.\n",
    "    '''\n",
    "    hitBeginningOfList = False\n",
    "    hitEndOfList = False\n",
    "    index1 = startIndex\n",
    "    index2 = startIndex\n",
    "    while not (hitEndOfList or hitBeginningOfList):\n",
    "        index1 += 1\n",
    "        index2 -= 1\n",
    "        if (hitEndOfList == True) or (index1 == len(dataPoints)):\n",
    "            hitEndOfList = True\n",
    "        else:\n",
    "            currentDataPoint = dataPoints.values[index1]\n",
    "            if not math.isnan(currentDataPoint[collumThatIsNotNAN]):\n",
    "                return index1\n",
    "        if (hitBeginningOfList == True) or (index2 == -1):\n",
    "            hitBeginningOfList = True\n",
    "        else:\n",
    "            currentDataPoint = dataPoints.values[index2]\n",
    "            if not math.isnan(currentDataPoint[collumThatIsNotNAN]):\n",
    "                return index2\n",
    "    raise StandardError(\"Could not find a closest occurence, does the data even contain values in that colum?\")\n",
    "\n",
    "\n",
    "def findDataPointClosestToTimestamp(timestamp, dataPoints, collumThatIsNotNAN):\n",
    "    '''\n",
    "    Returns a data point from dataPoints, that is closest to the given timestamp.\n",
    "    As well the dataPoint will not be nan in the collum \"collumThatIsNotNAN\"\n",
    "    Complexity of this command: O( log( len(dataPoints) ) )\n",
    "    '''\n",
    "    timestamps_toSearch = dataPoints.axes[0]\n",
    "    data = dataPoints.values\n",
    "    # bisect only works because we know our list is sorted\n",
    "    pos = bisect_left(timestamps_toSearch, timestamp)\n",
    "    if pos == len(dataPoints):\n",
    "        pos = len(dataPoints)-1\n",
    "    # find the closest datapoint, that is not a NAN and return it\n",
    "    currentDataPoint = dataPoints.values[pos]\n",
    "    if not math.isnan(currentDataPoint[collumThatIsNotNAN]):\n",
    "        return currentDataPoint\n",
    "    else:\n",
    "        pos = findIndexClostestThatIsNotNAN(pos, dataPoints, collumThatIsNotNAN)\n",
    "        currentDataPoint = dataPoints.values[pos]\n",
    "        return currentDataPoint\n",
    "    \n",
    "\n",
    "\n",
    "\n",
    "def createDataSets(dataPoints_forth, dataPoints_back, averagingSeconds_Throughput, averagingSeconds_Delay_and_Loss):\n",
    "    '''\n",
    "    Returns a data sets (in form of a pandas DataFrame), derived from the given dataPoints_forth,\n",
    "    and small parts of dataPoints_back.\n",
    "    A data set contains information about throughput, packetloss and delay for a given point in time.\n",
    "    '''\n",
    "    timestamps = dataPoints_forth.axes[0]\n",
    "    data = dataPoints_forth.values\n",
    "    dataSetList = []\n",
    "    # go through the data\n",
    "    print(\"Current percentage of analyzed dataPoints: \")\n",
    "    for i in xrange(len(dataPoints_forth)):\n",
    "        # find a point, where we have throughput data\n",
    "        if math.isnan(data[i][5]) == False:\n",
    "            currentSet = {}\n",
    "            # get all the throughput data:\n",
    "            currentSet[\"timestamp\"] = timestamps[i]\n",
    "            currentSet[\"throughput\"] = data[i][5]\n",
    "            # take out this part at the moment as the network converges to fast\n",
    "            '''avgAStdThroughput = avageAndStdDeviationOverSeconds(dataPoints_forth, i, 5, averagingSeconds_Throughput)\n",
    "            currentSet[\"throughput_average\"] = avgAStdThroughput[0]\n",
    "            currentSet[\"throughput_std_deviation\"] = avgAStdThroughput[1]\n",
    "            nextAndDist = nextMeasurementAndDistance(dataPoints_forth, i, 5)\n",
    "            currentSet[\"throughput_last_measurement\"] = nextAndDist[0]\n",
    "            currentSet[\"throughput_last_measurement_time\"] = nextAndDist[1]'''\n",
    "            \n",
    "            # get all packetloss data:\n",
    "            # TODO: replace this with a search in both directions\n",
    "            nextValidIndex = findIndexClostestThatIsNotNAN(i, dataPoints_forth, 4)\n",
    "            currentSet[\"packet_loss\"] = data[nextValidIndex][4]\n",
    "            avgAStdPacket_loss = avageAndStdDeviationOverSeconds(dataPoints_forth, nextValidIndex, 4, averagingSeconds_Delay_and_Loss)\n",
    "            currentSet[\"packet_loss_average\"] = avgAStdPacket_loss[0]\n",
    "            currentSet[\"packet_loss_std_deviation\"] = avgAStdPacket_loss[1]\n",
    "            \n",
    "            # get all delay data\n",
    "            nextValidIndex = findIndexClostestThatIsNotNAN(i, dataPoints_forth, 2)\n",
    "            fittingDataPoint_back = findDataPointClosestToTimestamp(currentSet[\"timestamp\"], dataPoints_back, 2)\n",
    "            currentSet[\"delay_current_average_forth\"] = data[nextValidIndex][2]\n",
    "            currentSet[\"delay_current_average_back\"] = fittingDataPoint_back[2]\n",
    "            currentSet[\"delay_current_std_deviation_forth\"] = data[nextValidIndex][3]\n",
    "            currentSet[\"delay_current_std_deviation_back\"] = fittingDataPoint_back[3]\n",
    "            avgAStdPacket_loss = avageAndStdDeviationOverSeconds(dataPoints_forth, nextValidIndex, 1, averagingSeconds_Delay_and_Loss)\n",
    "            currentSet[\"delay_timed_average\"] = avgAStdPacket_loss[0]\n",
    "            currentSet[\"delay_timed_std_deviation\"] = avgAStdPacket_loss[1]\n",
    "            \n",
    "            dataSetList.append(currentSet)\n",
    "        if (i % 1000) == 0:\n",
    "            print(str(100*i/len(dataPoints_forth)) +\" %, \" , end=\"\")\n",
    "    print(\" \")\n",
    "    print(\"Total created data sets: \" + str(len(dataSetList)))\n",
    "    dataFrame = pd.DataFrame.from_dict(dataSetList)\n",
    "    return dataFrame\n",
    "\n",
    "\n",
    "def createDatasetsFromFilesInFolder(path, averagingSeconds):\n",
    "    '''\n",
    "    This function is outdated at the moment and will crash!\n",
    "    '''\n",
    "    count = 0\n",
    "    outputDataSets = []\n",
    "    for (dirpath, dirnames, filenames) in os.walk(path):\n",
    "        # read all files\n",
    "        for filename in filenames:\n",
    "            print(\"----------------------- reading file: \" + filename)\n",
    "            dataPoints = pd.read_pickle(str(path + filename))\n",
    "            # make sure it is sorted\n",
    "            dataPoints.sort_index(inplace=True, ascending=False)\n",
    "            dataSets = createDataSets(dataPoints, averagingSeconds)\n",
    "            outputDataSets.append(dataSets)\n",
    "            count =  count + 1\n",
    "            print(\" \")\n",
    "    print(\"Number of read files: \" + str(count))\n",
    "    print(\" \")\n",
    "    return outputDataSets\n"
   ]
  },
  {
   "cell_type": "markdown",
   "metadata": {},
   "source": [
    "## Define functions for analytical aproach"
   ]
  },
  {
   "cell_type": "code",
   "execution_count": 4,
   "metadata": {
    "collapsed": true
   },
   "outputs": [],
   "source": [
    "def calcMathisModel_outBitsPerSec(packetloss, MSS, RTT, C=math.sqrt(3/2)):\n",
    "    '''\n",
    "    Returns the result of mathis model in Bits/s.\n",
    "    It does work with np.arrays.\n",
    "    '''\n",
    "    outVal = (MSS/RTT)*C/np.sqrt(packetloss)\n",
    "    # since Mathis forumlar gives us Mbit/sec, but we actualy have Bit/s as a throughput\n",
    "    # so we need to multipy by 1e6 to get bit/sec\n",
    "    outVal *= 1e6\n",
    "    return outVal\n"
   ]
  },
  {
   "cell_type": "markdown",
   "metadata": {},
   "source": [
    "## Define functions for data preperation"
   ]
  },
  {
   "cell_type": "code",
   "execution_count": 5,
   "metadata": {
    "collapsed": false
   },
   "outputs": [],
   "source": [
    "def writeDataSetToRoot(dataSet, rootFileName):\n",
    "    rootFile = ROOT.TFile(rootFileName, \"recreate\")\n",
    "    tree = ROOT.TTree(\"TreeR\", \"Tree with regression data\")\n",
    "    # prepare our varibles, that we want to add\n",
    "    variables = {}\n",
    "    for key in dataSet.axes[1]:\n",
    "        variables[key] = np.zeros(1, dtype=float)\n",
    "        tree.Branch(key, variables[key], key + '/D')\n",
    "    # add the data from our dataSet\n",
    "    for i in xrange(len(dataSet)):\n",
    "        for item in variables.keys():\n",
    "            variables[item][0] = float(dataSet[item][i])\n",
    "        tree.Fill()\n",
    "    # clean up\n",
    "    rootFile.Write()\n",
    "    rootFile.Close()    \n",
    "    \n",
    "def normalizeDataSet(dataSet, scaler_feature_range=(0, 1)):\n",
    "    # make sure we don't change our original object (wo don't want that)\n",
    "    # use the sktlearn.preprocessing procedures, they prommis to be quite flexible\n",
    "    workDataSet = dataSet.copy(deep=True)\n",
    "    # append zeroes so that we are actually normalized to zero\n",
    "    #zeroesDataFrame = pd.DataFrame(np.zeros([1,len(workDataSet.axes[1])]), columns=workDataSet.axes[1])\n",
    "    #workDataSet = workDataSet.append(zeroesDataFrame, ignore_index=True)\n",
    "    # fill up our nans as the function dosen't run with nans \n",
    "    workDataSet = workDataSet.fillna(0)\n",
    "    collums = []\n",
    "    for collum in workDataSet.axes[1]:\n",
    "        # what to skip:\n",
    "        if collum == \"timestamp\":\n",
    "            continue\n",
    "        collums.append(collum)\n",
    "    # if you want to keep the scaler, then split this into a fit and a transform call\n",
    "    scaler = preprocessing.MinMaxScaler(feature_range=scaler_feature_range).fit(workDataSet[collums].as_matrix())\n",
    "    workDataSet[collums] = scaler.transform(workDataSet[collums].as_matrix())\n",
    "    # remove zeroes again\n",
    "    #workDataSet = workDataSet.drop(len(workDataSet)-1, axis=0)\n",
    "    return workDataSet, scaler\n",
    "\n",
    "def inverseNormalizeDataSet(dataSet, scaler):\n",
    "    # make sure we don't change our original object (wo don't want that)\n",
    "    # use the sktlearn.preprocessing procedures, they prommis to be quite flexible\n",
    "    workDataSet = dataSet.copy(deep=True)\n",
    "    collums = []\n",
    "    for collum in workDataSet.axes[1]:\n",
    "        # what to skip:\n",
    "        if collum == \"timestamp\":\n",
    "            continue\n",
    "        collums.append(collum)\n",
    "    workDataSet[collums] = scaler.inverse_transform(workDataSet[collums].as_matrix())\n",
    "    # remove zeroes again\n",
    "    #workDataSet = workDataSet.drop(len(workDataSet)-1, axis=0)\n",
    "    return workDataSet\n",
    "\n",
    "def filterOutliersFromDataSet(dataSet):\n",
    "    raise NotImplementedError(\"Jup, true\")\n",
    "    return\n",
    "\n",
    "def getDataSetWithPacketloss(dataSet):\n",
    "    dataSetsWithPacketloss = dataSet.copy(deep=True)\n",
    "    count = 0\n",
    "    while count < len(dataSetsWithPacketloss):\n",
    "        loss = dataSetsWithPacketloss['packet_loss'][count]\n",
    "        # remove unwanted data:\n",
    "        if loss < 0.0 and loss > 0.05:\n",
    "            dataSetsWithPacketloss = dataSetsWithPacketloss.drop(count, axis=0)\n",
    "            # no need to set the counter higher, since we removed a line\n",
    "        else:\n",
    "            # keep this line and conut one up\n",
    "            count += 1\n",
    "    print( \"Number of dataSets with packet_loss: \" + str(len(dataSetsWithPacketloss)))\n",
    "    return dataSetsWithPacketloss\n"
   ]
  },
  {
   "cell_type": "markdown",
   "metadata": {},
   "source": [
    "## Read Raw data and create data sets"
   ]
  },
  {
   "cell_type": "code",
   "execution_count": 6,
   "metadata": {
    "collapsed": false
   },
   "outputs": [
    {
     "name": "stdout",
     "output_type": "stream",
     "text": [
      "Current percentage of analyzed dataPoints: \n",
      "0.0 %, 7.59647523549 %, 15.192950471 %, 22.7894257065 %, 30.385900942 %, 37.9823761775 %, 45.5788514129 %, 53.1753266484 %, 60.7718018839 %, 68.3682771194 %, 75.9647523549 %, 83.5612275904 %, 91.1577028259 %, 98.7541780614 %,  \n",
      "Total created data sets: 639\n"
     ]
    }
   ],
   "source": [
    "# read our raw data\n",
    "rawDataPath1 = \"raw_data/raw_data_by_IP_from_CERN_to_RAL_and_time_2016-05-01_to_2016-08-30_sorted.pkl\"\n",
    "rawDataPath2 = \"raw_data/raw_data_by_IP_from_RAL_to_CERN_and_time_2016-05-01_to_2016-08-30_sorted.pkl\"\n",
    "dataPoints_CERN_RAL = pd.read_pickle(rawDataPath1)\n",
    "dataPoints_RAL_CERN = pd.read_pickle(rawDataPath2)\n",
    "# make sure it is sorted\n",
    "dataPoints_CERN_RAL.sort_index(inplace=True, ascending=False)\n",
    "dataPoints_RAL_CERN.sort_index(inplace=True, ascending=False)\n",
    "\n",
    "\n",
    "secondsToAverage_Throughput = 60 * 60 * 6 # average over the last 4 hours\n",
    "secontsToAverage_Delay_and_Loss = 60 * 5 # average over the last 5 minutes\n",
    "dataSet_CERN_to_RAL = createDataSets(dataPoints_CERN_RAL, dataPoints_RAL_CERN, secondsToAverage_Throughput, secontsToAverage_Delay_and_Loss)"
   ]
  },
  {
   "cell_type": "markdown",
   "metadata": {},
   "source": [
    "## Prepare Data and write it to a root file"
   ]
  },
  {
   "cell_type": "code",
   "execution_count": 7,
   "metadata": {
    "collapsed": false
   },
   "outputs": [],
   "source": [
    "dataSet_CERN_to_RAL_normalized, scaler_for_CERN_to_RAL = normalizeDataSet(dataSet_CERN_to_RAL, scaler_feature_range=(-1,1))\n",
    "filePath = \"/root/Downloads/dataSet_CERN_to_RAL.root\"\n",
    "writeDataSetToRoot(dataSet_CERN_to_RAL_normalized, filePath)"
   ]
  },
  {
   "cell_type": "markdown",
   "metadata": {},
   "source": [
    "## Train the ANN with the TMVA_ANN_Regression_with_data.ipynb script executed in shell as .py, since the jupyter notebook won't train for some random reason"
   ]
  },
  {
   "cell_type": "markdown",
   "metadata": {},
   "source": [
    "## Create data to plot from trained ANN"
   ]
  },
  {
   "cell_type": "code",
   "execution_count": 8,
   "metadata": {
    "collapsed": false
   },
   "outputs": [],
   "source": [
    "%%cpp\n",
    "// get the ann data\n",
    "// cpp imports\n",
    "#include <cstdlib>\n",
    "#include <vector>\n",
    "#include <iostream>\n",
    "#include <map>\n",
    "#include <string>\n",
    "\n",
    "#include \"TFile.h\"\n",
    "#include \"TTree.h\"\n",
    "#include \"TString.h\"\n",
    "#include \"TSystem.h\"\n",
    "#include \"TROOT.h\"\n",
    "#include \"TStopwatch.h\"\n",
    "\n",
    "#include \"TMVA/Tools.h\"\n",
    "#include \"TMVA/Reader.h\"\n",
    "// our vectors, which we are using to get around the fundamental problem, that rootpy can't construct root/cpp floats\n",
    "// and we therefore otherwiese couldn't give a reference over to tmva in the later code\n",
    "std::vector<float> vars;\n",
    "std::vector<TString> varsName;"
   ]
  },
  {
   "cell_type": "code",
   "execution_count": 9,
   "metadata": {
    "collapsed": false
   },
   "outputs": [],
   "source": [
    "# get metadata from the original trainingset\n",
    "originalTrainingSet = filePath\n",
    "inputFile = ROOT.TFile.Open( originalTrainingSet )\n",
    "regTree = inputFile.Get(\"TreeR\")\n",
    "leaves = regTree.GetListOfLeaves()\n",
    "varsName = []\n",
    "# add all variables, except throughput and timestamp\n",
    "for i in xrange(len(leaves)):\n",
    "    if (leaves[i].GetName() == \"timestamp\") or (leaves[i].GetName() == \"throughput\"):\n",
    "            continue\n",
    "    ROOT.varsName.push_back(leaves[i].GetName())\n",
    "    # keep a copy in python which is easyer to handle\n",
    "    varsName.append(leaves[i].GetName())\n",
    "# resize other vector to fit\n",
    "ROOT.vars.resize(len(ROOT.varsName))"
   ]
  },
  {
   "cell_type": "code",
   "execution_count": 10,
   "metadata": {
    "collapsed": true
   },
   "outputs": [],
   "source": [
    "%%cpp\n",
    "// switch to C++ to avoid the annoying reference problem, mentioned above\n",
    "// --- Create the Reader object\n",
    "TMVA::Reader *reader = new TMVA::Reader( \"!Color:!Silent\" );\n",
    "\n",
    "// Create a set of variables and declare them to the reader\n",
    "// - the variable names MUST corresponds in name and type to those given in the weight file(s) used\n",
    "// add the variables that we just stored in our C++ vector (what a time to be alive)\n",
    "\n",
    "for (int i = 0; i < varsName.size(); i++){\n",
    "    reader->AddVariable( varsName[i], &vars[i] );\n",
    "}"
   ]
  },
  {
   "cell_type": "code",
   "execution_count": 11,
   "metadata": {
    "collapsed": false
   },
   "outputs": [
    {
     "data": {
      "text/plain": [
       "<ROOT.TMVA::MethodMLP object (\"MLP\") at 0x861c490>"
      ]
     },
     "execution_count": 11,
     "metadata": {},
     "output_type": "execute_result"
    },
    {
     "name": "stdout",
     "output_type": "stream",
     "text": [
      "--- Reader                   : Booking \"MLP method\" of type \"MLP\" from /root/Downloads/weights/TMVARegression_MLP.weights.xml.\r\n",
      "--- MethodBase               : Reading weight file: /root/Downloads/weights/TMVARegression_MLP.weights.xml\r\n",
      "--- MLP                      : Read method \"MLP\" of type \"MLP\"\r\n",
      "--- MLP                      : MVA method was trained with TMVA Version: 4.2.1\r\n",
      "--- MLP                      : MVA method was trained with ROOT Version: 6.06/06\r\n",
      "--- DataSetInfo              : Added class \"Regression\"\t with internal class number 0\r\n",
      "--- MLP                      : Building Network\r\n",
      "--- MLP                      : Initializing weights\r\n",
      "--- Reader                   : Booked classifier \"MLP\" of type: \"MLP\"\r\n"
     ]
    }
   ],
   "source": [
    "methodName = \"MLP method\"\n",
    "weightfile = \"/root/Downloads/weights/TMVARegression_MLP.weights.xml\"\n",
    "ROOT.reader.BookMVA( methodName, weightfile )"
   ]
  },
  {
   "cell_type": "code",
   "execution_count": 12,
   "metadata": {
    "collapsed": false
   },
   "outputs": [],
   "source": [
    "# add the data to our dataset\n",
    "dataSet_with_ann_data = dataSet_CERN_to_RAL_normalized.copy(deep=True)\n",
    "for i in xrange(len(dataSet_with_ann_data)):\n",
    "    for j in xrange(len(varsName)):\n",
    "        ROOT.vars[j] = dataSet_with_ann_data[varsName[j]][i]\n",
    "    output = ROOT.reader.EvaluateRegression( \"MLP method\" )[0]\n",
    "    dataSet_with_ann_data.set_value(i, 'throughput', output)\n",
    "    #print(output)\n",
    "# rescale stuff\n",
    "dataSet_with_ann_data = inverseNormalizeDataSet(dataSet_with_ann_data, scaler_for_CERN_to_RAL)"
   ]
  },
  {
   "cell_type": "markdown",
   "metadata": {},
   "source": [
    "## Do the actual plotting"
   ]
  },
  {
   "cell_type": "code",
   "execution_count": 13,
   "metadata": {
    "collapsed": false
   },
   "outputs": [
    {
     "name": "stdout",
     "output_type": "stream",
     "text": [
      "Number of dataSets with packet_loss: 639\n"
     ]
    },
    {
     "data": {
      "image/png": "[encoded data removed]",
      "text/plain": [
       "<matplotlib.figure.Figure at 0x7720c50>"
      ]
     },
     "metadata": {},
     "output_type": "display_data"
    }
   ],
   "source": [
    "dataSetsWithPacketloss = getDataSetWithPacketloss(dataSet_CERN_to_RAL)\n",
    "\n",
    "# sort for packetloss\n",
    "# when sorted mathis formular dosen't work anymore...\n",
    "#dataSetsWithPacketloss.sort_values('packet_loss', ascending=1, inplace=True)\n",
    "\n",
    "RTT_Array = np.empty(len(dataSetsWithPacketloss))\n",
    "for i in xrange(len(dataSetsWithPacketloss)):\n",
    "    RTT_Array[i] = float(dataSetsWithPacketloss['delay_current_average_forth'][i] + dataSetsWithPacketloss['delay_current_average_back'][i])\n",
    "\n",
    "\n",
    "MSS = 8860\n",
    "\n",
    "# plot the data we got\n",
    "plt.figure(figsize=(12,9), dpi=300)\n",
    "title = \"CERN to RAL, MLP training\\n(trainingsample=60%, Epochs=5000, HiddenLayers=N+4,N-5, N=9)\\ntest with: Sampling=1:SamplingEpoch=1 \\n and scaler_feature_range=(-1,1)\"\n",
    "fname = \"ANN_Plot_1\"\n",
    "plt.title(title,fontsize=14)\n",
    "plt.plot(dataSetsWithPacketloss['packet_loss'], dataSetsWithPacketloss['throughput'], 'r.', label=r'perfSonar data points')\n",
    "# we need to take Mathis modell\n",
    "#plt.plot(dataSetsWithPacketloss['packet_loss'], calcMathisModel_outBitsPerSec(dataSetsWithPacketloss['packet_loss'], MSS, RTT_Array), 'b.', label=r'Mathis points')\n",
    "# plot ann data\n",
    "plt.plot(dataSet_with_ann_data['packet_loss'], dataSet_with_ann_data['throughput'], 'bx', label=r'MLP data points')\n",
    "plt.legend(loc='best',fontsize=14)\n",
    "plt.ylabel(\"Throughput\")\n",
    "plt.xlabel(\"Packetloss\")\n",
    "plt.axis([0, 0.3, 0, 7*1e9])\n",
    "#pylab.savefig(\"own_plots/\"+ title +\".png\", bbox_inches='tight')\n",
    "plt.savefig('own_plots/'+ fname +'.png', format='PNG', dpi=300)\n",
    "plt.show()"
   ]
  },
  {
   "cell_type": "code",
   "execution_count": null,
   "metadata": {
    "collapsed": true
   },
   "outputs": [],
   "source": []
  },
  {
   "cell_type": "code",
   "execution_count": null,
   "metadata": {
    "collapsed": true
   },
   "outputs": [],
   "source": [
    "\n",
    "\n",
    "\n",
    "\n",
    "\n",
    "\n",
    "\n",
    "\n"
   ]
  },
  {
   "cell_type": "code",
   "execution_count": null,
   "metadata": {
    "collapsed": false
   },
   "outputs": [],
   "source": [
    "from scipy.odr import *\n",
    "def mModelForODR(Vars, packetloss_or_x_Array):\n",
    "    MSS = 8860\n",
    "    return calcMathisModel_outBitsPerSec(packetloss_or_x_Array, MSS, RTT_Array, C=Vars[0])\n",
    "\n",
    "# scipy model\n",
    "mathis_model = Model(mModelForODR)\n",
    "# our data\n",
    "fiting_data = Data(dataSetsWithPacketloss['packet_loss'], dataSetsWithPacketloss['throughput'])\n",
    "# do the actual fit\n",
    "mathisodr = ODR(fiting_data, mathis_model, beta0=[1.224], maxit=500)\n",
    "# all params:\n",
    "# mathisodr = ODR(fiting_data, mathis_model, beta0=[1.224, 1, 0.0, 2])\n",
    "odroutput = mathisodr.run()\n",
    "\n",
    "# print the output\n",
    "odroutput.pprint()"
   ]
  },
  {
   "cell_type": "code",
   "execution_count": null,
   "metadata": {
    "collapsed": false
   },
   "outputs": [],
   "source": [
    "# plot with fitted function\n",
    "plt.figure(figsize=(12,9), dpi=300)\n",
    "title = \"Packetloss vs throughput with fitted Mathis formular\"\n",
    "plt.title(title,fontsize=14)\n",
    "plt.plot(packetlossArray, throughputArray, 'r.', label=r'Data points')\n",
    "plt.plot(packetlossArray, mModelForODR(odroutput.beta, packetlossArray), 'b.', label=\"Mathis model\")\n",
    "plt.legend(loc='best',fontsize=14)\n",
    "plt.ylabel(\"throughput\")\n",
    "plt.xlabel(\"packet loss\")\n",
    "plt.axis([0, 0.05, 0, 6*1e9])\n",
    "plt.show()"
   ]
  },
  {
   "cell_type": "code",
   "execution_count": null,
   "metadata": {
    "collapsed": false
   },
   "outputs": [],
   "source": []
  }
 ],
 "metadata": {
  "kernelspec": {
   "display_name": "Python 2",
   "language": "python",
   "name": "python2"
  },
  "language_info": {
   "codemirror_mode": {
    "name": "ipython",
    "version": 2
   },
   "file_extension": ".py",
   "mimetype": "text/x-python",
   "name": "python",
   "nbconvert_exporter": "python",
   "pygments_lexer": "ipython2",
   "version": "2.7.5"
  }
 },
 "nbformat": 4,
 "nbformat_minor": 0
}
