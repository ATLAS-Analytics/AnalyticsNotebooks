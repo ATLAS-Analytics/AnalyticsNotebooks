{
 "cells": [
  {
   "cell_type": "code",
   "execution_count": null,
   "metadata": {
    "collapsed": false
   },
   "outputs": [],
   "source": [
    "%matplotlib inline\n",
    "from datetime import datetime\n",
    "import matplotlib.pyplot as plt\n",
    "from elasticsearch import Elasticsearch, helpers\n",
    "import numpy as np\n",
    "import pandas as pd\n",
    "import pprint\n",
    "from __future__ import division\n",
    "from __future__ import print_function\n",
    "import calendar\n",
    "from zipfile import ZipFile\n",
    "import os\n",
    "import sys\n",
    "import dateutil\n",
    "import zipfile\n",
    "import csv\n",
    "import pickle\n",
    "import datetime"
   ]
  },
  {
   "cell_type": "code",
   "execution_count": null,
   "metadata": {
    "collapsed": false
   },
   "outputs": [],
   "source": []
  },
  {
   "cell_type": "markdown",
   "metadata": {},
   "source": [
    "## Define search functions "
   ]
  },
  {
   "cell_type": "code",
   "execution_count": null,
   "metadata": {
    "collapsed": true
   },
   "outputs": [],
   "source": [
    "def collect_routerData(routerDataFile , base_data=pd.DataFrame()):\n",
    "    filePath = routerDataFile\n",
    "    directionIsIn = False\n",
    "    data = base_data.copy(deep=True)\n",
    "    group = \"\"\n",
    "    routerNum = 0\n",
    "    with open(filePath, \"rb\") as csvfile:\n",
    "        csvReader = csv.reader(csvfile, delimiter=',')\n",
    "        for row in csvReader:\n",
    "            #print(group_and_router + str(directionIsIn))\n",
    "            # check if the line defines our router\n",
    "            if len(row) == 1 and \"cern.ch\" in row[0]:\n",
    "                routerNum += 1\n",
    "                continue\n",
    "            # check if there is actually data\n",
    "            if len(row) != 2:\n",
    "                continue\n",
    "            # check if the line defines our user group\n",
    "            if row[0] == \"Subtitle:\":\n",
    "                group = row[1].split(\"User Group: \")[1]\n",
    "            # check the direction\n",
    "            if row[1] == \"Bits In - Average Rate (Bits Per Second)\":\n",
    "                directionIsIn = True\n",
    "            if row[1] == \"Bits Out - Average Rate (Bits Per Second)\":\n",
    "                directionIsIn = False\n",
    "            try:\n",
    "                float(row[1])\n",
    "            except ValueError:\n",
    "                continue\n",
    "            bitsPerSec = float(row[1])\n",
    "            row[0] = row[0].replace(\" \", \"/\")\n",
    "            # the format for the years is changed inbetween from 16 to 2016\n",
    "            year = row[0].split(\"/\")[2]\n",
    "            if len(year) == 4:\n",
    "                timestomp = datetime.strptime(row[0], \"%m/%d/%Y/%H:%M\")\n",
    "            else:\n",
    "                timestomp = datetime.strptime(row[0], \"%m/%d/%y/%H:%M\")\n",
    "            print(timestomp)\n",
    "            # add data to dataFrame\n",
    "            timestamp_epoch = int(calendar.timegm(timestomp.utctimetuple()))\n",
    "            if directionIsIn:\n",
    "                data.set_value(timestamp_epoch, \"throughput_\"+group+\"_router_\"+str(routerNum)+\"_in\", bitsPerSec)\n",
    "            else:\n",
    "                data.set_value(timestamp_epoch, \"throughput_\"+group+\"_router_\"+str(routerNum)+\"_out\", bitsPerSec)\n",
    "    data.sort_index(inplace=True, ascending=False)\n",
    "    return data\n"
   ]
  },
  {
   "cell_type": "code",
   "execution_count": null,
   "metadata": {
    "collapsed": false
   },
   "outputs": [],
   "source": [
    "def starlikeConnector(es, center_point_data, out_points_list, timeframe):\n",
    "    print(\"starlikeConnector not implementet for this!\")\n",
    "    return\n",
    "    for dest_data in out_points_list:\n",
    "        collect_and_clean_byIP_Scroll(es, center_point_data, dest_data, timeframe)\n",
    "        collect_and_clean_byIP_Scroll(es, dest_data, center_point_data, timeframe)\n",
    "\n",
    "        \n",
    "def zipFolder(path=\"raw_data/\"):\n",
    "    zipf = zipfile.ZipFile('folder_zipped.zip', 'w', zipfile.ZIP_DEFLATED)\n",
    "    for root, dirs, files in os.walk(path):\n",
    "        for file in files:\n",
    "            zipf.write(os.path.join(root, file))\n",
    "    zipf.close()\n",
    "        \n",
    "def readAllInFolder(folderPath, base_data=pd.DataFrame()):\n",
    "    data = base_data\n",
    "    for (dirpath, dirnames, filenames) in os.walk(folderPath):\n",
    "        # read all files\n",
    "        for filename in filenames:\n",
    "            data = collect_routerData(folderPath + filename, base_data=data)\n",
    "    return data"
   ]
  },
  {
   "cell_type": "markdown",
   "metadata": {},
   "source": [
    "## Collect raw data"
   ]
  },
  {
   "cell_type": "code",
   "execution_count": null,
   "metadata": {
    "collapsed": false
   },
   "outputs": [],
   "source": [
    "data_router = readAllInFolder(\"raw_data_routers/PIC/\")\n",
    "data_router = readAllInFolder(\"raw_data_routers/RAL/\", base_data=data_router)\n",
    "data_router.to_pickle(\"raw_data_routers/raw_router_RAL_and_PIC_all_highres.pkl\")"
   ]
  },
  {
   "cell_type": "markdown",
   "metadata": {
    "collapsed": false
   },
   "source": [
    "## plotting"
   ]
  },
  {
   "cell_type": "code",
   "execution_count": null,
   "metadata": {
    "collapsed": false
   },
   "outputs": [],
   "source": [
    "src = \"CERN\"\n",
    "dest = \"PIC\"\n",
    "# plot the data we got\n",
    "plt.figure(figsize=(12,9), dpi=300)\n",
    "title = \"Throughput plot \"+src+\" <-> \"+dest\n",
    "fname = title\n",
    "plt.title(title,fontsize=14)\n",
    "# plot latency 1\n",
    "plt.plot(np.array(data_router.axes[0]), data_router[\"throughput_UK-RAL_router_1_in\"],\n",
    "         'r', label=r'Throughput, router 1: '+dest+' -> '+src)\n",
    "#plt.plot(np.array(latency_data.axes[0]), latency_data[\"delay_forth_minus_avg\"], 'r', label=r'Latency '+src+' -> '+dest)\n",
    "# plot latency 2\n",
    "plt.plot(np.array(data_router.axes[0]), data_router[\"throughput_UK-RAL_router_1_out\"],\n",
    "         'b', label=r'Throughput, router 1: '+src+' -> '+dest)\n",
    "#plt.plot(np.array(data_router.axes[0]), latency_data[\"delay_back_minus_avg\"], 'b', label=r'Latency '+dest+' -> '+src)\n",
    "# test\n",
    "#plt.plot(np.array(data_router.axes[0]), data_router[\"throughput_ES-PIC_router_1_out\"], 'g', label=r'Test')\n",
    "plt.legend(loc='best',fontsize=14)\n",
    "plt.ylabel(\"Throughput\")\n",
    "plt.xlabel(\"Time\")\n",
    "#plt.axis([1.4712*1e9, 1.4714*1e9, -0, 80])\n",
    "#plt.axis([1.4634*1e9, 1.4641*1e9, 0, 100])\n",
    "#plt.savefig('own_plots/'+ fname +'.png', format='PNG', dpi=300)\n",
    "plt.show()"
   ]
  },
  {
   "cell_type": "code",
   "execution_count": null,
   "metadata": {
    "collapsed": true
   },
   "outputs": [],
   "source": []
  }
 ],
 "metadata": {
  "kernelspec": {
   "display_name": "Python (ipykernel_py2)",
   "language": "python",
   "name": "ipykernel_py2"
  },
  "language_info": {
   "codemirror_mode": {
    "name": "ipython",
    "version": 2
   },
   "file_extension": ".py",
   "mimetype": "text/x-python",
   "name": "python",
   "nbconvert_exporter": "python",
   "pygments_lexer": "ipython2",
   "version": "2.7.11"
  }
 },
 "nbformat": 4,
 "nbformat_minor": 0
}
