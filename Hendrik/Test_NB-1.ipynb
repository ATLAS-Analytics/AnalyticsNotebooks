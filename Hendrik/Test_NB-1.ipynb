{
 "cells": [
  {
   "cell_type": "markdown",
   "metadata": {},
   "source": [
    "## Do Imports"
   ]
  },
  {
   "cell_type": "code",
   "execution_count": 8,
   "metadata": {
    "collapsed": true
   },
   "outputs": [],
   "source": [
    "%matplotlib inline\n",
    "\n",
    "\n",
    "import numpy as np\n",
    "import pandas as pd\n",
    "import math\n",
    "import pprint\n",
    "from __future__ import division\n",
    "from __future__ import print_function\n",
    "from datetime import datetime\n",
    "from datetime import datetime\n",
    "import matplotlib.pyplot as plt\n",
    "import os\n",
    "from fractions import Fraction \n",
    "import scipy.odr.odrpack as odrpack\n",
    "import time\n",
    "from bisect import bisect_left\n"
   ]
  },
  {
   "cell_type": "markdown",
   "metadata": {
    "collapsed": true
   },
   "source": [
    "## Define functions for dataSet computation"
   ]
  },
  {
   "cell_type": "code",
   "execution_count": 9,
   "metadata": {
    "collapsed": false
   },
   "outputs": [],
   "source": [
    "def avageAndStdDeviationOverSeconds(dataPoints, currentIndex, collumToAnalyze, averagingSeconds):\n",
    "    '''\n",
    "    Returns a tupel, with outTupel[0] the average and outTupel[1] the standard deviation.\n",
    "    Calculates the average and standard deviation over a given time.\n",
    "    Starting from the data point at currentIndex in dataPoints and going back the number of averagingSeconds.\n",
    "    It is assumed, that dataPonts is a Pandas DataFrame, with timestamps as indexes\n",
    "    and that it is sortet, so that the latest/newest entry is at the beginning of the DataFrame.\n",
    "    '''\n",
    "    timestamps = dataPoints.axes[0]\n",
    "    data = dataPoints.values\n",
    "    outTupel = [0, 0]\n",
    "    secondsAgo = timestamps[currentIndex] - averagingSeconds\n",
    "    if ( timestamps[len(timestamps)-1] > secondsAgo):\n",
    "        secondsAgo = timestamps[len(timestamps)-1]\n",
    "    # cut array\n",
    "    lastIndex = 0\n",
    "    for i in xrange(currentIndex, len(data)):\n",
    "        if timestamps[i] <= secondsAgo :\n",
    "            lastIndex = i\n",
    "            break\n",
    "    cutData = np.split(dataPoints, [currentIndex, lastIndex + 1])[1]\n",
    "    data = cutData.values\n",
    "    columNames = cutData.axes[1]\n",
    "    # calculate average and variance\n",
    "    avg = cutData[columNames[collumToAnalyze]].mean()\n",
    "    outTupel[0] = avg\n",
    "    std = cutData[columNames[collumToAnalyze]].std()\n",
    "    outTupel[1] = std\n",
    "    return outTupel\n",
    "\n",
    "def nextMeasurementAndDistance(dataPoints, currentIndex, collumToAnalyze, averagingSeconds, numberOfMeasurementsToSkip):\n",
    "    '''\n",
    "    Returns a tuple with outTupel[0] the next measurement in time and outTupel[1]\n",
    "    the distance of the next measurement to the timestamp at currentIndex, devided by averagingSeconds\n",
    "    TODO: evaluate, how usefull it is to devide by averagingSeconds\n",
    "    '''\n",
    "    timestamps = dataPoints.axes[0]\n",
    "    data = dataPoints.values\n",
    "    outTupel = [0, 0]\n",
    "    nextIndex = currentIndex + 1\n",
    "    while True:\n",
    "        if nextIndex >= len(timestamps):\n",
    "            nextIndex = currentIndex\n",
    "            break\n",
    "        if math.isnan(data[nextIndex][collumToAnalyze]) == False:\n",
    "            break\n",
    "        nextIndex = nextIndex + 1\n",
    "    outTupel[0] = data[nextIndex][collumToAnalyze]\n",
    "    outTupel[1] = (timestamps[currentIndex] - timestamps[nextIndex]) / (averagingSeconds)\n",
    "    return outTupel\n",
    "\n",
    "\n",
    "def findIndexClostestThatIsNotNAN(startIndex, dataPoints, collumThatIsNotNAN):\n",
    "    '''\n",
    "    Returns an index for dataPoints, that is:\n",
    "    a) in the collum \"collumThatIsNotNAN\" not nan.\n",
    "    b) closest to startIndex (looking fowards and backwards at the same time in the array).\n",
    "       This \"proximity\" does not take the timestamp into account, just the numerical\n",
    "       distance from startIndex to the returned index.\n",
    "    If no occurence is found it will raise an error, but this case should be ultra rare.\n",
    "    ATENTION: This function may look into the \"future\" of the data set which may not be possible in the future.\n",
    "    '''\n",
    "    hitBeginningOfList = False\n",
    "    hitEndOfList = False\n",
    "    index1 = startIndex\n",
    "    index2 = startIndex\n",
    "    while not (hitEndOfList or hitBeginningOfList):\n",
    "        index1 += 1\n",
    "        index2 -= 1\n",
    "        if (hitEndOfList == True) or (index1 == len(dataPoints)):\n",
    "            hitEndOfList = True\n",
    "        else:\n",
    "            currentDataPoint = dataPoints.values[index1]\n",
    "            if not math.isnan(currentDataPoint[collumThatIsNotNAN]):\n",
    "                return index1\n",
    "        if (hitBeginningOfList == True) or (index2 == -1):\n",
    "            hitBeginningOfList = True\n",
    "        else:\n",
    "            currentDataPoint = dataPoints.values[index2]\n",
    "            if not math.isnan(currentDataPoint[collumThatIsNotNAN]):\n",
    "                return index2\n",
    "    raise StandardError(\"Could not find a closest occurence, does the data even contain values in that colum?\")\n",
    "\n",
    "\n",
    "def findDataPointClosestToTimestamp(timestamp, dataPoints, collumThatIsNotNAN):\n",
    "    '''\n",
    "    Returns a data point from dataPoints, that is closest to the given timestamp.\n",
    "    As well the dataPoint will not be nan in the collum \"collumThatIsNotNAN\"\n",
    "    Complexity of this command: O( log( len(dataPoints) ) )\n",
    "    '''\n",
    "    timestamps_toSearch = dataPoints.axes[0]\n",
    "    data = dataPoints.values\n",
    "    # bisect only works because we know our list is sorted\n",
    "    pos = bisect_left(timestamps_toSearch, timestamp)\n",
    "    if pos == len(dataPoints):\n",
    "        pos = len(dataPoints)-1\n",
    "    # find the closest datapoint, that is not a NAN and return it\n",
    "    currentDataPoint = dataPoints.values[pos]\n",
    "    if not math.isnan(currentDataPoint[collumThatIsNotNAN]):\n",
    "        return currentDataPoint\n",
    "    else:\n",
    "        pos = findIndexClostestThatIsNotNAN(pos, dataPoints, collumThatIsNotNAN)\n",
    "        currentDataPoint = dataPoints.values[pos]\n",
    "        return currentDataPoint\n",
    "    \n",
    "\n",
    "\n",
    "\n",
    "def createDataSets(dataPoints_forth, dataPoints_back, averagingSeconds):\n",
    "    '''\n",
    "    Returns a data sets, derived from the given dataPoints_forth, and small parts of dataPoints_back.\n",
    "    A data set contains information about throughput, packetloss and delay for a given point in time.\n",
    "    '''\n",
    "    timestamps = dataPoints_forth.axes[0]\n",
    "    data = dataPoints_forth.values\n",
    "    dataSetList = []\n",
    "    # go through the data\n",
    "    print(\"Current percentage of analyzed dataPoints: \")\n",
    "    for i in xrange(len(dataPoints_forth)):\n",
    "        # find a point, where we have throughput data\n",
    "        if math.isnan(data[i][5]) == False:\n",
    "            currentSet = {}\n",
    "            # get all the throughput data:\n",
    "            currentSet[\"timestamp\"] = timestamps[i]\n",
    "            currentSet[\"throughput\"] = data[i][5]\n",
    "            avgAStdThroughput = avageAndStdDeviationOverSeconds(dataPoints_forth, i, 5, averagingSeconds)\n",
    "            currentSet[\"throughput_average\"] = avgAStdThroughput[0]\n",
    "            currentSet[\"throughput_std_deviation\"] = avgAStdThroughput[1]\n",
    "            nextAndDist = nextMeasurementAndDistance(dataPoints_forth, i, 5, averagingSeconds)\n",
    "            currentSet[\"throughput_last_measurement\"] = nextAndDist[0]\n",
    "            currentSet[\"throughput_last_measurement_time\"] = nextAndDist[1]\n",
    "            \n",
    "            # get all packetloss data:\n",
    "            # TODO: replace this with a search in both directions\n",
    "            nextValidIndex = findIndexClostestThatIsNotNAN(i, dataPoints_forth, 4)\n",
    "            currentSet[\"packet_loss\"] = data[nextValidIndex][4]\n",
    "            avgAStdPacket_loss = avageAndStdDeviationOverSeconds(dataPoints_forth, nextValidIndex, 4, averagingSeconds)\n",
    "            currentSet[\"packet_loss_average\"] = avgAStdPacket_loss[0]\n",
    "            currentSet[\"packet_loss_std_deviation\"] = avgAStdPacket_loss[1]\n",
    "            \n",
    "            # get all delay data\n",
    "            nextValidIndex = findIndexClostestThatIsNotNAN(i, dataPoints_forth, 2)\n",
    "            fittingDataPoint_back = findDataPointClosestToTimestamp(currentSet[\"timestamp\"], dataPoints_back, 2)\n",
    "            currentSet[\"delay_current_average_forth\"] = data[nextValidIndex][2]\n",
    "            currentSet[\"delay_current_average_back\"] = fittingDataPoint_back[2]\n",
    "            currentSet[\"delay_current_std_deviation_forth\"] = data[nextValidIndex][3]\n",
    "            currentSet[\"delay_current_std_deviation_back\"] = fittingDataPoint_back[3]\n",
    "            avgAStdPacket_loss = avageAndStdDeviationOverSeconds(dataPoints_forth, nextValidIndex, 1, averagingSeconds)\n",
    "            currentSet[\"delay_timed_average\"] = avgAStdPacket_loss[0]\n",
    "            currentSet[\"delay_timed_std_deviation\"] = avgAStdPacket_loss[1]\n",
    "            \n",
    "            dataSetList.append(currentSet)\n",
    "        if (i % 1000) == 0:\n",
    "            print(str(100*i/len(dataPoints_forth)) +\" %, \" , end=\"\")\n",
    "    print(\" \")\n",
    "    print(\"Total created data sets: \" + str(len(dataSetList)))\n",
    "    return dataSetList\n",
    "\n",
    "\n",
    "def createDatasetsFromFilesInFolder(path, averagingSeconds):\n",
    "    '''\n",
    "    This function is outdated at the moment and will crash!\n",
    "    '''\n",
    "    count = 0\n",
    "    outputDataSets = []\n",
    "    for (dirpath, dirnames, filenames) in os.walk(path):\n",
    "        # read all files\n",
    "        for filename in filenames:\n",
    "            print(\"----------------------- reading file: \" + filename)\n",
    "            dataPoints = pd.read_pickle(str(path + filename))\n",
    "            # make sure it is sorted\n",
    "            dataPoints.sort_index(inplace=True, ascending=False)\n",
    "            dataSets = createDataSets(dataPoints, averagingSeconds)\n",
    "            outputDataSets.append(dataSets)\n",
    "            count =  count + 1\n",
    "            print(\" \")\n",
    "    print(\"Number of read files: \" + str(count))\n",
    "    print(\" \")\n",
    "    return outputDataSets"
   ]
  },
  {
   "cell_type": "markdown",
   "metadata": {},
   "source": [
    "## Define functions for the analytical model"
   ]
  },
  {
   "cell_type": "code",
   "execution_count": 10,
   "metadata": {
    "collapsed": false
   },
   "outputs": [],
   "source": [
    "def calcMathisModel_outBitsPerSec(packetloss, MSS, RTT, C=math.sqrt(3/2)):\n",
    "    '''\n",
    "    Returns the result of mathis model in Bits/s.\n",
    "    It does work with np.arrays.\n",
    "    '''\n",
    "    outVal = (MSS/RTT)*C/np.sqrt(packetloss)\n",
    "    # since Mathis forumlar gives us Mbit/sec, but we actualy have Bit/s as a throughput\n",
    "    # so we need to multipy by 1e6 to get bit/sec\n",
    "    outVal *= 1e6\n",
    "    return outVal\n"
   ]
  },
  {
   "cell_type": "markdown",
   "metadata": {},
   "source": [
    "## Import raw data and compute dataset"
   ]
  },
  {
   "cell_type": "code",
   "execution_count": 11,
   "metadata": {
    "collapsed": false
   },
   "outputs": [
    {
     "name": "stdout",
     "output_type": "stream",
     "text": [
      "Current percentage of analyzed dataPoints: \n",
      "0.0 %, 7.59647523549 %, 15.192950471 %, 22.7894257065 %, 30.385900942 %, 37.9823761775 %, 45.5788514129 %, 53.1753266484 %, 60.7718018839 %, 68.3682771194 %, 75.9647523549 %, 83.5612275904 %, 91.1577028259 %, 98.7541780614 %,  \n",
      "Total created data sets: 639\n",
      "Current percentage of analyzed dataPoints: \n",
      "0.0 %, 7.98658254133 %, 15.9731650827 %, 23.959747624 %, 31.9463301653 %, 39.9329127067 %, 47.919495248 %, 55.9060777893 %, 63.8926603306 %, 71.879242872 %, 79.8658254133 %, 87.8524079546 %, 95.838990496 %,  \n",
      "Total created data sets: 646\n"
     ]
    }
   ],
   "source": [
    "# read our raw data\n",
    "rawDataPath1 = \"raw_data/raw_data_by_IP_from_CERN_to_RAL_and_time_2016-05-01_to_2016-08-30_sorted.pkl\"\n",
    "rawDataPath2 = \"raw_data/raw_data_by_IP_from_RAL_to_CERN_and_time_2016-05-01_to_2016-08-30_sorted.pkl\"\n",
    "dataPoints_CERN_RAL = pd.read_pickle(rawDataPath1)\n",
    "dataPoints_RAL_CERN = pd.read_pickle(rawDataPath2)\n",
    "# make sure it is sorted\n",
    "dataPoints_CERN_RAL.sort_index(inplace=True, ascending=False)\n",
    "dataPoints_RAL_CERN.sort_index(inplace=True, ascending=False)\n",
    "\n",
    "\n",
    "secondsToAverage = 60 * 2 \n",
    "dataSetList_CERN_to_RAL = createDataSets(dataPoints_CERN_RAL, dataPoints_RAL_CERN, secondsToAverage)\n",
    "dataSetList_RAL_to_CERN = createDataSets(dataPoints_RAL_CERN, dataPoints_CERN_RAL, secondsToAverage)\n",
    "#dataSetList = createDatasetsFromFilesInFolder(\"raw_data/selected_data_points/\", secondsToAverage)\n",
    "#dataSetListAll = dataSetList[0] + dataSetList[1] + dataSetList[2] + dataSetList[3]\n",
    "#dataSetList = pd.read_pickle('dataSetList.pkl')\n",
    "dataSetListAll = []\n",
    "dataSetListAll.append(dataSetList_CERN_to_RAL)\n",
    "dataSetListAll.append(dataSetList_RAL_to_CERN)"
   ]
  },
  {
   "cell_type": "code",
   "execution_count": 12,
   "metadata": {
    "collapsed": false
   },
   "outputs": [
    {
     "name": "stdout",
     "output_type": "stream",
     "text": [
      "Number of dataSets with packet_loss: 178\n"
     ]
    },
    {
     "data": {
      "image/png": "[encoded data removed]",
      "text/plain": [
       "<matplotlib.figure.Figure at 0x7febf05a6610>"
      ]
     },
     "metadata": {},
     "output_type": "display_data"
    }
   ],
   "source": [
    "dataSetsWithPacketloss = []\n",
    "for s in dataSetListAll[0]:\n",
    "    if s['packet_loss'] > 0.0 and s['packet_loss'] < 0.05:\n",
    "        dataSetsWithPacketloss.append(s)\n",
    "print( \"Number of dataSets with packet_loss: \" + str(len(dataSetsWithPacketloss)))\n",
    "\n",
    "# sort for packetloss\n",
    "dataSetsWithPacketloss.sort(key=lambda dataset: dataset['packet_loss'])\n",
    "\n",
    "packetlossArray = np.empty(len(dataSetsWithPacketloss))\n",
    "throughputArray = np.empty(len(dataSetsWithPacketloss))\n",
    "RTT_Array = np.empty(len(dataSetsWithPacketloss))\n",
    "for i in xrange(len(packetlossArray)):\n",
    "    packetlossArray[i] = float(dataSetsWithPacketloss[i]['packet_loss'])\n",
    "    throughputArray[i] = float(dataSetsWithPacketloss[i]['throughput'])\n",
    "    RTT_Array[i] = float(dataSetsWithPacketloss[i]['delay_current_average_forth'] + dataSetsWithPacketloss[i]['delay_current_average_back'])\n",
    "\n",
    "\n",
    "MSS = 8860\n",
    "    \n",
    "# plot the data we got\n",
    "plt.figure(figsize=(12,9), dpi=300)\n",
    "title = \"Packetloss vs throughput\"\n",
    "plt.title(title,fontsize=14)\n",
    "plt.plot(packetlossArray, throughputArray, 'r.', label=r'Data points')\n",
    "# we need to take Mathis modell\n",
    "plt.plot(packetlossArray, calcMathisModel_outBitsPerSec(packetlossArray, MSS, RTT_Array), 'b.', label=r'Data points')\n",
    "plt.legend(loc='best',fontsize=14)\n",
    "plt.ylabel(\"Throughput\")\n",
    "plt.xlabel(\"Packetloss\")\n",
    "plt.axis([0, 0.05, 0, 6*1e9])\n",
    "plt.show()\n"
   ]
  },
  {
   "cell_type": "code",
   "execution_count": 13,
   "metadata": {
    "collapsed": false
   },
   "outputs": [
    {
     "name": "stdout",
     "output_type": "stream",
     "text": [
      "Beta: [ 0.00193708]\n",
      "Beta Std Error: [  7.35366461e-05]\n",
      "Beta Covariance: [[  2.84490650e-05]]\n",
      "Residual Variance: 0.000190081407904\n",
      "Inverse Condition #: 1.0\n",
      "Reason(s) for Halting:\n",
      "  Parameter convergence\n"
     ]
    }
   ],
   "source": [
    "from scipy.odr import *\n",
    "def mModelForODR(Vars, packetloss_or_x_Array):\n",
    "    MSS = 8860\n",
    "    return calcMathisModel_outBitsPerSec(packetloss_or_x_Array, MSS, RTT_Array, C=Vars[0])\n",
    "\n",
    "# scipy model\n",
    "mathis_model = Model(mModelForODR)\n",
    "# our data\n",
    "fiting_data = Data(packetlossArray, throughputArray)\n",
    "# do the actual fit\n",
    "mathisodr = ODR(fiting_data, mathis_model, beta0=[1.224], maxit=500)\n",
    "# all params:\n",
    "# mathisodr = ODR(fiting_data, mathis_model, beta0=[1.224, 1, 0.0, 2])\n",
    "odroutput = mathisodr.run()\n",
    "\n",
    "\n",
    "\n",
    "# print the output\n",
    "odroutput.pprint()\n",
    "\n",
    "# TODO: see: http://docs.scipy.org/doc/scipy/reference/odr.html\n",
    "# and http://localhost:8889/notebooks/Dropbox/Physik_Uebungsgruppe/PAP2.1/212-Zaehingkeit-Fl%C3%BCssigkeiten/TCH/212-CH.ipynb\n"
   ]
  },
  {
   "cell_type": "code",
   "execution_count": 14,
   "metadata": {
    "collapsed": false
   },
   "outputs": [
    {
     "data": {
      "image/png": "[encoded data removed]",
      "text/plain": [
       "<matplotlib.figure.Figure at 0x7febf075b1d0>"
      ]
     },
     "metadata": {},
     "output_type": "display_data"
    }
   ],
   "source": [
    "# plot with fitted function\n",
    "plt.figure(figsize=(12,9), dpi=300)\n",
    "title = \"Packetloss vs throughput with fitted Mathis formular\"\n",
    "plt.title(title,fontsize=14)\n",
    "plt.plot(packetlossArray, throughputArray, 'r.', label=r'Data points')\n",
    "plt.plot(packetlossArray, mModelForODR(odroutput.beta, packetlossArray), 'b.', label=\"Mathis model\")\n",
    "plt.legend(loc='best',fontsize=14)\n",
    "plt.ylabel(\"throughput\")\n",
    "plt.xlabel(\"packet loss\")\n",
    "plt.axis([0, 0.05, 0, 6*1e9])\n",
    "plt.show()"
   ]
  },
  {
   "cell_type": "code",
   "execution_count": 16,
   "metadata": {
    "collapsed": false
   },
   "outputs": [],
   "source": [
    "dataSetList_CERN_to_RAL\n",
    "test = pd.DataFrame.from_dict(dataSetList_CERN_to_RAL)"
   ]
  },
  {
   "cell_type": "code",
   "execution_count": 29,
   "metadata": {
    "collapsed": false
   },
   "outputs": [
    {
     "name": "stderr",
     "output_type": "stream",
     "text": [
      "/share/home/ivukotic/anaconda3/envs/ipykernel_py2/lib/python2.7/site-packages/ipykernel/__main__.py:1: FutureWarning: sort(columns=....) is deprecated, use sort_values(by=.....)\n",
      "  if __name__ == '__main__':\n"
     ]
    }
   ],
   "source": [
    "test2 = test.sort(['timestamp'], ascending=[0])"
   ]
  },
  {
   "cell_type": "code",
   "execution_count": null,
   "metadata": {
    "collapsed": true
   },
   "outputs": [],
   "source": []
  }
 ],
 "metadata": {
  "kernelspec": {
   "display_name": "Python (ipykernel_py2)",
   "language": "python",
   "name": "ipykernel_py2"
  },
  "language_info": {
   "codemirror_mode": {
    "name": "ipython",
    "version": 2
   },
   "file_extension": ".py",
   "mimetype": "text/x-python",
   "name": "python",
   "nbconvert_exporter": "python",
   "pygments_lexer": "ipython2",
   "version": "2.7.11"
  }
 },
 "nbformat": 4,
 "nbformat_minor": 0
}
