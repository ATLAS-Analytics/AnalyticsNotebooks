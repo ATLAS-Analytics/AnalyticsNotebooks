{
 "cells": [
  {
   "cell_type": "code",
   "execution_count": 1,
   "metadata": {
    "collapsed": true
   },
   "outputs": [],
   "source": [
    "%matplotlib inline\n",
    "\n",
    "# DataFrame\n",
    "import pandas as pd\n",
    "\n",
    "# Elasticsearch\n",
    "from elasticsearch import Elasticsearch, helpers\n",
    "\n",
    "# datetime\n",
    "from datetime import datetime\n",
    "\n",
    "# isnan()\n",
    "import math\n",
    "\n",
    "# plot\n",
    "import numpy as np\n",
    "import matplotlib.pyplot as plt\n",
    "import matplotlib as mpl"
   ]
  },
  {
   "cell_type": "code",
   "execution_count": 2,
   "metadata": {
    "collapsed": true
   },
   "outputs": [],
   "source": [
    "# this is just to make plots look nice\n",
    "mpl.rc('text', usetex = False)\n",
    "mpl.rc('font', family = 'serif')\n",
    "figsize = 12\n",
    "s = {\n",
    " u'axes.edgecolor': u'#333333',\n",
    " u'axes.facecolor': u'#eeeeee',\n",
    " u'axes.grid': True,\n",
    " u'axes.labelsize': u'large',\n",
    " u'axes.labelcolor': u'#333333',\n",
    " u'axes.titlesize': u'x-large',\n",
    " u'examples.directory': u'',\n",
    " u'legend.fancybox': True,\n",
    " u'lines.linewidth': 2.0,\n",
    " u'patch.edgecolor': u'#eeeeee',\n",
    " u'patch.linewidth': 0.5,\n",
    " u'figure.figsize':(10,7)}\n",
    "mpl.rcParams.update(s)"
   ]
  },
  {
   "cell_type": "code",
   "execution_count": 3,
   "metadata": {
    "collapsed": true
   },
   "outputs": [],
   "source": [
    "raw_data_pool = {}\n",
    "\n",
    "def make_sure(src_site, dest_site):\n",
    "    if src_site not in raw_data_pool:\n",
    "        raw_data_pool[src_site] = {}\n",
    "    if dest_site not in raw_data_pool[src_site]:\n",
    "        raw_data_pool[src_site][dest_site] = pd.DataFrame()\n",
    "\n",
    "def put_data(src_site, dest_site, timestamp_epoch, column_type, value):\n",
    "    make_sure(src_site, dest_site)\n",
    "    raw_data_pool[src_site][dest_site].set_value(timestamp_epoch, column_type, value)"
   ]
  },
  {
   "cell_type": "code",
   "execution_count": 4,
   "metadata": {
    "collapsed": true
   },
   "outputs": [],
   "source": [
    "es = Elasticsearch(['atlas-kibana.mwt2.org:9200'], timeout=6000)"
   ]
  },
  {
   "cell_type": "code",
   "execution_count": 6,
   "metadata": {
    "collapsed": false
   },
   "outputs": [
    {
     "name": "stdout",
     "output_type": "stream",
     "text": [
      "{'fielddata_fields': ['timestamp'], 'query': {'filtered': {'filter': {'bool': {'must': [{'term': {'srcSite': 'source_site'}}, {'term': {'destSite': 'destination_site'}}, {'range': {'timestamp': {'lt': '2016-06-01', 'gte': '2016-01-01'}}}]}}, 'query': {'match_all': {}}}}}\n",
      "network_weather_2-*\n"
     ]
    }
   ],
   "source": [
    "src_site = \"source_site\"\n",
    "dest_site = \"destination_site\"\n",
    "\n",
    "timestamp = { 'gte': '2016-01-01', 'lt': '2016-06-01' }\n",
    "\n",
    "my_query = {}\n",
    "my_query['query'] = {}\n",
    "my_query['query']['filtered'] = {}\n",
    "my_query['query']['filtered']['query'] = { \"match_all\": {} }\n",
    "my_query['query']['filtered']['filter'] = {}\n",
    "my_query['query']['filtered']['filter']['bool'] = {}\n",
    "my_query['query']['filtered']['filter']['bool']['must'] = []\n",
    "my_query['query']['filtered']['filter']['bool']['must'].append({ 'term': { 'srcSite': src_site } })\n",
    "my_query['query']['filtered']['filter']['bool']['must'].append({ 'term': { 'destSite': dest_site } })\n",
    "my_query['query']['filtered']['filter']['bool']['must'].append({ 'range': { 'timestamp': timestamp } })\n",
    "my_query['fielddata_fields'] = [ 'timestamp' ]\n",
    "\n",
    "print(my_query)\n",
    "\n",
    "my_index = \"network_weather_2-*\"\n",
    "\n",
    "print(my_index)"
   ]
  },
  {
   "cell_type": "code",
   "execution_count": 5,
   "metadata": {
    "collapsed": false
   },
   "outputs": [
    {
     "name": "stdout",
     "output_type": "stream",
     "text": [
      "Successfully defined the collect_and_clean(src_site, dest_site) function\n"
     ]
    }
   ],
   "source": [
    "def collect_and_clean(src_site, dest_site):\n",
    "    \n",
    "    # Set the source/destination pair\n",
    "    my_query['query']['filtered']['filter']['bool']['must'][0]['term']['srcSite'] = src_site\n",
    "    my_query['query']['filtered']['filter']['bool']['must'][1]['term']['destSite'] = dest_site\n",
    "    print(my_query)\n",
    "    print()\n",
    "    \n",
    "    # Collect latency raw data\n",
    "    my_type = 'latency'\n",
    "    scroll = list(helpers.scan(client=es, query=my_query, index=my_index, doc_type=my_type, request_timeout=6000))\n",
    "    count = 0\n",
    "    for result in scroll:\n",
    "        count += 1\n",
    "        timestamp_epoch = result['fields']['timestamp'][0]\n",
    "        put_data(src_site, dest_site, timestamp_epoch, 'iso_8601', result['_source']['timestamp'])\n",
    "        put_data(src_site, dest_site, timestamp_epoch, 'delay_median', result['_source']['delay_median'])\n",
    "        put_data(src_site, dest_site, timestamp_epoch, 'delay_mean', result['_source']['delay_mean'])\n",
    "        put_data(src_site, dest_site, timestamp_epoch, 'delay_sd', result['_source']['delay_sd'])\n",
    "    print('Number of raw records of {} is {}'.format(my_type, count))\n",
    "    \n",
    "    # Collect packet_loss_rate raw data\n",
    "    my_type = 'packet_loss_rate'\n",
    "    scroll = list(helpers.scan(client=es, query=my_query, index=my_index, doc_type=my_type, request_timeout=6000))\n",
    "    count = 0\n",
    "    for result in scroll:\n",
    "        count += 1\n",
    "        timestamp_epoch = result['fields']['timestamp'][0]\n",
    "        put_data(src_site, dest_site, timestamp_epoch, 'iso_8601', result['_source']['timestamp'])\n",
    "        put_data(src_site, dest_site, timestamp_epoch, 'packet_loss', result['_source']['packet_loss'])\n",
    "    print('Number of raw records of {} is {}'.format(my_type, count))\n",
    "    \n",
    "    # Collect throughput raw data\n",
    "    my_type = 'throughput'\n",
    "    scroll = list(helpers.scan(client=es, query=my_query, index=my_index, doc_type=my_type, request_timeout=6000))\n",
    "    count = 0\n",
    "    for result in scroll:\n",
    "        count += 1\n",
    "        timestamp_epoch = result['fields']['timestamp'][0]\n",
    "        put_data(src_site, dest_site, timestamp_epoch, 'iso_8601', result['_source']['timestamp'])\n",
    "        put_data(src_site, dest_site, timestamp_epoch, 'throughput', result['_source']['throughput'])\n",
    "    print('Number of raw records of {} is {}'.format(my_type, count))\n",
    "    \n",
    "    # View statistics of raw_data_pool (already de-duplicated)\n",
    "    print()\n",
    "    print('De-duplication result:')\n",
    "    print(raw_data_pool[src_site][dest_site].count(axis='index'))\n",
    "    \n",
    "    # Sort in-place\n",
    "    raw_data_pool[src_site][dest_site].sort_index(inplace=True)\n",
    "    \n",
    "    # Store this DataFrame to disk file\n",
    "    raw_data_pool[src_site][dest_site].to_pickle('My_data/My_data_from_{}_to_{}_sorted.pkl'.format(src_site, dest_site))\n",
    "    \n",
    "    # How to get this DataFrame\n",
    "    # raw_data_pool[src_site][dest_site]\n",
    "\n",
    "\n",
    "print('Successfully defined the collect_and_clean(src_site, dest_site) function')"
   ]
  },
  {
   "cell_type": "code",
   "execution_count": null,
   "metadata": {
    "collapsed": true
   },
   "outputs": [],
   "source": []
  }
 ],
 "metadata": {
  "kernelspec": {
   "display_name": "Python (ipykernel_py2)",
   "language": "python",
   "name": "ipykernel_py2"
  },
  "language_info": {
   "codemirror_mode": {
    "name": "ipython",
    "version": 2
   },
   "file_extension": ".py",
   "mimetype": "text/x-python",
   "name": "python",
   "nbconvert_exporter": "python",
   "pygments_lexer": "ipython2",
   "version": "2.7.11"
  }
 },
 "nbformat": 4,
 "nbformat_minor": 0
}
