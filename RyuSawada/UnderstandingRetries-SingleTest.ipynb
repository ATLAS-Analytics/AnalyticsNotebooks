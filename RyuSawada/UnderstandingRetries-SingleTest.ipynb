{
 "cells": [
  {
   "cell_type": "markdown",
   "metadata": {},
   "source": [
    "# Understanding retries\n",
    "Here description of what this does."
   ]
  },
  {
   "cell_type": "code",
   "execution_count": 1,
   "metadata": {
    "collapsed": true
   },
   "outputs": [],
   "source": [
    "import datetime\n",
    "from elasticsearch import Elasticsearch, helpers\n",
    "from elasticsearch.helpers import scan\n",
    "\n",
    "import numpy as np\n",
    "import pandas as pd\n",
    "\n",
    "es = Elasticsearch([{'host':'atlas-kibana.mwt2.org', 'port':9200}],timeout=60)\n"
   ]
  },
  {
   "cell_type": "code",
   "execution_count": null,
   "metadata": {},
   "outputs": [],
   "source": []
  },
  {
   "cell_type": "markdown",
   "metadata": {},
   "source": [
    "### select period"
   ]
  },
  {
   "cell_type": "code",
   "execution_count": 2,
   "metadata": {},
   "outputs": [],
   "source": [
    "start_date = datetime.datetime(2017, 8, 10)\n",
    "curre_date = datetime.datetime(2017, 8, 20, 23, 59, 59)\n",
    "#curre_date = datetime.datetime(2017, 8, 28, 23, 59, 59)\n",
    "#curre_date = datetime.datetime.utcnow()\n",
    "days_of_data = (curre_date - start_date).days"
   ]
  },
  {
   "cell_type": "markdown",
   "metadata": {},
   "source": [
    "### selecting indices to scan"
   ]
  },
  {
   "cell_type": "code",
   "execution_count": 3,
   "metadata": {},
   "outputs": [
    {
     "name": "stdout",
     "output_type": "stream",
     "text": [
      "jobs_archive_2017-08-10,jobs_archive_2017-08-11,jobs_archive_2017-08-12,jobs_archive_2017-08-13,jobs_archive_2017-08-14,jobs_archive_2017-08-15,jobs_archive_2017-08-16,jobs_archive_2017-08-17,jobs_archive_2017-08-18,jobs_archive_2017-08-19,jobs_archive_2017-08-20\n"
     ]
    }
   ],
   "source": [
    "# get job archive indices\n",
    "indices = es.cat.indices(index=\"jobs_archive_20*\", h=\"index\", request_timeout=600).split('\\n')\n",
    "indices = sorted(indices)\n",
    "indices = [x for x in indices if x != '']\n",
    "#for i in indices:\n",
    "#    print(i)\n",
    "\n",
    "selected_indices=[] \n",
    "for d in range(days_of_data+1):\n",
    "    td = start_date + datetime.timedelta(d)\n",
    "    ind = 'jobs_archive_'+td.strftime('%Y-%m-%d')\n",
    "    if ind in indices:\n",
    "        selected_indices.append(ind)\n",
    "\n",
    "job_indices = ','.join(selected_indices)\n",
    "print(job_indices)"
   ]
  },
  {
   "cell_type": "markdown",
   "metadata": {},
   "source": [
    "### running the scan"
   ]
  },
  {
   "cell_type": "code",
   "execution_count": 4,
   "metadata": {
    "scrolled": true
   },
   "outputs": [
    {
     "name": "stdout",
     "output_type": "stream",
     "text": [
      "3557118025\n",
      "[]\n"
     ]
    }
   ],
   "source": [
    "job_query = {\n",
    "    \"size\": 0,\n",
    "    \"_source\": [ \"corecount\", \"exeerrorcode\", \"pandaid\", \"failedattempt\", \"child_ids\", \"wall_time\", \"jobstatus\", \"processingtype\" ],\n",
    "    'query':{\n",
    "#        \"match_all\": {}\n",
    "             'bool':{\n",
    "                    'must':[                \n",
    "                          { \"term\": {\"pandaid\": 3557118025 } },\n",
    "#                         { \"term\": {\"pandaid\": 3556781963 } },\n",
    "#                          { \"term\": {\"pandaid\": 3556868874 } },\n",
    "#                         { \"term\": {\"prodsourcelabel\": \"managed\" } }\n",
    "                     ],\n",
    "#                    'should':[\n",
    "                       # { \"term\": {\"prodsourcelabel\": \"rc_test\" } },\n",
    "                       # { \"term\": {\"prodsourcelabel\": \"prod_test\" } },\n",
    "                       # { \"term\": {\"prodsourcelabel\": \"managed\" } }\n",
    "#                        { \"term\": {\"jobstatus\": \"finished\" } },\n",
    "#                        { \"term\": {\"jobstatus\": \"failed\" } },\n",
    "#                    ]\n",
    "             }\n",
    "    }\n",
    "                \n",
    "}\n",
    "\n",
    "scroll = scan(client=es, index=job_indices, query=job_query, scroll='50m', timeout=\"50m\", size=10000)\n",
    "\n",
    "count = 0\n",
    "for res in scroll:\n",
    "    count += 1\n",
    "    \n",
    "    #print(res)\n",
    "    #if count>10000: break\n",
    "    \n",
    "    r = res['_source']\n",
    "    \n",
    "    cores = r['corecount']\n",
    "    errorcode = r['exeerrorcode']\n",
    "    pandaid = r['pandaid']\n",
    "    failedattempt = r['failedattempt']\n",
    "    if 'child_ids' in r:\n",
    "        child_ids = r['child_ids']\n",
    "    else:\n",
    "        child_ids=[]\n",
    "    wall_time = r['wall_time']\n",
    "    jobstatus = r['jobstatus']\n",
    "    processingtype = r['processingtype']\n",
    "    \n",
    "    print(pandaid)\n",
    "    print(child_ids)"
   ]
  },
  {
   "cell_type": "markdown",
   "metadata": {},
   "source": [
    "### Debug"
   ]
  },
  {
   "cell_type": "markdown",
   "metadata": {
    "collapsed": true
   },
   "source": [
    "### Find initial jobs"
   ]
  },
  {
   "cell_type": "markdown",
   "metadata": {},
   "source": [
    "### Make a jobgroup from starting from an initial job"
   ]
  },
  {
   "cell_type": "markdown",
   "metadata": {},
   "source": [
    "### Print result"
   ]
  },
  {
   "cell_type": "code",
   "execution_count": null,
   "metadata": {
    "collapsed": true
   },
   "outputs": [],
   "source": []
  }
 ],
 "metadata": {
  "kernelspec": {
   "display_name": "Python 3",
   "language": "python",
   "name": "python3"
  },
  "language_info": {
   "codemirror_mode": {
    "name": "ipython",
    "version": 3
   },
   "file_extension": ".py",
   "mimetype": "text/x-python",
   "name": "python",
   "nbconvert_exporter": "python",
   "pygments_lexer": "ipython3",
   "version": "3.4.5"
  }
 },
 "nbformat": 4,
 "nbformat_minor": 1
}
