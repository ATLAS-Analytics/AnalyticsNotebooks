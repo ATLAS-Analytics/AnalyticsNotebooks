{
 "cells": [
  {
   "cell_type": "code",
   "execution_count": 19,
   "metadata": {
    "collapsed": true
   },
   "outputs": [],
   "source": [
    "%matplotlib inline\n",
    "from elasticsearch import Elasticsearch\n",
    "from elasticsearch.helpers import scan\n",
    "from datetime import datetime\n",
    "import math\n",
    "import matplotlib.pyplot as plt\n",
    "import matplotlib.mlab as mlab\n",
    "from matplotlib import gridspec\n",
    "from datetime import datetime\n",
    "import numpy as np\n",
    "import pandas as pd\n",
    "\n",
    "es = Elasticsearch(['atlas-kibana.mwt2.org:9200'],timeout=60)\n",
    "my_index = \"ps_packetloss-2018.*\"\n",
    "\n",
    "my_query = {}"
   ]
  },
  {
   "cell_type": "code",
   "execution_count": 9,
   "metadata": {},
   "outputs": [
    {
     "name": "stdout",
     "output_type": "stream",
     "text": [
      "b'{\\n  \"name\" : \"es-head02-master\",\\n  \"cluster_name\" : \"atlas\",\\n  \"cluster_uuid\" : \"HvlJZuzTRReL9Gq1KVSIHQ\",\\n  \"version\" : {\\n    \"number\" : \"5.6.2\",\\n    \"build_hash\" : \"57e20f3\",\\n    \"build_date\" : \"2017-09-23T13:16:45.703Z\",\\n    \"build_snapshot\" : false,\\n    \"lucene_version\" : \"6.6.1\"\\n  },\\n  \"tagline\" : \"You Know, for Search\"\\n}\\n'\n"
     ]
    }
   ],
   "source": [
    "\n",
    "import requests\n",
    "res = requests.get('http://atlas-kibana.mwt2.org:9200')\n",
    "print(res.content)"
   ]
  },
  {
   "cell_type": "code",
   "execution_count": 21,
   "metadata": {
    "collapsed": true
   },
   "outputs": [],
   "source": [
    "# CHANGE SO IT RETREIVES ONLY UNIQUE hashes.\n",
    "\n",
    "# sS='UC'\n",
    "# srcSiteOWDServer = \"192.170.227.160\"\n",
    "# srcSiteThroughputServer = \"192.170.227.162\"\n",
    "\n",
    "#sS='CERN-PROD'\n",
    "#srcSiteOWDServer = \"128.142.223.247\"\n",
    "#srcSiteThroughputServer = \"128.142.223.246\"\n",
    "\n",
    "# dS='IU'\n",
    "# destSiteOWDServer = \"149.165.225.223\"\n",
    "# destSiteThroughputServer = \"149.165.225.224\"\n",
    " \n",
    "src = \"144.92.180.75\"\n",
    "dest = \"150.244.246.85\"\n",
    "\n",
    "\n",
    "# dS='ICCN'\n",
    "# destSiteOWDServer = \"72.36.96.4\"\n",
    "# destSiteThroughputServer = \"72.36.126.132\"\n",
    "\n",
    "#dS='pic'\n",
    "#destSiteOWDServer = \"193.109.172.188\"\n",
    "#destSiteThroughputServer = \"193.109.172.187\"\n"
   ]
  },
  {
   "cell_type": "code",
   "execution_count": 24,
   "metadata": {
    "collapsed": true
   },
   "outputs": [],
   "source": [
    "start_date = '20180115T000000Z'\n",
    "end_date = '20180215T002059Z'\n",
    "\n"
   ]
  },
  {
   "cell_type": "code",
   "execution_count": 25,
   "metadata": {},
   "outputs": [
    {
     "name": "stdout",
     "output_type": "stream",
     "text": [
      "{'_shards': {'total': 375, 'failed': 0, 'skipped': 215, 'successful': 375}, 'hits': {'total': 56307919, 'max_score': 1.0, 'hits': [{'_index': 'ps_packetloss-2018.1.15', '_source': {'packet_loss': 0.0, 'timestamp': 1516004458000, 'src': '2600:900:6:1102:7a2b:cbff:fe68:a68c', 'dest': '2001:638:700:1062::1:1e'}, '_id': 'AWFnLat5FrY0M2lxN_Jk', '_type': 'doc', '_score': 1.0}, {'_index': 'ps_packetloss-2018.1.15', '_source': {'packet_loss': 0.0, 'timestamp': 1515999799000, 'src': '2600:900:6:1102:7a2b:cbff:fe68:a68c', 'dest': '2001:638:700:1062::1:1e'}, '_id': 'AWFnLat5FrY0M2lxN_Jn', '_type': 'doc', '_score': 1.0}, {'_index': 'ps_packetloss-2018.1.15', '_source': {'packet_loss': 0.0, 'timestamp': 1516004153000, 'src': '2600:900:6:1102:7a2b:cbff:fe68:a68c', 'dest': '2001:638:700:1062::1:1e'}, '_id': 'AWFnLat5FrY0M2lxN_Jp', '_type': 'doc', '_score': 1.0}, {'_index': 'ps_packetloss-2018.1.15', '_source': {'packet_loss': 0.0, 'timestamp': 1516002936000, 'src': '2600:900:6:1102:7a2b:cbff:fe68:a68c', 'dest': '2001:638:700:1062::1:1e'}, '_id': 'AWFnLat5FrY0M2lxN_Jr', '_type': 'doc', '_score': 1.0}, {'_index': 'ps_packetloss-2018.1.15', '_source': {'packet_loss': 0.0, 'timestamp': 1515999138000, 'src': '2600:900:6:1102:7a2b:cbff:fe68:a68c', 'dest': '2001:638:700:1062::1:1e'}, '_id': 'AWFnLat5FrY0M2lxN_Jw', '_type': 'doc', '_score': 1.0}, {'_index': 'ps_packetloss-2018.1.15', '_source': {'packet_loss': 0.0, 'timestamp': 1516001490000, 'src': '2600:900:6:1102:7a2b:cbff:fe68:a68c', 'dest': '2001:638:700:1062::1:1e'}, '_id': 'AWFnLat5FrY0M2lxN_Jz', '_type': 'doc', '_score': 1.0}, {'_index': 'ps_packetloss-2018.1.15', '_source': {'packet_loss': 0.0, 'timestamp': 1516002451000, 'src': '2600:900:6:1102:7a2b:cbff:fe68:a68c', 'dest': '2001:638:700:1062::1:1e'}, '_id': 'AWFnLat5FrY0M2lxN_J2', '_type': 'doc', '_score': 1.0}, {'_index': 'ps_packetloss-2018.1.15', '_source': {'packet_loss': 0.0, 'timestamp': 1516003487000, 'src': '2600:900:6:1102:7a2b:cbff:fe68:a68c', 'dest': '2001:638:700:1062::1:1e'}, '_id': 'AWFnLat5FrY0M2lxN_J5', '_type': 'doc', '_score': 1.0}, {'_index': 'ps_packetloss-2018.1.15', '_source': {'packet_loss': 0.0, 'timestamp': 1515999738000, 'src': '2600:900:6:1102:7a2b:cbff:fe68:a68c', 'dest': '2001:638:700:1062::1:1e'}, '_id': 'AWFnLat5FrY0M2lxN_J9', '_type': 'doc', '_score': 1.0}, {'_index': 'ps_packetloss-2018.1.15', '_source': {'packet_loss': 0.0, 'timestamp': 1516003187000, 'src': '2600:900:6:1102:7a2b:cbff:fe68:a68c', 'dest': '2001:638:700:1062::1:1e'}, '_id': 'AWFnLat5FrY0M2lxN_KD', '_type': 'doc', '_score': 1.0}]}, 'timed_out': False, 'took': 170}\n"
     ]
    }
   ],
   "source": [
    " my_query = {\n",
    "        #\"size\":1,\n",
    "        \"_source\": {\n",
    "            \"include\": ['timestamp', 'src','dest','packet_loss']\n",
    "        },\n",
    "        'query':{\n",
    "            'bool':{\n",
    "                'must':[\n",
    "                   {'range': {'timestamp': {'gte': start_date, 'lt': end_date}}},    \n",
    "  #                           {'bool':\n",
    "   #                              {'should':[\n",
    "    #                                 {'term':{'src': src}},\n",
    "     #                                {'term':{'dest': dest}},\n",
    "      #                               {'term':{'packet_loss': 1}}\n",
    "                #                ]}\n",
    "                       #      }\n",
    "                ]\n",
    "            }\n",
    "        }\n",
    "    }\n",
    "results = es.search(body=my_query, index=my_index, request_timeout=12000)\n",
    "print(results)"
   ]
  },
  {
   "cell_type": "code",
   "execution_count": null,
   "metadata": {
    "collapsed": true
   },
   "outputs": [],
   "source": []
  },
  {
   "cell_type": "code",
   "execution_count": null,
   "metadata": {
    "collapsed": true
   },
   "outputs": [],
   "source": []
  }
 ],
 "metadata": {
  "kernelspec": {
   "display_name": "Python 3",
   "language": "python",
   "name": "python3"
  },
  "language_info": {
   "codemirror_mode": {
    "name": "ipython",
    "version": 3
   },
   "file_extension": ".py",
   "mimetype": "text/x-python",
   "name": "python",
   "nbconvert_exporter": "python",
   "pygments_lexer": "ipython3",
   "version": "3.4.5"
  }
 },
 "nbformat": 4,
 "nbformat_minor": 2
}
