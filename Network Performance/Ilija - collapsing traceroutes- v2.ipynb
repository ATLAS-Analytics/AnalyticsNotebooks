{
 "cells": [
  {
   "cell_type": "markdown",
   "metadata": {
    "collapsed": true
   },
   "source": [
    "# Collapsing traceroutes\n",
    "this code\n",
    " * looks up all the unique traceroutes (according to hash).\n",
    " * prepends source site IP\n",
    " * For each IP (not first or last) make a list of all previous and following IPs (and how often it happened)\n",
    " * find all IPs that had matching lists.\n",
    " * makes list of all the IPs, make a list of IP equivalences. \n"
   ]
  },
  {
   "cell_type": "code",
   "execution_count": 1,
   "metadata": {
    "collapsed": true
   },
   "outputs": [],
   "source": [
    "%matplotlib inline\n",
    "from elasticsearch import Elasticsearch\n",
    "from elasticsearch.helpers import scan\n",
    "from datetime import datetime\n",
    "import math\n",
    "import matplotlib.pyplot as plt\n",
    "import matplotlib.mlab as mlab\n",
    "from matplotlib import gridspec\n",
    "from datetime import datetime\n",
    "import numpy as np\n",
    "import pandas as pd\n",
    "\n",
    "es = Elasticsearch(['atlas-kibana.mwt2.org:9200'],timeout=60)\n",
    "my_index = \"network_weather-2017.9.*\"\n",
    "\n",
    "my_query = {}"
   ]
  },
  {
   "cell_type": "markdown",
   "metadata": {},
   "source": [
    "##  Select your link"
   ]
  },
  {
   "cell_type": "code",
   "execution_count": 2,
   "metadata": {
    "collapsed": true
   },
   "outputs": [],
   "source": [
    "# CHANGE SO IT RETREIVES ONLY UNIQUE hashes.\n",
    "\n",
    "# sS='UC'\n",
    "# srcSiteOWDServer = \"192.170.227.160\"\n",
    "# srcSiteThroughputServer = \"192.170.227.162\"\n",
    "\n",
    "sS='CERN-PROD'\n",
    "srcSiteOWDServer = \"128.142.223.247\"\n",
    "srcSiteThroughputServer = \"128.142.223.246\"\n",
    "\n",
    "# dS='IU'\n",
    "# destSiteOWDServer = \"149.165.225.223\"\n",
    "# destSiteThroughputServer = \"149.165.225.224\"\n",
    "\n",
    "# dS='UIUC'\n",
    "# destSiteOWDServer = \"72.36.96.4\"\n",
    "# destSiteThroughputServer = \"72.36.96.9\"\n",
    "\n",
    "# dS='ICCN'\n",
    "# destSiteOWDServer = \"72.36.96.4\"\n",
    "# destSiteThroughputServer = \"72.36.126.132\"\n",
    "\n",
    "dS='pic'\n",
    "destSiteOWDServer = \"193.109.172.188\"\n",
    "destSiteThroughputServer = \"193.109.172.187\""
   ]
  },
  {
   "cell_type": "markdown",
   "metadata": {},
   "source": [
    "## Get the data from Elasticsearch, and store the record based on its type"
   ]
  },
  {
   "cell_type": "code",
   "execution_count": 10,
   "metadata": {},
   "outputs": [
    {
     "name": "stdout",
     "output_type": "stream",
     "text": [
      "10000\n"
     ]
    }
   ],
   "source": [
    "my_query = {\n",
    "    \"size\":1,\n",
    "    \"_source\": {\n",
    "        \"include\": [ 'src','dest','hops','hash' ]\n",
    "    },\n",
    "    'query':{\n",
    "        'bool':{\n",
    "            'must':[\n",
    "                {'range': {'timestamp': {'gte': '20170915T000000Z', 'lt': '20170930T000000Z'}}},\n",
    "                {'term': {'_type': 'traceroute'}},\n",
    "#                         {'bool':\n",
    "#                             {'should':[\n",
    "#                                 {'term': {'src': srcSiteOWDServer}},\n",
    "#                                 {'term': {'src': srcSiteThroughputServer}},\n",
    "#                                 {'term': {'src': destSiteOWDServer}},\n",
    "#                                 {'term': {'src': destSiteThroughputServer}}\n",
    "#                             ]}\n",
    "#                         }\n",
    "#                         ,\n",
    "#                         {'bool':\n",
    "#                             {'should':[\n",
    "#                                 {'term': {'dest': destSiteOWDServer}},\n",
    "#                                 {'term': {'dest': destSiteThroughputServer}},\n",
    "#                                 {'term': {'dest': srcSiteOWDServer}},\n",
    "#                                 {'term': {'dest': srcSiteThroughputServer}}\n",
    "#                             ]}\n",
    "#                         }\n",
    "            ]\n",
    "\n",
    "        }\n",
    "    },\n",
    "    \"aggs\": {\n",
    "        \"grouped_by_hash\": {\n",
    "          \"terms\": {  \"field\": \"hash\", \"size\":10000 }, #\n",
    "          \"aggs\": {\n",
    "              \"top_hash_hits\": {\n",
    "                  \"top_hits\": {\n",
    "                      \"sort\": [ { \"_score\": { \"order\": \"desc\" } } ],\n",
    "                      \"size\": 1\n",
    "                  }\n",
    "              }\n",
    "          }\n",
    "       }\n",
    "    }\n",
    "}\n",
    "\n",
    "results = es.search(body=my_query, index=my_index, request_timeout=12000)\n",
    "print(len(results['aggregations']['grouped_by_hash']['buckets']))\n",
    "\n",
    "buckets=results['aggregations']['grouped_by_hash']['buckets']\n",
    "results=[]\n",
    "# c=0\n",
    "for b in buckets:\n",
    "#     if c==0: \n",
    "#         print(b)\n",
    "#         c+=1\n",
    "    if b['doc_count']>20: # we don't want very short jumps\n",
    "        results.append(b['top_hash_hits']['hits']['hits'][0])"
   ]
  },
  {
   "cell_type": "code",
   "execution_count": 9,
   "metadata": {},
   "outputs": [
    {
     "name": "stdout",
     "output_type": "stream",
     "text": [
      "{'_score': 2.0, '_source': {'destVO': 'ATLAS', 'src': '72.36.96.15', 'srcProduction': False, 'MA': '72.36.96.15', 'destSite': 'Nebraska', 'n_hops': 8, 'max_rtt': 30.422, 'srcSite': 'MWT2', 'destProduction': True, 'hops': ['72.36.96.1', '130.126.1.109', '72.36.80.30', '146.57.252.194', '146.57.252.222', '146.57.252.225', '146.57.253.217', '129.93.5.165'], 'dest': '129.93.5.165', 'src_host': 'mwt2-ps03.campuscluster.illinois.edu', 'srcVO': 'ATLAS', 'hash': 2705678586548672572, 'timestamp': 1505433635000, 'ipv6': False, 'rtts': [1.003, 0.201, 11.575999999999999, 11.67, 15.879000000000001, 30.422, 25.311, 24.854999999999997], 'dest_host': 'perfsonar.unl.edu', 'ttls': [1, 2, 3, 4, 5, 6, 7, 8]}, '_index': 'network_weather-2017.9.15', '_type': 'traceroute', '_id': 'AV6C1nbJbY2Pr9ADWBSu'}\n",
      "uniquePaths: 10\n",
      "AllIPs: 49\n"
     ]
    }
   ],
   "source": [
    "AllIPs=set()\n",
    "uniquePaths={}\n",
    "count = 0\n",
    "for res in results:\n",
    "    if count<1: print(res)\n",
    "    count += 1\n",
    "    # for data before Oct. 15 2016\n",
    "    s=res['_source']['src']\n",
    "    d=res['_source']['dest']\n",
    "    hops=[s]\n",
    "    hops += res['_source']['hops']\n",
    "    h=res['_source']['hash']\n",
    "    if h not in uniquePaths: \n",
    "        if hops[-1]==None: hops[-1]=d\n",
    "        uniquePaths[h] = hops\n",
    "        for h in hops:\n",
    "            if h!=None:\n",
    "                AllIPs.add(h)\n",
    "print('uniquePaths:',len(uniquePaths))\n",
    "print('AllIPs:', len(AllIPs))"
   ]
  },
  {
   "cell_type": "markdown",
   "metadata": {},
   "source": [
    "### Look for one off differences"
   ]
  },
  {
   "cell_type": "code",
   "execution_count": null,
   "metadata": {
    "collapsed": true
   },
   "outputs": [],
   "source": [
    "AllSegs={}\n",
    "for uP in uniquePaths.values():\n",
    "    l=len(uP)\n",
    "    #print(uP, l)\n",
    "    for si in range(1,l-1):\n",
    "        if uP[si]==None: continue\n",
    "        if uP[si] not in AllSegs: AllSegs[uP[si]]=set()\n",
    "        AllSegs[uP[si]].add(uP[si-1])\n",
    "        AllSegs[uP[si]].add(uP[si+1])\n",
    "print(\"non-edge devices:\", len(AllSegs))"
   ]
  },
  {
   "cell_type": "code",
   "execution_count": null,
   "metadata": {
    "collapsed": true
   },
   "outputs": [],
   "source": [
    "simpleIPs=set()\n",
    "toLook=0\n",
    "for s in AllSegs:\n",
    "    if len(AllSegs[s])<3:\n",
    "        simpleIPs.add(s)\n",
    "        simpleIPs=simpleIPs.union(AllSegs[s])\n",
    "    else: toLook+=1\n",
    "    if len(AllSegs[s])>2: \n",
    "        print(s, AllSegs[s])\n",
    "print ('simple:',len(simpleIPs) , 'toLook:', toLook)"
   ]
  },
  {
   "cell_type": "code",
   "execution_count": null,
   "metadata": {
    "collapsed": true
   },
   "outputs": [],
   "source": [
    "#print(EquivalentDevices)\n",
    "groups=[]\n",
    "for s in EquivalentDevices:\n",
    "    for d in EquivalentDevices[s]:\n",
    "        #print (s,d,EquivalentDevices[s][d])\n",
    "        groups.append(set(EquivalentDevices[s][d]))"
   ]
  },
  {
   "cell_type": "code",
   "execution_count": null,
   "metadata": {
    "collapsed": true
   },
   "outputs": [],
   "source": [
    "print(groups)"
   ]
  },
  {
   "cell_type": "code",
   "execution_count": null,
   "metadata": {
    "collapsed": true
   },
   "outputs": [],
   "source": [
    "l=len(groups)\n",
    "for i in range(l):\n",
    "    for ip in groups[i]:\n",
    "        for j in range(i+1,l):\n",
    "            if ip in groups[j]:\n",
    "                groups[i]=groups[i].union(groups[j])\n",
    "                groups[j]=set()\n",
    "                continue"
   ]
  },
  {
   "cell_type": "code",
   "execution_count": null,
   "metadata": {
    "collapsed": true
   },
   "outputs": [],
   "source": [
    "for g in groups:\n",
    "    if len(g):\n",
    "        print(g)"
   ]
  },
  {
   "cell_type": "code",
   "execution_count": null,
   "metadata": {
    "collapsed": true
   },
   "outputs": [],
   "source": []
  },
  {
   "cell_type": "markdown",
   "metadata": {},
   "source": [
    "\n"
   ]
  }
 ],
 "metadata": {
  "kernelspec": {
   "display_name": "Python 3",
   "language": "python",
   "name": "python3"
  },
  "language_info": {
   "codemirror_mode": {
    "name": "ipython",
    "version": 3
   },
   "file_extension": ".py",
   "mimetype": "text/x-python",
   "name": "python",
   "nbconvert_exporter": "python",
   "pygments_lexer": "ipython3",
   "version": "3.4.5"
  }
 },
 "nbformat": 4,
 "nbformat_minor": 1
}
