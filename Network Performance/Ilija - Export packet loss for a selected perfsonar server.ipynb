{
 "cells": [
  {
   "cell_type": "markdown",
   "metadata": {},
   "source": [
    "## Export packet loss for a selected perfsonar server"
   ]
  },
  {
   "cell_type": "code",
   "execution_count": 1,
   "metadata": {},
   "outputs": [],
   "source": [
    "%matplotlib inline\n",
    "from elasticsearch import Elasticsearch\n",
    "from elasticsearch.helpers import scan\n",
    "from datetime import datetime\n",
    "import math\n",
    "import matplotlib.pyplot as plt\n",
    "import matplotlib.mlab as mlab\n",
    "from matplotlib import gridspec\n",
    "from datetime import datetime\n",
    "import numpy as np\n",
    "import pandas as pd\n",
    "\n",
    "es = Elasticsearch(['atlas-kibana.mwt2.org:9200'],timeout=60)"
   ]
  },
  {
   "cell_type": "markdown",
   "metadata": {},
   "source": [
    "##  Select your link"
   ]
  },
  {
   "cell_type": "code",
   "execution_count": 2,
   "metadata": {},
   "outputs": [],
   "source": [
    "site='UC'\n",
    "packetLossServer = \"192.170.227.160\"\n",
    "\n",
    "# site='IU'\n",
    "# packetLossServer = \"149.165.225.223\"\n",
    "\n",
    "# site='UIUC'\n",
    "# packetLossServer = \"72.36.96.4\"\n",
    "\n",
    "# site='ICCN'\n",
    "# packetLossServer = \"72.36.96.4\""
   ]
  },
  {
   "cell_type": "markdown",
   "metadata": {},
   "source": [
    "## Get the data from Elasticsearch, and store the record based on its type"
   ]
  },
  {
   "cell_type": "code",
   "execution_count": 3,
   "metadata": {},
   "outputs": [],
   "source": [
    "my_query = {\n",
    "    \"_source\": [\"dest\",\"timestamp\",\"packet_loss\"],\n",
    "    'query':{\n",
    "            'bool':{\n",
    "                   'must':[\n",
    "                       {'term': {'_type': 'packet_loss_rate'}},\n",
    "                       {'range': {'timestamp': {'gte': '20170101T000000Z', 'lt': '20170401T000000Z'}}},\n",
    "                       {'term': {'src': packetLossServer}}\n",
    "                   ]\n",
    "            }\n",
    "    }\n",
    "}\n",
    "\n",
    "scroll = scan(client=es, index=\"network_weather-2017*\", query=my_query)\n"
   ]
  },
  {
   "cell_type": "code",
   "execution_count": 4,
   "metadata": {},
   "outputs": [
    {
     "name": "stdout",
     "output_type": "stream",
     "text": [
      "100000\n",
      "200000\n",
      "300000\n",
      "400000\n",
      "500000\n",
      "600000\n",
      "700000\n",
      "800000\n",
      "900000\n",
      "1000000\n",
      "1100000\n",
      "1200000\n",
      "1300000\n",
      "1400000\n",
      "1497006\n"
     ]
    }
   ],
   "source": [
    "epoch = datetime.utcfromtimestamp(0)\n",
    "count = 0\n",
    "dest=[]\n",
    "pl=[]\n",
    "ts=[]\n",
    "for res in scroll:\n",
    "    count += 1\n",
    "    dt=datetime.strptime(res['_source']['timestamp'], '%Y%m%dT%H%M%S+0000')\n",
    "    ts.append( int((dt - epoch).total_seconds()) )\n",
    "    dest.append(res['_source']['dest'])\n",
    "    pl.append(res['_source']['packet_loss'])\n",
    "#     if count<2: print(res, ts)\n",
    "    if not count%100000: print(count)\n",
    "print(count)\n",
    "\n",
    "data = pd.DataFrame({'dest':dest,'packet_loss':pl,'timestamp':ts})"
   ]
  },
  {
   "cell_type": "markdown",
   "metadata": {},
   "source": [
    "### saving in cvs files"
   ]
  },
  {
   "cell_type": "code",
   "execution_count": 5,
   "metadata": {},
   "outputs": [],
   "source": [
    "#data"
   ]
  },
  {
   "cell_type": "code",
   "execution_count": 6,
   "metadata": {},
   "outputs": [
    {
     "name": "stdout",
     "output_type": "stream",
     "text": [
      "<class 'pandas.core.frame.DataFrame'>\n",
      "RangeIndex: 1497006 entries, 0 to 1497005\n",
      "Data columns (total 3 columns):\n",
      "dest           1497006 non-null object\n",
      "packet_loss    1497006 non-null float64\n",
      "timestamp      1497006 non-null int64\n",
      "dtypes: float64(1), int64(1), object(1)\n",
      "memory usage: 34.3+ MB\n"
     ]
    }
   ],
   "source": [
    "data.info()"
   ]
  },
  {
   "cell_type": "code",
   "execution_count": 7,
   "metadata": {
    "scrolled": false
   },
   "outputs": [],
   "source": [
    "data.sort_values(by='timestamp',inplace=True)    # Sort the records based on time\n",
    "data.to_csv(\"Data/PacketLoss\" + '_' + packetLossServer +\".csv\")"
   ]
  }
 ],
 "metadata": {
  "kernelspec": {
   "display_name": "Python 3",
   "language": "python",
   "name": "python3"
  },
  "language_info": {
   "codemirror_mode": {
    "name": "ipython",
    "version": 3
   },
   "file_extension": ".py",
   "mimetype": "text/x-python",
   "name": "python",
   "nbconvert_exporter": "python",
   "pygments_lexer": "ipython3",
   "version": "3.4.5"
  }
 },
 "nbformat": 4,
 "nbformat_minor": 1
}
