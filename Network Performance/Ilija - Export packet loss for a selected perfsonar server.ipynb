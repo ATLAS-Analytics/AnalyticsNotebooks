{
 "cells": [
  {
   "cell_type": "markdown",
   "metadata": {},
   "source": [
    "## Export packet loss for a selected perfsonar server"
   ]
  },
  {
   "cell_type": "code",
   "execution_count": 1,
   "metadata": {},
   "outputs": [],
   "source": [
    "%matplotlib inline\n",
    "from elasticsearch import Elasticsearch\n",
    "from elasticsearch.helpers import scan\n",
    "from datetime import datetime\n",
    "import math\n",
    "import matplotlib.pyplot as plt\n",
    "import matplotlib.mlab as mlab\n",
    "from matplotlib import gridspec\n",
    "from datetime import datetime\n",
    "import numpy as np\n",
    "import pandas as pd\n",
    "\n",
    "es = Elasticsearch(['atlas-kibana.mwt2.org:9200'],timeout=60)"
   ]
  },
  {
   "cell_type": "markdown",
   "metadata": {},
   "source": [
    "##  Select your link"
   ]
  },
  {
   "cell_type": "code",
   "execution_count": 2,
   "metadata": {},
   "outputs": [],
   "source": [
    "site='UC'\n",
    "packetLossServer = \"192.170.227.160\"\n",
    "\n",
    "# site='IU'\n",
    "# packetLossServer = \"149.165.225.223\"\n",
    "\n",
    "# site='UIUC'\n",
    "# packetLossServer = \"72.36.96.4\"\n",
    "\n",
    "# site='ICCN'\n",
    "# packetLossServer = \"72.36.96.4\""
   ]
  },
  {
   "cell_type": "markdown",
   "metadata": {},
   "source": [
    "## Get the data from Elasticsearch, and store the record based on its type"
   ]
  },
  {
   "cell_type": "code",
   "execution_count": 3,
   "metadata": {},
   "outputs": [],
   "source": [
    "my_query = {\n",
    "    \"_source\": [\"dest\",\"timestamp\",\"packet_loss\"],\n",
    "    'query':{\n",
    "            'bool':{\n",
    "                   'must':[\n",
    "                       {'range': {'timestamp': {'gte': '20180101T000000Z', 'lt': '20180401T000000Z'}}},\n",
    "                       {'term': {'src': packetLossServer}}\n",
    "                   ]\n",
    "            }\n",
    "    }\n",
    "}\n",
    "\n",
    "scroll = scan(client=es, index=\"ps_packet_loss\", query=my_query)\n"
   ]
  },
  {
   "cell_type": "code",
   "execution_count": 10,
   "metadata": {},
   "outputs": [
    {
     "name": "stdout",
     "output_type": "stream",
     "text": [
      "100000\n",
      "200000\n",
      "300000\n",
      "400000\n",
      "500000\n",
      "600000\n",
      "700000\n",
      "800000\n",
      "900000\n",
      "1000000\n",
      "1073730\n"
     ]
    }
   ],
   "source": [
    "epoch = datetime.utcfromtimestamp(0)\n",
    "count = 0\n",
    "dest=[]\n",
    "pl=[]\n",
    "ts=[]\n",
    "for res in scroll:\n",
    "    count += 1\n",
    "    ts.append(res['_source']['timestamp']//1000)\n",
    "    dest.append(res['_source']['dest'])\n",
    "    pl.append(res['_source']['packet_loss'])\n",
    "#     if count<2: print(res, ts)\n",
    "    if not count%100000: print(count)\n",
    "print(count)\n",
    "\n",
    "data = pd.DataFrame({'dest':dest,'packet_loss':pl,'timestamp':ts})"
   ]
  },
  {
   "cell_type": "markdown",
   "metadata": {},
   "source": [
    "### saving in cvs files"
   ]
  },
  {
   "cell_type": "code",
   "execution_count": 15,
   "metadata": {},
   "outputs": [],
   "source": [
    "data=data.set_index(\"timestamp\")"
   ]
  },
  {
   "cell_type": "code",
   "execution_count": 16,
   "metadata": {},
   "outputs": [
    {
     "name": "stdout",
     "output_type": "stream",
     "text": [
      "<class 'pandas.core.frame.DataFrame'>\n",
      "Int64Index: 1073730 entries, 1514764823 to 1522540798\n",
      "Data columns (total 2 columns):\n",
      "dest           1073730 non-null object\n",
      "packet_loss    1073730 non-null float64\n",
      "dtypes: float64(1), object(1)\n",
      "memory usage: 24.6+ MB\n"
     ]
    }
   ],
   "source": [
    "data.info()"
   ]
  },
  {
   "cell_type": "code",
   "execution_count": 17,
   "metadata": {
    "scrolled": false
   },
   "outputs": [],
   "source": [
    "data.sort_values(by='timestamp',inplace=True)    # Sort the records based on time\n",
    "data.to_csv(\"Data/PacketLoss\" + '_' + packetLossServer +\".csv\")"
   ]
  },
  {
   "cell_type": "code",
   "execution_count": 28,
   "metadata": {},
   "outputs": [
    {
     "name": "stderr",
     "output_type": "stream",
     "text": [
      "/usr/local/lib/python3.5/dist-packages/pandas/core/frame.py:3697: SettingWithCopyWarning: \n",
      "A value is trying to be set on a copy of a slice from a DataFrame\n",
      "\n",
      "See the caveats in the documentation: http://pandas.pydata.org/pandas-docs/stable/indexing.html#indexing-view-versus-copy\n",
      "  errors=errors)\n"
     ]
    },
    {
     "name": "stdout",
     "output_type": "stream",
     "text": [
      "109.105.124.86\n",
      "117.103.105.191\n",
      "128.142.223.247\n",
      "129.107.255.26\n",
      "129.107.255.29\n",
      "129.15.40.231\n",
      "129.215.213.70\n",
      "129.93.5.165\n",
      "130.209.239.124\n",
      "130.246.176.109\n",
      "130.246.47.129\n",
      "131.111.66.196\n",
      "131.169.98.30\n",
      "132.206.245.252\n",
      "134.158.123.183\n",
      "134.158.132.200\n",
      "134.158.159.85\n",
      "134.158.20.192\n",
      "134.158.73.243\n",
      "134.158.84.141\n",
      "134.219.225.13\n",
      "134.79.118.72\n",
      "138.253.60.82\n",
      "141.108.35.18\n",
      "141.34.200.28\n",
      "142.150.19.61\n",
      "144.206.236.189\n",
      "144.206.237.142\n",
      "145.100.17.8\n",
      "146.83.90.7\n",
      "147.156.116.40\n",
      "147.213.204.112\n",
      "147.231.25.192\n",
      "148.187.64.25\n",
      "149.165.224.247\n",
      "149.165.225.1\n",
      "149.165.225.223\n",
      "149.165.225.3\n",
      "150.244.246.85\n",
      "157.82.112.68\n",
      "158.195.14.26\n",
      "163.1.5.210\n",
      "164.58.29.121\n",
      "192.101.107.152\n",
      "192.108.47.12\n",
      "192.114.101.125\n",
      "192.12.15.111\n",
      "192.12.15.26\n",
      "192.170.227.163\n",
      "192.170.230.51\n",
      "192.231.127.41\n",
      "192.41.230.61\n",
      "192.41.236.31\n",
      "192.5.207.251\n",
      "192.54.207.250\n",
      "193.109.172.188\n",
      "193.170.243.215\n",
      "193.48.99.76\n",
      "194.190.165.192\n",
      "194.36.11.38\n",
      "194.80.35.169\n",
      "194.85.69.75\n",
      "195.194.105.178\n",
      "200.17.30.135\n",
      "202.122.32.170\n",
      "206.12.127.30\n",
      "206.12.154.60\n",
      "206.12.9.2\n",
      "72.36.96.4\n",
      "90.147.67.252\n"
     ]
    }
   ],
   "source": [
    "grouped_per_dest = data.groupby(\"dest\")\n",
    "for name, group in grouped_per_dest:\n",
    "    group.drop(\"dest\",axis=1,inplace=True)\n",
    "    print(name)\n",
    "    # deduplicate\n",
    "    group = group[~group.index.duplicated(keep='first')]\n",
    "    group.to_csv(\"Data/PacketLoss\" + '_' + packetLossServer + '_to_' + name + \".csv\",  index = False)"
   ]
  },
  {
   "cell_type": "code",
   "execution_count": null,
   "metadata": {},
   "outputs": [],
   "source": []
  }
 ],
 "metadata": {
  "kernelspec": {
   "display_name": "Python 3",
   "language": "python",
   "name": "python3"
  },
  "language_info": {
   "codemirror_mode": {
    "name": "ipython",
    "version": 3
   },
   "file_extension": ".py",
   "mimetype": "text/x-python",
   "name": "python",
   "nbconvert_exporter": "python",
   "pygments_lexer": "ipython3",
   "version": "3.5.2"
  }
 },
 "nbformat": 4,
 "nbformat_minor": 2
}
