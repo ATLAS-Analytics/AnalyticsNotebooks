{
 "cells": [
  {
   "cell_type": "markdown",
   "metadata": {},
   "source": [
    "# Collapsing traceroutes - handling random missing hops.\n",
    "this code\n",
    "a) looks up all the unique traceroutes (according to hash).\n",
    "b) prepends source site IP\n",
    "c) checks all the paths to find ones having missing hops that are not at the end.\n"
   ]
  },
  {
   "cell_type": "code",
   "execution_count": 1,
   "metadata": {
    "collapsed": false
   },
   "outputs": [],
   "source": [
    "%matplotlib inline\n",
    "from elasticsearch import Elasticsearch\n",
    "from elasticsearch.helpers import scan\n",
    "from datetime import datetime\n",
    "import math\n",
    "import matplotlib.pyplot as plt\n",
    "import matplotlib.mlab as mlab\n",
    "from matplotlib import gridspec\n",
    "from datetime import datetime\n",
    "import numpy as np\n",
    "import pandas as pd\n",
    "\n",
    "from perfsonar import path, link, mesh\n",
    "\n",
    "es = Elasticsearch(['atlas-kibana.mwt2.org:9200'],timeout=60)\n",
    "my_index = \"network_weather_2-2016.9.*\"\n",
    "\n",
    "my_query = {}"
   ]
  },
  {
   "cell_type": "markdown",
   "metadata": {},
   "source": [
    "##  Select your link"
   ]
  },
  {
   "cell_type": "code",
   "execution_count": 2,
   "metadata": {
    "collapsed": false
   },
   "outputs": [],
   "source": [
    "# srcSiteThroughputServer = \"192.170.227.162\"\n",
    "srcSiteThroughputServer = \"128.142.223.246\"\n",
    "# destSiteThroughputServer = \"149.165.225.224\"\n",
    "# destSiteThroughputServer = \"72.36.96.9\"\n",
    "# destSiteThroughputServer = \"72.36.126.132\"\n",
    "destSiteThroughputServer = \"193.109.172.187\"\n",
    "\n",
    "srcSiteThroughputServer='192.12.15.111'\n",
    "destSiteThroughputServer = '192.170.227.162'"
   ]
  },
  {
   "cell_type": "markdown",
   "metadata": {},
   "source": [
    "## Get the data from Elasticsearch, and store the record based on its type"
   ]
  },
  {
   "cell_type": "code",
   "execution_count": 3,
   "metadata": {
    "collapsed": false
   },
   "outputs": [
    {
     "name": "stdout",
     "output_type": "stream",
     "text": [
      "all different hashes: 29\n"
     ]
    }
   ],
   "source": [
    "my_query = {\n",
    "    \"size\":1,\n",
    "    \"_source\": {\n",
    "        \"include\": [ 'src','dest','hops','hash' ]\n",
    "    },\n",
    "    'query':{\n",
    "        'filtered':{\n",
    "            'query': { \"match_all\": {} },\n",
    "            'filter':{\n",
    "                'bool':{\n",
    "                    'must':[\n",
    "                        {'range': {'timestamp': {'gte': '2016-09-15', 'lt': '2016-09-30'}}},\n",
    "                        {'term': {'_type': 'traceroute'}},\n",
    "                        {'bool':\n",
    "                            {'should':[\n",
    "                                {'term': {'src': srcSiteThroughputServer}},\n",
    "                                {'term': {'src': destSiteThroughputServer}}\n",
    "                            ]}\n",
    "                        }\n",
    "                        ,\n",
    "                        {'bool':\n",
    "                            {'should':[\n",
    "                                {'term': {'dest': destSiteThroughputServer}},\n",
    "                                {'term': {'dest': srcSiteThroughputServer}}\n",
    "                            ]}\n",
    "                        }\n",
    "                    ]\n",
    "                }\n",
    "            }\n",
    "        }\n",
    "    },\n",
    "    \"aggs\": {\n",
    "        \"grouped_by_hash\": {\n",
    "          \"terms\": { \n",
    "                \"field\": \"hash\",\n",
    "                \"size\":0\n",
    "            },\n",
    "          \"aggs\": {\n",
    "              \"top_hash_hits\": {\n",
    "                  \"top_hits\": {\n",
    "                      \"sort\": [ { \"_score\": { \"order\": \"desc\" } } ],\n",
    "                      \"size\": 1\n",
    "                  }\n",
    "              }\n",
    "          }\n",
    "       }\n",
    "    }\n",
    "}\n",
    "\n",
    "results = es.search(body=my_query, index=my_index, request_timeout=12000)\n",
    "\n",
    "buckets=results['aggregations']['grouped_by_hash']['buckets']\n",
    "print(\"all different hashes:\", len(buckets))\n",
    "\n",
    "results=[]\n",
    "for b in buckets:\n",
    "    res=b['top_hash_hits']['hits']['hits'][0]\n",
    "    res['doc_count']=b['doc_count']\n",
    "    results.append(res)"
   ]
  },
  {
   "cell_type": "code",
   "execution_count": 4,
   "metadata": {
    "collapsed": false
   },
   "outputs": [
    {
     "name": "stdout",
     "output_type": "stream",
     "text": [
      "Total Links: 2\n",
      "AllIPs: 26\n"
     ]
    }
   ],
   "source": [
    "AllLinks=mesh()\n",
    "# count = 0\n",
    "for res in results:\n",
    "#     if count<1: print(res)\n",
    "#     count += 1\n",
    "    s = res['_source']['src']\n",
    "    d = res['_source']['dest']\n",
    "    L = AllLinks.addLink(s,d)\n",
    "    L.addPath(path(res['_source']['hash'], res['_source']['hops'], res['doc_count']))\n",
    "\n",
    "print('Total Links:', AllLinks.getNlinks())\n",
    "print('AllIPs:', len(AllLinks.getIPs()))\n",
    "\n"
   ]
  },
  {
   "cell_type": "code",
   "execution_count": 5,
   "metadata": {
    "collapsed": false
   },
   "outputs": [
    {
     "name": "stdout",
     "output_type": "stream",
     "text": [
      "src:  192.170.227.162 \tdest: 192.12.15.111 \ttests: 1815 \tpaths: 10 \trandomNones: 5 \tIPs: 14\n",
      "seen: 1 \trandom None: True \thops: ['192.170.227.162', '192.170.226.1', '192.170.224.77', '198.124.80.77', None, '198.124.80.50', '10.224.2.42', '192.12.15.111'] \trtts: []\n",
      "seen: 785 \trandom None: False \thops: ['192.170.227.162', '192.170.226.1', '192.170.224.77', '198.124.80.77', '198.124.80.49', '198.124.80.50', '10.224.2.46', '192.12.15.111'] \trtts: []\n",
      "seen: 33 \trandom None: False \thops: ['192.170.227.162', '192.170.226.1', '192.170.224.77', '198.124.80.77', '198.124.80.5', '198.124.80.6', '10.224.2.38', '192.12.15.111'] \trtts: []\n",
      "seen: 74 \trandom None: True \thops: ['192.170.227.162', None, '192.170.224.77', '198.124.80.77', '198.124.80.49', '198.124.80.50', '10.224.2.46', '192.12.15.111'] \trtts: []\n",
      "seen: 780 \trandom None: False \thops: ['192.170.227.162', '192.170.226.1', '192.170.224.77', '198.124.80.77', '198.124.80.49', '198.124.80.50', '10.224.2.42', '192.12.15.111'] \trtts: []\n",
      "seen: 1 \trandom None: False \thops: ['192.170.227.162', '192.170.226.1', '192.170.224.77', None, None, None, None, None, None, None, None, None, None, '192.12.15.111'] \trtts: []\n",
      "seen: 7 \trandom None: True \thops: ['192.170.227.162', None, '192.170.224.77', '198.124.80.77', '198.124.80.5', '198.124.80.6', '10.224.2.38', '192.12.15.111'] \trtts: []\n",
      "seen: 7 \trandom None: True \thops: ['192.170.227.162', None, '192.170.224.77', '198.124.80.77', '198.124.80.5', '198.124.80.6', '10.224.2.58', '192.12.15.111'] \trtts: []\n",
      "seen: 46 \trandom None: False \thops: ['192.170.227.162', '192.170.226.1', '192.170.224.77', '198.124.80.77', '198.124.80.5', '198.124.80.6', '10.224.2.58', '192.12.15.111'] \trtts: []\n",
      "seen: 81 \trandom None: True \thops: ['192.170.227.162', None, '192.170.224.77', '198.124.80.77', '198.124.80.49', '198.124.80.50', '10.224.2.42', '192.12.15.111'] \trtts: []\n",
      "src:  192.12.15.111 \tdest: 192.170.227.162 \ttests: 1821 \tpaths: 19 \trandomNones: 2 \tIPs: 18\n",
      "seen: 1 \trandom None: False \thops: ['192.12.15.111', '192.12.15.124', '10.224.2.57', '198.124.80.5', '198.124.80.77', '198.124.80.78', None, '192.170.227.162'] \trtts: []\n",
      "seen: 21 \trandom None: False \thops: ['192.12.15.111', '192.12.15.224', '10.224.2.57', '198.124.80.5', '198.124.80.77', '198.124.80.78', '192.170.224.78', '192.170.227.162'] \trtts: []\n",
      "seen: 37 \trandom None: False \thops: ['192.12.15.111', '192.12.15.124', '10.224.2.45', '198.124.80.49', '198.124.80.77', '198.124.80.78', None, '192.170.227.162'] \trtts: []\n",
      "seen: 1 \trandom None: False \thops: ['192.12.15.111', '192.12.15.124', '10.224.2.45', '198.124.80.49', '64.57.30.131', '64.57.30.130', '64.57.30.155', '192.170.224.94', '192.170.227.162'] \trtts: []\n",
      "seen: 15 \trandom None: False \thops: ['192.12.15.111', '192.12.15.224', '10.224.2.37', '198.124.80.5', '198.124.80.77', '198.124.80.78', '192.170.224.78', '192.170.227.162'] \trtts: []\n",
      "seen: 418 \trandom None: False \thops: ['192.12.15.111', '192.12.15.124', '10.224.2.41', '198.124.80.49', '198.124.80.77', '198.124.80.78', '192.170.224.78', '192.170.227.162'] \trtts: []\n",
      "seen: 3 \trandom None: False \thops: ['192.12.15.111', '192.12.15.124', '10.224.2.37', '198.124.80.5', '198.124.80.77', '198.124.80.78', None, '192.170.227.162'] \trtts: []\n",
      "seen: 35 \trandom None: False \thops: ['192.12.15.111', '192.12.15.224', '10.224.2.41', '198.124.80.49', '198.124.80.77', '198.124.80.78', None, '192.170.227.162'] \trtts: []\n",
      "seen: 393 \trandom None: False \thops: ['192.12.15.111', '192.12.15.224', '10.224.2.45', '198.124.80.49', '198.124.80.77', '198.124.80.78', '192.170.224.78', '192.170.227.162'] \trtts: []\n",
      "seen: 2 \trandom None: True \thops: ['192.12.15.111', '192.12.15.224', '10.224.2.37', None, '198.124.80.77', '198.124.80.78', '192.170.224.78', '192.170.227.162'] \trtts: []\n",
      "seen: 2 \trandom None: False \thops: ['192.12.15.111', '192.12.15.224', '10.224.2.37', '198.124.80.5', '198.124.80.77', '198.124.80.78', None, '192.170.227.162'] \trtts: []\n",
      "seen: 17 \trandom None: False \thops: ['192.12.15.111', '192.12.15.124', '10.224.2.37', '198.124.80.5', '198.124.80.77', '198.124.80.78', '192.170.224.78', '192.170.227.162'] \trtts: []\n",
      "seen: 40 \trandom None: False \thops: ['192.12.15.111', '192.12.15.124', '10.224.2.41', '198.124.80.49', '198.124.80.77', '198.124.80.78', None, '192.170.227.162'] \trtts: []\n",
      "seen: 29 \trandom None: False \thops: ['192.12.15.111', '192.12.15.124', '10.224.2.57', '198.124.80.5', '198.124.80.77', '198.124.80.78', '192.170.224.78', '192.170.227.162'] \trtts: []\n",
      "seen: 1 \trandom None: True \thops: ['192.12.15.111', '192.12.15.124', '10.224.2.57', None, '198.124.80.77', '198.124.80.78', None, '192.170.227.162'] \trtts: []\n",
      "seen: 3 \trandom None: False \thops: ['192.12.15.111', '192.12.15.224', '10.224.2.57', '198.124.80.5', '198.124.80.77', '198.124.80.78', None, '192.170.227.162'] \trtts: []\n",
      "seen: 422 \trandom None: False \thops: ['192.12.15.111', '192.12.15.124', '10.224.2.45', '198.124.80.49', '198.124.80.77', '198.124.80.78', '192.170.224.78', '192.170.227.162'] \trtts: []\n",
      "seen: 50 \trandom None: False \thops: ['192.12.15.111', '192.12.15.224', '10.224.2.45', '198.124.80.49', '198.124.80.77', '198.124.80.78', None, '192.170.227.162'] \trtts: []\n",
      "seen: 331 \trandom None: False \thops: ['192.12.15.111', '192.12.15.224', '10.224.2.41', '198.124.80.49', '198.124.80.77', '198.124.80.78', '192.170.224.78', '192.170.227.162'] \trtts: []\n"
     ]
    }
   ],
   "source": [
    "c=0\n",
    "for l in AllLinks.links:\n",
    "    l.prnt()\n",
    "    if c>200: break\n",
    "    c+=1"
   ]
  }
 ],
 "metadata": {
  "kernelspec": {
   "display_name": "Python 3",
   "language": "python",
   "name": "python3"
  },
  "language_info": {
   "codemirror_mode": {
    "name": "ipython",
    "version": 3
   },
   "file_extension": ".py",
   "mimetype": "text/x-python",
   "name": "python",
   "nbconvert_exporter": "python",
   "pygments_lexer": "ipython3",
   "version": "3.5.1"
  }
 },
 "nbformat": 4,
 "nbformat_minor": 0
}
