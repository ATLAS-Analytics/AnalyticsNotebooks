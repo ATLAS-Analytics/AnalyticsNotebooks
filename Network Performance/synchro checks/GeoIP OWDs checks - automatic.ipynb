{
 "cells": [
  {
   "cell_type": "markdown",
   "metadata": {},
   "source": [
    "# GeoDistance check of OWDs - automatic"
   ]
  },
  {
   "cell_type": "code",
   "execution_count": 1,
   "metadata": {
    "collapsed": false
   },
   "outputs": [],
   "source": [
    "%matplotlib inline\n",
    "\n",
    "import requests\n",
    "import math\n",
    "\n",
    "try: import simplejson as json\n",
    "except ImportError: import json\n",
    "\n",
    "from elasticsearch import Elasticsearch\n",
    "import matplotlib.pyplot as plt\n",
    "import numpy as np\n",
    "import pandas as pd\n",
    "\n",
    "es = Elasticsearch(['atlas-kibana.mwt2.org:9200'],timeout=60)\n",
    "my_index = \"network_weather-*\"\n",
    "\n",
    "my_query = {}\n",
    "OWDpos={}"
   ]
  },
  {
   "cell_type": "code",
   "execution_count": 3,
   "metadata": {
    "collapsed": false
   },
   "outputs": [],
   "source": [
    "query={\n",
    "   \"size\": 0,\n",
    "   \"query\": {\n",
    "    \"bool\": {\n",
    "      \"must\": [\n",
    "        {\"term\": { \"_type\" : \"latency\"}}\n",
    "      ],\n",
    "      \"filter\" : {\n",
    "        'range': {'timestamp': {'gte': '20161111T000000+0000'}}\n",
    "      }\n",
    "    }\n",
    "   },\n",
    "    \"aggs\" : {\n",
    "      \"src\" : {\n",
    "        \"terms\" : { \"field\" : \"src\", \"size\": 1000 },\n",
    "        \"aggs\" : {\n",
    "          \"dest\" : {\n",
    "            \"terms\" : {\"field\" : \"dest\", \"size\": 1000},\n",
    "            \"aggs\" : {\n",
    "              \"avgde\" : {\n",
    "                \"avg\" :{ \"field\" : \"delay_mean\" }\n",
    "              }\n",
    "          }\n",
    "        }\n",
    "      }\n",
    "    }\n",
    "    }        \n",
    "}\n",
    "\n",
    "res = es.search(index=my_index, body=query, request_timeout=120)"
   ]
  },
  {
   "cell_type": "code",
   "execution_count": 4,
   "metadata": {
    "collapsed": false
   },
   "outputs": [],
   "source": [
    "def getServerLongLat(ip):\n",
    "    \n",
    "    if ip in OWDpos:\n",
    "        return OWDpos[ip]\n",
    "    \n",
    "    try:\n",
    "        req = requests.get(\"http://geoip.mwt2.org:4288/json/\"+ip, None)\n",
    "        res=req.json()\n",
    "        lon=res['longitude']\n",
    "        lat=res['latitude']\n",
    "        pos=[lon,lat]\n",
    "        OWDpos[ip]=pos\n",
    "        return pos\n",
    "    except:\n",
    "        pass\n",
    "#         print (\"Can't determine coordinates. Trying next one.\", ip)\n",
    "        \n",
    "    try:\n",
    "        req = requests.get(\"http://freegeoip.net/json/\"+ip, None)\n",
    "        res=req.json()\n",
    "        lon=res['longitude']\n",
    "        lat=res['latitude']\n",
    "        pos=[lon,lat]\n",
    "        OWDpos[ip]=pos\n",
    "        return pos\n",
    "    except:\n",
    "        print (\"Can't determine coordinates\", ip)\n",
    "        \n",
    "def getDistance(ip1,ip2):\n",
    "    p1=getServerLongLat(ip1)\n",
    "    p2=getServerLongLat(ip2)\n",
    "    if not p1 or not p2: return 0.0\n",
    "    dlon = math.radians(p1[0] - p2[0])\n",
    "    dlat = math.radians(p1[1] - p2[1])\n",
    "    a = pow(math.sin(dlat/2),2) + math.cos(math.radians(p2[1])) * math.cos(math.radians(p1[1])) * pow(math.sin(dlon/2),2)\n",
    "    c = 2 * math.atan2( math.sqrt(a), math.sqrt(1-a) )\n",
    "    d = 6373 * c # 6373 is the radius of the Earth in km\n",
    "    return d  "
   ]
  },
  {
   "cell_type": "markdown",
   "metadata": {
    "collapsed": false
   },
   "source": [
    "  Creating DataFrame with all the data        "
   ]
  },
  {
   "cell_type": "code",
   "execution_count": 5,
   "metadata": {
    "collapsed": false,
    "scrolled": false
   },
   "outputs": [
    {
     "name": "stdout",
     "output_type": "stream",
     "text": [
      "139.184.80.18 -> 138.253.60.82 \tdocs: 62708 \tAvg OWD: 6.78   Dist:288.6\n",
      "139.184.80.18 -> 129.215.213.70 \tdocs: 2246 \tAvg OWD: 9.10   Dist:534.5\n",
      "139.184.80.18 -> 130.246.47.129 \tdocs: 366 \tAvg OWD: 3.48   Dist:87.2\n",
      "139.184.80.18 -> 130.209.239.124 \tdocs: 365 \tAvg OWD: 7.23   Dist:553.0\n",
      "139.184.80.18 -> 130.246.176.109 \tdocs: 365 \tAvg OWD: 3.23   Dist:87.2\n",
      "139.184.80.18 -> 137.222.74.15 \tdocs: 365 \tAvg OWD: 9.64   Dist:170.0\n",
      "139.184.80.18 -> 163.1.5.210 \tdocs: 365 \tAvg OWD: 3.70   Dist:82.2\n",
      "139.184.80.18 -> 193.62.56.9 \tdocs: 365 \tAvg OWD: 4.25   Dist:162.9\n",
      "139.184.80.18 -> 194.80.35.169 \tdocs: 365 \tAvg OWD: 10.20   Dist:338.4\n",
      "139.184.80.18 -> 131.111.66.196 \tdocs: 364 \tAvg OWD: 5.81   Dist:79.7\n"
     ]
    }
   ],
   "source": [
    "ser = res['aggregations']['src']['buckets']\n",
    "count=10\n",
    "src=[]\n",
    "dest=[]\n",
    "docs=[]\n",
    "dist=[]\n",
    "owd=[]\n",
    "for s in ser:\n",
    "    des=s['dest']['buckets']\n",
    "    for d in des:\n",
    "        delay = d['avgde']['value']\n",
    "        distance = getDistance(s['key'], d['key'])\n",
    "        \n",
    "        src.append( s['key'])\n",
    "        dest.append(d['key'])\n",
    "        docs.append(d['doc_count'])\n",
    "        dist.append(distance)\n",
    "        owd.append( delay)\n",
    "        \n",
    "        if count>0:\n",
    "            count -= 1\n",
    "            print ( s['key'], '->', d['key'], '\\tdocs:', d['doc_count'], '\\tAvg OWD: {:.2f}   Dist:{:.1f}'.format(delay, distance))\n",
    "        "
   ]
  },
  {
   "cell_type": "code",
   "execution_count": 6,
   "metadata": {
    "collapsed": false
   },
   "outputs": [
    {
     "name": "stdout",
     "output_type": "stream",
     "text": [
      "(5639, 5)\n"
     ]
    },
    {
     "data": {
      "text/html": [
       "<div>\n",
       "<table border=\"1\" class=\"dataframe\">\n",
       "  <thead>\n",
       "    <tr style=\"text-align: right;\">\n",
       "      <th></th>\n",
       "      <th>dest</th>\n",
       "      <th>dist</th>\n",
       "      <th>docs</th>\n",
       "      <th>owd</th>\n",
       "      <th>src</th>\n",
       "    </tr>\n",
       "  </thead>\n",
       "  <tbody>\n",
       "    <tr>\n",
       "      <th>0</th>\n",
       "      <td>138.253.60.82</td>\n",
       "      <td>288.553089</td>\n",
       "      <td>62708</td>\n",
       "      <td>6.784273</td>\n",
       "      <td>139.184.80.18</td>\n",
       "    </tr>\n",
       "    <tr>\n",
       "      <th>1</th>\n",
       "      <td>129.215.213.70</td>\n",
       "      <td>534.486819</td>\n",
       "      <td>2246</td>\n",
       "      <td>9.102436</td>\n",
       "      <td>139.184.80.18</td>\n",
       "    </tr>\n",
       "    <tr>\n",
       "      <th>2</th>\n",
       "      <td>130.246.47.129</td>\n",
       "      <td>87.175000</td>\n",
       "      <td>366</td>\n",
       "      <td>3.475116</td>\n",
       "      <td>139.184.80.18</td>\n",
       "    </tr>\n",
       "    <tr>\n",
       "      <th>3</th>\n",
       "      <td>130.209.239.124</td>\n",
       "      <td>552.979378</td>\n",
       "      <td>365</td>\n",
       "      <td>7.225476</td>\n",
       "      <td>139.184.80.18</td>\n",
       "    </tr>\n",
       "    <tr>\n",
       "      <th>4</th>\n",
       "      <td>130.246.176.109</td>\n",
       "      <td>87.175000</td>\n",
       "      <td>365</td>\n",
       "      <td>3.231091</td>\n",
       "      <td>139.184.80.18</td>\n",
       "    </tr>\n",
       "  </tbody>\n",
       "</table>\n",
       "</div>"
      ],
      "text/plain": [
       "              dest        dist   docs       owd            src\n",
       "0    138.253.60.82  288.553089  62708  6.784273  139.184.80.18\n",
       "1   129.215.213.70  534.486819   2246  9.102436  139.184.80.18\n",
       "2   130.246.47.129   87.175000    366  3.475116  139.184.80.18\n",
       "3  130.209.239.124  552.979378    365  7.225476  139.184.80.18\n",
       "4  130.246.176.109   87.175000    365  3.231091  139.184.80.18"
      ]
     },
     "execution_count": 6,
     "metadata": {},
     "output_type": "execute_result"
    }
   ],
   "source": [
    "data = pd.DataFrame({'src':src, 'dest':dest, 'docs':docs, 'owd':owd, 'dist':dist})\n",
    "print(data.shape)\n",
    "data.head()"
   ]
  },
  {
   "cell_type": "code",
   "execution_count": 7,
   "metadata": {
    "collapsed": false
   },
   "outputs": [
    {
     "name": "stdout",
     "output_type": "stream",
     "text": [
      "(5253, 5)\n"
     ]
    },
    {
     "data": {
      "text/html": [
       "<div>\n",
       "<table border=\"1\" class=\"dataframe\">\n",
       "  <thead>\n",
       "    <tr style=\"text-align: right;\">\n",
       "      <th></th>\n",
       "      <th>dist</th>\n",
       "      <th>docs</th>\n",
       "      <th>owd</th>\n",
       "    </tr>\n",
       "  </thead>\n",
       "  <tbody>\n",
       "    <tr>\n",
       "      <th>count</th>\n",
       "      <td>5253.000000</td>\n",
       "      <td>5253.000000</td>\n",
       "      <td>5253.000000</td>\n",
       "    </tr>\n",
       "    <tr>\n",
       "      <th>mean</th>\n",
       "      <td>4638.382756</td>\n",
       "      <td>448.869218</td>\n",
       "      <td>51.482668</td>\n",
       "    </tr>\n",
       "    <tr>\n",
       "      <th>std</th>\n",
       "      <td>3917.416174</td>\n",
       "      <td>1065.242532</td>\n",
       "      <td>54.972074</td>\n",
       "    </tr>\n",
       "    <tr>\n",
       "      <th>min</th>\n",
       "      <td>0.000000</td>\n",
       "      <td>109.000000</td>\n",
       "      <td>-931.737617</td>\n",
       "    </tr>\n",
       "    <tr>\n",
       "      <th>25%</th>\n",
       "      <td>1035.797727</td>\n",
       "      <td>398.000000</td>\n",
       "      <td>17.307610</td>\n",
       "    </tr>\n",
       "    <tr>\n",
       "      <th>50%</th>\n",
       "      <td>3134.887883</td>\n",
       "      <td>403.000000</td>\n",
       "      <td>39.209738</td>\n",
       "    </tr>\n",
       "    <tr>\n",
       "      <th>75%</th>\n",
       "      <td>7798.117835</td>\n",
       "      <td>408.000000</td>\n",
       "      <td>75.078347</td>\n",
       "    </tr>\n",
       "    <tr>\n",
       "      <th>max</th>\n",
       "      <td>19065.338076</td>\n",
       "      <td>62708.000000</td>\n",
       "      <td>359.478851</td>\n",
       "    </tr>\n",
       "  </tbody>\n",
       "</table>\n",
       "</div>"
      ],
      "text/plain": [
       "               dist          docs          owd\n",
       "count   5253.000000   5253.000000  5253.000000\n",
       "mean    4638.382756    448.869218    51.482668\n",
       "std     3917.416174   1065.242532    54.972074\n",
       "min        0.000000    109.000000  -931.737617\n",
       "25%     1035.797727    398.000000    17.307610\n",
       "50%     3134.887883    403.000000    39.209738\n",
       "75%     7798.117835    408.000000    75.078347\n",
       "max    19065.338076  62708.000000   359.478851"
      ]
     },
     "execution_count": 7,
     "metadata": {},
     "output_type": "execute_result"
    }
   ],
   "source": [
    "#cleaning up ones with not many measurements\n",
    "data=data[data.docs > 100]\n",
    "print(data.shape)\n",
    "data.describe()"
   ]
  },
  {
   "cell_type": "markdown",
   "metadata": {},
   "source": [
    "For servers that appear in at least 2 links, calculate abs of difference of mean of forward and backward OWDs. Return as sorted dataframe."
   ]
  },
  {
   "cell_type": "code",
   "execution_count": 8,
   "metadata": {
    "collapsed": false
   },
   "outputs": [],
   "source": [
    "def differentialOWDs(data):\n",
    "\n",
    "    # first group by src and dest \n",
    "    groupedBySrc = data.groupby('src')\n",
    "    groupedByDest = data.groupby('dest')\n",
    "    #groupedBySrc.head()\n",
    "    \n",
    "    src=[]\n",
    "    fwd=[]\n",
    "    rew=[]\n",
    "    for name, group in groupedBySrc:\n",
    "       #print(name, group.owd.mean())\n",
    "       if group.owd.count()>2:\n",
    "            src.append(name)\n",
    "            fwd.append(group.owd.mean())\n",
    "    fwdDF=pd.DataFrame({'fwd':fwd},index=src)\n",
    "    fwdDF.head()\n",
    "    dst=[]\n",
    "    for name, group in groupedByDest:\n",
    "       #print(name, group.owd.mean())\n",
    "       if group.owd.count()>2:\n",
    "            dst.append(name)\n",
    "            rew.append(group.owd.mean())\n",
    "    rewDF=pd.DataFrame({'rew':rew},index=dst)\n",
    "    rewDF.head()\n",
    "\n",
    "    TWD=pd.concat([fwdDF,rewDF], axis=1)\n",
    "\n",
    "    TWD['diff']=TWD.fwd-TWD.rew\n",
    "    TWD['diff']=TWD['diff'].abs()\n",
    "    TWD=TWD.dropna()\n",
    "    TWD=TWD.sort_values('diff',ascending=False)\n",
    "    \n",
    "    n, bins, patches = plt.hist(TWD['diff'].tolist(), bins=np.logspace(0.1, 4.0, 50), histtype='stepfilled')\n",
    "    plt.gca().set_xscale(\"log\")\n",
    "    plt.show()\n",
    "    \n",
    "    return TWD"
   ]
  },
  {
   "cell_type": "code",
   "execution_count": 9,
   "metadata": {
    "collapsed": false
   },
   "outputs": [
    {
     "data": {
      "image/png": "[encoded data removed]",
      "text/plain": [
       "<matplotlib.figure.Figure at 0x7fdc953de6a0>"
      ]
     },
     "metadata": {},
     "output_type": "display_data"
    },
    {
     "data": {
      "text/html": [
       "<div>\n",
       "<table border=\"1\" class=\"dataframe\">\n",
       "  <thead>\n",
       "    <tr style=\"text-align: right;\">\n",
       "      <th></th>\n",
       "      <th>fwd</th>\n",
       "      <th>rew</th>\n",
       "      <th>diff</th>\n",
       "    </tr>\n",
       "  </thead>\n",
       "  <tbody>\n",
       "    <tr>\n",
       "      <th>192.135.14.32</th>\n",
       "      <td>286.985869</td>\n",
       "      <td>-235.382464</td>\n",
       "      <td>522.368334</td>\n",
       "    </tr>\n",
       "    <tr>\n",
       "      <th>2001:760:4224:1::32</th>\n",
       "      <td>279.580993</td>\n",
       "      <td>-179.240845</td>\n",
       "      <td>458.821838</td>\n",
       "    </tr>\n",
       "    <tr>\n",
       "      <th>192.41.236.35</th>\n",
       "      <td>15.680707</td>\n",
       "      <td>223.070029</td>\n",
       "      <td>207.389322</td>\n",
       "    </tr>\n",
       "    <tr>\n",
       "      <th>134.61.24.193</th>\n",
       "      <td>-0.273207</td>\n",
       "      <td>72.340059</td>\n",
       "      <td>72.613266</td>\n",
       "    </tr>\n",
       "    <tr>\n",
       "      <th>134.158.150.245</th>\n",
       "      <td>5.885383</td>\n",
       "      <td>59.511259</td>\n",
       "      <td>53.625877</td>\n",
       "    </tr>\n",
       "  </tbody>\n",
       "</table>\n",
       "</div>"
      ],
      "text/plain": [
       "                            fwd         rew        diff\n",
       "192.135.14.32        286.985869 -235.382464  522.368334\n",
       "2001:760:4224:1::32  279.580993 -179.240845  458.821838\n",
       "192.41.236.35         15.680707  223.070029  207.389322\n",
       "134.61.24.193         -0.273207   72.340059   72.613266\n",
       "134.158.150.245        5.885383   59.511259   53.625877"
      ]
     },
     "execution_count": 9,
     "metadata": {},
     "output_type": "execute_result"
    }
   ],
   "source": [
    "# Look for the worst\n",
    "dOWDs = differentialOWDs(data)\n",
    "dOWDs.head()"
   ]
  },
  {
   "cell_type": "code",
   "execution_count": 10,
   "metadata": {
    "collapsed": false
   },
   "outputs": [
    {
     "data": {
      "image/png": "[encoded data removed]",
      "text/plain": [
       "<matplotlib.figure.Figure at 0x7fdc95311b38>"
      ]
     },
     "metadata": {},
     "output_type": "display_data"
    },
    {
     "data": {
      "image/png": "[encoded data removed]",
      "text/plain": [
       "<matplotlib.figure.Figure at 0x7fdc452e2080>"
      ]
     },
     "metadata": {},
     "output_type": "display_data"
    },
    {
     "data": {
      "text/html": [
       "<div>\n",
       "<table border=\"1\" class=\"dataframe\">\n",
       "  <thead>\n",
       "    <tr style=\"text-align: right;\">\n",
       "      <th></th>\n",
       "      <th>fwd</th>\n",
       "      <th>rew</th>\n",
       "      <th>diff</th>\n",
       "    </tr>\n",
       "  </thead>\n",
       "  <tbody>\n",
       "    <tr>\n",
       "      <th>192.41.236.35</th>\n",
       "      <td>15.680707</td>\n",
       "      <td>223.070029</td>\n",
       "      <td>207.389322</td>\n",
       "    </tr>\n",
       "    <tr>\n",
       "      <th>192.101.161.186</th>\n",
       "      <td>65.866828</td>\n",
       "      <td>-0.981836</td>\n",
       "      <td>66.848664</td>\n",
       "    </tr>\n",
       "    <tr>\n",
       "      <th>134.75.125.241</th>\n",
       "      <td>114.500350</td>\n",
       "      <td>148.214912</td>\n",
       "      <td>33.714562</td>\n",
       "    </tr>\n",
       "    <tr>\n",
       "      <th>202.13.203.129</th>\n",
       "      <td>65.406361</td>\n",
       "      <td>90.198270</td>\n",
       "      <td>24.791908</td>\n",
       "    </tr>\n",
       "    <tr>\n",
       "      <th>72.36.96.15</th>\n",
       "      <td>40.644650</td>\n",
       "      <td>16.344329</td>\n",
       "      <td>24.300322</td>\n",
       "    </tr>\n",
       "  </tbody>\n",
       "</table>\n",
       "</div>"
      ],
      "text/plain": [
       "                        fwd         rew        diff\n",
       "192.41.236.35     15.680707  223.070029  207.389322\n",
       "192.101.161.186   65.866828   -0.981836   66.848664\n",
       "134.75.125.241   114.500350  148.214912   33.714562\n",
       "202.13.203.129    65.406361   90.198270   24.791908\n",
       "72.36.96.15       40.644650   16.344329   24.300322"
      ]
     },
     "execution_count": 10,
     "metadata": {},
     "output_type": "execute_result"
    }
   ],
   "source": [
    "#remove worst\n",
    "data=data[data.src!='2001:760:4224:1::32']\n",
    "data=data[data.dest!='2001:760:4224:1::32']\n",
    "\n",
    "dOWDs = differentialOWDs(data)\n",
    "dOWDs.head()\n",
    "\n",
    "data=data[data.src!='192.135.14.32']\n",
    "data=data[data.dest!='192.135.14.32']\n",
    "\n",
    "dOWDs = differentialOWDs(data)\n",
    "dOWDs.head()\n",
    "\n",
    "# data=data[data.src!='128.211.143.3']\n",
    "# data=data[data.dest!='128.211.143.3']\n",
    "\n",
    "# dOWDs = differentialOWDs(data)\n",
    "# dOWDs.head()\n",
    "\n",
    "# data=data[data.src!='192.41.236.35']\n",
    "# data=data[data.dest!='192.41.236.35']\n",
    "\n",
    "# dOWDs = differentialOWDs(data)\n",
    "# dOWDs.head(10)"
   ]
  },
  {
   "cell_type": "code",
   "execution_count": 11,
   "metadata": {
    "collapsed": false
   },
   "outputs": [
    {
     "data": {
      "text/html": [
       "<div>\n",
       "<table border=\"1\" class=\"dataframe\">\n",
       "  <thead>\n",
       "    <tr style=\"text-align: right;\">\n",
       "      <th></th>\n",
       "      <th>dest</th>\n",
       "      <th>dist</th>\n",
       "      <th>docs</th>\n",
       "      <th>owd</th>\n",
       "      <th>src</th>\n",
       "    </tr>\n",
       "  </thead>\n",
       "  <tbody>\n",
       "    <tr>\n",
       "      <th>5430</th>\n",
       "      <td>134.158.150.245</td>\n",
       "      <td>965.646881</td>\n",
       "      <td>405</td>\n",
       "      <td>40.770304</td>\n",
       "      <td>192.101.161.186</td>\n",
       "    </tr>\n",
       "    <tr>\n",
       "      <th>5431</th>\n",
       "      <td>134.158.73.243</td>\n",
       "      <td>965.646881</td>\n",
       "      <td>405</td>\n",
       "      <td>50.280219</td>\n",
       "      <td>192.101.161.186</td>\n",
       "    </tr>\n",
       "    <tr>\n",
       "      <th>5432</th>\n",
       "      <td>192.101.107.152</td>\n",
       "      <td>8474.709813</td>\n",
       "      <td>405</td>\n",
       "      <td>120.439457</td>\n",
       "      <td>192.101.161.186</td>\n",
       "    </tr>\n",
       "    <tr>\n",
       "      <th>5433</th>\n",
       "      <td>134.61.24.193</td>\n",
       "      <td>1431.838722</td>\n",
       "      <td>404</td>\n",
       "      <td>49.152823</td>\n",
       "      <td>192.101.161.186</td>\n",
       "    </tr>\n",
       "    <tr>\n",
       "      <th>5434</th>\n",
       "      <td>18.12.1.171</td>\n",
       "      <td>5473.001960</td>\n",
       "      <td>404</td>\n",
       "      <td>80.566078</td>\n",
       "      <td>192.101.161.186</td>\n",
       "    </tr>\n",
       "    <tr>\n",
       "      <th>5435</th>\n",
       "      <td>193.206.93.45</td>\n",
       "      <td>1436.421997</td>\n",
       "      <td>404</td>\n",
       "      <td>53.992086</td>\n",
       "      <td>192.101.161.186</td>\n",
       "    </tr>\n",
       "  </tbody>\n",
       "</table>\n",
       "</div>"
      ],
      "text/plain": [
       "                 dest         dist  docs         owd              src\n",
       "5430  134.158.150.245   965.646881   405   40.770304  192.101.161.186\n",
       "5431   134.158.73.243   965.646881   405   50.280219  192.101.161.186\n",
       "5432  192.101.107.152  8474.709813   405  120.439457  192.101.161.186\n",
       "5433    134.61.24.193  1431.838722   404   49.152823  192.101.161.186\n",
       "5434      18.12.1.171  5473.001960   404   80.566078  192.101.161.186\n",
       "5435    193.206.93.45  1436.421997   404   53.992086  192.101.161.186"
      ]
     },
     "execution_count": 11,
     "metadata": {},
     "output_type": "execute_result"
    }
   ],
   "source": [
    "data[data.src=='192.101.161.186']"
   ]
  },
  {
   "cell_type": "code",
   "execution_count": 12,
   "metadata": {
    "collapsed": false
   },
   "outputs": [
    {
     "data": {
      "image/png": "[encoded data removed]",
      "text/plain": [
       "<matplotlib.figure.Figure at 0x7fdc946c54a8>"
      ]
     },
     "metadata": {},
     "output_type": "display_data"
    }
   ],
   "source": [
    "plt.figure(figsize=[10, 10])\n",
    "plt.scatter( data.dist, data.owd ,alpha=0.8)\n",
    "x = np.linspace(0, 20000)\n",
    "y = x/(300*0.7)\n",
    "plt.plot(x, y, '-')\n",
    "plt.xlabel('distance [km]')\n",
    "plt.ylabel('OWD [ms]')\n",
    "plt.show()"
   ]
  },
  {
   "cell_type": "code",
   "execution_count": 13,
   "metadata": {
    "collapsed": false
   },
   "outputs": [
    {
     "name": "stderr",
     "output_type": "stream",
     "text": [
      "/home/ivukotic/anaconda3/lib/python3.5/site-packages/ipykernel/__main__.py:3: SettingWithCopyWarning: \n",
      "A value is trying to be set on a copy of a slice from a DataFrame.\n",
      "Try using .loc[row_indexer,col_indexer] = value instead\n",
      "\n",
      "See the caveats in the documentation: http://pandas.pydata.org/pandas-docs/stable/indexing.html#indexing-view-versus-copy\n",
      "  app.launch_new_instance()\n"
     ]
    },
    {
     "data": {
      "text/html": [
       "<div>\n",
       "<table border=\"1\" class=\"dataframe\">\n",
       "  <thead>\n",
       "    <tr style=\"text-align: right;\">\n",
       "      <th></th>\n",
       "      <th>spd</th>\n",
       "    </tr>\n",
       "  </thead>\n",
       "  <tbody>\n",
       "    <tr>\n",
       "      <th>194.85.69.74</th>\n",
       "      <td>-1.484922</td>\n",
       "    </tr>\n",
       "    <tr>\n",
       "      <th>212.193.96.29</th>\n",
       "      <td>-0.498684</td>\n",
       "    </tr>\n",
       "    <tr>\n",
       "      <th>188.185.224.217</th>\n",
       "      <td>0.002337</td>\n",
       "    </tr>\n",
       "    <tr>\n",
       "      <th>198.124.252.126</th>\n",
       "      <td>0.004922</td>\n",
       "    </tr>\n",
       "    <tr>\n",
       "      <th>134.158.150.245</th>\n",
       "      <td>0.005415</td>\n",
       "    </tr>\n",
       "  </tbody>\n",
       "</table>\n",
       "</div>"
      ],
      "text/plain": [
       "                      spd\n",
       "194.85.69.74    -1.484922\n",
       "212.193.96.29   -0.498684\n",
       "188.185.224.217  0.002337\n",
       "198.124.252.126  0.004922\n",
       "134.158.150.245  0.005415"
      ]
     },
     "execution_count": 13,
     "metadata": {},
     "output_type": "execute_result"
    }
   ],
   "source": [
    "# look for very low speeds\n",
    "data1=data[data.dist>0]\n",
    "data1['speed']=data1.dist/data1.owd/300\n",
    "grouped = data1.groupby('src')\n",
    "grouped.agg({'dist' : 'mean', 'speed':'mean', 'owd' : ['mean','count'] })\n",
    "grouped.head()\n",
    "\n",
    "src=[]\n",
    "spd=[]\n",
    "for name, group in grouped:\n",
    "    #print(name, group.owd.mean())\n",
    "    src.append(name)\n",
    "    spd.append(group.speed.mean())\n",
    "spdDF=pd.DataFrame({'spd':spd},index=src)\n",
    "spdDF=spdDF.sort_values('spd')\n",
    "spdDF.head()\n"
   ]
  },
  {
   "cell_type": "code",
   "execution_count": 14,
   "metadata": {
    "collapsed": false
   },
   "outputs": [
    {
     "data": {
      "text/html": [
       "<div>\n",
       "<table border=\"1\" class=\"dataframe\">\n",
       "  <thead>\n",
       "    <tr style=\"text-align: right;\">\n",
       "      <th></th>\n",
       "      <th>dest</th>\n",
       "      <th>dist</th>\n",
       "      <th>docs</th>\n",
       "      <th>owd</th>\n",
       "      <th>src</th>\n",
       "    </tr>\n",
       "  </thead>\n",
       "  <tbody>\n",
       "    <tr>\n",
       "      <th>5289</th>\n",
       "      <td>200.17.30.135</td>\n",
       "      <td>6497.569212</td>\n",
       "      <td>413</td>\n",
       "      <td>79.660038</td>\n",
       "      <td>128.211.143.3</td>\n",
       "    </tr>\n",
       "    <tr>\n",
       "      <th>5290</th>\n",
       "      <td>192.111.108.112</td>\n",
       "      <td>475.951715</td>\n",
       "      <td>410</td>\n",
       "      <td>15.703467</td>\n",
       "      <td>128.211.143.3</td>\n",
       "    </tr>\n",
       "    <tr>\n",
       "      <th>5291</th>\n",
       "      <td>128.227.221.44</td>\n",
       "      <td>1268.656758</td>\n",
       "      <td>409</td>\n",
       "      <td>17.633580</td>\n",
       "      <td>128.211.143.3</td>\n",
       "    </tr>\n",
       "    <tr>\n",
       "      <th>5292</th>\n",
       "      <td>200.136.80.20</td>\n",
       "      <td>6497.569212</td>\n",
       "      <td>408</td>\n",
       "      <td>91.221478</td>\n",
       "      <td>128.211.143.3</td>\n",
       "    </tr>\n",
       "    <tr>\n",
       "      <th>5293</th>\n",
       "      <td>131.225.205.12</td>\n",
       "      <td>198.493479</td>\n",
       "      <td>406</td>\n",
       "      <td>3.849403</td>\n",
       "      <td>128.211.143.3</td>\n",
       "    </tr>\n",
       "    <tr>\n",
       "      <th>5294</th>\n",
       "      <td>144.92.180.75</td>\n",
       "      <td>360.238859</td>\n",
       "      <td>406</td>\n",
       "      <td>5.718870</td>\n",
       "      <td>128.211.143.3</td>\n",
       "    </tr>\n",
       "    <tr>\n",
       "      <th>5295</th>\n",
       "      <td>169.228.130.40</td>\n",
       "      <td>2816.821244</td>\n",
       "      <td>406</td>\n",
       "      <td>30.762679</td>\n",
       "      <td>128.211.143.3</td>\n",
       "    </tr>\n",
       "    <tr>\n",
       "      <th>5296</th>\n",
       "      <td>129.93.239.148</td>\n",
       "      <td>823.967623</td>\n",
       "      <td>405</td>\n",
       "      <td>12.261262</td>\n",
       "      <td>128.211.143.3</td>\n",
       "    </tr>\n",
       "    <tr>\n",
       "      <th>5297</th>\n",
       "      <td>18.12.1.171</td>\n",
       "      <td>1334.994438</td>\n",
       "      <td>403</td>\n",
       "      <td>17.307610</td>\n",
       "      <td>128.211.143.3</td>\n",
       "    </tr>\n",
       "  </tbody>\n",
       "</table>\n",
       "</div>"
      ],
      "text/plain": [
       "                 dest         dist  docs        owd            src\n",
       "5289    200.17.30.135  6497.569212   413  79.660038  128.211.143.3\n",
       "5290  192.111.108.112   475.951715   410  15.703467  128.211.143.3\n",
       "5291   128.227.221.44  1268.656758   409  17.633580  128.211.143.3\n",
       "5292    200.136.80.20  6497.569212   408  91.221478  128.211.143.3\n",
       "5293   131.225.205.12   198.493479   406   3.849403  128.211.143.3\n",
       "5294    144.92.180.75   360.238859   406   5.718870  128.211.143.3\n",
       "5295   169.228.130.40  2816.821244   406  30.762679  128.211.143.3\n",
       "5296   129.93.239.148   823.967623   405  12.261262  128.211.143.3\n",
       "5297      18.12.1.171  1334.994438   403  17.307610  128.211.143.3"
      ]
     },
     "execution_count": 14,
     "metadata": {},
     "output_type": "execute_result"
    }
   ],
   "source": [
    "data[data.src=='128.211.143.3']"
   ]
  },
  {
   "cell_type": "code",
   "execution_count": 15,
   "metadata": {
    "collapsed": false
   },
   "outputs": [
    {
     "data": {
      "text/html": [
       "<div>\n",
       "<table border=\"1\" class=\"dataframe\">\n",
       "  <thead>\n",
       "    <tr style=\"text-align: right;\">\n",
       "      <th></th>\n",
       "      <th>dest</th>\n",
       "      <th>dist</th>\n",
       "      <th>docs</th>\n",
       "      <th>owd</th>\n",
       "      <th>src</th>\n",
       "    </tr>\n",
       "  </thead>\n",
       "  <tbody>\n",
       "    <tr>\n",
       "      <th>5457</th>\n",
       "      <td>193.170.243.215</td>\n",
       "      <td>417.283076</td>\n",
       "      <td>125</td>\n",
       "      <td>28.701061</td>\n",
       "      <td>132.230.202.235</td>\n",
       "    </tr>\n",
       "    <tr>\n",
       "      <th>5458</th>\n",
       "      <td>134.158.150.245</td>\n",
       "      <td>335.970772</td>\n",
       "      <td>122</td>\n",
       "      <td>-6.689765</td>\n",
       "      <td>132.230.202.235</td>\n",
       "    </tr>\n",
       "    <tr>\n",
       "      <th>5459</th>\n",
       "      <td>193.206.93.45</td>\n",
       "      <td>693.676706</td>\n",
       "      <td>122</td>\n",
       "      <td>23.283892</td>\n",
       "      <td>132.230.202.235</td>\n",
       "    </tr>\n",
       "    <tr>\n",
       "      <th>5460</th>\n",
       "      <td>134.158.73.243</td>\n",
       "      <td>335.970772</td>\n",
       "      <td>120</td>\n",
       "      <td>5.614766</td>\n",
       "      <td>132.230.202.235</td>\n",
       "    </tr>\n",
       "    <tr>\n",
       "      <th>5462</th>\n",
       "      <td>192.101.107.152</td>\n",
       "      <td>8345.371191</td>\n",
       "      <td>119</td>\n",
       "      <td>80.768704</td>\n",
       "      <td>132.230.202.235</td>\n",
       "    </tr>\n",
       "    <tr>\n",
       "      <th>5463</th>\n",
       "      <td>192.101.161.186</td>\n",
       "      <td>1297.569558</td>\n",
       "      <td>119</td>\n",
       "      <td>-7.693579</td>\n",
       "      <td>132.230.202.235</td>\n",
       "    </tr>\n",
       "    <tr>\n",
       "      <th>5464</th>\n",
       "      <td>134.61.24.193</td>\n",
       "      <td>333.056947</td>\n",
       "      <td>118</td>\n",
       "      <td>4.948479</td>\n",
       "      <td>132.230.202.235</td>\n",
       "    </tr>\n",
       "    <tr>\n",
       "      <th>5465</th>\n",
       "      <td>134.219.225.13</td>\n",
       "      <td>714.149027</td>\n",
       "      <td>116</td>\n",
       "      <td>19.992020</td>\n",
       "      <td>132.230.202.235</td>\n",
       "    </tr>\n",
       "    <tr>\n",
       "      <th>5466</th>\n",
       "      <td>18.12.1.171</td>\n",
       "      <td>5945.415565</td>\n",
       "      <td>114</td>\n",
       "      <td>49.487674</td>\n",
       "      <td>132.230.202.235</td>\n",
       "    </tr>\n",
       "  </tbody>\n",
       "</table>\n",
       "</div>"
      ],
      "text/plain": [
       "                 dest         dist  docs        owd              src\n",
       "5457  193.170.243.215   417.283076   125  28.701061  132.230.202.235\n",
       "5458  134.158.150.245   335.970772   122  -6.689765  132.230.202.235\n",
       "5459    193.206.93.45   693.676706   122  23.283892  132.230.202.235\n",
       "5460   134.158.73.243   335.970772   120   5.614766  132.230.202.235\n",
       "5462  192.101.107.152  8345.371191   119  80.768704  132.230.202.235\n",
       "5463  192.101.161.186  1297.569558   119  -7.693579  132.230.202.235\n",
       "5464    134.61.24.193   333.056947   118   4.948479  132.230.202.235\n",
       "5465   134.219.225.13   714.149027   116  19.992020  132.230.202.235\n",
       "5466      18.12.1.171  5945.415565   114  49.487674  132.230.202.235"
      ]
     },
     "execution_count": 15,
     "metadata": {},
     "output_type": "execute_result"
    }
   ],
   "source": [
    "data[data.src=='132.230.202.235']"
   ]
  },
  {
   "cell_type": "code",
   "execution_count": null,
   "metadata": {
    "collapsed": true
   },
   "outputs": [],
   "source": []
  },
  {
   "cell_type": "code",
   "execution_count": null,
   "metadata": {
    "collapsed": true
   },
   "outputs": [],
   "source": []
  }
 ],
 "metadata": {
  "kernelspec": {
   "display_name": "Python 3",
   "language": "python",
   "name": "python3"
  },
  "language_info": {
   "codemirror_mode": {
    "name": "ipython",
    "version": 3
   },
   "file_extension": ".py",
   "mimetype": "text/x-python",
   "name": "python",
   "nbconvert_exporter": "python",
   "pygments_lexer": "ipython3",
   "version": "3.5.1"
  }
 },
 "nbformat": 4,
 "nbformat_minor": 0
}
