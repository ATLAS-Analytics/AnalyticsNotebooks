{
 "cells": [
  {
   "cell_type": "markdown",
   "metadata": {},
   "source": [
    "# GeoDistance check of OWDs - automatic"
   ]
  },
  {
   "cell_type": "code",
   "execution_count": 6,
   "metadata": {},
   "outputs": [],
   "source": [
    "%matplotlib inline\n",
    "\n",
    "import requests\n",
    "import math\n",
    "import datetime\n",
    "\n",
    "try: import simplejson as json\n",
    "except ImportError: import json\n",
    "\n",
    "from elasticsearch import Elasticsearch\n",
    "import matplotlib.pyplot as plt\n",
    "import numpy as np\n",
    "import pandas as pd\n",
    "\n",
    "es = Elasticsearch(['atlas-kibana.mwt2.org:9200'],timeout=60)\n",
    "\n",
    "my_query = {}\n",
    "OWDpos={}"
   ]
  },
  {
   "cell_type": "markdown",
   "metadata": {},
   "source": [
    "As there is a lot of shards here, we have to use only the last ones"
   ]
  },
  {
   "cell_type": "code",
   "execution_count": 9,
   "metadata": {},
   "outputs": [
    {
     "name": "stdout",
     "output_type": "stream",
     "text": [
      "checking for indices: network_weather-2017.1.9 network_weather-2017.1.8\n",
      "will use indices: ['network_weather-2017.1.9']\n"
     ]
    }
   ],
   "source": [
    "indices = es.cat.indices(index=\"network_weather-*\", h=\"index\", request_timeout=600).split('\\n')\n",
    "indices = [x for x in indices if x != '']\n",
    "indices = [x.strip() for x in indices]\n",
    "\n",
    "cday  = datetime.datetime.utcnow()\n",
    "pday  = cday - datetime.timedelta(days=1)\n",
    "ind1 = 'network_weather-%d.%d.%d' % (cday.year, cday.month, cday.day)\n",
    "ind2 = 'network_weather-%d.%d.%d' % (pday.year, pday.month, pday.day)\n",
    "\n",
    "print ('checking for indices:', ind1, ind2)\n",
    "\n",
    "ind=[]\n",
    "if ind1 in indices :\n",
    "   ind.append(ind1)\n",
    "if ind2 in indices and cday.hour<3:\n",
    "   ind.append(ind2)\n",
    "\n",
    "if len(ind)==0:\n",
    "   print ('no current indices found. Aborting.')\n",
    "   sys.exit(1)\n",
    "else:\n",
    "   print('will use indices:', ind)"
   ]
  },
  {
   "cell_type": "code",
   "execution_count": 10,
   "metadata": {},
   "outputs": [],
   "source": [
    "query={\n",
    "   \"size\": 0,\n",
    "   \"query\": {\n",
    "    \"bool\": {\n",
    "      \"must\": [\n",
    "        {\"term\": { \"_type\" : \"latency\"}}\n",
    "      ]\n",
    "#     , \"filter\" : {\n",
    "#         'range': {'timestamp': {'gte': '20161111T000000+0000'}}\n",
    "#       }\n",
    "    }\n",
    "   },\n",
    "    \"aggs\" : {\n",
    "      \"src\" : {\n",
    "        \"terms\" : { \"field\" : \"src\", \"size\": 1000 },\n",
    "        \"aggs\" : {\n",
    "          \"dest\" : {\n",
    "            \"terms\" : {\"field\" : \"dest\", \"size\": 1000},\n",
    "            \"aggs\" : {\n",
    "              \"avgde\" : {\n",
    "                \"avg\" :{ \"field\" : \"delay_mean\" }\n",
    "              }\n",
    "          }\n",
    "        }\n",
    "      }\n",
    "    }\n",
    "    }        \n",
    "}\n",
    "\n",
    "res = es.search(index=ind, body=query, request_timeout=120)"
   ]
  },
  {
   "cell_type": "code",
   "execution_count": 11,
   "metadata": {},
   "outputs": [],
   "source": [
    "def getServerLongLat(ip):\n",
    "    \n",
    "    if ip in OWDpos:\n",
    "        return OWDpos[ip]\n",
    "    \n",
    "    try:\n",
    "        req = requests.get(\"http://geoip.mwt2.org:4288/json/\"+ip, None)\n",
    "        res=req.json()\n",
    "        lon=res['longitude']\n",
    "        lat=res['latitude']\n",
    "        pos=[lon,lat]\n",
    "        OWDpos[ip]=pos\n",
    "        return pos\n",
    "    except:\n",
    "        pass\n",
    "#         print (\"Can't determine coordinates. Trying next one.\", ip)\n",
    "        \n",
    "    try:\n",
    "        req = requests.get(\"http://freegeoip.net/json/\"+ip, None)\n",
    "        res=req.json()\n",
    "        lon=res['longitude']\n",
    "        lat=res['latitude']\n",
    "        pos=[lon,lat]\n",
    "        OWDpos[ip]=pos\n",
    "        return pos\n",
    "    except:\n",
    "        print (\"Can't determine coordinates\", ip)\n",
    "        \n",
    "def getDistance(ip1,ip2):\n",
    "    p1=getServerLongLat(ip1)\n",
    "    p2=getServerLongLat(ip2)\n",
    "    if not p1 or not p2: return 0.0\n",
    "    dlon = math.radians(p1[0] - p2[0])\n",
    "    dlat = math.radians(p1[1] - p2[1])\n",
    "    a = pow(math.sin(dlat/2),2) + math.cos(math.radians(p2[1])) * math.cos(math.radians(p1[1])) * pow(math.sin(dlon/2),2)\n",
    "    c = 2 * math.atan2( math.sqrt(a), math.sqrt(1-a) )\n",
    "    d = 6373 * c # 6373 is the radius of the Earth in km\n",
    "    return d  "
   ]
  },
  {
   "cell_type": "markdown",
   "metadata": {},
   "source": [
    "  Creating DataFrame with all the data        "
   ]
  },
  {
   "cell_type": "code",
   "execution_count": 12,
   "metadata": {
    "scrolled": false
   },
   "outputs": [
    {
     "name": "stdout",
     "output_type": "stream",
     "text": [
      "131.169.98.30 -> 129.93.239.148 \tdocs: 909 \tAvg OWD: 66.99   Dist:7411.7\n",
      "131.169.98.30 -> 130.246.176.109 \tdocs: 893 \tAvg OWD: 15.50   Dist:792.5\n",
      "131.169.98.30 -> 148.187.64.25 \tdocs: 858 \tAvg OWD: 14.36   Dist:842.4\n",
      "131.169.98.30 -> 192.111.108.112 \tdocs: 858 \tAvg OWD: 61.65   Dist:7263.4\n",
      "131.169.98.30 -> 193.48.101.41 \tdocs: 858 \tAvg OWD: 32.60   Dist:745.1\n",
      "131.169.98.30 -> 202.122.32.170 \tdocs: 809 \tAvg OWD: 139.10   Dist:7473.1\n",
      "131.169.98.30 -> 192.101.107.152 \tdocs: 740 \tAvg OWD: 87.88   Dist:7922.4\n",
      "131.169.98.30 -> 144.206.237.142 \tdocs: 572 \tAvg OWD: 31.60   Dist:1781.8\n",
      "131.169.98.30 -> 192.54.207.250 \tdocs: 536 \tAvg OWD: 27.43   Dist:745.1\n",
      "131.169.98.30 -> 129.15.40.231 \tdocs: 436 \tAvg OWD: 70.41   Dist:7943.6\n"
     ]
    }
   ],
   "source": [
    "ser = res['aggregations']['src']['buckets']\n",
    "count=10\n",
    "src=[]\n",
    "dest=[]\n",
    "docs=[]\n",
    "dist=[]\n",
    "owd=[]\n",
    "for s in ser:\n",
    "    des=s['dest']['buckets']\n",
    "    for d in des:\n",
    "        delay = d['avgde']['value']\n",
    "        distance = getDistance(s['key'], d['key'])\n",
    "        \n",
    "        src.append( s['key'])\n",
    "        dest.append(d['key'])\n",
    "        docs.append(d['doc_count'])\n",
    "        dist.append(distance)\n",
    "        owd.append( delay)\n",
    "        \n",
    "        if count>0:\n",
    "            count -= 1\n",
    "            print ( s['key'], '->', d['key'], '\\tdocs:', d['doc_count'], '\\tAvg OWD: {:.2f}   Dist:{:.1f}'.format(delay, distance))\n",
    "        "
   ]
  },
  {
   "cell_type": "code",
   "execution_count": 13,
   "metadata": {},
   "outputs": [
    {
     "name": "stdout",
     "output_type": "stream",
     "text": [
      "(4876, 5)\n"
     ]
    },
    {
     "data": {
      "text/html": [
       "<div>\n",
       "<table border=\"1\" class=\"dataframe\">\n",
       "  <thead>\n",
       "    <tr style=\"text-align: right;\">\n",
       "      <th></th>\n",
       "      <th>dest</th>\n",
       "      <th>dist</th>\n",
       "      <th>docs</th>\n",
       "      <th>owd</th>\n",
       "      <th>src</th>\n",
       "    </tr>\n",
       "  </thead>\n",
       "  <tbody>\n",
       "    <tr>\n",
       "      <th>0</th>\n",
       "      <td>129.93.239.148</td>\n",
       "      <td>7411.681188</td>\n",
       "      <td>909</td>\n",
       "      <td>66.986916</td>\n",
       "      <td>131.169.98.30</td>\n",
       "    </tr>\n",
       "    <tr>\n",
       "      <th>1</th>\n",
       "      <td>130.246.176.109</td>\n",
       "      <td>792.532551</td>\n",
       "      <td>893</td>\n",
       "      <td>15.496354</td>\n",
       "      <td>131.169.98.30</td>\n",
       "    </tr>\n",
       "    <tr>\n",
       "      <th>2</th>\n",
       "      <td>148.187.64.25</td>\n",
       "      <td>842.445650</td>\n",
       "      <td>858</td>\n",
       "      <td>14.360855</td>\n",
       "      <td>131.169.98.30</td>\n",
       "    </tr>\n",
       "    <tr>\n",
       "      <th>3</th>\n",
       "      <td>192.111.108.112</td>\n",
       "      <td>7263.372082</td>\n",
       "      <td>858</td>\n",
       "      <td>61.651042</td>\n",
       "      <td>131.169.98.30</td>\n",
       "    </tr>\n",
       "    <tr>\n",
       "      <th>4</th>\n",
       "      <td>193.48.101.41</td>\n",
       "      <td>745.122152</td>\n",
       "      <td>858</td>\n",
       "      <td>32.603765</td>\n",
       "      <td>131.169.98.30</td>\n",
       "    </tr>\n",
       "  </tbody>\n",
       "</table>\n",
       "</div>"
      ],
      "text/plain": [
       "              dest         dist  docs        owd            src\n",
       "0   129.93.239.148  7411.681188   909  66.986916  131.169.98.30\n",
       "1  130.246.176.109   792.532551   893  15.496354  131.169.98.30\n",
       "2    148.187.64.25   842.445650   858  14.360855  131.169.98.30\n",
       "3  192.111.108.112  7263.372082   858  61.651042  131.169.98.30\n",
       "4    193.48.101.41   745.122152   858  32.603765  131.169.98.30"
      ]
     },
     "execution_count": 13,
     "metadata": {},
     "output_type": "execute_result"
    }
   ],
   "source": [
    "data = pd.DataFrame({'src':src, 'dest':dest, 'docs':docs, 'owd':owd, 'dist':dist})\n",
    "print(data.shape)\n",
    "data.head()"
   ]
  },
  {
   "cell_type": "code",
   "execution_count": 14,
   "metadata": {},
   "outputs": [
    {
     "name": "stdout",
     "output_type": "stream",
     "text": [
      "(4832, 5)\n"
     ]
    },
    {
     "data": {
      "text/html": [
       "<div>\n",
       "<table border=\"1\" class=\"dataframe\">\n",
       "  <thead>\n",
       "    <tr style=\"text-align: right;\">\n",
       "      <th></th>\n",
       "      <th>dist</th>\n",
       "      <th>docs</th>\n",
       "      <th>owd</th>\n",
       "    </tr>\n",
       "  </thead>\n",
       "  <tbody>\n",
       "    <tr>\n",
       "      <th>count</th>\n",
       "      <td>4832.000000</td>\n",
       "      <td>4832.000000</td>\n",
       "      <td>4832.000000</td>\n",
       "    </tr>\n",
       "    <tr>\n",
       "      <th>mean</th>\n",
       "      <td>4545.763649</td>\n",
       "      <td>288.128104</td>\n",
       "      <td>49.877098</td>\n",
       "    </tr>\n",
       "    <tr>\n",
       "      <th>std</th>\n",
       "      <td>3923.193336</td>\n",
       "      <td>118.493620</td>\n",
       "      <td>41.134804</td>\n",
       "    </tr>\n",
       "    <tr>\n",
       "      <th>min</th>\n",
       "      <td>0.000000</td>\n",
       "      <td>101.000000</td>\n",
       "      <td>-11.053989</td>\n",
       "    </tr>\n",
       "    <tr>\n",
       "      <th>25%</th>\n",
       "      <td>965.546279</td>\n",
       "      <td>255.000000</td>\n",
       "      <td>16.829392</td>\n",
       "    </tr>\n",
       "    <tr>\n",
       "      <th>50%</th>\n",
       "      <td>2808.827385</td>\n",
       "      <td>258.000000</td>\n",
       "      <td>39.082251</td>\n",
       "    </tr>\n",
       "    <tr>\n",
       "      <th>75%</th>\n",
       "      <td>7765.850678</td>\n",
       "      <td>260.000000</td>\n",
       "      <td>73.219556</td>\n",
       "    </tr>\n",
       "    <tr>\n",
       "      <th>max</th>\n",
       "      <td>19065.338076</td>\n",
       "      <td>2566.000000</td>\n",
       "      <td>234.649242</td>\n",
       "    </tr>\n",
       "  </tbody>\n",
       "</table>\n",
       "</div>"
      ],
      "text/plain": [
       "               dist         docs          owd\n",
       "count   4832.000000  4832.000000  4832.000000\n",
       "mean    4545.763649   288.128104    49.877098\n",
       "std     3923.193336   118.493620    41.134804\n",
       "min        0.000000   101.000000   -11.053989\n",
       "25%      965.546279   255.000000    16.829392\n",
       "50%     2808.827385   258.000000    39.082251\n",
       "75%     7765.850678   260.000000    73.219556\n",
       "max    19065.338076  2566.000000   234.649242"
      ]
     },
     "execution_count": 14,
     "metadata": {},
     "output_type": "execute_result"
    }
   ],
   "source": [
    "#cleaning up ones with not many measurements\n",
    "data=data[data.docs > 100]\n",
    "print(data.shape)\n",
    "data.describe()"
   ]
  },
  {
   "cell_type": "markdown",
   "metadata": {},
   "source": [
    "For servers that appear in at least 2 links, calculate abs of difference of mean of forward and backward OWDs. Return as sorted dataframe."
   ]
  },
  {
   "cell_type": "code",
   "execution_count": 15,
   "metadata": {},
   "outputs": [],
   "source": [
    "def differentialOWDs(data):\n",
    "\n",
    "    # first group by src and dest \n",
    "    groupedBySrc = data.groupby('src')\n",
    "    groupedByDest = data.groupby('dest')\n",
    "    #groupedBySrc.head()\n",
    "    \n",
    "    src=[]\n",
    "    fwd=[]\n",
    "    rew=[]\n",
    "    for name, group in groupedBySrc:\n",
    "       #print(name, group.owd.mean())\n",
    "       if group.owd.count()>2:\n",
    "            src.append(name)\n",
    "            fwd.append(group.owd.mean())\n",
    "    fwdDF=pd.DataFrame({'fwd':fwd},index=src)\n",
    "    fwdDF.head()\n",
    "    dst=[]\n",
    "    for name, group in groupedByDest:\n",
    "       #print(name, group.owd.mean())\n",
    "       if group.owd.count()>2:\n",
    "            dst.append(name)\n",
    "            rew.append(group.owd.mean())\n",
    "    rewDF=pd.DataFrame({'rew':rew},index=dst)\n",
    "    rewDF.head()\n",
    "\n",
    "    TWD=pd.concat([fwdDF,rewDF], axis=1)\n",
    "\n",
    "    TWD['diff']=TWD.fwd-TWD.rew\n",
    "    TWD['diff']=TWD['diff'].abs()\n",
    "    TWD=TWD.dropna()\n",
    "    TWD=TWD.sort_values('diff',ascending=False)\n",
    "    \n",
    "    n, bins, patches = plt.hist(TWD['diff'].tolist(), bins=np.logspace(0.1, 4.0, 50), histtype='stepfilled')\n",
    "    plt.gca().set_xscale(\"log\")\n",
    "    plt.show()\n",
    "    \n",
    "    return TWD"
   ]
  },
  {
   "cell_type": "code",
   "execution_count": 16,
   "metadata": {},
   "outputs": [
    {
     "data": {
      "image/png": "[encoded data removed]",
      "text/plain": [
       "<matplotlib.figure.Figure at 0x7fb76ff3c2e8>"
      ]
     },
     "metadata": {},
     "output_type": "display_data"
    },
    {
     "data": {
      "text/html": [
       "<div>\n",
       "<table border=\"1\" class=\"dataframe\">\n",
       "  <thead>\n",
       "    <tr style=\"text-align: right;\">\n",
       "      <th></th>\n",
       "      <th>fwd</th>\n",
       "      <th>rew</th>\n",
       "      <th>diff</th>\n",
       "    </tr>\n",
       "  </thead>\n",
       "  <tbody>\n",
       "    <tr>\n",
       "      <th>192.101.161.186</th>\n",
       "      <td>58.869907</td>\n",
       "      <td>-1.304315</td>\n",
       "      <td>60.174222</td>\n",
       "    </tr>\n",
       "    <tr>\n",
       "      <th>134.158.132.200</th>\n",
       "      <td>34.873445</td>\n",
       "      <td>62.975448</td>\n",
       "      <td>28.102004</td>\n",
       "    </tr>\n",
       "    <tr>\n",
       "      <th>2401:de00::302</th>\n",
       "      <td>151.878934</td>\n",
       "      <td>125.595557</td>\n",
       "      <td>26.283377</td>\n",
       "    </tr>\n",
       "    <tr>\n",
       "      <th>202.13.203.129</th>\n",
       "      <td>64.295513</td>\n",
       "      <td>89.939941</td>\n",
       "      <td>25.644428</td>\n",
       "    </tr>\n",
       "    <tr>\n",
       "      <th>134.158.150.245</th>\n",
       "      <td>34.494568</td>\n",
       "      <td>9.235002</td>\n",
       "      <td>25.259566</td>\n",
       "    </tr>\n",
       "  </tbody>\n",
       "</table>\n",
       "</div>"
      ],
      "text/plain": [
       "                        fwd         rew       diff\n",
       "192.101.161.186   58.869907   -1.304315  60.174222\n",
       "134.158.132.200   34.873445   62.975448  28.102004\n",
       "2401:de00::302   151.878934  125.595557  26.283377\n",
       "202.13.203.129    64.295513   89.939941  25.644428\n",
       "134.158.150.245   34.494568    9.235002  25.259566"
      ]
     },
     "execution_count": 16,
     "metadata": {},
     "output_type": "execute_result"
    }
   ],
   "source": [
    "# Look for the worst\n",
    "dOWDs = differentialOWDs(data)\n",
    "dOWDs.head()"
   ]
  },
  {
   "cell_type": "code",
   "execution_count": 22,
   "metadata": {},
   "outputs": [
    {
     "data": {
      "image/png": "[encoded data removed]",
      "text/plain": [
       "<matplotlib.figure.Figure at 0x7fb71dd3f400>"
      ]
     },
     "metadata": {},
     "output_type": "display_data"
    },
    {
     "data": {
      "image/png": "[encoded data removed]",
      "text/plain": [
       "<matplotlib.figure.Figure at 0x7fb76fc41748>"
      ]
     },
     "metadata": {},
     "output_type": "display_data"
    },
    {
     "data": {
      "image/png": "[encoded data removed]",
      "text/plain": [
       "<matplotlib.figure.Figure at 0x7fb76fbbc048>"
      ]
     },
     "metadata": {},
     "output_type": "display_data"
    },
    {
     "data": {
      "text/html": [
       "<div>\n",
       "<table border=\"1\" class=\"dataframe\">\n",
       "  <thead>\n",
       "    <tr style=\"text-align: right;\">\n",
       "      <th></th>\n",
       "      <th>fwd</th>\n",
       "      <th>rew</th>\n",
       "      <th>diff</th>\n",
       "    </tr>\n",
       "  </thead>\n",
       "  <tbody>\n",
       "    <tr>\n",
       "      <th>2401:de00::302</th>\n",
       "      <td>151.878934</td>\n",
       "      <td>125.595557</td>\n",
       "      <td>26.283377</td>\n",
       "    </tr>\n",
       "    <tr>\n",
       "      <th>202.13.203.129</th>\n",
       "      <td>64.295513</td>\n",
       "      <td>89.939941</td>\n",
       "      <td>25.644428</td>\n",
       "    </tr>\n",
       "    <tr>\n",
       "      <th>195.19.226.144</th>\n",
       "      <td>14.494227</td>\n",
       "      <td>34.917205</td>\n",
       "      <td>20.422978</td>\n",
       "    </tr>\n",
       "    <tr>\n",
       "      <th>132.230.202.235</th>\n",
       "      <td>32.467099</td>\n",
       "      <td>13.620132</td>\n",
       "      <td>18.846967</td>\n",
       "    </tr>\n",
       "    <tr>\n",
       "      <th>134.158.123.183</th>\n",
       "      <td>45.768289</td>\n",
       "      <td>27.959024</td>\n",
       "      <td>17.809265</td>\n",
       "    </tr>\n",
       "  </tbody>\n",
       "</table>\n",
       "</div>"
      ],
      "text/plain": [
       "                        fwd         rew       diff\n",
       "2401:de00::302   151.878934  125.595557  26.283377\n",
       "202.13.203.129    64.295513   89.939941  25.644428\n",
       "195.19.226.144    14.494227   34.917205  20.422978\n",
       "132.230.202.235   32.467099   13.620132  18.846967\n",
       "134.158.123.183   45.768289   27.959024  17.809265"
      ]
     },
     "execution_count": 22,
     "metadata": {},
     "output_type": "execute_result"
    }
   ],
   "source": [
    "#remove worst\n",
    "data=data[data.src!='192.101.161.186']\n",
    "data=data[data.dest!='192.101.161.186']\n",
    "\n",
    "dOWDs = differentialOWDs(data)\n",
    "dOWDs.head()\n",
    "\n",
    "data=data[data.src!='134.158.132.200']\n",
    "data=data[data.dest!='134.158.132.200']\n",
    "\n",
    "dOWDs = differentialOWDs(data)\n",
    "dOWDs.head()\n",
    "\n",
    "data=data[data.src!='134.158.150.245']\n",
    "data=data[data.dest!='134.158.150.245']\n",
    "\n",
    "dOWDs = differentialOWDs(data)\n",
    "dOWDs.head()\n",
    "\n",
    "# data=data[data.src!='192.41.236.35']\n",
    "# data=data[data.dest!='192.41.236.35']\n",
    "\n",
    "# dOWDs = differentialOWDs(data)\n",
    "# dOWDs.head(10)"
   ]
  },
  {
   "cell_type": "code",
   "execution_count": 23,
   "metadata": {},
   "outputs": [
    {
     "data": {
      "text/html": [
       "<div>\n",
       "<table border=\"1\" class=\"dataframe\">\n",
       "  <thead>\n",
       "    <tr style=\"text-align: right;\">\n",
       "      <th></th>\n",
       "      <th>dest</th>\n",
       "      <th>dist</th>\n",
       "      <th>docs</th>\n",
       "      <th>owd</th>\n",
       "      <th>src</th>\n",
       "    </tr>\n",
       "  </thead>\n",
       "  <tbody>\n",
       "    <tr>\n",
       "      <th>4624</th>\n",
       "      <td>2001:660:5009:9:193:48:99:76</td>\n",
       "      <td>8171.557708</td>\n",
       "      <td>634</td>\n",
       "      <td>160.948250</td>\n",
       "      <td>2401:de00::302</td>\n",
       "    </tr>\n",
       "    <tr>\n",
       "      <th>4625</th>\n",
       "      <td>2001:630:3c1:638::d546</td>\n",
       "      <td>7912.866740</td>\n",
       "      <td>471</td>\n",
       "      <td>156.297044</td>\n",
       "      <td>2401:de00::302</td>\n",
       "    </tr>\n",
       "    <tr>\n",
       "      <th>4626</th>\n",
       "      <td>2001:630:80:2fd::aaff:59f0</td>\n",
       "      <td>7953.061449</td>\n",
       "      <td>259</td>\n",
       "      <td>159.423456</td>\n",
       "      <td>2401:de00::302</td>\n",
       "    </tr>\n",
       "    <tr>\n",
       "      <th>4627</th>\n",
       "      <td>2001:660:3031:110:ffff::221</td>\n",
       "      <td>8171.557708</td>\n",
       "      <td>259</td>\n",
       "      <td>157.416430</td>\n",
       "      <td>2401:de00::302</td>\n",
       "    </tr>\n",
       "    <tr>\n",
       "      <th>4628</th>\n",
       "      <td>2a01:56c0:4033::26</td>\n",
       "      <td>7912.866740</td>\n",
       "      <td>259</td>\n",
       "      <td>152.400289</td>\n",
       "      <td>2401:de00::302</td>\n",
       "    </tr>\n",
       "    <tr>\n",
       "      <th>4629</th>\n",
       "      <td>2001:638:700:1062::1:1e</td>\n",
       "      <td>7444.531047</td>\n",
       "      <td>246</td>\n",
       "      <td>161.706436</td>\n",
       "      <td>2401:de00::302</td>\n",
       "    </tr>\n",
       "    <tr>\n",
       "      <th>4630</th>\n",
       "      <td>2607:f720:1700:1b30::28</td>\n",
       "      <td>11593.520868</td>\n",
       "      <td>246</td>\n",
       "      <td>86.528552</td>\n",
       "      <td>2401:de00::302</td>\n",
       "    </tr>\n",
       "    <tr>\n",
       "      <th>4631</th>\n",
       "      <td>2001:948:48:1::f501:1</td>\n",
       "      <td>6626.311293</td>\n",
       "      <td>236</td>\n",
       "      <td>176.626093</td>\n",
       "      <td>2401:de00::302</td>\n",
       "    </tr>\n",
       "    <tr>\n",
       "      <th>4632</th>\n",
       "      <td>2001:630:22:1004:800:ff:fe00:28</td>\n",
       "      <td>7912.866740</td>\n",
       "      <td>192</td>\n",
       "      <td>155.563856</td>\n",
       "      <td>2401:de00::302</td>\n",
       "    </tr>\n",
       "  </tbody>\n",
       "</table>\n",
       "</div>"
      ],
      "text/plain": [
       "                                 dest          dist  docs         owd  \\\n",
       "4624     2001:660:5009:9:193:48:99:76   8171.557708   634  160.948250   \n",
       "4625           2001:630:3c1:638::d546   7912.866740   471  156.297044   \n",
       "4626       2001:630:80:2fd::aaff:59f0   7953.061449   259  159.423456   \n",
       "4627      2001:660:3031:110:ffff::221   8171.557708   259  157.416430   \n",
       "4628               2a01:56c0:4033::26   7912.866740   259  152.400289   \n",
       "4629          2001:638:700:1062::1:1e   7444.531047   246  161.706436   \n",
       "4630          2607:f720:1700:1b30::28  11593.520868   246   86.528552   \n",
       "4631            2001:948:48:1::f501:1   6626.311293   236  176.626093   \n",
       "4632  2001:630:22:1004:800:ff:fe00:28   7912.866740   192  155.563856   \n",
       "\n",
       "                 src  \n",
       "4624  2401:de00::302  \n",
       "4625  2401:de00::302  \n",
       "4626  2401:de00::302  \n",
       "4627  2401:de00::302  \n",
       "4628  2401:de00::302  \n",
       "4629  2401:de00::302  \n",
       "4630  2401:de00::302  \n",
       "4631  2401:de00::302  \n",
       "4632  2401:de00::302  "
      ]
     },
     "execution_count": 23,
     "metadata": {},
     "output_type": "execute_result"
    }
   ],
   "source": [
    "data[data.src=='2401:de00::302']"
   ]
  },
  {
   "cell_type": "code",
   "execution_count": 24,
   "metadata": {},
   "outputs": [
    {
     "data": {
      "image/png": "[encoded data removed]",
      "text/plain": [
       "<matplotlib.figure.Figure at 0x7fb76fdb7cf8>"
      ]
     },
     "metadata": {},
     "output_type": "display_data"
    }
   ],
   "source": [
    "plt.figure(figsize=[10, 10])\n",
    "plt.scatter( data.dist, data.owd ,alpha=0.8)\n",
    "x = np.linspace(0, 20000)\n",
    "y = x/(300*0.7)\n",
    "plt.plot(x, y, '-')\n",
    "plt.xlabel('distance [km]')\n",
    "plt.ylabel('OWD [ms]')\n",
    "plt.show()"
   ]
  },
  {
   "cell_type": "code",
   "execution_count": 25,
   "metadata": {},
   "outputs": [
    {
     "name": "stderr",
     "output_type": "stream",
     "text": [
      "/home/ivukotic/anaconda3/lib/python3.5/site-packages/ipykernel/__main__.py:3: SettingWithCopyWarning: \n",
      "A value is trying to be set on a copy of a slice from a DataFrame.\n",
      "Try using .loc[row_indexer,col_indexer] = value instead\n",
      "\n",
      "See the caveats in the documentation: http://pandas.pydata.org/pandas-docs/stable/indexing.html#indexing-view-versus-copy\n",
      "  app.launch_new_instance()\n"
     ]
    },
    {
     "data": {
      "text/html": [
       "<div>\n",
       "<table border=\"1\" class=\"dataframe\">\n",
       "  <thead>\n",
       "    <tr style=\"text-align: right;\">\n",
       "      <th></th>\n",
       "      <th>spd</th>\n",
       "    </tr>\n",
       "  </thead>\n",
       "  <tbody>\n",
       "    <tr>\n",
       "      <th>212.193.96.29</th>\n",
       "      <td>-6.721186</td>\n",
       "    </tr>\n",
       "    <tr>\n",
       "      <th>188.185.224.217</th>\n",
       "      <td>0.002350</td>\n",
       "    </tr>\n",
       "    <tr>\n",
       "      <th>198.124.252.126</th>\n",
       "      <td>0.004533</td>\n",
       "    </tr>\n",
       "    <tr>\n",
       "      <th>198.124.252.97</th>\n",
       "      <td>0.005862</td>\n",
       "    </tr>\n",
       "    <tr>\n",
       "      <th>2001:630:441:905::d2</th>\n",
       "      <td>0.018747</td>\n",
       "    </tr>\n",
       "  </tbody>\n",
       "</table>\n",
       "</div>"
      ],
      "text/plain": [
       "                           spd\n",
       "212.193.96.29        -6.721186\n",
       "188.185.224.217       0.002350\n",
       "198.124.252.126       0.004533\n",
       "198.124.252.97        0.005862\n",
       "2001:630:441:905::d2  0.018747"
      ]
     },
     "execution_count": 25,
     "metadata": {},
     "output_type": "execute_result"
    }
   ],
   "source": [
    "# look for very low speeds\n",
    "data1=data[data.dist>0]\n",
    "data1['speed']=data1.dist/data1.owd/300\n",
    "grouped = data1.groupby('src')\n",
    "grouped.agg({'dist' : 'mean', 'speed':'mean', 'owd' : ['mean','count'] })\n",
    "grouped.head()\n",
    "\n",
    "src=[]\n",
    "spd=[]\n",
    "for name, group in grouped:\n",
    "    #print(name, group.owd.mean())\n",
    "    src.append(name)\n",
    "    spd.append(group.speed.mean())\n",
    "spdDF=pd.DataFrame({'spd':spd},index=src)\n",
    "spdDF=spdDF.sort_values('spd')\n",
    "spdDF.head()\n"
   ]
  },
  {
   "cell_type": "code",
   "execution_count": null,
   "metadata": {},
   "outputs": [],
   "source": [
    "data[data.src=='128.211.143.3']"
   ]
  },
  {
   "cell_type": "code",
   "execution_count": null,
   "metadata": {},
   "outputs": [],
   "source": [
    "data[data.src=='132.230.202.235']"
   ]
  },
  {
   "cell_type": "code",
   "execution_count": null,
   "metadata": {
    "collapsed": true
   },
   "outputs": [],
   "source": []
  },
  {
   "cell_type": "code",
   "execution_count": null,
   "metadata": {
    "collapsed": true
   },
   "outputs": [],
   "source": []
  }
 ],
 "metadata": {
  "kernelspec": {
   "display_name": "Python 3",
   "language": "python",
   "name": "python3"
  },
  "language_info": {
   "codemirror_mode": {
    "name": "ipython",
    "version": 3
   },
   "file_extension": ".py",
   "mimetype": "text/x-python",
   "name": "python",
   "nbconvert_exporter": "python",
   "pygments_lexer": "ipython3",
   "version": "3.4.5"
  }
 },
 "nbformat": 4,
 "nbformat_minor": 1
}
