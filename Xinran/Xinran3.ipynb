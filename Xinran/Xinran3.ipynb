{
 "cells": [
  {
   "cell_type": "markdown",
   "metadata": {},
   "source": [
    "## Import all the needed packages"
   ]
  },
  {
   "cell_type": "code",
   "execution_count": 11,
   "metadata": {
    "collapsed": true
   },
   "outputs": [],
   "source": [
    "# DataFrame\n",
    "import pandas as pd\n",
    "\n",
    "# Elasticsearch\n",
    "from elasticsearch import Elasticsearch"
   ]
  },
  {
   "cell_type": "markdown",
   "metadata": {},
   "source": [
    "## Create the local raw_data_pool"
   ]
  },
  {
   "cell_type": "code",
   "execution_count": 2,
   "metadata": {
    "collapsed": true
   },
   "outputs": [],
   "source": [
    "raw_data_pool = {}\n",
    "\n",
    "def make_sure(src_site, dest_site):\n",
    "    if src_site not in raw_data_pool:\n",
    "        raw_data_pool[src_site] = {}\n",
    "    if dest_site not in raw_data_pool[src_site]:\n",
    "        raw_data_pool[src_site][dest_site] = pd.DataFrame()\n",
    "\n",
    "def put_data(src_site, dest_site, timestamp, column_type, value):\n",
    "    make_sure(src_site, dest_site)\n",
    "    raw_data_pool[src_site][dest_site].set_value(timestamp, column_type, value)"
   ]
  },
  {
   "cell_type": "markdown",
   "metadata": {},
   "source": [
    "## Create the elasticsearch connection"
   ]
  },
  {
   "cell_type": "code",
   "execution_count": 12,
   "metadata": {
    "collapsed": false
   },
   "outputs": [],
   "source": [
    "es = Elasticsearch(['atlas-kibana.mwt2.org:9200'])\n",
    "my_index = \"network_weather_2-*\"\n",
    "my_query = {}\n",
    "my_timeout = 600"
   ]
  },
  {
   "cell_type": "code",
   "execution_count": 22,
   "metadata": {
    "collapsed": true
   },
   "outputs": [],
   "source": [
    "my_query = \\\n",
    "{\n",
    "  \"size\": 0,\n",
    "  \"sort\": [\n",
    "    {\n",
    "      \"timestamp\": {\n",
    "        \"order\": \"desc\",\n",
    "        \"unmapped_type\": \"boolean\"\n",
    "      }\n",
    "    }\n",
    "  ],\n",
    "  \"query\": {\n",
    "    \"filtered\": {\n",
    "      \"query\": {\n",
    "        \"query_string\": {\n",
    "          \"analyze_wildcard\": True,\n",
    "          \"lowercase_expanded_terms\": False,\n",
    "          \"query\": \"*\"\n",
    "        }\n",
    "      },\n",
    "      \"filter\": {\n",
    "        \"bool\": {\n",
    "          \"must\": [\n",
    "            {\n",
    "              \"query\": {\n",
    "                \"match\": {\n",
    "                  \"srcSite\": {\n",
    "                    \"query\": \"Australia-ATLAS\",\n",
    "                    \"type\": \"phrase\"\n",
    "                  }\n",
    "                }\n",
    "              }\n",
    "            },\n",
    "            {\n",
    "              \"query\": {\n",
    "                \"match\": {\n",
    "                  \"destSite\": {\n",
    "                    \"query\": \"SFU-LCG2\",\n",
    "                    \"type\": \"phrase\"\n",
    "                  }\n",
    "                }\n",
    "              }\n",
    "            },\n",
    "            {\n",
    "              \"range\": {\n",
    "                \"timestamp\": {\n",
    "                  \"gte\": 1454306400000,\n",
    "                  \"lte\": 1456812000000,\n",
    "                  \"format\": \"epoch_millis\"\n",
    "                }\n",
    "              }\n",
    "            }\n",
    "          ],\n",
    "          \"must_not\": []\n",
    "        }\n",
    "      }\n",
    "    }\n",
    "  },\n",
    "  \"aggs\": {\n",
    "    \"2\": {\n",
    "      \"date_histogram\": {\n",
    "        \"field\": \"timestamp\",\n",
    "        \"interval\": \"1d\",\n",
    "        \"time_zone\": \"America/Chicago\",\n",
    "        \"min_doc_count\": 0,\n",
    "        \"extended_bounds\": {\n",
    "          \"min\": 1454306400000,\n",
    "          \"max\": 1456812000000\n",
    "        }\n",
    "      }\n",
    "    }\n",
    "  },\n",
    "  \"fields\": [\n",
    "    \"*\",\n",
    "    \"_source\"\n",
    "  ],\n",
    "  \"script_fields\": {\n",
    "    \"throughput [Gbps]\": {\n",
    "      \"script\": \"doc['throughput'].value/1073741824.0\",\n",
    "      \"lang\": \"expression\"\n",
    "    }\n",
    "  },\n",
    "  \"fielddata_fields\": [\n",
    "    \"timestamp\"\n",
    "  ]\n",
    "}"
   ]
  },
  {
   "cell_type": "code",
   "execution_count": 14,
   "metadata": {
    "collapsed": false
   },
   "outputs": [
    {
     "data": {
      "text/plain": [
       "{'aggs': {'2': {'date_histogram': {'extended_bounds': {'max': 1456812000000,\n",
       "     'min': 1454306400000},\n",
       "    'field': 'timestamp',\n",
       "    'interval': '1d',\n",
       "    'min_doc_count': 0,\n",
       "    'time_zone': 'America/Chicago'}}},\n",
       " 'fielddata_fields': ['timestamp'],\n",
       " 'fields': ['*', '_source'],\n",
       " 'query': {'filtered': {'filter': {'bool': {'must': [{'query': {'match': {'srcSite': {'query': 'Australia-ATLAS',\n",
       "          'type': 'phrase'}}}},\n",
       "      {'query': {'match': {'destSite': {'query': 'SFU-LCG2',\n",
       "          'type': 'phrase'}}}},\n",
       "      {'range': {'timestamp': {'format': 'epoch_millis',\n",
       "         'gte': 1454306400000,\n",
       "         'lte': 1456812000000}}}],\n",
       "     'must_not': []}},\n",
       "   'query': {'query_string': {'analyze_wildcard': True,\n",
       "     'lowercase_expanded_terms': False,\n",
       "     'query': '*'}}}},\n",
       " 'script_fields': {'throughput [Gbps]': {'lang': 'expression',\n",
       "   'script': \"doc['throughput'].value/1073741824.0\"}},\n",
       " 'size': 10000,\n",
       " 'sort': [{'timestamp': {'order': 'desc', 'unmapped_type': 'boolean'}}]}"
      ]
     },
     "execution_count": 14,
     "metadata": {},
     "output_type": "execute_result"
    }
   ],
   "source": [
    "my_query"
   ]
  },
  {
   "cell_type": "code",
   "execution_count": 15,
   "metadata": {
    "collapsed": false
   },
   "outputs": [
    {
     "data": {
      "text/plain": [
       "dict"
      ]
     },
     "execution_count": 15,
     "metadata": {},
     "output_type": "execute_result"
    }
   ],
   "source": [
    "type(my_query)"
   ]
  },
  {
   "cell_type": "code",
   "execution_count": 19,
   "metadata": {
    "collapsed": false
   },
   "outputs": [
    {
     "data": {
      "text/plain": [
       "{'bool': {'must': [{'query': {'match': {'srcSite': {'query': 'Australia-ATLAS',\n",
       "       'type': 'phrase'}}}},\n",
       "   {'query': {'match': {'destSite': {'query': 'SFU-LCG2', 'type': 'phrase'}}}},\n",
       "   {'range': {'timestamp': {'format': 'epoch_millis',\n",
       "      'gte': 1454306400000,\n",
       "      'lte': 1456812000000}}}],\n",
       "  'must_not': []}}"
      ]
     },
     "execution_count": 19,
     "metadata": {},
     "output_type": "execute_result"
    }
   ],
   "source": [
    "my_query[\"query\"][\"filtered\"][\"filter\"]"
   ]
  },
  {
   "cell_type": "code",
   "execution_count": 23,
   "metadata": {
    "collapsed": true
   },
   "outputs": [],
   "source": [
    "response = es.search(index=my_index, body=my_query, request_timeout=600)"
   ]
  },
  {
   "cell_type": "code",
   "execution_count": 24,
   "metadata": {
    "collapsed": false
   },
   "outputs": [
    {
     "data": {
      "text/plain": [
       "{'_shards': {'failed': 5,\n",
       "  'failures': [{'index': 'network_weather_2-2016.1.16',\n",
       "    'node': 'TxVZqrDUTaGMLEC3wuZwwg',\n",
       "    'reason': {'caused_by': {'reason': 'Field [throughput] used in expression does not exist in mappings',\n",
       "      'type': 'script_exception'},\n",
       "     'reason': \"Error during search with inline script [doc['throughput'].value/1073741824.0] using lang [expression]\",\n",
       "     'type': 'script_exception'},\n",
       "    'shard': 0}],\n",
       "  'successful': 895,\n",
       "  'total': 900},\n",
       " 'aggregations': {'2': {'buckets': [{'doc_count': 527,\n",
       "     'key': 1454306400000,\n",
       "     'key_as_string': '2016-02-01T00:00:00.000-06:00'},\n",
       "    {'doc_count': 571,\n",
       "     'key': 1454392800000,\n",
       "     'key_as_string': '2016-02-02T00:00:00.000-06:00'},\n",
       "    {'doc_count': 754,\n",
       "     'key': 1454479200000,\n",
       "     'key_as_string': '2016-02-03T00:00:00.000-06:00'},\n",
       "    {'doc_count': 746,\n",
       "     'key': 1454565600000,\n",
       "     'key_as_string': '2016-02-04T00:00:00.000-06:00'},\n",
       "    {'doc_count': 1029,\n",
       "     'key': 1454652000000,\n",
       "     'key_as_string': '2016-02-05T00:00:00.000-06:00'},\n",
       "    {'doc_count': 853,\n",
       "     'key': 1454738400000,\n",
       "     'key_as_string': '2016-02-06T00:00:00.000-06:00'},\n",
       "    {'doc_count': 998,\n",
       "     'key': 1454824800000,\n",
       "     'key_as_string': '2016-02-07T00:00:00.000-06:00'},\n",
       "    {'doc_count': 715,\n",
       "     'key': 1454911200000,\n",
       "     'key_as_string': '2016-02-08T00:00:00.000-06:00'},\n",
       "    {'doc_count': 575,\n",
       "     'key': 1454997600000,\n",
       "     'key_as_string': '2016-02-09T00:00:00.000-06:00'},\n",
       "    {'doc_count': 606,\n",
       "     'key': 1455084000000,\n",
       "     'key_as_string': '2016-02-10T00:00:00.000-06:00'},\n",
       "    {'doc_count': 903,\n",
       "     'key': 1455170400000,\n",
       "     'key_as_string': '2016-02-11T00:00:00.000-06:00'},\n",
       "    {'doc_count': 714,\n",
       "     'key': 1455256800000,\n",
       "     'key_as_string': '2016-02-12T00:00:00.000-06:00'},\n",
       "    {'doc_count': 696,\n",
       "     'key': 1455343200000,\n",
       "     'key_as_string': '2016-02-13T00:00:00.000-06:00'},\n",
       "    {'doc_count': 572,\n",
       "     'key': 1455429600000,\n",
       "     'key_as_string': '2016-02-14T00:00:00.000-06:00'},\n",
       "    {'doc_count': 569,\n",
       "     'key': 1455516000000,\n",
       "     'key_as_string': '2016-02-15T00:00:00.000-06:00'},\n",
       "    {'doc_count': 529,\n",
       "     'key': 1455602400000,\n",
       "     'key_as_string': '2016-02-16T00:00:00.000-06:00'},\n",
       "    {'doc_count': 674,\n",
       "     'key': 1455688800000,\n",
       "     'key_as_string': '2016-02-17T00:00:00.000-06:00'},\n",
       "    {'doc_count': 573,\n",
       "     'key': 1455775200000,\n",
       "     'key_as_string': '2016-02-18T00:00:00.000-06:00'},\n",
       "    {'doc_count': 571,\n",
       "     'key': 1455861600000,\n",
       "     'key_as_string': '2016-02-19T00:00:00.000-06:00'},\n",
       "    {'doc_count': 600,\n",
       "     'key': 1455948000000,\n",
       "     'key_as_string': '2016-02-20T00:00:00.000-06:00'},\n",
       "    {'doc_count': 402,\n",
       "     'key': 1456034400000,\n",
       "     'key_as_string': '2016-02-21T00:00:00.000-06:00'},\n",
       "    {'doc_count': 261,\n",
       "     'key': 1456120800000,\n",
       "     'key_as_string': '2016-02-22T00:00:00.000-06:00'},\n",
       "    {'doc_count': 878,\n",
       "     'key': 1456207200000,\n",
       "     'key_as_string': '2016-02-23T00:00:00.000-06:00'},\n",
       "    {'doc_count': 114,\n",
       "     'key': 1456293600000,\n",
       "     'key_as_string': '2016-02-24T00:00:00.000-06:00'},\n",
       "    {'doc_count': 488,\n",
       "     'key': 1456380000000,\n",
       "     'key_as_string': '2016-02-25T00:00:00.000-06:00'},\n",
       "    {'doc_count': 792,\n",
       "     'key': 1456466400000,\n",
       "     'key_as_string': '2016-02-26T00:00:00.000-06:00'},\n",
       "    {'doc_count': 618,\n",
       "     'key': 1456552800000,\n",
       "     'key_as_string': '2016-02-27T00:00:00.000-06:00'},\n",
       "    {'doc_count': 796,\n",
       "     'key': 1456639200000,\n",
       "     'key_as_string': '2016-02-28T00:00:00.000-06:00'},\n",
       "    {'doc_count': 801,\n",
       "     'key': 1456725600000,\n",
       "     'key_as_string': '2016-02-29T00:00:00.000-06:00'},\n",
       "    {'doc_count': 92,\n",
       "     'key': 1456812000000,\n",
       "     'key_as_string': '2016-03-01T00:00:00.000-06:00'}]}},\n",
       " 'hits': {'hits': [], 'max_score': 0.0, 'total': 19017},\n",
       " 'timed_out': False,\n",
       " 'took': 150}"
      ]
     },
     "execution_count": 24,
     "metadata": {},
     "output_type": "execute_result"
    }
   ],
   "source": [
    "response"
   ]
  },
  {
   "cell_type": "code",
   "execution_count": null,
   "metadata": {
    "collapsed": true
   },
   "outputs": [],
   "source": [
    "def generate_query"
   ]
  }
 ],
 "metadata": {
  "kernelspec": {
   "display_name": "Python 3",
   "language": "python",
   "name": "python3"
  },
  "language_info": {
   "codemirror_mode": {
    "name": "ipython",
    "version": 3
   },
   "file_extension": ".py",
   "mimetype": "text/x-python",
   "name": "python",
   "nbconvert_exporter": "python",
   "pygments_lexer": "ipython3",
   "version": "3.5.1"
  }
 },
 "nbformat": 4,
 "nbformat_minor": 0
}
