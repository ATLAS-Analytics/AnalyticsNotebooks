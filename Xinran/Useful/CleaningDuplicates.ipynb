{
 "cells": [
  {
   "cell_type": "code",
   "execution_count": 1,
   "metadata": {
    "collapsed": true
   },
   "outputs": [],
   "source": [
    "from datetime import datetime\n",
    "from elasticsearch import Elasticsearch\n",
    "from elasticsearch.helpers import scan\n",
    "from elasticsearch.helpers import bulk\n",
    "es = Elasticsearch(['atlas-kibana.mwt2.org:9200'],timeout=60)"
   ]
  },
  {
   "cell_type": "markdown",
   "metadata": {
    "collapsed": false
   },
   "source": [
    "### find all the combinations of sources and destinations\n",
    "\n",
    "# sorting times is messed up it needs a fix"
   ]
  },
  {
   "cell_type": "code",
   "execution_count": 8,
   "metadata": {
    "collapsed": false
   },
   "outputs": [],
   "source": [
    "ind = \"network_weather-2017.1.11\"\n",
    "\n",
    "my_query = \\\n",
    "{\n",
    "  \"size\": 0,\n",
    "  \"aggs\": {      \n",
    "        \"type_counts\": {\n",
    "            \"terms\": { \"field\": \"_type\" },\n",
    "            \"aggs\": {      \n",
    "                \"src_counts\": {\n",
    "                     \"terms\": { \"field\": \"src\" , \"size\": 10000},\n",
    "                     \"aggs\": {      \n",
    "                        \"dest_counts\": {\n",
    "                        \"terms\": { \"field\": \"dest\" , \"size\": 10000}\n",
    "                        }\n",
    "                     }\n",
    "                  }\n",
    "              }\n",
    "        }\n",
    "  }\n",
    "}\n",
    "response = es.search(index=ind, body=my_query, request_timeout=1200)\n",
    "#print(response['aggregations']['type_counts']['buckets'])"
   ]
  },
  {
   "cell_type": "code",
   "execution_count": 9,
   "metadata": {
    "collapsed": false
   },
   "outputs": [],
   "source": [
    "# for cleaning specific links\n",
    "limitTo=['192.41.230.60','192.41.236.32','192.41.230.59','192.41.236.31','128.142.223.247','128.142.223.246']"
   ]
  },
  {
   "cell_type": "code",
   "execution_count": 13,
   "metadata": {
    "collapsed": false
   },
   "outputs": [
    {
     "name": "stdout",
     "output_type": "stream",
     "text": [
      "packet_loss_rate\n",
      "latency\n",
      "traceroute\n",
      "{'_id': 'AVmLX0xt1yReIzHCm6vW', 'sort': [2951], '_index': 'network_weather-2017.1.11', '_score': None, '_type': 'traceroute', '_source': {'MA': '200.17.30.135', 'rtts': [0.0, 0.835, 5.218, 183.959, 183.893, 242.274, 241.963, 203.406, 203.024, 245.811, 217.305, 217.273, 216.297], 'dest': '109.105.125.232', 'hops': [None, '143.107.0.245', '143.107.151.114', '62.40.126.173', '62.40.126.234', '109.105.97.126', '109.105.97.132', '109.105.97.57', '109.105.102.117', '109.105.124.50', '109.105.124.51', '109.105.124.51', '109.105.125.232'], 'timestamp': '20170111T031428+0000', 'srcProduction': False, 'destVO': '', 'ttls': [1, 2, 3, 4, 5, 6, 7, 8, 9, 10, 11, 12, 13], 'src': '200.17.30.135', 'destSite': 'FI_HIP_T2', 'hash': 5983927945936759295, 'destProduction': False}}\n",
      "{'_id': 'AVmLX0xt1yReIzHCm6vX', 'sort': [2952], '_index': 'network_weather-2017.1.11', '_score': None, '_type': 'traceroute', '_source': {'MA': '200.17.30.135', 'rtts': [0.0, 0.795, 0.845, 183.845, 183.941, 241.906, 241.782, 203.377, 202.994, 212.583, 217.294, 217.331, 216.388], 'dest': '109.105.125.232', 'hops': [None, '143.107.0.245', '143.107.151.114', '62.40.126.173', '62.40.126.234', '109.105.97.126', '109.105.97.132', '109.105.97.57', '109.105.102.117', '109.105.124.50', '109.105.124.51', '109.105.124.51', '109.105.125.232'], 'timestamp': '20170111T030404+0000', 'srcProduction': False, 'destVO': '', 'ttls': [1, 2, 3, 4, 5, 6, 7, 8, 9, 10, 11, 12, 13], 'src': '200.17.30.135', 'destSite': 'FI_HIP_T2', 'hash': 5983927945936759295, 'destProduction': False}}\n",
      "{'_id': 'AVmLY13Y1yReIzHCnuTt', 'sort': [3860], '_index': 'network_weather-2017.1.11', '_score': None, '_type': 'traceroute', '_source': {'MA': '200.17.30.135', 'rtts': [0.0, 0.835, 5.218, 183.959, 183.893, 242.274, 241.963, 203.406, 203.024, 245.811, 217.305, 217.273, 216.297], 'dest': '109.105.125.232', 'hops': [None, '143.107.0.245', '143.107.151.114', '62.40.126.173', '62.40.126.234', '109.105.97.126', '109.105.97.132', '109.105.97.57', '109.105.102.117', '109.105.124.50', '109.105.124.51', '109.105.124.51', '109.105.125.232'], 'timestamp': '20170111T031428+0000', 'srcProduction': False, 'destVO': '', 'ttls': [1, 2, 3, 4, 5, 6, 7, 8, 9, 10, 11, 12, 13], 'src': '200.17.30.135', 'destSite': 'FI_HIP_T2', 'hash': 5983927945936759295, 'destProduction': False}}\n",
      "{'_id': 'AVmLY13Y1yReIzHCnuTv', 'sort': [3861], '_index': 'network_weather-2017.1.11', '_score': None, '_type': 'traceroute', '_source': {'MA': '200.17.30.135', 'rtts': [0.0, 0.795, 0.809, 183.899, 183.974, 242.317, 242.054, 204.488, 203.042, 212.348, 217.259, 218.072, 216.343], 'dest': '109.105.125.232', 'hops': [None, '143.107.0.245', '143.107.151.114', '62.40.126.173', '62.40.126.234', '109.105.97.126', '109.105.97.132', '109.105.97.57', '109.105.102.117', '109.105.124.50', '109.105.124.51', '109.105.124.51', '109.105.125.232'], 'timestamp': '20170111T032440+0000', 'srcProduction': False, 'destVO': '', 'ttls': [1, 2, 3, 4, 5, 6, 7, 8, 9, 10, 11, 12, 13], 'src': '200.17.30.135', 'destSite': 'FI_HIP_T2', 'hash': 5983927945936759295, 'destProduction': False}}\n",
      "{'_id': 'AVmLX0xt1yReIzHCm6vY', 'sort': [4516], '_index': 'network_weather-2017.1.11', '_score': None, '_type': 'traceroute', '_source': {'MA': '200.17.30.135', 'rtts': [0.0, 0.795, 0.809, 183.899, 183.974, 242.317, 242.054, 204.488, 203.042, 212.348, 217.259, 218.072, 216.343], 'dest': '109.105.125.232', 'hops': [None, '143.107.0.245', '143.107.151.114', '62.40.126.173', '62.40.126.234', '109.105.97.126', '109.105.97.132', '109.105.97.57', '109.105.102.117', '109.105.124.50', '109.105.124.51', '109.105.124.51', '109.105.125.232'], 'timestamp': '20170111T032440+0000', 'srcProduction': False, 'destVO': '', 'ttls': [1, 2, 3, 4, 5, 6, 7, 8, 9, 10, 11, 12, 13], 'src': '200.17.30.135', 'destSite': 'FI_HIP_T2', 'hash': 5983927945936759295, 'destProduction': False}}\n",
      "{'_id': 'AVmLY13Y1yReIzHCnuTu', 'sort': [4854], '_index': 'network_weather-2017.1.11', '_score': None, '_type': 'traceroute', '_source': {'MA': '200.17.30.135', 'rtts': [0.0, 0.726, 0.722, 183.868, 183.852, 261.254, 241.964, 203.397, 203.146, 212.336, 217.332, 217.396, 216.314], 'dest': '109.105.125.232', 'hops': [None, '143.107.0.245', '143.107.151.114', '62.40.126.173', '62.40.126.234', '109.105.97.126', '109.105.97.132', '109.105.97.57', '109.105.102.117', '109.105.124.50', '109.105.124.51', '109.105.124.51', '109.105.125.232'], 'timestamp': '20170111T033534+0000', 'srcProduction': False, 'destVO': '', 'ttls': [1, 2, 3, 4, 5, 6, 7, 8, 9, 10, 11, 12, 13], 'src': '200.17.30.135', 'destSite': 'FI_HIP_T2', 'hash': 5983927945936759295, 'destProduction': False}}\n",
      "{'_id': 'AVmLexpe1yReIzHCtA78', 'sort': [18264], '_index': 'network_weather-2017.1.11', '_score': None, '_type': 'traceroute', '_source': {'MA': '200.17.30.135', 'rtts': [0.0, 1.279, 0.762, 183.858, 183.888, 241.962, 257.937, 231.383, 203.021, 212.439, 217.266, 217.353, 216.423], 'dest': '109.105.125.232', 'hops': [None, '143.107.0.245', '143.107.151.114', '62.40.126.173', '62.40.126.234', '109.105.97.126', '109.105.97.132', '109.105.97.57', '109.105.102.117', '109.105.124.50', '109.105.124.51', '109.105.124.51', '109.105.125.232'], 'timestamp': '20170111T035413+0000', 'srcProduction': False, 'destVO': '', 'ttls': [1, 2, 3, 4, 5, 6, 7, 8, 9, 10, 11, 12, 13], 'src': '200.17.30.135', 'destSite': 'FI_HIP_T2', 'hash': 5983927945936759295, 'destProduction': False}}\n",
      "{'_id': 'AVmLeqF31yReIzHCs5_p', 'sort': [18679], '_index': 'network_weather-2017.1.11', '_score': None, '_type': 'traceroute', '_source': {'MA': '200.17.30.135', 'rtts': [0.0, 0.726, 0.722, 183.868, 183.852, 261.254, 241.964, 203.397, 203.146, 212.336, 217.332, 217.396, 216.314], 'dest': '109.105.125.232', 'hops': [None, '143.107.0.245', '143.107.151.114', '62.40.126.173', '62.40.126.234', '109.105.97.126', '109.105.97.132', '109.105.97.57', '109.105.102.117', '109.105.124.50', '109.105.124.51', '109.105.124.51', '109.105.125.232'], 'timestamp': '20170111T033534+0000', 'srcProduction': False, 'destVO': '', 'ttls': [1, 2, 3, 4, 5, 6, 7, 8, 9, 10, 11, 12, 13], 'src': '200.17.30.135', 'destSite': 'FI_HIP_T2', 'hash': 5983927945936759295, 'destProduction': False}}\n",
      "{'_id': 'AVmLeqF31yReIzHCs5_q', 'sort': [18680], '_index': 'network_weather-2017.1.11', '_score': None, '_type': 'traceroute', '_source': {'MA': '200.17.30.135', 'rtts': [0.0, 1.279, 0.762, 183.858, 183.888, 241.962, 257.937, 231.383, 203.021, 212.439, 217.266, 217.353, 216.423], 'dest': '109.105.125.232', 'hops': [None, '143.107.0.245', '143.107.151.114', '62.40.126.173', '62.40.126.234', '109.105.97.126', '109.105.97.132', '109.105.97.57', '109.105.102.117', '109.105.124.50', '109.105.124.51', '109.105.124.51', '109.105.125.232'], 'timestamp': '20170111T035413+0000', 'srcProduction': False, 'destVO': '', 'ttls': [1, 2, 3, 4, 5, 6, 7, 8, 9, 10, 11, 12, 13], 'src': '200.17.30.135', 'destSite': 'FI_HIP_T2', 'hash': 5983927945936759295, 'destProduction': False}}\n",
      "{'_id': 'AVmLexpe1yReIzHCtA77', 'sort': [18928], '_index': 'network_weather-2017.1.11', '_score': None, '_type': 'traceroute', '_source': {'MA': '200.17.30.135', 'rtts': [0.0, 0.749, 0.832, 183.942, 184.014, 241.921, 242.19, 203.802, 203.128, 212.693, 217.257, 217.31, 216.308], 'dest': '109.105.125.232', 'hops': [None, '143.107.0.245', '143.107.151.114', '62.40.126.173', '62.40.126.234', '109.105.97.126', '109.105.97.132', '109.105.97.57', '109.105.102.117', '109.105.124.50', '109.105.124.51', '109.105.124.51', '109.105.125.232'], 'timestamp': '20170111T034455+0000', 'srcProduction': False, 'destVO': '', 'ttls': [1, 2, 3, 4, 5, 6, 7, 8, 9, 10, 11, 12, 13], 'src': '200.17.30.135', 'destSite': 'FI_HIP_T2', 'hash': 5983927945936759295, 'destProduction': False}}\n",
      "final delete 0\n"
     ]
    },
    {
     "ename": "ValueError",
     "evalue": "Empty value passed for a required argument 'body'.",
     "output_type": "error",
     "traceback": [
      "\u001b[1;31m---------------------------------------------------------------------------\u001b[0m",
      "\u001b[1;31mValueError\u001b[0m                                Traceback (most recent call last)",
      "\u001b[1;32m<ipython-input-13-d854584113a5>\u001b[0m in \u001b[0;36m<module>\u001b[1;34m()\u001b[0m\n\u001b[0;32m     62\u001b[0m         \u001b[1;32mif\u001b[0m \u001b[0mlen\u001b[0m\u001b[1;33m(\u001b[0m\u001b[0mtoDelete\u001b[0m\u001b[1;33m)\u001b[0m\u001b[1;33m:\u001b[0m\u001b[1;33m\u001b[0m\u001b[0m\n\u001b[0;32m     63\u001b[0m             \u001b[0mprint\u001b[0m\u001b[1;33m(\u001b[0m\u001b[1;34m\"final delete\"\u001b[0m\u001b[1;33m,\u001b[0m \u001b[0mdcounter\u001b[0m\u001b[1;33m)\u001b[0m\u001b[1;33m\u001b[0m\u001b[0m\n\u001b[1;32m---> 64\u001b[1;33m             \u001b[0mes\u001b[0m\u001b[1;33m.\u001b[0m\u001b[0mbulk\u001b[0m\u001b[1;33m(\u001b[0m\u001b[1;34m'\\n'\u001b[0m\u001b[1;33m.\u001b[0m\u001b[0mjoin\u001b[0m\u001b[1;33m(\u001b[0m\u001b[0mbulk_body\u001b[0m\u001b[1;33m)\u001b[0m\u001b[1;33m,\u001b[0m \u001b[0mrequest_timeout\u001b[0m\u001b[1;33m=\u001b[0m\u001b[1;36m1200\u001b[0m\u001b[1;33m)\u001b[0m\u001b[1;33m\u001b[0m\u001b[0m\n\u001b[0m\u001b[0;32m     65\u001b[0m \u001b[1;33m\u001b[0m\u001b[0m\n\u001b[0;32m     66\u001b[0m     \u001b[0mprint\u001b[0m\u001b[1;33m(\u001b[0m\u001b[0mt\u001b[0m\u001b[1;33m[\u001b[0m\u001b[1;34m'key'\u001b[0m\u001b[1;33m]\u001b[0m\u001b[1;33m,\u001b[0m\u001b[1;34m'Pairs:'\u001b[0m\u001b[1;33m,\u001b[0m\u001b[0mallPairs\u001b[0m\u001b[1;33m)\u001b[0m\u001b[1;33m\u001b[0m\u001b[0m\n",
      "\u001b[1;32m/home/ivukotic/anaconda3/lib/python3.5/site-packages/elasticsearch/client/utils.py\u001b[0m in \u001b[0;36m_wrapped\u001b[1;34m(*args, **kwargs)\u001b[0m\n\u001b[0;32m     69\u001b[0m                 \u001b[1;32mif\u001b[0m \u001b[0mp\u001b[0m \u001b[1;32min\u001b[0m \u001b[0mkwargs\u001b[0m\u001b[1;33m:\u001b[0m\u001b[1;33m\u001b[0m\u001b[0m\n\u001b[0;32m     70\u001b[0m                     \u001b[0mparams\u001b[0m\u001b[1;33m[\u001b[0m\u001b[0mp\u001b[0m\u001b[1;33m]\u001b[0m \u001b[1;33m=\u001b[0m \u001b[0mkwargs\u001b[0m\u001b[1;33m.\u001b[0m\u001b[0mpop\u001b[0m\u001b[1;33m(\u001b[0m\u001b[0mp\u001b[0m\u001b[1;33m)\u001b[0m\u001b[1;33m\u001b[0m\u001b[0m\n\u001b[1;32m---> 71\u001b[1;33m             \u001b[1;32mreturn\u001b[0m \u001b[0mfunc\u001b[0m\u001b[1;33m(\u001b[0m\u001b[1;33m*\u001b[0m\u001b[0margs\u001b[0m\u001b[1;33m,\u001b[0m \u001b[0mparams\u001b[0m\u001b[1;33m=\u001b[0m\u001b[0mparams\u001b[0m\u001b[1;33m,\u001b[0m \u001b[1;33m**\u001b[0m\u001b[0mkwargs\u001b[0m\u001b[1;33m)\u001b[0m\u001b[1;33m\u001b[0m\u001b[0m\n\u001b[0m\u001b[0;32m     72\u001b[0m         \u001b[1;32mreturn\u001b[0m \u001b[0m_wrapped\u001b[0m\u001b[1;33m\u001b[0m\u001b[0m\n\u001b[0;32m     73\u001b[0m     \u001b[1;32mreturn\u001b[0m \u001b[0m_wrapper\u001b[0m\u001b[1;33m\u001b[0m\u001b[0m\n",
      "\u001b[1;32m/home/ivukotic/anaconda3/lib/python3.5/site-packages/elasticsearch/client/__init__.py\u001b[0m in \u001b[0;36mbulk\u001b[1;34m(self, body, index, doc_type, params)\u001b[0m\n\u001b[0;32m   1092\u001b[0m         \"\"\"\n\u001b[0;32m   1093\u001b[0m         \u001b[1;32mif\u001b[0m \u001b[0mbody\u001b[0m \u001b[1;32min\u001b[0m \u001b[0mSKIP_IN_PATH\u001b[0m\u001b[1;33m:\u001b[0m\u001b[1;33m\u001b[0m\u001b[0m\n\u001b[1;32m-> 1094\u001b[1;33m             \u001b[1;32mraise\u001b[0m \u001b[0mValueError\u001b[0m\u001b[1;33m(\u001b[0m\u001b[1;34m\"Empty value passed for a required argument 'body'.\"\u001b[0m\u001b[1;33m)\u001b[0m\u001b[1;33m\u001b[0m\u001b[0m\n\u001b[0m\u001b[0;32m   1095\u001b[0m         return self.transport.perform_request('POST', _make_path(index,\n\u001b[0;32m   1096\u001b[0m             doc_type, '_bulk'), params=params, body=self._bulk_body(body))\n",
      "\u001b[1;31mValueError\u001b[0m: Empty value passed for a required argument 'body'."
     ]
    }
   ],
   "source": [
    "\n",
    "types = response['aggregations']['type_counts']['buckets']\n",
    "\n",
    "for t in types:\n",
    "    allPairs=0\n",
    "    print(t['key'])\n",
    "    if not t['key']=='traceroute': continue\n",
    "    for s in t['src_counts']['buckets']:\n",
    "        bulk_body = []\n",
    "        dcounter=0\n",
    "        for d in s['dest_counts']['buckets']:\n",
    "            allPairs += 1\n",
    "            src=s['key']\n",
    "            dest=d['key']\n",
    "            #if src not in limitTo and dest not in limitTo: continue\n",
    "            #print ('s: ',src,'d: ', dest, '\\t docs:', d['doc_count'])\n",
    "            myscroll={\n",
    "                \"size\":100000,\n",
    "            #    \"_source\": {\n",
    "            #        \"includes\": [ \"timestamp\" ]\n",
    "            #    },\n",
    "#               \"fields\": [\"timestamp\", \"delay_mean\",\"throughput\",\"packet_loss\",\"src\",\"dest\"],\n",
    "                \"query\":{\n",
    "                    \"bool\" : {\n",
    "                        \"must\" : [\n",
    "                            {\"term\": {\"_type\": {\"value\": t['key'] } } },\n",
    "                            {\"term\": {\"src\":   {\"value\": src } } },\n",
    "                            {\"term\": {\"dest\":  {\"value\": dest } } }\n",
    "                        ]\n",
    "                    }\n",
    "                }\n",
    "            ,\"sort\": [{ \"timestamp\": { \"order\": \"asc\", \"unmapped_type\": \"boolean\" }}]\n",
    "            }\n",
    "            \n",
    "            toDelete={}\n",
    "#             oldres=0\n",
    "            oldtime=\"\"\n",
    "            counter=0\n",
    "            scroll = scan(es, query=myscroll, index=ind, size=5000, scroll='240s', request_timeout=120)\n",
    "            for res in scroll:\n",
    "                if counter<10: print(res)\n",
    "                if res['_source']['timestamp']==oldtime:# and res['fields']['src']==src and res['fields']['dest'][0]==dest and res['fields']['packet_loss'][0]==oldres:\n",
    "                    toDelete[res['_id']]=res['_index']\n",
    "#                     print(res['fields'])\n",
    "#                 oldres=res['fields']['packet_loss']\n",
    "                oldtime=res['_source']['timestamp']\n",
    "                counter+=1\n",
    "#                if counter>200:\n",
    "#                    break\n",
    "#                 if counter%100==0: \n",
    "            break\n",
    "            #print (\"records:\", counter, '\\tto delete:',len(toDelete))\n",
    "            for x in toDelete:\n",
    "                if dcounter>100000:\n",
    "                    dcounter=0\n",
    "                    es.bulk('\\n'.join(bulk_body), request_timeout=1200)\n",
    "                    bulk_body=[]\n",
    "                    print('deleted 100k')\n",
    "                dcounter+=1\n",
    "                bulk_body.append('{\"delete\": {\"_id\": \"'+x+'\", \"_index\":\"'+toDelete[x]+'\", \"_type\":\"'+t['key']+'\"}}')\n",
    "#             print (bulk_body)\n",
    "        if len(toDelete):\n",
    "            print(\"final delete\", dcounter)\n",
    "            es.bulk('\\n'.join(bulk_body), request_timeout=1200)\n",
    "\n",
    "    print(t['key'],'Pairs:',allPairs)\n",
    "print ('DONE.')"
   ]
  },
  {
   "cell_type": "code",
   "execution_count": null,
   "metadata": {
    "collapsed": true
   },
   "outputs": [],
   "source": []
  },
  {
   "cell_type": "code",
   "execution_count": null,
   "metadata": {
    "collapsed": true
   },
   "outputs": [],
   "source": []
  }
 ],
 "metadata": {
  "kernelspec": {
   "display_name": "Python 3",
   "language": "python",
   "name": "python3"
  },
  "language_info": {
   "codemirror_mode": {
    "name": "ipython",
    "version": 3
   },
   "file_extension": ".py",
   "mimetype": "text/x-python",
   "name": "python",
   "nbconvert_exporter": "python",
   "pygments_lexer": "ipython3",
   "version": "3.5.1"
  }
 },
 "nbformat": 4,
 "nbformat_minor": 0
}
