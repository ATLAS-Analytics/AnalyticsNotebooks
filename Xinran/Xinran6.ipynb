{
 "cells": [
  {
   "cell_type": "markdown",
   "metadata": {
    "collapsed": true
   },
   "source": [
    "## Install all the needed packages"
   ]
  },
  {
   "cell_type": "code",
   "execution_count": 1,
   "metadata": {
    "collapsed": true
   },
   "outputs": [],
   "source": [
    "%matplotlib notebook\n",
    "\n",
    "# DataFrame\n",
    "import pandas as pd\n",
    "\n",
    "# Elasticsearch\n",
    "from elasticsearch import Elasticsearch, helpers\n",
    "\n",
    "# datetime\n",
    "from datetime import datetime\n",
    "\n",
    "# isnan()\n",
    "import math\n",
    "\n",
    "# plot\n",
    "import numpy as np\n",
    "import matplotlib as mpl\n",
    "import matplotlib.pyplot as plt"
   ]
  },
  {
   "cell_type": "markdown",
   "metadata": {},
   "source": [
    "## Create the local raw_data_pool\n",
    "\n",
    "This is necessary, as it is used to collect data and de-duplicate from elasticsearch. "
   ]
  },
  {
   "cell_type": "code",
   "execution_count": 2,
   "metadata": {
    "collapsed": true
   },
   "outputs": [],
   "source": [
    "# to do"
   ]
  },
  {
   "cell_type": "markdown",
   "metadata": {},
   "source": [
    "## Try new data structure with IP information"
   ]
  },
  {
   "cell_type": "code",
   "execution_count": 3,
   "metadata": {
    "collapsed": true
   },
   "outputs": [],
   "source": [
    "es = Elasticsearch(['atlas-kibana.mwt2.org:9200'], timeout=6000)"
   ]
  },
  {
   "cell_type": "code",
   "execution_count": 4,
   "metadata": {
    "collapsed": false
   },
   "outputs": [
    {
     "name": "stdout",
     "output_type": "stream",
     "text": [
      "{'fielddata_fields': ['timestamp'], 'query': {'filtered': {'filter': {'bool': {'must': [{'term': {'srcSite': 'source_site'}}, {'term': {'destSite': 'destination_site'}}, {'range': {'timestamp': {'gte': '2016-01-01', 'lt': '2016-06-01'}}}]}}, 'query': {'match_all': {}}}}}\n",
      "network_weather_2-*\n"
     ]
    }
   ],
   "source": [
    "src_site = \"source_site\"\n",
    "dest_site = \"destination_site\"\n",
    "\n",
    "timestamp = { 'gte': '2016-01-01', 'lt': '2016-06-01' }\n",
    "\n",
    "my_query = {}\n",
    "my_query['query'] = {}\n",
    "my_query['query']['filtered'] = {}\n",
    "my_query['query']['filtered']['query'] = { \"match_all\": {} }\n",
    "my_query['query']['filtered']['filter'] = {}\n",
    "my_query['query']['filtered']['filter']['bool'] = {}\n",
    "my_query['query']['filtered']['filter']['bool']['must'] = []\n",
    "my_query['query']['filtered']['filter']['bool']['must'].append({ 'term': { 'srcSite': src_site } })\n",
    "my_query['query']['filtered']['filter']['bool']['must'].append({ 'term': { 'destSite': dest_site } })\n",
    "my_query['query']['filtered']['filter']['bool']['must'].append({ 'range': { 'timestamp': timestamp } })\n",
    "my_query['fielddata_fields'] = [ 'timestamp' ]\n",
    "\n",
    "print(my_query)\n",
    "\n",
    "my_index = \"network_weather_2-*\"\n",
    "\n",
    "print(my_index)"
   ]
  },
  {
   "cell_type": "code",
   "execution_count": 11,
   "metadata": {
    "collapsed": true
   },
   "outputs": [],
   "source": [
    "src_site = 'MWT2'\n",
    "dest_site = 'SFU-LCG2'\n",
    "\n",
    "raw_data = pd.DataFrame()"
   ]
  },
  {
   "cell_type": "code",
   "execution_count": 12,
   "metadata": {
    "collapsed": false
   },
   "outputs": [
    {
     "data": {
      "text/html": [
       "<div>\n",
       "<table border=\"1\" class=\"dataframe\">\n",
       "  <thead>\n",
       "    <tr style=\"text-align: right;\">\n",
       "      <th></th>\n",
       "    </tr>\n",
       "  </thead>\n",
       "  <tbody>\n",
       "  </tbody>\n",
       "</table>\n",
       "</div>"
      ],
      "text/plain": [
       "Empty DataFrame\n",
       "Columns: []\n",
       "Index: []"
      ]
     },
     "execution_count": 12,
     "metadata": {},
     "output_type": "execute_result"
    }
   ],
   "source": [
    "# a.set_value(123, 345, 789)\n",
    "raw_data"
   ]
  },
  {
   "cell_type": "code",
   "execution_count": 8,
   "metadata": {
    "collapsed": false
   },
   "outputs": [
    {
     "name": "stdout",
     "output_type": "stream",
     "text": [
      "{'fielddata_fields': ['timestamp'], 'query': {'filtered': {'filter': {'bool': {'must': [{'term': {'srcSite': 'MWT2'}}, {'term': {'destSite': 'SFU-LCG2'}}, {'range': {'timestamp': {'gte': '2016-01-01', 'lt': '2016-06-01'}}}]}}, 'query': {'match_all': {}}}}}\n",
      "\n"
     ]
    }
   ],
   "source": [
    "# Set the source/destination pair\n",
    "my_query['query']['filtered']['filter']['bool']['must'][0]['term']['srcSite'] = src_site\n",
    "my_query['query']['filtered']['filter']['bool']['must'][1]['term']['destSite'] = dest_site\n",
    "print(my_query)\n",
    "print()"
   ]
  },
  {
   "cell_type": "code",
   "execution_count": 18,
   "metadata": {
    "collapsed": false
   },
   "outputs": [],
   "source": [
    "temp = pd.DataFrame()\n",
    "\n",
    "s = set()\n",
    "s.add('adafd')\n",
    "s.add('12331')\n",
    "type(s)\n",
    "\n",
    "set_src = set()\n",
    "set_dest = set()"
   ]
  },
  {
   "cell_type": "code",
   "execution_count": 19,
   "metadata": {
    "collapsed": false,
    "scrolled": false
   },
   "outputs": [],
   "source": [
    "\n",
    "\n",
    "\n",
    "# Collect latency raw data\n",
    "my_type = 'latency'\n",
    "scroll = list(helpers.scan(client=es, query=my_query, index=my_index, doc_type=my_type, request_timeout=6000))\n",
    "count = 0\n",
    "for result in scroll:\n",
    "    count += 1\n",
    "    timestamp_epoch = result['fields']['timestamp'][0]\n",
    "#     put_data(src_site, dest_site, timestamp_epoch, 'iso_8601', result['_source']['timestamp'])\n",
    "#     put_data(src_site, dest_site, timestamp_epoch, 'delay_median', result['_source']['delay_median'])\n",
    "#     put_data(src_site, dest_site, timestamp_epoch, 'delay_mean', result['_source']['delay_mean'])\n",
    "#     put_data(src_site, dest_site, timestamp_epoch, 'delay_sd', result['_source']['delay_sd'])\n",
    "    src_ip = result['_source']['src']\n",
    "    dest_ip = result['_source']['dest']\n",
    "#     print('-----------------------------------------------------------')\n",
    "#     print('Source IP is {}'.format(src_ip))\n",
    "#     print('Destination IP is {}'.format(dest_ip))\n",
    "    set_src.add(src_ip)\n",
    "    set_dest.add(dest_ip)\n",
    "#     temp.set_value()\n",
    "#     if count > 50:\n",
    "#         break\n",
    "# print('Number of raw records of {} is {}'.format(my_type, count))"
   ]
  },
  {
   "cell_type": "code",
   "execution_count": 20,
   "metadata": {
    "collapsed": false
   },
   "outputs": [
    {
     "data": {
      "text/plain": [
       "{'149.165.225.223', '192.170.227.160', '72.36.96.4'}"
      ]
     },
     "execution_count": 20,
     "metadata": {},
     "output_type": "execute_result"
    }
   ],
   "source": [
    "set_src"
   ]
  },
  {
   "cell_type": "code",
   "execution_count": 21,
   "metadata": {
    "collapsed": false
   },
   "outputs": [
    {
     "data": {
      "text/plain": [
       "{'206.12.24.251'}"
      ]
     },
     "execution_count": 21,
     "metadata": {},
     "output_type": "execute_result"
    }
   ],
   "source": [
    "set_dest"
   ]
  },
  {
   "cell_type": "code",
   "execution_count": null,
   "metadata": {
    "collapsed": true
   },
   "outputs": [],
   "source": [
    "src_site = '149.165.225.223_MWT2'\n",
    "dest_site = '206.12.24.251_SFU-LCG2'"
   ]
  }
 ],
 "metadata": {
  "kernelspec": {
   "display_name": "Python 3",
   "language": "python",
   "name": "python3"
  },
  "language_info": {
   "codemirror_mode": {
    "name": "ipython",
    "version": 3
   },
   "file_extension": ".py",
   "mimetype": "text/x-python",
   "name": "python",
   "nbconvert_exporter": "python",
   "pygments_lexer": "ipython3",
   "version": "3.5.1"
  }
 },
 "nbformat": 4,
 "nbformat_minor": 0
}
