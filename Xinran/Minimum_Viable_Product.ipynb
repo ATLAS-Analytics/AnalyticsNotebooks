{
 "cells": [
  {
   "cell_type": "code",
   "execution_count": 1,
   "metadata": {
    "collapsed": true
   },
   "outputs": [],
   "source": [
    "import requests\n",
    "import time\n",
    "from time import gmtime, strftime"
   ]
  },
  {
   "cell_type": "code",
   "execution_count": 13,
   "metadata": {
    "collapsed": false
   },
   "outputs": [
    {
     "name": "stdout",
     "output_type": "stream",
     "text": [
      "nihao\n",
      "hello\n",
      "diff is 5.005370616912842 seconds\n"
     ]
    }
   ],
   "source": [
    "then = time.time()\n",
    "print('nihao')\n",
    "time.sleep(5)  # seconds\n",
    "print('hello')\n",
    "now = time.time()\n",
    "print('diff is {} seconds'.format(now - then))"
   ]
  },
  {
   "cell_type": "code",
   "execution_count": null,
   "metadata": {
    "collapsed": true
   },
   "outputs": [],
   "source": [
    "simulate_time_start = 1451606400000  # unix timestamp in milliseconds (2016/01/01)\n",
    "simulate_time_end = 1464739200000  # unix timestamp in milliseconds (2016/06/01)\n",
    "\n"
   ]
  },
  {
   "cell_type": "code",
   "execution_count": null,
   "metadata": {
    "collapsed": true
   },
   "outputs": [],
   "source": []
  },
  {
   "cell_type": "code",
   "execution_count": null,
   "metadata": {
    "collapsed": true
   },
   "outputs": [],
   "source": []
  },
  {
   "cell_type": "code",
   "execution_count": 80,
   "metadata": {
    "collapsed": true
   },
   "outputs": [],
   "source": [
    "def send_simple_message(email_to, email_subject, email_text):\n",
    "    return requests.post(\n",
    "        \"https://api.mailgun.net/v3/mg.doxaty.com/messages\",\n",
    "        auth=(\"api\", \"key-86031653f5072a04922e555598cc6224\"),\n",
    "        data={\"from\": \"The NPAD team <auto@mg.doxaty.com>\",\n",
    "              \"to\": email_to,\n",
    "              \"subject\": email_subject,\n",
    "              \"text\": email_text })"
   ]
  },
  {
   "cell_type": "code",
   "execution_count": 81,
   "metadata": {
    "collapsed": false
   },
   "outputs": [],
   "source": [
    "def send_alert_email(user_name, email_to, src_name, src_ip, dest_name, dest_ip, alert_type):\n",
    "    gmt = strftime(\"%Y-%m-%d %H:%M:%S\", gmtime())\n",
    "    email_subject = ''\n",
    "    email_subject += 'ALERT - From {} to {}'.format(src_name, dest_name)\n",
    "    email_subject += ' type '\n",
    "#     email_subject += ' - Network Performance Anomaly: '\n",
    "    if alert_type == 'packet_loss':\n",
    "        email_subject += 'Packet Loss'\n",
    "    elif alert_type == 'delay':\n",
    "        email_subject += 'Delay'\n",
    "    email_subject += ' - GMT {}'.format(gmt)\n",
    "    email_text = ''\n",
    "    email_text += 'Hi {},\\n\\n'.format(user_name)\n",
    "#     email_text += 'On GMT {}'.format(gmt)\n",
    "    email_text += 'The system just detected that:\\n\\n'\n",
    "    if alert_type == 'packet_loss':\n",
    "        email_text += '    In the past six hours, at least two measurements showed that the packet loss value '\n",
    "        email_text += 'from source site {} (IP address {}) '.format(src_name, src_ip)\n",
    "        email_text += 'to destination site {} (IP address {}) exceeded 2%.'.format(dest_name, dest_ip)\n",
    "    elif alert_type == 'delay':\n",
    "        email_text += '    In the past six hours, at least two measurements showed that the delay value '\n",
    "        email_text += 'from source site {} (IP address {}) '.format(src_name, src_ip)\n",
    "        email_text += 'to destination site {} (IP address {}) exceeded its three-sigma value.'.format(dest_name, dest_ip)\n",
    "    email_text += '\\n\\nPlease have a look.\\n\\nBest,\\nThe team\\n\\n'\n",
    "    \n",
    "    send_simple_message(email_to, email_subject, email_text)\n",
    "#     print('===============================')\n",
    "#     print(email_subject)\n",
    "#     print('===============================')\n",
    "#     print(email_text)\n",
    "#     print('===============================')"
   ]
  },
  {
   "cell_type": "code",
   "execution_count": 82,
   "metadata": {
    "collapsed": false
   },
   "outputs": [],
   "source": [
    "send_alert_email('Xinran', 'xinran.wang.cs@gmail.com', 'MWT2', '192.170.227.160', 'CERN', '128.142.223.247', 'packet_loss')"
   ]
  },
  {
   "cell_type": "code",
   "execution_count": 83,
   "metadata": {
    "collapsed": false
   },
   "outputs": [],
   "source": [
    "send_alert_email('Xinran', 'xinran.wang.cs@gmail.com', 'MWT2', '192.170.227.160', 'CERN', '128.142.223.247', 'delay')"
   ]
  },
  {
   "cell_type": "code",
   "execution_count": 88,
   "metadata": {
    "collapsed": true
   },
   "outputs": [],
   "source": [
    "# send_alert_email('Ilija', 'Ilija.Vukotic@cern.ch', 'MWT2', '192.170.227.160', 'CERN', '128.142.223.247', 'packet_loss')"
   ]
  },
  {
   "cell_type": "code",
   "execution_count": 89,
   "metadata": {
    "collapsed": true
   },
   "outputs": [],
   "source": [
    "# send_alert_email('Ilija', 'Ilija.Vukotic@cern.ch', 'MWT2', '192.170.227.160', 'CERN', '128.142.223.247', 'delay')"
   ]
  },
  {
   "cell_type": "code",
   "execution_count": null,
   "metadata": {
    "collapsed": true
   },
   "outputs": [],
   "source": []
  },
  {
   "cell_type": "code",
   "execution_count": 54,
   "metadata": {
    "collapsed": false
   },
   "outputs": [
    {
     "ename": "ImportError",
     "evalue": "No module named 'gspread'",
     "output_type": "error",
     "traceback": [
      "\u001b[1;31m---------------------------------------------------------------------------\u001b[0m",
      "\u001b[1;31mImportError\u001b[0m                               Traceback (most recent call last)",
      "\u001b[1;32m<ipython-input-54-9ef39188a7ac>\u001b[0m in \u001b[0;36m<module>\u001b[1;34m()\u001b[0m\n\u001b[1;32m----> 1\u001b[1;33m \u001b[1;32mimport\u001b[0m \u001b[0mgspread\u001b[0m\u001b[1;33m\u001b[0m\u001b[0m\n\u001b[0m",
      "\u001b[1;31mImportError\u001b[0m: No module named 'gspread'"
     ]
    }
   ],
   "source": [
    "import gspread"
   ]
  },
  {
   "cell_type": "code",
   "execution_count": 55,
   "metadata": {
    "collapsed": true
   },
   "outputs": [],
   "source": [
    "import json"
   ]
  },
  {
   "cell_type": "code",
   "execution_count": 57,
   "metadata": {
    "collapsed": false
   },
   "outputs": [],
   "source": [
    "# from __future__ import print_function"
   ]
  },
  {
   "cell_type": "code",
   "execution_count": 58,
   "metadata": {
    "collapsed": true
   },
   "outputs": [],
   "source": [
    "from oauth2client.service_account import ServiceAccountCredentials"
   ]
  },
  {
   "cell_type": "code",
   "execution_count": 63,
   "metadata": {
    "collapsed": false
   },
   "outputs": [
    {
     "data": {
      "text/plain": [
       "'2016-08-04 23:22:21'"
      ]
     },
     "execution_count": 63,
     "metadata": {},
     "output_type": "execute_result"
    }
   ],
   "source": [
    "\n",
    "strftime(\"%Y-%m-%d %H:%M:%S\", gmtime())"
   ]
  },
  {
   "cell_type": "code",
   "execution_count": 91,
   "metadata": {
    "collapsed": false
   },
   "outputs": [
    {
     "name": "stderr",
     "output_type": "stream",
     "text": [
      "usage: __main__.py [-h] [--auth_host_name AUTH_HOST_NAME]\n",
      "                   [--noauth_local_webserver]\n",
      "                   [--auth_host_port [AUTH_HOST_PORT [AUTH_HOST_PORT ...]]]\n",
      "                   [--logging_level {DEBUG,INFO,WARNING,ERROR,CRITICAL}]\n",
      "__main__.py: error: unrecognized arguments: -f /share/home/ivukotic/.local/share/jupyter/runtime/kernel-4f40457e-4593-496d-b6a8-dfa581952771.json\n"
     ]
    },
    {
     "ename": "SystemExit",
     "evalue": "2",
     "output_type": "error",
     "traceback": [
      "An exception has occurred, use %tb to see the full traceback.\n",
      "\u001b[1;31mSystemExit\u001b[0m\u001b[1;31m:\u001b[0m 2\n"
     ]
    },
    {
     "name": "stderr",
     "output_type": "stream",
     "text": [
      "To exit: use 'exit', 'quit', or Ctrl-D.\n"
     ]
    }
   ],
   "source": [
    "from __future__ import print_function\n",
    "import httplib2\n",
    "import os\n",
    "\n",
    "from apiclient import discovery\n",
    "import oauth2client\n",
    "from oauth2client import client\n",
    "from oauth2client import tools\n",
    "\n",
    "try:\n",
    "    import argparse\n",
    "    flags = argparse.ArgumentParser(parents=[tools.argparser]).parse_args()\n",
    "except ImportError:\n",
    "    flags = None\n",
    "\n",
    "# If modifying these scopes, delete your previously saved credentials\n",
    "# at ~/.credentials/sheets.googleapis.com-python-quickstart.json\n",
    "SCOPES = 'https://www.googleapis.com/auth/spreadsheets.readonly'\n",
    "CLIENT_SECRET_FILE = 'client_secret.json'\n",
    "APPLICATION_NAME = 'Google Sheets API Python Quickstart'\n",
    "\n",
    "\n",
    "def get_credentials():\n",
    "    \"\"\"Gets valid user credentials from storage.\n",
    "\n",
    "    If nothing has been stored, or if the stored credentials are invalid,\n",
    "    the OAuth2 flow is completed to obtain the new credentials.\n",
    "\n",
    "    Returns:\n",
    "        Credentials, the obtained credential.\n",
    "    \"\"\"\n",
    "    home_dir = os.path.expanduser('~')\n",
    "    credential_dir = os.path.join(home_dir, '.credentials')\n",
    "    if not os.path.exists(credential_dir):\n",
    "        os.makedirs(credential_dir)\n",
    "    credential_path = os.path.join(credential_dir,\n",
    "                                   'sheets.googleapis.com-python-quickstart.json')\n",
    "\n",
    "    store = oauth2client.file.Storage(credential_path)\n",
    "    credentials = store.get()\n",
    "    if not credentials or credentials.invalid:\n",
    "        flow = client.flow_from_clientsecrets(CLIENT_SECRET_FILE, SCOPES)\n",
    "        flow.user_agent = APPLICATION_NAME\n",
    "        if flags:\n",
    "            credentials = tools.run_flow(flow, store, flags)\n",
    "        else: # Needed only for compatibility with Python 2.6\n",
    "            credentials = tools.run(flow, store)\n",
    "        print('Storing credentials to ' + credential_path)\n",
    "    return credentials\n",
    "\n",
    "\n",
    "# def main():\n",
    "#     \"\"\"Shows basic usage of the Sheets API.\n",
    "\n",
    "#     Creates a Sheets API service object and prints the names and majors of\n",
    "#     students in a sample spreadsheet:\n",
    "#     https://docs.google.com/spreadsheets/d/1BxiMVs0XRA5nFMdKvBdBZjgmUUqptlbs74OgvE2upms/edit\n",
    "#     \"\"\"\n",
    "credentials = get_credentials()\n",
    "http = credentials.authorize(httplib2.Http())\n",
    "discoveryUrl = ('https://sheets.googleapis.com/$discovery/rest?'\n",
    "                'version=v4')\n",
    "service = discovery.build('sheets', 'v4', http=http,\n",
    "                          discoveryServiceUrl=discoveryUrl)\n",
    "\n",
    "spreadsheetId = '1BxiMVs0XRA5nFMdKvBdBZjgmUUqptlbs74OgvE2upms'\n",
    "rangeName = 'Class Data!A2:E'\n",
    "result = service.spreadsheets().values().get(\n",
    "    spreadsheetId=spreadsheetId, range=rangeName).execute()\n",
    "values = result.get('values', [])\n",
    "\n",
    "if not values:\n",
    "    print('No data found.')\n",
    "else:\n",
    "    print('Name, Major:')\n",
    "    for row in values:\n",
    "        # Print columns A and E, which correspond to indices 0 and 4.\n",
    "        print('%s, %s' % (row[0], row[4]))\n",
    "\n",
    "\n",
    "# if __name__ == '__main__':\n",
    "#     main()\n"
   ]
  },
  {
   "cell_type": "code",
   "execution_count": 100,
   "metadata": {
    "collapsed": false
   },
   "outputs": [
    {
     "name": "stdout",
     "output_type": "stream",
     "text": [
      "Name, Major:\n",
      "8/4/2016 22:09:23, MWT2 (Indiana University), MWT2 (University of Illinois Urbana-Champaign), CERN, SFU, Australia, Beijing\n",
      "8/4/2016 22:10:21, MWT2 (Indiana University), MWT2 (University of Illinois Urbana-Champaign), CERN, SFU\n",
      "8/4/2016 22:11:08, MWT2 (University of Chicago), MWT2 (Indiana University), CERN, SFU, Australia, Beijing\n"
     ]
    }
   ],
   "source": [
    "from __future__ import print_function\n",
    "# import gspread\n",
    "# from oauth2client.client import SignedJwtAssertionCredentials\n",
    "from oauth2client.service_account import ServiceAccountCredentials\n",
    "import pandas as pd\n",
    "import json\n",
    "\n",
    "\n",
    "SCOPE = [\"https://spreadsheets.google.com/feeds\"]\n",
    "SECRETS_FILE = \"client_secret_2.json\"\n",
    "# SPREADSHEET = \"PBPython User Survey (Responses)\"\n",
    "\n",
    "\n",
    "json_key = json.load(open(SECRETS_FILE))\n",
    "# Authenticate using the signed key\n",
    "# credentials = SignedJwtAssertionCredentials(json_key['client_email'], json_key['private_key'], SCOPE)\n",
    "credentials = ServiceAccountCredentials.from_json_keyfile_name(SECRETS_FILE, SCOPE)\n",
    "\n",
    "\n",
    "# credentials = get_credentials()\n",
    "http = credentials.authorize(httplib2.Http())\n",
    "discoveryUrl = ('https://sheets.googleapis.com/$discovery/rest?'\n",
    "                'version=v4')\n",
    "service = discovery.build('sheets', 'v4', http=http,\n",
    "                          discoveryServiceUrl=discoveryUrl)\n",
    "\n",
    "spreadsheetId = '1MLe0HpYVnUY3UYe-o9zGEWUI9hMoCwkVZMnxd4fOth4'\n",
    "rangeName = 'Form Responses 1!A2:E'\n",
    "result = service.spreadsheets().values().get(\n",
    "    spreadsheetId=spreadsheetId, range=rangeName).execute()\n",
    "values = result.get('values', [])\n",
    "\n",
    "if not values:\n",
    "    print('No data found.')\n",
    "else:\n",
    "    print('Name, Major:')\n",
    "    for row in values:\n",
    "        # Print columns A and E, which correspond to indices 0 and 4.\n",
    "        print('%s, %s' % (row[0], row[4]))\n",
    "\n",
    "\n"
   ]
  },
  {
   "cell_type": "code",
   "execution_count": 103,
   "metadata": {
    "collapsed": false
   },
   "outputs": [
    {
     "data": {
      "text/plain": [
       "str"
      ]
     },
     "execution_count": 103,
     "metadata": {},
     "output_type": "execute_result"
    }
   ],
   "source": [
    "type(values[0][0])"
   ]
  },
  {
   "cell_type": "code",
   "execution_count": 104,
   "metadata": {
    "collapsed": true
   },
   "outputs": [],
   "source": [
    "a = pd.DataFrame(values)"
   ]
  },
  {
   "cell_type": "code",
   "execution_count": 105,
   "metadata": {
    "collapsed": false
   },
   "outputs": [
    {
     "data": {
      "text/html": [
       "<div>\n",
       "<table border=\"1\" class=\"dataframe\">\n",
       "  <thead>\n",
       "    <tr style=\"text-align: right;\">\n",
       "      <th></th>\n",
       "      <th>0</th>\n",
       "      <th>1</th>\n",
       "      <th>2</th>\n",
       "      <th>3</th>\n",
       "      <th>4</th>\n",
       "    </tr>\n",
       "  </thead>\n",
       "  <tbody>\n",
       "    <tr>\n",
       "      <th>0</th>\n",
       "      <td>8/4/2016 22:09:23</td>\n",
       "      <td>Xinran</td>\n",
       "      <td>xinran.wang.cs@gmail.com</td>\n",
       "      <td>MWT2 (University of Chicago)</td>\n",
       "      <td>MWT2 (Indiana University), MWT2 (University of...</td>\n",
       "    </tr>\n",
       "    <tr>\n",
       "      <th>1</th>\n",
       "      <td>8/4/2016 22:10:21</td>\n",
       "      <td>Xinran2</td>\n",
       "      <td>npadaas@gmail.com</td>\n",
       "      <td>MWT2 (University of Chicago)</td>\n",
       "      <td>MWT2 (Indiana University), MWT2 (University of...</td>\n",
       "    </tr>\n",
       "    <tr>\n",
       "      <th>2</th>\n",
       "      <td>8/4/2016 22:11:08</td>\n",
       "      <td>Xinran3</td>\n",
       "      <td>wangxinran141@163.com</td>\n",
       "      <td>MWT2 (University of Illinois Urbana-Champaign)</td>\n",
       "      <td>MWT2 (University of Chicago), MWT2 (Indiana Un...</td>\n",
       "    </tr>\n",
       "  </tbody>\n",
       "</table>\n",
       "</div>"
      ],
      "text/plain": [
       "                   0        1                         2  \\\n",
       "0  8/4/2016 22:09:23   Xinran  xinran.wang.cs@gmail.com   \n",
       "1  8/4/2016 22:10:21  Xinran2         npadaas@gmail.com   \n",
       "2  8/4/2016 22:11:08  Xinran3     wangxinran141@163.com   \n",
       "\n",
       "                                                3  \\\n",
       "0                    MWT2 (University of Chicago)   \n",
       "1                    MWT2 (University of Chicago)   \n",
       "2  MWT2 (University of Illinois Urbana-Champaign)   \n",
       "\n",
       "                                                   4  \n",
       "0  MWT2 (Indiana University), MWT2 (University of...  \n",
       "1  MWT2 (Indiana University), MWT2 (University of...  \n",
       "2  MWT2 (University of Chicago), MWT2 (Indiana Un...  "
      ]
     },
     "execution_count": 105,
     "metadata": {},
     "output_type": "execute_result"
    }
   ],
   "source": [
    "a"
   ]
  },
  {
   "cell_type": "code",
   "execution_count": 116,
   "metadata": {
    "collapsed": false
   },
   "outputs": [
    {
     "data": {
      "text/plain": [
       "'MWT2 (Indiana University), MWT2 (University of Illinois Urbana-Champaign), CERN, SFU, Australia, Beijing'"
      ]
     },
     "execution_count": 116,
     "metadata": {},
     "output_type": "execute_result"
    }
   ],
   "source": [
    "a[4][0]"
   ]
  },
  {
   "cell_type": "code",
   "execution_count": null,
   "metadata": {
    "collapsed": true
   },
   "outputs": [],
   "source": []
  }
 ],
 "metadata": {
  "kernelspec": {
   "display_name": "Python 3",
   "language": "python",
   "name": "python3"
  },
  "language_info": {
   "codemirror_mode": {
    "name": "ipython",
    "version": 3
   },
   "file_extension": ".py",
   "mimetype": "text/x-python",
   "name": "python",
   "nbconvert_exporter": "python",
   "pygments_lexer": "ipython3",
   "version": "3.5.1"
  }
 },
 "nbformat": 4,
 "nbformat_minor": 0
}
