{
 "cells": [
  {
   "cell_type": "code",
   "execution_count": 1,
   "metadata": {
    "collapsed": true
   },
   "outputs": [],
   "source": [
    "import requests\n",
    "import time\n",
    "from time import gmtime, strftime"
   ]
  },
  {
   "cell_type": "code",
   "execution_count": 13,
   "metadata": {
    "collapsed": false
   },
   "outputs": [
    {
     "name": "stdout",
     "output_type": "stream",
     "text": [
      "nihao\n",
      "hello\n",
      "diff is 5.005370616912842 seconds\n"
     ]
    }
   ],
   "source": [
    "then = time.time()\n",
    "print('nihao')\n",
    "time.sleep(5)  # seconds\n",
    "print('hello')\n",
    "now = time.time()\n",
    "print('diff is {} seconds'.format(now - then))"
   ]
  },
  {
   "cell_type": "code",
   "execution_count": null,
   "metadata": {
    "collapsed": true
   },
   "outputs": [],
   "source": [
    "simulate_time_start = 1451606400000  # unix timestamp in milliseconds (2016/01/01)\n",
    "simulate_time_end = 1464739200000  # unix timestamp in milliseconds (2016/06/01)\n"
   ]
  },
  {
   "cell_type": "code",
   "execution_count": 80,
   "metadata": {
    "collapsed": true
   },
   "outputs": [],
   "source": [
    "def send_simple_message(email_to, email_subject, email_text):\n",
    "    return requests.post(\n",
    "        \"https://api.mailgun.net/v3/mg.doxaty.com/messages\",\n",
    "        auth=(\"api\", \"key-86031653f5072a04922e555598cc6224\"),\n",
    "        data={\"from\": \"The NPAD team <auto@mg.doxaty.com>\",\n",
    "              \"to\": email_to,\n",
    "              \"subject\": email_subject,\n",
    "              \"text\": email_text })"
   ]
  },
  {
   "cell_type": "code",
   "execution_count": 81,
   "metadata": {
    "collapsed": false
   },
   "outputs": [],
   "source": [
    "def send_alert_email(user_name, email_to, src_name, src_ip, dest_name, dest_ip, alert_type):\n",
    "    gmt = strftime(\"%Y-%m-%d %H:%M:%S\", gmtime())\n",
    "    email_subject = ''\n",
    "    email_subject += 'ALERT - From {} to {}'.format(src_name, dest_name)\n",
    "    email_subject += ' type '\n",
    "#     email_subject += ' - Network Performance Anomaly: '\n",
    "    if alert_type == 'packet_loss':\n",
    "        email_subject += 'Packet Loss'\n",
    "    elif alert_type == 'delay':\n",
    "        email_subject += 'Delay'\n",
    "    email_subject += ' - GMT {}'.format(gmt)\n",
    "    email_text = ''\n",
    "    email_text += 'Hi {},\\n\\n'.format(user_name)\n",
    "#     email_text += 'On GMT {}'.format(gmt)\n",
    "    email_text += 'The system just detected that:\\n\\n'\n",
    "    if alert_type == 'packet_loss':\n",
    "        email_text += '    In the past six hours, at least two measurements showed that the packet loss value '\n",
    "        email_text += 'from source site {} (IP address {}) '.format(src_name, src_ip)\n",
    "        email_text += 'to destination site {} (IP address {}) exceeded 2%.'.format(dest_name, dest_ip)\n",
    "    elif alert_type == 'delay':\n",
    "        email_text += '    In the past six hours, at least two measurements showed that the delay value '\n",
    "        email_text += 'from source site {} (IP address {}) '.format(src_name, src_ip)\n",
    "        email_text += 'to destination site {} (IP address {}) exceeded its three-sigma value.'.format(dest_name, dest_ip)\n",
    "    email_text += '\\n\\nPlease have a look.\\n\\nBest,\\nThe team\\n\\n'\n",
    "    \n",
    "    send_simple_message(email_to, email_subject, email_text)\n",
    "#     print('===============================')\n",
    "#     print(email_subject)\n",
    "#     print('===============================')\n",
    "#     print(email_text)\n",
    "#     print('===============================')"
   ]
  },
  {
   "cell_type": "code",
   "execution_count": 121,
   "metadata": {
    "collapsed": false
   },
   "outputs": [],
   "source": [
    "send_alert_email('Xinran', 'xinran.wang.cs@gmail.com', 'MWT2', '192.170.227.160', 'CERN', '128.142.223.247', 'packet_loss')"
   ]
  },
  {
   "cell_type": "code",
   "execution_count": 122,
   "metadata": {
    "collapsed": false
   },
   "outputs": [],
   "source": [
    "send_alert_email('Xinran', 'xinran.wang.cs@gmail.com', 'MWT2', '192.170.227.160', 'CERN', '128.142.223.247', 'delay')"
   ]
  },
  {
   "cell_type": "code",
   "execution_count": 149,
   "metadata": {
    "collapsed": true
   },
   "outputs": [],
   "source": [
    "send_alert_email('Ilija', 'Ilija.Vukotic@cern.ch', 'MWT2', '192.170.227.160', 'CERN', '128.142.223.247', 'packet_loss')"
   ]
  },
  {
   "cell_type": "code",
   "execution_count": 150,
   "metadata": {
    "collapsed": true
   },
   "outputs": [],
   "source": [
    "send_alert_email('Ilija', 'Ilija.Vukotic@cern.ch', 'MWT2', '192.170.227.160', 'CERN', '128.142.223.247', 'delay')"
   ]
  },
  {
   "cell_type": "code",
   "execution_count": 146,
   "metadata": {
    "collapsed": false
   },
   "outputs": [
    {
     "name": "stdout",
     "output_type": "stream",
     "text": [
      "8/4/2016 22:09:23\n",
      "Xinran\n",
      "xinran.wang.cs@gmail.com\n",
      "MWT2 (University of Chicago)\n",
      "MWT2 (Indiana University), MWT2 (University of Illinois Urbana-Champaign), CERN, SFU, Australia, Beijing\n",
      "\n",
      "\n",
      "8/4/2016 22:10:21\n",
      "Xinran2\n",
      "npadaas@gmail.com\n",
      "MWT2 (University of Chicago)\n",
      "MWT2 (Indiana University), MWT2 (University of Illinois Urbana-Champaign), CERN, SFU\n",
      "\n",
      "\n",
      "8/4/2016 22:11:08\n",
      "Xinran3\n",
      "wangxinran141@163.com\n",
      "MWT2 (University of Illinois Urbana-Champaign)\n",
      "MWT2 (University of Chicago), MWT2 (Indiana University), CERN, SFU, Australia, Beijing\n",
      "\n",
      "\n",
      "8/5/2016 7:57:51\n",
      "Xinran4\n",
      "foo@bar.com\n",
      "MWT2 (University of Chicago)\n",
      "MWT2 (Indiana University), MWT2 (University of Illinois Urbana-Champaign), CERN, SFU\n",
      "\n",
      "\n",
      "8/5/2016 8:27:24\n",
      "Xinran5\n",
      "foo2@bar2.com\n",
      "MWT2 (University of Chicago)\n",
      "MWT2 (Indiana University), CERN\n",
      "\n",
      "\n",
      "8/5/2016 8:29:08\n",
      "Xinran6\n",
      "foo3@bar3.com\n",
      "MWT2 (University of Chicago)\n",
      "MWT2 (Indiana University), MWT2 (University of Illinois Urbana-Champaign)\n",
      "\n",
      "\n",
      "8/5/2016 9:07:25\n",
      "Xinran\n",
      "xinran.wang.cs@gmail.com\n",
      "MWT2 (University of Chicago)\n",
      "MWT2 (University of Chicago), MWT2 (Indiana University), MWT2 (University of Illinois Urbana-Champaign)\n",
      "\n",
      "\n"
     ]
    }
   ],
   "source": [
    "from __future__ import print_function\n",
    "from oauth2client.service_account import ServiceAccountCredentials\n",
    "import pandas as pd\n",
    "import json\n",
    "\n",
    "SCOPE = [\"https://spreadsheets.google.com/feeds\"]\n",
    "SECRETS_FILE = \"client_secret_2.json\"\n",
    "\n",
    "credentials = ServiceAccountCredentials.from_json_keyfile_name(SECRETS_FILE, SCOPE)\n",
    "http = credentials.authorize(httplib2.Http())\n",
    "discoveryUrl = 'https://sheets.googleapis.com/$discovery/rest?version=v4'\n",
    "service = discovery.build('sheets', 'v4', http=http, discoveryServiceUrl=discoveryUrl)\n",
    "\n",
    "spreadsheetId = '1MLe0HpYVnUY3UYe-o9zGEWUI9hMoCwkVZMnxd4fOth4'\n",
    "rangeName = 'Form Responses!A2:E'\n",
    "result = service.spreadsheets().values().get(spreadsheetId=spreadsheetId, range=rangeName).execute()\n",
    "values = result.get('values', [])\n",
    "\n",
    "if not values:\n",
    "    print('No data found.')\n",
    "else:\n",
    "    for row in values:\n",
    "        print('%s\\n%s\\n%s\\n%s\\n%s\\n\\n' % (row[0], row[1], row[2], row[3], row[4]))\n",
    "\n"
   ]
  },
  {
   "cell_type": "code",
   "execution_count": 147,
   "metadata": {
    "collapsed": false
   },
   "outputs": [
    {
     "data": {
      "text/html": [
       "<div>\n",
       "<table border=\"1\" class=\"dataframe\">\n",
       "  <thead>\n",
       "    <tr style=\"text-align: right;\">\n",
       "      <th></th>\n",
       "      <th>0</th>\n",
       "      <th>1</th>\n",
       "      <th>2</th>\n",
       "      <th>3</th>\n",
       "      <th>4</th>\n",
       "    </tr>\n",
       "  </thead>\n",
       "  <tbody>\n",
       "    <tr>\n",
       "      <th>0</th>\n",
       "      <td>8/4/2016 22:09:23</td>\n",
       "      <td>Xinran</td>\n",
       "      <td>xinran.wang.cs@gmail.com</td>\n",
       "      <td>MWT2 (University of Chicago)</td>\n",
       "      <td>MWT2 (Indiana University), MWT2 (University of...</td>\n",
       "    </tr>\n",
       "    <tr>\n",
       "      <th>1</th>\n",
       "      <td>8/4/2016 22:10:21</td>\n",
       "      <td>Xinran2</td>\n",
       "      <td>npadaas@gmail.com</td>\n",
       "      <td>MWT2 (University of Chicago)</td>\n",
       "      <td>MWT2 (Indiana University), MWT2 (University of...</td>\n",
       "    </tr>\n",
       "    <tr>\n",
       "      <th>2</th>\n",
       "      <td>8/4/2016 22:11:08</td>\n",
       "      <td>Xinran3</td>\n",
       "      <td>wangxinran141@163.com</td>\n",
       "      <td>MWT2 (University of Illinois Urbana-Champaign)</td>\n",
       "      <td>MWT2 (University of Chicago), MWT2 (Indiana Un...</td>\n",
       "    </tr>\n",
       "    <tr>\n",
       "      <th>3</th>\n",
       "      <td>8/5/2016 7:57:51</td>\n",
       "      <td>Xinran4</td>\n",
       "      <td>foo@bar.com</td>\n",
       "      <td>MWT2 (University of Chicago)</td>\n",
       "      <td>MWT2 (Indiana University), MWT2 (University of...</td>\n",
       "    </tr>\n",
       "    <tr>\n",
       "      <th>4</th>\n",
       "      <td>8/5/2016 8:27:24</td>\n",
       "      <td>Xinran5</td>\n",
       "      <td>foo2@bar2.com</td>\n",
       "      <td>MWT2 (University of Chicago)</td>\n",
       "      <td>MWT2 (Indiana University), CERN</td>\n",
       "    </tr>\n",
       "    <tr>\n",
       "      <th>5</th>\n",
       "      <td>8/5/2016 8:29:08</td>\n",
       "      <td>Xinran6</td>\n",
       "      <td>foo3@bar3.com</td>\n",
       "      <td>MWT2 (University of Chicago)</td>\n",
       "      <td>MWT2 (Indiana University), MWT2 (University of...</td>\n",
       "    </tr>\n",
       "    <tr>\n",
       "      <th>6</th>\n",
       "      <td>8/5/2016 9:07:25</td>\n",
       "      <td>Xinran</td>\n",
       "      <td>xinran.wang.cs@gmail.com</td>\n",
       "      <td>MWT2 (University of Chicago)</td>\n",
       "      <td>MWT2 (University of Chicago), MWT2 (Indiana Un...</td>\n",
       "    </tr>\n",
       "  </tbody>\n",
       "</table>\n",
       "</div>"
      ],
      "text/plain": [
       "                   0        1                         2  \\\n",
       "0  8/4/2016 22:09:23   Xinran  xinran.wang.cs@gmail.com   \n",
       "1  8/4/2016 22:10:21  Xinran2         npadaas@gmail.com   \n",
       "2  8/4/2016 22:11:08  Xinran3     wangxinran141@163.com   \n",
       "3   8/5/2016 7:57:51  Xinran4               foo@bar.com   \n",
       "4   8/5/2016 8:27:24  Xinran5             foo2@bar2.com   \n",
       "5   8/5/2016 8:29:08  Xinran6             foo3@bar3.com   \n",
       "6   8/5/2016 9:07:25   Xinran  xinran.wang.cs@gmail.com   \n",
       "\n",
       "                                                3  \\\n",
       "0                    MWT2 (University of Chicago)   \n",
       "1                    MWT2 (University of Chicago)   \n",
       "2  MWT2 (University of Illinois Urbana-Champaign)   \n",
       "3                    MWT2 (University of Chicago)   \n",
       "4                    MWT2 (University of Chicago)   \n",
       "5                    MWT2 (University of Chicago)   \n",
       "6                    MWT2 (University of Chicago)   \n",
       "\n",
       "                                                   4  \n",
       "0  MWT2 (Indiana University), MWT2 (University of...  \n",
       "1  MWT2 (Indiana University), MWT2 (University of...  \n",
       "2  MWT2 (University of Chicago), MWT2 (Indiana Un...  \n",
       "3  MWT2 (Indiana University), MWT2 (University of...  \n",
       "4                    MWT2 (Indiana University), CERN  \n",
       "5  MWT2 (Indiana University), MWT2 (University of...  \n",
       "6  MWT2 (University of Chicago), MWT2 (Indiana Un...  "
      ]
     },
     "execution_count": 147,
     "metadata": {},
     "output_type": "execute_result"
    }
   ],
   "source": [
    "reg_table = pd.DataFrame(values)\n",
    "reg_table"
   ]
  },
  {
   "cell_type": "code",
   "execution_count": 148,
   "metadata": {
    "collapsed": false
   },
   "outputs": [
    {
     "name": "stdout",
     "output_type": "stream",
     "text": [
      "0.  Xinran  xinran.wang.cs@gmail.com\n",
      "1.  Xinran2  npadaas@gmail.com\n",
      "2.  Xinran3  wangxinran141@163.com\n",
      "3.  Xinran4  foo@bar.com\n",
      "4.  Xinran5  foo2@bar2.com\n",
      "5.  Xinran6  foo3@bar3.com\n",
      "6.  Xinran  xinran.wang.cs@gmail.com\n"
     ]
    }
   ],
   "source": [
    "for r in range(reg_table.shape[0]):\n",
    "    email_who = reg_table[1][r]\n",
    "    email_address = reg_table[2][r]\n",
    "    print('{}.  {}  {}'.format(r, email_who, email_address))\n",
    "#     send_alert_email(email_who, email_address, 'MWT2', '192.170.227.160', 'CERN', '128.142.223.247', 'packet_loss')\n",
    "#     send_alert_email(email_who, email_address, 'MWT2', '192.170.227.160', 'CERN', '128.142.223.247', 'delay')"
   ]
  },
  {
   "cell_type": "code",
   "execution_count": null,
   "metadata": {
    "collapsed": true
   },
   "outputs": [],
   "source": []
  }
 ],
 "metadata": {
  "kernelspec": {
   "display_name": "Python 3",
   "language": "python",
   "name": "python3"
  },
  "language_info": {
   "codemirror_mode": {
    "name": "ipython",
    "version": 3
   },
   "file_extension": ".py",
   "mimetype": "text/x-python",
   "name": "python",
   "nbconvert_exporter": "python",
   "pygments_lexer": "ipython3",
   "version": "3.5.1"
  }
 },
 "nbformat": 4,
 "nbformat_minor": 0
}
