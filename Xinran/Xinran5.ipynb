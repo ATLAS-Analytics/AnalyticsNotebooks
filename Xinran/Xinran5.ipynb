{
 "cells": [
  {
   "cell_type": "markdown",
   "metadata": {},
   "source": [
    "## Install all the needed packages"
   ]
  },
  {
   "cell_type": "code",
   "execution_count": 1,
   "metadata": {
    "collapsed": true
   },
   "outputs": [],
   "source": [
    "%matplotlib inline\n",
    "\n",
    "# DataFrame\n",
    "import pandas as pd\n",
    "\n",
    "# Elasticsearch\n",
    "from elasticsearch import Elasticsearch, helpers\n",
    "\n",
    "# datetime\n",
    "from datetime import datetime\n",
    "\n",
    "# isnan()\n",
    "import math\n",
    "\n",
    "# plot\n",
    "import numpy as np\n",
    "import matplotlib.pyplot as plt"
   ]
  },
  {
   "cell_type": "markdown",
   "metadata": {},
   "source": [
    "## Create the local raw_data_pool"
   ]
  },
  {
   "cell_type": "code",
   "execution_count": 2,
   "metadata": {
    "collapsed": true
   },
   "outputs": [],
   "source": [
    "raw_data_pool = {}\n",
    "\n",
    "def make_sure(src_site, dest_site):\n",
    "    if src_site not in raw_data_pool:\n",
    "        raw_data_pool[src_site] = {}\n",
    "    if dest_site not in raw_data_pool[src_site]:\n",
    "        raw_data_pool[src_site][dest_site] = pd.DataFrame()\n",
    "\n",
    "def put_data(src_site, dest_site, timestamp_epoch, column_type, value):\n",
    "    make_sure(src_site, dest_site)\n",
    "    raw_data_pool[src_site][dest_site].set_value(timestamp_epoch, column_type, value)"
   ]
  },
  {
   "cell_type": "markdown",
   "metadata": {},
   "source": [
    "## Create the elasticsearch connection"
   ]
  },
  {
   "cell_type": "code",
   "execution_count": 3,
   "metadata": {
    "collapsed": true
   },
   "outputs": [],
   "source": [
    "es = Elasticsearch(['atlas-kibana.mwt2.org:9200'])"
   ]
  },
  {
   "cell_type": "markdown",
   "metadata": {},
   "source": [
    "## Generate the common part of the queries"
   ]
  },
  {
   "cell_type": "code",
   "execution_count": 5,
   "metadata": {
    "collapsed": false
   },
   "outputs": [
    {
     "name": "stdout",
     "output_type": "stream",
     "text": [
      "{'fielddata_fields': ['timestamp'], 'query': {'filtered': {'query': {'match_all': {}}, 'filter': {'bool': {'must': [{'term': {'srcSite': 'source_site'}}, {'term': {'destSite': 'destination_site'}}, {'range': {'timestamp': {'lt': '2016-06-01', 'gte': '2016-01-01'}}}]}}}}}\n",
      "network_weather_2-*\n"
     ]
    }
   ],
   "source": [
    "src_site = \"source_site\"\n",
    "dest_site = \"destination_site\"\n",
    "\n",
    "timestamp = { 'gte': '2016-01-01', 'lt': '2016-06-01' }\n",
    "\n",
    "my_query = {}\n",
    "my_query['query'] = {}\n",
    "my_query['query']['filtered'] = {}\n",
    "my_query['query']['filtered']['query'] = { \"match_all\": {} }\n",
    "my_query['query']['filtered']['filter'] = {}\n",
    "my_query['query']['filtered']['filter']['bool'] = {}\n",
    "my_query['query']['filtered']['filter']['bool']['must'] = []\n",
    "my_query['query']['filtered']['filter']['bool']['must'].append({ 'term': { 'srcSite': src_site } })\n",
    "my_query['query']['filtered']['filter']['bool']['must'].append({ 'term': { 'destSite': dest_site } })\n",
    "my_query['query']['filtered']['filter']['bool']['must'].append({ 'range': { 'timestamp': timestamp } })\n",
    "my_query['fielddata_fields'] = [ 'timestamp' ]\n",
    "\n",
    "print(my_query)\n",
    "\n",
    "my_index = \"network_weather_2-*\"\n",
    "\n",
    "print(my_index)"
   ]
  },
  {
   "cell_type": "markdown",
   "metadata": {},
   "source": [
    "## xxx"
   ]
  },
  {
   "cell_type": "code",
   "execution_count": 17,
   "metadata": {
    "collapsed": false
   },
   "outputs": [
    {
     "name": "stdout",
     "output_type": "stream",
     "text": [
      "{'fielddata_fields': ['timestamp'], 'query': {'filtered': {'query': {'match_all': {}}, 'filter': {'bool': {'must': [{'term': {'srcSite': 'Australia-ATLAS', 'destSite': 'SFU-LCG2'}}, {'term': {'destSite': 'destination_site'}}, {'range': {'timestamp': {'lt': '2016-06-01', 'gte': '2016-01-01'}}}]}}}}}\n"
     ]
    }
   ],
   "source": [
    "my_query['query']['filtered']['filter']['bool']['must'][0]['term']['srcSite'] = \"Australia-ATLAS\"\n",
    "my_query['query']['filtered']['filter']['bool']['must'][0]['term']['destSite'] = \"SFU-LCG2\"\n",
    "\n",
    "my_query"
   ]
  },
  {
   "cell_type": "code",
   "execution_count": null,
   "metadata": {
    "collapsed": true
   },
   "outputs": [],
   "source": [
    "\n",
    "\n",
    "scroll = list(helpers.scan(client=es, query=my_query))\n",
    "count = 0\n",
    "\n",
    "for res in scroll:\n",
    "    count += 1\n",
    "#     print(res)\n",
    "#     print(\"====================\")\n",
    "    column_type = res['_type']\n",
    "    timestamp_epoch = res['fields']['timestamp'][0]\n",
    "    if column_type == 'latency':\n",
    "        put_data(src_site, dest_site, timestamp_epoch, 'iso_8601', res['_source']['timestamp'])\n",
    "        put_data(src_site, dest_site, timestamp_epoch, 'delay_median', res['_source']['delay_median'])\n",
    "        put_data(src_site, dest_site, timestamp_epoch, 'delay_mean', res['_source']['delay_mean'])\n",
    "        put_data(src_site, dest_site, timestamp_epoch, 'delay_sd', res['_source']['delay_sd'])\n",
    "#         print(res['_source']['delay_median'])\n",
    "#         print(res['_source']['delay_mean'])\n",
    "#         print(res['_source']['delay_sd'])\n",
    "#         print(res['fields']['timestamp'][0])\n",
    "#         print(res['_source']['timestamp'])\n",
    "    elif column_type == 'packet_loss_rate':\n",
    "        put_data(src_site, dest_site, timestamp_epoch, 'iso_8601', res['_source']['timestamp'])\n",
    "        put_data(src_site, dest_site, timestamp_epoch, 'packet_loss', res['_source']['packet_loss'])\n",
    "#         print(res['_source']['packet_loss'])\n",
    "#         print(res['fields']['timestamp'][0])\n",
    "#         print(res['_source']['timestamp'])\n",
    "    elif column_type == 'throughput':\n",
    "        put_data(src_site, dest_site, timestamp_epoch, 'iso_8601', res['_source']['timestamp'])\n",
    "        put_data(src_site, dest_site, timestamp_epoch, 'throughput', res['_source']['throughput'])\n",
    "#         print(res['_source']['throughput'])\n",
    "#         print(res['fields']['timestamp'][0])\n",
    "#         print(res['_source']['timestamp'])\n",
    "    else:\n",
    "        print(\"Error: type should be latency, packet_loss_rate, or throughput. \")\n",
    "    \n",
    "#     if count >= 111:\n",
    "#         break;\n",
    "\n",
    "print(count)"
   ]
  }
 ],
 "metadata": {
  "kernelspec": {
   "display_name": "Python 3",
   "language": "python",
   "name": "python3"
  },
  "language_info": {
   "codemirror_mode": {
    "name": "ipython",
    "version": 3
   },
   "file_extension": ".py",
   "mimetype": "text/x-python",
   "name": "python",
   "nbconvert_exporter": "python",
   "pygments_lexer": "ipython3",
   "version": "3.5.1"
  }
 },
 "nbformat": 4,
 "nbformat_minor": 0
}
