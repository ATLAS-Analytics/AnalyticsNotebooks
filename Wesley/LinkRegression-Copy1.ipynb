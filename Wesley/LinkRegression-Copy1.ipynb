{
 "cells": [
  {
   "cell_type": "markdown",
   "metadata": {},
   "source": [
    "This notebook demonstrates a predictive model for the completion time of a file, based on network parameters (throughput measure, # of files queued according to activity, and # of files completed over the previous hour) and per-file parameters (filesize, file activity type)"
   ]
  },
  {
   "cell_type": "code",
   "execution_count": 1,
   "metadata": {
    "collapsed": true
   },
   "outputs": [],
   "source": [
    "#These lines set up inline plotting, and apply a standard size\n",
    "%matplotlib inline\n",
    "import matplotlib\n",
    "import numpy as np\n",
    "import matplotlib.pyplot as plt\n",
    "import datetime\n",
    "import re\n",
    "from elasticsearch import Elasticsearch\n",
    "matplotlib.rc('font', **{'size': 15})\n",
    "\n",
    "\n",
    "src = 'CERN-PROD'\n",
    "dst = 'BNL-ATLAS'\n",
    "\n",
    "#Create instance of ElasticSearch using the Atlas host server\n",
    "es1 = Elasticsearch(hosts=[{'host':'atlas-kibana-2.mwt2.org', 'port':9200}],timeout=60)"
   ]
  },
  {
   "cell_type": "code",
   "execution_count": 2,
   "metadata": {
    "collapsed": true
   },
   "outputs": [],
   "source": [
    "query1 = '''{\n",
    "    \n",
    "  \"size\": 10000,\n",
    "  \"sort\": [\n",
    "    {\n",
    "      \"@timestamp\": {\n",
    "        \"order\": \"random\",\n",
    "      }\n",
    "    }\n",
    "  ],\n",
    "  \"query\": {\n",
    "    \"filtered\": {\n",
    "      \"query\": {\n",
    "        \"query_string\": {\n",
    "          \"query\": \"payload.src-rse:CERN* AND payload.dst-rse:BNL* AND event_type:transfer-done\",\n",
    "          \"analyze_wildcard\": True,\n",
    "          \"lowercase_expanded_terms\": False\n",
    "        }\n",
    "      },\n",
    "      \"filter\": {\n",
    "        \"bool\": {\n",
    "          \"must\": [\n",
    "            {\n",
    "              \"range\": {\n",
    "                \"@timestamp\": {\n",
    "                  \"gte\": %i,\n",
    "                  \"lte\": %i,\n",
    "                  \"format\": \"epoch_millis\"\n",
    "                }\n",
    "              }\n",
    "            }\n",
    "          ],\n",
    "          \"must_not\": []\n",
    "        }\n",
    "      }\n",
    "    }\n",
    "  },\n",
    "  \"fielddata_fields\": [\n",
    "    \"@timestamp\",\"duration\"\n",
    "  ]\n",
    "}'''"
   ]
  },
  {
   "cell_type": "code",
   "execution_count": 3,
   "metadata": {
    "collapsed": true
   },
   "outputs": [],
   "source": [
    "import time\n",
    "\n",
    "#Initialize convenient time intervals in milliseconds\n",
    "currentMilliTime = int(round(time.time()*1000))\n",
    "milliWeek = 7*24*60*60*1000\n",
    "milliTwoWeek = 2*7*24*60*60*1000\n",
    "milliThreeWeek = 3*7*24*60*60*1000\n",
    "milliSixHour = 12*60*60*1000\n",
    "milliMonth = 30*24*60*60*1000\n",
    "milliDay = 24*60*60*1000\n",
    "milliHalfDay = 12*60*60*1000\n",
    "\n",
    "milliHour = 60*60*1000"
   ]
  },
  {
   "cell_type": "markdown",
   "metadata": {},
   "source": [
    "For the purposes of this analysis, three weeks of network data will be taken. Because of the volume, per-file level data is acquired in chunks, and 100 random samples are taken from each chunk."
   ]
  },
  {
   "cell_type": "code",
   "execution_count": 5,
   "metadata": {
    "collapsed": false
   },
   "outputs": [
    {
     "name": "stdout",
     "output_type": "stream",
     "text": [
      "Done. Took 245.921515 seconds\n"
     ]
    }
   ],
   "source": [
    "import ast\n",
    "\n",
    "#Get three weeks of data\n",
    "start = currentMilliTime - milliThreeWeek\n",
    "end = currentMilliTime\n",
    "hourSeg = 24*7*3\n",
    "#Initialize lists\n",
    "fileSize = []\n",
    "activity = []\n",
    "startedAt = []\n",
    "submittedAt = []\n",
    "transferredAt = []\n",
    "duration = []\n",
    "fileTimestamp = []\n",
    "\n",
    "startPart = start\n",
    "endPart = start\n",
    "\n",
    "\n",
    "weekTimestamp = []\n",
    "weekFileSize = []\n",
    "weekActivity = []\n",
    "weekStartedAt = []\n",
    "weekSubmittedAt = []\n",
    "weekTransferredAt = []\n",
    "\n",
    "tic = time.time()\n",
    "#Step through day, getting all data in range\n",
    "for i in range(hourSeg):\n",
    "    endPart += milliHour\n",
    "    response = es1.search(index=\"rucio-events*\", body=ast.literal_eval(query1%(startPart,endPart)), request_timeout=600)\n",
    "    startPart = endPart + 1\n",
    "    \n",
    "    #Get important fields\n",
    "    for r in response['hits']['hits']:\n",
    "        fileTimestamp.append(r['fields']['@timestamp'])\n",
    "        fileSize.append(r['_source']['payload']['file-size'])\n",
    "        activity.append(r['_source']['payload']['activity'])\n",
    "        startedAt.append(r['_source']['payload']['started_at'])\n",
    "        submittedAt.append(r['_source']['payload']['submitted_at'])\n",
    "        transferredAt.append(r['_source']['payload']['transferred_at'])\n",
    "    \n",
    "    \n",
    "    #Get random indices in range of length of data vectors\n",
    "    ind = np.random.choice(len(fileSize),size=100,replace=False)\n",
    "    np.random.seed()\n",
    "    \n",
    "    #Append each random sample from the hour's data\n",
    "    weekTimestamp += [ fileTimestamp[i] for i in ind]\n",
    "    weekFileSize += [ fileSize[i] for i in ind]\n",
    "    weekActivity += [ activity[i] for i in ind]\n",
    "    weekStartedAt += [ startedAt[i] for i in ind]\n",
    "    weekSubmittedAt += [ submittedAt[i] for i in ind]\n",
    "    weekTransferredAt += [ transferredAt[i] for i in ind]\n",
    "\n",
    "print(\"Done. Took %f seconds\"%(time.time()-tic))   "
   ]
  },
  {
   "cell_type": "code",
   "execution_count": null,
   "metadata": {
    "collapsed": false
   },
   "outputs": [],
   "source": []
  },
  {
   "cell_type": "code",
   "execution_count": null,
   "metadata": {
    "collapsed": true
   },
   "outputs": [],
   "source": []
  },
  {
   "cell_type": "code",
   "execution_count": 142,
   "metadata": {
    "collapsed": false
   },
   "outputs": [
    {
     "ename": "TransportError",
     "evalue": "TransportError(502, '<!DOCTYPE HTML PUBLIC \"-//IETF//DTD HTML 2.0//EN\">\\n<html><head>\\n<title>502 Proxy Error</title>\\n</head><body>\\n<h1>Proxy Error</h1>\\n<p>The proxy server received an invalid\\r\\nresponse from an upstream server.<br />\\r\\nThe proxy server could not handle the request <em><a href=\"/atlas_ddm-metrics*/_search\">GET&nbsp;/atlas_ddm-metrics*/_search</a></em>.<p>\\nReason: <strong>Error reading from remote server</strong></p></p>\\n</body></html>\\n')",
     "output_type": "error",
     "traceback": [
      "\u001b[1;31m---------------------------------------------------------------------------\u001b[0m",
      "\u001b[1;31mTransportError\u001b[0m                            Traceback (most recent call last)",
      "\u001b[1;32m<ipython-input-142-9f0562fafcfc>\u001b[0m in \u001b[0;36m<module>\u001b[1;34m()\u001b[0m\n\u001b[0;32m    184\u001b[0m \u001b[1;33m\u001b[0m\u001b[0m\n\u001b[0;32m    185\u001b[0m \u001b[0mquery\u001b[0m \u001b[1;33m=\u001b[0m \u001b[0mast\u001b[0m\u001b[1;33m.\u001b[0m\u001b[0mliteral_eval\u001b[0m\u001b[1;33m(\u001b[0m\u001b[0mqueryTemp\u001b[0m\u001b[1;33m%\u001b[0m\u001b[1;33m(\u001b[0m\u001b[0msrc\u001b[0m\u001b[1;33m,\u001b[0m\u001b[0mdst\u001b[0m\u001b[1;33m,\u001b[0m\u001b[0mstart\u001b[0m\u001b[1;33m,\u001b[0m\u001b[0mend\u001b[0m\u001b[1;33m,\u001b[0m\u001b[0mstart\u001b[0m\u001b[1;33m,\u001b[0m\u001b[0mend\u001b[0m\u001b[1;33m)\u001b[0m\u001b[1;33m)\u001b[0m\u001b[1;33m\u001b[0m\u001b[0m\n\u001b[1;32m--> 186\u001b[1;33m \u001b[0mresponse\u001b[0m \u001b[1;33m=\u001b[0m \u001b[0mes2\u001b[0m\u001b[1;33m.\u001b[0m\u001b[0msearch\u001b[0m\u001b[1;33m(\u001b[0m\u001b[0mindex\u001b[0m\u001b[1;33m=\u001b[0m\u001b[1;34m\"atlas_ddm-metrics*\"\u001b[0m\u001b[1;33m,\u001b[0m \u001b[0mbody\u001b[0m\u001b[1;33m=\u001b[0m\u001b[0mquery\u001b[0m\u001b[1;33m,\u001b[0m \u001b[0mrequest_timeout\u001b[0m\u001b[1;33m=\u001b[0m\u001b[1;36m600\u001b[0m\u001b[1;33m)\u001b[0m\u001b[1;33m\u001b[0m\u001b[0m\n\u001b[0m\u001b[0;32m    187\u001b[0m \u001b[1;33m\u001b[0m\u001b[0m\n\u001b[0;32m    188\u001b[0m \u001b[0mprint\u001b[0m\u001b[1;33m(\u001b[0m\u001b[1;34m\"Done. Aggregation took %f seconds\"\u001b[0m\u001b[1;33m%\u001b[0m\u001b[1;33m(\u001b[0m\u001b[0mtime\u001b[0m\u001b[1;33m.\u001b[0m\u001b[0mtime\u001b[0m\u001b[1;33m(\u001b[0m\u001b[1;33m)\u001b[0m\u001b[1;33m-\u001b[0m\u001b[0mtic\u001b[0m\u001b[1;33m)\u001b[0m\u001b[1;33m)\u001b[0m\u001b[1;33m\u001b[0m\u001b[0m\n",
      "\u001b[1;32m/home/ivukotic/anaconda3/lib/python3.5/site-packages/elasticsearch/client/utils.py\u001b[0m in \u001b[0;36m_wrapped\u001b[1;34m(*args, **kwargs)\u001b[0m\n\u001b[0;32m     67\u001b[0m                 \u001b[1;32mif\u001b[0m \u001b[0mp\u001b[0m \u001b[1;32min\u001b[0m \u001b[0mkwargs\u001b[0m\u001b[1;33m:\u001b[0m\u001b[1;33m\u001b[0m\u001b[0m\n\u001b[0;32m     68\u001b[0m                     \u001b[0mparams\u001b[0m\u001b[1;33m[\u001b[0m\u001b[0mp\u001b[0m\u001b[1;33m]\u001b[0m \u001b[1;33m=\u001b[0m \u001b[0mkwargs\u001b[0m\u001b[1;33m.\u001b[0m\u001b[0mpop\u001b[0m\u001b[1;33m(\u001b[0m\u001b[0mp\u001b[0m\u001b[1;33m)\u001b[0m\u001b[1;33m\u001b[0m\u001b[0m\n\u001b[1;32m---> 69\u001b[1;33m             \u001b[1;32mreturn\u001b[0m \u001b[0mfunc\u001b[0m\u001b[1;33m(\u001b[0m\u001b[1;33m*\u001b[0m\u001b[0margs\u001b[0m\u001b[1;33m,\u001b[0m \u001b[0mparams\u001b[0m\u001b[1;33m=\u001b[0m\u001b[0mparams\u001b[0m\u001b[1;33m,\u001b[0m \u001b[1;33m**\u001b[0m\u001b[0mkwargs\u001b[0m\u001b[1;33m)\u001b[0m\u001b[1;33m\u001b[0m\u001b[0m\n\u001b[0m\u001b[0;32m     70\u001b[0m         \u001b[1;32mreturn\u001b[0m \u001b[0m_wrapped\u001b[0m\u001b[1;33m\u001b[0m\u001b[0m\n\u001b[0;32m     71\u001b[0m     \u001b[1;32mreturn\u001b[0m \u001b[0m_wrapper\u001b[0m\u001b[1;33m\u001b[0m\u001b[0m\n",
      "\u001b[1;32m/home/ivukotic/anaconda3/lib/python3.5/site-packages/elasticsearch/client/__init__.py\u001b[0m in \u001b[0;36msearch\u001b[1;34m(self, index, doc_type, body, params)\u001b[0m\n\u001b[0;32m    546\u001b[0m             \u001b[0mindex\u001b[0m \u001b[1;33m=\u001b[0m \u001b[1;34m'_all'\u001b[0m\u001b[1;33m\u001b[0m\u001b[0m\n\u001b[0;32m    547\u001b[0m         _, data = self.transport.perform_request('GET', _make_path(index,\n\u001b[1;32m--> 548\u001b[1;33m             doc_type, '_search'), params=params, body=body)\n\u001b[0m\u001b[0;32m    549\u001b[0m         \u001b[1;32mreturn\u001b[0m \u001b[0mdata\u001b[0m\u001b[1;33m\u001b[0m\u001b[0m\n\u001b[0;32m    550\u001b[0m \u001b[1;33m\u001b[0m\u001b[0m\n",
      "\u001b[1;32m/home/ivukotic/anaconda3/lib/python3.5/site-packages/elasticsearch/transport.py\u001b[0m in \u001b[0;36mperform_request\u001b[1;34m(self, method, url, params, body)\u001b[0m\n\u001b[0;32m    327\u001b[0m \u001b[1;33m\u001b[0m\u001b[0m\n\u001b[0;32m    328\u001b[0m             \u001b[1;32mtry\u001b[0m\u001b[1;33m:\u001b[0m\u001b[1;33m\u001b[0m\u001b[0m\n\u001b[1;32m--> 329\u001b[1;33m                 \u001b[0mstatus\u001b[0m\u001b[1;33m,\u001b[0m \u001b[0mheaders\u001b[0m\u001b[1;33m,\u001b[0m \u001b[0mdata\u001b[0m \u001b[1;33m=\u001b[0m \u001b[0mconnection\u001b[0m\u001b[1;33m.\u001b[0m\u001b[0mperform_request\u001b[0m\u001b[1;33m(\u001b[0m\u001b[0mmethod\u001b[0m\u001b[1;33m,\u001b[0m \u001b[0murl\u001b[0m\u001b[1;33m,\u001b[0m \u001b[0mparams\u001b[0m\u001b[1;33m,\u001b[0m \u001b[0mbody\u001b[0m\u001b[1;33m,\u001b[0m \u001b[0mignore\u001b[0m\u001b[1;33m=\u001b[0m\u001b[0mignore\u001b[0m\u001b[1;33m,\u001b[0m \u001b[0mtimeout\u001b[0m\u001b[1;33m=\u001b[0m\u001b[0mtimeout\u001b[0m\u001b[1;33m)\u001b[0m\u001b[1;33m\u001b[0m\u001b[0m\n\u001b[0m\u001b[0;32m    330\u001b[0m \u001b[1;33m\u001b[0m\u001b[0m\n\u001b[0;32m    331\u001b[0m             \u001b[1;32mexcept\u001b[0m \u001b[0mTransportError\u001b[0m \u001b[1;32mas\u001b[0m \u001b[0me\u001b[0m\u001b[1;33m:\u001b[0m\u001b[1;33m\u001b[0m\u001b[0m\n",
      "\u001b[1;32m/home/ivukotic/anaconda3/lib/python3.5/site-packages/elasticsearch/connection/http_urllib3.py\u001b[0m in \u001b[0;36mperform_request\u001b[1;34m(self, method, url, params, body, timeout, ignore)\u001b[0m\n\u001b[0;32m    107\u001b[0m         \u001b[1;32mif\u001b[0m \u001b[1;32mnot\u001b[0m \u001b[1;33m(\u001b[0m\u001b[1;36m200\u001b[0m \u001b[1;33m<=\u001b[0m \u001b[0mresponse\u001b[0m\u001b[1;33m.\u001b[0m\u001b[0mstatus\u001b[0m \u001b[1;33m<\u001b[0m \u001b[1;36m300\u001b[0m\u001b[1;33m)\u001b[0m \u001b[1;32mand\u001b[0m \u001b[0mresponse\u001b[0m\u001b[1;33m.\u001b[0m\u001b[0mstatus\u001b[0m \u001b[1;32mnot\u001b[0m \u001b[1;32min\u001b[0m \u001b[0mignore\u001b[0m\u001b[1;33m:\u001b[0m\u001b[1;33m\u001b[0m\u001b[0m\n\u001b[0;32m    108\u001b[0m             \u001b[0mself\u001b[0m\u001b[1;33m.\u001b[0m\u001b[0mlog_request_fail\u001b[0m\u001b[1;33m(\u001b[0m\u001b[0mmethod\u001b[0m\u001b[1;33m,\u001b[0m \u001b[0murl\u001b[0m\u001b[1;33m,\u001b[0m \u001b[0mbody\u001b[0m\u001b[1;33m,\u001b[0m \u001b[0mduration\u001b[0m\u001b[1;33m,\u001b[0m \u001b[0mresponse\u001b[0m\u001b[1;33m.\u001b[0m\u001b[0mstatus\u001b[0m\u001b[1;33m,\u001b[0m \u001b[0mraw_data\u001b[0m\u001b[1;33m)\u001b[0m\u001b[1;33m\u001b[0m\u001b[0m\n\u001b[1;32m--> 109\u001b[1;33m             \u001b[0mself\u001b[0m\u001b[1;33m.\u001b[0m\u001b[0m_raise_error\u001b[0m\u001b[1;33m(\u001b[0m\u001b[0mresponse\u001b[0m\u001b[1;33m.\u001b[0m\u001b[0mstatus\u001b[0m\u001b[1;33m,\u001b[0m \u001b[0mraw_data\u001b[0m\u001b[1;33m)\u001b[0m\u001b[1;33m\u001b[0m\u001b[0m\n\u001b[0m\u001b[0;32m    110\u001b[0m \u001b[1;33m\u001b[0m\u001b[0m\n\u001b[0;32m    111\u001b[0m         self.log_request_success(method, full_url, url, body, response.status,\n",
      "\u001b[1;32m/home/ivukotic/anaconda3/lib/python3.5/site-packages/elasticsearch/connection/base.py\u001b[0m in \u001b[0;36m_raise_error\u001b[1;34m(self, status_code, raw_data)\u001b[0m\n\u001b[0;32m    106\u001b[0m             \u001b[1;32mpass\u001b[0m\u001b[1;33m\u001b[0m\u001b[0m\n\u001b[0;32m    107\u001b[0m \u001b[1;33m\u001b[0m\u001b[0m\n\u001b[1;32m--> 108\u001b[1;33m         \u001b[1;32mraise\u001b[0m \u001b[0mHTTP_EXCEPTIONS\u001b[0m\u001b[1;33m.\u001b[0m\u001b[0mget\u001b[0m\u001b[1;33m(\u001b[0m\u001b[0mstatus_code\u001b[0m\u001b[1;33m,\u001b[0m \u001b[0mTransportError\u001b[0m\u001b[1;33m)\u001b[0m\u001b[1;33m(\u001b[0m\u001b[0mstatus_code\u001b[0m\u001b[1;33m,\u001b[0m \u001b[0merror_message\u001b[0m\u001b[1;33m,\u001b[0m \u001b[0madditional_info\u001b[0m\u001b[1;33m)\u001b[0m\u001b[1;33m\u001b[0m\u001b[0m\n\u001b[0m\u001b[0;32m    109\u001b[0m \u001b[1;33m\u001b[0m\u001b[0m\n\u001b[0;32m    110\u001b[0m \u001b[1;33m\u001b[0m\u001b[0m\n",
      "\u001b[1;31mTransportError\u001b[0m: TransportError(502, '<!DOCTYPE HTML PUBLIC \"-//IETF//DTD HTML 2.0//EN\">\\n<html><head>\\n<title>502 Proxy Error</title>\\n</head><body>\\n<h1>Proxy Error</h1>\\n<p>The proxy server received an invalid\\r\\nresponse from an upstream server.<br />\\r\\nThe proxy server could not handle the request <em><a href=\"/atlas_ddm-metrics*/_search\">GET&nbsp;/atlas_ddm-metrics*/_search</a></em>.<p>\\nReason: <strong>Error reading from remote server</strong></p></p>\\n</body></html>\\n')"
     ]
    }
   ],
   "source": [
    "tic = time.time()\n",
    "\n",
    "es2 = Elasticsearch(hosts=[{'host':'es-atlas.cern.ch', 'port':9202}],\n",
    "                   http_auth=('es-atlas', 'v~$&<J8/cG9]*eQ@'),\n",
    "                   timeout=60)\n",
    "\n",
    "\n",
    "src = 'CERN-PROD'\n",
    "dst = 'BNL-ATLAS'\n",
    "\n",
    "\n",
    "queryTemp = '''{\n",
    "  \"size\": 0,\n",
    "  \"query\": {\n",
    "    \"filtered\": {\n",
    "      \"query\": {\n",
    "        \"query_string\": {\n",
    "          \"query\": \"src:%s AND dst:%s\",\n",
    "          \"analyze_wildcard\": True\n",
    "        }\n",
    "      },\n",
    "      \"filter\": {\n",
    "        \"bool\": {\n",
    "          \"must\": [\n",
    "            {\n",
    "              \"range\": {\n",
    "                \"timestamp\": {\n",
    "                  \"gte\": %i,\n",
    "                  \"lte\": %i,\n",
    "                  \"format\": \"epoch_millis\"\n",
    "                }\n",
    "              }\n",
    "            }\n",
    "          ],\n",
    "          \"must_not\": []\n",
    "        }\n",
    "      }\n",
    "    }\n",
    "  },\n",
    "  \"aggs\": {\n",
    "    \"2\": {\n",
    "      \"date_histogram\": {\n",
    "        \"field\": \"timestamp\",\n",
    "        \"interval\": \"30m\",\n",
    "        \"time_zone\": \"Europe/Berlin\",\n",
    "        \"min_doc_count\": 1,\n",
    "        \"extended_bounds\": {\n",
    "          \"min\": %i,\n",
    "          \"max\": %i\n",
    "        }\n",
    "      },\n",
    "  \"aggs\": {\n",
    "    \"1\": {\n",
    "          \"avg\": {\n",
    "            \"field\": 'queued-total'\n",
    "          }\n",
    "        },\n",
    "        \"2\": {\n",
    "          \"avg\": {\n",
    "            \"field\": 'queued-User_Subscriptions'\n",
    "          }\n",
    "        },\n",
    "        \"3\": {\n",
    "          \"avg\": {\n",
    "            \"field\": 'queued-T0_Export'\n",
    "          }\n",
    "        },\n",
    "        \"4\": {\n",
    "          \"avg\": {\n",
    "            \"field\": 'queued-Data_Consolidation'\n",
    "          }\n",
    "        },\n",
    "        \"5\": {\n",
    "          \"avg\": {\n",
    "            \"field\": 'queued-Functional_Test'\n",
    "          }\n",
    "        },\n",
    "        \"6\": {\n",
    "          \"avg\": {\n",
    "            \"field\": 'queued-Express'\n",
    "          }\n",
    "        },\n",
    "        \"7\": {\n",
    "          \"avg\": {\n",
    "            \"field\": 'queued-Production_Input'\n",
    "          }\n",
    "        },\n",
    "        \"8\": {\n",
    "          \"avg\": {\n",
    "            \"field\": 'queued-Production_Output'\n",
    "          }\n",
    "        },\n",
    "        \"9\": {\n",
    "          \"avg\": {\n",
    "            \"field\": 'queued-Staging'\n",
    "          }\n",
    "        },\n",
    "        \"10\": {\n",
    "          \"avg\": {\n",
    "            \"field\": 'done-total-1h'\n",
    "          }\n",
    "        },\n",
    "        \"11\": {\n",
    "          \"avg\": {\n",
    "            \"field\": 'done-User_Subscriptions-1h'\n",
    "          }\n",
    "        },\n",
    "        \"12\": {\n",
    "          \"avg\": {\n",
    "            \"field\": 'done-T0_Export-1h'\n",
    "          }\n",
    "        },\n",
    "        \"13\": {\n",
    "          \"avg\": {\n",
    "            \"field\": 'done-Data_Consolidation-1h'\n",
    "          }\n",
    "        },\n",
    "        \"14\": {\n",
    "          \"avg\": {\n",
    "            \"field\": 'done-Functional_Test-1h'\n",
    "          }\n",
    "        },\n",
    "        \"15\": {\n",
    "          \"avg\": {\n",
    "            \"field\": 'done-Express-1h'\n",
    "          }\n",
    "        },\n",
    "        \"16\": {\n",
    "          \"avg\": {\n",
    "            \"field\": 'done-Production_Input-1h'\n",
    "          }\n",
    "        },\n",
    "        \"17\": {\n",
    "          \"avg\": {\n",
    "            \"field\": 'done-Production_Output-1h'\n",
    "          }\n",
    "        },\n",
    "        \"18\": {\n",
    "          \"avg\": {\n",
    "            \"field\": 'done-Staging-1h'\n",
    "              }\n",
    "            },\n",
    "        \n",
    "        \n",
    "        \"19\": {\n",
    "          \"avg\": {\n",
    "            \"field\": 'packetloss'\n",
    "              }\n",
    "            },\n",
    "        \"20\": {\n",
    "          \"avg\": {\n",
    "            \"field\": 'mbps-dashb-1h'\n",
    "              }\n",
    "            },\n",
    "        \"21\": {\n",
    "          \"avg\": {\n",
    "            \"field\": 'mbps-dashb-1d'\n",
    "              }\n",
    "            },\n",
    "        \"22\": {\n",
    "          \"avg\": {\n",
    "            \"field\": 'mbps-fts-1h'\n",
    "              }\n",
    "            },\n",
    "        \"23\": {\n",
    "          \"avg\": {\n",
    "            \"field\": 'mbps-fts-1d'\n",
    "              }\n",
    "            },\n",
    "        \"24\": {\n",
    "          \"avg\": {\n",
    "            \"field\": 'mbps-fax-1h'\n",
    "              }\n",
    "            },\n",
    "        \"25\": {\n",
    "          \"avg\": {\n",
    "            \"field\": 'mbps-fax-1d'\n",
    "              }\n",
    "            }\n",
    "      }\n",
    "    }\n",
    "  }\n",
    "}'''\n",
    "\n",
    "query = ast.literal_eval(queryTemp%(src,dst,start,end,start,end))\n",
    "response = es2.search(index=\"atlas_ddm-metrics*\", body=query, request_timeout=600)\n",
    "\n",
    "print(\"Done. Aggregation took %f seconds\"%(time.time()-tic))"
   ]
  },
  {
   "cell_type": "markdown",
   "metadata": {},
   "source": [
    "Next, gather data about network health and activity."
   ]
  },
  {
   "cell_type": "code",
   "execution_count": null,
   "metadata": {
    "collapsed": false
   },
   "outputs": [],
   "source": [
    "timestamp = []\n",
    "\n",
    "#Get current queued data according to activity\n",
    "queuedTotal = []\n",
    "queuedUserSubscriptions = []\n",
    "queuedT0Export = []\n",
    "queuedStaging = []\n",
    "queuedDataConsolidation = []\n",
    "queuedFunctionalTest = []\n",
    "queuedExpress = []\n",
    "queuedProductionInput = []\n",
    "queuedProductionOutput = []\n",
    "queuedStaging = []\n",
    "\n",
    "#Get historical completion data according to activity\n",
    "doneTotal = []\n",
    "doneUserSubscriptions = []\n",
    "doneT0Export = []\n",
    "doneStaging = []\n",
    "doneDataConsolidation = []\n",
    "doneFunctionalTest = []\n",
    "doneExpress = []\n",
    "doneProductionInput = []\n",
    "doneProductionOutput = []\n",
    "doneStaging = []\n",
    "\n",
    "#Get other parameters\n",
    "packetloss = []\n",
    "dashThroughput1h = []\n",
    "dashThroughput1d = []\n",
    "ftsThroughput1h = []\n",
    "ftsThroughput1d = []\n",
    "faxThroughput1h = []\n",
    "faxThroughput1d = []\n",
    "\n",
    "for r in response['aggregations']['2']['buckets']:\n",
    "    queuedTotal.append(r['1']['value'])\n",
    "    queuedUserSubscriptions.append(r['2']['value'])\n",
    "    queuedT0Export.append(r['3']['value'])\n",
    "    queuedDataConsolidation.append(r['4']['value'])\n",
    "    queuedFunctionalTest.append(r['5']['value'])\n",
    "    queuedExpress.append(r['6']['value'])\n",
    "    queuedProductionInput.append(r['7']['value'])\n",
    "    queuedProductionOutput.append(r['8']['value'])\n",
    "    queuedStaging.append(r['9']['value'])\n",
    "\n",
    "    doneTotal.append(r['10']['value'])\n",
    "    doneUserSubscriptions.append(r['11']['value'])\n",
    "    doneT0Export.append(r['12']['value'])\n",
    "    doneDataConsolidation.append(r['13']['value'])\n",
    "    doneFunctionalTest.append(r['14']['value'])\n",
    "    doneExpress.append(r['15']['value'])\n",
    "    doneProductionInput.append(r['16']['value'])\n",
    "    doneProductionOutput.append(r['17']['value'])\n",
    "    doneStaging.append(r['18']['value'])\n",
    "    \n",
    "    packetloss.append(r['19']['value'])\n",
    "    dashThroughput1h.append(r['20']['value'])\n",
    "    dashThroughput1d .append(r['21']['value'])\n",
    "    ftsThroughput1h.append(r['22']['value'])\n",
    "    ftsThroughput1d.append(r['23']['value'])\n",
    "    faxThroughput1h.append(r['24']['value'])\n",
    "    faxThroughput1d.append(r['25']['value'])                              \n",
    "                      \n",
    "    timestamp.append(r['key'])"
   ]
  },
  {
   "cell_type": "code",
   "execution_count": 51,
   "metadata": {
    "collapsed": false
   },
   "outputs": [],
   "source": [
    "#Convert lists to arrays, and None objects to NaNs\n",
    "queuedTotal = np.array(queuedTotal,dtype = float)\n",
    "queuedUserSubscriptions = np.array(queuedUserSubscriptions,dtype = float)\n",
    "queuedT0Export = np.array(queuedT0Export,dtype = float)\n",
    "queuedStaging = np.array(queuedStaging,dtype = float)\n",
    "queuedDataConsolidation = np.array(queuedDataConsolidation,dtype = float)\n",
    "queuedFunctionalTest = np.array(queuedFunctionalTest,dtype = float)\n",
    "queuedExpress = np.array(queuedExpress,dtype = float)\n",
    "queuedProductionInput = np.array(queuedProductionInput,dtype = float)\n",
    "queuedProductionOutput = np.array(queuedProductionOutput,dtype = float)\n",
    "queuedStaging = np.array(queuedStaging,dtype = float)\n",
    "\n",
    "\n",
    "doneTotal = np.array(doneTotal,dtype = float)\n",
    "doneUserSubscriptions = np.array(doneUserSubscriptions,dtype = float)\n",
    "doneT0Export = np.array(doneT0Export,dtype = float)\n",
    "doneStaging = np.array(doneStaging,dtype = float)\n",
    "doneDataConsolidation = np.array(doneDataConsolidation,dtype = float)\n",
    "doneFunctionalTest = np.array(doneFunctionalTest,dtype = float)\n",
    "doneExpress = np.array(doneExpress,dtype = float)\n",
    "doneProductionInput = np.array(doneProductionInput,dtype = float)\n",
    "doneProductionOutput = np.array(doneProductionOutput,dtype = float)\n",
    "doneStaging = np.array(doneStaging,dtype = float)\n",
    "\n",
    "timestamp = np.array(timestamp, dtype=float)\n",
    "packetloss = np.array(packetloss,dtype = float)\n",
    "dashThroughput1h = np.array(dashThroughput1h,dtype=float)\n",
    "dashThroughput1d = np.array(dashThroughput1d,dtype=float)\n",
    "ftsThroughput1h = np.array(ftsThroughput1h,dtype=float)\n",
    "ftsThroughput1d = np.array(ftsThroughput1d,dtype=float)\n",
    "faxThroughput1h = np.array(faxThroughput1h,dtype=float)\n",
    "faxThroughput1d = np.array(faxThroughput1d,dtype=float)\n"
   ]
  },
  {
   "cell_type": "code",
   "execution_count": 52,
   "metadata": {
    "collapsed": false
   },
   "outputs": [],
   "source": [
    "import datetime\n",
    "from datetime import datetime\n",
    "\n",
    "#Some useful functions for date conversion\n",
    "\n",
    "def convertDateToDatetime(dates):\n",
    "    '''\n",
    "    Converts string dates to datetime objects\n",
    "    '''\n",
    "    datetimeDates = []\n",
    "    \n",
    "    for i in range(len(dates)):\n",
    "        #Use decimal version if the date string contains a decimal point\n",
    "        if dates[i].find('.')==-1:\n",
    "            epoch = datetime.strptime(dates[i], \"%Y-%m-%d %H:%M:%S\")\n",
    "        else:\n",
    "            epoch = datetime.strptime(dates[i], \"%Y-%m-%d %H:%M:%S.%f\")\n",
    "        datetimeDates.append(epoch)\n",
    "    return datetimeDates\n",
    "\n",
    "def convertDateToMilliEpoch(dates):\n",
    "    '''\n",
    "    Converts string dates to milliEpoch values.\n",
    "    '''\n",
    "    epochDates = []\n",
    "    zeroEpoch = datetime.utcfromtimestamp(0)    \n",
    "    for i in range(len(dates)):\n",
    "        #Use decimal version if the date string contains a decimal point\n",
    "        if dates[i].find('.')==-1:\n",
    "            epoch = datetime.strptime(dates[i], \"%Y-%m-%d %H:%M:%S\")\n",
    "        else:\n",
    "            epoch = datetime.strptime(dates[i], \"%Y-%m-%d %H:%M:%S.%f\")\n",
    "            \n",
    "        epochDates.append((epoch - zeroEpoch).total_seconds() * 1000.0)\n",
    "    return epochDates\n",
    "        \n",
    "        \n",
    "    return datetimeDates\n",
    "\n",
    "def getSecondsDifference(epochDatesStart,epochDatesFinal):\n",
    "    diff = []\n",
    "    for i in range(len(epochDatesStart)):\n",
    "        diff.append((epochDatesFinal[i] - epochDatesStart[i]).total_seconds())\n",
    "    \n",
    "    return diff"
   ]
  },
  {
   "cell_type": "code",
   "execution_count": 53,
   "metadata": {
    "collapsed": false
   },
   "outputs": [],
   "source": [
    "#Convert string timestamps to usable quantities (each per-file, BTW)\n",
    "\n",
    "timeInQueue = getSecondsDifference(convertDateToDatetime(weekSubmittedAt),\n",
    "                                   convertDateToDatetime(weekStartedAt))\n",
    "timeTotal = getSecondsDifference(convertDateToDatetime(weekSubmittedAt),\n",
    "                                 convertDateToDatetime(weekTransferredAt))\n",
    "timeInTransfer = getSecondsDifference(convertDateToDatetime(weekStartedAt),\n",
    "                                      convertDateToDatetime(weekTransferredAt))\n",
    "\n",
    "timeInTransfer = np.array(timeInTransfer)\n",
    "timeTotal = np.array(timeTotal)\n",
    "timeInQueue = np.array(timeInQueue)"
   ]
  },
  {
   "cell_type": "code",
   "execution_count": 54,
   "metadata": {
    "collapsed": false
   },
   "outputs": [],
   "source": [
    "#Get times that each file is submitted at\n",
    "\n",
    "submittedTimes = np.array(convertDateToMilliEpoch(weekSubmittedAt))\n",
    "\n",
    "#Get indices for sorting (use these indices to sort any ddm-metrics variables)\n",
    "timeIndex = np.argsort(submittedTimes)\n",
    "\n",
    "submittedTimes = submittedTimes[timeIndex]\n",
    "\n",
    "#Sort according to monotonically increasing file-submitted timestamp\n",
    "filesize = np.array(weekFileSize)[timeIndex]\n",
    "activity = {'activity':np.array(weekActivity)[timeIndex]}\n",
    "timeTotal = timeTotal[timeIndex]"
   ]
  },
  {
   "cell_type": "markdown",
   "metadata": {},
   "source": [
    "In order to regress categorical data, I represented n choices for a categorical variable as an n-vector, where each index of the vector stood for a different category. The index for the appropriate category holds a value of 1, and the rest of the indices are zero."
   ]
  },
  {
   "cell_type": "code",
   "execution_count": 55,
   "metadata": {
    "collapsed": false
   },
   "outputs": [],
   "source": [
    "import pandas as pd\n",
    "#Convert to panda dataframe, convert from categorical to numerical\n",
    "df = pd.DataFrame(activity)\n",
    "dummyActivity = np.array(pd.get_dummies(df['activity']))"
   ]
  },
  {
   "cell_type": "code",
   "execution_count": 60,
   "metadata": {
    "collapsed": false
   },
   "outputs": [
    {
     "data": {
      "text/plain": [
       "(50400, 9)"
      ]
     },
     "execution_count": 60,
     "metadata": {},
     "output_type": "execute_result"
    }
   ],
   "source": []
  },
  {
   "cell_type": "code",
   "execution_count": 120,
   "metadata": {
    "collapsed": false
   },
   "outputs": [],
   "source": [
    "#Get indices that relate the two timescales between metrics\n",
    "binIndex = np.digitize(submittedTimes,timestamp)-1\n",
    "\n",
    "#Make the bin sort\n",
    "\n",
    "queuedTotal = queuedTotal[binIndex]\n",
    "\n",
    "#Convert NaNs to zeros for all the queued datasets\n",
    "queuedUserSubscriptions = np.nan_to_num(queuedUserSubscriptions)[binIndex]\n",
    "queuedT0Export = np.nan_to_num(queuedT0Export)[binIndex]\n",
    "queuedStaging = np.nan_to_num(queuedStaging)[binIndex]\n",
    "queuedDataConsolidation = np.nan_to_num(queuedDataConsolidation)[binIndex]\n",
    "queuedFunctionalTest = np.nan_to_num(queuedFunctionalTest)[binIndex]\n",
    "queuedExpress = np.nan_to_num(queuedExpress)[binIndex]\n",
    "queuedProductionInput = np.nan_to_num(queuedProductionInput)[binIndex]\n",
    "queuedProductionOutput = np.nan_to_num(queuedProductionOutput)[binIndex]\n",
    "queuedStaging = np.nan_to_num(queuedStaging)[binIndex]\n",
    "\n",
    "doneTotal = doneTotal[binIndex]\n",
    "#Convert NaNs to zeros for all the done datasets\n",
    "doneUserSubscriptions = np.nan_to_num(doneUserSubscriptions)[binIndex]\n",
    "doneT0Export = np.nan_to_num(doneT0Export)[binIndex]\n",
    "doneStaging = np.nan_to_num(doneStaging)[binIndex]\n",
    "doneDataConsolidation = np.nan_to_num(doneDataConsolidation)[binIndex]\n",
    "doneFunctionalTest = np.nan_to_num(doneFunctionalTest)[binIndex]\n",
    "doneExpress = np.nan_to_num(doneExpress)[binIndex]\n",
    "doneProductionInput = np.nan_to_num(doneProductionInput)[binIndex]\n",
    "doneProductionOutput = np.nan_to_num(doneProductionOutput)[binIndex]\n",
    "doneStaging = np.nan_to_num(doneStaging)[binIndex]\n",
    "\n",
    "loss = np.nan_to_num(packetloss)[binIndex]\n",
    "times = timestamp[binIndex]\n",
    "dash_through1h = dashThroughput1h[binIndex]\n",
    "dash_through1d = dashThroughput1d[binIndex]\n",
    "fts_through1d = ftsThroughput1d[binIndex]\n",
    "fts_through1h = ftsThroughput1h[binIndex]\n",
    "done_total1h = doneTotal[binIndex]\n"
   ]
  },
  {
   "cell_type": "code",
   "execution_count": 57,
   "metadata": {
    "collapsed": true
   },
   "outputs": [],
   "source": [
    "def convertSecsToCat(data):\n",
    "    timeCategory = np.zeros(len(data))\n",
    "    for i in range(len(data)):\n",
    "        if data[i] < 600: #Less than 10 min\n",
    "            timeCategory[i] = 0\n",
    "        elif data[i] >= 600 and data[i] < 1200:#(10-20 min)\n",
    "            timeCategory[i] = 1\n",
    "        elif (data[i] >= 1200 and data[i] < 3600): #(between 20 min and 1 hour)\n",
    "            timeCategory[i] = 2\n",
    "        elif data[i] >=3600 and data[i] < 7200: #(between 1 and 2 hr)\n",
    "            timeCategory[i] = 3\n",
    "        elif data[i] >= 7200 and data[i] < 18000: #(2-5 hour)\n",
    "            timeCategory[i] = 4\n",
    "        elif data[i] >= 18000 and data[i] < 36000: #(5-10 hours)\n",
    "            timeCategory[i] = 5\n",
    "        elif data[i] >= 36000: #Greater than 10 hours\n",
    "            timeCategory[i] = 6\n",
    "    return timeCategory"
   ]
  },
  {
   "cell_type": "code",
   "execution_count": 115,
   "metadata": {
    "collapsed": false
   },
   "outputs": [
    {
     "data": {
      "text/plain": [
       "(50400,)"
      ]
     },
     "execution_count": 115,
     "metadata": {},
     "output_type": "execute_result"
    }
   ],
   "source": []
  },
  {
   "cell_type": "code",
   "execution_count": 135,
   "metadata": {
    "collapsed": false
   },
   "outputs": [],
   "source": [
    "#Form input by combining various variables\n",
    "inputSample = np.squeeze(np.hstack((submittedTimes[:,None],queuedUserSubscriptions[:,None],\n",
    "                                    queuedT0Export[:,None],queuedStaging[:,None],\n",
    "                                    queuedDataConsolidation[:,None],queuedFunctionalTest[:,None],\n",
    "                                    queuedExpress[:,None],queuedProductionInput[:,None],\n",
    "                                    queuedProductionOutput[:,None],queuedStaging[:,None],\n",
    "                                    doneUserSubscriptions[:,None],\n",
    "                                    doneT0Export[:,None],doneStaging[:,None],\n",
    "                                    doneDataConsolidation[:,None],doneFunctionalTest[:,None],\n",
    "                                    doneExpress[:,None],doneProductionInput[:,None],\n",
    "                                    doneProductionOutput[:,None],doneStaging[:,None],filesize[:,None],\n",
    "                                    dash_through1h[:,None],dash_through1d[:,None],fts_through1h[:,None],fts_through1d[:,None],\n",
    "                                    dummyActivity)))\n",
    "outputSample = timeTotal\n",
    "\n",
    "#Find rows of data that contain at least one missing value\n",
    "missing = np.isnan(np.sum(inputSample,axis=1))\n",
    "\n",
    "reducedInput = inputSample[~missing]\n",
    "reducedOutput = outputSample[~missing]"
   ]
  },
  {
   "cell_type": "code",
   "execution_count": 75,
   "metadata": {
    "collapsed": false
   },
   "outputs": [
    {
     "name": "stdout",
     "output_type": "stream",
     "text": [
      "This took 1.192791 seconds\n"
     ]
    },
    {
     "data": {
      "text/plain": [
       "[<matplotlib.lines.Line2D at 0x7f7bebc40be0>]"
      ]
     },
     "execution_count": 75,
     "metadata": {},
     "output_type": "execute_result"
    },
    {
     "data": {
      "image/png": "[encoded data removed]",
      "text/plain": [
       "<matplotlib.figure.Figure at 0x7f7bebc4a128>"
      ]
     },
     "metadata": {},
     "output_type": "display_data"
    }
   ],
   "source": [
    "import pandas\n",
    "from sklearn import cross_validation\n",
    "\n",
    "from sklearn.preprocessing import PolynomialFeatures\n",
    "from sklearn.linear_model import LinearRegression\n",
    "\n",
    "tic = time.time()\n",
    "sp = int(round(0.8*len(reducedOutput)))\n",
    "\n",
    "X_train = reducedInput[:sp,:]\n",
    "Y_train = reducedOutput[:sp]\n",
    "X_test = reducedInput[sp:]\n",
    "Y_test = reducedOutput[sp:]\n",
    "\n",
    "poly = PolynomialFeatures(degree=2)\n",
    "Xtrain_ = poly.fit_transform(X_train[:,1:])\n",
    "Xtest_ = poly.fit_transform(X_test[:,1:])\n",
    "\n",
    "\n",
    "clf = LinearRegression()\n",
    "clf.fit(Xtrain_,Y_train)\n",
    "\n",
    "Y_predict = clf.predict(Xtest_)\n",
    "toc = time.time()\n",
    "\n",
    "print(\"This took %f seconds\"%(toc-tic))\n",
    "plt.figure(figsize=(20,10))\n",
    "plt.plot(X_test[:,0],Y_predict)\n",
    "plt.plot(X_test[:,0],Y_test)\n"
   ]
  },
  {
   "cell_type": "code",
   "execution_count": 141,
   "metadata": {
    "collapsed": false
   },
   "outputs": [
    {
     "data": {
      "text/plain": [
       "[<matplotlib.lines.Line2D at 0x7f7bd2001978>]"
      ]
     },
     "execution_count": 141,
     "metadata": {},
     "output_type": "execute_result"
    },
    {
     "data": {
      "image/png": "[encoded data removed]",
      "text/plain": [
       "<matplotlib.figure.Figure at 0x7f7bd267c8d0>"
      ]
     },
     "metadata": {},
     "output_type": "display_data"
    }
   ],
   "source": [
    "import pandas\n",
    "from sklearn.linear_model import LinearRegression,BayesianRidge,Lars,Lasso\n",
    "from sklearn.ensemble import (GradientBoostingRegressor,RandomForestRegressor,AdaBoostRegressor,BaggingRegressor,\n",
    "                              ExtraTreesRegressor)\n",
    "\n",
    "sp = int(round(0.90*len(reducedOutput)))\n",
    "\n",
    "X_train = reducedInput[:sp,:]\n",
    "Y_train = reducedOutput[:sp]\n",
    "X_test = reducedInput[sp:]\n",
    "Y_test = reducedOutput[sp:]\n",
    "\n",
    "model = BaggingRegressor()\n",
    "Y_predict = model.fit(X_train[:,1:],Y_train).predict(X_test[:,1:])\n",
    "\n",
    "plt.figure(figsize=(20,10))\n",
    "plt.plot(X_test[:,0],Y_test,'r.')\n",
    "plt.plot(X_test[:,0],Y_predict,'b.')"
   ]
  },
  {
   "cell_type": "code",
   "execution_count": null,
   "metadata": {
    "collapsed": false
   },
   "outputs": [],
   "source": []
  },
  {
   "cell_type": "code",
   "execution_count": null,
   "metadata": {
    "collapsed": false
   },
   "outputs": [],
   "source": []
  },
  {
   "cell_type": "code",
   "execution_count": null,
   "metadata": {
    "collapsed": false
   },
   "outputs": [],
   "source": []
  },
  {
   "cell_type": "code",
   "execution_count": 138,
   "metadata": {
    "collapsed": false
   },
   "outputs": [
    {
     "name": "stdout",
     "output_type": "stream",
     "text": [
      "Correctly classified time ratio is 0.800882293964\n"
     ]
    },
    {
     "data": {
      "text/plain": [
       "[<matplotlib.lines.Line2D at 0x7f7bd2074128>]"
      ]
     },
     "execution_count": 138,
     "metadata": {},
     "output_type": "execute_result"
    },
    {
     "data": {
      "image/png": "[encoded data removed]",
      "text/plain": [
       "<matplotlib.figure.Figure at 0x7f7bd267bc88>"
      ]
     },
     "metadata": {},
     "output_type": "display_data"
    }
   ],
   "source": [
    "from sklearn.tree import DecisionTreeClassifier\n",
    "from sklearn.ensemble import (RandomForestClassifier,GradientBoostingClassifier,BaggingClassifier,\n",
    "                              AdaBoostClassifier,ExtraTreesClassifier)\n",
    "\n",
    "\n",
    "#Form input by combining various variables\n",
    "inputSample = np.squeeze(np.hstack((submittedTimes[:,None],queuedUserSubscriptions[:,None],\n",
    "                                    queuedT0Export[:,None],queuedStaging[:,None],\n",
    "                                    queuedDataConsolidation[:,None],queuedFunctionalTest[:,None],\n",
    "                                    queuedExpress[:,None],queuedProductionInput[:,None],\n",
    "                                    queuedProductionOutput[:,None],queuedStaging[:,None],\n",
    "                                    doneUserSubscriptions[:,None],\n",
    "                                    doneT0Export[:,None],doneStaging[:,None],\n",
    "                                    doneDataConsolidation[:,None],doneFunctionalTest[:,None],\n",
    "                                    doneExpress[:,None],doneProductionInput[:,None],\n",
    "                                    doneProductionOutput[:,None],doneStaging[:,None],filesize[:,None],\n",
    "                                    dash_through1h[:,None],dummyActivity)))\n",
    "outputSample = timeTotal\n",
    "\n",
    "#Find rows of data that contain at least one missing value\n",
    "missing = np.isnan(np.sum(inputSample,axis=1))\n",
    "\n",
    "reducedInput = inputSample[~missing]\n",
    "reducedOutput = outputSample[~missing]\n",
    "\n",
    "sp = int(round(0.9*len(reducedOutput)))\n",
    "\n",
    "X_train = reducedInput[:sp,:]\n",
    "Y_train = convertSecsToCat(reducedOutput[:sp])\n",
    "X_test = reducedInput[sp:]\n",
    "Y_test = convertSecsToCat(reducedOutput[sp:])\n",
    "\n",
    "model1 = ExtraTreesClassifier()\n",
    "\n",
    "results = model1.fit(X_train[:,1:],Y_train)\n",
    "\n",
    "Y_predict = results.predict(X_test[:,1:])\n",
    "Y_proba = results.predict_proba(X_test[:,1:])\n",
    "\n",
    "\n",
    "diff = (Y_predict-Y_test)\n",
    "indices4 = np.argsort(diff)\n",
    "\n",
    "print('Correctly classified time ratio is ' + str(np.sum(diff==0)/len(diff)))\n",
    "#Note the probabilities of the end objects are usually split between several categories\n",
    "plt.plot(diff[indices4])"
   ]
  },
  {
   "cell_type": "code",
   "execution_count": 100,
   "metadata": {
    "collapsed": false
   },
   "outputs": [
    {
     "data": {
      "text/plain": [
       "[<matplotlib.lines.Line2D at 0x7f7bd35d4780>]"
      ]
     },
     "execution_count": 100,
     "metadata": {},
     "output_type": "execute_result"
    },
    {
     "data": {
      "image/png": "[encoded data removed]",
      "text/plain": [
       "<matplotlib.figure.Figure at 0x7f7bd35d47f0>"
      ]
     },
     "metadata": {},
     "output_type": "display_data"
    }
   ],
   "source": [
    "plt.plot(X_test[:,0],Y_predict,'b.')\n",
    "plt.plot(X_test[:,0],Y_test,'r.')\n"
   ]
  }
 ],
 "metadata": {
  "kernelspec": {
   "display_name": "Python 3",
   "language": "python",
   "name": "python3"
  },
  "language_info": {
   "codemirror_mode": {
    "name": "ipython",
    "version": 3
   },
   "file_extension": ".py",
   "mimetype": "text/x-python",
   "name": "python",
   "nbconvert_exporter": "python",
   "pygments_lexer": "ipython3",
   "version": "3.5.1"
  }
 },
 "nbformat": 4,
 "nbformat_minor": 0
}
