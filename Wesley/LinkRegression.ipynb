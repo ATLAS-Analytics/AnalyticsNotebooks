{
 "cells": [
  {
   "cell_type": "code",
   "execution_count": 188,
   "metadata": {
    "collapsed": true
   },
   "outputs": [],
   "source": [
    "#These lines set up inline plotting, and apply a standard size\n",
    "%matplotlib inline\n",
    "import matplotlib\n",
    "\n",
    "import numpy as np\n",
    "import matplotlib.pyplot as plt\n",
    "import datetime\n",
    "import re\n",
    "from elasticsearch import Elasticsearch, exceptions as es_exceptions\n",
    "from elasticsearch.helpers import scan\n",
    "matplotlib.rc('font', **{'size': 15})\n",
    "\n",
    "\n",
    "src = 'AGLT2'\n",
    "src = 'CERN-PROD'\n",
    "dst = 'BNL-ATLAS'\n",
    "\n",
    "\n",
    "#Create instance of ElasticSearch using the Atlas host server\n",
    "es1 = Elasticsearch(hosts=[{'host':'atlas-kibana-2.mwt2.org', 'port':9200}],timeout=60)"
   ]
  },
  {
   "cell_type": "code",
   "execution_count": 189,
   "metadata": {
    "collapsed": true
   },
   "outputs": [],
   "source": [
    "query1 = '''{\n",
    "    \n",
    "  \"size\": 10000,\n",
    "  \"sort\": [\n",
    "    {\n",
    "      \"@timestamp\": {\n",
    "        \"order\": \"random\",\n",
    "      }\n",
    "    }\n",
    "  ],\n",
    "  \"query\": {\n",
    "    \"filtered\": {\n",
    "      \"query\": {\n",
    "        \"query_string\": {\n",
    "          \"query\": \"payload.src-rse:CERN* AND payload.dst-rse:BNL* AND event_type:transfer-done\",\n",
    "          \"analyze_wildcard\": True,\n",
    "          \"lowercase_expanded_terms\": False\n",
    "        }\n",
    "      },\n",
    "      \"filter\": {\n",
    "        \"bool\": {\n",
    "          \"must\": [\n",
    "            {\n",
    "              \"range\": {\n",
    "                \"@timestamp\": {\n",
    "                  \"gte\": %i,\n",
    "                  \"lte\": %i,\n",
    "                  \"format\": \"epoch_millis\"\n",
    "                }\n",
    "              }\n",
    "            }\n",
    "          ],\n",
    "          \"must_not\": []\n",
    "        }\n",
    "      }\n",
    "    }\n",
    "  },\n",
    "  \"fielddata_fields\": [\n",
    "    \"@timestamp\",\"duration\"\n",
    "  ]\n",
    "}'''"
   ]
  },
  {
   "cell_type": "code",
   "execution_count": 190,
   "metadata": {
    "collapsed": true
   },
   "outputs": [],
   "source": [
    "import ast\n",
    "import time\n",
    "currentMilliTime = int(round(time.time()*1000))\n",
    "milliWeek = 7*24*60*60*1000\n",
    "milliTwoWeek = 2*7*24*60*60*1000\n",
    "milliSixHour = 12*60*60*1000\n",
    "milliMonth = 30*24*60*60*1000\n",
    "milliDay = 24*60*60*1000\n",
    "milliHalfDay = 12*60*60*1000\n",
    "\n",
    "milliHour = 60*60*1000"
   ]
  },
  {
   "cell_type": "code",
   "execution_count": 191,
   "metadata": {
    "collapsed": false
   },
   "outputs": [
    {
     "name": "stdout",
     "output_type": "stream",
     "text": [
      "Hey!\n",
      "Hey!\n",
      "Hey!\n",
      "Hey!\n",
      "Hey!\n",
      "Hey!\n",
      "Hey!\n"
     ]
    }
   ],
   "source": [
    "#Get files day interval (stagger a little from current time to get more interesting data)\n",
    "start = currentMilliTime - milliWeek\n",
    "end = currentMilliTime\n",
    "\n",
    "#Get important variables from response\n",
    "fileSize = []\n",
    "activity = []\n",
    "startedAt = []\n",
    "submittedAt = []\n",
    "transferredAt = []\n",
    "duration = []\n",
    "fileTimestamp = []\n",
    "\n",
    "startPart = start\n",
    "endPart = start\n",
    "hourSeg = 24*7\n",
    "\n",
    "weekTimestamp = []\n",
    "weekFileSize = []\n",
    "weekActivity = []\n",
    "weekStartedAt = []\n",
    "weekSubmittedAt = []\n",
    "weekTransferredAt = []\n",
    "\n",
    "#Step through day, getting all data in range\n",
    "for i in range(hourSeg):\n",
    "    endPart += milliHour\n",
    "    response = es1.search(index=\"rucio-events*\", body=ast.literal_eval(query1%(startPart,endPart)), request_timeout=600)\n",
    "    startPart = endPart + 1\n",
    "    for r in response['hits']['hits']:\n",
    "        fileTimestamp.append(r['fields']['@timestamp'])\n",
    "        fileSize.append(r['_source']['payload']['file-size'])\n",
    "        activity.append(r['_source']['payload']['activity'])\n",
    "        startedAt.append(r['_source']['payload']['started_at'])\n",
    "        submittedAt.append(r['_source']['payload']['submitted_at'])\n",
    "        transferredAt.append(r['_source']['payload']['transferred_at'])\n",
    "    \n",
    "    #Get random indices in range of length of data vectors\n",
    "    ind = np.random.choice(len(fileSize),size=100,replace=False)\n",
    "    np.random.seed()\n",
    "    \n",
    "    #Get random sample of data\n",
    "    \n",
    "    weekTimestamp += [ fileTimestamp[i] for i in ind]\n",
    "    weekFileSize += [ fileSize[i] for i in ind]\n",
    "    weekActivity += [ activity[i] for i in ind]\n",
    "    weekStartedAt += [ startedAt[i] for i in ind]\n",
    "    weekSubmittedAt += [ submittedAt[i] for i in ind]\n",
    "    weekTransferredAt += [ transferredAt[i] for i in ind]\n",
    "\n",
    "    if i%24 == 0:\n",
    "        print('Hey!')\n",
    "\n",
    "    \n",
    "#fileSize = np.array(fileSize)\n",
    "#activity = np.array(activity)\n",
    "#startedAt = np.array(startedAt)\n",
    "#submittedAt = np.array(submittedAt)\n",
    "#transferredAt = np.array(transferredAt)"
   ]
  },
  {
   "cell_type": "code",
   "execution_count": null,
   "metadata": {
    "collapsed": false
   },
   "outputs": [],
   "source": []
  },
  {
   "cell_type": "code",
   "execution_count": 192,
   "metadata": {
    "collapsed": true
   },
   "outputs": [],
   "source": [
    "\n",
    "def get_ddm_data(es,src,dst,start,end,agg,field,timestamp=False):\n",
    "    queryTemp = '''{\n",
    "      \"size\": 0,\n",
    "      \"query\": {\n",
    "        \"filtered\": {\n",
    "          \"query\": {\n",
    "            \"query_string\": {\n",
    "              \"query\": \"src:%s AND dst:%s\",\n",
    "              \"analyze_wildcard\": True\n",
    "            }\n",
    "          },\n",
    "          \"filter\": {\n",
    "            \"bool\": {\n",
    "              \"must\": [\n",
    "                {\n",
    "                  \"range\": {\n",
    "                    \"timestamp\": {\n",
    "                      \"gte\": %i,\n",
    "                      \"lte\": %i,\n",
    "                      \"format\": \"epoch_millis\"\n",
    "                    }\n",
    "                  }\n",
    "                }\n",
    "              ],\n",
    "              \"must_not\": []\n",
    "            }\n",
    "          }\n",
    "        }\n",
    "      },\n",
    "      \"aggs\": {\n",
    "        \"2\": {\n",
    "          \"date_histogram\": {\n",
    "            \"field\": \"timestamp\",\n",
    "            \"interval\": \"1h\",\n",
    "            \"time_zone\": \"Europe/Berlin\",\n",
    "            \"min_doc_count\": 1,\n",
    "            \"extended_bounds\": {\n",
    "              \"min\": %i,\n",
    "              \"max\": %i\n",
    "            }\n",
    "          },\n",
    "          \"aggs\": {\n",
    "            \"1\": {\n",
    "              \"%s\": {\n",
    "                \"field\": \"%s\"\n",
    "              }\n",
    "            }\n",
    "          }\n",
    "        }\n",
    "      }\n",
    "    }'''\n",
    "    query = ast.literal_eval(queryTemp%(src,dst,start,end,start,end,agg,field))\n",
    "    response = es.search(index=\"atlas_ddm-metrics*\", body=query, request_timeout=600)\n",
    "    \n",
    "    data = []\n",
    "    if timestamp == False:\n",
    "        for r in response['aggregations']['2']['buckets']:\n",
    "            data.append(r['1']['value'])\n",
    "        return np.array(data,dtype=np.float)\n",
    "    \n",
    "    elif timestamp == True:\n",
    "        timestamp = []\n",
    "        for r in response['aggregations']['2']['buckets']:\n",
    "            data.append(r['1']['value'])\n",
    "            timestamp.append(r['key'])\n",
    "        return np.array(data,dtype=np.float),np.array(timestamp,dtype=np.float)"
   ]
  },
  {
   "cell_type": "code",
   "execution_count": 214,
   "metadata": {
    "collapsed": false
   },
   "outputs": [
    {
     "name": "stdout",
     "output_type": "stream",
     "text": [
      "Finished aggregating in 3.783475 seconds\n"
     ]
    }
   ],
   "source": [
    "import time\n",
    "\n",
    "tic = time.time()\n",
    "#start and end left over from previous definition\n",
    "#Get fields from another host\n",
    "\n",
    "es2 = Elasticsearch(hosts=[{'host':'es-atlas.cern.ch', 'port':9202}],\n",
    "                   http_auth=('es-atlas', 'v~$&<J8/cG9]*eQ@'),\n",
    "                   timeout=60)\n",
    "\n",
    "agg = 'max'\n",
    "queuedData,timestamp = get_ddm_data(es2,src,dst,start,end,agg,'queued-total',timestamp=True)\n",
    "packetloss = get_ddm_data(es2,src,dst,start,end,agg,'packetloss')\n",
    "dashThroughput1h = get_ddm_data(es2,src,dst,start,end,agg,'mbps-dashb-1h')\n",
    "dashThroughput1d = get_ddm_data(es2,src,dst,start,end,agg,'mbps-dashb-1d')\n",
    "ftsThroughput1h = get_ddm_data(es2,src,dst,start,end,agg,'mbps-fts-1h')\n",
    "ftsThroughput1d = get_ddm_data(es2,src,dst,start,end,agg,'mbps-fts-1d')\n",
    "faxThroughput1h = get_ddm_data(es2,src,dst,start,end,agg,'mbps-fax-1h')\n",
    "faxThroughput1d = get_ddm_data(es2,src,dst,start,end,agg,'mbps-fax-1d')\n",
    "doneTotal1h = get_ddm_data(es2,src,dst,start,end,agg,'done-total-1h')\n",
    "\n",
    "\n",
    "print('Finished aggregating in %f seconds'%(time.time()-tic))"
   ]
  },
  {
   "cell_type": "code",
   "execution_count": null,
   "metadata": {
    "collapsed": false
   },
   "outputs": [],
   "source": []
  },
  {
   "cell_type": "code",
   "execution_count": null,
   "metadata": {
    "collapsed": false
   },
   "outputs": [],
   "source": []
  },
  {
   "cell_type": "code",
   "execution_count": null,
   "metadata": {
    "collapsed": false
   },
   "outputs": [],
   "source": []
  },
  {
   "cell_type": "code",
   "execution_count": 215,
   "metadata": {
    "collapsed": false
   },
   "outputs": [],
   "source": [
    "import datetime\n",
    "from datetime import datetime\n",
    "\n",
    "#Some useful functions for date conversion\n",
    "\n",
    "def convertDateToDatetime(dates):\n",
    "    '''\n",
    "    Converts string dates to datetime objects\n",
    "    '''\n",
    "    datetimeDates = []\n",
    "    \n",
    "    for i in range(len(dates)):\n",
    "        #Use decimal version if the date string contains a decimal point\n",
    "        if dates[i].find('.')==-1:\n",
    "            epoch = datetime.strptime(dates[i], \"%Y-%m-%d %H:%M:%S\")\n",
    "        else:\n",
    "            epoch = datetime.strptime(dates[i], \"%Y-%m-%d %H:%M:%S.%f\")\n",
    "        datetimeDates.append(epoch)\n",
    "    return datetimeDates\n",
    "\n",
    "def convertDateToMilliEpoch(dates):\n",
    "    '''\n",
    "    Converts string dates to milliEpoch values.\n",
    "    '''\n",
    "    epochDates = []\n",
    "    zeroEpoch = datetime.utcfromtimestamp(0)    \n",
    "    for i in range(len(dates)):\n",
    "        #Use decimal version if the date string contains a decimal point\n",
    "        if dates[i].find('.')==-1:\n",
    "            epoch = datetime.strptime(dates[i], \"%Y-%m-%d %H:%M:%S\")\n",
    "        else:\n",
    "            epoch = datetime.strptime(dates[i], \"%Y-%m-%d %H:%M:%S.%f\")\n",
    "            \n",
    "        epochDates.append((epoch - zeroEpoch).total_seconds() * 1000.0)\n",
    "    return epochDates\n",
    "        \n",
    "        \n",
    "    return datetimeDates\n",
    "\n",
    "def getSecondsDifference(epochDatesStart,epochDatesFinal):\n",
    "    diff = []\n",
    "    for i in range(len(epochDatesStart)):\n",
    "        diff.append((epochDatesFinal[i] - epochDatesStart[i]).total_seconds())\n",
    "    \n",
    "    return diff"
   ]
  },
  {
   "cell_type": "code",
   "execution_count": 216,
   "metadata": {
    "collapsed": false
   },
   "outputs": [],
   "source": [
    "#Convert string timestamps to usable quantities (each per-file, BTW)\n",
    "\n",
    "timeInQueue = getSecondsDifference(convertDateToDatetime(weekSubmittedAt),\n",
    "                                   convertDateToDatetime(weekStartedAt))\n",
    "timeTotal = getSecondsDifference(convertDateToDatetime(weekSubmittedAt),\n",
    "                                 convertDateToDatetime(weekTransferredAt))\n",
    "timeInTransfer = getSecondsDifference(convertDateToDatetime(weekStartedAt),\n",
    "                                      convertDateToDatetime(weekTransferredAt))\n",
    "\n",
    "timeInTransfer = np.array(timeInTransfer)\n",
    "timeTotal = np.array(timeTotal)\n",
    "timeInQueue = np.array(timeInQueue)"
   ]
  },
  {
   "cell_type": "code",
   "execution_count": null,
   "metadata": {
    "collapsed": false
   },
   "outputs": [],
   "source": []
  },
  {
   "cell_type": "code",
   "execution_count": 217,
   "metadata": {
    "collapsed": false
   },
   "outputs": [],
   "source": [
    "#Get times that each file is submitted at\n",
    "\n",
    "submittedTimes = np.array(convertDateToMilliEpoch(weekSubmittedAt))\n",
    "\n",
    "#Get indices for sorting (use these indices to sort any ddm-metrics variables)\n",
    "timeIndex = np.argsort(submittedTimes)\n",
    "submittedTimes = submittedTimes[timeIndex]\n",
    "\n",
    "#Sort according to monotonically increasing file-submitted timestamp\n",
    "weekFileSize = np.array(weekFileSize)[timeIndex]\n",
    "timeTotal = timeTotal[timeIndex]"
   ]
  },
  {
   "cell_type": "code",
   "execution_count": null,
   "metadata": {
    "collapsed": false
   },
   "outputs": [],
   "source": []
  },
  {
   "cell_type": "code",
   "execution_count": null,
   "metadata": {
    "collapsed": false
   },
   "outputs": [],
   "source": []
  },
  {
   "cell_type": "code",
   "execution_count": 218,
   "metadata": {
    "collapsed": false
   },
   "outputs": [],
   "source": [
    "#Get indices that relate the two timescales between metrics\n",
    "binIndex = np.digitize(submittedTimes,timestamp)-1\n"
   ]
  },
  {
   "cell_type": "code",
   "execution_count": 219,
   "metadata": {
    "collapsed": false
   },
   "outputs": [],
   "source": [
    "queue = queuedData[binIndex]\n",
    "loss = packetloss[binIndex]\n",
    "times = timestamp[binIndex]\n",
    "dash_through1h = dashThroughput1h[binIndex]\n",
    "dash_through1d = dashThroughput1d[binIndex]\n",
    "fts_through1d = ftsThroughput1d[binIndex]\n",
    "fts_through1h = ftsThroughput1h[binIndex]\n",
    "done_total1h = doneTotal1h[binIndex]\n",
    "done_total1d = doneTotal1d[binIndex]\n"
   ]
  },
  {
   "cell_type": "code",
   "execution_count": null,
   "metadata": {
    "collapsed": false
   },
   "outputs": [],
   "source": []
  },
  {
   "cell_type": "code",
   "execution_count": 256,
   "metadata": {
    "collapsed": false
   },
   "outputs": [],
   "source": [
    "inputSample = np.squeeze(np.dstack((queue,done_total1h,weekFileSize,dash_through1h)))\n",
    "outputSample = timeTotal"
   ]
  },
  {
   "cell_type": "code",
   "execution_count": null,
   "metadata": {
    "collapsed": false
   },
   "outputs": [],
   "source": []
  },
  {
   "cell_type": "code",
   "execution_count": 257,
   "metadata": {
    "collapsed": false
   },
   "outputs": [],
   "source": [
    "missing = np.isnan(np.sum(inputSample,axis=1))\n",
    "\n",
    "beta_hat = np.linalg.lstsq(inputSample[~missing],outputSample[~missing])[0]"
   ]
  },
  {
   "cell_type": "code",
   "execution_count": 258,
   "metadata": {
    "collapsed": false
   },
   "outputs": [],
   "source": [
    "predictOutput = np.dot(inputSample,beta_hat)"
   ]
  },
  {
   "cell_type": "code",
   "execution_count": 259,
   "metadata": {
    "collapsed": false
   },
   "outputs": [
    {
     "data": {
      "text/plain": [
       "<matplotlib.legend.Legend at 0x7ff9f2bad828>"
      ]
     },
     "execution_count": 259,
     "metadata": {},
     "output_type": "execute_result"
    },
    {
     "data": {
      "image/png": "[encoded data removed]",
      "text/plain": [
       "<matplotlib.figure.Figure at 0x7ffa01903ac8>"
      ]
     },
     "metadata": {},
     "output_type": "display_data"
    }
   ],
   "source": [
    "a,b = 0,len(submittedTimes)\n",
    "plt.figure(figsize=(20,10))\n",
    "plt.plot(submittedTimes[a:b],predictOutput[a:b],'b.',label='Predicted')\n",
    "plt.plot(submittedTimes[a:b],outputSample[a:b],'r.',label='Actual')\n",
    "plt.legend()"
   ]
  },
  {
   "cell_type": "code",
   "execution_count": null,
   "metadata": {
    "collapsed": false
   },
   "outputs": [],
   "source": []
  },
  {
   "cell_type": "code",
   "execution_count": null,
   "metadata": {
    "collapsed": false
   },
   "outputs": [],
   "source": []
  },
  {
   "cell_type": "code",
   "execution_count": null,
   "metadata": {
    "collapsed": false
   },
   "outputs": [],
   "source": []
  },
  {
   "cell_type": "code",
   "execution_count": null,
   "metadata": {
    "collapsed": true
   },
   "outputs": [],
   "source": []
  }
 ],
 "metadata": {
  "kernelspec": {
   "display_name": "Python 3",
   "language": "python",
   "name": "python3"
  },
  "language_info": {
   "codemirror_mode": {
    "name": "ipython",
    "version": 3
   },
   "file_extension": ".py",
   "mimetype": "text/x-python",
   "name": "python",
   "nbconvert_exporter": "python",
   "pygments_lexer": "ipython3",
   "version": "3.5.1"
  }
 },
 "nbformat": 4,
 "nbformat_minor": 0
}
