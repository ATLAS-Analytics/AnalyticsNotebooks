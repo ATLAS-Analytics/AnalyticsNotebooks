{
 "cells": [
  {
   "cell_type": "code",
   "execution_count": 41,
   "metadata": {
    "collapsed": true
   },
   "outputs": [],
   "source": [
    "import numpy as np\n",
    "import matplotlib.pyplot as plt\n",
    "import datetime\n",
    "import re\n",
    "from elasticsearch import Elasticsearch, exceptions as es_exceptions\n",
    "from elasticsearch.helpers import scan\n",
    "\n",
    "#Create instance of ElasticSearch using the Atlas host server\n",
    "es = Elasticsearch(hosts=[{'host':'atlas-kibana.mwt2.org', 'port':9200}],timeout=60)"
   ]
  },
  {
   "cell_type": "code",
   "execution_count": 42,
   "metadata": {
    "collapsed": true
   },
   "outputs": [],
   "source": [
    "#Get indices for network_weather-2*\n",
    "indices = es.cat.indices(index=\"network_weather_2-*\", h=\"index\", request_timeout=600).split('\\n')\n",
    "indices = sorted(indices)\n",
    "indices = [x for x in indices if x != '']"
   ]
  },
  {
   "cell_type": "code",
   "execution_count": null,
   "metadata": {
    "collapsed": false
   },
   "outputs": [],
   "source": []
  },
  {
   "cell_type": "code",
   "execution_count": 46,
   "metadata": {
    "collapsed": false
   },
   "outputs": [
    {
     "data": {
      "text/plain": [
       "'{\\n  \"query\": {\\n    \"filtered\": {\\n      \"query\": {\\n        \"query_string\": {\\n          \"query\": \"srcSite:CERN* AND destSite:BNL-ATLAS*\",\\n          \"analyze_wildcard\": True,\\n          \"lowercase_expanded_terms\": False\\n        }\\n      },\\n      \"filter\": {\\n        \"bool\": {\\n          \"must\": [\\n            {\\n              \"range\": {\\n                \"@timestamp\": {\\n                  \"gte\": \\'now - 90d\\',\\n                  \"lte\": \\'now\\',\\n                  \"format\": \"epoch_millis\"\\n                }\\n              }\\n            }\\n          ],\\n          \"must_not\": []\\n        }\\n      }\\n    }\\n  },\\n  \"size\": 0,\\n  \"aggs\": {\\n    \"2\": {\\n      \"date_histogram\": {\\n        \"field\": \"@timestamp\",\\n        \"interval\": \"1d\",\\n        \"time_zone\": \"Europe/Berlin\",\\n        \"min_doc_count\": 1,\\n        \"extended_bounds\": {\\n          \"min\": \\'now - 90d\\',\\n          \"max\": \\'now\\'\\n        }\\n      },\\n      \"aggs\": {\\n        \"1\": {\\n          \"avg\": {\\n            \"field\": \"delay_mean\"\\n          }\\n        }\\n      }\\n    }\\n  }\\n}'"
      ]
     },
     "execution_count": 46,
     "metadata": {},
     "output_type": "execute_result"
    }
   ],
   "source": [
    "import ast\n",
    "\n",
    "_src = \"CERN*\"\n",
    "_dst = \"BNL-ATLAS*\"\n",
    "field = \"delay_mean\"\n",
    "period = '90d'\n",
    "binSize = \"1d\"\n",
    "aggType = \"avg\"\n",
    "\n",
    "#def getFieldWithTimestamp(_src,_dst,field,periodStart,periodStop,binSize,aggType):\n",
    "queryTemplate= '''{\n",
    "  \"query\": {\n",
    "    \"filtered\": {\n",
    "      \"query\": {\n",
    "        \"query_string\": {\n",
    "          \"query\": \"srcSite:%s AND destSite:%s\",\n",
    "          \"analyze_wildcard\": True,\n",
    "          \"lowercase_expanded_terms\": False\n",
    "        }\n",
    "      },\n",
    "      \"filter\": {\n",
    "        \"bool\": {\n",
    "          \"must\": [\n",
    "            {\n",
    "              \"range\": {\n",
    "                \"@timestamp\": {\n",
    "                  \"gte\": 'now - %s',\n",
    "                  \"lte\": 'now',\n",
    "                  \"format\": \"epoch_millis\"\n",
    "                }\n",
    "              }\n",
    "            }\n",
    "          ],\n",
    "          \"must_not\": []\n",
    "        }\n",
    "      }\n",
    "    }\n",
    "  },\n",
    "  \"size\": 0,\n",
    "  \"aggs\": {\n",
    "    \"2\": {\n",
    "      \"date_histogram\": {\n",
    "        \"field\": \"@timestamp\",\n",
    "        \"interval\": \"%s\",\n",
    "        \"time_zone\": \"Europe/Berlin\",\n",
    "        \"min_doc_count\": 1,\n",
    "        \"extended_bounds\": {\n",
    "          \"min\": 'now - %s',\n",
    "          \"max\": 'now'\n",
    "        }\n",
    "      },\n",
    "      \"aggs\": {\n",
    "        \"1\": {\n",
    "          \"%s\": {\n",
    "            \"field\": \"%s\"\n",
    "          }\n",
    "        }\n",
    "      }\n",
    "    }\n",
    "  }\n",
    "}'''\n",
    "query = queryTemplate%(_src,_dst,period,binSize,period,aggType,field)\n",
    "query"
   ]
  },
  {
   "cell_type": "code",
   "execution_count": 47,
   "metadata": {
    "collapsed": false
   },
   "outputs": [
    {
     "name": "stdout",
     "output_type": "stream",
     "text": [
      "{'query': {'filtered': {'query': {'query_string': {'lowercase_expanded_terms': False, 'analyze_wildcard': True, 'query': 'srcSite:CERN* AND destSite:BNL-ATLAS*'}}, 'filter': {'bool': {'must_not': [], 'must': [{'range': {'@timestamp': {'gte': 'now - 90d', 'lte': 'now', 'format': 'epoch_millis'}}}]}}}}, 'size': 0, 'aggs': {'2': {'date_histogram': {'field': '@timestamp', 'interval': '1d', 'extended_bounds': {'min': 'now - 90d', 'max': 'now'}, 'min_doc_count': 1, 'time_zone': 'Europe/Berlin'}, 'aggs': {'1': {'avg': {'field': 'delay_mean'}}}}}}\n",
      "{'timed_out': False, 'took': 96, 'hits': {'total': 0, 'hits': [], 'max_score': 0.0}, '_shards': {'failed': 0, 'total': 925, 'successful': 925}, 'aggregations': {'2': {'buckets': []}}}\n"
     ]
    }
   ],
   "source": [
    "builtQuery = ast.literal_eval(query)\n",
    "print(builtQuery)\n",
    "response = es.search(index=\"network_weather_2-*\", body=builtQuery, request_timeout=600)\n",
    "print(response)\n",
    "#Initialize lists\n",
    "fieldVals = []\n",
    "timestamp = []\n",
    "\n",
    "#For each bucket:\n",
    "for r in response['aggregations']['2']['buckets']:\n",
    "\n",
    "    #Get field value and timestamp\n",
    "    fieldVals.append(r['1']['value'])\n",
    "    timestamp.append(r['key'])\n",
    " \n",
    "#Convert both to numpy arrays\n",
    "timestamp = np.array(timestamp)\n",
    "fieldVals = np.array(fieldVals)"
   ]
  },
  {
   "cell_type": "code",
   "execution_count": 39,
   "metadata": {
    "collapsed": false
   },
   "outputs": [
    {
     "data": {
      "text/plain": [
       "array([], dtype=float64)"
      ]
     },
     "execution_count": 39,
     "metadata": {},
     "output_type": "execute_result"
    }
   ],
   "source": [
    "timestamp"
   ]
  },
  {
   "cell_type": "code",
   "execution_count": 37,
   "metadata": {
    "collapsed": false
   },
   "outputs": [
    {
     "ename": "TypeError",
     "evalue": "getFieldWithTimestamp() missing 1 required positional argument: 'aggType'",
     "output_type": "error",
     "traceback": [
      "\u001b[1;31m---------------------------------------------------------------------------\u001b[0m",
      "\u001b[1;31mTypeError\u001b[0m                                 Traceback (most recent call last)",
      "\u001b[1;32m<ipython-input-37-49a9b3ecab5b>\u001b[0m in \u001b[0;36m<module>\u001b[1;34m()\u001b[0m\n\u001b[0;32m      1\u001b[0m \u001b[1;33m\u001b[0m\u001b[0m\n\u001b[1;32m----> 2\u001b[1;33m \u001b[0mq\u001b[0m \u001b[1;33m=\u001b[0m \u001b[0mgetFieldWithTimestamp\u001b[0m\u001b[1;33m(\u001b[0m\u001b[0m_src\u001b[0m\u001b[1;33m,\u001b[0m\u001b[0m_dst\u001b[0m\u001b[1;33m,\u001b[0m\u001b[0mfield\u001b[0m\u001b[1;33m,\u001b[0m\u001b[0mperiodStart\u001b[0m\u001b[1;33m,\u001b[0m\u001b[0mperiodStop\u001b[0m\u001b[1;33m,\u001b[0m\u001b[0mbinSize\u001b[0m\u001b[1;33m,\u001b[0m\u001b[0maggType\u001b[0m\u001b[1;33m)\u001b[0m\u001b[1;33m\u001b[0m\u001b[0m\n\u001b[0m",
      "\u001b[1;31mTypeError\u001b[0m: getFieldWithTimestamp() missing 1 required positional argument: 'aggType'"
     ]
    }
   ],
   "source": [
    "\n"
   ]
  },
  {
   "cell_type": "code",
   "execution_count": 27,
   "metadata": {
    "collapsed": false
   },
   "outputs": [
    {
     "data": {
      "text/plain": [
       "{'aggs': {'2': {'aggs': {'1': {'avg': {'field': 'delay_mean'}}},\n",
       "   'date_histogram': {'extended_bounds': {'max': 1468241030907,\n",
       "     'min': 1452519830907},\n",
       "    'field': '@timestamp',\n",
       "    'interval': '1d',\n",
       "    'min_doc_count': 1,\n",
       "    'time_zone': 'Europe/Berlin'}}},\n",
       " 'query': {'filtered': {'filter': {'bool': {'must': [{'range': {'@timestamp': {'format': 'epoch_millis',\n",
       "         'gte': 1452519830907,\n",
       "         'lte': 1468241030907}}}],\n",
       "     'must_not': []}},\n",
       "   'query': {'query_string': {'analyze_wildcard': True,\n",
       "     'lowercase_expanded_terms': False,\n",
       "     'query': 'srcSite:CERN* AND destSite:BNL*'}}}},\n",
       " 'size': 0}"
      ]
     },
     "execution_count": 27,
     "metadata": {},
     "output_type": "execute_result"
    }
   ],
   "source": [
    "q"
   ]
  },
  {
   "cell_type": "code",
   "execution_count": null,
   "metadata": {
    "collapsed": true
   },
   "outputs": [],
   "source": []
  },
  {
   "cell_type": "code",
   "execution_count": null,
   "metadata": {
    "collapsed": true
   },
   "outputs": [],
   "source": []
  }
 ],
 "metadata": {
  "kernelspec": {
   "display_name": "Python 3",
   "language": "python",
   "name": "python3"
  },
  "language_info": {
   "codemirror_mode": {
    "name": "ipython",
    "version": 3
   },
   "file_extension": ".py",
   "mimetype": "text/x-python",
   "name": "python",
   "nbconvert_exporter": "python",
   "pygments_lexer": "ipython3",
   "version": "3.5.1"
  }
 },
 "nbformat": 4,
 "nbformat_minor": 0
}
