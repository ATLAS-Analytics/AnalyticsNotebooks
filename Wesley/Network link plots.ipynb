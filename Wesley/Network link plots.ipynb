{
 "cells": [
  {
   "cell_type": "code",
   "execution_count": 3,
   "metadata": {
    "collapsed": true
   },
   "outputs": [],
   "source": [
    "#These lines set up inline plotting, and apply a standard size\n",
    "%matplotlib inline\n",
    "import matplotlib\n",
    "matplotlib.rc('font', **{'size': 15})"
   ]
  },
  {
   "cell_type": "code",
   "execution_count": 4,
   "metadata": {
    "collapsed": true
   },
   "outputs": [],
   "source": [
    "import numpy as np\n",
    "import matplotlib.pyplot as plt\n",
    "import datetime\n",
    "import re\n",
    "from elasticsearch import Elasticsearch, exceptions as es_exceptions\n",
    "from elasticsearch.helpers import scan\n",
    "\n",
    "#Create instance of ElasticSearch using the Atlas host server\n",
    "es = Elasticsearch(hosts=[{'host':'atlas-kibana-2.mwt2.org', 'port':9200}],timeout=60)"
   ]
  },
  {
   "cell_type": "code",
   "execution_count": 5,
   "metadata": {
    "collapsed": false
   },
   "outputs": [],
   "source": [
    "#Get indices for rucio-events*\n",
    "indices = es.cat.indices(index=\"rucio-events*\", h=\"index\", request_timeout=600).split('\\n')\n",
    "indices = sorted(indices)\n",
    "indices = [x for x in indices if x != '']"
   ]
  },
  {
   "cell_type": "code",
   "execution_count": 6,
   "metadata": {
    "collapsed": true
   },
   "outputs": [],
   "source": [
    "def getFieldWithTimestamp(_src,_dst,field,eventType,period,binSize,aggType):\n",
    "    '''\n",
    "    This function, given a properly built query, gets the desired field value and timestamps (in milliseconds from\n",
    "    Epoch). Requires a query to be built by the buildFieldWithTimestampQuery() function.\n",
    "    '''\n",
    "    query = buildFieldWithTimestampQuery(_src,_dst,field,eventType,period,binSize,aggType)\n",
    "    response = es.search(index=\"rucio-events*\", body=query, request_timeout=600)\n",
    "    #Initialize lists\n",
    "    fieldVals = []\n",
    "    timestamp = []\n",
    "    \n",
    "    #For each bucket:\n",
    "    for r in response['aggregations']['2']['buckets']:\n",
    "        \n",
    "        #Get field value and timestamp\n",
    "        fieldVals.append(r['3']['value'])\n",
    "        timestamp.append(r['key'])\n",
    "        \n",
    "    #Convert both to numpy arrays\n",
    "    timestamp = np.array(timestamp)\n",
    "    fieldVals = np.array(fieldVals)\n",
    "    \n",
    "    return fieldVals, timestamp"
   ]
  },
  {
   "cell_type": "code",
   "execution_count": 7,
   "metadata": {
    "collapsed": false
   },
   "outputs": [],
   "source": [
    "import ast\n",
    "\n",
    "def buildFieldWithTimestampQuery(_src,_dst,field,eventType,period,binSize,aggType):\n",
    "    '''\n",
    "    This function builds a query to feed to the getFieldwithTimestamp() function. It requires the following input parameters:\n",
    "    _src: [str] The source data center, e.g. \"CERN-PROD*\" (note that this query accepts wildcards).\n",
    "    _dst: [str] The destination data center, e.g. \"BNL*\".\n",
    "    field: [str] The desired field of data. Examples include \"payload.bytes\",\"payload.duration\", and \"payload.file-size\".\n",
    "    eventType: [str] Filters the data based on event type. A list of some possibilities: \"transfer-submitted\", \"transfer-done\",\n",
    "        \"transfer-failed\", \"transfer-waiting\", and \"*\" (grabs field from all event types, if it exists).\n",
    "    period: [str] The period of time over which the field is acquired. For example, \"7d\" would grab a week of data from the\n",
    "        current time.\n",
    "    binSize: [str] The period of time that each histogram bin spans. For example, \"1h\" bins the data hourly.\n",
    "    aggType: [str] Method to aggregate data. Examples include \"sum\", \"avg\", \"max\", \"min\", \"cardinality\" (for unique count).\n",
    "    \n",
    "    '''\n",
    "    queryTemplate= \"\"\"{\n",
    "      \"query\": {\n",
    "        \"filtered\": {\n",
    "          \"query\": {\n",
    "            \"query_string\": {\n",
    "              \"query\": \"payload.src-rse:%s* AND payload.dst-rse:%s* AND event_type:%s\",\n",
    "              \"analyze_wildcard\": True,\n",
    "              \"lowercase_expanded_terms\": False\n",
    "            }\n",
    "          },\n",
    "          \"filter\": {\n",
    "            \"bool\": {\n",
    "              \"must\": [\n",
    "                {\n",
    "                  \"range\": {\n",
    "                    \"@timestamp\": {\n",
    "                      \"gte\": 'now-%s',\n",
    "                      \"lte\": 'now',\n",
    "                      \"format\": \"epoch_millis\"\n",
    "                    }\n",
    "                  }\n",
    "                }\n",
    "              ],\n",
    "              \"must_not\": []\n",
    "            }\n",
    "          }\n",
    "        }\n",
    "      },\n",
    "      \"size\": 0,\n",
    "      \"aggs\": {\n",
    "        \"2\": {\n",
    "          \"date_histogram\": {\n",
    "            \"field\": \"@timestamp\",\n",
    "            \"interval\": \"%s\",\n",
    "            \"time_zone\": \"Europe/Berlin\",\n",
    "            \"min_doc_count\": 1,\n",
    "            \"extended_bounds\": {\n",
    "              \"min\": 'now-%s',\n",
    "              \"max\": 'now'\n",
    "            }\n",
    "          },\n",
    "          \"aggs\": {\n",
    "            \"3\": {\n",
    "              \"%s\": {\n",
    "                \"field\": \"%s\"\n",
    "              }\n",
    "            }\n",
    "          }\n",
    "        }\n",
    "      }\n",
    "    }\"\"\"\n",
    "\n",
    "    builtQuery = ast.literal_eval(queryTemplate%(_src,_dst,eventType,period,binSize,period,aggType,field))\n",
    "    return builtQuery"
   ]
  },
  {
   "cell_type": "code",
   "execution_count": 8,
   "metadata": {
    "collapsed": false
   },
   "outputs": [],
   "source": [
    "def getCountWithTimestamp(_src,_dst,eventType,period,binSize):\n",
    "    '''\n",
    "    Getting a count value requires a different query format then getting field values, so I created a separate function\n",
    "    for this utility. This function requires the following input parameters:\n",
    "        _src: [str] The source data center, e.g. \"CERN-PROD*\" (note that this query accepts wildcards).\n",
    "        _dst: [str] The destination data center, e.g. \"BNL*\".\n",
    "        period: [str] The period of time over which the field is acquired. For example, \"7d\" would grab a week of data from the\n",
    "            current time.\n",
    "        binSize: [str] The period of time that each histogram bin spans. For example, \"1h\" bins the data hourly.\n",
    "    \n",
    "    Outputs:\n",
    "        countVals: The number of events for the desired period.\n",
    "        timestamp: Corresponding time values, in milli-epochs.\n",
    "    '''\n",
    "    queryTemplate = \"\"\"{\n",
    "      \"size\": 0,\n",
    "      \"query\": {\n",
    "        \"filtered\": {\n",
    "          \"query\": {\n",
    "            \"query_string\": {\n",
    "              \"analyze_wildcard\": True,\n",
    "              \"lowercase_expanded_terms\": False,\n",
    "              \"query\": \"payload.src-rse:%s AND payload.dst-rse:%s AND event_type:%s\"\n",
    "            }\n",
    "          },\n",
    "          \"filter\": {\n",
    "            \"bool\": {\n",
    "              \"must\": [\n",
    "                {\n",
    "                  \"range\": {\n",
    "                    \"@timestamp\": {\n",
    "                        \"gte\": 'now-%s',\n",
    "                        \"lte\": 'now',\n",
    "                      \"format\": \"epoch_millis\"\n",
    "                    }\n",
    "                  }\n",
    "                }\n",
    "              ],\n",
    "              \"must_not\": []\n",
    "            }\n",
    "          }\n",
    "        }\n",
    "      },\n",
    "      \"aggs\": {\n",
    "        \"3\": {\n",
    "          \"date_histogram\": {\n",
    "            \"field\": \"@timestamp\",\n",
    "            \"interval\": \"%s\",\n",
    "            \"time_zone\": \"Europe/Berlin\",\n",
    "            \"min_doc_count\": 1,\n",
    "            \"extended_bounds\": {\n",
    "                \"min\": 'now-%s',\n",
    "                \"max\": 'now'\n",
    "            }\n",
    "          }\n",
    "        }\n",
    "      }\n",
    "    }\"\"\"\n",
    "\n",
    "    #Initialize lists\n",
    "    countVals = []\n",
    "    timestamp = []\n",
    "\n",
    "    \n",
    "    builtQuery = ast.literal_eval(queryTemplate%(_src,_dst,eventType,period,binSize,period))\n",
    "    response = es.search(index=\"rucio-events*\", body=builtQuery, request_timeout=600)\n",
    "\n",
    "    #For each bucket:\n",
    "    for r in response['aggregations']['3']['buckets']:\n",
    "        countVals.append(r['doc_count'])\n",
    "        timestamp.append(r['key'])\n",
    "\n",
    "    countVals = np.array(countVals)\n",
    "    timestamp = np.array(timestamp)\n",
    "\n",
    "    return countVals,timestamp\n"
   ]
  },
  {
   "cell_type": "code",
   "execution_count": null,
   "metadata": {
    "collapsed": false
   },
   "outputs": [],
   "source": [
    "\n"
   ]
  },
  {
   "cell_type": "code",
   "execution_count": 13,
   "metadata": {
    "collapsed": false
   },
   "outputs": [],
   "source": [
    "def getHistogramData(_src,_dst,period,binSize):\n",
    "    #Acquire data for throughput calculation\n",
    "    field = \"payload.bytes\"\n",
    "    eventType = \"transfer-submitted\"\n",
    "    aggType = \"avg\"\n",
    "\n",
    "    payloadBytes,payloadTimestamp = getFieldWithTimestamp(_src,_dst,field,eventType,period,binSize,aggType)\n",
    "    print(\"Obtained bytecount data over chosen timerange (length %s).\"%str(len(payloadBytes)))\n",
    "    \n",
    "    #Acquire data for duration display\n",
    "\n",
    "    field = \"payload.duration\"\n",
    "    eventType = \"transfer-done\"\n",
    "    aggType = \"avg\"\n",
    "    payloadDuration,_ = getFieldWithTimestamp(_src,_dst,field,eventType,period,binSize,aggType)\n",
    "    print(\"Obtained duration data over chosen timerange (length %s).\"%str(len(payloadDuration)))\n",
    "    # Get number of queued values\n",
    "    eventType = \"transfer-submitted\"\n",
    "\n",
    "    countVals,_ = getCountWithTimestamp(_src,_dst,eventType,period,binSize)\n",
    "    print(\"Obtained # of queued files over chosen timerange (length %s).\"%str(len(countVals)))\n",
    "    \n",
    "    return payloadBytes, payloadTimestamp,payloadDuration,countVals"
   ]
  },
  {
   "cell_type": "code",
   "execution_count": 37,
   "metadata": {
    "collapsed": false
   },
   "outputs": [
    {
     "name": "stdout",
     "output_type": "stream",
     "text": [
      "Obtained bytecount data over chosen timerange (length 60).\n",
      "Obtained duration data over chosen timerange (length 60).\n",
      "Obtained # of queued files over chosen timerange (length 60).\n"
     ]
    }
   ],
   "source": [
    "#Need to replace None with NaN (Why are these blank anyways?)\n",
    "def convertNoneToNan(arr):\n",
    "    for i in range(len(arr)):\n",
    "        if arr[i] is None:\n",
    "                   arr[i] = np.nan\n",
    "    return arr\n"
   ]
  },
  {
   "cell_type": "code",
   "execution_count": 88,
   "metadata": {
    "collapsed": false
   },
   "outputs": [],
   "source": [
    "import re\n",
    "def binSizeToTimescale(binSize):\n",
    "    '''\n",
    "    This function expects binSize strings like \"12h\" and \"4d\". Used to convert throughput\n",
    "    units to MB per second based on bin size\n",
    "    '''\n",
    "    numeric=re.findall(r'\\d+',binSize)\n",
    "    numVal = int(numeric[0])\n",
    "    if binSize[len(binSize)-1] == 'h':\n",
    "        timeScaling = (60**2)*numVal\n",
    "    elif binSize[len(binSize)-1] == 'd':\n",
    "        timeScaling = (60**2*24)*numVal\n",
    "    \n",
    "    return timeScaling\n"
   ]
  },
  {
   "cell_type": "code",
   "execution_count": 87,
   "metadata": {
    "collapsed": false
   },
   "outputs": [
    {
     "name": "stdout",
     "output_type": "stream",
     "text": [
      "43200\n",
      "43200\n"
     ]
    }
   ],
   "source": [
    "print(binSizeToTimescale(\"12h\"))\n",
    "print(60*60*12)"
   ]
  },
  {
   "cell_type": "code",
   "execution_count": 97,
   "metadata": {
    "collapsed": false
   },
   "outputs": [
    {
     "name": "stdout",
     "output_type": "stream",
     "text": [
      "Obtained bytecount data over chosen timerange (length 60).\n",
      "Obtained duration data over chosen timerange (length 60).\n",
      "Obtained # of queued files over chosen timerange (length 60).\n"
     ]
    },
    {
     "data": {
      "image/png": "[encoded data removed]",
      "text/plain": [
       "<matplotlib.figure.Figure at 0x7f6180ad0550>"
      ]
     },
     "metadata": {},
     "output_type": "display_data"
    }
   ],
   "source": [
    "import matplotlib.dates as dt\n",
    "\n",
    "_src = 'IN2P3*'\n",
    "_dst = 'BNL*'\n",
    "period = \"30d\"\n",
    "binSize = \"12h\"\n",
    "\n",
    "payloadBytes, payloadTimestamp,payloadDuration,countVals = getHistogramData(_src,_dst,period,binSize)\n",
    "payloadBytes = convertNoneToNan(payloadBytes)\n",
    "\n",
    "#Get throughput            1E-6 MB/B  \n",
    "throughput = payloadBytes*(1E-6)/binSizeToTimescale(binSize) #units in MB/sec\n",
    "\n",
    "#Manually add extra ticks to histogram plots\n",
    "ticks = 2 \n",
    "\n",
    "#First plot\n",
    "times = dt.epoch2num(payloadTimestamp/1000.)\n",
    "width = times[1] - times[0]\n",
    "\n",
    "plt.figure(figsize=(20,10))\n",
    "plt.subplot(311)\n",
    "plt.bar(times,throughput,width=width)\n",
    "plt.grid()\n",
    "plt.title('Throughput over %s'%period)\n",
    "plt.ylabel('Average throughput [MB/sec]')\n",
    "ax=plt.gca()\n",
    "\n",
    "#Don't display the xtick labels for this plot\n",
    "ax.xaxis.set_major_formatter(plt.NullFormatter())\n",
    "\n",
    "start, end = ax.get_xlim()\n",
    "#Place extra xticks manually (change 1/4 to something different)\n",
    "plt.xticks(np.arange(start, end,ticks),rotation= 80 )\n",
    "\n",
    "#Second plot\n",
    "plt.subplot(312)\n",
    "plt.bar(times,payloadDuration,width=width)\n",
    "plt.grid()\n",
    "plt.title('Duration over %s'%period)\n",
    "plt.ylabel('Duration [sec]')\n",
    "ax=plt.gca()\n",
    "\n",
    "#Don't display the xtick labels for this plot either\n",
    "ax.xaxis.set_major_formatter(plt.NullFormatter())\n",
    "\n",
    "start, end = ax.get_xlim()\n",
    "#Place extra xticks manually (change 1/4 to something different)\n",
    "plt.xticks(np.arange(start, end,ticks),rotation= 80 )\n",
    "\n",
    "\n",
    "\n",
    "#Third plot\n",
    "plt.subplot(313)\n",
    "plt.bar(times,countVals,width=width)\n",
    "plt.grid()\n",
    "plt.title('Files queued over %s'%period)\n",
    "plt.ylabel('# of files queued')\n",
    "ax=plt.gca()\n",
    "\n",
    "#Tedious date/time formatting\n",
    "xfmt = dt.DateFormatter('%d-%m-%Y %H:%M:%S')\n",
    "ax.xaxis.set_major_formatter(xfmt)\n",
    "ax.xaxis_date()\n",
    "\n",
    "start, end = ax.get_xlim()\n",
    "#Place extra xticks manually (change 1/4 to something different)\n",
    "plt.xticks(np.arange(start, end,ticks),rotation= 80 )\n",
    "plt.show()\n"
   ]
  },
  {
   "cell_type": "code",
   "execution_count": null,
   "metadata": {
    "collapsed": false
   },
   "outputs": [],
   "source": []
  },
  {
   "cell_type": "code",
   "execution_count": null,
   "metadata": {
    "collapsed": false
   },
   "outputs": [],
   "source": []
  },
  {
   "cell_type": "markdown",
   "metadata": {},
   "source": [
    "Graphing # of files vs. throughput, it looks like a linear relation, with the exception of some outliers. What are these outliers?"
   ]
  },
  {
   "cell_type": "code",
   "execution_count": 63,
   "metadata": {
    "collapsed": false,
    "scrolled": true
   },
   "outputs": [
    {
     "data": {
      "text/plain": [
       "<matplotlib.text.Text at 0x7f618098c828>"
      ]
     },
     "execution_count": 63,
     "metadata": {},
     "output_type": "execute_result"
    },
    {
     "data": {
      "image/png": "[encoded data removed]",
      "text/plain": [
       "<matplotlib.figure.Figure at 0x7f6182d4b940>"
      ]
     },
     "metadata": {},
     "output_type": "display_data"
    }
   ],
   "source": [
    "plt.figure(figsize=(10,5))\n",
    "plt.loglog(countVals,throughputWeek,'k.')\n",
    "plt.xlabel('# of files')\n",
    "plt.ylabel('Throughput [MB/s]')"
   ]
  },
  {
   "cell_type": "code",
   "execution_count": null,
   "metadata": {
    "collapsed": false
   },
   "outputs": [],
   "source": [
    "G = np.corrcoef(countVals,throughputWeek)"
   ]
  },
  {
   "cell_type": "code",
   "execution_count": null,
   "metadata": {
    "collapsed": false
   },
   "outputs": [],
   "source": [
    "G"
   ]
  },
  {
   "cell_type": "code",
   "execution_count": null,
   "metadata": {
    "collapsed": true
   },
   "outputs": [],
   "source": []
  }
 ],
 "metadata": {
  "kernelspec": {
   "display_name": "Python 3",
   "language": "python",
   "name": "python3"
  },
  "language_info": {
   "codemirror_mode": {
    "name": "ipython",
    "version": 3
   },
   "file_extension": ".py",
   "mimetype": "text/x-python",
   "name": "python",
   "nbconvert_exporter": "python",
   "pygments_lexer": "ipython3",
   "version": "3.5.1"
  }
 },
 "nbformat": 4,
 "nbformat_minor": 0
}
