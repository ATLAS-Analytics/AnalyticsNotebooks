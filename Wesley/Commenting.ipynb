{
 "cells": [
  {
   "cell_type": "markdown",
   "metadata": {},
   "source": [
    "Mario's clustering code, commented for my edification, and altered to do my bidding."
   ]
  },
  {
   "cell_type": "code",
   "execution_count": 136,
   "metadata": {
    "collapsed": true
   },
   "outputs": [],
   "source": [
    "#These lines set up inline plotting, and apply a standard size\n",
    "%matplotlib inline\n",
    "import matplotlib\n",
    "matplotlib.rc('font', **{'size': 22})"
   ]
  },
  {
   "cell_type": "code",
   "execution_count": 137,
   "metadata": {
    "collapsed": false
   },
   "outputs": [],
   "source": [
    "#Define values corresponding to certain \"epoch_millis\" timestamps\n",
    "six_hours = 3600*6*1000\n",
    "four_hours = 3600*4*1000\n",
    "eight_hours = 3600*8*1000\n",
    "twelve_hours = 2*six_hours\n",
    "twenty_hours = 3600*20*1000\n",
    "thirty_hours = 3600*30*1000"
   ]
  },
  {
   "cell_type": "code",
   "execution_count": 166,
   "metadata": {
    "collapsed": false
   },
   "outputs": [],
   "source": [
    "_src = 'CERN-PROD*'\n",
    "_dst = 'BNL*'"
   ]
  },
  {
   "cell_type": "code",
   "execution_count": 167,
   "metadata": {
    "collapsed": true
   },
   "outputs": [],
   "source": [
    "#define base query for Kibana\n",
    "\n",
    "queryForm=\"\"\"{\n",
    "  \"size\": 500,\n",
    "  \"sort\": [\n",
    "    {\n",
    "      \"@timestamp\": {\n",
    "        \"order\": \"desc\",\n",
    "        \"unmapped_type\": \"boolean\"\n",
    "      }\n",
    "    }\n",
    "  ],\n",
    "  \"query\": {\n",
    "    \"filtered\": {\n",
    "      \"query\": {\n",
    "        \"query_string\": {\n",
    "          \"analyze_wildcard\": true,\n",
    "          \"lowercase_expanded_terms\": false,\n",
    "          \"query\": \"event_type:%s AND payload.src-rse:%s AND payload.dst-rse:%s\"\n",
    "        }\n",
    "      },\n",
    "      \"filter\": {\n",
    "        \"bool\": {\n",
    "          \"must\": [\n",
    "            {\n",
    "              \"range\": {\n",
    "                \"@timestamp\": {\n",
    "                  \"gte\": %s,\n",
    "                  \"lte\": %s,\n",
    "                  \"format\": \"epoch_millis\"\n",
    "                }\n",
    "              }\n",
    "            }\n",
    "          ],\n",
    "          \"must_not\": []\n",
    "        }\n",
    "      }\n",
    "    }\n",
    "  },\n",
    "  \"highlight\": {\n",
    "    \"pre_tags\": [\n",
    "      \"@kibana-highlighted-field@\"\n",
    "    ],\n",
    "    \"post_tags\": [\n",
    "      \"@/kibana-highlighted-field@\"\n",
    "    ],\n",
    "    \"fields\": {\n",
    "      \"*\": {}\n",
    "    },\n",
    "    \"require_field_match\": false,\n",
    "    \"fragment_size\": 2147483647\n",
    "  },\n",
    "  \"fields\": [\n",
    "    \"*\",\n",
    "    \"_source\"\n",
    "  ],\n",
    "  \"script_fields\": {},\n",
    "  \"fielddata_fields\": [\n",
    "    \"@timestamp\"\n",
    "  ]\n",
    "}\"\"\""
   ]
  },
  {
   "cell_type": "code",
   "execution_count": 168,
   "metadata": {
    "collapsed": false
   },
   "outputs": [],
   "source": [
    "import elasticsearch\n",
    "from elasticsearch import Elasticsearch, helpers\n",
    "\n",
    "#Set host and port\n",
    "es = Elasticsearch([{'host': 'atlas-kibana.mwt2.org',\n",
    "                     'port': 9200}])"
   ]
  },
  {
   "cell_type": "code",
   "execution_count": 169,
   "metadata": {
    "collapsed": false
   },
   "outputs": [
    {
     "name": "stdout",
     "output_type": "stream",
     "text": [
      "1467311464365\n"
     ]
    }
   ],
   "source": [
    "# current_time - epochs in milliseconds\n",
    "\n",
    "import time, math\n",
    "\n",
    "\n",
    "current_time = int(math.ceil(time.time() * 1000))\n",
    "print(current_time)"
   ]
  },
  {
   "cell_type": "code",
   "execution_count": 170,
   "metadata": {
    "collapsed": true
   },
   "outputs": [],
   "source": [
    "from datetime import datetime\n",
    "\n",
    "#Create function that loads a chunk of data in, based on source, destination, and start- and end-times\n",
    "def load_chunk(qry):\n",
    "    \n",
    "    #Initialize\n",
    "    data = []\n",
    "    \n",
    "    #Use query to get data\n",
    "    scanner = helpers.scan(client=es, query=qry, scroll='1m', index=\"rucio-events*\", timeout=\"1m\")\n",
    "    \n",
    "    #for each scanner value\n",
    "    for hit in scanner:\n",
    "        data.append((hit['_source']['payload']['file-size']/1000))\n",
    "    data = np.asarray(data)\n",
    "    return data"
   ]
  },
  {
   "cell_type": "code",
   "execution_count": 171,
   "metadata": {
    "collapsed": false
   },
   "outputs": [],
   "source": [
    "\n",
    "queryQueued = queryForm%(\"transfer-queued\",_src, _dst, current_time-thirty_hours, current_time)\n",
    "queryFailed = queryForm%(\"transfer-failed\",_src, _dst, current_time-thirty_hours, current_time)\n",
    "queryWaiting = queryForm%(\"transfer-waiting\",_src, _dst, current_time-thirty_hours, current_time)\n",
    "queryDone = queryForm%(\"transfer-done\",_src, _dst, current_time-thirty_hours, current_time)"
   ]
  },
  {
   "cell_type": "code",
   "execution_count": 172,
   "metadata": {
    "collapsed": false
   },
   "outputs": [
    {
     "name": "stdout",
     "output_type": "stream",
     "text": [
      "transfer-queued complete.\n",
      "transfer-failed complete.\n",
      "transfer-waiting complete.\n",
      "transfer-done complete.\n",
      "No data for transfer-queued in this time range.\n",
      "No data for transfer-waiting in this time range.\n",
      "(81040,)\n"
     ]
    }
   ],
   "source": [
    "dataQueued = load_chunk(queryQueued)\n",
    "print(\"transfer-queued complete.\")\n",
    "if len(dataQueued) == 0:\n",
    "    print('No data for transfer-queued in this time range.')\n",
    "dataFailed = load_chunk(queryFailed)\n",
    "print(\"transfer-failed complete.\")\n",
    "if len(dataFailed) == 0:\n",
    "    print('No data for transfer-failed in this time range.')\n",
    "dataWaiting = load_chunk(queryWaiting)\n",
    "print(\"transfer-waiting complete.\")\n",
    "if len(dataWaiting) == 0:\n",
    "    print('No data for transfer-waiting in this time range.')\n",
    "dataDone = load_chunk(queryDone)\n",
    "print(\"transfer-done complete.\")\n",
    "if len(dataDone) == 0:\n",
    "    print('No data for transfer-done in this time range.')\n",
    "    \n",
    "print(dataDone.shape)"
   ]
  },
  {
   "cell_type": "code",
   "execution_count": 175,
   "metadata": {
    "collapsed": false
   },
   "outputs": [
    {
     "data": {
      "image/png": "[encoded data removed]",
      "text/plain": [
       "<matplotlib.figure.Figure at 0x7f75beaa35c0>"
      ]
     },
     "metadata": {},
     "output_type": "display_data"
    }
   ],
   "source": [
    "import matplotlib as mpl\n",
    "import matplotlib.pyplot as plt\n",
    "import matplotlib.dates as mdate\n",
    "import numpy as np\n",
    "import datetime as dt\n",
    "plt.style.use('ggplot')\n",
    "plt.style.use('seaborn-poster')\n",
    "\n",
    "num = 200\n",
    "queuedHist,_ = np.histogram(dataQueued,bins=num)\n",
    "failedHist,_ = np.histogram(dataFailed,bins=num)\n",
    "waitingHist,_ = np.histogram(dataWaiting,bins=num)\n",
    "doneHist,bin = np.histogram(dataDone,bins=num)\n",
    "\n",
    "\n",
    "plt.subplot(111)\n",
    "if len(dataQueued) != 0:\n",
    "    plt.semilogy(np.arange(1,num+1),queuedHist,'r-',label='transfer-queued')\n",
    "if len(dataFailed) != 0:\n",
    "    plt.semilogy(np.arange(1,num+1),failedHist,'g-',label='transfer-failed')\n",
    "if len(dataWaiting) != 0:\n",
    "    plt.semilogy(np.arange(1,num+1),waitingHist,'b-',label='transfer-waiting')\n",
    "if len(dataDone) != 0:\n",
    "    plt.semilogy(np.arange(1,num+1),doneHist,'k-',label='transfer-done')\n",
    "plt.title('Event types')\n",
    "plt.legend()\n",
    "plt.show()\n",
    "#(dhist,binEdges) = np.histogram(data,bins=30)\n",
    "\n",
    "#binHalfWidth = (binEdges[1] - binEdges[0])/2.\n",
    "#binCenters = np.zeros(len(binEdges) - 1)\n",
    "\n",
    "#for i in range(len(binEdges)-1):\n",
    "#    binCenters[i] = binEdges[i] + binHalfWidth \n",
    "\n",
    "   \n",
    "#dates = mdate.epoch2num(dates)\n",
    "\n",
    "\n",
    "\n",
    "#secs = matplotlib.dates.epoch2num(data)\n",
    "\n",
    "#fig,ax = plt.subplots()\n",
    "#ax.plot_date(secs,)\n"
   ]
  },
  {
   "cell_type": "code",
   "execution_count": 122,
   "metadata": {
    "collapsed": false
   },
   "outputs": [
    {
     "data": {
      "text/plain": [
       "(array([0]),)"
      ]
     },
     "execution_count": 122,
     "metadata": {},
     "output_type": "execute_result"
    }
   ],
   "source": [
    "\n"
   ]
  },
  {
   "cell_type": "markdown",
   "metadata": {},
   "source": [
    "IGNORE BELOW FOR NOW."
   ]
  },
  {
   "cell_type": "code",
   "execution_count": 8,
   "metadata": {
    "collapsed": true
   },
   "outputs": [],
   "source": [
    "def load_data(src, dst, number_of_pieces, piece_length):\n",
    "    data = {}\n",
    "    if es.ping():\n",
    "        for i in range(1, number_of_pieces):\n",
    "            for j in range (0, 10):\n",
    "                try:\n",
    "                    chunk = load_chunk(src, dst, current_time - i*piece_length, current_time - (i-1)*piece_length)\n",
    "                    data[current_time - (i-1)*piece_length] = chunk\n",
    "                    break\n",
    "                except ConnectionTimeout:\n",
    "                    if j == 10:\n",
    "                        print(\"Can't load data after 10 tryouts\")\n",
    "                    continue\n",
    "    else:\n",
    "        print(\"Can't connect ElasticSearch cluster\")\n",
    "    return data"
   ]
  },
  {
   "cell_type": "code",
   "execution_count": 9,
   "metadata": {
    "collapsed": true
   },
   "outputs": [],
   "source": [
    "import numpy as np\n",
    "\n",
    "import time\n",
    "import datetime\n",
    "from datetime import timedelta\n",
    "\n",
    "from scipy.signal import argrelextrema\n",
    "\n",
    "def get_clusters(data, hist_bins=10):\n",
    "    clusters = {}\n",
    "    for key in data.keys():\n",
    "        r = []\n",
    "        #hist_bins (10 by defauls as histogram's)\n",
    "        a, b = np.histogram(data[key], bins = hist_bins)\n",
    "        #local extremums\n",
    "        maxm = argrelextrema(a, np.greater)  \n",
    "        minm = argrelextrema(a, np.less)\n",
    "        for j in range(0, len(minm[0])):\n",
    "            r.append([])\n",
    "            if minm[0][j] == minm[0][0]:\n",
    "                for d in data[key]:\n",
    "                    if d < b[minm[0][j]]:\n",
    "                        r[j].append(d)\n",
    "            else:\n",
    "                for d in data[key]:\n",
    "                    if d < b[minm[0][j]] and d > b[minm[0][j-1]]:\n",
    "                        r[j].append(d)\n",
    "        clusters[key] = r\n",
    "    #code below is used for preparing data for plots: boxplots' positions, labels, etc.\n",
    "    positions = {}\n",
    "    keys_list = list(sorted(clusters.keys()))\n",
    "    for i in range(0, len(keys_list)):\n",
    "        pos = []\n",
    "        for cluster in clusters[keys_list[i]]:\n",
    "            pos.append(i)\n",
    "        positions[keys_list[i]] = pos\n",
    "    d = []\n",
    "    p = []\n",
    "    for key in sorted(clusters.keys()):\n",
    "        for c in clusters[key]:\n",
    "            d.append(c)\n",
    "        for pos in positions[key]:\n",
    "            p.append(pos)\n",
    "    labels = []\n",
    "    for key in sorted(clusters.keys()):\n",
    "        labels.append(datetime.datetime.fromtimestamp(key / 1000))\n",
    "    return clusters, d, p, labels"
   ]
  },
  {
   "cell_type": "code",
   "execution_count": 10,
   "metadata": {
    "collapsed": false
   },
   "outputs": [],
   "source": [
    "data7d = load_data(_src, _dst, 3*7, 2*four_hours)"
   ]
  },
  {
   "cell_type": "code",
   "execution_count": 20,
   "metadata": {
    "collapsed": false
   },
   "outputs": [
    {
     "ename": "AttributeError",
     "evalue": "type object 'datetime.datetime' has no attribute 'datetime'",
     "output_type": "error",
     "traceback": [
      "\u001b[1;31m---------------------------------------------------------------------------\u001b[0m",
      "\u001b[1;31mAttributeError\u001b[0m                            Traceback (most recent call last)",
      "\u001b[1;32m<ipython-input-20-9acfbb5d5de8>\u001b[0m in \u001b[0;36m<module>\u001b[1;34m()\u001b[0m\n\u001b[1;32m----> 1\u001b[1;33m \u001b[0mclusters\u001b[0m\u001b[1;33m,\u001b[0m \u001b[0md\u001b[0m\u001b[1;33m,\u001b[0m \u001b[0mp\u001b[0m\u001b[1;33m,\u001b[0m \u001b[0mlabels\u001b[0m \u001b[1;33m=\u001b[0m \u001b[0mget_clusters\u001b[0m\u001b[1;33m(\u001b[0m\u001b[0mdata7d\u001b[0m\u001b[1;33m,\u001b[0m \u001b[1;36m20\u001b[0m\u001b[1;33m)\u001b[0m\u001b[1;33m\u001b[0m\u001b[0m\n\u001b[0m",
      "\u001b[1;32m<ipython-input-9-7633cd40f99c>\u001b[0m in \u001b[0;36mget_clusters\u001b[1;34m(data, hist_bins)\u001b[0m\n\u001b[0;32m     44\u001b[0m     \u001b[0mlabels\u001b[0m \u001b[1;33m=\u001b[0m \u001b[1;33m[\u001b[0m\u001b[1;33m]\u001b[0m\u001b[1;33m\u001b[0m\u001b[0m\n\u001b[0;32m     45\u001b[0m     \u001b[1;32mfor\u001b[0m \u001b[0mkey\u001b[0m \u001b[1;32min\u001b[0m \u001b[0msorted\u001b[0m\u001b[1;33m(\u001b[0m\u001b[0mclusters\u001b[0m\u001b[1;33m.\u001b[0m\u001b[0mkeys\u001b[0m\u001b[1;33m(\u001b[0m\u001b[1;33m)\u001b[0m\u001b[1;33m)\u001b[0m\u001b[1;33m:\u001b[0m\u001b[1;33m\u001b[0m\u001b[0m\n\u001b[1;32m---> 46\u001b[1;33m         \u001b[0mlabels\u001b[0m\u001b[1;33m.\u001b[0m\u001b[0mappend\u001b[0m\u001b[1;33m(\u001b[0m\u001b[0mdatetime\u001b[0m\u001b[1;33m.\u001b[0m\u001b[0mdatetime\u001b[0m\u001b[1;33m.\u001b[0m\u001b[0mfromtimestamp\u001b[0m\u001b[1;33m(\u001b[0m\u001b[0mkey\u001b[0m \u001b[1;33m/\u001b[0m \u001b[1;36m1000\u001b[0m\u001b[1;33m)\u001b[0m\u001b[1;33m)\u001b[0m\u001b[1;33m\u001b[0m\u001b[0m\n\u001b[0m\u001b[0;32m     47\u001b[0m     \u001b[1;32mreturn\u001b[0m \u001b[0mclusters\u001b[0m\u001b[1;33m,\u001b[0m \u001b[0md\u001b[0m\u001b[1;33m,\u001b[0m \u001b[0mp\u001b[0m\u001b[1;33m,\u001b[0m \u001b[0mlabels\u001b[0m\u001b[1;33m\u001b[0m\u001b[0m\n",
      "\u001b[1;31mAttributeError\u001b[0m: type object 'datetime.datetime' has no attribute 'datetime'"
     ]
    }
   ],
   "source": [
    "clusters, d, p, labels = get_clusters(data7d, 20)"
   ]
  },
  {
   "cell_type": "code",
   "execution_count": null,
   "metadata": {
    "collapsed": true
   },
   "outputs": [],
   "source": [
    "import matplotlib as mpl\n",
    "import matplotlib.pyplot as plt\n",
    "import numpy as np\n",
    "\n",
    "style.use('ggplot')\n",
    "style.use('seaborn-poster')\n",
    "\n",
    "fig = plt.figure(figsize=(17,17))\n",
    "ax = fig.add_subplot(111)\n",
    "a = ax.boxplot(d, positions=p)\n",
    "b = plt.xticks(arange(21), labels, rotation='vertical')"
   ]
  },
  {
   "cell_type": "code",
   "execution_count": null,
   "metadata": {
    "collapsed": true
   },
   "outputs": [],
   "source": []
  }
 ],
 "metadata": {
  "kernelspec": {
   "display_name": "Python 3",
   "language": "python",
   "name": "python3"
  },
  "language_info": {
   "codemirror_mode": {
    "name": "ipython",
    "version": 3
   },
   "file_extension": ".py",
   "mimetype": "text/x-python",
   "name": "python",
   "nbconvert_exporter": "python",
   "pygments_lexer": "ipython3",
   "version": "3.5.1"
  }
 },
 "nbformat": 4,
 "nbformat_minor": 0
}
