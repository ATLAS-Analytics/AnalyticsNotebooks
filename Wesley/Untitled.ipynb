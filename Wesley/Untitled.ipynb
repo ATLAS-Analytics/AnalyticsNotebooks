{
 "cells": [
  {
   "cell_type": "code",
<<<<<<< HEAD
   "execution_count": 1,
   "metadata": {
    "collapsed": true
   },
   "outputs": [],
   "source": [
    "#These lines set up inline plotting, and apply a standard size\n",
    "%matplotlib inline\n",
    "import matplotlib\n",
    "matplotlib.rc('font', **{'size': 15})"
   ]
  },
  {
   "cell_type": "code",
   "execution_count": 48,
=======
   "execution_count": 2,
>>>>>>> 6effb060cda91a64ca2a6f241c33c2097bed9a12
   "metadata": {
    "collapsed": false
   },
   "outputs": [],
   "source": [
<<<<<<< HEAD
    "import numpy as np\n",
    "import time\n",
    "from sklearn import svm\n",
    "t = []\n",
    "xr = range(11,40)\n",
    "for i in xr:\n",
    "    x = np.ones((i*10,10))\n",
    "    y = np.arange(0,i*10)\n",
    "    tic = time.time()\n",
    "    clf = svm.SVR(kernel='linear', C=1)\n",
    "    clf.fit(x,y)\n",
    "    toc = time.time()\n",
    "    t.append(toc-tic)"
   ]
  },
  {
   "cell_type": "code",
   "execution_count": 49,
   "metadata": {
    "collapsed": false
   },
   "outputs": [
    {
     "name": "stdout",
     "output_type": "stream",
     "text": [
      "126.610778772\n"
     ]
    },
    {
     "data": {
      "image/png": "iVBORw0KGgoAAAANSUhEUgAAAZUAAAEICAYAAACXo2mmAAAABHNCSVQICAgIfAhkiAAAAAlwSFlz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\n",
      "text/plain": [
       "<matplotlib.figure.Figure at 0x7ffab3e15400>"
      ]
     },
     "metadata": {},
     "output_type": "display_data"
    }
   ],
   "source": [
    "import matplotlib.pyplot as plt\n",
    "plt.plot(xr,t)\n",
    "p = np.polyfit(xr,t,2)\n",
    "y = np.polyval(p,xr)\n",
    "\n",
    "plt.plot(xr,y)\n",
    "print(np.polyval(p,5000))"
   ]
  },
  {
   "cell_type": "code",
   "execution_count": 51,
   "metadata": {
    "collapsed": false
   },
   "outputs": [
    {
     "name": "stdout",
     "output_type": "stream",
     "text": [
      "[ 126.84247142]\n"
     ]
    },
    {
     "name": "stderr",
     "output_type": "stream",
     "text": [
      "/home/ivukotic/anaconda3/lib/python3.5/site-packages/sklearn/utils/validation.py:386: DeprecationWarning: Passing 1d arrays as data is deprecated in 0.17 and willraise ValueError in 0.19. Reshape your data either using X.reshape(-1, 1) if your data has a single feature or X.reshape(1, -1) if it contains a single sample.\n",
      "  DeprecationWarning)\n",
      "/home/ivukotic/anaconda3/lib/python3.5/site-packages/sklearn/utils/validation.py:386: DeprecationWarning: Passing 1d arrays as data is deprecated in 0.17 and willraise ValueError in 0.19. Reshape your data either using X.reshape(-1, 1) if your data has a single feature or X.reshape(1, -1) if it contains a single sample.\n",
      "  DeprecationWarning)\n"
     ]
    }
   ],
   "source": [
    "from sklearn.preprocessing import PolynomialFeatures\n",
    "from sklearn import linear_model\n",
    "\n",
    "X = [[0.44, 0.68], [0.99, 0.23]]\n",
    "vector = [109.85, 155.72]\n",
    "predict= [0.49, 0.18]\n",
    "\n",
    "poly = PolynomialFeatures(degree=2)\n",
    "X_ = poly.fit_transform(X)\n",
    "predict_ = poly.fit_transform(predict)\n",
    "\n",
    "clf = linear_model.LinearRegression()\n",
    "clf.fit(X_, vector)\n",
    "print(clf.predict(predict_))"
=======
    "%config IPCompleter.greedy=True\n",
    "import elasticsearch\n",
    "from elasticsearch import Elasticsearch, helpers\n",
    "\n",
    "#Set host and port\n",
    "es = Elasticsearch([{'host': 'atlas-kibana-2.mwt2.org',\n",
    "                     'port': 9200}])\n",
    "helpers.bulk_sear"
>>>>>>> 6effb060cda91a64ca2a6f241c33c2097bed9a12
   ]
  },
  {
   "cell_type": "code",
<<<<<<< HEAD
   "execution_count": 52,
   "metadata": {
    "collapsed": false
   },
   "outputs": [
    {
     "data": {
      "text/plain": [
       "array([[ 1.    ,  0.49  ,  0.18  ,  0.2401,  0.0882,  0.0324]])"
      ]
     },
     "execution_count": 52,
     "metadata": {},
     "output_type": "execute_result"
    }
   ],
   "source": []
  },
  {
   "cell_type": "code",
=======
>>>>>>> 6effb060cda91a64ca2a6f241c33c2097bed9a12
   "execution_count": null,
   "metadata": {
    "collapsed": true
   },
   "outputs": [],
<<<<<<< HEAD
   "source": []
=======
   "source": [
    "es."
   ]
>>>>>>> 6effb060cda91a64ca2a6f241c33c2097bed9a12
  }
 ],
 "metadata": {
  "kernelspec": {
   "display_name": "Python 3",
   "language": "python",
   "name": "python3"
  },
  "language_info": {
   "codemirror_mode": {
    "name": "ipython",
    "version": 3
   },
   "file_extension": ".py",
   "mimetype": "text/x-python",
   "name": "python",
   "nbconvert_exporter": "python",
   "pygments_lexer": "ipython3",
   "version": "3.5.1"
  }
 },
 "nbformat": 4,
 "nbformat_minor": 0
}
