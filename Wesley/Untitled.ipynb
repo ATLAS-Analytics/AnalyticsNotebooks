{
 "cells": [
  {
   "cell_type": "code",
   "execution_count": 1,
   "metadata": {
    "collapsed": true
   },
   "outputs": [],
   "source": [
    "#These lines set up inline plotting, and apply a standard size\n",
    "%matplotlib inline\n",
    "import matplotlib\n",
    "matplotlib.rc('font', **{'size': 15})"
   ]
  },
  {
   "cell_type": "code",
   "execution_count": 40,
   "metadata": {
    "collapsed": false
   },
   "outputs": [
    {
     "name": "stdout",
     "output_type": "stream",
     "text": [
      "(110,)\n",
      "(110, 10)\n",
      "(120,)\n",
      "(120, 10)\n",
      "(130,)\n",
      "(130, 10)\n",
      "(140,)\n",
      "(140, 10)\n",
      "(150,)\n",
      "(150, 10)\n",
      "(160,)\n",
      "(160, 10)\n",
      "(170,)\n",
      "(170, 10)\n",
      "(180,)\n",
      "(180, 10)\n",
      "(190,)\n",
      "(190, 10)\n",
      "(200,)\n",
      "(200, 10)\n",
      "(210,)\n",
      "(210, 10)\n",
      "(220,)\n",
      "(220, 10)\n",
      "(230,)\n",
      "(230, 10)\n",
      "(240,)\n",
      "(240, 10)\n",
      "(250,)\n",
      "(250, 10)\n",
      "(260,)\n",
      "(260, 10)\n",
      "(270,)\n",
      "(270, 10)\n",
      "(280,)\n",
      "(280, 10)\n",
      "(290,)\n",
      "(290, 10)\n",
      "(300,)\n",
      "(300, 10)\n",
      "(310,)\n",
      "(310, 10)\n",
      "(320,)\n",
      "(320, 10)\n",
      "(330,)\n",
      "(330, 10)\n",
      "(340,)\n",
      "(340, 10)\n",
      "(350,)\n",
      "(350, 10)\n",
      "(360,)\n",
      "(360, 10)\n",
      "(370,)\n",
      "(370, 10)\n",
      "(380,)\n",
      "(380, 10)\n",
      "(390,)\n",
      "(390, 10)\n"
     ]
    }
   ],
   "source": [
    "import numpy as np\n",
    "import time\n",
    "from sklearn import svm\n",
    "t = []\n",
    "xr = range(11,40)\n",
    "for i in xr:\n",
    "    x = np.ones((i*10,10))\n",
    "    y = np.arange(0,i*10)\n",
    "    tic = time.time()\n",
    "    clf = svm.SVR(kernel='linear', C=100)\n",
    "    clf.fit(x,y)\n",
    "    toc = time.time()\n",
    "    t.append(toc-tic)"
   ]
  },
  {
   "cell_type": "code",
   "execution_count": 43,
   "metadata": {
    "collapsed": false
   },
   "outputs": [
    {
     "name": "stdout",
     "output_type": "stream",
     "text": [
      "131.68736461\n"
     ]
    },
    {
     "data": {
      "image/png": "[encoded data removed]",
      "text/plain": [
       "<matplotlib.figure.Figure at 0x7ffab41584e0>"
      ]
     },
     "metadata": {},
     "output_type": "display_data"
    }
   ],
   "source": [
    "import matplotlib.pyplot as plt\n",
    "plt.plot(xr,t)\n",
    "p = np.polyfit(xr,t,2)\n",
    "y = np.polyval(p,xr)\n",
    "\n",
    "plt.plot(xr,y)\n",
    "print(np.polyval(p,5000))"
   ]
  },
  {
   "cell_type": "code",
   "execution_count": null,
   "metadata": {
    "collapsed": false
   },
   "outputs": [],
   "source": []
  },
  {
   "cell_type": "code",
   "execution_count": null,
   "metadata": {
    "collapsed": true
   },
   "outputs": [],
   "source": []
  }
 ],
 "metadata": {
  "kernelspec": {
   "display_name": "Python 3",
   "language": "python",
   "name": "python3"
  },
  "language_info": {
   "codemirror_mode": {
    "name": "ipython",
    "version": 3
   },
   "file_extension": ".py",
   "mimetype": "text/x-python",
   "name": "python",
   "nbconvert_exporter": "python",
   "pygments_lexer": "ipython3",
   "version": "3.5.1"
  }
 },
 "nbformat": 4,
 "nbformat_minor": 0
}
