{
 "cells": [
  {
   "cell_type": "code",
   "execution_count": 3,
   "metadata": {
    "collapsed": true
   },
   "outputs": [],
   "source": [
    "#These lines set up inline plotting, and apply a standard size\n",
    "%matplotlib inline\n",
    "import matplotlib\n",
    "matplotlib.rc('font', **{'size': 15})"
   ]
  },
  {
   "cell_type": "code",
   "execution_count": 4,
   "metadata": {
    "collapsed": true
   },
   "outputs": [],
   "source": [
    "import numpy as np\n",
    "import matplotlib.pyplot as plt\n",
    "from elasticsearch import Elasticsearch, exceptions as es_exceptions\n",
    "\n",
    "#Create instance of ElasticSearch using the Atlas host server\n",
    "es = Elasticsearch(hosts=[{'host':'es-atlas.cern.ch', 'port':9202}],\n",
    "                   http_auth=('es-atlas', 'v~$&<J8/cG9]*eQ@'),\n",
    "                   timeout=60)"
   ]
  },
  {
   "cell_type": "code",
   "execution_count": null,
   "metadata": {
    "collapsed": true
   },
   "outputs": [],
   "source": []
  },
  {
   "cell_type": "code",
   "execution_count": 7,
   "metadata": {
    "collapsed": false
   },
   "outputs": [],
   "source": [
    "query = {\n",
    "  \"size\": 0,\n",
    "  \"query\": {\n",
    "    \"filtered\": {\n",
    "      \"query\": {\n",
    "        \"query_string\": {\n",
    "          \"query\": \"src:BNL-ATLAS AND dst:*\",\n",
    "          \"analyze_wildcard\": True\n",
    "        }\n",
    "      },\n",
    "      \"filter\": {\n",
    "        \"bool\": {\n",
    "          \"must\": [\n",
    "            {\n",
    "              \"range\": {\n",
    "                \"timestamp\": {\n",
    "                  \"gte\": 1468533600000,\n",
    "                  \"lte\": 1468792800000,\n",
    "                  \"format\": \"epoch_millis\"\n",
    "                }\n",
    "              }\n",
    "            }\n",
    "          ],\n",
    "          \"must_not\": []\n",
    "        }\n",
    "      }\n",
    "    }\n",
    "  },\n",
    "  \"aggs\": {\n",
    "    \"2\": {\n",
    "      \"date_histogram\": {\n",
    "        \"field\": \"timestamp\",\n",
    "        \"interval\": \"1h\",\n",
    "        \"time_zone\": \"Europe/Berlin\",\n",
    "        \"min_doc_count\": 1,\n",
    "        \"extended_bounds\": {\n",
    "          \"min\": 1468533600000,\n",
    "          \"max\": 1468792800000\n",
    "        }\n",
    "      },\n",
    "      \"aggs\": {\n",
    "        \"7\": {\n",
    "          \"avg\": {\n",
    "            \"field\": \"done-total-1h\"\n",
    "          }\n",
    "        },\n",
    "        \"8\": {\n",
    "          \"avg\": {\n",
    "            \"field\": \"queued-total\"\n",
    "          }\n",
    "        }\n",
    "      }\n",
    "    }\n",
    "  }\n",
    "}"
   ]
  },
  {
   "cell_type": "code",
   "execution_count": 10,
   "metadata": {
    "collapsed": false
   },
   "outputs": [],
   "source": [
    "def convNone(data):\n",
    "    data = np.array(data,dtype=np.float)\n",
    "    return data\n",
    "    \n",
    "queuedResponse = es.search(index=\"atlas_ddm-metrics*\", body=query, request_timeout=600) \n",
    "\n",
    "avgDoneData = []\n",
    "avgQueuedData = []\n",
    "timestamp = []\n",
    "\n",
    "\n",
    "for r in queuedResponse['aggregations']['2']['buckets']:\n",
    "    #Get field value and timestamp\n",
    "    avgDoneData.append(r['7']['value'])\n",
    "    avgQueuedData.append(r['8']['value'])\n",
    "    timestamp.append(r['key'])\n",
    "    \n",
    "\n",
    "## remove value/key pairs that are empty  ##      \n",
    "avgQueuedData = convNone(avgQueuedData)\n",
    "avgDoneData = convNone(avgDoneData)\n",
    "timestamp =  convNone(timestamp) \n",
    "\n",
    "indices = np.logical_not(np.isnan(avgQueuedData))\n",
    "\n",
    "avgDoneData = avgDoneData[indices]\n",
    "avgQueuedData = avgQueuedData[indices]\n",
    "timestamp = timestamp[indices]"
   ]
  },
  {
   "cell_type": "code",
   "execution_count": 12,
   "metadata": {
    "collapsed": false
   },
   "outputs": [
    {
     "data": {
      "text/plain": [
       "[<matplotlib.lines.Line2D at 0x7faa2751bfd0>]"
      ]
     },
     "execution_count": 12,
     "metadata": {},
     "output_type": "execute_result"
    },
    {
     "data": {
      "image/png": "[encoded data removed]",
      "text/plain": [
       "<matplotlib.figure.Figure at 0x7faa2751b160>"
      ]
     },
     "metadata": {},
     "output_type": "display_data"
    }
   ],
   "source": [
    "plt.plot(timestamp,avgDoneData)\n",
    "plt.plot(timestamp,avgQueuedData)"
   ]
  },
  {
   "cell_type": "code",
   "execution_count": 30,
   "metadata": {
    "collapsed": false
   },
   "outputs": [],
   "source": [
    "from scipy.optimize import curve_fit\n",
    "\n",
    "def func(x,a):\n",
    "    return a*(x)\n",
    "\n",
    "x = avgQueuedData\n",
    "y = avgDoneData\n",
    "\n",
    "popt,pcov = curve_fit(func,x,y)"
   ]
  },
  {
   "cell_type": "code",
   "execution_count": 31,
   "metadata": {
    "collapsed": false
   },
   "outputs": [
    {
     "data": {
      "text/plain": [
       "array([ 0.37255998])"
      ]
     },
     "execution_count": 31,
     "metadata": {},
     "output_type": "execute_result"
    }
   ],
   "source": [
    "popt"
   ]
  },
  {
   "cell_type": "code",
   "execution_count": 32,
   "metadata": {
    "collapsed": false
   },
   "outputs": [
    {
     "data": {
      "text/plain": [
       "array([[ 0.00089546]])"
      ]
     },
     "execution_count": 32,
     "metadata": {},
     "output_type": "execute_result"
    }
   ],
   "source": [
    "pcov"
   ]
  },
  {
   "cell_type": "code",
   "execution_count": 35,
   "metadata": {
    "collapsed": false
   },
   "outputs": [],
   "source": [
    "modeledDoneData = popt[0]*(avgQueuedData)"
   ]
  },
  {
   "cell_type": "code",
   "execution_count": 38,
   "metadata": {
    "collapsed": false
   },
   "outputs": [
    {
     "data": {
      "text/plain": [
       "[<matplotlib.lines.Line2D at 0x7faa1ed25c88>]"
      ]
     },
     "execution_count": 38,
     "metadata": {},
     "output_type": "execute_result"
    },
    {
     "data": {
      "image/png": "[encoded data removed]",
      "text/plain": [
       "<matplotlib.figure.Figure at 0x7faa1edcda58>"
      ]
     },
     "metadata": {},
     "output_type": "display_data"
    }
   ],
   "source": [
    "plt.plot(modeledDoneData-avgDoneData,'r')\n"
   ]
  },
  {
   "cell_type": "code",
   "execution_count": 37,
   "metadata": {
    "collapsed": false
   },
   "outputs": [
    {
     "data": {
      "text/plain": [
       "array([[ 1.        ,  0.56949953],\n",
       "       [ 0.56949953,  1.        ]])"
      ]
     },
     "execution_count": 37,
     "metadata": {},
     "output_type": "execute_result"
    }
   ],
   "source": [
    "np.corrcoef(modeledDoneData,avgDoneData)"
   ]
  },
  {
   "cell_type": "code",
   "execution_count": null,
   "metadata": {
    "collapsed": true
   },
   "outputs": [],
   "source": []
  }
 ],
 "metadata": {
  "kernelspec": {
   "display_name": "Python 3",
   "language": "python",
   "name": "python3"
  },
  "language_info": {
   "codemirror_mode": {
    "name": "ipython",
    "version": 3
   },
   "file_extension": ".py",
   "mimetype": "text/x-python",
   "name": "python",
   "nbconvert_exporter": "python",
   "pygments_lexer": "ipython3",
   "version": "3.5.1"
  }
 },
 "nbformat": 4,
 "nbformat_minor": 0
}
