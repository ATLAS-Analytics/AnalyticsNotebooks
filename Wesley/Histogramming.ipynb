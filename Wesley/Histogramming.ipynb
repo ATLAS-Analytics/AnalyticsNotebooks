{
 "cells": [
  {
   "cell_type": "code",
<<<<<<< HEAD
   "execution_count": 2,
=======
   "execution_count": 1,
>>>>>>> 6effb060cda91a64ca2a6f241c33c2097bed9a12
   "metadata": {
    "collapsed": true
   },
   "outputs": [],
   "source": [
    "#These lines set up inline plotting, and apply a standard size\n",
    "%matplotlib inline\n",
    "import matplotlib\n",
<<<<<<< HEAD
    "matplotlib.rc('font', **{'size': 15})"
=======
    "matplotlib.rc('font', **{'size': 22})"
>>>>>>> 6effb060cda91a64ca2a6f241c33c2097bed9a12
   ]
  },
  {
   "cell_type": "code",
<<<<<<< HEAD
   "execution_count": 3,
=======
   "execution_count": 49,
>>>>>>> 6effb060cda91a64ca2a6f241c33c2097bed9a12
   "metadata": {
    "collapsed": true
   },
   "outputs": [],
   "source": [
    "import numpy as np\n",
    "import matplotlib.pyplot as plt\n",
    "import datetime\n",
    "import re\n",
    "from elasticsearch import Elasticsearch, exceptions as es_exceptions\n",
    "from elasticsearch.helpers import scan\n",
<<<<<<< HEAD
    "\n",
    "#Create instance of ElasticSearch using the Atlas host server\n",
    "es = Elasticsearch(hosts=[{'host':'atlas-kibana-2.mwt2.org', 'port':9200}],timeout=60)"
=======
    "es = Elasticsearch(hosts=[{'host':'atlas-kibana.mwt2.org', 'port':9200}],timeout=60)"
>>>>>>> 6effb060cda91a64ca2a6f241c33c2097bed9a12
   ]
  },
  {
   "cell_type": "code",
<<<<<<< HEAD
   "execution_count": 4,
=======
   "execution_count": 50,
>>>>>>> 6effb060cda91a64ca2a6f241c33c2097bed9a12
   "metadata": {
    "collapsed": false
   },
   "outputs": [],
   "source": [
<<<<<<< HEAD
    "#Get indices for rucio-events*\n",
    "indices = es.cat.indices(index=\"rucio-events*\", h=\"index\", request_timeout=600).split('\\n')\n",
    "indices = sorted(indices)\n",
    "indices = [x for x in indices if x != '']"
=======
    "indices = es.cat.indices(index=\"rucio-events*\", h=\"index\", request_timeout=600).split('\\n')\n",
    "indices = sorted(indices)\n",
    "indices = [x for x in indices if x != '']\n",
    "#print(indices)"
>>>>>>> 6effb060cda91a64ca2a6f241c33c2097bed9a12
   ]
  },
  {
   "cell_type": "code",
<<<<<<< HEAD
   "execution_count": 5,
=======
   "execution_count": 51,
>>>>>>> 6effb060cda91a64ca2a6f241c33c2097bed9a12
   "metadata": {
    "collapsed": true
   },
   "outputs": [],
   "source": [
<<<<<<< HEAD
    "def getFieldWithTimestamp(_src,_dst,field,eventType,period,binSize,aggType):\n",
    "    '''\n",
    "    This function, given a properly built query, gets the desired field value and timestamps (in milliseconds from\n",
    "    Epoch). Requires a query to be built by the buildFieldWithTimestampQuery() function.\n",
    "    '''\n",
    "    query = buildFieldWithTimestampQuery(_src,_dst,field,eventType,period,binSize,aggType)\n",
    "    response = es.search(index=\"rucio-events*\", body=query, request_timeout=600)\n",
    "    #Initialize lists\n",
    "    fieldVals = []\n",
    "    timestamp = []\n",
    "    \n",
    "    #For each bucket:\n",
    "    for r in response['aggregations']['2']['buckets']:\n",
    "        \n",
    "        #Get field value and timestamp\n",
    "        fieldVals.append(r['3']['value'])\n",
    "        timestamp.append(r['key'])\n",
    "        \n",
    "    #Convert both to numpy arrays\n",
    "    timestamp = np.array(timestamp)\n",
    "    fieldVals = np.array(fieldVals)\n",
    "    \n",
    "    return fieldVals, timestamp"
=======
    "_src = 'CERN-PROD*'\n",
    "_dst = 'BNL*'"
>>>>>>> 6effb060cda91a64ca2a6f241c33c2097bed9a12
   ]
  },
  {
   "cell_type": "code",
<<<<<<< HEAD
   "execution_count": 6,
=======
   "execution_count": null,
   "metadata": {
    "collapsed": true
   },
   "outputs": [],
   "source": []
  },
  {
   "cell_type": "code",
   "execution_count": 64,
>>>>>>> 6effb060cda91a64ca2a6f241c33c2097bed9a12
   "metadata": {
    "collapsed": false
   },
   "outputs": [],
   "source": [
<<<<<<< HEAD
    "import ast\n",
    "\n",
    "def buildFieldWithTimestampQuery(_src,_dst,field,eventType,period,binSize,aggType):\n",
    "    '''\n",
    "    This function builds a query to feed to the getFieldwithTimestamp() function. It requires the following input parameters:\n",
    "    _src: [str] The source data center, e.g. \"CERN-PROD*\" (note that this query accepts wildcards).\n",
    "    _dst: [str] The destination data center, e.g. \"BNL*\".\n",
    "    field: [str] The desired field of data. Examples include \"payload.bytes\",\"payload.duration\", and \"payload.file-size\".\n",
    "    eventType: [str] Filters the data based on event type. A list of some possibilities: \"transfer-submitted\", \"transfer-done\",\n",
    "        \"transfer-failed\", \"transfer-waiting\", and \"*\" (grabs field from all event types, if it exists).\n",
    "    period: [str] The period of time over which the field is acquired. For example, \"7d\" would grab a week of data from the\n",
    "        current time.\n",
    "    binSize: [str] The period of time that each histogram bin spans. For example, \"1h\" bins the data hourly.\n",
    "    aggType: [str] Method to aggregate data. Examples include \"sum\", \"avg\", \"max\", \"min\", \"cardinality\" (for unique count).\n",
    "    \n",
    "    '''\n",
    "    queryTemplate= \"\"\"{\n",
    "      \"query\": {\n",
    "        \"filtered\": {\n",
    "          \"query\": {\n",
    "            \"query_string\": {\n",
    "              \"query\": \"payload.src-rse:%s* AND payload.dst-rse:%s* AND event_type:%s\",\n",
    "              \"analyze_wildcard\": True,\n",
    "              \"lowercase_expanded_terms\": False\n",
    "            }\n",
    "          },\n",
    "          \"filter\": {\n",
    "            \"bool\": {\n",
    "              \"must\": [\n",
    "                {\n",
    "                  \"range\": {\n",
    "                    \"@timestamp\": {\n",
    "                      \"gte\": 'now-%s',\n",
    "                      \"lte\": 'now',\n",
    "                      \"format\": \"epoch_millis\"\n",
    "                    }\n",
    "                  }\n",
    "                }\n",
    "              ],\n",
    "              \"must_not\": []\n",
    "            }\n",
    "          }\n",
    "        }\n",
    "      },\n",
    "      \"size\": 0,\n",
    "      \"aggs\": {\n",
    "        \"2\": {\n",
    "          \"date_histogram\": {\n",
    "            \"field\": \"@timestamp\",\n",
    "            \"interval\": \"%s\",\n",
    "            \"time_zone\": \"Europe/Berlin\",\n",
    "            \"min_doc_count\": 1,\n",
    "            \"extended_bounds\": {\n",
    "              \"min\": 'now-%s',\n",
    "              \"max\": 'now'\n",
    "            }\n",
    "          },\n",
    "          \"aggs\": {\n",
    "            \"3\": {\n",
    "              \"%s\": {\n",
    "                \"field\": \"%s\"\n",
    "              }\n",
    "            }\n",
    "          }\n",
    "        }\n",
    "      }\n",
    "    }\"\"\"\n",
    "\n",
    "    builtQuery = ast.literal_eval(queryTemplate%(_src,_dst,eventType,period,binSize,period,aggType,field))\n",
    "    return builtQuery"
=======
    "queryBytes30= {\n",
    "  \"query\": {\n",
    "    \"filtered\": {\n",
    "      \"query\": {\n",
    "        \"query_string\": {\n",
    "          \"query\": \"payload.src-rse:CERN* AND payload.dst-rse:BNL* AND event_type:transfer-submitted\",\n",
    "          \"analyze_wildcard\": True,\n",
    "          \"lowercase_expanded_terms\": False\n",
    "        }\n",
    "      },\n",
    "      \"filter\": {\n",
    "        \"bool\": {\n",
    "          \"must\": [\n",
    "            {\n",
    "              \"range\": {\n",
    "                \"@timestamp\": {\n",
    "                  \"gte\": 'now-30d',\n",
    "                  \"lte\": 'now',\n",
    "                  \"format\": \"epoch_millis\"\n",
    "                }\n",
    "              }\n",
    "            }\n",
    "          ],\n",
    "          \"must_not\": []\n",
    "        }\n",
    "      }\n",
    "    }\n",
    "  },\n",
    "  \"size\": 0,\n",
    "  \"aggs\": {\n",
    "    \"2\": {\n",
    "      \"date_histogram\": {\n",
    "        \"field\": \"@timestamp\",\n",
    "        \"interval\": \"1h\",\n",
    "        \"time_zone\": \"Europe/Berlin\",\n",
    "        \"min_doc_count\": 1,\n",
    "        \"extended_bounds\": {\n",
    "          \"min\": 'now-30d',\n",
    "          \"max\": 'now'\n",
    "        }\n",
    "      },\n",
    "      \"aggs\": {\n",
    "        \"3\": {\n",
    "          \"sum\": {\n",
    "            \"field\": \"payload.bytes\"\n",
    "          }\n",
    "        }\n",
    "      }\n",
    "    }\n",
    "  }\n",
    "}\n",
    "bytes30 = es.search(index=\"rucio-events*\", body=queryBytes30, request_timeout=600)"
>>>>>>> 6effb060cda91a64ca2a6f241c33c2097bed9a12
   ]
  },
  {
   "cell_type": "code",
<<<<<<< HEAD
   "execution_count": 7,
=======
   "execution_count": 73,
>>>>>>> 6effb060cda91a64ca2a6f241c33c2097bed9a12
   "metadata": {
    "collapsed": false
   },
   "outputs": [],
   "source": [
<<<<<<< HEAD
    "def getCountWithTimestamp(_src,_dst,eventType,period,binSize):\n",
    "    '''\n",
    "    Getting a count value requires a different query format then getting field values, so I created a separate function\n",
    "    for this utility. This function requires the following input parameters:\n",
    "        _src: [str] The source data center, e.g. \"CERN-PROD*\" (note that this query accepts wildcards).\n",
    "        _dst: [str] The destination data center, e.g. \"BNL*\".\n",
    "        period: [str] The period of time over which the field is acquired. For example, \"7d\" would grab a week of data from the\n",
    "            current time.\n",
    "        binSize: [str] The period of time that each histogram bin spans. For example, \"1h\" bins the data hourly.\n",
    "    \n",
    "    Outputs:\n",
    "        countVals: The number of events for the desired period.\n",
    "        timestamp: Corresponding time values, in milli-epochs.\n",
    "    '''\n",
    "    queryTemplate = \"\"\"{\n",
    "      \"size\": 0,\n",
    "      \"query\": {\n",
    "        \"filtered\": {\n",
    "          \"query\": {\n",
    "            \"query_string\": {\n",
    "              \"analyze_wildcard\": True,\n",
    "              \"lowercase_expanded_terms\": False,\n",
    "              \"query\": \"payload.src-rse:%s AND payload.dst-rse:%s AND event_type:%s\"\n",
    "            }\n",
    "          },\n",
    "          \"filter\": {\n",
    "            \"bool\": {\n",
    "              \"must\": [\n",
    "                {\n",
    "                  \"range\": {\n",
    "                    \"@timestamp\": {\n",
    "                        \"gte\": 'now-%s',\n",
    "                        \"lte\": 'now',\n",
    "                      \"format\": \"epoch_millis\"\n",
    "                    }\n",
    "                  }\n",
    "                }\n",
    "              ],\n",
    "              \"must_not\": []\n",
    "            }\n",
    "          }\n",
=======
    "queryDuration30 = {\n",
    "  \"query\": {\n",
    "    \"filtered\": {\n",
    "      \"query\": {\n",
    "        \"query_string\": {\n",
    "          \"query\": \"payload.src-rse:CERN* AND payload.dst-rse:BNL* AND event_type:transfer-done\",\n",
    "          \"analyze_wildcard\": True,\n",
    "          \"lowercase_expanded_terms\": False\n",
    "        }\n",
    "      },\n",
    "      \"filter\": {\n",
    "        \"bool\": {\n",
    "          \"must\": [\n",
    "            {\n",
    "              \"range\": {\n",
    "                \"@timestamp\": {\n",
    "                  \"gte\": 'now-30d',\n",
    "                  \"lte\": 'now',\n",
    "                  \"format\": \"epoch_millis\"\n",
    "                }\n",
    "              }\n",
    "            }\n",
    "          ],\n",
    "          \"must_not\": []\n",
    "        }\n",
    "      }\n",
    "    }\n",
    "  },\n",
    "  \"size\": 0,\n",
    "  \"aggs\": {\n",
    "    \"2\": {\n",
    "      \"date_histogram\": {\n",
    "        \"field\": \"@timestamp\",\n",
    "        \"interval\": \"1d\",\n",
    "        \"time_zone\": \"Europe/Berlin\",\n",
    "        \"min_doc_count\": 1,\n",
    "        \"extended_bounds\": {\n",
    "          \"min\": 'now-30d',\n",
    "          \"max\": 'now'\n",
>>>>>>> 6effb060cda91a64ca2a6f241c33c2097bed9a12
    "        }\n",
    "      },\n",
    "      \"aggs\": {\n",
    "        \"3\": {\n",
<<<<<<< HEAD
    "          \"date_histogram\": {\n",
    "            \"field\": \"@timestamp\",\n",
    "            \"interval\": \"%s\",\n",
    "            \"time_zone\": \"Europe/Berlin\",\n",
    "            \"min_doc_count\": 1,\n",
    "            \"extended_bounds\": {\n",
    "                \"min\": 'now-%s',\n",
    "                \"max\": 'now'\n",
    "            }\n",
    "          }\n",
    "        }\n",
    "      }\n",
    "    }\"\"\"\n",
    "\n",
    "    #Initialize lists\n",
    "    countVals = []\n",
    "    timestamp = []\n",
    "\n",
    "    \n",
    "    builtQuery = ast.literal_eval(queryTemplate%(_src,_dst,eventType,period,binSize,period))\n",
    "    response = es.search(index=\"rucio-events*\", body=builtQuery, request_timeout=600)\n",
    "\n",
    "    #For each bucket:\n",
    "    for r in response['aggregations']['3']['buckets']:\n",
    "        countVals.append(r['doc_count'])\n",
    "        timestamp.append(r['key'])\n",
    "\n",
    "    countVals = np.array(countVals)\n",
    "    timestamp = np.array(timestamp)\n",
    "\n",
    "    return countVals,timestamp\n"
   ]
  },
  {
   "cell_type": "code",
   "execution_count": null,
   "metadata": {
    "collapsed": false
   },
   "outputs": [],
   "source": [
    "\n"
=======
    "          \"sum\": {\n",
    "            \"field\": \"payload.duration\"\n",
    "          }\n",
    "        }\n",
    "      }\n",
    "    }\n",
    "  }\n",
    "}\n",
    "duration30 = es.search(index=\"rucio-events*\", body=queryDuration30, request_timeout=600)"
>>>>>>> 6effb060cda91a64ca2a6f241c33c2097bed9a12
   ]
  },
  {
   "cell_type": "code",
<<<<<<< HEAD
   "execution_count": 8,
=======
   "execution_count": 74,
>>>>>>> 6effb060cda91a64ca2a6f241c33c2097bed9a12
   "metadata": {
    "collapsed": false
   },
   "outputs": [],
   "source": [
<<<<<<< HEAD
    "def getHistogramData(_src,_dst,period,binSize):\n",
    "    #Acquire data for throughput calculation\n",
    "    field = \"payload.bytes\"\n",
    "    eventType = \"transfer-submitted\"\n",
    "    aggType = \"sum\"\n",
    "\n",
    "    payloadBytes,payloadTimestamp = getFieldWithTimestamp(_src,_dst,field,eventType,period,binSize,aggType)\n",
    "    print('Obtained bytecount data over chosen timerange.')\n",
    "    \n",
    "    #Acquire data for duration display\n",
    "\n",
    "    field = \"payload.duration\"\n",
    "    eventType = \"transfer-done\"\n",
    "    aggType = \"avg\"\n",
    "    payloadDuration,_ = getFieldWithTimestamp(_src,_dst,field,eventType,period,binSize,aggType)\n",
    "    print(\"Obtained duration data over chosen timerange.\")\n",
    "    # Get number of queued values\n",
    "    _src = \"CERN-PROD*\"\n",
    "    _dst = \"BNL*\"\n",
    "    eventType = \"transfer-submitted\"\n",
    "\n",
    "    countVals,_ = getCountWithTimestamp(_src,_dst,eventType,period,binSize)\n",
    "    print(\"Obtained # of queued files over chosen timerange.\")\n",
    "    \n",
    "    return payloadBytes, payloadTimestamp,payloadDuration,countVals"
=======
    "def getThing(res):\n",
    "    bytesize = []\n",
    "    times = []\n",
    "    for r in res['aggregations']['2']['buckets']:\n",
    "        bytesize.append(r['3']['value'])\n",
    "        times.append(r['key'])\n",
    "    times = np.array(times)\n",
    "    bytesize = np.array(bytesize)\n",
    "    return times,bytesize\n"
>>>>>>> 6effb060cda91a64ca2a6f241c33c2097bed9a12
   ]
  },
  {
   "cell_type": "code",
<<<<<<< HEAD
   "execution_count": 9,
=======
   "execution_count": 75,
>>>>>>> 6effb060cda91a64ca2a6f241c33c2097bed9a12
   "metadata": {
    "collapsed": false
   },
   "outputs": [
    {
<<<<<<< HEAD
     "name": "stdout",
     "output_type": "stream",
     "text": [
      "Obtained bytecount data over chosen timerange.\n",
      "Obtained duration data over chosen timerange.\n",
      "Obtained # of queued files over chosen timerange.\n"
     ]
    }
   ],
   "source": [
    "import matplotlib.dates as dt\n",
    "\n",
    "_src = 'CERN-PROD*'\n",
    "_dst = 'BNL*'\n",
    "period = \"30d\"\n",
    "binSize = \"12h\"\n",
    "\n",
    "payloadBytesWeek, payloadTimestampWeek,payloadDurationWeek,countVals = getHistogramData(_src,_dst,period,binSize)\n",
    "throughputWeek = payloadBytesWeek*(10**(-6))/(60**2) #units in MB/sec"
=======
     "data": {
      "text/plain": [
       "(31,)"
      ]
     },
     "execution_count": 75,
     "metadata": {},
     "output_type": "execute_result"
    }
   ],
   "source": [
    "bytesizeTime30,bytesize30 = getThing(bytes30)\n",
    "durationTime30, duration30 = getThing(duration30)\n",
    "\n",
    "throughput = byteSize30/duration30\n",
    "throughput.shape\n"
>>>>>>> 6effb060cda91a64ca2a6f241c33c2097bed9a12
   ]
  },
  {
   "cell_type": "code",
<<<<<<< HEAD
   "execution_count": 12,
=======
   "execution_count": 76,
>>>>>>> 6effb060cda91a64ca2a6f241c33c2097bed9a12
   "metadata": {
    "collapsed": false
   },
   "outputs": [
    {
     "data": {
<<<<<<< HEAD
      "image/png": "iVBORw0KGgoAAAANSUhEUgAABLsAAAL8CAYAAAAIi7cVAAAABHNCSVQICAgIfAhkiAAAAAlwSFlz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\nx3Ecx2lM/h+yV5WSEnxXqgAAAABJRU5ErkJggg==\n",
      "text/plain": [
       "<matplotlib.figure.Figure at 0x7f368d26da90>"
=======
      "text/plain": [
       "[<matplotlib.lines.Line2D at 0x7f7e26973978>]"
      ]
     },
     "execution_count": 76,
     "metadata": {},
     "output_type": "execute_result"
    },
    {
     "data": {
      "image/png": "iVBORw0KGgoAAAANSUhEUgAAAYsAAAEvCAYAAAC0be1zAAAABHNCSVQICAgIfAhkiAAAAAlwSFlz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\ngg==\n",
      "text/plain": [
       "<matplotlib.figure.Figure at 0x7f7e269954a8>"
>>>>>>> 6effb060cda91a64ca2a6f241c33c2097bed9a12
      ]
     },
     "metadata": {},
     "output_type": "display_data"
    }
   ],
<<<<<<< HEAD
   "source": [
    "#Manually add extra ticks to histogram plots\n",
    "ticks = 2 \n",
    "\n",
    "#First plot\n",
    "times = dt.epoch2num(payloadTimestampWeek/1000.)\n",
    "width = times[1] - times[0]\n",
    "\n",
    "plt.figure(figsize=(20,10))\n",
    "plt.subplot(311)\n",
    "plt.bar(times,throughputWeek,width=width)\n",
    "plt.grid()\n",
    "plt.title('Throughput over %s'%period)\n",
    "plt.ylabel('Average throughput [MB/sec]')\n",
    "ax=plt.gca()\n",
    "\n",
    "#Don't display the xtick labels for this plot\n",
    "ax.xaxis.set_major_formatter(plt.NullFormatter())\n",
    "\n",
    "start, end = ax.get_xlim()\n",
    "#Place extra xticks manually (change 1/4 to something different)\n",
    "plt.xticks(np.arange(start, end,ticks),rotation= 80 )\n",
    "\n",
    "#Second plot\n",
    "plt.subplot(312)\n",
    "plt.bar(times,payloadDurationWeek,width=width)\n",
    "plt.grid()\n",
    "plt.title('Duration over %s'%period)\n",
    "plt.ylabel('Duration [sec]')\n",
    "ax=plt.gca()\n",
    "\n",
    "#Don't display the xtick labels for this plot either\n",
    "ax.xaxis.set_major_formatter(plt.NullFormatter())\n",
    "\n",
    "start, end = ax.get_xlim()\n",
    "#Place extra xticks manually (change 1/4 to something different)\n",
    "plt.xticks(np.arange(start, end,ticks),rotation= 80 )\n",
    "\n",
    "\n",
    "\n",
    "#Third plot\n",
    "plt.subplot(313)\n",
    "plt.bar(times,countVals,width=width)\n",
    "plt.grid()\n",
    "plt.title('Files queued over %s'%period)\n",
    "plt.ylabel('# of files queued')\n",
    "ax=plt.gca()\n",
    "\n",
    "#Tedious date/time formatting\n",
    "xfmt = dt.DateFormatter('%d-%m-%Y %H:%M:%S')\n",
    "ax.xaxis.set_major_formatter(xfmt)\n",
    "ax.xaxis_date()\n",
    "\n",
    "start, end = ax.get_xlim()\n",
    "#Place extra xticks manually (change 1/4 to something different)\n",
    "plt.xticks(np.arange(start, end,ticks),rotation= 80 )\n",
    "plt.show()"
   ]
  },
  {
   "cell_type": "code",
   "execution_count": null,
   "metadata": {
    "collapsed": false
   },
   "outputs": [],
   "source": []
  },
  {
   "cell_type": "code",
   "execution_count": null,
   "metadata": {
    "collapsed": false
   },
   "outputs": [],
   "source": []
  },
  {
   "cell_type": "markdown",
   "metadata": {},
   "source": [
    "Graphing # of files vs. throughput, it looks like a linear relation, with the exception of some outliers. What are these outliers?"
   ]
  },
  {
   "cell_type": "code",
   "execution_count": null,
   "metadata": {
    "collapsed": false,
    "scrolled": true
   },
   "outputs": [],
   "source": [
    "plt.plot(countVals,throughputWeek,'k.')\n",
    "plt.xlabel('# of files')\n",
    "plt.ylabel('Throughput [MB/s]')"
   ]
  },
  {
   "cell_type": "code",
   "execution_count": null,
   "metadata": {
    "collapsed": false
   },
   "outputs": [],
   "source": [
    "G = np.corrcoef(countVals,throughputWeek)"
   ]
  },
  {
   "cell_type": "code",
   "execution_count": null,
   "metadata": {
    "collapsed": false
   },
   "outputs": [],
   "source": [
    "G"
   ]
  },
  {
=======
   "source": []
  },
  {
>>>>>>> 6effb060cda91a64ca2a6f241c33c2097bed9a12
   "cell_type": "code",
   "execution_count": null,
   "metadata": {
    "collapsed": true
   },
   "outputs": [],
   "source": []
  }
 ],
 "metadata": {
  "kernelspec": {
   "display_name": "Python 3",
   "language": "python",
   "name": "python3"
  },
  "language_info": {
   "codemirror_mode": {
    "name": "ipython",
    "version": 3
   },
   "file_extension": ".py",
   "mimetype": "text/x-python",
   "name": "python",
   "nbconvert_exporter": "python",
   "pygments_lexer": "ipython3",
   "version": "3.5.1"
  }
 },
 "nbformat": 4,
 "nbformat_minor": 0
}
